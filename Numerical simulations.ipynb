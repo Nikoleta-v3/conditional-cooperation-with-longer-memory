{
 "cells": [
  {
   "cell_type": "code",
   "execution_count": 1,
   "metadata": {},
   "outputs": [],
   "source": [
    "import numpy as np\n",
    "\n",
    "import sympy as sym\n",
    "\n",
    "import itertools"
   ]
  },
  {
   "cell_type": "code",
   "execution_count": 2,
   "metadata": {},
   "outputs": [],
   "source": [
    "from importlib.machinery import SourceFileLoader\n",
    "\n",
    "main = SourceFileLoader(\n",
    "    \"main\", \"main.py\"\n",
    ").load_module()\n",
    "\n",
    "from main import *"
   ]
  },
  {
   "cell_type": "code",
   "execution_count": 98,
   "metadata": {},
   "outputs": [],
   "source": [
    "import matplotlib.pyplot as plt\n",
    "\n",
    "import matplotlib\n",
    "\n",
    "from mpl_toolkits.axes_grid1 import make_axes_locatable"
   ]
  },
  {
   "cell_type": "code",
   "execution_count": 4,
   "metadata": {},
   "outputs": [],
   "source": [
    "import matplotlib.colors as colors"
   ]
  },
  {
   "cell_type": "code",
   "execution_count": 72,
   "metadata": {},
   "outputs": [],
   "source": [
    "plt.rcParams[\"font.weight\"] = \"bold\"\n",
    "plt.rcParams[\"axes.labelweight\"] = \"bold\""
   ]
  },
  {
   "cell_type": "markdown",
   "metadata": {},
   "source": [
    "**Payoffs Formulation**"
   ]
  },
  {
   "cell_type": "code",
   "execution_count": 5,
   "metadata": {},
   "outputs": [],
   "source": [
    "c = np.random.randint(0, 1)\n",
    "b = np.random.randint(1, 3)\n",
    "\n",
    "for _ in range(1000):\n",
    "    \n",
    "    p1, p2, q1, q2 = np.random.random(4)\n",
    "    \n",
    "    one_bit_M = transition_matrix_one_bit(p=[p1, p2], q=[q1, q2])\n",
    "    \n",
    "    two_bit_M = transition_matrix_two_bit(p=[p1, p2, p1, p2], q=[q1, q2, q1, q2])\n",
    "    \n",
    "    ss_one_bit = invariant_distribution(one_bit_M)\n",
    "    ss_two_bit = invariant_distribution(two_bit_M)    \n",
    "\n",
    "    \n",
    "    assert np.isclose(ss_one_bit @ np.array([b - c, -c, b, 0]),\n",
    "                      ss_two_bit @ payoffs_vector(c, b))"
   ]
  },
  {
   "cell_type": "markdown",
   "metadata": {},
   "source": [
    "**Cooperation**"
   ]
  },
  {
   "cell_type": "code",
   "execution_count": 6,
   "metadata": {},
   "outputs": [],
   "source": [
    "c = np.random.randint(0, 1)\n",
    "b = np.random.randint(1, 3)\n",
    "\n",
    "for _ in range(1000):\n",
    "    \n",
    "    p1, p2, q1, q2 = np.random.random(4)\n",
    "    \n",
    "    one_bit_M = transition_matrix_one_bit(p=[p1, p2], q=[q1, q2])\n",
    "    \n",
    "    two_bit_M = transition_matrix_two_bit(p=[p1, p2, p1, p2], q=[q1, q2, q1, q2])\n",
    "    \n",
    "    ss_one_bit = invariant_distribution(one_bit_M)\n",
    "    ss_two_bit = invariant_distribution(two_bit_M) \n",
    "    \n",
    "    assert np.isclose(ss_one_bit[0] + ss_one_bit[1],\n",
    "                     (ss_two_bit[0] + ss_two_bit[4] + ss_two_bit[8] + ss_two_bit[12] +\n",
    "                      ss_two_bit[1] + ss_two_bit[5] + ss_two_bit[9] + ss_two_bit[13]))"
   ]
  },
  {
   "cell_type": "code",
   "execution_count": 7,
   "metadata": {},
   "outputs": [],
   "source": [
    "def cooperation(ss):\n",
    "    return (ss[0] + ss[4] + ss[8] + ss[12] +\n",
    "            ss[1] + ss[5] + ss[9] + ss[13])"
   ]
  },
  {
   "cell_type": "markdown",
   "metadata": {},
   "source": [
    "**Checks for matlab code**"
   ]
  },
  {
   "cell_type": "code",
   "execution_count": 8,
   "metadata": {},
   "outputs": [],
   "source": [
    "p1, p2 = np.random.random(4), np.random.random(4)"
   ]
  },
  {
   "cell_type": "code",
   "execution_count": 9,
   "metadata": {},
   "outputs": [
    {
     "data": {
      "text/plain": [
       "(array([0.48957168, 0.77317044, 0.9690389 , 0.26523513]),\n",
       " array([0.47410322, 0.91145109, 0.46585398, 0.63095081]))"
      ]
     },
     "execution_count": 9,
     "metadata": {},
     "output_type": "execute_result"
    }
   ],
   "source": [
    "p1, p2"
   ]
  },
  {
   "cell_type": "code",
   "execution_count": 10,
   "metadata": {},
   "outputs": [],
   "source": [
    "M  = transition_matrix_two_bit(p1, p2)\n",
    "\n",
    "ss = invariant_distribution(M) "
   ]
  },
  {
   "cell_type": "code",
   "execution_count": 11,
   "metadata": {},
   "outputs": [
    {
     "data": {
      "text/plain": [
       "array([0.11983649, 0.13509718, 0.05956   , 0.06716756, 0.07388903,\n",
       "       0.08248378, 0.05046434, 0.05624635, 0.11982726, 0.03538482,\n",
       "       0.04461744, 0.01188721, 0.06810845, 0.01011773, 0.05707495,\n",
       "       0.00823742])"
      ]
     },
     "execution_count": 11,
     "metadata": {},
     "output_type": "execute_result"
    }
   ],
   "source": [
    "ss"
   ]
  },
  {
   "cell_type": "code",
   "execution_count": 12,
   "metadata": {},
   "outputs": [],
   "source": [
    "c = 0.1"
   ]
  },
  {
   "cell_type": "code",
   "execution_count": 13,
   "metadata": {},
   "outputs": [
    {
     "data": {
      "text/plain": [
       "0.5289034870630169"
      ]
     },
     "execution_count": 13,
     "metadata": {},
     "output_type": "execute_result"
    }
   ],
   "source": [
    "ss @ payoffs_vector(c, b)"
   ]
  },
  {
   "cell_type": "code",
   "execution_count": 14,
   "metadata": {},
   "outputs": [
    {
     "data": {
      "text/plain": [
       "0.6447447294734462"
      ]
     },
     "execution_count": 14,
     "metadata": {},
     "output_type": "execute_result"
    }
   ],
   "source": [
    "cooperation(ss)"
   ]
  },
  {
   "cell_type": "code",
   "execution_count": 16,
   "metadata": {},
   "outputs": [
    {
     "data": {
      "text/plain": [
       "0.5543569774328786"
      ]
     },
     "execution_count": 16,
     "metadata": {},
     "output_type": "execute_result"
    }
   ],
   "source": [
    "(ss_two_bit[0] + ss_two_bit[4] + ss_two_bit[8] + ss_two_bit[12] +\n",
    "            ss_two_bit[1] + ss_two_bit[5] + ss_two_bit[9] + ss_two_bit[13])"
   ]
  },
  {
   "cell_type": "markdown",
   "metadata": {},
   "source": [
    "**Evolutionary \"simulations\"**"
   ]
  },
  {
   "cell_type": "code",
   "execution_count": 17,
   "metadata": {},
   "outputs": [],
   "source": [
    "import pandas as pd"
   ]
  },
  {
   "cell_type": "code",
   "execution_count": 19,
   "metadata": {},
   "outputs": [],
   "source": [
    "names = [\"p_1\", \"p_2\", \"p_3\", \"p_4\", \"t\", \"cooperation\"]\n",
    "cs = [0, 0.1, 0.2, 0.3, 0.4, 0.5, 0.6, 0.7, 0.8, 0.9, 1]"
   ]
  },
  {
   "cell_type": "code",
   "execution_count": 107,
   "metadata": {},
   "outputs": [],
   "source": [
    "dfs = [pd.read_csv(f\"data/matlab_two_bits_c_{c}.csv\", names=names) for c in cs]\n",
    "\n",
    "df2s = [pd.read_csv(f\"data/matlab_one_bit_b_1_c_{c}.csv\", names=names) for c in cs]"
   ]
  },
  {
   "cell_type": "code",
   "execution_count": 110,
   "metadata": {},
   "outputs": [],
   "source": [
    "dfs = [df.drop_duplicates() for df in dfs]\n",
    "\n",
    "df2s = [df.drop_duplicates() for df in df2s]"
   ]
  },
  {
   "cell_type": "code",
   "execution_count": 111,
   "metadata": {},
   "outputs": [],
   "source": [
    "def frequencies(dfs):\n",
    "    \n",
    "    for df in dfs:\n",
    "        frequencies = []\n",
    "        previous = 0\n",
    "        for value in df[\"t\"][1:]:\n",
    "            frequencies.append(value - previous)\n",
    "            previous = value\n",
    "        frequencies.append(10 ** 7 - previous)\n",
    "\n",
    "        df['frequencies'] = np.array(frequencies)\n",
    "        df['frequencies norm'] = np.array(frequencies) / 10 ** 7\n",
    "        \n",
    "    return dfs"
   ]
  },
  {
   "cell_type": "code",
   "execution_count": 112,
   "metadata": {},
   "outputs": [],
   "source": [
    "dfs = frequencies(dfs)"
   ]
  },
  {
   "cell_type": "code",
   "execution_count": 113,
   "metadata": {},
   "outputs": [],
   "source": [
    "df2s = frequencies(df2s)"
   ]
  },
  {
   "cell_type": "code",
   "execution_count": 88,
   "metadata": {},
   "outputs": [],
   "source": [
    "points = [[sum(df['frequencies norm'] * df['cooperation']) for df in dfs], \n",
    "          [sum(df['frequencies norm'] * df['cooperation']) for df in df2s]]"
   ]
  },
  {
   "cell_type": "code",
   "execution_count": 89,
   "metadata": {},
   "outputs": [
    {
     "data": {
      "image/png": "[encoded data removed]",
      "text/plain": [
       "<Figure size 432x288 with 1 Axes>"
      ]
     },
     "metadata": {
      "needs_background": "light"
     },
     "output_type": "display_data"
    }
   ],
   "source": [
    "plt.plot(np.linspace(0, 1, 11), points[0], '-o', label='one bit');\n",
    "plt.plot(np.linspace(0, 1, 11), points[1], '--o', label='two bits');\n",
    "\n",
    "plt.ylim(0, 1);\n",
    "\n",
    "plt.yticks(np.arange(0, 2))\n",
    "\n",
    "plt.xlabel(\"c\")\n",
    "plt.ylabel(\"av. cooperation\")\n",
    "\n",
    "plt.legend();"
   ]
  },
  {
   "cell_type": "code",
   "execution_count": 93,
   "metadata": {},
   "outputs": [],
   "source": [
    "heatmaps = []\n",
    "extents = []\n",
    "\n",
    "\n",
    "for df in dfs:\n",
    "    ps, qs = [], []\n",
    "    for p, q, v in zip(df[\"p_1\"], df[\"p_2\"], df[\"frequencies\"]):\n",
    "        for _ in range(int(v)):\n",
    "            ps.append(p)\n",
    "            qs.append(q)\n",
    "\n",
    "\n",
    "    heatmap, xedges, yedges = np.histogram2d(ps, qs, bins=19)\n",
    "\n",
    "    extent = [xedges[0], xedges[-1], yedges[0], yedges[-1]]\n",
    "\n",
    "    heatmaps.append(heatmap)\n",
    "    extents.append(extent)"
   ]
  },
  {
   "cell_type": "code",
   "execution_count": 94,
   "metadata": {},
   "outputs": [],
   "source": [
    "min_ = min([heatmap.min() for heatmap in heatmaps])\n",
    "\n",
    "max_ = max([heatmap.max() for heatmap in heatmaps])"
   ]
  },
  {
   "cell_type": "code",
   "execution_count": 99,
   "metadata": {},
   "outputs": [],
   "source": [
    "reds, blues = matplotlib.cm.get_cmap(\"Oranges\"), matplotlib.cm.get_cmap(\"Blues\")"
   ]
  },
  {
   "cell_type": "code",
   "execution_count": 101,
   "metadata": {},
   "outputs": [
    {
     "data": {
      "image/png": "[encoded data removed]",
      "text/plain": [
       "<Figure size 1080x540 with 16 Axes>"
      ]
     },
     "metadata": {
      "needs_background": "light"
     },
     "output_type": "display_data"
    }
   ],
   "source": [
    "fig, axes = plt.subplots(nrows=2, ncols=4, figsize=(15, 7.5))\n",
    "\n",
    "for i, heatmap in enumerate(heatmaps[1:-1]):\n",
    "    \n",
    "    index = (int(i / 4), (i % 4))\n",
    "    \n",
    "    im = axes[index].imshow(heatmap.T, extent=extent, origin=\"lower\",\n",
    "                            norm=colors.LogNorm(vmin=min_, vmax=max_),\n",
    "                            cmap=blues)\n",
    "\n",
    "    divider = make_axes_locatable(axes[index])\n",
    "    cax = divider.append_axes('right', size='5%', pad=0.05)\n",
    "    fig.colorbar(im, cax=cax, orientation='vertical')\n",
    "\n",
    "    axes[index].set_xticks(np.linspace(0, 1, 2))\n",
    "    axes[index].set_yticks(np.linspace(0, 1, 2));\n",
    "    axes[index].set_xlabel(\"$p$\")\n",
    "    axes[index].set_ylabel(\"$q$\")\n",
    "    \n",
    "plt.tight_layout()"
   ]
  },
  {
   "cell_type": "code",
   "execution_count": 103,
   "metadata": {},
   "outputs": [],
   "source": [
    "heatmaps = []\n",
    "extents = []\n",
    "\n",
    "\n",
    "for df in df2s:\n",
    "    ps, qs = [], []\n",
    "    for p, q, v in zip(df[\"p_1\"], df[\"p_2\"], df[\"frequencies\"]):\n",
    "        for _ in range(int(v)):\n",
    "            ps.append(p)\n",
    "            qs.append(q)\n",
    "\n",
    "\n",
    "    heatmap, xedges, yedges = np.histogram2d(ps, qs, bins=19)\n",
    "\n",
    "    extent = [xedges[0], xedges[-1], yedges[0], yedges[-1]]\n",
    "\n",
    "    heatmaps.append(heatmap)\n",
    "    extents.append(extent)\n",
    "    \n",
    "min_ = min([heatmap.min() for heatmap in heatmaps])\n",
    "\n",
    "max_ = max([heatmap.max() for heatmap in heatmaps])"
   ]
  },
  {
   "cell_type": "code",
   "execution_count": 104,
   "metadata": {},
   "outputs": [
    {
     "data": {
      "image/png": "[encoded data removed]",
      "text/plain": [
       "<Figure size 1080x540 with 16 Axes>"
      ]
     },
     "metadata": {
      "needs_background": "light"
     },
     "output_type": "display_data"
    }
   ],
   "source": [
    "fig, axes = plt.subplots(nrows=2, ncols=4, figsize=(15, 7.5))\n",
    "\n",
    "for i, heatmap in enumerate(heatmaps[1:-1]):\n",
    "    \n",
    "    index = (int(i / 4), (i % 4))\n",
    "    \n",
    "    im = axes[index].imshow(heatmap.T, extent=extent, origin=\"lower\",\n",
    "                            norm=colors.LogNorm(vmin=min_, vmax=max_),\n",
    "                            cmap=blues)\n",
    "\n",
    "    divider = make_axes_locatable(axes[index])\n",
    "    cax = divider.append_axes('right', size='5%', pad=0.05)\n",
    "    fig.colorbar(im, cax=cax, orientation='vertical')\n",
    "\n",
    "    axes[index].set_xticks(np.linspace(0, 1, 2))\n",
    "    axes[index].set_yticks(np.linspace(0, 1, 2));\n",
    "    axes[index].set_xlabel(\"$p$\")\n",
    "    axes[index].set_ylabel(\"$q$\")\n",
    "    \n",
    "plt.tight_layout()"
   ]
  },
  {
   "cell_type": "code",
   "execution_count": null,
   "metadata": {},
   "outputs": [],
   "source": []
  }
 ],
 "metadata": {
  "kernelspec": {
   "display_name": "Python 3",
   "language": "python",
   "name": "python3"
  },
  "language_info": {
   "codemirror_mode": {
    "name": "ipython",
    "version": 3
   },
   "file_extension": ".py",
   "mimetype": "text/x-python",
   "name": "python",
   "nbconvert_exporter": "python",
   "pygments_lexer": "ipython3",
   "version": "3.8.3"
  }
 },
 "nbformat": 4,
 "nbformat_minor": 4
}
