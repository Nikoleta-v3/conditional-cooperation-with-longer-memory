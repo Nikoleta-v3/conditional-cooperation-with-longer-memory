{
 "cells": [
  {
   "cell_type": "code",
   "execution_count": 1,
   "metadata": {},
   "outputs": [],
   "source": [
    "import numpy as np\n",
    "\n",
    "import sympy as sym\n",
    "\n",
    "import itertools"
   ]
  },
  {
   "cell_type": "code",
   "execution_count": 2,
   "metadata": {},
   "outputs": [],
   "source": [
    "from importlib.machinery import SourceFileLoader\n",
    "\n",
    "main = SourceFileLoader(\n",
    "    \"main\", \"main.py\"\n",
    ").load_module()\n",
    "\n",
    "from main import *"
   ]
  },
  {
   "cell_type": "code",
   "execution_count": 3,
   "metadata": {},
   "outputs": [],
   "source": [
    "import matplotlib.pyplot as plt\n",
    "\n",
    "import matplotlib\n",
    "\n",
    "from mpl_toolkits.axes_grid1 import make_axes_locatable"
   ]
  },
  {
   "cell_type": "code",
   "execution_count": 4,
   "metadata": {},
   "outputs": [],
   "source": [
    "import matplotlib.colors as colors"
   ]
  },
  {
   "cell_type": "code",
   "execution_count": 5,
   "metadata": {},
   "outputs": [],
   "source": [
    "plt.rcParams[\"font.weight\"] = \"bold\"\n",
    "plt.rcParams[\"axes.labelweight\"] = \"bold\""
   ]
  },
  {
   "cell_type": "markdown",
   "metadata": {},
   "source": [
    "**Payoffs Formulation Two bits**"
   ]
  },
  {
   "cell_type": "code",
   "execution_count": 6,
   "metadata": {},
   "outputs": [],
   "source": [
    "c = np.random.randint(0, 1)\n",
    "b = np.random.randint(1, 3)\n",
    "\n",
    "for _ in range(1000):\n",
    "    \n",
    "    p1, p2, q1, q2 = np.random.random(4)\n",
    "    \n",
    "    one_bit_M = transition_matrix_one_bit(p=[p1, p2], q=[q1, q2])\n",
    "    \n",
    "    two_bit_M = transition_matrix_two_bit(p=[p1, p2, p1, p2], q=[q1, q2, q1, q2])\n",
    "    \n",
    "    ss_one_bit = invariant_distribution(one_bit_M)\n",
    "    ss_two_bit = invariant_distribution(two_bit_M)    \n",
    "\n",
    "    \n",
    "    assert np.isclose(ss_one_bit @ np.array([b - c, -c, b, 0]),\n",
    "                      ss_two_bit @ payoffs_vector(c, b))"
   ]
  },
  {
   "cell_type": "markdown",
   "metadata": {},
   "source": [
    "**Cooperation**"
   ]
  },
  {
   "cell_type": "code",
   "execution_count": 7,
   "metadata": {},
   "outputs": [],
   "source": [
    "c = np.random.randint(0, 1)\n",
    "b = np.random.randint(1, 3)\n",
    "\n",
    "for _ in range(1000):\n",
    "    \n",
    "    p1, p2, q1, q2 = np.random.random(4)\n",
    "    \n",
    "    one_bit_M = transition_matrix_one_bit(p=[p1, p2], q=[q1, q2])\n",
    "    \n",
    "    two_bit_M = transition_matrix_two_bit(p=[p1, p2, p1, p2], q=[q1, q2, q1, q2])\n",
    "    \n",
    "    ss_one_bit = invariant_distribution(one_bit_M)\n",
    "    ss_two_bit = invariant_distribution(two_bit_M) \n",
    "    \n",
    "    assert np.isclose(ss_one_bit[0] + ss_one_bit[1],\n",
    "                     (ss_two_bit[0] + ss_two_bit[4] + ss_two_bit[8] + ss_two_bit[12] +\n",
    "                      ss_two_bit[1] + ss_two_bit[5] + ss_two_bit[9] + ss_two_bit[13]))"
   ]
  },
  {
   "cell_type": "code",
   "execution_count": 35,
   "metadata": {},
   "outputs": [],
   "source": [
    "def cooperation(ss):\n",
    "    return (ss[0] + ss[4] + ss[8] + ss[12] +\n",
    "            ss[1] + ss[5] + ss[9] + ss[13])"
   ]
  },
  {
   "cell_type": "code",
   "execution_count": 67,
   "metadata": {},
   "outputs": [],
   "source": [
    "def cooperation_three_bits(ss):\n",
    "    return sum([s for i, s in enumerate(ss) if i in np.arange(0, 64, 4)] +\n",
    "               [s for i, s in enumerate(ss) if i in np.arange(1, 64, 4)])"
   ]
  },
  {
   "cell_type": "markdown",
   "metadata": {},
   "source": [
    "**Payoffs Formulation Three bits**"
   ]
  },
  {
   "cell_type": "code",
   "execution_count": 68,
   "metadata": {},
   "outputs": [],
   "source": [
    "c = np.random.randint(0, 2)\n",
    "b = np.random.randint(1, 4)"
   ]
  },
  {
   "cell_type": "code",
   "execution_count": 69,
   "metadata": {},
   "outputs": [],
   "source": [
    "c = np.random.randint(0, 1)\n",
    "b = np.random.randint(1, 3)\n",
    "\n",
    "for _ in range(1000):\n",
    "    \n",
    "    p1, p2, p3, p4, q1, q2, q3, q4 = np.random.random(8)\n",
    "    \n",
    "    two_bit_M = transition_matrix_two_bit(p=[p1, p2, p3, p4], q=[q1, q2, q3, q4])\n",
    "    \n",
    "    three_bit_M = transition_matrix_three_bits(p=[p1, p2, p3, p4, p1, p2, p3, p4], \n",
    "                                               q=[q1, q2, q3, q4, q1, q2, q3, q4])\n",
    "    \n",
    "    ss_two_bit = invariant_distribution(two_bit_M)\n",
    "    ss_three_bit = invariant_distribution(three_bit_M)    \n",
    "\n",
    "    \n",
    "    assert np.isclose(ss_two_bit @ payoffs_vector(c, b),\n",
    "                      ss_three_bit @ payoffs_vector(c, b, dim=16))"
   ]
  },
  {
   "cell_type": "code",
   "execution_count": 70,
   "metadata": {},
   "outputs": [],
   "source": [
    "c = np.random.randint(0, 1)\n",
    "b = np.random.randint(1, 3)\n",
    "\n",
    "for _ in range(1000):\n",
    "    \n",
    "    p1, p2, q1, q2 = np.random.random(4)\n",
    "    \n",
    "    \n",
    "    two_bit_M = transition_matrix_two_bit(p=[p1, p2, p3, p4], q=[q1, q2, q3, q4])\n",
    "    \n",
    "    three_bit_M = transition_matrix_three_bits(p=[p1, p2, p3, p4, p1, p2, p3, p4], \n",
    "                                               q=[q1, q2, q3, q4, q1, q2, q3, q4])\n",
    "    \n",
    "    ss_two_bit = invariant_distribution(two_bit_M)\n",
    "    ss_three_bit = invariant_distribution(three_bit_M)\n",
    "    \n",
    "    assert np.isclose(cooperation(ss_two_bit),\n",
    "                      cooperation_three_bits(ss_three_bit))"
   ]
  },
  {
   "cell_type": "code",
   "execution_count": 76,
   "metadata": {},
   "outputs": [
    {
     "data": {
      "text/plain": [
       "array([ 1,  5,  9, 13, 17, 21, 25, 29, 33, 37, 41, 45, 49, 53, 57, 61])"
      ]
     },
     "execution_count": 76,
     "metadata": {},
     "output_type": "execute_result"
    }
   ],
   "source": [
    "np.arange(1, 64, 4)"
   ]
  },
  {
   "cell_type": "code",
   "execution_count": 55,
   "metadata": {},
   "outputs": [
    {
     "data": {
      "text/plain": [
       "0.6730186866724541"
      ]
     },
     "execution_count": 55,
     "metadata": {},
     "output_type": "execute_result"
    }
   ],
   "source": [
    "cooperation_three_bits(ss_three_bit)"
   ]
  },
  {
   "cell_type": "markdown",
   "metadata": {},
   "source": [
    "**Checks for matlab code**"
   ]
  },
  {
   "cell_type": "code",
   "execution_count": 9,
   "metadata": {},
   "outputs": [],
   "source": [
    "p1, p2 = np.random.random(4), np.random.random(4)"
   ]
  },
  {
   "cell_type": "code",
   "execution_count": 10,
   "metadata": {},
   "outputs": [
    {
     "data": {
      "text/plain": [
       "(array([0.9600206 , 0.04541331, 0.71056106, 0.98220487]),\n",
       " array([0.83668461, 0.03192174, 0.29567438, 0.87814695]))"
      ]
     },
     "execution_count": 10,
     "metadata": {},
     "output_type": "execute_result"
    }
   ],
   "source": [
    "p1, p2"
   ]
  },
  {
   "cell_type": "code",
   "execution_count": 11,
   "metadata": {},
   "outputs": [],
   "source": [
    "M  = transition_matrix_two_bit(p1, p2)\n",
    "\n",
    "ss = invariant_distribution(M) "
   ]
  },
  {
   "cell_type": "code",
   "execution_count": 12,
   "metadata": {},
   "outputs": [
    {
     "data": {
      "text/plain": [
       "array([0.29148134, 0.07839233, 0.0306605 , 0.00937928, 0.07993666,\n",
       "       0.06574564, 0.09038078, 0.07623087, 0.02362041, 0.09352887,\n",
       "       0.00709159, 0.02737405, 0.01487504, 0.0746271 , 0.02348205,\n",
       "       0.0131935 ])"
      ]
     },
     "execution_count": 12,
     "metadata": {},
     "output_type": "execute_result"
    }
   ],
   "source": [
    "ss"
   ]
  },
  {
   "cell_type": "code",
   "execution_count": 13,
   "metadata": {},
   "outputs": [],
   "source": [
    "c = 0.1"
   ]
  },
  {
   "cell_type": "code",
   "execution_count": 14,
   "metadata": {},
   "outputs": [
    {
     "data": {
      "text/plain": [
       "0.48930763094133084"
      ]
     },
     "execution_count": 14,
     "metadata": {},
     "output_type": "execute_result"
    }
   ],
   "source": [
    "ss @ payoffs_vector(c, b)"
   ]
  },
  {
   "cell_type": "code",
   "execution_count": 15,
   "metadata": {},
   "outputs": [
    {
     "data": {
      "text/plain": [
       "0.7222073834108085"
      ]
     },
     "execution_count": 15,
     "metadata": {},
     "output_type": "execute_result"
    }
   ],
   "source": [
    "cooperation(ss)"
   ]
  },
  {
   "cell_type": "code",
   "execution_count": 16,
   "metadata": {},
   "outputs": [
    {
     "data": {
      "text/plain": [
       "0.47860163919623266"
      ]
     },
     "execution_count": 16,
     "metadata": {},
     "output_type": "execute_result"
    }
   ],
   "source": [
    "(ss_two_bit[0] + ss_two_bit[4] + ss_two_bit[8] + ss_two_bit[12] +\n",
    "            ss_two_bit[1] + ss_two_bit[5] + ss_two_bit[9] + ss_two_bit[13])"
   ]
  },
  {
   "cell_type": "markdown",
   "metadata": {},
   "source": [
    "**check the three bits case**"
   ]
  },
  {
   "cell_type": "code",
   "execution_count": 87,
   "metadata": {},
   "outputs": [
    {
     "data": {
      "text/plain": [
       "array([[0.38936966, 0.27967184, 0.71714219, 0.62848394, 0.64400978,\n",
       "        0.55232672, 0.47255486, 0.93458296]])"
      ]
     },
     "execution_count": 87,
     "metadata": {},
     "output_type": "execute_result"
    }
   ],
   "source": [
    "p = np.random.random((1, 8))\n",
    "p"
   ]
  },
  {
   "cell_type": "code",
   "execution_count": 88,
   "metadata": {},
   "outputs": [],
   "source": [
    "M = transition_matrix_three_bits(p[0], p[0])\n",
    "\n",
    "ss = invariant_distribution(M)"
   ]
  },
  {
   "cell_type": "code",
   "execution_count": 90,
   "metadata": {},
   "outputs": [],
   "source": [
    "c, b = 1, 3"
   ]
  },
  {
   "cell_type": "code",
   "execution_count": 92,
   "metadata": {},
   "outputs": [
    {
     "data": {
      "text/plain": [
       "1.1106122151571145"
      ]
     },
     "execution_count": 92,
     "metadata": {},
     "output_type": "execute_result"
    }
   ],
   "source": [
    "ss @ payoffs_vector(c, b, dim=16)"
   ]
  },
  {
   "cell_type": "code",
   "execution_count": 93,
   "metadata": {},
   "outputs": [
    {
     "data": {
      "text/plain": [
       "array([[0.38936966, 0.27967184, 0.71714219, 0.62848394, 0.64400978,\n",
       "        0.55232672, 0.47255486, 0.93458296]])"
      ]
     },
     "execution_count": 93,
     "metadata": {},
     "output_type": "execute_result"
    }
   ],
   "source": [
    "p"
   ]
  },
  {
   "cell_type": "markdown",
   "metadata": {},
   "source": [
    "**Evolutionary \"simulations\"**"
   ]
  },
  {
   "cell_type": "code",
   "execution_count": 94,
   "metadata": {},
   "outputs": [],
   "source": [
    "import pandas as pd"
   ]
  },
  {
   "cell_type": "code",
   "execution_count": 95,
   "metadata": {},
   "outputs": [],
   "source": [
    "names = [\"p_1\", \"p_2\", \"p_3\", \"p_4\", \"t\", \"cooperation\"]\n",
    "cs = [0, 0.1, 0.2, 0.3, 0.4, 0.5, 0.6, 0.7, 0.8, 0.9, 1]"
   ]
  },
  {
   "cell_type": "code",
   "execution_count": 96,
   "metadata": {},
   "outputs": [],
   "source": [
    "df_beta_one = [[pd.read_csv(f\"data/matlab_two_bits_c_{c}.csv\", names=names) for c in cs],\n",
    "               [pd.read_csv(f\"data/matlab_one_bit_b_1_c_{c}.csv\", names=names) for c in cs]]\n",
    "\n",
    "df_beta_point_one = [[pd.read_csv(f\"data/matlab_two_bits_beta_0.1_seed_1_c_{c}.csv\", names=names) for c in cs],\n",
    "                     [pd.read_csv(f\"data/matlab_one_bit_beta_0.1_seed_1_c_{c}.csv\", names=names) for c in cs]]\n",
    "\n",
    "df_beta_ten = [[pd.read_csv(f\"data/matlab_two_bits_beta_10_seed_1_c_{c}.csv\", names=names) for c in cs],\n",
    "                     [pd.read_csv(f\"data/matlab_one_bit_beta_10_seed_1_c_{c}.csv\", names=names) for c in cs]]"
   ]
  },
  {
   "cell_type": "code",
   "execution_count": 97,
   "metadata": {},
   "outputs": [],
   "source": [
    "df_beta_one = [[df.drop_duplicates() for df in dfs] for dfs in df_beta_one]\n",
    "df_beta_point_one = [[df.drop_duplicates() for df in dfs] for dfs in df_beta_point_one]\n",
    "df_beta_ten = [[df.drop_duplicates() for df in dfs] for dfs in df_beta_ten]"
   ]
  },
  {
   "cell_type": "code",
   "execution_count": 98,
   "metadata": {},
   "outputs": [],
   "source": [
    "def frequencies(dfs, max_steps=10 ** 7):\n",
    "    \n",
    "    for df in dfs:\n",
    "        frequencies = []\n",
    "        previous = 0\n",
    "        for value in df[\"t\"][1:]:\n",
    "            frequencies.append(value - previous)\n",
    "            previous = value\n",
    "        frequencies.append(max_steps - previous)\n",
    "\n",
    "        df['frequencies'] = np.array(frequencies)\n",
    "        df['frequencies norm'] = np.array(frequencies) / max_steps\n",
    "        \n",
    "    return dfs"
   ]
  },
  {
   "cell_type": "code",
   "execution_count": 99,
   "metadata": {},
   "outputs": [],
   "source": [
    "df_beta_one = [frequencies(dfs) for dfs in df_beta_one]\n",
    "df_beta_point_one = [frequencies(dfs) for dfs in df_beta_point_one]\n",
    "df_beta_ten = [frequencies(dfs, 10 ** 8) for dfs in df_beta_ten]"
   ]
  },
  {
   "cell_type": "code",
   "execution_count": 100,
   "metadata": {},
   "outputs": [],
   "source": [
    "labels = [r\"$\\beta$=0.1\", r\"$\\beta$=1\", r\"$\\beta$=10\"]"
   ]
  },
  {
   "cell_type": "code",
   "execution_count": 101,
   "metadata": {},
   "outputs": [
    {
     "data": {
      "image/png": "[encoded data removed]",
      "text/plain": [
       "<Figure size 612x216 with 3 Axes>"
      ]
     },
     "metadata": {
      "needs_background": "light"
     },
     "output_type": "display_data"
    }
   ],
   "source": [
    "fig, axes = plt.subplots(ncols=3, figsize=(8.5, 3))\n",
    "\n",
    "for i, gdfs in enumerate([df_beta_point_one, df_beta_one, df_beta_ten]):\n",
    "    \n",
    "    points = [[sum(df['frequencies norm'] * df['cooperation']) for df in dfs] for dfs in gdfs]\n",
    "\n",
    "    axes[i].plot(np.linspace(0, 1, 11), points[0], '-o', label='two bits');\n",
    "    axes[i].plot(np.linspace(0, 1, 11), points[1], '--o', label='one bit');\n",
    "\n",
    "    axes[i].set_ylim(0, 1);\n",
    "\n",
    "    axes[i].set_yticks(np.arange(0, 2))\n",
    "\n",
    "    axes[i].set_xlabel(\"c\")\n",
    "    \n",
    "    axes[i].legend();\n",
    "    axes[i].set_title(labels[i])\n",
    "\n",
    "axes[0].set_ylabel(\"av. cooperation\");\n"
   ]
  },
  {
   "cell_type": "code",
   "execution_count": 107,
   "metadata": {},
   "outputs": [],
   "source": [
    "dfs = [pd.read_csv(f\"data/matlab_two_bits_beta_1_seed_{seed}_c_0.3.csv\", names=names) for seed in range(1, 11)]\n",
    "\n",
    "df2s = [pd.read_csv(f\"data/matlab_one_bit_beta_1_seed_{seed}_c_0.3.csv\", names=names) for seed in range(1, 11)]"
   ]
  },
  {
   "cell_type": "code",
   "execution_count": 108,
   "metadata": {},
   "outputs": [],
   "source": [
    "dfs = [df.drop_duplicates() for df in dfs]\n",
    "\n",
    "df2s = [df.drop_duplicates() for df in df2s]"
   ]
  },
  {
   "cell_type": "code",
   "execution_count": 109,
   "metadata": {},
   "outputs": [],
   "source": [
    "dfs = frequencies(dfs)\n",
    "\n",
    "df2s = frequencies(df2s)"
   ]
  },
  {
   "cell_type": "code",
   "execution_count": 110,
   "metadata": {},
   "outputs": [],
   "source": [
    "abundance = [(df.iloc[df['frequencies'].idxmax()]['p_1'], \n",
    "              df.iloc[df['frequencies'].idxmax()]['p_2']) for df in df2s]"
   ]
  },
  {
   "cell_type": "code",
   "execution_count": 111,
   "metadata": {},
   "outputs": [],
   "source": [
    "abundance2 = [(df.iloc[df['frequencies'].idxmax()]['p_1'], \n",
    "               df.iloc[df['frequencies'].idxmax()]['p_2'],\n",
    "               df.iloc[df['frequencies'].idxmax()]['p_3'],\n",
    "               df.iloc[df['frequencies'].idxmax()]['p_4'],) for df in dfs]"
   ]
  },
  {
   "cell_type": "markdown",
   "metadata": {},
   "source": [
    "**Sanity check cooperations**"
   ]
  },
  {
   "cell_type": "code",
   "execution_count": 112,
   "metadata": {},
   "outputs": [
    {
     "data": {
      "text/plain": [
       "[0.47908030917487,\n",
       " 0.4888252362629993,\n",
       " 0.48686901079070233,\n",
       " 0.4751493507703379,\n",
       " 0.4825297771617513,\n",
       " 0.4836424239655296,\n",
       " 0.48975617077648353,\n",
       " 0.4851188392374209,\n",
       " 0.4884323794816208,\n",
       " 0.4844536763217556]"
      ]
     },
     "execution_count": 112,
     "metadata": {},
     "output_type": "execute_result"
    }
   ],
   "source": [
    "cooperation_rate = [sum(df['frequencies norm'] * df['cooperation']) for df in df2s]\n",
    "cooperation_rate"
   ]
  },
  {
   "cell_type": "code",
   "execution_count": 113,
   "metadata": {},
   "outputs": [
    {
     "data": {
      "image/png": "[encoded data removed]",
      "text/plain": [
       "<Figure size 720x252 with 2 Axes>"
      ]
     },
     "metadata": {
      "needs_background": "light"
     },
     "output_type": "display_data"
    }
   ],
   "source": [
    "fig, axes = plt.subplots(ncols=2, figsize=(10, 3.5))\n",
    "\n",
    "heights = [[b[i] for b in abundance] for i in range(2)]\n",
    "\n",
    "errors = [np.std(h) for h in heights]\n",
    "\n",
    "for i in range(2):\n",
    "    axes[0].bar(i + 1, np.mean(heights[i]), yerr=errors[i], color='C0')\n",
    "    \n",
    "axes[0].set_xticks([1, 2]);\n",
    "axes[0].set_xticklabels([\"C\", \"D\"])\n",
    "axes[0].set_title('One bit', fontweight='bold');\n",
    "\n",
    "axes[0].set_ylabel(\"cooperation probability\");\n",
    "\n",
    "heights = [[b[i] for b in abundance2] for i in range(4)]\n",
    "errors = [np.std(h) for h in heights]\n",
    "\n",
    "for i in range(4):\n",
    "    axes[1].bar(i + 1, np.mean(heights[i]), yerr=errors[i], color='C1')\n",
    "\n",
    "axes[1].set_xticks([1, 2, 3, 4]);\n",
    "axes[1].set_xticklabels([\"CC\", \"CD\", \"DC\", \"DD\"])\n",
    "axes[1].set_title('Two bits', fontweight='bold');\n",
    "\n",
    "axes[1].text(-.9, -.2, \"$b=1$ & $c=0.3$\", fontsize=12);"
   ]
  },
  {
   "cell_type": "code",
   "execution_count": 120,
   "metadata": {},
   "outputs": [],
   "source": [
    "high_cs = [ 1 ,  1.9,  2.8,  3.7,  4.6,  5.5,  6.4,  7.3,  8.2,  9.1, 10 ] "
   ]
  },
  {
   "cell_type": "code",
   "execution_count": 124,
   "metadata": {},
   "outputs": [],
   "source": [
    "dfs = [pd.read_csv(f\"data/matlab_three_bits_beta_1_seed_1_c_{c}.csv\", names=names) for c in high_cs]"
   ]
  },
  {
   "cell_type": "code",
   "execution_count": 125,
   "metadata": {},
   "outputs": [],
   "source": [
    "dfs = [df.drop_duplicates() for df in dfs]"
   ]
  },
  {
   "cell_type": "code",
   "execution_count": 126,
   "metadata": {},
   "outputs": [],
   "source": [
    "dfs = frequencies(dfs)"
   ]
  },
  {
   "cell_type": "code",
   "execution_count": 127,
   "metadata": {},
   "outputs": [],
   "source": [
    "points = [sum(df['frequencies norm'] * df['cooperation']) for df in dfs]"
   ]
  },
  {
   "cell_type": "code",
   "execution_count": 129,
   "metadata": {},
   "outputs": [
    {
     "data": {
      "image/png": "[encoded data removed]",
      "text/plain": [
       "<Figure size 432x288 with 1 Axes>"
      ]
     },
     "metadata": {
      "needs_background": "light"
     },
     "output_type": "display_data"
    }
   ],
   "source": [
    "plt.plot(points);"
   ]
  },
  {
   "cell_type": "code",
   "execution_count": null,
   "metadata": {},
   "outputs": [],
   "source": []
  }
 ],
 "metadata": {
  "kernelspec": {
   "display_name": "Python 3",
   "language": "python",
   "name": "python3"
  },
  "language_info": {
   "codemirror_mode": {
    "name": "ipython",
    "version": 3
   },
   "file_extension": ".py",
   "mimetype": "text/x-python",
   "name": "python",
   "nbconvert_exporter": "python",
   "pygments_lexer": "ipython3",
   "version": "3.8.3"
  }
 },
 "nbformat": 4,
 "nbformat_minor": 4
}
