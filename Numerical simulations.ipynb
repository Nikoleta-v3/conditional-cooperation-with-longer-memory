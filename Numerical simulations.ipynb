{
 "cells": [
  {
   "cell_type": "code",
   "execution_count": 1,
   "metadata": {},
   "outputs": [],
   "source": [
    "import numpy as np\n",
    "\n",
    "import sympy as sym\n",
    "\n",
    "import itertools"
   ]
  },
  {
   "cell_type": "code",
   "execution_count": 2,
   "metadata": {},
   "outputs": [],
   "source": [
    "from importlib.machinery import SourceFileLoader\n",
    "\n",
    "main = SourceFileLoader(\n",
    "    \"main\", \"main.py\"\n",
    ").load_module()\n",
    "\n",
    "from main import *"
   ]
  },
  {
   "cell_type": "markdown",
   "metadata": {},
   "source": [
    "**Payoffs Formulation**"
   ]
  },
  {
   "cell_type": "code",
   "execution_count": 6,
   "metadata": {},
   "outputs": [],
   "source": [
    "c = np.random.randint(0, 1)\n",
    "b = np.random.randint(1, 3)\n",
    "\n",
    "for _ in range(100):\n",
    "    \n",
    "    p1, p2, q1, q2 = np.random.random(4)\n",
    "    \n",
    "    one_bit_M = transition_matrix_one_bit(p=[p1, p2], q=[q1, q2])\n",
    "    \n",
    "    two_bit_M = transition_matrix_two_bit(p=[p1, p2, p1, p2], q=[q1, q2, q1, q2])\n",
    "    \n",
    "    ss_one_bit = invariant_distribution(one_bit_M)\n",
    "    ss_two_bit = invariant_distribution(two_bit_M)    \n",
    "\n",
    "    \n",
    "    assert np.isclose(ss_one_bit @ np.array([b - c, -c, b, 0]),\n",
    "                      ss_two_bit @ payoffs_vector(c, b))"
   ]
  },
  {
   "cell_type": "markdown",
   "metadata": {},
   "source": [
    "**Cooperation**"
   ]
  },
  {
   "cell_type": "code",
   "execution_count": 4,
   "metadata": {},
   "outputs": [],
   "source": [
    "c = np.random.randint(0, 1)\n",
    "b = np.random.randint(1, 3)\n",
    "\n",
    "for _ in range(100):\n",
    "    \n",
    "    p1, p2, q1, q2 = np.random.random(4)\n",
    "    \n",
    "    one_bit_M = transition_matrix_one_bit(p=[p1, p2], q=[q1, q2])\n",
    "    \n",
    "    two_bit_M = transition_matrix_two_bit(p=[p1, p2, p1, p2], q=[q1, q2, q1, q2])\n",
    "    \n",
    "    ss_one_bit = invariant_distribution(one_bit_M)\n",
    "    ss_two_bit = invariant_distribution(two_bit_M) \n",
    "    \n",
    "    assert np.isclose(ss_one_bit[0] + ss_one_bit[1],\n",
    "                     (ss_two_bit[0] + ss_two_bit[4] + ss_two_bit[8] + ss_two_bit[12] +\n",
    "                      ss_two_bit[1] + ss_two_bit[5] + ss_two_bit[9] + ss_two_bit[13]))"
   ]
  },
  {
   "cell_type": "code",
   "execution_count": 36,
   "metadata": {},
   "outputs": [],
   "source": [
    "def cooperation(ss):\n",
    "    return (ss[0] + ss[4] + ss[8] + ss[12] +\n",
    "            ss[1] + ss[5] + ss[9] + ss[13])"
   ]
  },
  {
   "cell_type": "markdown",
   "metadata": {},
   "source": [
    "**Checks for matlab code**"
   ]
  },
  {
   "cell_type": "code",
   "execution_count": 37,
   "metadata": {},
   "outputs": [],
   "source": [
    "p1, p2 = np.random.random(4), np.random.random(4)"
   ]
  },
  {
   "cell_type": "code",
   "execution_count": 38,
   "metadata": {},
   "outputs": [
    {
     "data": {
      "text/plain": [
       "(array([0.48740259, 0.33323227, 0.82350304, 0.71276159]),\n",
       " array([0.67229974, 0.47205614, 0.04880383, 0.43523115]))"
      ]
     },
     "execution_count": 38,
     "metadata": {},
     "output_type": "execute_result"
    }
   ],
   "source": [
    "p1, p2"
   ]
  },
  {
   "cell_type": "code",
   "execution_count": 39,
   "metadata": {},
   "outputs": [],
   "source": [
    "M  = transition_matrix_two_bit(p1, p2)\n",
    "\n",
    "ss = invariant_distribution(M) "
   ]
  },
  {
   "cell_type": "code",
   "execution_count": 40,
   "metadata": {},
   "outputs": [
    {
     "data": {
      "text/plain": [
       "array([0.06870497, 0.104097  , 0.03468364, 0.05306706, 0.07672123,\n",
       "       0.10411194, 0.06989294, 0.09344265, 0.05555534, 0.06579002,\n",
       "       0.02260441, 0.02678415, 0.05957113, 0.07016981, 0.04355292,\n",
       "       0.0512508 ])"
      ]
     },
     "execution_count": 40,
     "metadata": {},
     "output_type": "execute_result"
    }
   ],
   "source": [
    "ss"
   ]
  },
  {
   "cell_type": "code",
   "execution_count": 41,
   "metadata": {},
   "outputs": [],
   "source": [
    "c = 0.1"
   ]
  },
  {
   "cell_type": "code",
   "execution_count": 42,
   "metadata": {},
   "outputs": [
    {
     "data": {
      "text/plain": [
       "0.37081443961437865"
      ]
     },
     "execution_count": 42,
     "metadata": {},
     "output_type": "execute_result"
    }
   ],
   "source": [
    "ss @ payoffs_vector(c, b)"
   ]
  },
  {
   "cell_type": "code",
   "execution_count": 43,
   "metadata": {},
   "outputs": [
    {
     "data": {
      "text/plain": [
       "0.60472142605001"
      ]
     },
     "execution_count": 43,
     "metadata": {},
     "output_type": "execute_result"
    }
   ],
   "source": [
    "cooperation(ss)"
   ]
  },
  {
   "cell_type": "code",
   "execution_count": 30,
   "metadata": {},
   "outputs": [
    {
     "data": {
      "text/plain": [
       "0.06760884730315153"
      ]
     },
     "execution_count": 30,
     "metadata": {},
     "output_type": "execute_result"
    }
   ],
   "source": [
    "ss_two_bit[0] + ss_two_bit[4] + ss_two_bit[8] + ss_two_bit[12] +\n",
    "            ss_two_bit[1] + ss_two_bit[5] + ss_two_bit[9] + ss_two_bit[13]"
   ]
  },
  {
   "cell_type": "markdown",
   "metadata": {},
   "source": [
    "**Evolutionary \"simulations\"**"
   ]
  },
  {
   "cell_type": "code",
   "execution_count": 18,
   "metadata": {},
   "outputs": [],
   "source": [
    "N = 100\n",
    "c = 1\n",
    "b = 3\n",
    "beta = 1\n",
    "max_steps = 10"
   ]
  },
  {
   "cell_type": "code",
   "execution_count": 19,
   "metadata": {},
   "outputs": [
    {
     "name": "stderr",
     "output_type": "stream",
     "text": [
      "100%|██████████| 9/9 [00:00<00:00, 657.27it/s]\n"
     ]
    }
   ],
   "source": [
    "residents = simulate_process(N, c, b, beta, max_steps)"
   ]
  },
  {
   "cell_type": "code",
   "execution_count": 20,
   "metadata": {},
   "outputs": [],
   "source": [
    "np.savetxt(f\"test.csv\", np.array(residents), delimiter=\",\")"
   ]
  },
  {
   "cell_type": "code",
   "execution_count": 21,
   "metadata": {},
   "outputs": [],
   "source": [
    "import pandas as pd"
   ]
  },
  {
   "cell_type": "code",
   "execution_count": 22,
   "metadata": {},
   "outputs": [
    {
     "data": {
      "text/html": [
       "<div>\n",
       "<style scoped>\n",
       "    .dataframe tbody tr th:only-of-type {\n",
       "        vertical-align: middle;\n",
       "    }\n",
       "\n",
       "    .dataframe tbody tr th {\n",
       "        vertical-align: top;\n",
       "    }\n",
       "\n",
       "    .dataframe thead th {\n",
       "        text-align: right;\n",
       "    }\n",
       "</style>\n",
       "<table border=\"1\" class=\"dataframe\">\n",
       "  <thead>\n",
       "    <tr style=\"text-align: right;\">\n",
       "      <th></th>\n",
       "      <th>1.000000000000000000e+00</th>\n",
       "      <th>1.000000000000000000e+00.1</th>\n",
       "      <th>1.000000000000000000e+00.2</th>\n",
       "      <th>1.000000000000000000e+00.3</th>\n",
       "      <th>0.000000000000000000e+00</th>\n",
       "      <th>1.000000000000000000e+00.4</th>\n",
       "    </tr>\n",
       "  </thead>\n",
       "  <tbody>\n",
       "    <tr>\n",
       "      <th>0</th>\n",
       "      <td>0.774626</td>\n",
       "      <td>0.918875</td>\n",
       "      <td>0.097085</td>\n",
       "      <td>0.273629</td>\n",
       "      <td>1.0</td>\n",
       "      <td>0.101029</td>\n",
       "    </tr>\n",
       "    <tr>\n",
       "      <th>1</th>\n",
       "      <td>0.120603</td>\n",
       "      <td>0.237812</td>\n",
       "      <td>0.829190</td>\n",
       "      <td>0.147116</td>\n",
       "      <td>4.0</td>\n",
       "      <td>0.637168</td>\n",
       "    </tr>\n",
       "  </tbody>\n",
       "</table>\n",
       "</div>"
      ],
      "text/plain": [
       "   1.000000000000000000e+00  1.000000000000000000e+00.1  \\\n",
       "0                  0.774626                    0.918875   \n",
       "1                  0.120603                    0.237812   \n",
       "\n",
       "   1.000000000000000000e+00.2  1.000000000000000000e+00.3  \\\n",
       "0                    0.097085                    0.273629   \n",
       "1                    0.829190                    0.147116   \n",
       "\n",
       "   0.000000000000000000e+00  1.000000000000000000e+00.4  \n",
       "0                       1.0                    0.101029  \n",
       "1                       4.0                    0.637168  "
      ]
     },
     "execution_count": 22,
     "metadata": {},
     "output_type": "execute_result"
    }
   ],
   "source": [
    "pd.read_csv(\"test.csv\")"
   ]
  },
  {
   "cell_type": "code",
   "execution_count": 17,
   "metadata": {},
   "outputs": [],
   "source": [
    "steady_states = []\n",
    "\n",
    "for p, q in itertools.product([mutant, current_resident], repeat=2):\n",
    "    \n",
    "    M = transition_matrix_two_bit(p, q)\n",
    "    steady_states.append(invariant_distribution(M))"
   ]
  },
  {
   "cell_type": "code",
   "execution_count": 18,
   "metadata": {},
   "outputs": [],
   "source": [
    "payoff_MM, payoff_MR, payoff_RM, payoff_RR = [\n",
    "    state @ payoffs_vector(c, b) for state in steady_states\n",
    "]\n",
    "lminus, lplus = [], []\n",
    "for k in range(1, N):\n",
    "    expected_payoff_mutant = ((k - 1) / (N - 1) * payoff_MM) + (\n",
    "        (N - k) / (N - 1)\n",
    "    ) * payoff_MR\n",
    "    expected_payoff_resident = (k / (N - 1) * payoff_RM) + (\n",
    "        (N - k - 1) / (N - 1)\n",
    "    ) * payoff_RR\n",
    "\n",
    "    lplus.append(\n",
    "        1\n",
    "        / (\n",
    "            1\n",
    "            + np.exp(\n",
    "                float(\n",
    "                    -beta\n",
    "                    * (expected_payoff_mutant - expected_payoff_resident)\n",
    "                )\n",
    "            )\n",
    "        )\n",
    "    )\n",
    "    lminus.append(\n",
    "        1\n",
    "        / (\n",
    "            1\n",
    "            + np.exp(\n",
    "                float(\n",
    "                    -beta\n",
    "                    * (expected_payoff_resident - expected_payoff_mutant)\n",
    "                )\n",
    "            )\n",
    "        )\n",
    "    )\n",
    "gammas = np.array(lminus) / np.array(lplus)\n",
    "\n",
    "\n",
    "if random_.random() < 1 / (1 + np.sum(np.cumprod(gammas))):\n",
    "    cooperation_rate = steady_states[0][0] + steady_states[0][1]\n",
    "    residents.append(list(np.random.random(4)) + [t] + [cooperation_rate])"
   ]
  },
  {
   "cell_type": "code",
   "execution_count": null,
   "metadata": {},
   "outputs": [],
   "source": []
  },
  {
   "cell_type": "code",
   "execution_count": null,
   "metadata": {},
   "outputs": [],
   "source": [
    "transition_matrix_two_bit(p=[p1, p2, p1, p2], q=[q1, q2, q1, q2])"
   ]
  },
  {
   "cell_type": "code",
   "execution_count": 20,
   "metadata": {},
   "outputs": [
    {
     "data": {
      "text/plain": [
       "array([[0., 0., 0., 0., 0.],\n",
       "       [0., 0., 0., 0., 0.],\n",
       "       [0., 0., 0., 0., 0.],\n",
       "       ...,\n",
       "       [0., 0., 0., 0., 0.],\n",
       "       [0., 0., 0., 0., 0.],\n",
       "       [0., 0., 0., 0., 0.]])"
      ]
     },
     "execution_count": 20,
     "metadata": {},
     "output_type": "execute_result"
    }
   ],
   "source": [
    "residents"
   ]
  },
  {
   "cell_type": "code",
   "execution_count": 7,
   "metadata": {},
   "outputs": [],
   "source": [
    "mutant = np.random.random(4)"
   ]
  },
  {
   "cell_type": "code",
   "execution_count": 22,
   "metadata": {},
   "outputs": [
    {
     "data": {
      "text/plain": [
       "[0.8004920307378571,\n",
       " 0.8549783346024027,\n",
       " 0.29913219621761145,\n",
       " 0.9383117294180656,\n",
       " 100]"
      ]
     },
     "execution_count": 22,
     "metadata": {},
     "output_type": "execute_result"
    }
   ],
   "source": [
    "list(mutant) + [100]"
   ]
  },
  {
   "cell_type": "code",
   "execution_count": 18,
   "metadata": {},
   "outputs": [
    {
     "data": {
      "text/plain": [
       "array([  0.80049203,   0.85497833,   0.2991322 ,   0.93831173,\n",
       "       100.        ])"
      ]
     },
     "execution_count": 18,
     "metadata": {},
     "output_type": "execute_result"
    }
   ],
   "source": [
    "np.r_[mutant, 100]"
   ]
  },
  {
   "cell_type": "code",
   "execution_count": 13,
   "metadata": {},
   "outputs": [
    {
     "data": {
      "text/plain": [
       "array([0, 0, 0, 0, 0])"
      ]
     },
     "execution_count": 13,
     "metadata": {},
     "output_type": "execute_result"
    }
   ],
   "source": [
    "residents[0]"
   ]
  },
  {
   "cell_type": "code",
   "execution_count": null,
   "metadata": {},
   "outputs": [],
   "source": []
  },
  {
   "cell_type": "code",
   "execution_count": null,
   "metadata": {},
   "outputs": [],
   "source": []
  },
  {
   "cell_type": "code",
   "execution_count": 193,
   "metadata": {},
   "outputs": [],
   "source": [
    "N = 100\n",
    "beta = 10\n",
    "mu = 1"
   ]
  },
  {
   "cell_type": "code",
   "execution_count": 194,
   "metadata": {},
   "outputs": [],
   "source": [
    "one_bit_strategies = strategies_set(2)\n",
    "\n",
    "one_bit_strategies = np.tile(one_bit_strategies, 2)"
   ]
  },
  {
   "cell_type": "code",
   "execution_count": 195,
   "metadata": {},
   "outputs": [
    {
     "name": "stderr",
     "output_type": "stream",
     "text": [
      "/Users/glynatsi/opt/anaconda3/lib/python3.8/site-packages/numpy/core/fromnumeric.py:90: RuntimeWarning: overflow encountered in reduce\n",
      "  return ufunc.reduce(obj, axis, dtype, out, **passkwargs)\n"
     ]
    }
   ],
   "source": [
    "stationaries = []\n",
    "b = 3\n",
    "\n",
    "for c in np.linspace(0, 0.99999, 100):\n",
    "    \n",
    "    abd_m, _ = abundance_matrix(one_bit_strategies, c, b, N, beta, mu)\n",
    "    ss = invariant_distribution(abd_m)\n",
    "    \n",
    "    stationaries.append(ss)"
   ]
  },
  {
   "cell_type": "code",
   "execution_count": 196,
   "metadata": {},
   "outputs": [],
   "source": [
    "m, pf = abundance_matrix(one_bit_strategies, c, b, N, beta, mu)"
   ]
  },
  {
   "cell_type": "code",
   "execution_count": 197,
   "metadata": {},
   "outputs": [
    {
     "data": {
      "text/plain": [
       "array([[ 0.,  3.,  0.,  3.],\n",
       "       [-1.,  1.,  1.,  3.],\n",
       "       [ 0.,  1.,  1.,  2.],\n",
       "       [-1., -1.,  2.,  2.]])"
      ]
     },
     "execution_count": 197,
     "metadata": {},
     "output_type": "execute_result"
    }
   ],
   "source": [
    "pf.round(3)"
   ]
  },
  {
   "cell_type": "code",
   "execution_count": 199,
   "metadata": {},
   "outputs": [
    {
     "data": {
      "text/plain": [
       "array([[0, 0, 0, 0],\n",
       "       [0, 1, 0, 1],\n",
       "       [1, 0, 1, 0],\n",
       "       [1, 1, 1, 1]])"
      ]
     },
     "execution_count": 199,
     "metadata": {},
     "output_type": "execute_result"
    }
   ],
   "source": [
    "one_bit_strategies"
   ]
  },
  {
   "cell_type": "code",
   "execution_count": 198,
   "metadata": {},
   "outputs": [
    {
     "data": {
      "text/plain": [
       "array([0.71451906, 0.07189655, 0.14239038, 0.071194  ])"
      ]
     },
     "execution_count": 198,
     "metadata": {},
     "output_type": "execute_result"
    }
   ],
   "source": [
    "ss = invariant_distribution(m)\n",
    "\n",
    "ss"
   ]
  },
  {
   "cell_type": "code",
   "execution_count": 185,
   "metadata": {},
   "outputs": [],
   "source": [
    "coop = []\n",
    "for stationary in stationaries:\n",
    "    p = one_bit_strategies[np.argmax(stationary)]\n",
    "    \n",
    "    M = transition_matrix_two_bit(p, p)\n",
    "    \n",
    "    ss = invariant_distribution(M)\n",
    "    \n",
    "    coop.append(cooperation(ss))\n",
    "    "
   ]
  },
  {
   "cell_type": "code",
   "execution_count": 186,
   "metadata": {},
   "outputs": [],
   "source": [
    "import matplotlib.pyplot as plt"
   ]
  },
  {
   "cell_type": "code",
   "execution_count": 187,
   "metadata": {},
   "outputs": [
    {
     "data": {
      "image/png": "[encoded data removed]",
      "text/plain": [
       "<Figure size 432x288 with 1 Axes>"
      ]
     },
     "metadata": {
      "needs_background": "light"
     },
     "output_type": "display_data"
    }
   ],
   "source": [
    "plt.plot(coop);"
   ]
  },
  {
   "cell_type": "code",
   "execution_count": 206,
   "metadata": {},
   "outputs": [
    {
     "data": {
      "text/plain": [
       "array([3.58888946, 0.57421447, 0.25763167, 3.20558745, 3.57515323])"
      ]
     },
     "execution_count": 206,
     "metadata": {},
     "output_type": "execute_result"
    }
   ],
   "source": [
    "np.random.random((1, 5)) * 5"
   ]
  },
  {
   "cell_type": "code",
   "execution_count": 204,
   "metadata": {},
   "outputs": [
    {
     "data": {
      "text/plain": [
       "array([1, 2, 1, 2, 1, 2, 1, 2, 1, 2])"
      ]
     },
     "execution_count": 204,
     "metadata": {},
     "output_type": "execute_result"
    }
   ],
   "source": [
    "np.array([1, 2] * 5)"
   ]
  },
  {
   "cell_type": "code",
   "execution_count": 207,
   "metadata": {},
   "outputs": [],
   "source": [
    "resident = np.random.random(5)"
   ]
  },
  {
   "cell_type": "code",
   "execution_count": 209,
   "metadata": {},
   "outputs": [
    {
     "data": {
      "text/plain": [
       "array([0.98317722, 0.84933645, 0.48157125, 0.60934658, 0.70641782])"
      ]
     },
     "execution_count": 209,
     "metadata": {},
     "output_type": "execute_result"
    }
   ],
   "source": [
    "resident"
   ]
  },
  {
   "cell_type": "code",
   "execution_count": 213,
   "metadata": {},
   "outputs": [
    {
     "data": {
      "text/plain": [
       "array([[0.5488135 , 0.71518937, 0.60276338, 0.54488318, 0.4236548 ],\n",
       "       [0.5488135 , 0.71518937, 0.60276338, 0.54488318, 0.4236548 ],\n",
       "       [0.5488135 , 0.71518937, 0.60276338, 0.54488318, 0.4236548 ]])"
      ]
     },
     "execution_count": 213,
     "metadata": {},
     "output_type": "execute_result"
    }
   ],
   "source": [
    "np.random.seed(0)\n",
    "np.repeat(np.random.random((1,5)), 3, axis=0)"
   ]
  },
  {
   "cell_type": "code",
   "execution_count": 214,
   "metadata": {},
   "outputs": [
    {
     "data": {
      "text/plain": [
       "array([[0.64589411, 0.43758721, 0.891773  , 0.96366276, 0.38344152]])"
      ]
     },
     "execution_count": 214,
     "metadata": {},
     "output_type": "execute_result"
    }
   ],
   "source": [
    "np.random.random((1,5))"
   ]
  },
  {
   "cell_type": "code",
   "execution_count": 215,
   "metadata": {},
   "outputs": [],
   "source": [
    "ss = np.repeat(np.random.random((1,5)), 3, axis=0)"
   ]
  },
  {
   "cell_type": "code",
   "execution_count": 216,
   "metadata": {},
   "outputs": [],
   "source": [
    "ss = np.repeat(np.random.random((1,5)), 3, axis=0)"
   ]
  },
  {
   "cell_type": "code",
   "execution_count": 217,
   "metadata": {},
   "outputs": [
    {
     "data": {
      "text/plain": [
       "array([[0.0871293 , 0.0202184 , 0.83261985, 0.77815675, 0.87001215],\n",
       "       [0.0871293 , 0.0202184 , 0.83261985, 0.77815675, 0.87001215],\n",
       "       [0.0871293 , 0.0202184 , 0.83261985, 0.77815675, 0.87001215]])"
      ]
     },
     "execution_count": 217,
     "metadata": {},
     "output_type": "execute_result"
    }
   ],
   "source": [
    "ss"
   ]
  },
  {
   "cell_type": "code",
   "execution_count": null,
   "metadata": {},
   "outputs": [],
   "source": [
    "np.savetxt('example.txt', np.c_[time, operation1, operation2],\n",
    "            header='Filexy\\ntime  operation1 operation2', fmt='%d',\n",
    "               delimiter='\\t')"
   ]
  },
  {
   "cell_type": "code",
   "execution_count": 218,
   "metadata": {},
   "outputs": [
    {
     "data": {
      "text/plain": [
       "[0.08712929970154071,\n",
       " 0.02021839744032572,\n",
       " 0.832619845547938,\n",
       " 0.7781567509498505,\n",
       " 0.8700121482468192,\n",
       " 0.08712929970154071,\n",
       " 0.02021839744032572,\n",
       " 0.832619845547938,\n",
       " 0.7781567509498505,\n",
       " 0.8700121482468192]"
      ]
     },
     "execution_count": 218,
     "metadata": {},
     "output_type": "execute_result"
    }
   ],
   "source": [
    "[*ss[0], *ss[2], cooperation]"
   ]
  },
  {
   "cell_type": "code",
   "execution_count": 24,
   "metadata": {},
   "outputs": [
    {
     "data": {
      "text/plain": [
       "array([0. , 0.1, 0.2, 0.3, 0.4, 0.5, 0.6, 0.7, 0.8, 0.9, 1. ])"
      ]
     },
     "execution_count": 24,
     "metadata": {},
     "output_type": "execute_result"
    }
   ],
   "source": [
    "np.linspace(0, 1, 11)"
   ]
  },
  {
   "cell_type": "code",
   "execution_count": 25,
   "metadata": {},
   "outputs": [
    {
     "name": "stdout",
     "output_type": "stream",
     "text": [
      "sbatch sh/c_0.0.sh\n",
      "sbatch sh/c_0.1.sh\n",
      "sbatch sh/c_0.2.sh\n",
      "sbatch sh/c_0.30000000000000004.sh\n",
      "sbatch sh/c_0.4.sh\n",
      "sbatch sh/c_0.5.sh\n",
      "sbatch sh/c_0.6000000000000001.sh\n",
      "sbatch sh/c_0.7000000000000001.sh\n",
      "sbatch sh/c_0.8.sh\n",
      "sbatch sh/c_0.9.sh\n",
      "sbatch sh/c_1.0.sh\n"
     ]
    }
   ],
   "source": [
    "for c in np.linspace(0, 1, 11):\n",
    "    print(f\"sbatch sh/c_{c}.sh\")"
   ]
  },
  {
   "cell_type": "code",
   "execution_count": null,
   "metadata": {},
   "outputs": [],
   "source": []
  }
 ],
 "metadata": {
  "kernelspec": {
   "display_name": "Python 3",
   "language": "python",
   "name": "python3"
  },
  "language_info": {
   "codemirror_mode": {
    "name": "ipython",
    "version": 3
   },
   "file_extension": ".py",
   "mimetype": "text/x-python",
   "name": "python",
   "nbconvert_exporter": "python",
   "pygments_lexer": "ipython3",
   "version": "3.8.3"
  }
 },
 "nbformat": 4,
 "nbformat_minor": 4
}
