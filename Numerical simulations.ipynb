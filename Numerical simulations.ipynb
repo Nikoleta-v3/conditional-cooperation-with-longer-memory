{
 "cells": [
  {
   "cell_type": "code",
   "execution_count": 1,
   "metadata": {},
   "outputs": [],
   "source": [
    "import numpy as np\n",
    "\n",
    "import sympy as sym\n",
    "\n",
    "import itertools"
   ]
  },
  {
   "cell_type": "code",
   "execution_count": 2,
   "metadata": {},
   "outputs": [],
   "source": [
    "from importlib.machinery import SourceFileLoader\n",
    "\n",
    "main = SourceFileLoader(\"main\", \"main.py\").load_module()\n",
    "\n",
    "from main import *"
   ]
  },
  {
   "cell_type": "code",
   "execution_count": 3,
   "metadata": {},
   "outputs": [],
   "source": [
    "import matplotlib.pyplot as plt\n",
    "\n",
    "import matplotlib\n",
    "\n",
    "from mpl_toolkits.axes_grid1 import make_axes_locatable"
   ]
  },
  {
   "cell_type": "code",
   "execution_count": 4,
   "metadata": {},
   "outputs": [],
   "source": [
    "import matplotlib.colors as colors"
   ]
  },
  {
   "cell_type": "code",
   "execution_count": 5,
   "metadata": {},
   "outputs": [],
   "source": [
    "plt.rcParams[\"font.weight\"] = \"bold\"\n",
    "plt.rcParams[\"axes.labelweight\"] = \"bold\""
   ]
  },
  {
   "cell_type": "markdown",
   "metadata": {},
   "source": [
    "## The case of two bits strategies"
   ]
  },
  {
   "cell_type": "markdown",
   "metadata": {},
   "source": [
    "To test the formulation we compare the following payoffs."
   ]
  },
  {
   "cell_type": "code",
   "execution_count": 6,
   "metadata": {},
   "outputs": [],
   "source": [
    "c = np.random.randint(0, 1)\n",
    "b = np.random.randint(1, 3)\n",
    "\n",
    "for _ in range(1000):\n",
    "\n",
    "    p1, p2, q1, q2 = np.random.random(4)\n",
    "\n",
    "    one_bit_M = transition_matrix_one_bit(p=[p1, p2], q=[q1, q2])\n",
    "\n",
    "    two_bit_M = transition_matrix(p=[p1, p2, p1, p2], q=[q1, q2, q1, q2], bits=4)\n",
    "\n",
    "    ss_one_bit = invariant_distribution(one_bit_M)\n",
    "    ss_two_bit = invariant_distribution(two_bit_M)\n",
    "\n",
    "    assert np.isclose(\n",
    "        ss_one_bit @ np.array([b - c, -c, b, 0]), ss_two_bit @ payoffs_vector(c, b)\n",
    "    )"
   ]
  },
  {
   "cell_type": "markdown",
   "metadata": {},
   "source": [
    "**Cooperation**"
   ]
  },
  {
   "cell_type": "code",
   "execution_count": 7,
   "metadata": {},
   "outputs": [],
   "source": [
    "c = np.random.randint(0, 1)\n",
    "b = np.random.randint(1, 3)\n",
    "\n",
    "for _ in range(1000):\n",
    "\n",
    "    p1, p2, q1, q2 = np.random.random(4)\n",
    "\n",
    "    one_bit_M = transition_matrix_one_bit(p=[p1, p2], q=[q1, q2])\n",
    "\n",
    "    two_bit_M = transition_matrix(p=[p1, p2, p1, p2], q=[q1, q2, q1, q2], bits=4)\n",
    "\n",
    "    ss_one_bit = invariant_distribution(one_bit_M)\n",
    "    ss_two_bit = invariant_distribution(two_bit_M)\n",
    "\n",
    "    assert np.isclose(\n",
    "        cooperation_rate(ss_one_bit, size=4), cooperation_rate(ss_two_bit, size=16)\n",
    "    )"
   ]
  },
  {
   "cell_type": "markdown",
   "metadata": {},
   "source": [
    "## The case of two bits strategies"
   ]
  },
  {
   "cell_type": "code",
   "execution_count": 8,
   "metadata": {},
   "outputs": [],
   "source": [
    "c = np.random.randint(0, 1)\n",
    "b = np.random.randint(1, 3)\n",
    "\n",
    "for _ in range(1000):\n",
    "\n",
    "    p1, p2, p3, p4, q1, q2, q3, q4 = np.random.random(8)\n",
    "\n",
    "    two_bit_M = transition_matrix(p=[p1, p2, p3, p4], q=[q1, q2, q3, q4], bits=4)\n",
    "\n",
    "    three_bit_M = transition_matrix(\n",
    "        p=[p1, p2, p3, p4, p1, p2, p3, p4], q=[q1, q2, q3, q4, q1, q2, q3, q4], bits=8\n",
    "    )\n",
    "\n",
    "    ss_two_bit = invariant_distribution(two_bit_M)\n",
    "    ss_three_bit = invariant_distribution(three_bit_M)\n",
    "\n",
    "    assert np.isclose(\n",
    "        ss_two_bit @ payoffs_vector(c, b), ss_three_bit @ payoffs_vector(c, b, dim=16)\n",
    "    )"
   ]
  },
  {
   "cell_type": "code",
   "execution_count": 9,
   "metadata": {},
   "outputs": [],
   "source": [
    "c = np.random.randint(0, 1)\n",
    "b = np.random.randint(1, 3)\n",
    "\n",
    "for _ in range(1000):\n",
    "\n",
    "    p1, p2, q1, q2 = np.random.random(4)\n",
    "\n",
    "    two_bit_M = transition_matrix(p=[p1, p2, p3, p4], q=[q1, q2, q3, q4], bits=4)\n",
    "\n",
    "    three_bit_M = transition_matrix(\n",
    "        p=[p1, p2, p3, p4, p1, p2, p3, p4], q=[q1, q2, q3, q4, q1, q2, q3, q4], bits=8\n",
    "    )\n",
    "\n",
    "    ss_two_bit = invariant_distribution(two_bit_M)\n",
    "    ss_three_bit = invariant_distribution(three_bit_M)\n",
    "\n",
    "    assert np.isclose(\n",
    "        cooperation_rate(ss_two_bit, size=16), cooperation_rate(ss_three_bit, size=64)\n",
    "    )"
   ]
  },
  {
   "cell_type": "markdown",
   "metadata": {},
   "source": [
    "## The case of four bits strategies"
   ]
  },
  {
   "cell_type": "code",
   "execution_count": 10,
   "metadata": {},
   "outputs": [],
   "source": [
    "c = np.random.randint(0, 1)\n",
    "b = np.random.randint(1, 3)\n",
    "\n",
    "for _ in range(100):\n",
    "    p1, p2, p3, p4, p5, p6, p7, p8, q1, q2, q3, q4, q5, q6, q7, q8 = np.random.random(\n",
    "        16\n",
    "    )\n",
    "\n",
    "    m_four_bits = transition_matrix(\n",
    "        (p1, p2, p3, p4, p5, p6, p7, p8, p1, p2, p3, p4, p5, p6, p7, p8),\n",
    "        (q1, q2, q3, q4, q5, q6, q7, q8, q1, q2, q3, q4, q5, q6, q7, q8),\n",
    "        bits=16,\n",
    "    )\n",
    "\n",
    "    m_three_bits = transition_matrix(\n",
    "        (p1, p2, p3, p4, p5, p6, p7, p8), (q1, q2, q3, q4, q5, q6, q7, q8), bits=8\n",
    "    )\n",
    "\n",
    "    ss_four = invariant_distribution(m_four_bits)\n",
    "    ss_three = invariant_distribution(m_three_bits)\n",
    "\n",
    "    assert np.isclose(\n",
    "        ss_four @ payoffs_vector(c, b, dim=64), ss_three @ payoffs_vector(c, b, dim=16)\n",
    "    )"
   ]
  },
  {
   "cell_type": "code",
   "execution_count": 11,
   "metadata": {},
   "outputs": [],
   "source": [
    "c = np.random.randint(0, 1)\n",
    "b = np.random.randint(1, 3)\n",
    "\n",
    "for _ in range(100):\n",
    "    p1, p2, p3, p4, p5, p6, p7, p8, q1, q2, q3, q4, q5, q6, q7, q8 = np.random.random(\n",
    "        16\n",
    "    )\n",
    "\n",
    "    m_four_bits = transition_matrix(\n",
    "        (p1, p2, p3, p4, p5, p6, p7, p8, p1, p2, p3, p4, p5, p6, p7, p8),\n",
    "        (q1, q2, q3, q4, q5, q6, q7, q8, q1, q2, q3, q4, q5, q6, q7, q8),\n",
    "        bits=16,\n",
    "    )\n",
    "\n",
    "    m_three_bits = transition_matrix(\n",
    "        (p1, p2, p3, p4, p5, p6, p7, p8), (q1, q2, q3, q4, q5, q6, q7, q8), bits=8\n",
    "    )\n",
    "\n",
    "    ss_four = invariant_distribution(m_four_bits)\n",
    "    ss_three = invariant_distribution(m_three_bits)\n",
    "\n",
    "    assert np.isclose(\n",
    "        cooperation_rate(ss_three, size=64), cooperation_rate(ss_four, size=256)\n",
    "    )"
   ]
  },
  {
   "cell_type": "markdown",
   "metadata": {},
   "source": [
    "**Checks for matlab code**"
   ]
  },
  {
   "cell_type": "markdown",
   "metadata": {},
   "source": [
    "**The two bits case**"
   ]
  },
  {
   "cell_type": "code",
   "execution_count": 12,
   "metadata": {},
   "outputs": [],
   "source": [
    "np.random.seed(100)\n",
    "p1, p2 = np.random.random(4), np.random.random(4)"
   ]
  },
  {
   "cell_type": "code",
   "execution_count": 13,
   "metadata": {},
   "outputs": [
    {
     "data": {
      "text/plain": [
       "(array([0.54340494, 0.27836939, 0.42451759, 0.84477613]),\n",
       " array([0.00471886, 0.12156912, 0.67074908, 0.82585276]))"
      ]
     },
     "execution_count": 13,
     "metadata": {},
     "output_type": "execute_result"
    }
   ],
   "source": [
    "p1, p2"
   ]
  },
  {
   "cell_type": "code",
   "execution_count": 14,
   "metadata": {},
   "outputs": [],
   "source": [
    "M = transition_matrix(p1, p2, bits=4)\n",
    "\n",
    "ss = invariant_distribution(M)"
   ]
  },
  {
   "cell_type": "code",
   "execution_count": 15,
   "metadata": {},
   "outputs": [
    {
     "data": {
      "text/plain": [
       "array([0.02770631, 0.0540767 , 0.03207052, 0.06290837, 0.06055705,\n",
       "       0.27718485, 0.02476668, 0.09362911, 0.02902366, 0.02994831,\n",
       "       0.03106764, 0.03119363, 0.05947489, 0.09492782, 0.0333284 ,\n",
       "       0.05813606])"
      ]
     },
     "execution_count": 15,
     "metadata": {},
     "output_type": "execute_result"
    }
   ],
   "source": [
    "ss"
   ]
  },
  {
   "cell_type": "code",
   "execution_count": 16,
   "metadata": {},
   "outputs": [],
   "source": [
    "c = 0.1"
   ]
  },
  {
   "cell_type": "code",
   "execution_count": 17,
   "metadata": {},
   "outputs": [],
   "source": [
    "b = 1"
   ]
  },
  {
   "cell_type": "code",
   "execution_count": 18,
   "metadata": {},
   "outputs": [
    {
     "data": {
      "text/plain": [
       "0.23470518518107092"
      ]
     },
     "execution_count": 18,
     "metadata": {},
     "output_type": "execute_result"
    }
   ],
   "source": [
    "ss @ payoffs_vector(c, b)"
   ]
  },
  {
   "cell_type": "code",
   "execution_count": 19,
   "metadata": {},
   "outputs": [
    {
     "data": {
      "text/plain": [
       "0.6328995842008454"
      ]
     },
     "execution_count": 19,
     "metadata": {},
     "output_type": "execute_result"
    }
   ],
   "source": [
    "cooperation_rate(ss, size=4 ** 2)"
   ]
  },
  {
   "cell_type": "markdown",
   "metadata": {},
   "source": [
    "**The three bits case**"
   ]
  },
  {
   "cell_type": "code",
   "execution_count": 20,
   "metadata": {},
   "outputs": [],
   "source": [
    "np.random.seed(200)\n",
    "sdim = 8\n",
    "\n",
    "p1, p2 = np.random.random(sdim), np.random.random(sdim)"
   ]
  },
  {
   "cell_type": "code",
   "execution_count": 21,
   "metadata": {},
   "outputs": [
    {
     "data": {
      "text/plain": [
       "(array([0.94763226, 0.22654742, 0.59442014, 0.42830868, 0.76414069,\n",
       "        0.00286059, 0.35742368, 0.90969489]),\n",
       " array([0.45608099, 0.98180271, 0.86735699, 0.98602751, 0.92326671,\n",
       "        0.30369331, 0.84610349, 0.12122197]))"
      ]
     },
     "execution_count": 21,
     "metadata": {},
     "output_type": "execute_result"
    }
   ],
   "source": [
    "p1, p2"
   ]
  },
  {
   "cell_type": "code",
   "execution_count": 22,
   "metadata": {},
   "outputs": [],
   "source": [
    "M = transition_matrix(p1, p2, bits=8)\n",
    "\n",
    "ss = invariant_distribution(M)"
   ]
  },
  {
   "cell_type": "code",
   "execution_count": 23,
   "metadata": {},
   "outputs": [],
   "source": [
    "c, b = 0.1, 1"
   ]
  },
  {
   "cell_type": "code",
   "execution_count": 24,
   "metadata": {},
   "outputs": [
    {
     "data": {
      "text/plain": [
       "0.6097480267311309"
      ]
     },
     "execution_count": 24,
     "metadata": {},
     "output_type": "execute_result"
    }
   ],
   "source": [
    "ss @ payoffs_vector(c, b, dim=16)"
   ]
  },
  {
   "cell_type": "code",
   "execution_count": 25,
   "metadata": {},
   "outputs": [
    {
     "data": {
      "text/plain": [
       "0.6081663855976464"
      ]
     },
     "execution_count": 25,
     "metadata": {},
     "output_type": "execute_result"
    }
   ],
   "source": [
    "cooperation_rate(ss, sdim ** 2)"
   ]
  },
  {
   "cell_type": "markdown",
   "metadata": {},
   "source": [
    "**The four bits case**"
   ]
  },
  {
   "cell_type": "code",
   "execution_count": 26,
   "metadata": {},
   "outputs": [],
   "source": [
    "np.random.seed(300)\n",
    "bits = 16\n",
    "\n",
    "p1, p2 = np.random.random(bits), np.random.random(bits)"
   ]
  },
  {
   "cell_type": "code",
   "execution_count": 27,
   "metadata": {},
   "outputs": [
    {
     "data": {
      "text/plain": [
       "(array([0.45112257, 0.22102234, 0.36908125, 0.2907757 , 0.24107793,\n",
       "        0.78204643, 0.81109437, 0.40079054, 0.0259992 , 0.60937305,\n",
       "        0.6290881 , 0.65192088, 0.8585911 , 0.58680275, 0.70416835,\n",
       "        0.48590168]),\n",
       " array([0.68441634, 0.11236823, 0.1823913 , 0.69704813, 0.36835276,\n",
       "        0.42729725, 0.39981783, 0.64871212, 0.41334846, 0.16360112,\n",
       "        0.50836966, 0.51687131, 0.34820519, 0.30225247, 0.22733687,\n",
       "        0.05458993]))"
      ]
     },
     "execution_count": 27,
     "metadata": {},
     "output_type": "execute_result"
    }
   ],
   "source": [
    "p1, p2"
   ]
  },
  {
   "cell_type": "code",
   "execution_count": 28,
   "metadata": {},
   "outputs": [],
   "source": [
    "M = transition_matrix(p1, p2, bits=bits)\n",
    "\n",
    "ss = invariant_distribution(M)"
   ]
  },
  {
   "cell_type": "code",
   "execution_count": 29,
   "metadata": {},
   "outputs": [
    {
     "data": {
      "text/plain": [
       "0.33135473455700504"
      ]
     },
     "execution_count": 29,
     "metadata": {},
     "output_type": "execute_result"
    }
   ],
   "source": [
    "ss @ payoffs_vector(c, b, dim=64)"
   ]
  },
  {
   "cell_type": "code",
   "execution_count": 30,
   "metadata": {},
   "outputs": [
    {
     "data": {
      "text/plain": [
       "0.5388298223915904"
      ]
     },
     "execution_count": 30,
     "metadata": {},
     "output_type": "execute_result"
    }
   ],
   "source": [
    "cooperation_rate(ss, bits ** 2)"
   ]
  },
  {
   "cell_type": "markdown",
   "metadata": {},
   "source": [
    "## Evolutionary simulations"
   ]
  },
  {
   "cell_type": "code",
   "execution_count": 31,
   "metadata": {},
   "outputs": [],
   "source": [
    "import pandas as pd"
   ]
  },
  {
   "cell_type": "code",
   "execution_count": 32,
   "metadata": {},
   "outputs": [],
   "source": [
    "cs = [0, 0.1, 0.2, 0.3, 0.4, 0.5, 0.6, 0.7, 0.8, 0.9, 1]"
   ]
  },
  {
   "cell_type": "code",
   "execution_count": 33,
   "metadata": {},
   "outputs": [],
   "source": [
    "names1 = [f\"p_{i}\" for i in range(1, 3)] + [\"t\", \"cooperation\"]\n",
    "names2 = [f\"p_{i}\" for i in range(1, 5)] + [\"t\", \"cooperation\"]\n",
    "names3 = [f\"p_{i}\" for i in range(1, 9)] + [\"t\", \"cooperation\"]\n",
    "names4 = [f\"p_{i}\" for i in range(1, 17)] + [\"t\", \"cooperation\"]\n",
    "\n",
    "dfs1 = [\n",
    "    [pd.read_csv(f\"matlab_data/bits_2_beta_0.1_seed_1_c_{c}.csv\", names=names1) for c in cs],\n",
    "    [pd.read_csv(f\"matlab_data/bits_4_beta_0.1_seed_1_c_{c}.csv\", names=names2) for c in cs],\n",
    "    [pd.read_csv(f\"matlab_data/bits_8_beta_0.1_seed_1_c_{c}.csv\", names=names3) for c in cs],\n",
    "]\n",
    "\n",
    "dfs2 = [\n",
    "    [pd.read_csv(f\"matlab_data/bits_2_beta_1_seed_1_c_{c}.csv\", names=names1) for c in cs],\n",
    "    [pd.read_csv(f\"matlab_data/bits_4_beta_1_seed_1_c_{c}.csv\", names=names2) for c in cs],\n",
    "    [pd.read_csv(f\"matlab_data/bits_8_beta_1_seed_1_c_{c}.csv\", names=names3) for c in cs],\n",
    "]\n",
    "\n",
    "dfs3 = [\n",
    "    [pd.read_csv(f\"matlab_data/bits_2_beta_10_seed_1_c_{c}.csv\", names=names1) for c in cs],\n",
    "    [pd.read_csv(f\"matlab_data/bits_4_beta_10_seed_1_c_{c}.csv\", names=names2) for c in cs],\n",
    "    [pd.read_csv(f\"matlab_data/bits_8_beta_10_seed_1_c_{c}.csv\", names=names3) for c in cs],\n",
    "]"
   ]
  },
  {
   "cell_type": "code",
   "execution_count": 34,
   "metadata": {},
   "outputs": [],
   "source": [
    "dfs1 = [[df.drop_duplicates() for df in dfs] for dfs in dfs1]\n",
    "dfs2 = [[df.drop_duplicates() for df in dfs] for dfs in dfs2]\n",
    "dfs3 = [[df.drop_duplicates() for df in dfs] for dfs in dfs3]"
   ]
  },
  {
   "cell_type": "code",
   "execution_count": 35,
   "metadata": {},
   "outputs": [],
   "source": [
    "def frequencies(dfs, max_steps=10 ** 7):\n",
    "\n",
    "    for df in dfs:\n",
    "        frequencies = []\n",
    "        previous = 0\n",
    "        for value in df[\"t\"][1:]:\n",
    "            frequencies.append(value - previous)\n",
    "            previous = value\n",
    "        frequencies.append(max_steps - previous)\n",
    "\n",
    "        df[\"frequencies\"] = np.array(frequencies)\n",
    "        df[\"frequencies norm\"] = np.array(frequencies) / max_steps\n",
    "\n",
    "    return dfs"
   ]
  },
  {
   "cell_type": "code",
   "execution_count": 36,
   "metadata": {},
   "outputs": [],
   "source": [
    "df_beta_pnt = [frequencies(dfs) for dfs in dfs1[:-1]] + [frequencies(dfs1[-1], (2 * 10 ** 7))]\n",
    "df_beta_one = [frequencies(dfs) for dfs in dfs2[:-1]] + [frequencies(dfs2[-1], (2 * 10 ** 7))]\n",
    "df_beta_ten = [frequencies(dfs) for dfs in dfs3[:-1]] + [frequencies(dfs3[-1], (2 * 10 ** 7))]"
   ]
  },
  {
   "cell_type": "code",
   "execution_count": 37,
   "metadata": {},
   "outputs": [],
   "source": [
    "labels = [r\"$\\beta$=0.1\", r\"$\\beta$=1\", r\"$\\beta$=10\"]"
   ]
  },
  {
   "cell_type": "code",
   "execution_count": 104,
   "metadata": {},
   "outputs": [],
   "source": [
    "df5 = [pd.read_csv(f\"matlab_data/bits_16_beta_0.1_seed_1_c_{c}.csv\", names=names4) for c in cs]\n",
    "df5 = [df.drop_duplicates() for df in df5]\n",
    "df5 = frequencies(df5, 10 ** 6)\n",
    "\n",
    "sxt_bits_points = [sum(df[\"frequencies norm\"] * df[\"cooperation\"]) for df in df5]"
   ]
  },
  {
   "cell_type": "code",
   "execution_count": 107,
   "metadata": {},
   "outputs": [],
   "source": [
    "df5 = [pd.read_csv(f\"matlab_data/bits_16_beta_1_seed_1_c_{c}.csv\", names=names4) for c in cs]\n",
    "df5 = [df.drop_duplicates() for df in df5]\n",
    "df5 = frequencies(df5, 10 ** 6)\n",
    "\n",
    "sxt_bits_one_points = [sum(df[\"frequencies norm\"] * df[\"cooperation\"]) for df in df5]"
   ]
  },
  {
   "cell_type": "code",
   "execution_count": 113,
   "metadata": {},
   "outputs": [
    {
     "data": {
      "image/png": "[encoded data removed]",
      "text/plain": [
       "<Figure size 756x216 with 3 Axes>"
      ]
     },
     "metadata": {
      "needs_background": "light"
     },
     "output_type": "display_data"
    }
   ],
   "source": [
    "fig, axes = plt.subplots(ncols=3, figsize=(10.5, 3))\n",
    "\n",
    "for i, gdfs in enumerate([df_beta_pnt, df_beta_one, df_beta_ten]):\n",
    "\n",
    "    points = [\n",
    "        [sum(df[\"frequencies norm\"] * df[\"cooperation\"]) for df in dfs] for dfs in gdfs\n",
    "    ]\n",
    "\n",
    "    axes[i].plot(np.linspace(0, 1, 11), points[0], \"-o\", label=\"1 bit\")\n",
    "    axes[i].plot(np.linspace(0, 1, 11), points[1], \"--o\", label=\"2 bit\")\n",
    "    axes[i].plot(np.linspace(0, 1, 11), points[2], \"--o\", label=\"3 bit\")\n",
    "\n",
    "    axes[i].set_ylim(0, 1.1)\n",
    "\n",
    "    axes[i].set_yticks(np.arange(0, 2))\n",
    "\n",
    "    axes[i].set_xlabel(\"c\")\n",
    "\n",
    "    axes[i].legend()\n",
    "    axes[i].set_title(labels[i])\n",
    "\n",
    "axes[0].set_ylabel(\"av. cooperation\");\n",
    "\n",
    "axes[0].plot(np.linspace(0, 1, 11), sxt_bits_points, \"--o\", label=\"4 bit\");\n",
    "axes[1].plot(np.linspace(0, 1, 11), sxt_bits_one_points, \"--o\", label=\"4 bit\");\n",
    "\n",
    "axes[0].legend();\n",
    "axes[1].legend();\n",
    "\n",
    "plt.savefig(\"static/average_cooperation_over_c_with_diff_selection_strength.pdf\", bbox_inches='tight')"
   ]
  },
  {
   "cell_type": "code",
   "execution_count": 143,
   "metadata": {},
   "outputs": [
    {
     "data": {
      "image/png": "[encoded data removed]",
      "text/plain": [
       "<Figure size 756x216 with 3 Axes>"
      ]
     },
     "metadata": {
      "needs_background": "light"
     },
     "output_type": "display_data"
    }
   ],
   "source": [
    "fig, axes = plt.subplots(ncols=3, figsize=(10.5, 3))\n",
    "\n",
    "for i, gdfs in enumerate([df_beta_pnt, df_beta_one, df_beta_ten]):\n",
    "\n",
    "    points = [\n",
    "        [sum(df[\"frequencies norm\"] * df[\"cooperation\"]) for df in dfs] for dfs in gdfs\n",
    "    ]\n",
    "    \n",
    "    ys1 =  np.array(points[1]) - np.array(points[0])\n",
    "    \n",
    "    ys2 =  np.array(points[2]) - np.array(points[1])\n",
    "    \n",
    "    axes[i].scatter(cs, ys1);\n",
    "    \n",
    "    axes[i].scatter(cs, ys2);\n",
    "    \n",
    "#     axes[i].legend();\n",
    "    "
   ]
  },
  {
   "cell_type": "code",
   "execution_count": 96,
   "metadata": {},
   "outputs": [],
   "source": [
    "dfs = [\n",
    "    pd.read_csv(f\"data/matlab_one_bit_beta_1_seed_{seed}_c_0.3.csv\", names=names2)\n",
    "    for seed in range(1, 11)\n",
    "]\n",
    "\n",
    "\n",
    "df2s = [\n",
    "    pd.read_csv(f\"data/matlab_two_bits_beta_1_seed_{seed}_c_0.3.csv\", names=names2)\n",
    "    for seed in range(1, 11)\n",
    "]"
   ]
  },
  {
   "cell_type": "code",
   "execution_count": 97,
   "metadata": {},
   "outputs": [],
   "source": [
    "df3s = [\n",
    "    pd.read_csv(f\"data/matlab_three_bits_beta_1_seed_{seed}_c_0.3.csv\",\n",
    "                names=names3)\n",
    "    for seed in range(1, 11)\n",
    "]"
   ]
  },
  {
   "cell_type": "code",
   "execution_count": 98,
   "metadata": {},
   "outputs": [],
   "source": [
    "dfs = [df.drop_duplicates() for df in dfs]\n",
    "\n",
    "df2s = [df.drop_duplicates() for df in df2s]\n",
    "\n",
    "df3s = [df.drop_duplicates() for df in df3s]"
   ]
  },
  {
   "cell_type": "code",
   "execution_count": 99,
   "metadata": {},
   "outputs": [],
   "source": [
    "dfs = frequencies(dfs)\n",
    "\n",
    "df2s = frequencies(df2s)\n",
    "\n",
    "df3s = frequencies(df3s)"
   ]
  },
  {
   "cell_type": "code",
   "execution_count": 100,
   "metadata": {},
   "outputs": [],
   "source": [
    "abundance = [\n",
    "    (\n",
    "        df.iloc[df[\"frequencies\"].idxmax()][\"p_1\"],\n",
    "        df.iloc[df[\"frequencies\"].idxmax()][\"p_2\"],\n",
    "    )\n",
    "    for df in dfs\n",
    "]"
   ]
  },
  {
   "cell_type": "code",
   "execution_count": 101,
   "metadata": {},
   "outputs": [],
   "source": [
    "abundance2 = [\n",
    "    (\n",
    "        df.iloc[df[\"frequencies\"].idxmax()][\"p_1\"],\n",
    "        df.iloc[df[\"frequencies\"].idxmax()][\"p_2\"],\n",
    "        df.iloc[df[\"frequencies\"].idxmax()][\"p_3\"],\n",
    "        df.iloc[df[\"frequencies\"].idxmax()][\"p_4\"],\n",
    "    )\n",
    "    for df in df2s\n",
    "]"
   ]
  },
  {
   "cell_type": "code",
   "execution_count": 102,
   "metadata": {},
   "outputs": [],
   "source": [
    "abundance3 = [\n",
    "    (\n",
    "        df.iloc[df[\"frequencies\"].idxmax()][\"p_1\"],\n",
    "        df.iloc[df[\"frequencies\"].idxmax()][\"p_2\"],\n",
    "        df.iloc[df[\"frequencies\"].idxmax()][\"p_3\"],\n",
    "        df.iloc[df[\"frequencies\"].idxmax()][\"p_4\"],\n",
    "        df.iloc[df[\"frequencies\"].idxmax()][\"p_5\"],\n",
    "        df.iloc[df[\"frequencies\"].idxmax()][\"p_6\"],\n",
    "        df.iloc[df[\"frequencies\"].idxmax()][\"p_7\"],\n",
    "        df.iloc[df[\"frequencies\"].idxmax()][\"p_8\"],\n",
    "    )\n",
    "    for df in df3s\n",
    "]"
   ]
  },
  {
   "cell_type": "markdown",
   "metadata": {},
   "source": [
    "**Sanity check cooperations**"
   ]
  },
  {
   "cell_type": "code",
   "execution_count": 103,
   "metadata": {},
   "outputs": [
    {
     "data": {
      "image/png": "[encoded data removed]",
      "text/plain": [
       "<Figure size 720x252 with 3 Axes>"
      ]
     },
     "metadata": {
      "needs_background": "light"
     },
     "output_type": "display_data"
    }
   ],
   "source": [
    "fig, axes = plt.subplots(ncols=3, figsize=(10, 3.5))\n",
    "\n",
    "heights = [[b[i] for b in abundance] for i in range(2)]\n",
    "\n",
    "errors = [np.std(h) for h in heights]\n",
    "\n",
    "for i in range(2):\n",
    "    axes[0].bar(i + 1, np.mean(heights[i]), yerr=errors[i], color=\"C0\")\n",
    "\n",
    "axes[0].set_xticks([1, 2])\n",
    "axes[0].set_xticklabels([\"C\", \"D\"], rotation=45)\n",
    "axes[0].set_title(\"One bit\", fontweight=\"bold\")\n",
    "\n",
    "axes[0].set_ylabel(\"cooperation probability\")\n",
    "\n",
    "heights = [[b[i] for b in abundance2] for i in range(4)]\n",
    "errors = [np.std(h) for h in heights]\n",
    "\n",
    "for i in range(4):\n",
    "    axes[1].bar(i + 1, np.mean(heights[i]), yerr=errors[i], color=\"C1\")\n",
    "\n",
    "axes[1].set_xticks([1, 2, 3, 4])\n",
    "axes[1].set_xticklabels([\"CC\", \"CD\", \"DC\", \"DD\"], rotation=45)\n",
    "axes[1].set_title(\"Two bits\", fontweight=\"bold\")\n",
    "\n",
    "heights = [[b[i] for b in abundance3] for i in range(8)]\n",
    "errors = [np.std(h) for h in heights]\n",
    "\n",
    "for i in range(8):\n",
    "    axes[2].bar(i + 1, np.mean(heights[i]), yerr=errors[i], color=\"C2\")\n",
    "\n",
    "axes[2].set_xticks([1, 2, 3, 4, 5, 6, 7, 8])\n",
    "axes[2].set_xticklabels([\"CCC\", \"CCD\", \"CDC\", \"CDD\", \"DCC\", \"DCD\", \"DDC\", \"DDD\"], rotation=45)\n",
    "axes[2].set_title(\"Three bits\", fontweight=\"bold\");\n",
    "\n",
    "# axes[1].text(-0.9, -0.2, \"$b=1$ & $c=0.3$\", fontsize=12)"
   ]
  },
  {
   "cell_type": "code",
   "execution_count": null,
   "metadata": {},
   "outputs": [],
   "source": []
  }
 ],
 "metadata": {
  "kernelspec": {
   "display_name": "Python 3",
   "language": "python",
   "name": "python3"
  },
  "language_info": {
   "codemirror_mode": {
    "name": "ipython",
    "version": 3
   },
   "file_extension": ".py",
   "mimetype": "text/x-python",
   "name": "python",
   "nbconvert_exporter": "python",
   "pygments_lexer": "ipython3",
   "version": "3.8.3"
  }
 },
 "nbformat": 4,
 "nbformat_minor": 4
}
