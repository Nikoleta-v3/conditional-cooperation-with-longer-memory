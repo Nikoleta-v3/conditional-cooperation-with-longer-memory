{
 "cells": [
  {
   "cell_type": "code",
   "execution_count": 1,
   "metadata": {},
   "outputs": [],
   "source": [
    "import sympy as sym"
   ]
  },
  {
   "cell_type": "code",
   "execution_count": 2,
   "metadata": {},
   "outputs": [],
   "source": [
    "import numpy as np"
   ]
  },
  {
   "cell_type": "code",
   "execution_count": 3,
   "metadata": {},
   "outputs": [],
   "source": [
    "import time"
   ]
  },
  {
   "cell_type": "code",
   "execution_count": 4,
   "metadata": {},
   "outputs": [],
   "source": [
    "p_1, p_2, p_3, p_4 = sym.symbols(\"p_1, p_2, p_3, p_4\")"
   ]
  },
  {
   "cell_type": "code",
   "execution_count": 5,
   "metadata": {},
   "outputs": [],
   "source": [
    "q_1, q_2, q_3, q_4 = sym.symbols(\"q_1, q_2, q_3, q_4\")"
   ]
  },
  {
   "cell_type": "code",
   "execution_count": 6,
   "metadata": {},
   "outputs": [],
   "source": [
    "from importlib.machinery import SourceFileLoader\n",
    "\n",
    "main = SourceFileLoader(\n",
    "    \"main\", \"main.py\"\n",
    ").load_module()\n",
    "\n",
    "from main import *"
   ]
  },
  {
   "cell_type": "code",
   "execution_count": 7,
   "metadata": {},
   "outputs": [
    {
     "data": {
      "text/latex": [
       "$\\displaystyle \\left[\\begin{array}{cccccccccccccccc}p_{1} q_{1} & p_{1} \\left(1 - q_{1}\\right) & q_{1} \\left(1 - p_{1}\\right) & \\left(1 - p_{1}\\right) \\left(1 - q_{1}\\right) & 0 & 0 & 0 & 0 & 0 & 0 & 0 & 0 & 0 & 0 & 0 & 0\\\\0 & 0 & 0 & 0 & p_{2} q_{1} & p_{2} \\left(1 - q_{1}\\right) & q_{1} \\left(1 - p_{2}\\right) & \\left(1 - p_{2}\\right) \\left(1 - q_{1}\\right) & 0 & 0 & 0 & 0 & 0 & 0 & 0 & 0\\\\0 & 0 & 0 & 0 & 0 & 0 & 0 & 0 & p_{1} q_{2} & p_{1} \\left(1 - q_{2}\\right) & q_{2} \\left(1 - p_{1}\\right) & \\left(1 - p_{1}\\right) \\left(1 - q_{2}\\right) & 0 & 0 & 0 & 0\\\\0 & 0 & 0 & 0 & 0 & 0 & 0 & 0 & 0 & 0 & 0 & 0 & p_{2} q_{2} & p_{2} \\left(1 - q_{2}\\right) & q_{2} \\left(1 - p_{2}\\right) & \\left(1 - p_{2}\\right) \\left(1 - q_{2}\\right)\\\\p_{3} q_{1} & p_{3} \\left(1 - q_{1}\\right) & q_{1} \\left(1 - p_{3}\\right) & \\left(1 - p_{3}\\right) \\left(1 - q_{1}\\right) & 0 & 0 & 0 & 0 & 0 & 0 & 0 & 0 & 0 & 0 & 0 & 0\\\\0 & 0 & 0 & 0 & p_{4} q_{1} & p_{4} \\left(1 - q_{1}\\right) & q_{1} \\left(1 - p_{4}\\right) & \\left(1 - p_{4}\\right) \\left(1 - q_{1}\\right) & 0 & 0 & 0 & 0 & 0 & 0 & 0 & 0\\\\0 & 0 & 0 & 0 & 0 & 0 & 0 & 0 & p_{3} q_{2} & p_{3} \\left(1 - q_{2}\\right) & q_{2} \\left(1 - p_{3}\\right) & \\left(1 - p_{3}\\right) \\left(1 - q_{2}\\right) & 0 & 0 & 0 & 0\\\\0 & 0 & 0 & 0 & 0 & 0 & 0 & 0 & 0 & 0 & 0 & 0 & p_{4} q_{2} & p_{4} \\left(1 - q_{2}\\right) & q_{2} \\left(1 - p_{4}\\right) & \\left(1 - p_{4}\\right) \\left(1 - q_{2}\\right)\\\\p_{1} q_{3} & p_{1} \\left(1 - q_{3}\\right) & q_{3} \\left(1 - p_{1}\\right) & \\left(1 - p_{1}\\right) \\left(1 - q_{3}\\right) & 0 & 0 & 0 & 0 & 0 & 0 & 0 & 0 & 0 & 0 & 0 & 0\\\\0 & 0 & 0 & 0 & p_{2} q_{3} & p_{2} \\left(1 - q_{3}\\right) & q_{3} \\left(1 - p_{2}\\right) & \\left(1 - p_{2}\\right) \\left(1 - q_{3}\\right) & 0 & 0 & 0 & 0 & 0 & 0 & 0 & 0\\\\0 & 0 & 0 & 0 & 0 & 0 & 0 & 0 & p_{1} q_{4} & p_{1} \\left(1 - q_{4}\\right) & q_{4} \\left(1 - p_{1}\\right) & \\left(1 - p_{1}\\right) \\left(1 - q_{4}\\right) & 0 & 0 & 0 & 0\\\\0 & 0 & 0 & 0 & 0 & 0 & 0 & 0 & 0 & 0 & 0 & 0 & p_{2} q_{4} & p_{2} \\left(1 - q_{4}\\right) & q_{4} \\left(1 - p_{2}\\right) & \\left(1 - p_{2}\\right) \\left(1 - q_{4}\\right)\\\\p_{3} q_{3} & p_{3} \\left(1 - q_{3}\\right) & q_{3} \\left(1 - p_{3}\\right) & \\left(1 - p_{3}\\right) \\left(1 - q_{3}\\right) & 0 & 0 & 0 & 0 & 0 & 0 & 0 & 0 & 0 & 0 & 0 & 0\\\\0 & 0 & 0 & 0 & p_{4} q_{3} & p_{4} \\left(1 - q_{3}\\right) & q_{3} \\left(1 - p_{4}\\right) & \\left(1 - p_{4}\\right) \\left(1 - q_{3}\\right) & 0 & 0 & 0 & 0 & 0 & 0 & 0 & 0\\\\0 & 0 & 0 & 0 & 0 & 0 & 0 & 0 & p_{3} q_{4} & p_{3} \\left(1 - q_{4}\\right) & q_{4} \\left(1 - p_{3}\\right) & \\left(1 - p_{3}\\right) \\left(1 - q_{4}\\right) & 0 & 0 & 0 & 0\\\\0 & 0 & 0 & 0 & 0 & 0 & 0 & 0 & 0 & 0 & 0 & 0 & p_{4} q_{4} & p_{4} \\left(1 - q_{4}\\right) & q_{4} \\left(1 - p_{4}\\right) & \\left(1 - p_{4}\\right) \\left(1 - q_{4}\\right)\\end{array}\\right]$"
      ],
      "text/plain": [
       "Matrix([\n",
       "[p_1*q_1, p_1*(1 - q_1), q_1*(1 - p_1), (1 - p_1)*(1 - q_1),       0,             0,             0,                   0,       0,             0,             0,                   0,       0,             0,             0,                   0],\n",
       "[      0,             0,             0,                   0, p_2*q_1, p_2*(1 - q_1), q_1*(1 - p_2), (1 - p_2)*(1 - q_1),       0,             0,             0,                   0,       0,             0,             0,                   0],\n",
       "[      0,             0,             0,                   0,       0,             0,             0,                   0, p_1*q_2, p_1*(1 - q_2), q_2*(1 - p_1), (1 - p_1)*(1 - q_2),       0,             0,             0,                   0],\n",
       "[      0,             0,             0,                   0,       0,             0,             0,                   0,       0,             0,             0,                   0, p_2*q_2, p_2*(1 - q_2), q_2*(1 - p_2), (1 - p_2)*(1 - q_2)],\n",
       "[p_3*q_1, p_3*(1 - q_1), q_1*(1 - p_3), (1 - p_3)*(1 - q_1),       0,             0,             0,                   0,       0,             0,             0,                   0,       0,             0,             0,                   0],\n",
       "[      0,             0,             0,                   0, p_4*q_1, p_4*(1 - q_1), q_1*(1 - p_4), (1 - p_4)*(1 - q_1),       0,             0,             0,                   0,       0,             0,             0,                   0],\n",
       "[      0,             0,             0,                   0,       0,             0,             0,                   0, p_3*q_2, p_3*(1 - q_2), q_2*(1 - p_3), (1 - p_3)*(1 - q_2),       0,             0,             0,                   0],\n",
       "[      0,             0,             0,                   0,       0,             0,             0,                   0,       0,             0,             0,                   0, p_4*q_2, p_4*(1 - q_2), q_2*(1 - p_4), (1 - p_4)*(1 - q_2)],\n",
       "[p_1*q_3, p_1*(1 - q_3), q_3*(1 - p_1), (1 - p_1)*(1 - q_3),       0,             0,             0,                   0,       0,             0,             0,                   0,       0,             0,             0,                   0],\n",
       "[      0,             0,             0,                   0, p_2*q_3, p_2*(1 - q_3), q_3*(1 - p_2), (1 - p_2)*(1 - q_3),       0,             0,             0,                   0,       0,             0,             0,                   0],\n",
       "[      0,             0,             0,                   0,       0,             0,             0,                   0, p_1*q_4, p_1*(1 - q_4), q_4*(1 - p_1), (1 - p_1)*(1 - q_4),       0,             0,             0,                   0],\n",
       "[      0,             0,             0,                   0,       0,             0,             0,                   0,       0,             0,             0,                   0, p_2*q_4, p_2*(1 - q_4), q_4*(1 - p_2), (1 - p_2)*(1 - q_4)],\n",
       "[p_3*q_3, p_3*(1 - q_3), q_3*(1 - p_3), (1 - p_3)*(1 - q_3),       0,             0,             0,                   0,       0,             0,             0,                   0,       0,             0,             0,                   0],\n",
       "[      0,             0,             0,                   0, p_4*q_3, p_4*(1 - q_3), q_3*(1 - p_4), (1 - p_4)*(1 - q_3),       0,             0,             0,                   0,       0,             0,             0,                   0],\n",
       "[      0,             0,             0,                   0,       0,             0,             0,                   0, p_3*q_4, p_3*(1 - q_4), q_4*(1 - p_3), (1 - p_3)*(1 - q_4),       0,             0,             0,                   0],\n",
       "[      0,             0,             0,                   0,       0,             0,             0,                   0,       0,             0,             0,                   0, p_4*q_4, p_4*(1 - q_4), q_4*(1 - p_4), (1 - p_4)*(1 - q_4)]])"
      ]
     },
     "execution_count": 7,
     "metadata": {},
     "output_type": "execute_result"
    }
   ],
   "source": [
    "transition_matrix_two_bit_analytical(\n",
    "    [p_1, p_2, p_3, p_4],\n",
    "    [q_1, q_2, q_3, q_4],\n",
    ")"
   ]
  },
  {
   "cell_type": "code",
   "execution_count": 8,
   "metadata": {},
   "outputs": [
    {
     "data": {
      "text/latex": [
       "$\\displaystyle \\left[\\begin{matrix}p_{1} q_{1} & p_{1} \\left(1 - q_{1}\\right) & q_{1} \\left(1 - p_{1}\\right) & \\left(1 - p_{1}\\right) \\left(1 - q_{1}\\right)\\\\p_{2} q_{1} & p_{2} \\left(1 - q_{1}\\right) & q_{1} \\left(1 - p_{2}\\right) & \\left(1 - p_{2}\\right) \\left(1 - q_{1}\\right)\\\\p_{1} q_{2} & p_{1} \\left(1 - q_{2}\\right) & q_{2} \\left(1 - p_{1}\\right) & \\left(1 - p_{1}\\right) \\left(1 - q_{2}\\right)\\\\p_{2} q_{2} & p_{2} \\left(1 - q_{2}\\right) & q_{2} \\left(1 - p_{2}\\right) & \\left(1 - p_{2}\\right) \\left(1 - q_{2}\\right)\\end{matrix}\\right]$"
      ],
      "text/plain": [
       "Matrix([\n",
       "[p_1*q_1, p_1*(1 - q_1), q_1*(1 - p_1), (1 - p_1)*(1 - q_1)],\n",
       "[p_2*q_1, p_2*(1 - q_1), q_1*(1 - p_2), (1 - p_2)*(1 - q_1)],\n",
       "[p_1*q_2, p_1*(1 - q_2), q_2*(1 - p_1), (1 - p_1)*(1 - q_2)],\n",
       "[p_2*q_2, p_2*(1 - q_2), q_2*(1 - p_2), (1 - p_2)*(1 - q_2)]])"
      ]
     },
     "execution_count": 8,
     "metadata": {},
     "output_type": "execute_result"
    }
   ],
   "source": [
    "transition_matrix_one_bit_analytical(\n",
    "    [p_1, p_2],\n",
    "    [q_1, q_2],\n",
    ")"
   ]
  },
  {
   "cell_type": "markdown",
   "metadata": {},
   "source": [
    "**Case for $p = (p_1, p_1, p_1, p_1)$**"
   ]
  },
  {
   "cell_type": "code",
   "execution_count": 9,
   "metadata": {},
   "outputs": [],
   "source": [
    "M = transition_matrix_two_bit_analytical([p_1, p_1, p_1, p_1], [q_1, q_1, q_1, q_1])"
   ]
  },
  {
   "cell_type": "code",
   "execution_count": 10,
   "metadata": {},
   "outputs": [],
   "source": [
    "start_time = time.time()\n",
    "\n",
    "ss = invariant_distribution_analytically(M)\n",
    "\n",
    "finish_time = time.time()"
   ]
  },
  {
   "cell_type": "code",
   "execution_count": 11,
   "metadata": {},
   "outputs": [
    {
     "data": {
      "text/plain": [
       "19.391515970230103"
      ]
     },
     "execution_count": 11,
     "metadata": {},
     "output_type": "execute_result"
    }
   ],
   "source": [
    "finish_time - start_time"
   ]
  },
  {
   "cell_type": "code",
   "execution_count": 12,
   "metadata": {},
   "outputs": [],
   "source": [
    "ss = sym.Matrix([[s.simplify() for s in ss]])"
   ]
  },
  {
   "cell_type": "code",
   "execution_count": 13,
   "metadata": {},
   "outputs": [
    {
     "data": {
      "text/latex": [
       "$\\displaystyle \\left[\\begin{array}{cccccccccccccccc}p_{1}^{2} q_{1}^{2} & p_{1}^{2} q_{1} \\left(1 - q_{1}\\right) & p_{1} q_{1}^{2} \\left(1 - p_{1}\\right) & p_{1} q_{1} \\left(p_{1} q_{1} - p_{1} - q_{1} + 1\\right) & p_{1}^{2} q_{1} \\left(1 - q_{1}\\right) & p_{1}^{2} \\left(q_{1}^{2} - 2 q_{1} + 1\\right) & p_{1} q_{1} \\left(p_{1} q_{1} - p_{1} - q_{1} + 1\\right) & p_{1} \\left(- p_{1} q_{1}^{2} + 2 p_{1} q_{1} - p_{1} + q_{1}^{2} - 2 q_{1} + 1\\right) & p_{1} q_{1}^{2} \\left(1 - p_{1}\\right) & p_{1} q_{1} \\left(p_{1} q_{1} - p_{1} - q_{1} + 1\\right) & q_{1}^{2} \\left(p_{1}^{2} - 2 p_{1} + 1\\right) & q_{1} \\left(- p_{1}^{2} q_{1} + p_{1}^{2} + 2 p_{1} q_{1} - 2 p_{1} - q_{1} + 1\\right) & p_{1} q_{1} \\left(p_{1} q_{1} - p_{1} - q_{1} + 1\\right) & p_{1} \\left(- p_{1} q_{1}^{2} + 2 p_{1} q_{1} - p_{1} + q_{1}^{2} - 2 q_{1} + 1\\right) & q_{1} \\left(- p_{1}^{2} q_{1} + p_{1}^{2} + 2 p_{1} q_{1} - 2 p_{1} - q_{1} + 1\\right) & p_{1}^{2} q_{1}^{2} - 2 p_{1}^{2} q_{1} + p_{1}^{2} - 2 p_{1} q_{1}^{2} + 4 p_{1} q_{1} - 2 p_{1} + q_{1}^{2} - 2 q_{1} + 1\\end{array}\\right]$"
      ],
      "text/plain": [
       "Matrix([[p_1**2*q_1**2, p_1**2*q_1*(1 - q_1), p_1*q_1**2*(1 - p_1), p_1*q_1*(p_1*q_1 - p_1 - q_1 + 1), p_1**2*q_1*(1 - q_1), p_1**2*(q_1**2 - 2*q_1 + 1), p_1*q_1*(p_1*q_1 - p_1 - q_1 + 1), p_1*(-p_1*q_1**2 + 2*p_1*q_1 - p_1 + q_1**2 - 2*q_1 + 1), p_1*q_1**2*(1 - p_1), p_1*q_1*(p_1*q_1 - p_1 - q_1 + 1), q_1**2*(p_1**2 - 2*p_1 + 1), q_1*(-p_1**2*q_1 + p_1**2 + 2*p_1*q_1 - 2*p_1 - q_1 + 1), p_1*q_1*(p_1*q_1 - p_1 - q_1 + 1), p_1*(-p_1*q_1**2 + 2*p_1*q_1 - p_1 + q_1**2 - 2*q_1 + 1), q_1*(-p_1**2*q_1 + p_1**2 + 2*p_1*q_1 - 2*p_1 - q_1 + 1), p_1**2*q_1**2 - 2*p_1**2*q_1 + p_1**2 - 2*p_1*q_1**2 + 4*p_1*q_1 - 2*p_1 + q_1**2 - 2*q_1 + 1]])"
      ]
     },
     "execution_count": 13,
     "metadata": {},
     "output_type": "execute_result"
    }
   ],
   "source": [
    "ss"
   ]
  },
  {
   "cell_type": "code",
   "execution_count": 14,
   "metadata": {},
   "outputs": [
    {
     "data": {
      "text/latex": [
       "$\\displaystyle \\left[\\begin{matrix}p_{1}^{2} q_{1}^{2}\\\\p_{1}^{2} q_{1} \\left(1 - q_{1}\\right)\\\\p_{1} q_{1}^{2} \\left(1 - p_{1}\\right)\\\\p_{1} q_{1} \\left(p_{1} q_{1} - p_{1} - q_{1} + 1\\right)\\\\p_{1}^{2} q_{1} \\left(1 - q_{1}\\right)\\\\p_{1}^{2} \\left(q_{1}^{2} - 2 q_{1} + 1\\right)\\\\p_{1} q_{1} \\left(p_{1} q_{1} - p_{1} - q_{1} + 1\\right)\\\\p_{1} \\left(- p_{1} q_{1}^{2} + 2 p_{1} q_{1} - p_{1} + q_{1}^{2} - 2 q_{1} + 1\\right)\\\\p_{1} q_{1}^{2} \\left(1 - p_{1}\\right)\\\\p_{1} q_{1} \\left(p_{1} q_{1} - p_{1} - q_{1} + 1\\right)\\\\q_{1}^{2} \\left(p_{1}^{2} - 2 p_{1} + 1\\right)\\\\q_{1} \\left(- p_{1}^{2} q_{1} + p_{1}^{2} + 2 p_{1} q_{1} - 2 p_{1} - q_{1} + 1\\right)\\\\p_{1} q_{1} \\left(p_{1} q_{1} - p_{1} - q_{1} + 1\\right)\\\\p_{1} \\left(- p_{1} q_{1}^{2} + 2 p_{1} q_{1} - p_{1} + q_{1}^{2} - 2 q_{1} + 1\\right)\\\\q_{1} \\left(- p_{1}^{2} q_{1} + p_{1}^{2} + 2 p_{1} q_{1} - 2 p_{1} - q_{1} + 1\\right)\\\\p_{1}^{2} q_{1}^{2} - 2 p_{1}^{2} q_{1} + p_{1}^{2} - 2 p_{1} q_{1}^{2} + 4 p_{1} q_{1} - 2 p_{1} + q_{1}^{2} - 2 q_{1} + 1\\end{matrix}\\right]$"
      ],
      "text/plain": [
       "Matrix([\n",
       "[                                                                                p_1**2*q_1**2],\n",
       "[                                                                         p_1**2*q_1*(1 - q_1)],\n",
       "[                                                                         p_1*q_1**2*(1 - p_1)],\n",
       "[                                                            p_1*q_1*(p_1*q_1 - p_1 - q_1 + 1)],\n",
       "[                                                                         p_1**2*q_1*(1 - q_1)],\n",
       "[                                                                  p_1**2*(q_1**2 - 2*q_1 + 1)],\n",
       "[                                                            p_1*q_1*(p_1*q_1 - p_1 - q_1 + 1)],\n",
       "[                                     p_1*(-p_1*q_1**2 + 2*p_1*q_1 - p_1 + q_1**2 - 2*q_1 + 1)],\n",
       "[                                                                         p_1*q_1**2*(1 - p_1)],\n",
       "[                                                            p_1*q_1*(p_1*q_1 - p_1 - q_1 + 1)],\n",
       "[                                                                  q_1**2*(p_1**2 - 2*p_1 + 1)],\n",
       "[                                     q_1*(-p_1**2*q_1 + p_1**2 + 2*p_1*q_1 - 2*p_1 - q_1 + 1)],\n",
       "[                                                            p_1*q_1*(p_1*q_1 - p_1 - q_1 + 1)],\n",
       "[                                     p_1*(-p_1*q_1**2 + 2*p_1*q_1 - p_1 + q_1**2 - 2*q_1 + 1)],\n",
       "[                                     q_1*(-p_1**2*q_1 + p_1**2 + 2*p_1*q_1 - 2*p_1 - q_1 + 1)],\n",
       "[p_1**2*q_1**2 - 2*p_1**2*q_1 + p_1**2 - 2*p_1*q_1**2 + 4*p_1*q_1 - 2*p_1 + q_1**2 - 2*q_1 + 1]])"
      ]
     },
     "execution_count": 14,
     "metadata": {},
     "output_type": "execute_result"
    }
   ],
   "source": [
    "ss.T"
   ]
  },
  {
   "cell_type": "code",
   "execution_count": 9,
   "metadata": {},
   "outputs": [],
   "source": [
    "# m = transition_matrix_two_bit([p_1, p_2, p_1, p_2], [q_1, q_2, q_1, q_2])"
   ]
  },
  {
   "cell_type": "code",
   "execution_count": null,
   "metadata": {},
   "outputs": [],
   "source": [
    "ss_one = invariant_distribution_analytically(m)"
   ]
  },
  {
   "cell_type": "code",
   "execution_count": 43,
   "metadata": {},
   "outputs": [],
   "source": [
    "ss_one = sym.Matrix([[s.factor() for s in ss_one]])"
   ]
  },
  {
   "cell_type": "code",
   "execution_count": 44,
   "metadata": {},
   "outputs": [
    {
     "data": {
      "text/latex": [
       "$\\displaystyle \\left[\\begin{matrix}\\frac{p_{1} q_{1} \\left(p_{1} q_{2} - p_{2} q_{2} + p_{2}\\right) \\left(p_{2} q_{1} - p_{2} q_{2} + q_{2}\\right)}{\\left(p_{1} q_{1} - p_{1} q_{2} - p_{2} q_{1} + p_{2} q_{2} - 1\\right)^{2}}\\\\- \\frac{p_{1} \\left(q_{1} - 1\\right) \\left(p_{1} q_{2} - p_{2} q_{2} + p_{2}\\right) \\left(p_{2} q_{1} - p_{2} q_{2} + q_{2}\\right)}{\\left(p_{1} q_{1} - p_{1} q_{2} - p_{2} q_{1} + p_{2} q_{2} - 1\\right)^{2}}\\\\- \\frac{q_{1} \\left(p_{1} - 1\\right) \\left(p_{1} q_{2} - p_{2} q_{2} + p_{2}\\right) \\left(p_{2} q_{1} - p_{2} q_{2} + q_{2}\\right)}{\\left(p_{1} q_{1} - p_{1} q_{2} - p_{2} q_{1} + p_{2} q_{2} - 1\\right)^{2}}\\\\\\frac{\\left(p_{1} - 1\\right) \\left(q_{1} - 1\\right) \\left(p_{1} q_{2} - p_{2} q_{2} + p_{2}\\right) \\left(p_{2} q_{1} - p_{2} q_{2} + q_{2}\\right)}{\\left(p_{1} q_{1} - p_{1} q_{2} - p_{2} q_{1} + p_{2} q_{2} - 1\\right)^{2}}\\\\- \\frac{p_{2} q_{1} \\left(p_{1} q_{2} - p_{2} q_{2} + p_{2}\\right) \\left(p_{1} q_{1} - p_{1} q_{2} + q_{2} - 1\\right)}{\\left(p_{1} q_{1} - p_{1} q_{2} - p_{2} q_{1} + p_{2} q_{2} - 1\\right)^{2}}\\\\\\frac{p_{2} \\left(q_{1} - 1\\right) \\left(p_{1} q_{2} - p_{2} q_{2} + p_{2}\\right) \\left(p_{1} q_{1} - p_{1} q_{2} + q_{2} - 1\\right)}{\\left(p_{1} q_{1} - p_{1} q_{2} - p_{2} q_{1} + p_{2} q_{2} - 1\\right)^{2}}\\\\\\frac{q_{1} \\left(p_{2} - 1\\right) \\left(p_{1} q_{2} - p_{2} q_{2} + p_{2}\\right) \\left(p_{1} q_{1} - p_{1} q_{2} + q_{2} - 1\\right)}{\\left(p_{1} q_{1} - p_{1} q_{2} - p_{2} q_{1} + p_{2} q_{2} - 1\\right)^{2}}\\\\- \\frac{\\left(p_{2} - 1\\right) \\left(q_{1} - 1\\right) \\left(p_{1} q_{2} - p_{2} q_{2} + p_{2}\\right) \\left(p_{1} q_{1} - p_{1} q_{2} + q_{2} - 1\\right)}{\\left(p_{1} q_{1} - p_{1} q_{2} - p_{2} q_{1} + p_{2} q_{2} - 1\\right)^{2}}\\\\- \\frac{p_{1} q_{2} \\left(p_{2} q_{1} - p_{2} q_{2} + q_{2}\\right) \\left(p_{1} q_{1} - p_{2} q_{1} + p_{2} - 1\\right)}{\\left(p_{1} q_{1} - p_{1} q_{2} - p_{2} q_{1} + p_{2} q_{2} - 1\\right)^{2}}\\\\\\frac{p_{1} \\left(q_{2} - 1\\right) \\left(p_{2} q_{1} - p_{2} q_{2} + q_{2}\\right) \\left(p_{1} q_{1} - p_{2} q_{1} + p_{2} - 1\\right)}{\\left(p_{1} q_{1} - p_{1} q_{2} - p_{2} q_{1} + p_{2} q_{2} - 1\\right)^{2}}\\\\\\frac{q_{2} \\left(p_{1} - 1\\right) \\left(p_{2} q_{1} - p_{2} q_{2} + q_{2}\\right) \\left(p_{1} q_{1} - p_{2} q_{1} + p_{2} - 1\\right)}{\\left(p_{1} q_{1} - p_{1} q_{2} - p_{2} q_{1} + p_{2} q_{2} - 1\\right)^{2}}\\\\- \\frac{\\left(p_{1} - 1\\right) \\left(q_{2} - 1\\right) \\left(p_{2} q_{1} - p_{2} q_{2} + q_{2}\\right) \\left(p_{1} q_{1} - p_{2} q_{1} + p_{2} - 1\\right)}{\\left(p_{1} q_{1} - p_{1} q_{2} - p_{2} q_{1} + p_{2} q_{2} - 1\\right)^{2}}\\\\\\frac{p_{2} q_{2} \\left(p_{1} q_{1} - p_{1} q_{2} + q_{2} - 1\\right) \\left(p_{1} q_{1} - p_{2} q_{1} + p_{2} - 1\\right)}{\\left(p_{1} q_{1} - p_{1} q_{2} - p_{2} q_{1} + p_{2} q_{2} - 1\\right)^{2}}\\\\- \\frac{p_{2} \\left(q_{2} - 1\\right) \\left(p_{1} q_{1} - p_{1} q_{2} + q_{2} - 1\\right) \\left(p_{1} q_{1} - p_{2} q_{1} + p_{2} - 1\\right)}{\\left(p_{1} q_{1} - p_{1} q_{2} - p_{2} q_{1} + p_{2} q_{2} - 1\\right)^{2}}\\\\- \\frac{q_{2} \\left(p_{2} - 1\\right) \\left(p_{1} q_{1} - p_{1} q_{2} + q_{2} - 1\\right) \\left(p_{1} q_{1} - p_{2} q_{1} + p_{2} - 1\\right)}{\\left(p_{1} q_{1} - p_{1} q_{2} - p_{2} q_{1} + p_{2} q_{2} - 1\\right)^{2}}\\\\\\frac{\\left(p_{2} - 1\\right) \\left(q_{2} - 1\\right) \\left(p_{1} q_{1} - p_{1} q_{2} + q_{2} - 1\\right) \\left(p_{1} q_{1} - p_{2} q_{1} + p_{2} - 1\\right)}{\\left(p_{1} q_{1} - p_{1} q_{2} - p_{2} q_{1} + p_{2} q_{2} - 1\\right)^{2}}\\end{matrix}\\right]$"
      ],
      "text/plain": [
       "Matrix([\n",
       "[                    p_1*q_1*(p_1*q_2 - p_2*q_2 + p_2)*(p_2*q_1 - p_2*q_2 + q_2)/(p_1*q_1 - p_1*q_2 - p_2*q_1 + p_2*q_2 - 1)**2],\n",
       "[             -p_1*(q_1 - 1)*(p_1*q_2 - p_2*q_2 + p_2)*(p_2*q_1 - p_2*q_2 + q_2)/(p_1*q_1 - p_1*q_2 - p_2*q_1 + p_2*q_2 - 1)**2],\n",
       "[             -q_1*(p_1 - 1)*(p_1*q_2 - p_2*q_2 + p_2)*(p_2*q_1 - p_2*q_2 + q_2)/(p_1*q_1 - p_1*q_2 - p_2*q_1 + p_2*q_2 - 1)**2],\n",
       "[        (p_1 - 1)*(q_1 - 1)*(p_1*q_2 - p_2*q_2 + p_2)*(p_2*q_1 - p_2*q_2 + q_2)/(p_1*q_1 - p_1*q_2 - p_2*q_1 + p_2*q_2 - 1)**2],\n",
       "[               -p_2*q_1*(p_1*q_2 - p_2*q_2 + p_2)*(p_1*q_1 - p_1*q_2 + q_2 - 1)/(p_1*q_1 - p_1*q_2 - p_2*q_1 + p_2*q_2 - 1)**2],\n",
       "[          p_2*(q_1 - 1)*(p_1*q_2 - p_2*q_2 + p_2)*(p_1*q_1 - p_1*q_2 + q_2 - 1)/(p_1*q_1 - p_1*q_2 - p_2*q_1 + p_2*q_2 - 1)**2],\n",
       "[          q_1*(p_2 - 1)*(p_1*q_2 - p_2*q_2 + p_2)*(p_1*q_1 - p_1*q_2 + q_2 - 1)/(p_1*q_1 - p_1*q_2 - p_2*q_1 + p_2*q_2 - 1)**2],\n",
       "[   -(p_2 - 1)*(q_1 - 1)*(p_1*q_2 - p_2*q_2 + p_2)*(p_1*q_1 - p_1*q_2 + q_2 - 1)/(p_1*q_1 - p_1*q_2 - p_2*q_1 + p_2*q_2 - 1)**2],\n",
       "[               -p_1*q_2*(p_2*q_1 - p_2*q_2 + q_2)*(p_1*q_1 - p_2*q_1 + p_2 - 1)/(p_1*q_1 - p_1*q_2 - p_2*q_1 + p_2*q_2 - 1)**2],\n",
       "[          p_1*(q_2 - 1)*(p_2*q_1 - p_2*q_2 + q_2)*(p_1*q_1 - p_2*q_1 + p_2 - 1)/(p_1*q_1 - p_1*q_2 - p_2*q_1 + p_2*q_2 - 1)**2],\n",
       "[          q_2*(p_1 - 1)*(p_2*q_1 - p_2*q_2 + q_2)*(p_1*q_1 - p_2*q_1 + p_2 - 1)/(p_1*q_1 - p_1*q_2 - p_2*q_1 + p_2*q_2 - 1)**2],\n",
       "[   -(p_1 - 1)*(q_2 - 1)*(p_2*q_1 - p_2*q_2 + q_2)*(p_1*q_1 - p_2*q_1 + p_2 - 1)/(p_1*q_1 - p_1*q_2 - p_2*q_1 + p_2*q_2 - 1)**2],\n",
       "[            p_2*q_2*(p_1*q_1 - p_1*q_2 + q_2 - 1)*(p_1*q_1 - p_2*q_1 + p_2 - 1)/(p_1*q_1 - p_1*q_2 - p_2*q_1 + p_2*q_2 - 1)**2],\n",
       "[     -p_2*(q_2 - 1)*(p_1*q_1 - p_1*q_2 + q_2 - 1)*(p_1*q_1 - p_2*q_1 + p_2 - 1)/(p_1*q_1 - p_1*q_2 - p_2*q_1 + p_2*q_2 - 1)**2],\n",
       "[     -q_2*(p_2 - 1)*(p_1*q_1 - p_1*q_2 + q_2 - 1)*(p_1*q_1 - p_2*q_1 + p_2 - 1)/(p_1*q_1 - p_1*q_2 - p_2*q_1 + p_2*q_2 - 1)**2],\n",
       "[(p_2 - 1)*(q_2 - 1)*(p_1*q_1 - p_1*q_2 + q_2 - 1)*(p_1*q_1 - p_2*q_1 + p_2 - 1)/(p_1*q_1 - p_1*q_2 - p_2*q_1 + p_2*q_2 - 1)**2]])"
      ]
     },
     "execution_count": 44,
     "metadata": {},
     "output_type": "execute_result"
    }
   ],
   "source": [
    "ss_one.T"
   ]
  },
  {
   "cell_type": "markdown",
   "metadata": {},
   "source": [
    "### Here to explore the payoffs against specific strategies. The payoffs when playing a parternship strategy."
   ]
  },
  {
   "cell_type": "markdown",
   "metadata": {},
   "source": [
    "### Three - bits strategies"
   ]
  },
  {
   "cell_type": "code",
   "execution_count": 10,
   "metadata": {},
   "outputs": [],
   "source": [
    "p_5, p_6, p_7, p_8 = sym.symbols(\"p_5, p_6, p_7, p_8\")"
   ]
  },
  {
   "cell_type": "code",
   "execution_count": 11,
   "metadata": {},
   "outputs": [],
   "source": [
    "q_5, q_6, q_7, q_8 = sym.symbols(\"q_5, q_6, q_7, q_8\")"
   ]
  },
  {
   "cell_type": "code",
   "execution_count": 12,
   "metadata": {},
   "outputs": [],
   "source": [
    "p = [p_1, p_2, p_3, p_4, p_5, p_6, p_7, p_8]\n",
    "q = [q_1, q_2, q_3, q_4, q_5, q_6, q_7, q_8]"
   ]
  },
  {
   "cell_type": "code",
   "execution_count": 13,
   "metadata": {},
   "outputs": [],
   "source": [
    "M = transition_matrix_three_bits_analytical(p=[p_1, p_2, p_3, p_4, p_5, p_6, p_7, p_8], \n",
    "                             q=[q_1, q_2, q_3, q_4, q_5, q_6, q_7, q_8])\n",
    "    "
   ]
  },
  {
   "cell_type": "code",
   "execution_count": 15,
   "metadata": {},
   "outputs": [],
   "source": [
    "sym.init_printing(False)"
   ]
  },
  {
   "cell_type": "code",
   "execution_count": 16,
   "metadata": {},
   "outputs": [
    {
     "data": {
      "text/plain": [
       "Matrix([\n",
       "[p_1*q_1, p_1*(1 - q_1), q_1*(1 - p_1), (1 - p_1)*(1 - q_1),       0,             0,             0,                   0,       0,             0,             0,                   0,       0,             0,             0,                   0,       0,             0,             0,                   0,       0,             0,             0,                   0,       0,             0,             0,                   0,       0,             0,             0,                   0,       0,             0,             0,                   0,       0,             0,             0,                   0,       0,             0,             0,                   0,       0,             0,             0,                   0,       0,             0,             0,                   0,       0,             0,             0,                   0,       0,             0,             0,                   0,       0,             0,             0,                   0],\n",
       "[      0,             0,             0,                   0, p_2*q_1, p_2*(1 - q_1), q_1*(1 - p_2), (1 - p_2)*(1 - q_1),       0,             0,             0,                   0,       0,             0,             0,                   0,       0,             0,             0,                   0,       0,             0,             0,                   0,       0,             0,             0,                   0,       0,             0,             0,                   0,       0,             0,             0,                   0,       0,             0,             0,                   0,       0,             0,             0,                   0,       0,             0,             0,                   0,       0,             0,             0,                   0,       0,             0,             0,                   0,       0,             0,             0,                   0,       0,             0,             0,                   0],\n",
       "[      0,             0,             0,                   0,       0,             0,             0,                   0, p_1*q_2, p_1*(1 - q_2), q_2*(1 - p_1), (1 - p_1)*(1 - q_2),       0,             0,             0,                   0,       0,             0,             0,                   0,       0,             0,             0,                   0,       0,             0,             0,                   0,       0,             0,             0,                   0,       0,             0,             0,                   0,       0,             0,             0,                   0,       0,             0,             0,                   0,       0,             0,             0,                   0,       0,             0,             0,                   0,       0,             0,             0,                   0,       0,             0,             0,                   0,       0,             0,             0,                   0],\n",
       "[      0,             0,             0,                   0,       0,             0,             0,                   0,       0,             0,             0,                   0, p_2*q_2, p_2*(1 - q_2), q_2*(1 - p_2), (1 - p_2)*(1 - q_2),       0,             0,             0,                   0,       0,             0,             0,                   0,       0,             0,             0,                   0,       0,             0,             0,                   0,       0,             0,             0,                   0,       0,             0,             0,                   0,       0,             0,             0,                   0,       0,             0,             0,                   0,       0,             0,             0,                   0,       0,             0,             0,                   0,       0,             0,             0,                   0,       0,             0,             0,                   0],\n",
       "[      0,             0,             0,                   0,       0,             0,             0,                   0,       0,             0,             0,                   0,       0,             0,             0,                   0, p_3*q_1, p_3*(1 - q_1), q_1*(1 - p_3), (1 - p_3)*(1 - q_1),       0,             0,             0,                   0,       0,             0,             0,                   0,       0,             0,             0,                   0,       0,             0,             0,                   0,       0,             0,             0,                   0,       0,             0,             0,                   0,       0,             0,             0,                   0,       0,             0,             0,                   0,       0,             0,             0,                   0,       0,             0,             0,                   0,       0,             0,             0,                   0],\n",
       "[      0,             0,             0,                   0,       0,             0,             0,                   0,       0,             0,             0,                   0,       0,             0,             0,                   0,       0,             0,             0,                   0, p_4*q_1, p_4*(1 - q_1), q_1*(1 - p_4), (1 - p_4)*(1 - q_1),       0,             0,             0,                   0,       0,             0,             0,                   0,       0,             0,             0,                   0,       0,             0,             0,                   0,       0,             0,             0,                   0,       0,             0,             0,                   0,       0,             0,             0,                   0,       0,             0,             0,                   0,       0,             0,             0,                   0,       0,             0,             0,                   0],\n",
       "[      0,             0,             0,                   0,       0,             0,             0,                   0,       0,             0,             0,                   0,       0,             0,             0,                   0,       0,             0,             0,                   0,       0,             0,             0,                   0, p_3*q_2, p_3*(1 - q_2), q_2*(1 - p_3), (1 - p_3)*(1 - q_2),       0,             0,             0,                   0,       0,             0,             0,                   0,       0,             0,             0,                   0,       0,             0,             0,                   0,       0,             0,             0,                   0,       0,             0,             0,                   0,       0,             0,             0,                   0,       0,             0,             0,                   0,       0,             0,             0,                   0],\n",
       "[      0,             0,             0,                   0,       0,             0,             0,                   0,       0,             0,             0,                   0,       0,             0,             0,                   0,       0,             0,             0,                   0,       0,             0,             0,                   0,       0,             0,             0,                   0, p_4*q_2, p_4*(1 - q_2), q_2*(1 - p_4), (1 - p_4)*(1 - q_2),       0,             0,             0,                   0,       0,             0,             0,                   0,       0,             0,             0,                   0,       0,             0,             0,                   0,       0,             0,             0,                   0,       0,             0,             0,                   0,       0,             0,             0,                   0,       0,             0,             0,                   0],\n",
       "[      0,             0,             0,                   0,       0,             0,             0,                   0,       0,             0,             0,                   0,       0,             0,             0,                   0,       0,             0,             0,                   0,       0,             0,             0,                   0,       0,             0,             0,                   0,       0,             0,             0,                   0, p_1*q_3, p_1*(1 - q_3), q_3*(1 - p_1), (1 - p_1)*(1 - q_3),       0,             0,             0,                   0,       0,             0,             0,                   0,       0,             0,             0,                   0,       0,             0,             0,                   0,       0,             0,             0,                   0,       0,             0,             0,                   0,       0,             0,             0,                   0],\n",
       "[      0,             0,             0,                   0,       0,             0,             0,                   0,       0,             0,             0,                   0,       0,             0,             0,                   0,       0,             0,             0,                   0,       0,             0,             0,                   0,       0,             0,             0,                   0,       0,             0,             0,                   0,       0,             0,             0,                   0, p_2*q_3, p_2*(1 - q_3), q_3*(1 - p_2), (1 - p_2)*(1 - q_3),       0,             0,             0,                   0,       0,             0,             0,                   0,       0,             0,             0,                   0,       0,             0,             0,                   0,       0,             0,             0,                   0,       0,             0,             0,                   0],\n",
       "[      0,             0,             0,                   0,       0,             0,             0,                   0,       0,             0,             0,                   0,       0,             0,             0,                   0,       0,             0,             0,                   0,       0,             0,             0,                   0,       0,             0,             0,                   0,       0,             0,             0,                   0,       0,             0,             0,                   0,       0,             0,             0,                   0, p_1*q_4, p_1*(1 - q_4), q_4*(1 - p_1), (1 - p_1)*(1 - q_4),       0,             0,             0,                   0,       0,             0,             0,                   0,       0,             0,             0,                   0,       0,             0,             0,                   0,       0,             0,             0,                   0],\n",
       "[      0,             0,             0,                   0,       0,             0,             0,                   0,       0,             0,             0,                   0,       0,             0,             0,                   0,       0,             0,             0,                   0,       0,             0,             0,                   0,       0,             0,             0,                   0,       0,             0,             0,                   0,       0,             0,             0,                   0,       0,             0,             0,                   0,       0,             0,             0,                   0, p_2*q_4, p_2*(1 - q_4), q_4*(1 - p_2), (1 - p_2)*(1 - q_4),       0,             0,             0,                   0,       0,             0,             0,                   0,       0,             0,             0,                   0,       0,             0,             0,                   0],\n",
       "[      0,             0,             0,                   0,       0,             0,             0,                   0,       0,             0,             0,                   0,       0,             0,             0,                   0,       0,             0,             0,                   0,       0,             0,             0,                   0,       0,             0,             0,                   0,       0,             0,             0,                   0,       0,             0,             0,                   0,       0,             0,             0,                   0,       0,             0,             0,                   0,       0,             0,             0,                   0, p_3*q_3, p_3*(1 - q_3), q_3*(1 - p_3), (1 - p_3)*(1 - q_3),       0,             0,             0,                   0,       0,             0,             0,                   0,       0,             0,             0,                   0],\n",
       "[      0,             0,             0,                   0,       0,             0,             0,                   0,       0,             0,             0,                   0,       0,             0,             0,                   0,       0,             0,             0,                   0,       0,             0,             0,                   0,       0,             0,             0,                   0,       0,             0,             0,                   0,       0,             0,             0,                   0,       0,             0,             0,                   0,       0,             0,             0,                   0,       0,             0,             0,                   0,       0,             0,             0,                   0, p_4*q_3, p_4*(1 - q_3), q_3*(1 - p_4), (1 - p_4)*(1 - q_3),       0,             0,             0,                   0,       0,             0,             0,                   0],\n",
       "[      0,             0,             0,                   0,       0,             0,             0,                   0,       0,             0,             0,                   0,       0,             0,             0,                   0,       0,             0,             0,                   0,       0,             0,             0,                   0,       0,             0,             0,                   0,       0,             0,             0,                   0,       0,             0,             0,                   0,       0,             0,             0,                   0,       0,             0,             0,                   0,       0,             0,             0,                   0,       0,             0,             0,                   0,       0,             0,             0,                   0, p_3*q_4, p_3*(1 - q_4), q_4*(1 - p_3), (1 - p_3)*(1 - q_4),       0,             0,             0,                   0],\n",
       "[      0,             0,             0,                   0,       0,             0,             0,                   0,       0,             0,             0,                   0,       0,             0,             0,                   0,       0,             0,             0,                   0,       0,             0,             0,                   0,       0,             0,             0,                   0,       0,             0,             0,                   0,       0,             0,             0,                   0,       0,             0,             0,                   0,       0,             0,             0,                   0,       0,             0,             0,                   0,       0,             0,             0,                   0,       0,             0,             0,                   0,       0,             0,             0,                   0, p_4*q_4, p_4*(1 - q_4), q_4*(1 - p_4), (1 - p_4)*(1 - q_4)],\n",
       "[p_5*q_1, p_5*(1 - q_1), q_1*(1 - p_5), (1 - p_5)*(1 - q_1),       0,             0,             0,                   0,       0,             0,             0,                   0,       0,             0,             0,                   0,       0,             0,             0,                   0,       0,             0,             0,                   0,       0,             0,             0,                   0,       0,             0,             0,                   0,       0,             0,             0,                   0,       0,             0,             0,                   0,       0,             0,             0,                   0,       0,             0,             0,                   0,       0,             0,             0,                   0,       0,             0,             0,                   0,       0,             0,             0,                   0,       0,             0,             0,                   0],\n",
       "[      0,             0,             0,                   0, p_6*q_1, p_6*(1 - q_1), q_1*(1 - p_6), (1 - p_6)*(1 - q_1),       0,             0,             0,                   0,       0,             0,             0,                   0,       0,             0,             0,                   0,       0,             0,             0,                   0,       0,             0,             0,                   0,       0,             0,             0,                   0,       0,             0,             0,                   0,       0,             0,             0,                   0,       0,             0,             0,                   0,       0,             0,             0,                   0,       0,             0,             0,                   0,       0,             0,             0,                   0,       0,             0,             0,                   0,       0,             0,             0,                   0],\n",
       "[      0,             0,             0,                   0,       0,             0,             0,                   0, p_5*q_2, p_5*(1 - q_2), q_2*(1 - p_5), (1 - p_5)*(1 - q_2),       0,             0,             0,                   0,       0,             0,             0,                   0,       0,             0,             0,                   0,       0,             0,             0,                   0,       0,             0,             0,                   0,       0,             0,             0,                   0,       0,             0,             0,                   0,       0,             0,             0,                   0,       0,             0,             0,                   0,       0,             0,             0,                   0,       0,             0,             0,                   0,       0,             0,             0,                   0,       0,             0,             0,                   0],\n",
       "[      0,             0,             0,                   0,       0,             0,             0,                   0,       0,             0,             0,                   0, p_6*q_2, p_6*(1 - q_2), q_2*(1 - p_6), (1 - p_6)*(1 - q_2),       0,             0,             0,                   0,       0,             0,             0,                   0,       0,             0,             0,                   0,       0,             0,             0,                   0,       0,             0,             0,                   0,       0,             0,             0,                   0,       0,             0,             0,                   0,       0,             0,             0,                   0,       0,             0,             0,                   0,       0,             0,             0,                   0,       0,             0,             0,                   0,       0,             0,             0,                   0],\n",
       "[      0,             0,             0,                   0,       0,             0,             0,                   0,       0,             0,             0,                   0,       0,             0,             0,                   0, p_7*q_1, p_7*(1 - q_1), q_1*(1 - p_7), (1 - p_7)*(1 - q_1),       0,             0,             0,                   0,       0,             0,             0,                   0,       0,             0,             0,                   0,       0,             0,             0,                   0,       0,             0,             0,                   0,       0,             0,             0,                   0,       0,             0,             0,                   0,       0,             0,             0,                   0,       0,             0,             0,                   0,       0,             0,             0,                   0,       0,             0,             0,                   0],\n",
       "[      0,             0,             0,                   0,       0,             0,             0,                   0,       0,             0,             0,                   0,       0,             0,             0,                   0,       0,             0,             0,                   0, p_8*q_1, p_8*(1 - q_1), q_1*(1 - p_8), (1 - p_8)*(1 - q_1),       0,             0,             0,                   0,       0,             0,             0,                   0,       0,             0,             0,                   0,       0,             0,             0,                   0,       0,             0,             0,                   0,       0,             0,             0,                   0,       0,             0,             0,                   0,       0,             0,             0,                   0,       0,             0,             0,                   0,       0,             0,             0,                   0],\n",
       "[      0,             0,             0,                   0,       0,             0,             0,                   0,       0,             0,             0,                   0,       0,             0,             0,                   0,       0,             0,             0,                   0,       0,             0,             0,                   0, p_7*q_2, p_7*(1 - q_2), q_2*(1 - p_7), (1 - p_7)*(1 - q_2),       0,             0,             0,                   0,       0,             0,             0,                   0,       0,             0,             0,                   0,       0,             0,             0,                   0,       0,             0,             0,                   0,       0,             0,             0,                   0,       0,             0,             0,                   0,       0,             0,             0,                   0,       0,             0,             0,                   0],\n",
       "[      0,             0,             0,                   0,       0,             0,             0,                   0,       0,             0,             0,                   0,       0,             0,             0,                   0,       0,             0,             0,                   0,       0,             0,             0,                   0,       0,             0,             0,                   0, p_8*q_2, p_8*(1 - q_2), q_2*(1 - p_8), (1 - p_8)*(1 - q_2),       0,             0,             0,                   0,       0,             0,             0,                   0,       0,             0,             0,                   0,       0,             0,             0,                   0,       0,             0,             0,                   0,       0,             0,             0,                   0,       0,             0,             0,                   0,       0,             0,             0,                   0],\n",
       "[      0,             0,             0,                   0,       0,             0,             0,                   0,       0,             0,             0,                   0,       0,             0,             0,                   0,       0,             0,             0,                   0,       0,             0,             0,                   0,       0,             0,             0,                   0,       0,             0,             0,                   0, p_5*q_3, p_5*(1 - q_3), q_3*(1 - p_5), (1 - p_5)*(1 - q_3),       0,             0,             0,                   0,       0,             0,             0,                   0,       0,             0,             0,                   0,       0,             0,             0,                   0,       0,             0,             0,                   0,       0,             0,             0,                   0,       0,             0,             0,                   0],\n",
       "[      0,             0,             0,                   0,       0,             0,             0,                   0,       0,             0,             0,                   0,       0,             0,             0,                   0,       0,             0,             0,                   0,       0,             0,             0,                   0,       0,             0,             0,                   0,       0,             0,             0,                   0,       0,             0,             0,                   0, p_6*q_3, p_6*(1 - q_3), q_3*(1 - p_6), (1 - p_6)*(1 - q_3),       0,             0,             0,                   0,       0,             0,             0,                   0,       0,             0,             0,                   0,       0,             0,             0,                   0,       0,             0,             0,                   0,       0,             0,             0,                   0],\n",
       "[      0,             0,             0,                   0,       0,             0,             0,                   0,       0,             0,             0,                   0,       0,             0,             0,                   0,       0,             0,             0,                   0,       0,             0,             0,                   0,       0,             0,             0,                   0,       0,             0,             0,                   0,       0,             0,             0,                   0,       0,             0,             0,                   0, p_5*q_4, p_5*(1 - q_4), q_4*(1 - p_5), (1 - p_5)*(1 - q_4),       0,             0,             0,                   0,       0,             0,             0,                   0,       0,             0,             0,                   0,       0,             0,             0,                   0,       0,             0,             0,                   0],\n",
       "[      0,             0,             0,                   0,       0,             0,             0,                   0,       0,             0,             0,                   0,       0,             0,             0,                   0,       0,             0,             0,                   0,       0,             0,             0,                   0,       0,             0,             0,                   0,       0,             0,             0,                   0,       0,             0,             0,                   0,       0,             0,             0,                   0,       0,             0,             0,                   0, p_6*q_4, p_6*(1 - q_4), q_4*(1 - p_6), (1 - p_6)*(1 - q_4),       0,             0,             0,                   0,       0,             0,             0,                   0,       0,             0,             0,                   0,       0,             0,             0,                   0],\n",
       "[      0,             0,             0,                   0,       0,             0,             0,                   0,       0,             0,             0,                   0,       0,             0,             0,                   0,       0,             0,             0,                   0,       0,             0,             0,                   0,       0,             0,             0,                   0,       0,             0,             0,                   0,       0,             0,             0,                   0,       0,             0,             0,                   0,       0,             0,             0,                   0,       0,             0,             0,                   0, p_7*q_3, p_7*(1 - q_3), q_3*(1 - p_7), (1 - p_7)*(1 - q_3),       0,             0,             0,                   0,       0,             0,             0,                   0,       0,             0,             0,                   0],\n",
       "[      0,             0,             0,                   0,       0,             0,             0,                   0,       0,             0,             0,                   0,       0,             0,             0,                   0,       0,             0,             0,                   0,       0,             0,             0,                   0,       0,             0,             0,                   0,       0,             0,             0,                   0,       0,             0,             0,                   0,       0,             0,             0,                   0,       0,             0,             0,                   0,       0,             0,             0,                   0,       0,             0,             0,                   0, p_8*q_3, p_8*(1 - q_3), q_3*(1 - p_8), (1 - p_8)*(1 - q_3),       0,             0,             0,                   0,       0,             0,             0,                   0],\n",
       "[      0,             0,             0,                   0,       0,             0,             0,                   0,       0,             0,             0,                   0,       0,             0,             0,                   0,       0,             0,             0,                   0,       0,             0,             0,                   0,       0,             0,             0,                   0,       0,             0,             0,                   0,       0,             0,             0,                   0,       0,             0,             0,                   0,       0,             0,             0,                   0,       0,             0,             0,                   0,       0,             0,             0,                   0,       0,             0,             0,                   0, p_7*q_4, p_7*(1 - q_4), q_4*(1 - p_7), (1 - p_7)*(1 - q_4),       0,             0,             0,                   0],\n",
       "[      0,             0,             0,                   0,       0,             0,             0,                   0,       0,             0,             0,                   0,       0,             0,             0,                   0,       0,             0,             0,                   0,       0,             0,             0,                   0,       0,             0,             0,                   0,       0,             0,             0,                   0,       0,             0,             0,                   0,       0,             0,             0,                   0,       0,             0,             0,                   0,       0,             0,             0,                   0,       0,             0,             0,                   0,       0,             0,             0,                   0,       0,             0,             0,                   0, p_8*q_4, p_8*(1 - q_4), q_4*(1 - p_8), (1 - p_8)*(1 - q_4)],\n",
       "[p_1*q_5, p_1*(1 - q_5), q_5*(1 - p_1), (1 - p_1)*(1 - q_5),       0,             0,             0,                   0,       0,             0,             0,                   0,       0,             0,             0,                   0,       0,             0,             0,                   0,       0,             0,             0,                   0,       0,             0,             0,                   0,       0,             0,             0,                   0,       0,             0,             0,                   0,       0,             0,             0,                   0,       0,             0,             0,                   0,       0,             0,             0,                   0,       0,             0,             0,                   0,       0,             0,             0,                   0,       0,             0,             0,                   0,       0,             0,             0,                   0],\n",
       "[      0,             0,             0,                   0, p_2*q_5, p_2*(1 - q_5), q_5*(1 - p_2), (1 - p_2)*(1 - q_5),       0,             0,             0,                   0,       0,             0,             0,                   0,       0,             0,             0,                   0,       0,             0,             0,                   0,       0,             0,             0,                   0,       0,             0,             0,                   0,       0,             0,             0,                   0,       0,             0,             0,                   0,       0,             0,             0,                   0,       0,             0,             0,                   0,       0,             0,             0,                   0,       0,             0,             0,                   0,       0,             0,             0,                   0,       0,             0,             0,                   0],\n",
       "[      0,             0,             0,                   0,       0,             0,             0,                   0, p_1*q_6, p_1*(1 - q_6), q_6*(1 - p_1), (1 - p_1)*(1 - q_6),       0,             0,             0,                   0,       0,             0,             0,                   0,       0,             0,             0,                   0,       0,             0,             0,                   0,       0,             0,             0,                   0,       0,             0,             0,                   0,       0,             0,             0,                   0,       0,             0,             0,                   0,       0,             0,             0,                   0,       0,             0,             0,                   0,       0,             0,             0,                   0,       0,             0,             0,                   0,       0,             0,             0,                   0],\n",
       "[      0,             0,             0,                   0,       0,             0,             0,                   0,       0,             0,             0,                   0, p_2*q_6, p_2*(1 - q_6), q_6*(1 - p_2), (1 - p_2)*(1 - q_6),       0,             0,             0,                   0,       0,             0,             0,                   0,       0,             0,             0,                   0,       0,             0,             0,                   0,       0,             0,             0,                   0,       0,             0,             0,                   0,       0,             0,             0,                   0,       0,             0,             0,                   0,       0,             0,             0,                   0,       0,             0,             0,                   0,       0,             0,             0,                   0,       0,             0,             0,                   0],\n",
       "[      0,             0,             0,                   0,       0,             0,             0,                   0,       0,             0,             0,                   0,       0,             0,             0,                   0, p_3*q_5, p_3*(1 - q_5), q_5*(1 - p_3), (1 - p_3)*(1 - q_5),       0,             0,             0,                   0,       0,             0,             0,                   0,       0,             0,             0,                   0,       0,             0,             0,                   0,       0,             0,             0,                   0,       0,             0,             0,                   0,       0,             0,             0,                   0,       0,             0,             0,                   0,       0,             0,             0,                   0,       0,             0,             0,                   0,       0,             0,             0,                   0],\n",
       "[      0,             0,             0,                   0,       0,             0,             0,                   0,       0,             0,             0,                   0,       0,             0,             0,                   0,       0,             0,             0,                   0, p_4*q_5, p_4*(1 - q_5), q_5*(1 - p_4), (1 - p_4)*(1 - q_5),       0,             0,             0,                   0,       0,             0,             0,                   0,       0,             0,             0,                   0,       0,             0,             0,                   0,       0,             0,             0,                   0,       0,             0,             0,                   0,       0,             0,             0,                   0,       0,             0,             0,                   0,       0,             0,             0,                   0,       0,             0,             0,                   0],\n",
       "[      0,             0,             0,                   0,       0,             0,             0,                   0,       0,             0,             0,                   0,       0,             0,             0,                   0,       0,             0,             0,                   0,       0,             0,             0,                   0, p_3*q_6, p_3*(1 - q_6), q_6*(1 - p_3), (1 - p_3)*(1 - q_6),       0,             0,             0,                   0,       0,             0,             0,                   0,       0,             0,             0,                   0,       0,             0,             0,                   0,       0,             0,             0,                   0,       0,             0,             0,                   0,       0,             0,             0,                   0,       0,             0,             0,                   0,       0,             0,             0,                   0],\n",
       "[      0,             0,             0,                   0,       0,             0,             0,                   0,       0,             0,             0,                   0,       0,             0,             0,                   0,       0,             0,             0,                   0,       0,             0,             0,                   0,       0,             0,             0,                   0, p_4*q_6, p_4*(1 - q_6), q_6*(1 - p_4), (1 - p_4)*(1 - q_6),       0,             0,             0,                   0,       0,             0,             0,                   0,       0,             0,             0,                   0,       0,             0,             0,                   0,       0,             0,             0,                   0,       0,             0,             0,                   0,       0,             0,             0,                   0,       0,             0,             0,                   0],\n",
       "[      0,             0,             0,                   0,       0,             0,             0,                   0,       0,             0,             0,                   0,       0,             0,             0,                   0,       0,             0,             0,                   0,       0,             0,             0,                   0,       0,             0,             0,                   0,       0,             0,             0,                   0, p_1*q_7, p_1*(1 - q_7), q_7*(1 - p_1), (1 - p_1)*(1 - q_7),       0,             0,             0,                   0,       0,             0,             0,                   0,       0,             0,             0,                   0,       0,             0,             0,                   0,       0,             0,             0,                   0,       0,             0,             0,                   0,       0,             0,             0,                   0],\n",
       "[      0,             0,             0,                   0,       0,             0,             0,                   0,       0,             0,             0,                   0,       0,             0,             0,                   0,       0,             0,             0,                   0,       0,             0,             0,                   0,       0,             0,             0,                   0,       0,             0,             0,                   0,       0,             0,             0,                   0, p_2*q_7, p_2*(1 - q_7), q_7*(1 - p_2), (1 - p_2)*(1 - q_7),       0,             0,             0,                   0,       0,             0,             0,                   0,       0,             0,             0,                   0,       0,             0,             0,                   0,       0,             0,             0,                   0,       0,             0,             0,                   0],\n",
       "[      0,             0,             0,                   0,       0,             0,             0,                   0,       0,             0,             0,                   0,       0,             0,             0,                   0,       0,             0,             0,                   0,       0,             0,             0,                   0,       0,             0,             0,                   0,       0,             0,             0,                   0,       0,             0,             0,                   0,       0,             0,             0,                   0, p_1*q_8, p_1*(1 - q_8), q_8*(1 - p_1), (1 - p_1)*(1 - q_8),       0,             0,             0,                   0,       0,             0,             0,                   0,       0,             0,             0,                   0,       0,             0,             0,                   0,       0,             0,             0,                   0],\n",
       "[      0,             0,             0,                   0,       0,             0,             0,                   0,       0,             0,             0,                   0,       0,             0,             0,                   0,       0,             0,             0,                   0,       0,             0,             0,                   0,       0,             0,             0,                   0,       0,             0,             0,                   0,       0,             0,             0,                   0,       0,             0,             0,                   0,       0,             0,             0,                   0, p_2*q_8, p_2*(1 - q_8), q_8*(1 - p_2), (1 - p_2)*(1 - q_8),       0,             0,             0,                   0,       0,             0,             0,                   0,       0,             0,             0,                   0,       0,             0,             0,                   0],\n",
       "[      0,             0,             0,                   0,       0,             0,             0,                   0,       0,             0,             0,                   0,       0,             0,             0,                   0,       0,             0,             0,                   0,       0,             0,             0,                   0,       0,             0,             0,                   0,       0,             0,             0,                   0,       0,             0,             0,                   0,       0,             0,             0,                   0,       0,             0,             0,                   0,       0,             0,             0,                   0, p_3*q_7, p_3*(1 - q_7), q_7*(1 - p_3), (1 - p_3)*(1 - q_7),       0,             0,             0,                   0,       0,             0,             0,                   0,       0,             0,             0,                   0],\n",
       "[      0,             0,             0,                   0,       0,             0,             0,                   0,       0,             0,             0,                   0,       0,             0,             0,                   0,       0,             0,             0,                   0,       0,             0,             0,                   0,       0,             0,             0,                   0,       0,             0,             0,                   0,       0,             0,             0,                   0,       0,             0,             0,                   0,       0,             0,             0,                   0,       0,             0,             0,                   0,       0,             0,             0,                   0, p_4*q_7, p_4*(1 - q_7), q_7*(1 - p_4), (1 - p_4)*(1 - q_7),       0,             0,             0,                   0,       0,             0,             0,                   0],\n",
       "[      0,             0,             0,                   0,       0,             0,             0,                   0,       0,             0,             0,                   0,       0,             0,             0,                   0,       0,             0,             0,                   0,       0,             0,             0,                   0,       0,             0,             0,                   0,       0,             0,             0,                   0,       0,             0,             0,                   0,       0,             0,             0,                   0,       0,             0,             0,                   0,       0,             0,             0,                   0,       0,             0,             0,                   0,       0,             0,             0,                   0, p_3*q_8, p_3*(1 - q_8), q_8*(1 - p_3), (1 - p_3)*(1 - q_8),       0,             0,             0,                   0],\n",
       "[      0,             0,             0,                   0,       0,             0,             0,                   0,       0,             0,             0,                   0,       0,             0,             0,                   0,       0,             0,             0,                   0,       0,             0,             0,                   0,       0,             0,             0,                   0,       0,             0,             0,                   0,       0,             0,             0,                   0,       0,             0,             0,                   0,       0,             0,             0,                   0,       0,             0,             0,                   0,       0,             0,             0,                   0,       0,             0,             0,                   0,       0,             0,             0,                   0, p_4*q_8, p_4*(1 - q_8), q_8*(1 - p_4), (1 - p_4)*(1 - q_8)],\n",
       "[p_5*q_5, p_5*(1 - q_5), q_5*(1 - p_5), (1 - p_5)*(1 - q_5),       0,             0,             0,                   0,       0,             0,             0,                   0,       0,             0,             0,                   0,       0,             0,             0,                   0,       0,             0,             0,                   0,       0,             0,             0,                   0,       0,             0,             0,                   0,       0,             0,             0,                   0,       0,             0,             0,                   0,       0,             0,             0,                   0,       0,             0,             0,                   0,       0,             0,             0,                   0,       0,             0,             0,                   0,       0,             0,             0,                   0,       0,             0,             0,                   0],\n",
       "[      0,             0,             0,                   0, p_6*q_5, p_6*(1 - q_5), q_5*(1 - p_6), (1 - p_6)*(1 - q_5),       0,             0,             0,                   0,       0,             0,             0,                   0,       0,             0,             0,                   0,       0,             0,             0,                   0,       0,             0,             0,                   0,       0,             0,             0,                   0,       0,             0,             0,                   0,       0,             0,             0,                   0,       0,             0,             0,                   0,       0,             0,             0,                   0,       0,             0,             0,                   0,       0,             0,             0,                   0,       0,             0,             0,                   0,       0,             0,             0,                   0],\n",
       "[      0,             0,             0,                   0,       0,             0,             0,                   0, p_5*q_6, p_5*(1 - q_6), q_6*(1 - p_5), (1 - p_5)*(1 - q_6),       0,             0,             0,                   0,       0,             0,             0,                   0,       0,             0,             0,                   0,       0,             0,             0,                   0,       0,             0,             0,                   0,       0,             0,             0,                   0,       0,             0,             0,                   0,       0,             0,             0,                   0,       0,             0,             0,                   0,       0,             0,             0,                   0,       0,             0,             0,                   0,       0,             0,             0,                   0,       0,             0,             0,                   0],\n",
       "[      0,             0,             0,                   0,       0,             0,             0,                   0,       0,             0,             0,                   0, p_6*q_6, p_6*(1 - q_6), q_6*(1 - p_6), (1 - p_6)*(1 - q_6),       0,             0,             0,                   0,       0,             0,             0,                   0,       0,             0,             0,                   0,       0,             0,             0,                   0,       0,             0,             0,                   0,       0,             0,             0,                   0,       0,             0,             0,                   0,       0,             0,             0,                   0,       0,             0,             0,                   0,       0,             0,             0,                   0,       0,             0,             0,                   0,       0,             0,             0,                   0],\n",
       "[      0,             0,             0,                   0,       0,             0,             0,                   0,       0,             0,             0,                   0,       0,             0,             0,                   0, p_7*q_5, p_7*(1 - q_5), q_5*(1 - p_7), (1 - p_7)*(1 - q_5),       0,             0,             0,                   0,       0,             0,             0,                   0,       0,             0,             0,                   0,       0,             0,             0,                   0,       0,             0,             0,                   0,       0,             0,             0,                   0,       0,             0,             0,                   0,       0,             0,             0,                   0,       0,             0,             0,                   0,       0,             0,             0,                   0,       0,             0,             0,                   0],\n",
       "[      0,             0,             0,                   0,       0,             0,             0,                   0,       0,             0,             0,                   0,       0,             0,             0,                   0,       0,             0,             0,                   0, p_8*q_5, p_8*(1 - q_5), q_5*(1 - p_8), (1 - p_8)*(1 - q_5),       0,             0,             0,                   0,       0,             0,             0,                   0,       0,             0,             0,                   0,       0,             0,             0,                   0,       0,             0,             0,                   0,       0,             0,             0,                   0,       0,             0,             0,                   0,       0,             0,             0,                   0,       0,             0,             0,                   0,       0,             0,             0,                   0],\n",
       "[      0,             0,             0,                   0,       0,             0,             0,                   0,       0,             0,             0,                   0,       0,             0,             0,                   0,       0,             0,             0,                   0,       0,             0,             0,                   0, p_7*q_6, p_7*(1 - q_6), q_6*(1 - p_7), (1 - p_7)*(1 - q_6),       0,             0,             0,                   0,       0,             0,             0,                   0,       0,             0,             0,                   0,       0,             0,             0,                   0,       0,             0,             0,                   0,       0,             0,             0,                   0,       0,             0,             0,                   0,       0,             0,             0,                   0,       0,             0,             0,                   0],\n",
       "[      0,             0,             0,                   0,       0,             0,             0,                   0,       0,             0,             0,                   0,       0,             0,             0,                   0,       0,             0,             0,                   0,       0,             0,             0,                   0,       0,             0,             0,                   0, p_8*q_6, p_8*(1 - q_6), q_6*(1 - p_8), (1 - p_8)*(1 - q_6),       0,             0,             0,                   0,       0,             0,             0,                   0,       0,             0,             0,                   0,       0,             0,             0,                   0,       0,             0,             0,                   0,       0,             0,             0,                   0,       0,             0,             0,                   0,       0,             0,             0,                   0],\n",
       "[      0,             0,             0,                   0,       0,             0,             0,                   0,       0,             0,             0,                   0,       0,             0,             0,                   0,       0,             0,             0,                   0,       0,             0,             0,                   0,       0,             0,             0,                   0,       0,             0,             0,                   0, p_5*q_7, p_5*(1 - q_7), q_7*(1 - p_5), (1 - p_5)*(1 - q_7),       0,             0,             0,                   0,       0,             0,             0,                   0,       0,             0,             0,                   0,       0,             0,             0,                   0,       0,             0,             0,                   0,       0,             0,             0,                   0,       0,             0,             0,                   0],\n",
       "[      0,             0,             0,                   0,       0,             0,             0,                   0,       0,             0,             0,                   0,       0,             0,             0,                   0,       0,             0,             0,                   0,       0,             0,             0,                   0,       0,             0,             0,                   0,       0,             0,             0,                   0,       0,             0,             0,                   0, p_6*q_7, p_6*(1 - q_7), q_7*(1 - p_6), (1 - p_6)*(1 - q_7),       0,             0,             0,                   0,       0,             0,             0,                   0,       0,             0,             0,                   0,       0,             0,             0,                   0,       0,             0,             0,                   0,       0,             0,             0,                   0],\n",
       "[      0,             0,             0,                   0,       0,             0,             0,                   0,       0,             0,             0,                   0,       0,             0,             0,                   0,       0,             0,             0,                   0,       0,             0,             0,                   0,       0,             0,             0,                   0,       0,             0,             0,                   0,       0,             0,             0,                   0,       0,             0,             0,                   0, p_5*q_8, p_5*(1 - q_8), q_8*(1 - p_5), (1 - p_5)*(1 - q_8),       0,             0,             0,                   0,       0,             0,             0,                   0,       0,             0,             0,                   0,       0,             0,             0,                   0,       0,             0,             0,                   0],\n",
       "[      0,             0,             0,                   0,       0,             0,             0,                   0,       0,             0,             0,                   0,       0,             0,             0,                   0,       0,             0,             0,                   0,       0,             0,             0,                   0,       0,             0,             0,                   0,       0,             0,             0,                   0,       0,             0,             0,                   0,       0,             0,             0,                   0,       0,             0,             0,                   0, p_6*q_8, p_6*(1 - q_8), q_8*(1 - p_6), (1 - p_6)*(1 - q_8),       0,             0,             0,                   0,       0,             0,             0,                   0,       0,             0,             0,                   0,       0,             0,             0,                   0],\n",
       "[      0,             0,             0,                   0,       0,             0,             0,                   0,       0,             0,             0,                   0,       0,             0,             0,                   0,       0,             0,             0,                   0,       0,             0,             0,                   0,       0,             0,             0,                   0,       0,             0,             0,                   0,       0,             0,             0,                   0,       0,             0,             0,                   0,       0,             0,             0,                   0,       0,             0,             0,                   0, p_7*q_7, p_7*(1 - q_7), q_7*(1 - p_7), (1 - p_7)*(1 - q_7),       0,             0,             0,                   0,       0,             0,             0,                   0,       0,             0,             0,                   0],\n",
       "[      0,             0,             0,                   0,       0,             0,             0,                   0,       0,             0,             0,                   0,       0,             0,             0,                   0,       0,             0,             0,                   0,       0,             0,             0,                   0,       0,             0,             0,                   0,       0,             0,             0,                   0,       0,             0,             0,                   0,       0,             0,             0,                   0,       0,             0,             0,                   0,       0,             0,             0,                   0,       0,             0,             0,                   0, p_8*q_7, p_8*(1 - q_7), q_7*(1 - p_8), (1 - p_8)*(1 - q_7),       0,             0,             0,                   0,       0,             0,             0,                   0],\n",
       "[      0,             0,             0,                   0,       0,             0,             0,                   0,       0,             0,             0,                   0,       0,             0,             0,                   0,       0,             0,             0,                   0,       0,             0,             0,                   0,       0,             0,             0,                   0,       0,             0,             0,                   0,       0,             0,             0,                   0,       0,             0,             0,                   0,       0,             0,             0,                   0,       0,             0,             0,                   0,       0,             0,             0,                   0,       0,             0,             0,                   0, p_7*q_8, p_7*(1 - q_8), q_8*(1 - p_7), (1 - p_7)*(1 - q_8),       0,             0,             0,                   0],\n",
       "[      0,             0,             0,                   0,       0,             0,             0,                   0,       0,             0,             0,                   0,       0,             0,             0,                   0,       0,             0,             0,                   0,       0,             0,             0,                   0,       0,             0,             0,                   0,       0,             0,             0,                   0,       0,             0,             0,                   0,       0,             0,             0,                   0,       0,             0,             0,                   0,       0,             0,             0,                   0,       0,             0,             0,                   0,       0,             0,             0,                   0,       0,             0,             0,                   0, p_8*q_8, p_8*(1 - q_8), q_8*(1 - p_8), (1 - p_8)*(1 - q_8)]])"
      ]
     },
     "execution_count": 16,
     "metadata": {},
     "output_type": "execute_result"
    }
   ],
   "source": [
    "M"
   ]
  },
  {
   "cell_type": "code",
   "execution_count": 30,
   "metadata": {},
   "outputs": [
    {
     "data": {
      "text/latex": [
       "$\\displaystyle \\left[\\begin{array}{cccccccccccccccccccccccccccccccccccccccccccccccccccccccccccccccc}0 & 0 & 0 & 0 & 0 & 0 & 0 & 0 & 0 & 0 & 0 & 0 & 0 & 0 & 0 & 0 & 0 & 0 & 0 & 0 & 0 & 0 & 0 & 0 & p_{3} q_{2} & p_{3} \\left(1 - q_{2}\\right) & q_{2} \\left(1 - p_{3}\\right) & \\left(1 - p_{3}\\right) \\left(1 - q_{2}\\right) & 0 & 0 & 0 & 0 & 0 & 0 & 0 & 0 & 0 & 0 & 0 & 0 & 0 & 0 & 0 & 0 & 0 & 0 & 0 & 0 & 0 & 0 & 0 & 0 & 0 & 0 & 0 & 0 & 0 & 0 & 0 & 0 & 0 & 0 & 0 & 0\\end{array}\\right]$"
      ],
      "text/plain": [
       "Matrix([[0, 0, 0, 0, 0, 0, 0, 0, 0, 0, 0, 0, 0, 0, 0, 0, 0, 0, 0, 0, 0, 0, 0, 0, p_3*q_2, p_3*(1 - q_2), q_2*(1 - p_3), (1 - p_3)*(1 - q_2), 0, 0, 0, 0, 0, 0, 0, 0, 0, 0, 0, 0, 0, 0, 0, 0, 0, 0, 0, 0, 0, 0, 0, 0, 0, 0, 0, 0, 0, 0, 0, 0, 0, 0, 0, 0]])"
      ]
     },
     "execution_count": 30,
     "metadata": {},
     "output_type": "execute_result"
    }
   ],
   "source": [
    "M[6, :]"
   ]
  },
  {
   "cell_type": "code",
   "execution_count": null,
   "metadata": {},
   "outputs": [],
   "source": []
  }
 ],
 "metadata": {
  "kernelspec": {
   "display_name": "Python 3",
   "language": "python",
   "name": "python3"
  },
  "language_info": {
   "codemirror_mode": {
    "name": "ipython",
    "version": 3
   },
   "file_extension": ".py",
   "mimetype": "text/x-python",
   "name": "python",
   "nbconvert_exporter": "python",
   "pygments_lexer": "ipython3",
   "version": "3.8.3"
  }
 },
 "nbformat": 4,
 "nbformat_minor": 4
}
