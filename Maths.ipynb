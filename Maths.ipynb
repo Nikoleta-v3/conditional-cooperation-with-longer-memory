{
 "cells": [
  {
   "cell_type": "code",
   "execution_count": 1,
   "metadata": {},
   "outputs": [],
   "source": [
    "import sympy as sym"
   ]
  },
  {
   "cell_type": "code",
   "execution_count": 2,
   "metadata": {},
   "outputs": [],
   "source": [
    "import numpy as np"
   ]
  },
  {
   "cell_type": "code",
   "execution_count": 3,
   "metadata": {},
   "outputs": [],
   "source": [
    "import time"
   ]
  },
  {
   "cell_type": "code",
   "execution_count": 4,
   "metadata": {},
   "outputs": [],
   "source": [
    "import itertools"
   ]
  },
  {
   "cell_type": "code",
   "execution_count": 5,
   "metadata": {},
   "outputs": [],
   "source": [
    "p_1, p_2, p_3, p_4 = sym.symbols(\"p_1, p_2, p_3, p_4\")"
   ]
  },
  {
   "cell_type": "code",
   "execution_count": 6,
   "metadata": {},
   "outputs": [],
   "source": [
    "q_1, q_2, q_3, q_4 = sym.symbols(\"q_1, q_2, q_3, q_4\")"
   ]
  },
  {
   "cell_type": "code",
   "execution_count": 7,
   "metadata": {},
   "outputs": [],
   "source": [
    "b, c = sym.symbols(\"b, c\")"
   ]
  },
  {
   "cell_type": "code",
   "execution_count": 8,
   "metadata": {},
   "outputs": [],
   "source": [
    "from importlib.machinery import SourceFileLoader\n",
    "\n",
    "main = SourceFileLoader(\n",
    "    \"main\", \"main.py\"\n",
    ").load_module()\n",
    "\n",
    "from main import *"
   ]
  },
  {
   "cell_type": "markdown",
   "metadata": {},
   "source": [
    "## One bit analytically"
   ]
  },
  {
   "cell_type": "code",
   "execution_count": 10,
   "metadata": {},
   "outputs": [
    {
     "data": {
      "text/latex": [
       "$\\displaystyle \\left[\\begin{matrix}p_{1} q_{1} & p_{1} \\left(1 - q_{1}\\right) & q_{1} \\left(1 - p_{1}\\right) & \\left(1 - p_{1}\\right) \\left(1 - q_{1}\\right)\\\\p_{2} q_{1} & p_{2} \\left(1 - q_{1}\\right) & q_{1} \\left(1 - p_{2}\\right) & \\left(1 - p_{2}\\right) \\left(1 - q_{1}\\right)\\\\p_{1} q_{2} & p_{1} \\left(1 - q_{2}\\right) & q_{2} \\left(1 - p_{1}\\right) & \\left(1 - p_{1}\\right) \\left(1 - q_{2}\\right)\\\\p_{2} q_{2} & p_{2} \\left(1 - q_{2}\\right) & q_{2} \\left(1 - p_{2}\\right) & \\left(1 - p_{2}\\right) \\left(1 - q_{2}\\right)\\end{matrix}\\right]$"
      ],
      "text/plain": [
       "Matrix([\n",
       "[p_1*q_1, p_1*(1 - q_1), q_1*(1 - p_1), (1 - p_1)*(1 - q_1)],\n",
       "[p_2*q_1, p_2*(1 - q_1), q_1*(1 - p_2), (1 - p_2)*(1 - q_1)],\n",
       "[p_1*q_2, p_1*(1 - q_2), q_2*(1 - p_1), (1 - p_1)*(1 - q_2)],\n",
       "[p_2*q_2, p_2*(1 - q_2), q_2*(1 - p_2), (1 - p_2)*(1 - q_2)]])"
      ]
     },
     "execution_count": 10,
     "metadata": {},
     "output_type": "execute_result"
    }
   ],
   "source": [
    "M = transition_matrix([p_1, p_2],\n",
    "                      [q_1, q_2],\n",
    "                      bits=2, analytical=True)\n",
    "M"
   ]
  },
  {
   "cell_type": "code",
   "execution_count": 11,
   "metadata": {},
   "outputs": [],
   "source": [
    "ss = invariant_distribution_analytically(M)"
   ]
  },
  {
   "cell_type": "code",
   "execution_count": 12,
   "metadata": {},
   "outputs": [
    {
     "data": {
      "text/latex": [
       "$\\displaystyle \\left[\\begin{matrix}b - c & - c & b & 0\\end{matrix}\\right]$"
      ],
      "text/plain": [
       "Matrix([[b - c, -c, b, 0]])"
      ]
     },
     "execution_count": 12,
     "metadata": {},
     "output_type": "execute_result"
    }
   ],
   "source": [
    "sym.Matrix([b - c, -c, b, 0]).T"
   ]
  },
  {
   "cell_type": "code",
   "execution_count": 13,
   "metadata": {},
   "outputs": [],
   "source": [
    "expr = ss @ sym.Matrix([b - c, -c, b, 0])"
   ]
  },
  {
   "cell_type": "code",
   "execution_count": 24,
   "metadata": {},
   "outputs": [
    {
     "data": {
      "text/latex": [
       "$\\displaystyle - \\frac{b \\left(p_{2} q_{1} + q_{2} \\left(1 - p_{2}\\right)\\right) + c \\left(- p_{2} + q_{2} \\left(- p_{1} + p_{2}\\right)\\right)}{q_{1} \\left(p_{1} - p_{2}\\right) + q_{2} \\left(- p_{1} + p_{2}\\right) - 1}$"
      ],
      "text/plain": [
       "-(b*(p_2*q_1 + q_2*(1 - p_2)) + c*(-p_2 + q_2*(-p_1 + p_2)))/(q_1*(p_1 - p_2) + q_2*(-p_1 + p_2) - 1)"
      ]
     },
     "execution_count": 24,
     "metadata": {},
     "output_type": "execute_result"
    }
   ],
   "source": [
    "expr[0].factor().collect(b).collect(c).collect(q_2).collect(q_1)"
   ]
  },
  {
   "cell_type": "code",
   "execution_count": 25,
   "metadata": {},
   "outputs": [
    {
     "data": {
      "text/plain": [
       "'- \\\\frac{b \\\\left(p_{2} q_{1} + q_{2} \\\\left(1 - p_{2}\\\\right)\\\\right) + c \\\\left(- p_{2} + q_{2} \\\\left(- p_{1} + p_{2}\\\\right)\\\\right)}{q_{1} \\\\left(p_{1} - p_{2}\\\\right) + q_{2} \\\\left(- p_{1} + p_{2}\\\\right) - 1}'"
      ]
     },
     "execution_count": 25,
     "metadata": {},
     "output_type": "execute_result"
    }
   ],
   "source": [
    "sym.latex(expr[0].factor().collect(b).collect(c).collect(q_2).collect(q_1))"
   ]
  },
  {
   "cell_type": "markdown",
   "metadata": {},
   "source": [
    "## Two bits analytically"
   ]
  },
  {
   "cell_type": "code",
   "execution_count": null,
   "metadata": {},
   "outputs": [],
   "source": []
  },
  {
   "cell_type": "markdown",
   "metadata": {},
   "source": [
    "### Against ALLC and ALLD"
   ]
  },
  {
   "cell_type": "code",
   "execution_count": 139,
   "metadata": {},
   "outputs": [],
   "source": [
    "defector = [0, 0, 0, 0]\n",
    "cooperator = [1, 1, 1, 1]"
   ]
  },
  {
   "cell_type": "code",
   "execution_count": 140,
   "metadata": {},
   "outputs": [],
   "source": [
    "M = transition_matrix([p_1, p_2, p_3, p_4],\n",
    "                      defector,\n",
    "                      bits=4, analytical=True)"
   ]
  },
  {
   "cell_type": "code",
   "execution_count": 142,
   "metadata": {},
   "outputs": [
    {
     "data": {
      "image/png": "[encoded data removed]",
      "text/latex": [
       "$\\displaystyle \\left( 16, \\  16\\right)$"
      ],
      "text/plain": [
       "(16, 16)"
      ]
     },
     "execution_count": 142,
     "metadata": {},
     "output_type": "execute_result"
    }
   ],
   "source": [
    "M.shape"
   ]
  },
  {
   "cell_type": "code",
   "execution_count": 13,
   "metadata": {},
   "outputs": [],
   "source": [
    "ss = invariant_distribution_analytically(M)"
   ]
  },
  {
   "cell_type": "code",
   "execution_count": 14,
   "metadata": {},
   "outputs": [
    {
     "data": {
      "text/latex": [
       "$\\displaystyle \\left[\\begin{array}{cccccccccccccccc}b - c & - c & b & 0 & b - c & - c & b & 0 & b - c & - c & b & 0 & b - c & - c & b & 0\\end{array}\\right]$"
      ],
      "text/plain": [
       "Matrix([[b - c, -c, b, 0, b - c, -c, b, 0, b - c, -c, b, 0, b - c, -c, b, 0]])"
      ]
     },
     "execution_count": 14,
     "metadata": {},
     "output_type": "execute_result"
    }
   ],
   "source": [
    "sym.Matrix([b - c, -c, b, 0] * 4).T"
   ]
  },
  {
   "cell_type": "code",
   "execution_count": 15,
   "metadata": {},
   "outputs": [],
   "source": [
    "expr = ss @ sym.Matrix([b - c, -c, b, 0] * 4)"
   ]
  },
  {
   "cell_type": "code",
   "execution_count": 16,
   "metadata": {},
   "outputs": [
    {
     "data": {
      "text/latex": [
       "$\\displaystyle - c p_{4}$"
      ],
      "text/plain": [
       "-c*p_4"
      ]
     },
     "execution_count": 16,
     "metadata": {},
     "output_type": "execute_result"
    }
   ],
   "source": [
    "expr[0].factor()"
   ]
  },
  {
   "cell_type": "code",
   "execution_count": 18,
   "metadata": {},
   "outputs": [],
   "source": [
    "M = transition_matrix([p_1, p_2, p_3, p_4],\n",
    "                      cooperator,\n",
    "                      bits=4, analytical=True)\n",
    "ss = invariant_distribution_analytically(M)"
   ]
  },
  {
   "cell_type": "code",
   "execution_count": 21,
   "metadata": {},
   "outputs": [
    {
     "data": {
      "text/latex": [
       "$\\displaystyle b - c p_{1}$"
      ],
      "text/plain": [
       "b - c*p_1"
      ]
     },
     "execution_count": 21,
     "metadata": {},
     "output_type": "execute_result"
    }
   ],
   "source": [
    "expr = ss @ sym.Matrix([b - c, -c, b, 0] * 4)\n",
    "expr[0].factor()"
   ]
  },
  {
   "cell_type": "code",
   "execution_count": 120,
   "metadata": {},
   "outputs": [],
   "source": [
    "M = transition_matrix([p_1, p_2, p_3, p_4],\n",
    "                      [1, 0, 1, 0],\n",
    "                      bits=4, analytical=True)\n",
    "\n",
    "ss = invariant_distribution_analytically(M)"
   ]
  },
  {
   "cell_type": "code",
   "execution_count": 129,
   "metadata": {},
   "outputs": [],
   "source": [
    "sym.init_printing(True)"
   ]
  },
  {
   "cell_type": "code",
   "execution_count": 130,
   "metadata": {},
   "outputs": [
    {
     "data": {
      "image/png": "[encoded data removed]",
      "text/latex": [
       "$\\displaystyle \\left[\\begin{array}{cccccccccccccccc}p_{1} & 0 & 1 - p_{1} & 0 & 0 & 0 & 0 & 0 & 0 & 0 & 0 & 0 & 0 & 0 & 0 & 0\\\\0 & 0 & 0 & 0 & p_{2} & 0 & 1 - p_{2} & 0 & 0 & 0 & 0 & 0 & 0 & 0 & 0 & 0\\\\0 & 0 & 0 & 0 & 0 & 0 & 0 & 0 & 0 & p_{1} & 0 & 1 - p_{1} & 0 & 0 & 0 & 0\\\\0 & 0 & 0 & 0 & 0 & 0 & 0 & 0 & 0 & 0 & 0 & 0 & 0 & p_{2} & 0 & 1 - p_{2}\\\\p_{3} & 0 & 1 - p_{3} & 0 & 0 & 0 & 0 & 0 & 0 & 0 & 0 & 0 & 0 & 0 & 0 & 0\\\\0 & 0 & 0 & 0 & p_{4} & 0 & 1 - p_{4} & 0 & 0 & 0 & 0 & 0 & 0 & 0 & 0 & 0\\\\0 & 0 & 0 & 0 & 0 & 0 & 0 & 0 & 0 & p_{3} & 0 & 1 - p_{3} & 0 & 0 & 0 & 0\\\\0 & 0 & 0 & 0 & 0 & 0 & 0 & 0 & 0 & 0 & 0 & 0 & 0 & p_{4} & 0 & 1 - p_{4}\\\\p_{1} & 0 & 1 - p_{1} & 0 & 0 & 0 & 0 & 0 & 0 & 0 & 0 & 0 & 0 & 0 & 0 & 0\\\\0 & 0 & 0 & 0 & p_{2} & 0 & 1 - p_{2} & 0 & 0 & 0 & 0 & 0 & 0 & 0 & 0 & 0\\\\0 & 0 & 0 & 0 & 0 & 0 & 0 & 0 & 0 & p_{1} & 0 & 1 - p_{1} & 0 & 0 & 0 & 0\\\\0 & 0 & 0 & 0 & 0 & 0 & 0 & 0 & 0 & 0 & 0 & 0 & 0 & p_{2} & 0 & 1 - p_{2}\\\\p_{3} & 0 & 1 - p_{3} & 0 & 0 & 0 & 0 & 0 & 0 & 0 & 0 & 0 & 0 & 0 & 0 & 0\\\\0 & 0 & 0 & 0 & p_{4} & 0 & 1 - p_{4} & 0 & 0 & 0 & 0 & 0 & 0 & 0 & 0 & 0\\\\0 & 0 & 0 & 0 & 0 & 0 & 0 & 0 & 0 & p_{3} & 0 & 1 - p_{3} & 0 & 0 & 0 & 0\\\\0 & 0 & 0 & 0 & 0 & 0 & 0 & 0 & 0 & 0 & 0 & 0 & 0 & p_{4} & 0 & 1 - p_{4}\\end{array}\\right]$"
      ],
      "text/plain": [
       "⎡p₁  0  1 - p₁  0  0   0    0     0  0  0   0    0     0  0   0    0   ⎤\n",
       "⎢                                                                      ⎥\n",
       "⎢0   0    0     0  p₂  0  1 - p₂  0  0  0   0    0     0  0   0    0   ⎥\n",
       "⎢                                                                      ⎥\n",
       "⎢0   0    0     0  0   0    0     0  0  p₁  0  1 - p₁  0  0   0    0   ⎥\n",
       "⎢                                                                      ⎥\n",
       "⎢0   0    0     0  0   0    0     0  0  0   0    0     0  p₂  0  1 - p₂⎥\n",
       "⎢                                                                      ⎥\n",
       "⎢p₃  0  1 - p₃  0  0   0    0     0  0  0   0    0     0  0   0    0   ⎥\n",
       "⎢                                                                      ⎥\n",
       "⎢0   0    0     0  p₄  0  1 - p₄  0  0  0   0    0     0  0   0    0   ⎥\n",
       "⎢                                                                      ⎥\n",
       "⎢0   0    0     0  0   0    0     0  0  p₃  0  1 - p₃  0  0   0    0   ⎥\n",
       "⎢                                                                      ⎥\n",
       "⎢0   0    0     0  0   0    0     0  0  0   0    0     0  p₄  0  1 - p₄⎥\n",
       "⎢                                                                      ⎥\n",
       "⎢p₁  0  1 - p₁  0  0   0    0     0  0  0   0    0     0  0   0    0   ⎥\n",
       "⎢                                                                      ⎥\n",
       "⎢0   0    0     0  p₂  0  1 - p₂  0  0  0   0    0     0  0   0    0   ⎥\n",
       "⎢                                                                      ⎥\n",
       "⎢0   0    0     0  0   0    0     0  0  p₁  0  1 - p₁  0  0   0    0   ⎥\n",
       "⎢                                                                      ⎥\n",
       "⎢0   0    0     0  0   0    0     0  0  0   0    0     0  p₂  0  1 - p₂⎥\n",
       "⎢                                                                      ⎥\n",
       "⎢p₃  0  1 - p₃  0  0   0    0     0  0  0   0    0     0  0   0    0   ⎥\n",
       "⎢                                                                      ⎥\n",
       "⎢0   0    0     0  p₄  0  1 - p₄  0  0  0   0    0     0  0   0    0   ⎥\n",
       "⎢                                                                      ⎥\n",
       "⎢0   0    0     0  0   0    0     0  0  p₃  0  1 - p₃  0  0   0    0   ⎥\n",
       "⎢                                                                      ⎥\n",
       "⎣0   0    0     0  0   0    0     0  0  0   0    0     0  p₄  0  1 - p₄⎦"
      ]
     },
     "execution_count": 130,
     "metadata": {},
     "output_type": "execute_result"
    }
   ],
   "source": [
    "M"
   ]
  },
  {
   "cell_type": "code",
   "execution_count": 123,
   "metadata": {},
   "outputs": [
    {
     "data": {
      "image/png": "[encoded data removed]",
      "text/latex": [
       "$\\displaystyle \\frac{p_{4} \\left(- b \\left(p_{1} p_{2} p_{3} - p_{1} p_{3} p_{4} + p_{1} p_{4} - p_{2} p_{3} + p_{3} p_{4} - p_{4}\\right) - b \\left(- p_{1}^{2} p_{2} + p_{1}^{2} p_{4} + p_{1} p_{2} - 2 p_{1} p_{4} + p_{1} + p_{4} - 1\\right) + c \\left(p_{1}^{2} p_{4} - p_{1} p_{3} p_{4} + p_{1} p_{3} - p_{1} p_{4} + p_{3} p_{4} - p_{3}\\right) - c \\left(p_{1}^{2} p_{2} - p_{1} p_{2} p_{3} - p_{1} p_{2} + p_{1} p_{3} - p_{1} + p_{2} p_{3} - p_{3} + 1\\right) + p_{3} \\left(b - c\\right) \\left(p_{2} p_{3} - p_{3} p_{4} + p_{4}\\right) - \\left(b - c\\right) \\left(p_{1} p_{2} p_{3} - p_{1} p_{3} p_{4} + p_{1} p_{4} - p_{2} p_{3} + p_{3} p_{4} - p_{4}\\right)\\right)}{- p_{1}^{2} p_{2}^{2} + 3 p_{1}^{2} p_{2} p_{4} + p_{1}^{2} p_{2} - 2 p_{1}^{2} p_{4}^{2} + p_{1} p_{2}^{2} p_{3} + p_{1} p_{2}^{2} - 4 p_{1} p_{2} p_{3} p_{4} - 2 p_{1} p_{2} p_{3} - 3 p_{1} p_{2} p_{4} + 3 p_{1} p_{3} p_{4}^{2} + p_{1} p_{3} p_{4} + p_{1} p_{3} + p_{1} p_{4}^{2} - 3 p_{1} p_{4} - p_{1} - p_{2}^{2} p_{3} + p_{2} p_{3}^{2} p_{4} + 4 p_{2} p_{3} p_{4} + 2 p_{2} p_{3} - p_{2} - p_{3}^{2} p_{4}^{2} - 2 p_{3} p_{4}^{2} - p_{3} p_{4} - p_{3} + p_{4}^{2} + 3 p_{4} + 1}$"
      ],
      "text/plain": [
       "   ⎛                                                          ⎛    2        2 \n",
       "p₄⋅⎝-b⋅(p₁⋅p₂⋅p₃ - p₁⋅p₃⋅p₄ + p₁⋅p₄ - p₂⋅p₃ + p₃⋅p₄ - p₄) - b⋅⎝- p₁ ⋅p₂ + p₁ ⋅\n",
       "──────────────────────────────────────────────────────────────────────────────\n",
       "                                  2   2       2           2          2   2    \n",
       "                              - p₁ ⋅p₂  + 3⋅p₁ ⋅p₂⋅p₄ + p₁ ⋅p₂ - 2⋅p₁ ⋅p₄  + p\n",
       "\n",
       "                                  ⎞     ⎛  2                                  \n",
       "p₄ + p₁⋅p₂ - 2⋅p₁⋅p₄ + p₁ + p₄ - 1⎠ + c⋅⎝p₁ ⋅p₄ - p₁⋅p₃⋅p₄ + p₁⋅p₃ - p₁⋅p₄ + p\n",
       "──────────────────────────────────────────────────────────────────────────────\n",
       "    2           2                                                       2     \n",
       "₁⋅p₂ ⋅p₃ + p₁⋅p₂  - 4⋅p₁⋅p₂⋅p₃⋅p₄ - 2⋅p₁⋅p₂⋅p₃ - 3⋅p₁⋅p₂⋅p₄ + 3⋅p₁⋅p₃⋅p₄  + p₁\n",
       "\n",
       "         ⎞     ⎛  2                                                    ⎞      \n",
       "₃⋅p₄ - p₃⎠ - c⋅⎝p₁ ⋅p₂ - p₁⋅p₂⋅p₃ - p₁⋅p₂ + p₁⋅p₃ - p₁ + p₂⋅p₃ - p₃ + 1⎠ + p₃⋅\n",
       "──────────────────────────────────────────────────────────────────────────────\n",
       "                      2                    2           2                      \n",
       "⋅p₃⋅p₄ + p₁⋅p₃ + p₁⋅p₄  - 3⋅p₁⋅p₄ - p₁ - p₂ ⋅p₃ + p₂⋅p₃ ⋅p₄ + 4⋅p₂⋅p₃⋅p₄ + 2⋅p\n",
       "\n",
       "                                                                              \n",
       "(b - c)⋅(p₂⋅p₃ - p₃⋅p₄ + p₄) - (b - c)⋅(p₁⋅p₂⋅p₃ - p₁⋅p₃⋅p₄ + p₁⋅p₄ - p₂⋅p₃ + \n",
       "──────────────────────────────────────────────────────────────────────────────\n",
       "              2   2          2                  2                             \n",
       "₂⋅p₃ - p₂ - p₃ ⋅p₄  - 2⋅p₃⋅p₄  - p₃⋅p₄ - p₃ + p₄  + 3⋅p₄ + 1                  \n",
       "\n",
       "           ⎞\n",
       "p₃⋅p₄ - p₄)⎠\n",
       "────────────\n",
       "            \n",
       "            "
      ]
     },
     "execution_count": 123,
     "metadata": {},
     "output_type": "execute_result"
    }
   ],
   "source": [
    "expr = ss @ sym.Matrix([b - c, -c, b, 0] * 4)\n",
    "expr[0].simplify()"
   ]
  },
  {
   "cell_type": "code",
   "execution_count": 125,
   "metadata": {},
   "outputs": [
    {
     "data": {
      "image/png": "[encoded data removed]",
      "text/latex": [
       "$\\displaystyle - \\frac{p_{4} \\left(b - c\\right) \\left(p_{1}^{2} p_{2} - p_{1}^{2} p_{4} - 2 p_{1} p_{2} p_{3} - p_{1} p_{2} + 2 p_{1} p_{3} p_{4} - p_{1} + p_{2} p_{3}^{2} + 2 p_{2} p_{3} - p_{3}^{2} p_{4} - p_{3} p_{4} + p_{4} + 1\\right)}{p_{1}^{2} p_{2}^{2} - 3 p_{1}^{2} p_{2} p_{4} - p_{1}^{2} p_{2} + 2 p_{1}^{2} p_{4}^{2} - p_{1} p_{2}^{2} p_{3} - p_{1} p_{2}^{2} + 4 p_{1} p_{2} p_{3} p_{4} + 2 p_{1} p_{2} p_{3} + 3 p_{1} p_{2} p_{4} - 3 p_{1} p_{3} p_{4}^{2} - p_{1} p_{3} p_{4} - p_{1} p_{3} - p_{1} p_{4}^{2} + 3 p_{1} p_{4} + p_{1} + p_{2}^{2} p_{3} - p_{2} p_{3}^{2} p_{4} - 4 p_{2} p_{3} p_{4} - 2 p_{2} p_{3} + p_{2} + p_{3}^{2} p_{4}^{2} + 2 p_{3} p_{4}^{2} + p_{3} p_{4} + p_{3} - p_{4}^{2} - 3 p_{4} - 1}$"
      ],
      "text/plain": [
       "                                                                              \n",
       "                                                                          -p₄⋅\n",
       "──────────────────────────────────────────────────────────────────────────────\n",
       "  2   2       2           2          2   2        2           2               \n",
       "p₁ ⋅p₂  - 3⋅p₁ ⋅p₂⋅p₄ - p₁ ⋅p₂ + 2⋅p₁ ⋅p₄  - p₁⋅p₂ ⋅p₃ - p₁⋅p₂  + 4⋅p₁⋅p₂⋅p₃⋅p\n",
       "\n",
       "        ⎛  2        2                                                  2      \n",
       "(b - c)⋅⎝p₁ ⋅p₂ - p₁ ⋅p₄ - 2⋅p₁⋅p₂⋅p₃ - p₁⋅p₂ + 2⋅p₁⋅p₃⋅p₄ - p₁ + p₂⋅p₃  + 2⋅p\n",
       "──────────────────────────────────────────────────────────────────────────────\n",
       "                                        2                           2         \n",
       "₄ + 2⋅p₁⋅p₂⋅p₃ + 3⋅p₁⋅p₂⋅p₄ - 3⋅p₁⋅p₃⋅p₄  - p₁⋅p₃⋅p₄ - p₁⋅p₃ - p₁⋅p₄  + 3⋅p₁⋅p\n",
       "\n",
       "         2                    ⎞                                               \n",
       "₂⋅p₃ - p₃ ⋅p₄ - p₃⋅p₄ + p₄ + 1⎠                                               \n",
       "──────────────────────────────────────────────────────────────────────────────\n",
       "           2           2                                    2   2          2  \n",
       "₄ + p₁ + p₂ ⋅p₃ - p₂⋅p₃ ⋅p₄ - 4⋅p₂⋅p₃⋅p₄ - 2⋅p₂⋅p₃ + p₂ + p₃ ⋅p₄  + 2⋅p₃⋅p₄  +\n",
       "\n",
       "                            \n",
       "                            \n",
       "────────────────────────────\n",
       "                2           \n",
       " p₃⋅p₄ + p₃ - p₄  - 3⋅p₄ - 1"
      ]
     },
     "execution_count": 125,
     "metadata": {},
     "output_type": "execute_result"
    }
   ],
   "source": [
    "expr[0].factor()"
   ]
  },
  {
   "cell_type": "code",
   "execution_count": null,
   "metadata": {},
   "outputs": [],
   "source": [
    "M = transition_matrix([p_1, p_2, p_3, p_4],\n",
    "                      [1, 0, 1, 0],\n",
    "                      bits=4, analytical=True)\n",
    "\n",
    "ss = invariant_distribution_analytically(M)"
   ]
  },
  {
   "cell_type": "code",
   "execution_count": null,
   "metadata": {},
   "outputs": [],
   "source": []
  },
  {
   "cell_type": "markdown",
   "metadata": {},
   "source": [
    "### Edge strategies"
   ]
  },
  {
   "cell_type": "code",
   "execution_count": 26,
   "metadata": {},
   "outputs": [],
   "source": [
    "edge_strategies = list(itertools.product([0, 1], repeat=4))"
   ]
  },
  {
   "cell_type": "code",
   "execution_count": 30,
   "metadata": {},
   "outputs": [
    {
     "data": {
      "text/plain": [
       "[(0, 0, 0, 0),\n",
       " (0, 0, 0, 1),\n",
       " (0, 0, 1, 0),\n",
       " (0, 0, 1, 1),\n",
       " (0, 1, 0, 0),\n",
       " (0, 1, 0, 1),\n",
       " (0, 1, 1, 0),\n",
       " (0, 1, 1, 1),\n",
       " (1, 0, 0, 0),\n",
       " (1, 0, 0, 1),\n",
       " (1, 0, 1, 0),\n",
       " (1, 0, 1, 1),\n",
       " (1, 1, 0, 0),\n",
       " (1, 1, 0, 1),\n",
       " (1, 1, 1, 0),\n",
       " (1, 1, 1, 1)]"
      ]
     },
     "execution_count": 30,
     "metadata": {},
     "output_type": "execute_result"
    }
   ],
   "source": [
    "edge_strategies"
   ]
  },
  {
   "cell_type": "code",
   "execution_count": 29,
   "metadata": {},
   "outputs": [
    {
     "data": {
      "text/plain": [
       "16"
      ]
     },
     "execution_count": 29,
     "metadata": {},
     "output_type": "execute_result"
    }
   ],
   "source": [
    "4 ** 2"
   ]
  },
  {
   "cell_type": "code",
   "execution_count": 101,
   "metadata": {},
   "outputs": [
    {
     "data": {
      "text/plain": [
       "16"
      ]
     },
     "execution_count": 101,
     "metadata": {},
     "output_type": "execute_result"
    }
   ],
   "source": [
    "len(edge_strategies)"
   ]
  },
  {
   "cell_type": "code",
   "execution_count": 32,
   "metadata": {},
   "outputs": [],
   "source": [
    "def round_expr(expr, num_digits):\n",
    "    return expr.xreplace({n : round(n, num_digits) for n in expr.atoms(sym.Number)})"
   ]
  },
  {
   "cell_type": "code",
   "execution_count": 54,
   "metadata": {},
   "outputs": [],
   "source": [
    "payoff_matrix = sym.zeros(len(edge_strategies), len(edge_strategies))\n",
    "\n",
    "stationaries = []\n",
    "\n",
    "for i, p1 in enumerate(edge_strategies):\n",
    "    for j, p2 in enumerate(edge_strategies):\n",
    "\n",
    "        M = transition_matrix(p1, p2, bits=4)\n",
    "        ss = invariant_distribution(M)\n",
    "          \n",
    "        payoff_matrix[i, j] = round_expr((sym.Matrix(ss).T @ sym.Matrix([b - c, b, -c, 0] * 4))[0].simplify(), 3)"
   ]
  },
  {
   "cell_type": "code",
   "execution_count": 55,
   "metadata": {},
   "outputs": [],
   "source": [
    "import pandas as pd"
   ]
  },
  {
   "cell_type": "code",
   "execution_count": 56,
   "metadata": {},
   "outputs": [
    {
     "data": {
      "text/latex": [
       "$\\displaystyle \\left[\\begin{array}{cccccccccccccccc}0 & - 1.0 c & 0 & - 1.0 c & 0 & - 1.0 c & 0 & - 1.0 c & 0 & - 1.0 c & 0 & - 1.0 c & 0 & - 1.0 c & 0 & - 1.0 c\\\\1.0 b & 1.0 b & 1.0 b & - 1.0 c & 1.0 b & - 1.0 c & 0.333 b - 0.333 c & - 1.0 c & 0.5 b - 0.333 c & - 1.0 c & 0.4 b - 0.4 c & - 1.0 c & 0.429 b - 0.429 c & - 1.0 c & 0.333 b - 0.5 c & - 1.0 c\\\\0 & - 1.0 c & 0.5 b - 0.5 c & 0.5 b - 0.5 c & 0 & - 1.0 c & 0 & - 1.0 c & 0 & - 1.0 c & 0.5 b - 0.5 c & 0.5 b - 0.5 c & 0 & - 1.0 c & 0 & - 1.0 c\\\\1.0 b & 1.0 b & 0.5 b - 0.5 c & 0.5 b - 0.5 c & 1.0 b & - 1.0 c & 1.0 b & - 1.0 c & 0.571 b - 0.429 c & - 1.0 c & 0.5 b - 0.5 c & 0.5 b - 0.5 c & 0.5 b - 0.5 c & - 1.0 c & 0.429 b - 0.571 c & - 1.0 c\\\\0 & - 1.0 c & 0 & - 1.0 c & 0.5 b - 0.5 c & 0.5 b - 0.5 c & 0 & - 1.0 c & 0 & - 1.0 c & 0 & - 1.0 c & 0.5 b - 0.5 c & 0.5 b - 0.5 c & 0 & - 1.0 c\\\\1.0 b & 1.0 b & 1.0 b & 1.0 b & 0.5 b - 0.5 c & 0.5 b - 0.5 c & 0.429 b - 0.571 c & - 1.0 c & 0.6 b - 0.4 c & 0.571 b - 0.429 c & 0.5 b - 0.5 c & - 1.0 c & 0.5 b - 0.5 c & 0.5 b - 0.5 c & 0.4 b - 0.6 c & - 1.0 c\\\\0 & 0.333 b - 0.333 c & 0 & - 1.0 c & 0 & 0.571 b - 0.429 c & 0.667 b - 0.333 c & - 1.0 c & 0 & 0.667 b - 0.667 c & 0.571 b - 0.571 c & - 1.0 c & 0 & - 1.0 c & 0.333 b - 0.667 c & - 1.0 c\\\\1.0 b & 1.0 b & 1.0 b & 1.0 b & 1.0 b & 1.0 b & 1.0 b & 1.0 b & 0.667 b - 0.5 c & 0.667 b - 0.667 c & 0.6 b - 0.6 c & - 1.0 c & 0.571 b - 0.571 c & - 1.0 c & 0.5 b - 0.667 c & - 1.0 c\\\\0 & 0.333 b - 0.5 c & 0 & 0.429 b - 0.571 c & 0 & 0.4 b - 0.6 c & 0 & 0.5 b - 0.667 c & 1.0 b - 1.0 c & 0.333 b - 0.667 c & 1.0 b - 1.0 c & 1.0 b - 1.0 c & 1.0 b - 1.0 c & 1.0 b - 1.0 c & 1.0 b - 1.0 c & 1.0 b - 1.0 c\\\\1.0 b & 1.0 b & 1.0 b & 1.0 b & 1.0 b & 0.429 b - 0.571 c & 0.667 b - 0.667 c & 0.667 b - 0.667 c & 0.667 b - 0.333 c & 0.667 b - 0.333 c & 0.429 b - 0.429 c & 1.0 b - 1.0 c & 1.0 b - 1.0 c & 1.0 b - 1.0 c & 1.0 b - 1.0 c & 1.0 b - 1.0 c\\\\0 & 0.4 b - 0.4 c & 0.5 b - 0.5 c & 0.5 b - 0.5 c & 0 & 0.5 b - 0.5 c & 0.571 b - 0.571 c & 0.6 b - 0.6 c & 1.0 b - 1.0 c & 0.429 b - 0.429 c & 0.5 b - 0.5 c & 0.5 b - 0.5 c & 1.0 b - 1.0 c & 1.0 b - 1.0 c & 1.0 b - 1.0 c & 1.0 b - 1.0 c\\\\1.0 b & 1.0 b & 0.5 b - 0.5 c & 0.5 b - 0.5 c & 1.0 b & 1.0 b & 1.0 b & 1.0 b & 1.0 b - 1.0 c & 1.0 b - 1.0 c & 0.5 b - 0.5 c & 0.5 b - 0.5 c & 1.0 b - 1.0 c & 1.0 b - 1.0 c & 1.0 b - 1.0 c & 1.0 b - 1.0 c\\\\0 & 0.429 b - 0.429 c & 0 & 0.5 b - 0.5 c & 0.5 b - 0.5 c & 0.5 b - 0.5 c & 0 & 0.571 b - 0.571 c & 1.0 b - 1.0 c & 1.0 b - 1.0 c & 1.0 b - 1.0 c & 1.0 b - 1.0 c & 0.5 b - 0.5 c & 0.5 b - 0.5 c & 1.0 b - 1.0 c & 1.0 b - 1.0 c\\\\1.0 b & 1.0 b & 1.0 b & 1.0 b & 0.5 b - 0.5 c & 0.5 b - 0.5 c & 1.0 b & 1.0 b & 1.0 b - 1.0 c & 1.0 b - 1.0 c & 1.0 b - 1.0 c & 1.0 b - 1.0 c & 0.5 b - 0.5 c & 0.5 b - 0.5 c & 1.0 b - 1.0 c & 1.0 b - 1.0 c\\\\0 & 0.5 b - 0.333 c & 0 & 0.571 b - 0.429 c & 0 & 0.6 b - 0.4 c & 0.667 b - 0.333 c & 0.667 b - 0.5 c & 1.0 b - 1.0 c & 1.0 b - 1.0 c & 1.0 b - 1.0 c & 1.0 b - 1.0 c & 1.0 b - 1.0 c & 1.0 b - 1.0 c & 1.0 b - 1.0 c & 1.0 b - 1.0 c\\\\1.0 b & 1.0 b & 1.0 b & 1.0 b & 1.0 b & 1.0 b & 1.0 b & 1.0 b & 1.0 b - 1.0 c & 1.0 b - 1.0 c & 1.0 b - 1.0 c & 1.0 b - 1.0 c & 1.0 b - 1.0 c & 1.0 b - 1.0 c & 1.0 b - 1.0 c & 1.0 b - 1.0 c\\end{array}\\right]$"
      ],
      "text/plain": [
       "Matrix([\n",
       "[    0,            -1.0*c,             0,            -1.0*c,             0,            -1.0*c,                 0,            -1.0*c,                 0,            -1.0*c,                 0,        -1.0*c,                 0,        -1.0*c,                 0,        -1.0*c],\n",
       "[1.0*b,             1.0*b,         1.0*b,            -1.0*c,         1.0*b,            -1.0*c, 0.333*b - 0.333*c,            -1.0*c,   0.5*b - 0.333*c,            -1.0*c,     0.4*b - 0.4*c,        -1.0*c, 0.429*b - 0.429*c,        -1.0*c,   0.333*b - 0.5*c,        -1.0*c],\n",
       "[    0,            -1.0*c, 0.5*b - 0.5*c,     0.5*b - 0.5*c,             0,            -1.0*c,                 0,            -1.0*c,                 0,            -1.0*c,     0.5*b - 0.5*c, 0.5*b - 0.5*c,                 0,        -1.0*c,                 0,        -1.0*c],\n",
       "[1.0*b,             1.0*b, 0.5*b - 0.5*c,     0.5*b - 0.5*c,         1.0*b,            -1.0*c,             1.0*b,            -1.0*c, 0.571*b - 0.429*c,            -1.0*c,     0.5*b - 0.5*c, 0.5*b - 0.5*c,     0.5*b - 0.5*c,        -1.0*c, 0.429*b - 0.571*c,        -1.0*c],\n",
       "[    0,            -1.0*c,             0,            -1.0*c, 0.5*b - 0.5*c,     0.5*b - 0.5*c,                 0,            -1.0*c,                 0,            -1.0*c,                 0,        -1.0*c,     0.5*b - 0.5*c, 0.5*b - 0.5*c,                 0,        -1.0*c],\n",
       "[1.0*b,             1.0*b,         1.0*b,             1.0*b, 0.5*b - 0.5*c,     0.5*b - 0.5*c, 0.429*b - 0.571*c,            -1.0*c,     0.6*b - 0.4*c, 0.571*b - 0.429*c,     0.5*b - 0.5*c,        -1.0*c,     0.5*b - 0.5*c, 0.5*b - 0.5*c,     0.4*b - 0.6*c,        -1.0*c],\n",
       "[    0, 0.333*b - 0.333*c,             0,            -1.0*c,             0, 0.571*b - 0.429*c, 0.667*b - 0.333*c,            -1.0*c,                 0, 0.667*b - 0.667*c, 0.571*b - 0.571*c,        -1.0*c,                 0,        -1.0*c, 0.333*b - 0.667*c,        -1.0*c],\n",
       "[1.0*b,             1.0*b,         1.0*b,             1.0*b,         1.0*b,             1.0*b,             1.0*b,             1.0*b,   0.667*b - 0.5*c, 0.667*b - 0.667*c,     0.6*b - 0.6*c,        -1.0*c, 0.571*b - 0.571*c,        -1.0*c,   0.5*b - 0.667*c,        -1.0*c],\n",
       "[    0,   0.333*b - 0.5*c,             0, 0.429*b - 0.571*c,             0,     0.4*b - 0.6*c,                 0,   0.5*b - 0.667*c,     1.0*b - 1.0*c, 0.333*b - 0.667*c,     1.0*b - 1.0*c, 1.0*b - 1.0*c,     1.0*b - 1.0*c, 1.0*b - 1.0*c,     1.0*b - 1.0*c, 1.0*b - 1.0*c],\n",
       "[1.0*b,             1.0*b,         1.0*b,             1.0*b,         1.0*b, 0.429*b - 0.571*c, 0.667*b - 0.667*c, 0.667*b - 0.667*c, 0.667*b - 0.333*c, 0.667*b - 0.333*c, 0.429*b - 0.429*c, 1.0*b - 1.0*c,     1.0*b - 1.0*c, 1.0*b - 1.0*c,     1.0*b - 1.0*c, 1.0*b - 1.0*c],\n",
       "[    0,     0.4*b - 0.4*c, 0.5*b - 0.5*c,     0.5*b - 0.5*c,             0,     0.5*b - 0.5*c, 0.571*b - 0.571*c,     0.6*b - 0.6*c,     1.0*b - 1.0*c, 0.429*b - 0.429*c,     0.5*b - 0.5*c, 0.5*b - 0.5*c,     1.0*b - 1.0*c, 1.0*b - 1.0*c,     1.0*b - 1.0*c, 1.0*b - 1.0*c],\n",
       "[1.0*b,             1.0*b, 0.5*b - 0.5*c,     0.5*b - 0.5*c,         1.0*b,             1.0*b,             1.0*b,             1.0*b,     1.0*b - 1.0*c,     1.0*b - 1.0*c,     0.5*b - 0.5*c, 0.5*b - 0.5*c,     1.0*b - 1.0*c, 1.0*b - 1.0*c,     1.0*b - 1.0*c, 1.0*b - 1.0*c],\n",
       "[    0, 0.429*b - 0.429*c,             0,     0.5*b - 0.5*c, 0.5*b - 0.5*c,     0.5*b - 0.5*c,                 0, 0.571*b - 0.571*c,     1.0*b - 1.0*c,     1.0*b - 1.0*c,     1.0*b - 1.0*c, 1.0*b - 1.0*c,     0.5*b - 0.5*c, 0.5*b - 0.5*c,     1.0*b - 1.0*c, 1.0*b - 1.0*c],\n",
       "[1.0*b,             1.0*b,         1.0*b,             1.0*b, 0.5*b - 0.5*c,     0.5*b - 0.5*c,             1.0*b,             1.0*b,     1.0*b - 1.0*c,     1.0*b - 1.0*c,     1.0*b - 1.0*c, 1.0*b - 1.0*c,     0.5*b - 0.5*c, 0.5*b - 0.5*c,     1.0*b - 1.0*c, 1.0*b - 1.0*c],\n",
       "[    0,   0.5*b - 0.333*c,             0, 0.571*b - 0.429*c,             0,     0.6*b - 0.4*c, 0.667*b - 0.333*c,   0.667*b - 0.5*c,     1.0*b - 1.0*c,     1.0*b - 1.0*c,     1.0*b - 1.0*c, 1.0*b - 1.0*c,     1.0*b - 1.0*c, 1.0*b - 1.0*c,     1.0*b - 1.0*c, 1.0*b - 1.0*c],\n",
       "[1.0*b,             1.0*b,         1.0*b,             1.0*b,         1.0*b,             1.0*b,             1.0*b,             1.0*b,     1.0*b - 1.0*c,     1.0*b - 1.0*c,     1.0*b - 1.0*c, 1.0*b - 1.0*c,     1.0*b - 1.0*c, 1.0*b - 1.0*c,     1.0*b - 1.0*c, 1.0*b - 1.0*c]])"
      ]
     },
     "execution_count": 56,
     "metadata": {},
     "output_type": "execute_result"
    }
   ],
   "source": [
    "payoff_matrix"
   ]
  },
  {
   "cell_type": "code",
   "execution_count": 57,
   "metadata": {},
   "outputs": [],
   "source": [
    "names = [\"ALLD\"] + [f\"S{i}\" for i in range(1, 15)] + [\"ALLC\"]\n",
    "\n",
    "string = pd.DataFrame(np.array(payoff_matrix), columns=names, index=names).to_latex().replace(\"1.0\", \"\")\n",
    "string = string.replace(\"*\", \"\").replace(\"b\", \"$b$\").replace(\"c\", \"$c$\")"
   ]
  },
  {
   "cell_type": "code",
   "execution_count": 58,
   "metadata": {},
   "outputs": [],
   "source": [
    "with open(\"deterministic_payoffs_co_player.txt\", \"w\") as file:\n",
    "    file.write(string)"
   ]
  },
  {
   "cell_type": "code",
   "execution_count": 104,
   "metadata": {},
   "outputs": [],
   "source": [
    "sym.init_printing(True)"
   ]
  },
  {
   "cell_type": "code",
   "execution_count": 108,
   "metadata": {},
   "outputs": [
    {
     "data": {
      "image/png": "[encoded data removed]",
      "text/latex": [
       "$\\displaystyle \\left[\\begin{array}{cccccccccccccccc}0 & 1.16666666666667 & 0 & 1.28571428571429 & 0 & 1.4 & 1.66666666666667 & 1.5 & 2.0 & 2.0 & 2.0 & 2.0 & 2.0 & 2.0 & 2.0 & 2.0\\end{array}\\right]$"
      ],
      "text/plain": [
       "[0  1.16666666666667  0  1.28571428571429  0  1.4  1.66666666666667  1.5  2.0 \n",
       " 2.0  2.0  2.0  2.0  2.0  2.0  2.0]"
      ]
     },
     "execution_count": 108,
     "metadata": {},
     "output_type": "execute_result"
    }
   ],
   "source": [
    "payoff_matrix.subs({b:3, c:1}).col(14).T"
   ]
  },
  {
   "cell_type": "code",
   "execution_count": 107,
   "metadata": {},
   "outputs": [
    {
     "name": "stdout",
     "output_type": "stream",
     "text": [
      "Matrix([[3.00000000000000, 3.00000000000000, 1.00000000000000, 1.00000000000000, 3.00000000000000, -1.00000000000000, 3.00000000000000, -1.00000000000000, 1.28571428571428, -1.00000000000000, 1.00000000000000, 1.00000000000000, 1.00000000000000, -1.00000000000000, 0.714285714285714, -1.00000000000000]])\n"
     ]
    }
   ],
   "source": [
    "for i in range(1):\n",
    "    print(payoff_matrix.subs({b:3, c:1}).col(3).T)"
   ]
  },
  {
   "cell_type": "markdown",
   "metadata": {},
   "source": [
    "**Case for $p = (p_1, p_1, p_1, p_1)$**"
   ]
  },
  {
   "cell_type": "code",
   "execution_count": 9,
   "metadata": {},
   "outputs": [],
   "source": [
    "M = transition_matrix_two_bit_analytical([p_1, p_1, p_1, p_1], [q_1, q_1, q_1, q_1])"
   ]
  },
  {
   "cell_type": "code",
   "execution_count": 10,
   "metadata": {},
   "outputs": [],
   "source": [
    "start_time = time.time()\n",
    "\n",
    "ss = invariant_distribution_analytically(M)\n",
    "\n",
    "finish_time = time.time()"
   ]
  },
  {
   "cell_type": "code",
   "execution_count": 11,
   "metadata": {},
   "outputs": [
    {
     "data": {
      "text/plain": [
       "19.391515970230103"
      ]
     },
     "execution_count": 11,
     "metadata": {},
     "output_type": "execute_result"
    }
   ],
   "source": [
    "finish_time - start_time"
   ]
  },
  {
   "cell_type": "code",
   "execution_count": 12,
   "metadata": {},
   "outputs": [],
   "source": [
    "ss = sym.Matrix([[s.simplify() for s in ss]])"
   ]
  },
  {
   "cell_type": "code",
   "execution_count": 13,
   "metadata": {},
   "outputs": [
    {
     "data": {
      "text/latex": [
       "$\\displaystyle \\left[\\begin{array}{cccccccccccccccc}p_{1}^{2} q_{1}^{2} & p_{1}^{2} q_{1} \\left(1 - q_{1}\\right) & p_{1} q_{1}^{2} \\left(1 - p_{1}\\right) & p_{1} q_{1} \\left(p_{1} q_{1} - p_{1} - q_{1} + 1\\right) & p_{1}^{2} q_{1} \\left(1 - q_{1}\\right) & p_{1}^{2} \\left(q_{1}^{2} - 2 q_{1} + 1\\right) & p_{1} q_{1} \\left(p_{1} q_{1} - p_{1} - q_{1} + 1\\right) & p_{1} \\left(- p_{1} q_{1}^{2} + 2 p_{1} q_{1} - p_{1} + q_{1}^{2} - 2 q_{1} + 1\\right) & p_{1} q_{1}^{2} \\left(1 - p_{1}\\right) & p_{1} q_{1} \\left(p_{1} q_{1} - p_{1} - q_{1} + 1\\right) & q_{1}^{2} \\left(p_{1}^{2} - 2 p_{1} + 1\\right) & q_{1} \\left(- p_{1}^{2} q_{1} + p_{1}^{2} + 2 p_{1} q_{1} - 2 p_{1} - q_{1} + 1\\right) & p_{1} q_{1} \\left(p_{1} q_{1} - p_{1} - q_{1} + 1\\right) & p_{1} \\left(- p_{1} q_{1}^{2} + 2 p_{1} q_{1} - p_{1} + q_{1}^{2} - 2 q_{1} + 1\\right) & q_{1} \\left(- p_{1}^{2} q_{1} + p_{1}^{2} + 2 p_{1} q_{1} - 2 p_{1} - q_{1} + 1\\right) & p_{1}^{2} q_{1}^{2} - 2 p_{1}^{2} q_{1} + p_{1}^{2} - 2 p_{1} q_{1}^{2} + 4 p_{1} q_{1} - 2 p_{1} + q_{1}^{2} - 2 q_{1} + 1\\end{array}\\right]$"
      ],
      "text/plain": [
       "Matrix([[p_1**2*q_1**2, p_1**2*q_1*(1 - q_1), p_1*q_1**2*(1 - p_1), p_1*q_1*(p_1*q_1 - p_1 - q_1 + 1), p_1**2*q_1*(1 - q_1), p_1**2*(q_1**2 - 2*q_1 + 1), p_1*q_1*(p_1*q_1 - p_1 - q_1 + 1), p_1*(-p_1*q_1**2 + 2*p_1*q_1 - p_1 + q_1**2 - 2*q_1 + 1), p_1*q_1**2*(1 - p_1), p_1*q_1*(p_1*q_1 - p_1 - q_1 + 1), q_1**2*(p_1**2 - 2*p_1 + 1), q_1*(-p_1**2*q_1 + p_1**2 + 2*p_1*q_1 - 2*p_1 - q_1 + 1), p_1*q_1*(p_1*q_1 - p_1 - q_1 + 1), p_1*(-p_1*q_1**2 + 2*p_1*q_1 - p_1 + q_1**2 - 2*q_1 + 1), q_1*(-p_1**2*q_1 + p_1**2 + 2*p_1*q_1 - 2*p_1 - q_1 + 1), p_1**2*q_1**2 - 2*p_1**2*q_1 + p_1**2 - 2*p_1*q_1**2 + 4*p_1*q_1 - 2*p_1 + q_1**2 - 2*q_1 + 1]])"
      ]
     },
     "execution_count": 13,
     "metadata": {},
     "output_type": "execute_result"
    }
   ],
   "source": [
    "ss"
   ]
  },
  {
   "cell_type": "code",
   "execution_count": 14,
   "metadata": {},
   "outputs": [
    {
     "data": {
      "text/latex": [
       "$\\displaystyle \\left[\\begin{matrix}p_{1}^{2} q_{1}^{2}\\\\p_{1}^{2} q_{1} \\left(1 - q_{1}\\right)\\\\p_{1} q_{1}^{2} \\left(1 - p_{1}\\right)\\\\p_{1} q_{1} \\left(p_{1} q_{1} - p_{1} - q_{1} + 1\\right)\\\\p_{1}^{2} q_{1} \\left(1 - q_{1}\\right)\\\\p_{1}^{2} \\left(q_{1}^{2} - 2 q_{1} + 1\\right)\\\\p_{1} q_{1} \\left(p_{1} q_{1} - p_{1} - q_{1} + 1\\right)\\\\p_{1} \\left(- p_{1} q_{1}^{2} + 2 p_{1} q_{1} - p_{1} + q_{1}^{2} - 2 q_{1} + 1\\right)\\\\p_{1} q_{1}^{2} \\left(1 - p_{1}\\right)\\\\p_{1} q_{1} \\left(p_{1} q_{1} - p_{1} - q_{1} + 1\\right)\\\\q_{1}^{2} \\left(p_{1}^{2} - 2 p_{1} + 1\\right)\\\\q_{1} \\left(- p_{1}^{2} q_{1} + p_{1}^{2} + 2 p_{1} q_{1} - 2 p_{1} - q_{1} + 1\\right)\\\\p_{1} q_{1} \\left(p_{1} q_{1} - p_{1} - q_{1} + 1\\right)\\\\p_{1} \\left(- p_{1} q_{1}^{2} + 2 p_{1} q_{1} - p_{1} + q_{1}^{2} - 2 q_{1} + 1\\right)\\\\q_{1} \\left(- p_{1}^{2} q_{1} + p_{1}^{2} + 2 p_{1} q_{1} - 2 p_{1} - q_{1} + 1\\right)\\\\p_{1}^{2} q_{1}^{2} - 2 p_{1}^{2} q_{1} + p_{1}^{2} - 2 p_{1} q_{1}^{2} + 4 p_{1} q_{1} - 2 p_{1} + q_{1}^{2} - 2 q_{1} + 1\\end{matrix}\\right]$"
      ],
      "text/plain": [
       "Matrix([\n",
       "[                                                                                p_1**2*q_1**2],\n",
       "[                                                                         p_1**2*q_1*(1 - q_1)],\n",
       "[                                                                         p_1*q_1**2*(1 - p_1)],\n",
       "[                                                            p_1*q_1*(p_1*q_1 - p_1 - q_1 + 1)],\n",
       "[                                                                         p_1**2*q_1*(1 - q_1)],\n",
       "[                                                                  p_1**2*(q_1**2 - 2*q_1 + 1)],\n",
       "[                                                            p_1*q_1*(p_1*q_1 - p_1 - q_1 + 1)],\n",
       "[                                     p_1*(-p_1*q_1**2 + 2*p_1*q_1 - p_1 + q_1**2 - 2*q_1 + 1)],\n",
       "[                                                                         p_1*q_1**2*(1 - p_1)],\n",
       "[                                                            p_1*q_1*(p_1*q_1 - p_1 - q_1 + 1)],\n",
       "[                                                                  q_1**2*(p_1**2 - 2*p_1 + 1)],\n",
       "[                                     q_1*(-p_1**2*q_1 + p_1**2 + 2*p_1*q_1 - 2*p_1 - q_1 + 1)],\n",
       "[                                                            p_1*q_1*(p_1*q_1 - p_1 - q_1 + 1)],\n",
       "[                                     p_1*(-p_1*q_1**2 + 2*p_1*q_1 - p_1 + q_1**2 - 2*q_1 + 1)],\n",
       "[                                     q_1*(-p_1**2*q_1 + p_1**2 + 2*p_1*q_1 - 2*p_1 - q_1 + 1)],\n",
       "[p_1**2*q_1**2 - 2*p_1**2*q_1 + p_1**2 - 2*p_1*q_1**2 + 4*p_1*q_1 - 2*p_1 + q_1**2 - 2*q_1 + 1]])"
      ]
     },
     "execution_count": 14,
     "metadata": {},
     "output_type": "execute_result"
    }
   ],
   "source": [
    "ss.T"
   ]
  },
  {
   "cell_type": "code",
   "execution_count": 9,
   "metadata": {},
   "outputs": [],
   "source": [
    "# m = transition_matrix_two_bit([p_1, p_2, p_1, p_2], [q_1, q_2, q_1, q_2])"
   ]
  },
  {
   "cell_type": "code",
   "execution_count": null,
   "metadata": {},
   "outputs": [],
   "source": [
    "ss_one = invariant_distribution_analytically(m)"
   ]
  },
  {
   "cell_type": "code",
   "execution_count": 43,
   "metadata": {},
   "outputs": [],
   "source": [
    "ss_one = sym.Matrix([[s.factor() for s in ss_one]])"
   ]
  },
  {
   "cell_type": "code",
   "execution_count": 44,
   "metadata": {},
   "outputs": [
    {
     "data": {
      "text/latex": [
       "$\\displaystyle \\left[\\begin{matrix}\\frac{p_{1} q_{1} \\left(p_{1} q_{2} - p_{2} q_{2} + p_{2}\\right) \\left(p_{2} q_{1} - p_{2} q_{2} + q_{2}\\right)}{\\left(p_{1} q_{1} - p_{1} q_{2} - p_{2} q_{1} + p_{2} q_{2} - 1\\right)^{2}}\\\\- \\frac{p_{1} \\left(q_{1} - 1\\right) \\left(p_{1} q_{2} - p_{2} q_{2} + p_{2}\\right) \\left(p_{2} q_{1} - p_{2} q_{2} + q_{2}\\right)}{\\left(p_{1} q_{1} - p_{1} q_{2} - p_{2} q_{1} + p_{2} q_{2} - 1\\right)^{2}}\\\\- \\frac{q_{1} \\left(p_{1} - 1\\right) \\left(p_{1} q_{2} - p_{2} q_{2} + p_{2}\\right) \\left(p_{2} q_{1} - p_{2} q_{2} + q_{2}\\right)}{\\left(p_{1} q_{1} - p_{1} q_{2} - p_{2} q_{1} + p_{2} q_{2} - 1\\right)^{2}}\\\\\\frac{\\left(p_{1} - 1\\right) \\left(q_{1} - 1\\right) \\left(p_{1} q_{2} - p_{2} q_{2} + p_{2}\\right) \\left(p_{2} q_{1} - p_{2} q_{2} + q_{2}\\right)}{\\left(p_{1} q_{1} - p_{1} q_{2} - p_{2} q_{1} + p_{2} q_{2} - 1\\right)^{2}}\\\\- \\frac{p_{2} q_{1} \\left(p_{1} q_{2} - p_{2} q_{2} + p_{2}\\right) \\left(p_{1} q_{1} - p_{1} q_{2} + q_{2} - 1\\right)}{\\left(p_{1} q_{1} - p_{1} q_{2} - p_{2} q_{1} + p_{2} q_{2} - 1\\right)^{2}}\\\\\\frac{p_{2} \\left(q_{1} - 1\\right) \\left(p_{1} q_{2} - p_{2} q_{2} + p_{2}\\right) \\left(p_{1} q_{1} - p_{1} q_{2} + q_{2} - 1\\right)}{\\left(p_{1} q_{1} - p_{1} q_{2} - p_{2} q_{1} + p_{2} q_{2} - 1\\right)^{2}}\\\\\\frac{q_{1} \\left(p_{2} - 1\\right) \\left(p_{1} q_{2} - p_{2} q_{2} + p_{2}\\right) \\left(p_{1} q_{1} - p_{1} q_{2} + q_{2} - 1\\right)}{\\left(p_{1} q_{1} - p_{1} q_{2} - p_{2} q_{1} + p_{2} q_{2} - 1\\right)^{2}}\\\\- \\frac{\\left(p_{2} - 1\\right) \\left(q_{1} - 1\\right) \\left(p_{1} q_{2} - p_{2} q_{2} + p_{2}\\right) \\left(p_{1} q_{1} - p_{1} q_{2} + q_{2} - 1\\right)}{\\left(p_{1} q_{1} - p_{1} q_{2} - p_{2} q_{1} + p_{2} q_{2} - 1\\right)^{2}}\\\\- \\frac{p_{1} q_{2} \\left(p_{2} q_{1} - p_{2} q_{2} + q_{2}\\right) \\left(p_{1} q_{1} - p_{2} q_{1} + p_{2} - 1\\right)}{\\left(p_{1} q_{1} - p_{1} q_{2} - p_{2} q_{1} + p_{2} q_{2} - 1\\right)^{2}}\\\\\\frac{p_{1} \\left(q_{2} - 1\\right) \\left(p_{2} q_{1} - p_{2} q_{2} + q_{2}\\right) \\left(p_{1} q_{1} - p_{2} q_{1} + p_{2} - 1\\right)}{\\left(p_{1} q_{1} - p_{1} q_{2} - p_{2} q_{1} + p_{2} q_{2} - 1\\right)^{2}}\\\\\\frac{q_{2} \\left(p_{1} - 1\\right) \\left(p_{2} q_{1} - p_{2} q_{2} + q_{2}\\right) \\left(p_{1} q_{1} - p_{2} q_{1} + p_{2} - 1\\right)}{\\left(p_{1} q_{1} - p_{1} q_{2} - p_{2} q_{1} + p_{2} q_{2} - 1\\right)^{2}}\\\\- \\frac{\\left(p_{1} - 1\\right) \\left(q_{2} - 1\\right) \\left(p_{2} q_{1} - p_{2} q_{2} + q_{2}\\right) \\left(p_{1} q_{1} - p_{2} q_{1} + p_{2} - 1\\right)}{\\left(p_{1} q_{1} - p_{1} q_{2} - p_{2} q_{1} + p_{2} q_{2} - 1\\right)^{2}}\\\\\\frac{p_{2} q_{2} \\left(p_{1} q_{1} - p_{1} q_{2} + q_{2} - 1\\right) \\left(p_{1} q_{1} - p_{2} q_{1} + p_{2} - 1\\right)}{\\left(p_{1} q_{1} - p_{1} q_{2} - p_{2} q_{1} + p_{2} q_{2} - 1\\right)^{2}}\\\\- \\frac{p_{2} \\left(q_{2} - 1\\right) \\left(p_{1} q_{1} - p_{1} q_{2} + q_{2} - 1\\right) \\left(p_{1} q_{1} - p_{2} q_{1} + p_{2} - 1\\right)}{\\left(p_{1} q_{1} - p_{1} q_{2} - p_{2} q_{1} + p_{2} q_{2} - 1\\right)^{2}}\\\\- \\frac{q_{2} \\left(p_{2} - 1\\right) \\left(p_{1} q_{1} - p_{1} q_{2} + q_{2} - 1\\right) \\left(p_{1} q_{1} - p_{2} q_{1} + p_{2} - 1\\right)}{\\left(p_{1} q_{1} - p_{1} q_{2} - p_{2} q_{1} + p_{2} q_{2} - 1\\right)^{2}}\\\\\\frac{\\left(p_{2} - 1\\right) \\left(q_{2} - 1\\right) \\left(p_{1} q_{1} - p_{1} q_{2} + q_{2} - 1\\right) \\left(p_{1} q_{1} - p_{2} q_{1} + p_{2} - 1\\right)}{\\left(p_{1} q_{1} - p_{1} q_{2} - p_{2} q_{1} + p_{2} q_{2} - 1\\right)^{2}}\\end{matrix}\\right]$"
      ],
      "text/plain": [
       "Matrix([\n",
       "[                    p_1*q_1*(p_1*q_2 - p_2*q_2 + p_2)*(p_2*q_1 - p_2*q_2 + q_2)/(p_1*q_1 - p_1*q_2 - p_2*q_1 + p_2*q_2 - 1)**2],\n",
       "[             -p_1*(q_1 - 1)*(p_1*q_2 - p_2*q_2 + p_2)*(p_2*q_1 - p_2*q_2 + q_2)/(p_1*q_1 - p_1*q_2 - p_2*q_1 + p_2*q_2 - 1)**2],\n",
       "[             -q_1*(p_1 - 1)*(p_1*q_2 - p_2*q_2 + p_2)*(p_2*q_1 - p_2*q_2 + q_2)/(p_1*q_1 - p_1*q_2 - p_2*q_1 + p_2*q_2 - 1)**2],\n",
       "[        (p_1 - 1)*(q_1 - 1)*(p_1*q_2 - p_2*q_2 + p_2)*(p_2*q_1 - p_2*q_2 + q_2)/(p_1*q_1 - p_1*q_2 - p_2*q_1 + p_2*q_2 - 1)**2],\n",
       "[               -p_2*q_1*(p_1*q_2 - p_2*q_2 + p_2)*(p_1*q_1 - p_1*q_2 + q_2 - 1)/(p_1*q_1 - p_1*q_2 - p_2*q_1 + p_2*q_2 - 1)**2],\n",
       "[          p_2*(q_1 - 1)*(p_1*q_2 - p_2*q_2 + p_2)*(p_1*q_1 - p_1*q_2 + q_2 - 1)/(p_1*q_1 - p_1*q_2 - p_2*q_1 + p_2*q_2 - 1)**2],\n",
       "[          q_1*(p_2 - 1)*(p_1*q_2 - p_2*q_2 + p_2)*(p_1*q_1 - p_1*q_2 + q_2 - 1)/(p_1*q_1 - p_1*q_2 - p_2*q_1 + p_2*q_2 - 1)**2],\n",
       "[   -(p_2 - 1)*(q_1 - 1)*(p_1*q_2 - p_2*q_2 + p_2)*(p_1*q_1 - p_1*q_2 + q_2 - 1)/(p_1*q_1 - p_1*q_2 - p_2*q_1 + p_2*q_2 - 1)**2],\n",
       "[               -p_1*q_2*(p_2*q_1 - p_2*q_2 + q_2)*(p_1*q_1 - p_2*q_1 + p_2 - 1)/(p_1*q_1 - p_1*q_2 - p_2*q_1 + p_2*q_2 - 1)**2],\n",
       "[          p_1*(q_2 - 1)*(p_2*q_1 - p_2*q_2 + q_2)*(p_1*q_1 - p_2*q_1 + p_2 - 1)/(p_1*q_1 - p_1*q_2 - p_2*q_1 + p_2*q_2 - 1)**2],\n",
       "[          q_2*(p_1 - 1)*(p_2*q_1 - p_2*q_2 + q_2)*(p_1*q_1 - p_2*q_1 + p_2 - 1)/(p_1*q_1 - p_1*q_2 - p_2*q_1 + p_2*q_2 - 1)**2],\n",
       "[   -(p_1 - 1)*(q_2 - 1)*(p_2*q_1 - p_2*q_2 + q_2)*(p_1*q_1 - p_2*q_1 + p_2 - 1)/(p_1*q_1 - p_1*q_2 - p_2*q_1 + p_2*q_2 - 1)**2],\n",
       "[            p_2*q_2*(p_1*q_1 - p_1*q_2 + q_2 - 1)*(p_1*q_1 - p_2*q_1 + p_2 - 1)/(p_1*q_1 - p_1*q_2 - p_2*q_1 + p_2*q_2 - 1)**2],\n",
       "[     -p_2*(q_2 - 1)*(p_1*q_1 - p_1*q_2 + q_2 - 1)*(p_1*q_1 - p_2*q_1 + p_2 - 1)/(p_1*q_1 - p_1*q_2 - p_2*q_1 + p_2*q_2 - 1)**2],\n",
       "[     -q_2*(p_2 - 1)*(p_1*q_1 - p_1*q_2 + q_2 - 1)*(p_1*q_1 - p_2*q_1 + p_2 - 1)/(p_1*q_1 - p_1*q_2 - p_2*q_1 + p_2*q_2 - 1)**2],\n",
       "[(p_2 - 1)*(q_2 - 1)*(p_1*q_1 - p_1*q_2 + q_2 - 1)*(p_1*q_1 - p_2*q_1 + p_2 - 1)/(p_1*q_1 - p_1*q_2 - p_2*q_1 + p_2*q_2 - 1)**2]])"
      ]
     },
     "execution_count": 44,
     "metadata": {},
     "output_type": "execute_result"
    }
   ],
   "source": [
    "ss_one.T"
   ]
  },
  {
   "cell_type": "markdown",
   "metadata": {},
   "source": [
    "### Here to explore the payoffs against specific strategies. The payoffs when playing a parternship strategy."
   ]
  },
  {
   "cell_type": "code",
   "execution_count": null,
   "metadata": {},
   "outputs": [],
   "source": []
  }
 ],
 "metadata": {
  "kernelspec": {
   "display_name": "Python 3",
   "language": "python",
   "name": "python3"
  },
  "language_info": {
   "codemirror_mode": {
    "name": "ipython",
    "version": 3
   },
   "file_extension": ".py",
   "mimetype": "text/x-python",
   "name": "python",
   "nbconvert_exporter": "python",
   "pygments_lexer": "ipython3",
   "version": "3.8.3"
  }
 },
 "nbformat": 4,
 "nbformat_minor": 4
}
