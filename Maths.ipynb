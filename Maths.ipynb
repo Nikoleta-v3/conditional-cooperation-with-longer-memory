{
 "cells": [
  {
   "cell_type": "code",
   "execution_count": 1,
   "metadata": {},
   "outputs": [],
   "source": [
    "import sympy as sym"
   ]
  },
  {
   "cell_type": "code",
   "execution_count": 2,
   "metadata": {},
   "outputs": [],
   "source": [
    "import numpy as np"
   ]
  },
  {
   "cell_type": "code",
   "execution_count": 3,
   "metadata": {},
   "outputs": [],
   "source": [
    "import time"
   ]
  },
  {
   "cell_type": "code",
   "execution_count": 4,
   "metadata": {},
   "outputs": [],
   "source": [
    "p_1, p_2, p_3, p_4 = sym.symbols(\"p_1, p_2, p_3, p_4\")"
   ]
  },
  {
   "cell_type": "code",
   "execution_count": 5,
   "metadata": {},
   "outputs": [],
   "source": [
    "q_1, q_2, q_3, q_4 = sym.symbols(\"q_1, q_2, q_3, q_4\")"
   ]
  },
  {
   "cell_type": "code",
   "execution_count": 6,
   "metadata": {},
   "outputs": [],
   "source": [
    "from importlib.machinery import SourceFileLoader\n",
    "\n",
    "main = SourceFileLoader(\n",
    "    \"main\", \"main.py\"\n",
    ").load_module()\n",
    "\n",
    "from main import *"
   ]
  },
  {
   "cell_type": "code",
   "execution_count": 7,
   "metadata": {},
   "outputs": [
    {
     "data": {
      "text/latex": [
       "$\\displaystyle \\left[\\begin{array}{cccccccccccccccc}p_{1} q_{1} & p_{1} \\left(1 - q_{1}\\right) & q_{1} \\left(1 - p_{1}\\right) & \\left(1 - p_{1}\\right) \\left(1 - q_{1}\\right) & 0 & 0 & 0 & 0 & 0 & 0 & 0 & 0 & 0 & 0 & 0 & 0\\\\0 & 0 & 0 & 0 & p_{2} q_{1} & p_{2} \\left(1 - q_{1}\\right) & q_{1} \\left(1 - p_{2}\\right) & \\left(1 - p_{2}\\right) \\left(1 - q_{1}\\right) & 0 & 0 & 0 & 0 & 0 & 0 & 0 & 0\\\\0 & 0 & 0 & 0 & 0 & 0 & 0 & 0 & p_{1} q_{2} & p_{1} \\left(1 - q_{2}\\right) & q_{2} \\left(1 - p_{1}\\right) & \\left(1 - p_{1}\\right) \\left(1 - q_{2}\\right) & 0 & 0 & 0 & 0\\\\0 & 0 & 0 & 0 & 0 & 0 & 0 & 0 & 0 & 0 & 0 & 0 & p_{2} q_{2} & p_{2} \\left(1 - q_{2}\\right) & q_{2} \\left(1 - p_{2}\\right) & \\left(1 - p_{2}\\right) \\left(1 - q_{2}\\right)\\\\p_{3} q_{1} & p_{3} \\left(1 - q_{1}\\right) & q_{1} \\left(1 - p_{3}\\right) & \\left(1 - p_{3}\\right) \\left(1 - q_{1}\\right) & 0 & 0 & 0 & 0 & 0 & 0 & 0 & 0 & 0 & 0 & 0 & 0\\\\0 & 0 & 0 & 0 & p_{4} q_{1} & p_{4} \\left(1 - q_{1}\\right) & q_{1} \\left(1 - p_{4}\\right) & \\left(1 - p_{4}\\right) \\left(1 - q_{1}\\right) & 0 & 0 & 0 & 0 & 0 & 0 & 0 & 0\\\\0 & 0 & 0 & 0 & 0 & 0 & 0 & 0 & p_{3} q_{2} & p_{3} \\left(1 - q_{2}\\right) & q_{2} \\left(1 - p_{3}\\right) & \\left(1 - p_{3}\\right) \\left(1 - q_{2}\\right) & 0 & 0 & 0 & 0\\\\0 & 0 & 0 & 0 & 0 & 0 & 0 & 0 & 0 & 0 & 0 & 0 & p_{4} q_{2} & p_{4} \\left(1 - q_{2}\\right) & q_{2} \\left(1 - p_{4}\\right) & \\left(1 - p_{4}\\right) \\left(1 - q_{2}\\right)\\\\p_{1} q_{3} & p_{1} \\left(1 - q_{3}\\right) & q_{3} \\left(1 - p_{1}\\right) & \\left(1 - p_{1}\\right) \\left(1 - q_{3}\\right) & 0 & 0 & 0 & 0 & 0 & 0 & 0 & 0 & 0 & 0 & 0 & 0\\\\0 & 0 & 0 & 0 & p_{2} q_{3} & p_{2} \\left(1 - q_{3}\\right) & q_{3} \\left(1 - p_{2}\\right) & \\left(1 - p_{2}\\right) \\left(1 - q_{3}\\right) & 0 & 0 & 0 & 0 & 0 & 0 & 0 & 0\\\\0 & 0 & 0 & 0 & 0 & 0 & 0 & 0 & p_{1} q_{4} & p_{1} \\left(1 - q_{4}\\right) & q_{4} \\left(1 - p_{1}\\right) & \\left(1 - p_{1}\\right) \\left(1 - q_{4}\\right) & 0 & 0 & 0 & 0\\\\0 & 0 & 0 & 0 & 0 & 0 & 0 & 0 & 0 & 0 & 0 & 0 & p_{2} q_{4} & p_{2} \\left(1 - q_{4}\\right) & q_{4} \\left(1 - p_{2}\\right) & \\left(1 - p_{2}\\right) \\left(1 - q_{4}\\right)\\\\p_{3} q_{3} & p_{3} \\left(1 - q_{3}\\right) & q_{3} \\left(1 - p_{3}\\right) & \\left(1 - p_{3}\\right) \\left(1 - q_{3}\\right) & 0 & 0 & 0 & 0 & 0 & 0 & 0 & 0 & 0 & 0 & 0 & 0\\\\0 & 0 & 0 & 0 & p_{4} q_{3} & p_{4} \\left(1 - q_{3}\\right) & q_{3} \\left(1 - p_{4}\\right) & \\left(1 - p_{4}\\right) \\left(1 - q_{3}\\right) & 0 & 0 & 0 & 0 & 0 & 0 & 0 & 0\\\\0 & 0 & 0 & 0 & 0 & 0 & 0 & 0 & p_{3} q_{4} & p_{3} \\left(1 - q_{4}\\right) & q_{4} \\left(1 - p_{3}\\right) & \\left(1 - p_{3}\\right) \\left(1 - q_{4}\\right) & 0 & 0 & 0 & 0\\\\0 & 0 & 0 & 0 & 0 & 0 & 0 & 0 & 0 & 0 & 0 & 0 & p_{4} q_{4} & p_{4} \\left(1 - q_{4}\\right) & q_{4} \\left(1 - p_{4}\\right) & \\left(1 - p_{4}\\right) \\left(1 - q_{4}\\right)\\end{array}\\right]$"
      ],
      "text/plain": [
       "Matrix([\n",
       "[p_1*q_1, p_1*(1 - q_1), q_1*(1 - p_1), (1 - p_1)*(1 - q_1),       0,             0,             0,                   0,       0,             0,             0,                   0,       0,             0,             0,                   0],\n",
       "[      0,             0,             0,                   0, p_2*q_1, p_2*(1 - q_1), q_1*(1 - p_2), (1 - p_2)*(1 - q_1),       0,             0,             0,                   0,       0,             0,             0,                   0],\n",
       "[      0,             0,             0,                   0,       0,             0,             0,                   0, p_1*q_2, p_1*(1 - q_2), q_2*(1 - p_1), (1 - p_1)*(1 - q_2),       0,             0,             0,                   0],\n",
       "[      0,             0,             0,                   0,       0,             0,             0,                   0,       0,             0,             0,                   0, p_2*q_2, p_2*(1 - q_2), q_2*(1 - p_2), (1 - p_2)*(1 - q_2)],\n",
       "[p_3*q_1, p_3*(1 - q_1), q_1*(1 - p_3), (1 - p_3)*(1 - q_1),       0,             0,             0,                   0,       0,             0,             0,                   0,       0,             0,             0,                   0],\n",
       "[      0,             0,             0,                   0, p_4*q_1, p_4*(1 - q_1), q_1*(1 - p_4), (1 - p_4)*(1 - q_1),       0,             0,             0,                   0,       0,             0,             0,                   0],\n",
       "[      0,             0,             0,                   0,       0,             0,             0,                   0, p_3*q_2, p_3*(1 - q_2), q_2*(1 - p_3), (1 - p_3)*(1 - q_2),       0,             0,             0,                   0],\n",
       "[      0,             0,             0,                   0,       0,             0,             0,                   0,       0,             0,             0,                   0, p_4*q_2, p_4*(1 - q_2), q_2*(1 - p_4), (1 - p_4)*(1 - q_2)],\n",
       "[p_1*q_3, p_1*(1 - q_3), q_3*(1 - p_1), (1 - p_1)*(1 - q_3),       0,             0,             0,                   0,       0,             0,             0,                   0,       0,             0,             0,                   0],\n",
       "[      0,             0,             0,                   0, p_2*q_3, p_2*(1 - q_3), q_3*(1 - p_2), (1 - p_2)*(1 - q_3),       0,             0,             0,                   0,       0,             0,             0,                   0],\n",
       "[      0,             0,             0,                   0,       0,             0,             0,                   0, p_1*q_4, p_1*(1 - q_4), q_4*(1 - p_1), (1 - p_1)*(1 - q_4),       0,             0,             0,                   0],\n",
       "[      0,             0,             0,                   0,       0,             0,             0,                   0,       0,             0,             0,                   0, p_2*q_4, p_2*(1 - q_4), q_4*(1 - p_2), (1 - p_2)*(1 - q_4)],\n",
       "[p_3*q_3, p_3*(1 - q_3), q_3*(1 - p_3), (1 - p_3)*(1 - q_3),       0,             0,             0,                   0,       0,             0,             0,                   0,       0,             0,             0,                   0],\n",
       "[      0,             0,             0,                   0, p_4*q_3, p_4*(1 - q_3), q_3*(1 - p_4), (1 - p_4)*(1 - q_3),       0,             0,             0,                   0,       0,             0,             0,                   0],\n",
       "[      0,             0,             0,                   0,       0,             0,             0,                   0, p_3*q_4, p_3*(1 - q_4), q_4*(1 - p_3), (1 - p_3)*(1 - q_4),       0,             0,             0,                   0],\n",
       "[      0,             0,             0,                   0,       0,             0,             0,                   0,       0,             0,             0,                   0, p_4*q_4, p_4*(1 - q_4), q_4*(1 - p_4), (1 - p_4)*(1 - q_4)]])"
      ]
     },
     "execution_count": 7,
     "metadata": {},
     "output_type": "execute_result"
    }
   ],
   "source": [
    "transition_matrix_two_bit_analytical(\n",
    "    [p_1, p_2, p_3, p_4],\n",
    "    [q_1, q_2, q_3, q_4],\n",
    ")"
   ]
  },
  {
   "cell_type": "code",
   "execution_count": 9,
   "metadata": {},
   "outputs": [
    {
     "data": {
      "text/latex": [
       "$\\displaystyle \\left[\\begin{matrix}p_{1} q_{1} & p_{1} \\left(1 - q_{1}\\right) & q_{1} \\left(1 - p_{1}\\right) & \\left(1 - p_{1}\\right) \\left(1 - q_{1}\\right)\\\\p_{2} q_{1} & p_{2} \\left(1 - q_{1}\\right) & q_{1} \\left(1 - p_{2}\\right) & \\left(1 - p_{2}\\right) \\left(1 - q_{1}\\right)\\\\p_{1} q_{2} & p_{1} \\left(1 - q_{2}\\right) & q_{2} \\left(1 - p_{1}\\right) & \\left(1 - p_{1}\\right) \\left(1 - q_{2}\\right)\\\\p_{2} q_{2} & p_{2} \\left(1 - q_{2}\\right) & q_{2} \\left(1 - p_{2}\\right) & \\left(1 - p_{2}\\right) \\left(1 - q_{2}\\right)\\end{matrix}\\right]$"
      ],
      "text/plain": [
       "Matrix([\n",
       "[p_1*q_1, p_1*(1 - q_1), q_1*(1 - p_1), (1 - p_1)*(1 - q_1)],\n",
       "[p_2*q_1, p_2*(1 - q_1), q_1*(1 - p_2), (1 - p_2)*(1 - q_1)],\n",
       "[p_1*q_2, p_1*(1 - q_2), q_2*(1 - p_1), (1 - p_1)*(1 - q_2)],\n",
       "[p_2*q_2, p_2*(1 - q_2), q_2*(1 - p_2), (1 - p_2)*(1 - q_2)]])"
      ]
     },
     "execution_count": 9,
     "metadata": {},
     "output_type": "execute_result"
    }
   ],
   "source": [
    "transition_matrix_one_bit_analytical(\n",
    "    [p_1, p_2],\n",
    "    [q_1, q_2],\n",
    ")"
   ]
  },
  {
   "cell_type": "markdown",
   "metadata": {},
   "source": [
    "**Case for $p = (p_1, p_1, p_1, p_1)$**"
   ]
  },
  {
   "cell_type": "code",
   "execution_count": 11,
   "metadata": {},
   "outputs": [],
   "source": [
    "M = transition_matrix_two_bit([p_1, p_1, p_1, p_1], [q_1, q_1, q_1, q_1])"
   ]
  },
  {
   "cell_type": "code",
   "execution_count": 12,
   "metadata": {},
   "outputs": [],
   "source": [
    "start_time = time.time()\n",
    "\n",
    "ss = invariant_distribution_analytically(M)\n",
    "\n",
    "finish_time = time.time()"
   ]
  },
  {
   "cell_type": "code",
   "execution_count": 13,
   "metadata": {},
   "outputs": [
    {
     "data": {
      "text/plain": [
       "17.760133981704712"
      ]
     },
     "execution_count": 13,
     "metadata": {},
     "output_type": "execute_result"
    }
   ],
   "source": [
    "finish_time - start_time"
   ]
  },
  {
   "cell_type": "code",
   "execution_count": 29,
   "metadata": {},
   "outputs": [],
   "source": [
    "ss = sym.Matrix([[s.simplify() for s in ss]])"
   ]
  },
  {
   "cell_type": "code",
   "execution_count": 36,
   "metadata": {},
   "outputs": [
    {
     "data": {
      "text/latex": [
       "$\\displaystyle \\left[\\begin{array}{cccccccccccccccc}p_{1}^{2} q_{1}^{2} & p_{1}^{2} q_{1} \\left(1 - q_{1}\\right) & p_{1} q_{1}^{2} \\left(1 - p_{1}\\right) & p_{1} q_{1} \\left(p_{1} - 1\\right) \\left(q_{1} - 1\\right) & p_{1}^{2} q_{1} \\left(1 - q_{1}\\right) & p_{1}^{2} \\left(q_{1} - 1\\right)^{2} & p_{1} q_{1} \\left(p_{1} - 1\\right) \\left(q_{1} - 1\\right) & - p_{1} \\left(p_{1} - 1\\right) \\left(q_{1} - 1\\right)^{2} & p_{1} q_{1}^{2} \\left(1 - p_{1}\\right) & p_{1} q_{1} \\left(p_{1} - 1\\right) \\left(q_{1} - 1\\right) & q_{1}^{2} \\left(p_{1} - 1\\right)^{2} & - q_{1} \\left(p_{1} - 1\\right)^{2} \\left(q_{1} - 1\\right) & p_{1} q_{1} \\left(p_{1} - 1\\right) \\left(q_{1} - 1\\right) & - p_{1} \\left(p_{1} - 1\\right) \\left(q_{1} - 1\\right)^{2} & - q_{1} \\left(p_{1} - 1\\right)^{2} \\left(q_{1} - 1\\right) & \\left(p_{1} - 1\\right)^{2} \\left(q_{1} - 1\\right)^{2}\\end{array}\\right]$"
      ],
      "text/plain": [
       "Matrix([[p_1**2*q_1**2, p_1**2*q_1*(1 - q_1), p_1*q_1**2*(1 - p_1), p_1*q_1*(p_1 - 1)*(q_1 - 1), p_1**2*q_1*(1 - q_1), p_1**2*(q_1 - 1)**2, p_1*q_1*(p_1 - 1)*(q_1 - 1), -p_1*(p_1 - 1)*(q_1 - 1)**2, p_1*q_1**2*(1 - p_1), p_1*q_1*(p_1 - 1)*(q_1 - 1), q_1**2*(p_1 - 1)**2, -q_1*(p_1 - 1)**2*(q_1 - 1), p_1*q_1*(p_1 - 1)*(q_1 - 1), -p_1*(p_1 - 1)*(q_1 - 1)**2, -q_1*(p_1 - 1)**2*(q_1 - 1), (p_1 - 1)**2*(q_1 - 1)**2]])"
      ]
     },
     "execution_count": 36,
     "metadata": {},
     "output_type": "execute_result"
    }
   ],
   "source": [
    "ss"
   ]
  },
  {
   "cell_type": "code",
   "execution_count": 37,
   "metadata": {},
   "outputs": [
    {
     "data": {
      "text/latex": [
       "$\\displaystyle \\left[\\begin{matrix}p_{1}^{2} q_{1}^{2}\\\\p_{1}^{2} q_{1} \\left(1 - q_{1}\\right)\\\\p_{1} q_{1}^{2} \\left(1 - p_{1}\\right)\\\\p_{1} q_{1} \\left(p_{1} - 1\\right) \\left(q_{1} - 1\\right)\\\\p_{1}^{2} q_{1} \\left(1 - q_{1}\\right)\\\\p_{1}^{2} \\left(q_{1} - 1\\right)^{2}\\\\p_{1} q_{1} \\left(p_{1} - 1\\right) \\left(q_{1} - 1\\right)\\\\- p_{1} \\left(p_{1} - 1\\right) \\left(q_{1} - 1\\right)^{2}\\\\p_{1} q_{1}^{2} \\left(1 - p_{1}\\right)\\\\p_{1} q_{1} \\left(p_{1} - 1\\right) \\left(q_{1} - 1\\right)\\\\q_{1}^{2} \\left(p_{1} - 1\\right)^{2}\\\\- q_{1} \\left(p_{1} - 1\\right)^{2} \\left(q_{1} - 1\\right)\\\\p_{1} q_{1} \\left(p_{1} - 1\\right) \\left(q_{1} - 1\\right)\\\\- p_{1} \\left(p_{1} - 1\\right) \\left(q_{1} - 1\\right)^{2}\\\\- q_{1} \\left(p_{1} - 1\\right)^{2} \\left(q_{1} - 1\\right)\\\\\\left(p_{1} - 1\\right)^{2} \\left(q_{1} - 1\\right)^{2}\\end{matrix}\\right]$"
      ],
      "text/plain": [
       "Matrix([\n",
       "[              p_1**2*q_1**2],\n",
       "[       p_1**2*q_1*(1 - q_1)],\n",
       "[       p_1*q_1**2*(1 - p_1)],\n",
       "[p_1*q_1*(p_1 - 1)*(q_1 - 1)],\n",
       "[       p_1**2*q_1*(1 - q_1)],\n",
       "[        p_1**2*(q_1 - 1)**2],\n",
       "[p_1*q_1*(p_1 - 1)*(q_1 - 1)],\n",
       "[-p_1*(p_1 - 1)*(q_1 - 1)**2],\n",
       "[       p_1*q_1**2*(1 - p_1)],\n",
       "[p_1*q_1*(p_1 - 1)*(q_1 - 1)],\n",
       "[        q_1**2*(p_1 - 1)**2],\n",
       "[-q_1*(p_1 - 1)**2*(q_1 - 1)],\n",
       "[p_1*q_1*(p_1 - 1)*(q_1 - 1)],\n",
       "[-p_1*(p_1 - 1)*(q_1 - 1)**2],\n",
       "[-q_1*(p_1 - 1)**2*(q_1 - 1)],\n",
       "[  (p_1 - 1)**2*(q_1 - 1)**2]])"
      ]
     },
     "execution_count": 37,
     "metadata": {},
     "output_type": "execute_result"
    }
   ],
   "source": [
    "ss.T"
   ]
  },
  {
   "cell_type": "code",
   "execution_count": 38,
   "metadata": {},
   "outputs": [],
   "source": [
    "m = transition_matrix_two_bit([p_1, p_2, p_1, p_2], [q_1, q_2, q_1, q_2])"
   ]
  },
  {
   "cell_type": "code",
   "execution_count": 39,
   "metadata": {},
   "outputs": [],
   "source": [
    "ss_one = invariant_distribution_analytically(m)"
   ]
  },
  {
   "cell_type": "code",
   "execution_count": 43,
   "metadata": {},
   "outputs": [],
   "source": [
    "ss_one = sym.Matrix([[s.factor() for s in ss_one]])"
   ]
  },
  {
   "cell_type": "code",
   "execution_count": 44,
   "metadata": {},
   "outputs": [
    {
     "data": {
      "text/latex": [
       "$\\displaystyle \\left[\\begin{matrix}\\frac{p_{1} q_{1} \\left(p_{1} q_{2} - p_{2} q_{2} + p_{2}\\right) \\left(p_{2} q_{1} - p_{2} q_{2} + q_{2}\\right)}{\\left(p_{1} q_{1} - p_{1} q_{2} - p_{2} q_{1} + p_{2} q_{2} - 1\\right)^{2}}\\\\- \\frac{p_{1} \\left(q_{1} - 1\\right) \\left(p_{1} q_{2} - p_{2} q_{2} + p_{2}\\right) \\left(p_{2} q_{1} - p_{2} q_{2} + q_{2}\\right)}{\\left(p_{1} q_{1} - p_{1} q_{2} - p_{2} q_{1} + p_{2} q_{2} - 1\\right)^{2}}\\\\- \\frac{q_{1} \\left(p_{1} - 1\\right) \\left(p_{1} q_{2} - p_{2} q_{2} + p_{2}\\right) \\left(p_{2} q_{1} - p_{2} q_{2} + q_{2}\\right)}{\\left(p_{1} q_{1} - p_{1} q_{2} - p_{2} q_{1} + p_{2} q_{2} - 1\\right)^{2}}\\\\\\frac{\\left(p_{1} - 1\\right) \\left(q_{1} - 1\\right) \\left(p_{1} q_{2} - p_{2} q_{2} + p_{2}\\right) \\left(p_{2} q_{1} - p_{2} q_{2} + q_{2}\\right)}{\\left(p_{1} q_{1} - p_{1} q_{2} - p_{2} q_{1} + p_{2} q_{2} - 1\\right)^{2}}\\\\- \\frac{p_{2} q_{1} \\left(p_{1} q_{2} - p_{2} q_{2} + p_{2}\\right) \\left(p_{1} q_{1} - p_{1} q_{2} + q_{2} - 1\\right)}{\\left(p_{1} q_{1} - p_{1} q_{2} - p_{2} q_{1} + p_{2} q_{2} - 1\\right)^{2}}\\\\\\frac{p_{2} \\left(q_{1} - 1\\right) \\left(p_{1} q_{2} - p_{2} q_{2} + p_{2}\\right) \\left(p_{1} q_{1} - p_{1} q_{2} + q_{2} - 1\\right)}{\\left(p_{1} q_{1} - p_{1} q_{2} - p_{2} q_{1} + p_{2} q_{2} - 1\\right)^{2}}\\\\\\frac{q_{1} \\left(p_{2} - 1\\right) \\left(p_{1} q_{2} - p_{2} q_{2} + p_{2}\\right) \\left(p_{1} q_{1} - p_{1} q_{2} + q_{2} - 1\\right)}{\\left(p_{1} q_{1} - p_{1} q_{2} - p_{2} q_{1} + p_{2} q_{2} - 1\\right)^{2}}\\\\- \\frac{\\left(p_{2} - 1\\right) \\left(q_{1} - 1\\right) \\left(p_{1} q_{2} - p_{2} q_{2} + p_{2}\\right) \\left(p_{1} q_{1} - p_{1} q_{2} + q_{2} - 1\\right)}{\\left(p_{1} q_{1} - p_{1} q_{2} - p_{2} q_{1} + p_{2} q_{2} - 1\\right)^{2}}\\\\- \\frac{p_{1} q_{2} \\left(p_{2} q_{1} - p_{2} q_{2} + q_{2}\\right) \\left(p_{1} q_{1} - p_{2} q_{1} + p_{2} - 1\\right)}{\\left(p_{1} q_{1} - p_{1} q_{2} - p_{2} q_{1} + p_{2} q_{2} - 1\\right)^{2}}\\\\\\frac{p_{1} \\left(q_{2} - 1\\right) \\left(p_{2} q_{1} - p_{2} q_{2} + q_{2}\\right) \\left(p_{1} q_{1} - p_{2} q_{1} + p_{2} - 1\\right)}{\\left(p_{1} q_{1} - p_{1} q_{2} - p_{2} q_{1} + p_{2} q_{2} - 1\\right)^{2}}\\\\\\frac{q_{2} \\left(p_{1} - 1\\right) \\left(p_{2} q_{1} - p_{2} q_{2} + q_{2}\\right) \\left(p_{1} q_{1} - p_{2} q_{1} + p_{2} - 1\\right)}{\\left(p_{1} q_{1} - p_{1} q_{2} - p_{2} q_{1} + p_{2} q_{2} - 1\\right)^{2}}\\\\- \\frac{\\left(p_{1} - 1\\right) \\left(q_{2} - 1\\right) \\left(p_{2} q_{1} - p_{2} q_{2} + q_{2}\\right) \\left(p_{1} q_{1} - p_{2} q_{1} + p_{2} - 1\\right)}{\\left(p_{1} q_{1} - p_{1} q_{2} - p_{2} q_{1} + p_{2} q_{2} - 1\\right)^{2}}\\\\\\frac{p_{2} q_{2} \\left(p_{1} q_{1} - p_{1} q_{2} + q_{2} - 1\\right) \\left(p_{1} q_{1} - p_{2} q_{1} + p_{2} - 1\\right)}{\\left(p_{1} q_{1} - p_{1} q_{2} - p_{2} q_{1} + p_{2} q_{2} - 1\\right)^{2}}\\\\- \\frac{p_{2} \\left(q_{2} - 1\\right) \\left(p_{1} q_{1} - p_{1} q_{2} + q_{2} - 1\\right) \\left(p_{1} q_{1} - p_{2} q_{1} + p_{2} - 1\\right)}{\\left(p_{1} q_{1} - p_{1} q_{2} - p_{2} q_{1} + p_{2} q_{2} - 1\\right)^{2}}\\\\- \\frac{q_{2} \\left(p_{2} - 1\\right) \\left(p_{1} q_{1} - p_{1} q_{2} + q_{2} - 1\\right) \\left(p_{1} q_{1} - p_{2} q_{1} + p_{2} - 1\\right)}{\\left(p_{1} q_{1} - p_{1} q_{2} - p_{2} q_{1} + p_{2} q_{2} - 1\\right)^{2}}\\\\\\frac{\\left(p_{2} - 1\\right) \\left(q_{2} - 1\\right) \\left(p_{1} q_{1} - p_{1} q_{2} + q_{2} - 1\\right) \\left(p_{1} q_{1} - p_{2} q_{1} + p_{2} - 1\\right)}{\\left(p_{1} q_{1} - p_{1} q_{2} - p_{2} q_{1} + p_{2} q_{2} - 1\\right)^{2}}\\end{matrix}\\right]$"
      ],
      "text/plain": [
       "Matrix([\n",
       "[                    p_1*q_1*(p_1*q_2 - p_2*q_2 + p_2)*(p_2*q_1 - p_2*q_2 + q_2)/(p_1*q_1 - p_1*q_2 - p_2*q_1 + p_2*q_2 - 1)**2],\n",
       "[             -p_1*(q_1 - 1)*(p_1*q_2 - p_2*q_2 + p_2)*(p_2*q_1 - p_2*q_2 + q_2)/(p_1*q_1 - p_1*q_2 - p_2*q_1 + p_2*q_2 - 1)**2],\n",
       "[             -q_1*(p_1 - 1)*(p_1*q_2 - p_2*q_2 + p_2)*(p_2*q_1 - p_2*q_2 + q_2)/(p_1*q_1 - p_1*q_2 - p_2*q_1 + p_2*q_2 - 1)**2],\n",
       "[        (p_1 - 1)*(q_1 - 1)*(p_1*q_2 - p_2*q_2 + p_2)*(p_2*q_1 - p_2*q_2 + q_2)/(p_1*q_1 - p_1*q_2 - p_2*q_1 + p_2*q_2 - 1)**2],\n",
       "[               -p_2*q_1*(p_1*q_2 - p_2*q_2 + p_2)*(p_1*q_1 - p_1*q_2 + q_2 - 1)/(p_1*q_1 - p_1*q_2 - p_2*q_1 + p_2*q_2 - 1)**2],\n",
       "[          p_2*(q_1 - 1)*(p_1*q_2 - p_2*q_2 + p_2)*(p_1*q_1 - p_1*q_2 + q_2 - 1)/(p_1*q_1 - p_1*q_2 - p_2*q_1 + p_2*q_2 - 1)**2],\n",
       "[          q_1*(p_2 - 1)*(p_1*q_2 - p_2*q_2 + p_2)*(p_1*q_1 - p_1*q_2 + q_2 - 1)/(p_1*q_1 - p_1*q_2 - p_2*q_1 + p_2*q_2 - 1)**2],\n",
       "[   -(p_2 - 1)*(q_1 - 1)*(p_1*q_2 - p_2*q_2 + p_2)*(p_1*q_1 - p_1*q_2 + q_2 - 1)/(p_1*q_1 - p_1*q_2 - p_2*q_1 + p_2*q_2 - 1)**2],\n",
       "[               -p_1*q_2*(p_2*q_1 - p_2*q_2 + q_2)*(p_1*q_1 - p_2*q_1 + p_2 - 1)/(p_1*q_1 - p_1*q_2 - p_2*q_1 + p_2*q_2 - 1)**2],\n",
       "[          p_1*(q_2 - 1)*(p_2*q_1 - p_2*q_2 + q_2)*(p_1*q_1 - p_2*q_1 + p_2 - 1)/(p_1*q_1 - p_1*q_2 - p_2*q_1 + p_2*q_2 - 1)**2],\n",
       "[          q_2*(p_1 - 1)*(p_2*q_1 - p_2*q_2 + q_2)*(p_1*q_1 - p_2*q_1 + p_2 - 1)/(p_1*q_1 - p_1*q_2 - p_2*q_1 + p_2*q_2 - 1)**2],\n",
       "[   -(p_1 - 1)*(q_2 - 1)*(p_2*q_1 - p_2*q_2 + q_2)*(p_1*q_1 - p_2*q_1 + p_2 - 1)/(p_1*q_1 - p_1*q_2 - p_2*q_1 + p_2*q_2 - 1)**2],\n",
       "[            p_2*q_2*(p_1*q_1 - p_1*q_2 + q_2 - 1)*(p_1*q_1 - p_2*q_1 + p_2 - 1)/(p_1*q_1 - p_1*q_2 - p_2*q_1 + p_2*q_2 - 1)**2],\n",
       "[     -p_2*(q_2 - 1)*(p_1*q_1 - p_1*q_2 + q_2 - 1)*(p_1*q_1 - p_2*q_1 + p_2 - 1)/(p_1*q_1 - p_1*q_2 - p_2*q_1 + p_2*q_2 - 1)**2],\n",
       "[     -q_2*(p_2 - 1)*(p_1*q_1 - p_1*q_2 + q_2 - 1)*(p_1*q_1 - p_2*q_1 + p_2 - 1)/(p_1*q_1 - p_1*q_2 - p_2*q_1 + p_2*q_2 - 1)**2],\n",
       "[(p_2 - 1)*(q_2 - 1)*(p_1*q_1 - p_1*q_2 + q_2 - 1)*(p_1*q_1 - p_2*q_1 + p_2 - 1)/(p_1*q_1 - p_1*q_2 - p_2*q_1 + p_2*q_2 - 1)**2]])"
      ]
     },
     "execution_count": 44,
     "metadata": {},
     "output_type": "execute_result"
    }
   ],
   "source": [
    "ss_one.T"
   ]
  },
  {
   "cell_type": "code",
   "execution_count": 46,
   "metadata": {},
   "outputs": [
    {
     "ename": "KeyboardInterrupt",
     "evalue": "",
     "output_type": "error",
     "traceback": [
      "\u001b[0;31m---------------------------------------------------------------------------\u001b[0m",
      "\u001b[0;31mKeyboardInterrupt\u001b[0m                         Traceback (most recent call last)",
      "\u001b[0;32m<ipython-input-46-e6d9ada7bd2a>\u001b[0m in \u001b[0;36m<module>\u001b[0;34m\u001b[0m\n\u001b[1;32m      1\u001b[0m \u001b[0mK\u001b[0m \u001b[0;34m=\u001b[0m \u001b[0mtransition_matrix_two_bit\u001b[0m\u001b[0;34m(\u001b[0m\u001b[0;34m[\u001b[0m\u001b[0mp_1\u001b[0m\u001b[0;34m,\u001b[0m \u001b[0mp_2\u001b[0m\u001b[0;34m,\u001b[0m \u001b[0mp_3\u001b[0m\u001b[0;34m,\u001b[0m \u001b[0mp_2\u001b[0m\u001b[0;34m]\u001b[0m\u001b[0;34m,\u001b[0m \u001b[0;34m[\u001b[0m\u001b[0mq_1\u001b[0m\u001b[0;34m,\u001b[0m \u001b[0mq_2\u001b[0m\u001b[0;34m,\u001b[0m \u001b[0mq_3\u001b[0m\u001b[0;34m,\u001b[0m \u001b[0mq_2\u001b[0m\u001b[0;34m]\u001b[0m\u001b[0;34m)\u001b[0m\u001b[0;34m\u001b[0m\u001b[0;34m\u001b[0m\u001b[0m\n\u001b[1;32m      2\u001b[0m \u001b[0;34m\u001b[0m\u001b[0m\n\u001b[0;32m----> 3\u001b[0;31m \u001b[0mss_two\u001b[0m \u001b[0;34m=\u001b[0m \u001b[0minvariant_distribution_analytically\u001b[0m\u001b[0;34m(\u001b[0m\u001b[0mK\u001b[0m\u001b[0;34m)\u001b[0m\u001b[0;34m\u001b[0m\u001b[0;34m\u001b[0m\u001b[0m\n\u001b[0m",
      "\u001b[0;32m~/rsc/reactive-two-bits/main.py\u001b[0m in \u001b[0;36minvariant_distribution_analytically\u001b[0;34m(M)\u001b[0m\n\u001b[1;32m    144\u001b[0m     \u001b[0msize\u001b[0m \u001b[0;34m=\u001b[0m \u001b[0mM\u001b[0m\u001b[0;34m.\u001b[0m\u001b[0mshape\u001b[0m\u001b[0;34m[\u001b[0m\u001b[0;36m1\u001b[0m\u001b[0;34m]\u001b[0m\u001b[0;34m\u001b[0m\u001b[0;34m\u001b[0m\u001b[0m\n\u001b[1;32m    145\u001b[0m     \u001b[0mpi\u001b[0m \u001b[0;34m=\u001b[0m \u001b[0msym\u001b[0m\u001b[0;34m.\u001b[0m\u001b[0msymbols\u001b[0m\u001b[0;34m(\u001b[0m\u001b[0;34mf\"b_1:{size + 1}\"\u001b[0m\u001b[0;34m)\u001b[0m\u001b[0;34m\u001b[0m\u001b[0;34m\u001b[0m\u001b[0m\n\u001b[0;32m--> 146\u001b[0;31m     ss = sym.solve(\n\u001b[0m\u001b[1;32m    147\u001b[0m         \u001b[0;34m[\u001b[0m\u001b[0msum\u001b[0m\u001b[0;34m(\u001b[0m\u001b[0mpi\u001b[0m\u001b[0;34m)\u001b[0m \u001b[0;34m-\u001b[0m \u001b[0;36m1\u001b[0m\u001b[0;34m]\u001b[0m\u001b[0;34m\u001b[0m\u001b[0;34m\u001b[0m\u001b[0m\n\u001b[1;32m    148\u001b[0m         \u001b[0;34m+\u001b[0m \u001b[0;34m[\u001b[0m\u001b[0ma\u001b[0m \u001b[0;34m-\u001b[0m \u001b[0mb\u001b[0m \u001b[0;32mfor\u001b[0m \u001b[0ma\u001b[0m\u001b[0;34m,\u001b[0m \u001b[0mb\u001b[0m \u001b[0;32min\u001b[0m \u001b[0mzip\u001b[0m\u001b[0;34m(\u001b[0m\u001b[0mM\u001b[0m\u001b[0;34m.\u001b[0m\u001b[0mtranspose\u001b[0m\u001b[0;34m(\u001b[0m\u001b[0;34m)\u001b[0m \u001b[0;34m*\u001b[0m \u001b[0msym\u001b[0m\u001b[0;34m.\u001b[0m\u001b[0mMatrix\u001b[0m\u001b[0;34m(\u001b[0m\u001b[0mpi\u001b[0m\u001b[0;34m)\u001b[0m\u001b[0;34m,\u001b[0m \u001b[0mpi\u001b[0m\u001b[0;34m)\u001b[0m\u001b[0;34m]\u001b[0m\u001b[0;34m,\u001b[0m\u001b[0;34m\u001b[0m\u001b[0;34m\u001b[0m\u001b[0m\n",
      "\u001b[0;32m~/opt/anaconda3/lib/python3.8/site-packages/sympy/solvers/solvers.py\u001b[0m in \u001b[0;36msolve\u001b[0;34m(f, *symbols, **flags)\u001b[0m\n\u001b[1;32m   1094\u001b[0m         \u001b[0msolution\u001b[0m \u001b[0;34m=\u001b[0m \u001b[0m_solve\u001b[0m\u001b[0;34m(\u001b[0m\u001b[0mf\u001b[0m\u001b[0;34m[\u001b[0m\u001b[0;36m0\u001b[0m\u001b[0;34m]\u001b[0m\u001b[0;34m,\u001b[0m \u001b[0;34m*\u001b[0m\u001b[0msymbols\u001b[0m\u001b[0;34m,\u001b[0m \u001b[0;34m**\u001b[0m\u001b[0mflags\u001b[0m\u001b[0;34m)\u001b[0m\u001b[0;34m\u001b[0m\u001b[0;34m\u001b[0m\u001b[0m\n\u001b[1;32m   1095\u001b[0m     \u001b[0;32melse\u001b[0m\u001b[0;34m:\u001b[0m\u001b[0;34m\u001b[0m\u001b[0;34m\u001b[0m\u001b[0m\n\u001b[0;32m-> 1096\u001b[0;31m         \u001b[0msolution\u001b[0m \u001b[0;34m=\u001b[0m \u001b[0m_solve_system\u001b[0m\u001b[0;34m(\u001b[0m\u001b[0mf\u001b[0m\u001b[0;34m,\u001b[0m \u001b[0msymbols\u001b[0m\u001b[0;34m,\u001b[0m \u001b[0;34m**\u001b[0m\u001b[0mflags\u001b[0m\u001b[0;34m)\u001b[0m\u001b[0;34m\u001b[0m\u001b[0;34m\u001b[0m\u001b[0m\n\u001b[0m\u001b[1;32m   1097\u001b[0m \u001b[0;34m\u001b[0m\u001b[0m\n\u001b[1;32m   1098\u001b[0m     \u001b[0;31m#\u001b[0m\u001b[0;34m\u001b[0m\u001b[0;34m\u001b[0m\u001b[0;34m\u001b[0m\u001b[0m\n",
      "\u001b[0;32m~/opt/anaconda3/lib/python3.8/site-packages/sympy/solvers/solvers.py\u001b[0m in \u001b[0;36m_solve_system\u001b[0;34m(exprs, symbols, **flags)\u001b[0m\n\u001b[1;32m   1761\u001b[0m                 \u001b[0mresult\u001b[0m \u001b[0;34m=\u001b[0m \u001b[0mminsolve_linear_system\u001b[0m\u001b[0;34m(\u001b[0m\u001b[0mmatrix\u001b[0m\u001b[0;34m,\u001b[0m \u001b[0;34m*\u001b[0m\u001b[0msymbols\u001b[0m\u001b[0;34m,\u001b[0m \u001b[0;34m**\u001b[0m\u001b[0mflags\u001b[0m\u001b[0;34m)\u001b[0m\u001b[0;34m\u001b[0m\u001b[0;34m\u001b[0m\u001b[0m\n\u001b[1;32m   1762\u001b[0m             \u001b[0;32melse\u001b[0m\u001b[0;34m:\u001b[0m\u001b[0;34m\u001b[0m\u001b[0;34m\u001b[0m\u001b[0m\n\u001b[0;32m-> 1763\u001b[0;31m                 \u001b[0mresult\u001b[0m \u001b[0;34m=\u001b[0m \u001b[0msolve_linear_system\u001b[0m\u001b[0;34m(\u001b[0m\u001b[0mmatrix\u001b[0m\u001b[0;34m,\u001b[0m \u001b[0;34m*\u001b[0m\u001b[0msymbols\u001b[0m\u001b[0;34m,\u001b[0m \u001b[0;34m**\u001b[0m\u001b[0mflags\u001b[0m\u001b[0;34m)\u001b[0m\u001b[0;34m\u001b[0m\u001b[0;34m\u001b[0m\u001b[0m\n\u001b[0m\u001b[1;32m   1764\u001b[0m             \u001b[0;32mif\u001b[0m \u001b[0mfailed\u001b[0m\u001b[0;34m:\u001b[0m\u001b[0;34m\u001b[0m\u001b[0;34m\u001b[0m\u001b[0m\n\u001b[1;32m   1765\u001b[0m                 \u001b[0;32mif\u001b[0m \u001b[0mresult\u001b[0m\u001b[0;34m:\u001b[0m\u001b[0;34m\u001b[0m\u001b[0;34m\u001b[0m\u001b[0m\n",
      "\u001b[0;32m~/opt/anaconda3/lib/python3.8/site-packages/sympy/solvers/solvers.py\u001b[0m in \u001b[0;36msolve_linear_system\u001b[0;34m(system, *symbols, **flags)\u001b[0m\n\u001b[1;32m   2332\u001b[0m                 \u001b[0;31m# subtract from the current row the row containing\u001b[0m\u001b[0;34m\u001b[0m\u001b[0;34m\u001b[0m\u001b[0;34m\u001b[0m\u001b[0m\n\u001b[1;32m   2333\u001b[0m                 \u001b[0;31m# pivot and multiplied by extracted coefficient\u001b[0m\u001b[0;34m\u001b[0m\u001b[0;34m\u001b[0m\u001b[0;34m\u001b[0m\u001b[0m\n\u001b[0;32m-> 2334\u001b[0;31m                 \u001b[0mmatrix\u001b[0m\u001b[0;34m.\u001b[0m\u001b[0mrow_op\u001b[0m\u001b[0;34m(\u001b[0m\u001b[0mk\u001b[0m\u001b[0;34m,\u001b[0m \u001b[0;32mlambda\u001b[0m \u001b[0mx\u001b[0m\u001b[0;34m,\u001b[0m \u001b[0mj\u001b[0m\u001b[0;34m:\u001b[0m \u001b[0msimplify\u001b[0m\u001b[0;34m(\u001b[0m\u001b[0mx\u001b[0m \u001b[0;34m-\u001b[0m \u001b[0mmatrix\u001b[0m\u001b[0;34m[\u001b[0m\u001b[0mi\u001b[0m\u001b[0;34m,\u001b[0m \u001b[0mj\u001b[0m\u001b[0;34m]\u001b[0m\u001b[0;34m*\u001b[0m\u001b[0mcoeff\u001b[0m\u001b[0;34m)\u001b[0m\u001b[0;34m)\u001b[0m\u001b[0;34m\u001b[0m\u001b[0;34m\u001b[0m\u001b[0m\n\u001b[0m\u001b[1;32m   2335\u001b[0m \u001b[0;34m\u001b[0m\u001b[0m\n\u001b[1;32m   2336\u001b[0m         \u001b[0mi\u001b[0m \u001b[0;34m+=\u001b[0m \u001b[0;36m1\u001b[0m\u001b[0;34m\u001b[0m\u001b[0;34m\u001b[0m\u001b[0m\n",
      "\u001b[0;32m~/opt/anaconda3/lib/python3.8/site-packages/sympy/matrices/dense.py\u001b[0m in \u001b[0;36mrow_op\u001b[0;34m(self, i, f)\u001b[0m\n\u001b[1;32m    587\u001b[0m         \u001b[0mi0\u001b[0m \u001b[0;34m=\u001b[0m \u001b[0mi\u001b[0m\u001b[0;34m*\u001b[0m\u001b[0mself\u001b[0m\u001b[0;34m.\u001b[0m\u001b[0mcols\u001b[0m\u001b[0;34m\u001b[0m\u001b[0;34m\u001b[0m\u001b[0m\n\u001b[1;32m    588\u001b[0m         \u001b[0mri\u001b[0m \u001b[0;34m=\u001b[0m \u001b[0mself\u001b[0m\u001b[0;34m.\u001b[0m\u001b[0m_mat\u001b[0m\u001b[0;34m[\u001b[0m\u001b[0mi0\u001b[0m\u001b[0;34m:\u001b[0m \u001b[0mi0\u001b[0m \u001b[0;34m+\u001b[0m \u001b[0mself\u001b[0m\u001b[0;34m.\u001b[0m\u001b[0mcols\u001b[0m\u001b[0;34m]\u001b[0m\u001b[0;34m\u001b[0m\u001b[0;34m\u001b[0m\u001b[0m\n\u001b[0;32m--> 589\u001b[0;31m         \u001b[0mself\u001b[0m\u001b[0;34m.\u001b[0m\u001b[0m_mat\u001b[0m\u001b[0;34m[\u001b[0m\u001b[0mi0\u001b[0m\u001b[0;34m:\u001b[0m \u001b[0mi0\u001b[0m \u001b[0;34m+\u001b[0m \u001b[0mself\u001b[0m\u001b[0;34m.\u001b[0m\u001b[0mcols\u001b[0m\u001b[0;34m]\u001b[0m \u001b[0;34m=\u001b[0m \u001b[0;34m[\u001b[0m\u001b[0mf\u001b[0m\u001b[0;34m(\u001b[0m\u001b[0mx\u001b[0m\u001b[0;34m,\u001b[0m \u001b[0mj\u001b[0m\u001b[0;34m)\u001b[0m \u001b[0;32mfor\u001b[0m \u001b[0mx\u001b[0m\u001b[0;34m,\u001b[0m \u001b[0mj\u001b[0m \u001b[0;32min\u001b[0m \u001b[0mzip\u001b[0m\u001b[0;34m(\u001b[0m\u001b[0mri\u001b[0m\u001b[0;34m,\u001b[0m \u001b[0mlist\u001b[0m\u001b[0;34m(\u001b[0m\u001b[0mrange\u001b[0m\u001b[0;34m(\u001b[0m\u001b[0mself\u001b[0m\u001b[0;34m.\u001b[0m\u001b[0mcols\u001b[0m\u001b[0;34m)\u001b[0m\u001b[0;34m)\u001b[0m\u001b[0;34m)\u001b[0m\u001b[0;34m]\u001b[0m\u001b[0;34m\u001b[0m\u001b[0;34m\u001b[0m\u001b[0m\n\u001b[0m\u001b[1;32m    590\u001b[0m \u001b[0;34m\u001b[0m\u001b[0m\n\u001b[1;32m    591\u001b[0m     \u001b[0;32mdef\u001b[0m \u001b[0mrow_swap\u001b[0m\u001b[0;34m(\u001b[0m\u001b[0mself\u001b[0m\u001b[0;34m,\u001b[0m \u001b[0mi\u001b[0m\u001b[0;34m,\u001b[0m \u001b[0mj\u001b[0m\u001b[0;34m)\u001b[0m\u001b[0;34m:\u001b[0m\u001b[0;34m\u001b[0m\u001b[0;34m\u001b[0m\u001b[0m\n",
      "\u001b[0;32m~/opt/anaconda3/lib/python3.8/site-packages/sympy/matrices/dense.py\u001b[0m in \u001b[0;36m<listcomp>\u001b[0;34m(.0)\u001b[0m\n\u001b[1;32m    587\u001b[0m         \u001b[0mi0\u001b[0m \u001b[0;34m=\u001b[0m \u001b[0mi\u001b[0m\u001b[0;34m*\u001b[0m\u001b[0mself\u001b[0m\u001b[0;34m.\u001b[0m\u001b[0mcols\u001b[0m\u001b[0;34m\u001b[0m\u001b[0;34m\u001b[0m\u001b[0m\n\u001b[1;32m    588\u001b[0m         \u001b[0mri\u001b[0m \u001b[0;34m=\u001b[0m \u001b[0mself\u001b[0m\u001b[0;34m.\u001b[0m\u001b[0m_mat\u001b[0m\u001b[0;34m[\u001b[0m\u001b[0mi0\u001b[0m\u001b[0;34m:\u001b[0m \u001b[0mi0\u001b[0m \u001b[0;34m+\u001b[0m \u001b[0mself\u001b[0m\u001b[0;34m.\u001b[0m\u001b[0mcols\u001b[0m\u001b[0;34m]\u001b[0m\u001b[0;34m\u001b[0m\u001b[0;34m\u001b[0m\u001b[0m\n\u001b[0;32m--> 589\u001b[0;31m         \u001b[0mself\u001b[0m\u001b[0;34m.\u001b[0m\u001b[0m_mat\u001b[0m\u001b[0;34m[\u001b[0m\u001b[0mi0\u001b[0m\u001b[0;34m:\u001b[0m \u001b[0mi0\u001b[0m \u001b[0;34m+\u001b[0m \u001b[0mself\u001b[0m\u001b[0;34m.\u001b[0m\u001b[0mcols\u001b[0m\u001b[0;34m]\u001b[0m \u001b[0;34m=\u001b[0m \u001b[0;34m[\u001b[0m\u001b[0mf\u001b[0m\u001b[0;34m(\u001b[0m\u001b[0mx\u001b[0m\u001b[0;34m,\u001b[0m \u001b[0mj\u001b[0m\u001b[0;34m)\u001b[0m \u001b[0;32mfor\u001b[0m \u001b[0mx\u001b[0m\u001b[0;34m,\u001b[0m \u001b[0mj\u001b[0m \u001b[0;32min\u001b[0m \u001b[0mzip\u001b[0m\u001b[0;34m(\u001b[0m\u001b[0mri\u001b[0m\u001b[0;34m,\u001b[0m \u001b[0mlist\u001b[0m\u001b[0;34m(\u001b[0m\u001b[0mrange\u001b[0m\u001b[0;34m(\u001b[0m\u001b[0mself\u001b[0m\u001b[0;34m.\u001b[0m\u001b[0mcols\u001b[0m\u001b[0;34m)\u001b[0m\u001b[0;34m)\u001b[0m\u001b[0;34m)\u001b[0m\u001b[0;34m]\u001b[0m\u001b[0;34m\u001b[0m\u001b[0;34m\u001b[0m\u001b[0m\n\u001b[0m\u001b[1;32m    590\u001b[0m \u001b[0;34m\u001b[0m\u001b[0m\n\u001b[1;32m    591\u001b[0m     \u001b[0;32mdef\u001b[0m \u001b[0mrow_swap\u001b[0m\u001b[0;34m(\u001b[0m\u001b[0mself\u001b[0m\u001b[0;34m,\u001b[0m \u001b[0mi\u001b[0m\u001b[0;34m,\u001b[0m \u001b[0mj\u001b[0m\u001b[0;34m)\u001b[0m\u001b[0;34m:\u001b[0m\u001b[0;34m\u001b[0m\u001b[0;34m\u001b[0m\u001b[0m\n",
      "\u001b[0;32m~/opt/anaconda3/lib/python3.8/site-packages/sympy/solvers/solvers.py\u001b[0m in \u001b[0;36m<lambda>\u001b[0;34m(x, j)\u001b[0m\n\u001b[1;32m   2332\u001b[0m                 \u001b[0;31m# subtract from the current row the row containing\u001b[0m\u001b[0;34m\u001b[0m\u001b[0;34m\u001b[0m\u001b[0;34m\u001b[0m\u001b[0m\n\u001b[1;32m   2333\u001b[0m                 \u001b[0;31m# pivot and multiplied by extracted coefficient\u001b[0m\u001b[0;34m\u001b[0m\u001b[0;34m\u001b[0m\u001b[0;34m\u001b[0m\u001b[0m\n\u001b[0;32m-> 2334\u001b[0;31m                 \u001b[0mmatrix\u001b[0m\u001b[0;34m.\u001b[0m\u001b[0mrow_op\u001b[0m\u001b[0;34m(\u001b[0m\u001b[0mk\u001b[0m\u001b[0;34m,\u001b[0m \u001b[0;32mlambda\u001b[0m \u001b[0mx\u001b[0m\u001b[0;34m,\u001b[0m \u001b[0mj\u001b[0m\u001b[0;34m:\u001b[0m \u001b[0msimplify\u001b[0m\u001b[0;34m(\u001b[0m\u001b[0mx\u001b[0m \u001b[0;34m-\u001b[0m \u001b[0mmatrix\u001b[0m\u001b[0;34m[\u001b[0m\u001b[0mi\u001b[0m\u001b[0;34m,\u001b[0m \u001b[0mj\u001b[0m\u001b[0;34m]\u001b[0m\u001b[0;34m*\u001b[0m\u001b[0mcoeff\u001b[0m\u001b[0;34m)\u001b[0m\u001b[0;34m)\u001b[0m\u001b[0;34m\u001b[0m\u001b[0;34m\u001b[0m\u001b[0m\n\u001b[0m\u001b[1;32m   2335\u001b[0m \u001b[0;34m\u001b[0m\u001b[0m\n\u001b[1;32m   2336\u001b[0m         \u001b[0mi\u001b[0m \u001b[0;34m+=\u001b[0m \u001b[0;36m1\u001b[0m\u001b[0;34m\u001b[0m\u001b[0;34m\u001b[0m\u001b[0m\n",
      "\u001b[0;32m~/opt/anaconda3/lib/python3.8/site-packages/sympy/simplify/simplify.py\u001b[0m in \u001b[0;36msimplify\u001b[0;34m(expr, ratio, measure, rational, inverse, doit, **kwargs)\u001b[0m\n\u001b[1;32m    684\u001b[0m     \u001b[0mshort\u001b[0m \u001b[0;34m=\u001b[0m \u001b[0mshorter\u001b[0m\u001b[0;34m(\u001b[0m\u001b[0mpowsimp\u001b[0m\u001b[0;34m(\u001b[0m\u001b[0mexpr\u001b[0m\u001b[0;34m,\u001b[0m \u001b[0mcombine\u001b[0m\u001b[0;34m=\u001b[0m\u001b[0;34m'exp'\u001b[0m\u001b[0;34m,\u001b[0m \u001b[0mdeep\u001b[0m\u001b[0;34m=\u001b[0m\u001b[0;32mTrue\u001b[0m\u001b[0;34m)\u001b[0m\u001b[0;34m,\u001b[0m \u001b[0mpowsimp\u001b[0m\u001b[0;34m(\u001b[0m\u001b[0mexpr\u001b[0m\u001b[0;34m)\u001b[0m\u001b[0;34m,\u001b[0m \u001b[0mexpr\u001b[0m\u001b[0;34m)\u001b[0m\u001b[0;34m\u001b[0m\u001b[0;34m\u001b[0m\u001b[0m\n\u001b[1;32m    685\u001b[0m     \u001b[0mshort\u001b[0m \u001b[0;34m=\u001b[0m \u001b[0mshorter\u001b[0m\u001b[0;34m(\u001b[0m\u001b[0mshort\u001b[0m\u001b[0;34m,\u001b[0m \u001b[0mcancel\u001b[0m\u001b[0;34m(\u001b[0m\u001b[0mshort\u001b[0m\u001b[0;34m)\u001b[0m\u001b[0;34m)\u001b[0m\u001b[0;34m\u001b[0m\u001b[0;34m\u001b[0m\u001b[0m\n\u001b[0;32m--> 686\u001b[0;31m     \u001b[0mshort\u001b[0m \u001b[0;34m=\u001b[0m \u001b[0mshorter\u001b[0m\u001b[0;34m(\u001b[0m\u001b[0mshort\u001b[0m\u001b[0;34m,\u001b[0m \u001b[0mfactor_terms\u001b[0m\u001b[0;34m(\u001b[0m\u001b[0mshort\u001b[0m\u001b[0;34m)\u001b[0m\u001b[0;34m,\u001b[0m \u001b[0mexpand_power_exp\u001b[0m\u001b[0;34m(\u001b[0m\u001b[0mexpand_mul\u001b[0m\u001b[0;34m(\u001b[0m\u001b[0mshort\u001b[0m\u001b[0;34m)\u001b[0m\u001b[0;34m)\u001b[0m\u001b[0;34m)\u001b[0m\u001b[0;34m\u001b[0m\u001b[0;34m\u001b[0m\u001b[0m\n\u001b[0m\u001b[1;32m    687\u001b[0m     \u001b[0;32mif\u001b[0m \u001b[0mshort\u001b[0m\u001b[0;34m.\u001b[0m\u001b[0mhas\u001b[0m\u001b[0;34m(\u001b[0m\u001b[0mTrigonometricFunction\u001b[0m\u001b[0;34m,\u001b[0m \u001b[0mHyperbolicFunction\u001b[0m\u001b[0;34m,\u001b[0m \u001b[0mExpBase\u001b[0m\u001b[0;34m)\u001b[0m\u001b[0;34m:\u001b[0m\u001b[0;34m\u001b[0m\u001b[0;34m\u001b[0m\u001b[0m\n\u001b[1;32m    688\u001b[0m         \u001b[0mshort\u001b[0m \u001b[0;34m=\u001b[0m \u001b[0mexptrigsimp\u001b[0m\u001b[0;34m(\u001b[0m\u001b[0mshort\u001b[0m\u001b[0;34m)\u001b[0m\u001b[0;34m\u001b[0m\u001b[0;34m\u001b[0m\u001b[0m\n",
      "\u001b[0;32m~/opt/anaconda3/lib/python3.8/site-packages/sympy/core/function.py\u001b[0m in \u001b[0;36mexpand_mul\u001b[0;34m(expr, deep)\u001b[0m\n\u001b[1;32m   2797\u001b[0m \u001b[0;34m\u001b[0m\u001b[0m\n\u001b[1;32m   2798\u001b[0m     \"\"\"\n\u001b[0;32m-> 2799\u001b[0;31m     return sympify(expr).expand(deep=deep, mul=True, power_exp=False,\n\u001b[0m\u001b[1;32m   2800\u001b[0m     power_base=False, basic=False, multinomial=False, log=False)\n\u001b[1;32m   2801\u001b[0m \u001b[0;34m\u001b[0m\u001b[0m\n",
      "\u001b[0;32m~/opt/anaconda3/lib/python3.8/site-packages/sympy/core/expr.py\u001b[0m in \u001b[0;36mexpand\u001b[0;34m(self, deep, modulus, power_base, power_exp, mul, log, multinomial, basic, **hints)\u001b[0m\n\u001b[1;32m   3489\u001b[0m                     expr, '_eval_expand_multinomial', deep=deep, **hints)\n\u001b[1;32m   3490\u001b[0m             \u001b[0;32mif\u001b[0m \u001b[0mhints\u001b[0m\u001b[0;34m.\u001b[0m\u001b[0mget\u001b[0m\u001b[0;34m(\u001b[0m\u001b[0;34m'mul'\u001b[0m\u001b[0;34m,\u001b[0m \u001b[0;32mFalse\u001b[0m\u001b[0;34m)\u001b[0m\u001b[0;34m:\u001b[0m\u001b[0;34m\u001b[0m\u001b[0;34m\u001b[0m\u001b[0m\n\u001b[0;32m-> 3491\u001b[0;31m                 expr, _ = Expr._expand_hint(\n\u001b[0m\u001b[1;32m   3492\u001b[0m                     expr, '_eval_expand_mul', deep=deep, **hints)\n\u001b[1;32m   3493\u001b[0m             \u001b[0;32mif\u001b[0m \u001b[0mhints\u001b[0m\u001b[0;34m.\u001b[0m\u001b[0mget\u001b[0m\u001b[0;34m(\u001b[0m\u001b[0;34m'log'\u001b[0m\u001b[0;34m,\u001b[0m \u001b[0;32mFalse\u001b[0m\u001b[0;34m)\u001b[0m\u001b[0;34m:\u001b[0m\u001b[0;34m\u001b[0m\u001b[0;34m\u001b[0m\u001b[0m\n",
      "\u001b[0;32m~/opt/anaconda3/lib/python3.8/site-packages/sympy/core/expr.py\u001b[0m in \u001b[0;36m_expand_hint\u001b[0;34m(expr, hint, deep, **hints)\u001b[0m\n\u001b[1;32m   3414\u001b[0m             \u001b[0msargs\u001b[0m \u001b[0;34m=\u001b[0m \u001b[0;34m[\u001b[0m\u001b[0;34m]\u001b[0m\u001b[0;34m\u001b[0m\u001b[0;34m\u001b[0m\u001b[0m\n\u001b[1;32m   3415\u001b[0m             \u001b[0;32mfor\u001b[0m \u001b[0marg\u001b[0m \u001b[0;32min\u001b[0m \u001b[0mexpr\u001b[0m\u001b[0;34m.\u001b[0m\u001b[0margs\u001b[0m\u001b[0;34m:\u001b[0m\u001b[0;34m\u001b[0m\u001b[0;34m\u001b[0m\u001b[0m\n\u001b[0;32m-> 3416\u001b[0;31m                 \u001b[0marg\u001b[0m\u001b[0;34m,\u001b[0m \u001b[0marghit\u001b[0m \u001b[0;34m=\u001b[0m \u001b[0mExpr\u001b[0m\u001b[0;34m.\u001b[0m\u001b[0m_expand_hint\u001b[0m\u001b[0;34m(\u001b[0m\u001b[0marg\u001b[0m\u001b[0;34m,\u001b[0m \u001b[0mhint\u001b[0m\u001b[0;34m,\u001b[0m \u001b[0;34m**\u001b[0m\u001b[0mhints\u001b[0m\u001b[0;34m)\u001b[0m\u001b[0;34m\u001b[0m\u001b[0;34m\u001b[0m\u001b[0m\n\u001b[0m\u001b[1;32m   3417\u001b[0m                 \u001b[0mhit\u001b[0m \u001b[0;34m|=\u001b[0m \u001b[0marghit\u001b[0m\u001b[0;34m\u001b[0m\u001b[0;34m\u001b[0m\u001b[0m\n\u001b[1;32m   3418\u001b[0m                 \u001b[0msargs\u001b[0m\u001b[0;34m.\u001b[0m\u001b[0mappend\u001b[0m\u001b[0;34m(\u001b[0m\u001b[0marg\u001b[0m\u001b[0;34m)\u001b[0m\u001b[0;34m\u001b[0m\u001b[0;34m\u001b[0m\u001b[0m\n",
      "\u001b[0;32m~/opt/anaconda3/lib/python3.8/site-packages/sympy/core/expr.py\u001b[0m in \u001b[0;36m_expand_hint\u001b[0;34m(expr, hint, deep, **hints)\u001b[0m\n\u001b[1;32m   3414\u001b[0m             \u001b[0msargs\u001b[0m \u001b[0;34m=\u001b[0m \u001b[0;34m[\u001b[0m\u001b[0;34m]\u001b[0m\u001b[0;34m\u001b[0m\u001b[0;34m\u001b[0m\u001b[0m\n\u001b[1;32m   3415\u001b[0m             \u001b[0;32mfor\u001b[0m \u001b[0marg\u001b[0m \u001b[0;32min\u001b[0m \u001b[0mexpr\u001b[0m\u001b[0;34m.\u001b[0m\u001b[0margs\u001b[0m\u001b[0;34m:\u001b[0m\u001b[0;34m\u001b[0m\u001b[0;34m\u001b[0m\u001b[0m\n\u001b[0;32m-> 3416\u001b[0;31m                 \u001b[0marg\u001b[0m\u001b[0;34m,\u001b[0m \u001b[0marghit\u001b[0m \u001b[0;34m=\u001b[0m \u001b[0mExpr\u001b[0m\u001b[0;34m.\u001b[0m\u001b[0m_expand_hint\u001b[0m\u001b[0;34m(\u001b[0m\u001b[0marg\u001b[0m\u001b[0;34m,\u001b[0m \u001b[0mhint\u001b[0m\u001b[0;34m,\u001b[0m \u001b[0;34m**\u001b[0m\u001b[0mhints\u001b[0m\u001b[0;34m)\u001b[0m\u001b[0;34m\u001b[0m\u001b[0;34m\u001b[0m\u001b[0m\n\u001b[0m\u001b[1;32m   3417\u001b[0m                 \u001b[0mhit\u001b[0m \u001b[0;34m|=\u001b[0m \u001b[0marghit\u001b[0m\u001b[0;34m\u001b[0m\u001b[0;34m\u001b[0m\u001b[0m\n\u001b[1;32m   3418\u001b[0m                 \u001b[0msargs\u001b[0m\u001b[0;34m.\u001b[0m\u001b[0mappend\u001b[0m\u001b[0;34m(\u001b[0m\u001b[0marg\u001b[0m\u001b[0;34m)\u001b[0m\u001b[0;34m\u001b[0m\u001b[0;34m\u001b[0m\u001b[0m\n",
      "\u001b[0;32m~/opt/anaconda3/lib/python3.8/site-packages/sympy/core/expr.py\u001b[0m in \u001b[0;36m_expand_hint\u001b[0;34m(expr, hint, deep, **hints)\u001b[0m\n\u001b[1;32m   3414\u001b[0m             \u001b[0msargs\u001b[0m \u001b[0;34m=\u001b[0m \u001b[0;34m[\u001b[0m\u001b[0;34m]\u001b[0m\u001b[0;34m\u001b[0m\u001b[0;34m\u001b[0m\u001b[0m\n\u001b[1;32m   3415\u001b[0m             \u001b[0;32mfor\u001b[0m \u001b[0marg\u001b[0m \u001b[0;32min\u001b[0m \u001b[0mexpr\u001b[0m\u001b[0;34m.\u001b[0m\u001b[0margs\u001b[0m\u001b[0;34m:\u001b[0m\u001b[0;34m\u001b[0m\u001b[0;34m\u001b[0m\u001b[0m\n\u001b[0;32m-> 3416\u001b[0;31m                 \u001b[0marg\u001b[0m\u001b[0;34m,\u001b[0m \u001b[0marghit\u001b[0m \u001b[0;34m=\u001b[0m \u001b[0mExpr\u001b[0m\u001b[0;34m.\u001b[0m\u001b[0m_expand_hint\u001b[0m\u001b[0;34m(\u001b[0m\u001b[0marg\u001b[0m\u001b[0;34m,\u001b[0m \u001b[0mhint\u001b[0m\u001b[0;34m,\u001b[0m \u001b[0;34m**\u001b[0m\u001b[0mhints\u001b[0m\u001b[0;34m)\u001b[0m\u001b[0;34m\u001b[0m\u001b[0;34m\u001b[0m\u001b[0m\n\u001b[0m\u001b[1;32m   3417\u001b[0m                 \u001b[0mhit\u001b[0m \u001b[0;34m|=\u001b[0m \u001b[0marghit\u001b[0m\u001b[0;34m\u001b[0m\u001b[0;34m\u001b[0m\u001b[0m\n\u001b[1;32m   3418\u001b[0m                 \u001b[0msargs\u001b[0m\u001b[0;34m.\u001b[0m\u001b[0mappend\u001b[0m\u001b[0;34m(\u001b[0m\u001b[0marg\u001b[0m\u001b[0;34m)\u001b[0m\u001b[0;34m\u001b[0m\u001b[0;34m\u001b[0m\u001b[0m\n",
      "\u001b[0;32m~/opt/anaconda3/lib/python3.8/site-packages/sympy/core/expr.py\u001b[0m in \u001b[0;36m_expand_hint\u001b[0;34m(expr, hint, deep, **hints)\u001b[0m\n\u001b[1;32m   3414\u001b[0m             \u001b[0msargs\u001b[0m \u001b[0;34m=\u001b[0m \u001b[0;34m[\u001b[0m\u001b[0;34m]\u001b[0m\u001b[0;34m\u001b[0m\u001b[0;34m\u001b[0m\u001b[0m\n\u001b[1;32m   3415\u001b[0m             \u001b[0;32mfor\u001b[0m \u001b[0marg\u001b[0m \u001b[0;32min\u001b[0m \u001b[0mexpr\u001b[0m\u001b[0;34m.\u001b[0m\u001b[0margs\u001b[0m\u001b[0;34m:\u001b[0m\u001b[0;34m\u001b[0m\u001b[0;34m\u001b[0m\u001b[0m\n\u001b[0;32m-> 3416\u001b[0;31m                 \u001b[0marg\u001b[0m\u001b[0;34m,\u001b[0m \u001b[0marghit\u001b[0m \u001b[0;34m=\u001b[0m \u001b[0mExpr\u001b[0m\u001b[0;34m.\u001b[0m\u001b[0m_expand_hint\u001b[0m\u001b[0;34m(\u001b[0m\u001b[0marg\u001b[0m\u001b[0;34m,\u001b[0m \u001b[0mhint\u001b[0m\u001b[0;34m,\u001b[0m \u001b[0;34m**\u001b[0m\u001b[0mhints\u001b[0m\u001b[0;34m)\u001b[0m\u001b[0;34m\u001b[0m\u001b[0;34m\u001b[0m\u001b[0m\n\u001b[0m\u001b[1;32m   3417\u001b[0m                 \u001b[0mhit\u001b[0m \u001b[0;34m|=\u001b[0m \u001b[0marghit\u001b[0m\u001b[0;34m\u001b[0m\u001b[0;34m\u001b[0m\u001b[0m\n\u001b[1;32m   3418\u001b[0m                 \u001b[0msargs\u001b[0m\u001b[0;34m.\u001b[0m\u001b[0mappend\u001b[0m\u001b[0;34m(\u001b[0m\u001b[0marg\u001b[0m\u001b[0;34m)\u001b[0m\u001b[0;34m\u001b[0m\u001b[0;34m\u001b[0m\u001b[0m\n",
      "\u001b[0;32m~/opt/anaconda3/lib/python3.8/site-packages/sympy/core/expr.py\u001b[0m in \u001b[0;36m_expand_hint\u001b[0;34m(expr, hint, deep, **hints)\u001b[0m\n\u001b[1;32m   3422\u001b[0m \u001b[0;34m\u001b[0m\u001b[0m\n\u001b[1;32m   3423\u001b[0m         \u001b[0;32mif\u001b[0m \u001b[0mhasattr\u001b[0m\u001b[0;34m(\u001b[0m\u001b[0mexpr\u001b[0m\u001b[0;34m,\u001b[0m \u001b[0mhint\u001b[0m\u001b[0;34m)\u001b[0m\u001b[0;34m:\u001b[0m\u001b[0;34m\u001b[0m\u001b[0;34m\u001b[0m\u001b[0m\n\u001b[0;32m-> 3424\u001b[0;31m             \u001b[0mnewexpr\u001b[0m \u001b[0;34m=\u001b[0m \u001b[0mgetattr\u001b[0m\u001b[0;34m(\u001b[0m\u001b[0mexpr\u001b[0m\u001b[0;34m,\u001b[0m \u001b[0mhint\u001b[0m\u001b[0;34m)\u001b[0m\u001b[0;34m(\u001b[0m\u001b[0;34m**\u001b[0m\u001b[0mhints\u001b[0m\u001b[0;34m)\u001b[0m\u001b[0;34m\u001b[0m\u001b[0;34m\u001b[0m\u001b[0m\n\u001b[0m\u001b[1;32m   3425\u001b[0m             \u001b[0;32mif\u001b[0m \u001b[0mnewexpr\u001b[0m \u001b[0;34m!=\u001b[0m \u001b[0mexpr\u001b[0m\u001b[0;34m:\u001b[0m\u001b[0;34m\u001b[0m\u001b[0;34m\u001b[0m\u001b[0m\n\u001b[1;32m   3426\u001b[0m                 \u001b[0;32mreturn\u001b[0m \u001b[0;34m(\u001b[0m\u001b[0mnewexpr\u001b[0m\u001b[0;34m,\u001b[0m \u001b[0;32mTrue\u001b[0m\u001b[0;34m)\u001b[0m\u001b[0;34m\u001b[0m\u001b[0;34m\u001b[0m\u001b[0m\n",
      "\u001b[0;32m~/opt/anaconda3/lib/python3.8/site-packages/sympy/core/mul.py\u001b[0m in \u001b[0;36m_eval_expand_mul\u001b[0;34m(self, **hints)\u001b[0m\n\u001b[1;32m    858\u001b[0m         \u001b[0;31m# to 1/x*1/(x + 1)\u001b[0m\u001b[0;34m\u001b[0m\u001b[0;34m\u001b[0m\u001b[0;34m\u001b[0m\u001b[0m\n\u001b[1;32m    859\u001b[0m         \u001b[0mexpr\u001b[0m \u001b[0;34m=\u001b[0m \u001b[0mself\u001b[0m\u001b[0;34m\u001b[0m\u001b[0;34m\u001b[0m\u001b[0m\n\u001b[0;32m--> 860\u001b[0;31m         \u001b[0mn\u001b[0m\u001b[0;34m,\u001b[0m \u001b[0md\u001b[0m \u001b[0;34m=\u001b[0m \u001b[0mfraction\u001b[0m\u001b[0;34m(\u001b[0m\u001b[0mexpr\u001b[0m\u001b[0;34m)\u001b[0m\u001b[0;34m\u001b[0m\u001b[0;34m\u001b[0m\u001b[0m\n\u001b[0m\u001b[1;32m    861\u001b[0m         \u001b[0;32mif\u001b[0m \u001b[0md\u001b[0m\u001b[0;34m.\u001b[0m\u001b[0mis_Mul\u001b[0m\u001b[0;34m:\u001b[0m\u001b[0;34m\u001b[0m\u001b[0;34m\u001b[0m\u001b[0m\n\u001b[1;32m    862\u001b[0m             n, d = [i._eval_expand_mul(**hints) if i.is_Mul else i\n",
      "\u001b[0;32m~/opt/anaconda3/lib/python3.8/site-packages/sympy/simplify/radsimp.py\u001b[0m in \u001b[0;36mfraction\u001b[0;34m(expr, exact)\u001b[0m\n\u001b[1;32m   1099\u001b[0m         \u001b[0;32mreturn\u001b[0m \u001b[0mMul\u001b[0m\u001b[0;34m(\u001b[0m\u001b[0;34m*\u001b[0m\u001b[0mnumer\u001b[0m\u001b[0;34m,\u001b[0m \u001b[0mevaluate\u001b[0m\u001b[0;34m=\u001b[0m\u001b[0;32mFalse\u001b[0m\u001b[0;34m)\u001b[0m\u001b[0;34m,\u001b[0m \u001b[0mMul\u001b[0m\u001b[0;34m(\u001b[0m\u001b[0;34m*\u001b[0m\u001b[0mdenom\u001b[0m\u001b[0;34m,\u001b[0m \u001b[0mevaluate\u001b[0m\u001b[0;34m=\u001b[0m\u001b[0;32mFalse\u001b[0m\u001b[0;34m)\u001b[0m\u001b[0;34m\u001b[0m\u001b[0;34m\u001b[0m\u001b[0m\n\u001b[1;32m   1100\u001b[0m     \u001b[0;32melse\u001b[0m\u001b[0;34m:\u001b[0m\u001b[0;34m\u001b[0m\u001b[0;34m\u001b[0m\u001b[0m\n\u001b[0;32m-> 1101\u001b[0;31m         \u001b[0;32mreturn\u001b[0m \u001b[0mMul\u001b[0m\u001b[0;34m(\u001b[0m\u001b[0;34m*\u001b[0m\u001b[0mnumer\u001b[0m\u001b[0;34m)\u001b[0m\u001b[0;34m,\u001b[0m \u001b[0mMul\u001b[0m\u001b[0;34m(\u001b[0m\u001b[0;34m*\u001b[0m\u001b[0mdenom\u001b[0m\u001b[0;34m)\u001b[0m\u001b[0;34m\u001b[0m\u001b[0;34m\u001b[0m\u001b[0m\n\u001b[0m\u001b[1;32m   1102\u001b[0m \u001b[0;34m\u001b[0m\u001b[0m\n\u001b[1;32m   1103\u001b[0m \u001b[0;34m\u001b[0m\u001b[0m\n",
      "\u001b[0;32m~/opt/anaconda3/lib/python3.8/site-packages/sympy/core/operations.py\u001b[0m in \u001b[0;36m__new__\u001b[0;34m(cls, *args, **options)\u001b[0m\n\u001b[1;32m     50\u001b[0m             \u001b[0;32mreturn\u001b[0m \u001b[0margs\u001b[0m\u001b[0;34m[\u001b[0m\u001b[0;36m0\u001b[0m\u001b[0;34m]\u001b[0m\u001b[0;34m\u001b[0m\u001b[0;34m\u001b[0m\u001b[0m\n\u001b[1;32m     51\u001b[0m \u001b[0;34m\u001b[0m\u001b[0m\n\u001b[0;32m---> 52\u001b[0;31m         \u001b[0mc_part\u001b[0m\u001b[0;34m,\u001b[0m \u001b[0mnc_part\u001b[0m\u001b[0;34m,\u001b[0m \u001b[0morder_symbols\u001b[0m \u001b[0;34m=\u001b[0m \u001b[0mcls\u001b[0m\u001b[0;34m.\u001b[0m\u001b[0mflatten\u001b[0m\u001b[0;34m(\u001b[0m\u001b[0margs\u001b[0m\u001b[0;34m)\u001b[0m\u001b[0;34m\u001b[0m\u001b[0;34m\u001b[0m\u001b[0m\n\u001b[0m\u001b[1;32m     53\u001b[0m         \u001b[0mis_commutative\u001b[0m \u001b[0;34m=\u001b[0m \u001b[0;32mnot\u001b[0m \u001b[0mnc_part\u001b[0m\u001b[0;34m\u001b[0m\u001b[0;34m\u001b[0m\u001b[0m\n\u001b[1;32m     54\u001b[0m         \u001b[0mobj\u001b[0m \u001b[0;34m=\u001b[0m \u001b[0mcls\u001b[0m\u001b[0;34m.\u001b[0m\u001b[0m_from_args\u001b[0m\u001b[0;34m(\u001b[0m\u001b[0mc_part\u001b[0m \u001b[0;34m+\u001b[0m \u001b[0mnc_part\u001b[0m\u001b[0;34m,\u001b[0m \u001b[0mis_commutative\u001b[0m\u001b[0;34m)\u001b[0m\u001b[0;34m\u001b[0m\u001b[0;34m\u001b[0m\u001b[0m\n",
      "\u001b[0;31mKeyboardInterrupt\u001b[0m: "
     ]
    }
   ],
   "source": [
    "K = transition_matrix_two_bit([p_1, p_2, p_3, p_2], [q_1, q_2, q_3, q_2])\n",
    "\n",
    "ss_two = invariant_distribution_analytically(K) "
   ]
  },
  {
   "cell_type": "code",
   "execution_count": null,
   "metadata": {},
   "outputs": [],
   "source": []
  },
  {
   "cell_type": "code",
   "execution_count": 13,
   "metadata": {},
   "outputs": [],
   "source": [
    "m = transition_matrix_one_bit([p_1, p_2], [q_1, q_2])\n",
    "\n",
    "ss_one = invariant_distribution_analytically(m)"
   ]
  },
  {
   "cell_type": "code",
   "execution_count": 14,
   "metadata": {},
   "outputs": [],
   "source": [
    "ss_one = sym.Matrix([[s.factor() for s in ss_one]])"
   ]
  },
  {
   "cell_type": "code",
   "execution_count": 15,
   "metadata": {},
   "outputs": [
    {
     "data": {
      "text/latex": [
       "$\\displaystyle \\left[\\begin{matrix}\\frac{\\left(p_{1} q_{2} - p_{2} q_{2} + p_{2}\\right) \\left(p_{2} q_{1} - p_{2} q_{2} + q_{2}\\right)}{\\left(p_{1} q_{1} - p_{1} q_{2} - p_{2} q_{1} + p_{2} q_{2} - 1\\right)^{2}} & - \\frac{\\left(p_{1} q_{2} - p_{2} q_{2} + p_{2}\\right) \\left(p_{1} q_{1} - p_{1} q_{2} + q_{2} - 1\\right)}{\\left(p_{1} q_{1} - p_{1} q_{2} - p_{2} q_{1} + p_{2} q_{2} - 1\\right)^{2}} & - \\frac{\\left(p_{2} q_{1} - p_{2} q_{2} + q_{2}\\right) \\left(p_{1} q_{1} - p_{2} q_{1} + p_{2} - 1\\right)}{\\left(p_{1} q_{1} - p_{1} q_{2} - p_{2} q_{1} + p_{2} q_{2} - 1\\right)^{2}} & \\frac{\\left(p_{1} q_{1} - p_{1} q_{2} + q_{2} - 1\\right) \\left(p_{1} q_{1} - p_{2} q_{1} + p_{2} - 1\\right)}{\\left(p_{1} q_{1} - p_{1} q_{2} - p_{2} q_{1} + p_{2} q_{2} - 1\\right)^{2}}\\end{matrix}\\right]$"
      ],
      "text/plain": [
       "Matrix([[(p_1*q_2 - p_2*q_2 + p_2)*(p_2*q_1 - p_2*q_2 + q_2)/(p_1*q_1 - p_1*q_2 - p_2*q_1 + p_2*q_2 - 1)**2, -(p_1*q_2 - p_2*q_2 + p_2)*(p_1*q_1 - p_1*q_2 + q_2 - 1)/(p_1*q_1 - p_1*q_2 - p_2*q_1 + p_2*q_2 - 1)**2, -(p_2*q_1 - p_2*q_2 + q_2)*(p_1*q_1 - p_2*q_1 + p_2 - 1)/(p_1*q_1 - p_1*q_2 - p_2*q_1 + p_2*q_2 - 1)**2, (p_1*q_1 - p_1*q_2 + q_2 - 1)*(p_1*q_1 - p_2*q_1 + p_2 - 1)/(p_1*q_1 - p_1*q_2 - p_2*q_1 + p_2*q_2 - 1)**2]])"
      ]
     },
     "execution_count": 15,
     "metadata": {},
     "output_type": "execute_result"
    }
   ],
   "source": [
    "ss_one"
   ]
  },
  {
   "cell_type": "code",
   "execution_count": 16,
   "metadata": {},
   "outputs": [
    {
     "data": {
      "text/latex": [
       "$\\displaystyle \\left[\\begin{array}{cccccccccccccccc}\\frac{p_{1} q_{1} \\left(p_{1} q_{2} - p_{2} q_{2} + p_{2}\\right) \\left(p_{2} q_{1} - p_{2} q_{2} + q_{2}\\right)}{\\left(p_{1} q_{1} - p_{1} q_{2} - p_{2} q_{1} + p_{2} q_{2} - 1\\right)^{2}} & - \\frac{p_{1} \\left(q_{1} - 1\\right) \\left(p_{1} q_{2} - p_{2} q_{2} + p_{2}\\right) \\left(p_{2} q_{1} - p_{2} q_{2} + q_{2}\\right)}{\\left(p_{1} q_{1} - p_{1} q_{2} - p_{2} q_{1} + p_{2} q_{2} - 1\\right)^{2}} & - \\frac{q_{1} \\left(p_{1} - 1\\right) \\left(p_{1} q_{2} - p_{2} q_{2} + p_{2}\\right) \\left(p_{2} q_{1} - p_{2} q_{2} + q_{2}\\right)}{\\left(p_{1} q_{1} - p_{1} q_{2} - p_{2} q_{1} + p_{2} q_{2} - 1\\right)^{2}} & \\frac{\\left(p_{1} - 1\\right) \\left(q_{1} - 1\\right) \\left(p_{1} q_{2} - p_{2} q_{2} + p_{2}\\right) \\left(p_{2} q_{1} - p_{2} q_{2} + q_{2}\\right)}{\\left(p_{1} q_{1} - p_{1} q_{2} - p_{2} q_{1} + p_{2} q_{2} - 1\\right)^{2}} & - \\frac{p_{2} q_{1} \\left(p_{1} q_{2} - p_{2} q_{2} + p_{2}\\right) \\left(p_{1} q_{1} - p_{1} q_{2} + q_{2} - 1\\right)}{\\left(p_{1} q_{1} - p_{1} q_{2} - p_{2} q_{1} + p_{2} q_{2} - 1\\right)^{2}} & \\frac{p_{2} \\left(q_{1} - 1\\right) \\left(p_{1} q_{2} - p_{2} q_{2} + p_{2}\\right) \\left(p_{1} q_{1} - p_{1} q_{2} + q_{2} - 1\\right)}{\\left(p_{1} q_{1} - p_{1} q_{2} - p_{2} q_{1} + p_{2} q_{2} - 1\\right)^{2}} & \\frac{q_{1} \\left(p_{2} - 1\\right) \\left(p_{1} q_{2} - p_{2} q_{2} + p_{2}\\right) \\left(p_{1} q_{1} - p_{1} q_{2} + q_{2} - 1\\right)}{\\left(p_{1} q_{1} - p_{1} q_{2} - p_{2} q_{1} + p_{2} q_{2} - 1\\right)^{2}} & - \\frac{\\left(p_{2} - 1\\right) \\left(q_{1} - 1\\right) \\left(p_{1} q_{2} - p_{2} q_{2} + p_{2}\\right) \\left(p_{1} q_{1} - p_{1} q_{2} + q_{2} - 1\\right)}{\\left(p_{1} q_{1} - p_{1} q_{2} - p_{2} q_{1} + p_{2} q_{2} - 1\\right)^{2}} & - \\frac{p_{1} q_{2} \\left(p_{2} q_{1} - p_{2} q_{2} + q_{2}\\right) \\left(p_{1} q_{1} - p_{2} q_{1} + p_{2} - 1\\right)}{\\left(p_{1} q_{1} - p_{1} q_{2} - p_{2} q_{1} + p_{2} q_{2} - 1\\right)^{2}} & \\frac{p_{1} \\left(q_{2} - 1\\right) \\left(p_{2} q_{1} - p_{2} q_{2} + q_{2}\\right) \\left(p_{1} q_{1} - p_{2} q_{1} + p_{2} - 1\\right)}{\\left(p_{1} q_{1} - p_{1} q_{2} - p_{2} q_{1} + p_{2} q_{2} - 1\\right)^{2}} & \\frac{q_{2} \\left(p_{1} - 1\\right) \\left(p_{2} q_{1} - p_{2} q_{2} + q_{2}\\right) \\left(p_{1} q_{1} - p_{2} q_{1} + p_{2} - 1\\right)}{\\left(p_{1} q_{1} - p_{1} q_{2} - p_{2} q_{1} + p_{2} q_{2} - 1\\right)^{2}} & - \\frac{\\left(p_{1} - 1\\right) \\left(q_{2} - 1\\right) \\left(p_{2} q_{1} - p_{2} q_{2} + q_{2}\\right) \\left(p_{1} q_{1} - p_{2} q_{1} + p_{2} - 1\\right)}{\\left(p_{1} q_{1} - p_{1} q_{2} - p_{2} q_{1} + p_{2} q_{2} - 1\\right)^{2}} & \\frac{p_{2} q_{2} \\left(p_{1} q_{1} - p_{1} q_{2} + q_{2} - 1\\right) \\left(p_{1} q_{1} - p_{2} q_{1} + p_{2} - 1\\right)}{\\left(p_{1} q_{1} - p_{1} q_{2} - p_{2} q_{1} + p_{2} q_{2} - 1\\right)^{2}} & - \\frac{p_{2} \\left(q_{2} - 1\\right) \\left(p_{1} q_{1} - p_{1} q_{2} + q_{2} - 1\\right) \\left(p_{1} q_{1} - p_{2} q_{1} + p_{2} - 1\\right)}{\\left(p_{1} q_{1} - p_{1} q_{2} - p_{2} q_{1} + p_{2} q_{2} - 1\\right)^{2}} & - \\frac{q_{2} \\left(p_{2} - 1\\right) \\left(p_{1} q_{1} - p_{1} q_{2} + q_{2} - 1\\right) \\left(p_{1} q_{1} - p_{2} q_{1} + p_{2} - 1\\right)}{\\left(p_{1} q_{1} - p_{1} q_{2} - p_{2} q_{1} + p_{2} q_{2} - 1\\right)^{2}} & \\frac{\\left(p_{2} - 1\\right) \\left(q_{2} - 1\\right) \\left(p_{1} q_{1} - p_{1} q_{2} + q_{2} - 1\\right) \\left(p_{1} q_{1} - p_{2} q_{1} + p_{2} - 1\\right)}{\\left(p_{1} q_{1} - p_{1} q_{2} - p_{2} q_{1} + p_{2} q_{2} - 1\\right)^{2}}\\end{array}\\right]$"
      ],
      "text/plain": [
       "Matrix([[p_1*q_1*(p_1*q_2 - p_2*q_2 + p_2)*(p_2*q_1 - p_2*q_2 + q_2)/(p_1*q_1 - p_1*q_2 - p_2*q_1 + p_2*q_2 - 1)**2, -p_1*(q_1 - 1)*(p_1*q_2 - p_2*q_2 + p_2)*(p_2*q_1 - p_2*q_2 + q_2)/(p_1*q_1 - p_1*q_2 - p_2*q_1 + p_2*q_2 - 1)**2, -q_1*(p_1 - 1)*(p_1*q_2 - p_2*q_2 + p_2)*(p_2*q_1 - p_2*q_2 + q_2)/(p_1*q_1 - p_1*q_2 - p_2*q_1 + p_2*q_2 - 1)**2, (p_1 - 1)*(q_1 - 1)*(p_1*q_2 - p_2*q_2 + p_2)*(p_2*q_1 - p_2*q_2 + q_2)/(p_1*q_1 - p_1*q_2 - p_2*q_1 + p_2*q_2 - 1)**2, -p_2*q_1*(p_1*q_2 - p_2*q_2 + p_2)*(p_1*q_1 - p_1*q_2 + q_2 - 1)/(p_1*q_1 - p_1*q_2 - p_2*q_1 + p_2*q_2 - 1)**2, p_2*(q_1 - 1)*(p_1*q_2 - p_2*q_2 + p_2)*(p_1*q_1 - p_1*q_2 + q_2 - 1)/(p_1*q_1 - p_1*q_2 - p_2*q_1 + p_2*q_2 - 1)**2, q_1*(p_2 - 1)*(p_1*q_2 - p_2*q_2 + p_2)*(p_1*q_1 - p_1*q_2 + q_2 - 1)/(p_1*q_1 - p_1*q_2 - p_2*q_1 + p_2*q_2 - 1)**2, -(p_2 - 1)*(q_1 - 1)*(p_1*q_2 - p_2*q_2 + p_2)*(p_1*q_1 - p_1*q_2 + q_2 - 1)/(p_1*q_1 - p_1*q_2 - p_2*q_1 + p_2*q_2 - 1)**2, -p_1*q_2*(p_2*q_1 - p_2*q_2 + q_2)*(p_1*q_1 - p_2*q_1 + p_2 - 1)/(p_1*q_1 - p_1*q_2 - p_2*q_1 + p_2*q_2 - 1)**2, p_1*(q_2 - 1)*(p_2*q_1 - p_2*q_2 + q_2)*(p_1*q_1 - p_2*q_1 + p_2 - 1)/(p_1*q_1 - p_1*q_2 - p_2*q_1 + p_2*q_2 - 1)**2, q_2*(p_1 - 1)*(p_2*q_1 - p_2*q_2 + q_2)*(p_1*q_1 - p_2*q_1 + p_2 - 1)/(p_1*q_1 - p_1*q_2 - p_2*q_1 + p_2*q_2 - 1)**2, -(p_1 - 1)*(q_2 - 1)*(p_2*q_1 - p_2*q_2 + q_2)*(p_1*q_1 - p_2*q_1 + p_2 - 1)/(p_1*q_1 - p_1*q_2 - p_2*q_1 + p_2*q_2 - 1)**2, p_2*q_2*(p_1*q_1 - p_1*q_2 + q_2 - 1)*(p_1*q_1 - p_2*q_1 + p_2 - 1)/(p_1*q_1 - p_1*q_2 - p_2*q_1 + p_2*q_2 - 1)**2, -p_2*(q_2 - 1)*(p_1*q_1 - p_1*q_2 + q_2 - 1)*(p_1*q_1 - p_2*q_1 + p_2 - 1)/(p_1*q_1 - p_1*q_2 - p_2*q_1 + p_2*q_2 - 1)**2, -q_2*(p_2 - 1)*(p_1*q_1 - p_1*q_2 + q_2 - 1)*(p_1*q_1 - p_2*q_1 + p_2 - 1)/(p_1*q_1 - p_1*q_2 - p_2*q_1 + p_2*q_2 - 1)**2, (p_2 - 1)*(q_2 - 1)*(p_1*q_1 - p_1*q_2 + q_2 - 1)*(p_1*q_1 - p_2*q_1 + p_2 - 1)/(p_1*q_1 - p_1*q_2 - p_2*q_1 + p_2*q_2 - 1)**2]])"
      ]
     },
     "execution_count": 16,
     "metadata": {},
     "output_type": "execute_result"
    }
   ],
   "source": [
    "ss"
   ]
  },
  {
   "cell_type": "code",
   "execution_count": 17,
   "metadata": {},
   "outputs": [],
   "source": [
    "cc = ss_one[0]\n",
    "cd = ss_one[1]\n",
    "\n",
    "expr_cc = ss[0] + ss[4] + ss[8] + ss[12]\n",
    "expr_cd = ss[1] + ss[5] + ss[9] + ss[13]"
   ]
  },
  {
   "cell_type": "code",
   "execution_count": 22,
   "metadata": {},
   "outputs": [
    {
     "data": {
      "text/latex": [
       "$\\displaystyle 0$"
      ],
      "text/plain": [
       "0"
      ]
     },
     "execution_count": 22,
     "metadata": {},
     "output_type": "execute_result"
    }
   ],
   "source": [
    "cc - expr_cc.factor()"
   ]
  },
  {
   "cell_type": "code",
   "execution_count": 23,
   "metadata": {},
   "outputs": [
    {
     "data": {
      "text/latex": [
       "$\\displaystyle 0$"
      ],
      "text/plain": [
       "0"
      ]
     },
     "execution_count": 23,
     "metadata": {},
     "output_type": "execute_result"
    }
   ],
   "source": [
    "cd - expr_cd.factor()"
   ]
  },
  {
   "cell_type": "code",
   "execution_count": 31,
   "metadata": {},
   "outputs": [
    {
     "data": {
      "text/latex": [
       "$\\displaystyle \\frac{p_{1} q_{1} \\left(p_{1} q_{2} - p_{2} q_{2} + p_{2}\\right) \\left(p_{2} q_{1} - p_{2} q_{2} + q_{2}\\right)}{\\left(p_{1} q_{1} - p_{1} q_{2} - p_{2} q_{1} + p_{2} q_{2} - 1\\right)^{2}}$"
      ],
      "text/plain": [
       "p_1*q_1*(p_1*q_2 - p_2*q_2 + p_2)*(p_2*q_1 - p_2*q_2 + q_2)/(p_1*q_1 - p_1*q_2 - p_2*q_1 + p_2*q_2 - 1)**2"
      ]
     },
     "execution_count": 31,
     "metadata": {},
     "output_type": "execute_result"
    }
   ],
   "source": [
    "ss[0]"
   ]
  },
  {
   "cell_type": "code",
   "execution_count": null,
   "metadata": {},
   "outputs": [],
   "source": []
  }
 ],
 "metadata": {
  "kernelspec": {
   "display_name": "Python 3",
   "language": "python",
   "name": "python3"
  },
  "language_info": {
   "codemirror_mode": {
    "name": "ipython",
    "version": 3
   },
   "file_extension": ".py",
   "mimetype": "text/x-python",
   "name": "python",
   "nbconvert_exporter": "python",
   "pygments_lexer": "ipython3",
   "version": "3.8.3"
  }
 },
 "nbformat": 4,
 "nbformat_minor": 4
}
