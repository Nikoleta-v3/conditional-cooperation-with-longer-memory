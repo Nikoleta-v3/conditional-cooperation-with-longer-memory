{
 "cells": [
  {
   "cell_type": "code",
   "execution_count": 1,
   "metadata": {},
   "outputs": [],
   "source": [
    "import os\n",
    "\n",
    "from importlib.machinery import SourceFileLoader\n",
    "\n",
    "os.chdir('../')\n",
    "\n",
    "main = SourceFileLoader(\"main\", \"src/main.py\").load_module()\n",
    "\n",
    "from main import *"
   ]
  },
  {
   "cell_type": "code",
   "execution_count": 2,
   "metadata": {},
   "outputs": [],
   "source": [
    "eq = SourceFileLoader(\"eq\", \"src/numerical_equilibria_n_bit_vs_n_bit.py\").load_module()\n",
    "\n",
    "from eq import *"
   ]
  },
  {
   "cell_type": "code",
   "execution_count": 3,
   "metadata": {},
   "outputs": [],
   "source": [
    "import numpy as np\n",
    "\n",
    "import pandas as pd"
   ]
  },
  {
   "cell_type": "code",
   "execution_count": 4,
   "metadata": {},
   "outputs": [],
   "source": [
    "import matplotlib.pyplot as plt\n",
    "\n",
    "import matplotlib\n",
    "\n",
    "from mpl_toolkits.axes_grid1 import make_axes_locatable\n",
    "\n",
    "import matplotlib.colors as colors\n",
    "\n",
    "plt.rcParams[\"font.weight\"] = \"bold\"\n",
    "plt.rcParams[\"axes.labelweight\"] = \"bold\""
   ]
  },
  {
   "cell_type": "markdown",
   "metadata": {},
   "source": [
    "Initially we check that the transition matrix \\(M^2\\) is correct. We compare the payoff and cooperation for the\n",
    "case,"
   ]
  },
  {
   "cell_type": "markdown",
   "metadata": {},
   "source": [
    "**Payoffs**"
   ]
  },
  {
   "cell_type": "code",
   "execution_count": 13,
   "metadata": {},
   "outputs": [],
   "source": [
    "c = np.random.randint(0, 1)\n",
    "b = np.random.randint(1, 3)\n",
    "\n",
    "for _ in range(1000):\n",
    "\n",
    "    p1, p2, q1, q2 = np.random.random(4)\n",
    "\n",
    "    one_bit_M = transition_matrix_one_bit(p=[p1, p2], q=[q1, q2])\n",
    "\n",
    "    two_bit_M = transition_matrix(p=[p1, p2, p1, p2], q=[q1, q2, q1, q2], bits=4)\n",
    "\n",
    "    ss_one_bit = invariant_distribution(one_bit_M)\n",
    "    ss_two_bit = invariant_distribution(two_bit_M)\n",
    "\n",
    "    assert np.isclose(\n",
    "        ss_one_bit @ np.array([b - c, -c, b, 0]), ss_two_bit @ payoffs_vector(c, b)\n",
    "    )"
   ]
  },
  {
   "cell_type": "markdown",
   "metadata": {},
   "source": [
    "**Cooperation**"
   ]
  },
  {
   "cell_type": "code",
   "execution_count": 14,
   "metadata": {},
   "outputs": [],
   "source": [
    "c = np.random.randint(0, 1)\n",
    "b = np.random.randint(1, 3)\n",
    "\n",
    "for _ in range(1000):\n",
    "\n",
    "    p1, p2, q1, q2 = np.random.random(4)\n",
    "\n",
    "    one_bit_M = transition_matrix_one_bit(p=[p1, p2], q=[q1, q2])\n",
    "\n",
    "    two_bit_M = transition_matrix(p=[p1, p2, p1, p2], q=[q1, q2, q1, q2], bits=4)\n",
    "\n",
    "    ss_one_bit = invariant_distribution(one_bit_M)\n",
    "    ss_two_bit = invariant_distribution(two_bit_M)\n",
    "\n",
    "    assert np.isclose(\n",
    "        cooperation_rate(ss_one_bit, size=4), cooperation_rate(ss_two_bit, size=16)\n",
    "    )"
   ]
  },
  {
   "cell_type": "markdown",
   "metadata": {},
   "source": [
    "Secondly we check equations ... to ...., namely that:\n",
    "    \n",
    "$$\\sum_{i, j \\in \\{C, D\\}} u_{ij | CD} = \\sum_{i, j \\in \\{C, D\\}} u_{CD | ij}$$"
   ]
  },
  {
   "cell_type": "code",
   "execution_count": 15,
   "metadata": {},
   "outputs": [],
   "source": [
    "c = np.random.randint(0, 1)\n",
    "b = np.random.randint(1, 3)\n",
    "\n",
    "np.random.seed(1)\n",
    "\n",
    "for _ in range(1000):\n",
    "\n",
    "    p1, p2, p3, p4 = np.random.random(4)\n",
    "    q1, q2, q3, q4 = np.random.random(4)\n",
    "\n",
    "    M = transition_matrix(p=[p1, p2, p3, p4], q=[q1, q2, q3, q4], bits=4)\n",
    "\n",
    "    ss = invariant_distribution(M)\n",
    "    \n",
    "    assert np.isclose(\n",
    "        sum([ss[i] for i in np.arange(0, 13, 4)]), sum([ss[i] for i in range(4)])\n",
    "    )\n",
    "    assert np.isclose(\n",
    "    sum([ss[i] for i in np.arange(1, 14, 4)]), sum([ss[i] for i in range(4, 8)])\n",
    ")\n",
    "    assert np.isclose(\n",
    "    sum([ss[i] for i in np.arange(2, 15, 4)]), sum([ss[i] for i in range(8, 12)])\n",
    ")\n",
    "    assert np.isclose(\n",
    "    sum([ss[i] for i in np.arange(3, 16, 4)]), sum([ss[i] for i in range(12, 16)])\n",
    ")"
   ]
  },
  {
   "cell_type": "code",
   "execution_count": 26,
   "metadata": {},
   "outputs": [],
   "source": [
    "np.random.seed(1)\n",
    "\n",
    "coop_ind = list(np.arange(0, 16, 4)) + list(np.arange(1, 16, 4))\n",
    "\n",
    "def_ind = list(np.arange(2, 16, 4)) + list(np.arange(3, 16, 4))\n",
    "\n",
    "for _ in range(200):\n",
    "    ps = np.random.random(4)\n",
    "    qs = np.random.random(4)\n",
    "    \n",
    "    pis = np.array([ps[0], ps[1], ps[0], ps[1], ps[2], ps[3], ps[2], ps[3], ps[0], ps[1], ps[0], ps[1], ps[2], ps[3], ps[2], ps[3]])\n",
    "    qis = np.array([qs[0], qs[1], qs[0], qs[1], qs[2], qs[3], qs[2], qs[3], qs[0], qs[1], qs[0], qs[1], qs[2], qs[3], qs[2], qs[3]])\n",
    "    \n",
    "    M = calculate_M_memory_two(pis, qis)\n",
    "    \n",
    "    ss = invariant_distribution(M)\n",
    "    \n",
    "    assert np.isclose(sum([(1 - pis[i]) * ss[i] for i in coop_ind]) -\n",
    "                      sum([(pis[i]) * ss[i] for i in def_ind]), 0)"
   ]
  },
  {
   "cell_type": "code",
   "execution_count": 37,
   "metadata": {},
   "outputs": [],
   "source": [
    "ss = sym.symbols(f\"v_1:{17}\")\n",
    "\n",
    "pis = sym.symbols(f\"p_1:{17}\")"
   ]
  },
  {
   "cell_type": "code",
   "execution_count": 38,
   "metadata": {},
   "outputs": [
    {
     "data": {
      "text/latex": [
       "$\\displaystyle \\left(1 - p_{1}\\right) \\left(v_{1} + v_{3}\\right) + \\left(1 - p_{2}\\right) \\left(v_{2} + v_{4}\\right) + \\left(1 - p_{3}\\right) \\left(v_{5} + v_{7}\\right) + \\left(1 - p_{4}\\right) \\left(v_{6} + v_{8}\\right)$"
      ],
      "text/plain": [
       "(1 - p_1)*(v_1 + v_3) + (1 - p_2)*(v_2 + v_4) + (1 - p_3)*(v_5 + v_7) + (1 - p_4)*(v_6 + v_8)"
      ]
     },
     "execution_count": 38,
     "metadata": {},
     "output_type": "execute_result"
    }
   ],
   "source": [
    "sum([(1 - pis[0]) * (ss[0] + ss[2]), (1 - pis[1]) * (ss[1] + ss[3]), (1 - pis[2]) * (ss[4] + ss[6]), (1 - pis[3]) * (ss[5] + ss[7])])"
   ]
  },
  {
   "cell_type": "code",
   "execution_count": 39,
   "metadata": {},
   "outputs": [
    {
     "data": {
      "text/latex": [
       "$\\displaystyle p_{1} \\left(v_{11} + v_{9}\\right) + p_{2} \\left(v_{10} + v_{12}\\right) + p_{3} \\left(v_{13} + v_{15}\\right) + p_{4} \\left(v_{14} + v_{16}\\right)$"
      ],
      "text/plain": [
       "p_1*(v_11 + v_9) + p_2*(v_10 + v_12) + p_3*(v_13 + v_15) + p_4*(v_14 + v_16)"
      ]
     },
     "execution_count": 39,
     "metadata": {},
     "output_type": "execute_result"
    }
   ],
   "source": [
    "                      sum([pis[0] * (ss[8] + ss[10]), pis[1] * (ss[9] + ss[11]), pis[2] * (ss[12] + ss[14]), pis[3] * (ss[13] + ss[15])])"
   ]
  },
  {
   "cell_type": "code",
   "execution_count": 43,
   "metadata": {},
   "outputs": [
    {
     "ename": "AssertionError",
     "evalue": "",
     "output_type": "error",
     "traceback": [
      "\u001b[0;31m---------------------------------------------------------------------------\u001b[0m",
      "\u001b[0;31mAssertionError\u001b[0m                            Traceback (most recent call last)",
      "\u001b[0;32m<ipython-input-43-ce6fc6569407>\u001b[0m in \u001b[0;36m<module>\u001b[0;34m\u001b[0m\n\u001b[1;32m     16\u001b[0m     \u001b[0mss\u001b[0m \u001b[0;34m=\u001b[0m \u001b[0minvariant_distribution\u001b[0m\u001b[0;34m(\u001b[0m\u001b[0mM\u001b[0m\u001b[0;34m)\u001b[0m\u001b[0;34m\u001b[0m\u001b[0;34m\u001b[0m\u001b[0m\n\u001b[1;32m     17\u001b[0m \u001b[0;34m\u001b[0m\u001b[0m\n\u001b[0;32m---> 18\u001b[0;31m     assert np.isclose(sum([(1 - pis[0]) * (ss[0] + ss[2]), (1 - pis[1]) * (ss[1] + ss[3]), (1 - pis[2]) * (ss[4] + ss[6]), (1 - pis[3]) * (ss[5] + ss[7])]) -\n\u001b[0m\u001b[1;32m     19\u001b[0m                       sum([pis[0] * (ss[8] + ss[10]), pis[1] * (ss[9] + ss[11]), pis[2] * (ss[12] + ss[14]), pis[3] * (ss[13] + ss[15])]), 0)\n",
      "\u001b[0;31mAssertionError\u001b[0m: "
     ]
    }
   ],
   "source": [
    "np.random.seed(1)\n",
    "\n",
    "coop_ind = list(np.arange(0, 16, 4)) + list(np.arange(1, 16, 4))\n",
    "\n",
    "def_ind = list(np.arange(2, 16, 4)) + list(np.arange(3, 16, 4))\n",
    "\n",
    "for _ in range(200):\n",
    "    ps = np.random.random(4)\n",
    "    qs = np.random.random(4)\n",
    "    \n",
    "    pis = np.array([ps[0], ps[1], ps[0], ps[1], ps[2], ps[3], ps[2], ps[3], ps[0], ps[1], ps[0], ps[1], ps[2], ps[3], ps[2], ps[3]])\n",
    "    qis = np.array([qs[0], qs[1], qs[0], qs[1], qs[2], qs[3], qs[2], qs[3], qs[0], qs[1], qs[0], qs[1], qs[2], qs[3], qs[2], qs[3]])\n",
    "    \n",
    "    M = calculate_M_memory_two(pis, qis)\n",
    "    \n",
    "    ss = invariant_distribution(M)\n",
    "    \n",
    "    assert np.isclose(sum([(1 - pis[0]) * (ss[0] + ss[2]), (1 - pis[1]) * (ss[1] + ss[3]), (1 - pis[2]) * (ss[4] + ss[6]), (1 - pis[3]) * (ss[5] + ss[7])]) -\n",
    "                      sum([pis[0] * (ss[8] + ss[10]), pis[1] * (ss[9] + ss[11]), pis[2] * (ss[12] + ss[14]), pis[3] * (ss[13] + ss[15])]), 0)"
   ]
  },
  {
   "cell_type": "code",
   "execution_count": 28,
   "metadata": {},
   "outputs": [
    {
     "data": {
      "text/plain": [
       "0.10947063552866593"
      ]
     },
     "execution_count": 28,
     "metadata": {},
     "output_type": "execute_result"
    }
   ],
   "source": [
    "sum([(1 - pis[0]) * (ss[0] + ss[2]), (1 - pis[1]) * (ss[1] + ss[3]), (1 - pis[2]) * (ss[4] + ss[6]), (1 - pis[3]) * (ss[5] + ss[7])])"
   ]
  },
  {
   "cell_type": "code",
   "execution_count": 29,
   "metadata": {},
   "outputs": [
    {
     "data": {
      "text/plain": [
       "0.4318221662056845"
      ]
     },
     "execution_count": 29,
     "metadata": {},
     "output_type": "execute_result"
    }
   ],
   "source": [
    "sum([pis[0] * (ss[8] + ss[10]), pis[1] * (ss[9] + ss[11]), pis[2] * (ss[12] + ss[14]), pis[3] * (ss[13] + ss[15])])"
   ]
  },
  {
   "cell_type": "markdown",
   "metadata": {},
   "source": [
    "**Checking Against ALLD and Alternator**"
   ]
  },
  {
   "cell_type": "code",
   "execution_count": 6,
   "metadata": {},
   "outputs": [],
   "source": [
    "import sympy as sym\n",
    "\n",
    "import numpy as np"
   ]
  },
  {
   "cell_type": "code",
   "execution_count": 7,
   "metadata": {},
   "outputs": [],
   "source": [
    "pis = sym.symbols(f\"p_1:{17}\")\n",
    "\n",
    "ss = sym.symbols(f\"v_1:{17}\")"
   ]
  },
  {
   "cell_type": "code",
   "execution_count": 17,
   "metadata": {},
   "outputs": [],
   "source": [
    "b, c = sym.symbols(\"b, c\")"
   ]
  },
  {
   "cell_type": "code",
   "execution_count": 23,
   "metadata": {},
   "outputs": [],
   "source": [
    "player = [pis[0], pis[1], pis[0], pis[1],\n",
    "          pis[2], pis[3], pis[2], pis[3],\n",
    "          pis[0], pis[1], pis[0], pis[1],\n",
    "          pis[2], pis[3], pis[2], pis[3]]"
   ]
  },
  {
   "cell_type": "code",
   "execution_count": 38,
   "metadata": {},
   "outputs": [],
   "source": [
    "M = calculate_M_memory_two(player, [0 for _ in range(16)], analytical=True)"
   ]
  },
  {
   "cell_type": "code",
   "execution_count": 39,
   "metadata": {},
   "outputs": [],
   "source": [
    "ss = invariant_distribution_analytically(M)"
   ]
  },
  {
   "cell_type": "code",
   "execution_count": 40,
   "metadata": {},
   "outputs": [
    {
     "data": {
      "text/latex": [
       "$\\displaystyle \\left[\\begin{array}{cccccccccccccccc}0 & 0 & 0 & 0 & 0 & 1 & 0 & 0 & 0 & 0 & 0 & 0 & 0 & 0 & 0 & 0\\end{array}\\right]$"
      ],
      "text/plain": [
       "Matrix([[0, 0, 0, 0, 0, 1, 0, 0, 0, 0, 0, 0, 0, 0, 0, 0]])"
      ]
     },
     "execution_count": 40,
     "metadata": {},
     "output_type": "execute_result"
    }
   ],
   "source": [
    "ss.subs({pis[3]: 1})"
   ]
  },
  {
   "cell_type": "code",
   "execution_count": 42,
   "metadata": {},
   "outputs": [],
   "source": [
    "Alternator = [0,0,1,1,0,0,1,1,0,0,1,1,0,0,1,1]"
   ]
  },
  {
   "cell_type": "code",
   "execution_count": 43,
   "metadata": {},
   "outputs": [],
   "source": [
    "M = calculate_M_memory_two(player, Alternator, analytical=True)"
   ]
  },
  {
   "cell_type": "code",
   "execution_count": 44,
   "metadata": {},
   "outputs": [],
   "source": [
    "ss = invariant_distribution_analytically(M)"
   ]
  },
  {
   "cell_type": "code",
   "execution_count": 50,
   "metadata": {},
   "outputs": [
    {
     "data": {
      "text/latex": [
       "$\\displaystyle \\left[\\begin{array}{cccccccccccccccc}0 & \\frac{1}{2} & 0 & 0 & \\frac{1}{2} & 0 & 0 & 0 & 0 & 0 & 0 & 0 & 0 & 0 & 0 & 0\\end{array}\\right]$"
      ],
      "text/plain": [
       "Matrix([[0, 1/2, 0, 0, 1/2, 0, 0, 0, 0, 0, 0, 0, 0, 0, 0, 0]])"
      ]
     },
     "execution_count": 50,
     "metadata": {},
     "output_type": "execute_result"
    }
   ],
   "source": [
    "ss.subs({pis[2]: 1, pis[1]: 1})"
   ]
  },
  {
   "cell_type": "code",
   "execution_count": 52,
   "metadata": {},
   "outputs": [
    {
     "data": {
      "text/latex": [
       "$\\displaystyle \\left[\\begin{matrix}\\frac{b}{2} - c\\end{matrix}\\right]$"
      ],
      "text/plain": [
       "Matrix([[b/2 - c]])"
      ]
     },
     "execution_count": 52,
     "metadata": {},
     "output_type": "execute_result"
    }
   ],
   "source": [
    "ss.subs({pis[2]: 1, pis[1]: 1}) @ sym.Matrix([b - c, -c, b, 0] * 4)"
   ]
  },
  {
   "cell_type": "markdown",
   "metadata": {},
   "source": [
    "**Printing conditions.**"
   ]
  },
  {
   "cell_type": "code",
   "execution_count": 5,
   "metadata": {},
   "outputs": [],
   "source": []
  },
  {
   "cell_type": "code",
   "execution_count": 6,
   "metadata": {},
   "outputs": [],
   "source": []
  },
  {
   "cell_type": "code",
   "execution_count": 7,
   "metadata": {},
   "outputs": [],
   "source": [
    "coop_ind = list(np.arange(0, 16, 4)) + list(np.arange(1, 16, 4))\n",
    "def_ind = list(np.arange(2, 16, 4)) + list(np.arange(3, 16, 4))"
   ]
  },
  {
   "cell_type": "code",
   "execution_count": 8,
   "metadata": {},
   "outputs": [],
   "source": [
    "sym.init_printing(False)"
   ]
  },
  {
   "cell_type": "code",
   "execution_count": 9,
   "metadata": {},
   "outputs": [
    {
     "data": {
      "text/plain": [
       "-p_11*v_11 - p_12*v_12 - p_15*v_15 - p_16*v_16 - p_3*v_3 - p_4*v_4 - p_7*v_7 - p_8*v_8 + v_1*(1 - p_1) + v_10*(1 - p_10) + v_13*(1 - p_13) + v_14*(1 - p_14) + v_2*(1 - p_2) + v_5*(1 - p_5) + v_6*(1 - p_6) + v_9*(1 - p_9)"
      ]
     },
     "execution_count": 9,
     "metadata": {},
     "output_type": "execute_result"
    }
   ],
   "source": [
    "sum([(1 - pis[i]) * ss[i] for i in coop_ind]) - sum([(pis[i]) * ss[i] for i in def_ind])"
   ]
  },
  {
   "cell_type": "code",
   "execution_count": 10,
   "metadata": {},
   "outputs": [
    {
     "data": {
      "text/plain": [
       "p_11*v_11 + p_12*v_12 + p_15*v_15 + p_16*v_16 + p_3*v_3 + p_4*v_4 + p_7*v_7 + p_8*v_8"
      ]
     },
     "execution_count": 10,
     "metadata": {},
     "output_type": "execute_result"
    }
   ],
   "source": [
    "sum([(pis[i]) * ss[i] for i in def_ind])"
   ]
  },
  {
   "cell_type": "code",
   "execution_count": 11,
   "metadata": {},
   "outputs": [],
   "source": [
    "player = [1, pis[1], 1, pis[1], pis[2], 1, pis[2], 1, 1, pis[1], 1, pis[1], pis[2], 1, pis[2], 1]"
   ]
  },
  {
   "cell_type": "code",
   "execution_count": 12,
   "metadata": {},
   "outputs": [],
   "source": [
    "alld = [0 for _ in range(16)]"
   ]
  },
  {
   "cell_type": "code",
   "execution_count": 13,
   "metadata": {},
   "outputs": [],
   "source": [
    "M = calculate_M_memory_two(player, alld, analytical=True)"
   ]
  },
  {
   "cell_type": "code",
   "execution_count": 14,
   "metadata": {},
   "outputs": [
    {
     "data": {
      "text/plain": [
       "Matrix([[0, 0, 0, 0, 0, 1, 0, 0, 0, 0, 0, 0, 0, 0, 0, 0]])"
      ]
     },
     "execution_count": 14,
     "metadata": {},
     "output_type": "execute_result"
    }
   ],
   "source": [
    "invariant_distribution_analytically(M)"
   ]
  },
  {
   "cell_type": "code",
   "execution_count": 22,
   "metadata": {},
   "outputs": [],
   "source": [
    "player = list(pis)\n",
    "player[0] = 1\n",
    "player[5] = 1"
   ]
  },
  {
   "cell_type": "code",
   "execution_count": 23,
   "metadata": {},
   "outputs": [
    {
     "data": {
      "text/plain": [
       "[1, p_2, p_3, p_4, p_5, 1, p_7, p_8, p_9, p_10, p_11, p_12, p_13, p_14, p_15, p_16]"
      ]
     },
     "execution_count": 23,
     "metadata": {},
     "output_type": "execute_result"
    }
   ],
   "source": [
    "player"
   ]
  },
  {
   "cell_type": "code",
   "execution_count": 24,
   "metadata": {},
   "outputs": [],
   "source": [
    "M = calculate_M_memory_two(player, alld, analytical=True)"
   ]
  },
  {
   "cell_type": "code",
   "execution_count": 25,
   "metadata": {},
   "outputs": [
    {
     "data": {
      "text/plain": [
       "Matrix([[0, 0, 0, 0, 0, 1, 0, 0, 0, 0, 0, 0, 0, 0, 0, 0]])"
      ]
     },
     "execution_count": 25,
     "metadata": {},
     "output_type": "execute_result"
    }
   ],
   "source": [
    "invariant_distribution_analytically(M)"
   ]
  },
  {
   "cell_type": "code",
   "execution_count": null,
   "metadata": {},
   "outputs": [],
   "source": []
  }
 ],
 "metadata": {
  "kernelspec": {
   "display_name": "Python 3",
   "language": "python",
   "name": "python3"
  },
  "language_info": {
   "codemirror_mode": {
    "name": "ipython",
    "version": 3
   },
   "file_extension": ".py",
   "mimetype": "text/x-python",
   "name": "python",
   "nbconvert_exporter": "python",
   "pygments_lexer": "ipython3",
   "version": "3.8.3"
  }
 },
 "nbformat": 4,
 "nbformat_minor": 4
}
