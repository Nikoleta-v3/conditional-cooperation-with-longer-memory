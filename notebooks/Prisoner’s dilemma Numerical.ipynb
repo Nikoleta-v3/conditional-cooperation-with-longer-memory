{
 "cells": [
  {
   "cell_type": "code",
   "execution_count": 1,
   "metadata": {},
   "outputs": [],
   "source": [
    "import numpy as np"
   ]
  },
  {
   "cell_type": "code",
   "execution_count": 2,
   "metadata": {},
   "outputs": [],
   "source": [
    "import pandas as pd\n",
    "\n",
    "from collections import Counter\n",
    "\n",
    "import itertools"
   ]
  },
  {
   "cell_type": "code",
   "execution_count": 3,
   "metadata": {},
   "outputs": [],
   "source": [
    "import sympy as sym"
   ]
  },
  {
   "cell_type": "code",
   "execution_count": 14,
   "metadata": {},
   "outputs": [],
   "source": [
    "import glob\n",
    "\n",
    "import tqdmb"
   ]
  },
  {
   "cell_type": "code",
   "execution_count": 88,
   "metadata": {},
   "outputs": [],
   "source": [
    "import repeated_play"
   ]
  },
  {
   "cell_type": "code",
   "execution_count": 22,
   "metadata": {},
   "outputs": [],
   "source": [
    "def seperate_equilibria_and_non(df):\n",
    "    per_player = df.groupby('ID')['condition B'].all()\n",
    "\n",
    "    eq_players_ID = per_player[per_player == True].index\n",
    "\n",
    "    noneq_players_ID = per_player[per_player == False].index\n",
    "    \n",
    "    return df[df['ID'].isin(eq_players_ID)], df[df['ID'].isin(noneq_players_ID)]"
   ]
  },
  {
   "cell_type": "code",
   "execution_count": 69,
   "metadata": {},
   "outputs": [],
   "source": [
    "deterministic_strategies = list(\n",
    "    itertools.product([0, 1], repeat=2 ** (2 * 2))\n",
    "    )"
   ]
  },
  {
   "cell_type": "markdown",
   "metadata": {},
   "source": [
    "### Numerical Nash for $n=2$ and $R = .6$, and $R=.3$"
   ]
  },
  {
   "cell_type": "code",
   "execution_count": 116,
   "metadata": {},
   "outputs": [],
   "source": [
    "files = glob.glob(\"../data/prisoners_dilemma_n_three/*csv\")"
   ]
  },
  {
   "cell_type": "code",
   "execution_count": 117,
   "metadata": {},
   "outputs": [],
   "source": [
    "columns = (\n",
    "    [\"\", \"ID\"]\n",
    "    + [f\"p{i+1}\" for i in range(16)]\n",
    "    + [\"label\", \"Sp\", \"Sq\", \"condition A\", \"condition B\", \"R\", \"P\"]\n",
    ")"
   ]
  },
  {
   "cell_type": "code",
   "execution_count": 118,
   "metadata": {},
   "outputs": [],
   "source": [
    "columns3 = [\"ID\"] + [f\"p{i+1}\" for i in range(8)] +  [\"label\", \"Sp\", \"Sq\", \"condition A\", \"condition B\", \"R\", \"P\"]"
   ]
  },
  {
   "cell_type": "code",
   "execution_count": 119,
   "metadata": {},
   "outputs": [
    {
     "name": "stderr",
     "output_type": "stream",
     "text": [
      "100%|██████████████████████████████████████████████████████████████████████████| 10000/10000 [00:31<00:00, 314.64it/s]\n"
     ]
    }
   ],
   "source": [
    "dfs = []\n",
    "\n",
    "for file in tqdm.tqdm(files):\n",
    "\n",
    "    dfs.append(pd.read_csv(file, index_col=0, names=columns3))"
   ]
  },
  {
   "cell_type": "code",
   "execution_count": 120,
   "metadata": {},
   "outputs": [],
   "source": [
    "df = pd.concat(dfs)"
   ]
  },
  {
   "cell_type": "code",
   "execution_count": 121,
   "metadata": {},
   "outputs": [
    {
     "data": {
      "text/html": [
       "<div>\n",
       "<style scoped>\n",
       "    .dataframe tbody tr th:only-of-type {\n",
       "        vertical-align: middle;\n",
       "    }\n",
       "\n",
       "    .dataframe tbody tr th {\n",
       "        vertical-align: top;\n",
       "    }\n",
       "\n",
       "    .dataframe thead th {\n",
       "        text-align: right;\n",
       "    }\n",
       "</style>\n",
       "<table border=\"1\" class=\"dataframe\">\n",
       "  <thead>\n",
       "    <tr style=\"text-align: right;\">\n",
       "      <th></th>\n",
       "      <th>ID</th>\n",
       "      <th>p1</th>\n",
       "      <th>p2</th>\n",
       "      <th>p3</th>\n",
       "      <th>p4</th>\n",
       "      <th>p5</th>\n",
       "      <th>p6</th>\n",
       "      <th>p7</th>\n",
       "      <th>p8</th>\n",
       "      <th>label</th>\n",
       "      <th>Sp</th>\n",
       "      <th>Sq</th>\n",
       "      <th>condition A</th>\n",
       "      <th>condition B</th>\n",
       "      <th>R</th>\n",
       "      <th>P</th>\n",
       "    </tr>\n",
       "  </thead>\n",
       "  <tbody>\n",
       "    <tr>\n",
       "      <th>0</th>\n",
       "      <td>3520</td>\n",
       "      <td>1</td>\n",
       "      <td>0.3843</td>\n",
       "      <td>0.12232</td>\n",
       "      <td>0.04912</td>\n",
       "      <td>0.96004</td>\n",
       "      <td>0.39895</td>\n",
       "      <td>0.46845</td>\n",
       "      <td>0.14888</td>\n",
       "      <td>N0</td>\n",
       "      <td>0.6</td>\n",
       "      <td>0.233992</td>\n",
       "      <td>True</td>\n",
       "      <td>True</td>\n",
       "      <td>0.6</td>\n",
       "      <td>0.1</td>\n",
       "    </tr>\n",
       "    <tr>\n",
       "      <th>1</th>\n",
       "      <td>3520</td>\n",
       "      <td>1</td>\n",
       "      <td>0.3843</td>\n",
       "      <td>0.12232</td>\n",
       "      <td>0.04912</td>\n",
       "      <td>0.96004</td>\n",
       "      <td>0.39895</td>\n",
       "      <td>0.46845</td>\n",
       "      <td>0.14888</td>\n",
       "      <td>N1</td>\n",
       "      <td>0.6</td>\n",
       "      <td>0.333161</td>\n",
       "      <td>True</td>\n",
       "      <td>True</td>\n",
       "      <td>0.6</td>\n",
       "      <td>0.1</td>\n",
       "    </tr>\n",
       "    <tr>\n",
       "      <th>2</th>\n",
       "      <td>3520</td>\n",
       "      <td>1</td>\n",
       "      <td>0.3843</td>\n",
       "      <td>0.12232</td>\n",
       "      <td>0.04912</td>\n",
       "      <td>0.96004</td>\n",
       "      <td>0.39895</td>\n",
       "      <td>0.46845</td>\n",
       "      <td>0.14888</td>\n",
       "      <td>N2</td>\n",
       "      <td>0.6</td>\n",
       "      <td>0.233992</td>\n",
       "      <td>True</td>\n",
       "      <td>True</td>\n",
       "      <td>0.6</td>\n",
       "      <td>0.1</td>\n",
       "    </tr>\n",
       "    <tr>\n",
       "      <th>3</th>\n",
       "      <td>3520</td>\n",
       "      <td>1</td>\n",
       "      <td>0.3843</td>\n",
       "      <td>0.12232</td>\n",
       "      <td>0.04912</td>\n",
       "      <td>0.96004</td>\n",
       "      <td>0.39895</td>\n",
       "      <td>0.46845</td>\n",
       "      <td>0.14888</td>\n",
       "      <td>N3</td>\n",
       "      <td>0.6</td>\n",
       "      <td>0.365147</td>\n",
       "      <td>True</td>\n",
       "      <td>True</td>\n",
       "      <td>0.6</td>\n",
       "      <td>0.1</td>\n",
       "    </tr>\n",
       "    <tr>\n",
       "      <th>4</th>\n",
       "      <td>3520</td>\n",
       "      <td>1</td>\n",
       "      <td>0.3843</td>\n",
       "      <td>0.12232</td>\n",
       "      <td>0.04912</td>\n",
       "      <td>0.96004</td>\n",
       "      <td>0.39895</td>\n",
       "      <td>0.46845</td>\n",
       "      <td>0.14888</td>\n",
       "      <td>N4</td>\n",
       "      <td>0.6</td>\n",
       "      <td>0.233992</td>\n",
       "      <td>True</td>\n",
       "      <td>True</td>\n",
       "      <td>0.6</td>\n",
       "      <td>0.1</td>\n",
       "    </tr>\n",
       "  </tbody>\n",
       "</table>\n",
       "</div>"
      ],
      "text/plain": [
       "     ID  p1      p2       p3       p4       p5       p6       p7       p8  \\\n",
       "0  3520   1  0.3843  0.12232  0.04912  0.96004  0.39895  0.46845  0.14888   \n",
       "1  3520   1  0.3843  0.12232  0.04912  0.96004  0.39895  0.46845  0.14888   \n",
       "2  3520   1  0.3843  0.12232  0.04912  0.96004  0.39895  0.46845  0.14888   \n",
       "3  3520   1  0.3843  0.12232  0.04912  0.96004  0.39895  0.46845  0.14888   \n",
       "4  3520   1  0.3843  0.12232  0.04912  0.96004  0.39895  0.46845  0.14888   \n",
       "\n",
       "  label   Sp        Sq  condition A  condition B    R    P  \n",
       "0    N0  0.6  0.233992         True         True  0.6  0.1  \n",
       "1    N1  0.6  0.333161         True         True  0.6  0.1  \n",
       "2    N2  0.6  0.233992         True         True  0.6  0.1  \n",
       "3    N3  0.6  0.365147         True         True  0.6  0.1  \n",
       "4    N4  0.6  0.233992         True         True  0.6  0.1  "
      ]
     },
     "execution_count": 121,
     "metadata": {},
     "output_type": "execute_result"
    }
   ],
   "source": [
    "df.head()"
   ]
  },
  {
   "cell_type": "code",
   "execution_count": 122,
   "metadata": {},
   "outputs": [],
   "source": [
    "eq, noneq = seperate_equilibria_and_non(df)"
   ]
  },
  {
   "cell_type": "code",
   "execution_count": 123,
   "metadata": {},
   "outputs": [
    {
     "data": {
      "text/plain": [
       "(3742, 6258)"
      ]
     },
     "execution_count": 123,
     "metadata": {},
     "output_type": "execute_result"
    }
   ],
   "source": [
    "eq['ID'].nunique(), noneq['ID'].nunique()"
   ]
  },
  {
   "cell_type": "markdown",
   "metadata": {},
   "source": [
    "#### The pure set of strategies we need to check "
   ]
  },
  {
   "cell_type": "code",
   "execution_count": 124,
   "metadata": {},
   "outputs": [],
   "source": [
    "groups = noneq[noneq['condition A'] == False].groupby('ID')"
   ]
  },
  {
   "cell_type": "code",
   "execution_count": 125,
   "metadata": {},
   "outputs": [],
   "source": [
    "sets, ids = [], []\n",
    "\n",
    "for i, group in groups:\n",
    "    sets.append(group['label'].values)\n",
    "    ids.append(group['ID'].unique())"
   ]
  },
  {
   "cell_type": "code",
   "execution_count": 175,
   "metadata": {},
   "outputs": [],
   "source": [
    "rest_sets = [s for s in sets if ('N0' not in s) and ('N3' not in s) and ('N57' not in s)\n",
    "             and ('N69' not in s) and ('N17' not in s) and ('N111' not in s) and ('N59' not in s)]"
   ]
  },
  {
   "cell_type": "code",
   "execution_count": 176,
   "metadata": {},
   "outputs": [],
   "source": [
    "flat_list = [item for sublist in rest_sets for item in sublist]\n",
    "\n",
    "counter = Counter(flat_list)"
   ]
  },
  {
   "cell_type": "code",
   "execution_count": 177,
   "metadata": {},
   "outputs": [
    {
     "data": {
      "text/plain": [
       "2"
      ]
     },
     "execution_count": 177,
     "metadata": {},
     "output_type": "execute_result"
    }
   ],
   "source": [
    "len(rest_sets)"
   ]
  },
  {
   "cell_type": "code",
   "execution_count": 178,
   "metadata": {},
   "outputs": [
    {
     "data": {
      "text/plain": [
       "1"
      ]
     },
     "execution_count": 178,
     "metadata": {},
     "output_type": "execute_result"
    }
   ],
   "source": [
    "max(counter.values())"
   ]
  },
  {
   "cell_type": "code",
   "execution_count": 179,
   "metadata": {},
   "outputs": [
    {
     "data": {
      "text/plain": [
       "Counter({'N1': 1,\n",
       "         'N9': 1,\n",
       "         'N16': 1,\n",
       "         'N24': 1,\n",
       "         'N129': 1,\n",
       "         'N137': 1,\n",
       "         'N144': 1,\n",
       "         'N152': 1,\n",
       "         'N43': 1,\n",
       "         'N58': 1})"
      ]
     },
     "execution_count": 179,
     "metadata": {},
     "output_type": "execute_result"
    }
   ],
   "source": [
    "counter"
   ]
  },
  {
   "cell_type": "code",
   "execution_count": 145,
   "metadata": {},
   "outputs": [
    {
     "data": {
      "text/plain": [
       "[array(['N57'], dtype=object),\n",
       " array(['N100', 'N101', 'N102', 'N103', 'N108', 'N109', 'N111', 'N116',\n",
       "        'N117', 'N118', 'N119', 'N124', 'N125', 'N126', 'N127'],\n",
       "       dtype=object),\n",
       " array(['N39', 'N47', 'N50', 'N54', 'N55', 'N58', 'N62', 'N63', 'N99',\n",
       "        'N101', 'N102', 'N103', 'N107', 'N108', 'N109', 'N110', 'N111',\n",
       "        'N114', 'N115', 'N116', 'N117', 'N118', 'N119', 'N122', 'N123',\n",
       "        'N124', 'N125', 'N126', 'N127'], dtype=object),\n",
       " array(['N101', 'N102', 'N103', 'N107', 'N108', 'N109', 'N110', 'N111',\n",
       "        'N114', 'N115', 'N116', 'N117', 'N118', 'N119', 'N121', 'N122',\n",
       "        'N123', 'N124', 'N125', 'N126', 'N127'], dtype=object),\n",
       " array(['N110', 'N111', 'N126', 'N127'], dtype=object),\n",
       " array(['N102', 'N103', 'N111', 'N115', 'N118', 'N119', 'N122', 'N123',\n",
       "        'N126', 'N127'], dtype=object),\n",
       " array(['N55', 'N63', 'N101', 'N102', 'N103', 'N108', 'N109', 'N110',\n",
       "        'N111', 'N115', 'N116', 'N117', 'N118', 'N119', 'N122', 'N123',\n",
       "        'N124', 'N125', 'N126', 'N127'], dtype=object),\n",
       " array(['N100', 'N101', 'N102', 'N103', 'N108', 'N109', 'N110', 'N111',\n",
       "        'N116', 'N117', 'N118', 'N119', 'N122', 'N124', 'N125', 'N126',\n",
       "        'N127'], dtype=object),\n",
       " array(['N110', 'N111', 'N126', 'N127'], dtype=object),\n",
       " array(['N101', 'N103', 'N108', 'N109', 'N111', 'N116', 'N117', 'N118',\n",
       "        'N119', 'N124', 'N125', 'N126', 'N127'], dtype=object),\n",
       " array(['N101', 'N102', 'N103', 'N108', 'N109', 'N111', 'N116', 'N117',\n",
       "        'N118', 'N119', 'N124', 'N125', 'N126', 'N127'], dtype=object),\n",
       " array(['N108', 'N109', 'N111', 'N124', 'N125', 'N126', 'N127'],\n",
       "       dtype=object),\n",
       " array(['N53', 'N54', 'N55', 'N60', 'N61', 'N62', 'N63', 'N71', 'N78',\n",
       "        'N79', 'N86', 'N87', 'N94', 'N95', 'N97', 'N99', 'N101', 'N102',\n",
       "        'N103', 'N105', 'N107', 'N108', 'N109', 'N111', 'N112', 'N113',\n",
       "        'N114', 'N115', 'N116', 'N117', 'N118', 'N119', 'N120', 'N121',\n",
       "        'N122', 'N123', 'N124', 'N125', 'N126', 'N127'], dtype=object),\n",
       " array(['N103', 'N111', 'N118', 'N119', 'N122', 'N123', 'N126', 'N127'],\n",
       "       dtype=object),\n",
       " array(['N102', 'N103', 'N110', 'N111', 'N118', 'N119', 'N126', 'N127'],\n",
       "       dtype=object),\n",
       " array(['N102', 'N103', 'N110', 'N111', 'N118', 'N119', 'N126', 'N127'],\n",
       "       dtype=object),\n",
       " array(['N102', 'N103', 'N110', 'N111', 'N118', 'N119', 'N126', 'N127'],\n",
       "       dtype=object),\n",
       " array(['N110', 'N111', 'N126', 'N127'], dtype=object),\n",
       " array(['N1', 'N3', 'N9', 'N11', 'N16', 'N24', 'N129', 'N137', 'N144',\n",
       "        'N152'], dtype=object),\n",
       " array(['N99', 'N102', 'N103', 'N107', 'N110', 'N111', 'N114', 'N115',\n",
       "        'N118', 'N119', 'N122', 'N123', 'N126', 'N127'], dtype=object),\n",
       " array(['N54', 'N55', 'N62', 'N63', 'N99', 'N101', 'N102', 'N103', 'N105',\n",
       "        'N107', 'N108', 'N109', 'N110', 'N111', 'N112', 'N113', 'N114',\n",
       "        'N115', 'N116', 'N117', 'N118', 'N119', 'N120', 'N121', 'N122',\n",
       "        'N123', 'N124', 'N125', 'N126', 'N127'], dtype=object),\n",
       " array(['N99', 'N101', 'N102', 'N103', 'N107', 'N108', 'N109', 'N110',\n",
       "        'N111', 'N114', 'N115', 'N116', 'N117', 'N118', 'N119', 'N122',\n",
       "        'N123', 'N124', 'N125', 'N126', 'N127'], dtype=object),\n",
       " array(['N100', 'N101', 'N102', 'N103', 'N108', 'N109', 'N111', 'N116',\n",
       "        'N117', 'N118', 'N119', 'N124', 'N125', 'N126', 'N127'],\n",
       "       dtype=object),\n",
       " array(['N101', 'N102', 'N103', 'N108', 'N109', 'N110', 'N111', 'N116',\n",
       "        'N117', 'N118', 'N119', 'N122', 'N123', 'N124', 'N125', 'N126',\n",
       "        'N127'], dtype=object),\n",
       " array(['N55', 'N63', 'N71', 'N78', 'N79', 'N86', 'N87', 'N94', 'N95',\n",
       "        'N97', 'N99', 'N101', 'N102', 'N103', 'N107', 'N108', 'N109',\n",
       "        'N110', 'N111', 'N112', 'N113', 'N114', 'N115', 'N116', 'N117',\n",
       "        'N118', 'N119', 'N120', 'N121', 'N122', 'N123', 'N124', 'N125',\n",
       "        'N126', 'N127'], dtype=object),\n",
       " array(['N102', 'N103', 'N108', 'N109', 'N111', 'N118', 'N119', 'N124',\n",
       "        'N125', 'N126', 'N127'], dtype=object),\n",
       " array(['N102', 'N103', 'N110', 'N111', 'N118', 'N119', 'N126', 'N127'],\n",
       "       dtype=object),\n",
       " array(['N55', 'N63', 'N101', 'N102', 'N103', 'N108', 'N109', 'N111',\n",
       "        'N113', 'N114', 'N115', 'N116', 'N117', 'N118', 'N119', 'N121',\n",
       "        'N122', 'N123', 'N124', 'N125', 'N126', 'N127'], dtype=object),\n",
       " array(['N102', 'N103', 'N110', 'N111', 'N118', 'N119', 'N126', 'N127'],\n",
       "       dtype=object),\n",
       " array(['N63', 'N71', 'N78', 'N79', 'N86', 'N87', 'N94', 'N95', 'N99',\n",
       "        'N101', 'N102', 'N103', 'N107', 'N108', 'N109', 'N110', 'N111',\n",
       "        'N112', 'N113', 'N114', 'N115', 'N116', 'N117', 'N118', 'N119',\n",
       "        'N120', 'N121', 'N122', 'N123', 'N124', 'N125', 'N126', 'N127'],\n",
       "       dtype=object),\n",
       " array(['N71', 'N78', 'N79', 'N86', 'N87', 'N94', 'N95', 'N100', 'N101',\n",
       "        'N102', 'N103', 'N108', 'N109', 'N111', 'N116', 'N117', 'N118',\n",
       "        'N119', 'N124', 'N125', 'N126', 'N127'], dtype=object),\n",
       " array(['N55', 'N63', 'N101', 'N102', 'N103', 'N107', 'N108', 'N109',\n",
       "        'N110', 'N111', 'N114', 'N115', 'N116', 'N117', 'N118', 'N119',\n",
       "        'N121', 'N122', 'N123', 'N124', 'N125', 'N126', 'N127'],\n",
       "       dtype=object),\n",
       " array(['N100', 'N101', 'N102', 'N103', 'N108', 'N109', 'N111', 'N116',\n",
       "        'N117', 'N118', 'N119', 'N124', 'N125', 'N126', 'N127'],\n",
       "       dtype=object),\n",
       " array(['N1', 'N9', 'N16', 'N24', 'N129', 'N137', 'N144', 'N152'],\n",
       "       dtype=object),\n",
       " array(['N103', 'N110', 'N111', 'N118', 'N119', 'N126', 'N127'],\n",
       "       dtype=object),\n",
       " array(['N101', 'N102', 'N103', 'N108', 'N109', 'N110', 'N111', 'N116',\n",
       "        'N117', 'N118', 'N119', 'N124', 'N125', 'N126', 'N127'],\n",
       "       dtype=object),\n",
       " array(['N110', 'N111', 'N126', 'N127'], dtype=object),\n",
       " array(['N71', 'N78', 'N79', 'N86', 'N87', 'N94', 'N95', 'N101', 'N102',\n",
       "        'N103', 'N108', 'N109', 'N110', 'N111', 'N116', 'N117', 'N118',\n",
       "        'N119', 'N124', 'N125', 'N126', 'N127'], dtype=object),\n",
       " array(['N99', 'N101', 'N102', 'N103', 'N107', 'N108', 'N109', 'N110',\n",
       "        'N111', 'N114', 'N115', 'N116', 'N117', 'N118', 'N119', 'N122',\n",
       "        'N123', 'N124', 'N125', 'N126', 'N127'], dtype=object),\n",
       " array(['N43', 'N58'], dtype=object),\n",
       " array(['N99', 'N101', 'N102', 'N103', 'N107', 'N108', 'N109', 'N110',\n",
       "        'N111', 'N114', 'N115', 'N116', 'N117', 'N118', 'N119', 'N122',\n",
       "        'N123', 'N124', 'N125', 'N126', 'N127'], dtype=object),\n",
       " array(['N102', 'N103', 'N110', 'N111', 'N118', 'N119', 'N126', 'N127'],\n",
       "       dtype=object),\n",
       " array(['N102', 'N103', 'N110', 'N111', 'N118', 'N119', 'N126', 'N127'],\n",
       "       dtype=object),\n",
       " array(['N99', 'N103', 'N107', 'N110', 'N111', 'N114', 'N115', 'N118',\n",
       "        'N119', 'N122', 'N123', 'N126', 'N127'], dtype=object),\n",
       " array(['N103', 'N111', 'N114', 'N115', 'N118', 'N119', 'N122', 'N123',\n",
       "        'N126', 'N127'], dtype=object),\n",
       " array(['N102', 'N103', 'N108', 'N109', 'N110', 'N111', 'N118', 'N119',\n",
       "        'N124', 'N125', 'N126', 'N127'], dtype=object),\n",
       " array(['N102', 'N103', 'N110', 'N111', 'N118', 'N119', 'N126', 'N127'],\n",
       "       dtype=object),\n",
       " array(['N71', 'N78', 'N79', 'N86', 'N87', 'N94', 'N95', 'N101', 'N102',\n",
       "        'N103', 'N108', 'N109', 'N110', 'N111', 'N115', 'N116', 'N117',\n",
       "        'N118', 'N119', 'N121', 'N122', 'N123', 'N124', 'N125', 'N126',\n",
       "        'N127'], dtype=object),\n",
       " array(['N54', 'N55', 'N62', 'N63', 'N71', 'N78', 'N79', 'N86', 'N87',\n",
       "        'N94', 'N95', 'N99', 'N100', 'N101', 'N102', 'N103', 'N105',\n",
       "        'N107', 'N108', 'N109', 'N111', 'N114', 'N115', 'N116', 'N117',\n",
       "        'N118', 'N119', 'N121', 'N122', 'N123', 'N124', 'N125', 'N126',\n",
       "        'N127'], dtype=object),\n",
       " array(['N102', 'N103', 'N111', 'N118', 'N119', 'N126', 'N127'],\n",
       "       dtype=object),\n",
       " array(['N102', 'N103', 'N111', 'N118', 'N119', 'N126', 'N127'],\n",
       "       dtype=object),\n",
       " array(['N101', 'N102', 'N103', 'N108', 'N109', 'N111', 'N116', 'N117',\n",
       "        'N118', 'N119', 'N124', 'N125', 'N126', 'N127'], dtype=object),\n",
       " array(['N63', 'N101', 'N102', 'N103', 'N108', 'N109', 'N110', 'N111',\n",
       "        'N114', 'N115', 'N116', 'N117', 'N118', 'N119', 'N122', 'N123',\n",
       "        'N124', 'N125', 'N126', 'N127'], dtype=object),\n",
       " array(['N102', 'N103', 'N110', 'N111', 'N118', 'N119', 'N126', 'N127'],\n",
       "       dtype=object),\n",
       " array(['N102', 'N103', 'N110', 'N111', 'N118', 'N119', 'N126', 'N127'],\n",
       "       dtype=object),\n",
       " array(['N101', 'N103', 'N108', 'N109', 'N111', 'N115', 'N116', 'N117',\n",
       "        'N118', 'N119', 'N122', 'N123', 'N124', 'N125', 'N126', 'N127'],\n",
       "       dtype=object),\n",
       " array(['N110', 'N111', 'N126', 'N127'], dtype=object),\n",
       " array(['N102', 'N103', 'N110', 'N111', 'N118', 'N119', 'N126', 'N127'],\n",
       "       dtype=object),\n",
       " array(['N101', 'N102', 'N103', 'N108', 'N109', 'N111', 'N116', 'N117',\n",
       "        'N118', 'N119', 'N122', 'N123', 'N124', 'N125', 'N126', 'N127'],\n",
       "       dtype=object),\n",
       " array(['N54', 'N55', 'N62', 'N63', 'N100', 'N101', 'N102', 'N103', 'N107',\n",
       "        'N108', 'N109', 'N111', 'N114', 'N115', 'N116', 'N117', 'N118',\n",
       "        'N119', 'N121', 'N122', 'N123', 'N124', 'N125', 'N126', 'N127'],\n",
       "       dtype=object),\n",
       " array(['N102', 'N103', 'N110', 'N111', 'N118', 'N119', 'N126', 'N127'],\n",
       "       dtype=object),\n",
       " array(['N71', 'N78', 'N79', 'N86', 'N87', 'N94', 'N95', 'N100', 'N101',\n",
       "        'N102', 'N103', 'N108', 'N109', 'N111', 'N116', 'N117', 'N118',\n",
       "        'N119', 'N124', 'N125', 'N126', 'N127'], dtype=object),\n",
       " array(['N110', 'N111', 'N126', 'N127'], dtype=object),\n",
       " array(['N101', 'N102', 'N103', 'N107', 'N108', 'N109', 'N110', 'N111',\n",
       "        'N116', 'N117', 'N118', 'N119', 'N124', 'N125', 'N126', 'N127'],\n",
       "       dtype=object),\n",
       " array(['N110', 'N111', 'N126', 'N127'], dtype=object),\n",
       " array(['N102', 'N103', 'N110', 'N111', 'N115', 'N118', 'N119', 'N123',\n",
       "        'N126', 'N127'], dtype=object)]"
      ]
     },
     "execution_count": 145,
     "metadata": {},
     "output_type": "execute_result"
    }
   ],
   "source": [
    "[s for s in sets if ('N0' not in s) and ('N17' not in s) and ('N84' not in s)  and ('N59' not in s) and ]"
   ]
  },
  {
   "cell_type": "code",
   "execution_count": 180,
   "metadata": {},
   "outputs": [],
   "source": [
    "R, P = sym.symbols(\"R, P\")\n",
    "\n",
    "p1, p2, p3, p4 = sym.symbols(\"p_1, p_2, p_3,p_4\")"
   ]
  },
  {
   "cell_type": "code",
   "execution_count": 181,
   "metadata": {},
   "outputs": [],
   "source": [
    "strategy = [ p1, p2, p1, p2, p3, p4, p3, p4,\n",
    "             p1, p2, p1, p2, p3, p4, p3, p4]"
   ]
  },
  {
   "cell_type": "code",
   "execution_count": 182,
   "metadata": {},
   "outputs": [],
   "source": [
    "pure_self_reactive = list(itertools.product([0, 1], repeat=4))"
   ]
  },
  {
   "cell_type": "code",
   "execution_count": 183,
   "metadata": {},
   "outputs": [],
   "source": [
    "q1, q2, q3, q4 = pure_self_reactive[3]\n",
    "\n",
    "coplayer =  [q1, q1, q2, q2, q1, q1, q2, q2,\n",
    "             q3, q3, q4, q4, q3, q3, q4, q4]"
   ]
  },
  {
   "cell_type": "code",
   "execution_count": 184,
   "metadata": {},
   "outputs": [],
   "source": [
    "M = repeated_play.transition_matrix_repeated_game(coplayer, strategy, memory=\"two\", analytical=True)"
   ]
  },
  {
   "cell_type": "code",
   "execution_count": 185,
   "metadata": {},
   "outputs": [],
   "source": [
    "ss = repeated_play.stationary_distribution(M, analytical=True)"
   ]
  },
  {
   "cell_type": "code",
   "execution_count": 189,
   "metadata": {},
   "outputs": [
    {
     "data": {
      "text/latex": [
       "$\\displaystyle - \\frac{P p_{2}}{4} + \\frac{P}{4} + \\frac{R p_{3}}{4} + \\frac{R p_{4}}{4} - R + \\frac{p_{2}}{4} + \\frac{1}{4}$"
      ],
      "text/plain": [
       "-P*p_2/4 + P/4 + R*p_3/4 + R*p_4/4 - R + p_2/4 + 1/4"
      ]
     },
     "execution_count": 189,
     "metadata": {},
     "output_type": "execute_result"
    }
   ],
   "source": [
    "(sum(ss @ sym.Matrix([R, 0, 1, P] * 4)).factor().subs({p1: 1}) - R)"
   ]
  },
  {
   "cell_type": "code",
   "execution_count": null,
   "metadata": {},
   "outputs": [],
   "source": []
  }
 ],
 "metadata": {
  "kernelspec": {
   "display_name": "Python 3 (ipykernel)",
   "language": "python",
   "name": "python3"
  },
  "language_info": {
   "codemirror_mode": {
    "name": "ipython",
    "version": 3
   },
   "file_extension": ".py",
   "mimetype": "text/x-python",
   "name": "python",
   "nbconvert_exporter": "python",
   "pygments_lexer": "ipython3",
   "version": "3.11.3"
  }
 },
 "nbformat": 4,
 "nbformat_minor": 4
}
