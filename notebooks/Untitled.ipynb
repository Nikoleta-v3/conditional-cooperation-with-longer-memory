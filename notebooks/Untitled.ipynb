{
 "cells": [
  {
   "cell_type": "code",
   "execution_count": 1,
   "id": "a8ba4a5c",
   "metadata": {},
   "outputs": [],
   "source": [
    "import repeated_play"
   ]
  },
  {
   "cell_type": "code",
   "execution_count": 2,
   "id": "10302aef",
   "metadata": {},
   "outputs": [],
   "source": [
    "import sympy as sym\n",
    "\n",
    "import itertools"
   ]
  },
  {
   "cell_type": "code",
   "execution_count": 3,
   "id": "9c280c86",
   "metadata": {},
   "outputs": [],
   "source": [
    "pure_self_reactive = list(itertools.product([0, 1], repeat=4))"
   ]
  },
  {
   "cell_type": "code",
   "execution_count": 11,
   "id": "470364cf",
   "metadata": {
    "scrolled": true
   },
   "outputs": [
    {
     "name": "stdout",
     "output_type": "stream",
     "text": [
      "\\item $\\mathbf{\\tilde{q}}^{0} =$ (0, 0, 0, 0)\n",
      "\\item $\\mathbf{\\tilde{q}}^{1} =$ (0, 0, 0, 1)\n",
      "\\item $\\mathbf{\\tilde{q}}^{2} =$ (0, 0, 1, 0)\n",
      "\\item $\\mathbf{\\tilde{q}}^{3} =$ (0, 0, 1, 1)\n",
      "\\item $\\mathbf{\\tilde{q}}^{4} =$ (0, 1, 0, 0)\n",
      "\\item $\\mathbf{\\tilde{q}}^{5} =$ (0, 1, 0, 1)\n",
      "\\item $\\mathbf{\\tilde{q}}^{6} =$ (0, 1, 1, 0)\n",
      "\\item $\\mathbf{\\tilde{q}}^{7} =$ (0, 1, 1, 1)\n",
      "\\item $\\mathbf{\\tilde{q}}^{8} =$ (1, 0, 0, 0)\n",
      "\\item $\\mathbf{\\tilde{q}}^{9} =$ (1, 0, 0, 1)\n",
      "\\item $\\mathbf{\\tilde{q}}^{10} =$ (1, 0, 1, 0)\n",
      "\\item $\\mathbf{\\tilde{q}}^{11} =$ (1, 0, 1, 1)\n",
      "\\item $\\mathbf{\\tilde{q}}^{12} =$ (1, 1, 0, 0)\n",
      "\\item $\\mathbf{\\tilde{q}}^{13} =$ (1, 1, 0, 1)\n",
      "\\item $\\mathbf{\\tilde{q}}^{14} =$ (1, 1, 1, 0)\n",
      "\\item $\\mathbf{\\tilde{q}}^{15} =$ (1, 1, 1, 1)\n"
     ]
    }
   ],
   "source": [
    "for i, st in enumerate(pure_self_reactive):\n",
    "    print(r\"\\item $\\mathbf{\\tilde{q}}^{%s} =$\"% i,  st)"
   ]
  },
  {
   "cell_type": "code",
   "execution_count": 16,
   "id": "7a8b06ed",
   "metadata": {
    "scrolled": true
   },
   "outputs": [
    {
     "name": "stdout",
     "output_type": "stream",
     "text": [
      "$s_{\\mathbf{\\tilde{q}}^{i}, \\mathbf{p}} =$ \\\\\n",
      "$s_{\\mathbf{\\tilde{q}}^{i}, \\mathbf{p}} =$ \\\\\n",
      "$s_{\\mathbf{\\tilde{q}}^{i}, \\mathbf{p}} =$ \\\\\n",
      "$s_{\\mathbf{\\tilde{q}}^{i}, \\mathbf{p}} =$ \\\\\n",
      "$s_{\\mathbf{\\tilde{q}}^{i}, \\mathbf{p}} =$ \\\\\n",
      "$s_{\\mathbf{\\tilde{q}}^{i}, \\mathbf{p}} =$ \\\\\n"
     ]
    }
   ],
   "source": [
    "for i in range(6):\n",
    "    print(r\"$s_{\\mathbf{\\tilde{q}}^{i}, \\mathbf{p}} =$ \\\\\")"
   ]
  },
  {
   "cell_type": "code",
   "execution_count": 21,
   "id": "6b482b51",
   "metadata": {},
   "outputs": [],
   "source": [
    "p1, p2, p3, p4 = sym.symbols(\"p_1, p_2, p_3, p_4\")\n",
    "\n",
    "b, c, x = sym.symbols(\"b, c, x\")"
   ]
  },
  {
   "cell_type": "code",
   "execution_count": 18,
   "id": "3d6e2c8b",
   "metadata": {},
   "outputs": [],
   "source": [
    "def transformed_two_bit_markov(player, analytical=True):\n",
    "    \n",
    "    if analytical == True:\n",
    "        M = sym.Matrix([[player[0], (1 - player[0]), 0, 0],\n",
    "                        [0, 0, player[1], (1 - player[1])],\n",
    "                        [player[2], (1 - player[2]), 0, 0],\n",
    "                        [0, 0, player[3], (1 - player[3])]])\n",
    "    else:\n",
    "        M = np.array([[player[0], (1 - player[0]), 0, 0],\n",
    "                        [0, 0, player[1], (1 - player[1])],\n",
    "                        [player[2], (1 - player[2]), 0, 0],\n",
    "                        [0, 0, player[3], (1 - player[3])]])\n",
    "    \n",
    "    \n",
    "    return M"
   ]
  },
  {
   "cell_type": "code",
   "execution_count": 30,
   "id": "63609d19",
   "metadata": {},
   "outputs": [
    {
     "data": {
      "text/latex": [
       "$\\displaystyle \\frac{b \\left(x + 1\\right)}{4} - b + \\frac{c}{2}$"
      ],
      "text/plain": [
       "b*(x + 1)/4 - b + c/2"
      ]
     },
     "execution_count": 30,
     "metadata": {},
     "output_type": "execute_result"
    }
   ],
   "source": [
    "b * (x + 1) / 4 - c / 2 - (b - c)"
   ]
  },
  {
   "cell_type": "code",
   "execution_count": 31,
   "id": "12a6fd92",
   "metadata": {},
   "outputs": [
    {
     "data": {
      "text/plain": [
       "[3 - 2*c/b]"
      ]
     },
     "execution_count": 31,
     "metadata": {},
     "output_type": "execute_result"
    }
   ],
   "source": [
    "sym.solve(b * (x + 1) / 4 - c / 2 - (b - c), x)"
   ]
  },
  {
   "cell_type": "code",
   "execution_count": 34,
   "id": "10c6c25c",
   "metadata": {},
   "outputs": [
    {
     "data": {
      "text/plain": [
       "[2 - c/b]"
      ]
     },
     "execution_count": 34,
     "metadata": {},
     "output_type": "execute_result"
    }
   ],
   "source": [
    "sym.solve(b * (x + 1) / 3 - 2 * c / 3 - (b - c), x)"
   ]
  },
  {
   "cell_type": "code",
   "execution_count": null,
   "id": "842a01d4",
   "metadata": {},
   "outputs": [],
   "source": []
  }
 ],
 "metadata": {
  "kernelspec": {
   "display_name": "Python 3 (ipykernel)",
   "language": "python",
   "name": "python3"
  },
  "language_info": {
   "codemirror_mode": {
    "name": "ipython",
    "version": 3
   },
   "file_extension": ".py",
   "mimetype": "text/x-python",
   "name": "python",
   "nbconvert_exporter": "python",
   "pygments_lexer": "ipython3",
   "version": "3.11.3"
  }
 },
 "nbformat": 4,
 "nbformat_minor": 5
}
