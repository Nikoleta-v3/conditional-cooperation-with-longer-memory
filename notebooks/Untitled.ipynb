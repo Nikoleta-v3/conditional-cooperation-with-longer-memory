{
 "cells": [
  {
   "cell_type": "code",
   "execution_count": 1,
   "id": "a8ba4a5c",
   "metadata": {},
   "outputs": [],
   "source": [
    "import repeated_play"
   ]
  },
  {
   "cell_type": "code",
   "execution_count": 16,
   "id": "10302aef",
   "metadata": {},
   "outputs": [],
   "source": [
    "import sympy as sym\n",
    "\n",
    "import itertools\n",
    "\n",
    "import numpy as np"
   ]
  },
  {
   "cell_type": "code",
   "execution_count": 121,
   "id": "9c280c86",
   "metadata": {},
   "outputs": [],
   "source": [
    "pure_self_reactive = list(itertools.product([0, 1], repeat=8))"
   ]
  },
  {
   "cell_type": "code",
   "execution_count": 122,
   "id": "470364cf",
   "metadata": {
    "scrolled": false
   },
   "outputs": [
    {
     "name": "stdout",
     "output_type": "stream",
     "text": [
      "\\item $\\mathbf{\\tilde{q}}^{0} =$ (0, 0, 0, 0, 0, 0, 0, 0)\n",
      "\\item $\\mathbf{\\tilde{q}}^{1} =$ (0, 0, 0, 0, 0, 0, 0, 1)\n",
      "\\item $\\mathbf{\\tilde{q}}^{2} =$ (0, 0, 0, 0, 0, 0, 1, 0)\n",
      "\\item $\\mathbf{\\tilde{q}}^{3} =$ (0, 0, 0, 0, 0, 0, 1, 1)\n",
      "\\item $\\mathbf{\\tilde{q}}^{4} =$ (0, 0, 0, 0, 0, 1, 0, 0)\n",
      "\\item $\\mathbf{\\tilde{q}}^{5} =$ (0, 0, 0, 0, 0, 1, 0, 1)\n",
      "\\item $\\mathbf{\\tilde{q}}^{6} =$ (0, 0, 0, 0, 0, 1, 1, 0)\n",
      "\\item $\\mathbf{\\tilde{q}}^{7} =$ (0, 0, 0, 0, 0, 1, 1, 1)\n",
      "\\item $\\mathbf{\\tilde{q}}^{8} =$ (0, 0, 0, 0, 1, 0, 0, 0)\n",
      "\\item $\\mathbf{\\tilde{q}}^{9} =$ (0, 0, 0, 0, 1, 0, 0, 1)\n",
      "\\item $\\mathbf{\\tilde{q}}^{10} =$ (0, 0, 0, 0, 1, 0, 1, 0)\n",
      "\\item $\\mathbf{\\tilde{q}}^{11} =$ (0, 0, 0, 0, 1, 0, 1, 1)\n",
      "\\item $\\mathbf{\\tilde{q}}^{12} =$ (0, 0, 0, 0, 1, 1, 0, 0)\n",
      "\\item $\\mathbf{\\tilde{q}}^{13} =$ (0, 0, 0, 0, 1, 1, 0, 1)\n",
      "\\item $\\mathbf{\\tilde{q}}^{14} =$ (0, 0, 0, 0, 1, 1, 1, 0)\n",
      "\\item $\\mathbf{\\tilde{q}}^{15} =$ (0, 0, 0, 0, 1, 1, 1, 1)\n",
      "\\item $\\mathbf{\\tilde{q}}^{16} =$ (0, 0, 0, 1, 0, 0, 0, 0)\n",
      "\\item $\\mathbf{\\tilde{q}}^{17} =$ (0, 0, 0, 1, 0, 0, 0, 1)\n",
      "\\item $\\mathbf{\\tilde{q}}^{18} =$ (0, 0, 0, 1, 0, 0, 1, 0)\n",
      "\\item $\\mathbf{\\tilde{q}}^{19} =$ (0, 0, 0, 1, 0, 0, 1, 1)\n",
      "\\item $\\mathbf{\\tilde{q}}^{20} =$ (0, 0, 0, 1, 0, 1, 0, 0)\n",
      "\\item $\\mathbf{\\tilde{q}}^{21} =$ (0, 0, 0, 1, 0, 1, 0, 1)\n",
      "\\item $\\mathbf{\\tilde{q}}^{22} =$ (0, 0, 0, 1, 0, 1, 1, 0)\n",
      "\\item $\\mathbf{\\tilde{q}}^{23} =$ (0, 0, 0, 1, 0, 1, 1, 1)\n",
      "\\item $\\mathbf{\\tilde{q}}^{24} =$ (0, 0, 0, 1, 1, 0, 0, 0)\n",
      "\\item $\\mathbf{\\tilde{q}}^{25} =$ (0, 0, 0, 1, 1, 0, 0, 1)\n",
      "\\item $\\mathbf{\\tilde{q}}^{26} =$ (0, 0, 0, 1, 1, 0, 1, 0)\n",
      "\\item $\\mathbf{\\tilde{q}}^{27} =$ (0, 0, 0, 1, 1, 0, 1, 1)\n",
      "\\item $\\mathbf{\\tilde{q}}^{28} =$ (0, 0, 0, 1, 1, 1, 0, 0)\n",
      "\\item $\\mathbf{\\tilde{q}}^{29} =$ (0, 0, 0, 1, 1, 1, 0, 1)\n",
      "\\item $\\mathbf{\\tilde{q}}^{30} =$ (0, 0, 0, 1, 1, 1, 1, 0)\n",
      "\\item $\\mathbf{\\tilde{q}}^{31} =$ (0, 0, 0, 1, 1, 1, 1, 1)\n",
      "\\item $\\mathbf{\\tilde{q}}^{32} =$ (0, 0, 1, 0, 0, 0, 0, 0)\n",
      "\\item $\\mathbf{\\tilde{q}}^{33} =$ (0, 0, 1, 0, 0, 0, 0, 1)\n",
      "\\item $\\mathbf{\\tilde{q}}^{34} =$ (0, 0, 1, 0, 0, 0, 1, 0)\n",
      "\\item $\\mathbf{\\tilde{q}}^{35} =$ (0, 0, 1, 0, 0, 0, 1, 1)\n",
      "\\item $\\mathbf{\\tilde{q}}^{36} =$ (0, 0, 1, 0, 0, 1, 0, 0)\n",
      "\\item $\\mathbf{\\tilde{q}}^{37} =$ (0, 0, 1, 0, 0, 1, 0, 1)\n",
      "\\item $\\mathbf{\\tilde{q}}^{38} =$ (0, 0, 1, 0, 0, 1, 1, 0)\n",
      "\\item $\\mathbf{\\tilde{q}}^{39} =$ (0, 0, 1, 0, 0, 1, 1, 1)\n",
      "\\item $\\mathbf{\\tilde{q}}^{40} =$ (0, 0, 1, 0, 1, 0, 0, 0)\n",
      "\\item $\\mathbf{\\tilde{q}}^{41} =$ (0, 0, 1, 0, 1, 0, 0, 1)\n",
      "\\item $\\mathbf{\\tilde{q}}^{42} =$ (0, 0, 1, 0, 1, 0, 1, 0)\n",
      "\\item $\\mathbf{\\tilde{q}}^{43} =$ (0, 0, 1, 0, 1, 0, 1, 1)\n",
      "\\item $\\mathbf{\\tilde{q}}^{44} =$ (0, 0, 1, 0, 1, 1, 0, 0)\n",
      "\\item $\\mathbf{\\tilde{q}}^{45} =$ (0, 0, 1, 0, 1, 1, 0, 1)\n",
      "\\item $\\mathbf{\\tilde{q}}^{46} =$ (0, 0, 1, 0, 1, 1, 1, 0)\n",
      "\\item $\\mathbf{\\tilde{q}}^{47} =$ (0, 0, 1, 0, 1, 1, 1, 1)\n",
      "\\item $\\mathbf{\\tilde{q}}^{48} =$ (0, 0, 1, 1, 0, 0, 0, 0)\n",
      "\\item $\\mathbf{\\tilde{q}}^{49} =$ (0, 0, 1, 1, 0, 0, 0, 1)\n",
      "\\item $\\mathbf{\\tilde{q}}^{50} =$ (0, 0, 1, 1, 0, 0, 1, 0)\n",
      "\\item $\\mathbf{\\tilde{q}}^{51} =$ (0, 0, 1, 1, 0, 0, 1, 1)\n",
      "\\item $\\mathbf{\\tilde{q}}^{52} =$ (0, 0, 1, 1, 0, 1, 0, 0)\n",
      "\\item $\\mathbf{\\tilde{q}}^{53} =$ (0, 0, 1, 1, 0, 1, 0, 1)\n",
      "\\item $\\mathbf{\\tilde{q}}^{54} =$ (0, 0, 1, 1, 0, 1, 1, 0)\n",
      "\\item $\\mathbf{\\tilde{q}}^{55} =$ (0, 0, 1, 1, 0, 1, 1, 1)\n",
      "\\item $\\mathbf{\\tilde{q}}^{56} =$ (0, 0, 1, 1, 1, 0, 0, 0)\n",
      "\\item $\\mathbf{\\tilde{q}}^{57} =$ (0, 0, 1, 1, 1, 0, 0, 1)\n",
      "\\item $\\mathbf{\\tilde{q}}^{58} =$ (0, 0, 1, 1, 1, 0, 1, 0)\n",
      "\\item $\\mathbf{\\tilde{q}}^{59} =$ (0, 0, 1, 1, 1, 0, 1, 1)\n",
      "\\item $\\mathbf{\\tilde{q}}^{60} =$ (0, 0, 1, 1, 1, 1, 0, 0)\n",
      "\\item $\\mathbf{\\tilde{q}}^{61} =$ (0, 0, 1, 1, 1, 1, 0, 1)\n",
      "\\item $\\mathbf{\\tilde{q}}^{62} =$ (0, 0, 1, 1, 1, 1, 1, 0)\n",
      "\\item $\\mathbf{\\tilde{q}}^{63} =$ (0, 0, 1, 1, 1, 1, 1, 1)\n",
      "\\item $\\mathbf{\\tilde{q}}^{64} =$ (0, 1, 0, 0, 0, 0, 0, 0)\n",
      "\\item $\\mathbf{\\tilde{q}}^{65} =$ (0, 1, 0, 0, 0, 0, 0, 1)\n",
      "\\item $\\mathbf{\\tilde{q}}^{66} =$ (0, 1, 0, 0, 0, 0, 1, 0)\n",
      "\\item $\\mathbf{\\tilde{q}}^{67} =$ (0, 1, 0, 0, 0, 0, 1, 1)\n",
      "\\item $\\mathbf{\\tilde{q}}^{68} =$ (0, 1, 0, 0, 0, 1, 0, 0)\n",
      "\\item $\\mathbf{\\tilde{q}}^{69} =$ (0, 1, 0, 0, 0, 1, 0, 1)\n",
      "\\item $\\mathbf{\\tilde{q}}^{70} =$ (0, 1, 0, 0, 0, 1, 1, 0)\n",
      "\\item $\\mathbf{\\tilde{q}}^{71} =$ (0, 1, 0, 0, 0, 1, 1, 1)\n",
      "\\item $\\mathbf{\\tilde{q}}^{72} =$ (0, 1, 0, 0, 1, 0, 0, 0)\n",
      "\\item $\\mathbf{\\tilde{q}}^{73} =$ (0, 1, 0, 0, 1, 0, 0, 1)\n",
      "\\item $\\mathbf{\\tilde{q}}^{74} =$ (0, 1, 0, 0, 1, 0, 1, 0)\n",
      "\\item $\\mathbf{\\tilde{q}}^{75} =$ (0, 1, 0, 0, 1, 0, 1, 1)\n",
      "\\item $\\mathbf{\\tilde{q}}^{76} =$ (0, 1, 0, 0, 1, 1, 0, 0)\n",
      "\\item $\\mathbf{\\tilde{q}}^{77} =$ (0, 1, 0, 0, 1, 1, 0, 1)\n",
      "\\item $\\mathbf{\\tilde{q}}^{78} =$ (0, 1, 0, 0, 1, 1, 1, 0)\n",
      "\\item $\\mathbf{\\tilde{q}}^{79} =$ (0, 1, 0, 0, 1, 1, 1, 1)\n",
      "\\item $\\mathbf{\\tilde{q}}^{80} =$ (0, 1, 0, 1, 0, 0, 0, 0)\n",
      "\\item $\\mathbf{\\tilde{q}}^{81} =$ (0, 1, 0, 1, 0, 0, 0, 1)\n",
      "\\item $\\mathbf{\\tilde{q}}^{82} =$ (0, 1, 0, 1, 0, 0, 1, 0)\n",
      "\\item $\\mathbf{\\tilde{q}}^{83} =$ (0, 1, 0, 1, 0, 0, 1, 1)\n",
      "\\item $\\mathbf{\\tilde{q}}^{84} =$ (0, 1, 0, 1, 0, 1, 0, 0)\n",
      "\\item $\\mathbf{\\tilde{q}}^{85} =$ (0, 1, 0, 1, 0, 1, 0, 1)\n",
      "\\item $\\mathbf{\\tilde{q}}^{86} =$ (0, 1, 0, 1, 0, 1, 1, 0)\n",
      "\\item $\\mathbf{\\tilde{q}}^{87} =$ (0, 1, 0, 1, 0, 1, 1, 1)\n",
      "\\item $\\mathbf{\\tilde{q}}^{88} =$ (0, 1, 0, 1, 1, 0, 0, 0)\n",
      "\\item $\\mathbf{\\tilde{q}}^{89} =$ (0, 1, 0, 1, 1, 0, 0, 1)\n",
      "\\item $\\mathbf{\\tilde{q}}^{90} =$ (0, 1, 0, 1, 1, 0, 1, 0)\n",
      "\\item $\\mathbf{\\tilde{q}}^{91} =$ (0, 1, 0, 1, 1, 0, 1, 1)\n",
      "\\item $\\mathbf{\\tilde{q}}^{92} =$ (0, 1, 0, 1, 1, 1, 0, 0)\n",
      "\\item $\\mathbf{\\tilde{q}}^{93} =$ (0, 1, 0, 1, 1, 1, 0, 1)\n",
      "\\item $\\mathbf{\\tilde{q}}^{94} =$ (0, 1, 0, 1, 1, 1, 1, 0)\n",
      "\\item $\\mathbf{\\tilde{q}}^{95} =$ (0, 1, 0, 1, 1, 1, 1, 1)\n",
      "\\item $\\mathbf{\\tilde{q}}^{96} =$ (0, 1, 1, 0, 0, 0, 0, 0)\n",
      "\\item $\\mathbf{\\tilde{q}}^{97} =$ (0, 1, 1, 0, 0, 0, 0, 1)\n",
      "\\item $\\mathbf{\\tilde{q}}^{98} =$ (0, 1, 1, 0, 0, 0, 1, 0)\n",
      "\\item $\\mathbf{\\tilde{q}}^{99} =$ (0, 1, 1, 0, 0, 0, 1, 1)\n",
      "\\item $\\mathbf{\\tilde{q}}^{100} =$ (0, 1, 1, 0, 0, 1, 0, 0)\n",
      "\\item $\\mathbf{\\tilde{q}}^{101} =$ (0, 1, 1, 0, 0, 1, 0, 1)\n",
      "\\item $\\mathbf{\\tilde{q}}^{102} =$ (0, 1, 1, 0, 0, 1, 1, 0)\n",
      "\\item $\\mathbf{\\tilde{q}}^{103} =$ (0, 1, 1, 0, 0, 1, 1, 1)\n",
      "\\item $\\mathbf{\\tilde{q}}^{104} =$ (0, 1, 1, 0, 1, 0, 0, 0)\n",
      "\\item $\\mathbf{\\tilde{q}}^{105} =$ (0, 1, 1, 0, 1, 0, 0, 1)\n",
      "\\item $\\mathbf{\\tilde{q}}^{106} =$ (0, 1, 1, 0, 1, 0, 1, 0)\n",
      "\\item $\\mathbf{\\tilde{q}}^{107} =$ (0, 1, 1, 0, 1, 0, 1, 1)\n",
      "\\item $\\mathbf{\\tilde{q}}^{108} =$ (0, 1, 1, 0, 1, 1, 0, 0)\n",
      "\\item $\\mathbf{\\tilde{q}}^{109} =$ (0, 1, 1, 0, 1, 1, 0, 1)\n",
      "\\item $\\mathbf{\\tilde{q}}^{110} =$ (0, 1, 1, 0, 1, 1, 1, 0)\n",
      "\\item $\\mathbf{\\tilde{q}}^{111} =$ (0, 1, 1, 0, 1, 1, 1, 1)\n",
      "\\item $\\mathbf{\\tilde{q}}^{112} =$ (0, 1, 1, 1, 0, 0, 0, 0)\n",
      "\\item $\\mathbf{\\tilde{q}}^{113} =$ (0, 1, 1, 1, 0, 0, 0, 1)\n",
      "\\item $\\mathbf{\\tilde{q}}^{114} =$ (0, 1, 1, 1, 0, 0, 1, 0)\n",
      "\\item $\\mathbf{\\tilde{q}}^{115} =$ (0, 1, 1, 1, 0, 0, 1, 1)\n",
      "\\item $\\mathbf{\\tilde{q}}^{116} =$ (0, 1, 1, 1, 0, 1, 0, 0)\n",
      "\\item $\\mathbf{\\tilde{q}}^{117} =$ (0, 1, 1, 1, 0, 1, 0, 1)\n",
      "\\item $\\mathbf{\\tilde{q}}^{118} =$ (0, 1, 1, 1, 0, 1, 1, 0)\n",
      "\\item $\\mathbf{\\tilde{q}}^{119} =$ (0, 1, 1, 1, 0, 1, 1, 1)\n",
      "\\item $\\mathbf{\\tilde{q}}^{120} =$ (0, 1, 1, 1, 1, 0, 0, 0)\n",
      "\\item $\\mathbf{\\tilde{q}}^{121} =$ (0, 1, 1, 1, 1, 0, 0, 1)\n",
      "\\item $\\mathbf{\\tilde{q}}^{122} =$ (0, 1, 1, 1, 1, 0, 1, 0)\n",
      "\\item $\\mathbf{\\tilde{q}}^{123} =$ (0, 1, 1, 1, 1, 0, 1, 1)\n",
      "\\item $\\mathbf{\\tilde{q}}^{124} =$ (0, 1, 1, 1, 1, 1, 0, 0)\n",
      "\\item $\\mathbf{\\tilde{q}}^{125} =$ (0, 1, 1, 1, 1, 1, 0, 1)\n",
      "\\item $\\mathbf{\\tilde{q}}^{126} =$ (0, 1, 1, 1, 1, 1, 1, 0)\n",
      "\\item $\\mathbf{\\tilde{q}}^{127} =$ (0, 1, 1, 1, 1, 1, 1, 1)\n",
      "\\item $\\mathbf{\\tilde{q}}^{128} =$ (1, 0, 0, 0, 0, 0, 0, 0)\n",
      "\\item $\\mathbf{\\tilde{q}}^{129} =$ (1, 0, 0, 0, 0, 0, 0, 1)\n",
      "\\item $\\mathbf{\\tilde{q}}^{130} =$ (1, 0, 0, 0, 0, 0, 1, 0)\n",
      "\\item $\\mathbf{\\tilde{q}}^{131} =$ (1, 0, 0, 0, 0, 0, 1, 1)\n",
      "\\item $\\mathbf{\\tilde{q}}^{132} =$ (1, 0, 0, 0, 0, 1, 0, 0)\n",
      "\\item $\\mathbf{\\tilde{q}}^{133} =$ (1, 0, 0, 0, 0, 1, 0, 1)\n",
      "\\item $\\mathbf{\\tilde{q}}^{134} =$ (1, 0, 0, 0, 0, 1, 1, 0)\n",
      "\\item $\\mathbf{\\tilde{q}}^{135} =$ (1, 0, 0, 0, 0, 1, 1, 1)\n",
      "\\item $\\mathbf{\\tilde{q}}^{136} =$ (1, 0, 0, 0, 1, 0, 0, 0)\n",
      "\\item $\\mathbf{\\tilde{q}}^{137} =$ (1, 0, 0, 0, 1, 0, 0, 1)\n",
      "\\item $\\mathbf{\\tilde{q}}^{138} =$ (1, 0, 0, 0, 1, 0, 1, 0)\n",
      "\\item $\\mathbf{\\tilde{q}}^{139} =$ (1, 0, 0, 0, 1, 0, 1, 1)\n",
      "\\item $\\mathbf{\\tilde{q}}^{140} =$ (1, 0, 0, 0, 1, 1, 0, 0)\n",
      "\\item $\\mathbf{\\tilde{q}}^{141} =$ (1, 0, 0, 0, 1, 1, 0, 1)\n",
      "\\item $\\mathbf{\\tilde{q}}^{142} =$ (1, 0, 0, 0, 1, 1, 1, 0)\n",
      "\\item $\\mathbf{\\tilde{q}}^{143} =$ (1, 0, 0, 0, 1, 1, 1, 1)\n",
      "\\item $\\mathbf{\\tilde{q}}^{144} =$ (1, 0, 0, 1, 0, 0, 0, 0)\n",
      "\\item $\\mathbf{\\tilde{q}}^{145} =$ (1, 0, 0, 1, 0, 0, 0, 1)\n",
      "\\item $\\mathbf{\\tilde{q}}^{146} =$ (1, 0, 0, 1, 0, 0, 1, 0)\n",
      "\\item $\\mathbf{\\tilde{q}}^{147} =$ (1, 0, 0, 1, 0, 0, 1, 1)\n",
      "\\item $\\mathbf{\\tilde{q}}^{148} =$ (1, 0, 0, 1, 0, 1, 0, 0)\n",
      "\\item $\\mathbf{\\tilde{q}}^{149} =$ (1, 0, 0, 1, 0, 1, 0, 1)\n",
      "\\item $\\mathbf{\\tilde{q}}^{150} =$ (1, 0, 0, 1, 0, 1, 1, 0)\n",
      "\\item $\\mathbf{\\tilde{q}}^{151} =$ (1, 0, 0, 1, 0, 1, 1, 1)\n",
      "\\item $\\mathbf{\\tilde{q}}^{152} =$ (1, 0, 0, 1, 1, 0, 0, 0)\n",
      "\\item $\\mathbf{\\tilde{q}}^{153} =$ (1, 0, 0, 1, 1, 0, 0, 1)\n",
      "\\item $\\mathbf{\\tilde{q}}^{154} =$ (1, 0, 0, 1, 1, 0, 1, 0)\n",
      "\\item $\\mathbf{\\tilde{q}}^{155} =$ (1, 0, 0, 1, 1, 0, 1, 1)\n",
      "\\item $\\mathbf{\\tilde{q}}^{156} =$ (1, 0, 0, 1, 1, 1, 0, 0)\n",
      "\\item $\\mathbf{\\tilde{q}}^{157} =$ (1, 0, 0, 1, 1, 1, 0, 1)\n",
      "\\item $\\mathbf{\\tilde{q}}^{158} =$ (1, 0, 0, 1, 1, 1, 1, 0)\n",
      "\\item $\\mathbf{\\tilde{q}}^{159} =$ (1, 0, 0, 1, 1, 1, 1, 1)\n",
      "\\item $\\mathbf{\\tilde{q}}^{160} =$ (1, 0, 1, 0, 0, 0, 0, 0)\n",
      "\\item $\\mathbf{\\tilde{q}}^{161} =$ (1, 0, 1, 0, 0, 0, 0, 1)\n",
      "\\item $\\mathbf{\\tilde{q}}^{162} =$ (1, 0, 1, 0, 0, 0, 1, 0)\n",
      "\\item $\\mathbf{\\tilde{q}}^{163} =$ (1, 0, 1, 0, 0, 0, 1, 1)\n",
      "\\item $\\mathbf{\\tilde{q}}^{164} =$ (1, 0, 1, 0, 0, 1, 0, 0)\n",
      "\\item $\\mathbf{\\tilde{q}}^{165} =$ (1, 0, 1, 0, 0, 1, 0, 1)\n",
      "\\item $\\mathbf{\\tilde{q}}^{166} =$ (1, 0, 1, 0, 0, 1, 1, 0)\n",
      "\\item $\\mathbf{\\tilde{q}}^{167} =$ (1, 0, 1, 0, 0, 1, 1, 1)\n",
      "\\item $\\mathbf{\\tilde{q}}^{168} =$ (1, 0, 1, 0, 1, 0, 0, 0)\n",
      "\\item $\\mathbf{\\tilde{q}}^{169} =$ (1, 0, 1, 0, 1, 0, 0, 1)\n",
      "\\item $\\mathbf{\\tilde{q}}^{170} =$ (1, 0, 1, 0, 1, 0, 1, 0)\n",
      "\\item $\\mathbf{\\tilde{q}}^{171} =$ (1, 0, 1, 0, 1, 0, 1, 1)\n",
      "\\item $\\mathbf{\\tilde{q}}^{172} =$ (1, 0, 1, 0, 1, 1, 0, 0)\n",
      "\\item $\\mathbf{\\tilde{q}}^{173} =$ (1, 0, 1, 0, 1, 1, 0, 1)\n",
      "\\item $\\mathbf{\\tilde{q}}^{174} =$ (1, 0, 1, 0, 1, 1, 1, 0)\n",
      "\\item $\\mathbf{\\tilde{q}}^{175} =$ (1, 0, 1, 0, 1, 1, 1, 1)\n",
      "\\item $\\mathbf{\\tilde{q}}^{176} =$ (1, 0, 1, 1, 0, 0, 0, 0)\n",
      "\\item $\\mathbf{\\tilde{q}}^{177} =$ (1, 0, 1, 1, 0, 0, 0, 1)\n",
      "\\item $\\mathbf{\\tilde{q}}^{178} =$ (1, 0, 1, 1, 0, 0, 1, 0)\n",
      "\\item $\\mathbf{\\tilde{q}}^{179} =$ (1, 0, 1, 1, 0, 0, 1, 1)\n",
      "\\item $\\mathbf{\\tilde{q}}^{180} =$ (1, 0, 1, 1, 0, 1, 0, 0)\n",
      "\\item $\\mathbf{\\tilde{q}}^{181} =$ (1, 0, 1, 1, 0, 1, 0, 1)\n",
      "\\item $\\mathbf{\\tilde{q}}^{182} =$ (1, 0, 1, 1, 0, 1, 1, 0)\n",
      "\\item $\\mathbf{\\tilde{q}}^{183} =$ (1, 0, 1, 1, 0, 1, 1, 1)\n",
      "\\item $\\mathbf{\\tilde{q}}^{184} =$ (1, 0, 1, 1, 1, 0, 0, 0)\n",
      "\\item $\\mathbf{\\tilde{q}}^{185} =$ (1, 0, 1, 1, 1, 0, 0, 1)\n",
      "\\item $\\mathbf{\\tilde{q}}^{186} =$ (1, 0, 1, 1, 1, 0, 1, 0)\n",
      "\\item $\\mathbf{\\tilde{q}}^{187} =$ (1, 0, 1, 1, 1, 0, 1, 1)\n",
      "\\item $\\mathbf{\\tilde{q}}^{188} =$ (1, 0, 1, 1, 1, 1, 0, 0)\n",
      "\\item $\\mathbf{\\tilde{q}}^{189} =$ (1, 0, 1, 1, 1, 1, 0, 1)\n",
      "\\item $\\mathbf{\\tilde{q}}^{190} =$ (1, 0, 1, 1, 1, 1, 1, 0)\n",
      "\\item $\\mathbf{\\tilde{q}}^{191} =$ (1, 0, 1, 1, 1, 1, 1, 1)\n",
      "\\item $\\mathbf{\\tilde{q}}^{192} =$ (1, 1, 0, 0, 0, 0, 0, 0)\n",
      "\\item $\\mathbf{\\tilde{q}}^{193} =$ (1, 1, 0, 0, 0, 0, 0, 1)\n",
      "\\item $\\mathbf{\\tilde{q}}^{194} =$ (1, 1, 0, 0, 0, 0, 1, 0)\n",
      "\\item $\\mathbf{\\tilde{q}}^{195} =$ (1, 1, 0, 0, 0, 0, 1, 1)\n",
      "\\item $\\mathbf{\\tilde{q}}^{196} =$ (1, 1, 0, 0, 0, 1, 0, 0)\n",
      "\\item $\\mathbf{\\tilde{q}}^{197} =$ (1, 1, 0, 0, 0, 1, 0, 1)\n",
      "\\item $\\mathbf{\\tilde{q}}^{198} =$ (1, 1, 0, 0, 0, 1, 1, 0)\n",
      "\\item $\\mathbf{\\tilde{q}}^{199} =$ (1, 1, 0, 0, 0, 1, 1, 1)\n",
      "\\item $\\mathbf{\\tilde{q}}^{200} =$ (1, 1, 0, 0, 1, 0, 0, 0)\n",
      "\\item $\\mathbf{\\tilde{q}}^{201} =$ (1, 1, 0, 0, 1, 0, 0, 1)\n",
      "\\item $\\mathbf{\\tilde{q}}^{202} =$ (1, 1, 0, 0, 1, 0, 1, 0)\n",
      "\\item $\\mathbf{\\tilde{q}}^{203} =$ (1, 1, 0, 0, 1, 0, 1, 1)\n",
      "\\item $\\mathbf{\\tilde{q}}^{204} =$ (1, 1, 0, 0, 1, 1, 0, 0)\n",
      "\\item $\\mathbf{\\tilde{q}}^{205} =$ (1, 1, 0, 0, 1, 1, 0, 1)\n",
      "\\item $\\mathbf{\\tilde{q}}^{206} =$ (1, 1, 0, 0, 1, 1, 1, 0)\n",
      "\\item $\\mathbf{\\tilde{q}}^{207} =$ (1, 1, 0, 0, 1, 1, 1, 1)\n",
      "\\item $\\mathbf{\\tilde{q}}^{208} =$ (1, 1, 0, 1, 0, 0, 0, 0)\n",
      "\\item $\\mathbf{\\tilde{q}}^{209} =$ (1, 1, 0, 1, 0, 0, 0, 1)\n",
      "\\item $\\mathbf{\\tilde{q}}^{210} =$ (1, 1, 0, 1, 0, 0, 1, 0)\n",
      "\\item $\\mathbf{\\tilde{q}}^{211} =$ (1, 1, 0, 1, 0, 0, 1, 1)\n",
      "\\item $\\mathbf{\\tilde{q}}^{212} =$ (1, 1, 0, 1, 0, 1, 0, 0)\n",
      "\\item $\\mathbf{\\tilde{q}}^{213} =$ (1, 1, 0, 1, 0, 1, 0, 1)\n",
      "\\item $\\mathbf{\\tilde{q}}^{214} =$ (1, 1, 0, 1, 0, 1, 1, 0)\n",
      "\\item $\\mathbf{\\tilde{q}}^{215} =$ (1, 1, 0, 1, 0, 1, 1, 1)\n",
      "\\item $\\mathbf{\\tilde{q}}^{216} =$ (1, 1, 0, 1, 1, 0, 0, 0)\n",
      "\\item $\\mathbf{\\tilde{q}}^{217} =$ (1, 1, 0, 1, 1, 0, 0, 1)\n",
      "\\item $\\mathbf{\\tilde{q}}^{218} =$ (1, 1, 0, 1, 1, 0, 1, 0)\n",
      "\\item $\\mathbf{\\tilde{q}}^{219} =$ (1, 1, 0, 1, 1, 0, 1, 1)\n",
      "\\item $\\mathbf{\\tilde{q}}^{220} =$ (1, 1, 0, 1, 1, 1, 0, 0)\n",
      "\\item $\\mathbf{\\tilde{q}}^{221} =$ (1, 1, 0, 1, 1, 1, 0, 1)\n",
      "\\item $\\mathbf{\\tilde{q}}^{222} =$ (1, 1, 0, 1, 1, 1, 1, 0)\n",
      "\\item $\\mathbf{\\tilde{q}}^{223} =$ (1, 1, 0, 1, 1, 1, 1, 1)\n",
      "\\item $\\mathbf{\\tilde{q}}^{224} =$ (1, 1, 1, 0, 0, 0, 0, 0)\n",
      "\\item $\\mathbf{\\tilde{q}}^{225} =$ (1, 1, 1, 0, 0, 0, 0, 1)\n",
      "\\item $\\mathbf{\\tilde{q}}^{226} =$ (1, 1, 1, 0, 0, 0, 1, 0)\n",
      "\\item $\\mathbf{\\tilde{q}}^{227} =$ (1, 1, 1, 0, 0, 0, 1, 1)\n",
      "\\item $\\mathbf{\\tilde{q}}^{228} =$ (1, 1, 1, 0, 0, 1, 0, 0)\n",
      "\\item $\\mathbf{\\tilde{q}}^{229} =$ (1, 1, 1, 0, 0, 1, 0, 1)\n",
      "\\item $\\mathbf{\\tilde{q}}^{230} =$ (1, 1, 1, 0, 0, 1, 1, 0)\n",
      "\\item $\\mathbf{\\tilde{q}}^{231} =$ (1, 1, 1, 0, 0, 1, 1, 1)\n",
      "\\item $\\mathbf{\\tilde{q}}^{232} =$ (1, 1, 1, 0, 1, 0, 0, 0)\n",
      "\\item $\\mathbf{\\tilde{q}}^{233} =$ (1, 1, 1, 0, 1, 0, 0, 1)\n",
      "\\item $\\mathbf{\\tilde{q}}^{234} =$ (1, 1, 1, 0, 1, 0, 1, 0)\n",
      "\\item $\\mathbf{\\tilde{q}}^{235} =$ (1, 1, 1, 0, 1, 0, 1, 1)\n",
      "\\item $\\mathbf{\\tilde{q}}^{236} =$ (1, 1, 1, 0, 1, 1, 0, 0)\n",
      "\\item $\\mathbf{\\tilde{q}}^{237} =$ (1, 1, 1, 0, 1, 1, 0, 1)\n",
      "\\item $\\mathbf{\\tilde{q}}^{238} =$ (1, 1, 1, 0, 1, 1, 1, 0)\n",
      "\\item $\\mathbf{\\tilde{q}}^{239} =$ (1, 1, 1, 0, 1, 1, 1, 1)\n",
      "\\item $\\mathbf{\\tilde{q}}^{240} =$ (1, 1, 1, 1, 0, 0, 0, 0)\n",
      "\\item $\\mathbf{\\tilde{q}}^{241} =$ (1, 1, 1, 1, 0, 0, 0, 1)\n",
      "\\item $\\mathbf{\\tilde{q}}^{242} =$ (1, 1, 1, 1, 0, 0, 1, 0)\n",
      "\\item $\\mathbf{\\tilde{q}}^{243} =$ (1, 1, 1, 1, 0, 0, 1, 1)\n",
      "\\item $\\mathbf{\\tilde{q}}^{244} =$ (1, 1, 1, 1, 0, 1, 0, 0)\n",
      "\\item $\\mathbf{\\tilde{q}}^{245} =$ (1, 1, 1, 1, 0, 1, 0, 1)\n",
      "\\item $\\mathbf{\\tilde{q}}^{246} =$ (1, 1, 1, 1, 0, 1, 1, 0)\n",
      "\\item $\\mathbf{\\tilde{q}}^{247} =$ (1, 1, 1, 1, 0, 1, 1, 1)\n",
      "\\item $\\mathbf{\\tilde{q}}^{248} =$ (1, 1, 1, 1, 1, 0, 0, 0)\n",
      "\\item $\\mathbf{\\tilde{q}}^{249} =$ (1, 1, 1, 1, 1, 0, 0, 1)\n",
      "\\item $\\mathbf{\\tilde{q}}^{250} =$ (1, 1, 1, 1, 1, 0, 1, 0)\n",
      "\\item $\\mathbf{\\tilde{q}}^{251} =$ (1, 1, 1, 1, 1, 0, 1, 1)\n",
      "\\item $\\mathbf{\\tilde{q}}^{252} =$ (1, 1, 1, 1, 1, 1, 0, 0)\n",
      "\\item $\\mathbf{\\tilde{q}}^{253} =$ (1, 1, 1, 1, 1, 1, 0, 1)\n",
      "\\item $\\mathbf{\\tilde{q}}^{254} =$ (1, 1, 1, 1, 1, 1, 1, 0)\n",
      "\\item $\\mathbf{\\tilde{q}}^{255} =$ (1, 1, 1, 1, 1, 1, 1, 1)\n"
     ]
    }
   ],
   "source": [
    "for i, st in enumerate(pure_self_reactive):\n",
    "    print(r\"\\item $\\mathbf{\\tilde{q}}^{%s} =$\"% i,  st)"
   ]
  },
  {
   "cell_type": "code",
   "execution_count": 5,
   "id": "7a8b06ed",
   "metadata": {
    "scrolled": true
   },
   "outputs": [
    {
     "name": "stdout",
     "output_type": "stream",
     "text": [
      "$s_{\\mathbf{\\tilde{q}}^{i}, \\mathbf{p}} =$ \\\\\n",
      "$s_{\\mathbf{\\tilde{q}}^{i}, \\mathbf{p}} =$ \\\\\n",
      "$s_{\\mathbf{\\tilde{q}}^{i}, \\mathbf{p}} =$ \\\\\n",
      "$s_{\\mathbf{\\tilde{q}}^{i}, \\mathbf{p}} =$ \\\\\n",
      "$s_{\\mathbf{\\tilde{q}}^{i}, \\mathbf{p}} =$ \\\\\n",
      "$s_{\\mathbf{\\tilde{q}}^{i}, \\mathbf{p}} =$ \\\\\n"
     ]
    }
   ],
   "source": [
    "for i in range(6):\n",
    "    print(r\"$s_{\\mathbf{\\tilde{q}}^{i}, \\mathbf{p}} =$ \\\\\")"
   ]
  },
  {
   "cell_type": "code",
   "execution_count": 13,
   "id": "6b482b51",
   "metadata": {},
   "outputs": [],
   "source": [
    "p1, p2, p3, p4 = sym.symbols(\"p_1, p_2, p_3, p_4\")\n",
    "\n",
    "b, c, x = sym.symbols(\"b, c, x\")"
   ]
  },
  {
   "cell_type": "code",
   "execution_count": 17,
   "id": "3d6e2c8b",
   "metadata": {},
   "outputs": [],
   "source": [
    "def transformed_two_bit_markov(player, analytical=True):\n",
    "    \n",
    "    if analytical == True:\n",
    "        M = sym.Matrix([[player[0], (1 - player[0]), 0, 0],\n",
    "                        [0, 0, player[1], (1 - player[1])],\n",
    "                        [player[2], (1 - player[2]), 0, 0],\n",
    "                        [0, 0, player[3], (1 - player[3])]])\n",
    "    else:\n",
    "        M = np.array([[player[0], (1 - player[0]), 0, 0],\n",
    "                        [0, 0, player[1], (1 - player[1])],\n",
    "                        [player[2], (1 - player[2]), 0, 0],\n",
    "                        [0, 0, player[3], (1 - player[3])]])\n",
    "    \n",
    "    \n",
    "    return M"
   ]
  },
  {
   "cell_type": "code",
   "execution_count": 33,
   "id": "4d2e5b56",
   "metadata": {},
   "outputs": [],
   "source": [
    "ps = [1, p2, p3, p4]"
   ]
  },
  {
   "cell_type": "code",
   "execution_count": 34,
   "id": "63609d19",
   "metadata": {},
   "outputs": [],
   "source": [
    "ppayoffs = []\n",
    "\n",
    "qpayoffs = []\n",
    "\n",
    "for i, player in enumerate(pure_self_reactive):\n",
    "\n",
    "    M = transformed_two_bit_markov(player, analytical=False)\n",
    "    \n",
    "    states = repeated_play.stationary_distribution(M)\n",
    "    \n",
    "    for ss in states:\n",
    "\n",
    "        rho_q = ss[0] + ss[1]\n",
    "        \n",
    "        rho_p = sum([ss[i] * ps[i] for i in range(4)])\n",
    "        \n",
    "        expression_q =  b * rho_p - c * rho_q\n",
    "        \n",
    "        expression_p =  b * rho_q - c * rho_p\n",
    "        \n",
    "        ppayoffs.append((i, expression_p))\n",
    "        qpayoffs.append((i, expression_q))\n",
    "        "
   ]
  },
  {
   "cell_type": "code",
   "execution_count": 50,
   "id": "d1bace00",
   "metadata": {},
   "outputs": [
    {
     "data": {
      "text/plain": [
       "(25, 25)"
      ]
     },
     "execution_count": 50,
     "metadata": {},
     "output_type": "execute_result"
    }
   ],
   "source": [
    "len(qpayoffs), len(ppayoffs)"
   ]
  },
  {
   "cell_type": "code",
   "execution_count": 112,
   "id": "9e79bde8",
   "metadata": {},
   "outputs": [],
   "source": [
    "indices = [i for i, payoff in enumerate(ppayoffs) if ppayoffs[7][1] == payoff[1]] "
   ]
  },
  {
   "cell_type": "code",
   "execution_count": 113,
   "id": "dede9e0a",
   "metadata": {},
   "outputs": [
    {
     "data": {
      "text/plain": [
       "[6, 7]"
      ]
     },
     "execution_count": 113,
     "metadata": {},
     "output_type": "execute_result"
    }
   ],
   "source": [
    "[payoff[0] for i, payoff in enumerate(ppayoffs) if i in indices]"
   ]
  },
  {
   "cell_type": "code",
   "execution_count": 114,
   "id": "26857ade",
   "metadata": {},
   "outputs": [
    {
     "data": {
      "text/plain": [
       "[7, 9]"
      ]
     },
     "execution_count": 114,
     "metadata": {},
     "output_type": "execute_result"
    }
   ],
   "source": [
    "indices"
   ]
  },
  {
   "cell_type": "code",
   "execution_count": 116,
   "id": "07b42e9b",
   "metadata": {},
   "outputs": [
    {
     "data": {
      "text/latex": [
       "$\\displaystyle 0.666666666666667 b - c \\left(0.333333333333333 p_{2} + 0.333333333333333 p_{3} + 0.333333333333333\\right)$"
      ],
      "text/plain": [
       "0.666666666666667*b - c*(0.333333333333333*p_2 + 0.333333333333333*p_3 + 0.333333333333333)"
      ]
     },
     "execution_count": 116,
     "metadata": {},
     "output_type": "execute_result"
    }
   ],
   "source": [
    "ppayoffs[7][1]"
   ]
  },
  {
   "cell_type": "code",
   "execution_count": 118,
   "id": "adcfadd2",
   "metadata": {},
   "outputs": [],
   "source": [
    "expression_four = 2 * b / 3 - c * (p2 + p3 + 1) / 3"
   ]
  },
  {
   "cell_type": "code",
   "execution_count": 119,
   "id": "e585907b",
   "metadata": {},
   "outputs": [
    {
     "data": {
      "text/latex": [
       "$\\displaystyle - 1.48029736616688 \\cdot 10^{-16} c p_{3}$"
      ],
      "text/plain": [
       "-1.48029736616688e-16*c*p_3"
      ]
     },
     "execution_count": 119,
     "metadata": {},
     "output_type": "execute_result"
    }
   ],
   "source": [
    "(ppayoffs[7][1] - expression_four).factor()"
   ]
  },
  {
   "cell_type": "code",
   "execution_count": 120,
   "id": "bc80e3f8",
   "metadata": {},
   "outputs": [
    {
     "name": "stdout",
     "output_type": "stream",
     "text": [
      "\\frac{2 b}{3} - \\frac{c \\left(p_{2} + p_{3} + 1\\right)}{3}\n"
     ]
    }
   ],
   "source": [
    "print(sym.latex(expression_four))"
   ]
  },
  {
   "cell_type": "code",
   "execution_count": 105,
   "id": "ca116291",
   "metadata": {},
   "outputs": [],
   "source": [
    "expression_three = b / 2 - c * (p2 + p3) / 2"
   ]
  },
  {
   "cell_type": "code",
   "execution_count": 106,
   "id": "4ce8abbb",
   "metadata": {},
   "outputs": [
    {
     "data": {
      "text/latex": [
       "$\\displaystyle 0$"
      ],
      "text/plain": [
       "0"
      ]
     },
     "execution_count": 106,
     "metadata": {},
     "output_type": "execute_result"
    }
   ],
   "source": [
    "(ppayoffs[4][1] - expression_three).factor()"
   ]
  },
  {
   "cell_type": "code",
   "execution_count": 107,
   "id": "c10ad699",
   "metadata": {},
   "outputs": [
    {
     "name": "stdout",
     "output_type": "stream",
     "text": [
      "\\frac{b}{2} - \\frac{c \\left(p_{2} + p_{3}\\right)}{2}\n"
     ]
    }
   ],
   "source": [
    "print(sym.latex(expression_three))"
   ]
  },
  {
   "cell_type": "code",
   "execution_count": 95,
   "id": "5a82487a",
   "metadata": {},
   "outputs": [],
   "source": [
    "expression_two = b / 2 - c * (p2 + p3 + p4 + 1) / 4"
   ]
  },
  {
   "cell_type": "code",
   "execution_count": 98,
   "id": "72e52c99",
   "metadata": {},
   "outputs": [
    {
     "data": {
      "text/latex": [
       "$\\displaystyle 2.22044604925031 \\cdot 10^{-16} \\cdot \\left(1.0 b - 0.25 c p_{2} + 0.25 c p_{3} - 0.25 c p_{4} - 0.5 c\\right)$"
      ],
      "text/plain": [
       "2.22044604925031e-16*(1.0*b - 0.25*c*p_2 + 0.25*c*p_3 - 0.25*c*p_4 - 0.5*c)"
      ]
     },
     "execution_count": 98,
     "metadata": {},
     "output_type": "execute_result"
    }
   ],
   "source": [
    "(ppayoffs[3][1] - expression_two).factor()"
   ]
  },
  {
   "cell_type": "code",
   "execution_count": 99,
   "id": "eb6e5a2b",
   "metadata": {},
   "outputs": [
    {
     "name": "stdout",
     "output_type": "stream",
     "text": [
      "\\frac{b}{2} - \\frac{c \\left(p_{2} + p_{3} + p_{4} + 1\\right)}{4}\n"
     ]
    }
   ],
   "source": [
    "print(sym.latex(expression_two))"
   ]
  },
  {
   "cell_type": "code",
   "execution_count": 77,
   "id": "9e040800",
   "metadata": {},
   "outputs": [],
   "source": [
    "expression_one = b / 3 - c * (p2 + p3 + p4)/ 3"
   ]
  },
  {
   "cell_type": "code",
   "execution_count": 83,
   "id": "a7f94fea",
   "metadata": {},
   "outputs": [
    {
     "data": {
      "text/latex": [
       "$\\displaystyle 1.66533453693773 \\cdot 10^{-16} \\cdot \\left(1.0 b - 0.888888888888889 c p_{2}\\right)$"
      ],
      "text/plain": [
       "1.66533453693773e-16*(1.0*b - 0.888888888888889*c*p_2)"
      ]
     },
     "execution_count": 83,
     "metadata": {},
     "output_type": "execute_result"
    }
   ],
   "source": [
    "(ppayoffs[1][1] - expression_one).factor()"
   ]
  },
  {
   "cell_type": "code",
   "execution_count": 87,
   "id": "5b1d98c9",
   "metadata": {},
   "outputs": [
    {
     "name": "stdout",
     "output_type": "stream",
     "text": [
      "\\frac{b}{3} - \\frac{c \\left(p_{2} + p_{3} + p_{4}\\right)}{3}\n"
     ]
    }
   ],
   "source": [
    "print(sym.latex(expression_one))"
   ]
  },
  {
   "cell_type": "code",
   "execution_count": 48,
   "id": "a09d4656",
   "metadata": {},
   "outputs": [
    {
     "data": {
      "text/latex": [
       "$\\displaystyle 0$"
      ],
      "text/plain": [
       "0"
      ]
     },
     "execution_count": 48,
     "metadata": {},
     "output_type": "execute_result"
    }
   ],
   "source": [
    "(qpayoffs[7][1].factor() - (b * (p2 + p3 + 1) / 3 - 2 * c / 3)).factor()"
   ]
  },
  {
   "cell_type": "code",
   "execution_count": 36,
   "id": "30871c94",
   "metadata": {},
   "outputs": [
    {
     "data": {
      "text/latex": [
       "$\\displaystyle \\frac{b \\left(p_{2} + p_{3} + 1\\right)}{3} - c$"
      ],
      "text/plain": [
       "b*(p_2 + p_3 + 1)/3 - c"
      ]
     },
     "execution_count": 36,
     "metadata": {},
     "output_type": "execute_result"
    }
   ],
   "source": [
    "b * (p2 + p3 + 1) / 3 - c"
   ]
  },
  {
   "cell_type": "code",
   "execution_count": 24,
   "id": "1dc742af",
   "metadata": {},
   "outputs": [
    {
     "data": {
      "text/plain": [
       "(0, -1.0*c*p_4)"
      ]
     },
     "execution_count": 24,
     "metadata": {},
     "output_type": "execute_result"
    }
   ],
   "source": [
    "ppayoffs[0]"
   ]
  },
  {
   "cell_type": "code",
   "execution_count": 9,
   "id": "12a6fd92",
   "metadata": {},
   "outputs": [
    {
     "data": {
      "text/plain": [
       "[3 - 2*c/b]"
      ]
     },
     "execution_count": 9,
     "metadata": {},
     "output_type": "execute_result"
    }
   ],
   "source": [
    "sym.solve(b * (x + 1) / 4 - c / 2 - (b - c), x)"
   ]
  },
  {
   "cell_type": "code",
   "execution_count": 10,
   "id": "10c6c25c",
   "metadata": {},
   "outputs": [
    {
     "data": {
      "text/plain": [
       "[2 - c/b]"
      ]
     },
     "execution_count": 10,
     "metadata": {},
     "output_type": "execute_result"
    }
   ],
   "source": [
    "sym.solve(b * (x + 1) / 3 - 2 * c / 3 - (b - c), x)"
   ]
  },
  {
   "cell_type": "markdown",
   "id": "f9474a34",
   "metadata": {},
   "source": [
    "**Three**"
   ]
  },
  {
   "cell_type": "code",
   "execution_count": 35,
   "id": "842a01d4",
   "metadata": {},
   "outputs": [],
   "source": [
    "def transformed_matrix_three(coplayer, analytical=False):\n",
    "    \n",
    "    if analytical == False:\n",
    "    \n",
    "        return np.array([[coplayer[0], (1 - coplayer[0]), 0, 0, 0, 0, 0, 0],\n",
    "                        [0, 0, coplayer[1], (1 - coplayer[1]), 0, 0, 0, 0],\n",
    "                        [0, 0, 0, 0, coplayer[2], (1 - coplayer[2]), 0, 0],\n",
    "                        [0, 0, 0, 0, 0, 0, coplayer[3], (1 - coplayer[3])],\n",
    "                        [coplayer[4], (1 - coplayer[4]), 0, 0, 0, 0, 0, 0],\n",
    "                        [0, 0, coplayer[5], (1 - coplayer[5]), 0, 0, 0, 0],\n",
    "                        [0, 0, 0, 0, coplayer[6], (1 - coplayer[6]), 0, 0],\n",
    "                        [0, 0, 0, 0, 0, 0, coplayer[7], (1 - coplayer[7])]])\n",
    "    \n",
    "    if analytical == True:\n",
    "\n",
    "        return sym.Matrix([[coplayer[0], (1 - coplayer[0]), 0, 0, 0, 0, 0, 0],\n",
    "                        [0, 0, coplayer[1], (1 - coplayer[1]), 0, 0, 0, 0],\n",
    "                        [0, 0, 0, 0, coplayer[2], (1 - coplayer[2]), 0, 0],\n",
    "                        [0, 0, 0, 0, 0, 0, coplayer[3], (1 - coplayer[3])],\n",
    "                        [coplayer[4], (1 - coplayer[4]), 0, 0, 0, 0, 0, 0],\n",
    "                        [0, 0, coplayer[5], (1 - coplayer[5]), 0, 0, 0, 0],\n",
    "                        [0, 0, 0, 0, coplayer[6], (1 - coplayer[6]), 0, 0],\n",
    "                        [0, 0, 0, 0, 0, 0, coplayer[7], (1 - coplayer[7])]])"
   ]
  },
  {
   "cell_type": "code",
   "execution_count": 36,
   "id": "f644666a",
   "metadata": {},
   "outputs": [],
   "source": [
    "u_ccc, u_ccd, u_cdc, u_cdd, u_dcc, u_dcd, u_ddc, u_ddd = sym.symbols(\"u_ccc, u_ccd, u_cdc, u_cdd, u_dcc, u_dcd, u_ddc, u_ddd\")"
   ]
  },
  {
   "cell_type": "code",
   "execution_count": 37,
   "id": "d37145a0",
   "metadata": {},
   "outputs": [],
   "source": [
    "p1, p2, p3, p4, p5, p6, p7, p8 = sym.symbols(\"p_ccc, p_ccd, p_cdc, p_cdd, p_dcc, p_dcd, p_ddc, p_ddd\")"
   ]
  },
  {
   "cell_type": "code",
   "execution_count": 46,
   "id": "5ae37f7c",
   "metadata": {},
   "outputs": [],
   "source": [
    "v = [u_ccc, u_ccd, u_cdc, u_cdd, u_dcc, u_dcd, u_ddc, u_ddd]"
   ]
  },
  {
   "cell_type": "code",
   "execution_count": 47,
   "id": "6e51a01e",
   "metadata": {},
   "outputs": [],
   "source": [
    "p = [p1, p2, p3, p4, p5, p6, p7, p8]"
   ]
  },
  {
   "cell_type": "code",
   "execution_count": 49,
   "id": "b230b74e",
   "metadata": {},
   "outputs": [
    {
     "data": {
      "text/latex": [
       "$\\displaystyle p_{ccc} u_{ccc} + p_{ccd} u_{ccd} + p_{cdc} u_{cdc} + p_{cdd} u_{cdd} + p_{dcc} u_{dcc} + p_{dcd} u_{dcd} + p_{ddc} u_{ddc} + p_{ddd} u_{ddd}$"
      ],
      "text/plain": [
       "p_ccc*u_ccc + p_ccd*u_ccd + p_cdc*u_cdc + p_cdd*u_cdd + p_dcc*u_dcc + p_dcd*u_dcd + p_ddc*u_ddc + p_ddd*u_ddd"
      ]
     },
     "execution_count": 49,
     "metadata": {},
     "output_type": "execute_result"
    }
   ],
   "source": [
    "b * sum([v[i] * p[i] for i in range(8)]) - c * "
   ]
  },
  {
   "cell_type": "code",
   "execution_count": 51,
   "id": "e07b0f9c",
   "metadata": {},
   "outputs": [],
   "source": [
    "M = transformed_matrix_three(p, analytical=True)"
   ]
  },
  {
   "cell_type": "code",
   "execution_count": 52,
   "id": "65364ec2",
   "metadata": {},
   "outputs": [],
   "source": [
    "ss = repeated_play.stationary_distribution(M, analytical=True)"
   ]
  },
  {
   "cell_type": "code",
   "execution_count": 53,
   "id": "4ec7ef0a",
   "metadata": {},
   "outputs": [],
   "source": [
    "ss = [s.factor() for s in ss]"
   ]
  },
  {
   "cell_type": "code",
   "execution_count": 59,
   "id": "5239c617",
   "metadata": {},
   "outputs": [
    {
     "data": {
      "text/plain": [
       "[False, True, False, False, True, False, False, False]"
      ]
     },
     "execution_count": 59,
     "metadata": {},
     "output_type": "execute_result"
    }
   ],
   "source": [
    "[(ss[1] - ss[i]).factor() == 0 for i in range(8)]"
   ]
  },
  {
   "cell_type": "code",
   "execution_count": 61,
   "id": "902568d5",
   "metadata": {},
   "outputs": [
    {
     "data": {
      "text/latex": [
       "$\\displaystyle 0$"
      ],
      "text/plain": [
       "0"
      ]
     },
     "execution_count": 61,
     "metadata": {},
     "output_type": "execute_result"
    }
   ],
   "source": [
    "(ss[1] - ss[4]).factor()"
   ]
  },
  {
   "cell_type": "code",
   "execution_count": 63,
   "id": "0ac24025",
   "metadata": {},
   "outputs": [
    {
     "data": {
      "text/latex": [
       "$\\displaystyle 0$"
      ],
      "text/plain": [
       "0"
      ]
     },
     "execution_count": 63,
     "metadata": {},
     "output_type": "execute_result"
    }
   ],
   "source": [
    "((ss[1] + ss[5]) - (ss[2] + ss[6])).factor()"
   ]
  },
  {
   "cell_type": "code",
   "execution_count": 65,
   "id": "fea729be",
   "metadata": {},
   "outputs": [
    {
     "data": {
      "text/latex": [
       "$\\displaystyle 0$"
      ],
      "text/plain": [
       "0"
      ]
     },
     "execution_count": 65,
     "metadata": {},
     "output_type": "execute_result"
    }
   ],
   "source": [
    "((ss[1] + ss[3]) - (ss[4] + ss[6])).factor()"
   ]
  },
  {
   "cell_type": "code",
   "execution_count": 67,
   "id": "63306bbe",
   "metadata": {},
   "outputs": [
    {
     "data": {
      "text/latex": [
       "$\\displaystyle 0$"
      ],
      "text/plain": [
       "0"
      ]
     },
     "execution_count": 67,
     "metadata": {},
     "output_type": "execute_result"
    }
   ],
   "source": [
    "(ss[3] - ss[6]).factor()"
   ]
  },
  {
   "cell_type": "code",
   "execution_count": null,
   "id": "56b72910",
   "metadata": {},
   "outputs": [],
   "source": []
  }
 ],
 "metadata": {
  "kernelspec": {
   "display_name": "Python 3 (ipykernel)",
   "language": "python",
   "name": "python3"
  },
  "language_info": {
   "codemirror_mode": {
    "name": "ipython",
    "version": 3
   },
   "file_extension": ".py",
   "mimetype": "text/x-python",
   "name": "python",
   "nbconvert_exporter": "python",
   "pygments_lexer": "ipython3",
   "version": "3.11.3"
  }
 },
 "nbformat": 4,
 "nbformat_minor": 5
}
