{
 "cells": [
  {
   "cell_type": "code",
   "execution_count": 1,
   "id": "a8ba4a5c",
   "metadata": {},
   "outputs": [],
   "source": [
    "import repeated_play"
   ]
  },
  {
   "cell_type": "code",
   "execution_count": 2,
   "id": "10302aef",
   "metadata": {},
   "outputs": [],
   "source": [
    "import sympy as sym\n",
    "\n",
    "import itertools"
   ]
  },
  {
   "cell_type": "code",
   "execution_count": 5,
   "id": "9c280c86",
   "metadata": {},
   "outputs": [],
   "source": [
    "pure_self_reactive = list(itertools.product([0, 1], repeat=4))"
   ]
  },
  {
   "cell_type": "code",
   "execution_count": null,
   "id": "470364cf",
   "metadata": {},
   "outputs": [],
   "source": []
  }
 ],
 "metadata": {
  "kernelspec": {
   "display_name": "Python 3 (ipykernel)",
   "language": "python",
   "name": "python3"
  },
  "language_info": {
   "codemirror_mode": {
    "name": "ipython",
    "version": 3
   },
   "file_extension": ".py",
   "mimetype": "text/x-python",
   "name": "python",
   "nbconvert_exporter": "python",
   "pygments_lexer": "ipython3",
   "version": "3.9.13"
  }
 },
 "nbformat": 4,
 "nbformat_minor": 5
}
