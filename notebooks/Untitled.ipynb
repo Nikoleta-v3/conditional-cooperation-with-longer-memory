{
 "cells": [
  {
   "cell_type": "code",
   "execution_count": 1,
   "id": "a8ba4a5c",
   "metadata": {},
   "outputs": [],
   "source": [
    "import repeated_play"
   ]
  },
  {
   "cell_type": "code",
   "execution_count": 2,
   "id": "10302aef",
   "metadata": {},
   "outputs": [],
   "source": [
    "import sympy as sym\n",
    "\n",
    "import itertools"
   ]
  },
  {
   "cell_type": "code",
   "execution_count": 3,
   "id": "9c280c86",
   "metadata": {},
   "outputs": [],
   "source": [
    "pure_self_reactive = list(itertools.product([0, 1], repeat=4))"
   ]
  },
  {
   "cell_type": "code",
   "execution_count": 11,
   "id": "470364cf",
   "metadata": {
    "scrolled": true
   },
   "outputs": [
    {
     "name": "stdout",
     "output_type": "stream",
     "text": [
      "\\item $\\mathbf{\\tilde{q}}^{0} =$ (0, 0, 0, 0)\n",
      "\\item $\\mathbf{\\tilde{q}}^{1} =$ (0, 0, 0, 1)\n",
      "\\item $\\mathbf{\\tilde{q}}^{2} =$ (0, 0, 1, 0)\n",
      "\\item $\\mathbf{\\tilde{q}}^{3} =$ (0, 0, 1, 1)\n",
      "\\item $\\mathbf{\\tilde{q}}^{4} =$ (0, 1, 0, 0)\n",
      "\\item $\\mathbf{\\tilde{q}}^{5} =$ (0, 1, 0, 1)\n",
      "\\item $\\mathbf{\\tilde{q}}^{6} =$ (0, 1, 1, 0)\n",
      "\\item $\\mathbf{\\tilde{q}}^{7} =$ (0, 1, 1, 1)\n",
      "\\item $\\mathbf{\\tilde{q}}^{8} =$ (1, 0, 0, 0)\n",
      "\\item $\\mathbf{\\tilde{q}}^{9} =$ (1, 0, 0, 1)\n",
      "\\item $\\mathbf{\\tilde{q}}^{10} =$ (1, 0, 1, 0)\n",
      "\\item $\\mathbf{\\tilde{q}}^{11} =$ (1, 0, 1, 1)\n",
      "\\item $\\mathbf{\\tilde{q}}^{12} =$ (1, 1, 0, 0)\n",
      "\\item $\\mathbf{\\tilde{q}}^{13} =$ (1, 1, 0, 1)\n",
      "\\item $\\mathbf{\\tilde{q}}^{14} =$ (1, 1, 1, 0)\n",
      "\\item $\\mathbf{\\tilde{q}}^{15} =$ (1, 1, 1, 1)\n"
     ]
    }
   ],
   "source": [
    "for i, st in enumerate(pure_self_reactive):\n",
    "    print(r\"\\item $\\mathbf{\\tilde{q}}^{%s} =$\"% i,  st)"
   ]
  },
  {
   "cell_type": "code",
   "execution_count": 16,
   "id": "7a8b06ed",
   "metadata": {
    "scrolled": true
   },
   "outputs": [
    {
     "name": "stdout",
     "output_type": "stream",
     "text": [
      "$s_{\\mathbf{\\tilde{q}}^{i}, \\mathbf{p}} =$ \\\\\n",
      "$s_{\\mathbf{\\tilde{q}}^{i}, \\mathbf{p}} =$ \\\\\n",
      "$s_{\\mathbf{\\tilde{q}}^{i}, \\mathbf{p}} =$ \\\\\n",
      "$s_{\\mathbf{\\tilde{q}}^{i}, \\mathbf{p}} =$ \\\\\n",
      "$s_{\\mathbf{\\tilde{q}}^{i}, \\mathbf{p}} =$ \\\\\n",
      "$s_{\\mathbf{\\tilde{q}}^{i}, \\mathbf{p}} =$ \\\\\n"
     ]
    }
   ],
   "source": [
    "for i in range(6):\n",
    "    print(r\"$s_{\\mathbf{\\tilde{q}}^{i}, \\mathbf{p}} =$ \\\\\")"
   ]
  },
  {
   "cell_type": "code",
   "execution_count": 21,
   "id": "6b482b51",
   "metadata": {},
   "outputs": [],
   "source": [
    "p1, p2, p3, p4 = sym.symbols(\"p_1, p_2, p_3, p_4\")\n",
    "\n",
    "b, c, x = sym.symbols(\"b, c, x\")"
   ]
  },
  {
   "cell_type": "code",
   "execution_count": 18,
   "id": "3d6e2c8b",
   "metadata": {},
   "outputs": [],
   "source": [
    "def transformed_two_bit_markov(player, analytical=True):\n",
    "    \n",
    "    if analytical == True:\n",
    "        M = sym.Matrix([[player[0], (1 - player[0]), 0, 0],\n",
    "                        [0, 0, player[1], (1 - player[1])],\n",
    "                        [player[2], (1 - player[2]), 0, 0],\n",
    "                        [0, 0, player[3], (1 - player[3])]])\n",
    "    else:\n",
    "        M = np.array([[player[0], (1 - player[0]), 0, 0],\n",
    "                        [0, 0, player[1], (1 - player[1])],\n",
    "                        [player[2], (1 - player[2]), 0, 0],\n",
    "                        [0, 0, player[3], (1 - player[3])]])\n",
    "    \n",
    "    \n",
    "    return M"
   ]
  },
  {
   "cell_type": "code",
   "execution_count": 30,
   "id": "63609d19",
   "metadata": {},
   "outputs": [
    {
     "data": {
      "text/latex": [
       "$\\displaystyle \\frac{b \\left(x + 1\\right)}{4} - b + \\frac{c}{2}$"
      ],
      "text/plain": [
       "b*(x + 1)/4 - b + c/2"
      ]
     },
     "execution_count": 30,
     "metadata": {},
     "output_type": "execute_result"
    }
   ],
   "source": [
    "b * (x + 1) / 4 - c / 2 - (b - c)"
   ]
  },
  {
   "cell_type": "code",
   "execution_count": 31,
   "id": "12a6fd92",
   "metadata": {},
   "outputs": [
    {
     "data": {
      "text/plain": [
       "[3 - 2*c/b]"
      ]
     },
     "execution_count": 31,
     "metadata": {},
     "output_type": "execute_result"
    }
   ],
   "source": [
    "sym.solve(b * (x + 1) / 4 - c / 2 - (b - c), x)"
   ]
  },
  {
   "cell_type": "code",
   "execution_count": 34,
   "id": "10c6c25c",
   "metadata": {},
   "outputs": [
    {
     "data": {
      "text/plain": [
       "[2 - c/b]"
      ]
     },
     "execution_count": 34,
     "metadata": {},
     "output_type": "execute_result"
    }
   ],
   "source": [
    "sym.solve(b * (x + 1) / 3 - 2 * c / 3 - (b - c), x)"
   ]
  },
  {
   "cell_type": "code",
   "execution_count": 35,
   "id": "842a01d4",
   "metadata": {},
   "outputs": [],
   "source": [
    "def transformed_matrix_three(coplayer, analytical=False):\n",
    "    \n",
    "    if analytical == False:\n",
    "    \n",
    "        return np.array([[coplayer[0], (1 - coplayer[0]), 0, 0, 0, 0, 0, 0],\n",
    "                        [0, 0, coplayer[1], (1 - coplayer[1]), 0, 0, 0, 0],\n",
    "                        [0, 0, 0, 0, coplayer[2], (1 - coplayer[2]), 0, 0],\n",
    "                        [0, 0, 0, 0, 0, 0, coplayer[3], (1 - coplayer[3])],\n",
    "                        [coplayer[4], (1 - coplayer[4]), 0, 0, 0, 0, 0, 0],\n",
    "                        [0, 0, coplayer[5], (1 - coplayer[5]), 0, 0, 0, 0],\n",
    "                        [0, 0, 0, 0, coplayer[6], (1 - coplayer[6]), 0, 0],\n",
    "                        [0, 0, 0, 0, 0, 0, coplayer[7], (1 - coplayer[7])]])\n",
    "    \n",
    "    if analytical == True:\n",
    "\n",
    "        return sym.Matrix([[coplayer[0], (1 - coplayer[0]), 0, 0, 0, 0, 0, 0],\n",
    "                        [0, 0, coplayer[1], (1 - coplayer[1]), 0, 0, 0, 0],\n",
    "                        [0, 0, 0, 0, coplayer[2], (1 - coplayer[2]), 0, 0],\n",
    "                        [0, 0, 0, 0, 0, 0, coplayer[3], (1 - coplayer[3])],\n",
    "                        [coplayer[4], (1 - coplayer[4]), 0, 0, 0, 0, 0, 0],\n",
    "                        [0, 0, coplayer[5], (1 - coplayer[5]), 0, 0, 0, 0],\n",
    "                        [0, 0, 0, 0, coplayer[6], (1 - coplayer[6]), 0, 0],\n",
    "                        [0, 0, 0, 0, 0, 0, coplayer[7], (1 - coplayer[7])]])"
   ]
  },
  {
   "cell_type": "code",
   "execution_count": 36,
   "id": "f644666a",
   "metadata": {},
   "outputs": [],
   "source": [
    "u_ccc, u_ccd, u_cdc, u_cdd, u_dcc, u_dcd, u_ddc, u_ddd = sym.symbols(\"u_ccc, u_ccd, u_cdc, u_cdd, u_dcc, u_dcd, u_ddc, u_ddd\")"
   ]
  },
  {
   "cell_type": "code",
   "execution_count": 37,
   "id": "d37145a0",
   "metadata": {},
   "outputs": [],
   "source": [
    "p1, p2, p3, p4, p5, p6, p7, p8 = sym.symbols(\"p_ccc, p_ccd, p_cdc, p_cdd, p_dcc, p_dcd, p_ddc, p_ddd\")"
   ]
  },
  {
   "cell_type": "code",
   "execution_count": 46,
   "id": "5ae37f7c",
   "metadata": {},
   "outputs": [],
   "source": [
    "v = [u_ccc, u_ccd, u_cdc, u_cdd, u_dcc, u_dcd, u_ddc, u_ddd]"
   ]
  },
  {
   "cell_type": "code",
   "execution_count": 47,
   "id": "6e51a01e",
   "metadata": {},
   "outputs": [],
   "source": [
    "p = [p1, p2, p3, p4, p5, p6, p7, p8]"
   ]
  },
  {
   "cell_type": "code",
   "execution_count": 49,
   "id": "b230b74e",
   "metadata": {},
   "outputs": [
    {
     "data": {
      "text/latex": [
       "$\\displaystyle p_{ccc} u_{ccc} + p_{ccd} u_{ccd} + p_{cdc} u_{cdc} + p_{cdd} u_{cdd} + p_{dcc} u_{dcc} + p_{dcd} u_{dcd} + p_{ddc} u_{ddc} + p_{ddd} u_{ddd}$"
      ],
      "text/plain": [
       "p_ccc*u_ccc + p_ccd*u_ccd + p_cdc*u_cdc + p_cdd*u_cdd + p_dcc*u_dcc + p_dcd*u_dcd + p_ddc*u_ddc + p_ddd*u_ddd"
      ]
     },
     "execution_count": 49,
     "metadata": {},
     "output_type": "execute_result"
    }
   ],
   "source": [
    "b * sum([v[i] * p[i] for i in range(8)]) - c * "
   ]
  },
  {
   "cell_type": "code",
   "execution_count": 51,
   "id": "e07b0f9c",
   "metadata": {},
   "outputs": [],
   "source": [
    "M = transformed_matrix_three(p, analytical=True)"
   ]
  },
  {
   "cell_type": "code",
   "execution_count": 52,
   "id": "65364ec2",
   "metadata": {},
   "outputs": [],
   "source": [
    "ss = repeated_play.stationary_distribution(M, analytical=True)"
   ]
  },
  {
   "cell_type": "code",
   "execution_count": 53,
   "id": "4ec7ef0a",
   "metadata": {},
   "outputs": [],
   "source": [
    "ss = [s.factor() for s in ss]"
   ]
  },
  {
   "cell_type": "code",
   "execution_count": 59,
   "id": "5239c617",
   "metadata": {},
   "outputs": [
    {
     "data": {
      "text/plain": [
       "[False, True, False, False, True, False, False, False]"
      ]
     },
     "execution_count": 59,
     "metadata": {},
     "output_type": "execute_result"
    }
   ],
   "source": [
    "[(ss[1] - ss[i]).factor() == 0 for i in range(8)]"
   ]
  },
  {
   "cell_type": "code",
   "execution_count": 61,
   "id": "902568d5",
   "metadata": {},
   "outputs": [
    {
     "data": {
      "text/latex": [
       "$\\displaystyle 0$"
      ],
      "text/plain": [
       "0"
      ]
     },
     "execution_count": 61,
     "metadata": {},
     "output_type": "execute_result"
    }
   ],
   "source": [
    "(ss[1] - ss[4]).factor()"
   ]
  },
  {
   "cell_type": "code",
   "execution_count": 63,
   "id": "0ac24025",
   "metadata": {},
   "outputs": [
    {
     "data": {
      "text/latex": [
       "$\\displaystyle 0$"
      ],
      "text/plain": [
       "0"
      ]
     },
     "execution_count": 63,
     "metadata": {},
     "output_type": "execute_result"
    }
   ],
   "source": [
    "((ss[1] + ss[5]) - (ss[2] + ss[6])).factor()"
   ]
  },
  {
   "cell_type": "code",
   "execution_count": 65,
   "id": "fea729be",
   "metadata": {},
   "outputs": [
    {
     "data": {
      "text/latex": [
       "$\\displaystyle 0$"
      ],
      "text/plain": [
       "0"
      ]
     },
     "execution_count": 65,
     "metadata": {},
     "output_type": "execute_result"
    }
   ],
   "source": [
    "((ss[1] + ss[3]) - (ss[4] + ss[6])).factor()"
   ]
  },
  {
   "cell_type": "code",
   "execution_count": 67,
   "id": "63306bbe",
   "metadata": {},
   "outputs": [
    {
     "data": {
      "text/latex": [
       "$\\displaystyle 0$"
      ],
      "text/plain": [
       "0"
      ]
     },
     "execution_count": 67,
     "metadata": {},
     "output_type": "execute_result"
    }
   ],
   "source": [
    "(ss[3] - ss[6]).factor()"
   ]
  },
  {
   "cell_type": "code",
   "execution_count": null,
   "id": "56b72910",
   "metadata": {},
   "outputs": [],
   "source": []
  }
 ],
 "metadata": {
  "kernelspec": {
   "display_name": "Python 3 (ipykernel)",
   "language": "python",
   "name": "python3"
  },
  "language_info": {
   "codemirror_mode": {
    "name": "ipython",
    "version": 3
   },
   "file_extension": ".py",
   "mimetype": "text/x-python",
   "name": "python",
   "nbconvert_exporter": "python",
   "pygments_lexer": "ipython3",
   "version": "3.11.3"
  }
 },
 "nbformat": 4,
 "nbformat_minor": 5
}
