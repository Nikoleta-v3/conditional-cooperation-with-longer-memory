{
 "cells": [
  {
   "cell_type": "code",
   "execution_count": 1,
   "id": "78722835",
   "metadata": {},
   "outputs": [],
   "source": [
    "import pandas as pd"
   ]
  },
  {
   "cell_type": "code",
   "execution_count": 2,
   "id": "26891d1a",
   "metadata": {},
   "outputs": [],
   "source": [
    "import matplotlib.pyplot as plt"
   ]
  },
  {
   "cell_type": "markdown",
   "id": "6ed70dc4",
   "metadata": {},
   "source": [
    "Let's fix one b and beta value and let's look at the evolution."
   ]
  },
  {
   "cell_type": "code",
   "execution_count": 3,
   "id": "32db2a09",
   "metadata": {},
   "outputs": [],
   "source": [
    "reactive2 = pd.read_csv(\"../prc_data/evolution_over_c_and_beta_reactive_two.csv\", index_col=0)"
   ]
  },
  {
   "cell_type": "code",
   "execution_count": 4,
   "id": "00fb31c9",
   "metadata": {},
   "outputs": [],
   "source": [
    "reactive2 = reactive2[(reactive2['beta'] == 1) & (reactive2['c'] == 0.3)]"
   ]
  },
  {
   "cell_type": "code",
   "execution_count": 5,
   "id": "01a2e8fc",
   "metadata": {},
   "outputs": [],
   "source": [
    "counting2 = pd.read_csv(\"../prc_data/evolution_over_c_and_beta_reactive_counting_two.csv\", index_col=0)"
   ]
  },
  {
   "cell_type": "code",
   "execution_count": 6,
   "id": "458b5ee0",
   "metadata": {},
   "outputs": [],
   "source": [
    "counting2 = counting2[(counting2['beta'] == 1) & (counting2['c'] == 0.3)]"
   ]
  },
  {
   "cell_type": "code",
   "execution_count": 7,
   "id": "8f8c337b",
   "metadata": {},
   "outputs": [
    {
     "data": {
      "text/html": [
       "<div>\n",
       "<style scoped>\n",
       "    .dataframe tbody tr th:only-of-type {\n",
       "        vertical-align: middle;\n",
       "    }\n",
       "\n",
       "    .dataframe tbody tr th {\n",
       "        vertical-align: top;\n",
       "    }\n",
       "\n",
       "    .dataframe thead th {\n",
       "        text-align: right;\n",
       "    }\n",
       "</style>\n",
       "<table border=\"1\" class=\"dataframe\">\n",
       "  <thead>\n",
       "    <tr style=\"text-align: right;\">\n",
       "      <th></th>\n",
       "      <th>p_1</th>\n",
       "      <th>p_2</th>\n",
       "      <th>p_3</th>\n",
       "      <th>p_4</th>\n",
       "      <th>t</th>\n",
       "      <th>cooperation</th>\n",
       "      <th>c</th>\n",
       "      <th>beta</th>\n",
       "      <th>frequencies</th>\n",
       "      <th>frequencies norm</th>\n",
       "      <th>isPartner</th>\n",
       "    </tr>\n",
       "  </thead>\n",
       "  <tbody>\n",
       "    <tr>\n",
       "      <th>40866</th>\n",
       "      <td>0.227319</td>\n",
       "      <td>0.573260</td>\n",
       "      <td>0.649156</td>\n",
       "      <td>0.889843</td>\n",
       "      <td>9465206</td>\n",
       "      <td>0.548340</td>\n",
       "      <td>0.3</td>\n",
       "      <td>1.0</td>\n",
       "      <td>1</td>\n",
       "      <td>1.000000e-07</td>\n",
       "      <td>False</td>\n",
       "    </tr>\n",
       "    <tr>\n",
       "      <th>38501</th>\n",
       "      <td>0.798186</td>\n",
       "      <td>0.237782</td>\n",
       "      <td>0.988736</td>\n",
       "      <td>0.469724</td>\n",
       "      <td>8860545</td>\n",
       "      <td>0.683073</td>\n",
       "      <td>0.3</td>\n",
       "      <td>1.0</td>\n",
       "      <td>1</td>\n",
       "      <td>1.000000e-07</td>\n",
       "      <td>False</td>\n",
       "    </tr>\n",
       "    <tr>\n",
       "      <th>13120</th>\n",
       "      <td>0.982516</td>\n",
       "      <td>0.439126</td>\n",
       "      <td>0.734244</td>\n",
       "      <td>0.920583</td>\n",
       "      <td>2903021</td>\n",
       "      <td>0.946676</td>\n",
       "      <td>0.3</td>\n",
       "      <td>1.0</td>\n",
       "      <td>1</td>\n",
       "      <td>1.000000e-07</td>\n",
       "      <td>False</td>\n",
       "    </tr>\n",
       "    <tr>\n",
       "      <th>32209</th>\n",
       "      <td>0.612387</td>\n",
       "      <td>0.855195</td>\n",
       "      <td>0.633916</td>\n",
       "      <td>0.835239</td>\n",
       "      <td>7357067</td>\n",
       "      <td>0.690263</td>\n",
       "      <td>0.3</td>\n",
       "      <td>1.0</td>\n",
       "      <td>1</td>\n",
       "      <td>1.000000e-07</td>\n",
       "      <td>False</td>\n",
       "    </tr>\n",
       "    <tr>\n",
       "      <th>18169</th>\n",
       "      <td>0.754140</td>\n",
       "      <td>0.994526</td>\n",
       "      <td>0.610579</td>\n",
       "      <td>0.941161</td>\n",
       "      <td>4149362</td>\n",
       "      <td>0.779314</td>\n",
       "      <td>0.3</td>\n",
       "      <td>1.0</td>\n",
       "      <td>1</td>\n",
       "      <td>1.000000e-07</td>\n",
       "      <td>False</td>\n",
       "    </tr>\n",
       "    <tr>\n",
       "      <th>...</th>\n",
       "      <td>...</td>\n",
       "      <td>...</td>\n",
       "      <td>...</td>\n",
       "      <td>...</td>\n",
       "      <td>...</td>\n",
       "      <td>...</td>\n",
       "      <td>...</td>\n",
       "      <td>...</td>\n",
       "      <td>...</td>\n",
       "      <td>...</td>\n",
       "      <td>...</td>\n",
       "    </tr>\n",
       "    <tr>\n",
       "      <th>23240</th>\n",
       "      <td>0.999720</td>\n",
       "      <td>0.949090</td>\n",
       "      <td>0.068877</td>\n",
       "      <td>0.385088</td>\n",
       "      <td>5266145</td>\n",
       "      <td>0.994860</td>\n",
       "      <td>0.3</td>\n",
       "      <td>1.0</td>\n",
       "      <td>26401</td>\n",
       "      <td>2.640100e-03</td>\n",
       "      <td>True</td>\n",
       "    </tr>\n",
       "    <tr>\n",
       "      <th>17713</th>\n",
       "      <td>0.994008</td>\n",
       "      <td>0.526246</td>\n",
       "      <td>0.641508</td>\n",
       "      <td>0.350859</td>\n",
       "      <td>4041809</td>\n",
       "      <td>0.973604</td>\n",
       "      <td>0.3</td>\n",
       "      <td>1.0</td>\n",
       "      <td>27129</td>\n",
       "      <td>2.712900e-03</td>\n",
       "      <td>True</td>\n",
       "    </tr>\n",
       "    <tr>\n",
       "      <th>3458</th>\n",
       "      <td>0.996633</td>\n",
       "      <td>0.296425</td>\n",
       "      <td>0.497306</td>\n",
       "      <td>0.562669</td>\n",
       "      <td>779936</td>\n",
       "      <td>0.965205</td>\n",
       "      <td>0.3</td>\n",
       "      <td>1.0</td>\n",
       "      <td>28254</td>\n",
       "      <td>2.825400e-03</td>\n",
       "      <td>True</td>\n",
       "    </tr>\n",
       "    <tr>\n",
       "      <th>26748</th>\n",
       "      <td>0.999985</td>\n",
       "      <td>0.160136</td>\n",
       "      <td>0.553336</td>\n",
       "      <td>0.035629</td>\n",
       "      <td>6065759</td>\n",
       "      <td>0.996381</td>\n",
       "      <td>0.3</td>\n",
       "      <td>1.0</td>\n",
       "      <td>29019</td>\n",
       "      <td>2.901900e-03</td>\n",
       "      <td>True</td>\n",
       "    </tr>\n",
       "    <tr>\n",
       "      <th>12776</th>\n",
       "      <td>0.998726</td>\n",
       "      <td>0.234634</td>\n",
       "      <td>0.577597</td>\n",
       "      <td>0.624970</td>\n",
       "      <td>2796012</td>\n",
       "      <td>0.987775</td>\n",
       "      <td>0.3</td>\n",
       "      <td>1.0</td>\n",
       "      <td>30116</td>\n",
       "      <td>3.011600e-03</td>\n",
       "      <td>True</td>\n",
       "    </tr>\n",
       "  </tbody>\n",
       "</table>\n",
       "<p>42962 rows × 11 columns</p>\n",
       "</div>"
      ],
      "text/plain": [
       "            p_1       p_2       p_3       p_4        t  cooperation    c  \\\n",
       "40866  0.227319  0.573260  0.649156  0.889843  9465206     0.548340  0.3   \n",
       "38501  0.798186  0.237782  0.988736  0.469724  8860545     0.683073  0.3   \n",
       "13120  0.982516  0.439126  0.734244  0.920583  2903021     0.946676  0.3   \n",
       "32209  0.612387  0.855195  0.633916  0.835239  7357067     0.690263  0.3   \n",
       "18169  0.754140  0.994526  0.610579  0.941161  4149362     0.779314  0.3   \n",
       "...         ...       ...       ...       ...      ...          ...  ...   \n",
       "23240  0.999720  0.949090  0.068877  0.385088  5266145     0.994860  0.3   \n",
       "17713  0.994008  0.526246  0.641508  0.350859  4041809     0.973604  0.3   \n",
       "3458   0.996633  0.296425  0.497306  0.562669   779936     0.965205  0.3   \n",
       "26748  0.999985  0.160136  0.553336  0.035629  6065759     0.996381  0.3   \n",
       "12776  0.998726  0.234634  0.577597  0.624970  2796012     0.987775  0.3   \n",
       "\n",
       "       beta  frequencies  frequencies norm  isPartner  \n",
       "40866   1.0            1      1.000000e-07      False  \n",
       "38501   1.0            1      1.000000e-07      False  \n",
       "13120   1.0            1      1.000000e-07      False  \n",
       "32209   1.0            1      1.000000e-07      False  \n",
       "18169   1.0            1      1.000000e-07      False  \n",
       "...     ...          ...               ...        ...  \n",
       "23240   1.0        26401      2.640100e-03       True  \n",
       "17713   1.0        27129      2.712900e-03       True  \n",
       "3458    1.0        28254      2.825400e-03       True  \n",
       "26748   1.0        29019      2.901900e-03       True  \n",
       "12776   1.0        30116      3.011600e-03       True  \n",
       "\n",
       "[42962 rows x 11 columns]"
      ]
     },
     "execution_count": 7,
     "metadata": {},
     "output_type": "execute_result"
    }
   ],
   "source": [
    "reactive2.sort_values('frequencies norm')"
   ]
  },
  {
   "cell_type": "code",
   "execution_count": 8,
   "id": "b0d8bf37",
   "metadata": {},
   "outputs": [
    {
     "data": {
      "text/html": [
       "<div>\n",
       "<style scoped>\n",
       "    .dataframe tbody tr th:only-of-type {\n",
       "        vertical-align: middle;\n",
       "    }\n",
       "\n",
       "    .dataframe tbody tr th {\n",
       "        vertical-align: top;\n",
       "    }\n",
       "\n",
       "    .dataframe thead th {\n",
       "        text-align: right;\n",
       "    }\n",
       "</style>\n",
       "<table border=\"1\" class=\"dataframe\">\n",
       "  <thead>\n",
       "    <tr style=\"text-align: right;\">\n",
       "      <th></th>\n",
       "      <th>p_1</th>\n",
       "      <th>p_2</th>\n",
       "      <th>p_3</th>\n",
       "      <th>p_4</th>\n",
       "      <th>t</th>\n",
       "      <th>cooperation</th>\n",
       "      <th>c</th>\n",
       "      <th>beta</th>\n",
       "      <th>frequencies</th>\n",
       "      <th>frequencies norm</th>\n",
       "      <th>isPartner</th>\n",
       "    </tr>\n",
       "  </thead>\n",
       "  <tbody>\n",
       "    <tr>\n",
       "      <th>47335</th>\n",
       "      <td>0.325604</td>\n",
       "      <td>0.381734</td>\n",
       "      <td>0.381734</td>\n",
       "      <td>0.921462</td>\n",
       "      <td>7172212</td>\n",
       "      <td>0.510056</td>\n",
       "      <td>0.3</td>\n",
       "      <td>1.0</td>\n",
       "      <td>1</td>\n",
       "      <td>1.000000e-07</td>\n",
       "      <td>False</td>\n",
       "    </tr>\n",
       "    <tr>\n",
       "      <th>58241</th>\n",
       "      <td>0.599264</td>\n",
       "      <td>0.656198</td>\n",
       "      <td>0.656198</td>\n",
       "      <td>0.907572</td>\n",
       "      <td>8863366</td>\n",
       "      <td>0.660930</td>\n",
       "      <td>0.3</td>\n",
       "      <td>1.0</td>\n",
       "      <td>1</td>\n",
       "      <td>1.000000e-07</td>\n",
       "      <td>False</td>\n",
       "    </tr>\n",
       "    <tr>\n",
       "      <th>54869</th>\n",
       "      <td>0.128554</td>\n",
       "      <td>0.228030</td>\n",
       "      <td>0.228030</td>\n",
       "      <td>0.676188</td>\n",
       "      <td>8349609</td>\n",
       "      <td>0.390146</td>\n",
       "      <td>0.3</td>\n",
       "      <td>1.0</td>\n",
       "      <td>1</td>\n",
       "      <td>1.000000e-07</td>\n",
       "      <td>False</td>\n",
       "    </tr>\n",
       "    <tr>\n",
       "      <th>13116</th>\n",
       "      <td>0.697405</td>\n",
       "      <td>0.526631</td>\n",
       "      <td>0.526631</td>\n",
       "      <td>0.484213</td>\n",
       "      <td>1953100</td>\n",
       "      <td>0.576140</td>\n",
       "      <td>0.3</td>\n",
       "      <td>1.0</td>\n",
       "      <td>1</td>\n",
       "      <td>1.000000e-07</td>\n",
       "      <td>False</td>\n",
       "    </tr>\n",
       "    <tr>\n",
       "      <th>4082</th>\n",
       "      <td>0.494392</td>\n",
       "      <td>0.989687</td>\n",
       "      <td>0.989687</td>\n",
       "      <td>0.750705</td>\n",
       "      <td>616745</td>\n",
       "      <td>0.708414</td>\n",
       "      <td>0.3</td>\n",
       "      <td>1.0</td>\n",
       "      <td>1</td>\n",
       "      <td>1.000000e-07</td>\n",
       "      <td>False</td>\n",
       "    </tr>\n",
       "    <tr>\n",
       "      <th>...</th>\n",
       "      <td>...</td>\n",
       "      <td>...</td>\n",
       "      <td>...</td>\n",
       "      <td>...</td>\n",
       "      <td>...</td>\n",
       "      <td>...</td>\n",
       "      <td>...</td>\n",
       "      <td>...</td>\n",
       "      <td>...</td>\n",
       "      <td>...</td>\n",
       "      <td>...</td>\n",
       "    </tr>\n",
       "    <tr>\n",
       "      <th>18118</th>\n",
       "      <td>0.999374</td>\n",
       "      <td>0.398558</td>\n",
       "      <td>0.398558</td>\n",
       "      <td>0.585379</td>\n",
       "      <td>2692000</td>\n",
       "      <td>0.993057</td>\n",
       "      <td>0.3</td>\n",
       "      <td>1.0</td>\n",
       "      <td>21572</td>\n",
       "      <td>2.157200e-03</td>\n",
       "      <td>True</td>\n",
       "    </tr>\n",
       "    <tr>\n",
       "      <th>12520</th>\n",
       "      <td>0.999326</td>\n",
       "      <td>0.559437</td>\n",
       "      <td>0.559437</td>\n",
       "      <td>0.459208</td>\n",
       "      <td>1848312</td>\n",
       "      <td>0.996730</td>\n",
       "      <td>0.3</td>\n",
       "      <td>1.0</td>\n",
       "      <td>21734</td>\n",
       "      <td>2.173400e-03</td>\n",
       "      <td>True</td>\n",
       "    </tr>\n",
       "    <tr>\n",
       "      <th>43494</th>\n",
       "      <td>0.999852</td>\n",
       "      <td>0.494834</td>\n",
       "      <td>0.494834</td>\n",
       "      <td>0.186961</td>\n",
       "      <td>6576606</td>\n",
       "      <td>0.998272</td>\n",
       "      <td>0.3</td>\n",
       "      <td>1.0</td>\n",
       "      <td>22250</td>\n",
       "      <td>2.225000e-03</td>\n",
       "      <td>True</td>\n",
       "    </tr>\n",
       "    <tr>\n",
       "      <th>10490</th>\n",
       "      <td>0.998204</td>\n",
       "      <td>0.466715</td>\n",
       "      <td>0.466715</td>\n",
       "      <td>0.317605</td>\n",
       "      <td>1516810</td>\n",
       "      <td>0.981577</td>\n",
       "      <td>0.3</td>\n",
       "      <td>1.0</td>\n",
       "      <td>23744</td>\n",
       "      <td>2.374400e-03</td>\n",
       "      <td>True</td>\n",
       "    </tr>\n",
       "    <tr>\n",
       "      <th>24071</th>\n",
       "      <td>0.999785</td>\n",
       "      <td>0.449869</td>\n",
       "      <td>0.449869</td>\n",
       "      <td>0.232986</td>\n",
       "      <td>3586288</td>\n",
       "      <td>0.996806</td>\n",
       "      <td>0.3</td>\n",
       "      <td>1.0</td>\n",
       "      <td>33945</td>\n",
       "      <td>3.394500e-03</td>\n",
       "      <td>True</td>\n",
       "    </tr>\n",
       "  </tbody>\n",
       "</table>\n",
       "<p>65973 rows × 11 columns</p>\n",
       "</div>"
      ],
      "text/plain": [
       "            p_1       p_2       p_3       p_4        t  cooperation    c  \\\n",
       "47335  0.325604  0.381734  0.381734  0.921462  7172212     0.510056  0.3   \n",
       "58241  0.599264  0.656198  0.656198  0.907572  8863366     0.660930  0.3   \n",
       "54869  0.128554  0.228030  0.228030  0.676188  8349609     0.390146  0.3   \n",
       "13116  0.697405  0.526631  0.526631  0.484213  1953100     0.576140  0.3   \n",
       "4082   0.494392  0.989687  0.989687  0.750705   616745     0.708414  0.3   \n",
       "...         ...       ...       ...       ...      ...          ...  ...   \n",
       "18118  0.999374  0.398558  0.398558  0.585379  2692000     0.993057  0.3   \n",
       "12520  0.999326  0.559437  0.559437  0.459208  1848312     0.996730  0.3   \n",
       "43494  0.999852  0.494834  0.494834  0.186961  6576606     0.998272  0.3   \n",
       "10490  0.998204  0.466715  0.466715  0.317605  1516810     0.981577  0.3   \n",
       "24071  0.999785  0.449869  0.449869  0.232986  3586288     0.996806  0.3   \n",
       "\n",
       "       beta  frequencies  frequencies norm  isPartner  \n",
       "47335   1.0            1      1.000000e-07      False  \n",
       "58241   1.0            1      1.000000e-07      False  \n",
       "54869   1.0            1      1.000000e-07      False  \n",
       "13116   1.0            1      1.000000e-07      False  \n",
       "4082    1.0            1      1.000000e-07      False  \n",
       "...     ...          ...               ...        ...  \n",
       "18118   1.0        21572      2.157200e-03       True  \n",
       "12520   1.0        21734      2.173400e-03       True  \n",
       "43494   1.0        22250      2.225000e-03       True  \n",
       "10490   1.0        23744      2.374400e-03       True  \n",
       "24071   1.0        33945      3.394500e-03       True  \n",
       "\n",
       "[65973 rows x 11 columns]"
      ]
     },
     "execution_count": 8,
     "metadata": {},
     "output_type": "execute_result"
    }
   ],
   "source": [
    "counting2.sort_values('frequencies norm')"
   ]
  },
  {
   "cell_type": "code",
   "execution_count": 9,
   "id": "23ef5ebc",
   "metadata": {},
   "outputs": [
    {
     "data": {
      "image/png": "[encoded data removed]",
      "text/plain": [
       "<Figure size 640x480 with 1 Axes>"
      ]
     },
     "metadata": {},
     "output_type": "display_data"
    }
   ],
   "source": [
    "plt.hist(reactive2[reactive2['frequencies'] > 1000]['frequencies']);"
   ]
  },
  {
   "cell_type": "code",
   "execution_count": 10,
   "id": "723fd2f1",
   "metadata": {},
   "outputs": [
    {
     "data": {
      "image/png": "[encoded data removed]",
      "text/plain": [
       "<Figure size 640x480 with 1 Axes>"
      ]
     },
     "metadata": {},
     "output_type": "display_data"
    }
   ],
   "source": [
    "plt.hist(counting2[counting2['frequencies'] > 1000]['frequencies']);"
   ]
  },
  {
   "cell_type": "code",
   "execution_count": 11,
   "id": "b7682ef4",
   "metadata": {},
   "outputs": [
    {
     "data": {
      "text/plain": [
       "65973"
      ]
     },
     "execution_count": 11,
     "metadata": {},
     "output_type": "execute_result"
    }
   ],
   "source": [
    "len(counting2.index)"
   ]
  },
  {
   "cell_type": "code",
   "execution_count": 12,
   "id": "5d748976",
   "metadata": {},
   "outputs": [
    {
     "data": {
      "image/png": "[encoded data removed]",
      "text/plain": [
       "<Figure size 640x480 with 1 Axes>"
      ]
     },
     "metadata": {},
     "output_type": "display_data"
    }
   ],
   "source": [
    "plt.hist(counting2['cooperation'], weights=counting2['frequencies norm']);\n",
    "\n",
    "plt.hist(reactive2['cooperation'], color='blue', weights=reactive2['frequencies norm']);"
   ]
  },
  {
   "cell_type": "code",
   "execution_count": 13,
   "id": "ac34e6c7",
   "metadata": {},
   "outputs": [
    {
     "data": {
      "image/png": "[encoded data removed]",
      "text/plain": [
       "<Figure size 640x480 with 1 Axes>"
      ]
     },
     "metadata": {},
     "output_type": "display_data"
    }
   ],
   "source": [
    "plt.hist(reactive2['cooperation'], color='blue', weights=reactive2['frequencies norm']);\n",
    "\n",
    "plt.hist(counting2['cooperation'], weights=counting2['frequencies norm'], alpha=0.5);"
   ]
  },
  {
   "cell_type": "code",
   "execution_count": 15,
   "id": "05e6c9c9",
   "metadata": {},
   "outputs": [],
   "source": [
    "counting = pd.read_csv(\"../src/Understanding_counting/counting.csv\", names=['p1', 'p2', 'p3', 'p4', \n",
    "                                                                         't', 'coop'])"
   ]
  },
  {
   "cell_type": "code",
   "execution_count": 16,
   "id": "c3935de2",
   "metadata": {},
   "outputs": [
    {
     "data": {
      "text/plain": [
       "5018.997002997003"
      ]
     },
     "execution_count": 16,
     "metadata": {},
     "output_type": "execute_result"
    }
   ],
   "source": [
    "counting['t'].mean()"
   ]
  },
  {
   "cell_type": "code",
   "execution_count": 17,
   "id": "c79ab927",
   "metadata": {},
   "outputs": [
    {
     "data": {
      "text/html": [
       "<div>\n",
       "<style scoped>\n",
       "    .dataframe tbody tr th:only-of-type {\n",
       "        vertical-align: middle;\n",
       "    }\n",
       "\n",
       "    .dataframe tbody tr th {\n",
       "        vertical-align: top;\n",
       "    }\n",
       "\n",
       "    .dataframe thead th {\n",
       "        text-align: right;\n",
       "    }\n",
       "</style>\n",
       "<table border=\"1\" class=\"dataframe\">\n",
       "  <thead>\n",
       "    <tr style=\"text-align: right;\">\n",
       "      <th></th>\n",
       "      <th>p1</th>\n",
       "      <th>p2</th>\n",
       "      <th>p3</th>\n",
       "      <th>p4</th>\n",
       "      <th>t</th>\n",
       "      <th>coop</th>\n",
       "    </tr>\n",
       "  </thead>\n",
       "  <tbody>\n",
       "    <tr>\n",
       "      <th>0</th>\n",
       "      <td>0.998204</td>\n",
       "      <td>0.466715</td>\n",
       "      <td>0.466715</td>\n",
       "      <td>0.317605</td>\n",
       "      <td>0</td>\n",
       "      <td>0.000000</td>\n",
       "    </tr>\n",
       "    <tr>\n",
       "      <th>1</th>\n",
       "      <td>0.999863</td>\n",
       "      <td>0.468187</td>\n",
       "      <td>0.468187</td>\n",
       "      <td>0.994304</td>\n",
       "      <td>4829</td>\n",
       "      <td>0.999229</td>\n",
       "    </tr>\n",
       "    <tr>\n",
       "      <th>2</th>\n",
       "      <td>0.985954</td>\n",
       "      <td>0.908740</td>\n",
       "      <td>0.908740</td>\n",
       "      <td>0.412776</td>\n",
       "      <td>15</td>\n",
       "      <td>0.983184</td>\n",
       "    </tr>\n",
       "    <tr>\n",
       "      <th>3</th>\n",
       "      <td>0.937208</td>\n",
       "      <td>0.896959</td>\n",
       "      <td>0.896959</td>\n",
       "      <td>0.778827</td>\n",
       "      <td>3999</td>\n",
       "      <td>0.931299</td>\n",
       "    </tr>\n",
       "    <tr>\n",
       "      <th>4</th>\n",
       "      <td>0.989367</td>\n",
       "      <td>0.987298</td>\n",
       "      <td>0.987298</td>\n",
       "      <td>0.246488</td>\n",
       "      <td>9327</td>\n",
       "      <td>0.989236</td>\n",
       "    </tr>\n",
       "    <tr>\n",
       "      <th>...</th>\n",
       "      <td>...</td>\n",
       "      <td>...</td>\n",
       "      <td>...</td>\n",
       "      <td>...</td>\n",
       "      <td>...</td>\n",
       "      <td>...</td>\n",
       "    </tr>\n",
       "    <tr>\n",
       "      <th>996</th>\n",
       "      <td>0.972177</td>\n",
       "      <td>0.817858</td>\n",
       "      <td>0.817858</td>\n",
       "      <td>0.055477</td>\n",
       "      <td>9284</td>\n",
       "      <td>0.954769</td>\n",
       "    </tr>\n",
       "    <tr>\n",
       "      <th>997</th>\n",
       "      <td>0.890149</td>\n",
       "      <td>0.976557</td>\n",
       "      <td>0.976557</td>\n",
       "      <td>0.026978</td>\n",
       "      <td>10947</td>\n",
       "      <td>0.896227</td>\n",
       "    </tr>\n",
       "    <tr>\n",
       "      <th>998</th>\n",
       "      <td>0.992512</td>\n",
       "      <td>0.865475</td>\n",
       "      <td>0.865475</td>\n",
       "      <td>0.316814</td>\n",
       "      <td>1970</td>\n",
       "      <td>0.989781</td>\n",
       "    </tr>\n",
       "    <tr>\n",
       "      <th>999</th>\n",
       "      <td>0.806651</td>\n",
       "      <td>0.851606</td>\n",
       "      <td>0.851606</td>\n",
       "      <td>0.296486</td>\n",
       "      <td>367</td>\n",
       "      <td>0.799871</td>\n",
       "    </tr>\n",
       "    <tr>\n",
       "      <th>1000</th>\n",
       "      <td>0.953474</td>\n",
       "      <td>0.905351</td>\n",
       "      <td>0.905351</td>\n",
       "      <td>0.228210</td>\n",
       "      <td>7593</td>\n",
       "      <td>0.946195</td>\n",
       "    </tr>\n",
       "  </tbody>\n",
       "</table>\n",
       "<p>1001 rows × 6 columns</p>\n",
       "</div>"
      ],
      "text/plain": [
       "            p1        p2        p3        p4      t      coop\n",
       "0     0.998204  0.466715  0.466715  0.317605      0  0.000000\n",
       "1     0.999863  0.468187  0.468187  0.994304   4829  0.999229\n",
       "2     0.985954  0.908740  0.908740  0.412776     15  0.983184\n",
       "3     0.937208  0.896959  0.896959  0.778827   3999  0.931299\n",
       "4     0.989367  0.987298  0.987298  0.246488   9327  0.989236\n",
       "...        ...       ...       ...       ...    ...       ...\n",
       "996   0.972177  0.817858  0.817858  0.055477   9284  0.954769\n",
       "997   0.890149  0.976557  0.976557  0.026978  10947  0.896227\n",
       "998   0.992512  0.865475  0.865475  0.316814   1970  0.989781\n",
       "999   0.806651  0.851606  0.851606  0.296486    367  0.799871\n",
       "1000  0.953474  0.905351  0.905351  0.228210   7593  0.946195\n",
       "\n",
       "[1001 rows x 6 columns]"
      ]
     },
     "execution_count": 17,
     "metadata": {},
     "output_type": "execute_result"
    }
   ],
   "source": [
    "counting"
   ]
  },
  {
   "cell_type": "code",
   "execution_count": 25,
   "id": "489de317",
   "metadata": {},
   "outputs": [],
   "source": [
    "reactive = pd.read_csv(\"../src/Understanding_counting/reactive_again.csv\", names=['p1', 'p2', 'p3', 'p4', \n",
    "                                                                         't', 'coop'])"
   ]
  },
  {
   "cell_type": "code",
   "execution_count": 26,
   "id": "799ef7b0",
   "metadata": {},
   "outputs": [
    {
     "data": {
      "text/plain": [
       "14557.587412587412"
      ]
     },
     "execution_count": 26,
     "metadata": {},
     "output_type": "execute_result"
    }
   ],
   "source": [
    "reactive['t'].mean()"
   ]
  },
  {
   "cell_type": "code",
   "execution_count": 23,
   "id": "f158755c",
   "metadata": {},
   "outputs": [],
   "source": [
    "counting_reactive = pd.read_csv(\"../src/Understanding_counting/counting_reactive.csv\", names=['p1', 'p2', 'p3', 'p4', \n",
    "                                                                         't', 'coop'])"
   ]
  },
  {
   "cell_type": "code",
   "execution_count": 24,
   "id": "4d0d35a5",
   "metadata": {},
   "outputs": [
    {
     "data": {
      "text/plain": [
       "6615.595404595405"
      ]
     },
     "execution_count": 24,
     "metadata": {},
     "output_type": "execute_result"
    }
   ],
   "source": [
    "counting_reactive['t'].mean()"
   ]
  },
  {
   "cell_type": "code",
   "execution_count": 47,
   "id": "28995d3f",
   "metadata": {},
   "outputs": [
    {
     "data": {
      "image/png": "[encoded data removed]",
      "text/plain": [
       "<Figure size 1300x350 with 3 Axes>"
      ]
     },
     "metadata": {},
     "output_type": "display_data"
    }
   ],
   "source": [
    "fig, axes = plt.subplot_mosaic(\"ABC\",\n",
    "                               figsize=(13, 3.5),\n",
    "                               gridspec_kw = {'height_ratios':[1], \"wspace\": 0.4, \"hspace\": 0.5},\n",
    "                               sharey=True,\n",
    "                               sharex=True,\n",
    "                               )\n",
    "\n",
    "\n",
    "\n",
    "\n",
    "axes['A'].set_xlabel(\"Resident plays a reactive strategy\");\n",
    "axes['B'].set_xlabel(\"Resident plays a reactive counting strategy\");\n",
    "axes['C'].set_xlabel(\"Resident plays a reactive counting strategy\");\n",
    "\n",
    "\n",
    "\n",
    "axes['A'].set_title(\"Mutants play reactive strategies\");\n",
    "axes['B'].set_title(\"Mutants play reactive counting strategies\");\n",
    "axes['C'].set_title(\"Mutants play reactive strategies\");\n",
    "\n",
    "axes[\"A\"].bar([1], reactive['t'].mean())\n",
    "axes[\"B\"].bar([1], counting['t'].mean())\n",
    "axes[\"C\"].bar([1], counting_reactive['t'].mean())\n",
    "\n",
    "\n",
    "axes['A'].set_ylabel(\"Av. time until invasion\");\n",
    "axes['A'].set_xticks([0, 1, 2], [\"\" for _ in range(3)]);\n",
    "\n",
    "fig.savefig(\"../figures/siFigCountingReactiveInvasionTime.pdf\", bbox_inches=\"tight\")"
   ]
  },
  {
   "cell_type": "code",
   "execution_count": null,
   "id": "e9a6dc44",
   "metadata": {},
   "outputs": [],
   "source": []
  }
 ],
 "metadata": {
  "kernelspec": {
   "display_name": "Python 3",
   "language": "python",
   "name": "python3"
  },
  "language_info": {
   "codemirror_mode": {
    "name": "ipython",
    "version": 3
   },
   "file_extension": ".py",
   "mimetype": "text/x-python",
   "name": "python",
   "nbconvert_exporter": "python",
   "pygments_lexer": "ipython3",
   "version": "3.11.3"
  }
 },
 "nbformat": 4,
 "nbformat_minor": 5
}
