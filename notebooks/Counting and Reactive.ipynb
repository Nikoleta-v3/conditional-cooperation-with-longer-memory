{
 "cells": [
  {
   "cell_type": "code",
   "execution_count": 1,
   "id": "78722835",
   "metadata": {},
   "outputs": [],
   "source": [
    "import pandas as pd"
   ]
  },
  {
   "cell_type": "code",
   "execution_count": 16,
   "id": "26891d1a",
   "metadata": {},
   "outputs": [],
   "source": [
    "import matplotlib.pyplot as plt"
   ]
  },
  {
   "cell_type": "markdown",
   "id": "6ed70dc4",
   "metadata": {},
   "source": [
    "Let's fix one b and beta value and let's look at the evolution."
   ]
  },
  {
   "cell_type": "code",
   "execution_count": 4,
   "id": "32db2a09",
   "metadata": {},
   "outputs": [],
   "source": [
    "reactive2 = pd.read_csv(\"../prc_data/evolution_over_c_and_beta_reactive_two.csv\", index_col=0)"
   ]
  },
  {
   "cell_type": "code",
   "execution_count": 19,
   "id": "00fb31c9",
   "metadata": {},
   "outputs": [],
   "source": [
    "reactive2 = reactive2[(reactive2['beta'] == 1) & (reactive2['c'] == 0.3)]"
   ]
  },
  {
   "cell_type": "code",
   "execution_count": 8,
   "id": "01a2e8fc",
   "metadata": {},
   "outputs": [],
   "source": [
    "counting2 = pd.read_csv(\"../prc_data/evolution_over_c_and_beta_reactive_counting_two.csv\", index_col=0)"
   ]
  },
  {
   "cell_type": "code",
   "execution_count": 12,
   "id": "458b5ee0",
   "metadata": {},
   "outputs": [],
   "source": [
    "counting2 = counting2[(counting2['beta'] == 1) & (counting2['c'] == 0.3)]"
   ]
  },
  {
   "cell_type": "code",
   "execution_count": 27,
   "id": "5d748976",
   "metadata": {},
   "outputs": [
    {
     "data": {
      "image/png": "[encoded data removed]",
      "text/plain": [
       "<Figure size 640x480 with 1 Axes>"
      ]
     },
     "metadata": {},
     "output_type": "display_data"
    }
   ],
   "source": [
    "plt.hist(counting2['cooperation'], weights=counting2['frequencies norm']);\n",
    "\n",
    "# plt.hist(reactive2['cooperation'], color='blue', weights=reactive2['frequencies norm']);"
   ]
  },
  {
   "cell_type": "code",
   "execution_count": 29,
   "id": "ac34e6c7",
   "metadata": {},
   "outputs": [
    {
     "data": {
      "image/png": "[encoded data removed]",
      "text/plain": [
       "<Figure size 640x480 with 1 Axes>"
      ]
     },
     "metadata": {},
     "output_type": "display_data"
    }
   ],
   "source": [
    "plt.hist(reactive2['cooperation'], color='blue', weights=reactive2['frequencies norm']);"
   ]
  },
  {
   "cell_type": "code",
   "execution_count": 23,
   "id": "79e68cfa",
   "metadata": {},
   "outputs": [
    {
     "data": {
      "text/html": [
       "<div>\n",
       "<style scoped>\n",
       "    .dataframe tbody tr th:only-of-type {\n",
       "        vertical-align: middle;\n",
       "    }\n",
       "\n",
       "    .dataframe tbody tr th {\n",
       "        vertical-align: top;\n",
       "    }\n",
       "\n",
       "    .dataframe thead th {\n",
       "        text-align: right;\n",
       "    }\n",
       "</style>\n",
       "<table border=\"1\" class=\"dataframe\">\n",
       "  <thead>\n",
       "    <tr style=\"text-align: right;\">\n",
       "      <th></th>\n",
       "      <th>p_1</th>\n",
       "      <th>p_2</th>\n",
       "      <th>p_3</th>\n",
       "      <th>p_4</th>\n",
       "      <th>t</th>\n",
       "      <th>cooperation</th>\n",
       "      <th>c</th>\n",
       "      <th>beta</th>\n",
       "      <th>frequencies</th>\n",
       "      <th>frequencies norm</th>\n",
       "      <th>isPartner</th>\n",
       "    </tr>\n",
       "  </thead>\n",
       "  <tbody>\n",
       "    <tr>\n",
       "      <th>0</th>\n",
       "      <td>0.000000</td>\n",
       "      <td>0.000000</td>\n",
       "      <td>0.000000</td>\n",
       "      <td>0.000000</td>\n",
       "      <td>0</td>\n",
       "      <td>0.000000</td>\n",
       "      <td>0.3</td>\n",
       "      <td>1.0</td>\n",
       "      <td>216</td>\n",
       "      <td>2.160000e-05</td>\n",
       "      <td>False</td>\n",
       "    </tr>\n",
       "    <tr>\n",
       "      <th>1</th>\n",
       "      <td>0.867665</td>\n",
       "      <td>0.290173</td>\n",
       "      <td>0.290173</td>\n",
       "      <td>0.010934</td>\n",
       "      <td>216</td>\n",
       "      <td>0.028480</td>\n",
       "      <td>0.3</td>\n",
       "      <td>1.0</td>\n",
       "      <td>2</td>\n",
       "      <td>2.000000e-07</td>\n",
       "      <td>False</td>\n",
       "    </tr>\n",
       "    <tr>\n",
       "      <th>2</th>\n",
       "      <td>0.307299</td>\n",
       "      <td>0.383792</td>\n",
       "      <td>0.383792</td>\n",
       "      <td>0.385897</td>\n",
       "      <td>218</td>\n",
       "      <td>0.373908</td>\n",
       "      <td>0.3</td>\n",
       "      <td>1.0</td>\n",
       "      <td>119</td>\n",
       "      <td>1.190000e-05</td>\n",
       "      <td>False</td>\n",
       "    </tr>\n",
       "    <tr>\n",
       "      <th>3</th>\n",
       "      <td>0.350893</td>\n",
       "      <td>0.121691</td>\n",
       "      <td>0.121691</td>\n",
       "      <td>0.208356</td>\n",
       "      <td>337</td>\n",
       "      <td>0.187024</td>\n",
       "      <td>0.3</td>\n",
       "      <td>1.0</td>\n",
       "      <td>138</td>\n",
       "      <td>1.380000e-05</td>\n",
       "      <td>False</td>\n",
       "    </tr>\n",
       "    <tr>\n",
       "      <th>4</th>\n",
       "      <td>0.439483</td>\n",
       "      <td>0.043404</td>\n",
       "      <td>0.043404</td>\n",
       "      <td>0.032997</td>\n",
       "      <td>475</td>\n",
       "      <td>0.034166</td>\n",
       "      <td>0.3</td>\n",
       "      <td>1.0</td>\n",
       "      <td>37</td>\n",
       "      <td>3.700000e-06</td>\n",
       "      <td>False</td>\n",
       "    </tr>\n",
       "    <tr>\n",
       "      <th>...</th>\n",
       "      <td>...</td>\n",
       "      <td>...</td>\n",
       "      <td>...</td>\n",
       "      <td>...</td>\n",
       "      <td>...</td>\n",
       "      <td>...</td>\n",
       "      <td>...</td>\n",
       "      <td>...</td>\n",
       "      <td>...</td>\n",
       "      <td>...</td>\n",
       "      <td>...</td>\n",
       "    </tr>\n",
       "    <tr>\n",
       "      <th>65968</th>\n",
       "      <td>0.240396</td>\n",
       "      <td>0.040673</td>\n",
       "      <td>0.040673</td>\n",
       "      <td>0.589679</td>\n",
       "      <td>9999242</td>\n",
       "      <td>0.326865</td>\n",
       "      <td>0.3</td>\n",
       "      <td>1.0</td>\n",
       "      <td>73</td>\n",
       "      <td>7.300000e-06</td>\n",
       "      <td>False</td>\n",
       "    </tr>\n",
       "    <tr>\n",
       "      <th>65969</th>\n",
       "      <td>0.297519</td>\n",
       "      <td>0.290059</td>\n",
       "      <td>0.290059</td>\n",
       "      <td>0.116127</td>\n",
       "      <td>9999315</td>\n",
       "      <td>0.169909</td>\n",
       "      <td>0.3</td>\n",
       "      <td>1.0</td>\n",
       "      <td>29</td>\n",
       "      <td>2.900000e-06</td>\n",
       "      <td>False</td>\n",
       "    </tr>\n",
       "    <tr>\n",
       "      <th>65970</th>\n",
       "      <td>0.970670</td>\n",
       "      <td>0.327527</td>\n",
       "      <td>0.327527</td>\n",
       "      <td>0.184814</td>\n",
       "      <td>9999344</td>\n",
       "      <td>0.497188</td>\n",
       "      <td>0.3</td>\n",
       "      <td>1.0</td>\n",
       "      <td>12</td>\n",
       "      <td>1.200000e-06</td>\n",
       "      <td>True</td>\n",
       "    </tr>\n",
       "    <tr>\n",
       "      <th>65971</th>\n",
       "      <td>0.880140</td>\n",
       "      <td>0.755744</td>\n",
       "      <td>0.755744</td>\n",
       "      <td>0.306458</td>\n",
       "      <td>9999356</td>\n",
       "      <td>0.824446</td>\n",
       "      <td>0.3</td>\n",
       "      <td>1.0</td>\n",
       "      <td>634</td>\n",
       "      <td>6.340000e-05</td>\n",
       "      <td>False</td>\n",
       "    </tr>\n",
       "    <tr>\n",
       "      <th>65972</th>\n",
       "      <td>0.408477</td>\n",
       "      <td>0.158844</td>\n",
       "      <td>0.158844</td>\n",
       "      <td>0.899465</td>\n",
       "      <td>9999990</td>\n",
       "      <td>0.449195</td>\n",
       "      <td>0.3</td>\n",
       "      <td>1.0</td>\n",
       "      <td>10</td>\n",
       "      <td>1.000000e-06</td>\n",
       "      <td>False</td>\n",
       "    </tr>\n",
       "  </tbody>\n",
       "</table>\n",
       "<p>65973 rows × 11 columns</p>\n",
       "</div>"
      ],
      "text/plain": [
       "            p_1       p_2       p_3       p_4        t  cooperation    c  \\\n",
       "0      0.000000  0.000000  0.000000  0.000000        0     0.000000  0.3   \n",
       "1      0.867665  0.290173  0.290173  0.010934      216     0.028480  0.3   \n",
       "2      0.307299  0.383792  0.383792  0.385897      218     0.373908  0.3   \n",
       "3      0.350893  0.121691  0.121691  0.208356      337     0.187024  0.3   \n",
       "4      0.439483  0.043404  0.043404  0.032997      475     0.034166  0.3   \n",
       "...         ...       ...       ...       ...      ...          ...  ...   \n",
       "65968  0.240396  0.040673  0.040673  0.589679  9999242     0.326865  0.3   \n",
       "65969  0.297519  0.290059  0.290059  0.116127  9999315     0.169909  0.3   \n",
       "65970  0.970670  0.327527  0.327527  0.184814  9999344     0.497188  0.3   \n",
       "65971  0.880140  0.755744  0.755744  0.306458  9999356     0.824446  0.3   \n",
       "65972  0.408477  0.158844  0.158844  0.899465  9999990     0.449195  0.3   \n",
       "\n",
       "       beta  frequencies  frequencies norm  isPartner  \n",
       "0       1.0          216      2.160000e-05      False  \n",
       "1       1.0            2      2.000000e-07      False  \n",
       "2       1.0          119      1.190000e-05      False  \n",
       "3       1.0          138      1.380000e-05      False  \n",
       "4       1.0           37      3.700000e-06      False  \n",
       "...     ...          ...               ...        ...  \n",
       "65968   1.0           73      7.300000e-06      False  \n",
       "65969   1.0           29      2.900000e-06      False  \n",
       "65970   1.0           12      1.200000e-06       True  \n",
       "65971   1.0          634      6.340000e-05      False  \n",
       "65972   1.0           10      1.000000e-06      False  \n",
       "\n",
       "[65973 rows x 11 columns]"
      ]
     },
     "execution_count": 23,
     "metadata": {},
     "output_type": "execute_result"
    }
   ],
   "source": [
    "counting2"
   ]
  },
  {
   "cell_type": "code",
   "execution_count": null,
   "id": "05e6c9c9",
   "metadata": {},
   "outputs": [],
   "source": []
  }
 ],
 "metadata": {
  "kernelspec": {
   "display_name": "Python 3",
   "language": "python",
   "name": "python3"
  },
  "language_info": {
   "codemirror_mode": {
    "name": "ipython",
    "version": 3
   },
   "file_extension": ".py",
   "mimetype": "text/x-python",
   "name": "python",
   "nbconvert_exporter": "python",
   "pygments_lexer": "ipython3",
   "version": "3.11.3"
  }
 },
 "nbformat": 4,
 "nbformat_minor": 5
}
