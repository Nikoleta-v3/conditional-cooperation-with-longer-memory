{
 "cells": [
  {
   "cell_type": "markdown",
   "metadata": {},
   "source": [
    "### Imports"
   ]
  },
  {
   "cell_type": "code",
   "execution_count": 1,
   "metadata": {},
   "outputs": [],
   "source": [
    "import numpy as np\n",
    "\n",
    "import sympy as sym\n",
    "\n",
    "import itertools\n",
    "\n",
    "import pandas as pd\n",
    "\n",
    "import glob"
   ]
  },
  {
   "cell_type": "code",
   "execution_count": 2,
   "metadata": {},
   "outputs": [],
   "source": [
    "from operator import itemgetter"
   ]
  },
  {
   "cell_type": "code",
   "execution_count": 3,
   "metadata": {},
   "outputs": [],
   "source": [
    "import matplotlib.pyplot as plt\n",
    "\n",
    "import matplotlib\n",
    "\n",
    "from mpl_toolkits.axes_grid1 import make_axes_locatable"
   ]
  },
  {
   "cell_type": "code",
   "execution_count": 4,
   "metadata": {},
   "outputs": [],
   "source": [
    "import matplotlib.colors as colors\n",
    "\n",
    "plt.rcParams[\"font.weight\"] = \"bold\"\n",
    "plt.rcParams[\"axes.labelweight\"] = \"bold\"\n",
    "plt.rcParams[\"font.size\"] = 13"
   ]
  },
  {
   "cell_type": "code",
   "execution_count": 5,
   "metadata": {},
   "outputs": [],
   "source": [
    "import tqdm"
   ]
  },
  {
   "cell_type": "markdown",
   "metadata": {},
   "source": [
    "## Evolutionary simulations"
   ]
  },
  {
   "cell_type": "code",
   "execution_count": 6,
   "metadata": {},
   "outputs": [],
   "source": [
    "cs = [0, 0.1, 0.2, 0.3, 0.4, 0.5, 0.6, 0.7, 0.8, 0.9, 1]"
   ]
  },
  {
   "cell_type": "code",
   "execution_count": 7,
   "metadata": {},
   "outputs": [],
   "source": [
    "names1 = [f\"p_{i}\" for i in range(1, 3)] + [\"t\", \"cooperation\"]\n",
    "names2 = [f\"p_{i}\" for i in range(1, 5)] + [\"t\", \"cooperation\"]\n",
    "names3 = [f\"p_{i}\" for i in range(1, 9)] + [\"t\", \"cooperation\"]"
   ]
  },
  {
   "cell_type": "code",
   "execution_count": 8,
   "metadata": {},
   "outputs": [],
   "source": [
    "def frequencies(df, max_steps=10 ** 7):\n",
    "\n",
    "    frequencies = []\n",
    "    previous = 0\n",
    "    for value in df[\"t\"][1:]:\n",
    "        frequencies.append(value - previous)\n",
    "        previous = value\n",
    "    frequencies.append(max_steps - previous)\n",
    "\n",
    "    df[\"frequencies\"] = np.array(frequencies)\n",
    "    df[\"frequencies norm\"] = np.array(frequencies) / max_steps\n",
    "\n",
    "    return df"
   ]
  },
  {
   "cell_type": "code",
   "execution_count": 9,
   "metadata": {},
   "outputs": [],
   "source": [
    "def one_bit_condition_one(p1, p2, c, b):\n",
    "    \n",
    "    return p2 < 1 - c / b \n",
    "\n",
    "def one_bit_condition_two(p1, p2, c, b):\n",
    "    \n",
    "    return p1 > 0.95\n",
    "\n",
    "def is_partner_one_bit(p1, p2, c, b):\n",
    "    return (one_bit_condition_one(p1, p2, c, 1)) and (one_bit_condition_two(p1, p2, c, 1))"
   ]
  },
  {
   "cell_type": "code",
   "execution_count": 10,
   "metadata": {},
   "outputs": [],
   "source": [
    "def two_bit_condition_one(p1, p2, p3, p4, c, b):\n",
    "    \n",
    "    return p4 < (1 - c / b)\n",
    "\n",
    "def two_bit_condition_two(p1, p2, p3, p4, c, b):\n",
    "    \n",
    "    return p2 + p3 < (2 - c / b)\n",
    "\n",
    "def two_bit_condition_three(p1, p2, p3, p4, c, b):\n",
    "    \n",
    "    return p1 > 0.95\n",
    "\n",
    "def is_partner_two_bits(p1, p2, p3, p4, c, b):\n",
    "    \n",
    "    return ((two_bit_condition_one(p1, p2, p3, p4, c, 1)) and \n",
    "            two_bit_condition_two(p1, p2, p3, p4, c, 1) and \n",
    "            two_bit_condition_three(p1, p2, p3, p4, c, 1))"
   ]
  },
  {
   "cell_type": "code",
   "execution_count": 11,
   "metadata": {},
   "outputs": [],
   "source": [
    "def three_bit_condition_one(p1, p2, p3, p4, p5, p6, p7, p8, c, b):\n",
    "    \n",
    "    return p8 < (1 - c / b)\n",
    "\n",
    "def three_bit_condition_two(p1, p2, p3, p4, p5, p6, p7, p8, c, b):\n",
    "    \n",
    "    return p3 + p6 < (2 - c / b)\n",
    "\n",
    "def three_bit_condition_three(p1, p2, p3, p4, p5, p6, p7, p8, c, b):\n",
    "    \n",
    "    return p2 + p3 + p5 < (3 - c / b)\n",
    "\n",
    "def three_bit_condition_four(p1, p2, p3, p4, p5, p6, p7, p8, c, b):\n",
    "    \n",
    "    return p4 + p6 + p7 < (3 - 2 * c / b)\n",
    "\n",
    "def three_bit_condition_five(p1, p2, p3, p4, p5, p6, p7, p8, c, b):\n",
    "    \n",
    "    return p2 + p4 + p5 + p7 < (4 - 2 * c / b)\n",
    "\n",
    "\n",
    "def three_bit_condition_six(p1, p2, p3, p4, p5, p6, p7, p8, c, b):\n",
    "    \n",
    "    return p1 > 0.95\n",
    "\n",
    "\n",
    "def is_partner_three_bits(p1, p2, p3, p4, p5, p6, p7, p8, c, b):\n",
    "    \n",
    "    return ((three_bit_condition_one(p1, p2, p3, p4, p5, p6, p7, p8, c, 1)) and\n",
    "            (three_bit_condition_two(p1, p2, p3, p4, p5, p6, p7, p8, c, 1)) and\n",
    "            (three_bit_condition_three(p1, p2, p3, p4, p5, p6, p7, p8, c, 1)) and\n",
    "            (three_bit_condition_four(p1, p2, p3, p4, p5, p6, p7, p8, c, 1)) and\n",
    "            (three_bit_condition_five(p1, p2, p3, p4, p5, p6, p7, p8, c, 1)) and\n",
    "            (three_bit_condition_six(p1, p2, p3, p4, p5, p6, p7, p8, c, 1)))"
   ]
  },
  {
   "cell_type": "markdown",
   "metadata": {},
   "source": [
    "### One bit"
   ]
  },
  {
   "cell_type": "code",
   "execution_count": 137,
   "metadata": {},
   "outputs": [],
   "source": [
    "files = glob.glob(f\"../data/matlab_data/bits_2_beta_*_seed_1_*.csv\")"
   ]
  },
  {
   "cell_type": "code",
   "execution_count": 139,
   "metadata": {},
   "outputs": [],
   "source": [
    "one_bits = []\n",
    "\n",
    "for file in files:\n",
    "    \n",
    "    c = float(file.split(\"c_\")[1].split(\".csv\")[0])\n",
    "    \n",
    "    beta = float(file.split(\"beta_\")[1].split(\"_\")[0])\n",
    "    \n",
    "    df = pd.read_csv(file, names=names1)\n",
    "    \n",
    "    df = df.drop_duplicates()\n",
    "    \n",
    "    df['c'] = c\n",
    "    \n",
    "    df['beta'] = beta\n",
    "    \n",
    "    df = frequencies(df, 10 ** 7)\n",
    "    \n",
    "    one_bits.append(df)"
   ]
  },
  {
   "cell_type": "code",
   "execution_count": 140,
   "metadata": {},
   "outputs": [],
   "source": [
    "one_bits = pd.concat(one_bits)"
   ]
  },
  {
   "cell_type": "code",
   "execution_count": 141,
   "metadata": {},
   "outputs": [
    {
     "name": "stderr",
     "output_type": "stream",
     "text": [
      "1389230it [00:46, 29715.31it/s]\n"
     ]
    }
   ],
   "source": [
    "ispartner = []\n",
    "\n",
    "for i, row in tqdm.tqdm(one_bits.iterrows()):\n",
    "    condition = is_partner_one_bit(row['p_1'], row['p_2'], row['c'], 1)\n",
    "    \n",
    "    ispartner.append(condition)"
   ]
  },
  {
   "cell_type": "code",
   "execution_count": 142,
   "metadata": {},
   "outputs": [],
   "source": [
    "one_bits['isPartner'] = ispartner"
   ]
  },
  {
   "cell_type": "code",
   "execution_count": 143,
   "metadata": {},
   "outputs": [],
   "source": [
    "one_bits.to_csv(\"../evolution_over_c_and_beta_one_bit.csv\")"
   ]
  },
  {
   "cell_type": "markdown",
   "metadata": {},
   "source": [
    "### Two bits"
   ]
  },
  {
   "cell_type": "code",
   "execution_count": 12,
   "metadata": {},
   "outputs": [],
   "source": [
    "files = glob.glob(f\"../data/matlab_data/bits_4_beta_0.1_seed_1_*.csv\")\n",
    "\n",
    "files += glob.glob(f\"../data/matlab_data/bits_4_beta_1_seed_1_*.csv\")\n",
    "\n",
    "two_bits = []\n",
    "\n",
    "for file in files:\n",
    "    \n",
    "    c = float(file.split(\"c_\")[1].split(\".csv\")[0])\n",
    "    \n",
    "    beta = float(file.split(\"beta_\")[1].split(\"_\")[0])\n",
    "    \n",
    "    df = pd.read_csv(file, names=names2)\n",
    "    \n",
    "    df = df.drop_duplicates()\n",
    "    \n",
    "    df['c'] = c\n",
    "    \n",
    "    df['beta'] = beta\n",
    "    \n",
    "    df = frequencies(df, 10 ** 7)\n",
    "    \n",
    "    two_bits.append(df)"
   ]
  },
  {
   "cell_type": "code",
   "execution_count": 13,
   "metadata": {},
   "outputs": [],
   "source": [
    "files = glob.glob(\"../data/long/bits_4_beta_10_seed_3_c_*.csv\")\n",
    "\n",
    "for file in files:\n",
    "    \n",
    "    c = float(file.split(\"c_\")[1].split(\".csv\")[0])\n",
    "    \n",
    "    beta = float(file.split(\"beta_\")[1].split(\"_\")[0])\n",
    "    \n",
    "    df = pd.read_csv(file, names=names2)\n",
    "    \n",
    "    df = df.drop_duplicates()\n",
    "    \n",
    "    df['c'] = c\n",
    "    \n",
    "    df['beta'] = beta\n",
    "    \n",
    "    df = frequencies(df, 10 ** 8)\n",
    "    \n",
    "    two_bits.append(df)"
   ]
  },
  {
   "cell_type": "code",
   "execution_count": 14,
   "metadata": {},
   "outputs": [],
   "source": [
    "two_bits = pd.concat(two_bits)"
   ]
  },
  {
   "cell_type": "code",
   "execution_count": 15,
   "metadata": {},
   "outputs": [
    {
     "name": "stderr",
     "output_type": "stream",
     "text": [
      "1736603it [01:10, 24541.69it/s]\n"
     ]
    }
   ],
   "source": [
    "ispartner = []\n",
    "\n",
    "for i, row in tqdm.tqdm(two_bits.iterrows()):\n",
    "    condition = is_partner_two_bits(row['p_1'], row['p_2'], row['p_3'], row['p_4'], row['c'], 1)\n",
    "    \n",
    "    ispartner.append(condition)"
   ]
  },
  {
   "cell_type": "code",
   "execution_count": 16,
   "metadata": {},
   "outputs": [],
   "source": [
    "two_bits['isPartner'] = ispartner"
   ]
  },
  {
   "cell_type": "code",
   "execution_count": 23,
   "metadata": {},
   "outputs": [
    {
     "data": {
      "text/plain": [
       "4225"
      ]
     },
     "execution_count": 23,
     "metadata": {},
     "output_type": "execute_result"
    }
   ],
   "source": [
    "two_bits[(two_bits['beta'] == 10) & (two_bits['c'] == 0.5)]['isPartner'].sum()"
   ]
  },
  {
   "cell_type": "code",
   "execution_count": 69,
   "metadata": {},
   "outputs": [
    {
     "data": {
      "text/html": [
       "<div>\n",
       "<style scoped>\n",
       "    .dataframe tbody tr th:only-of-type {\n",
       "        vertical-align: middle;\n",
       "    }\n",
       "\n",
       "    .dataframe tbody tr th {\n",
       "        vertical-align: top;\n",
       "    }\n",
       "\n",
       "    .dataframe thead th {\n",
       "        text-align: right;\n",
       "    }\n",
       "</style>\n",
       "<table border=\"1\" class=\"dataframe\">\n",
       "  <thead>\n",
       "    <tr style=\"text-align: right;\">\n",
       "      <th></th>\n",
       "      <th>p_1</th>\n",
       "      <th>p_2</th>\n",
       "      <th>p_3</th>\n",
       "      <th>p_4</th>\n",
       "      <th>t</th>\n",
       "      <th>cooperation</th>\n",
       "      <th>c</th>\n",
       "      <th>beta</th>\n",
       "      <th>frequencies</th>\n",
       "      <th>frequencies norm</th>\n",
       "      <th>isPartner</th>\n",
       "    </tr>\n",
       "  </thead>\n",
       "  <tbody>\n",
       "    <tr>\n",
       "      <th>68012</th>\n",
       "      <td>0.037820</td>\n",
       "      <td>0.987736</td>\n",
       "      <td>0.000168</td>\n",
       "      <td>0.123429</td>\n",
       "      <td>93175133</td>\n",
       "      <td>0.457024</td>\n",
       "      <td>0.5</td>\n",
       "      <td>10.0</td>\n",
       "      <td>1890737</td>\n",
       "      <td>0.018907</td>\n",
       "      <td>False</td>\n",
       "    </tr>\n",
       "    <tr>\n",
       "      <th>15780</th>\n",
       "      <td>0.116812</td>\n",
       "      <td>0.989530</td>\n",
       "      <td>0.004685</td>\n",
       "      <td>0.139179</td>\n",
       "      <td>14503169</td>\n",
       "      <td>0.459048</td>\n",
       "      <td>0.5</td>\n",
       "      <td>10.0</td>\n",
       "      <td>1997954</td>\n",
       "      <td>0.019980</td>\n",
       "      <td>False</td>\n",
       "    </tr>\n",
       "    <tr>\n",
       "      <th>67478</th>\n",
       "      <td>0.007661</td>\n",
       "      <td>0.001129</td>\n",
       "      <td>0.992226</td>\n",
       "      <td>0.096903</td>\n",
       "      <td>83912287</td>\n",
       "      <td>0.472864</td>\n",
       "      <td>0.5</td>\n",
       "      <td>10.0</td>\n",
       "      <td>2156430</td>\n",
       "      <td>0.021564</td>\n",
       "      <td>False</td>\n",
       "    </tr>\n",
       "    <tr>\n",
       "      <th>67613</th>\n",
       "      <td>0.056157</td>\n",
       "      <td>0.004348</td>\n",
       "      <td>0.997806</td>\n",
       "      <td>0.151287</td>\n",
       "      <td>86248824</td>\n",
       "      <td>0.487921</td>\n",
       "      <td>0.5</td>\n",
       "      <td>10.0</td>\n",
       "      <td>3659776</td>\n",
       "      <td>0.036598</td>\n",
       "      <td>False</td>\n",
       "    </tr>\n",
       "    <tr>\n",
       "      <th>44615</th>\n",
       "      <td>0.147943</td>\n",
       "      <td>0.001256</td>\n",
       "      <td>0.996317</td>\n",
       "      <td>0.120815</td>\n",
       "      <td>46433737</td>\n",
       "      <td>0.487980</td>\n",
       "      <td>0.5</td>\n",
       "      <td>10.0</td>\n",
       "      <td>8946374</td>\n",
       "      <td>0.089464</td>\n",
       "      <td>False</td>\n",
       "    </tr>\n",
       "  </tbody>\n",
       "</table>\n",
       "</div>"
      ],
      "text/plain": [
       "            p_1       p_2       p_3       p_4         t  cooperation    c  \\\n",
       "68012  0.037820  0.987736  0.000168  0.123429  93175133     0.457024  0.5   \n",
       "15780  0.116812  0.989530  0.004685  0.139179  14503169     0.459048  0.5   \n",
       "67478  0.007661  0.001129  0.992226  0.096903  83912287     0.472864  0.5   \n",
       "67613  0.056157  0.004348  0.997806  0.151287  86248824     0.487921  0.5   \n",
       "44615  0.147943  0.001256  0.996317  0.120815  46433737     0.487980  0.5   \n",
       "\n",
       "       beta  frequencies  frequencies norm  isPartner  \n",
       "68012  10.0      1890737          0.018907      False  \n",
       "15780  10.0      1997954          0.019980      False  \n",
       "67478  10.0      2156430          0.021564      False  \n",
       "67613  10.0      3659776          0.036598      False  \n",
       "44615  10.0      8946374          0.089464      False  "
      ]
     },
     "execution_count": 69,
     "metadata": {},
     "output_type": "execute_result"
    }
   ],
   "source": [
    "two_bits[(two_bits['beta'] == 10) & (two_bits['c'] == 0.5)].sort_values(by='frequencies norm').tail(5)"
   ]
  },
  {
   "cell_type": "code",
   "execution_count": 33,
   "metadata": {},
   "outputs": [],
   "source": [
    "import os\n",
    "\n",
    "os.chdir(\"..\")"
   ]
  },
  {
   "cell_type": "code",
   "execution_count": 34,
   "metadata": {},
   "outputs": [],
   "source": [
    "from importlib.machinery import SourceFileLoader\n",
    "\n",
    "main = SourceFileLoader(\"main\", \"src/main.py\").load_module()\n",
    "\n",
    "eq = SourceFileLoader(\"eq\", \"src/numerical_equilibria_n_bit_vs_n_bit.py\").load_module()\n",
    "\n",
    "three = SourceFileLoader(\"eq\", \"src/numerical_equilibria_three_bit.py\").load_module()"
   ]
  },
  {
   "cell_type": "code",
   "execution_count": 58,
   "metadata": {},
   "outputs": [],
   "source": [
    "p1 = 0.1479\n",
    "p2 = 0.0013\n",
    "p3 = 0.9963\n",
    "p4 = 0.1208"
   ]
  },
  {
   "cell_type": "code",
   "execution_count": 59,
   "metadata": {},
   "outputs": [],
   "source": [
    "M = eq.calculate_M_memory_two([p1, p2, p1, p2, p3, p4, p3, p4] * 2,\n",
    "                              [p1, p2, p1, p2, p3, p4, p3, p4] * 2)"
   ]
  },
  {
   "cell_type": "code",
   "execution_count": 60,
   "metadata": {},
   "outputs": [],
   "source": [
    "ss = main.invariant_distribution(M)"
   ]
  },
  {
   "cell_type": "code",
   "execution_count": 65,
   "metadata": {},
   "outputs": [
    {
     "data": {
      "text/plain": [
       "array([0.001, 0.001, 0.001, 0.   , 0.001, 0.   , 0.482, 0.003, 0.001,\n",
       "       0.482, 0.   , 0.003, 0.   , 0.003, 0.003, 0.022])"
      ]
     },
     "execution_count": 65,
     "metadata": {},
     "output_type": "execute_result"
    }
   ],
   "source": [
    "ss.round(3)"
   ]
  },
  {
   "cell_type": "code",
   "execution_count": 68,
   "metadata": {},
   "outputs": [
    {
     "data": {
      "text/plain": [
       "(0.4815951633942803, 0.482)"
      ]
     },
     "execution_count": 68,
     "metadata": {},
     "output_type": "execute_result"
    }
   ],
   "source": [
    "ss[6], ss[9].round(3)"
   ]
  },
  {
   "cell_type": "code",
   "execution_count": 25,
   "metadata": {},
   "outputs": [
    {
     "data": {
      "text/plain": [
       "2425"
      ]
     },
     "execution_count": 25,
     "metadata": {},
     "output_type": "execute_result"
    }
   ],
   "source": [
    "two_bits[(two_bits['beta'] == 1) & (two_bits['c'] == 0.5)]['isPartner'].sum()"
   ]
  },
  {
   "cell_type": "code",
   "execution_count": 17,
   "metadata": {},
   "outputs": [],
   "source": [
    "colors = {\"one-bit\": \"tab:orange\", \"two-bit\": \"tab:green\", \"three-bit\": \"tab:blue\"}\n",
    "\n",
    "colors_idx = [\"tab:orange\", \"tab:green\", \"tab:blue\"]\n",
    "\n",
    "linestyles = ['-o', '--o', ':o']\n",
    "\n",
    "labels_idx = ['one-bit', 'two-bits', 'three-bits']"
   ]
  },
  {
   "cell_type": "code",
   "execution_count": 18,
   "metadata": {},
   "outputs": [
    {
     "data": {
      "image/png": "[encoded data removed]",
      "text/plain": [
       "<Figure size 1000x550 with 6 Axes>"
      ]
     },
     "metadata": {},
     "output_type": "display_data"
    }
   ],
   "source": [
    "fig, axes = plt.subplots(ncols=3, nrows=2, figsize=(10, 5.5))\n",
    "\n",
    "for i, df in enumerate([two_bits]):\n",
    "    groups_beta = df.groupby(\"beta\")\n",
    "    \n",
    "    for j, (_, group) in enumerate(groups_beta):\n",
    "    \n",
    "        points = []\n",
    "        abudance = []\n",
    "        group = group.sort_values(\"c\")\n",
    "        cost_groups = group.groupby(\"c\")\n",
    "\n",
    "        for _, cost_group in cost_groups:\n",
    "            points.append(sum(cost_group['frequencies norm'] * cost_group['cooperation']))\n",
    "            abudance.append(cost_group[cost_group['isPartner'] == True]['frequencies norm'].sum())\n",
    "        \n",
    "        \n",
    "        axes[0, j].plot(np.linspace(0, 1, 11), abudance, linestyles[i], color=colors_idx[i],\n",
    "                     label=labels_idx[i])\n",
    "        \n",
    "        axes[1, j].plot(np.linspace(0, 1, 11), points, linestyles[i], color=colors_idx[i],\n",
    "             label=labels_idx[i])"
   ]
  },
  {
   "cell_type": "code",
   "execution_count": 248,
   "metadata": {},
   "outputs": [],
   "source": [
    "two_bits = two_bits.sort_values(\"c\")"
   ]
  },
  {
   "cell_type": "code",
   "execution_count": 251,
   "metadata": {},
   "outputs": [
    {
     "name": "stdout",
     "output_type": "stream",
     "text": [
      "[6071, 5297, 4467, 3666, 2954, 2299, 1708, 1197, 752, 355, 0]\n",
      "[2689, 3252, 3660, 3720, 3230, 2425, 1598, 957, 499, 239, 0]\n",
      "[2430, 3780, 5297, 6522, 4293, 4225, 4722, 4408, 2524, 822, 0]\n"
     ]
    }
   ],
   "source": [
    "beta_groups = two_bits.groupby(\"beta\")\n",
    "\n",
    "for j, bgroup in beta_groups:\n",
    "    indx = []\n",
    "    \n",
    "    bgroup = bgroup.sort_values(\"c\")\n",
    "\n",
    "    for i, group in bgroup.groupby(\"c\"):\n",
    "\n",
    "        indx.append(group[group['isPartner'] == True].index)\n",
    "        \n",
    "    print([len(i) for i in indx])"
   ]
  },
  {
   "cell_type": "code",
   "execution_count": 242,
   "metadata": {},
   "outputs": [
    {
     "data": {
      "text/plain": [
       "[2430, 3780, 5297, 6522, 4293, 4225, 4722, 4408, 2524, 822, 0]"
      ]
     },
     "execution_count": 242,
     "metadata": {},
     "output_type": "execute_result"
    }
   ],
   "source": [
    "[len(i) for i in indx]"
   ]
  },
  {
   "cell_type": "code",
   "execution_count": 213,
   "metadata": {},
   "outputs": [],
   "source": [
    "two_bits.to_csv(\"../evolution_over_c_and_beta_two_bits.csv\")"
   ]
  },
  {
   "cell_type": "code",
   "execution_count": 218,
   "metadata": {},
   "outputs": [
    {
     "data": {
      "text/plain": [
       "1.0"
      ]
     },
     "execution_count": 218,
     "metadata": {},
     "output_type": "execute_result"
    }
   ],
   "source": [
    "two_bits[(two_bits['beta'] == 10) & (two_bits['c'] == 0.5)]['frequencies norm'].sum()"
   ]
  },
  {
   "cell_type": "markdown",
   "metadata": {},
   "source": [
    "### Three bits"
   ]
  },
  {
   "cell_type": "code",
   "execution_count": 175,
   "metadata": {},
   "outputs": [],
   "source": [
    "files = glob.glob(f\"../data/matlab_data/bits_8_beta_*_seed_1_*.csv\")"
   ]
  },
  {
   "cell_type": "code",
   "execution_count": 195,
   "metadata": {},
   "outputs": [],
   "source": [
    "three_bits = []\n",
    "\n",
    "for file in files:\n",
    "    \n",
    "    c = float(file.split(\"c_\")[1].split(\".csv\")[0])\n",
    "    \n",
    "    beta = float(file.split(\"beta_\")[1].split(\"_\")[0])\n",
    "    \n",
    "    df = pd.read_csv(file, names=names3)\n",
    "    \n",
    "    df = df.drop_duplicates()\n",
    "    \n",
    "    df['c'] = c\n",
    "    \n",
    "    df['beta'] = beta\n",
    "    \n",
    "    df = frequencies(df, 2 * 10 ** 7)\n",
    "    \n",
    "    three_bits.append(df)"
   ]
  },
  {
   "cell_type": "code",
   "execution_count": 196,
   "metadata": {},
   "outputs": [],
   "source": [
    "three_bits = pd.concat(three_bits)"
   ]
  },
  {
   "cell_type": "code",
   "execution_count": 197,
   "metadata": {},
   "outputs": [
    {
     "name": "stderr",
     "output_type": "stream",
     "text": [
      "2384831it [02:07, 18770.29it/s]\n"
     ]
    }
   ],
   "source": [
    "ispartner = []\n",
    "\n",
    "for i, row in tqdm.tqdm(three_bits.iterrows()):\n",
    "    condition = is_partner_three_bits(row['p_1'], row['p_2'], row['p_3'], row['p_4'],\n",
    "                                      row['p_5'], row['p_6'], row['p_7'], row['p_8'],\n",
    "                                      row['c'], 1)\n",
    "    \n",
    "    ispartner.append(condition)"
   ]
  },
  {
   "cell_type": "code",
   "execution_count": 198,
   "metadata": {},
   "outputs": [],
   "source": [
    "three_bits['isPartner'] = ispartner"
   ]
  },
  {
   "cell_type": "code",
   "execution_count": 199,
   "metadata": {},
   "outputs": [],
   "source": [
    "three_bits.to_csv(\"../evolution_over_c_and_beta_three_bits.csv\")"
   ]
  },
  {
   "cell_type": "markdown",
   "metadata": {},
   "source": [
    "## $\\beta=0.1$"
   ]
  },
  {
   "cell_type": "code",
   "execution_count": 70,
   "metadata": {},
   "outputs": [],
   "source": [
    "beta = 0.1\n",
    "\n",
    "dfs = []\n",
    "\n",
    "for sdim, label, max_step, name in zip([2, 4, 8],\n",
    "                                       ['one', 'two', 'three'],\n",
    "                                       [10 ** 7, 10 ** 7, 2 * 10 ** 7], \n",
    "                                       [names1, names2, names3]):\n",
    "    \n",
    "    for c in cs:\n",
    "\n",
    "        df = pd.read_csv(f\"../data/matlab_data/bits_{sdim}_beta_0.1_seed_1_c_{c}.csv\", names=name)\n",
    "        \n",
    "        df = df.drop_duplicates()\n",
    "\n",
    "        df['beta'] = beta\n",
    "        df['c'] = c\n",
    "        df['type'] = f'{label}-bit'\n",
    "        \n",
    "        df['seed'] = 1\n",
    "        \n",
    "        partners = []\n",
    "        for i, row in df.iterrows():\n",
    "            if sdim == 2:\n",
    "                ps = [f'p_{i}' for i in range(1, 3)]\n",
    "            if sdim == 4:\n",
    "                ps = [f'p_{i}' for i in range(1, 5)]\n",
    "            if sdim == 8:\n",
    "                ps = [f'p_{i}' for i in range(1, 9)]\n",
    "                \n",
    "            pcondition = isPartner(sdim, row[ps], c)\n",
    "            \n",
    "            partners.append(pcondition)\n",
    "            \n",
    "        df['isPartner'] = partners\n",
    "                \n",
    "        df = frequencies(df, max_step)\n",
    "\n",
    "        dfs.append(df)\n"
   ]
  },
  {
   "cell_type": "code",
   "execution_count": 69,
   "metadata": {},
   "outputs": [
    {
     "data": {
      "text/html": [
       "<div>\n",
       "<style scoped>\n",
       "    .dataframe tbody tr th:only-of-type {\n",
       "        vertical-align: middle;\n",
       "    }\n",
       "\n",
       "    .dataframe tbody tr th {\n",
       "        vertical-align: top;\n",
       "    }\n",
       "\n",
       "    .dataframe thead th {\n",
       "        text-align: right;\n",
       "    }\n",
       "</style>\n",
       "<table border=\"1\" class=\"dataframe\">\n",
       "  <thead>\n",
       "    <tr style=\"text-align: right;\">\n",
       "      <th></th>\n",
       "      <th>p_1</th>\n",
       "      <th>p_2</th>\n",
       "      <th>t</th>\n",
       "      <th>cooperation</th>\n",
       "      <th>beta</th>\n",
       "      <th>c</th>\n",
       "      <th>type</th>\n",
       "      <th>seed</th>\n",
       "    </tr>\n",
       "  </thead>\n",
       "  <tbody>\n",
       "    <tr>\n",
       "      <th>0</th>\n",
       "      <td>0.000000</td>\n",
       "      <td>0.000000</td>\n",
       "      <td>0</td>\n",
       "      <td>0.000000</td>\n",
       "      <td>0.1</td>\n",
       "      <td>1</td>\n",
       "      <td>one-bit</td>\n",
       "      <td>1</td>\n",
       "    </tr>\n",
       "    <tr>\n",
       "      <th>1</th>\n",
       "      <td>0.292531</td>\n",
       "      <td>0.010934</td>\n",
       "      <td>360</td>\n",
       "      <td>0.015219</td>\n",
       "      <td>0.1</td>\n",
       "      <td>1</td>\n",
       "      <td>one-bit</td>\n",
       "      <td>1</td>\n",
       "    </tr>\n",
       "    <tr>\n",
       "      <th>2</th>\n",
       "      <td>0.274750</td>\n",
       "      <td>0.039712</td>\n",
       "      <td>2531</td>\n",
       "      <td>0.051914</td>\n",
       "      <td>0.1</td>\n",
       "      <td>1</td>\n",
       "      <td>one-bit</td>\n",
       "      <td>1</td>\n",
       "    </tr>\n",
       "    <tr>\n",
       "      <th>3</th>\n",
       "      <td>0.113373</td>\n",
       "      <td>0.160701</td>\n",
       "      <td>2568</td>\n",
       "      <td>0.153439</td>\n",
       "      <td>0.1</td>\n",
       "      <td>1</td>\n",
       "      <td>one-bit</td>\n",
       "      <td>1</td>\n",
       "    </tr>\n",
       "    <tr>\n",
       "      <th>4</th>\n",
       "      <td>0.855035</td>\n",
       "      <td>0.079606</td>\n",
       "      <td>2983</td>\n",
       "      <td>0.354479</td>\n",
       "      <td>0.1</td>\n",
       "      <td>1</td>\n",
       "      <td>one-bit</td>\n",
       "      <td>1</td>\n",
       "    </tr>\n",
       "    <tr>\n",
       "      <th>...</th>\n",
       "      <td>...</td>\n",
       "      <td>...</td>\n",
       "      <td>...</td>\n",
       "      <td>...</td>\n",
       "      <td>...</td>\n",
       "      <td>...</td>\n",
       "      <td>...</td>\n",
       "      <td>...</td>\n",
       "    </tr>\n",
       "    <tr>\n",
       "      <th>50982</th>\n",
       "      <td>0.331345</td>\n",
       "      <td>0.528536</td>\n",
       "      <td>9999516</td>\n",
       "      <td>0.441480</td>\n",
       "      <td>0.1</td>\n",
       "      <td>1</td>\n",
       "      <td>one-bit</td>\n",
       "      <td>1</td>\n",
       "    </tr>\n",
       "    <tr>\n",
       "      <th>50983</th>\n",
       "      <td>0.407114</td>\n",
       "      <td>0.165997</td>\n",
       "      <td>9999622</td>\n",
       "      <td>0.218739</td>\n",
       "      <td>0.1</td>\n",
       "      <td>1</td>\n",
       "      <td>one-bit</td>\n",
       "      <td>1</td>\n",
       "    </tr>\n",
       "    <tr>\n",
       "      <th>50984</th>\n",
       "      <td>0.623365</td>\n",
       "      <td>0.410171</td>\n",
       "      <td>9999725</td>\n",
       "      <td>0.521311</td>\n",
       "      <td>0.1</td>\n",
       "      <td>1</td>\n",
       "      <td>one-bit</td>\n",
       "      <td>1</td>\n",
       "    </tr>\n",
       "    <tr>\n",
       "      <th>50985</th>\n",
       "      <td>0.572719</td>\n",
       "      <td>0.152886</td>\n",
       "      <td>9999734</td>\n",
       "      <td>0.263521</td>\n",
       "      <td>0.1</td>\n",
       "      <td>1</td>\n",
       "      <td>one-bit</td>\n",
       "      <td>1</td>\n",
       "    </tr>\n",
       "    <tr>\n",
       "      <th>50986</th>\n",
       "      <td>0.164408</td>\n",
       "      <td>0.725696</td>\n",
       "      <td>9999995</td>\n",
       "      <td>0.464806</td>\n",
       "      <td>0.1</td>\n",
       "      <td>1</td>\n",
       "      <td>one-bit</td>\n",
       "      <td>1</td>\n",
       "    </tr>\n",
       "  </tbody>\n",
       "</table>\n",
       "<p>50987 rows × 8 columns</p>\n",
       "</div>"
      ],
      "text/plain": [
       "            p_1       p_2        t  cooperation  beta  c     type  seed\n",
       "0      0.000000  0.000000        0     0.000000   0.1  1  one-bit     1\n",
       "1      0.292531  0.010934      360     0.015219   0.1  1  one-bit     1\n",
       "2      0.274750  0.039712     2531     0.051914   0.1  1  one-bit     1\n",
       "3      0.113373  0.160701     2568     0.153439   0.1  1  one-bit     1\n",
       "4      0.855035  0.079606     2983     0.354479   0.1  1  one-bit     1\n",
       "...         ...       ...      ...          ...   ... ..      ...   ...\n",
       "50982  0.331345  0.528536  9999516     0.441480   0.1  1  one-bit     1\n",
       "50983  0.407114  0.165997  9999622     0.218739   0.1  1  one-bit     1\n",
       "50984  0.623365  0.410171  9999725     0.521311   0.1  1  one-bit     1\n",
       "50985  0.572719  0.152886  9999734     0.263521   0.1  1  one-bit     1\n",
       "50986  0.164408  0.725696  9999995     0.464806   0.1  1  one-bit     1\n",
       "\n",
       "[50987 rows x 8 columns]"
      ]
     },
     "execution_count": 69,
     "metadata": {},
     "output_type": "execute_result"
    }
   ],
   "source": [
    "df"
   ]
  },
  {
   "cell_type": "code",
   "execution_count": 13,
   "metadata": {},
   "outputs": [],
   "source": [
    "df = pd.concat(dfs)"
   ]
  },
  {
   "cell_type": "code",
   "execution_count": 14,
   "metadata": {},
   "outputs": [],
   "source": [
    "df.to_csv(\"../evolution_for_beta_0_1.csv\")"
   ]
  },
  {
   "cell_type": "markdown",
   "metadata": {},
   "source": [
    "## $\\beta=1$"
   ]
  },
  {
   "cell_type": "code",
   "execution_count": 15,
   "metadata": {},
   "outputs": [],
   "source": [
    "beta = 1\n",
    "\n",
    "dfs = []\n",
    "\n",
    "for sdim, label, max_step, name in zip([2, 4, 8],\n",
    "                                       ['one', 'two', 'three'],\n",
    "                                       [10 ** 7, 10 ** 7, 2 * 10 ** 7], \n",
    "                                       [names1, names2, names3]):\n",
    "    \n",
    "    for c in cs:\n",
    "\n",
    "        df = pd.read_csv(f\"../data/matlab_data/bits_{sdim}_beta_{beta}_seed_1_c_{c}.csv\", names=name)\n",
    "        \n",
    "        df = df.drop_duplicates()\n",
    "\n",
    "        df['beta'] = beta\n",
    "        df['c'] = c\n",
    "        df['type'] = f'{label}-bit'\n",
    "        \n",
    "        df['seed'] = 1\n",
    "        \n",
    "        df = frequencies(df, max_step)\n",
    "\n",
    "        dfs.append(df)"
   ]
  },
  {
   "cell_type": "code",
   "execution_count": 16,
   "metadata": {},
   "outputs": [],
   "source": [
    "df = pd.concat(dfs)"
   ]
  },
  {
   "cell_type": "code",
   "execution_count": 17,
   "metadata": {},
   "outputs": [],
   "source": [
    "df.to_csv(\"../evolution_for_beta_1.csv\")"
   ]
  },
  {
   "cell_type": "markdown",
   "metadata": {},
   "source": [
    "## $\\beta = 10$"
   ]
  },
  {
   "cell_type": "code",
   "execution_count": 18,
   "metadata": {},
   "outputs": [],
   "source": [
    "beta = 10\n",
    "\n",
    "dfs = []\n",
    "\n",
    "for sdim, label, max_step, name in zip([2, 4, 8],\n",
    "                                       ['one', 'two', 'three'],\n",
    "                                       [10 ** 7, 10 ** 7, 2 * 10 ** 7], \n",
    "                                       [names1, names2, names3]):\n",
    "    \n",
    "    for c in cs:\n",
    "\n",
    "        df = pd.read_csv(f\"../data/matlab_data/bits_{sdim}_beta_{beta}_seed_1_c_{c}.csv\", names=name)\n",
    "        \n",
    "        df = df.drop_duplicates()\n",
    "\n",
    "        df['beta'] = beta\n",
    "        df['c'] = c\n",
    "        df['type'] = f'{label}-bit'\n",
    "        \n",
    "        df['seed'] = 1\n",
    "        \n",
    "        df = frequencies(df, max_step)\n",
    "\n",
    "        dfs.append(df)"
   ]
  },
  {
   "cell_type": "code",
   "execution_count": 19,
   "metadata": {},
   "outputs": [],
   "source": [
    "for sdim, label, max_step, name in zip([2, 4, 8],\n",
    "                                       ['one', 'two', 'three'],\n",
    "                                       [10 ** 7, 10 ** 7, 2 * 10 ** 7], \n",
    "                                       [names1, names2, names3]):\n",
    "    \n",
    "    for c in cs:\n",
    "\n",
    "        df = pd.read_csv(f\"../data/beta_10/bits_{sdim}_beta_{beta}_seed_2_c_{c}.csv\", names=name)\n",
    "        \n",
    "        df = df.drop_duplicates()\n",
    "\n",
    "        df['beta'] = beta\n",
    "        df['c'] = c\n",
    "        df['type'] = f'{label}-bit'\n",
    "        \n",
    "        df['seed'] = 2\n",
    "        \n",
    "        df = frequencies(df, max_step)\n",
    "\n",
    "        dfs.append(df)"
   ]
  },
  {
   "cell_type": "code",
   "execution_count": 20,
   "metadata": {},
   "outputs": [],
   "source": [
    "df = pd.concat(dfs)"
   ]
  },
  {
   "cell_type": "code",
   "execution_count": 21,
   "metadata": {},
   "outputs": [],
   "source": [
    "df.to_csv(\"../evolution_for_beta_10.csv\")"
   ]
  },
  {
   "cell_type": "markdown",
   "metadata": {},
   "source": [
    "## Over seeds"
   ]
  },
  {
   "cell_type": "code",
   "execution_count": 75,
   "metadata": {},
   "outputs": [],
   "source": [
    "import os"
   ]
  },
  {
   "cell_type": "code",
   "execution_count": 81,
   "metadata": {},
   "outputs": [],
   "source": [
    "dfs = []\n",
    "\n",
    "for sdim, type_, max_step, name in zip([2, 4, 8],\n",
    "                             ['one', 'two', 'three'],\n",
    "                             [10 ** 7, 10 ** 7, 2 * 10 ** 7],\n",
    "                             [names1, names2, names3]):\n",
    "\n",
    "    for seed in range(1, 11):\n",
    "    \n",
    "        file = f\"../data/evolution_over_seeds/bits_{sdim}_beta_1_seed_{seed}_c_0.5.csv\"\n",
    "\n",
    "        df = pd.read_csv(file, names=name)\n",
    "\n",
    "        df = df.drop_duplicates()\n",
    "\n",
    "        df['type'] = type_\n",
    "        df['seed'] = seed\n",
    "        \n",
    "        df = frequencies(df, max_step)\n",
    "\n",
    "        dfs.append(df)\n",
    "        \n",
    "        os.remove(file)"
   ]
  },
  {
   "cell_type": "code",
   "execution_count": 77,
   "metadata": {},
   "outputs": [],
   "source": [
    "df = pd.concat(dfs)"
   ]
  },
  {
   "cell_type": "code",
   "execution_count": 78,
   "metadata": {},
   "outputs": [],
   "source": [
    "df.to_csv(\"./evolution_over_seeds.csv\")"
   ]
  },
  {
   "cell_type": "markdown",
   "metadata": {},
   "source": [
    "### Discounting"
   ]
  },
  {
   "cell_type": "code",
   "execution_count": 82,
   "metadata": {},
   "outputs": [],
   "source": [
    "files = glob.glob(\"../data/counting_two_bit/*.csv\")"
   ]
  },
  {
   "cell_type": "code",
   "execution_count": 83,
   "metadata": {},
   "outputs": [],
   "source": [
    "cs = [0, 0.1, 0.2, 0.3, 0.4, 0.5, 0.6, 0.7, 0.8, 0.9, 1]"
   ]
  },
  {
   "cell_type": "code",
   "execution_count": 84,
   "metadata": {},
   "outputs": [],
   "source": [
    "names = [f\"p_{i}\" for i in range(1, 5)] + [\"t\", \"cooperation\"]"
   ]
  },
  {
   "cell_type": "code",
   "execution_count": 85,
   "metadata": {},
   "outputs": [],
   "source": [
    "dfs = []\n",
    "\n",
    "for file in files:\n",
    "    beta = float(file.split(\"beta_\")[1].split(\"_\")[0])\n",
    "    \n",
    "    c = float(file.split(\"c_\")[1].split(\".csv\")[0])\n",
    "    \n",
    "    df = pd.read_csv(file, names=names)\n",
    "        \n",
    "    df = df.drop_duplicates()\n",
    "\n",
    "    df['beta'] = beta\n",
    "    \n",
    "    df['c'] = c\n",
    "    \n",
    "    df = frequencies(df, 10 ** 7)\n",
    "\n",
    "    dfs.append(df)\n",
    "    \n",
    "    os.remove(file)"
   ]
  },
  {
   "cell_type": "code",
   "execution_count": 86,
   "metadata": {},
   "outputs": [],
   "source": [
    "df = pd.concat(dfs)"
   ]
  },
  {
   "cell_type": "code",
   "execution_count": 87,
   "metadata": {},
   "outputs": [],
   "source": [
    "df.to_csv(\"../two_bits_counting_over_cs.csv\")"
   ]
  }
 ],
 "metadata": {
  "kernelspec": {
   "display_name": "Python 3 (ipykernel)",
   "language": "python",
   "name": "python3"
  },
  "language_info": {
   "codemirror_mode": {
    "name": "ipython",
    "version": 3
   },
   "file_extension": ".py",
   "mimetype": "text/x-python",
   "name": "python",
   "nbconvert_exporter": "python",
   "pygments_lexer": "ipython3",
   "version": "3.11.3"
  }
 },
 "nbformat": 4,
 "nbformat_minor": 4
}
