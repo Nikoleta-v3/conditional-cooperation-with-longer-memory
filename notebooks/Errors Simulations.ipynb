{
 "cells": [
  {
   "cell_type": "code",
   "execution_count": 1,
   "id": "767b3d94",
   "metadata": {},
   "outputs": [],
   "source": [
    "import pandas as pd"
   ]
  },
  {
   "cell_type": "code",
   "execution_count": 2,
   "id": "f5fafff9",
   "metadata": {},
   "outputs": [],
   "source": [
    "import matplotlib.pyplot as plt\n",
    "\n",
    "import matplotlib\n",
    "\n",
    "from mpl_toolkits.axes_grid1 import make_axes_locatable\n",
    "\n",
    "import matplotlib.patches as mpatches"
   ]
  },
  {
   "cell_type": "code",
   "execution_count": 3,
   "id": "88dcd659",
   "metadata": {},
   "outputs": [],
   "source": [
    "import matplotlib.gridspec as gridspec\n",
    "\n",
    "import matplotlib.colors as colors"
   ]
  },
  {
   "cell_type": "code",
   "execution_count": 4,
   "id": "aa16b153",
   "metadata": {},
   "outputs": [],
   "source": [
    "import numpy as np"
   ]
  },
  {
   "cell_type": "code",
   "execution_count": 5,
   "id": "5343c2f6",
   "metadata": {},
   "outputs": [],
   "source": [
    "# plt.rcParams[\"font.weight\"] = \"bold\"\n",
    "# plt.rcParams[\"axes.labelweight\"] = \"bold\"\n",
    "plt.rcParams[\"font.size\"] = 12\n",
    "\n",
    "plt.rcParams[\"font.family\"] = \"Arial\""
   ]
  },
  {
   "cell_type": "code",
   "execution_count": 6,
   "id": "3e2d7ed2",
   "metadata": {},
   "outputs": [],
   "source": [
    "import glob"
   ]
  },
  {
   "cell_type": "code",
   "execution_count": 7,
   "id": "517980f9",
   "metadata": {},
   "outputs": [],
   "source": [
    "from tqdm.notebook import tqdm"
   ]
  },
  {
   "cell_type": "code",
   "execution_count": 8,
   "id": "91f5b733",
   "metadata": {},
   "outputs": [],
   "source": [
    "def frequencies(df, max_steps=10**7):\n",
    "    frequencies = []\n",
    "    previous = 0\n",
    "    for value in df[\"t\"][1:]:\n",
    "        frequencies.append(value - previous)\n",
    "        previous = value\n",
    "    frequencies.append(max_steps - previous)\n",
    "\n",
    "    df[\"frequencies\"] = np.array(frequencies)\n",
    "    df[\"frequencies norm\"] = np.array(frequencies) / max_steps\n",
    "\n",
    "    return df"
   ]
  },
  {
   "cell_type": "code",
   "execution_count": 9,
   "id": "46704ffd",
   "metadata": {},
   "outputs": [],
   "source": [
    "reactone_col = [\"p1\", \"p2\", \"t\", \"coop.\"]\n",
    "\n",
    "reacttwo_col = [\"p1\", \"p2\", \"p3\", \"p4\", \"t\", \"coop.\"]\n",
    "\n",
    "reactthree_col = [\"p1\", \"p2\", \"p3\", \"p4\", \"p5\", \"p6\", \"p7\", \"p8\", \"t\", \"coop.\"]"
   ]
  },
  {
   "cell_type": "markdown",
   "id": "1a59aa3d",
   "metadata": {},
   "source": [
    "### Values"
   ]
  },
  {
   "cell_type": "code",
   "execution_count": 10,
   "id": "0f4bf456",
   "metadata": {},
   "outputs": [],
   "source": [
    "powers = [-5 , -4.5,   -4,   -3.5,   -3,   -2.5, -2,   -1.5,   -1]"
   ]
  },
  {
   "cell_type": "code",
   "execution_count": 11,
   "id": "e4836c5b",
   "metadata": {},
   "outputs": [
    {
     "data": {
      "text/plain": [
       "['$10^{-5.0}$',\n",
       " '$10^{-4.5}$',\n",
       " '$10^{-4.0}$',\n",
       " '$10^{-3.5}$',\n",
       " '$10^{-3.0}$',\n",
       " '$10^{-2.5}$',\n",
       " '$10^{-2.0}$',\n",
       " '$10^{-1.5}$',\n",
       " '$10^{-1.0}$']"
      ]
     },
     "execution_count": 11,
     "metadata": {},
     "output_type": "execute_result"
    }
   ],
   "source": [
    "['$10^{-5.0}$',\n",
    " '$10^{-4.5}$',\n",
    " '$10^{-4.0}$',\n",
    " '$10^{-3.5}$',\n",
    " '$10^{-3.0}$',\n",
    " '$10^{-2.5}$',\n",
    " '$10^{-2.0}$',\n",
    " '$10^{-1.5}$',\n",
    " '$10^{-1.0}$']"
   ]
  },
  {
   "cell_type": "markdown",
   "id": "ece7a090",
   "metadata": {},
   "source": [
    "### Heat Maps"
   ]
  },
  {
   "cell_type": "code",
   "execution_count": 12,
   "id": "82b3d3ed",
   "metadata": {},
   "outputs": [],
   "source": [
    "files = glob.glob(\"../src/evolution_simulations/ErrorGrid/dimension_2_error_*.csv\")"
   ]
  },
  {
   "cell_type": "code",
   "execution_count": 13,
   "id": "978452de",
   "metadata": {},
   "outputs": [],
   "source": [
    "files.sort()"
   ]
  },
  {
   "cell_type": "code",
   "execution_count": 14,
   "id": "abdd6a66",
   "metadata": {},
   "outputs": [
    {
     "data": {
      "application/vnd.jupyter.widget-view+json": {
       "model_id": "6b2150447d46444e8b489bd21bbffdb0",
       "version_major": 2,
       "version_minor": 0
      },
      "text/plain": [
       "  0%|          | 0/90 [00:00<?, ?it/s]"
      ]
     },
     "metadata": {},
     "output_type": "display_data"
    }
   ],
   "source": [
    "data1 = []\n",
    "\n",
    "for file in tqdm(files):\n",
    "    error = float(file.split(\"error_\")[-1].split(\"_cost\")[0])\n",
    "    cost = float(file.split(\"cost_\")[-1].split(\".csv\")[0])\n",
    "    df = pd.read_csv(file, names=reactone_col)\n",
    "    df = df.drop_duplicates()\n",
    "    df = frequencies(df, 10 ** 7)\n",
    "    \n",
    "    coop = sum(df['coop.'] * df['frequencies norm'])\n",
    "    \n",
    "    data1.append((error, cost, coop))"
   ]
  },
  {
   "cell_type": "code",
   "execution_count": 20,
   "id": "abfbdfdb",
   "metadata": {},
   "outputs": [
    {
     "data": {
      "text/plain": [
       "90"
      ]
     },
     "execution_count": 20,
     "metadata": {},
     "output_type": "execute_result"
    }
   ],
   "source": [
    "len(data1)"
   ]
  },
  {
   "cell_type": "code",
   "execution_count": 21,
   "id": "35cca55f",
   "metadata": {},
   "outputs": [],
   "source": [
    "df3 = pd.DataFrame(data1, columns=['error', 'cost', 'coop'])"
   ]
  },
  {
   "cell_type": "code",
   "execution_count": 22,
   "id": "b0a66f55",
   "metadata": {},
   "outputs": [],
   "source": [
    "df3 = df3.sort_values([\"error\", \"cost\"])"
   ]
  },
  {
   "cell_type": "code",
   "execution_count": 23,
   "id": "ee1501ed",
   "metadata": {},
   "outputs": [
    {
     "data": {
      "image/png": "[encoded data removed]",
      "text/plain": [
       "<Figure size 640x480 with 2 Axes>"
      ]
     },
     "metadata": {},
     "output_type": "display_data"
    }
   ],
   "source": [
    "plt.imshow(df3['coop'].values.reshape((9, 10)).T, origin=\"lower\", cmap='plasma');\n",
    "\n",
    "plt.yticks(range(10), df3['cost'].unique())\n",
    "\n",
    "plt.xticks(range(9), ['$10^{-5}$',\n",
    " '$10^{-4.5}$',\n",
    " '$10^{-4}$',\n",
    " '$10^{-3.5}$',\n",
    " '$10^{-3}$',\n",
    " '$10^{-2.5}$',\n",
    " '$10^{-2}$',\n",
    " '$10^{-1.5}$',\n",
    " '$10^{-1}$'], fontsize=9)\n",
    "\n",
    "plt.xlabel(\"error ($\\epsilon$)\")\n",
    "\n",
    "plt.ylabel(\"cost ($c$)\")\n",
    "\n",
    "plt.colorbar();"
   ]
  },
  {
   "cell_type": "code",
   "execution_count": 24,
   "id": "4b54efa3",
   "metadata": {},
   "outputs": [],
   "source": [
    "files = glob.glob(\"../src/evolution_simulations/ErrorGrid/dimension_4_error_*.csv\")"
   ]
  },
  {
   "cell_type": "code",
   "execution_count": 25,
   "id": "905feedc",
   "metadata": {},
   "outputs": [],
   "source": [
    "files.sort()"
   ]
  },
  {
   "cell_type": "code",
   "execution_count": 26,
   "id": "7fafe43d",
   "metadata": {},
   "outputs": [
    {
     "data": {
      "application/vnd.jupyter.widget-view+json": {
       "model_id": "d511ddbb242646fe9c0da05633feb4bd",
       "version_major": 2,
       "version_minor": 0
      },
      "text/plain": [
       "  0%|          | 0/90 [00:00<?, ?it/s]"
      ]
     },
     "metadata": {},
     "output_type": "display_data"
    }
   ],
   "source": [
    "data = []\n",
    "\n",
    "for file in tqdm(files):\n",
    "    error = float(file.split(\"error_\")[-1].split(\"_cost\")[0])\n",
    "    cost = float(file.split(\"cost_\")[-1].split(\".csv\")[0])\n",
    "    df = pd.read_csv(file, names=reacttwo_col)\n",
    "    df = df.drop_duplicates()\n",
    "    df = frequencies(df, 10 ** 7)\n",
    "    \n",
    "    coop = sum(df['coop.'] * df['frequencies norm'])\n",
    "    \n",
    "    data.append((error, cost, coop))"
   ]
  },
  {
   "cell_type": "code",
   "execution_count": 27,
   "id": "c4992448",
   "metadata": {},
   "outputs": [],
   "source": [
    "df1 = pd.DataFrame(data, columns=['error', 'cost', 'coop'])"
   ]
  },
  {
   "cell_type": "code",
   "execution_count": 28,
   "id": "77c75650",
   "metadata": {},
   "outputs": [],
   "source": [
    "df1 = df1.sort_values([\"error\", \"cost\"])"
   ]
  },
  {
   "cell_type": "code",
   "execution_count": 29,
   "id": "49f4320a",
   "metadata": {},
   "outputs": [
    {
     "data": {
      "image/png": "[encoded data removed]",
      "text/plain": [
       "<Figure size 640x480 with 2 Axes>"
      ]
     },
     "metadata": {},
     "output_type": "display_data"
    }
   ],
   "source": [
    "plt.imshow(df1['coop'].values.reshape((9, 10)).T, origin=\"lower\", cmap='plasma');\n",
    "\n",
    "plt.yticks(range(10), df1['cost'].unique())\n",
    "\n",
    "plt.xticks(range(9), ['$10^{-5}$',\n",
    " '$10^{-4.5}$',\n",
    " '$10^{-4}$',\n",
    " '$10^{-3.5}$',\n",
    " '$10^{-3}$',\n",
    " '$10^{-2.5}$',\n",
    " '$10^{-2}$',\n",
    " '$10^{-1.5}$',\n",
    " '$10^{-1}$'], fontsize=9)\n",
    "\n",
    "plt.xlabel(\"error ($\\epsilon$)\")\n",
    "\n",
    "plt.ylabel(\"cost ($c$)\")\n",
    "\n",
    "plt.colorbar();"
   ]
  },
  {
   "cell_type": "code",
   "execution_count": 30,
   "id": "d943cb8c",
   "metadata": {},
   "outputs": [],
   "source": [
    "files = glob.glob(\"../src/evolution_simulations/ErrorGrid/dimension_8_error_*.csv\")"
   ]
  },
  {
   "cell_type": "code",
   "execution_count": 31,
   "id": "35c706cf",
   "metadata": {},
   "outputs": [],
   "source": [
    "files.sort()"
   ]
  },
  {
   "cell_type": "code",
   "execution_count": 32,
   "id": "a2c7ce9a",
   "metadata": {},
   "outputs": [
    {
     "data": {
      "application/vnd.jupyter.widget-view+json": {
       "model_id": "bc41b33082d34a2483e0f99386a4ed2f",
       "version_major": 2,
       "version_minor": 0
      },
      "text/plain": [
       "  0%|          | 0/90 [00:00<?, ?it/s]"
      ]
     },
     "metadata": {},
     "output_type": "display_data"
    }
   ],
   "source": [
    "data3 = []\n",
    "\n",
    "for file in tqdm(files):\n",
    "    error = float(file.split(\"error_\")[-1].split(\"_cost\")[0])\n",
    "    cost = float(file.split(\"cost_\")[-1].split(\".csv\")[0])\n",
    "    df = pd.read_csv(file, names=reactthree_col)\n",
    "    df = df.drop_duplicates()\n",
    "    df = frequencies(df, 10 ** 7)\n",
    "    \n",
    "    coop = sum(df['coop.'] * df['frequencies norm'])\n",
    "    \n",
    "    data3.append((error, cost, coop))"
   ]
  },
  {
   "cell_type": "code",
   "execution_count": 33,
   "id": "f1d9e1b6",
   "metadata": {},
   "outputs": [],
   "source": [
    "df2 = pd.DataFrame(data3, columns=['error', 'cost', 'coop'])"
   ]
  },
  {
   "cell_type": "code",
   "execution_count": 34,
   "id": "7981ba85",
   "metadata": {},
   "outputs": [],
   "source": [
    "df2 = df2.sort_values([\"error\", \"cost\"])"
   ]
  },
  {
   "cell_type": "code",
   "execution_count": 35,
   "id": "fcb1173b",
   "metadata": {},
   "outputs": [],
   "source": [
    "vmin = 0\n",
    "vmax = 1\n",
    "norm = colors.TwoSlopeNorm(vmin=vmin, vcenter=0.5, vmax=vmax)"
   ]
  },
  {
   "cell_type": "code",
   "execution_count": 37,
   "id": "f9dcb99d",
   "metadata": {
    "scrolled": false
   },
   "outputs": [
    {
     "data": {
      "image/png": "[encoded data removed]",
      "text/plain": [
       "<Figure size 1300x500 with 6 Axes>"
      ]
     },
     "metadata": {},
     "output_type": "display_data"
    }
   ],
   "source": [
    "fig, axes = plt.subplots(ncols=3, figsize=(13, 5), sharex=True, sharey=True)\n",
    "\n",
    "for i, df in enumerate([df3, df1, df2]):\n",
    "\n",
    "    im = axes[i].imshow(df['coop'].values.reshape((9, 10)).T,\n",
    "                         origin=\"lower\",\n",
    "                         cmap='plasma',\n",
    "                         vmax=1,\n",
    "                         vmin=0);\n",
    "\n",
    "    axes[i].set_yticks(range(10), df['cost'].unique())\n",
    "\n",
    "    axes[i].set_xticks(range(9), ['$10^{-5}$',\n",
    "     '$10^{-4.5}$',\n",
    "     '$10^{-4}$',\n",
    "     '$10^{-3.5}$',\n",
    "     '$10^{-3}$',\n",
    "     '$10^{-2.5}$',\n",
    "     '$10^{-2}$',\n",
    "     '$10^{-1.5}$',\n",
    "     '$10^{-1}$'], fontsize=9)\n",
    "    \n",
    "    axes[i].set_xlabel(\"error ($\\epsilon$)\")\n",
    "\n",
    "    divider = make_axes_locatable(axes[i])\n",
    "\n",
    "    cax = divider.append_axes('right', size='5%', pad=0.05)\n",
    "\n",
    "    fig.colorbar(im, cax=cax, orientation='vertical');\n",
    "\n",
    "\n",
    "\n",
    "axes[0].set_ylabel(\"cost ($c$)\")\n",
    "\n",
    "axes[0].set_title(\"Reactive-1\")\n",
    "\n",
    "axes[1].set_title(\"Reactive-2\")\n",
    "\n",
    "axes[2].set_title(\"Reactive-3\")\n",
    "\n",
    "fig.tight_layout();"
   ]
  },
  {
   "cell_type": "code",
   "execution_count": 38,
   "id": "4445dd82",
   "metadata": {},
   "outputs": [
    {
     "data": {
      "image/png": "[encoded data removed]",
      "text/plain": [
       "<Figure size 640x480 with 2 Axes>"
      ]
     },
     "metadata": {},
     "output_type": "display_data"
    }
   ],
   "source": [
    "plt.imshow(df2['coop'].values.reshape((9, 10)).T - df1['coop'].values.reshape((9, 10)).T,\n",
    "           origin=\"lower\", cmap='plasma');\n",
    "\n",
    "plt.yticks(range(10), df1['cost'].unique())\n",
    "\n",
    "plt.xticks(range(9), ['$10^{-5}$',\n",
    " '$10^{-4.5}$',\n",
    " '$10^{-4}$',\n",
    " '$10^{-3.5}$',\n",
    " '$10^{-3}$',\n",
    " '$10^{-2.5}$',\n",
    " '$10^{-2}$',\n",
    " '$10^{-1.5}$',\n",
    " '$10^{-1}$'], fontsize=9)\n",
    "\n",
    "plt.xlabel(\"error ($\\epsilon$)\")\n",
    "\n",
    "plt.ylabel(\"cost ($c$)\")\n",
    "\n",
    "plt.colorbar();"
   ]
  },
  {
   "cell_type": "code",
   "execution_count": null,
   "id": "e4e86d2e",
   "metadata": {},
   "outputs": [],
   "source": [
    "noerrors = []\n",
    "\n",
    "\n",
    "for file, columns, run in zip(files, [reactone_col, reacttwo_col, reactthree_col], runs):\n",
    "    df = pd.read_csv(file, names=columns)\n",
    "    df = df.drop_duplicates()\n",
    "    df = frequencies(df, run)\n",
    "    \n",
    "    noerrors.append(df)"
   ]
  },
  {
   "cell_type": "code",
   "execution_count": 20,
   "id": "bf40d506",
   "metadata": {},
   "outputs": [
    {
     "data": {
      "text/html": [
       "<div>\n",
       "<style scoped>\n",
       "    .dataframe tbody tr th:only-of-type {\n",
       "        vertical-align: middle;\n",
       "    }\n",
       "\n",
       "    .dataframe tbody tr th {\n",
       "        vertical-align: top;\n",
       "    }\n",
       "\n",
       "    .dataframe thead th {\n",
       "        text-align: right;\n",
       "    }\n",
       "</style>\n",
       "<table border=\"1\" class=\"dataframe\">\n",
       "  <thead>\n",
       "    <tr style=\"text-align: right;\">\n",
       "      <th></th>\n",
       "      <th>0</th>\n",
       "      <th>0.1</th>\n",
       "      <th>0.2</th>\n",
       "      <th>0.3</th>\n",
       "      <th>0.4</th>\n",
       "      <th>0.5</th>\n",
       "    </tr>\n",
       "  </thead>\n",
       "  <tbody>\n",
       "    <tr>\n",
       "      <th>0</th>\n",
       "      <td>0.187570</td>\n",
       "      <td>0.889442</td>\n",
       "      <td>0.583406</td>\n",
       "      <td>0.309246</td>\n",
       "      <td>248</td>\n",
       "      <td>0.498197</td>\n",
       "    </tr>\n",
       "    <tr>\n",
       "      <th>1</th>\n",
       "      <td>0.377240</td>\n",
       "      <td>0.663603</td>\n",
       "      <td>0.086333</td>\n",
       "      <td>0.549890</td>\n",
       "      <td>466</td>\n",
       "      <td>0.428121</td>\n",
       "    </tr>\n",
       "    <tr>\n",
       "      <th>2</th>\n",
       "      <td>0.503378</td>\n",
       "      <td>0.527160</td>\n",
       "      <td>0.288080</td>\n",
       "      <td>0.511999</td>\n",
       "      <td>520</td>\n",
       "      <td>0.457661</td>\n",
       "    </tr>\n",
       "    <tr>\n",
       "      <th>3</th>\n",
       "      <td>0.890724</td>\n",
       "      <td>0.858715</td>\n",
       "      <td>0.184257</td>\n",
       "      <td>0.236809</td>\n",
       "      <td>565</td>\n",
       "      <td>0.627072</td>\n",
       "    </tr>\n",
       "    <tr>\n",
       "      <th>4</th>\n",
       "      <td>0.882602</td>\n",
       "      <td>0.631594</td>\n",
       "      <td>0.963663</td>\n",
       "      <td>0.599714</td>\n",
       "      <td>646</td>\n",
       "      <td>0.855999</td>\n",
       "    </tr>\n",
       "    <tr>\n",
       "      <th>...</th>\n",
       "      <td>...</td>\n",
       "      <td>...</td>\n",
       "      <td>...</td>\n",
       "      <td>...</td>\n",
       "      <td>...</td>\n",
       "      <td>...</td>\n",
       "    </tr>\n",
       "    <tr>\n",
       "      <th>99994</th>\n",
       "      <td>0.000000</td>\n",
       "      <td>0.000000</td>\n",
       "      <td>0.000000</td>\n",
       "      <td>0.000000</td>\n",
       "      <td>0</td>\n",
       "      <td>0.000000</td>\n",
       "    </tr>\n",
       "    <tr>\n",
       "      <th>99995</th>\n",
       "      <td>0.000000</td>\n",
       "      <td>0.000000</td>\n",
       "      <td>0.000000</td>\n",
       "      <td>0.000000</td>\n",
       "      <td>0</td>\n",
       "      <td>0.000000</td>\n",
       "    </tr>\n",
       "    <tr>\n",
       "      <th>99996</th>\n",
       "      <td>0.000000</td>\n",
       "      <td>0.000000</td>\n",
       "      <td>0.000000</td>\n",
       "      <td>0.000000</td>\n",
       "      <td>0</td>\n",
       "      <td>0.000000</td>\n",
       "    </tr>\n",
       "    <tr>\n",
       "      <th>99997</th>\n",
       "      <td>0.000000</td>\n",
       "      <td>0.000000</td>\n",
       "      <td>0.000000</td>\n",
       "      <td>0.000000</td>\n",
       "      <td>0</td>\n",
       "      <td>0.000000</td>\n",
       "    </tr>\n",
       "    <tr>\n",
       "      <th>99998</th>\n",
       "      <td>0.000000</td>\n",
       "      <td>0.000000</td>\n",
       "      <td>0.000000</td>\n",
       "      <td>0.000000</td>\n",
       "      <td>0</td>\n",
       "      <td>0.000000</td>\n",
       "    </tr>\n",
       "  </tbody>\n",
       "</table>\n",
       "<p>99999 rows × 6 columns</p>\n",
       "</div>"
      ],
      "text/plain": [
       "              0       0.1       0.2       0.3  0.4       0.5\n",
       "0      0.187570  0.889442  0.583406  0.309246  248  0.498197\n",
       "1      0.377240  0.663603  0.086333  0.549890  466  0.428121\n",
       "2      0.503378  0.527160  0.288080  0.511999  520  0.457661\n",
       "3      0.890724  0.858715  0.184257  0.236809  565  0.627072\n",
       "4      0.882602  0.631594  0.963663  0.599714  646  0.855999\n",
       "...         ...       ...       ...       ...  ...       ...\n",
       "99994  0.000000  0.000000  0.000000  0.000000    0  0.000000\n",
       "99995  0.000000  0.000000  0.000000  0.000000    0  0.000000\n",
       "99996  0.000000  0.000000  0.000000  0.000000    0  0.000000\n",
       "99997  0.000000  0.000000  0.000000  0.000000    0  0.000000\n",
       "99998  0.000000  0.000000  0.000000  0.000000    0  0.000000\n",
       "\n",
       "[99999 rows x 6 columns]"
      ]
     },
     "execution_count": 20,
     "metadata": {},
     "output_type": "execute_result"
    }
   ],
   "source": [
    "pd.read_csv('../src/evolution_simulations/ErrorGrid/dimension_4_error_0.0001_cost_0.1.csv')"
   ]
  },
  {
   "cell_type": "code",
   "execution_count": null,
   "id": "5b7a8bf0",
   "metadata": {},
   "outputs": [],
   "source": []
  },
  {
   "cell_type": "markdown",
   "id": "bd769362",
   "metadata": {},
   "source": [
    "### No Errors"
   ]
  },
  {
   "cell_type": "code",
   "execution_count": 96,
   "id": "e23ee58c",
   "metadata": {},
   "outputs": [],
   "source": [
    "files = ['../src/evolution_simulations/reactive_one_no_error.csv',\n",
    "         '../src/evolution_simulations/reactive_two_no_error.csv',\n",
    "         '../data/matlab_data/bits_8_beta_1_seed_1_c_0.3.csv']"
   ]
  },
  {
   "cell_type": "code",
   "execution_count": 97,
   "id": "e6b97c85",
   "metadata": {},
   "outputs": [],
   "source": [
    "noerrors = []\n",
    "\n",
    "runs = [10 ** 7, 10 ** 7, 2 * 10 ** 7]\n",
    "\n",
    "for file, columns, run in zip(files, [reactone_col, reacttwo_col, reactthree_col], runs):\n",
    "    df = pd.read_csv(file, names=columns)\n",
    "    df = df.drop_duplicates()\n",
    "    df = frequencies(df, run)\n",
    "    \n",
    "    noerrors.append(df)"
   ]
  },
  {
   "cell_type": "code",
   "execution_count": 98,
   "id": "0b0dc6d3",
   "metadata": {},
   "outputs": [],
   "source": [
    "noerror_coops = [sum(df['coop.'] * df['frequencies norm']) for df in noerrors]"
   ]
  },
  {
   "cell_type": "code",
   "execution_count": 99,
   "id": "a03c3060",
   "metadata": {},
   "outputs": [
    {
     "data": {
      "text/plain": [
       "[0.48235467699928053, 0.6661317443516404, 0.8312889514831286]"
      ]
     },
     "execution_count": 99,
     "metadata": {},
     "output_type": "execute_result"
    }
   ],
   "source": [
    "noerror_coops "
   ]
  },
  {
   "cell_type": "markdown",
   "id": "416cfc27",
   "metadata": {},
   "source": [
    "### With Errors"
   ]
  },
  {
   "cell_type": "code",
   "execution_count": 66,
   "id": "dc981956",
   "metadata": {},
   "outputs": [],
   "source": [
    "files = glob.glob(\"../src/evolution_simulations/ErrorSim/reactive_one_*.csv\")"
   ]
  },
  {
   "cell_type": "code",
   "execution_count": 67,
   "id": "67286745",
   "metadata": {},
   "outputs": [
    {
     "data": {
      "application/vnd.jupyter.widget-view+json": {
       "model_id": "2381d29788f5487ea8cea76a25e52993",
       "version_major": 2,
       "version_minor": 0
      },
      "text/plain": [
       "  0%|          | 0/7 [00:00<?, ?it/s]"
      ]
     },
     "metadata": {},
     "output_type": "display_data"
    }
   ],
   "source": [
    "reactive_one_errors = []\n",
    "errors = [0]\n",
    "\n",
    "for file in tqdm(files):\n",
    "    error = float(file.split(\"_\")[-1].split(\".csv\")[0])\n",
    "    errors.append(error)\n",
    "\n",
    "    df = pd.read_csv(file, names=reactone_col)\n",
    "\n",
    "    df = df.drop_duplicates()\n",
    "\n",
    "    df[\"error\"] = error\n",
    "\n",
    "\n",
    "    df = frequencies(df, 10**7)\n",
    "\n",
    "    reactive_one_errors.append(df)"
   ]
  },
  {
   "cell_type": "code",
   "execution_count": 68,
   "id": "0898cf7e",
   "metadata": {},
   "outputs": [],
   "source": [
    "reactive_one_errors = pd.concat(reactive_one_errors)\n",
    "reactive_one_errors = reactive_one_errors.sort_values(\"error\")"
   ]
  },
  {
   "cell_type": "markdown",
   "id": "993437aa",
   "metadata": {},
   "source": [
    "#### Two"
   ]
  },
  {
   "cell_type": "code",
   "execution_count": 69,
   "id": "3c04a866",
   "metadata": {},
   "outputs": [],
   "source": [
    "files = glob.glob(\"../src/evolution_simulations/ErrorSim/reactive_two_*.csv\")"
   ]
  },
  {
   "cell_type": "code",
   "execution_count": 70,
   "id": "66234e89",
   "metadata": {},
   "outputs": [
    {
     "data": {
      "application/vnd.jupyter.widget-view+json": {
       "model_id": "4c833634ceb14af38556df891181eb8b",
       "version_major": 2,
       "version_minor": 0
      },
      "text/plain": [
       "  0%|          | 0/7 [00:00<?, ?it/s]"
      ]
     },
     "metadata": {},
     "output_type": "display_data"
    }
   ],
   "source": [
    "reactive_two_errors = []\n",
    "errors = [0]\n",
    "\n",
    "for file in tqdm(files):\n",
    "    error = float(file.split(\"_\")[-1].split(\".csv\")[0])\n",
    "    errors.append(error)\n",
    "\n",
    "    df = pd.read_csv(file, names=reacttwo_col)\n",
    "\n",
    "    df = df.drop_duplicates()\n",
    "\n",
    "    df[\"error\"] = error\n",
    "\n",
    "\n",
    "    df = frequencies(df, 10**7)\n",
    "\n",
    "    reactive_two_errors.append(df)"
   ]
  },
  {
   "cell_type": "code",
   "execution_count": 71,
   "id": "0fd34196",
   "metadata": {},
   "outputs": [],
   "source": [
    "reactive_two_errors = pd.concat(reactive_two_errors)\n",
    "reactive_two_errors = reactive_two_errors.sort_values(\"error\")"
   ]
  },
  {
   "cell_type": "code",
   "execution_count": 72,
   "id": "0106e467",
   "metadata": {},
   "outputs": [],
   "source": [
    "files = glob.glob(\"../src/evolution_simulations/ErrorSim 2/reactive_three_*.csv\")"
   ]
  },
  {
   "cell_type": "code",
   "execution_count": 73,
   "id": "9401b60d",
   "metadata": {},
   "outputs": [
    {
     "data": {
      "application/vnd.jupyter.widget-view+json": {
       "model_id": "d32152f44c84402790e974a1f7e8a9c8",
       "version_major": 2,
       "version_minor": 0
      },
      "text/plain": [
       "  0%|          | 0/7 [00:00<?, ?it/s]"
      ]
     },
     "metadata": {},
     "output_type": "display_data"
    }
   ],
   "source": [
    "reactive_three_errors = []\n",
    "errors_three = []\n",
    "\n",
    "for file in tqdm(files):\n",
    "    error = float(file.split(\"_\")[-1].split(\".csv\")[0])\n",
    "    errors_three.append(error)\n",
    "\n",
    "    df = pd.read_csv(file, names=reactthree_col)\n",
    "\n",
    "    df = df.drop_duplicates()\n",
    "\n",
    "    df[\"error\"] = error\n",
    "\n",
    "\n",
    "    df = frequencies(df, 10**7)\n",
    "\n",
    "    reactive_three_errors.append(df)"
   ]
  },
  {
   "cell_type": "code",
   "execution_count": 74,
   "id": "0212a66c",
   "metadata": {},
   "outputs": [],
   "source": [
    "reactive_three_errors = pd.concat(reactive_three_errors)\n",
    "reactive_three_errors = reactive_three_errors.sort_values(\"error\")"
   ]
  },
  {
   "cell_type": "code",
   "execution_count": 100,
   "id": "6f8213e9",
   "metadata": {},
   "outputs": [],
   "source": [
    "errors = []\n",
    "points = []\n",
    "\n",
    "for i, df in enumerate([reactive_one_errors, reactive_two_errors, reactive_three_errors]):\n",
    "    groups = df.groupby(\"error\")\n",
    "    \n",
    "    error_points = [0]\n",
    "    coop_points = [noerror_coops[i]]\n",
    "    \n",
    "    for j, group in groups:\n",
    "        error_points.append(j)\n",
    "        coop = sum(group['coop.'] * group['frequencies norm'])\n",
    "        coop_points.append(coop)\n",
    "    error_points.sort()\n",
    "\n",
    "\n",
    "    errors.append(error_points)\n",
    "    points.append(coop_points)"
   ]
  },
  {
   "cell_type": "code",
   "execution_count": 105,
   "id": "094c96c0",
   "metadata": {},
   "outputs": [
    {
     "data": {
      "image/png": "[encoded data removed]",
      "text/plain": [
       "<Figure size 640x480 with 1 Axes>"
      ]
     },
     "metadata": {},
     "output_type": "display_data"
    }
   ],
   "source": [
    "labels = ['reactive-1', 'reactive-2', 'reactive-3']\n",
    "\n",
    "for error, coops, label in zip(errors, points, labels):\n",
    "\n",
    "    plt.plot(error, coops, '-o', label=label);\n",
    "    \n",
    "    \n",
    "plt.legend();\n",
    "plt.ylabel(\"Av. cooperation\");\n",
    "plt.xlabel(\"$\\epsilon$\");"
   ]
  }
 ],
 "metadata": {
  "kernelspec": {
   "display_name": "Python 3",
   "language": "python",
   "name": "python3"
  },
  "language_info": {
   "codemirror_mode": {
    "name": "ipython",
    "version": 3
   },
   "file_extension": ".py",
   "mimetype": "text/x-python",
   "name": "python",
   "nbconvert_exporter": "python",
   "pygments_lexer": "ipython3",
   "version": "3.11.3"
  }
 },
 "nbformat": 4,
 "nbformat_minor": 5
}
