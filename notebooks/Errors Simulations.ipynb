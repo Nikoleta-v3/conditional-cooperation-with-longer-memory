{
 "cells": [
  {
   "cell_type": "code",
   "execution_count": 1,
   "id": "767b3d94",
   "metadata": {},
   "outputs": [],
   "source": [
    "import pandas as pd"
   ]
  },
  {
   "cell_type": "code",
   "execution_count": 2,
   "id": "f5fafff9",
   "metadata": {},
   "outputs": [],
   "source": [
    "import matplotlib.pyplot as plt\n",
    "\n",
    "import matplotlib\n",
    "\n",
    "from mpl_toolkits.axes_grid1 import make_axes_locatable\n",
    "\n",
    "import matplotlib.patches as mpatches"
   ]
  },
  {
   "cell_type": "code",
   "execution_count": 3,
   "id": "88dcd659",
   "metadata": {},
   "outputs": [],
   "source": [
    "import matplotlib.gridspec as gridspec\n",
    "\n",
    "import matplotlib.colors as colors"
   ]
  },
  {
   "cell_type": "code",
   "execution_count": 4,
   "id": "aa16b153",
   "metadata": {},
   "outputs": [],
   "source": [
    "import numpy as np"
   ]
  },
  {
   "cell_type": "code",
   "execution_count": 5,
   "id": "5343c2f6",
   "metadata": {},
   "outputs": [],
   "source": [
    "# plt.rcParams[\"font.weight\"] = \"bold\"\n",
    "# plt.rcParams[\"axes.labelweight\"] = \"bold\"\n",
    "plt.rcParams[\"font.size\"] = 12\n",
    "\n",
    "plt.rcParams[\"font.family\"] = \"Arial\""
   ]
  },
  {
   "cell_type": "code",
   "execution_count": 6,
   "id": "3e2d7ed2",
   "metadata": {},
   "outputs": [],
   "source": [
    "import glob"
   ]
  },
  {
   "cell_type": "code",
   "execution_count": 7,
   "id": "517980f9",
   "metadata": {},
   "outputs": [],
   "source": [
    "from tqdm.notebook import tqdm"
   ]
  },
  {
   "cell_type": "code",
   "execution_count": 8,
   "id": "91f5b733",
   "metadata": {},
   "outputs": [],
   "source": [
    "def frequencies(df, max_steps=10**7):\n",
    "    frequencies = []\n",
    "    previous = 0\n",
    "    for value in df[\"t\"][1:]:\n",
    "        frequencies.append(value - previous)\n",
    "        previous = value\n",
    "    frequencies.append(max_steps - previous)\n",
    "\n",
    "    df[\"frequencies\"] = np.array(frequencies)\n",
    "    df[\"frequencies norm\"] = np.array(frequencies) / max_steps\n",
    "\n",
    "    return df"
   ]
  },
  {
   "cell_type": "code",
   "execution_count": 9,
   "id": "46704ffd",
   "metadata": {},
   "outputs": [],
   "source": [
    "reactone_col = [\"p1\", \"p2\", \"t\", \"coop.\"]\n",
    "\n",
    "reacttwo_col = [\"p1\", \"p2\", \"p3\", \"p4\", \"t\", \"coop.\"]\n",
    "\n",
    "reactthree_col = [\"p1\", \"p2\", \"p3\", \"p4\", \"p5\", \"p6\", \"p7\", \"p8\", \"t\", \"coop.\"]"
   ]
  },
  {
   "cell_type": "markdown",
   "id": "1a59aa3d",
   "metadata": {},
   "source": [
    "### Values"
   ]
  },
  {
   "cell_type": "code",
   "execution_count": 10,
   "id": "0f4bf456",
   "metadata": {},
   "outputs": [],
   "source": [
    "powers = [-5 , -4.5,   -4,   -3.5,   -3,   -2.5, -2,   -1.5,   -1]"
   ]
  },
  {
   "cell_type": "markdown",
   "id": "ece7a090",
   "metadata": {},
   "source": [
    "### Heat Maps"
   ]
  },
  {
   "cell_type": "markdown",
   "id": "a753ae94",
   "metadata": {},
   "source": [
    "**Reactive-1**"
   ]
  },
  {
   "cell_type": "code",
   "execution_count": 11,
   "id": "82b3d3ed",
   "metadata": {},
   "outputs": [],
   "source": [
    "files = glob.glob(\"../src/evolution_simulations/ErrorGrid/dimension_2_error_*.csv\")"
   ]
  },
  {
   "cell_type": "code",
   "execution_count": 12,
   "id": "978452de",
   "metadata": {},
   "outputs": [],
   "source": [
    "files.sort()"
   ]
  },
  {
   "cell_type": "code",
   "execution_count": 13,
   "id": "abdd6a66",
   "metadata": {},
   "outputs": [
    {
     "data": {
      "application/vnd.jupyter.widget-view+json": {
       "model_id": "2e50acce67c04b4497818492dd8f61d2",
       "version_major": 2,
       "version_minor": 0
      },
      "text/plain": [
       "  0%|          | 0/90 [00:00<?, ?it/s]"
      ]
     },
     "metadata": {},
     "output_type": "display_data"
    }
   ],
   "source": [
    "data_r1 = []\n",
    "\n",
    "for file in tqdm(files):\n",
    "    error = float(file.split(\"error_\")[-1].split(\"_cost\")[0])\n",
    "    cost = float(file.split(\"cost_\")[-1].split(\".csv\")[0])\n",
    "    df = pd.read_csv(file, names=reactone_col)\n",
    "    df = df.drop_duplicates()\n",
    "    df = frequencies(df, 10 ** 7)\n",
    "    \n",
    "    coop = sum(df['coop.'] * df['frequencies norm'])\n",
    "    \n",
    "    data_r1.append((error, cost, coop))"
   ]
  },
  {
   "cell_type": "code",
   "execution_count": 14,
   "id": "35cca55f",
   "metadata": {},
   "outputs": [],
   "source": [
    "df_r1 = pd.DataFrame(data_r1, columns=['error', 'cost', 'coop'])"
   ]
  },
  {
   "cell_type": "code",
   "execution_count": 15,
   "id": "b0a66f55",
   "metadata": {},
   "outputs": [],
   "source": [
    "df_r1 = df_r1.sort_values([\"error\", \"cost\"])"
   ]
  },
  {
   "cell_type": "markdown",
   "id": "bcab09f2",
   "metadata": {},
   "source": [
    "**Reactive-2**"
   ]
  },
  {
   "cell_type": "code",
   "execution_count": 16,
   "id": "4b54efa3",
   "metadata": {},
   "outputs": [],
   "source": [
    "files = glob.glob(\"../src/evolution_simulations/ErrorGrid/dimension_4_error_*.csv\")"
   ]
  },
  {
   "cell_type": "code",
   "execution_count": 17,
   "id": "905feedc",
   "metadata": {},
   "outputs": [],
   "source": [
    "files.sort()"
   ]
  },
  {
   "cell_type": "code",
   "execution_count": 18,
   "id": "7fafe43d",
   "metadata": {},
   "outputs": [
    {
     "data": {
      "application/vnd.jupyter.widget-view+json": {
       "model_id": "c647ff9bc3114f6d805b4e270c63ae05",
       "version_major": 2,
       "version_minor": 0
      },
      "text/plain": [
       "  0%|          | 0/90 [00:00<?, ?it/s]"
      ]
     },
     "metadata": {},
     "output_type": "display_data"
    }
   ],
   "source": [
    "data_r2 = []\n",
    "\n",
    "for file in tqdm(files):\n",
    "    error = float(file.split(\"error_\")[-1].split(\"_cost\")[0])\n",
    "    cost = float(file.split(\"cost_\")[-1].split(\".csv\")[0])\n",
    "    df = pd.read_csv(file, names=reacttwo_col)\n",
    "    df = df.drop_duplicates()\n",
    "    df = frequencies(df, 10 ** 7)\n",
    "    \n",
    "    coop = sum(df['coop.'] * df['frequencies norm'])\n",
    "    \n",
    "    data_r2.append((error, cost, coop))"
   ]
  },
  {
   "cell_type": "code",
   "execution_count": 19,
   "id": "c4992448",
   "metadata": {},
   "outputs": [],
   "source": [
    "df_r2 = pd.DataFrame(data_r2, columns=['error', 'cost', 'coop'])"
   ]
  },
  {
   "cell_type": "code",
   "execution_count": 20,
   "id": "77c75650",
   "metadata": {},
   "outputs": [],
   "source": [
    "df_r2 = df_r2.sort_values([\"error\", \"cost\"])"
   ]
  },
  {
   "cell_type": "markdown",
   "id": "fc968c4b",
   "metadata": {},
   "source": [
    "**Reactive-3**"
   ]
  },
  {
   "cell_type": "code",
   "execution_count": 21,
   "id": "d943cb8c",
   "metadata": {},
   "outputs": [],
   "source": [
    "files = glob.glob(\"../src/evolution_simulations/ErrorGrid/dimension_8_error_*.csv\")"
   ]
  },
  {
   "cell_type": "code",
   "execution_count": 22,
   "id": "35c706cf",
   "metadata": {},
   "outputs": [],
   "source": [
    "files.sort()"
   ]
  },
  {
   "cell_type": "code",
   "execution_count": 23,
   "id": "a2c7ce9a",
   "metadata": {},
   "outputs": [
    {
     "data": {
      "application/vnd.jupyter.widget-view+json": {
       "model_id": "9e6f71131a9545dfb1c0214ba7b13ef9",
       "version_major": 2,
       "version_minor": 0
      },
      "text/plain": [
       "  0%|          | 0/90 [00:00<?, ?it/s]"
      ]
     },
     "metadata": {},
     "output_type": "display_data"
    }
   ],
   "source": [
    "data_r3 = []\n",
    "\n",
    "for file in tqdm(files):\n",
    "    error = float(file.split(\"error_\")[-1].split(\"_cost\")[0])\n",
    "    cost = float(file.split(\"cost_\")[-1].split(\".csv\")[0])\n",
    "    df = pd.read_csv(file, names=reactthree_col)\n",
    "    df = df.drop_duplicates()\n",
    "    df = frequencies(df, 10 ** 7)\n",
    "    \n",
    "    coop = sum(df['coop.'] * df['frequencies norm'])\n",
    "    \n",
    "    data_r3.append((error, cost, coop))"
   ]
  },
  {
   "cell_type": "code",
   "execution_count": 24,
   "id": "f1d9e1b6",
   "metadata": {},
   "outputs": [],
   "source": [
    "df_r3 = pd.DataFrame(data_r3, columns=['error', 'cost', 'coop'])"
   ]
  },
  {
   "cell_type": "code",
   "execution_count": 25,
   "id": "7981ba85",
   "metadata": {},
   "outputs": [],
   "source": [
    "df_r3 = df_r3.sort_values([\"error\", \"cost\"])"
   ]
  },
  {
   "cell_type": "markdown",
   "id": "8908c6ea",
   "metadata": {},
   "source": [
    "**Figure**"
   ]
  },
  {
   "cell_type": "code",
   "execution_count": 26,
   "id": "fcb1173b",
   "metadata": {},
   "outputs": [],
   "source": [
    "vmin = 0\n",
    "vmax = 1\n",
    "norm = colors.TwoSlopeNorm(vmin=vmin, vcenter=0.5, vmax=vmax)"
   ]
  },
  {
   "cell_type": "code",
   "execution_count": 38,
   "id": "f9dcb99d",
   "metadata": {
    "scrolled": false
   },
   "outputs": [
    {
     "data": {
      "image/png": "[encoded data removed]",
      "text/plain": [
       "<Figure size 1000x600 with 12 Axes>"
      ]
     },
     "metadata": {},
     "output_type": "display_data"
    }
   ],
   "source": [
    "fig, axes = plt.subplots(ncols=3, nrows=2, figsize=(10, 6), sharex=True, sharey=True)\n",
    "\n",
    "for i, df in enumerate([df_r1, df_r2, df_r3]):\n",
    "\n",
    "    im = axes[0, i].imshow(df['coop'].values.reshape((9, 10)).T,\n",
    "                         origin=\"lower\",\n",
    "                         cmap='plasma',\n",
    "                         vmax=1,\n",
    "                         vmin=0, aspect='auto');\n",
    "\n",
    "    axes[0, i].set_yticks(range(10),\n",
    "                          [0.1, \"\", \"\", 0.4, \"\", \"\", 0.7, \"\", \"\", 1. ])\n",
    "\n",
    "    divider = make_axes_locatable(axes[0, i])\n",
    "\n",
    "    cax = divider.append_axes('right', size='5%', pad=0.05)\n",
    "\n",
    "    cbar = fig.colorbar(im, cax=cax, orientation='vertical');\n",
    "    cbar.set_ticks(np.arange(0, 1.1, .5));\n",
    "\n",
    "cbar.ax.get_yaxis().labelpad = 20\n",
    "cbar.ax.set_ylabel('cooperation rate', rotation=270)\n",
    "\n",
    "\n",
    "axes[0, 0].set_ylabel(\"cost ($c$)\")\n",
    "\n",
    "axes[0, 0].set_title(\"Reactive-1\", fontsize=11)\n",
    "\n",
    "axes[0, 1].set_title(\"Reactive-2\", fontsize=11)\n",
    "\n",
    "axes[0, 2].set_title(\"Reactive-3\", fontsize=11);\n",
    "\n",
    "\n",
    "for i, pair in enumerate([(df_r1, df_r2), (df_r2, df_r3), (df_r1, df_r3)]):\n",
    "\n",
    "    im = axes[1, i].imshow(pair[1]['coop'].values.reshape((9, 10)).T - pair[0]['coop'].values.reshape((9, 10)).T,\n",
    "                         origin=\"lower\",\n",
    "                         cmap='viridis',\n",
    "                         vmin=-.3,\n",
    "                        vmax=.3,\n",
    "                           aspect='auto'\n",
    "                    );\n",
    "\n",
    "    axes[1, i].set_xticks(range(9), ['$10^{-5}$',\n",
    "     '',\n",
    "     '$10^{-4}$',\n",
    "     '',\n",
    "     '$10^{-3}$',\n",
    "     '',\n",
    "     '$10^{-2}$',\n",
    "     '',\n",
    "     '$10^{-1}$'], fontsize=9, rotation=0)\n",
    "    \n",
    "    axes[1, i].set_xlabel(\"error ($\\epsilon$)\")\n",
    "\n",
    "    divider = make_axes_locatable(axes[1, i])\n",
    "\n",
    "    cax = divider.append_axes('right', size='5%', pad=0.05)\n",
    "\n",
    "    cbar = fig.colorbar(im, cax=cax, orientation='vertical');\n",
    "    \n",
    "cbar.ax.get_yaxis().labelpad = 15\n",
    "cbar.ax.set_ylabel('difference', rotation=270)\n",
    "\n",
    "axes[0, 0].text(-3, 10, \"A\", fontsize=\"22\")\n",
    "axes[1, 0].text(-3, 10, \"B\", fontsize=\"22\")\n",
    "\n",
    "axes[1, 0].set_ylabel(\"cost ($c$)\");\n",
    "\n",
    "axes[1, 0].set_title(\"Cooperation rate difference between \\n Reactive-2 and Reactive-1\", fontsize=11);\n",
    "\n",
    "axes[1, 1].set_title(\"Cooperation rate difference between \\n Reactive-3 and Reactive-2\", fontsize=11)\n",
    "\n",
    "axes[1, 2].set_title(\"Cooperation rate difference between \\n Reactive-3 and Reactive-1\", fontsize=11);\n",
    "\n",
    "axes[0, 0].text(-5, -7.5,\n",
    "               \"Reactive strategies\",\n",
    "               rotation=90, fontsize=18,\n",
    "               fontweight='bold')\n",
    "    \n",
    "fig.subplots_adjust(hspace=.4)\n",
    "\n",
    "fig.savefig(\"../figures/siFig2Errors.pdf\", bbox_inches=\"tight\")"
   ]
  },
  {
   "cell_type": "markdown",
   "id": "9477c1c9",
   "metadata": {},
   "source": [
    "**Reactive-2 counting**"
   ]
  },
  {
   "cell_type": "code",
   "execution_count": 42,
   "id": "deaa67e2",
   "metadata": {},
   "outputs": [],
   "source": [
    "files = glob.glob(\"../src/evolution_simulations/ErrorGridcounting/dimension_4_error_*.csv\")"
   ]
  },
  {
   "cell_type": "code",
   "execution_count": 43,
   "id": "30d0603e",
   "metadata": {},
   "outputs": [],
   "source": [
    "files.sort()"
   ]
  },
  {
   "cell_type": "code",
   "execution_count": 44,
   "id": "7abd00fd",
   "metadata": {},
   "outputs": [
    {
     "data": {
      "text/plain": [
       "90"
      ]
     },
     "execution_count": 44,
     "metadata": {},
     "output_type": "execute_result"
    }
   ],
   "source": [
    "len(files)"
   ]
  },
  {
   "cell_type": "code",
   "execution_count": 45,
   "id": "151e4869",
   "metadata": {},
   "outputs": [
    {
     "data": {
      "application/vnd.jupyter.widget-view+json": {
       "model_id": "4519c49417834f8bb1116c5deec8d7ea",
       "version_major": 2,
       "version_minor": 0
      },
      "text/plain": [
       "  0%|          | 0/90 [00:00<?, ?it/s]"
      ]
     },
     "metadata": {},
     "output_type": "display_data"
    }
   ],
   "source": [
    "data_r2s = []\n",
    "\n",
    "for file in tqdm(files):\n",
    "    error = float(file.split(\"error_\")[-1].split(\"_cost\")[0])\n",
    "    cost = float(file.split(\"cost_\")[-1].split(\".csv\")[0])\n",
    "    df = pd.read_csv(file, names=reacttwo_col)\n",
    "    df = df.drop_duplicates()\n",
    "    df = frequencies(df, 10 ** 7)\n",
    "    \n",
    "    coop = sum(df['coop.'] * df['frequencies norm'])\n",
    "    \n",
    "    data_r2s.append((error, cost, coop))"
   ]
  },
  {
   "cell_type": "code",
   "execution_count": 46,
   "id": "b6868ebd",
   "metadata": {},
   "outputs": [],
   "source": [
    "df_r2s = pd.DataFrame(data_r2s, columns=['error', 'cost', 'coop'])"
   ]
  },
  {
   "cell_type": "code",
   "execution_count": 47,
   "id": "672833a6",
   "metadata": {},
   "outputs": [],
   "source": [
    "df_r2s = df_r2s.sort_values([\"error\", \"cost\"])"
   ]
  },
  {
   "cell_type": "markdown",
   "id": "23dba6f6",
   "metadata": {},
   "source": [
    "**Reactive-3 counting**"
   ]
  },
  {
   "cell_type": "code",
   "execution_count": 48,
   "id": "ce0a8ac2",
   "metadata": {},
   "outputs": [],
   "source": [
    "files = glob.glob(\"../src/evolution_simulations/ErrorGridcounting/dimension_8_error_*.csv\")"
   ]
  },
  {
   "cell_type": "code",
   "execution_count": 49,
   "id": "8d74e251",
   "metadata": {},
   "outputs": [],
   "source": [
    "files.sort()"
   ]
  },
  {
   "cell_type": "code",
   "execution_count": 50,
   "id": "557fac54",
   "metadata": {},
   "outputs": [
    {
     "data": {
      "text/plain": [
       "90"
      ]
     },
     "execution_count": 50,
     "metadata": {},
     "output_type": "execute_result"
    }
   ],
   "source": [
    "len(files)"
   ]
  },
  {
   "cell_type": "code",
   "execution_count": 51,
   "id": "4be05380",
   "metadata": {},
   "outputs": [
    {
     "data": {
      "application/vnd.jupyter.widget-view+json": {
       "model_id": "726f50ed57b7487e97233b64cafd56fb",
       "version_major": 2,
       "version_minor": 0
      },
      "text/plain": [
       "  0%|          | 0/90 [00:00<?, ?it/s]"
      ]
     },
     "metadata": {},
     "output_type": "display_data"
    }
   ],
   "source": [
    "data_r3s = []\n",
    "\n",
    "for file in tqdm(files):\n",
    "    error = float(file.split(\"error_\")[-1].split(\"_cost\")[0])\n",
    "    cost = float(file.split(\"cost_\")[-1].split(\".csv\")[0])\n",
    "    df = pd.read_csv(file, names=reacttwo_col)\n",
    "    df = df.drop_duplicates()\n",
    "    df = frequencies(df, 10 ** 7)\n",
    "    \n",
    "    coop = sum(df['coop.'] * df['frequencies norm'])\n",
    "    \n",
    "    data_r3s.append((error, cost, coop))"
   ]
  },
  {
   "cell_type": "code",
   "execution_count": 52,
   "id": "15406466",
   "metadata": {},
   "outputs": [],
   "source": [
    "df_r3s = pd.DataFrame(data_r3s, columns=['error', 'cost', 'coop'])"
   ]
  },
  {
   "cell_type": "code",
   "execution_count": 53,
   "id": "e0726911",
   "metadata": {},
   "outputs": [],
   "source": [
    "df_r3s = df_r3s.sort_values([\"error\", \"cost\"])"
   ]
  },
  {
   "cell_type": "code",
   "execution_count": null,
   "id": "16214732",
   "metadata": {},
   "outputs": [],
   "source": [
    "fig, axes = plt.subplots(ncols=3, nrows=2, figsize=(10, 6), sharex=True, sharey=True)\n",
    "\n",
    "for i, df in enumerate([df_r1, df_r2s, df_r3s]):\n",
    "\n",
    "    im = axes[0, i].imshow(df['coop'].values.reshape((9, 10)).T,\n",
    "                         origin=\"lower\",\n",
    "                         cmap='plasma',\n",
    "                         vmax=1,\n",
    "                         vmin=0, aspect='auto');\n",
    "\n",
    "    axes[0, i].set_yticks(range(10),\n",
    "                          [0.1, \"\", \"\", 0.4, \"\", \"\", 0.7, \"\", \"\", 1. ])\n",
    "\n",
    "    divider = make_axes_locatable(axes[0, i])\n",
    "\n",
    "    cax = divider.append_axes('right', size='5%', pad=0.05)\n",
    "\n",
    "    cbar = fig.colorbar(im, cax=cax, orientation='vertical');\n",
    "    cbar.set_ticks(np.arange(0, 1.1, .5));\n",
    "\n",
    "cbar.ax.get_yaxis().labelpad = 20\n",
    "cbar.ax.set_ylabel('cooperation rate', rotation=270)\n",
    "\n",
    "\n",
    "axes[0, 0].set_ylabel(\"cost ($c$)\")\n",
    "\n",
    "axes[0, 0].set_title(\"Reactive-1 counting\", fontsize=11)\n",
    "\n",
    "axes[0, 1].set_title(\"Reactive-2 counting\", fontsize=11)\n",
    "\n",
    "axes[0, 2].set_title(\"Reactive-3 counting\", fontsize=11);\n",
    "\n",
    "\n",
    "for i, pair in enumerate([(df_r1, df_r2s), (df_r2s, df_r3s), (df_r1, df_r3s)]):\n",
    "\n",
    "    im = axes[1, i].imshow(pair[1]['coop'].values.reshape((9, 10)).T - pair[0]['coop'].values.reshape((9, 10)).T,\n",
    "                         origin=\"lower\",\n",
    "                         cmap='viridis',\n",
    "                         vmin=-.3,\n",
    "                        vmax=.3,\n",
    "                           aspect='auto'\n",
    "                    );\n",
    "\n",
    "    axes[1, i].set_xticks(range(9), ['$10^{-5}$',\n",
    "     '',\n",
    "     '$10^{-4}$',\n",
    "     '',\n",
    "     '$10^{-3}$',\n",
    "     '',\n",
    "     '$10^{-2}$',\n",
    "     '',\n",
    "     '$10^{-1}$'], fontsize=9, rotation=0)\n",
    "    \n",
    "    axes[1, i].set_xlabel(\"error ($\\epsilon$)\")\n",
    "\n",
    "    divider = make_axes_locatable(axes[1, i])\n",
    "\n",
    "    cax = divider.append_axes('right', size='5%', pad=0.05)\n",
    "\n",
    "    cbar = fig.colorbar(im, cax=cax, orientation='vertical');\n",
    "    \n",
    "cbar.ax.get_yaxis().labelpad = 15\n",
    "cbar.ax.set_ylabel('difference', rotation=270)\n",
    "\n",
    "axes[0, 0].text(-3, 10, \"C\", fontsize=\"22\")\n",
    "axes[1, 0].text(-3, 10, \"D\", fontsize=\"22\")\n",
    "\n",
    "axes[1, 0].set_ylabel(\"cost ($c$)\");\n",
    "\n",
    "axes[1, 0].set_title(\"Cooperation rate difference between \\n counting Reactive-2 and Reactive-1\", fontsize=11);\n",
    "\n",
    "axes[1, 1].set_title(\"Cooperation rate difference between \\n counting Reactive-3 and Reactive-2\", fontsize=11)\n",
    "\n",
    "axes[1, 2].set_title(\"Cooperation rate difference between \\n counting Reactive-3 and Reactive-1\", fontsize=11);\n",
    "    \n",
    "fig.subplots_adjust(hspace=.4)\n",
    "\n",
    "fig.savefig(\"../figures/siFigErrorsCounting.pdf\", bbox_inches=\"tight\")"
   ]
  },
  {
   "cell_type": "code",
   "execution_count": null,
   "id": "f8bf0b9b",
   "metadata": {},
   "outputs": [],
   "source": []
  }
 ],
 "metadata": {
  "kernelspec": {
   "display_name": "Python 3",
   "language": "python",
   "name": "python3"
  },
  "language_info": {
   "codemirror_mode": {
    "name": "ipython",
    "version": 3
   },
   "file_extension": ".py",
   "mimetype": "text/x-python",
   "name": "python",
   "nbconvert_exporter": "python",
   "pygments_lexer": "ipython3",
   "version": "3.11.3"
  }
 },
 "nbformat": 4,
 "nbformat_minor": 5
}
