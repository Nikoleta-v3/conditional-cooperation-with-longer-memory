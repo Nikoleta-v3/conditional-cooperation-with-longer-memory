{
 "cells": [
  {
   "cell_type": "code",
   "execution_count": 1,
   "id": "21abb5a2",
   "metadata": {},
   "outputs": [],
   "source": [
    "import sympy as sym"
   ]
  },
  {
   "cell_type": "code",
   "execution_count": 2,
   "id": "3888cf20",
   "metadata": {},
   "outputs": [],
   "source": [
    "p1, p2, p3, p4, p5, p6, p7, p8 = sym.symbols(\"p1, p2, p3, p4, p5, p6, p7, p8\")"
   ]
  },
  {
   "cell_type": "code",
   "execution_count": 3,
   "id": "7f17a81b",
   "metadata": {},
   "outputs": [],
   "source": [
    "x1, x2, x3, x4, x5, x6, x7, x8 = sym.symbols(\"x1, x2, x3, x4, x5, x6, x7, x8\")"
   ]
  },
  {
   "cell_type": "code",
   "execution_count": 4,
   "id": "b57be013",
   "metadata": {},
   "outputs": [],
   "source": [
    "r3, r2, r1, r0 =  sym.symbols(\"r_3, r_2, r_1, r_0\")"
   ]
  },
  {
   "cell_type": "code",
   "execution_count": 5,
   "id": "7f83b01c",
   "metadata": {},
   "outputs": [],
   "source": [
    "b, c = sym.symbols(\"b, c\")"
   ]
  },
  {
   "cell_type": "code",
   "execution_count": 6,
   "id": "31775c57",
   "metadata": {},
   "outputs": [],
   "source": [
    "player = [p1, p2, p3, p4, p5, p6, p7, p8]"
   ]
  },
  {
   "cell_type": "code",
   "execution_count": 7,
   "id": "65b63a8e",
   "metadata": {},
   "outputs": [],
   "source": [
    "ss = [x1, x2, x3, x4, x5, x6, x7, x8]"
   ]
  },
  {
   "cell_type": "code",
   "execution_count": 8,
   "id": "0db17988",
   "metadata": {},
   "outputs": [],
   "source": [
    "import os\n",
    "\n",
    "os.chdir(\"..\")"
   ]
  },
  {
   "cell_type": "code",
   "execution_count": 9,
   "id": "2789ebe3",
   "metadata": {},
   "outputs": [],
   "source": [
    "from importlib.machinery import SourceFileLoader\n",
    "\n",
    "main = SourceFileLoader(\"main\", \"src/main.py\").load_module()\n",
    "\n",
    "eq = SourceFileLoader(\"eq\", \"src/numerical_equilibria_n_bit_vs_n_bit.py\").load_module()\n",
    "\n",
    "three = SourceFileLoader(\"eq\", \"src/numerical_equilibria_three_bit.py\").load_module()"
   ]
  },
  {
   "cell_type": "markdown",
   "id": "747ca581",
   "metadata": {},
   "source": [
    "### $n=3$ proof one."
   ]
  },
  {
   "cell_type": "code",
   "execution_count": 10,
   "id": "a9a8acfc",
   "metadata": {},
   "outputs": [],
   "source": [
    "coop = (x1 + x2 + x5 + x6)"
   ]
  },
  {
   "cell_type": "code",
   "execution_count": 11,
   "id": "37f5ec66",
   "metadata": {},
   "outputs": [],
   "source": [
    "normal = x1 + x2 + x3 + x4 + x5 + x6 + x7 + x8 "
   ]
  },
  {
   "cell_type": "code",
   "execution_count": 12,
   "id": "296f8a2d",
   "metadata": {},
   "outputs": [],
   "source": [
    "co_player_coop = sum([ss[i] * player[i] for i in range(8)])"
   ]
  },
  {
   "cell_type": "code",
   "execution_count": 13,
   "id": "8ff69120",
   "metadata": {},
   "outputs": [],
   "source": [
    "expr = b * co_player_coop - c * coop - (b - c) * normal"
   ]
  },
  {
   "cell_type": "code",
   "execution_count": 17,
   "id": "28f210e8",
   "metadata": {},
   "outputs": [],
   "source": [
    "expr = expr.subs({x5: x2, x7:x4})"
   ]
  },
  {
   "cell_type": "code",
   "execution_count": 28,
   "id": "5b939597",
   "metadata": {},
   "outputs": [
    {
     "data": {
      "text/latex": [
       "$\\displaystyle b \\left(p_{1} x_{1} + p_{3} x_{3} + p_{6} x_{6} + p_{8} x_{8} + x_{2} \\left(p_{2} + p_{5}\\right) + x_{4} \\left(p_{4} + p_{7}\\right)\\right) - c \\left(x_{1} + 2 x_{2} + x_{6}\\right) - \\left(b - c\\right) \\left(x_{1} + 2 x_{2} + x_{3} + 2 x_{4} + x_{6} + x_{8}\\right)$"
      ],
      "text/plain": [
       "b*(p1*x1 + p3*x3 + p6*x6 + p8*x8 + x2*(p2 + p5) + x4*(p4 + p7)) - c*(x1 + 2*x2 + x6) - (b - c)*(x1 + 2*x2 + x3 + 2*x4 + x6 + x8)"
      ]
     },
     "execution_count": 28,
     "metadata": {},
     "output_type": "execute_result"
    }
   ],
   "source": [
    "expr.collect(x2).collect(x4)"
   ]
  },
  {
   "cell_type": "code",
   "execution_count": 29,
   "id": "bb5fa323",
   "metadata": {},
   "outputs": [
    {
     "data": {
      "text/plain": [
       "(x6, -x2 + x3 + x7)"
      ]
     },
     "execution_count": 29,
     "metadata": {},
     "output_type": "execute_result"
    }
   ],
   "source": [
    "x6, x3 + x7 - x2"
   ]
  },
  {
   "cell_type": "code",
   "execution_count": 30,
   "id": "38bc0a52",
   "metadata": {},
   "outputs": [
    {
     "data": {
      "text/plain": [
       "(x3, x2 + x6 - x7)"
      ]
     },
     "execution_count": 30,
     "metadata": {},
     "output_type": "execute_result"
    }
   ],
   "source": [
    "x3, x2 + x6 - x7"
   ]
  },
  {
   "cell_type": "code",
   "execution_count": 34,
   "id": "b9087efd",
   "metadata": {},
   "outputs": [
    {
     "data": {
      "text/latex": [
       "$\\displaystyle b \\left(x_{1} \\left(p_{1} - 1\\right) + x_{2} \\left(p_{2} + p_{5} - 2\\right) + x_{6} \\left(p_{6} - 1\\right)\\right) + x_{3} \\left(b \\left(p_{3} - 1\\right) + c\\right) + x_{4} \\left(b \\left(p_{4} + p_{7} - 2\\right) + 2 c\\right) + x_{8} \\left(b \\left(p_{8} - 1\\right) + c\\right)$"
      ],
      "text/plain": [
       "b*(x1*(p1 - 1) + x2*(p2 + p5 - 2) + x6*(p6 - 1)) + x3*(b*(p3 - 1) + c) + x4*(b*(p4 + p7 - 2) + 2*c) + x8*(b*(p8 - 1) + c)"
      ]
     },
     "execution_count": 34,
     "metadata": {},
     "output_type": "execute_result"
    }
   ],
   "source": [
    "expr.factor().collect(x1).collect(x2).collect(x3).collect(x4).collect(x6).collect(x8).collect(b)"
   ]
  },
  {
   "cell_type": "code",
   "execution_count": 33,
   "id": "50ad9d24",
   "metadata": {},
   "outputs": [
    {
     "data": {
      "text/latex": [
       "$\\displaystyle b \\left(p_{6} x_{7} + x_{1} \\left(p_{1} - 1\\right) + x_{2} \\left(p_{2} + p_{5} - p_{6} - 1\\right) - x_{7}\\right) + x_{3} \\left(b \\left(p_{3} + p_{6} - 2\\right) + c\\right) + x_{4} \\left(b \\left(p_{4} + p_{7} - 2\\right) + 2 c\\right) + x_{8} \\left(b \\left(p_{8} - 1\\right) + c\\right)$"
      ],
      "text/plain": [
       "b*(p6*x7 + x1*(p1 - 1) + x2*(p2 + p5 - p6 - 1) - x7) + x3*(b*(p3 + p6 - 2) + c) + x4*(b*(p4 + p7 - 2) + 2*c) + x8*(b*(p8 - 1) + c)"
      ]
     },
     "execution_count": 33,
     "metadata": {},
     "output_type": "execute_result"
    }
   ],
   "source": [
    "expr.subs({x6: x3 + x7 - x2}).factor().collect(x1).collect(x2).collect(x3).collect(x4).collect(x6).collect(x8).collect(b)"
   ]
  },
  {
   "cell_type": "code",
   "execution_count": 36,
   "id": "5ef00e4a",
   "metadata": {},
   "outputs": [],
   "source": [
    "expr = - b * (p3 + p6) + 2 * b - c"
   ]
  },
  {
   "cell_type": "code",
   "execution_count": 38,
   "id": "1ff63bcc",
   "metadata": {},
   "outputs": [
    {
     "data": {
      "text/latex": [
       "$\\displaystyle 2 - \\frac{c}{b}$"
      ],
      "text/plain": [
       "2 - c/b"
      ]
     },
     "execution_count": 38,
     "metadata": {},
     "output_type": "execute_result"
    }
   ],
   "source": [
    "sym.solve(expr, p3 + p6)[0]"
   ]
  },
  {
   "cell_type": "markdown",
   "id": "802d4318",
   "metadata": {},
   "source": [
    "## Two-bit conditions"
   ]
  },
  {
   "cell_type": "code",
   "execution_count": 10,
   "id": "5ea35d58",
   "metadata": {},
   "outputs": [],
   "source": [
    "def calc_payoffs_two_bit_vs_self_reactive(player, coplayer, b, c):\n",
    "    \n",
    "\n",
    "    M = sym.Matrix([[coplayer[0], (1 - coplayer[0]), 0, 0],\n",
    "                    [0, 0, coplayer[1], (1 - coplayer[1])],\n",
    "                    [coplayer[2], (1 - coplayer[2]), 0, 0],\n",
    "                    [0, 0, coplayer[3], (1 - coplayer[3])]])\n",
    "    \n",
    "\n",
    "    ss = main.invariant_distribution_analytically(M)\n",
    "    \n",
    "    rho_q = ss[0] + ss[1]\n",
    "    \n",
    "    rho_p = sum([ss[i] * p for i, p in enumerate(player)])\n",
    "    \n",
    "    \n",
    "    payoff_p, payoff_q = (rho_q * b - c * rho_p), (rho_p * b - c * rho_q)\n",
    "    \n",
    "    return payoff_p, payoff_q"
   ]
  },
  {
   "cell_type": "code",
   "execution_count": 11,
   "id": "785a2ae7",
   "metadata": {},
   "outputs": [],
   "source": [
    "AllD = [0, 0, 0, 0]\n",
    "\n",
    "Alternator = [0, 1, 0, 1]"
   ]
  },
  {
   "cell_type": "code",
   "execution_count": 12,
   "id": "b461458c",
   "metadata": {},
   "outputs": [],
   "source": [
    "payoff_p, AllD_payoff = calc_payoffs_two_bit_vs_self_reactive([p1, p2, p3, p4], AllD, b, c)"
   ]
  },
  {
   "cell_type": "code",
   "execution_count": 13,
   "id": "a9d66868",
   "metadata": {},
   "outputs": [
    {
     "data": {
      "text/latex": [
       "$\\displaystyle \\frac{b - c}{b}$"
      ],
      "text/plain": [
       "(b - c)/b"
      ]
     },
     "execution_count": 13,
     "metadata": {},
     "output_type": "execute_result"
    }
   ],
   "source": [
    "sym.solve(AllD_payoff - (b - c), p4)[0].simplify()"
   ]
  },
  {
   "cell_type": "code",
   "execution_count": 14,
   "id": "839e9271",
   "metadata": {},
   "outputs": [],
   "source": [
    "payoff_p, Alternator_payoff = calc_payoffs_two_bit_vs_self_reactive([p1, p2, p3, p4], Alternator, b, c)"
   ]
  },
  {
   "cell_type": "code",
   "execution_count": 15,
   "id": "9886d9d5",
   "metadata": {},
   "outputs": [
    {
     "data": {
      "text/latex": [
       "$\\displaystyle - p_{DC} + 2 - \\frac{c}{b}$"
      ],
      "text/plain": [
       "-p_{DC} + 2 - c/b"
      ]
     },
     "execution_count": 15,
     "metadata": {},
     "output_type": "execute_result"
    }
   ],
   "source": [
    "sym.solve(Alternator_payoff - (b - c), p2)[0].simplify()"
   ]
  },
  {
   "cell_type": "code",
   "execution_count": 16,
   "id": "487ce5c2",
   "metadata": {},
   "outputs": [
    {
     "data": {
      "text/latex": [
       "$\\displaystyle \\frac{b p_{CD} + b p_{DC} - 2 b + c}{2}$"
      ],
      "text/plain": [
       "(b*p_{CD} + b*p_{DC} - 2*b + c)/2"
      ]
     },
     "execution_count": 16,
     "metadata": {},
     "output_type": "execute_result"
    }
   ],
   "source": [
    "(Alternator_payoff - (b - c)).factor()"
   ]
  },
  {
   "cell_type": "code",
   "execution_count": 17,
   "id": "cb2efee2",
   "metadata": {},
   "outputs": [
    {
     "data": {
      "text/latex": [
       "$\\displaystyle b \\left(\\frac{p_{CD}}{2} + \\frac{p_{DC}}{2}\\right) - \\frac{c}{2}$"
      ],
      "text/plain": [
       "b*(p_{CD}/2 + p_{DC}/2) - c/2"
      ]
     },
     "execution_count": 17,
     "metadata": {},
     "output_type": "execute_result"
    }
   ],
   "source": [
    "Alternator_payoff"
   ]
  },
  {
   "cell_type": "code",
   "execution_count": 18,
   "id": "1def36ba",
   "metadata": {},
   "outputs": [],
   "source": [
    "payoff_p, AllD_payoff_counting = calc_payoffs_two_bit_vs_self_reactive([r2, r1, r1, r0], AllD, b, c)"
   ]
  },
  {
   "cell_type": "code",
   "execution_count": 19,
   "id": "93406dbb",
   "metadata": {},
   "outputs": [
    {
     "data": {
      "text/latex": [
       "$\\displaystyle \\frac{b - c}{b}$"
      ],
      "text/plain": [
       "(b - c)/b"
      ]
     },
     "execution_count": 19,
     "metadata": {},
     "output_type": "execute_result"
    }
   ],
   "source": [
    "sym.solve(AllD_payoff_counting - (b - c), r0)[0].simplify()"
   ]
  },
  {
   "cell_type": "code",
   "execution_count": 20,
   "id": "460778fa",
   "metadata": {},
   "outputs": [],
   "source": [
    "payoff_p, Alternator_payoff_counting = calc_payoffs_two_bit_vs_self_reactive([r2, r1, r1, r0], Alternator, b, c)"
   ]
  },
  {
   "cell_type": "code",
   "execution_count": 21,
   "id": "180dcd4f",
   "metadata": {},
   "outputs": [
    {
     "data": {
      "text/latex": [
       "$\\displaystyle \\frac{b - \\frac{c}{2}}{b}$"
      ],
      "text/plain": [
       "(b - c/2)/b"
      ]
     },
     "execution_count": 21,
     "metadata": {},
     "output_type": "execute_result"
    }
   ],
   "source": [
    "sym.solve(Alternator_payoff_counting - (b - c), r1)[0].simplify()"
   ]
  },
  {
   "cell_type": "markdown",
   "id": "c60afc30",
   "metadata": {},
   "source": [
    "### Three bits"
   ]
  },
  {
   "cell_type": "code",
   "execution_count": 22,
   "id": "26e3f625",
   "metadata": {},
   "outputs": [],
   "source": [
    "def three_bit_condition_one(p1, p2, p3, p4, p5, p6, p7, p8, b, c):\n",
    "    \n",
    "    return p8 - (1 - c / b)\n",
    "\n",
    "def three_bit_condition_two(p1, p2, p3, p4, p5, p6, p7, p8, b, c):\n",
    "    \n",
    "    return p3 + p6 - (2 - c / b)\n",
    "\n",
    "def three_bit_condition_three(p1, p2, p3, p4, p5, p6, p7, p8, b, c):\n",
    "    \n",
    "    return p2 + p3 + p5 - (3 - c / b)\n",
    "\n",
    "def three_bit_condition_four(p1, p2, p3, p4, p5, p6, p7, p8, b, c):\n",
    "    \n",
    "    return p4 + p6 + p7 - (3 - 2 * c / b)\n",
    "\n",
    "def three_bit_condition_five(p1, p2, p3, p4, p5, p6, p7, p8, b, c):\n",
    "    \n",
    "    return p2 + p4 + p5 + p7 - (4 - 2 * c / b)"
   ]
  },
  {
   "cell_type": "code",
   "execution_count": 23,
   "id": "c5e5d520",
   "metadata": {},
   "outputs": [
    {
     "data": {
      "text/latex": [
       "$\\displaystyle p_{DDD}} - 1 + \\frac{c}{b}$"
      ],
      "text/plain": [
       "p_DDD} - 1 + c/b"
      ]
     },
     "execution_count": 23,
     "metadata": {},
     "output_type": "execute_result"
    }
   ],
   "source": [
    "three_bit_condition_one(x1, x2, x3, x4, x5, x6, x7, x8, b, c)"
   ]
  },
  {
   "cell_type": "code",
   "execution_count": 25,
   "id": "948bd551",
   "metadata": {},
   "outputs": [
    {
     "data": {
      "text/latex": [
       "$\\displaystyle p_{CDC} + p_{DCD} - 2 + \\frac{c}{b}$"
      ],
      "text/plain": [
       "p_{CDC} + p_{DCD} - 2 + c/b"
      ]
     },
     "execution_count": 25,
     "metadata": {},
     "output_type": "execute_result"
    }
   ],
   "source": [
    "three_bit_condition_two(x1, x2, x3, x4, x5, x6, x7, x8, b, c)"
   ]
  },
  {
   "cell_type": "code",
   "execution_count": 27,
   "id": "fd4c6b3d",
   "metadata": {},
   "outputs": [
    {
     "data": {
      "text/latex": [
       "$\\displaystyle \\frac{p_{CCD}}{3} + \\frac{p_{CDC}}{3} + \\frac{p_{DCC}}{3} - 1 + \\frac{c}{3 b}$"
      ],
      "text/plain": [
       "p_{CCD}/3 + p_{CDC}/3 + p_{DCC}/3 - 1 + c/(3*b)"
      ]
     },
     "execution_count": 27,
     "metadata": {},
     "output_type": "execute_result"
    }
   ],
   "source": [
    "three_bit_condition_three(x1, x2, x3, x4, x5, x6, x7, x8, b, c) / 3"
   ]
  },
  {
   "cell_type": "code",
   "execution_count": 28,
   "id": "407c4fce",
   "metadata": {},
   "outputs": [
    {
     "data": {
      "text/latex": [
       "$\\displaystyle p_{CDD} + p_{DCD} + p_{DDC} - 3 + \\frac{2 c}{b}$"
      ],
      "text/plain": [
       "p_{CDD} + p_{DCD} + p_{DDC} - 3 + 2*c/b"
      ]
     },
     "execution_count": 28,
     "metadata": {},
     "output_type": "execute_result"
    }
   ],
   "source": [
    "three_bit_condition_four(x1, x2, x3, x4, x5, x6, x7, x8, b, c)"
   ]
  },
  {
   "cell_type": "code",
   "execution_count": 30,
   "id": "226da71b",
   "metadata": {},
   "outputs": [
    {
     "data": {
      "text/latex": [
       "$\\displaystyle \\frac{p_{CCD}}{4} + \\frac{p_{CDD}}{4} + \\frac{p_{DCC}}{4} + \\frac{p_{DDC}}{4} - 1 + \\frac{c}{2 b}$"
      ],
      "text/plain": [
       "p_{CCD}/4 + p_{CDD}/4 + p_{DCC}/4 + p_{DDC}/4 - 1 + c/(2*b)"
      ]
     },
     "execution_count": 30,
     "metadata": {},
     "output_type": "execute_result"
    }
   ],
   "source": [
    "three_bit_condition_five(x1, x2, x3, x4, x5, x6, x7, x8, b, c) / 4"
   ]
  },
  {
   "cell_type": "code",
   "execution_count": 81,
   "id": "9c76c88d",
   "metadata": {},
   "outputs": [
    {
     "data": {
      "text/plain": [
       "(p_{CCC}, p_{CCD}, p_{CDC}, p_{CDD}, p_{DCC}, p_{DCD}, p_{DDC}, p_DDD})"
      ]
     },
     "execution_count": 81,
     "metadata": {},
     "output_type": "execute_result"
    }
   ],
   "source": [
    "x1, x2, x3, x4, x5, x6, x7, x8"
   ]
  },
  {
   "cell_type": "code",
   "execution_count": 31,
   "id": "8fc5f2f9",
   "metadata": {},
   "outputs": [
    {
     "data": {
      "text/latex": [
       "$\\displaystyle r_{0} - 1 + \\frac{c}{b}$"
      ],
      "text/plain": [
       "r_0 - 1 + c/b"
      ]
     },
     "execution_count": 31,
     "metadata": {},
     "output_type": "execute_result"
    }
   ],
   "source": [
    "three_bit_condition_one(r3, r2, r2, r1, r2, r1, r1, r0, b, c)"
   ]
  },
  {
   "cell_type": "code",
   "execution_count": 35,
   "id": "98ede003",
   "metadata": {},
   "outputs": [
    {
     "data": {
      "text/latex": [
       "$\\displaystyle \\frac{r_{1}}{2} + \\frac{r_{2}}{2} - 1 + \\frac{c}{2 b}$"
      ],
      "text/plain": [
       "r_1/2 + r_2/2 - 1 + c/(2*b)"
      ]
     },
     "execution_count": 35,
     "metadata": {},
     "output_type": "execute_result"
    }
   ],
   "source": [
    "three_bit_condition_two(r3, r2, r2, r1, r2, r1, r1, r0, b, c) / 2"
   ]
  },
  {
   "cell_type": "code",
   "execution_count": 37,
   "id": "5e8ef5bd",
   "metadata": {},
   "outputs": [
    {
     "data": {
      "text/latex": [
       "$\\displaystyle r_{2} - 1 + \\frac{c}{3 b}$"
      ],
      "text/plain": [
       "r_2 - 1 + c/(3*b)"
      ]
     },
     "execution_count": 37,
     "metadata": {},
     "output_type": "execute_result"
    }
   ],
   "source": [
    "three_bit_condition_three(r3, r2, r2, r1, r2, r1, r1, r0, b, c) / 3"
   ]
  },
  {
   "cell_type": "code",
   "execution_count": 38,
   "id": "23c0217b",
   "metadata": {},
   "outputs": [
    {
     "data": {
      "text/latex": [
       "$\\displaystyle r_{1} - 1 + \\frac{2 c}{3 b}$"
      ],
      "text/plain": [
       "r_1 - 1 + 2*c/(3*b)"
      ]
     },
     "execution_count": 38,
     "metadata": {},
     "output_type": "execute_result"
    }
   ],
   "source": [
    "three_bit_condition_four(r3, r2, r2, r1, r2, r1, r1, r0, b, c) / 3"
   ]
  },
  {
   "cell_type": "code",
   "execution_count": null,
   "id": "75753ae9",
   "metadata": {},
   "outputs": [],
   "source": []
  }
 ],
 "metadata": {
  "kernelspec": {
   "display_name": "Python 3 (ipykernel)",
   "language": "python",
   "name": "python3"
  },
  "language_info": {
   "codemirror_mode": {
    "name": "ipython",
    "version": 3
   },
   "file_extension": ".py",
   "mimetype": "text/x-python",
   "name": "python",
   "nbconvert_exporter": "python",
   "pygments_lexer": "ipython3",
   "version": "3.11.3"
  }
 },
 "nbformat": 4,
 "nbformat_minor": 5
}
