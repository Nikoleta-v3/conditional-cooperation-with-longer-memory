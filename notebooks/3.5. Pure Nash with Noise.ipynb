{
 "cells": [
  {
   "cell_type": "code",
   "execution_count": 1,
   "metadata": {},
   "outputs": [],
   "source": [
    "import pandas as pd"
   ]
  },
  {
   "cell_type": "code",
   "execution_count": 2,
   "metadata": {},
   "outputs": [],
   "source": [
    "import itertools"
   ]
  },
  {
   "cell_type": "code",
   "execution_count": 3,
   "metadata": {},
   "outputs": [],
   "source": [
    "import glob"
   ]
  },
  {
   "cell_type": "code",
   "execution_count": 4,
   "metadata": {},
   "outputs": [],
   "source": [
    "import warnings\n",
    "warnings.filterwarnings('ignore')"
   ]
  },
  {
   "cell_type": "code",
   "execution_count": 5,
   "metadata": {},
   "outputs": [],
   "source": [
    "import matplotlib.pyplot as plt\n",
    "\n",
    "import numpy as np"
   ]
  },
  {
   "cell_type": "code",
   "execution_count": 6,
   "metadata": {},
   "outputs": [],
   "source": [
    "def prepare_data(dimensions, files):\n",
    "    \n",
    "    columns = (['player index', 'co player index'] + [f'p{i}' for i in range(1, 17)] + \n",
    "               [f'q{i}' for i in range(1, 17)] + ['e', 'cc', 'cd', 'dc', 'dd'])\n",
    "    \n",
    "    dfs = [pd.read_csv(file, header=None, names=columns) for file in files]\n",
    "\n",
    "    df = pd.concat(dfs)\n",
    "    \n",
    "    rhos = df[df['player index'] == df['co player index']]\n",
    "    rhos['rho'] = 0\n",
    "    for i, row in rhos.iterrows():\n",
    "        rhos.loc[i, 'rho'] = row['cc'] + row['cd']\n",
    "    df = df.merge(rhos[['player index', 'rho']], how='left', left_on='player index', right_on='player index')\n",
    "    \n",
    "    \n",
    "    df['rho p'] = df.apply(lambda row: row['cc'] + row['cd'], axis=1)\n",
    "\n",
    "    df['rho q'] = df.apply(lambda row: row['cc'] + row['dc'], axis=1)\n",
    "\n",
    "    df['x'] = df.apply(lambda row: row['rho'] - row['rho p'], axis=1)\n",
    "\n",
    "    df['y'] = df.apply(lambda row: row['rho'] - row['rho q'], axis=1)\n",
    "    \n",
    "    df['y / x'] = df['y'] / df['x']\n",
    "    \n",
    "    return df"
   ]
  },
  {
   "cell_type": "code",
   "execution_count": 7,
   "metadata": {},
   "outputs": [],
   "source": [
    "def vaquero_method(df):\n",
    "    sets = []\n",
    "    for j, group in df.groupby('player index'):\n",
    "\n",
    "        Q1, Q2, Q3, Q4 = [], [], [], []\n",
    "\n",
    "        for i, row in group.iterrows():\n",
    "\n",
    "            if row['player index'] != row['co player index']:\n",
    "\n",
    "                if row['x'] > 0 and row['y'] > 0:\n",
    "                    Q1.append(row['y'] / row['x'])\n",
    "\n",
    "                if row['x'] < 0 and row['y'] <= 0:\n",
    "\n",
    "                    Q2.append(row['y'] / row['x'])\n",
    "\n",
    "                if row['x'] <= 0 and row['y'] > 0:\n",
    "                    Q3.append(row['co player index'])\n",
    "\n",
    "                if row['x'] == 0 and row['y'] == 0:\n",
    "\n",
    "                    Q4.append(row['co player index'])\n",
    "\n",
    "        sets.append([j, Q1, Q2, Q3, Q4])\n",
    "    return sets"
   ]
  },
  {
   "cell_type": "code",
   "execution_count": 8,
   "metadata": {},
   "outputs": [],
   "source": [
    "def payoffs_of_p(rho, b, c):\n",
    "    return (b * rho) - (c * rho)\n",
    "\n",
    "def payoffs_of_q(rho_p, rho_q, b, c):\n",
    "    return (b * rho_p) - (c * rho_q)"
   ]
  },
  {
   "cell_type": "markdown",
   "metadata": {},
   "source": [
    "### Memory-two (test results from Hilde 2017 paper)"
   ]
  },
  {
   "cell_type": "code",
   "execution_count": 10,
   "metadata": {},
   "outputs": [],
   "source": [
    "dimensions = 2\n",
    "\n",
    "files = glob.glob(f\"../data/cooperation_data/memone/error_0.01_n_{dimensions}_*.csv\")"
   ]
  },
  {
   "cell_type": "code",
   "execution_count": 12,
   "metadata": {},
   "outputs": [],
   "source": [
    "memory_two = prepare_data(dimensions, files)"
   ]
  },
  {
   "cell_type": "code",
   "execution_count": 13,
   "metadata": {},
   "outputs": [],
   "source": [
    "sets = vaquero_method(memory_two)"
   ]
  },
  {
   "cell_type": "code",
   "execution_count": 16,
   "metadata": {},
   "outputs": [],
   "source": [
    "df = pd.DataFrame(sets, columns=['player index', 'Q1 (y / x)', 'Q2 (y / x)', 'Q3 (indices)', 'Q4 (indices)'])"
   ]
  },
  {
   "cell_type": "code",
   "execution_count": 18,
   "metadata": {},
   "outputs": [],
   "source": [
    "Q3_empty = []\n",
    "Q4_empty = []\n",
    "\n",
    "for i, row in df.iterrows():\n",
    "    Q3_empty.append(len(row['Q3 (indices)']) == 0)\n",
    "    Q4_empty.append(len(row['Q4 (indices)']) == 0)"
   ]
  },
  {
   "cell_type": "code",
   "execution_count": 19,
   "metadata": {},
   "outputs": [],
   "source": [
    "df['Q3 empty'] = Q3_empty\n",
    "df['Q4 empty'] = Q4_empty"
   ]
  },
  {
   "cell_type": "code",
   "execution_count": 20,
   "metadata": {},
   "outputs": [],
   "source": [
    "order_from_paper = [36874,32778,34954,39050,39322,35226,33050,37146,36880,61450,61456]\n",
    "\n",
    "sorterIndex = dict(zip(order_from_paper, range(len(order_from_paper))))"
   ]
  },
  {
   "cell_type": "code",
   "execution_count": 21,
   "metadata": {},
   "outputs": [],
   "source": [
    "df['player index'] = df['player index'].map(sorterIndex)"
   ]
  },
  {
   "cell_type": "code",
   "execution_count": 22,
   "metadata": {},
   "outputs": [],
   "source": [
    "df = df.sort_values('player index')"
   ]
  },
  {
   "cell_type": "code",
   "execution_count": 23,
   "metadata": {},
   "outputs": [
    {
     "name": "stdout",
     "output_type": "stream",
     "text": [
      "0: 1.53 <= b/c <= 0\n",
      "1: 1.53 <= b/c <= 0\n",
      "2: 1.53 <= b/c <= 0\n",
      "3: 1.53 <= b/c <= 0\n",
      "4: 2.04 <= b/c <= 0\n",
      "5: 2.04 <= b/c <= 0\n",
      "6: 2.04 <= b/c <= 105.32\n",
      "7: 2.04 <= b/c <= 0\n",
      "8: 2.08 <= b/c <= 0\n",
      "9: 2.02 <= b/c <= 0\n",
      "10: 2.04 <= b/c <= 0\n"
     ]
    }
   ],
   "source": [
    "for i, row in df[(df['Q3 empty'] == True) & (df['Q4 empty'] == True)].iterrows():\n",
    "    ub = False\n",
    "    lb = False\n",
    "    \n",
    "    if row['Q1 (y / x)']:\n",
    "        lb = max(row['Q1 (y / x)'])\n",
    "    if row['Q2 (y / x)']:\n",
    "        ub = min(row['Q2 (y / x)'])\n",
    "        \n",
    "#     if lb <= ub:\n",
    "    \n",
    "    print(f\"{row['player index']}: {round(lb, 2)} <= b/c <= {round(ub, 2)}\")"
   ]
  },
  {
   "cell_type": "markdown",
   "metadata": {},
   "source": [
    "### One bit"
   ]
  },
  {
   "cell_type": "code",
   "execution_count": 36,
   "metadata": {},
   "outputs": [],
   "source": [
    "dimensions = 1\n",
    "\n",
    "files = glob.glob(f\"../data/cooperation_data/error_0.01_n_{dimensions}_*.csv\")"
   ]
  },
  {
   "cell_type": "code",
   "execution_count": 37,
   "metadata": {},
   "outputs": [],
   "source": [
    "one_bit = prepare_data(dimensions, files)"
   ]
  },
  {
   "cell_type": "code",
   "execution_count": 38,
   "metadata": {
    "scrolled": true
   },
   "outputs": [],
   "source": [
    "sets = vaquero_method(one_bit)"
   ]
  },
  {
   "cell_type": "code",
   "execution_count": 39,
   "metadata": {},
   "outputs": [
    {
     "data": {
      "text/html": [
       "<div>\n",
       "<style scoped>\n",
       "    .dataframe tbody tr th:only-of-type {\n",
       "        vertical-align: middle;\n",
       "    }\n",
       "\n",
       "    .dataframe tbody tr th {\n",
       "        vertical-align: top;\n",
       "    }\n",
       "\n",
       "    .dataframe thead th {\n",
       "        text-align: right;\n",
       "    }\n",
       "</style>\n",
       "<table border=\"1\" class=\"dataframe\">\n",
       "  <thead>\n",
       "    <tr style=\"text-align: right;\">\n",
       "      <th></th>\n",
       "      <th>player index</th>\n",
       "      <th>Q1 (y / x)</th>\n",
       "      <th>Q2 (y / x)</th>\n",
       "      <th>Q3 (indices)</th>\n",
       "      <th>Q4 (indices)</th>\n",
       "    </tr>\n",
       "  </thead>\n",
       "  <tbody>\n",
       "    <tr>\n",
       "      <th>0</th>\n",
       "      <td>1</td>\n",
       "      <td>[]</td>\n",
       "      <td>[]</td>\n",
       "      <td>[]</td>\n",
       "      <td>[]</td>\n",
       "    </tr>\n",
       "    <tr>\n",
       "      <th>1</th>\n",
       "      <td>2</td>\n",
       "      <td>[]</td>\n",
       "      <td>[]</td>\n",
       "      <td>[]</td>\n",
       "      <td>[]</td>\n",
       "    </tr>\n",
       "    <tr>\n",
       "      <th>2</th>\n",
       "      <td>3</td>\n",
       "      <td>[]</td>\n",
       "      <td>[]</td>\n",
       "      <td>[]</td>\n",
       "      <td>[]</td>\n",
       "    </tr>\n",
       "    <tr>\n",
       "      <th>3</th>\n",
       "      <td>4</td>\n",
       "      <td>[]</td>\n",
       "      <td>[]</td>\n",
       "      <td>[]</td>\n",
       "      <td>[]</td>\n",
       "    </tr>\n",
       "    <tr>\n",
       "      <th>4</th>\n",
       "      <td>5</td>\n",
       "      <td>[]</td>\n",
       "      <td>[]</td>\n",
       "      <td>[]</td>\n",
       "      <td>[]</td>\n",
       "    </tr>\n",
       "    <tr>\n",
       "      <th>5</th>\n",
       "      <td>6</td>\n",
       "      <td>[]</td>\n",
       "      <td>[]</td>\n",
       "      <td>[]</td>\n",
       "      <td>[]</td>\n",
       "    </tr>\n",
       "    <tr>\n",
       "      <th>6</th>\n",
       "      <td>7</td>\n",
       "      <td>[]</td>\n",
       "      <td>[]</td>\n",
       "      <td>[]</td>\n",
       "      <td>[]</td>\n",
       "    </tr>\n",
       "    <tr>\n",
       "      <th>7</th>\n",
       "      <td>8</td>\n",
       "      <td>[]</td>\n",
       "      <td>[]</td>\n",
       "      <td>[]</td>\n",
       "      <td>[]</td>\n",
       "    </tr>\n",
       "    <tr>\n",
       "      <th>8</th>\n",
       "      <td>9</td>\n",
       "      <td>[]</td>\n",
       "      <td>[]</td>\n",
       "      <td>[]</td>\n",
       "      <td>[]</td>\n",
       "    </tr>\n",
       "    <tr>\n",
       "      <th>9</th>\n",
       "      <td>10</td>\n",
       "      <td>[]</td>\n",
       "      <td>[]</td>\n",
       "      <td>[]</td>\n",
       "      <td>[]</td>\n",
       "    </tr>\n",
       "    <tr>\n",
       "      <th>10</th>\n",
       "      <td>11</td>\n",
       "      <td>[]</td>\n",
       "      <td>[]</td>\n",
       "      <td>[]</td>\n",
       "      <td>[]</td>\n",
       "    </tr>\n",
       "    <tr>\n",
       "      <th>11</th>\n",
       "      <td>12</td>\n",
       "      <td>[]</td>\n",
       "      <td>[]</td>\n",
       "      <td>[]</td>\n",
       "      <td>[]</td>\n",
       "    </tr>\n",
       "    <tr>\n",
       "      <th>12</th>\n",
       "      <td>13</td>\n",
       "      <td>[]</td>\n",
       "      <td>[]</td>\n",
       "      <td>[]</td>\n",
       "      <td>[]</td>\n",
       "    </tr>\n",
       "    <tr>\n",
       "      <th>13</th>\n",
       "      <td>14</td>\n",
       "      <td>[]</td>\n",
       "      <td>[]</td>\n",
       "      <td>[]</td>\n",
       "      <td>[]</td>\n",
       "    </tr>\n",
       "    <tr>\n",
       "      <th>14</th>\n",
       "      <td>15</td>\n",
       "      <td>[]</td>\n",
       "      <td>[]</td>\n",
       "      <td>[]</td>\n",
       "      <td>[]</td>\n",
       "    </tr>\n",
       "    <tr>\n",
       "      <th>15</th>\n",
       "      <td>16</td>\n",
       "      <td>[]</td>\n",
       "      <td>[]</td>\n",
       "      <td>[]</td>\n",
       "      <td>[]</td>\n",
       "    </tr>\n",
       "  </tbody>\n",
       "</table>\n",
       "</div>"
      ],
      "text/plain": [
       "    player index Q1 (y / x) Q2 (y / x) Q3 (indices) Q4 (indices)\n",
       "0              1         []         []           []           []\n",
       "1              2         []         []           []           []\n",
       "2              3         []         []           []           []\n",
       "3              4         []         []           []           []\n",
       "4              5         []         []           []           []\n",
       "5              6         []         []           []           []\n",
       "6              7         []         []           []           []\n",
       "7              8         []         []           []           []\n",
       "8              9         []         []           []           []\n",
       "9             10         []         []           []           []\n",
       "10            11         []         []           []           []\n",
       "11            12         []         []           []           []\n",
       "12            13         []         []           []           []\n",
       "13            14         []         []           []           []\n",
       "14            15         []         []           []           []\n",
       "15            16         []         []           []           []"
      ]
     },
     "execution_count": 39,
     "metadata": {},
     "output_type": "execute_result"
    }
   ],
   "source": [
    "pd.DataFrame(sets, columns=['player index', 'Q1 (y / x)', 'Q2 (y / x)', 'Q3 (indices)', 'Q4 (indices)'])"
   ]
  },
  {
   "cell_type": "markdown",
   "metadata": {},
   "source": [
    "### Two bits"
   ]
  },
  {
   "cell_type": "code",
   "execution_count": null,
   "metadata": {},
   "outputs": [],
   "source": [
    "dimensions = 4\n",
    "files = glob.glob(f\"../data/cooperation_data/error_0.01_n_{dimensions}_*.csv\")"
   ]
  },
  {
   "cell_type": "code",
   "execution_count": null,
   "metadata": {},
   "outputs": [],
   "source": [
    "two_bit = prepare_data(dimensions, files)"
   ]
  },
  {
   "cell_type": "code",
   "execution_count": 14,
   "metadata": {},
   "outputs": [],
   "source": [
    "sets = vaquero_method(two_bit)"
   ]
  },
  {
   "cell_type": "code",
   "execution_count": 15,
   "metadata": {},
   "outputs": [],
   "source": [
    "df = pd.DataFrame(sets, columns=['player index', 'Q1 (y / x)', 'Q2 (y / x)', 'Q3 (indices)', 'Q4 (indices)'])\n"
   ]
  },
  {
   "cell_type": "code",
   "execution_count": 16,
   "metadata": {},
   "outputs": [],
   "source": [
    "Q3_empty = []\n",
    "Q4_empty = []\n",
    "\n",
    "for i, row in df.iterrows():\n",
    "    Q3_empty.append(len(row['Q3 (indices)']) == 0)\n",
    "    Q4_empty.append(len(row['Q4 (indices)']) == 0)"
   ]
  },
  {
   "cell_type": "code",
   "execution_count": 17,
   "metadata": {},
   "outputs": [],
   "source": [
    "df['Q3 empty'] = Q3_empty\n",
    "df['Q4 empty'] = Q4_empty"
   ]
  },
  {
   "cell_type": "code",
   "execution_count": 22,
   "metadata": {},
   "outputs": [
    {
     "name": "stdout",
     "output_type": "stream",
     "text": [
      "1: 0 <= b/c <= 0\n",
      "3: 1.04 <= b/c <= 0\n",
      "5: 1.04 <= b/c <= 2882353642.71\n",
      "9: 19.5 <= b/c <= 1.02\n",
      "15: 51.9 <= b/c <= 19.5\n"
     ]
    }
   ],
   "source": [
    "for i, row in df[(df['Q3 empty'] == True) & (df['Q4 empty'] == True)].iterrows():\n",
    "    ub = False\n",
    "    lb = False\n",
    "    \n",
    "    if row['Q1 (y / x)']:\n",
    "        lb = max(row['Q1 (y / x)'])\n",
    "    if row['Q2 (y / x)']:\n",
    "        ub = min(row['Q2 (y / x)'])\n",
    "        \n",
    "#     if lb <= ub:\n",
    "    \n",
    "    print(f\"{row['player index']}: {round(lb, 2)} <= b/c <= {round(ub, 2)}\")"
   ]
  },
  {
   "cell_type": "markdown",
   "metadata": {},
   "source": [
    "### Three bits"
   ]
  },
  {
   "cell_type": "code",
   "execution_count": 21,
   "metadata": {},
   "outputs": [],
   "source": [
    "three_bit = prepare_data(8)"
   ]
  },
  {
   "cell_type": "code",
   "execution_count": 127,
   "metadata": {},
   "outputs": [],
   "source": [
    "three_bit = three_bit.sort_values('player index')"
   ]
  },
  {
   "cell_type": "code",
   "execution_count": 128,
   "metadata": {},
   "outputs": [],
   "source": [
    "sets = vaquero_method(three_bit)"
   ]
  },
  {
   "cell_type": "code",
   "execution_count": 129,
   "metadata": {},
   "outputs": [],
   "source": [
    "df = pd.DataFrame(sets, columns=['player index', 'Q1 (y / x)', 'Q2 (y / x)', 'Q3 (indices)', 'Q4 (indices)'])"
   ]
  },
  {
   "cell_type": "code",
   "execution_count": 130,
   "metadata": {},
   "outputs": [],
   "source": [
    "Q3_empty = []\n",
    "Q4_empty = []\n",
    "\n",
    "for i, row in df.iterrows():\n",
    "    Q3_empty.append(len(row['Q3 (indices)']) == 0)\n",
    "    Q4_empty.append(len(row['Q4 (indices)']) == 0)"
   ]
  },
  {
   "cell_type": "code",
   "execution_count": 131,
   "metadata": {},
   "outputs": [],
   "source": [
    "df['Q3 empty'] = Q3_empty\n",
    "df['Q4 empty'] = Q4_empty"
   ]
  },
  {
   "cell_type": "code",
   "execution_count": 133,
   "metadata": {},
   "outputs": [
    {
     "name": "stdout",
     "output_type": "stream",
     "text": [
      "1: False <= b/c <= False\n",
      "35: 1.0412328199480185 <= b/c <= 1.0424536300792253\n",
      "69: 1.0412328408761917 <= b/c <= 1.0436048213156999\n"
     ]
    }
   ],
   "source": [
    "for i, row in df[(df['Q3 empty'] == True) & (df['Q4 empty'] == True)].iterrows():\n",
    "    ub = False\n",
    "    lb = False\n",
    "    \n",
    "    if row['Q1 (y / x)']:\n",
    "        lb = max(row['Q1 (y / x)'])\n",
    "    if row['Q2 (y / x)']:\n",
    "        ub = min(row['Q2 (y / x)'])\n",
    "    if lb <= ub:\n",
    "    \n",
    "        print(f\"{row['player index']}: {lb} <= b/c <= {ub}\")"
   ]
  },
  {
   "cell_type": "markdown",
   "metadata": {},
   "source": [
    "### Four bits"
   ]
  },
  {
   "cell_type": "code",
   "execution_count": 57,
   "metadata": {},
   "outputs": [],
   "source": [
    "four_bit = prepare_data(16)"
   ]
  },
  {
   "cell_type": "code",
   "execution_count": 58,
   "metadata": {},
   "outputs": [],
   "source": [
    "sets = vaquero_method(four_bit)"
   ]
  },
  {
   "cell_type": "code",
   "execution_count": 59,
   "metadata": {},
   "outputs": [],
   "source": [
    "df = pd.DataFrame(sets, columns=['player index', 'Q1 (y / x)', 'Q2 (y / x)', 'Q3 (indices)', 'Q4 (indices)'])"
   ]
  },
  {
   "cell_type": "code",
   "execution_count": 60,
   "metadata": {},
   "outputs": [],
   "source": [
    "Q3_empty = []\n",
    "Q4_empty = []\n",
    "\n",
    "for i, row in df.iterrows():\n",
    "    Q3_empty.append(len(row['Q3 (indices)']) == 0)\n",
    "    Q4_empty.append(len(row['Q4 (indices)']) == 0)"
   ]
  },
  {
   "cell_type": "code",
   "execution_count": 61,
   "metadata": {},
   "outputs": [],
   "source": [
    "df['Q3 empty'] = Q3_empty\n",
    "df['Q4 empty'] = Q4_empty"
   ]
  },
  {
   "cell_type": "code",
   "execution_count": 65,
   "metadata": {},
   "outputs": [
    {
     "name": "stdout",
     "output_type": "stream",
     "text": [
      "1: False <= b/c <= 485101.21231723594 -True\n",
      "35: 1.0414495046715793 <= b/c <= 1.0415829926006013 -True\n",
      "73: 1.0419170119230037 <= b/c <= 1.047882076486478 -True\n",
      "163: 1.0413538739633985 <= b/c <= 1.0415574235985448 -True\n",
      "205: 1.0412328937089776 <= b/c <= 1.0426671633511733 -True\n",
      "209: 1.0867506256938408 <= b/c <= 1.789273796073751 -True\n"
     ]
    }
   ],
   "source": [
    "indices = []\n",
    "lbounds = []\n",
    "ubounds = []\n",
    "for i, row in df[(df['Q3 empty'] == True) & (df['Q4 empty'] == True)].iterrows():\n",
    "    ub = False\n",
    "    lb = False\n",
    "    \n",
    "    if row['Q1 (y / x)']:\n",
    "        lb = max(row['Q1 (y / x)'])\n",
    "    if row['Q2 (y / x)']:\n",
    "        ub = min(row['Q2 (y / x)'])\n",
    "        \n",
    "    if lb <= ub:\n",
    "    \n",
    "        print(f\"{row['player index']}: {lb} <= b/c <= {ub}\", f\"-{lb <= ub}\")\n",
    "        indices.append(row['player index'])\n",
    "        lbounds.append(round(lb, 3))\n",
    "        ubounds.append(round(ub, 3))"
   ]
  },
  {
   "cell_type": "code",
   "execution_count": 181,
   "metadata": {},
   "outputs": [],
   "source": [
    "columns = [f'p{i}' for i in range(1, 17)] + ['rho']\n",
    "\n",
    "table = four_bit[(four_bit['player index'].isin(indices))][columns].drop_duplicates().reset_index(drop=True).round(3)"
   ]
  },
  {
   "cell_type": "code",
   "execution_count": 183,
   "metadata": {},
   "outputs": [],
   "source": [
    "table['lb'] = lbounds\n",
    "table['ub'] = ubounds"
   ]
  }
 ],
 "metadata": {
  "kernelspec": {
   "display_name": "Python 3",
   "language": "python",
   "name": "python3"
  },
  "language_info": {
   "codemirror_mode": {
    "name": "ipython",
    "version": 3
   },
   "file_extension": ".py",
   "mimetype": "text/x-python",
   "name": "python",
   "nbconvert_exporter": "python",
   "pygments_lexer": "ipython3",
   "version": "3.8.3"
  }
 },
 "nbformat": 4,
 "nbformat_minor": 4
}
