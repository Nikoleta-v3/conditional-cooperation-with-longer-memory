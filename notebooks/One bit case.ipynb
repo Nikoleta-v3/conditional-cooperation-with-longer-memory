{
 "cells": [
  {
   "cell_type": "code",
   "execution_count": 3,
   "id": "a5fe14ea",
   "metadata": {},
   "outputs": [],
   "source": [
    "import numpy as np\n",
    "\n",
    "import matplotlib.pyplot as plt\n",
    "\n",
    "import tqdm"
   ]
  },
  {
   "cell_type": "code",
   "execution_count": 4,
   "id": "e32472cc",
   "metadata": {},
   "outputs": [],
   "source": [
    "import os\n",
    "\n",
    "os.chdir(\"..\")"
   ]
  },
  {
   "cell_type": "code",
   "execution_count": 5,
   "id": "5224597c",
   "metadata": {},
   "outputs": [],
   "source": [
    "from importlib.machinery import SourceFileLoader\n",
    "\n",
    "main = SourceFileLoader(\"main\", \"src/main.py\").load_module()\n",
    "\n",
    "eq = SourceFileLoader(\"eq\", \"src/numerical_equilibria_n_bit_vs_n_bit.py\").load_module()\n",
    "\n",
    "from main import invariant_distribution, invariant_distribution_analytically\n",
    "\n",
    "def match_payoff(player, coplayer, Sx):\n",
    "    M = eq.calculate_M_memory_two(player, coplayer)\n",
    "    ss = invariant_distribution(M)\n",
    "\n",
    "    return ss @ Sx"
   ]
  },
  {
   "cell_type": "code",
   "execution_count": 6,
   "id": "8c884d0f",
   "metadata": {},
   "outputs": [],
   "source": [
    "import sympy as sym\n",
    "\n",
    "sym.init_printing(True)"
   ]
  },
  {
   "cell_type": "markdown",
   "id": "c37f8d46",
   "metadata": {},
   "source": [
    "# One bit case"
   ]
  },
  {
   "cell_type": "code",
   "execution_count": 7,
   "id": "08cf4b2c",
   "metadata": {},
   "outputs": [],
   "source": [
    "q1, q2 = sym.symbols(\"q1:3\")\n",
    "\n",
    "p1, p2 = sym.symbols(\"p1:3\")"
   ]
  },
  {
   "cell_type": "code",
   "execution_count": 8,
   "id": "1ba58c36",
   "metadata": {},
   "outputs": [],
   "source": [
    "player = [p1, p2, p1, p2]"
   ]
  },
  {
   "cell_type": "code",
   "execution_count": 9,
   "id": "4e1cc1f9",
   "metadata": {},
   "outputs": [],
   "source": [
    "coplayer = [q1, q1, q2, q2]"
   ]
  },
  {
   "cell_type": "code",
   "execution_count": 10,
   "id": "b073b033",
   "metadata": {},
   "outputs": [],
   "source": [
    "M = main.calculate_M(player, coplayer, analytical=True)"
   ]
  },
  {
   "cell_type": "code",
   "execution_count": 11,
   "id": "46c68a7c",
   "metadata": {},
   "outputs": [],
   "source": [
    "ss = invariant_distribution_analytically(M)"
   ]
  },
  {
   "cell_type": "code",
   "execution_count": 12,
   "id": "aa25ad79",
   "metadata": {},
   "outputs": [],
   "source": [
    "ss = [s.factor() for s in ss]"
   ]
  },
  {
   "cell_type": "code",
   "execution_count": 13,
   "id": "afa99d1e",
   "metadata": {},
   "outputs": [
    {
     "data": {
      "image/png": "[encoded data removed]",
      "text/latex": [
       "$\\displaystyle - \\frac{q_{2}}{q_{1} - q_{2} - 1}$"
      ],
      "text/plain": [
       "    -q₂    \n",
       "───────────\n",
       "q₁ - q₂ - 1"
      ]
     },
     "execution_count": 13,
     "metadata": {},
     "output_type": "execute_result"
    }
   ],
   "source": [
    "(ss[0] + ss[2]).factor()"
   ]
  },
  {
   "cell_type": "code",
   "execution_count": 14,
   "id": "678b0157",
   "metadata": {},
   "outputs": [
    {
     "data": {
      "image/png": "[encoded data removed]",
      "text/latex": [
       "$\\displaystyle p_{1}$"
      ],
      "text/plain": [
       "p₁"
      ]
     },
     "execution_count": 14,
     "metadata": {},
     "output_type": "execute_result"
    }
   ],
   "source": [
    "ss[0].subs({q1: 1, q2:0})"
   ]
  },
  {
   "cell_type": "code",
   "execution_count": 15,
   "id": "b9aa246c",
   "metadata": {},
   "outputs": [
    {
     "data": {
      "image/png": "[encoded data removed]",
      "text/latex": [
       "$\\displaystyle 1 - p_{1}$"
      ],
      "text/plain": [
       "1 - p₁"
      ]
     },
     "execution_count": 15,
     "metadata": {},
     "output_type": "execute_result"
    }
   ],
   "source": [
    "ss[2].subs({q1: 1, q2:0})"
   ]
  },
  {
   "cell_type": "code",
   "execution_count": 16,
   "id": "051a011f",
   "metadata": {},
   "outputs": [],
   "source": [
    "w_ucc = q2 * (p1 * q1 - p2 * q1 + p2) / (1 - q1 + q2)"
   ]
  },
  {
   "cell_type": "code",
   "execution_count": 17,
   "id": "2d26a1b4",
   "metadata": {},
   "outputs": [
    {
     "data": {
      "image/png": "[encoded data removed]",
      "text/latex": [
       "$\\displaystyle \\frac{q_{2} \\left(p_{1} q_{1} - p_{2} q_{1} + p_{2}\\right)}{- q_{1} + q_{2} + 1}$"
      ],
      "text/plain": [
       "q₂⋅(p₁⋅q₁ - p₂⋅q₁ + p₂)\n",
       "───────────────────────\n",
       "      -q₁ + q₂ + 1     "
      ]
     },
     "execution_count": 17,
     "metadata": {},
     "output_type": "execute_result"
    }
   ],
   "source": [
    "w_ucc"
   ]
  },
  {
   "cell_type": "code",
   "execution_count": 18,
   "id": "284fe7ef",
   "metadata": {},
   "outputs": [],
   "source": [
    "w_udc = - w_ucc + q2 / (1 - q1 + q2)"
   ]
  },
  {
   "cell_type": "code",
   "execution_count": 19,
   "id": "3c6496ec",
   "metadata": {},
   "outputs": [
    {
     "data": {
      "image/png": "[encoded data removed]",
      "text/latex": [
       "$\\displaystyle 0$"
      ],
      "text/plain": [
       "0"
      ]
     },
     "execution_count": 19,
     "metadata": {},
     "output_type": "execute_result"
    }
   ],
   "source": [
    "(ss[2] - w_udc).factor()"
   ]
  },
  {
   "cell_type": "code",
   "execution_count": 20,
   "id": "cddecf92",
   "metadata": {},
   "outputs": [
    {
     "data": {
      "image/png": "[encoded data removed]",
      "text/latex": [
       "$\\displaystyle \\frac{\\left(q_{1} - 1\\right) \\left(p_{1} q_{2} - p_{2} q_{2} + p_{2}\\right)}{q_{1} - q_{2} - 1}$"
      ],
      "text/plain": [
       "(q₁ - 1)⋅(p₁⋅q₂ - p₂⋅q₂ + p₂)\n",
       "─────────────────────────────\n",
       "         q₁ - q₂ - 1         "
      ]
     },
     "execution_count": 20,
     "metadata": {},
     "output_type": "execute_result"
    }
   ],
   "source": [
    "ss[1]"
   ]
  },
  {
   "cell_type": "code",
   "execution_count": 21,
   "id": "cd6e302e",
   "metadata": {},
   "outputs": [],
   "source": [
    "w_ucd = ((1 - q1) * (p1 * q2 - p2 * q2 + p2)) / (1 - q1 + q2)"
   ]
  },
  {
   "cell_type": "code",
   "execution_count": 22,
   "id": "6b828b4f",
   "metadata": {},
   "outputs": [
    {
     "data": {
      "image/png": "[encoded data removed]",
      "text/latex": [
       "$\\displaystyle 0$"
      ],
      "text/plain": [
       "0"
      ]
     },
     "execution_count": 22,
     "metadata": {},
     "output_type": "execute_result"
    }
   ],
   "source": [
    "(w_ucd - ss[1]).factor()"
   ]
  },
  {
   "cell_type": "code",
   "execution_count": 21,
   "id": "62edc0a3",
   "metadata": {},
   "outputs": [],
   "source": [
    "w_udd = - w_ucd + (1 - q1) / (1 - q1 + q2)"
   ]
  },
  {
   "cell_type": "code",
   "execution_count": 22,
   "id": "e11bdaef",
   "metadata": {},
   "outputs": [
    {
     "data": {
      "image/png": "[encoded data removed]",
      "text/latex": [
       "$\\displaystyle 0$"
      ],
      "text/plain": [
       "0"
      ]
     },
     "execution_count": 22,
     "metadata": {},
     "output_type": "execute_result"
    }
   ],
   "source": [
    "(w_udd - ss[3]).factor()"
   ]
  },
  {
   "cell_type": "code",
   "execution_count": 23,
   "id": "cfb983dd",
   "metadata": {},
   "outputs": [
    {
     "data": {
      "image/png": "[encoded data removed]",
      "text/latex": [
       "$\\displaystyle - \\frac{\\left(1 - q_{1}\\right) \\left(p_{1} q_{2} - p_{2} q_{2} + p_{2}\\right)}{- q_{1} + q_{2} + 1} + \\frac{1 - q_{1}}{- q_{1} + q_{2} + 1}$"
      ],
      "text/plain": [
       "  (1 - q₁)⋅(p₁⋅q₂ - p₂⋅q₂ + p₂)      1 - q₁   \n",
       "- ───────────────────────────── + ────────────\n",
       "           -q₁ + q₂ + 1           -q₁ + q₂ + 1"
      ]
     },
     "execution_count": 23,
     "metadata": {},
     "output_type": "execute_result"
    }
   ],
   "source": [
    "w_udd"
   ]
  },
  {
   "cell_type": "code",
   "execution_count": 24,
   "id": "c88659d7",
   "metadata": {},
   "outputs": [],
   "source": [
    "x = w_ucc + w_udc"
   ]
  },
  {
   "cell_type": "code",
   "execution_count": 25,
   "id": "05bf7e57",
   "metadata": {},
   "outputs": [],
   "source": [
    "y = (w_ucd + w_udd)"
   ]
  },
  {
   "cell_type": "code",
   "execution_count": 26,
   "id": "4aacb016",
   "metadata": {},
   "outputs": [],
   "source": [
    "b, c = sym.symbols(\"b, c\")"
   ]
  },
  {
   "cell_type": "code",
   "execution_count": 27,
   "id": "7fc2bd13",
   "metadata": {},
   "outputs": [],
   "source": [
    "expr = b * (x * p1 + y * p2) - c * x"
   ]
  },
  {
   "cell_type": "code",
   "execution_count": 28,
   "id": "7491bd40",
   "metadata": {},
   "outputs": [
    {
     "data": {
      "image/png": "[encoded data removed]",
      "text/latex": [
       "$\\displaystyle - \\frac{b p_{1} q_{2} - b p_{2} q_{1} + b p_{2} - c q_{2}}{q_{1} - q_{2} - 1}$"
      ],
      "text/plain": [
       "-(b⋅p₁⋅q₂ - b⋅p₂⋅q₁ + b⋅p₂ - c⋅q₂) \n",
       "───────────────────────────────────\n",
       "            q₁ - q₂ - 1            "
      ]
     },
     "execution_count": 28,
     "metadata": {},
     "output_type": "execute_result"
    }
   ],
   "source": [
    "expr.factor()"
   ]
  },
  {
   "cell_type": "code",
   "execution_count": 29,
   "id": "1c42ef89",
   "metadata": {},
   "outputs": [
    {
     "data": {
      "image/png": "[encoded data removed]",
      "text/latex": [
       "$\\displaystyle \\frac{- b q_{2} + c p_{1} q_{2} - c p_{2} q_{1} + c p_{2}}{q_{1} - q_{2} - 1}$"
      ],
      "text/plain": [
       "-b⋅q₂ + c⋅p₁⋅q₂ - c⋅p₂⋅q₁ + c⋅p₂\n",
       "────────────────────────────────\n",
       "          q₁ - q₂ - 1           "
      ]
     },
     "execution_count": 29,
     "metadata": {},
     "output_type": "execute_result"
    }
   ],
   "source": [
    "(ss @ np.array([b - c, -c, b , 0])).factor()"
   ]
  },
  {
   "cell_type": "markdown",
   "id": "17b33900",
   "metadata": {},
   "source": [
    "### Two bits case"
   ]
  },
  {
   "cell_type": "code",
   "execution_count": 23,
   "id": "09faa11d",
   "metadata": {},
   "outputs": [],
   "source": [
    "p3, p4, q3, q4 = sym.symbols(\"p3, p4, q3, q4\")"
   ]
  },
  {
   "cell_type": "code",
   "execution_count": 24,
   "id": "6dacb677",
   "metadata": {},
   "outputs": [],
   "source": [
    "player = [p1, p2, p1, p2, p3, p4, p3, p4] * 2"
   ]
  },
  {
   "cell_type": "code",
   "execution_count": 25,
   "id": "6369119d",
   "metadata": {},
   "outputs": [],
   "source": [
    "coplayer = [q1, q1, q2, q2, q3, q3, q4, q4] * 2"
   ]
  },
  {
   "cell_type": "code",
   "execution_count": 26,
   "id": "efd5c69d",
   "metadata": {},
   "outputs": [],
   "source": [
    "M = eq.calculate_M_memory_two(player, coplayer, analytical=True)"
   ]
  },
  {
   "cell_type": "code",
   "execution_count": 27,
   "id": "99d881fe",
   "metadata": {
    "scrolled": true
   },
   "outputs": [],
   "source": [
    "# ss = invariant_distribution_analytically(M)"
   ]
  },
  {
   "cell_type": "code",
   "execution_count": 28,
   "id": "85772610",
   "metadata": {},
   "outputs": [],
   "source": [
    "def transformed_two_bit_markov(player, analytical=True):\n",
    "    \n",
    "    if analytical == True:\n",
    "        M = sym.Matrix([[player[0], (1 - player[0]), 0, 0],\n",
    "                        [0, 0, player[1], (1 - player[1])],\n",
    "                        [player[2], (1 - player[2]), 0, 0],\n",
    "                        [0, 0, player[3], (1 - player[3])]])\n",
    "    else:\n",
    "        M = np.array([[player[0], (1 - player[0]), 0, 0],\n",
    "                        [0, 0, player[1], (1 - player[1])],\n",
    "                        [player[2], (1 - player[2]), 0, 0],\n",
    "                        [0, 0, player[3], (1 - player[3])]])\n",
    "    \n",
    "    \n",
    "    return M"
   ]
  },
  {
   "cell_type": "code",
   "execution_count": 29,
   "id": "e7ff5e2d",
   "metadata": {},
   "outputs": [],
   "source": [
    "for i in range(1):\n",
    "    \n",
    "    np.random.seed(i)\n",
    "\n",
    "    p1val, p2val, p3val, p4val = np.random.random(4).round(3)\n",
    "    \n",
    "    q1val, q2val, q3val, q4val, = np.random.random(4).round(3)\n",
    "    \n",
    "    player = [p1val, p2val, p1val, p2val, p3val, p4val, p3val, p4val] * 2\n",
    "\n",
    "    coplayer = [q1val, q1val, q2val, q2val, q3val, q3val, q4val, q4val] * 2\n",
    "    \n",
    "    M2 = eq.calculate_M_memory_two(player, coplayer)\n",
    "    \n",
    "    ss2 = main.invariant_distribution(M2)"
   ]
  },
  {
   "cell_type": "code",
   "execution_count": 30,
   "id": "2a343617",
   "metadata": {},
   "outputs": [],
   "source": [
    "alternator = [1, 1, 0, 0]"
   ]
  },
  {
   "cell_type": "code",
   "execution_count": 31,
   "id": "a8f50afc",
   "metadata": {},
   "outputs": [
    {
     "data": {
      "image/png": "[encoded data removed]",
      "text/latex": [
       "$\\displaystyle 0.25443253235827$"
      ],
      "text/plain": [
       "0.25443253235827"
      ]
     },
     "execution_count": 31,
     "metadata": {},
     "output_type": "execute_result"
    }
   ],
   "source": [
    "ss2 @ np.array([1 - .5, -.5, 1, 0] * 4)"
   ]
  },
  {
   "cell_type": "code",
   "execution_count": 38,
   "id": "373e8f01",
   "metadata": {},
   "outputs": [
    {
     "data": {
      "image/png": "[encoded data removed]",
      "text/latex": [
       "$\\displaystyle 0.337304301186437$"
      ],
      "text/plain": [
       "0.3373043011864367"
      ]
     },
     "execution_count": 38,
     "metadata": {},
     "output_type": "execute_result"
    }
   ],
   "source": [
    "ss2 @ np.array([1 - .5, 1, -.5, 0] * 4)"
   ]
  },
  {
   "cell_type": "code",
   "execution_count": 39,
   "id": "71f32bd0",
   "metadata": {},
   "outputs": [],
   "source": [
    "M = transformed_two_bit_markov([q1val, q2val, q3val, q4val], analytical=False)"
   ]
  },
  {
   "cell_type": "code",
   "execution_count": 40,
   "id": "ef407462",
   "metadata": {},
   "outputs": [],
   "source": [
    "ss = invariant_distribution(M)"
   ]
  },
  {
   "cell_type": "code",
   "execution_count": 43,
   "id": "dddf2cb6",
   "metadata": {},
   "outputs": [
    {
     "data": {
      "image/png": "[encoded data removed]",
      "text/latex": [
       "$\\displaystyle 0.278787116627954$"
      ],
      "text/plain": [
       "0.2787871166279535"
      ]
     },
     "execution_count": 43,
     "metadata": {},
     "output_type": "execute_result"
    }
   ],
   "source": [
    "ss @ np.array([1 - .5, 1, -.5, 0])"
   ]
  },
  {
   "cell_type": "code",
   "execution_count": 44,
   "id": "1d4a29b6",
   "metadata": {},
   "outputs": [
    {
     "data": {
      "text/plain": [
       "array([0.24084567, 0.31672856, 0.31672856, 0.12569721])"
      ]
     },
     "execution_count": 44,
     "metadata": {},
     "output_type": "execute_result"
    }
   ],
   "source": []
  },
  {
   "cell_type": "code",
   "execution_count": 35,
   "id": "4959a11f",
   "metadata": {},
   "outputs": [
    {
     "data": {
      "image/png": "[encoded data removed]",
      "text/latex": [
       "$\\displaystyle 0.557574233255907$"
      ],
      "text/plain": [
       "0.5575742332559069"
      ]
     },
     "execution_count": 35,
     "metadata": {},
     "output_type": "execute_result"
    }
   ],
   "source": [
    "rq = ss[0] + ss[1]\n",
    "\n",
    "rq"
   ]
  },
  {
   "cell_type": "code",
   "execution_count": 36,
   "id": "f3f5377b",
   "metadata": {},
   "outputs": [],
   "source": [
    "cc = [0, 2, 8, 10]\n",
    "\n",
    "cd = [1, 3, 9, 11]\n",
    "\n",
    "dc = [4, 6, 12, 14]"
   ]
  },
  {
   "cell_type": "code",
   "execution_count": 37,
   "id": "9d0ac26a",
   "metadata": {},
   "outputs": [
    {
     "data": {
      "image/png": "[encoded data removed]",
      "text/latex": [
       "$\\displaystyle 0.564112910601984$"
      ],
      "text/plain": [
       "0.5641129106019843"
      ]
     },
     "execution_count": 37,
     "metadata": {},
     "output_type": "execute_result"
    }
   ],
   "source": [
    "sum([ss2[i] for i in cc]) + sum([ss2[i] for i in cd])"
   ]
  },
  {
   "cell_type": "code",
   "execution_count": 86,
   "id": "895c2124",
   "metadata": {},
   "outputs": [
    {
     "data": {
      "image/png": "[encoded data removed]",
      "text/latex": [
       "$\\displaystyle \\left( 0.3218942180581286, \\  0.32189421805812873\\right)$"
      ],
      "text/plain": [
       "(0.3218942180581286, 0.32189421805812873)"
      ]
     },
     "execution_count": 86,
     "metadata": {},
     "output_type": "execute_result"
    }
   ],
   "source": [
    "sum([ss2[i] for i in cd]), sum([ss2[i] for i in dc])"
   ]
  },
  {
   "cell_type": "code",
   "execution_count": 90,
   "id": "613b0baf",
   "metadata": {},
   "outputs": [
    {
     "data": {
      "image/png": "[encoded data removed]",
      "text/latex": [
       "$\\displaystyle -0.27878711662795347$"
      ],
      "text/plain": [
       "-0.27878711662795347"
      ]
     },
     "execution_count": 90,
     "metadata": {},
     "output_type": "execute_result"
    }
   ],
   "source": [
    "(ss[0] + ss[1]) * (-.5)"
   ]
  },
  {
   "cell_type": "code",
   "execution_count": 91,
   "id": "8f59049e",
   "metadata": {},
   "outputs": [
    {
     "data": {
      "image/png": "[encoded data removed]",
      "text/latex": [
       "$\\displaystyle 0.6181774940450652$"
      ],
      "text/plain": [
       "0.6181774940450652"
      ]
     },
     "execution_count": 91,
     "metadata": {},
     "output_type": "execute_result"
    }
   ],
   "source": [
    "ss[0] * p1val + ss[1] * p2val + ss[2] * p3val + ss[3] * p4val"
   ]
  },
  {
   "cell_type": "code",
   "execution_count": 97,
   "id": "54c76d9c",
   "metadata": {},
   "outputs": [
    {
     "data": {
      "image/png": "[encoded data removed]",
      "text/latex": [
       "$\\displaystyle 0.587875863650486$"
      ],
      "text/plain": [
       "0.587875863650486"
      ]
     },
     "execution_count": 97,
     "metadata": {},
     "output_type": "execute_result"
    }
   ],
   "source": [
    "(.5) * sum(ss * np.array([p1val, p2val, p3val, p4val])) - (ss[0] + ss[1]) * (-.5)"
   ]
  },
  {
   "cell_type": "code",
   "execution_count": 98,
   "id": "be2f3f31",
   "metadata": {},
   "outputs": [
    {
     "data": {
      "image/png": "[encoded data removed]",
      "text/latex": [
       "$\\displaystyle 0.6181774940450652$"
      ],
      "text/plain": [
       "0.6181774940450652"
      ]
     },
     "execution_count": 98,
     "metadata": {},
     "output_type": "execute_result"
    }
   ],
   "source": [
    "sum(ss * np.array([p1val, p2val, p3val, p4val]))"
   ]
  },
  {
   "cell_type": "code",
   "execution_count": 99,
   "id": "948cef81",
   "metadata": {},
   "outputs": [
    {
     "data": {
      "image/png": "[encoded data removed]",
      "text/latex": [
       "$\\displaystyle 0.3090887470225326$"
      ],
      "text/plain": [
       "0.3090887470225326"
      ]
     },
     "execution_count": 99,
     "metadata": {},
     "output_type": "execute_result"
    }
   ],
   "source": [
    "sum(ss * np.array([p1val, p2val, p3val, p4val])) * .5"
   ]
  },
  {
   "cell_type": "markdown",
   "id": "4bf8e0bf",
   "metadata": {},
   "source": [
    "**One bit case**"
   ]
  },
  {
   "cell_type": "code",
   "execution_count": 47,
   "id": "4dc8f12c",
   "metadata": {},
   "outputs": [],
   "source": [
    "b, c = sym.symbols(\"b, c\")"
   ]
  },
  {
   "cell_type": "code",
   "execution_count": 78,
   "id": "52f8d441",
   "metadata": {},
   "outputs": [],
   "source": [
    "player_one = (sym.Rational(1, 2), sym.Rational(1, 3), sym.Rational(1, 2), sym.Rational(1, 3))\n",
    "\n",
    "player_two = (sym.Rational(1, 4), sym.Rational(1, 4), sym.Rational(1, 2), sym.Rational(1, 2))"
   ]
  },
  {
   "cell_type": "code",
   "execution_count": 79,
   "id": "fe62bdd5",
   "metadata": {},
   "outputs": [],
   "source": [
    "M = main.calculate_M(player_one, player_two, analytical=True)\n",
    "\n",
    "ss = invariant_distribution_analytically(M)"
   ]
  },
  {
   "cell_type": "code",
   "execution_count": 80,
   "id": "84a4334f",
   "metadata": {},
   "outputs": [
    {
     "data": {
      "image/png": "[encoded data removed]",
      "text/latex": [
       "$\\displaystyle \\frac{2 \\left(b - c\\right)}{5}$"
      ],
      "text/plain": [
       "2⋅(b - c)\n",
       "─────────\n",
       "    5    "
      ]
     },
     "execution_count": 80,
     "metadata": {},
     "output_type": "execute_result"
    }
   ],
   "source": [
    "sum(ss @ np.array([b - c, -c, b, 0])).factor()"
   ]
  },
  {
   "cell_type": "code",
   "execution_count": 88,
   "id": "1952a918",
   "metadata": {
    "scrolled": true
   },
   "outputs": [
    {
     "data": {
      "image/png": "[encoded data removed]",
      "text/latex": [
       "$\\displaystyle \\frac{2 \\left(b - c\\right)}{5}$"
      ],
      "text/plain": [
       "2⋅(b - c)\n",
       "─────────\n",
       "    5    "
      ]
     },
     "execution_count": 88,
     "metadata": {},
     "output_type": "execute_result"
    }
   ],
   "source": [
    "sum(ss @ np.array([b - c, b, -c, 0])).factor()"
   ]
  },
  {
   "cell_type": "code",
   "execution_count": 89,
   "id": "deca4ce3",
   "metadata": {},
   "outputs": [],
   "source": [
    "# M2 = sym.Matrix([[sym.Rational(1, 4), 1 - sym.Rational(1, 4)], [sym.Rational(1, 2), 1 - sym.Rational(1, 2)]])\n",
    "\n",
    "# M2b"
   ]
  },
  {
   "cell_type": "code",
   "execution_count": 90,
   "id": "7975ce2e",
   "metadata": {},
   "outputs": [],
   "source": [
    "ss2 = invariant_distribution_analytically(M2)"
   ]
  },
  {
   "cell_type": "code",
   "execution_count": 91,
   "id": "9df34a78",
   "metadata": {},
   "outputs": [],
   "source": [
    "rho_1 = ss2[0] * player_one[0] +  ss2[1] * player_one[1]"
   ]
  },
  {
   "cell_type": "code",
   "execution_count": 94,
   "id": "142b3e72",
   "metadata": {},
   "outputs": [
    {
     "data": {
      "image/png": "[encoded data removed]",
      "text/latex": [
       "$\\displaystyle \\frac{2}{5}$"
      ],
      "text/plain": [
       "2/5"
      ]
     },
     "execution_count": 94,
     "metadata": {},
     "output_type": "execute_result"
    }
   ],
   "source": [
    "rho_1"
   ]
  },
  {
   "cell_type": "code",
   "execution_count": 95,
   "id": "92bd312a",
   "metadata": {},
   "outputs": [],
   "source": [
    "rho_2 = ss2[0]"
   ]
  },
  {
   "cell_type": "code",
   "execution_count": 96,
   "id": "12fcff8e",
   "metadata": {},
   "outputs": [
    {
     "data": {
      "image/png": "[encoded data removed]",
      "text/latex": [
       "$\\displaystyle \\frac{2}{5}$"
      ],
      "text/plain": [
       "2/5"
      ]
     },
     "execution_count": 96,
     "metadata": {},
     "output_type": "execute_result"
    }
   ],
   "source": [
    "rho_2"
   ]
  },
  {
   "cell_type": "code",
   "execution_count": 93,
   "id": "c3f45661",
   "metadata": {},
   "outputs": [
    {
     "data": {
      "image/png": "[encoded data removed]",
      "text/latex": [
       "$\\displaystyle \\frac{2 \\left(b - c\\right)}{5}$"
      ],
      "text/plain": [
       "2⋅(b - c)\n",
       "─────────\n",
       "    5    "
      ]
     },
     "execution_count": 93,
     "metadata": {},
     "output_type": "execute_result"
    }
   ],
   "source": [
    "(b * rho_1 - c * rho_2).factor()"
   ]
  },
  {
   "cell_type": "code",
   "execution_count": 87,
   "id": "52a751a5",
   "metadata": {},
   "outputs": [
    {
     "data": {
      "image/png": "[encoded data removed]",
      "text/latex": [
       "$\\displaystyle \\frac{2 b}{5} - \\frac{2 c}{5}$"
      ],
      "text/plain": [
       "2⋅b   2⋅c\n",
       "─── - ───\n",
       " 5     5 "
      ]
     },
     "execution_count": 87,
     "metadata": {},
     "output_type": "execute_result"
    }
   ],
   "source": [
    "b * rho_2 - c * rho_1"
   ]
  },
  {
   "cell_type": "code",
   "execution_count": 145,
   "id": "6bbd8668",
   "metadata": {},
   "outputs": [],
   "source": [
    "payoff2 = (b * (ss2 @ sym.Matrix([q1, q2]))[0] - c * ss2[0]).factor()"
   ]
  },
  {
   "cell_type": "code",
   "execution_count": 146,
   "id": "164bcd49",
   "metadata": {},
   "outputs": [
    {
     "data": {
      "image/png": "[encoded data removed]",
      "text/latex": [
       "$\\displaystyle - \\frac{b p_{2} + c p_{1} q_{2} - c p_{2} q_{1} - c q_{2}}{p_{1} - p_{2} - 1}$"
      ],
      "text/plain": [
       "-(b⋅p₂ + c⋅p₁⋅q₂ - c⋅p₂⋅q₁ - c⋅q₂) \n",
       "───────────────────────────────────\n",
       "            p₁ - p₂ - 1            "
      ]
     },
     "execution_count": 146,
     "metadata": {},
     "output_type": "execute_result"
    }
   ],
   "source": [
    "payoff"
   ]
  },
  {
   "cell_type": "code",
   "execution_count": 147,
   "id": "f270c80d",
   "metadata": {},
   "outputs": [
    {
     "data": {
      "image/png": "[encoded data removed]",
      "text/latex": [
       "$\\displaystyle \\frac{b p_{1} q_{2} - b p_{2} q_{1} - b q_{2} + c p_{2}}{p_{1} - p_{2} - 1}$"
      ],
      "text/plain": [
       "b⋅p₁⋅q₂ - b⋅p₂⋅q₁ - b⋅q₂ + c⋅p₂\n",
       "───────────────────────────────\n",
       "          p₁ - p₂ - 1          "
      ]
     },
     "execution_count": 147,
     "metadata": {},
     "output_type": "execute_result"
    }
   ],
   "source": [
    "payoff2"
   ]
  },
  {
   "cell_type": "code",
   "execution_count": 148,
   "id": "39f78ee1",
   "metadata": {},
   "outputs": [
    {
     "data": {
      "image/png": "[encoded data removed]",
      "text/latex": [
       "$\\displaystyle 1$"
      ],
      "text/plain": [
       "1"
      ]
     },
     "execution_count": 148,
     "metadata": {},
     "output_type": "execute_result"
    }
   ],
   "source": [
    "payoff.subs({b:1, c:0.5, p1:1, p2:1, q1:0, q2:1})"
   ]
  },
  {
   "cell_type": "code",
   "execution_count": 149,
   "id": "dbd9ed4d",
   "metadata": {},
   "outputs": [
    {
     "data": {
      "image/png": "[encoded data removed]",
      "text/latex": [
       "$\\displaystyle -0.5$"
      ],
      "text/plain": [
       "-0.500000000000000"
      ]
     },
     "execution_count": 149,
     "metadata": {},
     "output_type": "execute_result"
    }
   ],
   "source": [
    "payoff2.subs({b:1, c:0.5, p1:1, p2:1, q1:0, q2:1})"
   ]
  },
  {
   "cell_type": "code",
   "execution_count": null,
   "id": "99d71121",
   "metadata": {},
   "outputs": [],
   "source": []
  },
  {
   "cell_type": "code",
   "execution_count": null,
   "id": "b5013c9e",
   "metadata": {},
   "outputs": [],
   "source": []
  }
 ],
 "metadata": {
  "kernelspec": {
   "display_name": "Python 3",
   "language": "python",
   "name": "python3"
  },
  "language_info": {
   "codemirror_mode": {
    "name": "ipython",
    "version": 3
   },
   "file_extension": ".py",
   "mimetype": "text/x-python",
   "name": "python",
   "nbconvert_exporter": "python",
   "pygments_lexer": "ipython3",
   "version": "3.11.3"
  }
 },
 "nbformat": 4,
 "nbformat_minor": 5
}
