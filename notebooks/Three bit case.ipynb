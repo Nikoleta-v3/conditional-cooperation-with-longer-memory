{
 "cells": [
  {
   "cell_type": "code",
   "execution_count": 1,
   "id": "2feee89e",
   "metadata": {},
   "outputs": [],
   "source": [
    "import numpy as np\n",
    "\n",
    "import itertools"
   ]
  },
  {
   "cell_type": "code",
   "execution_count": 2,
   "id": "62a9c512",
   "metadata": {},
   "outputs": [],
   "source": [
    "import sympy as sym\n",
    "\n",
    "import tqdm"
   ]
  },
  {
   "cell_type": "code",
   "execution_count": 3,
   "id": "4fc90aaa",
   "metadata": {},
   "outputs": [],
   "source": [
    "import os\n",
    "\n",
    "os.chdir(\"..\")"
   ]
  },
  {
   "cell_type": "code",
   "execution_count": 4,
   "id": "50067dc1",
   "metadata": {},
   "outputs": [],
   "source": [
    "from importlib.machinery import SourceFileLoader\n",
    "\n",
    "main = SourceFileLoader(\"main\", \"src/main.py\").load_module()\n",
    "\n",
    "eq = SourceFileLoader(\"eq\", \"src/numerical_equilibria_n_bit_vs_n_bit.py\").load_module()\n",
    "\n",
    "three = SourceFileLoader(\"eq\", \"src/numerical_equilibria_three_bit.py\").load_module()"
   ]
  },
  {
   "cell_type": "code",
   "execution_count": 5,
   "id": "b8fb86b4",
   "metadata": {},
   "outputs": [],
   "source": [
    "ps = sym.symbols('p:16')"
   ]
  },
  {
   "cell_type": "code",
   "execution_count": 6,
   "id": "af107845",
   "metadata": {},
   "outputs": [],
   "source": [
    "qs = sym.symbols(\"q:4\")"
   ]
  },
  {
   "cell_type": "code",
   "execution_count": 7,
   "id": "bb2e9b96",
   "metadata": {},
   "outputs": [],
   "source": [
    "player = [qs[0], qs[1], qs[0], qs[1], qs[2], qs[3], qs[2], qs[3],\n",
    "          qs[0], qs[1], qs[0], qs[1], qs[2], qs[3], qs[2], qs[3]]"
   ]
  },
  {
   "cell_type": "code",
   "execution_count": 8,
   "id": "a77f2b73",
   "metadata": {},
   "outputs": [],
   "source": [
    "M = eq.calculate_M_memory_two(player, ps, analytical=True)"
   ]
  },
  {
   "cell_type": "code",
   "execution_count": 9,
   "id": "0966ac22",
   "metadata": {},
   "outputs": [
    {
     "data": {
      "text/plain": [
       "(16, 16)"
      ]
     },
     "execution_count": 9,
     "metadata": {},
     "output_type": "execute_result"
    }
   ],
   "source": [
    "M.shape"
   ]
  },
  {
   "cell_type": "code",
   "execution_count": 10,
   "id": "5a23155d",
   "metadata": {},
   "outputs": [
    {
     "data": {
      "text/plain": [
       "9"
      ]
     },
     "execution_count": 10,
     "metadata": {},
     "output_type": "execute_result"
    }
   ],
   "source": [
    "3 ** 2"
   ]
  },
  {
   "cell_type": "code",
   "execution_count": 11,
   "id": "36241db8",
   "metadata": {},
   "outputs": [
    {
     "data": {
      "text/plain": [
       "[('C', 'C', 'C'),\n",
       " ('C', 'C', 'D'),\n",
       " ('C', 'D', 'C'),\n",
       " ('C', 'D', 'D'),\n",
       " ('D', 'C', 'C'),\n",
       " ('D', 'C', 'D'),\n",
       " ('D', 'D', 'C'),\n",
       " ('D', 'D', 'D')]"
      ]
     },
     "execution_count": 11,
     "metadata": {},
     "output_type": "execute_result"
    }
   ],
   "source": [
    "list(itertools.product(\"CD\", repeat=3))"
   ]
  },
  {
   "cell_type": "code",
   "execution_count": 12,
   "id": "8d3b6033",
   "metadata": {},
   "outputs": [
    {
     "data": {
      "text/plain": [
       "array([0.98275884, 0.71874634, 0.04796677, 0.58297539, 0.74313938,\n",
       "       0.49157507, 0.30163929, 0.28576109, 0.84530009, 0.47626882,\n",
       "       0.77928667, 0.4038119 , 0.19260149, 0.53944083, 0.08813213,\n",
       "       0.82266248, 0.38302211, 0.97043906, 0.8505695 , 0.28164116,\n",
       "       0.81925229, 0.13672989, 0.2382037 , 0.47572566, 0.69582376,\n",
       "       0.63656436, 0.12178568, 0.95300009, 0.35860328, 0.80880814,\n",
       "       0.72300247, 0.91023367])"
      ]
     },
     "execution_count": 12,
     "metadata": {},
     "output_type": "execute_result"
    }
   ],
   "source": [
    "np.random.random(32)"
   ]
  },
  {
   "cell_type": "code",
   "execution_count": 13,
   "id": "f1335e37",
   "metadata": {},
   "outputs": [
    {
     "ename": "NameError",
     "evalue": "name 'transition_matrix' is not defined",
     "output_type": "error",
     "traceback": [
      "\u001b[0;31m---------------------------------------------------------------------------\u001b[0m",
      "\u001b[0;31mNameError\u001b[0m                                 Traceback (most recent call last)",
      "\u001b[0;32m/var/folders/v3/y0vlrrxn4cv908b7l8wpf76r0000gn/T/ipykernel_43924/1435950764.py\u001b[0m in \u001b[0;36m<module>\u001b[0;34m\u001b[0m\n\u001b[0;32m----> 1\u001b[0;31m \u001b[0mM1\u001b[0m \u001b[0;34m=\u001b[0m \u001b[0mtransition_matrix\u001b[0m\u001b[0;34m(\u001b[0m\u001b[0msym\u001b[0m\u001b[0;34m.\u001b[0m\u001b[0msymbols\u001b[0m\u001b[0;34m(\u001b[0m\u001b[0;34m\"p:8\"\u001b[0m\u001b[0;34m)\u001b[0m\u001b[0;34m,\u001b[0m \u001b[0msym\u001b[0m\u001b[0;34m.\u001b[0m\u001b[0msymbols\u001b[0m\u001b[0;34m(\u001b[0m\u001b[0;34m\"q:8\"\u001b[0m\u001b[0;34m)\u001b[0m\u001b[0;34m,\u001b[0m \u001b[0mbits\u001b[0m\u001b[0;34m=\u001b[0m\u001b[0;36m8\u001b[0m\u001b[0;34m,\u001b[0m \u001b[0manalytical\u001b[0m\u001b[0;34m=\u001b[0m\u001b[0;32mTrue\u001b[0m\u001b[0;34m)\u001b[0m\u001b[0;34m\u001b[0m\u001b[0;34m\u001b[0m\u001b[0m\n\u001b[0m\u001b[1;32m      2\u001b[0m \u001b[0;34m\u001b[0m\u001b[0m\n\u001b[1;32m      3\u001b[0m \u001b[0;31m# M2 = eq.calculate_M_memory_two([1, 1, 1, 1, 0, 1, 0, 1, 1, 1, 1, 1, 0, 1, 0, 1],\u001b[0m\u001b[0;34m\u001b[0m\u001b[0;34m\u001b[0m\u001b[0m\n\u001b[1;32m      4\u001b[0m \u001b[0;31m#                                [0, 1, 0, 1, 0, 0, 0, 0, 0, 1, 0, 1, 0, 0, 0, 0], analytical=False)\u001b[0m\u001b[0;34m\u001b[0m\u001b[0;34m\u001b[0m\u001b[0m\n",
      "\u001b[0;31mNameError\u001b[0m: name 'transition_matrix' is not defined"
     ]
    }
   ],
   "source": [
    "M1 = transition_matrix(sym.symbols(\"p:8\"), sym.symbols(\"q:8\"), bits=8, analytical=True)\n",
    "\n",
    "# M2 = eq.calculate_M_memory_two([1, 1, 1, 1, 0, 1, 0, 1, 1, 1, 1, 1, 0, 1, 0, 1],\n",
    "#                                [0, 1, 0, 1, 0, 0, 0, 0, 0, 1, 0, 1, 0, 0, 0, 0], analytical=False)"
   ]
  },
  {
   "cell_type": "code",
   "execution_count": null,
   "id": "da42a23a",
   "metadata": {},
   "outputs": [],
   "source": [
    "M1 == M1"
   ]
  },
  {
   "cell_type": "markdown",
   "id": "c919016d",
   "metadata": {},
   "source": [
    "**Writing the markov**"
   ]
  },
  {
   "cell_type": "code",
   "execution_count": 176,
   "id": "9c932dbb",
   "metadata": {},
   "outputs": [],
   "source": [
    "def calculate_M_memory_three(player, coplayer, analytical=False):\n",
    "    \n",
    "    row_iterations = [range(16), range(16, 32), range(32, 48), range(48, 64)]\n",
    "\n",
    "    column_iterations = np.linspace(0, 63, 64).reshape(16, 4)\n",
    "    \n",
    "    if analytical == False:\n",
    "        M = np.zeros((64, 64))\n",
    "    \n",
    "    elif analytical == True:\n",
    "        M = sym.zeros(64, 64)\n",
    "        \n",
    "    player_probabilities = np.linspace(0, 63, 64).reshape(16, 4)\n",
    "    coplayer_probabilities = np.linspace(0, 63, 64).reshape(16, 4)\n",
    "    \n",
    "    # adjusting co-player\n",
    "    \n",
    "    coplayer_probabilities[[1, 2]] = coplayer_probabilities[[2, 1]]\n",
    "    \n",
    "    coplayer_probabilities[[4, 8]] = coplayer_probabilities[[8, 4]]\n",
    "    coplayer_probabilities[[5, 10]] = coplayer_probabilities[[10, 5]]\n",
    "    coplayer_probabilities[[6, 9]] = coplayer_probabilities[[9, 6]]\n",
    "    coplayer_probabilities[[7, 11]] = coplayer_probabilities[[11, 7]]\n",
    "    \n",
    "    coplayer_probabilities[[13, 14]] = coplayer_probabilities[[14, 13]]\n",
    "    \n",
    "    coplayer_probabilities[:, [1, 2]] = coplayer_probabilities[:, [2, 1]]\n",
    "    \n",
    "    for row in row_iterations:\n",
    "        for i, irow in enumerate(row):\n",
    "            pi = int(player_probabilities.flatten()[irow])\n",
    "            qi = int(coplayer_probabilities.flatten()[irow])\n",
    "\n",
    "            p = player[pi]\n",
    "            q = coplayer[qi]\n",
    "\n",
    "            combos = [p * q, p * (1 - q), (1 - p) * q, (1 - p) * (1 - q)]\n",
    "\n",
    "            for j, column in enumerate(column_iterations[i, :]):\n",
    "                M[irow, int(column)] = combos[j]\n",
    "    return M"
   ]
  },
  {
   "cell_type": "code",
   "execution_count": 169,
   "id": "bd7451d6",
   "metadata": {},
   "outputs": [],
   "source": [
    "ps = sym.symbols(\"p:8\")\n",
    "\n",
    "qs = sym.symbols(\"q:8\")\n",
    "\n",
    "player = [ps[0], ps[1], ps[0], ps[1], ps[2], ps[3], ps[2], ps[3],\n",
    "          ps[0], ps[1], ps[0], ps[1], ps[2], ps[3], ps[2], ps[3],\n",
    "          ps[4], ps[5], ps[4], ps[5], ps[6], ps[7], ps[6], ps[7],\n",
    "          ps[4], ps[5], ps[4], ps[5], ps[6], ps[7], ps[6], ps[7],\n",
    "          ps[0], ps[1], ps[0], ps[1], ps[2], ps[3], ps[2], ps[3],\n",
    "          ps[0], ps[1], ps[0], ps[1], ps[2], ps[3], ps[2], ps[3],\n",
    "          ps[4], ps[5], ps[4], ps[5], ps[6], ps[7], ps[6], ps[7],\n",
    "          ps[4], ps[5], ps[4], ps[5], ps[6], ps[7], ps[6], ps[7],\n",
    "         ]\n",
    "\n",
    "coplayer = [qs[0], qs[1], qs[0], qs[1], qs[2], qs[3], qs[2], qs[3],\n",
    "          qs[0], qs[1], qs[0], qs[1], qs[2], qs[3], qs[2], qs[3],\n",
    "          qs[4], qs[5], qs[4], qs[5], qs[6], qs[7], qs[6], qs[7],\n",
    "          qs[4], qs[5], qs[4], qs[5], qs[6], qs[7], qs[6], qs[7],\n",
    "          qs[0], qs[1], qs[0], qs[1], qs[2], qs[3], qs[2], qs[3],\n",
    "          qs[0], qs[1], qs[0], qs[1], qs[2], qs[3], qs[2], qs[3],\n",
    "          qs[4], qs[5], qs[4], qs[5], qs[6], qs[7], qs[6], qs[7],\n",
    "          qs[4], qs[5], qs[4], qs[5], qs[6], qs[7], qs[6], qs[7],\n",
    "         ]"
   ]
  },
  {
   "cell_type": "code",
   "execution_count": 177,
   "id": "c6065875",
   "metadata": {},
   "outputs": [],
   "source": [
    "M = calculate_M_memory_three(player, coplayer, analytical=True)"
   ]
  },
  {
   "cell_type": "code",
   "execution_count": 178,
   "id": "877bb439",
   "metadata": {},
   "outputs": [
    {
     "data": {
      "text/plain": [
       "True"
      ]
     },
     "execution_count": 178,
     "metadata": {},
     "output_type": "execute_result"
    }
   ],
   "source": [
    "M1 == M"
   ]
  },
  {
   "cell_type": "markdown",
   "id": "986bb34b",
   "metadata": {},
   "source": [
    "**Test function: Alternator vs 2-bit reactive**"
   ]
  },
  {
   "cell_type": "markdown",
   "id": "72a9b560",
   "metadata": {},
   "source": [
    "In the three bit space:\n",
    "    \n",
    "- $p_1=$ cooperation probability given CCC \n",
    "- $p_2=$ cooperation probability given CCD \n",
    "- $p_3=$ cooperation probability given CDC \n",
    "- $p_4=$ cooperation probability given CDD \n",
    "- $p_5=$ cooperation probability given DCC \n",
    "- $p_6=$ cooperation probability given DCD \n",
    "- $p_7=$ cooperation probability given DDC \n",
    "- $p_8=$ cooperation probability given DDD \n",
    "\n",
    "To transform the above to a two bit reactive we must ignore the third to last round. So:\n",
    "\n",
    "- $p_1 = p_5$\n",
    "- $p_2 = p_6$\n",
    "- $p_3 = p_7$\n",
    "- $p_4 = p_8$"
   ]
  },
  {
   "cell_type": "markdown",
   "id": "dcb592bf",
   "metadata": {},
   "source": [
    "Let co-player play as Alternator."
   ]
  },
  {
   "cell_type": "code",
   "execution_count": 186,
   "id": "51b8f418",
   "metadata": {},
   "outputs": [],
   "source": [
    "Alternator_in_three = [0, 0, 1, 1] * 16\n",
    "\n",
    "Alternator_in_two = [0, 0, 1, 1] * 4"
   ]
  },
  {
   "cell_type": "code",
   "execution_count": 199,
   "id": "0c635558",
   "metadata": {},
   "outputs": [],
   "source": [
    "b, c = 7, 3\n",
    "\n",
    "for i in range(100):\n",
    "\n",
    "    np.random.seed(i)\n",
    "    \n",
    "    random_player = list(np.random.random(4)) * 2\n",
    "    \n",
    "    \n",
    "    player_in_two = [random_player[0], random_player[1], random_player[0], random_player[1],\n",
    "                     random_player[2], random_player[3], random_player[2], random_player[3]] * 2\n",
    "    \n",
    "    player_in_three = [random_player[0], random_player[1], random_player[0], random_player[1], random_player[2], random_player[3], random_player[2], random_player[3],\n",
    "                       random_player[0], random_player[1], random_player[0], random_player[1], random_player[2], random_player[3], random_player[2], random_player[3],\n",
    "                       random_player[4], random_player[5], random_player[4], random_player[5], random_player[6], random_player[7], random_player[6], random_player[7],\n",
    "                       random_player[4], random_player[5], random_player[4], random_player[5], random_player[6], random_player[7], random_player[6], random_player[7],\n",
    "                       random_player[0], random_player[1], random_player[0], random_player[1], random_player[2], random_player[3], random_player[2], random_player[3],\n",
    "                       random_player[0], random_player[1], random_player[0], random_player[1], random_player[2], random_player[3], random_player[2], random_player[3],\n",
    "                       random_player[4], random_player[5], random_player[4], random_player[5], random_player[6], random_player[7], random_player[6], random_player[7],\n",
    "                       random_player[4], random_player[5], random_player[4], random_player[5], random_player[6], random_player[7], random_player[6], random_player[7],\n",
    "                       ]\n",
    "\n",
    "    \n",
    "    M1 = eq.calculate_M_memory_two(player_in_two, Alternator_in_two, analytical=False)\n",
    "    \n",
    "    M2 = calculate_M_memory_three(player_in_three, Alternator_in_three, analytical=False)\n",
    "    \n",
    "    ss1, ss2 = main.invariant_distribution(M1), main.invariant_distribution(M2)\n",
    "    \n",
    "    payoff_one = ss1 @ np.array([b - c, -c, b, 0] * 4)\n",
    "    \n",
    "    payoff_two = ss2 @ np.array([b - c, -c, b, 0] * 16)\n",
    "    \n",
    "    assert np.isclose(payoff_one, payoff_two)"
   ]
  },
  {
   "cell_type": "code",
   "execution_count": 210,
   "id": "22978902",
   "metadata": {},
   "outputs": [
    {
     "data": {
      "text/plain": [
       "64"
      ]
     },
     "execution_count": 210,
     "metadata": {},
     "output_type": "execute_result"
    }
   ],
   "source": [
    "len(eq.payoffs_donation(b, c, dim=16))"
   ]
  },
  {
   "cell_type": "code",
   "execution_count": 206,
   "id": "5a5fa493",
   "metadata": {},
   "outputs": [],
   "source": [
    "deterministic_transititions = list(\n",
    "    itertools.product([0, 1], repeat=8)\n",
    ")\n"
   ]
  },
  {
   "cell_type": "code",
   "execution_count": null,
   "id": "a7610fa3",
   "metadata": {},
   "outputs": [],
   "source": [
    "deterministic_transititions = list(\n",
    "    itertools.product([0, 1], repeat=8)\n",
    ")\n",
    "\n",
    "\n",
    "for transition in deterministic_transititions:\n",
    "    \n",
    "    idx = [0, 0, 1, 1, 0, 0, 1, 1, 2, 2, 3, 3, 2, 2, 3, 3,\n",
    "           4, 4, 5, 5, 4, 4, 5, 5, 6, 6, 7, 7, 6, 6, 7, 7]\n",
    "\n",
    "    self_reactive = [transition[i] for i in idx] * 2\n",
    "    \n",
    "    deterministic_strategies.append(self_reactive)"
   ]
  },
  {
   "cell_type": "code",
   "execution_count": 207,
   "id": "29c0418d",
   "metadata": {},
   "outputs": [
    {
     "data": {
      "text/plain": [
       "256"
      ]
     },
     "execution_count": 207,
     "metadata": {},
     "output_type": "execute_result"
    }
   ],
   "source": [
    "len(deterministic_transititions)"
   ]
  },
  {
   "cell_type": "code",
   "execution_count": 201,
   "id": "83b2a820",
   "metadata": {},
   "outputs": [
    {
     "data": {
      "text/plain": [
       "64"
      ]
     },
     "execution_count": 201,
     "metadata": {},
     "output_type": "execute_result"
    }
   ],
   "source": [
    "len(strategy)"
   ]
  },
  {
   "cell_type": "markdown",
   "id": "0cf0da5f",
   "metadata": {},
   "source": [
    "**Data**"
   ]
  },
  {
   "cell_type": "code",
   "execution_count": 810,
   "id": "efd7c4ed",
   "metadata": {},
   "outputs": [],
   "source": [
    "def seperate_equilibria_and_non(df):\n",
    "    \"\"\"A functions that takes a dataframe with points and seperates the\n",
    "    points are Nash and those that are not.\n",
    "    \n",
    "    Returns two dataframes.\"\"\"\n",
    "    per_player = df.groupby('ID')['condition A'].all()\n",
    "\n",
    "    eq_players_ID = per_player[per_player == True].index\n",
    "\n",
    "    noneq_players_ID = per_player[per_player == False].index\n",
    "    \n",
    "    return df[df['ID'].isin(eq_players_ID)], df[df['ID'].isin(noneq_players_ID)]"
   ]
  },
  {
   "cell_type": "code",
   "execution_count": 811,
   "id": "6c9cce94",
   "metadata": {},
   "outputs": [],
   "source": [
    "import glob as glob"
   ]
  },
  {
   "cell_type": "code",
   "execution_count": 812,
   "id": "ef575995",
   "metadata": {},
   "outputs": [],
   "source": [
    "import pandas as pd\n",
    "\n",
    "from collections import Counter"
   ]
  },
  {
   "cell_type": "code",
   "execution_count": 813,
   "id": "3a302b2a",
   "metadata": {},
   "outputs": [],
   "source": [
    "files = glob.glob(\"data/three_bit_against_self_reactive_three/*\")"
   ]
  },
  {
   "cell_type": "code",
   "execution_count": 814,
   "id": "2de4bbed",
   "metadata": {},
   "outputs": [],
   "source": [
    "names = [\"ID\"] + [f\"p_{i}\" for i in range(1, 9)] + ['label', 'Sp', 'Sq', 'condition A', 'condition B', \"b\", \"c\"]"
   ]
  },
  {
   "cell_type": "code",
   "execution_count": 816,
   "id": "728a5689",
   "metadata": {},
   "outputs": [
    {
     "data": {
      "text/plain": [
       "5000"
      ]
     },
     "execution_count": 816,
     "metadata": {},
     "output_type": "execute_result"
    }
   ],
   "source": [
    "len(files)"
   ]
  },
  {
   "cell_type": "code",
   "execution_count": 819,
   "id": "37f9d15d",
   "metadata": {},
   "outputs": [
    {
     "name": "stderr",
     "output_type": "stream",
     "text": [
      "100%|█████████████████████████████████████████████████████████████████| 5000/5000 [00:26<00:00, 189.35it/s]\n"
     ]
    }
   ],
   "source": [
    "dfs = []\n",
    "\n",
    "for file in tqdm.tqdm(files):\n",
    "    \n",
    "    dfs.append(pd.read_csv(file, names=names))"
   ]
  },
  {
   "cell_type": "code",
   "execution_count": 820,
   "id": "ecaf601b",
   "metadata": {},
   "outputs": [],
   "source": [
    "df = pd.concat(dfs)"
   ]
  },
  {
   "cell_type": "code",
   "execution_count": 821,
   "id": "2a244987",
   "metadata": {},
   "outputs": [],
   "source": [
    "df = df.reset_index(drop=True)"
   ]
  },
  {
   "cell_type": "code",
   "execution_count": 822,
   "id": "488ca2da",
   "metadata": {},
   "outputs": [],
   "source": [
    "df.columns = names"
   ]
  },
  {
   "cell_type": "markdown",
   "id": "38da1e6f",
   "metadata": {},
   "source": [
    "### Eq and Not "
   ]
  },
  {
   "cell_type": "code",
   "execution_count": 823,
   "id": "14b8eb6a",
   "metadata": {},
   "outputs": [],
   "source": [
    "eq, noneq = seperate_equilibria_and_non(df)"
   ]
  },
  {
   "cell_type": "code",
   "execution_count": 824,
   "id": "ed8ae62b",
   "metadata": {},
   "outputs": [
    {
     "data": {
      "text/html": [
       "<div>\n",
       "<style scoped>\n",
       "    .dataframe tbody tr th:only-of-type {\n",
       "        vertical-align: middle;\n",
       "    }\n",
       "\n",
       "    .dataframe tbody tr th {\n",
       "        vertical-align: top;\n",
       "    }\n",
       "\n",
       "    .dataframe thead th {\n",
       "        text-align: right;\n",
       "    }\n",
       "</style>\n",
       "<table border=\"1\" class=\"dataframe\">\n",
       "  <thead>\n",
       "    <tr style=\"text-align: right;\">\n",
       "      <th></th>\n",
       "      <th>ID</th>\n",
       "      <th>p_1</th>\n",
       "      <th>p_2</th>\n",
       "      <th>p_3</th>\n",
       "      <th>p_4</th>\n",
       "      <th>p_5</th>\n",
       "      <th>p_6</th>\n",
       "      <th>p_7</th>\n",
       "      <th>p_8</th>\n",
       "      <th>label</th>\n",
       "      <th>Sp</th>\n",
       "      <th>Sq</th>\n",
       "      <th>condition A</th>\n",
       "      <th>condition B</th>\n",
       "      <th>b</th>\n",
       "      <th>c</th>\n",
       "    </tr>\n",
       "  </thead>\n",
       "  <tbody>\n",
       "    <tr>\n",
       "      <th>256</th>\n",
       "      <td>1337</td>\n",
       "      <td>1</td>\n",
       "      <td>0.15868</td>\n",
       "      <td>0.27813</td>\n",
       "      <td>0.45932</td>\n",
       "      <td>0.32100</td>\n",
       "      <td>0.51839</td>\n",
       "      <td>0.26194</td>\n",
       "      <td>0.97609</td>\n",
       "      <td>N0</td>\n",
       "      <td>1.0</td>\n",
       "      <td>1.952180</td>\n",
       "      <td>False</td>\n",
       "      <td>False</td>\n",
       "      <td>2</td>\n",
       "      <td>1</td>\n",
       "    </tr>\n",
       "    <tr>\n",
       "      <th>257</th>\n",
       "      <td>1337</td>\n",
       "      <td>1</td>\n",
       "      <td>0.15868</td>\n",
       "      <td>0.27813</td>\n",
       "      <td>0.45932</td>\n",
       "      <td>0.32100</td>\n",
       "      <td>0.51839</td>\n",
       "      <td>0.26194</td>\n",
       "      <td>0.97609</td>\n",
       "      <td>N1</td>\n",
       "      <td>1.0</td>\n",
       "      <td>1.309227</td>\n",
       "      <td>False</td>\n",
       "      <td>False</td>\n",
       "      <td>2</td>\n",
       "      <td>1</td>\n",
       "    </tr>\n",
       "    <tr>\n",
       "      <th>258</th>\n",
       "      <td>1337</td>\n",
       "      <td>1</td>\n",
       "      <td>0.15868</td>\n",
       "      <td>0.27813</td>\n",
       "      <td>0.45932</td>\n",
       "      <td>0.32100</td>\n",
       "      <td>0.51839</td>\n",
       "      <td>0.26194</td>\n",
       "      <td>0.97609</td>\n",
       "      <td>N2</td>\n",
       "      <td>1.0</td>\n",
       "      <td>1.952180</td>\n",
       "      <td>False</td>\n",
       "      <td>False</td>\n",
       "      <td>2</td>\n",
       "      <td>1</td>\n",
       "    </tr>\n",
       "    <tr>\n",
       "      <th>259</th>\n",
       "      <td>1337</td>\n",
       "      <td>1</td>\n",
       "      <td>0.15868</td>\n",
       "      <td>0.27813</td>\n",
       "      <td>0.45932</td>\n",
       "      <td>0.32100</td>\n",
       "      <td>0.51839</td>\n",
       "      <td>0.26194</td>\n",
       "      <td>0.97609</td>\n",
       "      <td>N3</td>\n",
       "      <td>1.0</td>\n",
       "      <td>0.732461</td>\n",
       "      <td>True</td>\n",
       "      <td>True</td>\n",
       "      <td>2</td>\n",
       "      <td>1</td>\n",
       "    </tr>\n",
       "    <tr>\n",
       "      <th>260</th>\n",
       "      <td>1337</td>\n",
       "      <td>1</td>\n",
       "      <td>0.15868</td>\n",
       "      <td>0.27813</td>\n",
       "      <td>0.45932</td>\n",
       "      <td>0.32100</td>\n",
       "      <td>0.51839</td>\n",
       "      <td>0.26194</td>\n",
       "      <td>0.97609</td>\n",
       "      <td>N4</td>\n",
       "      <td>1.0</td>\n",
       "      <td>1.952180</td>\n",
       "      <td>False</td>\n",
       "      <td>False</td>\n",
       "      <td>2</td>\n",
       "      <td>1</td>\n",
       "    </tr>\n",
       "    <tr>\n",
       "      <th>...</th>\n",
       "      <td>...</td>\n",
       "      <td>...</td>\n",
       "      <td>...</td>\n",
       "      <td>...</td>\n",
       "      <td>...</td>\n",
       "      <td>...</td>\n",
       "      <td>...</td>\n",
       "      <td>...</td>\n",
       "      <td>...</td>\n",
       "      <td>...</td>\n",
       "      <td>...</td>\n",
       "      <td>...</td>\n",
       "      <td>...</td>\n",
       "      <td>...</td>\n",
       "      <td>...</td>\n",
       "      <td>...</td>\n",
       "    </tr>\n",
       "    <tr>\n",
       "      <th>1279739</th>\n",
       "      <td>3539</td>\n",
       "      <td>1</td>\n",
       "      <td>0.70008</td>\n",
       "      <td>0.99125</td>\n",
       "      <td>0.38006</td>\n",
       "      <td>0.84859</td>\n",
       "      <td>0.99477</td>\n",
       "      <td>0.18844</td>\n",
       "      <td>0.54285</td>\n",
       "      <td>N251</td>\n",
       "      <td>1.0</td>\n",
       "      <td>1.000000</td>\n",
       "      <td>True</td>\n",
       "      <td>True</td>\n",
       "      <td>2</td>\n",
       "      <td>1</td>\n",
       "    </tr>\n",
       "    <tr>\n",
       "      <th>1279740</th>\n",
       "      <td>3539</td>\n",
       "      <td>1</td>\n",
       "      <td>0.70008</td>\n",
       "      <td>0.99125</td>\n",
       "      <td>0.38006</td>\n",
       "      <td>0.84859</td>\n",
       "      <td>0.99477</td>\n",
       "      <td>0.18844</td>\n",
       "      <td>0.54285</td>\n",
       "      <td>N252</td>\n",
       "      <td>1.0</td>\n",
       "      <td>1.000000</td>\n",
       "      <td>True</td>\n",
       "      <td>True</td>\n",
       "      <td>2</td>\n",
       "      <td>1</td>\n",
       "    </tr>\n",
       "    <tr>\n",
       "      <th>1279741</th>\n",
       "      <td>3539</td>\n",
       "      <td>1</td>\n",
       "      <td>0.70008</td>\n",
       "      <td>0.99125</td>\n",
       "      <td>0.38006</td>\n",
       "      <td>0.84859</td>\n",
       "      <td>0.99477</td>\n",
       "      <td>0.18844</td>\n",
       "      <td>0.54285</td>\n",
       "      <td>N253</td>\n",
       "      <td>1.0</td>\n",
       "      <td>1.000000</td>\n",
       "      <td>True</td>\n",
       "      <td>True</td>\n",
       "      <td>2</td>\n",
       "      <td>1</td>\n",
       "    </tr>\n",
       "    <tr>\n",
       "      <th>1279742</th>\n",
       "      <td>3539</td>\n",
       "      <td>1</td>\n",
       "      <td>0.70008</td>\n",
       "      <td>0.99125</td>\n",
       "      <td>0.38006</td>\n",
       "      <td>0.84859</td>\n",
       "      <td>0.99477</td>\n",
       "      <td>0.18844</td>\n",
       "      <td>0.54285</td>\n",
       "      <td>N254</td>\n",
       "      <td>1.0</td>\n",
       "      <td>1.000000</td>\n",
       "      <td>True</td>\n",
       "      <td>True</td>\n",
       "      <td>2</td>\n",
       "      <td>1</td>\n",
       "    </tr>\n",
       "    <tr>\n",
       "      <th>1279743</th>\n",
       "      <td>3539</td>\n",
       "      <td>1</td>\n",
       "      <td>0.70008</td>\n",
       "      <td>0.99125</td>\n",
       "      <td>0.38006</td>\n",
       "      <td>0.84859</td>\n",
       "      <td>0.99477</td>\n",
       "      <td>0.18844</td>\n",
       "      <td>0.54285</td>\n",
       "      <td>N255</td>\n",
       "      <td>1.0</td>\n",
       "      <td>1.000000</td>\n",
       "      <td>True</td>\n",
       "      <td>True</td>\n",
       "      <td>2</td>\n",
       "      <td>1</td>\n",
       "    </tr>\n",
       "  </tbody>\n",
       "</table>\n",
       "<p>817920 rows × 16 columns</p>\n",
       "</div>"
      ],
      "text/plain": [
       "           ID  p_1      p_2      p_3      p_4      p_5      p_6      p_7  \\\n",
       "256      1337    1  0.15868  0.27813  0.45932  0.32100  0.51839  0.26194   \n",
       "257      1337    1  0.15868  0.27813  0.45932  0.32100  0.51839  0.26194   \n",
       "258      1337    1  0.15868  0.27813  0.45932  0.32100  0.51839  0.26194   \n",
       "259      1337    1  0.15868  0.27813  0.45932  0.32100  0.51839  0.26194   \n",
       "260      1337    1  0.15868  0.27813  0.45932  0.32100  0.51839  0.26194   \n",
       "...       ...  ...      ...      ...      ...      ...      ...      ...   \n",
       "1279739  3539    1  0.70008  0.99125  0.38006  0.84859  0.99477  0.18844   \n",
       "1279740  3539    1  0.70008  0.99125  0.38006  0.84859  0.99477  0.18844   \n",
       "1279741  3539    1  0.70008  0.99125  0.38006  0.84859  0.99477  0.18844   \n",
       "1279742  3539    1  0.70008  0.99125  0.38006  0.84859  0.99477  0.18844   \n",
       "1279743  3539    1  0.70008  0.99125  0.38006  0.84859  0.99477  0.18844   \n",
       "\n",
       "             p_8 label   Sp        Sq  condition A  condition B  b  c  \n",
       "256      0.97609    N0  1.0  1.952180        False        False  2  1  \n",
       "257      0.97609    N1  1.0  1.309227        False        False  2  1  \n",
       "258      0.97609    N2  1.0  1.952180        False        False  2  1  \n",
       "259      0.97609    N3  1.0  0.732461         True         True  2  1  \n",
       "260      0.97609    N4  1.0  1.952180        False        False  2  1  \n",
       "...          ...   ...  ...       ...          ...          ... .. ..  \n",
       "1279739  0.54285  N251  1.0  1.000000         True         True  2  1  \n",
       "1279740  0.54285  N252  1.0  1.000000         True         True  2  1  \n",
       "1279741  0.54285  N253  1.0  1.000000         True         True  2  1  \n",
       "1279742  0.54285  N254  1.0  1.000000         True         True  2  1  \n",
       "1279743  0.54285  N255  1.0  1.000000         True         True  2  1  \n",
       "\n",
       "[817920 rows x 16 columns]"
      ]
     },
     "execution_count": 824,
     "metadata": {},
     "output_type": "execute_result"
    }
   ],
   "source": [
    "noneq"
   ]
  },
  {
   "cell_type": "code",
   "execution_count": 825,
   "id": "021692b7",
   "metadata": {},
   "outputs": [],
   "source": [
    "deterministic_transitions = list(itertools.product([0, 1], repeat=8))"
   ]
  },
  {
   "cell_type": "code",
   "execution_count": 879,
   "id": "1556069f",
   "metadata": {},
   "outputs": [
    {
     "data": {
      "text/plain": [
       "[85]"
      ]
     },
     "execution_count": 879,
     "metadata": {},
     "output_type": "execute_result"
    }
   ],
   "source": [
    "[i for i, d in enumerate(deterministic_transitions) if d == (0, 1, 0, 1, 0, 1, 0, 1)]"
   ]
  },
  {
   "cell_type": "code",
   "execution_count": 828,
   "id": "fa0417d7",
   "metadata": {},
   "outputs": [
    {
     "data": {
      "text/plain": [
       "3195"
      ]
     },
     "execution_count": 828,
     "metadata": {},
     "output_type": "execute_result"
    }
   ],
   "source": [
    "noneq['ID'].nunique()"
   ]
  },
  {
   "cell_type": "code",
   "execution_count": 920,
   "id": "ffdab80e",
   "metadata": {},
   "outputs": [],
   "source": [
    "A = noneq[(noneq['label'] == 'N0') & (noneq['condition A'] == False)]['ID'].unique()"
   ]
  },
  {
   "cell_type": "code",
   "execution_count": 921,
   "id": "46ade0da",
   "metadata": {},
   "outputs": [],
   "source": [
    "B = noneq[(noneq['label'] == 'N17') & (noneq['condition A'] == False)]['ID'].unique()"
   ]
  },
  {
   "cell_type": "code",
   "execution_count": 927,
   "id": "b8095c7b",
   "metadata": {},
   "outputs": [],
   "source": [
    "C = noneq[(noneq['label'] == 'N102') & (noneq['condition A'] == False)]['ID'].unique()"
   ]
  },
  {
   "cell_type": "code",
   "execution_count": 928,
   "id": "49acc5b0",
   "metadata": {},
   "outputs": [],
   "source": [
    "E = noneq[(noneq['label'] == 'N85') & (noneq['condition A'] == False)]['ID'].unique()"
   ]
  },
  {
   "cell_type": "code",
   "execution_count": 929,
   "id": "e1ad1449",
   "metadata": {},
   "outputs": [],
   "source": [
    "D = set(A).union(set(B)).union(set(C)).union(set(E))"
   ]
  },
  {
   "cell_type": "code",
   "execution_count": 930,
   "id": "13d38e16",
   "metadata": {},
   "outputs": [
    {
     "data": {
      "text/plain": [
       "3158"
      ]
     },
     "execution_count": 930,
     "metadata": {},
     "output_type": "execute_result"
    }
   ],
   "source": [
    "len(D)"
   ]
  },
  {
   "cell_type": "code",
   "execution_count": 883,
   "id": "84320558",
   "metadata": {},
   "outputs": [],
   "source": [
    "the_rest = noneq[~noneq['ID'].isin(D)]"
   ]
  },
  {
   "cell_type": "code",
   "execution_count": 884,
   "id": "a1354089",
   "metadata": {},
   "outputs": [
    {
     "data": {
      "text/html": [
       "<div>\n",
       "<style scoped>\n",
       "    .dataframe tbody tr th:only-of-type {\n",
       "        vertical-align: middle;\n",
       "    }\n",
       "\n",
       "    .dataframe tbody tr th {\n",
       "        vertical-align: top;\n",
       "    }\n",
       "\n",
       "    .dataframe thead th {\n",
       "        text-align: right;\n",
       "    }\n",
       "</style>\n",
       "<table border=\"1\" class=\"dataframe\">\n",
       "  <thead>\n",
       "    <tr style=\"text-align: right;\">\n",
       "      <th></th>\n",
       "      <th>ID</th>\n",
       "      <th>p_1</th>\n",
       "      <th>p_2</th>\n",
       "      <th>p_3</th>\n",
       "      <th>p_4</th>\n",
       "      <th>p_5</th>\n",
       "      <th>p_6</th>\n",
       "      <th>p_7</th>\n",
       "      <th>p_8</th>\n",
       "      <th>label</th>\n",
       "      <th>Sp</th>\n",
       "      <th>Sq</th>\n",
       "      <th>condition A</th>\n",
       "      <th>condition B</th>\n",
       "      <th>b</th>\n",
       "      <th>c</th>\n",
       "    </tr>\n",
       "  </thead>\n",
       "  <tbody>\n",
       "    <tr>\n",
       "      <th>140081</th>\n",
       "      <td>3913</td>\n",
       "      <td>1</td>\n",
       "      <td>0.76799</td>\n",
       "      <td>0.18102</td>\n",
       "      <td>0.7235</td>\n",
       "      <td>0.64032</td>\n",
       "      <td>0.04420</td>\n",
       "      <td>0.99113</td>\n",
       "      <td>0.24924</td>\n",
       "      <td>N49</td>\n",
       "      <td>1.0</td>\n",
       "      <td>1.013921</td>\n",
       "      <td>False</td>\n",
       "      <td>False</td>\n",
       "      <td>2</td>\n",
       "      <td>1</td>\n",
       "    </tr>\n",
       "    <tr>\n",
       "      <th>140082</th>\n",
       "      <td>3913</td>\n",
       "      <td>1</td>\n",
       "      <td>0.76799</td>\n",
       "      <td>0.18102</td>\n",
       "      <td>0.7235</td>\n",
       "      <td>0.64032</td>\n",
       "      <td>0.04420</td>\n",
       "      <td>0.99113</td>\n",
       "      <td>0.24924</td>\n",
       "      <td>N50</td>\n",
       "      <td>1.0</td>\n",
       "      <td>1.059559</td>\n",
       "      <td>False</td>\n",
       "      <td>False</td>\n",
       "      <td>2</td>\n",
       "      <td>1</td>\n",
       "    </tr>\n",
       "    <tr>\n",
       "      <th>140083</th>\n",
       "      <td>3913</td>\n",
       "      <td>1</td>\n",
       "      <td>0.76799</td>\n",
       "      <td>0.18102</td>\n",
       "      <td>0.7235</td>\n",
       "      <td>0.64032</td>\n",
       "      <td>0.04420</td>\n",
       "      <td>0.99113</td>\n",
       "      <td>0.24924</td>\n",
       "      <td>N51</td>\n",
       "      <td>1.0</td>\n",
       "      <td>1.061470</td>\n",
       "      <td>False</td>\n",
       "      <td>False</td>\n",
       "      <td>2</td>\n",
       "      <td>1</td>\n",
       "    </tr>\n",
       "    <tr>\n",
       "      <th>140089</th>\n",
       "      <td>3913</td>\n",
       "      <td>1</td>\n",
       "      <td>0.76799</td>\n",
       "      <td>0.18102</td>\n",
       "      <td>0.7235</td>\n",
       "      <td>0.64032</td>\n",
       "      <td>0.04420</td>\n",
       "      <td>0.99113</td>\n",
       "      <td>0.24924</td>\n",
       "      <td>N57</td>\n",
       "      <td>1.0</td>\n",
       "      <td>1.026963</td>\n",
       "      <td>False</td>\n",
       "      <td>False</td>\n",
       "      <td>2</td>\n",
       "      <td>1</td>\n",
       "    </tr>\n",
       "    <tr>\n",
       "      <th>140090</th>\n",
       "      <td>3913</td>\n",
       "      <td>1</td>\n",
       "      <td>0.76799</td>\n",
       "      <td>0.18102</td>\n",
       "      <td>0.7235</td>\n",
       "      <td>0.64032</td>\n",
       "      <td>0.04420</td>\n",
       "      <td>0.99113</td>\n",
       "      <td>0.24924</td>\n",
       "      <td>N58</td>\n",
       "      <td>1.0</td>\n",
       "      <td>1.048287</td>\n",
       "      <td>False</td>\n",
       "      <td>False</td>\n",
       "      <td>2</td>\n",
       "      <td>1</td>\n",
       "    </tr>\n",
       "    <tr>\n",
       "      <th>...</th>\n",
       "      <td>...</td>\n",
       "      <td>...</td>\n",
       "      <td>...</td>\n",
       "      <td>...</td>\n",
       "      <td>...</td>\n",
       "      <td>...</td>\n",
       "      <td>...</td>\n",
       "      <td>...</td>\n",
       "      <td>...</td>\n",
       "      <td>...</td>\n",
       "      <td>...</td>\n",
       "      <td>...</td>\n",
       "      <td>...</td>\n",
       "      <td>...</td>\n",
       "      <td>...</td>\n",
       "      <td>...</td>\n",
       "    </tr>\n",
       "    <tr>\n",
       "      <th>1266234</th>\n",
       "      <td>3707</td>\n",
       "      <td>1</td>\n",
       "      <td>0.95320</td>\n",
       "      <td>0.57121</td>\n",
       "      <td>0.3876</td>\n",
       "      <td>0.95841</td>\n",
       "      <td>0.67347</td>\n",
       "      <td>0.77111</td>\n",
       "      <td>0.37592</td>\n",
       "      <td>N58</td>\n",
       "      <td>1.0</td>\n",
       "      <td>1.020060</td>\n",
       "      <td>False</td>\n",
       "      <td>False</td>\n",
       "      <td>2</td>\n",
       "      <td>1</td>\n",
       "    </tr>\n",
       "    <tr>\n",
       "      <th>1266235</th>\n",
       "      <td>3707</td>\n",
       "      <td>1</td>\n",
       "      <td>0.95320</td>\n",
       "      <td>0.57121</td>\n",
       "      <td>0.3876</td>\n",
       "      <td>0.95841</td>\n",
       "      <td>0.67347</td>\n",
       "      <td>0.77111</td>\n",
       "      <td>0.37592</td>\n",
       "      <td>N59</td>\n",
       "      <td>1.0</td>\n",
       "      <td>1.034451</td>\n",
       "      <td>False</td>\n",
       "      <td>False</td>\n",
       "      <td>2</td>\n",
       "      <td>1</td>\n",
       "    </tr>\n",
       "    <tr>\n",
       "      <th>1266237</th>\n",
       "      <td>3707</td>\n",
       "      <td>1</td>\n",
       "      <td>0.95320</td>\n",
       "      <td>0.57121</td>\n",
       "      <td>0.3876</td>\n",
       "      <td>0.95841</td>\n",
       "      <td>0.67347</td>\n",
       "      <td>0.77111</td>\n",
       "      <td>0.37592</td>\n",
       "      <td>N61</td>\n",
       "      <td>1.0</td>\n",
       "      <td>1.000640</td>\n",
       "      <td>False</td>\n",
       "      <td>False</td>\n",
       "      <td>2</td>\n",
       "      <td>1</td>\n",
       "    </tr>\n",
       "    <tr>\n",
       "      <th>1266238</th>\n",
       "      <td>3707</td>\n",
       "      <td>1</td>\n",
       "      <td>0.95320</td>\n",
       "      <td>0.57121</td>\n",
       "      <td>0.3876</td>\n",
       "      <td>0.95841</td>\n",
       "      <td>0.67347</td>\n",
       "      <td>0.77111</td>\n",
       "      <td>0.37592</td>\n",
       "      <td>N62</td>\n",
       "      <td>1.0</td>\n",
       "      <td>1.007589</td>\n",
       "      <td>False</td>\n",
       "      <td>False</td>\n",
       "      <td>2</td>\n",
       "      <td>1</td>\n",
       "    </tr>\n",
       "    <tr>\n",
       "      <th>1266239</th>\n",
       "      <td>3707</td>\n",
       "      <td>1</td>\n",
       "      <td>0.95320</td>\n",
       "      <td>0.57121</td>\n",
       "      <td>0.3876</td>\n",
       "      <td>0.95841</td>\n",
       "      <td>0.67347</td>\n",
       "      <td>0.77111</td>\n",
       "      <td>0.37592</td>\n",
       "      <td>N63</td>\n",
       "      <td>1.0</td>\n",
       "      <td>1.019874</td>\n",
       "      <td>False</td>\n",
       "      <td>False</td>\n",
       "      <td>2</td>\n",
       "      <td>1</td>\n",
       "    </tr>\n",
       "  </tbody>\n",
       "</table>\n",
       "<p>389 rows × 16 columns</p>\n",
       "</div>"
      ],
      "text/plain": [
       "           ID  p_1      p_2      p_3     p_4      p_5      p_6      p_7  \\\n",
       "140081   3913    1  0.76799  0.18102  0.7235  0.64032  0.04420  0.99113   \n",
       "140082   3913    1  0.76799  0.18102  0.7235  0.64032  0.04420  0.99113   \n",
       "140083   3913    1  0.76799  0.18102  0.7235  0.64032  0.04420  0.99113   \n",
       "140089   3913    1  0.76799  0.18102  0.7235  0.64032  0.04420  0.99113   \n",
       "140090   3913    1  0.76799  0.18102  0.7235  0.64032  0.04420  0.99113   \n",
       "...       ...  ...      ...      ...     ...      ...      ...      ...   \n",
       "1266234  3707    1  0.95320  0.57121  0.3876  0.95841  0.67347  0.77111   \n",
       "1266235  3707    1  0.95320  0.57121  0.3876  0.95841  0.67347  0.77111   \n",
       "1266237  3707    1  0.95320  0.57121  0.3876  0.95841  0.67347  0.77111   \n",
       "1266238  3707    1  0.95320  0.57121  0.3876  0.95841  0.67347  0.77111   \n",
       "1266239  3707    1  0.95320  0.57121  0.3876  0.95841  0.67347  0.77111   \n",
       "\n",
       "             p_8 label   Sp        Sq  condition A  condition B  b  c  \n",
       "140081   0.24924   N49  1.0  1.013921        False        False  2  1  \n",
       "140082   0.24924   N50  1.0  1.059559        False        False  2  1  \n",
       "140083   0.24924   N51  1.0  1.061470        False        False  2  1  \n",
       "140089   0.24924   N57  1.0  1.026963        False        False  2  1  \n",
       "140090   0.24924   N58  1.0  1.048287        False        False  2  1  \n",
       "...          ...   ...  ...       ...          ...          ... .. ..  \n",
       "1266234  0.37592   N58  1.0  1.020060        False        False  2  1  \n",
       "1266235  0.37592   N59  1.0  1.034451        False        False  2  1  \n",
       "1266237  0.37592   N61  1.0  1.000640        False        False  2  1  \n",
       "1266238  0.37592   N62  1.0  1.007589        False        False  2  1  \n",
       "1266239  0.37592   N63  1.0  1.019874        False        False  2  1  \n",
       "\n",
       "[389 rows x 16 columns]"
      ]
     },
     "execution_count": 884,
     "metadata": {},
     "output_type": "execute_result"
    }
   ],
   "source": [
    "the_rest[the_rest['condition A'] == False]"
   ]
  },
  {
   "cell_type": "code",
   "execution_count": 931,
   "id": "e213ee41",
   "metadata": {},
   "outputs": [],
   "source": [
    "pvals = [1, 0.76799, 0.18102, 0.7235, 0.64032, 0.04420, 0.99113, 0.24924]"
   ]
  },
  {
   "cell_type": "code",
   "execution_count": 932,
   "id": "26cf46a4",
   "metadata": {},
   "outputs": [
    {
     "data": {
      "text/plain": [
       "True"
      ]
     },
     "execution_count": 932,
     "metadata": {},
     "output_type": "execute_result"
    }
   ],
   "source": [
    "bval, cval = 2, 1\n",
    "\n",
    "pvals[7] <= 1 - cval / bval"
   ]
  },
  {
   "cell_type": "code",
   "execution_count": 938,
   "id": "77b86d00",
   "metadata": {},
   "outputs": [
    {
     "data": {
      "text/plain": [
       "True"
      ]
     },
     "execution_count": 938,
     "metadata": {},
     "output_type": "execute_result"
    }
   ],
   "source": [
    "pvals[3] + pvals[5] + pvals[6] < 3 - 2 * cval / bval"
   ]
  },
  {
   "cell_type": "code",
   "execution_count": 940,
   "id": "cac42b16",
   "metadata": {},
   "outputs": [
    {
     "data": {
      "text/plain": [
       "(1.7588300000000001, 2.0)"
      ]
     },
     "execution_count": 940,
     "metadata": {},
     "output_type": "execute_result"
    }
   ],
   "source": [
    "pvals[3] + pvals[5] + pvals[6], 3 - 2 * cval / bval"
   ]
  },
  {
   "cell_type": "code",
   "execution_count": 934,
   "id": "02003b40",
   "metadata": {},
   "outputs": [
    {
     "data": {
      "text/plain": [
       "True"
      ]
     },
     "execution_count": 934,
     "metadata": {},
     "output_type": "execute_result"
    }
   ],
   "source": [
    "pvals[1] + pvals[2] + pvals[4] <= 3 -  cval / bval"
   ]
  },
  {
   "cell_type": "code",
   "execution_count": 949,
   "id": "920f6a35",
   "metadata": {},
   "outputs": [
    {
     "data": {
      "text/plain": [
       "True"
      ]
     },
     "execution_count": 949,
     "metadata": {},
     "output_type": "execute_result"
    }
   ],
   "source": [
    "pvals[2] + pvals[5]  <= 2 - cval / bval"
   ]
  },
  {
   "cell_type": "code",
   "execution_count": 952,
   "id": "16e9c572",
   "metadata": {},
   "outputs": [
    {
     "data": {
      "text/plain": [
       "False"
      ]
     },
     "execution_count": 952,
     "metadata": {},
     "output_type": "execute_result"
    }
   ],
   "source": [
    "pvals[1] + pvals[3] + pvals[4] + pvals[6]  <= 2 * ( 2 - cval / bval)"
   ]
  },
  {
   "cell_type": "code",
   "execution_count": 937,
   "id": "84ddb7df",
   "metadata": {},
   "outputs": [
    {
     "data": {
      "text/html": [
       "<div>\n",
       "<style scoped>\n",
       "    .dataframe tbody tr th:only-of-type {\n",
       "        vertical-align: middle;\n",
       "    }\n",
       "\n",
       "    .dataframe tbody tr th {\n",
       "        vertical-align: top;\n",
       "    }\n",
       "\n",
       "    .dataframe thead th {\n",
       "        text-align: right;\n",
       "    }\n",
       "</style>\n",
       "<table border=\"1\" class=\"dataframe\">\n",
       "  <thead>\n",
       "    <tr style=\"text-align: right;\">\n",
       "      <th></th>\n",
       "      <th>ID</th>\n",
       "      <th>p_1</th>\n",
       "      <th>p_2</th>\n",
       "      <th>p_3</th>\n",
       "      <th>p_4</th>\n",
       "      <th>p_5</th>\n",
       "      <th>p_6</th>\n",
       "      <th>p_7</th>\n",
       "      <th>p_8</th>\n",
       "      <th>label</th>\n",
       "      <th>Sp</th>\n",
       "      <th>Sq</th>\n",
       "      <th>condition A</th>\n",
       "      <th>condition B</th>\n",
       "      <th>b</th>\n",
       "      <th>c</th>\n",
       "    </tr>\n",
       "  </thead>\n",
       "  <tbody>\n",
       "    <tr>\n",
       "      <th>140049</th>\n",
       "      <td>3913</td>\n",
       "      <td>1</td>\n",
       "      <td>0.76799</td>\n",
       "      <td>0.18102</td>\n",
       "      <td>0.7235</td>\n",
       "      <td>0.64032</td>\n",
       "      <td>0.0442</td>\n",
       "      <td>0.99113</td>\n",
       "      <td>0.24924</td>\n",
       "      <td>N17</td>\n",
       "      <td>1.0</td>\n",
       "      <td>0.83922</td>\n",
       "      <td>True</td>\n",
       "      <td>True</td>\n",
       "      <td>2</td>\n",
       "      <td>1</td>\n",
       "    </tr>\n",
       "  </tbody>\n",
       "</table>\n",
       "</div>"
      ],
      "text/plain": [
       "          ID  p_1      p_2      p_3     p_4      p_5     p_6      p_7  \\\n",
       "140049  3913    1  0.76799  0.18102  0.7235  0.64032  0.0442  0.99113   \n",
       "\n",
       "            p_8 label   Sp       Sq  condition A  condition B  b  c  \n",
       "140049  0.24924   N17  1.0  0.83922         True         True  2  1  "
      ]
     },
     "execution_count": 937,
     "metadata": {},
     "output_type": "execute_result"
    }
   ],
   "source": [
    "noneq[(noneq['ID'] == 3913) & (noneq['label'] == \"N17\")]"
   ]
  },
  {
   "cell_type": "code",
   "execution_count": 896,
   "id": "f376e4e0",
   "metadata": {},
   "outputs": [
    {
     "data": {
      "text/html": [
       "<div>\n",
       "<style scoped>\n",
       "    .dataframe tbody tr th:only-of-type {\n",
       "        vertical-align: middle;\n",
       "    }\n",
       "\n",
       "    .dataframe tbody tr th {\n",
       "        vertical-align: top;\n",
       "    }\n",
       "\n",
       "    .dataframe thead th {\n",
       "        text-align: right;\n",
       "    }\n",
       "</style>\n",
       "<table border=\"1\" class=\"dataframe\">\n",
       "  <thead>\n",
       "    <tr style=\"text-align: right;\">\n",
       "      <th></th>\n",
       "      <th>ID</th>\n",
       "      <th>p_1</th>\n",
       "      <th>p_2</th>\n",
       "      <th>p_3</th>\n",
       "      <th>p_4</th>\n",
       "      <th>p_5</th>\n",
       "      <th>p_6</th>\n",
       "      <th>p_7</th>\n",
       "      <th>p_8</th>\n",
       "      <th>label</th>\n",
       "      <th>Sp</th>\n",
       "      <th>Sq</th>\n",
       "      <th>condition A</th>\n",
       "      <th>condition B</th>\n",
       "      <th>b</th>\n",
       "      <th>c</th>\n",
       "    </tr>\n",
       "  </thead>\n",
       "  <tbody>\n",
       "    <tr>\n",
       "      <th>140081</th>\n",
       "      <td>3913</td>\n",
       "      <td>1</td>\n",
       "      <td>0.76799</td>\n",
       "      <td>0.18102</td>\n",
       "      <td>0.7235</td>\n",
       "      <td>0.64032</td>\n",
       "      <td>0.0442</td>\n",
       "      <td>0.99113</td>\n",
       "      <td>0.24924</td>\n",
       "      <td>N49</td>\n",
       "      <td>1.0</td>\n",
       "      <td>1.013921</td>\n",
       "      <td>False</td>\n",
       "      <td>False</td>\n",
       "      <td>2</td>\n",
       "      <td>1</td>\n",
       "    </tr>\n",
       "    <tr>\n",
       "      <th>140082</th>\n",
       "      <td>3913</td>\n",
       "      <td>1</td>\n",
       "      <td>0.76799</td>\n",
       "      <td>0.18102</td>\n",
       "      <td>0.7235</td>\n",
       "      <td>0.64032</td>\n",
       "      <td>0.0442</td>\n",
       "      <td>0.99113</td>\n",
       "      <td>0.24924</td>\n",
       "      <td>N50</td>\n",
       "      <td>1.0</td>\n",
       "      <td>1.059559</td>\n",
       "      <td>False</td>\n",
       "      <td>False</td>\n",
       "      <td>2</td>\n",
       "      <td>1</td>\n",
       "    </tr>\n",
       "    <tr>\n",
       "      <th>140083</th>\n",
       "      <td>3913</td>\n",
       "      <td>1</td>\n",
       "      <td>0.76799</td>\n",
       "      <td>0.18102</td>\n",
       "      <td>0.7235</td>\n",
       "      <td>0.64032</td>\n",
       "      <td>0.0442</td>\n",
       "      <td>0.99113</td>\n",
       "      <td>0.24924</td>\n",
       "      <td>N51</td>\n",
       "      <td>1.0</td>\n",
       "      <td>1.061470</td>\n",
       "      <td>False</td>\n",
       "      <td>False</td>\n",
       "      <td>2</td>\n",
       "      <td>1</td>\n",
       "    </tr>\n",
       "    <tr>\n",
       "      <th>140089</th>\n",
       "      <td>3913</td>\n",
       "      <td>1</td>\n",
       "      <td>0.76799</td>\n",
       "      <td>0.18102</td>\n",
       "      <td>0.7235</td>\n",
       "      <td>0.64032</td>\n",
       "      <td>0.0442</td>\n",
       "      <td>0.99113</td>\n",
       "      <td>0.24924</td>\n",
       "      <td>N57</td>\n",
       "      <td>1.0</td>\n",
       "      <td>1.026963</td>\n",
       "      <td>False</td>\n",
       "      <td>False</td>\n",
       "      <td>2</td>\n",
       "      <td>1</td>\n",
       "    </tr>\n",
       "    <tr>\n",
       "      <th>140090</th>\n",
       "      <td>3913</td>\n",
       "      <td>1</td>\n",
       "      <td>0.76799</td>\n",
       "      <td>0.18102</td>\n",
       "      <td>0.7235</td>\n",
       "      <td>0.64032</td>\n",
       "      <td>0.0442</td>\n",
       "      <td>0.99113</td>\n",
       "      <td>0.24924</td>\n",
       "      <td>N58</td>\n",
       "      <td>1.0</td>\n",
       "      <td>1.048287</td>\n",
       "      <td>False</td>\n",
       "      <td>False</td>\n",
       "      <td>2</td>\n",
       "      <td>1</td>\n",
       "    </tr>\n",
       "    <tr>\n",
       "      <th>140091</th>\n",
       "      <td>3913</td>\n",
       "      <td>1</td>\n",
       "      <td>0.76799</td>\n",
       "      <td>0.18102</td>\n",
       "      <td>0.7235</td>\n",
       "      <td>0.64032</td>\n",
       "      <td>0.0442</td>\n",
       "      <td>0.99113</td>\n",
       "      <td>0.24924</td>\n",
       "      <td>N59</td>\n",
       "      <td>1.0</td>\n",
       "      <td>1.057222</td>\n",
       "      <td>False</td>\n",
       "      <td>False</td>\n",
       "      <td>2</td>\n",
       "      <td>1</td>\n",
       "    </tr>\n",
       "  </tbody>\n",
       "</table>\n",
       "</div>"
      ],
      "text/plain": [
       "          ID  p_1      p_2      p_3     p_4      p_5     p_6      p_7  \\\n",
       "140081  3913    1  0.76799  0.18102  0.7235  0.64032  0.0442  0.99113   \n",
       "140082  3913    1  0.76799  0.18102  0.7235  0.64032  0.0442  0.99113   \n",
       "140083  3913    1  0.76799  0.18102  0.7235  0.64032  0.0442  0.99113   \n",
       "140089  3913    1  0.76799  0.18102  0.7235  0.64032  0.0442  0.99113   \n",
       "140090  3913    1  0.76799  0.18102  0.7235  0.64032  0.0442  0.99113   \n",
       "140091  3913    1  0.76799  0.18102  0.7235  0.64032  0.0442  0.99113   \n",
       "\n",
       "            p_8 label   Sp        Sq  condition A  condition B  b  c  \n",
       "140081  0.24924   N49  1.0  1.013921        False        False  2  1  \n",
       "140082  0.24924   N50  1.0  1.059559        False        False  2  1  \n",
       "140083  0.24924   N51  1.0  1.061470        False        False  2  1  \n",
       "140089  0.24924   N57  1.0  1.026963        False        False  2  1  \n",
       "140090  0.24924   N58  1.0  1.048287        False        False  2  1  \n",
       "140091  0.24924   N59  1.0  1.057222        False        False  2  1  "
      ]
     },
     "execution_count": 896,
     "metadata": {},
     "output_type": "execute_result"
    }
   ],
   "source": [
    "noneq[(noneq['ID'] == 3913) & (noneq['Sq'] > 1)]"
   ]
  },
  {
   "cell_type": "code",
   "execution_count": 900,
   "id": "1fa46282",
   "metadata": {},
   "outputs": [
    {
     "data": {
      "text/plain": [
       "(0, 0, 1, 1, 0, 0, 1, 1)"
      ]
     },
     "execution_count": 900,
     "metadata": {},
     "output_type": "execute_result"
    }
   ],
   "source": [
    "deterministic_transitions[51]"
   ]
  },
  {
   "cell_type": "code",
   "execution_count": 941,
   "id": "e0c0ac39",
   "metadata": {},
   "outputs": [],
   "source": [
    "selfreactive = [deterministic_transitions[17][i] for i in self_reactive_idx]\n",
    "\n",
    "player = [pvals[i] for i in reactive_idx]"
   ]
  },
  {
   "cell_type": "code",
   "execution_count": 942,
   "id": "cb9e7e6f",
   "metadata": {},
   "outputs": [],
   "source": [
    "M = three.calculate_M_memory_three(selfreactive, player)\n",
    "\n",
    "ss = main.invariant_distribution(M)"
   ]
  },
  {
   "cell_type": "code",
   "execution_count": 943,
   "id": "7d51a597",
   "metadata": {},
   "outputs": [
    {
     "data": {
      "text/plain": [
       "0.8392200000000001"
      ]
     },
     "execution_count": 943,
     "metadata": {},
     "output_type": "execute_result"
    }
   ],
   "source": [
    "ss @ np.array([2 - 1, -1, 2, 0] * 16)"
   ]
  },
  {
   "cell_type": "code",
   "execution_count": 944,
   "id": "402e742d",
   "metadata": {},
   "outputs": [
    {
     "data": {
      "text/plain": [
       "(0.24116666666666692, 0.09216666666666672)"
      ]
     },
     "execution_count": 944,
     "metadata": {},
     "output_type": "execute_result"
    }
   ],
   "source": [
    "sum([ss[i] for i in cc_indices]), sum([ss[i] for i in cd_indices])"
   ]
  },
  {
   "cell_type": "code",
   "execution_count": 945,
   "id": "9c33125a",
   "metadata": {},
   "outputs": [],
   "source": [
    "M = transformed_matrix(deterministic_transitions[17])\n",
    "\n",
    "trss = main.invariant_distribution(M)"
   ]
  },
  {
   "cell_type": "code",
   "execution_count": 946,
   "id": "8a451b72",
   "metadata": {},
   "outputs": [],
   "source": [
    "rho_q = trss[0] + trss[1] + trss[4] + trss[5]\n",
    "\n",
    "rho_p = sum([trss[i] * pvals[i] for i in range(8)])"
   ]
  },
  {
   "cell_type": "code",
   "execution_count": 947,
   "id": "3232f9a7",
   "metadata": {},
   "outputs": [
    {
     "data": {
      "text/plain": [
       "0.8392199999999996"
      ]
     },
     "execution_count": 947,
     "metadata": {},
     "output_type": "execute_result"
    }
   ],
   "source": [
    "2 * rho_p - 1 * rho_q"
   ]
  },
  {
   "cell_type": "code",
   "execution_count": 948,
   "id": "8725072b",
   "metadata": {},
   "outputs": [
    {
     "data": {
      "text/plain": [
       "0.3333333333333334"
      ]
     },
     "execution_count": 948,
     "metadata": {},
     "output_type": "execute_result"
    }
   ],
   "source": [
    "rho_q"
   ]
  },
  {
   "cell_type": "code",
   "execution_count": 919,
   "id": "a3f4b068",
   "metadata": {},
   "outputs": [],
   "source": [
    "groups = noneq[noneq['condition A'] == False].groupby('ID')\n",
    "\n",
    "sets, ids = [], []\n",
    "\n",
    "for i, group in groups:\n",
    "    sets.append(group['label'].values)\n",
    "    ids.append(group['ID'].unique())"
   ]
  },
  {
   "cell_type": "code",
   "execution_count": 871,
   "id": "1bb36242",
   "metadata": {},
   "outputs": [],
   "source": [
    "flat_list = [item for sublist in sets for item in sublist]\n",
    "\n",
    "counter = Counter(flat_list)"
   ]
  },
  {
   "cell_type": "code",
   "execution_count": 872,
   "id": "06941322",
   "metadata": {},
   "outputs": [
    {
     "data": {
      "text/plain": [
       "2486"
      ]
     },
     "execution_count": 872,
     "metadata": {},
     "output_type": "execute_result"
    }
   ],
   "source": [
    "max(counter.values())"
   ]
  },
  {
   "cell_type": "code",
   "execution_count": 873,
   "id": "c538e2fc",
   "metadata": {},
   "outputs": [],
   "source": [
    "leftsets = [s for s in sets if\n",
    "            (\"N0\" not in s) and ('N17' not in s) and ('N85' not in s) and ('N51' not in s) and (\"N102\" not in s)]"
   ]
  },
  {
   "cell_type": "code",
   "execution_count": 874,
   "id": "d5433b16",
   "metadata": {},
   "outputs": [],
   "source": [
    "flat_left = [item for sublist in leftsets for item in sublist]"
   ]
  },
  {
   "cell_type": "code",
   "execution_count": 875,
   "id": "eb28c040",
   "metadata": {},
   "outputs": [],
   "source": [
    "counter = Counter(flat_left)"
   ]
  },
  {
   "cell_type": "code",
   "execution_count": 876,
   "id": "8b19d0c3",
   "metadata": {},
   "outputs": [
    {
     "ename": "ValueError",
     "evalue": "max() arg is an empty sequence",
     "output_type": "error",
     "traceback": [
      "\u001b[0;31m---------------------------------------------------------------------------\u001b[0m",
      "\u001b[0;31mValueError\u001b[0m                                Traceback (most recent call last)",
      "\u001b[0;32m/var/folders/v3/y0vlrrxn4cv908b7l8wpf76r0000gn/T/ipykernel_35072/3054947436.py\u001b[0m in \u001b[0;36m<module>\u001b[0;34m\u001b[0m\n\u001b[0;32m----> 1\u001b[0;31m \u001b[0mmax\u001b[0m\u001b[0;34m(\u001b[0m\u001b[0mcounter\u001b[0m\u001b[0;34m.\u001b[0m\u001b[0mvalues\u001b[0m\u001b[0;34m(\u001b[0m\u001b[0;34m)\u001b[0m\u001b[0;34m)\u001b[0m\u001b[0;34m\u001b[0m\u001b[0;34m\u001b[0m\u001b[0m\n\u001b[0m",
      "\u001b[0;31mValueError\u001b[0m: max() arg is an empty sequence"
     ]
    }
   ],
   "source": [
    "max(counter.values())"
   ]
  },
  {
   "cell_type": "markdown",
   "id": "0d41f0ce",
   "metadata": {},
   "source": [
    "## calculate conditions?"
   ]
  },
  {
   "cell_type": "code",
   "execution_count": 310,
   "id": "1fb775c6",
   "metadata": {},
   "outputs": [
    {
     "data": {
      "text/plain": [
       "20"
      ]
     },
     "execution_count": 310,
     "metadata": {},
     "output_type": "execute_result"
    }
   ],
   "source": [
    "len(leftsets)"
   ]
  },
  {
   "cell_type": "code",
   "execution_count": 312,
   "id": "16afc836",
   "metadata": {},
   "outputs": [
    {
     "data": {
      "text/plain": [
       "(0, 1, 1, 0, 0, 1, 1, 0)"
      ]
     },
     "execution_count": 312,
     "metadata": {},
     "output_type": "execute_result"
    }
   ],
   "source": [
    "deterministic_transitions[102]"
   ]
  },
  {
   "cell_type": "code",
   "execution_count": 311,
   "id": "8e32ec25",
   "metadata": {},
   "outputs": [
    {
     "data": {
      "text/plain": [
       "Counter({'N101': 13,\n",
       "         'N102': 20,\n",
       "         'N103': 20,\n",
       "         'N108': 13,\n",
       "         'N109': 13,\n",
       "         'N110': 16,\n",
       "         'N111': 20,\n",
       "         'N114': 6,\n",
       "         'N115': 6,\n",
       "         'N116': 13,\n",
       "         'N117': 13,\n",
       "         'N118': 20,\n",
       "         'N119': 20,\n",
       "         'N122': 6,\n",
       "         'N123': 7,\n",
       "         'N124': 13,\n",
       "         'N125': 13,\n",
       "         'N126': 20,\n",
       "         'N127': 20,\n",
       "         'N99': 4,\n",
       "         'N107': 4,\n",
       "         'N113': 1,\n",
       "         'N120': 2,\n",
       "         'N121': 2,\n",
       "         'N70': 1,\n",
       "         'N71': 2,\n",
       "         'N78': 2,\n",
       "         'N79': 2,\n",
       "         'N86': 2,\n",
       "         'N87': 2,\n",
       "         'N94': 2,\n",
       "         'N95': 2,\n",
       "         'N100': 1})"
      ]
     },
     "execution_count": 311,
     "metadata": {},
     "output_type": "execute_result"
    }
   ],
   "source": [
    "counter"
   ]
  },
  {
   "cell_type": "code",
   "execution_count": 4,
   "id": "4db8d3b2",
   "metadata": {},
   "outputs": [],
   "source": [
    "import sympy as sym"
   ]
  },
  {
   "cell_type": "code",
   "execution_count": 6,
   "id": "c1a071e6",
   "metadata": {},
   "outputs": [],
   "source": [
    "p1, p2, p3, p4, p5, p6, p7, p8 = sym.symbols(\"p1:9\")"
   ]
  },
  {
   "cell_type": "code",
   "execution_count": 7,
   "id": "8b9cc170",
   "metadata": {},
   "outputs": [],
   "source": [
    "strategy = [\n",
    "    p1,\n",
    "    p2,\n",
    "    p1,\n",
    "    p2,\n",
    "    p3,\n",
    "    p4,\n",
    "    p3,\n",
    "    p4,\n",
    "    p1,\n",
    "    p2,\n",
    "    p1,\n",
    "    p2,\n",
    "    p3,\n",
    "    p4,\n",
    "    p3,\n",
    "    p4,\n",
    "    p5,\n",
    "    p6,\n",
    "    p5,\n",
    "    p6,\n",
    "    p7,\n",
    "    p8,\n",
    "    p7,\n",
    "    p8,\n",
    "    p5,\n",
    "    p6,\n",
    "    p5,\n",
    "    p6,\n",
    "    p7,\n",
    "    p8,\n",
    "    p7,\n",
    "    p8,\n",
    "] * 2"
   ]
  },
  {
   "cell_type": "code",
   "execution_count": 14,
   "id": "6ae9839b",
   "metadata": {},
   "outputs": [],
   "source": [
    "M = three.calculate_M_memory_three(strategy, [0 for _ in range(64)], analytical=True)"
   ]
  },
  {
   "cell_type": "code",
   "execution_count": 15,
   "id": "904d2286",
   "metadata": {},
   "outputs": [
    {
     "ename": "KeyboardInterrupt",
     "evalue": "",
     "output_type": "error",
     "traceback": [
      "\u001b[0;31m---------------------------------------------------------------------------\u001b[0m",
      "\u001b[0;31mKeyboardInterrupt\u001b[0m                         Traceback (most recent call last)",
      "\u001b[0;32m<ipython-input-15-b914b18f1a15>\u001b[0m in \u001b[0;36m<module>\u001b[0;34m\u001b[0m\n\u001b[0;32m----> 1\u001b[0;31m \u001b[0mss\u001b[0m \u001b[0;34m=\u001b[0m \u001b[0mmain\u001b[0m\u001b[0;34m.\u001b[0m\u001b[0minvariant_distribution_analytically\u001b[0m\u001b[0;34m(\u001b[0m\u001b[0mM\u001b[0m\u001b[0;34m)\u001b[0m\u001b[0;34m\u001b[0m\u001b[0;34m\u001b[0m\u001b[0m\n\u001b[0m",
      "\u001b[0;32m~/rsc/reactive-two-bits/src/main.py\u001b[0m in \u001b[0;36minvariant_distribution_analytically\u001b[0;34m(M)\u001b[0m\n\u001b[1;32m    219\u001b[0m     \u001b[0msize\u001b[0m \u001b[0;34m=\u001b[0m \u001b[0mM\u001b[0m\u001b[0;34m.\u001b[0m\u001b[0mshape\u001b[0m\u001b[0;34m[\u001b[0m\u001b[0;36m1\u001b[0m\u001b[0;34m]\u001b[0m\u001b[0;34m\u001b[0m\u001b[0;34m\u001b[0m\u001b[0m\n\u001b[1;32m    220\u001b[0m     \u001b[0mpi\u001b[0m \u001b[0;34m=\u001b[0m \u001b[0msym\u001b[0m\u001b[0;34m.\u001b[0m\u001b[0msymbols\u001b[0m\u001b[0;34m(\u001b[0m\u001b[0;34mf\"b_1:{size + 1}\"\u001b[0m\u001b[0;34m)\u001b[0m\u001b[0;34m\u001b[0m\u001b[0;34m\u001b[0m\u001b[0m\n\u001b[0;32m--> 221\u001b[0;31m     ss = sym.solve(\n\u001b[0m\u001b[1;32m    222\u001b[0m         \u001b[0;34m[\u001b[0m\u001b[0msum\u001b[0m\u001b[0;34m(\u001b[0m\u001b[0mpi\u001b[0m\u001b[0;34m)\u001b[0m \u001b[0;34m-\u001b[0m \u001b[0;36m1\u001b[0m\u001b[0;34m]\u001b[0m\u001b[0;34m\u001b[0m\u001b[0;34m\u001b[0m\u001b[0m\n\u001b[1;32m    223\u001b[0m         \u001b[0;34m+\u001b[0m \u001b[0;34m[\u001b[0m\u001b[0ma\u001b[0m \u001b[0;34m-\u001b[0m \u001b[0mb\u001b[0m \u001b[0;32mfor\u001b[0m \u001b[0ma\u001b[0m\u001b[0;34m,\u001b[0m \u001b[0mb\u001b[0m \u001b[0;32min\u001b[0m \u001b[0mzip\u001b[0m\u001b[0;34m(\u001b[0m\u001b[0mM\u001b[0m\u001b[0;34m.\u001b[0m\u001b[0mtranspose\u001b[0m\u001b[0;34m(\u001b[0m\u001b[0;34m)\u001b[0m \u001b[0;34m*\u001b[0m \u001b[0msym\u001b[0m\u001b[0;34m.\u001b[0m\u001b[0mMatrix\u001b[0m\u001b[0;34m(\u001b[0m\u001b[0mpi\u001b[0m\u001b[0;34m)\u001b[0m\u001b[0;34m,\u001b[0m \u001b[0mpi\u001b[0m\u001b[0;34m)\u001b[0m\u001b[0;34m]\u001b[0m\u001b[0;34m,\u001b[0m\u001b[0;34m\u001b[0m\u001b[0;34m\u001b[0m\u001b[0m\n",
      "\u001b[0;32m~/opt/anaconda3/lib/python3.8/site-packages/sympy/solvers/solvers.py\u001b[0m in \u001b[0;36msolve\u001b[0;34m(f, *symbols, **flags)\u001b[0m\n\u001b[1;32m   1094\u001b[0m         \u001b[0msolution\u001b[0m \u001b[0;34m=\u001b[0m \u001b[0m_solve\u001b[0m\u001b[0;34m(\u001b[0m\u001b[0mf\u001b[0m\u001b[0;34m[\u001b[0m\u001b[0;36m0\u001b[0m\u001b[0;34m]\u001b[0m\u001b[0;34m,\u001b[0m \u001b[0;34m*\u001b[0m\u001b[0msymbols\u001b[0m\u001b[0;34m,\u001b[0m \u001b[0;34m**\u001b[0m\u001b[0mflags\u001b[0m\u001b[0;34m)\u001b[0m\u001b[0;34m\u001b[0m\u001b[0;34m\u001b[0m\u001b[0m\n\u001b[1;32m   1095\u001b[0m     \u001b[0;32melse\u001b[0m\u001b[0;34m:\u001b[0m\u001b[0;34m\u001b[0m\u001b[0;34m\u001b[0m\u001b[0m\n\u001b[0;32m-> 1096\u001b[0;31m         \u001b[0msolution\u001b[0m \u001b[0;34m=\u001b[0m \u001b[0m_solve_system\u001b[0m\u001b[0;34m(\u001b[0m\u001b[0mf\u001b[0m\u001b[0;34m,\u001b[0m \u001b[0msymbols\u001b[0m\u001b[0;34m,\u001b[0m \u001b[0;34m**\u001b[0m\u001b[0mflags\u001b[0m\u001b[0;34m)\u001b[0m\u001b[0;34m\u001b[0m\u001b[0;34m\u001b[0m\u001b[0m\n\u001b[0m\u001b[1;32m   1097\u001b[0m \u001b[0;34m\u001b[0m\u001b[0m\n\u001b[1;32m   1098\u001b[0m     \u001b[0;31m#\u001b[0m\u001b[0;34m\u001b[0m\u001b[0;34m\u001b[0m\u001b[0;34m\u001b[0m\u001b[0m\n",
      "\u001b[0;32m~/opt/anaconda3/lib/python3.8/site-packages/sympy/solvers/solvers.py\u001b[0m in \u001b[0;36m_solve_system\u001b[0;34m(exprs, symbols, **flags)\u001b[0m\n\u001b[1;32m   1761\u001b[0m                 \u001b[0mresult\u001b[0m \u001b[0;34m=\u001b[0m \u001b[0mminsolve_linear_system\u001b[0m\u001b[0;34m(\u001b[0m\u001b[0mmatrix\u001b[0m\u001b[0;34m,\u001b[0m \u001b[0;34m*\u001b[0m\u001b[0msymbols\u001b[0m\u001b[0;34m,\u001b[0m \u001b[0;34m**\u001b[0m\u001b[0mflags\u001b[0m\u001b[0;34m)\u001b[0m\u001b[0;34m\u001b[0m\u001b[0;34m\u001b[0m\u001b[0m\n\u001b[1;32m   1762\u001b[0m             \u001b[0;32melse\u001b[0m\u001b[0;34m:\u001b[0m\u001b[0;34m\u001b[0m\u001b[0;34m\u001b[0m\u001b[0m\n\u001b[0;32m-> 1763\u001b[0;31m                 \u001b[0mresult\u001b[0m \u001b[0;34m=\u001b[0m \u001b[0msolve_linear_system\u001b[0m\u001b[0;34m(\u001b[0m\u001b[0mmatrix\u001b[0m\u001b[0;34m,\u001b[0m \u001b[0;34m*\u001b[0m\u001b[0msymbols\u001b[0m\u001b[0;34m,\u001b[0m \u001b[0;34m**\u001b[0m\u001b[0mflags\u001b[0m\u001b[0;34m)\u001b[0m\u001b[0;34m\u001b[0m\u001b[0;34m\u001b[0m\u001b[0m\n\u001b[0m\u001b[1;32m   1764\u001b[0m             \u001b[0;32mif\u001b[0m \u001b[0mfailed\u001b[0m\u001b[0;34m:\u001b[0m\u001b[0;34m\u001b[0m\u001b[0;34m\u001b[0m\u001b[0m\n\u001b[1;32m   1765\u001b[0m                 \u001b[0;32mif\u001b[0m \u001b[0mresult\u001b[0m\u001b[0;34m:\u001b[0m\u001b[0;34m\u001b[0m\u001b[0;34m\u001b[0m\u001b[0m\n",
      "\u001b[0;32m~/opt/anaconda3/lib/python3.8/site-packages/sympy/solvers/solvers.py\u001b[0m in \u001b[0;36msolve_linear_system\u001b[0;34m(system, *symbols, **flags)\u001b[0m\n\u001b[1;32m   2332\u001b[0m                 \u001b[0;31m# subtract from the current row the row containing\u001b[0m\u001b[0;34m\u001b[0m\u001b[0;34m\u001b[0m\u001b[0;34m\u001b[0m\u001b[0m\n\u001b[1;32m   2333\u001b[0m                 \u001b[0;31m# pivot and multiplied by extracted coefficient\u001b[0m\u001b[0;34m\u001b[0m\u001b[0;34m\u001b[0m\u001b[0;34m\u001b[0m\u001b[0m\n\u001b[0;32m-> 2334\u001b[0;31m                 \u001b[0mmatrix\u001b[0m\u001b[0;34m.\u001b[0m\u001b[0mrow_op\u001b[0m\u001b[0;34m(\u001b[0m\u001b[0mk\u001b[0m\u001b[0;34m,\u001b[0m \u001b[0;32mlambda\u001b[0m \u001b[0mx\u001b[0m\u001b[0;34m,\u001b[0m \u001b[0mj\u001b[0m\u001b[0;34m:\u001b[0m \u001b[0msimplify\u001b[0m\u001b[0;34m(\u001b[0m\u001b[0mx\u001b[0m \u001b[0;34m-\u001b[0m \u001b[0mmatrix\u001b[0m\u001b[0;34m[\u001b[0m\u001b[0mi\u001b[0m\u001b[0;34m,\u001b[0m \u001b[0mj\u001b[0m\u001b[0;34m]\u001b[0m\u001b[0;34m*\u001b[0m\u001b[0mcoeff\u001b[0m\u001b[0;34m)\u001b[0m\u001b[0;34m)\u001b[0m\u001b[0;34m\u001b[0m\u001b[0;34m\u001b[0m\u001b[0m\n\u001b[0m\u001b[1;32m   2335\u001b[0m \u001b[0;34m\u001b[0m\u001b[0m\n\u001b[1;32m   2336\u001b[0m         \u001b[0mi\u001b[0m \u001b[0;34m+=\u001b[0m \u001b[0;36m1\u001b[0m\u001b[0;34m\u001b[0m\u001b[0;34m\u001b[0m\u001b[0m\n",
      "\u001b[0;32m~/opt/anaconda3/lib/python3.8/site-packages/sympy/matrices/dense.py\u001b[0m in \u001b[0;36mrow_op\u001b[0;34m(self, i, f)\u001b[0m\n\u001b[1;32m    587\u001b[0m         \u001b[0mi0\u001b[0m \u001b[0;34m=\u001b[0m \u001b[0mi\u001b[0m\u001b[0;34m*\u001b[0m\u001b[0mself\u001b[0m\u001b[0;34m.\u001b[0m\u001b[0mcols\u001b[0m\u001b[0;34m\u001b[0m\u001b[0;34m\u001b[0m\u001b[0m\n\u001b[1;32m    588\u001b[0m         \u001b[0mri\u001b[0m \u001b[0;34m=\u001b[0m \u001b[0mself\u001b[0m\u001b[0;34m.\u001b[0m\u001b[0m_mat\u001b[0m\u001b[0;34m[\u001b[0m\u001b[0mi0\u001b[0m\u001b[0;34m:\u001b[0m \u001b[0mi0\u001b[0m \u001b[0;34m+\u001b[0m \u001b[0mself\u001b[0m\u001b[0;34m.\u001b[0m\u001b[0mcols\u001b[0m\u001b[0;34m]\u001b[0m\u001b[0;34m\u001b[0m\u001b[0;34m\u001b[0m\u001b[0m\n\u001b[0;32m--> 589\u001b[0;31m         \u001b[0mself\u001b[0m\u001b[0;34m.\u001b[0m\u001b[0m_mat\u001b[0m\u001b[0;34m[\u001b[0m\u001b[0mi0\u001b[0m\u001b[0;34m:\u001b[0m \u001b[0mi0\u001b[0m \u001b[0;34m+\u001b[0m \u001b[0mself\u001b[0m\u001b[0;34m.\u001b[0m\u001b[0mcols\u001b[0m\u001b[0;34m]\u001b[0m \u001b[0;34m=\u001b[0m \u001b[0;34m[\u001b[0m\u001b[0mf\u001b[0m\u001b[0;34m(\u001b[0m\u001b[0mx\u001b[0m\u001b[0;34m,\u001b[0m \u001b[0mj\u001b[0m\u001b[0;34m)\u001b[0m \u001b[0;32mfor\u001b[0m \u001b[0mx\u001b[0m\u001b[0;34m,\u001b[0m \u001b[0mj\u001b[0m \u001b[0;32min\u001b[0m \u001b[0mzip\u001b[0m\u001b[0;34m(\u001b[0m\u001b[0mri\u001b[0m\u001b[0;34m,\u001b[0m \u001b[0mlist\u001b[0m\u001b[0;34m(\u001b[0m\u001b[0mrange\u001b[0m\u001b[0;34m(\u001b[0m\u001b[0mself\u001b[0m\u001b[0;34m.\u001b[0m\u001b[0mcols\u001b[0m\u001b[0;34m)\u001b[0m\u001b[0;34m)\u001b[0m\u001b[0;34m)\u001b[0m\u001b[0;34m]\u001b[0m\u001b[0;34m\u001b[0m\u001b[0;34m\u001b[0m\u001b[0m\n\u001b[0m\u001b[1;32m    590\u001b[0m \u001b[0;34m\u001b[0m\u001b[0m\n\u001b[1;32m    591\u001b[0m     \u001b[0;32mdef\u001b[0m \u001b[0mrow_swap\u001b[0m\u001b[0;34m(\u001b[0m\u001b[0mself\u001b[0m\u001b[0;34m,\u001b[0m \u001b[0mi\u001b[0m\u001b[0;34m,\u001b[0m \u001b[0mj\u001b[0m\u001b[0;34m)\u001b[0m\u001b[0;34m:\u001b[0m\u001b[0;34m\u001b[0m\u001b[0;34m\u001b[0m\u001b[0m\n",
      "\u001b[0;32m~/opt/anaconda3/lib/python3.8/site-packages/sympy/matrices/dense.py\u001b[0m in \u001b[0;36m<listcomp>\u001b[0;34m(.0)\u001b[0m\n\u001b[1;32m    587\u001b[0m         \u001b[0mi0\u001b[0m \u001b[0;34m=\u001b[0m \u001b[0mi\u001b[0m\u001b[0;34m*\u001b[0m\u001b[0mself\u001b[0m\u001b[0;34m.\u001b[0m\u001b[0mcols\u001b[0m\u001b[0;34m\u001b[0m\u001b[0;34m\u001b[0m\u001b[0m\n\u001b[1;32m    588\u001b[0m         \u001b[0mri\u001b[0m \u001b[0;34m=\u001b[0m \u001b[0mself\u001b[0m\u001b[0;34m.\u001b[0m\u001b[0m_mat\u001b[0m\u001b[0;34m[\u001b[0m\u001b[0mi0\u001b[0m\u001b[0;34m:\u001b[0m \u001b[0mi0\u001b[0m \u001b[0;34m+\u001b[0m \u001b[0mself\u001b[0m\u001b[0;34m.\u001b[0m\u001b[0mcols\u001b[0m\u001b[0;34m]\u001b[0m\u001b[0;34m\u001b[0m\u001b[0;34m\u001b[0m\u001b[0m\n\u001b[0;32m--> 589\u001b[0;31m         \u001b[0mself\u001b[0m\u001b[0;34m.\u001b[0m\u001b[0m_mat\u001b[0m\u001b[0;34m[\u001b[0m\u001b[0mi0\u001b[0m\u001b[0;34m:\u001b[0m \u001b[0mi0\u001b[0m \u001b[0;34m+\u001b[0m \u001b[0mself\u001b[0m\u001b[0;34m.\u001b[0m\u001b[0mcols\u001b[0m\u001b[0;34m]\u001b[0m \u001b[0;34m=\u001b[0m \u001b[0;34m[\u001b[0m\u001b[0mf\u001b[0m\u001b[0;34m(\u001b[0m\u001b[0mx\u001b[0m\u001b[0;34m,\u001b[0m \u001b[0mj\u001b[0m\u001b[0;34m)\u001b[0m \u001b[0;32mfor\u001b[0m \u001b[0mx\u001b[0m\u001b[0;34m,\u001b[0m \u001b[0mj\u001b[0m \u001b[0;32min\u001b[0m \u001b[0mzip\u001b[0m\u001b[0;34m(\u001b[0m\u001b[0mri\u001b[0m\u001b[0;34m,\u001b[0m \u001b[0mlist\u001b[0m\u001b[0;34m(\u001b[0m\u001b[0mrange\u001b[0m\u001b[0;34m(\u001b[0m\u001b[0mself\u001b[0m\u001b[0;34m.\u001b[0m\u001b[0mcols\u001b[0m\u001b[0;34m)\u001b[0m\u001b[0;34m)\u001b[0m\u001b[0;34m)\u001b[0m\u001b[0;34m]\u001b[0m\u001b[0;34m\u001b[0m\u001b[0;34m\u001b[0m\u001b[0m\n\u001b[0m\u001b[1;32m    590\u001b[0m \u001b[0;34m\u001b[0m\u001b[0m\n\u001b[1;32m    591\u001b[0m     \u001b[0;32mdef\u001b[0m \u001b[0mrow_swap\u001b[0m\u001b[0;34m(\u001b[0m\u001b[0mself\u001b[0m\u001b[0;34m,\u001b[0m \u001b[0mi\u001b[0m\u001b[0;34m,\u001b[0m \u001b[0mj\u001b[0m\u001b[0;34m)\u001b[0m\u001b[0;34m:\u001b[0m\u001b[0;34m\u001b[0m\u001b[0;34m\u001b[0m\u001b[0m\n",
      "\u001b[0;32m~/opt/anaconda3/lib/python3.8/site-packages/sympy/solvers/solvers.py\u001b[0m in \u001b[0;36m<lambda>\u001b[0;34m(x, j)\u001b[0m\n\u001b[1;32m   2332\u001b[0m                 \u001b[0;31m# subtract from the current row the row containing\u001b[0m\u001b[0;34m\u001b[0m\u001b[0;34m\u001b[0m\u001b[0;34m\u001b[0m\u001b[0m\n\u001b[1;32m   2333\u001b[0m                 \u001b[0;31m# pivot and multiplied by extracted coefficient\u001b[0m\u001b[0;34m\u001b[0m\u001b[0;34m\u001b[0m\u001b[0;34m\u001b[0m\u001b[0m\n\u001b[0;32m-> 2334\u001b[0;31m                 \u001b[0mmatrix\u001b[0m\u001b[0;34m.\u001b[0m\u001b[0mrow_op\u001b[0m\u001b[0;34m(\u001b[0m\u001b[0mk\u001b[0m\u001b[0;34m,\u001b[0m \u001b[0;32mlambda\u001b[0m \u001b[0mx\u001b[0m\u001b[0;34m,\u001b[0m \u001b[0mj\u001b[0m\u001b[0;34m:\u001b[0m \u001b[0msimplify\u001b[0m\u001b[0;34m(\u001b[0m\u001b[0mx\u001b[0m \u001b[0;34m-\u001b[0m \u001b[0mmatrix\u001b[0m\u001b[0;34m[\u001b[0m\u001b[0mi\u001b[0m\u001b[0;34m,\u001b[0m \u001b[0mj\u001b[0m\u001b[0;34m]\u001b[0m\u001b[0;34m*\u001b[0m\u001b[0mcoeff\u001b[0m\u001b[0;34m)\u001b[0m\u001b[0;34m)\u001b[0m\u001b[0;34m\u001b[0m\u001b[0;34m\u001b[0m\u001b[0m\n\u001b[0m\u001b[1;32m   2335\u001b[0m \u001b[0;34m\u001b[0m\u001b[0m\n\u001b[1;32m   2336\u001b[0m         \u001b[0mi\u001b[0m \u001b[0;34m+=\u001b[0m \u001b[0;36m1\u001b[0m\u001b[0;34m\u001b[0m\u001b[0;34m\u001b[0m\u001b[0m\n",
      "\u001b[0;32m~/opt/anaconda3/lib/python3.8/site-packages/sympy/simplify/simplify.py\u001b[0m in \u001b[0;36msimplify\u001b[0;34m(expr, ratio, measure, rational, inverse, doit, **kwargs)\u001b[0m\n\u001b[1;32m    684\u001b[0m     \u001b[0mshort\u001b[0m \u001b[0;34m=\u001b[0m \u001b[0mshorter\u001b[0m\u001b[0;34m(\u001b[0m\u001b[0mpowsimp\u001b[0m\u001b[0;34m(\u001b[0m\u001b[0mexpr\u001b[0m\u001b[0;34m,\u001b[0m \u001b[0mcombine\u001b[0m\u001b[0;34m=\u001b[0m\u001b[0;34m'exp'\u001b[0m\u001b[0;34m,\u001b[0m \u001b[0mdeep\u001b[0m\u001b[0;34m=\u001b[0m\u001b[0;32mTrue\u001b[0m\u001b[0;34m)\u001b[0m\u001b[0;34m,\u001b[0m \u001b[0mpowsimp\u001b[0m\u001b[0;34m(\u001b[0m\u001b[0mexpr\u001b[0m\u001b[0;34m)\u001b[0m\u001b[0;34m,\u001b[0m \u001b[0mexpr\u001b[0m\u001b[0;34m)\u001b[0m\u001b[0;34m\u001b[0m\u001b[0;34m\u001b[0m\u001b[0m\n\u001b[1;32m    685\u001b[0m     \u001b[0mshort\u001b[0m \u001b[0;34m=\u001b[0m \u001b[0mshorter\u001b[0m\u001b[0;34m(\u001b[0m\u001b[0mshort\u001b[0m\u001b[0;34m,\u001b[0m \u001b[0mcancel\u001b[0m\u001b[0;34m(\u001b[0m\u001b[0mshort\u001b[0m\u001b[0;34m)\u001b[0m\u001b[0;34m)\u001b[0m\u001b[0;34m\u001b[0m\u001b[0;34m\u001b[0m\u001b[0m\n\u001b[0;32m--> 686\u001b[0;31m     \u001b[0mshort\u001b[0m \u001b[0;34m=\u001b[0m \u001b[0mshorter\u001b[0m\u001b[0;34m(\u001b[0m\u001b[0mshort\u001b[0m\u001b[0;34m,\u001b[0m \u001b[0mfactor_terms\u001b[0m\u001b[0;34m(\u001b[0m\u001b[0mshort\u001b[0m\u001b[0;34m)\u001b[0m\u001b[0;34m,\u001b[0m \u001b[0mexpand_power_exp\u001b[0m\u001b[0;34m(\u001b[0m\u001b[0mexpand_mul\u001b[0m\u001b[0;34m(\u001b[0m\u001b[0mshort\u001b[0m\u001b[0;34m)\u001b[0m\u001b[0;34m)\u001b[0m\u001b[0;34m)\u001b[0m\u001b[0;34m\u001b[0m\u001b[0;34m\u001b[0m\u001b[0m\n\u001b[0m\u001b[1;32m    687\u001b[0m     \u001b[0;32mif\u001b[0m \u001b[0mshort\u001b[0m\u001b[0;34m.\u001b[0m\u001b[0mhas\u001b[0m\u001b[0;34m(\u001b[0m\u001b[0mTrigonometricFunction\u001b[0m\u001b[0;34m,\u001b[0m \u001b[0mHyperbolicFunction\u001b[0m\u001b[0;34m,\u001b[0m \u001b[0mExpBase\u001b[0m\u001b[0;34m)\u001b[0m\u001b[0;34m:\u001b[0m\u001b[0;34m\u001b[0m\u001b[0;34m\u001b[0m\u001b[0m\n\u001b[1;32m    688\u001b[0m         \u001b[0mshort\u001b[0m \u001b[0;34m=\u001b[0m \u001b[0mexptrigsimp\u001b[0m\u001b[0;34m(\u001b[0m\u001b[0mshort\u001b[0m\u001b[0;34m)\u001b[0m\u001b[0;34m\u001b[0m\u001b[0;34m\u001b[0m\u001b[0m\n",
      "\u001b[0;32m~/opt/anaconda3/lib/python3.8/site-packages/sympy/simplify/simplify.py\u001b[0m in \u001b[0;36mshorter\u001b[0;34m(*choices)\u001b[0m\n\u001b[1;32m    538\u001b[0m         \u001b[0;32mif\u001b[0m \u001b[0;32mnot\u001b[0m \u001b[0mhas_variety\u001b[0m\u001b[0;34m(\u001b[0m\u001b[0mchoices\u001b[0m\u001b[0;34m)\u001b[0m\u001b[0;34m:\u001b[0m\u001b[0;34m\u001b[0m\u001b[0;34m\u001b[0m\u001b[0m\n\u001b[1;32m    539\u001b[0m             \u001b[0;32mreturn\u001b[0m \u001b[0mchoices\u001b[0m\u001b[0;34m[\u001b[0m\u001b[0;36m0\u001b[0m\u001b[0;34m]\u001b[0m\u001b[0;34m\u001b[0m\u001b[0;34m\u001b[0m\u001b[0m\n\u001b[0;32m--> 540\u001b[0;31m         \u001b[0;32mreturn\u001b[0m \u001b[0mmin\u001b[0m\u001b[0;34m(\u001b[0m\u001b[0mchoices\u001b[0m\u001b[0;34m,\u001b[0m \u001b[0mkey\u001b[0m\u001b[0;34m=\u001b[0m\u001b[0mmeasure\u001b[0m\u001b[0;34m)\u001b[0m\u001b[0;34m\u001b[0m\u001b[0;34m\u001b[0m\u001b[0m\n\u001b[0m\u001b[1;32m    541\u001b[0m \u001b[0;34m\u001b[0m\u001b[0m\n\u001b[1;32m    542\u001b[0m     \u001b[0;32mdef\u001b[0m \u001b[0mdone\u001b[0m\u001b[0;34m(\u001b[0m\u001b[0me\u001b[0m\u001b[0;34m)\u001b[0m\u001b[0;34m:\u001b[0m\u001b[0;34m\u001b[0m\u001b[0;34m\u001b[0m\u001b[0m\n",
      "\u001b[0;32m~/opt/anaconda3/lib/python3.8/site-packages/sympy/core/function.py\u001b[0m in \u001b[0;36mcount_ops\u001b[0;34m(expr, visual)\u001b[0m\n\u001b[1;32m   3095\u001b[0m                     \u001b[0;32melse\u001b[0m\u001b[0;34m:\u001b[0m\u001b[0;34m\u001b[0m\u001b[0;34m\u001b[0m\u001b[0m\n\u001b[1;32m   3096\u001b[0m                         \u001b[0ma\u001b[0m \u001b[0;34m=\u001b[0m \u001b[0;34m-\u001b[0m\u001b[0ma\u001b[0m\u001b[0;34m\u001b[0m\u001b[0;34m\u001b[0m\u001b[0m\n\u001b[0;32m-> 3097\u001b[0;31m                 \u001b[0mn\u001b[0m\u001b[0;34m,\u001b[0m \u001b[0md\u001b[0m \u001b[0;34m=\u001b[0m \u001b[0mfraction\u001b[0m\u001b[0;34m(\u001b[0m\u001b[0ma\u001b[0m\u001b[0;34m)\u001b[0m\u001b[0;34m\u001b[0m\u001b[0;34m\u001b[0m\u001b[0m\n\u001b[0m\u001b[1;32m   3098\u001b[0m                 \u001b[0;32mif\u001b[0m \u001b[0mn\u001b[0m\u001b[0;34m.\u001b[0m\u001b[0mis_Integer\u001b[0m\u001b[0;34m:\u001b[0m\u001b[0;34m\u001b[0m\u001b[0;34m\u001b[0m\u001b[0m\n\u001b[1;32m   3099\u001b[0m                     \u001b[0mops\u001b[0m\u001b[0;34m.\u001b[0m\u001b[0mappend\u001b[0m\u001b[0;34m(\u001b[0m\u001b[0mDIV\u001b[0m\u001b[0;34m)\u001b[0m\u001b[0;34m\u001b[0m\u001b[0;34m\u001b[0m\u001b[0m\n",
      "\u001b[0;32m~/opt/anaconda3/lib/python3.8/site-packages/sympy/simplify/radsimp.py\u001b[0m in \u001b[0;36mfraction\u001b[0;34m(expr, exact)\u001b[0m\n\u001b[1;32m   1099\u001b[0m         \u001b[0;32mreturn\u001b[0m \u001b[0mMul\u001b[0m\u001b[0;34m(\u001b[0m\u001b[0;34m*\u001b[0m\u001b[0mnumer\u001b[0m\u001b[0;34m,\u001b[0m \u001b[0mevaluate\u001b[0m\u001b[0;34m=\u001b[0m\u001b[0;32mFalse\u001b[0m\u001b[0;34m)\u001b[0m\u001b[0;34m,\u001b[0m \u001b[0mMul\u001b[0m\u001b[0;34m(\u001b[0m\u001b[0;34m*\u001b[0m\u001b[0mdenom\u001b[0m\u001b[0;34m,\u001b[0m \u001b[0mevaluate\u001b[0m\u001b[0;34m=\u001b[0m\u001b[0;32mFalse\u001b[0m\u001b[0;34m)\u001b[0m\u001b[0;34m\u001b[0m\u001b[0;34m\u001b[0m\u001b[0m\n\u001b[1;32m   1100\u001b[0m     \u001b[0;32melse\u001b[0m\u001b[0;34m:\u001b[0m\u001b[0;34m\u001b[0m\u001b[0;34m\u001b[0m\u001b[0m\n\u001b[0;32m-> 1101\u001b[0;31m         \u001b[0;32mreturn\u001b[0m \u001b[0mMul\u001b[0m\u001b[0;34m(\u001b[0m\u001b[0;34m*\u001b[0m\u001b[0mnumer\u001b[0m\u001b[0;34m)\u001b[0m\u001b[0;34m,\u001b[0m \u001b[0mMul\u001b[0m\u001b[0;34m(\u001b[0m\u001b[0;34m*\u001b[0m\u001b[0mdenom\u001b[0m\u001b[0;34m)\u001b[0m\u001b[0;34m\u001b[0m\u001b[0;34m\u001b[0m\u001b[0m\n\u001b[0m\u001b[1;32m   1102\u001b[0m \u001b[0;34m\u001b[0m\u001b[0m\n\u001b[1;32m   1103\u001b[0m \u001b[0;34m\u001b[0m\u001b[0m\n",
      "\u001b[0;31mKeyboardInterrupt\u001b[0m: "
     ]
    }
   ],
   "source": [
    "ss = main.invariant_distribution_analytically(M)"
   ]
  },
  {
   "cell_type": "markdown",
   "id": "df0ae46d",
   "metadata": {},
   "source": [
    "**Transformation**"
   ]
  },
  {
   "cell_type": "code",
   "execution_count": 7,
   "id": "9a147469",
   "metadata": {},
   "outputs": [],
   "source": [
    "qs = sym.symbols(\"q1:9\")\n",
    "ps = sym.symbols(\"p1:9\")\n",
    "\n",
    "b, c = sym.symbols(\"b, c\")"
   ]
  },
  {
   "cell_type": "code",
   "execution_count": 8,
   "id": "8dba96ba",
   "metadata": {},
   "outputs": [],
   "source": [
    "M = sym.Matrix([[qs[0], (1 - qs[0]), 0, 0, 0, 0, 0, 0],\n",
    "                [0, 0, qs[1], (1 - qs[1]), 0, 0, 0, 0],\n",
    "                [0, 0, 0, 0, qs[2], (1 - qs[2]), 0, 0],\n",
    "                [0, 0, 0, 0, 0, 0, qs[3], (1 - qs[3])],\n",
    "                [qs[4], (1 - qs[4]), 0, 0, 0, 0, 0, 0],\n",
    "                [0, 0, qs[5], (1 - qs[5]), 0, 0, 0, 0],\n",
    "                [0, 0, 0, 0, qs[6], (1 - qs[6]), 0, 0],\n",
    "                [0, 0, 0, 0, 0, 0, qs[7], (1 - qs[7])]])"
   ]
  },
  {
   "cell_type": "code",
   "execution_count": 9,
   "id": "90d6a8f0",
   "metadata": {},
   "outputs": [
    {
     "data": {
      "text/latex": [
       "$\\displaystyle \\left[\\begin{matrix}q_{1} & 1 - q_{1} & 0 & 0 & 0 & 0 & 0 & 0\\\\0 & 0 & q_{2} & 1 - q_{2} & 0 & 0 & 0 & 0\\\\0 & 0 & 0 & 0 & q_{3} & 1 - q_{3} & 0 & 0\\\\0 & 0 & 0 & 0 & 0 & 0 & q_{4} & 1 - q_{4}\\\\q_{5} & 1 - q_{5} & 0 & 0 & 0 & 0 & 0 & 0\\\\0 & 0 & q_{6} & 1 - q_{6} & 0 & 0 & 0 & 0\\\\0 & 0 & 0 & 0 & q_{7} & 1 - q_{7} & 0 & 0\\\\0 & 0 & 0 & 0 & 0 & 0 & q_{8} & 1 - q_{8}\\end{matrix}\\right]$"
      ],
      "text/plain": [
       "Matrix([\n",
       "[q1, 1 - q1,  0,      0,  0,      0,  0,      0],\n",
       "[ 0,      0, q2, 1 - q2,  0,      0,  0,      0],\n",
       "[ 0,      0,  0,      0, q3, 1 - q3,  0,      0],\n",
       "[ 0,      0,  0,      0,  0,      0, q4, 1 - q4],\n",
       "[q5, 1 - q5,  0,      0,  0,      0,  0,      0],\n",
       "[ 0,      0, q6, 1 - q6,  0,      0,  0,      0],\n",
       "[ 0,      0,  0,      0, q7, 1 - q7,  0,      0],\n",
       "[ 0,      0,  0,      0,  0,      0, q8, 1 - q8]])"
      ]
     },
     "execution_count": 9,
     "metadata": {},
     "output_type": "execute_result"
    }
   ],
   "source": [
    "M"
   ]
  },
  {
   "cell_type": "code",
   "execution_count": 89,
   "id": "7baf3000",
   "metadata": {},
   "outputs": [],
   "source": [
    "ss = main.invariant_distribution_analytically(M)"
   ]
  },
  {
   "cell_type": "code",
   "execution_count": 90,
   "id": "9cff3678",
   "metadata": {},
   "outputs": [],
   "source": [
    "rhs = (ss[1] + ss[5]).factor()"
   ]
  },
  {
   "cell_type": "code",
   "execution_count": 91,
   "id": "21df8ded",
   "metadata": {},
   "outputs": [],
   "source": [
    "lhs = (ss[2] + ss[6]).factor()"
   ]
  },
  {
   "cell_type": "code",
   "execution_count": 92,
   "id": "6a71fb69",
   "metadata": {},
   "outputs": [
    {
     "data": {
      "text/latex": [
       "$\\displaystyle 0$"
      ],
      "text/plain": [
       "0"
      ]
     },
     "execution_count": 92,
     "metadata": {},
     "output_type": "execute_result"
    }
   ],
   "source": [
    "(rhs - lhs).factor()"
   ]
  },
  {
   "cell_type": "markdown",
   "id": "05414155",
   "metadata": {},
   "source": [
    "**Cooperation of co-player**"
   ]
  },
  {
   "cell_type": "code",
   "execution_count": 93,
   "id": "e9b98c30",
   "metadata": {},
   "outputs": [],
   "source": [
    "rho_q = ss[0] + ss[1] + ss[4] + ss[5]"
   ]
  },
  {
   "cell_type": "code",
   "execution_count": 123,
   "id": "0aaa1eee",
   "metadata": {},
   "outputs": [],
   "source": [
    "np.random.seed(0)\n",
    "\n",
    "p1val, p2val, p3val, p4val, p5val, p6val, p7val, p8val = np.random.random(8).round(5)\n",
    "\n",
    "q1val, q2val, q3val, q4val, q5val, q6val, q7val, q8val = np.random.random(8).round(5)"
   ]
  },
  {
   "cell_type": "code",
   "execution_count": 124,
   "id": "3a7257d8",
   "metadata": {},
   "outputs": [],
   "source": [
    "reactive_player = [p1val,p2val,p1val,p2val,p3val,p4val,p3val,p4val,\n",
    "                   p1val,p2val,p1val,p2val,p3val,p4val,p3val,p4val,\n",
    "                   p5val,p6val,p5val,p6val,p7val,p8val,p7val,p8val,\n",
    "                   p5val,p6val,p5val,p6val,p7val,p8val,p7val,p8val] * 2"
   ]
  },
  {
   "cell_type": "code",
   "execution_count": 125,
   "id": "abcb787a",
   "metadata": {},
   "outputs": [],
   "source": [
    "selfreactive_player = [q1val, q1val, q2val, q2val, q1val, q1val, q2val, q2val,\n",
    "                       q3val, q3val, q4val, q4val, q3val, q3val, q4val, q4val,\n",
    "                       q5val, q5val, q6val, q6val, q5val, q5val, q6val, q6val,\n",
    "                       q7val, q7val, q8val, q8val, q7val, q7val, q8val, q8val] * 2"
   ]
  },
  {
   "cell_type": "code",
   "execution_count": 126,
   "id": "a443b2c5",
   "metadata": {},
   "outputs": [],
   "source": [
    "M3 = three.calculate_M_memory_three(player=reactive_player, coplayer=selfreactive_player, analytical=False)"
   ]
  },
  {
   "cell_type": "code",
   "execution_count": 127,
   "id": "f023ab2e",
   "metadata": {},
   "outputs": [],
   "source": [
    "ss3 = main.invariant_distribution(M3)"
   ]
  },
  {
   "cell_type": "code",
   "execution_count": 22,
   "id": "78ff3db5",
   "metadata": {},
   "outputs": [],
   "source": [
    "cc_indices = np.arange(0, 64, 4)"
   ]
  },
  {
   "cell_type": "code",
   "execution_count": 23,
   "id": "a4940227",
   "metadata": {},
   "outputs": [],
   "source": [
    "cd_indices = np.arange(1, 64, 4)"
   ]
  },
  {
   "cell_type": "code",
   "execution_count": 24,
   "id": "9d4fb91f",
   "metadata": {},
   "outputs": [],
   "source": [
    "dc_indices = np.arange(2, 64, 4)"
   ]
  },
  {
   "cell_type": "code",
   "execution_count": 151,
   "id": "63508ce2",
   "metadata": {},
   "outputs": [
    {
     "data": {
      "text/plain": [
       "0.6352678782523608"
      ]
     },
     "execution_count": 151,
     "metadata": {},
     "output_type": "execute_result"
    }
   ],
   "source": [
    "sum([ss3[i] for i in cc_indices]) + sum([ss3[i] for i in dc_indices])"
   ]
  },
  {
   "cell_type": "code",
   "execution_count": 159,
   "id": "76b38188",
   "metadata": {},
   "outputs": [
    {
     "data": {
      "text/latex": [
       "$\\displaystyle 0.631021399124144$"
      ],
      "text/plain": [
       "0.631021399124144"
      ]
     },
     "execution_count": 159,
     "metadata": {},
     "output_type": "execute_result"
    }
   ],
   "source": [
    "(ss[0].subs({qs[0]: q1val, qs[1]: q2val,\n",
    "            qs[2]: q3val, qs[3]: q4val,\n",
    "            qs[4]: q5val, qs[5]:q6val,\n",
    "            qs[6]: q7val, qs[7]: q8val})\n",
    "\n",
    "\n",
    "# +\n",
    "\n",
    "# ss[3].subs({qs[0]: q1val, qs[1]: q2val,\n",
    "#             qs[2]: q3val, qs[3]: q4val,\n",
    "#             qs[4]: q5val, qs[5]:q6val,\n",
    "#             qs[6]: q7val, qs[7]: q8val})\n",
    ")"
   ]
  },
  {
   "cell_type": "code",
   "execution_count": 153,
   "id": "d7ef33c1",
   "metadata": {},
   "outputs": [
    {
     "data": {
      "text/latex": [
       "$\\displaystyle 0.0403691952048648$"
      ],
      "text/plain": [
       "0.0403691952048648"
      ]
     },
     "execution_count": 153,
     "metadata": {},
     "output_type": "execute_result"
    }
   ],
   "source": [
    "ss[1].subs({qs[0]: q1val, qs[1]: q2val,\n",
    "            qs[2]: q3val, qs[3]: q4val,\n",
    "            qs[4]: q5val, qs[5]:q6val,\n",
    "            qs[6]: q7val, qs[7]: q8val})"
   ]
  },
  {
   "cell_type": "code",
   "execution_count": 155,
   "id": "c34bfe9d",
   "metadata": {},
   "outputs": [
    {
     "data": {
      "text/latex": [
       "$\\displaystyle 0.0485169872239874$"
      ],
      "text/plain": [
       "0.0485169872239874"
      ]
     },
     "execution_count": 155,
     "metadata": {},
     "output_type": "execute_result"
    }
   ],
   "source": [
    "ss[2].subs({qs[0]: q1val, qs[1]: q2val,\n",
    "            qs[2]: q3val, qs[3]: q4val,\n",
    "            qs[4]: q5val, qs[5]:q6val,\n",
    "            qs[6]: q7val, qs[7]: q8val})"
   ]
  },
  {
   "cell_type": "code",
   "execution_count": 154,
   "id": "8932ce2e",
   "metadata": {},
   "outputs": [
    {
     "data": {
      "text/latex": [
       "$\\displaystyle 0.0403691952048648$"
      ],
      "text/plain": [
       "0.0403691952048648"
      ]
     },
     "execution_count": 154,
     "metadata": {},
     "output_type": "execute_result"
    }
   ],
   "source": [
    "ss[4].subs({qs[0]: q1val, qs[1]: q2val,\n",
    "            qs[2]: q3val, qs[3]: q4val,\n",
    "            qs[4]: q5val, qs[5]:q6val,\n",
    "            qs[6]: q7val, qs[7]: q8val})"
   ]
  },
  {
   "cell_type": "code",
   "execution_count": 146,
   "id": "863054e3",
   "metadata": {},
   "outputs": [
    {
     "data": {
      "text/plain": [
       "[0.631021399124144,\n",
       " 0.0403691952048648,\n",
       " 0.0485169872239874,\n",
       " 0.0275456209180361,\n",
       " 0.0403691952048648,\n",
       " 0.0356934129371586,\n",
       " 0.0275456209180361,\n",
       " 0.148938568468908]"
      ]
     },
     "execution_count": 146,
     "metadata": {},
     "output_type": "execute_result"
    }
   ],
   "source": [
    "[ss[i].subs({qs[0]: q1val, qs[1]: q2val,\n",
    "            qs[2]: q3val, qs[3]: q4val,\n",
    "            qs[4]: q5val, qs[5]:q6val,\n",
    "            qs[6]: q7val, qs[7]: q8val}) for i in range(8)]"
   ]
  },
  {
   "cell_type": "code",
   "execution_count": 168,
   "id": "62ba25cf",
   "metadata": {},
   "outputs": [],
   "source": [
    "Alternator_in_three = [0, 0, 1, 1] * 16\n",
    "\n",
    "Cooperator = [0 for _ in range(64)]"
   ]
  },
  {
   "cell_type": "code",
   "execution_count": 178,
   "id": "afef6afe",
   "metadata": {},
   "outputs": [],
   "source": [
    "M3 = three.calculate_M_memory_three(Alternator_in_three, Alternator_in_three)"
   ]
  },
  {
   "cell_type": "code",
   "execution_count": 179,
   "id": "103d9583",
   "metadata": {},
   "outputs": [],
   "source": [
    "ss3 = main.invariant_distribution(M3)"
   ]
  },
  {
   "cell_type": "code",
   "execution_count": 180,
   "id": "bc00ba36",
   "metadata": {},
   "outputs": [
    {
     "data": {
      "text/plain": [
       "0.5"
      ]
     },
     "execution_count": 180,
     "metadata": {},
     "output_type": "execute_result"
    }
   ],
   "source": [
    "sum([ss3[i] for i in cc_indices]) + sum([ss3[i] for i in dc_indices])"
   ]
  },
  {
   "cell_type": "code",
   "execution_count": 182,
   "id": "62514fb0",
   "metadata": {},
   "outputs": [
    {
     "data": {
      "text/plain": [
       "0.5"
      ]
     },
     "execution_count": 182,
     "metadata": {},
     "output_type": "execute_result"
    }
   ],
   "source": [
    "sum([ss3[i] for i in cc_indices]) + sum([ss3[i] for i in cd_indices])"
   ]
  },
  {
   "cell_type": "code",
   "execution_count": 181,
   "id": "22ffa68e",
   "metadata": {},
   "outputs": [
    {
     "data": {
      "text/plain": [
       "[0, 0, 0, 1/2]"
      ]
     },
     "execution_count": 181,
     "metadata": {},
     "output_type": "execute_result"
    }
   ],
   "source": [
    "[ss[i].subs({qs[0]: 0, qs[1]: 1,\n",
    "            qs[2]: 0, qs[3]: 1,\n",
    "            qs[4]: 0, qs[5]: 1,\n",
    "            qs[6]: 0, qs[7]: 1}) for i in [0, 1, 4, 5]]"
   ]
  },
  {
   "cell_type": "code",
   "execution_count": 188,
   "id": "d276e838",
   "metadata": {},
   "outputs": [
    {
     "data": {
      "text/latex": [
       "$\\displaystyle \\frac{1}{2}$"
      ],
      "text/plain": [
       "1/2"
      ]
     },
     "execution_count": 188,
     "metadata": {},
     "output_type": "execute_result"
    }
   ],
   "source": [
    "rho_p.subs({qs[0]: 0, qs[1]: 1,\n",
    "            qs[2]: 0, qs[3]: 1,\n",
    "            qs[4]: 0, qs[5]: 1,\n",
    "            qs[6]: 0, qs[7]: 1,\n",
    "            ps[0]: 0, ps[1]: 1,\n",
    "            ps[2]: 0, ps[3]: 1,\n",
    "            ps[4]: 0, ps[5]: 1,\n",
    "            ps[6]: 0, ps[7]: 1})"
   ]
  },
  {
   "cell_type": "code",
   "execution_count": 187,
   "id": "c30f24d5",
   "metadata": {},
   "outputs": [],
   "source": [
    "rho_p =  (ps[0] * ss[0] + ps[1] * ss[2] + ps[2] * ss[1] + ps[3] * ss[3] +\n",
    "          ps[4] * ss[4] + ps[5] * ss[6] + ps[6] * ss[5] + ps[7] * ss[7])\n",
    "\n",
    "# rho_p = sum([ps[i] * ss[i] for i in range(8)])"
   ]
  },
  {
   "cell_type": "code",
   "execution_count": 40,
   "id": "003d9263",
   "metadata": {},
   "outputs": [],
   "source": [
    "payoffs_transformed = b * rho_q - c * rho_p"
   ]
  },
  {
   "cell_type": "code",
   "execution_count": 41,
   "id": "14ee608e",
   "metadata": {},
   "outputs": [],
   "source": [
    "# payoffs_transformed = payoffs_transformed.factor()"
   ]
  },
  {
   "cell_type": "code",
   "execution_count": 42,
   "id": "2bad1d3d",
   "metadata": {},
   "outputs": [],
   "source": []
  },
  {
   "cell_type": "code",
   "execution_count": 43,
   "id": "06b3b237",
   "metadata": {},
   "outputs": [],
   "source": [
    "reactive = ([pvals[0], pvals[1], pvals[0], pvals[1], pvals[2], pvals[3], pvals[2], pvals[3]] * 2 +\n",
    "            [pvals[4], pvals[5], pvals[4], pvals[5], pvals[6], pvals[7], pvals[6], pvals[7]] * 2 +\n",
    "           [pvals[0], pvals[1], pvals[0], pvals[1], pvals[2], pvals[3], pvals[2], pvals[3]] * 2 +\n",
    "            [pvals[4], pvals[5], pvals[4], pvals[5], pvals[6], pvals[7], pvals[6], pvals[7]] * 2)"
   ]
  },
  {
   "cell_type": "code",
   "execution_count": 44,
   "id": "444915bc",
   "metadata": {},
   "outputs": [],
   "source": [
    "selfreactive = ([qvals[0], qvals[0], qvals[1], qvals[1]] * 2 + [qvals[2], qvals[2], qvals[3], qvals[3]] * 2 +\n",
    "                [qvals[4], qvals[4], qvals[5], qvals[5]] * 2 + [qvals[6], qvals[6], qvals[7], qvals[7]] * 2 +\n",
    "                [qvals[0], qvals[0], qvals[1], qvals[1]] * 2 + [qvals[2], qvals[2], qvals[3], qvals[3]] * 2 +\n",
    "                [qvals[4], qvals[4], qvals[5], qvals[5]] * 2 + [qvals[6], qvals[6], qvals[7], qvals[7]] * 2)"
   ]
  },
  {
   "cell_type": "code",
   "execution_count": 45,
   "id": "6cf89053",
   "metadata": {},
   "outputs": [
    {
     "data": {
      "text/plain": [
       "(64, 64)"
      ]
     },
     "execution_count": 45,
     "metadata": {},
     "output_type": "execute_result"
    }
   ],
   "source": [
    "len(selfreactive), len(reactive)"
   ]
  },
  {
   "cell_type": "code",
   "execution_count": 46,
   "id": "74f0e815",
   "metadata": {},
   "outputs": [],
   "source": [
    "bval = 1\n",
    "\n",
    "cval = .5"
   ]
  },
  {
   "cell_type": "code",
   "execution_count": 47,
   "id": "02a1e4f6",
   "metadata": {},
   "outputs": [],
   "source": [
    "M3 = three.calculate_M_memory_three(reactive, selfreactive)"
   ]
  },
  {
   "cell_type": "code",
   "execution_count": 48,
   "id": "956456f1",
   "metadata": {},
   "outputs": [],
   "source": [
    "ss3 = main.invariant_distribution(M3)"
   ]
  },
  {
   "cell_type": "code",
   "execution_count": 49,
   "id": "a676703c",
   "metadata": {},
   "outputs": [
    {
     "data": {
      "text/plain": [
       "0.3356670911629701"
      ]
     },
     "execution_count": 49,
     "metadata": {},
     "output_type": "execute_result"
    }
   ],
   "source": [
    "ss3 @ np.array([bval - cval, -cval, bval, 0] * 16)"
   ]
  },
  {
   "cell_type": "code",
   "execution_count": 50,
   "id": "34593540",
   "metadata": {},
   "outputs": [
    {
     "data": {
      "text/plain": [
       "array([0.05537925, 0.01441393, 0.05215066, 0.01337054, 0.02413828,\n",
       "       0.01527592, 0.01147308, 0.00732758, 0.05083595, 0.01258179,\n",
       "       0.04777471, 0.01158621, 0.02083212, 0.01387313, 0.00984616,\n",
       "       0.00663901, 0.02213315, 0.01928883, 0.02081592, 0.01743872,\n",
       "       0.0276027 , 0.04473361, 0.00681456, 0.01160068, 0.00827998,\n",
       "       0.00786601, 0.0070256 , 0.00675509, 0.008419  , 0.01551135,\n",
       "       0.00267477, 0.00474963, 0.044227  , 0.01175751, 0.03894942,\n",
       "       0.01032028, 0.01555574, 0.00949699, 0.00699483, 0.00429272,\n",
       "       0.04019298, 0.01023014, 0.03517508, 0.00891562, 0.0133872 ,\n",
       "       0.00848533, 0.00597743, 0.00381444, 0.01357498, 0.01275459,\n",
       "       0.01086266, 0.01006088, 0.01237989, 0.02124503, 0.00464421,\n",
       "       0.00813376, 0.00594531, 0.00566235, 0.00453843, 0.00440748,\n",
       "       0.00461478, 0.00853308, 0.00205521, 0.00360671])"
      ]
     },
     "execution_count": 50,
     "metadata": {},
     "output_type": "execute_result"
    }
   ],
   "source": [
    "ss3"
   ]
  },
  {
   "cell_type": "code",
   "execution_count": 51,
   "id": "5732983f",
   "metadata": {},
   "outputs": [
    {
     "data": {
      "text/plain": [
       "(64, 64)"
      ]
     },
     "execution_count": 51,
     "metadata": {},
     "output_type": "execute_result"
    }
   ],
   "source": [
    "M3.shape"
   ]
  },
  {
   "cell_type": "code",
   "execution_count": 52,
   "id": "f81d4c8f",
   "metadata": {},
   "outputs": [
    {
     "data": {
      "text/latex": [
       "$\\displaystyle 0.445624248725537$"
      ],
      "text/plain": [
       "0.445624248725537"
      ]
     },
     "execution_count": 52,
     "metadata": {},
     "output_type": "execute_result"
    }
   ],
   "source": [
    "payoffs_transformed.subs({b: bval, c:cval, ps[0]: pvals[0],\n",
    "ps[1]: pvals[1], ps[2]: pvals[2], ps[3]: pvals[3], ps[4]: pvals[4],\n",
    "ps[5]: pvals[5], ps[6]: pvals[6], ps[7]: pvals[7],\n",
    "qs[0]: qvals[0], qs[1]: qvals[1], qs[2]: qvals[2], qs[3]: qvals[3],\n",
    "qs[4]: qvals[4], qs[5]: qvals[5], qs[6]: qvals[6], qs[7]: qvals[7]})"
   ]
  },
  {
   "cell_type": "code",
   "execution_count": 66,
   "id": "a1664a27",
   "metadata": {},
   "outputs": [
    {
     "data": {
      "text/latex": [
       "$\\displaystyle 0.60368374903127$"
      ],
      "text/plain": [
       "0.603683749031270"
      ]
     },
     "execution_count": 66,
     "metadata": {},
     "output_type": "execute_result"
    }
   ],
   "source": [
    "rho_p.subs({ps[0]: pvals[0], ps[1]: pvals[1], ps[2]: pvals[2], ps[3]: pvals[3],\n",
    "            ps[4]: pvals[4], ps[5]: pvals[5], ps[6]: pvals[6], ps[7]: pvals[7],\n",
    "            qs[0]: qvals[0], qs[1]: qvals[1], qs[2]: qvals[2], qs[3]: qvals[3],\n",
    "            qs[4]: qvals[4], qs[5]: qvals[5], qs[6]: qvals[6], qs[7]: qvals[7]})"
   ]
  },
  {
   "cell_type": "code",
   "execution_count": 80,
   "id": "0d8db8e9",
   "metadata": {},
   "outputs": [
    {
     "data": {
      "text/latex": [
       "$\\displaystyle 0.760288902625791$"
      ],
      "text/plain": [
       "0.760288902625791"
      ]
     },
     "execution_count": 80,
     "metadata": {},
     "output_type": "execute_result"
    }
   ],
   "source": [
    "rho_q.subs({ps[0]: pvals[0], ps[1]: pvals[1], ps[2]: pvals[2], ps[3]: pvals[3],\n",
    "            ps[4]: pvals[4], ps[5]: pvals[5], ps[6]: pvals[6], ps[7]: pvals[7],\n",
    "            qs[0]: qvals[0], qs[1]: qvals[1], qs[2]: qvals[2], qs[3]: qvals[3],\n",
    "            qs[4]: qvals[4], qs[5]: qvals[5], qs[6]: qvals[6], qs[7]: qvals[7]})"
   ]
  },
  {
   "cell_type": "code",
   "execution_count": 81,
   "id": "5d3db6a9",
   "metadata": {},
   "outputs": [],
   "source": [
    "cc_cd_indices = list(np.arange(0, 64, 4)) + list(np.arange(2, 64, 4))"
   ]
  },
  {
   "cell_type": "code",
   "execution_count": 82,
   "id": "59b89b8a",
   "metadata": {},
   "outputs": [
    {
     "data": {
      "text/plain": [
       "[2, 6, 10, 14, 18, 22, 26, 30, 34, 38, 42, 46, 50, 54, 58, 62]"
      ]
     },
     "execution_count": 82,
     "metadata": {},
     "output_type": "execute_result"
    }
   ],
   "source": [
    "list(np.arange(2, 64, 4))"
   ]
  },
  {
   "cell_type": "code",
   "execution_count": 83,
   "id": "d4b3e91d",
   "metadata": {},
   "outputs": [
    {
     "data": {
      "text/plain": [
       "32"
      ]
     },
     "execution_count": 83,
     "metadata": {},
     "output_type": "execute_result"
    }
   ],
   "source": [
    "len(cc_cd_indices)"
   ]
  },
  {
   "cell_type": "code",
   "execution_count": 84,
   "id": "84825070",
   "metadata": {},
   "outputs": [
    {
     "data": {
      "text/plain": [
       "0.6352710472339567"
      ]
     },
     "execution_count": 84,
     "metadata": {},
     "output_type": "execute_result"
    }
   ],
   "source": [
    "sum([ss3[i] for i in cc_cd_indices])"
   ]
  },
  {
   "cell_type": "markdown",
   "id": "a24d88e6",
   "metadata": {},
   "source": [
    "**Checking condition**"
   ]
  },
  {
   "cell_type": "code",
   "execution_count": 230,
   "id": "cc7739cf",
   "metadata": {},
   "outputs": [],
   "source": [
    "def transformed_matrix(coplayer, analytical=False):\n",
    "    \n",
    "    if analytical == False:\n",
    "    \n",
    "        return np.array([[coplayer[0], (1 - coplayer[0]), 0, 0, 0, 0, 0, 0],\n",
    "                        [0, 0, coplayer[1], (1 - coplayer[1]), 0, 0, 0, 0],\n",
    "                        [0, 0, 0, 0, coplayer[2], (1 - coplayer[2]), 0, 0],\n",
    "                        [0, 0, 0, 0, 0, 0, coplayer[3], (1 - coplayer[3])],\n",
    "                        [coplayer[4], (1 - coplayer[4]), 0, 0, 0, 0, 0, 0],\n",
    "                        [0, 0, coplayer[5], (1 - coplayer[5]), 0, 0, 0, 0],\n",
    "                        [0, 0, 0, 0, coplayer[6], (1 - coplayer[6]), 0, 0],\n",
    "                        [0, 0, 0, 0, 0, 0, coplayer[7], (1 - coplayer[7])]])\n",
    "    \n",
    "    if analytical == True:\n",
    "\n",
    "        return sym.Matrix([[coplayer[0], (1 - coplayer[0]), 0, 0, 0, 0, 0, 0],\n",
    "                        [0, 0, coplayer[1], (1 - coplayer[1]), 0, 0, 0, 0],\n",
    "                        [0, 0, 0, 0, coplayer[2], (1 - coplayer[2]), 0, 0],\n",
    "                        [0, 0, 0, 0, 0, 0, coplayer[3], (1 - coplayer[3])],\n",
    "                        [coplayer[4], (1 - coplayer[4]), 0, 0, 0, 0, 0, 0],\n",
    "                        [0, 0, coplayer[5], (1 - coplayer[5]), 0, 0, 0, 0],\n",
    "                        [0, 0, 0, 0, coplayer[6], (1 - coplayer[6]), 0, 0],\n",
    "                        [0, 0, 0, 0, 0, 0, coplayer[7], (1 - coplayer[7])]])"
   ]
  },
  {
   "cell_type": "code",
   "execution_count": 285,
   "id": "da1f1f0f",
   "metadata": {},
   "outputs": [],
   "source": [
    "# def calc_payoffs_transformed(coplayer, player, analytical=False):\n",
    "    \n",
    "#     trM = transformed_matrix(coplayer, analytical)\n",
    "\n",
    "#     trss = invariant_distribution_analytically(trM)\n",
    "    \n",
    "#     rho_p = sum([player[i] * trM[i] for i in range(16)])\n",
    "    \n",
    "#     rho_q = trss[0] + trss[1] + trss[4] + trss[5]\n",
    "    \n",
    "#     payoffs_transformed = b * rho_p - c * rho_q\n",
    "    \n",
    "#     return payoffs_transformed.factor()"
   ]
  },
  {
   "cell_type": "markdown",
   "id": "3618042f",
   "metadata": {},
   "source": [
    "**Checking Delayed Alternator**"
   ]
  },
  {
   "cell_type": "code",
   "execution_count": 787,
   "id": "d9a7af23",
   "metadata": {},
   "outputs": [],
   "source": [
    "import itertools "
   ]
  },
  {
   "cell_type": "code",
   "execution_count": 788,
   "id": "875aa271",
   "metadata": {},
   "outputs": [],
   "source": [
    "qs = sym.symbols(\"q1:9\")\n",
    "ps = sym.symbols(\"p1:9\")\n",
    "\n",
    "b, c = sym.symbols(\"b, c\")"
   ]
  },
  {
   "cell_type": "code",
   "execution_count": 789,
   "id": "73bac156",
   "metadata": {},
   "outputs": [],
   "source": [
    "M = sym.Matrix([[qs[0], (1 - qs[0]), 0, 0, 0, 0, 0, 0],\n",
    "                [0, 0, qs[1], (1 - qs[1]), 0, 0, 0, 0],\n",
    "                [0, 0, 0, 0, qs[2], (1 - qs[2]), 0, 0],\n",
    "                [0, 0, 0, 0, 0, 0, qs[3], (1 - qs[3])],\n",
    "                [qs[4], (1 - qs[4]), 0, 0, 0, 0, 0, 0],\n",
    "                [0, 0, qs[5], (1 - qs[5]), 0, 0, 0, 0],\n",
    "                [0, 0, 0, 0, qs[6], (1 - qs[6]), 0, 0],\n",
    "                [0, 0, 0, 0, 0, 0, qs[7], (1 - qs[7])]])"
   ]
  },
  {
   "cell_type": "code",
   "execution_count": 790,
   "id": "dfa35313",
   "metadata": {},
   "outputs": [],
   "source": [
    "ss = main.invariant_distribution_analytically(M)"
   ]
  },
  {
   "cell_type": "code",
   "execution_count": 807,
   "id": "9d50b8de",
   "metadata": {},
   "outputs": [
    {
     "data": {
      "text/plain": [
       "[0]"
      ]
     },
     "execution_count": 807,
     "metadata": {},
     "output_type": "execute_result"
    }
   ],
   "source": [
    "[(ss[7] - ss[i]).factor() for i in range(7, 8)]"
   ]
  },
  {
   "cell_type": "code",
   "execution_count": 809,
   "id": "9e4dbf85",
   "metadata": {},
   "outputs": [
    {
     "data": {
      "text/latex": [
       "$\\displaystyle \\frac{q_{8} \\left(q_{1} - 1\\right) \\left(q_{2} q_{3} - q_{6} q_{7} + q_{6} + q_{7} - 1\\right)}{q_{1} q_{2} q_{3} q_{4} - 3 q_{1} q_{2} q_{3} q_{8} - q_{1} q_{2} q_{3} + 2 q_{1} q_{2} q_{7} q_{8} - q_{1} q_{3} q_{4} q_{6} + 4 q_{1} q_{3} q_{6} q_{8} + q_{1} q_{3} q_{6} + q_{1} q_{4} q_{6} - q_{1} q_{4} - 3 q_{1} q_{6} q_{7} q_{8} - q_{1} q_{6} q_{8} - q_{1} q_{6} + q_{1} q_{7} q_{8} + 3 q_{1} q_{8} + q_{1} - q_{2} q_{3} q_{4} + 3 q_{2} q_{3} q_{8} + q_{2} q_{3} - 2 q_{2} q_{7} q_{8} + q_{3} q_{4} q_{6} - q_{3} q_{5} q_{6} q_{8} - 4 q_{3} q_{6} q_{8} - q_{3} q_{6} - q_{4} q_{6} + q_{4} + q_{5} q_{6} q_{7} q_{8} - q_{5} q_{7} q_{8} + 3 q_{6} q_{7} q_{8} + q_{6} q_{8} + q_{6} - q_{7} q_{8} - 3 q_{8} - 1}$"
      ],
      "text/plain": [
       "q8*(q1 - 1)*(q2*q3 - q6*q7 + q6 + q7 - 1)/(q1*q2*q3*q4 - 3*q1*q2*q3*q8 - q1*q2*q3 + 2*q1*q2*q7*q8 - q1*q3*q4*q6 + 4*q1*q3*q6*q8 + q1*q3*q6 + q1*q4*q6 - q1*q4 - 3*q1*q6*q7*q8 - q1*q6*q8 - q1*q6 + q1*q7*q8 + 3*q1*q8 + q1 - q2*q3*q4 + 3*q2*q3*q8 + q2*q3 - 2*q2*q7*q8 + q3*q4*q6 - q3*q5*q6*q8 - 4*q3*q6*q8 - q3*q6 - q4*q6 + q4 + q5*q6*q7*q8 - q5*q7*q8 + 3*q6*q7*q8 + q6*q8 + q6 - q7*q8 - 3*q8 - 1)"
      ]
     },
     "execution_count": 809,
     "metadata": {},
     "output_type": "execute_result"
    }
   ],
   "source": [
    "(ss[2] - ss[5]).factor()"
   ]
  },
  {
   "cell_type": "code",
   "execution_count": 262,
   "id": "1139d9d4",
   "metadata": {},
   "outputs": [],
   "source": [
    "action_history_map = {\"CCC\": 0,\n",
    "                      \"CCD\": 1,\n",
    "                      \"CDC\": 2,\n",
    "                      \"CDD\": 3,\n",
    "                      \"DCC\": 4,\n",
    "                      \"DCD\": 5,\n",
    "                      \"DDC\": 6,\n",
    "                      \"DDD\": 7\n",
    "                      }"
   ]
  },
  {
   "cell_type": "code",
   "execution_count": 263,
   "id": "550ca825",
   "metadata": {},
   "outputs": [],
   "source": [
    "history_space = list(itertools.product(\"CD\", repeat=6))"
   ]
  },
  {
   "cell_type": "code",
   "execution_count": 264,
   "id": "687c300f",
   "metadata": {},
   "outputs": [],
   "source": [
    "self_reactive_idx = [action_history_map[\"\".join([h[i] for i in [0, 2, 4]])] for h in history_space]"
   ]
  },
  {
   "cell_type": "code",
   "execution_count": 265,
   "id": "088f6741",
   "metadata": {},
   "outputs": [],
   "source": [
    "reactive_idx = [action_history_map[\"\".join([h[i] for i in [1, 3, 5]])] for h in history_space]"
   ]
  },
  {
   "cell_type": "code",
   "execution_count": 266,
   "id": "8a433ccd",
   "metadata": {},
   "outputs": [],
   "source": [
    "delayed_alternator = np.random.random(8) # [0, 0, 0, 0, 1, 1, 1, 1]"
   ]
  },
  {
   "cell_type": "code",
   "execution_count": 267,
   "id": "3eb34e4f",
   "metadata": {},
   "outputs": [],
   "source": [
    "delayed_alternator_3bit = [delayed_alternator[i] for i in self_reactive_idx]"
   ]
  },
  {
   "cell_type": "code",
   "execution_count": 268,
   "id": "a285f798",
   "metadata": {},
   "outputs": [],
   "source": [
    "tft = np.random.random(8) # #[1, 1, 1, 1, 1, 1, 1, 1]"
   ]
  },
  {
   "cell_type": "code",
   "execution_count": 269,
   "id": "8656ccd0",
   "metadata": {},
   "outputs": [],
   "source": [
    "cooperator = [tft[i] for i in reactive_idx]"
   ]
  },
  {
   "cell_type": "code",
   "execution_count": 270,
   "id": "1a4c2cda",
   "metadata": {},
   "outputs": [],
   "source": [
    "M3 = three.calculate_M_memory_three(cooperator , delayed_alternator_3bit)"
   ]
  },
  {
   "cell_type": "code",
   "execution_count": 271,
   "id": "fc2a8f22",
   "metadata": {},
   "outputs": [],
   "source": [
    "ss3 = main.invariant_distribution(M3)"
   ]
  },
  {
   "cell_type": "code",
   "execution_count": 272,
   "id": "5ee3038e",
   "metadata": {},
   "outputs": [
    {
     "data": {
      "text/plain": [
       "0.6322774094990237"
      ]
     },
     "execution_count": 272,
     "metadata": {},
     "output_type": "execute_result"
    }
   ],
   "source": [
    "sum([ss3[i] for i in cc_indices]) + sum([ss3[i] for i in dc_indices])"
   ]
  },
  {
   "cell_type": "code",
   "execution_count": 273,
   "id": "3897cd2d",
   "metadata": {},
   "outputs": [],
   "source": [
    "trM = transformed_matrix(delayed_alternator)"
   ]
  },
  {
   "cell_type": "code",
   "execution_count": 274,
   "id": "607c6494",
   "metadata": {},
   "outputs": [],
   "source": [
    "trss = main.invariant_distribution(trM)"
   ]
  },
  {
   "cell_type": "code",
   "execution_count": 275,
   "id": "5b5c85ec",
   "metadata": {},
   "outputs": [
    {
     "data": {
      "text/plain": [
       "0.6322774094990207"
      ]
     },
     "execution_count": 275,
     "metadata": {},
     "output_type": "execute_result"
    }
   ],
   "source": [
    "rho_q = trss[0] + trss[1] + trss[4] + trss[5]\n",
    "\n",
    "rho_q"
   ]
  },
  {
   "cell_type": "code",
   "execution_count": 276,
   "id": "d4522dcf",
   "metadata": {},
   "outputs": [
    {
     "data": {
      "text/latex": [
       "$\\displaystyle 0.632277409499021$"
      ],
      "text/plain": [
       "0.632277409499021"
      ]
     },
     "execution_count": 276,
     "metadata": {},
     "output_type": "execute_result"
    }
   ],
   "source": [
    "sum([ss[i].subs({qs[0]: delayed_alternator[0], qs[1]: delayed_alternator[1],\n",
    "             qs[2]: delayed_alternator[2], qs[3]: delayed_alternator[3],\n",
    "             qs[4]: delayed_alternator[4], qs[5]: delayed_alternator[5],\n",
    "             qs[6]: delayed_alternator[6], qs[7]: delayed_alternator[7]}) for i in [0, 1, 4, 5]])"
   ]
  },
  {
   "cell_type": "code",
   "execution_count": 277,
   "id": "1b4612de",
   "metadata": {},
   "outputs": [
    {
     "data": {
      "text/plain": [
       "0.45236876563056905"
      ]
     },
     "execution_count": 277,
     "metadata": {},
     "output_type": "execute_result"
    }
   ],
   "source": [
    "sum([ss3[i] for i in cc_indices]) + sum([ss3[i] for i in cd_indices])"
   ]
  },
  {
   "cell_type": "code",
   "execution_count": 278,
   "id": "4b499a3a",
   "metadata": {},
   "outputs": [
    {
     "data": {
      "text/plain": [
       "0.45236876563056566"
      ]
     },
     "execution_count": 278,
     "metadata": {},
     "output_type": "execute_result"
    }
   ],
   "source": [
    "rho_p = sum([trss[i] * tft[i] for i in range(8)])\n",
    "\n",
    "rho_p"
   ]
  },
  {
   "cell_type": "code",
   "execution_count": 279,
   "id": "db37f01d",
   "metadata": {},
   "outputs": [
    {
     "data": {
      "text/plain": [
       "0.40609302668373914"
      ]
     },
     "execution_count": 279,
     "metadata": {},
     "output_type": "execute_result"
    }
   ],
   "source": [
    "ss3 @ np.array([1 - .5, -.5, 1, 0] * 16)"
   ]
  },
  {
   "cell_type": "code",
   "execution_count": 280,
   "id": "166ac87b",
   "metadata": {},
   "outputs": [
    {
     "data": {
      "text/plain": [
       "0.4060930266837378"
      ]
     },
     "execution_count": 280,
     "metadata": {},
     "output_type": "execute_result"
    }
   ],
   "source": [
    "1 * rho_q - .5 * rho_p"
   ]
  },
  {
   "cell_type": "markdown",
   "id": "42494d24",
   "metadata": {},
   "source": [
    "**Loop**"
   ]
  },
  {
   "cell_type": "code",
   "execution_count": 281,
   "id": "1536eb11",
   "metadata": {},
   "outputs": [],
   "source": [
    "bval, cval = 1, .5\n",
    "\n",
    "for seed in range(100):\n",
    "\n",
    "    np.random.seed(seed)\n",
    "\n",
    "    qvals = np.random.random(8)\n",
    "    pvals = np.random.random(8)\n",
    "    \n",
    "    coplayer_3bit = [qvals[i] for i in self_reactive_idx]\n",
    "    \n",
    "    player_3bit = [pvals[i] for i in reactive_idx]\n",
    "    \n",
    "    M3 = three.calculate_M_memory_three(player_3bit, coplayer_3bit)\n",
    "    \n",
    "    ss3 = main.invariant_distribution(M3)\n",
    "    \n",
    "    trM = transformed_matrix(qvals)\n",
    "    \n",
    "    trss = main.invariant_distribution(trM)\n",
    "    \n",
    "    rho_q = trss[0] + trss[1] + trss[4] + trss[5]\n",
    "    \n",
    "    rho_p = sum([trss[i] * pvals[i] for i in range(8)])\n",
    "    \n",
    "    assert np.isclose(ss3 @ np.array([bval - cval, -cval, bval, 0] * 16), bval * rho_q - cval * rho_p)"
   ]
  },
  {
   "cell_type": "markdown",
   "id": "f726b5c9",
   "metadata": {},
   "source": [
    "**Pure self reactive for $n=3$**"
   ]
  },
  {
   "cell_type": "code",
   "execution_count": 258,
   "id": "4bf23bbf",
   "metadata": {},
   "outputs": [],
   "source": [
    "pure_self_reactive = list(itertools.product([0, 1], repeat=8))"
   ]
  },
  {
   "cell_type": "code",
   "execution_count": 259,
   "id": "17b9ca1c",
   "metadata": {},
   "outputs": [
    {
     "data": {
      "text/plain": [
       "256"
      ]
     },
     "execution_count": 259,
     "metadata": {},
     "output_type": "execute_result"
    }
   ],
   "source": [
    "len(pure_self_reactive)"
   ]
  },
  {
   "cell_type": "code",
   "execution_count": 227,
   "id": "fc3856fd",
   "metadata": {},
   "outputs": [],
   "source": [
    "pure_self_reactive_minus_1 = list(itertools.product([0, 1], repeat=4))"
   ]
  },
  {
   "cell_type": "code",
   "execution_count": 304,
   "id": "bc50dc53",
   "metadata": {},
   "outputs": [
    {
     "data": {
      "text/plain": [
       "16"
      ]
     },
     "execution_count": 304,
     "metadata": {},
     "output_type": "execute_result"
    }
   ],
   "source": [
    "len(pure_self_reactive_minus_1)"
   ]
  },
  {
   "cell_type": "code",
   "execution_count": 229,
   "id": "4a82fd84",
   "metadata": {},
   "outputs": [
    {
     "data": {
      "text/plain": [
       "[0, 0, 0, 0, 0, 0, 0, 0]"
      ]
     },
     "execution_count": 229,
     "metadata": {},
     "output_type": "execute_result"
    }
   ],
   "source": [
    "list(pure_self_reactive_minus_1[0]) * 2"
   ]
  },
  {
   "cell_type": "code",
   "execution_count": 282,
   "id": "4cc2912b",
   "metadata": {},
   "outputs": [
    {
     "data": {
      "text/latex": [
       "$\\displaystyle \\left[\\begin{matrix}0 & 1 & 0 & 0 & 0 & 0 & 0 & 0\\\\0 & 0 & 0 & 1 & 0 & 0 & 0 & 0\\\\0 & 0 & 0 & 0 & 0 & 1 & 0 & 0\\\\0 & 0 & 0 & 0 & 0 & 0 & 0 & 1\\\\0 & 1 & 0 & 0 & 0 & 0 & 0 & 0\\\\0 & 0 & 0 & 1 & 0 & 0 & 0 & 0\\\\0 & 0 & 0 & 0 & 0 & 1 & 0 & 0\\\\0 & 0 & 0 & 0 & 0 & 0 & 0 & 1\\end{matrix}\\right]$"
      ],
      "text/plain": [
       "Matrix([\n",
       "[0, 1, 0, 0, 0, 0, 0, 0],\n",
       "[0, 0, 0, 1, 0, 0, 0, 0],\n",
       "[0, 0, 0, 0, 0, 1, 0, 0],\n",
       "[0, 0, 0, 0, 0, 0, 0, 1],\n",
       "[0, 1, 0, 0, 0, 0, 0, 0],\n",
       "[0, 0, 0, 1, 0, 0, 0, 0],\n",
       "[0, 0, 0, 0, 0, 1, 0, 0],\n",
       "[0, 0, 0, 0, 0, 0, 0, 1]])"
      ]
     },
     "execution_count": 282,
     "metadata": {},
     "output_type": "execute_result"
    }
   ],
   "source": [
    "transformed_matrix(list(pure_self_reactive_minus_1[0]) * 2, analytical=True)"
   ]
  },
  {
   "cell_type": "code",
   "execution_count": 387,
   "id": "5366e655",
   "metadata": {},
   "outputs": [],
   "source": [
    "def multiple_stationaries(M):\n",
    "    stationaries = []\n",
    "\n",
    "    eigenvalues, eigenvectors = np.linalg.eig(M.T)\n",
    "\n",
    "    for index in np.where(np.isclose(eigenvalues, 1))[0]:\n",
    "\n",
    "        eigenvectors_one = eigenvectors[:, index]\n",
    "\n",
    "        stationary = eigenvectors_one / eigenvectors_one.sum()\n",
    "\n",
    "\n",
    "        stationaries.append(stationary.real)\n",
    "        \n",
    "    return stationaries"
   ]
  },
  {
   "cell_type": "code",
   "execution_count": 457,
   "id": "ce7637ed",
   "metadata": {},
   "outputs": [
    {
     "data": {
      "text/plain": [
       "[(0, 0, 0, 0),\n",
       " (0, 0, 0, 1),\n",
       " (0, 0, 1, 0),\n",
       " (0, 0, 1, 1),\n",
       " (0, 1, 0, 0),\n",
       " (0, 1, 0, 1),\n",
       " (0, 1, 1, 0),\n",
       " (0, 1, 1, 1),\n",
       " (1, 0, 0, 0),\n",
       " (1, 0, 0, 1),\n",
       " (1, 0, 1, 0),\n",
       " (1, 0, 1, 1),\n",
       " (1, 1, 0, 0),\n",
       " (1, 1, 0, 1),\n",
       " (1, 1, 1, 0),\n",
       " (1, 1, 1, 1)]"
      ]
     },
     "execution_count": 457,
     "metadata": {},
     "output_type": "execute_result"
    }
   ],
   "source": [
    "pure_self_reactive_minus_1"
   ]
  },
  {
   "cell_type": "code",
   "execution_count": 624,
   "id": "affd09dd",
   "metadata": {},
   "outputs": [
    {
     "data": {
      "text/plain": [
       "(0, 1, 1, 0)"
      ]
     },
     "execution_count": 624,
     "metadata": {},
     "output_type": "execute_result"
    }
   ],
   "source": [
    "pure_self_reactive_minus_1[6]"
   ]
  },
  {
   "cell_type": "code",
   "execution_count": 774,
   "id": "e43de808",
   "metadata": {},
   "outputs": [],
   "source": [
    "M = transformed_matrix(list(pure_self_reactive_minus_1[15]) * 2, analytical=False)"
   ]
  },
  {
   "cell_type": "code",
   "execution_count": 775,
   "id": "3a9e95cb",
   "metadata": {},
   "outputs": [
    {
     "data": {
      "text/plain": [
       "1"
      ]
     },
     "execution_count": 775,
     "metadata": {},
     "output_type": "execute_result"
    }
   ],
   "source": [
    "len(multiple_stationaries(M))"
   ]
  },
  {
   "cell_type": "code",
   "execution_count": 779,
   "id": "54a75bb2",
   "metadata": {},
   "outputs": [],
   "source": [
    "trss = multiple_stationaries(M)[0]"
   ]
  },
  {
   "cell_type": "code",
   "execution_count": 780,
   "id": "3cc0e1a4",
   "metadata": {},
   "outputs": [],
   "source": [
    "# trss = main.invariant_distribution_analytically(M)"
   ]
  },
  {
   "cell_type": "code",
   "execution_count": 781,
   "id": "ec054d88",
   "metadata": {},
   "outputs": [],
   "source": [
    "rho_q = trss[0] + trss[1] + trss[4] + trss[5]"
   ]
  },
  {
   "cell_type": "code",
   "execution_count": 782,
   "id": "6e1d9e93",
   "metadata": {},
   "outputs": [],
   "source": [
    "rho_p = sum([trss[i] * ps[i] for i in range(8)])"
   ]
  },
  {
   "cell_type": "code",
   "execution_count": 783,
   "id": "c7d13318",
   "metadata": {},
   "outputs": [],
   "source": [
    "payoff = b * rho_p - c * rho_q\n",
    "\n",
    "payoff = payoff.factor()"
   ]
  },
  {
   "cell_type": "code",
   "execution_count": 784,
   "id": "955e839e",
   "metadata": {},
   "outputs": [
    {
     "data": {
      "text/latex": [
       "$\\displaystyle 1.0 \\left(b p_{1} - c\\right)$"
      ],
      "text/plain": [
       "1.0*(b*p1 - c)"
      ]
     },
     "execution_count": 784,
     "metadata": {},
     "output_type": "execute_result"
    }
   ],
   "source": [
    "payoff"
   ]
  },
  {
   "cell_type": "code",
   "execution_count": 785,
   "id": "e3077949",
   "metadata": {},
   "outputs": [
    {
     "data": {
      "text/latex": [
       "$\\displaystyle b \\left(1.0 p_{1} - 1\\right)$"
      ],
      "text/plain": [
       "b*(1.0*p1 - 1)"
      ]
     },
     "execution_count": 785,
     "metadata": {},
     "output_type": "execute_result"
    }
   ],
   "source": [
    "(payoff - (b - c)).simplify()"
   ]
  },
  {
   "cell_type": "code",
   "execution_count": 752,
   "id": "901cc172",
   "metadata": {},
   "outputs": [
    {
     "data": {
      "text/plain": [
       "[-p6 + 2.0 - c/b]"
      ]
     },
     "execution_count": 752,
     "metadata": {},
     "output_type": "execute_result"
    }
   ],
   "source": [
    "sym.solve(payoff - (b - c), ps[2])"
   ]
  },
  {
   "cell_type": "code",
   "execution_count": 648,
   "id": "1f0a1177",
   "metadata": {},
   "outputs": [
    {
     "data": {
      "text/latex": [
       "$\\displaystyle \\frac{b p_{2}}{3} + \\frac{b p_{3}}{3} + \\frac{b p_{5}}{3} - b + \\frac{c}{3}$"
      ],
      "text/plain": [
       "b*p2/3 + b*p3/3 + b*p5/3 - b + c/3"
      ]
     },
     "execution_count": 648,
     "metadata": {},
     "output_type": "execute_result"
    }
   ],
   "source": [
    "written = (b * ps[1] + b * ps[2] + b * ps[4] - 3 * b +  c) / 3\n",
    "\n",
    "written"
   ]
  },
  {
   "cell_type": "code",
   "execution_count": 626,
   "id": "16507f84",
   "metadata": {},
   "outputs": [
    {
     "data": {
      "text/latex": [
       "$\\displaystyle - 5.55111512312578 \\cdot 10^{-17} c$"
      ],
      "text/plain": [
       "-5.55111512312578e-17*c"
      ]
     },
     "execution_count": 626,
     "metadata": {},
     "output_type": "execute_result"
    }
   ],
   "source": [
    "(written - (payoff - (b - c)).simplify()).factor()"
   ]
  },
  {
   "cell_type": "code",
   "execution_count": 652,
   "id": "6ba452ad",
   "metadata": {},
   "outputs": [
    {
     "data": {
      "text/plain": [
       "[-p2 - p5 + 3.0 - c/b]"
      ]
     },
     "execution_count": 652,
     "metadata": {},
     "output_type": "execute_result"
    }
   ],
   "source": [
    "sym.solve(payoff - (b - c), ps[2])"
   ]
  },
  {
   "cell_type": "code",
   "execution_count": 786,
   "id": "5114f31f",
   "metadata": {
    "scrolled": true
   },
   "outputs": [
    {
     "data": {
      "text/latex": [
       "$\\displaystyle \\left[\\begin{matrix}0 & 0 & 0 & 0 & 0 & 0 & 0 & 1\\end{matrix}\\right]$"
      ],
      "text/plain": [
       "Matrix([[0, 0, 0, 0, 0, 0, 0, 1]])"
      ]
     },
     "execution_count": 786,
     "metadata": {},
     "output_type": "execute_result"
    }
   ],
   "source": [
    "ss"
   ]
  },
  {
   "cell_type": "markdown",
   "id": "03182870",
   "metadata": {},
   "source": [
    "**Writing Payoff Expressions to File**"
   ]
  },
  {
   "cell_type": "code",
   "execution_count": 953,
   "id": "81f4e2e0",
   "metadata": {},
   "outputs": [],
   "source": [
    "import tqdm"
   ]
  },
  {
   "cell_type": "code",
   "execution_count": 1000,
   "id": "be9370f1",
   "metadata": {},
   "outputs": [
    {
     "name": "stderr",
     "output_type": "stream",
     "text": [
      "256it [00:20, 12.57it/s]\n"
     ]
    }
   ],
   "source": [
    "for i, coplayer in tqdm.tqdm(enumerate(pure_self_reactive)):\n",
    "    \n",
    "    data = f\"N{i}\"\n",
    "    M = transformed_matrix(coplayer, analytical=False)\n",
    "    \n",
    "    stationaries = multiple_stationaries(M)\n",
    "    \n",
    "    for ss in stationaries:\n",
    "        \n",
    "        rho_q = ss[0] + ss[1] + ss[4] + ss[5]\n",
    "        \n",
    "        rho_p = sum([ss[i] * ps[i] for i in range(8)])\n",
    "        \n",
    "        \n",
    "        expression =  b * rho_p - c * rho_q\n",
    "        \n",
    "        expression = expression.subs({ps[0]: 1}).factor()\n",
    "        \n",
    "        data += f\", {expression}\"\n",
    "    \n",
    "    with open('three_bit_payoff_expression.txt', 'a') as the_file:\n",
    "        the_file.write(f'{data}\\n')"
   ]
  },
  {
   "cell_type": "code",
   "execution_count": 1,
   "id": "0b86f352",
   "metadata": {},
   "outputs": [],
   "source": [
    "file = open(\"three_bit_payoff_expression.txt\", 'r')\n",
    "\n",
    "payoffs = []\n",
    "\n",
    "for line in file:\n",
    "    expressions = line.split(\", \")[1:]\n",
    "    \n",
    "    for expression in expressions:\n",
    "        payoffs.append(expression.replace(\"\\n\", \"\"))"
   ]
  },
  {
   "cell_type": "code",
   "execution_count": 2,
   "id": "b8f789c0",
   "metadata": {},
   "outputs": [
    {
     "data": {
      "text/plain": [
       "15"
      ]
     },
     "execution_count": 2,
     "metadata": {},
     "output_type": "execute_result"
    }
   ],
   "source": [
    "len(set(payoffs))"
   ]
  },
  {
   "cell_type": "code",
   "execution_count": 161,
   "id": "7b90324b",
   "metadata": {},
   "outputs": [],
   "source": [
    "file = open(\"three_bit_payoff_table_index.txt\", 'r')\n",
    "\n",
    "list_ = []\n",
    "\n",
    "for line in file:\n",
    "    who = line.split(\", \")[0].replace(\"N\", \"\")\n",
    "    where = line.split(\", \")[1:]\n",
    "    where = [int(w) for w in where]\n",
    "    \n",
    "    if 15 in where:\n",
    "        list_.append(who)"
   ]
  },
  {
   "cell_type": "code",
   "execution_count": 165,
   "id": "3b3e242b",
   "metadata": {},
   "outputs": [
    {
     "data": {
      "text/plain": [
       "True"
      ]
     },
     "execution_count": 165,
     "metadata": {},
     "output_type": "execute_result"
    }
   ],
   "source": [
    "list_ == [f'{i}' for i in range(128, 256)]"
   ]
  },
  {
   "cell_type": "code",
   "execution_count": 54,
   "id": "c5ab17c2",
   "metadata": {},
   "outputs": [],
   "source": [
    "b, c, p2, p4, p5, p7, p8, p6, p3 = sym.symbols(\"b, c, p_2, p_4, p_5, p_7, p_8, p_6, p_3\")"
   ]
  },
  {
   "cell_type": "code",
   "execution_count": 157,
   "id": "cb07ace0",
   "metadata": {},
   "outputs": [
    {
     "data": {
      "text/latex": [
       "$\\displaystyle 0.25 b p_{2} + 0.25 b p_{3} + 0.25 b p_{5} + 0.25 b - 0.75 c$"
      ],
      "text/plain": [
       "0.25*b*p_2 + 0.25*b*p_3 + 0.25*b*p_5 + 0.25*b - 0.75*c"
      ]
     },
     "execution_count": 157,
     "metadata": {},
     "output_type": "execute_result"
    }
   ],
   "source": [
    "payoff =   0.75*(0.333333333333333*b*p2 + 0.333333333333333*b*p3 + 0.333333333333333*b*p5 + 0.333333333333333*b - 1.0*c)\n",
    "\n",
    "payoff"
   ]
  },
  {
   "cell_type": "code",
   "execution_count": 145,
   "id": "40af7e36",
   "metadata": {},
   "outputs": [
    {
     "data": {
      "text/plain": [
       "3.9999999999999964"
      ]
     },
     "execution_count": 145,
     "metadata": {},
     "output_type": "execute_result"
    }
   ],
   "source": [
    "0.571428571428571 * 7"
   ]
  },
  {
   "cell_type": "code",
   "execution_count": 203,
   "id": "d7066032",
   "metadata": {},
   "outputs": [],
   "source": [
    "written = (b * (p2 + p3 + p5 + 1) - 3 * c) / 4"
   ]
  },
  {
   "cell_type": "code",
   "execution_count": 204,
   "id": "92d8eb2a",
   "metadata": {},
   "outputs": [
    {
     "name": "stdout",
     "output_type": "stream",
     "text": [
      "p_{2} + p_{3} + p_{5}\\leq3 - \\frac{c}{b}\n"
     ]
    }
   ],
   "source": [
    "print(sym.latex(p2 + p3 + p5) + \"\\leq\" + sym.latex(sym.solve(written - (b - c), p2 + p3 + p5)[0]))"
   ]
  },
  {
   "cell_type": "code",
   "execution_count": 180,
   "id": "f9c2689c",
   "metadata": {},
   "outputs": [
    {
     "name": "stdout",
     "output_type": "stream",
     "text": [
      "2 - \\frac{c}{b}\n"
     ]
    }
   ],
   "source": []
  },
  {
   "cell_type": "code",
   "execution_count": 159,
   "id": "f1d526ba",
   "metadata": {},
   "outputs": [
    {
     "data": {
      "text/latex": [
       "$\\displaystyle 2.77555756156289 \\cdot 10^{-16} b \\left(1.0 p_{2} + 1.0 p_{3} + 1.0 p_{5} + 1.0\\right)$"
      ],
      "text/plain": [
       "2.77555756156289e-16*b*(1.0*p_2 + 1.0*p_3 + 1.0*p_5 + 1.0)"
      ]
     },
     "execution_count": 159,
     "metadata": {},
     "output_type": "execute_result"
    }
   ],
   "source": [
    "(written - payoff).factor()"
   ]
  },
  {
   "cell_type": "code",
   "execution_count": 160,
   "id": "451a338e",
   "metadata": {},
   "outputs": [
    {
     "name": "stdout",
     "output_type": "stream",
     "text": [
      "\\frac{b \\left(p_{2} + p_{3} + p_{5} + 1\\right)}{4} - \\frac{3 c}{4}\n"
     ]
    }
   ],
   "source": [
    "print(sym.latex(written))"
   ]
  },
  {
   "cell_type": "code",
   "execution_count": null,
   "id": "aa834a5e",
   "metadata": {},
   "outputs": [],
   "source": []
  }
 ],
 "metadata": {
  "kernelspec": {
   "display_name": "Python 3 (ipykernel)",
   "language": "python",
   "name": "python3"
  },
  "language_info": {
   "codemirror_mode": {
    "name": "ipython",
    "version": 3
   },
   "file_extension": ".py",
   "mimetype": "text/x-python",
   "name": "python",
   "nbconvert_exporter": "python",
   "pygments_lexer": "ipython3",
   "version": "3.9.13"
  }
 },
 "nbformat": 4,
 "nbformat_minor": 5
}
