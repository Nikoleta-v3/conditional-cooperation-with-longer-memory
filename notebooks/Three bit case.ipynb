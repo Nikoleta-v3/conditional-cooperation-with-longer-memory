{
 "cells": [
  {
   "cell_type": "code",
   "execution_count": 1,
   "id": "df6e5d41",
   "metadata": {},
   "outputs": [],
   "source": [
    "import numpy as np\n",
    "\n",
    "import itertools"
   ]
  },
  {
   "cell_type": "code",
   "execution_count": 2,
   "id": "92ea3c52",
   "metadata": {},
   "outputs": [],
   "source": [
    "import sympy as sym"
   ]
  },
  {
   "cell_type": "code",
   "execution_count": 3,
   "id": "2a0b8139",
   "metadata": {},
   "outputs": [],
   "source": [
    "import os\n",
    "\n",
    "os.chdir(\"..\")"
   ]
  },
  {
   "cell_type": "code",
   "execution_count": 4,
   "id": "077d07c0",
   "metadata": {},
   "outputs": [],
   "source": [
    "from importlib.machinery import SourceFileLoader\n",
    "\n",
    "main = SourceFileLoader(\"main\", \"src/main.py\").load_module()\n",
    "\n",
    "eq = SourceFileLoader(\"eq\", \"src/numerical_equilibria_n_bit_vs_n_bit.py\").load_module()\n",
    "\n",
    "three = SourceFileLoader(\"eq\", \"src/numerical_equilibria_three_bit.py\").load_module()"
   ]
  },
  {
   "cell_type": "code",
   "execution_count": 5,
   "id": "990b6f98",
   "metadata": {},
   "outputs": [],
   "source": [
    "ps = sym.symbols('p:16')"
   ]
  },
  {
   "cell_type": "code",
   "execution_count": 6,
   "id": "90c101bd",
   "metadata": {},
   "outputs": [],
   "source": [
    "qs = sym.symbols(\"q:4\")"
   ]
  },
  {
   "cell_type": "code",
   "execution_count": 7,
   "id": "f7cff95d",
   "metadata": {},
   "outputs": [],
   "source": [
    "player = [qs[0], qs[1], qs[0], qs[1], qs[2], qs[3], qs[2], qs[3],\n",
    "          qs[0], qs[1], qs[0], qs[1], qs[2], qs[3], qs[2], qs[3]]"
   ]
  },
  {
   "cell_type": "code",
   "execution_count": 8,
   "id": "67df676f",
   "metadata": {},
   "outputs": [],
   "source": [
    "M = eq.calculate_M_memory_two(player, ps, analytical=True)"
   ]
  },
  {
   "cell_type": "code",
   "execution_count": 9,
   "id": "57adb700",
   "metadata": {},
   "outputs": [
    {
     "data": {
      "text/plain": [
       "(16, 16)"
      ]
     },
     "execution_count": 9,
     "metadata": {},
     "output_type": "execute_result"
    }
   ],
   "source": [
    "M.shape"
   ]
  },
  {
   "cell_type": "code",
   "execution_count": 10,
   "id": "f15f0b8c",
   "metadata": {},
   "outputs": [
    {
     "data": {
      "text/plain": [
       "9"
      ]
     },
     "execution_count": 10,
     "metadata": {},
     "output_type": "execute_result"
    }
   ],
   "source": [
    "3 ** 2"
   ]
  },
  {
   "cell_type": "code",
   "execution_count": 11,
   "id": "8dec7bff",
   "metadata": {},
   "outputs": [
    {
     "data": {
      "text/plain": [
       "[('C', 'C', 'C'),\n",
       " ('C', 'C', 'D'),\n",
       " ('C', 'D', 'C'),\n",
       " ('C', 'D', 'D'),\n",
       " ('D', 'C', 'C'),\n",
       " ('D', 'C', 'D'),\n",
       " ('D', 'D', 'C'),\n",
       " ('D', 'D', 'D')]"
      ]
     },
     "execution_count": 11,
     "metadata": {},
     "output_type": "execute_result"
    }
   ],
   "source": [
    "list(itertools.product(\"CD\", repeat=3))"
   ]
  },
  {
   "cell_type": "code",
   "execution_count": 12,
   "id": "5996810a",
   "metadata": {},
   "outputs": [
    {
     "data": {
      "text/plain": [
       "array([0.50568527, 0.96548536, 0.53825977, 0.64405156, 0.4613512 ,\n",
       "       0.95744138, 0.3797352 , 0.01869092, 0.00338798, 0.29801969,\n",
       "       0.9027471 , 0.0981982 , 0.81538866, 0.0626463 , 0.32708357,\n",
       "       0.05442464, 0.37470524, 0.09538295, 0.96415455, 0.05301749,\n",
       "       0.09668051, 0.63135853, 0.95256056, 0.12840731, 0.76627356,\n",
       "       0.8466269 , 0.52731776, 0.07642442, 0.45706041, 0.06352482,\n",
       "       0.42095166, 0.18558706])"
      ]
     },
     "execution_count": 12,
     "metadata": {},
     "output_type": "execute_result"
    }
   ],
   "source": [
    "np.random.random(32)"
   ]
  },
  {
   "cell_type": "code",
   "execution_count": 13,
   "id": "e6287cfb",
   "metadata": {},
   "outputs": [
    {
     "ename": "NameError",
     "evalue": "name 'transition_matrix' is not defined",
     "output_type": "error",
     "traceback": [
      "\u001b[0;31m---------------------------------------------------------------------------\u001b[0m",
      "\u001b[0;31mNameError\u001b[0m                                 Traceback (most recent call last)",
      "\u001b[0;32m<ipython-input-13-56f96d0c9c8f>\u001b[0m in \u001b[0;36m<module>\u001b[0;34m\u001b[0m\n\u001b[0;32m----> 1\u001b[0;31m \u001b[0mM1\u001b[0m \u001b[0;34m=\u001b[0m \u001b[0mtransition_matrix\u001b[0m\u001b[0;34m(\u001b[0m\u001b[0msym\u001b[0m\u001b[0;34m.\u001b[0m\u001b[0msymbols\u001b[0m\u001b[0;34m(\u001b[0m\u001b[0;34m\"p:8\"\u001b[0m\u001b[0;34m)\u001b[0m\u001b[0;34m,\u001b[0m \u001b[0msym\u001b[0m\u001b[0;34m.\u001b[0m\u001b[0msymbols\u001b[0m\u001b[0;34m(\u001b[0m\u001b[0;34m\"q:8\"\u001b[0m\u001b[0;34m)\u001b[0m\u001b[0;34m,\u001b[0m \u001b[0mbits\u001b[0m\u001b[0;34m=\u001b[0m\u001b[0;36m8\u001b[0m\u001b[0;34m,\u001b[0m \u001b[0manalytical\u001b[0m\u001b[0;34m=\u001b[0m\u001b[0;32mTrue\u001b[0m\u001b[0;34m)\u001b[0m\u001b[0;34m\u001b[0m\u001b[0;34m\u001b[0m\u001b[0m\n\u001b[0m\u001b[1;32m      2\u001b[0m \u001b[0;34m\u001b[0m\u001b[0m\n\u001b[1;32m      3\u001b[0m \u001b[0;31m# M2 = eq.calculate_M_memory_two([1, 1, 1, 1, 0, 1, 0, 1, 1, 1, 1, 1, 0, 1, 0, 1],\u001b[0m\u001b[0;34m\u001b[0m\u001b[0;34m\u001b[0m\u001b[0;34m\u001b[0m\u001b[0m\n\u001b[1;32m      4\u001b[0m \u001b[0;31m#                                [0, 1, 0, 1, 0, 0, 0, 0, 0, 1, 0, 1, 0, 0, 0, 0], analytical=False)\u001b[0m\u001b[0;34m\u001b[0m\u001b[0;34m\u001b[0m\u001b[0;34m\u001b[0m\u001b[0m\n",
      "\u001b[0;31mNameError\u001b[0m: name 'transition_matrix' is not defined"
     ]
    }
   ],
   "source": [
    "M1 = transition_matrix(sym.symbols(\"p:8\"), sym.symbols(\"q:8\"), bits=8, analytical=True)\n",
    "\n",
    "# M2 = eq.calculate_M_memory_two([1, 1, 1, 1, 0, 1, 0, 1, 1, 1, 1, 1, 0, 1, 0, 1],\n",
    "#                                [0, 1, 0, 1, 0, 0, 0, 0, 0, 1, 0, 1, 0, 0, 0, 0], analytical=False)"
   ]
  },
  {
   "cell_type": "code",
   "execution_count": null,
   "id": "004c045d",
   "metadata": {},
   "outputs": [],
   "source": [
    "M1 == M1"
   ]
  },
  {
   "cell_type": "markdown",
   "id": "30225a6b",
   "metadata": {},
   "source": [
    "**Writing the markov**"
   ]
  },
  {
   "cell_type": "code",
   "execution_count": 176,
   "id": "b258501d",
   "metadata": {},
   "outputs": [],
   "source": [
    "def calculate_M_memory_three(player, coplayer, analytical=False):\n",
    "    \n",
    "    row_iterations = [range(16), range(16, 32), range(32, 48), range(48, 64)]\n",
    "\n",
    "    column_iterations = np.linspace(0, 63, 64).reshape(16, 4)\n",
    "    \n",
    "    if analytical == False:\n",
    "        M = np.zeros((64, 64))\n",
    "    \n",
    "    elif analytical == True:\n",
    "        M = sym.zeros(64, 64)\n",
    "        \n",
    "    player_probabilities = np.linspace(0, 63, 64).reshape(16, 4)\n",
    "    coplayer_probabilities = np.linspace(0, 63, 64).reshape(16, 4)\n",
    "    \n",
    "    # adjusting co-player\n",
    "    \n",
    "    coplayer_probabilities[[1, 2]] = coplayer_probabilities[[2, 1]]\n",
    "    \n",
    "    coplayer_probabilities[[4, 8]] = coplayer_probabilities[[8, 4]]\n",
    "    coplayer_probabilities[[5, 10]] = coplayer_probabilities[[10, 5]]\n",
    "    coplayer_probabilities[[6, 9]] = coplayer_probabilities[[9, 6]]\n",
    "    coplayer_probabilities[[7, 11]] = coplayer_probabilities[[11, 7]]\n",
    "    \n",
    "    coplayer_probabilities[[13, 14]] = coplayer_probabilities[[14, 13]]\n",
    "    \n",
    "    coplayer_probabilities[:, [1, 2]] = coplayer_probabilities[:, [2, 1]]\n",
    "    \n",
    "    for row in row_iterations:\n",
    "        for i, irow in enumerate(row):\n",
    "            pi = int(player_probabilities.flatten()[irow])\n",
    "            qi = int(coplayer_probabilities.flatten()[irow])\n",
    "\n",
    "            p = player[pi]\n",
    "            q = coplayer[qi]\n",
    "\n",
    "            combos = [p * q, p * (1 - q), (1 - p) * q, (1 - p) * (1 - q)]\n",
    "\n",
    "            for j, column in enumerate(column_iterations[i, :]):\n",
    "                M[irow, int(column)] = combos[j]\n",
    "    return M"
   ]
  },
  {
   "cell_type": "code",
   "execution_count": 169,
   "id": "f09784df",
   "metadata": {},
   "outputs": [],
   "source": [
    "ps = sym.symbols(\"p:8\")\n",
    "\n",
    "qs = sym.symbols(\"q:8\")\n",
    "\n",
    "player = [ps[0], ps[1], ps[0], ps[1], ps[2], ps[3], ps[2], ps[3],\n",
    "          ps[0], ps[1], ps[0], ps[1], ps[2], ps[3], ps[2], ps[3],\n",
    "          ps[4], ps[5], ps[4], ps[5], ps[6], ps[7], ps[6], ps[7],\n",
    "          ps[4], ps[5], ps[4], ps[5], ps[6], ps[7], ps[6], ps[7],\n",
    "          ps[0], ps[1], ps[0], ps[1], ps[2], ps[3], ps[2], ps[3],\n",
    "          ps[0], ps[1], ps[0], ps[1], ps[2], ps[3], ps[2], ps[3],\n",
    "          ps[4], ps[5], ps[4], ps[5], ps[6], ps[7], ps[6], ps[7],\n",
    "          ps[4], ps[5], ps[4], ps[5], ps[6], ps[7], ps[6], ps[7],\n",
    "         ]\n",
    "\n",
    "coplayer = [qs[0], qs[1], qs[0], qs[1], qs[2], qs[3], qs[2], qs[3],\n",
    "          qs[0], qs[1], qs[0], qs[1], qs[2], qs[3], qs[2], qs[3],\n",
    "          qs[4], qs[5], qs[4], qs[5], qs[6], qs[7], qs[6], qs[7],\n",
    "          qs[4], qs[5], qs[4], qs[5], qs[6], qs[7], qs[6], qs[7],\n",
    "          qs[0], qs[1], qs[0], qs[1], qs[2], qs[3], qs[2], qs[3],\n",
    "          qs[0], qs[1], qs[0], qs[1], qs[2], qs[3], qs[2], qs[3],\n",
    "          qs[4], qs[5], qs[4], qs[5], qs[6], qs[7], qs[6], qs[7],\n",
    "          qs[4], qs[5], qs[4], qs[5], qs[6], qs[7], qs[6], qs[7],\n",
    "         ]"
   ]
  },
  {
   "cell_type": "code",
   "execution_count": 177,
   "id": "4f536a52",
   "metadata": {},
   "outputs": [],
   "source": [
    "M = calculate_M_memory_three(player, coplayer, analytical=True)"
   ]
  },
  {
   "cell_type": "code",
   "execution_count": 178,
   "id": "8ff64d50",
   "metadata": {},
   "outputs": [
    {
     "data": {
      "text/plain": [
       "True"
      ]
     },
     "execution_count": 178,
     "metadata": {},
     "output_type": "execute_result"
    }
   ],
   "source": [
    "M1 == M"
   ]
  },
  {
   "cell_type": "markdown",
   "id": "f49f6e21",
   "metadata": {},
   "source": [
    "**Test function: Alternator vs 2-bit reactive**"
   ]
  },
  {
   "cell_type": "markdown",
   "id": "957fdc1d",
   "metadata": {},
   "source": [
    "In the three bit space:\n",
    "    \n",
    "- $p_1=$ cooperation probability given CCC \n",
    "- $p_2=$ cooperation probability given CCD \n",
    "- $p_3=$ cooperation probability given CDC \n",
    "- $p_4=$ cooperation probability given CDD \n",
    "- $p_5=$ cooperation probability given DCC \n",
    "- $p_6=$ cooperation probability given DCD \n",
    "- $p_7=$ cooperation probability given DDC \n",
    "- $p_8=$ cooperation probability given DDD \n",
    "\n",
    "To transform the above to a two bit reactive we must ignore the third to last round. So:\n",
    "\n",
    "- $p_1 = p_5$\n",
    "- $p_2 = p_6$\n",
    "- $p_3 = p_7$\n",
    "- $p_4 = p_8$"
   ]
  },
  {
   "cell_type": "markdown",
   "id": "10a300e9",
   "metadata": {},
   "source": [
    "Let co-player play as Alternator."
   ]
  },
  {
   "cell_type": "code",
   "execution_count": 186,
   "id": "92cc0d95",
   "metadata": {},
   "outputs": [],
   "source": [
    "Alternator_in_three = [0, 0, 1, 1] * 16\n",
    "\n",
    "Alternator_in_two = [0, 0, 1, 1] * 4"
   ]
  },
  {
   "cell_type": "code",
   "execution_count": 199,
   "id": "04e4c745",
   "metadata": {},
   "outputs": [],
   "source": [
    "b, c = 7, 3\n",
    "\n",
    "for i in range(100):\n",
    "\n",
    "    np.random.seed(i)\n",
    "    \n",
    "    random_player = list(np.random.random(4)) * 2\n",
    "    \n",
    "    \n",
    "    player_in_two = [random_player[0], random_player[1], random_player[0], random_player[1],\n",
    "                     random_player[2], random_player[3], random_player[2], random_player[3]] * 2\n",
    "    \n",
    "    player_in_three = [random_player[0], random_player[1], random_player[0], random_player[1], random_player[2], random_player[3], random_player[2], random_player[3],\n",
    "                       random_player[0], random_player[1], random_player[0], random_player[1], random_player[2], random_player[3], random_player[2], random_player[3],\n",
    "                       random_player[4], random_player[5], random_player[4], random_player[5], random_player[6], random_player[7], random_player[6], random_player[7],\n",
    "                       random_player[4], random_player[5], random_player[4], random_player[5], random_player[6], random_player[7], random_player[6], random_player[7],\n",
    "                       random_player[0], random_player[1], random_player[0], random_player[1], random_player[2], random_player[3], random_player[2], random_player[3],\n",
    "                       random_player[0], random_player[1], random_player[0], random_player[1], random_player[2], random_player[3], random_player[2], random_player[3],\n",
    "                       random_player[4], random_player[5], random_player[4], random_player[5], random_player[6], random_player[7], random_player[6], random_player[7],\n",
    "                       random_player[4], random_player[5], random_player[4], random_player[5], random_player[6], random_player[7], random_player[6], random_player[7],\n",
    "                       ]\n",
    "\n",
    "    \n",
    "    M1 = eq.calculate_M_memory_two(player_in_two, Alternator_in_two, analytical=False)\n",
    "    \n",
    "    M2 = calculate_M_memory_three(player_in_three, Alternator_in_three, analytical=False)\n",
    "    \n",
    "    ss1, ss2 = main.invariant_distribution(M1), main.invariant_distribution(M2)\n",
    "    \n",
    "    payoff_one = ss1 @ np.array([b - c, -c, b, 0] * 4)\n",
    "    \n",
    "    payoff_two = ss2 @ np.array([b - c, -c, b, 0] * 16)\n",
    "    \n",
    "    assert np.isclose(payoff_one, payoff_two)"
   ]
  },
  {
   "cell_type": "code",
   "execution_count": 210,
   "id": "112ab0c3",
   "metadata": {},
   "outputs": [
    {
     "data": {
      "text/plain": [
       "64"
      ]
     },
     "execution_count": 210,
     "metadata": {},
     "output_type": "execute_result"
    }
   ],
   "source": [
    "len(eq.payoffs_donation(b, c, dim=16))"
   ]
  },
  {
   "cell_type": "code",
   "execution_count": 206,
   "id": "5fe11275",
   "metadata": {},
   "outputs": [],
   "source": [
    "deterministic_transititions = list(\n",
    "    itertools.product([0, 1], repeat=8)\n",
    ")\n"
   ]
  },
  {
   "cell_type": "code",
   "execution_count": null,
   "id": "4bd999c2",
   "metadata": {},
   "outputs": [],
   "source": [
    "deterministic_transititions = list(\n",
    "    itertools.product([0, 1], repeat=8)\n",
    ")\n",
    "\n",
    "\n",
    "for transition in deterministic_transititions:\n",
    "    \n",
    "    idx = [0, 0, 1, 1, 0, 0, 1, 1, 2, 2, 3, 3, 2, 2, 3, 3,\n",
    "           4, 4, 5, 5, 4, 4, 5, 5, 6, 6, 7, 7, 6, 6, 7, 7]\n",
    "\n",
    "    self_reactive = [transition[i] for i in idx] * 2\n",
    "    \n",
    "    deterministic_strategies.append(self_reactive)"
   ]
  },
  {
   "cell_type": "code",
   "execution_count": 207,
   "id": "83ea7a06",
   "metadata": {},
   "outputs": [
    {
     "data": {
      "text/plain": [
       "256"
      ]
     },
     "execution_count": 207,
     "metadata": {},
     "output_type": "execute_result"
    }
   ],
   "source": [
    "len(deterministic_transititions)"
   ]
  },
  {
   "cell_type": "code",
   "execution_count": 201,
   "id": "8a646852",
   "metadata": {},
   "outputs": [
    {
     "data": {
      "text/plain": [
       "64"
      ]
     },
     "execution_count": 201,
     "metadata": {},
     "output_type": "execute_result"
    }
   ],
   "source": [
    "len(strategy)"
   ]
  },
  {
   "cell_type": "markdown",
   "id": "53d6ef36",
   "metadata": {},
   "source": [
    "**Data**"
   ]
  },
  {
   "cell_type": "code",
   "execution_count": 254,
   "id": "58ea3c4a",
   "metadata": {},
   "outputs": [],
   "source": [
    "def seperate_equilibria_and_non(df):\n",
    "    \"\"\"A functions that takes a dataframe with points and seperates the\n",
    "    points are Nash and those that are not.\n",
    "    \n",
    "    Returns two dataframes.\"\"\"\n",
    "    per_player = df.groupby('ID')['condition A'].all()\n",
    "\n",
    "    eq_players_ID = per_player[per_player == True].index\n",
    "\n",
    "    noneq_players_ID = per_player[per_player == False].index\n",
    "    \n",
    "    return df[df['ID'].isin(eq_players_ID)], df[df['ID'].isin(noneq_players_ID)]"
   ]
  },
  {
   "cell_type": "code",
   "execution_count": 211,
   "id": "a3befb3a",
   "metadata": {},
   "outputs": [],
   "source": [
    "import glob as glob"
   ]
  },
  {
   "cell_type": "code",
   "execution_count": 263,
   "id": "df998c84",
   "metadata": {},
   "outputs": [],
   "source": [
    "import pandas as pd\n",
    "\n",
    "from collections import Counter"
   ]
  },
  {
   "cell_type": "code",
   "execution_count": 213,
   "id": "38cb5b2c",
   "metadata": {},
   "outputs": [],
   "source": [
    "files = glob.glob(\"data/three_bit_against_self_reactive_three/*\")"
   ]
  },
  {
   "cell_type": "code",
   "execution_count": 236,
   "id": "a5a8c012",
   "metadata": {},
   "outputs": [],
   "source": [
    "names = [\"ID\"] + [f\"p_{i}\" for i in range(1, 9)] + ['label', 'Sp', 'Sq', 'condition A', 'condition B', \"b\", \"c\"]"
   ]
  },
  {
   "cell_type": "code",
   "execution_count": 223,
   "id": "52529e91",
   "metadata": {},
   "outputs": [],
   "source": [
    "dfs = []\n",
    "\n",
    "for file in files:\n",
    "    \n",
    "    dfs.append(pd.read_csv(file, in names=names))"
   ]
  },
  {
   "cell_type": "code",
   "execution_count": 224,
   "id": "07475168",
   "metadata": {},
   "outputs": [],
   "source": [
    "df = pd.concat(dfs)"
   ]
  },
  {
   "cell_type": "code",
   "execution_count": 226,
   "id": "b32a5efa",
   "metadata": {},
   "outputs": [],
   "source": [
    "df = df.reset_index(drop=True)"
   ]
  },
  {
   "cell_type": "code",
   "execution_count": 237,
   "id": "f5736056",
   "metadata": {},
   "outputs": [],
   "source": [
    "df.columns = names"
   ]
  },
  {
   "cell_type": "markdown",
   "id": "3a0cbe86",
   "metadata": {},
   "source": [
    "### Eq and Not "
   ]
  },
  {
   "cell_type": "code",
   "execution_count": 255,
   "id": "0ab4fc8e",
   "metadata": {},
   "outputs": [],
   "source": [
    "eq, noneq = seperate_equilibria_and_non(df)"
   ]
  },
  {
   "cell_type": "code",
   "execution_count": 257,
   "id": "c62d7f27",
   "metadata": {},
   "outputs": [
    {
     "data": {
      "text/html": [
       "<div>\n",
       "<style scoped>\n",
       "    .dataframe tbody tr th:only-of-type {\n",
       "        vertical-align: middle;\n",
       "    }\n",
       "\n",
       "    .dataframe tbody tr th {\n",
       "        vertical-align: top;\n",
       "    }\n",
       "\n",
       "    .dataframe thead th {\n",
       "        text-align: right;\n",
       "    }\n",
       "</style>\n",
       "<table border=\"1\" class=\"dataframe\">\n",
       "  <thead>\n",
       "    <tr style=\"text-align: right;\">\n",
       "      <th></th>\n",
       "      <th>ID</th>\n",
       "      <th>p_1</th>\n",
       "      <th>p_2</th>\n",
       "      <th>p_3</th>\n",
       "      <th>p_4</th>\n",
       "      <th>p_5</th>\n",
       "      <th>p_6</th>\n",
       "      <th>p_7</th>\n",
       "      <th>p_8</th>\n",
       "      <th>label</th>\n",
       "      <th>Sp</th>\n",
       "      <th>Sq</th>\n",
       "      <th>condition A</th>\n",
       "      <th>condition B</th>\n",
       "      <th>b</th>\n",
       "      <th>c</th>\n",
       "    </tr>\n",
       "  </thead>\n",
       "  <tbody>\n",
       "    <tr>\n",
       "      <th>256</th>\n",
       "      <td>1337</td>\n",
       "      <td>1</td>\n",
       "      <td>0.15868</td>\n",
       "      <td>0.27813</td>\n",
       "      <td>0.45932</td>\n",
       "      <td>0.32100</td>\n",
       "      <td>0.51839</td>\n",
       "      <td>0.26194</td>\n",
       "      <td>0.97609</td>\n",
       "      <td>N0</td>\n",
       "      <td>1.0</td>\n",
       "      <td>1.952180</td>\n",
       "      <td>False</td>\n",
       "      <td>False</td>\n",
       "      <td>2</td>\n",
       "      <td>1</td>\n",
       "    </tr>\n",
       "    <tr>\n",
       "      <th>257</th>\n",
       "      <td>1337</td>\n",
       "      <td>1</td>\n",
       "      <td>0.15868</td>\n",
       "      <td>0.27813</td>\n",
       "      <td>0.45932</td>\n",
       "      <td>0.32100</td>\n",
       "      <td>0.51839</td>\n",
       "      <td>0.26194</td>\n",
       "      <td>0.97609</td>\n",
       "      <td>N1</td>\n",
       "      <td>1.0</td>\n",
       "      <td>1.309227</td>\n",
       "      <td>False</td>\n",
       "      <td>False</td>\n",
       "      <td>2</td>\n",
       "      <td>1</td>\n",
       "    </tr>\n",
       "    <tr>\n",
       "      <th>258</th>\n",
       "      <td>1337</td>\n",
       "      <td>1</td>\n",
       "      <td>0.15868</td>\n",
       "      <td>0.27813</td>\n",
       "      <td>0.45932</td>\n",
       "      <td>0.32100</td>\n",
       "      <td>0.51839</td>\n",
       "      <td>0.26194</td>\n",
       "      <td>0.97609</td>\n",
       "      <td>N2</td>\n",
       "      <td>1.0</td>\n",
       "      <td>1.952180</td>\n",
       "      <td>False</td>\n",
       "      <td>False</td>\n",
       "      <td>2</td>\n",
       "      <td>1</td>\n",
       "    </tr>\n",
       "    <tr>\n",
       "      <th>259</th>\n",
       "      <td>1337</td>\n",
       "      <td>1</td>\n",
       "      <td>0.15868</td>\n",
       "      <td>0.27813</td>\n",
       "      <td>0.45932</td>\n",
       "      <td>0.32100</td>\n",
       "      <td>0.51839</td>\n",
       "      <td>0.26194</td>\n",
       "      <td>0.97609</td>\n",
       "      <td>N3</td>\n",
       "      <td>1.0</td>\n",
       "      <td>0.732461</td>\n",
       "      <td>True</td>\n",
       "      <td>True</td>\n",
       "      <td>2</td>\n",
       "      <td>1</td>\n",
       "    </tr>\n",
       "    <tr>\n",
       "      <th>260</th>\n",
       "      <td>1337</td>\n",
       "      <td>1</td>\n",
       "      <td>0.15868</td>\n",
       "      <td>0.27813</td>\n",
       "      <td>0.45932</td>\n",
       "      <td>0.32100</td>\n",
       "      <td>0.51839</td>\n",
       "      <td>0.26194</td>\n",
       "      <td>0.97609</td>\n",
       "      <td>N4</td>\n",
       "      <td>1.0</td>\n",
       "      <td>1.952180</td>\n",
       "      <td>False</td>\n",
       "      <td>False</td>\n",
       "      <td>2</td>\n",
       "      <td>1</td>\n",
       "    </tr>\n",
       "    <tr>\n",
       "      <th>...</th>\n",
       "      <td>...</td>\n",
       "      <td>...</td>\n",
       "      <td>...</td>\n",
       "      <td>...</td>\n",
       "      <td>...</td>\n",
       "      <td>...</td>\n",
       "      <td>...</td>\n",
       "      <td>...</td>\n",
       "      <td>...</td>\n",
       "      <td>...</td>\n",
       "      <td>...</td>\n",
       "      <td>...</td>\n",
       "      <td>...</td>\n",
       "      <td>...</td>\n",
       "      <td>...</td>\n",
       "      <td>...</td>\n",
       "    </tr>\n",
       "    <tr>\n",
       "      <th>1279739</th>\n",
       "      <td>3539</td>\n",
       "      <td>1</td>\n",
       "      <td>0.70008</td>\n",
       "      <td>0.99125</td>\n",
       "      <td>0.38006</td>\n",
       "      <td>0.84859</td>\n",
       "      <td>0.99477</td>\n",
       "      <td>0.18844</td>\n",
       "      <td>0.54285</td>\n",
       "      <td>N251</td>\n",
       "      <td>1.0</td>\n",
       "      <td>1.000000</td>\n",
       "      <td>True</td>\n",
       "      <td>True</td>\n",
       "      <td>2</td>\n",
       "      <td>1</td>\n",
       "    </tr>\n",
       "    <tr>\n",
       "      <th>1279740</th>\n",
       "      <td>3539</td>\n",
       "      <td>1</td>\n",
       "      <td>0.70008</td>\n",
       "      <td>0.99125</td>\n",
       "      <td>0.38006</td>\n",
       "      <td>0.84859</td>\n",
       "      <td>0.99477</td>\n",
       "      <td>0.18844</td>\n",
       "      <td>0.54285</td>\n",
       "      <td>N252</td>\n",
       "      <td>1.0</td>\n",
       "      <td>1.000000</td>\n",
       "      <td>True</td>\n",
       "      <td>True</td>\n",
       "      <td>2</td>\n",
       "      <td>1</td>\n",
       "    </tr>\n",
       "    <tr>\n",
       "      <th>1279741</th>\n",
       "      <td>3539</td>\n",
       "      <td>1</td>\n",
       "      <td>0.70008</td>\n",
       "      <td>0.99125</td>\n",
       "      <td>0.38006</td>\n",
       "      <td>0.84859</td>\n",
       "      <td>0.99477</td>\n",
       "      <td>0.18844</td>\n",
       "      <td>0.54285</td>\n",
       "      <td>N253</td>\n",
       "      <td>1.0</td>\n",
       "      <td>1.000000</td>\n",
       "      <td>True</td>\n",
       "      <td>True</td>\n",
       "      <td>2</td>\n",
       "      <td>1</td>\n",
       "    </tr>\n",
       "    <tr>\n",
       "      <th>1279742</th>\n",
       "      <td>3539</td>\n",
       "      <td>1</td>\n",
       "      <td>0.70008</td>\n",
       "      <td>0.99125</td>\n",
       "      <td>0.38006</td>\n",
       "      <td>0.84859</td>\n",
       "      <td>0.99477</td>\n",
       "      <td>0.18844</td>\n",
       "      <td>0.54285</td>\n",
       "      <td>N254</td>\n",
       "      <td>1.0</td>\n",
       "      <td>1.000000</td>\n",
       "      <td>True</td>\n",
       "      <td>True</td>\n",
       "      <td>2</td>\n",
       "      <td>1</td>\n",
       "    </tr>\n",
       "    <tr>\n",
       "      <th>1279743</th>\n",
       "      <td>3539</td>\n",
       "      <td>1</td>\n",
       "      <td>0.70008</td>\n",
       "      <td>0.99125</td>\n",
       "      <td>0.38006</td>\n",
       "      <td>0.84859</td>\n",
       "      <td>0.99477</td>\n",
       "      <td>0.18844</td>\n",
       "      <td>0.54285</td>\n",
       "      <td>N255</td>\n",
       "      <td>1.0</td>\n",
       "      <td>1.000000</td>\n",
       "      <td>True</td>\n",
       "      <td>True</td>\n",
       "      <td>2</td>\n",
       "      <td>1</td>\n",
       "    </tr>\n",
       "  </tbody>\n",
       "</table>\n",
       "<p>817920 rows × 16 columns</p>\n",
       "</div>"
      ],
      "text/plain": [
       "           ID  p_1      p_2      p_3      p_4      p_5      p_6      p_7  \\\n",
       "256      1337    1  0.15868  0.27813  0.45932  0.32100  0.51839  0.26194   \n",
       "257      1337    1  0.15868  0.27813  0.45932  0.32100  0.51839  0.26194   \n",
       "258      1337    1  0.15868  0.27813  0.45932  0.32100  0.51839  0.26194   \n",
       "259      1337    1  0.15868  0.27813  0.45932  0.32100  0.51839  0.26194   \n",
       "260      1337    1  0.15868  0.27813  0.45932  0.32100  0.51839  0.26194   \n",
       "...       ...  ...      ...      ...      ...      ...      ...      ...   \n",
       "1279739  3539    1  0.70008  0.99125  0.38006  0.84859  0.99477  0.18844   \n",
       "1279740  3539    1  0.70008  0.99125  0.38006  0.84859  0.99477  0.18844   \n",
       "1279741  3539    1  0.70008  0.99125  0.38006  0.84859  0.99477  0.18844   \n",
       "1279742  3539    1  0.70008  0.99125  0.38006  0.84859  0.99477  0.18844   \n",
       "1279743  3539    1  0.70008  0.99125  0.38006  0.84859  0.99477  0.18844   \n",
       "\n",
       "             p_8 label   Sp        Sq  condition A  condition B  b  c  \n",
       "256      0.97609    N0  1.0  1.952180        False        False  2  1  \n",
       "257      0.97609    N1  1.0  1.309227        False        False  2  1  \n",
       "258      0.97609    N2  1.0  1.952180        False        False  2  1  \n",
       "259      0.97609    N3  1.0  0.732461         True         True  2  1  \n",
       "260      0.97609    N4  1.0  1.952180        False        False  2  1  \n",
       "...          ...   ...  ...       ...          ...          ... .. ..  \n",
       "1279739  0.54285  N251  1.0  1.000000         True         True  2  1  \n",
       "1279740  0.54285  N252  1.0  1.000000         True         True  2  1  \n",
       "1279741  0.54285  N253  1.0  1.000000         True         True  2  1  \n",
       "1279742  0.54285  N254  1.0  1.000000         True         True  2  1  \n",
       "1279743  0.54285  N255  1.0  1.000000         True         True  2  1  \n",
       "\n",
       "[817920 rows x 16 columns]"
      ]
     },
     "execution_count": 257,
     "metadata": {},
     "output_type": "execute_result"
    }
   ],
   "source": [
    "noneq"
   ]
  },
  {
   "cell_type": "code",
   "execution_count": 16,
   "id": "f94ac446",
   "metadata": {},
   "outputs": [
    {
     "ename": "NameError",
     "evalue": "name 'itertools' is not defined",
     "output_type": "error",
     "traceback": [
      "\u001b[0;31m---------------------------------------------------------------------------\u001b[0m",
      "\u001b[0;31mNameError\u001b[0m                                 Traceback (most recent call last)",
      "\u001b[0;32m<ipython-input-16-371f2ccc21b0>\u001b[0m in \u001b[0;36m<module>\u001b[0;34m\u001b[0m\n\u001b[0;32m----> 1\u001b[0;31m \u001b[0mdeterministic_transitions\u001b[0m \u001b[0;34m=\u001b[0m \u001b[0mlist\u001b[0m\u001b[0;34m(\u001b[0m\u001b[0mitertools\u001b[0m\u001b[0;34m.\u001b[0m\u001b[0mproduct\u001b[0m\u001b[0;34m(\u001b[0m\u001b[0;34m[\u001b[0m\u001b[0;36m0\u001b[0m\u001b[0;34m,\u001b[0m \u001b[0;36m1\u001b[0m\u001b[0;34m]\u001b[0m\u001b[0;34m,\u001b[0m \u001b[0mrepeat\u001b[0m\u001b[0;34m=\u001b[0m\u001b[0;36m8\u001b[0m\u001b[0;34m)\u001b[0m\u001b[0;34m)\u001b[0m\u001b[0;34m\u001b[0m\u001b[0;34m\u001b[0m\u001b[0m\n\u001b[0m",
      "\u001b[0;31mNameError\u001b[0m: name 'itertools' is not defined"
     ]
    }
   ],
   "source": [
    "deterministic_transitions = list(itertools.product([0, 1], repeat=8))"
   ]
  },
  {
   "cell_type": "code",
   "execution_count": 17,
   "id": "f1ab61bd",
   "metadata": {},
   "outputs": [
    {
     "ename": "NameError",
     "evalue": "name 'noneq' is not defined",
     "output_type": "error",
     "traceback": [
      "\u001b[0;31m---------------------------------------------------------------------------\u001b[0m",
      "\u001b[0;31mNameError\u001b[0m                                 Traceback (most recent call last)",
      "\u001b[0;32m<ipython-input-17-60a0d47ef04c>\u001b[0m in \u001b[0;36m<module>\u001b[0;34m\u001b[0m\n\u001b[0;32m----> 1\u001b[0;31m \u001b[0mgroups\u001b[0m \u001b[0;34m=\u001b[0m \u001b[0mnoneq\u001b[0m\u001b[0;34m[\u001b[0m\u001b[0mnoneq\u001b[0m\u001b[0;34m[\u001b[0m\u001b[0;34m'condition A'\u001b[0m\u001b[0;34m]\u001b[0m \u001b[0;34m==\u001b[0m \u001b[0;32mFalse\u001b[0m\u001b[0;34m]\u001b[0m\u001b[0;34m.\u001b[0m\u001b[0mgroupby\u001b[0m\u001b[0;34m(\u001b[0m\u001b[0;34m'ID'\u001b[0m\u001b[0;34m)\u001b[0m\u001b[0;34m\u001b[0m\u001b[0;34m\u001b[0m\u001b[0m\n\u001b[0m\u001b[1;32m      2\u001b[0m \u001b[0;34m\u001b[0m\u001b[0m\n\u001b[1;32m      3\u001b[0m \u001b[0msets\u001b[0m\u001b[0;34m,\u001b[0m \u001b[0mids\u001b[0m \u001b[0;34m=\u001b[0m \u001b[0;34m[\u001b[0m\u001b[0;34m]\u001b[0m\u001b[0;34m,\u001b[0m \u001b[0;34m[\u001b[0m\u001b[0;34m]\u001b[0m\u001b[0;34m\u001b[0m\u001b[0;34m\u001b[0m\u001b[0m\n\u001b[1;32m      4\u001b[0m \u001b[0;34m\u001b[0m\u001b[0m\n\u001b[1;32m      5\u001b[0m \u001b[0;32mfor\u001b[0m \u001b[0mi\u001b[0m\u001b[0;34m,\u001b[0m \u001b[0mgroup\u001b[0m \u001b[0;32min\u001b[0m \u001b[0mgroups\u001b[0m\u001b[0;34m:\u001b[0m\u001b[0;34m\u001b[0m\u001b[0;34m\u001b[0m\u001b[0m\n",
      "\u001b[0;31mNameError\u001b[0m: name 'noneq' is not defined"
     ]
    }
   ],
   "source": [
    "groups = noneq[noneq['condition A'] == False].groupby('ID')\n",
    "\n",
    "sets, ids = [], []\n",
    "\n",
    "for i, group in groups:\n",
    "    sets.append(group['label'].values)\n",
    "    ids.append(group['ID'].unique())"
   ]
  },
  {
   "cell_type": "code",
   "execution_count": 264,
   "id": "12ec1fc7",
   "metadata": {},
   "outputs": [],
   "source": [
    "flat_list = [item for sublist in sets for item in sublist]\n",
    "\n",
    "counter = Counter(flat_list)"
   ]
  },
  {
   "cell_type": "code",
   "execution_count": 267,
   "id": "1f437daf",
   "metadata": {},
   "outputs": [
    {
     "data": {
      "text/plain": [
       "2486"
      ]
     },
     "execution_count": 267,
     "metadata": {},
     "output_type": "execute_result"
    }
   ],
   "source": [
    "max(counter.values())"
   ]
  },
  {
   "cell_type": "code",
   "execution_count": 313,
   "id": "0d937d0b",
   "metadata": {},
   "outputs": [],
   "source": [
    "leftsets = [s for s in sets if\n",
    "            (\"N0\" not in s) and ('N17' not in s) and ('N85' not in s) and ('N51' not in s) and (\"N102\" not in s)]"
   ]
  },
  {
   "cell_type": "code",
   "execution_count": 314,
   "id": "a2d8b568",
   "metadata": {},
   "outputs": [],
   "source": [
    "flat_left = [item for sublist in leftsets for item in sublist]"
   ]
  },
  {
   "cell_type": "code",
   "execution_count": 315,
   "id": "20c3ef87",
   "metadata": {},
   "outputs": [],
   "source": [
    "counter = Counter(flat_left)"
   ]
  },
  {
   "cell_type": "code",
   "execution_count": 316,
   "id": "847d13c7",
   "metadata": {},
   "outputs": [
    {
     "ename": "ValueError",
     "evalue": "max() arg is an empty sequence",
     "output_type": "error",
     "traceback": [
      "\u001b[0;31m---------------------------------------------------------------------------\u001b[0m",
      "\u001b[0;31mValueError\u001b[0m                                Traceback (most recent call last)",
      "\u001b[0;32m<ipython-input-316-b97946780d9a>\u001b[0m in \u001b[0;36m<module>\u001b[0;34m\u001b[0m\n\u001b[0;32m----> 1\u001b[0;31m \u001b[0mmax\u001b[0m\u001b[0;34m(\u001b[0m\u001b[0mcounter\u001b[0m\u001b[0;34m.\u001b[0m\u001b[0mvalues\u001b[0m\u001b[0;34m(\u001b[0m\u001b[0;34m)\u001b[0m\u001b[0;34m)\u001b[0m\u001b[0;34m\u001b[0m\u001b[0;34m\u001b[0m\u001b[0m\n\u001b[0m",
      "\u001b[0;31mValueError\u001b[0m: max() arg is an empty sequence"
     ]
    }
   ],
   "source": [
    "max(counter.values())"
   ]
  },
  {
   "cell_type": "markdown",
   "id": "2b187f3a",
   "metadata": {},
   "source": [
    "## calculate conditions?"
   ]
  },
  {
   "cell_type": "code",
   "execution_count": 310,
   "id": "cb0357bd",
   "metadata": {},
   "outputs": [
    {
     "data": {
      "text/plain": [
       "20"
      ]
     },
     "execution_count": 310,
     "metadata": {},
     "output_type": "execute_result"
    }
   ],
   "source": [
    "len(leftsets)"
   ]
  },
  {
   "cell_type": "code",
   "execution_count": 312,
   "id": "24df5280",
   "metadata": {},
   "outputs": [
    {
     "data": {
      "text/plain": [
       "(0, 1, 1, 0, 0, 1, 1, 0)"
      ]
     },
     "execution_count": 312,
     "metadata": {},
     "output_type": "execute_result"
    }
   ],
   "source": [
    "deterministic_transitions[102]"
   ]
  },
  {
   "cell_type": "code",
   "execution_count": 311,
   "id": "3d8936a7",
   "metadata": {},
   "outputs": [
    {
     "data": {
      "text/plain": [
       "Counter({'N101': 13,\n",
       "         'N102': 20,\n",
       "         'N103': 20,\n",
       "         'N108': 13,\n",
       "         'N109': 13,\n",
       "         'N110': 16,\n",
       "         'N111': 20,\n",
       "         'N114': 6,\n",
       "         'N115': 6,\n",
       "         'N116': 13,\n",
       "         'N117': 13,\n",
       "         'N118': 20,\n",
       "         'N119': 20,\n",
       "         'N122': 6,\n",
       "         'N123': 7,\n",
       "         'N124': 13,\n",
       "         'N125': 13,\n",
       "         'N126': 20,\n",
       "         'N127': 20,\n",
       "         'N99': 4,\n",
       "         'N107': 4,\n",
       "         'N113': 1,\n",
       "         'N120': 2,\n",
       "         'N121': 2,\n",
       "         'N70': 1,\n",
       "         'N71': 2,\n",
       "         'N78': 2,\n",
       "         'N79': 2,\n",
       "         'N86': 2,\n",
       "         'N87': 2,\n",
       "         'N94': 2,\n",
       "         'N95': 2,\n",
       "         'N100': 1})"
      ]
     },
     "execution_count": 311,
     "metadata": {},
     "output_type": "execute_result"
    }
   ],
   "source": [
    "counter"
   ]
  },
  {
   "cell_type": "code",
   "execution_count": 4,
   "id": "7d032e3a",
   "metadata": {},
   "outputs": [],
   "source": [
    "import sympy as sym"
   ]
  },
  {
   "cell_type": "code",
   "execution_count": 6,
   "id": "d4eef0fd",
   "metadata": {},
   "outputs": [],
   "source": [
    "p1, p2, p3, p4, p5, p6, p7, p8 = sym.symbols(\"p1:9\")"
   ]
  },
  {
   "cell_type": "code",
   "execution_count": 7,
   "id": "79c17412",
   "metadata": {},
   "outputs": [],
   "source": [
    "strategy = [\n",
    "    p1,\n",
    "    p2,\n",
    "    p1,\n",
    "    p2,\n",
    "    p3,\n",
    "    p4,\n",
    "    p3,\n",
    "    p4,\n",
    "    p1,\n",
    "    p2,\n",
    "    p1,\n",
    "    p2,\n",
    "    p3,\n",
    "    p4,\n",
    "    p3,\n",
    "    p4,\n",
    "    p5,\n",
    "    p6,\n",
    "    p5,\n",
    "    p6,\n",
    "    p7,\n",
    "    p8,\n",
    "    p7,\n",
    "    p8,\n",
    "    p5,\n",
    "    p6,\n",
    "    p5,\n",
    "    p6,\n",
    "    p7,\n",
    "    p8,\n",
    "    p7,\n",
    "    p8,\n",
    "] * 2"
   ]
  },
  {
   "cell_type": "code",
   "execution_count": 14,
   "id": "e7c918ab",
   "metadata": {},
   "outputs": [],
   "source": [
    "M = three.calculate_M_memory_three(strategy, [0 for _ in range(64)], analytical=True)"
   ]
  },
  {
   "cell_type": "code",
   "execution_count": 15,
   "id": "96414492",
   "metadata": {},
   "outputs": [
    {
     "ename": "KeyboardInterrupt",
     "evalue": "",
     "output_type": "error",
     "traceback": [
      "\u001b[0;31m---------------------------------------------------------------------------\u001b[0m",
      "\u001b[0;31mKeyboardInterrupt\u001b[0m                         Traceback (most recent call last)",
      "\u001b[0;32m<ipython-input-15-b914b18f1a15>\u001b[0m in \u001b[0;36m<module>\u001b[0;34m\u001b[0m\n\u001b[0;32m----> 1\u001b[0;31m \u001b[0mss\u001b[0m \u001b[0;34m=\u001b[0m \u001b[0mmain\u001b[0m\u001b[0;34m.\u001b[0m\u001b[0minvariant_distribution_analytically\u001b[0m\u001b[0;34m(\u001b[0m\u001b[0mM\u001b[0m\u001b[0;34m)\u001b[0m\u001b[0;34m\u001b[0m\u001b[0;34m\u001b[0m\u001b[0m\n\u001b[0m",
      "\u001b[0;32m~/rsc/reactive-two-bits/src/main.py\u001b[0m in \u001b[0;36minvariant_distribution_analytically\u001b[0;34m(M)\u001b[0m\n\u001b[1;32m    219\u001b[0m     \u001b[0msize\u001b[0m \u001b[0;34m=\u001b[0m \u001b[0mM\u001b[0m\u001b[0;34m.\u001b[0m\u001b[0mshape\u001b[0m\u001b[0;34m[\u001b[0m\u001b[0;36m1\u001b[0m\u001b[0;34m]\u001b[0m\u001b[0;34m\u001b[0m\u001b[0;34m\u001b[0m\u001b[0m\n\u001b[1;32m    220\u001b[0m     \u001b[0mpi\u001b[0m \u001b[0;34m=\u001b[0m \u001b[0msym\u001b[0m\u001b[0;34m.\u001b[0m\u001b[0msymbols\u001b[0m\u001b[0;34m(\u001b[0m\u001b[0;34mf\"b_1:{size + 1}\"\u001b[0m\u001b[0;34m)\u001b[0m\u001b[0;34m\u001b[0m\u001b[0;34m\u001b[0m\u001b[0m\n\u001b[0;32m--> 221\u001b[0;31m     ss = sym.solve(\n\u001b[0m\u001b[1;32m    222\u001b[0m         \u001b[0;34m[\u001b[0m\u001b[0msum\u001b[0m\u001b[0;34m(\u001b[0m\u001b[0mpi\u001b[0m\u001b[0;34m)\u001b[0m \u001b[0;34m-\u001b[0m \u001b[0;36m1\u001b[0m\u001b[0;34m]\u001b[0m\u001b[0;34m\u001b[0m\u001b[0;34m\u001b[0m\u001b[0m\n\u001b[1;32m    223\u001b[0m         \u001b[0;34m+\u001b[0m \u001b[0;34m[\u001b[0m\u001b[0ma\u001b[0m \u001b[0;34m-\u001b[0m \u001b[0mb\u001b[0m \u001b[0;32mfor\u001b[0m \u001b[0ma\u001b[0m\u001b[0;34m,\u001b[0m \u001b[0mb\u001b[0m \u001b[0;32min\u001b[0m \u001b[0mzip\u001b[0m\u001b[0;34m(\u001b[0m\u001b[0mM\u001b[0m\u001b[0;34m.\u001b[0m\u001b[0mtranspose\u001b[0m\u001b[0;34m(\u001b[0m\u001b[0;34m)\u001b[0m \u001b[0;34m*\u001b[0m \u001b[0msym\u001b[0m\u001b[0;34m.\u001b[0m\u001b[0mMatrix\u001b[0m\u001b[0;34m(\u001b[0m\u001b[0mpi\u001b[0m\u001b[0;34m)\u001b[0m\u001b[0;34m,\u001b[0m \u001b[0mpi\u001b[0m\u001b[0;34m)\u001b[0m\u001b[0;34m]\u001b[0m\u001b[0;34m,\u001b[0m\u001b[0;34m\u001b[0m\u001b[0;34m\u001b[0m\u001b[0m\n",
      "\u001b[0;32m~/opt/anaconda3/lib/python3.8/site-packages/sympy/solvers/solvers.py\u001b[0m in \u001b[0;36msolve\u001b[0;34m(f, *symbols, **flags)\u001b[0m\n\u001b[1;32m   1094\u001b[0m         \u001b[0msolution\u001b[0m \u001b[0;34m=\u001b[0m \u001b[0m_solve\u001b[0m\u001b[0;34m(\u001b[0m\u001b[0mf\u001b[0m\u001b[0;34m[\u001b[0m\u001b[0;36m0\u001b[0m\u001b[0;34m]\u001b[0m\u001b[0;34m,\u001b[0m \u001b[0;34m*\u001b[0m\u001b[0msymbols\u001b[0m\u001b[0;34m,\u001b[0m \u001b[0;34m**\u001b[0m\u001b[0mflags\u001b[0m\u001b[0;34m)\u001b[0m\u001b[0;34m\u001b[0m\u001b[0;34m\u001b[0m\u001b[0m\n\u001b[1;32m   1095\u001b[0m     \u001b[0;32melse\u001b[0m\u001b[0;34m:\u001b[0m\u001b[0;34m\u001b[0m\u001b[0;34m\u001b[0m\u001b[0m\n\u001b[0;32m-> 1096\u001b[0;31m         \u001b[0msolution\u001b[0m \u001b[0;34m=\u001b[0m \u001b[0m_solve_system\u001b[0m\u001b[0;34m(\u001b[0m\u001b[0mf\u001b[0m\u001b[0;34m,\u001b[0m \u001b[0msymbols\u001b[0m\u001b[0;34m,\u001b[0m \u001b[0;34m**\u001b[0m\u001b[0mflags\u001b[0m\u001b[0;34m)\u001b[0m\u001b[0;34m\u001b[0m\u001b[0;34m\u001b[0m\u001b[0m\n\u001b[0m\u001b[1;32m   1097\u001b[0m \u001b[0;34m\u001b[0m\u001b[0m\n\u001b[1;32m   1098\u001b[0m     \u001b[0;31m#\u001b[0m\u001b[0;34m\u001b[0m\u001b[0;34m\u001b[0m\u001b[0;34m\u001b[0m\u001b[0m\n",
      "\u001b[0;32m~/opt/anaconda3/lib/python3.8/site-packages/sympy/solvers/solvers.py\u001b[0m in \u001b[0;36m_solve_system\u001b[0;34m(exprs, symbols, **flags)\u001b[0m\n\u001b[1;32m   1761\u001b[0m                 \u001b[0mresult\u001b[0m \u001b[0;34m=\u001b[0m \u001b[0mminsolve_linear_system\u001b[0m\u001b[0;34m(\u001b[0m\u001b[0mmatrix\u001b[0m\u001b[0;34m,\u001b[0m \u001b[0;34m*\u001b[0m\u001b[0msymbols\u001b[0m\u001b[0;34m,\u001b[0m \u001b[0;34m**\u001b[0m\u001b[0mflags\u001b[0m\u001b[0;34m)\u001b[0m\u001b[0;34m\u001b[0m\u001b[0;34m\u001b[0m\u001b[0m\n\u001b[1;32m   1762\u001b[0m             \u001b[0;32melse\u001b[0m\u001b[0;34m:\u001b[0m\u001b[0;34m\u001b[0m\u001b[0;34m\u001b[0m\u001b[0m\n\u001b[0;32m-> 1763\u001b[0;31m                 \u001b[0mresult\u001b[0m \u001b[0;34m=\u001b[0m \u001b[0msolve_linear_system\u001b[0m\u001b[0;34m(\u001b[0m\u001b[0mmatrix\u001b[0m\u001b[0;34m,\u001b[0m \u001b[0;34m*\u001b[0m\u001b[0msymbols\u001b[0m\u001b[0;34m,\u001b[0m \u001b[0;34m**\u001b[0m\u001b[0mflags\u001b[0m\u001b[0;34m)\u001b[0m\u001b[0;34m\u001b[0m\u001b[0;34m\u001b[0m\u001b[0m\n\u001b[0m\u001b[1;32m   1764\u001b[0m             \u001b[0;32mif\u001b[0m \u001b[0mfailed\u001b[0m\u001b[0;34m:\u001b[0m\u001b[0;34m\u001b[0m\u001b[0;34m\u001b[0m\u001b[0m\n\u001b[1;32m   1765\u001b[0m                 \u001b[0;32mif\u001b[0m \u001b[0mresult\u001b[0m\u001b[0;34m:\u001b[0m\u001b[0;34m\u001b[0m\u001b[0;34m\u001b[0m\u001b[0m\n",
      "\u001b[0;32m~/opt/anaconda3/lib/python3.8/site-packages/sympy/solvers/solvers.py\u001b[0m in \u001b[0;36msolve_linear_system\u001b[0;34m(system, *symbols, **flags)\u001b[0m\n\u001b[1;32m   2332\u001b[0m                 \u001b[0;31m# subtract from the current row the row containing\u001b[0m\u001b[0;34m\u001b[0m\u001b[0;34m\u001b[0m\u001b[0;34m\u001b[0m\u001b[0m\n\u001b[1;32m   2333\u001b[0m                 \u001b[0;31m# pivot and multiplied by extracted coefficient\u001b[0m\u001b[0;34m\u001b[0m\u001b[0;34m\u001b[0m\u001b[0;34m\u001b[0m\u001b[0m\n\u001b[0;32m-> 2334\u001b[0;31m                 \u001b[0mmatrix\u001b[0m\u001b[0;34m.\u001b[0m\u001b[0mrow_op\u001b[0m\u001b[0;34m(\u001b[0m\u001b[0mk\u001b[0m\u001b[0;34m,\u001b[0m \u001b[0;32mlambda\u001b[0m \u001b[0mx\u001b[0m\u001b[0;34m,\u001b[0m \u001b[0mj\u001b[0m\u001b[0;34m:\u001b[0m \u001b[0msimplify\u001b[0m\u001b[0;34m(\u001b[0m\u001b[0mx\u001b[0m \u001b[0;34m-\u001b[0m \u001b[0mmatrix\u001b[0m\u001b[0;34m[\u001b[0m\u001b[0mi\u001b[0m\u001b[0;34m,\u001b[0m \u001b[0mj\u001b[0m\u001b[0;34m]\u001b[0m\u001b[0;34m*\u001b[0m\u001b[0mcoeff\u001b[0m\u001b[0;34m)\u001b[0m\u001b[0;34m)\u001b[0m\u001b[0;34m\u001b[0m\u001b[0;34m\u001b[0m\u001b[0m\n\u001b[0m\u001b[1;32m   2335\u001b[0m \u001b[0;34m\u001b[0m\u001b[0m\n\u001b[1;32m   2336\u001b[0m         \u001b[0mi\u001b[0m \u001b[0;34m+=\u001b[0m \u001b[0;36m1\u001b[0m\u001b[0;34m\u001b[0m\u001b[0;34m\u001b[0m\u001b[0m\n",
      "\u001b[0;32m~/opt/anaconda3/lib/python3.8/site-packages/sympy/matrices/dense.py\u001b[0m in \u001b[0;36mrow_op\u001b[0;34m(self, i, f)\u001b[0m\n\u001b[1;32m    587\u001b[0m         \u001b[0mi0\u001b[0m \u001b[0;34m=\u001b[0m \u001b[0mi\u001b[0m\u001b[0;34m*\u001b[0m\u001b[0mself\u001b[0m\u001b[0;34m.\u001b[0m\u001b[0mcols\u001b[0m\u001b[0;34m\u001b[0m\u001b[0;34m\u001b[0m\u001b[0m\n\u001b[1;32m    588\u001b[0m         \u001b[0mri\u001b[0m \u001b[0;34m=\u001b[0m \u001b[0mself\u001b[0m\u001b[0;34m.\u001b[0m\u001b[0m_mat\u001b[0m\u001b[0;34m[\u001b[0m\u001b[0mi0\u001b[0m\u001b[0;34m:\u001b[0m \u001b[0mi0\u001b[0m \u001b[0;34m+\u001b[0m \u001b[0mself\u001b[0m\u001b[0;34m.\u001b[0m\u001b[0mcols\u001b[0m\u001b[0;34m]\u001b[0m\u001b[0;34m\u001b[0m\u001b[0;34m\u001b[0m\u001b[0m\n\u001b[0;32m--> 589\u001b[0;31m         \u001b[0mself\u001b[0m\u001b[0;34m.\u001b[0m\u001b[0m_mat\u001b[0m\u001b[0;34m[\u001b[0m\u001b[0mi0\u001b[0m\u001b[0;34m:\u001b[0m \u001b[0mi0\u001b[0m \u001b[0;34m+\u001b[0m \u001b[0mself\u001b[0m\u001b[0;34m.\u001b[0m\u001b[0mcols\u001b[0m\u001b[0;34m]\u001b[0m \u001b[0;34m=\u001b[0m \u001b[0;34m[\u001b[0m\u001b[0mf\u001b[0m\u001b[0;34m(\u001b[0m\u001b[0mx\u001b[0m\u001b[0;34m,\u001b[0m \u001b[0mj\u001b[0m\u001b[0;34m)\u001b[0m \u001b[0;32mfor\u001b[0m \u001b[0mx\u001b[0m\u001b[0;34m,\u001b[0m \u001b[0mj\u001b[0m \u001b[0;32min\u001b[0m \u001b[0mzip\u001b[0m\u001b[0;34m(\u001b[0m\u001b[0mri\u001b[0m\u001b[0;34m,\u001b[0m \u001b[0mlist\u001b[0m\u001b[0;34m(\u001b[0m\u001b[0mrange\u001b[0m\u001b[0;34m(\u001b[0m\u001b[0mself\u001b[0m\u001b[0;34m.\u001b[0m\u001b[0mcols\u001b[0m\u001b[0;34m)\u001b[0m\u001b[0;34m)\u001b[0m\u001b[0;34m)\u001b[0m\u001b[0;34m]\u001b[0m\u001b[0;34m\u001b[0m\u001b[0;34m\u001b[0m\u001b[0m\n\u001b[0m\u001b[1;32m    590\u001b[0m \u001b[0;34m\u001b[0m\u001b[0m\n\u001b[1;32m    591\u001b[0m     \u001b[0;32mdef\u001b[0m \u001b[0mrow_swap\u001b[0m\u001b[0;34m(\u001b[0m\u001b[0mself\u001b[0m\u001b[0;34m,\u001b[0m \u001b[0mi\u001b[0m\u001b[0;34m,\u001b[0m \u001b[0mj\u001b[0m\u001b[0;34m)\u001b[0m\u001b[0;34m:\u001b[0m\u001b[0;34m\u001b[0m\u001b[0;34m\u001b[0m\u001b[0m\n",
      "\u001b[0;32m~/opt/anaconda3/lib/python3.8/site-packages/sympy/matrices/dense.py\u001b[0m in \u001b[0;36m<listcomp>\u001b[0;34m(.0)\u001b[0m\n\u001b[1;32m    587\u001b[0m         \u001b[0mi0\u001b[0m \u001b[0;34m=\u001b[0m \u001b[0mi\u001b[0m\u001b[0;34m*\u001b[0m\u001b[0mself\u001b[0m\u001b[0;34m.\u001b[0m\u001b[0mcols\u001b[0m\u001b[0;34m\u001b[0m\u001b[0;34m\u001b[0m\u001b[0m\n\u001b[1;32m    588\u001b[0m         \u001b[0mri\u001b[0m \u001b[0;34m=\u001b[0m \u001b[0mself\u001b[0m\u001b[0;34m.\u001b[0m\u001b[0m_mat\u001b[0m\u001b[0;34m[\u001b[0m\u001b[0mi0\u001b[0m\u001b[0;34m:\u001b[0m \u001b[0mi0\u001b[0m \u001b[0;34m+\u001b[0m \u001b[0mself\u001b[0m\u001b[0;34m.\u001b[0m\u001b[0mcols\u001b[0m\u001b[0;34m]\u001b[0m\u001b[0;34m\u001b[0m\u001b[0;34m\u001b[0m\u001b[0m\n\u001b[0;32m--> 589\u001b[0;31m         \u001b[0mself\u001b[0m\u001b[0;34m.\u001b[0m\u001b[0m_mat\u001b[0m\u001b[0;34m[\u001b[0m\u001b[0mi0\u001b[0m\u001b[0;34m:\u001b[0m \u001b[0mi0\u001b[0m \u001b[0;34m+\u001b[0m \u001b[0mself\u001b[0m\u001b[0;34m.\u001b[0m\u001b[0mcols\u001b[0m\u001b[0;34m]\u001b[0m \u001b[0;34m=\u001b[0m \u001b[0;34m[\u001b[0m\u001b[0mf\u001b[0m\u001b[0;34m(\u001b[0m\u001b[0mx\u001b[0m\u001b[0;34m,\u001b[0m \u001b[0mj\u001b[0m\u001b[0;34m)\u001b[0m \u001b[0;32mfor\u001b[0m \u001b[0mx\u001b[0m\u001b[0;34m,\u001b[0m \u001b[0mj\u001b[0m \u001b[0;32min\u001b[0m \u001b[0mzip\u001b[0m\u001b[0;34m(\u001b[0m\u001b[0mri\u001b[0m\u001b[0;34m,\u001b[0m \u001b[0mlist\u001b[0m\u001b[0;34m(\u001b[0m\u001b[0mrange\u001b[0m\u001b[0;34m(\u001b[0m\u001b[0mself\u001b[0m\u001b[0;34m.\u001b[0m\u001b[0mcols\u001b[0m\u001b[0;34m)\u001b[0m\u001b[0;34m)\u001b[0m\u001b[0;34m)\u001b[0m\u001b[0;34m]\u001b[0m\u001b[0;34m\u001b[0m\u001b[0;34m\u001b[0m\u001b[0m\n\u001b[0m\u001b[1;32m    590\u001b[0m \u001b[0;34m\u001b[0m\u001b[0m\n\u001b[1;32m    591\u001b[0m     \u001b[0;32mdef\u001b[0m \u001b[0mrow_swap\u001b[0m\u001b[0;34m(\u001b[0m\u001b[0mself\u001b[0m\u001b[0;34m,\u001b[0m \u001b[0mi\u001b[0m\u001b[0;34m,\u001b[0m \u001b[0mj\u001b[0m\u001b[0;34m)\u001b[0m\u001b[0;34m:\u001b[0m\u001b[0;34m\u001b[0m\u001b[0;34m\u001b[0m\u001b[0m\n",
      "\u001b[0;32m~/opt/anaconda3/lib/python3.8/site-packages/sympy/solvers/solvers.py\u001b[0m in \u001b[0;36m<lambda>\u001b[0;34m(x, j)\u001b[0m\n\u001b[1;32m   2332\u001b[0m                 \u001b[0;31m# subtract from the current row the row containing\u001b[0m\u001b[0;34m\u001b[0m\u001b[0;34m\u001b[0m\u001b[0;34m\u001b[0m\u001b[0m\n\u001b[1;32m   2333\u001b[0m                 \u001b[0;31m# pivot and multiplied by extracted coefficient\u001b[0m\u001b[0;34m\u001b[0m\u001b[0;34m\u001b[0m\u001b[0;34m\u001b[0m\u001b[0m\n\u001b[0;32m-> 2334\u001b[0;31m                 \u001b[0mmatrix\u001b[0m\u001b[0;34m.\u001b[0m\u001b[0mrow_op\u001b[0m\u001b[0;34m(\u001b[0m\u001b[0mk\u001b[0m\u001b[0;34m,\u001b[0m \u001b[0;32mlambda\u001b[0m \u001b[0mx\u001b[0m\u001b[0;34m,\u001b[0m \u001b[0mj\u001b[0m\u001b[0;34m:\u001b[0m \u001b[0msimplify\u001b[0m\u001b[0;34m(\u001b[0m\u001b[0mx\u001b[0m \u001b[0;34m-\u001b[0m \u001b[0mmatrix\u001b[0m\u001b[0;34m[\u001b[0m\u001b[0mi\u001b[0m\u001b[0;34m,\u001b[0m \u001b[0mj\u001b[0m\u001b[0;34m]\u001b[0m\u001b[0;34m*\u001b[0m\u001b[0mcoeff\u001b[0m\u001b[0;34m)\u001b[0m\u001b[0;34m)\u001b[0m\u001b[0;34m\u001b[0m\u001b[0;34m\u001b[0m\u001b[0m\n\u001b[0m\u001b[1;32m   2335\u001b[0m \u001b[0;34m\u001b[0m\u001b[0m\n\u001b[1;32m   2336\u001b[0m         \u001b[0mi\u001b[0m \u001b[0;34m+=\u001b[0m \u001b[0;36m1\u001b[0m\u001b[0;34m\u001b[0m\u001b[0;34m\u001b[0m\u001b[0m\n",
      "\u001b[0;32m~/opt/anaconda3/lib/python3.8/site-packages/sympy/simplify/simplify.py\u001b[0m in \u001b[0;36msimplify\u001b[0;34m(expr, ratio, measure, rational, inverse, doit, **kwargs)\u001b[0m\n\u001b[1;32m    684\u001b[0m     \u001b[0mshort\u001b[0m \u001b[0;34m=\u001b[0m \u001b[0mshorter\u001b[0m\u001b[0;34m(\u001b[0m\u001b[0mpowsimp\u001b[0m\u001b[0;34m(\u001b[0m\u001b[0mexpr\u001b[0m\u001b[0;34m,\u001b[0m \u001b[0mcombine\u001b[0m\u001b[0;34m=\u001b[0m\u001b[0;34m'exp'\u001b[0m\u001b[0;34m,\u001b[0m \u001b[0mdeep\u001b[0m\u001b[0;34m=\u001b[0m\u001b[0;32mTrue\u001b[0m\u001b[0;34m)\u001b[0m\u001b[0;34m,\u001b[0m \u001b[0mpowsimp\u001b[0m\u001b[0;34m(\u001b[0m\u001b[0mexpr\u001b[0m\u001b[0;34m)\u001b[0m\u001b[0;34m,\u001b[0m \u001b[0mexpr\u001b[0m\u001b[0;34m)\u001b[0m\u001b[0;34m\u001b[0m\u001b[0;34m\u001b[0m\u001b[0m\n\u001b[1;32m    685\u001b[0m     \u001b[0mshort\u001b[0m \u001b[0;34m=\u001b[0m \u001b[0mshorter\u001b[0m\u001b[0;34m(\u001b[0m\u001b[0mshort\u001b[0m\u001b[0;34m,\u001b[0m \u001b[0mcancel\u001b[0m\u001b[0;34m(\u001b[0m\u001b[0mshort\u001b[0m\u001b[0;34m)\u001b[0m\u001b[0;34m)\u001b[0m\u001b[0;34m\u001b[0m\u001b[0;34m\u001b[0m\u001b[0m\n\u001b[0;32m--> 686\u001b[0;31m     \u001b[0mshort\u001b[0m \u001b[0;34m=\u001b[0m \u001b[0mshorter\u001b[0m\u001b[0;34m(\u001b[0m\u001b[0mshort\u001b[0m\u001b[0;34m,\u001b[0m \u001b[0mfactor_terms\u001b[0m\u001b[0;34m(\u001b[0m\u001b[0mshort\u001b[0m\u001b[0;34m)\u001b[0m\u001b[0;34m,\u001b[0m \u001b[0mexpand_power_exp\u001b[0m\u001b[0;34m(\u001b[0m\u001b[0mexpand_mul\u001b[0m\u001b[0;34m(\u001b[0m\u001b[0mshort\u001b[0m\u001b[0;34m)\u001b[0m\u001b[0;34m)\u001b[0m\u001b[0;34m)\u001b[0m\u001b[0;34m\u001b[0m\u001b[0;34m\u001b[0m\u001b[0m\n\u001b[0m\u001b[1;32m    687\u001b[0m     \u001b[0;32mif\u001b[0m \u001b[0mshort\u001b[0m\u001b[0;34m.\u001b[0m\u001b[0mhas\u001b[0m\u001b[0;34m(\u001b[0m\u001b[0mTrigonometricFunction\u001b[0m\u001b[0;34m,\u001b[0m \u001b[0mHyperbolicFunction\u001b[0m\u001b[0;34m,\u001b[0m \u001b[0mExpBase\u001b[0m\u001b[0;34m)\u001b[0m\u001b[0;34m:\u001b[0m\u001b[0;34m\u001b[0m\u001b[0;34m\u001b[0m\u001b[0m\n\u001b[1;32m    688\u001b[0m         \u001b[0mshort\u001b[0m \u001b[0;34m=\u001b[0m \u001b[0mexptrigsimp\u001b[0m\u001b[0;34m(\u001b[0m\u001b[0mshort\u001b[0m\u001b[0;34m)\u001b[0m\u001b[0;34m\u001b[0m\u001b[0;34m\u001b[0m\u001b[0m\n",
      "\u001b[0;32m~/opt/anaconda3/lib/python3.8/site-packages/sympy/simplify/simplify.py\u001b[0m in \u001b[0;36mshorter\u001b[0;34m(*choices)\u001b[0m\n\u001b[1;32m    538\u001b[0m         \u001b[0;32mif\u001b[0m \u001b[0;32mnot\u001b[0m \u001b[0mhas_variety\u001b[0m\u001b[0;34m(\u001b[0m\u001b[0mchoices\u001b[0m\u001b[0;34m)\u001b[0m\u001b[0;34m:\u001b[0m\u001b[0;34m\u001b[0m\u001b[0;34m\u001b[0m\u001b[0m\n\u001b[1;32m    539\u001b[0m             \u001b[0;32mreturn\u001b[0m \u001b[0mchoices\u001b[0m\u001b[0;34m[\u001b[0m\u001b[0;36m0\u001b[0m\u001b[0;34m]\u001b[0m\u001b[0;34m\u001b[0m\u001b[0;34m\u001b[0m\u001b[0m\n\u001b[0;32m--> 540\u001b[0;31m         \u001b[0;32mreturn\u001b[0m \u001b[0mmin\u001b[0m\u001b[0;34m(\u001b[0m\u001b[0mchoices\u001b[0m\u001b[0;34m,\u001b[0m \u001b[0mkey\u001b[0m\u001b[0;34m=\u001b[0m\u001b[0mmeasure\u001b[0m\u001b[0;34m)\u001b[0m\u001b[0;34m\u001b[0m\u001b[0;34m\u001b[0m\u001b[0m\n\u001b[0m\u001b[1;32m    541\u001b[0m \u001b[0;34m\u001b[0m\u001b[0m\n\u001b[1;32m    542\u001b[0m     \u001b[0;32mdef\u001b[0m \u001b[0mdone\u001b[0m\u001b[0;34m(\u001b[0m\u001b[0me\u001b[0m\u001b[0;34m)\u001b[0m\u001b[0;34m:\u001b[0m\u001b[0;34m\u001b[0m\u001b[0;34m\u001b[0m\u001b[0m\n",
      "\u001b[0;32m~/opt/anaconda3/lib/python3.8/site-packages/sympy/core/function.py\u001b[0m in \u001b[0;36mcount_ops\u001b[0;34m(expr, visual)\u001b[0m\n\u001b[1;32m   3095\u001b[0m                     \u001b[0;32melse\u001b[0m\u001b[0;34m:\u001b[0m\u001b[0;34m\u001b[0m\u001b[0;34m\u001b[0m\u001b[0m\n\u001b[1;32m   3096\u001b[0m                         \u001b[0ma\u001b[0m \u001b[0;34m=\u001b[0m \u001b[0;34m-\u001b[0m\u001b[0ma\u001b[0m\u001b[0;34m\u001b[0m\u001b[0;34m\u001b[0m\u001b[0m\n\u001b[0;32m-> 3097\u001b[0;31m                 \u001b[0mn\u001b[0m\u001b[0;34m,\u001b[0m \u001b[0md\u001b[0m \u001b[0;34m=\u001b[0m \u001b[0mfraction\u001b[0m\u001b[0;34m(\u001b[0m\u001b[0ma\u001b[0m\u001b[0;34m)\u001b[0m\u001b[0;34m\u001b[0m\u001b[0;34m\u001b[0m\u001b[0m\n\u001b[0m\u001b[1;32m   3098\u001b[0m                 \u001b[0;32mif\u001b[0m \u001b[0mn\u001b[0m\u001b[0;34m.\u001b[0m\u001b[0mis_Integer\u001b[0m\u001b[0;34m:\u001b[0m\u001b[0;34m\u001b[0m\u001b[0;34m\u001b[0m\u001b[0m\n\u001b[1;32m   3099\u001b[0m                     \u001b[0mops\u001b[0m\u001b[0;34m.\u001b[0m\u001b[0mappend\u001b[0m\u001b[0;34m(\u001b[0m\u001b[0mDIV\u001b[0m\u001b[0;34m)\u001b[0m\u001b[0;34m\u001b[0m\u001b[0;34m\u001b[0m\u001b[0m\n",
      "\u001b[0;32m~/opt/anaconda3/lib/python3.8/site-packages/sympy/simplify/radsimp.py\u001b[0m in \u001b[0;36mfraction\u001b[0;34m(expr, exact)\u001b[0m\n\u001b[1;32m   1099\u001b[0m         \u001b[0;32mreturn\u001b[0m \u001b[0mMul\u001b[0m\u001b[0;34m(\u001b[0m\u001b[0;34m*\u001b[0m\u001b[0mnumer\u001b[0m\u001b[0;34m,\u001b[0m \u001b[0mevaluate\u001b[0m\u001b[0;34m=\u001b[0m\u001b[0;32mFalse\u001b[0m\u001b[0;34m)\u001b[0m\u001b[0;34m,\u001b[0m \u001b[0mMul\u001b[0m\u001b[0;34m(\u001b[0m\u001b[0;34m*\u001b[0m\u001b[0mdenom\u001b[0m\u001b[0;34m,\u001b[0m \u001b[0mevaluate\u001b[0m\u001b[0;34m=\u001b[0m\u001b[0;32mFalse\u001b[0m\u001b[0;34m)\u001b[0m\u001b[0;34m\u001b[0m\u001b[0;34m\u001b[0m\u001b[0m\n\u001b[1;32m   1100\u001b[0m     \u001b[0;32melse\u001b[0m\u001b[0;34m:\u001b[0m\u001b[0;34m\u001b[0m\u001b[0;34m\u001b[0m\u001b[0m\n\u001b[0;32m-> 1101\u001b[0;31m         \u001b[0;32mreturn\u001b[0m \u001b[0mMul\u001b[0m\u001b[0;34m(\u001b[0m\u001b[0;34m*\u001b[0m\u001b[0mnumer\u001b[0m\u001b[0;34m)\u001b[0m\u001b[0;34m,\u001b[0m \u001b[0mMul\u001b[0m\u001b[0;34m(\u001b[0m\u001b[0;34m*\u001b[0m\u001b[0mdenom\u001b[0m\u001b[0;34m)\u001b[0m\u001b[0;34m\u001b[0m\u001b[0;34m\u001b[0m\u001b[0m\n\u001b[0m\u001b[1;32m   1102\u001b[0m \u001b[0;34m\u001b[0m\u001b[0m\n\u001b[1;32m   1103\u001b[0m \u001b[0;34m\u001b[0m\u001b[0m\n",
      "\u001b[0;31mKeyboardInterrupt\u001b[0m: "
     ]
    }
   ],
   "source": [
    "ss = main.invariant_distribution_analytically(M)"
   ]
  },
  {
   "cell_type": "code",
   "execution_count": null,
   "id": "d151e762",
   "metadata": {},
   "outputs": [],
   "source": []
  }
 ],
 "metadata": {
  "kernelspec": {
   "display_name": "Python 3 (ipykernel)",
   "language": "python",
   "name": "python3"
  },
  "language_info": {
   "codemirror_mode": {
    "name": "ipython",
    "version": 3
   },
   "file_extension": ".py",
   "mimetype": "text/x-python",
   "name": "python",
   "nbconvert_exporter": "python",
   "pygments_lexer": "ipython3",
   "version": "3.11.3"
  }
 },
 "nbformat": 4,
 "nbformat_minor": 5
}
