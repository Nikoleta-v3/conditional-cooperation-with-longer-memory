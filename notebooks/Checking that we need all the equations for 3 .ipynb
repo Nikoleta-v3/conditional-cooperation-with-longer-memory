{
 "cells": [
  {
   "cell_type": "code",
   "execution_count": 1,
   "id": "f50c94f5",
   "metadata": {},
   "outputs": [],
   "source": [
    "import repeated_play"
   ]
  },
  {
   "cell_type": "code",
   "execution_count": 2,
   "id": "0e4048ee",
   "metadata": {},
   "outputs": [],
   "source": [
    "import sympy as sym\n",
    "\n",
    "import tqdm"
   ]
  },
  {
   "cell_type": "code",
   "execution_count": 4,
   "id": "4ec2ad75",
   "metadata": {},
   "outputs": [],
   "source": [
    "import pandas as pd\n",
    "\n",
    "import itertools"
   ]
  },
  {
   "cell_type": "code",
   "execution_count": 27,
   "id": "4a5c5c81",
   "metadata": {},
   "outputs": [],
   "source": [
    "import glob"
   ]
  },
  {
   "cell_type": "code",
   "execution_count": 36,
   "id": "9c70a9a7",
   "metadata": {},
   "outputs": [],
   "source": [
    "def seperate_equilibria_and_non(df):\n",
    "    \"\"\"A functions that takes a dataframe with points and seperates the\n",
    "    points are Nash and those that are not.\n",
    "    \n",
    "    Returns two dataframes.\"\"\"\n",
    "    per_player = df.groupby('ID')['condition A'].all()\n",
    "\n",
    "    eq_players_ID = per_player[per_player == True].index\n",
    "\n",
    "    noneq_players_ID = per_player[per_player == False].index\n",
    "    \n",
    "    return df[df['ID'].isin(eq_players_ID)], df[df['ID'].isin(noneq_players_ID)]"
   ]
  },
  {
   "cell_type": "code",
   "execution_count": 5,
   "id": "ce2dfbae",
   "metadata": {},
   "outputs": [],
   "source": [
    "def transformed_matrix(coplayer, analytical=False):\n",
    "    \n",
    "    if analytical == False:\n",
    "    \n",
    "        return np.array([[coplayer[0], (1 - coplayer[0]), 0, 0, 0, 0, 0, 0],\n",
    "                        [0, 0, coplayer[1], (1 - coplayer[1]), 0, 0, 0, 0],\n",
    "                        [0, 0, 0, 0, coplayer[2], (1 - coplayer[2]), 0, 0],\n",
    "                        [0, 0, 0, 0, 0, 0, coplayer[3], (1 - coplayer[3])],\n",
    "                        [coplayer[4], (1 - coplayer[4]), 0, 0, 0, 0, 0, 0],\n",
    "                        [0, 0, coplayer[5], (1 - coplayer[5]), 0, 0, 0, 0],\n",
    "                        [0, 0, 0, 0, coplayer[6], (1 - coplayer[6]), 0, 0],\n",
    "                        [0, 0, 0, 0, 0, 0, coplayer[7], (1 - coplayer[7])]])\n",
    "    \n",
    "    if analytical == True:\n",
    "\n",
    "        return sym.Matrix([[coplayer[0], (1 - coplayer[0]), 0, 0, 0, 0, 0, 0],\n",
    "                        [0, 0, coplayer[1], (1 - coplayer[1]), 0, 0, 0, 0],\n",
    "                        [0, 0, 0, 0, coplayer[2], (1 - coplayer[2]), 0, 0],\n",
    "                        [0, 0, 0, 0, 0, 0, coplayer[3], (1 - coplayer[3])],\n",
    "                        [coplayer[4], (1 - coplayer[4]), 0, 0, 0, 0, 0, 0],\n",
    "                        [0, 0, coplayer[5], (1 - coplayer[5]), 0, 0, 0, 0],\n",
    "                        [0, 0, 0, 0, coplayer[6], (1 - coplayer[6]), 0, 0],\n",
    "                        [0, 0, 0, 0, 0, 0, coplayer[7], (1 - coplayer[7])]])"
   ]
  },
  {
   "cell_type": "code",
   "execution_count": 6,
   "id": "534fc78c",
   "metadata": {},
   "outputs": [],
   "source": [
    "qs = sym.symbols(\"q1:9\")\n",
    "ps = sym.symbols(\"p1:9\")\n",
    "\n",
    "b, c = sym.symbols(\"b, c\")"
   ]
  },
  {
   "cell_type": "code",
   "execution_count": 28,
   "id": "c5d7870c",
   "metadata": {},
   "outputs": [],
   "source": [
    "files = glob.glob(\"../data/three_bit_against_self_reactive_three/*.csv\")"
   ]
  },
  {
   "cell_type": "code",
   "execution_count": 29,
   "id": "dd9fa675",
   "metadata": {},
   "outputs": [],
   "source": [
    "names = [\"ID\"] + [f\"p_{i}\" for i in range(1, 9)] + ['label', 'Sp', 'Sq', 'condition A', 'condition B', \"b\", \"c\"]"
   ]
  },
  {
   "cell_type": "code",
   "execution_count": 30,
   "id": "18e070f9",
   "metadata": {},
   "outputs": [
    {
     "name": "stderr",
     "output_type": "stream",
     "text": [
      "100%|█████████████████████████████████████████████████████████████████████████████████████████████████████████████████████████████████████████████████████████████| 5000/5000 [00:15<00:00, 325.60it/s]\n"
     ]
    }
   ],
   "source": [
    "dfs = []\n",
    "\n",
    "for file in tqdm.tqdm(files):\n",
    "    \n",
    "    dfs.append(pd.read_csv(file, names=names))"
   ]
  },
  {
   "cell_type": "code",
   "execution_count": 31,
   "id": "fcac8faa",
   "metadata": {},
   "outputs": [],
   "source": [
    "df = pd.concat(dfs)"
   ]
  },
  {
   "cell_type": "code",
   "execution_count": 32,
   "id": "ed6cd56b",
   "metadata": {},
   "outputs": [],
   "source": [
    "df = df.reset_index(drop=True)"
   ]
  },
  {
   "cell_type": "code",
   "execution_count": null,
   "id": "670d0b68",
   "metadata": {},
   "outputs": [],
   "source": [
    "df.columns = names"
   ]
  },
  {
   "cell_type": "code",
   "execution_count": 37,
   "id": "2d895b55",
   "metadata": {},
   "outputs": [],
   "source": [
    "eq, noneq = seperate_equilibria_and_non(df)"
   ]
  },
  {
   "cell_type": "code",
   "execution_count": 15,
   "id": "37bcd4fd",
   "metadata": {},
   "outputs": [],
   "source": [
    "import numpy as np"
   ]
  },
  {
   "cell_type": "code",
   "execution_count": 16,
   "id": "3fb48aaf",
   "metadata": {},
   "outputs": [],
   "source": [
    "pure_self_reactive = list(itertools.product([0, 1], repeat=8))"
   ]
  },
  {
   "cell_type": "code",
   "execution_count": 131,
   "id": "b7506860",
   "metadata": {},
   "outputs": [
    {
     "name": "stderr",
     "output_type": "stream",
     "text": [
      "256it [00:03, 76.89it/s]\n"
     ]
    }
   ],
   "source": [
    "payoffs = []\n",
    "\n",
    "indices = []\n",
    "\n",
    "for i, coplayer in tqdm.tqdm(enumerate(pure_self_reactive)):\n",
    "    \n",
    "    M = transformed_matrix(coplayer)\n",
    "    \n",
    "    stationaries = repeated_play.stationary_distribution(M)\n",
    "    \n",
    "    for ss in stationaries:\n",
    "        \n",
    "        rho_q = ss[0] + ss[1] + ss[4] + ss[5]\n",
    "        \n",
    "        rho_p = sum([ss[i] * ps[i] for i in range(8)])\n",
    "        \n",
    "        \n",
    "        expression =  b * rho_p - c * rho_q\n",
    "        \n",
    "        expression = sym.nsimplify(expression.subs({ps[0]: 1}))\n",
    "        \n",
    "        payoffs.append(expression)\n",
    "        \n",
    "        indices.append(i)\n",
    "    "
   ]
  },
  {
   "cell_type": "code",
   "execution_count": 220,
   "id": "cbcd3251",
   "metadata": {},
   "outputs": [],
   "source": [
    "IDs = noneq['ID'].unique()"
   ]
  },
  {
   "cell_type": "code",
   "execution_count": 221,
   "id": "971064ad",
   "metadata": {},
   "outputs": [],
   "source": [
    "# set(IDs).difference(noneq[(noneq['label'] == f'N0') & (noneq['condition A'] == False)]['ID'].unique())"
   ]
  },
  {
   "cell_type": "code",
   "execution_count": 392,
   "id": "a5550ea5",
   "metadata": {},
   "outputs": [],
   "source": [
    "strategies = [[indices[i] for i, p in enumerate(payoffs) if p == unique_p] for unique_p in unique_payoffs]"
   ]
  },
  {
   "cell_type": "code",
   "execution_count": 256,
   "id": "fd91d79a",
   "metadata": {},
   "outputs": [
    {
     "data": {
      "text/plain": [
       "{0, 2, 8, 10, 32, 34, 36, 38, 40, 42, 44, 46, 64, 66, 72, 74}"
      ]
     },
     "execution_count": 256,
     "metadata": {},
     "output_type": "execute_result"
    }
   ],
   "source": [
    "A = set(strategies[0])\n",
    "\n",
    "B = set([item for sublist in strategies[1:] for item in sublist])\n",
    "\n",
    "A.difference(B)"
   ]
  },
  {
   "cell_type": "code",
   "execution_count": 257,
   "id": "8dd0ec11",
   "metadata": {},
   "outputs": [
    {
     "data": {
      "text/plain": [
       "{3, 35, 39}"
      ]
     },
     "execution_count": 257,
     "metadata": {},
     "output_type": "execute_result"
    }
   ],
   "source": [
    "A = set(strategies[1])\n",
    "\n",
    "B = set([item for sublist in strategies[2:] for item in sublist])\n",
    "\n",
    "A.difference(B)"
   ]
  },
  {
   "cell_type": "code",
   "execution_count": 269,
   "id": "e6692e66",
   "metadata": {},
   "outputs": [],
   "source": [
    "unique_strategies_per_payoff = []\n",
    "\n",
    "for i, s in enumerate(strategies):\n",
    "\n",
    "    A = set(s)\n",
    "    \n",
    "    check = strategies[:i] + strategies[i + 1:]\n",
    "\n",
    "    B = set([item for sublist in check for item in sublist])\n",
    "\n",
    "    unique_strategies_per_payoff.append(list(A.difference(B)))"
   ]
  },
  {
   "cell_type": "code",
   "execution_count": 292,
   "id": "5ab09df9",
   "metadata": {},
   "outputs": [
    {
     "data": {
      "text/plain": [
       "[[0, 32, 2, 34, 36, 64, 38, 66, 8, 40, 10, 42, 44, 72, 46, 74],\n",
       " [3, 35, 39],\n",
       " [255,\n",
       "  139,\n",
       "  171,\n",
       "  173,\n",
       "  187,\n",
       "  175,\n",
       "  203,\n",
       "  219,\n",
       "  235,\n",
       "  237,\n",
       "  239,\n",
       "  251,\n",
       "  253,\n",
       "  155,\n",
       "  189,\n",
       "  191],\n",
       " [91, 61],\n",
       " [51, 19, 55],\n",
       " [27, 59, 63],\n",
       " [75, 45],\n",
       " [83, 53],\n",
       " [67, 37],\n",
       " [11, 43, 47],\n",
       " [65, 1, 33, 41, 9, 73],\n",
       " [89, 81, 17, 49, 57, 25],\n",
       " [107, 109, 111, 123, 125, 127],\n",
       " [69, 5, 71, 13, 77, 79, 93, 21, 85, 87, 29, 95],\n",
       " [99, 101, 103, 115, 117, 119]]"
      ]
     },
     "execution_count": 292,
     "metadata": {},
     "output_type": "execute_result"
    }
   ],
   "source": [
    "unique_strategies_per_payoff"
   ]
  },
  {
   "cell_type": "code",
   "execution_count": 310,
   "id": "93cd82d3",
   "metadata": {},
   "outputs": [],
   "source": [
    "per_payoff_set = []\n",
    "\n",
    "for i, s in enumerate(unique_strategies_per_payoff):\n",
    "    \n",
    "    per_s = []\n",
    "    \n",
    "    for j in s:\n",
    "        \n",
    "        A = set(noneq[(noneq['label'] == f'N{j}') & (noneq['condition A'] == False)]['ID'].unique())\n",
    "\n",
    "        to_check = unique_strategies_per_payoff[:i] + unique_strategies_per_payoff[i + 1:]\n",
    "\n",
    "        B =  [noneq[(noneq['label'] == f'N{l[0]}') & (noneq['condition A'] == False)]['ID'].unique()\n",
    "              for l in to_check]\n",
    "\n",
    "        C = set([item for sublist in B for item in sublist])\n",
    "\n",
    "        per_s += list(A.difference(C))\n",
    "        \n",
    "    per_payoff_set.per_s"
   ]
  },
  {
   "cell_type": "code",
   "execution_count": 311,
   "id": "163bf63a",
   "metadata": {},
   "outputs": [
    {
     "data": {
      "text/plain": [
       "[1, 2, 3, 6, 7, 8, 9, 10, 12, 14]"
      ]
     },
     "execution_count": 311,
     "metadata": {},
     "output_type": "execute_result"
    }
   ],
   "source": [
    "[i for i, s in enumerate(per_payoff_set) if len(s) == 0]"
   ]
  },
  {
   "cell_type": "code",
   "execution_count": 312,
   "id": "f77823f2",
   "metadata": {},
   "outputs": [
    {
     "data": {
      "text/plain": [
       "[0, 4, 5, 11, 13]"
      ]
     },
     "execution_count": 312,
     "metadata": {},
     "output_type": "execute_result"
    }
   ],
   "source": [
    "[i for i, s in enumerate(per_payoff_set) if len(s) != 0]"
   ]
  },
  {
   "cell_type": "code",
   "execution_count": 375,
   "id": "3328f223",
   "metadata": {},
   "outputs": [
    {
     "data": {
      "text/plain": [
       "[51, 19, 55]"
      ]
     },
     "execution_count": 375,
     "metadata": {},
     "output_type": "execute_result"
    }
   ],
   "source": [
    "unique_strategies_per_payoff[4]"
   ]
  },
  {
   "cell_type": "code",
   "execution_count": 373,
   "id": "900f59f1",
   "metadata": {},
   "outputs": [
    {
     "data": {
      "text/latex": [
       "$\\displaystyle b p_{8}$"
      ],
      "text/plain": [
       "b*p8"
      ]
     },
     "execution_count": 373,
     "metadata": {},
     "output_type": "execute_result"
    }
   ],
   "source": [
    "unique_payoffs[0]"
   ]
  },
  {
   "cell_type": "code",
   "execution_count": 382,
   "id": "b8f15158",
   "metadata": {},
   "outputs": [],
   "source": [
    "explained = []\n",
    "\n",
    "for i in unique_strategies_per_payoff[14]:\n",
    "    \n",
    "    explained += list(noneq[(noneq['label'] == f'N{i}') & (noneq['condition A'] == False)]['ID'].unique())\n",
    "    "
   ]
  },
  {
   "cell_type": "code",
   "execution_count": 389,
   "id": "5111921c",
   "metadata": {},
   "outputs": [],
   "source": [
    "A = [noneq[(noneq['label'] == f'N{i}') & (noneq['condition A'] == False)]['ID'].unique()\n",
    "     for i in unique_strategies_per_payoff[0]]\n",
    "\n",
    "B = set(noneq[(noneq['label'] == f'N55') & (noneq['condition A'] == False)]['ID'].unique())\n",
    "\n",
    "C = set(noneq[(noneq['label'] == f'N17') & (noneq['condition A'] == False)]['ID'].unique())\n",
    "\n",
    "D =  set(noneq[(noneq['label'] == f'N5') & (noneq['condition A'] == False)]['ID'].unique())"
   ]
  },
  {
   "cell_type": "code",
   "execution_count": 390,
   "id": "97503289",
   "metadata": {},
   "outputs": [],
   "source": [
    "E = A.union(B).union(C).union(D).union(set(explained))"
   ]
  },
  {
   "cell_type": "code",
   "execution_count": 391,
   "id": "49c2b9ba",
   "metadata": {},
   "outputs": [
    {
     "data": {
      "text/plain": [
       "3008"
      ]
     },
     "execution_count": 391,
     "metadata": {},
     "output_type": "execute_result"
    }
   ],
   "source": [
    "len(E)"
   ]
  },
  {
   "cell_type": "code",
   "execution_count": 395,
   "id": "686dbe5e",
   "metadata": {},
   "outputs": [
    {
     "data": {
      "text/plain": [
       "[3, 7, 35, 39, 131, 135, 163, 167]"
      ]
     },
     "execution_count": 395,
     "metadata": {},
     "output_type": "execute_result"
    }
   ],
   "source": [
    "strategies[1]"
   ]
  },
  {
   "cell_type": "code",
   "execution_count": 398,
   "id": "6114558d",
   "metadata": {},
   "outputs": [
    {
     "data": {
      "text/plain": [
       "542"
      ]
     },
     "execution_count": 398,
     "metadata": {},
     "output_type": "execute_result"
    }
   ],
   "source": [
    "A = set(noneq[(noneq['label'] == f'N7') & (noneq['condition A'] == False)]['ID'].unique())\n",
    "\n",
    "len(A)"
   ]
  },
  {
   "cell_type": "code",
   "execution_count": 306,
   "id": "3d1d4621",
   "metadata": {},
   "outputs": [],
   "source": [
    "i = 14\n",
    "\n",
    "j = unique_strategies_per_payoff[i][0]\n",
    "\n",
    "A = set(noneq[(noneq['label'] == f'N{j}') & (noneq['condition A'] == False)]['ID'].unique())\n",
    "\n",
    "to_check = unique_strategies_per_payoff[:i] + unique_strategies_per_payoff[i + 1:]\n",
    "\n",
    "B =  [noneq[(noneq['label'] == f'N{l[0]}') & (noneq['condition A'] == False)]['ID'].unique()\n",
    "      for l in to_check]\n",
    "\n",
    "C = set([item for sublist in B for item in sublist])"
   ]
  },
  {
   "cell_type": "code",
   "execution_count": 308,
   "id": "1b7621de",
   "metadata": {},
   "outputs": [
    {
     "data": {
      "text/plain": [
       "set()"
      ]
     },
     "execution_count": 308,
     "metadata": {},
     "output_type": "execute_result"
    }
   ],
   "source": [
    "A.difference(C)"
   ]
  },
  {
   "cell_type": "code",
   "execution_count": 290,
   "id": "868b5f6f",
   "metadata": {},
   "outputs": [
    {
     "data": {
      "text/plain": [
       "{b: c/p8}"
      ]
     },
     "execution_count": 290,
     "metadata": {},
     "output_type": "execute_result"
    }
   ],
   "source": [
    "sym.solve(unique_payoffs[0] - c)[0]"
   ]
  },
  {
   "cell_type": "code",
   "execution_count": 323,
   "id": "f27a71f7",
   "metadata": {},
   "outputs": [
    {
     "data": {
      "text/latex": [
       "$\\displaystyle b \\left(\\frac{p_{2}}{4} + \\frac{p_{4}}{4} + \\frac{p_{5}}{4} + \\frac{p_{7}}{4}\\right) - b + \\frac{c}{2}$"
      ],
      "text/plain": [
       "b*(p2/4 + p4/4 + p5/4 + p7/4) - b + c/2"
      ]
     },
     "execution_count": 323,
     "metadata": {},
     "output_type": "execute_result"
    }
   ],
   "source": [
    "unique_payoffs[4] - (b - c)"
   ]
  },
  {
   "cell_type": "code",
   "execution_count": 324,
   "id": "3b45af86",
   "metadata": {},
   "outputs": [
    {
     "data": {
      "text/latex": [
       "$\\displaystyle b \\left(\\frac{p_{2}}{5} + \\frac{p_{4}}{5} + \\frac{p_{5}}{5} + \\frac{p_{7}}{5} + \\frac{1}{5}\\right) - b + \\frac{2 c}{5}$"
      ],
      "text/plain": [
       "b*(p2/5 + p4/5 + p5/5 + p7/5 + 1/5) - b + 2*c/5"
      ]
     },
     "execution_count": 324,
     "metadata": {},
     "output_type": "execute_result"
    }
   ],
   "source": [
    "unique_payoffs[5] - (b - c)"
   ]
  },
  {
   "cell_type": "code",
   "execution_count": 294,
   "id": "c078ea0f",
   "metadata": {},
   "outputs": [
    {
     "data": {
      "text/latex": [
       "$\\displaystyle b \\left(\\frac{p_{4}}{3} + \\frac{p_{6}}{3} + \\frac{p_{7}}{3}\\right) - \\frac{c}{3}$"
      ],
      "text/plain": [
       "b*(p4/3 + p6/3 + p7/3) - c/3"
      ]
     },
     "execution_count": 294,
     "metadata": {},
     "output_type": "execute_result"
    }
   ],
   "source": [
    "unique_payoffs[11]"
   ]
  },
  {
   "cell_type": "code",
   "execution_count": 287,
   "id": "23a4c7da",
   "metadata": {},
   "outputs": [
    {
     "data": {
      "text/latex": [
       "$\\displaystyle b \\left(\\frac{p_{3}}{2} + \\frac{p_{6}}{2}\\right) - \\frac{c}{2}$"
      ],
      "text/plain": [
       "b*(p3/2 + p6/2) - c/2"
      ]
     },
     "execution_count": 287,
     "metadata": {},
     "output_type": "execute_result"
    }
   ],
   "source": [
    "unique_payoffs[13]"
   ]
  },
  {
   "cell_type": "code",
   "execution_count": 364,
   "id": "4a05d2b3",
   "metadata": {},
   "outputs": [
    {
     "data": {
      "text/latex": [
       "$\\displaystyle b \\left(\\frac{p_{2}}{3} + \\frac{p_{3}}{3} + \\frac{p_{5}}{3}\\right) - \\frac{2 c}{3}$"
      ],
      "text/plain": [
       "b*(p2/3 + p3/3 + p5/3) - 2*c/3"
      ]
     },
     "execution_count": 364,
     "metadata": {},
     "output_type": "execute_result"
    }
   ],
   "source": [
    "unique_payoffs[14]"
   ]
  },
  {
   "cell_type": "code",
   "execution_count": null,
   "id": "27cf8566",
   "metadata": {},
   "outputs": [],
   "source": [
    "sets_ = [noneq[(noneq['label'] == f'N{i}') & (noneq['condition A'] == False)]['ID'].unique() for i in [0,\n",
    "                                                                                                       18,\n",
    "                                                                                                       16,\n",
    "                                                                                                       94]]"
   ]
  },
  {
   "cell_type": "code",
   "execution_count": null,
   "id": "edb5c15a",
   "metadata": {},
   "outputs": [],
   "source": []
  },
  {
   "cell_type": "code",
   "execution_count": null,
   "id": "28d42e54",
   "metadata": {},
   "outputs": [],
   "source": []
  },
  {
   "cell_type": "code",
   "execution_count": null,
   "id": "d9ffd9e4",
   "metadata": {},
   "outputs": [],
   "source": []
  },
  {
   "cell_type": "code",
   "execution_count": null,
   "id": "c8ccd66b",
   "metadata": {},
   "outputs": [],
   "source": []
  },
  {
   "cell_type": "code",
   "execution_count": 137,
   "id": "dc882805",
   "metadata": {},
   "outputs": [],
   "source": [
    "I = [[indices[i] for i, p in enumerate(payoffs) if p == unique_payoffs[j]][0] for j in unique_indices]"
   ]
  },
  {
   "cell_type": "code",
   "execution_count": 171,
   "id": "3eadcf75",
   "metadata": {},
   "outputs": [],
   "source": []
  },
  {
   "cell_type": "code",
   "execution_count": 176,
   "id": "6bf087ab",
   "metadata": {},
   "outputs": [
    {
     "data": {
      "text/plain": [
       "array([1337, 1451, 2164, ..., 1448, 2627, 3539])"
      ]
     },
     "execution_count": 176,
     "metadata": {},
     "output_type": "execute_result"
    }
   ],
   "source": [
    "noneq[(noneq['label'] == f'N0') & (noneq['condition A'] == False)]['ID'].unique()"
   ]
  },
  {
   "cell_type": "code",
   "execution_count": 172,
   "id": "4480fe6f",
   "metadata": {},
   "outputs": [],
   "source": [
    "A = set()\n",
    "\n",
    "for i in sets_:\n",
    "    A = A.union(set(i))"
   ]
  },
  {
   "cell_type": "code",
   "execution_count": 173,
   "id": "2174575b",
   "metadata": {},
   "outputs": [
    {
     "data": {
      "text/plain": [
       "2878"
      ]
     },
     "execution_count": 173,
     "metadata": {},
     "output_type": "execute_result"
    }
   ],
   "source": [
    "len(A)"
   ]
  },
  {
   "cell_type": "code",
   "execution_count": 116,
   "id": "5b9c4b80",
   "metadata": {},
   "outputs": [
    {
     "data": {
      "text/plain": [
       "5000"
      ]
     },
     "execution_count": 116,
     "metadata": {},
     "output_type": "execute_result"
    }
   ],
   "source": [
    "df['ID'].nunique()"
   ]
  },
  {
   "cell_type": "code",
   "execution_count": 117,
   "id": "50629288",
   "metadata": {},
   "outputs": [],
   "source": [
    "sets_ = [noneq[(noneq['label'] == f'N{i}') & (noneq['condition A'] == False)]['ID'].unique() for i in I]"
   ]
  },
  {
   "cell_type": "code",
   "execution_count": null,
   "id": "e631260c",
   "metadata": {},
   "outputs": [],
   "source": [
    "[noneq[(noneq['label'] == f'N{i}') & (noneq['condition A'] == False)]['ID'].unique()"
   ]
  },
  {
   "cell_type": "code",
   "execution_count": 118,
   "id": "d8d90548",
   "metadata": {},
   "outputs": [
    {
     "data": {
      "text/plain": [
       "6"
      ]
     },
     "execution_count": 118,
     "metadata": {},
     "output_type": "execute_result"
    }
   ],
   "source": [
    "len(sets_)"
   ]
  },
  {
   "cell_type": "code",
   "execution_count": 123,
   "id": "70f69804",
   "metadata": {},
   "outputs": [],
   "source": [
    "A = set()\n",
    "\n",
    "for i in sets_:\n",
    "    A = A.union(set(i))"
   ]
  },
  {
   "cell_type": "code",
   "execution_count": 125,
   "id": "811c1b03",
   "metadata": {},
   "outputs": [
    {
     "data": {
      "text/plain": [
       "2765"
      ]
     },
     "execution_count": 125,
     "metadata": {},
     "output_type": "execute_result"
    }
   ],
   "source": [
    "len(A)"
   ]
  },
  {
   "cell_type": "code",
   "execution_count": 126,
   "id": "630bdf95",
   "metadata": {},
   "outputs": [
    {
     "data": {
      "text/plain": [
       "[array([1337, 1451, 2164, ..., 1448, 2627, 3539]),\n",
       " array([1337, 1451, 2164, ..., 1448, 2627, 3539]),\n",
       " array([2825, 1486, 3291,  402, 3736, 1109, 1848, 1874, 3124, 3859, 4688,\n",
       "        1914, 1243, 2004, 2789,  577, 2005, 1518, 2987, 4879,  952, 3643,\n",
       "        1861, 1685, 1849, 4702, 2367, 1108, 1646,  371, 4528, 1446,  818,\n",
       "        2417, 3709,  830, 4072, 1687,  603, 1863, 3899, 4112,  777, 3682,\n",
       "         987, 1526, 2761, 2946, 4305, 2774, 2760, 2748, 2984, 1057, 4073,\n",
       "        2358,  366, 3250, 4275, 2189, 3283,  606,  955, 4117, 4103, 2228,\n",
       "        1721, 2764, 1279, 3335, 4658, 1046,  613,  149, 3902, 3719, 1468,\n",
       "        4262, 1454, 1642,  639, 4100, 4666, 2203,  765, 4699, 1093,    5,\n",
       "        4470, 3451, 1246, 1253, 3450, 4471, 4840,  994, 1904,  943, 4667,\n",
       "        1858,  162, 3929, 4908, 1643, 1125, 3732,  823, 2404,  374,  348,\n",
       "        1333, 2885, 1426,  449, 4990, 4953,  918, 3806, 1220, 1585,  267,\n",
       "        2099, 1209,  299, 3608, 1779, 2270, 4629, 1180, 3783,  110, 1619,\n",
       "         845, 2304,  306, 1357, 2110, 1419, 2676, 3583, 3030, 1155, 2460,\n",
       "         106, 1196, 3959, 3622, 2266, 4818, 2064, 2070, 3391,  259, 2065,\n",
       "         729, 3838, 4602, 4616, 2529, 1183,  661,  852,  846, 4762, 1626,\n",
       "        2844, 2850, 4202, 1420, 2883,  301, 3586, 4028, 1839, 1193, 3169,\n",
       "          88, 1030, 2707, 3419, 2075, 1232, 2934, 1233, 3424, 3342, 2074,\n",
       "        1958, 4834, 3154, 4954,  664,  894, 3752,  314, 1384,  328, 3220,\n",
       "        2894,  841, 4003, 1147, 1806, 4956,  935, 4639, 1755, 2710, 3426,\n",
       "        3396, 3427, 3433, 2063, 1218,  713, 4176, 2261,  920, 3792, 3962,\n",
       "         897, 4980, 3745, 1608, 4770, 4599, 3235, 2659, 4543,  332, 1188,\n",
       "         939,   93, 3166, 4635, 3833,   78, 3199, 1567, 3371, 1994, 2279,\n",
       "        1770, 4032, 4556, 1412, 2119,  325, 2680, 1389, 4018, 2455,  872,\n",
       "        4965, 4781, 3171, 2509, 2521,  906, 3830, 1216, 1558, 1559, 3372,\n",
       "        2291, 4192, 2252,  132, 1808,  654, 1175, 2468, 1607,  456,  495,\n",
       "        1405, 3574, 2120, 3564, 2849, 2875, 3982, 2444, 3014, 1171, 2478,\n",
       "        1617, 4633, 4155, 4141, 1039, 2518, 4182, 4425, 1207, 2928, 1548,\n",
       "        3834, 1789,  902, 4632, 3940, 4949, 4034,  490,  484, 3573, 2862,\n",
       "         323, 2453, 4022, 1172, 3765, 1990, 1760, 3605,   82, 1774, 3836,\n",
       "        3413, 3407, 2080,  530, 4396, 1211, 2283, 3176,  901,  120,  134,\n",
       "        2491, 3770,  685, 3994,  450,  487, 3572, 2678, 2179,  392, 3267,\n",
       "        1470, 4252, 4285,  190, 3703,  635, 1706, 4118, 3663,   27, 4326,\n",
       "        4454, 4333, 2756, 4441, 3306, 1908,  740, 2554, 1713, 4904, 3919,\n",
       "        3702, 2839,  422, 4253, 4279, 1315, 1498,  150, 4090, 2218, 3112,\n",
       "        1739, 1507, 2768, 4331, 4443, 4325, 1274, 3891, 3649,  958, 1857,\n",
       "        1843,  151,  623, 2423, 1894, 4734, 1328, 4244, 3275, 1310, 3507,\n",
       "         394, 1884, 2355, 1847,  960, 3665, 4678,  784, 1066, 2590, 1270,\n",
       "        1264, 4491, 2962,  236, 2963, 4309, 2750,  746, 3857, 2591, 3664,\n",
       "        3880,  154, 1675,  418, 2632, 3262, 4294,  354,  432, 2424, 4055,\n",
       "        1139, 2381, 1071,  793, 4874, 2785,  234,  235, 2784, 3840, 3854,\n",
       "        4685, 1070, 3673, 1702, 3883, 4120, 1058, 4929, 2182, 3511]),\n",
       " array([1337, 3285, 3291, ..., 3263, 1312, 2627]),\n",
       " array([2602, 2825, 3285, 1486,  402, 3736, 1109, 1848, 1874, 3656, 2548,\n",
       "        3124, 3859, 4688, 1914, 1243, 3440, 2004, 2789,  204,  577, 1518,\n",
       "        2011, 2987, 3864, 4879,  985,   13,  952, 2575, 4104, 3643, 2549,\n",
       "        1861, 1875, 1849, 2415, 4702, 2367, 1108, 4070, 1646, 4299,  371,\n",
       "        2603, 3535, 4528, 1446, 2832, 3286, 2826,  818, 3735, 2417, 3709,\n",
       "         830, 4072, 1687,  603, 1863, 3906, 3899,  978,  777, 3682, 3696,\n",
       "         987, 1254, 1526, 2749, 2946, 1296, 4305, 2774, 2760, 2748, 2984,\n",
       "         776,  945, 2210, 4649, 1057, 3907,  158, 1692, 4073, 2364, 3708,\n",
       "        2358,  366, 4517,  399, 1453, 3522, 3250, 4275, 2638, 1457, 2189,\n",
       "         410, 3283, 1872,  606,  955, 4117,  969, 2228, 3136, 4659, 1721,\n",
       "        2764, 1279, 4301, 1292, 3491,  202, 2956, 3335,  767,   29, 3876,\n",
       "        4658, 4880, 3889, 1052, 1734,  613,  149, 3902, 3731, 1668, 4076,\n",
       "        3719,  820, 1468, 4262, 1454, 3525,  413, 2377,  822, 1130, 1642,\n",
       "        3914,  639, 3082, 4921,  605, 4100, 4666, 2203,  759, 3874,  765,\n",
       "        4699, 1093,    5, 4470, 3451, 1246, 3323, 3492, 2969, 3444, 3322,\n",
       "        3450, 4471, 2014,  599, 4840,  994, 3861, 1904, 4897,  943, 4101,\n",
       "        4667, 3108, 1858,  162, 3929,  176, 3915, 4908, 1643, 1125, 3732,\n",
       "        2438, 3068, 2404,  406,  348, 1441, 1333, 2885, 1426, 3231, 2661,\n",
       "         449, 1630, 4990, 2339, 2305, 3769, 4953, 4947, 1181, 1817,  918,\n",
       "        2265, 4172, 1787,   71,  717, 3812, 3806, 1220, 4364, 2701, 1585,\n",
       "         267,  528, 2099,  266, 1209, 2066,  299, 4359, 1221, 1976, 1962,\n",
       "        4826, 3608, 1779, 2270, 3146, 4629, 1180,  662, 3783,  110, 1619,\n",
       "         845, 2304, 1143, 3998, 3026,  306, 2674, 1427, 1355, 1357, 2110,\n",
       "        4561, 1419, 3568, 2676, 4213, 3030, 1633, 3742, 1155, 2460,  660,\n",
       "         106, 4950, 1196, 3959,  890, 3622, 2266, 4603, 4818, 2064, 2070,\n",
       "        3391,  258,  259, 4399, 3390, 2717, 2071, 2065,  729,  715, 3838,\n",
       "        1791, 4602, 2501, 4616, 2267, 2529,  885, 4979, 3958, 1183,  661,\n",
       "        3019,  852,  846, 4762, 3757, 1626, 2844, 2850, 1381, 4202, 2115,\n",
       "        1408, 1420, 3237, 2883, 2868,  301, 3586, 1391, 1144, 2459, 4028,\n",
       "        1636, 4996, 1839,  103, 3790, 3948, 1193, 3169,   88, 1030, 3627,\n",
       "        3633, 4809, 1965, 2707, 3419, 1568, 2075, 4362, 1232, 2049, 2934,\n",
       "        3395, 1596, 1233, 3424, 3342, 2074, 4377, 1569, 4411, 1958,   76,\n",
       "        4820, 4834,  738, 3632, 3154, 2538, 2510, 4954,  664,  894, 1804,\n",
       "        4029, 1623, 3034, 3752, 2464,  314,  466, 1384,  328, 2102, 4229,\n",
       "        3546, 3220, 2894,  841, 4003, 2314, 1147, 1806,  935, 3618, 1741,\n",
       "        4639, 1755, 2710, 3354, 1557, 3426, 4349,  277, 3396, 1230, 3427,\n",
       "        2739, 3433, 2063, 4412, 1218,  713, 1967, 4176, 2261,  920, 3792,\n",
       "        4957, 3962,  897, 4980, 4758, 3745, 1608, 4770, 4599, 3235, 2659,\n",
       "        2117, 4219, 4543,  332,  468, 3774, 3990, 1188,  939,   93, 3166,\n",
       "        4635,  736, 3833, 3199, 1567, 1201, 3364, 2720, 1599, 4436, 3371,\n",
       "        2709, 1943, 1994,  910, 4620, 2279, 1770,  643, 4998, 4740, 4032,\n",
       "        1176, 3007, 4556, 2641, 2899, 4230, 1348, 3211, 1412,  480, 2119,\n",
       "        4232,  325, 2864, 2694, 2680, 1389, 4018, 1612, 2455, 4756,  872,\n",
       "        4965,  655, 4781, 4795, 1014, 3171, 4178, 2509, 2521, 2247,  735,\n",
       "        4193, 3830, 1216, 1558, 2904, 4391, 1559, 2050, 4435, 3372, 4409,\n",
       "        2291, 4192, 4804, 2252, 1029, 1997, 3158, 1834, 4958, 1820,  132,\n",
       "        1808,  654, 3986, 3004, 1175, 2468, 1607, 1388, 2681, 4596, 2695,\n",
       "         456,  442, 2656,  495, 1405, 3574, 2120, 3202, 3564, 2849, 2875,\n",
       "        3982, 2444,  877, 3014, 1171, 2478, 1617, 3955, 3969,  644, 4633,\n",
       "        4155, 4141, 1039, 2518,   95, 4182, 4814, 4357, 4425, 4419, 1207,\n",
       "        2901,  240, 2928,  269, 1212, 1548,  725, 3834,  719, 2280, 1789,\n",
       "        3820, 4168,  902, 1986, 4632,  123, 3940, 4949, 1825,  686,  876,\n",
       "        4034, 2451, 1158,  335,  490, 3573, 2862,  323, 2453, 4022, 3765,\n",
       "         684, 1990, 1760, 3605, 1012,   82, 1774, 3836, 1953,  733, 3349,\n",
       "        2725, 3413, 3407, 4383, 2080,  530, 4396,  518,  295, 4369, 3406,\n",
       "        1211, 4427,   54, 2283, 1946, 3837, 3604, 4619, 3176, 2268, 4143,\n",
       "         901,  120,  134, 1198, 2491, 1826, 3770,  685, 4023, 3994,  450,\n",
       "         487, 3572, 2678, 3566, 2179,  392, 4508, 3267, 1470, 4252, 4520,\n",
       "         351,  423, 4285,  190, 3703, 2353, 1706, 3677, 4118, 1060, 3663,\n",
       "        3893, 1048, 4865, 3878,   27, 1921, 4859, 3688,  580, 1276, 4326,\n",
       "        4454, 4333, 2756, 1539, 3306, 1908,  740, 3138, 2554, 3892,  797,\n",
       "        1713, 3110, 3676, 1854, 4904, 3919, 4045, 3702, 2839,  422, 2636,\n",
       "        4253, 1303, 4279, 1498, 1665, 3066,  150,  178, 4090, 2218, 3112,\n",
       "        4641, 1739, 3847, 1507, 2768, 4331, 4443, 4325,  226,  227, 4442,\n",
       "        1274,  596, 3891, 3649, 1738,  958, 3098, 1857, 1843, 2392,  179,\n",
       "         151,  623, 2423, 1894, 4734, 1328, 4244, 3275, 1310, 3507, 2619,\n",
       "         394, 4283, 4042, 1884, 2355,  828, 1847,  960, 3665, 4678,  784,\n",
       "        1066, 2590, 4863, 2989, 1270, 1264, 3473, 4491,  237, 2962,  223,\n",
       "         236, 2963, 4309, 2750,  746, 3857, 2591, 4692, 3664, 3102, 3880,\n",
       "         154,  632, 4094, 4080, 2397, 1675, 1488,  418, 2156, 4243, 2632,\n",
       "        3262, 4519, 2183, 4294, 3289,  354, 2424, 4055, 2342, 1139, 2381,\n",
       "         156, 1059, 2222, 1703, 1071,  793, 2587,  744, 4874, 2746, 1298,\n",
       "        2785,  234,  235, 2784, 4487, 3459, 4450,  989, 4849, 3840, 3854,\n",
       "        4685, 3101, 1070, 3673, 3115, 1702, 4652, 3883, 4120, 1058, 2237,\n",
       "        3920, 4929, 1676,  802, 4054, 2182, 1306, 3511, 3263]),\n",
       " array([1337, 1451, 2164, ..., 1448, 2627, 3539])]"
      ]
     },
     "execution_count": 126,
     "metadata": {},
     "output_type": "execute_result"
    }
   ],
   "source": [
    "sets_"
   ]
  },
  {
   "cell_type": "code",
   "execution_count": null,
   "id": "2f88cdbd",
   "metadata": {},
   "outputs": [],
   "source": []
  }
 ],
 "metadata": {
  "kernelspec": {
   "display_name": "Python 3",
   "language": "python",
   "name": "python3"
  },
  "language_info": {
   "codemirror_mode": {
    "name": "ipython",
    "version": 3
   },
   "file_extension": ".py",
   "mimetype": "text/x-python",
   "name": "python",
   "nbconvert_exporter": "python",
   "pygments_lexer": "ipython3",
   "version": "3.11.3"
  }
 },
 "nbformat": 4,
 "nbformat_minor": 5
}
