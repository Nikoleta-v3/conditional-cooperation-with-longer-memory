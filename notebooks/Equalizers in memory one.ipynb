{
 "cells": [
  {
   "cell_type": "code",
   "execution_count": 2,
   "id": "ae987af0",
   "metadata": {},
   "outputs": [],
   "source": [
    "import sympy as sym\n",
    "\n",
    "import repeated_play"
   ]
  },
  {
   "cell_type": "code",
   "execution_count": 3,
   "id": "3e9358d7",
   "metadata": {},
   "outputs": [],
   "source": [
    "import numpy as np"
   ]
  },
  {
   "cell_type": "code",
   "execution_count": 4,
   "id": "f03b7977",
   "metadata": {},
   "outputs": [],
   "source": [
    "sym.init_printing(True)"
   ]
  },
  {
   "cell_type": "code",
   "execution_count": 5,
   "id": "19f77ec6",
   "metadata": {},
   "outputs": [],
   "source": [
    "pc, pd, epsilon = sym.symbols(\"pc, pd, \\epsilon\")"
   ]
  },
  {
   "cell_type": "code",
   "execution_count": 6,
   "id": "27ebd0c4",
   "metadata": {},
   "outputs": [],
   "source": [
    "b, c = sym.symbols(\"b, c\")"
   ]
  },
  {
   "cell_type": "code",
   "execution_count": 7,
   "id": "70c218fb",
   "metadata": {},
   "outputs": [],
   "source": [
    "tft = [1 * (1 - epsilon), 1 * epsilon, 1 * (1 - epsilon), 1 * epsilon]"
   ]
  },
  {
   "cell_type": "code",
   "execution_count": 8,
   "id": "9be4f99f",
   "metadata": {},
   "outputs": [],
   "source": [
    "gtft = sym.Matrix([1 * (1 - epsilon), (1 - c/b) * (1 - epsilon) + c/b * epsilon,\n",
    "        1 * (1 - epsilon), (1 - c/b) * (1 - epsilon) + c/b * epsilon]).T"
   ]
  },
  {
   "cell_type": "code",
   "execution_count": 9,
   "id": "c98c2437",
   "metadata": {},
   "outputs": [
    {
     "data": {
      "image/png": "[encoded data removed]",
      "text/latex": [
       "$\\displaystyle \\left[\\begin{matrix}1 & 1 - \\frac{c}{b} & 1 & 1 - \\frac{c}{b}\\end{matrix}\\right]$"
      ],
      "text/plain": [
       "⎡       c         c⎤\n",
       "⎢1  1 - ─  1  1 - ─⎥\n",
       "⎣       b         b⎦"
      ]
     },
     "execution_count": 9,
     "metadata": {},
     "output_type": "execute_result"
    }
   ],
   "source": [
    "gtft.subs({epsilon:0})"
   ]
  },
  {
   "cell_type": "code",
   "execution_count": 10,
   "id": "9fc71dde",
   "metadata": {},
   "outputs": [],
   "source": [
    "M = repeated_play.transition_matrix_repeated_game([pc, pd, pc, pd], tft, memory='one', analytical=True)\n",
    "\n",
    "ss = repeated_play.stationary_distribution(M, analytical=True)"
   ]
  },
  {
   "cell_type": "code",
   "execution_count": 11,
   "id": "b7132384",
   "metadata": {},
   "outputs": [],
   "source": [
    "tft_payoff = sum(ss @ sym.Matrix([b - c, -c, b, 0]))"
   ]
  },
  {
   "cell_type": "code",
   "execution_count": 12,
   "id": "7a5a6879",
   "metadata": {},
   "outputs": [
    {
     "data": {
      "image/png": "[encoded data removed]",
      "text/latex": [
       "$\\displaystyle - \\frac{- b pd + c pd}{- pc + pd + 1}$"
      ],
      "text/plain": [
       "-(-b⋅pd + c⋅pd) \n",
       "────────────────\n",
       "  -pc + pd + 1  "
      ]
     },
     "execution_count": 12,
     "metadata": {},
     "output_type": "execute_result"
    }
   ],
   "source": [
    "sym.nsimplify(tft_payoff.factor().subs({epsilon:0}))"
   ]
  },
  {
   "cell_type": "code",
   "execution_count": 13,
   "id": "a367f45b",
   "metadata": {},
   "outputs": [],
   "source": [
    "player = [pc * (1 - epsilon) + pd * epsilon, pd * (1 - epsilon) + pc * epsilon,\n",
    "          pc * (1 - epsilon) + pd * epsilon, pd * (1 - epsilon) + pc * epsilon]"
   ]
  },
  {
   "cell_type": "code",
   "execution_count": 14,
   "id": "d7807239",
   "metadata": {},
   "outputs": [],
   "source": [
    "M = repeated_play.transition_matrix_repeated_game(player, gtft, memory='one', analytical=True)\n",
    "\n",
    "ss = repeated_play.stationary_distribution(M, analytical=True)"
   ]
  },
  {
   "cell_type": "code",
   "execution_count": 15,
   "id": "d80d4b24",
   "metadata": {},
   "outputs": [],
   "source": [
    "player_payoff = sum(ss @ sym.Matrix([b - c, -c, b, 0]))"
   ]
  },
  {
   "cell_type": "code",
   "execution_count": 16,
   "id": "1e39f0a1",
   "metadata": {},
   "outputs": [],
   "source": [
    "expr = player_payoff.factor().collect(pc).collect(pd)"
   ]
  },
  {
   "cell_type": "code",
   "execution_count": 17,
   "id": "a57f8449",
   "metadata": {},
   "outputs": [
    {
     "data": {
      "image/png": "[encoded data removed]",
      "text/latex": [
       "$\\displaystyle - \\frac{\\epsilon b \\left(b + c pc + c pd - 2 c\\right)}{- 4 \\epsilon^{2} c pc + 4 \\epsilon^{2} c pd + 4 \\epsilon c pc - 4 \\epsilon c pd + b - c pc + c pd}$"
      ],
      "text/plain": [
       "                            -\\epsilon⋅b⋅(b + c⋅pc + c⋅pd - 2⋅c)                            \n",
       "───────────────────────────────────────────────────────────────────────────────────────────\n",
       "            2                  2                                                           \n",
       "- 4⋅\\epsilon ⋅c⋅pc + 4⋅\\epsilon ⋅c⋅pd + 4⋅\\epsilon⋅c⋅pc - 4⋅\\epsilon⋅c⋅pd + b - c⋅pc + c⋅pd"
      ]
     },
     "execution_count": 17,
     "metadata": {},
     "output_type": "execute_result"
    }
   ],
   "source": [
    "(expr - (b - c)).factor()"
   ]
  },
  {
   "cell_type": "code",
   "execution_count": null,
   "id": "67eea762",
   "metadata": {},
   "outputs": [],
   "source": []
  },
  {
   "cell_type": "code",
   "execution_count": 18,
   "id": "e45b859b",
   "metadata": {},
   "outputs": [],
   "source": [
    "M = repeated_play.transition_matrix_repeated_game(gtft, gtft, memory='one', analytical=True)\n",
    "\n",
    "ss = repeated_play.stationary_distribution(M, analytical=True)"
   ]
  },
  {
   "cell_type": "code",
   "execution_count": 19,
   "id": "dc158846",
   "metadata": {},
   "outputs": [],
   "source": [
    "gtft_payoff = sum(ss @ sym.Matrix([b - c, b, -c, 0]))"
   ]
  },
  {
   "cell_type": "code",
   "execution_count": 20,
   "id": "2011ee5d",
   "metadata": {},
   "outputs": [
    {
     "data": {
      "image/png": "[encoded data removed]",
      "text/latex": [
       "$\\displaystyle - \\frac{2 \\epsilon b c \\left(2 \\epsilon^{2} b pc - 2 \\epsilon^{2} b pd - 2 \\epsilon^{2} c pc + 2 \\epsilon^{2} c pd - 2 \\epsilon b pc + 2 \\epsilon b pd + \\epsilon b + 3 \\epsilon c pc - \\epsilon c pd - 2 \\epsilon c + b pc - b - c pc + c\\right)}{\\left(2 \\epsilon c + b - c\\right) \\left(- 4 \\epsilon^{2} c pc + 4 \\epsilon^{2} c pd + 4 \\epsilon c pc - 4 \\epsilon c pd + b - c pc + c pd\\right)}$"
      ],
      "text/plain": [
       "                ⎛          2                  2                  2                  2                                                                                                                             ⎞ \n",
       "-2⋅\\epsilon⋅b⋅c⋅⎝2⋅\\epsilon ⋅b⋅pc - 2⋅\\epsilon ⋅b⋅pd - 2⋅\\epsilon ⋅c⋅pc + 2⋅\\epsilon ⋅c⋅pd - 2⋅\\epsilon⋅b⋅pc + 2⋅\\epsilon⋅b⋅pd + \\epsilon⋅b + 3⋅\\epsilon⋅c⋅pc - \\epsilon⋅c⋅pd - 2⋅\\epsilon⋅c + b⋅pc - b - c⋅pc + c⎠ \n",
       "────────────────────────────────────────────────────────────────────────────────────────────────────────────────────────────────────────────────────────────────────────────────────────────────────────────────────\n",
       "                                                                       ⎛            2                  2                                                           ⎞                                                \n",
       "                                                (2⋅\\epsilon⋅c + b - c)⋅⎝- 4⋅\\epsilon ⋅c⋅pc + 4⋅\\epsilon ⋅c⋅pd + 4⋅\\epsilon⋅c⋅pc - 4⋅\\epsilon⋅c⋅pd + b - c⋅pc + c⋅pd⎠                                                "
      ]
     },
     "execution_count": 20,
     "metadata": {},
     "output_type": "execute_result"
    }
   ],
   "source": [
    "(expr - gtft_payoff).factor()"
   ]
  },
  {
   "cell_type": "markdown",
   "id": "83f8023b",
   "metadata": {},
   "source": [
    "### Numerical"
   ]
  },
  {
   "cell_type": "code",
   "execution_count": 21,
   "id": "87144853",
   "metadata": {},
   "outputs": [],
   "source": [
    "bval = 1\n",
    "cval = 1/2\n",
    "\n",
    "epsval = 10 ** -3"
   ]
  },
  {
   "cell_type": "code",
   "execution_count": 22,
   "id": "5b5720b8",
   "metadata": {},
   "outputs": [],
   "source": [
    "GTFT = np.array([1, 1/2, 1, 1/2])"
   ]
  },
  {
   "cell_type": "code",
   "execution_count": 23,
   "id": "13090944",
   "metadata": {},
   "outputs": [],
   "source": [
    "GTFT_error = GTFT * (1 - epsval) + (1 - GTFT) * epsval"
   ]
  },
  {
   "cell_type": "code",
   "execution_count": 24,
   "id": "9ee665e1",
   "metadata": {},
   "outputs": [],
   "source": [
    "coplayer = np.random.random(4)"
   ]
  },
  {
   "cell_type": "code",
   "execution_count": 25,
   "id": "a2c8e796",
   "metadata": {},
   "outputs": [],
   "source": [
    "coplayer_error = coplayer * (1 - epsval) + (1 - coplayer) * epsval"
   ]
  },
  {
   "cell_type": "code",
   "execution_count": 26,
   "id": "25a3a72d",
   "metadata": {},
   "outputs": [],
   "source": [
    "M = repeated_play.transition_matrix_repeated_game(GTFT, coplayer, memory=\"one\")\n",
    "\n",
    "ss = repeated_play.stationary_distribution(M)\n",
    "\n",
    "M1 = repeated_play.transition_matrix_repeated_game(GTFT, GTFT, memory=\"one\")\n",
    "\n",
    "ss1 = repeated_play.stationary_distribution(M1)"
   ]
  },
  {
   "cell_type": "code",
   "execution_count": 27,
   "id": "46322035",
   "metadata": {},
   "outputs": [
    {
     "data": {
      "image/png": "[encoded data removed]",
      "text/latex": [
       "$\\displaystyle 0.5$"
      ],
      "text/plain": [
       "0.49999999999999983"
      ]
     },
     "execution_count": 27,
     "metadata": {},
     "output_type": "execute_result"
    }
   ],
   "source": [
    "ss[0] @ np.array([bval - cval, bval, -cval, 0])"
   ]
  },
  {
   "cell_type": "code",
   "execution_count": 28,
   "id": "7c1170f1",
   "metadata": {},
   "outputs": [
    {
     "data": {
      "image/png": "[encoded data removed]",
      "text/latex": [
       "$\\displaystyle 0.5$"
      ],
      "text/plain": [
       "0.5"
      ]
     },
     "execution_count": 28,
     "metadata": {},
     "output_type": "execute_result"
    }
   ],
   "source": [
    "ss1[0] @ np.array([bval - cval, bval, -cval, 0])"
   ]
  },
  {
   "cell_type": "code",
   "execution_count": 29,
   "id": "2b15b87a",
   "metadata": {},
   "outputs": [
    {
     "name": "stdout",
     "output_type": "stream",
     "text": [
      "1\n",
      "1\n"
     ]
    }
   ],
   "source": [
    "M = repeated_play.transition_matrix_repeated_game(GTFT_error, coplayer_error, memory=\"one\")\n",
    "\n",
    "ss = repeated_play.stationary_distribution(M)\n",
    "\n",
    "print(len(ss))\n",
    "\n",
    "M1 = repeated_play.transition_matrix_repeated_game(GTFT_error, GTFT_error, memory=\"one\")\n",
    "\n",
    "ss1 = repeated_play.stationary_distribution(M1)\n",
    "\n",
    "print(len(ss1))"
   ]
  },
  {
   "cell_type": "code",
   "execution_count": 30,
   "id": "f4dcdd14",
   "metadata": {},
   "outputs": [
    {
     "data": {
      "image/png": "[encoded data removed]",
      "text/latex": [
       "$\\displaystyle 0.499905492798126$"
      ],
      "text/plain": [
       "0.4999054927981262"
      ]
     },
     "execution_count": 30,
     "metadata": {},
     "output_type": "execute_result"
    }
   ],
   "source": [
    "ss[0] @ np.array([bval - cval, bval, -cval, 0])"
   ]
  },
  {
   "cell_type": "code",
   "execution_count": 31,
   "id": "6d7c5e9d",
   "metadata": {},
   "outputs": [
    {
     "data": {
      "image/png": "[encoded data removed]",
      "text/latex": [
       "$\\displaystyle 0.499001996007984$"
      ],
      "text/plain": [
       "0.49900199600798406"
      ]
     },
     "execution_count": 31,
     "metadata": {},
     "output_type": "execute_result"
    }
   ],
   "source": [
    "ss1[0] @ np.array([bval - cval, bval, -cval, 0])"
   ]
  },
  {
   "cell_type": "code",
   "execution_count": 32,
   "id": "c1ae57e7",
   "metadata": {},
   "outputs": [],
   "source": [
    "b0, b1 = sym.symbols(\"b_0, b_1\")"
   ]
  },
  {
   "cell_type": "code",
   "execution_count": 33,
   "id": "bfdd97c4",
   "metadata": {},
   "outputs": [],
   "source": [
    "pointA = [c/b, 0]\n",
    "pointB = [1, 1 - c/b]"
   ]
  },
  {
   "cell_type": "code",
   "execution_count": 34,
   "id": "c38e7523",
   "metadata": {},
   "outputs": [],
   "source": [
    "solb1 = sym.solve(pointA[0] * b0 + b1 - pointA[1], b1)"
   ]
  },
  {
   "cell_type": "code",
   "execution_count": 35,
   "id": "9a86d09a",
   "metadata": {},
   "outputs": [
    {
     "data": {
      "image/png": "[encoded data removed]",
      "text/latex": [
       "$\\displaystyle b_{0} - 1 - \\frac{b_{0} c}{b} + \\frac{c}{b}$"
      ],
      "text/plain": [
       "         b₀⋅c   c\n",
       "b₀ - 1 - ──── + ─\n",
       "          b     b"
      ]
     },
     "execution_count": 35,
     "metadata": {},
     "output_type": "execute_result"
    }
   ],
   "source": [
    "expr = (pointB[0] * b0 + b1 - pointB[1]).subs({b1: solb1[0]})\n",
    "expr"
   ]
  },
  {
   "cell_type": "code",
   "execution_count": 36,
   "id": "beb478e0",
   "metadata": {},
   "outputs": [
    {
     "data": {
      "image/png": "[encoded data removed]",
      "text/latex": [
       "$\\displaystyle \\left[ 1\\right]$"
      ],
      "text/plain": [
       "[1]"
      ]
     },
     "execution_count": 36,
     "metadata": {},
     "output_type": "execute_result"
    }
   ],
   "source": [
    "sym.solve(expr, b0)"
   ]
  },
  {
   "cell_type": "code",
   "execution_count": 37,
   "id": "e2501c88",
   "metadata": {},
   "outputs": [
    {
     "data": {
      "image/png": "[encoded data removed]",
      "text/latex": [
       "$\\displaystyle - \\frac{c}{b}$"
      ],
      "text/plain": [
       "-c \n",
       "───\n",
       " b "
      ]
     },
     "execution_count": 37,
     "metadata": {},
     "output_type": "execute_result"
    }
   ],
   "source": [
    "solb1[0].subs({b0:1})"
   ]
  },
  {
   "cell_type": "code",
   "execution_count": 38,
   "id": "7a6efacd",
   "metadata": {},
   "outputs": [
    {
     "data": {
      "image/png": "[encoded data removed]",
      "text/latex": [
       "$\\displaystyle 0.999$"
      ],
      "text/plain": [
       "0.999"
      ]
     },
     "execution_count": 38,
     "metadata": {},
     "output_type": "execute_result"
    }
   ],
   "source": [
    "1 * (1 - epsval)"
   ]
  },
  {
   "cell_type": "code",
   "execution_count": 39,
   "id": "7fdc9077",
   "metadata": {},
   "outputs": [
    {
     "data": {
      "image/png": "[encoded data removed]",
      "text/latex": [
       "$\\displaystyle 0.499$"
      ],
      "text/plain": [
       "0.499"
      ]
     },
     "execution_count": 39,
     "metadata": {},
     "output_type": "execute_result"
    }
   ],
   "source": [
    "(1 * (1 - epsval)) -  cval/bval"
   ]
  },
  {
   "cell_type": "code",
   "execution_count": 40,
   "id": "9b410d17",
   "metadata": {},
   "outputs": [
    {
     "data": {
      "image/png": "[encoded data removed]",
      "text/latex": [
       "$\\displaystyle 0.5005$"
      ],
      "text/plain": [
       "0.5005"
      ]
     },
     "execution_count": 40,
     "metadata": {},
     "output_type": "execute_result"
    }
   ],
   "source": [
    "1 - (1 * (1 - epsval)) * cval/bval"
   ]
  },
  {
   "cell_type": "code",
   "execution_count": null,
   "id": "5e97a796",
   "metadata": {},
   "outputs": [],
   "source": []
  },
  {
   "cell_type": "code",
   "execution_count": 51,
   "id": "dd97f2a2",
   "metadata": {},
   "outputs": [],
   "source": [
    "GTFT_error = [0.999, 0.499, 0.999, 0.499]"
   ]
  },
  {
   "cell_type": "code",
   "execution_count": 52,
   "id": "7fbc9924",
   "metadata": {},
   "outputs": [],
   "source": [
    "M = repeated_play.transition_matrix_repeated_game(GTFT_error, coplayer_error, memory=\"one\")\n",
    "\n",
    "ss = repeated_play.stationary_distribution(M)\n",
    "\n",
    "M1 = repeated_play.transition_matrix_repeated_game(GTFT_error, GTFT_error, memory=\"one\")\n",
    "\n",
    "ss1 = repeated_play.stationary_distribution(M1)"
   ]
  },
  {
   "cell_type": "code",
   "execution_count": 53,
   "id": "8d161df1",
   "metadata": {},
   "outputs": [
    {
     "data": {
      "image/png": "[encoded data removed]",
      "text/latex": [
       "$\\displaystyle 0.499$"
      ],
      "text/plain": [
       "0.4989999999999997"
      ]
     },
     "execution_count": 53,
     "metadata": {},
     "output_type": "execute_result"
    }
   ],
   "source": [
    "ss[0] @ np.array([bval - cval, bval, -cval, 0])"
   ]
  },
  {
   "cell_type": "code",
   "execution_count": 54,
   "id": "703f0702",
   "metadata": {},
   "outputs": [
    {
     "data": {
      "image/png": "[encoded data removed]",
      "text/latex": [
       "$\\displaystyle 0.499$"
      ],
      "text/plain": [
       "0.49899999999999994"
      ]
     },
     "execution_count": 54,
     "metadata": {},
     "output_type": "execute_result"
    }
   ],
   "source": [
    "ss1[0] @ np.array([bval - cval, bval, -cval, 0])"
   ]
  },
  {
   "cell_type": "code",
   "execution_count": 55,
   "id": "afcaa3ca",
   "metadata": {},
   "outputs": [
    {
     "data": {
      "image/png": "[encoded data removed]",
      "text/latex": [
       "$\\displaystyle 0.5$"
      ],
      "text/plain": [
       "0.500000000000000"
      ]
     },
     "execution_count": 55,
     "metadata": {},
     "output_type": "execute_result"
    }
   ],
   "source": [
    "(1 - cval/bval) * (1 - epsilon) + (1 - (1 - cval/bval)) * epsilon"
   ]
  },
  {
   "cell_type": "code",
   "execution_count": null,
   "id": "5e03f2c3",
   "metadata": {},
   "outputs": [],
   "source": []
  }
 ],
 "metadata": {
  "kernelspec": {
   "display_name": "Python 3",
   "language": "python",
   "name": "python3"
  },
  "language_info": {
   "codemirror_mode": {
    "name": "ipython",
    "version": 3
   },
   "file_extension": ".py",
   "mimetype": "text/x-python",
   "name": "python",
   "nbconvert_exporter": "python",
   "pygments_lexer": "ipython3",
   "version": "3.11.3"
  }
 },
 "nbformat": 4,
 "nbformat_minor": 5
}
