{
 "cells": [
  {
   "cell_type": "code",
   "execution_count": 1,
   "id": "a8ba4a5c",
   "metadata": {},
   "outputs": [],
   "source": [
    "import repeated_play"
   ]
  },
  {
   "cell_type": "code",
   "execution_count": 2,
   "id": "10302aef",
   "metadata": {},
   "outputs": [],
   "source": [
    "import sympy as sym\n",
    "\n",
    "import itertools\n",
    "\n",
    "import numpy as np"
   ]
  },
  {
   "cell_type": "code",
   "execution_count": 3,
   "id": "9c280c86",
   "metadata": {},
   "outputs": [],
   "source": [
    "pure_self_reactive = list(itertools.product([0, 1], repeat=4))"
   ]
  },
  {
   "cell_type": "code",
   "execution_count": 4,
   "id": "6b482b51",
   "metadata": {},
   "outputs": [],
   "source": [
    "p1, p2, p3, p4 = sym.symbols(\"p_1, p_2, p_3, p_4\")\n",
    "\n",
    "b, c, x = sym.symbols(\"b, c, x\")"
   ]
  },
  {
   "cell_type": "code",
   "execution_count": 5,
   "id": "3d6e2c8b",
   "metadata": {},
   "outputs": [],
   "source": [
    "def transformed_two_bit_markov(player, analytical=True):\n",
    "    \n",
    "    if analytical == True:\n",
    "        M = sym.Matrix([[player[0], (1 - player[0]), 0, 0],\n",
    "                        [0, 0, player[1], (1 - player[1])],\n",
    "                        [player[2], (1 - player[2]), 0, 0],\n",
    "                        [0, 0, player[3], (1 - player[3])]])\n",
    "    else:\n",
    "        M = np.array([[player[0], (1 - player[0]), 0, 0],\n",
    "                        [0, 0, player[1], (1 - player[1])],\n",
    "                        [player[2], (1 - player[2]), 0, 0],\n",
    "                        [0, 0, player[3], (1 - player[3])]])\n",
    "    \n",
    "    \n",
    "    return M"
   ]
  },
  {
   "cell_type": "code",
   "execution_count": 6,
   "id": "4d2e5b56",
   "metadata": {},
   "outputs": [],
   "source": [
    "ps = [1, p2, p3, p4]"
   ]
  },
  {
   "cell_type": "code",
   "execution_count": 7,
   "id": "63609d19",
   "metadata": {},
   "outputs": [],
   "source": [
    "ppayoffs = []\n",
    "\n",
    "qpayoffs = []\n",
    "\n",
    "for i, player in enumerate(pure_self_reactive):\n",
    "\n",
    "    M = transformed_two_bit_markov(player, analytical=False)\n",
    "    \n",
    "    states = repeated_play.stationary_distribution(M)\n",
    "    \n",
    "    for ss in states:\n",
    "\n",
    "        rho_q = ss[0] + ss[1]\n",
    "        \n",
    "        rho_p = sum([ss[i] * ps[i] for i in range(4)])\n",
    "        \n",
    "        expression_q =  b * rho_p - c * rho_q\n",
    "        \n",
    "        expression_p =  b * rho_q - c * rho_p\n",
    "        \n",
    "        ppayoffs.append((i, expression_p))\n",
    "        qpayoffs.append((i, expression_q))\n",
    "        "
   ]
  },
  {
   "cell_type": "code",
   "execution_count": 8,
   "id": "ec801acb",
   "metadata": {},
   "outputs": [
    {
     "data": {
      "text/plain": [
       "[0, 2, 4, 6, 8, 10, 12, 14]"
      ]
     },
     "execution_count": 8,
     "metadata": {},
     "output_type": "execute_result"
    }
   ],
   "source": [
    "[qpayoffs[i][0] for i in range(0, 25) if qpayoffs[i][1] == qpayoffs[0][1]]"
   ]
  },
  {
   "cell_type": "code",
   "execution_count": 16,
   "id": "1014ed7b",
   "metadata": {},
   "outputs": [
    {
     "data": {
      "text/plain": [
       "[1, 9]"
      ]
     },
     "execution_count": 16,
     "metadata": {},
     "output_type": "execute_result"
    }
   ],
   "source": [
    "[qpayoffs[i][0] for i in range(0, 25) if qpayoffs[i][1] == qpayoffs[1][1]]"
   ]
  },
  {
   "cell_type": "code",
   "execution_count": 18,
   "id": "a5384363",
   "metadata": {},
   "outputs": [
    {
     "data": {
      "text/plain": [
       "[3]"
      ]
     },
     "execution_count": 18,
     "metadata": {},
     "output_type": "execute_result"
    }
   ],
   "source": [
    "[qpayoffs[i][0] for i in range(0, 25) if qpayoffs[i][1] == qpayoffs[3][1]]"
   ]
  },
  {
   "cell_type": "code",
   "execution_count": 19,
   "id": "820a15b6",
   "metadata": {},
   "outputs": [
    {
     "data": {
      "text/plain": [
       "[4, 5, 12, 13]"
      ]
     },
     "execution_count": 19,
     "metadata": {},
     "output_type": "execute_result"
    }
   ],
   "source": [
    "[qpayoffs[i][0] for i in range(0, 25) if qpayoffs[i][1] == qpayoffs[4][1]]"
   ]
  },
  {
   "cell_type": "code",
   "execution_count": 22,
   "id": "5be1067a",
   "metadata": {},
   "outputs": [
    {
     "data": {
      "text/plain": [
       "[6, 7]"
      ]
     },
     "execution_count": 22,
     "metadata": {},
     "output_type": "execute_result"
    }
   ],
   "source": [
    "[qpayoffs[i][0] for i in range(0, 25) if qpayoffs[i][1] == qpayoffs[7][1]]"
   ]
  },
  {
   "cell_type": "code",
   "execution_count": 33,
   "id": "65a5b850",
   "metadata": {},
   "outputs": [
    {
     "data": {
      "text/plain": [
       "[8, 9, 10, 11, 12, 13, 14, 15]"
      ]
     },
     "execution_count": 33,
     "metadata": {},
     "output_type": "execute_result"
    }
   ],
   "source": [
    "[qpayoffs[i][0] for i in range(0, 25) if qpayoffs[i][1] == qpayoffs[18][1]]"
   ]
  },
  {
   "cell_type": "code",
   "execution_count": 50,
   "id": "d1bace00",
   "metadata": {},
   "outputs": [
    {
     "data": {
      "text/plain": [
       "(25, 25)"
      ]
     },
     "execution_count": 50,
     "metadata": {},
     "output_type": "execute_result"
    }
   ],
   "source": [
    "len(qpayoffs), len(ppayoffs)"
   ]
  },
  {
   "cell_type": "code",
   "execution_count": 112,
   "id": "9e79bde8",
   "metadata": {},
   "outputs": [],
   "source": [
    "indices = [i for i, payoff in enumerate(ppayoffs) if ppayoffs[7][1] == payoff[1]] "
   ]
  },
  {
   "cell_type": "code",
   "execution_count": 113,
   "id": "dede9e0a",
   "metadata": {},
   "outputs": [
    {
     "data": {
      "text/plain": [
       "[6, 7]"
      ]
     },
     "execution_count": 113,
     "metadata": {},
     "output_type": "execute_result"
    }
   ],
   "source": [
    "[payoff[0] for i, payoff in enumerate(ppayoffs) if i in indices]"
   ]
  },
  {
   "cell_type": "code",
   "execution_count": 114,
   "id": "26857ade",
   "metadata": {},
   "outputs": [
    {
     "data": {
      "text/plain": [
       "[7, 9]"
      ]
     },
     "execution_count": 114,
     "metadata": {},
     "output_type": "execute_result"
    }
   ],
   "source": [
    "indices"
   ]
  },
  {
   "cell_type": "code",
   "execution_count": 116,
   "id": "07b42e9b",
   "metadata": {},
   "outputs": [
    {
     "data": {
      "text/latex": [
       "$\\displaystyle 0.666666666666667 b - c \\left(0.333333333333333 p_{2} + 0.333333333333333 p_{3} + 0.333333333333333\\right)$"
      ],
      "text/plain": [
       "0.666666666666667*b - c*(0.333333333333333*p_2 + 0.333333333333333*p_3 + 0.333333333333333)"
      ]
     },
     "execution_count": 116,
     "metadata": {},
     "output_type": "execute_result"
    }
   ],
   "source": [
    "ppayoffs[7][1]"
   ]
  },
  {
   "cell_type": "code",
   "execution_count": 118,
   "id": "adcfadd2",
   "metadata": {},
   "outputs": [],
   "source": [
    "expression_four = 2 * b / 3 - c * (p2 + p3 + 1) / 3"
   ]
  },
  {
   "cell_type": "code",
   "execution_count": 119,
   "id": "e585907b",
   "metadata": {},
   "outputs": [
    {
     "data": {
      "text/latex": [
       "$\\displaystyle - 1.48029736616688 \\cdot 10^{-16} c p_{3}$"
      ],
      "text/plain": [
       "-1.48029736616688e-16*c*p_3"
      ]
     },
     "execution_count": 119,
     "metadata": {},
     "output_type": "execute_result"
    }
   ],
   "source": [
    "(ppayoffs[7][1] - expression_four).factor()"
   ]
  },
  {
   "cell_type": "code",
   "execution_count": 120,
   "id": "bc80e3f8",
   "metadata": {},
   "outputs": [
    {
     "name": "stdout",
     "output_type": "stream",
     "text": [
      "\\frac{2 b}{3} - \\frac{c \\left(p_{2} + p_{3} + 1\\right)}{3}\n"
     ]
    }
   ],
   "source": [
    "print(sym.latex(expression_four))"
   ]
  },
  {
   "cell_type": "code",
   "execution_count": 105,
   "id": "ca116291",
   "metadata": {},
   "outputs": [],
   "source": [
    "expression_three = b / 2 - c * (p2 + p3) / 2"
   ]
  },
  {
   "cell_type": "code",
   "execution_count": 106,
   "id": "4ce8abbb",
   "metadata": {},
   "outputs": [
    {
     "data": {
      "text/latex": [
       "$\\displaystyle 0$"
      ],
      "text/plain": [
       "0"
      ]
     },
     "execution_count": 106,
     "metadata": {},
     "output_type": "execute_result"
    }
   ],
   "source": [
    "(ppayoffs[4][1] - expression_three).factor()"
   ]
  },
  {
   "cell_type": "code",
   "execution_count": 107,
   "id": "c10ad699",
   "metadata": {},
   "outputs": [
    {
     "name": "stdout",
     "output_type": "stream",
     "text": [
      "\\frac{b}{2} - \\frac{c \\left(p_{2} + p_{3}\\right)}{2}\n"
     ]
    }
   ],
   "source": [
    "print(sym.latex(expression_three))"
   ]
  },
  {
   "cell_type": "code",
   "execution_count": 95,
   "id": "5a82487a",
   "metadata": {},
   "outputs": [],
   "source": [
    "expression_two = b / 2 - c * (p2 + p3 + p4 + 1) / 4"
   ]
  },
  {
   "cell_type": "code",
   "execution_count": 98,
   "id": "72e52c99",
   "metadata": {},
   "outputs": [
    {
     "data": {
      "text/latex": [
       "$\\displaystyle 2.22044604925031 \\cdot 10^{-16} \\cdot \\left(1.0 b - 0.25 c p_{2} + 0.25 c p_{3} - 0.25 c p_{4} - 0.5 c\\right)$"
      ],
      "text/plain": [
       "2.22044604925031e-16*(1.0*b - 0.25*c*p_2 + 0.25*c*p_3 - 0.25*c*p_4 - 0.5*c)"
      ]
     },
     "execution_count": 98,
     "metadata": {},
     "output_type": "execute_result"
    }
   ],
   "source": [
    "(ppayoffs[3][1] - expression_two).factor()"
   ]
  },
  {
   "cell_type": "code",
   "execution_count": 99,
   "id": "eb6e5a2b",
   "metadata": {},
   "outputs": [
    {
     "name": "stdout",
     "output_type": "stream",
     "text": [
      "\\frac{b}{2} - \\frac{c \\left(p_{2} + p_{3} + p_{4} + 1\\right)}{4}\n"
     ]
    }
   ],
   "source": [
    "print(sym.latex(expression_two))"
   ]
  },
  {
   "cell_type": "code",
   "execution_count": 77,
   "id": "9e040800",
   "metadata": {},
   "outputs": [],
   "source": [
    "expression_one = b / 3 - c * (p2 + p3 + p4)/ 3"
   ]
  },
  {
   "cell_type": "code",
   "execution_count": 83,
   "id": "a7f94fea",
   "metadata": {},
   "outputs": [
    {
     "data": {
      "text/latex": [
       "$\\displaystyle 1.66533453693773 \\cdot 10^{-16} \\cdot \\left(1.0 b - 0.888888888888889 c p_{2}\\right)$"
      ],
      "text/plain": [
       "1.66533453693773e-16*(1.0*b - 0.888888888888889*c*p_2)"
      ]
     },
     "execution_count": 83,
     "metadata": {},
     "output_type": "execute_result"
    }
   ],
   "source": [
    "(ppayoffs[1][1] - expression_one).factor()"
   ]
  },
  {
   "cell_type": "code",
   "execution_count": 87,
   "id": "5b1d98c9",
   "metadata": {},
   "outputs": [
    {
     "name": "stdout",
     "output_type": "stream",
     "text": [
      "\\frac{b}{3} - \\frac{c \\left(p_{2} + p_{3} + p_{4}\\right)}{3}\n"
     ]
    }
   ],
   "source": [
    "print(sym.latex(expression_one))"
   ]
  },
  {
   "cell_type": "code",
   "execution_count": 48,
   "id": "a09d4656",
   "metadata": {},
   "outputs": [
    {
     "data": {
      "text/latex": [
       "$\\displaystyle 0$"
      ],
      "text/plain": [
       "0"
      ]
     },
     "execution_count": 48,
     "metadata": {},
     "output_type": "execute_result"
    }
   ],
   "source": [
    "(qpayoffs[7][1].factor() - (b * (p2 + p3 + 1) / 3 - 2 * c / 3)).factor()"
   ]
  },
  {
   "cell_type": "code",
   "execution_count": 36,
   "id": "30871c94",
   "metadata": {},
   "outputs": [
    {
     "data": {
      "text/latex": [
       "$\\displaystyle \\frac{b \\left(p_{2} + p_{3} + 1\\right)}{3} - c$"
      ],
      "text/plain": [
       "b*(p_2 + p_3 + 1)/3 - c"
      ]
     },
     "execution_count": 36,
     "metadata": {},
     "output_type": "execute_result"
    }
   ],
   "source": [
    "b * (p2 + p3 + 1) / 3 - c"
   ]
  },
  {
   "cell_type": "code",
   "execution_count": 24,
   "id": "1dc742af",
   "metadata": {},
   "outputs": [
    {
     "data": {
      "text/plain": [
       "(0, -1.0*c*p_4)"
      ]
     },
     "execution_count": 24,
     "metadata": {},
     "output_type": "execute_result"
    }
   ],
   "source": [
    "ppayoffs[0]"
   ]
  },
  {
   "cell_type": "code",
   "execution_count": 9,
   "id": "12a6fd92",
   "metadata": {},
   "outputs": [
    {
     "data": {
      "text/plain": [
       "[3 - 2*c/b]"
      ]
     },
     "execution_count": 9,
     "metadata": {},
     "output_type": "execute_result"
    }
   ],
   "source": [
    "sym.solve(b * (x + 1) / 4 - c / 2 - (b - c), x)"
   ]
  },
  {
   "cell_type": "code",
   "execution_count": 10,
   "id": "10c6c25c",
   "metadata": {},
   "outputs": [
    {
     "data": {
      "text/plain": [
       "[2 - c/b]"
      ]
     },
     "execution_count": 10,
     "metadata": {},
     "output_type": "execute_result"
    }
   ],
   "source": [
    "sym.solve(b * (x + 1) / 3 - 2 * c / 3 - (b - c), x)"
   ]
  },
  {
   "cell_type": "markdown",
   "id": "f9474a34",
   "metadata": {},
   "source": [
    "**Three**"
   ]
  },
  {
   "cell_type": "code",
   "execution_count": 9,
   "id": "842a01d4",
   "metadata": {},
   "outputs": [],
   "source": [
    "def transformed_matrix_three(coplayer, analytical=False):\n",
    "    \n",
    "    if analytical == False:\n",
    "    \n",
    "        return np.array([[coplayer[0], (1 - coplayer[0]), 0, 0, 0, 0, 0, 0],\n",
    "                        [0, 0, coplayer[1], (1 - coplayer[1]), 0, 0, 0, 0],\n",
    "                        [0, 0, 0, 0, coplayer[2], (1 - coplayer[2]), 0, 0],\n",
    "                        [0, 0, 0, 0, 0, 0, coplayer[3], (1 - coplayer[3])],\n",
    "                        [coplayer[4], (1 - coplayer[4]), 0, 0, 0, 0, 0, 0],\n",
    "                        [0, 0, coplayer[5], (1 - coplayer[5]), 0, 0, 0, 0],\n",
    "                        [0, 0, 0, 0, coplayer[6], (1 - coplayer[6]), 0, 0],\n",
    "                        [0, 0, 0, 0, 0, 0, coplayer[7], (1 - coplayer[7])]])\n",
    "    \n",
    "    if analytical == True:\n",
    "\n",
    "        return sym.Matrix([[coplayer[0], (1 - coplayer[0]), 0, 0, 0, 0, 0, 0],\n",
    "                        [0, 0, coplayer[1], (1 - coplayer[1]), 0, 0, 0, 0],\n",
    "                        [0, 0, 0, 0, coplayer[2], (1 - coplayer[2]), 0, 0],\n",
    "                        [0, 0, 0, 0, 0, 0, coplayer[3], (1 - coplayer[3])],\n",
    "                        [coplayer[4], (1 - coplayer[4]), 0, 0, 0, 0, 0, 0],\n",
    "                        [0, 0, coplayer[5], (1 - coplayer[5]), 0, 0, 0, 0],\n",
    "                        [0, 0, 0, 0, coplayer[6], (1 - coplayer[6]), 0, 0],\n",
    "                        [0, 0, 0, 0, 0, 0, coplayer[7], (1 - coplayer[7])]])"
   ]
  },
  {
   "cell_type": "code",
   "execution_count": 10,
   "id": "f644666a",
   "metadata": {},
   "outputs": [],
   "source": [
    "u_ccc, u_ccd, u_cdc, u_cdd, u_dcc, u_dcd, u_ddc, u_ddd = sym.symbols(\"u_ccc, u_ccd, u_cdc, u_cdd, u_dcc, u_dcd, u_ddc, u_ddd\")"
   ]
  },
  {
   "cell_type": "code",
   "execution_count": 11,
   "id": "d37145a0",
   "metadata": {},
   "outputs": [],
   "source": [
    "p1, p2, p3, p4, p5, p6, p7, p8 = sym.symbols(\"p_ccc, p_ccd, p_cdc, p_cdd, p_dcc, p_dcd, p_ddc, p_ddd\")"
   ]
  },
  {
   "cell_type": "code",
   "execution_count": 12,
   "id": "5ae37f7c",
   "metadata": {},
   "outputs": [],
   "source": [
    "v = [u_ccc, u_ccd, u_cdc, u_cdd, u_dcc, u_dcd, u_ddc, u_ddd]"
   ]
  },
  {
   "cell_type": "code",
   "execution_count": 13,
   "id": "6e51a01e",
   "metadata": {},
   "outputs": [],
   "source": [
    "p = [p1, p2, p3, p4, p5, p6, p7, p8]"
   ]
  },
  {
   "cell_type": "code",
   "execution_count": 14,
   "id": "e07b0f9c",
   "metadata": {},
   "outputs": [],
   "source": [
    "M = transformed_matrix_three(p, analytical=True)"
   ]
  },
  {
   "cell_type": "code",
   "execution_count": 15,
   "id": "65364ec2",
   "metadata": {},
   "outputs": [],
   "source": [
    "ss = repeated_play.stationary_distribution(M, analytical=True)"
   ]
  },
  {
   "cell_type": "code",
   "execution_count": 41,
   "id": "4ec7ef0a",
   "metadata": {},
   "outputs": [],
   "source": [
    "ss = [s.factor() for s in ss]"
   ]
  },
  {
   "cell_type": "code",
   "execution_count": 42,
   "id": "5239c617",
   "metadata": {},
   "outputs": [
    {
     "data": {
      "text/plain": [
       "[False, True, False, False, True, False, False, False]"
      ]
     },
     "execution_count": 42,
     "metadata": {},
     "output_type": "execute_result"
    }
   ],
   "source": [
    "[(ss[1] - ss[i]).factor() == 0 for i in range(8)]"
   ]
  },
  {
   "cell_type": "code",
   "execution_count": 43,
   "id": "902568d5",
   "metadata": {},
   "outputs": [
    {
     "data": {
      "text/latex": [
       "$\\displaystyle 0$"
      ],
      "text/plain": [
       "0"
      ]
     },
     "execution_count": 43,
     "metadata": {},
     "output_type": "execute_result"
    }
   ],
   "source": [
    "(ss[1] - ss[4]).factor()"
   ]
  },
  {
   "cell_type": "code",
   "execution_count": 44,
   "id": "0ac24025",
   "metadata": {},
   "outputs": [
    {
     "data": {
      "text/latex": [
       "$\\displaystyle 0$"
      ],
      "text/plain": [
       "0"
      ]
     },
     "execution_count": 44,
     "metadata": {},
     "output_type": "execute_result"
    }
   ],
   "source": [
    "((ss[1] + ss[5]) - (ss[2] + ss[6])).factor()"
   ]
  },
  {
   "cell_type": "code",
   "execution_count": 45,
   "id": "fea729be",
   "metadata": {},
   "outputs": [
    {
     "data": {
      "text/latex": [
       "$\\displaystyle 0$"
      ],
      "text/plain": [
       "0"
      ]
     },
     "execution_count": 45,
     "metadata": {},
     "output_type": "execute_result"
    }
   ],
   "source": [
    "((ss[1] + ss[3]) - (ss[4] + ss[6])).factor()"
   ]
  },
  {
   "cell_type": "code",
   "execution_count": 46,
   "id": "63306bbe",
   "metadata": {},
   "outputs": [
    {
     "data": {
      "text/latex": [
       "$\\displaystyle 0$"
      ],
      "text/plain": [
       "0"
      ]
     },
     "execution_count": 46,
     "metadata": {},
     "output_type": "execute_result"
    }
   ],
   "source": [
    "(ss[3] - ss[6]).factor()"
   ]
  },
  {
   "cell_type": "markdown",
   "id": "09b47fec",
   "metadata": {},
   "source": [
    "For proof"
   ]
  },
  {
   "cell_type": "code",
   "execution_count": 16,
   "id": "98015d31",
   "metadata": {},
   "outputs": [],
   "source": [
    "pure_self_reactive = list(itertools.product([0, 1], repeat=8))"
   ]
  },
  {
   "cell_type": "code",
   "execution_count": 17,
   "id": "a19dcfaf",
   "metadata": {},
   "outputs": [],
   "source": [
    "import repeated_play"
   ]
  },
  {
   "cell_type": "code",
   "execution_count": 18,
   "id": "bce260f5",
   "metadata": {},
   "outputs": [],
   "source": [
    "import tqdm"
   ]
  },
  {
   "cell_type": "code",
   "execution_count": 19,
   "id": "bf9c9385",
   "metadata": {},
   "outputs": [],
   "source": [
    "p1, p2, p3, p4, p5, p6, p7, p8 = sym.symbols(\"p_{CCC}, p_{CCD}, p_{CDC}, p_{CDD}, p_{DCC}, p_{DCD}, p_{DDC}, p_{DDD}\")"
   ]
  },
  {
   "cell_type": "code",
   "execution_count": 20,
   "id": "1db62e3d",
   "metadata": {},
   "outputs": [],
   "source": [
    "ps = [p1, p2, p3, p4, p5, p6, p7, p8]"
   ]
  },
  {
   "cell_type": "code",
   "execution_count": 21,
   "id": "5b0e6f40",
   "metadata": {},
   "outputs": [],
   "source": [
    "pure_self_reactive = list(itertools.product([0, 1], repeat=8))"
   ]
  },
  {
   "cell_type": "code",
   "execution_count": 22,
   "id": "56b72910",
   "metadata": {},
   "outputs": [
    {
     "name": "stderr",
     "output_type": "stream",
     "text": [
      "256it [00:04, 54.36it/s]\n"
     ]
    }
   ],
   "source": [
    "payoffs = []\n",
    "\n",
    "for i, coplayer in tqdm.tqdm(enumerate(pure_self_reactive)):\n",
    "    \n",
    "    data = f\"N{i}\"\n",
    "    M = transformed_matrix_three(coplayer, analytical=False)\n",
    "    \n",
    "    stationaries = repeated_play.stationary_distribution(M)\n",
    "    \n",
    "    for ss in stationaries:\n",
    "        \n",
    "        rho_q = ss[0] + ss[1] + ss[4] + ss[5]\n",
    "        \n",
    "        rho_p = sum([ss[i] * ps[i] for i in range(8)])\n",
    "        \n",
    "        \n",
    "        expression =  b * rho_p - c * rho_q\n",
    "        \n",
    "        expression = sym.nsimplify(expression.subs({ps[0]: 1}).factor())\n",
    "        \n",
    "        payoffs.append((i, expression))"
   ]
  },
  {
   "cell_type": "code",
   "execution_count": 23,
   "id": "46345179",
   "metadata": {},
   "outputs": [],
   "source": [
    "unique_expressions = list(set([payoff[1] for payoff in payoffs]))"
   ]
  },
  {
   "cell_type": "code",
   "execution_count": 61,
   "id": "3a48a5c7",
   "metadata": {},
   "outputs": [
    {
     "data": {
      "text/latex": [
       "$\\displaystyle \\frac{b p_{CCD}}{4} + \\frac{b p_{CDD}}{4} + \\frac{b p_{DCC}}{4} + \\frac{b p_{DDC}}{4} - \\frac{c}{2}$"
      ],
      "text/plain": [
       "b*p_{CCD}/4 + b*p_{CDD}/4 + b*p_{DCC}/4 + b*p_{DDC}/4 - c/2"
      ]
     },
     "execution_count": 61,
     "metadata": {},
     "output_type": "execute_result"
    }
   ],
   "source": [
    "unique_expressions[0]"
   ]
  },
  {
   "cell_type": "code",
   "execution_count": 62,
   "id": "da27b698",
   "metadata": {},
   "outputs": [],
   "source": [
    "sets = [[payoff[0] for payoff in payoffs if payoff[1] == unique_expressions[j]] for j in [0, 2, 8, 9, 12]]"
   ]
  },
  {
   "cell_type": "code",
   "execution_count": 74,
   "id": "0c652f60",
   "metadata": {},
   "outputs": [
    {
     "data": {
      "text/plain": [
       "{19, 51, 55, 147, 179, 183}"
      ]
     },
     "execution_count": 74,
     "metadata": {},
     "output_type": "execute_result"
    }
   ],
   "source": [
    "set(sets[0]).difference(set(sets[1] + sets[2] + sets[3] + sets[4]))"
   ]
  },
  {
   "cell_type": "code",
   "execution_count": 68,
   "id": "acf7c230",
   "metadata": {},
   "outputs": [
    {
     "data": {
      "text/plain": [
       "{17, 25, 49, 57, 81, 89, 121, 145, 153, 177, 185, 209, 217, 249}"
      ]
     },
     "execution_count": 68,
     "metadata": {},
     "output_type": "execute_result"
    }
   ],
   "source": [
    "set(sets[1]).difference(set(sets[0] + sets[2] + sets[3] + sets[4]))"
   ]
  },
  {
   "cell_type": "code",
   "execution_count": 76,
   "id": "795ad824",
   "metadata": {},
   "outputs": [
    {
     "name": "stdout",
     "output_type": "stream",
     "text": [
      "97 (0, 1, 1, 0, 0, 0, 0, 1)\n",
      "225 (1, 1, 1, 0, 0, 0, 0, 1)\n",
      "99 (0, 1, 1, 0, 0, 0, 1, 1)\n",
      "227 (1, 1, 1, 0, 0, 0, 1, 1)\n",
      "101 (0, 1, 1, 0, 0, 1, 0, 1)\n",
      "229 (1, 1, 1, 0, 0, 1, 0, 1)\n",
      "103 (0, 1, 1, 0, 0, 1, 1, 1)\n",
      "231 (1, 1, 1, 0, 0, 1, 1, 1)\n",
      "115 (0, 1, 1, 1, 0, 0, 1, 1)\n",
      "119 (0, 1, 1, 1, 0, 1, 1, 1)\n",
      "117 (0, 1, 1, 1, 0, 1, 0, 1)\n",
      "243 (1, 1, 1, 1, 0, 0, 1, 1)\n",
      "247 (1, 1, 1, 1, 0, 1, 1, 1)\n",
      "245 (1, 1, 1, 1, 0, 1, 0, 1)\n"
     ]
    }
   ],
   "source": [
    "for i in list(set(sets[2]).difference(set(sets[0] + sets[1] + sets[3] + sets[4]))):\n",
    "    print(i, pure_self_reactive[i])"
   ]
  },
  {
   "cell_type": "code",
   "execution_count": 71,
   "id": "ade1750a",
   "metadata": {},
   "outputs": [
    {
     "data": {
      "text/plain": [
       "{5,\n",
       " 7,\n",
       " 13,\n",
       " 15,\n",
       " 21,\n",
       " 29,\n",
       " 31,\n",
       " 69,\n",
       " 71,\n",
       " 77,\n",
       " 79,\n",
       " 85,\n",
       " 87,\n",
       " 93,\n",
       " 95,\n",
       " 133,\n",
       " 135,\n",
       " 141,\n",
       " 143,\n",
       " 149,\n",
       " 157,\n",
       " 159,\n",
       " 197,\n",
       " 199,\n",
       " 205,\n",
       " 207,\n",
       " 213,\n",
       " 215,\n",
       " 221,\n",
       " 223}"
      ]
     },
     "execution_count": 71,
     "metadata": {},
     "output_type": "execute_result"
    }
   ],
   "source": [
    "set(sets[4]).difference(set(sets[0] + sets[1] + sets[2] + sets[3]))"
   ]
  },
  {
   "cell_type": "code",
   "execution_count": 24,
   "id": "d7124973",
   "metadata": {},
   "outputs": [
    {
     "data": {
      "text/plain": [
       "15"
      ]
     },
     "execution_count": 24,
     "metadata": {},
     "output_type": "execute_result"
    }
   ],
   "source": [
    "len(unique_expressions)"
   ]
  },
  {
   "cell_type": "code",
   "execution_count": 72,
   "id": "11769918",
   "metadata": {},
   "outputs": [
    {
     "data": {
      "text/latex": [
       "$\\displaystyle \\frac{b p_{CCD}}{6} + \\frac{b p_{CDC}}{6} + \\frac{b p_{CDD}}{6} + \\frac{b p_{DCC}}{6} + \\frac{b p_{DCD}}{6} + \\frac{b p_{DDC}}{6} - \\frac{c}{2}$"
      ],
      "text/plain": [
       "b*p_{CCD}/6 + b*p_{CDC}/6 + b*p_{CDD}/6 + b*p_{DCC}/6 + b*p_{DCD}/6 + b*p_{DDC}/6 - c/2"
      ]
     },
     "execution_count": 72,
     "metadata": {},
     "output_type": "execute_result"
    }
   ],
   "source": [
    "unique_expressions[0]"
   ]
  },
  {
   "cell_type": "code",
   "execution_count": 73,
   "id": "00405bde",
   "metadata": {},
   "outputs": [
    {
     "data": {
      "text/plain": [
       "[52, 53, 82, 83, 180, 181, 210, 211]"
      ]
     },
     "execution_count": 73,
     "metadata": {},
     "output_type": "execute_result"
    }
   ],
   "source": [
    "[payoff[0] for payoff in payoffs if payoff[1] == unique_expressions[0]]"
   ]
  },
  {
   "cell_type": "code",
   "execution_count": 75,
   "id": "1cf11d88",
   "metadata": {},
   "outputs": [
    {
     "data": {
      "text/plain": [
       "[128, 129, 130, 131, 132, 133, 134, 135, 136, 137]"
      ]
     },
     "execution_count": 75,
     "metadata": {},
     "output_type": "execute_result"
    }
   ],
   "source": [
    "[payoff[0] for payoff in payoffs if payoff[1] == unique_expressions[1]][:10]"
   ]
  },
  {
   "cell_type": "code",
   "execution_count": 77,
   "id": "bdffbe69",
   "metadata": {},
   "outputs": [
    {
     "data": {
      "text/plain": [
       "[26, 27, 30, 31, 58, 59, 62, 63]"
      ]
     },
     "execution_count": 77,
     "metadata": {},
     "output_type": "execute_result"
    }
   ],
   "source": [
    "[payoff[0] for payoff in payoffs if payoff[1] == unique_expressions[2]]"
   ]
  },
  {
   "cell_type": "code",
   "execution_count": 79,
   "id": "3755ebad",
   "metadata": {},
   "outputs": [
    {
     "data": {
      "text/plain": [
       "[104, 105, 106, 107, 108, 109, 110, 111, 120, 121]"
      ]
     },
     "execution_count": 79,
     "metadata": {},
     "output_type": "execute_result"
    }
   ],
   "source": [
    "[payoff[0] for payoff in payoffs if payoff[1] == unique_expressions[3]][:10]"
   ]
  },
  {
   "cell_type": "code",
   "execution_count": 80,
   "id": "dcc1c4eb",
   "metadata": {},
   "outputs": [
    {
     "data": {
      "text/plain": [
       "[3, 7, 35, 39, 131, 135, 163, 167]"
      ]
     },
     "execution_count": 80,
     "metadata": {},
     "output_type": "execute_result"
    }
   ],
   "source": [
    "[payoff[0] for payoff in payoffs if payoff[1] == unique_expressions[4]]"
   ]
  },
  {
   "cell_type": "code",
   "execution_count": 81,
   "id": "02871eed",
   "metadata": {},
   "outputs": [
    {
     "data": {
      "text/plain": [
       "[11, 15, 43, 47]"
      ]
     },
     "execution_count": 81,
     "metadata": {},
     "output_type": "execute_result"
    }
   ],
   "source": [
    "[payoff[0] for payoff in payoffs if payoff[1] == unique_expressions[5]]"
   ]
  },
  {
   "cell_type": "code",
   "execution_count": null,
   "id": "1bd1ade2",
   "metadata": {},
   "outputs": [],
   "source": []
  }
 ],
 "metadata": {
  "kernelspec": {
   "display_name": "Python 3",
   "language": "python",
   "name": "python3"
  },
  "language_info": {
   "codemirror_mode": {
    "name": "ipython",
    "version": 3
   },
   "file_extension": ".py",
   "mimetype": "text/x-python",
   "name": "python",
   "nbconvert_exporter": "python",
   "pygments_lexer": "ipython3",
   "version": "3.11.3"
  }
 },
 "nbformat": 4,
 "nbformat_minor": 5
}
