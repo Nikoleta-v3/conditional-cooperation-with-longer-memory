{
 "cells": [
  {
   "cell_type": "code",
   "execution_count": 1,
   "metadata": {},
   "outputs": [],
   "source": [
    "import glob\n",
    "\n",
    "import tqdm\n",
    "\n",
    "import collections"
   ]
  },
  {
   "cell_type": "markdown",
   "metadata": {},
   "source": [
    "#### Analysing the results from the algorithm"
   ]
  },
  {
   "cell_type": "code",
   "execution_count": 2,
   "metadata": {},
   "outputs": [],
   "source": [
    "files = glob.glob(\"../data/set_cover_output/*.txt\")"
   ]
  },
  {
   "cell_type": "code",
   "execution_count": 3,
   "metadata": {},
   "outputs": [
    {
     "data": {
      "text/plain": [
       "68980"
      ]
     },
     "execution_count": 3,
     "metadata": {},
     "output_type": "execute_result"
    }
   ],
   "source": [
    "len(files)"
   ]
  },
  {
   "cell_type": "code",
   "execution_count": 6,
   "metadata": {},
   "outputs": [
    {
     "name": "stderr",
     "output_type": "stream",
     "text": [
      "<ipython-input-6-1ff89b22bd03>:7: TqdmDeprecationWarning: This function will be removed in tqdm==5.0.0\n",
      "Please use `tqdm.notebook.tqdm` instead of `tqdm.tqdm_notebook`\n",
      "  for file in tqdm.tqdm_notebook(files):\n"
     ]
    },
    {
     "data": {
      "application/vnd.jupyter.widget-view+json": {
       "model_id": "e4dd1768b5a04b658b8176ad60824fa8",
       "version_major": 2,
       "version_minor": 0
      },
      "text/plain": [
       "HBox(children=(FloatProgress(value=0.0, max=68980.0), HTML(value='')))"
      ]
     },
     "metadata": {},
     "output_type": "display_data"
    },
    {
     "name": "stdout",
     "output_type": "stream",
     "text": [
      "\n"
     ]
    }
   ],
   "source": [
    "smallest_sets = []\n",
    "\n",
    "info = {}\n",
    "\n",
    "count = 0\n",
    "\n",
    "for file in tqdm.tqdm_notebook(files):\n",
    "    with open(file) as f:\n",
    "\n",
    "        lines = f.readlines()\n",
    "\n",
    "        seed = int(file.split(\"seed_\")[-1].split(\".txt\")[0])\n",
    "\n",
    "        starting_size = int(file.split(\"starting_size_\")[-1].split(\"_\")[0])\n",
    "\n",
    "        starting_index = int(file.split(\"starting_index_\")[-1].split(\"_\")[0])\n",
    "\n",
    "\n",
    "        info[count] = {\"seed\": seed, \n",
    "                       \"starting_size\": starting_size,\n",
    "                       \"starting_index\": starting_index,\n",
    "                       \"indices\": lines[0].split(\",\")[2:],\n",
    "                       \"len\": len(lines[0].split(\",\")[2:])}\n",
    "\n",
    "\n",
    "        count += 1"
   ]
  },
  {
   "cell_type": "code",
   "execution_count": 8,
   "metadata": {},
   "outputs": [
    {
     "data": {
      "text/plain": [
       "Counter({13: 19856, 12: 28385, 14: 3899, 11: 14876, 10: 1964})"
      ]
     },
     "execution_count": 8,
     "metadata": {},
     "output_type": "execute_result"
    }
   ],
   "source": [
    "collections.Counter([k['len'] for k in info.values()])"
   ]
  },
  {
   "cell_type": "markdown",
   "metadata": {},
   "source": [
    "### Numerical evaluation for memory-two strategies."
   ]
  },
  {
   "cell_type": "code",
   "execution_count": 4,
   "metadata": {},
   "outputs": [],
   "source": [
    "def seperate_equilibria_and_non(df):\n",
    "    per_player = df.groupby('ID')['condition A'].all()\n",
    "\n",
    "    eq_players_ID = per_player[per_player == True].index\n",
    "\n",
    "    noneq_players_ID = per_player[per_player == False].index\n",
    "    \n",
    "    return df[df['ID'].isin(eq_players_ID)], df[df['ID'].isin(noneq_players_ID)]"
   ]
  },
  {
   "cell_type": "code",
   "execution_count": 5,
   "metadata": {},
   "outputs": [],
   "source": [
    "import os\n",
    "\n",
    "from importlib.machinery import SourceFileLoader\n",
    "\n",
    "os.chdir('../')"
   ]
  },
  {
   "cell_type": "code",
   "execution_count": 6,
   "metadata": {},
   "outputs": [],
   "source": [
    "main = SourceFileLoader(\"main\", \"src/main.py\").load_module()\n",
    "\n",
    "from main import *\n",
    "\n",
    "eq = SourceFileLoader(\"eq\", \"src/numerical_equilibria_n_bit_vs_n_bit.py\").load_module()\n",
    "\n",
    "from eq import *"
   ]
  },
  {
   "cell_type": "code",
   "execution_count": 7,
   "metadata": {},
   "outputs": [],
   "source": [
    "import pandas\n",
    "\n",
    "from collections import Counter"
   ]
  },
  {
   "cell_type": "code",
   "execution_count": 8,
   "metadata": {},
   "outputs": [],
   "source": [
    "columns = (\n",
    "    [\"\", \"ID\"]\n",
    "    + [f\"p{i+1}\" for i in range(16)]\n",
    "    + [\"label\", \"Sp\", \"Sq\", \"condition A\", \"condition B\", \"c\", \"b\"]\n",
    ")"
   ]
  },
  {
   "cell_type": "code",
   "execution_count": 11,
   "metadata": {},
   "outputs": [],
   "source": [
    "files = glob.glob(\"data/memory_two_against_memory_two/*.csv\")"
   ]
  },
  {
   "cell_type": "code",
   "execution_count": 12,
   "metadata": {},
   "outputs": [],
   "source": [
    "dfs = [pd.read_csv(file, index_col=0, names=columns) for file in files]\n",
    "\n",
    "df = pd.concat(dfs)"
   ]
  },
  {
   "cell_type": "code",
   "execution_count": 13,
   "metadata": {},
   "outputs": [],
   "source": [
    "eqmemtwo, noneqmemtwo = seperate_equilibria_and_non(df)"
   ]
  },
  {
   "cell_type": "code",
   "execution_count": 14,
   "metadata": {},
   "outputs": [],
   "source": [
    "groups = noneqmemtwo[noneqmemtwo['condition A'] == False].groupby('ID')\n",
    "\n",
    "sets, ids = [], []\n",
    "\n",
    "for i, group in groups:\n",
    "    sets.append(group['label'].values)\n",
    "    ids.append(group['ID'].unique())"
   ]
  },
  {
   "cell_type": "code",
   "execution_count": 15,
   "metadata": {},
   "outputs": [
    {
     "data": {
      "text/plain": [
       "535"
      ]
     },
     "execution_count": 15,
     "metadata": {},
     "output_type": "execute_result"
    }
   ],
   "source": [
    "len(sets)"
   ]
  },
  {
   "cell_type": "code",
   "execution_count": 16,
   "metadata": {},
   "outputs": [],
   "source": [
    "flat_list = [item for sublist in sets for item in sublist]"
   ]
  },
  {
   "cell_type": "code",
   "execution_count": 17,
   "metadata": {},
   "outputs": [],
   "source": [
    "counter = Counter(flat_list)"
   ]
  },
  {
   "cell_type": "markdown",
   "metadata": {},
   "source": [
    "### Check the conditions "
   ]
  },
  {
   "cell_type": "code",
   "execution_count": null,
   "metadata": {},
   "outputs": [],
   "source": [
    "p_2 \\leq  p_{6}\n",
    "p_{10} \\leq  p_{6} \n",
    "p_{14} \\leq  p_{6}  \n",
    "p_5 \\leq 1 \n",
    "p_9 \\leq 1 \n",
    "\n",
    "p_{13}  \\leq 1"
   ]
  },
  {
   "cell_type": "code",
   "execution_count": 64,
   "metadata": {},
   "outputs": [],
   "source": [
    "def mem_two_condition_eleven(p, b, c):\n",
    "    return (p[2] < p[6]) or np.isclose(p[2], p[6], atol=10 ** -4)\n",
    "\n",
    "def mem_two_condition_one(p, b, c):\n",
    "    return (p[10] < p[6]) or np.isclose(p[10], p[6], atol=10 ** -4)\n",
    "\n",
    "def mem_two_condition_ten(p, b, c):\n",
    "    return (p[14] < p[6]) or np.isclose(p[14], p[6], atol=10 ** -4)\n",
    "\n",
    "\n",
    "def mem_two_condition_twelve(p, b, c):\n",
    "    return p[5] < 1 or np.isclose(p[5], 1, atol=10 ** -4)\n",
    "\n",
    "\n",
    "def mem_two_condition_thirteen(p, b, c):\n",
    "    return (p[9] < 1) or np.isclose(p[9], 1, atol=10 ** -4)\n",
    "\n",
    "def mem_two_condition_four(p, b, c):\n",
    "    return (p[13] < 1) or np.isclose(p[13], 1, atol=10 ** -4)\n",
    "\n",
    "def mem_two_condition_six(p, b, c):\n",
    "    return c * p[3] + b * (-1 + p[6]) < 0 or np.isclose(c * p[3] + b * (-1 + p[6]), 0, atol=10 ** -4)\n",
    "\n",
    "\n",
    "def mem_two_condition_two(p, b, c):\n",
    "    return c * p[11] + b * (-1 + p[6]) < 0 or np.isclose(c * p[11] + b * (-1 + p[6]), 0, atol=10 ** -4)\n",
    "\n",
    "def mem_two_condition_five(p, b, c):\n",
    "    return c * p[15] + b * (-1 + p[6]) < 0 or np.isclose(c * p[15] + b * (-1 + p[6]), 0, atol=10 ** -4)\n",
    "\n",
    "\n",
    "def mem_two_condition_eight(p, b, c):\n",
    "    return (b * (-1 + p[6]) + c * p[7]) < 0  or np.isclose((b * (-1 + p[6]) + c * p[7]), 0, atol=10 ** -4)\n",
    "\n",
    "\n",
    "def mem_two_condition_nine(p, b, c):\n",
    "    return ((b - c) * (-1 + p[6]) + c * p[8]) < 0  or np.isclose(((b - c) * (-1 + p[6]) + c * p[8]), 0, atol=10 ** -4)\n",
    "\n",
    "\n",
    "def mem_two_condition_three(p, b, c):\n",
    "    return 1 + (c * p[4]) / (b - c) - p[6] > 0 or np.isclose(1 + (c * p[4]) / (b - c) - p[6], 0, atol=10 ** -4)\n",
    "\n",
    "\n",
    "def mem_two_condition_fourteen(p, b, c):\n",
    "    return 1 + (c * p[12]) / (b - c) - p[6] > 0 or np.isclose(1 + (c * p[12]) / (b - c) - p[6], 0, atol=10 ** -4)\n",
    "\n",
    "\n",
    "def mem_two_condition_fifteen(p, b, c): \n",
    "    return 1 + (c * p[16]) / (b - c) - p[6] > 0 or np.isclose(1 + (c * p[16]) / (b - c) - p[6], 0, atol=10 ** -4)"
   ]
  },
  {
   "cell_type": "code",
   "execution_count": 65,
   "metadata": {},
   "outputs": [],
   "source": [
    "def is_Nash(p, b, c):\n",
    "    return { \"cond. 1\": mem_two_condition_one(p, b, c),\n",
    "             \"cond. 2\": mem_two_condition_two(p, b, c),\n",
    "             \"cond. 3\": mem_two_condition_three(p, b, c),\n",
    "             \"cond. 4\": mem_two_condition_four(p, b, c),\n",
    "             \"cond. 5\": mem_two_condition_five(p, b, c),\n",
    "             \"cond. 6\": mem_two_condition_six(p, b, c),\n",
    "             \"cond. 8\": mem_two_condition_eight(p, b, c),\n",
    "             \"cond. 9\": mem_two_condition_nine(p, b, c),\n",
    "             \"cond. 10\": mem_two_condition_ten(p, b, c),\n",
    "             \"cond. 11\": mem_two_condition_eleven(p, b, c),\n",
    "             \"cond. 12\": mem_two_condition_twelve(p, b, c),\n",
    "             \"cond. 13\": mem_two_condition_thirteen(p, b, c),\n",
    "             \"cond. 14\": mem_two_condition_fourteen(p, b, c),\n",
    "             \"cond. 15\": mem_two_condition_fifteen(p, b, c)}"
   ]
  },
  {
   "cell_type": "code",
   "execution_count": 66,
   "metadata": {},
   "outputs": [],
   "source": [
    "b, c = 2, 1"
   ]
  },
  {
   "cell_type": "code",
   "execution_count": 67,
   "metadata": {},
   "outputs": [],
   "source": [
    "eqmemtwo = eqmemtwo.drop_duplicates(\"ID\")"
   ]
  },
  {
   "cell_type": "code",
   "execution_count": 68,
   "metadata": {},
   "outputs": [],
   "source": [
    "players_cols =  [f\"p{i+1}\" for i in range(16)]"
   ]
  },
  {
   "cell_type": "code",
   "execution_count": 69,
   "metadata": {},
   "outputs": [],
   "source": [
    "outside = 0\n",
    "\n",
    "for i, row in eqmemtwo[players_cols].drop_duplicates().iterrows():\n",
    "    p = [\"\"] + list(row[players_cols].values)\n",
    "    \n",
    "    check = all(is_Nash(p, b, c).values())\n",
    "    \n",
    "    if check == False:\n",
    "        outside += 1"
   ]
  },
  {
   "cell_type": "code",
   "execution_count": 70,
   "metadata": {},
   "outputs": [
    {
     "data": {
      "text/plain": [
       "365"
      ]
     },
     "execution_count": 70,
     "metadata": {},
     "output_type": "execute_result"
    }
   ],
   "source": [
    "outside"
   ]
  },
  {
   "cell_type": "code",
   "execution_count": 61,
   "metadata": {},
   "outputs": [
    {
     "data": {
      "text/plain": [
       "387"
      ]
     },
     "execution_count": 61,
     "metadata": {},
     "output_type": "execute_result"
    }
   ],
   "source": [
    "eqmemtwo['ID'].nunique()"
   ]
  },
  {
   "cell_type": "code",
   "execution_count": null,
   "metadata": {},
   "outputs": [],
   "source": []
  }
 ],
 "metadata": {
  "kernelspec": {
   "display_name": "Python 3",
   "language": "python",
   "name": "python3"
  },
  "language_info": {
   "codemirror_mode": {
    "name": "ipython",
    "version": 3
   },
   "file_extension": ".py",
   "mimetype": "text/x-python",
   "name": "python",
   "nbconvert_exporter": "python",
   "pygments_lexer": "ipython3",
   "version": "3.8.3"
  }
 },
 "nbformat": 4,
 "nbformat_minor": 4
}
