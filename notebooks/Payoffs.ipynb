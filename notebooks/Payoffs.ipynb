{
 "cells": [
  {
   "cell_type": "code",
   "execution_count": 1,
   "id": "8355aa3d",
   "metadata": {},
   "outputs": [],
   "source": [
    "import numpy as np\n",
    "\n",
    "import repeated_play\n",
    "\n",
    "import axelrod as axl"
   ]
  },
  {
   "cell_type": "code",
   "execution_count": 2,
   "id": "28267992",
   "metadata": {},
   "outputs": [],
   "source": [
    "import itertools\n",
    "\n",
    "from axelrod.action import Action\n",
    "\n",
    "C, D = Action.C, Action.D"
   ]
  },
  {
   "cell_type": "code",
   "execution_count": 17,
   "id": "d82c825c",
   "metadata": {},
   "outputs": [],
   "source": [
    "from tqdm.notebook import tqdm"
   ]
  },
  {
   "cell_type": "code",
   "execution_count": 3,
   "id": "c6f159c2",
   "metadata": {},
   "outputs": [],
   "source": [
    "import matplotlib.pyplot as plt"
   ]
  },
  {
   "cell_type": "code",
   "execution_count": 4,
   "id": "2997cbe6",
   "metadata": {},
   "outputs": [],
   "source": [
    "import networkx as nx"
   ]
  },
  {
   "cell_type": "code",
   "execution_count": 5,
   "id": "dac064c9",
   "metadata": {},
   "outputs": [],
   "source": [
    "from collections import Counter"
   ]
  },
  {
   "cell_type": "code",
   "execution_count": 59,
   "id": "1a145163",
   "metadata": {},
   "outputs": [],
   "source": [
    "from scipy import stats"
   ]
  },
  {
   "cell_type": "code",
   "execution_count": 6,
   "id": "98078b6b",
   "metadata": {},
   "outputs": [],
   "source": [
    "def match_payoffs(player, coplayer, Sx, Sy, memory=\"one\"):\n",
    "    M = repeated_play.transition_matrix_repeated_game(\n",
    "        player, coplayer, memory=memory\n",
    "    )\n",
    "\n",
    "    ss = repeated_play.stationary_distribution(M)[0]\n",
    "\n",
    "    return ss, ss @ Sx, ss @ Sy"
   ]
  },
  {
   "cell_type": "code",
   "execution_count": 7,
   "id": "f6bc6efb",
   "metadata": {},
   "outputs": [],
   "source": [
    "def reactive_two_t_memory_two(strategy):\n",
    "    return (strategy[0], strategy[1], strategy[0], strategy[1],\n",
    "            strategy[2], strategy[3], strategy[2], strategy[3],\n",
    "            strategy[0], strategy[1], strategy[0], strategy[1],\n",
    "            strategy[2], strategy[3], strategy[2], strategy[3]\n",
    "           )"
   ]
  },
  {
   "cell_type": "code",
   "execution_count": 8,
   "id": "591a4569",
   "metadata": {},
   "outputs": [],
   "source": [
    "player = [0.99, 0.1, 0.6, 0.3]\n",
    "\n",
    "prime_player = [0.99, 0.6, 0.1, 0.3]"
   ]
  },
  {
   "cell_type": "code",
   "execution_count": 9,
   "id": "68f3df1d",
   "metadata": {},
   "outputs": [],
   "source": [
    "player_mem2 = reactive_two_t_memory_two(player)"
   ]
  },
  {
   "cell_type": "code",
   "execution_count": 10,
   "id": "a209f974",
   "metadata": {},
   "outputs": [],
   "source": [
    "prime_player_mem2 = reactive_two_t_memory_two(prime_player)"
   ]
  },
  {
   "cell_type": "code",
   "execution_count": 11,
   "id": "01962713",
   "metadata": {},
   "outputs": [],
   "source": [
    "b, c = 1, 1/2\n",
    "\n",
    "Sx = np.array([b - c, -c, b, 0] * 4)\n",
    "\n",
    "Sy = np.array([b - c, b, -c, 0] * 4)"
   ]
  },
  {
   "cell_type": "code",
   "execution_count": 12,
   "id": "e18c1d6a",
   "metadata": {},
   "outputs": [],
   "source": [
    "ss, payoff, _ = match_payoffs(player_mem2, player_mem2, Sx, Sy, memory=\"two\")"
   ]
  },
  {
   "cell_type": "code",
   "execution_count": 13,
   "id": "21b0ab03",
   "metadata": {},
   "outputs": [],
   "source": [
    "ss2, payoff2, _ = match_payoffs(prime_player_mem2, prime_player_mem2, Sx, Sy, memory=\"two\")"
   ]
  },
  {
   "cell_type": "markdown",
   "id": "e5394464",
   "metadata": {},
   "source": [
    "# Simulations"
   ]
  },
  {
   "cell_type": "code",
   "execution_count": 14,
   "id": "52f3db4d",
   "metadata": {},
   "outputs": [],
   "source": [
    "class Mem2Transformed(axl.MemoryTwoPlayer):\n",
    "    \n",
    "    \n",
    "    def __init__(self, sixteen_vector) -> None:\n",
    "        super().__init__(sixteen_vector)\n",
    "        \n",
    "    def strategy(self, opponent):\n",
    "        \"\"\"Actual strategy definition that determines player's action.\"\"\"\n",
    "        turn = len(self.history)\n",
    "        if turn <= 1:\n",
    "            return self._random.random_choice(0.5)\n",
    "\n",
    "        p = self._sixteen_vector[\n",
    "            ((self.history[-2], opponent.history[-2]), (self.history[-1], opponent.history[-1]))\n",
    "        ]\n",
    "\n",
    "        try:\n",
    "            return self._random.random_choice(p)\n",
    "        except AttributeError:\n",
    "            return C if p == 1 else D"
   ]
  },
  {
   "cell_type": "code",
   "execution_count": 15,
   "id": "0275da55",
   "metadata": {},
   "outputs": [],
   "source": [
    "donation = axl.game.Game(r=b-c, s=-c, t=b, p=0)"
   ]
  },
  {
   "cell_type": "markdown",
   "id": "4db02890",
   "metadata": {},
   "source": [
    "### Player"
   ]
  },
  {
   "cell_type": "code",
   "execution_count": 16,
   "id": "34d114af",
   "metadata": {},
   "outputs": [],
   "source": [
    "reps = 20"
   ]
  },
  {
   "cell_type": "code",
   "execution_count": 36,
   "id": "4d135f4e",
   "metadata": {},
   "outputs": [
    {
     "data": {
      "application/vnd.jupyter.widget-view+json": {
       "model_id": "64893af7f68649f7af35e839e007120c",
       "version_major": 2,
       "version_minor": 0
      },
      "text/plain": [
       "  0%|          | 0/20 [00:00<?, ?it/s]"
      ]
     },
     "metadata": {},
     "output_type": "display_data"
    }
   ],
   "source": [
    "scores, results_player = [], []\n",
    "\n",
    "for _ in tqdm(range(reps)):\n",
    "    \n",
    "    p1 = Mem2Transformed(player_mem2)\n",
    "    \n",
    "    p2 = Mem2Transformed(player_mem2)\n",
    "    \n",
    "    match = axl.Match([p1, p2], turns=10**6, game=donation)\n",
    "    \n",
    "    _ = match.play()\n",
    "    \n",
    "    score = match.final_score_per_turn()[0]\n",
    "    \n",
    "    scores.append(score)\n",
    "    \n",
    "    results_player.append(match.result)"
   ]
  },
  {
   "cell_type": "code",
   "execution_count": 37,
   "id": "fa246572",
   "metadata": {},
   "outputs": [],
   "source": [
    "results_flatten = [x for xs in results_player for x in xs]\n",
    "\n",
    "states_player = {history: 0 for history in  itertools.product([C, D], repeat=4)}\n",
    "\n",
    "for i, hist in enumerate(results_flatten[:-1]):\n",
    "    states_player[hist + results_flatten[i + 1]] += 1 / (10 ** 6 * reps)"
   ]
  },
  {
   "cell_type": "code",
   "execution_count": 38,
   "id": "3164a028",
   "metadata": {},
   "outputs": [
    {
     "data": {
      "application/vnd.jupyter.widget-view+json": {
       "model_id": "b78c3147fcef4427b522a3587c7d4863",
       "version_major": 2,
       "version_minor": 0
      },
      "text/plain": [
       "  0%|          | 0/20 [00:00<?, ?it/s]"
      ]
     },
     "metadata": {},
     "output_type": "display_data"
    }
   ],
   "source": [
    "scores2, results_prime_player = [], []\n",
    "\n",
    "for _ in tqdm(range(reps)):\n",
    "    \n",
    "    p1 = Mem2Transformed(prime_player_mem2)\n",
    "    \n",
    "    p2 = Mem2Transformed(prime_player_mem2)\n",
    "    \n",
    "    match = axl.Match([p1, p2], turns=10**6, game=donation)\n",
    "    \n",
    "    _ = match.play()\n",
    "    \n",
    "    score = match.final_score_per_turn()[0]\n",
    "    \n",
    "    scores2.append(score)\n",
    "    \n",
    "    results_prime_player.append(match.result)"
   ]
  },
  {
   "cell_type": "code",
   "execution_count": 39,
   "id": "667e88a5",
   "metadata": {},
   "outputs": [],
   "source": [
    "results_flatten2 = [x for xs in results_prime_player for x in xs]\n",
    "\n",
    "states_prime_player = {history: 0 for history in  itertools.product([C, D], repeat=4)}\n",
    "\n",
    "for i, hist in enumerate(results_flatten2[:-1]):\n",
    "    states_prime_player[hist + results_flatten2[i + 1]] += 1 / (10 ** 6 * reps)"
   ]
  },
  {
   "cell_type": "code",
   "execution_count": 157,
   "id": "5cfa5e5f",
   "metadata": {},
   "outputs": [
    {
     "data": {
      "image/png": "[encoded data removed]",
      "text/plain": [
       "<Figure size 850x400 with 4 Axes>"
      ]
     },
     "metadata": {},
     "output_type": "display_data"
    }
   ],
   "source": [
    "fig, axes = plt.subplot_mosaic(\"AB;CD\", figsize=(8.5, 4),\n",
    "                               gridspec_kw = {'height_ratios':[1, 1]},\n",
    "                               sharey=True,\n",
    "                               sharex=True)\n",
    "\n",
    "# Markov chain process\n",
    "axes[\"A\"].bar(range(1, 17), ss, color='tab:green');\n",
    "\n",
    "axes[\"B\"].bar(range(1, 17), ss2, color='tab:red');\n",
    "\n",
    "# Simulations\n",
    "\n",
    "axes[\"C\"].bar(range(1, 17), states_player.values(), color='forestgreen');\n",
    "\n",
    "axes[\"D\"].bar(range(1, 17), states_prime_player.values(), color='brown');\n",
    "\n",
    "\n",
    "\n",
    "# ticks and stuff\n",
    "\n",
    "axes[\"A\"].set_ylim(0, 1)\n",
    "\n",
    "axes[\"A\"].set_yticks(np.arange(0, 1.1, .5));\n",
    "\n",
    "axes[\"A\"].set_xticks(np.arange(1, 17, 1));\n",
    "\n",
    "for letter in ['C', 'D']:\n",
    "\n",
    "    axes[letter].set_xticklabels(['$v_{((C, C), (C, C))}$',\n",
    "                               '$v_{((C, C), (C, D))}$',\n",
    "                               '$v_{((C, D), (C, C))}$',\n",
    "                               '$v_{((C, D), (C, D))}$',\n",
    "                               '$v_{((C, C), (D, C))}$',\n",
    "                               '$v_{((C, C), (D, D))}$',\n",
    "                               '$v_{((C, D), (D, C))}$',\n",
    "                               '$v_{((C, D), (D, D))}$',\n",
    "                               '$v_{((D, C), (C, C))}$',\n",
    "                               '$v_{((D, C), (C, D))}$',\n",
    "                               '$v_{((D, D), (C, C))}$',\n",
    "                               '$v_{((D, D), (C, D))}$',\n",
    "                               '$v_{((D, C), (D, C))}$',\n",
    "                               '$v_{((D, C), (D, D))}$',\n",
    "                               '$v_{((D, D), (D, C))}$',\n",
    "                               '$v_{((D, D), (D, D))}$'], rotation=90, fontsize=9\n",
    "                         );\n",
    "\n",
    "    axes[letter].xaxis.set_tick_params(labelbottom=True)\n",
    "    \n",
    "axes['A'].set_title(\"$\\mathbf{p}=(0.99, 0.1, 0.6, 0.3)$\");\n",
    "\n",
    "axes['B'].set_title(r\"$\\mathbf{\\tilde{p}}=(0.99, 0.6, 0.1, 0.3)$\");\n",
    "\n",
    "\n",
    "axes['A'].set_ylabel(\"Markov approach\", fontweight='bold');\n",
    "\n",
    "axes['C'].set_ylabel(\"Simulations\", fontweight='bold');"
   ]
  },
  {
   "cell_type": "code",
   "execution_count": 159,
   "id": "a836afc7",
   "metadata": {},
   "outputs": [
    {
     "data": {
      "image/png": "[encoded data removed]",
      "text/plain": [
       "<Figure size 450x400 with 1 Axes>"
      ]
     },
     "metadata": {},
     "output_type": "display_data"
    }
   ],
   "source": [
    "fig, axes = plt.subplot_mosaic(\"A\", figsize=(4.5, 4),\n",
    "                               gridspec_kw = {'height_ratios':[1]},\n",
    "                               sharey=True,\n",
    "                               sharex=True)\n",
    "\n",
    "axes[\"A\"].bar([0, 1],\n",
    "             [np.mean([len(cycle) - 2 for cycle in flatten_cycles_player]),\n",
    "              np.mean([len(cycle) - 2 for cycle in flatten_cycles_prime_player])],\n",
    "              color=['tab:green', 'tab:red']);\n",
    "\n",
    "axes[\"A\"].set_xticks([0, 1], [\"$\\mathbf{p}$\", r\"$\\mathbf{\\tilde{p}}$\"]);\n",
    "\n",
    "axes[\"A\"].set_ylabel(\"Av. number of steps to \\n return to mutual cooperation\");"
   ]
  },
  {
   "cell_type": "code",
   "execution_count": 150,
   "id": "e2b23791",
   "metadata": {},
   "outputs": [
    {
     "data": {
      "text/plain": [
       "22.87816491713841"
      ]
     },
     "execution_count": 150,
     "metadata": {},
     "output_type": "execute_result"
    }
   ],
   "source": [
    "np.mean([len(cycle) - 2 for cycle in flatten_cycles_player])"
   ]
  },
  {
   "cell_type": "markdown",
   "id": "6bc51189",
   "metadata": {},
   "source": [
    "# Cycles"
   ]
  },
  {
   "cell_type": "markdown",
   "id": "ac51adb1",
   "metadata": {},
   "source": [
    "Let's transform the histories to letters. More specifically,\n",
    "\n",
    "- (C, C) -> A\n",
    "- (C, D) -> B\n",
    "- (D, C) -> C\n",
    "- (D, D) -> D"
   ]
  },
  {
   "cell_type": "code",
   "execution_count": 41,
   "id": "7e3d92db",
   "metadata": {},
   "outputs": [],
   "source": [
    "states_to_letters = {(C, C): \"A\", (C, D): \"B\", (D, C): \"C\", (D, D): \"D\"}"
   ]
  },
  {
   "cell_type": "code",
   "execution_count": 42,
   "id": "afa9e51a",
   "metadata": {},
   "outputs": [],
   "source": [
    "results_player_letters = [[states_to_letters[state] for state in states] \n",
    "                          for states in results_player]"
   ]
  },
  {
   "cell_type": "markdown",
   "id": "526de1c7",
   "metadata": {},
   "source": [
    "Let's write the function for getting cycles"
   ]
  },
  {
   "cell_type": "code",
   "execution_count": 43,
   "id": "626207c3",
   "metadata": {},
   "outputs": [],
   "source": [
    "def get_cycles(result):\n",
    "\n",
    "    overall_cycles = []\n",
    "\n",
    "    source = [\"A\", \"A\"]\n",
    "\n",
    "    current_cycle = []\n",
    "\n",
    "    cycle_happening = False\n",
    "\n",
    "    for i, turn in enumerate(result[:-1]):\n",
    "\n",
    "        state = [turn, result[i + 1]]\n",
    "\n",
    "        if state == source and cycle_happening == False:\n",
    "            cycle_happening = True\n",
    "\n",
    "            current_cycle = [state]\n",
    "\n",
    "        elif state == source and len(current_cycle) == 1:\n",
    "            assert cycle_happening == True\n",
    "            current_cycle = [state]\n",
    "\n",
    "\n",
    "        elif state == source and len(current_cycle) > 1:\n",
    "            assert cycle_happening == True\n",
    "\n",
    "            current_cycle.append(state)\n",
    "            overall_cycles.append(current_cycle)\n",
    "\n",
    "            current_cycle = []\n",
    "            cycle_happening = False\n",
    "\n",
    "\n",
    "        elif state != source and cycle_happening == True:\n",
    "            assert cycle_happening == True\n",
    "            current_cycle.append(state)\n",
    "        else:\n",
    "            pass\n",
    "    return overall_cycles"
   ]
  },
  {
   "cell_type": "markdown",
   "id": "8f8d6900",
   "metadata": {},
   "source": [
    "Let's test it."
   ]
  },
  {
   "cell_type": "code",
   "execution_count": 26,
   "id": "9439a885",
   "metadata": {},
   "outputs": [
    {
     "data": {
      "text/plain": [
       "[]"
      ]
     },
     "execution_count": 26,
     "metadata": {},
     "output_type": "execute_result"
    }
   ],
   "source": [
    "result = [\"A\", \"A\", \"A\"]\n",
    "\n",
    "get_cycles(result)"
   ]
  },
  {
   "cell_type": "code",
   "execution_count": 27,
   "id": "86235f8a",
   "metadata": {},
   "outputs": [
    {
     "data": {
      "text/plain": [
       "[]"
      ]
     },
     "execution_count": 27,
     "metadata": {},
     "output_type": "execute_result"
    }
   ],
   "source": [
    "result = [\"A\", \"A\", \"B\", \"D\"]\n",
    "\n",
    "get_cycles(result)"
   ]
  },
  {
   "cell_type": "code",
   "execution_count": 28,
   "id": "75b12fca",
   "metadata": {},
   "outputs": [
    {
     "data": {
      "text/plain": [
       "[[['A', 'A'], ['A', 'B'], ['B', 'D'], ['D', 'A'], ['A', 'A']]]"
      ]
     },
     "execution_count": 28,
     "metadata": {},
     "output_type": "execute_result"
    }
   ],
   "source": [
    "result = [\"A\", \"A\", \"B\", \"D\", \"A\", \"A\", \"C\", \"D\",]\n",
    "\n",
    "get_cycles(result)"
   ]
  },
  {
   "cell_type": "code",
   "execution_count": 29,
   "id": "d4d3f296",
   "metadata": {},
   "outputs": [
    {
     "data": {
      "text/plain": [
       "[[['A', 'A'], ['A', 'B'], ['B', 'D'], ['D', 'A'], ['A', 'A']]]"
      ]
     },
     "execution_count": 29,
     "metadata": {},
     "output_type": "execute_result"
    }
   ],
   "source": [
    "result = [\"A\", \"A\", \"B\", \"D\", \"A\", \"A\", \"C\", \"D\", \"A\", \"A\", \"B\", \"D\",]\n",
    "\n",
    "get_cycles(result)"
   ]
  },
  {
   "cell_type": "code",
   "execution_count": 30,
   "id": "4d9af5ec",
   "metadata": {},
   "outputs": [
    {
     "data": {
      "text/plain": [
       "[[['A', 'A'], ['A', 'B'], ['B', 'D'], ['D', 'A'], ['A', 'A']],\n",
       " [['A', 'A'], ['A', 'B'], ['B', 'D'], ['D', 'A'], ['A', 'A']]]"
      ]
     },
     "execution_count": 30,
     "metadata": {},
     "output_type": "execute_result"
    }
   ],
   "source": [
    "result = [\"A\", \"A\", \"B\", \"D\", \"A\", \"A\", \"C\", \"D\", \"A\", \"A\", \"B\", \"D\", \"A\", \"A\",]\n",
    "\n",
    "get_cycles(result)"
   ]
  },
  {
   "cell_type": "markdown",
   "id": "f6c5b6d9",
   "metadata": {},
   "source": [
    "Let's transform both results."
   ]
  },
  {
   "cell_type": "code",
   "execution_count": 31,
   "id": "33107098",
   "metadata": {},
   "outputs": [],
   "source": [
    "results_prime_player_letters = [[states_to_letters[state] for state in states] \n",
    "                          for states in results_prime_player]"
   ]
  },
  {
   "cell_type": "markdown",
   "id": "02230c99",
   "metadata": {},
   "source": [
    "Let's get the cycles."
   ]
  },
  {
   "cell_type": "code",
   "execution_count": 44,
   "id": "feb1873d",
   "metadata": {},
   "outputs": [],
   "source": [
    "cycles_player = []\n",
    "\n",
    "for result in results_player_letters:\n",
    "    cycles = get_cycles(result)\n",
    "    cycles_player.append(cycles)"
   ]
  },
  {
   "cell_type": "code",
   "execution_count": 34,
   "id": "f6d5389d",
   "metadata": {},
   "outputs": [],
   "source": [
    "# [len(cycle) for cycle in cycles_player]"
   ]
  },
  {
   "cell_type": "code",
   "execution_count": 45,
   "id": "edf54b70",
   "metadata": {},
   "outputs": [
    {
     "data": {
      "text/plain": [
       "267977"
      ]
     },
     "execution_count": 45,
     "metadata": {},
     "output_type": "execute_result"
    }
   ],
   "source": [
    "sum([len(cycle) for cycle in cycles_player])"
   ]
  },
  {
   "cell_type": "code",
   "execution_count": 46,
   "id": "b28647d6",
   "metadata": {},
   "outputs": [],
   "source": [
    "flatten_cycles_player = [x for xs in cycles_player for x in xs]"
   ]
  },
  {
   "cell_type": "code",
   "execution_count": 47,
   "id": "e4366362",
   "metadata": {
    "scrolled": true
   },
   "outputs": [
    {
     "data": {
      "text/plain": [
       "24.87816491713841"
      ]
     },
     "execution_count": 47,
     "metadata": {},
     "output_type": "execute_result"
    }
   ],
   "source": [
    "np.mean([len(cycle) for cycle in flatten_cycles_player])"
   ]
  },
  {
   "cell_type": "markdown",
   "id": "b0c56292",
   "metadata": {},
   "source": [
    "Let's get the cycles for prime player."
   ]
  },
  {
   "cell_type": "code",
   "execution_count": 48,
   "id": "06acc692",
   "metadata": {},
   "outputs": [],
   "source": [
    "cycles_prime_player = []\n",
    "\n",
    "for result in results_prime_player_letters:\n",
    "    cycles = get_cycles(result)\n",
    "    cycles_prime_player.append(cycles)"
   ]
  },
  {
   "cell_type": "code",
   "execution_count": 49,
   "id": "691b3a73",
   "metadata": {},
   "outputs": [
    {
     "data": {
      "text/plain": [
       "15983"
      ]
     },
     "execution_count": 49,
     "metadata": {},
     "output_type": "execute_result"
    }
   ],
   "source": [
    "sum([len(cycle) for cycle in cycles_prime_player])"
   ]
  },
  {
   "cell_type": "code",
   "execution_count": 50,
   "id": "64925145",
   "metadata": {},
   "outputs": [],
   "source": [
    "flatten_cycles_prime_player = [x for xs in cycles_prime_player for x in xs]"
   ]
  },
  {
   "cell_type": "code",
   "execution_count": 51,
   "id": "8d59ed55",
   "metadata": {
    "scrolled": true
   },
   "outputs": [
    {
     "data": {
      "text/plain": [
       "74.27954701870738"
      ]
     },
     "execution_count": 51,
     "metadata": {},
     "output_type": "execute_result"
    }
   ],
   "source": [
    "np.mean([len(cycle) for cycle in flatten_cycles_prime_player])"
   ]
  },
  {
   "cell_type": "code",
   "execution_count": 54,
   "id": "aed05bfb",
   "metadata": {},
   "outputs": [
    {
     "data": {
      "image/png": "[encoded data removed]",
      "text/plain": [
       "<Figure size 640x480 with 1 Axes>"
      ]
     },
     "metadata": {},
     "output_type": "display_data"
    }
   ],
   "source": [
    "plt.boxplot([len(cycle) for cycle in flatten_cycles_prime_player]);"
   ]
  },
  {
   "cell_type": "code",
   "execution_count": 60,
   "id": "8cf706b7",
   "metadata": {},
   "outputs": [
    {
     "name": "stderr",
     "output_type": "stream",
     "text": [
      "/var/folders/19/1t7slkb13h578dr5bl_47kf80000gp/T/ipykernel_9101/3230808305.py:1: FutureWarning: Unlike other reduction functions (e.g. `skew`, `kurtosis`), the default behavior of `mode` typically preserves the axis it acts along. In SciPy 1.11.0, this behavior will change: the default value of `keepdims` will become False, the `axis` over which the statistic is taken will be eliminated, and the value None will no longer be accepted. Set `keepdims` to True or False to avoid this warning.\n",
      "  stats.mode([len(cycle) for cycle in flatten_cycles_prime_player])\n"
     ]
    },
    {
     "data": {
      "text/plain": [
       "ModeResult(mode=array([4]), count=array([907]))"
      ]
     },
     "execution_count": 60,
     "metadata": {},
     "output_type": "execute_result"
    }
   ],
   "source": [
    "stats.mode([len(cycle) for cycle in flatten_cycles_prime_player])"
   ]
  },
  {
   "cell_type": "code",
   "execution_count": 61,
   "id": "72bf6759",
   "metadata": {},
   "outputs": [
    {
     "name": "stderr",
     "output_type": "stream",
     "text": [
      "/var/folders/19/1t7slkb13h578dr5bl_47kf80000gp/T/ipykernel_9101/1707562091.py:1: FutureWarning: Unlike other reduction functions (e.g. `skew`, `kurtosis`), the default behavior of `mode` typically preserves the axis it acts along. In SciPy 1.11.0, this behavior will change: the default value of `keepdims` will become False, the `axis` over which the statistic is taken will be eliminated, and the value None will no longer be accepted. Set `keepdims` to True or False to avoid this warning.\n",
      "  stats.mode([len(cycle) for cycle in flatten_cycles_player])\n"
     ]
    },
    {
     "data": {
      "text/plain": [
       "ModeResult(mode=array([4]), count=array([15633]))"
      ]
     },
     "execution_count": 61,
     "metadata": {},
     "output_type": "execute_result"
    }
   ],
   "source": [
    "stats.mode([len(cycle) for cycle in flatten_cycles_player])"
   ]
  },
  {
   "cell_type": "code",
   "execution_count": 66,
   "id": "058b44ac",
   "metadata": {
    "scrolled": false
   },
   "outputs": [
    {
     "data": {
      "image/png": "[encoded data removed]",
      "text/plain": [
       "<Figure size 640x480 with 1 Axes>"
      ]
     },
     "metadata": {},
     "output_type": "display_data"
    }
   ],
   "source": [
    "plt.boxplot([[len(cycle) for cycle in flatten_cycles_prime_player],\n",
    "            [len(cycle) for cycle in flatten_cycles_player]]);\n"
   ]
  },
  {
   "cell_type": "code",
   "execution_count": 76,
   "id": "c9888e79",
   "metadata": {},
   "outputs": [],
   "source": [
    "c = Counter([len(cycle) for cycle in flatten_cycles_prime_player])"
   ]
  },
  {
   "cell_type": "code",
   "execution_count": 81,
   "id": "a5a3a287",
   "metadata": {},
   "outputs": [
    {
     "data": {
      "text/plain": [
       "[(4, 907), (6, 617), (8, 470), (10, 359), (12, 274)]"
      ]
     },
     "execution_count": 81,
     "metadata": {},
     "output_type": "execute_result"
    }
   ],
   "source": [
    "c.most_common(5)"
   ]
  },
  {
   "cell_type": "code",
   "execution_count": 82,
   "id": "7bb74f9d",
   "metadata": {},
   "outputs": [],
   "source": [
    "c = Counter([len(cycle) for cycle in flatten_cycles_player])"
   ]
  },
  {
   "cell_type": "code",
   "execution_count": 83,
   "id": "7e9eb320",
   "metadata": {},
   "outputs": [
    {
     "data": {
      "text/plain": [
       "[(4, 15633), (8, 10466), (9, 10177), (7, 9668), (10, 9409)]"
      ]
     },
     "execution_count": 83,
     "metadata": {},
     "output_type": "execute_result"
    }
   ],
   "source": [
    "c.most_common(5)"
   ]
  },
  {
   "cell_type": "markdown",
   "id": "90ba0991",
   "metadata": {},
   "source": [
    "Let's write it as sequence so we can find duplicates and the most common cycles."
   ]
  },
  {
   "cell_type": "code",
   "execution_count": 84,
   "id": "558b6544",
   "metadata": {},
   "outputs": [],
   "source": [
    "sequences_player = []\n",
    "\n",
    "for cycle in flatten_cycles_player:\n",
    "\n",
    "    sequence = \"-\".join([\"\".join(state) for state in cycle])\n",
    "    \n",
    "    sequences_player.append(sequence)"
   ]
  },
  {
   "cell_type": "code",
   "execution_count": 85,
   "id": "7d025679",
   "metadata": {},
   "outputs": [
    {
     "data": {
      "text/plain": [
       "267977"
      ]
     },
     "execution_count": 85,
     "metadata": {},
     "output_type": "execute_result"
    }
   ],
   "source": [
    "len(sequences_player)"
   ]
  },
  {
   "cell_type": "code",
   "execution_count": 86,
   "id": "1c8f6e1e",
   "metadata": {},
   "outputs": [],
   "source": [
    "count = Counter(sequences_player)"
   ]
  },
  {
   "cell_type": "code",
   "execution_count": 87,
   "id": "429b4841",
   "metadata": {
    "scrolled": true
   },
   "outputs": [
    {
     "data": {
      "text/plain": [
       "[('AA-AB-BA-AA', 7903),\n",
       " ('AA-AC-CA-AA', 7724),\n",
       " ('AA-AB-BC-CA-AA', 4272),\n",
       " ('AA-AC-CB-BA-AA', 4172),\n",
       " ('AA-AB-BC-CB-BA-AA', 2298),\n",
       " ('AA-AC-CB-BC-CA-AA', 2288),\n",
       " ('AA-AB-BC-CD-DC-CA-AA', 1282),\n",
       " ('AA-AB-BC-CB-BC-CA-AA', 1248),\n",
       " ('AA-AC-CB-BC-CB-BA-AA', 1201),\n",
       " ('AA-AC-CB-BD-DB-BA-AA', 1180),\n",
       " ('AA-AB-BC-CD-DD-DA-AA', 890),\n",
       " ('AA-AB-BC-CC-CA-AA', 850),\n",
       " ('AA-AC-CB-BB-BA-AA', 839),\n",
       " ('AA-AC-CB-BD-DD-DA-AA', 820),\n",
       " ('AA-AB-BC-CB-BD-DB-BA-AA', 675)]"
      ]
     },
     "execution_count": 87,
     "metadata": {},
     "output_type": "execute_result"
    }
   ],
   "source": [
    "count.most_common(15)"
   ]
  },
  {
   "cell_type": "code",
   "execution_count": 88,
   "id": "e168b59e",
   "metadata": {},
   "outputs": [],
   "source": [
    "sequences_prime_player = []\n",
    "\n",
    "for cycle in flatten_cycles_prime_player:\n",
    "\n",
    "    sequence = \"-\".join([\"\".join(state) for state in cycle])\n",
    "    \n",
    "    sequences_prime_player.append(sequence)"
   ]
  },
  {
   "cell_type": "code",
   "execution_count": 89,
   "id": "1af28118",
   "metadata": {},
   "outputs": [
    {
     "data": {
      "text/plain": [
       "15983"
      ]
     },
     "execution_count": 89,
     "metadata": {},
     "output_type": "execute_result"
    }
   ],
   "source": [
    "len(sequences_prime_player)"
   ]
  },
  {
   "cell_type": "code",
   "execution_count": 90,
   "id": "80b82bdc",
   "metadata": {},
   "outputs": [],
   "source": [
    "count_prime = Counter(sequences_prime_player)"
   ]
  },
  {
   "cell_type": "code",
   "execution_count": 91,
   "id": "024381f4",
   "metadata": {},
   "outputs": [
    {
     "data": {
      "text/plain": [
       "[('AA-AB-BA-AA', 456),\n",
       " ('AA-AC-CA-AA', 451),\n",
       " ('AA-AB-BA-AC-CA-AA', 269),\n",
       " ('AA-AC-CA-AB-BA-AA', 242),\n",
       " ('AA-AB-BA-AC-CA-AB-BA-AA', 148),\n",
       " ('AA-AC-CA-AB-BA-AC-CA-AA', 134),\n",
       " ('AA-AC-CA-AB-BA-AC-CA-AB-BA-AA', 80),\n",
       " ('AA-AB-BA-AC-CA-AB-BA-AC-CA-AA', 74),\n",
       " ('AA-AC-CB-BB-BA-AA', 54),\n",
       " ('AA-AB-BC-CC-CA-AA', 41),\n",
       " ('AA-AB-BA-AC-CA-AB-BA-AC-CA-AB-BA-AA', 37),\n",
       " ('AA-AC-CA-AB-BA-AC-CA-AB-BA-AC-CA-AA', 31),\n",
       " ('AA-AC-CA-AB-BC-CC-CA-AA', 31),\n",
       " ('AA-AC-CB-BB-BA-AC-CA-AA', 29),\n",
       " ('AA-AB-BA-AC-CA-AB-BA-AC-CA-AB-BA-AC-CA-AA', 28)]"
      ]
     },
     "execution_count": 91,
     "metadata": {},
     "output_type": "execute_result"
    }
   ],
   "source": [
    "count_prime.most_common(15)"
   ]
  },
  {
   "cell_type": "markdown",
   "id": "51207e69",
   "metadata": {},
   "source": [
    "# Figure"
   ]
  },
  {
   "cell_type": "code",
   "execution_count": 102,
   "id": "fd422e19",
   "metadata": {},
   "outputs": [
    {
     "data": {
      "text/plain": [
       "['((C, C), (C, C))',\n",
       " '((C, C), (C, D))',\n",
       " '((C, D), (C, C))',\n",
       " '((C, D), (C, D))',\n",
       " '((C, C), (C, C))',\n",
       " '((C, C), (C, D))',\n",
       " '((C, D), (C, C))',\n",
       " '((C, D), (C, D))',\n",
       " '((C, C), (C, C))',\n",
       " '((C, C), (C, D))',\n",
       " '((C, D), (C, C))',\n",
       " '((C, D), (C, D))',\n",
       " '((C, C), (C, C))',\n",
       " '((C, C), (C, D))',\n",
       " '((C, D), (C, C))',\n",
       " '((C, D), (C, D))']"
      ]
     },
     "execution_count": 102,
     "metadata": {},
     "output_type": "execute_result"
    }
   ],
   "source": [
    "['((C, C), (C, C))', '((C, C), (C, D))', '((C, D), (C, C))', '((C, D), (C, D))'] * 4"
   ]
  },
  {
   "cell_type": "code",
   "execution_count": 131,
   "id": "be71d40f",
   "metadata": {},
   "outputs": [
    {
     "data": {
      "image/png": "[encoded data removed]",
      "text/plain": [
       "<Figure size 650x400 with 4 Axes>"
      ]
     },
     "metadata": {},
     "output_type": "display_data"
    }
   ],
   "source": [
    "fig, axes = plt.subplot_mosaic(\"AB;CD\", figsize=(6.5, 4),\n",
    "                               gridspec_kw = {'height_ratios':[1, 1]},\n",
    "                               sharey=True,\n",
    "                               sharex=True)\n",
    "\n",
    "# Markov chain process\n",
    "axes[\"A\"].bar(range(1, 17), ss);\n",
    "\n",
    "axes[\"B\"].bar(range(1, 17), ss2);\n",
    "\n",
    "# Simulations\n",
    "\n",
    "axes[\"C\"].bar(range(1, 17), states_player.values(), color='tab:green');\n",
    "\n",
    "axes[\"D\"].bar(range(1, 17), states_prime_player.values(), color='tab:green');\n",
    "\n",
    "\n",
    "\n",
    "# ticks and stuff\n",
    "\n",
    "axes[\"A\"].set_ylim(0, 1)\n",
    "\n",
    "axes[\"A\"].set_yticks(np.arange(0, 1.1, .5));\n",
    "\n",
    "axes[\"C\"].set_xticks(np.arange(1, 17, 1));\n",
    "\n",
    "axes[\"C\"].set_xticklabels(['$v_{((C, C), (C, C))}$',\n",
    "                           '$v_{((C, C), (C, D))}$',\n",
    "                           '$v_{((C, D), (C, C))}$',\n",
    "                           '$v_{((C, D), (C, D))}$'] * 4, rotation=90, fontsize=9\n",
    "                     );\n",
    "\n",
    "axes[\"C\"].xaxis.set_tick_params(labelbottom=True)\n",
    "\n",
    "    \n",
    "axes['A'].set_title(\"$\\mathbf{p}=(0.99, 0.1, 0.6, 0.3)$\");\n",
    "\n",
    "axes['B'].set_title(r\"$\\mathbf{\\tilde{p}}=(0.99, 0.6, 0.1, 0.3)$\");\n",
    "\n",
    "\n",
    "axes['A'].set_ylabel(\"Markov approach\", fontweight='bold');\n",
    "\n",
    "axes['C'].set_ylabel(\"Simulations\", fontweight='bold');\n"
   ]
  },
  {
   "cell_type": "code",
   "execution_count": null,
   "id": "d10ab8b3",
   "metadata": {},
   "outputs": [],
   "source": []
  },
  {
   "cell_type": "markdown",
   "id": "d7f0ec89",
   "metadata": {},
   "source": [
    "### Transitions"
   ]
  },
  {
   "cell_type": "code",
   "execution_count": 277,
   "id": "d9af8beb",
   "metadata": {},
   "outputs": [],
   "source": [
    "transitions =  {history: [] for history in  itertools.product([C, D], repeat=4)}\n",
    "\n",
    "states_map = {history: (i + 1) for i, history in  enumerate(itertools.product([C, D], repeat=4))}"
   ]
  },
  {
   "cell_type": "code",
   "execution_count": 278,
   "id": "3a68975e",
   "metadata": {},
   "outputs": [
    {
     "data": {
      "text/plain": [
       "(10, 100000)"
      ]
     },
     "execution_count": 278,
     "metadata": {},
     "output_type": "execute_result"
    }
   ],
   "source": [
    "len(results), len(results[0])"
   ]
  },
  {
   "cell_type": "code",
   "execution_count": 279,
   "id": "83b14114",
   "metadata": {},
   "outputs": [],
   "source": [
    "for result in results2:\n",
    "\n",
    "    for i, hist in enumerate(result[:-2]):\n",
    "        val = states_map[result[i + 1] + result[i + 2]]\n",
    "        transitions[hist + result[i + 1]].append(val)"
   ]
  },
  {
   "cell_type": "code",
   "execution_count": 280,
   "id": "1fe9796d",
   "metadata": {},
   "outputs": [],
   "source": [
    "array_transitions = np.zeros((16, 16))\n",
    "\n",
    "for i, (key, vals) in enumerate(transitions.items()):\n",
    "    \n",
    "    for j in range(1, 17):\n",
    "        \n",
    "        array_transitions[i, j -1] = vals.count(j)"
   ]
  },
  {
   "cell_type": "code",
   "execution_count": 281,
   "id": "be005426",
   "metadata": {
    "scrolled": true
   },
   "outputs": [
    {
     "data": {
      "text/plain": [
       "True"
      ]
     },
     "execution_count": 281,
     "metadata": {},
     "output_type": "execute_result"
    }
   ],
   "source": [
    "sum(sum(array_transitions)) == 10 * (10 ** 5 - 2)"
   ]
  },
  {
   "cell_type": "code",
   "execution_count": 282,
   "id": "d9641c76",
   "metadata": {},
   "outputs": [],
   "source": [
    "row_sums = array_transitions.sum(axis=1)\n",
    "\n",
    "transitions_normalised_array = array_transitions / row_sums[:, np.newaxis]"
   ]
  },
  {
   "cell_type": "code",
   "execution_count": 283,
   "id": "f2da08c5",
   "metadata": {},
   "outputs": [],
   "source": [
    "transitions_normalised_array[transitions_normalised_array < 2 * 10 ** -1] = 0"
   ]
  },
  {
   "cell_type": "code",
   "execution_count": 284,
   "id": "ce0f84f4",
   "metadata": {},
   "outputs": [],
   "source": [
    "# np.fill_diagonal(array_transitions, 0)"
   ]
  },
  {
   "cell_type": "code",
   "execution_count": 285,
   "id": "9e08e57a",
   "metadata": {},
   "outputs": [],
   "source": [
    "G = nx.from_numpy_array(transitions_normalised_array,\n",
    "                        create_using=nx.MultiDiGraph())"
   ]
  },
  {
   "cell_type": "code",
   "execution_count": 286,
   "id": "525d77c2",
   "metadata": {},
   "outputs": [],
   "source": [
    "states_map_T =   { 0: \"CC|CC\",\n",
    "  1: \"CC|CD\",\n",
    "  2: \"CC|DC\",\n",
    "  3: \"CC|DD\",\n",
    "  4: \"CD|CC\",\n",
    "  5: \"CD|CD\",\n",
    "  6: \"CD|DC\",\n",
    "  7: \"CD|DD\",\n",
    "  8: \"DC|CC\",\n",
    "  9: \"DC|CD\",\n",
    "  10: \"DC|DC\",\n",
    "  11: \"DC|DD\",\n",
    "  12: \"DD|CC\",\n",
    "  13: \"DD|CD\",\n",
    "  14: \"DD|DC\",\n",
    "  15: \"DD|DD\"}"
   ]
  },
  {
   "cell_type": "code",
   "execution_count": 287,
   "id": "38688c4f",
   "metadata": {},
   "outputs": [],
   "source": [
    "options = {\n",
    "    'arrowstyle': '-|>',\n",
    "    'arrowsize': 12,\n",
    "    'arrows': True\n",
    "}"
   ]
  },
  {
   "cell_type": "code",
   "execution_count": 288,
   "id": "167a41c7",
   "metadata": {},
   "outputs": [],
   "source": [
    "G = nx.relabel_nodes(G, states_map_T)"
   ]
  },
  {
   "cell_type": "code",
   "execution_count": 289,
   "id": "a1b4102a",
   "metadata": {},
   "outputs": [
    {
     "data": {
      "image/png": "[encoded data removed]",
      "text/plain": [
       "<Figure size 640x480 with 1 Axes>"
      ]
     },
     "metadata": {},
     "output_type": "display_data"
    }
   ],
   "source": [
    "pos = nx.circular_layout(G)\n",
    "\n",
    "nx.draw(G, pos=pos, node_size=1500, node_color='white', edgecolors='black', **options)\n",
    "\n",
    "nx.draw_networkx_labels(G, pos, font_size=10, font_family=\"sans-serif\");\n",
    "\n",
    "for edge in G.edges(data='weight'):\n",
    "    nx.draw_networkx_edges(G, pos, edgelist=[edge], width=edge[2] * 3)"
   ]
  },
  {
   "cell_type": "code",
   "execution_count": 276,
   "id": "bb82343b",
   "metadata": {},
   "outputs": [
    {
     "data": {
      "image/png": "[encoded data removed]",
      "text/plain": [
       "<Figure size 640x480 with 1 Axes>"
      ]
     },
     "metadata": {},
     "output_type": "display_data"
    }
   ],
   "source": [
    "pos = nx.circular_layout(G)\n",
    "\n",
    "nx.draw(G, pos=pos, node_size=1500, node_color='white', edgecolors='black', **options)\n",
    "\n",
    "nx.draw_networkx_labels(G, pos, font_size=10, font_family=\"sans-serif\");\n",
    "\n",
    "for edge in G.edges(data='weight'):\n",
    "    nx.draw_networkx_edges(G, pos, edgelist=[edge], width=edge[2] * 3)"
   ]
  },
  {
   "cell_type": "markdown",
   "id": "975cbc96",
   "metadata": {},
   "source": [
    "# $p$ prime"
   ]
  },
  {
   "cell_type": "code",
   "execution_count": 67,
   "id": "1190f0c2",
   "metadata": {},
   "outputs": [],
   "source": [
    "transitions =  {history: [] for history in  itertools.product([C, D], repeat=4)}\n",
    "\n",
    "states_map = {history: (i + 1) for i, history in  enumerate(itertools.product([C, D], repeat=4))}"
   ]
  },
  {
   "cell_type": "code",
   "execution_count": 68,
   "id": "293fccf1",
   "metadata": {},
   "outputs": [],
   "source": [
    "for result in results2:\n",
    "\n",
    "    for i, hist in enumerate(result[:-2]):\n",
    "        val = states_map[result[i + 1] + result[i + 2]]\n",
    "        transitions[hist + result[i + 1]].append(val)"
   ]
  },
  {
   "cell_type": "code",
   "execution_count": 69,
   "id": "3d97dd9a",
   "metadata": {},
   "outputs": [],
   "source": [
    "array_transitions2 = np.zeros((16, 16))\n",
    "\n",
    "for i, (key, vals) in enumerate(transitions.items()):\n",
    "    \n",
    "    for j in range(1, 17):\n",
    "        \n",
    "        array_transitions2[i, j -1] = vals.count(j)"
   ]
  },
  {
   "cell_type": "code",
   "execution_count": null,
   "id": "cdb6e45d",
   "metadata": {},
   "outputs": [],
   "source": [
    "# np.fill_diagonal(array_transitions2, 0)"
   ]
  },
  {
   "cell_type": "code",
   "execution_count": null,
   "id": "49ddd3a3",
   "metadata": {},
   "outputs": [],
   "source": [
    "array_transitions2 = array_transitions2 / sum(sum(array_transitions2))"
   ]
  },
  {
   "cell_type": "code",
   "execution_count": 70,
   "id": "83556505",
   "metadata": {},
   "outputs": [],
   "source": [
    "G = nx.from_numpy_array(array_transitions2, create_using=nx.MultiDiGraph())"
   ]
  },
  {
   "cell_type": "code",
   "execution_count": null,
   "id": "42ba7645",
   "metadata": {},
   "outputs": [],
   "source": [
    "# G.remove_nodes_from(list(nx.isolates(G)))"
   ]
  },
  {
   "cell_type": "code",
   "execution_count": null,
   "id": "8511a15f",
   "metadata": {},
   "outputs": [],
   "source": []
  },
  {
   "cell_type": "code",
   "execution_count": 75,
   "id": "eba5df0b",
   "metadata": {},
   "outputs": [
    {
     "data": {
      "text/plain": [
       "13.910114305507447"
      ]
     },
     "execution_count": 75,
     "metadata": {},
     "output_type": "execute_result"
    }
   ],
   "source": [
    "np.mean([len(path) for path in list(nx.all_simple_paths(G, \"CC|CC\", \"CD|CC\"))])"
   ]
  },
  {
   "cell_type": "code",
   "execution_count": 76,
   "id": "a066303b",
   "metadata": {},
   "outputs": [
    {
     "data": {
      "text/plain": [
       "13.910114305507447"
      ]
     },
     "execution_count": 76,
     "metadata": {},
     "output_type": "execute_result"
    }
   ],
   "source": [
    "np.mean([len(path) for path in list(nx.all_simple_paths(G, \"CC|CC\", \"DC|CC\"))])"
   ]
  },
  {
   "cell_type": "code",
   "execution_count": 77,
   "id": "904570e8",
   "metadata": {
    "scrolled": true
   },
   "outputs": [
    {
     "data": {
      "text/plain": [
       "13.910114305507447"
      ]
     },
     "execution_count": 77,
     "metadata": {},
     "output_type": "execute_result"
    }
   ],
   "source": [
    "np.mean([len(path) for path in list(nx.all_simple_paths(G, \"CC|CC\", \"DD|CC\"))])"
   ]
  },
  {
   "cell_type": "code",
   "execution_count": 94,
   "id": "c87d9fac",
   "metadata": {},
   "outputs": [],
   "source": [
    "cycles_we_want = []\n",
    "\n",
    "for cycle in nx.simple_cycles(G):\n",
    "    if cycle[0] == 'CC|CC':\n",
    "        cycles_we_want.append(cycle)\n",
    "        "
   ]
  },
  {
   "cell_type": "code",
   "execution_count": 95,
   "id": "4bbb49e3",
   "metadata": {},
   "outputs": [
    {
     "data": {
      "text/plain": [
       "[['CC|CC']]"
      ]
     },
     "execution_count": 95,
     "metadata": {},
     "output_type": "execute_result"
    }
   ],
   "source": [
    "cycles_we_want"
   ]
  },
  {
   "cell_type": "code",
   "execution_count": 86,
   "id": "f211102f",
   "metadata": {},
   "outputs": [
    {
     "data": {
      "text/plain": [
       "NodeView((0, 1, 2, 3, 4, 5, 6, 7, 8, 9, 10, 11, 12, 13, 14, 15))"
      ]
     },
     "execution_count": 86,
     "metadata": {},
     "output_type": "execute_result"
    }
   ],
   "source": [
    "G.nodes()"
   ]
  },
  {
   "cell_type": "code",
   "execution_count": 73,
   "id": "bc960b38",
   "metadata": {},
   "outputs": [],
   "source": [
    "states_map_T =   { 0: \"CC|CC\",\n",
    "  1: \"CC|CD\",\n",
    "  2: \"CC|DC\",\n",
    "  3: \"CC|DD\",\n",
    "  4: \"CD|CC\",\n",
    "  5: \"CD|CD\",\n",
    "  6: \"CD|DC\",\n",
    "  7: \"CD|DD\",\n",
    "  8: \"DC|CC\",\n",
    "  9: \"DC|CD\",\n",
    "  10: \"DC|DC\",\n",
    "  11: \"DC|DD\",\n",
    "  12: \"DD|CC\",\n",
    "  13: \"DD|CD\",\n",
    "  14: \"DD|DC\",\n",
    "  15: \"DD|DD\"}"
   ]
  },
  {
   "cell_type": "code",
   "execution_count": 74,
   "id": "bca03c77",
   "metadata": {},
   "outputs": [],
   "source": [
    "G = nx.relabel_nodes(G, states_map_T)"
   ]
  },
  {
   "cell_type": "code",
   "execution_count": 89,
   "id": "76900bce",
   "metadata": {},
   "outputs": [],
   "source": [
    "options = {\n",
    "    'arrowstyle': '-|>',\n",
    "    'arrowsize': 12,\n",
    "    'arrows': True\n",
    "}"
   ]
  },
  {
   "cell_type": "code",
   "execution_count": null,
   "id": "72034c91",
   "metadata": {},
   "outputs": [],
   "source": [
    "pos = nx.circular_layout(G)\n",
    "\n",
    "nx.draw(G, pos=pos, node_size=1500, node_color='white', edgecolors='black', **options)\n",
    "\n",
    "nx.draw_networkx_labels(G, pos, font_size=10, font_family=\"sans-serif\");\n",
    "\n",
    "for edge in G.edges(data='weight'):\n",
    "#     print(edge)\n",
    "    nx.draw_networkx_edges(G, pos, edgelist=[edge], width=edge[2] * 60)\n",
    "\n",
    "# edge_labels = nx.get_edge_attributes(G, \"weight\")\n",
    "\n",
    "# nx.draw_networkx_edge_labels(G, pos, edge_labels);"
   ]
  },
  {
   "cell_type": "code",
   "execution_count": null,
   "id": "6574a613",
   "metadata": {},
   "outputs": [],
   "source": [
    "cycles_we_want = []\n",
    "\n",
    "for cycle in nx.simple_cycles(G):\n",
    "    if cycle[0] == 'CC|CC':\n",
    "        if len(cycle) < 5:\n",
    "            cycles_we_want.append(cycle)\n",
    "        "
   ]
  },
  {
   "cell_type": "code",
   "execution_count": null,
   "id": "8bc84fe3",
   "metadata": {},
   "outputs": [],
   "source": [
    "cycles_we_want"
   ]
  },
  {
   "cell_type": "markdown",
   "id": "c701b294",
   "metadata": {},
   "source": [
    "# Trying for the figure"
   ]
  },
  {
   "cell_type": "code",
   "execution_count": 190,
   "id": "a3ac0e7b",
   "metadata": {},
   "outputs": [],
   "source": [
    "transitions =  {history: [] for history in  itertools.product([C, D], repeat=4)}\n",
    "\n",
    "states_map = {history: (i + 1) for i, history in  enumerate(itertools.product([C, D], repeat=4))}"
   ]
  },
  {
   "cell_type": "code",
   "execution_count": 191,
   "id": "4e1481b7",
   "metadata": {},
   "outputs": [],
   "source": [
    "for result in results:\n",
    "\n",
    "    for i, hist in enumerate(result[:-2]):\n",
    "        val = states_map[result[i + 1] + result[i + 2]]\n",
    "        transitions[hist + result[i + 1]].append(val)"
   ]
  },
  {
   "cell_type": "code",
   "execution_count": 192,
   "id": "8e1a0fab",
   "metadata": {},
   "outputs": [],
   "source": [
    "array_transitions = np.zeros((16, 16))\n",
    "\n",
    "for i, (key, vals) in enumerate(transitions.items()):\n",
    "    \n",
    "    for j in range(1, 17):\n",
    "        \n",
    "        array_transitions[i, j -1] = vals.count(j)"
   ]
  },
  {
   "cell_type": "code",
   "execution_count": 193,
   "id": "1fcdfdbb",
   "metadata": {
    "scrolled": true
   },
   "outputs": [
    {
     "data": {
      "text/plain": [
       "True"
      ]
     },
     "execution_count": 193,
     "metadata": {},
     "output_type": "execute_result"
    }
   ],
   "source": [
    "sum(sum(array_transitions)) == 10 * (10 ** 5 - 2)"
   ]
  },
  {
   "cell_type": "code",
   "execution_count": 194,
   "id": "152bb473",
   "metadata": {},
   "outputs": [],
   "source": [
    "row_sums = array_transitions.sum(axis=1)\n",
    "\n",
    "transitions_normalised_array = array_transitions / row_sums[:, np.newaxis]"
   ]
  },
  {
   "cell_type": "code",
   "execution_count": 195,
   "id": "ea82b969",
   "metadata": {},
   "outputs": [],
   "source": [
    "transitions =  {history: [] for history in  itertools.product([C, D], repeat=4)}\n",
    "\n",
    "states_map = {history: (i + 1) for i, history in  enumerate(itertools.product([C, D], repeat=4))}"
   ]
  },
  {
   "cell_type": "code",
   "execution_count": 27,
   "id": "31d847a4",
   "metadata": {},
   "outputs": [],
   "source": [
    "for result in results2:\n",
    "\n",
    "    for i, hist in enumerate(result[:-2]):\n",
    "        val = states_map[result[i + 1] + result[i + 2]]\n",
    "        transitions[hist + result[i + 1]].append(val)"
   ]
  },
  {
   "cell_type": "code",
   "execution_count": 28,
   "id": "94244f67",
   "metadata": {},
   "outputs": [],
   "source": [
    "array_transitions2 = np.zeros((16, 16))\n",
    "\n",
    "for i, (key, vals) in enumerate(transitions.items()):\n",
    "    \n",
    "    for j in range(1, 17):\n",
    "        \n",
    "        array_transitions2[i, j -1] = vals.count(j)"
   ]
  },
  {
   "cell_type": "code",
   "execution_count": 29,
   "id": "9aae28e1",
   "metadata": {},
   "outputs": [],
   "source": [
    "row_sums = array_transitions2.sum(axis=1)\n",
    "\n",
    "transitions_normalised_array2 = array_transitions2 / row_sums[:, np.newaxis]"
   ]
  },
  {
   "cell_type": "code",
   "execution_count": 34,
   "id": "6fa4702b",
   "metadata": {},
   "outputs": [
    {
     "data": {
      "text/plain": [
       "(0.16374374757879867, 0.8066430029197832)"
      ]
     },
     "execution_count": 34,
     "metadata": {},
     "output_type": "execute_result"
    }
   ],
   "source": [
    "i = 12\n",
    "\n",
    "sum(transitions_normalised_array[:, i]), sum(transitions_normalised_array2[:, i])"
   ]
  },
  {
   "cell_type": "code",
   "execution_count": null,
   "id": "63dac3f8",
   "metadata": {},
   "outputs": [],
   "source": [
    "ss[4], ss2[4]"
   ]
  },
  {
   "cell_type": "code",
   "execution_count": null,
   "id": "85353a25",
   "metadata": {},
   "outputs": [],
   "source": [
    "(1 - 0.99) * (1 - 0.99)"
   ]
  },
  {
   "cell_type": "code",
   "execution_count": null,
   "id": "9a2dd5dc",
   "metadata": {},
   "outputs": [],
   "source": [
    "transitions_normalised_array[:, 4]"
   ]
  },
  {
   "cell_type": "code",
   "execution_count": null,
   "id": "686ee6c6",
   "metadata": {},
   "outputs": [],
   "source": [
    "ss2"
   ]
  },
  {
   "cell_type": "code",
   "execution_count": null,
   "id": "3acd264c",
   "metadata": {},
   "outputs": [],
   "source": [
    "transitions_normalised_array[:, 1]"
   ]
  },
  {
   "cell_type": "code",
   "execution_count": null,
   "id": "99538b0d",
   "metadata": {},
   "outputs": [],
   "source": [
    "transitions_normalised_array2[0, :].round(4)"
   ]
  },
  {
   "cell_type": "code",
   "execution_count": null,
   "id": "d5308c5d",
   "metadata": {},
   "outputs": [],
   "source": [
    "transitions_normalised_array[1, :].round(4)"
   ]
  },
  {
   "cell_type": "code",
   "execution_count": null,
   "id": "53e14916",
   "metadata": {},
   "outputs": [],
   "source": [
    "transitions_normalised_array2[1, :].round(4)"
   ]
  },
  {
   "cell_type": "markdown",
   "id": "6f5e05f7",
   "metadata": {},
   "source": [
    "## Get the paths myself"
   ]
  },
  {
   "cell_type": "code",
   "execution_count": 145,
   "id": "9fe6652e",
   "metadata": {},
   "outputs": [],
   "source": [
    "def get_cycles(result):\n",
    "\n",
    "    overall_cycles = []\n",
    "\n",
    "    source = [(C, C), (C, C)]\n",
    "\n",
    "    current_cycle = []\n",
    "\n",
    "    cycle_happening = False\n",
    "\n",
    "    for i, turn in enumerate(result[:-2]):\n",
    "\n",
    "        state = [turn, result[i + 1]]\n",
    "\n",
    "        if state == source and cycle_happening == False:\n",
    "            cycle_happening = True\n",
    "\n",
    "            current_cycle = [state]\n",
    "\n",
    "        elif state == source and len(current_cycle) == 1:\n",
    "            assert cycle_happening == True\n",
    "            current_cycle = [state]\n",
    "\n",
    "\n",
    "        elif state == source and len(current_cycle) > 1:\n",
    "            assert cycle_happening == True\n",
    "\n",
    "            current_cycle.append(state)\n",
    "            overall_cycles.append(current_cycle)\n",
    "\n",
    "            current_cycle = []\n",
    "            cycle_happening = False\n",
    "\n",
    "\n",
    "        elif state != source and cycle_happening == True:\n",
    "            assert cycle_happening == True\n",
    "            current_cycle.append(state)\n",
    "        else:\n",
    "            pass\n",
    "    return overall_cycles"
   ]
  },
  {
   "cell_type": "code",
   "execution_count": 168,
   "id": "8ba7f80b",
   "metadata": {},
   "outputs": [],
   "source": [
    "cycles1 = [get_cycles(result) for result in results]"
   ]
  },
  {
   "cell_type": "code",
   "execution_count": 169,
   "id": "0b2d94f7",
   "metadata": {},
   "outputs": [
    {
     "data": {
      "text/plain": [
       "30"
      ]
     },
     "execution_count": 169,
     "metadata": {},
     "output_type": "execute_result"
    }
   ],
   "source": [
    "len(cycles2[0])"
   ]
  },
  {
   "cell_type": "code",
   "execution_count": 170,
   "id": "59fb7841",
   "metadata": {},
   "outputs": [],
   "source": [
    "cycles2 = [get_cycles(result) for result in results2]"
   ]
  },
  {
   "cell_type": "code",
   "execution_count": 171,
   "id": "c6ef1b7b",
   "metadata": {},
   "outputs": [
    {
     "data": {
      "text/plain": [
       "[1309, 1360, 1364, 1360, 1289, 1322, 1298, 1317, 1343, 1403]"
      ]
     },
     "execution_count": 171,
     "metadata": {},
     "output_type": "execute_result"
    }
   ],
   "source": [
    "[len(cycle) for cycle in cycles1]"
   ]
  },
  {
   "cell_type": "code",
   "execution_count": 172,
   "id": "99b3bcb2",
   "metadata": {},
   "outputs": [
    {
     "data": {
      "text/plain": [
       "[769, 776, 757, 798, 805, 822, 802, 779, 819, 821]"
      ]
     },
     "execution_count": 172,
     "metadata": {},
     "output_type": "execute_result"
    }
   ],
   "source": [
    "[len(cycle) for cycle in cycles2]"
   ]
  },
  {
   "cell_type": "code",
   "execution_count": 173,
   "id": "49caea0b",
   "metadata": {},
   "outputs": [],
   "source": [
    "cycles1 = [x for xs in cycles1 for x in xs]"
   ]
  },
  {
   "cell_type": "code",
   "execution_count": 174,
   "id": "8cf4094c",
   "metadata": {},
   "outputs": [],
   "source": [
    "cycles2 = [x for xs in cycles2 for x in xs]"
   ]
  },
  {
   "cell_type": "code",
   "execution_count": 179,
   "id": "e10a9aa8",
   "metadata": {},
   "outputs": [
    {
     "data": {
      "image/png": "[encoded data removed]",
      "text/plain": [
       "<Figure size 640x480 with 1 Axes>"
      ]
     },
     "metadata": {},
     "output_type": "display_data"
    }
   ],
   "source": [
    "plt.hist([len(c) for c in cycles1]);"
   ]
  },
  {
   "cell_type": "code",
   "execution_count": 180,
   "id": "b39b3df3",
   "metadata": {},
   "outputs": [
    {
     "data": {
      "text/plain": [
       "(array([5.264e+03, 1.661e+03, 6.590e+02, 2.250e+02, 9.400e+01, 2.300e+01,\n",
       "        1.500e+01, 4.000e+00, 0.000e+00, 3.000e+00]),\n",
       " array([  4. ,  80.5, 157. , 233.5, 310. , 386.5, 463. , 539.5, 616. ,\n",
       "        692.5, 769. ]),\n",
       " <BarContainer object of 10 artists>)"
      ]
     },
     "execution_count": 180,
     "metadata": {},
     "output_type": "execute_result"
    },
    {
     "data": {
      "image/png": "[encoded data removed]",
      "text/plain": [
       "<Figure size 640x480 with 1 Axes>"
      ]
     },
     "metadata": {},
     "output_type": "display_data"
    }
   ],
   "source": [
    "plt.hist([len(c) for c in cycles2])"
   ]
  },
  {
   "cell_type": "code",
   "execution_count": 189,
   "id": "ac39001f",
   "metadata": {},
   "outputs": [
    {
     "data": {
      "text/plain": [
       "[[(C, C), (C, C)],\n",
       " [(C, C), (D, C)],\n",
       " [(D, C), (C, D)],\n",
       " [(C, D), (C, C)],\n",
       " [(C, C), (C, C)]]"
      ]
     },
     "execution_count": 189,
     "metadata": {},
     "output_type": "execute_result"
    }
   ],
   "source": [
    "cycles1[0]"
   ]
  },
  {
   "cell_type": "code",
   "execution_count": null,
   "id": "801d609d",
   "metadata": {},
   "outputs": [],
   "source": []
  }
 ],
 "metadata": {
  "kernelspec": {
   "display_name": "Python 3",
   "language": "python",
   "name": "python3"
  },
  "language_info": {
   "codemirror_mode": {
    "name": "ipython",
    "version": 3
   },
   "file_extension": ".py",
   "mimetype": "text/x-python",
   "name": "python",
   "nbconvert_exporter": "python",
   "pygments_lexer": "ipython3",
   "version": "3.11.3"
  }
 },
 "nbformat": 4,
 "nbformat_minor": 5
}
