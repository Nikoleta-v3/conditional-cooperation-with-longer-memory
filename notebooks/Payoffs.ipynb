{
 "cells": [
  {
   "cell_type": "code",
   "execution_count": 1,
   "id": "8355aa3d",
   "metadata": {},
   "outputs": [],
   "source": [
    "import numpy as np\n",
    "\n",
    "import repeated_play\n",
    "\n",
    "import axelrod as axl"
   ]
  },
  {
   "cell_type": "code",
   "execution_count": 2,
   "id": "28267992",
   "metadata": {},
   "outputs": [],
   "source": [
    "import itertools\n",
    "\n",
    "from axelrod.action import Action\n",
    "\n",
    "C, D = Action.C, Action.D"
   ]
  },
  {
   "cell_type": "code",
   "execution_count": 3,
   "id": "d82c825c",
   "metadata": {},
   "outputs": [],
   "source": [
    "from tqdm.notebook import tqdm"
   ]
  },
  {
   "cell_type": "code",
   "execution_count": 4,
   "id": "c6f159c2",
   "metadata": {},
   "outputs": [],
   "source": [
    "import matplotlib.pyplot as plt"
   ]
  },
  {
   "cell_type": "code",
   "execution_count": 5,
   "id": "2997cbe6",
   "metadata": {},
   "outputs": [],
   "source": [
    "import networkx as nx"
   ]
  },
  {
   "cell_type": "code",
   "execution_count": 6,
   "id": "dac064c9",
   "metadata": {},
   "outputs": [],
   "source": [
    "from collections import Counter"
   ]
  },
  {
   "cell_type": "code",
   "execution_count": 7,
   "id": "1a145163",
   "metadata": {},
   "outputs": [],
   "source": [
    "from scipy import stats"
   ]
  },
  {
   "cell_type": "code",
   "execution_count": 8,
   "id": "98078b6b",
   "metadata": {},
   "outputs": [],
   "source": [
    "def match_payoffs(player, coplayer, Sx, Sy, memory=\"one\"):\n",
    "    M = repeated_play.transition_matrix_repeated_game(\n",
    "        player, coplayer, memory=memory\n",
    "    )\n",
    "\n",
    "    ss = repeated_play.stationary_distribution(M)[0]\n",
    "\n",
    "    return ss, ss @ Sx, ss @ Sy"
   ]
  },
  {
   "cell_type": "code",
   "execution_count": 9,
   "id": "f6bc6efb",
   "metadata": {},
   "outputs": [],
   "source": [
    "def reactive_two_t_memory_two(strategy):\n",
    "    return (strategy[0], strategy[1], strategy[0], strategy[1],\n",
    "            strategy[2], strategy[3], strategy[2], strategy[3],\n",
    "            strategy[0], strategy[1], strategy[0], strategy[1],\n",
    "            strategy[2], strategy[3], strategy[2], strategy[3]\n",
    "           )"
   ]
  },
  {
   "cell_type": "code",
   "execution_count": 10,
   "id": "591a4569",
   "metadata": {},
   "outputs": [],
   "source": [
    "player = [0.99, 0.1, 0.6, 0.3]\n",
    "\n",
    "prime_player = [0.99, 0.6, 0.1, 0.3]"
   ]
  },
  {
   "cell_type": "code",
   "execution_count": 11,
   "id": "68f3df1d",
   "metadata": {},
   "outputs": [],
   "source": [
    "player_mem2 = reactive_two_t_memory_two(player)"
   ]
  },
  {
   "cell_type": "code",
   "execution_count": 12,
   "id": "a209f974",
   "metadata": {},
   "outputs": [],
   "source": [
    "prime_player_mem2 = reactive_two_t_memory_two(prime_player)"
   ]
  },
  {
   "cell_type": "code",
   "execution_count": 13,
   "id": "01962713",
   "metadata": {},
   "outputs": [],
   "source": [
    "b, c = 1, 1/2\n",
    "\n",
    "Sx = np.array([b - c, -c, b, 0] * 4)\n",
    "\n",
    "Sy = np.array([b - c, b, -c, 0] * 4)"
   ]
  },
  {
   "cell_type": "code",
   "execution_count": 14,
   "id": "e18c1d6a",
   "metadata": {},
   "outputs": [],
   "source": [
    "ss, payoff, _ = match_payoffs(player_mem2, player_mem2, Sx, Sy, memory=\"two\")"
   ]
  },
  {
   "cell_type": "code",
   "execution_count": 15,
   "id": "21b0ab03",
   "metadata": {},
   "outputs": [],
   "source": [
    "ss2, payoff2, _ = match_payoffs(prime_player_mem2, prime_player_mem2, Sx, Sy, memory=\"two\")"
   ]
  },
  {
   "cell_type": "markdown",
   "id": "e5394464",
   "metadata": {},
   "source": [
    "# Simulations"
   ]
  },
  {
   "cell_type": "code",
   "execution_count": 16,
   "id": "52f3db4d",
   "metadata": {},
   "outputs": [],
   "source": [
    "class Mem2Transformed(axl.MemoryTwoPlayer):\n",
    "    \n",
    "    \n",
    "    def __init__(self, sixteen_vector) -> None:\n",
    "        super().__init__(sixteen_vector)\n",
    "        \n",
    "    def strategy(self, opponent):\n",
    "        \"\"\"Actual strategy definition that determines player's action.\"\"\"\n",
    "        turn = len(self.history)\n",
    "        if turn <= 1:\n",
    "            return self._random.random_choice(0.5)\n",
    "\n",
    "        p = self._sixteen_vector[\n",
    "            ((self.history[-2], opponent.history[-2]), (self.history[-1], opponent.history[-1]))\n",
    "        ]\n",
    "\n",
    "        try:\n",
    "            return self._random.random_choice(p)\n",
    "        except AttributeError:\n",
    "            return C if p == 1 else D"
   ]
  },
  {
   "cell_type": "code",
   "execution_count": 17,
   "id": "0275da55",
   "metadata": {},
   "outputs": [],
   "source": [
    "donation = axl.game.Game(r=b-c, s=-c, t=b, p=0)"
   ]
  },
  {
   "cell_type": "markdown",
   "id": "4db02890",
   "metadata": {},
   "source": [
    "### Player"
   ]
  },
  {
   "cell_type": "code",
   "execution_count": 18,
   "id": "34d114af",
   "metadata": {},
   "outputs": [],
   "source": [
    "reps = 20"
   ]
  },
  {
   "cell_type": "code",
   "execution_count": 19,
   "id": "4d135f4e",
   "metadata": {},
   "outputs": [
    {
     "data": {
      "application/vnd.jupyter.widget-view+json": {
       "model_id": "3edc11e98c9f4d74be5f7fd6521af664",
       "version_major": 2,
       "version_minor": 0
      },
      "text/plain": [
       "  0%|          | 0/20 [00:00<?, ?it/s]"
      ]
     },
     "metadata": {},
     "output_type": "display_data"
    }
   ],
   "source": [
    "scores, results_player = [], []\n",
    "\n",
    "for _ in tqdm(range(reps)):\n",
    "    \n",
    "    p1 = Mem2Transformed(player_mem2)\n",
    "    \n",
    "    p2 = Mem2Transformed(player_mem2)\n",
    "    \n",
    "    match = axl.Match([p1, p2], turns=10**6, game=donation)\n",
    "    \n",
    "    _ = match.play()\n",
    "    \n",
    "    score = match.final_score_per_turn()[0]\n",
    "    \n",
    "    scores.append(score)\n",
    "    \n",
    "    results_player.append(match.result)"
   ]
  },
  {
   "cell_type": "code",
   "execution_count": 20,
   "id": "fa246572",
   "metadata": {},
   "outputs": [],
   "source": [
    "results_flatten = [x for xs in results_player for x in xs]\n",
    "\n",
    "states_player = {history: 0 for history in  itertools.product([C, D], repeat=4)}\n",
    "\n",
    "for i, hist in enumerate(results_flatten[:-1]):\n",
    "    states_player[hist + results_flatten[i + 1]] += 1 / (10 ** 6 * reps)"
   ]
  },
  {
   "cell_type": "code",
   "execution_count": 21,
   "id": "3164a028",
   "metadata": {},
   "outputs": [
    {
     "data": {
      "application/vnd.jupyter.widget-view+json": {
       "model_id": "b1238942319f465c9a9335c7a8b95398",
       "version_major": 2,
       "version_minor": 0
      },
      "text/plain": [
       "  0%|          | 0/20 [00:00<?, ?it/s]"
      ]
     },
     "metadata": {},
     "output_type": "display_data"
    }
   ],
   "source": [
    "scores2, results_prime_player = [], []\n",
    "\n",
    "for _ in tqdm(range(reps)):\n",
    "    \n",
    "    p1 = Mem2Transformed(prime_player_mem2)\n",
    "    \n",
    "    p2 = Mem2Transformed(prime_player_mem2)\n",
    "    \n",
    "    match = axl.Match([p1, p2], turns=10**6, game=donation)\n",
    "    \n",
    "    _ = match.play()\n",
    "    \n",
    "    score = match.final_score_per_turn()[0]\n",
    "    \n",
    "    scores2.append(score)\n",
    "    \n",
    "    results_prime_player.append(match.result)"
   ]
  },
  {
   "cell_type": "code",
   "execution_count": 22,
   "id": "667e88a5",
   "metadata": {},
   "outputs": [],
   "source": [
    "results_flatten2 = [x for xs in results_prime_player for x in xs]\n",
    "\n",
    "states_prime_player = {history: 0 for history in  itertools.product([C, D], repeat=4)}\n",
    "\n",
    "for i, hist in enumerate(results_flatten2[:-1]):\n",
    "    states_prime_player[hist + results_flatten2[i + 1]] += 1 / (10 ** 6 * reps)"
   ]
  },
  {
   "cell_type": "code",
   "execution_count": 44,
   "id": "5cfa5e5f",
   "metadata": {},
   "outputs": [
    {
     "data": {
      "image/png": "[encoded data removed]",
      "text/plain": [
       "<Figure size 1250x400 with 5 Axes>"
      ]
     },
     "metadata": {},
     "output_type": "display_data"
    }
   ],
   "source": [
    "fig, axes = plt.subplot_mosaic(\"ABE;CDE\", figsize=(12.5, 4),\n",
    "                               gridspec_kw = {'height_ratios':[1, 1], 'width_ratios': [1.5, 1.5, 1]})\n",
    "\n",
    "# Markov chain process\n",
    "axes[\"A\"].bar(range(1, 17), ss, color='tab:green');\n",
    "\n",
    "axes[\"B\"].bar(range(1, 17), ss2, color='tab:red');\n",
    "\n",
    "# Simulations\n",
    "\n",
    "axes[\"C\"].bar(range(1, 17), states_player.values(), color='forestgreen');\n",
    "\n",
    "axes[\"D\"].bar(range(1, 17), states_prime_player.values(), color='brown');\n",
    "\n",
    "\n",
    "\n",
    "# ticks and stuff\n",
    "\n",
    "for letter in ['A', \"B\", \"C\", \"D\"]:\n",
    "\n",
    "    axes[letter].set_ylim(0, 1)\n",
    "\n",
    "    axes[letter].set_yticks(np.arange(0, 1.1, .5));\n",
    "\n",
    "    axes[letter].set_xticks(np.arange(1, 17, 1));\n",
    "\n",
    "for letter in ['C', 'D']:\n",
    "\n",
    "    axes[letter].set_xticklabels(['$v_{((C, C), (C, C))}$',\n",
    "                               '$v_{((C, C), (C, D))}$',\n",
    "                               '$v_{((C, D), (C, C))}$',\n",
    "                               '$v_{((C, D), (C, D))}$',\n",
    "                               '$v_{((C, C), (D, C))}$',\n",
    "                               '$v_{((C, C), (D, D))}$',\n",
    "                               '$v_{((C, D), (D, C))}$',\n",
    "                               '$v_{((C, D), (D, D))}$',\n",
    "                               '$v_{((D, C), (C, C))}$',\n",
    "                               '$v_{((D, C), (C, D))}$',\n",
    "                               '$v_{((D, D), (C, C))}$',\n",
    "                               '$v_{((D, D), (C, D))}$',\n",
    "                               '$v_{((D, C), (D, C))}$',\n",
    "                               '$v_{((D, C), (D, D))}$',\n",
    "                               '$v_{((D, D), (D, C))}$',\n",
    "                               '$v_{((D, D), (D, D))}$'], rotation=90, fontsize=9\n",
    "                         );\n",
    "\n",
    "    axes[letter].xaxis.set_tick_params(labelbottom=True)\n",
    "    \n",
    "    \n",
    "for letter in ['A', 'B']:\n",
    "\n",
    "    axes[letter].set_xticklabels(['' for _ in range(16)],);\n",
    "\n",
    "    \n",
    "axes['A'].set_title(\"$\\mathbf{p}=(0.99, 0.1, 0.6, 0.3)$\");\n",
    "\n",
    "axes['B'].set_title(r\"$\\mathbf{p'}=(0.99, 0.6, 0.1, 0.3)$\");\n",
    "\n",
    "\n",
    "axes['A'].set_ylabel(\"Markov approach\", fontweight='bold');\n",
    "\n",
    "axes['C'].set_ylabel(\"Simulations\", fontweight='bold');\n",
    "\n",
    "\n",
    "axes[\"E\"].bar([0, 1],\n",
    "             [np.mean([len(cycle) - 1 for cycle in flatten_cycles_player]),\n",
    "              np.mean([len(cycle) - 1 for cycle in flatten_cycles_prime_player])],\n",
    "              color=['tab:green', 'tab:red']);\n",
    "\n",
    "axes[\"E\"].set_xticks([0, 1], [\"$\\mathbf{p}$\", r\"$\\mathbf{p'}$\"]);\n",
    "\n",
    "axes[\"E\"].set_title(\"Av. number of steps to \\n return to mutual cooperation\");\n",
    "\n",
    "\n",
    "axes[\"A\"].text(-3, 1.1, \"A\", fontsize=\"22\");\n",
    "axes[\"B\"].text(-3, 1.1, \"B\", fontsize=\"22\");\n",
    "axes[\"E\"].text(-.95, 80, \"C\", fontsize=\"22\");\n",
    "\n",
    "fig.savefig(\"../figures/siFigReactiveTwoPayoffs.pdf\", bbox_inches=\"tight\")"
   ]
  },
  {
   "cell_type": "markdown",
   "id": "6bc51189",
   "metadata": {},
   "source": [
    "# Cycles"
   ]
  },
  {
   "cell_type": "markdown",
   "id": "ac51adb1",
   "metadata": {},
   "source": [
    "Let's transform the histories to letters. More specifically,\n",
    "\n",
    "- (C, C) -> A\n",
    "- (C, D) -> B\n",
    "- (D, C) -> C\n",
    "- (D, D) -> D"
   ]
  },
  {
   "cell_type": "code",
   "execution_count": 24,
   "id": "7e3d92db",
   "metadata": {},
   "outputs": [],
   "source": [
    "states_to_letters = {(C, C): \"A\", (C, D): \"B\", (D, C): \"C\", (D, D): \"D\"}"
   ]
  },
  {
   "cell_type": "code",
   "execution_count": 25,
   "id": "afa9e51a",
   "metadata": {},
   "outputs": [],
   "source": [
    "results_player_letters = [[states_to_letters[state] for state in states] \n",
    "                          for states in results_player]"
   ]
  },
  {
   "cell_type": "markdown",
   "id": "526de1c7",
   "metadata": {},
   "source": [
    "Let's write the function for getting cycles"
   ]
  },
  {
   "cell_type": "code",
   "execution_count": 26,
   "id": "626207c3",
   "metadata": {},
   "outputs": [],
   "source": [
    "def get_cycles(result):\n",
    "\n",
    "    overall_cycles = []\n",
    "\n",
    "    source = [\"A\", \"A\"]\n",
    "\n",
    "    current_cycle = []\n",
    "\n",
    "    cycle_happening = False\n",
    "\n",
    "    for i, turn in enumerate(result[:-1]):\n",
    "\n",
    "        state = [turn, result[i + 1]]\n",
    "\n",
    "        if state == source and cycle_happening == False:\n",
    "            cycle_happening = True\n",
    "\n",
    "            current_cycle = [state]\n",
    "\n",
    "        elif state == source and len(current_cycle) == 1:\n",
    "            assert cycle_happening == True\n",
    "            current_cycle = [state]\n",
    "\n",
    "\n",
    "        elif state == source and len(current_cycle) > 1:\n",
    "            assert cycle_happening == True\n",
    "\n",
    "            current_cycle.append(state)\n",
    "            overall_cycles.append(current_cycle)\n",
    "\n",
    "            current_cycle = []\n",
    "            cycle_happening = False\n",
    "\n",
    "\n",
    "        elif state != source and cycle_happening == True:\n",
    "            assert cycle_happening == True\n",
    "            current_cycle.append(state)\n",
    "        else:\n",
    "            pass\n",
    "    return overall_cycles"
   ]
  },
  {
   "cell_type": "markdown",
   "id": "8f8d6900",
   "metadata": {},
   "source": [
    "Let's test it."
   ]
  },
  {
   "cell_type": "code",
   "execution_count": 27,
   "id": "9439a885",
   "metadata": {},
   "outputs": [
    {
     "data": {
      "text/plain": [
       "[]"
      ]
     },
     "execution_count": 27,
     "metadata": {},
     "output_type": "execute_result"
    }
   ],
   "source": [
    "result = [\"A\", \"A\", \"A\"]\n",
    "\n",
    "get_cycles(result)"
   ]
  },
  {
   "cell_type": "code",
   "execution_count": 28,
   "id": "86235f8a",
   "metadata": {},
   "outputs": [
    {
     "data": {
      "text/plain": [
       "[]"
      ]
     },
     "execution_count": 28,
     "metadata": {},
     "output_type": "execute_result"
    }
   ],
   "source": [
    "result = [\"A\", \"A\", \"B\", \"D\"]\n",
    "\n",
    "get_cycles(result)"
   ]
  },
  {
   "cell_type": "code",
   "execution_count": 29,
   "id": "75b12fca",
   "metadata": {},
   "outputs": [
    {
     "data": {
      "text/plain": [
       "[[['A', 'A'], ['A', 'B'], ['B', 'D'], ['D', 'A'], ['A', 'A']]]"
      ]
     },
     "execution_count": 29,
     "metadata": {},
     "output_type": "execute_result"
    }
   ],
   "source": [
    "result = [\"A\", \"A\", \"B\", \"D\", \"A\", \"A\", \"C\", \"D\",]\n",
    "\n",
    "get_cycles(result)"
   ]
  },
  {
   "cell_type": "code",
   "execution_count": 30,
   "id": "d4d3f296",
   "metadata": {},
   "outputs": [
    {
     "data": {
      "text/plain": [
       "[[['A', 'A'], ['A', 'B'], ['B', 'D'], ['D', 'A'], ['A', 'A']]]"
      ]
     },
     "execution_count": 30,
     "metadata": {},
     "output_type": "execute_result"
    }
   ],
   "source": [
    "result = [\"A\", \"A\", \"B\", \"D\", \"A\", \"A\", \"C\", \"D\", \"A\", \"A\", \"B\", \"D\",]\n",
    "\n",
    "get_cycles(result)"
   ]
  },
  {
   "cell_type": "code",
   "execution_count": 31,
   "id": "4d9af5ec",
   "metadata": {},
   "outputs": [
    {
     "data": {
      "text/plain": [
       "[[['A', 'A'], ['A', 'B'], ['B', 'D'], ['D', 'A'], ['A', 'A']],\n",
       " [['A', 'A'], ['A', 'B'], ['B', 'D'], ['D', 'A'], ['A', 'A']]]"
      ]
     },
     "execution_count": 31,
     "metadata": {},
     "output_type": "execute_result"
    }
   ],
   "source": [
    "result = [\"A\", \"A\", \"B\", \"D\", \"A\", \"A\", \"C\", \"D\", \"A\", \"A\", \"B\", \"D\", \"A\", \"A\",]\n",
    "\n",
    "get_cycles(result)"
   ]
  },
  {
   "cell_type": "markdown",
   "id": "f6c5b6d9",
   "metadata": {},
   "source": [
    "Let's transform both results."
   ]
  },
  {
   "cell_type": "code",
   "execution_count": 32,
   "id": "33107098",
   "metadata": {},
   "outputs": [],
   "source": [
    "results_prime_player_letters = [[states_to_letters[state] for state in states] \n",
    "                          for states in results_prime_player]"
   ]
  },
  {
   "cell_type": "markdown",
   "id": "02230c99",
   "metadata": {},
   "source": [
    "Let's get the cycles."
   ]
  },
  {
   "cell_type": "code",
   "execution_count": 33,
   "id": "feb1873d",
   "metadata": {},
   "outputs": [],
   "source": [
    "cycles_player = []\n",
    "\n",
    "for result in results_player_letters:\n",
    "    cycles = get_cycles(result)\n",
    "    cycles_player.append(cycles)"
   ]
  },
  {
   "cell_type": "code",
   "execution_count": 34,
   "id": "f6d5389d",
   "metadata": {},
   "outputs": [],
   "source": [
    "# [len(cycle) for cycle in cycles_player]"
   ]
  },
  {
   "cell_type": "code",
   "execution_count": 35,
   "id": "edf54b70",
   "metadata": {},
   "outputs": [
    {
     "data": {
      "text/plain": [
       "268396"
      ]
     },
     "execution_count": 35,
     "metadata": {},
     "output_type": "execute_result"
    }
   ],
   "source": [
    "sum([len(cycle) for cycle in cycles_player])"
   ]
  },
  {
   "cell_type": "code",
   "execution_count": 36,
   "id": "b28647d6",
   "metadata": {},
   "outputs": [],
   "source": [
    "flatten_cycles_player = [x for xs in cycles_player for x in xs]"
   ]
  },
  {
   "cell_type": "code",
   "execution_count": 37,
   "id": "e4366362",
   "metadata": {
    "scrolled": true
   },
   "outputs": [
    {
     "data": {
      "text/plain": [
       "24.904346562541917"
      ]
     },
     "execution_count": 37,
     "metadata": {},
     "output_type": "execute_result"
    }
   ],
   "source": [
    "np.mean([len(cycle) for cycle in flatten_cycles_player])"
   ]
  },
  {
   "cell_type": "markdown",
   "id": "b0c56292",
   "metadata": {},
   "source": [
    "Let's get the cycles for prime player."
   ]
  },
  {
   "cell_type": "code",
   "execution_count": 38,
   "id": "06acc692",
   "metadata": {},
   "outputs": [],
   "source": [
    "cycles_prime_player = []\n",
    "\n",
    "for result in results_prime_player_letters:\n",
    "    cycles = get_cycles(result)\n",
    "    cycles_prime_player.append(cycles)"
   ]
  },
  {
   "cell_type": "code",
   "execution_count": 39,
   "id": "691b3a73",
   "metadata": {},
   "outputs": [
    {
     "data": {
      "text/plain": [
       "158095"
      ]
     },
     "execution_count": 39,
     "metadata": {},
     "output_type": "execute_result"
    }
   ],
   "source": [
    "sum([len(cycle) for cycle in cycles_prime_player])"
   ]
  },
  {
   "cell_type": "code",
   "execution_count": 40,
   "id": "64925145",
   "metadata": {},
   "outputs": [],
   "source": [
    "flatten_cycles_prime_player = [x for xs in cycles_prime_player for x in xs]"
   ]
  },
  {
   "cell_type": "code",
   "execution_count": 41,
   "id": "8d59ed55",
   "metadata": {
    "scrolled": true
   },
   "outputs": [
    {
     "data": {
      "text/plain": [
       "75.68900977260508"
      ]
     },
     "execution_count": 41,
     "metadata": {},
     "output_type": "execute_result"
    }
   ],
   "source": [
    "np.mean([len(cycle) for cycle in flatten_cycles_prime_player])"
   ]
  },
  {
   "cell_type": "code",
   "execution_count": 42,
   "id": "aed05bfb",
   "metadata": {},
   "outputs": [
    {
     "data": {
      "image/png": "[encoded data removed]",
      "text/plain": [
       "<Figure size 640x480 with 1 Axes>"
      ]
     },
     "metadata": {},
     "output_type": "display_data"
    }
   ],
   "source": [
    "plt.hist([len(cycle) for cycle in flatten_cycles_prime_player]);"
   ]
  },
  {
   "cell_type": "code",
   "execution_count": 43,
   "id": "346341ff",
   "metadata": {},
   "outputs": [
    {
     "data": {
      "image/png": "[encoded data removed]",
      "text/plain": [
       "<Figure size 640x480 with 1 Axes>"
      ]
     },
     "metadata": {},
     "output_type": "display_data"
    }
   ],
   "source": [
    "plt.hist([len(cycle) for cycle in flatten_cycles_player]);"
   ]
  },
  {
   "cell_type": "code",
   "execution_count": 70,
   "id": "058b44ac",
   "metadata": {},
   "outputs": [
    {
     "data": {
      "image/png": "[encoded data removed]",
      "text/plain": [
       "<Figure size 640x480 with 1 Axes>"
      ]
     },
     "metadata": {},
     "output_type": "display_data"
    }
   ],
   "source": [
    "plt.boxplot([[len(cycle) for cycle in flatten_cycles_prime_player],\n",
    "            [len(cycle) for cycle in flatten_cycles_player]]);\n"
   ]
  },
  {
   "cell_type": "code",
   "execution_count": 107,
   "id": "c9888e79",
   "metadata": {},
   "outputs": [],
   "source": [
    "c = Counter([len(cycle) for cycle in flatten_cycles_prime_player])"
   ]
  },
  {
   "cell_type": "code",
   "execution_count": 108,
   "id": "a5a3a287",
   "metadata": {},
   "outputs": [
    {
     "data": {
      "text/plain": [
       "[(4, 9269), (6, 5948), (8, 4259), (10, 3409), (12, 2752)]"
      ]
     },
     "execution_count": 108,
     "metadata": {},
     "output_type": "execute_result"
    }
   ],
   "source": [
    "c.most_common(5)"
   ]
  },
  {
   "cell_type": "code",
   "execution_count": 109,
   "id": "7bb74f9d",
   "metadata": {},
   "outputs": [],
   "source": [
    "c = Counter([len(cycle) for cycle in flatten_cycles_player])"
   ]
  },
  {
   "cell_type": "code",
   "execution_count": 110,
   "id": "7e9eb320",
   "metadata": {},
   "outputs": [
    {
     "data": {
      "text/plain": [
       "[(4, 15527), (8, 10520), (9, 10034), (7, 9778), (10, 9575)]"
      ]
     },
     "execution_count": 110,
     "metadata": {},
     "output_type": "execute_result"
    }
   ],
   "source": [
    "c.most_common(5)"
   ]
  },
  {
   "cell_type": "markdown",
   "id": "90ba0991",
   "metadata": {},
   "source": [
    "Let's write it as sequence so we can find duplicates and the most common cycles."
   ]
  },
  {
   "cell_type": "code",
   "execution_count": 75,
   "id": "558b6544",
   "metadata": {},
   "outputs": [],
   "source": [
    "sequences_player = []\n",
    "\n",
    "for cycle in flatten_cycles_player:\n",
    "\n",
    "    sequence = \"-\".join([\"\".join(state) for state in cycle])\n",
    "    \n",
    "    sequences_player.append(sequence)"
   ]
  },
  {
   "cell_type": "code",
   "execution_count": 76,
   "id": "7d025679",
   "metadata": {},
   "outputs": [
    {
     "data": {
      "text/plain": [
       "268396"
      ]
     },
     "execution_count": 76,
     "metadata": {},
     "output_type": "execute_result"
    }
   ],
   "source": [
    "len(sequences_player)"
   ]
  },
  {
   "cell_type": "code",
   "execution_count": 77,
   "id": "1c8f6e1e",
   "metadata": {},
   "outputs": [],
   "source": [
    "count = Counter(sequences_player)"
   ]
  },
  {
   "cell_type": "code",
   "execution_count": 78,
   "id": "429b4841",
   "metadata": {},
   "outputs": [
    {
     "data": {
      "text/plain": [
       "[('AA-AB-BA-AA', 7935),\n",
       " ('AA-AC-CA-AA', 7714),\n",
       " ('AA-AC-CB-BA-AA', 4289),\n",
       " ('AA-AB-BC-CA-AA', 4204),\n",
       " ('AA-AC-CB-BC-CA-AA', 2280),\n",
       " ('AA-AB-BC-CB-BA-AA', 2275),\n",
       " ('AA-AC-CB-BC-CB-BA-AA', 1265),\n",
       " ('AA-AB-BC-CD-DC-CA-AA', 1265),\n",
       " ('AA-AC-CB-BD-DB-BA-AA', 1222),\n",
       " ('AA-AB-BC-CB-BC-CA-AA', 1196),\n",
       " ('AA-AB-BC-CD-DD-DA-AA', 870),\n",
       " ('AA-AC-CB-BD-DD-DA-AA', 867),\n",
       " ('AA-AC-CB-BB-BA-AA', 837),\n",
       " ('AA-AB-BC-CC-CA-AA', 835),\n",
       " ('AA-AC-CB-BC-CB-BC-CA-AA', 721)]"
      ]
     },
     "execution_count": 78,
     "metadata": {},
     "output_type": "execute_result"
    }
   ],
   "source": [
    "count.most_common(15)"
   ]
  },
  {
   "cell_type": "code",
   "execution_count": 65,
   "id": "89c1eac2",
   "metadata": {},
   "outputs": [
    {
     "data": {
      "text/plain": [
       "2.956452406146142"
      ]
     },
     "execution_count": 65,
     "metadata": {},
     "output_type": "execute_result"
    }
   ],
   "source": [
    "(7935 / len(sequences_player)) * 100"
   ]
  },
  {
   "cell_type": "code",
   "execution_count": 80,
   "id": "62e98598",
   "metadata": {},
   "outputs": [
    {
     "data": {
      "text/plain": [
       "1.5663422703766077"
      ]
     },
     "execution_count": 80,
     "metadata": {},
     "output_type": "execute_result"
    }
   ],
   "source": [
    "(4204  / len(sequences_player)) * 100"
   ]
  },
  {
   "cell_type": "code",
   "execution_count": 81,
   "id": "0c4e1931",
   "metadata": {},
   "outputs": [
    {
     "data": {
      "text/plain": [
       "0.8476281315667893"
      ]
     },
     "execution_count": 81,
     "metadata": {},
     "output_type": "execute_result"
    }
   ],
   "source": [
    "(2275 / len(sequences_player)) * 100"
   ]
  },
  {
   "cell_type": "code",
   "execution_count": 92,
   "id": "e168b59e",
   "metadata": {},
   "outputs": [],
   "source": [
    "sequences_prime_player = []\n",
    "\n",
    "for cycle in flatten_cycles_prime_player:\n",
    "\n",
    "    sequence = \"-\".join([\"\".join(state) for state in cycle])\n",
    "    \n",
    "    sequences_prime_player.append(sequence)"
   ]
  },
  {
   "cell_type": "code",
   "execution_count": 93,
   "id": "1af28118",
   "metadata": {},
   "outputs": [
    {
     "data": {
      "text/plain": [
       "158095"
      ]
     },
     "execution_count": 93,
     "metadata": {},
     "output_type": "execute_result"
    }
   ],
   "source": [
    "len(sequences_prime_player)"
   ]
  },
  {
   "cell_type": "code",
   "execution_count": 94,
   "id": "80b82bdc",
   "metadata": {},
   "outputs": [],
   "source": [
    "count_prime = Counter(sequences_prime_player)"
   ]
  },
  {
   "cell_type": "code",
   "execution_count": 95,
   "id": "024381f4",
   "metadata": {},
   "outputs": [
    {
     "data": {
      "text/plain": [
       "[('AA-AC-CA-AA', 4643),\n",
       " ('AA-AB-BA-AA', 4553),\n",
       " ('AA-AC-CA-AB-BA-AA', 2450),\n",
       " ('AA-AB-BA-AC-CA-AA', 2425),\n",
       " ('AA-AC-CA-AB-BA-AC-CA-AA', 1296),\n",
       " ('AA-AB-BA-AC-CA-AB-BA-AA', 1272),\n",
       " ('AA-AC-CA-AB-BA-AC-CA-AB-BA-AA', 687),\n",
       " ('AA-AB-BA-AC-CA-AB-BA-AC-CA-AA', 676),\n",
       " ('AA-AC-CB-BB-BA-AA', 535),\n",
       " ('AA-AB-BC-CC-CA-AA', 523),\n",
       " ('AA-AB-BA-AC-CA-AB-BA-AC-CA-AB-BA-AA', 373),\n",
       " ('AA-AC-CA-AB-BA-AC-CA-AB-BA-AC-CA-AA', 369),\n",
       " ('AA-AB-BC-CC-CA-AB-BA-AA', 273),\n",
       " ('AA-AC-CA-AB-BC-CC-CA-AA', 254),\n",
       " ('AA-AC-CB-BB-BA-AC-CA-AA', 253)]"
      ]
     },
     "execution_count": 95,
     "metadata": {},
     "output_type": "execute_result"
    }
   ],
   "source": [
    "count_prime.most_common(15)"
   ]
  },
  {
   "cell_type": "code",
   "execution_count": 96,
   "id": "e402e583",
   "metadata": {},
   "outputs": [
    {
     "data": {
      "text/plain": [
       "2.87991397577406"
      ]
     },
     "execution_count": 96,
     "metadata": {},
     "output_type": "execute_result"
    }
   ],
   "source": [
    "(4553 / len(sequences_prime_player)) * 100"
   ]
  },
  {
   "cell_type": "code",
   "execution_count": 97,
   "id": "8b1b8eb3",
   "metadata": {},
   "outputs": [
    {
     "data": {
      "text/plain": [
       "1.5338878522407413"
      ]
     },
     "execution_count": 97,
     "metadata": {},
     "output_type": "execute_result"
    }
   ],
   "source": [
    "(2425 / len(sequences_prime_player)) * 100"
   ]
  },
  {
   "cell_type": "code",
   "execution_count": 98,
   "id": "1ecff120",
   "metadata": {},
   "outputs": [
    {
     "data": {
      "text/plain": [
       "0.8045795249691641"
      ]
     },
     "execution_count": 98,
     "metadata": {},
     "output_type": "execute_result"
    }
   ],
   "source": [
    "(1272 / len(sequences_prime_player)) * 100"
   ]
  },
  {
   "cell_type": "code",
   "execution_count": null,
   "id": "092634c6",
   "metadata": {},
   "outputs": [],
   "source": []
  }
 ],
 "metadata": {
  "kernelspec": {
   "display_name": "Python 3",
   "language": "python",
   "name": "python3"
  },
  "language_info": {
   "codemirror_mode": {
    "name": "ipython",
    "version": 3
   },
   "file_extension": ".py",
   "mimetype": "text/x-python",
   "name": "python",
   "nbconvert_exporter": "python",
   "pygments_lexer": "ipython3",
   "version": "3.11.3"
  }
 },
 "nbformat": 4,
 "nbformat_minor": 5
}
