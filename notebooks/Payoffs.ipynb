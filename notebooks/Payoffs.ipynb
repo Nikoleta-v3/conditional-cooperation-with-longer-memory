{
 "cells": [
  {
   "cell_type": "code",
   "execution_count": 1,
   "id": "8355aa3d",
   "metadata": {},
   "outputs": [],
   "source": [
    "import numpy as np\n",
    "\n",
    "import repeated_play\n",
    "\n",
    "import axelrod as axl"
   ]
  },
  {
   "cell_type": "code",
   "execution_count": 2,
   "id": "fd69a82d",
   "metadata": {},
   "outputs": [],
   "source": [
    "import pandas as pd"
   ]
  },
  {
   "cell_type": "code",
   "execution_count": 3,
   "id": "88dfd88d",
   "metadata": {},
   "outputs": [],
   "source": [
    "pd.set_option('display.max_columns', None)  "
   ]
  },
  {
   "cell_type": "code",
   "execution_count": 4,
   "id": "28267992",
   "metadata": {},
   "outputs": [],
   "source": [
    "import itertools\n",
    "\n",
    "from axelrod.action import Action\n",
    "\n",
    "C, D = Action.C, Action.D"
   ]
  },
  {
   "cell_type": "code",
   "execution_count": 5,
   "id": "d82c825c",
   "metadata": {},
   "outputs": [],
   "source": [
    "from tqdm.notebook import tqdm"
   ]
  },
  {
   "cell_type": "code",
   "execution_count": 6,
   "id": "c6f159c2",
   "metadata": {},
   "outputs": [],
   "source": [
    "import matplotlib.pyplot as plt"
   ]
  },
  {
   "cell_type": "code",
   "execution_count": 7,
   "id": "2997cbe6",
   "metadata": {},
   "outputs": [],
   "source": [
    "import networkx as nx"
   ]
  },
  {
   "cell_type": "code",
   "execution_count": 8,
   "id": "dac064c9",
   "metadata": {},
   "outputs": [],
   "source": [
    "from collections import Counter"
   ]
  },
  {
   "cell_type": "code",
   "execution_count": 9,
   "id": "1a145163",
   "metadata": {},
   "outputs": [],
   "source": [
    "from scipy import stats"
   ]
  },
  {
   "cell_type": "code",
   "execution_count": 10,
   "id": "98078b6b",
   "metadata": {},
   "outputs": [],
   "source": [
    "def match_payoffs(player, coplayer, Sx, Sy, memory=\"one\"):\n",
    "    M = repeated_play.transition_matrix_repeated_game(\n",
    "        player, coplayer, memory=memory\n",
    "    )\n",
    "\n",
    "    ss = repeated_play.stationary_distribution(M)[0]\n",
    "\n",
    "    return ss, ss @ Sx, ss @ Sy"
   ]
  },
  {
   "cell_type": "code",
   "execution_count": 11,
   "id": "f6bc6efb",
   "metadata": {},
   "outputs": [],
   "source": [
    "def reactive_two_t_memory_two(strategy):\n",
    "    return (strategy[0], strategy[1], strategy[0], strategy[1],\n",
    "            strategy[2], strategy[3], strategy[2], strategy[3],\n",
    "            strategy[0], strategy[1], strategy[0], strategy[1],\n",
    "            strategy[2], strategy[3], strategy[2], strategy[3]\n",
    "           )"
   ]
  },
  {
   "cell_type": "code",
   "execution_count": 12,
   "id": "591a4569",
   "metadata": {},
   "outputs": [],
   "source": [
    "player = [0.99, 0.1, 0.6, 0.3]\n",
    "\n",
    "prime_player = [0.99, 0.6, 0.1, 0.3]"
   ]
  },
  {
   "cell_type": "code",
   "execution_count": 13,
   "id": "68f3df1d",
   "metadata": {},
   "outputs": [],
   "source": [
    "player_mem2 = reactive_two_t_memory_two(player)"
   ]
  },
  {
   "cell_type": "code",
   "execution_count": 14,
   "id": "a209f974",
   "metadata": {},
   "outputs": [],
   "source": [
    "prime_player_mem2 = reactive_two_t_memory_two(prime_player)"
   ]
  },
  {
   "cell_type": "code",
   "execution_count": 15,
   "id": "01962713",
   "metadata": {},
   "outputs": [],
   "source": [
    "b, c = 1, 1/2\n",
    "\n",
    "Sx = np.array([b - c, -c, b, 0] * 4)\n",
    "\n",
    "Sy = np.array([b - c, b, -c, 0] * 4)"
   ]
  },
  {
   "cell_type": "code",
   "execution_count": 16,
   "id": "e18c1d6a",
   "metadata": {},
   "outputs": [],
   "source": [
    "ss, payoff, _ = match_payoffs(player_mem2, player_mem2, Sx, Sy, memory=\"two\")"
   ]
  },
  {
   "cell_type": "code",
   "execution_count": 17,
   "id": "21b0ab03",
   "metadata": {},
   "outputs": [],
   "source": [
    "ss2, payoff2, _ = match_payoffs(prime_player_mem2, prime_player_mem2, Sx, Sy, memory=\"two\")"
   ]
  },
  {
   "cell_type": "markdown",
   "id": "e5394464",
   "metadata": {},
   "source": [
    "# Simulations"
   ]
  },
  {
   "cell_type": "code",
   "execution_count": 18,
   "id": "52f3db4d",
   "metadata": {},
   "outputs": [],
   "source": [
    "class Mem2Transformed(axl.MemoryTwoPlayer):\n",
    "    \n",
    "    \n",
    "    def __init__(self, sixteen_vector) -> None:\n",
    "        super().__init__(sixteen_vector)\n",
    "        \n",
    "    def strategy(self, opponent):\n",
    "        \"\"\"Actual strategy definition that determines player's action.\"\"\"\n",
    "        turn = len(self.history)\n",
    "        if turn <= 1:\n",
    "            return self._random.random_choice(0.5)\n",
    "\n",
    "        p = self._sixteen_vector[\n",
    "            ((self.history[-2], opponent.history[-2]), (self.history[-1], opponent.history[-1]))\n",
    "        ]\n",
    "\n",
    "        return self._random.random_choice(p)\n",
    "#         except AttributeError:\n",
    "#             return C if p == 1 else D"
   ]
  },
  {
   "cell_type": "code",
   "execution_count": 19,
   "id": "0275da55",
   "metadata": {},
   "outputs": [],
   "source": [
    "donation = axl.game.Game(r=b-c, s=-c, t=b, p=0)"
   ]
  },
  {
   "cell_type": "markdown",
   "id": "4db02890",
   "metadata": {},
   "source": [
    "### Player"
   ]
  },
  {
   "cell_type": "code",
   "execution_count": 20,
   "id": "34d114af",
   "metadata": {},
   "outputs": [],
   "source": [
    "reps = 20"
   ]
  },
  {
   "cell_type": "code",
   "execution_count": 23,
   "id": "4d135f4e",
   "metadata": {},
   "outputs": [
    {
     "data": {
      "application/vnd.jupyter.widget-view+json": {
       "model_id": "c3b930fd781f4402bc5c4d1c5de37111",
       "version_major": 2,
       "version_minor": 0
      },
      "text/plain": [
       "  0%|          | 0/20 [00:00<?, ?it/s]"
      ]
     },
     "metadata": {},
     "output_type": "display_data"
    }
   ],
   "source": [
    "scores, results_player = [], []\n",
    "\n",
    "for _ in tqdm(range(reps)):\n",
    "    \n",
    "    p1 = Mem2Transformed(player_mem2)\n",
    "    \n",
    "    p2 = Mem2Transformed(player_mem2)\n",
    "    \n",
    "    match = axl.Match([p1, p2], turns=10**6, game=donation)\n",
    "    \n",
    "    _ = match.play()\n",
    "    \n",
    "    score = match.final_score_per_turn()[0]\n",
    "    \n",
    "    scores.append(score)\n",
    "    \n",
    "    results_player.append(match.result)"
   ]
  },
  {
   "cell_type": "code",
   "execution_count": 24,
   "id": "fa246572",
   "metadata": {},
   "outputs": [],
   "source": [
    "results_flatten = [x for xs in results_player for x in xs]\n",
    "\n",
    "states_player = {history: 0 for history in  itertools.product([C, D], repeat=4)}\n",
    "\n",
    "for i, hist in enumerate(results_flatten[:-1]):\n",
    "    states_player[hist + results_flatten[i + 1]] += 1 / (10 ** 6 * reps)"
   ]
  },
  {
   "cell_type": "code",
   "execution_count": 25,
   "id": "3164a028",
   "metadata": {},
   "outputs": [
    {
     "data": {
      "application/vnd.jupyter.widget-view+json": {
       "model_id": "4c5e8b85d1ae40f69b32885c0613c3d7",
       "version_major": 2,
       "version_minor": 0
      },
      "text/plain": [
       "  0%|          | 0/20 [00:00<?, ?it/s]"
      ]
     },
     "metadata": {},
     "output_type": "display_data"
    }
   ],
   "source": [
    "scores2, results_prime_player = [], []\n",
    "\n",
    "for _ in tqdm(range(reps)):\n",
    "    \n",
    "    p1 = Mem2Transformed(prime_player_mem2)\n",
    "    \n",
    "    p2 = Mem2Transformed(prime_player_mem2)\n",
    "    \n",
    "    match = axl.Match([p1, p2], turns=10**6, game=donation)\n",
    "    \n",
    "    _ = match.play()\n",
    "    \n",
    "    score = match.final_score_per_turn()[0]\n",
    "    \n",
    "    scores2.append(score)\n",
    "    \n",
    "    results_prime_player.append(match.result)"
   ]
  },
  {
   "cell_type": "code",
   "execution_count": 26,
   "id": "667e88a5",
   "metadata": {},
   "outputs": [],
   "source": [
    "results_flatten2 = [x for xs in results_prime_player for x in xs]\n",
    "\n",
    "states_prime_player = {history: 0 for history in  itertools.product([C, D], repeat=4)}\n",
    "\n",
    "for i, hist in enumerate(results_flatten2[:-1]):\n",
    "    states_prime_player[hist + results_flatten2[i + 1]] += 1 / (10 ** 6 * reps)"
   ]
  },
  {
   "cell_type": "code",
   "execution_count": 95,
   "id": "5cfa5e5f",
   "metadata": {},
   "outputs": [
    {
     "name": "stderr",
     "output_type": "stream",
     "text": [
      "/var/folders/19/1t7slkb13h578dr5bl_47kf80000gp/T/ipykernel_44019/1507653046.py:46: UserWarning: set_ticklabels() should only be used with a fixed number of ticks, i.e. after set_ticks() or using a FixedLocator.\n",
      "  axes[letter].set_xticklabels(['' for _ in range(16)],);\n"
     ]
    },
    {
     "data": {
      "image/png": "[encoded data removed]",
      "text/plain": [
       "<Figure size 1250x400 with 4 Axes>"
      ]
     },
     "metadata": {},
     "output_type": "display_data"
    }
   ],
   "source": [
    "fig, axes = plt.subplot_mosaic(\"ABE;CBE\", figsize=(12.5, 4),\n",
    "                               gridspec_kw = {'height_ratios':[1, 1], 'width_ratios': [1.5, 1, 1],\n",
    "                                              'hspace': 0.4})\n",
    "\n",
    "# Markov chain process\n",
    "axes[\"A\"].bar(range(1, 17), ss, color='tab:green');\n",
    "\n",
    "axes[\"C\"].bar(range(1, 17), ss2, color='tab:red');\n",
    "\n",
    "\n",
    "# ticks and stuff\n",
    "\n",
    "for letter in ['A', \"C\",]:\n",
    "\n",
    "    axes[letter].set_ylim(0, 1)\n",
    "\n",
    "    axes[letter].set_yticks(np.arange(0, 1.1, .5));\n",
    "\n",
    "    axes[letter].set_xticks(np.arange(1, 17, 1));\n",
    "\n",
    "for letter in ['C']:\n",
    "\n",
    "    axes[letter].set_xticklabels(['$v_{((C, C), (C, C))}$',\n",
    "                               '$v_{((C, C), (C, D))}$',\n",
    "                               '$v_{((C, D), (C, C))}$',\n",
    "                               '$v_{((C, D), (C, D))}$',\n",
    "                               '$v_{((C, C), (D, C))}$',\n",
    "                               '$v_{((C, C), (D, D))}$',\n",
    "                               '$v_{((C, D), (D, C))}$',\n",
    "                               '$v_{((C, D), (D, D))}$',\n",
    "                               '$v_{((D, C), (C, C))}$',\n",
    "                               '$v_{((D, C), (C, D))}$',\n",
    "                               '$v_{((D, D), (C, C))}$',\n",
    "                               '$v_{((D, D), (C, D))}$',\n",
    "                               '$v_{((D, C), (D, C))}$',\n",
    "                               '$v_{((D, C), (D, D))}$',\n",
    "                               '$v_{((D, D), (D, C))}$',\n",
    "                               '$v_{((D, D), (D, D))}$'], rotation=90, fontsize=9\n",
    "                         );\n",
    "\n",
    "    axes[letter].xaxis.set_tick_params(labelbottom=True)\n",
    "    \n",
    "    \n",
    "for letter in ['A', 'B']:\n",
    "\n",
    "    axes[letter].set_xticklabels(['' for _ in range(16)],);\n",
    "\n",
    "    \n",
    "axes['A'].set_title(\"$\\mathbf{p}=(0.99, 0.1, 0.6, 0.3)$\");\n",
    "\n",
    "axes['C'].set_title(r\"$\\mathbf{p'}=(0.99, 0.6, 0.1, 0.3)$\");\n",
    "\n",
    "\n",
    "violioplots = axes[\"B\"].violinplot([[len(cycle) for cycle in cycles], \n",
    "                                    [len(cycle) for cycle in cycles_prime]],\n",
    "                                   showmeans=False, showmedians=False,\n",
    "                                   showextrema=True);\n",
    "\n",
    "\n",
    "data = [[len(cycle) for cycle in cycles],\n",
    "        [len(cycle) for cycle in cycles_prime]]\n",
    "\n",
    "quartile1, medians, quartile3 = np.percentile(data, [25, 50, 75], axis=1)\n",
    "\n",
    "inds = np.arange(1, len(medians) + 1)\n",
    "\n",
    "axes[\"B\"].scatter(inds, medians, marker='o', color='white', s=15, zorder=3)\n",
    "axes[\"B\"].vlines(inds, quartile1, quartile3, color='k', linestyle='-', lw=5)\n",
    "\n",
    "\n",
    "for pc, color in zip(violioplots['bodies'], ['tab:green', 'tab:red']):\n",
    "    pc.set_facecolor(color)\n",
    "\n",
    "for partname in ('cbars','cmins','cmaxes'):\n",
    "    violioplots[partname].set_colors(['tab:green', 'tab:red'])\n",
    "\n",
    "\n",
    "axes[\"E\"].bar([0, 1],\n",
    "              [np.mean([len(cycle) for cycle in cycles]),\n",
    "               np.mean([len(cycle) for cycle in cycles_prime])],\n",
    "               color=['tab:green', 'tab:red']);\n",
    "\n",
    "axes[\"E\"].set_xticks([0, 1], [\"$\\mathbf{p}$\", r\"$\\mathbf{p'}$\"]);\n",
    "\n",
    "axes[\"B\"].set_xticks([1, 2], [\"$\\mathbf{p}$\", r\"$\\mathbf{p'}$\"]);\n",
    "\n",
    "axes[\"B\"].set_title(\"Number of steps to \\n return to mutual cooperation\");\n",
    "\n",
    "axes[\"E\"].set_title(\"Av. number of steps to \\n return to mutual cooperation\");\n",
    "axes[\"E\"].text(-1.5, 94, \"Recovery time\", fontweight='bold', fontsize=14)\n",
    "\n",
    "\n",
    "axes[\"A\"].text(-3, 1.2, \"A\", fontsize=\"22\");\n",
    "axes[\"A\"].set_ylabel(\"abundance in \\n stationary distribution\");\n",
    "axes[\"C\"].set_ylabel(\"abundance in \\n stationary distribution\");\n",
    "axes[\"A\"].text(18, 1.2, \"B\", fontsize=\"22\");\n",
    "axes[\"A\"].text(32, 1.2, \"C\", fontsize=\"22\");\n",
    "\n",
    "fig.savefig(\"../figures/siFigReactiveTwoPayoffs.pdf\", bbox_inches=\"tight\")"
   ]
  },
  {
   "cell_type": "markdown",
   "id": "7110db63",
   "metadata": {},
   "source": [
    "## New Cycles Analysis by CH comments"
   ]
  },
  {
   "cell_type": "code",
   "execution_count": 21,
   "id": "c886a8a9",
   "metadata": {},
   "outputs": [],
   "source": [
    "states_to_letters = {(C, C): \"A\", (C, D): \"B\", (D, C): \"C\", (D, D): \"D\"}\n",
    "\n",
    "letters_to_states = {\"A\": (C, C), \"B\": (C, D), \"C\": (D, C), \"D\": (D, D)}"
   ]
  },
  {
   "cell_type": "code",
   "execution_count": 22,
   "id": "f25f51c3",
   "metadata": {},
   "outputs": [],
   "source": [
    "class Mem2TransformedWithOpening(axl.MemoryTwoPlayer):\n",
    "    \n",
    "    \n",
    "    def __init__(self, opening, sixteen_vector) -> None:\n",
    "        super().__init__(sixteen_vector)\n",
    "        self.opening = opening\n",
    "        \n",
    "    def strategy(self, opponent):\n",
    "        \"\"\"Actual strategy definition that determines player's action.\"\"\"\n",
    "        turn = len(self.history)\n",
    "        if turn == 0:\n",
    "            return self.opening[0]\n",
    "        if turn == 1:\n",
    "            return self.opening[1]\n",
    "\n",
    "        p = self._sixteen_vector[\n",
    "            ((self.history[-2], opponent.history[-2]), (self.history[-1], opponent.history[-1]))\n",
    "        ]\n",
    "\n",
    "        return self._random.random_choice(p)\n"
   ]
  },
  {
   "cell_type": "code",
   "execution_count": 23,
   "id": "afe7f91a",
   "metadata": {},
   "outputs": [],
   "source": [
    "p1_prime = Mem2TransformedWithOpening(opening=[C, C], sixteen_vector=prime_player_mem2)\n",
    "\n",
    "p2_prime = Mem2TransformedWithOpening(opening=[C, D], sixteen_vector=prime_player_mem2)"
   ]
  },
  {
   "cell_type": "code",
   "execution_count": 24,
   "id": "f7db1125",
   "metadata": {},
   "outputs": [
    {
     "data": {
      "application/vnd.jupyter.widget-view+json": {
       "model_id": "01557ada270a43f89c9681ade900cd29",
       "version_major": 2,
       "version_minor": 0
      },
      "text/plain": [
       "  0%|          | 0/50000 [00:00<?, ?it/s]"
      ]
     },
     "metadata": {},
     "output_type": "display_data"
    }
   ],
   "source": [
    "cycles_prime = []\n",
    "histories_prime = []\n",
    "\n",
    "for i in tqdm(range(5 * 10 ** 4)):\n",
    "    match = axl.Match([p1_prime, p2_prime], turns=1000, seed=i)\n",
    "    _ = match.play()\n",
    "    \n",
    "    actions = []\n",
    "    histories = []\n",
    "\n",
    "    for action_before, action_now in zip(match.result[1:], match.result[2:]):\n",
    "        actions.append(action_now)\n",
    "        histories.append((action_before, action_now))\n",
    "        \n",
    "\n",
    "        if action_before == (C, C) and action_now == (C, C):\n",
    "            break\n",
    "            \n",
    "    cycles_prime.append(actions)\n",
    "    histories_prime.append(histories)"
   ]
  },
  {
   "cell_type": "code",
   "execution_count": 25,
   "id": "d93555f1",
   "metadata": {},
   "outputs": [
    {
     "data": {
      "text/plain": [
       "73.97498"
      ]
     },
     "execution_count": 25,
     "metadata": {},
     "output_type": "execute_result"
    }
   ],
   "source": [
    "np.mean([len(cycle) for cycle in cycles_prime])"
   ]
  },
  {
   "cell_type": "code",
   "execution_count": 26,
   "id": "be7dbd10",
   "metadata": {},
   "outputs": [
    {
     "data": {
      "text/plain": [
       "[]"
      ]
     },
     "execution_count": 26,
     "metadata": {},
     "output_type": "execute_result"
    }
   ],
   "source": [
    "[i for i, cycle in enumerate(cycles_prime) if len(cycle) > 900]"
   ]
  },
  {
   "cell_type": "code",
   "execution_count": 27,
   "id": "3087d6a1",
   "metadata": {},
   "outputs": [
    {
     "data": {
      "text/plain": [
       "73.97498"
      ]
     },
     "execution_count": 27,
     "metadata": {},
     "output_type": "execute_result"
    }
   ],
   "source": [
    "np.mean([len(history) for history in histories_prime])"
   ]
  },
  {
   "cell_type": "code",
   "execution_count": 28,
   "id": "cc19ce08",
   "metadata": {},
   "outputs": [],
   "source": [
    "cycles_in_letters_prime = [\"\".join([states_to_letters[history] for history in cycle]) for cycle in cycles_prime]"
   ]
  },
  {
   "cell_type": "code",
   "execution_count": 29,
   "id": "caada6e8",
   "metadata": {},
   "outputs": [
    {
     "data": {
      "text/plain": [
       "50000"
      ]
     },
     "execution_count": 29,
     "metadata": {},
     "output_type": "execute_result"
    }
   ],
   "source": [
    "len(cycles_in_letters_prime)"
   ]
  },
  {
   "cell_type": "code",
   "execution_count": 30,
   "id": "f59b5dd4",
   "metadata": {},
   "outputs": [
    {
     "ename": "NameError",
     "evalue": "name 'cycles_in_letters' is not defined",
     "output_type": "error",
     "traceback": [
      "\u001b[0;31m---------------------------------------------------------------------------\u001b[0m",
      "\u001b[0;31mNameError\u001b[0m                                 Traceback (most recent call last)",
      "Cell \u001b[0;32mIn[30], line 1\u001b[0m\n\u001b[0;32m----> 1\u001b[0m counter_prime \u001b[38;5;241m=\u001b[39m Counter(cycles_in_letters)\n",
      "\u001b[0;31mNameError\u001b[0m: name 'cycles_in_letters' is not defined"
     ]
    }
   ],
   "source": [
    "counter_prime = Counter(cycles_in_letters)"
   ]
  },
  {
   "cell_type": "code",
   "execution_count": 31,
   "id": "80c72bbb",
   "metadata": {},
   "outputs": [
    {
     "ename": "NameError",
     "evalue": "name 'counter_prime' is not defined",
     "output_type": "error",
     "traceback": [
      "\u001b[0;31m---------------------------------------------------------------------------\u001b[0m",
      "\u001b[0;31mNameError\u001b[0m                                 Traceback (most recent call last)",
      "Cell \u001b[0;32mIn[31], line 1\u001b[0m\n\u001b[0;32m----> 1\u001b[0m counter_prime\u001b[38;5;241m.\u001b[39mmost_common(\u001b[38;5;241m15\u001b[39m)\n",
      "\u001b[0;31mNameError\u001b[0m: name 'counter_prime' is not defined"
     ]
    }
   ],
   "source": [
    "counter_prime.most_common(15)"
   ]
  },
  {
   "cell_type": "code",
   "execution_count": 32,
   "id": "b2959d9e",
   "metadata": {},
   "outputs": [],
   "source": [
    "p1 = Mem2TransformedWithOpening(opening=[C, C], sixteen_vector=player_mem2)\n",
    "\n",
    "p2 = Mem2TransformedWithOpening(opening=[C, D], sixteen_vector=player_mem2)"
   ]
  },
  {
   "cell_type": "code",
   "execution_count": 33,
   "id": "665cdf2f",
   "metadata": {},
   "outputs": [
    {
     "data": {
      "application/vnd.jupyter.widget-view+json": {
       "model_id": "df64871843bc453baa80a6a20e56bddb",
       "version_major": 2,
       "version_minor": 0
      },
      "text/plain": [
       "  0%|          | 0/50000 [00:00<?, ?it/s]"
      ]
     },
     "metadata": {},
     "output_type": "display_data"
    }
   ],
   "source": [
    "cycles = []\n",
    "histories_player = []\n",
    "\n",
    "for i in tqdm(range(5 * 10 ** 4)):\n",
    "    match = axl.Match([p1, p2], turns=710, seed=i)\n",
    "    _ = match.play()\n",
    "    \n",
    "    actions = []\n",
    "    histories = []\n",
    "\n",
    "    for action_before, action_now in zip(match.result[1:], match.result[2:]):\n",
    "        actions.append(action_now)\n",
    "        histories.append((action_before, action_now))\n",
    "\n",
    "        if action_before == (C, C) and action_now == (C, C):\n",
    "            break\n",
    "            \n",
    "    cycles.append(actions)\n",
    "    histories_player.append(histories)"
   ]
  },
  {
   "cell_type": "code",
   "execution_count": 34,
   "id": "41b11629",
   "metadata": {},
   "outputs": [
    {
     "data": {
      "text/plain": [
       "22.95732"
      ]
     },
     "execution_count": 34,
     "metadata": {},
     "output_type": "execute_result"
    }
   ],
   "source": [
    "np.mean([len(cycle) for cycle in cycles])"
   ]
  },
  {
   "cell_type": "code",
   "execution_count": 35,
   "id": "3c285a2a",
   "metadata": {},
   "outputs": [
    {
     "data": {
      "text/plain": [
       "[]"
      ]
     },
     "execution_count": 35,
     "metadata": {},
     "output_type": "execute_result"
    }
   ],
   "source": [
    "[i for i, cycle in enumerate(cycles) if len(cycle) > 700]"
   ]
  },
  {
   "cell_type": "code",
   "execution_count": 36,
   "id": "adced232",
   "metadata": {},
   "outputs": [],
   "source": [
    "cycles_in_letters = [\"\".join([states_to_letters[history] for history in cycle]) for cycle in cycles]"
   ]
  },
  {
   "cell_type": "code",
   "execution_count": null,
   "id": "a26740a4",
   "metadata": {},
   "outputs": [],
   "source": [
    "counter = Counter(cycles_in_letters)"
   ]
  },
  {
   "cell_type": "code",
   "execution_count": null,
   "id": "53f6f530",
   "metadata": {},
   "outputs": [],
   "source": [
    "len(counter.keys())"
   ]
  },
  {
   "cell_type": "code",
   "execution_count": null,
   "id": "5c299ec5",
   "metadata": {},
   "outputs": [],
   "source": [
    "len(counter_prime.keys())"
   ]
  },
  {
   "cell_type": "code",
   "execution_count": null,
   "id": "7972f158",
   "metadata": {},
   "outputs": [],
   "source": [
    "cycles_in_letters_prime = [\"\".join([states_to_letters[history] for history in cycle]) for cycle in cycles_prime]"
   ]
  },
  {
   "cell_type": "code",
   "execution_count": null,
   "id": "282012e6",
   "metadata": {},
   "outputs": [],
   "source": [
    "cycles_in_letters = [\"\".join([states_to_letters[history] for history in cycle]) for cycle in cycles]"
   ]
  },
  {
   "cell_type": "code",
   "execution_count": null,
   "id": "3befdeca",
   "metadata": {},
   "outputs": [],
   "source": [
    "len(cycles_in_letters_prime), len(cycles_in_letters)"
   ]
  },
  {
   "cell_type": "code",
   "execution_count": null,
   "id": "c27cb60d",
   "metadata": {},
   "outputs": [],
   "source": [
    "prime_set = set([len(cycle) for cycle in cycles_in_letters_prime])"
   ]
  },
  {
   "cell_type": "code",
   "execution_count": null,
   "id": "372c9e13",
   "metadata": {},
   "outputs": [],
   "source": [
    "normal_set = set([len(cycle) for cycle in cycles_in_letters])"
   ]
  },
  {
   "cell_type": "code",
   "execution_count": null,
   "id": "7e3cf451",
   "metadata": {},
   "outputs": [],
   "source": [
    "most_common = Counter(cycles_in_letters)"
   ]
  },
  {
   "cell_type": "code",
   "execution_count": null,
   "id": "d3d50f3c",
   "metadata": {},
   "outputs": [],
   "source": [
    "len(list(set(cycles_in_letters)))"
   ]
  },
  {
   "cell_type": "code",
   "execution_count": null,
   "id": "0563e95f",
   "metadata": {},
   "outputs": [],
   "source": [
    "len(most_common.keys())"
   ]
  },
  {
   "cell_type": "code",
   "execution_count": null,
   "id": "c78b198d",
   "metadata": {},
   "outputs": [],
   "source": [
    "most_common_prime = Counter(cycles_in_letters_prime)"
   ]
  },
  {
   "cell_type": "code",
   "execution_count": null,
   "id": "8d7d166c",
   "metadata": {},
   "outputs": [],
   "source": [
    "len(most_common_prime.keys())"
   ]
  },
  {
   "cell_type": "code",
   "execution_count": null,
   "id": "654bf68f",
   "metadata": {},
   "outputs": [],
   "source": [
    "len(list(set(cycles_in_letters_prime)))"
   ]
  },
  {
   "cell_type": "markdown",
   "id": "9fea491c",
   "metadata": {},
   "source": [
    "## The table"
   ]
  },
  {
   "cell_type": "code",
   "execution_count": 924,
   "id": "c23e8db0",
   "metadata": {},
   "outputs": [],
   "source": [
    "player = most_common.most_common(15)"
   ]
  },
  {
   "cell_type": "code",
   "execution_count": 925,
   "id": "e2f51f68",
   "metadata": {},
   "outputs": [],
   "source": [
    "most_common_letters = [hist[0] for hist in player]"
   ]
  },
  {
   "cell_type": "code",
   "execution_count": 926,
   "id": "7de7d1ef",
   "metadata": {},
   "outputs": [
    {
     "data": {
      "text/plain": [
       "3"
      ]
     },
     "execution_count": 926,
     "metadata": {},
     "output_type": "execute_result"
    }
   ],
   "source": [
    "[i for i, hist in enumerate(cycles_in_letters) if most_common_letters[0] == hist][0]"
   ]
  },
  {
   "cell_type": "code",
   "execution_count": 927,
   "id": "8de4eccb",
   "metadata": {},
   "outputs": [],
   "source": [
    "most_common_histories = [[letters_to_states[letter] for letter in history[0]] for history in player]"
   ]
  },
  {
   "cell_type": "code",
   "execution_count": 928,
   "id": "a0f609a9",
   "metadata": {},
   "outputs": [],
   "source": [
    "length = [len(history) for history in most_common_histories]"
   ]
  },
  {
   "cell_type": "code",
   "execution_count": 929,
   "id": "ebfe227b",
   "metadata": {},
   "outputs": [],
   "source": [
    "frequency = [f\"{round((history[1] / (5 * 10 ** 4)) * 100, 1)}%\" for history in player]"
   ]
  },
  {
   "cell_type": "code",
   "execution_count": 933,
   "id": "457a9837",
   "metadata": {},
   "outputs": [
    {
     "data": {
      "text/plain": [
       "[5.9, 3.0, 1.8, 1.0, 0.9, 0.6, 0.6, 0.5, 0.5, 0.4, 0.4, 0.4, 0.3, 0.3, 0.3]"
      ]
     },
     "execution_count": 933,
     "metadata": {},
     "output_type": "execute_result"
    }
   ],
   "source": [
    "[round((history[1] / (5 * 10 ** 4)) * 100, 1) for history in player]"
   ]
  },
  {
   "cell_type": "code",
   "execution_count": 904,
   "id": "f2a89ab4",
   "metadata": {},
   "outputs": [],
   "source": [
    "player_one_rows = []\n",
    "player_two_rows = []\n",
    "\n",
    "for hist in most_common_histories:\n",
    "    player_one = ''\n",
    "    player_two = ''\n",
    "    for actions in hist:\n",
    "        player_one += f'{actions[0]}'\n",
    "        player_two += f'{actions[1]}'\n",
    "        \n",
    "    player_one_rows.append(player_one)\n",
    "    player_two_rows.append(player_two)"
   ]
  },
  {
   "cell_type": "code",
   "execution_count": 905,
   "id": "ccdd9aee",
   "metadata": {},
   "outputs": [],
   "source": [
    "table = pd.DataFrame([player_one_rows, player_two_rows, length, frequency]).T"
   ]
  },
  {
   "cell_type": "code",
   "execution_count": 906,
   "id": "3ca22826",
   "metadata": {},
   "outputs": [],
   "source": [
    "table.index = range(1, 16)"
   ]
  },
  {
   "cell_type": "code",
   "execution_count": 907,
   "id": "0999fa37",
   "metadata": {},
   "outputs": [
    {
     "data": {
      "text/html": [
       "<div>\n",
       "<style scoped>\n",
       "    .dataframe tbody tr th:only-of-type {\n",
       "        vertical-align: middle;\n",
       "    }\n",
       "\n",
       "    .dataframe tbody tr th {\n",
       "        vertical-align: top;\n",
       "    }\n",
       "\n",
       "    .dataframe thead th {\n",
       "        text-align: right;\n",
       "    }\n",
       "</style>\n",
       "<table border=\"1\" class=\"dataframe\">\n",
       "  <thead>\n",
       "    <tr style=\"text-align: right;\">\n",
       "      <th></th>\n",
       "      <th>0</th>\n",
       "      <th>1</th>\n",
       "      <th>2</th>\n",
       "      <th>3</th>\n",
       "    </tr>\n",
       "  </thead>\n",
       "  <tbody>\n",
       "    <tr>\n",
       "      <th>1</th>\n",
       "      <td>CC</td>\n",
       "      <td>CC</td>\n",
       "      <td>2</td>\n",
       "      <td>5.9%</td>\n",
       "    </tr>\n",
       "    <tr>\n",
       "      <th>2</th>\n",
       "      <td>DCC</td>\n",
       "      <td>CCC</td>\n",
       "      <td>3</td>\n",
       "      <td>3.0%</td>\n",
       "    </tr>\n",
       "    <tr>\n",
       "      <th>3</th>\n",
       "      <td>DCCC</td>\n",
       "      <td>CDCC</td>\n",
       "      <td>4</td>\n",
       "      <td>1.8%</td>\n",
       "    </tr>\n",
       "    <tr>\n",
       "      <th>4</th>\n",
       "      <td>DCDCC</td>\n",
       "      <td>CDCCC</td>\n",
       "      <td>5</td>\n",
       "      <td>1.0%</td>\n",
       "    </tr>\n",
       "    <tr>\n",
       "      <th>5</th>\n",
       "      <td>DDDCC</td>\n",
       "      <td>CDCCC</td>\n",
       "      <td>5</td>\n",
       "      <td>0.9%</td>\n",
       "    </tr>\n",
       "    <tr>\n",
       "      <th>6</th>\n",
       "      <td>DDCC</td>\n",
       "      <td>CCCC</td>\n",
       "      <td>4</td>\n",
       "      <td>0.6%</td>\n",
       "    </tr>\n",
       "    <tr>\n",
       "      <th>7</th>\n",
       "      <td>DDDCC</td>\n",
       "      <td>CDDCC</td>\n",
       "      <td>5</td>\n",
       "      <td>0.6%</td>\n",
       "    </tr>\n",
       "    <tr>\n",
       "      <th>8</th>\n",
       "      <td>DCDCCC</td>\n",
       "      <td>CDDDCC</td>\n",
       "      <td>6</td>\n",
       "      <td>0.5%</td>\n",
       "    </tr>\n",
       "    <tr>\n",
       "      <th>9</th>\n",
       "      <td>DCDCCC</td>\n",
       "      <td>CDCDCC</td>\n",
       "      <td>6</td>\n",
       "      <td>0.5%</td>\n",
       "    </tr>\n",
       "    <tr>\n",
       "      <th>10</th>\n",
       "      <td>DDDDCC</td>\n",
       "      <td>CDDCCC</td>\n",
       "      <td>6</td>\n",
       "      <td>0.4%</td>\n",
       "    </tr>\n",
       "    <tr>\n",
       "      <th>11</th>\n",
       "      <td>DDDCCC</td>\n",
       "      <td>CDDDCC</td>\n",
       "      <td>6</td>\n",
       "      <td>0.4%</td>\n",
       "    </tr>\n",
       "    <tr>\n",
       "      <th>12</th>\n",
       "      <td>DCDDCC</td>\n",
       "      <td>CDDDCC</td>\n",
       "      <td>6</td>\n",
       "      <td>0.4%</td>\n",
       "    </tr>\n",
       "    <tr>\n",
       "      <th>13</th>\n",
       "      <td>DDCC</td>\n",
       "      <td>CDCC</td>\n",
       "      <td>4</td>\n",
       "      <td>0.3%</td>\n",
       "    </tr>\n",
       "    <tr>\n",
       "      <th>14</th>\n",
       "      <td>DDDDCC</td>\n",
       "      <td>CDDDCC</td>\n",
       "      <td>6</td>\n",
       "      <td>0.3%</td>\n",
       "    </tr>\n",
       "    <tr>\n",
       "      <th>15</th>\n",
       "      <td>DCDCDCC</td>\n",
       "      <td>CDCDCCC</td>\n",
       "      <td>7</td>\n",
       "      <td>0.3%</td>\n",
       "    </tr>\n",
       "  </tbody>\n",
       "</table>\n",
       "</div>"
      ],
      "text/plain": [
       "          0        1  2     3\n",
       "1        CC       CC  2  5.9%\n",
       "2       DCC      CCC  3  3.0%\n",
       "3      DCCC     CDCC  4  1.8%\n",
       "4     DCDCC    CDCCC  5  1.0%\n",
       "5     DDDCC    CDCCC  5  0.9%\n",
       "6      DDCC     CCCC  4  0.6%\n",
       "7     DDDCC    CDDCC  5  0.6%\n",
       "8    DCDCCC   CDDDCC  6  0.5%\n",
       "9    DCDCCC   CDCDCC  6  0.5%\n",
       "10   DDDDCC   CDDCCC  6  0.4%\n",
       "11   DDDCCC   CDDDCC  6  0.4%\n",
       "12   DCDDCC   CDDDCC  6  0.4%\n",
       "13     DDCC     CDCC  4  0.3%\n",
       "14   DDDDCC   CDDDCC  6  0.3%\n",
       "15  DCDCDCC  CDCDCCC  7  0.3%"
      ]
     },
     "execution_count": 907,
     "metadata": {},
     "output_type": "execute_result"
    }
   ],
   "source": [
    "table"
   ]
  },
  {
   "cell_type": "code",
   "execution_count": 908,
   "id": "0bb8fc6c",
   "metadata": {},
   "outputs": [
    {
     "name": "stdout",
     "output_type": "stream",
     "text": [
      "\\begin{tabular}{lllll}\n",
      "\\toprule\n",
      "{} &        0 &        1 &  2 &     3 \\\\\n",
      "\\midrule\n",
      "1  &       CC &       CC &  2 &  5.9\\% \\\\\n",
      "2  &      DCC &      CCC &  3 &  3.0\\% \\\\\n",
      "3  &     DCCC &     CDCC &  4 &  1.8\\% \\\\\n",
      "4  &    DCDCC &    CDCCC &  5 &  1.0\\% \\\\\n",
      "5  &    DDDCC &    CDCCC &  5 &  0.9\\% \\\\\n",
      "6  &     DDCC &     CCCC &  4 &  0.6\\% \\\\\n",
      "7  &    DDDCC &    CDDCC &  5 &  0.6\\% \\\\\n",
      "8  &   DCDCCC &   CDDDCC &  6 &  0.5\\% \\\\\n",
      "9  &   DCDCCC &   CDCDCC &  6 &  0.5\\% \\\\\n",
      "10 &   DDDDCC &   CDDCCC &  6 &  0.4\\% \\\\\n",
      "11 &   DDDCCC &   CDDDCC &  6 &  0.4\\% \\\\\n",
      "12 &   DCDDCC &   CDDDCC &  6 &  0.4\\% \\\\\n",
      "13 &     DDCC &     CDCC &  4 &  0.3\\% \\\\\n",
      "14 &   DDDDCC &   CDDDCC &  6 &  0.3\\% \\\\\n",
      "15 &  DCDCDCC &  CDCDCCC &  7 &  0.3\\% \\\\\n",
      "\\bottomrule\n",
      "\\end{tabular}\n",
      "\n"
     ]
    },
    {
     "name": "stderr",
     "output_type": "stream",
     "text": [
      "/var/folders/19/1t7slkb13h578dr5bl_47kf80000gp/T/ipykernel_46755/3293683267.py:1: FutureWarning: In future versions `DataFrame.to_latex` is expected to utilise the base implementation of `Styler.to_latex` for formatting and rendering. The arguments signature may therefore change. It is recommended instead to use `DataFrame.style.to_latex` which also contains additional functionality.\n",
      "  print(table.to_latex())\n"
     ]
    }
   ],
   "source": [
    "print(table.to_latex())"
   ]
  },
  {
   "cell_type": "code",
   "execution_count": 911,
   "id": "400d881a",
   "metadata": {},
   "outputs": [
    {
     "data": {
      "text/plain": [
       "[0.396,\n",
       " 0.04000000000000001,\n",
       " 0.04000000000000001,\n",
       " 0.04000000000000001,\n",
       " 0.06,\n",
       " 0.099]"
      ]
     },
     "execution_count": 911,
     "metadata": {},
     "output_type": "execute_result"
    }
   ],
   "source": [
    "probs"
   ]
  },
  {
   "cell_type": "code",
   "execution_count": 912,
   "id": "2b63cb70",
   "metadata": {},
   "outputs": [
    {
     "data": {
      "text/plain": [
       "15"
      ]
     },
     "execution_count": 912,
     "metadata": {},
     "output_type": "execute_result"
    }
   ],
   "source": [
    "len( most_common_histories)"
   ]
  },
  {
   "cell_type": "code",
   "execution_count": 913,
   "id": "a78471f5",
   "metadata": {},
   "outputs": [],
   "source": [
    "probabilities_to_paths = []\n",
    "\n",
    "\n",
    "for most_common_history in most_common_histories:\n",
    "\n",
    "    solve = [(C, C), (C, D)] + most_common_history\n",
    "\n",
    "\n",
    "    probs = []\n",
    "\n",
    "    for two_rounds_ago, one_round_ago, reaction in zip(solve, solve[1:], solve[2:]):\n",
    "        history = (two_rounds_ago, one_round_ago)\n",
    "        reversed_history = tuple([t[::-1] for t in history])\n",
    "\n",
    "        if reaction[0] == C:\n",
    "            player_one = p1._sixteen_vector[history]\n",
    "        elif reaction[0] == D:\n",
    "            player_one = 1 - p1._sixteen_vector[history]\n",
    "\n",
    "        if reaction[1] == C:\n",
    "            player_two = p2._sixteen_vector[reversed_history]\n",
    "        elif reaction[1] == D:\n",
    "            player_two = 1 - p2._sixteen_vector[reversed_history]\n",
    "\n",
    "        probs.append(player_one * player_two)\n",
    "        \n",
    "    probabilities_to_paths.append(round(np.prod(probs), 4))\n",
    "    "
   ]
  },
  {
   "cell_type": "code",
   "execution_count": 914,
   "id": "79b65a16",
   "metadata": {},
   "outputs": [
    {
     "data": {
      "text/plain": [
       "[0.0588,\n",
       " 0.0318,\n",
       " 0.0171,\n",
       " 0.0093,\n",
       " 0.0093,\n",
       " 0.0063,\n",
       " 0.0065,\n",
       " 0.005,\n",
       " 0.005,\n",
       " 0.0045,\n",
       " 0.0045,\n",
       " 0.0035,\n",
       " 0.0035,\n",
       " 0.0032,\n",
       " 0.0027]"
      ]
     },
     "execution_count": 914,
     "metadata": {},
     "output_type": "execute_result"
    }
   ],
   "source": [
    "probabilities_to_paths"
   ]
  },
  {
   "cell_type": "code",
   "execution_count": 915,
   "id": "f977f480",
   "metadata": {},
   "outputs": [
    {
     "data": {
      "text/plain": [
       "0.002700165840134401"
      ]
     },
     "execution_count": 915,
     "metadata": {},
     "output_type": "execute_result"
    }
   ],
   "source": [
    "np.prod(probs)"
   ]
  },
  {
   "cell_type": "code",
   "execution_count": null,
   "id": "2fde02ab",
   "metadata": {},
   "outputs": [],
   "source": []
  },
  {
   "cell_type": "code",
   "execution_count": 916,
   "id": "cf9d22b3",
   "metadata": {},
   "outputs": [],
   "source": [
    "prime = most_common_prime.most_common(15)"
   ]
  },
  {
   "cell_type": "code",
   "execution_count": 917,
   "id": "c5d7d236",
   "metadata": {},
   "outputs": [],
   "source": [
    "most_common_letters = [hist[0] for hist in prime]"
   ]
  },
  {
   "cell_type": "code",
   "execution_count": 918,
   "id": "8a4be98c",
   "metadata": {},
   "outputs": [],
   "source": [
    "most_common_histories = [[letters_to_states[letter] for letter in history[0]] for history in prime]"
   ]
  },
  {
   "cell_type": "code",
   "execution_count": 919,
   "id": "5175a86d",
   "metadata": {},
   "outputs": [],
   "source": [
    "length = [len(history) for history in most_common_histories]"
   ]
  },
  {
   "cell_type": "code",
   "execution_count": 920,
   "id": "8031e770",
   "metadata": {},
   "outputs": [],
   "source": [
    "frequency = [f\"{round((history[1] / (5 * 10 ** 4)) * 100, 1)}%\" for history in prime]"
   ]
  },
  {
   "cell_type": "code",
   "execution_count": 923,
   "id": "30722d87",
   "metadata": {},
   "outputs": [
    {
     "data": {
      "text/plain": [
       "14.499999999999998"
      ]
     },
     "execution_count": 923,
     "metadata": {},
     "output_type": "execute_result"
    }
   ],
   "source": [
    "sum([round((history[1] / (5 * 10 ** 4)) * 100, 1) for history in prime])"
   ]
  },
  {
   "cell_type": "code",
   "execution_count": 862,
   "id": "510c50d7",
   "metadata": {},
   "outputs": [],
   "source": [
    "player_one_rows = []\n",
    "player_two_rows = []\n",
    "\n",
    "for hist in most_common_histories:\n",
    "    player_one = ''\n",
    "    player_two = ''\n",
    "    for actions in hist:\n",
    "        player_one += f'{actions[0]}'\n",
    "        player_two += f'{actions[1]}'\n",
    "        \n",
    "    player_one_rows.append(player_one)\n",
    "    player_two_rows.append(player_two)"
   ]
  },
  {
   "cell_type": "code",
   "execution_count": 863,
   "id": "f76c5f24",
   "metadata": {},
   "outputs": [],
   "source": [
    "table = pd.DataFrame([player_one_rows, player_two_rows, length, frequency]).T"
   ]
  },
  {
   "cell_type": "code",
   "execution_count": 864,
   "id": "510be13d",
   "metadata": {},
   "outputs": [],
   "source": [
    "table.index = range(1, 16)"
   ]
  },
  {
   "cell_type": "code",
   "execution_count": 865,
   "id": "072d4ce1",
   "metadata": {},
   "outputs": [
    {
     "data": {
      "text/html": [
       "<div>\n",
       "<style scoped>\n",
       "    .dataframe tbody tr th:only-of-type {\n",
       "        vertical-align: middle;\n",
       "    }\n",
       "\n",
       "    .dataframe tbody tr th {\n",
       "        vertical-align: top;\n",
       "    }\n",
       "\n",
       "    .dataframe thead th {\n",
       "        text-align: right;\n",
       "    }\n",
       "</style>\n",
       "<table border=\"1\" class=\"dataframe\">\n",
       "  <thead>\n",
       "    <tr style=\"text-align: right;\">\n",
       "      <th></th>\n",
       "      <th>0</th>\n",
       "      <th>1</th>\n",
       "      <th>2</th>\n",
       "      <th>3</th>\n",
       "    </tr>\n",
       "  </thead>\n",
       "  <tbody>\n",
       "    <tr>\n",
       "      <th>1</th>\n",
       "      <td>CC</td>\n",
       "      <td>CC</td>\n",
       "      <td>2</td>\n",
       "      <td>5.9%</td>\n",
       "    </tr>\n",
       "    <tr>\n",
       "      <th>2</th>\n",
       "      <td>CDCC</td>\n",
       "      <td>CCCC</td>\n",
       "      <td>4</td>\n",
       "      <td>3.2%</td>\n",
       "    </tr>\n",
       "    <tr>\n",
       "      <th>3</th>\n",
       "      <td>CDCCCC</td>\n",
       "      <td>CCCDCC</td>\n",
       "      <td>6</td>\n",
       "      <td>1.6%</td>\n",
       "    </tr>\n",
       "    <tr>\n",
       "      <th>4</th>\n",
       "      <td>CDCCCDCC</td>\n",
       "      <td>CCCDCCCC</td>\n",
       "      <td>8</td>\n",
       "      <td>0.9%</td>\n",
       "    </tr>\n",
       "    <tr>\n",
       "      <th>5</th>\n",
       "      <td>DDCC</td>\n",
       "      <td>CCCC</td>\n",
       "      <td>4</td>\n",
       "      <td>0.6%</td>\n",
       "    </tr>\n",
       "    <tr>\n",
       "      <th>6</th>\n",
       "      <td>CDCCCDCCCC</td>\n",
       "      <td>CCCDCCCDCC</td>\n",
       "      <td>10</td>\n",
       "      <td>0.4%</td>\n",
       "    </tr>\n",
       "    <tr>\n",
       "      <th>7</th>\n",
       "      <td>DDCCCC</td>\n",
       "      <td>CCCDCC</td>\n",
       "      <td>6</td>\n",
       "      <td>0.3%</td>\n",
       "    </tr>\n",
       "    <tr>\n",
       "      <th>8</th>\n",
       "      <td>CDCCCC</td>\n",
       "      <td>CCDDCC</td>\n",
       "      <td>6</td>\n",
       "      <td>0.3%</td>\n",
       "    </tr>\n",
       "    <tr>\n",
       "      <th>9</th>\n",
       "      <td>DDCCCC</td>\n",
       "      <td>CCDDCC</td>\n",
       "      <td>6</td>\n",
       "      <td>0.2%</td>\n",
       "    </tr>\n",
       "    <tr>\n",
       "      <th>10</th>\n",
       "      <td>DCC</td>\n",
       "      <td>CCC</td>\n",
       "      <td>3</td>\n",
       "      <td>0.2%</td>\n",
       "    </tr>\n",
       "    <tr>\n",
       "      <th>11</th>\n",
       "      <td>CDCCCDCCCDCC</td>\n",
       "      <td>CCCDCCCDCCCC</td>\n",
       "      <td>12</td>\n",
       "      <td>0.2%</td>\n",
       "    </tr>\n",
       "    <tr>\n",
       "      <th>12</th>\n",
       "      <td>CDCCCDCC</td>\n",
       "      <td>CCDDCCCC</td>\n",
       "      <td>8</td>\n",
       "      <td>0.2%</td>\n",
       "    </tr>\n",
       "    <tr>\n",
       "      <th>13</th>\n",
       "      <td>CDCCDDCC</td>\n",
       "      <td>CCCDCCCC</td>\n",
       "      <td>8</td>\n",
       "      <td>0.2%</td>\n",
       "    </tr>\n",
       "    <tr>\n",
       "      <th>14</th>\n",
       "      <td>DDCCCDCC</td>\n",
       "      <td>CCCDCCCC</td>\n",
       "      <td>8</td>\n",
       "      <td>0.2%</td>\n",
       "    </tr>\n",
       "    <tr>\n",
       "      <th>15</th>\n",
       "      <td>DCCCC</td>\n",
       "      <td>CCDCC</td>\n",
       "      <td>5</td>\n",
       "      <td>0.1%</td>\n",
       "    </tr>\n",
       "  </tbody>\n",
       "</table>\n",
       "</div>"
      ],
      "text/plain": [
       "               0             1   2     3\n",
       "1             CC            CC   2  5.9%\n",
       "2           CDCC          CCCC   4  3.2%\n",
       "3         CDCCCC        CCCDCC   6  1.6%\n",
       "4       CDCCCDCC      CCCDCCCC   8  0.9%\n",
       "5           DDCC          CCCC   4  0.6%\n",
       "6     CDCCCDCCCC    CCCDCCCDCC  10  0.4%\n",
       "7         DDCCCC        CCCDCC   6  0.3%\n",
       "8         CDCCCC        CCDDCC   6  0.3%\n",
       "9         DDCCCC        CCDDCC   6  0.2%\n",
       "10           DCC           CCC   3  0.2%\n",
       "11  CDCCCDCCCDCC  CCCDCCCDCCCC  12  0.2%\n",
       "12      CDCCCDCC      CCDDCCCC   8  0.2%\n",
       "13      CDCCDDCC      CCCDCCCC   8  0.2%\n",
       "14      DDCCCDCC      CCCDCCCC   8  0.2%\n",
       "15         DCCCC         CCDCC   5  0.1%"
      ]
     },
     "execution_count": 865,
     "metadata": {},
     "output_type": "execute_result"
    }
   ],
   "source": [
    "table"
   ]
  },
  {
   "cell_type": "code",
   "execution_count": 866,
   "id": "899678dd",
   "metadata": {},
   "outputs": [
    {
     "name": "stdout",
     "output_type": "stream",
     "text": [
      "\\begin{tabular}{lllll}\n",
      "\\toprule\n",
      "{} &             0 &             1 &   2 &     3 \\\\\n",
      "\\midrule\n",
      "1  &            CC &            CC &   2 &  5.9\\% \\\\\n",
      "2  &          CDCC &          CCCC &   4 &  3.2\\% \\\\\n",
      "3  &        CDCCCC &        CCCDCC &   6 &  1.6\\% \\\\\n",
      "4  &      CDCCCDCC &      CCCDCCCC &   8 &  0.9\\% \\\\\n",
      "5  &          DDCC &          CCCC &   4 &  0.6\\% \\\\\n",
      "6  &    CDCCCDCCCC &    CCCDCCCDCC &  10 &  0.4\\% \\\\\n",
      "7  &        DDCCCC &        CCCDCC &   6 &  0.3\\% \\\\\n",
      "8  &        CDCCCC &        CCDDCC &   6 &  0.3\\% \\\\\n",
      "9  &        DDCCCC &        CCDDCC &   6 &  0.2\\% \\\\\n",
      "10 &           DCC &           CCC &   3 &  0.2\\% \\\\\n",
      "11 &  CDCCCDCCCDCC &  CCCDCCCDCCCC &  12 &  0.2\\% \\\\\n",
      "12 &      CDCCCDCC &      CCDDCCCC &   8 &  0.2\\% \\\\\n",
      "13 &      CDCCDDCC &      CCCDCCCC &   8 &  0.2\\% \\\\\n",
      "14 &      DDCCCDCC &      CCCDCCCC &   8 &  0.2\\% \\\\\n",
      "15 &         DCCCC &         CCDCC &   5 &  0.1\\% \\\\\n",
      "\\bottomrule\n",
      "\\end{tabular}\n",
      "\n"
     ]
    },
    {
     "name": "stderr",
     "output_type": "stream",
     "text": [
      "/var/folders/19/1t7slkb13h578dr5bl_47kf80000gp/T/ipykernel_46755/3293683267.py:1: FutureWarning: In future versions `DataFrame.to_latex` is expected to utilise the base implementation of `Styler.to_latex` for formatting and rendering. The arguments signature may therefore change. It is recommended instead to use `DataFrame.style.to_latex` which also contains additional functionality.\n",
      "  print(table.to_latex())\n"
     ]
    }
   ],
   "source": [
    "print(table.to_latex())"
   ]
  },
  {
   "cell_type": "code",
   "execution_count": 867,
   "id": "42cd2a94",
   "metadata": {},
   "outputs": [],
   "source": [
    "probabilities_to_paths = []\n",
    "\n",
    "\n",
    "for most_common_history in most_common_histories:\n",
    "\n",
    "    solve = [(C, C), (C, D)] + most_common_history\n",
    "\n",
    "\n",
    "    probs = []\n",
    "\n",
    "    for two_rounds_ago, one_round_ago, reaction in zip(solve, solve[1:], solve[2:]):\n",
    "        history = (two_rounds_ago, one_round_ago)\n",
    "        reversed_history = tuple([t[::-1] for t in history])\n",
    "\n",
    "        if reaction[0] == C:\n",
    "            player_one = p1_prime._sixteen_vector[history]\n",
    "        elif reaction[0] == D:\n",
    "            player_one = 1 - p1_prime._sixteen_vector[history]\n",
    "\n",
    "        if reaction[1] == C:\n",
    "            player_two = p2_prime._sixteen_vector[reversed_history]\n",
    "        elif reaction[1] == D:\n",
    "            player_two = 1 - p2_prime._sixteen_vector[reversed_history]\n",
    "\n",
    "        probs.append(player_one * player_two)\n",
    "        \n",
    "    probabilities_to_paths.append(round(np.prod(probs), 4))\n",
    "    "
   ]
  },
  {
   "cell_type": "code",
   "execution_count": 868,
   "id": "65235b8a",
   "metadata": {},
   "outputs": [
    {
     "data": {
      "text/plain": [
       "[0.0588,\n",
       " 0.0311,\n",
       " 0.0165,\n",
       " 0.0087,\n",
       " 0.0063,\n",
       " 0.0046,\n",
       " 0.0033,\n",
       " 0.0033,\n",
       " 0.0024,\n",
       " 0.0024,\n",
       " 0.0024,\n",
       " 0.0018,\n",
       " 0.0018,\n",
       " 0.0018,\n",
       " 0.0012]"
      ]
     },
     "execution_count": 868,
     "metadata": {},
     "output_type": "execute_result"
    }
   ],
   "source": [
    "probabilities_to_paths"
   ]
  },
  {
   "cell_type": "markdown",
   "id": "6bc51189",
   "metadata": {},
   "source": [
    "# Cycles"
   ]
  },
  {
   "cell_type": "markdown",
   "id": "ac51adb1",
   "metadata": {},
   "source": [
    "Let's transform the histories to letters. More specifically,\n",
    "\n",
    "- (C, C) -> A\n",
    "- (C, D) -> B\n",
    "- (D, C) -> C\n",
    "- (D, D) -> D"
   ]
  },
  {
   "cell_type": "code",
   "execution_count": 569,
   "id": "7e3d92db",
   "metadata": {},
   "outputs": [],
   "source": [
    "states_to_letters = {(C, C): \"A\", (C, D): \"B\", (D, C): \"C\", (D, D): \"D\"}"
   ]
  },
  {
   "cell_type": "code",
   "execution_count": 570,
   "id": "afa9e51a",
   "metadata": {},
   "outputs": [],
   "source": [
    "results_player_letters = [[states_to_letters[state] for state in states] \n",
    "                          for states in results_player]"
   ]
  },
  {
   "cell_type": "markdown",
   "id": "526de1c7",
   "metadata": {},
   "source": [
    "Let's write the function for getting cycles"
   ]
  },
  {
   "cell_type": "code",
   "execution_count": 571,
   "id": "626207c3",
   "metadata": {},
   "outputs": [],
   "source": [
    "def get_cycles(result):\n",
    "\n",
    "    overall_cycles = []\n",
    "\n",
    "    source = [\"A\", \"A\"]\n",
    "\n",
    "    current_cycle = []\n",
    "\n",
    "    cycle_happening = False\n",
    "\n",
    "    for i, turn in enumerate(result[:-1]):\n",
    "\n",
    "        state = [turn, result[i + 1]]\n",
    "\n",
    "        if state == source and cycle_happening == False:\n",
    "            cycle_happening = True\n",
    "\n",
    "            current_cycle = [state]\n",
    "\n",
    "        elif state == source and len(current_cycle) == 1:\n",
    "            assert cycle_happening == True\n",
    "            current_cycle = [state]\n",
    "\n",
    "\n",
    "        elif state == source and len(current_cycle) > 1:\n",
    "            assert cycle_happening == True\n",
    "\n",
    "            current_cycle.append(state)\n",
    "            overall_cycles.append(current_cycle)\n",
    "\n",
    "            current_cycle = []\n",
    "            cycle_happening = False\n",
    "\n",
    "\n",
    "        elif state != source and cycle_happening == True:\n",
    "            assert cycle_happening == True\n",
    "            current_cycle.append(state)\n",
    "        else:\n",
    "            pass\n",
    "    return overall_cycles"
   ]
  },
  {
   "cell_type": "markdown",
   "id": "8f8d6900",
   "metadata": {},
   "source": [
    "Let's test it."
   ]
  },
  {
   "cell_type": "code",
   "execution_count": 572,
   "id": "9439a885",
   "metadata": {},
   "outputs": [
    {
     "data": {
      "text/plain": [
       "[]"
      ]
     },
     "execution_count": 572,
     "metadata": {},
     "output_type": "execute_result"
    }
   ],
   "source": [
    "result = [\"A\", \"A\", \"A\"]\n",
    "\n",
    "get_cycles(result)"
   ]
  },
  {
   "cell_type": "code",
   "execution_count": 573,
   "id": "86235f8a",
   "metadata": {},
   "outputs": [
    {
     "data": {
      "text/plain": [
       "[]"
      ]
     },
     "execution_count": 573,
     "metadata": {},
     "output_type": "execute_result"
    }
   ],
   "source": [
    "result = [\"A\", \"A\", \"B\", \"D\"]\n",
    "\n",
    "get_cycles(result)"
   ]
  },
  {
   "cell_type": "code",
   "execution_count": 574,
   "id": "75b12fca",
   "metadata": {},
   "outputs": [
    {
     "data": {
      "text/plain": [
       "[[['A', 'A'], ['A', 'B'], ['B', 'D'], ['D', 'A'], ['A', 'A']]]"
      ]
     },
     "execution_count": 574,
     "metadata": {},
     "output_type": "execute_result"
    }
   ],
   "source": [
    "result = [\"A\", \"A\", \"B\", \"D\", \"A\", \"A\", \"C\", \"D\",]\n",
    "\n",
    "get_cycles(result)"
   ]
  },
  {
   "cell_type": "code",
   "execution_count": 575,
   "id": "d4d3f296",
   "metadata": {},
   "outputs": [
    {
     "data": {
      "text/plain": [
       "[[['A', 'A'], ['A', 'B'], ['B', 'D'], ['D', 'A'], ['A', 'A']]]"
      ]
     },
     "execution_count": 575,
     "metadata": {},
     "output_type": "execute_result"
    }
   ],
   "source": [
    "result = [\"A\", \"A\", \"B\", \"D\", \"A\", \"A\", \"C\", \"D\", \"A\", \"A\", \"B\", \"D\",]\n",
    "\n",
    "get_cycles(result)"
   ]
  },
  {
   "cell_type": "code",
   "execution_count": 576,
   "id": "4d9af5ec",
   "metadata": {},
   "outputs": [
    {
     "data": {
      "text/plain": [
       "[[['A', 'A'], ['A', 'B'], ['B', 'D'], ['D', 'A'], ['A', 'A']],\n",
       " [['A', 'A'], ['A', 'B'], ['B', 'D'], ['D', 'A'], ['A', 'A']]]"
      ]
     },
     "execution_count": 576,
     "metadata": {},
     "output_type": "execute_result"
    }
   ],
   "source": [
    "result = [\"A\", \"A\", \"B\", \"D\", \"A\", \"A\", \"C\", \"D\", \"A\", \"A\", \"B\", \"D\", \"A\", \"A\",]\n",
    "\n",
    "get_cycles(result)"
   ]
  },
  {
   "cell_type": "markdown",
   "id": "f6c5b6d9",
   "metadata": {},
   "source": [
    "Let's transform both results."
   ]
  },
  {
   "cell_type": "code",
   "execution_count": 577,
   "id": "33107098",
   "metadata": {},
   "outputs": [],
   "source": [
    "results_prime_player_letters = [[states_to_letters[state] for state in states] \n",
    "                          for states in results_prime_player]"
   ]
  },
  {
   "cell_type": "markdown",
   "id": "02230c99",
   "metadata": {},
   "source": [
    "Let's get the cycles."
   ]
  },
  {
   "cell_type": "code",
   "execution_count": 578,
   "id": "feb1873d",
   "metadata": {},
   "outputs": [],
   "source": [
    "cycles_player = []\n",
    "\n",
    "for result in results_player_letters:\n",
    "    cycles = get_cycles(result)\n",
    "    cycles_player.append(cycles)"
   ]
  },
  {
   "cell_type": "code",
   "execution_count": 579,
   "id": "f6d5389d",
   "metadata": {},
   "outputs": [],
   "source": [
    "# [len(cycle) for cycle in cycles_player]"
   ]
  },
  {
   "cell_type": "code",
   "execution_count": 580,
   "id": "edf54b70",
   "metadata": {},
   "outputs": [
    {
     "data": {
      "text/plain": [
       "268563"
      ]
     },
     "execution_count": 580,
     "metadata": {},
     "output_type": "execute_result"
    }
   ],
   "source": [
    "sum([len(cycle) for cycle in cycles_player])"
   ]
  },
  {
   "cell_type": "code",
   "execution_count": 581,
   "id": "b28647d6",
   "metadata": {},
   "outputs": [],
   "source": [
    "flatten_cycles_player = [x for xs in cycles_player for x in xs]"
   ]
  },
  {
   "cell_type": "code",
   "execution_count": 582,
   "id": "e4366362",
   "metadata": {
    "scrolled": true
   },
   "outputs": [
    {
     "data": {
      "text/plain": [
       "24.822946571195587"
      ]
     },
     "execution_count": 582,
     "metadata": {},
     "output_type": "execute_result"
    }
   ],
   "source": [
    "np.mean([len(cycle) for cycle in flatten_cycles_player])"
   ]
  },
  {
   "cell_type": "markdown",
   "id": "b0c56292",
   "metadata": {},
   "source": [
    "Let's get the cycles for prime player."
   ]
  },
  {
   "cell_type": "code",
   "execution_count": 583,
   "id": "06acc692",
   "metadata": {},
   "outputs": [],
   "source": [
    "cycles_prime_player = []\n",
    "\n",
    "for result in results_prime_player_letters:\n",
    "    cycles = get_cycles(result)\n",
    "    cycles_prime_player.append(cycles)"
   ]
  },
  {
   "cell_type": "code",
   "execution_count": 584,
   "id": "691b3a73",
   "metadata": {},
   "outputs": [
    {
     "data": {
      "text/plain": [
       "158347"
      ]
     },
     "execution_count": 584,
     "metadata": {},
     "output_type": "execute_result"
    }
   ],
   "source": [
    "sum([len(cycle) for cycle in cycles_prime_player])"
   ]
  },
  {
   "cell_type": "code",
   "execution_count": 585,
   "id": "64925145",
   "metadata": {},
   "outputs": [],
   "source": [
    "flatten_cycles_prime_player = [x for xs in cycles_prime_player for x in xs]"
   ]
  },
  {
   "cell_type": "code",
   "execution_count": 586,
   "id": "8d59ed55",
   "metadata": {
    "scrolled": true
   },
   "outputs": [
    {
     "data": {
      "text/plain": [
       "75.36901235893323"
      ]
     },
     "execution_count": 586,
     "metadata": {},
     "output_type": "execute_result"
    }
   ],
   "source": [
    "np.mean([len(cycle) for cycle in flatten_cycles_prime_player])"
   ]
  },
  {
   "cell_type": "code",
   "execution_count": 587,
   "id": "aed05bfb",
   "metadata": {},
   "outputs": [
    {
     "data": {
      "image/png": "[encoded data removed]",
      "text/plain": [
       "<Figure size 640x480 with 1 Axes>"
      ]
     },
     "metadata": {},
     "output_type": "display_data"
    }
   ],
   "source": [
    "plt.hist([len(cycle) for cycle in flatten_cycles_prime_player]);"
   ]
  },
  {
   "cell_type": "code",
   "execution_count": 588,
   "id": "346341ff",
   "metadata": {},
   "outputs": [
    {
     "data": {
      "image/png": "[encoded data removed]",
      "text/plain": [
       "<Figure size 640x480 with 1 Axes>"
      ]
     },
     "metadata": {},
     "output_type": "display_data"
    }
   ],
   "source": [
    "plt.hist([len(cycle) for cycle in flatten_cycles_player]);"
   ]
  },
  {
   "cell_type": "code",
   "execution_count": 589,
   "id": "058b44ac",
   "metadata": {},
   "outputs": [
    {
     "data": {
      "image/png": "[encoded data removed]",
      "text/plain": [
       "<Figure size 640x480 with 1 Axes>"
      ]
     },
     "metadata": {},
     "output_type": "display_data"
    }
   ],
   "source": [
    "plt.boxplot([[len(cycle) for cycle in flatten_cycles_prime_player],\n",
    "            [len(cycle) for cycle in flatten_cycles_player]]);\n"
   ]
  },
  {
   "cell_type": "code",
   "execution_count": 590,
   "id": "c9888e79",
   "metadata": {},
   "outputs": [],
   "source": [
    "c = Counter([len(cycle) for cycle in flatten_cycles_prime_player])"
   ]
  },
  {
   "cell_type": "code",
   "execution_count": 591,
   "id": "a5a3a287",
   "metadata": {},
   "outputs": [
    {
     "data": {
      "text/plain": [
       "[(4, 9235), (6, 6035), (8, 4300), (10, 3460), (12, 2707)]"
      ]
     },
     "execution_count": 591,
     "metadata": {},
     "output_type": "execute_result"
    }
   ],
   "source": [
    "c.most_common(5)"
   ]
  },
  {
   "cell_type": "code",
   "execution_count": 592,
   "id": "7bb74f9d",
   "metadata": {},
   "outputs": [],
   "source": [
    "c = Counter([len(cycle) for cycle in flatten_cycles_player])"
   ]
  },
  {
   "cell_type": "code",
   "execution_count": 593,
   "id": "7e9eb320",
   "metadata": {},
   "outputs": [
    {
     "data": {
      "text/plain": [
       "[(4, 15563), (8, 10521), (7, 10009), (9, 9952), (10, 9689)]"
      ]
     },
     "execution_count": 593,
     "metadata": {},
     "output_type": "execute_result"
    }
   ],
   "source": [
    "c.most_common(5)"
   ]
  },
  {
   "cell_type": "markdown",
   "id": "90ba0991",
   "metadata": {},
   "source": [
    "Let's write it as sequence so we can find duplicates and the most common cycles."
   ]
  },
  {
   "cell_type": "code",
   "execution_count": 594,
   "id": "558b6544",
   "metadata": {},
   "outputs": [],
   "source": [
    "sequences_player = []\n",
    "\n",
    "for cycle in flatten_cycles_player:\n",
    "\n",
    "    sequence = \"-\".join([\"\".join(state) for state in cycle])\n",
    "    \n",
    "    sequences_player.append(sequence)"
   ]
  },
  {
   "cell_type": "code",
   "execution_count": 595,
   "id": "7d025679",
   "metadata": {},
   "outputs": [
    {
     "data": {
      "text/plain": [
       "268563"
      ]
     },
     "execution_count": 595,
     "metadata": {},
     "output_type": "execute_result"
    }
   ],
   "source": [
    "len(sequences_player)"
   ]
  },
  {
   "cell_type": "code",
   "execution_count": 596,
   "id": "1c8f6e1e",
   "metadata": {},
   "outputs": [],
   "source": [
    "count = Counter(sequences_player)"
   ]
  },
  {
   "cell_type": "code",
   "execution_count": 597,
   "id": "429b4841",
   "metadata": {},
   "outputs": [
    {
     "data": {
      "text/plain": [
       "[('AA-AC-CA-AA', 7868),\n",
       " ('AA-AB-BA-AA', 7688),\n",
       " ('AA-AB-BC-CA-AA', 4292),\n",
       " ('AA-AC-CB-BA-AA', 4165),\n",
       " ('AA-AC-CB-BC-CA-AA', 2274),\n",
       " ('AA-AB-BC-CB-BA-AA', 2247),\n",
       " ('AA-AC-CB-BD-DB-BA-AA', 1257),\n",
       " ('AA-AB-BC-CD-DC-CA-AA', 1252),\n",
       " ('AA-AC-CB-BC-CB-BA-AA', 1241),\n",
       " ('AA-AB-BC-CB-BC-CA-AA', 1231),\n",
       " ('AA-AB-BC-CD-DD-DA-AA', 921),\n",
       " ('AA-AC-CB-BD-DD-DA-AA', 893),\n",
       " ('AA-AC-CB-BB-BA-AA', 825),\n",
       " ('AA-AB-BC-CC-CA-AA', 816),\n",
       " ('AA-AC-CB-BC-CD-DC-CA-AA', 701)]"
      ]
     },
     "execution_count": 597,
     "metadata": {},
     "output_type": "execute_result"
    }
   ],
   "source": [
    "count.most_common(15)"
   ]
  },
  {
   "cell_type": "code",
   "execution_count": 602,
   "id": "43c29735",
   "metadata": {},
   "outputs": [
    {
     "data": {
      "text/plain": [
       "171291"
      ]
     },
     "execution_count": 602,
     "metadata": {},
     "output_type": "execute_result"
    }
   ],
   "source": [
    "len(count.keys())"
   ]
  },
  {
   "cell_type": "code",
   "execution_count": 603,
   "id": "3e68377a",
   "metadata": {},
   "outputs": [
    {
     "data": {
      "text/plain": [
       "268563"
      ]
     },
     "execution_count": 603,
     "metadata": {},
     "output_type": "execute_result"
    }
   ],
   "source": [
    "len(sequences_player)"
   ]
  },
  {
   "cell_type": "code",
   "execution_count": 610,
   "id": "c886f565",
   "metadata": {},
   "outputs": [
    {
     "data": {
      "text/plain": [
       "False"
      ]
     },
     "execution_count": 610,
     "metadata": {},
     "output_type": "execute_result"
    }
   ],
   "source": [
    "'AA-AC' == sequences_player[0][:5]"
   ]
  },
  {
   "cell_type": "code",
   "execution_count": 611,
   "id": "1c8bcf64",
   "metadata": {},
   "outputs": [],
   "source": [
    "sequences_where_AC_happends = [seq for seq in sequences_player if seq[:5] == 'AA-AC']"
   ]
  },
  {
   "cell_type": "code",
   "execution_count": 612,
   "id": "8f2fc7ac",
   "metadata": {},
   "outputs": [
    {
     "data": {
      "text/plain": [
       "133914"
      ]
     },
     "execution_count": 612,
     "metadata": {},
     "output_type": "execute_result"
    }
   ],
   "source": [
    "len(sequences_where_AC_happends)"
   ]
  },
  {
   "cell_type": "code",
   "execution_count": 613,
   "id": "89c1eac2",
   "metadata": {},
   "outputs": [
    {
     "data": {
      "text/plain": [
       "5.925444688382096"
      ]
     },
     "execution_count": 613,
     "metadata": {},
     "output_type": "execute_result"
    }
   ],
   "source": [
    "(7935 / len(sequences_where_AC_happends)) * 100"
   ]
  },
  {
   "cell_type": "code",
   "execution_count": 80,
   "id": "62e98598",
   "metadata": {},
   "outputs": [
    {
     "data": {
      "text/plain": [
       "1.5663422703766077"
      ]
     },
     "execution_count": 80,
     "metadata": {},
     "output_type": "execute_result"
    }
   ],
   "source": [
    "(4204  / len(sequences_player)) * 100"
   ]
  },
  {
   "cell_type": "code",
   "execution_count": 81,
   "id": "0c4e1931",
   "metadata": {},
   "outputs": [
    {
     "data": {
      "text/plain": [
       "0.8476281315667893"
      ]
     },
     "execution_count": 81,
     "metadata": {},
     "output_type": "execute_result"
    }
   ],
   "source": [
    "(2275 / len(sequences_player)) * 100"
   ]
  },
  {
   "cell_type": "code",
   "execution_count": 92,
   "id": "e168b59e",
   "metadata": {},
   "outputs": [],
   "source": [
    "sequences_prime_player = []\n",
    "\n",
    "for cycle in flatten_cycles_prime_player:\n",
    "\n",
    "    sequence = \"-\".join([\"\".join(state) for state in cycle])\n",
    "    \n",
    "    sequences_prime_player.append(sequence)"
   ]
  },
  {
   "cell_type": "code",
   "execution_count": 93,
   "id": "1af28118",
   "metadata": {},
   "outputs": [
    {
     "data": {
      "text/plain": [
       "158095"
      ]
     },
     "execution_count": 93,
     "metadata": {},
     "output_type": "execute_result"
    }
   ],
   "source": [
    "len(sequences_prime_player)"
   ]
  },
  {
   "cell_type": "code",
   "execution_count": 94,
   "id": "80b82bdc",
   "metadata": {},
   "outputs": [],
   "source": [
    "count_prime = Counter(sequences_prime_player)"
   ]
  },
  {
   "cell_type": "code",
   "execution_count": 95,
   "id": "024381f4",
   "metadata": {},
   "outputs": [
    {
     "data": {
      "text/plain": [
       "[('AA-AC-CA-AA', 4643),\n",
       " ('AA-AB-BA-AA', 4553),\n",
       " ('AA-AC-CA-AB-BA-AA', 2450),\n",
       " ('AA-AB-BA-AC-CA-AA', 2425),\n",
       " ('AA-AC-CA-AB-BA-AC-CA-AA', 1296),\n",
       " ('AA-AB-BA-AC-CA-AB-BA-AA', 1272),\n",
       " ('AA-AC-CA-AB-BA-AC-CA-AB-BA-AA', 687),\n",
       " ('AA-AB-BA-AC-CA-AB-BA-AC-CA-AA', 676),\n",
       " ('AA-AC-CB-BB-BA-AA', 535),\n",
       " ('AA-AB-BC-CC-CA-AA', 523),\n",
       " ('AA-AB-BA-AC-CA-AB-BA-AC-CA-AB-BA-AA', 373),\n",
       " ('AA-AC-CA-AB-BA-AC-CA-AB-BA-AC-CA-AA', 369),\n",
       " ('AA-AB-BC-CC-CA-AB-BA-AA', 273),\n",
       " ('AA-AC-CA-AB-BC-CC-CA-AA', 254),\n",
       " ('AA-AC-CB-BB-BA-AC-CA-AA', 253)]"
      ]
     },
     "execution_count": 95,
     "metadata": {},
     "output_type": "execute_result"
    }
   ],
   "source": [
    "count_prime.most_common(15)"
   ]
  },
  {
   "cell_type": "code",
   "execution_count": 936,
   "id": "e402e583",
   "metadata": {},
   "outputs": [
    {
     "data": {
      "text/plain": [
       "14.499999999999998"
      ]
     },
     "execution_count": 936,
     "metadata": {},
     "output_type": "execute_result"
    }
   ],
   "source": [
    "5.9 + 3.2 + 1.6 + .9 + .6 + .4 + .3 + .3 + .2 + .2 + .2 +.2 + .2 + .2 + .1"
   ]
  },
  {
   "cell_type": "code",
   "execution_count": 97,
   "id": "8b1b8eb3",
   "metadata": {},
   "outputs": [
    {
     "data": {
      "text/plain": [
       "1.5338878522407413"
      ]
     },
     "execution_count": 97,
     "metadata": {},
     "output_type": "execute_result"
    }
   ],
   "source": [
    "(2425 / len(sequences_prime_player)) * 100"
   ]
  },
  {
   "cell_type": "code",
   "execution_count": 98,
   "id": "1ecff120",
   "metadata": {},
   "outputs": [
    {
     "data": {
      "text/plain": [
       "0.8045795249691641"
      ]
     },
     "execution_count": 98,
     "metadata": {},
     "output_type": "execute_result"
    }
   ],
   "source": [
    "(1272 / len(sequences_prime_player)) * 100"
   ]
  },
  {
   "cell_type": "code",
   "execution_count": null,
   "id": "844ca873",
   "metadata": {},
   "outputs": [],
   "source": []
  }
 ],
 "metadata": {
  "kernelspec": {
   "display_name": "Python 3",
   "language": "python",
   "name": "python3"
  },
  "language_info": {
   "codemirror_mode": {
    "name": "ipython",
    "version": 3
   },
   "file_extension": ".py",
   "mimetype": "text/x-python",
   "name": "python",
   "nbconvert_exporter": "python",
   "pygments_lexer": "ipython3",
   "version": "3.11.3"
  }
 },
 "nbformat": 4,
 "nbformat_minor": 5
}
