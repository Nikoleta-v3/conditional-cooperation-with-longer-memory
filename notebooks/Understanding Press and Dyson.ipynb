{
 "cells": [
  {
   "cell_type": "code",
   "execution_count": 1,
   "id": "caa48d5e",
   "metadata": {},
   "outputs": [],
   "source": [
    "import sympy as sym\n",
    "\n",
    "import repeated_play"
   ]
  },
  {
   "cell_type": "code",
   "execution_count": 2,
   "id": "1282de21",
   "metadata": {},
   "outputs": [],
   "source": [
    "pcc, pcd, pdc, pdd = sym.symbols(\"p_{CC}, p_{CD}, p_{DC}, p_{DD}\")"
   ]
  },
  {
   "cell_type": "code",
   "execution_count": 3,
   "id": "577ccd58",
   "metadata": {},
   "outputs": [],
   "source": [
    "qcc, qcd, qdc, qdd = sym.symbols(\"q_{CC}, q_{CD}, q_{DC}, q_{DD}\")"
   ]
  },
  {
   "cell_type": "code",
   "execution_count": 6,
   "id": "708a2405",
   "metadata": {},
   "outputs": [],
   "source": [
    "R, S, T, P = sym.symbols(\"R, S, T, P\")"
   ]
  },
  {
   "cell_type": "code",
   "execution_count": 32,
   "id": "fe3c4c88",
   "metadata": {},
   "outputs": [],
   "source": [
    "M = repeated_play.transition_matrix_repeated_game([pcc, pcd, pdc, pdd],\n",
    "                                                  [qcc, qcd, qdc, qdd],\n",
    "                                                 memory=\"one\", analytical=True)"
   ]
  },
  {
   "cell_type": "code",
   "execution_count": 25,
   "id": "aee51b09",
   "metadata": {},
   "outputs": [],
   "source": [
    "ss = repeated_play.stationary_distribution(M, analytical=True)"
   ]
  },
  {
   "cell_type": "code",
   "execution_count": 26,
   "id": "a465e752",
   "metadata": {},
   "outputs": [],
   "source": [
    "expr = sum(ss @ sym.Matrix([R, S, T, P]))"
   ]
  },
  {
   "cell_type": "code",
   "execution_count": 27,
   "id": "0a331b0d",
   "metadata": {},
   "outputs": [],
   "source": [
    "expr = expr.factor()"
   ]
  },
  {
   "cell_type": "code",
   "execution_count": 52,
   "id": "6a888107",
   "metadata": {},
   "outputs": [],
   "source": [
    "new_M = M.copy() - sym.eye(4, 4)"
   ]
  },
  {
   "cell_type": "code",
   "execution_count": 57,
   "id": "0c78c775",
   "metadata": {},
   "outputs": [
    {
     "data": {
      "text/latex": [
       "$\\displaystyle \\left[\\begin{matrix}p_{CC} q_{CC} + p_{CC} \\left(1 - q_{CC}\\right) - 1\\\\p_{CD} q_{DC} + p_{CD} \\left(1 - q_{DC}\\right) - 1\\\\p_{DC} q_{CD} + p_{DC} \\left(1 - q_{CD}\\right)\\\\p_{DD} q_{DD} + p_{DD} \\left(1 - q_{DD}\\right)\\end{matrix}\\right]$"
      ],
      "text/plain": [
       "Matrix([\n",
       "[p_{CC}*q_{CC} + p_{CC}*(1 - q_{CC}) - 1],\n",
       "[p_{CD}*q_{DC} + p_{CD}*(1 - q_{DC}) - 1],\n",
       "[    p_{DC}*q_{CD} + p_{DC}*(1 - q_{CD})],\n",
       "[    p_{DD}*q_{DD} + p_{DD}*(1 - q_{DD})]])"
      ]
     },
     "execution_count": 57,
     "metadata": {},
     "output_type": "execute_result"
    }
   ],
   "source": [
    "new_M[:, 0] + new_M[:, 1] "
   ]
  },
  {
   "cell_type": "code",
   "execution_count": 58,
   "id": "d35448f7",
   "metadata": {},
   "outputs": [],
   "source": [
    "for i in range(4):\n",
    "    new_M[i, 1] = (new_M[i, 1] + new_M[i, 0]).factor()\n",
    "    new_M[i, 2] = (new_M[i, 2] + new_M[i, 0]).factor()"
   ]
  },
  {
   "cell_type": "code",
   "execution_count": 61,
   "id": "f158a5d7",
   "metadata": {},
   "outputs": [],
   "source": [
    "new_M[:, 3] = sym.Matrix([R, S, T, P])"
   ]
  },
  {
   "cell_type": "code",
   "execution_count": 66,
   "id": "919f6289",
   "metadata": {},
   "outputs": [],
   "source": [
    "new_M2 = new_M.copy()\n",
    "\n",
    "new_M2[:, 3] = sym.Matrix([1, 1, 1, 1])"
   ]
  },
  {
   "cell_type": "code",
   "execution_count": 67,
   "id": "1e12c17d",
   "metadata": {},
   "outputs": [],
   "source": [
    "expr2 = new_M.det() / new_M2.det()"
   ]
  },
  {
   "cell_type": "code",
   "execution_count": 68,
   "id": "57410de0",
   "metadata": {},
   "outputs": [],
   "source": [
    "diff = expr - expr2"
   ]
  },
  {
   "cell_type": "code",
   "execution_count": 69,
   "id": "229f7047",
   "metadata": {
    "scrolled": true
   },
   "outputs": [
    {
     "data": {
      "text/latex": [
       "$\\displaystyle 0$"
      ],
      "text/plain": [
       "0"
      ]
     },
     "execution_count": 69,
     "metadata": {},
     "output_type": "execute_result"
    }
   ],
   "source": [
    "diff.factor()"
   ]
  },
  {
   "cell_type": "markdown",
   "id": "7c5e4244",
   "metadata": {},
   "source": [
    "### With errors"
   ]
  },
  {
   "cell_type": "code",
   "execution_count": 199,
   "id": "186acbdf",
   "metadata": {},
   "outputs": [],
   "source": [
    "epsilon = sym.symbols(\"\\epsilon\")"
   ]
  },
  {
   "cell_type": "code",
   "execution_count": 200,
   "id": "fdf4c680",
   "metadata": {},
   "outputs": [],
   "source": [
    "strategy = (sym.ones(4, 1) - sym.Matrix([1, pcd, pdc, pdd])) * epsilon + sym.Matrix([1, pcd, pdc, pdd]) * (1 - epsilon)"
   ]
  },
  {
   "cell_type": "code",
   "execution_count": 201,
   "id": "2768cde5",
   "metadata": {},
   "outputs": [],
   "source": [
    "strategy = list(strategy.T)"
   ]
  },
  {
   "cell_type": "code",
   "execution_count": 202,
   "id": "9160d9fb",
   "metadata": {},
   "outputs": [],
   "source": [
    "coplayer = (sym.ones(4, 1) - sym.Matrix([1, qcd, qdc, qdd])) * epsilon + sym.Matrix([1, qcd, qdc, qdd]) * (1 - epsilon)"
   ]
  },
  {
   "cell_type": "code",
   "execution_count": 203,
   "id": "6ba2dc18",
   "metadata": {},
   "outputs": [],
   "source": [
    "coplayer = list(coplayer.T)"
   ]
  },
  {
   "cell_type": "code",
   "execution_count": 204,
   "id": "0748c64d",
   "metadata": {},
   "outputs": [],
   "source": [
    "M = repeated_play.transition_matrix_repeated_game(strategy, coplayer,\n",
    "                                                 memory=\"one\", analytical=True)"
   ]
  },
  {
   "cell_type": "code",
   "execution_count": 205,
   "id": "b8f283e0",
   "metadata": {},
   "outputs": [],
   "source": [
    "ss = repeated_play.stationary_distribution(M, analytical=True)"
   ]
  },
  {
   "cell_type": "code",
   "execution_count": 206,
   "id": "ac5573f3",
   "metadata": {},
   "outputs": [],
   "source": [
    "expr = sum(ss @ sym.Matrix([R, S, T, P]))"
   ]
  },
  {
   "cell_type": "code",
   "execution_count": 207,
   "id": "db7737fe",
   "metadata": {},
   "outputs": [],
   "source": [
    "expr = expr.factor()"
   ]
  },
  {
   "cell_type": "code",
   "execution_count": 208,
   "id": "583965d5",
   "metadata": {},
   "outputs": [],
   "source": [
    "new_M = M.copy() - sym.eye(4, 4)"
   ]
  },
  {
   "cell_type": "code",
   "execution_count": 209,
   "id": "a3b5d8c6",
   "metadata": {},
   "outputs": [],
   "source": [
    "for i in range(4):\n",
    "    new_M[i, 1] = (new_M[i, 1] + new_M[i, 0]).factor()\n",
    "    new_M[i, 2] = (new_M[i, 2] + new_M[i, 0]).factor()"
   ]
  },
  {
   "cell_type": "code",
   "execution_count": 210,
   "id": "8fe92a32",
   "metadata": {},
   "outputs": [],
   "source": [
    "new_M[:, 3] = sym.Matrix([R, S, T, P])"
   ]
  },
  {
   "cell_type": "code",
   "execution_count": 211,
   "id": "e62164f1",
   "metadata": {},
   "outputs": [],
   "source": [
    "new_M2 = new_M.copy()\n",
    "\n",
    "new_M2[:, 3] = sym.Matrix([1, 1, 1, 1])"
   ]
  },
  {
   "cell_type": "code",
   "execution_count": 212,
   "id": "5a39fa7d",
   "metadata": {},
   "outputs": [
    {
     "data": {
      "text/latex": [
       "$\\displaystyle \\left[\\begin{matrix}\\left(1 - \\epsilon\\right)^{2} - 1 & - \\epsilon & - \\epsilon & R\\\\\\left(\\epsilon \\left(1 - p_{CD}\\right) + p_{CD} \\left(1 - \\epsilon\\right)\\right) \\left(\\epsilon \\left(1 - q_{DC}\\right) + q_{DC} \\left(1 - \\epsilon\\right)\\right) & - 2 \\epsilon p_{CD} + \\epsilon + p_{CD} - 1 & - 2 \\epsilon q_{DC} + \\epsilon + q_{DC} & S\\\\\\left(\\epsilon \\left(1 - p_{DC}\\right) + p_{DC} \\left(1 - \\epsilon\\right)\\right) \\left(\\epsilon \\left(1 - q_{CD}\\right) + q_{CD} \\left(1 - \\epsilon\\right)\\right) & - 2 \\epsilon p_{DC} + \\epsilon + p_{DC} & - 2 \\epsilon q_{CD} + \\epsilon + q_{CD} - 1 & T\\\\\\left(\\epsilon \\left(1 - p_{DD}\\right) + p_{DD} \\left(1 - \\epsilon\\right)\\right) \\left(\\epsilon \\left(1 - q_{DD}\\right) + q_{DD} \\left(1 - \\epsilon\\right)\\right) & - 2 \\epsilon p_{DD} + \\epsilon + p_{DD} & - 2 \\epsilon q_{DD} + \\epsilon + q_{DD} & P\\end{matrix}\\right]$"
      ],
      "text/plain": [
       "Matrix([\n",
       "[                                                                          (1 - \\epsilon)**2 - 1,                                  -\\epsilon,                                  -\\epsilon, R],\n",
       "[(\\epsilon*(1 - p_{CD}) + p_{CD}*(1 - \\epsilon))*(\\epsilon*(1 - q_{DC}) + q_{DC}*(1 - \\epsilon)), -2*\\epsilon*p_{CD} + \\epsilon + p_{CD} - 1,     -2*\\epsilon*q_{DC} + \\epsilon + q_{DC}, S],\n",
       "[(\\epsilon*(1 - p_{DC}) + p_{DC}*(1 - \\epsilon))*(\\epsilon*(1 - q_{CD}) + q_{CD}*(1 - \\epsilon)),     -2*\\epsilon*p_{DC} + \\epsilon + p_{DC}, -2*\\epsilon*q_{CD} + \\epsilon + q_{CD} - 1, T],\n",
       "[(\\epsilon*(1 - p_{DD}) + p_{DD}*(1 - \\epsilon))*(\\epsilon*(1 - q_{DD}) + q_{DD}*(1 - \\epsilon)),     -2*\\epsilon*p_{DD} + \\epsilon + p_{DD},     -2*\\epsilon*q_{DD} + \\epsilon + q_{DD}, P]])"
      ]
     },
     "execution_count": 212,
     "metadata": {},
     "output_type": "execute_result"
    }
   ],
   "source": [
    "new_M"
   ]
  },
  {
   "cell_type": "code",
   "execution_count": 111,
   "id": "bf57700a",
   "metadata": {},
   "outputs": [],
   "source": [
    "det1 = new_M.det()"
   ]
  },
  {
   "cell_type": "code",
   "execution_count": 112,
   "id": "0d5bccb5",
   "metadata": {},
   "outputs": [],
   "source": [
    "det2 = new_M2.det()"
   ]
  },
  {
   "cell_type": "code",
   "execution_count": 113,
   "id": "9fef5453",
   "metadata": {},
   "outputs": [],
   "source": [
    "expr2 = det1 / det2"
   ]
  },
  {
   "cell_type": "code",
   "execution_count": 114,
   "id": "7c3a8a4e",
   "metadata": {},
   "outputs": [],
   "source": [
    "diff = expr - expr2"
   ]
  },
  {
   "cell_type": "code",
   "execution_count": 115,
   "id": "18b25ca8",
   "metadata": {
    "scrolled": true
   },
   "outputs": [
    {
     "data": {
      "text/latex": [
       "$\\displaystyle 0$"
      ],
      "text/plain": [
       "0"
      ]
     },
     "execution_count": 115,
     "metadata": {},
     "output_type": "execute_result"
    }
   ],
   "source": [
    "diff.factor()"
   ]
  },
  {
   "cell_type": "markdown",
   "id": "15ee4e9b",
   "metadata": {},
   "source": [
    "### Reactive 2"
   ]
  },
  {
   "cell_type": "code",
   "execution_count": 217,
   "id": "b5b6d9bd",
   "metadata": {},
   "outputs": [],
   "source": [
    "from sympy.polys.domainmatrix import DomainMatrix"
   ]
  },
  {
   "cell_type": "code",
   "execution_count": 218,
   "id": "843a6d5f",
   "metadata": {},
   "outputs": [],
   "source": [
    "pcc, pcd, pdc, pdd = sym.symbols(\"p_{CC}, p_{CD}, p_{DC}, p_{DD}\")"
   ]
  },
  {
   "cell_type": "code",
   "execution_count": 316,
   "id": "80a6a126",
   "metadata": {},
   "outputs": [],
   "source": [
    "e = sym.symbols(\"e\")"
   ]
  },
  {
   "cell_type": "code",
   "execution_count": 219,
   "id": "c0c10bf3",
   "metadata": {},
   "outputs": [],
   "source": [
    "b, c = sym.symbols(\"b, c\")"
   ]
  },
  {
   "cell_type": "code",
   "execution_count": 220,
   "id": "5354c733",
   "metadata": {},
   "outputs": [],
   "source": [
    "strategy = [1 * (1 - epsilon) + 0 * epsilon,\n",
    "            pcd * (1 - epsilon) + (1 - pcd) * epsilon,\n",
    "            1 * (1 - epsilon) + 0 * epsilon,\n",
    "            pcd * (1 - epsilon) + (1 - pcd) * epsilon,\n",
    "            pdc * (1 - epsilon) + (1 - pdc) * epsilon,\n",
    "            pdd * (1 - epsilon) + (1 - pdd) * epsilon,\n",
    "            pdc * (1 - epsilon) + (1 - pdc) * epsilon,\n",
    "            pdd * (1 - epsilon) + (1 - pdd) * epsilon]"
   ]
  },
  {
   "cell_type": "code",
   "execution_count": 221,
   "id": "d2de6d87",
   "metadata": {},
   "outputs": [],
   "source": [
    "strategy = strategy * 2"
   ]
  },
  {
   "cell_type": "code",
   "execution_count": 234,
   "id": "6ae871b2",
   "metadata": {},
   "outputs": [],
   "source": [
    "M = repeated_play.transition_matrix_repeated_game(strategy,\n",
    "                                                  strategy,\n",
    "                                                  memory='two',\n",
    "                                                  analytical=True)"
   ]
  },
  {
   "cell_type": "code",
   "execution_count": 254,
   "id": "10521afa",
   "metadata": {},
   "outputs": [],
   "source": [
    "new_M = M.copy() - sym.eye(16, 16)"
   ]
  },
  {
   "cell_type": "code",
   "execution_count": 257,
   "id": "52eff400",
   "metadata": {},
   "outputs": [],
   "source": [
    "new_M[:, -1] = sym.Matrix([0 for _ in range(16)])"
   ]
  },
  {
   "cell_type": "code",
   "execution_count": 323,
   "id": "dd8d4be6",
   "metadata": {},
   "outputs": [
    {
     "data": {
      "text/latex": [
       "$\\displaystyle 0.500000000000119$"
      ],
      "text/plain": [
       "0.500000000000119"
      ]
     },
     "execution_count": 323,
     "metadata": {},
     "output_type": "execute_result"
    }
   ],
   "source": [
    "expr.subs({pcd:0, pdc:1, pdd:0, e:0.0001})"
   ]
  },
  {
   "cell_type": "markdown",
   "id": "1ce2254e",
   "metadata": {},
   "source": [
    "## Numeric stuff to check mathematica"
   ]
  },
  {
   "cell_type": "code",
   "execution_count": 259,
   "id": "4910cd42",
   "metadata": {},
   "outputs": [],
   "source": [
    "import numpy as np"
   ]
  },
  {
   "cell_type": "code",
   "execution_count": 301,
   "id": "27750be7",
   "metadata": {},
   "outputs": [],
   "source": [
    "player = np.array([1, 0, 1, 0]) # np.random.random(4)\n",
    "player[0] = 1"
   ]
  },
  {
   "cell_type": "code",
   "execution_count": 302,
   "id": "e11cafe2",
   "metadata": {},
   "outputs": [
    {
     "data": {
      "text/plain": [
       "array([1, 0, 1, 0])"
      ]
     },
     "execution_count": 302,
     "metadata": {},
     "output_type": "execute_result"
    }
   ],
   "source": [
    "player"
   ]
  },
  {
   "cell_type": "code",
   "execution_count": 303,
   "id": "0df0b22c",
   "metadata": {},
   "outputs": [],
   "source": [
    "epsilon_val = 0.001"
   ]
  },
  {
   "cell_type": "code",
   "execution_count": 304,
   "id": "51f1a496",
   "metadata": {},
   "outputs": [],
   "source": [
    "player = list(player * (1 - epsilon_val) + (1 - player) * epsilon_val)"
   ]
  },
  {
   "cell_type": "code",
   "execution_count": 305,
   "id": "50c1a16e",
   "metadata": {},
   "outputs": [],
   "source": [
    "player = [player[0], player[1], player[0], player[1], player[2], player[3], player[2], player[3]] * 2"
   ]
  },
  {
   "cell_type": "code",
   "execution_count": 306,
   "id": "d5b902ed",
   "metadata": {},
   "outputs": [],
   "source": [
    "M = repeated_play.transition_matrix_repeated_game(player, player, memory=\"two\")"
   ]
  },
  {
   "cell_type": "code",
   "execution_count": 307,
   "id": "8645dd0a",
   "metadata": {},
   "outputs": [],
   "source": [
    "ss = repeated_play.stationary_distribution(M)[0]"
   ]
  },
  {
   "cell_type": "code",
   "execution_count": 308,
   "id": "9957f2ea",
   "metadata": {},
   "outputs": [
    {
     "data": {
      "text/plain": [
       "0.49999999999998346"
      ]
     },
     "execution_count": 308,
     "metadata": {},
     "output_type": "execute_result"
    }
   ],
   "source": [
    "ss[0] + ss[1] + ss[4] + ss[5] + ss[8] + ss[9] + ss[12] + ss[13]"
   ]
  },
  {
   "cell_type": "code",
   "execution_count": 309,
   "id": "39ac03a1",
   "metadata": {},
   "outputs": [
    {
     "data": {
      "text/plain": [
       "0.24950024999996803"
      ]
     },
     "execution_count": 309,
     "metadata": {},
     "output_type": "execute_result"
    }
   ],
   "source": [
    "ss[0]"
   ]
  },
  {
   "cell_type": "code",
   "execution_count": null,
   "id": "7f71de60",
   "metadata": {},
   "outputs": [],
   "source": []
  }
 ],
 "metadata": {
  "kernelspec": {
   "display_name": "Python 3",
   "language": "python",
   "name": "python3"
  },
  "language_info": {
   "codemirror_mode": {
    "name": "ipython",
    "version": 3
   },
   "file_extension": ".py",
   "mimetype": "text/x-python",
   "name": "python",
   "nbconvert_exporter": "python",
   "pygments_lexer": "ipython3",
   "version": "3.11.3"
  }
 },
 "nbformat": 4,
 "nbformat_minor": 5
}
