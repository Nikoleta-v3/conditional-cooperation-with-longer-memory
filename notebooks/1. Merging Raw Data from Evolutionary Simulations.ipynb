{
 "cells": [
  {
   "cell_type": "markdown",
   "metadata": {},
   "source": [
    "# 1. Merging Raw Data from Evolutionary Simulations"
   ]
  },
  {
   "cell_type": "markdown",
   "metadata": {},
   "source": [
    "**Imports**"
   ]
  },
  {
   "cell_type": "code",
   "execution_count": 4,
   "metadata": {},
   "outputs": [],
   "source": [
    "import numpy as np\n",
    "\n",
    "import sympy as sym\n",
    "\n",
    "import itertools\n",
    "\n",
    "import pandas as pd\n",
    "\n",
    "import glob"
   ]
  },
  {
   "cell_type": "code",
   "execution_count": 5,
   "metadata": {},
   "outputs": [],
   "source": [
    "from operator import itemgetter"
   ]
  },
  {
   "cell_type": "code",
   "execution_count": 6,
   "metadata": {},
   "outputs": [],
   "source": [
    "import matplotlib.pyplot as plt\n",
    "\n",
    "import matplotlib\n",
    "\n",
    "from mpl_toolkits.axes_grid1 import make_axes_locatable"
   ]
  },
  {
   "cell_type": "code",
   "execution_count": 7,
   "metadata": {},
   "outputs": [],
   "source": [
    "import tqdm"
   ]
  },
  {
   "cell_type": "markdown",
   "metadata": {},
   "source": [
    "## Preparation to Read Files"
   ]
  },
  {
   "cell_type": "code",
   "execution_count": 8,
   "metadata": {},
   "outputs": [],
   "source": [
    "cs = [0, 0.1, 0.2, 0.3, 0.4, 0.5, 0.6, 0.7, 0.8, 0.9, 1]"
   ]
  },
  {
   "cell_type": "code",
   "execution_count": 9,
   "metadata": {},
   "outputs": [],
   "source": [
    "names1 = [f\"p_{i}\" for i in range(1, 3)] + [\"t\", \"cooperation\"]\n",
    "names2 = [f\"p_{i}\" for i in range(1, 5)] + [\"t\", \"cooperation\"]\n",
    "names3 = [f\"p_{i}\" for i in range(1, 9)] + [\"t\", \"cooperation\"]"
   ]
  },
  {
   "cell_type": "code",
   "execution_count": 11,
   "metadata": {},
   "outputs": [],
   "source": [
    "def frequencies(df, max_steps=10**7):\n",
    "    frequencies = []\n",
    "    previous = 0\n",
    "    for value in df[\"t\"][1:]:\n",
    "        frequencies.append(value - previous)\n",
    "        previous = value\n",
    "    frequencies.append(max_steps - previous)\n",
    "\n",
    "    df[\"frequencies\"] = np.array(frequencies)\n",
    "    df[\"frequencies norm\"] = np.array(frequencies) / max_steps\n",
    "\n",
    "    return df"
   ]
  },
  {
   "cell_type": "markdown",
   "metadata": {},
   "source": [
    "We want to assess how many resident strategies are partner strategies in our simulation. For a resident strategy to be classified as a partner, it must satisfy all inequalities in the respective definition of partner strategies and cooperate\n",
    "with a probability of at least 95\\% after full cooperation."
   ]
  },
  {
   "cell_type": "code",
   "execution_count": 12,
   "metadata": {},
   "outputs": [],
   "source": [
    "def one_bit_condition_one(p1, p2, c, b):\n",
    "    return p2 < 1 - c / b\n",
    "\n",
    "\n",
    "def one_bit_condition_two(p1, p2, c, b):\n",
    "    return p1 > 0.95\n",
    "\n",
    "\n",
    "def is_partner_one_bit(p1, p2, c, b):\n",
    "    return (one_bit_condition_one(p1, p2, c, 1)) and (\n",
    "        one_bit_condition_two(p1, p2, c, 1)\n",
    "    )"
   ]
  },
  {
   "cell_type": "code",
   "execution_count": 13,
   "metadata": {},
   "outputs": [],
   "source": [
    "def two_bit_condition_one(p1, p2, p3, p4, c, b):\n",
    "    return p4 < (1 - c / b)\n",
    "\n",
    "\n",
    "def two_bit_condition_two(p1, p2, p3, p4, c, b):\n",
    "    return p2 + p3 < (2 - c / b)\n",
    "\n",
    "\n",
    "def two_bit_condition_three(p1, p2, p3, p4, c, b):\n",
    "    return p1 > 0.95\n",
    "\n",
    "\n",
    "def is_partner_two_bits(p1, p2, p3, p4, c, b):\n",
    "    return (\n",
    "        (two_bit_condition_one(p1, p2, p3, p4, c, 1))\n",
    "        and two_bit_condition_two(p1, p2, p3, p4, c, 1)\n",
    "        and two_bit_condition_three(p1, p2, p3, p4, c, 1)\n",
    "    )"
   ]
  },
  {
   "cell_type": "code",
   "execution_count": 14,
   "metadata": {},
   "outputs": [],
   "source": [
    "def three_bit_condition_one(p1, p2, p3, p4, p5, p6, p7, p8, c, b):\n",
    "    return p8 < (1 - c / b)\n",
    "\n",
    "\n",
    "def three_bit_condition_two(p1, p2, p3, p4, p5, p6, p7, p8, c, b):\n",
    "    return p3 + p6 < (2 - c / b)\n",
    "\n",
    "\n",
    "def three_bit_condition_three(p1, p2, p3, p4, p5, p6, p7, p8, c, b):\n",
    "    return p2 + p3 + p5 < (3 - c / b)\n",
    "\n",
    "\n",
    "def three_bit_condition_four(p1, p2, p3, p4, p5, p6, p7, p8, c, b):\n",
    "    return p4 + p6 + p7 < (3 - 2 * c / b)\n",
    "\n",
    "\n",
    "def three_bit_condition_five(p1, p2, p3, p4, p5, p6, p7, p8, c, b):\n",
    "    return p2 + p4 + p5 + p7 < (4 - 2 * c / b)\n",
    "\n",
    "\n",
    "def three_bit_condition_six(p1, p2, p3, p4, p5, p6, p7, p8, c, b):\n",
    "    return p1 > 0.95\n",
    "\n",
    "\n",
    "def is_partner_three_bits(p1, p2, p3, p4, p5, p6, p7, p8, c, b):\n",
    "    return (\n",
    "        (three_bit_condition_one(p1, p2, p3, p4, p5, p6, p7, p8, c, 1))\n",
    "        and (three_bit_condition_two(p1, p2, p3, p4, p5, p6, p7, p8, c, 1))\n",
    "        and (three_bit_condition_three(p1, p2, p3, p4, p5, p6, p7, p8, c, 1))\n",
    "        and (three_bit_condition_four(p1, p2, p3, p4, p5, p6, p7, p8, c, 1))\n",
    "        and (three_bit_condition_five(p1, p2, p3, p4, p5, p6, p7, p8, c, 1))\n",
    "        and (three_bit_condition_six(p1, p2, p3, p4, p5, p6, p7, p8, c, 1))\n",
    "    )"
   ]
  },
  {
   "cell_type": "markdown",
   "metadata": {},
   "source": [
    "#  Reactive-1"
   ]
  },
  {
   "cell_type": "code",
   "execution_count": 20,
   "metadata": {},
   "outputs": [],
   "source": [
    "files = glob.glob(f\"../data/matlab_data/bits_2_beta_*_seed_1_*.csv\")\n",
    "\n",
    "files += glob.glob(f\"../data/beta_2/bits_2_beta_*_seed_1_*.csv\")"
   ]
  },
  {
   "cell_type": "code",
   "execution_count": 23,
   "metadata": {},
   "outputs": [],
   "source": [
    "one_bits = []\n",
    "\n",
    "for file in files:\n",
    "    c = float(file.split(\"c_\")[1].split(\".csv\")[0])\n",
    "\n",
    "    beta = float(file.split(\"_beta_\")[1].split(\"_\")[0])\n",
    "\n",
    "    df = pd.read_csv(file, names=names1)\n",
    "\n",
    "    df = df.drop_duplicates()\n",
    "\n",
    "    df[\"c\"] = c\n",
    "\n",
    "    df[\"beta\"] = beta\n",
    "\n",
    "    df = frequencies(df, 10**7)\n",
    "\n",
    "    one_bits.append(df)"
   ]
  },
  {
   "cell_type": "code",
   "execution_count": 24,
   "metadata": {},
   "outputs": [],
   "source": [
    "one_bits = pd.concat(one_bits)"
   ]
  },
  {
   "cell_type": "code",
   "execution_count": 25,
   "metadata": {},
   "outputs": [
    {
     "data": {
      "text/plain": [
       "array([10. ,  1. ,  0.1,  2. ])"
      ]
     },
     "execution_count": 25,
     "metadata": {},
     "output_type": "execute_result"
    }
   ],
   "source": [
    "one_bits[\"beta\"].unique()"
   ]
  },
  {
   "cell_type": "code",
   "execution_count": 26,
   "metadata": {},
   "outputs": [
    {
     "name": "stderr",
     "output_type": "stream",
     "text": [
      "1668615it [00:58, 28498.26it/s]\n"
     ]
    }
   ],
   "source": [
    "ispartner = []\n",
    "\n",
    "for i, row in tqdm.tqdm(one_bits.iterrows()):\n",
    "    condition = is_partner_one_bit(row[\"p_1\"], row[\"p_2\"], row[\"c\"], 1)\n",
    "\n",
    "    ispartner.append(condition)"
   ]
  },
  {
   "cell_type": "code",
   "execution_count": 27,
   "metadata": {},
   "outputs": [],
   "source": [
    "one_bits[\"isPartner\"] = ispartner"
   ]
  },
  {
   "cell_type": "code",
   "execution_count": 29,
   "metadata": {},
   "outputs": [],
   "source": [
    "one_bits.to_csv(\"../prc_data/evolution_over_c_and_beta_reactive_one.csv\")"
   ]
  },
  {
   "cell_type": "markdown",
   "metadata": {},
   "source": [
    "# Reactive-1"
   ]
  },
  {
   "cell_type": "code",
   "execution_count": 35,
   "metadata": {},
   "outputs": [],
   "source": [
    "files = glob.glob(f\"../data/matlab_data/bits_4_beta_0.1_seed_1_*.csv\")\n",
    "\n",
    "files += glob.glob(f\"../data/matlab_data/bits_4_beta_1_seed_1_*.csv\")\n",
    "\n",
    "files += glob.glob(f\"../data/beta_2/bits_4_beta_2_seed_1_*.csv\")\n",
    "\n",
    "two_bits = []\n",
    "\n",
    "for file in files:\n",
    "    c = float(file.split(\"c_\")[1].split(\".csv\")[0])\n",
    "\n",
    "    beta = float(file.split(\"_beta_\")[1].split(\"_\")[0])\n",
    "\n",
    "    df = pd.read_csv(file, names=names2)\n",
    "\n",
    "    df = df.drop_duplicates()\n",
    "\n",
    "    df[\"c\"] = c\n",
    "\n",
    "    df[\"beta\"] = beta\n",
    "\n",
    "    df = frequencies(df, 10**7)\n",
    "\n",
    "    two_bits.append(df)"
   ]
  },
  {
   "cell_type": "code",
   "execution_count": 36,
   "metadata": {},
   "outputs": [],
   "source": [
    "files = glob.glob(\"../data/long/bits_4_beta_10_seed_1_c_*.csv\")\n",
    "\n",
    "for file in files:\n",
    "    c = float(file.split(\"c_\")[1].split(\".csv\")[0])\n",
    "\n",
    "    beta = float(file.split(\"beta_\")[1].split(\"_\")[0])\n",
    "\n",
    "    df = pd.read_csv(file, names=names2)\n",
    "\n",
    "    df = df.drop_duplicates()\n",
    "\n",
    "    df[\"c\"] = c\n",
    "\n",
    "    df[\"beta\"] = beta\n",
    "\n",
    "    df = frequencies(df, 10**8)\n",
    "\n",
    "    two_bits.append(df)"
   ]
  },
  {
   "cell_type": "code",
   "execution_count": 37,
   "metadata": {},
   "outputs": [],
   "source": [
    "two_bits = pd.concat(two_bits)"
   ]
  },
  {
   "cell_type": "code",
   "execution_count": 38,
   "metadata": {},
   "outputs": [
    {
     "data": {
      "text/plain": [
       "array([ 0.1,  1. ,  2. , 10. ])"
      ]
     },
     "execution_count": 38,
     "metadata": {},
     "output_type": "execute_result"
    }
   ],
   "source": [
    "two_bits[\"beta\"].unique()"
   ]
  },
  {
   "cell_type": "code",
   "execution_count": 39,
   "metadata": {},
   "outputs": [
    {
     "name": "stderr",
     "output_type": "stream",
     "text": [
      "1913480it [01:14, 25775.21it/s]\n"
     ]
    }
   ],
   "source": [
    "ispartner = []\n",
    "\n",
    "for i, row in tqdm.tqdm(two_bits.iterrows()):\n",
    "    condition = is_partner_two_bits(\n",
    "        row[\"p_1\"], row[\"p_2\"], row[\"p_3\"], row[\"p_4\"], row[\"c\"], 1\n",
    "    )\n",
    "\n",
    "    ispartner.append(condition)"
   ]
  },
  {
   "cell_type": "code",
   "execution_count": 40,
   "metadata": {},
   "outputs": [],
   "source": [
    "two_bits[\"isPartner\"] = ispartner"
   ]
  },
  {
   "cell_type": "code",
   "execution_count": 41,
   "metadata": {},
   "outputs": [],
   "source": [
    "two_bits.to_csv(\"../prc_data/evolution_over_c_and_beta_reactive_two.csv\")"
   ]
  },
  {
   "cell_type": "markdown",
   "metadata": {},
   "source": [
    "## Reactive-2 Counting"
   ]
  },
  {
   "cell_type": "code",
   "execution_count": 53,
   "metadata": {},
   "outputs": [],
   "source": [
    "files = glob.glob(f\"../data/counting/bits_4_beta_0.1_seed_1_c_*.csv\")\n",
    "files += glob.glob(f\"../data/counting/bits_4_beta_1_seed_1_c_*.csv\")\n",
    "files += glob.glob(f\"../data/counting/bits_4_beta_10_seed_1_c_*.csv\")\n",
    "files += glob.glob(f\"../data/counting/bits_4_beta_2_seed_1_c_*.csv\")"
   ]
  },
  {
   "cell_type": "code",
   "execution_count": 54,
   "metadata": {},
   "outputs": [],
   "source": [
    "counting_two_bits = []\n",
    "\n",
    "for file in files:\n",
    "    c = float(file.split(\"c_\")[1].split(\".csv\")[0])\n",
    "\n",
    "    beta = float(file.split(\"beta_\")[1].split(\"_\")[0])\n",
    "\n",
    "    df = pd.read_csv(file, names=names2)\n",
    "\n",
    "    df = df.drop_duplicates()\n",
    "\n",
    "    df[\"c\"] = c\n",
    "\n",
    "    df[\"beta\"] = beta\n",
    "\n",
    "    df = frequencies(df, 10**7)\n",
    "\n",
    "    counting_two_bits.append(df)"
   ]
  },
  {
   "cell_type": "code",
   "execution_count": 55,
   "metadata": {},
   "outputs": [],
   "source": [
    "counting_two_bits = pd.concat(counting_two_bits)"
   ]
  },
  {
   "cell_type": "code",
   "execution_count": 56,
   "metadata": {},
   "outputs": [
    {
     "name": "stderr",
     "output_type": "stream",
     "text": [
      "1886774it [01:14, 25240.79it/s]\n"
     ]
    }
   ],
   "source": [
    "ispartner = []\n",
    "\n",
    "for i, row in tqdm.tqdm(counting_two_bits.iterrows()):\n",
    "    condition = is_partner_two_bits(\n",
    "        row[\"p_1\"], row[\"p_2\"], row[\"p_3\"], row[\"p_4\"], row[\"c\"], 1\n",
    "    )\n",
    "\n",
    "    ispartner.append(condition)"
   ]
  },
  {
   "cell_type": "code",
   "execution_count": 57,
   "metadata": {},
   "outputs": [],
   "source": [
    "counting_two_bits[\"isPartner\"] = ispartner"
   ]
  },
  {
   "cell_type": "code",
   "execution_count": 58,
   "metadata": {},
   "outputs": [
    {
     "data": {
      "text/plain": [
       "array([ 0.1,  1. , 10. ,  2. ])"
      ]
     },
     "execution_count": 58,
     "metadata": {},
     "output_type": "execute_result"
    }
   ],
   "source": [
    "counting_two_bits[\"beta\"].unique()"
   ]
  },
  {
   "cell_type": "code",
   "execution_count": 59,
   "metadata": {},
   "outputs": [],
   "source": [
    "counting_two_bits.to_csv(\n",
    "    \"../prc_data/evolution_over_c_and_beta_reactive_counting_two.csv\"\n",
    ")"
   ]
  },
  {
   "cell_type": "markdown",
   "metadata": {},
   "source": [
    "# Reactive-3"
   ]
  },
  {
   "cell_type": "code",
   "execution_count": 60,
   "metadata": {},
   "outputs": [],
   "source": [
    "files = glob.glob(f\"../data/matlab_data/bits_8_beta_0.1_seed_1_*.csv\")\n",
    "files += glob.glob(f\"../data/matlab_data/bits_8_beta_1_seed_1_*.csv\")\n",
    "files += glob.glob(f\"../data/beta_2/bits_8_beta_2_seed_1_*.csv\")"
   ]
  },
  {
   "cell_type": "code",
   "execution_count": 61,
   "metadata": {},
   "outputs": [],
   "source": [
    "three_bits = []\n",
    "\n",
    "for file in files:\n",
    "    c = float(file.split(\"c_\")[1].split(\".csv\")[0])\n",
    "\n",
    "    beta = float(file.split(\"_beta_\")[1].split(\"_\")[0])\n",
    "\n",
    "    df = pd.read_csv(file, names=names3)\n",
    "\n",
    "    df = df.drop_duplicates()\n",
    "\n",
    "    df[\"c\"] = c\n",
    "\n",
    "    df[\"beta\"] = beta\n",
    "\n",
    "    df = frequencies(df, 2 * 10**7)\n",
    "\n",
    "    three_bits.append(df)"
   ]
  },
  {
   "cell_type": "code",
   "execution_count": 62,
   "metadata": {},
   "outputs": [],
   "source": [
    "files = glob.glob(f\"../data/beta_2/bits_8_beta_10_seed_1_c_*.csv\")"
   ]
  },
  {
   "cell_type": "code",
   "execution_count": 63,
   "metadata": {},
   "outputs": [],
   "source": [
    "for file in files:\n",
    "    c = float(file.split(\"c_\")[1].split(\".csv\")[0])\n",
    "\n",
    "    beta = float(file.split(\"_beta_\")[1].split(\"_\")[0])\n",
    "\n",
    "    df = pd.read_csv(file, names=names3)\n",
    "\n",
    "    df = df.drop_duplicates()\n",
    "\n",
    "    df[\"c\"] = c\n",
    "\n",
    "    df[\"beta\"] = beta\n",
    "\n",
    "    df = frequencies(df, 40000000)\n",
    "\n",
    "    three_bits.append(df)"
   ]
  },
  {
   "cell_type": "code",
   "execution_count": 64,
   "metadata": {},
   "outputs": [],
   "source": [
    "three_bits = pd.concat(three_bits)"
   ]
  },
  {
   "cell_type": "code",
   "execution_count": 65,
   "metadata": {},
   "outputs": [
    {
     "data": {
      "text/plain": [
       "array([ 0.1,  1. ,  2. , 10. ])"
      ]
     },
     "execution_count": 65,
     "metadata": {},
     "output_type": "execute_result"
    }
   ],
   "source": [
    "three_bits[\"beta\"].unique()"
   ]
  },
  {
   "cell_type": "code",
   "execution_count": 66,
   "metadata": {},
   "outputs": [
    {
     "name": "stderr",
     "output_type": "stream",
     "text": [
      "2640162it [02:05, 21047.36it/s]\n"
     ]
    }
   ],
   "source": [
    "ispartner = []\n",
    "\n",
    "for i, row in tqdm.tqdm(three_bits.iterrows()):\n",
    "    condition = is_partner_three_bits(\n",
    "        row[\"p_1\"],\n",
    "        row[\"p_2\"],\n",
    "        row[\"p_3\"],\n",
    "        row[\"p_4\"],\n",
    "        row[\"p_5\"],\n",
    "        row[\"p_6\"],\n",
    "        row[\"p_7\"],\n",
    "        row[\"p_8\"],\n",
    "        row[\"c\"],\n",
    "        1,\n",
    "    )\n",
    "\n",
    "    ispartner.append(condition)"
   ]
  },
  {
   "cell_type": "code",
   "execution_count": 67,
   "metadata": {},
   "outputs": [],
   "source": [
    "three_bits[\"isPartner\"] = ispartner"
   ]
  },
  {
   "cell_type": "code",
   "execution_count": 68,
   "metadata": {},
   "outputs": [],
   "source": [
    "three_bits.to_csv(\"../prc_data/evolution_over_c_and_beta_reactive_three.csv\")"
   ]
  },
  {
   "cell_type": "markdown",
   "metadata": {},
   "source": [
    "## Reactive-3 Counting"
   ]
  },
  {
   "cell_type": "code",
   "execution_count": 70,
   "metadata": {},
   "outputs": [],
   "source": [
    "files = glob.glob(f\"../data/counting/bits_8_beta_0.1_seed_1_c_*.csv\")\n",
    "files += glob.glob(f\"../data/counting/bits_8_beta_1_seed_1_c_*.csv\")\n",
    "files += glob.glob(f\"../data/counting/bits_8_beta_10_seed_1_c_*.csv\")\n",
    "files += glob.glob(f\"../data/counting/bits_8_beta_2_seed_1_c_*.csv\")"
   ]
  },
  {
   "cell_type": "code",
   "execution_count": 71,
   "metadata": {},
   "outputs": [],
   "source": [
    "counting_three_bits = []\n",
    "\n",
    "for file in files:\n",
    "    c = float(file.split(\"c_\")[1].split(\".csv\")[0])\n",
    "\n",
    "    beta = float(file.split(\"beta_\")[1].split(\"_\")[0])\n",
    "\n",
    "    df = pd.read_csv(file, names=names3)\n",
    "\n",
    "    df = df.drop_duplicates()\n",
    "\n",
    "    df[\"c\"] = c\n",
    "\n",
    "    df[\"beta\"] = beta\n",
    "\n",
    "    df = frequencies(df, 2 * 10**7)\n",
    "\n",
    "    counting_three_bits.append(df)"
   ]
  },
  {
   "cell_type": "code",
   "execution_count": 72,
   "metadata": {},
   "outputs": [],
   "source": [
    "counting_three_bits = pd.concat(counting_three_bits)"
   ]
  },
  {
   "cell_type": "code",
   "execution_count": 73,
   "metadata": {},
   "outputs": [
    {
     "name": "stderr",
     "output_type": "stream",
     "text": [
      "3580753it [03:00, 19822.09it/s]\n"
     ]
    }
   ],
   "source": [
    "ispartner = []\n",
    "\n",
    "for i, row in tqdm.tqdm(counting_three_bits.iterrows()):\n",
    "    condition = is_partner_three_bits(\n",
    "        row[\"p_1\"],\n",
    "        row[\"p_2\"],\n",
    "        row[\"p_3\"],\n",
    "        row[\"p_4\"],\n",
    "        row[\"p_5\"],\n",
    "        row[\"p_6\"],\n",
    "        row[\"p_7\"],\n",
    "        row[\"p_8\"],\n",
    "        row[\"c\"],\n",
    "        1,\n",
    "    )\n",
    "\n",
    "    ispartner.append(condition)"
   ]
  },
  {
   "cell_type": "code",
   "execution_count": 74,
   "metadata": {},
   "outputs": [],
   "source": [
    "counting_three_bits[\"isPartner\"] = ispartner"
   ]
  },
  {
   "cell_type": "code",
   "execution_count": 75,
   "metadata": {},
   "outputs": [
    {
     "data": {
      "text/plain": [
       "array([ 0.1,  1. , 10. ,  2. ])"
      ]
     },
     "execution_count": 75,
     "metadata": {},
     "output_type": "execute_result"
    }
   ],
   "source": [
    "counting_three_bits[\"beta\"].unique()"
   ]
  },
  {
   "cell_type": "code",
   "execution_count": 76,
   "metadata": {},
   "outputs": [],
   "source": [
    "counting_three_bits.to_csv(\n",
    "    \"../prc_data/evolution_over_c_and_beta_reactive_counting_three.csv\"\n",
    ")"
   ]
  },
  {
   "cell_type": "markdown",
   "metadata": {},
   "source": [
    "# Results with different seeds"
   ]
  },
  {
   "cell_type": "code",
   "execution_count": 2,
   "metadata": {},
   "outputs": [],
   "source": [
    "import os"
   ]
  },
  {
   "cell_type": "code",
   "execution_count": 3,
   "metadata": {},
   "outputs": [],
   "source": [
    "import glob"
   ]
  },
  {
   "cell_type": "code",
   "execution_count": 21,
   "metadata": {},
   "outputs": [],
   "source": [
    "dfs = []\n",
    "\n",
    "for sdim, type_, max_step, name in zip(\n",
    "    [2, 4, 8],\n",
    "    [\"one\", \"two\", \"three\"],\n",
    "    [10**7, 10**7, 2 * 10**7],\n",
    "    [names1, names2, names3],\n",
    "):\n",
    "    for seed in range(11, 21):\n",
    "        file = f\"../data/evolution_over_seeds/bits_{sdim}_beta_1_seed_{seed}_c_0.5.csv\"\n",
    "\n",
    "        df = pd.read_csv(file, names=name)\n",
    "\n",
    "        df = df.drop_duplicates()\n",
    "\n",
    "        df[\"type\"] = type_\n",
    "        df[\"seed\"] = seed\n",
    "\n",
    "        df = frequencies(df, max_step)\n",
    "\n",
    "        dfs.append(df)\n",
    "\n",
    "        os.remove(file)"
   ]
  },
  {
   "cell_type": "code",
   "execution_count": 22,
   "metadata": {},
   "outputs": [],
   "source": [
    "df = pd.concat(dfs)"
   ]
  },
  {
   "cell_type": "code",
   "execution_count": 25,
   "metadata": {},
   "outputs": [],
   "source": [
    "df1 = pd.read_csv(\"../prc_data/evolution_over_seeds_reactive.csv\", index_col=0)"
   ]
  },
  {
   "cell_type": "code",
   "execution_count": 34,
   "metadata": {},
   "outputs": [
    {
     "data": {
      "text/plain": [
       "array([ 1,  2,  3,  4,  5,  6,  7,  8,  9, 10])"
      ]
     },
     "execution_count": 34,
     "metadata": {},
     "output_type": "execute_result"
    }
   ],
   "source": [
    "df1['seed'].unique()"
   ]
  },
  {
   "cell_type": "code",
   "execution_count": 35,
   "metadata": {},
   "outputs": [
    {
     "data": {
      "text/plain": [
       "array([11, 12, 13, 14, 15, 16, 17, 18, 19, 20])"
      ]
     },
     "execution_count": 35,
     "metadata": {},
     "output_type": "execute_result"
    }
   ],
   "source": [
    "df['seed'].unique()"
   ]
  },
  {
   "cell_type": "code",
   "execution_count": 42,
   "metadata": {},
   "outputs": [],
   "source": [
    "merged = pd.concat([df, df1])"
   ]
  },
  {
   "cell_type": "code",
   "execution_count": 51,
   "metadata": {},
   "outputs": [],
   "source": [
    "merged = merged.sort_values(['type', 'seed'])"
   ]
  },
  {
   "cell_type": "code",
   "execution_count": 52,
   "metadata": {},
   "outputs": [],
   "source": [
    "merged.to_csv(\"../prc_data/evolution_over_seeds_reactive_new.csv\")"
   ]
  },
  {
   "cell_type": "markdown",
   "metadata": {},
   "source": [
    "## Results for Counting Strategies"
   ]
  },
  {
   "cell_type": "code",
   "execution_count": 15,
   "metadata": {},
   "outputs": [],
   "source": [
    "dfs = []\n",
    "\n",
    "for sdim, type_, max_step, name in zip(\n",
    "    [4, 8],\n",
    "    [\"counting-two\", \"counting-three\"],\n",
    "    [10**7, 2 * 10**7],\n",
    "    [names2, names3],\n",
    "):\n",
    "    for seed in range(1, 11):\n",
    "        file = f\"../data/counting/bits_{sdim}_beta_1_seed_{seed}_c_0.5.csv\"\n",
    "\n",
    "        df = pd.read_csv(file, names=name)\n",
    "\n",
    "        df = df.drop_duplicates()\n",
    "\n",
    "        df[\"type\"] = type_\n",
    "        df[\"seed\"] = seed\n",
    "\n",
    "        df = frequencies(df, max_step)\n",
    "\n",
    "        dfs.append(df)"
   ]
  },
  {
   "cell_type": "code",
   "execution_count": 16,
   "metadata": {},
   "outputs": [],
   "source": [
    "df = pd.concat(dfs)"
   ]
  },
  {
   "cell_type": "code",
   "execution_count": 17,
   "metadata": {},
   "outputs": [],
   "source": [
    "dfs = []\n",
    "\n",
    "for sdim, type_, max_step, name in zip(\n",
    "    [8],\n",
    "    [\"counting-three\"],\n",
    "    [10**7],\n",
    "    [names3],\n",
    "):\n",
    "    for seed in range(11, 21):\n",
    "        file = f\"../data/counting/bits_{sdim}_beta_1_seed_{seed}_c_0.5.csv\"\n",
    "\n",
    "        df = pd.read_csv(file, names=name)\n",
    "\n",
    "        df = df.drop_duplicates()\n",
    "\n",
    "        df[\"type\"] = type_\n",
    "        df[\"seed\"] = seed\n",
    "\n",
    "        df = frequencies(df, max_step)\n",
    "\n",
    "        dfs.append(df)"
   ]
  },
  {
   "cell_type": "code",
   "execution_count": 19,
   "metadata": {},
   "outputs": [
    {
     "data": {
      "text/plain": [
       "10"
      ]
     },
     "execution_count": 19,
     "metadata": {},
     "output_type": "execute_result"
    }
   ],
   "source": [
    "len(dfs)"
   ]
  },
  {
   "cell_type": "code",
   "execution_count": 23,
   "metadata": {},
   "outputs": [],
   "source": [
    "df2 = pd.concat(dfs)"
   ]
  },
  {
   "cell_type": "code",
   "execution_count": 25,
   "metadata": {},
   "outputs": [],
   "source": [
    "df = pd.concat([df, df2])"
   ]
  },
  {
   "cell_type": "code",
   "execution_count": 28,
   "metadata": {},
   "outputs": [],
   "source": [
    "three = df[df['type'] == 'counting-three']"
   ]
  },
  {
   "cell_type": "code",
   "execution_count": 29,
   "metadata": {},
   "outputs": [],
   "source": [
    "groups = three.groupby('seed')"
   ]
  },
  {
   "cell_type": "code",
   "execution_count": 46,
   "metadata": {},
   "outputs": [],
   "source": [
    "top = []\n",
    "\n",
    "for i, group in groups:\n",
    "    top.append(group.sort_values(\"frequencies\").iloc[-1][['p_1', 'p_2', 'p_7', 'p_8']])"
   ]
  },
  {
   "cell_type": "code",
   "execution_count": 47,
   "metadata": {},
   "outputs": [
    {
     "data": {
      "text/plain": [
       "[0.9997153739, 0.30753884539000004, 0.4504472216, 0.21307141803000001]"
      ]
     },
     "execution_count": 47,
     "metadata": {},
     "output_type": "execute_result"
    }
   ],
   "source": [
    "[np.mean([t[i] for t in top]) for i in range(4)]"
   ]
  },
  {
   "cell_type": "code",
   "execution_count": 48,
   "metadata": {},
   "outputs": [
    {
     "data": {
      "text/html": [
       "<div>\n",
       "<style scoped>\n",
       "    .dataframe tbody tr th:only-of-type {\n",
       "        vertical-align: middle;\n",
       "    }\n",
       "\n",
       "    .dataframe tbody tr th {\n",
       "        vertical-align: top;\n",
       "    }\n",
       "\n",
       "    .dataframe thead th {\n",
       "        text-align: right;\n",
       "    }\n",
       "</style>\n",
       "<table border=\"1\" class=\"dataframe\">\n",
       "  <thead>\n",
       "    <tr style=\"text-align: right;\">\n",
       "      <th></th>\n",
       "      <th>p_1</th>\n",
       "      <th>p_2</th>\n",
       "      <th>p_3</th>\n",
       "      <th>p_4</th>\n",
       "      <th>p_5</th>\n",
       "      <th>p_6</th>\n",
       "      <th>p_7</th>\n",
       "      <th>p_8</th>\n",
       "      <th>t</th>\n",
       "      <th>cooperation</th>\n",
       "      <th>type</th>\n",
       "      <th>seed</th>\n",
       "      <th>frequencies</th>\n",
       "      <th>frequencies norm</th>\n",
       "    </tr>\n",
       "  </thead>\n",
       "  <tbody>\n",
       "    <tr>\n",
       "      <th>0</th>\n",
       "      <td>0.000000</td>\n",
       "      <td>0.000000</td>\n",
       "      <td>0.000000</td>\n",
       "      <td>0.000000</td>\n",
       "      <td>0.000000</td>\n",
       "      <td>0.000000</td>\n",
       "      <td>0.000000</td>\n",
       "      <td>0.000000</td>\n",
       "      <td>0</td>\n",
       "      <td>0.000000</td>\n",
       "      <td>counting-three</td>\n",
       "      <td>20</td>\n",
       "      <td>1918</td>\n",
       "      <td>1.918000e-04</td>\n",
       "    </tr>\n",
       "    <tr>\n",
       "      <th>1</th>\n",
       "      <td>0.094599</td>\n",
       "      <td>0.539822</td>\n",
       "      <td>0.539822</td>\n",
       "      <td>0.784930</td>\n",
       "      <td>0.539822</td>\n",
       "      <td>0.784930</td>\n",
       "      <td>0.784930</td>\n",
       "      <td>0.092454</td>\n",
       "      <td>1918</td>\n",
       "      <td>0.488276</td>\n",
       "      <td>counting-three</td>\n",
       "      <td>20</td>\n",
       "      <td>72</td>\n",
       "      <td>7.200000e-06</td>\n",
       "    </tr>\n",
       "    <tr>\n",
       "      <th>2</th>\n",
       "      <td>0.082884</td>\n",
       "      <td>0.028336</td>\n",
       "      <td>0.028336</td>\n",
       "      <td>0.515928</td>\n",
       "      <td>0.028336</td>\n",
       "      <td>0.515928</td>\n",
       "      <td>0.515928</td>\n",
       "      <td>0.609005</td>\n",
       "      <td>1990</td>\n",
       "      <td>0.378122</td>\n",
       "      <td>counting-three</td>\n",
       "      <td>20</td>\n",
       "      <td>39</td>\n",
       "      <td>3.900000e-06</td>\n",
       "    </tr>\n",
       "    <tr>\n",
       "      <th>3</th>\n",
       "      <td>0.006741</td>\n",
       "      <td>0.068689</td>\n",
       "      <td>0.068689</td>\n",
       "      <td>0.636416</td>\n",
       "      <td>0.068689</td>\n",
       "      <td>0.636416</td>\n",
       "      <td>0.636416</td>\n",
       "      <td>0.185294</td>\n",
       "      <td>2029</td>\n",
       "      <td>0.337690</td>\n",
       "      <td>counting-three</td>\n",
       "      <td>20</td>\n",
       "      <td>277</td>\n",
       "      <td>2.770000e-05</td>\n",
       "    </tr>\n",
       "    <tr>\n",
       "      <th>4</th>\n",
       "      <td>0.929925</td>\n",
       "      <td>0.522713</td>\n",
       "      <td>0.522713</td>\n",
       "      <td>0.020979</td>\n",
       "      <td>0.522713</td>\n",
       "      <td>0.020979</td>\n",
       "      <td>0.020979</td>\n",
       "      <td>0.378545</td>\n",
       "      <td>2306</td>\n",
       "      <td>0.289447</td>\n",
       "      <td>counting-three</td>\n",
       "      <td>20</td>\n",
       "      <td>9</td>\n",
       "      <td>9.000000e-07</td>\n",
       "    </tr>\n",
       "    <tr>\n",
       "      <th>...</th>\n",
       "      <td>...</td>\n",
       "      <td>...</td>\n",
       "      <td>...</td>\n",
       "      <td>...</td>\n",
       "      <td>...</td>\n",
       "      <td>...</td>\n",
       "      <td>...</td>\n",
       "      <td>...</td>\n",
       "      <td>...</td>\n",
       "      <td>...</td>\n",
       "      <td>...</td>\n",
       "      <td>...</td>\n",
       "      <td>...</td>\n",
       "      <td>...</td>\n",
       "    </tr>\n",
       "    <tr>\n",
       "      <th>47899</th>\n",
       "      <td>0.012864</td>\n",
       "      <td>0.641242</td>\n",
       "      <td>0.641242</td>\n",
       "      <td>0.024589</td>\n",
       "      <td>0.641242</td>\n",
       "      <td>0.024589</td>\n",
       "      <td>0.024589</td>\n",
       "      <td>0.553392</td>\n",
       "      <td>9999845</td>\n",
       "      <td>0.317108</td>\n",
       "      <td>counting-three</td>\n",
       "      <td>20</td>\n",
       "      <td>13</td>\n",
       "      <td>1.300000e-06</td>\n",
       "    </tr>\n",
       "    <tr>\n",
       "      <th>47900</th>\n",
       "      <td>0.817132</td>\n",
       "      <td>0.607970</td>\n",
       "      <td>0.607970</td>\n",
       "      <td>0.183911</td>\n",
       "      <td>0.607970</td>\n",
       "      <td>0.183911</td>\n",
       "      <td>0.183911</td>\n",
       "      <td>0.115471</td>\n",
       "      <td>9999858</td>\n",
       "      <td>0.219667</td>\n",
       "      <td>counting-three</td>\n",
       "      <td>20</td>\n",
       "      <td>9</td>\n",
       "      <td>9.000000e-07</td>\n",
       "    </tr>\n",
       "    <tr>\n",
       "      <th>47901</th>\n",
       "      <td>0.665477</td>\n",
       "      <td>0.662695</td>\n",
       "      <td>0.662695</td>\n",
       "      <td>0.478390</td>\n",
       "      <td>0.662695</td>\n",
       "      <td>0.478390</td>\n",
       "      <td>0.478390</td>\n",
       "      <td>0.568924</td>\n",
       "      <td>9999867</td>\n",
       "      <td>0.605439</td>\n",
       "      <td>counting-three</td>\n",
       "      <td>20</td>\n",
       "      <td>8</td>\n",
       "      <td>8.000000e-07</td>\n",
       "    </tr>\n",
       "    <tr>\n",
       "      <th>47902</th>\n",
       "      <td>0.625830</td>\n",
       "      <td>0.382034</td>\n",
       "      <td>0.382034</td>\n",
       "      <td>0.445524</td>\n",
       "      <td>0.382034</td>\n",
       "      <td>0.445524</td>\n",
       "      <td>0.445524</td>\n",
       "      <td>0.251547</td>\n",
       "      <td>9999875</td>\n",
       "      <td>0.395384</td>\n",
       "      <td>counting-three</td>\n",
       "      <td>20</td>\n",
       "      <td>8</td>\n",
       "      <td>8.000000e-07</td>\n",
       "    </tr>\n",
       "    <tr>\n",
       "      <th>47903</th>\n",
       "      <td>0.474812</td>\n",
       "      <td>0.161279</td>\n",
       "      <td>0.161279</td>\n",
       "      <td>0.068771</td>\n",
       "      <td>0.161279</td>\n",
       "      <td>0.068771</td>\n",
       "      <td>0.068771</td>\n",
       "      <td>0.539525</td>\n",
       "      <td>9999883</td>\n",
       "      <td>0.288705</td>\n",
       "      <td>counting-three</td>\n",
       "      <td>20</td>\n",
       "      <td>117</td>\n",
       "      <td>1.170000e-05</td>\n",
       "    </tr>\n",
       "  </tbody>\n",
       "</table>\n",
       "<p>532857 rows × 14 columns</p>\n",
       "</div>"
      ],
      "text/plain": [
       "            p_1       p_2       p_3       p_4       p_5       p_6       p_7  \\\n",
       "0      0.000000  0.000000  0.000000  0.000000  0.000000  0.000000  0.000000   \n",
       "1      0.094599  0.539822  0.539822  0.784930  0.539822  0.784930  0.784930   \n",
       "2      0.082884  0.028336  0.028336  0.515928  0.028336  0.515928  0.515928   \n",
       "3      0.006741  0.068689  0.068689  0.636416  0.068689  0.636416  0.636416   \n",
       "4      0.929925  0.522713  0.522713  0.020979  0.522713  0.020979  0.020979   \n",
       "...         ...       ...       ...       ...       ...       ...       ...   \n",
       "47899  0.012864  0.641242  0.641242  0.024589  0.641242  0.024589  0.024589   \n",
       "47900  0.817132  0.607970  0.607970  0.183911  0.607970  0.183911  0.183911   \n",
       "47901  0.665477  0.662695  0.662695  0.478390  0.662695  0.478390  0.478390   \n",
       "47902  0.625830  0.382034  0.382034  0.445524  0.382034  0.445524  0.445524   \n",
       "47903  0.474812  0.161279  0.161279  0.068771  0.161279  0.068771  0.068771   \n",
       "\n",
       "            p_8        t  cooperation            type  seed  frequencies  \\\n",
       "0      0.000000        0     0.000000  counting-three    20         1918   \n",
       "1      0.092454     1918     0.488276  counting-three    20           72   \n",
       "2      0.609005     1990     0.378122  counting-three    20           39   \n",
       "3      0.185294     2029     0.337690  counting-three    20          277   \n",
       "4      0.378545     2306     0.289447  counting-three    20            9   \n",
       "...         ...      ...          ...             ...   ...          ...   \n",
       "47899  0.553392  9999845     0.317108  counting-three    20           13   \n",
       "47900  0.115471  9999858     0.219667  counting-three    20            9   \n",
       "47901  0.568924  9999867     0.605439  counting-three    20            8   \n",
       "47902  0.251547  9999875     0.395384  counting-three    20            8   \n",
       "47903  0.539525  9999883     0.288705  counting-three    20          117   \n",
       "\n",
       "       frequencies norm  \n",
       "0          1.918000e-04  \n",
       "1          7.200000e-06  \n",
       "2          3.900000e-06  \n",
       "3          2.770000e-05  \n",
       "4          9.000000e-07  \n",
       "...                 ...  \n",
       "47899      1.300000e-06  \n",
       "47900      9.000000e-07  \n",
       "47901      8.000000e-07  \n",
       "47902      8.000000e-07  \n",
       "47903      1.170000e-05  \n",
       "\n",
       "[532857 rows x 14 columns]"
      ]
     },
     "execution_count": 48,
     "metadata": {},
     "output_type": "execute_result"
    }
   ],
   "source": [
    "three"
   ]
  },
  {
   "cell_type": "code",
   "execution_count": 85,
   "metadata": {},
   "outputs": [],
   "source": [
    "df.to_csv(\"../prc_data/evolution_over_seeds_reactive_counting.csv\")"
   ]
  },
  {
   "cell_type": "code",
   "execution_count": null,
   "metadata": {},
   "outputs": [],
   "source": []
  }
 ],
 "metadata": {
  "kernelspec": {
   "display_name": "Python 3",
   "language": "python",
   "name": "python3"
  },
  "language_info": {
   "codemirror_mode": {
    "name": "ipython",
    "version": 3
   },
   "file_extension": ".py",
   "mimetype": "text/x-python",
   "name": "python",
   "nbconvert_exporter": "python",
   "pygments_lexer": "ipython3",
   "version": "3.11.3"
  }
 },
 "nbformat": 4,
 "nbformat_minor": 4
}
