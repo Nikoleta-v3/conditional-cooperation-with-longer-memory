{
 "cells": [
  {
   "cell_type": "code",
   "execution_count": 1,
   "id": "6f087e2d",
   "metadata": {},
   "outputs": [],
   "source": [
    "import repeated_play"
   ]
  },
  {
   "cell_type": "code",
   "execution_count": 2,
   "id": "ac0f132e",
   "metadata": {},
   "outputs": [],
   "source": [
    "import sympy as sym"
   ]
  },
  {
   "cell_type": "code",
   "execution_count": 3,
   "id": "f016d9ff",
   "metadata": {},
   "outputs": [],
   "source": [
    "import numpy as np"
   ]
  },
  {
   "cell_type": "markdown",
   "id": "6faf7976",
   "metadata": {},
   "source": [
    "**An example for the SI**"
   ]
  },
  {
   "cell_type": "code",
   "execution_count": 17,
   "id": "95956dd0",
   "metadata": {},
   "outputs": [],
   "source": [
    "b, c = sym.symbols(\"b, c\")"
   ]
  },
  {
   "cell_type": "code",
   "execution_count": 6,
   "id": "0a5c708e",
   "metadata": {},
   "outputs": [],
   "source": [
    "reactive = sym.Matrix([sym.Rational(1, 2),\n",
    "                       sym.Rational(1, 3),\n",
    "                       sym.Rational(1, 2),\n",
    "                       sym.Rational(1, 3)])"
   ]
  },
  {
   "cell_type": "code",
   "execution_count": 8,
   "id": "e1cccce3",
   "metadata": {},
   "outputs": [],
   "source": [
    "self_reactive = sym.Matrix([sym.Rational(1, 4),\n",
    "                       sym.Rational(1, 4),\n",
    "                       sym.Rational(1, 2),\n",
    "                       sym.Rational(1, 2)])"
   ]
  },
  {
   "cell_type": "code",
   "execution_count": 11,
   "id": "a292cf01",
   "metadata": {},
   "outputs": [],
   "source": [
    "M = repeated_play.transition_matrix_repeated_game(reactive,\n",
    "                                                  self_reactive,\n",
    "                                                  memory='one',\n",
    "                                                  analytical=True)"
   ]
  },
  {
   "cell_type": "code",
   "execution_count": 29,
   "id": "306908a7",
   "metadata": {},
   "outputs": [
    {
     "name": "stdout",
     "output_type": "stream",
     "text": [
      "\\left[\\begin{matrix}\\frac{1}{8} & \\frac{3}{8} & \\frac{1}{8} & \\frac{3}{8}\\\\\\frac{1}{6} & \\frac{1}{6} & \\frac{1}{3} & \\frac{1}{3}\\\\\\frac{1}{8} & \\frac{3}{8} & \\frac{1}{8} & \\frac{3}{8}\\\\\\frac{1}{6} & \\frac{1}{6} & \\frac{1}{3} & \\frac{1}{3}\\end{matrix}\\right]\n"
     ]
    }
   ],
   "source": [
    "print(sym.latex(M))"
   ]
  },
  {
   "cell_type": "code",
   "execution_count": 14,
   "id": "03f0b2fe",
   "metadata": {},
   "outputs": [],
   "source": [
    "ss = repeated_play.stationary_distribution(M, analytical=True)"
   ]
  },
  {
   "cell_type": "code",
   "execution_count": 32,
   "id": "763f096c",
   "metadata": {},
   "outputs": [
    {
     "name": "stdout",
     "output_type": "stream",
     "text": [
      "\\left[\\begin{matrix}\\frac{4}{25} & \\frac{6}{25} & \\frac{6}{25} & \\frac{9}{25}\\end{matrix}\\right]\n"
     ]
    }
   ],
   "source": [
    "print(sym.latex(ss))"
   ]
  },
  {
   "cell_type": "code",
   "execution_count": 19,
   "id": "7a1742dd",
   "metadata": {},
   "outputs": [
    {
     "data": {
      "text/latex": [
       "$\\displaystyle \\frac{2 b}{5} - \\frac{2 c}{5}$"
      ],
      "text/plain": [
       "2*b/5 - 2*c/5"
      ]
     },
     "execution_count": 19,
     "metadata": {},
     "output_type": "execute_result"
    }
   ],
   "source": [
    "sum(ss * sym.Matrix([b-c, -c, b, 0]))"
   ]
  },
  {
   "cell_type": "code",
   "execution_count": 20,
   "id": "a3fb47fa",
   "metadata": {},
   "outputs": [],
   "source": [
    "tM = sym.Matrix([[self_reactive[0], 1 - self_reactive[0], 0, 0],\n",
    "                 [0, 0, self_reactive[1], 1 - self_reactive[1]],\n",
    "                 [self_reactive[2], 1 - self_reactive[2], 0, 0],\n",
    "                 [0, 0, self_reactive[3], 1 - self_reactive[3]],\n",
    "                ])"
   ]
  },
  {
   "cell_type": "code",
   "execution_count": 35,
   "id": "8421e84c",
   "metadata": {},
   "outputs": [
    {
     "name": "stdout",
     "output_type": "stream",
     "text": [
      "\\left[\\begin{matrix}\\frac{1}{4} & \\frac{3}{4} & 0 & 0\\\\0 & 0 & \\frac{1}{4} & \\frac{3}{4}\\\\\\frac{1}{2} & \\frac{1}{2} & 0 & 0\\\\0 & 0 & \\frac{1}{2} & \\frac{1}{2}\\end{matrix}\\right]\n"
     ]
    }
   ],
   "source": [
    "print(sym.latex(tM))"
   ]
  },
  {
   "cell_type": "code",
   "execution_count": 36,
   "id": "180a78f9",
   "metadata": {},
   "outputs": [],
   "source": [
    "ss = repeated_play.stationary_distribution(tM, analytical=True)"
   ]
  },
  {
   "cell_type": "code",
   "execution_count": 38,
   "id": "c1f77673",
   "metadata": {},
   "outputs": [
    {
     "name": "stdout",
     "output_type": "stream",
     "text": [
      "\\left[\\begin{matrix}\\frac{4}{25} & \\frac{6}{25} & \\frac{6}{25} & \\frac{9}{25}\\end{matrix}\\right]\n"
     ]
    }
   ],
   "source": [
    "print(sym.latex(ss))"
   ]
  },
  {
   "cell_type": "code",
   "execution_count": 27,
   "id": "189e9737",
   "metadata": {},
   "outputs": [
    {
     "data": {
      "text/latex": [
       "$\\displaystyle \\frac{2 b}{5} - \\frac{2 c}{5}$"
      ],
      "text/plain": [
       "2*b/5 - 2*c/5"
      ]
     },
     "execution_count": 27,
     "metadata": {},
     "output_type": "execute_result"
    }
   ],
   "source": [
    "(ss[0] * (b * reactive[0] - c) + ss[1] * (b * reactive[1] - c) +\n",
    " ss[2] * b * reactive[2] + ss[3] * b * reactive[3])"
   ]
  }
 ],
 "metadata": {
  "kernelspec": {
   "display_name": "Python 3",
   "language": "python",
   "name": "python3"
  },
  "language_info": {
   "codemirror_mode": {
    "name": "ipython",
    "version": 3
   },
   "file_extension": ".py",
   "mimetype": "text/x-python",
   "name": "python",
   "nbconvert_exporter": "python",
   "pygments_lexer": "ipython3",
   "version": "3.11.3"
  }
 },
 "nbformat": 4,
 "nbformat_minor": 5
}
