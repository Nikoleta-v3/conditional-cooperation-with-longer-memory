{
 "cells": [
  {
   "cell_type": "code",
   "execution_count": 1,
   "id": "0e92915d",
   "metadata": {},
   "outputs": [],
   "source": [
    "import numpy as np\n",
    "\n",
    "import matplotlib.pyplot as plt\n",
    "\n",
    "import tqdm"
   ]
  },
  {
   "cell_type": "code",
   "execution_count": 2,
   "id": "59eaf7a3",
   "metadata": {},
   "outputs": [],
   "source": [
    "import os\n",
    "\n",
    "os.chdir(\"..\")"
   ]
  },
  {
   "cell_type": "code",
   "execution_count": 3,
   "id": "71f21b88",
   "metadata": {},
   "outputs": [],
   "source": [
    "from importlib.machinery import SourceFileLoader\n",
    "\n",
    "main = SourceFileLoader(\"main\", \"src/main.py\").load_module()\n",
    "\n",
    "eq = SourceFileLoader(\"eq\", \"src/numerical_equilibria_n_bit_vs_n_bit.py\").load_module()\n",
    "\n",
    "from main import invariant_distribution, invariant_distribution_analytically\n",
    "\n",
    "def match_payoff(player, coplayer, Sx):\n",
    "    M = eq.calculate_M_memory_two(player, coplayer)\n",
    "    ss = invariant_distribution(M)\n",
    "\n",
    "    return ss @ Sx"
   ]
  },
  {
   "cell_type": "code",
   "execution_count": 4,
   "id": "61866943",
   "metadata": {},
   "outputs": [],
   "source": [
    "import sympy as sym\n",
    "\n",
    "sym.init_printing(True)"
   ]
  },
  {
   "cell_type": "markdown",
   "id": "a3c3be49",
   "metadata": {},
   "source": [
    "**Against a reactive player, self reactive works**"
   ]
  },
  {
   "cell_type": "markdown",
   "id": "08da609d",
   "metadata": {},
   "source": [
    "if  Y is playing a strategy with a memory of N  rounds, while X is playing a strategy with a memory of only 1 round, then by averaging over the resulting probability distribution of all sequences of N outcomes, we can produce an alternative strategy for Y, with a memory of only 1 round, whose long-run average scores against \n",
    "X’s strategy are identical.)"
   ]
  },
  {
   "cell_type": "code",
   "execution_count": 5,
   "id": "cc027933",
   "metadata": {},
   "outputs": [],
   "source": [
    "p_1, p_2, p_3, p_4 = sym.symbols(\"p_1, p_2, p_3, p_4\")\n",
    "\n",
    "q_1, q_2 = sym.symbols(\"q_1, q_2\")"
   ]
  },
  {
   "cell_type": "code",
   "execution_count": 6,
   "id": "306c6ce9",
   "metadata": {},
   "outputs": [],
   "source": [
    "p = (p_1, p_1, p_2, p_2)\n",
    "\n",
    "q = (q_1, q_2, q_1, q_2)"
   ]
  },
  {
   "cell_type": "code",
   "execution_count": 7,
   "id": "bf18a945",
   "metadata": {},
   "outputs": [],
   "source": [
    "M = main.calculate_M(q, p, analytical=True)"
   ]
  },
  {
   "cell_type": "code",
   "execution_count": 8,
   "id": "c3797b29",
   "metadata": {},
   "outputs": [],
   "source": [
    "ss = invariant_distribution_analytically(M)"
   ]
  },
  {
   "cell_type": "code",
   "execution_count": 9,
   "id": "0c285286",
   "metadata": {},
   "outputs": [
    {
     "data": {
      "image/png": "[encoded data removed]",
      "text/latex": [
       "$\\displaystyle \\left[ - \\frac{p_{2} \\left(p_{1} q_{1} - p_{1} q_{2} + q_{2}\\right)}{p_{1} - p_{2} - 1}, \\  \\frac{\\left(p_{1} - 1\\right) \\left(p_{2} q_{1} - p_{2} q_{2} + q_{2}\\right)}{p_{1} - p_{2} - 1}, \\  \\frac{p_{2} \\left(p_{1} q_{1} - p_{1} q_{2} + q_{2} - 1\\right)}{p_{1} - p_{2} - 1}, \\  - \\frac{\\left(p_{1} - 1\\right) \\left(p_{2} q_{1} - p_{2} q_{2} + q_{2} - 1\\right)}{p_{1} - p_{2} - 1}\\right]$"
      ],
      "text/plain": [
       "⎡-p₂⋅(p₁⋅q₁ - p₁⋅q₂ + q₂)   (p₁ - 1)⋅(p₂⋅q₁ - p₂⋅q₂ + q₂)  p₂⋅(p₁⋅q₁ - p₁⋅q₂ + q₂ - 1)  -(p₁ - 1)⋅(p₂⋅q₁ - p₂⋅q₂ + q₂ - 1) ⎤\n",
       "⎢─────────────────────────, ─────────────────────────────, ───────────────────────────, ───────────────────────────────────⎥\n",
       "⎣       p₁ - p₂ - 1                  p₁ - p₂ - 1                   p₁ - p₂ - 1                      p₁ - p₂ - 1            ⎦"
      ]
     },
     "execution_count": 9,
     "metadata": {},
     "output_type": "execute_result"
    }
   ],
   "source": [
    "[s.factor() for s in ss]"
   ]
  },
  {
   "cell_type": "code",
   "execution_count": 41,
   "id": "2f21e61c",
   "metadata": {},
   "outputs": [],
   "source": [
    "x = ss[0]"
   ]
  },
  {
   "cell_type": "code",
   "execution_count": 50,
   "id": "0edfa616",
   "metadata": {},
   "outputs": [
    {
     "data": {
      "image/png": "[encoded data removed]",
      "text/latex": [
       "$\\displaystyle 0$"
      ],
      "text/plain": [
       "0"
      ]
     },
     "execution_count": 50,
     "metadata": {},
     "output_type": "execute_result"
    }
   ],
   "source": [
    "((- x + y) - ss[2]).factor()"
   ]
  },
  {
   "cell_type": "code",
   "execution_count": 57,
   "id": "b946ccdb",
   "metadata": {},
   "outputs": [
    {
     "data": {
      "image/png": "[encoded data removed]",
      "text/latex": [
       "$\\displaystyle \\frac{p_{1} - 1}{p_{1} - p_{2} - 1}$"
      ],
      "text/plain": [
       "   p₁ - 1  \n",
       "───────────\n",
       "p₁ - p₂ - 1"
      ]
     },
     "execution_count": 57,
     "metadata": {},
     "output_type": "execute_result"
    }
   ],
   "source": [
    "l "
   ]
  },
  {
   "cell_type": "code",
   "execution_count": 47,
   "id": "4f30e341",
   "metadata": {},
   "outputs": [],
   "source": [
    "y = (ss[0] + ss[2]).simplify()"
   ]
  },
  {
   "cell_type": "code",
   "execution_count": 51,
   "id": "8872ba3e",
   "metadata": {},
   "outputs": [],
   "source": [
    "z = ss[1]"
   ]
  },
  {
   "cell_type": "code",
   "execution_count": 55,
   "id": "904e8ebb",
   "metadata": {},
   "outputs": [],
   "source": [
    "l = (ss[1] + ss[3]).factor()"
   ]
  },
  {
   "cell_type": "code",
   "execution_count": 59,
   "id": "9dd2435f",
   "metadata": {},
   "outputs": [
    {
     "data": {
      "image/png": "[encoded data removed]",
      "text/latex": [
       "$\\displaystyle 0$"
      ],
      "text/plain": [
       "0"
      ]
     },
     "execution_count": 59,
     "metadata": {},
     "output_type": "execute_result"
    }
   ],
   "source": [
    "((-z + l) - ss[3]).factor()"
   ]
  },
  {
   "cell_type": "code",
   "execution_count": null,
   "id": "423feae1",
   "metadata": {},
   "outputs": [],
   "source": [
    "(ss[1] + ss[2]).factor()"
   ]
  },
  {
   "cell_type": "code",
   "execution_count": 9,
   "id": "440c6b1f",
   "metadata": {},
   "outputs": [],
   "source": [
    "x = ss[0].factor() + ss[1].factor()"
   ]
  },
  {
   "cell_type": "code",
   "execution_count": 10,
   "id": "ed682d91",
   "metadata": {},
   "outputs": [
    {
     "data": {
      "image/png": "[encoded data removed]",
      "text/latex": [
       "$\\displaystyle \\frac{p_{2} \\left(p_{1} q_{1} - p_{1} q_{2} + q_{2} - 1\\right)}{p_{1} - p_{2} - 1}$"
      ],
      "text/plain": [
       "p₂⋅(p₁⋅q₁ - p₁⋅q₂ + q₂ - 1)\n",
       "───────────────────────────\n",
       "        p₁ - p₂ - 1        "
      ]
     },
     "execution_count": 10,
     "metadata": {},
     "output_type": "execute_result"
    }
   ],
   "source": [
    "ss[1].factor()"
   ]
  },
  {
   "cell_type": "code",
   "execution_count": 11,
   "id": "4eac7dc4",
   "metadata": {},
   "outputs": [],
   "source": [
    "y = ss[2].factor() + ss[3].factor()"
   ]
  },
  {
   "cell_type": "code",
   "execution_count": 12,
   "id": "89d8d60b",
   "metadata": {},
   "outputs": [
    {
     "data": {
      "image/png": "[encoded data removed]",
      "text/latex": [
       "$\\displaystyle - \\frac{\\left(p_{1} - 1\\right) \\left(p_{2} q_{1} - p_{2} q_{2} + q_{2} - 1\\right)}{p_{1} - p_{2} - 1}$"
      ],
      "text/plain": [
       "-(p₁ - 1)⋅(p₂⋅q₁ - p₂⋅q₂ + q₂ - 1) \n",
       "───────────────────────────────────\n",
       "            p₁ - p₂ - 1            "
      ]
     },
     "execution_count": 12,
     "metadata": {},
     "output_type": "execute_result"
    }
   ],
   "source": [
    "ss[3].factor()"
   ]
  },
  {
   "cell_type": "code",
   "execution_count": 13,
   "id": "14070063",
   "metadata": {},
   "outputs": [
    {
     "data": {
      "image/png": "[encoded data removed]",
      "text/latex": [
       "$\\displaystyle \\frac{- p_{1} - p_{2} + 1}{p_{1} - p_{2} - 1}$"
      ],
      "text/plain": [
       "-p₁ - p₂ + 1\n",
       "────────────\n",
       "p₁ - p₂ - 1 "
      ]
     },
     "execution_count": 13,
     "metadata": {},
     "output_type": "execute_result"
    }
   ],
   "source": [
    "(x - y).simplify()"
   ]
  },
  {
   "cell_type": "markdown",
   "id": "9a42aab0",
   "metadata": {},
   "source": [
    "**Numerical Example**"
   ]
  },
  {
   "cell_type": "code",
   "execution_count": 5,
   "id": "d27a16c6",
   "metadata": {},
   "outputs": [],
   "source": [
    "for i in range(10 ** 3):\n",
    "    \n",
    "    np.random.seed(i)\n",
    "    \n",
    "    # a random reactive strategy\n",
    "    q_val = np.random.random(2)\n",
    "    \n",
    "    # a random memory one strategy\n",
    "    p_val = np.random.random(4)\n",
    "    \n",
    "    # invariant distribution v\n",
    "    \n",
    "    M = main.calculate_M(np.concatenate((q_val, q_val)), p_val, analytical=False)\n",
    "\n",
    "    ss = invariant_distribution(M)\n",
    "    \n",
    "    # equations for self reactive\n",
    "\n",
    "    p1 = (ss[0] * p_val[0] + ss[2] * p_val[1]) / (ss[0] + ss[2])\n",
    "\n",
    "    p2 = (ss[1] * p_val[2] + ss[3] * p_val[3]) / (ss[1] + ss[3])\n",
    "\n",
    "    # new invariant \n",
    "    \n",
    "    M2 = main.calculate_M(np.concatenate((q_val, q_val)), [p1, p1, p2, p2], analytical=False)\n",
    "\n",
    "    ss2 = invariant_distribution(M2)\n",
    "    \n",
    "    # compare them\n",
    "\n",
    "    assert np.isclose(ss2, ss).all()"
   ]
  },
  {
   "cell_type": "code",
   "execution_count": 72,
   "id": "53a9896b",
   "metadata": {},
   "outputs": [],
   "source": [
    "q_val = [0, 1, 0, 1]\n",
    "\n",
    "p_val = [1, 0, 1, 1]"
   ]
  },
  {
   "cell_type": "code",
   "execution_count": 73,
   "id": "30790429",
   "metadata": {},
   "outputs": [],
   "source": [
    "M = main.calculate_M(q_val, p_val, analytical=False)"
   ]
  },
  {
   "cell_type": "code",
   "execution_count": 74,
   "id": "a3cba488",
   "metadata": {},
   "outputs": [],
   "source": [
    "ss = invariant_distribution(M)"
   ]
  },
  {
   "cell_type": "code",
   "execution_count": 75,
   "id": "f0c917f5",
   "metadata": {},
   "outputs": [
    {
     "data": {
      "text/plain": [
       "array([ 0.33333333, -0.        ,  0.33333333,  0.33333333])"
      ]
     },
     "execution_count": 75,
     "metadata": {},
     "output_type": "execute_result"
    }
   ],
   "source": [
    "ss"
   ]
  },
  {
   "cell_type": "code",
   "execution_count": 76,
   "id": "175575ba",
   "metadata": {},
   "outputs": [],
   "source": [
    "p1 = (ss[0] * p_val[0] + ss[2] * p_val[1]) / (ss[0] + ss[2])\n",
    "\n",
    "p2 = (ss[1] * p_val[2] + ss[3] * p_val[3]) / (ss[1] + ss[3])"
   ]
  },
  {
   "cell_type": "code",
   "execution_count": 77,
   "id": "50fa16c5",
   "metadata": {},
   "outputs": [
    {
     "data": {
      "image/png": "[encoded data removed]",
      "text/latex": [
       "$\\displaystyle \\left( 0.5, \\  1.0\\right)$"
      ],
      "text/plain": [
       "(0.5, 1.0)"
      ]
     },
     "execution_count": 77,
     "metadata": {},
     "output_type": "execute_result"
    }
   ],
   "source": [
    "p1, p2"
   ]
  },
  {
   "cell_type": "code",
   "execution_count": 78,
   "id": "6de2c270",
   "metadata": {},
   "outputs": [],
   "source": [
    "M2 = main.calculate_M(q_val, [p1, p1, p2, p2], analytical=False)"
   ]
  },
  {
   "cell_type": "code",
   "execution_count": 79,
   "id": "c191cb47",
   "metadata": {},
   "outputs": [],
   "source": [
    "ss2 = invariant_distribution(M2)"
   ]
  },
  {
   "cell_type": "code",
   "execution_count": 80,
   "id": "6055c1b9",
   "metadata": {},
   "outputs": [
    {
     "data": {
      "text/plain": [
       "array([0.33333333, 0.        , 0.33333333, 0.33333333])"
      ]
     },
     "execution_count": 80,
     "metadata": {},
     "output_type": "execute_result"
    }
   ],
   "source": [
    "ss2"
   ]
  },
  {
   "cell_type": "markdown",
   "id": "8ea840b2",
   "metadata": {},
   "source": [
    "### Two bits"
   ]
  },
  {
   "cell_type": "markdown",
   "id": "21126531",
   "metadata": {},
   "source": [
    "#### The Press and Dyson way"
   ]
  },
  {
   "cell_type": "code",
   "execution_count": 6,
   "id": "89ead56d",
   "metadata": {},
   "outputs": [],
   "source": [
    "cc = [0, 2, 8, 10]\n",
    "\n",
    "cd = [1, 3, 9, 11]\n",
    "\n",
    "dc = [4, 6, 12, 14]\n",
    "\n",
    "dd = [5, 7, 13, 15]\n",
    "\n",
    "cc_player = [0, 1, 4, 5]\n",
    "\n",
    "cd_player = [2, 3, 6, 7]\n",
    "\n",
    "dc_player = [8, 9, 12, 13]\n",
    "\n",
    "dd_player = [10, 11, 14, 15]"
   ]
  },
  {
   "cell_type": "code",
   "execution_count": 10,
   "id": "0223f914",
   "metadata": {},
   "outputs": [
    {
     "ename": "AssertionError",
     "evalue": "",
     "output_type": "error",
     "traceback": [
      "\u001b[0;31m---------------------------------------------------------------------------\u001b[0m",
      "\u001b[0;31mAssertionError\u001b[0m                            Traceback (most recent call last)",
      "Cell \u001b[0;32mIn[10], line 47\u001b[0m\n\u001b[1;32m     43\u001b[0m ss2 \u001b[38;5;241m=\u001b[39m invariant_distribution(M2)\n\u001b[1;32m     45\u001b[0m \u001b[38;5;66;03m# compare them\u001b[39;00m\n\u001b[0;32m---> 47\u001b[0m \u001b[38;5;28;01massert\u001b[39;00m np\u001b[38;5;241m.\u001b[39misclose(ss2 , ss)\u001b[38;5;241m.\u001b[39mall()\n",
      "\u001b[0;31mAssertionError\u001b[0m: "
     ]
    }
   ],
   "source": [
    "# b, c = 3, 1\n",
    "\n",
    "r, s, t, p = 3, 0, 5, 1\n",
    "\n",
    "for i in range(2, 10 ** 3):\n",
    "    \n",
    "    np.random.seed(i)\n",
    "    \n",
    "    # a random reactive strategy\n",
    "    q_1val, q_2val, q_3val, q_4val = np.random.random(4)\n",
    "    \n",
    "    q_player = [q_1val, q_2val, q_1val, q_2val,  q_3val, q_4val,  q_3val, q_4val,\n",
    "                q_1val, q_2val, q_1val, q_2val,  q_3val, q_4val,  q_3val, q_4val]\n",
    "    \n",
    "    # a random memory one strategy\n",
    "    player = np.random.random(16)\n",
    "    \n",
    "    \n",
    "    # invariant distribution v\n",
    "    \n",
    "    M = eq.calculate_M_memory_two(q_player, player, analytical=False)\n",
    "\n",
    "    ss = invariant_distribution(M)\n",
    "    \n",
    "    # equations for self reactive\n",
    "\n",
    "    p1 = sum([ss[j] * player[l] for j, l in zip(cc, cc_player)]) / sum([ss[j] for j in cc])\n",
    "\n",
    "    p2 = sum([ss[j] * player[l] for j, l in zip(cd, cd_player)]) / sum([ss[j] for j in cd])\n",
    "    \n",
    "    p3 = sum([ss[j] * player[l] for j, l in zip(dc, dc_player)]) / sum([ss[j] for j in dc])\n",
    "\n",
    "    p4 = sum([ss[j] * player[l] for j, l in zip(dd, dd_player)]) / sum([ss[j] for j in dd])\n",
    "\n",
    "\n",
    "    # new invariant \n",
    "    \n",
    "    M2 = eq.calculate_M_memory_two(q_player,\n",
    "                                   [p1, p1, p2, p2, p1, p1, p2, p2, \n",
    "                                    p3, p3, p4, p4, p3, p3, p4, p4],\n",
    "                                   analytical=False)\n",
    "\n",
    "    ss2 = invariant_distribution(M2)\n",
    "    \n",
    "    # compare them\n",
    "\n",
    "    assert np.isclose(ss2 , ss).all()"
   ]
  },
  {
   "cell_type": "code",
   "execution_count": 11,
   "id": "1b8d1b90",
   "metadata": {},
   "outputs": [
    {
     "data": {
      "text/plain": [
       "(array([0.02989432, 0.04541827, 0.03097647, 0.051363  , 0.01560506,\n",
       "        0.01925444, 0.08323528, 0.08268561, 0.06989519, 0.08292857,\n",
       "        0.06339721, 0.08132707, 0.04225747, 0.05317912, 0.11993908,\n",
       "        0.12864384]),\n",
       " array([0.03173341, 0.04357918, 0.03297496, 0.04936451, 0.02562964,\n",
       "        0.00922985, 0.09114901, 0.07477189, 0.06805611, 0.08476766,\n",
       "        0.06139872, 0.08332556, 0.03223289, 0.0632037 , 0.11202536,\n",
       "        0.13655756]))"
      ]
     },
     "execution_count": 11,
     "metadata": {},
     "output_type": "execute_result"
    }
   ],
   "source": [
    "ss2, ss"
   ]
  },
  {
   "cell_type": "code",
   "execution_count": 12,
   "id": "3a6eaf21",
   "metadata": {},
   "outputs": [
    {
     "data": {
      "image/png": "[encoded data removed]",
      "text/latex": [
       "$\\displaystyle 2.30471587034547$"
      ],
      "text/plain": [
       "2.3047158703454698"
      ]
     },
     "execution_count": 12,
     "metadata": {},
     "output_type": "execute_result"
    }
   ],
   "source": [
    "ss2 @ np.array([r, s, t, p] * 4)"
   ]
  },
  {
   "cell_type": "code",
   "execution_count": 13,
   "id": "72f08222",
   "metadata": {},
   "outputs": [
    {
     "data": {
      "image/png": "[encoded data removed]",
      "text/latex": [
       "$\\displaystyle 2.30471587034547$"
      ],
      "text/plain": [
       "2.3047158703454693"
      ]
     },
     "execution_count": 13,
     "metadata": {},
     "output_type": "execute_result"
    }
   ],
   "source": [
    "ss @ np.array([r, s, t, p] * 4)"
   ]
  },
  {
   "cell_type": "code",
   "execution_count": null,
   "id": "69717e5a",
   "metadata": {},
   "outputs": [],
   "source": []
  },
  {
   "cell_type": "markdown",
   "id": "e212e96f",
   "metadata": {},
   "source": [
    "#### Our way"
   ]
  },
  {
   "cell_type": "code",
   "execution_count": 14,
   "id": "5aa678eb",
   "metadata": {},
   "outputs": [],
   "source": [
    "cc = [0, 1, 4, 5]\n",
    "\n",
    "cd = [2, 3, 6, 7]\n",
    "\n",
    "dc = [8, 9, 12, 13]\n",
    "\n",
    "dd = [10, 11, 14, 15]"
   ]
  },
  {
   "cell_type": "code",
   "execution_count": 15,
   "id": "e01451e4",
   "metadata": {},
   "outputs": [],
   "source": [
    "b, c = 3, 1\n",
    "\n",
    "for i in range(1, 10 ** 3):\n",
    "  \n",
    "    np.random.seed(i)\n",
    "    \n",
    "    # a random reactive strategy\n",
    "    q_1val, q_2val, q_3val, q_4val = np.random.random(4)\n",
    "    \n",
    "    q_player = [q_1val, q_2val, q_1val, q_2val,  q_3val, q_4val,  q_3val, q_4val,\n",
    "                q_1val, q_2val, q_1val, q_2val,  q_3val, q_4val,  q_3val, q_4val]\n",
    "    \n",
    "    # a random memory one strategy\n",
    "    p_val = np.random.random(16)\n",
    "    \n",
    "    # invariant distribution v\n",
    "    \n",
    "    M = eq.calculate_M_memory_two(p_val, q_player, analytical=False)\n",
    "\n",
    "    ss = invariant_distribution(M)\n",
    "    \n",
    "    # equations for self reactive\n",
    "\n",
    "    p1 = sum([ss[j] * p_val[j] for j in cc]) / sum([ss[j] for j in cc])\n",
    "\n",
    "    p2 = sum([ss[j] * p_val[j] for j in cd]) / sum([ss[j] for j in cd])\n",
    "    \n",
    "    p3 = sum([ss[j] * p_val[j] for j in dc]) / sum([ss[j] for j in dc])\n",
    "\n",
    "    p4 = sum([ss[j] * p_val[j] for j in dd]) / sum([ss[j] for j in dd])\n",
    "\n",
    "\n",
    "    # new invariant \n",
    "    \n",
    "    M2 = eq.calculate_M_memory_two([p1, p1, p2, p2, p1, p1, p2, p2, \n",
    "                                    p3, p3, p4, p4, p3, p3, p4, p4],\n",
    "                                   q_player,\n",
    "                                   analytical=False)\n",
    "\n",
    "    ss2 = invariant_distribution(M2)\n",
    "    \n",
    "    # compare them\n",
    "\n",
    "    assert np.isclose(ss @ np.array([b - c, -c, b, 0] * 4), ss2 @ np.array([b - c, -c, b, 0] * 4)).all()"
   ]
  },
  {
   "cell_type": "markdown",
   "id": "b84670ec",
   "metadata": {},
   "source": [
    "#### Further checks with conditions\n",
    "\n",
    "\n",
    "1. $u^{p}(cc)$ = $u^{p'}(cc)$ \n",
    "\n",
    "2. $u^{p}(cd)$ = $u^{p'}(cd)$ \n",
    "\n",
    "3. $u^{p}(dc)$ = $u^{p'}(dc)$\n",
    "\n",
    "4. $u^{p}(dd)$ = $u^{p'}(dd)$ "
   ]
  },
  {
   "cell_type": "code",
   "execution_count": 24,
   "id": "5fb088c2",
   "metadata": {},
   "outputs": [],
   "source": [
    "b, c = 3, 1\n",
    "\n",
    "for i in range(1, 10 ** 3):\n",
    "  \n",
    "    np.random.seed(i)\n",
    "    \n",
    "    # a random reactive strategy\n",
    "    q_1val, q_2val, q_3val, q_4val = np.random.random(4)\n",
    "    \n",
    "    q_player = [q_1val, q_2val, q_1val, q_2val,  q_3val, q_4val,  q_3val, q_4val,\n",
    "                q_1val, q_2val, q_1val, q_2val,  q_3val, q_4val,  q_3val, q_4val]\n",
    "    \n",
    "    # a random memory one strategy\n",
    "    p_val = np.random.random(16)\n",
    "    \n",
    "    # invariant distribution v\n",
    "    \n",
    "    M = eq.calculate_M_memory_two(p_val, q_player, analytical=False)\n",
    "\n",
    "    ss = invariant_distribution(M)\n",
    "    \n",
    "    # equations for self reactive\n",
    "\n",
    "    p1 = sum([ss[j] * p_val[j] for j in cc]) / sum([ss[j] for j in cc])\n",
    "\n",
    "    p2 = sum([ss[j] * p_val[j] for j in cd]) / sum([ss[j] for j in cd])\n",
    "    \n",
    "    p3 = sum([ss[j] * p_val[j] for j in dc]) / sum([ss[j] for j in dc])\n",
    "\n",
    "    p4 = sum([ss[j] * p_val[j] for j in dd]) / sum([ss[j] for j in dd])\n",
    "\n",
    "\n",
    "    # new invariant \n",
    "    \n",
    "    M2 = eq.calculate_M_memory_two([p1, p1, p2, p2, p1, p1, p2, p2, \n",
    "                                    p3, p3, p4, p4, p3, p3, p4, p4],\n",
    "                                   q_player,\n",
    "                                   analytical=False)\n",
    "\n",
    "    ss2 = invariant_distribution(M2)\n",
    "    \n",
    "    assert np.isclose(sum([ss2[i] for i in cc]), sum([ss[i] for i in cc]))\n",
    "\n",
    "    assert np.isclose(sum([ss2[i] for i in cd]), sum([ss[i] for i in cd]))\n",
    "\n",
    "    assert np.isclose(sum([ss2[i] for i in dc]), sum([ss[i] for i in dc]))\n",
    "\n",
    "    assert np.isclose(sum([ss2[i] for i in dd]), sum([ss[i] for i in dd]))"
   ]
  },
  {
   "cell_type": "markdown",
   "id": "8bea75ff",
   "metadata": {},
   "source": [
    "### Tit For Two Tats (maybe)"
   ]
  },
  {
   "cell_type": "code",
   "execution_count": 90,
   "id": "0ff7b889",
   "metadata": {},
   "outputs": [],
   "source": [
    "TF2T = [1, 1, 1, 1, 1, 0, 1, 0, 1, 1, 1, 1, 1, 0, 1, 0]"
   ]
  },
  {
   "cell_type": "code",
   "execution_count": 91,
   "id": "cda950ee",
   "metadata": {},
   "outputs": [],
   "source": [
    "np.random.seed(10)\n",
    "\n",
    "oplayer = np.random.random(16).round(3)"
   ]
  },
  {
   "cell_type": "code",
   "execution_count": 92,
   "id": "e6af111b",
   "metadata": {},
   "outputs": [],
   "source": [
    "M = eq.calculate_M_memory_two(oplayer, TF2T, analytical=False)\n",
    "\n",
    "ss = invariant_distribution(M)"
   ]
  },
  {
   "cell_type": "markdown",
   "id": "f12c510d",
   "metadata": {},
   "source": [
    "**Akin's case**"
   ]
  },
  {
   "cell_type": "markdown",
   "id": "aaf9da55",
   "metadata": {},
   "source": [
    "Condition for reactive is the following:\n",
    "\n",
    "$p_2 < 1 - \\frac{c}{b}$"
   ]
  },
  {
   "cell_type": "code",
   "execution_count": 12,
   "id": "5b74c2fc",
   "metadata": {},
   "outputs": [],
   "source": [
    "b, c = sym.symbols(\"b, c\")"
   ]
  },
  {
   "cell_type": "code",
   "execution_count": 13,
   "id": "ce4ccda7",
   "metadata": {},
   "outputs": [],
   "source": [
    "to_check = [[0 for _ in range(4)], [1 for _ in range(4)], [0, 0, 1, 1], [1, 1, 0, 0]]"
   ]
  },
  {
   "cell_type": "code",
   "execution_count": 14,
   "id": "9f14d791",
   "metadata": {},
   "outputs": [],
   "source": [
    "q = [1, q_2, 1, q_2]"
   ]
  },
  {
   "cell_type": "code",
   "execution_count": 18,
   "id": "0225df41",
   "metadata": {},
   "outputs": [
    {
     "data": {
      "image/png": "[encoded data removed]",
      "text/latex": [
       "$\\displaystyle \\left[ \\frac{b - c}{b}\\right]$"
      ],
      "text/plain": [
       "⎡b - c⎤\n",
       "⎢─────⎥\n",
       "⎣  b  ⎦"
      ]
     },
     "execution_count": 18,
     "metadata": {},
     "output_type": "execute_result"
    }
   ],
   "source": [
    "M = main.calculate_M(to_check[0], q, analytical=True)\n",
    "\n",
    "ss = invariant_distribution_analytically(M)\n",
    "\n",
    "sym.solve((sum(ss @ np.array([b - c, -c, b, 0])) - (b - c)), q_2)"
   ]
  },
  {
   "cell_type": "code",
   "execution_count": 20,
   "id": "4168a4c0",
   "metadata": {},
   "outputs": [
    {
     "data": {
      "image/png": "[encoded data removed]",
      "text/latex": [
       "$\\displaystyle b q_{2}$"
      ],
      "text/plain": [
       "b⋅q₂"
      ]
     },
     "execution_count": 20,
     "metadata": {},
     "output_type": "execute_result"
    }
   ],
   "source": [
    "sum(ss @ np.array([b - c, -c, b, 0]))"
   ]
  },
  {
   "cell_type": "code",
   "execution_count": 16,
   "id": "be993690",
   "metadata": {},
   "outputs": [
    {
     "data": {
      "image/png": "[encoded data removed]",
      "text/latex": [
       "$\\displaystyle \\left[ \\right]$"
      ],
      "text/plain": [
       "[]"
      ]
     },
     "execution_count": 16,
     "metadata": {},
     "output_type": "execute_result"
    }
   ],
   "source": [
    "M = main.calculate_M(to_check[1], q, analytical=True)\n",
    "\n",
    "ss = invariant_distribution_analytically(M)\n",
    "\n",
    "sym.solve((sum(ss @ np.array([b - c, -c, b, 0])) - (b - c)), q_2)"
   ]
  },
  {
   "cell_type": "code",
   "execution_count": 21,
   "id": "bb12de3a",
   "metadata": {},
   "outputs": [
    {
     "data": {
      "image/png": "[encoded data removed]",
      "text/latex": [
       "$\\displaystyle \\left[ \\frac{b - c}{b}\\right]$"
      ],
      "text/plain": [
       "⎡b - c⎤\n",
       "⎢─────⎥\n",
       "⎣  b  ⎦"
      ]
     },
     "execution_count": 21,
     "metadata": {},
     "output_type": "execute_result"
    }
   ],
   "source": [
    "M = main.calculate_M(to_check[2], q, analytical=True)\n",
    "\n",
    "ss = invariant_distribution_analytically(M)\n",
    "\n",
    "sym.solve((sum(ss @ np.array([b - c, -c, b, 0])) - (b - c)), q_2)"
   ]
  },
  {
   "cell_type": "code",
   "execution_count": 24,
   "id": "0ebc19f2",
   "metadata": {},
   "outputs": [
    {
     "data": {
      "image/png": "[encoded data removed]",
      "text/latex": [
       "$\\displaystyle \\frac{b q_{2} + b - c}{2}$"
      ],
      "text/plain": [
       "b⋅q₂ + b - c\n",
       "────────────\n",
       "     2      "
      ]
     },
     "execution_count": 24,
     "metadata": {},
     "output_type": "execute_result"
    }
   ],
   "source": [
    "sum(ss @ np.array([b - c, -c, b, 0])).factor()"
   ]
  },
  {
   "cell_type": "code",
   "execution_count": 156,
   "id": "508eaff3",
   "metadata": {},
   "outputs": [],
   "source": [
    "# M = main.calculate_M(to_check[3], q, analytical=True)\n",
    "\n",
    "# ss = invariant_distribution_analytically(M)\n",
    "\n",
    "# sym.solve((sum(ss @ np.array([b - c, -c, b, 0])) - (b - c)), q_2)"
   ]
  },
  {
   "cell_type": "markdown",
   "id": "e49f95eb",
   "metadata": {},
   "source": [
    "**Investigating similarities**"
   ]
  },
  {
   "cell_type": "code",
   "execution_count": 25,
   "id": "e20aec39",
   "metadata": {},
   "outputs": [
    {
     "data": {
      "image/png": "[encoded data removed]",
      "text/latex": [
       "$\\displaystyle \\left[\\begin{matrix}0 & 0 & q_{2} & 1 - q_{2}\\end{matrix}\\right]$"
      ],
      "text/plain": [
       "[0  0  q₂  1 - q₂]"
      ]
     },
     "execution_count": 25,
     "metadata": {},
     "output_type": "execute_result"
    }
   ],
   "source": [
    "M = main.calculate_M(to_check[0], q, analytical=True)\n",
    "\n",
    "ss1 = invariant_distribution_analytically(M)\n",
    "\n",
    "ss1"
   ]
  },
  {
   "cell_type": "code",
   "execution_count": 26,
   "id": "c4b85452",
   "metadata": {},
   "outputs": [],
   "source": [
    "M = main.calculate_M(to_check[2], q, analytical=True)\n",
    "\n",
    "ss2 = invariant_distribution_analytically(M)\n",
    "\n",
    "# ss2 = [s.factor() for s in ss]"
   ]
  },
  {
   "cell_type": "code",
   "execution_count": 27,
   "id": "ecd742e6",
   "metadata": {},
   "outputs": [],
   "source": [
    "alld = sum(ss1 @ np.array([b - c, -c, b, 0]))\n",
    "\n",
    "atft = sum(ss2 @ np.array([b - c, -c, b, 0]))"
   ]
  },
  {
   "cell_type": "code",
   "execution_count": 28,
   "id": "4548fda9",
   "metadata": {},
   "outputs": [
    {
     "data": {
      "image/png": "[encoded data removed]",
      "text/latex": [
       "$\\displaystyle \\left[ \\frac{b - c}{b}\\right]$"
      ],
      "text/plain": [
       "⎡b - c⎤\n",
       "⎢─────⎥\n",
       "⎣  b  ⎦"
      ]
     },
     "execution_count": 28,
     "metadata": {},
     "output_type": "execute_result"
    }
   ],
   "source": [
    "sym.solve((sum(ss2 @ np.array([b - c, -c, b, 0]) - (b - c)).simplify()).factor(), q_2)"
   ]
  },
  {
   "cell_type": "code",
   "execution_count": 29,
   "id": "0298e601",
   "metadata": {},
   "outputs": [
    {
     "data": {
      "image/png": "[encoded data removed]",
      "text/latex": [
       "$\\displaystyle \\frac{b q_{2} + b - c}{2}$"
      ],
      "text/plain": [
       "b⋅q₂ + b - c\n",
       "────────────\n",
       "     2      "
      ]
     },
     "execution_count": 29,
     "metadata": {},
     "output_type": "execute_result"
    }
   ],
   "source": [
    "sum(ss2 @ np.array([b - c, -c, b, 0])).factor()"
   ]
  },
  {
   "cell_type": "code",
   "execution_count": null,
   "id": "7509384a",
   "metadata": {},
   "outputs": [],
   "source": []
  },
  {
   "cell_type": "code",
   "execution_count": 30,
   "id": "4d57b5a1",
   "metadata": {},
   "outputs": [
    {
     "data": {
      "image/png": "[encoded data removed]",
      "text/latex": [
       "$\\displaystyle \\frac{b - c}{b}$"
      ],
      "text/plain": [
       "b - c\n",
       "─────\n",
       "  b  "
      ]
     },
     "execution_count": 30,
     "metadata": {},
     "output_type": "execute_result"
    }
   ],
   "source": [
    "sym.solve(alld - (b - c), q_2)[0].factor()"
   ]
  },
  {
   "cell_type": "markdown",
   "id": "c08427a6",
   "metadata": {},
   "source": [
    "**Plotting**"
   ]
  },
  {
   "cell_type": "code",
   "execution_count": 31,
   "id": "2554d32b",
   "metadata": {},
   "outputs": [
    {
     "data": {
      "image/png": "[encoded data removed]",
      "text/plain": [
       "<Figure size 432x288 with 1 Axes>"
      ]
     },
     "metadata": {
      "needs_background": "light"
     },
     "output_type": "display_data"
    }
   ],
   "source": [
    "plt.plot(np.linspace(0, 1, 100),\n",
    "         [alld.subs({b:2, c:1, q_2: q_val}) for q_val in np.linspace(0, 1, 100)]);\n",
    "\n",
    "plt.plot(np.linspace(0, 1, 100),\n",
    "         [atft.subs({b:2, c:1, q_2: q_val}) for q_val in np.linspace(0, 1, 100)]);"
   ]
  },
  {
   "cell_type": "code",
   "execution_count": 164,
   "id": "d76f4c93",
   "metadata": {},
   "outputs": [],
   "source": [
    "M = main.calculate_M(to_check[1], q, analytical=True)\n",
    "\n",
    "ss1 = invariant_distribution_analytically(M)"
   ]
  },
  {
   "cell_type": "code",
   "execution_count": 165,
   "id": "4a7124e4",
   "metadata": {},
   "outputs": [
    {
     "ename": "KeyError",
     "evalue": "b_4",
     "output_type": "error",
     "traceback": [
      "\u001b[0;31m---------------------------------------------------------------------------\u001b[0m",
      "\u001b[0;31mKeyError\u001b[0m                                  Traceback (most recent call last)",
      "\u001b[0;32m<ipython-input-165-336dd4a00fb2>\u001b[0m in \u001b[0;36m<module>\u001b[0;34m\u001b[0m\n\u001b[1;32m      1\u001b[0m \u001b[0mM\u001b[0m \u001b[0;34m=\u001b[0m \u001b[0mmain\u001b[0m\u001b[0;34m.\u001b[0m\u001b[0mcalculate_M\u001b[0m\u001b[0;34m(\u001b[0m\u001b[0mto_check\u001b[0m\u001b[0;34m[\u001b[0m\u001b[0;36m3\u001b[0m\u001b[0;34m]\u001b[0m\u001b[0;34m,\u001b[0m \u001b[0mq\u001b[0m\u001b[0;34m,\u001b[0m \u001b[0manalytical\u001b[0m\u001b[0;34m=\u001b[0m\u001b[0;32mTrue\u001b[0m\u001b[0;34m)\u001b[0m\u001b[0;34m\u001b[0m\u001b[0;34m\u001b[0m\u001b[0m\n\u001b[1;32m      2\u001b[0m \u001b[0;34m\u001b[0m\u001b[0m\n\u001b[0;32m----> 3\u001b[0;31m \u001b[0mss2\u001b[0m \u001b[0;34m=\u001b[0m \u001b[0minvariant_distribution_analytically\u001b[0m\u001b[0;34m(\u001b[0m\u001b[0mM\u001b[0m\u001b[0;34m)\u001b[0m\u001b[0;34m\u001b[0m\u001b[0;34m\u001b[0m\u001b[0m\n\u001b[0m",
      "\u001b[0;32m~/rsc/reactive-two-bits/src/main.py\u001b[0m in \u001b[0;36minvariant_distribution_analytically\u001b[0;34m(M)\u001b[0m\n\u001b[1;32m    227\u001b[0m     v_vector = sym.Matrix(\n\u001b[1;32m    228\u001b[0m         [\n\u001b[0;32m--> 229\u001b[0;31m             \u001b[0;34m[\u001b[0m\u001b[0mss\u001b[0m\u001b[0;34m[\u001b[0m\u001b[0mp\u001b[0m\u001b[0;34m]\u001b[0m \u001b[0;32mfor\u001b[0m \u001b[0mp\u001b[0m \u001b[0;32min\u001b[0m \u001b[0mpi\u001b[0m\u001b[0;34m]\u001b[0m\u001b[0;34m,\u001b[0m\u001b[0;34m\u001b[0m\u001b[0;34m\u001b[0m\u001b[0m\n\u001b[0m\u001b[1;32m    230\u001b[0m         ]\n\u001b[1;32m    231\u001b[0m     )\n",
      "\u001b[0;32m~/rsc/reactive-two-bits/src/main.py\u001b[0m in \u001b[0;36m<listcomp>\u001b[0;34m(.0)\u001b[0m\n\u001b[1;32m    227\u001b[0m     v_vector = sym.Matrix(\n\u001b[1;32m    228\u001b[0m         [\n\u001b[0;32m--> 229\u001b[0;31m             \u001b[0;34m[\u001b[0m\u001b[0mss\u001b[0m\u001b[0;34m[\u001b[0m\u001b[0mp\u001b[0m\u001b[0;34m]\u001b[0m \u001b[0;32mfor\u001b[0m \u001b[0mp\u001b[0m \u001b[0;32min\u001b[0m \u001b[0mpi\u001b[0m\u001b[0;34m]\u001b[0m\u001b[0;34m,\u001b[0m\u001b[0;34m\u001b[0m\u001b[0;34m\u001b[0m\u001b[0m\n\u001b[0m\u001b[1;32m    230\u001b[0m         ]\n\u001b[1;32m    231\u001b[0m     )\n",
      "\u001b[0;31mKeyError\u001b[0m: b_4"
     ]
    }
   ],
   "source": [
    "M = main.calculate_M(to_check[3], q, analytical=True)\n",
    "\n",
    "ss2 = invariant_distribution_analytically(M)"
   ]
  },
  {
   "cell_type": "code",
   "execution_count": 166,
   "id": "cc7371b0",
   "metadata": {},
   "outputs": [],
   "source": [
    "tft = sum(ss1 @ np.array([b - c, -c, b, 0]))\n",
    "\n",
    "allc = sum(ss2 @ np.array([b - c, -c, b, 0]))"
   ]
  },
  {
   "cell_type": "code",
   "execution_count": 149,
   "id": "3bd4daaa",
   "metadata": {},
   "outputs": [
    {
     "data": {
      "image/png": "[encoded data removed]",
      "text/plain": [
       "<Figure size 432x288 with 1 Axes>"
      ]
     },
     "metadata": {
      "needs_background": "light"
     },
     "output_type": "display_data"
    }
   ],
   "source": [
    "plt.plot(np.linspace(0, 1, 100),\n",
    "         [tft.subs({b:2, c:1, q_2: q_val}) for q_val in np.linspace(0, 1, 100)]);\n",
    "\n",
    "plt.plot(np.linspace(0, 1, 100),\n",
    "         [allc.subs({b:2, c:1, q_2: q_val}) for q_val in np.linspace(0, 1, 100)]);"
   ]
  },
  {
   "cell_type": "markdown",
   "id": "ee0a8ba8",
   "metadata": {},
   "source": [
    "**Two bits**"
   ]
  },
  {
   "cell_type": "code",
   "execution_count": 32,
   "id": "4389dbdf",
   "metadata": {},
   "outputs": [],
   "source": [
    "import itertools"
   ]
  },
  {
   "cell_type": "code",
   "execution_count": 33,
   "id": "41ec5052",
   "metadata": {},
   "outputs": [],
   "source": [
    "p_2, p_3, p_4 = sym.symbols(\"p_2, p_3, p_4\")\n",
    "\n",
    "p_1 = 1\n",
    "\n",
    "b, c = sym.symbols(\"b, c\")\n",
    "\n",
    "player = [p_1, p_2, p_1, p_2, p_3, p_4, p_3, p_4,\n",
    "          p_1, p_2, p_1, p_2, p_3, p_4, p_3, p_4]"
   ]
  },
  {
   "cell_type": "code",
   "execution_count": 34,
   "id": "b16222fc",
   "metadata": {},
   "outputs": [],
   "source": [
    "to_check_twob = []\n",
    "\n",
    "for (i, j, l, k) in itertools.product([0, 1], repeat=4):\n",
    "    \n",
    "    to_check_twob.append([i, i, j, j, i, i, j, j, l, l, k, k, l, l, k, k])\n",
    "    "
   ]
  },
  {
   "cell_type": "code",
   "execution_count": 35,
   "id": "11f211e3",
   "metadata": {},
   "outputs": [
    {
     "data": {
      "image/png": "[encoded data removed]",
      "text/latex": [
       "$\\displaystyle 16$"
      ],
      "text/plain": [
       "16"
      ]
     },
     "execution_count": 35,
     "metadata": {},
     "output_type": "execute_result"
    }
   ],
   "source": [
    "len(to_check_twob)"
   ]
  },
  {
   "cell_type": "code",
   "execution_count": 38,
   "id": "46eb6bc0",
   "metadata": {},
   "outputs": [
    {
     "data": {
      "image/png": "[encoded data removed]",
      "text/latex": [
       "$\\displaystyle \\left[ \\left[ 0, \\  0, \\  0, \\  0, \\  0, \\  0, \\  0, \\  0, \\  0, \\  0, \\  0, \\  0, \\  0, \\  0, \\  0, \\  0\\right], \\  \\left[ 0, \\  0, \\  0, \\  0, \\  0, \\  0, \\  0, \\  0, \\  0, \\  0, \\  1, \\  1, \\  0, \\  0, \\  1, \\  1\\right], \\  \\left[ 0, \\  0, \\  0, \\  0, \\  0, \\  0, \\  0, \\  0, \\  1, \\  1, \\  0, \\  0, \\  1, \\  1, \\  0, \\  0\\right], \\  \\left[ 0, \\  0, \\  0, \\  0, \\  0, \\  0, \\  0, \\  0, \\  1, \\  1, \\  1, \\  1, \\  1, \\  1, \\  1, \\  1\\right], \\  \\left[ 0, \\  0, \\  1, \\  1, \\  0, \\  0, \\  1, \\  1, \\  0, \\  0, \\  0, \\  0, \\  0, \\  0, \\  0, \\  0\\right], \\  \\left[ 0, \\  0, \\  1, \\  1, \\  0, \\  0, \\  1, \\  1, \\  0, \\  0, \\  1, \\  1, \\  0, \\  0, \\  1, \\  1\\right], \\  \\left[ 0, \\  0, \\  1, \\  1, \\  0, \\  0, \\  1, \\  1, \\  1, \\  1, \\  0, \\  0, \\  1, \\  1, \\  0, \\  0\\right], \\  \\left[ 0, \\  0, \\  1, \\  1, \\  0, \\  0, \\  1, \\  1, \\  1, \\  1, \\  1, \\  1, \\  1, \\  1, \\  1, \\  1\\right], \\  \\left[ 1, \\  1, \\  0, \\  0, \\  1, \\  1, \\  0, \\  0, \\  0, \\  0, \\  0, \\  0, \\  0, \\  0, \\  0, \\  0\\right], \\  \\left[ 1, \\  1, \\  0, \\  0, \\  1, \\  1, \\  0, \\  0, \\  0, \\  0, \\  1, \\  1, \\  0, \\  0, \\  1, \\  1\\right], \\  \\left[ 1, \\  1, \\  0, \\  0, \\  1, \\  1, \\  0, \\  0, \\  1, \\  1, \\  0, \\  0, \\  1, \\  1, \\  0, \\  0\\right], \\  \\left[ 1, \\  1, \\  0, \\  0, \\  1, \\  1, \\  0, \\  0, \\  1, \\  1, \\  1, \\  1, \\  1, \\  1, \\  1, \\  1\\right], \\  \\left[ 1, \\  1, \\  1, \\  1, \\  1, \\  1, \\  1, \\  1, \\  0, \\  0, \\  0, \\  0, \\  0, \\  0, \\  0, \\  0\\right], \\  \\left[ 1, \\  1, \\  1, \\  1, \\  1, \\  1, \\  1, \\  1, \\  0, \\  0, \\  1, \\  1, \\  0, \\  0, \\  1, \\  1\\right], \\  \\left[ 1, \\  1, \\  1, \\  1, \\  1, \\  1, \\  1, \\  1, \\  1, \\  1, \\  0, \\  0, \\  1, \\  1, \\  0, \\  0\\right], \\  \\left[ 1, \\  1, \\  1, \\  1, \\  1, \\  1, \\  1, \\  1, \\  1, \\  1, \\  1, \\  1, \\  1, \\  1, \\  1, \\  1\\right]\\right]$"
      ],
      "text/plain": [
       "[[0, 0, 0, 0, 0, 0, 0, 0, 0, 0, 0, 0, 0, 0, 0, 0], [0, 0, 0, 0, 0, 0, 0, 0, 0,\n",
       " 0, 1, 1, 0, 0, 1, 1], [0, 0, 0, 0, 0, 0, 0, 0, 1, 1, 0, 0, 1, 1, 0, 0], [0, 0\n",
       ", 0, 0, 0, 0, 0, 0, 1, 1, 1, 1, 1, 1, 1, 1], [0, 0, 1, 1, 0, 0, 1, 1, 0, 0, 0,\n",
       " 0, 0, 0, 0, 0], [0, 0, 1, 1, 0, 0, 1, 1, 0, 0, 1, 1, 0, 0, 1, 1], [0, 0, 1, 1\n",
       ", 0, 0, 1, 1, 1, 1, 0, 0, 1, 1, 0, 0], [0, 0, 1, 1, 0, 0, 1, 1, 1, 1, 1, 1, 1,\n",
       " 1, 1, 1], [1, 1, 0, 0, 1, 1, 0, 0, 0, 0, 0, 0, 0, 0, 0, 0], [1, 1, 0, 0, 1, 1\n",
       ", 0, 0, 0, 0, 1, 1, 0, 0, 1, 1], [1, 1, 0, 0, 1, 1, 0, 0, 1, 1, 0, 0, 1, 1, 0,\n",
       " 0], [1, 1, 0, 0, 1, 1, 0, 0, 1, 1, 1, 1, 1, 1, 1, 1], [1, 1, 1, 1, 1, 1, 1, 1\n",
       ", 0, 0, 0, 0, 0, 0, 0, 0], [1, 1, 1, 1, 1, 1, 1, 1, 0, 0, 1, 1, 0, 0, 1, 1], [\n",
       "1, 1, 1, 1, 1, 1, 1, 1, 1, 1, 0, 0, 1, 1, 0, 0], [1, 1, 1, 1, 1, 1, 1, 1, 1, 1\n",
       ", 1, 1, 1, 1, 1, 1]]"
      ]
     },
     "execution_count": 38,
     "metadata": {},
     "output_type": "execute_result"
    }
   ],
   "source": [
    "to_check_twob"
   ]
  },
  {
   "cell_type": "code",
   "execution_count": 74,
   "id": "32018c52",
   "metadata": {},
   "outputs": [
    {
     "name": "stdout",
     "output_type": "stream",
     "text": [
      "Matrix([[0, 0, 0, 0, 0, 0, 0, 0, 0, 0, p_4**2, p_4*(1 - p_4), 0, 0, p_4*(1 - p_4), p_4**2 - 2*p_4 + 1]])\n",
      "Matrix([[0, 0, p_3*p_4/3, p_4*(1 - p_3)/3, 0, 0, p_3*(1 - p_4)/3, p_3*p_4/3 - p_3/3 - p_4/3 + 1/3, p_2*p_4/3, p_2*(1 - p_4)/3, p_2*p_3/3, p_3*(1 - p_2)/3, p_4*(1 - p_2)/3, p_2*p_4/3 - p_2/3 - p_4/3 + 1/3, p_2*(1 - p_3)/3, p_2*p_3/3 - p_2/3 - p_3/3 + 1/3]])\n",
      "Matrix([[0, 0, 0, 0, 0, 0, 0, 0, 0, 0, p_4**2, p_4*(1 - p_4), 0, 0, p_4*(1 - p_4), p_4**2 - 2*p_4 + 1]])\n",
      "Matrix([[p_3*p_4/4, p_4*(1 - p_3)/4, p_3/4, 0, p_3*(1 - p_4)/4, p_3*p_4/4 - p_3/4 - p_4/4 + 1/4, 1/4 - p_3/4, 0, p_2*p_4/4, p_2*(1 - p_4)/4, p_2/4, 1/4 - p_2/4, p_4*(1 - p_2)/4, p_2*p_4/4 - p_2/4 - p_4/4 + 1/4, 0, 0]])\n",
      "Matrix([[0, 0, p_2*p_3/2, p_2*(1 - p_3)/2, 0, 0, p_3*(1 - p_2)/2, p_2*p_3/2 - p_2/2 - p_3/2 + 1/2, p_2*p_3/2, p_3*(1 - p_2)/2, 0, 0, p_2*(1 - p_3)/2, p_2*p_3/2 - p_2/2 - p_3/2 + 1/2, 0, 0]])\n",
      "Matrix([[p_2*p_3/3, p_2*(1 - p_3)/3, p_3/3, 0, p_3*(1 - p_2)/3, p_2*p_3/3 - p_2/3 - p_3/3 + 1/3, 1/3 - p_3/3, 0, p_2/3, 1/3 - p_2/3, 0, 0, 0, 0, 0, 0]])\n",
      "Matrix([[1, 0, 0, 0, 0, 0, 0, 0, 0, 0, 0, 0, 0, 0, 0, 0]])\n",
      "Matrix([[1, 0, 0, 0, 0, 0, 0, 0, 0, 0, 0, 0, 0, 0, 0, 0]])\n"
     ]
    }
   ],
   "source": [
    "payoffs = []\n",
    "\n",
    "for check in to_check_twob:\n",
    "    \n",
    "    try:\n",
    "        M = eq.calculate_M_memory_two(check, player, analytical=True)\n",
    "\n",
    "        ss = invariant_distribution_analytically(M)\n",
    "        print(ss)\n",
    "\n",
    "        payoffs.append(sum(ss @ np.array([b - c, -c, b, 0] * 4)).factor())\n",
    "        \n",
    "        \n",
    "    except KeyError:\n",
    "        payoffs.append(\"N\")"
   ]
  },
  {
   "cell_type": "code",
   "execution_count": 70,
   "id": "ad784cfe",
   "metadata": {},
   "outputs": [],
   "source": [
    "M = eq.calculate_M_memory_two(to_check_twob[5], player, analytical=True)"
   ]
  },
  {
   "cell_type": "code",
   "execution_count": 71,
   "id": "377cac9f",
   "metadata": {},
   "outputs": [],
   "source": [
    "ss = invariant_distribution_analytically(M)"
   ]
  },
  {
   "cell_type": "code",
   "execution_count": 73,
   "id": "27d5d7d2",
   "metadata": {},
   "outputs": [
    {
     "data": {
      "image/png": "[encoded data removed]",
      "text/latex": [
       "$\\displaystyle \\left[ 0, \\  0, \\  \\frac{p_{2} p_{3}}{2}, \\  - \\frac{p_{2} \\left(p_{3} - 1\\right)}{2}, \\  0, \\  0, \\  - \\frac{p_{3} \\left(p_{2} - 1\\right)}{2}, \\  \\frac{\\left(p_{2} - 1\\right) \\left(p_{3} - 1\\right)}{2}, \\  \\frac{p_{2} p_{3}}{2}, \\  - \\frac{p_{3} \\left(p_{2} - 1\\right)}{2}, \\  0, \\  0, \\  - \\frac{p_{2} \\left(p_{3} - 1\\right)}{2}, \\  \\frac{\\left(p_{2} - 1\\right) \\left(p_{3} - 1\\right)}{2}, \\  0, \\  0\\right]$"
      ],
      "text/plain": [
       "⎡      p₂⋅p₃  -p₂⋅(p₃ - 1)         -p₃⋅(p₂ - 1)   (p₂ - 1)⋅(p₃ - 1)  p₂⋅p₃  -p\n",
       "⎢0, 0, ─────, ─────────────, 0, 0, ─────────────, ─────────────────, ─────, ──\n",
       "⎣        2          2                    2                2            2      \n",
       "\n",
       "₃⋅(p₂ - 1)         -p₂⋅(p₃ - 1)   (p₂ - 1)⋅(p₃ - 1)      ⎤\n",
       "───────────, 0, 0, ─────────────, ─────────────────, 0, 0⎥\n",
       "    2                    2                2              ⎦"
      ]
     },
     "execution_count": 73,
     "metadata": {},
     "output_type": "execute_result"
    }
   ],
   "source": [
    "[i.factor() for i in ss]"
   ]
  },
  {
   "cell_type": "code",
   "execution_count": 48,
   "id": "c2715e73",
   "metadata": {},
   "outputs": [
    {
     "data": {
      "image/png": "[encoded data removed]",
      "text/latex": [
       "$\\displaystyle b p_{4}$"
      ],
      "text/plain": [
       "b⋅p₄"
      ]
     },
     "execution_count": 48,
     "metadata": {},
     "output_type": "execute_result"
    }
   ],
   "source": [
    "payoffs[0]"
   ]
  },
  {
   "cell_type": "code",
   "execution_count": 49,
   "id": "16b38703",
   "metadata": {},
   "outputs": [
    {
     "data": {
      "image/png": "[encoded data removed]",
      "text/latex": [
       "$\\displaystyle \\frac{b p_{2} + b p_{3} - c}{2}$"
      ],
      "text/plain": [
       "b⋅p₂ + b⋅p₃ - c\n",
       "───────────────\n",
       "       2       "
      ]
     },
     "execution_count": 49,
     "metadata": {},
     "output_type": "execute_result"
    }
   ],
   "source": [
    "payoffs[5].factor()"
   ]
  },
  {
   "cell_type": "code",
   "execution_count": 50,
   "id": "0820fc0f",
   "metadata": {},
   "outputs": [
    {
     "data": {
      "text/plain": [
       "'N'"
      ]
     },
     "execution_count": 50,
     "metadata": {},
     "output_type": "execute_result"
    }
   ],
   "source": [
    "payoffs[10]"
   ]
  },
  {
   "cell_type": "code",
   "execution_count": 51,
   "id": "34e6b014",
   "metadata": {},
   "outputs": [
    {
     "data": {
      "image/png": "[encoded data removed]",
      "text/latex": [
       "$\\displaystyle b - c$"
      ],
      "text/plain": [
       "b - c"
      ]
     },
     "execution_count": 51,
     "metadata": {},
     "output_type": "execute_result"
    }
   ],
   "source": [
    "payoffs[15]"
   ]
  },
  {
   "cell_type": "code",
   "execution_count": 68,
   "id": "d1bfdc4a",
   "metadata": {},
   "outputs": [
    {
     "data": {
      "text/plain": [
       "'N'"
      ]
     },
     "execution_count": 68,
     "metadata": {},
     "output_type": "execute_result"
    }
   ],
   "source": [
    "payoffs[8]"
   ]
  },
  {
   "cell_type": "code",
   "execution_count": 191,
   "id": "94953291",
   "metadata": {},
   "outputs": [
    {
     "data": {
      "image/png": "[encoded data removed]",
      "text/latex": [
       "$\\displaystyle \\left[ \\frac{b - c}{b}\\right]$"
      ],
      "text/plain": [
       "⎡b - c⎤\n",
       "⎢─────⎥\n",
       "⎣  b  ⎦"
      ]
     },
     "execution_count": 191,
     "metadata": {},
     "output_type": "execute_result"
    }
   ],
   "source": [
    "sym.solve(sum(ss @ np.array([b - c, -c, b, 0] * 4)).factor() - (b - c), p_4)"
   ]
  },
  {
   "cell_type": "code",
   "execution_count": 192,
   "id": "93070af0",
   "metadata": {},
   "outputs": [],
   "source": [
    "M = eq.calculate_M_memory_two(to_check_twob[-1], player, analytical=True)\n",
    "\n",
    "ss = invariant_distribution_analytically(M)"
   ]
  },
  {
   "cell_type": "code",
   "execution_count": 193,
   "id": "423b42a0",
   "metadata": {},
   "outputs": [
    {
     "data": {
      "image/png": "[encoded data removed]",
      "text/latex": [
       "$\\displaystyle \\left[ \\right]$"
      ],
      "text/plain": [
       "[]"
      ]
     },
     "execution_count": 193,
     "metadata": {},
     "output_type": "execute_result"
    }
   ],
   "source": [
    "sym.solve(sum(ss @ np.array([b - c, -c, b, 0] * 4)).factor() - (b - c), p_4)"
   ]
  },
  {
   "cell_type": "code",
   "execution_count": null,
   "id": "ce901a63",
   "metadata": {},
   "outputs": [],
   "source": []
  }
 ],
 "metadata": {
  "kernelspec": {
   "display_name": "Python 3 (ipykernel)",
   "language": "python",
   "name": "python3"
  },
  "language_info": {
   "codemirror_mode": {
    "name": "ipython",
    "version": 3
   },
   "file_extension": ".py",
   "mimetype": "text/x-python",
   "name": "python",
   "nbconvert_exporter": "python",
   "pygments_lexer": "ipython3",
   "version": "3.11.3"
  }
 },
 "nbformat": 4,
 "nbformat_minor": 5
}
