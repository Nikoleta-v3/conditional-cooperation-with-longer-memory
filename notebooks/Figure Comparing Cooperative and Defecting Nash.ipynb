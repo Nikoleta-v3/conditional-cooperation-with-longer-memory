{
 "cells": [
  {
   "cell_type": "code",
   "execution_count": 1,
   "id": "4e296519",
   "metadata": {},
   "outputs": [],
   "source": [
    "import sympy as sym\n",
    "\n",
    "import numpy as np\n",
    "\n",
    "import repeated_play"
   ]
  },
  {
   "cell_type": "code",
   "execution_count": 2,
   "id": "76850f9b",
   "metadata": {},
   "outputs": [],
   "source": [
    "import itertools"
   ]
  },
  {
   "cell_type": "code",
   "execution_count": 3,
   "id": "5014c536",
   "metadata": {},
   "outputs": [],
   "source": [
    "from tqdm.notebook import tqdm"
   ]
  },
  {
   "cell_type": "code",
   "execution_count": 4,
   "id": "454350a5",
   "metadata": {},
   "outputs": [],
   "source": [
    "import pandas as pd"
   ]
  },
  {
   "cell_type": "code",
   "execution_count": 54,
   "id": "7dfa17d1",
   "metadata": {},
   "outputs": [],
   "source": [
    "import matplotlib.pyplot as plt"
   ]
  },
  {
   "cell_type": "code",
   "execution_count": 243,
   "id": "88efe620",
   "metadata": {},
   "outputs": [],
   "source": [
    "def trnsf_transition_m_memory_one(player, analytical=True):\n",
    "    \n",
    "    if analytical == True:\n",
    "        M = sym.Matrix([[player[0], (1 - player[0])],\n",
    "                        [player[1], (1 - player[1])]])\n",
    "    else:\n",
    "        M = np.array([[player[0], (1 - player[0])],\n",
    "                        [player[1], (1 - player[1])]])\n",
    "    return M"
   ]
  },
  {
   "cell_type": "code",
   "execution_count": 244,
   "id": "14809dc8",
   "metadata": {},
   "outputs": [],
   "source": [
    "def trnsf_transition_m_memory_two(player, analytical=True):\n",
    "    \n",
    "    if analytical == True:\n",
    "        M = sym.Matrix([[player[0], (1 - player[0]), 0, 0],\n",
    "                        [0, 0, player[1], (1 - player[1])],\n",
    "                        [player[2], (1 - player[2]), 0, 0],\n",
    "                        [0, 0, player[3], (1 - player[3])]])\n",
    "    else:\n",
    "        M = np.array([[player[0], (1 - player[0]), 0, 0],\n",
    "                        [0, 0, player[1], (1 - player[1])],\n",
    "                        [player[2], (1 - player[2]), 0, 0],\n",
    "                        [0, 0, player[3], (1 - player[3])]])\n",
    "    \n",
    "    \n",
    "    return M"
   ]
  },
  {
   "cell_type": "code",
   "execution_count": 245,
   "id": "eb31436b",
   "metadata": {},
   "outputs": [],
   "source": [
    "def trnsf_transition_m_memory_three(player, analytical=True):\n",
    "    if analytical == False:\n",
    "        return np.array(\n",
    "            [\n",
    "                [player[0], (1 - player[0]), 0, 0, 0, 0, 0, 0],\n",
    "                [0, 0, player[1], (1 - player[1]), 0, 0, 0, 0],\n",
    "                [0, 0, 0, 0, player[2], (1 - player[2]), 0, 0],\n",
    "                [0, 0, 0, 0, 0, 0, player[3], (1 - player[3])],\n",
    "                [player[4], (1 - player[4]), 0, 0, 0, 0, 0, 0],\n",
    "                [0, 0, player[5], (1 - player[5]), 0, 0, 0, 0],\n",
    "                [0, 0, 0, 0, player[6], (1 - player[6]), 0, 0],\n",
    "                [0, 0, 0, 0, 0, 0, player[7], (1 - player[7])],\n",
    "            ]\n",
    "        )\n",
    "\n",
    "    if analytical == True:\n",
    "        return sym.Matrix(\n",
    "            [\n",
    "                [player[0], (1 - player[0]), 0, 0, 0, 0, 0, 0],\n",
    "                [0, 0, player[1], (1 - player[1]), 0, 0, 0, 0],\n",
    "                [0, 0, 0, 0, player[2], (1 - player[2]), 0, 0],\n",
    "                [0, 0, 0, 0, 0, 0, player[3], (1 - player[3])],\n",
    "                [player[4], (1 - player[4]), 0, 0, 0, 0, 0, 0],\n",
    "                [0, 0, player[5], (1 - player[5]), 0, 0, 0, 0],\n",
    "                [0, 0, 0, 0, player[6], (1 - player[6]), 0, 0],\n",
    "                [0, 0, 0, 0, 0, 0, player[7], (1 - player[7])],\n",
    "            ]\n",
    "        )"
   ]
  },
  {
   "cell_type": "code",
   "execution_count": 246,
   "id": "f07f992c",
   "metadata": {},
   "outputs": [],
   "source": [
    "def match_payoffs_efficiently(player, coplayer, b, c, memory):\n",
    "    if memory == \"one\":\n",
    "        M = trnsf_transition_m_memory_one(coplayer, analytical=False)\n",
    "    elif memory == \"two\":\n",
    "        M = trnsf_transition_m_memory_two(coplayer, analytical=False)\n",
    "    elif memory == \"three\":\n",
    "        M = trnsf_transition_m_memory_three(coplayer, analytical=False)\n",
    "\n",
    "    ss = repeated_play.stationary_distribution(M)[0]\n",
    "    \n",
    "    if memory == \"one\":\n",
    "        rho_q = ss[0]\n",
    "        \n",
    "    elif memory == \"two\":\n",
    "        \n",
    "        rho_q = ss[0] + ss[1]\n",
    "        \n",
    "    elif memory == \"three\":\n",
    "        \n",
    "        rho_q = ss[0] + ss[1] + ss[4] + ss[5]\n",
    "        \n",
    "\n",
    "    rho_p = sum([ss[i] * p for i, p in enumerate(player)])\n",
    "\n",
    "\n",
    "    payoff_q = (rho_p * b - c * rho_q)\n",
    "    \n",
    "    return payoff_q"
   ]
  },
  {
   "cell_type": "code",
   "execution_count": 247,
   "id": "ee924ec3",
   "metadata": {},
   "outputs": [],
   "source": [
    "def match_payoffs(player, coplayer, b, c, memory):\n",
    "    if memory == 'one':\n",
    "        assert(len(player) == 2)\n",
    "        assert(len(coplayer) == 2)\n",
    "    \n",
    "    if memory == 'two':\n",
    "        assert(len(player) == 4)\n",
    "        assert(len(coplayer) == 4)\n",
    "    \n",
    "    if memory == 'three':\n",
    "        assert(len(player) == 8)\n",
    "        assert(len(coplayer) == 8)\n",
    "    \n",
    "    return match_payoffs_efficiently(player, coplayer, b, c, memory)"
   ]
  },
  {
   "cell_type": "markdown",
   "id": "ce0ff856",
   "metadata": {},
   "source": [
    "### Over costs"
   ]
  },
  {
   "cell_type": "code",
   "execution_count": 304,
   "id": "1d1f1544",
   "metadata": {},
   "outputs": [],
   "source": [
    "costs = np.linspace(0, 1, 11)\n",
    "\n",
    "memories = ['one', 'two', 'three']\n",
    "\n",
    "pure_strategies = [list(itertools.product([0, 1], repeat=2)),\n",
    "                   list(itertools.product([0, 1], repeat=4)),\n",
    "                   list(itertools.product([0, 1], repeat=8))]\n",
    "\n",
    "dims = [2, 4, 8]"
   ]
  },
  {
   "cell_type": "code",
   "execution_count": 338,
   "id": "dfdc6868",
   "metadata": {},
   "outputs": [
    {
     "data": {
      "application/vnd.jupyter.widget-view+json": {
       "model_id": "4a0b07bb85b74cab9b38fbf44112f1ce",
       "version_major": 2,
       "version_minor": 0
      },
      "text/plain": [
       "  0%|          | 0/11 [00:00<?, ?it/s]"
      ]
     },
     "metadata": {},
     "output_type": "display_data"
    }
   ],
   "source": [
    "max_iterations = 10 ** 4\n",
    "\n",
    "bval = 1;\n",
    "\n",
    "for cval in tqdm(costs):\n",
    "\n",
    "    base = f\"DefectingNash/cost_{cval}_\"\n",
    "\n",
    "    dnash, gnash, notdnash, notgnash = [], [], [], []\n",
    "\n",
    "    for memory, pure_set, sdim in zip(memories, pure_strategies, dims):\n",
    "\n",
    "        for i in range(max_iterations):\n",
    "\n",
    "            np.random.seed(i)\n",
    "\n",
    "            player = np.random.random(sdim)\n",
    "\n",
    "            defecting_player = player.copy()\n",
    "            defecting_player[-1] = 0\n",
    "\n",
    "            cooperative_player = player.copy()\n",
    "            cooperative_player[0] = 1\n",
    "\n",
    "            checksA, checksB = [], []\n",
    "\n",
    "            for coplayer in pure_set:\n",
    "\n",
    "                payoff_defective = match_payoffs(defecting_player, coplayer, bval, cval, memory=memory)\n",
    "\n",
    "                checkA = np.isclose(payoff_defective, 0, atol=10 ** -4) or payoff_defective < 0\n",
    "\n",
    "                checksA.append(checkA)\n",
    "\n",
    "\n",
    "                payoff_cooperative = match_payoffs(cooperative_player, coplayer, bval, cval, memory=memory)\n",
    "\n",
    "                checkB = np.isclose(payoff_cooperative, bval - cval, atol=10 ** -4) or payoff_cooperative < (bval - cval)\n",
    "\n",
    "                checksB.append(checkB)\n",
    "\n",
    "            if all(checksA) == True:\n",
    "                dnash.append([i, *defecting_player, *checksA, memory])\n",
    "            else:\n",
    "                notdnash.append([i, *defecting_player, *checksA, memory])\n",
    "\n",
    "\n",
    "            if all(checksB) == True:\n",
    "                gnash.append([i, *cooperative_player, *checksB, memory])\n",
    "            else:\n",
    "                notgnash.append([i, *cooperative_player, *checksB, memory])\n",
    "\n",
    "    ddf = pd.DataFrame(dnash)\n",
    "    nddf = pd.DataFrame(notdnash)\n",
    "\n",
    "    gdf = pd.DataFrame(gnash)\n",
    "    ngdf = pd.DataFrame(notgnash)\n",
    "\n",
    "    ddf.to_csv(base + 'defective_Nash')\n",
    "\n",
    "    nddf.to_csv(base + 'defective_not_Nash')\n",
    "\n",
    "    gdf.to_csv(base + 'cooperative_Nash')\n",
    "\n",
    "    ngdf.to_csv(base + 'cooperative_not_Nash')"
   ]
  },
  {
   "cell_type": "code",
   "execution_count": 339,
   "id": "02f84b6a",
   "metadata": {},
   "outputs": [],
   "source": [
    "columns = ['index', \"pc\", \"pd\"] + [f\"N{i}\" for i in range(1, 5)] + ['memory']"
   ]
  },
  {
   "cell_type": "code",
   "execution_count": 340,
   "id": "9b4ad024",
   "metadata": {},
   "outputs": [],
   "source": [
    "defective_files = [f'DefectingNash/cost_{cval}_defective_Nash' for cval in costs]\n",
    "\n",
    "cooperative_files = [f'DefectingNash/cost_{cval}_cooperative_Nash' for cval in costs]"
   ]
  },
  {
   "cell_type": "code",
   "execution_count": 371,
   "id": "667f03c2",
   "metadata": {},
   "outputs": [
    {
     "data": {
      "text/plain": [
       "11"
      ]
     },
     "execution_count": 371,
     "metadata": {},
     "output_type": "execute_result"
    }
   ],
   "source": [
    "len(defective_files)"
   ]
  },
  {
   "cell_type": "code",
   "execution_count": 405,
   "id": "343dd102",
   "metadata": {},
   "outputs": [],
   "source": [
    "data = np.zeros((11, 3))\n",
    "\n",
    "for i, file in enumerate(defective_files):\n",
    "    \n",
    "    df = pd.read_csv(file, header=0, low_memory=False, index_col=0)\n",
    "    \n",
    "    if len(df) > 0:\n",
    "\n",
    "        if \"7\" in df.columns:\n",
    "            data[i, 0] = df[df[\"7\"] == 'one'][\"0\"].nunique()\n",
    "\n",
    "        if \"21\" in df.columns:\n",
    "            data[i, 1] = df[df[\"21\"] == 'two'][\"0\"].nunique()\n",
    "\n",
    "        if \"265\" in df.columns:\n",
    "            data[i, 2] = df[df[\"265\"] == 'three'][\"0\"].nunique()"
   ]
  },
  {
   "cell_type": "code",
   "execution_count": 406,
   "id": "68c7e17d",
   "metadata": {},
   "outputs": [],
   "source": [
    "coop_data = np.zeros((11, 3))\n",
    "\n",
    "for i, file in enumerate(cooperative_files):\n",
    "    \n",
    "    df = pd.read_csv(file, header=0, low_memory=False, index_col=0)\n",
    "    \n",
    "    if len(df) > 0:\n",
    "\n",
    "        if \"7\" in df.columns:\n",
    "            coop_data[i, 0] = df[df[\"7\"] == 'one'][\"0\"].nunique()\n",
    "\n",
    "        if \"21\" in df.columns:\n",
    "            coop_data[i, 1] = df[df[\"21\"] == 'two'][\"0\"].nunique()\n",
    "\n",
    "        if \"265\" in df.columns:\n",
    "            coop_data[i, 2] = df[df[\"265\"] == 'three'][\"0\"].nunique()"
   ]
  },
  {
   "cell_type": "code",
   "execution_count": 455,
   "id": "22255c8b",
   "metadata": {},
   "outputs": [],
   "source": [
    "linestyles = [\"-\", \"--\", \":\"]"
   ]
  },
  {
   "cell_type": "code",
   "execution_count": 526,
   "id": "7951736d",
   "metadata": {},
   "outputs": [
    {
     "data": {
      "image/png": "[encoded data removed]",
      "text/plain": [
       "<Figure size 1000x500 with 3 Axes>"
      ]
     },
     "metadata": {},
     "output_type": "display_data"
    }
   ],
   "source": [
    "fig, axes = plt.subplot_mosaic(\"AB;AC\", figsize=(10, 5))\n",
    "\n",
    "\n",
    "axes[\"A\"].bar(range(3), data[6], label=\"Defective\");\n",
    "\n",
    "for i, point in zip(range(3), data[6]):\n",
    "    axes[\"A\"].scatter(i, point, marker=f\"{i + 1}\", zorder=3, s=50, color=\"black\");\n",
    "\n",
    "axes[\"A\"].bar(range(4, 7), coop_data[6], label=\"Cooperative\");\n",
    "\n",
    "for i, point in zip(range(4, 7), coop_data[6]):\n",
    "    axes[\"A\"].scatter(i, point, marker=f\"{i - 3}\", zorder=3, s=50, color=\"black\");\n",
    "\n",
    "axes[\"A\"].set_ylabel(\"# Nash equlibria\")\n",
    "\n",
    "axes[\"A\"].set_xticks(range(7), [\"$n=1$\", \"$n=2$\", \"$n=3$\", \"\", \"$n=1$\", \"$n=2$\", \"$n=3$\",])\n",
    "\n",
    "axes[\"B\"].plot(costs, data, marker='o', label=[\"$n=1$\", \"$n=2$\", \"$n=3$\"], markersize=5);\n",
    "\n",
    "axes[\"B\"].scatter(costs[6], data[6][0], marker='1', zorder=3, s=50, color=\"black\");\n",
    "axes[\"B\"].scatter(costs[6], data[6][1], marker='2', zorder=3, s=50, color=\"black\");\n",
    "axes[\"B\"].scatter(costs[6], data[6][2], marker='3', zorder=3, s=50, color=\"black\");\n",
    "\n",
    "\n",
    "axes[\"B\"].set_ylabel(\"# Defective \\n Nash equlibria\")\n",
    "\n",
    "for line, ls in zip(axes[\"B\"].get_lines(), linestyles):\n",
    "    line.set_linestyle(ls)\n",
    "    \n",
    "axes[\"C\"].scatter(costs[6], coop_data[6][0], marker='1', zorder=3, s=50, color=\"black\");\n",
    "axes[\"C\"].scatter(costs[6], coop_data[6][1], marker='2', zorder=3, s=50, color=\"black\");\n",
    "axes[\"C\"].scatter(costs[6], coop_data[6][2], marker='3', zorder=3, s=50, color=\"black\");\n",
    "\n",
    "axes[\"C\"].plot(costs, coop_data, marker='o', markersize=5);\n",
    "\n",
    "axes[\"C\"].set_ylabel(\"# Cooperative \\n Nash equlibria\")\n",
    "\n",
    "axes[\"C\"].set_xlabel(\"cost ($c$)\")\n",
    "\n",
    "axes[\"A\"].legend();\n",
    "\n",
    "axes[\"B\"].legend();\n",
    "\n",
    "for line, ls in zip(axes[\"C\"].get_lines(), linestyles):\n",
    "    line.set_linestyle(ls)\n",
    "    \n",
    "    \n",
    "fig.subplots_adjust(wspace=.6)\n",
    "\n",
    "# fig.tight_layout();"
   ]
  },
  {
   "cell_type": "code",
   "execution_count": null,
   "id": "428a987a",
   "metadata": {},
   "outputs": [],
   "source": []
  }
 ],
 "metadata": {
  "kernelspec": {
   "display_name": "Python 3",
   "language": "python",
   "name": "python3"
  },
  "language_info": {
   "codemirror_mode": {
    "name": "ipython",
    "version": 3
   },
   "file_extension": ".py",
   "mimetype": "text/x-python",
   "name": "python",
   "nbconvert_exporter": "python",
   "pygments_lexer": "ipython3",
   "version": "3.11.3"
  }
 },
 "nbformat": 4,
 "nbformat_minor": 5
}
