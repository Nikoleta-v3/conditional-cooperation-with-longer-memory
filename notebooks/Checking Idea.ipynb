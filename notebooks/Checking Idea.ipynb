{
 "cells": [
  {
   "cell_type": "code",
   "execution_count": 44,
   "metadata": {},
   "outputs": [],
   "source": [
    "import sys\n",
    "\n",
    "import itertools\n",
    "import numpy as np\n",
    "\n",
    "import itertools\n",
    "import tqdm\n",
    "import pandas as pd\n",
    "\n",
    "import dask\n",
    "\n",
    "import pandas as pd\n",
    "\n",
    "from importlib.machinery import SourceFileLoader\n",
    "\n",
    "main = SourceFileLoader(\"main\", \"../src/main.py\").load_module()\n",
    "\n",
    "from main import invariant_distribution, calculate_M, invariant_distribution_analytically"
   ]
  },
  {
   "cell_type": "code",
   "execution_count": 45,
   "metadata": {},
   "outputs": [],
   "source": [
    "def match_payoff(player, coplayer, Sx):\n",
    "    \n",
    "    M = calculate_M(player, coplayer, analytical=False)\n",
    "    \n",
    "    ss = invariant_distribution(M)\n",
    "\n",
    "    return ss @ Sx"
   ]
  },
  {
   "cell_type": "code",
   "execution_count": 46,
   "metadata": {},
   "outputs": [
    {
     "data": {
      "text/plain": [
       "array([[0.     , 0.54881, 0.     , 0.45119],\n",
       "       [0.     , 0.71519, 0.     , 0.28481],\n",
       "       [0.     , 0.60276, 0.     , 0.39724],\n",
       "       [0.     , 0.54488, 0.     , 0.45512]])"
      ]
     },
     "execution_count": 46,
     "metadata": {},
     "output_type": "execute_result"
    }
   ],
   "source": [
    "M = calculate_M(strategy, deterministic_strategies[0], analytical=False)\n",
    "\n",
    "M"
   ]
  },
  {
   "cell_type": "code",
   "execution_count": 53,
   "metadata": {},
   "outputs": [],
   "source": [
    "def task(i, strategy, coplayers, labels, Sx, b, c):\n",
    "\n",
    "    sx = match_payoff(strategy, strategy, Sx)\n",
    "    \n",
    "    data = []\n",
    "\n",
    "    for label, coplayer in zip(labels, coplayers):\n",
    "\n",
    "        sy = match_payoff(coplayer, strategy, Sx)\n",
    "        close = np.isclose(sx, sy, atol=10 ** -4)\n",
    "        best_response = sx < sy\n",
    "\n",
    "        data_point = [\n",
    "            i,\n",
    "            *strategy,\n",
    "            label,\n",
    "            sx,\n",
    "            sy,\n",
    "            close,\n",
    "            best_response,\n",
    "            b,\n",
    "            c,\n",
    "        ]\n",
    "        data.append(data_point)\n",
    "\n",
    "    return data"
   ]
  },
  {
   "cell_type": "code",
   "execution_count": 72,
   "metadata": {},
   "outputs": [
    {
     "data": {
      "application/vnd.jupyter.widget-view+json": {
       "model_id": "275ffeef31b249079c0bdcf8edef6585",
       "version_major": 2,
       "version_minor": 0
      },
      "text/plain": [
       "HBox(children=(FloatProgress(value=0.0, max=10000.0), HTML(value='')))"
      ]
     },
     "metadata": {},
     "output_type": "display_data"
    },
    {
     "name": "stdout",
     "output_type": "stream",
     "text": [
      "\n"
     ]
    }
   ],
   "source": [
    "max_simulation_number = 10 ** 7\n",
    "b = 2\n",
    "c = 1\n",
    "n = 5\n",
    "seed = 0\n",
    "\n",
    "deterministic_strategies = list(\n",
    "    itertools.product([0, 1], repeat=4)\n",
    ")\n",
    "\n",
    "labels = [f\"N{i}\" for i, _ in enumerate(deterministic_strategies)]\n",
    "\n",
    "Sx = np.array([b - c, -c, b, 0])\n",
    "\n",
    "results = []\n",
    "\n",
    "for i in tqdm.notebook.tqdm(range(max_simulation_number)):\n",
    "    \n",
    "    np.random.seed(i)\n",
    "    \n",
    "    strategy = np.random.random((1, 4)).round(5)[0]\n",
    "    \n",
    "    data = task(i, strategy, deterministic_strategies, labels, Sx, b, c)\n",
    "    \n",
    "    results.append(data)"
   ]
  },
  {
   "cell_type": "code",
   "execution_count": 73,
   "metadata": {},
   "outputs": [],
   "source": [
    "results = [item for sublist in results for item in sublist]"
   ]
  },
  {
   "cell_type": "code",
   "execution_count": 74,
   "metadata": {},
   "outputs": [],
   "source": [
    "df = pd.DataFrame(results)"
   ]
  },
  {
   "cell_type": "code",
   "execution_count": 75,
   "metadata": {},
   "outputs": [
    {
     "data": {
      "text/html": [
       "<div>\n",
       "<style scoped>\n",
       "    .dataframe tbody tr th:only-of-type {\n",
       "        vertical-align: middle;\n",
       "    }\n",
       "\n",
       "    .dataframe tbody tr th {\n",
       "        vertical-align: top;\n",
       "    }\n",
       "\n",
       "    .dataframe thead th {\n",
       "        text-align: right;\n",
       "    }\n",
       "</style>\n",
       "<table border=\"1\" class=\"dataframe\">\n",
       "  <thead>\n",
       "    <tr style=\"text-align: right;\">\n",
       "      <th></th>\n",
       "      <th>0</th>\n",
       "      <th>1</th>\n",
       "      <th>2</th>\n",
       "      <th>3</th>\n",
       "      <th>4</th>\n",
       "      <th>5</th>\n",
       "      <th>6</th>\n",
       "      <th>7</th>\n",
       "      <th>8</th>\n",
       "      <th>9</th>\n",
       "      <th>10</th>\n",
       "      <th>11</th>\n",
       "    </tr>\n",
       "  </thead>\n",
       "  <tbody>\n",
       "    <tr>\n",
       "      <th>0</th>\n",
       "      <td>0</td>\n",
       "      <td>0.54881</td>\n",
       "      <td>0.71519</td>\n",
       "      <td>0.60276</td>\n",
       "      <td>0.54488</td>\n",
       "      <td>N0</td>\n",
       "      <td>0.600676</td>\n",
       "      <td>1.313454</td>\n",
       "      <td>False</td>\n",
       "      <td>True</td>\n",
       "      <td>2</td>\n",
       "      <td>1</td>\n",
       "    </tr>\n",
       "    <tr>\n",
       "      <th>1</th>\n",
       "      <td>0</td>\n",
       "      <td>0.54881</td>\n",
       "      <td>0.71519</td>\n",
       "      <td>0.60276</td>\n",
       "      <td>0.54488</td>\n",
       "      <td>N1</td>\n",
       "      <td>0.600676</td>\n",
       "      <td>1.025642</td>\n",
       "      <td>False</td>\n",
       "      <td>True</td>\n",
       "      <td>2</td>\n",
       "      <td>1</td>\n",
       "    </tr>\n",
       "    <tr>\n",
       "      <th>2</th>\n",
       "      <td>0</td>\n",
       "      <td>0.54881</td>\n",
       "      <td>0.71519</td>\n",
       "      <td>0.60276</td>\n",
       "      <td>0.54488</td>\n",
       "      <td>N2</td>\n",
       "      <td>0.600676</td>\n",
       "      <td>0.868038</td>\n",
       "      <td>False</td>\n",
       "      <td>True</td>\n",
       "      <td>2</td>\n",
       "      <td>1</td>\n",
       "    </tr>\n",
       "    <tr>\n",
       "      <th>3</th>\n",
       "      <td>0</td>\n",
       "      <td>0.54881</td>\n",
       "      <td>0.71519</td>\n",
       "      <td>0.60276</td>\n",
       "      <td>0.54488</td>\n",
       "      <td>N3</td>\n",
       "      <td>0.600676</td>\n",
       "      <td>0.709784</td>\n",
       "      <td>False</td>\n",
       "      <td>True</td>\n",
       "      <td>2</td>\n",
       "      <td>1</td>\n",
       "    </tr>\n",
       "    <tr>\n",
       "      <th>4</th>\n",
       "      <td>0</td>\n",
       "      <td>0.54881</td>\n",
       "      <td>0.71519</td>\n",
       "      <td>0.60276</td>\n",
       "      <td>0.54488</td>\n",
       "      <td>N4</td>\n",
       "      <td>0.600676</td>\n",
       "      <td>1.313454</td>\n",
       "      <td>False</td>\n",
       "      <td>True</td>\n",
       "      <td>2</td>\n",
       "      <td>1</td>\n",
       "    </tr>\n",
       "    <tr>\n",
       "      <th>...</th>\n",
       "      <td>...</td>\n",
       "      <td>...</td>\n",
       "      <td>...</td>\n",
       "      <td>...</td>\n",
       "      <td>...</td>\n",
       "      <td>...</td>\n",
       "      <td>...</td>\n",
       "      <td>...</td>\n",
       "      <td>...</td>\n",
       "      <td>...</td>\n",
       "      <td>...</td>\n",
       "      <td>...</td>\n",
       "    </tr>\n",
       "    <tr>\n",
       "      <th>159995</th>\n",
       "      <td>9999</td>\n",
       "      <td>0.82339</td>\n",
       "      <td>0.21860</td>\n",
       "      <td>0.03146</td>\n",
       "      <td>0.54593</td>\n",
       "      <td>N11</td>\n",
       "      <td>0.491050</td>\n",
       "      <td>0.416419</td>\n",
       "      <td>False</td>\n",
       "      <td>False</td>\n",
       "      <td>2</td>\n",
       "      <td>1</td>\n",
       "    </tr>\n",
       "    <tr>\n",
       "      <th>159996</th>\n",
       "      <td>9999</td>\n",
       "      <td>0.82339</td>\n",
       "      <td>0.21860</td>\n",
       "      <td>0.03146</td>\n",
       "      <td>0.54593</td>\n",
       "      <td>N12</td>\n",
       "      <td>0.491050</td>\n",
       "      <td>-0.697602</td>\n",
       "      <td>False</td>\n",
       "      <td>False</td>\n",
       "      <td>2</td>\n",
       "      <td>1</td>\n",
       "    </tr>\n",
       "    <tr>\n",
       "      <th>159997</th>\n",
       "      <td>9999</td>\n",
       "      <td>0.82339</td>\n",
       "      <td>0.21860</td>\n",
       "      <td>0.03146</td>\n",
       "      <td>0.54593</td>\n",
       "      <td>N13</td>\n",
       "      <td>0.491050</td>\n",
       "      <td>-0.697602</td>\n",
       "      <td>False</td>\n",
       "      <td>False</td>\n",
       "      <td>2</td>\n",
       "      <td>1</td>\n",
       "    </tr>\n",
       "    <tr>\n",
       "      <th>159998</th>\n",
       "      <td>9999</td>\n",
       "      <td>0.82339</td>\n",
       "      <td>0.21860</td>\n",
       "      <td>0.03146</td>\n",
       "      <td>0.54593</td>\n",
       "      <td>N14</td>\n",
       "      <td>0.491050</td>\n",
       "      <td>-0.697602</td>\n",
       "      <td>False</td>\n",
       "      <td>False</td>\n",
       "      <td>2</td>\n",
       "      <td>1</td>\n",
       "    </tr>\n",
       "    <tr>\n",
       "      <th>159999</th>\n",
       "      <td>9999</td>\n",
       "      <td>0.82339</td>\n",
       "      <td>0.21860</td>\n",
       "      <td>0.03146</td>\n",
       "      <td>0.54593</td>\n",
       "      <td>N15</td>\n",
       "      <td>0.491050</td>\n",
       "      <td>-0.697602</td>\n",
       "      <td>False</td>\n",
       "      <td>False</td>\n",
       "      <td>2</td>\n",
       "      <td>1</td>\n",
       "    </tr>\n",
       "  </tbody>\n",
       "</table>\n",
       "<p>160000 rows × 12 columns</p>\n",
       "</div>"
      ],
      "text/plain": [
       "          0        1        2        3        4    5         6         7   \\\n",
       "0          0  0.54881  0.71519  0.60276  0.54488   N0  0.600676  1.313454   \n",
       "1          0  0.54881  0.71519  0.60276  0.54488   N1  0.600676  1.025642   \n",
       "2          0  0.54881  0.71519  0.60276  0.54488   N2  0.600676  0.868038   \n",
       "3          0  0.54881  0.71519  0.60276  0.54488   N3  0.600676  0.709784   \n",
       "4          0  0.54881  0.71519  0.60276  0.54488   N4  0.600676  1.313454   \n",
       "...      ...      ...      ...      ...      ...  ...       ...       ...   \n",
       "159995  9999  0.82339  0.21860  0.03146  0.54593  N11  0.491050  0.416419   \n",
       "159996  9999  0.82339  0.21860  0.03146  0.54593  N12  0.491050 -0.697602   \n",
       "159997  9999  0.82339  0.21860  0.03146  0.54593  N13  0.491050 -0.697602   \n",
       "159998  9999  0.82339  0.21860  0.03146  0.54593  N14  0.491050 -0.697602   \n",
       "159999  9999  0.82339  0.21860  0.03146  0.54593  N15  0.491050 -0.697602   \n",
       "\n",
       "           8      9   10  11  \n",
       "0       False   True   2   1  \n",
       "1       False   True   2   1  \n",
       "2       False   True   2   1  \n",
       "3       False   True   2   1  \n",
       "4       False   True   2   1  \n",
       "...       ...    ...  ..  ..  \n",
       "159995  False  False   2   1  \n",
       "159996  False  False   2   1  \n",
       "159997  False  False   2   1  \n",
       "159998  False  False   2   1  \n",
       "159999  False  False   2   1  \n",
       "\n",
       "[160000 rows x 12 columns]"
      ]
     },
     "execution_count": 75,
     "metadata": {},
     "output_type": "execute_result"
    }
   ],
   "source": [
    "df"
   ]
  },
  {
   "cell_type": "code",
   "execution_count": 116,
   "metadata": {},
   "outputs": [],
   "source": [
    "bs = range(1, 5)\n",
    "\n",
    "cs = range(1, 11)"
   ]
  },
  {
   "cell_type": "code",
   "execution_count": 192,
   "metadata": {},
   "outputs": [],
   "source": [
    "to_search = np.zeros((len(bs), len(cs)))\n",
    "\n",
    "for i, b_val in enumerate(bs):\n",
    "    for j, c_val in enumerate(cs):\n",
    "        to_search[i, j] = c_val / b_val\n",
    "        "
   ]
  },
  {
   "cell_type": "code",
   "execution_count": 193,
   "metadata": {},
   "outputs": [],
   "source": [
    "import sympy as sym"
   ]
  },
  {
   "cell_type": "code",
   "execution_count": 198,
   "metadata": {},
   "outputs": [
    {
     "data": {
      "text/plain": [
       "array([0.5 , 0.75, 1.  , 1.25])"
      ]
     },
     "execution_count": 198,
     "metadata": {},
     "output_type": "execute_result"
    }
   ],
   "source": [
    "to_search[0]"
   ]
  },
  {
   "cell_type": "code",
   "execution_count": 195,
   "metadata": {},
   "outputs": [
    {
     "data": {
      "text/plain": [
       "1.5"
      ]
     },
     "execution_count": 195,
     "metadata": {},
     "output_type": "execute_result"
    }
   ],
   "source": [
    "3 * 0.5"
   ]
  },
  {
   "cell_type": "code",
   "execution_count": 196,
   "metadata": {},
   "outputs": [],
   "source": [
    "cs = np.arange(1, 3, .5)\n",
    "\n",
    "bs = np.arange(2, 6, 1)"
   ]
  },
  {
   "cell_type": "code",
   "execution_count": 203,
   "metadata": {},
   "outputs": [],
   "source": [
    "c = 2.5\n",
    "\n",
    "b = 2"
   ]
  },
  {
   "cell_type": "code",
   "execution_count": 204,
   "metadata": {},
   "outputs": [
    {
     "data": {
      "text/plain": [
       "True"
      ]
     },
     "execution_count": 204,
     "metadata": {},
     "output_type": "execute_result"
    }
   ],
   "source": [
    "np.isclose(c / b, 1.25)"
   ]
  },
  {
   "cell_type": "code",
   "execution_count": 205,
   "metadata": {},
   "outputs": [
    {
     "data": {
      "text/plain": [
       "1.25"
      ]
     },
     "execution_count": 205,
     "metadata": {},
     "output_type": "execute_result"
    }
   ],
   "source": [
    "c / b"
   ]
  },
  {
   "cell_type": "code",
   "execution_count": null,
   "metadata": {},
   "outputs": [],
   "source": []
  }
 ],
 "metadata": {
  "kernelspec": {
   "display_name": "Python 3",
   "language": "python",
   "name": "python3"
  },
  "language_info": {
   "codemirror_mode": {
    "name": "ipython",
    "version": 3
   },
   "file_extension": ".py",
   "mimetype": "text/x-python",
   "name": "python",
   "nbconvert_exporter": "python",
   "pygments_lexer": "ipython3",
   "version": "3.8.3"
  }
 },
 "nbformat": 4,
 "nbformat_minor": 4
}
