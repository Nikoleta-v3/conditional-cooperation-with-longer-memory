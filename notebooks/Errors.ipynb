{
 "cells": [
  {
   "cell_type": "code",
   "execution_count": 1,
   "metadata": {
    "tags": []
   },
   "outputs": [],
   "source": [
    "import sympy as sym\n",
    "\n",
    "import numpy as np\n",
    "\n",
    "import repeated_play"
   ]
  },
  {
   "cell_type": "code",
   "execution_count": 2,
   "metadata": {
    "tags": []
   },
   "outputs": [],
   "source": [
    "import itertools "
   ]
  },
  {
   "cell_type": "code",
   "execution_count": 3,
   "metadata": {
    "tags": []
   },
   "outputs": [],
   "source": [
    "from tqdm.notebook import tqdm"
   ]
  },
  {
   "cell_type": "code",
   "execution_count": 4,
   "metadata": {
    "tags": []
   },
   "outputs": [],
   "source": [
    "sym.init_printing(True)"
   ]
  },
  {
   "cell_type": "code",
   "execution_count": 5,
   "metadata": {
    "tags": []
   },
   "outputs": [],
   "source": [
    "b, c = sym.symbols(\"b, c\")"
   ]
  },
  {
   "cell_type": "markdown",
   "metadata": {},
   "source": [
    "**Functions**"
   ]
  },
  {
   "cell_type": "code",
   "execution_count": 6,
   "metadata": {
    "tags": []
   },
   "outputs": [],
   "source": [
    "def trnsf_transition_m_memory_two(player, analytical=True):\n",
    "    \n",
    "    if analytical == True:\n",
    "        M = sym.Matrix([[player[0], (1 - player[0]), 0, 0],\n",
    "                        [0, 0, player[1], (1 - player[1])],\n",
    "                        [player[2], (1 - player[2]), 0, 0],\n",
    "                        [0, 0, player[3], (1 - player[3])]])\n",
    "    else:\n",
    "        M = np.array([[player[0], (1 - player[0]), 0, 0],\n",
    "                        [0, 0, player[1], (1 - player[1])],\n",
    "                        [player[2], (1 - player[2]), 0, 0],\n",
    "                        [0, 0, player[3], (1 - player[3])]])\n",
    "    \n",
    "    \n",
    "    return M"
   ]
  },
  {
   "cell_type": "code",
   "execution_count": 7,
   "metadata": {
    "tags": []
   },
   "outputs": [],
   "source": [
    "def trnsf_transition_m_memory_three(player, analytical=True):\n",
    "    \n",
    "    if analytical == False:\n",
    "    \n",
    "        return np.array([[coplayer[0], (1 - coplayer[0]), 0, 0, 0, 0, 0, 0],\n",
    "                        [0, 0, coplayer[1], (1 - coplayer[1]), 0, 0, 0, 0],\n",
    "                        [0, 0, 0, 0, coplayer[2], (1 - coplayer[2]), 0, 0],\n",
    "                        [0, 0, 0, 0, 0, 0, coplayer[3], (1 - coplayer[3])],\n",
    "                        [coplayer[4], (1 - coplayer[4]), 0, 0, 0, 0, 0, 0],\n",
    "                        [0, 0, coplayer[5], (1 - coplayer[5]), 0, 0, 0, 0],\n",
    "                        [0, 0, 0, 0, coplayer[6], (1 - coplayer[6]), 0, 0],\n",
    "                        [0, 0, 0, 0, 0, 0, coplayer[7], (1 - coplayer[7])]])\n",
    "    \n",
    "    if analytical == True:\n",
    "\n",
    "        return sym.Matrix([[coplayer[0], (1 - coplayer[0]), 0, 0, 0, 0, 0, 0],\n",
    "                        [0, 0, coplayer[1], (1 - coplayer[1]), 0, 0, 0, 0],\n",
    "                        [0, 0, 0, 0, coplayer[2], (1 - coplayer[2]), 0, 0],\n",
    "                        [0, 0, 0, 0, 0, 0, coplayer[3], (1 - coplayer[3])],\n",
    "                        [coplayer[4], (1 - coplayer[4]), 0, 0, 0, 0, 0, 0],\n",
    "                        [0, 0, coplayer[5], (1 - coplayer[5]), 0, 0, 0, 0],\n",
    "                        [0, 0, 0, 0, coplayer[6], (1 - coplayer[6]), 0, 0],\n",
    "                        [0, 0, 0, 0, 0, 0, coplayer[7], (1 - coplayer[7])]])"
   ]
  },
  {
   "cell_type": "markdown",
   "metadata": {},
   "source": [
    "### $n=1$ case\n",
    "\n",
    "How many pure self-reactive strategies? 4?"
   ]
  },
  {
   "cell_type": "code",
   "execution_count": 30,
   "metadata": {
    "tags": []
   },
   "outputs": [],
   "source": [
    "pd, epsilon = sym.symbols(r\"p_D, \\epsilon\")"
   ]
  },
  {
   "cell_type": "code",
   "execution_count": 31,
   "metadata": {
    "tags": []
   },
   "outputs": [],
   "source": [
    "pure_strategies = list(itertools.product([0, 1], repeat=2))"
   ]
  },
  {
   "cell_type": "code",
   "execution_count": 32,
   "metadata": {
    "tags": []
   },
   "outputs": [],
   "source": [
    "strategy = [1 * (1 - epsilon) + 0 * epsilon, pd * (1 - epsilon) + (1 - pd) * epsilon]"
   ]
  },
  {
   "cell_type": "code",
   "execution_count": 33,
   "metadata": {},
   "outputs": [],
   "source": [
    "M = repeated_play.transition_matrix_repeated_game(strategy * 2, strategy * 2, memory='one', analytical=True)"
   ]
  },
  {
   "cell_type": "code",
   "execution_count": 34,
   "metadata": {},
   "outputs": [],
   "source": [
    "ss = repeated_play.stationary_distribution(M, analytical=True)"
   ]
  },
  {
   "cell_type": "code",
   "execution_count": 37,
   "metadata": {},
   "outputs": [],
   "source": [
    "strategy_payoff = sum(ss @ np.array([b - c, -c, b, 0]))"
   ]
  },
  {
   "cell_type": "code",
   "execution_count": 38,
   "metadata": {},
   "outputs": [],
   "source": [
    "strategy_payoff = strategy_payoff.factor()"
   ]
  },
  {
   "cell_type": "code",
   "execution_count": 87,
   "metadata": {},
   "outputs": [
    {
     "data": {
      "image/png": "[encoded data removed]",
      "text/latex": [
       "$\\displaystyle \\frac{\\left(b - c\\right) \\left(2 \\epsilon p_{D} - \\epsilon - p_{D}\\right)}{2 \\epsilon p_{D} - 2 \\epsilon - p_{D}}$"
      ],
      "text/plain": [
       "(b - c)⋅(2⋅\\epsilon⋅p_D - \\epsilon - p_D)\n",
       "─────────────────────────────────────────\n",
       "    2⋅\\epsilon⋅p_D - 2⋅\\epsilon - p_D    "
      ]
     },
     "execution_count": 87,
     "metadata": {},
     "output_type": "execute_result"
    }
   ],
   "source": [
    "strategy_payoff"
   ]
  },
  {
   "cell_type": "markdown",
   "metadata": {},
   "source": [
    "### ALLC and TFT"
   ]
  },
  {
   "cell_type": "code",
   "execution_count": 93,
   "metadata": {},
   "outputs": [],
   "source": [
    "from sympy.solvers.inequalities import reduce_rational_inequalities"
   ]
  },
  {
   "cell_type": "code",
   "execution_count": 94,
   "metadata": {
    "tags": []
   },
   "outputs": [
    {
     "name": "stdout",
     "output_type": "stream",
     "text": [
      "(1, 0, 1, 0)\n"
     ]
    }
   ],
   "source": [
    "tft = pure_strategies[2] * 2\n",
    "print(tft)\n",
    "\n",
    "tft_error = [i * (1 - epsilon) + (1 - i) * epsilon for i in tft]\n",
    "\n",
    "M = repeated_play.transition_matrix_repeated_game(tft_error, strategy * 2, memory='one', analytical=True)\n",
    "\n",
    "ss = repeated_play.stationary_distribution(M, analytical=True)\n",
    "\n",
    "# tft_condition = sym.solve(sum(ss @ np.array([b - c, -c, b, 0])) - (b - c), pd)[0].collect(b).collect(c)"
   ]
  },
  {
   "cell_type": "code",
   "execution_count": 95,
   "metadata": {},
   "outputs": [],
   "source": [
    "tft_payoff = sum(ss @ np.array([b - c, -c, b, 0]))"
   ]
  },
  {
   "cell_type": "code",
   "execution_count": 96,
   "metadata": {},
   "outputs": [
    {
     "data": {
      "image/png": "[encoded data removed]",
      "text/latex": [
       "$\\displaystyle \\frac{2 \\epsilon^{2} b p_{D} - 2 \\epsilon^{2} b - 4 \\epsilon^{2} c p_{D} + 2 \\epsilon^{2} c - 3 \\epsilon b p_{D} + 2 \\epsilon b + 4 \\epsilon c p_{D} - 2 \\epsilon c + b p_{D} - c p_{D}}{4 \\epsilon^{2} p_{D} - 4 \\epsilon^{2} - 4 \\epsilon p_{D} + 4 \\epsilon + p_{D}}$"
      ],
      "text/plain": [
       "          2                   2               2                   2                                                                                      \n",
       "2⋅\\epsilon ⋅b⋅p_D - 2⋅\\epsilon ⋅b - 4⋅\\epsilon ⋅c⋅p_D + 2⋅\\epsilon ⋅c - 3⋅\\epsilon⋅b⋅p_D + 2⋅\\epsilon⋅b + 4⋅\\epsilon⋅c⋅p_D - 2⋅\\epsilon⋅c + b⋅p_D - c⋅p_D\n",
       "─────────────────────────────────────────────────────────────────────────────────────────────────────────────────────────────────────────────────────────\n",
       "                                                      2                 2                                                                                \n",
       "                                            4⋅\\epsilon ⋅p_D - 4⋅\\epsilon  - 4⋅\\epsilon⋅p_D + 4⋅\\epsilon + p_D                                            "
      ]
     },
     "execution_count": 96,
     "metadata": {},
     "output_type": "execute_result"
    }
   ],
   "source": [
    "tft_payoff.factor()"
   ]
  },
  {
   "cell_type": "code",
   "execution_count": 97,
   "metadata": {},
   "outputs": [
    {
     "data": {
      "image/png": "[encoded data removed]",
      "text/latex": [
       "$\\displaystyle \\frac{\\epsilon p_{D} \\left(2 \\epsilon - 1\\right) \\left(2 \\epsilon b p_{D} - 2 \\epsilon b - b p_{D} + b - c\\right)}{\\left(2 \\epsilon p_{D} - 2 \\epsilon - p_{D}\\right) \\left(4 \\epsilon^{2} p_{D} - 4 \\epsilon^{2} - 4 \\epsilon p_{D} + 4 \\epsilon + p_{D}\\right)}$"
      ],
      "text/plain": [
       "            \\epsilon⋅p_D⋅(2⋅\\epsilon - 1)⋅(2⋅\\epsilon⋅b⋅p_D - 2⋅\\epsilon⋅b - b⋅p_D + b - c)            \n",
       "───────────────────────────────────────────────────────────────────────────────────────────────────────\n",
       "                                    ⎛          2                 2                                    ⎞\n",
       "(2⋅\\epsilon⋅p_D - 2⋅\\epsilon - p_D)⋅⎝4⋅\\epsilon ⋅p_D - 4⋅\\epsilon  - 4⋅\\epsilon⋅p_D + 4⋅\\epsilon + p_D⎠"
      ]
     },
     "execution_count": 97,
     "metadata": {},
     "output_type": "execute_result"
    }
   ],
   "source": [
    "expr = (strategy_payoff - tft_payoff).factor()\n",
    "\n",
    "expr"
   ]
  },
  {
   "cell_type": "code",
   "execution_count": 98,
   "metadata": {},
   "outputs": [],
   "source": [
    "sols = sym.solve((tft_payoff - strategy_payoff).factor(), pd)"
   ]
  },
  {
   "cell_type": "code",
   "execution_count": 99,
   "metadata": {},
   "outputs": [
    {
     "data": {
      "image/png": "[encoded data removed]",
      "text/latex": [
       "$\\displaystyle \\frac{2 \\epsilon b - b + c}{b \\left(2 \\epsilon - 1\\right)}$"
      ],
      "text/plain": [
       "2⋅\\epsilon⋅b - b + c\n",
       "────────────────────\n",
       " b⋅(2⋅\\epsilon - 1) "
      ]
     },
     "execution_count": 99,
     "metadata": {},
     "output_type": "execute_result"
    }
   ],
   "source": [
    "sols[1]"
   ]
  },
  {
   "cell_type": "code",
   "execution_count": 100,
   "metadata": {},
   "outputs": [
    {
     "data": {
      "image/png": "[encoded data removed]",
      "text/latex": [
       "$\\displaystyle 0.693877551020408$"
      ],
      "text/plain": [
       "0.693877551020408"
      ]
     },
     "execution_count": 100,
     "metadata": {},
     "output_type": "execute_result"
    }
   ],
   "source": [
    "sols[1].subs({epsilon:0.01, b:1, c:0.3})"
   ]
  },
  {
   "cell_type": "code",
   "execution_count": 102,
   "metadata": {},
   "outputs": [
    {
     "data": {
      "image/png": "[encoded data removed]",
      "text/latex": [
       "$\\displaystyle 1.52762374897836 \\cdot 10^{-18}$"
      ],
      "text/plain": [
       "1.52762374897836e-18"
      ]
     },
     "execution_count": 102,
     "metadata": {},
     "output_type": "execute_result"
    }
   ],
   "source": [
    "expr.subs({epsilon:0.01, b:1, c:0.3, pd: 0.693877551020408})"
   ]
  },
  {
   "cell_type": "code",
   "execution_count": 103,
   "metadata": {},
   "outputs": [
    {
     "data": {
      "image/png": "[encoded data removed]",
      "text/latex": [
       "$\\displaystyle 0.00155328523258102$"
      ],
      "text/plain": [
       "0.00155328523258102"
      ]
     },
     "execution_count": 103,
     "metadata": {},
     "output_type": "execute_result"
    }
   ],
   "source": [
    "expr.subs({epsilon:0.01, b:1, c:0.3, pd: 0.593877551020408})"
   ]
  },
  {
   "cell_type": "code",
   "execution_count": 104,
   "metadata": {},
   "outputs": [
    {
     "data": {
      "image/png": "[encoded data removed]",
      "text/latex": [
       "$\\displaystyle -0.00119126053125932$"
      ],
      "text/plain": [
       "-0.00119126053125932"
      ]
     },
     "execution_count": 104,
     "metadata": {},
     "output_type": "execute_result"
    }
   ],
   "source": [
    "expr.subs({epsilon:0.01, b:1, c:0.3, pd: 0.793877551020408})"
   ]
  },
  {
   "cell_type": "code",
   "execution_count": 105,
   "metadata": {},
   "outputs": [],
   "source": [
    "allc = pure_strategies[3] * 2\n",
    "\n",
    "allc_error = [i * (1 - epsilon) + (1 - i) * epsilon for i in allc]\n",
    "\n",
    "M = repeated_play.transition_matrix_repeated_game(allc_error, strategy * 2, memory='one', analytical=True)\n",
    "\n",
    "ss = repeated_play.stationary_distribution(M, analytical=True)\n",
    "\n",
    "allc_payoff = sum(ss @ np.array([b - c, -c, b, 0]))"
   ]
  },
  {
   "cell_type": "code",
   "execution_count": 106,
   "metadata": {},
   "outputs": [
    {
     "data": {
      "image/png": "[encoded data removed]",
      "text/latex": [
       "$\\displaystyle \\left[ 1, \\  \\frac{2 \\epsilon b - b + c}{b \\left(2 \\epsilon - 1\\right)}\\right]$"
      ],
      "text/plain": [
       "⎡   2⋅\\epsilon⋅b - b + c⎤\n",
       "⎢1, ────────────────────⎥\n",
       "⎣    b⋅(2⋅\\epsilon - 1) ⎦"
      ]
     },
     "execution_count": 106,
     "metadata": {},
     "output_type": "execute_result"
    }
   ],
   "source": [
    "sols = sym.solve((strategy_payoff - allc_payoff).factor(), pd)\n",
    "sols"
   ]
  },
  {
   "cell_type": "code",
   "execution_count": 107,
   "metadata": {},
   "outputs": [],
   "source": [
    "expr = strategy_payoff - allc_payoff"
   ]
  },
  {
   "cell_type": "code",
   "execution_count": 108,
   "metadata": {},
   "outputs": [
    {
     "data": {
      "image/png": "[encoded data removed]",
      "text/latex": [
       "$\\displaystyle 0.000248070175438597$"
      ],
      "text/plain": [
       "0.000248070175438597"
      ]
     },
     "execution_count": 108,
     "metadata": {},
     "output_type": "execute_result"
    }
   ],
   "source": [
    "expr.subs({epsilon:0.01, b:1, c:0.3, pd: 0.793877551020408})"
   ]
  },
  {
   "cell_type": "code",
   "execution_count": 109,
   "metadata": {},
   "outputs": [
    {
     "data": {
      "image/png": "[encoded data removed]",
      "text/latex": [
       "$\\displaystyle 0$"
      ],
      "text/plain": [
       "0"
      ]
     },
     "execution_count": 109,
     "metadata": {},
     "output_type": "execute_result"
    }
   ],
   "source": [
    "expr.subs({epsilon:0.01, b:1, c:0.3, pd: 0.693877551020408})"
   ]
  },
  {
   "cell_type": "code",
   "execution_count": 110,
   "metadata": {},
   "outputs": [
    {
     "data": {
      "image/png": "[encoded data removed]",
      "text/latex": [
       "$\\displaystyle -0.000647906976744328$"
      ],
      "text/plain": [
       "-0.000647906976744328"
      ]
     },
     "execution_count": 110,
     "metadata": {},
     "output_type": "execute_result"
    }
   ],
   "source": [
    "expr.subs({epsilon:0.01, b:1, c:0.3, pd: 0.593877551020408})"
   ]
  },
  {
   "cell_type": "markdown",
   "metadata": {},
   "source": [
    "### ALLD"
   ]
  },
  {
   "cell_type": "code",
   "execution_count": 111,
   "metadata": {},
   "outputs": [],
   "source": [
    "alld = pure_strategies[0] * 2\n",
    "\n",
    "alld_error = [i * (1 - epsilon) + (1 - i) * epsilon for i in alld]\n",
    "\n",
    "M = repeated_play.transition_matrix_repeated_game(alld_error, strategy * 2, memory='one', analytical=True)\n",
    "\n",
    "ss = repeated_play.stationary_distribution(M, analytical=True)\n",
    "\n",
    "alld_payoff = sum(ss @ np.array([b - c, -c, b, 0]))"
   ]
  },
  {
   "cell_type": "code",
   "execution_count": 114,
   "metadata": {},
   "outputs": [
    {
     "data": {
      "image/png": "[encoded data removed]",
      "text/latex": [
       "$\\displaystyle \\left[ \\frac{\\epsilon}{\\epsilon - 1}, \\  \\frac{2 \\epsilon b - b + c}{b \\left(2 \\epsilon - 1\\right)}\\right]$"
      ],
      "text/plain": [
       "⎡  \\epsilon    2⋅\\epsilon⋅b - b + c⎤\n",
       "⎢────────────, ────────────────────⎥\n",
       "⎣\\epsilon - 1   b⋅(2⋅\\epsilon - 1) ⎦"
      ]
     },
     "execution_count": 114,
     "metadata": {},
     "output_type": "execute_result"
    }
   ],
   "source": [
    "sym.solve((strategy_payoff - alld_payoff).factor(), pd)"
   ]
  },
  {
   "cell_type": "code",
   "execution_count": 115,
   "metadata": {},
   "outputs": [],
   "source": [
    "expr = (strategy_payoff - alld_payoff).factor()"
   ]
  },
  {
   "cell_type": "code",
   "execution_count": 116,
   "metadata": {},
   "outputs": [
    {
     "data": {
      "image/png": "[encoded data removed]",
      "text/latex": [
       "$\\displaystyle -0.0957919298245613$"
      ],
      "text/plain": [
       "-0.0957919298245613"
      ]
     },
     "execution_count": 116,
     "metadata": {},
     "output_type": "execute_result"
    }
   ],
   "source": [
    "expr.subs({epsilon:0.01, b:1, c:0.3, pd: 0.793877551020408})"
   ]
  },
  {
   "cell_type": "code",
   "execution_count": 117,
   "metadata": {},
   "outputs": [
    {
     "data": {
      "image/png": "[encoded data removed]",
      "text/latex": [
       "$\\displaystyle 1.08326046545569 \\cdot 10^{-16}$"
      ],
      "text/plain": [
       "1.08326046545569e-16"
      ]
     },
     "execution_count": 117,
     "metadata": {},
     "output_type": "execute_result"
    }
   ],
   "source": [
    "expr.subs({epsilon:0.01, b:1, c:0.3, pd: 0.693877551020408})"
   ]
  },
  {
   "cell_type": "code",
   "execution_count": 118,
   "metadata": {},
   "outputs": [
    {
     "data": {
      "image/png": "[encoded data removed]",
      "text/latex": [
       "$\\displaystyle 0.095392093023256$"
      ],
      "text/plain": [
       "0.0953920930232560"
      ]
     },
     "execution_count": 118,
     "metadata": {},
     "output_type": "execute_result"
    }
   ],
   "source": [
    "expr.subs({epsilon:0.01, b:1, c:0.3, pd: 0.593877551020408})"
   ]
  },
  {
   "cell_type": "markdown",
   "metadata": {},
   "source": [
    "### Anti TFT"
   ]
  },
  {
   "cell_type": "code",
   "execution_count": 119,
   "metadata": {},
   "outputs": [],
   "source": [
    "anti = pure_strategies[1] * 2\n",
    "\n",
    "anti_error = [i * (1 - epsilon) + (1 - i) * epsilon for i in anti]\n",
    "\n",
    "M = repeated_play.transition_matrix_repeated_game(anti_error, strategy * 2, memory='one', analytical=True)\n",
    "\n",
    "ss = repeated_play.stationary_distribution(M, analytical=True)\n",
    "\n",
    "anti_payoff = sum(ss @ np.array([b - c, -c, b, 0]))"
   ]
  },
  {
   "cell_type": "code",
   "execution_count": 120,
   "metadata": {},
   "outputs": [
    {
     "data": {
      "image/png": "[encoded data removed]",
      "text/latex": [
       "$\\displaystyle \\left[ 0, \\  \\frac{2 \\epsilon b - b + c}{b \\left(2 \\epsilon - 1\\right)}\\right]$"
      ],
      "text/plain": [
       "⎡   2⋅\\epsilon⋅b - b + c⎤\n",
       "⎢0, ────────────────────⎥\n",
       "⎣    b⋅(2⋅\\epsilon - 1) ⎦"
      ]
     },
     "execution_count": 120,
     "metadata": {},
     "output_type": "execute_result"
    }
   ],
   "source": [
    "sym.solve((strategy_payoff - anti_payoff).factor(), pd)"
   ]
  },
  {
   "cell_type": "code",
   "execution_count": 121,
   "metadata": {},
   "outputs": [],
   "source": [
    "expr = (strategy_payoff - anti_payoff).factor()"
   ]
  },
  {
   "cell_type": "code",
   "execution_count": 122,
   "metadata": {},
   "outputs": [
    {
     "data": {
      "image/png": "[encoded data removed]",
      "text/latex": [
       "$\\displaystyle -0.0789579126620517$"
      ],
      "text/plain": [
       "-0.0789579126620517"
      ]
     },
     "execution_count": 122,
     "metadata": {},
     "output_type": "execute_result"
    }
   ],
   "source": [
    "expr.subs({epsilon:0.01, b:1, c:0.3, pd: 0.793877551020408})"
   ]
  },
  {
   "cell_type": "code",
   "execution_count": 123,
   "metadata": {
    "scrolled": true
   },
   "outputs": [
    {
     "data": {
      "image/png": "[encoded data removed]",
      "text/latex": [
       "$\\displaystyle 8.251293223423 \\cdot 10^{-17}$"
      ],
      "text/plain": [
       "8.25129322342300e-17"
      ]
     },
     "execution_count": 123,
     "metadata": {},
     "output_type": "execute_result"
    }
   ],
   "source": [
    "expr.subs({epsilon:0.01, b:1, c:0.3, pd: 0.693877551020408})"
   ]
  },
  {
   "cell_type": "code",
   "execution_count": 124,
   "metadata": {},
   "outputs": [
    {
     "data": {
      "image/png": "[encoded data removed]",
      "text/latex": [
       "$\\displaystyle 0.0674777302711049$"
      ],
      "text/plain": [
       "0.0674777302711049"
      ]
     },
     "execution_count": 124,
     "metadata": {},
     "output_type": "execute_result"
    }
   ],
   "source": [
    "expr.subs({epsilon:0.01, b:1, c:0.3, pd: 0.593877551020408})"
   ]
  },
  {
   "cell_type": "code",
   "execution_count": 130,
   "metadata": {},
   "outputs": [],
   "source": [
    "written = 1 + c / (b * (2 * epsilon - 1))"
   ]
  },
  {
   "cell_type": "code",
   "execution_count": 131,
   "metadata": {},
   "outputs": [
    {
     "data": {
      "image/png": "[encoded data removed]",
      "text/latex": [
       "$\\displaystyle 1 + \\frac{c}{b \\left(2 \\epsilon - 1\\right)}$"
      ],
      "text/plain": [
       "            c         \n",
       "1 + ──────────────────\n",
       "    b⋅(2⋅\\epsilon - 1)"
      ]
     },
     "execution_count": 131,
     "metadata": {},
     "output_type": "execute_result"
    }
   ],
   "source": [
    "written"
   ]
  },
  {
   "cell_type": "code",
   "execution_count": 132,
   "metadata": {},
   "outputs": [
    {
     "data": {
      "image/png": "[encoded data removed]",
      "text/latex": [
       "$\\displaystyle 0$"
      ],
      "text/plain": [
       "0"
      ]
     },
     "execution_count": 132,
     "metadata": {},
     "output_type": "execute_result"
    }
   ],
   "source": [
    "(sols[1] - written).factor()"
   ]
  },
  {
   "cell_type": "markdown",
   "metadata": {},
   "source": [
    "### $n=2$ case"
   ]
  },
  {
   "cell_type": "code",
   "execution_count": 349,
   "metadata": {},
   "outputs": [],
   "source": [
    "pcc, pcd, pdc, pdd = sym.symbols(\"p_{CC}, p_{CD}, p_{DC}, p_{DD}\")"
   ]
  },
  {
   "cell_type": "code",
   "execution_count": 350,
   "metadata": {},
   "outputs": [],
   "source": [
    "pure_strategies = list(itertools.product([0, 1], repeat=4))"
   ]
  },
  {
   "cell_type": "code",
   "execution_count": 329,
   "metadata": {},
   "outputs": [
    {
     "data": {
      "image/png": "[encoded data removed]",
      "text/latex": [
       "$\\displaystyle 16$"
      ],
      "text/plain": [
       "16"
      ]
     },
     "execution_count": 329,
     "metadata": {},
     "output_type": "execute_result"
    }
   ],
   "source": [
    "len(pure_strategies)"
   ]
  },
  {
   "cell_type": "code",
   "execution_count": 330,
   "metadata": {},
   "outputs": [],
   "source": [
    "strategy = [1 * (1 - epsilon) + 0 * epsilon,\n",
    "            pcd * (1 - epsilon) + (1 - pcd) * epsilon,\n",
    "            1 * (1 - epsilon) + 0 * epsilon,\n",
    "            pcd * (1 - epsilon) + (1 - pcd) * epsilon,\n",
    "            pdc * (1 - epsilon) + (1 - pdc) * epsilon,\n",
    "            pdd * (1 - epsilon) + (1 - pdd) * epsilon,\n",
    "            pdc * (1 - epsilon) + (1 - pdc) * epsilon,\n",
    "            pdd * (1 - epsilon) + (1 - pdd) * epsilon]"
   ]
  },
  {
   "cell_type": "code",
   "execution_count": 331,
   "metadata": {},
   "outputs": [],
   "source": [
    "strategy = strategy * 2"
   ]
  },
  {
   "cell_type": "code",
   "execution_count": 351,
   "metadata": {},
   "outputs": [],
   "source": [
    "strategy = [pcc, pcd, pcc, pcd, pdc, pdd, pdc, pdd] * 2"
   ]
  },
  {
   "cell_type": "code",
   "execution_count": 352,
   "metadata": {},
   "outputs": [],
   "source": [
    "M = repeated_play.transition_matrix_repeated_game(strategy,\n",
    "                                                  strategy,\n",
    "                                                  memory='two',\n",
    "                                                  analytical=True)"
   ]
  },
  {
   "cell_type": "code",
   "execution_count": 354,
   "metadata": {},
   "outputs": [],
   "source": [
    "M_copy = sym.Matrix([i.factor() for i in M])"
   ]
  },
  {
   "cell_type": "code",
   "execution_count": 355,
   "metadata": {},
   "outputs": [],
   "source": [
    "M = M_copy.reshape(16, 16)"
   ]
  },
  {
   "cell_type": "code",
   "execution_count": 358,
   "metadata": {},
   "outputs": [
    {
     "ename": "KeyboardInterrupt",
     "evalue": "",
     "output_type": "error",
     "traceback": [
      "\u001b[0;31m---------------------------------------------------------------------------\u001b[0m",
      "\u001b[0;31mKeyboardInterrupt\u001b[0m                         Traceback (most recent call last)",
      "Cell \u001b[0;32mIn[358], line 1\u001b[0m\n\u001b[0;32m----> 1\u001b[0m ss \u001b[38;5;241m=\u001b[39m repeated_play\u001b[38;5;241m.\u001b[39mstationary_distribution(M, analytical\u001b[38;5;241m=\u001b[39m\u001b[38;5;28;01mTrue\u001b[39;00m)\n",
      "File \u001b[0;32m~/rsc/repeated-play/src/repeated_play/main.py:22\u001b[0m, in \u001b[0;36mstationary_distribution\u001b[0;34m(M, analytical)\u001b[0m\n\u001b[1;32m     20\u001b[0m \u001b[38;5;28;01mif\u001b[39;00m analytical \u001b[38;5;241m==\u001b[39m \u001b[38;5;28;01mTrue\u001b[39;00m:\n\u001b[1;32m     21\u001b[0m     \u001b[38;5;28;01massert\u001b[39;00m \u001b[38;5;28misinstance\u001b[39m(M, sym\u001b[38;5;241m.\u001b[39mMatrix), \u001b[38;5;124m\"\u001b[39m\u001b[38;5;124mM needs to be an numpy array.\u001b[39m\u001b[38;5;124m\"\u001b[39m\n\u001b[0;32m---> 22\u001b[0m     \u001b[38;5;28;01mreturn\u001b[39;00m stationary_distribution_algebraic_system(M)\n",
      "File \u001b[0;32m~/rsc/repeated-play/src/repeated_play/stationary/methods.py:50\u001b[0m, in \u001b[0;36mstationary_distribution_algebraic_system\u001b[0;34m(M)\u001b[0m\n\u001b[1;32m     48\u001b[0m size \u001b[38;5;241m=\u001b[39m M\u001b[38;5;241m.\u001b[39mshape[\u001b[38;5;241m1\u001b[39m]\n\u001b[1;32m     49\u001b[0m iss \u001b[38;5;241m=\u001b[39m sym\u001b[38;5;241m.\u001b[39msymbols(\u001b[38;5;124mf\u001b[39m\u001b[38;5;124m\"\u001b[39m\u001b[38;5;124mi_1:\u001b[39m\u001b[38;5;132;01m{\u001b[39;00msize\u001b[38;5;250m \u001b[39m\u001b[38;5;241m+\u001b[39m\u001b[38;5;250m \u001b[39m\u001b[38;5;241m1\u001b[39m\u001b[38;5;132;01m}\u001b[39;00m\u001b[38;5;124m\"\u001b[39m)\n\u001b[0;32m---> 50\u001b[0m ss \u001b[38;5;241m=\u001b[39m sym\u001b[38;5;241m.\u001b[39msolve(\n\u001b[1;32m     51\u001b[0m     [\u001b[38;5;28msum\u001b[39m(iss) \u001b[38;5;241m-\u001b[39m \u001b[38;5;241m1\u001b[39m]\n\u001b[1;32m     52\u001b[0m     \u001b[38;5;241m+\u001b[39m [a \u001b[38;5;241m-\u001b[39m b \u001b[38;5;28;01mfor\u001b[39;00m a, b \u001b[38;5;129;01min\u001b[39;00m \u001b[38;5;28mzip\u001b[39m(M\u001b[38;5;241m.\u001b[39mtranspose() \u001b[38;5;241m*\u001b[39m sym\u001b[38;5;241m.\u001b[39mMatrix(iss), iss)],\n\u001b[1;32m     53\u001b[0m     iss,\n\u001b[1;32m     54\u001b[0m )\n\u001b[1;32m     56\u001b[0m v_vector \u001b[38;5;241m=\u001b[39m sym\u001b[38;5;241m.\u001b[39mMatrix(\n\u001b[1;32m     57\u001b[0m     [\n\u001b[1;32m     58\u001b[0m         [ss[p] \u001b[38;5;28;01mfor\u001b[39;00m p \u001b[38;5;129;01min\u001b[39;00m iss],\n\u001b[1;32m     59\u001b[0m     ]\n\u001b[1;32m     60\u001b[0m )\n\u001b[1;32m     62\u001b[0m \u001b[38;5;28;01mreturn\u001b[39;00m v_vector\n",
      "File \u001b[0;32m~/anaconda3/lib/python3.11/site-packages/sympy/solvers/solvers.py:1114\u001b[0m, in \u001b[0;36msolve\u001b[0;34m(f, *symbols, **flags)\u001b[0m\n\u001b[1;32m   1112\u001b[0m     solution \u001b[38;5;241m=\u001b[39m _solve(f[\u001b[38;5;241m0\u001b[39m], \u001b[38;5;241m*\u001b[39msymbols, \u001b[38;5;241m*\u001b[39m\u001b[38;5;241m*\u001b[39mflags)\n\u001b[1;32m   1113\u001b[0m \u001b[38;5;28;01melse\u001b[39;00m:\n\u001b[0;32m-> 1114\u001b[0m     solution \u001b[38;5;241m=\u001b[39m _solve_system(f, symbols, \u001b[38;5;241m*\u001b[39m\u001b[38;5;241m*\u001b[39mflags)\n\u001b[1;32m   1116\u001b[0m \u001b[38;5;66;03m#\u001b[39;00m\n\u001b[1;32m   1117\u001b[0m \u001b[38;5;66;03m# postprocessing\u001b[39;00m\n\u001b[1;32m   1118\u001b[0m \u001b[38;5;66;03m###########################################################################\u001b[39;00m\n\u001b[1;32m   1119\u001b[0m \u001b[38;5;66;03m# Restore masked-off objects\u001b[39;00m\n\u001b[1;32m   1120\u001b[0m \u001b[38;5;28;01mif\u001b[39;00m non_inverts:\n",
      "File \u001b[0;32m~/anaconda3/lib/python3.11/site-packages/sympy/solvers/solvers.py:1849\u001b[0m, in \u001b[0;36m_solve_system\u001b[0;34m(exprs, symbols, **flags)\u001b[0m\n\u001b[1;32m   1847\u001b[0m     result \u001b[38;5;241m=\u001b[39m minsolve_linear_system(matrix, \u001b[38;5;241m*\u001b[39msymbols, \u001b[38;5;241m*\u001b[39m\u001b[38;5;241m*\u001b[39mflags)\n\u001b[1;32m   1848\u001b[0m \u001b[38;5;28;01melse\u001b[39;00m:\n\u001b[0;32m-> 1849\u001b[0m     result \u001b[38;5;241m=\u001b[39m solve_linear_system(matrix, \u001b[38;5;241m*\u001b[39msymbols, \u001b[38;5;241m*\u001b[39m\u001b[38;5;241m*\u001b[39mflags)\n\u001b[1;32m   1850\u001b[0m \u001b[38;5;28;01mif\u001b[39;00m failed:\n\u001b[1;32m   1851\u001b[0m     \u001b[38;5;28;01mif\u001b[39;00m result:\n",
      "File \u001b[0;32m~/anaconda3/lib/python3.11/site-packages/sympy/solvers/solvers.py:2340\u001b[0m, in \u001b[0;36msolve_linear_system\u001b[0;34m(system, *symbols, **flags)\u001b[0m\n\u001b[1;32m   2338\u001b[0m eqs \u001b[38;5;241m=\u001b[39m \u001b[38;5;28mlist\u001b[39m(system \u001b[38;5;241m*\u001b[39m Matrix(symbols \u001b[38;5;241m+\u001b[39m (\u001b[38;5;241m-\u001b[39m\u001b[38;5;241m1\u001b[39m,)))\n\u001b[1;32m   2339\u001b[0m eqs, ring \u001b[38;5;241m=\u001b[39m sympy_eqs_to_ring(eqs, symbols)\n\u001b[0;32m-> 2340\u001b[0m sol \u001b[38;5;241m=\u001b[39m solve_lin_sys(eqs, ring, _raw\u001b[38;5;241m=\u001b[39m\u001b[38;5;28;01mFalse\u001b[39;00m)\n\u001b[1;32m   2341\u001b[0m \u001b[38;5;28;01mif\u001b[39;00m sol \u001b[38;5;129;01mis\u001b[39;00m \u001b[38;5;129;01mnot\u001b[39;00m \u001b[38;5;28;01mNone\u001b[39;00m:\n\u001b[1;32m   2342\u001b[0m     sol \u001b[38;5;241m=\u001b[39m {sym:val \u001b[38;5;28;01mfor\u001b[39;00m sym, val \u001b[38;5;129;01min\u001b[39;00m sol\u001b[38;5;241m.\u001b[39mitems() \u001b[38;5;28;01mif\u001b[39;00m sym \u001b[38;5;241m!=\u001b[39m val}\n",
      "File \u001b[0;32m~/anaconda3/lib/python3.11/site-packages/sympy/polys/solvers.py:279\u001b[0m, in \u001b[0;36msolve_lin_sys\u001b[0;34m(eqs, ring, _raw)\u001b[0m\n\u001b[1;32m    276\u001b[0m     eqs_rhs\u001b[38;5;241m.\u001b[39mappend(eq_rhs)\n\u001b[1;32m    277\u001b[0m     eqs_coeffs\u001b[38;5;241m.\u001b[39mappend(eq_coeffs)\n\u001b[0;32m--> 279\u001b[0m result \u001b[38;5;241m=\u001b[39m _solve_lin_sys(eqs_coeffs, eqs_rhs, ring)\n\u001b[1;32m    281\u001b[0m \u001b[38;5;28;01mif\u001b[39;00m result \u001b[38;5;129;01mis\u001b[39;00m \u001b[38;5;129;01mnot\u001b[39;00m \u001b[38;5;28;01mNone\u001b[39;00m \u001b[38;5;129;01mand\u001b[39;00m as_expr:\n\u001b[1;32m    283\u001b[0m     \u001b[38;5;28;01mdef\u001b[39;00m \u001b[38;5;21mto_sympy\u001b[39m(x):\n",
      "File \u001b[0;32m~/anaconda3/lib/python3.11/site-packages/sympy/polys/solvers.py:357\u001b[0m, in \u001b[0;36m_solve_lin_sys\u001b[0;34m(eqs_coeffs, eqs_rhs, ring)\u001b[0m\n\u001b[1;32m    355\u001b[0m sol \u001b[38;5;241m=\u001b[39m {}\n\u001b[1;32m    356\u001b[0m \u001b[38;5;28;01mfor\u001b[39;00m subsystem \u001b[38;5;129;01min\u001b[39;00m subsystems:\n\u001b[0;32m--> 357\u001b[0m     subsol \u001b[38;5;241m=\u001b[39m _solve_lin_sys_component(subsystem[\u001b[38;5;241m0\u001b[39m], subsystem[\u001b[38;5;241m1\u001b[39m], ring)\n\u001b[1;32m    358\u001b[0m     \u001b[38;5;28;01mif\u001b[39;00m subsol \u001b[38;5;129;01mis\u001b[39;00m \u001b[38;5;28;01mNone\u001b[39;00m:\n\u001b[1;32m    359\u001b[0m         \u001b[38;5;28;01mreturn\u001b[39;00m \u001b[38;5;28;01mNone\u001b[39;00m\n",
      "File \u001b[0;32m~/anaconda3/lib/python3.11/site-packages/sympy/polys/solvers.py:405\u001b[0m, in \u001b[0;36m_solve_lin_sys_component\u001b[0;34m(eqs_coeffs, eqs_rhs, ring)\u001b[0m\n\u001b[1;32m    402\u001b[0m     matrix \u001b[38;5;241m=\u001b[39m matrix\u001b[38;5;241m.\u001b[39mto_field()\n\u001b[1;32m    404\u001b[0m \u001b[38;5;66;03m# solve by row-reduction\u001b[39;00m\n\u001b[0;32m--> 405\u001b[0m echelon, pivots \u001b[38;5;241m=\u001b[39m matrix\u001b[38;5;241m.\u001b[39mrref()\n\u001b[1;32m    407\u001b[0m \u001b[38;5;66;03m# construct the returnable form of the solutions\u001b[39;00m\n\u001b[1;32m    408\u001b[0m keys \u001b[38;5;241m=\u001b[39m ring\u001b[38;5;241m.\u001b[39mgens\n",
      "File \u001b[0;32m~/anaconda3/lib/python3.11/site-packages/sympy/polys/matrices/domainmatrix.py:1273\u001b[0m, in \u001b[0;36mDomainMatrix.rref\u001b[0;34m(self)\u001b[0m\n\u001b[1;32m   1271\u001b[0m \u001b[38;5;28;01mif\u001b[39;00m \u001b[38;5;129;01mnot\u001b[39;00m \u001b[38;5;28mself\u001b[39m\u001b[38;5;241m.\u001b[39mdomain\u001b[38;5;241m.\u001b[39mis_Field:\n\u001b[1;32m   1272\u001b[0m     \u001b[38;5;28;01mraise\u001b[39;00m DMNotAField(\u001b[38;5;124m'\u001b[39m\u001b[38;5;124mNot a field\u001b[39m\u001b[38;5;124m'\u001b[39m)\n\u001b[0;32m-> 1273\u001b[0m rref_ddm, pivots \u001b[38;5;241m=\u001b[39m \u001b[38;5;28mself\u001b[39m\u001b[38;5;241m.\u001b[39mrep\u001b[38;5;241m.\u001b[39mrref()\n\u001b[1;32m   1274\u001b[0m \u001b[38;5;28;01mreturn\u001b[39;00m \u001b[38;5;28mself\u001b[39m\u001b[38;5;241m.\u001b[39mfrom_rep(rref_ddm), \u001b[38;5;28mtuple\u001b[39m(pivots)\n",
      "File \u001b[0;32m~/anaconda3/lib/python3.11/site-packages/sympy/polys/matrices/ddm.py:387\u001b[0m, in \u001b[0;36mDDM.rref\u001b[0;34m(a)\u001b[0m\n\u001b[1;32m    385\u001b[0m K \u001b[38;5;241m=\u001b[39m a\u001b[38;5;241m.\u001b[39mdomain\n\u001b[1;32m    386\u001b[0m partial_pivot \u001b[38;5;241m=\u001b[39m K\u001b[38;5;241m.\u001b[39mis_RealField \u001b[38;5;129;01mor\u001b[39;00m K\u001b[38;5;241m.\u001b[39mis_ComplexField\n\u001b[0;32m--> 387\u001b[0m pivots \u001b[38;5;241m=\u001b[39m ddm_irref(b, _partial_pivot\u001b[38;5;241m=\u001b[39mpartial_pivot)\n\u001b[1;32m    388\u001b[0m \u001b[38;5;28;01mreturn\u001b[39;00m b, pivots\n",
      "File \u001b[0;32m~/anaconda3/lib/python3.11/site-packages/sympy/polys/matrices/dense.py:143\u001b[0m, in \u001b[0;36mddm_irref\u001b[0;34m(a, _partial_pivot)\u001b[0m\n\u001b[1;32m    141\u001b[0m     ak[j] \u001b[38;5;241m-\u001b[39m\u001b[38;5;241m=\u001b[39m akj \u001b[38;5;66;03m# ak[j] = zero\u001b[39;00m\n\u001b[1;32m    142\u001b[0m     \u001b[38;5;28;01mfor\u001b[39;00m l \u001b[38;5;129;01min\u001b[39;00m \u001b[38;5;28mrange\u001b[39m(j\u001b[38;5;241m+\u001b[39m\u001b[38;5;241m1\u001b[39m, n):\n\u001b[0;32m--> 143\u001b[0m         ak[l] \u001b[38;5;241m-\u001b[39m\u001b[38;5;241m=\u001b[39m akj \u001b[38;5;241m*\u001b[39m ai[l]\n\u001b[1;32m    145\u001b[0m \u001b[38;5;66;03m# next row\u001b[39;00m\n\u001b[1;32m    146\u001b[0m pivots\u001b[38;5;241m.\u001b[39mappend(j)\n",
      "File \u001b[0;32m~/anaconda3/lib/python3.11/site-packages/sympy/polys/fields.py:451\u001b[0m, in \u001b[0;36mFracElement.__sub__\u001b[0;34m(f, g)\u001b[0m\n\u001b[1;32m    449\u001b[0m         \u001b[38;5;28;01mreturn\u001b[39;00m f\u001b[38;5;241m.\u001b[39mnew(f\u001b[38;5;241m.\u001b[39mnumer \u001b[38;5;241m-\u001b[39m g\u001b[38;5;241m.\u001b[39mnumer, f\u001b[38;5;241m.\u001b[39mdenom)\n\u001b[1;32m    450\u001b[0m     \u001b[38;5;28;01melse\u001b[39;00m:\n\u001b[0;32m--> 451\u001b[0m         \u001b[38;5;28;01mreturn\u001b[39;00m f\u001b[38;5;241m.\u001b[39mnew(f\u001b[38;5;241m.\u001b[39mnumer\u001b[38;5;241m*\u001b[39mg\u001b[38;5;241m.\u001b[39mdenom \u001b[38;5;241m-\u001b[39m f\u001b[38;5;241m.\u001b[39mdenom\u001b[38;5;241m*\u001b[39mg\u001b[38;5;241m.\u001b[39mnumer, f\u001b[38;5;241m.\u001b[39mdenom\u001b[38;5;241m*\u001b[39mg\u001b[38;5;241m.\u001b[39mdenom)\n\u001b[1;32m    452\u001b[0m \u001b[38;5;28;01melif\u001b[39;00m \u001b[38;5;28misinstance\u001b[39m(g, field\u001b[38;5;241m.\u001b[39mring\u001b[38;5;241m.\u001b[39mdtype):\n\u001b[1;32m    453\u001b[0m     \u001b[38;5;28;01mreturn\u001b[39;00m f\u001b[38;5;241m.\u001b[39mnew(f\u001b[38;5;241m.\u001b[39mnumer \u001b[38;5;241m-\u001b[39m f\u001b[38;5;241m.\u001b[39mdenom\u001b[38;5;241m*\u001b[39mg, f\u001b[38;5;241m.\u001b[39mdenom)\n",
      "File \u001b[0;32m~/anaconda3/lib/python3.11/site-packages/sympy/polys/fields.py:301\u001b[0m, in \u001b[0;36mFracElement.new\u001b[0;34m(f, numer, denom)\u001b[0m\n\u001b[1;32m    300\u001b[0m \u001b[38;5;28;01mdef\u001b[39;00m \u001b[38;5;21mnew\u001b[39m(f, numer, denom):\n\u001b[0;32m--> 301\u001b[0m     \u001b[38;5;28;01mreturn\u001b[39;00m f\u001b[38;5;241m.\u001b[39mraw_new(\u001b[38;5;241m*\u001b[39mnumer\u001b[38;5;241m.\u001b[39mcancel(denom))\n",
      "File \u001b[0;32m~/anaconda3/lib/python3.11/site-packages/sympy/polys/rings.py:2223\u001b[0m, in \u001b[0;36mPolyElement.cancel\u001b[0;34m(self, g)\u001b[0m\n\u001b[1;32m   2220\u001b[0m domain \u001b[38;5;241m=\u001b[39m ring\u001b[38;5;241m.\u001b[39mdomain\n\u001b[1;32m   2222\u001b[0m \u001b[38;5;28;01mif\u001b[39;00m \u001b[38;5;129;01mnot\u001b[39;00m (domain\u001b[38;5;241m.\u001b[39mis_Field \u001b[38;5;129;01mand\u001b[39;00m domain\u001b[38;5;241m.\u001b[39mhas_assoc_Ring):\n\u001b[0;32m-> 2223\u001b[0m     _, p, q \u001b[38;5;241m=\u001b[39m f\u001b[38;5;241m.\u001b[39mcofactors(g)\n\u001b[1;32m   2224\u001b[0m \u001b[38;5;28;01melse\u001b[39;00m:\n\u001b[1;32m   2225\u001b[0m     new_ring \u001b[38;5;241m=\u001b[39m ring\u001b[38;5;241m.\u001b[39mclone(domain\u001b[38;5;241m=\u001b[39mdomain\u001b[38;5;241m.\u001b[39mget_ring())\n",
      "File \u001b[0;32m~/anaconda3/lib/python3.11/site-packages/sympy/polys/rings.py:2139\u001b[0m, in \u001b[0;36mPolyElement.cofactors\u001b[0;34m(f, g)\u001b[0m\n\u001b[1;32m   2136\u001b[0m     \u001b[38;5;28;01mreturn\u001b[39;00m h, cff, cfg\n\u001b[1;32m   2138\u001b[0m J, (f, g) \u001b[38;5;241m=\u001b[39m f\u001b[38;5;241m.\u001b[39mdeflate(g)\n\u001b[0;32m-> 2139\u001b[0m h, cff, cfg \u001b[38;5;241m=\u001b[39m f\u001b[38;5;241m.\u001b[39m_gcd(g)\n\u001b[1;32m   2141\u001b[0m \u001b[38;5;28;01mreturn\u001b[39;00m (h\u001b[38;5;241m.\u001b[39minflate(J), cff\u001b[38;5;241m.\u001b[39minflate(J), cfg\u001b[38;5;241m.\u001b[39minflate(J))\n",
      "File \u001b[0;32m~/anaconda3/lib/python3.11/site-packages/sympy/polys/rings.py:2172\u001b[0m, in \u001b[0;36mPolyElement._gcd\u001b[0;34m(f, g)\u001b[0m\n\u001b[1;32m   2170\u001b[0m     \u001b[38;5;28;01mreturn\u001b[39;00m f\u001b[38;5;241m.\u001b[39m_gcd_QQ(g)\n\u001b[1;32m   2171\u001b[0m \u001b[38;5;28;01melif\u001b[39;00m ring\u001b[38;5;241m.\u001b[39mdomain\u001b[38;5;241m.\u001b[39mis_ZZ:\n\u001b[0;32m-> 2172\u001b[0m     \u001b[38;5;28;01mreturn\u001b[39;00m f\u001b[38;5;241m.\u001b[39m_gcd_ZZ(g)\n\u001b[1;32m   2173\u001b[0m \u001b[38;5;28;01melse\u001b[39;00m: \u001b[38;5;66;03m# TODO: don't use dense representation (port PRS algorithms)\u001b[39;00m\n\u001b[1;32m   2174\u001b[0m     \u001b[38;5;28;01mreturn\u001b[39;00m ring\u001b[38;5;241m.\u001b[39mdmp_inner_gcd(f, g)\n",
      "File \u001b[0;32m~/anaconda3/lib/python3.11/site-packages/sympy/polys/rings.py:2177\u001b[0m, in \u001b[0;36mPolyElement._gcd_ZZ\u001b[0;34m(f, g)\u001b[0m\n\u001b[1;32m   2176\u001b[0m \u001b[38;5;28;01mdef\u001b[39;00m \u001b[38;5;21m_gcd_ZZ\u001b[39m(f, g):\n\u001b[0;32m-> 2177\u001b[0m     \u001b[38;5;28;01mreturn\u001b[39;00m heugcd(f, g)\n",
      "File \u001b[0;32m~/anaconda3/lib/python3.11/site-packages/sympy/polys/heuristicgcd.py:88\u001b[0m, in \u001b[0;36mheugcd\u001b[0;34m(f, g)\u001b[0m\n\u001b[1;32m     85\u001b[0m cff_, r \u001b[38;5;241m=\u001b[39m f\u001b[38;5;241m.\u001b[39mdiv(h)\n\u001b[1;32m     87\u001b[0m \u001b[38;5;28;01mif\u001b[39;00m \u001b[38;5;129;01mnot\u001b[39;00m r:\n\u001b[0;32m---> 88\u001b[0m     cfg_, r \u001b[38;5;241m=\u001b[39m g\u001b[38;5;241m.\u001b[39mdiv(h)\n\u001b[1;32m     90\u001b[0m     \u001b[38;5;28;01mif\u001b[39;00m \u001b[38;5;129;01mnot\u001b[39;00m r:\n\u001b[1;32m     91\u001b[0m         h \u001b[38;5;241m=\u001b[39m h\u001b[38;5;241m.\u001b[39mmul_ground(gcd)\n",
      "File \u001b[0;32m~/anaconda3/lib/python3.11/site-packages/sympy/polys/rings.py:1448\u001b[0m, in \u001b[0;36mPolyElement.div\u001b[0;34m(self, fv)\u001b[0m\n\u001b[1;32m   1446\u001b[0m divoccurred \u001b[38;5;241m=\u001b[39m \u001b[38;5;241m0\u001b[39m\n\u001b[1;32m   1447\u001b[0m \u001b[38;5;28;01mwhile\u001b[39;00m i \u001b[38;5;241m<\u001b[39m s \u001b[38;5;129;01mand\u001b[39;00m divoccurred \u001b[38;5;241m==\u001b[39m \u001b[38;5;241m0\u001b[39m:\n\u001b[0;32m-> 1448\u001b[0m     expv \u001b[38;5;241m=\u001b[39m p\u001b[38;5;241m.\u001b[39mleading_expv()\n\u001b[1;32m   1449\u001b[0m     term \u001b[38;5;241m=\u001b[39m term_div((expv, p[expv]), (expvs[i], fv[i][expvs[i]]))\n\u001b[1;32m   1450\u001b[0m     \u001b[38;5;28;01mif\u001b[39;00m term \u001b[38;5;129;01mis\u001b[39;00m \u001b[38;5;129;01mnot\u001b[39;00m \u001b[38;5;28;01mNone\u001b[39;00m:\n",
      "File \u001b[0;32m~/anaconda3/lib/python3.11/site-packages/sympy/polys/rings.py:1680\u001b[0m, in \u001b[0;36mPolyElement.leading_expv\u001b[0;34m(self)\u001b[0m\n\u001b[1;32m   1665\u001b[0m \u001b[38;5;250m\u001b[39m\u001b[38;5;124;03m\"\"\"Leading monomial tuple according to the monomial ordering.\u001b[39;00m\n\u001b[1;32m   1666\u001b[0m \n\u001b[1;32m   1667\u001b[0m \u001b[38;5;124;03mExamples\u001b[39;00m\n\u001b[0;32m   (...)\u001b[0m\n\u001b[1;32m   1677\u001b[0m \n\u001b[1;32m   1678\u001b[0m \u001b[38;5;124;03m\"\"\"\u001b[39;00m\n\u001b[1;32m   1679\u001b[0m \u001b[38;5;28;01mif\u001b[39;00m \u001b[38;5;28mself\u001b[39m:\n\u001b[0;32m-> 1680\u001b[0m     \u001b[38;5;28;01mreturn\u001b[39;00m \u001b[38;5;28mself\u001b[39m\u001b[38;5;241m.\u001b[39mring\u001b[38;5;241m.\u001b[39mleading_expv(\u001b[38;5;28mself\u001b[39m)\n\u001b[1;32m   1681\u001b[0m \u001b[38;5;28;01melse\u001b[39;00m:\n\u001b[1;32m   1682\u001b[0m     \u001b[38;5;28;01mreturn\u001b[39;00m \u001b[38;5;28;01mNone\u001b[39;00m\n",
      "\u001b[0;31mKeyboardInterrupt\u001b[0m: "
     ]
    }
   ],
   "source": [
    "ss = repeated_play.stationary_distribution(M, analytical=True)"
   ]
  },
  {
   "cell_type": "code",
   "execution_count": 340,
   "metadata": {},
   "outputs": [],
   "source": [
    "U = sym.ones(16, 16)"
   ]
  },
  {
   "cell_type": "code",
   "execution_count": 348,
   "metadata": {},
   "outputs": [
    {
     "data": {
      "image/png": "[encoded data removed]",
      "text/latex": [
       "$\\displaystyle 1$"
      ],
      "text/plain": [
       "1"
      ]
     },
     "execution_count": 348,
     "metadata": {},
     "output_type": "execute_result"
    }
   ],
   "source": [
    "M[0].expand().coeff(epsilon ** 2)"
   ]
  },
  {
   "cell_type": "code",
   "execution_count": 37,
   "metadata": {},
   "outputs": [],
   "source": [
    "strategy_payoff = sum(ss @ np.array([b - c, -c, b, 0]))"
   ]
  },
  {
   "cell_type": "code",
   "execution_count": 38,
   "metadata": {},
   "outputs": [],
   "source": [
    "strategy_payoff = strategy_payoff.factor()"
   ]
  },
  {
   "cell_type": "code",
   "execution_count": 87,
   "metadata": {},
   "outputs": [
    {
     "data": {
      "image/png": "[encoded data removed]",
      "text/latex": [
       "$\\displaystyle \\frac{\\left(b - c\\right) \\left(2 \\epsilon p_{D} - \\epsilon - p_{D}\\right)}{2 \\epsilon p_{D} - 2 \\epsilon - p_{D}}$"
      ],
      "text/plain": [
       "(b - c)⋅(2⋅\\epsilon⋅p_D - \\epsilon - p_D)\n",
       "─────────────────────────────────────────\n",
       "    2⋅\\epsilon⋅p_D - 2⋅\\epsilon - p_D    "
      ]
     },
     "execution_count": 87,
     "metadata": {},
     "output_type": "execute_result"
    }
   ],
   "source": [
    "strategy_payoff"
   ]
  },
  {
   "cell_type": "code",
   "execution_count": 168,
   "metadata": {},
   "outputs": [
    {
     "data": {
      "application/vnd.jupyter.widget-view+json": {
       "model_id": "b63e150dca4e449d979df871b85cb11c",
       "version_major": 2,
       "version_minor": 0
      },
      "text/plain": [
       "0it [00:00, ?it/s]"
      ]
     },
     "metadata": {},
     "output_type": "display_data"
    }
   ],
   "source": [
    "payoffs = []\n",
    "\n",
    "for num, coplayer in tqdm(enumerate(pure_strategies)):\n",
    "    \n",
    "    coplayer_error = [i * (1 - epsilon) + (1 - i) * epsilon for i in coplayer]\n",
    "    \n",
    "    M = trnsf_transition_m_memory_two(coplayer_error)\n",
    "\n",
    "    ss = repeated_play.stationary_distribution(M, analytical=True)\n",
    "\n",
    "    rho_q = ss[0] + ss[1]\n",
    "\n",
    "    rho_p = sum([ss[i] * p for i, p in enumerate(strategy)])\n",
    "\n",
    "\n",
    "    payoff_q = (rho_p * b - c * rho_q)\n",
    "\n",
    "    payoffs.append((num, sym.nsimplify(payoff_q)))"
   ]
  },
  {
   "cell_type": "code",
   "execution_count": 169,
   "metadata": {},
   "outputs": [],
   "source": [
    "expanded_payoffs = [(p[1] - (b - c)).expand() for p in payoffs]"
   ]
  },
  {
   "cell_type": "code",
   "execution_count": 170,
   "metadata": {},
   "outputs": [
    {
     "data": {
      "image/png": "[encoded data removed]",
      "text/latex": [
       "$\\displaystyle 16$"
      ],
      "text/plain": [
       "16"
      ]
     },
     "execution_count": 170,
     "metadata": {},
     "output_type": "execute_result"
    }
   ],
   "source": [
    "len(expanded_payoffs)"
   ]
  },
  {
   "cell_type": "code",
   "execution_count": 171,
   "metadata": {},
   "outputs": [],
   "source": [
    "hrt = list(set(expanded_payoffs))"
   ]
  },
  {
   "cell_type": "markdown",
   "metadata": {},
   "source": [
    "### Condition 1"
   ]
  },
  {
   "cell_type": "code",
   "execution_count": 194,
   "metadata": {},
   "outputs": [
    {
     "data": {
      "image/png": "[encoded data removed]",
      "text/latex": [
       "$\\displaystyle \\frac{4 \\epsilon^{2} b}{2 \\epsilon + 1} - \\frac{2 \\epsilon b}{2 \\epsilon + 1} - b + \\frac{b}{2 \\epsilon + 1} + c - \\frac{c}{2 \\epsilon + 1} + p_{CD} \\left(- \\frac{2 \\epsilon^{2} b}{2 \\epsilon + 1} + \\frac{\\epsilon b}{2 \\epsilon + 1}\\right) + p_{DC} \\left(- \\frac{2 \\epsilon^{2} b}{2 \\epsilon + 1} + \\frac{\\epsilon b}{2 \\epsilon + 1}\\right) + p_{DD} \\left(- \\frac{2 \\epsilon^{2} b}{2 \\epsilon + 1} + \\frac{\\epsilon b}{2 \\epsilon + 1}\\right)$"
      ],
      "text/plain": [
       "          2                                                                        ⎛            2                    ⎞          ⎛            2                    ⎞          ⎛            2                   \n",
       "4⋅\\epsilon ⋅b     2⋅\\epsilon⋅b              b                    c                 ⎜  2⋅\\epsilon ⋅b      \\epsilon⋅b  ⎟          ⎜  2⋅\\epsilon ⋅b      \\epsilon⋅b  ⎟          ⎜  2⋅\\epsilon ⋅b      \\epsilon⋅b \n",
       "────────────── - ────────────── - b + ────────────── + c - ────────────── + p_{CD}⋅⎜- ────────────── + ──────────────⎟ + p_{DC}⋅⎜- ────────────── + ──────────────⎟ + p_{DD}⋅⎜- ────────────── + ─────────────\n",
       "2⋅\\epsilon + 1   2⋅\\epsilon + 1       2⋅\\epsilon + 1       2⋅\\epsilon + 1          ⎝  2⋅\\epsilon + 1   2⋅\\epsilon + 1⎠          ⎝  2⋅\\epsilon + 1   2⋅\\epsilon + 1⎠          ⎝  2⋅\\epsilon + 1   2⋅\\epsilon + \n",
       "\n",
       " ⎞\n",
       " ⎟\n",
       "─⎟\n",
       "1⎠"
      ]
     },
     "execution_count": 194,
     "metadata": {},
     "output_type": "execute_result"
    }
   ],
   "source": [
    "hrt[0].collect(pcd).collect(pdc).collect(pdd)"
   ]
  },
  {
   "cell_type": "code",
   "execution_count": 196,
   "metadata": {},
   "outputs": [],
   "source": [
    "coeff = (-2 * epsilon ** 2 * b + epsilon * b) / (2 * epsilon + 1)\n",
    "\n",
    "written = (pcd + pdc + pdd) * coeff + 2 * epsilon * (2 * epsilon * b - 2 * b + c) / (2 * epsilon + 1)"
   ]
  },
  {
   "cell_type": "code",
   "execution_count": 197,
   "metadata": {
    "scrolled": true
   },
   "outputs": [
    {
     "data": {
      "image/png": "[encoded data removed]",
      "text/latex": [
       "$\\displaystyle 0$"
      ],
      "text/plain": [
       "0"
      ]
     },
     "execution_count": 197,
     "metadata": {},
     "output_type": "execute_result"
    }
   ],
   "source": [
    "(written - hrt[0].collect(pcd).collect(pdc).collect(pdd)).factor()"
   ]
  },
  {
   "cell_type": "markdown",
   "metadata": {},
   "source": [
    "### Condition 2"
   ]
  },
  {
   "cell_type": "code",
   "execution_count": 215,
   "metadata": {},
   "outputs": [
    {
     "data": {
      "image/png": "[encoded data removed]",
      "text/latex": [
       "$\\displaystyle - \\frac{2 \\epsilon c}{2 \\epsilon - 3} - b - \\frac{b}{2 \\epsilon - 3} + c + \\frac{2 c}{2 \\epsilon - 3} + p_{CD} \\left(- \\frac{2 \\epsilon^{2} b}{2 \\epsilon - 3} + \\frac{3 \\epsilon b}{2 \\epsilon - 3} - \\frac{b}{2 \\epsilon - 3}\\right) + p_{DC} \\left(- \\frac{2 \\epsilon^{2} b}{2 \\epsilon - 3} + \\frac{3 \\epsilon b}{2 \\epsilon - 3} - \\frac{b}{2 \\epsilon - 3}\\right) + p_{DD} \\left(\\frac{2 \\epsilon^{2} b}{2 \\epsilon - 3} - \\frac{\\epsilon b}{2 \\epsilon - 3}\\right)$"
      ],
      "text/plain": [
       "                                                                    ⎛            2                                     ⎞          ⎛            2                                     ⎞          ⎛          2  \n",
       "   2⋅\\epsilon⋅c              b                   2⋅c                ⎜  2⋅\\epsilon ⋅b     3⋅\\epsilon⋅b          b       ⎟          ⎜  2⋅\\epsilon ⋅b     3⋅\\epsilon⋅b          b       ⎟          ⎜2⋅\\epsilon ⋅b\n",
       "- ────────────── - b - ────────────── + c + ────────────── + p_{CD}⋅⎜- ────────────── + ────────────── - ──────────────⎟ + p_{DC}⋅⎜- ────────────── + ────────────── - ──────────────⎟ + p_{DD}⋅⎜─────────────\n",
       "  2⋅\\epsilon - 3       2⋅\\epsilon - 3       2⋅\\epsilon - 3          ⎝  2⋅\\epsilon - 3   2⋅\\epsilon - 3   2⋅\\epsilon - 3⎠          ⎝  2⋅\\epsilon - 3   2⋅\\epsilon - 3   2⋅\\epsilon - 3⎠          ⎝2⋅\\epsilon - \n",
       "\n",
       "                  ⎞\n",
       "      \\epsilon⋅b  ⎟\n",
       "─ - ──────────────⎟\n",
       "3   2⋅\\epsilon - 3⎠"
      ]
     },
     "execution_count": 215,
     "metadata": {},
     "output_type": "execute_result"
    }
   ],
   "source": [
    "hrt[1].collect(pcd).collect(pdc).collect(pdd)"
   ]
  },
  {
   "cell_type": "code",
   "execution_count": 207,
   "metadata": {},
   "outputs": [],
   "source": [
    "coeff1 = hrt[1].collect(pcd).collect(pdc).coeff(pcd).factor()\n",
    "coeff2 = hrt[1].collect(pcd).collect(pdc).coeff(pdd).factor()"
   ]
  },
  {
   "cell_type": "code",
   "execution_count": 214,
   "metadata": {},
   "outputs": [],
   "source": [
    "remainers = (hrt[1].collect(pcd).collect(pdc).collect(pdd) - (pcd + pdc) * coeff1 - pdd * coeff2).factor()"
   ]
  },
  {
   "cell_type": "code",
   "execution_count": 216,
   "metadata": {
    "scrolled": true
   },
   "outputs": [
    {
     "data": {
      "image/png": "[encoded data removed]",
      "text/latex": [
       "$\\displaystyle \\frac{\\epsilon b p_{DD} \\left(2 \\epsilon - 1\\right)}{2 \\epsilon - 3} - \\frac{b \\left(\\epsilon - 1\\right) \\left(2 \\epsilon - 1\\right) \\left(p_{CD} + p_{DC}\\right)}{2 \\epsilon - 3} - \\frac{2 \\epsilon b - 2 b + c}{2 \\epsilon - 3}$"
      ],
      "text/plain": [
       "\\epsilon⋅b⋅p_{DD}⋅(2⋅\\epsilon - 1)   b⋅(\\epsilon - 1)⋅(2⋅\\epsilon - 1)⋅(p_{CD} + p_{DC})   2⋅\\epsilon⋅b - 2⋅b + c\n",
       "────────────────────────────────── - ─────────────────────────────────────────────────── - ──────────────────────\n",
       "          2⋅\\epsilon - 3                                2⋅\\epsilon - 3                         2⋅\\epsilon - 3    "
      ]
     },
     "execution_count": 216,
     "metadata": {},
     "output_type": "execute_result"
    }
   ],
   "source": [
    "written = (pcd + pdc) * coeff1 + pdd * coeff2 + remainers\n",
    "written"
   ]
  },
  {
   "cell_type": "code",
   "execution_count": 218,
   "metadata": {},
   "outputs": [
    {
     "data": {
      "image/png": "[encoded data removed]",
      "text/latex": [
       "$\\displaystyle 0$"
      ],
      "text/plain": [
       "0"
      ]
     },
     "execution_count": 218,
     "metadata": {},
     "output_type": "execute_result"
    }
   ],
   "source": [
    "(hrt[1].collect(pcd).collect(pdc).collect(pdd) - written).factor()"
   ]
  },
  {
   "cell_type": "markdown",
   "metadata": {},
   "source": [
    "### Condition 3"
   ]
  },
  {
   "cell_type": "code",
   "execution_count": 219,
   "metadata": {},
   "outputs": [
    {
     "data": {
      "image/png": "[encoded data removed]",
      "text/latex": [
       "$\\displaystyle \\epsilon^{2} b - \\frac{\\epsilon b}{2} - \\frac{b}{2} + \\frac{c}{2} + p_{CD} \\left(- \\epsilon^{2} b + \\frac{\\epsilon b}{2}\\right) + p_{DC} \\left(- \\epsilon^{2} b + \\frac{\\epsilon b}{2}\\right) + p_{DD} \\left(\\epsilon^{2} b - \\frac{3 \\epsilon b}{2} + \\frac{b}{2}\\right)$"
      ],
      "text/plain": [
       "        2     \\epsilon⋅b   b   c          ⎛          2     \\epsilon⋅b⎞          ⎛          2     \\epsilon⋅b⎞          ⎛        2     3⋅\\epsilon⋅b   b⎞\n",
       "\\epsilon ⋅b - ────────── - ─ + ─ + p_{CD}⋅⎜- \\epsilon ⋅b + ──────────⎟ + p_{DC}⋅⎜- \\epsilon ⋅b + ──────────⎟ + p_{DD}⋅⎜\\epsilon ⋅b - ──────────── + ─⎟\n",
       "                  2        2   2          ⎝                    2     ⎠          ⎝                    2     ⎠          ⎝                   2         2⎠"
      ]
     },
     "execution_count": 219,
     "metadata": {},
     "output_type": "execute_result"
    }
   ],
   "source": [
    "hrt[2].collect(pcd).collect(pdc).collect(pdd)"
   ]
  },
  {
   "cell_type": "code",
   "execution_count": 229,
   "metadata": {},
   "outputs": [
    {
     "data": {
      "image/png": "[encoded data removed]",
      "text/latex": [
       "$\\displaystyle \\left( - \\frac{\\epsilon b \\left(2 \\epsilon - 1\\right)}{2}, \\  \\frac{b \\left(\\epsilon - 1\\right) \\left(2 \\epsilon - 1\\right)}{2}\\right)$"
      ],
      "text/plain": [
       "⎛-\\epsilon⋅b⋅(2⋅\\epsilon - 1)   b⋅(\\epsilon - 1)⋅(2⋅\\epsilon - 1)⎞\n",
       "⎜─────────────────────────────, ─────────────────────────────────⎟\n",
       "⎝              2                                2                ⎠"
      ]
     },
     "execution_count": 229,
     "metadata": {},
     "output_type": "execute_result"
    }
   ],
   "source": [
    "coeff1 = hrt[2].collect(pcd).collect(pdc).coeff(pcd).factor()\n",
    "coeff2 = hrt[2].collect(pcd).collect(pdc).coeff(pdd).factor()\n",
    "\n",
    "coeff1, coeff2"
   ]
  },
  {
   "cell_type": "code",
   "execution_count": 228,
   "metadata": {},
   "outputs": [],
   "source": [
    "remainer = (hrt[2].collect(pcd).collect(pdc).collect(pdd) - (pcd + pdc) * coeff1 - pdd * coeff2).factor().collect(b)"
   ]
  },
  {
   "cell_type": "code",
   "execution_count": 230,
   "metadata": {},
   "outputs": [
    {
     "data": {
      "image/png": "[encoded data removed]",
      "text/latex": [
       "$\\displaystyle - \\frac{\\epsilon b \\left(2 \\epsilon - 1\\right) \\left(p_{CD} + p_{DC}\\right)}{2} + \\frac{b p_{DD} \\left(\\epsilon - 1\\right) \\left(2 \\epsilon - 1\\right)}{2} + \\frac{b \\left(2 \\epsilon^{2} - \\epsilon - 1\\right)}{2} + \\frac{c}{2}$"
      ],
      "text/plain": [
       "                                                                                               ⎛          2               ⎞    \n",
       "  \\epsilon⋅b⋅(2⋅\\epsilon - 1)⋅(p_{CD} + p_{DC})   b⋅p_{DD}⋅(\\epsilon - 1)⋅(2⋅\\epsilon - 1)   b⋅⎝2⋅\\epsilon  - \\epsilon - 1⎠   c\n",
       "- ───────────────────────────────────────────── + ──────────────────────────────────────── + ────────────────────────────── + ─\n",
       "                        2                                            2                                     2                  2"
      ]
     },
     "execution_count": 230,
     "metadata": {},
     "output_type": "execute_result"
    }
   ],
   "source": [
    "written = (pcd + pdc) * coeff1 + pdd * coeff2 + remainer\n",
    "written"
   ]
  },
  {
   "cell_type": "code",
   "execution_count": 231,
   "metadata": {},
   "outputs": [
    {
     "data": {
      "image/png": "[encoded data removed]",
      "text/latex": [
       "$\\displaystyle 0$"
      ],
      "text/plain": [
       "0"
      ]
     },
     "execution_count": 231,
     "metadata": {},
     "output_type": "execute_result"
    }
   ],
   "source": [
    "(hrt[2].collect(pcd).collect(pdc).collect(pdd) - written).factor()"
   ]
  },
  {
   "cell_type": "markdown",
   "metadata": {},
   "source": [
    "### Condition 4"
   ]
  },
  {
   "cell_type": "code",
   "execution_count": 232,
   "metadata": {},
   "outputs": [
    {
     "data": {
      "image/png": "[encoded data removed]",
      "text/latex": [
       "$\\displaystyle \\frac{4 \\epsilon^{2} b}{2 \\epsilon - 3} - \\frac{4 \\epsilon b}{2 \\epsilon - 3} - b + c + \\frac{c}{2 \\epsilon - 3} + p_{CD} \\left(- \\frac{2 \\epsilon^{2} b}{2 \\epsilon - 3} + \\frac{3 \\epsilon b}{2 \\epsilon - 3} - \\frac{b}{2 \\epsilon - 3}\\right) + p_{DC} \\left(- \\frac{2 \\epsilon^{2} b}{2 \\epsilon - 3} + \\frac{3 \\epsilon b}{2 \\epsilon - 3} - \\frac{b}{2 \\epsilon - 3}\\right) + p_{DD} \\left(- \\frac{2 \\epsilon^{2} b}{2 \\epsilon - 3} + \\frac{3 \\epsilon b}{2 \\epsilon - 3} - \\frac{b}{2 \\epsilon - 3}\\right)$"
      ],
      "text/plain": [
       "          2                                                       ⎛            2                                     ⎞          ⎛            2                                     ⎞          ⎛            2  \n",
       "4⋅\\epsilon ⋅b     4⋅\\epsilon⋅b                  c                 ⎜  2⋅\\epsilon ⋅b     3⋅\\epsilon⋅b          b       ⎟          ⎜  2⋅\\epsilon ⋅b     3⋅\\epsilon⋅b          b       ⎟          ⎜  2⋅\\epsilon ⋅b\n",
       "────────────── - ────────────── - b + c + ────────────── + p_{CD}⋅⎜- ────────────── + ────────────── - ──────────────⎟ + p_{DC}⋅⎜- ────────────── + ────────────── - ──────────────⎟ + p_{DD}⋅⎜- ─────────────\n",
       "2⋅\\epsilon - 3   2⋅\\epsilon - 3           2⋅\\epsilon - 3          ⎝  2⋅\\epsilon - 3   2⋅\\epsilon - 3   2⋅\\epsilon - 3⎠          ⎝  2⋅\\epsilon - 3   2⋅\\epsilon - 3   2⋅\\epsilon - 3⎠          ⎝  2⋅\\epsilon - \n",
       "\n",
       "                                   ⎞\n",
       "     3⋅\\epsilon⋅b          b       ⎟\n",
       "─ + ────────────── - ──────────────⎟\n",
       "3   2⋅\\epsilon - 3   2⋅\\epsilon - 3⎠"
      ]
     },
     "execution_count": 232,
     "metadata": {},
     "output_type": "execute_result"
    }
   ],
   "source": [
    "hrt[3].collect(pcd).collect(pdc).collect(pdd)"
   ]
  },
  {
   "cell_type": "code",
   "execution_count": 236,
   "metadata": {},
   "outputs": [],
   "source": [
    "coeff = hrt[3].collect(pcd).collect(pdc).coeff(pcd).factor()"
   ]
  },
  {
   "cell_type": "code",
   "execution_count": 242,
   "metadata": {},
   "outputs": [],
   "source": [
    "remainer = (hrt[3].collect(pcd).collect(pdc).collect(pdd) - (pcd + pdc + pdd) * coeff).factor()"
   ]
  },
  {
   "cell_type": "code",
   "execution_count": 243,
   "metadata": {},
   "outputs": [
    {
     "data": {
      "image/png": "[encoded data removed]",
      "text/latex": [
       "$\\displaystyle - \\frac{b \\left(\\epsilon - 1\\right) \\left(2 \\epsilon - 1\\right) \\left(p_{CD} + p_{DC} + p_{DD}\\right)}{2 \\epsilon - 3} + \\frac{4 \\epsilon^{2} b - 6 \\epsilon b + 2 \\epsilon c + 3 b - 2 c}{2 \\epsilon - 3}$"
      ],
      "text/plain": [
       "                                                                           2                                            \n",
       "  b⋅(\\epsilon - 1)⋅(2⋅\\epsilon - 1)⋅(p_{CD} + p_{DC} + p_{DD})   4⋅\\epsilon ⋅b - 6⋅\\epsilon⋅b + 2⋅\\epsilon⋅c + 3⋅b - 2⋅c\n",
       "- ──────────────────────────────────────────────────────────── + ───────────────────────────────────────────────────────\n",
       "                         2⋅\\epsilon - 3                                               2⋅\\epsilon - 3                    "
      ]
     },
     "execution_count": 243,
     "metadata": {},
     "output_type": "execute_result"
    }
   ],
   "source": [
    "written = (pcd + pdc + pdd) * coeff + remainer\n",
    "written"
   ]
  },
  {
   "cell_type": "code",
   "execution_count": 244,
   "metadata": {},
   "outputs": [
    {
     "data": {
      "image/png": "[encoded data removed]",
      "text/latex": [
       "$\\displaystyle 0$"
      ],
      "text/plain": [
       "0"
      ]
     },
     "execution_count": 244,
     "metadata": {},
     "output_type": "execute_result"
    }
   ],
   "source": [
    "(hrt[3].collect(pcd).collect(pdc).collect(pdd) - written).factor()"
   ]
  },
  {
   "cell_type": "markdown",
   "metadata": {},
   "source": [
    "### Condition 5"
   ]
  },
  {
   "cell_type": "code",
   "execution_count": 177,
   "metadata": {},
   "outputs": [
    {
     "data": {
      "image/png": "[encoded data removed]",
      "text/latex": [
       "$\\displaystyle - \\epsilon^{2} b + \\frac{3 \\epsilon b}{2} - b + \\frac{c}{2} + p_{CD} \\left(\\epsilon^{2} b - \\frac{3 \\epsilon b}{2} + \\frac{b}{2}\\right) + p_{DC} \\left(\\epsilon^{2} b - \\frac{3 \\epsilon b}{2} + \\frac{b}{2}\\right) + p_{DD} \\left(- \\epsilon^{2} b + \\frac{\\epsilon b}{2}\\right)$"
      ],
      "text/plain": [
       "          2     3⋅\\epsilon⋅b       c          ⎛        2     3⋅\\epsilon⋅b   b⎞          ⎛        2     3⋅\\epsilon⋅b   b⎞          ⎛          2     \\epsilon⋅b⎞\n",
       "- \\epsilon ⋅b + ──────────── - b + ─ + p_{CD}⋅⎜\\epsilon ⋅b - ──────────── + ─⎟ + p_{DC}⋅⎜\\epsilon ⋅b - ──────────── + ─⎟ + p_{DD}⋅⎜- \\epsilon ⋅b + ──────────⎟\n",
       "                     2             2          ⎝                   2         2⎠          ⎝                   2         2⎠          ⎝                    2     ⎠"
      ]
     },
     "execution_count": 177,
     "metadata": {},
     "output_type": "execute_result"
    }
   ],
   "source": [
    "hrt[4].collect(pcd).collect(pdc).collect(pdd)"
   ]
  },
  {
   "cell_type": "code",
   "execution_count": 250,
   "metadata": {},
   "outputs": [],
   "source": [
    "coeff = hrt[4].collect(pcd).collect(pdc).coeff(pcd).factor()"
   ]
  },
  {
   "cell_type": "code",
   "execution_count": 252,
   "metadata": {},
   "outputs": [],
   "source": [
    "remainer = (hrt[4].collect(pcd).collect(pdc).collect(pdd) - (pcd + pdc + pdd) * coeff).factor()"
   ]
  },
  {
   "cell_type": "code",
   "execution_count": 254,
   "metadata": {},
   "outputs": [
    {
     "data": {
      "image/png": "[encoded data removed]",
      "text/latex": [
       "$\\displaystyle - \\frac{b \\left(2 \\epsilon - 1\\right) \\left(p_{CD} + p_{DC} + p_{DD}\\right)}{4} + \\frac{2 \\epsilon b - 3 b + 2 c}{4}$"
      ],
      "text/plain": [
       "  b⋅(2⋅\\epsilon - 1)⋅(p_{CD} + p_{DC} + p_{DD})   2⋅\\epsilon⋅b - 3⋅b + 2⋅c\n",
       "- ───────────────────────────────────────────── + ────────────────────────\n",
       "                        4                                    4            "
      ]
     },
     "execution_count": 254,
     "metadata": {},
     "output_type": "execute_result"
    }
   ],
   "source": [
    "written = (pcd + pdc + pdd) * coeff + remainer\n",
    "written"
   ]
  },
  {
   "cell_type": "code",
   "execution_count": 255,
   "metadata": {},
   "outputs": [
    {
     "data": {
      "image/png": "[encoded data removed]",
      "text/latex": [
       "$\\displaystyle 0$"
      ],
      "text/plain": [
       "0"
      ]
     },
     "execution_count": 255,
     "metadata": {},
     "output_type": "execute_result"
    }
   ],
   "source": [
    "(hrt[4].collect(pcd).collect(pdc).collect(pdd) - written).factor()"
   ]
  },
  {
   "cell_type": "markdown",
   "metadata": {},
   "source": [
    "### Condition 6"
   ]
  },
  {
   "cell_type": "code",
   "execution_count": 256,
   "metadata": {},
   "outputs": [
    {
     "data": {
      "image/png": "[encoded data removed]",
      "text/latex": [
       "$\\displaystyle - \\epsilon^{2} b + \\frac{3 \\epsilon b}{2} - b + \\frac{c}{2} + p_{CD} \\left(\\epsilon^{2} b - \\frac{3 \\epsilon b}{2} + \\frac{b}{2}\\right) + p_{DC} \\left(\\epsilon^{2} b - \\frac{3 \\epsilon b}{2} + \\frac{b}{2}\\right) + p_{DD} \\left(- \\epsilon^{2} b + \\frac{\\epsilon b}{2}\\right)$"
      ],
      "text/plain": [
       "          2     3⋅\\epsilon⋅b       c          ⎛        2     3⋅\\epsilon⋅b   b⎞          ⎛        2     3⋅\\epsilon⋅b   b⎞          ⎛          2     \\epsilon⋅b⎞\n",
       "- \\epsilon ⋅b + ──────────── - b + ─ + p_{CD}⋅⎜\\epsilon ⋅b - ──────────── + ─⎟ + p_{DC}⋅⎜\\epsilon ⋅b - ──────────── + ─⎟ + p_{DD}⋅⎜- \\epsilon ⋅b + ──────────⎟\n",
       "                     2             2          ⎝                   2         2⎠          ⎝                   2         2⎠          ⎝                    2     ⎠"
      ]
     },
     "execution_count": 256,
     "metadata": {},
     "output_type": "execute_result"
    }
   ],
   "source": [
    "hrt[5].collect(pcd).collect(pdc).collect(pdd)"
   ]
  },
  {
   "cell_type": "code",
   "execution_count": 258,
   "metadata": {},
   "outputs": [
    {
     "data": {
      "image/png": "[encoded data removed]",
      "text/latex": [
       "$\\displaystyle \\left( \\frac{b \\left(\\epsilon - 1\\right) \\left(2 \\epsilon - 1\\right)}{2}, \\  - \\frac{\\epsilon b \\left(2 \\epsilon - 1\\right)}{2}\\right)$"
      ],
      "text/plain": [
       "⎛b⋅(\\epsilon - 1)⋅(2⋅\\epsilon - 1)  -\\epsilon⋅b⋅(2⋅\\epsilon - 1) ⎞\n",
       "⎜─────────────────────────────────, ─────────────────────────────⎟\n",
       "⎝                2                                2              ⎠"
      ]
     },
     "execution_count": 258,
     "metadata": {},
     "output_type": "execute_result"
    }
   ],
   "source": [
    "coeff1 = hrt[5].collect(pcd).collect(pdc).coeff(pcd).factor()\n",
    "coeff2 = hrt[5].collect(pcd).collect(pdc).coeff(pdd).factor()\n",
    "\n",
    "coeff1, coeff2"
   ]
  },
  {
   "cell_type": "code",
   "execution_count": 261,
   "metadata": {},
   "outputs": [],
   "source": [
    "remainer = (hrt[5].collect(pcd).collect(pdc).collect(pdd) - (pcd + pdc) * coeff1 - pdd * coeff2).factor()"
   ]
  },
  {
   "cell_type": "code",
   "execution_count": 263,
   "metadata": {},
   "outputs": [
    {
     "data": {
      "image/png": "[encoded data removed]",
      "text/latex": [
       "$\\displaystyle - \\frac{\\epsilon b p_{DD} \\left(2 \\epsilon - 1\\right)}{2} + \\frac{b \\left(\\epsilon - 1\\right) \\left(2 \\epsilon - 1\\right) \\left(p_{CD} + p_{DC}\\right)}{2} - \\frac{2 \\epsilon^{2} b - 3 \\epsilon b + 2 b - c}{2}$"
      ],
      "text/plain": [
       "                                                                                                       2                           \n",
       "  \\epsilon⋅b⋅p_{DD}⋅(2⋅\\epsilon - 1)   b⋅(\\epsilon - 1)⋅(2⋅\\epsilon - 1)⋅(p_{CD} + p_{DC})   2⋅\\epsilon ⋅b - 3⋅\\epsilon⋅b + 2⋅b - c\n",
       "- ────────────────────────────────── + ─────────────────────────────────────────────────── - ──────────────────────────────────────\n",
       "                  2                                             2                                              2                   "
      ]
     },
     "execution_count": 263,
     "metadata": {},
     "output_type": "execute_result"
    }
   ],
   "source": [
    "written = (pcd + pdc) * coeff1 + pdd * coeff2 + remainer\n",
    "written"
   ]
  },
  {
   "cell_type": "code",
   "execution_count": 264,
   "metadata": {},
   "outputs": [
    {
     "data": {
      "image/png": "[encoded data removed]",
      "text/latex": [
       "$\\displaystyle 0$"
      ],
      "text/plain": [
       "0"
      ]
     },
     "execution_count": 264,
     "metadata": {},
     "output_type": "execute_result"
    }
   ],
   "source": [
    "(hrt[5].collect(pcd).collect(pdc).collect(pdd) - written).factor()"
   ]
  },
  {
   "cell_type": "markdown",
   "metadata": {},
   "source": [
    "### Condition 7"
   ]
  },
  {
   "cell_type": "code",
   "execution_count": 269,
   "metadata": {},
   "outputs": [
    {
     "data": {
      "image/png": "[encoded data removed]",
      "text/latex": [
       "$\\displaystyle - 2 \\epsilon^{3} b + 5 \\epsilon^{2} b - 3 \\epsilon b + \\epsilon c + p_{CD} \\left(2 \\epsilon^{3} b - 3 \\epsilon^{2} b + \\epsilon b\\right) + p_{DC} \\left(2 \\epsilon^{3} b - 3 \\epsilon^{2} b + \\epsilon b\\right) + p_{DD} \\left(- 2 \\epsilon^{3} b + \\epsilon^{2} b\\right)$"
      ],
      "text/plain": [
       "            3               2                                        ⎛          3               2               ⎞          ⎛          3               2               ⎞          ⎛            3             2 \n",
       "- 2⋅\\epsilon ⋅b + 5⋅\\epsilon ⋅b - 3⋅\\epsilon⋅b + \\epsilon⋅c + p_{CD}⋅⎝2⋅\\epsilon ⋅b - 3⋅\\epsilon ⋅b + \\epsilon⋅b⎠ + p_{DC}⋅⎝2⋅\\epsilon ⋅b - 3⋅\\epsilon ⋅b + \\epsilon⋅b⎠ + p_{DD}⋅⎝- 2⋅\\epsilon ⋅b + \\epsilon ⋅\n",
       "\n",
       " ⎞\n",
       "b⎠"
      ]
     },
     "execution_count": 269,
     "metadata": {},
     "output_type": "execute_result"
    }
   ],
   "source": [
    "hrt[6].collect(pcd).collect(pdc).collect(pdd)"
   ]
  },
  {
   "cell_type": "code",
   "execution_count": 270,
   "metadata": {},
   "outputs": [
    {
     "data": {
      "image/png": "[encoded data removed]",
      "text/latex": [
       "$\\displaystyle \\left( \\epsilon b \\left(\\epsilon - 1\\right) \\left(2 \\epsilon - 1\\right), \\  - \\epsilon^{2} b \\left(2 \\epsilon - 1\\right)\\right)$"
      ],
      "text/plain": [
       "⎛                                                     2                   ⎞\n",
       "⎝\\epsilon⋅b⋅(\\epsilon - 1)⋅(2⋅\\epsilon - 1), -\\epsilon ⋅b⋅(2⋅\\epsilon - 1)⎠"
      ]
     },
     "execution_count": 270,
     "metadata": {},
     "output_type": "execute_result"
    }
   ],
   "source": [
    "coeff1 = hrt[6].collect(pcd).collect(pdc).coeff(pcd).factor()\n",
    "coeff2 = hrt[6].collect(pcd).collect(pdc).coeff(pdd).factor()\n",
    "\n",
    "coeff1, coeff2"
   ]
  },
  {
   "cell_type": "code",
   "execution_count": 271,
   "metadata": {},
   "outputs": [],
   "source": [
    "remainer = (hrt[6].collect(pcd).collect(pdc).collect(pdd) - (pcd + pdc) * coeff1 - pdd * coeff2).factor()"
   ]
  },
  {
   "cell_type": "code",
   "execution_count": 272,
   "metadata": {},
   "outputs": [
    {
     "data": {
      "image/png": "[encoded data removed]",
      "text/latex": [
       "$\\displaystyle - \\epsilon^{2} b p_{DD} \\left(2 \\epsilon - 1\\right) + \\epsilon b \\left(\\epsilon - 1\\right) \\left(2 \\epsilon - 1\\right) \\left(p_{CD} + p_{DC}\\right) - \\epsilon \\left(2 \\epsilon^{2} b - 5 \\epsilon b + 3 b - c\\right)$"
      ],
      "text/plain": [
       "          2                                                                                                     ⎛          2                           ⎞\n",
       "- \\epsilon ⋅b⋅p_{DD}⋅(2⋅\\epsilon - 1) + \\epsilon⋅b⋅(\\epsilon - 1)⋅(2⋅\\epsilon - 1)⋅(p_{CD} + p_{DC}) - \\epsilon⋅⎝2⋅\\epsilon ⋅b - 5⋅\\epsilon⋅b + 3⋅b - c⎠"
      ]
     },
     "execution_count": 272,
     "metadata": {},
     "output_type": "execute_result"
    }
   ],
   "source": [
    "written = (pcd + pdc) * coeff1 + pdd * coeff2 + remainer\n",
    "written"
   ]
  },
  {
   "cell_type": "code",
   "execution_count": 273,
   "metadata": {},
   "outputs": [
    {
     "data": {
      "image/png": "[encoded data removed]",
      "text/latex": [
       "$\\displaystyle 0$"
      ],
      "text/plain": [
       "0"
      ]
     },
     "execution_count": 273,
     "metadata": {},
     "output_type": "execute_result"
    }
   ],
   "source": [
    "(hrt[6].collect(pcd).collect(pdc).collect(pdd) - written).factor()"
   ]
  },
  {
   "cell_type": "markdown",
   "metadata": {},
   "source": [
    "### Condition 8"
   ]
  },
  {
   "cell_type": "code",
   "execution_count": 274,
   "metadata": {},
   "outputs": [
    {
     "data": {
      "image/png": "[encoded data removed]",
      "text/latex": [
       "$\\displaystyle - 2 \\epsilon^{3} b + \\epsilon^{2} b + \\epsilon b - \\epsilon c - b + c + p_{CD} \\left(2 \\epsilon^{3} b - 3 \\epsilon^{2} b + \\epsilon b\\right) + p_{DC} \\left(2 \\epsilon^{3} b - 3 \\epsilon^{2} b + \\epsilon b\\right) + p_{DD} \\left(- 2 \\epsilon^{3} b + 5 \\epsilon^{2} b - 4 \\epsilon b + b\\right)$"
      ],
      "text/plain": [
       "            3             2                                              ⎛          3               2               ⎞          ⎛          3               2               ⎞          ⎛            3           \n",
       "- 2⋅\\epsilon ⋅b + \\epsilon ⋅b + \\epsilon⋅b - \\epsilon⋅c - b + c + p_{CD}⋅⎝2⋅\\epsilon ⋅b - 3⋅\\epsilon ⋅b + \\epsilon⋅b⎠ + p_{DC}⋅⎝2⋅\\epsilon ⋅b - 3⋅\\epsilon ⋅b + \\epsilon⋅b⎠ + p_{DD}⋅⎝- 2⋅\\epsilon ⋅b + 5⋅\\eps\n",
       "\n",
       "    2                     ⎞\n",
       "ilon ⋅b - 4⋅\\epsilon⋅b + b⎠"
      ]
     },
     "execution_count": 274,
     "metadata": {},
     "output_type": "execute_result"
    }
   ],
   "source": [
    "hrt[7].collect(pcd).collect(pdc).collect(pdd)"
   ]
  },
  {
   "cell_type": "code",
   "execution_count": 275,
   "metadata": {},
   "outputs": [
    {
     "data": {
      "image/png": "[encoded data removed]",
      "text/latex": [
       "$\\displaystyle \\left( \\epsilon b \\left(\\epsilon - 1\\right) \\left(2 \\epsilon - 1\\right), \\  - b \\left(\\epsilon - 1\\right)^{2} \\cdot \\left(2 \\epsilon - 1\\right)\\right)$"
      ],
      "text/plain": [
       "⎛                                                             2                 ⎞\n",
       "⎝\\epsilon⋅b⋅(\\epsilon - 1)⋅(2⋅\\epsilon - 1), -b⋅(\\epsilon - 1) ⋅(2⋅\\epsilon - 1)⎠"
      ]
     },
     "execution_count": 275,
     "metadata": {},
     "output_type": "execute_result"
    }
   ],
   "source": [
    "coeff1 = hrt[7].collect(pcd).collect(pdc).coeff(pcd).factor()\n",
    "coeff2 = hrt[7].collect(pcd).collect(pdc).coeff(pdd).factor()\n",
    "\n",
    "coeff1, coeff2"
   ]
  },
  {
   "cell_type": "code",
   "execution_count": 276,
   "metadata": {},
   "outputs": [],
   "source": [
    "remainer = (hrt[7].collect(pcd).collect(pdc).collect(pdd) - (pcd + pdc) * coeff1 - pdd * coeff2).factor()"
   ]
  },
  {
   "cell_type": "code",
   "execution_count": 277,
   "metadata": {},
   "outputs": [
    {
     "data": {
      "image/png": "[encoded data removed]",
      "text/latex": [
       "$\\displaystyle - 2 \\epsilon^{3} b + \\epsilon^{2} b + \\epsilon b \\left(\\epsilon - 1\\right) \\left(2 \\epsilon - 1\\right) \\left(p_{CD} + p_{DC}\\right) + \\epsilon b - \\epsilon c - b p_{DD} \\left(\\epsilon - 1\\right)^{2} \\cdot \\left(2 \\epsilon - 1\\right) - b + c$"
      ],
      "text/plain": [
       "            3             2                                                                                                                     2                         \n",
       "- 2⋅\\epsilon ⋅b + \\epsilon ⋅b + \\epsilon⋅b⋅(\\epsilon - 1)⋅(2⋅\\epsilon - 1)⋅(p_{CD} + p_{DC}) + \\epsilon⋅b - \\epsilon⋅c - b⋅p_{DD}⋅(\\epsilon - 1) ⋅(2⋅\\epsilon - 1) - b + c"
      ]
     },
     "execution_count": 277,
     "metadata": {},
     "output_type": "execute_result"
    }
   ],
   "source": [
    "written = (pcd + pdc) * coeff1 + pdd * coeff2 + remainer\n",
    "written"
   ]
  },
  {
   "cell_type": "code",
   "execution_count": 278,
   "metadata": {},
   "outputs": [
    {
     "data": {
      "image/png": "[encoded data removed]",
      "text/latex": [
       "$\\displaystyle 0$"
      ],
      "text/plain": [
       "0"
      ]
     },
     "execution_count": 278,
     "metadata": {},
     "output_type": "execute_result"
    }
   ],
   "source": [
    "(hrt[7].collect(pcd).collect(pdc).collect(pdd) - written).factor()"
   ]
  },
  {
   "cell_type": "markdown",
   "metadata": {},
   "source": [
    "### Condition 9"
   ]
  },
  {
   "cell_type": "code",
   "execution_count": 279,
   "metadata": {},
   "outputs": [
    {
     "data": {
      "image/png": "[encoded data removed]",
      "text/latex": [
       "$\\displaystyle \\frac{2 \\epsilon b}{2 \\epsilon + 1} - \\frac{2 \\epsilon c}{2 \\epsilon + 1} - b + c + p_{CD} \\left(- \\frac{2 \\epsilon^{2} b}{2 \\epsilon + 1} + \\frac{\\epsilon b}{2 \\epsilon + 1}\\right) + p_{DC} \\left(- \\frac{2 \\epsilon^{2} b}{2 \\epsilon + 1} + \\frac{\\epsilon b}{2 \\epsilon + 1}\\right) + p_{DD} \\left(\\frac{2 \\epsilon^{2} b}{2 \\epsilon + 1} - \\frac{3 \\epsilon b}{2 \\epsilon + 1} + \\frac{b}{2 \\epsilon + 1}\\right)$"
      ],
      "text/plain": [
       "                                                 ⎛            2                    ⎞          ⎛            2                    ⎞          ⎛          2                                     ⎞\n",
       " 2⋅\\epsilon⋅b     2⋅\\epsilon⋅c                   ⎜  2⋅\\epsilon ⋅b      \\epsilon⋅b  ⎟          ⎜  2⋅\\epsilon ⋅b      \\epsilon⋅b  ⎟          ⎜2⋅\\epsilon ⋅b     3⋅\\epsilon⋅b          b       ⎟\n",
       "────────────── - ────────────── - b + c + p_{CD}⋅⎜- ────────────── + ──────────────⎟ + p_{DC}⋅⎜- ────────────── + ──────────────⎟ + p_{DD}⋅⎜────────────── - ────────────── + ──────────────⎟\n",
       "2⋅\\epsilon + 1   2⋅\\epsilon + 1                  ⎝  2⋅\\epsilon + 1   2⋅\\epsilon + 1⎠          ⎝  2⋅\\epsilon + 1   2⋅\\epsilon + 1⎠          ⎝2⋅\\epsilon + 1   2⋅\\epsilon + 1   2⋅\\epsilon + 1⎠"
      ]
     },
     "execution_count": 279,
     "metadata": {},
     "output_type": "execute_result"
    }
   ],
   "source": [
    "hrt[8].collect(pcd).collect(pdc).collect(pdd)"
   ]
  },
  {
   "cell_type": "code",
   "execution_count": 280,
   "metadata": {},
   "outputs": [
    {
     "data": {
      "image/png": "[encoded data removed]",
      "text/latex": [
       "$\\displaystyle \\left( - \\frac{\\epsilon b \\left(2 \\epsilon - 1\\right)}{2 \\epsilon + 1}, \\  \\frac{b \\left(\\epsilon - 1\\right) \\left(2 \\epsilon - 1\\right)}{2 \\epsilon + 1}\\right)$"
      ],
      "text/plain": [
       "⎛-\\epsilon⋅b⋅(2⋅\\epsilon - 1)   b⋅(\\epsilon - 1)⋅(2⋅\\epsilon - 1)⎞\n",
       "⎜─────────────────────────────, ─────────────────────────────────⎟\n",
       "⎝        2⋅\\epsilon + 1                   2⋅\\epsilon + 1         ⎠"
      ]
     },
     "execution_count": 280,
     "metadata": {},
     "output_type": "execute_result"
    }
   ],
   "source": [
    "coeff1 = hrt[8].collect(pcd).collect(pdc).coeff(pcd).factor()\n",
    "coeff2 = hrt[8].collect(pcd).collect(pdc).coeff(pdd).factor()\n",
    "\n",
    "coeff1, coeff2"
   ]
  },
  {
   "cell_type": "code",
   "execution_count": 281,
   "metadata": {},
   "outputs": [],
   "source": [
    "remainer = (hrt[8].collect(pcd).collect(pdc).collect(pdd) - (pcd + pdc) * coeff1 - pdd * coeff2).factor()"
   ]
  },
  {
   "cell_type": "code",
   "execution_count": 282,
   "metadata": {},
   "outputs": [
    {
     "data": {
      "image/png": "[encoded data removed]",
      "text/latex": [
       "$\\displaystyle - \\frac{\\epsilon b \\left(2 \\epsilon - 1\\right) \\left(p_{CD} + p_{DC}\\right)}{2 \\epsilon + 1} + \\frac{b p_{DD} \\left(\\epsilon - 1\\right) \\left(2 \\epsilon - 1\\right)}{2 \\epsilon + 1} - \\frac{b - c}{2 \\epsilon + 1}$"
      ],
      "text/plain": [
       "  \\epsilon⋅b⋅(2⋅\\epsilon - 1)⋅(p_{CD} + p_{DC})   b⋅p_{DD}⋅(\\epsilon - 1)⋅(2⋅\\epsilon - 1)       b - c     \n",
       "- ───────────────────────────────────────────── + ──────────────────────────────────────── - ──────────────\n",
       "                  2⋅\\epsilon + 1                               2⋅\\epsilon + 1                2⋅\\epsilon + 1"
      ]
     },
     "execution_count": 282,
     "metadata": {},
     "output_type": "execute_result"
    }
   ],
   "source": [
    "written = (pcd + pdc) * coeff1 + pdd * coeff2 + remainer\n",
    "written"
   ]
  },
  {
   "cell_type": "code",
   "execution_count": 283,
   "metadata": {},
   "outputs": [
    {
     "data": {
      "image/png": "[encoded data removed]",
      "text/latex": [
       "$\\displaystyle 0$"
      ],
      "text/plain": [
       "0"
      ]
     },
     "execution_count": 283,
     "metadata": {},
     "output_type": "execute_result"
    }
   ],
   "source": [
    "(hrt[8].collect(pcd).collect(pdc).collect(pdd) - written).factor()"
   ]
  },
  {
   "cell_type": "markdown",
   "metadata": {},
   "source": [
    "### Grouping Conditions 1"
   ]
  },
  {
   "cell_type": "code",
   "execution_count": 284,
   "metadata": {},
   "outputs": [],
   "source": [
    "coeff = (-2 * epsilon ** 2 * b + epsilon * b) / (2 * epsilon + 1)\n",
    "\n",
    "condition1 = (pcd + pdc + pdd) * coeff + 2 * epsilon * (2 * epsilon * b - 2 * b + c) / (2 * epsilon + 1)"
   ]
  },
  {
   "cell_type": "code",
   "execution_count": 289,
   "metadata": {},
   "outputs": [],
   "source": [
    "coeff = hrt[3].collect(pcd).collect(pdc).coeff(pcd).factor()\n",
    "remainer = (hrt[3].collect(pcd).collect(pdc).collect(pdd) - (pcd + pdc + pdd) * coeff).factor()\n",
    "\n",
    "condition4 = (pcd + pdc + pdd) * coeff + remainer"
   ]
  },
  {
   "cell_type": "code",
   "execution_count": 290,
   "metadata": {},
   "outputs": [],
   "source": [
    "coeff = hrt[4].collect(pcd).collect(pdc).coeff(pcd).factor()\n",
    "remainer = (hrt[4].collect(pcd).collect(pdc).collect(pdd) - (pcd + pdc + pdd) * coeff).factor()\n",
    "condition5 = (pcd + pdc + pdd) * coeff + remainer"
   ]
  },
  {
   "cell_type": "code",
   "execution_count": 291,
   "metadata": {},
   "outputs": [
    {
     "data": {
      "image/png": "[encoded data removed]",
      "text/latex": [
       "$\\displaystyle \\frac{2 \\epsilon \\left(2 \\epsilon b - 2 b + c\\right)}{2 \\epsilon + 1} + \\frac{\\left(- 2 \\epsilon^{2} b + \\epsilon b\\right) \\left(p_{CD} + p_{DC} + p_{DD}\\right)}{2 \\epsilon + 1}$"
      ],
      "text/plain": [
       "                                      ⎛            2               ⎞                           \n",
       "2⋅\\epsilon⋅(2⋅\\epsilon⋅b - 2⋅b + c)   ⎝- 2⋅\\epsilon ⋅b + \\epsilon⋅b⎠⋅(p_{CD} + p_{DC} + p_{DD})\n",
       "─────────────────────────────────── + ─────────────────────────────────────────────────────────\n",
       "           2⋅\\epsilon + 1                                   2⋅\\epsilon + 1                     "
      ]
     },
     "execution_count": 291,
     "metadata": {},
     "output_type": "execute_result"
    }
   ],
   "source": [
    "condition1"
   ]
  },
  {
   "cell_type": "code",
   "execution_count": 292,
   "metadata": {},
   "outputs": [
    {
     "data": {
      "image/png": "[encoded data removed]",
      "text/latex": [
       "$\\displaystyle - \\frac{b \\left(\\epsilon - 1\\right) \\left(2 \\epsilon - 1\\right) \\left(p_{CD} + p_{DC} + p_{DD}\\right)}{2 \\epsilon - 3} + \\frac{4 \\epsilon^{2} b - 6 \\epsilon b + 2 \\epsilon c + 3 b - 2 c}{2 \\epsilon - 3}$"
      ],
      "text/plain": [
       "                                                                           2                                            \n",
       "  b⋅(\\epsilon - 1)⋅(2⋅\\epsilon - 1)⋅(p_{CD} + p_{DC} + p_{DD})   4⋅\\epsilon ⋅b - 6⋅\\epsilon⋅b + 2⋅\\epsilon⋅c + 3⋅b - 2⋅c\n",
       "- ──────────────────────────────────────────────────────────── + ───────────────────────────────────────────────────────\n",
       "                         2⋅\\epsilon - 3                                               2⋅\\epsilon - 3                    "
      ]
     },
     "execution_count": 292,
     "metadata": {},
     "output_type": "execute_result"
    }
   ],
   "source": [
    "condition4"
   ]
  },
  {
   "cell_type": "code",
   "execution_count": 293,
   "metadata": {},
   "outputs": [
    {
     "data": {
      "image/png": "[encoded data removed]",
      "text/latex": [
       "$\\displaystyle - \\frac{b \\left(2 \\epsilon - 1\\right) \\left(p_{CD} + p_{DC} + p_{DD}\\right)}{4} + \\frac{2 \\epsilon b - 3 b + 2 c}{4}$"
      ],
      "text/plain": [
       "  b⋅(2⋅\\epsilon - 1)⋅(p_{CD} + p_{DC} + p_{DD})   2⋅\\epsilon⋅b - 3⋅b + 2⋅c\n",
       "- ───────────────────────────────────────────── + ────────────────────────\n",
       "                        4                                    4            "
      ]
     },
     "execution_count": 293,
     "metadata": {},
     "output_type": "execute_result"
    }
   ],
   "source": [
    "condition5"
   ]
  },
  {
   "cell_type": "code",
   "execution_count": 317,
   "metadata": {},
   "outputs": [],
   "source": [
    "X = sym.solve(condition1, pcd + pdc + pdd)[0]"
   ]
  },
  {
   "cell_type": "code",
   "execution_count": 305,
   "metadata": {},
   "outputs": [
    {
     "data": {
      "image/png": "[encoded data removed]",
      "text/latex": [
       "$\\displaystyle \\frac{4 \\epsilon^{2} b - 6 \\epsilon b + 2 \\epsilon c + 3 b - 2 c}{b \\left(\\epsilon - 1\\right) \\left(2 \\epsilon - 1\\right)}$"
      ],
      "text/plain": [
       "          2                                            \n",
       "4⋅\\epsilon ⋅b - 6⋅\\epsilon⋅b + 2⋅\\epsilon⋅c + 3⋅b - 2⋅c\n",
       "───────────────────────────────────────────────────────\n",
       "           b⋅(\\epsilon - 1)⋅(2⋅\\epsilon - 1)           "
      ]
     },
     "execution_count": 305,
     "metadata": {},
     "output_type": "execute_result"
    }
   ],
   "source": [
    "sym.solve(condition4, pcd + pdc + pdd)[0].factor()"
   ]
  },
  {
   "cell_type": "code",
   "execution_count": 318,
   "metadata": {},
   "outputs": [],
   "source": [
    "Y = sym.solve(condition5, pcd + pdc + pdd)[0]"
   ]
  },
  {
   "cell_type": "code",
   "execution_count": 320,
   "metadata": {},
   "outputs": [
    {
     "data": {
      "image/png": "[encoded data removed]",
      "text/latex": [
       "$\\displaystyle 1$"
      ],
      "text/plain": [
       "1"
      ]
     },
     "execution_count": 320,
     "metadata": {},
     "output_type": "execute_result"
    }
   ],
   "source": [
    "(X - Y).factor()"
   ]
  },
  {
   "cell_type": "markdown",
   "metadata": {},
   "source": [
    "### Grouping Conditions 2"
   ]
  },
  {
   "cell_type": "code",
   "execution_count": 321,
   "metadata": {},
   "outputs": [],
   "source": [
    "coeff1 = hrt[1].collect(pcd).collect(pdc).coeff(pcd).factor()\n",
    "coeff2 = hrt[1].collect(pcd).collect(pdc).coeff(pdd).factor()\n",
    "\n",
    "remainers = (hrt[1].collect(pcd).collect(pdc).collect(pdd) - (pcd + pdc) * coeff1 - pdd * coeff2).factor()\n",
    "\n",
    "condition2 = (pcd + pdc) * coeff1 + pdd * coeff2 + remainers"
   ]
  },
  {
   "cell_type": "code",
   "execution_count": 322,
   "metadata": {},
   "outputs": [],
   "source": [
    "coeff1 = hrt[2].collect(pcd).collect(pdc).coeff(pcd).factor()\n",
    "coeff2 = hrt[2].collect(pcd).collect(pdc).coeff(pdd).factor()\n",
    "\n",
    "remainers = (hrt[2].collect(pcd).collect(pdc).collect(pdd) - (pcd + pdc) * coeff1 - pdd * coeff2).factor()\n",
    "\n",
    "condition3 = (pcd + pdc) * coeff1 + pdd * coeff2 + remainers"
   ]
  },
  {
   "cell_type": "code",
   "execution_count": 323,
   "metadata": {},
   "outputs": [],
   "source": [
    "coeff1 = hrt[5].collect(pcd).collect(pdc).coeff(pcd).factor()\n",
    "coeff2 = hrt[5].collect(pcd).collect(pdc).coeff(pdd).factor()\n",
    "remainer = (hrt[5].collect(pcd).collect(pdc).collect(pdd) - (pcd + pdc) * coeff1 - pdd * coeff2).factor()\n",
    "\n",
    "condition6 = (pcd + pdc) * coeff1 + pdd * coeff2 + remainers"
   ]
  },
  {
   "cell_type": "code",
   "execution_count": 324,
   "metadata": {},
   "outputs": [],
   "source": [
    "coeff1 = hrt[6].collect(pcd).collect(pdc).coeff(pcd).factor()\n",
    "coeff2 = hrt[6].collect(pcd).collect(pdc).coeff(pdd).factor()\n",
    "remainer = (hrt[6].collect(pcd).collect(pdc).collect(pdd) - (pcd + pdc) * coeff1 - pdd * coeff2).factor()\n",
    "\n",
    "condition7 = (pcd + pdc) * coeff1 + pdd * coeff2 + remainers"
   ]
  },
  {
   "cell_type": "code",
   "execution_count": 325,
   "metadata": {},
   "outputs": [],
   "source": [
    "coeff1 = hrt[7].collect(pcd).collect(pdc).coeff(pcd).factor()\n",
    "coeff2 = hrt[7].collect(pcd).collect(pdc).coeff(pdd).factor()\n",
    "remainer = (hrt[7].collect(pcd).collect(pdc).collect(pdd) - (pcd + pdc) * coeff1 - pdd * coeff2).factor()\n",
    "\n",
    "condition8 = (pcd + pdc) * coeff1 + pdd * coeff2 + remainers"
   ]
  },
  {
   "cell_type": "code",
   "execution_count": 326,
   "metadata": {},
   "outputs": [],
   "source": [
    "coeff1 = hrt[8].collect(pcd).collect(pdc).coeff(pcd).factor()\n",
    "coeff2 = hrt[8].collect(pcd).collect(pdc).coeff(pdd).factor()\n",
    "remainer = (hrt[8].collect(pcd).collect(pdc).collect(pdd) - (pcd + pdc) * coeff1 - pdd * coeff2).factor()\n",
    "\n",
    "condition9 = (pcd + pdc) * coeff1 + pdd * coeff2 + remainers"
   ]
  },
  {
   "cell_type": "code",
   "execution_count": 336,
   "metadata": {},
   "outputs": [],
   "source": [
    "group_conditions = [condition2, condition3, condition6, condition7, condition8, condition9]"
   ]
  },
  {
   "cell_type": "code",
   "execution_count": 353,
   "metadata": {},
   "outputs": [
    {
     "data": {
      "image/png": "[encoded data removed]",
      "text/latex": [
       "$\\displaystyle \\frac{- 2 \\epsilon b + 2 b - c + p_{DD} \\left(2 \\epsilon^{2} b - \\epsilon b\\right)}{b \\left(\\epsilon - 1\\right) \\left(2 \\epsilon - 1\\right)}$"
      ],
      "text/plain": [
       "                                 ⎛          2               ⎞\n",
       "-2⋅\\epsilon⋅b + 2⋅b - c + p_{DD}⋅⎝2⋅\\epsilon ⋅b - \\epsilon⋅b⎠\n",
       "─────────────────────────────────────────────────────────────\n",
       "              b⋅(\\epsilon - 1)⋅(2⋅\\epsilon - 1)              "
      ]
     },
     "execution_count": 353,
     "metadata": {},
     "output_type": "execute_result"
    }
   ],
   "source": [
    "sym.solve(condition2, pcd + pdc)[0].expand().factor().collect(pdd)"
   ]
  },
  {
   "cell_type": "code",
   "execution_count": 354,
   "metadata": {},
   "outputs": [
    {
     "data": {
      "image/png": "[encoded data removed]",
      "text/latex": [
       "$\\displaystyle \\frac{2 \\epsilon^{2} b - \\epsilon b - b + c + p_{DD} \\left(2 \\epsilon^{2} b - 3 \\epsilon b + b\\right)}{\\epsilon b \\left(2 \\epsilon - 1\\right)}$"
      ],
      "text/plain": [
       "          2                                 ⎛          2                     ⎞\n",
       "2⋅\\epsilon ⋅b - \\epsilon⋅b - b + c + p_{DD}⋅⎝2⋅\\epsilon ⋅b - 3⋅\\epsilon⋅b + b⎠\n",
       "──────────────────────────────────────────────────────────────────────────────\n",
       "                         \\epsilon⋅b⋅(2⋅\\epsilon - 1)                          "
      ]
     },
     "execution_count": 354,
     "metadata": {},
     "output_type": "execute_result"
    }
   ],
   "source": [
    "sym.solve(condition3, pcd + pdc)[0].expand().factor().collect(pdd)"
   ]
  },
  {
   "cell_type": "code",
   "execution_count": 355,
   "metadata": {},
   "outputs": [
    {
     "data": {
      "image/png": "[encoded data removed]",
      "text/latex": [
       "$\\displaystyle \\frac{- 2 \\epsilon^{2} b + \\epsilon b + b - c + p_{DD} \\left(2 \\epsilon^{2} b - \\epsilon b\\right)}{b \\left(\\epsilon - 1\\right) \\left(2 \\epsilon - 1\\right)}$"
      ],
      "text/plain": [
       "            2                                 ⎛          2               ⎞\n",
       "- 2⋅\\epsilon ⋅b + \\epsilon⋅b + b - c + p_{DD}⋅⎝2⋅\\epsilon ⋅b - \\epsilon⋅b⎠\n",
       "──────────────────────────────────────────────────────────────────────────\n",
       "                    b⋅(\\epsilon - 1)⋅(2⋅\\epsilon - 1)                     "
      ]
     },
     "execution_count": 355,
     "metadata": {},
     "output_type": "execute_result"
    }
   ],
   "source": [
    "sym.solve(condition6, pcd + pdc)[0].expand().factor().collect(pdd)"
   ]
  },
  {
   "cell_type": "code",
   "execution_count": 356,
   "metadata": {},
   "outputs": [
    {
     "data": {
      "image/png": "[encoded data removed]",
      "text/latex": [
       "$\\displaystyle \\frac{- 2 \\epsilon^{2} b + \\epsilon b + b - c + p_{DD} \\left(4 \\epsilon^{3} b - 2 \\epsilon^{2} b\\right)}{2 \\epsilon b \\left(\\epsilon - 1\\right) \\left(2 \\epsilon - 1\\right)}$"
      ],
      "text/plain": [
       "            2                                 ⎛          3               2  ⎞\n",
       "- 2⋅\\epsilon ⋅b + \\epsilon⋅b + b - c + p_{DD}⋅⎝4⋅\\epsilon ⋅b - 2⋅\\epsilon ⋅b⎠\n",
       "─────────────────────────────────────────────────────────────────────────────\n",
       "                 2⋅\\epsilon⋅b⋅(\\epsilon - 1)⋅(2⋅\\epsilon - 1)                "
      ]
     },
     "execution_count": 356,
     "metadata": {},
     "output_type": "execute_result"
    }
   ],
   "source": [
    "sym.solve(condition7, pcd + pdc)[0].expand().factor().collect(pdd)"
   ]
  },
  {
   "cell_type": "code",
   "execution_count": 357,
   "metadata": {},
   "outputs": [
    {
     "data": {
      "image/png": "[encoded data removed]",
      "text/latex": [
       "$\\displaystyle \\frac{- 2 \\epsilon^{2} b + \\epsilon b + b - c + p_{DD} \\left(4 \\epsilon^{3} b - 10 \\epsilon^{2} b + 8 \\epsilon b - 2 b\\right)}{2 \\epsilon b \\left(\\epsilon - 1\\right) \\left(2 \\epsilon - 1\\right)}$"
      ],
      "text/plain": [
       "            2                                 ⎛          3                2                       ⎞\n",
       "- 2⋅\\epsilon ⋅b + \\epsilon⋅b + b - c + p_{DD}⋅⎝4⋅\\epsilon ⋅b - 10⋅\\epsilon ⋅b + 8⋅\\epsilon⋅b - 2⋅b⎠\n",
       "───────────────────────────────────────────────────────────────────────────────────────────────────\n",
       "                            2⋅\\epsilon⋅b⋅(\\epsilon - 1)⋅(2⋅\\epsilon - 1)                           "
      ]
     },
     "execution_count": 357,
     "metadata": {},
     "output_type": "execute_result"
    }
   ],
   "source": [
    "sym.solve(condition8, pcd + pdc)[0].expand().factor().collect(pdd)"
   ]
  },
  {
   "cell_type": "code",
   "execution_count": 358,
   "metadata": {},
   "outputs": [
    {
     "data": {
      "image/png": "[encoded data removed]",
      "text/latex": [
       "$\\displaystyle \\frac{4 \\epsilon^{3} b - 3 \\epsilon b + 2 \\epsilon c - b + c + p_{DD} \\left(4 \\epsilon^{2} b - 6 \\epsilon b + 2 b\\right)}{2 \\epsilon b \\left(2 \\epsilon - 1\\right)}$"
      ],
      "text/plain": [
       "          3                                                  ⎛          2                       ⎞\n",
       "4⋅\\epsilon ⋅b - 3⋅\\epsilon⋅b + 2⋅\\epsilon⋅c - b + c + p_{DD}⋅⎝4⋅\\epsilon ⋅b - 6⋅\\epsilon⋅b + 2⋅b⎠\n",
       "─────────────────────────────────────────────────────────────────────────────────────────────────\n",
       "                                  2⋅\\epsilon⋅b⋅(2⋅\\epsilon - 1)                                  "
      ]
     },
     "execution_count": 358,
     "metadata": {},
     "output_type": "execute_result"
    }
   ],
   "source": [
    "sym.solve(condition9, pcd + pdc)[0].expand().factor().collect(pdd)"
   ]
  },
  {
   "cell_type": "code",
   "execution_count": 378,
   "metadata": {},
   "outputs": [
    {
     "data": {
      "image/png": "[encoded data removed]",
      "text/latex": [
       "$\\displaystyle \\left[ 0.1, \\  0.01, \\  0.001, \\  0.0001\\right]$"
      ],
      "text/plain": [
       "[0.1, 0.01, 0.001, 0.0001]"
      ]
     },
     "execution_count": 378,
     "metadata": {},
     "output_type": "execute_result"
    }
   ],
   "source": [
    "[10 ** - i for i in np.linspace(1, 4, 4)]"
   ]
  },
  {
   "cell_type": "code",
   "execution_count": 385,
   "metadata": {},
   "outputs": [
    {
     "data": {
      "text/plain": [
       "array([0.001 , 0.0109, 0.0208, 0.0307, 0.0406, 0.0505, 0.0604, 0.0703,\n",
       "       0.0802, 0.0901, 0.1   ])"
      ]
     },
     "execution_count": 385,
     "metadata": {},
     "output_type": "execute_result"
    }
   ],
   "source": [
    "np.linspace(0.001, 0.1, 11)"
   ]
  },
  {
   "cell_type": "code",
   "execution_count": 386,
   "metadata": {},
   "outputs": [
    {
     "data": {
      "image/png": "[encoded data removed]",
      "text/latex": [
       "$\\displaystyle 0.001$"
      ],
      "text/plain": [
       "0.001"
      ]
     },
     "execution_count": 386,
     "metadata": {},
     "output_type": "execute_result"
    }
   ],
   "source": [
    "0.001"
   ]
  },
  {
   "cell_type": "markdown",
   "metadata": {},
   "source": [
    "### $n=3$"
   ]
  },
  {
   "cell_type": "code",
   "execution_count": 92,
   "metadata": {},
   "outputs": [],
   "source": [
    "pccd, pcdc, pcdd, pdcc, pdcd, pddc, pddd =  sym.symbols(\"p_{CCD}, p_{CDC}, p_{CDD}, p_{DCC}, p_{DCD}, p_{DDC}, p_{DDD}\")"
   ]
  },
  {
   "cell_type": "code",
   "execution_count": 95,
   "metadata": {},
   "outputs": [],
   "source": [
    "player = [1, pccd, 1, pccd, pcdc, pcdd, pcdc, pcdd,\n",
    "          1, pccd, 1, pccd, pcdc, pcdd, pcdc, pcdd,\n",
    "          pdcc, pdcd, pdcc, pdcd, pddc, pddd, pddc, pddd,\n",
    "          pdcc, pdcd, pdcc, pdcd, pddc, pddd, pddc, pddd]"
   ]
  },
  {
   "cell_type": "code",
   "execution_count": 96,
   "metadata": {},
   "outputs": [
    {
     "data": {
      "image/png": "[encoded data removed]",
      "text/latex": [
       "$\\displaystyle 32$"
      ],
      "text/plain": [
       "32"
      ]
     },
     "execution_count": 96,
     "metadata": {},
     "output_type": "execute_result"
    }
   ],
   "source": [
    "len(player)"
   ]
  },
  {
   "cell_type": "code",
   "execution_count": 99,
   "metadata": {},
   "outputs": [
    {
     "data": {
      "image/png": "[encoded data removed]",
      "text/latex": [
       "$\\displaystyle 8$"
      ],
      "text/plain": [
       "8"
      ]
     },
     "execution_count": 99,
     "metadata": {},
     "output_type": "execute_result"
    }
   ],
   "source": [
    "2 ** 3"
   ]
  },
  {
   "cell_type": "code",
   "execution_count": 100,
   "metadata": {},
   "outputs": [
    {
     "name": "stdout",
     "output_type": "stream",
     "text": [
      "1e-05\n",
      "3.1622776601683795e-05\n",
      "0.0001\n",
      "0.00031622776601683794\n"
     ]
    }
   ],
   "source": [
    "for i in [-5.0000, -4.5000, -4.0000, -3.5000]:\n",
    "    print(10 ** i)"
   ]
  },
  {
   "cell_type": "code",
   "execution_count": 102,
   "metadata": {},
   "outputs": [
    {
     "data": {
      "image/png": "[encoded data removed]",
      "text/latex": [
       "$\\displaystyle 0.1$"
      ],
      "text/plain": [
       "0.1"
      ]
     },
     "execution_count": 102,
     "metadata": {},
     "output_type": "execute_result"
    }
   ],
   "source": [
    "10 ** - 1"
   ]
  },
  {
   "cell_type": "code",
   "execution_count": 108,
   "metadata": {},
   "outputs": [
    {
     "name": "stdout",
     "output_type": "stream",
     "text": [
      "1e-05\n",
      "3.1622776601683795e-05\n",
      "0.0001\n",
      "0.00031622776601683794\n",
      "0.001\n",
      "0.0031622776601683794\n",
      "0.01\n",
      "0.03162277660168379\n",
      "0.1\n"
     ]
    }
   ],
   "source": [
    "for i in np.arange(-5, -0.5, 0.5):\n",
    "    print(10 ** i)"
   ]
  },
  {
   "cell_type": "code",
   "execution_count": 110,
   "metadata": {},
   "outputs": [
    {
     "data": {
      "image/png": "[encoded data removed]",
      "text/latex": [
       "$\\displaystyle 9$"
      ],
      "text/plain": [
       "9"
      ]
     },
     "execution_count": 110,
     "metadata": {},
     "output_type": "execute_result"
    }
   ],
   "source": [
    "len(np.arange(-5, -0.5, 0.5))"
   ]
  },
  {
   "cell_type": "code",
   "execution_count": 319,
   "metadata": {},
   "outputs": [],
   "source": [
    "pc, pd = sym.symbols(\"p_C, p_D\")\n",
    "\n",
    "qc, qd = sym.symbols(\"q_C, q_D\")"
   ]
  },
  {
   "cell_type": "code",
   "execution_count": 324,
   "metadata": {},
   "outputs": [],
   "source": [
    "M = repeated_play.transition_matrix_repeated_game( [qc, qd, qc, qd],[pc, pd, pc, pd],memory=\"one\",\n",
    "                                                  analytical=True)"
   ]
  },
  {
   "cell_type": "code",
   "execution_count": 325,
   "metadata": {},
   "outputs": [],
   "source": [
    "ss = repeated_play.stationary_distribution(M, analytical=True)"
   ]
  },
  {
   "cell_type": "code",
   "execution_count": 326,
   "metadata": {},
   "outputs": [
    {
     "data": {
      "image/png": "[encoded data removed]",
      "text/latex": [
       "$\\displaystyle - \\frac{p_{D} q_{C} - p_{D} q_{D} + q_{D}}{p_{C} q_{C} - p_{C} q_{D} - p_{D} q_{C} + p_{D} q_{D} - 1}$"
      ],
      "text/plain": [
       "       -(p_D⋅q_C - p_D⋅q_D + q_D)        \n",
       "─────────────────────────────────────────\n",
       "p_C⋅q_C - p_C⋅q_D - p_D⋅q_C + p_D⋅q_D - 1"
      ]
     },
     "execution_count": 326,
     "metadata": {},
     "output_type": "execute_result"
    }
   ],
   "source": [
    "(ss[0] + ss[1]).factor()"
   ]
  },
  {
   "cell_type": "code",
   "execution_count": 207,
   "metadata": {},
   "outputs": [],
   "source": [
    "payoff2 = sum(ss @ np.array([b - c, -c, b, 0])).factor()"
   ]
  },
  {
   "cell_type": "code",
   "execution_count": 200,
   "metadata": {},
   "outputs": [],
   "source": [
    "Q = sym.Matrix([[qc, (1 - qc)],\n",
    "                [qd, (1 - qd)]])"
   ]
  },
  {
   "cell_type": "code",
   "execution_count": 201,
   "metadata": {},
   "outputs": [
    {
     "data": {
      "image/png": "[encoded data removed]",
      "text/latex": [
       "$\\displaystyle \\left[\\begin{matrix}q_{C} & 1 - q_{C}\\\\q_{D} & 1 - q_{D}\\end{matrix}\\right]$"
      ],
      "text/plain": [
       "⎡q_C  1 - q_C⎤\n",
       "⎢            ⎥\n",
       "⎣q_D  1 - q_D⎦"
      ]
     },
     "execution_count": 201,
     "metadata": {},
     "output_type": "execute_result"
    }
   ],
   "source": [
    "Q"
   ]
  },
  {
   "cell_type": "code",
   "execution_count": 202,
   "metadata": {},
   "outputs": [],
   "source": [
    "ss2 = repeated_play.stationary_distribution(Q, analytical=True)"
   ]
  },
  {
   "cell_type": "code",
   "execution_count": 205,
   "metadata": {},
   "outputs": [
    {
     "data": {
      "image/png": "[encoded data removed]",
      "text/latex": [
       "$\\displaystyle - \\frac{b q_{D}}{q_{C} - q_{D} - 1}$"
      ],
      "text/plain": [
       "   -b⋅q_D    \n",
       "─────────────\n",
       "q_C - q_D - 1"
      ]
     },
     "execution_count": 205,
     "metadata": {},
     "output_type": "execute_result"
    }
   ],
   "source": [
    "b * ss2[0] "
   ]
  },
  {
   "cell_type": "code",
   "execution_count": 206,
   "metadata": {},
   "outputs": [],
   "source": [
    "payoff1 = (b * ss2[0] - (ss2[0] * pc + ss2[1] * pd) * c).factor()"
   ]
  },
  {
   "cell_type": "code",
   "execution_count": 213,
   "metadata": {},
   "outputs": [
    {
     "data": {
      "image/png": "[encoded data removed]",
      "text/latex": [
       "$\\displaystyle 0$"
      ],
      "text/plain": [
       "0"
      ]
     },
     "execution_count": 213,
     "metadata": {},
     "output_type": "execute_result"
    }
   ],
   "source": [
    "payoff1.subs({b:1, c:0.3, pc:0, pd:0, qc:0, qd:0})"
   ]
  },
  {
   "cell_type": "code",
   "execution_count": 214,
   "metadata": {},
   "outputs": [
    {
     "data": {
      "image/png": "[encoded data removed]",
      "text/latex": [
       "$\\displaystyle 0$"
      ],
      "text/plain": [
       "0"
      ]
     },
     "execution_count": 214,
     "metadata": {},
     "output_type": "execute_result"
    }
   ],
   "source": [
    "payoff2.subs({b:1, c:0.3, pc:0, pd:0, qc:0, qd:0})"
   ]
  },
  {
   "cell_type": "code",
   "execution_count": 309,
   "metadata": {},
   "outputs": [],
   "source": [
    "np.random.seed(0)\n",
    "\n",
    "player = np.random.random(2)\n",
    "playerm = [player[0], player[1]] * 2\n",
    "\n",
    "coplayer = np.random.random(2)\n",
    "coplayerm = [coplayer[0], coplayer[1]] * 2"
   ]
  },
  {
   "cell_type": "code",
   "execution_count": 310,
   "metadata": {},
   "outputs": [],
   "source": [
    "M = repeated_play.transition_matrix_repeated_game(coplayerm,\n",
    "                                                  playerm,\n",
    "                                                  memory=\"one\")\n",
    "\n",
    "ss = repeated_play.stationary_distribution(M)[0]"
   ]
  },
  {
   "cell_type": "code",
   "execution_count": 311,
   "metadata": {},
   "outputs": [
    {
     "data": {
      "image/png": "[encoded data removed]",
      "text/latex": [
       "$\\displaystyle 0.580686547363754$"
      ],
      "text/plain": [
       "0.5806865473637542"
      ]
     },
     "execution_count": 311,
     "metadata": {},
     "output_type": "execute_result"
    }
   ],
   "source": [
    "ss[0] + ss[1]"
   ]
  },
  {
   "cell_type": "code",
   "execution_count": 312,
   "metadata": {},
   "outputs": [
    {
     "data": {
      "image/png": "[encoded data removed]",
      "text/latex": [
       "$\\displaystyle 0.444371177035384$"
      ],
      "text/plain": [
       "0.4443711770353844"
      ]
     },
     "execution_count": 312,
     "metadata": {},
     "output_type": "execute_result"
    }
   ],
   "source": [
    "ss @ np.array([bval - cval, -cval, bval, 0])"
   ]
  },
  {
   "cell_type": "code",
   "execution_count": 313,
   "metadata": {},
   "outputs": [],
   "source": [
    "Q = np.array([[coplayer[0], (1 - coplayer[0])],\n",
    "              [coplayer[1], (1 - coplayer[1])]])\n",
    "\n",
    "Z = np.array([[player[0], (1 - player[0])],\n",
    "              [player[1], (1 - player[1])]])"
   ]
  },
  {
   "cell_type": "code",
   "execution_count": 314,
   "metadata": {},
   "outputs": [
    {
     "data": {
      "text/plain": [
       "array([[0.60276338, 0.39723662],\n",
       "       [0.54488318, 0.45511682]])"
      ]
     },
     "execution_count": 314,
     "metadata": {},
     "output_type": "execute_result"
    }
   ],
   "source": [
    "Q"
   ]
  },
  {
   "cell_type": "code",
   "execution_count": 315,
   "metadata": {},
   "outputs": [
    {
     "data": {
      "text/plain": [
       "array([0.5783587, 0.4216413])"
      ]
     },
     "execution_count": 315,
     "metadata": {},
     "output_type": "execute_result"
    }
   ],
   "source": [
    "ss1 = repeated_play.stationary_distribution(Q)[0]\n",
    "ss1"
   ]
  },
  {
   "cell_type": "code",
   "execution_count": 316,
   "metadata": {},
   "outputs": [
    {
     "data": {
      "image/png": "[encoded data removed]",
      "text/latex": [
       "$\\displaystyle 0.354633529925655$"
      ],
      "text/plain": [
       "0.35463352992565533"
      ]
     },
     "execution_count": 316,
     "metadata": {},
     "output_type": "execute_result"
    }
   ],
   "source": [
    "ss1[0] * ss2[0]"
   ]
  },
  {
   "cell_type": "code",
   "execution_count": 317,
   "metadata": {},
   "outputs": [],
   "source": [
    "ss2 = repeated_play.stationary_distribution(Z)[0]"
   ]
  },
  {
   "cell_type": "code",
   "execution_count": 318,
   "metadata": {},
   "outputs": [
    {
     "data": {
      "text/plain": [
       "array([0.6131723, 0.3868277])"
      ]
     },
     "execution_count": 318,
     "metadata": {},
     "output_type": "execute_result"
    }
   ],
   "source": [
    "ss2"
   ]
  },
  {
   "cell_type": "code",
   "execution_count": 262,
   "metadata": {},
   "outputs": [
    {
     "name": "stdout",
     "output_type": "stream",
     "text": [
      "[0.54435983 0.08601281 0.31919261 0.05043475]\n"
     ]
    },
    {
     "ename": "AssertionError",
     "evalue": "",
     "output_type": "error",
     "traceback": [
      "\u001b[0;31m---------------------------------------------------------------------------\u001b[0m",
      "\u001b[0;31mAssertionError\u001b[0m                            Traceback (most recent call last)",
      "Cell \u001b[0;32mIn[262], line 31\u001b[0m\n\u001b[1;32m     26\u001b[0m ss2 \u001b[38;5;241m=\u001b[39m repeated_play\u001b[38;5;241m.\u001b[39mstationary_distribution(Q)[\u001b[38;5;241m0\u001b[39m]\n\u001b[1;32m     29\u001b[0m payoff_expr_two \u001b[38;5;241m=\u001b[39m bval \u001b[38;5;241m*\u001b[39m ss2[\u001b[38;5;241m0\u001b[39m] \u001b[38;5;241m-\u001b[39m (ss2[\u001b[38;5;241m0\u001b[39m] \u001b[38;5;241m*\u001b[39m player[\u001b[38;5;241m0\u001b[39m] \u001b[38;5;241m+\u001b[39m ss2[\u001b[38;5;241m1\u001b[39m] \u001b[38;5;241m*\u001b[39m player[\u001b[38;5;241m1\u001b[39m]) \u001b[38;5;241m*\u001b[39m cval\n\u001b[0;32m---> 31\u001b[0m \u001b[38;5;28;01massert\u001b[39;00m np\u001b[38;5;241m.\u001b[39misclose(payoff_expr_one, payoff_expr_two)\n",
      "\u001b[0;31mAssertionError\u001b[0m: "
     ]
    }
   ],
   "source": [
    "bval = 1\n",
    "cval = 0.3\n",
    "\n",
    "for i in range(10 ** 3):\n",
    "    np.random.seed(i + 20)\n",
    "    \n",
    "    player = np.random.random(2)\n",
    "    playerm = [player[0], player[1]] * 2\n",
    "    \n",
    "    coplayer = np.random.random(2)\n",
    "    coplayerm = [coplayer[0], coplayer[1]] * 2\n",
    "    \n",
    "    \n",
    "    M = repeated_play.transition_matrix_repeated_game(playerm,\n",
    "                                                      coplayerm,\n",
    "                                                      memory=\"one\")\n",
    "    \n",
    "    ss = repeated_play.stationary_distribution(M)[0]\n",
    "    print(ss)\n",
    "    \n",
    "    payoff_expr_one = ss @ np.array([bval - cval, -cval, bval, 0])\n",
    "    \n",
    "    Q = np.array([[coplayer[0], (1 - coplayer[0])],\n",
    "                  [coplayer[1], (1 - coplayer[1])]])\n",
    "    \n",
    "    ss2 = repeated_play.stationary_distribution(Q)[0]\n",
    "    \n",
    "    \n",
    "    payoff_expr_two = bval * ss2[0] - (ss2[0] * player[0] + ss2[1] * player[1]) * cval\n",
    "    \n",
    "    assert np.isclose(payoff_expr_one, payoff_expr_two)"
   ]
  },
  {
   "cell_type": "code",
   "execution_count": 263,
   "metadata": {},
   "outputs": [
    {
     "data": {
      "image/png": "[encoded data removed]",
      "text/latex": [
       "$\\displaystyle \\left( 0.674440640861219, \\  0.695309677365252\\right)$"
      ],
      "text/plain": [
       "(0.6744406408612187, 0.6953096773652524)"
      ]
     },
     "execution_count": 263,
     "metadata": {},
     "output_type": "execute_result"
    }
   ],
   "source": [
    "payoff_expr_one, payoff_expr_two"
   ]
  },
  {
   "cell_type": "code",
   "execution_count": null,
   "metadata": {},
   "outputs": [],
   "source": []
  }
 ],
 "metadata": {
  "kernelspec": {
   "display_name": "Python 3",
   "language": "python",
   "name": "python3"
  },
  "language_info": {
   "codemirror_mode": {
    "name": "ipython",
    "version": 3
   },
   "file_extension": ".py",
   "mimetype": "text/x-python",
   "name": "python",
   "nbconvert_exporter": "python",
   "pygments_lexer": "ipython3",
   "version": "3.11.3"
  }
 },
 "nbformat": 4,
 "nbformat_minor": 4
}
