{
 "cells": [
  {
   "cell_type": "code",
   "execution_count": 16,
   "id": "8a70e4da",
   "metadata": {},
   "outputs": [],
   "source": [
    "import sympy as sym\n",
    "\n",
    "import numpy as np\n",
    "\n",
    "import repeated_play"
   ]
  },
  {
   "cell_type": "code",
   "execution_count": 17,
   "id": "18cd46f8",
   "metadata": {},
   "outputs": [],
   "source": [
    "import itertools"
   ]
  },
  {
   "cell_type": "code",
   "execution_count": 18,
   "id": "16156042",
   "metadata": {},
   "outputs": [],
   "source": [
    "def trnsf_transition_m_memory_two(player, analytical=True):\n",
    "    \n",
    "    if analytical == True:\n",
    "        M = sym.Matrix([[player[0], (1 - player[0]), 0, 0],\n",
    "                        [0, 0, player[1], (1 - player[1])],\n",
    "                        [player[2], (1 - player[2]), 0, 0],\n",
    "                        [0, 0, player[3], (1 - player[3])]])\n",
    "    else:\n",
    "        M = np.array([[player[0], (1 - player[0]), 0, 0],\n",
    "                        [0, 0, player[1], (1 - player[1])],\n",
    "                        [player[2], (1 - player[2]), 0, 0],\n",
    "                        [0, 0, player[3], (1 - player[3])]])\n",
    "    \n",
    "    \n",
    "    return M"
   ]
  },
  {
   "cell_type": "code",
   "execution_count": 19,
   "id": "9dd0a3fc",
   "metadata": {},
   "outputs": [],
   "source": [
    "def trnsf_transition_m_memory_three(player, analytical=True):\n",
    "    \n",
    "    if analytical == True:\n",
    "        M = sym.Matrix([[player[0], (1 - player[0]), 0, 0],\n",
    "                        [0, 0, player[1], (1 - player[1])],\n",
    "                        [player[2], (1 - player[2]), 0, 0],\n",
    "                        [0, 0, player[3], (1 - player[3])]])\n",
    "    else:\n",
    "        M = np.array([[player[0], (1 - player[0]), 0, 0],\n",
    "                        [0, 0, player[1], (1 - player[1])],\n",
    "                        [player[2], (1 - player[2]), 0, 0],\n",
    "                        [0, 0, player[3], (1 - player[3])]])\n",
    "    \n",
    "    \n",
    "    return M"
   ]
  },
  {
   "cell_type": "code",
   "execution_count": 20,
   "id": "e2c1ee10",
   "metadata": {},
   "outputs": [],
   "source": [
    "r, s, t, p = sym.symbols(\"R, S, T, P\")"
   ]
  },
  {
   "cell_type": "code",
   "execution_count": 21,
   "id": "a6b8da72",
   "metadata": {},
   "outputs": [],
   "source": [
    "q1, q2, q3, q4 = sym.symbols(r\"\\tilde{p}_1, \\tilde{p}_2, \\tilde{p}_3, \\tilde{p}_4\")"
   ]
  },
  {
   "cell_type": "code",
   "execution_count": 22,
   "id": "c797cd95",
   "metadata": {},
   "outputs": [],
   "source": [
    "p1, p2, p3, p4 = sym.symbols(r\"p_1, p_2, p_3, p_4\")"
   ]
  },
  {
   "cell_type": "markdown",
   "id": "dcdde501",
   "metadata": {},
   "source": [
    "### Algebra"
   ]
  },
  {
   "cell_type": "code",
   "execution_count": 23,
   "id": "ba8f4394",
   "metadata": {},
   "outputs": [],
   "source": [
    "rhs = (2 * p + r * (p4 - 3)) / (p - 1) - p2"
   ]
  },
  {
   "cell_type": "code",
   "execution_count": 24,
   "id": "b8f9b883",
   "metadata": {},
   "outputs": [],
   "source": [
    "lhs = (p * (p2 - 1) - p2 - 1) / r - p4"
   ]
  },
  {
   "cell_type": "code",
   "execution_count": 25,
   "id": "a5ee2fc4",
   "metadata": {},
   "outputs": [
    {
     "data": {
      "text/latex": [
       "$\\displaystyle - p_{4} + \\frac{P \\left(p_{2} - 1\\right) - p_{2} - 1}{R}$"
      ],
      "text/plain": [
       "-p_4 + (P*(p_2 - 1) - p_2 - 1)/R"
      ]
     },
     "execution_count": 25,
     "metadata": {},
     "output_type": "execute_result"
    }
   ],
   "source": [
    "lhs"
   ]
  },
  {
   "cell_type": "code",
   "execution_count": 26,
   "id": "0058b8dd",
   "metadata": {},
   "outputs": [
    {
     "data": {
      "text/latex": [
       "$\\displaystyle \\frac{- P - R p_{4} + p_{2} \\left(P - 1\\right) - 1}{R}$"
      ],
      "text/plain": [
       "(-P - R*p_4 + p_2*(P - 1) - 1)/R"
      ]
     },
     "execution_count": 26,
     "metadata": {},
     "output_type": "execute_result"
    }
   ],
   "source": [
    "(lhs).factor().collect(p2).collect(p4)"
   ]
  },
  {
   "cell_type": "code",
   "execution_count": 27,
   "id": "e0cea691",
   "metadata": {},
   "outputs": [
    {
     "data": {
      "text/latex": [
       "$\\displaystyle - \\frac{P^{2} + R^{2} \\left(p_{4} - 3\\right) + R \\left(P \\left(p_{4} + 2\\right) - p_{4}\\right) - 1}{R \\left(P - 1\\right)}$"
      ],
      "text/plain": [
       "-(P**2 + R**2*(p_4 - 3) + R*(P*(p_4 + 2) - p_4) - 1)/(R*(P - 1))"
      ]
     },
     "execution_count": 27,
     "metadata": {},
     "output_type": "execute_result"
    }
   ],
   "source": [
    "sym.solve(rhs < lhs, p2).rhs.collect(r).collect(p)"
   ]
  },
  {
   "cell_type": "markdown",
   "id": "c7634d8b",
   "metadata": {},
   "source": [
    "### $n=2$"
   ]
  },
  {
   "cell_type": "code",
   "execution_count": 28,
   "id": "41f51557",
   "metadata": {},
   "outputs": [],
   "source": [
    "M = trnsf_transition_m_memory_two([q1, q2, q3, q4], analytical=True)"
   ]
  },
  {
   "cell_type": "code",
   "execution_count": 29,
   "id": "2bdf985a",
   "metadata": {},
   "outputs": [
    {
     "name": "stdout",
     "output_type": "stream",
     "text": [
      "\\left[\\begin{matrix}\\tilde{p}_1 & 1 - \\tilde{p}_1 & 0 & 0\\\\0 & 0 & \\tilde{p}_2 & 1 - \\tilde{p}_2\\\\\\tilde{p}_3 & 1 - \\tilde{p}_3 & 0 & 0\\\\0 & 0 & \\tilde{p}_4 & 1 - \\tilde{p}_4\\end{matrix}\\right]\n"
     ]
    }
   ],
   "source": [
    "print(sym.latex(M))"
   ]
  },
  {
   "cell_type": "markdown",
   "id": "359ede1f",
   "metadata": {},
   "source": [
    "Then the payoff of the self-reactive player in the general repeated prisoner's dilemma is \n",
    "\n",
    "\n",
    "$pi(q,p) = aR \\cdot R + aS \\cdot S + aT \\cdot T + aP \\cdot P.$\n",
    "\n",
    "Here, the coefficients are, for example:\n",
    "\n",
    "$aR = vCC  pCC  qCC + vCD  pCD  qCD + vDC  pDC  qDC + vDD  pDD  qDD. $"
   ]
  },
  {
   "cell_type": "code",
   "execution_count": 30,
   "id": "01a4c780",
   "metadata": {},
   "outputs": [],
   "source": [
    "pure_self_reactive = list(itertools.product([0, 1], repeat=4))"
   ]
  },
  {
   "cell_type": "code",
   "execution_count": 31,
   "id": "08e75f4a",
   "metadata": {},
   "outputs": [],
   "source": [
    "player = [p1, p2, p3, p4]"
   ]
  },
  {
   "cell_type": "code",
   "execution_count": 32,
   "id": "2f45dcb1",
   "metadata": {},
   "outputs": [],
   "source": [
    "coplayer = pure_self_reactive[0]"
   ]
  },
  {
   "cell_type": "code",
   "execution_count": 33,
   "id": "2f09ef7f",
   "metadata": {},
   "outputs": [],
   "source": [
    "M = trnsf_transition_m_memory_two(coplayer, analytical=False)"
   ]
  },
  {
   "cell_type": "code",
   "execution_count": 34,
   "id": "ba16d812",
   "metadata": {},
   "outputs": [],
   "source": [
    "ss = repeated_play.stationary_distribution(M)[0]"
   ]
  },
  {
   "cell_type": "code",
   "execution_count": 35,
   "id": "5afc6710",
   "metadata": {},
   "outputs": [],
   "source": [
    "rho_q = ss[0] + ss[1]"
   ]
  },
  {
   "cell_type": "code",
   "execution_count": 37,
   "id": "a350ee42",
   "metadata": {},
   "outputs": [],
   "source": [
    "rho_p = sum([ss[i] * player[i] for i in range(4)])"
   ]
  },
  {
   "cell_type": "code",
   "execution_count": 42,
   "id": "63c5f343",
   "metadata": {},
   "outputs": [
    {
     "data": {
      "text/latex": [
       "$\\displaystyle - 1.0 \\left(P p_{4} - P - S p_{4}\\right)$"
      ],
      "text/plain": [
       "-1.0*(P*p_4 - P - S*p_4)"
      ]
     },
     "execution_count": 42,
     "metadata": {},
     "output_type": "execute_result"
    }
   ],
   "source": [
    "(rho_p * rho_q * r + rho_p * (1 - rho_q) * s + (1 - rho_p) * rho_q  * t \n",
    " + (1 - rho_p) * (1 - rho_q)  * p).factor()"
   ]
  },
  {
   "cell_type": "code",
   "execution_count": 209,
   "id": "4f5b218b",
   "metadata": {},
   "outputs": [],
   "source": [
    "r, s, t, p = 3, 0, 5, 1\n",
    "\n",
    "q_v1, q_v2, q_v3, q_v4 = pure_self_reactive[1]\n",
    "\n",
    "np.random.seed(0)\n",
    "\n",
    "p1, p2, p3, p4 = np.random.random(4)\n",
    "\n",
    "player = [p1, p2, p3, p4]\n",
    "    \n",
    "coplayer = [q_v1, q_v2, q_v3, q_v4]\n",
    "\n",
    "M = trnsf_transition_m_memory_two(coplayer, analytical=False)\n",
    "\n",
    "ss = repeated_play.stationary_distribution(M)[0]\n",
    "\n",
    "rho_q = ss[0] + ss[1]\n",
    "\n",
    "rho_p = sum([ss[i] * player[i] for i in range(4)])\n",
    "\n",
    "x1 = sum([ss[i] * player[i] * coplayer[i] for i in range(4)])\n",
    "x2 = sum([ss[i] * player[i] * (1 - coplayer[i]) for i in range(4)])\n",
    "x3 = sum([ss[i] * (1 - player[i]) * coplayer[i] for i in range(4)])\n",
    "x4 = sum([ss[i] * (1 - player[i]) * (1 - coplayer[i]) for i in range(4)])\n",
    "\n",
    "payoff = (x1 * r + x2 * s + x3  * t + x4  * p)\n",
    "\n",
    "\n",
    "M2 = repeated_play.transition_matrix_repeated_game([p1, p2, p1, p2, p3, p4, p3, p4, \n",
    "                                                    p1, p2, p1, p2, p3, p4, p3, p4],\n",
    "                                                   [q_v1, q_v1, q_v2, q_v2, q_v1, q_v1, q_v2, q_v2, \n",
    "                                                    q_v3, q_v3, q_v4, q_v4, q_v3, q_v3, q_v4, q_v4],\n",
    "                                                   memory=\"two\",\n",
    "                                                   analytical=False)\n",
    "\n",
    "ss2 = repeated_play.stationary_distribution(M2, analytical=False)\n",
    "\n",
    "assert np.isclose(payoff, sum(ss2 @ np.array([r, s, t, p] * 4)))"
   ]
  },
  {
   "cell_type": "code",
   "execution_count": 405,
   "id": "95e033d2",
   "metadata": {},
   "outputs": [],
   "source": [
    "r, s, t, p = 3, 0, 5, 1\n",
    "\n",
    "q_v1, q_v2, q_v3, q_v4 = pure_self_reactive[1]\n",
    "\n",
    "np.random.seed(0)\n",
    "\n",
    "p1, p2, p3, p4 = np.random.random(4)\n",
    "\n",
    "player = [p1, p2, p3, p4]\n",
    "    \n",
    "coplayer = [q_v1, q_v2, q_v3, q_v4]\n",
    "\n",
    "M = trnsf_transition_m_memory_two(coplayer, analytical=False)\n",
    "\n",
    "ss = repeated_play.stationary_distribution(M)[0]\n",
    "\n",
    "rho_q = ss[0] + ss[1]\n",
    "\n",
    "rho_p = sum([ss[i] * player[i] for i in range(4)])\n",
    "\n",
    "x1 = sum([ss[i] * player[i] * coplayer[i] for i in range(4)])\n",
    "x2 = sum([ss[i] * player[i] * (1 - coplayer[i]) for i in range(4)])\n",
    "x3 = sum([ss[i] * (1 - player[i]) * coplayer[i] for i in range(4)])\n",
    "x4 = sum([ss[i] * (1 - player[i]) * (1 - coplayer[i]) for i in range(4)])\n",
    "\n",
    "payoff2 = (x1 * r + x3 * s + x2  * t + x4  * p)\n",
    "\n",
    "\n",
    "M2 = repeated_play.transition_matrix_repeated_game([p1, p2, p1, p2, p3, p4, p3, p4, \n",
    "                                                    p1, p2, p1, p2, p3, p4, p3, p4],\n",
    "                                                   [q_v1, q_v1, q_v2, q_v2, q_v1, q_v1, q_v2, q_v2, \n",
    "                                                    q_v3, q_v3, q_v4, q_v4, q_v3, q_v3, q_v4, q_v4],\n",
    "                                                   memory=\"two\",\n",
    "                                                   analytical=False)\n",
    "\n",
    "ss2 = repeated_play.stationary_distribution(M2, analytical=False)\n",
    "\n",
    "assert np.isclose(payoff2, sum(ss2 @ np.array([r, t, s, p] * 4)))"
   ]
  },
  {
   "cell_type": "markdown",
   "id": "e640970c",
   "metadata": {},
   "source": [
    "### Analytical Expressions"
   ]
  },
  {
   "cell_type": "code",
   "execution_count": 44,
   "id": "1b79fe1d",
   "metadata": {},
   "outputs": [],
   "source": [
    "p1, p2, p3, p4 = sym.symbols(r\"p_1, p_2, p_3, p_4\")\n",
    "\n",
    "player = [1, p2, p3, p4]\n",
    "\n",
    "r, s, t, p = sym.symbols(\"R, S, T, P\")"
   ]
  },
  {
   "cell_type": "code",
   "execution_count": 45,
   "id": "b05ad691",
   "metadata": {},
   "outputs": [],
   "source": [
    "payoffs = []\n",
    "\n",
    "for i, coplayer in enumerate(pure_self_reactive):\n",
    "    \n",
    "    M = trnsf_transition_m_memory_two(coplayer, analytical=False)\n",
    "    \n",
    "    states = repeated_play.stationary_distribution(M)\n",
    "    \n",
    "    for ss in states:\n",
    "        \n",
    "        x1 = sum([ss[i] * player[i] * coplayer[i] for i in range(4)])\n",
    "        x2 = sum([ss[i] * player[i] * (1 - coplayer[i]) for i in range(4)])\n",
    "        x3 = sum([ss[i] * (1 - player[i]) * coplayer[i] for i in range(4)])\n",
    "        x4 = sum([ss[i] * (1 - player[i]) * (1 - coplayer[i]) for i in range(4)])\n",
    "        \n",
    "        payoff = (x1 * r + x3 * s + x2  * t + x4  * p).factor()\n",
    "        \n",
    "        payoffs.append((i, payoff))\n",
    "    \n"
   ]
  },
  {
   "cell_type": "code",
   "execution_count": 46,
   "id": "9effdeb0",
   "metadata": {},
   "outputs": [
    {
     "data": {
      "text/plain": [
       "25"
      ]
     },
     "execution_count": 46,
     "metadata": {},
     "output_type": "execute_result"
    }
   ],
   "source": [
    "len(payoffs)"
   ]
  },
  {
   "cell_type": "code",
   "execution_count": 47,
   "id": "6e19ff3f",
   "metadata": {},
   "outputs": [
    {
     "data": {
      "text/plain": [
       "(0, 0, 1, 1)"
      ]
     },
     "execution_count": 47,
     "metadata": {},
     "output_type": "execute_result"
    }
   ],
   "source": [
    "pure_self_reactive[3]"
   ]
  },
  {
   "cell_type": "code",
   "execution_count": 48,
   "id": "1ce96964",
   "metadata": {},
   "outputs": [
    {
     "data": {
      "text/plain": [
       "[(0, -1.0*(P*p_4 - P - T*p_4)),\n",
       " (1,\n",
       "  -0.666666666666667*(0.5*P*p_2 + 0.5*P*p_3 - 1.0*P - 0.5*R*p_4 + 0.5*S*p_4 - 0.5*S - 0.5*T*p_2 - 0.5*T*p_3)),\n",
       " (2, -1.0*(P*p_4 - P - T*p_4)),\n",
       " (3,\n",
       "  -0.5*(0.5*P*p_2 - 0.5*P - 0.5*R*p_3 - 0.5*R*p_4 + 0.5*S*p_3 + 0.5*S*p_4 - 1.0*S - 0.5*T*p_2 - 0.5*T)),\n",
       " (4, -0.5*(P*p_3 - P - R*p_2 + S*p_2 - S - T*p_3)),\n",
       " (4, -1.0*(P*p_4 - P - T*p_4)),\n",
       " (5, -0.5*(P*p_3 - P - R*p_2 + S*p_2 - S - T*p_3)),\n",
       " (6,\n",
       "  0.666666666666667*(0.5*R*p_2 + 0.5*R*p_3 - 0.5*S*p_2 - 0.5*S*p_3 + 1.0*S + 0.5*T)),\n",
       " (6, -1.0*(P*p_4 - P - T*p_4)),\n",
       " (7,\n",
       "  0.666666666666667*(0.5*R*p_2 + 0.5*R*p_3 - 0.5*S*p_2 - 0.5*S*p_3 + 1.0*S + 0.5*T)),\n",
       " (8, 1.0*R),\n",
       " (8, -1.0*(P*p_4 - P - T*p_4)),\n",
       " (9,\n",
       "  -0.666666666666667*(0.5*P*p_2 + 0.5*P*p_3 - 1.0*P - 0.5*R*p_4 + 0.5*S*p_4 - 0.5*S - 0.5*T*p_2 - 0.5*T*p_3)),\n",
       " (9, 1.0*R),\n",
       " (10, 1.0*R),\n",
       " (10, -1.0*(P*p_4 - P - T*p_4)),\n",
       " (11, 1.0*R),\n",
       " (12, -0.5*(P*p_3 - P - R*p_2 + S*p_2 - S - T*p_3)),\n",
       " (12, 1.0*R),\n",
       " (12, -1.0*(P*p_4 - P - T*p_4)),\n",
       " (13, -0.5*(P*p_3 - P - R*p_2 + S*p_2 - S - T*p_3)),\n",
       " (13, 1.0*R),\n",
       " (14, 1.0*R),\n",
       " (14, -1.0*(P*p_4 - P - T*p_4)),\n",
       " (15, 1.0*R)]"
      ]
     },
     "execution_count": 48,
     "metadata": {},
     "output_type": "execute_result"
    }
   ],
   "source": [
    "payoffs"
   ]
  },
  {
   "cell_type": "code",
   "execution_count": null,
   "id": "d8c4d4a8",
   "metadata": {},
   "outputs": [],
   "source": [
    "for"
   ]
  },
  {
   "cell_type": "code",
   "execution_count": 41,
   "id": "c8d823a3",
   "metadata": {},
   "outputs": [
    {
     "data": {
      "text/plain": [
       "[0, 2, 4, 6, 8, 10, 12, 14]"
      ]
     },
     "execution_count": 41,
     "metadata": {},
     "output_type": "execute_result"
    }
   ],
   "source": [
    "[i for i, p in payoffs if p == payoffs[0][1]]"
   ]
  },
  {
   "cell_type": "code",
   "execution_count": 42,
   "id": "5d85be84",
   "metadata": {},
   "outputs": [
    {
     "data": {
      "text/latex": [
       "$\\displaystyle P \\left(1.0 - 1.0 p_{4}\\right) + 1.0 T p_{4}$"
      ],
      "text/plain": [
       "P*(1.0 - 1.0*p_4) + 1.0*T*p_4"
      ]
     },
     "execution_count": 42,
     "metadata": {},
     "output_type": "execute_result"
    }
   ],
   "source": [
    "payoffs[0][1].simplify().collect(p)"
   ]
  },
  {
   "cell_type": "code",
   "execution_count": 43,
   "id": "26aefe2a",
   "metadata": {},
   "outputs": [
    {
     "data": {
      "text/plain": [
       "[1, 9]"
      ]
     },
     "execution_count": 43,
     "metadata": {},
     "output_type": "execute_result"
    }
   ],
   "source": [
    "[i for i, p in payoffs if p == payoffs[1][1]]"
   ]
  },
  {
   "cell_type": "code",
   "execution_count": 37,
   "id": "4195b4ad",
   "metadata": {},
   "outputs": [],
   "source": [
    "wrt2 =  -(p * (- 2 + p2  + p3 ) - r * p4 + s * (p4 - 1) - t * (p2 + p3)) / 3"
   ]
  },
  {
   "cell_type": "code",
   "execution_count": 38,
   "id": "989f1df8",
   "metadata": {},
   "outputs": [
    {
     "data": {
      "text/latex": [
       "$\\displaystyle 0$"
      ],
      "text/plain": [
       "0"
      ]
     },
     "execution_count": 38,
     "metadata": {},
     "output_type": "execute_result"
    }
   ],
   "source": [
    "(wrt2 - payoffs[1][1]).factor()"
   ]
  },
  {
   "cell_type": "code",
   "execution_count": 39,
   "id": "f21aa255",
   "metadata": {},
   "outputs": [
    {
     "data": {
      "text/latex": [
       "$\\displaystyle - \\frac{P \\left(p_{2} + p_{3} - 2\\right)}{3} + \\frac{R p_{4}}{3} - \\frac{S \\left(p_{4} - 1\\right)}{3} + \\frac{T \\left(p_{2} + p_{3}\\right)}{3}$"
      ],
      "text/plain": [
       "-P*(p_2 + p_3 - 2)/3 + R*p_4/3 - S*(p_4 - 1)/3 + T*(p_2 + p_3)/3"
      ]
     },
     "execution_count": 39,
     "metadata": {},
     "output_type": "execute_result"
    }
   ],
   "source": [
    "wrt2"
   ]
  },
  {
   "cell_type": "code",
   "execution_count": 116,
   "id": "17b3e238",
   "metadata": {},
   "outputs": [
    {
     "data": {
      "text/plain": [
       "[3]"
      ]
     },
     "execution_count": 116,
     "metadata": {},
     "output_type": "execute_result"
    }
   ],
   "source": [
    "[i for i, p in payoffs if p == payoffs[3][1]]"
   ]
  },
  {
   "cell_type": "code",
   "execution_count": 155,
   "id": "e4e05efe",
   "metadata": {},
   "outputs": [],
   "source": [
    "wrt3 = ( p * (1 - p2) + r * (p3 + p4) - s * (p3 + p4 - 2) + t * (p2 + 1)) / 4"
   ]
  },
  {
   "cell_type": "code",
   "execution_count": 156,
   "id": "bf25d668",
   "metadata": {},
   "outputs": [
    {
     "data": {
      "text/latex": [
       "$\\displaystyle 0$"
      ],
      "text/plain": [
       "0"
      ]
     },
     "execution_count": 156,
     "metadata": {},
     "output_type": "execute_result"
    }
   ],
   "source": [
    "(wrt3 - payoffs[3][1]).factor()"
   ]
  },
  {
   "cell_type": "code",
   "execution_count": 157,
   "id": "605974e9",
   "metadata": {},
   "outputs": [
    {
     "data": {
      "text/latex": [
       "$\\displaystyle \\frac{P \\left(1 - p_{2}\\right)}{4} + \\frac{R \\left(p_{3} + p_{4}\\right)}{4} - \\frac{S \\left(p_{3} + p_{4} - 2\\right)}{4} + \\frac{T \\left(p_{2} + 1\\right)}{4}$"
      ],
      "text/plain": [
       "P*(1 - p_2)/4 + R*(p_3 + p_4)/4 - S*(p_3 + p_4 - 2)/4 + T*(p_2 + 1)/4"
      ]
     },
     "execution_count": 157,
     "metadata": {},
     "output_type": "execute_result"
    }
   ],
   "source": [
    "wrt3"
   ]
  },
  {
   "cell_type": "code",
   "execution_count": 120,
   "id": "671454bf",
   "metadata": {},
   "outputs": [
    {
     "data": {
      "text/plain": [
       "[4, 5, 12, 13]"
      ]
     },
     "execution_count": 120,
     "metadata": {},
     "output_type": "execute_result"
    }
   ],
   "source": [
    "[i for i, p in payoffs if p == payoffs[4][1]]"
   ]
  },
  {
   "cell_type": "code",
   "execution_count": 121,
   "id": "f6aa3856",
   "metadata": {},
   "outputs": [
    {
     "data": {
      "text/latex": [
       "$\\displaystyle \\frac{P p_{2} - P + 4 R - 2 S - T p_{2} - T}{R - S}$"
      ],
      "text/plain": [
       "(P*p_2 - P + 4*R - 2*S - T*p_2 - T)/(R - S)"
      ]
     },
     "execution_count": 121,
     "metadata": {},
     "output_type": "execute_result"
    }
   ],
   "source": [
    "sym.solve(wrt3 - r, p3 + p4)[0]"
   ]
  },
  {
   "cell_type": "code",
   "execution_count": 46,
   "id": "3559164d",
   "metadata": {},
   "outputs": [],
   "source": [
    "wrt4 = (p * (- p3 + 1) + r * p2 - s * (p2 - 1) + t * p3) / 2"
   ]
  },
  {
   "cell_type": "code",
   "execution_count": 47,
   "id": "fababa94",
   "metadata": {},
   "outputs": [
    {
     "data": {
      "text/latex": [
       "$\\displaystyle 0$"
      ],
      "text/plain": [
       "0"
      ]
     },
     "execution_count": 47,
     "metadata": {},
     "output_type": "execute_result"
    }
   ],
   "source": [
    "(wrt4 - payoffs[4][1]).expand()"
   ]
  },
  {
   "cell_type": "code",
   "execution_count": 48,
   "id": "b9f3dbcd",
   "metadata": {},
   "outputs": [
    {
     "data": {
      "text/latex": [
       "$\\displaystyle \\frac{P \\left(1 - p_{3}\\right)}{2} + \\frac{R p_{2}}{2} - \\frac{S \\left(p_{2} - 1\\right)}{2} + \\frac{T p_{3}}{2}$"
      ],
      "text/plain": [
       "P*(1 - p_3)/2 + R*p_2/2 - S*(p_2 - 1)/2 + T*p_3/2"
      ]
     },
     "execution_count": 48,
     "metadata": {},
     "output_type": "execute_result"
    }
   ],
   "source": [
    "wrt4"
   ]
  },
  {
   "cell_type": "code",
   "execution_count": 49,
   "id": "11992fb8",
   "metadata": {},
   "outputs": [
    {
     "data": {
      "text/latex": [
       "$\\displaystyle 0$"
      ],
      "text/plain": [
       "0"
      ]
     },
     "execution_count": 49,
     "metadata": {},
     "output_type": "execute_result"
    }
   ],
   "source": [
    "(wrt4 - payoffs[6][1]).expand()"
   ]
  },
  {
   "cell_type": "code",
   "execution_count": 51,
   "id": "985df5e0",
   "metadata": {},
   "outputs": [
    {
     "data": {
      "text/plain": [
       "[6, 7]"
      ]
     },
     "execution_count": 51,
     "metadata": {},
     "output_type": "execute_result"
    }
   ],
   "source": [
    "[i for i, p in payoffs if p == payoffs[7][1]]"
   ]
  },
  {
   "cell_type": "code",
   "execution_count": 52,
   "id": "655ec7fa",
   "metadata": {},
   "outputs": [],
   "source": [
    "wrt5 = (r * (p2 + p3) - s * (p2 + p3 - 2) + t) / 3"
   ]
  },
  {
   "cell_type": "code",
   "execution_count": 53,
   "id": "a3f45df7",
   "metadata": {},
   "outputs": [
    {
     "data": {
      "text/latex": [
       "$\\displaystyle 0$"
      ],
      "text/plain": [
       "0"
      ]
     },
     "execution_count": 53,
     "metadata": {},
     "output_type": "execute_result"
    }
   ],
   "source": [
    "(wrt5 - payoffs[7][1]).factor()"
   ]
  },
  {
   "cell_type": "code",
   "execution_count": 54,
   "id": "2404d101",
   "metadata": {},
   "outputs": [
    {
     "data": {
      "text/latex": [
       "$\\displaystyle \\frac{R \\left(p_{2} + p_{3}\\right)}{3} - \\frac{S \\left(p_{2} + p_{3} - 2\\right)}{3} + \\frac{T}{3}$"
      ],
      "text/plain": [
       "R*(p_2 + p_3)/3 - S*(p_2 + p_3 - 2)/3 + T/3"
      ]
     },
     "execution_count": 54,
     "metadata": {},
     "output_type": "execute_result"
    }
   ],
   "source": [
    "wrt5"
   ]
  },
  {
   "cell_type": "markdown",
   "id": "34b9f6f6",
   "metadata": {},
   "source": [
    "### Conditions"
   ]
  },
  {
   "cell_type": "code",
   "execution_count": 55,
   "id": "1d57b308",
   "metadata": {},
   "outputs": [
    {
     "data": {
      "text/latex": [
       "$\\displaystyle \\frac{P - R}{P - T}$"
      ],
      "text/plain": [
       "(P - R)/(P - T)"
      ]
     },
     "execution_count": 55,
     "metadata": {},
     "output_type": "execute_result"
    }
   ],
   "source": [
    "sym.solve(payoffs[0][1] - r, p4)[0]"
   ]
  },
  {
   "cell_type": "code",
   "execution_count": 56,
   "id": "21428bde",
   "metadata": {},
   "outputs": [
    {
     "data": {
      "text/latex": [
       "$\\displaystyle \\frac{P - R}{P - 1}$"
      ],
      "text/plain": [
       "(P - R)/(P - 1)"
      ]
     },
     "execution_count": 56,
     "metadata": {},
     "output_type": "execute_result"
    }
   ],
   "source": [
    "sym.solve(payoffs[0][1] - r, p4)[0].subs({s:0, t:1})"
   ]
  },
  {
   "cell_type": "code",
   "execution_count": 61,
   "id": "a8a67a45",
   "metadata": {},
   "outputs": [
    {
     "data": {
      "text/latex": [
       "$\\displaystyle \\frac{2 P + R \\left(p_{4} - 3\\right) + S \\left(1 - p_{4}\\right)}{P - T}$"
      ],
      "text/plain": [
       "(2*P + R*(p_4 - 3) + S*(1 - p_4))/(P - T)"
      ]
     },
     "execution_count": 61,
     "metadata": {},
     "output_type": "execute_result"
    }
   ],
   "source": [
    "sym.solve(wrt2 - r, p2 + p3)[0].collect(r).collect(s)"
   ]
  },
  {
   "cell_type": "code",
   "execution_count": 62,
   "id": "80c284be",
   "metadata": {},
   "outputs": [
    {
     "data": {
      "text/latex": [
       "$\\displaystyle \\frac{2 P + R \\left(p_{4} - 3\\right)}{P - 1}$"
      ],
      "text/plain": [
       "(2*P + R*(p_4 - 3))/(P - 1)"
      ]
     },
     "execution_count": 62,
     "metadata": {},
     "output_type": "execute_result"
    }
   ],
   "source": [
    "sym.solve(wrt2 - r, p2 + p3)[0].collect(r).collect(s).subs({s:0, t:1})"
   ]
  },
  {
   "cell_type": "code",
   "execution_count": 63,
   "id": "dc54e39a",
   "metadata": {},
   "outputs": [
    {
     "data": {
      "text/latex": [
       "$\\displaystyle \\frac{3 R - 2 S - T}{R - S}$"
      ],
      "text/plain": [
       "(3*R - 2*S - T)/(R - S)"
      ]
     },
     "execution_count": 63,
     "metadata": {},
     "output_type": "execute_result"
    }
   ],
   "source": [
    "sym.solve(wrt5 - r, p2 + p3)[0]"
   ]
  },
  {
   "cell_type": "code",
   "execution_count": 64,
   "id": "2b5944c0",
   "metadata": {},
   "outputs": [
    {
     "data": {
      "text/latex": [
       "$\\displaystyle \\frac{3 R - 1}{R}$"
      ],
      "text/plain": [
       "(3*R - 1)/R"
      ]
     },
     "execution_count": 64,
     "metadata": {},
     "output_type": "execute_result"
    }
   ],
   "source": [
    "sym.solve(wrt5 - r, p2 + p3)[0].subs({s:0, t:1})"
   ]
  },
  {
   "cell_type": "code",
   "execution_count": 68,
   "id": "f78619ac",
   "metadata": {},
   "outputs": [
    {
     "data": {
      "text/latex": [
       "$\\displaystyle \\frac{P \\left(p_{2} - 1\\right) + 4 R - 2 S + T \\left(- p_{2} - 1\\right)}{R - S}$"
      ],
      "text/plain": [
       "(P*(p_2 - 1) + 4*R - 2*S + T*(-p_2 - 1))/(R - S)"
      ]
     },
     "execution_count": 68,
     "metadata": {},
     "output_type": "execute_result"
    }
   ],
   "source": [
    "sym.solve(wrt3 - r, p3 + p4)[0].collect(p).collect(t)"
   ]
  },
  {
   "cell_type": "code",
   "execution_count": 69,
   "id": "8e629de6",
   "metadata": {},
   "outputs": [
    {
     "name": "stdout",
     "output_type": "stream",
     "text": [
      "\\frac{P \\left(p_{2} - 1\\right) + 4 R - 2 S + T \\left(- p_{2} - 1\\right)}{R - S}\n"
     ]
    }
   ],
   "source": [
    "print(sym.latex(sym.solve(wrt3 - r, p3 + p4)[0].collect(p).collect(t)))"
   ]
  },
  {
   "cell_type": "code",
   "execution_count": 70,
   "id": "8623f198",
   "metadata": {},
   "outputs": [
    {
     "data": {
      "text/latex": [
       "$\\displaystyle \\frac{P \\left(p_{2} - 1\\right) + 4 R - p_{2} - 1}{R}$"
      ],
      "text/plain": [
       "(P*(p_2 - 1) + 4*R - p_2 - 1)/R"
      ]
     },
     "execution_count": 70,
     "metadata": {},
     "output_type": "execute_result"
    }
   ],
   "source": [
    "sym.solve(wrt3 - r, p3 + p4)[0].collect(p).collect(t).subs({s:0, t:1})"
   ]
  },
  {
   "cell_type": "code",
   "execution_count": 71,
   "id": "bd385c3f",
   "metadata": {},
   "outputs": [
    {
     "name": "stdout",
     "output_type": "stream",
     "text": [
      "\\frac{P \\left(p_{2} - 1\\right) + 4 R - p_{2} - 1}{R}\n"
     ]
    }
   ],
   "source": [
    "print(sym.latex(sym.solve(wrt3 - r, p3 + p4)[0].collect(p).collect(t).subs({s:0, t:1})))"
   ]
  },
  {
   "cell_type": "code",
   "execution_count": 72,
   "id": "9185379b",
   "metadata": {},
   "outputs": [
    {
     "data": {
      "text/latex": [
       "$\\displaystyle \\frac{P \\left(1 - p_{3}\\right)}{2} + \\frac{R p_{2}}{2} - \\frac{S \\left(p_{2} - 1\\right)}{2} + \\frac{T p_{3}}{2}$"
      ],
      "text/plain": [
       "P*(1 - p_3)/2 + R*p_2/2 - S*(p_2 - 1)/2 + T*p_3/2"
      ]
     },
     "execution_count": 72,
     "metadata": {},
     "output_type": "execute_result"
    }
   ],
   "source": [
    "wrt4"
   ]
  },
  {
   "cell_type": "code",
   "execution_count": 73,
   "id": "30c4e218",
   "metadata": {},
   "outputs": [
    {
     "data": {
      "text/latex": [
       "$\\displaystyle \\frac{P p_{3} - P + 2 R - S - T p_{3}}{R - S}$"
      ],
      "text/plain": [
       "(P*p_3 - P + 2*R - S - T*p_3)/(R - S)"
      ]
     },
     "execution_count": 73,
     "metadata": {},
     "output_type": "execute_result"
    }
   ],
   "source": [
    "sym.solve(wrt4 - r, p2)[0]"
   ]
  },
  {
   "cell_type": "code",
   "execution_count": 75,
   "id": "835bc392",
   "metadata": {},
   "outputs": [
    {
     "data": {
      "text/latex": [
       "$\\displaystyle \\frac{P p_{3} - P + 2 R - p_{3}}{R}$"
      ],
      "text/plain": [
       "(P*p_3 - P + 2*R - p_3)/R"
      ]
     },
     "execution_count": 75,
     "metadata": {},
     "output_type": "execute_result"
    }
   ],
   "source": [
    "sym.solve(wrt4 - r, p2)[0].subs({t:1, s:0})"
   ]
  },
  {
   "cell_type": "markdown",
   "id": "94f9f40e",
   "metadata": {},
   "source": [
    "### Comparing conditions"
   ]
  },
  {
   "cell_type": "code",
   "execution_count": 122,
   "id": "28c12d12",
   "metadata": {},
   "outputs": [
    {
     "data": {
      "text/plain": [
       "[(P*p_2 - P - R*p_4 + 4*R + S*p_4 - 2*S - T*p_2 - T)/(R - S)]"
      ]
     },
     "execution_count": 122,
     "metadata": {},
     "output_type": "execute_result"
    }
   ],
   "source": [
    "sym.solve(wrt3 - r, p3)"
   ]
  },
  {
   "cell_type": "code",
   "execution_count": 149,
   "id": "04c449cc",
   "metadata": {},
   "outputs": [],
   "source": [
    "lhs = sym.solve(wrt3 - r, p2)[0].subs({t:1, s:0})"
   ]
  },
  {
   "cell_type": "code",
   "execution_count": 150,
   "id": "bdda4a5a",
   "metadata": {},
   "outputs": [
    {
     "data": {
      "text/latex": [
       "$\\displaystyle \\frac{P + R p_{3} + R p_{4} - 4 R + 1}{P - 1}$"
      ],
      "text/plain": [
       "(P + R*p_3 + R*p_4 - 4*R + 1)/(P - 1)"
      ]
     },
     "execution_count": 150,
     "metadata": {},
     "output_type": "execute_result"
    }
   ],
   "source": [
    "lhs"
   ]
  },
  {
   "cell_type": "code",
   "execution_count": 151,
   "id": "f858c41e",
   "metadata": {},
   "outputs": [
    {
     "data": {
      "text/latex": [
       "$\\displaystyle \\frac{P + R \\left(p_{3} + p_{4} - 4\\right) + 1}{P - 1}$"
      ],
      "text/plain": [
       "(P + R*(p_3 + p_4 - 4) + 1)/(P - 1)"
      ]
     },
     "execution_count": 151,
     "metadata": {},
     "output_type": "execute_result"
    }
   ],
   "source": [
    "lhs.collect(r)"
   ]
  },
  {
   "cell_type": "code",
   "execution_count": 152,
   "id": "caa9ddab",
   "metadata": {},
   "outputs": [],
   "source": [
    "rhs = sym.solve(wrt2 - r, p2)[0].subs({t:1, s:0})"
   ]
  },
  {
   "cell_type": "code",
   "execution_count": 154,
   "id": "0fdab193",
   "metadata": {},
   "outputs": [
    {
     "data": {
      "text/latex": [
       "$\\displaystyle \\frac{- P p_{3} + 2 P + R p_{4} - 3 R + p_{3}}{P - 1}$"
      ],
      "text/plain": [
       "(-P*p_3 + 2*P + R*p_4 - 3*R + p_3)/(P - 1)"
      ]
     },
     "execution_count": 154,
     "metadata": {},
     "output_type": "execute_result"
    }
   ],
   "source": [
    "rhs"
   ]
  },
  {
   "cell_type": "code",
   "execution_count": 153,
   "id": "3edad998",
   "metadata": {},
   "outputs": [
    {
     "data": {
      "text/latex": [
       "$\\displaystyle \\frac{\\left(p_{3} - 1\\right) \\left(P + R - 1\\right)}{P - 1}$"
      ],
      "text/plain": [
       "(p_3 - 1)*(P + R - 1)/(P - 1)"
      ]
     },
     "execution_count": 153,
     "metadata": {},
     "output_type": "execute_result"
    }
   ],
   "source": [
    "(lhs - rhs).factor()"
   ]
  },
  {
   "cell_type": "code",
   "execution_count": 91,
   "id": "0c9824b8",
   "metadata": {},
   "outputs": [
    {
     "data": {
      "text/latex": [
       "$\\displaystyle \\frac{\\left(p_{3} - 1\\right) \\left(P + R - 1\\right)}{P - 1}$"
      ],
      "text/plain": [
       "(p_3 - 1)*(P + R - 1)/(P - 1)"
      ]
     },
     "execution_count": 91,
     "metadata": {},
     "output_type": "execute_result"
    }
   ],
   "source": [
    "(lhs - rhs).factor()"
   ]
  },
  {
   "cell_type": "code",
   "execution_count": 96,
   "id": "545a98d3",
   "metadata": {},
   "outputs": [
    {
     "data": {
      "text/latex": [
       "$\\displaystyle \\frac{P p_{2} - P + 4 R - 2 S - T p_{2} - T}{R - S}$"
      ],
      "text/plain": [
       "(P*p_2 - P + 4*R - 2*S - T*p_2 - T)/(R - S)"
      ]
     },
     "execution_count": 96,
     "metadata": {},
     "output_type": "execute_result"
    }
   ],
   "source": [
    "sym.solve(wrt3 - r, p3 + p4)[0]"
   ]
  },
  {
   "cell_type": "code",
   "execution_count": 99,
   "id": "007f5032",
   "metadata": {},
   "outputs": [
    {
     "data": {
      "text/latex": [
       "$\\displaystyle \\frac{2 P + R p_{4} - 3 R - S p_{4} + S}{P - T}$"
      ],
      "text/plain": [
       "(2*P + R*p_4 - 3*R - S*p_4 + S)/(P - T)"
      ]
     },
     "execution_count": 99,
     "metadata": {},
     "output_type": "execute_result"
    }
   ],
   "source": [
    "sym.solve(wrt2 - r, p2 + p3)[0]"
   ]
  },
  {
   "cell_type": "code",
   "execution_count": 138,
   "id": "14faedf1",
   "metadata": {},
   "outputs": [],
   "source": [
    "lhs = sym.solve(wrt4 - r, p2)[0].subs({t:1, s:0})"
   ]
  },
  {
   "cell_type": "code",
   "execution_count": 139,
   "id": "f8994020",
   "metadata": {},
   "outputs": [],
   "source": [
    "rhs = sym.solve(wrt3 - r, p2)[0].subs({t:1, s:0})"
   ]
  },
  {
   "cell_type": "code",
   "execution_count": 141,
   "id": "24a14ae2",
   "metadata": {},
   "outputs": [
    {
     "data": {
      "text/latex": [
       "$\\displaystyle \\frac{P^{2} p_{3} - P^{2} + P R - 2 P p_{3} + P - R^{2} p_{3} - R^{2} p_{4} + 4 R^{2} - 3 R + p_{3}}{R \\left(P - 1\\right)}$"
      ],
      "text/plain": [
       "(P**2*p_3 - P**2 + P*R - 2*P*p_3 + P - R**2*p_3 - R**2*p_4 + 4*R**2 - 3*R + p_3)/(R*(P - 1))"
      ]
     },
     "execution_count": 141,
     "metadata": {},
     "output_type": "execute_result"
    }
   ],
   "source": [
    "(lhs - rhs).factor()"
   ]
  },
  {
   "cell_type": "code",
   "execution_count": null,
   "id": "4dcb4b7b",
   "metadata": {},
   "outputs": [],
   "source": []
  }
 ],
 "metadata": {
  "kernelspec": {
   "display_name": "Python 3 (ipykernel)",
   "language": "python",
   "name": "python3"
  },
  "language_info": {
   "codemirror_mode": {
    "name": "ipython",
    "version": 3
   },
   "file_extension": ".py",
   "mimetype": "text/x-python",
   "name": "python",
   "nbconvert_exporter": "python",
   "pygments_lexer": "ipython3",
   "version": "3.11.3"
  }
 },
 "nbformat": 4,
 "nbformat_minor": 5
}
