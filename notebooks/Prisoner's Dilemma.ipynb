{
 "cells": [
  {
   "cell_type": "code",
   "execution_count": 1,
   "id": "8a70e4da",
   "metadata": {},
   "outputs": [],
   "source": [
    "import sympy as sym\n",
    "\n",
    "import numpy as np\n",
    "\n",
    "import repeated_play"
   ]
  },
  {
   "cell_type": "code",
   "execution_count": 2,
   "id": "18cd46f8",
   "metadata": {},
   "outputs": [],
   "source": [
    "import itertools"
   ]
  },
  {
   "cell_type": "code",
   "execution_count": 3,
   "id": "16156042",
   "metadata": {},
   "outputs": [],
   "source": [
    "def trnsf_transition_m_memory_two(player, analytical=True):\n",
    "    \n",
    "    if analytical == True:\n",
    "        M = sym.Matrix([[player[0], (1 - player[0]), 0, 0],\n",
    "                        [0, 0, player[1], (1 - player[1])],\n",
    "                        [player[2], (1 - player[2]), 0, 0],\n",
    "                        [0, 0, player[3], (1 - player[3])]])\n",
    "    else:\n",
    "        M = np.array([[player[0], (1 - player[0]), 0, 0],\n",
    "                        [0, 0, player[1], (1 - player[1])],\n",
    "                        [player[2], (1 - player[2]), 0, 0],\n",
    "                        [0, 0, player[3], (1 - player[3])]])\n",
    "    \n",
    "    \n",
    "    return M"
   ]
  },
  {
   "cell_type": "code",
   "execution_count": 4,
   "id": "9dd0a3fc",
   "metadata": {},
   "outputs": [],
   "source": [
    "def trnsf_transition_m_memory_three(player, analytical=True):\n",
    "    \n",
    "    if analytical == True:\n",
    "        M = sym.Matrix([[player[0], (1 - player[0]), 0, 0],\n",
    "                        [0, 0, player[1], (1 - player[1])],\n",
    "                        [player[2], (1 - player[2]), 0, 0],\n",
    "                        [0, 0, player[3], (1 - player[3])]])\n",
    "    else:\n",
    "        M = np.array([[player[0], (1 - player[0]), 0, 0],\n",
    "                        [0, 0, player[1], (1 - player[1])],\n",
    "                        [player[2], (1 - player[2]), 0, 0],\n",
    "                        [0, 0, player[3], (1 - player[3])]])\n",
    "    \n",
    "    \n",
    "    return M"
   ]
  },
  {
   "cell_type": "code",
   "execution_count": 5,
   "id": "e2c1ee10",
   "metadata": {},
   "outputs": [],
   "source": [
    "r, s, t, p = sym.symbols(\"R, S, T, P\")"
   ]
  },
  {
   "cell_type": "code",
   "execution_count": 6,
   "id": "a6b8da72",
   "metadata": {},
   "outputs": [],
   "source": [
    "q1, q2, q3, q4 = sym.symbols(r\"\\tilde{p}_1, \\tilde{p}_2, \\tilde{p}_3, \\tilde{p}_4\")"
   ]
  },
  {
   "cell_type": "code",
   "execution_count": 7,
   "id": "c797cd95",
   "metadata": {},
   "outputs": [],
   "source": [
    "p1, p2, p3, p4 = sym.symbols(r\"p_1, p_2, p_3, p_4\")"
   ]
  },
  {
   "cell_type": "markdown",
   "id": "dcdde501",
   "metadata": {},
   "source": [
    "### Algebra"
   ]
  },
  {
   "cell_type": "code",
   "execution_count": 11,
   "id": "ba8f4394",
   "metadata": {},
   "outputs": [],
   "source": [
    "rhs = (2 * p + r * (p4 - 3)) / (p - 1) - p2"
   ]
  },
  {
   "cell_type": "code",
   "execution_count": 12,
   "id": "b8f9b883",
   "metadata": {},
   "outputs": [],
   "source": [
    "lhs = (p * (p2 - 1) - p2 - 1) / r - p4"
   ]
  },
  {
   "cell_type": "code",
   "execution_count": 13,
   "id": "a5ee2fc4",
   "metadata": {},
   "outputs": [
    {
     "data": {
      "text/latex": [
       "$\\displaystyle - p_{4} + \\frac{P \\left(p_{2} - 1\\right) - p_{2} - 1}{R}$"
      ],
      "text/plain": [
       "-p_4 + (P*(p_2 - 1) - p_2 - 1)/R"
      ]
     },
     "execution_count": 13,
     "metadata": {},
     "output_type": "execute_result"
    }
   ],
   "source": [
    "lhs"
   ]
  },
  {
   "cell_type": "code",
   "execution_count": 19,
   "id": "0058b8dd",
   "metadata": {},
   "outputs": [
    {
     "data": {
      "text/latex": [
       "$\\displaystyle - \\frac{- P^{2} - 2 P R + 3 R^{2} + p_{2} \\left(P^{2} + P R - 2 P - R + 1\\right) + p_{4} \\left(- P R - R^{2} + R\\right) + 1}{R \\left(P - 1\\right)}$"
      ],
      "text/plain": [
       "-(-P**2 - 2*P*R + 3*R**2 + p_2*(P**2 + P*R - 2*P - R + 1) + p_4*(-P*R - R**2 + R) + 1)/(R*(P - 1))"
      ]
     },
     "execution_count": 19,
     "metadata": {},
     "output_type": "execute_result"
    }
   ],
   "source": [
    "(hs).factor().collect(p2).collect(p4)"
   ]
  },
  {
   "cell_type": "code",
   "execution_count": 32,
   "id": "e0cea691",
   "metadata": {},
   "outputs": [
    {
     "data": {
      "text/latex": [
       "$\\displaystyle - \\frac{P^{2} + R^{2} \\left(p_{4} - 3\\right) + R \\left(P \\left(p_{4} + 2\\right) - p_{4}\\right) - 1}{R \\left(P - 1\\right)}$"
      ],
      "text/plain": [
       "-(P**2 + R**2*(p_4 - 3) + R*(P*(p_4 + 2) - p_4) - 1)/(R*(P - 1))"
      ]
     },
     "execution_count": 32,
     "metadata": {},
     "output_type": "execute_result"
    }
   ],
   "source": [
    "sym.solve(rhs < lhs, p2).rhs.collect(r).collect(p)"
   ]
  },
  {
   "cell_type": "markdown",
   "id": "c7634d8b",
   "metadata": {},
   "source": [
    "### $n=2$"
   ]
  },
  {
   "cell_type": "code",
   "execution_count": 12,
   "id": "41f51557",
   "metadata": {},
   "outputs": [],
   "source": [
    "M = trnsf_transition_m_memory_two([q1, q2, q3, q4], analytical=True)"
   ]
  },
  {
   "cell_type": "code",
   "execution_count": 13,
   "id": "2bdf985a",
   "metadata": {},
   "outputs": [
    {
     "name": "stdout",
     "output_type": "stream",
     "text": [
      "\\left[\\begin{matrix}\\tilde{p}_1 & 1 - \\tilde{p}_1 & 0 & 0\\\\0 & 0 & \\tilde{p}_2 & 1 - \\tilde{p}_2\\\\\\tilde{p}_3 & 1 - \\tilde{p}_3 & 0 & 0\\\\0 & 0 & \\tilde{p}_4 & 1 - \\tilde{p}_4\\end{matrix}\\right]\n"
     ]
    }
   ],
   "source": [
    "print(sym.latex(M))"
   ]
  },
  {
   "cell_type": "markdown",
   "id": "359ede1f",
   "metadata": {},
   "source": [
    "Then the payoff of the self-reactive player in the general repeated prisoner's dilemma is \n",
    "\n",
    "\n",
    "$pi(q,p) = aR \\cdot R + aS \\cdot S + aT \\cdot T + aP \\cdot P.$\n",
    "\n",
    "Here, the coefficients are, for example:\n",
    "\n",
    "$aR = vCC  pCC  qCC + vCD  pCD  qCD + vDC  pDC  qDC + vDD  pDD  qDD. $"
   ]
  },
  {
   "cell_type": "code",
   "execution_count": 16,
   "id": "01a4c780",
   "metadata": {},
   "outputs": [],
   "source": [
    "pure_self_reactive = list(itertools.product([0, 1], repeat=4))"
   ]
  },
  {
   "cell_type": "code",
   "execution_count": 23,
   "id": "08e75f4a",
   "metadata": {},
   "outputs": [],
   "source": [
    "player = [p1, p2, p3, p4]"
   ]
  },
  {
   "cell_type": "code",
   "execution_count": 24,
   "id": "2f45dcb1",
   "metadata": {},
   "outputs": [],
   "source": [
    "coplayer = pure_self_reactive[0]"
   ]
  },
  {
   "cell_type": "code",
   "execution_count": 25,
   "id": "2f09ef7f",
   "metadata": {},
   "outputs": [],
   "source": [
    "M = trnsf_transition_m_memory_two(coplayer, analytical=False)"
   ]
  },
  {
   "cell_type": "code",
   "execution_count": 32,
   "id": "ba16d812",
   "metadata": {},
   "outputs": [],
   "source": [
    "ss = repeated_play.stationary_distribution(M)[0]"
   ]
  },
  {
   "cell_type": "code",
   "execution_count": 33,
   "id": "5afc6710",
   "metadata": {},
   "outputs": [],
   "source": [
    "rho_q = ss[0] + ss[1]"
   ]
  },
  {
   "cell_type": "code",
   "execution_count": 37,
   "id": "a350ee42",
   "metadata": {},
   "outputs": [],
   "source": [
    "rho_p = sum([ss[i] * player[i] for i in range(4)])"
   ]
  },
  {
   "cell_type": "code",
   "execution_count": 42,
   "id": "63c5f343",
   "metadata": {},
   "outputs": [
    {
     "data": {
      "text/latex": [
       "$\\displaystyle - 1.0 \\left(P p_{4} - P - S p_{4}\\right)$"
      ],
      "text/plain": [
       "-1.0*(P*p_4 - P - S*p_4)"
      ]
     },
     "execution_count": 42,
     "metadata": {},
     "output_type": "execute_result"
    }
   ],
   "source": [
    "(rho_p * rho_q * r + rho_p * (1 - rho_q) * s + (1 - rho_p) * rho_q  * t \n",
    " + (1 - rho_p) * (1 - rho_q)  * p).factor()"
   ]
  },
  {
   "cell_type": "code",
   "execution_count": 209,
   "id": "4f5b218b",
   "metadata": {},
   "outputs": [],
   "source": [
    "r, s, t, p = 3, 0, 5, 1\n",
    "\n",
    "q_v1, q_v2, q_v3, q_v4 = pure_self_reactive[1]\n",
    "\n",
    "np.random.seed(0)\n",
    "\n",
    "p1, p2, p3, p4 = np.random.random(4)\n",
    "\n",
    "player = [p1, p2, p3, p4]\n",
    "    \n",
    "coplayer = [q_v1, q_v2, q_v3, q_v4]\n",
    "\n",
    "M = trnsf_transition_m_memory_two(coplayer, analytical=False)\n",
    "\n",
    "ss = repeated_play.stationary_distribution(M)[0]\n",
    "\n",
    "rho_q = ss[0] + ss[1]\n",
    "\n",
    "rho_p = sum([ss[i] * player[i] for i in range(4)])\n",
    "\n",
    "x1 = sum([ss[i] * player[i] * coplayer[i] for i in range(4)])\n",
    "x2 = sum([ss[i] * player[i] * (1 - coplayer[i]) for i in range(4)])\n",
    "x3 = sum([ss[i] * (1 - player[i]) * coplayer[i] for i in range(4)])\n",
    "x4 = sum([ss[i] * (1 - player[i]) * (1 - coplayer[i]) for i in range(4)])\n",
    "\n",
    "payoff = (x1 * r + x2 * s + x3  * t + x4  * p)\n",
    "\n",
    "\n",
    "M2 = repeated_play.transition_matrix_repeated_game([p1, p2, p1, p2, p3, p4, p3, p4, \n",
    "                                                    p1, p2, p1, p2, p3, p4, p3, p4],\n",
    "                                                   [q_v1, q_v1, q_v2, q_v2, q_v1, q_v1, q_v2, q_v2, \n",
    "                                                    q_v3, q_v3, q_v4, q_v4, q_v3, q_v3, q_v4, q_v4],\n",
    "                                                   memory=\"two\",\n",
    "                                                   analytical=False)\n",
    "\n",
    "ss2 = repeated_play.stationary_distribution(M2, analytical=False)\n",
    "\n",
    "assert np.isclose(payoff, sum(ss2 @ np.array([r, s, t, p] * 4)))"
   ]
  },
  {
   "cell_type": "code",
   "execution_count": 405,
   "id": "95e033d2",
   "metadata": {},
   "outputs": [],
   "source": [
    "r, s, t, p = 3, 0, 5, 1\n",
    "\n",
    "q_v1, q_v2, q_v3, q_v4 = pure_self_reactive[1]\n",
    "\n",
    "np.random.seed(0)\n",
    "\n",
    "p1, p2, p3, p4 = np.random.random(4)\n",
    "\n",
    "player = [p1, p2, p3, p4]\n",
    "    \n",
    "coplayer = [q_v1, q_v2, q_v3, q_v4]\n",
    "\n",
    "M = trnsf_transition_m_memory_two(coplayer, analytical=False)\n",
    "\n",
    "ss = repeated_play.stationary_distribution(M)[0]\n",
    "\n",
    "rho_q = ss[0] + ss[1]\n",
    "\n",
    "rho_p = sum([ss[i] * player[i] for i in range(4)])\n",
    "\n",
    "x1 = sum([ss[i] * player[i] * coplayer[i] for i in range(4)])\n",
    "x2 = sum([ss[i] * player[i] * (1 - coplayer[i]) for i in range(4)])\n",
    "x3 = sum([ss[i] * (1 - player[i]) * coplayer[i] for i in range(4)])\n",
    "x4 = sum([ss[i] * (1 - player[i]) * (1 - coplayer[i]) for i in range(4)])\n",
    "\n",
    "payoff2 = (x1 * r + x3 * s + x2  * t + x4  * p)\n",
    "\n",
    "\n",
    "M2 = repeated_play.transition_matrix_repeated_game([p1, p2, p1, p2, p3, p4, p3, p4, \n",
    "                                                    p1, p2, p1, p2, p3, p4, p3, p4],\n",
    "                                                   [q_v1, q_v1, q_v2, q_v2, q_v1, q_v1, q_v2, q_v2, \n",
    "                                                    q_v3, q_v3, q_v4, q_v4, q_v3, q_v3, q_v4, q_v4],\n",
    "                                                   memory=\"two\",\n",
    "                                                   analytical=False)\n",
    "\n",
    "ss2 = repeated_play.stationary_distribution(M2, analytical=False)\n",
    "\n",
    "assert np.isclose(payoff2, sum(ss2 @ np.array([r, t, s, p] * 4)))"
   ]
  },
  {
   "cell_type": "markdown",
   "id": "e640970c",
   "metadata": {},
   "source": [
    "### Analytical Expressions"
   ]
  },
  {
   "cell_type": "code",
   "execution_count": 406,
   "id": "1b79fe1d",
   "metadata": {},
   "outputs": [],
   "source": [
    "p1, p2, p3, p4 = sym.symbols(r\"p_1, p_2, p_3, p_4\")\n",
    "\n",
    "player = [1, p2, p3, p4]\n",
    "\n",
    "r, s, t, p = sym.symbols(\"R, S, T, P\")"
   ]
  },
  {
   "cell_type": "code",
   "execution_count": 407,
   "id": "b05ad691",
   "metadata": {},
   "outputs": [],
   "source": [
    "payoffs = []\n",
    "\n",
    "for i, coplayer in enumerate(pure_self_reactive):\n",
    "    \n",
    "    M = trnsf_transition_m_memory_two(coplayer, analytical=False)\n",
    "    \n",
    "    states = repeated_play.stationary_distribution(M)\n",
    "    \n",
    "    for ss in states:\n",
    "        \n",
    "        x1 = sum([ss[i] * player[i] * coplayer[i] for i in range(4)])\n",
    "        x2 = sum([ss[i] * player[i] * (1 - coplayer[i]) for i in range(4)])\n",
    "        x3 = sum([ss[i] * (1 - player[i]) * coplayer[i] for i in range(4)])\n",
    "        x4 = sum([ss[i] * (1 - player[i]) * (1 - coplayer[i]) for i in range(4)])\n",
    "        \n",
    "        payoff = (x1 * r + x3 * s + x2  * t + x4  * p).factor()\n",
    "        \n",
    "        payoffs.append((i, payoff))\n",
    "    \n"
   ]
  },
  {
   "cell_type": "code",
   "execution_count": 408,
   "id": "9effdeb0",
   "metadata": {},
   "outputs": [
    {
     "data": {
      "image/png": "[encoded data removed]",
      "text/latex": [
       "$\\displaystyle 25$"
      ],
      "text/plain": [
       "25"
      ]
     },
     "execution_count": 408,
     "metadata": {},
     "output_type": "execute_result"
    }
   ],
   "source": [
    "len(payoffs)"
   ]
  },
  {
   "cell_type": "code",
   "execution_count": 409,
   "id": "1ce96964",
   "metadata": {},
   "outputs": [
    {
     "data": {
      "image/png": "[encoded data removed]",
      "text/latex": [
       "$\\displaystyle \\left[ \\left( 0, \\  - 1.0 \\left(P p_{4} - P - T p_{4}\\right)\\right), \\  \\left( 1, \\  - 0.666666666666667 \\cdot \\left(0.5 P p_{2} + 0.5 P p_{3} - 1.0 P - 0.5 R p_{4} + 0.5 S p_{4} - 0.5 S - 0.5 T p_{2} - 0.5 T p_{3}\\right)\\right), \\  \\left( 2, \\  - 1.0 \\left(P p_{4} - P - T p_{4}\\right)\\right), \\  \\left( 3, \\  - 0.5 \\cdot \\left(0.5 P p_{2} - 0.5 P - 0.5 R p_{3} - 0.5 R p_{4} + 0.5 S p_{3} + 0.5 S p_{4} - 1.0 S - 0.5 T p_{2} - 0.5 T\\right)\\right), \\  \\left( 4, \\  - 0.5 \\left(P p_{3} - P - R p_{2} + S p_{2} - S - T p_{3}\\right)\\right), \\  \\left( 4, \\  - 1.0 \\left(P p_{4} - P - T p_{4}\\right)\\right), \\  \\left( 5, \\  - 0.5 \\left(P p_{3} - P - R p_{2} + S p_{2} - S - T p_{3}\\right)\\right), \\  \\left( 6, \\  0.666666666666667 \\cdot \\left(0.5 R p_{2} + 0.5 R p_{3} - 0.5 S p_{2} - 0.5 S p_{3} + 1.0 S + 0.5 T\\right)\\right), \\  \\left( 6, \\  - 1.0 \\left(P p_{4} - P - T p_{4}\\right)\\right), \\  \\left( 7, \\  0.666666666666667 \\cdot \\left(0.5 R p_{2} + 0.5 R p_{3} - 0.5 S p_{2} - 0.5 S p_{3} + 1.0 S + 0.5 T\\right)\\right), \\  \\left( 8, \\  1.0 R\\right), \\  \\left( 8, \\  - 1.0 \\left(P p_{4} - P - T p_{4}\\right)\\right), \\  \\left( 9, \\  - 0.666666666666667 \\cdot \\left(0.5 P p_{2} + 0.5 P p_{3} - 1.0 P - 0.5 R p_{4} + 0.5 S p_{4} - 0.5 S - 0.5 T p_{2} - 0.5 T p_{3}\\right)\\right), \\  \\left( 9, \\  1.0 R\\right), \\  \\left( 10, \\  1.0 R\\right), \\  \\left( 10, \\  - 1.0 \\left(P p_{4} - P - T p_{4}\\right)\\right), \\  \\left( 11, \\  1.0 R\\right), \\  \\left( 12, \\  - 0.5 \\left(P p_{3} - P - R p_{2} + S p_{2} - S - T p_{3}\\right)\\right), \\  \\left( 12, \\  1.0 R\\right), \\  \\left( 12, \\  - 1.0 \\left(P p_{4} - P - T p_{4}\\right)\\right), \\  \\left( 13, \\  - 0.5 \\left(P p_{3} - P - R p_{2} + S p_{2} - S - T p_{3}\\right)\\right), \\  \\left( 13, \\  1.0 R\\right), \\  \\left( 14, \\  1.0 R\\right), \\  \\left( 14, \\  - 1.0 \\left(P p_{4} - P - T p_{4}\\right)\\right), \\  \\left( 15, \\  1.0 R\\right)\\right]$"
      ],
      "text/plain": [
       "[(0, -1.0⋅(P⋅p₄ - P - T⋅p₄)), (1, -0.666666666666667⋅(0.5⋅P⋅p₂ + 0.5⋅P⋅p₃ - P - 0.5⋅R⋅p₄\n",
       " + 0.5⋅S⋅p₄ - 0.5⋅S - 0.5⋅T⋅p₂ - 0.5⋅T⋅p₃)), (2, -1.0⋅(P⋅p₄ - P - T⋅p₄)), (3, -0.5⋅(0.5⋅\n",
       "P⋅p₂ - 0.5⋅P - 0.5⋅R⋅p₃ - 0.5⋅R⋅p₄ + 0.5⋅S⋅p₃ + 0.5⋅S⋅p₄ - S - 0.5⋅T⋅p₂ - 0.5⋅T)), (4, -\n",
       "0.5⋅(P⋅p₃ - P - R⋅p₂ + S⋅p₂ - S - T⋅p₃)), (4, -1.0⋅(P⋅p₄ - P - T⋅p₄)), (5, -0.5⋅(P⋅p₃ - \n",
       "P - R⋅p₂ + S⋅p₂ - S - T⋅p₃)), (6, 0.666666666666667⋅(0.5⋅R⋅p₂ + 0.5⋅R⋅p₃ - 0.5⋅S⋅p₂ - 0.\n",
       "5⋅S⋅p₃ + 1.0⋅S + 0.5⋅T)), (6, -1.0⋅(P⋅p₄ - P - T⋅p₄)), (7, 0.666666666666667⋅(0.5⋅R⋅p₂ +\n",
       " 0.5⋅R⋅p₃ - 0.5⋅S⋅p₂ - 0.5⋅S⋅p₃ + 1.0⋅S + 0.5⋅T)), (8, 1.0⋅R), (8, -1.0⋅(P⋅p₄ - P - T⋅p₄\n",
       ")), (9, -0.666666666666667⋅(0.5⋅P⋅p₂ + 0.5⋅P⋅p₃ - P - 0.5⋅R⋅p₄ + 0.5⋅S⋅p₄ - 0.5⋅S - 0.5⋅\n",
       "T⋅p₂ - 0.5⋅T⋅p₃)), (9, 1.0⋅R), (10, 1.0⋅R), (10, -1.0⋅(P⋅p₄ - P - T⋅p₄)), (11, 1.0⋅R), (\n",
       "12, -0.5⋅(P⋅p₃ - P - R⋅p₂ + S⋅p₂ - S - T⋅p₃)), (12, 1.0⋅R), (12, -1.0⋅(P⋅p₄ - P - T⋅p₄))\n",
       ", (13, -0.5⋅(P⋅p₃ - P - R⋅p₂ + S⋅p₂ - S - T⋅p₃)), (13, 1.0⋅R), (14, 1.0⋅R), (14, -1.0⋅(P\n",
       "⋅p₄ - P - T⋅p₄)), (15, 1.0⋅R)]"
      ]
     },
     "execution_count": 409,
     "metadata": {},
     "output_type": "execute_result"
    }
   ],
   "source": [
    "payoffs"
   ]
  },
  {
   "cell_type": "code",
   "execution_count": 410,
   "id": "5d85be84",
   "metadata": {},
   "outputs": [
    {
     "data": {
      "text/plain": [
       "True"
      ]
     },
     "execution_count": 410,
     "metadata": {},
     "output_type": "execute_result"
    }
   ],
   "source": [
    "payoffs[0][1] == payoffs[2][1] == payoffs[5][1] == payoffs[8][1] == payoffs[11][1] == payoffs[15][1] == payoffs[19][1]"
   ]
  },
  {
   "cell_type": "code",
   "execution_count": 411,
   "id": "26aefe2a",
   "metadata": {},
   "outputs": [
    {
     "data": {
      "text/plain": [
       "True"
      ]
     },
     "execution_count": 411,
     "metadata": {},
     "output_type": "execute_result"
    }
   ],
   "source": [
    "payoffs[0][1] == payoffs[23][1]"
   ]
  },
  {
   "cell_type": "code",
   "execution_count": 421,
   "id": "4195b4ad",
   "metadata": {},
   "outputs": [],
   "source": [
    "wrt2 =  -(p * (- 2 + p2  + p3 ) - r * p4 + s * (p4 - 1) - t * (p2 + p3)) / 3"
   ]
  },
  {
   "cell_type": "code",
   "execution_count": 422,
   "id": "989f1df8",
   "metadata": {},
   "outputs": [
    {
     "data": {
      "image/png": "[encoded data removed]",
      "text/latex": [
       "$\\displaystyle 0$"
      ],
      "text/plain": [
       "0"
      ]
     },
     "execution_count": 422,
     "metadata": {},
     "output_type": "execute_result"
    }
   ],
   "source": [
    "(wrt2 - payoffs[1][1]).factor()"
   ]
  },
  {
   "cell_type": "code",
   "execution_count": 423,
   "id": "17b3e238",
   "metadata": {},
   "outputs": [
    {
     "data": {
      "image/png": "[encoded data removed]",
      "text/latex": [
       "$\\displaystyle - 0.5 \\cdot \\left(0.5 P p_{2} - 0.5 P - 0.5 R p_{3} - 0.5 R p_{4} + 0.5 S p_{3} + 0.5 S p_{4} - 1.0 S - 0.5 T p_{2} - 0.5 T\\right)$"
      ],
      "text/plain": [
       "-0.5⋅(0.5⋅P⋅p₂ - 0.5⋅P - 0.5⋅R⋅p₃ - 0.5⋅R⋅p₄ + 0.5⋅S⋅p₃ + 0.5⋅S⋅p₄ - S - 0.5⋅T⋅p₂ - 0.5⋅\n",
       "T)"
      ]
     },
     "execution_count": 423,
     "metadata": {},
     "output_type": "execute_result"
    }
   ],
   "source": [
    "payoffs[3][1]"
   ]
  },
  {
   "cell_type": "code",
   "execution_count": 430,
   "id": "e4e05efe",
   "metadata": {},
   "outputs": [],
   "source": [
    "wrt3 = ( p * (1 - p2) + r * (p3 + p4) - s * (p3 + p4 - 2) + t * (p2 + 1)) / 4"
   ]
  },
  {
   "cell_type": "code",
   "execution_count": 431,
   "id": "bf25d668",
   "metadata": {},
   "outputs": [
    {
     "data": {
      "image/png": "[encoded data removed]",
      "text/latex": [
       "$\\displaystyle 0$"
      ],
      "text/plain": [
       "0"
      ]
     },
     "execution_count": 431,
     "metadata": {},
     "output_type": "execute_result"
    }
   ],
   "source": [
    "(wrt3 - payoffs[3][1]).factor()"
   ]
  },
  {
   "cell_type": "code",
   "execution_count": 432,
   "id": "671454bf",
   "metadata": {},
   "outputs": [
    {
     "data": {
      "image/png": "[encoded data removed]",
      "text/latex": [
       "$\\displaystyle - 0.5 \\left(P p_{3} - P - R p_{2} + S p_{2} - S - T p_{3}\\right)$"
      ],
      "text/plain": [
       "-0.5⋅(P⋅p₃ - P - R⋅p₂ + S⋅p₂ - S - T⋅p₃)"
      ]
     },
     "execution_count": 432,
     "metadata": {},
     "output_type": "execute_result"
    }
   ],
   "source": [
    "payoffs[4][1]"
   ]
  },
  {
   "cell_type": "code",
   "execution_count": 439,
   "id": "3559164d",
   "metadata": {},
   "outputs": [],
   "source": [
    "wrt4 = (p * (- p3 + 1) + r * p2 - s * (p2 - 1) + t * p3) / 2"
   ]
  },
  {
   "cell_type": "code",
   "execution_count": 440,
   "id": "fababa94",
   "metadata": {},
   "outputs": [
    {
     "data": {
      "image/png": "[encoded data removed]",
      "text/latex": [
       "$\\displaystyle 0$"
      ],
      "text/plain": [
       "0"
      ]
     },
     "execution_count": 440,
     "metadata": {},
     "output_type": "execute_result"
    }
   ],
   "source": [
    "(wrt4 - payoffs[4][1]).expand()"
   ]
  },
  {
   "cell_type": "code",
   "execution_count": 441,
   "id": "11992fb8",
   "metadata": {},
   "outputs": [
    {
     "data": {
      "image/png": "[encoded data removed]",
      "text/latex": [
       "$\\displaystyle 0$"
      ],
      "text/plain": [
       "0"
      ]
     },
     "execution_count": 441,
     "metadata": {},
     "output_type": "execute_result"
    }
   ],
   "source": [
    "(wrt4 - payoffs[6][1]).expand()"
   ]
  },
  {
   "cell_type": "code",
   "execution_count": 442,
   "id": "8eb5018d",
   "metadata": {},
   "outputs": [
    {
     "data": {
      "image/png": "[encoded data removed]",
      "text/latex": [
       "$\\displaystyle 0.666666666666667 \\cdot \\left(0.5 R p_{2} + 0.5 R p_{3} - 0.5 S p_{2} - 0.5 S p_{3} + 1.0 S + 0.5 T\\right)$"
      ],
      "text/plain": [
       "0.666666666666667⋅(0.5⋅R⋅p₂ + 0.5⋅R⋅p₃ - 0.5⋅S⋅p₂ - 0.5⋅S⋅p₃ + 1.0⋅S + 0.5⋅T)"
      ]
     },
     "execution_count": 442,
     "metadata": {},
     "output_type": "execute_result"
    }
   ],
   "source": [
    " payoffs[7][1]"
   ]
  },
  {
   "cell_type": "code",
   "execution_count": 443,
   "id": "655ec7fa",
   "metadata": {},
   "outputs": [],
   "source": [
    "wrt5 = (r * (p2 + p3) - s * (p2 + p3 - 2) + t) / 3"
   ]
  },
  {
   "cell_type": "code",
   "execution_count": 444,
   "id": "a3f45df7",
   "metadata": {},
   "outputs": [
    {
     "data": {
      "image/png": "[encoded data removed]",
      "text/latex": [
       "$\\displaystyle 0$"
      ],
      "text/plain": [
       "0"
      ]
     },
     "execution_count": 444,
     "metadata": {},
     "output_type": "execute_result"
    }
   ],
   "source": [
    "(wrt5 - payoffs[7][1]).factor()"
   ]
  },
  {
   "cell_type": "code",
   "execution_count": 445,
   "id": "d3feb34e",
   "metadata": {},
   "outputs": [
    {
     "data": {
      "text/plain": [
       "True"
      ]
     },
     "execution_count": 445,
     "metadata": {},
     "output_type": "execute_result"
    }
   ],
   "source": [
    "payoffs[9][1] == payoffs[7][1]"
   ]
  },
  {
   "cell_type": "code",
   "execution_count": 446,
   "id": "a29863ae",
   "metadata": {},
   "outputs": [
    {
     "data": {
      "text/plain": [
       "True"
      ]
     },
     "execution_count": 446,
     "metadata": {},
     "output_type": "execute_result"
    }
   ],
   "source": [
    "payoffs[10][1] == payoffs[13][1] == payoffs[14][1] == payoffs[16][1] == payoffs[18][1] == payoffs[21][1] == payoffs[22][1]"
   ]
  },
  {
   "cell_type": "code",
   "execution_count": 447,
   "id": "41111e8d",
   "metadata": {},
   "outputs": [
    {
     "data": {
      "text/plain": [
       "True"
      ]
     },
     "execution_count": 447,
     "metadata": {},
     "output_type": "execute_result"
    }
   ],
   "source": [
    "payoffs[24][1] == payoffs[10][1] "
   ]
  },
  {
   "cell_type": "code",
   "execution_count": 448,
   "id": "755af865",
   "metadata": {},
   "outputs": [
    {
     "data": {
      "image/png": "[encoded data removed]",
      "text/latex": [
       "$\\displaystyle 0$"
      ],
      "text/plain": [
       "0"
      ]
     },
     "execution_count": 448,
     "metadata": {},
     "output_type": "execute_result"
    }
   ],
   "source": [
    "(wrt2 - payoffs[12][1]).factor()"
   ]
  },
  {
   "cell_type": "code",
   "execution_count": 449,
   "id": "7de391fb",
   "metadata": {},
   "outputs": [
    {
     "data": {
      "image/png": "[encoded data removed]",
      "text/latex": [
       "$\\displaystyle 0$"
      ],
      "text/plain": [
       "0"
      ]
     },
     "execution_count": 449,
     "metadata": {},
     "output_type": "execute_result"
    }
   ],
   "source": [
    "(wrt4 - payoffs[17][1]).factor()"
   ]
  },
  {
   "cell_type": "code",
   "execution_count": 468,
   "id": "03bb2977",
   "metadata": {},
   "outputs": [
    {
     "data": {
      "text/plain": [
       "True"
      ]
     },
     "execution_count": 468,
     "metadata": {},
     "output_type": "execute_result"
    }
   ],
   "source": [
    "payoffs[20][1] == payoffs[17][1]"
   ]
  },
  {
   "cell_type": "code",
   "execution_count": 453,
   "id": "e3e2c189",
   "metadata": {},
   "outputs": [
    {
     "data": {
      "image/png": "[encoded data removed]",
      "text/latex": [
       "$\\displaystyle 0$"
      ],
      "text/plain": [
       "0"
      ]
     },
     "execution_count": 453,
     "metadata": {},
     "output_type": "execute_result"
    }
   ],
   "source": [
    "(payoffs[0][1] - (p * (1 - p4) + t * p4)).factor()"
   ]
  },
  {
   "cell_type": "code",
   "execution_count": 455,
   "id": "827d6a32",
   "metadata": {},
   "outputs": [
    {
     "data": {
      "text/plain": [
       "P*(1 - p_4) + T*p_4"
      ]
     },
     "execution_count": 455,
     "metadata": {},
     "output_type": "execute_result"
    }
   ],
   "source": [
    "sym.init_printing(False)\n",
    "\n",
    "(p * (1 - p4) + t * p4)"
   ]
  },
  {
   "cell_type": "code",
   "execution_count": 458,
   "id": "6f20041f",
   "metadata": {},
   "outputs": [
    {
     "data": {
      "text/plain": [
       "True"
      ]
     },
     "execution_count": 458,
     "metadata": {},
     "output_type": "execute_result"
    }
   ],
   "source": [
    "payoffs[2][1] == payoffs[5][1] == payoffs[8][1] == payoffs[11][1] == payoffs[15][1] == payoffs[19][1] ==  payoffs[23][1]"
   ]
  },
  {
   "cell_type": "code",
   "execution_count": 461,
   "id": "1e5b1e69",
   "metadata": {},
   "outputs": [
    {
     "data": {
      "text/plain": [
       "(2, 4, 6, 8, 10, 12, 14)"
      ]
     },
     "execution_count": 461,
     "metadata": {},
     "output_type": "execute_result"
    }
   ],
   "source": [
    "payoffs[2][0], payoffs[5][0], payoffs[8][0], payoffs[11][0], payoffs[15][0],  payoffs[19][0],   payoffs[23][0]\n"
   ]
  },
  {
   "cell_type": "code",
   "execution_count": 462,
   "id": "6caf3316",
   "metadata": {},
   "outputs": [
    {
     "data": {
      "text/plain": [
       "-P*(p_2 + p_3 - 2)/3 + R*p_4/3 - S*(p_4 - 1)/3 + T*(p_2 + p_3)/3"
      ]
     },
     "execution_count": 462,
     "metadata": {},
     "output_type": "execute_result"
    }
   ],
   "source": [
    "wrt2"
   ]
  },
  {
   "cell_type": "code",
   "execution_count": 464,
   "id": "9032ee7d",
   "metadata": {},
   "outputs": [
    {
     "data": {
      "text/plain": [
       "(1, 9)"
      ]
     },
     "execution_count": 464,
     "metadata": {},
     "output_type": "execute_result"
    }
   ],
   "source": [
    "payoffs[1][0],  payoffs[12][0]"
   ]
  },
  {
   "cell_type": "code",
   "execution_count": 465,
   "id": "35790be0",
   "metadata": {},
   "outputs": [
    {
     "data": {
      "text/plain": [
       "P*(1 - p_2)/4 + R*(p_3 + p_4)/4 - S*(p_3 + p_4 - 2)/4 + T*(p_2 + 1)/4"
      ]
     },
     "execution_count": 465,
     "metadata": {},
     "output_type": "execute_result"
    }
   ],
   "source": [
    "wrt3"
   ]
  },
  {
   "cell_type": "code",
   "execution_count": 466,
   "id": "15ab3246",
   "metadata": {},
   "outputs": [
    {
     "data": {
      "text/plain": [
       "3"
      ]
     },
     "execution_count": 466,
     "metadata": {},
     "output_type": "execute_result"
    }
   ],
   "source": [
    " payoffs[3][0]"
   ]
  },
  {
   "cell_type": "code",
   "execution_count": 467,
   "id": "fbb8a5c8",
   "metadata": {},
   "outputs": [
    {
     "data": {
      "text/plain": [
       "P*(1 - p_3)/2 + R*p_2/2 - S*(p_2 - 1)/2 + T*p_3/2"
      ]
     },
     "execution_count": 467,
     "metadata": {},
     "output_type": "execute_result"
    }
   ],
   "source": [
    "wrt4"
   ]
  },
  {
   "cell_type": "code",
   "execution_count": 472,
   "id": "77c88197",
   "metadata": {},
   "outputs": [
    {
     "data": {
      "text/plain": [
       "True"
      ]
     },
     "execution_count": 472,
     "metadata": {},
     "output_type": "execute_result"
    }
   ],
   "source": [
    " payoffs[4][1] == payoffs[6][1] == payoffs[17][1] ==  payoffs[20][1]"
   ]
  },
  {
   "cell_type": "code",
   "execution_count": 473,
   "id": "27763fd3",
   "metadata": {},
   "outputs": [
    {
     "data": {
      "text/plain": [
       "(4, 5, 12, 13)"
      ]
     },
     "execution_count": 473,
     "metadata": {},
     "output_type": "execute_result"
    }
   ],
   "source": [
    "payoffs[4][0], payoffs[6][0], payoffs[17][0], payoffs[20][0]"
   ]
  },
  {
   "cell_type": "code",
   "execution_count": 474,
   "id": "5e95d649",
   "metadata": {},
   "outputs": [
    {
     "data": {
      "text/plain": [
       "R*(p_2 + p_3)/3 - S*(p_2 + p_3 - 2)/3 + T/3"
      ]
     },
     "execution_count": 474,
     "metadata": {},
     "output_type": "execute_result"
    }
   ],
   "source": [
    "wrt5"
   ]
  },
  {
   "cell_type": "code",
   "execution_count": 475,
   "id": "6e313355",
   "metadata": {},
   "outputs": [
    {
     "data": {
      "text/plain": [
       "True"
      ]
     },
     "execution_count": 475,
     "metadata": {},
     "output_type": "execute_result"
    }
   ],
   "source": [
    "payoffs[9][1] == payoffs[7][1]"
   ]
  },
  {
   "cell_type": "code",
   "execution_count": 476,
   "id": "c90d22e6",
   "metadata": {},
   "outputs": [
    {
     "data": {
      "text/plain": [
       "(7, 6)"
      ]
     },
     "execution_count": 476,
     "metadata": {},
     "output_type": "execute_result"
    }
   ],
   "source": [
    "payoffs[9][0], payoffs[7][0]"
   ]
  },
  {
   "cell_type": "code",
   "execution_count": 477,
   "id": "79b6defe",
   "metadata": {},
   "outputs": [
    {
     "data": {
      "text/plain": [
       "True"
      ]
     },
     "execution_count": 477,
     "metadata": {},
     "output_type": "execute_result"
    }
   ],
   "source": [
    "payoffs[10][1] == payoffs[13][1] == payoffs[14][1] == payoffs[16][1] == payoffs[18][1] == payoffs[21][1] == payoffs[22][1] == payoffs[24][1]"
   ]
  },
  {
   "cell_type": "code",
   "execution_count": 479,
   "id": "3e018f80",
   "metadata": {},
   "outputs": [
    {
     "data": {
      "text/plain": [
       "(8, 9, 10, 11, 12, 13, 14, 15)"
      ]
     },
     "execution_count": 479,
     "metadata": {},
     "output_type": "execute_result"
    }
   ],
   "source": [
    "payoffs[10][0], payoffs[13][0], payoffs[14][0], payoffs[16][0], payoffs[18][0], payoffs[21][0], payoffs[22][0], payoffs[24][0]\n"
   ]
  },
  {
   "cell_type": "code",
   "execution_count": 481,
   "id": "8c9b7565",
   "metadata": {},
   "outputs": [
    {
     "data": {
      "image/png": "[encoded data removed]",
      "text/latex": [
       "$\\displaystyle - \\frac{P \\left(p_{2} + p_{3} - 2\\right)}{3} + \\frac{R p_{4}}{3} - \\frac{S \\left(p_{4} - 1\\right)}{3} + \\frac{T \\left(p_{2} + p_{3}\\right)}{3}$"
      ],
      "text/plain": [
       "  P⋅(p₂ + p₃ - 2)   R⋅p₄   S⋅(p₄ - 1)   T⋅(p₂ + p₃)\n",
       "- ─────────────── + ──── - ────────── + ───────────\n",
       "         3           3         3             3     "
      ]
     },
     "execution_count": 481,
     "metadata": {},
     "output_type": "execute_result"
    }
   ],
   "source": [
    "sym.init_printing(True)\n",
    "\n",
    "wrt2"
   ]
  },
  {
   "cell_type": "code",
   "execution_count": 485,
   "id": "1d57b308",
   "metadata": {},
   "outputs": [
    {
     "data": {
      "image/png": "[encoded data removed]",
      "text/latex": [
       "$\\displaystyle \\left[ \\frac{P - R}{P - T}\\right]$"
      ],
      "text/plain": [
       "⎡P - R⎤\n",
       "⎢─────⎥\n",
       "⎣P - T⎦"
      ]
     },
     "execution_count": 485,
     "metadata": {},
     "output_type": "execute_result"
    }
   ],
   "source": [
    "sym.solve(payoffs[0][1] - r, p4)"
   ]
  },
  {
   "cell_type": "code",
   "execution_count": 515,
   "id": "d2dd48d8",
   "metadata": {},
   "outputs": [],
   "source": [
    "x = sym.solve(wrt2.subs({t:1, s:0}).factor(), p3)[0]"
   ]
  },
  {
   "cell_type": "code",
   "execution_count": 516,
   "id": "66462a33",
   "metadata": {},
   "outputs": [],
   "source": [
    "y = sym.solve(wrt3.subs({t:1, s:0}).factor(), p3)[0]"
   ]
  },
  {
   "cell_type": "code",
   "execution_count": 520,
   "id": "cb65b720",
   "metadata": {},
   "outputs": [
    {
     "data": {
      "image/png": "[encoded data removed]",
      "text/latex": [
       "$\\displaystyle \\frac{P^{2} p_{2} - P^{2} + P R p_{2} - P R p_{4} - 2 P R - 2 P p_{2} - R^{2} p_{4} - R p_{2} + R p_{4} + p_{2} + 1}{R \\left(P - 1\\right)}$"
      ],
      "text/plain": [
       " 2       2                                       2                          \n",
       "P ⋅p₂ - P  + P⋅R⋅p₂ - P⋅R⋅p₄ - 2⋅P⋅R - 2⋅P⋅p₂ - R ⋅p₄ - R⋅p₂ + R⋅p₄ + p₂ + 1\n",
       "────────────────────────────────────────────────────────────────────────────\n",
       "                                 R⋅(P - 1)                                  "
      ]
     },
     "execution_count": 520,
     "metadata": {},
     "output_type": "execute_result"
    }
   ],
   "source": [
    "(y - x).factor()"
   ]
  },
  {
   "cell_type": "code",
   "execution_count": 521,
   "id": "10d7b21d",
   "metadata": {},
   "outputs": [
    {
     "data": {
      "image/png": "[encoded data removed]",
      "text/latex": [
       "$\\displaystyle \\frac{- P p_{2} + 2 P + R p_{4} + p_{2}}{P - 1}$"
      ],
      "text/plain": [
       "-P⋅p₂ + 2⋅P + R⋅p₄ + p₂\n",
       "───────────────────────\n",
       "         P - 1         "
      ]
     },
     "execution_count": 521,
     "metadata": {},
     "output_type": "execute_result"
    }
   ],
   "source": [
    "x"
   ]
  },
  {
   "cell_type": "code",
   "execution_count": 522,
   "id": "996d3247",
   "metadata": {},
   "outputs": [
    {
     "data": {
      "image/png": "[encoded data removed]",
      "text/latex": [
       "$\\displaystyle \\frac{P p_{2} - P - R p_{4} - p_{2} - 1}{R}$"
      ],
      "text/plain": [
       "P⋅p₂ - P - R⋅p₄ - p₂ - 1\n",
       "────────────────────────\n",
       "           R            "
      ]
     },
     "execution_count": 522,
     "metadata": {},
     "output_type": "execute_result"
    }
   ],
   "source": [
    "y"
   ]
  },
  {
   "cell_type": "code",
   "execution_count": 510,
   "id": "2d41f08b",
   "metadata": {},
   "outputs": [
    {
     "data": {
      "image/png": "[encoded data removed]",
      "text/latex": [
       "$\\displaystyle \\left[ \\frac{P p_{3} - P - p_{3}}{R}\\right]$"
      ],
      "text/plain": [
       "⎡P⋅p₃ - P - p₃⎤\n",
       "⎢─────────────⎥\n",
       "⎣      R      ⎦"
      ]
     },
     "execution_count": 510,
     "metadata": {},
     "output_type": "execute_result"
    }
   ],
   "source": [
    "sym.solve(wrt4.subs({t:1, s:0}).factor(), p2)"
   ]
  },
  {
   "cell_type": "code",
   "execution_count": 511,
   "id": "974dbde6",
   "metadata": {},
   "outputs": [
    {
     "data": {
      "image/png": "[encoded data removed]",
      "text/latex": [
       "$\\displaystyle \\left[ - p_{3} - \\frac{1}{R}\\right]$"
      ],
      "text/plain": [
       "⎡      1⎤\n",
       "⎢-p₃ - ─⎥\n",
       "⎣      R⎦"
      ]
     },
     "execution_count": 511,
     "metadata": {},
     "output_type": "execute_result"
    }
   ],
   "source": [
    "sym.solve(wrt5.subs({t:1, s:0}).factor(), p2)"
   ]
  },
  {
   "cell_type": "code",
   "execution_count": 523,
   "id": "01518065",
   "metadata": {},
   "outputs": [
    {
     "data": {
      "image/png": "[encoded data removed]",
      "text/latex": [
       "$\\displaystyle - \\frac{P \\left(p_{2} + p_{3} - 2\\right)}{3} + \\frac{R p_{4}}{3} - \\frac{S \\left(p_{4} - 1\\right)}{3} + \\frac{T \\left(p_{2} + p_{3}\\right)}{3}$"
      ],
      "text/plain": [
       "  P⋅(p₂ + p₃ - 2)   R⋅p₄   S⋅(p₄ - 1)   T⋅(p₂ + p₃)\n",
       "- ─────────────── + ──── - ────────── + ───────────\n",
       "         3           3         3             3     "
      ]
     },
     "execution_count": 523,
     "metadata": {},
     "output_type": "execute_result"
    }
   ],
   "source": []
  },
  {
   "cell_type": "code",
   "execution_count": 530,
   "id": "2d1ad52f",
   "metadata": {},
   "outputs": [
    {
     "data": {
      "image/png": "[encoded data removed]",
      "text/latex": [
       "$\\displaystyle \\frac{P \\left(1 - p_{2}\\right)}{4} + \\frac{R \\left(p_{3} + p_{4}\\right)}{4} + \\frac{p_{2}}{4} + \\frac{1}{4}$"
      ],
      "text/plain": [
       "P⋅(1 - p₂)   R⋅(p₃ + p₄)   p₂   1\n",
       "────────── + ─────────── + ── + ─\n",
       "    4             4        4    4"
      ]
     },
     "execution_count": 530,
     "metadata": {},
     "output_type": "execute_result"
    }
   ],
   "source": [
    "wrt3.subs({t:1, s:0})"
   ]
  },
  {
   "cell_type": "code",
   "execution_count": 528,
   "id": "36ec783d",
   "metadata": {},
   "outputs": [
    {
     "data": {
      "image/png": "[encoded data removed]",
      "text/latex": [
       "$\\displaystyle - \\frac{P \\left(p_{2} + p_{3} - 2\\right)}{3} + \\frac{R p_{4}}{3} + \\frac{p_{2}}{3} + \\frac{p_{3}}{3}$"
      ],
      "text/plain": [
       "  P⋅(p₂ + p₃ - 2)   R⋅p₄   p₂   p₃\n",
       "- ─────────────── + ──── + ── + ──\n",
       "         3           3     3    3 "
      ]
     },
     "execution_count": 528,
     "metadata": {},
     "output_type": "execute_result"
    }
   ],
   "source": [
    "wrt2.subs({t:1, s:0})"
   ]
  },
  {
   "cell_type": "code",
   "execution_count": 531,
   "id": "605d84f5",
   "metadata": {},
   "outputs": [
    {
     "data": {
      "image/png": "[encoded data removed]",
      "text/latex": [
       "$\\displaystyle \\frac{R \\left(p_{2} + p_{3}\\right)}{3} + \\frac{1}{3}$"
      ],
      "text/plain": [
       "R⋅(p₂ + p₃)   1\n",
       "─────────── + ─\n",
       "     3        3"
      ]
     },
     "execution_count": 531,
     "metadata": {},
     "output_type": "execute_result"
    }
   ],
   "source": [
    "wrt5.subs({t:1, s:0})"
   ]
  },
  {
   "cell_type": "code",
   "execution_count": 534,
   "id": "53daa71b",
   "metadata": {},
   "outputs": [
    {
     "data": {
      "image/png": "[encoded data removed]",
      "text/latex": [
       "$\\displaystyle - 1.0 P p_{4} + 1.0 P + 1.0 p_{4}$"
      ],
      "text/plain": [
       "-P⋅p₄ + 1.0⋅P + 1.0⋅p₄"
      ]
     },
     "execution_count": 534,
     "metadata": {},
     "output_type": "execute_result"
    }
   ],
   "source": [
    "payoffs[0][1].subs({t:1, s:0})"
   ]
  },
  {
   "cell_type": "code",
   "execution_count": 536,
   "id": "704b7fd0",
   "metadata": {},
   "outputs": [
    {
     "data": {
      "image/png": "[encoded data removed]",
      "text/latex": [
       "$\\displaystyle - 1.0 P p_{4} + 1.0 P + 1.0 p_{4}$"
      ],
      "text/plain": [
       "-P⋅p₄ + 1.0⋅P + 1.0⋅p₄"
      ]
     },
     "execution_count": 536,
     "metadata": {},
     "output_type": "execute_result"
    }
   ],
   "source": [
    "payoffs[0][1].subs({t:1, s:0})"
   ]
  },
  {
   "cell_type": "code",
   "execution_count": 542,
   "id": "9dcd7c43",
   "metadata": {},
   "outputs": [
    {
     "data": {
      "image/png": "[encoded data removed]",
      "text/latex": [
       "$\\displaystyle - \\frac{P \\left(p_{2} + p_{3} - 2\\right)}{3} + \\frac{R p_{4}}{3} + \\frac{p_{2}}{3} + \\frac{p_{3}}{3}$"
      ],
      "text/plain": [
       "  P⋅(p₂ + p₃ - 2)   R⋅p₄   p₂   p₃\n",
       "- ─────────────── + ──── + ── + ──\n",
       "         3           3     3    3 "
      ]
     },
     "execution_count": 542,
     "metadata": {},
     "output_type": "execute_result"
    }
   ],
   "source": [
    "wrt2.subs({t:1, s:0})"
   ]
  },
  {
   "cell_type": "code",
   "execution_count": 543,
   "id": "8b9a18a6",
   "metadata": {},
   "outputs": [
    {
     "data": {
      "image/png": "[encoded data removed]",
      "text/latex": [
       "$\\displaystyle \\frac{P \\left(1 - p_{2}\\right)}{4} + \\frac{R \\left(p_{3} + p_{4}\\right)}{4} + \\frac{p_{2}}{4} + \\frac{1}{4}$"
      ],
      "text/plain": [
       "P⋅(1 - p₂)   R⋅(p₃ + p₄)   p₂   1\n",
       "────────── + ─────────── + ── + ─\n",
       "    4             4        4    4"
      ]
     },
     "execution_count": 543,
     "metadata": {},
     "output_type": "execute_result"
    }
   ],
   "source": [
    "wrt3.subs({t:1, s:0})"
   ]
  },
  {
   "cell_type": "code",
   "execution_count": 544,
   "id": "471239ff",
   "metadata": {},
   "outputs": [
    {
     "data": {
      "image/png": "[encoded data removed]",
      "text/latex": [
       "$\\displaystyle \\frac{P \\left(1 - p_{3}\\right)}{2} + \\frac{R p_{2}}{2} + \\frac{p_{3}}{2}$"
      ],
      "text/plain": [
       "P⋅(1 - p₃)   R⋅p₂   p₃\n",
       "────────── + ──── + ──\n",
       "    2         2     2 "
      ]
     },
     "execution_count": 544,
     "metadata": {},
     "output_type": "execute_result"
    }
   ],
   "source": [
    "wrt4.subs({t:1, s:0})"
   ]
  },
  {
   "cell_type": "code",
   "execution_count": 545,
   "id": "c6e9a60e",
   "metadata": {},
   "outputs": [
    {
     "data": {
      "image/png": "[encoded data removed]",
      "text/latex": [
       "$\\displaystyle \\frac{R \\left(p_{2} + p_{3}\\right)}{3} + \\frac{1}{3}$"
      ],
      "text/plain": [
       "R⋅(p₂ + p₃)   1\n",
       "─────────── + ─\n",
       "     3        3"
      ]
     },
     "execution_count": 545,
     "metadata": {},
     "output_type": "execute_result"
    }
   ],
   "source": [
    "wrt5.subs({t:1, s:0})"
   ]
  },
  {
   "cell_type": "code",
   "execution_count": 551,
   "id": "f5f2fc40",
   "metadata": {},
   "outputs": [
    {
     "name": "stdout",
     "output_type": "stream",
     "text": [
      "\\frac{P - R}{P - T}\n"
     ]
    }
   ],
   "source": [
    "print(sym.latex(sym.solve(payoffs[0][1] - r, p4)[0]))"
   ]
  },
  {
   "cell_type": "code",
   "execution_count": 561,
   "id": "2bddb051",
   "metadata": {},
   "outputs": [
    {
     "data": {
      "text/plain": [
       "'\\\\frac{3 R - 2 S - T}{R - S}'"
      ]
     },
     "execution_count": 561,
     "metadata": {},
     "output_type": "execute_result"
    }
   ],
   "source": [
    "sym.latex(sym.solve(wrt5 - r, p2 + p3)[0].simplify())"
   ]
  },
  {
   "cell_type": "code",
   "execution_count": 574,
   "id": "2528a03b",
   "metadata": {},
   "outputs": [
    {
     "name": "stdout",
     "output_type": "stream",
     "text": [
      "\\frac{P}{2} - R + \\frac{S}{2} + p_{2} \\left(\\frac{R}{2} - \\frac{S}{2}\\right) + p_{3} \\left(- \\frac{P}{2} + \\frac{T}{2}\\right)\n"
     ]
    }
   ],
   "source": [
    "print(sym.latex(wrt4.expand().collect(p2).collect(p3) - r))"
   ]
  },
  {
   "cell_type": "code",
   "execution_count": 584,
   "id": "e22f7b44",
   "metadata": {},
   "outputs": [
    {
     "data": {
      "image/png": "[encoded data removed]",
      "text/latex": [
       "$\\displaystyle \\left[ \\frac{P + R p_{3} + R p_{4} - 4 R - S p_{3} - S p_{4} + 2 S + T}{P - T}\\right]$"
      ],
      "text/plain": [
       "⎡P + R⋅p₃ + R⋅p₄ - 4⋅R - S⋅p₃ - S⋅p₄ + 2⋅S + T⎤\n",
       "⎢─────────────────────────────────────────────⎥\n",
       "⎣                    P - T                    ⎦"
      ]
     },
     "execution_count": 584,
     "metadata": {},
     "output_type": "execute_result"
    }
   ],
   "source": [
    "sym.solve(wrt3.factor().collect(p3 + p4).collect(p2) - r, p2)"
   ]
  },
  {
   "cell_type": "code",
   "execution_count": 585,
   "id": "50766195",
   "metadata": {},
   "outputs": [
    {
     "data": {
      "image/png": "[encoded data removed]",
      "text/latex": [
       "$\\displaystyle \\frac{P \\left(1 - p_{2}\\right)}{4} + \\frac{R \\left(p_{3} + p_{4}\\right)}{4} - \\frac{S \\left(p_{3} + p_{4} - 2\\right)}{4} + \\frac{T \\left(p_{2} + 1\\right)}{4}$"
      ],
      "text/plain": [
       "P⋅(1 - p₂)   R⋅(p₃ + p₄)   S⋅(p₃ + p₄ - 2)   T⋅(p₂ + 1)\n",
       "────────── + ─────────── - ─────────────── + ──────────\n",
       "    4             4               4              4     "
      ]
     },
     "execution_count": 585,
     "metadata": {},
     "output_type": "execute_result"
    }
   ],
   "source": [
    "wrt3"
   ]
  },
  {
   "cell_type": "code",
   "execution_count": 590,
   "id": "7f2cf7d8",
   "metadata": {},
   "outputs": [
    {
     "data": {
      "image/png": "[encoded data removed]",
      "text/latex": [
       "$\\displaystyle 0$"
      ],
      "text/plain": [
       "0"
      ]
     },
     "execution_count": 590,
     "metadata": {},
     "output_type": "execute_result"
    }
   ],
   "source": [
    "(wrt3 - ((p3 + p4) * (r - s) + 2 * s + p2 * (t - p) + p + t) / 4).factor()"
   ]
  },
  {
   "cell_type": "code",
   "execution_count": 632,
   "id": "aa4c3775",
   "metadata": {},
   "outputs": [
    {
     "name": "stdout",
     "output_type": "stream",
     "text": [
      "\\frac{P p_{2} - P - 2 S - T p_{2} - T}{R - S}\n"
     ]
    }
   ],
   "source": [
    "print(sym.latex(sym.solve(((p3 + p4) * (r - s) + 2 * s + p2 * (t - p) + p + t) / 4, p3 + p4)[0]))"
   ]
  },
  {
   "cell_type": "code",
   "execution_count": 644,
   "id": "9966ba57",
   "metadata": {},
   "outputs": [
    {
     "data": {
      "image/png": "[encoded data removed]",
      "text/latex": [
       "$\\displaystyle \\frac{2 P + R p_{4} - 3 R - S p_{4} + S}{P - T}$"
      ],
      "text/plain": [
       "2⋅P + R⋅p₄ - 3⋅R - S⋅p₄ + S\n",
       "───────────────────────────\n",
       "           P - T           "
      ]
     },
     "execution_count": 644,
     "metadata": {},
     "output_type": "execute_result"
    }
   ],
   "source": [
    "sym.solve(wrt2 - r, p2 + p3)[0]"
   ]
  },
  {
   "cell_type": "code",
   "execution_count": 641,
   "id": "ffb66c5f",
   "metadata": {},
   "outputs": [
    {
     "name": "stdout",
     "output_type": "stream",
     "text": [
      "\\frac{2 P + R p_{4} - 3 R - S p_{4} + S}{P - T}\n"
     ]
    }
   ],
   "source": [
    "print(sym.latex(sym.solve(wrt2 - r, p2 + p3)[0].factor()))"
   ]
  },
  {
   "cell_type": "code",
   "execution_count": 602,
   "id": "f5570d07",
   "metadata": {},
   "outputs": [],
   "source": [
    "e5 = (2 * r - p - p3 * (1 - p)) / r"
   ]
  },
  {
   "cell_type": "code",
   "execution_count": 619,
   "id": "b9059d67",
   "metadata": {},
   "outputs": [],
   "source": [
    "e6 = (3 *  r - 1) / r - p3"
   ]
  },
  {
   "cell_type": "code",
   "execution_count": 620,
   "id": "2666506f",
   "metadata": {},
   "outputs": [
    {
     "data": {
      "image/png": "[encoded data removed]",
      "text/latex": [
       "$\\displaystyle \\left[ 1 - P\\right]$"
      ],
      "text/plain": [
       "[1 - P]"
      ]
     },
     "execution_count": 620,
     "metadata": {},
     "output_type": "execute_result"
    }
   ],
   "source": [
    "sym.solve((e6 - e5).expand(), r)"
   ]
  },
  {
   "cell_type": "code",
   "execution_count": 621,
   "id": "c88cf3fe",
   "metadata": {},
   "outputs": [
    {
     "data": {
      "image/png": "[encoded data removed]",
      "text/latex": [
       "$\\displaystyle 0$"
      ],
      "text/plain": [
       "0"
      ]
     },
     "execution_count": 621,
     "metadata": {},
     "output_type": "execute_result"
    }
   ],
   "source": [
    "(e6 - e5).subs({r: 1 - p}).factor()"
   ]
  },
  {
   "cell_type": "code",
   "execution_count": 639,
   "id": "9c9b3d6d",
   "metadata": {},
   "outputs": [
    {
     "data": {
      "image/png": "[encoded data removed]",
      "text/latex": [
       "$\\displaystyle \\frac{P p_{2} - P - p_{2} - 1}{R}$"
      ],
      "text/plain": [
       "P⋅p₂ - P - p₂ - 1\n",
       "─────────────────\n",
       "        R        "
      ]
     },
     "execution_count": 639,
     "metadata": {},
     "output_type": "execute_result"
    }
   ],
   "source": [
    "sym.solve(wrt3.subs({t:1, s:0}).factor().collect(r), p3 + p4)[0].simplify()"
   ]
  },
  {
   "cell_type": "code",
   "execution_count": 640,
   "id": "29b3880a",
   "metadata": {},
   "outputs": [
    {
     "data": {
      "image/png": "[encoded data removed]",
      "text/latex": [
       "$\\displaystyle - P + p_{2} \\left(P - 1\\right) - 1$"
      ],
      "text/plain": [
       "-P + p₂⋅(P - 1) - 1"
      ]
     },
     "execution_count": 640,
     "metadata": {},
     "output_type": "execute_result"
    }
   ],
   "source": [
    "p2 * (p - 1) - p - 1"
   ]
  },
  {
   "cell_type": "code",
   "execution_count": 631,
   "id": "df07048e",
   "metadata": {},
   "outputs": [
    {
     "data": {
      "image/png": "[encoded data removed]",
      "text/latex": [
       "$\\displaystyle \\frac{P}{2}$"
      ],
      "text/plain": [
       "P\n",
       "─\n",
       "2"
      ]
     },
     "execution_count": 631,
     "metadata": {},
     "output_type": "execute_result"
    }
   ],
   "source": [
    "((1 + p2) * (1 - p) + (p3 + p4) * r)"
   ]
  },
  {
   "cell_type": "code",
   "execution_count": 633,
   "id": "7e0ef65b",
   "metadata": {},
   "outputs": [
    {
     "data": {
      "image/png": "[encoded data removed]",
      "text/latex": [
       "$\\displaystyle \\frac{P \\left(1 - p_{2}\\right)}{4} + \\frac{R \\left(p_{3} + p_{4}\\right)}{4} - \\frac{S \\left(p_{3} + p_{4} - 2\\right)}{4} + \\frac{T \\left(p_{2} + 1\\right)}{4}$"
      ],
      "text/plain": [
       "P⋅(1 - p₂)   R⋅(p₃ + p₄)   S⋅(p₃ + p₄ - 2)   T⋅(p₂ + 1)\n",
       "────────── + ─────────── - ─────────────── + ──────────\n",
       "    4             4               4              4     "
      ]
     },
     "execution_count": 633,
     "metadata": {},
     "output_type": "execute_result"
    }
   ],
   "source": [
    "wrt3.subs(t)"
   ]
  },
  {
   "cell_type": "code",
   "execution_count": null,
   "id": "2eadda1c",
   "metadata": {},
   "outputs": [],
   "source": []
  }
 ],
 "metadata": {
  "kernelspec": {
   "display_name": "Python 3 (ipykernel)",
   "language": "python",
   "name": "python3"
  },
  "language_info": {
   "codemirror_mode": {
    "name": "ipython",
    "version": 3
   },
   "file_extension": ".py",
   "mimetype": "text/x-python",
   "name": "python",
   "nbconvert_exporter": "python",
   "pygments_lexer": "ipython3",
   "version": "3.11.3"
  }
 },
 "nbformat": 4,
 "nbformat_minor": 5
}
