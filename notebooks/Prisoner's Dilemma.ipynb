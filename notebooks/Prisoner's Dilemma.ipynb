{
 "cells": [
  {
   "cell_type": "code",
   "execution_count": 1,
   "id": "8a70e4da",
   "metadata": {},
   "outputs": [],
   "source": [
    "import sympy as sym\n",
    "\n",
    "import numpy as np\n",
    "\n",
    "import repeated_play"
   ]
  },
  {
   "cell_type": "code",
   "execution_count": 2,
   "id": "18cd46f8",
   "metadata": {},
   "outputs": [],
   "source": [
    "import itertools"
   ]
  },
  {
   "cell_type": "code",
   "execution_count": 3,
   "id": "16156042",
   "metadata": {},
   "outputs": [],
   "source": [
    "def trnsf_transition_m_memory_two(player, analytical=True):\n",
    "    \n",
    "    if analytical == True:\n",
    "        M = sym.Matrix([[player[0], (1 - player[0]), 0, 0],\n",
    "                        [0, 0, player[1], (1 - player[1])],\n",
    "                        [player[2], (1 - player[2]), 0, 0],\n",
    "                        [0, 0, player[3], (1 - player[3])]])\n",
    "    else:\n",
    "        M = np.array([[player[0], (1 - player[0]), 0, 0],\n",
    "                        [0, 0, player[1], (1 - player[1])],\n",
    "                        [player[2], (1 - player[2]), 0, 0],\n",
    "                        [0, 0, player[3], (1 - player[3])]])\n",
    "    \n",
    "    \n",
    "    return M"
   ]
  },
  {
   "cell_type": "code",
   "execution_count": 4,
   "id": "9dd0a3fc",
   "metadata": {},
   "outputs": [],
   "source": [
    "def trnsf_transition_m_memory_three(player, analytical=True):\n",
    "    \n",
    "    if analytical == False:\n",
    "    \n",
    "        return np.array([[coplayer[0], (1 - coplayer[0]), 0, 0, 0, 0, 0, 0],\n",
    "                        [0, 0, coplayer[1], (1 - coplayer[1]), 0, 0, 0, 0],\n",
    "                        [0, 0, 0, 0, coplayer[2], (1 - coplayer[2]), 0, 0],\n",
    "                        [0, 0, 0, 0, 0, 0, coplayer[3], (1 - coplayer[3])],\n",
    "                        [coplayer[4], (1 - coplayer[4]), 0, 0, 0, 0, 0, 0],\n",
    "                        [0, 0, coplayer[5], (1 - coplayer[5]), 0, 0, 0, 0],\n",
    "                        [0, 0, 0, 0, coplayer[6], (1 - coplayer[6]), 0, 0],\n",
    "                        [0, 0, 0, 0, 0, 0, coplayer[7], (1 - coplayer[7])]])\n",
    "    \n",
    "    if analytical == True:\n",
    "\n",
    "        return sym.Matrix([[coplayer[0], (1 - coplayer[0]), 0, 0, 0, 0, 0, 0],\n",
    "                        [0, 0, coplayer[1], (1 - coplayer[1]), 0, 0, 0, 0],\n",
    "                        [0, 0, 0, 0, coplayer[2], (1 - coplayer[2]), 0, 0],\n",
    "                        [0, 0, 0, 0, 0, 0, coplayer[3], (1 - coplayer[3])],\n",
    "                        [coplayer[4], (1 - coplayer[4]), 0, 0, 0, 0, 0, 0],\n",
    "                        [0, 0, coplayer[5], (1 - coplayer[5]), 0, 0, 0, 0],\n",
    "                        [0, 0, 0, 0, coplayer[6], (1 - coplayer[6]), 0, 0],\n",
    "                        [0, 0, 0, 0, 0, 0, coplayer[7], (1 - coplayer[7])]])"
   ]
  },
  {
   "cell_type": "code",
   "execution_count": 5,
   "id": "e2c1ee10",
   "metadata": {},
   "outputs": [],
   "source": [
    "r, s, t, p = sym.symbols(\"R, S, T, P\")"
   ]
  },
  {
   "cell_type": "code",
   "execution_count": 6,
   "id": "12c234d1",
   "metadata": {},
   "outputs": [],
   "source": [
    "b, c = sym.symbols(\"b, c\")"
   ]
  },
  {
   "cell_type": "code",
   "execution_count": 7,
   "id": "a6b8da72",
   "metadata": {},
   "outputs": [],
   "source": [
    "q1, q2, q3, q4 = sym.symbols(r\"\\tilde{p}_1, \\tilde{p}_2, \\tilde{p}_3, \\tilde{p}_4\")"
   ]
  },
  {
   "cell_type": "code",
   "execution_count": 8,
   "id": "c797cd95",
   "metadata": {},
   "outputs": [],
   "source": [
    "p1, p2, p3, p4 = sym.symbols(r\"p_1, p_2, p_3, p_4\")"
   ]
  },
  {
   "cell_type": "markdown",
   "id": "c7634d8b",
   "metadata": {},
   "source": [
    "### $n=2$"
   ]
  },
  {
   "cell_type": "code",
   "execution_count": 9,
   "id": "41f51557",
   "metadata": {},
   "outputs": [],
   "source": [
    "M = trnsf_transition_m_memory_two([q1, q2, q3, q4], analytical=True)"
   ]
  },
  {
   "cell_type": "markdown",
   "id": "359ede1f",
   "metadata": {},
   "source": [
    "Then the payoff of the self-reactive player in the general repeated prisoner's dilemma is \n",
    "\n",
    "\n",
    "$pi(q,p) = aR \\cdot R + aS \\cdot S + aT \\cdot T + aP \\cdot P.$\n",
    "\n",
    "Here, the coefficients are, for example:\n",
    "\n",
    "$aR = vCC  pCC  qCC + vCD  pCD  qCD + vDC  pDC  qDC + vDD  pDD  qDD. $"
   ]
  },
  {
   "cell_type": "code",
   "execution_count": 10,
   "id": "01a4c780",
   "metadata": {},
   "outputs": [],
   "source": [
    "pure_self_reactive = list(itertools.product([0, 1], repeat=4))"
   ]
  },
  {
   "cell_type": "code",
   "execution_count": 11,
   "id": "4f5b218b",
   "metadata": {},
   "outputs": [],
   "source": [
    "r, s, t, p = 3, 0, 5, 1\n",
    "\n",
    "q_v1, q_v2, q_v3, q_v4 = pure_self_reactive[1]\n",
    "\n",
    "np.random.seed(0)\n",
    "\n",
    "p1, p2, p3, p4 = np.random.random(4)\n",
    "\n",
    "player = [p1, p2, p3, p4]\n",
    "    \n",
    "coplayer = [q_v1, q_v2, q_v3, q_v4]\n",
    "\n",
    "M = trnsf_transition_m_memory_two(coplayer, analytical=False)\n",
    "\n",
    "ss = repeated_play.stationary_distribution(M)[0]\n",
    "\n",
    "rho_q = ss[0] + ss[1]\n",
    "\n",
    "rho_p = sum([ss[i] * player[i] for i in range(4)])\n",
    "\n",
    "x1 = sum([ss[i] * player[i] * coplayer[i] for i in range(4)])\n",
    "x2 = sum([ss[i] * player[i] * (1 - coplayer[i]) for i in range(4)])\n",
    "x3 = sum([ss[i] * (1 - player[i]) * coplayer[i] for i in range(4)])\n",
    "x4 = sum([ss[i] * (1 - player[i]) * (1 - coplayer[i]) for i in range(4)])\n",
    "\n",
    "payoff = (x1 * r + x2 * s + x3  * t + x4  * p)\n",
    "\n",
    "\n",
    "M2 = repeated_play.transition_matrix_repeated_game([p1, p2, p1, p2, p3, p4, p3, p4, \n",
    "                                                    p1, p2, p1, p2, p3, p4, p3, p4],\n",
    "                                                   [q_v1, q_v1, q_v2, q_v2, q_v1, q_v1, q_v2, q_v2, \n",
    "                                                    q_v3, q_v3, q_v4, q_v4, q_v3, q_v3, q_v4, q_v4],\n",
    "                                                   memory=\"two\",\n",
    "                                                   analytical=False)\n",
    "\n",
    "ss2 = repeated_play.stationary_distribution(M2, analytical=False)\n",
    "\n",
    "assert np.isclose(payoff, sum(ss2 @ np.array([r, s, t, p] * 4)))"
   ]
  },
  {
   "cell_type": "code",
   "execution_count": 12,
   "id": "95e033d2",
   "metadata": {},
   "outputs": [],
   "source": [
    "r, s, t, p = 3, 0, 5, 1\n",
    "\n",
    "q_v1, q_v2, q_v3, q_v4 = pure_self_reactive[1]\n",
    "\n",
    "np.random.seed(0)\n",
    "\n",
    "p1, p2, p3, p4 = np.random.random(4)\n",
    "\n",
    "player = [p1, p2, p3, p4]\n",
    "    \n",
    "coplayer = [q_v1, q_v2, q_v3, q_v4]\n",
    "\n",
    "M = trnsf_transition_m_memory_two(coplayer, analytical=False)\n",
    "\n",
    "ss = repeated_play.stationary_distribution(M)[0]\n",
    "\n",
    "rho_q = ss[0] + ss[1]\n",
    "\n",
    "rho_p = sum([ss[i] * player[i] for i in range(4)])\n",
    "\n",
    "x1 = sum([ss[i] * player[i] * coplayer[i] for i in range(4)])\n",
    "x2 = sum([ss[i] * player[i] * (1 - coplayer[i]) for i in range(4)])\n",
    "x3 = sum([ss[i] * (1 - player[i]) * coplayer[i] for i in range(4)])\n",
    "x4 = sum([ss[i] * (1 - player[i]) * (1 - coplayer[i]) for i in range(4)])\n",
    "\n",
    "payoff2 = (x1 * r + x3 * s + x2  * t + x4  * p)\n",
    "\n",
    "\n",
    "M2 = repeated_play.transition_matrix_repeated_game([p1, p2, p1, p2, p3, p4, p3, p4, \n",
    "                                                    p1, p2, p1, p2, p3, p4, p3, p4],\n",
    "                                                   [q_v1, q_v1, q_v2, q_v2, q_v1, q_v1, q_v2, q_v2, \n",
    "                                                    q_v3, q_v3, q_v4, q_v4, q_v3, q_v3, q_v4, q_v4],\n",
    "                                                   memory=\"two\",\n",
    "                                                   analytical=False)\n",
    "\n",
    "ss2 = repeated_play.stationary_distribution(M2, analytical=False)\n",
    "\n",
    "assert np.isclose(payoff2, sum(ss2 @ np.array([r, t, s, p] * 4)))"
   ]
  },
  {
   "cell_type": "markdown",
   "id": "e640970c",
   "metadata": {},
   "source": [
    "### Analytical Expressions"
   ]
  },
  {
   "cell_type": "code",
   "execution_count": 13,
   "id": "1b79fe1d",
   "metadata": {},
   "outputs": [],
   "source": [
    "p1, p2, p3, p4 = sym.symbols(r\"p_1, p_2, p_3, p_4\")\n",
    "\n",
    "player = [1, p2, p3, p4]\n",
    "\n",
    "r, s, t, p = sym.symbols(\"R, S, T, P\")"
   ]
  },
  {
   "cell_type": "code",
   "execution_count": 14,
   "id": "b05ad691",
   "metadata": {},
   "outputs": [],
   "source": [
    "payoffs = []\n",
    "\n",
    "for i, coplayer in enumerate(pure_self_reactive):\n",
    "    \n",
    "    M = trnsf_transition_m_memory_two(coplayer, analytical=False)\n",
    "    \n",
    "    states = repeated_play.stationary_distribution(M)\n",
    "    \n",
    "    for ss in states:\n",
    "        \n",
    "        x1 = sum([ss[i] * player[i] * coplayer[i] for i in range(4)])\n",
    "        x2 = sum([ss[i] * player[i] * (1 - coplayer[i]) for i in range(4)])\n",
    "        x3 = sum([ss[i] * (1 - player[i]) * coplayer[i] for i in range(4)])\n",
    "        x4 = sum([ss[i] * (1 - player[i]) * (1 - coplayer[i]) for i in range(4)])\n",
    "        \n",
    "        payoff = sym.nsimplify(x1 * r + x3 * s + x2  * t + x4  * p)\n",
    "        \n",
    "        payoffs.append((i, payoff))\n",
    "    \n"
   ]
  },
  {
   "cell_type": "code",
   "execution_count": 15,
   "id": "9effdeb0",
   "metadata": {},
   "outputs": [],
   "source": [
    "unique_expressions = list(set([payoff[1] for payoff in payoffs]))"
   ]
  },
  {
   "cell_type": "code",
   "execution_count": 16,
   "id": "ed25966b",
   "metadata": {},
   "outputs": [
    {
     "data": {
      "text/plain": [
       "6"
      ]
     },
     "execution_count": 16,
     "metadata": {},
     "output_type": "execute_result"
    }
   ],
   "source": [
    "len(unique_expressions)"
   ]
  },
  {
   "cell_type": "code",
<<<<<<< HEAD
   "execution_count": 23,
   "id": "944c4c13",
=======
   "execution_count": 17,
   "id": "4a859714",
>>>>>>> main
   "metadata": {},
   "outputs": [
    {
     "data": {
      "text/plain": [
       "[]"
      ]
     },
<<<<<<< HEAD
     "execution_count": 23,
     "metadata": {},
     "output_type": "execute_result"
    }
   ],
   "source": [
    "sym.solve((unique_expressions[-1] - r).expand().collect(p4), p4)"
   ]
  },
  {
   "cell_type": "code",
   "execution_count": 17,
   "id": "4a859714",
   "metadata": {},
   "outputs": [
    {
     "data": {
      "text/plain": [
       "[]"
      ]
     },
=======
>>>>>>> main
     "execution_count": 17,
     "metadata": {},
     "output_type": "execute_result"
    }
   ],
   "source": [
    "sym.solve(unique_expressions[0] - r, p4)"
   ]
  },
  {
   "cell_type": "code",
   "execution_count": 18,
   "id": "57f7665c",
   "metadata": {},
   "outputs": [
    {
     "data": {
      "text/latex": [
       "$\\displaystyle P \\left(- \\frac{p_{2}}{3} - \\frac{p_{3}}{3} + \\frac{2}{3}\\right) + \\frac{R p_{4}}{3} + S \\left(\\frac{1}{3} - \\frac{p_{4}}{3}\\right) + T \\left(\\frac{p_{2}}{3} + \\frac{p_{3}}{3}\\right)$"
      ],
      "text/plain": [
       "P*(-p_2/3 - p_3/3 + 2/3) + R*p_4/3 + S*(1/3 - p_4/3) + T*(p_2/3 + p_3/3)"
      ]
     },
     "execution_count": 18,
     "metadata": {},
     "output_type": "execute_result"
    }
   ],
   "source": [
    "unique_expressions[3].collect(p2)"
   ]
  },
  {
   "cell_type": "code",
   "execution_count": 19,
   "id": "f38ea185",
   "metadata": {},
   "outputs": [
    {
     "data": {
      "text/plain": [
       "[0, 2, 4, 6, 8, 10, 12, 14]"
      ]
     },
     "execution_count": 19,
     "metadata": {},
     "output_type": "execute_result"
    }
   ],
   "source": [
    "[payoffs[i][0] for i in range(0, 25) if payoffs[i][1] == payoffs[0][1]]"
   ]
  },
  {
   "cell_type": "code",
   "execution_count": 20,
   "id": "e485ce95",
   "metadata": {},
   "outputs": [
    {
     "data": {
      "text/plain": [
       "[1, 9]"
      ]
     },
     "execution_count": 20,
     "metadata": {},
     "output_type": "execute_result"
    }
   ],
   "source": [
    "[payoffs[i][0] for i in range(0, 25) if payoffs[i][1] == payoffs[1][1]]"
   ]
  },
  {
   "cell_type": "code",
   "execution_count": 21,
   "id": "b27b7494",
   "metadata": {},
   "outputs": [
    {
     "data": {
      "text/plain": [
       "[3]"
      ]
     },
     "execution_count": 21,
     "metadata": {},
     "output_type": "execute_result"
    }
   ],
   "source": [
    "[payoffs[i][0] for i in range(0, 25) if payoffs[i][1] == payoffs[3][1]]"
   ]
  },
  {
   "cell_type": "code",
   "execution_count": 22,
   "id": "7b6dc4d8",
   "metadata": {},
   "outputs": [
    {
     "data": {
      "text/plain": [
       "[4, 5, 12, 13]"
      ]
     },
     "execution_count": 22,
     "metadata": {},
     "output_type": "execute_result"
    }
   ],
   "source": [
    "[payoffs[i][0] for i in range(0, 25) if payoffs[i][1] == payoffs[4][1]]"
   ]
  },
  {
   "cell_type": "code",
   "execution_count": 23,
   "id": "0087a02b",
   "metadata": {},
   "outputs": [
    {
     "data": {
      "text/plain": [
       "[6, 7]"
      ]
     },
     "execution_count": 23,
     "metadata": {},
     "output_type": "execute_result"
    }
   ],
   "source": [
    "[payoffs[i][0] for i in range(0, 25) if payoffs[i][1] == payoffs[7][1]]"
   ]
  },
  {
   "cell_type": "code",
   "execution_count": 24,
   "id": "747164e7",
   "metadata": {},
   "outputs": [
    {
     "data": {
      "text/plain": [
       "[0, 2, 4, 6, 8, 10, 12, 14]"
      ]
     },
     "execution_count": 24,
     "metadata": {},
     "output_type": "execute_result"
    }
   ],
   "source": [
    "[payoffs[i][0] for i in range(0, 25) if payoffs[i][1] == payoffs[10][1]]"
   ]
  },
  {
   "cell_type": "code",
   "execution_count": 25,
   "id": "37b7705c",
   "metadata": {},
   "outputs": [],
   "source": [
    "# [payoffs[i][0] for i in range(0, 25) if payoffs[i][1] == payoffs[25][1]]"
   ]
  },
  {
   "cell_type": "markdown",
   "id": "40135f89",
   "metadata": {},
   "source": [
    "### Expressions"
   ]
  },
  {
   "cell_type": "code",
   "execution_count": 37,
   "id": "c8d823a3",
   "metadata": {},
   "outputs": [
    {
     "data": {
      "text/plain": [
       "[0, 2, 4, 6, 8, 10, 12, 14]"
      ]
     },
     "execution_count": 37,
     "metadata": {},
     "output_type": "execute_result"
    }
   ],
   "source": [
    "[i for i, p in payoffs if p == payoffs[0][1]]"
   ]
  },
  {
   "cell_type": "code",
   "execution_count": 38,
   "id": "5d85be84",
   "metadata": {},
   "outputs": [
    {
     "data": {
      "text/latex": [
       "$\\displaystyle P \\left(1 - p_{4}\\right) + T p_{4}$"
      ],
      "text/plain": [
       "P*(1 - p_4) + T*p_4"
      ]
     },
     "execution_count": 38,
     "metadata": {},
     "output_type": "execute_result"
    }
   ],
   "source": [
    "payoffs[0][1].simplify().collect(p)"
   ]
  },
  {
   "cell_type": "code",
   "execution_count": 39,
   "id": "26aefe2a",
   "metadata": {},
   "outputs": [
    {
     "data": {
      "text/plain": [
       "[1, 9]"
      ]
     },
     "execution_count": 39,
     "metadata": {},
     "output_type": "execute_result"
    }
   ],
   "source": [
    "[i for i, p in payoffs if p == payoffs[1][1]]"
   ]
  },
  {
   "cell_type": "code",
   "execution_count": 40,
   "id": "4195b4ad",
   "metadata": {},
   "outputs": [],
   "source": [
    "wrt2 =  -(p * (- 2 + p2  + p3 ) - r * p4 + s * (p4 - 1) - t * (p2 + p3)) / 3"
   ]
  },
  {
   "cell_type": "code",
   "execution_count": 41,
   "id": "989f1df8",
   "metadata": {},
   "outputs": [
    {
     "data": {
      "text/latex": [
       "$\\displaystyle 0$"
      ],
      "text/plain": [
       "0"
      ]
     },
     "execution_count": 41,
     "metadata": {},
     "output_type": "execute_result"
    }
   ],
   "source": [
    "(wrt2 - payoffs[1][1]).factor()"
   ]
  },
  {
   "cell_type": "code",
   "execution_count": 42,
   "id": "f21aa255",
   "metadata": {},
   "outputs": [
    {
     "data": {
      "text/latex": [
       "$\\displaystyle - \\frac{P \\left(p_{2} + p_{3} - 2\\right)}{3} + \\frac{R p_{4}}{3} - \\frac{S \\left(p_{4} - 1\\right)}{3} + \\frac{T \\left(p_{2} + p_{3}\\right)}{3}$"
      ],
      "text/plain": [
       "-P*(p_2 + p_3 - 2)/3 + R*p_4/3 - S*(p_4 - 1)/3 + T*(p_2 + p_3)/3"
      ]
     },
     "execution_count": 42,
     "metadata": {},
     "output_type": "execute_result"
    }
   ],
   "source": [
    "wrt2"
   ]
  },
  {
   "cell_type": "code",
   "execution_count": 43,
   "id": "17b3e238",
   "metadata": {},
   "outputs": [
    {
     "data": {
      "text/plain": [
       "[3]"
      ]
     },
     "execution_count": 43,
     "metadata": {},
     "output_type": "execute_result"
    }
   ],
   "source": [
    "[i for i, p in payoffs if p == payoffs[3][1]]"
   ]
  },
  {
   "cell_type": "code",
   "execution_count": 44,
   "id": "e4e05efe",
   "metadata": {},
   "outputs": [],
   "source": [
    "wrt3 = ( p * (1 - p2) + r * (p3 + p4) - s * (p3 + p4 - 2) + t * (p2 + 1)) / 4"
   ]
  },
  {
   "cell_type": "code",
   "execution_count": 45,
   "id": "bf25d668",
   "metadata": {},
   "outputs": [
    {
     "data": {
      "text/latex": [
       "$\\displaystyle 0$"
      ],
      "text/plain": [
       "0"
      ]
     },
     "execution_count": 45,
     "metadata": {},
     "output_type": "execute_result"
    }
   ],
   "source": [
    "(wrt3 - payoffs[3][1]).factor()"
   ]
  },
  {
   "cell_type": "code",
   "execution_count": 46,
   "id": "605974e9",
   "metadata": {},
   "outputs": [
    {
     "data": {
      "text/latex": [
       "$\\displaystyle \\frac{P \\left(1 - p_{2}\\right)}{4} + \\frac{R \\left(p_{3} + p_{4}\\right)}{4} - \\frac{S \\left(p_{3} + p_{4} - 2\\right)}{4} + \\frac{T \\left(p_{2} + 1\\right)}{4}$"
      ],
      "text/plain": [
       "P*(1 - p_2)/4 + R*(p_3 + p_4)/4 - S*(p_3 + p_4 - 2)/4 + T*(p_2 + 1)/4"
      ]
     },
     "execution_count": 46,
     "metadata": {},
     "output_type": "execute_result"
    }
   ],
   "source": [
    "wrt3"
   ]
  },
  {
   "cell_type": "code",
   "execution_count": 47,
   "id": "671454bf",
   "metadata": {},
   "outputs": [
    {
     "data": {
      "text/plain": [
       "[4, 5, 12, 13]"
      ]
     },
     "execution_count": 47,
     "metadata": {},
     "output_type": "execute_result"
    }
   ],
   "source": [
    "[i for i, p in payoffs if p == payoffs[4][1]]"
   ]
  },
  {
   "cell_type": "code",
   "execution_count": 48,
   "id": "f6aa3856",
   "metadata": {},
   "outputs": [
    {
     "data": {
      "text/latex": [
       "$\\displaystyle \\frac{P p_{2} - P + 4 R - 2 S - T p_{2} - T}{R - S}$"
      ],
      "text/plain": [
       "(P*p_2 - P + 4*R - 2*S - T*p_2 - T)/(R - S)"
      ]
     },
     "execution_count": 48,
     "metadata": {},
     "output_type": "execute_result"
    }
   ],
   "source": [
    "sym.solve(wrt3 - r, p3 + p4)[0]"
   ]
  },
  {
   "cell_type": "code",
   "execution_count": 49,
   "id": "3559164d",
   "metadata": {},
   "outputs": [],
   "source": [
    "wrt4 = (p * (- p3 + 1) + r * p2 - s * (p2 - 1) + t * p3) / 2"
   ]
  },
  {
   "cell_type": "code",
   "execution_count": 50,
   "id": "fababa94",
   "metadata": {},
   "outputs": [
    {
     "data": {
      "text/latex": [
       "$\\displaystyle 0$"
      ],
      "text/plain": [
       "0"
      ]
     },
     "execution_count": 50,
     "metadata": {},
     "output_type": "execute_result"
    }
   ],
   "source": [
    "(wrt4 - payoffs[4][1]).expand()"
   ]
  },
  {
   "cell_type": "code",
   "execution_count": 51,
   "id": "b9f3dbcd",
   "metadata": {},
   "outputs": [
    {
     "data": {
      "text/latex": [
       "$\\displaystyle \\frac{P \\left(1 - p_{3}\\right)}{2} + \\frac{R p_{2}}{2} - \\frac{S \\left(p_{2} - 1\\right)}{2} + \\frac{T p_{3}}{2}$"
      ],
      "text/plain": [
       "P*(1 - p_3)/2 + R*p_2/2 - S*(p_2 - 1)/2 + T*p_3/2"
      ]
     },
     "execution_count": 51,
     "metadata": {},
     "output_type": "execute_result"
    }
   ],
   "source": [
    "wrt4"
   ]
  },
  {
   "cell_type": "code",
   "execution_count": 52,
   "id": "11992fb8",
   "metadata": {},
   "outputs": [
    {
     "data": {
      "text/latex": [
       "$\\displaystyle 0$"
      ],
      "text/plain": [
       "0"
      ]
     },
     "execution_count": 52,
     "metadata": {},
     "output_type": "execute_result"
    }
   ],
   "source": [
    "(wrt4 - payoffs[6][1]).expand()"
   ]
  },
  {
   "cell_type": "code",
   "execution_count": 53,
   "id": "985df5e0",
   "metadata": {},
   "outputs": [
    {
     "data": {
      "text/plain": [
       "[6, 7]"
      ]
     },
     "execution_count": 53,
     "metadata": {},
     "output_type": "execute_result"
    }
   ],
   "source": [
    "[i for i, p in payoffs if p == payoffs[7][1]]"
   ]
  },
  {
   "cell_type": "code",
   "execution_count": 54,
   "id": "655ec7fa",
   "metadata": {},
   "outputs": [],
   "source": [
    "wrt5 = (r * (p2 + p3) - s * (p2 + p3 - 2) + t) / 3"
   ]
  },
  {
   "cell_type": "code",
   "execution_count": 55,
   "id": "a3f45df7",
   "metadata": {},
   "outputs": [
    {
     "data": {
      "text/latex": [
       "$\\displaystyle 0$"
      ],
      "text/plain": [
       "0"
      ]
     },
     "execution_count": 55,
     "metadata": {},
     "output_type": "execute_result"
    }
   ],
   "source": [
    "(wrt5 - payoffs[7][1]).factor()"
   ]
  },
  {
   "cell_type": "code",
   "execution_count": 56,
   "id": "2404d101",
   "metadata": {},
   "outputs": [
    {
     "data": {
      "text/latex": [
       "$\\displaystyle \\frac{R \\left(p_{2} + p_{3}\\right)}{3} - \\frac{S \\left(p_{2} + p_{3} - 2\\right)}{3} + \\frac{T}{3}$"
      ],
      "text/plain": [
       "R*(p_2 + p_3)/3 - S*(p_2 + p_3 - 2)/3 + T/3"
      ]
     },
     "execution_count": 56,
     "metadata": {},
     "output_type": "execute_result"
    }
   ],
   "source": [
    "wrt5"
   ]
  },
  {
   "cell_type": "markdown",
   "id": "34b9f6f6",
   "metadata": {},
   "source": [
    "### Conditions"
   ]
  },
  {
   "cell_type": "code",
   "execution_count": 57,
   "id": "21428bde",
   "metadata": {},
   "outputs": [
    {
     "data": {
      "text/latex": [
       "$\\displaystyle \\frac{P - R}{P - 1}$"
      ],
      "text/plain": [
       "(P - R)/(P - 1)"
      ]
     },
     "execution_count": 57,
     "metadata": {},
     "output_type": "execute_result"
    }
   ],
   "source": [
    "sym.solve(payoffs[0][1] - r, p4)[0].subs({s:0, t:1})"
   ]
  },
  {
   "cell_type": "code",
   "execution_count": 58,
   "id": "b24f9f41",
   "metadata": {},
   "outputs": [
    {
     "data": {
      "text/latex": [
       "$\\displaystyle \\frac{P p_{2} + P p_{3} - 2 P + S p_{4} - S - T p_{2} - T p_{3}}{p_{4} - 3}$"
      ],
      "text/plain": [
       "(P*p_2 + P*p_3 - 2*P + S*p_4 - S - T*p_2 - T*p_3)/(p_4 - 3)"
      ]
     },
     "execution_count": 58,
     "metadata": {},
     "output_type": "execute_result"
    }
   ],
   "source": [
    "sym.solve(wrt2 - r, r)[0]"
   ]
  },
  {
   "cell_type": "code",
   "execution_count": 59,
   "id": "a8a67a45",
   "metadata": {},
   "outputs": [
    {
     "data": {
      "text/latex": [
       "$\\displaystyle \\frac{R \\left(p_{4} - 3\\right) + S \\left(1 - p_{4}\\right) + T p_{2} + T p_{3}}{p_{2} + p_{3} - 2}$"
      ],
      "text/plain": [
       "(R*(p_4 - 3) + S*(1 - p_4) + T*p_2 + T*p_3)/(p_2 + p_3 - 2)"
      ]
     },
     "execution_count": 59,
     "metadata": {},
     "output_type": "execute_result"
    }
   ],
   "source": [
    "sym.solve(wrt2 - r, p)[0].collect(r).collect(s)"
   ]
  },
  {
   "cell_type": "code",
   "execution_count": 61,
   "id": "80c284be",
   "metadata": {},
   "outputs": [
    {
     "data": {
      "text/latex": [
       "$\\displaystyle \\frac{2 P + R \\left(p_{4} - 3\\right) + S \\left(1 - p_{4}\\right)}{P - T}$"
      ],
      "text/plain": [
       "(2*P + R*(p_4 - 3) + S*(1 - p_4))/(P - T)"
      ]
     },
     "execution_count": 61,
     "metadata": {},
     "output_type": "execute_result"
    }
   ],
   "source": [
    "sym.solve(wrt2 - r, p2 + p3)[0].collect(r).collect(s)"
   ]
  },
  {
   "cell_type": "code",
   "execution_count": 63,
   "id": "dc54e39a",
   "metadata": {},
   "outputs": [
    {
     "data": {
      "text/latex": [
       "$\\displaystyle \\frac{3 R - 2 S - T}{R - S}$"
      ],
      "text/plain": [
       "(3*R - 2*S - T)/(R - S)"
      ]
     },
     "execution_count": 63,
     "metadata": {},
     "output_type": "execute_result"
    }
   ],
   "source": [
    "sym.solve(wrt5 - r, p2 + p3)[0]"
   ]
  },
  {
   "cell_type": "code",
   "execution_count": 64,
   "id": "2b5944c0",
   "metadata": {},
   "outputs": [
    {
     "data": {
      "text/latex": [
       "$\\displaystyle \\frac{3 R - 1}{R}$"
      ],
      "text/plain": [
       "(3*R - 1)/R"
      ]
     },
     "execution_count": 64,
     "metadata": {},
     "output_type": "execute_result"
    }
   ],
   "source": [
    "sym.solve(wrt5 - r, p2 + p3)[0].subs({s:0, t:1})"
   ]
  },
  {
   "cell_type": "code",
   "execution_count": 68,
   "id": "f78619ac",
   "metadata": {},
   "outputs": [
    {
     "data": {
      "text/latex": [
       "$\\displaystyle \\frac{P \\left(p_{2} - 1\\right) + 4 R - 2 S + T \\left(- p_{2} - 1\\right)}{R - S}$"
      ],
      "text/plain": [
       "(P*(p_2 - 1) + 4*R - 2*S + T*(-p_2 - 1))/(R - S)"
      ]
     },
     "execution_count": 68,
     "metadata": {},
     "output_type": "execute_result"
    }
   ],
   "source": [
    "sym.solve(wrt3 - r, p3 + p4)[0].collect(p).collect(t)"
   ]
  },
  {
   "cell_type": "code",
   "execution_count": 69,
   "id": "8e629de6",
   "metadata": {},
   "outputs": [
    {
     "name": "stdout",
     "output_type": "stream",
     "text": [
      "\\frac{P \\left(p_{2} - 1\\right) + 4 R - 2 S + T \\left(- p_{2} - 1\\right)}{R - S}\n"
     ]
    }
   ],
   "source": [
    "print(sym.latex(sym.solve(wrt3 - r, p3 + p4)[0].collect(p).collect(t)))"
   ]
  },
  {
   "cell_type": "code",
   "execution_count": 70,
   "id": "8623f198",
   "metadata": {},
   "outputs": [
    {
     "data": {
      "text/latex": [
       "$\\displaystyle \\frac{P \\left(p_{2} - 1\\right) + 4 R - p_{2} - 1}{R}$"
      ],
      "text/plain": [
       "(P*(p_2 - 1) + 4*R - p_2 - 1)/R"
      ]
     },
     "execution_count": 70,
     "metadata": {},
     "output_type": "execute_result"
    }
   ],
   "source": [
    "sym.solve(wrt3 - r, p3 + p4)[0].collect(p).collect(t).subs({s:0, t:1})"
   ]
  },
  {
   "cell_type": "code",
   "execution_count": 71,
   "id": "bd385c3f",
   "metadata": {},
   "outputs": [
    {
     "name": "stdout",
     "output_type": "stream",
     "text": [
      "\\frac{P \\left(p_{2} - 1\\right) + 4 R - p_{2} - 1}{R}\n"
     ]
    }
   ],
   "source": [
    "print(sym.latex(sym.solve(wrt3 - r, p3 + p4)[0].collect(p).collect(t).subs({s:0, t:1})))"
   ]
  },
  {
   "cell_type": "code",
   "execution_count": 72,
   "id": "9185379b",
   "metadata": {},
   "outputs": [
    {
     "data": {
      "text/latex": [
       "$\\displaystyle \\frac{P \\left(1 - p_{3}\\right)}{2} + \\frac{R p_{2}}{2} - \\frac{S \\left(p_{2} - 1\\right)}{2} + \\frac{T p_{3}}{2}$"
      ],
      "text/plain": [
       "P*(1 - p_3)/2 + R*p_2/2 - S*(p_2 - 1)/2 + T*p_3/2"
      ]
     },
     "execution_count": 72,
     "metadata": {},
     "output_type": "execute_result"
    }
   ],
   "source": [
    "wrt4"
   ]
  },
  {
   "cell_type": "code",
   "execution_count": 73,
   "id": "30c4e218",
   "metadata": {},
   "outputs": [
    {
     "data": {
      "text/latex": [
       "$\\displaystyle \\frac{P p_{3} - P + 2 R - S - T p_{3}}{R - S}$"
      ],
      "text/plain": [
       "(P*p_3 - P + 2*R - S - T*p_3)/(R - S)"
      ]
     },
     "execution_count": 73,
     "metadata": {},
     "output_type": "execute_result"
    }
   ],
   "source": [
    "sym.solve(wrt4 - r, p2)[0]"
   ]
  },
  {
   "cell_type": "code",
   "execution_count": 75,
   "id": "835bc392",
   "metadata": {},
   "outputs": [
    {
     "data": {
      "text/latex": [
       "$\\displaystyle \\frac{P p_{3} - P + 2 R - p_{3}}{R}$"
      ],
      "text/plain": [
       "(P*p_3 - P + 2*R - p_3)/R"
      ]
     },
     "execution_count": 75,
     "metadata": {},
     "output_type": "execute_result"
    }
   ],
   "source": [
    "sym.solve(wrt4 - r, p2)[0].subs({t:1, s:0})"
   ]
  },
  {
   "cell_type": "markdown",
   "id": "94f9f40e",
   "metadata": {},
   "source": [
    "### Comparing conditions"
   ]
  },
  {
   "cell_type": "code",
   "execution_count": 122,
   "id": "28c12d12",
   "metadata": {},
   "outputs": [
    {
     "data": {
      "text/plain": [
       "[(P*p_2 - P - R*p_4 + 4*R + S*p_4 - 2*S - T*p_2 - T)/(R - S)]"
      ]
     },
     "execution_count": 122,
     "metadata": {},
     "output_type": "execute_result"
    }
   ],
   "source": [
    "sym.solve(wrt3 - r, p3)"
   ]
  },
  {
   "cell_type": "code",
   "execution_count": 149,
   "id": "04c449cc",
   "metadata": {},
   "outputs": [],
   "source": [
    "lhs = sym.solve(wrt3 - r, p2)[0].subs({t:1, s:0})"
   ]
  },
  {
   "cell_type": "code",
   "execution_count": 150,
   "id": "bdda4a5a",
   "metadata": {},
   "outputs": [
    {
     "data": {
      "text/latex": [
       "$\\displaystyle \\frac{P + R p_{3} + R p_{4} - 4 R + 1}{P - 1}$"
      ],
      "text/plain": [
       "(P + R*p_3 + R*p_4 - 4*R + 1)/(P - 1)"
      ]
     },
     "execution_count": 150,
     "metadata": {},
     "output_type": "execute_result"
    }
   ],
   "source": [
    "lhs"
   ]
  },
  {
   "cell_type": "code",
   "execution_count": 151,
   "id": "f858c41e",
   "metadata": {},
   "outputs": [
    {
     "data": {
      "text/latex": [
       "$\\displaystyle \\frac{P + R \\left(p_{3} + p_{4} - 4\\right) + 1}{P - 1}$"
      ],
      "text/plain": [
       "(P + R*(p_3 + p_4 - 4) + 1)/(P - 1)"
      ]
     },
     "execution_count": 151,
     "metadata": {},
     "output_type": "execute_result"
    }
   ],
   "source": [
    "lhs.collect(r)"
   ]
  },
  {
   "cell_type": "code",
   "execution_count": 35,
   "id": "caa9ddab",
   "metadata": {},
   "outputs": [],
   "source": [
    "rhs = sym.solve(wrt2 - r, p2)[0]"
   ]
  },
  {
   "cell_type": "code",
   "execution_count": 36,
   "id": "0fdab193",
   "metadata": {},
   "outputs": [
    {
     "data": {
      "text/latex": [
       "$\\displaystyle \\frac{- P p_{3} + 2 P + R p_{4} - 3 R - S p_{4} + S + T p_{3}}{P - T}$"
      ],
      "text/plain": [
       "(-P*p_3 + 2*P + R*p_4 - 3*R - S*p_4 + S + T*p_3)/(P - T)"
      ]
     },
     "execution_count": 36,
     "metadata": {},
     "output_type": "execute_result"
    }
   ],
   "source": [
    "rhs"
   ]
  },
  {
   "cell_type": "code",
   "execution_count": 153,
   "id": "3edad998",
   "metadata": {},
   "outputs": [
    {
     "data": {
      "text/latex": [
       "$\\displaystyle \\frac{\\left(p_{3} - 1\\right) \\left(P + R - 1\\right)}{P - 1}$"
      ],
      "text/plain": [
       "(p_3 - 1)*(P + R - 1)/(P - 1)"
      ]
     },
     "execution_count": 153,
     "metadata": {},
     "output_type": "execute_result"
    }
   ],
   "source": [
    "(lhs - rhs).factor()"
   ]
  },
  {
   "cell_type": "code",
   "execution_count": 91,
   "id": "0c9824b8",
   "metadata": {},
   "outputs": [
    {
     "data": {
      "text/latex": [
       "$\\displaystyle \\frac{\\left(p_{3} - 1\\right) \\left(P + R - 1\\right)}{P - 1}$"
      ],
      "text/plain": [
       "(p_3 - 1)*(P + R - 1)/(P - 1)"
      ]
     },
     "execution_count": 91,
     "metadata": {},
     "output_type": "execute_result"
    }
   ],
   "source": [
    "(lhs - rhs).factor()"
   ]
  },
  {
   "cell_type": "code",
   "execution_count": 96,
   "id": "545a98d3",
   "metadata": {},
   "outputs": [
    {
     "data": {
      "text/latex": [
       "$\\displaystyle \\frac{P p_{2} - P + 4 R - 2 S - T p_{2} - T}{R - S}$"
      ],
      "text/plain": [
       "(P*p_2 - P + 4*R - 2*S - T*p_2 - T)/(R - S)"
      ]
     },
     "execution_count": 96,
     "metadata": {},
     "output_type": "execute_result"
    }
   ],
   "source": [
    "sym.solve(wrt3 - r, p3 + p4)[0]"
   ]
  },
  {
   "cell_type": "code",
   "execution_count": 99,
   "id": "007f5032",
   "metadata": {},
   "outputs": [
    {
     "data": {
      "text/latex": [
       "$\\displaystyle \\frac{2 P + R p_{4} - 3 R - S p_{4} + S}{P - T}$"
      ],
      "text/plain": [
       "(2*P + R*p_4 - 3*R - S*p_4 + S)/(P - T)"
      ]
     },
     "execution_count": 99,
     "metadata": {},
     "output_type": "execute_result"
    }
   ],
   "source": [
    "sym.solve(wrt2 - r, p2 + p3)[0]"
   ]
  },
  {
   "cell_type": "code",
   "execution_count": 138,
   "id": "14faedf1",
   "metadata": {},
   "outputs": [],
   "source": [
    "lhs = sym.solve(wrt4 - r, p2)[0].subs({t:1, s:0})"
   ]
  },
  {
   "cell_type": "code",
   "execution_count": 139,
   "id": "f8994020",
   "metadata": {},
   "outputs": [],
   "source": [
    "rhs = sym.solve(wrt3 - r, p2)[0].subs({t:1, s:0})"
   ]
  },
  {
   "cell_type": "code",
   "execution_count": 141,
   "id": "24a14ae2",
   "metadata": {},
   "outputs": [
    {
     "data": {
      "text/latex": [
       "$\\displaystyle \\frac{P^{2} p_{3} - P^{2} + P R - 2 P p_{3} + P - R^{2} p_{3} - R^{2} p_{4} + 4 R^{2} - 3 R + p_{3}}{R \\left(P - 1\\right)}$"
      ],
      "text/plain": [
       "(P**2*p_3 - P**2 + P*R - 2*P*p_3 + P - R**2*p_3 - R**2*p_4 + 4*R**2 - 3*R + p_3)/(R*(P - 1))"
      ]
     },
     "execution_count": 141,
     "metadata": {},
     "output_type": "execute_result"
    }
   ],
   "source": [
    "(lhs - rhs).factor()"
   ]
  },
  {
   "cell_type": "markdown",
   "id": "64b262ac",
   "metadata": {},
   "source": [
    "### N = 3"
   ]
  },
  {
   "cell_type": "code",
   "execution_count": 52,
   "id": "25bfdfc1",
   "metadata": {},
   "outputs": [],
   "source": [
    "pure_self_reactive = list(itertools.product([0, 1], repeat=8))"
   ]
  },
  {
   "cell_type": "code",
   "execution_count": 53,
   "id": "5cd7112f",
   "metadata": {},
   "outputs": [],
   "source": [
    "r, s, t, p = 3, 0, 5, 1\n",
    "\n",
    "for i in range(100):\n",
    "    \n",
    "    np.random.seed(0)\n",
    "\n",
    "    q_v1, q_v2, q_v3, q_v4, q_v5, q_v6, q_v7, q_v8 = np.random.random(8)\n",
    "\n",
    "    p1, p2, p3, p4, p5, p6, p7, p8 = np.random.random(8)\n",
    "\n",
    "    player = [p1, p2, p3, p4, p5, p6, p7, p8]\n",
    "\n",
    "    coplayer = [q_v1, q_v2, q_v3, q_v4, q_v5, q_v6, q_v7, q_v8]\n",
    "\n",
    "    M = trnsf_transition_m_memory_three(coplayer, analytical=False)\n",
    "\n",
    "    ss = repeated_play.stationary_distribution(M)[0]\n",
    "\n",
    "    rho_q = ss[0] + ss[1] + ss[4] + ss[5]\n",
    "\n",
    "    rho_p = sum([ss[i] * player[i] for i in range(8)])\n",
    "\n",
    "    x1 = sum([ss[i] * player[i] * coplayer[i] for i in range(8)])\n",
    "    x2 = sum([ss[i] * player[i] * (1 - coplayer[i]) for i in range(8)])\n",
    "    x3 = sum([ss[i] * (1 - player[i]) * coplayer[i] for i in range(8)])\n",
    "    x4 = sum([ss[i] * (1 - player[i]) * (1 - coplayer[i]) for i in range(8)])\n",
    "\n",
    "    payoff2 = (x1 * r + x3 * s + x2  * t + x4  * p)\n",
    "\n",
    "\n",
    "    M2 = repeated_play.transition_matrix_repeated_game([p1, p2, p1, p2, p3, p4, p3, p4, \n",
    "                                                        p1, p2, p1, p2, p3, p4, p3, p4,\n",
    "                                                        p5, p6, p5, p6, p7, p8, p7, p8, \n",
    "                                                        p5, p6, p5, p6, p7, p8, p7, p8, \n",
    "                                                        p1, p2, p1, p2, p3, p4, p3, p4, \n",
    "                                                        p1, p2, p1, p2, p3, p4, p3, p4,\n",
    "                                                        p5, p6, p5, p6, p7, p8, p7, p8, \n",
    "                                                        p5, p6, p5, p6, p7, p8, p7, p8, \n",
    "                                                       ],\n",
    "                                                       [q_v1, q_v1, q_v2, q_v2, q_v1, q_v1, q_v2, q_v2, \n",
    "                                                        q_v3, q_v3, q_v4, q_v4, q_v3, q_v3, q_v4, q_v4,\n",
    "                                                        q_v1, q_v1, q_v2, q_v2, q_v1, q_v1, q_v2, q_v2, \n",
    "                                                        q_v3, q_v3, q_v4, q_v4, q_v3, q_v3, q_v4, q_v4,\n",
    "                                                        q_v5, q_v5, q_v6, q_v6, q_v5, q_v5, q_v6, q_v6, \n",
    "                                                        q_v7, q_v7, q_v8, q_v8, q_v7, q_v7, q_v8, q_v8,\n",
    "                                                        q_v5, q_v5, q_v6, q_v6, q_v5, q_v5, q_v6, q_v6, \n",
    "                                                        q_v7, q_v7, q_v8, q_v8, q_v7, q_v7, q_v8, q_v8],\n",
    "                                                       memory=\"three\",\n",
    "                                                       analytical=False)\n",
    "\n",
    "    ss2 = repeated_play.stationary_distribution(M2, analytical=False)\n",
    "\n",
    "    assert np.isclose(payoff2, sum(ss2 @ np.array([r, t, s, p] * 16)))"
   ]
  },
  {
   "cell_type": "code",
   "execution_count": 78,
   "id": "fa4bb88d",
   "metadata": {},
   "outputs": [],
   "source": [
    "r, s, t, p = sym.symbols(\"R, S, T, P\")\n",
    "\n",
    "R, S, T, P = sym.symbols(\"R, S, T, P\")\n",
    "\n",
    "p1, p2, p3, p4, p5, p6, p7, p8 = sym.symbols(\"p_{CCC}, p_{CCD}, p_{CDC}, p_{CDD}, p_{DCC}, p_{DCD}, p_{DDC}, p_{DDD}\")\n",
    "\n",
    "player = [1, p2, p3, p4, p5, p6, p7, p8]"
   ]
  },
  {
   "cell_type": "code",
   "execution_count": 57,
   "id": "973fb5a6",
   "metadata": {},
   "outputs": [],
   "source": [
    "pure_self_reactive = list(itertools.product([0, 1], repeat=8))"
   ]
  },
  {
   "cell_type": "code",
   "execution_count": 59,
   "id": "e4613a61",
   "metadata": {},
   "outputs": [],
   "source": [
    "payoffs = []\n",
    "\n",
    "for i, coplayer in enumerate(pure_self_reactive):\n",
    "\n",
    "\n",
    "    M = trnsf_transition_m_memory_three(coplayer, analytical=False)\n",
    "\n",
    "    states = repeated_play.stationary_distribution(M)\n",
    "    \n",
    "    for ss in states:\n",
    "\n",
    "        rho_q = ss[0] + ss[1] + ss[4] + ss[5]\n",
    "\n",
    "        rho_p = sum([ss[i] * player[i] for i in range(8)])\n",
    "\n",
    "        x1 = sum([ss[i] * player[i] * coplayer[i] for i in range(8)])\n",
    "        x2 = sum([ss[i] * player[i] * (1 - coplayer[i]) for i in range(8)])\n",
    "        x3 = sum([ss[i] * (1 - player[i]) * coplayer[i] for i in range(8)])\n",
    "        x4 = sum([ss[i] * (1 - player[i]) * (1 - coplayer[i]) for i in range(8)])\n",
    "\n",
    "        payoff = sym.nsimplify(x1 * r + x3 * s + x2  * t + x4  * p)\n",
    "\n",
    "        payoffs.append((i, payoff))"
   ]
  },
  {
   "cell_type": "code",
   "execution_count": 60,
   "id": "be19b252",
   "metadata": {},
   "outputs": [],
   "source": [
    "unique_expressions = list(set([payoff[1] for payoff in payoffs]))"
   ]
  },
  {
   "cell_type": "code",
   "execution_count": 257,
   "id": "bba7addc",
   "metadata": {},
   "outputs": [],
   "source": [
    "written_unique = [((T - P) * (p4 + p6 + p7) + 3 * P + (R - S) * p8 + S) /4, \n",
    "((T - P) * p3 + P + (R - S) * p6 + S) /2, \n",
    "- P * (p8 - 1) + T * p8, \n",
    "((T - P) * (p2 + p4 + p7) + 3 * P + (R - S) * (p3 + p5 + p6 + p8) + 4 * S + T) /8, \n",
    "((T - P) * p5 + P + (R - S) * (p3 + p2) + 2 * S) /3, \n",
    "((T - P) * (p2 + p5 + p7) + 3 * P + (R - S) * (p3 + p4 + p6) + 3 * S) /6, \n",
    "((T - P) * (p2 + p7) + 2 * P + T + (R - S) * (p3 + p4 + p5 + p6) + 4 * S) /7, \n",
    "((T - P) * (p2 + p4 + p5) + 3 * P + (R - S) * (p7 + p8) + 2 * S) /5, \n",
    "((T - P) * (p6 + p7) + 2 * P + (R - S) * p4 + S) /3, \n",
    "((T - P) * p2 + P + T + (R - S) * (p4 + p5 + p7) + 3 * S) /5, \n",
    "((T - P) * (p2 + p5) + 2 * P + (R - S) * (p4 + p7) + 2 * S) /4, \n",
    "((T - P) * (p3 + p6) + 2 * P + T + (R - S) * (p2 + p4 + p5 + p7) + 4 * S) / 7, \n",
    "((T - P) * (p3 + p4 + p6) + 3 * P + T + (R - S) * (p2 + p5 + p7 + p8) + 4 * S) / 8, \n",
    "((T - P) * (p3 + p5 + p6) + 3 * P  + (R - S) * (p2 + p4 + p7) + 3 * S) / 6, \n",
    "((T - P) * (p2 + p4 + p5 + p7) + 4 * P + (R - S) * (p3 + p6 + p8) + 3 * S) / 7, \n",
    "(T  + (R - S) * (p2 + p3 + p5) + 3 * S) / 4, \n",
    "((T - P) * (p2 + p4) + 2 * P + T + (R - S) * (p5 + p7 + p8) + 3 * S) / 6, \n",
    "((T - p) * (p3 + p4 + p5 + p6) + 4 * P + (R - S) * (p2 + p7 + p8) + 3 * S) / 7]"
   ]
  },
  {
   "cell_type": "code",
   "execution_count": 258,
   "id": "d4e5545a",
   "metadata": {},
   "outputs": [
    {
     "data": {
      "text/plain": [
       "18"
      ]
     },
     "execution_count": 258,
     "metadata": {},
     "output_type": "execute_result"
    }
   ],
   "source": [
    "len(written_unique)"
   ]
  },
  {
   "cell_type": "code",
   "execution_count": 259,
   "id": "dbe40854",
   "metadata": {},
   "outputs": [
    {
     "data": {
      "text/plain": [
       "19"
      ]
     },
     "execution_count": 259,
     "metadata": {},
     "output_type": "execute_result"
    }
   ],
   "source": [
    "len(unique_expressions)"
   ]
  },
  {
   "cell_type": "code",
   "execution_count": 260,
   "id": "11b85a91",
   "metadata": {},
   "outputs": [
    {
     "data": {
      "text/latex": [
       "$\\displaystyle \\frac{2 P}{7} + \\frac{4 S}{7} + \\frac{T}{7} + \\frac{\\left(- P + T\\right) \\left(p_{CDC} + p_{DCD}\\right)}{7} + \\frac{\\left(R - S\\right) \\left(p_{CCD} + p_{CDD} + p_{DCC} + p_{DDC}\\right)}{7}$"
      ],
      "text/plain": [
       "2*P/7 + 4*S/7 + T/7 + (-P + T)*(p_{CDC} + p_{DCD})/7 + (R - S)*(p_{CCD} + p_{CDD} + p_{DCC} + p_{DDC})/7"
      ]
     },
     "execution_count": 260,
     "metadata": {},
     "output_type": "execute_result"
    }
   ],
   "source": [
    "written_unique[11]"
   ]
  },
  {
   "cell_type": "code",
   "execution_count": 261,
   "id": "924f4915",
   "metadata": {},
   "outputs": [
    {
     "data": {
      "text/latex": [
       "$\\displaystyle P \\left(- \\frac{p_{CDC}}{7} - \\frac{p_{DCD}}{7} + \\frac{2}{7}\\right) + R \\left(\\frac{p_{CCD}}{7} + \\frac{p_{CDD}}{7} + \\frac{p_{DCC}}{7} + \\frac{p_{DDC}}{7}\\right) + S \\left(- \\frac{p_{CCD}}{7} - \\frac{p_{CDD}}{7} - \\frac{p_{DCC}}{7} - \\frac{p_{DDC}}{7} + \\frac{4}{7}\\right) + T \\left(\\frac{p_{CDC}}{7} + \\frac{p_{DCD}}{7} + \\frac{1}{7}\\right)$"
      ],
      "text/plain": [
       "P*(-p_{CDC}/7 - p_{DCD}/7 + 2/7) + R*(p_{CCD}/7 + p_{CDD}/7 + p_{DCC}/7 + p_{DDC}/7) + S*(-p_{CCD}/7 - p_{CDD}/7 - p_{DCC}/7 - p_{DDC}/7 + 4/7) + T*(p_{CDC}/7 + p_{DCD}/7 + 1/7)"
      ]
     },
     "execution_count": 261,
     "metadata": {},
     "output_type": "execute_result"
    }
   ],
   "source": [
    "unique_expressions[10]"
   ]
  },
  {
   "cell_type": "code",
   "execution_count": 262,
   "id": "077b076c",
   "metadata": {},
   "outputs": [
    {
     "data": {
      "text/latex": [
       "$\\displaystyle 0$"
      ],
      "text/plain": [
       "0"
      ]
     },
     "execution_count": 262,
     "metadata": {},
     "output_type": "execute_result"
    }
   ],
   "source": [
    "(written_unique[11] - unique_expressions[10]).expand()"
   ]
  },
  {
   "cell_type": "code",
   "execution_count": 189,
   "id": "fe666175",
   "metadata": {},
   "outputs": [
    {
     "data": {
      "text/latex": [
       "$\\displaystyle \\frac{2 S}{5}$"
      ],
      "text/plain": [
       "2*S/5"
      ]
     },
     "execution_count": 189,
     "metadata": {},
     "output_type": "execute_result"
    }
   ],
   "source": [
    "(unique_expressions[11] - written_unique[9]).factor()"
   ]
  },
  {
   "cell_type": "code",
   "execution_count": 266,
   "id": "5be7f051",
   "metadata": {},
   "outputs": [
    {
     "data": {
      "text/plain": [
       "[14]"
      ]
     },
     "execution_count": 266,
     "metadata": {},
     "output_type": "execute_result"
    }
   ],
   "source": [
    "j = 12\n",
    "\n",
    "[i for i in range(19) if (unique_expressions[i] - written_unique[j]).factor() == 0]"
   ]
  },
  {
   "cell_type": "code",
   "execution_count": 268,
   "id": "52fc9883",
   "metadata": {},
   "outputs": [
    {
     "data": {
      "text/plain": [
       "[75]"
      ]
     },
     "execution_count": 268,
     "metadata": {},
     "output_type": "execute_result"
    }
   ],
   "source": [
    "[payoff[0] for payoff in payoffs if payoff[1] == unique_expressions[14]]"
   ]
  },
  {
   "cell_type": "code",
   "execution_count": 214,
   "id": "682e0a04",
   "metadata": {},
   "outputs": [
    {
     "data": {
      "text/plain": [
       "[[(0, 0)],\n",
       " [(17, 1)],\n",
       " [(5, 2)],\n",
       " [(16, 3)],\n",
       " [(2, 4)],\n",
       " [(4, 5)],\n",
       " [(7, 6)],\n",
       " [(13, 7)],\n",
       " [(15, 8)],\n",
       " [(11, 9)],\n",
       " [],\n",
       " [],\n",
       " [(14, 12)],\n",
       " [],\n",
       " [(18, 14)],\n",
       " [(12, 15)],\n",
       " [(1, 16)],\n",
       " [(9, 17)]]"
      ]
     },
     "execution_count": 214,
     "metadata": {},
     "output_type": "execute_result"
    }
   ],
   "source": [
    "[[(i, j) for i in range(19) if (unique_expressions[i] - written_unique[j]).factor() == 0] for j in range(18)]"
   ]
  },
  {
   "cell_type": "code",
   "execution_count": 315,
   "id": "9ba263f5",
   "metadata": {},
   "outputs": [
    {
     "data": {
      "text/latex": [
       "$\\displaystyle p_{DDD} \\left(R - S\\right) + \\left(- P + T\\right) \\left(p_{CDD} + p_{DCD} + p_{DDC}\\right) < - 3 P + 4 R - S$"
      ],
      "text/plain": [
       "p_{DDD}*(R - S) + (-P + T)*(p_{CDD} + p_{DCD} + p_{DDC}) < -3*P + 4*R - S"
      ]
     },
     "execution_count": 315,
     "metadata": {},
     "output_type": "execute_result"
    }
   ],
   "source": [
    "4 * written_unique[0] - 3 * P - S < R * 4 - 3 * P - S"
   ]
  },
  {
   "cell_type": "code",
   "execution_count": 316,
   "id": "e3b4785c",
   "metadata": {},
   "outputs": [
    {
     "data": {
      "text/latex": [
       "$\\displaystyle p_{CDC} \\left(- P + T\\right) + p_{DCD} \\left(R - S\\right) < - P + 2 R - S$"
      ],
      "text/plain": [
       "p_{CDC}*(-P + T) + p_{DCD}*(R - S) < -P + 2*R - S"
      ]
     },
     "execution_count": 316,
     "metadata": {},
     "output_type": "execute_result"
    }
   ],
   "source": [
    "written_unique[1] * 2 - P - S < R * 2 - P - S"
   ]
  },
  {
   "cell_type": "code",
   "execution_count": 317,
   "id": "ec814675",
   "metadata": {},
   "outputs": [
    {
     "data": {
      "text/latex": [
       "$\\displaystyle - P \\left(p_{DDD} - 1\\right) + T p_{DDD} < R$"
      ],
      "text/plain": [
       "-P*(p_{DDD} - 1) + T*p_{DDD} < R"
      ]
     },
     "execution_count": 317,
     "metadata": {},
     "output_type": "execute_result"
    }
   ],
   "source": [
    "written_unique[2] < R"
   ]
  },
  {
   "cell_type": "code",
   "execution_count": 318,
   "id": "db9ab05c",
   "metadata": {},
   "outputs": [
    {
     "data": {
      "text/latex": [
       "$\\displaystyle \\left(- P + T\\right) \\left(p_{CCD} + p_{CDD} + p_{DDC}\\right) + \\left(R - S\\right) \\left(p_{CDC} + p_{DCC} + p_{DCD} + p_{DDD}\\right) < - 3 P + 8 R - 4 S - T$"
      ],
      "text/plain": [
       "(-P + T)*(p_{CCD} + p_{CDD} + p_{DDC}) + (R - S)*(p_{CDC} + p_{DCC} + p_{DCD} + p_{DDD}) < -3*P + 8*R - 4*S - T"
      ]
     },
     "execution_count": 318,
     "metadata": {},
     "output_type": "execute_result"
    }
   ],
   "source": [
    "8 * written_unique[3] - 3 * P - 4 * S - T < 8 * R - 3 * P - 4 * S - T"
   ]
  },
  {
   "cell_type": "code",
   "execution_count": 319,
   "id": "fe9aaca9",
   "metadata": {},
   "outputs": [
    {
     "data": {
      "text/latex": [
       "$\\displaystyle p_{DCC} \\left(- P + T\\right) + \\left(R - S\\right) \\left(p_{CCD} + p_{CDC}\\right) < - P + 3 R - 2 S$"
      ],
      "text/plain": [
       "p_{DCC}*(-P + T) + (R - S)*(p_{CCD} + p_{CDC}) < -P + 3*R - 2*S"
      ]
     },
     "execution_count": 319,
     "metadata": {},
     "output_type": "execute_result"
    }
   ],
   "source": [
    "3 * written_unique[4] - P - 2 * S < 3 * R - P - 2 * S"
   ]
  },
  {
   "cell_type": "code",
   "execution_count": 320,
   "id": "8d2ad867",
   "metadata": {},
   "outputs": [
    {
     "data": {
      "text/latex": [
       "$\\displaystyle \\left(- P + T\\right) \\left(p_{CCD} + p_{DCC} + p_{DDC}\\right) + \\left(R - S\\right) \\left(p_{CDC} + p_{CDD} + p_{DCD}\\right) < - 3 P + 6 R - 3 S$"
      ],
      "text/plain": [
       "(-P + T)*(p_{CCD} + p_{DCC} + p_{DDC}) + (R - S)*(p_{CDC} + p_{CDD} + p_{DCD}) < -3*P + 6*R - 3*S"
      ]
     },
     "execution_count": 320,
     "metadata": {},
     "output_type": "execute_result"
    }
   ],
   "source": [
    "6 * written_unique[5] - 3 * P - 3 * S < 6 * R - 3 * P - 3 * S"
   ]
  },
  {
   "cell_type": "code",
   "execution_count": 321,
   "id": "5cbbade0",
   "metadata": {},
   "outputs": [
    {
     "data": {
      "text/latex": [
       "$\\displaystyle \\left(- P + T\\right) \\left(p_{CCD} + p_{DDC}\\right) + \\left(R - S\\right) \\left(p_{CDC} + p_{CDD} + p_{DCC} + p_{DCD}\\right) < - 2 P + 7 R - 4 S - T$"
      ],
      "text/plain": [
       "(-P + T)*(p_{CCD} + p_{DDC}) + (R - S)*(p_{CDC} + p_{CDD} + p_{DCC} + p_{DCD}) < -2*P + 7*R - 4*S - T"
      ]
     },
     "execution_count": 321,
     "metadata": {},
     "output_type": "execute_result"
    }
   ],
   "source": [
    "7 * written_unique[6] - 2 * P - 4 * S - T < 7 * R - 2 * P - 4 * S - T"
   ]
  },
  {
   "cell_type": "code",
   "execution_count": null,
   "id": "97caddf2",
   "metadata": {},
   "outputs": [],
   "source": []
  },
  {
   "cell_type": "code",
   "execution_count": 336,
   "id": "a5e8351e",
   "metadata": {},
   "outputs": [
    {
     "name": "stdout",
     "output_type": "stream",
     "text": [
      "\\left(- P + T\\right) \\left(p_{CCD} + p_{CDD} + p_{DCC}\\right) + \\left(R - S\\right) \\left(p_{DDC} + p_{DDD}\\right) < - 3 P + 5 R - 2 S\n"
     ]
    }
   ],
   "source": [
    "print(sym.latex(5 * written_unique[7] - 3  * P - 2 * S < 5 * R - 3  * P - 2 * S))"
   ]
  },
  {
   "cell_type": "code",
   "execution_count": 337,
   "id": "5a45a5da",
   "metadata": {},
   "outputs": [
    {
     "name": "stdout",
     "output_type": "stream",
     "text": [
      "p_{CDD} \\left(R - S\\right) + \\left(- P + T\\right) \\left(p_{DCD} + p_{DDC}\\right) < - 2 P + 3 R - S\n"
     ]
    }
   ],
   "source": [
    "print(sym.latex(3 * written_unique[8] - 2 * P - S < 3 * R - 2 * P - S))"
   ]
  },
  {
   "cell_type": "code",
   "execution_count": 338,
   "id": "061d59ff",
   "metadata": {},
   "outputs": [
    {
     "name": "stdout",
     "output_type": "stream",
     "text": [
      "p_{CCD} \\left(- P + T\\right) + \\left(R - S\\right) \\left(p_{CDD} + p_{DCC} + p_{DDC}\\right) < - P + 5 R - 3 S - T\n"
     ]
    }
   ],
   "source": [
    "print(sym.latex(5 * written_unique[9] - P - T - 3 * S < 5 * R - P - T - 3 * S))"
   ]
  },
  {
   "cell_type": "code",
   "execution_count": 339,
   "id": "204c9376",
   "metadata": {},
   "outputs": [
    {
     "name": "stdout",
     "output_type": "stream",
     "text": [
      "\\left(- P + T\\right) \\left(p_{CCD} + p_{DCC}\\right) + \\left(R - S\\right) \\left(p_{CDD} + p_{DDC}\\right) < - 2 P + 4 R - 2 S\n"
     ]
    }
   ],
   "source": [
    "print(sym.latex(4 * written_unique[10] - 2 * P - 2 * S < 4 * R  - 2 * P - 2 * S))"
   ]
  },
  {
   "cell_type": "code",
   "execution_count": null,
   "id": "3311301c",
   "metadata": {},
   "outputs": [],
   "source": []
  },
  {
   "cell_type": "code",
   "execution_count": 376,
   "id": "2024d12d",
   "metadata": {},
   "outputs": [
    {
     "name": "stdout",
     "output_type": "stream",
     "text": [
      "\\left(- P + T\\right) \\left(p_{CDC} + p_{DCD}\\right) + \\left(R - S\\right) \\left(p_{CCD} + p_{CDD} + p_{DCC} + p_{DDC}\\right) < - 2 P + 7 R - 4 S - T\n"
     ]
    }
   ],
   "source": [
    "print(sym.latex(7 * written_unique[11] - 2 * P - 4 * S - T < 7 * R - 2 * P - 4 * S - T))"
   ]
  },
  {
   "cell_type": "code",
   "execution_count": 377,
   "id": "375e0eb4",
   "metadata": {},
   "outputs": [
    {
     "name": "stdout",
     "output_type": "stream",
     "text": [
      "\\left(- P + T\\right) \\left(p_{CDC} + p_{CDD} + p_{DCD}\\right) + \\left(R - S\\right) \\left(p_{CCD} + p_{DCC} + p_{DDC} + p_{DDD}\\right) < - 3 P + 8 R - 4 S - T\n"
     ]
    }
   ],
   "source": [
    "print(sym.latex(8 * written_unique[12] - 3 * P - 4 * S - T < 8 * R - 3 * P - 4 * S - T))"
   ]
  },
  {
   "cell_type": "code",
   "execution_count": 378,
   "id": "3c92fac5",
   "metadata": {},
   "outputs": [
    {
     "name": "stdout",
     "output_type": "stream",
     "text": [
      "\\left(- P + T\\right) \\left(p_{CDC} + p_{DCC} + p_{DCD}\\right) + \\left(R - S\\right) \\left(p_{CCD} + p_{CDD} + p_{DDC}\\right) < - 3 P + 6 R - 3 S\n"
     ]
    }
   ],
   "source": [
    "print(sym.latex(6 * written_unique[13] - 3 * P - 3 * S < 6 * R - 3 * P - 3 * S))"
   ]
  },
  {
   "cell_type": "code",
   "execution_count": 379,
   "id": "869db70e",
   "metadata": {},
   "outputs": [
    {
     "name": "stdout",
     "output_type": "stream",
     "text": [
      "\\left(- P + T\\right) \\left(p_{CCD} + p_{CDD} + p_{DCC} + p_{DDC}\\right) + \\left(R - S\\right) \\left(p_{CDC} + p_{DCD} + p_{DDD}\\right) < - 4 P + 7 R - 3 S\n"
     ]
    }
   ],
   "source": [
    "print(sym.latex(7 * written_unique[14] - 4 * P - 3 * S < 7 * R - 4 * P - 3 * S))"
   ]
  },
  {
   "cell_type": "code",
   "execution_count": 380,
   "id": "b6ac55b2",
   "metadata": {},
   "outputs": [
    {
     "name": "stdout",
     "output_type": "stream",
     "text": [
      "\\left(R - S\\right) \\left(p_{CCD} + p_{CDC} + p_{DCC}\\right) < 4 R - 3 S - T\n"
     ]
    }
   ],
   "source": [
    "print(sym.latex(4 * written_unique[15] - 3 * S - T < 4 * R - 3 * S - T))"
   ]
  },
  {
   "cell_type": "code",
   "execution_count": 381,
   "id": "364aae4f",
   "metadata": {},
   "outputs": [
    {
     "name": "stdout",
     "output_type": "stream",
     "text": [
      "\\left(- P + T\\right) \\left(p_{CCD} + p_{CDD}\\right) + \\left(R - S\\right) \\left(p_{DCC} + p_{DDC} + p_{DDD}\\right) < - 2 P + 6 R - 3 S - T\n"
     ]
    }
   ],
   "source": [
    "print(sym.latex(6 * written_unique[16] - 2 * P - 3 * S - T < 6 * R - 2 * P - 3 * S - T))"
   ]
  },
  {
   "cell_type": "code",
   "execution_count": 382,
   "id": "ca2180ab",
   "metadata": {},
   "outputs": [
    {
     "name": "stdout",
     "output_type": "stream",
     "text": [
      "\\left(- P + T\\right) \\left(p_{CDC} + p_{CDD} + p_{DCC} + p_{DCD}\\right) + \\left(R - S\\right) \\left(p_{CCD} + p_{DDC} + p_{DDD}\\right) < - 4 P + 7 R - 3 S\n"
     ]
    }
   ],
   "source": [
    "print(sym.latex(7 * written_unique[17] - 4 * P - 3 * S < 7 * R - 4 * P - 3 * S))"
   ]
  },
  {
   "cell_type": "code",
   "execution_count": null,
   "id": "10bae328",
   "metadata": {},
   "outputs": [],
   "source": []
  }
 ],
 "metadata": {
  "kernelspec": {
   "display_name": "Python 3",
   "language": "python",
   "name": "python3"
  },
  "language_info": {
   "codemirror_mode": {
    "name": "ipython",
    "version": 3
   },
   "file_extension": ".py",
   "mimetype": "text/x-python",
   "name": "python",
   "nbconvert_exporter": "python",
   "pygments_lexer": "ipython3",
   "version": "3.11.3"
  }
 },
 "nbformat": 4,
 "nbformat_minor": 5
}
