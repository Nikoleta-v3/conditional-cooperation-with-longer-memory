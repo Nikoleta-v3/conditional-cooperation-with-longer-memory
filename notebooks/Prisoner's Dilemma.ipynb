{
 "cells": [
  {
   "cell_type": "code",
   "execution_count": 1,
   "id": "8a70e4da",
   "metadata": {},
   "outputs": [],
   "source": [
    "import sympy as sym\n",
    "\n",
    "import numpy as np\n",
    "\n",
    "import repeated_play"
   ]
  },
  {
   "cell_type": "code",
   "execution_count": 2,
   "id": "18cd46f8",
   "metadata": {},
   "outputs": [],
   "source": [
    "import itertools"
   ]
  },
  {
   "cell_type": "code",
   "execution_count": 3,
   "id": "16156042",
   "metadata": {},
   "outputs": [],
   "source": [
    "def trnsf_transition_m_memory_two(player, analytical=True):\n",
    "    \n",
    "    if analytical == True:\n",
    "        M = sym.Matrix([[player[0], (1 - player[0]), 0, 0],\n",
    "                        [0, 0, player[1], (1 - player[1])],\n",
    "                        [player[2], (1 - player[2]), 0, 0],\n",
    "                        [0, 0, player[3], (1 - player[3])]])\n",
    "    else:\n",
    "        M = np.array([[player[0], (1 - player[0]), 0, 0],\n",
    "                        [0, 0, player[1], (1 - player[1])],\n",
    "                        [player[2], (1 - player[2]), 0, 0],\n",
    "                        [0, 0, player[3], (1 - player[3])]])\n",
    "    \n",
    "    \n",
    "    return M"
   ]
  },
  {
   "cell_type": "code",
   "execution_count": 4,
   "id": "9dd0a3fc",
   "metadata": {},
   "outputs": [],
   "source": [
    "def trnsf_transition_m_memory_three(player, analytical=True):\n",
    "    \n",
    "    if analytical == False:\n",
    "    \n",
    "        return np.array([[coplayer[0], (1 - coplayer[0]), 0, 0, 0, 0, 0, 0],\n",
    "                        [0, 0, coplayer[1], (1 - coplayer[1]), 0, 0, 0, 0],\n",
    "                        [0, 0, 0, 0, coplayer[2], (1 - coplayer[2]), 0, 0],\n",
    "                        [0, 0, 0, 0, 0, 0, coplayer[3], (1 - coplayer[3])],\n",
    "                        [coplayer[4], (1 - coplayer[4]), 0, 0, 0, 0, 0, 0],\n",
    "                        [0, 0, coplayer[5], (1 - coplayer[5]), 0, 0, 0, 0],\n",
    "                        [0, 0, 0, 0, coplayer[6], (1 - coplayer[6]), 0, 0],\n",
    "                        [0, 0, 0, 0, 0, 0, coplayer[7], (1 - coplayer[7])]])\n",
    "    \n",
    "    if analytical == True:\n",
    "\n",
    "        return sym.Matrix([[coplayer[0], (1 - coplayer[0]), 0, 0, 0, 0, 0, 0],\n",
    "                        [0, 0, coplayer[1], (1 - coplayer[1]), 0, 0, 0, 0],\n",
    "                        [0, 0, 0, 0, coplayer[2], (1 - coplayer[2]), 0, 0],\n",
    "                        [0, 0, 0, 0, 0, 0, coplayer[3], (1 - coplayer[3])],\n",
    "                        [coplayer[4], (1 - coplayer[4]), 0, 0, 0, 0, 0, 0],\n",
    "                        [0, 0, coplayer[5], (1 - coplayer[5]), 0, 0, 0, 0],\n",
    "                        [0, 0, 0, 0, coplayer[6], (1 - coplayer[6]), 0, 0],\n",
    "                        [0, 0, 0, 0, 0, 0, coplayer[7], (1 - coplayer[7])]])"
   ]
  },
  {
   "cell_type": "code",
   "execution_count": 5,
   "id": "e2c1ee10",
   "metadata": {},
   "outputs": [],
   "source": [
    "r, s, t, p = sym.symbols(\"R, S, T, P\")"
   ]
  },
  {
   "cell_type": "code",
   "execution_count": 6,
   "id": "12c234d1",
   "metadata": {},
   "outputs": [],
   "source": [
    "b, c = sym.symbols(\"b, c\")"
   ]
  },
  {
   "cell_type": "code",
   "execution_count": 7,
   "id": "a6b8da72",
   "metadata": {},
   "outputs": [],
   "source": [
    "q1, q2, q3, q4 = sym.symbols(r\"\\tilde{p}_1, \\tilde{p}_2, \\tilde{p}_3, \\tilde{p}_4\")"
   ]
  },
  {
   "cell_type": "code",
   "execution_count": 8,
   "id": "c797cd95",
   "metadata": {},
   "outputs": [],
   "source": [
    "p1, p2, p3, p4 = sym.symbols(r\"p_1, p_2, p_3, p_4\")"
   ]
  },
  {
   "cell_type": "markdown",
   "id": "dcdde501",
   "metadata": {},
   "source": [
    "### Algebra"
   ]
  },
  {
   "cell_type": "code",
   "execution_count": 9,
   "id": "ba8f4394",
   "metadata": {},
   "outputs": [],
   "source": [
    "rhs = (2 * p + r * (p4 - 3)) / (p - 1) - p2"
   ]
  },
  {
   "cell_type": "code",
   "execution_count": 10,
   "id": "b8f9b883",
   "metadata": {},
   "outputs": [],
   "source": [
    "lhs = (p * (p2 - 1) - p2 - 1) / r - p4"
   ]
  },
  {
   "cell_type": "code",
   "execution_count": 11,
   "id": "a5ee2fc4",
   "metadata": {},
   "outputs": [
    {
     "data": {
      "text/latex": [
       "$\\displaystyle - p_{4} + \\frac{P \\left(p_{2} - 1\\right) - p_{2} - 1}{R}$"
      ],
      "text/plain": [
       "-p_4 + (P*(p_2 - 1) - p_2 - 1)/R"
      ]
     },
     "execution_count": 11,
     "metadata": {},
     "output_type": "execute_result"
    }
   ],
   "source": [
    "lhs"
   ]
  },
  {
   "cell_type": "code",
   "execution_count": 12,
   "id": "0058b8dd",
   "metadata": {},
   "outputs": [
    {
     "data": {
      "text/latex": [
       "$\\displaystyle \\frac{- P - R p_{4} + p_{2} \\left(P - 1\\right) - 1}{R}$"
      ],
      "text/plain": [
       "(-P - R*p_4 + p_2*(P - 1) - 1)/R"
      ]
     },
     "execution_count": 12,
     "metadata": {},
     "output_type": "execute_result"
    }
   ],
   "source": [
    "(lhs).factor().collect(p2).collect(p4)"
   ]
  },
  {
   "cell_type": "code",
   "execution_count": 13,
   "id": "e0cea691",
   "metadata": {},
   "outputs": [
    {
     "data": {
      "text/latex": [
       "$\\displaystyle - \\frac{P^{2} + R^{2} \\left(p_{4} - 3\\right) + R \\left(P \\left(p_{4} + 2\\right) - p_{4}\\right) - 1}{R \\left(P - 1\\right)}$"
      ],
      "text/plain": [
       "-(P**2 + R**2*(p_4 - 3) + R*(P*(p_4 + 2) - p_4) - 1)/(R*(P - 1))"
      ]
     },
     "execution_count": 13,
     "metadata": {},
     "output_type": "execute_result"
    }
   ],
   "source": [
    "sym.solve(rhs < lhs, p2).rhs.collect(r).collect(p)"
   ]
  },
  {
   "cell_type": "markdown",
   "id": "c7634d8b",
   "metadata": {},
   "source": [
    "### $n=2$"
   ]
  },
  {
   "cell_type": "code",
   "execution_count": 14,
   "id": "41f51557",
   "metadata": {},
   "outputs": [],
   "source": [
    "M = trnsf_transition_m_memory_two([q1, q2, q3, q4], analytical=True)"
   ]
  },
  {
   "cell_type": "code",
   "execution_count": 15,
   "id": "2bdf985a",
   "metadata": {},
   "outputs": [
    {
     "name": "stdout",
     "output_type": "stream",
     "text": [
      "\\left[\\begin{matrix}\\tilde{p}_1 & 1 - \\tilde{p}_1 & 0 & 0\\\\0 & 0 & \\tilde{p}_2 & 1 - \\tilde{p}_2\\\\\\tilde{p}_3 & 1 - \\tilde{p}_3 & 0 & 0\\\\0 & 0 & \\tilde{p}_4 & 1 - \\tilde{p}_4\\end{matrix}\\right]\n"
     ]
    }
   ],
   "source": [
    "print(sym.latex(M))"
   ]
  },
  {
   "cell_type": "markdown",
   "id": "359ede1f",
   "metadata": {},
   "source": [
    "Then the payoff of the self-reactive player in the general repeated prisoner's dilemma is \n",
    "\n",
    "\n",
    "$pi(q,p) = aR \\cdot R + aS \\cdot S + aT \\cdot T + aP \\cdot P.$\n",
    "\n",
    "Here, the coefficients are, for example:\n",
    "\n",
    "$aR = vCC  pCC  qCC + vCD  pCD  qCD + vDC  pDC  qDC + vDD  pDD  qDD. $"
   ]
  },
  {
   "cell_type": "code",
   "execution_count": 16,
   "id": "01a4c780",
   "metadata": {},
   "outputs": [],
   "source": [
    "pure_self_reactive = list(itertools.product([0, 1], repeat=4))"
   ]
  },
  {
   "cell_type": "code",
   "execution_count": 24,
   "id": "4f5b218b",
   "metadata": {},
   "outputs": [],
   "source": [
    "r, s, t, p = 3, 0, 5, 1\n",
    "\n",
    "q_v1, q_v2, q_v3, q_v4 = pure_self_reactive[1]\n",
    "\n",
    "np.random.seed(0)\n",
    "\n",
    "p1, p2, p3, p4 = np.random.random(4)\n",
    "\n",
    "player = [p1, p2, p3, p4]\n",
    "    \n",
    "coplayer = [q_v1, q_v2, q_v3, q_v4]\n",
    "\n",
    "M = trnsf_transition_m_memory_two(coplayer, analytical=False)\n",
    "\n",
    "ss = repeated_play.stationary_distribution(M)[0]\n",
    "\n",
    "rho_q = ss[0] + ss[1]\n",
    "\n",
    "rho_p = sum([ss[i] * player[i] for i in range(4)])\n",
    "\n",
    "x1 = sum([ss[i] * player[i] * coplayer[i] for i in range(4)])\n",
    "x2 = sum([ss[i] * player[i] * (1 - coplayer[i]) for i in range(4)])\n",
    "x3 = sum([ss[i] * (1 - player[i]) * coplayer[i] for i in range(4)])\n",
    "x4 = sum([ss[i] * (1 - player[i]) * (1 - coplayer[i]) for i in range(4)])\n",
    "\n",
    "payoff = (x1 * r + x2 * s + x3  * t + x4  * p)\n",
    "\n",
    "\n",
    "M2 = repeated_play.transition_matrix_repeated_game([p1, p2, p1, p2, p3, p4, p3, p4, \n",
    "                                                    p1, p2, p1, p2, p3, p4, p3, p4],\n",
    "                                                   [q_v1, q_v1, q_v2, q_v2, q_v1, q_v1, q_v2, q_v2, \n",
    "                                                    q_v3, q_v3, q_v4, q_v4, q_v3, q_v3, q_v4, q_v4],\n",
    "                                                   memory=\"two\",\n",
    "                                                   analytical=False)\n",
    "\n",
    "ss2 = repeated_play.stationary_distribution(M2, analytical=False)\n",
    "\n",
    "assert np.isclose(payoff, sum(ss2 @ np.array([r, s, t, p] * 4)))"
   ]
  },
  {
   "cell_type": "code",
   "execution_count": 25,
   "id": "95e033d2",
   "metadata": {},
   "outputs": [],
   "source": [
    "r, s, t, p = 3, 0, 5, 1\n",
    "\n",
    "q_v1, q_v2, q_v3, q_v4 = pure_self_reactive[1]\n",
    "\n",
    "np.random.seed(0)\n",
    "\n",
    "p1, p2, p3, p4 = np.random.random(4)\n",
    "\n",
    "player = [p1, p2, p3, p4]\n",
    "    \n",
    "coplayer = [q_v1, q_v2, q_v3, q_v4]\n",
    "\n",
    "M = trnsf_transition_m_memory_two(coplayer, analytical=False)\n",
    "\n",
    "ss = repeated_play.stationary_distribution(M)[0]\n",
    "\n",
    "rho_q = ss[0] + ss[1]\n",
    "\n",
    "rho_p = sum([ss[i] * player[i] for i in range(4)])\n",
    "\n",
    "x1 = sum([ss[i] * player[i] * coplayer[i] for i in range(4)])\n",
    "x2 = sum([ss[i] * player[i] * (1 - coplayer[i]) for i in range(4)])\n",
    "x3 = sum([ss[i] * (1 - player[i]) * coplayer[i] for i in range(4)])\n",
    "x4 = sum([ss[i] * (1 - player[i]) * (1 - coplayer[i]) for i in range(4)])\n",
    "\n",
    "payoff2 = (x1 * r + x3 * s + x2  * t + x4  * p)\n",
    "\n",
    "\n",
    "M2 = repeated_play.transition_matrix_repeated_game([p1, p2, p1, p2, p3, p4, p3, p4, \n",
    "                                                    p1, p2, p1, p2, p3, p4, p3, p4],\n",
    "                                                   [q_v1, q_v1, q_v2, q_v2, q_v1, q_v1, q_v2, q_v2, \n",
    "                                                    q_v3, q_v3, q_v4, q_v4, q_v3, q_v3, q_v4, q_v4],\n",
    "                                                   memory=\"two\",\n",
    "                                                   analytical=False)\n",
    "\n",
    "ss2 = repeated_play.stationary_distribution(M2, analytical=False)\n",
    "\n",
    "assert np.isclose(payoff2, sum(ss2 @ np.array([r, t, s, p] * 4)))"
   ]
  },
  {
   "cell_type": "markdown",
   "id": "e640970c",
   "metadata": {},
   "source": [
    "### Analytical Expressions"
   ]
  },
  {
   "cell_type": "code",
   "execution_count": 26,
   "id": "1b79fe1d",
   "metadata": {},
   "outputs": [],
   "source": [
    "p1, p2, p3, p4 = sym.symbols(r\"p_1, p_2, p_3, p_4\")\n",
    "\n",
    "player = [1, p2, p3, p4]\n",
    "\n",
    "r, s, t, p = sym.symbols(\"R, S, T, P\")"
   ]
  },
  {
   "cell_type": "code",
   "execution_count": 58,
   "id": "b05ad691",
   "metadata": {},
   "outputs": [],
   "source": [
    "payoffs = []\n",
    "\n",
    "for i, coplayer in enumerate(pure_self_reactive):\n",
    "    \n",
    "    M = trnsf_transition_m_memory_two(coplayer, analytical=False)\n",
    "    \n",
    "    states = repeated_play.stationary_distribution(M)\n",
    "    \n",
    "    for ss in states:\n",
    "        \n",
    "        x1 = sum([ss[i] * player[i] * coplayer[i] for i in range(4)])\n",
    "        x2 = sum([ss[i] * player[i] * (1 - coplayer[i]) for i in range(4)])\n",
    "        x3 = sum([ss[i] * (1 - player[i]) * coplayer[i] for i in range(4)])\n",
    "        x4 = sum([ss[i] * (1 - player[i]) * (1 - coplayer[i]) for i in range(4)])\n",
    "        \n",
    "        payoff = (x1 * r + x3 * s + x2  * t + x4  * p).factor()\n",
    "        \n",
    "        payoffs.append((i, payoff))\n",
    "    \n"
   ]
  },
  {
   "cell_type": "code",
   "execution_count": 59,
   "id": "9effdeb0",
   "metadata": {},
   "outputs": [
    {
     "data": {
      "text/plain": [
       "25"
      ]
     },
     "execution_count": 59,
     "metadata": {},
     "output_type": "execute_result"
    }
   ],
   "source": [
    "len(payoffs)"
   ]
  },
  {
   "cell_type": "markdown",
   "id": "00ffe86b",
   "metadata": {},
   "source": [
    "### Donation Check"
   ]
  },
  {
   "cell_type": "code",
   "execution_count": 60,
   "id": "c2e7dc0d",
   "metadata": {},
   "outputs": [],
   "source": [
    "a = set([payoff[1].subs({t: b, r: (b - c), s:-c, p:0}) for payoff in payoffs])"
   ]
  },
  {
   "cell_type": "code",
   "execution_count": 61,
   "id": "3f1b9861",
   "metadata": {},
   "outputs": [],
   "source": [
    "expected = set([1.0*b*p4,\n",
    " b*(0.333333333333333*p2 + 0.333333333333333*p3 + 0.333333333333333*p4) - 0.333333333333333*c,\n",
    " 1.0*b*p4,\n",
    " b*(0.25*p2 + 0.25*p3 + 0.25*p4 + 0.25) - 0.5*c,\n",
    " b*(0.5*p2 + 0.5*p3) - 0.5*c,\n",
    " 1.0*b*p4,\n",
    " b*(0.5*p2 + 0.5*p3) - 0.5*c,\n",
    " b*(0.333333333333333*p2 + 0.333333333333333*p3 + 0.333333333333333) - 0.666666666666667*c,\n",
    " 1.0*b*p4,\n",
    " b*(0.333333333333333*p2 + 0.333333333333333*p3 + 0.333333333333333) - 0.666666666666667*c,\n",
    " 1.0*b - 1.0*c,\n",
    " 1.0*b*p4,\n",
    " b*(0.333333333333333*p2 + 0.333333333333333*p3 + 0.333333333333333*p4) - 0.333333333333333*c,\n",
    " 1.0*b - 1.0*c,\n",
    " 1.0*b - 1.0*c,\n",
    " 1.0*b*p4,\n",
    " 1.0*b - 1.0*c,\n",
    " b*(0.5*p2 + 0.5*p3) - 0.5*c,\n",
    " 1.0*b - 1.0*c,\n",
    " 1.0*b*p4,\n",
    " b*(0.5*p2 + 0.5*p3) - 0.5*c,\n",
    " 1.0*b - 1.0*c,\n",
    " 1.0*b - 1.0*c,\n",
    " 1.0*b*p4,\n",
    " 1.0*b - 1.0*c])"
   ]
  },
  {
   "cell_type": "code",
   "execution_count": 62,
   "id": "875712ff",
   "metadata": {},
   "outputs": [
    {
     "data": {
      "text/latex": [
       "$\\displaystyle 0$"
      ],
      "text/plain": [
       "0"
      ]
     },
     "execution_count": 62,
     "metadata": {},
     "output_type": "execute_result"
    }
   ],
   "source": [
    "(list(a)[0] - list(expected)[4]).factor()"
   ]
  },
  {
   "cell_type": "code",
   "execution_count": 63,
   "id": "b1c4f9a3",
   "metadata": {},
   "outputs": [
    {
     "data": {
      "text/latex": [
       "$\\displaystyle 0.333333333333333 \\cdot \\left(9.99200722162641 \\cdot 10^{-16} b p_{2} + 9.99200722162641 \\cdot 10^{-16} b p_{3} - 1.0 b p_{4} + 1.0 b - 1.0 c\\right)$"
      ],
      "text/plain": [
       "0.333333333333333*(9.99200722162641e-16*b*p_2 + 9.99200722162641e-16*b*p_3 - 1.0*b*p_4 + 1.0*b - 1.0*c)"
      ]
     },
     "execution_count": 63,
     "metadata": {},
     "output_type": "execute_result"
    }
   ],
   "source": [
    "(list(a)[1] - list(expected)[1]).factor()"
   ]
  },
  {
   "cell_type": "code",
   "execution_count": 74,
   "id": "399d28fd",
   "metadata": {},
   "outputs": [
    {
     "data": {
      "text/latex": [
       "$\\displaystyle 1.0 b p_{4} - 1.0 b + 1.0 c$"
      ],
      "text/plain": [
       "1.0*b*p_4 - 1.0*b + 1.0*c"
      ]
     },
     "execution_count": 74,
     "metadata": {},
     "output_type": "execute_result"
    }
   ],
   "source": [
    "(list(a)[2] - list(expected)[3])"
   ]
  },
  {
   "cell_type": "code",
   "execution_count": 65,
   "id": "0139b67e",
   "metadata": {},
   "outputs": [
    {
     "data": {
      "text/latex": [
       "$\\displaystyle - 0.666666666666667 \\cdot \\left(0.5 b p_{2} + 0.5 b p_{3} - 1.0 b + 0.5 c\\right)$"
      ],
      "text/plain": [
       "-0.666666666666667*(0.5*b*p_2 + 0.5*b*p_3 - 1.0*b + 0.5*c)"
      ]
     },
     "execution_count": 65,
     "metadata": {},
     "output_type": "execute_result"
    }
   ],
   "source": [
    "(list(a)[3] - list(expected)[2]).factor()"
   ]
  },
  {
   "cell_type": "code",
   "execution_count": 66,
   "id": "232bf1b1",
   "metadata": {},
   "outputs": [
    {
     "data": {
      "text/latex": [
       "$\\displaystyle 1.0 \\cdot \\left(0.5 b p_{2} + 0.5 b p_{3} - 1.0 b p_{4} - 0.5 c\\right)$"
      ],
      "text/plain": [
       "1.0*(0.5*b*p_2 + 0.5*b*p_3 - 1.0*b*p_4 - 0.5*c)"
      ]
     },
     "execution_count": 66,
     "metadata": {},
     "output_type": "execute_result"
    }
   ],
   "source": [
    "(list(a)[4] - list(expected)[5]).factor()"
   ]
  },
  {
   "cell_type": "code",
   "execution_count": 67,
   "id": "e8ab7581",
   "metadata": {},
   "outputs": [
    {
     "data": {
      "text/latex": [
       "$\\displaystyle - 0.333333333333333 \\cdot \\left(0.5 b p_{2} + 0.5 b p_{3} - 1.0 b p_{4} - 0.5 c\\right)$"
      ],
      "text/plain": [
       "-0.333333333333333*(0.5*b*p_2 + 0.5*b*p_3 - 1.0*b*p_4 - 0.5*c)"
      ]
     },
     "execution_count": 67,
     "metadata": {},
     "output_type": "execute_result"
    }
   ],
   "source": [
    "(list(a)[5] - list(expected)[0]).factor()"
   ]
  },
  {
   "cell_type": "markdown",
   "id": "40135f89",
   "metadata": {},
   "source": [
    "### Expressions"
   ]
  },
  {
   "cell_type": "code",
   "execution_count": 75,
   "id": "c8d823a3",
   "metadata": {},
   "outputs": [
    {
     "data": {
      "text/plain": [
       "[0, 2, 4, 6, 8, 10, 12, 14]"
      ]
     },
     "execution_count": 75,
     "metadata": {},
     "output_type": "execute_result"
    }
   ],
   "source": [
    "[i for i, p in payoffs if p == payoffs[0][1]]"
   ]
  },
  {
   "cell_type": "code",
   "execution_count": 76,
   "id": "5d85be84",
   "metadata": {},
   "outputs": [
    {
     "data": {
      "text/latex": [
       "$\\displaystyle P \\left(1.0 - 1.0 p_{4}\\right) + 1.0 T p_{4}$"
      ],
      "text/plain": [
       "P*(1.0 - 1.0*p_4) + 1.0*T*p_4"
      ]
     },
     "execution_count": 76,
     "metadata": {},
     "output_type": "execute_result"
    }
   ],
   "source": [
    "payoffs[0][1].simplify().collect(p)"
   ]
  },
  {
   "cell_type": "code",
   "execution_count": 77,
   "id": "26aefe2a",
   "metadata": {},
   "outputs": [
    {
     "data": {
      "text/plain": [
       "[1, 9]"
      ]
     },
     "execution_count": 77,
     "metadata": {},
     "output_type": "execute_result"
    }
   ],
   "source": [
    "[i for i, p in payoffs if p == payoffs[1][1]]"
   ]
  },
  {
   "cell_type": "code",
   "execution_count": 78,
   "id": "4195b4ad",
   "metadata": {},
   "outputs": [],
   "source": [
    "wrt2 =  -(p * (- 2 + p2  + p3 ) - r * p4 + s * (p4 - 1) - t * (p2 + p3)) / 3"
   ]
  },
  {
   "cell_type": "code",
   "execution_count": 79,
   "id": "989f1df8",
   "metadata": {},
   "outputs": [
    {
     "data": {
      "text/latex": [
       "$\\displaystyle 0$"
      ],
      "text/plain": [
       "0"
      ]
     },
     "execution_count": 79,
     "metadata": {},
     "output_type": "execute_result"
    }
   ],
   "source": [
    "(wrt2 - payoffs[1][1]).factor()"
   ]
  },
  {
   "cell_type": "code",
   "execution_count": 80,
   "id": "f21aa255",
   "metadata": {},
   "outputs": [
    {
     "data": {
      "text/latex": [
       "$\\displaystyle - \\frac{P \\left(p_{2} + p_{3} - 2\\right)}{3} + \\frac{R p_{4}}{3} - \\frac{S \\left(p_{4} - 1\\right)}{3} + \\frac{T \\left(p_{2} + p_{3}\\right)}{3}$"
      ],
      "text/plain": [
       "-P*(p_2 + p_3 - 2)/3 + R*p_4/3 - S*(p_4 - 1)/3 + T*(p_2 + p_3)/3"
      ]
     },
     "execution_count": 80,
     "metadata": {},
     "output_type": "execute_result"
    }
   ],
   "source": [
    "wrt2"
   ]
  },
  {
   "cell_type": "code",
   "execution_count": 81,
   "id": "17b3e238",
   "metadata": {},
   "outputs": [
    {
     "data": {
      "text/plain": [
       "[3]"
      ]
     },
     "execution_count": 81,
     "metadata": {},
     "output_type": "execute_result"
    }
   ],
   "source": [
    "[i for i, p in payoffs if p == payoffs[3][1]]"
   ]
  },
  {
   "cell_type": "code",
   "execution_count": 82,
   "id": "e4e05efe",
   "metadata": {},
   "outputs": [],
   "source": [
    "wrt3 = ( p * (1 - p2) + r * (p3 + p4) - s * (p3 + p4 - 2) + t * (p2 + 1)) / 4"
   ]
  },
  {
   "cell_type": "code",
   "execution_count": 83,
   "id": "bf25d668",
   "metadata": {},
   "outputs": [
    {
     "data": {
      "text/latex": [
       "$\\displaystyle 0$"
      ],
      "text/plain": [
       "0"
      ]
     },
     "execution_count": 83,
     "metadata": {},
     "output_type": "execute_result"
    }
   ],
   "source": [
    "(wrt3 - payoffs[3][1]).factor()"
   ]
  },
  {
   "cell_type": "code",
   "execution_count": 84,
   "id": "605974e9",
   "metadata": {},
   "outputs": [
    {
     "data": {
      "text/latex": [
       "$\\displaystyle \\frac{P \\left(1 - p_{2}\\right)}{4} + \\frac{R \\left(p_{3} + p_{4}\\right)}{4} - \\frac{S \\left(p_{3} + p_{4} - 2\\right)}{4} + \\frac{T \\left(p_{2} + 1\\right)}{4}$"
      ],
      "text/plain": [
       "P*(1 - p_2)/4 + R*(p_3 + p_4)/4 - S*(p_3 + p_4 - 2)/4 + T*(p_2 + 1)/4"
      ]
     },
     "execution_count": 84,
     "metadata": {},
     "output_type": "execute_result"
    }
   ],
   "source": [
    "wrt3"
   ]
  },
  {
   "cell_type": "code",
   "execution_count": 85,
   "id": "671454bf",
   "metadata": {},
   "outputs": [
    {
     "data": {
      "text/plain": [
       "[4, 5, 12, 13]"
      ]
     },
     "execution_count": 85,
     "metadata": {},
     "output_type": "execute_result"
    }
   ],
   "source": [
    "[i for i, p in payoffs if p == payoffs[4][1]]"
   ]
  },
  {
   "cell_type": "code",
   "execution_count": 86,
   "id": "f6aa3856",
   "metadata": {},
   "outputs": [
    {
     "data": {
      "text/latex": [
       "$\\displaystyle \\frac{P p_{2} - P + 4 R - 2 S - T p_{2} - T}{R - S}$"
      ],
      "text/plain": [
       "(P*p_2 - P + 4*R - 2*S - T*p_2 - T)/(R - S)"
      ]
     },
     "execution_count": 86,
     "metadata": {},
     "output_type": "execute_result"
    }
   ],
   "source": [
    "sym.solve(wrt3 - r, p3 + p4)[0]"
   ]
  },
  {
   "cell_type": "code",
   "execution_count": 87,
   "id": "3559164d",
   "metadata": {},
   "outputs": [],
   "source": [
    "wrt4 = (p * (- p3 + 1) + r * p2 - s * (p2 - 1) + t * p3) / 2"
   ]
  },
  {
   "cell_type": "code",
   "execution_count": 88,
   "id": "fababa94",
   "metadata": {},
   "outputs": [
    {
     "data": {
      "text/latex": [
       "$\\displaystyle 0$"
      ],
      "text/plain": [
       "0"
      ]
     },
     "execution_count": 88,
     "metadata": {},
     "output_type": "execute_result"
    }
   ],
   "source": [
    "(wrt4 - payoffs[4][1]).expand()"
   ]
  },
  {
   "cell_type": "code",
   "execution_count": 89,
   "id": "b9f3dbcd",
   "metadata": {},
   "outputs": [
    {
     "data": {
      "text/latex": [
       "$\\displaystyle \\frac{P \\left(1 - p_{3}\\right)}{2} + \\frac{R p_{2}}{2} - \\frac{S \\left(p_{2} - 1\\right)}{2} + \\frac{T p_{3}}{2}$"
      ],
      "text/plain": [
       "P*(1 - p_3)/2 + R*p_2/2 - S*(p_2 - 1)/2 + T*p_3/2"
      ]
     },
     "execution_count": 89,
     "metadata": {},
     "output_type": "execute_result"
    }
   ],
   "source": [
    "wrt4"
   ]
  },
  {
   "cell_type": "code",
   "execution_count": 90,
   "id": "11992fb8",
   "metadata": {},
   "outputs": [
    {
     "data": {
      "text/latex": [
       "$\\displaystyle 0$"
      ],
      "text/plain": [
       "0"
      ]
     },
     "execution_count": 90,
     "metadata": {},
     "output_type": "execute_result"
    }
   ],
   "source": [
    "(wrt4 - payoffs[6][1]).expand()"
   ]
  },
  {
   "cell_type": "code",
   "execution_count": 91,
   "id": "985df5e0",
   "metadata": {},
   "outputs": [
    {
     "data": {
      "text/plain": [
       "[6, 7]"
      ]
     },
     "execution_count": 91,
     "metadata": {},
     "output_type": "execute_result"
    }
   ],
   "source": [
    "[i for i, p in payoffs if p == payoffs[7][1]]"
   ]
  },
  {
   "cell_type": "code",
   "execution_count": 92,
   "id": "655ec7fa",
   "metadata": {},
   "outputs": [],
   "source": [
    "wrt5 = (r * (p2 + p3) - s * (p2 + p3 - 2) + t) / 3"
   ]
  },
  {
   "cell_type": "code",
   "execution_count": 93,
   "id": "a3f45df7",
   "metadata": {},
   "outputs": [
    {
     "data": {
      "text/latex": [
       "$\\displaystyle 0$"
      ],
      "text/plain": [
       "0"
      ]
     },
     "execution_count": 93,
     "metadata": {},
     "output_type": "execute_result"
    }
   ],
   "source": [
    "(wrt5 - payoffs[7][1]).factor()"
   ]
  },
  {
   "cell_type": "code",
   "execution_count": 94,
   "id": "2404d101",
   "metadata": {},
   "outputs": [
    {
     "data": {
      "text/latex": [
       "$\\displaystyle \\frac{R \\left(p_{2} + p_{3}\\right)}{3} - \\frac{S \\left(p_{2} + p_{3} - 2\\right)}{3} + \\frac{T}{3}$"
      ],
      "text/plain": [
       "R*(p_2 + p_3)/3 - S*(p_2 + p_3 - 2)/3 + T/3"
      ]
     },
     "execution_count": 94,
     "metadata": {},
     "output_type": "execute_result"
    }
   ],
   "source": [
    "wrt5"
   ]
  },
  {
   "cell_type": "markdown",
   "id": "34b9f6f6",
   "metadata": {},
   "source": [
    "### Conditions"
   ]
  },
  {
   "cell_type": "code",
   "execution_count": 114,
   "id": "21428bde",
   "metadata": {},
   "outputs": [
    {
     "data": {
      "text/latex": [
       "$\\displaystyle \\frac{P - R}{P - 1}$"
      ],
      "text/plain": [
       "(P - R)/(P - 1)"
      ]
     },
     "execution_count": 114,
     "metadata": {},
     "output_type": "execute_result"
    }
   ],
   "source": [
    "sym.solve(payoffs[0][1] - r, p4)[0].subs({s:0, t:1})"
   ]
  },
  {
   "cell_type": "code",
   "execution_count": 118,
   "id": "b24f9f41",
   "metadata": {},
   "outputs": [
    {
     "data": {
      "text/latex": [
       "$\\displaystyle \\frac{P p_{2} + P p_{3} - 2 P + S p_{4} - S - T p_{2} - T p_{3}}{p_{4} - 3}$"
      ],
      "text/plain": [
       "(P*p_2 + P*p_3 - 2*P + S*p_4 - S - T*p_2 - T*p_3)/(p_4 - 3)"
      ]
     },
     "execution_count": 118,
     "metadata": {},
     "output_type": "execute_result"
    }
   ],
   "source": [
    "sym.solve(wrt2 - r, r)[0]"
   ]
  },
  {
   "cell_type": "code",
   "execution_count": 98,
   "id": "a8a67a45",
   "metadata": {},
   "outputs": [
    {
     "data": {
      "text/latex": [
       "$\\displaystyle \\frac{R \\left(p_{4} - 3\\right) + S \\left(1 - p_{4}\\right) + T p_{2} + T p_{3}}{p_{2} + p_{3} - 2}$"
      ],
      "text/plain": [
       "(R*(p_4 - 3) + S*(1 - p_4) + T*p_2 + T*p_3)/(p_2 + p_3 - 2)"
      ]
     },
     "execution_count": 98,
     "metadata": {},
     "output_type": "execute_result"
    }
   ],
   "source": [
    "sym.solve(wrt2 - r, p)[0].collect(r).collect(s)"
   ]
  },
  {
   "cell_type": "code",
   "execution_count": 62,
   "id": "80c284be",
   "metadata": {},
   "outputs": [
    {
     "data": {
      "text/latex": [
       "$\\displaystyle \\frac{2 P + R \\left(p_{4} - 3\\right)}{P - 1}$"
      ],
      "text/plain": [
       "(2*P + R*(p_4 - 3))/(P - 1)"
      ]
     },
     "execution_count": 62,
     "metadata": {},
     "output_type": "execute_result"
    }
   ],
   "source": [
    "sym.solve(wrt2 - r, p2 + p3)[0].collect(r).collect(s).subs({s:0, t:1})"
   ]
  },
  {
   "cell_type": "code",
   "execution_count": 63,
   "id": "dc54e39a",
   "metadata": {},
   "outputs": [
    {
     "data": {
      "text/latex": [
       "$\\displaystyle \\frac{3 R - 2 S - T}{R - S}$"
      ],
      "text/plain": [
       "(3*R - 2*S - T)/(R - S)"
      ]
     },
     "execution_count": 63,
     "metadata": {},
     "output_type": "execute_result"
    }
   ],
   "source": [
    "sym.solve(wrt5 - r, p2 + p3)[0]"
   ]
  },
  {
   "cell_type": "code",
   "execution_count": 64,
   "id": "2b5944c0",
   "metadata": {},
   "outputs": [
    {
     "data": {
      "text/latex": [
       "$\\displaystyle \\frac{3 R - 1}{R}$"
      ],
      "text/plain": [
       "(3*R - 1)/R"
      ]
     },
     "execution_count": 64,
     "metadata": {},
     "output_type": "execute_result"
    }
   ],
   "source": [
    "sym.solve(wrt5 - r, p2 + p3)[0].subs({s:0, t:1})"
   ]
  },
  {
   "cell_type": "code",
   "execution_count": 68,
   "id": "f78619ac",
   "metadata": {},
   "outputs": [
    {
     "data": {
      "text/latex": [
       "$\\displaystyle \\frac{P \\left(p_{2} - 1\\right) + 4 R - 2 S + T \\left(- p_{2} - 1\\right)}{R - S}$"
      ],
      "text/plain": [
       "(P*(p_2 - 1) + 4*R - 2*S + T*(-p_2 - 1))/(R - S)"
      ]
     },
     "execution_count": 68,
     "metadata": {},
     "output_type": "execute_result"
    }
   ],
   "source": [
    "sym.solve(wrt3 - r, p3 + p4)[0].collect(p).collect(t)"
   ]
  },
  {
   "cell_type": "code",
   "execution_count": 69,
   "id": "8e629de6",
   "metadata": {},
   "outputs": [
    {
     "name": "stdout",
     "output_type": "stream",
     "text": [
      "\\frac{P \\left(p_{2} - 1\\right) + 4 R - 2 S + T \\left(- p_{2} - 1\\right)}{R - S}\n"
     ]
    }
   ],
   "source": [
    "print(sym.latex(sym.solve(wrt3 - r, p3 + p4)[0].collect(p).collect(t)))"
   ]
  },
  {
   "cell_type": "code",
   "execution_count": 70,
   "id": "8623f198",
   "metadata": {},
   "outputs": [
    {
     "data": {
      "text/latex": [
       "$\\displaystyle \\frac{P \\left(p_{2} - 1\\right) + 4 R - p_{2} - 1}{R}$"
      ],
      "text/plain": [
       "(P*(p_2 - 1) + 4*R - p_2 - 1)/R"
      ]
     },
     "execution_count": 70,
     "metadata": {},
     "output_type": "execute_result"
    }
   ],
   "source": [
    "sym.solve(wrt3 - r, p3 + p4)[0].collect(p).collect(t).subs({s:0, t:1})"
   ]
  },
  {
   "cell_type": "code",
   "execution_count": 71,
   "id": "bd385c3f",
   "metadata": {},
   "outputs": [
    {
     "name": "stdout",
     "output_type": "stream",
     "text": [
      "\\frac{P \\left(p_{2} - 1\\right) + 4 R - p_{2} - 1}{R}\n"
     ]
    }
   ],
   "source": [
    "print(sym.latex(sym.solve(wrt3 - r, p3 + p4)[0].collect(p).collect(t).subs({s:0, t:1})))"
   ]
  },
  {
   "cell_type": "code",
   "execution_count": 72,
   "id": "9185379b",
   "metadata": {},
   "outputs": [
    {
     "data": {
      "text/latex": [
       "$\\displaystyle \\frac{P \\left(1 - p_{3}\\right)}{2} + \\frac{R p_{2}}{2} - \\frac{S \\left(p_{2} - 1\\right)}{2} + \\frac{T p_{3}}{2}$"
      ],
      "text/plain": [
       "P*(1 - p_3)/2 + R*p_2/2 - S*(p_2 - 1)/2 + T*p_3/2"
      ]
     },
     "execution_count": 72,
     "metadata": {},
     "output_type": "execute_result"
    }
   ],
   "source": [
    "wrt4"
   ]
  },
  {
   "cell_type": "code",
   "execution_count": 73,
   "id": "30c4e218",
   "metadata": {},
   "outputs": [
    {
     "data": {
      "text/latex": [
       "$\\displaystyle \\frac{P p_{3} - P + 2 R - S - T p_{3}}{R - S}$"
      ],
      "text/plain": [
       "(P*p_3 - P + 2*R - S - T*p_3)/(R - S)"
      ]
     },
     "execution_count": 73,
     "metadata": {},
     "output_type": "execute_result"
    }
   ],
   "source": [
    "sym.solve(wrt4 - r, p2)[0]"
   ]
  },
  {
   "cell_type": "code",
   "execution_count": 75,
   "id": "835bc392",
   "metadata": {},
   "outputs": [
    {
     "data": {
      "text/latex": [
       "$\\displaystyle \\frac{P p_{3} - P + 2 R - p_{3}}{R}$"
      ],
      "text/plain": [
       "(P*p_3 - P + 2*R - p_3)/R"
      ]
     },
     "execution_count": 75,
     "metadata": {},
     "output_type": "execute_result"
    }
   ],
   "source": [
    "sym.solve(wrt4 - r, p2)[0].subs({t:1, s:0})"
   ]
  },
  {
   "cell_type": "markdown",
   "id": "94f9f40e",
   "metadata": {},
   "source": [
    "### Comparing conditions"
   ]
  },
  {
   "cell_type": "code",
   "execution_count": 122,
   "id": "28c12d12",
   "metadata": {},
   "outputs": [
    {
     "data": {
      "text/plain": [
       "[(P*p_2 - P - R*p_4 + 4*R + S*p_4 - 2*S - T*p_2 - T)/(R - S)]"
      ]
     },
     "execution_count": 122,
     "metadata": {},
     "output_type": "execute_result"
    }
   ],
   "source": [
    "sym.solve(wrt3 - r, p3)"
   ]
  },
  {
   "cell_type": "code",
   "execution_count": 149,
   "id": "04c449cc",
   "metadata": {},
   "outputs": [],
   "source": [
    "lhs = sym.solve(wrt3 - r, p2)[0].subs({t:1, s:0})"
   ]
  },
  {
   "cell_type": "code",
   "execution_count": 150,
   "id": "bdda4a5a",
   "metadata": {},
   "outputs": [
    {
     "data": {
      "text/latex": [
       "$\\displaystyle \\frac{P + R p_{3} + R p_{4} - 4 R + 1}{P - 1}$"
      ],
      "text/plain": [
       "(P + R*p_3 + R*p_4 - 4*R + 1)/(P - 1)"
      ]
     },
     "execution_count": 150,
     "metadata": {},
     "output_type": "execute_result"
    }
   ],
   "source": [
    "lhs"
   ]
  },
  {
   "cell_type": "code",
   "execution_count": 151,
   "id": "f858c41e",
   "metadata": {},
   "outputs": [
    {
     "data": {
      "text/latex": [
       "$\\displaystyle \\frac{P + R \\left(p_{3} + p_{4} - 4\\right) + 1}{P - 1}$"
      ],
      "text/plain": [
       "(P + R*(p_3 + p_4 - 4) + 1)/(P - 1)"
      ]
     },
     "execution_count": 151,
     "metadata": {},
     "output_type": "execute_result"
    }
   ],
   "source": [
    "lhs.collect(r)"
   ]
  },
  {
   "cell_type": "code",
   "execution_count": 152,
   "id": "caa9ddab",
   "metadata": {},
   "outputs": [],
   "source": [
    "rhs = sym.solve(wrt2 - r, p2)[0].subs({t:1, s:0})"
   ]
  },
  {
   "cell_type": "code",
   "execution_count": 154,
   "id": "0fdab193",
   "metadata": {},
   "outputs": [
    {
     "data": {
      "text/latex": [
       "$\\displaystyle \\frac{- P p_{3} + 2 P + R p_{4} - 3 R + p_{3}}{P - 1}$"
      ],
      "text/plain": [
       "(-P*p_3 + 2*P + R*p_4 - 3*R + p_3)/(P - 1)"
      ]
     },
     "execution_count": 154,
     "metadata": {},
     "output_type": "execute_result"
    }
   ],
   "source": [
    "rhs"
   ]
  },
  {
   "cell_type": "code",
   "execution_count": 153,
   "id": "3edad998",
   "metadata": {},
   "outputs": [
    {
     "data": {
      "text/latex": [
       "$\\displaystyle \\frac{\\left(p_{3} - 1\\right) \\left(P + R - 1\\right)}{P - 1}$"
      ],
      "text/plain": [
       "(p_3 - 1)*(P + R - 1)/(P - 1)"
      ]
     },
     "execution_count": 153,
     "metadata": {},
     "output_type": "execute_result"
    }
   ],
   "source": [
    "(lhs - rhs).factor()"
   ]
  },
  {
   "cell_type": "code",
   "execution_count": 91,
   "id": "0c9824b8",
   "metadata": {},
   "outputs": [
    {
     "data": {
      "text/latex": [
       "$\\displaystyle \\frac{\\left(p_{3} - 1\\right) \\left(P + R - 1\\right)}{P - 1}$"
      ],
      "text/plain": [
       "(p_3 - 1)*(P + R - 1)/(P - 1)"
      ]
     },
     "execution_count": 91,
     "metadata": {},
     "output_type": "execute_result"
    }
   ],
   "source": [
    "(lhs - rhs).factor()"
   ]
  },
  {
   "cell_type": "code",
   "execution_count": 96,
   "id": "545a98d3",
   "metadata": {},
   "outputs": [
    {
     "data": {
      "text/latex": [
       "$\\displaystyle \\frac{P p_{2} - P + 4 R - 2 S - T p_{2} - T}{R - S}$"
      ],
      "text/plain": [
       "(P*p_2 - P + 4*R - 2*S - T*p_2 - T)/(R - S)"
      ]
     },
     "execution_count": 96,
     "metadata": {},
     "output_type": "execute_result"
    }
   ],
   "source": [
    "sym.solve(wrt3 - r, p3 + p4)[0]"
   ]
  },
  {
   "cell_type": "code",
   "execution_count": 99,
   "id": "007f5032",
   "metadata": {},
   "outputs": [
    {
     "data": {
      "text/latex": [
       "$\\displaystyle \\frac{2 P + R p_{4} - 3 R - S p_{4} + S}{P - T}$"
      ],
      "text/plain": [
       "(2*P + R*p_4 - 3*R - S*p_4 + S)/(P - T)"
      ]
     },
     "execution_count": 99,
     "metadata": {},
     "output_type": "execute_result"
    }
   ],
   "source": [
    "sym.solve(wrt2 - r, p2 + p3)[0]"
   ]
  },
  {
   "cell_type": "code",
   "execution_count": 138,
   "id": "14faedf1",
   "metadata": {},
   "outputs": [],
   "source": [
    "lhs = sym.solve(wrt4 - r, p2)[0].subs({t:1, s:0})"
   ]
  },
  {
   "cell_type": "code",
   "execution_count": 139,
   "id": "f8994020",
   "metadata": {},
   "outputs": [],
   "source": [
    "rhs = sym.solve(wrt3 - r, p2)[0].subs({t:1, s:0})"
   ]
  },
  {
   "cell_type": "code",
   "execution_count": 141,
   "id": "24a14ae2",
   "metadata": {},
   "outputs": [
    {
     "data": {
      "text/latex": [
       "$\\displaystyle \\frac{P^{2} p_{3} - P^{2} + P R - 2 P p_{3} + P - R^{2} p_{3} - R^{2} p_{4} + 4 R^{2} - 3 R + p_{3}}{R \\left(P - 1\\right)}$"
      ],
      "text/plain": [
       "(P**2*p_3 - P**2 + P*R - 2*P*p_3 + P - R**2*p_3 - R**2*p_4 + 4*R**2 - 3*R + p_3)/(R*(P - 1))"
      ]
     },
     "execution_count": 141,
     "metadata": {},
     "output_type": "execute_result"
    }
   ],
   "source": [
    "(lhs - rhs).factor()"
   ]
  },
  {
   "cell_type": "markdown",
   "id": "64b262ac",
   "metadata": {},
   "source": [
    "### N = 3"
   ]
  },
  {
   "cell_type": "code",
   "execution_count": 119,
   "id": "25bfdfc1",
   "metadata": {},
   "outputs": [],
   "source": [
    "pure_self_reactive = list(itertools.product([0, 1], repeat=8))"
   ]
  },
  {
   "cell_type": "code",
   "execution_count": 120,
   "id": "5cd7112f",
   "metadata": {},
   "outputs": [],
   "source": [
    "r, s, t, p = 3, 0, 5, 1\n",
    "\n",
    "for i in range(100):\n",
    "    \n",
    "    np.random.seed(0)\n",
    "\n",
    "    q_v1, q_v2, q_v3, q_v4, q_v5, q_v6, q_v7, q_v8 = np.random.random(8)\n",
    "\n",
    "    p1, p2, p3, p4, p5, p6, p7, p8 = np.random.random(8)\n",
    "\n",
    "    player = [p1, p2, p3, p4, p5, p6, p7, p8]\n",
    "\n",
    "    coplayer = [q_v1, q_v2, q_v3, q_v4, q_v5, q_v6, q_v7, q_v8]\n",
    "\n",
    "    M = trnsf_transition_m_memory_three(coplayer, analytical=False)\n",
    "\n",
    "    ss = repeated_play.stationary_distribution(M)[0]\n",
    "\n",
    "    rho_q = ss[0] + ss[1] + ss[4] + ss[5]\n",
    "\n",
    "    rho_p = sum([ss[i] * player[i] for i in range(8)])\n",
    "\n",
    "    x1 = sum([ss[i] * player[i] * coplayer[i] for i in range(8)])\n",
    "    x2 = sum([ss[i] * player[i] * (1 - coplayer[i]) for i in range(8)])\n",
    "    x3 = sum([ss[i] * (1 - player[i]) * coplayer[i] for i in range(8)])\n",
    "    x4 = sum([ss[i] * (1 - player[i]) * (1 - coplayer[i]) for i in range(8)])\n",
    "\n",
    "    payoff2 = (x1 * r + x3 * s + x2  * t + x4  * p)\n",
    "\n",
    "\n",
    "    M2 = repeated_play.transition_matrix_repeated_game([p1, p2, p1, p2, p3, p4, p3, p4, \n",
    "                                                        p1, p2, p1, p2, p3, p4, p3, p4,\n",
    "                                                        p5, p6, p5, p6, p7, p8, p7, p8, \n",
    "                                                        p5, p6, p5, p6, p7, p8, p7, p8, \n",
    "                                                        p1, p2, p1, p2, p3, p4, p3, p4, \n",
    "                                                        p1, p2, p1, p2, p3, p4, p3, p4,\n",
    "                                                        p5, p6, p5, p6, p7, p8, p7, p8, \n",
    "                                                        p5, p6, p5, p6, p7, p8, p7, p8, \n",
    "                                                       ],\n",
    "                                                       [q_v1, q_v1, q_v2, q_v2, q_v1, q_v1, q_v2, q_v2, \n",
    "                                                        q_v3, q_v3, q_v4, q_v4, q_v3, q_v3, q_v4, q_v4,\n",
    "                                                        q_v1, q_v1, q_v2, q_v2, q_v1, q_v1, q_v2, q_v2, \n",
    "                                                        q_v3, q_v3, q_v4, q_v4, q_v3, q_v3, q_v4, q_v4,\n",
    "                                                        q_v5, q_v5, q_v6, q_v6, q_v5, q_v5, q_v6, q_v6, \n",
    "                                                        q_v7, q_v7, q_v8, q_v8, q_v7, q_v7, q_v8, q_v8,\n",
    "                                                        q_v5, q_v5, q_v6, q_v6, q_v5, q_v5, q_v6, q_v6, \n",
    "                                                        q_v7, q_v7, q_v8, q_v8, q_v7, q_v7, q_v8, q_v8],\n",
    "                                                       memory=\"three\",\n",
    "                                                       analytical=False)\n",
    "\n",
    "    ss2 = repeated_play.stationary_distribution(M2, analytical=False)\n",
    "\n",
    "    assert np.isclose(payoff2, sum(ss2 @ np.array([r, t, s, p] * 16)))"
   ]
  },
  {
   "cell_type": "code",
   "execution_count": 121,
   "id": "fa4bb88d",
   "metadata": {},
   "outputs": [],
   "source": [
    "r, s, t, p = sym.symbols(\"R, S, T, P\")\n",
    "\n",
    "p1, p2, p3, p4, p5, p6, p7, p8 = sym.symbols(r\"p_1, p_2, p_3, p_4, p_5, p_6, p_7, p_8\")\n",
    "\n",
    "player = [1, p2, p3, p4, p5, p6, p7, p8]"
   ]
  },
  {
   "cell_type": "code",
   "execution_count": 160,
   "id": "973fb5a6",
   "metadata": {},
   "outputs": [],
   "source": [
    "pure_self_reactive = list(itertools.product([0, 1], repeat=8))"
   ]
  },
  {
   "cell_type": "code",
   "execution_count": 161,
   "id": "e4613a61",
   "metadata": {},
   "outputs": [],
   "source": [
    "payoffs = []\n",
    "\n",
    "for i, coplayer in enumerate(pure_self_reactive):\n",
    "\n",
    "\n",
    "    M = trnsf_transition_m_memory_three(coplayer, analytical=False)\n",
    "\n",
    "    states = repeated_play.stationary_distribution(M)\n",
    "    \n",
    "    for ss in states:\n",
    "\n",
    "        rho_q = ss[0] + ss[1] + ss[4] + ss[5]\n",
    "\n",
    "        rho_p = sum([ss[i] * player[i] for i in range(8)])\n",
    "\n",
    "        x1 = sum([ss[i] * player[i] * coplayer[i] for i in range(8)])\n",
    "        x2 = sum([ss[i] * player[i] * (1 - coplayer[i]) for i in range(8)])\n",
    "        x3 = sum([ss[i] * (1 - player[i]) * coplayer[i] for i in range(8)])\n",
    "        x4 = sum([ss[i] * (1 - player[i]) * (1 - coplayer[i]) for i in range(8)])\n",
    "\n",
    "        payoff = (x1 * r + x3 * s + x2  * t + x4  * p)\n",
    "\n",
    "        payoffs.append((i, payoff))"
   ]
  },
  {
   "cell_type": "code",
   "execution_count": 162,
   "id": "a4b3bdbf",
   "metadata": {},
   "outputs": [
    {
     "data": {
      "text/plain": [
       "470"
      ]
     },
     "execution_count": 162,
     "metadata": {},
     "output_type": "execute_result"
    }
   ],
   "source": [
    "len(payoffs)"
   ]
  },
  {
   "cell_type": "code",
   "execution_count": 163,
   "id": "a7d80851",
   "metadata": {},
   "outputs": [],
   "source": [
    "unique_payoff_expressions = list(set([p[1] for p in payoffs]))"
   ]
  },
  {
   "cell_type": "code",
   "execution_count": 164,
   "id": "ef153d1d",
   "metadata": {},
   "outputs": [
    {
     "data": {
      "text/plain": [
       "27"
      ]
     },
     "execution_count": 164,
     "metadata": {},
     "output_type": "execute_result"
    }
   ],
   "source": [
    "len(unique_payoff_expressions)"
   ]
  },
  {
   "cell_type": "code",
   "execution_count": 370,
   "id": "a2a949d8",
   "metadata": {},
   "outputs": [
    {
     "data": {
      "text/latex": [
       "$\\displaystyle 1.66533453693773 \\cdot 10^{-16} \\cdot \\left(1.0 R - 1.0 S\\right) \\left(1.0 p_{2} - 1.0 p_{3}\\right)$"
      ],
      "text/plain": [
       "1.66533453693773e-16*(1.0*R - 1.0*S)*(1.0*p_2 - 1.0*p_3)"
      ]
     },
     "execution_count": 370,
     "metadata": {},
     "output_type": "execute_result"
    }
   ],
   "source": [
    "(unique_payoff_expressions[5] - unique_payoff_expressions[11]).factor()"
   ]
  },
  {
   "cell_type": "code",
   "execution_count": 372,
   "id": "d42ccff8",
   "metadata": {},
   "outputs": [
    {
     "data": {
      "text/latex": [
       "$\\displaystyle - 1.11022302462516 \\cdot 10^{-16} \\cdot \\left(1.0 P p_{4} + 0.5 P p_{6} - 1.0 P p_{7} + 0.5 R p_{8} - 0.5 S p_{8} + 0.5 S - 1.0 T p_{4} - 0.5 T p_{6} + 1.0 T p_{7}\\right)$"
      ],
      "text/plain": [
       "-1.11022302462516e-16*(1.0*P*p_4 + 0.5*P*p_6 - 1.0*P*p_7 + 0.5*R*p_8 - 0.5*S*p_8 + 0.5*S - 1.0*T*p_4 - 0.5*T*p_6 + 1.0*T*p_7)"
      ]
     },
     "execution_count": 372,
     "metadata": {},
     "output_type": "execute_result"
    }
   ],
   "source": [
    "(unique_payoff_expressions[0] - unique_payoff_expressions[12]).factor()"
   ]
  },
  {
   "cell_type": "code",
   "execution_count": 378,
   "id": "883e7b94",
   "metadata": {},
   "outputs": [
    {
     "data": {
      "text/latex": [
       "$\\displaystyle 1.66533453693773 \\cdot 10^{-16} \\cdot \\left(1.0 P - 1.0 T\\right) \\left(1.0 p_{6} - 1.0 p_{7}\\right)$"
      ],
      "text/plain": [
       "1.66533453693773e-16*(1.0*P - 1.0*T)*(1.0*p_6 - 1.0*p_7)"
      ]
     },
     "execution_count": 378,
     "metadata": {},
     "output_type": "execute_result"
    }
   ],
   "source": [
    "(unique_payoff_expressions[9] - unique_payoff_expressions[15]).factor()"
   ]
  },
  {
   "cell_type": "code",
   "execution_count": 380,
   "id": "08039d4d",
   "metadata": {},
   "outputs": [
    {
     "data": {
      "text/latex": [
       "$\\displaystyle - 1.66533453693773 \\cdot 10^{-16} \\cdot \\left(0.333333333333333 P p_{6} - 1.0 P p_{7} + 0.666666666666667 P - 0.666666666666667 R p_{8} + 0.666666666666667 S p_{8} - 0.666666666666667 S - 0.333333333333333 T p_{6} + 1.0 T p_{7}\\right)$"
      ],
      "text/plain": [
       "-1.66533453693773e-16*(0.333333333333333*P*p_6 - 1.0*P*p_7 + 0.666666666666667*P - 0.666666666666667*R*p_8 + 0.666666666666667*S*p_8 - 0.666666666666667*S - 0.333333333333333*T*p_6 + 1.0*T*p_7)"
      ]
     },
     "execution_count": 380,
     "metadata": {},
     "output_type": "execute_result"
    }
   ],
   "source": [
    "(unique_payoff_expressions[0] - unique_payoff_expressions[16]).factor()"
   ]
  },
  {
   "cell_type": "code",
   "execution_count": 381,
   "id": "cdea5d68",
   "metadata": {},
   "outputs": [
    {
     "data": {
      "text/latex": [
       "$\\displaystyle - 0.142857142857143 \\cdot \\left(1.0 P p_{2} - 1.0 P p_{3} - 1.0 P p_{6} + 1.0 P p_{7} - 7.7715611723761 \\cdot 10^{-16} P + 1.0 R p_{2} - 1.0 R p_{3} + 5.82867087928207 \\cdot 10^{-16} R p_{4} + 1.94289029309402 \\cdot 10^{-16} R p_{5} - 1.0 R p_{6} + 1.0 R p_{7} - 1.0 S p_{2} + 1.0 S p_{3} - 5.82867087928207 \\cdot 10^{-16} S p_{4} - 1.94289029309402 \\cdot 10^{-16} S p_{5} + 1.0 S p_{6} - 1.0 S p_{7} + 7.7715611723761 \\cdot 10^{-16} S - 1.0 T p_{2} + 1.0 T p_{3} + 1.0 T p_{6} - 1.0 T p_{7} + 1.94289029309402 \\cdot 10^{-16} T\\right)$"
      ],
      "text/plain": [
       "-0.142857142857143*(1.0*P*p_2 - 1.0*P*p_3 - 1.0*P*p_6 + 1.0*P*p_7 - 7.7715611723761e-16*P + 1.0*R*p_2 - 1.0*R*p_3 + 5.82867087928207e-16*R*p_4 + 1.94289029309402e-16*R*p_5 - 1.0*R*p_6 + 1.0*R*p_7 - 1.0*S*p_2 + 1.0*S*p_3 - 5.82867087928207e-16*S*p_4 - 1.94289029309402e-16*S*p_5 + 1.0*S*p_6 - 1.0*S*p_7 + 7.7715611723761e-16*S - 1.0*T*p_2 + 1.0*T*p_3 + 1.0*T*p_6 - 1.0*T*p_7 + 1.94289029309402e-16*T)"
      ]
     },
     "execution_count": 381,
     "metadata": {},
     "output_type": "execute_result"
    }
   ],
   "source": [
    "(unique_payoff_expressions[7] - unique_payoff_expressions[17]).factor()"
   ]
  },
  {
   "cell_type": "code",
   "execution_count": 384,
   "id": "9e6f9572",
   "metadata": {},
   "outputs": [
    {
     "data": {
      "text/latex": [
       "$\\displaystyle - 2.22044604925031 \\cdot 10^{-16} \\cdot \\left(0.25 P p_{2} + 0.5 P p_{5} - 1.0 P - 0.75 R p_{4} + 0.5 R p_{7} + 0.75 S p_{4} - 0.5 S p_{7} - 0.25 S - 0.25 T p_{2} - 0.5 T p_{5}\\right)$"
      ],
      "text/plain": [
       "-2.22044604925031e-16*(0.25*P*p_2 + 0.5*P*p_5 - 1.0*P - 0.75*R*p_4 + 0.5*R*p_7 + 0.75*S*p_4 - 0.5*S*p_7 - 0.25*S - 0.25*T*p_2 - 0.5*T*p_5)"
      ]
     },
     "execution_count": 384,
     "metadata": {},
     "output_type": "execute_result"
    }
   ],
   "source": [
    "(unique_payoff_expressions[14] - unique_payoff_expressions[21]).factor()"
   ]
  },
  {
   "cell_type": "code",
   "execution_count": 386,
   "id": "991affb3",
   "metadata": {},
   "outputs": [
    {
     "data": {
      "text/latex": [
       "$\\displaystyle 2.22044604925031 \\cdot 10^{-16} \\cdot \\left(0.5 P p_{2} + 0.625 P p_{4} - 1.0 P + 0.875 R p_{7} + 0.25 R p_{8} - 0.875 S p_{7} - 0.25 S p_{8} + 1.0 S - 0.5 T p_{2} - 0.625 T p_{4}\\right)$"
      ],
      "text/plain": [
       "2.22044604925031e-16*(0.5*P*p_2 + 0.625*P*p_4 - 1.0*P + 0.875*R*p_7 + 0.25*R*p_8 - 0.875*S*p_7 - 0.25*S*p_8 + 1.0*S - 0.5*T*p_2 - 0.625*T*p_4)"
      ]
     },
     "execution_count": 386,
     "metadata": {},
     "output_type": "execute_result"
    }
   ],
   "source": [
    "(unique_payoff_expressions[8] - unique_payoff_expressions[23]).factor()"
   ]
  },
  {
   "cell_type": "code",
   "execution_count": 389,
   "id": "ff89ec97",
   "metadata": {},
   "outputs": [
    {
     "data": {
      "text/latex": [
       "$\\displaystyle - 1.66533453693773 \\cdot 10^{-16} \\cdot \\left(1.0 P p_{7} - 0.666666666666667 P + 1.0 R p_{4} - 1.0 S p_{4} + 1.0 S - 1.0 T p_{7}\\right)$"
      ],
      "text/plain": [
       "-1.66533453693773e-16*(1.0*P*p_7 - 0.666666666666667*P + 1.0*R*p_4 - 1.0*S*p_4 + 1.0*S - 1.0*T*p_7)"
      ]
     },
     "execution_count": 389,
     "metadata": {},
     "output_type": "execute_result"
    }
   ],
   "source": [
    "(unique_payoff_expressions[9] - unique_payoff_expressions[26]).factor()"
   ]
  },
  {
   "cell_type": "code",
   "execution_count": null,
   "id": "19e23aec",
   "metadata": {},
   "outputs": [],
   "source": []
  },
  {
   "cell_type": "code",
   "execution_count": 217,
   "id": "e3687355",
   "metadata": {},
   "outputs": [],
   "source": [
    "strategy_sets = [[i for i, payoff in payoffs if payoff == unique_payoff_expressions[j]] \n",
    "                 for j in range(len(unique_payoff_expressions))]"
   ]
  },
  {
   "cell_type": "code",
   "execution_count": 299,
   "id": "cb8b8a4b",
   "metadata": {},
   "outputs": [],
   "source": [
    "output_file = \"\"\n",
    "\n",
    "for expression, strategies in zip(unique_payoff_expressions, strategy_sets):\n",
    "    output_file += (r\"s_{\\mathbf{\\tilde{q}}^{i}, \\mathbf{p}} = &\" + sym.latex(sym.nsimplify(expression).simplify())\n",
    "                    + \"~~for~~ i \\in \\{\" + str(strategies).replace(\"[\", \"\").replace(\"]\", \"\") + \"\\} \\\\ \\n\")"
   ]
  },
  {
   "cell_type": "code",
   "execution_count": 361,
   "id": "6359547e",
   "metadata": {},
   "outputs": [
    {
     "data": {
      "text/latex": [
       "$\\displaystyle P \\left(- 0.25 p_{4} - 0.25 p_{6} - 0.25 p_{7} + 0.75\\right) + 0.25 R p_{8} + S \\left(0.25 - 0.25 p_{8}\\right) + T \\left(0.25 p_{4} + 0.25 p_{6} + 0.25 p_{7}\\right)$"
      ],
      "text/plain": [
       "P*(-0.25*p_4 - 0.25*p_6 - 0.25*p_7 + 0.75) + 0.25*R*p_8 + S*(0.25 - 0.25*p_8) + T*(0.25*p_4 + 0.25*p_6 + 0.25*p_7)"
      ]
     },
     "execution_count": 361,
     "metadata": {},
     "output_type": "execute_result"
    }
   ],
   "source": []
  },
  {
   "cell_type": "code",
   "execution_count": 300,
   "id": "67e94b2a",
   "metadata": {},
   "outputs": [
    {
     "name": "stdout",
     "output_type": "stream",
     "text": [
      "s_{\\mathbf{\\tilde{q}}^{i}, \\mathbf{p}} = &- \\frac{P \\left(p_{4} + p_{6} + p_{7} - 3\\right)}{4} + \\frac{R p_{8}}{4} - \\frac{S \\left(p_{8} - 1\\right)}{4} + \\frac{T \\left(p_{4} + p_{6} + p_{7}\\right)}{4}~~for~~ i \\in \\{1, 9, 33, 41, 233\\} \\\\ \\\\ns_{\\mathbf{\\tilde{q}}^{i}, \\mathbf{p}} = &- \\frac{P \\left(p_{3} - 1\\right)}{2} + \\frac{R p_{6}}{2} - \\frac{S \\left(p_{6} - 1\\right)}{2} + \\frac{T p_{3}}{2}~~for~~ i \\in \\{4, 5, 6, 7, 12, 13, 14, 15, 20, 21, 22, 23, 28, 29, 30, 31, 68, 69, 70, 71, 76, 77, 78, 79, 84, 85, 86, 87, 92, 93, 94, 95, 132, 133, 134, 135, 140, 141, 142, 143, 148, 149, 150, 151, 156, 157, 158, 159, 196, 197, 198, 199, 204, 205, 206, 207, 212, 213, 214, 215, 220, 221, 222, 223\\} \\\\ \\\\ns_{\\mathbf{\\tilde{q}}^{i}, \\mathbf{p}} = &- P \\left(p_{8} - 1\\right) + T p_{8}~~for~~ i \\in \\{0, 2, 4, 6, 8, 10, 12, 14, 16, 18, 20, 22, 24, 26, 28, 30, 32, 34, 36, 38, 40, 42, 44, 46, 48, 50, 52, 54, 56, 58, 60, 62, 64, 66, 68, 70, 72, 74, 76, 78, 80, 82, 84, 86, 88, 90, 92, 94, 96, 98, 100, 102, 104, 106, 108, 110, 112, 114, 116, 118, 120, 122, 124, 126, 128, 130, 132, 134, 136, 138, 140, 142, 144, 146, 148, 150, 152, 154, 156, 158, 160, 162, 164, 166, 168, 170, 172, 174, 176, 178, 180, 182, 184, 186, 188, 190, 192, 194, 196, 198, 200, 202, 204, 206, 208, 210, 212, 214, 216, 218, 220, 222, 224, 226, 228, 230, 232, 234, 236, 238, 240, 242, 244, 246, 248, 250, 252, 254\\} \\\\ \\\\ns_{\\mathbf{\\tilde{q}}^{i}, \\mathbf{p}} = &- \\frac{P \\left(p_{4} + p_{6} + p_{7} - 3\\right)}{4} + \\frac{R p_{8}}{4} - \\frac{S \\left(p_{8} - 1\\right)}{4} + \\frac{T \\left(p_{4} + p_{6} + p_{7}\\right)}{4}~~for~~ i \\in \\{105\\} \\\\ \\\\ns_{\\mathbf{\\tilde{q}}^{i}, \\mathbf{p}} = &- \\frac{P \\left(p_{2} + p_{4} + p_{7} - 3\\right)}{8} + \\frac{R \\left(p_{3} + p_{5} + p_{6} + p_{8}\\right)}{8} - \\frac{S \\left(p_{3} + p_{5} + p_{6} + p_{8} - 4\\right)}{8} + \\frac{T \\left(p_{2} + p_{4} + p_{7} + 1\\right)}{8}~~for~~ i \\in \\{45\\} \\\\ \\\\ns_{\\mathbf{\\tilde{q}}^{i}, \\mathbf{p}} = &- \\frac{P \\left(p_{5} - 1\\right)}{3} + \\frac{R \\left(p_{2} + p_{3}\\right)}{3} - \\frac{S \\left(p_{2} + p_{3} - 2\\right)}{3} + \\frac{T p_{5}}{3}~~for~~ i \\in \\{112, 113, 240, 241\\} \\\\ \\\\ns_{\\mathbf{\\tilde{q}}^{i}, \\mathbf{p}} = &- \\frac{P \\left(p_{2} + p_{5} + p_{7} - 3\\right)}{6} + \\frac{R \\left(p_{3} + p_{4} + p_{6}\\right)}{6} - \\frac{S \\left(p_{3} + p_{4} + p_{6} - 3\\right)}{6} + \\frac{T \\left(p_{2} + p_{5} + p_{7}\\right)}{6}~~for~~ i \\in \\{52, 53, 180, 181\\} \\\\ \\\\ns_{\\mathbf{\\tilde{q}}^{i}, \\mathbf{p}} = &- \\frac{P \\left(p_{2} + p_{7} - 2\\right)}{7} + \\frac{R \\left(p_{3} + p_{4} + p_{5} + p_{6}\\right)}{7} - \\frac{S \\left(p_{3} + p_{4} + p_{5} + p_{6} - 4\\right)}{7} + \\frac{T \\left(p_{2} + p_{7} + 1\\right)}{7}~~for~~ i \\in \\{60, 61\\} \\\\ \\\\ns_{\\mathbf{\\tilde{q}}^{i}, \\mathbf{p}} = &- \\frac{P \\left(p_{2} + p_{4} + p_{5} - 3\\right)}{5} + \\frac{R \\left(p_{7} + p_{8}\\right)}{5} - \\frac{S \\left(p_{7} + p_{8} - 2\\right)}{5} + \\frac{T \\left(p_{2} + p_{4} + p_{5}\\right)}{5}~~for~~ i \\in \\{7, 35, 39, 135, 163, 167\\} \\\\ \\\\ns_{\\mathbf{\\tilde{q}}^{i}, \\mathbf{p}} = &- \\frac{P \\left(p_{6} + p_{7} - 2\\right)}{3} + \\frac{R p_{4}}{3} - \\frac{S \\left(p_{4} - 1\\right)}{3} + \\frac{T \\left(p_{6} + p_{7}\\right)}{3}~~for~~ i \\in \\{48, 49, 56, 57, 80, 81, 88, 89\\} \\\\ \\\\ns_{\\mathbf{\\tilde{q}}^{i}, \\mathbf{p}} = &R~~for~~ i \\in \\{128, 129, 130, 131, 132, 133, 134, 135, 136, 137, 138, 139, 140, 141, 142, 143, 144, 145, 146, 147, 148, 149, 150, 151, 152, 153, 154, 155, 156, 157, 158, 159, 160, 161, 162, 163, 164, 165, 166, 167, 168, 169, 170, 171, 172, 173, 174, 175, 176, 177, 178, 179, 180, 181, 182, 183, 184, 185, 186, 187, 188, 189, 190, 191, 192, 193, 194, 195, 196, 197, 198, 199, 200, 201, 202, 203, 204, 205, 206, 207, 208, 209, 210, 211, 212, 213, 214, 215, 216, 217, 218, 219, 220, 221, 222, 223, 224, 225, 226, 227, 228, 229, 230, 231, 232, 233, 234, 235, 236, 237, 238, 239, 240, 241, 242, 243, 244, 245, 246, 247, 248, 249, 250, 251, 252, 253, 254, 255\\} \\\\ \\\\ns_{\\mathbf{\\tilde{q}}^{i}, \\mathbf{p}} = &- \\frac{P \\left(p_{5} - 1\\right)}{3} + \\frac{R \\left(p_{2} + p_{3}\\right)}{3} - \\frac{S \\left(p_{2} + p_{3} - 2\\right)}{3} + \\frac{T p_{5}}{3}~~for~~ i \\in \\{96, 97, 98, 99, 100, 101, 102, 103, 114, 115, 116, 117, 118, 119, 224, 225, 226, 227, 228, 229, 230, 231, 242, 243, 244, 245, 246, 247\\} \\\\ \\\\ns_{\\mathbf{\\tilde{q}}^{i}, \\mathbf{p}} = &- \\frac{P \\left(p_{4} + p_{6} + p_{7} - 3\\right)}{4} + \\frac{R p_{8}}{4} - \\frac{S \\left(p_{8} - 1\\right)}{4} + \\frac{T \\left(p_{4} + p_{6} + p_{7}\\right)}{4}~~for~~ i \\in \\{97, 129, 137, 193, 201, 225\\} \\\\ \\\\ns_{\\mathbf{\\tilde{q}}^{i}, \\mathbf{p}} = &- \\frac{P \\left(p_{2} - 1\\right)}{5} + \\frac{R \\left(p_{4} + p_{5} + p_{7}\\right)}{5} - \\frac{S \\left(p_{4} + p_{5} + p_{7} - 3\\right)}{5} + \\frac{T \\left(p_{2} + 1\\right)}{5}~~for~~ i \\in \\{26, 27, 30, 31, 58, 59, 62, 63\\} \\\\ \\\\ns_{\\mathbf{\\tilde{q}}^{i}, \\mathbf{p}} = &- \\frac{P \\left(p_{2} + p_{5} - 2\\right)}{4} + \\frac{R \\left(p_{4} + p_{7}\\right)}{4} - \\frac{S \\left(p_{4} + p_{7} - 2\\right)}{4} + \\frac{T \\left(p_{2} + p_{5}\\right)}{4}~~for~~ i \\in \\{18, 19, 50, 51, 54, 55, 146, 147, 178, 179, 182, 183\\} \\\\ \\\\ns_{\\mathbf{\\tilde{q}}^{i}, \\mathbf{p}} = &- \\frac{P \\left(p_{6} + p_{7} - 2\\right)}{3} + \\frac{R p_{4}}{3} - \\frac{S \\left(p_{4} - 1\\right)}{3} + \\frac{T \\left(p_{6} + p_{7}\\right)}{3}~~for~~ i \\in \\{120, 121, 144, 145, 152, 153, 176, 177, 184, 185, 208, 209, 216, 217, 248, 249\\} \\\\ \\\\ns_{\\mathbf{\\tilde{q}}^{i}, \\mathbf{p}} = &- \\frac{P \\left(p_{4} + p_{6} + p_{7} - 3\\right)}{4} + \\frac{R p_{8}}{4} - \\frac{S \\left(p_{8} - 1\\right)}{4} + \\frac{T \\left(p_{4} + p_{6} + p_{7}\\right)}{4}~~for~~ i \\in \\{65, 73, 161, 169\\} \\\\ \\\\ns_{\\mathbf{\\tilde{q}}^{i}, \\mathbf{p}} = &- \\frac{P \\left(p_{3} + p_{6} - 2\\right)}{7} + \\frac{R \\left(p_{2} + p_{4} + p_{5} + p_{7}\\right)}{7} - \\frac{S \\left(p_{2} + p_{4} + p_{5} + p_{7} - 4\\right)}{7} + \\frac{T \\left(p_{3} + p_{6} + 1\\right)}{7}~~for~~ i \\in \\{90, 91\\} \\\\ \\\\ns_{\\mathbf{\\tilde{q}}^{i}, \\mathbf{p}} = &- \\frac{P \\left(p_{3} + p_{4} + p_{6} - 3\\right)}{8} + \\frac{R \\left(p_{2} + p_{5} + p_{7} + p_{8}\\right)}{8} - \\frac{S \\left(p_{2} + p_{5} + p_{7} + p_{8} - 4\\right)}{8} + \\frac{T \\left(p_{3} + p_{4} + p_{6} + 1\\right)}{8}~~for~~ i \\in \\{75\\} \\\\ \\\\ns_{\\mathbf{\\tilde{q}}^{i}, \\mathbf{p}} = &- \\frac{P \\left(p_{3} + p_{5} + p_{6} - 3\\right)}{6} + \\frac{R \\left(p_{2} + p_{4} + p_{7}\\right)}{6} - \\frac{S \\left(p_{2} + p_{4} + p_{7} - 3\\right)}{6} + \\frac{T \\left(p_{3} + p_{5} + p_{6}\\right)}{6}~~for~~ i \\in \\{82, 83, 210, 211\\} \\\\ \\\\ns_{\\mathbf{\\tilde{q}}^{i}, \\mathbf{p}} = &- \\frac{P \\left(p_{2} + p_{4} + p_{5} + p_{7} - 4\\right)}{7} + \\frac{R \\left(p_{3} + p_{6} + p_{8}\\right)}{7} - \\frac{S \\left(p_{3} + p_{6} + p_{8} - 3\\right)}{7} + \\frac{T \\left(p_{2} + p_{4} + p_{5} + p_{7}\\right)}{7}~~for~~ i \\in \\{37, 165\\} \\\\ \\\\ns_{\\mathbf{\\tilde{q}}^{i}, \\mathbf{p}} = &- \\frac{P \\left(p_{2} + p_{5} - 2\\right)}{4} + \\frac{R \\left(p_{4} + p_{7}\\right)}{4} - \\frac{S \\left(p_{4} + p_{7} - 2\\right)}{4} + \\frac{T \\left(p_{2} + p_{5}\\right)}{4}~~for~~ i \\in \\{22, 23, 150, 151\\} \\\\ \\\\ns_{\\mathbf{\\tilde{q}}^{i}, \\mathbf{p}} = &\\frac{R \\left(p_{2} + p_{3} + p_{5}\\right)}{4} - \\frac{S \\left(p_{2} + p_{3} + p_{5} - 3\\right)}{4} + \\frac{T}{4}~~for~~ i \\in \\{104, 105, 106, 107, 108, 109, 110, 111, 120, 121, 122, 123, 124, 125, 126, 127\\} \\\\ \\\\ns_{\\mathbf{\\tilde{q}}^{i}, \\mathbf{p}} = &- \\frac{P \\left(p_{2} + p_{4} + p_{5} - 3\\right)}{5} + \\frac{R \\left(p_{7} + p_{8}\\right)}{5} - \\frac{S \\left(p_{7} + p_{8} - 2\\right)}{5} + \\frac{T \\left(p_{2} + p_{4} + p_{5}\\right)}{5}~~for~~ i \\in \\{3, 131\\} \\\\ \\\\ns_{\\mathbf{\\tilde{q}}^{i}, \\mathbf{p}} = &- \\frac{P \\left(p_{2} + p_{4} - 2\\right)}{6} + \\frac{R \\left(p_{5} + p_{7} + p_{8}\\right)}{6} - \\frac{S \\left(p_{5} + p_{7} + p_{8} - 3\\right)}{6} + \\frac{T \\left(p_{2} + p_{4} + 1\\right)}{6}~~for~~ i \\in \\{11, 15, 43, 47\\} \\\\ \\\\ns_{\\mathbf{\\tilde{q}}^{i}, \\mathbf{p}} = &- \\frac{P \\left(p_{3} + p_{4} + p_{5} + p_{6} - 4\\right)}{7} + \\frac{R \\left(p_{2} + p_{7} + p_{8}\\right)}{7} - \\frac{S \\left(p_{2} + p_{7} + p_{8} - 3\\right)}{7} + \\frac{T \\left(p_{3} + p_{4} + p_{5} + p_{6}\\right)}{7}~~for~~ i \\in \\{67, 195\\} \\\\ \\\\ns_{\\mathbf{\\tilde{q}}^{i}, \\mathbf{p}} = &- \\frac{P \\left(p_{6} + p_{7} - 2\\right)}{3} + \\frac{R p_{4}}{3} - \\frac{S \\left(p_{4} - 1\\right)}{3} + \\frac{T \\left(p_{6} + p_{7}\\right)}{3}~~for~~ i \\in \\{16, 17, 24, 25, 112, 113, 240, 241\\} \\\\ \\\\n\n"
     ]
    }
   ],
   "source": [
    "print(output_file)"
   ]
  },
  {
   "cell_type": "code",
   "execution_count": 312,
   "id": "d8801eec",
   "metadata": {},
   "outputs": [],
   "source": [
    "solutions = []\n",
    "\n",
    "for expression in unique_payoff_expressions:\n",
    "    try:\n",
    "        solution = sym.solve(expression - r, r)[0]\n",
    "        \n",
    "        solutions.append(solution.expand())\n",
    "        \n",
    "    except IndexError:\n",
    "        pass\n",
    "    \n",
    "    "
   ]
  },
  {
   "cell_type": "code",
   "execution_count": 358,
   "id": "731d1233",
   "metadata": {},
   "outputs": [
    {
     "data": {
      "text/latex": [
       "$\\displaystyle - \\frac{P \\left(p_{6} + p_{7} - 2\\right)}{3} + \\frac{R p_{4}}{3} - \\frac{S \\left(p_{4} - 1\\right)}{3} + \\frac{T \\left(p_{6} + p_{7}\\right)}{3}$"
      ],
      "text/plain": [
       "-P*(p_6 + p_7 - 2)/3 + R*p_4/3 - S*(p_4 - 1)/3 + T*(p_6 + p_7)/3"
      ]
     },
     "execution_count": 358,
     "metadata": {},
     "output_type": "execute_result"
    }
   ],
   "source": [
    "sym.nsimplify(expression).simplify().collect(p6 + p7)"
   ]
  },
  {
   "cell_type": "code",
   "execution_count": 313,
   "id": "19265e2a",
   "metadata": {},
   "outputs": [
    {
     "data": {
      "text/plain": [
       "26"
      ]
     },
     "execution_count": 313,
     "metadata": {},
     "output_type": "execute_result"
    }
   ],
   "source": [
    "len(solutions)"
   ]
  },
  {
   "cell_type": "code",
   "execution_count": 322,
   "id": "06770865",
   "metadata": {},
   "outputs": [],
   "source": [
    "unique_solutions = list(set(solutions))"
   ]
  },
  {
   "cell_type": "code",
   "execution_count": 329,
   "id": "8c6bbe05",
   "metadata": {},
   "outputs": [
    {
     "name": "stdout",
     "output_type": "stream",
     "text": [
      "\\frac{P p_{2}}{p_{4} + p_{7} - 4.0} + \\frac{P p_{5}}{p_{4} + p_{7} - 4.0} - \\frac{2.0 P}{p_{4} + p_{7} - 4.0} + \\frac{S p_{4}}{p_{4} + p_{7} - 4.0} + \\frac{S p_{7}}{p_{4} + p_{7} - 4.0} - \\frac{2.0 S}{p_{4} + p_{7} - 4.0} - \\frac{T p_{2}}{p_{4} + p_{7} - 4.0} - \\frac{T p_{5}}{p_{4} + p_{7} - 4.0} & < R \\\\\n",
      "\\frac{P p_{3}}{p_{2} + p_{4} + p_{7} - 6.0} + \\frac{P p_{5}}{p_{2} + p_{4} + p_{7} - 6.0} + \\frac{P p_{6}}{p_{2} + p_{4} + p_{7} - 6.0} - \\frac{3.0 P}{p_{2} + p_{4} + p_{7} - 6.0} + \\frac{S p_{2}}{p_{2} + p_{4} + p_{7} - 6.0} + \\frac{S p_{4}}{p_{2} + p_{4} + p_{7} - 6.0} + \\frac{S p_{7}}{p_{2} + p_{4} + p_{7} - 6.0} - \\frac{3.0 S}{p_{2} + p_{4} + p_{7} - 6.0} - \\frac{T p_{3}}{p_{2} + p_{4} + p_{7} - 6.0} - \\frac{T p_{5}}{p_{2} + p_{4} + p_{7} - 6.0} - \\frac{T p_{6}}{p_{2} + p_{4} + p_{7} - 6.0} & < R \\\\\n",
      "- P p_{8} + P + T p_{8} & < R \\\\\n",
      "\\frac{P p_{3}}{p_{2} + p_{5} + p_{7} + p_{8} - 8.0} + \\frac{P p_{4}}{p_{2} + p_{5} + p_{7} + p_{8} - 8.0} + \\frac{P p_{6}}{p_{2} + p_{5} + p_{7} + p_{8} - 8.0} - \\frac{3.0 P}{p_{2} + p_{5} + p_{7} + p_{8} - 8.0} + \\frac{S p_{2}}{p_{2} + p_{5} + p_{7} + p_{8} - 8.0} + \\frac{S p_{5}}{p_{2} + p_{5} + p_{7} + p_{8} - 8.0} + \\frac{S p_{7}}{p_{2} + p_{5} + p_{7} + p_{8} - 8.0} + \\frac{S p_{8}}{p_{2} + p_{5} + p_{7} + p_{8} - 8.0} - \\frac{4.0 S}{p_{2} + p_{5} + p_{7} + p_{8} - 8.0} - \\frac{T p_{3}}{p_{2} + p_{5} + p_{7} + p_{8} - 8.0} - \\frac{T p_{4}}{p_{2} + p_{5} + p_{7} + p_{8} - 8.0} - \\frac{T p_{6}}{p_{2} + p_{5} + p_{7} + p_{8} - 8.0} - \\frac{T}{p_{2} + p_{5} + p_{7} + p_{8} - 8.0} & < R \\\\\n",
      "\\frac{P p_{4}}{p_{8} - 4.0} + \\frac{P p_{6}}{p_{8} - 4.0} + \\frac{P p_{7}}{p_{8} - 4.0} - \\frac{3.0 P}{p_{8} - 4.0} + \\frac{S p_{8}}{p_{8} - 4.0} - \\frac{S}{p_{8} - 4.0} - \\frac{T p_{4}}{p_{8} - 4.0} - \\frac{T p_{6}}{p_{8} - 4.0} - \\frac{T p_{7}}{p_{8} - 4.0} & < R \\\\\n",
      "\\frac{P p_{3}}{p_{2} + p_{7} + p_{8} - 7.0} + \\frac{P p_{4}}{p_{2} + p_{7} + p_{8} - 7.0} + \\frac{P p_{5}}{p_{2} + p_{7} + p_{8} - 7.0} + \\frac{P p_{6}}{p_{2} + p_{7} + p_{8} - 7.0} - \\frac{4.0 P}{p_{2} + p_{7} + p_{8} - 7.0} + \\frac{S p_{2}}{p_{2} + p_{7} + p_{8} - 7.0} + \\frac{S p_{7}}{p_{2} + p_{7} + p_{8} - 7.0} + \\frac{S p_{8}}{p_{2} + p_{7} + p_{8} - 7.0} - \\frac{3.0 S}{p_{2} + p_{7} + p_{8} - 7.0} - \\frac{T p_{3}}{p_{2} + p_{7} + p_{8} - 7.0} - \\frac{T p_{4}}{p_{2} + p_{7} + p_{8} - 7.0} - \\frac{T p_{5}}{p_{2} + p_{7} + p_{8} - 7.0} - \\frac{T p_{6}}{p_{2} + p_{7} + p_{8} - 7.0} & < R \\\\\n",
      "\\frac{P p_{2}}{p_{4} + p_{5} + p_{7} - 5.0} - \\frac{P}{p_{4} + p_{5} + p_{7} - 5.0} + \\frac{S p_{4}}{p_{4} + p_{5} + p_{7} - 5.0} + \\frac{S p_{5}}{p_{4} + p_{5} + p_{7} - 5.0} + \\frac{S p_{7}}{p_{4} + p_{5} + p_{7} - 5.0} - \\frac{3.0 S}{p_{4} + p_{5} + p_{7} - 5.0} - \\frac{T p_{2}}{p_{4} + p_{5} + p_{7} - 5.0} - \\frac{T}{p_{4} + p_{5} + p_{7} - 5.0} & < R \\\\\n",
      "\\frac{P p_{3}}{p_{2} + p_{4} + p_{5} + p_{7} - 7.0} + \\frac{P p_{6}}{p_{2} + p_{4} + p_{5} + p_{7} - 7.0} - \\frac{2.0 P}{p_{2} + p_{4} + p_{5} + p_{7} - 7.0} + \\frac{S p_{2}}{p_{2} + p_{4} + p_{5} + p_{7} - 7.0} + \\frac{S p_{4}}{p_{2} + p_{4} + p_{5} + p_{7} - 7.0} + \\frac{S p_{5}}{p_{2} + p_{4} + p_{5} + p_{7} - 7.0} + \\frac{S p_{7}}{p_{2} + p_{4} + p_{5} + p_{7} - 7.0} - \\frac{4.0 S}{p_{2} + p_{4} + p_{5} + p_{7} - 7.0} - \\frac{T p_{3}}{p_{2} + p_{4} + p_{5} + p_{7} - 7.0} - \\frac{T p_{6}}{p_{2} + p_{4} + p_{5} + p_{7} - 7.0} - \\frac{T}{p_{2} + p_{4} + p_{5} + p_{7} - 7.0} & < R \\\\\n",
      "\\frac{P p_{3}}{p_{6} - 2.0} - \\frac{P}{p_{6} - 2.0} + \\frac{S p_{6}}{p_{6} - 2.0} - \\frac{S}{p_{6} - 2.0} - \\frac{T p_{3}}{p_{6} - 2.0} & < R \\\\\n",
      "\\frac{P p_{2}}{p_{5} + p_{7} + p_{8} - 6.0} + \\frac{P p_{4}}{p_{5} + p_{7} + p_{8} - 6.0} - \\frac{2.0 P}{p_{5} + p_{7} + p_{8} - 6.0} + \\frac{S p_{5}}{p_{5} + p_{7} + p_{8} - 6.0} + \\frac{S p_{7}}{p_{5} + p_{7} + p_{8} - 6.0} + \\frac{S p_{8}}{p_{5} + p_{7} + p_{8} - 6.0} - \\frac{3.0 S}{p_{5} + p_{7} + p_{8} - 6.0} - \\frac{T p_{2}}{p_{5} + p_{7} + p_{8} - 6.0} - \\frac{T p_{4}}{p_{5} + p_{7} + p_{8} - 6.0} - \\frac{T}{p_{5} + p_{7} + p_{8} - 6.0} & < R \\\\\n",
      "\\frac{P p_{2}}{p_{3} + p_{6} + p_{8} - 7.0} + \\frac{P p_{4}}{p_{3} + p_{6} + p_{8} - 7.0} + \\frac{P p_{5}}{p_{3} + p_{6} + p_{8} - 7.0} + \\frac{P p_{7}}{p_{3} + p_{6} + p_{8} - 7.0} - \\frac{4.0 P}{p_{3} + p_{6} + p_{8} - 7.0} + \\frac{S p_{3}}{p_{3} + p_{6} + p_{8} - 7.0} + \\frac{S p_{6}}{p_{3} + p_{6} + p_{8} - 7.0} + \\frac{S p_{8}}{p_{3} + p_{6} + p_{8} - 7.0} - \\frac{3.0 S}{p_{3} + p_{6} + p_{8} - 7.0} - \\frac{T p_{2}}{p_{3} + p_{6} + p_{8} - 7.0} - \\frac{T p_{4}}{p_{3} + p_{6} + p_{8} - 7.0} - \\frac{T p_{5}}{p_{3} + p_{6} + p_{8} - 7.0} - \\frac{T p_{7}}{p_{3} + p_{6} + p_{8} - 7.0} & < R \\\\\n",
      "\\frac{P p_{2}}{p_{3} + p_{4} + p_{6} - 6.0} + \\frac{P p_{5}}{p_{3} + p_{4} + p_{6} - 6.0} + \\frac{P p_{7}}{p_{3} + p_{4} + p_{6} - 6.0} - \\frac{3.0 P}{p_{3} + p_{4} + p_{6} - 6.0} + \\frac{S p_{3}}{p_{3} + p_{4} + p_{6} - 6.0} + \\frac{S p_{4}}{p_{3} + p_{4} + p_{6} - 6.0} + \\frac{S p_{6}}{p_{3} + p_{4} + p_{6} - 6.0} - \\frac{3.0 S}{p_{3} + p_{4} + p_{6} - 6.0} - \\frac{T p_{2}}{p_{3} + p_{4} + p_{6} - 6.0} - \\frac{T p_{5}}{p_{3} + p_{4} + p_{6} - 6.0} - \\frac{T p_{7}}{p_{3} + p_{4} + p_{6} - 6.0} & < R \\\\\n",
      "\\frac{P p_{2}}{p_{3} + p_{5} + p_{6} + p_{8} - 8.0} + \\frac{P p_{4}}{p_{3} + p_{5} + p_{6} + p_{8} - 8.0} + \\frac{P p_{7}}{p_{3} + p_{5} + p_{6} + p_{8} - 8.0} - \\frac{3.0 P}{p_{3} + p_{5} + p_{6} + p_{8} - 8.0} + \\frac{S p_{3}}{p_{3} + p_{5} + p_{6} + p_{8} - 8.0} + \\frac{S p_{5}}{p_{3} + p_{5} + p_{6} + p_{8} - 8.0} + \\frac{S p_{6}}{p_{3} + p_{5} + p_{6} + p_{8} - 8.0} + \\frac{S p_{8}}{p_{3} + p_{5} + p_{6} + p_{8} - 8.0} - \\frac{4.0 S}{p_{3} + p_{5} + p_{6} + p_{8} - 8.0} - \\frac{T p_{2}}{p_{3} + p_{5} + p_{6} + p_{8} - 8.0} - \\frac{T p_{4}}{p_{3} + p_{5} + p_{6} + p_{8} - 8.0} - \\frac{T p_{7}}{p_{3} + p_{5} + p_{6} + p_{8} - 8.0} - \\frac{T}{p_{3} + p_{5} + p_{6} + p_{8} - 8.0} & < R \\\\\n",
      "\\frac{P p_{2}}{p_{7} + p_{8} - 5.0} + \\frac{P p_{4}}{p_{7} + p_{8} - 5.0} + \\frac{P p_{5}}{p_{7} + p_{8} - 5.0} - \\frac{3.0 P}{p_{7} + p_{8} - 5.0} + \\frac{S p_{7}}{p_{7} + p_{8} - 5.0} + \\frac{S p_{8}}{p_{7} + p_{8} - 5.0} - \\frac{2.0 S}{p_{7} + p_{8} - 5.0} - \\frac{T p_{2}}{p_{7} + p_{8} - 5.0} - \\frac{T p_{4}}{p_{7} + p_{8} - 5.0} - \\frac{T p_{5}}{p_{7} + p_{8} - 5.0} & < R \\\\\n",
      "\\frac{P p_{6}}{p_{4} - 3.0} + \\frac{P p_{7}}{p_{4} - 3.0} - \\frac{2.0 P}{p_{4} - 3.0} + \\frac{S p_{4}}{p_{4} - 3.0} - \\frac{S}{p_{4} - 3.0} - \\frac{T p_{6}}{p_{4} - 3.0} - \\frac{T p_{7}}{p_{4} - 3.0} & < R \\\\\n",
      "\\frac{P p_{2}}{p_{3} + p_{4} + p_{5} + p_{6} - 7.0} + \\frac{P p_{7}}{p_{3} + p_{4} + p_{5} + p_{6} - 7.0} - \\frac{2.0 P}{p_{3} + p_{4} + p_{5} + p_{6} - 7.0} + \\frac{S p_{3}}{p_{3} + p_{4} + p_{5} + p_{6} - 7.0} + \\frac{S p_{4}}{p_{3} + p_{4} + p_{5} + p_{6} - 7.0} + \\frac{S p_{5}}{p_{3} + p_{4} + p_{5} + p_{6} - 7.0} + \\frac{S p_{6}}{p_{3} + p_{4} + p_{5} + p_{6} - 7.0} - \\frac{4.0 S}{p_{3} + p_{4} + p_{5} + p_{6} - 7.0} - \\frac{T p_{2}}{p_{3} + p_{4} + p_{5} + p_{6} - 7.0} - \\frac{T p_{7}}{p_{3} + p_{4} + p_{5} + p_{6} - 7.0} - \\frac{T}{p_{3} + p_{4} + p_{5} + p_{6} - 7.0} & < R \\\\\n",
      "\\frac{P p_{5}}{p_{2} + p_{3} - 3.0} - \\frac{P}{p_{2} + p_{3} - 3.0} + \\frac{S p_{2}}{p_{2} + p_{3} - 3.0} + \\frac{S p_{3}}{p_{2} + p_{3} - 3.0} - \\frac{2.0 S}{p_{2} + p_{3} - 3.0} - \\frac{T p_{5}}{p_{2} + p_{3} - 3.0} & < R \\\\\n",
      "\\frac{S p_{2}}{p_{2} + p_{3} + p_{5} - 4.0} + \\frac{S p_{3}}{p_{2} + p_{3} + p_{5} - 4.0} + \\frac{S p_{5}}{p_{2} + p_{3} + p_{5} - 4.0} - \\frac{3.0 S}{p_{2} + p_{3} + p_{5} - 4.0} - \\frac{T}{p_{2} + p_{3} + p_{5} - 4.0} & < R \\\\\n"
     ]
    }
   ],
   "source": [
    "for solution in unique_solutions:\n",
    "    print(sym.latex(solution), r\"& < R \\\\\")"
   ]
  },
  {
   "cell_type": "code",
   "execution_count": 349,
   "id": "74e518f5",
   "metadata": {},
   "outputs": [
    {
     "data": {
      "text/latex": [
       "$\\displaystyle \\frac{P \\left(p_{2} - 1\\right) + S \\left(p_{4} + p_{5} + p_{7} - 3.0\\right) - T \\left(p_{2} + 1\\right)}{p_{4} + p_{5} + p_{7} - 5.0}$"
      ],
      "text/plain": [
       "(P*(p_2 - 1) + S*(p_4 + p_5 + p_7 - 3.0) - T*(p_2 + 1))/(p_4 + p_5 + p_7 - 5.0)"
      ]
     },
     "execution_count": 349,
     "metadata": {},
     "output_type": "execute_result"
    }
   ],
   "source": [
    "solutions[12].simplify().collect(s).collect(t).collect(p).collect(r).simplify()"
   ]
  },
  {
   "cell_type": "code",
   "execution_count": null,
   "id": "f38cbbec",
   "metadata": {},
   "outputs": [],
   "source": []
  }
 ],
 "metadata": {
  "kernelspec": {
   "display_name": "Python 3 (ipykernel)",
   "language": "python",
   "name": "python3"
  },
  "language_info": {
   "codemirror_mode": {
    "name": "ipython",
    "version": 3
   },
   "file_extension": ".py",
   "mimetype": "text/x-python",
   "name": "python",
   "nbconvert_exporter": "python",
   "pygments_lexer": "ipython3",
   "version": "3.11.3"
  }
 },
 "nbformat": 4,
 "nbformat_minor": 5
}
