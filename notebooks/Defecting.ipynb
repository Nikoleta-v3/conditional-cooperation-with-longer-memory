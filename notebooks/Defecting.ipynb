{
 "cells": [
  {
   "cell_type": "code",
   "execution_count": 1,
   "metadata": {
    "tags": []
   },
   "outputs": [],
   "source": [
    "import sympy as sym\n",
    "\n",
    "import numpy as np\n",
    "\n",
    "import repeated_play"
   ]
  },
  {
   "cell_type": "code",
   "execution_count": 2,
   "metadata": {
    "tags": []
   },
   "outputs": [],
   "source": [
    "import itertools"
   ]
  },
  {
   "cell_type": "code",
   "execution_count": 3,
   "metadata": {
    "tags": []
   },
   "outputs": [],
   "source": [
    "from tqdm.notebook import tqdm"
   ]
  },
  {
   "cell_type": "code",
   "execution_count": 4,
   "metadata": {
    "tags": []
   },
   "outputs": [],
   "source": [
    "sym.init_printing(True)"
   ]
  },
  {
   "cell_type": "code",
   "execution_count": 5,
   "metadata": {
    "tags": []
   },
   "outputs": [],
   "source": [
    "b, c = sym.symbols(\"b, c\")"
   ]
  },
  {
   "cell_type": "code",
   "execution_count": 6,
   "metadata": {},
   "outputs": [],
   "source": [
    "import pandas as pd"
   ]
  },
  {
   "cell_type": "markdown",
   "metadata": {},
   "source": [
    "**Functions**"
   ]
  },
  {
   "cell_type": "code",
   "execution_count": 7,
   "metadata": {},
   "outputs": [],
   "source": [
    "def trnsf_transition_m_memory_two(player, analytical=True):\n",
    "    \n",
    "    if analytical == True:\n",
    "        M = sym.Matrix([[player[0], (1 - player[0]), 0, 0],\n",
    "                        [0, 0, player[1], (1 - player[1])],\n",
    "                        [player[2], (1 - player[2]), 0, 0],\n",
    "                        [0, 0, player[3], (1 - player[3])]])\n",
    "    else:\n",
    "        M = np.array([[player[0], (1 - player[0]), 0, 0],\n",
    "                        [0, 0, player[1], (1 - player[1])],\n",
    "                        [player[2], (1 - player[2]), 0, 0],\n",
    "                        [0, 0, player[3], (1 - player[3])]])\n",
    "    \n",
    "    \n",
    "    return M"
   ]
  },
  {
   "cell_type": "code",
   "execution_count": 8,
   "metadata": {},
   "outputs": [],
   "source": [
    "def trnsf_transition_m_memory_three(player, analytical=True):\n",
    "    \n",
    "    if analytical == False:\n",
    "    \n",
    "        return np.array([[coplayer[0], (1 - coplayer[0]), 0, 0, 0, 0, 0, 0],\n",
    "                        [0, 0, coplayer[1], (1 - coplayer[1]), 0, 0, 0, 0],\n",
    "                        [0, 0, 0, 0, coplayer[2], (1 - coplayer[2]), 0, 0],\n",
    "                        [0, 0, 0, 0, 0, 0, coplayer[3], (1 - coplayer[3])],\n",
    "                        [coplayer[4], (1 - coplayer[4]), 0, 0, 0, 0, 0, 0],\n",
    "                        [0, 0, coplayer[5], (1 - coplayer[5]), 0, 0, 0, 0],\n",
    "                        [0, 0, 0, 0, coplayer[6], (1 - coplayer[6]), 0, 0],\n",
    "                        [0, 0, 0, 0, 0, 0, coplayer[7], (1 - coplayer[7])]])\n",
    "    \n",
    "    if analytical == True:\n",
    "\n",
    "        return sym.Matrix([[coplayer[0], (1 - coplayer[0]), 0, 0, 0, 0, 0, 0],\n",
    "                        [0, 0, coplayer[1], (1 - coplayer[1]), 0, 0, 0, 0],\n",
    "                        [0, 0, 0, 0, coplayer[2], (1 - coplayer[2]), 0, 0],\n",
    "                        [0, 0, 0, 0, 0, 0, coplayer[3], (1 - coplayer[3])],\n",
    "                        [coplayer[4], (1 - coplayer[4]), 0, 0, 0, 0, 0, 0],\n",
    "                        [0, 0, coplayer[5], (1 - coplayer[5]), 0, 0, 0, 0],\n",
    "                        [0, 0, 0, 0, coplayer[6], (1 - coplayer[6]), 0, 0],\n",
    "                        [0, 0, 0, 0, 0, 0, coplayer[7], (1 - coplayer[7])]])"
   ]
  },
  {
   "cell_type": "markdown",
   "metadata": {},
   "source": [
    "### $n=1$ case\n",
    "\n",
    "How many pure self-reactive strategies? 4?"
   ]
  },
  {
   "cell_type": "code",
   "execution_count": 9,
   "metadata": {},
   "outputs": [],
   "source": [
    "pc = sym.symbols(r\"p_c\")\n",
    "\n",
    "pd = sym.symbols(r\"p_d\")"
   ]
  },
  {
   "cell_type": "code",
   "execution_count": 10,
   "metadata": {},
   "outputs": [],
   "source": [
    "pure_strategies = list(itertools.product([0, 1], repeat=2))"
   ]
  },
  {
   "cell_type": "code",
   "execution_count": 11,
   "metadata": {},
   "outputs": [],
   "source": [
    "strategy = [pc, 0]"
   ]
  },
  {
   "cell_type": "code",
   "execution_count": 12,
   "metadata": {},
   "outputs": [
    {
     "name": "stdout",
     "output_type": "stream",
     "text": [
      "b p_{c} - c\n"
     ]
    }
   ],
   "source": [
    "coplayer = pure_strategies[3] * 2\n",
    "\n",
    "M = repeated_play.transition_matrix_repeated_game(coplayer, strategy * 2, memory='one', analytical=True)\n",
    "\n",
    "ss = repeated_play.stationary_distribution(M, analytical=True)\n",
    "\n",
    "print(sym.latex(sum(ss @ np.array([b - c, -c, b, 0])).simplify()))\n",
    "\n",
    "# sym.solve(sum(ss @ np.array([b - c, -c, b, 0])), pc)"
   ]
  },
  {
   "cell_type": "code",
   "execution_count": 13,
   "metadata": {},
   "outputs": [
    {
     "data": {
      "image/png": "[encoded data removed]",
      "text/latex": [
       "$\\displaystyle b p_{c} - c$"
      ],
      "text/plain": [
       "b⋅p_c - c"
      ]
     },
     "execution_count": 13,
     "metadata": {},
     "output_type": "execute_result"
    }
   ],
   "source": [
    "sum(ss @ np.array([b - c, -c, b, 0])).factor().collect(pc)"
   ]
  },
  {
   "cell_type": "code",
   "execution_count": 14,
   "metadata": {},
   "outputs": [],
   "source": [
    "strategy = [1, pd]"
   ]
  },
  {
   "cell_type": "code",
   "execution_count": 15,
   "metadata": {},
   "outputs": [
    {
     "data": {
      "image/png": "[encoded data removed]",
      "text/latex": [
       "$\\displaystyle \\left[ \\frac{- b + c}{c}\\right]$"
      ],
      "text/plain": [
       "⎡-b + c⎤\n",
       "⎢──────⎥\n",
       "⎣  c   ⎦"
      ]
     },
     "execution_count": 15,
     "metadata": {},
     "output_type": "execute_result"
    }
   ],
   "source": [
    "coplayer = pure_strategies[1] * 2\n",
    "\n",
    "M = repeated_play.transition_matrix_repeated_game(coplayer, strategy * 2, memory='one', analytical=True)\n",
    "\n",
    "ss = repeated_play.stationary_distribution(M, analytical=True)\n",
    "\n",
    "sym.solve(sum(ss @ np.array([b - c, -c, b, 0])), pd)"
   ]
  },
  {
   "cell_type": "code",
   "execution_count": 16,
   "metadata": {},
   "outputs": [
    {
     "data": {
      "image/png": "[encoded data removed]",
      "text/latex": [
       "$\\displaystyle - \\frac{b + c p_{d} - c}{p_{d} - 2}$"
      ],
      "text/plain": [
       "-(b + c⋅p_d - c) \n",
       "─────────────────\n",
       "     p_d - 2     "
      ]
     },
     "execution_count": 16,
     "metadata": {},
     "output_type": "execute_result"
    }
   ],
   "source": [
    "sum(ss @ np.array([b - c, -c, b, 0])).factor().collect(pc)"
   ]
  },
  {
   "cell_type": "markdown",
   "metadata": {},
   "source": [
    "### $n=2$ case"
   ]
  },
  {
   "cell_type": "code",
   "execution_count": 17,
   "metadata": {},
   "outputs": [],
   "source": [
    "pcc, pcd, pdc = sym.symbols(\"p_{CC}, p_{CD}, p_{DC}\")"
   ]
  },
  {
   "cell_type": "code",
   "execution_count": 18,
   "metadata": {},
   "outputs": [],
   "source": [
    "pure_strategies = list(itertools.product([0, 1], repeat=4))"
   ]
  },
  {
   "cell_type": "code",
   "execution_count": 19,
   "metadata": {},
   "outputs": [
    {
     "data": {
      "image/png": "[encoded data removed]",
      "text/latex": [
       "$\\displaystyle 16$"
      ],
      "text/plain": [
       "16"
      ]
     },
     "execution_count": 19,
     "metadata": {},
     "output_type": "execute_result"
    }
   ],
   "source": [
    "len(pure_strategies)"
   ]
  },
  {
   "cell_type": "code",
   "execution_count": 20,
   "metadata": {},
   "outputs": [],
   "source": [
    "strategy = [pcc, pcd, pdc, 0]"
   ]
  },
  {
   "cell_type": "code",
   "execution_count": 21,
   "metadata": {},
   "outputs": [
    {
     "data": {
      "application/vnd.jupyter.widget-view+json": {
       "model_id": "9602471024df4b12bd5a22d2a98ee684",
       "version_major": 2,
       "version_minor": 0
      },
      "text/plain": [
       "0it [00:00, ?it/s]"
      ]
     },
     "metadata": {},
     "output_type": "display_data"
    }
   ],
   "source": [
    "payoffs = []\n",
    "\n",
    "for num, coplayer in tqdm(enumerate(pure_strategies)):\n",
    "    \n",
    "    M = trnsf_transition_m_memory_two(coplayer, analytical=False)\n",
    "\n",
    "    stationaries = repeated_play.stationary_distribution(M)\n",
    "    \n",
    "    for ss in stationaries:\n",
    "\n",
    "        rho_q = ss[0] + ss[1]\n",
    "\n",
    "        rho_p = sum([ss[i] * p for i, p in enumerate(strategy)])\n",
    "\n",
    "\n",
    "        payoff_q = (rho_p * b - c * rho_q)\n",
    "\n",
    "        payoffs.append((num, sym.nsimplify(payoff_q)))"
   ]
  },
  {
   "cell_type": "code",
   "execution_count": 22,
   "metadata": {},
   "outputs": [
    {
     "data": {
      "image/png": "[encoded data removed]",
      "text/latex": [
       "$\\displaystyle 25$"
      ],
      "text/plain": [
       "25"
      ]
     },
     "execution_count": 22,
     "metadata": {},
     "output_type": "execute_result"
    }
   ],
   "source": [
    "len(payoffs)"
   ]
  },
  {
   "cell_type": "code",
   "execution_count": 23,
   "metadata": {},
   "outputs": [
    {
     "data": {
      "image/png": "[encoded data removed]",
      "text/latex": [
       "$\\displaystyle \\left[ 0, \\  2, \\  4, \\  6, \\  8, \\  10, \\  12, \\  14\\right]$"
      ],
      "text/plain": [
       "[0, 2, 4, 6, 8, 10, 12, 14]"
      ]
     },
     "execution_count": 23,
     "metadata": {},
     "output_type": "execute_result"
    }
   ],
   "source": [
    "[payoff[0] for payoff in payoffs if payoff[1] == 0]"
   ]
  },
  {
   "cell_type": "code",
   "execution_count": 24,
   "metadata": {},
   "outputs": [
    {
     "name": "stdout",
     "output_type": "stream",
     "text": [
      "b p_{CC} - c\n"
     ]
    }
   ],
   "source": [
    "print(sym.latex(payoffs[11][1]))"
   ]
  },
  {
   "cell_type": "code",
   "execution_count": 25,
   "metadata": {},
   "outputs": [
    {
     "data": {
      "image/png": "[encoded data removed]",
      "text/latex": [
       "$\\displaystyle b \\left(\\frac{p_{CD}}{3} + \\frac{p_{DC}}{3}\\right) - \\frac{c}{3}$"
      ],
      "text/plain": [
       "  ⎛p_{CD}   p_{DC}⎞   c\n",
       "b⋅⎜────── + ──────⎟ - ─\n",
       "  ⎝  3        3   ⎠   3"
      ]
     },
     "execution_count": 25,
     "metadata": {},
     "output_type": "execute_result"
    }
   ],
   "source": [
    "x = payoffs[1][1]\n",
    "x"
   ]
  },
  {
   "cell_type": "code",
   "execution_count": 26,
   "metadata": {},
   "outputs": [
    {
     "data": {
      "image/png": "[encoded data removed]",
      "text/latex": [
       "$\\displaystyle \\left[ 1, \\  9\\right]$"
      ],
      "text/plain": [
       "[1, 9]"
      ]
     },
     "execution_count": 26,
     "metadata": {},
     "output_type": "execute_result"
    }
   ],
   "source": [
    "[payoff[0] for payoff in payoffs if (payoff[1] - x) == 0]"
   ]
  },
  {
   "cell_type": "code",
   "execution_count": 27,
   "metadata": {},
   "outputs": [],
   "source": [
    "payoff_expr = [p[1] for p in payoffs]"
   ]
  },
  {
   "cell_type": "code",
   "execution_count": 28,
   "metadata": {},
   "outputs": [],
   "source": [
    "payoff_expr = list(set(payoff_expr))"
   ]
  },
  {
   "cell_type": "code",
   "execution_count": 29,
   "metadata": {},
   "outputs": [
    {
     "data": {
      "image/png": "[encoded data removed]",
      "text/latex": [
       "$\\displaystyle b \\left(\\frac{p_{CD}}{3} + \\frac{p_{DC}}{3}\\right) - \\frac{c}{3}$"
      ],
      "text/plain": [
       "  ⎛p_{CD}   p_{DC}⎞   c\n",
       "b⋅⎜────── + ──────⎟ - ─\n",
       "  ⎝  3        3   ⎠   3"
      ]
     },
     "execution_count": 29,
     "metadata": {},
     "output_type": "execute_result"
    }
   ],
   "source": [
    "payoff_expr[1]"
   ]
  },
  {
   "cell_type": "code",
   "execution_count": 30,
   "metadata": {},
   "outputs": [
    {
     "data": {
      "image/png": "[encoded data removed]",
      "text/latex": [
       "$\\displaystyle b p_{CC} - c$"
      ],
      "text/plain": [
       "b⋅p_{CC} - c"
      ]
     },
     "execution_count": 30,
     "metadata": {},
     "output_type": "execute_result"
    }
   ],
   "source": [
    "payoff_expr[2]"
   ]
  },
  {
   "cell_type": "code",
   "execution_count": 31,
   "metadata": {},
   "outputs": [
    {
     "data": {
      "image/png": "[encoded data removed]",
      "text/latex": [
       "$\\displaystyle b \\left(\\frac{p_{CD}}{2} + \\frac{p_{DC}}{2}\\right) - \\frac{c}{2}$"
      ],
      "text/plain": [
       "  ⎛p_{CD}   p_{DC}⎞   c\n",
       "b⋅⎜────── + ──────⎟ - ─\n",
       "  ⎝  2        2   ⎠   2"
      ]
     },
     "execution_count": 31,
     "metadata": {},
     "output_type": "execute_result"
    }
   ],
   "source": [
    "payoff_expr[3]"
   ]
  },
  {
   "cell_type": "code",
   "execution_count": 32,
   "metadata": {},
   "outputs": [
    {
     "data": {
      "image/png": "[encoded data removed]",
      "text/latex": [
       "$\\displaystyle b \\left(\\frac{p_{CC}}{3} + \\frac{p_{CD}}{3} + \\frac{p_{DC}}{3}\\right) - \\frac{2 c}{3}$"
      ],
      "text/plain": [
       "  ⎛p_{CC}   p_{CD}   p_{DC}⎞   2⋅c\n",
       "b⋅⎜────── + ────── + ──────⎟ - ───\n",
       "  ⎝  3        3        3   ⎠    3 "
      ]
     },
     "execution_count": 32,
     "metadata": {},
     "output_type": "execute_result"
    }
   ],
   "source": [
    "payoff_expr[4]"
   ]
  },
  {
   "cell_type": "code",
   "execution_count": 33,
   "metadata": {},
   "outputs": [
    {
     "data": {
      "image/png": "[encoded data removed]",
      "text/latex": [
       "$\\displaystyle b \\left(\\frac{p_{CC}}{4} + \\frac{p_{CD}}{4} + \\frac{p_{DC}}{4}\\right) - \\frac{c}{2}$"
      ],
      "text/plain": [
       "  ⎛p_{CC}   p_{CD}   p_{DC}⎞   c\n",
       "b⋅⎜────── + ────── + ──────⎟ - ─\n",
       "  ⎝  4        4        4   ⎠   2"
      ]
     },
     "execution_count": 33,
     "metadata": {},
     "output_type": "execute_result"
    }
   ],
   "source": [
    "payoff_expr[5]"
   ]
  },
  {
   "cell_type": "markdown",
   "metadata": {},
   "source": [
    "### $n=3$ case"
   ]
  },
  {
   "cell_type": "code",
   "execution_count": 34,
   "metadata": {},
   "outputs": [],
   "source": [
    "pccc, pccd, pcdc, pcdd, pdcc, pdcd, pddc =  sym.symbols(\"p_{CCC}, p_{CCD}, p_{CDC}, p_{CDD}, p_{DCC}, p_{DCD}, p_{DDC}\")"
   ]
  },
  {
   "cell_type": "code",
   "execution_count": 35,
   "metadata": {},
   "outputs": [],
   "source": [
    "pure_strategies = list(itertools.product([0, 1], repeat=8))"
   ]
  },
  {
   "cell_type": "code",
   "execution_count": 36,
   "metadata": {},
   "outputs": [],
   "source": [
    "strategy = [pccc, pccd, pcdc, pcdd, pdcc, pdcd, pddc, 0]"
   ]
  },
  {
   "cell_type": "code",
   "execution_count": 37,
   "metadata": {},
   "outputs": [
    {
     "data": {
      "application/vnd.jupyter.widget-view+json": {
       "model_id": "8a4c22825233461eaa3bb081d7f89665",
       "version_major": 2,
       "version_minor": 0
      },
      "text/plain": [
       "0it [00:00, ?it/s]"
      ]
     },
     "metadata": {},
     "output_type": "display_data"
    }
   ],
   "source": [
    "payoffs = []\n",
    "\n",
    "for num, coplayer in tqdm(enumerate(pure_strategies)):\n",
    "    \n",
    "    M = trnsf_transition_m_memory_three(coplayer, analytical=False)\n",
    "\n",
    "    stationaries = repeated_play.stationary_distribution(M)\n",
    "    \n",
    "    for ss in stationaries:\n",
    "\n",
    "        rho_q = ss[0] + ss[1] + ss[4] + ss[5]\n",
    "\n",
    "        rho_p = sum([ss[i] * p for i, p in enumerate(strategy)])\n",
    "\n",
    "\n",
    "        payoff_q = (rho_p * b - c * rho_q)\n",
    "\n",
    "        payoffs.append((num, sym.nsimplify(payoff_q)))"
   ]
  },
  {
   "cell_type": "code",
   "execution_count": 38,
   "metadata": {},
   "outputs": [],
   "source": [
    "payoff_expr = [p[1] for p in payoffs]"
   ]
  },
  {
   "cell_type": "code",
   "execution_count": 39,
   "metadata": {},
   "outputs": [],
   "source": [
    "payoff_expr = list(set(payoff_expr))"
   ]
  },
  {
   "cell_type": "code",
   "execution_count": 40,
   "metadata": {},
   "outputs": [
    {
     "data": {
      "image/png": "[encoded data removed]",
      "text/latex": [
       "$\\displaystyle 15$"
      ],
      "text/plain": [
       "15"
      ]
     },
     "execution_count": 40,
     "metadata": {},
     "output_type": "execute_result"
    }
   ],
   "source": [
    "len(payoff_expr)"
   ]
  },
  {
   "cell_type": "code",
   "execution_count": 41,
   "metadata": {},
   "outputs": [
    {
     "data": {
      "image/png": "[encoded data removed]",
      "text/latex": [
       "$\\displaystyle \\left[ 0, \\  2, \\  4, \\  6, \\  8, \\  10, \\  12, \\  14, \\  16, \\  18, \\  20, \\  22, \\  24, \\  26, \\  28, \\  30, \\  32, \\  34, \\  36, \\  38, \\  40, \\  42, \\  44, \\  46, \\  48, \\  50, \\  52, \\  54, \\  56, \\  58, \\  60, \\  62, \\  64, \\  66, \\  68, \\  70, \\  72, \\  74, \\  76, \\  78, \\  80, \\  82, \\  84, \\  86, \\  88, \\  90, \\  92, \\  94, \\  96, \\  98, \\  100, \\  102, \\  104, \\  106, \\  108, \\  110, \\  112, \\  114, \\  116, \\  118, \\  120, \\  122, \\  124, \\  126, \\  128, \\  130, \\  132, \\  134, \\  136, \\  138, \\  140, \\  142, \\  144, \\  146, \\  148, \\  150, \\  152, \\  154, \\  156, \\  158, \\  160, \\  162, \\  164, \\  166, \\  168, \\  170, \\  172, \\  174, \\  176, \\  178, \\  180, \\  182, \\  184, \\  186, \\  188, \\  190, \\  192, \\  194, \\  196, \\  198, \\  200, \\  202, \\  204, \\  206, \\  208, \\  210, \\  212, \\  214, \\  216, \\  218, \\  220, \\  222, \\  224, \\  226, \\  228, \\  230, \\  232, \\  234, \\  236, \\  238, \\  240, \\  242, \\  244, \\  246, \\  248, \\  250, \\  252, \\  254\\right]$"
      ],
      "text/plain": [
       "[0, 2, 4, 6, 8, 10, 12, 14, 16, 18, 20, 22, 24, 26, 28, 30, 32, 34, 36, 38, 40, 42, 44, 46, 48, 50, 52, 54, 56, 58, 60, 62, 64, 66, 68, 70, 72, 74, 76, 78, 80, 82, 84, 86, 88\n",
       ", 90, 92, 94, 96, 98, 100, 102, 104, 106, 108, 110, 112, 114, 116, 118, 120, 122, 124, 126, 128, 130, 132, 134, 136, 138, 140, 142, 144, 146, 148, 150, 152, 154, 156, 158, 16\n",
       "0, 162, 164, 166, 168, 170, 172, 174, 176, 178, 180, 182, 184, 186, 188, 190, 192, 194, 196, 198, 200, 202, 204, 206, 208, 210, 212, 214, 216, 218, 220, 222, 224, 226, 228, 2\n",
       "30, 232, 234, 236, 238, 240, 242, 244, 246, 248, 250, 252, 254]"
      ]
     },
     "execution_count": 41,
     "metadata": {},
     "output_type": "execute_result"
    }
   ],
   "source": [
    "[payoff[0] for payoff in payoffs if payoff[1] == 0]"
   ]
  },
  {
   "cell_type": "code",
   "execution_count": 146,
   "metadata": {},
   "outputs": [
    {
     "data": {
      "image/png": "[encoded data removed]",
      "text/latex": [
       "$\\displaystyle b \\left(\\frac{p_{CCC}}{6} + \\frac{p_{CCD}}{6} + \\frac{p_{CDD}}{6} + \\frac{p_{DCC}}{6} + \\frac{p_{DDC}}{6}\\right) - \\frac{c}{2}$"
      ],
      "text/plain": [
       "  ⎛p_{CCC}   p_{CCD}   p_{CDD}   p_{DCC}   p_{DDC}⎞   c\n",
       "b⋅⎜─────── + ─────── + ─────── + ─────── + ───────⎟ - ─\n",
       "  ⎝   6         6         6         6         6   ⎠   2"
      ]
     },
     "execution_count": 146,
     "metadata": {},
     "output_type": "execute_result"
    }
   ],
   "source": [
    "x = payoff_expr[14]\n",
    "x"
   ]
  },
  {
   "cell_type": "code",
   "execution_count": 147,
   "metadata": {},
   "outputs": [
    {
     "name": "stdout",
     "output_type": "stream",
     "text": [
      "b \\left(\\frac{p_{CCC}}{6} + \\frac{p_{CCD}}{6} + \\frac{p_{CDD}}{6} + \\frac{p_{DCC}}{6} + \\frac{p_{DDC}}{6}\\right) - \\frac{c}{2}\n"
     ]
    }
   ],
   "source": [
    "print(sym.latex(x))"
   ]
  },
  {
   "cell_type": "code",
   "execution_count": 148,
   "metadata": {},
   "outputs": [
    {
     "data": {
      "image/png": "[encoded data removed]",
      "text/latex": [
       "$\\displaystyle \\left[ 11, \\  15, \\  43, \\  47\\right]$"
      ],
      "text/plain": [
       "[11, 15, 43, 47]"
      ]
     },
     "execution_count": 148,
     "metadata": {},
     "output_type": "execute_result"
    }
   ],
   "source": [
    "[payoff[0] for payoff in payoffs if (payoff[1] - x) == 0]"
   ]
  },
  {
   "cell_type": "markdown",
   "metadata": {},
   "source": [
    "### Group 1"
   ]
  },
  {
   "cell_type": "code",
   "execution_count": 159,
   "metadata": {},
   "outputs": [
    {
     "data": {
      "image/png": "[encoded data removed]",
      "text/latex": [
       "$\\displaystyle 0$"
      ],
      "text/plain": [
       "0"
      ]
     },
     "execution_count": 159,
     "metadata": {},
     "output_type": "execute_result"
    }
   ],
   "source": [
    "payoff_expr[0]"
   ]
  },
  {
   "cell_type": "code",
   "execution_count": 101,
   "metadata": {},
   "outputs": [
    {
     "data": {
      "image/png": "[encoded data removed]",
      "text/latex": [
       "$\\displaystyle b \\left(\\frac{p_{CCC}}{6} + \\frac{p_{CCD}}{6} + \\frac{p_{CDD}}{6} + \\frac{p_{DCC}}{6} + \\frac{p_{DDC}}{6}\\right) - \\frac{c}{2}$"
      ],
      "text/plain": [
       "  ⎛p_{CCC}   p_{CCD}   p_{CDD}   p_{DCC}   p_{DDC}⎞   c\n",
       "b⋅⎜─────── + ─────── + ─────── + ─────── + ───────⎟ - ─\n",
       "  ⎝   6         6         6         6         6   ⎠   2"
      ]
     },
     "execution_count": 101,
     "metadata": {},
     "output_type": "execute_result"
    }
   ],
   "source": [
    "payoff_expr[1]"
   ]
  },
  {
   "cell_type": "code",
   "execution_count": 117,
   "metadata": {},
   "outputs": [
    {
     "data": {
      "image/png": "[encoded data removed]",
      "text/latex": [
       "$\\displaystyle b \\left(\\frac{p_{CCC}}{5} + \\frac{p_{CCD}}{5} + \\frac{p_{CDD}}{5} + \\frac{p_{DCC}}{5} + \\frac{p_{DDC}}{5}\\right) - \\frac{3 c}{5}$"
      ],
      "text/plain": [
       "  ⎛p_{CCC}   p_{CCD}   p_{CDD}   p_{DCC}   p_{DDC}⎞   3⋅c\n",
       "b⋅⎜─────── + ─────── + ─────── + ─────── + ───────⎟ - ───\n",
       "  ⎝   5         5         5         5         5   ⎠    5 "
      ]
     },
     "execution_count": 117,
     "metadata": {},
     "output_type": "execute_result"
    }
   ],
   "source": [
    "payoff_expr[2]"
   ]
  },
  {
   "cell_type": "markdown",
   "metadata": {},
   "source": [
    "### Group 2"
   ]
  },
  {
   "cell_type": "code",
   "execution_count": 118,
   "metadata": {},
   "outputs": [
    {
     "data": {
      "image/png": "[encoded data removed]",
      "text/latex": [
       "$\\displaystyle b \\left(\\frac{p_{CCD}}{5} + \\frac{p_{CDD}}{5} + \\frac{p_{DCC}}{5} + \\frac{p_{DDC}}{5}\\right) - \\frac{2 c}{5}$"
      ],
      "text/plain": [
       "  ⎛p_{CCD}   p_{CDD}   p_{DCC}   p_{DDC}⎞   2⋅c\n",
       "b⋅⎜─────── + ─────── + ─────── + ───────⎟ - ───\n",
       "  ⎝   5         5         5         5   ⎠    5 "
      ]
     },
     "execution_count": 118,
     "metadata": {},
     "output_type": "execute_result"
    }
   ],
   "source": [
    "payoff_expr[3]"
   ]
  },
  {
   "cell_type": "code",
   "execution_count": 160,
   "metadata": {},
   "outputs": [
    {
     "data": {
      "image/png": "[encoded data removed]",
      "text/latex": [
       "$\\displaystyle b \\left(\\frac{p_{CCD}}{4} + \\frac{p_{CDD}}{4} + \\frac{p_{DCC}}{4} + \\frac{p_{DDC}}{4}\\right) - \\frac{c}{2}$"
      ],
      "text/plain": [
       "  ⎛p_{CCD}   p_{CDD}   p_{DCC}   p_{DDC}⎞   c\n",
       "b⋅⎜─────── + ─────── + ─────── + ───────⎟ - ─\n",
       "  ⎝   4         4         4         4   ⎠   2"
      ]
     },
     "execution_count": 160,
     "metadata": {},
     "output_type": "execute_result"
    }
   ],
   "source": [
    "payoff_expr[11]"
   ]
  },
  {
   "cell_type": "markdown",
   "metadata": {},
   "source": [
    "### Group 2.5"
   ]
  },
  {
   "cell_type": "code",
   "execution_count": 121,
   "metadata": {},
   "outputs": [
    {
     "data": {
      "image/png": "[encoded data removed]",
      "text/latex": [
       "$\\displaystyle b \\left(\\frac{p_{CCC}}{4} + \\frac{p_{CCD}}{4} + \\frac{p_{CDC}}{4} + \\frac{p_{DCC}}{4}\\right) - \\frac{3 c}{4}$"
      ],
      "text/plain": [
       "  ⎛p_{CCC}   p_{CCD}   p_{CDC}   p_{DCC}⎞   3⋅c\n",
       "b⋅⎜─────── + ─────── + ─────── + ───────⎟ - ───\n",
       "  ⎝   4         4         4         4   ⎠    4 "
      ]
     },
     "execution_count": 121,
     "metadata": {},
     "output_type": "execute_result"
    }
   ],
   "source": [
    "payoff_expr[5]"
   ]
  },
  {
   "cell_type": "code",
   "execution_count": 127,
   "metadata": {},
   "outputs": [
    {
     "data": {
      "image/png": "[encoded data removed]",
      "text/latex": [
       "$\\displaystyle b \\left(\\frac{p_{CCD}}{4} + \\frac{p_{CDD}}{4} + \\frac{p_{DCC}}{4} + \\frac{p_{DDC}}{4}\\right) - \\frac{c}{2}$"
      ],
      "text/plain": [
       "  ⎛p_{CCD}   p_{CDD}   p_{DCC}   p_{DDC}⎞   c\n",
       "b⋅⎜─────── + ─────── + ─────── + ───────⎟ - ─\n",
       "  ⎝   4         4         4         4   ⎠   2"
      ]
     },
     "execution_count": 127,
     "metadata": {},
     "output_type": "execute_result"
    }
   ],
   "source": []
  },
  {
   "cell_type": "markdown",
   "metadata": {},
   "source": [
    "### Group 3"
   ]
  },
  {
   "cell_type": "code",
   "execution_count": 133,
   "metadata": {},
   "outputs": [
    {
     "data": {
      "image/png": "[encoded data removed]",
      "text/latex": [
       "$\\displaystyle b p_{CCC} - c$"
      ],
      "text/plain": [
       "b⋅p_{CCC} - c"
      ]
     },
     "execution_count": 133,
     "metadata": {},
     "output_type": "execute_result"
    }
   ],
   "source": [
    "payoff_expr[13]"
   ]
  },
  {
   "cell_type": "markdown",
   "metadata": {},
   "source": [
    "### Group 4"
   ]
  },
  {
   "cell_type": "code",
   "execution_count": 134,
   "metadata": {},
   "outputs": [
    {
     "data": {
      "image/png": "[encoded data removed]",
      "text/latex": [
       "$\\displaystyle b \\left(\\frac{p_{CCD}}{7} + \\frac{p_{CDC}}{7} + \\frac{p_{CDD}}{7} + \\frac{p_{DCC}}{7} + \\frac{p_{DCD}}{7} + \\frac{p_{DDC}}{7}\\right) - \\frac{3 c}{7}$"
      ],
      "text/plain": [
       "  ⎛p_{CCD}   p_{CDC}   p_{CDD}   p_{DCC}   p_{DCD}   p_{DDC}⎞   3⋅c\n",
       "b⋅⎜─────── + ─────── + ─────── + ─────── + ─────── + ───────⎟ - ───\n",
       "  ⎝   7         7         7         7         7         7   ⎠    7 "
      ]
     },
     "execution_count": 134,
     "metadata": {},
     "output_type": "execute_result"
    }
   ],
   "source": [
    "payoff_expr[4]"
   ]
  },
  {
   "cell_type": "code",
   "execution_count": 142,
   "metadata": {},
   "outputs": [
    {
     "data": {
      "image/png": "[encoded data removed]",
      "text/latex": [
       "$\\displaystyle b \\left(\\frac{p_{CCD}}{6} + \\frac{p_{CDC}}{6} + \\frac{p_{CDD}}{6} + \\frac{p_{DCC}}{6} + \\frac{p_{DCD}}{6} + \\frac{p_{DDC}}{6}\\right) - \\frac{c}{2}$"
      ],
      "text/plain": [
       "  ⎛p_{CCD}   p_{CDC}   p_{CDD}   p_{DCC}   p_{DCD}   p_{DDC}⎞   c\n",
       "b⋅⎜─────── + ─────── + ─────── + ─────── + ─────── + ───────⎟ - ─\n",
       "  ⎝   6         6         6         6         6         6   ⎠   2"
      ]
     },
     "execution_count": 142,
     "metadata": {},
     "output_type": "execute_result"
    }
   ],
   "source": [
    "payoff_expr[12]"
   ]
  },
  {
   "cell_type": "markdown",
   "metadata": {},
   "source": [
    "### Group 5"
   ]
  },
  {
   "cell_type": "code",
   "execution_count": 143,
   "metadata": {},
   "outputs": [
    {
     "data": {
      "image/png": "[encoded data removed]",
      "text/latex": [
       "$\\displaystyle b \\left(\\frac{p_{CDC}}{2} + \\frac{p_{DCD}}{2}\\right) - \\frac{c}{2}$"
      ],
      "text/plain": [
       "  ⎛p_{CDC}   p_{DCD}⎞   c\n",
       "b⋅⎜─────── + ───────⎟ - ─\n",
       "  ⎝   2         2   ⎠   2"
      ]
     },
     "execution_count": 143,
     "metadata": {},
     "output_type": "execute_result"
    }
   ],
   "source": [
    "payoff_expr[6]"
   ]
  },
  {
   "cell_type": "markdown",
   "metadata": {},
   "source": [
    "### Group 6"
   ]
  },
  {
   "cell_type": "code",
   "execution_count": 150,
   "metadata": {},
   "outputs": [
    {
     "data": {
      "image/png": "[encoded data removed]",
      "text/latex": [
       "$\\displaystyle b \\left(\\frac{p_{CCC}}{7} + \\frac{p_{CCD}}{7} + \\frac{p_{CDC}}{7} + \\frac{p_{CDD}}{7} + \\frac{p_{DCC}}{7} + \\frac{p_{DCD}}{7} + \\frac{p_{DDC}}{7}\\right) - \\frac{4 c}{7}$"
      ],
      "text/plain": [
       "  ⎛p_{CCC}   p_{CCD}   p_{CDC}   p_{CDD}   p_{DCC}   p_{DCD}   p_{DDC}⎞   4⋅c\n",
       "b⋅⎜─────── + ─────── + ─────── + ─────── + ─────── + ─────── + ───────⎟ - ───\n",
       "  ⎝   7         7         7         7         7         7         7   ⎠    7 "
      ]
     },
     "execution_count": 150,
     "metadata": {},
     "output_type": "execute_result"
    }
   ],
   "source": [
    "payoff_expr[7]"
   ]
  },
  {
   "cell_type": "code",
   "execution_count": 153,
   "metadata": {},
   "outputs": [
    {
     "data": {
      "image/png": "[encoded data removed]",
      "text/latex": [
       "$\\displaystyle b \\left(\\frac{p_{CCC}}{8} + \\frac{p_{CCD}}{8} + \\frac{p_{CDC}}{8} + \\frac{p_{CDD}}{8} + \\frac{p_{DCC}}{8} + \\frac{p_{DCD}}{8} + \\frac{p_{DDC}}{8}\\right) - \\frac{c}{2}$"
      ],
      "text/plain": [
       "  ⎛p_{CCC}   p_{CCD}   p_{CDC}   p_{CDD}   p_{DCC}   p_{DCD}   p_{DDC}⎞   c\n",
       "b⋅⎜─────── + ─────── + ─────── + ─────── + ─────── + ─────── + ───────⎟ - ─\n",
       "  ⎝   8         8         8         8         8         8         8   ⎠   2"
      ]
     },
     "execution_count": 153,
     "metadata": {},
     "output_type": "execute_result"
    }
   ],
   "source": [
    "payoff_expr[10]"
   ]
  },
  {
   "cell_type": "markdown",
   "metadata": {},
   "source": [
    "### Group 7"
   ]
  },
  {
   "cell_type": "code",
   "execution_count": 147,
   "metadata": {},
   "outputs": [
    {
     "data": {
      "image/png": "[encoded data removed]",
      "text/latex": [
       "$\\displaystyle b \\left(\\frac{p_{CCD}}{3} + \\frac{p_{CDC}}{3} + \\frac{p_{DCC}}{3}\\right) - \\frac{2 c}{3}$"
      ],
      "text/plain": [
       "  ⎛p_{CCD}   p_{CDC}   p_{DCC}⎞   2⋅c\n",
       "b⋅⎜─────── + ─────── + ───────⎟ - ───\n",
       "  ⎝   3         3         3   ⎠    3 "
      ]
     },
     "execution_count": 147,
     "metadata": {},
     "output_type": "execute_result"
    }
   ],
   "source": [
    "payoff_expr[8]"
   ]
  },
  {
   "cell_type": "markdown",
   "metadata": {},
   "source": [
    "### Group 8"
   ]
  },
  {
   "cell_type": "code",
   "execution_count": 149,
   "metadata": {},
   "outputs": [
    {
     "data": {
      "image/png": "[encoded data removed]",
      "text/latex": [
       "$\\displaystyle b \\left(\\frac{p_{CDD}}{4} + \\frac{p_{DCD}}{4} + \\frac{p_{DDC}}{4}\\right) - \\frac{c}{4}$"
      ],
      "text/plain": [
       "  ⎛p_{CDD}   p_{DCD}   p_{DDC}⎞   c\n",
       "b⋅⎜─────── + ─────── + ───────⎟ - ─\n",
       "  ⎝   4         4         4   ⎠   4"
      ]
     },
     "execution_count": 149,
     "metadata": {},
     "output_type": "execute_result"
    }
   ],
   "source": [
    "payoff_expr[9]"
   ]
  },
  {
   "cell_type": "code",
   "execution_count": 158,
   "metadata": {},
   "outputs": [
    {
     "data": {
      "image/png": "[encoded data removed]",
      "text/latex": [
       "$\\displaystyle b \\left(\\frac{p_{CDD}}{3} + \\frac{p_{DCD}}{3} + \\frac{p_{DDC}}{3}\\right) - \\frac{c}{3}$"
      ],
      "text/plain": [
       "  ⎛p_{CDD}   p_{DCD}   p_{DDC}⎞   c\n",
       "b⋅⎜─────── + ─────── + ───────⎟ - ─\n",
       "  ⎝   3         3         3   ⎠   3"
      ]
     },
     "execution_count": 158,
     "metadata": {},
     "output_type": "execute_result"
    }
   ],
   "source": [
    "payoff_expr[14]"
   ]
  },
  {
   "cell_type": "markdown",
   "metadata": {},
   "source": [
    "### Numerical Checks"
   ]
  },
  {
   "cell_type": "code",
   "execution_count": 1,
   "metadata": {},
   "outputs": [],
   "source": [
    "def match_payoff(player, coplayer, b, c, memory):\n",
    "    if memory == \"two\":\n",
    "        M = trnsf_transition_m_memory_two(coplayer, analytical=False)\n",
    "    elif memory == \"three\":\n",
    "        M = trnsf_transition_m_memory_three(coplayer, analytical=False)\n",
    "\n",
    "    ss = repeated_play.stationary_distribution(M)[0]\n",
    "    \n",
    "    if memory == \"two\":\n",
    "        \n",
    "        rho_q = ss[0] + ss[1]\n",
    "        \n",
    "    elif memory == \"three\":\n",
    "        \n",
    "        rho_q = ss[0] + ss[1] + ss[4] + ss[5]\n",
    "        \n",
    "\n",
    "    rho_p = sum([ss[i] * p for i, p in enumerate(player)])\n",
    "\n",
    "\n",
    "    payoff_q = (rho_p * b - c * rho_q)\n",
    "    \n",
    "    return payoff_q"
   ]
  },
  {
   "cell_type": "markdown",
   "metadata": {},
   "source": [
    "### Memory-Two"
   ]
  },
  {
   "cell_type": "code",
   "execution_count": 211,
   "metadata": {},
   "outputs": [
    {
     "data": {
      "application/vnd.jupyter.widget-view+json": {
       "model_id": "419331568d7246a6b3bf7a63c2852d81",
       "version_major": 2,
       "version_minor": 0
      },
      "text/plain": [
       "  0%|          | 0/1000 [00:00<?, ?it/s]"
      ]
     },
     "metadata": {},
     "output_type": "display_data"
    }
   ],
   "source": [
    "max_iterations = 10 ** 5\n",
    "\n",
    "bval = 1; cval = 0.3\n",
    "\n",
    "dnash, gnash, notdnash, notgnash = [], [], [], []\n",
    "\n",
    "pure_strategies = list(itertools.product([0, 1], repeat=2))\n",
    "\n",
    "for i in tqdm(range(max_iterations)):\n",
    "    \n",
    "    np.random.seed(i)\n",
    "    \n",
    "    player = np.random.random(4)\n",
    "    player[-1] = 0\n",
    "    \n",
    "    checksA = []\n",
    "    \n",
    "    for coplayer in pure_strategies:\n",
    "        \n",
    "        M = repeated_pl\n",
    "        \n",
    "        payoff_q = match_payoff(player, coplayer, bval, cval, one)\n",
    "        \n",
    "        checkA = np.isclose(payoff_q, 0, atol=10 ** -4) or payoff_q < 0\n",
    "        \n",
    "        checksA.append(checkA)\n",
    "        \n",
    "        checkB = np.isclose(payoff_q, bval - cval, atol=10 ** -4) or payoff_q < bval - cval\n",
    "        \n",
    "        checksB.append(checkB)\n",
    "    \n",
    "    if all(checksA) == True:\n",
    "        dnash.append([i, *player, *checksA])\n",
    "    else:\n",
    "        notdnash.append([i, *player, *checksA])\n",
    "        \n",
    "        \n",
    "    if all(checksb) == True:\n",
    "        nash.append([i, *player, *checksb])\n",
    "    else:\n",
    "        notnash.append([i, *player, *checksb])"
   ]
  },
  {
   "cell_type": "code",
   "execution_count": 212,
   "metadata": {},
   "outputs": [],
   "source": [
    "columns = [\"I\", \"pcc\", \"pcd\", \"pdc\", \"pdd\"] + [f\"N{i}\" for i in range(16)]\n",
    "\n",
    "columns2 = [\"I\", \"pccc\", \"pccd\", \"pcdc\", \"pcdd\", \"pdcc\", \"pdcd\", \"pddc\", \"pddd\",] + [f\"N{i}\" for i in range(256)]"
   ]
  },
  {
   "cell_type": "code",
   "execution_count": 213,
   "metadata": {},
   "outputs": [],
   "source": [
    "strategies_col = [f\"N{i}\" for i in range(16)]"
   ]
  },
  {
   "cell_type": "code",
   "execution_count": 214,
   "metadata": {},
   "outputs": [],
   "source": [
    "df_nash = pd.DataFrame(nash, columns=columns)"
   ]
  },
  {
   "cell_type": "code",
   "execution_count": 217,
   "metadata": {},
   "outputs": [
    {
     "data": {
      "text/html": [
       "<div>\n",
       "<style scoped>\n",
       "    .dataframe tbody tr th:only-of-type {\n",
       "        vertical-align: middle;\n",
       "    }\n",
       "\n",
       "    .dataframe tbody tr th {\n",
       "        vertical-align: top;\n",
       "    }\n",
       "\n",
       "    .dataframe thead th {\n",
       "        text-align: right;\n",
       "    }\n",
       "</style>\n",
       "<table border=\"1\" class=\"dataframe\">\n",
       "  <thead>\n",
       "    <tr style=\"text-align: right;\">\n",
       "      <th></th>\n",
       "      <th>I</th>\n",
       "      <th>pcc</th>\n",
       "      <th>pcd</th>\n",
       "      <th>pdc</th>\n",
       "      <th>pdd</th>\n",
       "      <th>N0</th>\n",
       "      <th>N1</th>\n",
       "      <th>N2</th>\n",
       "      <th>N3</th>\n",
       "      <th>N4</th>\n",
       "      <th>...</th>\n",
       "      <th>N6</th>\n",
       "      <th>N7</th>\n",
       "      <th>N8</th>\n",
       "      <th>N9</th>\n",
       "      <th>N10</th>\n",
       "      <th>N11</th>\n",
       "      <th>N12</th>\n",
       "      <th>N13</th>\n",
       "      <th>N14</th>\n",
       "      <th>N15</th>\n",
       "    </tr>\n",
       "  </thead>\n",
       "  <tbody>\n",
       "    <tr>\n",
       "      <th>0</th>\n",
       "      <td>126</td>\n",
       "      <td>0.105172</td>\n",
       "      <td>0.128144</td>\n",
       "      <td>0.087406</td>\n",
       "      <td>0.0</td>\n",
       "      <td>True</td>\n",
       "      <td>True</td>\n",
       "      <td>True</td>\n",
       "      <td>True</td>\n",
       "      <td>True</td>\n",
       "      <td>...</td>\n",
       "      <td>True</td>\n",
       "      <td>True</td>\n",
       "      <td>True</td>\n",
       "      <td>True</td>\n",
       "      <td>True</td>\n",
       "      <td>True</td>\n",
       "      <td>True</td>\n",
       "      <td>True</td>\n",
       "      <td>True</td>\n",
       "      <td>True</td>\n",
       "    </tr>\n",
       "    <tr>\n",
       "      <th>1</th>\n",
       "      <td>266</td>\n",
       "      <td>0.079664</td>\n",
       "      <td>0.002455</td>\n",
       "      <td>0.244384</td>\n",
       "      <td>0.0</td>\n",
       "      <td>True</td>\n",
       "      <td>True</td>\n",
       "      <td>True</td>\n",
       "      <td>True</td>\n",
       "      <td>True</td>\n",
       "      <td>...</td>\n",
       "      <td>True</td>\n",
       "      <td>True</td>\n",
       "      <td>True</td>\n",
       "      <td>True</td>\n",
       "      <td>True</td>\n",
       "      <td>True</td>\n",
       "      <td>True</td>\n",
       "      <td>True</td>\n",
       "      <td>True</td>\n",
       "      <td>True</td>\n",
       "    </tr>\n",
       "    <tr>\n",
       "      <th>2</th>\n",
       "      <td>273</td>\n",
       "      <td>0.072729</td>\n",
       "      <td>0.064944</td>\n",
       "      <td>0.063570</td>\n",
       "      <td>0.0</td>\n",
       "      <td>True</td>\n",
       "      <td>True</td>\n",
       "      <td>True</td>\n",
       "      <td>True</td>\n",
       "      <td>True</td>\n",
       "      <td>...</td>\n",
       "      <td>True</td>\n",
       "      <td>True</td>\n",
       "      <td>True</td>\n",
       "      <td>True</td>\n",
       "      <td>True</td>\n",
       "      <td>True</td>\n",
       "      <td>True</td>\n",
       "      <td>True</td>\n",
       "      <td>True</td>\n",
       "      <td>True</td>\n",
       "    </tr>\n",
       "    <tr>\n",
       "      <th>3</th>\n",
       "      <td>334</td>\n",
       "      <td>0.238137</td>\n",
       "      <td>0.032485</td>\n",
       "      <td>0.124268</td>\n",
       "      <td>0.0</td>\n",
       "      <td>True</td>\n",
       "      <td>True</td>\n",
       "      <td>True</td>\n",
       "      <td>True</td>\n",
       "      <td>True</td>\n",
       "      <td>...</td>\n",
       "      <td>True</td>\n",
       "      <td>True</td>\n",
       "      <td>True</td>\n",
       "      <td>True</td>\n",
       "      <td>True</td>\n",
       "      <td>True</td>\n",
       "      <td>True</td>\n",
       "      <td>True</td>\n",
       "      <td>True</td>\n",
       "      <td>True</td>\n",
       "    </tr>\n",
       "    <tr>\n",
       "      <th>4</th>\n",
       "      <td>351</td>\n",
       "      <td>0.011266</td>\n",
       "      <td>0.283025</td>\n",
       "      <td>0.008941</td>\n",
       "      <td>0.0</td>\n",
       "      <td>True</td>\n",
       "      <td>True</td>\n",
       "      <td>True</td>\n",
       "      <td>True</td>\n",
       "      <td>True</td>\n",
       "      <td>...</td>\n",
       "      <td>True</td>\n",
       "      <td>True</td>\n",
       "      <td>True</td>\n",
       "      <td>True</td>\n",
       "      <td>True</td>\n",
       "      <td>True</td>\n",
       "      <td>True</td>\n",
       "      <td>True</td>\n",
       "      <td>True</td>\n",
       "      <td>True</td>\n",
       "    </tr>\n",
       "  </tbody>\n",
       "</table>\n",
       "<p>5 rows × 21 columns</p>\n",
       "</div>"
      ],
      "text/plain": [
       "     I       pcc       pcd       pdc  pdd    N0    N1    N2    N3    N4  ...  \\\n",
       "0  126  0.105172  0.128144  0.087406  0.0  True  True  True  True  True  ...   \n",
       "1  266  0.079664  0.002455  0.244384  0.0  True  True  True  True  True  ...   \n",
       "2  273  0.072729  0.064944  0.063570  0.0  True  True  True  True  True  ...   \n",
       "3  334  0.238137  0.032485  0.124268  0.0  True  True  True  True  True  ...   \n",
       "4  351  0.011266  0.283025  0.008941  0.0  True  True  True  True  True  ...   \n",
       "\n",
       "     N6    N7    N8    N9   N10   N11   N12   N13   N14   N15  \n",
       "0  True  True  True  True  True  True  True  True  True  True  \n",
       "1  True  True  True  True  True  True  True  True  True  True  \n",
       "2  True  True  True  True  True  True  True  True  True  True  \n",
       "3  True  True  True  True  True  True  True  True  True  True  \n",
       "4  True  True  True  True  True  True  True  True  True  True  \n",
       "\n",
       "[5 rows x 21 columns]"
      ]
     },
     "execution_count": 217,
     "metadata": {},
     "output_type": "execute_result"
    }
   ],
   "source": [
    "df_nash.head()"
   ]
  },
  {
   "cell_type": "code",
   "execution_count": 215,
   "metadata": {},
   "outputs": [],
   "source": [
    "df_nonash = pd.DataFrame(notnash, columns=columns)"
   ]
  },
  {
   "cell_type": "code",
   "execution_count": 218,
   "metadata": {},
   "outputs": [],
   "source": [
    "# df_nash[df_nash[\"pcc\"] > c / b]"
   ]
  },
  {
   "cell_type": "code",
   "execution_count": 285,
   "metadata": {},
   "outputs": [
    {
     "data": {
      "text/html": [
       "<div>\n",
       "<style scoped>\n",
       "    .dataframe tbody tr th:only-of-type {\n",
       "        vertical-align: middle;\n",
       "    }\n",
       "\n",
       "    .dataframe tbody tr th {\n",
       "        vertical-align: top;\n",
       "    }\n",
       "\n",
       "    .dataframe thead th {\n",
       "        text-align: right;\n",
       "    }\n",
       "</style>\n",
       "<table border=\"1\" class=\"dataframe\">\n",
       "  <thead>\n",
       "    <tr style=\"text-align: right;\">\n",
       "      <th></th>\n",
       "      <th>I</th>\n",
       "      <th>pcc</th>\n",
       "      <th>pcd</th>\n",
       "      <th>pdc</th>\n",
       "      <th>pdd</th>\n",
       "      <th>N0</th>\n",
       "      <th>N1</th>\n",
       "      <th>N2</th>\n",
       "      <th>N3</th>\n",
       "      <th>N4</th>\n",
       "      <th>...</th>\n",
       "      <th>N6</th>\n",
       "      <th>N7</th>\n",
       "      <th>N8</th>\n",
       "      <th>N9</th>\n",
       "      <th>N10</th>\n",
       "      <th>N11</th>\n",
       "      <th>N12</th>\n",
       "      <th>N13</th>\n",
       "      <th>N14</th>\n",
       "      <th>N15</th>\n",
       "    </tr>\n",
       "  </thead>\n",
       "  <tbody>\n",
       "    <tr>\n",
       "      <th>416</th>\n",
       "      <td>28697</td>\n",
       "      <td>0.153943</td>\n",
       "      <td>0.128801</td>\n",
       "      <td>0.171344</td>\n",
       "      <td>0.0</td>\n",
       "      <td>True</td>\n",
       "      <td>True</td>\n",
       "      <td>True</td>\n",
       "      <td>True</td>\n",
       "      <td>True</td>\n",
       "      <td>...</td>\n",
       "      <td>True</td>\n",
       "      <td>True</td>\n",
       "      <td>True</td>\n",
       "      <td>True</td>\n",
       "      <td>True</td>\n",
       "      <td>True</td>\n",
       "      <td>True</td>\n",
       "      <td>True</td>\n",
       "      <td>True</td>\n",
       "      <td>True</td>\n",
       "    </tr>\n",
       "    <tr>\n",
       "      <th>983</th>\n",
       "      <td>71596</td>\n",
       "      <td>0.195834</td>\n",
       "      <td>0.289732</td>\n",
       "      <td>0.010345</td>\n",
       "      <td>0.0</td>\n",
       "      <td>True</td>\n",
       "      <td>True</td>\n",
       "      <td>True</td>\n",
       "      <td>True</td>\n",
       "      <td>True</td>\n",
       "      <td>...</td>\n",
       "      <td>True</td>\n",
       "      <td>True</td>\n",
       "      <td>True</td>\n",
       "      <td>True</td>\n",
       "      <td>True</td>\n",
       "      <td>True</td>\n",
       "      <td>True</td>\n",
       "      <td>True</td>\n",
       "      <td>True</td>\n",
       "      <td>True</td>\n",
       "    </tr>\n",
       "    <tr>\n",
       "      <th>1249</th>\n",
       "      <td>92685</td>\n",
       "      <td>0.001390</td>\n",
       "      <td>0.037334</td>\n",
       "      <td>0.262762</td>\n",
       "      <td>0.0</td>\n",
       "      <td>True</td>\n",
       "      <td>True</td>\n",
       "      <td>True</td>\n",
       "      <td>True</td>\n",
       "      <td>True</td>\n",
       "      <td>...</td>\n",
       "      <td>True</td>\n",
       "      <td>True</td>\n",
       "      <td>True</td>\n",
       "      <td>True</td>\n",
       "      <td>True</td>\n",
       "      <td>True</td>\n",
       "      <td>True</td>\n",
       "      <td>True</td>\n",
       "      <td>True</td>\n",
       "      <td>True</td>\n",
       "    </tr>\n",
       "    <tr>\n",
       "      <th>1261</th>\n",
       "      <td>93558</td>\n",
       "      <td>0.151320</td>\n",
       "      <td>0.071896</td>\n",
       "      <td>0.228225</td>\n",
       "      <td>0.0</td>\n",
       "      <td>True</td>\n",
       "      <td>True</td>\n",
       "      <td>True</td>\n",
       "      <td>True</td>\n",
       "      <td>True</td>\n",
       "      <td>...</td>\n",
       "      <td>True</td>\n",
       "      <td>True</td>\n",
       "      <td>True</td>\n",
       "      <td>True</td>\n",
       "      <td>True</td>\n",
       "      <td>True</td>\n",
       "      <td>True</td>\n",
       "      <td>True</td>\n",
       "      <td>True</td>\n",
       "      <td>True</td>\n",
       "    </tr>\n",
       "    <tr>\n",
       "      <th>1285</th>\n",
       "      <td>95447</td>\n",
       "      <td>0.288175</td>\n",
       "      <td>0.131974</td>\n",
       "      <td>0.168140</td>\n",
       "      <td>0.0</td>\n",
       "      <td>True</td>\n",
       "      <td>True</td>\n",
       "      <td>True</td>\n",
       "      <td>True</td>\n",
       "      <td>True</td>\n",
       "      <td>...</td>\n",
       "      <td>True</td>\n",
       "      <td>True</td>\n",
       "      <td>True</td>\n",
       "      <td>True</td>\n",
       "      <td>True</td>\n",
       "      <td>True</td>\n",
       "      <td>True</td>\n",
       "      <td>True</td>\n",
       "      <td>True</td>\n",
       "      <td>True</td>\n",
       "    </tr>\n",
       "  </tbody>\n",
       "</table>\n",
       "<p>5 rows × 21 columns</p>\n",
       "</div>"
      ],
      "text/plain": [
       "          I       pcc       pcd       pdc  pdd    N0    N1    N2    N3    N4  \\\n",
       "416   28697  0.153943  0.128801  0.171344  0.0  True  True  True  True  True   \n",
       "983   71596  0.195834  0.289732  0.010345  0.0  True  True  True  True  True   \n",
       "1249  92685  0.001390  0.037334  0.262762  0.0  True  True  True  True  True   \n",
       "1261  93558  0.151320  0.071896  0.228225  0.0  True  True  True  True  True   \n",
       "1285  95447  0.288175  0.131974  0.168140  0.0  True  True  True  True  True   \n",
       "\n",
       "      ...    N6    N7    N8    N9   N10   N11   N12   N13   N14   N15  \n",
       "416   ...  True  True  True  True  True  True  True  True  True  True  \n",
       "983   ...  True  True  True  True  True  True  True  True  True  True  \n",
       "1249  ...  True  True  True  True  True  True  True  True  True  True  \n",
       "1261  ...  True  True  True  True  True  True  True  True  True  True  \n",
       "1285  ...  True  True  True  True  True  True  True  True  True  True  \n",
       "\n",
       "[5 rows x 21 columns]"
      ]
     },
     "execution_count": 285,
     "metadata": {},
     "output_type": "execute_result"
    }
   ],
   "source": [
    "df_nash[(df_nash[\"pcd\"] + df_nash[\"pdc\"] > c / b)][]"
   ]
  },
  {
   "cell_type": "code",
   "execution_count": 220,
   "metadata": {},
   "outputs": [
    {
     "data": {
      "text/plain": [
       "False"
      ]
     },
     "execution_count": 220,
     "metadata": {},
     "output_type": "execute_result"
    }
   ],
   "source": [
    "(df_nonash[\"pcc\"] < c / b).all()"
   ]
  },
  {
   "cell_type": "code",
   "execution_count": 221,
   "metadata": {},
   "outputs": [
    {
     "data": {
      "text/plain": [
       "False"
      ]
     },
     "execution_count": 221,
     "metadata": {},
     "output_type": "execute_result"
    }
   ],
   "source": [
    "(df_nonash[\"pcd\"] + df_nonash[\"pdc\"] < c / b).all()"
   ]
  },
  {
   "cell_type": "code",
   "execution_count": 286,
   "metadata": {},
   "outputs": [
    {
     "name": "stdout",
     "output_type": "stream",
     "text": [
      "N0 [ True]\n",
      "N1 [ True]\n",
      "N2 [ True]\n",
      "N3 [False  True]\n",
      "N4 [ True]\n",
      "N5 [ True]\n",
      "N6 [False  True]\n",
      "N7 [False  True]\n",
      "N8 [ True]\n",
      "N9 [ True]\n",
      "N10 [ True]\n",
      "N11 [False]\n",
      "N12 [ True]\n",
      "N13 [ True]\n",
      "N14 [False]\n",
      "N15 [False]\n"
     ]
    }
   ],
   "source": [
    "for column in strategies_col:\n",
    "    print(column, df_nonash[df_nonash['N4'] == True][column].unique())"
   ]
  },
  {
   "cell_type": "code",
   "execution_count": 257,
   "metadata": {},
   "outputs": [
    {
     "data": {
      "image/png": "[encoded data removed]",
      "text/latex": [
       "$\\displaystyle \\left( 4, \\  b \\left(\\frac{p_{CD}}{2} + \\frac{p_{DC}}{2}\\right) - \\frac{c}{2}\\right)$"
      ],
      "text/plain": [
       "⎛     ⎛p_{CD}   p_{DC}⎞   c⎞\n",
       "⎜4, b⋅⎜────── + ──────⎟ - ─⎟\n",
       "⎝     ⎝  2        2   ⎠   2⎠"
      ]
     },
     "execution_count": 257,
     "metadata": {},
     "output_type": "execute_result"
    }
   ],
   "source": [
    "payoffs[4]"
   ]
  },
  {
   "cell_type": "code",
   "execution_count": 266,
   "metadata": {},
   "outputs": [
    {
     "data": {
      "image/png": "[encoded data removed]",
      "text/latex": [
       "$\\displaystyle \\left( 11, \\  b p_{CC} - c\\right)$"
      ],
      "text/plain": [
       "(11, b⋅p_{CC} - c)"
      ]
     },
     "execution_count": 266,
     "metadata": {},
     "output_type": "execute_result"
    }
   ],
   "source": [
    "payoffs[16]"
   ]
  },
  {
   "cell_type": "markdown",
   "metadata": {},
   "source": [
    "### Memory-Three"
   ]
  },
  {
   "cell_type": "code",
   "execution_count": 232,
   "metadata": {},
   "outputs": [
    {
     "data": {
      "application/vnd.jupyter.widget-view+json": {
       "model_id": "b54396466b04403bae7dea05fcf0cb3c",
       "version_major": 2,
       "version_minor": 0
      },
      "text/plain": [
       "  0%|          | 0/100 [00:00<?, ?it/s]"
      ]
     },
     "metadata": {},
     "output_type": "display_data"
    }
   ],
   "source": [
    "max_iterations = 10 ** 2\n",
    "\n",
    "bval = 1; cval = 0.7\n",
    "\n",
    "nash, notnash = [], []\n",
    "\n",
    "pure_strategies = list(itertools.product([0, 1], repeat=8))\n",
    "\n",
    "for i in tqdm(range(max_iterations)):\n",
    "    \n",
    "    np.random.seed(10 ** 5 + i)\n",
    "    \n",
    "    player = np.random.random(8)\n",
    "    player[-1] = 0\n",
    "    \n",
    "    checks = []\n",
    "    \n",
    "    for coplayer in pure_strategies:\n",
    "        \n",
    "        payoff_q = match_payoff(player, coplayer, bval, cval, \"three\")\n",
    "        check = np.isclose(payoff_q, 0, atol=10 ** -4) or payoff_q < 0\n",
    "        \n",
    "        checks.append(check)\n",
    "    \n",
    "    if all(checks) == True:\n",
    "        nash.append([i, *player, *checks])\n",
    "    else:\n",
    "        notnash.append([i, *player, *checks])"
   ]
  },
  {
   "cell_type": "code",
   "execution_count": 233,
   "metadata": {},
   "outputs": [],
   "source": [
    "df_nash = pd.DataFrame(nash, columns=columns2)"
   ]
  },
  {
   "cell_type": "code",
   "execution_count": 234,
   "metadata": {},
   "outputs": [
    {
     "data": {
      "text/html": [
       "<div>\n",
       "<style scoped>\n",
       "    .dataframe tbody tr th:only-of-type {\n",
       "        vertical-align: middle;\n",
       "    }\n",
       "\n",
       "    .dataframe tbody tr th {\n",
       "        vertical-align: top;\n",
       "    }\n",
       "\n",
       "    .dataframe thead th {\n",
       "        text-align: right;\n",
       "    }\n",
       "</style>\n",
       "<table border=\"1\" class=\"dataframe\">\n",
       "  <thead>\n",
       "    <tr style=\"text-align: right;\">\n",
       "      <th></th>\n",
       "      <th>I</th>\n",
       "      <th>pccc</th>\n",
       "      <th>pccd</th>\n",
       "      <th>pcdc</th>\n",
       "      <th>pcdd</th>\n",
       "      <th>pdcc</th>\n",
       "      <th>pdcd</th>\n",
       "      <th>pddc</th>\n",
       "      <th>pddd</th>\n",
       "      <th>N0</th>\n",
       "      <th>...</th>\n",
       "      <th>N246</th>\n",
       "      <th>N247</th>\n",
       "      <th>N248</th>\n",
       "      <th>N249</th>\n",
       "      <th>N250</th>\n",
       "      <th>N251</th>\n",
       "      <th>N252</th>\n",
       "      <th>N253</th>\n",
       "      <th>N254</th>\n",
       "      <th>N255</th>\n",
       "    </tr>\n",
       "  </thead>\n",
       "  <tbody>\n",
       "  </tbody>\n",
       "</table>\n",
       "<p>0 rows × 265 columns</p>\n",
       "</div>"
      ],
      "text/plain": [
       "Empty DataFrame\n",
       "Columns: [I, pccc, pccd, pcdc, pcdd, pdcc, pdcd, pddc, pddd, N0, N1, N2, N3, N4, N5, N6, N7, N8, N9, N10, N11, N12, N13, N14, N15, N16, N17, N18, N19, N20, N21, N22, N23, N24, N25, N26, N27, N28, N29, N30, N31, N32, N33, N34, N35, N36, N37, N38, N39, N40, N41, N42, N43, N44, N45, N46, N47, N48, N49, N50, N51, N52, N53, N54, N55, N56, N57, N58, N59, N60, N61, N62, N63, N64, N65, N66, N67, N68, N69, N70, N71, N72, N73, N74, N75, N76, N77, N78, N79, N80, N81, N82, N83, N84, N85, N86, N87, N88, N89, N90, ...]\n",
       "Index: []\n",
       "\n",
       "[0 rows x 265 columns]"
      ]
     },
     "execution_count": 234,
     "metadata": {},
     "output_type": "execute_result"
    }
   ],
   "source": [
    "df_nash.head()"
   ]
  },
  {
   "cell_type": "code",
   "execution_count": 198,
   "metadata": {},
   "outputs": [],
   "source": [
    "df_nonash = pd.DataFrame(notnash, columns=columns2)"
   ]
  },
  {
   "cell_type": "code",
   "execution_count": 199,
   "metadata": {},
   "outputs": [
    {
     "data": {
      "text/html": [
       "<div>\n",
       "<style scoped>\n",
       "    .dataframe tbody tr th:only-of-type {\n",
       "        vertical-align: middle;\n",
       "    }\n",
       "\n",
       "    .dataframe tbody tr th {\n",
       "        vertical-align: top;\n",
       "    }\n",
       "\n",
       "    .dataframe thead th {\n",
       "        text-align: right;\n",
       "    }\n",
       "</style>\n",
       "<table border=\"1\" class=\"dataframe\">\n",
       "  <thead>\n",
       "    <tr style=\"text-align: right;\">\n",
       "      <th></th>\n",
       "      <th>I</th>\n",
       "      <th>pccc</th>\n",
       "      <th>pccd</th>\n",
       "      <th>pcdc</th>\n",
       "      <th>pcdd</th>\n",
       "      <th>pdcc</th>\n",
       "      <th>pdcd</th>\n",
       "      <th>pddc</th>\n",
       "      <th>pddd</th>\n",
       "      <th>N0</th>\n",
       "      <th>...</th>\n",
       "      <th>N246</th>\n",
       "      <th>N247</th>\n",
       "      <th>N248</th>\n",
       "      <th>N249</th>\n",
       "      <th>N250</th>\n",
       "      <th>N251</th>\n",
       "      <th>N252</th>\n",
       "      <th>N253</th>\n",
       "      <th>N254</th>\n",
       "      <th>N255</th>\n",
       "    </tr>\n",
       "  </thead>\n",
       "  <tbody>\n",
       "    <tr>\n",
       "      <th>0</th>\n",
       "      <td>0</td>\n",
       "      <td>0.287561</td>\n",
       "      <td>0.508248</td>\n",
       "      <td>0.498041</td>\n",
       "      <td>0.781669</td>\n",
       "      <td>0.122403</td>\n",
       "      <td>0.289857</td>\n",
       "      <td>0.027185</td>\n",
       "      <td>0.0</td>\n",
       "      <td>True</td>\n",
       "      <td>...</td>\n",
       "      <td>False</td>\n",
       "      <td>False</td>\n",
       "      <td>False</td>\n",
       "      <td>False</td>\n",
       "      <td>True</td>\n",
       "      <td>True</td>\n",
       "      <td>True</td>\n",
       "      <td>True</td>\n",
       "      <td>True</td>\n",
       "      <td>True</td>\n",
       "    </tr>\n",
       "    <tr>\n",
       "      <th>1</th>\n",
       "      <td>1</td>\n",
       "      <td>0.183038</td>\n",
       "      <td>0.153983</td>\n",
       "      <td>0.610958</td>\n",
       "      <td>0.981568</td>\n",
       "      <td>0.296935</td>\n",
       "      <td>0.792112</td>\n",
       "      <td>0.880133</td>\n",
       "      <td>0.0</td>\n",
       "      <td>True</td>\n",
       "      <td>...</td>\n",
       "      <td>False</td>\n",
       "      <td>False</td>\n",
       "      <td>False</td>\n",
       "      <td>False</td>\n",
       "      <td>True</td>\n",
       "      <td>True</td>\n",
       "      <td>True</td>\n",
       "      <td>True</td>\n",
       "      <td>True</td>\n",
       "      <td>True</td>\n",
       "    </tr>\n",
       "    <tr>\n",
       "      <th>2</th>\n",
       "      <td>2</td>\n",
       "      <td>0.952293</td>\n",
       "      <td>0.802828</td>\n",
       "      <td>0.559997</td>\n",
       "      <td>0.031477</td>\n",
       "      <td>0.109590</td>\n",
       "      <td>0.945776</td>\n",
       "      <td>0.722016</td>\n",
       "      <td>0.0</td>\n",
       "      <td>True</td>\n",
       "      <td>...</td>\n",
       "      <td>False</td>\n",
       "      <td>False</td>\n",
       "      <td>False</td>\n",
       "      <td>False</td>\n",
       "      <td>False</td>\n",
       "      <td>False</td>\n",
       "      <td>False</td>\n",
       "      <td>False</td>\n",
       "      <td>False</td>\n",
       "      <td>False</td>\n",
       "    </tr>\n",
       "    <tr>\n",
       "      <th>3</th>\n",
       "      <td>3</td>\n",
       "      <td>0.303284</td>\n",
       "      <td>0.785160</td>\n",
       "      <td>0.784346</td>\n",
       "      <td>0.134653</td>\n",
       "      <td>0.017943</td>\n",
       "      <td>0.906211</td>\n",
       "      <td>0.601528</td>\n",
       "      <td>0.0</td>\n",
       "      <td>True</td>\n",
       "      <td>...</td>\n",
       "      <td>False</td>\n",
       "      <td>False</td>\n",
       "      <td>False</td>\n",
       "      <td>False</td>\n",
       "      <td>False</td>\n",
       "      <td>False</td>\n",
       "      <td>False</td>\n",
       "      <td>False</td>\n",
       "      <td>False</td>\n",
       "      <td>False</td>\n",
       "    </tr>\n",
       "    <tr>\n",
       "      <th>4</th>\n",
       "      <td>4</td>\n",
       "      <td>0.312267</td>\n",
       "      <td>0.775573</td>\n",
       "      <td>0.332939</td>\n",
       "      <td>0.770565</td>\n",
       "      <td>0.759004</td>\n",
       "      <td>0.291284</td>\n",
       "      <td>0.470420</td>\n",
       "      <td>0.0</td>\n",
       "      <td>True</td>\n",
       "      <td>...</td>\n",
       "      <td>False</td>\n",
       "      <td>False</td>\n",
       "      <td>False</td>\n",
       "      <td>False</td>\n",
       "      <td>False</td>\n",
       "      <td>False</td>\n",
       "      <td>False</td>\n",
       "      <td>False</td>\n",
       "      <td>False</td>\n",
       "      <td>False</td>\n",
       "    </tr>\n",
       "  </tbody>\n",
       "</table>\n",
       "<p>5 rows × 265 columns</p>\n",
       "</div>"
      ],
      "text/plain": [
       "   I      pccc      pccd      pcdc      pcdd      pdcc      pdcd      pddc  \\\n",
       "0  0  0.287561  0.508248  0.498041  0.781669  0.122403  0.289857  0.027185   \n",
       "1  1  0.183038  0.153983  0.610958  0.981568  0.296935  0.792112  0.880133   \n",
       "2  2  0.952293  0.802828  0.559997  0.031477  0.109590  0.945776  0.722016   \n",
       "3  3  0.303284  0.785160  0.784346  0.134653  0.017943  0.906211  0.601528   \n",
       "4  4  0.312267  0.775573  0.332939  0.770565  0.759004  0.291284  0.470420   \n",
       "\n",
       "   pddd    N0  ...   N246   N247   N248   N249   N250   N251   N252   N253  \\\n",
       "0   0.0  True  ...  False  False  False  False   True   True   True   True   \n",
       "1   0.0  True  ...  False  False  False  False   True   True   True   True   \n",
       "2   0.0  True  ...  False  False  False  False  False  False  False  False   \n",
       "3   0.0  True  ...  False  False  False  False  False  False  False  False   \n",
       "4   0.0  True  ...  False  False  False  False  False  False  False  False   \n",
       "\n",
       "    N254   N255  \n",
       "0   True   True  \n",
       "1   True   True  \n",
       "2  False  False  \n",
       "3  False  False  \n",
       "4  False  False  \n",
       "\n",
       "[5 rows x 265 columns]"
      ]
     },
     "execution_count": 199,
     "metadata": {},
     "output_type": "execute_result"
    }
   ],
   "source": [
    "df_nonash.head()"
   ]
  },
  {
   "cell_type": "code",
   "execution_count": 207,
   "metadata": {},
   "outputs": [
    {
     "data": {
      "text/html": [
       "<div>\n",
       "<style scoped>\n",
       "    .dataframe tbody tr th:only-of-type {\n",
       "        vertical-align: middle;\n",
       "    }\n",
       "\n",
       "    .dataframe tbody tr th {\n",
       "        vertical-align: top;\n",
       "    }\n",
       "\n",
       "    .dataframe thead th {\n",
       "        text-align: right;\n",
       "    }\n",
       "</style>\n",
       "<table border=\"1\" class=\"dataframe\">\n",
       "  <thead>\n",
       "    <tr style=\"text-align: right;\">\n",
       "      <th></th>\n",
       "      <th>I</th>\n",
       "      <th>pccc</th>\n",
       "      <th>pccd</th>\n",
       "      <th>pcdc</th>\n",
       "      <th>pcdd</th>\n",
       "      <th>pdcc</th>\n",
       "      <th>pdcd</th>\n",
       "      <th>pddc</th>\n",
       "      <th>pddd</th>\n",
       "      <th>N0</th>\n",
       "      <th>...</th>\n",
       "      <th>N246</th>\n",
       "      <th>N247</th>\n",
       "      <th>N248</th>\n",
       "      <th>N249</th>\n",
       "      <th>N250</th>\n",
       "      <th>N251</th>\n",
       "      <th>N252</th>\n",
       "      <th>N253</th>\n",
       "      <th>N254</th>\n",
       "      <th>N255</th>\n",
       "    </tr>\n",
       "  </thead>\n",
       "  <tbody>\n",
       "  </tbody>\n",
       "</table>\n",
       "<p>0 rows × 265 columns</p>\n",
       "</div>"
      ],
      "text/plain": [
       "Empty DataFrame\n",
       "Columns: [I, pccc, pccd, pcdc, pcdd, pdcc, pdcd, pddc, pddd, N0, N1, N2, N3, N4, N5, N6, N7, N8, N9, N10, N11, N12, N13, N14, N15, N16, N17, N18, N19, N20, N21, N22, N23, N24, N25, N26, N27, N28, N29, N30, N31, N32, N33, N34, N35, N36, N37, N38, N39, N40, N41, N42, N43, N44, N45, N46, N47, N48, N49, N50, N51, N52, N53, N54, N55, N56, N57, N58, N59, N60, N61, N62, N63, N64, N65, N66, N67, N68, N69, N70, N71, N72, N73, N74, N75, N76, N77, N78, N79, N80, N81, N82, N83, N84, N85, N86, N87, N88, N89, N90, ...]\n",
       "Index: []\n",
       "\n",
       "[0 rows x 265 columns]"
      ]
     },
     "execution_count": 207,
     "metadata": {},
     "output_type": "execute_result"
    }
   ],
   "source": [
    "df_nonash[(df_nonash['pccc'] < cval / bval) & (np.isclose(df_nonash['pccc'], cval / bval, atol=10 ** -4))]"
   ]
  },
  {
   "cell_type": "code",
   "execution_count": 244,
   "metadata": {},
   "outputs": [
    {
     "data": {
      "image/png": "[encoded data removed]",
      "text/latex": [
       "$\\displaystyle 1 - \\frac{c}{b}$"
      ],
      "text/plain": [
       "    c\n",
       "1 - ─\n",
       "    b"
      ]
     },
     "execution_count": 244,
     "metadata": {},
     "output_type": "execute_result"
    }
   ],
   "source": [
    "1 - c / (3 * b) - (2 * c) / (3 * b)"
   ]
  },
  {
   "cell_type": "code",
   "execution_count": 245,
   "metadata": {},
   "outputs": [
    {
     "data": {
      "image/png": "[encoded data removed]",
      "text/latex": [
       "$\\displaystyle 1 - \\frac{c}{b}$"
      ],
      "text/plain": [
       "    c\n",
       "1 - ─\n",
       "    b"
      ]
     },
     "execution_count": 245,
     "metadata": {},
     "output_type": "execute_result"
    }
   ],
   "source": [
    "1 - 2 * c / (3 * b) - (c) / (3 * b)"
   ]
  },
  {
   "cell_type": "code",
   "execution_count": 246,
   "metadata": {},
   "outputs": [
    {
     "data": {
      "image/png": "[encoded data removed]",
      "text/latex": [
       "$\\displaystyle 1 - \\frac{c}{b}$"
      ],
      "text/plain": [
       "    c\n",
       "1 - ─\n",
       "    b"
      ]
     },
     "execution_count": 246,
     "metadata": {},
     "output_type": "execute_result"
    }
   ],
   "source": [
    "1 - c / (2 * b) - (c) / (2 * b)"
   ]
  },
  {
   "cell_type": "code",
   "execution_count": 247,
   "metadata": {},
   "outputs": [
    {
     "data": {
      "image/png": "[encoded data removed]",
      "text/latex": [
       "$\\displaystyle 1 - \\frac{3 c}{2 b}$"
      ],
      "text/plain": [
       "    3⋅c\n",
       "1 - ───\n",
       "    2⋅b"
      ]
     },
     "execution_count": 247,
     "metadata": {},
     "output_type": "execute_result"
    }
   ],
   "source": [
    "1 - c / (2 * b) - (c) / (b)"
   ]
  },
  {
   "cell_type": "code",
   "execution_count": 249,
   "metadata": {},
   "outputs": [
    {
     "data": {
      "image/png": "[encoded data removed]",
      "text/latex": [
       "$\\displaystyle \\left[ \\frac{2 b}{3}\\right]$"
      ],
      "text/plain": [
       "⎡2⋅b⎤\n",
       "⎢───⎥\n",
       "⎣ 3 ⎦"
      ]
     },
     "execution_count": 249,
     "metadata": {},
     "output_type": "execute_result"
    }
   ],
   "source": [
    "sym.solve((3 * c) / (2 * b) - 1, c)"
   ]
  },
  {
   "cell_type": "code",
   "execution_count": null,
   "metadata": {},
   "outputs": [],
   "source": []
  },
  {
   "cell_type": "code",
   "execution_count": null,
   "metadata": {},
   "outputs": [],
   "source": []
  }
 ],
 "metadata": {
  "kernelspec": {
   "display_name": "Python 3",
   "language": "python",
   "name": "python3"
  },
  "language_info": {
   "codemirror_mode": {
    "name": "ipython",
    "version": 3
   },
   "file_extension": ".py",
   "mimetype": "text/x-python",
   "name": "python",
   "nbconvert_exporter": "python",
   "pygments_lexer": "ipython3",
   "version": "3.11.3"
  }
 },
 "nbformat": 4,
 "nbformat_minor": 4
}
