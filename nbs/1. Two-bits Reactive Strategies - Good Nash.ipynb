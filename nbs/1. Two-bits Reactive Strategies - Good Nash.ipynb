{
 "cells": [
  {
   "cell_type": "code",
   "execution_count": 1,
   "metadata": {},
   "outputs": [],
   "source": [
    "from mpl_toolkits import mplot3d\n",
    "\n",
    "import numpy as np\n",
    "\n",
    "import matplotlib.pyplot as plt\n",
    "\n",
    "import matplotlib\n",
    "\n",
    "plt.rcParams[\"font.size\"] = 15\n",
    "plt.rcParams[\"font.weight\"] = \"bold\"\n",
    "plt.rcParams[\"axes.labelweight\"] = \"bold\"\n",
    "\n",
    "from mpl_toolkits.mplot3d.art3d import Poly3DCollection\n",
    "\n",
    "from matplotlib.lines import Line2D"
   ]
  },
  {
   "cell_type": "code",
   "execution_count": 2,
   "metadata": {},
   "outputs": [],
   "source": [
    "from mpl_toolkits.mplot3d.art3d import Poly3DCollection\n",
    "\n",
    "from matplotlib.lines import Line2D"
   ]
  },
  {
   "cell_type": "code",
   "execution_count": 3,
   "metadata": {},
   "outputs": [],
   "source": [
    "import pandas as pd\n",
    "\n",
    "from collections import Counter\n",
    "\n",
    "import itertools"
   ]
  },
  {
   "cell_type": "code",
   "execution_count": 4,
   "metadata": {},
   "outputs": [],
   "source": [
    "import sympy as sym"
   ]
  },
  {
   "cell_type": "code",
   "execution_count": 5,
   "metadata": {},
   "outputs": [],
   "source": [
    "import os"
   ]
  },
  {
   "cell_type": "code",
   "execution_count": 6,
   "metadata": {},
   "outputs": [],
   "source": [
    "os.chdir(\"/Users/glynatsi/rsc/reactive-two-bits/\")"
   ]
  },
  {
   "cell_type": "code",
   "execution_count": 86,
   "metadata": {},
   "outputs": [],
   "source": [
    "from importlib.machinery import SourceFileLoader\n",
    "\n",
    "main = SourceFileLoader(\"main\", \"src/main.py\").load_module()\n",
    "\n",
    "from main import *"
   ]
  },
  {
   "cell_type": "code",
   "execution_count": 87,
   "metadata": {},
   "outputs": [],
   "source": [
    "eq = SourceFileLoader(\"eq\", \"src/numerical_equilibria_n_bit_vs_n_bit.py\").load_module()\n",
    "\n",
    "from eq import *"
   ]
  },
  {
   "cell_type": "code",
   "execution_count": 88,
   "metadata": {},
   "outputs": [],
   "source": [
    "colors = [\"tab:orange\", \"tab:green\", \"tab:green\"]"
   ]
  },
  {
   "cell_type": "markdown",
   "metadata": {},
   "source": [
    "### Numerical Nash"
   ]
  },
  {
   "cell_type": "code",
   "execution_count": 192,
   "metadata": {},
   "outputs": [],
   "source": [
    "import glob"
   ]
  },
  {
   "cell_type": "code",
   "execution_count": 193,
   "metadata": {},
   "outputs": [],
   "source": [
    "files = glob.glob(\"data/two_bit_reactive/*csv\")"
   ]
  },
  {
   "cell_type": "code",
   "execution_count": 194,
   "metadata": {},
   "outputs": [
    {
     "data": {
      "text/plain": [
       "1000"
      ]
     },
     "execution_count": 194,
     "metadata": {},
     "output_type": "execute_result"
    }
   ],
   "source": [
    "len(files)"
   ]
  },
  {
   "cell_type": "code",
   "execution_count": 195,
   "metadata": {},
   "outputs": [],
   "source": [
    "columns = (\n",
    "    [\"\", \"ID\"]\n",
    "    + [f\"p{i+1}\" for i in range(16)]\n",
    "    + [f\"q{i+1}\" for i in range(16)]\n",
    "    + [\"label\", \"Sp\", \"Sq\", \"condition A\", \"condition B\", \"c\", \"b\"]\n",
    ")\n",
    "\n",
    "dfs = [pd.read_csv(file, index_col=0, names=columns) for file in files]\n",
    "\n",
    "df = pd.concat(dfs)"
   ]
  },
  {
   "cell_type": "code",
   "execution_count": 196,
   "metadata": {},
   "outputs": [],
   "source": [
    "def seperate_equilibria_and_non(df):\n",
    "    per_player = df.groupby('ID')['condition A'].all()\n",
    "\n",
    "    eq_players_ID = per_player[per_player == True].index\n",
    "\n",
    "    noneq_players_ID = per_player[per_player == False].index\n",
    "    \n",
    "    return df[df['ID'].isin(eq_players_ID)], df[df['ID'].isin(noneq_players_ID)]"
   ]
  },
  {
   "cell_type": "code",
   "execution_count": 197,
   "metadata": {},
   "outputs": [],
   "source": [
    "# df = pd.read_csv(\"../two_bit_reactive_nash.csv\", index_col=0)"
   ]
  },
  {
   "cell_type": "code",
   "execution_count": 198,
   "metadata": {},
   "outputs": [
    {
     "data": {
      "text/plain": [
       "1000"
      ]
     },
     "execution_count": 198,
     "metadata": {},
     "output_type": "execute_result"
    }
   ],
   "source": [
    "df['ID'].nunique()"
   ]
  },
  {
   "cell_type": "code",
   "execution_count": 199,
   "metadata": {},
   "outputs": [],
   "source": [
    "eq, noneq = seperate_equilibria_and_non(df)"
   ]
  },
  {
   "cell_type": "code",
   "execution_count": 200,
   "metadata": {},
   "outputs": [],
   "source": [
    "def conditition_one(p2, p4, b, c):\n",
    "    return p4 < 1 - (c / b)\n",
    "\n",
    "def conditition_two(p2, p4, b, c):\n",
    "    return p2 < p4\n",
    "\n",
    "def conditition_three(p3, b, c):\n",
    "    return p3 < 1\n",
    "\n",
    "def condition_four(p2, p4, b, c):\n",
    "    return  1 + p2 < (b / c) + (p4 * (c - b)) / c\n",
    "\n",
    "def nash_conditions(p, b, c):\n",
    "    p1, p2, p3, p4 = p\n",
    "    \n",
    "    c1 = conditition_one(p2, p4, b, c)\n",
    "    c2 = conditition_two(p2, p4, b, c)\n",
    "    c3 = conditition_three(p3, b, c)\n",
    "    c4 = condition_four(p2, p4, b, c)\n",
    "    \n",
    "    return {\"c1\": c1, \"c2\": c2, \"c3\": c3, \"c4\": c4}"
   ]
  },
  {
   "cell_type": "code",
   "execution_count": 213,
   "metadata": {},
   "outputs": [],
   "source": [
    "for i, row in noneq[['p1', 'p2', 'p5', 'p6']].drop_duplicates().iterrows():\n",
    "    p = row[['p1', 'p2', 'p5', 'p6']]\n",
    "    \n",
    "    check = nash_conditions(p, 2, 1)\n",
    "    \n",
    "    assert all(check.values()) == False"
   ]
  },
  {
   "cell_type": "code",
   "execution_count": 214,
   "metadata": {},
   "outputs": [],
   "source": [
    "\n",
    "outside = 0\n",
    "for i, row in eq[['p1', 'p2', 'p5', 'p6']].drop_duplicates().iterrows():\n",
    "    p = row[['p1', 'p2', 'p5', 'p6']]\n",
    "    \n",
    "    check = all(nash_conditions(p, 2, 1).values())\n",
    "    \n",
    "    if check == False:\n",
    "        outside += 1"
   ]
  },
  {
   "cell_type": "code",
   "execution_count": 217,
   "metadata": {},
   "outputs": [
    {
     "data": {
      "text/plain": [
       "0.751503006012024"
      ]
     },
     "execution_count": 217,
     "metadata": {},
     "output_type": "execute_result"
    }
   ],
   "source": [
    "outside / eq['ID'].nunique()"
   ]
  },
  {
   "cell_type": "markdown",
   "metadata": {},
   "source": [
    "#### The pure set of strategies we need to check "
   ]
  },
  {
   "cell_type": "code",
   "execution_count": 218,
   "metadata": {},
   "outputs": [],
   "source": [
    "groups = noneq[noneq['condition A'] == False].groupby('ID')"
   ]
  },
  {
   "cell_type": "code",
   "execution_count": 219,
   "metadata": {},
   "outputs": [],
   "source": [
    "sets, ids = [], []\n",
    "\n",
    "for i, group in groups:\n",
    "    sets.append(group['label'].values)\n",
    "    ids.append(group['ID'].unique())"
   ]
  },
  {
   "cell_type": "code",
   "execution_count": 220,
   "metadata": {},
   "outputs": [],
   "source": [
    "flat_list = [item for sublist in sets for item in sublist]\n",
    "\n",
    "counter = Counter(flat_list)"
   ]
  },
  {
   "cell_type": "code",
   "execution_count": 221,
   "metadata": {},
   "outputs": [
    {
     "data": {
      "text/plain": [
       "Counter({'N0': 485,\n",
       " 'N1': 418,\n",
       " 'N2': 257,\n",
       " 'N3': 242,\n",
       " 'N4': 277,\n",
       " 'N5': 247,\n",
       " 'N6': 271,\n",
       " 'N7': 288})"
      ]
     },
     "execution_count": 221,
     "metadata": {},
     "output_type": "execute_result"
    }
   ],
   "source": [
    "counter"
   ]
  },
  {
   "cell_type": "code",
   "execution_count": 222,
   "metadata": {},
   "outputs": [],
   "source": [
    "labels = [f\"N{i}\" for i in range(0, 16)]"
   ]
  },
  {
   "cell_type": "code",
   "execution_count": 223,
   "metadata": {},
   "outputs": [],
   "source": [
    "labels = [f\"N{i}\" for i in range(0, 16)]\n",
    "\n",
    "idx_sets = []\n",
    "\n",
    "for i, j, k in list(itertools.combinations(labels, r=3)):\n",
    "    index = [s for _, s in enumerate(sets) if (i not in list(s) and j not in list(s) and k not in list(s))]\n",
    "    \n",
    "    if len(index) == 0:\n",
    "        idx_sets.append((i, j, k))"
   ]
  },
  {
   "cell_type": "code",
   "execution_count": 224,
   "metadata": {},
   "outputs": [
    {
     "data": {
      "text/plain": [
       "[('N0', 'N1', 'N6'),\n",
       " ('N0', 'N2', 'N6'),\n",
       " ('N0', 'N3', 'N6'),\n",
       " ('N0', 'N4', 'N6'),\n",
       " ('N0', 'N5', 'N6'),\n",
       " ('N0', 'N6', 'N7'),\n",
       " ('N0', 'N6', 'N8'),\n",
       " ('N0', 'N6', 'N9'),\n",
       " ('N0', 'N6', 'N10'),\n",
       " ('N0', 'N6', 'N11'),\n",
       " ('N0', 'N6', 'N12'),\n",
       " ('N0', 'N6', 'N13'),\n",
       " ('N0', 'N6', 'N14'),\n",
       " ('N0', 'N6', 'N15')]"
      ]
     },
     "execution_count": 224,
     "metadata": {},
     "output_type": "execute_result"
    }
   ],
   "source": [
    "idx_sets"
   ]
  },
  {
   "cell_type": "markdown",
   "metadata": {},
   "source": [
    "Thus, N0 and N6 are enough to check for Nash."
   ]
  },
  {
   "cell_type": "code",
   "execution_count": 225,
   "metadata": {},
   "outputs": [],
   "source": [
    "N0 = [0, 0, 0, 0]\n",
    "N6 = [0, 1, 1, 0]"
   ]
  },
  {
   "cell_type": "code",
   "execution_count": 226,
   "metadata": {},
   "outputs": [],
   "source": [
    "def N0(p):\n",
    "    return 2 * p[3] - 1\n",
    "\n",
    "def N6(p):\n",
    "    _, p2, p3, p4 = p\n",
    "    return -(\n",
    "        -(p2 ** 3) * p3 ** 3 * p4\n",
    "        + 2 * p2 ** 3 * p3 ** 2 * p4\n",
    "        - 2 * p2 ** 3 * p3 * p4\n",
    "        + p2 ** 3 * p4\n",
    "        + 2 * p2 ** 2 * p3 ** 4 * p4 ** 2\n",
    "        - 2 * p2 ** 2 * p3 ** 4 * p4\n",
    "        - 5 * p2 ** 2 * p3 ** 3 * p4 ** 2\n",
    "        + 7 * p2 ** 2 * p3 ** 3 * p4\n",
    "        + 7 * p2 ** 2 * p3 ** 2 * p4 ** 2\n",
    "        - 12 * p2 ** 2 * p3 ** 2 * p4\n",
    "        + p2 ** 2 * p3 ** 2\n",
    "        - 7 * p2 ** 2 * p3 * p4 ** 2\n",
    "        + 11 * p2 ** 2 * p3 * p4\n",
    "        - 2 * p2 ** 2 * p3\n",
    "        + 3 * p2 ** 2 * p4 ** 2\n",
    "        - 4 * p2 ** 2 * p4\n",
    "        + p2 ** 2\n",
    "        - 4 * p2 * p3 ** 4 * p4 ** 3\n",
    "        + 4 * p2 * p3 ** 4 * p4 ** 2\n",
    "        + 13 * p2 * p3 ** 3 * p4 ** 3\n",
    "        - 15 * p2 * p3 ** 3 * p4 ** 2\n",
    "        + p2 * p3 ** 3 * p4\n",
    "        - 16 * p2 * p3 ** 2 * p4 ** 3\n",
    "        + 20 * p2 * p3 ** 2 * p4 ** 2\n",
    "        - 2 * p2 * p3 ** 2\n",
    "        + 12 * p2 * p3 * p4 ** 3\n",
    "        - 18 * p2 * p3 * p4 ** 2\n",
    "        + 3 * p2 * p3 * p4\n",
    "        + 3 * p2 * p3\n",
    "        - 3 * p2 * p4 ** 3\n",
    "        + 5 * p2 * p4 ** 2\n",
    "        - p2 * p4\n",
    "        - p2\n",
    "        + 2 * p3 ** 4 * p4 ** 4\n",
    "        - 2 * p3 ** 4 * p4 ** 3\n",
    "        - 7 * p3 ** 3 * p4 ** 4\n",
    "        + 8 * p3 ** 3 * p4 ** 3\n",
    "        - p3 ** 3 * p4 ** 2\n",
    "        + 9 * p3 ** 2 * p4 ** 4\n",
    "        - 13 * p3 ** 2 * p4 ** 3\n",
    "        + 4 * p3 ** 2 * p4 ** 2\n",
    "        - p3 ** 2 * p4\n",
    "        + p3 ** 2\n",
    "        - 7 * p3 * p4 ** 4\n",
    "        + 13 * p3 * p4 ** 3\n",
    "        - 6 * p3 * p4 ** 2\n",
    "        + p3 * p4\n",
    "        - p3\n",
    "        + 3 * p4 ** 4\n",
    "        - 9 * p4 ** 3\n",
    "        + 9 * p4 ** 2\n",
    "        - 3 * p4\n",
    "    ) / (\n",
    "        p2 ** 3 * p3 ** 3 * p4\n",
    "        - 2 * p2 ** 3 * p3 ** 2 * p4\n",
    "        + 2 * p2 ** 3 * p3 * p4\n",
    "        - p2 ** 3 * p4\n",
    "        + 2 * p2 ** 2 * p3 ** 4 * p4 ** 2\n",
    "        - 2 * p2 ** 2 * p3 ** 4 * p4\n",
    "        - 11 * p2 ** 2 * p3 ** 3 * p4 ** 2\n",
    "        + 9 * p2 ** 2 * p3 ** 3 * p4\n",
    "        + 19 * p2 ** 2 * p3 ** 2 * p4 ** 2\n",
    "        - 16 * p2 ** 2 * p3 ** 2 * p4\n",
    "        + p2 ** 2 * p3 ** 2\n",
    "        - 17 * p2 ** 2 * p3 * p4 ** 2\n",
    "        + 17 * p2 ** 2 * p3 * p4\n",
    "        - 2 * p2 ** 2 * p3\n",
    "        + 7 * p2 ** 2 * p4 ** 2\n",
    "        - 8 * p2 ** 2 * p4\n",
    "        + p2 ** 2\n",
    "        - 4 * p2 * p3 ** 4 * p4 ** 3\n",
    "        + 4 * p2 * p3 ** 4 * p4 ** 2\n",
    "        + 19 * p2 * p3 ** 3 * p4 ** 3\n",
    "        - 17 * p2 * p3 ** 3 * p4 ** 2\n",
    "        - p2 * p3 ** 3 * p4\n",
    "        - 28 * p2 * p3 ** 2 * p4 ** 3\n",
    "        + 24 * p2 * p3 ** 2 * p4 ** 2\n",
    "        + 4 * p2 * p3 ** 2 * p4\n",
    "        - 2 * p2 * p3 ** 2\n",
    "        + 20 * p2 * p3 * p4 ** 3\n",
    "        - 24 * p2 * p3 * p4 ** 2\n",
    "        + p2 * p3 * p4\n",
    "        + 3 * p2 * p3\n",
    "        - 5 * p2 * p4 ** 3\n",
    "        + 9 * p2 * p4 ** 2\n",
    "        - 3 * p2 * p4\n",
    "        - p2\n",
    "        + 2 * p3 ** 4 * p4 ** 4\n",
    "        - 2 * p3 ** 4 * p4 ** 3\n",
    "        - 9 * p3 ** 3 * p4 ** 4\n",
    "        + 8 * p3 ** 3 * p4 ** 3\n",
    "        + p3 ** 3 * p4 ** 2\n",
    "        + 13 * p3 ** 2 * p4 ** 4\n",
    "        - 13 * p3 ** 2 * p4 ** 3\n",
    "        - p3 ** 2 * p4\n",
    "        + p3 ** 2\n",
    "        - 9 * p3 * p4 ** 4\n",
    "        + 13 * p3 * p4 ** 3\n",
    "        - 3 * p3 * p4\n",
    "        - p3\n",
    "        + 3 * p4 ** 4\n",
    "        - 9 * p4 ** 3\n",
    "        + 9 * p4 ** 2\n",
    "        - 3 * p4\n",
    "    )\n",
    "\n",
    "\n",
    "def N931(p, b, c):\n",
    "    _, p_2, p_3, p_4 = p\n",
    "    \n",
    "    return (\n",
    "    2 * p_2 ** 2 * p_3 ** 2 * p_4\n",
    "    - 2 * p_2 ** 2 * p_3 * p_4\n",
    "    - 2 * p_2 * p_3 ** 2 * p_4 ** 2\n",
    "    - 2 * p_2 * p_3 ** 2 * p_4\n",
    "    + 3 * p_2 * p_3 * p_4 ** 2\n",
    "    + 2 * p_2 * p_3 * p_4\n",
    "    + p_2 * p_3\n",
    "    - 2 * p_2 * p_4 ** 2\n",
    "    + 2 * p_2 * p_4\n",
    "    - 2 * p_2\n",
    "    + 2 * p_3 ** 2 * p_4 ** 2\n",
    "    + p_3 * p_4 ** 3\n",
    "    - 8 * p_3 * p_4 ** 2\n",
    "    + 7 * p_3 * p_4\n",
    "    - 2 * p_3\n",
    "    - p_4 ** 3\n",
    "    + 4 * p_4 ** 2\n",
    "    - 3 * p_4\n",
    ") / (\n",
    "    p_2 ** 2 * p_3 ** 2\n",
    "    - p_2 ** 2 * p_3\n",
    "    - p_2 * p_3 ** 2 * p_4\n",
    "    - p_2 * p_3 ** 2\n",
    "    + p_2 * p_3 * p_4 ** 2\n",
    "    - p_2 * p_3 * p_4\n",
    "    + 3 * p_2 * p_3\n",
    "    - p_2\n",
    "    + p_3 ** 2 * p_4\n",
    "    - p_3 * p_4 ** 3\n",
    "    + 3 * p_3 * p_4 ** 2\n",
    "    - 5 * p_3 * p_4\n",
    "    + 2 * p_3\n",
    "    + p_4 ** 3\n",
    "    - 6 * p_4 ** 2\n",
    "    + 10 * p_4\n",
    "    - 5\n",
    ") - (2 - 1)\n",
    "\n"
   ]
  },
  {
   "cell_type": "code",
   "execution_count": 227,
   "metadata": {},
   "outputs": [],
   "source": [
    "x = np.arange(0, 1 - 10 ** -5, 0.01)\n",
    "y = np.arange(0, 1 - 10 ** -5, 0.01)\n",
    "z = np.arange(0, 1 - 10 ** -5, 0.01)\n",
    "\n",
    "xv, yv, zv = np.meshgrid(x, y, z)"
   ]
  },
  {
   "cell_type": "code",
   "execution_count": 228,
   "metadata": {},
   "outputs": [
    {
     "name": "stderr",
     "output_type": "stream",
     "text": [
      "<ipython-input-226-7bc8e8c5f1ff>:6: RuntimeWarning: invalid value encountered in true_divide\n",
      "  return -(\n"
     ]
    }
   ],
   "source": [
    "Is0, Js0, Zs0 = np.where(np.isclose(N0((1, xv, yv, zv)), 0, atol=10 ** - 3))\n",
    "Is6, Js6, Zs6 = np.where(np.isclose(N6((1, xv, yv, zv)), 0, atol=10 ** - 3))"
   ]
  },
  {
   "cell_type": "code",
   "execution_count": 229,
   "metadata": {},
   "outputs": [],
   "source": [
    "Is931, Js931, Zs931 = np.where(np.isclose(N931((1, xv, yv, zv), 2, 1), 0, atol=10 ** - 3))"
   ]
  },
  {
   "cell_type": "markdown",
   "metadata": {},
   "source": [
    "### Results on Good Nash - Two bit reactive"
   ]
  },
  {
   "cell_type": "code",
   "execution_count": 230,
   "metadata": {},
   "outputs": [],
   "source": [
    "custom_lines = [Line2D([0], [0], color='tab:blue', lw=4, alpha=.55),\n",
    "                Line2D([0], [0], marker='o', color='w', markerfacecolor='tab:blue', markersize=10, alpha=.55),\n",
    "                Line2D([0], [0], marker='o', color='w', markerfacecolor='tab:orange', markersize=10, alpha=.55),\n",
    "                Line2D([0], [0], marker='o', color='w', markerfacecolor='tab:green', markersize=10, alpha=.55)]"
   ]
  },
  {
   "cell_type": "code",
   "execution_count": 231,
   "metadata": {},
   "outputs": [],
   "source": [
    "color = '#FDF6E3'"
   ]
  },
  {
   "cell_type": "code",
   "execution_count": 232,
   "metadata": {},
   "outputs": [
    {
     "data": {
      "image/png": "[encoded data removed]",
      "text/plain": [
       "<Figure size 1440x1440 with 1 Axes>"
      ]
     },
     "metadata": {
      "needs_background": "light"
     },
     "output_type": "display_data"
    }
   ],
   "source": [
    "fig = plt.figure(figsize=(20, 20))\n",
    "\n",
    "ax1 = fig.add_subplot(131, projection='3d')\n",
    "axes = [ax1]\n",
    "\n",
    "    \n",
    "v = np.array([[0, 0, 0], [0, .9, 0], [0.51, 0.9, 0.5],  [0.51, 0, .5], [0, 0, .5], [0, 0.9, .5]])\n",
    "\n",
    "verts = [[v[0], v[1], v[2], v[3]],\n",
    "         [v[2], v[3], v[4], v[5]],\n",
    "         [v[0], v[4], v[3]]]\n",
    "            \n",
    "ax1.add_collection3d(Poly3DCollection(verts, facecolors='tab:blue',\n",
    "                                     linewidths=1,\n",
    "                                     linestyle='--',\n",
    "                                     edgecolors='tab:blue', alpha=.25))\n",
    "for ax in axes:\n",
    "\n",
    "#     ax.view_init(10, -70)\n",
    "    ax.view_init(10, -60)\n",
    "    ax.set_xticks([0, .5, 1])\n",
    "    ax.set_yticks([0, .5, 1])\n",
    "    ax.set_zticks([0, .5, 1])\n",
    "\n",
    "    ax.set_xticklabels([0, \"\", 1])\n",
    "    ax.set_yticklabels([0, \"\", 1])\n",
    "    ax.set_zticklabels([0, \"\", 1])\n",
    "\n",
    "\n",
    "    ax.annotate(\"$p_2$\", (-0.05, -0.08), fontsize=15,)\n",
    "    ax.annotate(\"$p_3$\", (.065, -0.06), fontsize=15,)\n",
    "    ax.annotate(\"$p_4$\", (.09, 0.003), fontsize=15)\n",
    "    \n",
    "    \n",
    "    ax.xaxis.pane.fill = False\n",
    "    ax.yaxis.pane.fill = False\n",
    "    ax.zaxis.pane.fill = False\n",
    "\n",
    "\n",
    "l = ax1.legend(custom_lines[:1], \n",
    "           ['Provably Nash'], loc=(.2, -.1),  framealpha=0, fontsize=12);\n",
    "\n",
    "# for text in l.get_texts():\n",
    "#     text.set_color(color)\n",
    "\n",
    "# plt.savefig(\"/Users/glynatsi/src/talks/talks/2022-07-26-ISDGA/static/one.png\", \n",
    "#             transparent=True,  bbox_inches='tight',  dpi=300)"
   ]
  },
  {
   "cell_type": "code",
   "execution_count": 233,
   "metadata": {},
   "outputs": [
    {
     "data": {
      "image/png": "[encoded data removed]",
      "text/plain": [
       "<Figure size 1440x1440 with 1 Axes>"
      ]
     },
     "metadata": {
      "needs_background": "dark"
     },
     "output_type": "display_data"
    }
   ],
   "source": [
    "fig = plt.figure(figsize=(20, 20))\n",
    "\n",
    "ax1 = fig.add_subplot(131, projection='3d')\n",
    "axes = [ax1]\n",
    "\n",
    "ax1.scatter(0.6, 0.5, 0.1, color='tab:blue', s=50)\n",
    "\n",
    "\n",
    "for ax in axes:\n",
    "\n",
    "#     ax.view_init(10, -70)\n",
    "    ax.view_init(10, -60)\n",
    "    ax.set_xticks([0, .5, 1])\n",
    "    ax.set_yticks([0, .5, 1])\n",
    "    ax.set_zticks([0, .5, 1])\n",
    "\n",
    "    ax.set_xticklabels([0, \"\", 1])\n",
    "    ax.set_yticklabels([0, \"\", 1])\n",
    "    ax.set_zticklabels([0, \"\", 1])\n",
    "\n",
    "\n",
    "    ax.annotate(\"$p_2$\", (-0.05, -0.08), fontsize=15,)\n",
    "    ax.annotate(\"$p_3$\", (.065, -0.06), fontsize=15,)\n",
    "    ax.annotate(\"$p_4$\", (.09, 0.003), fontsize=15)\n",
    "    \n",
    "    \n",
    "    ax.xaxis.pane.fill = False\n",
    "    ax.yaxis.pane.fill = False\n",
    "    ax.zaxis.pane.fill = False\n",
    "\n",
    "\n",
    "\n",
    "ax1.tick_params(axis='x', colors=color)\n",
    "ax1.tick_params(axis='y', colors=color)\n",
    "ax1.tick_params(axis='z', colors=color)\n",
    "\n",
    "l = ax1.legend(custom_lines[1:2], \n",
    "           ['Numerical Nash'], loc=(.2, -.1),  framealpha=0, fontsize=12);\n",
    "    \n",
    "\n",
    "# plt.savefig(\"/Users/glynatsi/src/talks/talks/2022-07-26-ISDGA/static/two.png\", \n",
    "#             transparent=True,  bbox_inches='tight',  dpi=300)"
   ]
  },
  {
   "cell_type": "code",
   "execution_count": 236,
   "metadata": {},
   "outputs": [
    {
     "data": {
      "image/png": "[encoded data removed]",
      "text/plain": [
       "<Figure size 1440x1440 with 2 Axes>"
      ]
     },
     "metadata": {
      "needs_background": "light"
     },
     "output_type": "display_data"
    }
   ],
   "source": [
    "fig = plt.figure(figsize=(20, 20))\n",
    "\n",
    "ax1 = fig.add_subplot(131, projection='3d')\n",
    "ax2 = fig.add_subplot(132, projection='3d')\n",
    "# ax3 = fig.add_subplot(133, projection='3d')\n",
    "\n",
    "axes = [ax1, ax2]\n",
    "\n",
    "v = np.array([[0, 0, 0], [0, .9, 0], [0.51, 0.9, 0.5],  [0.51, 0, .5], [0, 0, .5], [0, 0.9, .5]])\n",
    "\n",
    "verts = [[v[0], v[1], v[2], v[3]],\n",
    "         [v[2], v[3], v[4], v[5]],\n",
    "         [v[0], v[4], v[3]]]\n",
    "            \n",
    "ax1.add_collection3d(Poly3DCollection(verts, facecolors='tab:blue',\n",
    "                                     linewidths=1,\n",
    "                                     linestyle='--',\n",
    "                                     edgecolors='tab:blue', alpha=.25))\n",
    "\n",
    "for i, row in eq[['p2', 'p5', 'p6']].round(2).drop_duplicates()[:1000].iterrows():\n",
    "\n",
    "        ax2.scatter(row['p2'], row['p5'], row['p6'], color='tab:blue', alpha=0.5)\n",
    "\n",
    "ax2.set_zlim(0, 1);\n",
    "\n",
    "    \n",
    "# for k, indices in enumerate([[Is0, Js0, Zs0], \n",
    "#                              [Is6, Js6, Zs6]]):\n",
    "    \n",
    "#         Is, Js, Zs = indices\n",
    "        \n",
    "#         for i, j, z in zip(Is, Js, Zs):\n",
    "            \n",
    "#             ax3.scatter(xv[i, j, z],\n",
    "#                             yv[i, j, z],\n",
    "#                             zv[i, j, z],\n",
    "#                             s=1,\n",
    "#                             color=colors[k])\n",
    "            \n",
    "#         ax3.scatter(xv[i, j, z],\n",
    "#                 yv[i, j, z],\n",
    "#                 zv[i, j, z],\n",
    "#                 s=1,\n",
    "# #                 label=labels[k],\n",
    "#                 color=colors[k])\n",
    "        \n",
    "for ax in axes:\n",
    "\n",
    "#     ax.view_init(10, -70)\n",
    "    ax.view_init(10, -60)\n",
    "    ax.set_xticks([0, .5, 1])\n",
    "    ax.set_yticks([0, .5, 1])\n",
    "    ax.set_zticks([0, .5, 1])\n",
    "\n",
    "    ax.set_xticklabels([0, \"\", 1])\n",
    "    ax.set_yticklabels([0, \"\", 1])\n",
    "    ax.set_zticklabels([0, \"\", 1])\n",
    "\n",
    "\n",
    "    ax.annotate(\"$p_2$\", (-0.05, -0.08), fontsize=15)\n",
    "    ax.annotate(\"$p_3$\", (.065, -0.06), fontsize=15)\n",
    "    ax.annotate(\"$p_4$\", (.09, 0.003), fontsize=15)\n",
    "    \n",
    "    \n",
    "    ax.xaxis.pane.fill = False\n",
    "    ax.yaxis.pane.fill = False\n",
    "    ax.zaxis.pane.fill = False\n",
    "\n",
    "    \n",
    "ax2.legend(custom_lines[:2], ['Provably Nash',\n",
    "                          'Numerical Nash',\n",
    "                          'AllD', 'N6'], loc=(-.5, -.1), ncol=4, framealpha=0, fontsize=12);\n",
    "\n",
    "plt.savefig(\"/Users/glynatsi/src/talks/talks/2022-07-26-ISDGA/static/three.png\", \n",
    "            transparent=True,  bbox_inches='tight', dpi=300)"
   ]
  },
  {
   "cell_type": "code",
   "execution_count": 237,
   "metadata": {},
   "outputs": [
    {
     "data": {
      "image/png": "[encoded data removed]",
      "text/plain": [
       "<Figure size 1440x1440 with 3 Axes>"
      ]
     },
     "metadata": {
      "needs_background": "light"
     },
     "output_type": "display_data"
    }
   ],
   "source": [
    "fig = plt.figure(figsize=(20, 20))\n",
    "\n",
    "ax1 = fig.add_subplot(131, projection='3d')\n",
    "ax2 = fig.add_subplot(132, projection='3d')\n",
    "ax3 = fig.add_subplot(133, projection='3d')\n",
    "\n",
    "axes = [ax1, ax2, ax3]\n",
    "    \n",
    "v = np.array([[0, 0, 0], [0, .9, 0], [0.51, 0.9, 0.5],  [0.51, 0, .5], [0, 0, .5], [0, 0.9, .5]])\n",
    "\n",
    "verts = [[v[0], v[1], v[2], v[3]],\n",
    "         [v[2], v[3], v[4], v[5]],\n",
    "         [v[0], v[4], v[3]]]\n",
    "            \n",
    "ax1.add_collection3d(Poly3DCollection(verts, facecolors='tab:blue',\n",
    "                                     linewidths=1,\n",
    "                                     linestyle='--',\n",
    "                                     edgecolors='tab:blue', alpha=.25))\n",
    "for i, row in eq[['p2', 'p5', 'p6']].round(2).drop_duplicates()[:1000].iterrows():\n",
    "\n",
    "        ax2.scatter(row['p2'], row['p5'], row['p6'], color='tab:blue', alpha=0.5)\n",
    "        ax3.scatter(row['p2'], row['p5'], row['p6'], color='tab:blue', alpha=0.5)\n",
    "\n",
    "ax2.set_zlim(0, 1);\n",
    "\n",
    "    \n",
    "for k, indices in enumerate([[Is0, Js0, Zs0], \n",
    "                             [Is6, Js6, Zs6]]):\n",
    "    \n",
    "        Is, Js, Zs = indices\n",
    "        \n",
    "        for i, j, z in zip(Is, Js, Zs):\n",
    "            \n",
    "            ax3.scatter(xv[i, j, z],\n",
    "                            yv[i, j, z],\n",
    "                            zv[i, j, z],\n",
    "                            s=1,\n",
    "                            color=colors[k])\n",
    "            \n",
    "        ax3.scatter(xv[i, j, z],\n",
    "                yv[i, j, z],\n",
    "                zv[i, j, z],\n",
    "                s=1,\n",
    "#                 label=labels[k],\n",
    "                color=colors[k])\n",
    "        \n",
    "for ax in axes:\n",
    "\n",
    "#     ax.view_init(10, -70)\n",
    "    ax.view_init(10, -60)\n",
    "    ax.set_xticks([0, .5, 1])\n",
    "    ax.set_yticks([0, .5, 1])\n",
    "    ax.set_zticks([0, .5, 1])\n",
    "\n",
    "    ax.set_xticklabels([0, \"\", 1])\n",
    "    ax.set_yticklabels([0, \"\", 1])\n",
    "    ax.set_zticklabels([0, \"\", 1])\n",
    "\n",
    "\n",
    "    ax.annotate(\"$p_2$\", (-0.05, -0.08), fontsize=15)\n",
    "    ax.annotate(\"$p_3$\", (.065, -0.06), fontsize=15)\n",
    "    ax.annotate(\"$p_4$\", (.09, 0.003), fontsize=15)\n",
    "    \n",
    "    \n",
    "    ax.xaxis.pane.fill = False\n",
    "    ax.yaxis.pane.fill = False\n",
    "    ax.zaxis.pane.fill = False\n",
    "\n",
    "# ax1.set_title(\"A)\", fontweight='bold', x=.1, y=.9, fontsize=15)\n",
    "# ax2.set_title(\"B)\", fontweight='bold', x=.1, y=.9, fontsize=15)\n",
    "# ax3.set_title(\"C)\", fontweight='bold', x=.1, y=.9, fontsize=15)\n",
    "    \n",
    "ax3.legend(custom_lines, ['Provably Nash',\n",
    "                          'Numerical Nash',\n",
    "                          'AllD', 'N6'], bbox_to_anchor=(0, 0), ncol=4, framealpha=0, fontsize=12);\n",
    "\n",
    "\n",
    "# plt.savefig(\"../static/results_two_bit.pdf\", bbox_inches='tight')\n",
    "\n",
    "plt.savefig(\"/Users/glynatsi/src/talks/talks/2022-07-26-ISDGA/static/four.png\", \n",
    "            transparent=True,  bbox_inches='tight', dpi=300)"
   ]
  },
  {
   "cell_type": "code",
   "execution_count": 238,
   "metadata": {},
   "outputs": [],
   "source": [
    "files = glob.glob(\"data/two_bit_against_memory_two/*.csv\")"
   ]
  },
  {
   "cell_type": "code",
   "execution_count": 239,
   "metadata": {},
   "outputs": [],
   "source": [
    "columns2 = (\n",
    "    [\"\", \"ID\"]\n",
    "    + [f\"p{i+1}\" for i in range(16)]\n",
    "    + [\"label\", \"Sp\", \"Sq\", \"condition A\", \"condition B\", \"c\", \"b\"]\n",
    ")"
   ]
  },
  {
   "cell_type": "code",
   "execution_count": 240,
   "metadata": {},
   "outputs": [],
   "source": [
    "dfs = [pd.read_csv(file, index_col=0, names=columns2) for file in files]"
   ]
  },
  {
   "cell_type": "code",
   "execution_count": 241,
   "metadata": {},
   "outputs": [],
   "source": [
    "df2 = pd.concat(dfs)"
   ]
  },
  {
   "cell_type": "code",
   "execution_count": 242,
   "metadata": {},
   "outputs": [
    {
     "data": {
      "text/plain": [
       "1000"
      ]
     },
     "execution_count": 242,
     "metadata": {},
     "output_type": "execute_result"
    }
   ],
   "source": [
    "df2['ID'].nunique()"
   ]
  },
  {
   "cell_type": "code",
   "execution_count": 243,
   "metadata": {},
   "outputs": [],
   "source": [
    "eq_memone, noneq_memone = seperate_equilibria_and_non(df2)"
   ]
  },
  {
   "cell_type": "code",
   "execution_count": 248,
   "metadata": {},
   "outputs": [
    {
     "data": {
      "image/png": "[encoded data removed]",
      "text/plain": [
       "<Figure size 1440x1440 with 2 Axes>"
      ]
     },
     "metadata": {
      "needs_background": "light"
     },
     "output_type": "display_data"
    }
   ],
   "source": [
    "fig = plt.figure(figsize=(20, 20))\n",
    "\n",
    "ax1 = fig.add_subplot(131, projection='3d')\n",
    "ax2 = fig.add_subplot(132, projection='3d')\n",
    "# ax3 = fig.add_subplot(133, projection='3d')\n",
    "\n",
    "axes = [ax1, ax2]\n",
    "\n",
    "for i, row in eq_memone[['p2', 'p5', 'p6']].round(2).drop_duplicates().iterrows():\n",
    "\n",
    "        ax1.scatter(row['p2'], row['p5'], row['p6'], color='tab:blue', alpha=0.5)\n",
    "\n",
    "ax1.set_zlim(0, 1);\n",
    "        \n",
    "    \n",
    "for i, row in eq[['p2', 'p5', 'p6']].round(2).drop_duplicates().iterrows():\n",
    "\n",
    "        ax2.scatter(row['p2'], row['p5'], row['p6'], color='tab:blue', alpha=0.5)\n",
    "\n",
    "ax2.set_zlim(0, 1);\n",
    "        \n",
    "for ax in axes:\n",
    "\n",
    "#     ax.view_init(10, -70)\n",
    "    ax.view_init(10, -60)\n",
    "    ax.set_xticks([0, .5, 1])\n",
    "    ax.set_yticks([0, .5, 1])\n",
    "    ax.set_zticks([0, .5, 1])\n",
    "\n",
    "    ax.set_xticklabels([0, \"\", 1])\n",
    "    ax.set_yticklabels([0, \"\", 1])\n",
    "    ax.set_zticklabels([0, \"\", 1])\n",
    "\n",
    "\n",
    "    ax.annotate(\"$p_2$\", (-0.05, -0.08), fontsize=15)\n",
    "    ax.annotate(\"$p_3$\", (.065, -0.06), fontsize=15)\n",
    "    ax.annotate(\"$p_4$\", (.09, 0.003), fontsize=15)\n",
    "    \n",
    "    \n",
    "    ax.xaxis.pane.fill = False\n",
    "    ax.yaxis.pane.fill = False\n",
    "    ax.zaxis.pane.fill = False\n",
    "\n",
    "ax1.set_title(\"with memory-two strategies\", fontweight='bold', x=.1, y=.9, fontsize=10)\n",
    "\n",
    "ax2.set_title(\"with two-bit reactive strategies\", fontweight='bold', x=.1, y=.9, fontsize=10)\n",
    "\n",
    "\n",
    "plt.savefig(\"/Users/glynatsi/src/talks/talks/2022-07-26-ISDGA/static/five.png\", \n",
    "            transparent=True,  bbox_inches='tight', dpi=300)"
   ]
  },
  {
   "cell_type": "code",
   "execution_count": 258,
   "metadata": {},
   "outputs": [
    {
     "data": {
      "image/png": "[encoded data removed]",
      "text/plain": [
       "<Figure size 1440x1440 with 2 Axes>"
      ]
     },
     "metadata": {
      "needs_background": "light"
     },
     "output_type": "display_data"
    }
   ],
   "source": [
    "custom_lines = [Line2D([0], [0], color='tab:purple', lw=4, alpha=.55)]\n",
    "\n",
    "fig = plt.figure(figsize=(20, 20))\n",
    "\n",
    "ax1 = fig.add_subplot(131, projection='3d')\n",
    "ax2 = fig.add_subplot(132, projection='3d')\n",
    "# ax3 = fig.add_subplot(133, projection='3d')\n",
    "\n",
    "axes = [ax1, ax2]\n",
    "\n",
    "for i, row in eq_memone[['p2', 'p5', 'p6']].round(2).drop_duplicates().iterrows():\n",
    "\n",
    "        ax1.scatter(row['p2'], row['p5'], row['p6'], color='tab:blue', alpha=0.5)\n",
    "\n",
    "ax1.set_zlim(0, 1);\n",
    "        \n",
    "    \n",
    "for i, row in eq[['p2', 'p5', 'p6']].round(2).drop_duplicates().iterrows():\n",
    "\n",
    "        ax2.scatter(row['p2'], row['p5'], row['p6'], color='tab:blue', alpha=0.5)\n",
    "\n",
    "ax2.set_zlim(0, 1);\n",
    "        \n",
    "for ax in axes:\n",
    "\n",
    "#     ax.view_init(10, -70)\n",
    "    ax.view_init(10, -60)\n",
    "    ax.set_xticks([0, .5, 1])\n",
    "    ax.set_yticks([0, .5, 1])\n",
    "    ax.set_zticks([0, .5, 1])\n",
    "\n",
    "    ax.set_xticklabels([0, \"\", 1])\n",
    "    ax.set_yticklabels([0, \"\", 1])\n",
    "    ax.set_zticklabels([0, \"\", 1])\n",
    "\n",
    "\n",
    "    ax.annotate(\"$p_2$\", (-0.05, -0.08), fontsize=15)\n",
    "    ax.annotate(\"$p_3$\", (.065, -0.06), fontsize=15)\n",
    "    ax.annotate(\"$p_4$\", (.09, 0.003), fontsize=15)\n",
    "    \n",
    "    \n",
    "    ax.xaxis.pane.fill = False\n",
    "    ax.yaxis.pane.fill = False\n",
    "    ax.zaxis.pane.fill = False\n",
    "\n",
    "ax1.set_title(\"with memory-two strategies\", fontweight='bold', x=.1, y=.9, fontsize=10)\n",
    "\n",
    "ax2.set_title(\"with two-bit reactive strategies\", fontweight='bold', x=.1, y=.9, fontsize=10)\n",
    "\n",
    "\n",
    "for point in data:\n",
    "     ax1.scatter(point[0],\n",
    "                 point[1],\n",
    "                 point[2],\n",
    "                 s=1,\n",
    "                 color='tab:purple')\n",
    "        \n",
    "    \n",
    "ax2.legend(custom_lines, ['N65331'], bbox_to_anchor=(0, 0), ncol=4, framealpha=0, fontsize=12);\n",
    "\n",
    "\n",
    "plt.savefig(\"/Users/glynatsi/src/talks/talks/2022-07-26-ISDGA/static/six.png\", \n",
    "            transparent=True,  bbox_inches='tight', dpi=300)"
   ]
  },
  {
   "cell_type": "code",
   "execution_count": 267,
   "metadata": {},
   "outputs": [],
   "source": [
    "def nash_conditions_mem_two(p, b, c):\n",
    "    c1  = p[1] < p[5]\n",
    "    c2  = p[9] < p[5]\n",
    "    c3  = p[13] < p[5]\n",
    "    c4  = p[4] < 1\n",
    "    c5  = p[8] < 1\n",
    "    c6  = p[12] < 1\n",
    "    c7  = (c / b) * p[2] < 1 - p[5]\n",
    "    c8  = (c / b) * p[10] < 1 - p[5]\n",
    "    c9  = (c / b) * p[14] < 1 - p[5]\n",
    "    c12 = (c / b) * p[6] < 1 - p[5]\n",
    "    c10 = 1 + (c / (b - c)) * p[11] > p[5]\n",
    "    c11 = 1 + (c / (b - c)) * p[15] > p[5]\n",
    "    c13 = (c / (b - c)) * p[7] < 1 - p[5]\n",
    "    c14 = 1 + (c / (b - c)) * p[3] > p[5]\n",
    "    \n",
    "    return  {\n",
    "\"c1\" : c1 ,\n",
    "\"c2\" : c2 ,\n",
    "\"c3\" : c3 ,\n",
    "\"c4\" : c4 ,\n",
    "\"c5\" : c5 ,\n",
    "\"c6\" : c6 ,\n",
    "\"c7\" : c7 ,\n",
    "\"c8\" : c8 ,\n",
    "\"c9\" : c9 ,\n",
    "\"c12\" : c12,\n",
    "\"c10\" : c10,\n",
    "\"c11\" : c11,\n",
    "\"c13\" : c13,\n",
    "\"c14\" : c14,\n",
    "}\n",
    "    "
   ]
  },
  {
   "cell_type": "code",
   "execution_count": 313,
   "metadata": {},
   "outputs": [],
   "source": [
    "files = glob.glob(\"ada/memory_two_against_memory_two/*.csv\")"
   ]
  },
  {
   "cell_type": "code",
   "execution_count": 314,
   "metadata": {},
   "outputs": [],
   "source": [
    "columns3 = (\n",
    "    [\"\", \"ID\"]\n",
    "    + [f\"p{i+1}\" for i in range(16)]\n",
    "    + [\"label\", \"Sp\", \"Sq\", \"condition A\", \"condition B\", \"c\", \"b\"]\n",
    ")"
   ]
  },
  {
   "cell_type": "code",
   "execution_count": 315,
   "metadata": {},
   "outputs": [],
   "source": [
    "dfs = [pd.read_csv(file, index_col=0, names=columns3) for file in files]"
   ]
  },
  {
   "cell_type": "code",
   "execution_count": 316,
   "metadata": {},
   "outputs": [],
   "source": [
    "df4 = pd.concat(dfs)"
   ]
  },
  {
   "cell_type": "code",
   "execution_count": 317,
   "metadata": {},
   "outputs": [
    {
     "data": {
      "text/plain": [
       "199"
      ]
     },
     "execution_count": 317,
     "metadata": {},
     "output_type": "execute_result"
    }
   ],
   "source": [
    "df4['ID'].max()"
   ]
  },
  {
   "cell_type": "code",
   "execution_count": 318,
   "metadata": {},
   "outputs": [
    {
     "data": {
      "text/plain": [
       "100"
      ]
     },
     "execution_count": 318,
     "metadata": {},
     "output_type": "execute_result"
    }
   ],
   "source": [
    "df4['ID'].nunique()"
   ]
  },
  {
   "cell_type": "code",
   "execution_count": 319,
   "metadata": {},
   "outputs": [],
   "source": [
    "eq_memone2, noneq_memone2 = seperate_equilibria_and_non(df4)"
   ]
  },
  {
   "cell_type": "code",
   "execution_count": 320,
   "metadata": {},
   "outputs": [
    {
     "data": {
      "text/plain": [
       "40"
      ]
     },
     "execution_count": 320,
     "metadata": {},
     "output_type": "execute_result"
    }
   ],
   "source": [
    "eq_memone2['ID'].nunique()"
   ]
  },
  {
   "cell_type": "code",
   "execution_count": 321,
   "metadata": {},
   "outputs": [],
   "source": [
    "outside = 0\n",
    "\n",
    "for i, row in eq_memone2[player_cols].drop_duplicates().iterrows():\n",
    "    p = row[player_cols]\n",
    "    \n",
    "    check = all(nash_conditions_mem_two(p, 2, 1).values())\n",
    "    \n",
    "    if check == False:\n",
    "        outside += 1"
   ]
  },
  {
   "cell_type": "code",
   "execution_count": 322,
   "metadata": {},
   "outputs": [
    {
     "data": {
      "text/plain": [
       "39"
      ]
     },
     "execution_count": 322,
     "metadata": {},
     "output_type": "execute_result"
    }
   ],
   "source": [
    "outside"
   ]
  },
  {
   "cell_type": "code",
   "execution_count": 275,
   "metadata": {},
   "outputs": [],
   "source": [
    "per_player = df3.groupby('ID')['condition A'].all()"
   ]
  },
  {
   "cell_type": "code",
   "execution_count": 279,
   "metadata": {},
   "outputs": [
    {
     "data": {
      "text/plain": [
       "Series([], Name: condition A, dtype: bool)"
      ]
     },
     "execution_count": 279,
     "metadata": {},
     "output_type": "execute_result"
    }
   ],
   "source": [
    "per_player[per_player == True]"
   ]
  },
  {
   "cell_type": "code",
   "execution_count": 274,
   "metadata": {},
   "outputs": [
    {
     "data": {
      "text/plain": [
       "924"
      ]
     },
     "execution_count": 274,
     "metadata": {},
     "output_type": "execute_result"
    }
   ],
   "source": [
    "noneq_memone['ID'].nunique()"
   ]
  },
  {
   "cell_type": "code",
   "execution_count": 297,
   "metadata": {},
   "outputs": [],
   "source": [
    "eq_memone2, noneq_memone2 = seperate_equilibria_and_non(df4)"
   ]
  },
  {
   "cell_type": "code",
   "execution_count": 298,
   "metadata": {},
   "outputs": [
    {
     "data": {
      "text/plain": [
       "128"
      ]
     },
     "execution_count": 298,
     "metadata": {},
     "output_type": "execute_result"
    }
   ],
   "source": [
    "eq_memone2['ID'].nunique()"
   ]
  },
  {
   "cell_type": "code",
   "execution_count": 299,
   "metadata": {},
   "outputs": [],
   "source": [
    "player_cols = [f\"p{i+1}\" for i in range(16)]"
   ]
  },
  {
   "cell_type": "code",
   "execution_count": 306,
   "metadata": {},
   "outputs": [],
   "source": [
    "for i, row in noneq_memone2[player_cols].drop_duplicates().iterrows():\n",
    "    p = row[player_cols]\n",
    "    \n",
    "    check = nash_conditions_mem_two(p, 2, 1)\n",
    "    \n",
    "    assert all(check.values()) == False"
   ]
  },
  {
   "cell_type": "code",
   "execution_count": 309,
   "metadata": {},
   "outputs": [],
   "source": [
    "outside = 0\n",
    "\n",
    "for i, row in eq_memone2[player_cols].drop_duplicates().iterrows():\n",
    "    p = row[player_cols]\n",
    "    \n",
    "    check = all(nash_conditions_mem_two(p, 2, 1).values())\n",
    "    \n",
    "    if check == False:\n",
    "        outside += 1"
   ]
  },
  {
   "cell_type": "code",
   "execution_count": 310,
   "metadata": {},
   "outputs": [
    {
     "data": {
      "text/plain": [
       "122"
      ]
     },
     "execution_count": 310,
     "metadata": {},
     "output_type": "execute_result"
    }
   ],
   "source": [
    "outside"
   ]
  },
  {
   "cell_type": "code",
   "execution_count": 312,
   "metadata": {},
   "outputs": [
    {
     "data": {
      "text/plain": [
       "0.953125"
      ]
     },
     "execution_count": 312,
     "metadata": {},
     "output_type": "execute_result"
    }
   ],
   "source": [
    "outside / eq_memone2['ID'].nunique()"
   ]
  },
  {
   "cell_type": "code",
   "execution_count": null,
   "metadata": {},
   "outputs": [],
   "source": []
  },
  {
   "cell_type": "code",
   "execution_count": 270,
   "metadata": {},
   "outputs": [
    {
     "data": {
      "text/plain": [
       "(924, 0)"
      ]
     },
     "execution_count": 270,
     "metadata": {},
     "output_type": "execute_result"
    }
   ],
   "source": [
    "df3['ID'].nunique(), eq_memone['ID'].nunique()"
   ]
  },
  {
   "cell_type": "code",
   "execution_count": null,
   "metadata": {},
   "outputs": [],
   "source": []
  },
  {
   "cell_type": "code",
   "execution_count": 191,
   "metadata": {},
   "outputs": [
    {
     "data": {
      "text/plain": [
       "Text(0.1, 0.8280000000000001, 'A)')"
      ]
     },
     "execution_count": 191,
     "metadata": {},
     "output_type": "execute_result"
    },
    {
     "data": {
      "image/png": "[encoded data removed]",
      "text/plain": [
       "<Figure size 1440x1440 with 2 Axes>"
      ]
     },
     "metadata": {
      "needs_background": "light"
     },
     "output_type": "display_data"
    }
   ],
   "source": [
    "fig = plt.figure(figsize=(20, 20))\n",
    "\n",
    "ax1 = fig.add_subplot(131, projection='3d')\n",
    "ax2 = fig.add_subplot(132, projection='3d')\n",
    "# ax3 = fig.add_subplot(133, projection='3d')\n",
    "\n",
    "axes = [ax1, ax2]\n",
    "\n",
    "for i, row in eq_memone[['p2', 'p5', 'p6']].round(2).drop_duplicates().iterrows():\n",
    "\n",
    "        ax1.scatter(row['p2'], row['p5'], row['p6'], color='tab:blue', alpha=0.5)\n",
    "\n",
    "ax1.set_zlim(0, 1);\n",
    "        \n",
    "    \n",
    "for i, row in eq_memone[eq_memone['ID'] == 349][['ID', 'p2', 'p5', 'p6']].round(2).drop_duplicates().iterrows():\n",
    "\n",
    "        ax2.scatter(row['p2'], row['p5'], row['p6'], color='tab:blue', alpha=0.5)\n",
    "        \n",
    "        ax2.text(row['p2'], row['p5'], row['p6'], row['ID'])\n",
    "\n",
    "ax2.set_zlim(0, 1);\n",
    "\n",
    "for point in data:\n",
    "     ax1.scatter(point[0],\n",
    "                 point[1],\n",
    "                 point[2],\n",
    "                 s=1,\n",
    "                 color='green')\n",
    "        \n",
    "for ax in axes:\n",
    "\n",
    "#     ax.view_init(10, -70)\n",
    "    ax.view_init(10, -60)\n",
    "    ax.set_xticks([0, .5, 1])\n",
    "    ax.set_yticks([0, .5, 1])\n",
    "    ax.set_zticks([0, .5, 1])\n",
    "\n",
    "    ax.set_xticklabels([0, \"\", 1])\n",
    "    ax.set_yticklabels([0, \"\", 1])\n",
    "    ax.set_zticklabels([0, \"\", 1])\n",
    "\n",
    "\n",
    "    ax.annotate(\"$p_2$\", (-0.05, -0.08), fontsize=15)\n",
    "    ax.annotate(\"$p_3$\", (.065, -0.06), fontsize=15)\n",
    "    ax.annotate(\"$p_4$\", (.09, 0.003), fontsize=15)\n",
    "    \n",
    "    \n",
    "    ax.xaxis.pane.fill = False\n",
    "    ax.yaxis.pane.fill = False\n",
    "    ax.zaxis.pane.fill = False\n",
    "\n",
    "ax1.set_title(\"A)\", fontweight='bold', x=.1, y=.9, fontsize=15)\n",
    "\n",
    "\n",
    "\n",
    "\n",
    "    \n",
    "\n",
    "# for k, indices in enumerate([[Is931, Js931, Zs931]]):\n",
    "    \n",
    "#         Is, Js, Zs = indices\n",
    "        \n",
    "#         for i, j, z in zip(Is, Js, Zs):\n",
    "            \n",
    "#             ax1.scatter(xv[i, j, z],\n",
    "#                             yv[i, j, z],\n",
    "#                             zv[i, j, z],\n",
    "#                             s=1,\n",
    "#                             color=colors[k])\n",
    "            \n",
    "#         ax1.scatter(xv[i, j, z],\n",
    "#                 yv[i, j, z],\n",
    "#                 zv[i, j, z],\n",
    "#                 s=1,\n",
    "# #                 label=labels[k],\n",
    "#                 color=colors[k])\n",
    "    \n",
    "# ax3.legend(custom_lines, ['Provably Nash',\n",
    "#                           'Numerical Nash',\n",
    "#                           'AllD', 'N6'], bbox_to_anchor=(0, 0), ncol=4, framealpha=0, fontsize=12);\n",
    "\n",
    "# plt.savefig(\"../static/two_bit_results.pdf\", \n",
    "#             transparent=True,  bbox_inches='tight')"
   ]
  },
  {
   "cell_type": "code",
   "execution_count": 187,
   "metadata": {},
   "outputs": [
    {
     "data": {
      "text/plain": [
       "-0.266865082189119"
      ]
     },
     "execution_count": 187,
     "metadata": {},
     "output_type": "execute_result"
    }
   ],
   "source": [
    "N931((1, 0.97084, 0.47691, 0.23619), 1, 1)"
   ]
  },
  {
   "cell_type": "code",
   "execution_count": 183,
   "metadata": {},
   "outputs": [
    {
     "data": {
      "text/html": [
       "<div>\n",
       "<style scoped>\n",
       "    .dataframe tbody tr th:only-of-type {\n",
       "        vertical-align: middle;\n",
       "    }\n",
       "\n",
       "    .dataframe tbody tr th {\n",
       "        vertical-align: top;\n",
       "    }\n",
       "\n",
       "    .dataframe thead th {\n",
       "        text-align: right;\n",
       "    }\n",
       "</style>\n",
       "<table border=\"1\" class=\"dataframe\">\n",
       "  <thead>\n",
       "    <tr style=\"text-align: right;\">\n",
       "      <th></th>\n",
       "      <th>ID</th>\n",
       "      <th>p1</th>\n",
       "      <th>p2</th>\n",
       "      <th>p3</th>\n",
       "      <th>p4</th>\n",
       "      <th>p5</th>\n",
       "      <th>p6</th>\n",
       "      <th>p7</th>\n",
       "      <th>p8</th>\n",
       "      <th>p9</th>\n",
       "      <th>...</th>\n",
       "      <th>p14</th>\n",
       "      <th>p15</th>\n",
       "      <th>p16</th>\n",
       "      <th>label</th>\n",
       "      <th>Sp</th>\n",
       "      <th>Sq</th>\n",
       "      <th>condition A</th>\n",
       "      <th>condition B</th>\n",
       "      <th>c</th>\n",
       "      <th>b</th>\n",
       "    </tr>\n",
       "    <tr>\n",
       "      <th></th>\n",
       "      <th></th>\n",
       "      <th></th>\n",
       "      <th></th>\n",
       "      <th></th>\n",
       "      <th></th>\n",
       "      <th></th>\n",
       "      <th></th>\n",
       "      <th></th>\n",
       "      <th></th>\n",
       "      <th></th>\n",
       "      <th></th>\n",
       "      <th></th>\n",
       "      <th></th>\n",
       "      <th></th>\n",
       "      <th></th>\n",
       "      <th></th>\n",
       "      <th></th>\n",
       "      <th></th>\n",
       "      <th></th>\n",
       "      <th></th>\n",
       "      <th></th>\n",
       "    </tr>\n",
       "  </thead>\n",
       "  <tbody>\n",
       "    <tr>\n",
       "      <th>0</th>\n",
       "      <td>349</td>\n",
       "      <td>1</td>\n",
       "      <td>0.97084</td>\n",
       "      <td>1</td>\n",
       "      <td>0.97084</td>\n",
       "      <td>0.47691</td>\n",
       "      <td>0.23619</td>\n",
       "      <td>0.47691</td>\n",
       "      <td>0.23619</td>\n",
       "      <td>1</td>\n",
       "      <td>...</td>\n",
       "      <td>0.23619</td>\n",
       "      <td>0.47691</td>\n",
       "      <td>0.23619</td>\n",
       "      <td>N0</td>\n",
       "      <td>1.0</td>\n",
       "      <td>0.472380</td>\n",
       "      <td>True</td>\n",
       "      <td>True</td>\n",
       "      <td>2</td>\n",
       "      <td>1</td>\n",
       "    </tr>\n",
       "    <tr>\n",
       "      <th>1</th>\n",
       "      <td>349</td>\n",
       "      <td>1</td>\n",
       "      <td>0.97084</td>\n",
       "      <td>1</td>\n",
       "      <td>0.97084</td>\n",
       "      <td>0.47691</td>\n",
       "      <td>0.23619</td>\n",
       "      <td>0.47691</td>\n",
       "      <td>0.23619</td>\n",
       "      <td>1</td>\n",
       "      <td>...</td>\n",
       "      <td>0.23619</td>\n",
       "      <td>0.47691</td>\n",
       "      <td>0.23619</td>\n",
       "      <td>N1</td>\n",
       "      <td>1.0</td>\n",
       "      <td>0.631928</td>\n",
       "      <td>True</td>\n",
       "      <td>True</td>\n",
       "      <td>2</td>\n",
       "      <td>1</td>\n",
       "    </tr>\n",
       "    <tr>\n",
       "      <th>2</th>\n",
       "      <td>349</td>\n",
       "      <td>1</td>\n",
       "      <td>0.97084</td>\n",
       "      <td>1</td>\n",
       "      <td>0.97084</td>\n",
       "      <td>0.47691</td>\n",
       "      <td>0.23619</td>\n",
       "      <td>0.47691</td>\n",
       "      <td>0.23619</td>\n",
       "      <td>1</td>\n",
       "      <td>...</td>\n",
       "      <td>0.23619</td>\n",
       "      <td>0.47691</td>\n",
       "      <td>0.23619</td>\n",
       "      <td>N2</td>\n",
       "      <td>1.0</td>\n",
       "      <td>0.639472</td>\n",
       "      <td>True</td>\n",
       "      <td>True</td>\n",
       "      <td>2</td>\n",
       "      <td>1</td>\n",
       "    </tr>\n",
       "    <tr>\n",
       "      <th>3</th>\n",
       "      <td>349</td>\n",
       "      <td>1</td>\n",
       "      <td>0.97084</td>\n",
       "      <td>1</td>\n",
       "      <td>0.97084</td>\n",
       "      <td>0.47691</td>\n",
       "      <td>0.23619</td>\n",
       "      <td>0.47691</td>\n",
       "      <td>0.23619</td>\n",
       "      <td>1</td>\n",
       "      <td>...</td>\n",
       "      <td>0.23619</td>\n",
       "      <td>0.47691</td>\n",
       "      <td>0.23619</td>\n",
       "      <td>N3</td>\n",
       "      <td>1.0</td>\n",
       "      <td>0.705228</td>\n",
       "      <td>True</td>\n",
       "      <td>True</td>\n",
       "      <td>2</td>\n",
       "      <td>1</td>\n",
       "    </tr>\n",
       "    <tr>\n",
       "      <th>4</th>\n",
       "      <td>349</td>\n",
       "      <td>1</td>\n",
       "      <td>0.97084</td>\n",
       "      <td>1</td>\n",
       "      <td>0.97084</td>\n",
       "      <td>0.47691</td>\n",
       "      <td>0.23619</td>\n",
       "      <td>0.47691</td>\n",
       "      <td>0.23619</td>\n",
       "      <td>1</td>\n",
       "      <td>...</td>\n",
       "      <td>0.23619</td>\n",
       "      <td>0.47691</td>\n",
       "      <td>0.23619</td>\n",
       "      <td>N4</td>\n",
       "      <td>1.0</td>\n",
       "      <td>0.472380</td>\n",
       "      <td>True</td>\n",
       "      <td>True</td>\n",
       "      <td>2</td>\n",
       "      <td>1</td>\n",
       "    </tr>\n",
       "    <tr>\n",
       "      <th>...</th>\n",
       "      <td>...</td>\n",
       "      <td>...</td>\n",
       "      <td>...</td>\n",
       "      <td>...</td>\n",
       "      <td>...</td>\n",
       "      <td>...</td>\n",
       "      <td>...</td>\n",
       "      <td>...</td>\n",
       "      <td>...</td>\n",
       "      <td>...</td>\n",
       "      <td>...</td>\n",
       "      <td>...</td>\n",
       "      <td>...</td>\n",
       "      <td>...</td>\n",
       "      <td>...</td>\n",
       "      <td>...</td>\n",
       "      <td>...</td>\n",
       "      <td>...</td>\n",
       "      <td>...</td>\n",
       "      <td>...</td>\n",
       "      <td>...</td>\n",
       "    </tr>\n",
       "    <tr>\n",
       "      <th>65531</th>\n",
       "      <td>349</td>\n",
       "      <td>1</td>\n",
       "      <td>0.97084</td>\n",
       "      <td>1</td>\n",
       "      <td>0.97084</td>\n",
       "      <td>0.47691</td>\n",
       "      <td>0.23619</td>\n",
       "      <td>0.47691</td>\n",
       "      <td>0.23619</td>\n",
       "      <td>1</td>\n",
       "      <td>...</td>\n",
       "      <td>0.23619</td>\n",
       "      <td>0.47691</td>\n",
       "      <td>0.23619</td>\n",
       "      <td>N65531</td>\n",
       "      <td>1.0</td>\n",
       "      <td>1.000000</td>\n",
       "      <td>True</td>\n",
       "      <td>True</td>\n",
       "      <td>2</td>\n",
       "      <td>1</td>\n",
       "    </tr>\n",
       "    <tr>\n",
       "      <th>65532</th>\n",
       "      <td>349</td>\n",
       "      <td>1</td>\n",
       "      <td>0.97084</td>\n",
       "      <td>1</td>\n",
       "      <td>0.97084</td>\n",
       "      <td>0.47691</td>\n",
       "      <td>0.23619</td>\n",
       "      <td>0.47691</td>\n",
       "      <td>0.23619</td>\n",
       "      <td>1</td>\n",
       "      <td>...</td>\n",
       "      <td>0.23619</td>\n",
       "      <td>0.47691</td>\n",
       "      <td>0.23619</td>\n",
       "      <td>N65532</td>\n",
       "      <td>1.0</td>\n",
       "      <td>1.000000</td>\n",
       "      <td>True</td>\n",
       "      <td>True</td>\n",
       "      <td>2</td>\n",
       "      <td>1</td>\n",
       "    </tr>\n",
       "    <tr>\n",
       "      <th>65533</th>\n",
       "      <td>349</td>\n",
       "      <td>1</td>\n",
       "      <td>0.97084</td>\n",
       "      <td>1</td>\n",
       "      <td>0.97084</td>\n",
       "      <td>0.47691</td>\n",
       "      <td>0.23619</td>\n",
       "      <td>0.47691</td>\n",
       "      <td>0.23619</td>\n",
       "      <td>1</td>\n",
       "      <td>...</td>\n",
       "      <td>0.23619</td>\n",
       "      <td>0.47691</td>\n",
       "      <td>0.23619</td>\n",
       "      <td>N65533</td>\n",
       "      <td>1.0</td>\n",
       "      <td>1.000000</td>\n",
       "      <td>True</td>\n",
       "      <td>True</td>\n",
       "      <td>2</td>\n",
       "      <td>1</td>\n",
       "    </tr>\n",
       "    <tr>\n",
       "      <th>65534</th>\n",
       "      <td>349</td>\n",
       "      <td>1</td>\n",
       "      <td>0.97084</td>\n",
       "      <td>1</td>\n",
       "      <td>0.97084</td>\n",
       "      <td>0.47691</td>\n",
       "      <td>0.23619</td>\n",
       "      <td>0.47691</td>\n",
       "      <td>0.23619</td>\n",
       "      <td>1</td>\n",
       "      <td>...</td>\n",
       "      <td>0.23619</td>\n",
       "      <td>0.47691</td>\n",
       "      <td>0.23619</td>\n",
       "      <td>N65534</td>\n",
       "      <td>1.0</td>\n",
       "      <td>1.000000</td>\n",
       "      <td>True</td>\n",
       "      <td>True</td>\n",
       "      <td>2</td>\n",
       "      <td>1</td>\n",
       "    </tr>\n",
       "    <tr>\n",
       "      <th>65535</th>\n",
       "      <td>349</td>\n",
       "      <td>1</td>\n",
       "      <td>0.97084</td>\n",
       "      <td>1</td>\n",
       "      <td>0.97084</td>\n",
       "      <td>0.47691</td>\n",
       "      <td>0.23619</td>\n",
       "      <td>0.47691</td>\n",
       "      <td>0.23619</td>\n",
       "      <td>1</td>\n",
       "      <td>...</td>\n",
       "      <td>0.23619</td>\n",
       "      <td>0.47691</td>\n",
       "      <td>0.23619</td>\n",
       "      <td>N65535</td>\n",
       "      <td>1.0</td>\n",
       "      <td>1.000000</td>\n",
       "      <td>True</td>\n",
       "      <td>True</td>\n",
       "      <td>2</td>\n",
       "      <td>1</td>\n",
       "    </tr>\n",
       "  </tbody>\n",
       "</table>\n",
       "<p>65536 rows × 24 columns</p>\n",
       "</div>"
      ],
      "text/plain": [
       "        ID  p1       p2  p3       p4       p5       p6       p7       p8  p9  \\\n",
       "                                                                               \n",
       "0      349   1  0.97084   1  0.97084  0.47691  0.23619  0.47691  0.23619   1   \n",
       "1      349   1  0.97084   1  0.97084  0.47691  0.23619  0.47691  0.23619   1   \n",
       "2      349   1  0.97084   1  0.97084  0.47691  0.23619  0.47691  0.23619   1   \n",
       "3      349   1  0.97084   1  0.97084  0.47691  0.23619  0.47691  0.23619   1   \n",
       "4      349   1  0.97084   1  0.97084  0.47691  0.23619  0.47691  0.23619   1   \n",
       "...    ...  ..      ...  ..      ...      ...      ...      ...      ...  ..   \n",
       "65531  349   1  0.97084   1  0.97084  0.47691  0.23619  0.47691  0.23619   1   \n",
       "65532  349   1  0.97084   1  0.97084  0.47691  0.23619  0.47691  0.23619   1   \n",
       "65533  349   1  0.97084   1  0.97084  0.47691  0.23619  0.47691  0.23619   1   \n",
       "65534  349   1  0.97084   1  0.97084  0.47691  0.23619  0.47691  0.23619   1   \n",
       "65535  349   1  0.97084   1  0.97084  0.47691  0.23619  0.47691  0.23619   1   \n",
       "\n",
       "       ...      p14      p15      p16   label   Sp        Sq  condition A  \\\n",
       "       ...                                                                  \n",
       "0      ...  0.23619  0.47691  0.23619      N0  1.0  0.472380         True   \n",
       "1      ...  0.23619  0.47691  0.23619      N1  1.0  0.631928         True   \n",
       "2      ...  0.23619  0.47691  0.23619      N2  1.0  0.639472         True   \n",
       "3      ...  0.23619  0.47691  0.23619      N3  1.0  0.705228         True   \n",
       "4      ...  0.23619  0.47691  0.23619      N4  1.0  0.472380         True   \n",
       "...    ...      ...      ...      ...     ...  ...       ...          ...   \n",
       "65531  ...  0.23619  0.47691  0.23619  N65531  1.0  1.000000         True   \n",
       "65532  ...  0.23619  0.47691  0.23619  N65532  1.0  1.000000         True   \n",
       "65533  ...  0.23619  0.47691  0.23619  N65533  1.0  1.000000         True   \n",
       "65534  ...  0.23619  0.47691  0.23619  N65534  1.0  1.000000         True   \n",
       "65535  ...  0.23619  0.47691  0.23619  N65535  1.0  1.000000         True   \n",
       "\n",
       "      condition B  c  b  \n",
       "                         \n",
       "0            True  2  1  \n",
       "1            True  2  1  \n",
       "2            True  2  1  \n",
       "3            True  2  1  \n",
       "4            True  2  1  \n",
       "...           ... .. ..  \n",
       "65531        True  2  1  \n",
       "65532        True  2  1  \n",
       "65533        True  2  1  \n",
       "65534        True  2  1  \n",
       "65535        True  2  1  \n",
       "\n",
       "[65536 rows x 24 columns]"
      ]
     },
     "execution_count": 183,
     "metadata": {},
     "output_type": "execute_result"
    }
   ],
   "source": [
    "eq_memone[eq_memone['ID'] == 349]"
   ]
  },
  {
   "cell_type": "code",
   "execution_count": 254,
   "metadata": {},
   "outputs": [],
   "source": [
    "x = np.arange(0, 1 - 10 ** -5, 0.03)\n",
    "y = np.arange(0, 1 - 10 ** -5, 0.03)\n",
    "z = np.arange(0, 1 - 10 ** -5, 0.03)\n",
    "\n"
   ]
  },
  {
   "cell_type": "code",
   "execution_count": 255,
   "metadata": {},
   "outputs": [
    {
     "name": "stderr",
     "output_type": "stream",
     "text": [
      "<ipython-input-255-ac42e54caa35>:5: TqdmDeprecationWarning: This function will be removed in tqdm==5.0.0\n",
      "Please use `tqdm.notebook.tqdm` instead of `tqdm.tqdm_notebook`\n",
      "  for i in tqdm.tqdm_notebook(x):\n"
     ]
    },
    {
     "data": {
      "application/vnd.jupyter.widget-view+json": {
       "model_id": "e41c5a881e144b94b6085ca0a0a5d421",
       "version_major": 2,
       "version_minor": 0
      },
      "text/plain": [
       "HBox(children=(FloatProgress(value=0.0, max=34.0), HTML(value='')))"
      ]
     },
     "metadata": {},
     "output_type": "display_data"
    },
    {
     "name": "stdout",
     "output_type": "stream",
     "text": [
      "\n"
     ]
    }
   ],
   "source": [
    "data = []\n",
    "\n",
    "coplayer = deterministic_strategies[65331]\n",
    "\n",
    "for i in tqdm.tqdm_notebook(x):\n",
    "    for j in y:\n",
    "        for k in z:\n",
    "            p = (1, i, 1, i, j, k, j, k, 1, i, 1, i, j, k, j, k)\n",
    "            \n",
    "            M = calculate_M_memory_two(coplayer, p)\n",
    "            \n",
    "            \n",
    "            ss = invariant_distribution(M)\n",
    "\n",
    "\n",
    "            score = ss @ np.array([2 - 1, -1, 2, 0] * 4)\n",
    "            \n",
    "            if np.isclose(score, 2 - 1, atol=10 ** - 3):\n",
    "                data.append((i, j, k))\n",
    "            "
   ]
  },
  {
   "cell_type": "code",
   "execution_count": 28,
   "metadata": {},
   "outputs": [],
   "source": [
    "groups = noneq_memone[noneq_memone['condition A'] == False].groupby('ID')"
   ]
  },
  {
   "cell_type": "code",
   "execution_count": 252,
   "metadata": {},
   "outputs": [
    {
     "data": {
      "text/plain": [
       "65536"
      ]
     },
     "execution_count": 252,
     "metadata": {},
     "output_type": "execute_result"
    }
   ],
   "source": [
    "len(deterministic_strategies)"
   ]
  },
  {
   "cell_type": "code",
   "execution_count": 253,
   "metadata": {},
   "outputs": [
    {
     "data": {
      "text/plain": [
       "(1, 1, 1, 1, 1, 1, 1, 1, 0, 0, 1, 1, 0, 0, 1, 1)"
      ]
     },
     "execution_count": 253,
     "metadata": {},
     "output_type": "execute_result"
    }
   ],
   "source": [
    "deterministic_strategies[65331]"
   ]
  },
  {
   "cell_type": "code",
   "execution_count": 29,
   "metadata": {},
   "outputs": [],
   "source": [
    "sets, ids = [], []\n",
    "\n",
    "for i, group in groups:\n",
    "    sets.append(group['label'].values)\n",
    "    ids.append(group['ID'].unique())"
   ]
  },
  {
   "cell_type": "code",
   "execution_count": 144,
   "metadata": {},
   "outputs": [
    {
     "data": {
      "text/plain": [
       "[array(['N8261', 'N8263', 'N8269', ..., 'N65329', 'N65330', 'N65331'],\n",
       "       dtype=object),\n",
       " array(['N1', 'N2', 'N3', ..., 'N65329', 'N65330', 'N65331'], dtype=object),\n",
       " array(['N8771', 'N8775', 'N8779', ..., 'N65329', 'N65330', 'N65331'],\n",
       "       dtype=object),\n",
       " array(['N8833', 'N8834', 'N8835', ..., 'N65329', 'N65330', 'N65331'],\n",
       "       dtype=object),\n",
       " array(['N1', 'N2', 'N3', ..., 'N65329', 'N65330', 'N65331'], dtype=object),\n",
       " array(['N8261', 'N8263', 'N8269', ..., 'N65329', 'N65330', 'N65331'],\n",
       "       dtype=object),\n",
       " array(['N563', 'N567', 'N571', ..., 'N65329', 'N65330', 'N65331'],\n",
       "       dtype=object),\n",
       " array(['N560', 'N561', 'N562', ..., 'N65329', 'N65330', 'N65331'],\n",
       "       dtype=object),\n",
       " array(['N33', 'N34', 'N35', ..., 'N65329', 'N65330', 'N65331'],\n",
       "       dtype=object),\n",
       " array(['N8896', 'N8897', 'N8898', ..., 'N65329', 'N65330', 'N65331'],\n",
       "       dtype=object),\n",
       " array(['N8261', 'N8263', 'N8269', ..., 'N65329', 'N65330', 'N65331'],\n",
       "       dtype=object),\n",
       " array(['N16', 'N17', 'N18', ..., 'N65329', 'N65330', 'N65331'],\n",
       "       dtype=object),\n",
       " array(['N1', 'N2', 'N3', ..., 'N65329', 'N65330', 'N65331'], dtype=object),\n",
       " array(['N8834', 'N8835', 'N8837', ..., 'N65329', 'N65330', 'N65331'],\n",
       "       dtype=object),\n",
       " array(['N691', 'N699', 'N819', ..., 'N65329', 'N65330', 'N65331'],\n",
       "       dtype=object),\n",
       " array(['N547', 'N555', 'N561', ..., 'N65329', 'N65330', 'N65331'],\n",
       "       dtype=object),\n",
       " array(['N547', 'N555', 'N561', ..., 'N65329', 'N65330', 'N65331'],\n",
       "       dtype=object),\n",
       " array(['N560', 'N561', 'N562', ..., 'N65329', 'N65330', 'N65331'],\n",
       "       dtype=object),\n",
       " array(['N1', 'N2', 'N3', ..., 'N65329', 'N65330', 'N65331'], dtype=object),\n",
       " array(['N34', 'N35', 'N38', ..., 'N65329', 'N65330', 'N65331'],\n",
       "       dtype=object),\n",
       " array(['N16', 'N17', 'N18', ..., 'N65329', 'N65330', 'N65331'],\n",
       "       dtype=object),\n",
       " array(['N8835', 'N8839', 'N8843', ..., 'N65329', 'N65330', 'N65331'],\n",
       "       dtype=object),\n",
       " array(['N48', 'N49', 'N50', ..., 'N65329', 'N65330', 'N65331'],\n",
       "       dtype=object),\n",
       " array(['N48', 'N49', 'N50', ..., 'N65329', 'N65330', 'N65331'],\n",
       "       dtype=object),\n",
       " array(['N291', 'N295', 'N299', ..., 'N65329', 'N65330', 'N65331'],\n",
       "       dtype=object)]"
      ]
     },
     "execution_count": 144,
     "metadata": {},
     "output_type": "execute_result"
    }
   ],
   "source": [
    "[s for s in sets if 'N0' not in s]"
   ]
  },
  {
   "cell_type": "code",
   "execution_count": null,
   "metadata": {},
   "outputs": [],
   "source": [
    "labels = [f\"N{i}\" for i in range(0, len(deterministic_strategies))]\n",
    "\n",
    "idx_sets = []\n",
    "\n",
    "for i, j in list(itertools.combinations(labels, r=2)):\n",
    "    index = [s for _, s in enumerate(sets) if (i not in list(s) and j not in list(s))]\n",
    "    \n",
    "    if len(index) == 0:\n",
    "        idx_sets.append((i, j))"
   ]
  },
  {
   "cell_type": "code",
   "execution_count": 110,
   "metadata": {},
   "outputs": [
    {
     "data": {
      "text/plain": [
       "[array(['N0', 'N1', 'N2', ..., 'N65224', 'N65228', 'N65484'], dtype=object),\n",
       " array(['N0', 'N1', 'N2', ..., 'N65224', 'N65228', 'N65484'], dtype=object),\n",
       " array(['N0', 'N1', 'N4', ..., 'N65228', 'N65292', 'N65484'], dtype=object),\n",
       " array(['N0', 'N1', 'N2', ..., 'N65224', 'N65228', 'N65484'], dtype=object),\n",
       " array(['N0', 'N1', 'N4', ..., 'N65228', 'N65280', 'N65484'], dtype=object),\n",
       " array(['N0', 'N1', 'N4', ..., 'N65224', 'N65228', 'N65484'], dtype=object),\n",
       " array(['N8261', 'N8263', 'N8269', ..., 'N65329', 'N65330', 'N65331'],\n",
       "       dtype=object),\n",
       " array(['N1', 'N2', 'N3', ..., 'N65329', 'N65330', 'N65331'], dtype=object),\n",
       " array(['N0', 'N1', 'N4', ..., 'N65224', 'N65228', 'N65484'], dtype=object),\n",
       " array(['N0', 'N1', 'N4', ..., 'N65224', 'N65228', 'N65484'], dtype=object),\n",
       " array(['N0', 'N1', 'N4', ..., 'N65228', 'N65472', 'N65484'], dtype=object),\n",
       " array(['N0', 'N1', 'N4', ..., 'N65224', 'N65228', 'N65484'], dtype=object),\n",
       " array(['N0', 'N4', 'N8', ..., 'N65228', 'N65280', 'N65484'], dtype=object),\n",
       " array(['N0', 'N1', 'N4', ..., 'N65228', 'N65280', 'N65484'], dtype=object),\n",
       " array(['N0', 'N1', 'N2', ..., 'N65224', 'N65228', 'N65484'], dtype=object),\n",
       " array(['N0', 'N1', 'N2', ..., 'N65224', 'N65228', 'N65484'], dtype=object),\n",
       " array(['N0', 'N1', 'N2', ..., 'N65224', 'N65228', 'N65484'], dtype=object),\n",
       " array(['N0', 'N1', 'N4', ..., 'N65224', 'N65228', 'N65484'], dtype=object),\n",
       " array(['N0', 'N1', 'N4', ..., 'N65224', 'N65228', 'N65484'], dtype=object),\n",
       " array(['N0', 'N1', 'N2', ..., 'N65224', 'N65228', 'N65484'], dtype=object),\n",
       " array(['N0', 'N1', 'N2', ..., 'N65330', 'N65331', 'N65484'], dtype=object),\n",
       " array(['N0', 'N1', 'N2', ..., 'N65224', 'N65228', 'N65484'], dtype=object),\n",
       " array(['N0', 'N1', 'N4', ..., 'N65224', 'N65228', 'N65484'], dtype=object),\n",
       " array(['N0', 'N1', 'N2', ..., 'N65330', 'N65331', 'N65484'], dtype=object),\n",
       " array(['N0', 'N1', 'N2', ..., 'N65228', 'N65280', 'N65484'], dtype=object),\n",
       " array(['N0', 'N1', 'N4', ..., 'N65228', 'N65280', 'N65484'], dtype=object),\n",
       " array(['N0', 'N1', 'N2', ..., 'N65228', 'N65280', 'N65484'], dtype=object),\n",
       " array(['N0', 'N1', 'N4', ..., 'N65228', 'N65292', 'N65484'], dtype=object),\n",
       " array(['N0', 'N4', 'N8', ..., 'N65224', 'N65228', 'N65484'], dtype=object),\n",
       " array(['N0', 'N1', 'N2', ..., 'N65330', 'N65331', 'N65484'], dtype=object),\n",
       " array(['N0', 'N1', 'N4', ..., 'N65224', 'N65228', 'N65484'], dtype=object),\n",
       " array(['N0', 'N1', 'N2', ..., 'N65330', 'N65331', 'N65484'], dtype=object),\n",
       " array(['N8771', 'N8775', 'N8779', ..., 'N65329', 'N65330', 'N65331'],\n",
       "       dtype=object),\n",
       " array(['N8833', 'N8834', 'N8835', ..., 'N65329', 'N65330', 'N65331'],\n",
       "       dtype=object),\n",
       " array(['N0', 'N4', 'N8', ..., 'N65224', 'N65228', 'N65484'], dtype=object),\n",
       " array(['N0', 'N1', 'N2', ..., 'N65224', 'N65228', 'N65484'], dtype=object),\n",
       " array(['N0', 'N4', 'N5', ..., 'N65224', 'N65228', 'N65484'], dtype=object),\n",
       " array(['N0', 'N1', 'N4', ..., 'N65228', 'N65412', 'N65484'], dtype=object),\n",
       " array(['N0', 'N1', 'N4', ..., 'N65228', 'N65472', 'N65484'], dtype=object),\n",
       " array(['N0', 'N1', 'N4', ..., 'N65224', 'N65228', 'N65484'], dtype=object),\n",
       " array(['N0', 'N1', 'N4', ..., 'N65224', 'N65228', 'N65484'], dtype=object),\n",
       " array(['N0', 'N1', 'N2', ..., 'N65228', 'N65280', 'N65484'], dtype=object),\n",
       " array(['N0', 'N1', 'N4', ..., 'N65224', 'N65228', 'N65484'], dtype=object),\n",
       " array(['N1', 'N2', 'N3', ..., 'N65329', 'N65330', 'N65331'], dtype=object),\n",
       " array(['N0', 'N1', 'N4', ..., 'N65224', 'N65228', 'N65484'], dtype=object),\n",
       " array(['N0', 'N1', 'N2', ..., 'N65228', 'N65280', 'N65484'], dtype=object),\n",
       " array(['N0', 'N1', 'N4', ..., 'N65228', 'N65280', 'N65484'], dtype=object),\n",
       " array(['N0', 'N1', 'N2', ..., 'N65228', 'N65280', 'N65484'], dtype=object),\n",
       " array(['N0', 'N1', 'N2', ..., 'N65228', 'N65472', 'N65484'], dtype=object),\n",
       " array(['N0', 'N1', 'N4', ..., 'N65224', 'N65228', 'N65484'], dtype=object),\n",
       " array(['N0', 'N4', 'N8', ..., 'N65224', 'N65228', 'N65484'], dtype=object),\n",
       " array(['N0', 'N1', 'N2', ..., 'N65330', 'N65331', 'N65484'], dtype=object),\n",
       " array(['N0', 'N1', 'N2', ..., 'N65224', 'N65228', 'N65484'], dtype=object),\n",
       " array(['N0', 'N1', 'N2', ..., 'N65224', 'N65228', 'N65484'], dtype=object),\n",
       " array(['N0', 'N1', 'N2', ..., 'N65224', 'N65228', 'N65484'], dtype=object),\n",
       " array(['N0', 'N4', 'N8', ..., 'N65224', 'N65228', 'N65484'], dtype=object),\n",
       " array(['N0', 'N1', 'N2', ..., 'N65224', 'N65228', 'N65484'], dtype=object),\n",
       " array(['N0', 'N1', 'N2', ..., 'N65330', 'N65331', 'N65484'], dtype=object),\n",
       " array(['N0', 'N4', 'N8', ..., 'N65224', 'N65228', 'N65484'], dtype=object),\n",
       " array(['N0', 'N1', 'N2', ..., 'N65228', 'N65280', 'N65484'], dtype=object),\n",
       " array(['N0', 'N1', 'N2', ..., 'N65224', 'N65228', 'N65484'], dtype=object),\n",
       " array(['N0', 'N4', 'N8', ..., 'N65224', 'N65228', 'N65484'], dtype=object),\n",
       " array(['N8261', 'N8263', 'N8269', ..., 'N65329', 'N65330', 'N65331'],\n",
       "       dtype=object),\n",
       " array(['N0', 'N1', 'N2', ..., 'N65330', 'N65331', 'N65484'], dtype=object),\n",
       " array(['N0', 'N1', 'N4', ..., 'N65224', 'N65228', 'N65484'], dtype=object),\n",
       " array(['N0', 'N1', 'N2', ..., 'N65224', 'N65228', 'N65484'], dtype=object),\n",
       " array(['N0', 'N1', 'N2', ..., 'N65330', 'N65331', 'N65484'], dtype=object),\n",
       " array(['N0', 'N1', 'N2', ..., 'N65330', 'N65331', 'N65484'], dtype=object),\n",
       " array(['N0', 'N1', 'N2', ..., 'N65224', 'N65228', 'N65484'], dtype=object),\n",
       " array(['N0', 'N4', 'N5', ..., 'N65224', 'N65228', 'N65484'], dtype=object),\n",
       " array(['N0', 'N1', 'N2', ..., 'N65228', 'N65412', 'N65484'], dtype=object),\n",
       " array(['N0', 'N1', 'N2', ..., 'N65224', 'N65228', 'N65484'], dtype=object),\n",
       " array(['N0', 'N1', 'N2', ..., 'N65224', 'N65228', 'N65484'], dtype=object),\n",
       " array(['N0', 'N1', 'N2', ..., 'N65228', 'N65280', 'N65484'], dtype=object),\n",
       " array(['N0', 'N1', 'N4', ..., 'N65224', 'N65228', 'N65484'], dtype=object),\n",
       " array(['N0', 'N1', 'N2', ..., 'N65224', 'N65228', 'N65484'], dtype=object),\n",
       " array(['N0', 'N1', 'N4', ..., 'N65224', 'N65228', 'N65484'], dtype=object),\n",
       " array(['N0', 'N4', 'N8', ..., 'N65224', 'N65228', 'N65484'], dtype=object),\n",
       " array(['N0', 'N1', 'N2', ..., 'N65330', 'N65331', 'N65484'], dtype=object),\n",
       " array(['N563', 'N567', 'N571', ..., 'N65329', 'N65330', 'N65331'],\n",
       "       dtype=object),\n",
       " array(['N0', 'N4', 'N8', ..., 'N65224', 'N65228', 'N65484'], dtype=object),\n",
       " array(['N0', 'N1', 'N2', ..., 'N65330', 'N65331', 'N65484'], dtype=object),\n",
       " array(['N0', 'N4', 'N8', ..., 'N65224', 'N65228', 'N65484'], dtype=object),\n",
       " array(['N0', 'N4', 'N8', ..., 'N65224', 'N65228', 'N65484'], dtype=object),\n",
       " array(['N0', 'N4', 'N8', ..., 'N65224', 'N65228', 'N65484'], dtype=object),\n",
       " array(['N0', 'N1', 'N2', ..., 'N65224', 'N65228', 'N65484'], dtype=object),\n",
       " array(['N0', 'N1', 'N2', ..., 'N65224', 'N65228', 'N65484'], dtype=object),\n",
       " array(['N0', 'N1', 'N4', ..., 'N65228', 'N65280', 'N65484'], dtype=object),\n",
       " array(['N0', 'N1', 'N4', ..., 'N65224', 'N65228', 'N65484'], dtype=object),\n",
       " array(['N0', 'N1', 'N2', ..., 'N65224', 'N65228', 'N65484'], dtype=object),\n",
       " array(['N0', 'N1', 'N2', ..., 'N65228', 'N65280', 'N65484'], dtype=object),\n",
       " array(['N0', 'N4', 'N8', ..., 'N65224', 'N65228', 'N65484'], dtype=object),\n",
       " array(['N0', 'N1', 'N2', ..., 'N65224', 'N65228', 'N65484'], dtype=object),\n",
       " array(['N560', 'N561', 'N562', ..., 'N65329', 'N65330', 'N65331'],\n",
       "       dtype=object),\n",
       " array(['N0', 'N1', 'N4', ..., 'N65224', 'N65228', 'N65484'], dtype=object),\n",
       " array(['N0', 'N1', 'N2', ..., 'N65228', 'N65280', 'N65484'], dtype=object),\n",
       " array(['N0', 'N4', 'N8', ..., 'N65228', 'N65280', 'N65484'], dtype=object),\n",
       " array(['N33', 'N34', 'N35', ..., 'N65329', 'N65330', 'N65331'],\n",
       "       dtype=object),\n",
       " array(['N0', 'N1', 'N2', ..., 'N65330', 'N65331', 'N65484'], dtype=object),\n",
       " array(['N0', 'N4', 'N8', ..., 'N65224', 'N65228', 'N65484'], dtype=object),\n",
       " array(['N0', 'N1', 'N2', ..., 'N65224', 'N65228', 'N65484'], dtype=object),\n",
       " array(['N0', 'N1', 'N2', ..., 'N65224', 'N65228', 'N65484'], dtype=object),\n",
       " array(['N0', 'N1', 'N4', ..., 'N65224', 'N65228', 'N65484'], dtype=object),\n",
       " array(['N0', 'N4', 'N8', ..., 'N65224', 'N65228', 'N65484'], dtype=object),\n",
       " array(['N0', 'N1', 'N2', ..., 'N65330', 'N65331', 'N65484'], dtype=object),\n",
       " array(['N8896', 'N8897', 'N8898', ..., 'N65329', 'N65330', 'N65331'],\n",
       "       dtype=object),\n",
       " array(['N0', 'N1', 'N4', ..., 'N65224', 'N65228', 'N65484'], dtype=object),\n",
       " array(['N8261', 'N8263', 'N8269', ..., 'N65329', 'N65330', 'N65331'],\n",
       "       dtype=object),\n",
       " array(['N0', 'N1', 'N2', ..., 'N65224', 'N65228', 'N65484'], dtype=object),\n",
       " array(['N0', 'N4', 'N8', ..., 'N65224', 'N65228', 'N65484'], dtype=object),\n",
       " array(['N0', 'N1', 'N2', ..., 'N65224', 'N65228', 'N65484'], dtype=object),\n",
       " array(['N0', 'N1', 'N2', ..., 'N65224', 'N65228', 'N65484'], dtype=object),\n",
       " array(['N16', 'N17', 'N18', ..., 'N65329', 'N65330', 'N65331'],\n",
       "       dtype=object),\n",
       " array(['N0', 'N1', 'N2', ..., 'N65224', 'N65228', 'N65484'], dtype=object),\n",
       " array(['N0', 'N4', 'N8', ..., 'N65228', 'N65472', 'N65484'], dtype=object),\n",
       " array(['N1', 'N2', 'N3', ..., 'N65329', 'N65330', 'N65331'], dtype=object),\n",
       " array(['N0', 'N1', 'N2', ..., 'N65330', 'N65331', 'N65484'], dtype=object),\n",
       " array(['N0', 'N1', 'N2', ..., 'N65280', 'N65292', 'N65484'], dtype=object),\n",
       " array(['N0', 'N1', 'N2', ..., 'N65224', 'N65228', 'N65484'], dtype=object),\n",
       " array(['N0', 'N1', 'N2', ..., 'N65330', 'N65331', 'N65484'], dtype=object),\n",
       " array(['N0', 'N1', 'N2', ..., 'N65224', 'N65228', 'N65484'], dtype=object),\n",
       " array(['N0', 'N1', 'N2', ..., 'N65224', 'N65228', 'N65484'], dtype=object),\n",
       " array(['N0', 'N1', 'N4', ..., 'N65224', 'N65228', 'N65484'], dtype=object),\n",
       " array(['N0', 'N1', 'N4', ..., 'N65228', 'N65280', 'N65484'], dtype=object),\n",
       " array(['N0', 'N1', 'N2', ..., 'N65224', 'N65228', 'N65484'], dtype=object),\n",
       " array(['N0', 'N1', 'N4', ..., 'N65224', 'N65228', 'N65484'], dtype=object),\n",
       " array(['N0', 'N4', 'N8', ..., 'N65228', 'N65472', 'N65484'], dtype=object),\n",
       " array(['N8834', 'N8835', 'N8837', ..., 'N65329', 'N65330', 'N65331'],\n",
       "       dtype=object),\n",
       " array(['N0', 'N1', 'N2', ..., 'N65330', 'N65331', 'N65484'], dtype=object),\n",
       " array(['N0', 'N4', 'N8', ..., 'N65224', 'N65228', 'N65484'], dtype=object),\n",
       " array(['N0', 'N1', 'N4', ..., 'N65224', 'N65228', 'N65484'], dtype=object),\n",
       " array(['N0', 'N1', 'N2', ..., 'N65224', 'N65228', 'N65484'], dtype=object),\n",
       " array(['N0', 'N1', 'N2', ..., 'N65228', 'N65280', 'N65484'], dtype=object),\n",
       " array(['N691', 'N699', 'N819', ..., 'N65329', 'N65330', 'N65331'],\n",
       "       dtype=object),\n",
       " array(['N0', 'N1', 'N4', ..., 'N65224', 'N65228', 'N65484'], dtype=object),\n",
       " array(['N0', 'N1', 'N2', ..., 'N65224', 'N65228', 'N65484'], dtype=object),\n",
       " array(['N0', 'N1', 'N2', ..., 'N65280', 'N65412', 'N65484'], dtype=object),\n",
       " array(['N0', 'N4', 'N8', ..., 'N65224', 'N65228', 'N65484'], dtype=object),\n",
       " array(['N0', 'N1', 'N2', ..., 'N65228', 'N65280', 'N65484'], dtype=object),\n",
       " array(['N0', 'N1', 'N4', ..., 'N65228', 'N65280', 'N65484'], dtype=object),\n",
       " array(['N547', 'N555', 'N561', ..., 'N65329', 'N65330', 'N65331'],\n",
       "       dtype=object),\n",
       " array(['N0', 'N1', 'N2', ..., 'N65224', 'N65228', 'N65484'], dtype=object),\n",
       " array(['N0', 'N1', 'N4', ..., 'N65224', 'N65228', 'N65484'], dtype=object),\n",
       " array(['N0', 'N1', 'N2', ..., 'N65228', 'N65412', 'N65484'], dtype=object),\n",
       " array(['N0', 'N1', 'N2', ..., 'N65224', 'N65228', 'N65484'], dtype=object),\n",
       " array(['N0', 'N4', 'N8', ..., 'N65224', 'N65228', 'N65484'], dtype=object),\n",
       " array(['N0', 'N1', 'N2', ..., 'N65228', 'N65280', 'N65484'], dtype=object),\n",
       " array(['N0', 'N1', 'N2', ..., 'N65228', 'N65280', 'N65484'], dtype=object),\n",
       " array(['N0', 'N1', 'N4', ..., 'N65224', 'N65228', 'N65484'], dtype=object),\n",
       " array(['N547', 'N555', 'N561', ..., 'N65329', 'N65330', 'N65331'],\n",
       "       dtype=object),\n",
       " array(['N0', 'N1', 'N2', ..., 'N65224', 'N65228', 'N65484'], dtype=object),\n",
       " array(['N0', 'N4', 'N5', ..., 'N65224', 'N65228', 'N65484'], dtype=object),\n",
       " array(['N0', 'N4', 'N8', ..., 'N65224', 'N65228', 'N65484'], dtype=object),\n",
       " array(['N0', 'N1', 'N2', ..., 'N65330', 'N65331', 'N65484'], dtype=object),\n",
       " array(['N0', 'N4', 'N8', ..., 'N65224', 'N65228', 'N65484'], dtype=object),\n",
       " array(['N0', 'N1', 'N2', ..., 'N65224', 'N65228', 'N65484'], dtype=object),\n",
       " array(['N0', 'N1', 'N4', ..., 'N65224', 'N65228', 'N65484'], dtype=object),\n",
       " array(['N0', 'N1', 'N2', ..., 'N65228', 'N65280', 'N65484'], dtype=object),\n",
       " array(['N0', 'N4', 'N8', ..., 'N65224', 'N65228', 'N65484'], dtype=object),\n",
       " array(['N0', 'N1', 'N4', ..., 'N65224', 'N65228', 'N65484'], dtype=object),\n",
       " array(['N560', 'N561', 'N562', ..., 'N65329', 'N65330', 'N65331'],\n",
       "       dtype=object),\n",
       " array(['N0', 'N1', 'N4', ..., 'N65224', 'N65228', 'N65484'], dtype=object),\n",
       " array(['N0', 'N1', 'N2', ..., 'N65228', 'N65472', 'N65484'], dtype=object),\n",
       " array(['N0', 'N1', 'N4', ..., 'N65228', 'N65280', 'N65484'], dtype=object),\n",
       " array(['N0', 'N1', 'N4', ..., 'N65228', 'N65280', 'N65484'], dtype=object),\n",
       " array(['N0', 'N1', 'N2', ..., 'N65224', 'N65228', 'N65484'], dtype=object),\n",
       " array(['N0', 'N4', 'N5', ..., 'N65224', 'N65228', 'N65484'], dtype=object),\n",
       " array(['N0', 'N1', 'N2', ..., 'N65228', 'N65280', 'N65484'], dtype=object),\n",
       " array(['N0', 'N1', 'N2', ..., 'N65224', 'N65228', 'N65484'], dtype=object),\n",
       " array(['N0', 'N4', 'N8', ..., 'N65224', 'N65228', 'N65484'], dtype=object),\n",
       " array(['N1', 'N2', 'N3', ..., 'N65329', 'N65330', 'N65331'], dtype=object),\n",
       " array(['N0', 'N1', 'N4', ..., 'N65228', 'N65280', 'N65484'], dtype=object),\n",
       " array(['N0', 'N1', 'N2', ..., 'N65330', 'N65331', 'N65484'], dtype=object),\n",
       " array(['N0', 'N1', 'N4', ..., 'N65224', 'N65228', 'N65484'], dtype=object),\n",
       " array(['N0', 'N4', 'N8', ..., 'N65224', 'N65228', 'N65484'], dtype=object),\n",
       " array(['N0', 'N1', 'N2', ..., 'N65224', 'N65228', 'N65484'], dtype=object),\n",
       " array(['N0', 'N4', 'N8', ..., 'N65224', 'N65228', 'N65484'], dtype=object),\n",
       " array(['N0', 'N1', 'N2', ..., 'N65228', 'N65280', 'N65484'], dtype=object),\n",
       " array(['N0', 'N1', 'N2', ..., 'N65228', 'N65280', 'N65484'], dtype=object),\n",
       " array(['N0', 'N1', 'N4', ..., 'N65224', 'N65228', 'N65484'], dtype=object),\n",
       " array(['N0', 'N1', 'N2', ..., 'N65224', 'N65228', 'N65484'], dtype=object),\n",
       " array(['N0', 'N4', 'N8', ..., 'N65224', 'N65228', 'N65484'], dtype=object),\n",
       " array(['N0', 'N1', 'N2', ..., 'N65224', 'N65228', 'N65484'], dtype=object),\n",
       " array(['N0', 'N1', 'N2', ..., 'N65330', 'N65331', 'N65484'], dtype=object),\n",
       " array(['N0', 'N1', 'N2', ..., 'N65224', 'N65228', 'N65484'], dtype=object),\n",
       " array(['N0', 'N1', 'N2', ..., 'N65224', 'N65228', 'N65484'], dtype=object),\n",
       " array(['N0', 'N1', 'N2', ..., 'N65224', 'N65228', 'N65484'], dtype=object),\n",
       " array(['N0', 'N1', 'N2', ..., 'N65224', 'N65228', 'N65484'], dtype=object),\n",
       " array(['N34', 'N35', 'N38', ..., 'N65329', 'N65330', 'N65331'],\n",
       "       dtype=object),\n",
       " array(['N0', 'N1', 'N2', ..., 'N65224', 'N65228', 'N65484'], dtype=object),\n",
       " array(['N16', 'N17', 'N18', ..., 'N65329', 'N65330', 'N65331'],\n",
       "       dtype=object),\n",
       " array(['N0', 'N1', 'N4', ..., 'N65224', 'N65228', 'N65484'], dtype=object),\n",
       " array(['N0', 'N1', 'N4', ..., 'N65228', 'N65280', 'N65484'], dtype=object),\n",
       " array(['N0', 'N1', 'N4', ..., 'N65228', 'N65280', 'N65484'], dtype=object),\n",
       " array(['N0', 'N1', 'N2', ..., 'N65224', 'N65228', 'N65484'], dtype=object),\n",
       " array(['N0', 'N1', 'N2', ..., 'N65330', 'N65331', 'N65484'], dtype=object),\n",
       " array(['N0', 'N1', 'N2', ..., 'N65224', 'N65228', 'N65484'], dtype=object),\n",
       " array(['N0', 'N1', 'N2', ..., 'N65224', 'N65228', 'N65484'], dtype=object),\n",
       " array(['N0', 'N1', 'N2', ..., 'N65224', 'N65228', 'N65484'], dtype=object),\n",
       " array(['N0', 'N1', 'N2', ..., 'N65330', 'N65331', 'N65484'], dtype=object),\n",
       " array(['N0', 'N1', 'N2', ..., 'N65224', 'N65228', 'N65484'], dtype=object),\n",
       " array(['N0', 'N4', 'N8', ..., 'N65224', 'N65228', 'N65484'], dtype=object),\n",
       " array(['N0', 'N1', 'N2', ..., 'N65228', 'N65280', 'N65484'], dtype=object),\n",
       " array(['N0', 'N1', 'N2', ..., 'N65224', 'N65228', 'N65484'], dtype=object),\n",
       " array(['N0', 'N1', 'N2', ..., 'N65330', 'N65331', 'N65484'], dtype=object),\n",
       " array(['N0', 'N1', 'N2', ..., 'N65224', 'N65228', 'N65484'], dtype=object),\n",
       " array(['N8835', 'N8839', 'N8843', ..., 'N65329', 'N65330', 'N65331'],\n",
       "       dtype=object),\n",
       " array(['N0', 'N1', 'N2', ..., 'N65224', 'N65228', 'N65484'], dtype=object),\n",
       " array(['N0', 'N1', 'N2', ..., 'N65224', 'N65228', 'N65484'], dtype=object),\n",
       " array(['N0', 'N1', 'N2', ..., 'N65228', 'N65280', 'N65484'], dtype=object),\n",
       " array(['N0', 'N1', 'N2', ..., 'N65224', 'N65228', 'N65484'], dtype=object),\n",
       " array(['N0', 'N1', 'N2', ..., 'N65224', 'N65228', 'N65484'], dtype=object),\n",
       " array(['N0', 'N1', 'N4', ..., 'N65228', 'N65280', 'N65484'], dtype=object),\n",
       " array(['N0', 'N4', 'N8', ..., 'N65224', 'N65228', 'N65484'], dtype=object),\n",
       " array(['N48', 'N49', 'N50', ..., 'N65329', 'N65330', 'N65331'],\n",
       "       dtype=object),\n",
       " array(['N48', 'N49', 'N50', ..., 'N65329', 'N65330', 'N65331'],\n",
       "       dtype=object),\n",
       " array(['N0', 'N1', 'N2', ..., 'N65330', 'N65331', 'N65484'], dtype=object),\n",
       " array(['N0', 'N1', 'N2', ..., 'N65330', 'N65331', 'N65484'], dtype=object),\n",
       " array(['N0', 'N1', 'N2', ..., 'N65224', 'N65228', 'N65484'], dtype=object),\n",
       " array(['N0', 'N4', 'N8', ..., 'N65228', 'N65280', 'N65484'], dtype=object),\n",
       " array(['N0', 'N1', 'N2', ..., 'N65228', 'N65412', 'N65484'], dtype=object),\n",
       " array(['N0', 'N4', 'N8', ..., 'N65224', 'N65228', 'N65484'], dtype=object),\n",
       " array(['N0', 'N1', 'N2', ..., 'N65224', 'N65228', 'N65484'], dtype=object),\n",
       " array(['N0', 'N1', 'N2', ..., 'N65224', 'N65228', 'N65484'], dtype=object),\n",
       " array(['N291', 'N295', 'N299', ..., 'N65329', 'N65330', 'N65331'],\n",
       "       dtype=object),\n",
       " array(['N0', 'N1', 'N2', ..., 'N65330', 'N65331', 'N65484'], dtype=object),\n",
       " array(['N0', 'N1', 'N2', ..., 'N65228', 'N65280', 'N65484'], dtype=object),\n",
       " array(['N0', 'N4', 'N8', ..., 'N65224', 'N65228', 'N65484'], dtype=object),\n",
       " array(['N0', 'N1', 'N4', ..., 'N65224', 'N65228', 'N65484'], dtype=object),\n",
       " array(['N0', 'N1', 'N2', ..., 'N65224', 'N65228', 'N65484'], dtype=object)]"
      ]
     },
     "execution_count": 110,
     "metadata": {},
     "output_type": "execute_result"
    }
   ],
   "source": [
    "sets"
   ]
  },
  {
   "cell_type": "code",
   "execution_count": null,
   "metadata": {},
   "outputs": [],
   "source": []
  },
  {
   "cell_type": "code",
   "execution_count": 17,
   "metadata": {},
   "outputs": [],
   "source": [
    "dfs = [pd.read_csv(file, index_col=0, names=columns2).tail(1) for file in files]"
   ]
  },
  {
   "cell_type": "code",
   "execution_count": 18,
   "metadata": {},
   "outputs": [],
   "source": [
    "temp = pd.concat(dfs)"
   ]
  },
  {
   "cell_type": "code",
   "execution_count": 19,
   "metadata": {},
   "outputs": [],
   "source": [
    "player_cols = [f\"p{i+1}\" for i in range(16)]"
   ]
  },
  {
   "cell_type": "code",
   "execution_count": 21,
   "metadata": {},
   "outputs": [
    {
     "data": {
      "text/html": [
       "<div>\n",
       "<style scoped>\n",
       "    .dataframe tbody tr th:only-of-type {\n",
       "        vertical-align: middle;\n",
       "    }\n",
       "\n",
       "    .dataframe tbody tr th {\n",
       "        vertical-align: top;\n",
       "    }\n",
       "\n",
       "    .dataframe thead th {\n",
       "        text-align: right;\n",
       "    }\n",
       "</style>\n",
       "<table border=\"1\" class=\"dataframe\">\n",
       "  <thead>\n",
       "    <tr style=\"text-align: right;\">\n",
       "      <th></th>\n",
       "      <th></th>\n",
       "      <th>p1</th>\n",
       "      <th>p2</th>\n",
       "      <th>p3</th>\n",
       "      <th>p4</th>\n",
       "      <th>p5</th>\n",
       "      <th>p6</th>\n",
       "      <th>p7</th>\n",
       "      <th>p8</th>\n",
       "      <th>p9</th>\n",
       "      <th>p10</th>\n",
       "      <th>p11</th>\n",
       "      <th>p12</th>\n",
       "      <th>p13</th>\n",
       "      <th>p14</th>\n",
       "      <th>p15</th>\n",
       "      <th>p16</th>\n",
       "    </tr>\n",
       "  </thead>\n",
       "  <tbody>\n",
       "    <tr>\n",
       "      <th>0</th>\n",
       "      <td>65535</td>\n",
       "      <td>1</td>\n",
       "      <td>0.05656</td>\n",
       "      <td>1</td>\n",
       "      <td>0.05656</td>\n",
       "      <td>0.61041</td>\n",
       "      <td>0.56342</td>\n",
       "      <td>0.61041</td>\n",
       "      <td>0.56342</td>\n",
       "      <td>1</td>\n",
       "      <td>0.05656</td>\n",
       "      <td>1</td>\n",
       "      <td>0.05656</td>\n",
       "      <td>0.61041</td>\n",
       "      <td>0.56342</td>\n",
       "      <td>0.61041</td>\n",
       "      <td>0.56342</td>\n",
       "    </tr>\n",
       "    <tr>\n",
       "      <th>1</th>\n",
       "      <td>65535</td>\n",
       "      <td>1</td>\n",
       "      <td>0.34614</td>\n",
       "      <td>1</td>\n",
       "      <td>0.34614</td>\n",
       "      <td>0.14481</td>\n",
       "      <td>0.65234</td>\n",
       "      <td>0.14481</td>\n",
       "      <td>0.65234</td>\n",
       "      <td>1</td>\n",
       "      <td>0.34614</td>\n",
       "      <td>1</td>\n",
       "      <td>0.34614</td>\n",
       "      <td>0.14481</td>\n",
       "      <td>0.65234</td>\n",
       "      <td>0.14481</td>\n",
       "      <td>0.65234</td>\n",
       "    </tr>\n",
       "    <tr>\n",
       "      <th>2</th>\n",
       "      <td>65535</td>\n",
       "      <td>1</td>\n",
       "      <td>0.83210</td>\n",
       "      <td>1</td>\n",
       "      <td>0.83210</td>\n",
       "      <td>0.98703</td>\n",
       "      <td>0.48692</td>\n",
       "      <td>0.98703</td>\n",
       "      <td>0.48692</td>\n",
       "      <td>1</td>\n",
       "      <td>0.83210</td>\n",
       "      <td>1</td>\n",
       "      <td>0.83210</td>\n",
       "      <td>0.98703</td>\n",
       "      <td>0.48692</td>\n",
       "      <td>0.98703</td>\n",
       "      <td>0.48692</td>\n",
       "    </tr>\n",
       "    <tr>\n",
       "      <th>3</th>\n",
       "      <td>65535</td>\n",
       "      <td>1</td>\n",
       "      <td>0.11253</td>\n",
       "      <td>1</td>\n",
       "      <td>0.11253</td>\n",
       "      <td>0.10030</td>\n",
       "      <td>0.07621</td>\n",
       "      <td>0.10030</td>\n",
       "      <td>0.07621</td>\n",
       "      <td>1</td>\n",
       "      <td>0.11253</td>\n",
       "      <td>1</td>\n",
       "      <td>0.11253</td>\n",
       "      <td>0.10030</td>\n",
       "      <td>0.07621</td>\n",
       "      <td>0.10030</td>\n",
       "      <td>0.07621</td>\n",
       "    </tr>\n",
       "    <tr>\n",
       "      <th>4</th>\n",
       "      <td>65535</td>\n",
       "      <td>1</td>\n",
       "      <td>0.28104</td>\n",
       "      <td>1</td>\n",
       "      <td>0.28104</td>\n",
       "      <td>0.55079</td>\n",
       "      <td>0.81089</td>\n",
       "      <td>0.55079</td>\n",
       "      <td>0.81089</td>\n",
       "      <td>1</td>\n",
       "      <td>0.28104</td>\n",
       "      <td>1</td>\n",
       "      <td>0.28104</td>\n",
       "      <td>0.55079</td>\n",
       "      <td>0.81089</td>\n",
       "      <td>0.55079</td>\n",
       "      <td>0.81089</td>\n",
       "    </tr>\n",
       "    <tr>\n",
       "      <th>...</th>\n",
       "      <td>...</td>\n",
       "      <td>...</td>\n",
       "      <td>...</td>\n",
       "      <td>...</td>\n",
       "      <td>...</td>\n",
       "      <td>...</td>\n",
       "      <td>...</td>\n",
       "      <td>...</td>\n",
       "      <td>...</td>\n",
       "      <td>...</td>\n",
       "      <td>...</td>\n",
       "      <td>...</td>\n",
       "      <td>...</td>\n",
       "      <td>...</td>\n",
       "      <td>...</td>\n",
       "      <td>...</td>\n",
       "      <td>...</td>\n",
       "    </tr>\n",
       "    <tr>\n",
       "      <th>395</th>\n",
       "      <td>65535</td>\n",
       "      <td>1</td>\n",
       "      <td>0.86875</td>\n",
       "      <td>1</td>\n",
       "      <td>0.86875</td>\n",
       "      <td>0.92588</td>\n",
       "      <td>0.48841</td>\n",
       "      <td>0.92588</td>\n",
       "      <td>0.48841</td>\n",
       "      <td>1</td>\n",
       "      <td>0.86875</td>\n",
       "      <td>1</td>\n",
       "      <td>0.86875</td>\n",
       "      <td>0.92588</td>\n",
       "      <td>0.48841</td>\n",
       "      <td>0.92588</td>\n",
       "      <td>0.48841</td>\n",
       "    </tr>\n",
       "    <tr>\n",
       "      <th>396</th>\n",
       "      <td>65535</td>\n",
       "      <td>1</td>\n",
       "      <td>0.82504</td>\n",
       "      <td>1</td>\n",
       "      <td>0.82504</td>\n",
       "      <td>0.34164</td>\n",
       "      <td>0.73964</td>\n",
       "      <td>0.34164</td>\n",
       "      <td>0.73964</td>\n",
       "      <td>1</td>\n",
       "      <td>0.82504</td>\n",
       "      <td>1</td>\n",
       "      <td>0.82504</td>\n",
       "      <td>0.34164</td>\n",
       "      <td>0.73964</td>\n",
       "      <td>0.34164</td>\n",
       "      <td>0.73964</td>\n",
       "    </tr>\n",
       "    <tr>\n",
       "      <th>397</th>\n",
       "      <td>65535</td>\n",
       "      <td>1</td>\n",
       "      <td>0.08219</td>\n",
       "      <td>1</td>\n",
       "      <td>0.08219</td>\n",
       "      <td>0.05370</td>\n",
       "      <td>0.46565</td>\n",
       "      <td>0.05370</td>\n",
       "      <td>0.46565</td>\n",
       "      <td>1</td>\n",
       "      <td>0.08219</td>\n",
       "      <td>1</td>\n",
       "      <td>0.08219</td>\n",
       "      <td>0.05370</td>\n",
       "      <td>0.46565</td>\n",
       "      <td>0.05370</td>\n",
       "      <td>0.46565</td>\n",
       "    </tr>\n",
       "    <tr>\n",
       "      <th>398</th>\n",
       "      <td>65535</td>\n",
       "      <td>1</td>\n",
       "      <td>0.47409</td>\n",
       "      <td>1</td>\n",
       "      <td>0.47409</td>\n",
       "      <td>0.44826</td>\n",
       "      <td>0.29268</td>\n",
       "      <td>0.44826</td>\n",
       "      <td>0.29268</td>\n",
       "      <td>1</td>\n",
       "      <td>0.47409</td>\n",
       "      <td>1</td>\n",
       "      <td>0.47409</td>\n",
       "      <td>0.44826</td>\n",
       "      <td>0.29268</td>\n",
       "      <td>0.44826</td>\n",
       "      <td>0.29268</td>\n",
       "    </tr>\n",
       "    <tr>\n",
       "      <th>399</th>\n",
       "      <td>65535</td>\n",
       "      <td>1</td>\n",
       "      <td>0.63224</td>\n",
       "      <td>1</td>\n",
       "      <td>0.63224</td>\n",
       "      <td>0.80429</td>\n",
       "      <td>0.76414</td>\n",
       "      <td>0.80429</td>\n",
       "      <td>0.76414</td>\n",
       "      <td>1</td>\n",
       "      <td>0.63224</td>\n",
       "      <td>1</td>\n",
       "      <td>0.63224</td>\n",
       "      <td>0.80429</td>\n",
       "      <td>0.76414</td>\n",
       "      <td>0.80429</td>\n",
       "      <td>0.76414</td>\n",
       "    </tr>\n",
       "  </tbody>\n",
       "</table>\n",
       "<p>400 rows × 17 columns</p>\n",
       "</div>"
      ],
      "text/plain": [
       "            p1       p2  p3       p4       p5       p6       p7       p8  p9  \\\n",
       "0    65535   1  0.05656   1  0.05656  0.61041  0.56342  0.61041  0.56342   1   \n",
       "1    65535   1  0.34614   1  0.34614  0.14481  0.65234  0.14481  0.65234   1   \n",
       "2    65535   1  0.83210   1  0.83210  0.98703  0.48692  0.98703  0.48692   1   \n",
       "3    65535   1  0.11253   1  0.11253  0.10030  0.07621  0.10030  0.07621   1   \n",
       "4    65535   1  0.28104   1  0.28104  0.55079  0.81089  0.55079  0.81089   1   \n",
       "..     ...  ..      ...  ..      ...      ...      ...      ...      ...  ..   \n",
       "395  65535   1  0.86875   1  0.86875  0.92588  0.48841  0.92588  0.48841   1   \n",
       "396  65535   1  0.82504   1  0.82504  0.34164  0.73964  0.34164  0.73964   1   \n",
       "397  65535   1  0.08219   1  0.08219  0.05370  0.46565  0.05370  0.46565   1   \n",
       "398  65535   1  0.47409   1  0.47409  0.44826  0.29268  0.44826  0.29268   1   \n",
       "399  65535   1  0.63224   1  0.63224  0.80429  0.76414  0.80429  0.76414   1   \n",
       "\n",
       "         p10  p11      p12      p13      p14      p15      p16  \n",
       "0    0.05656    1  0.05656  0.61041  0.56342  0.61041  0.56342  \n",
       "1    0.34614    1  0.34614  0.14481  0.65234  0.14481  0.65234  \n",
       "2    0.83210    1  0.83210  0.98703  0.48692  0.98703  0.48692  \n",
       "3    0.11253    1  0.11253  0.10030  0.07621  0.10030  0.07621  \n",
       "4    0.28104    1  0.28104  0.55079  0.81089  0.55079  0.81089  \n",
       "..       ...  ...      ...      ...      ...      ...      ...  \n",
       "395  0.86875    1  0.86875  0.92588  0.48841  0.92588  0.48841  \n",
       "396  0.82504    1  0.82504  0.34164  0.73964  0.34164  0.73964  \n",
       "397  0.08219    1  0.08219  0.05370  0.46565  0.05370  0.46565  \n",
       "398  0.47409    1  0.47409  0.44826  0.29268  0.44826  0.29268  \n",
       "399  0.63224    1  0.63224  0.80429  0.76414  0.80429  0.76414  \n",
       "\n",
       "[400 rows x 17 columns]"
      ]
     },
     "execution_count": 21,
     "metadata": {},
     "output_type": "execute_result"
    }
   ],
   "source": [
    "temp[player_cols].drop_duplicates().reset_index()"
   ]
  },
  {
   "cell_type": "code",
   "execution_count": null,
   "metadata": {},
   "outputs": [],
   "source": [
    "for coplayer in "
   ]
  },
  {
   "cell_type": "code",
   "execution_count": 24,
   "metadata": {},
   "outputs": [],
   "source": [
    "counter_dic = Counter(flat_list)"
   ]
  },
  {
   "cell_type": "code",
   "execution_count": 25,
   "metadata": {},
   "outputs": [
    {
     "data": {
      "text/plain": [
       "'N0'"
      ]
     },
     "execution_count": 25,
     "metadata": {},
     "output_type": "execute_result"
    }
   ],
   "source": [
    "list(counter_dic.keys())[list(counter_dic.values()).index(205)]"
   ]
  },
  {
   "cell_type": "code",
   "execution_count": 142,
   "metadata": {},
   "outputs": [],
   "source": [
    "to_check = []\n",
    "for key, value in zip(counter_dic.keys(), counter_dic.values()):\n",
    "    if value == 182:\n",
    "        to_check.append(key)"
   ]
  },
  {
   "cell_type": "code",
   "execution_count": 143,
   "metadata": {},
   "outputs": [
    {
     "data": {
      "text/plain": [
       "170"
      ]
     },
     "execution_count": 143,
     "metadata": {},
     "output_type": "execute_result"
    }
   ],
   "source": [
    "len(to_check)"
   ]
  },
  {
   "cell_type": "code",
   "execution_count": 144,
   "metadata": {},
   "outputs": [
    {
     "data": {
      "text/plain": [
       "13"
      ]
     },
     "execution_count": 144,
     "metadata": {},
     "output_type": "execute_result"
    }
   ],
   "source": [
    "int(to_check[0].split(\"N\")[-1])"
   ]
  },
  {
   "cell_type": "code",
   "execution_count": 35,
   "metadata": {},
   "outputs": [],
   "source": [
    "dimensions = 2\n",
    "\n",
    "deterministic_strategies = list(\n",
    "    itertools.product([0, 1], repeat=2 ** (2 * dimensions))\n",
    ")"
   ]
  },
  {
   "cell_type": "code",
   "execution_count": 113,
   "metadata": {},
   "outputs": [],
   "source": [
    "coplayer = deterministic_strategies[8261]"
   ]
  },
  {
   "cell_type": "code",
   "execution_count": 116,
   "metadata": {},
   "outputs": [
    {
     "data": {
      "text/plain": [
       "(0, 0, 1, 0, 0, 0, 0, 0, 0, 1, 0, 0, 0, 1, 0, 1)"
      ]
     },
     "execution_count": 116,
     "metadata": {},
     "output_type": "execute_result"
    }
   ],
   "source": [
    "coplayer"
   ]
  },
  {
   "cell_type": "code",
   "execution_count": 118,
   "metadata": {},
   "outputs": [],
   "source": [
    "p_1, p_2, p_3, p_4 = sym.symbols(\"p_1, p_2, p_3, p_4\")\n",
    "\n",
    "p_1 = 1\n",
    "\n",
    "b, c = sym.symbols(\"b, c\")\n",
    "\n",
    "M = calculate_M_memory_two(coplayer, np.random.random(16))\n",
    "\n",
    "ss = invariant_distribution(M)\n",
    "\n",
    "\n",
    "# score = (ss @ sym.Matrix([b - c, -c, b, 0] * 4))[0].factor()\n",
    "\n",
    "# score"
   ]
  },
  {
   "cell_type": "code",
   "execution_count": 120,
   "metadata": {},
   "outputs": [],
   "source": [
    "p_1, p_2, p_3, p_4 = sym.symbols(\"p_1, p_2, p_3, p_4\")\n",
    "\n",
    "p_1 = 1\n",
    "\n",
    "b, c = sym.symbols(\"b, c\")\n",
    "\n",
    "M = calculate_M_memory_two(coplayer, [p_1, p_2, p_1, p_2, p_3, p_4, p_3, p_4,\n",
    "                                      p_1, p_2, p_1, p_2, p_3, p_4, p_3, p_4], analytical=True)\n",
    "\n",
    "ss = invariant_distribution_analytically(M)\n",
    "\n",
    "\n",
    "# score = (ss @ sym.Matrix([b - c, -c, b, 0] * 4))[0].factor()"
   ]
  },
  {
   "cell_type": "code",
   "execution_count": 124,
   "metadata": {},
   "outputs": [],
   "source": [
    "score = (ss @ sym.Matrix([2 - 1, -1, 2, 0] * 4))[0].factor()"
   ]
  },
  {
   "cell_type": "code",
   "execution_count": 129,
   "metadata": {},
   "outputs": [
    {
     "data": {
      "text/plain": [
       "(2*p_2**2*p_3**2*p_4 - 2*p_2**2*p_3*p_4 - 2*p_2*p_3**2*p_4**2 - 2*p_2*p_3**2*p_4 + 3*p_2*p_3*p_4**2 + 2*p_2*p_3*p_4 + p_2*p_3 - 2*p_2*p_4**2 + 2*p_2*p_4 - 2*p_2 + 2*p_3**2*p_4**2 + p_3*p_4**3 - 8*p_3*p_4**2 + 7*p_3*p_4 - 2*p_3 - p_4**3 + 4*p_4**2 - 3*p_4)/(p_2**2*p_3**2 - p_2**2*p_3 - p_2*p_3**2*p_4 - p_2*p_3**2 + p_2*p_3*p_4**2 - p_2*p_3*p_4 + 3*p_2*p_3 - p_2 + p_3**2*p_4 - p_3*p_4**3 + 3*p_3*p_4**2 - 5*p_3*p_4 + 2*p_3 + p_4**3 - 6*p_4**2 + 10*p_4 - 5)"
      ]
     },
     "execution_count": 129,
     "metadata": {},
     "output_type": "execute_result"
    }
   ],
   "source": [
    "sym.init_printing(False)\n",
    "\n",
    "score"
   ]
  },
  {
   "cell_type": "code",
   "execution_count": 125,
   "metadata": {},
   "outputs": [
    {
     "data": {
      "text/latex": [
       "$\\displaystyle \\frac{2 p_{2}^{2} p_{3}^{2} p_{4} - 2 p_{2}^{2} p_{3} p_{4} - 2 p_{2} p_{3}^{2} p_{4}^{2} - 2 p_{2} p_{3}^{2} p_{4} + 3 p_{2} p_{3} p_{4}^{2} + 2 p_{2} p_{3} p_{4} + p_{2} p_{3} - 2 p_{2} p_{4}^{2} + 2 p_{2} p_{4} - 2 p_{2} + 2 p_{3}^{2} p_{4}^{2} + p_{3} p_{4}^{3} - 8 p_{3} p_{4}^{2} + 7 p_{3} p_{4} - 2 p_{3} - p_{4}^{3} + 4 p_{4}^{2} - 3 p_{4}}{p_{2}^{2} p_{3}^{2} - p_{2}^{2} p_{3} - p_{2} p_{3}^{2} p_{4} - p_{2} p_{3}^{2} + p_{2} p_{3} p_{4}^{2} - p_{2} p_{3} p_{4} + 3 p_{2} p_{3} - p_{2} + p_{3}^{2} p_{4} - p_{3} p_{4}^{3} + 3 p_{3} p_{4}^{2} - 5 p_{3} p_{4} + 2 p_{3} + p_{4}^{3} - 6 p_{4}^{2} + 10 p_{4} - 5}$"
      ],
      "text/plain": [
       "(2*p_2**2*p_3**2*p_4 - 2*p_2**2*p_3*p_4 - 2*p_2*p_3**2*p_4**2 - 2*p_2*p_3**2*p_4 + 3*p_2*p_3*p_4**2 + 2*p_2*p_3*p_4 + p_2*p_3 - 2*p_2*p_4**2 + 2*p_2*p_4 - 2*p_2 + 2*p_3**2*p_4**2 + p_3*p_4**3 - 8*p_3*p_4**2 + 7*p_3*p_4 - 2*p_3 - p_4**3 + 4*p_4**2 - 3*p_4)/(p_2**2*p_3**2 - p_2**2*p_3 - p_2*p_3**2*p_4 - p_2*p_3**2 + p_2*p_3*p_4**2 - p_2*p_3*p_4 + 3*p_2*p_3 - p_2 + p_3**2*p_4 - p_3*p_4**3 + 3*p_3*p_4**2 - 5*p_3*p_4 + 2*p_3 + p_4**3 - 6*p_4**2 + 10*p_4 - 5)"
      ]
     },
     "execution_count": 125,
     "metadata": {},
     "output_type": "execute_result"
    }
   ],
   "source": [
    "score.factor()"
   ]
  },
  {
   "cell_type": "code",
   "execution_count": 107,
   "metadata": {},
   "outputs": [],
   "source": [
    "size = M.shape[1]\n",
    "pi = sym.symbols(f\"b_1:{size + 1}\")"
   ]
  },
  {
   "cell_type": "code",
   "execution_count": 108,
   "metadata": {},
   "outputs": [],
   "source": [
    "ss = sym.solve(\n",
    "    [sum(pi) - 1]\n",
    "    + [a - b for a, b in zip(M.transpose() * sym.Matrix(pi), pi)],\n",
    "    pi,\n",
    ")"
   ]
  },
  {
   "cell_type": "code",
   "execution_count": 109,
   "metadata": {},
   "outputs": [
    {
     "data": {
      "text/plain": [
       "{b_16: 0,\n",
       " b_15: 0,\n",
       " b_13: -b_14*p_2/(p_2 - 1),\n",
       " b_12: 0,\n",
       " b_11: 0,\n",
       " b_10: -b_14*p_3/(p_3 - 1),\n",
       " b_9: b_14*p_2*p_3/(p_2*p_3 - p_2 - p_3 + 1),\n",
       " b_8: b_14,\n",
       " b_7: -b_14*p_3/(p_3 - 1),\n",
       " b_6: 0,\n",
       " b_4: -b_14*p_2/(p_2 - 1),\n",
       " b_3: b_14*p_2*p_3/(p_2*p_3 - p_2 - p_3 + 1),\n",
       " b_2: 0,\n",
       " b_5: 0,\n",
       " b_1: (-2*b_14 + p_2*p_3 - p_2 - p_3 + 1)/(p_2*p_3 - p_2 - p_3 + 1)}"
      ]
     },
     "execution_count": 109,
     "metadata": {},
     "output_type": "execute_result"
    }
   ],
   "source": [
    "ss"
   ]
  },
  {
   "cell_type": "code",
   "execution_count": 52,
   "metadata": {},
   "outputs": [
    {
     "ename": "KeyError",
     "evalue": "b_14",
     "output_type": "error",
     "traceback": [
      "\u001b[0;31m---------------------------------------------------------------------------\u001b[0m",
      "\u001b[0;31mKeyError\u001b[0m                                  Traceback (most recent call last)",
      "\u001b[0;32m<ipython-input-52-407a25208801>\u001b[0m in \u001b[0;36m<module>\u001b[0;34m\u001b[0m\n\u001b[0;32m----> 1\u001b[0;31m \u001b[0mss\u001b[0m\u001b[0;34m[\u001b[0m\u001b[0mpi\u001b[0m\u001b[0;34m[\u001b[0m\u001b[0;36m13\u001b[0m\u001b[0;34m]\u001b[0m\u001b[0;34m]\u001b[0m\u001b[0;34m\u001b[0m\u001b[0;34m\u001b[0m\u001b[0m\n\u001b[0m",
      "\u001b[0;31mKeyError\u001b[0m: b_14"
     ]
    }
   ],
   "source": [
    "ss[pi[13]]"
   ]
  },
  {
   "cell_type": "code",
   "execution_count": 55,
   "metadata": {},
   "outputs": [
    {
     "ename": "TypeError",
     "evalue": "\nData type not understood; expecting list of lists or lists of values.",
     "output_type": "error",
     "traceback": [
      "\u001b[0;31m---------------------------------------------------------------------------\u001b[0m",
      "\u001b[0;31mTypeError\u001b[0m                                 Traceback (most recent call last)",
      "\u001b[0;32m<ipython-input-55-1879250b2763>\u001b[0m in \u001b[0;36m<module>\u001b[0;34m\u001b[0m\n\u001b[1;32m      1\u001b[0m sym.solve(\n\u001b[1;32m      2\u001b[0m         \u001b[0;34m[\u001b[0m\u001b[0msum\u001b[0m\u001b[0;34m(\u001b[0m\u001b[0mpi\u001b[0m\u001b[0;34m)\u001b[0m \u001b[0;34m-\u001b[0m \u001b[0;36m1\u001b[0m\u001b[0;34m]\u001b[0m\u001b[0;34m\u001b[0m\u001b[0;34m\u001b[0m\u001b[0m\n\u001b[0;32m----> 3\u001b[0;31m         + [a - b for a, b in zip(M.transpose() * sym.Matrix(pi[13]), pi[13])], pi[13])\n\u001b[0m",
      "\u001b[0;32m~/opt/anaconda3/lib/python3.8/site-packages/sympy/matrices/dense.py\u001b[0m in \u001b[0;36m__new__\u001b[0;34m(cls, *args, **kwargs)\u001b[0m\n\u001b[1;32m    294\u001b[0m \u001b[0;34m\u001b[0m\u001b[0m\n\u001b[1;32m    295\u001b[0m     \u001b[0;32mdef\u001b[0m \u001b[0m__new__\u001b[0m\u001b[0;34m(\u001b[0m\u001b[0mcls\u001b[0m\u001b[0;34m,\u001b[0m \u001b[0;34m*\u001b[0m\u001b[0margs\u001b[0m\u001b[0;34m,\u001b[0m \u001b[0;34m**\u001b[0m\u001b[0mkwargs\u001b[0m\u001b[0;34m)\u001b[0m\u001b[0;34m:\u001b[0m\u001b[0;34m\u001b[0m\u001b[0;34m\u001b[0m\u001b[0m\n\u001b[0;32m--> 296\u001b[0;31m         \u001b[0;32mreturn\u001b[0m \u001b[0mcls\u001b[0m\u001b[0;34m.\u001b[0m\u001b[0m_new\u001b[0m\u001b[0;34m(\u001b[0m\u001b[0;34m*\u001b[0m\u001b[0margs\u001b[0m\u001b[0;34m,\u001b[0m \u001b[0;34m**\u001b[0m\u001b[0mkwargs\u001b[0m\u001b[0;34m)\u001b[0m\u001b[0;34m\u001b[0m\u001b[0;34m\u001b[0m\u001b[0m\n\u001b[0m\u001b[1;32m    297\u001b[0m \u001b[0;34m\u001b[0m\u001b[0m\n\u001b[1;32m    298\u001b[0m     \u001b[0;34m@\u001b[0m\u001b[0mclassmethod\u001b[0m\u001b[0;34m\u001b[0m\u001b[0;34m\u001b[0m\u001b[0m\n",
      "\u001b[0;32m~/opt/anaconda3/lib/python3.8/site-packages/sympy/matrices/dense.py\u001b[0m in \u001b[0;36m_new\u001b[0;34m(cls, *args, **kwargs)\u001b[0m\n\u001b[1;32m    306\u001b[0m             \u001b[0mrows\u001b[0m\u001b[0;34m,\u001b[0m \u001b[0mcols\u001b[0m\u001b[0;34m,\u001b[0m \u001b[0mflat_list\u001b[0m \u001b[0;34m=\u001b[0m \u001b[0margs\u001b[0m\u001b[0;34m\u001b[0m\u001b[0;34m\u001b[0m\u001b[0m\n\u001b[1;32m    307\u001b[0m         \u001b[0;32melse\u001b[0m\u001b[0;34m:\u001b[0m\u001b[0;34m\u001b[0m\u001b[0;34m\u001b[0m\u001b[0m\n\u001b[0;32m--> 308\u001b[0;31m             \u001b[0mrows\u001b[0m\u001b[0;34m,\u001b[0m \u001b[0mcols\u001b[0m\u001b[0;34m,\u001b[0m \u001b[0mflat_list\u001b[0m \u001b[0;34m=\u001b[0m \u001b[0mcls\u001b[0m\u001b[0;34m.\u001b[0m\u001b[0m_handle_creation_inputs\u001b[0m\u001b[0;34m(\u001b[0m\u001b[0;34m*\u001b[0m\u001b[0margs\u001b[0m\u001b[0;34m,\u001b[0m \u001b[0;34m**\u001b[0m\u001b[0mkwargs\u001b[0m\u001b[0;34m)\u001b[0m\u001b[0;34m\u001b[0m\u001b[0;34m\u001b[0m\u001b[0m\n\u001b[0m\u001b[1;32m    309\u001b[0m             \u001b[0mflat_list\u001b[0m \u001b[0;34m=\u001b[0m \u001b[0mlist\u001b[0m\u001b[0;34m(\u001b[0m\u001b[0mflat_list\u001b[0m\u001b[0;34m)\u001b[0m \u001b[0;31m# create a shallow copy\u001b[0m\u001b[0;34m\u001b[0m\u001b[0;34m\u001b[0m\u001b[0m\n\u001b[1;32m    310\u001b[0m         \u001b[0mself\u001b[0m \u001b[0;34m=\u001b[0m \u001b[0mobject\u001b[0m\u001b[0;34m.\u001b[0m\u001b[0m__new__\u001b[0m\u001b[0;34m(\u001b[0m\u001b[0mcls\u001b[0m\u001b[0;34m)\u001b[0m\u001b[0;34m\u001b[0m\u001b[0;34m\u001b[0m\u001b[0m\n",
      "\u001b[0;32m~/opt/anaconda3/lib/python3.8/site-packages/sympy/matrices/matrices.py\u001b[0m in \u001b[0;36m_handle_creation_inputs\u001b[0;34m(cls, *args, **kwargs)\u001b[0m\n\u001b[1;32m   1128\u001b[0m \u001b[0;34m\u001b[0m\u001b[0m\n\u001b[1;32m   1129\u001b[0m         \u001b[0;32mif\u001b[0m \u001b[0mflat_list\u001b[0m \u001b[0;32mis\u001b[0m \u001b[0;32mNone\u001b[0m\u001b[0;34m:\u001b[0m\u001b[0;34m\u001b[0m\u001b[0;34m\u001b[0m\u001b[0m\n\u001b[0;32m-> 1130\u001b[0;31m             raise TypeError(filldedent('''\n\u001b[0m\u001b[1;32m   1131\u001b[0m                 \u001b[0mData\u001b[0m \u001b[0mtype\u001b[0m \u001b[0;32mnot\u001b[0m \u001b[0munderstood\u001b[0m\u001b[0;34m;\u001b[0m \u001b[0mexpecting\u001b[0m \u001b[0mlist\u001b[0m \u001b[0mof\u001b[0m \u001b[0mlists\u001b[0m\u001b[0;34m\u001b[0m\u001b[0;34m\u001b[0m\u001b[0m\n\u001b[1;32m   1132\u001b[0m                 or lists of values.'''))\n",
      "\u001b[0;31mTypeError\u001b[0m: \nData type not understood; expecting list of lists or lists of values."
     ]
    }
   ],
   "source": [
    "sym.solve(\n",
    "        [sum(pi) - 1]\n",
    "        + [a - b for a, b in zip(M.transpose() * sym.Matrix(pi[13]), pi[13])], pi[13])"
   ]
  },
  {
   "cell_type": "code",
   "execution_count": null,
   "metadata": {},
   "outputs": [],
   "source": [
    "\n",
    "    ss = sym.solve(\n",
    "        [sum(pi) - 1]\n",
    "        + [a - b for a, b in zip(M.transpose() * sym.Matrix(pi), pi)],\n",
    "        pi,\n",
    "    )\n",
    "\n",
    "    v_vector = sym.Matrix(\n",
    "        [\n",
    "            [ss[p] for p in pi],\n",
    "        ]\n",
    "    )\n",
    "\n",
    "    return v_vector"
   ]
  },
  {
   "cell_type": "code",
   "execution_count": 42,
   "metadata": {},
   "outputs": [
    {
     "ename": "KeyError",
     "evalue": "b_14",
     "output_type": "error",
     "traceback": [
      "\u001b[0;31m---------------------------------------------------------------------------\u001b[0m",
      "\u001b[0;31mKeyError\u001b[0m                                  Traceback (most recent call last)",
      "\u001b[0;32m<ipython-input-42-3e4e1e37bb89>\u001b[0m in \u001b[0;36m<module>\u001b[0;34m\u001b[0m\n\u001b[0;32m----> 1\u001b[0;31m \u001b[0minvariant_distribution_analytically\u001b[0m\u001b[0;34m(\u001b[0m\u001b[0mM\u001b[0m\u001b[0;34m)\u001b[0m\u001b[0;34m\u001b[0m\u001b[0;34m\u001b[0m\u001b[0m\n\u001b[0m",
      "\u001b[0;32m~/rsc/reactive-two-bits/src/main.py\u001b[0m in \u001b[0;36minvariant_distribution_analytically\u001b[0;34m(M)\u001b[0m\n\u001b[1;32m    198\u001b[0m     v_vector = sym.Matrix(\n\u001b[1;32m    199\u001b[0m         [\n\u001b[0;32m--> 200\u001b[0;31m             \u001b[0;34m[\u001b[0m\u001b[0mss\u001b[0m\u001b[0;34m[\u001b[0m\u001b[0mp\u001b[0m\u001b[0;34m]\u001b[0m \u001b[0;32mfor\u001b[0m \u001b[0mp\u001b[0m \u001b[0;32min\u001b[0m \u001b[0mpi\u001b[0m\u001b[0;34m]\u001b[0m\u001b[0;34m,\u001b[0m\u001b[0;34m\u001b[0m\u001b[0;34m\u001b[0m\u001b[0m\n\u001b[0m\u001b[1;32m    201\u001b[0m         ]\n\u001b[1;32m    202\u001b[0m     )\n",
      "\u001b[0;32m~/rsc/reactive-two-bits/src/main.py\u001b[0m in \u001b[0;36m<listcomp>\u001b[0;34m(.0)\u001b[0m\n\u001b[1;32m    198\u001b[0m     v_vector = sym.Matrix(\n\u001b[1;32m    199\u001b[0m         [\n\u001b[0;32m--> 200\u001b[0;31m             \u001b[0;34m[\u001b[0m\u001b[0mss\u001b[0m\u001b[0;34m[\u001b[0m\u001b[0mp\u001b[0m\u001b[0;34m]\u001b[0m \u001b[0;32mfor\u001b[0m \u001b[0mp\u001b[0m \u001b[0;32min\u001b[0m \u001b[0mpi\u001b[0m\u001b[0;34m]\u001b[0m\u001b[0;34m,\u001b[0m\u001b[0;34m\u001b[0m\u001b[0;34m\u001b[0m\u001b[0m\n\u001b[0m\u001b[1;32m    201\u001b[0m         ]\n\u001b[1;32m    202\u001b[0m     )\n",
      "\u001b[0;31mKeyError\u001b[0m: b_14"
     ]
    }
   ],
   "source": [
    "invariant_distribution_analytically(M)"
   ]
  },
  {
   "cell_type": "code",
   "execution_count": 193,
   "metadata": {},
   "outputs": [
    {
     "data": {
      "text/plain": [
       "2*(p_2*p_4 - p_2 - p_3*p_4**2 + 2*p_3*p_4 - p_3 - p_4**3 + 2*p_4**2 - 2*p_4)/(p_2*p_4 - p_2 - 4*p_4**2 + 8*p_4 - 5)"
      ]
     },
     "execution_count": 193,
     "metadata": {},
     "output_type": "execute_result"
    }
   ],
   "source": [
    "sym.init_printing(False)\n",
    "\n",
    "score.subs({b:2, c:1, p_1:1}).factor()"
   ]
  },
  {
   "cell_type": "code",
   "execution_count": 122,
   "metadata": {},
   "outputs": [
    {
     "name": "stderr",
     "output_type": "stream",
     "text": [
      "<ipython-input-122-da6954f537a9>:7: TqdmDeprecationWarning: This function will be removed in tqdm==5.0.0\n",
      "Please use `tqdm.notebook.tqdm` instead of `tqdm.tqdm_notebook`\n",
      "  for label in tqdm.tqdm_notebook(to_check):\n"
     ]
    },
    {
     "data": {
      "application/vnd.jupyter.widget-view+json": {
       "model_id": "e9db3d0651944244b6562cc1b686f1e0",
       "version_major": 2,
       "version_minor": 0
      },
      "text/plain": [
       "HBox(children=(FloatProgress(value=0.0, max=16.0), HTML(value='')))"
      ]
     },
     "metadata": {},
     "output_type": "display_data"
    },
    {
     "name": "stdout",
     "output_type": "stream",
     "text": [
      "\n"
     ]
    },
    {
     "ename": "KeyboardInterrupt",
     "evalue": "",
     "output_type": "error",
     "traceback": [
      "\u001b[0;31m---------------------------------------------------------------------------\u001b[0m",
      "\u001b[0;31mKeyboardInterrupt\u001b[0m                         Traceback (most recent call last)",
      "\u001b[0;32m<ipython-input-122-da6954f537a9>\u001b[0m in \u001b[0;36m<module>\u001b[0;34m\u001b[0m\n\u001b[1;32m     14\u001b[0m                                           p_1, p_2, p_1, p_2, p_3, p_4, p_3, p_4])\n\u001b[1;32m     15\u001b[0m \u001b[0;34m\u001b[0m\u001b[0m\n\u001b[0;32m---> 16\u001b[0;31m     \u001b[0mss\u001b[0m \u001b[0;34m=\u001b[0m \u001b[0minvariant_distribution_analytically\u001b[0m\u001b[0;34m(\u001b[0m\u001b[0mM\u001b[0m\u001b[0;34m)\u001b[0m\u001b[0;34m\u001b[0m\u001b[0;34m\u001b[0m\u001b[0m\n\u001b[0m\u001b[1;32m     17\u001b[0m \u001b[0;34m\u001b[0m\u001b[0m\n\u001b[1;32m     18\u001b[0m \u001b[0;34m\u001b[0m\u001b[0m\n",
      "\u001b[0;32m~/rsc/reactive-two-bits/src/main.py\u001b[0m in \u001b[0;36minvariant_distribution_analytically\u001b[0;34m(M)\u001b[0m\n\u001b[1;32m    190\u001b[0m     \u001b[0msize\u001b[0m \u001b[0;34m=\u001b[0m \u001b[0mM\u001b[0m\u001b[0;34m.\u001b[0m\u001b[0mshape\u001b[0m\u001b[0;34m[\u001b[0m\u001b[0;36m1\u001b[0m\u001b[0;34m]\u001b[0m\u001b[0;34m\u001b[0m\u001b[0;34m\u001b[0m\u001b[0m\n\u001b[1;32m    191\u001b[0m     \u001b[0mpi\u001b[0m \u001b[0;34m=\u001b[0m \u001b[0msym\u001b[0m\u001b[0;34m.\u001b[0m\u001b[0msymbols\u001b[0m\u001b[0;34m(\u001b[0m\u001b[0;34mf\"b_1:{size + 1}\"\u001b[0m\u001b[0;34m)\u001b[0m\u001b[0;34m\u001b[0m\u001b[0;34m\u001b[0m\u001b[0m\n\u001b[0;32m--> 192\u001b[0;31m     ss = sym.solve(\n\u001b[0m\u001b[1;32m    193\u001b[0m         \u001b[0;34m[\u001b[0m\u001b[0msum\u001b[0m\u001b[0;34m(\u001b[0m\u001b[0mpi\u001b[0m\u001b[0;34m)\u001b[0m \u001b[0;34m-\u001b[0m \u001b[0;36m1\u001b[0m\u001b[0;34m]\u001b[0m\u001b[0;34m\u001b[0m\u001b[0;34m\u001b[0m\u001b[0m\n\u001b[1;32m    194\u001b[0m         \u001b[0;34m+\u001b[0m \u001b[0;34m[\u001b[0m\u001b[0ma\u001b[0m \u001b[0;34m-\u001b[0m \u001b[0mb\u001b[0m \u001b[0;32mfor\u001b[0m \u001b[0ma\u001b[0m\u001b[0;34m,\u001b[0m \u001b[0mb\u001b[0m \u001b[0;32min\u001b[0m \u001b[0mzip\u001b[0m\u001b[0;34m(\u001b[0m\u001b[0mM\u001b[0m\u001b[0;34m.\u001b[0m\u001b[0mtranspose\u001b[0m\u001b[0;34m(\u001b[0m\u001b[0;34m)\u001b[0m \u001b[0;34m*\u001b[0m \u001b[0msym\u001b[0m\u001b[0;34m.\u001b[0m\u001b[0mMatrix\u001b[0m\u001b[0;34m(\u001b[0m\u001b[0mpi\u001b[0m\u001b[0;34m)\u001b[0m\u001b[0;34m,\u001b[0m \u001b[0mpi\u001b[0m\u001b[0;34m)\u001b[0m\u001b[0;34m]\u001b[0m\u001b[0;34m,\u001b[0m\u001b[0;34m\u001b[0m\u001b[0;34m\u001b[0m\u001b[0m\n",
      "\u001b[0;32m~/opt/anaconda3/lib/python3.8/site-packages/sympy/solvers/solvers.py\u001b[0m in \u001b[0;36msolve\u001b[0;34m(f, *symbols, **flags)\u001b[0m\n\u001b[1;32m   1094\u001b[0m         \u001b[0msolution\u001b[0m \u001b[0;34m=\u001b[0m \u001b[0m_solve\u001b[0m\u001b[0;34m(\u001b[0m\u001b[0mf\u001b[0m\u001b[0;34m[\u001b[0m\u001b[0;36m0\u001b[0m\u001b[0;34m]\u001b[0m\u001b[0;34m,\u001b[0m \u001b[0;34m*\u001b[0m\u001b[0msymbols\u001b[0m\u001b[0;34m,\u001b[0m \u001b[0;34m**\u001b[0m\u001b[0mflags\u001b[0m\u001b[0;34m)\u001b[0m\u001b[0;34m\u001b[0m\u001b[0;34m\u001b[0m\u001b[0m\n\u001b[1;32m   1095\u001b[0m     \u001b[0;32melse\u001b[0m\u001b[0;34m:\u001b[0m\u001b[0;34m\u001b[0m\u001b[0;34m\u001b[0m\u001b[0m\n\u001b[0;32m-> 1096\u001b[0;31m         \u001b[0msolution\u001b[0m \u001b[0;34m=\u001b[0m \u001b[0m_solve_system\u001b[0m\u001b[0;34m(\u001b[0m\u001b[0mf\u001b[0m\u001b[0;34m,\u001b[0m \u001b[0msymbols\u001b[0m\u001b[0;34m,\u001b[0m \u001b[0;34m**\u001b[0m\u001b[0mflags\u001b[0m\u001b[0;34m)\u001b[0m\u001b[0;34m\u001b[0m\u001b[0;34m\u001b[0m\u001b[0m\n\u001b[0m\u001b[1;32m   1097\u001b[0m \u001b[0;34m\u001b[0m\u001b[0m\n\u001b[1;32m   1098\u001b[0m     \u001b[0;31m#\u001b[0m\u001b[0;34m\u001b[0m\u001b[0;34m\u001b[0m\u001b[0;34m\u001b[0m\u001b[0m\n",
      "\u001b[0;32m~/opt/anaconda3/lib/python3.8/site-packages/sympy/solvers/solvers.py\u001b[0m in \u001b[0;36m_solve_system\u001b[0;34m(exprs, symbols, **flags)\u001b[0m\n\u001b[1;32m   1761\u001b[0m                 \u001b[0mresult\u001b[0m \u001b[0;34m=\u001b[0m \u001b[0mminsolve_linear_system\u001b[0m\u001b[0;34m(\u001b[0m\u001b[0mmatrix\u001b[0m\u001b[0;34m,\u001b[0m \u001b[0;34m*\u001b[0m\u001b[0msymbols\u001b[0m\u001b[0;34m,\u001b[0m \u001b[0;34m**\u001b[0m\u001b[0mflags\u001b[0m\u001b[0;34m)\u001b[0m\u001b[0;34m\u001b[0m\u001b[0;34m\u001b[0m\u001b[0m\n\u001b[1;32m   1762\u001b[0m             \u001b[0;32melse\u001b[0m\u001b[0;34m:\u001b[0m\u001b[0;34m\u001b[0m\u001b[0;34m\u001b[0m\u001b[0m\n\u001b[0;32m-> 1763\u001b[0;31m                 \u001b[0mresult\u001b[0m \u001b[0;34m=\u001b[0m \u001b[0msolve_linear_system\u001b[0m\u001b[0;34m(\u001b[0m\u001b[0mmatrix\u001b[0m\u001b[0;34m,\u001b[0m \u001b[0;34m*\u001b[0m\u001b[0msymbols\u001b[0m\u001b[0;34m,\u001b[0m \u001b[0;34m**\u001b[0m\u001b[0mflags\u001b[0m\u001b[0;34m)\u001b[0m\u001b[0;34m\u001b[0m\u001b[0;34m\u001b[0m\u001b[0m\n\u001b[0m\u001b[1;32m   1764\u001b[0m             \u001b[0;32mif\u001b[0m \u001b[0mfailed\u001b[0m\u001b[0;34m:\u001b[0m\u001b[0;34m\u001b[0m\u001b[0;34m\u001b[0m\u001b[0m\n\u001b[1;32m   1765\u001b[0m                 \u001b[0;32mif\u001b[0m \u001b[0mresult\u001b[0m\u001b[0;34m:\u001b[0m\u001b[0;34m\u001b[0m\u001b[0;34m\u001b[0m\u001b[0m\n",
      "\u001b[0;32m~/opt/anaconda3/lib/python3.8/site-packages/sympy/solvers/solvers.py\u001b[0m in \u001b[0;36msolve_linear_system\u001b[0;34m(system, *symbols, **flags)\u001b[0m\n\u001b[1;32m   2332\u001b[0m                 \u001b[0;31m# subtract from the current row the row containing\u001b[0m\u001b[0;34m\u001b[0m\u001b[0;34m\u001b[0m\u001b[0;34m\u001b[0m\u001b[0m\n\u001b[1;32m   2333\u001b[0m                 \u001b[0;31m# pivot and multiplied by extracted coefficient\u001b[0m\u001b[0;34m\u001b[0m\u001b[0;34m\u001b[0m\u001b[0;34m\u001b[0m\u001b[0m\n\u001b[0;32m-> 2334\u001b[0;31m                 \u001b[0mmatrix\u001b[0m\u001b[0;34m.\u001b[0m\u001b[0mrow_op\u001b[0m\u001b[0;34m(\u001b[0m\u001b[0mk\u001b[0m\u001b[0;34m,\u001b[0m \u001b[0;32mlambda\u001b[0m \u001b[0mx\u001b[0m\u001b[0;34m,\u001b[0m \u001b[0mj\u001b[0m\u001b[0;34m:\u001b[0m \u001b[0msimplify\u001b[0m\u001b[0;34m(\u001b[0m\u001b[0mx\u001b[0m \u001b[0;34m-\u001b[0m \u001b[0mmatrix\u001b[0m\u001b[0;34m[\u001b[0m\u001b[0mi\u001b[0m\u001b[0;34m,\u001b[0m \u001b[0mj\u001b[0m\u001b[0;34m]\u001b[0m\u001b[0;34m*\u001b[0m\u001b[0mcoeff\u001b[0m\u001b[0;34m)\u001b[0m\u001b[0;34m)\u001b[0m\u001b[0;34m\u001b[0m\u001b[0;34m\u001b[0m\u001b[0m\n\u001b[0m\u001b[1;32m   2335\u001b[0m \u001b[0;34m\u001b[0m\u001b[0m\n\u001b[1;32m   2336\u001b[0m         \u001b[0mi\u001b[0m \u001b[0;34m+=\u001b[0m \u001b[0;36m1\u001b[0m\u001b[0;34m\u001b[0m\u001b[0;34m\u001b[0m\u001b[0m\n",
      "\u001b[0;32m~/opt/anaconda3/lib/python3.8/site-packages/sympy/matrices/dense.py\u001b[0m in \u001b[0;36mrow_op\u001b[0;34m(self, i, f)\u001b[0m\n\u001b[1;32m    587\u001b[0m         \u001b[0mi0\u001b[0m \u001b[0;34m=\u001b[0m \u001b[0mi\u001b[0m\u001b[0;34m*\u001b[0m\u001b[0mself\u001b[0m\u001b[0;34m.\u001b[0m\u001b[0mcols\u001b[0m\u001b[0;34m\u001b[0m\u001b[0;34m\u001b[0m\u001b[0m\n\u001b[1;32m    588\u001b[0m         \u001b[0mri\u001b[0m \u001b[0;34m=\u001b[0m \u001b[0mself\u001b[0m\u001b[0;34m.\u001b[0m\u001b[0m_mat\u001b[0m\u001b[0;34m[\u001b[0m\u001b[0mi0\u001b[0m\u001b[0;34m:\u001b[0m \u001b[0mi0\u001b[0m \u001b[0;34m+\u001b[0m \u001b[0mself\u001b[0m\u001b[0;34m.\u001b[0m\u001b[0mcols\u001b[0m\u001b[0;34m]\u001b[0m\u001b[0;34m\u001b[0m\u001b[0;34m\u001b[0m\u001b[0m\n\u001b[0;32m--> 589\u001b[0;31m         \u001b[0mself\u001b[0m\u001b[0;34m.\u001b[0m\u001b[0m_mat\u001b[0m\u001b[0;34m[\u001b[0m\u001b[0mi0\u001b[0m\u001b[0;34m:\u001b[0m \u001b[0mi0\u001b[0m \u001b[0;34m+\u001b[0m \u001b[0mself\u001b[0m\u001b[0;34m.\u001b[0m\u001b[0mcols\u001b[0m\u001b[0;34m]\u001b[0m \u001b[0;34m=\u001b[0m \u001b[0;34m[\u001b[0m\u001b[0mf\u001b[0m\u001b[0;34m(\u001b[0m\u001b[0mx\u001b[0m\u001b[0;34m,\u001b[0m \u001b[0mj\u001b[0m\u001b[0;34m)\u001b[0m \u001b[0;32mfor\u001b[0m \u001b[0mx\u001b[0m\u001b[0;34m,\u001b[0m \u001b[0mj\u001b[0m \u001b[0;32min\u001b[0m \u001b[0mzip\u001b[0m\u001b[0;34m(\u001b[0m\u001b[0mri\u001b[0m\u001b[0;34m,\u001b[0m \u001b[0mlist\u001b[0m\u001b[0;34m(\u001b[0m\u001b[0mrange\u001b[0m\u001b[0;34m(\u001b[0m\u001b[0mself\u001b[0m\u001b[0;34m.\u001b[0m\u001b[0mcols\u001b[0m\u001b[0;34m)\u001b[0m\u001b[0;34m)\u001b[0m\u001b[0;34m)\u001b[0m\u001b[0;34m]\u001b[0m\u001b[0;34m\u001b[0m\u001b[0;34m\u001b[0m\u001b[0m\n\u001b[0m\u001b[1;32m    590\u001b[0m \u001b[0;34m\u001b[0m\u001b[0m\n\u001b[1;32m    591\u001b[0m     \u001b[0;32mdef\u001b[0m \u001b[0mrow_swap\u001b[0m\u001b[0;34m(\u001b[0m\u001b[0mself\u001b[0m\u001b[0;34m,\u001b[0m \u001b[0mi\u001b[0m\u001b[0;34m,\u001b[0m \u001b[0mj\u001b[0m\u001b[0;34m)\u001b[0m\u001b[0;34m:\u001b[0m\u001b[0;34m\u001b[0m\u001b[0;34m\u001b[0m\u001b[0m\n",
      "\u001b[0;32m~/opt/anaconda3/lib/python3.8/site-packages/sympy/matrices/dense.py\u001b[0m in \u001b[0;36m<listcomp>\u001b[0;34m(.0)\u001b[0m\n\u001b[1;32m    587\u001b[0m         \u001b[0mi0\u001b[0m \u001b[0;34m=\u001b[0m \u001b[0mi\u001b[0m\u001b[0;34m*\u001b[0m\u001b[0mself\u001b[0m\u001b[0;34m.\u001b[0m\u001b[0mcols\u001b[0m\u001b[0;34m\u001b[0m\u001b[0;34m\u001b[0m\u001b[0m\n\u001b[1;32m    588\u001b[0m         \u001b[0mri\u001b[0m \u001b[0;34m=\u001b[0m \u001b[0mself\u001b[0m\u001b[0;34m.\u001b[0m\u001b[0m_mat\u001b[0m\u001b[0;34m[\u001b[0m\u001b[0mi0\u001b[0m\u001b[0;34m:\u001b[0m \u001b[0mi0\u001b[0m \u001b[0;34m+\u001b[0m \u001b[0mself\u001b[0m\u001b[0;34m.\u001b[0m\u001b[0mcols\u001b[0m\u001b[0;34m]\u001b[0m\u001b[0;34m\u001b[0m\u001b[0;34m\u001b[0m\u001b[0m\n\u001b[0;32m--> 589\u001b[0;31m         \u001b[0mself\u001b[0m\u001b[0;34m.\u001b[0m\u001b[0m_mat\u001b[0m\u001b[0;34m[\u001b[0m\u001b[0mi0\u001b[0m\u001b[0;34m:\u001b[0m \u001b[0mi0\u001b[0m \u001b[0;34m+\u001b[0m \u001b[0mself\u001b[0m\u001b[0;34m.\u001b[0m\u001b[0mcols\u001b[0m\u001b[0;34m]\u001b[0m \u001b[0;34m=\u001b[0m \u001b[0;34m[\u001b[0m\u001b[0mf\u001b[0m\u001b[0;34m(\u001b[0m\u001b[0mx\u001b[0m\u001b[0;34m,\u001b[0m \u001b[0mj\u001b[0m\u001b[0;34m)\u001b[0m \u001b[0;32mfor\u001b[0m \u001b[0mx\u001b[0m\u001b[0;34m,\u001b[0m \u001b[0mj\u001b[0m \u001b[0;32min\u001b[0m \u001b[0mzip\u001b[0m\u001b[0;34m(\u001b[0m\u001b[0mri\u001b[0m\u001b[0;34m,\u001b[0m \u001b[0mlist\u001b[0m\u001b[0;34m(\u001b[0m\u001b[0mrange\u001b[0m\u001b[0;34m(\u001b[0m\u001b[0mself\u001b[0m\u001b[0;34m.\u001b[0m\u001b[0mcols\u001b[0m\u001b[0;34m)\u001b[0m\u001b[0;34m)\u001b[0m\u001b[0;34m)\u001b[0m\u001b[0;34m]\u001b[0m\u001b[0;34m\u001b[0m\u001b[0;34m\u001b[0m\u001b[0m\n\u001b[0m\u001b[1;32m    590\u001b[0m \u001b[0;34m\u001b[0m\u001b[0m\n\u001b[1;32m    591\u001b[0m     \u001b[0;32mdef\u001b[0m \u001b[0mrow_swap\u001b[0m\u001b[0;34m(\u001b[0m\u001b[0mself\u001b[0m\u001b[0;34m,\u001b[0m \u001b[0mi\u001b[0m\u001b[0;34m,\u001b[0m \u001b[0mj\u001b[0m\u001b[0;34m)\u001b[0m\u001b[0;34m:\u001b[0m\u001b[0;34m\u001b[0m\u001b[0;34m\u001b[0m\u001b[0m\n",
      "\u001b[0;32m~/opt/anaconda3/lib/python3.8/site-packages/sympy/solvers/solvers.py\u001b[0m in \u001b[0;36m<lambda>\u001b[0;34m(x, j)\u001b[0m\n\u001b[1;32m   2332\u001b[0m                 \u001b[0;31m# subtract from the current row the row containing\u001b[0m\u001b[0;34m\u001b[0m\u001b[0;34m\u001b[0m\u001b[0;34m\u001b[0m\u001b[0m\n\u001b[1;32m   2333\u001b[0m                 \u001b[0;31m# pivot and multiplied by extracted coefficient\u001b[0m\u001b[0;34m\u001b[0m\u001b[0;34m\u001b[0m\u001b[0;34m\u001b[0m\u001b[0m\n\u001b[0;32m-> 2334\u001b[0;31m                 \u001b[0mmatrix\u001b[0m\u001b[0;34m.\u001b[0m\u001b[0mrow_op\u001b[0m\u001b[0;34m(\u001b[0m\u001b[0mk\u001b[0m\u001b[0;34m,\u001b[0m \u001b[0;32mlambda\u001b[0m \u001b[0mx\u001b[0m\u001b[0;34m,\u001b[0m \u001b[0mj\u001b[0m\u001b[0;34m:\u001b[0m \u001b[0msimplify\u001b[0m\u001b[0;34m(\u001b[0m\u001b[0mx\u001b[0m \u001b[0;34m-\u001b[0m \u001b[0mmatrix\u001b[0m\u001b[0;34m[\u001b[0m\u001b[0mi\u001b[0m\u001b[0;34m,\u001b[0m \u001b[0mj\u001b[0m\u001b[0;34m]\u001b[0m\u001b[0;34m*\u001b[0m\u001b[0mcoeff\u001b[0m\u001b[0;34m)\u001b[0m\u001b[0;34m)\u001b[0m\u001b[0;34m\u001b[0m\u001b[0;34m\u001b[0m\u001b[0m\n\u001b[0m\u001b[1;32m   2335\u001b[0m \u001b[0;34m\u001b[0m\u001b[0m\n\u001b[1;32m   2336\u001b[0m         \u001b[0mi\u001b[0m \u001b[0;34m+=\u001b[0m \u001b[0;36m1\u001b[0m\u001b[0;34m\u001b[0m\u001b[0;34m\u001b[0m\u001b[0m\n",
      "\u001b[0;32m~/opt/anaconda3/lib/python3.8/site-packages/sympy/simplify/simplify.py\u001b[0m in \u001b[0;36msimplify\u001b[0;34m(expr, ratio, measure, rational, inverse, doit, **kwargs)\u001b[0m\n\u001b[1;32m    601\u001b[0m     \u001b[0mexpr\u001b[0m \u001b[0;34m=\u001b[0m \u001b[0mMul\u001b[0m\u001b[0;34m(\u001b[0m\u001b[0;34m*\u001b[0m\u001b[0mpowsimp\u001b[0m\u001b[0;34m(\u001b[0m\u001b[0mexpr\u001b[0m\u001b[0;34m)\u001b[0m\u001b[0;34m.\u001b[0m\u001b[0mas_content_primitive\u001b[0m\u001b[0;34m(\u001b[0m\u001b[0;34m)\u001b[0m\u001b[0;34m)\u001b[0m\u001b[0;34m\u001b[0m\u001b[0;34m\u001b[0m\u001b[0m\n\u001b[1;32m    602\u001b[0m     \u001b[0m_e\u001b[0m \u001b[0;34m=\u001b[0m \u001b[0mcancel\u001b[0m\u001b[0;34m(\u001b[0m\u001b[0mexpr\u001b[0m\u001b[0;34m)\u001b[0m\u001b[0;34m\u001b[0m\u001b[0;34m\u001b[0m\u001b[0m\n\u001b[0;32m--> 603\u001b[0;31m     \u001b[0mexpr1\u001b[0m \u001b[0;34m=\u001b[0m \u001b[0mshorter\u001b[0m\u001b[0;34m(\u001b[0m\u001b[0m_e\u001b[0m\u001b[0;34m,\u001b[0m \u001b[0m_mexpand\u001b[0m\u001b[0;34m(\u001b[0m\u001b[0m_e\u001b[0m\u001b[0;34m)\u001b[0m\u001b[0;34m.\u001b[0m\u001b[0mcancel\u001b[0m\u001b[0;34m(\u001b[0m\u001b[0;34m)\u001b[0m\u001b[0;34m)\u001b[0m  \u001b[0;31m# issue 6829\u001b[0m\u001b[0;34m\u001b[0m\u001b[0;34m\u001b[0m\u001b[0m\n\u001b[0m\u001b[1;32m    604\u001b[0m     \u001b[0mexpr2\u001b[0m \u001b[0;34m=\u001b[0m \u001b[0mshorter\u001b[0m\u001b[0;34m(\u001b[0m\u001b[0mtogether\u001b[0m\u001b[0;34m(\u001b[0m\u001b[0mexpr\u001b[0m\u001b[0;34m,\u001b[0m \u001b[0mdeep\u001b[0m\u001b[0;34m=\u001b[0m\u001b[0;32mTrue\u001b[0m\u001b[0;34m)\u001b[0m\u001b[0;34m,\u001b[0m \u001b[0mtogether\u001b[0m\u001b[0;34m(\u001b[0m\u001b[0mexpr1\u001b[0m\u001b[0;34m,\u001b[0m \u001b[0mdeep\u001b[0m\u001b[0;34m=\u001b[0m\u001b[0;32mTrue\u001b[0m\u001b[0;34m)\u001b[0m\u001b[0;34m)\u001b[0m\u001b[0;34m\u001b[0m\u001b[0;34m\u001b[0m\u001b[0m\n\u001b[1;32m    605\u001b[0m \u001b[0;34m\u001b[0m\u001b[0m\n",
      "\u001b[0;32m~/opt/anaconda3/lib/python3.8/site-packages/sympy/core/expr.py\u001b[0m in \u001b[0;36mcancel\u001b[0;34m(self, *gens, **args)\u001b[0m\n\u001b[1;32m   3595\u001b[0m         \u001b[0;34m\"\"\"See the cancel function in sympy.polys\"\"\"\u001b[0m\u001b[0;34m\u001b[0m\u001b[0;34m\u001b[0m\u001b[0m\n\u001b[1;32m   3596\u001b[0m         \u001b[0;32mfrom\u001b[0m \u001b[0msympy\u001b[0m\u001b[0;34m.\u001b[0m\u001b[0mpolys\u001b[0m \u001b[0;32mimport\u001b[0m \u001b[0mcancel\u001b[0m\u001b[0;34m\u001b[0m\u001b[0;34m\u001b[0m\u001b[0m\n\u001b[0;32m-> 3597\u001b[0;31m         \u001b[0;32mreturn\u001b[0m \u001b[0mcancel\u001b[0m\u001b[0;34m(\u001b[0m\u001b[0mself\u001b[0m\u001b[0;34m,\u001b[0m \u001b[0;34m*\u001b[0m\u001b[0mgens\u001b[0m\u001b[0;34m,\u001b[0m \u001b[0;34m**\u001b[0m\u001b[0margs\u001b[0m\u001b[0;34m)\u001b[0m\u001b[0;34m\u001b[0m\u001b[0;34m\u001b[0m\u001b[0m\n\u001b[0m\u001b[1;32m   3598\u001b[0m \u001b[0;34m\u001b[0m\u001b[0m\n\u001b[1;32m   3599\u001b[0m     \u001b[0;32mdef\u001b[0m \u001b[0minvert\u001b[0m\u001b[0;34m(\u001b[0m\u001b[0mself\u001b[0m\u001b[0;34m,\u001b[0m \u001b[0mg\u001b[0m\u001b[0;34m,\u001b[0m \u001b[0;34m*\u001b[0m\u001b[0mgens\u001b[0m\u001b[0;34m,\u001b[0m \u001b[0;34m**\u001b[0m\u001b[0margs\u001b[0m\u001b[0;34m)\u001b[0m\u001b[0;34m:\u001b[0m\u001b[0;34m\u001b[0m\u001b[0;34m\u001b[0m\u001b[0m\n",
      "\u001b[0;32m~/opt/anaconda3/lib/python3.8/site-packages/sympy/polys/polytools.py\u001b[0m in \u001b[0;36mcancel\u001b[0;34m(f, *gens, **args)\u001b[0m\n\u001b[1;32m   6664\u001b[0m \u001b[0;34m\u001b[0m\u001b[0m\n\u001b[1;32m   6665\u001b[0m     \u001b[0;32mtry\u001b[0m\u001b[0;34m:\u001b[0m\u001b[0;34m\u001b[0m\u001b[0;34m\u001b[0m\u001b[0m\n\u001b[0;32m-> 6666\u001b[0;31m         \u001b[0;34m(\u001b[0m\u001b[0mF\u001b[0m\u001b[0;34m,\u001b[0m \u001b[0mG\u001b[0m\u001b[0;34m)\u001b[0m\u001b[0;34m,\u001b[0m \u001b[0mopt\u001b[0m \u001b[0;34m=\u001b[0m \u001b[0mparallel_poly_from_expr\u001b[0m\u001b[0;34m(\u001b[0m\u001b[0;34m(\u001b[0m\u001b[0mp\u001b[0m\u001b[0;34m,\u001b[0m \u001b[0mq\u001b[0m\u001b[0;34m)\u001b[0m\u001b[0;34m,\u001b[0m \u001b[0;34m*\u001b[0m\u001b[0mgens\u001b[0m\u001b[0;34m,\u001b[0m \u001b[0;34m**\u001b[0m\u001b[0margs\u001b[0m\u001b[0;34m)\u001b[0m\u001b[0;34m\u001b[0m\u001b[0;34m\u001b[0m\u001b[0m\n\u001b[0m\u001b[1;32m   6667\u001b[0m     \u001b[0;32mexcept\u001b[0m \u001b[0mPolificationFailed\u001b[0m\u001b[0;34m:\u001b[0m\u001b[0;34m\u001b[0m\u001b[0;34m\u001b[0m\u001b[0m\n\u001b[1;32m   6668\u001b[0m         \u001b[0;32mif\u001b[0m \u001b[0;32mnot\u001b[0m \u001b[0misinstance\u001b[0m\u001b[0;34m(\u001b[0m\u001b[0mf\u001b[0m\u001b[0;34m,\u001b[0m \u001b[0;34m(\u001b[0m\u001b[0mtuple\u001b[0m\u001b[0;34m,\u001b[0m \u001b[0mTuple\u001b[0m\u001b[0;34m)\u001b[0m\u001b[0;34m)\u001b[0m\u001b[0;34m:\u001b[0m\u001b[0;34m\u001b[0m\u001b[0;34m\u001b[0m\u001b[0m\n",
      "\u001b[0;32m~/opt/anaconda3/lib/python3.8/site-packages/sympy/polys/polytools.py\u001b[0m in \u001b[0;36mparallel_poly_from_expr\u001b[0;34m(exprs, *gens, **args)\u001b[0m\n\u001b[1;32m   4310\u001b[0m     \u001b[0;34m\"\"\"Construct polynomials from expressions. \"\"\"\u001b[0m\u001b[0;34m\u001b[0m\u001b[0;34m\u001b[0m\u001b[0m\n\u001b[1;32m   4311\u001b[0m     \u001b[0mopt\u001b[0m \u001b[0;34m=\u001b[0m \u001b[0moptions\u001b[0m\u001b[0;34m.\u001b[0m\u001b[0mbuild_options\u001b[0m\u001b[0;34m(\u001b[0m\u001b[0mgens\u001b[0m\u001b[0;34m,\u001b[0m \u001b[0margs\u001b[0m\u001b[0;34m)\u001b[0m\u001b[0;34m\u001b[0m\u001b[0;34m\u001b[0m\u001b[0m\n\u001b[0;32m-> 4312\u001b[0;31m     \u001b[0;32mreturn\u001b[0m \u001b[0m_parallel_poly_from_expr\u001b[0m\u001b[0;34m(\u001b[0m\u001b[0mexprs\u001b[0m\u001b[0;34m,\u001b[0m \u001b[0mopt\u001b[0m\u001b[0;34m)\u001b[0m\u001b[0;34m\u001b[0m\u001b[0;34m\u001b[0m\u001b[0m\n\u001b[0m\u001b[1;32m   4313\u001b[0m \u001b[0;34m\u001b[0m\u001b[0m\n\u001b[1;32m   4314\u001b[0m \u001b[0;34m\u001b[0m\u001b[0m\n",
      "\u001b[0;32m~/opt/anaconda3/lib/python3.8/site-packages/sympy/polys/polytools.py\u001b[0m in \u001b[0;36m_parallel_poly_from_expr\u001b[0;34m(exprs, opt)\u001b[0m\n\u001b[1;32m   4363\u001b[0m             \u001b[0mexprs\u001b[0m\u001b[0;34m[\u001b[0m\u001b[0mi\u001b[0m\u001b[0;34m]\u001b[0m \u001b[0;34m=\u001b[0m \u001b[0mexprs\u001b[0m\u001b[0;34m[\u001b[0m\u001b[0mi\u001b[0m\u001b[0;34m]\u001b[0m\u001b[0;34m.\u001b[0m\u001b[0mas_expr\u001b[0m\u001b[0;34m(\u001b[0m\u001b[0;34m)\u001b[0m\u001b[0;34m\u001b[0m\u001b[0;34m\u001b[0m\u001b[0m\n\u001b[1;32m   4364\u001b[0m \u001b[0;34m\u001b[0m\u001b[0m\n\u001b[0;32m-> 4365\u001b[0;31m     \u001b[0mreps\u001b[0m\u001b[0;34m,\u001b[0m \u001b[0mopt\u001b[0m \u001b[0;34m=\u001b[0m \u001b[0m_parallel_dict_from_expr\u001b[0m\u001b[0;34m(\u001b[0m\u001b[0mexprs\u001b[0m\u001b[0;34m,\u001b[0m \u001b[0mopt\u001b[0m\u001b[0;34m)\u001b[0m\u001b[0;34m\u001b[0m\u001b[0;34m\u001b[0m\u001b[0m\n\u001b[0m\u001b[1;32m   4366\u001b[0m     \u001b[0;32mif\u001b[0m \u001b[0;32mnot\u001b[0m \u001b[0mopt\u001b[0m\u001b[0;34m.\u001b[0m\u001b[0mgens\u001b[0m\u001b[0;34m:\u001b[0m\u001b[0;34m\u001b[0m\u001b[0;34m\u001b[0m\u001b[0m\n\u001b[1;32m   4367\u001b[0m         \u001b[0;32mraise\u001b[0m \u001b[0mPolificationFailed\u001b[0m\u001b[0;34m(\u001b[0m\u001b[0mopt\u001b[0m\u001b[0;34m,\u001b[0m \u001b[0morigs\u001b[0m\u001b[0;34m,\u001b[0m \u001b[0mexprs\u001b[0m\u001b[0;34m,\u001b[0m \u001b[0;32mTrue\u001b[0m\u001b[0;34m)\u001b[0m\u001b[0;34m\u001b[0m\u001b[0;34m\u001b[0m\u001b[0m\n",
      "\u001b[0;32m~/opt/anaconda3/lib/python3.8/site-packages/sympy/polys/polyutils.py\u001b[0m in \u001b[0;36m_parallel_dict_from_expr\u001b[0;34m(exprs, opt)\u001b[0m\n\u001b[1;32m    332\u001b[0m         \u001b[0mreps\u001b[0m\u001b[0;34m,\u001b[0m \u001b[0mgens\u001b[0m \u001b[0;34m=\u001b[0m \u001b[0m_parallel_dict_from_expr_if_gens\u001b[0m\u001b[0;34m(\u001b[0m\u001b[0mexprs\u001b[0m\u001b[0;34m,\u001b[0m \u001b[0mopt\u001b[0m\u001b[0;34m)\u001b[0m\u001b[0;34m\u001b[0m\u001b[0;34m\u001b[0m\u001b[0m\n\u001b[1;32m    333\u001b[0m     \u001b[0;32melse\u001b[0m\u001b[0;34m:\u001b[0m\u001b[0;34m\u001b[0m\u001b[0;34m\u001b[0m\u001b[0m\n\u001b[0;32m--> 334\u001b[0;31m         \u001b[0mreps\u001b[0m\u001b[0;34m,\u001b[0m \u001b[0mgens\u001b[0m \u001b[0;34m=\u001b[0m \u001b[0m_parallel_dict_from_expr_no_gens\u001b[0m\u001b[0;34m(\u001b[0m\u001b[0mexprs\u001b[0m\u001b[0;34m,\u001b[0m \u001b[0mopt\u001b[0m\u001b[0;34m)\u001b[0m\u001b[0;34m\u001b[0m\u001b[0;34m\u001b[0m\u001b[0m\n\u001b[0m\u001b[1;32m    335\u001b[0m \u001b[0;34m\u001b[0m\u001b[0m\n\u001b[1;32m    336\u001b[0m     \u001b[0;32mreturn\u001b[0m \u001b[0mreps\u001b[0m\u001b[0;34m,\u001b[0m \u001b[0mopt\u001b[0m\u001b[0;34m.\u001b[0m\u001b[0mclone\u001b[0m\u001b[0;34m(\u001b[0m\u001b[0;34m{\u001b[0m\u001b[0;34m'gens'\u001b[0m\u001b[0;34m:\u001b[0m \u001b[0mgens\u001b[0m\u001b[0;34m}\u001b[0m\u001b[0;34m)\u001b[0m\u001b[0;34m\u001b[0m\u001b[0;34m\u001b[0m\u001b[0m\n",
      "\u001b[0;32m~/opt/anaconda3/lib/python3.8/site-packages/sympy/polys/polyutils.py\u001b[0m in \u001b[0;36m_parallel_dict_from_expr_no_gens\u001b[0;34m(exprs, opt)\u001b[0m\n\u001b[1;32m    256\u001b[0m \u001b[0;34m\u001b[0m\u001b[0m\n\u001b[1;32m    257\u001b[0m             \u001b[0;32mfor\u001b[0m \u001b[0mfactor\u001b[0m \u001b[0;32min\u001b[0m \u001b[0mMul\u001b[0m\u001b[0;34m.\u001b[0m\u001b[0mmake_args\u001b[0m\u001b[0;34m(\u001b[0m\u001b[0mterm\u001b[0m\u001b[0;34m)\u001b[0m\u001b[0;34m:\u001b[0m\u001b[0;34m\u001b[0m\u001b[0;34m\u001b[0m\u001b[0m\n\u001b[0;32m--> 258\u001b[0;31m                 \u001b[0;32mif\u001b[0m \u001b[0;32mnot\u001b[0m \u001b[0m_not_a_coeff\u001b[0m\u001b[0;34m(\u001b[0m\u001b[0mfactor\u001b[0m\u001b[0;34m)\u001b[0m \u001b[0;32mand\u001b[0m \u001b[0;34m(\u001b[0m\u001b[0mfactor\u001b[0m\u001b[0;34m.\u001b[0m\u001b[0mis_Number\u001b[0m \u001b[0;32mor\u001b[0m \u001b[0m_is_coeff\u001b[0m\u001b[0;34m(\u001b[0m\u001b[0mfactor\u001b[0m\u001b[0;34m)\u001b[0m\u001b[0;34m)\u001b[0m\u001b[0;34m:\u001b[0m\u001b[0;34m\u001b[0m\u001b[0;34m\u001b[0m\u001b[0m\n\u001b[0m\u001b[1;32m    259\u001b[0m                     \u001b[0mcoeff\u001b[0m\u001b[0;34m.\u001b[0m\u001b[0mappend\u001b[0m\u001b[0;34m(\u001b[0m\u001b[0mfactor\u001b[0m\u001b[0;34m)\u001b[0m\u001b[0;34m\u001b[0m\u001b[0;34m\u001b[0m\u001b[0m\n\u001b[1;32m    260\u001b[0m                 \u001b[0;32melse\u001b[0m\u001b[0;34m:\u001b[0m\u001b[0;34m\u001b[0m\u001b[0;34m\u001b[0m\u001b[0m\n",
      "\u001b[0;32m~/opt/anaconda3/lib/python3.8/site-packages/sympy/polys/polyutils.py\u001b[0m in \u001b[0;36m_not_a_coeff\u001b[0;34m(expr)\u001b[0m\n\u001b[1;32m    171\u001b[0m \u001b[0;32mdef\u001b[0m \u001b[0m_not_a_coeff\u001b[0m\u001b[0;34m(\u001b[0m\u001b[0mexpr\u001b[0m\u001b[0;34m)\u001b[0m\u001b[0;34m:\u001b[0m\u001b[0;34m\u001b[0m\u001b[0;34m\u001b[0m\u001b[0m\n\u001b[1;32m    172\u001b[0m     \u001b[0;34m\"\"\"Do not treat NaN and infinities as valid polynomial coefficients. \"\"\"\u001b[0m\u001b[0;34m\u001b[0m\u001b[0;34m\u001b[0m\u001b[0m\n\u001b[0;32m--> 173\u001b[0;31m     \u001b[0;32mif\u001b[0m \u001b[0mexpr\u001b[0m \u001b[0;32min\u001b[0m \u001b[0millegal\u001b[0m \u001b[0;32mor\u001b[0m \u001b[0mexpr\u001b[0m \u001b[0;32min\u001b[0m \u001b[0mfinf\u001b[0m\u001b[0;34m:\u001b[0m\u001b[0;34m\u001b[0m\u001b[0;34m\u001b[0m\u001b[0m\n\u001b[0m\u001b[1;32m    174\u001b[0m         \u001b[0;32mreturn\u001b[0m \u001b[0;32mTrue\u001b[0m\u001b[0;34m\u001b[0m\u001b[0;34m\u001b[0m\u001b[0m\n\u001b[1;32m    175\u001b[0m     \u001b[0;32mif\u001b[0m \u001b[0mtype\u001b[0m\u001b[0;34m(\u001b[0m\u001b[0mexpr\u001b[0m\u001b[0;34m)\u001b[0m \u001b[0;32mis\u001b[0m \u001b[0mfloat\u001b[0m \u001b[0;32mand\u001b[0m \u001b[0mfloat\u001b[0m\u001b[0;34m(\u001b[0m\u001b[0mexpr\u001b[0m\u001b[0;34m)\u001b[0m \u001b[0;34m!=\u001b[0m \u001b[0mexpr\u001b[0m\u001b[0;34m:\u001b[0m\u001b[0;34m\u001b[0m\u001b[0;34m\u001b[0m\u001b[0m\n",
      "\u001b[0;32m~/opt/anaconda3/lib/python3.8/site-packages/sympy/core/numbers.py\u001b[0m in \u001b[0;36m__eq__\u001b[0;34m(self, other)\u001b[0m\n\u001b[1;32m   2247\u001b[0m         \u001b[0;32melif\u001b[0m \u001b[0misinstance\u001b[0m\u001b[0;34m(\u001b[0m\u001b[0mother\u001b[0m\u001b[0;34m,\u001b[0m \u001b[0mInteger\u001b[0m\u001b[0;34m)\u001b[0m\u001b[0;34m:\u001b[0m\u001b[0;34m\u001b[0m\u001b[0;34m\u001b[0m\u001b[0m\n\u001b[1;32m   2248\u001b[0m             \u001b[0;32mreturn\u001b[0m \u001b[0;34m(\u001b[0m\u001b[0mself\u001b[0m\u001b[0;34m.\u001b[0m\u001b[0mp\u001b[0m \u001b[0;34m==\u001b[0m \u001b[0mother\u001b[0m\u001b[0;34m.\u001b[0m\u001b[0mp\u001b[0m\u001b[0;34m)\u001b[0m\u001b[0;34m\u001b[0m\u001b[0;34m\u001b[0m\u001b[0m\n\u001b[0;32m-> 2249\u001b[0;31m         \u001b[0;32mreturn\u001b[0m \u001b[0mRational\u001b[0m\u001b[0;34m.\u001b[0m\u001b[0m__eq__\u001b[0m\u001b[0;34m(\u001b[0m\u001b[0mself\u001b[0m\u001b[0;34m,\u001b[0m \u001b[0mother\u001b[0m\u001b[0;34m)\u001b[0m\u001b[0;34m\u001b[0m\u001b[0;34m\u001b[0m\u001b[0m\n\u001b[0m\u001b[1;32m   2250\u001b[0m \u001b[0;34m\u001b[0m\u001b[0m\n\u001b[1;32m   2251\u001b[0m     \u001b[0;32mdef\u001b[0m \u001b[0m__ne__\u001b[0m\u001b[0;34m(\u001b[0m\u001b[0mself\u001b[0m\u001b[0;34m,\u001b[0m \u001b[0mother\u001b[0m\u001b[0;34m)\u001b[0m\u001b[0;34m:\u001b[0m\u001b[0;34m\u001b[0m\u001b[0;34m\u001b[0m\u001b[0m\n",
      "\u001b[0;32m~/opt/anaconda3/lib/python3.8/site-packages/sympy/core/numbers.py\u001b[0m in \u001b[0;36m__eq__\u001b[0;34m(self, other)\u001b[0m\n\u001b[1;32m   1867\u001b[0m \u001b[0;34m\u001b[0m\u001b[0m\n\u001b[1;32m   1868\u001b[0m     \u001b[0;32mdef\u001b[0m \u001b[0m__eq__\u001b[0m\u001b[0;34m(\u001b[0m\u001b[0mself\u001b[0m\u001b[0;34m,\u001b[0m \u001b[0mother\u001b[0m\u001b[0;34m)\u001b[0m\u001b[0;34m:\u001b[0m\u001b[0;34m\u001b[0m\u001b[0;34m\u001b[0m\u001b[0m\n\u001b[0;32m-> 1869\u001b[0;31m         \u001b[0;32mfrom\u001b[0m \u001b[0msympy\u001b[0m\u001b[0;34m.\u001b[0m\u001b[0mcore\u001b[0m\u001b[0;34m.\u001b[0m\u001b[0mpower\u001b[0m \u001b[0;32mimport\u001b[0m \u001b[0minteger_log\u001b[0m\u001b[0;34m\u001b[0m\u001b[0;34m\u001b[0m\u001b[0m\n\u001b[0m\u001b[1;32m   1870\u001b[0m         \u001b[0;32mtry\u001b[0m\u001b[0;34m:\u001b[0m\u001b[0;34m\u001b[0m\u001b[0;34m\u001b[0m\u001b[0m\n\u001b[1;32m   1871\u001b[0m             \u001b[0mother\u001b[0m \u001b[0;34m=\u001b[0m \u001b[0m_sympify\u001b[0m\u001b[0;34m(\u001b[0m\u001b[0mother\u001b[0m\u001b[0;34m)\u001b[0m\u001b[0;34m\u001b[0m\u001b[0;34m\u001b[0m\u001b[0m\n",
      "\u001b[0;31mKeyboardInterrupt\u001b[0m: "
     ]
    }
   ],
   "source": [
    "p_1, p_2, p_3, p_4 = sym.symbols(\"p_1, p_2, p_3, p_4\")\n",
    "\n",
    "b, c = sym.symbols(\"b, c\")\n",
    "\n",
    "scores = []\n",
    "\n",
    "for label in tqdm.tqdm_notebook(to_check):\n",
    "    \n",
    "    index = int(label.split(\"N\")[-1])\n",
    "    \n",
    "    coplayer = deterministic_strategies[index]\n",
    "    \n",
    "    M = calculate_M_memory_two(coplayer, [p_1, p_2, p_1, p_2, p_3, p_4, p_3, p_4,\n",
    "                                          p_1, p_2, p_1, p_2, p_3, p_4, p_3, p_4])\n",
    "\n",
    "    ss = invariant_distribution_analytically(M)\n",
    "\n",
    "\n",
    "    score = (ss @ sym.Matrix([b - c, -c, b, 0] * 4))[0].factor()\n",
    "    \n",
    "    in_ = False\n",
    "    \n",
    "    for old in scores:\n",
    "        if (score - old) == 0:\n",
    "            in_ = True\n",
    "            break\n",
    "    \n",
    "    if in_ == False:\n",
    "        scores.append(score)\n",
    "    "
   ]
  },
  {
   "cell_type": "code",
   "execution_count": 121,
   "metadata": {},
   "outputs": [
    {
     "data": {
      "text/plain": [
       "[b*p_4]"
      ]
     },
     "execution_count": 121,
     "metadata": {},
     "output_type": "execute_result"
    }
   ],
   "source": [
    "scores"
   ]
  },
  {
   "cell_type": "code",
   "execution_count": null,
   "metadata": {},
   "outputs": [],
   "source": [
    "scores"
   ]
  },
  {
   "cell_type": "code",
   "execution_count": 112,
   "metadata": {},
   "outputs": [],
   "source": [
    "values =  list(set(Counter(flat_list).values()))"
   ]
  },
  {
   "cell_type": "code",
   "execution_count": 113,
   "metadata": {},
   "outputs": [],
   "source": [
    "values.sort()"
   ]
  },
  {
   "cell_type": "code",
   "execution_count": 116,
   "metadata": {},
   "outputs": [
    {
     "data": {
      "text/plain": [
       "[180, 181, 182, 186, 205]"
      ]
     },
     "execution_count": 116,
     "metadata": {},
     "output_type": "execute_result"
    }
   ],
   "source": [
    "values[-5:]"
   ]
  },
  {
   "cell_type": "code",
   "execution_count": 117,
   "metadata": {},
   "outputs": [],
   "source": [
    "to_check = []\n",
    "for key, value in zip(counter_dic.keys(), counter_dic.values()):\n",
    "    if value == 186:\n",
    "        to_check.append(key)"
   ]
  },
  {
   "cell_type": "code",
   "execution_count": 118,
   "metadata": {},
   "outputs": [
    {
     "data": {
      "text/plain": [
       "['N53504',\n",
       " 'N53568',\n",
       " 'N53632',\n",
       " 'N53696',\n",
       " 'N54528',\n",
       " 'N54592',\n",
       " 'N54656',\n",
       " 'N54720',\n",
       " 'N55552',\n",
       " 'N55616',\n",
       " 'N55680',\n",
       " 'N55744',\n",
       " 'N56576',\n",
       " 'N56640',\n",
       " 'N56704',\n",
       " 'N56768']"
      ]
     },
     "execution_count": 118,
     "metadata": {},
     "output_type": "execute_result"
    }
   ],
   "source": [
    "to_check"
   ]
  },
  {
   "cell_type": "code",
   "execution_count": 98,
   "metadata": {},
   "outputs": [],
   "source": [
    "M = calculate_M_memory_two([0, 0, 0, 0] * 4 ,[p_1, p_2, p_1, p_2, p_3, p_4, p_3, p_4,\n",
    "                                             p_1, p_2, p_1, p_2, p_3, p_4, p_3, p_4])"
   ]
  },
  {
   "cell_type": "code",
   "execution_count": 99,
   "metadata": {},
   "outputs": [],
   "source": [
    "ss = invariant_distribution_analytically(M)"
   ]
  },
  {
   "cell_type": "code",
   "execution_count": 100,
   "metadata": {},
   "outputs": [
    {
     "data": {
      "text/latex": [
       "$\\displaystyle b p_{4}$"
      ],
      "text/plain": [
       "b*p_4"
      ]
     },
     "execution_count": 100,
     "metadata": {},
     "output_type": "execute_result"
    }
   ],
   "source": [
    "(ss @ sym.Matrix([b - c, -c, b, 0] * 4))[0].factor()"
   ]
  },
  {
   "cell_type": "code",
   "execution_count": 92,
   "metadata": {},
   "outputs": [],
   "source": [
    "M = transition_matrix([0, 0, 0, 0],[p_1, p_2, p_3, p_4], bits=4, analytical=True)"
   ]
  },
  {
   "cell_type": "code",
   "execution_count": 93,
   "metadata": {},
   "outputs": [],
   "source": [
    "ss = invariant_distribution_analytically(M)"
   ]
  },
  {
   "cell_type": "code",
   "execution_count": 94,
   "metadata": {},
   "outputs": [
    {
     "data": {
      "text/latex": [
       "$\\displaystyle b p_{4}$"
      ],
      "text/plain": [
       "b*p_4"
      ]
     },
     "execution_count": 94,
     "metadata": {},
     "output_type": "execute_result"
    }
   ],
   "source": [
    "(ss @ sym.Matrix([b - c, -c, b, 0] * 4))[0].factor()"
   ]
  },
  {
   "cell_type": "code",
   "execution_count": 12,
   "metadata": {},
   "outputs": [
    {
     "name": "stderr",
     "output_type": "stream",
     "text": [
      "<ipython-input-12-9c00a2ba7d9f>:3: TqdmDeprecationWarning: This function will be removed in tqdm==5.0.0\n",
      "Please use `tqdm.notebook.tqdm` instead of `tqdm.tqdm_notebook`\n",
      "  for file in tqdm.tqdm_notebook(files):\n"
     ]
    },
    {
     "data": {
      "application/vnd.jupyter.widget-view+json": {
       "model_id": "f7d06213c0f743fabd77e9d5acb4af0d",
       "version_major": 2,
       "version_minor": 0
      },
      "text/plain": [
       "HBox(children=(FloatProgress(value=0.0, max=400.0), HTML(value='')))"
      ]
     },
     "metadata": {},
     "output_type": "display_data"
    },
    {
     "name": "stdout",
     "output_type": "stream",
     "text": [
      "\n"
     ]
    }
   ],
   "source": [
    "nash_fails = []\n",
    "\n",
    "for file in tqdm.tqdm_notebook(files):\n",
    "    temp = pd.read_csv(file, index_col=0, names=columns2)\n",
    "    \n",
    "    nash_fails.append(list(temp[temp['condition A'] == False]['label'].values))"
   ]
  },
  {
   "cell_type": "code",
   "execution_count": 207,
   "metadata": {},
   "outputs": [
    {
     "data": {
      "text/plain": [
       "False"
      ]
     },
     "execution_count": 207,
     "metadata": {},
     "output_type": "execute_result"
    }
   ],
   "source": [
    "'N0' not in nash_fails[0]"
   ]
  },
  {
   "cell_type": "code",
   "execution_count": 209,
   "metadata": {},
   "outputs": [],
   "source": [
    "others = [s for s in nash_fails if 'N0' not in s]"
   ]
  },
  {
   "cell_type": "code",
   "execution_count": 223,
   "metadata": {},
   "outputs": [],
   "source": [
    "flat_list = [item for sublist in others for item in sublist]"
   ]
  },
  {
   "cell_type": "code",
   "execution_count": 216,
   "metadata": {},
   "outputs": [
    {
     "data": {
      "text/plain": [
       "25"
      ]
     },
     "execution_count": 216,
     "metadata": {},
     "output_type": "execute_result"
    }
   ],
   "source": [
    "max(Counter(flat_list).values())"
   ]
  },
  {
   "cell_type": "code",
   "execution_count": 225,
   "metadata": {},
   "outputs": [],
   "source": [
    "to_check = []\n",
    "for key, value in zip(Counter(flat_list).keys(), Counter(flat_list).values()):\n",
    "    if value == 25:\n",
    "        to_check.append(key)"
   ]
  },
  {
   "cell_type": "code",
   "execution_count": 226,
   "metadata": {},
   "outputs": [
    {
     "data": {
      "text/plain": [
       "['N8897',\n",
       " 'N8898',\n",
       " 'N8899',\n",
       " 'N8901',\n",
       " 'N8902',\n",
       " 'N8903',\n",
       " 'N8905',\n",
       " 'N8906',\n",
       " 'N8907',\n",
       " 'N8909',\n",
       " 'N8910',\n",
       " 'N8911',\n",
       " 'N8912',\n",
       " 'N8913',\n",
       " 'N8914',\n",
       " 'N8915',\n",
       " 'N8916',\n",
       " 'N8917',\n",
       " 'N8918',\n",
       " 'N8919',\n",
       " 'N8920',\n",
       " 'N8921',\n",
       " 'N8922',\n",
       " 'N8923',\n",
       " 'N8924',\n",
       " 'N8925',\n",
       " 'N8926',\n",
       " 'N8927',\n",
       " 'N8928',\n",
       " 'N8929',\n",
       " 'N8930',\n",
       " 'N8931',\n",
       " 'N8932',\n",
       " 'N8933',\n",
       " 'N8934',\n",
       " 'N8935',\n",
       " 'N8936',\n",
       " 'N8937',\n",
       " 'N8938',\n",
       " 'N8939',\n",
       " 'N8940',\n",
       " 'N8941',\n",
       " 'N8942',\n",
       " 'N8943',\n",
       " 'N8944',\n",
       " 'N8945',\n",
       " 'N8946',\n",
       " 'N8947',\n",
       " 'N8948',\n",
       " 'N8949',\n",
       " 'N8950',\n",
       " 'N8951',\n",
       " 'N8952',\n",
       " 'N8953',\n",
       " 'N8954',\n",
       " 'N8955',\n",
       " 'N8956',\n",
       " 'N8957',\n",
       " 'N8958',\n",
       " 'N8959',\n",
       " 'N9089',\n",
       " 'N9091',\n",
       " 'N9093',\n",
       " 'N9095',\n",
       " 'N9097',\n",
       " 'N9098',\n",
       " 'N9099',\n",
       " 'N9101',\n",
       " 'N9102',\n",
       " 'N9103',\n",
       " 'N9105',\n",
       " 'N9107',\n",
       " 'N9109',\n",
       " 'N9111',\n",
       " 'N9112',\n",
       " 'N9113',\n",
       " 'N9114',\n",
       " 'N9115',\n",
       " 'N9116',\n",
       " 'N9117',\n",
       " 'N9118',\n",
       " 'N9119',\n",
       " 'N9121',\n",
       " 'N9123',\n",
       " 'N9125',\n",
       " 'N9127',\n",
       " 'N9128',\n",
       " 'N9129',\n",
       " 'N9130',\n",
       " 'N9131',\n",
       " 'N9132',\n",
       " 'N9133',\n",
       " 'N9134',\n",
       " 'N9135',\n",
       " 'N9137',\n",
       " 'N9139',\n",
       " 'N9141',\n",
       " 'N9143',\n",
       " 'N9144',\n",
       " 'N9145',\n",
       " 'N9146',\n",
       " 'N9147',\n",
       " 'N9148',\n",
       " 'N9149',\n",
       " 'N9150',\n",
       " 'N9151',\n",
       " 'N9153',\n",
       " 'N9154',\n",
       " 'N9155',\n",
       " 'N9157',\n",
       " 'N9158',\n",
       " 'N9159',\n",
       " 'N9161',\n",
       " 'N9162',\n",
       " 'N9163',\n",
       " 'N9165',\n",
       " 'N9166',\n",
       " 'N9167',\n",
       " 'N9168',\n",
       " 'N9169',\n",
       " 'N9170',\n",
       " 'N9171',\n",
       " 'N9172',\n",
       " 'N9173',\n",
       " 'N9174',\n",
       " 'N9175',\n",
       " 'N9176',\n",
       " 'N9177',\n",
       " 'N9178',\n",
       " 'N9179',\n",
       " 'N9180',\n",
       " 'N9181',\n",
       " 'N9182',\n",
       " 'N9183',\n",
       " 'N9184',\n",
       " 'N9185',\n",
       " 'N9186',\n",
       " 'N9187',\n",
       " 'N9188',\n",
       " 'N9189',\n",
       " 'N9190',\n",
       " 'N9191',\n",
       " 'N9192',\n",
       " 'N9193',\n",
       " 'N9194',\n",
       " 'N9195',\n",
       " 'N9196',\n",
       " 'N9197',\n",
       " 'N9198',\n",
       " 'N9199',\n",
       " 'N9200',\n",
       " 'N9201',\n",
       " 'N9202',\n",
       " 'N9203',\n",
       " 'N9204',\n",
       " 'N9205',\n",
       " 'N9206',\n",
       " 'N9207',\n",
       " 'N9208',\n",
       " 'N9209',\n",
       " 'N9210',\n",
       " 'N9211',\n",
       " 'N9212',\n",
       " 'N9213',\n",
       " 'N9214',\n",
       " 'N9215',\n",
       " 'N9921',\n",
       " 'N9922',\n",
       " 'N9923',\n",
       " 'N9925',\n",
       " 'N9926',\n",
       " 'N9927',\n",
       " 'N9929',\n",
       " 'N9930',\n",
       " 'N9931',\n",
       " 'N9933',\n",
       " 'N9934',\n",
       " 'N9935',\n",
       " 'N9936',\n",
       " 'N9937',\n",
       " 'N9938',\n",
       " 'N9939',\n",
       " 'N9940',\n",
       " 'N9941',\n",
       " 'N9942',\n",
       " 'N9943',\n",
       " 'N9944',\n",
       " 'N9945',\n",
       " 'N9946',\n",
       " 'N9947',\n",
       " 'N9948',\n",
       " 'N9949',\n",
       " 'N9950',\n",
       " 'N9951',\n",
       " 'N9952',\n",
       " 'N9953',\n",
       " 'N9954',\n",
       " 'N9955',\n",
       " 'N9956',\n",
       " 'N9957',\n",
       " 'N9958',\n",
       " 'N9959',\n",
       " 'N9960',\n",
       " 'N9961',\n",
       " 'N9962',\n",
       " 'N9963',\n",
       " 'N9964',\n",
       " 'N9965',\n",
       " 'N9966',\n",
       " 'N9967',\n",
       " 'N9968',\n",
       " 'N9969',\n",
       " 'N9970',\n",
       " 'N9971',\n",
       " 'N9972',\n",
       " 'N9973',\n",
       " 'N9974',\n",
       " 'N9975',\n",
       " 'N9976',\n",
       " 'N9977',\n",
       " 'N9978',\n",
       " 'N9979',\n",
       " 'N9980',\n",
       " 'N9981',\n",
       " 'N9982',\n",
       " 'N9983',\n",
       " 'N10113',\n",
       " 'N10115',\n",
       " 'N10117',\n",
       " 'N10119',\n",
       " 'N10121',\n",
       " 'N10122',\n",
       " 'N10123',\n",
       " 'N10125',\n",
       " 'N10126',\n",
       " 'N10127',\n",
       " 'N10129',\n",
       " 'N10131',\n",
       " 'N10133',\n",
       " 'N10135',\n",
       " 'N10136',\n",
       " 'N10137',\n",
       " 'N10138',\n",
       " 'N10139',\n",
       " 'N10140',\n",
       " 'N10141',\n",
       " 'N10142',\n",
       " 'N10143',\n",
       " 'N10145',\n",
       " 'N10147',\n",
       " 'N10149',\n",
       " 'N10151',\n",
       " 'N10152',\n",
       " 'N10153',\n",
       " 'N10154',\n",
       " 'N10155',\n",
       " 'N10156',\n",
       " 'N10157',\n",
       " 'N10158',\n",
       " 'N10159',\n",
       " 'N10161',\n",
       " 'N10163',\n",
       " 'N10165',\n",
       " 'N10167',\n",
       " 'N10168',\n",
       " 'N10169',\n",
       " 'N10170',\n",
       " 'N10171',\n",
       " 'N10172',\n",
       " 'N10173',\n",
       " 'N10174',\n",
       " 'N10175',\n",
       " 'N10177',\n",
       " 'N10178',\n",
       " 'N10179',\n",
       " 'N10181',\n",
       " 'N10182',\n",
       " 'N10183',\n",
       " 'N10185',\n",
       " 'N10186',\n",
       " 'N10187',\n",
       " 'N10189',\n",
       " 'N10190',\n",
       " 'N10191',\n",
       " 'N10192',\n",
       " 'N10193',\n",
       " 'N10194',\n",
       " 'N10195',\n",
       " 'N10196',\n",
       " 'N10197',\n",
       " 'N10198',\n",
       " 'N10199',\n",
       " 'N10200',\n",
       " 'N10201',\n",
       " 'N10202',\n",
       " 'N10203',\n",
       " 'N10204',\n",
       " 'N10205',\n",
       " 'N10206',\n",
       " 'N10207',\n",
       " 'N10208',\n",
       " 'N10209',\n",
       " 'N10210',\n",
       " 'N10211',\n",
       " 'N10212',\n",
       " 'N10213',\n",
       " 'N10214',\n",
       " 'N10215',\n",
       " 'N10216',\n",
       " 'N10217',\n",
       " 'N10218',\n",
       " 'N10219',\n",
       " 'N10220',\n",
       " 'N10221',\n",
       " 'N10222',\n",
       " 'N10223',\n",
       " 'N10224',\n",
       " 'N10225',\n",
       " 'N10226',\n",
       " 'N10227',\n",
       " 'N10228',\n",
       " 'N10229',\n",
       " 'N10230',\n",
       " 'N10231',\n",
       " 'N10232',\n",
       " 'N10233',\n",
       " 'N10234',\n",
       " 'N10235',\n",
       " 'N10236',\n",
       " 'N10237',\n",
       " 'N10238',\n",
       " 'N10239',\n",
       " 'N10945',\n",
       " 'N10946',\n",
       " 'N10947',\n",
       " 'N10949',\n",
       " 'N10950',\n",
       " 'N10951',\n",
       " 'N10953',\n",
       " 'N10954',\n",
       " 'N10955',\n",
       " 'N10957',\n",
       " 'N10958',\n",
       " 'N10959',\n",
       " 'N10960',\n",
       " 'N10961',\n",
       " 'N10962',\n",
       " 'N10963',\n",
       " 'N10964',\n",
       " 'N10965',\n",
       " 'N10966',\n",
       " 'N10967',\n",
       " 'N10968',\n",
       " 'N10969',\n",
       " 'N10970',\n",
       " 'N10971',\n",
       " 'N10972',\n",
       " 'N10973',\n",
       " 'N10974',\n",
       " 'N10975',\n",
       " 'N10976',\n",
       " 'N10977',\n",
       " 'N10978',\n",
       " 'N10979',\n",
       " 'N10980',\n",
       " 'N10981',\n",
       " 'N10982',\n",
       " 'N10983',\n",
       " 'N10984',\n",
       " 'N10985',\n",
       " 'N10986',\n",
       " 'N10987',\n",
       " 'N10988',\n",
       " 'N10989',\n",
       " 'N10990',\n",
       " 'N10991',\n",
       " 'N10992',\n",
       " 'N10993',\n",
       " 'N10994',\n",
       " 'N10995',\n",
       " 'N10996',\n",
       " 'N10997',\n",
       " 'N10998',\n",
       " 'N10999',\n",
       " 'N11000',\n",
       " 'N11001',\n",
       " 'N11002',\n",
       " 'N11003',\n",
       " 'N11004',\n",
       " 'N11005',\n",
       " 'N11006',\n",
       " 'N11007',\n",
       " 'N11137',\n",
       " 'N11139',\n",
       " 'N11141',\n",
       " 'N11143',\n",
       " 'N11145',\n",
       " 'N11146',\n",
       " 'N11147',\n",
       " 'N11149',\n",
       " 'N11150',\n",
       " 'N11151',\n",
       " 'N11153',\n",
       " 'N11155',\n",
       " 'N11157',\n",
       " 'N11159',\n",
       " 'N11160',\n",
       " 'N11161',\n",
       " 'N11162',\n",
       " 'N11163',\n",
       " 'N11164',\n",
       " 'N11165',\n",
       " 'N11166',\n",
       " 'N11167',\n",
       " 'N11169',\n",
       " 'N11171',\n",
       " 'N11173',\n",
       " 'N11175',\n",
       " 'N11176',\n",
       " 'N11177',\n",
       " 'N11178',\n",
       " 'N11179',\n",
       " 'N11180',\n",
       " 'N11181',\n",
       " 'N11182',\n",
       " 'N11183',\n",
       " 'N11185',\n",
       " 'N11187',\n",
       " 'N11189',\n",
       " 'N11191',\n",
       " 'N11192',\n",
       " 'N11193',\n",
       " 'N11194',\n",
       " 'N11195',\n",
       " 'N11196',\n",
       " 'N11197',\n",
       " 'N11198',\n",
       " 'N11199',\n",
       " 'N11201',\n",
       " 'N11202',\n",
       " 'N11203',\n",
       " 'N11205',\n",
       " 'N11206',\n",
       " 'N11207',\n",
       " 'N11209',\n",
       " 'N11210',\n",
       " 'N11211',\n",
       " 'N11213',\n",
       " 'N11214',\n",
       " 'N11215',\n",
       " 'N11216',\n",
       " 'N11217',\n",
       " 'N11218',\n",
       " 'N11219',\n",
       " 'N11220',\n",
       " 'N11221',\n",
       " 'N11222',\n",
       " 'N11223',\n",
       " 'N11224',\n",
       " 'N11225',\n",
       " 'N11226',\n",
       " 'N11227',\n",
       " 'N11228',\n",
       " 'N11229',\n",
       " 'N11230',\n",
       " 'N11231',\n",
       " 'N11232',\n",
       " 'N11233',\n",
       " 'N11234',\n",
       " 'N11235',\n",
       " 'N11236',\n",
       " 'N11237',\n",
       " 'N11238',\n",
       " 'N11239',\n",
       " 'N11240',\n",
       " 'N11241',\n",
       " 'N11242',\n",
       " 'N11243',\n",
       " 'N11244',\n",
       " 'N11245',\n",
       " 'N11246',\n",
       " 'N11247',\n",
       " 'N11248',\n",
       " 'N11249',\n",
       " 'N11250',\n",
       " 'N11251',\n",
       " 'N11252',\n",
       " 'N11253',\n",
       " 'N11254',\n",
       " 'N11255',\n",
       " 'N11256',\n",
       " 'N11257',\n",
       " 'N11258',\n",
       " 'N11259',\n",
       " 'N11260',\n",
       " 'N11261',\n",
       " 'N11262',\n",
       " 'N11263',\n",
       " 'N11969',\n",
       " 'N11970',\n",
       " 'N11971',\n",
       " 'N11973',\n",
       " 'N11974',\n",
       " 'N11975',\n",
       " 'N11977',\n",
       " 'N11978',\n",
       " 'N11979',\n",
       " 'N11981',\n",
       " 'N11982',\n",
       " 'N11983',\n",
       " 'N11984',\n",
       " 'N11985',\n",
       " 'N11986',\n",
       " 'N11987',\n",
       " 'N11988',\n",
       " 'N11989',\n",
       " 'N11990',\n",
       " 'N11991',\n",
       " 'N11992',\n",
       " 'N11993',\n",
       " 'N11994',\n",
       " 'N11995',\n",
       " 'N11996',\n",
       " 'N11997',\n",
       " 'N11998',\n",
       " 'N11999',\n",
       " 'N12000',\n",
       " 'N12001',\n",
       " 'N12002',\n",
       " 'N12003',\n",
       " 'N12004',\n",
       " 'N12005',\n",
       " 'N12006',\n",
       " 'N12007',\n",
       " 'N12008',\n",
       " 'N12009',\n",
       " 'N12010',\n",
       " 'N12011',\n",
       " 'N12012',\n",
       " 'N12013',\n",
       " 'N12014',\n",
       " 'N12015',\n",
       " 'N12016',\n",
       " 'N12017',\n",
       " 'N12018',\n",
       " 'N12019',\n",
       " 'N12020',\n",
       " 'N12021',\n",
       " 'N12022',\n",
       " 'N12023',\n",
       " 'N12024',\n",
       " 'N12025',\n",
       " 'N12026',\n",
       " 'N12027',\n",
       " 'N12028',\n",
       " 'N12029',\n",
       " 'N12030',\n",
       " 'N12031',\n",
       " 'N12161',\n",
       " 'N12163',\n",
       " 'N12165',\n",
       " 'N12167',\n",
       " 'N12169',\n",
       " 'N12170',\n",
       " 'N12171',\n",
       " 'N12173',\n",
       " 'N12174',\n",
       " 'N12175',\n",
       " 'N12177',\n",
       " 'N12179',\n",
       " 'N12181',\n",
       " 'N12183',\n",
       " 'N12184',\n",
       " 'N12185',\n",
       " 'N12186',\n",
       " 'N12187',\n",
       " 'N12188',\n",
       " 'N12189',\n",
       " 'N12190',\n",
       " 'N12191',\n",
       " 'N12193',\n",
       " 'N12195',\n",
       " 'N12197',\n",
       " 'N12199',\n",
       " 'N12200',\n",
       " 'N12201',\n",
       " 'N12202',\n",
       " 'N12203',\n",
       " 'N12204',\n",
       " 'N12205',\n",
       " 'N12206',\n",
       " 'N12207',\n",
       " 'N12209',\n",
       " 'N12211',\n",
       " 'N12213',\n",
       " 'N12215',\n",
       " 'N12216',\n",
       " 'N12217',\n",
       " 'N12218',\n",
       " 'N12219',\n",
       " 'N12220',\n",
       " 'N12221',\n",
       " 'N12222',\n",
       " 'N12223',\n",
       " 'N12225',\n",
       " 'N12226',\n",
       " 'N12227',\n",
       " 'N12229',\n",
       " 'N12230',\n",
       " 'N12231',\n",
       " 'N12233',\n",
       " 'N12234',\n",
       " 'N12235',\n",
       " 'N12237',\n",
       " 'N12238',\n",
       " 'N12239',\n",
       " 'N12240',\n",
       " 'N12241',\n",
       " 'N12242',\n",
       " 'N12243',\n",
       " 'N12244',\n",
       " 'N12245',\n",
       " 'N12246',\n",
       " 'N12247',\n",
       " 'N12248',\n",
       " 'N12249',\n",
       " 'N12250',\n",
       " 'N12251',\n",
       " 'N12252',\n",
       " 'N12253',\n",
       " 'N12254',\n",
       " 'N12255',\n",
       " 'N12256',\n",
       " 'N12257',\n",
       " 'N12258',\n",
       " 'N12259',\n",
       " 'N12260',\n",
       " 'N12261',\n",
       " 'N12262',\n",
       " 'N12263',\n",
       " 'N12264',\n",
       " 'N12265',\n",
       " 'N12266',\n",
       " 'N12267',\n",
       " 'N12268',\n",
       " 'N12269',\n",
       " 'N12270',\n",
       " 'N12271',\n",
       " 'N12272',\n",
       " 'N12273',\n",
       " 'N12274',\n",
       " 'N12275',\n",
       " 'N12276',\n",
       " 'N12277',\n",
       " 'N12278',\n",
       " 'N12279',\n",
       " 'N12280',\n",
       " 'N12281',\n",
       " 'N12282',\n",
       " 'N12283',\n",
       " 'N12284',\n",
       " 'N12285',\n",
       " 'N12286',\n",
       " 'N12287',\n",
       " 'N12807',\n",
       " 'N12815',\n",
       " 'N12823',\n",
       " 'N12831',\n",
       " 'N12839',\n",
       " 'N12847',\n",
       " 'N12855',\n",
       " 'N12863',\n",
       " 'N12865',\n",
       " 'N12867',\n",
       " 'N12869',\n",
       " 'N12870',\n",
       " 'N12871',\n",
       " 'N12873',\n",
       " 'N12875',\n",
       " 'N12877',\n",
       " 'N12878',\n",
       " 'N12879',\n",
       " 'N12881',\n",
       " 'N12883',\n",
       " 'N12884',\n",
       " 'N12885',\n",
       " 'N12886',\n",
       " 'N12887',\n",
       " 'N12889',\n",
       " 'N12891',\n",
       " 'N12892',\n",
       " 'N12893',\n",
       " 'N12894',\n",
       " 'N12895',\n",
       " 'N12897',\n",
       " 'N12899',\n",
       " 'N12900',\n",
       " 'N12901',\n",
       " 'N12902',\n",
       " 'N12903',\n",
       " 'N12905',\n",
       " 'N12907',\n",
       " 'N12908',\n",
       " 'N12909',\n",
       " 'N12910',\n",
       " 'N12911',\n",
       " 'N12913',\n",
       " 'N12915',\n",
       " 'N12916',\n",
       " 'N12917',\n",
       " 'N12918',\n",
       " 'N12919',\n",
       " 'N12921',\n",
       " 'N12923',\n",
       " 'N12924',\n",
       " 'N12925',\n",
       " 'N12926',\n",
       " 'N12927',\n",
       " 'N12993',\n",
       " 'N12994',\n",
       " 'N12995',\n",
       " 'N12997',\n",
       " 'N12998',\n",
       " 'N12999',\n",
       " 'N13001',\n",
       " 'N13002',\n",
       " 'N13003',\n",
       " 'N13005',\n",
       " 'N13006',\n",
       " 'N13007',\n",
       " 'N13008',\n",
       " 'N13009',\n",
       " 'N13010',\n",
       " 'N13011',\n",
       " 'N13012',\n",
       " 'N13013',\n",
       " 'N13014',\n",
       " 'N13015',\n",
       " 'N13016',\n",
       " 'N13017',\n",
       " 'N13018',\n",
       " 'N13019',\n",
       " 'N13020',\n",
       " 'N13021',\n",
       " 'N13022',\n",
       " 'N13023',\n",
       " 'N13024',\n",
       " 'N13025',\n",
       " 'N13026',\n",
       " 'N13027',\n",
       " 'N13028',\n",
       " 'N13029',\n",
       " 'N13030',\n",
       " 'N13031',\n",
       " 'N13032',\n",
       " 'N13033',\n",
       " 'N13034',\n",
       " 'N13035',\n",
       " 'N13036',\n",
       " 'N13037',\n",
       " 'N13038',\n",
       " 'N13039',\n",
       " 'N13040',\n",
       " 'N13041',\n",
       " 'N13042',\n",
       " 'N13043',\n",
       " 'N13044',\n",
       " 'N13045',\n",
       " 'N13046',\n",
       " 'N13047',\n",
       " 'N13048',\n",
       " 'N13049',\n",
       " 'N13050',\n",
       " 'N13051',\n",
       " 'N13052',\n",
       " 'N13053',\n",
       " 'N13054',\n",
       " 'N13055',\n",
       " 'N13057',\n",
       " 'N13058',\n",
       " 'N13059',\n",
       " 'N13061',\n",
       " 'N13062',\n",
       " 'N13063',\n",
       " 'N13065',\n",
       " 'N13066',\n",
       " 'N13067',\n",
       " 'N13069',\n",
       " 'N13070',\n",
       " 'N13071',\n",
       " 'N13072',\n",
       " 'N13073',\n",
       " 'N13074',\n",
       " 'N13075',\n",
       " 'N13076',\n",
       " 'N13077',\n",
       " 'N13078',\n",
       " 'N13079',\n",
       " 'N13080',\n",
       " 'N13081',\n",
       " 'N13082',\n",
       " 'N13083',\n",
       " 'N13084',\n",
       " 'N13085',\n",
       " 'N13086',\n",
       " 'N13087',\n",
       " 'N13088',\n",
       " 'N13089',\n",
       " 'N13090',\n",
       " 'N13091',\n",
       " 'N13092',\n",
       " 'N13093',\n",
       " 'N13094',\n",
       " 'N13095',\n",
       " 'N13096',\n",
       " 'N13097',\n",
       " 'N13098',\n",
       " 'N13099',\n",
       " 'N13100',\n",
       " 'N13101',\n",
       " 'N13102',\n",
       " 'N13103',\n",
       " 'N13104',\n",
       " 'N13105',\n",
       " 'N13106',\n",
       " 'N13107',\n",
       " 'N13108',\n",
       " 'N13109',\n",
       " 'N13110',\n",
       " 'N13111',\n",
       " 'N13112',\n",
       " 'N13113',\n",
       " 'N13114',\n",
       " 'N13115',\n",
       " 'N13116',\n",
       " 'N13117',\n",
       " 'N13118',\n",
       " 'N13119',\n",
       " 'N13121',\n",
       " 'N13122',\n",
       " 'N13123',\n",
       " 'N13125',\n",
       " 'N13126',\n",
       " 'N13127',\n",
       " 'N13129',\n",
       " 'N13130',\n",
       " 'N13131',\n",
       " 'N13133',\n",
       " 'N13134',\n",
       " 'N13135',\n",
       " 'N13136',\n",
       " 'N13137',\n",
       " 'N13138',\n",
       " 'N13139',\n",
       " 'N13140',\n",
       " 'N13141',\n",
       " 'N13142',\n",
       " 'N13143',\n",
       " 'N13144',\n",
       " 'N13145',\n",
       " 'N13146',\n",
       " 'N13147',\n",
       " 'N13148',\n",
       " 'N13149',\n",
       " 'N13150',\n",
       " 'N13151',\n",
       " 'N13152',\n",
       " 'N13153',\n",
       " 'N13154',\n",
       " 'N13155',\n",
       " 'N13156',\n",
       " 'N13157',\n",
       " 'N13158',\n",
       " 'N13159',\n",
       " 'N13160',\n",
       " 'N13161',\n",
       " 'N13162',\n",
       " 'N13163',\n",
       " 'N13164',\n",
       " 'N13165',\n",
       " 'N13166',\n",
       " 'N13167',\n",
       " 'N13168',\n",
       " 'N13169',\n",
       " 'N13170',\n",
       " 'N13171',\n",
       " 'N13172',\n",
       " 'N13173',\n",
       " 'N13174',\n",
       " 'N13175',\n",
       " 'N13176',\n",
       " 'N13177',\n",
       " 'N13178',\n",
       " 'N13179',\n",
       " 'N13180',\n",
       " 'N13181',\n",
       " 'N13182',\n",
       " 'N13183',\n",
       " 'N13185',\n",
       " 'N13186',\n",
       " 'N13187',\n",
       " 'N13189',\n",
       " 'N13190',\n",
       " 'N13191',\n",
       " 'N13193',\n",
       " 'N13194',\n",
       " 'N13195',\n",
       " 'N13197',\n",
       " 'N13198',\n",
       " 'N13199',\n",
       " 'N13200',\n",
       " 'N13201',\n",
       " 'N13202',\n",
       " 'N13203',\n",
       " 'N13204',\n",
       " 'N13205',\n",
       " 'N13206',\n",
       " 'N13207',\n",
       " 'N13208',\n",
       " 'N13209',\n",
       " 'N13210',\n",
       " 'N13211',\n",
       " 'N13212',\n",
       " 'N13213',\n",
       " 'N13214',\n",
       " 'N13215',\n",
       " 'N13216',\n",
       " 'N13217',\n",
       " 'N13218',\n",
       " 'N13219',\n",
       " 'N13220',\n",
       " 'N13221',\n",
       " 'N13222',\n",
       " 'N13223',\n",
       " 'N13224',\n",
       " 'N13225',\n",
       " 'N13226',\n",
       " 'N13227',\n",
       " 'N13228',\n",
       " 'N13229',\n",
       " 'N13230',\n",
       " 'N13231',\n",
       " 'N13232',\n",
       " 'N13233',\n",
       " 'N13234',\n",
       " 'N13235',\n",
       " 'N13236',\n",
       " 'N13237',\n",
       " 'N13238',\n",
       " 'N13239',\n",
       " 'N13240',\n",
       " 'N13241',\n",
       " 'N13242',\n",
       " 'N13243',\n",
       " 'N13244',\n",
       " 'N13245',\n",
       " 'N13246',\n",
       " 'N13247',\n",
       " 'N13248',\n",
       " 'N13249',\n",
       " 'N13250',\n",
       " 'N13251',\n",
       " 'N13253',\n",
       " 'N13254',\n",
       " 'N13255',\n",
       " 'N13257',\n",
       " 'N13258',\n",
       " 'N13259',\n",
       " 'N13261',\n",
       " 'N13262',\n",
       " 'N13263',\n",
       " 'N13264',\n",
       " 'N13265',\n",
       " 'N13266',\n",
       " 'N13267',\n",
       " 'N13268',\n",
       " 'N13269',\n",
       " 'N13270',\n",
       " 'N13271',\n",
       " 'N13272',\n",
       " 'N13273',\n",
       " 'N13274',\n",
       " 'N13275',\n",
       " 'N13276',\n",
       " 'N13277',\n",
       " 'N13278',\n",
       " 'N13279',\n",
       " 'N13280',\n",
       " 'N13281',\n",
       " 'N13282',\n",
       " 'N13283',\n",
       " 'N13284',\n",
       " 'N13285',\n",
       " 'N13286',\n",
       " 'N13287',\n",
       " 'N13288',\n",
       " 'N13289',\n",
       " 'N13290',\n",
       " 'N13291',\n",
       " 'N13292',\n",
       " ...]"
      ]
     },
     "execution_count": 226,
     "metadata": {},
     "output_type": "execute_result"
    }
   ],
   "source": [
    "to_check"
   ]
  },
  {
   "cell_type": "code",
   "execution_count": 221,
   "metadata": {},
   "outputs": [
    {
     "data": {
      "text/plain": [
       "195"
      ]
     },
     "execution_count": 221,
     "metadata": {},
     "output_type": "execute_result"
    }
   ],
   "source": [
    "len(others)"
   ]
  },
  {
   "cell_type": "code",
   "execution_count": 224,
   "metadata": {},
   "outputs": [
    {
     "data": {
      "text/plain": [
       "25"
      ]
     },
     "execution_count": 224,
     "metadata": {},
     "output_type": "execute_result"
    }
   ],
   "source": [
    "max(Counter(flat_list).values())"
   ]
  },
  {
   "cell_type": "code",
   "execution_count": 184,
   "metadata": {},
   "outputs": [],
   "source": [
    "dfs = [pd.read_csv(file, index_col=0, names=columns2).tail(1) for file in files]\n",
    "\n",
    "df2 = pd.concat(dfs)"
   ]
  },
  {
   "cell_type": "code",
   "execution_count": 185,
   "metadata": {},
   "outputs": [
    {
     "data": {
      "text/plain": [
       "1000"
      ]
     },
     "execution_count": 185,
     "metadata": {},
     "output_type": "execute_result"
    }
   ],
   "source": [
    "df2['ID'].nunique()"
   ]
  },
  {
   "cell_type": "code",
   "execution_count": 188,
   "metadata": {},
   "outputs": [
    {
     "data": {
      "text/plain": [
       "Counter({'N65535': 49,\n",
       " 'N0': 44,\n",
       " 'N931': 1,\n",
       " 'N547': 1,\n",
       " 'N8771': 1,\n",
       " 'N33': 1,\n",
       " 'N8833': 1,\n",
       " 'N1': 1,\n",
       " 'N8261': 1,\n",
       " 'N8258': 1})"
      ]
     },
     "execution_count": 188,
     "metadata": {},
     "output_type": "execute_result"
    }
   ],
   "source": [
    "Counter(df2[df2['ID'] <= 100]['label'])"
   ]
  },
  {
   "cell_type": "code",
   "execution_count": 190,
   "metadata": {},
   "outputs": [],
   "source": [
    "player = [1, 0.19705, 1, 0.19705, 0.45986, 0.04461, 0.45986, 0.04461, 1, 0.19705, 1, 0.19705, 0.45986, 0.04461, 0.45986, 0.04461]"
   ]
  },
  {
   "cell_type": "code",
   "execution_count": 191,
   "metadata": {},
   "outputs": [],
   "source": [
    "def match_payoff(player, coplayer, Sx):\n",
    "    \n",
    "    M = calculate_M_memory_two(player, coplayer)\n",
    "    ss = invariant_distribution(M)\n",
    "\n",
    "    return ss @ Sx\n"
   ]
  },
  {
   "cell_type": "code",
   "execution_count": 194,
   "metadata": {},
   "outputs": [],
   "source": [
    "labels = [f\"N{i}\" for i, _ in enumerate(deterministic_strategies)]"
   ]
  },
  {
   "cell_type": "code",
   "execution_count": 210,
   "metadata": {},
   "outputs": [],
   "source": [
    "Sx = np.array([2, -1, 3, 0] * 4)"
   ]
  },
  {
   "cell_type": "code",
   "execution_count": 213,
   "metadata": {},
   "outputs": [],
   "source": [
    "strategy = player \n",
    "\n",
    "sx = match_payoff(strategy, strategy, Sx)\n",
    "data = []\n",
    "\n",
    "for label, coplayer in zip(labels, deterministic_strategies):\n",
    "\n",
    "    sy = match_payoff(coplayer, strategy, Sx)\n",
    "    A = np.isclose(sx, sy, atol=10 ** -4) or sx > sy\n",
    "\n",
    "    data_point = [\n",
    "        A,\n",
    "        label,\n",
    "    ]\n",
    "    data.append(data_point)"
   ]
  },
  {
   "cell_type": "code",
   "execution_count": 214,
   "metadata": {},
   "outputs": [
    {
     "data": {
      "text/plain": [
       "[True, 'N65535']"
      ]
     },
     "execution_count": 214,
     "metadata": {},
     "output_type": "execute_result"
    }
   ],
   "source": [
    "data[-1]"
   ]
  },
  {
   "cell_type": "code",
   "execution_count": 174,
   "metadata": {},
   "outputs": [],
   "source": [
    "player_cols = [f\"p{i+1}\" for i in range(16)]"
   ]
  },
  {
   "cell_type": "code",
   "execution_count": 177,
   "metadata": {},
   "outputs": [
    {
     "data": {
      "text/html": [
       "<div>\n",
       "<style scoped>\n",
       "    .dataframe tbody tr th:only-of-type {\n",
       "        vertical-align: middle;\n",
       "    }\n",
       "\n",
       "    .dataframe tbody tr th {\n",
       "        vertical-align: top;\n",
       "    }\n",
       "\n",
       "    .dataframe thead th {\n",
       "        text-align: right;\n",
       "    }\n",
       "</style>\n",
       "<table border=\"1\" class=\"dataframe\">\n",
       "  <thead>\n",
       "    <tr style=\"text-align: right;\">\n",
       "      <th></th>\n",
       "      <th></th>\n",
       "      <th>p1</th>\n",
       "      <th>p2</th>\n",
       "      <th>p3</th>\n",
       "      <th>p4</th>\n",
       "      <th>p5</th>\n",
       "      <th>p6</th>\n",
       "      <th>p7</th>\n",
       "      <th>p8</th>\n",
       "      <th>p9</th>\n",
       "      <th>p10</th>\n",
       "      <th>p11</th>\n",
       "      <th>p12</th>\n",
       "      <th>p13</th>\n",
       "      <th>p14</th>\n",
       "      <th>p15</th>\n",
       "      <th>p16</th>\n",
       "    </tr>\n",
       "  </thead>\n",
       "  <tbody>\n",
       "    <tr>\n",
       "      <th>0</th>\n",
       "      <td>65535</td>\n",
       "      <td>1</td>\n",
       "      <td>0.19705</td>\n",
       "      <td>1</td>\n",
       "      <td>0.19705</td>\n",
       "      <td>0.45986</td>\n",
       "      <td>0.04461</td>\n",
       "      <td>0.45986</td>\n",
       "      <td>0.04461</td>\n",
       "      <td>1</td>\n",
       "      <td>0.19705</td>\n",
       "      <td>1</td>\n",
       "      <td>0.19705</td>\n",
       "      <td>0.45986</td>\n",
       "      <td>0.04461</td>\n",
       "      <td>0.45986</td>\n",
       "      <td>0.04461</td>\n",
       "    </tr>\n",
       "    <tr>\n",
       "      <th>1</th>\n",
       "      <td>65535</td>\n",
       "      <td>1</td>\n",
       "      <td>0.29008</td>\n",
       "      <td>1</td>\n",
       "      <td>0.29008</td>\n",
       "      <td>0.61802</td>\n",
       "      <td>0.42877</td>\n",
       "      <td>0.61802</td>\n",
       "      <td>0.42877</td>\n",
       "      <td>1</td>\n",
       "      <td>0.29008</td>\n",
       "      <td>1</td>\n",
       "      <td>0.29008</td>\n",
       "      <td>0.61802</td>\n",
       "      <td>0.42877</td>\n",
       "      <td>0.61802</td>\n",
       "      <td>0.42877</td>\n",
       "    </tr>\n",
       "    <tr>\n",
       "      <th>2</th>\n",
       "      <td>65535</td>\n",
       "      <td>1</td>\n",
       "      <td>0.09610</td>\n",
       "      <td>1</td>\n",
       "      <td>0.09610</td>\n",
       "      <td>0.97646</td>\n",
       "      <td>0.46865</td>\n",
       "      <td>0.97646</td>\n",
       "      <td>0.46865</td>\n",
       "      <td>1</td>\n",
       "      <td>0.09610</td>\n",
       "      <td>1</td>\n",
       "      <td>0.09610</td>\n",
       "      <td>0.97646</td>\n",
       "      <td>0.46865</td>\n",
       "      <td>0.97646</td>\n",
       "      <td>0.46865</td>\n",
       "    </tr>\n",
       "    <tr>\n",
       "      <th>3</th>\n",
       "      <td>65535</td>\n",
       "      <td>1</td>\n",
       "      <td>0.56843</td>\n",
       "      <td>1</td>\n",
       "      <td>0.56843</td>\n",
       "      <td>0.01879</td>\n",
       "      <td>0.61764</td>\n",
       "      <td>0.01879</td>\n",
       "      <td>0.61764</td>\n",
       "      <td>1</td>\n",
       "      <td>0.56843</td>\n",
       "      <td>1</td>\n",
       "      <td>0.56843</td>\n",
       "      <td>0.01879</td>\n",
       "      <td>0.61764</td>\n",
       "      <td>0.01879</td>\n",
       "      <td>0.61764</td>\n",
       "    </tr>\n",
       "    <tr>\n",
       "      <th>4</th>\n",
       "      <td>65535</td>\n",
       "      <td>1</td>\n",
       "      <td>0.64589</td>\n",
       "      <td>1</td>\n",
       "      <td>0.64589</td>\n",
       "      <td>0.43759</td>\n",
       "      <td>0.89177</td>\n",
       "      <td>0.43759</td>\n",
       "      <td>0.89177</td>\n",
       "      <td>1</td>\n",
       "      <td>0.64589</td>\n",
       "      <td>1</td>\n",
       "      <td>0.64589</td>\n",
       "      <td>0.43759</td>\n",
       "      <td>0.89177</td>\n",
       "      <td>0.43759</td>\n",
       "      <td>0.89177</td>\n",
       "    </tr>\n",
       "    <tr>\n",
       "      <th>...</th>\n",
       "      <td>...</td>\n",
       "      <td>...</td>\n",
       "      <td>...</td>\n",
       "      <td>...</td>\n",
       "      <td>...</td>\n",
       "      <td>...</td>\n",
       "      <td>...</td>\n",
       "      <td>...</td>\n",
       "      <td>...</td>\n",
       "      <td>...</td>\n",
       "      <td>...</td>\n",
       "      <td>...</td>\n",
       "      <td>...</td>\n",
       "      <td>...</td>\n",
       "      <td>...</td>\n",
       "      <td>...</td>\n",
       "      <td>...</td>\n",
       "    </tr>\n",
       "    <tr>\n",
       "      <th>95</th>\n",
       "      <td>65535</td>\n",
       "      <td>1</td>\n",
       "      <td>0.60485</td>\n",
       "      <td>1</td>\n",
       "      <td>0.60485</td>\n",
       "      <td>0.73926</td>\n",
       "      <td>0.03919</td>\n",
       "      <td>0.73926</td>\n",
       "      <td>0.03919</td>\n",
       "      <td>1</td>\n",
       "      <td>0.60485</td>\n",
       "      <td>1</td>\n",
       "      <td>0.60485</td>\n",
       "      <td>0.73926</td>\n",
       "      <td>0.03919</td>\n",
       "      <td>0.73926</td>\n",
       "      <td>0.03919</td>\n",
       "    </tr>\n",
       "    <tr>\n",
       "      <th>96</th>\n",
       "      <td>65535</td>\n",
       "      <td>1</td>\n",
       "      <td>0.25436</td>\n",
       "      <td>1</td>\n",
       "      <td>0.25436</td>\n",
       "      <td>0.05803</td>\n",
       "      <td>0.43442</td>\n",
       "      <td>0.05803</td>\n",
       "      <td>0.43442</td>\n",
       "      <td>1</td>\n",
       "      <td>0.25436</td>\n",
       "      <td>1</td>\n",
       "      <td>0.25436</td>\n",
       "      <td>0.05803</td>\n",
       "      <td>0.43442</td>\n",
       "      <td>0.05803</td>\n",
       "      <td>0.43442</td>\n",
       "    </tr>\n",
       "    <tr>\n",
       "      <th>97</th>\n",
       "      <td>65535</td>\n",
       "      <td>1</td>\n",
       "      <td>0.12886</td>\n",
       "      <td>1</td>\n",
       "      <td>0.12886</td>\n",
       "      <td>0.39268</td>\n",
       "      <td>0.95641</td>\n",
       "      <td>0.39268</td>\n",
       "      <td>0.95641</td>\n",
       "      <td>1</td>\n",
       "      <td>0.12886</td>\n",
       "      <td>1</td>\n",
       "      <td>0.12886</td>\n",
       "      <td>0.39268</td>\n",
       "      <td>0.95641</td>\n",
       "      <td>0.39268</td>\n",
       "      <td>0.95641</td>\n",
       "    </tr>\n",
       "    <tr>\n",
       "      <th>98</th>\n",
       "      <td>65535</td>\n",
       "      <td>1</td>\n",
       "      <td>0.48563</td>\n",
       "      <td>1</td>\n",
       "      <td>0.48563</td>\n",
       "      <td>0.97750</td>\n",
       "      <td>0.87651</td>\n",
       "      <td>0.97750</td>\n",
       "      <td>0.87651</td>\n",
       "      <td>1</td>\n",
       "      <td>0.48563</td>\n",
       "      <td>1</td>\n",
       "      <td>0.48563</td>\n",
       "      <td>0.97750</td>\n",
       "      <td>0.87651</td>\n",
       "      <td>0.97750</td>\n",
       "      <td>0.87651</td>\n",
       "    </tr>\n",
       "    <tr>\n",
       "      <th>99</th>\n",
       "      <td>65535</td>\n",
       "      <td>1</td>\n",
       "      <td>0.43703</td>\n",
       "      <td>1</td>\n",
       "      <td>0.43703</td>\n",
       "      <td>0.69763</td>\n",
       "      <td>0.06023</td>\n",
       "      <td>0.69763</td>\n",
       "      <td>0.06023</td>\n",
       "      <td>1</td>\n",
       "      <td>0.43703</td>\n",
       "      <td>1</td>\n",
       "      <td>0.43703</td>\n",
       "      <td>0.69763</td>\n",
       "      <td>0.06023</td>\n",
       "      <td>0.69763</td>\n",
       "      <td>0.06023</td>\n",
       "    </tr>\n",
       "  </tbody>\n",
       "</table>\n",
       "<p>100 rows × 17 columns</p>\n",
       "</div>"
      ],
      "text/plain": [
       "           p1       p2  p3       p4       p5       p6       p7       p8  p9  \\\n",
       "0   65535   1  0.19705   1  0.19705  0.45986  0.04461  0.45986  0.04461   1   \n",
       "1   65535   1  0.29008   1  0.29008  0.61802  0.42877  0.61802  0.42877   1   \n",
       "2   65535   1  0.09610   1  0.09610  0.97646  0.46865  0.97646  0.46865   1   \n",
       "3   65535   1  0.56843   1  0.56843  0.01879  0.61764  0.01879  0.61764   1   \n",
       "4   65535   1  0.64589   1  0.64589  0.43759  0.89177  0.43759  0.89177   1   \n",
       "..    ...  ..      ...  ..      ...      ...      ...      ...      ...  ..   \n",
       "95  65535   1  0.60485   1  0.60485  0.73926  0.03919  0.73926  0.03919   1   \n",
       "96  65535   1  0.25436   1  0.25436  0.05803  0.43442  0.05803  0.43442   1   \n",
       "97  65535   1  0.12886   1  0.12886  0.39268  0.95641  0.39268  0.95641   1   \n",
       "98  65535   1  0.48563   1  0.48563  0.97750  0.87651  0.97750  0.87651   1   \n",
       "99  65535   1  0.43703   1  0.43703  0.69763  0.06023  0.69763  0.06023   1   \n",
       "\n",
       "        p10  p11      p12      p13      p14      p15      p16  \n",
       "0   0.19705    1  0.19705  0.45986  0.04461  0.45986  0.04461  \n",
       "1   0.29008    1  0.29008  0.61802  0.42877  0.61802  0.42877  \n",
       "2   0.09610    1  0.09610  0.97646  0.46865  0.97646  0.46865  \n",
       "3   0.56843    1  0.56843  0.01879  0.61764  0.01879  0.61764  \n",
       "4   0.64589    1  0.64589  0.43759  0.89177  0.43759  0.89177  \n",
       "..      ...  ...      ...      ...      ...      ...      ...  \n",
       "95  0.60485    1  0.60485  0.73926  0.03919  0.73926  0.03919  \n",
       "96  0.25436    1  0.25436  0.05803  0.43442  0.05803  0.43442  \n",
       "97  0.12886    1  0.12886  0.39268  0.95641  0.39268  0.95641  \n",
       "98  0.48563    1  0.48563  0.97750  0.87651  0.97750  0.87651  \n",
       "99  0.43703    1  0.43703  0.69763  0.06023  0.69763  0.06023  \n",
       "\n",
       "[100 rows x 17 columns]"
      ]
     },
     "execution_count": 177,
     "metadata": {},
     "output_type": "execute_result"
    }
   ],
   "source": [
    "df2[player_cols].drop_duplicates().reset_index()"
   ]
  },
  {
   "cell_type": "code",
   "execution_count": 215,
   "metadata": {},
   "outputs": [
    {
     "data": {
      "text/html": [
       "<div>\n",
       "<style scoped>\n",
       "    .dataframe tbody tr th:only-of-type {\n",
       "        vertical-align: middle;\n",
       "    }\n",
       "\n",
       "    .dataframe tbody tr th {\n",
       "        vertical-align: top;\n",
       "    }\n",
       "\n",
       "    .dataframe thead th {\n",
       "        text-align: right;\n",
       "    }\n",
       "</style>\n",
       "<table border=\"1\" class=\"dataframe\">\n",
       "  <thead>\n",
       "    <tr style=\"text-align: right;\">\n",
       "      <th></th>\n",
       "      <th>ID</th>\n",
       "      <th>p1</th>\n",
       "      <th>p2</th>\n",
       "      <th>p3</th>\n",
       "      <th>p4</th>\n",
       "      <th>p5</th>\n",
       "      <th>p6</th>\n",
       "      <th>p7</th>\n",
       "      <th>p8</th>\n",
       "      <th>p9</th>\n",
       "      <th>...</th>\n",
       "      <th>p14</th>\n",
       "      <th>p15</th>\n",
       "      <th>p16</th>\n",
       "      <th>label</th>\n",
       "      <th>Sp</th>\n",
       "      <th>Sq</th>\n",
       "      <th>condition A</th>\n",
       "      <th>condition B</th>\n",
       "      <th>c</th>\n",
       "      <th>b</th>\n",
       "    </tr>\n",
       "    <tr>\n",
       "      <th></th>\n",
       "      <th></th>\n",
       "      <th></th>\n",
       "      <th></th>\n",
       "      <th></th>\n",
       "      <th></th>\n",
       "      <th></th>\n",
       "      <th></th>\n",
       "      <th></th>\n",
       "      <th></th>\n",
       "      <th></th>\n",
       "      <th></th>\n",
       "      <th></th>\n",
       "      <th></th>\n",
       "      <th></th>\n",
       "      <th></th>\n",
       "      <th></th>\n",
       "      <th></th>\n",
       "      <th></th>\n",
       "      <th></th>\n",
       "      <th></th>\n",
       "      <th></th>\n",
       "    </tr>\n",
       "  </thead>\n",
       "  <tbody>\n",
       "    <tr>\n",
       "      <th>0</th>\n",
       "      <td>285</td>\n",
       "      <td>1</td>\n",
       "      <td>0.39232</td>\n",
       "      <td>1</td>\n",
       "      <td>0.39232</td>\n",
       "      <td>0.22122</td>\n",
       "      <td>0.68373</td>\n",
       "      <td>0.22122</td>\n",
       "      <td>0.68373</td>\n",
       "      <td>1</td>\n",
       "      <td>...</td>\n",
       "      <td>0.68373</td>\n",
       "      <td>0.22122</td>\n",
       "      <td>0.68373</td>\n",
       "      <td>N0</td>\n",
       "      <td>1.0</td>\n",
       "      <td>1.36746</td>\n",
       "      <td>False</td>\n",
       "      <td>False</td>\n",
       "      <td>2</td>\n",
       "      <td>1</td>\n",
       "    </tr>\n",
       "    <tr>\n",
       "      <th>65535</th>\n",
       "      <td>828</td>\n",
       "      <td>1</td>\n",
       "      <td>0.45125</td>\n",
       "      <td>1</td>\n",
       "      <td>0.45125</td>\n",
       "      <td>0.97966</td>\n",
       "      <td>0.18957</td>\n",
       "      <td>0.97966</td>\n",
       "      <td>0.18957</td>\n",
       "      <td>1</td>\n",
       "      <td>...</td>\n",
       "      <td>0.18957</td>\n",
       "      <td>0.97966</td>\n",
       "      <td>0.18957</td>\n",
       "      <td>N65535</td>\n",
       "      <td>1.0</td>\n",
       "      <td>1.00000</td>\n",
       "      <td>True</td>\n",
       "      <td>True</td>\n",
       "      <td>2</td>\n",
       "      <td>1</td>\n",
       "    </tr>\n",
       "    <tr>\n",
       "      <th>65535</th>\n",
       "      <td>937</td>\n",
       "      <td>1</td>\n",
       "      <td>0.59502</td>\n",
       "      <td>1</td>\n",
       "      <td>0.59502</td>\n",
       "      <td>0.89063</td>\n",
       "      <td>0.30660</td>\n",
       "      <td>0.89063</td>\n",
       "      <td>0.30660</td>\n",
       "      <td>1</td>\n",
       "      <td>...</td>\n",
       "      <td>0.30660</td>\n",
       "      <td>0.89063</td>\n",
       "      <td>0.30660</td>\n",
       "      <td>N65535</td>\n",
       "      <td>1.0</td>\n",
       "      <td>1.00000</td>\n",
       "      <td>True</td>\n",
       "      <td>True</td>\n",
       "      <td>2</td>\n",
       "      <td>1</td>\n",
       "    </tr>\n",
       "    <tr>\n",
       "      <th>65535</th>\n",
       "      <td>980</td>\n",
       "      <td>1</td>\n",
       "      <td>0.74744</td>\n",
       "      <td>1</td>\n",
       "      <td>0.74744</td>\n",
       "      <td>0.18791</td>\n",
       "      <td>0.15224</td>\n",
       "      <td>0.18791</td>\n",
       "      <td>0.15224</td>\n",
       "      <td>1</td>\n",
       "      <td>...</td>\n",
       "      <td>0.15224</td>\n",
       "      <td>0.18791</td>\n",
       "      <td>0.15224</td>\n",
       "      <td>N65535</td>\n",
       "      <td>1.0</td>\n",
       "      <td>1.00000</td>\n",
       "      <td>True</td>\n",
       "      <td>True</td>\n",
       "      <td>2</td>\n",
       "      <td>1</td>\n",
       "    </tr>\n",
       "    <tr>\n",
       "      <th>65535</th>\n",
       "      <td>232</td>\n",
       "      <td>1</td>\n",
       "      <td>0.21687</td>\n",
       "      <td>1</td>\n",
       "      <td>0.21687</td>\n",
       "      <td>0.90315</td>\n",
       "      <td>0.04292</td>\n",
       "      <td>0.90315</td>\n",
       "      <td>0.04292</td>\n",
       "      <td>1</td>\n",
       "      <td>...</td>\n",
       "      <td>0.04292</td>\n",
       "      <td>0.90315</td>\n",
       "      <td>0.04292</td>\n",
       "      <td>N65535</td>\n",
       "      <td>1.0</td>\n",
       "      <td>1.00000</td>\n",
       "      <td>True</td>\n",
       "      <td>True</td>\n",
       "      <td>2</td>\n",
       "      <td>1</td>\n",
       "    </tr>\n",
       "    <tr>\n",
       "      <th>...</th>\n",
       "      <td>...</td>\n",
       "      <td>...</td>\n",
       "      <td>...</td>\n",
       "      <td>...</td>\n",
       "      <td>...</td>\n",
       "      <td>...</td>\n",
       "      <td>...</td>\n",
       "      <td>...</td>\n",
       "      <td>...</td>\n",
       "      <td>...</td>\n",
       "      <td>...</td>\n",
       "      <td>...</td>\n",
       "      <td>...</td>\n",
       "      <td>...</td>\n",
       "      <td>...</td>\n",
       "      <td>...</td>\n",
       "      <td>...</td>\n",
       "      <td>...</td>\n",
       "      <td>...</td>\n",
       "      <td>...</td>\n",
       "      <td>...</td>\n",
       "    </tr>\n",
       "    <tr>\n",
       "      <th>0</th>\n",
       "      <td>870</td>\n",
       "      <td>1</td>\n",
       "      <td>0.13253</td>\n",
       "      <td>1</td>\n",
       "      <td>0.13253</td>\n",
       "      <td>0.85142</td>\n",
       "      <td>0.78172</td>\n",
       "      <td>0.85142</td>\n",
       "      <td>0.78172</td>\n",
       "      <td>1</td>\n",
       "      <td>...</td>\n",
       "      <td>0.78172</td>\n",
       "      <td>0.85142</td>\n",
       "      <td>0.78172</td>\n",
       "      <td>N0</td>\n",
       "      <td>1.0</td>\n",
       "      <td>1.56344</td>\n",
       "      <td>False</td>\n",
       "      <td>False</td>\n",
       "      <td>2</td>\n",
       "      <td>1</td>\n",
       "    </tr>\n",
       "    <tr>\n",
       "      <th>65535</th>\n",
       "      <td>163</td>\n",
       "      <td>1</td>\n",
       "      <td>0.16903</td>\n",
       "      <td>1</td>\n",
       "      <td>0.16903</td>\n",
       "      <td>0.85958</td>\n",
       "      <td>0.05853</td>\n",
       "      <td>0.85958</td>\n",
       "      <td>0.05853</td>\n",
       "      <td>1</td>\n",
       "      <td>...</td>\n",
       "      <td>0.05853</td>\n",
       "      <td>0.85958</td>\n",
       "      <td>0.05853</td>\n",
       "      <td>N65535</td>\n",
       "      <td>1.0</td>\n",
       "      <td>1.00000</td>\n",
       "      <td>True</td>\n",
       "      <td>True</td>\n",
       "      <td>2</td>\n",
       "      <td>1</td>\n",
       "    </tr>\n",
       "    <tr>\n",
       "      <th>65535</th>\n",
       "      <td>646</td>\n",
       "      <td>1</td>\n",
       "      <td>0.80215</td>\n",
       "      <td>1</td>\n",
       "      <td>0.80215</td>\n",
       "      <td>0.32291</td>\n",
       "      <td>0.34575</td>\n",
       "      <td>0.32291</td>\n",
       "      <td>0.34575</td>\n",
       "      <td>1</td>\n",
       "      <td>...</td>\n",
       "      <td>0.34575</td>\n",
       "      <td>0.32291</td>\n",
       "      <td>0.34575</td>\n",
       "      <td>N65535</td>\n",
       "      <td>1.0</td>\n",
       "      <td>1.00000</td>\n",
       "      <td>True</td>\n",
       "      <td>True</td>\n",
       "      <td>2</td>\n",
       "      <td>1</td>\n",
       "    </tr>\n",
       "    <tr>\n",
       "      <th>0</th>\n",
       "      <td>759</td>\n",
       "      <td>1</td>\n",
       "      <td>0.05985</td>\n",
       "      <td>1</td>\n",
       "      <td>0.05985</td>\n",
       "      <td>0.30221</td>\n",
       "      <td>0.67721</td>\n",
       "      <td>0.30221</td>\n",
       "      <td>0.67721</td>\n",
       "      <td>1</td>\n",
       "      <td>...</td>\n",
       "      <td>0.67721</td>\n",
       "      <td>0.30221</td>\n",
       "      <td>0.67721</td>\n",
       "      <td>N0</td>\n",
       "      <td>1.0</td>\n",
       "      <td>1.35442</td>\n",
       "      <td>False</td>\n",
       "      <td>False</td>\n",
       "      <td>2</td>\n",
       "      <td>1</td>\n",
       "    </tr>\n",
       "    <tr>\n",
       "      <th>65535</th>\n",
       "      <td>450</td>\n",
       "      <td>1</td>\n",
       "      <td>0.29362</td>\n",
       "      <td>1</td>\n",
       "      <td>0.29362</td>\n",
       "      <td>0.96820</td>\n",
       "      <td>0.22620</td>\n",
       "      <td>0.96820</td>\n",
       "      <td>0.22620</td>\n",
       "      <td>1</td>\n",
       "      <td>...</td>\n",
       "      <td>0.22620</td>\n",
       "      <td>0.96820</td>\n",
       "      <td>0.22620</td>\n",
       "      <td>N65535</td>\n",
       "      <td>1.0</td>\n",
       "      <td>1.00000</td>\n",
       "      <td>True</td>\n",
       "      <td>True</td>\n",
       "      <td>2</td>\n",
       "      <td>1</td>\n",
       "    </tr>\n",
       "  </tbody>\n",
       "</table>\n",
       "<p>1000 rows × 24 columns</p>\n",
       "</div>"
      ],
      "text/plain": [
       "        ID  p1       p2  p3       p4       p5       p6       p7       p8  p9  \\\n",
       "                                                                               \n",
       "0      285   1  0.39232   1  0.39232  0.22122  0.68373  0.22122  0.68373   1   \n",
       "65535  828   1  0.45125   1  0.45125  0.97966  0.18957  0.97966  0.18957   1   \n",
       "65535  937   1  0.59502   1  0.59502  0.89063  0.30660  0.89063  0.30660   1   \n",
       "65535  980   1  0.74744   1  0.74744  0.18791  0.15224  0.18791  0.15224   1   \n",
       "65535  232   1  0.21687   1  0.21687  0.90315  0.04292  0.90315  0.04292   1   \n",
       "...    ...  ..      ...  ..      ...      ...      ...      ...      ...  ..   \n",
       "0      870   1  0.13253   1  0.13253  0.85142  0.78172  0.85142  0.78172   1   \n",
       "65535  163   1  0.16903   1  0.16903  0.85958  0.05853  0.85958  0.05853   1   \n",
       "65535  646   1  0.80215   1  0.80215  0.32291  0.34575  0.32291  0.34575   1   \n",
       "0      759   1  0.05985   1  0.05985  0.30221  0.67721  0.30221  0.67721   1   \n",
       "65535  450   1  0.29362   1  0.29362  0.96820  0.22620  0.96820  0.22620   1   \n",
       "\n",
       "       ...      p14      p15      p16   label   Sp       Sq  condition A  \\\n",
       "       ...                                                                 \n",
       "0      ...  0.68373  0.22122  0.68373      N0  1.0  1.36746        False   \n",
       "65535  ...  0.18957  0.97966  0.18957  N65535  1.0  1.00000         True   \n",
       "65535  ...  0.30660  0.89063  0.30660  N65535  1.0  1.00000         True   \n",
       "65535  ...  0.15224  0.18791  0.15224  N65535  1.0  1.00000         True   \n",
       "65535  ...  0.04292  0.90315  0.04292  N65535  1.0  1.00000         True   \n",
       "...    ...      ...      ...      ...     ...  ...      ...          ...   \n",
       "0      ...  0.78172  0.85142  0.78172      N0  1.0  1.56344        False   \n",
       "65535  ...  0.05853  0.85958  0.05853  N65535  1.0  1.00000         True   \n",
       "65535  ...  0.34575  0.32291  0.34575  N65535  1.0  1.00000         True   \n",
       "0      ...  0.67721  0.30221  0.67721      N0  1.0  1.35442        False   \n",
       "65535  ...  0.22620  0.96820  0.22620  N65535  1.0  1.00000         True   \n",
       "\n",
       "      condition B  c  b  \n",
       "                         \n",
       "0           False  2  1  \n",
       "65535        True  2  1  \n",
       "65535        True  2  1  \n",
       "65535        True  2  1  \n",
       "65535        True  2  1  \n",
       "...           ... .. ..  \n",
       "0           False  2  1  \n",
       "65535        True  2  1  \n",
       "65535        True  2  1  \n",
       "0           False  2  1  \n",
       "65535        True  2  1  \n",
       "\n",
       "[1000 rows x 24 columns]"
      ]
     },
     "execution_count": 215,
     "metadata": {},
     "output_type": "execute_result"
    }
   ],
   "source": [
    "df2"
   ]
  },
  {
   "cell_type": "code",
   "execution_count": 150,
   "metadata": {},
   "outputs": [
    {
     "data": {
      "text/plain": [
       "65536"
      ]
     },
     "execution_count": 150,
     "metadata": {},
     "output_type": "execute_result"
    }
   ],
   "source": [
    "len(deterministic_strategies)"
   ]
  },
  {
   "cell_type": "code",
   "execution_count": 152,
   "metadata": {},
   "outputs": [
    {
     "data": {
      "text/plain": [
       "Counter({'N65535': 841})"
      ]
     },
     "execution_count": 152,
     "metadata": {},
     "output_type": "execute_result"
    }
   ],
   "source": [
    "Counter(df2['label'])"
   ]
  },
  {
   "cell_type": "code",
   "execution_count": 121,
   "metadata": {},
   "outputs": [],
   "source": [
    "eq_memone, noneq_memone = seperate_equilibria_and_non(df2)"
   ]
  },
  {
   "cell_type": "code",
   "execution_count": 174,
   "metadata": {},
   "outputs": [
    {
     "ename": "TypeError",
     "evalue": "ufunc 'isfinite' not supported for the input types, and the inputs could not be safely coerced to any supported types according to the casting rule ''safe''",
     "output_type": "error",
     "traceback": [
      "\u001b[0;31m---------------------------------------------------------------------------\u001b[0m",
      "\u001b[0;31mTypeError\u001b[0m                                 Traceback (most recent call last)",
      "\u001b[0;32m<ipython-input-174-d342abdd11a4>\u001b[0m in \u001b[0;36m<module>\u001b[0;34m\u001b[0m\n\u001b[0;32m----> 1\u001b[0;31m \u001b[0mIs931\u001b[0m\u001b[0;34m,\u001b[0m \u001b[0mJs931\u001b[0m\u001b[0;34m,\u001b[0m \u001b[0mZs931\u001b[0m \u001b[0;34m=\u001b[0m \u001b[0mnp\u001b[0m\u001b[0;34m.\u001b[0m\u001b[0mwhere\u001b[0m\u001b[0;34m(\u001b[0m\u001b[0mnp\u001b[0m\u001b[0;34m.\u001b[0m\u001b[0misclose\u001b[0m\u001b[0;34m(\u001b[0m\u001b[0mN931\u001b[0m\u001b[0;34m(\u001b[0m\u001b[0;34m(\u001b[0m\u001b[0;36m1\u001b[0m\u001b[0;34m,\u001b[0m \u001b[0mxv\u001b[0m\u001b[0;34m,\u001b[0m \u001b[0myv\u001b[0m\u001b[0;34m,\u001b[0m \u001b[0mzv\u001b[0m\u001b[0;34m)\u001b[0m\u001b[0;34m)\u001b[0m\u001b[0;34m,\u001b[0m \u001b[0;36m0\u001b[0m\u001b[0;34m,\u001b[0m \u001b[0matol\u001b[0m\u001b[0;34m=\u001b[0m\u001b[0;36m10\u001b[0m \u001b[0;34m**\u001b[0m \u001b[0;34m-\u001b[0m \u001b[0;36m3\u001b[0m\u001b[0;34m)\u001b[0m\u001b[0;34m)\u001b[0m\u001b[0;34m\u001b[0m\u001b[0;34m\u001b[0m\u001b[0m\n\u001b[0m",
      "\u001b[0;32m~/opt/anaconda3/lib/python3.8/site-packages/numpy/core/overrides.py\u001b[0m in \u001b[0;36misclose\u001b[0;34m(*args, **kwargs)\u001b[0m\n",
      "\u001b[0;32m~/opt/anaconda3/lib/python3.8/site-packages/numpy/core/numeric.py\u001b[0m in \u001b[0;36misclose\u001b[0;34m(a, b, rtol, atol, equal_nan)\u001b[0m\n\u001b[1;32m   2356\u001b[0m         \u001b[0my\u001b[0m \u001b[0;34m=\u001b[0m \u001b[0masanyarray\u001b[0m\u001b[0;34m(\u001b[0m\u001b[0my\u001b[0m\u001b[0;34m,\u001b[0m \u001b[0mdtype\u001b[0m\u001b[0;34m=\u001b[0m\u001b[0mdt\u001b[0m\u001b[0;34m)\u001b[0m\u001b[0;34m\u001b[0m\u001b[0;34m\u001b[0m\u001b[0m\n\u001b[1;32m   2357\u001b[0m \u001b[0;34m\u001b[0m\u001b[0m\n\u001b[0;32m-> 2358\u001b[0;31m     \u001b[0mxfin\u001b[0m \u001b[0;34m=\u001b[0m \u001b[0misfinite\u001b[0m\u001b[0;34m(\u001b[0m\u001b[0mx\u001b[0m\u001b[0;34m)\u001b[0m\u001b[0;34m\u001b[0m\u001b[0;34m\u001b[0m\u001b[0m\n\u001b[0m\u001b[1;32m   2359\u001b[0m     \u001b[0myfin\u001b[0m \u001b[0;34m=\u001b[0m \u001b[0misfinite\u001b[0m\u001b[0;34m(\u001b[0m\u001b[0my\u001b[0m\u001b[0;34m)\u001b[0m\u001b[0;34m\u001b[0m\u001b[0;34m\u001b[0m\u001b[0m\n\u001b[1;32m   2360\u001b[0m     \u001b[0;32mif\u001b[0m \u001b[0mall\u001b[0m\u001b[0;34m(\u001b[0m\u001b[0mxfin\u001b[0m\u001b[0;34m)\u001b[0m \u001b[0;32mand\u001b[0m \u001b[0mall\u001b[0m\u001b[0;34m(\u001b[0m\u001b[0myfin\u001b[0m\u001b[0;34m)\u001b[0m\u001b[0;34m:\u001b[0m\u001b[0;34m\u001b[0m\u001b[0;34m\u001b[0m\u001b[0m\n",
      "\u001b[0;31mTypeError\u001b[0m: ufunc 'isfinite' not supported for the input types, and the inputs could not be safely coerced to any supported types according to the casting rule ''safe''"
     ]
    }
   ],
   "source": [
    "Is931, Js931, Zs931 = np.where(np.isclose(N931((1, xv, yv, zv)), 0, atol=10 ** - 3))"
   ]
  },
  {
   "cell_type": "code",
   "execution_count": 175,
   "metadata": {},
   "outputs": [
    {
     "data": {
      "text/plain": [
       "(array([[[0. , 0. , 0. , 0. , 0. , 0. , 0. , 0. , 0. , 0. ],\n",
       "         [0.1, 0.1, 0.1, 0.1, 0.1, 0.1, 0.1, 0.1, 0.1, 0.1],\n",
       "         [0.2, 0.2, 0.2, 0.2, 0.2, 0.2, 0.2, 0.2, 0.2, 0.2],\n",
       "         [0.3, 0.3, 0.3, 0.3, 0.3, 0.3, 0.3, 0.3, 0.3, 0.3],\n",
       "         [0.4, 0.4, 0.4, 0.4, 0.4, 0.4, 0.4, 0.4, 0.4, 0.4],\n",
       "         [0.5, 0.5, 0.5, 0.5, 0.5, 0.5, 0.5, 0.5, 0.5, 0.5],\n",
       "         [0.6, 0.6, 0.6, 0.6, 0.6, 0.6, 0.6, 0.6, 0.6, 0.6],\n",
       "         [0.7, 0.7, 0.7, 0.7, 0.7, 0.7, 0.7, 0.7, 0.7, 0.7],\n",
       "         [0.8, 0.8, 0.8, 0.8, 0.8, 0.8, 0.8, 0.8, 0.8, 0.8],\n",
       "         [0.9, 0.9, 0.9, 0.9, 0.9, 0.9, 0.9, 0.9, 0.9, 0.9]],\n",
       " \n",
       "        [[0. , 0. , 0. , 0. , 0. , 0. , 0. , 0. , 0. , 0. ],\n",
       "         [0.1, 0.1, 0.1, 0.1, 0.1, 0.1, 0.1, 0.1, 0.1, 0.1],\n",
       "         [0.2, 0.2, 0.2, 0.2, 0.2, 0.2, 0.2, 0.2, 0.2, 0.2],\n",
       "         [0.3, 0.3, 0.3, 0.3, 0.3, 0.3, 0.3, 0.3, 0.3, 0.3],\n",
       "         [0.4, 0.4, 0.4, 0.4, 0.4, 0.4, 0.4, 0.4, 0.4, 0.4],\n",
       "         [0.5, 0.5, 0.5, 0.5, 0.5, 0.5, 0.5, 0.5, 0.5, 0.5],\n",
       "         [0.6, 0.6, 0.6, 0.6, 0.6, 0.6, 0.6, 0.6, 0.6, 0.6],\n",
       "         [0.7, 0.7, 0.7, 0.7, 0.7, 0.7, 0.7, 0.7, 0.7, 0.7],\n",
       "         [0.8, 0.8, 0.8, 0.8, 0.8, 0.8, 0.8, 0.8, 0.8, 0.8],\n",
       "         [0.9, 0.9, 0.9, 0.9, 0.9, 0.9, 0.9, 0.9, 0.9, 0.9]],\n",
       " \n",
       "        [[0. , 0. , 0. , 0. , 0. , 0. , 0. , 0. , 0. , 0. ],\n",
       "         [0.1, 0.1, 0.1, 0.1, 0.1, 0.1, 0.1, 0.1, 0.1, 0.1],\n",
       "         [0.2, 0.2, 0.2, 0.2, 0.2, 0.2, 0.2, 0.2, 0.2, 0.2],\n",
       "         [0.3, 0.3, 0.3, 0.3, 0.3, 0.3, 0.3, 0.3, 0.3, 0.3],\n",
       "         [0.4, 0.4, 0.4, 0.4, 0.4, 0.4, 0.4, 0.4, 0.4, 0.4],\n",
       "         [0.5, 0.5, 0.5, 0.5, 0.5, 0.5, 0.5, 0.5, 0.5, 0.5],\n",
       "         [0.6, 0.6, 0.6, 0.6, 0.6, 0.6, 0.6, 0.6, 0.6, 0.6],\n",
       "         [0.7, 0.7, 0.7, 0.7, 0.7, 0.7, 0.7, 0.7, 0.7, 0.7],\n",
       "         [0.8, 0.8, 0.8, 0.8, 0.8, 0.8, 0.8, 0.8, 0.8, 0.8],\n",
       "         [0.9, 0.9, 0.9, 0.9, 0.9, 0.9, 0.9, 0.9, 0.9, 0.9]],\n",
       " \n",
       "        [[0. , 0. , 0. , 0. , 0. , 0. , 0. , 0. , 0. , 0. ],\n",
       "         [0.1, 0.1, 0.1, 0.1, 0.1, 0.1, 0.1, 0.1, 0.1, 0.1],\n",
       "         [0.2, 0.2, 0.2, 0.2, 0.2, 0.2, 0.2, 0.2, 0.2, 0.2],\n",
       "         [0.3, 0.3, 0.3, 0.3, 0.3, 0.3, 0.3, 0.3, 0.3, 0.3],\n",
       "         [0.4, 0.4, 0.4, 0.4, 0.4, 0.4, 0.4, 0.4, 0.4, 0.4],\n",
       "         [0.5, 0.5, 0.5, 0.5, 0.5, 0.5, 0.5, 0.5, 0.5, 0.5],\n",
       "         [0.6, 0.6, 0.6, 0.6, 0.6, 0.6, 0.6, 0.6, 0.6, 0.6],\n",
       "         [0.7, 0.7, 0.7, 0.7, 0.7, 0.7, 0.7, 0.7, 0.7, 0.7],\n",
       "         [0.8, 0.8, 0.8, 0.8, 0.8, 0.8, 0.8, 0.8, 0.8, 0.8],\n",
       "         [0.9, 0.9, 0.9, 0.9, 0.9, 0.9, 0.9, 0.9, 0.9, 0.9]],\n",
       " \n",
       "        [[0. , 0. , 0. , 0. , 0. , 0. , 0. , 0. , 0. , 0. ],\n",
       "         [0.1, 0.1, 0.1, 0.1, 0.1, 0.1, 0.1, 0.1, 0.1, 0.1],\n",
       "         [0.2, 0.2, 0.2, 0.2, 0.2, 0.2, 0.2, 0.2, 0.2, 0.2],\n",
       "         [0.3, 0.3, 0.3, 0.3, 0.3, 0.3, 0.3, 0.3, 0.3, 0.3],\n",
       "         [0.4, 0.4, 0.4, 0.4, 0.4, 0.4, 0.4, 0.4, 0.4, 0.4],\n",
       "         [0.5, 0.5, 0.5, 0.5, 0.5, 0.5, 0.5, 0.5, 0.5, 0.5],\n",
       "         [0.6, 0.6, 0.6, 0.6, 0.6, 0.6, 0.6, 0.6, 0.6, 0.6],\n",
       "         [0.7, 0.7, 0.7, 0.7, 0.7, 0.7, 0.7, 0.7, 0.7, 0.7],\n",
       "         [0.8, 0.8, 0.8, 0.8, 0.8, 0.8, 0.8, 0.8, 0.8, 0.8],\n",
       "         [0.9, 0.9, 0.9, 0.9, 0.9, 0.9, 0.9, 0.9, 0.9, 0.9]],\n",
       " \n",
       "        [[0. , 0. , 0. , 0. , 0. , 0. , 0. , 0. , 0. , 0. ],\n",
       "         [0.1, 0.1, 0.1, 0.1, 0.1, 0.1, 0.1, 0.1, 0.1, 0.1],\n",
       "         [0.2, 0.2, 0.2, 0.2, 0.2, 0.2, 0.2, 0.2, 0.2, 0.2],\n",
       "         [0.3, 0.3, 0.3, 0.3, 0.3, 0.3, 0.3, 0.3, 0.3, 0.3],\n",
       "         [0.4, 0.4, 0.4, 0.4, 0.4, 0.4, 0.4, 0.4, 0.4, 0.4],\n",
       "         [0.5, 0.5, 0.5, 0.5, 0.5, 0.5, 0.5, 0.5, 0.5, 0.5],\n",
       "         [0.6, 0.6, 0.6, 0.6, 0.6, 0.6, 0.6, 0.6, 0.6, 0.6],\n",
       "         [0.7, 0.7, 0.7, 0.7, 0.7, 0.7, 0.7, 0.7, 0.7, 0.7],\n",
       "         [0.8, 0.8, 0.8, 0.8, 0.8, 0.8, 0.8, 0.8, 0.8, 0.8],\n",
       "         [0.9, 0.9, 0.9, 0.9, 0.9, 0.9, 0.9, 0.9, 0.9, 0.9]],\n",
       " \n",
       "        [[0. , 0. , 0. , 0. , 0. , 0. , 0. , 0. , 0. , 0. ],\n",
       "         [0.1, 0.1, 0.1, 0.1, 0.1, 0.1, 0.1, 0.1, 0.1, 0.1],\n",
       "         [0.2, 0.2, 0.2, 0.2, 0.2, 0.2, 0.2, 0.2, 0.2, 0.2],\n",
       "         [0.3, 0.3, 0.3, 0.3, 0.3, 0.3, 0.3, 0.3, 0.3, 0.3],\n",
       "         [0.4, 0.4, 0.4, 0.4, 0.4, 0.4, 0.4, 0.4, 0.4, 0.4],\n",
       "         [0.5, 0.5, 0.5, 0.5, 0.5, 0.5, 0.5, 0.5, 0.5, 0.5],\n",
       "         [0.6, 0.6, 0.6, 0.6, 0.6, 0.6, 0.6, 0.6, 0.6, 0.6],\n",
       "         [0.7, 0.7, 0.7, 0.7, 0.7, 0.7, 0.7, 0.7, 0.7, 0.7],\n",
       "         [0.8, 0.8, 0.8, 0.8, 0.8, 0.8, 0.8, 0.8, 0.8, 0.8],\n",
       "         [0.9, 0.9, 0.9, 0.9, 0.9, 0.9, 0.9, 0.9, 0.9, 0.9]],\n",
       " \n",
       "        [[0. , 0. , 0. , 0. , 0. , 0. , 0. , 0. , 0. , 0. ],\n",
       "         [0.1, 0.1, 0.1, 0.1, 0.1, 0.1, 0.1, 0.1, 0.1, 0.1],\n",
       "         [0.2, 0.2, 0.2, 0.2, 0.2, 0.2, 0.2, 0.2, 0.2, 0.2],\n",
       "         [0.3, 0.3, 0.3, 0.3, 0.3, 0.3, 0.3, 0.3, 0.3, 0.3],\n",
       "         [0.4, 0.4, 0.4, 0.4, 0.4, 0.4, 0.4, 0.4, 0.4, 0.4],\n",
       "         [0.5, 0.5, 0.5, 0.5, 0.5, 0.5, 0.5, 0.5, 0.5, 0.5],\n",
       "         [0.6, 0.6, 0.6, 0.6, 0.6, 0.6, 0.6, 0.6, 0.6, 0.6],\n",
       "         [0.7, 0.7, 0.7, 0.7, 0.7, 0.7, 0.7, 0.7, 0.7, 0.7],\n",
       "         [0.8, 0.8, 0.8, 0.8, 0.8, 0.8, 0.8, 0.8, 0.8, 0.8],\n",
       "         [0.9, 0.9, 0.9, 0.9, 0.9, 0.9, 0.9, 0.9, 0.9, 0.9]],\n",
       " \n",
       "        [[0. , 0. , 0. , 0. , 0. , 0. , 0. , 0. , 0. , 0. ],\n",
       "         [0.1, 0.1, 0.1, 0.1, 0.1, 0.1, 0.1, 0.1, 0.1, 0.1],\n",
       "         [0.2, 0.2, 0.2, 0.2, 0.2, 0.2, 0.2, 0.2, 0.2, 0.2],\n",
       "         [0.3, 0.3, 0.3, 0.3, 0.3, 0.3, 0.3, 0.3, 0.3, 0.3],\n",
       "         [0.4, 0.4, 0.4, 0.4, 0.4, 0.4, 0.4, 0.4, 0.4, 0.4],\n",
       "         [0.5, 0.5, 0.5, 0.5, 0.5, 0.5, 0.5, 0.5, 0.5, 0.5],\n",
       "         [0.6, 0.6, 0.6, 0.6, 0.6, 0.6, 0.6, 0.6, 0.6, 0.6],\n",
       "         [0.7, 0.7, 0.7, 0.7, 0.7, 0.7, 0.7, 0.7, 0.7, 0.7],\n",
       "         [0.8, 0.8, 0.8, 0.8, 0.8, 0.8, 0.8, 0.8, 0.8, 0.8],\n",
       "         [0.9, 0.9, 0.9, 0.9, 0.9, 0.9, 0.9, 0.9, 0.9, 0.9]],\n",
       " \n",
       "        [[0. , 0. , 0. , 0. , 0. , 0. , 0. , 0. , 0. , 0. ],\n",
       "         [0.1, 0.1, 0.1, 0.1, 0.1, 0.1, 0.1, 0.1, 0.1, 0.1],\n",
       "         [0.2, 0.2, 0.2, 0.2, 0.2, 0.2, 0.2, 0.2, 0.2, 0.2],\n",
       "         [0.3, 0.3, 0.3, 0.3, 0.3, 0.3, 0.3, 0.3, 0.3, 0.3],\n",
       "         [0.4, 0.4, 0.4, 0.4, 0.4, 0.4, 0.4, 0.4, 0.4, 0.4],\n",
       "         [0.5, 0.5, 0.5, 0.5, 0.5, 0.5, 0.5, 0.5, 0.5, 0.5],\n",
       "         [0.6, 0.6, 0.6, 0.6, 0.6, 0.6, 0.6, 0.6, 0.6, 0.6],\n",
       "         [0.7, 0.7, 0.7, 0.7, 0.7, 0.7, 0.7, 0.7, 0.7, 0.7],\n",
       "         [0.8, 0.8, 0.8, 0.8, 0.8, 0.8, 0.8, 0.8, 0.8, 0.8],\n",
       "         [0.9, 0.9, 0.9, 0.9, 0.9, 0.9, 0.9, 0.9, 0.9, 0.9]]]),\n",
       " array([[[0. , 0. , 0. , 0. , 0. , 0. , 0. , 0. , 0. , 0. ],\n",
       "         [0. , 0. , 0. , 0. , 0. , 0. , 0. , 0. , 0. , 0. ],\n",
       "         [0. , 0. , 0. , 0. , 0. , 0. , 0. , 0. , 0. , 0. ],\n",
       "         [0. , 0. , 0. , 0. , 0. , 0. , 0. , 0. , 0. , 0. ],\n",
       "         [0. , 0. , 0. , 0. , 0. , 0. , 0. , 0. , 0. , 0. ],\n",
       "         [0. , 0. , 0. , 0. , 0. , 0. , 0. , 0. , 0. , 0. ],\n",
       "         [0. , 0. , 0. , 0. , 0. , 0. , 0. , 0. , 0. , 0. ],\n",
       "         [0. , 0. , 0. , 0. , 0. , 0. , 0. , 0. , 0. , 0. ],\n",
       "         [0. , 0. , 0. , 0. , 0. , 0. , 0. , 0. , 0. , 0. ],\n",
       "         [0. , 0. , 0. , 0. , 0. , 0. , 0. , 0. , 0. , 0. ]],\n",
       " \n",
       "        [[0.1, 0.1, 0.1, 0.1, 0.1, 0.1, 0.1, 0.1, 0.1, 0.1],\n",
       "         [0.1, 0.1, 0.1, 0.1, 0.1, 0.1, 0.1, 0.1, 0.1, 0.1],\n",
       "         [0.1, 0.1, 0.1, 0.1, 0.1, 0.1, 0.1, 0.1, 0.1, 0.1],\n",
       "         [0.1, 0.1, 0.1, 0.1, 0.1, 0.1, 0.1, 0.1, 0.1, 0.1],\n",
       "         [0.1, 0.1, 0.1, 0.1, 0.1, 0.1, 0.1, 0.1, 0.1, 0.1],\n",
       "         [0.1, 0.1, 0.1, 0.1, 0.1, 0.1, 0.1, 0.1, 0.1, 0.1],\n",
       "         [0.1, 0.1, 0.1, 0.1, 0.1, 0.1, 0.1, 0.1, 0.1, 0.1],\n",
       "         [0.1, 0.1, 0.1, 0.1, 0.1, 0.1, 0.1, 0.1, 0.1, 0.1],\n",
       "         [0.1, 0.1, 0.1, 0.1, 0.1, 0.1, 0.1, 0.1, 0.1, 0.1],\n",
       "         [0.1, 0.1, 0.1, 0.1, 0.1, 0.1, 0.1, 0.1, 0.1, 0.1]],\n",
       " \n",
       "        [[0.2, 0.2, 0.2, 0.2, 0.2, 0.2, 0.2, 0.2, 0.2, 0.2],\n",
       "         [0.2, 0.2, 0.2, 0.2, 0.2, 0.2, 0.2, 0.2, 0.2, 0.2],\n",
       "         [0.2, 0.2, 0.2, 0.2, 0.2, 0.2, 0.2, 0.2, 0.2, 0.2],\n",
       "         [0.2, 0.2, 0.2, 0.2, 0.2, 0.2, 0.2, 0.2, 0.2, 0.2],\n",
       "         [0.2, 0.2, 0.2, 0.2, 0.2, 0.2, 0.2, 0.2, 0.2, 0.2],\n",
       "         [0.2, 0.2, 0.2, 0.2, 0.2, 0.2, 0.2, 0.2, 0.2, 0.2],\n",
       "         [0.2, 0.2, 0.2, 0.2, 0.2, 0.2, 0.2, 0.2, 0.2, 0.2],\n",
       "         [0.2, 0.2, 0.2, 0.2, 0.2, 0.2, 0.2, 0.2, 0.2, 0.2],\n",
       "         [0.2, 0.2, 0.2, 0.2, 0.2, 0.2, 0.2, 0.2, 0.2, 0.2],\n",
       "         [0.2, 0.2, 0.2, 0.2, 0.2, 0.2, 0.2, 0.2, 0.2, 0.2]],\n",
       " \n",
       "        [[0.3, 0.3, 0.3, 0.3, 0.3, 0.3, 0.3, 0.3, 0.3, 0.3],\n",
       "         [0.3, 0.3, 0.3, 0.3, 0.3, 0.3, 0.3, 0.3, 0.3, 0.3],\n",
       "         [0.3, 0.3, 0.3, 0.3, 0.3, 0.3, 0.3, 0.3, 0.3, 0.3],\n",
       "         [0.3, 0.3, 0.3, 0.3, 0.3, 0.3, 0.3, 0.3, 0.3, 0.3],\n",
       "         [0.3, 0.3, 0.3, 0.3, 0.3, 0.3, 0.3, 0.3, 0.3, 0.3],\n",
       "         [0.3, 0.3, 0.3, 0.3, 0.3, 0.3, 0.3, 0.3, 0.3, 0.3],\n",
       "         [0.3, 0.3, 0.3, 0.3, 0.3, 0.3, 0.3, 0.3, 0.3, 0.3],\n",
       "         [0.3, 0.3, 0.3, 0.3, 0.3, 0.3, 0.3, 0.3, 0.3, 0.3],\n",
       "         [0.3, 0.3, 0.3, 0.3, 0.3, 0.3, 0.3, 0.3, 0.3, 0.3],\n",
       "         [0.3, 0.3, 0.3, 0.3, 0.3, 0.3, 0.3, 0.3, 0.3, 0.3]],\n",
       " \n",
       "        [[0.4, 0.4, 0.4, 0.4, 0.4, 0.4, 0.4, 0.4, 0.4, 0.4],\n",
       "         [0.4, 0.4, 0.4, 0.4, 0.4, 0.4, 0.4, 0.4, 0.4, 0.4],\n",
       "         [0.4, 0.4, 0.4, 0.4, 0.4, 0.4, 0.4, 0.4, 0.4, 0.4],\n",
       "         [0.4, 0.4, 0.4, 0.4, 0.4, 0.4, 0.4, 0.4, 0.4, 0.4],\n",
       "         [0.4, 0.4, 0.4, 0.4, 0.4, 0.4, 0.4, 0.4, 0.4, 0.4],\n",
       "         [0.4, 0.4, 0.4, 0.4, 0.4, 0.4, 0.4, 0.4, 0.4, 0.4],\n",
       "         [0.4, 0.4, 0.4, 0.4, 0.4, 0.4, 0.4, 0.4, 0.4, 0.4],\n",
       "         [0.4, 0.4, 0.4, 0.4, 0.4, 0.4, 0.4, 0.4, 0.4, 0.4],\n",
       "         [0.4, 0.4, 0.4, 0.4, 0.4, 0.4, 0.4, 0.4, 0.4, 0.4],\n",
       "         [0.4, 0.4, 0.4, 0.4, 0.4, 0.4, 0.4, 0.4, 0.4, 0.4]],\n",
       " \n",
       "        [[0.5, 0.5, 0.5, 0.5, 0.5, 0.5, 0.5, 0.5, 0.5, 0.5],\n",
       "         [0.5, 0.5, 0.5, 0.5, 0.5, 0.5, 0.5, 0.5, 0.5, 0.5],\n",
       "         [0.5, 0.5, 0.5, 0.5, 0.5, 0.5, 0.5, 0.5, 0.5, 0.5],\n",
       "         [0.5, 0.5, 0.5, 0.5, 0.5, 0.5, 0.5, 0.5, 0.5, 0.5],\n",
       "         [0.5, 0.5, 0.5, 0.5, 0.5, 0.5, 0.5, 0.5, 0.5, 0.5],\n",
       "         [0.5, 0.5, 0.5, 0.5, 0.5, 0.5, 0.5, 0.5, 0.5, 0.5],\n",
       "         [0.5, 0.5, 0.5, 0.5, 0.5, 0.5, 0.5, 0.5, 0.5, 0.5],\n",
       "         [0.5, 0.5, 0.5, 0.5, 0.5, 0.5, 0.5, 0.5, 0.5, 0.5],\n",
       "         [0.5, 0.5, 0.5, 0.5, 0.5, 0.5, 0.5, 0.5, 0.5, 0.5],\n",
       "         [0.5, 0.5, 0.5, 0.5, 0.5, 0.5, 0.5, 0.5, 0.5, 0.5]],\n",
       " \n",
       "        [[0.6, 0.6, 0.6, 0.6, 0.6, 0.6, 0.6, 0.6, 0.6, 0.6],\n",
       "         [0.6, 0.6, 0.6, 0.6, 0.6, 0.6, 0.6, 0.6, 0.6, 0.6],\n",
       "         [0.6, 0.6, 0.6, 0.6, 0.6, 0.6, 0.6, 0.6, 0.6, 0.6],\n",
       "         [0.6, 0.6, 0.6, 0.6, 0.6, 0.6, 0.6, 0.6, 0.6, 0.6],\n",
       "         [0.6, 0.6, 0.6, 0.6, 0.6, 0.6, 0.6, 0.6, 0.6, 0.6],\n",
       "         [0.6, 0.6, 0.6, 0.6, 0.6, 0.6, 0.6, 0.6, 0.6, 0.6],\n",
       "         [0.6, 0.6, 0.6, 0.6, 0.6, 0.6, 0.6, 0.6, 0.6, 0.6],\n",
       "         [0.6, 0.6, 0.6, 0.6, 0.6, 0.6, 0.6, 0.6, 0.6, 0.6],\n",
       "         [0.6, 0.6, 0.6, 0.6, 0.6, 0.6, 0.6, 0.6, 0.6, 0.6],\n",
       "         [0.6, 0.6, 0.6, 0.6, 0.6, 0.6, 0.6, 0.6, 0.6, 0.6]],\n",
       " \n",
       "        [[0.7, 0.7, 0.7, 0.7, 0.7, 0.7, 0.7, 0.7, 0.7, 0.7],\n",
       "         [0.7, 0.7, 0.7, 0.7, 0.7, 0.7, 0.7, 0.7, 0.7, 0.7],\n",
       "         [0.7, 0.7, 0.7, 0.7, 0.7, 0.7, 0.7, 0.7, 0.7, 0.7],\n",
       "         [0.7, 0.7, 0.7, 0.7, 0.7, 0.7, 0.7, 0.7, 0.7, 0.7],\n",
       "         [0.7, 0.7, 0.7, 0.7, 0.7, 0.7, 0.7, 0.7, 0.7, 0.7],\n",
       "         [0.7, 0.7, 0.7, 0.7, 0.7, 0.7, 0.7, 0.7, 0.7, 0.7],\n",
       "         [0.7, 0.7, 0.7, 0.7, 0.7, 0.7, 0.7, 0.7, 0.7, 0.7],\n",
       "         [0.7, 0.7, 0.7, 0.7, 0.7, 0.7, 0.7, 0.7, 0.7, 0.7],\n",
       "         [0.7, 0.7, 0.7, 0.7, 0.7, 0.7, 0.7, 0.7, 0.7, 0.7],\n",
       "         [0.7, 0.7, 0.7, 0.7, 0.7, 0.7, 0.7, 0.7, 0.7, 0.7]],\n",
       " \n",
       "        [[0.8, 0.8, 0.8, 0.8, 0.8, 0.8, 0.8, 0.8, 0.8, 0.8],\n",
       "         [0.8, 0.8, 0.8, 0.8, 0.8, 0.8, 0.8, 0.8, 0.8, 0.8],\n",
       "         [0.8, 0.8, 0.8, 0.8, 0.8, 0.8, 0.8, 0.8, 0.8, 0.8],\n",
       "         [0.8, 0.8, 0.8, 0.8, 0.8, 0.8, 0.8, 0.8, 0.8, 0.8],\n",
       "         [0.8, 0.8, 0.8, 0.8, 0.8, 0.8, 0.8, 0.8, 0.8, 0.8],\n",
       "         [0.8, 0.8, 0.8, 0.8, 0.8, 0.8, 0.8, 0.8, 0.8, 0.8],\n",
       "         [0.8, 0.8, 0.8, 0.8, 0.8, 0.8, 0.8, 0.8, 0.8, 0.8],\n",
       "         [0.8, 0.8, 0.8, 0.8, 0.8, 0.8, 0.8, 0.8, 0.8, 0.8],\n",
       "         [0.8, 0.8, 0.8, 0.8, 0.8, 0.8, 0.8, 0.8, 0.8, 0.8],\n",
       "         [0.8, 0.8, 0.8, 0.8, 0.8, 0.8, 0.8, 0.8, 0.8, 0.8]],\n",
       " \n",
       "        [[0.9, 0.9, 0.9, 0.9, 0.9, 0.9, 0.9, 0.9, 0.9, 0.9],\n",
       "         [0.9, 0.9, 0.9, 0.9, 0.9, 0.9, 0.9, 0.9, 0.9, 0.9],\n",
       "         [0.9, 0.9, 0.9, 0.9, 0.9, 0.9, 0.9, 0.9, 0.9, 0.9],\n",
       "         [0.9, 0.9, 0.9, 0.9, 0.9, 0.9, 0.9, 0.9, 0.9, 0.9],\n",
       "         [0.9, 0.9, 0.9, 0.9, 0.9, 0.9, 0.9, 0.9, 0.9, 0.9],\n",
       "         [0.9, 0.9, 0.9, 0.9, 0.9, 0.9, 0.9, 0.9, 0.9, 0.9],\n",
       "         [0.9, 0.9, 0.9, 0.9, 0.9, 0.9, 0.9, 0.9, 0.9, 0.9],\n",
       "         [0.9, 0.9, 0.9, 0.9, 0.9, 0.9, 0.9, 0.9, 0.9, 0.9],\n",
       "         [0.9, 0.9, 0.9, 0.9, 0.9, 0.9, 0.9, 0.9, 0.9, 0.9],\n",
       "         [0.9, 0.9, 0.9, 0.9, 0.9, 0.9, 0.9, 0.9, 0.9, 0.9]]]),\n",
       " array([[[0. , 0.1, 0.2, 0.3, 0.4, 0.5, 0.6, 0.7, 0.8, 0.9],\n",
       "         [0. , 0.1, 0.2, 0.3, 0.4, 0.5, 0.6, 0.7, 0.8, 0.9],\n",
       "         [0. , 0.1, 0.2, 0.3, 0.4, 0.5, 0.6, 0.7, 0.8, 0.9],\n",
       "         [0. , 0.1, 0.2, 0.3, 0.4, 0.5, 0.6, 0.7, 0.8, 0.9],\n",
       "         [0. , 0.1, 0.2, 0.3, 0.4, 0.5, 0.6, 0.7, 0.8, 0.9],\n",
       "         [0. , 0.1, 0.2, 0.3, 0.4, 0.5, 0.6, 0.7, 0.8, 0.9],\n",
       "         [0. , 0.1, 0.2, 0.3, 0.4, 0.5, 0.6, 0.7, 0.8, 0.9],\n",
       "         [0. , 0.1, 0.2, 0.3, 0.4, 0.5, 0.6, 0.7, 0.8, 0.9],\n",
       "         [0. , 0.1, 0.2, 0.3, 0.4, 0.5, 0.6, 0.7, 0.8, 0.9],\n",
       "         [0. , 0.1, 0.2, 0.3, 0.4, 0.5, 0.6, 0.7, 0.8, 0.9]],\n",
       " \n",
       "        [[0. , 0.1, 0.2, 0.3, 0.4, 0.5, 0.6, 0.7, 0.8, 0.9],\n",
       "         [0. , 0.1, 0.2, 0.3, 0.4, 0.5, 0.6, 0.7, 0.8, 0.9],\n",
       "         [0. , 0.1, 0.2, 0.3, 0.4, 0.5, 0.6, 0.7, 0.8, 0.9],\n",
       "         [0. , 0.1, 0.2, 0.3, 0.4, 0.5, 0.6, 0.7, 0.8, 0.9],\n",
       "         [0. , 0.1, 0.2, 0.3, 0.4, 0.5, 0.6, 0.7, 0.8, 0.9],\n",
       "         [0. , 0.1, 0.2, 0.3, 0.4, 0.5, 0.6, 0.7, 0.8, 0.9],\n",
       "         [0. , 0.1, 0.2, 0.3, 0.4, 0.5, 0.6, 0.7, 0.8, 0.9],\n",
       "         [0. , 0.1, 0.2, 0.3, 0.4, 0.5, 0.6, 0.7, 0.8, 0.9],\n",
       "         [0. , 0.1, 0.2, 0.3, 0.4, 0.5, 0.6, 0.7, 0.8, 0.9],\n",
       "         [0. , 0.1, 0.2, 0.3, 0.4, 0.5, 0.6, 0.7, 0.8, 0.9]],\n",
       " \n",
       "        [[0. , 0.1, 0.2, 0.3, 0.4, 0.5, 0.6, 0.7, 0.8, 0.9],\n",
       "         [0. , 0.1, 0.2, 0.3, 0.4, 0.5, 0.6, 0.7, 0.8, 0.9],\n",
       "         [0. , 0.1, 0.2, 0.3, 0.4, 0.5, 0.6, 0.7, 0.8, 0.9],\n",
       "         [0. , 0.1, 0.2, 0.3, 0.4, 0.5, 0.6, 0.7, 0.8, 0.9],\n",
       "         [0. , 0.1, 0.2, 0.3, 0.4, 0.5, 0.6, 0.7, 0.8, 0.9],\n",
       "         [0. , 0.1, 0.2, 0.3, 0.4, 0.5, 0.6, 0.7, 0.8, 0.9],\n",
       "         [0. , 0.1, 0.2, 0.3, 0.4, 0.5, 0.6, 0.7, 0.8, 0.9],\n",
       "         [0. , 0.1, 0.2, 0.3, 0.4, 0.5, 0.6, 0.7, 0.8, 0.9],\n",
       "         [0. , 0.1, 0.2, 0.3, 0.4, 0.5, 0.6, 0.7, 0.8, 0.9],\n",
       "         [0. , 0.1, 0.2, 0.3, 0.4, 0.5, 0.6, 0.7, 0.8, 0.9]],\n",
       " \n",
       "        [[0. , 0.1, 0.2, 0.3, 0.4, 0.5, 0.6, 0.7, 0.8, 0.9],\n",
       "         [0. , 0.1, 0.2, 0.3, 0.4, 0.5, 0.6, 0.7, 0.8, 0.9],\n",
       "         [0. , 0.1, 0.2, 0.3, 0.4, 0.5, 0.6, 0.7, 0.8, 0.9],\n",
       "         [0. , 0.1, 0.2, 0.3, 0.4, 0.5, 0.6, 0.7, 0.8, 0.9],\n",
       "         [0. , 0.1, 0.2, 0.3, 0.4, 0.5, 0.6, 0.7, 0.8, 0.9],\n",
       "         [0. , 0.1, 0.2, 0.3, 0.4, 0.5, 0.6, 0.7, 0.8, 0.9],\n",
       "         [0. , 0.1, 0.2, 0.3, 0.4, 0.5, 0.6, 0.7, 0.8, 0.9],\n",
       "         [0. , 0.1, 0.2, 0.3, 0.4, 0.5, 0.6, 0.7, 0.8, 0.9],\n",
       "         [0. , 0.1, 0.2, 0.3, 0.4, 0.5, 0.6, 0.7, 0.8, 0.9],\n",
       "         [0. , 0.1, 0.2, 0.3, 0.4, 0.5, 0.6, 0.7, 0.8, 0.9]],\n",
       " \n",
       "        [[0. , 0.1, 0.2, 0.3, 0.4, 0.5, 0.6, 0.7, 0.8, 0.9],\n",
       "         [0. , 0.1, 0.2, 0.3, 0.4, 0.5, 0.6, 0.7, 0.8, 0.9],\n",
       "         [0. , 0.1, 0.2, 0.3, 0.4, 0.5, 0.6, 0.7, 0.8, 0.9],\n",
       "         [0. , 0.1, 0.2, 0.3, 0.4, 0.5, 0.6, 0.7, 0.8, 0.9],\n",
       "         [0. , 0.1, 0.2, 0.3, 0.4, 0.5, 0.6, 0.7, 0.8, 0.9],\n",
       "         [0. , 0.1, 0.2, 0.3, 0.4, 0.5, 0.6, 0.7, 0.8, 0.9],\n",
       "         [0. , 0.1, 0.2, 0.3, 0.4, 0.5, 0.6, 0.7, 0.8, 0.9],\n",
       "         [0. , 0.1, 0.2, 0.3, 0.4, 0.5, 0.6, 0.7, 0.8, 0.9],\n",
       "         [0. , 0.1, 0.2, 0.3, 0.4, 0.5, 0.6, 0.7, 0.8, 0.9],\n",
       "         [0. , 0.1, 0.2, 0.3, 0.4, 0.5, 0.6, 0.7, 0.8, 0.9]],\n",
       " \n",
       "        [[0. , 0.1, 0.2, 0.3, 0.4, 0.5, 0.6, 0.7, 0.8, 0.9],\n",
       "         [0. , 0.1, 0.2, 0.3, 0.4, 0.5, 0.6, 0.7, 0.8, 0.9],\n",
       "         [0. , 0.1, 0.2, 0.3, 0.4, 0.5, 0.6, 0.7, 0.8, 0.9],\n",
       "         [0. , 0.1, 0.2, 0.3, 0.4, 0.5, 0.6, 0.7, 0.8, 0.9],\n",
       "         [0. , 0.1, 0.2, 0.3, 0.4, 0.5, 0.6, 0.7, 0.8, 0.9],\n",
       "         [0. , 0.1, 0.2, 0.3, 0.4, 0.5, 0.6, 0.7, 0.8, 0.9],\n",
       "         [0. , 0.1, 0.2, 0.3, 0.4, 0.5, 0.6, 0.7, 0.8, 0.9],\n",
       "         [0. , 0.1, 0.2, 0.3, 0.4, 0.5, 0.6, 0.7, 0.8, 0.9],\n",
       "         [0. , 0.1, 0.2, 0.3, 0.4, 0.5, 0.6, 0.7, 0.8, 0.9],\n",
       "         [0. , 0.1, 0.2, 0.3, 0.4, 0.5, 0.6, 0.7, 0.8, 0.9]],\n",
       " \n",
       "        [[0. , 0.1, 0.2, 0.3, 0.4, 0.5, 0.6, 0.7, 0.8, 0.9],\n",
       "         [0. , 0.1, 0.2, 0.3, 0.4, 0.5, 0.6, 0.7, 0.8, 0.9],\n",
       "         [0. , 0.1, 0.2, 0.3, 0.4, 0.5, 0.6, 0.7, 0.8, 0.9],\n",
       "         [0. , 0.1, 0.2, 0.3, 0.4, 0.5, 0.6, 0.7, 0.8, 0.9],\n",
       "         [0. , 0.1, 0.2, 0.3, 0.4, 0.5, 0.6, 0.7, 0.8, 0.9],\n",
       "         [0. , 0.1, 0.2, 0.3, 0.4, 0.5, 0.6, 0.7, 0.8, 0.9],\n",
       "         [0. , 0.1, 0.2, 0.3, 0.4, 0.5, 0.6, 0.7, 0.8, 0.9],\n",
       "         [0. , 0.1, 0.2, 0.3, 0.4, 0.5, 0.6, 0.7, 0.8, 0.9],\n",
       "         [0. , 0.1, 0.2, 0.3, 0.4, 0.5, 0.6, 0.7, 0.8, 0.9],\n",
       "         [0. , 0.1, 0.2, 0.3, 0.4, 0.5, 0.6, 0.7, 0.8, 0.9]],\n",
       " \n",
       "        [[0. , 0.1, 0.2, 0.3, 0.4, 0.5, 0.6, 0.7, 0.8, 0.9],\n",
       "         [0. , 0.1, 0.2, 0.3, 0.4, 0.5, 0.6, 0.7, 0.8, 0.9],\n",
       "         [0. , 0.1, 0.2, 0.3, 0.4, 0.5, 0.6, 0.7, 0.8, 0.9],\n",
       "         [0. , 0.1, 0.2, 0.3, 0.4, 0.5, 0.6, 0.7, 0.8, 0.9],\n",
       "         [0. , 0.1, 0.2, 0.3, 0.4, 0.5, 0.6, 0.7, 0.8, 0.9],\n",
       "         [0. , 0.1, 0.2, 0.3, 0.4, 0.5, 0.6, 0.7, 0.8, 0.9],\n",
       "         [0. , 0.1, 0.2, 0.3, 0.4, 0.5, 0.6, 0.7, 0.8, 0.9],\n",
       "         [0. , 0.1, 0.2, 0.3, 0.4, 0.5, 0.6, 0.7, 0.8, 0.9],\n",
       "         [0. , 0.1, 0.2, 0.3, 0.4, 0.5, 0.6, 0.7, 0.8, 0.9],\n",
       "         [0. , 0.1, 0.2, 0.3, 0.4, 0.5, 0.6, 0.7, 0.8, 0.9]],\n",
       " \n",
       "        [[0. , 0.1, 0.2, 0.3, 0.4, 0.5, 0.6, 0.7, 0.8, 0.9],\n",
       "         [0. , 0.1, 0.2, 0.3, 0.4, 0.5, 0.6, 0.7, 0.8, 0.9],\n",
       "         [0. , 0.1, 0.2, 0.3, 0.4, 0.5, 0.6, 0.7, 0.8, 0.9],\n",
       "         [0. , 0.1, 0.2, 0.3, 0.4, 0.5, 0.6, 0.7, 0.8, 0.9],\n",
       "         [0. , 0.1, 0.2, 0.3, 0.4, 0.5, 0.6, 0.7, 0.8, 0.9],\n",
       "         [0. , 0.1, 0.2, 0.3, 0.4, 0.5, 0.6, 0.7, 0.8, 0.9],\n",
       "         [0. , 0.1, 0.2, 0.3, 0.4, 0.5, 0.6, 0.7, 0.8, 0.9],\n",
       "         [0. , 0.1, 0.2, 0.3, 0.4, 0.5, 0.6, 0.7, 0.8, 0.9],\n",
       "         [0. , 0.1, 0.2, 0.3, 0.4, 0.5, 0.6, 0.7, 0.8, 0.9],\n",
       "         [0. , 0.1, 0.2, 0.3, 0.4, 0.5, 0.6, 0.7, 0.8, 0.9]],\n",
       " \n",
       "        [[0. , 0.1, 0.2, 0.3, 0.4, 0.5, 0.6, 0.7, 0.8, 0.9],\n",
       "         [0. , 0.1, 0.2, 0.3, 0.4, 0.5, 0.6, 0.7, 0.8, 0.9],\n",
       "         [0. , 0.1, 0.2, 0.3, 0.4, 0.5, 0.6, 0.7, 0.8, 0.9],\n",
       "         [0. , 0.1, 0.2, 0.3, 0.4, 0.5, 0.6, 0.7, 0.8, 0.9],\n",
       "         [0. , 0.1, 0.2, 0.3, 0.4, 0.5, 0.6, 0.7, 0.8, 0.9],\n",
       "         [0. , 0.1, 0.2, 0.3, 0.4, 0.5, 0.6, 0.7, 0.8, 0.9],\n",
       "         [0. , 0.1, 0.2, 0.3, 0.4, 0.5, 0.6, 0.7, 0.8, 0.9],\n",
       "         [0. , 0.1, 0.2, 0.3, 0.4, 0.5, 0.6, 0.7, 0.8, 0.9],\n",
       "         [0. , 0.1, 0.2, 0.3, 0.4, 0.5, 0.6, 0.7, 0.8, 0.9],\n",
       "         [0. , 0.1, 0.2, 0.3, 0.4, 0.5, 0.6, 0.7, 0.8, 0.9]]]))"
      ]
     },
     "execution_count": 175,
     "metadata": {},
     "output_type": "execute_result"
    }
   ],
   "source": [
    "xv, yv, zv"
   ]
  },
  {
   "cell_type": "code",
   "execution_count": 203,
   "metadata": {},
   "outputs": [
    {
     "data": {
      "image/png": "[encoded data removed]",
      "text/plain": [
       "<Figure size 1440x1440 with 2 Axes>"
      ]
     },
     "metadata": {
      "needs_background": "light"
     },
     "output_type": "display_data"
    }
   ],
   "source": [
    "fig = plt.figure(figsize=(20, 20))\n",
    "\n",
    "ax1 = fig.add_subplot(131, projection='3d')\n",
    "ax2 = fig.add_subplot(132, projection='3d')\n",
    "# ax3 = fig.add_subplot(133, projection='3d')\n",
    "\n",
    "axes = [ax1, ax2]\n",
    "\n",
    "\n",
    "\n",
    "# for i, row in eq_memone[['p2', 'p5', 'p6']].round(2).drop_duplicates().iterrows():\n",
    "\n",
    "#         ax1.scatter(row['p2'], row['p5'], row['p6'], color='tab:blue', alpha=0.5)\n",
    "\n",
    "# ax1.set_zlim(0, 1);\n",
    "        \n",
    "    \n",
    "# for i, row in eq[['p2', 'p5', 'p6']].round(2).drop_duplicates().iterrows():\n",
    "\n",
    "#         ax2.scatter(row['p2'], row['p5'], row['p6'], color='tab:blue', alpha=0.5)\n",
    "\n",
    "# ax2.set_zlim(0, 1);\n",
    "        \n",
    "for ax in axes:\n",
    "\n",
    "#     ax.view_init(10, -70)\n",
    "    ax.view_init(10, -60)\n",
    "    ax.set_xticks([0, .5, 1])\n",
    "    ax.set_yticks([0, .5, 1])\n",
    "    ax.set_zticks([0, .5, 1])\n",
    "\n",
    "    ax.set_xticklabels([0, \"\", 1])\n",
    "    ax.set_yticklabels([0, \"\", 1])\n",
    "    ax.set_zticklabels([0, \"\", 1])\n",
    "\n",
    "\n",
    "    ax.annotate(\"$p_2$\", (-0.05, -0.08), fontsize=15)\n",
    "    ax.annotate(\"$p_3$\", (.065, -0.06), fontsize=15)\n",
    "    ax.annotate(\"$p_4$\", (.09, 0.003), fontsize=15)\n",
    "    \n",
    "    \n",
    "    ax.xaxis.pane.fill = False\n",
    "    ax.yaxis.pane.fill = False\n",
    "    ax.zaxis.pane.fill = False\n",
    "\n",
    "ax1.set_title(\"A)\", fontweight='bold', x=.1, y=.9, fontsize=15)\n",
    "\n",
    "\n",
    "for k, indices in enumerate([[Is0, Js0, Zs0],\n",
    "                             [Is931, Js931, Zs931]]):\n",
    "    \n",
    "        Is, Js, Zs = indices\n",
    "        \n",
    "        for i, j, z in zip(Is, Js, Zs):\n",
    "            \n",
    "            ax1.scatter(xv[i, j, z],\n",
    "                            yv[i, j, z],\n",
    "                            zv[i, j, z],\n",
    "                            s=1,\n",
    "                            color=colors[k])\n",
    "            \n",
    "        ax1.scatter(xv[i, j, z],\n",
    "                yv[i, j, z],\n",
    "                zv[i, j, z],\n",
    "                s=1,\n",
    "#                 label=labels[k],\n",
    "                color=colors[k])\n",
    "    \n",
    "# ax3.legend(custom_lines, ['Provably Nash',\n",
    "#                           'Numerical Nash',\n",
    "#                           'AllD', 'N6'], bbox_to_anchor=(0, 0), ncol=4, framealpha=0, fontsize=12);\n",
    "\n",
    "# plt.savefig(\"../static/two_bit_results.pdf\", \n",
    "#             transparent=True,  bbox_inches='tight')"
   ]
  },
  {
   "cell_type": "code",
   "execution_count": 69,
   "metadata": {},
   "outputs": [
    {
     "data": {
      "text/plain": [
       "499"
      ]
     },
     "execution_count": 69,
     "metadata": {},
     "output_type": "execute_result"
    }
   ],
   "source": [
    "eq['ID'].nunique()"
   ]
  },
  {
   "cell_type": "code",
   "execution_count": 85,
   "metadata": {},
   "outputs": [],
   "source": [
    "to_ckeck = list(set(eq['ID']).difference(set(eq_memone['ID'])))"
   ]
  },
  {
   "cell_type": "code",
   "execution_count": 87,
   "metadata": {},
   "outputs": [
    {
     "data": {
      "text/plain": [
       "'N15'"
      ]
     },
     "execution_count": 87,
     "metadata": {},
     "output_type": "execute_result"
    }
   ],
   "source": [
    "eq[eq['ID'] == i].iloc[-1]['label']"
   ]
  },
  {
   "cell_type": "code",
   "execution_count": 89,
   "metadata": {},
   "outputs": [
    {
     "data": {
      "text/plain": [
       "'N931'"
      ]
     },
     "execution_count": 89,
     "metadata": {},
     "output_type": "execute_result"
    }
   ],
   "source": [
    "max([noneq_memone[noneq_memone['ID'] == i].iloc[-1]['label'] for i in to_ckeck])"
   ]
  },
  {
   "cell_type": "code",
   "execution_count": 93,
   "metadata": {},
   "outputs": [],
   "source": []
  },
  {
   "cell_type": "code",
   "execution_count": 94,
   "metadata": {},
   "outputs": [],
   "source": [
    "N931 = deterministic_strategies[931]"
   ]
  },
  {
   "cell_type": "code",
   "execution_count": 107,
   "metadata": {},
   "outputs": [],
   "source": [
    "p_1, p_2, p_3, p_4 = sym.symbols(\"p_1, p_2, p_3, p_4\")\n",
    "\n",
    "M = calculate_M_memory_two(N931,[p_1, p_2, p_3, p_4] * 4)\n",
    "\n",
    "ss = invariant_distribution_analytically(M)\n",
    "\n",
    "\n",
    "ss @ sym.Matrix([b - c, -c, b, 0] * 4)"
   ]
  },
  {
   "cell_type": "code",
   "execution_count": 108,
   "metadata": {},
   "outputs": [],
   "source": [
    "b, c = sym.symbols(\"b, c\")"
   ]
  },
  {
   "cell_type": "code",
   "execution_count": 109,
   "metadata": {},
   "outputs": [],
   "source": [
    "exprN931 = ss @ sym.Matrix([b - c, -c, b, 0] * 4)"
   ]
  },
  {
   "cell_type": "code",
   "execution_count": 114,
   "metadata": {},
   "outputs": [],
   "source": [
    "sym.init_printing(False)"
   ]
  },
  {
   "cell_type": "code",
   "execution_count": 115,
   "metadata": {},
   "outputs": [
    {
     "data": {
      "text/plain": [
       "(-p_2**2*p_3 + 3*p_2**2*p_4 - 3*p_2**2 + p_2*p_3*p_4 + p_2*p_3 - p_2*p_4**2 - 3*p_2*p_4 + p_3*p_4 - 2*p_3 + p_4**2 - 2*p_4 + 3)/(p_2**2*p_3 + p_2**2*p_4**2 - 3*p_2**2*p_4 + 2*p_2**2 - 5*p_2*p_3 + p_2*p_4**2 + p_2*p_4 + 4*p_3*p_4 - 2*p_4**2 - 2*p_4 - 2)"
      ]
     },
     "execution_count": 115,
     "metadata": {},
     "output_type": "execute_result"
    }
   ],
   "source": [
    "(exprN931[0] - (b - c)).subs({p_1:1, b:2, c: 1}).simplify()"
   ]
  },
  {
   "cell_type": "code",
   "execution_count": 64,
   "metadata": {},
   "outputs": [
    {
     "data": {
      "text/html": [
       "<div>\n",
       "<style scoped>\n",
       "    .dataframe tbody tr th:only-of-type {\n",
       "        vertical-align: middle;\n",
       "    }\n",
       "\n",
       "    .dataframe tbody tr th {\n",
       "        vertical-align: top;\n",
       "    }\n",
       "\n",
       "    .dataframe thead th {\n",
       "        text-align: right;\n",
       "    }\n",
       "</style>\n",
       "<table border=\"1\" class=\"dataframe\">\n",
       "  <thead>\n",
       "    <tr style=\"text-align: right;\">\n",
       "      <th></th>\n",
       "      <th>ID</th>\n",
       "      <th>p1</th>\n",
       "      <th>p2</th>\n",
       "      <th>p3</th>\n",
       "      <th>p4</th>\n",
       "      <th>p5</th>\n",
       "      <th>p6</th>\n",
       "      <th>p7</th>\n",
       "      <th>p8</th>\n",
       "      <th>p9</th>\n",
       "      <th>...</th>\n",
       "      <th>p14</th>\n",
       "      <th>p15</th>\n",
       "      <th>p16</th>\n",
       "      <th>label</th>\n",
       "      <th>Sp</th>\n",
       "      <th>Sq</th>\n",
       "      <th>condition A</th>\n",
       "      <th>condition B</th>\n",
       "      <th>c</th>\n",
       "      <th>b</th>\n",
       "    </tr>\n",
       "    <tr>\n",
       "      <th></th>\n",
       "      <th></th>\n",
       "      <th></th>\n",
       "      <th></th>\n",
       "      <th></th>\n",
       "      <th></th>\n",
       "      <th></th>\n",
       "      <th></th>\n",
       "      <th></th>\n",
       "      <th></th>\n",
       "      <th></th>\n",
       "      <th></th>\n",
       "      <th></th>\n",
       "      <th></th>\n",
       "      <th></th>\n",
       "      <th></th>\n",
       "      <th></th>\n",
       "      <th></th>\n",
       "      <th></th>\n",
       "      <th></th>\n",
       "      <th></th>\n",
       "      <th></th>\n",
       "    </tr>\n",
       "  </thead>\n",
       "  <tbody>\n",
       "    <tr>\n",
       "      <th>65531</th>\n",
       "      <td>450</td>\n",
       "      <td>1</td>\n",
       "      <td>0.29362</td>\n",
       "      <td>1</td>\n",
       "      <td>0.29362</td>\n",
       "      <td>0.9682</td>\n",
       "      <td>0.2262</td>\n",
       "      <td>0.9682</td>\n",
       "      <td>0.2262</td>\n",
       "      <td>1</td>\n",
       "      <td>...</td>\n",
       "      <td>0.2262</td>\n",
       "      <td>0.9682</td>\n",
       "      <td>0.2262</td>\n",
       "      <td>N65531</td>\n",
       "      <td>1.0</td>\n",
       "      <td>1.0</td>\n",
       "      <td>True</td>\n",
       "      <td>True</td>\n",
       "      <td>2</td>\n",
       "      <td>1</td>\n",
       "    </tr>\n",
       "    <tr>\n",
       "      <th>65532</th>\n",
       "      <td>450</td>\n",
       "      <td>1</td>\n",
       "      <td>0.29362</td>\n",
       "      <td>1</td>\n",
       "      <td>0.29362</td>\n",
       "      <td>0.9682</td>\n",
       "      <td>0.2262</td>\n",
       "      <td>0.9682</td>\n",
       "      <td>0.2262</td>\n",
       "      <td>1</td>\n",
       "      <td>...</td>\n",
       "      <td>0.2262</td>\n",
       "      <td>0.9682</td>\n",
       "      <td>0.2262</td>\n",
       "      <td>N65532</td>\n",
       "      <td>1.0</td>\n",
       "      <td>1.0</td>\n",
       "      <td>True</td>\n",
       "      <td>True</td>\n",
       "      <td>2</td>\n",
       "      <td>1</td>\n",
       "    </tr>\n",
       "    <tr>\n",
       "      <th>65533</th>\n",
       "      <td>450</td>\n",
       "      <td>1</td>\n",
       "      <td>0.29362</td>\n",
       "      <td>1</td>\n",
       "      <td>0.29362</td>\n",
       "      <td>0.9682</td>\n",
       "      <td>0.2262</td>\n",
       "      <td>0.9682</td>\n",
       "      <td>0.2262</td>\n",
       "      <td>1</td>\n",
       "      <td>...</td>\n",
       "      <td>0.2262</td>\n",
       "      <td>0.9682</td>\n",
       "      <td>0.2262</td>\n",
       "      <td>N65533</td>\n",
       "      <td>1.0</td>\n",
       "      <td>1.0</td>\n",
       "      <td>True</td>\n",
       "      <td>True</td>\n",
       "      <td>2</td>\n",
       "      <td>1</td>\n",
       "    </tr>\n",
       "    <tr>\n",
       "      <th>65534</th>\n",
       "      <td>450</td>\n",
       "      <td>1</td>\n",
       "      <td>0.29362</td>\n",
       "      <td>1</td>\n",
       "      <td>0.29362</td>\n",
       "      <td>0.9682</td>\n",
       "      <td>0.2262</td>\n",
       "      <td>0.9682</td>\n",
       "      <td>0.2262</td>\n",
       "      <td>1</td>\n",
       "      <td>...</td>\n",
       "      <td>0.2262</td>\n",
       "      <td>0.9682</td>\n",
       "      <td>0.2262</td>\n",
       "      <td>N65534</td>\n",
       "      <td>1.0</td>\n",
       "      <td>1.0</td>\n",
       "      <td>True</td>\n",
       "      <td>True</td>\n",
       "      <td>2</td>\n",
       "      <td>1</td>\n",
       "    </tr>\n",
       "    <tr>\n",
       "      <th>65535</th>\n",
       "      <td>450</td>\n",
       "      <td>1</td>\n",
       "      <td>0.29362</td>\n",
       "      <td>1</td>\n",
       "      <td>0.29362</td>\n",
       "      <td>0.9682</td>\n",
       "      <td>0.2262</td>\n",
       "      <td>0.9682</td>\n",
       "      <td>0.2262</td>\n",
       "      <td>1</td>\n",
       "      <td>...</td>\n",
       "      <td>0.2262</td>\n",
       "      <td>0.9682</td>\n",
       "      <td>0.2262</td>\n",
       "      <td>N65535</td>\n",
       "      <td>1.0</td>\n",
       "      <td>1.0</td>\n",
       "      <td>True</td>\n",
       "      <td>True</td>\n",
       "      <td>2</td>\n",
       "      <td>1</td>\n",
       "    </tr>\n",
       "  </tbody>\n",
       "</table>\n",
       "<p>5 rows × 24 columns</p>\n",
       "</div>"
      ],
      "text/plain": [
       "        ID  p1       p2  p3       p4      p5      p6      p7      p8  p9  ...  \\\n",
       "                                                                          ...   \n",
       "65531  450   1  0.29362   1  0.29362  0.9682  0.2262  0.9682  0.2262   1  ...   \n",
       "65532  450   1  0.29362   1  0.29362  0.9682  0.2262  0.9682  0.2262   1  ...   \n",
       "65533  450   1  0.29362   1  0.29362  0.9682  0.2262  0.9682  0.2262   1  ...   \n",
       "65534  450   1  0.29362   1  0.29362  0.9682  0.2262  0.9682  0.2262   1  ...   \n",
       "65535  450   1  0.29362   1  0.29362  0.9682  0.2262  0.9682  0.2262   1  ...   \n",
       "\n",
       "          p14     p15     p16   label   Sp   Sq  condition A condition B  c  b  \n",
       "                                                                                \n",
       "65531  0.2262  0.9682  0.2262  N65531  1.0  1.0         True        True  2  1  \n",
       "65532  0.2262  0.9682  0.2262  N65532  1.0  1.0         True        True  2  1  \n",
       "65533  0.2262  0.9682  0.2262  N65533  1.0  1.0         True        True  2  1  \n",
       "65534  0.2262  0.9682  0.2262  N65534  1.0  1.0         True        True  2  1  \n",
       "65535  0.2262  0.9682  0.2262  N65535  1.0  1.0         True        True  2  1  \n",
       "\n",
       "[5 rows x 24 columns]"
      ]
     },
     "execution_count": 64,
     "metadata": {},
     "output_type": "execute_result"
    }
   ],
   "source": [
    "eq_memone.tail()"
   ]
  },
  {
   "cell_type": "markdown",
   "metadata": {},
   "source": [
    "### Results for the pd"
   ]
  },
  {
   "cell_type": "code",
   "execution_count": null,
   "metadata": {},
   "outputs": [],
   "source": [
    "import glob\n",
    "\n",
    "columns = ([\"\", \"ID\"] + [f'p{i+1}' for i in range(16)] + [f'q{i+1}' for i in range(16)] + \n",
    "           ['label', 'Sp', 'Sq', \"condition A\", \"condition B\",'c', 'b'])\n",
    "\n",
    "files = glob.glob(\"../two_bit_reactive_pd/*csv\")\n",
    "\n",
    "dfs = [pd.read_csv(file, index_col=0, names=columns) for file in files]\n",
    "\n",
    "df = pd.concat(dfs)\n",
    "\n",
    "df.to_csv(\"../two_bit_reactive_nash_pd.csv\")"
   ]
  },
  {
   "cell_type": "code",
   "execution_count": null,
   "metadata": {},
   "outputs": [],
   "source": [
    "pd_df = pd.read_csv(\"../two_bit_reactive_nash_pd.csv\", index_col=0)"
   ]
  },
  {
   "cell_type": "code",
   "execution_count": null,
   "metadata": {},
   "outputs": [],
   "source": [
    "eq, noneq = seperate_equilibria_and_non(pd_df)"
   ]
  },
  {
   "cell_type": "code",
   "execution_count": null,
   "metadata": {},
   "outputs": [],
   "source": [
    "groups = noneq[noneq['condition A'] == False].groupby('ID')"
   ]
  },
  {
   "cell_type": "code",
   "execution_count": null,
   "metadata": {},
   "outputs": [],
   "source": [
    "sets, ids = [], []\n",
    "\n",
    "for i, group in groups:\n",
    "    sets.append(group['label'].values)\n",
    "    ids.append(group['ID'].unique())"
   ]
  },
  {
   "cell_type": "code",
   "execution_count": null,
   "metadata": {},
   "outputs": [],
   "source": [
    "flat_list = [item for sublist in sets for item in sublist]\n",
    "\n",
    "counter = Counter(flat_list)"
   ]
  },
  {
   "cell_type": "code",
   "execution_count": null,
   "metadata": {},
   "outputs": [],
   "source": [
    "counter"
   ]
  },
  {
   "cell_type": "code",
   "execution_count": null,
   "metadata": {},
   "outputs": [],
   "source": [
    "idx_sets = []\n",
    "\n",
    "for i, j, k in list(itertools.combinations(labels, r=3)):\n",
    "    index = [s for _, s in enumerate(sets) if (i not in list(s) and j not in list(s) and k not in list(s))]\n",
    "    \n",
    "    if len(index) == 0:\n",
    "        idx_sets.append((i, j, k))"
   ]
  },
  {
   "cell_type": "code",
   "execution_count": null,
   "metadata": {},
   "outputs": [],
   "source": [
    "idx_sets"
   ]
  },
  {
   "cell_type": "code",
   "execution_count": null,
   "metadata": {},
   "outputs": [],
   "source": [
    "[(i, s) for i, s in zip(ids, sets) if 'N7' not in s and 'N0' not in s and 'N6' not in s]"
   ]
  },
  {
   "cell_type": "code",
   "execution_count": 4,
   "metadata": {},
   "outputs": [],
   "source": [
    "import sympy as sym"
   ]
  },
  {
   "cell_type": "code",
   "execution_count": 5,
   "metadata": {},
   "outputs": [],
   "source": [
    "p_2, p_3, b, c = sym.symbols(\"p_2, p_3, b, c\")"
   ]
  },
  {
   "cell_type": "code",
   "execution_count": 16,
   "metadata": {},
   "outputs": [
    {
     "data": {
      "text/latex": [
       "$\\displaystyle - p_{2} + 2 - \\frac{c}{b}$"
      ],
      "text/plain": [
       "-p_2 + 2 - c/b"
      ]
     },
     "execution_count": 16,
     "metadata": {},
     "output_type": "execute_result"
    }
   ],
   "source": [
    "sym.solve(p_2 + p_3 - (1 + (b - c) / b), p_3)[0].simplify()"
   ]
  },
  {
   "cell_type": "code",
   "execution_count": null,
   "metadata": {},
   "outputs": [],
   "source": []
  }
 ],
 "metadata": {
  "kernelspec": {
   "display_name": "Python 3",
   "language": "python",
   "name": "python3"
  },
  "language_info": {
   "codemirror_mode": {
    "name": "ipython",
    "version": 3
   },
   "file_extension": ".py",
   "mimetype": "text/x-python",
   "name": "python",
   "nbconvert_exporter": "python",
   "pygments_lexer": "ipython3",
   "version": "3.8.3"
  }
 },
 "nbformat": 4,
 "nbformat_minor": 4
}
