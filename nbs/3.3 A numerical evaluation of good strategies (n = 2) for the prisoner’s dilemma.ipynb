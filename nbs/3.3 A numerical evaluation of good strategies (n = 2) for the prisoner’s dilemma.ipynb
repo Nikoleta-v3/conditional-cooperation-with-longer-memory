{
 "cells": [
  {
   "cell_type": "code",
   "execution_count": 30,
   "metadata": {},
   "outputs": [],
   "source": [
    "from mpl_toolkits import mplot3d\n",
    "\n",
    "import numpy as np\n",
    "\n",
    "import matplotlib.pyplot as plt\n",
    "\n",
    "import matplotlib\n",
    "\n",
    "plt.rcParams[\"font.size\"] = 15\n",
    "plt.rcParams[\"font.weight\"] = \"bold\"\n",
    "plt.rcParams[\"axes.labelweight\"] = \"bold\"\n",
    "\n",
    "from mpl_toolkits.mplot3d.art3d import Poly3DCollection\n",
    "\n",
    "from matplotlib.lines import Line2D"
   ]
  },
  {
   "cell_type": "code",
   "execution_count": 31,
   "metadata": {},
   "outputs": [],
   "source": [
    "from mpl_toolkits.mplot3d.art3d import Poly3DCollection\n",
    "\n",
    "from matplotlib.lines import Line2D"
   ]
  },
  {
   "cell_type": "code",
   "execution_count": 32,
   "metadata": {},
   "outputs": [],
   "source": [
    "import pandas as pd\n",
    "\n",
    "from collections import Counter\n",
    "\n",
    "import itertools"
   ]
  },
  {
   "cell_type": "code",
   "execution_count": 33,
   "metadata": {},
   "outputs": [],
   "source": [
    "import sympy as sym"
   ]
  },
  {
   "cell_type": "code",
   "execution_count": 34,
   "metadata": {},
   "outputs": [],
   "source": [
    "import os"
   ]
  },
  {
   "cell_type": "code",
   "execution_count": 35,
   "metadata": {},
   "outputs": [],
   "source": [
    "os.chdir(\"/Users/glynatsi/rsc/reactive-two-bits/\")"
   ]
  },
  {
   "cell_type": "code",
   "execution_count": 36,
   "metadata": {},
   "outputs": [],
   "source": [
    "from importlib.machinery import SourceFileLoader\n",
    "\n",
    "main = SourceFileLoader(\"main\", \"src/main.py\").load_module()\n",
    "\n",
    "from main import *"
   ]
  },
  {
   "cell_type": "code",
   "execution_count": 37,
   "metadata": {},
   "outputs": [],
   "source": [
    "eq = SourceFileLoader(\"eq\", \"src/numerical_equilibria_n_bit_vs_n_bit.py\").load_module()\n",
    "\n",
    "from eq import *"
   ]
  },
  {
   "cell_type": "code",
   "execution_count": 38,
   "metadata": {},
   "outputs": [],
   "source": [
    "def seperate_equilibria_and_non(df):\n",
    "    per_player = df.groupby('ID')['condition A'].all()\n",
    "\n",
    "    eq_players_ID = per_player[per_player == True].index\n",
    "\n",
    "    noneq_players_ID = per_player[per_player == False].index\n",
    "    \n",
    "    return df[df['ID'].isin(eq_players_ID)], df[df['ID'].isin(noneq_players_ID)]"
   ]
  },
  {
   "cell_type": "code",
   "execution_count": 39,
   "metadata": {},
   "outputs": [],
   "source": [
    "colors = [\"tab:green\", \"tab:orange\", \"tab:purple\"]"
   ]
  },
  {
   "cell_type": "markdown",
   "metadata": {},
   "source": [
    "### Numerical Nash"
   ]
  },
  {
   "cell_type": "code",
   "execution_count": 10,
   "metadata": {},
   "outputs": [],
   "source": [
    "import glob"
   ]
  },
  {
   "cell_type": "code",
   "execution_count": 11,
   "metadata": {},
   "outputs": [],
   "source": [
    "files = glob.glob(\"data/prisoners_dilemma_two_bit_reactive/*csv\")"
   ]
  },
  {
   "cell_type": "code",
   "execution_count": 12,
   "metadata": {},
   "outputs": [
    {
     "data": {
      "text/plain": [
       "1000"
      ]
     },
     "execution_count": 12,
     "metadata": {},
     "output_type": "execute_result"
    }
   ],
   "source": [
    "len(files)"
   ]
  },
  {
   "cell_type": "code",
   "execution_count": 30,
   "metadata": {},
   "outputs": [],
   "source": [
    "columns = (\n",
    "    [\"\", \"ID\"]\n",
    "    + [f\"p{i+1}\" for i in range(16)]\n",
    "    + [\"label\", \"Sp\", \"Sq\", \"condition A\", \"condition B\", \"c\", \"b\"]\n",
    ")\n",
    "\n",
    "dfs = [pd.read_csv(file, index_col=0, names=columns) for file in files]\n",
    "\n",
    "df = pd.concat(dfs)"
   ]
  },
  {
   "cell_type": "code",
   "execution_count": 31,
   "metadata": {},
   "outputs": [],
   "source": [
    "eq, noneq = seperate_equilibria_and_non(df)"
   ]
  },
  {
   "cell_type": "code",
   "execution_count": 32,
   "metadata": {},
   "outputs": [
    {
     "data": {
      "text/plain": [
       "(422, 578)"
      ]
     },
     "execution_count": 32,
     "metadata": {},
     "output_type": "execute_result"
    }
   ],
   "source": [
    "eq['ID'].nunique(), noneq['ID'].nunique()"
   ]
  },
  {
   "cell_type": "code",
   "execution_count": 33,
   "metadata": {},
   "outputs": [],
   "source": [
    "del dfs\n",
    "\n",
    "del df"
   ]
  },
  {
   "cell_type": "code",
   "execution_count": 34,
   "metadata": {},
   "outputs": [],
   "source": [
    "eq.drop_duplicates(\"ID\").to_csv(\"data/equilibria_for_prisoners_dilemma.csv\")"
   ]
  },
  {
   "cell_type": "markdown",
   "metadata": {},
   "source": [
    "#### The pure set of strategies we need to check "
   ]
  },
  {
   "cell_type": "code",
   "execution_count": 35,
   "metadata": {},
   "outputs": [],
   "source": [
    "groups = noneq[noneq['condition A'] == False].groupby('ID')"
   ]
  },
  {
   "cell_type": "code",
   "execution_count": 36,
   "metadata": {},
   "outputs": [],
   "source": [
    "sets, ids = [], []\n",
    "\n",
    "for i, group in groups:\n",
    "    sets.append(group['label'].values)\n",
    "    ids.append(group['ID'].unique())"
   ]
  },
  {
   "cell_type": "code",
   "execution_count": 50,
   "metadata": {},
   "outputs": [],
   "source": [
    "flat_list = [item for sublist in [s for s in sets if ('N14797' not in s)] for item in sublist]\n",
    "\n",
    "counter = Counter(flat_list)"
   ]
  },
  {
   "cell_type": "code",
   "execution_count": null,
   "metadata": {},
   "outputs": [],
   "source": []
  },
  {
   "cell_type": "code",
   "execution_count": 38,
   "metadata": {},
   "outputs": [
    {
     "data": {
      "text/plain": [
       "131"
      ]
     },
     "execution_count": 38,
     "metadata": {},
     "output_type": "execute_result"
    }
   ],
   "source": [
    "len([s for s in sets if ('N0' not in s)])"
   ]
  },
  {
   "cell_type": "markdown",
   "metadata": {},
   "source": [
    "There are 131 points that are not explained by ALLD. We can explore which strategies explain them."
   ]
  },
  {
   "cell_type": "code",
   "execution_count": 51,
   "metadata": {},
   "outputs": [
    {
     "data": {
      "text/plain": [
       "60"
      ]
     },
     "execution_count": 51,
     "metadata": {},
     "output_type": "execute_result"
    }
   ],
   "source": [
    "max(counter.values())"
   ]
  },
  {
   "cell_type": "code",
   "execution_count": 52,
   "metadata": {},
   "outputs": [
    {
     "data": {
      "text/plain": [
       "525"
      ]
     },
     "execution_count": 52,
     "metadata": {},
     "output_type": "execute_result"
    }
   ],
   "source": [
    "465 + 60"
   ]
  },
  {
   "cell_type": "code",
   "execution_count": null,
   "metadata": {},
   "outputs": [],
   "source": [
    "There are several strategies that can explain 119 points. This still leaves 12 points, and "
   ]
  },
  {
   "cell_type": "code",
   "execution_count": 49,
   "metadata": {},
   "outputs": [
    {
     "data": {
      "text/plain": [
       "['N8397', 'N8653', 'N10445', 'N10701', 'N12493', 'N12749', 'N14541', 'N14797']"
      ]
     },
     "execution_count": 49,
     "metadata": {},
     "output_type": "execute_result"
    }
   ],
   "source": [
    "[key for key, values in zip(counter.keys(), counter.values()) if values == 465]"
   ]
  },
  {
   "cell_type": "code",
   "execution_count": 135,
   "metadata": {},
   "outputs": [
    {
     "data": {
      "text/plain": [
       "(0, 0, 1, 0, 0, 0, 1, 0, 1, 1, 0, 0, 0, 0, 1, 0)"
      ]
     },
     "execution_count": 135,
     "metadata": {},
     "output_type": "execute_result"
    }
   ],
   "source": [
    "deterministic_strategies[8898]"
   ]
  },
  {
   "cell_type": "code",
   "execution_count": 43,
   "metadata": {},
   "outputs": [],
   "source": [
    "flat_list = [item for sublist in [s for s in sets if ('N0' not in s) and ('N8897' not in s)] for item in sublist]\n",
    "\n",
    "counter = Counter(flat_list)"
   ]
  },
  {
   "cell_type": "code",
   "execution_count": 44,
   "metadata": {},
   "outputs": [
    {
     "data": {
      "text/plain": [
       "12"
      ]
     },
     "execution_count": 44,
     "metadata": {},
     "output_type": "execute_result"
    }
   ],
   "source": [
    "max(counter.values())"
   ]
  },
  {
   "cell_type": "code",
   "execution_count": 48,
   "metadata": {},
   "outputs": [
    {
     "data": {
      "text/plain": [
       "['N28',\n",
       " 'N29',\n",
       " 'N30',\n",
       " 'N31',\n",
       " 'N92',\n",
       " 'N93',\n",
       " 'N94',\n",
       " 'N95',\n",
       " 'N156',\n",
       " 'N157',\n",
       " 'N158',\n",
       " 'N159',\n",
       " 'N207',\n",
       " 'N220',\n",
       " 'N221',\n",
       " 'N222',\n",
       " 'N223',\n",
       " 'N224',\n",
       " 'N225',\n",
       " 'N226',\n",
       " 'N227',\n",
       " 'N228',\n",
       " 'N229',\n",
       " 'N230',\n",
       " 'N231',\n",
       " 'N232',\n",
       " 'N233',\n",
       " 'N234',\n",
       " 'N235',\n",
       " 'N236',\n",
       " 'N237',\n",
       " 'N238',\n",
       " 'N239',\n",
       " 'N242',\n",
       " 'N244',\n",
       " 'N245',\n",
       " 'N246',\n",
       " 'N247',\n",
       " 'N248',\n",
       " 'N249',\n",
       " 'N250',\n",
       " 'N251',\n",
       " 'N252',\n",
       " 'N253',\n",
       " 'N254',\n",
       " 'N255',\n",
       " 'N284',\n",
       " 'N285',\n",
       " 'N286',\n",
       " 'N287',\n",
       " 'N348',\n",
       " 'N349',\n",
       " 'N350',\n",
       " 'N351',\n",
       " 'N412',\n",
       " 'N413',\n",
       " 'N414',\n",
       " 'N415',\n",
       " 'N463',\n",
       " 'N476',\n",
       " 'N477',\n",
       " 'N478',\n",
       " 'N479',\n",
       " 'N480',\n",
       " 'N482',\n",
       " 'N483',\n",
       " 'N484',\n",
       " 'N485',\n",
       " 'N486',\n",
       " 'N487',\n",
       " 'N488',\n",
       " 'N489',\n",
       " 'N490',\n",
       " 'N491',\n",
       " 'N492',\n",
       " 'N493',\n",
       " 'N494',\n",
       " 'N495',\n",
       " 'N500',\n",
       " 'N501',\n",
       " 'N502',\n",
       " 'N503',\n",
       " 'N504',\n",
       " 'N505',\n",
       " 'N506',\n",
       " 'N507',\n",
       " 'N508',\n",
       " 'N509',\n",
       " 'N510',\n",
       " 'N511',\n",
       " 'N719',\n",
       " 'N732',\n",
       " 'N733',\n",
       " 'N734',\n",
       " 'N735',\n",
       " 'N736',\n",
       " 'N738',\n",
       " 'N739',\n",
       " 'N740',\n",
       " 'N741',\n",
       " 'N742',\n",
       " 'N743',\n",
       " 'N744',\n",
       " 'N745',\n",
       " 'N746',\n",
       " 'N747',\n",
       " 'N748',\n",
       " 'N749',\n",
       " 'N750',\n",
       " 'N751',\n",
       " 'N756',\n",
       " 'N757',\n",
       " 'N758',\n",
       " 'N759',\n",
       " 'N760',\n",
       " 'N761',\n",
       " 'N762',\n",
       " 'N763',\n",
       " 'N764',\n",
       " 'N765',\n",
       " 'N766',\n",
       " 'N767',\n",
       " 'N975',\n",
       " 'N988',\n",
       " 'N989',\n",
       " 'N990',\n",
       " 'N991',\n",
       " 'N992',\n",
       " 'N994',\n",
       " 'N995',\n",
       " 'N996',\n",
       " 'N997',\n",
       " 'N998',\n",
       " 'N999',\n",
       " 'N1000',\n",
       " 'N1001',\n",
       " 'N1002',\n",
       " 'N1003',\n",
       " 'N1004',\n",
       " 'N1005',\n",
       " 'N1006',\n",
       " 'N1007',\n",
       " 'N1012',\n",
       " 'N1013',\n",
       " 'N1014',\n",
       " 'N1015',\n",
       " 'N1016',\n",
       " 'N1017',\n",
       " 'N1018',\n",
       " 'N1019',\n",
       " 'N1020',\n",
       " 'N1021',\n",
       " 'N1022',\n",
       " 'N1023',\n",
       " 'N1052',\n",
       " 'N1053',\n",
       " 'N1054',\n",
       " 'N1055',\n",
       " 'N1116',\n",
       " 'N1117',\n",
       " 'N1118',\n",
       " 'N1119',\n",
       " 'N1180',\n",
       " 'N1181',\n",
       " 'N1182',\n",
       " 'N1183',\n",
       " 'N1231',\n",
       " 'N1244',\n",
       " 'N1245',\n",
       " 'N1246',\n",
       " 'N1247',\n",
       " 'N1248',\n",
       " 'N1249',\n",
       " 'N1250',\n",
       " 'N1251',\n",
       " 'N1252',\n",
       " 'N1253',\n",
       " 'N1254',\n",
       " 'N1255',\n",
       " 'N1256',\n",
       " 'N1257',\n",
       " 'N1258',\n",
       " 'N1259',\n",
       " 'N1260',\n",
       " 'N1261',\n",
       " 'N1262',\n",
       " 'N1263',\n",
       " 'N1266',\n",
       " 'N1268',\n",
       " 'N1269',\n",
       " 'N1270',\n",
       " 'N1271',\n",
       " 'N1272',\n",
       " 'N1273',\n",
       " 'N1274',\n",
       " 'N1275',\n",
       " 'N1276',\n",
       " 'N1277',\n",
       " 'N1278',\n",
       " 'N1279',\n",
       " 'N1308',\n",
       " 'N1309',\n",
       " 'N1310',\n",
       " 'N1311',\n",
       " 'N1372',\n",
       " 'N1373',\n",
       " 'N1374',\n",
       " 'N1375',\n",
       " 'N1436',\n",
       " 'N1437',\n",
       " 'N1438',\n",
       " 'N1439',\n",
       " 'N1487',\n",
       " 'N1500',\n",
       " 'N1501',\n",
       " 'N1502',\n",
       " 'N1503',\n",
       " 'N1504',\n",
       " 'N1506',\n",
       " 'N1507',\n",
       " 'N1508',\n",
       " 'N1509',\n",
       " 'N1510',\n",
       " 'N1511',\n",
       " 'N1512',\n",
       " 'N1513',\n",
       " 'N1514',\n",
       " 'N1515',\n",
       " 'N1516',\n",
       " 'N1517',\n",
       " 'N1518',\n",
       " 'N1519',\n",
       " 'N1524',\n",
       " 'N1525',\n",
       " 'N1526',\n",
       " 'N1527',\n",
       " 'N1528',\n",
       " 'N1529',\n",
       " 'N1530',\n",
       " 'N1531',\n",
       " 'N1532',\n",
       " 'N1533',\n",
       " 'N1534',\n",
       " 'N1535',\n",
       " 'N1743',\n",
       " 'N1756',\n",
       " 'N1757',\n",
       " 'N1758',\n",
       " 'N1759',\n",
       " 'N1760',\n",
       " 'N1762',\n",
       " 'N1763',\n",
       " 'N1764',\n",
       " 'N1765',\n",
       " 'N1766',\n",
       " 'N1767',\n",
       " 'N1768',\n",
       " 'N1769',\n",
       " 'N1770',\n",
       " 'N1771',\n",
       " 'N1772',\n",
       " 'N1773',\n",
       " 'N1774',\n",
       " 'N1775',\n",
       " 'N1780',\n",
       " 'N1781',\n",
       " 'N1782',\n",
       " 'N1783',\n",
       " 'N1784',\n",
       " 'N1785',\n",
       " 'N1786',\n",
       " 'N1787',\n",
       " 'N1788',\n",
       " 'N1789',\n",
       " 'N1790',\n",
       " 'N1791',\n",
       " 'N1999',\n",
       " 'N2012',\n",
       " 'N2013',\n",
       " 'N2014',\n",
       " 'N2015',\n",
       " 'N2016',\n",
       " 'N2018',\n",
       " 'N2019',\n",
       " 'N2020',\n",
       " 'N2021',\n",
       " 'N2022',\n",
       " 'N2023',\n",
       " 'N2024',\n",
       " 'N2025',\n",
       " 'N2026',\n",
       " 'N2027',\n",
       " 'N2028',\n",
       " 'N2029',\n",
       " 'N2030',\n",
       " 'N2031',\n",
       " 'N2036',\n",
       " 'N2037',\n",
       " 'N2038',\n",
       " 'N2039',\n",
       " 'N2040',\n",
       " 'N2041',\n",
       " 'N2042',\n",
       " 'N2043',\n",
       " 'N2044',\n",
       " 'N2045',\n",
       " 'N2046',\n",
       " 'N2047',\n",
       " 'N2076',\n",
       " 'N2077',\n",
       " 'N2078',\n",
       " 'N2079',\n",
       " 'N2140',\n",
       " 'N2141',\n",
       " 'N2142',\n",
       " 'N2143',\n",
       " 'N2204',\n",
       " 'N2205',\n",
       " 'N2206',\n",
       " 'N2207',\n",
       " 'N2255',\n",
       " 'N2268',\n",
       " 'N2269',\n",
       " 'N2270',\n",
       " 'N2271',\n",
       " 'N2272',\n",
       " 'N2273',\n",
       " 'N2274',\n",
       " 'N2275',\n",
       " 'N2276',\n",
       " 'N2277',\n",
       " 'N2278',\n",
       " 'N2279',\n",
       " 'N2280',\n",
       " 'N2281',\n",
       " 'N2282',\n",
       " 'N2283',\n",
       " 'N2284',\n",
       " 'N2285',\n",
       " 'N2286',\n",
       " 'N2287',\n",
       " 'N2290',\n",
       " 'N2292',\n",
       " 'N2293',\n",
       " 'N2294',\n",
       " 'N2295',\n",
       " 'N2296',\n",
       " 'N2297',\n",
       " 'N2298',\n",
       " 'N2299',\n",
       " 'N2300',\n",
       " 'N2301',\n",
       " 'N2302',\n",
       " 'N2303',\n",
       " 'N2332',\n",
       " 'N2333',\n",
       " 'N2334',\n",
       " 'N2335',\n",
       " 'N2396',\n",
       " 'N2397',\n",
       " 'N2398',\n",
       " 'N2399',\n",
       " 'N2460',\n",
       " 'N2461',\n",
       " 'N2462',\n",
       " 'N2463',\n",
       " 'N2511',\n",
       " 'N2524',\n",
       " 'N2525',\n",
       " 'N2526',\n",
       " 'N2527',\n",
       " 'N2528',\n",
       " 'N2530',\n",
       " 'N2531',\n",
       " 'N2532',\n",
       " 'N2533',\n",
       " 'N2534',\n",
       " 'N2535',\n",
       " 'N2536',\n",
       " 'N2537',\n",
       " 'N2538',\n",
       " 'N2539',\n",
       " 'N2540',\n",
       " 'N2541',\n",
       " 'N2542',\n",
       " 'N2543',\n",
       " 'N2548',\n",
       " 'N2549',\n",
       " 'N2550',\n",
       " 'N2551',\n",
       " 'N2552',\n",
       " 'N2553',\n",
       " 'N2554',\n",
       " 'N2555',\n",
       " 'N2556',\n",
       " 'N2557',\n",
       " 'N2558',\n",
       " 'N2559',\n",
       " 'N2767',\n",
       " 'N2780',\n",
       " 'N2781',\n",
       " 'N2782',\n",
       " 'N2783',\n",
       " 'N2784',\n",
       " 'N2786',\n",
       " 'N2787',\n",
       " 'N2788',\n",
       " 'N2789',\n",
       " 'N2790',\n",
       " 'N2791',\n",
       " 'N2792',\n",
       " 'N2793',\n",
       " 'N2794',\n",
       " 'N2795',\n",
       " 'N2796',\n",
       " 'N2797',\n",
       " 'N2798',\n",
       " 'N2799',\n",
       " 'N2804',\n",
       " 'N2805',\n",
       " 'N2806',\n",
       " 'N2807',\n",
       " 'N2808',\n",
       " 'N2809',\n",
       " 'N2810',\n",
       " 'N2811',\n",
       " 'N2812',\n",
       " 'N2813',\n",
       " 'N2814',\n",
       " 'N2815',\n",
       " 'N3023',\n",
       " 'N3036',\n",
       " 'N3037',\n",
       " 'N3038',\n",
       " 'N3039',\n",
       " 'N3040',\n",
       " 'N3042',\n",
       " 'N3043',\n",
       " 'N3044',\n",
       " 'N3045',\n",
       " 'N3046',\n",
       " 'N3047',\n",
       " 'N3048',\n",
       " 'N3049',\n",
       " 'N3050',\n",
       " 'N3051',\n",
       " 'N3052',\n",
       " 'N3053',\n",
       " 'N3054',\n",
       " 'N3055',\n",
       " 'N3060',\n",
       " 'N3061',\n",
       " 'N3062',\n",
       " 'N3063',\n",
       " 'N3064',\n",
       " 'N3065',\n",
       " 'N3066',\n",
       " 'N3067',\n",
       " 'N3068',\n",
       " 'N3069',\n",
       " 'N3070',\n",
       " 'N3071',\n",
       " 'N3100',\n",
       " 'N3101',\n",
       " 'N3102',\n",
       " 'N3103',\n",
       " 'N3164',\n",
       " 'N3165',\n",
       " 'N3166',\n",
       " 'N3167',\n",
       " 'N3228',\n",
       " 'N3229',\n",
       " 'N3230',\n",
       " 'N3231',\n",
       " 'N3279',\n",
       " 'N3292',\n",
       " 'N3293',\n",
       " 'N3294',\n",
       " 'N3295',\n",
       " 'N3296',\n",
       " 'N3297',\n",
       " 'N3298',\n",
       " 'N3299',\n",
       " 'N3300',\n",
       " 'N3301',\n",
       " 'N3302',\n",
       " 'N3303',\n",
       " 'N3304',\n",
       " 'N3305',\n",
       " 'N3306',\n",
       " 'N3307',\n",
       " 'N3308',\n",
       " 'N3309',\n",
       " 'N3310',\n",
       " 'N3311',\n",
       " 'N3314',\n",
       " 'N3316',\n",
       " 'N3317',\n",
       " 'N3318',\n",
       " 'N3319',\n",
       " 'N3320',\n",
       " 'N3321',\n",
       " 'N3322',\n",
       " 'N3323',\n",
       " 'N3324',\n",
       " 'N3325',\n",
       " 'N3326',\n",
       " 'N3327',\n",
       " 'N3356',\n",
       " 'N3357',\n",
       " 'N3358',\n",
       " 'N3359',\n",
       " 'N3420',\n",
       " 'N3421',\n",
       " 'N3422',\n",
       " 'N3423',\n",
       " 'N3484',\n",
       " 'N3485',\n",
       " 'N3486',\n",
       " 'N3487',\n",
       " 'N3535',\n",
       " 'N3548',\n",
       " 'N3549',\n",
       " 'N3550',\n",
       " 'N3551',\n",
       " 'N3552',\n",
       " 'N3554',\n",
       " 'N3555',\n",
       " 'N3556',\n",
       " 'N3557',\n",
       " 'N3558',\n",
       " 'N3559',\n",
       " 'N3560',\n",
       " 'N3561',\n",
       " 'N3562',\n",
       " 'N3563',\n",
       " 'N3564',\n",
       " 'N3565',\n",
       " 'N3566',\n",
       " 'N3567',\n",
       " 'N3572',\n",
       " 'N3573',\n",
       " 'N3574',\n",
       " 'N3575',\n",
       " 'N3576',\n",
       " 'N3577',\n",
       " 'N3578',\n",
       " 'N3579',\n",
       " 'N3580',\n",
       " 'N3581',\n",
       " 'N3582',\n",
       " 'N3583',\n",
       " 'N3791',\n",
       " 'N3804',\n",
       " 'N3805',\n",
       " 'N3806',\n",
       " 'N3807',\n",
       " 'N3808',\n",
       " 'N3810',\n",
       " 'N3811',\n",
       " 'N3812',\n",
       " 'N3813',\n",
       " 'N3814',\n",
       " 'N3815',\n",
       " 'N3816',\n",
       " 'N3817',\n",
       " 'N3818',\n",
       " 'N3819',\n",
       " 'N3820',\n",
       " 'N3821',\n",
       " 'N3822',\n",
       " 'N3823',\n",
       " 'N3828',\n",
       " 'N3829',\n",
       " 'N3830',\n",
       " 'N3831',\n",
       " 'N3832',\n",
       " 'N3833',\n",
       " 'N3834',\n",
       " 'N3835',\n",
       " 'N3836',\n",
       " 'N3837',\n",
       " 'N3838',\n",
       " 'N3839',\n",
       " 'N4047',\n",
       " 'N4060',\n",
       " 'N4061',\n",
       " 'N4062',\n",
       " 'N4063',\n",
       " 'N4064',\n",
       " 'N4066',\n",
       " 'N4067',\n",
       " 'N4068',\n",
       " 'N4069',\n",
       " 'N4070',\n",
       " 'N4071',\n",
       " 'N4072',\n",
       " 'N4073',\n",
       " 'N4074',\n",
       " 'N4075',\n",
       " 'N4076',\n",
       " 'N4077',\n",
       " 'N4078',\n",
       " 'N4079',\n",
       " 'N4084',\n",
       " 'N4085',\n",
       " 'N4086',\n",
       " 'N4087',\n",
       " 'N4088',\n",
       " 'N4089',\n",
       " 'N4090',\n",
       " 'N4091',\n",
       " 'N4092',\n",
       " 'N4093',\n",
       " 'N4094',\n",
       " 'N4095',\n",
       " 'N4124',\n",
       " 'N4125',\n",
       " 'N4126',\n",
       " 'N4127',\n",
       " 'N4188',\n",
       " 'N4189',\n",
       " 'N4190',\n",
       " 'N4191',\n",
       " 'N4252',\n",
       " 'N4253',\n",
       " 'N4254',\n",
       " 'N4255',\n",
       " 'N4303',\n",
       " 'N4316',\n",
       " 'N4317',\n",
       " 'N4318',\n",
       " 'N4319',\n",
       " 'N4320',\n",
       " 'N4322',\n",
       " 'N4323',\n",
       " 'N4324',\n",
       " 'N4325',\n",
       " 'N4326',\n",
       " 'N4327',\n",
       " 'N4328',\n",
       " 'N4329',\n",
       " 'N4330',\n",
       " 'N4331',\n",
       " 'N4332',\n",
       " 'N4333',\n",
       " 'N4334',\n",
       " 'N4335',\n",
       " 'N4340',\n",
       " 'N4341',\n",
       " 'N4342',\n",
       " 'N4343',\n",
       " 'N4344',\n",
       " 'N4345',\n",
       " 'N4346',\n",
       " 'N4347',\n",
       " 'N4348',\n",
       " 'N4349',\n",
       " 'N4350',\n",
       " 'N4351',\n",
       " 'N4380',\n",
       " 'N4381',\n",
       " 'N4382',\n",
       " 'N4383',\n",
       " 'N4444',\n",
       " 'N4445',\n",
       " 'N4446',\n",
       " 'N4447',\n",
       " 'N4508',\n",
       " 'N4509',\n",
       " 'N4510',\n",
       " 'N4511',\n",
       " 'N4559',\n",
       " 'N4572',\n",
       " 'N4573',\n",
       " 'N4574',\n",
       " 'N4575',\n",
       " 'N4576',\n",
       " 'N4578',\n",
       " 'N4579',\n",
       " 'N4580',\n",
       " 'N4581',\n",
       " 'N4582',\n",
       " 'N4583',\n",
       " 'N4584',\n",
       " 'N4585',\n",
       " 'N4586',\n",
       " 'N4587',\n",
       " 'N4588',\n",
       " 'N4589',\n",
       " 'N4590',\n",
       " 'N4591',\n",
       " 'N4596',\n",
       " 'N4597',\n",
       " 'N4598',\n",
       " 'N4599',\n",
       " 'N4600',\n",
       " 'N4601',\n",
       " 'N4602',\n",
       " 'N4603',\n",
       " 'N4604',\n",
       " 'N4605',\n",
       " 'N4606',\n",
       " 'N4607',\n",
       " 'N4815',\n",
       " 'N4828',\n",
       " 'N4829',\n",
       " 'N4830',\n",
       " 'N4831',\n",
       " 'N4832',\n",
       " 'N4834',\n",
       " 'N4835',\n",
       " 'N4836',\n",
       " 'N4837',\n",
       " 'N4838',\n",
       " 'N4839',\n",
       " 'N4840',\n",
       " 'N4841',\n",
       " 'N4842',\n",
       " 'N4843',\n",
       " 'N4844',\n",
       " 'N4845',\n",
       " 'N4846',\n",
       " 'N4847',\n",
       " 'N4856',\n",
       " 'N4857',\n",
       " 'N4858',\n",
       " 'N4859',\n",
       " 'N4860',\n",
       " 'N4861',\n",
       " 'N4862',\n",
       " 'N4863',\n",
       " 'N5071',\n",
       " 'N5084',\n",
       " 'N5085',\n",
       " 'N5086',\n",
       " 'N5087',\n",
       " 'N5088',\n",
       " 'N5090',\n",
       " 'N5092',\n",
       " 'N5093',\n",
       " 'N5094',\n",
       " 'N5095',\n",
       " 'N5096',\n",
       " 'N5097',\n",
       " 'N5098',\n",
       " 'N5099',\n",
       " 'N5100',\n",
       " 'N5101',\n",
       " 'N5102',\n",
       " 'N5103',\n",
       " 'N5112',\n",
       " 'N5113',\n",
       " 'N5114',\n",
       " 'N5115',\n",
       " 'N5116',\n",
       " 'N5117',\n",
       " 'N5118',\n",
       " 'N5119',\n",
       " 'N5148',\n",
       " 'N5149',\n",
       " 'N5150',\n",
       " 'N5151',\n",
       " 'N5212',\n",
       " 'N5213',\n",
       " 'N5214',\n",
       " 'N5215',\n",
       " 'N5276',\n",
       " 'N5277',\n",
       " 'N5278',\n",
       " 'N5279',\n",
       " 'N5327',\n",
       " 'N5340',\n",
       " 'N5341',\n",
       " 'N5342',\n",
       " 'N5343',\n",
       " 'N5344',\n",
       " 'N5346',\n",
       " 'N5347',\n",
       " 'N5348',\n",
       " 'N5349',\n",
       " 'N5350',\n",
       " 'N5351',\n",
       " 'N5352',\n",
       " 'N5353',\n",
       " 'N5354',\n",
       " 'N5355',\n",
       " 'N5356',\n",
       " 'N5357',\n",
       " 'N5358',\n",
       " 'N5359',\n",
       " 'N5364',\n",
       " 'N5365',\n",
       " 'N5366',\n",
       " 'N5367',\n",
       " 'N5368',\n",
       " 'N5369',\n",
       " 'N5370',\n",
       " 'N5371',\n",
       " 'N5372',\n",
       " 'N5373',\n",
       " 'N5374',\n",
       " 'N5375',\n",
       " 'N5404',\n",
       " 'N5405',\n",
       " 'N5406',\n",
       " 'N5407',\n",
       " 'N5468',\n",
       " 'N5469',\n",
       " 'N5470',\n",
       " 'N5471',\n",
       " 'N5532',\n",
       " 'N5533',\n",
       " 'N5534',\n",
       " 'N5535',\n",
       " 'N5583',\n",
       " 'N5596',\n",
       " 'N5597',\n",
       " 'N5598',\n",
       " 'N5599',\n",
       " 'N5600',\n",
       " 'N5602',\n",
       " 'N5603',\n",
       " 'N5604',\n",
       " 'N5605',\n",
       " 'N5606',\n",
       " 'N5607',\n",
       " 'N5608',\n",
       " 'N5609',\n",
       " 'N5610',\n",
       " 'N5611',\n",
       " 'N5612',\n",
       " 'N5613',\n",
       " 'N5614',\n",
       " 'N5615',\n",
       " 'N5620',\n",
       " 'N5621',\n",
       " 'N5622',\n",
       " 'N5623',\n",
       " 'N5624',\n",
       " 'N5625',\n",
       " 'N5626',\n",
       " 'N5627',\n",
       " 'N5628',\n",
       " 'N5629',\n",
       " 'N5630',\n",
       " 'N5631',\n",
       " 'N5839',\n",
       " 'N5852',\n",
       " 'N5853',\n",
       " 'N5854',\n",
       " 'N5855',\n",
       " 'N5856',\n",
       " 'N5858',\n",
       " 'N5859',\n",
       " 'N5860',\n",
       " 'N5861',\n",
       " 'N5862',\n",
       " 'N5863',\n",
       " 'N5864',\n",
       " 'N5865',\n",
       " 'N5866',\n",
       " 'N5867',\n",
       " 'N5868',\n",
       " 'N5869',\n",
       " 'N5870',\n",
       " 'N5871',\n",
       " 'N5876',\n",
       " 'N5877',\n",
       " 'N5878',\n",
       " 'N5879',\n",
       " 'N5880',\n",
       " 'N5881',\n",
       " 'N5882',\n",
       " 'N5883',\n",
       " 'N5884',\n",
       " 'N5885',\n",
       " 'N5886',\n",
       " 'N5887',\n",
       " 'N6095',\n",
       " 'N6108',\n",
       " 'N6109',\n",
       " 'N6110',\n",
       " 'N6111',\n",
       " 'N6112',\n",
       " 'N6114',\n",
       " 'N6116',\n",
       " 'N6117',\n",
       " 'N6118',\n",
       " 'N6119',\n",
       " 'N6120',\n",
       " 'N6121',\n",
       " 'N6122',\n",
       " 'N6123',\n",
       " 'N6124',\n",
       " 'N6125',\n",
       " 'N6126',\n",
       " 'N6127',\n",
       " 'N6132',\n",
       " 'N6133',\n",
       " 'N6134',\n",
       " 'N6135',\n",
       " 'N6136',\n",
       " 'N6137',\n",
       " 'N6138',\n",
       " 'N6139',\n",
       " 'N6140',\n",
       " 'N6141',\n",
       " 'N6142',\n",
       " 'N6143',\n",
       " 'N6172',\n",
       " 'N6173',\n",
       " 'N6174',\n",
       " 'N6175',\n",
       " 'N6236',\n",
       " 'N6237',\n",
       " 'N6238',\n",
       " 'N6239',\n",
       " 'N6300',\n",
       " 'N6301',\n",
       " 'N6302',\n",
       " 'N6303',\n",
       " 'N6351',\n",
       " 'N6364',\n",
       " 'N6365',\n",
       " 'N6366',\n",
       " 'N6367',\n",
       " 'N6368',\n",
       " 'N6370',\n",
       " 'N6371',\n",
       " 'N6372',\n",
       " 'N6373',\n",
       " 'N6374',\n",
       " 'N6375',\n",
       " 'N6376',\n",
       " 'N6377',\n",
       " 'N6378',\n",
       " 'N6379',\n",
       " 'N6380',\n",
       " 'N6381',\n",
       " 'N6382',\n",
       " 'N6383',\n",
       " 'N6388',\n",
       " 'N6389',\n",
       " 'N6390',\n",
       " 'N6391',\n",
       " 'N6392',\n",
       " 'N6393',\n",
       " 'N6394',\n",
       " 'N6395',\n",
       " 'N6396',\n",
       " 'N6397',\n",
       " 'N6398',\n",
       " 'N6399',\n",
       " 'N6428',\n",
       " 'N6429',\n",
       " 'N6430',\n",
       " 'N6431',\n",
       " 'N6492',\n",
       " 'N6493',\n",
       " 'N6494',\n",
       " 'N6495',\n",
       " 'N6556',\n",
       " 'N6557',\n",
       " 'N6558',\n",
       " 'N6559',\n",
       " 'N6607',\n",
       " 'N6620',\n",
       " 'N6621',\n",
       " 'N6622',\n",
       " 'N6623',\n",
       " 'N6624',\n",
       " 'N6626',\n",
       " 'N6627',\n",
       " 'N6628',\n",
       " 'N6629',\n",
       " 'N6630',\n",
       " 'N6631',\n",
       " 'N6632',\n",
       " 'N6633',\n",
       " 'N6634',\n",
       " 'N6635',\n",
       " 'N6636',\n",
       " 'N6637',\n",
       " 'N6638',\n",
       " 'N6639',\n",
       " 'N6644',\n",
       " 'N6645',\n",
       " 'N6646',\n",
       " 'N6647',\n",
       " 'N6648',\n",
       " 'N6649',\n",
       " 'N6650',\n",
       " 'N6651',\n",
       " 'N6652',\n",
       " 'N6653',\n",
       " 'N6654',\n",
       " 'N6655',\n",
       " 'N6863',\n",
       " 'N6876',\n",
       " ...]"
      ]
     },
     "execution_count": 48,
     "metadata": {},
     "output_type": "execute_result"
    }
   ],
   "source": [
    "flat_list"
   ]
  },
  {
   "cell_type": "markdown",
   "metadata": {},
   "source": [
    "**With Alternator**"
   ]
  },
  {
   "cell_type": "code",
   "execution_count": 38,
   "metadata": {},
   "outputs": [
    {
     "data": {
      "text/plain": [
       "46"
      ]
     },
     "execution_count": 38,
     "metadata": {},
     "output_type": "execute_result"
    }
   ],
   "source": [
    "len([s for s in sets if ('N0' not in s) and (\"N13107\" not in s)])"
   ]
  },
  {
   "cell_type": "code",
   "execution_count": 41,
   "metadata": {},
   "outputs": [],
   "source": [
    "flat_list = [item for sublist in [s for s in sets if ('N0' not in s) and (\"N13107\" not in s)] for item in sublist]\n",
    "\n",
    "counter = Counter(flat_list)"
   ]
  },
  {
   "cell_type": "code",
   "execution_count": 42,
   "metadata": {},
   "outputs": [
    {
     "data": {
      "text/plain": [
       "34"
      ]
     },
     "execution_count": 42,
     "metadata": {},
     "output_type": "execute_result"
    }
   ],
   "source": [
    "max(counter.values())"
   ]
  },
  {
   "cell_type": "code",
   "execution_count": 30,
   "metadata": {},
   "outputs": [],
   "source": [
    "remaining = [s for s in sets if ('N0' not in s) and ('N8897' not in s)]"
   ]
  },
  {
   "cell_type": "code",
   "execution_count": 31,
   "metadata": {},
   "outputs": [
    {
     "data": {
      "text/plain": [
       "12"
      ]
     },
     "execution_count": 31,
     "metadata": {},
     "output_type": "execute_result"
    }
   ],
   "source": [
    "len(remaining)"
   ]
  },
  {
   "cell_type": "code",
   "execution_count": 32,
   "metadata": {},
   "outputs": [],
   "source": [
    "flat_list = [item for sublist in remaining for item in sublist]\n",
    "\n",
    "counter = Counter(flat_list)"
   ]
  },
  {
   "cell_type": "code",
   "execution_count": 33,
   "metadata": {},
   "outputs": [
    {
     "data": {
      "text/plain": [
       "12"
      ]
     },
     "execution_count": 33,
     "metadata": {},
     "output_type": "execute_result"
    }
   ],
   "source": [
    "max(counter.values())"
   ]
  },
  {
   "cell_type": "code",
   "execution_count": 131,
   "metadata": {},
   "outputs": [
    {
     "data": {
      "text/plain": [
       "['N252',\n",
       " 'N253',\n",
       " 'N254',\n",
       " 'N255',\n",
       " 'N508',\n",
       " 'N509',\n",
       " 'N510',\n",
       " 'N511',\n",
       " 'N1276',\n",
       " 'N1277',\n",
       " 'N1278',\n",
       " 'N1279',\n",
       " 'N1532',\n",
       " 'N1533',\n",
       " 'N1534',\n",
       " 'N1535',\n",
       " 'N2300',\n",
       " 'N2301',\n",
       " 'N2302',\n",
       " 'N2303',\n",
       " 'N2556',\n",
       " 'N2557',\n",
       " 'N2558',\n",
       " 'N2559',\n",
       " 'N3324',\n",
       " 'N3325',\n",
       " 'N3326',\n",
       " 'N3327',\n",
       " 'N3580',\n",
       " 'N3581',\n",
       " 'N3582',\n",
       " 'N3583',\n",
       " 'N4348',\n",
       " 'N4349',\n",
       " 'N4350',\n",
       " 'N4351',\n",
       " 'N4604',\n",
       " 'N4605',\n",
       " 'N4606',\n",
       " 'N4607',\n",
       " 'N5372',\n",
       " 'N5373',\n",
       " 'N5374',\n",
       " 'N5375',\n",
       " 'N5628',\n",
       " 'N5629',\n",
       " 'N5630',\n",
       " 'N5631',\n",
       " 'N6396',\n",
       " 'N6397',\n",
       " 'N6398',\n",
       " 'N6399',\n",
       " 'N6652',\n",
       " 'N6653',\n",
       " 'N6654',\n",
       " 'N6655',\n",
       " 'N7420',\n",
       " 'N7421',\n",
       " 'N7422',\n",
       " 'N7423',\n",
       " 'N7676',\n",
       " 'N7677',\n",
       " 'N7678',\n",
       " 'N7679',\n",
       " 'N16636',\n",
       " 'N16637',\n",
       " 'N16638',\n",
       " 'N16639',\n",
       " 'N16892',\n",
       " 'N16893',\n",
       " 'N16894',\n",
       " 'N16895',\n",
       " 'N17660',\n",
       " 'N17661',\n",
       " 'N17662',\n",
       " 'N17663',\n",
       " 'N17916',\n",
       " 'N17917',\n",
       " 'N17918',\n",
       " 'N17919',\n",
       " 'N18172',\n",
       " 'N18173',\n",
       " 'N18174',\n",
       " 'N18175',\n",
       " 'N18428',\n",
       " 'N18429',\n",
       " 'N18430',\n",
       " 'N18431',\n",
       " 'N18684',\n",
       " 'N18685',\n",
       " 'N18686',\n",
       " 'N18687',\n",
       " 'N18940',\n",
       " 'N18941',\n",
       " 'N18942',\n",
       " 'N18943',\n",
       " 'N19708',\n",
       " 'N19709',\n",
       " 'N19710',\n",
       " 'N19711',\n",
       " 'N19964',\n",
       " 'N19965',\n",
       " 'N19966',\n",
       " 'N19967',\n",
       " 'N20220',\n",
       " 'N20221',\n",
       " 'N20222',\n",
       " 'N20223',\n",
       " 'N20476',\n",
       " 'N20477',\n",
       " 'N20478',\n",
       " 'N20479',\n",
       " 'N20732',\n",
       " 'N20733',\n",
       " 'N20734',\n",
       " 'N20735',\n",
       " 'N20988',\n",
       " 'N20989',\n",
       " 'N20990',\n",
       " 'N20991',\n",
       " 'N21756',\n",
       " 'N21757',\n",
       " 'N21758',\n",
       " 'N21759',\n",
       " 'N22012',\n",
       " 'N22013',\n",
       " 'N22014',\n",
       " 'N22015',\n",
       " 'N22268',\n",
       " 'N22269',\n",
       " 'N22270',\n",
       " 'N22271',\n",
       " 'N22524',\n",
       " 'N22525',\n",
       " 'N22526',\n",
       " 'N22527',\n",
       " 'N22780',\n",
       " 'N22781',\n",
       " 'N22782',\n",
       " 'N22783',\n",
       " 'N23036',\n",
       " 'N23037',\n",
       " 'N23038',\n",
       " 'N23039',\n",
       " 'N23804',\n",
       " 'N23805',\n",
       " 'N23806',\n",
       " 'N23807',\n",
       " 'N24060',\n",
       " 'N24061',\n",
       " 'N24062',\n",
       " 'N24063',\n",
       " 'N24316',\n",
       " 'N24317',\n",
       " 'N24318',\n",
       " 'N24319',\n",
       " 'N24572',\n",
       " 'N24573',\n",
       " 'N24574',\n",
       " 'N24575']"
      ]
     },
     "execution_count": 131,
     "metadata": {},
     "output_type": "execute_result"
    }
   ],
   "source": [
    "[key for key, values in zip(counter.keys(), counter.values()) if values == 12]"
   ]
  },
  {
   "cell_type": "code",
   "execution_count": 103,
   "metadata": {},
   "outputs": [
    {
     "data": {
      "text/plain": [
       "(0, 0, 0, 0, 0, 0, 0, 0, 1, 1, 1, 1, 1, 1, 1, 1)"
      ]
     },
     "execution_count": 103,
     "metadata": {},
     "output_type": "execute_result"
    }
   ],
   "source": [
    "deterministic_strategies[255]"
   ]
  },
  {
   "cell_type": "code",
   "execution_count": 104,
   "metadata": {},
   "outputs": [
    {
     "data": {
      "text/plain": [
       "(0, 1, 0, 1, 1, 1, 1, 1, 1, 1, 1, 1, 1, 1, 1, 1)"
      ]
     },
     "execution_count": 104,
     "metadata": {},
     "output_type": "execute_result"
    }
   ],
   "source": [
    "deterministic_strategies[24575]"
   ]
  },
  {
   "cell_type": "code",
   "execution_count": 47,
   "metadata": {},
   "outputs": [
    {
     "ename": "AssertionError",
     "evalue": "",
     "output_type": "error",
     "traceback": [
      "\u001b[0;31m---------------------------------------------------------------------------\u001b[0m",
      "\u001b[0;31mAssertionError\u001b[0m                            Traceback (most recent call last)",
      "\u001b[0;32m<ipython-input-47-784faf717ee2>\u001b[0m in \u001b[0;36m<module>\u001b[0;34m\u001b[0m\n\u001b[1;32m      6\u001b[0m     \u001b[0mB\u001b[0m \u001b[0;34m=\u001b[0m \u001b[0mnp\u001b[0m\u001b[0;34m.\u001b[0m\u001b[0misclose\u001b[0m\u001b[0;34m(\u001b[0m\u001b[0mN0\u001b[0m\u001b[0;34m(\u001b[0m\u001b[0mp\u001b[0m\u001b[0;34m)\u001b[0m\u001b[0;34m,\u001b[0m \u001b[0;36m0\u001b[0m\u001b[0;34m,\u001b[0m \u001b[0matol\u001b[0m\u001b[0;34m=\u001b[0m\u001b[0;36m10\u001b[0m \u001b[0;34m**\u001b[0m \u001b[0;34m-\u001b[0m\u001b[0;36m4\u001b[0m\u001b[0;34m)\u001b[0m \u001b[0;32mor\u001b[0m  \u001b[0mN0\u001b[0m\u001b[0;34m(\u001b[0m\u001b[0mp\u001b[0m\u001b[0;34m)\u001b[0m \u001b[0;34m<\u001b[0m \u001b[0;36m0\u001b[0m\u001b[0;34m\u001b[0m\u001b[0;34m\u001b[0m\u001b[0m\n\u001b[1;32m      7\u001b[0m \u001b[0;34m\u001b[0m\u001b[0m\n\u001b[0;32m----> 8\u001b[0;31m     \u001b[0;32massert\u001b[0m \u001b[0mA\u001b[0m \u001b[0;32mand\u001b[0m \u001b[0mB\u001b[0m\u001b[0;34m\u001b[0m\u001b[0;34m\u001b[0m\u001b[0m\n\u001b[0m",
      "\u001b[0;31mAssertionError\u001b[0m: "
     ]
    }
   ],
   "source": [
    "for i, row in eq[['p1', 'p2', 'p5', 'p6']].drop_duplicates().iterrows():\n",
    "    \n",
    "    p = row[['p1', 'p2', 'p5', 'p6']]\n",
    "    \n",
    "    A = np.isclose(N13107(p), 0, atol=10 ** -4) or  N13107(p) < 0\n",
    "    B = np.isclose(N0(p), 0, atol=10 ** -4) or  N0(p) < 0    \n",
    "    \n",
    "    assert A and B"
   ]
  },
  {
   "cell_type": "code",
   "execution_count": 40,
   "metadata": {},
   "outputs": [],
   "source": [
    "deterministic_strategies = list(\n",
    "    itertools.product([0, 1], repeat=2 ** (2 * 2))\n",
    "    )"
   ]
  },
  {
   "cell_type": "code",
   "execution_count": 41,
   "metadata": {},
   "outputs": [],
   "source": [
    "p_1, p_2, p_3, p_4 = sym.symbols(\"p_1, p_2, p_3, p_4\")\n",
    "\n",
    "R, S, T, P = sym.symbols(\"R, S, T, P\")\n",
    "\n",
    "p_1 = 1\n",
    "\n",
    "player = [p_1, p_2, p_1, p_2, p_3, p_4, p_3, p_4,\n",
    "          p_1, p_2, p_1, p_2, p_3, p_4, p_3, p_4]"
   ]
  },
  {
   "cell_type": "code",
   "execution_count": 42,
   "metadata": {},
   "outputs": [],
   "source": [
    "M = calculate_M_memory_two(deterministic_strategies[13107], player, analytical=True)\n",
    "\n",
    "ss = invariant_distribution_analytically(M) "
   ]
  },
  {
   "cell_type": "code",
   "execution_count": 43,
   "metadata": {},
   "outputs": [
    {
     "data": {
      "text/latex": [
       "$\\displaystyle - \\frac{P p_{3} - P - R p_{2} + 2 R - p_{3}}{2}$"
      ],
      "text/plain": [
       "-(P*p_3 - P - R*p_2 + 2*R - p_3)/2"
      ]
     },
     "execution_count": 43,
     "metadata": {},
     "output_type": "execute_result"
    }
   ],
   "source": [
    "exprN13107 = ((ss @ np.array([R, 0, 1, P] * 4))[0] - R).factor()\n",
    "exprN13107"
   ]
  },
  {
   "cell_type": "markdown",
   "metadata": {},
   "source": [
    "Cooperates if in the last round the outcome was `CD` except in the case where the second to last outcome was `CD`.\n",
    "Then cooperate if cooperated in the last turn."
   ]
  },
  {
   "cell_type": "code",
   "execution_count": 44,
   "metadata": {},
   "outputs": [
    {
     "data": {
      "text/plain": [
       "(0, 0, 1, 0, 0, 0, 1, 0, 1, 1, 0, 0, 0, 0, 1, 0)"
      ]
     },
     "execution_count": 44,
     "metadata": {},
     "output_type": "execute_result"
    }
   ],
   "source": [
    "deterministic_strategies[8898]"
   ]
  },
  {
   "cell_type": "code",
   "execution_count": 45,
   "metadata": {},
   "outputs": [],
   "source": [
    "M = calculate_M_memory_two(deterministic_strategies[8898], player, analytical=True)\n",
    "\n",
    "ss = invariant_distribution_analytically(M) "
   ]
  },
  {
   "cell_type": "code",
   "execution_count": 46,
   "metadata": {},
   "outputs": [
    {
     "data": {
      "text/latex": [
       "$\\displaystyle \\left[\\begin{array}{cccccccccccccccc}\\frac{p_{2} p_{3}}{3} & - \\frac{p_{2} \\left(p_{3} - 1\\right)}{3} & \\frac{p_{3}}{3} & 0 & - \\frac{p_{3} \\left(p_{2} - 1\\right)}{3} & \\frac{\\left(p_{2} - 1\\right) \\left(p_{3} - 1\\right)}{3} & - \\frac{p_{3} - 1}{3} & 0 & \\frac{p_{2}}{3} & - \\frac{p_{2} - 1}{3} & 0 & 0 & 0 & 0 & 0 & 0\\end{array}\\right]$"
      ],
      "text/plain": [
       "Matrix([[p_2*p_3/3, -p_2*(p_3 - 1)/3, p_3/3, 0, -p_3*(p_2 - 1)/3, (p_2 - 1)*(p_3 - 1)/3, -(p_3 - 1)/3, 0, p_2/3, -(p_2 - 1)/3, 0, 0, 0, 0, 0, 0]])"
      ]
     },
     "execution_count": 46,
     "metadata": {},
     "output_type": "execute_result"
    }
   ],
   "source": [
    "sym.Matrix([s.factor() for s in ss]).T"
   ]
  },
  {
   "cell_type": "code",
   "execution_count": 53,
   "metadata": {},
   "outputs": [
    {
     "data": {
      "text/latex": [
       "$\\displaystyle \\frac{R p_{2} + R p_{3} - 3 R + 1}{3}$"
      ],
      "text/plain": [
       "(R*p_2 + R*p_3 - 3*R + 1)/3"
      ]
     },
     "execution_count": 53,
     "metadata": {},
     "output_type": "execute_result"
    }
   ],
   "source": [
    "exprN8897 = ((ss @ np.array([R, 0, 1, P] * 4))[0] - R).factor()\n",
    "exprN8897"
   ]
  },
  {
   "cell_type": "code",
   "execution_count": 52,
   "metadata": {},
   "outputs": [
    {
     "data": {
      "text/latex": [
       "$\\displaystyle \\frac{R p_{2} + R p_{3} + 1}{3}$"
      ],
      "text/plain": [
       "(R*p_2 + R*p_3 + 1)/3"
      ]
     },
     "execution_count": 52,
     "metadata": {},
     "output_type": "execute_result"
    }
   ],
   "source": [
    "exprN8897.factor()"
   ]
  },
  {
   "cell_type": "markdown",
   "metadata": {},
   "source": [
    "N255 cooperates if it defected on the second to last round."
   ]
  },
  {
   "cell_type": "code",
   "execution_count": 54,
   "metadata": {},
   "outputs": [
    {
     "data": {
      "text/plain": [
       "(0, 0, 0, 0, 0, 0, 0, 0, 1, 1, 1, 1, 1, 1, 1, 1)"
      ]
     },
     "execution_count": 54,
     "metadata": {},
     "output_type": "execute_result"
    }
   ],
   "source": [
    "deterministic_strategies[255]"
   ]
  },
  {
   "cell_type": "code",
   "execution_count": 55,
   "metadata": {},
   "outputs": [],
   "source": [
    "M = calculate_M_memory_two(deterministic_strategies[255], player, analytical=True)\n",
    "\n",
    "ss = invariant_distribution_analytically(M) "
   ]
  },
  {
   "cell_type": "code",
   "execution_count": 56,
   "metadata": {},
   "outputs": [
    {
     "data": {
      "text/latex": [
       "$\\displaystyle \\left[\\begin{array}{cccccccccccccccc}\\frac{p_{3} p_{4}}{4} & - \\frac{p_{4} \\left(p_{3} - 1\\right)}{4} & \\frac{p_{3}}{4} & 0 & - \\frac{p_{3} \\left(p_{4} - 1\\right)}{4} & \\frac{\\left(p_{3} - 1\\right) \\left(p_{4} - 1\\right)}{4} & - \\frac{p_{3} - 1}{4} & 0 & \\frac{p_{2} p_{4}}{4} & - \\frac{p_{2} \\left(p_{4} - 1\\right)}{4} & \\frac{p_{2}}{4} & - \\frac{p_{2} - 1}{4} & - \\frac{p_{4} \\left(p_{2} - 1\\right)}{4} & \\frac{\\left(p_{2} - 1\\right) \\left(p_{4} - 1\\right)}{4} & 0 & 0\\end{array}\\right]$"
      ],
      "text/plain": [
       "Matrix([[p_3*p_4/4, -p_4*(p_3 - 1)/4, p_3/4, 0, -p_3*(p_4 - 1)/4, (p_3 - 1)*(p_4 - 1)/4, -(p_3 - 1)/4, 0, p_2*p_4/4, -p_2*(p_4 - 1)/4, p_2/4, -(p_2 - 1)/4, -p_4*(p_2 - 1)/4, (p_2 - 1)*(p_4 - 1)/4, 0, 0]])"
      ]
     },
     "execution_count": 56,
     "metadata": {},
     "output_type": "execute_result"
    }
   ],
   "source": [
    "sym.Matrix([s.factor() for s in ss]).T"
   ]
  },
  {
   "cell_type": "code",
   "execution_count": 61,
   "metadata": {},
   "outputs": [
    {
     "data": {
      "text/latex": [
       "$\\displaystyle - \\frac{P p_{2} - P - R p_{3} - R p_{4} + 4 R - p_{2} - 1}{4}$"
      ],
      "text/plain": [
       "-(P*p_2 - P - R*p_3 - R*p_4 + 4*R - p_2 - 1)/4"
      ]
     },
     "execution_count": 61,
     "metadata": {},
     "output_type": "execute_result"
    }
   ],
   "source": [
    "exprN252 = ((ss @ np.array([R, 0, 1, P] * 4))[0] - R).factor()\n",
    "exprN252.factor()"
   ]
  },
  {
   "cell_type": "code",
   "execution_count": 62,
   "metadata": {},
   "outputs": [],
   "source": [
    "M = calculate_M_memory_two(deterministic_strategies[0], player, analytical=True)\n",
    "\n",
    "ss = invariant_distribution_analytically(M) "
   ]
  },
  {
   "cell_type": "code",
   "execution_count": 63,
   "metadata": {},
   "outputs": [
    {
     "data": {
      "text/latex": [
       "$\\displaystyle \\left[\\begin{array}{cccccccccccccccc}0 & 0 & 0 & 0 & 0 & 0 & 0 & 0 & 0 & 0 & p_{4}^{2} & - p_{4} \\left(p_{4} - 1\\right) & 0 & 0 & - p_{4} \\left(p_{4} - 1\\right) & \\left(p_{4} - 1\\right)^{2}\\end{array}\\right]$"
      ],
      "text/plain": [
       "Matrix([[0, 0, 0, 0, 0, 0, 0, 0, 0, 0, p_4**2, -p_4*(p_4 - 1), 0, 0, -p_4*(p_4 - 1), (p_4 - 1)**2]])"
      ]
     },
     "execution_count": 63,
     "metadata": {},
     "output_type": "execute_result"
    }
   ],
   "source": [
    "sym.Matrix([s.factor() for s in ss]).T"
   ]
  },
  {
   "cell_type": "code",
   "execution_count": 64,
   "metadata": {},
   "outputs": [
    {
     "data": {
      "text/latex": [
       "$\\displaystyle - P p_{4} + P + p_{4}$"
      ],
      "text/plain": [
       "-P*p_4 + P + p_4"
      ]
     },
     "execution_count": 64,
     "metadata": {},
     "output_type": "execute_result"
    }
   ],
   "source": [
    "exprN0 = ((ss @ np.array([R, 0, 1, P] * 4))[0]).factor()\n",
    "exprN0.factor()"
   ]
  },
  {
   "cell_type": "code",
   "execution_count": 76,
   "metadata": {},
   "outputs": [
    {
     "data": {
      "text/plain": [
       "[(P*p_2 - P + R*(4 - p_4) - p_2 - 1)/R]"
      ]
     },
     "execution_count": 76,
     "metadata": {},
     "output_type": "execute_result"
    }
   ],
   "source": [
    "sym.solve(exprN252, p_3)"
   ]
  },
  {
   "cell_type": "code",
   "execution_count": 93,
   "metadata": {},
   "outputs": [
    {
     "data": {
      "text/latex": [
       "$\\displaystyle - P \\left(p_{2} - 1\\right) + R \\left(p_{3} + p_{4}\\right) - 4 R + p_{2} + 1$"
      ],
      "text/plain": [
       "-P*(p_2 - 1) + R*(p_3 + p_4) - 4*R + p_2 + 1"
      ]
     },
     "execution_count": 93,
     "metadata": {},
     "output_type": "execute_result"
    }
   ],
   "source": [
    "expr = - ( - R * (p_3 + p_4) + P * (p_2 - 1) + 4 * R - p_2 - 1)\n",
    "expr"
   ]
  },
  {
   "cell_type": "code",
   "execution_count": 97,
   "metadata": {},
   "outputs": [
    {
     "data": {
      "text/plain": [
       "[-p_2 + 3 - 1/R]"
      ]
     },
     "execution_count": 97,
     "metadata": {},
     "output_type": "execute_result"
    }
   ],
   "source": [
    "sym.solve(exprN8897, p_3)"
   ]
  },
  {
   "cell_type": "code",
   "execution_count": 95,
   "metadata": {},
   "outputs": [
    {
     "data": {
      "text/latex": [
       "$\\displaystyle 0$"
      ],
      "text/plain": [
       "0"
      ]
     },
     "execution_count": 95,
     "metadata": {},
     "output_type": "execute_result"
    }
   ],
   "source": [
    "(sym.fraction(exprN252)[0] - expr).factor()"
   ]
  },
  {
   "cell_type": "code",
   "execution_count": 68,
   "metadata": {},
   "outputs": [
    {
     "data": {
      "text/latex": [
       "$\\displaystyle P \\left(1 - p_{4}\\right) + p_{4}$"
      ],
      "text/plain": [
       "P*(1 - p_4) + p_4"
      ]
     },
     "execution_count": 68,
     "metadata": {},
     "output_type": "execute_result"
    }
   ],
   "source": [
    "P * (- p_4 + 1) + p_4"
   ]
  },
  {
   "cell_type": "markdown",
   "metadata": {},
   "source": [
    "Thus, N0 and N13107 are enough to check for Nash."
   ]
  },
  {
   "cell_type": "code",
   "execution_count": 72,
   "metadata": {},
   "outputs": [
    {
     "data": {
      "text/latex": [
       "$\\displaystyle 0.9 p_{4} - 0.5$"
      ],
      "text/plain": [
       "0.9*p_4 - 0.5"
      ]
     },
     "execution_count": 72,
     "metadata": {},
     "output_type": "execute_result"
    }
   ],
   "source": [
    "exprN0.subs({R:0.6, P:0.1})"
   ]
  },
  {
   "cell_type": "code",
   "execution_count": 73,
   "metadata": {},
   "outputs": [
    {
     "data": {
      "text/latex": [
       "$\\displaystyle 0.225 p_{2} + 0.15 p_{3} + 0.15 p_{4} - 0.325$"
      ],
      "text/plain": [
       "0.225*p_2 + 0.15*p_3 + 0.15*p_4 - 0.325"
      ]
     },
     "execution_count": 73,
     "metadata": {},
     "output_type": "execute_result"
    }
   ],
   "source": [
    "exprN252.subs({R:0.6, P:0.1})"
   ]
  },
  {
   "cell_type": "code",
   "execution_count": 74,
   "metadata": {},
   "outputs": [
    {
     "data": {
      "text/latex": [
       "$\\displaystyle 0.2 p_{2} + 0.2 p_{3} - 0.266666666666667$"
      ],
      "text/plain": [
       "0.2*p_2 + 0.2*p_3 - 0.266666666666667"
      ]
     },
     "execution_count": 74,
     "metadata": {},
     "output_type": "execute_result"
    }
   ],
   "source": [
    "exprN8897.subs({R:0.6, P:0.1})"
   ]
  },
  {
   "cell_type": "code",
   "execution_count": 76,
   "metadata": {},
   "outputs": [
    {
     "data": {
      "text/latex": [
       "$\\displaystyle 0.3 p_{2} + 0.45 p_{3} - 0.55$"
      ],
      "text/plain": [
       "0.3*p_2 + 0.45*p_3 - 0.55"
      ]
     },
     "execution_count": 76,
     "metadata": {},
     "output_type": "execute_result"
    }
   ],
   "source": [
    "exprN13107.subs({R:0.6, P:0.1})"
   ]
  },
  {
   "cell_type": "code",
   "execution_count": 77,
   "metadata": {},
   "outputs": [],
   "source": [
    "def N0(p):\n",
    "    return .9 * p[3] - .5\n",
    "\n",
    "def N255(p):\n",
    "    return .225 * p[1] + .15 * p[2] + .15 * p[3] - 0.325\n",
    "\n",
    "def N8897(p):\n",
    "    return .2 * p[1] + .2 * p[2] -  0.266666666666667"
   ]
  },
  {
   "cell_type": "code",
   "execution_count": 78,
   "metadata": {},
   "outputs": [],
   "source": [
    "x = np.arange(0, 1 - 10 ** -5, 0.05)\n",
    "y = np.arange(0, 1 - 10 ** -5, 0.05)\n",
    "z = np.arange(0, 1 - 10 ** -5, 0.05)\n",
    "\n",
    "xv, yv, zv = np.meshgrid(x, y, z)"
   ]
  },
  {
   "cell_type": "code",
   "execution_count": 79,
   "metadata": {},
   "outputs": [],
   "source": [
    "Is0, Js0, Zs0 = np.where(np.isclose(N0((1, xv, yv, zv)), 0, atol=10 ** - 2))\n",
    "\n",
    "Is255, Js255, Zs255 = np.where(np.isclose(N255((1, xv, yv, zv)), 0, atol=10 ** - 2))\n",
    "\n",
    "Is8897, Js8897, Zs8897 = np.where(np.isclose(N8897((1, xv, yv, zv)), 0, atol=10 ** - 2))"
   ]
  },
  {
   "cell_type": "markdown",
   "metadata": {},
   "source": [
    "### Results on Good Nash - Two bit reactive"
   ]
  },
  {
   "cell_type": "code",
   "execution_count": 98,
   "metadata": {},
   "outputs": [],
   "source": [
    "x = np.arange(0, 1, 0.01)\n",
    "y = np.arange(0, 1, 0.01)\n",
    "\n",
    "xx, yy = np.meshgrid(x, y)"
   ]
  },
  {
   "cell_type": "code",
   "execution_count": 99,
   "metadata": {},
   "outputs": [],
   "source": [
    "z = - (.225 * xx + .15 * yy - 0.325) /.15 \n",
    "\n",
    "z2 = - (.2 * yy -  0.266666666666667) / .2\n",
    "\n",
    "z3 = 0 * xx + 0 * yy + .5 / .9"
   ]
  },
  {
   "cell_type": "code",
   "execution_count": 106,
   "metadata": {},
   "outputs": [],
   "source": [
    "custom_lines = [\n",
    "                Line2D([0], [0], marker='o', color='w', markerfacecolor=\"#0072B2\", markersize=10, alpha=.55),\n",
    "                Line2D([0], [0], marker='o', color='w', markerfacecolor='tab:green', markersize=10, alpha=.55),\n",
    "                Line2D([0], [0], marker='o', color='w', markerfacecolor='tab:orange', markersize=10, alpha=.55),\n",
    "                Line2D([0], [0], marker='o', color='w', markerfacecolor='tab:purple', markersize=10, alpha=.55)]"
   ]
  },
  {
   "cell_type": "code",
   "execution_count": 101,
   "metadata": {},
   "outputs": [],
   "source": [
    "color = '#FDF6E3'"
   ]
  },
  {
   "cell_type": "code",
   "execution_count": 102,
   "metadata": {},
   "outputs": [],
   "source": [
    "colors = ['tab:orange', 'tab:green', 'tab:purple']"
   ]
  },
  {
   "cell_type": "code",
   "execution_count": 103,
   "metadata": {},
   "outputs": [],
   "source": [
    "z[z>1]= np.nan\n",
    "z[z<0]= np.nan\n",
    "\n",
    "z2[z2>1]= np.nan\n",
    "z2[z2<0]= np.nan"
   ]
  },
  {
   "cell_type": "code",
   "execution_count": 105,
   "metadata": {},
   "outputs": [],
   "source": [
    "eq = pd.read_csv('data/equilibria_for_prisoners_dilemma.csv')"
   ]
  },
  {
   "cell_type": "code",
   "execution_count": 108,
   "metadata": {},
   "outputs": [
    {
     "data": {
      "image/png": "[encoded data removed]",
      "text/plain": [
       "<Figure size 1440x1440 with 1 Axes>"
      ]
     },
     "metadata": {
      "needs_background": "light"
     },
     "output_type": "display_data"
    }
   ],
   "source": [
    "fig = plt.figure(figsize=(20, 20))\n",
    "\n",
    "ax1 = fig.add_subplot(131, projection='3d')\n",
    "\n",
    "axes = [ax1]\n",
    "    \n",
    "    \n",
    "ax1.plot_surface(xx, yy, z, alpha=0.5, color=\"tab:purple\")\n",
    "ax1.plot_surface(z2, yy, xx, alpha=0.5, color=\"tab:orange\")\n",
    "ax1.plot_surface(xx, yy, z3, alpha=0.5, color=\"tab:green\")\n",
    "\n",
    "\n",
    "for i, row in eq[['p2', 'p5', 'p6']].iterrows():\n",
    "\n",
    "        ax1.scatter(row['p2'], row['p5'], row['p6'], color='tab:blue', alpha=0.5, s=3)\n",
    "        \n",
    "for ax in axes:\n",
    "    ax.view_init(10, -70)\n",
    "    \n",
    "    ax.set_xlim(0, 1);\n",
    "    ax.set_ylim(0, 1);\n",
    "    ax.set_zlim(0, 1);\n",
    "    \n",
    "    ax.set_xticks([0, .5, 1])\n",
    "    ax.set_yticks([0, .5, 1])\n",
    "    ax.set_zticks([0, .5, 1])\n",
    "\n",
    "    ax.set_xticklabels([0, \"\", 1])\n",
    "    ax.set_yticklabels([0, \"\", 1])\n",
    "    ax.set_zticklabels([0, \"\", 1])\n",
    "\n",
    "\n",
    "    ax.annotate(\"$p_2$\", (-0.05, -0.08), fontsize=15)\n",
    "    ax.annotate(\"$p_3$\", (.065, -0.06), fontsize=15)\n",
    "    ax.annotate(\"$p_4$\", (.09, 0.003), fontsize=15)\n",
    "    \n",
    "    \n",
    "    ax.xaxis.pane.fill = False\n",
    "    ax.yaxis.pane.fill = False\n",
    "    ax.zaxis.pane.fill = False\n",
    "\n",
    "    \n",
    "ax1.legend(custom_lines, ['Numerical Nash',\n",
    "                          'AllD', 'Delayed Alternator', 'N8898'], bbox_to_anchor=(1.1, 0), ncol=4, framealpha=0, fontsize=12);\n",
    "\n",
    "\n",
    "plt.savefig(\"static/two_bit_reactive_numerical_results_prisoners_dilemma.pdf\", bbox_inches='tight')"
   ]
  },
  {
   "cell_type": "code",
   "execution_count": null,
   "metadata": {},
   "outputs": [],
   "source": []
  }
 ],
 "metadata": {
  "kernelspec": {
   "display_name": "Python 3",
   "language": "python",
   "name": "python3"
  },
  "language_info": {
   "codemirror_mode": {
    "name": "ipython",
    "version": 3
   },
   "file_extension": ".py",
   "mimetype": "text/x-python",
   "name": "python",
   "nbconvert_exporter": "python",
   "pygments_lexer": "ipython3",
   "version": "3.8.3"
  }
 },
 "nbformat": 4,
 "nbformat_minor": 4
}
