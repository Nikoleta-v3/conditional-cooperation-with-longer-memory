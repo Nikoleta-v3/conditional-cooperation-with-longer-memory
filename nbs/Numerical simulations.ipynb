{
 "cells": [
  {
   "cell_type": "code",
   "execution_count": 1,
   "metadata": {},
   "outputs": [],
   "source": [
    "import numpy as np\n",
    "\n",
    "import sympy as sym\n",
    "\n",
    "import itertools"
   ]
  },
  {
   "cell_type": "code",
   "execution_count": 48,
   "metadata": {},
   "outputs": [],
   "source": [
    "from importlib.machinery import SourceFileLoader\n",
    "\n",
    "main = SourceFileLoader(\"main\", \"../src/main.py\").load_module()\n",
    "\n",
    "from main import *"
   ]
  },
  {
   "cell_type": "code",
   "execution_count": 3,
   "metadata": {},
   "outputs": [],
   "source": [
    "import matplotlib.pyplot as plt\n",
    "\n",
    "import matplotlib\n",
    "\n",
    "from mpl_toolkits.axes_grid1 import make_axes_locatable"
   ]
  },
  {
   "cell_type": "code",
   "execution_count": 4,
   "metadata": {},
   "outputs": [],
   "source": [
    "import matplotlib.colors as colors"
   ]
  },
  {
   "cell_type": "code",
   "execution_count": 5,
   "metadata": {},
   "outputs": [],
   "source": [
    "plt.rcParams[\"font.weight\"] = \"bold\"\n",
    "plt.rcParams[\"axes.labelweight\"] = \"bold\""
   ]
  },
  {
   "cell_type": "markdown",
   "metadata": {},
   "source": [
    "## The case of two bits strategies"
   ]
  },
  {
   "cell_type": "markdown",
   "metadata": {},
   "source": [
    "To test the formulation we compare the following payoffs."
   ]
  },
  {
   "cell_type": "code",
   "execution_count": null,
   "metadata": {},
   "outputs": [],
   "source": [
    "c = np.random.randint(0, 1)\n",
    "b = np.random.randint(1, 3)\n",
    "\n",
    "for _ in range(1000):\n",
    "\n",
    "    p1, p2, q1, q2 = np.random.random(4)\n",
    "\n",
    "    one_bit_M = transition_matrix_one_bit(p=[p1, p2], q=[q1, q2])\n",
    "\n",
    "    two_bit_M = transition_matrix(p=[p1, p2, p1, p2], q=[q1, q2, q1, q2], bits=4)\n",
    "\n",
    "    ss_one_bit = invariant_distribution(one_bit_M)\n",
    "    ss_two_bit = invariant_distribution(two_bit_M)\n",
    "\n",
    "    assert np.isclose(\n",
    "        ss_one_bit @ np.array([b - c, -c, b, 0]), ss_two_bit @ payoffs_vector(c, b)\n",
    "    )"
   ]
  },
  {
   "cell_type": "markdown",
   "metadata": {},
   "source": [
    "**Cooperation**"
   ]
  },
  {
   "cell_type": "code",
   "execution_count": null,
   "metadata": {},
   "outputs": [],
   "source": [
    "c = np.random.randint(0, 1)\n",
    "b = np.random.randint(1, 3)\n",
    "\n",
    "for _ in range(1000):\n",
    "\n",
    "    p1, p2, q1, q2 = np.random.random(4)\n",
    "\n",
    "    one_bit_M = transition_matrix_one_bit(p=[p1, p2], q=[q1, q2])\n",
    "\n",
    "    two_bit_M = transition_matrix(p=[p1, p2, p1, p2], q=[q1, q2, q1, q2], bits=4)\n",
    "\n",
    "    ss_one_bit = invariant_distribution(one_bit_M)\n",
    "    ss_two_bit = invariant_distribution(two_bit_M)\n",
    "\n",
    "    assert np.isclose(\n",
    "        cooperation_rate(ss_one_bit, size=4), cooperation_rate(ss_two_bit, size=16)\n",
    "    )"
   ]
  },
  {
   "cell_type": "markdown",
   "metadata": {},
   "source": [
    "## The case of two bits strategies"
   ]
  },
  {
   "cell_type": "code",
   "execution_count": null,
   "metadata": {},
   "outputs": [],
   "source": [
    "c = np.random.randint(0, 1)\n",
    "b = np.random.randint(1, 3)\n",
    "\n",
    "for _ in range(1000):\n",
    "\n",
    "    p1, p2, p3, p4, q1, q2, q3, q4 = np.random.random(8)\n",
    "\n",
    "    two_bit_M = transition_matrix(p=[p1, p2, p3, p4], q=[q1, q2, q3, q4], bits=4)\n",
    "\n",
    "    three_bit_M = transition_matrix(\n",
    "        p=[p1, p2, p3, p4, p1, p2, p3, p4], q=[q1, q2, q3, q4, q1, q2, q3, q4], bits=8\n",
    "    )\n",
    "\n",
    "    ss_two_bit = invariant_distribution(two_bit_M)\n",
    "    ss_three_bit = invariant_distribution(three_bit_M)\n",
    "\n",
    "    assert np.isclose(\n",
    "        ss_two_bit @ payoffs_vector(c, b), ss_three_bit @ payoffs_vector(c, b, dim=16)\n",
    "    )"
   ]
  },
  {
   "cell_type": "code",
   "execution_count": null,
   "metadata": {},
   "outputs": [],
   "source": [
    "c = np.random.randint(0, 1)\n",
    "b = np.random.randint(1, 3)\n",
    "\n",
    "for _ in range(1000):\n",
    "\n",
    "    p1, p2, q1, q2 = np.random.random(4)\n",
    "\n",
    "    two_bit_M = transition_matrix(p=[p1, p2, p3, p4], q=[q1, q2, q3, q4], bits=4)\n",
    "\n",
    "    three_bit_M = transition_matrix(\n",
    "        p=[p1, p2, p3, p4, p1, p2, p3, p4], q=[q1, q2, q3, q4, q1, q2, q3, q4], bits=8\n",
    "    )\n",
    "\n",
    "    ss_two_bit = invariant_distribution(two_bit_M)\n",
    "    ss_three_bit = invariant_distribution(three_bit_M)\n",
    "\n",
    "    assert np.isclose(\n",
    "        cooperation_rate(ss_two_bit, size=16), cooperation_rate(ss_three_bit, size=64)\n",
    "    )"
   ]
  },
  {
   "cell_type": "markdown",
   "metadata": {},
   "source": [
    "## The case of four bits strategies"
   ]
  },
  {
   "cell_type": "code",
   "execution_count": null,
   "metadata": {},
   "outputs": [],
   "source": [
    "c = np.random.randint(0, 1)\n",
    "b = np.random.randint(1, 3)\n",
    "\n",
    "for _ in range(100):\n",
    "    p1, p2, p3, p4, p5, p6, p7, p8, q1, q2, q3, q4, q5, q6, q7, q8 = np.random.random(\n",
    "        16\n",
    "    )\n",
    "\n",
    "    m_four_bits = transition_matrix(\n",
    "        (p1, p2, p3, p4, p5, p6, p7, p8, p1, p2, p3, p4, p5, p6, p7, p8),\n",
    "        (q1, q2, q3, q4, q5, q6, q7, q8, q1, q2, q3, q4, q5, q6, q7, q8),\n",
    "        bits=16,\n",
    "    )\n",
    "\n",
    "    m_three_bits = transition_matrix(\n",
    "        (p1, p2, p3, p4, p5, p6, p7, p8), (q1, q2, q3, q4, q5, q6, q7, q8), bits=8\n",
    "    )\n",
    "\n",
    "    ss_four = invariant_distribution(m_four_bits)\n",
    "    ss_three = invariant_distribution(m_three_bits)\n",
    "\n",
    "    assert np.isclose(\n",
    "        ss_four @ payoffs_vector(c, b, dim=64), ss_three @ payoffs_vector(c, b, dim=16)\n",
    "    )"
   ]
  },
  {
   "cell_type": "code",
   "execution_count": null,
   "metadata": {},
   "outputs": [],
   "source": [
    "(16 ** 2) / 4"
   ]
  },
  {
   "cell_type": "code",
   "execution_count": null,
   "metadata": {},
   "outputs": [],
   "source": [
    "c = np.random.randint(0, 1)\n",
    "b = np.random.randint(1, 3)\n",
    "\n",
    "for _ in range(100):\n",
    "    p1, p2, p3, p4, p5, p6, p7, p8, q1, q2, q3, q4, q5, q6, q7, q8 = np.random.random(\n",
    "        16\n",
    "    )\n",
    "\n",
    "    m_four_bits = transition_matrix(\n",
    "        (p1, p2, p3, p4, p5, p6, p7, p8, p1, p2, p3, p4, p5, p6, p7, p8),\n",
    "        (q1, q2, q3, q4, q5, q6, q7, q8, q1, q2, q3, q4, q5, q6, q7, q8),\n",
    "        bits=16,\n",
    "    )\n",
    "\n",
    "    m_three_bits = transition_matrix(\n",
    "        (p1, p2, p3, p4, p5, p6, p7, p8), (q1, q2, q3, q4, q5, q6, q7, q8), bits=8\n",
    "    )\n",
    "\n",
    "    ss_four = invariant_distribution(m_four_bits)\n",
    "    ss_three = invariant_distribution(m_three_bits)\n",
    "\n",
    "    assert np.isclose(\n",
    "        cooperation_rate(ss_three, size=64), cooperation_rate(ss_four, size=256)\n",
    "    )"
   ]
  },
  {
   "cell_type": "code",
   "execution_count": null,
   "metadata": {},
   "outputs": [],
   "source": []
  },
  {
   "cell_type": "markdown",
   "metadata": {},
   "source": [
    "**Checks for matlab code**"
   ]
  },
  {
   "cell_type": "markdown",
   "metadata": {},
   "source": [
    "**The two bits case**"
   ]
  },
  {
   "cell_type": "code",
   "execution_count": null,
   "metadata": {},
   "outputs": [],
   "source": [
    "np.random.seed(100)\n",
    "p1, p2 = np.random.random(4), np.random.random(4)"
   ]
  },
  {
   "cell_type": "code",
   "execution_count": null,
   "metadata": {},
   "outputs": [],
   "source": [
    "p1, p2"
   ]
  },
  {
   "cell_type": "code",
   "execution_count": null,
   "metadata": {},
   "outputs": [],
   "source": [
    "M = transition_matrix(p1, p2, bits=4)\n",
    "\n",
    "ss = invariant_distribution(M)"
   ]
  },
  {
   "cell_type": "code",
   "execution_count": null,
   "metadata": {},
   "outputs": [],
   "source": [
    "ss"
   ]
  },
  {
   "cell_type": "code",
   "execution_count": null,
   "metadata": {},
   "outputs": [],
   "source": [
    "c = 0.1"
   ]
  },
  {
   "cell_type": "code",
   "execution_count": null,
   "metadata": {},
   "outputs": [],
   "source": [
    "b = 1"
   ]
  },
  {
   "cell_type": "code",
   "execution_count": null,
   "metadata": {},
   "outputs": [],
   "source": [
    "ss @ payoffs_vector(c, b)"
   ]
  },
  {
   "cell_type": "code",
   "execution_count": null,
   "metadata": {},
   "outputs": [],
   "source": [
    "cooperation_rate(ss, size=4 ** 2)"
   ]
  },
  {
   "cell_type": "markdown",
   "metadata": {},
   "source": [
    "**The three bits case**"
   ]
  },
  {
   "cell_type": "code",
   "execution_count": null,
   "metadata": {},
   "outputs": [],
   "source": [
    "np.random.seed(200)\n",
    "sdim = 8\n",
    "\n",
    "p1, p2 = np.random.random(sdim), np.random.random(sdim)"
   ]
  },
  {
   "cell_type": "code",
   "execution_count": null,
   "metadata": {},
   "outputs": [],
   "source": [
    "p1, p2"
   ]
  },
  {
   "cell_type": "code",
   "execution_count": null,
   "metadata": {},
   "outputs": [],
   "source": [
    "M = transition_matrix(p1, p2, bits=8)\n",
    "\n",
    "ss = invariant_distribution(M)"
   ]
  },
  {
   "cell_type": "code",
   "execution_count": null,
   "metadata": {},
   "outputs": [],
   "source": [
    "c, b = 0.1, 1"
   ]
  },
  {
   "cell_type": "code",
   "execution_count": null,
   "metadata": {},
   "outputs": [],
   "source": [
    "ss @ payoffs_vector(c, b, dim=16)"
   ]
  },
  {
   "cell_type": "code",
   "execution_count": null,
   "metadata": {},
   "outputs": [],
   "source": [
    "cooperation_rate(ss, sdim ** 2)"
   ]
  },
  {
   "cell_type": "markdown",
   "metadata": {},
   "source": [
    "**The four bits case**"
   ]
  },
  {
   "cell_type": "code",
   "execution_count": null,
   "metadata": {},
   "outputs": [],
   "source": [
    "np.random.seed(300)\n",
    "bits = 16\n",
    "\n",
    "p1, p2 = np.random.random(bits), np.random.random(bits)"
   ]
  },
  {
   "cell_type": "code",
   "execution_count": null,
   "metadata": {},
   "outputs": [],
   "source": [
    "p1, p2"
   ]
  },
  {
   "cell_type": "code",
   "execution_count": null,
   "metadata": {},
   "outputs": [],
   "source": [
    "M = transition_matrix(p1, p2, bits=bits)\n",
    "\n",
    "ss = invariant_distribution(M)"
   ]
  },
  {
   "cell_type": "code",
   "execution_count": null,
   "metadata": {},
   "outputs": [],
   "source": [
    "ss @ payoffs_vector(c, b, dim=64)"
   ]
  },
  {
   "cell_type": "code",
   "execution_count": null,
   "metadata": {},
   "outputs": [],
   "source": [
    "cooperation_rate(ss, bits ** 2)"
   ]
  },
  {
   "cell_type": "markdown",
   "metadata": {},
   "source": [
    "## Evolutionary simulations"
   ]
  },
  {
   "cell_type": "code",
   "execution_count": null,
   "metadata": {},
   "outputs": [],
   "source": [
    "import pandas as pd"
   ]
  },
  {
   "cell_type": "code",
   "execution_count": null,
   "metadata": {},
   "outputs": [],
   "source": [
    "cs = [0, 0.1, 0.2, 0.3, 0.4, 0.5, 0.6, 0.7, 0.8, 0.9, 1]"
   ]
  },
  {
   "cell_type": "code",
   "execution_count": null,
   "metadata": {},
   "outputs": [],
   "source": [
    "names1 = [f\"p_{i}\" for i in range(1, 3)] + [\"t\", \"cooperation\"]\n",
    "names2 = [f\"p_{i}\" for i in range(1, 5)] + [\"t\", \"cooperation\"]\n",
    "names3 = [f\"p_{i}\" for i in range(1, 9)] + [\"t\", \"cooperation\"]\n",
    "names4 = [f\"p_{i}\" for i in range(1, 17)] + [\"t\", \"cooperation\"]\n",
    "\n",
    "dfs1 = [\n",
    "    [pd.read_csv(f\"matlab_data/bits_2_beta_0.1_seed_1_c_{c}.csv\", names=names1) for c in cs],\n",
    "    [pd.read_csv(f\"matlab_data/bits_4_beta_0.1_seed_1_c_{c}.csv\", names=names2) for c in cs],\n",
    "    [pd.read_csv(f\"matlab_data/bits_8_beta_0.1_seed_1_c_{c}.csv\", names=names3) for c in cs],\n",
    "]\n",
    "\n",
    "dfs2 = [\n",
    "    [pd.read_csv(f\"matlab_data/bits_2_beta_1_seed_1_c_{c}.csv\", names=names1) for c in cs],\n",
    "    [pd.read_csv(f\"matlab_data/bits_4_beta_1_seed_1_c_{c}.csv\", names=names2) for c in cs],\n",
    "    [pd.read_csv(f\"matlab_data/bits_8_beta_1_seed_1_c_{c}.csv\", names=names3) for c in cs],\n",
    "]\n",
    "\n",
    "dfs3 = [\n",
    "    [pd.read_csv(f\"matlab_data/bits_2_beta_10_seed_1_c_{c}.csv\", names=names1) for c in cs],\n",
    "    [pd.read_csv(f\"matlab_data/bits_4_beta_10_seed_1_c_{c}.csv\", names=names2) for c in cs],\n",
    "    [pd.read_csv(f\"matlab_data/bits_8_beta_10_seed_1_c_{c}.csv\", names=names3) for c in cs],\n",
    "]"
   ]
  },
  {
   "cell_type": "code",
   "execution_count": null,
   "metadata": {},
   "outputs": [],
   "source": [
    "dfs1 = [[df.drop_duplicates() for df in dfs] for dfs in dfs1]\n",
    "dfs2 = [[df.drop_duplicates() for df in dfs] for dfs in dfs2]\n",
    "dfs3 = [[df.drop_duplicates() for df in dfs] for dfs in dfs3]"
   ]
  },
  {
   "cell_type": "code",
   "execution_count": null,
   "metadata": {},
   "outputs": [],
   "source": [
    "def frequencies(dfs, max_steps=10 ** 7):\n",
    "\n",
    "    for df in dfs:\n",
    "        frequencies = []\n",
    "        previous = 0\n",
    "        for value in df[\"t\"][1:]:\n",
    "            frequencies.append(value - previous)\n",
    "            previous = value\n",
    "        frequencies.append(max_steps - previous)\n",
    "\n",
    "        df[\"frequencies\"] = np.array(frequencies)\n",
    "        df[\"frequencies norm\"] = np.array(frequencies) / max_steps\n",
    "\n",
    "    return dfs"
   ]
  },
  {
   "cell_type": "code",
   "execution_count": null,
   "metadata": {},
   "outputs": [],
   "source": [
    "df_beta_pnt = [frequencies(dfs) for dfs in dfs1[:-1]] + [frequencies(dfs1[-1], (2 * 10 ** 7))]\n",
    "df_beta_one = [frequencies(dfs) for dfs in dfs2[:-1]] + [frequencies(dfs2[-1], (2 * 10 ** 7))]\n",
    "df_beta_ten = [frequencies(dfs) for dfs in dfs3[:-1]] + [frequencies(dfs3[-1], (2 * 10 ** 7))]"
   ]
  },
  {
   "cell_type": "code",
   "execution_count": null,
   "metadata": {},
   "outputs": [],
   "source": [
    "labels = [r\"$\\beta$=0.1\", r\"$\\beta$=1\", r\"$\\beta$=10\"]"
   ]
  },
  {
   "cell_type": "code",
   "execution_count": null,
   "metadata": {},
   "outputs": [],
   "source": [
    "df5 = [pd.read_csv(f\"matlab_data/bits_16_beta_0.1_seed_1_c_{c}.csv\", names=names4) for c in cs]\n",
    "df5 = [df.drop_duplicates() for df in df5]\n",
    "df5 = frequencies(df5, 10 ** 6)\n",
    "\n",
    "sxt_bits_points = [sum(df[\"frequencies norm\"] * df[\"cooperation\"]) for df in df5]"
   ]
  },
  {
   "cell_type": "code",
   "execution_count": null,
   "metadata": {},
   "outputs": [],
   "source": [
    "df5 = [pd.read_csv(f\"matlab_data/bits_16_beta_1_seed_1_c_{c}.csv\", names=names4) for c in cs]\n",
    "df5 = [df.drop_duplicates() for df in df5]\n",
    "df5 = frequencies(df5, 10 ** 6)\n",
    "\n",
    "sxt_bits_one_points = [sum(df[\"frequencies norm\"] * df[\"cooperation\"]) for df in df5]"
   ]
  },
  {
   "cell_type": "code",
   "execution_count": null,
   "metadata": {},
   "outputs": [],
   "source": [
    "fig, axes = plt.subplots(ncols=3, figsize=(10.5, 3))\n",
    "\n",
    "for i, gdfs in enumerate([df_beta_pnt, df_beta_one, df_beta_ten]):\n",
    "\n",
    "    points = [\n",
    "        [sum(df[\"frequencies norm\"] * df[\"cooperation\"]) for df in dfs] for dfs in gdfs\n",
    "    ]\n",
    "\n",
    "    axes[i].plot(np.linspace(0, 1, 11), points[0], \"-o\", label=\"1 bit\")\n",
    "    axes[i].plot(np.linspace(0, 1, 11), points[1], \"--o\", label=\"2 bit\")\n",
    "    axes[i].plot(np.linspace(0, 1, 11), points[2], \"--o\", label=\"3 bit\")\n",
    "\n",
    "    axes[i].set_ylim(0, 1.1)\n",
    "\n",
    "    axes[i].set_yticks(np.arange(0, 2))\n",
    "\n",
    "    axes[i].set_xlabel(\"c\")\n",
    "\n",
    "    axes[i].legend()\n",
    "    axes[i].set_title(labels[i])\n",
    "\n",
    "axes[0].set_ylabel(\"av. cooperation\");\n",
    "\n",
    "axes[0].plot(np.linspace(0, 1, 11), sxt_bits_points, \"--o\", label=\"4 bit\");\n",
    "axes[1].plot(np.linspace(0, 1, 11), sxt_bits_one_points, \"--o\", label=\"4 bit\");\n",
    "\n",
    "axes[0].legend();\n",
    "axes[1].legend();\n",
    "\n",
    "plt.savefig(\"static/average_cooperation_over_c_with_diff_selection_strength.pdf\", bbox_inches='tight')"
   ]
  },
  {
   "cell_type": "code",
   "execution_count": null,
   "metadata": {},
   "outputs": [],
   "source": [
    "fig, axes = plt.subplots(ncols=3, figsize=(10.5, 3))\n",
    "\n",
    "for i, gdfs in enumerate([df_beta_pnt, df_beta_one, df_beta_ten]):\n",
    "\n",
    "    points = [\n",
    "        [sum(df[\"frequencies norm\"] * df[\"cooperation\"]) for df in dfs] for dfs in gdfs\n",
    "    ]\n",
    "    \n",
    "    ys1 =  np.array(points[1]) - np.array(points[0])\n",
    "    \n",
    "    ys2 =  np.array(points[2]) - np.array(points[1])\n",
    "    \n",
    "    axes[i].scatter(cs, ys1);\n",
    "    \n",
    "    axes[i].scatter(cs, ys2);\n",
    "    \n",
    "#     axes[i].legend();\n",
    "    "
   ]
  },
  {
   "cell_type": "code",
   "execution_count": null,
   "metadata": {},
   "outputs": [],
   "source": [
    "dfs = [\n",
    "    pd.read_csv(f\"data/matlab_one_bit_beta_1_seed_{seed}_c_0.3.csv\", names=names2)\n",
    "    for seed in range(1, 11)\n",
    "]\n",
    "\n",
    "\n",
    "df2s = [\n",
    "    pd.read_csv(f\"data/matlab_two_bits_beta_1_seed_{seed}_c_0.3.csv\", names=names2)\n",
    "    for seed in range(1, 11)\n",
    "]"
   ]
  },
  {
   "cell_type": "code",
   "execution_count": null,
   "metadata": {},
   "outputs": [],
   "source": [
    "df3s = [\n",
    "    pd.read_csv(f\"data/matlab_three_bits_beta_1_seed_{seed}_c_0.3.csv\",\n",
    "                names=names3)\n",
    "    for seed in range(1, 11)\n",
    "]"
   ]
  },
  {
   "cell_type": "code",
   "execution_count": null,
   "metadata": {},
   "outputs": [],
   "source": [
    "dfs = [df.drop_duplicates() for df in dfs]\n",
    "\n",
    "df2s = [df.drop_duplicates() for df in df2s]\n",
    "\n",
    "df3s = [df.drop_duplicates() for df in df3s]"
   ]
  },
  {
   "cell_type": "code",
   "execution_count": null,
   "metadata": {},
   "outputs": [],
   "source": [
    "dfs = frequencies(dfs)\n",
    "\n",
    "df2s = frequencies(df2s)\n",
    "\n",
    "df3s = frequencies(df3s)"
   ]
  },
  {
   "cell_type": "code",
   "execution_count": null,
   "metadata": {},
   "outputs": [],
   "source": [
    "abundance = [\n",
    "    (\n",
    "        df.iloc[df[\"frequencies\"].idxmax()][\"p_1\"],\n",
    "        df.iloc[df[\"frequencies\"].idxmax()][\"p_2\"],\n",
    "    )\n",
    "    for df in dfs\n",
    "]"
   ]
  },
  {
   "cell_type": "code",
   "execution_count": null,
   "metadata": {},
   "outputs": [],
   "source": [
    "abundance2 = [\n",
    "    (\n",
    "        df.iloc[df[\"frequencies\"].idxmax()][\"p_1\"],\n",
    "        df.iloc[df[\"frequencies\"].idxmax()][\"p_2\"],\n",
    "        df.iloc[df[\"frequencies\"].idxmax()][\"p_3\"],\n",
    "        df.iloc[df[\"frequencies\"].idxmax()][\"p_4\"],\n",
    "    )\n",
    "    for df in df2s\n",
    "]"
   ]
  },
  {
   "cell_type": "code",
   "execution_count": null,
   "metadata": {},
   "outputs": [],
   "source": [
    "abundance3 = [\n",
    "    (\n",
    "        df.iloc[df[\"frequencies\"].idxmax()][\"p_1\"],\n",
    "        df.iloc[df[\"frequencies\"].idxmax()][\"p_2\"],\n",
    "        df.iloc[df[\"frequencies\"].idxmax()][\"p_3\"],\n",
    "        df.iloc[df[\"frequencies\"].idxmax()][\"p_4\"],\n",
    "        df.iloc[df[\"frequencies\"].idxmax()][\"p_5\"],\n",
    "        df.iloc[df[\"frequencies\"].idxmax()][\"p_6\"],\n",
    "        df.iloc[df[\"frequencies\"].idxmax()][\"p_7\"],\n",
    "        df.iloc[df[\"frequencies\"].idxmax()][\"p_8\"],\n",
    "    )\n",
    "    for df in df3s\n",
    "]"
   ]
  },
  {
   "cell_type": "markdown",
   "metadata": {},
   "source": [
    "**Sanity check cooperations**"
   ]
  },
  {
   "cell_type": "code",
   "execution_count": null,
   "metadata": {},
   "outputs": [],
   "source": [
    "fig, axes = plt.subplots(ncols=3, figsize=(10, 3.5))\n",
    "\n",
    "heights = [[b[i] for b in abundance] for i in range(2)]\n",
    "\n",
    "errors = [np.std(h) for h in heights]\n",
    "\n",
    "for i in range(2):\n",
    "    axes[0].bar(i + 1, np.mean(heights[i]), yerr=errors[i], color=\"C0\")\n",
    "\n",
    "axes[0].set_xticks([1, 2])\n",
    "axes[0].set_xticklabels([\"C\", \"D\"], rotation=45)\n",
    "axes[0].set_title(\"One bit\", fontweight=\"bold\")\n",
    "\n",
    "axes[0].set_ylabel(\"cooperation probability\")\n",
    "\n",
    "heights = [[b[i] for b in abundance2] for i in range(4)]\n",
    "errors = [np.std(h) for h in heights]\n",
    "\n",
    "for i in range(4):\n",
    "    axes[1].bar(i + 1, np.mean(heights[i]), yerr=errors[i], color=\"C1\")\n",
    "\n",
    "axes[1].set_xticks([1, 2, 3, 4])\n",
    "axes[1].set_xticklabels([\"CC\", \"CD\", \"DC\", \"DD\"], rotation=45)\n",
    "axes[1].set_title(\"Two bits\", fontweight=\"bold\")\n",
    "\n",
    "heights = [[b[i] for b in abundance3] for i in range(8)]\n",
    "errors = [np.std(h) for h in heights]\n",
    "\n",
    "for i in range(8):\n",
    "    axes[2].bar(i + 1, np.mean(heights[i]), yerr=errors[i], color=\"C2\")\n",
    "\n",
    "axes[2].set_xticks([1, 2, 3, 4, 5, 6, 7, 8])\n",
    "axes[2].set_xticklabels([\"CCC\", \"CCD\", \"CDC\", \"CDD\", \"DCC\", \"DCD\", \"DDC\", \"DDD\"], rotation=45)\n",
    "axes[2].set_title(\"Three bits\", fontweight=\"bold\");\n",
    "\n",
    "# axes[1].text(-0.9, -0.2, \"$b=1$ & $c=0.3$\", fontsize=12)"
   ]
  },
  {
   "cell_type": "markdown",
   "metadata": {},
   "source": [
    "### Equilibria"
   ]
  },
  {
   "cell_type": "code",
   "execution_count": 1,
   "metadata": {},
   "outputs": [],
   "source": [
    "import pandas as pd"
   ]
  },
  {
   "cell_type": "code",
   "execution_count": 2,
   "metadata": {},
   "outputs": [],
   "source": [
    "import matplotlib.pyplot as plt"
   ]
  },
  {
   "cell_type": "code",
   "execution_count": 3,
   "metadata": {},
   "outputs": [],
   "source": [
    "import tqdm"
   ]
  },
  {
   "cell_type": "code",
   "execution_count": 17,
   "metadata": {},
   "outputs": [],
   "source": [
    "import numpy as np"
   ]
  },
  {
   "cell_type": "code",
   "execution_count": 4,
   "metadata": {},
   "outputs": [],
   "source": [
    "columns = [\"ID\", 'p1', 'p2', 'p3', 'p4', 'q1', 'q2', 'q3', 'q4',\n",
    "           'label', 'Sp', 'Sq', \"condition A\", \"condition B\",'condition','c', 'b']"
   ]
  },
  {
   "cell_type": "code",
   "execution_count": 8,
   "metadata": {},
   "outputs": [],
   "source": [
    "df = pd.read_csv(\"../checks/dimensions_4_number_of_trials_3_decimals_10000000.csv\",\n",
    "                names=columns)"
   ]
  },
  {
   "cell_type": "code",
   "execution_count": 9,
   "metadata": {},
   "outputs": [
    {
     "data": {
      "text/html": [
       "<div>\n",
       "<style scoped>\n",
       "    .dataframe tbody tr th:only-of-type {\n",
       "        vertical-align: middle;\n",
       "    }\n",
       "\n",
       "    .dataframe tbody tr th {\n",
       "        vertical-align: top;\n",
       "    }\n",
       "\n",
       "    .dataframe thead th {\n",
       "        text-align: right;\n",
       "    }\n",
       "</style>\n",
       "<table border=\"1\" class=\"dataframe\">\n",
       "  <thead>\n",
       "    <tr style=\"text-align: right;\">\n",
       "      <th></th>\n",
       "      <th>ID</th>\n",
       "      <th>p1</th>\n",
       "      <th>p2</th>\n",
       "      <th>p3</th>\n",
       "      <th>p4</th>\n",
       "      <th>q1</th>\n",
       "      <th>q2</th>\n",
       "      <th>q3</th>\n",
       "      <th>q4</th>\n",
       "      <th>label</th>\n",
       "      <th>Sp</th>\n",
       "      <th>Sq</th>\n",
       "      <th>condition A</th>\n",
       "      <th>condition B</th>\n",
       "      <th>condition</th>\n",
       "      <th>c</th>\n",
       "      <th>b</th>\n",
       "    </tr>\n",
       "  </thead>\n",
       "  <tbody>\n",
       "    <tr>\n",
       "      <th>0</th>\n",
       "      <td>0</td>\n",
       "      <td>1.0</td>\n",
       "      <td>0.72</td>\n",
       "      <td>0.6</td>\n",
       "      <td>0.54</td>\n",
       "      <td>0</td>\n",
       "      <td>0</td>\n",
       "      <td>0</td>\n",
       "      <td>0</td>\n",
       "      <td>N0</td>\n",
       "      <td>0.03</td>\n",
       "      <td>0.69</td>\n",
       "      <td>False</td>\n",
       "      <td>False</td>\n",
       "      <td>False</td>\n",
       "      <td>0.6</td>\n",
       "      <td>0.1</td>\n",
       "    </tr>\n",
       "    <tr>\n",
       "      <th>1</th>\n",
       "      <td>0</td>\n",
       "      <td>1.0</td>\n",
       "      <td>0.72</td>\n",
       "      <td>0.6</td>\n",
       "      <td>0.54</td>\n",
       "      <td>0</td>\n",
       "      <td>0</td>\n",
       "      <td>0</td>\n",
       "      <td>1</td>\n",
       "      <td>N1</td>\n",
       "      <td>0.18</td>\n",
       "      <td>0.68</td>\n",
       "      <td>False</td>\n",
       "      <td>False</td>\n",
       "      <td>False</td>\n",
       "      <td>0.6</td>\n",
       "      <td>0.1</td>\n",
       "    </tr>\n",
       "    <tr>\n",
       "      <th>2</th>\n",
       "      <td>0</td>\n",
       "      <td>1.0</td>\n",
       "      <td>0.72</td>\n",
       "      <td>0.6</td>\n",
       "      <td>0.54</td>\n",
       "      <td>0</td>\n",
       "      <td>0</td>\n",
       "      <td>1</td>\n",
       "      <td>0</td>\n",
       "      <td>N2</td>\n",
       "      <td>0.33</td>\n",
       "      <td>0.66</td>\n",
       "      <td>False</td>\n",
       "      <td>False</td>\n",
       "      <td>False</td>\n",
       "      <td>0.6</td>\n",
       "      <td>0.1</td>\n",
       "    </tr>\n",
       "    <tr>\n",
       "      <th>3</th>\n",
       "      <td>0</td>\n",
       "      <td>1.0</td>\n",
       "      <td>0.72</td>\n",
       "      <td>0.6</td>\n",
       "      <td>0.54</td>\n",
       "      <td>0</td>\n",
       "      <td>0</td>\n",
       "      <td>1</td>\n",
       "      <td>1</td>\n",
       "      <td>N3</td>\n",
       "      <td>0.37</td>\n",
       "      <td>0.66</td>\n",
       "      <td>False</td>\n",
       "      <td>False</td>\n",
       "      <td>False</td>\n",
       "      <td>0.6</td>\n",
       "      <td>0.1</td>\n",
       "    </tr>\n",
       "    <tr>\n",
       "      <th>4</th>\n",
       "      <td>0</td>\n",
       "      <td>1.0</td>\n",
       "      <td>0.72</td>\n",
       "      <td>0.6</td>\n",
       "      <td>0.54</td>\n",
       "      <td>0</td>\n",
       "      <td>1</td>\n",
       "      <td>0</td>\n",
       "      <td>0</td>\n",
       "      <td>N4</td>\n",
       "      <td>0.03</td>\n",
       "      <td>0.69</td>\n",
       "      <td>False</td>\n",
       "      <td>False</td>\n",
       "      <td>False</td>\n",
       "      <td>0.6</td>\n",
       "      <td>0.1</td>\n",
       "    </tr>\n",
       "  </tbody>\n",
       "</table>\n",
       "</div>"
      ],
      "text/plain": [
       "   ID   p1    p2   p3    p4  q1  q2  q3  q4 label    Sp    Sq  condition A  \\\n",
       "0   0  1.0  0.72  0.6  0.54   0   0   0   0    N0  0.03  0.69        False   \n",
       "1   0  1.0  0.72  0.6  0.54   0   0   0   1    N1  0.18  0.68        False   \n",
       "2   0  1.0  0.72  0.6  0.54   0   0   1   0    N2  0.33  0.66        False   \n",
       "3   0  1.0  0.72  0.6  0.54   0   0   1   1    N3  0.37  0.66        False   \n",
       "4   0  1.0  0.72  0.6  0.54   0   1   0   0    N4  0.03  0.69        False   \n",
       "\n",
       "   condition B  condition    c    b  \n",
       "0        False      False  0.6  0.1  \n",
       "1        False      False  0.6  0.1  \n",
       "2        False      False  0.6  0.1  \n",
       "3        False      False  0.6  0.1  \n",
       "4        False      False  0.6  0.1  "
      ]
     },
     "execution_count": 9,
     "metadata": {},
     "output_type": "execute_result"
    }
   ],
   "source": [
    "df.head()"
   ]
  },
  {
   "cell_type": "code",
   "execution_count": 10,
   "metadata": {},
   "outputs": [
    {
     "data": {
      "text/plain": [
       "(160000000, 10000000)"
      ]
     },
     "execution_count": 10,
     "metadata": {},
     "output_type": "execute_result"
    }
   ],
   "source": [
    "len(df), len(df['ID'].unique())"
   ]
  },
  {
   "cell_type": "markdown",
   "metadata": {},
   "source": [
    "### Equilibria "
   ]
  },
  {
   "cell_type": "code",
   "execution_count": 11,
   "metadata": {},
   "outputs": [],
   "source": [
    "per_player = df.groupby('ID')['condition'].all()"
   ]
  },
  {
   "cell_type": "code",
   "execution_count": 12,
   "metadata": {},
   "outputs": [],
   "source": [
    "eq_players_ID = per_player[per_player == True].index"
   ]
  },
  {
   "cell_type": "code",
   "execution_count": 13,
   "metadata": {},
   "outputs": [
    {
     "data": {
      "text/plain": [
       "25102"
      ]
     },
     "execution_count": 13,
     "metadata": {},
     "output_type": "execute_result"
    }
   ],
   "source": [
    "len(eq_players_ID)"
   ]
  },
  {
   "cell_type": "code",
   "execution_count": 14,
   "metadata": {},
   "outputs": [],
   "source": [
    "eq_df = df[df['ID'].isin(eq_players_ID)]"
   ]
  },
  {
   "cell_type": "code",
   "execution_count": 15,
   "metadata": {},
   "outputs": [
    {
     "data": {
      "text/html": [
       "<div>\n",
       "<style scoped>\n",
       "    .dataframe tbody tr th:only-of-type {\n",
       "        vertical-align: middle;\n",
       "    }\n",
       "\n",
       "    .dataframe tbody tr th {\n",
       "        vertical-align: top;\n",
       "    }\n",
       "\n",
       "    .dataframe thead th {\n",
       "        text-align: right;\n",
       "    }\n",
       "</style>\n",
       "<table border=\"1\" class=\"dataframe\">\n",
       "  <thead>\n",
       "    <tr style=\"text-align: right;\">\n",
       "      <th></th>\n",
       "      <th>ID</th>\n",
       "      <th>p1</th>\n",
       "      <th>p2</th>\n",
       "      <th>p3</th>\n",
       "      <th>p4</th>\n",
       "      <th>q1</th>\n",
       "      <th>q2</th>\n",
       "      <th>q3</th>\n",
       "      <th>q4</th>\n",
       "      <th>label</th>\n",
       "      <th>Sp</th>\n",
       "      <th>Sq</th>\n",
       "      <th>condition A</th>\n",
       "      <th>condition B</th>\n",
       "      <th>condition</th>\n",
       "      <th>c</th>\n",
       "      <th>b</th>\n",
       "    </tr>\n",
       "  </thead>\n",
       "  <tbody>\n",
       "    <tr>\n",
       "      <th>384</th>\n",
       "      <td>24</td>\n",
       "      <td>1.0</td>\n",
       "      <td>0.02</td>\n",
       "      <td>0.83</td>\n",
       "      <td>0.0</td>\n",
       "      <td>0</td>\n",
       "      <td>0</td>\n",
       "      <td>0</td>\n",
       "      <td>0</td>\n",
       "      <td>N0</td>\n",
       "      <td>0.10</td>\n",
       "      <td>0.10</td>\n",
       "      <td>True</td>\n",
       "      <td>False</td>\n",
       "      <td>True</td>\n",
       "      <td>0.6</td>\n",
       "      <td>0.1</td>\n",
       "    </tr>\n",
       "    <tr>\n",
       "      <th>385</th>\n",
       "      <td>24</td>\n",
       "      <td>1.0</td>\n",
       "      <td>0.02</td>\n",
       "      <td>0.83</td>\n",
       "      <td>0.0</td>\n",
       "      <td>0</td>\n",
       "      <td>0</td>\n",
       "      <td>0</td>\n",
       "      <td>1</td>\n",
       "      <td>N1</td>\n",
       "      <td>0.39</td>\n",
       "      <td>0.33</td>\n",
       "      <td>False</td>\n",
       "      <td>True</td>\n",
       "      <td>True</td>\n",
       "      <td>0.6</td>\n",
       "      <td>0.1</td>\n",
       "    </tr>\n",
       "    <tr>\n",
       "      <th>386</th>\n",
       "      <td>24</td>\n",
       "      <td>1.0</td>\n",
       "      <td>0.02</td>\n",
       "      <td>0.83</td>\n",
       "      <td>0.0</td>\n",
       "      <td>0</td>\n",
       "      <td>0</td>\n",
       "      <td>1</td>\n",
       "      <td>0</td>\n",
       "      <td>N2</td>\n",
       "      <td>0.10</td>\n",
       "      <td>0.10</td>\n",
       "      <td>True</td>\n",
       "      <td>False</td>\n",
       "      <td>True</td>\n",
       "      <td>0.6</td>\n",
       "      <td>0.1</td>\n",
       "    </tr>\n",
       "    <tr>\n",
       "      <th>387</th>\n",
       "      <td>24</td>\n",
       "      <td>1.0</td>\n",
       "      <td>0.02</td>\n",
       "      <td>0.83</td>\n",
       "      <td>0.0</td>\n",
       "      <td>0</td>\n",
       "      <td>0</td>\n",
       "      <td>1</td>\n",
       "      <td>1</td>\n",
       "      <td>N3</td>\n",
       "      <td>0.51</td>\n",
       "      <td>0.43</td>\n",
       "      <td>False</td>\n",
       "      <td>True</td>\n",
       "      <td>True</td>\n",
       "      <td>0.6</td>\n",
       "      <td>0.1</td>\n",
       "    </tr>\n",
       "    <tr>\n",
       "      <th>388</th>\n",
       "      <td>24</td>\n",
       "      <td>1.0</td>\n",
       "      <td>0.02</td>\n",
       "      <td>0.83</td>\n",
       "      <td>0.0</td>\n",
       "      <td>0</td>\n",
       "      <td>1</td>\n",
       "      <td>0</td>\n",
       "      <td>0</td>\n",
       "      <td>N4</td>\n",
       "      <td>0.10</td>\n",
       "      <td>0.10</td>\n",
       "      <td>True</td>\n",
       "      <td>False</td>\n",
       "      <td>True</td>\n",
       "      <td>0.6</td>\n",
       "      <td>0.1</td>\n",
       "    </tr>\n",
       "  </tbody>\n",
       "</table>\n",
       "</div>"
      ],
      "text/plain": [
       "     ID   p1    p2    p3   p4  q1  q2  q3  q4 label    Sp    Sq  condition A  \\\n",
       "384  24  1.0  0.02  0.83  0.0   0   0   0   0    N0  0.10  0.10         True   \n",
       "385  24  1.0  0.02  0.83  0.0   0   0   0   1    N1  0.39  0.33        False   \n",
       "386  24  1.0  0.02  0.83  0.0   0   0   1   0    N2  0.10  0.10         True   \n",
       "387  24  1.0  0.02  0.83  0.0   0   0   1   1    N3  0.51  0.43        False   \n",
       "388  24  1.0  0.02  0.83  0.0   0   1   0   0    N4  0.10  0.10         True   \n",
       "\n",
       "     condition B  condition    c    b  \n",
       "384        False       True  0.6  0.1  \n",
       "385         True       True  0.6  0.1  \n",
       "386        False       True  0.6  0.1  \n",
       "387         True       True  0.6  0.1  \n",
       "388        False       True  0.6  0.1  "
      ]
     },
     "execution_count": 15,
     "metadata": {},
     "output_type": "execute_result"
    }
   ],
   "source": [
    "eq_df.head()"
   ]
  },
  {
   "cell_type": "code",
   "execution_count": 110,
   "metadata": {},
   "outputs": [
    {
     "data": {
      "image/png": "[encoded data removed]",
      "text/plain": [
       "<Figure size 432x288 with 1 Axes>"
      ]
     },
     "metadata": {
      "needs_background": "light"
     },
     "output_type": "display_data"
    }
   ],
   "source": [
    "x = np.linspace(0, 1, 100).round(2)\n",
    "\n",
    "y1 = 1 - ((1 -  0.6) / 0.6) * x\n",
    "y2 = 1 - x\n",
    "\n",
    "plt.plot(x, y1, '-r', label=r'$p_2 = 1 - \\frac{1 - R}{R} p_3$')\n",
    "\n",
    "plt.plot(x, y2, linestyle=\"-.\", color='black', label='$p_2 = 1 - p_3$')\n",
    "\n",
    "plt.scatter(eq_df['p3'], eq_df['p2'], s=3);\n",
    "\n",
    "plt.legend();"
   ]
  },
  {
   "cell_type": "markdown",
   "metadata": {},
   "source": [
    "### No equilibria"
   ]
  },
  {
   "cell_type": "code",
   "execution_count": 32,
   "metadata": {},
   "outputs": [],
   "source": [
    "no_eq_players_ID = per_player[per_player == False].index"
   ]
  },
  {
   "cell_type": "code",
   "execution_count": 33,
   "metadata": {},
   "outputs": [
    {
     "data": {
      "text/plain": [
       "9974898"
      ]
     },
     "execution_count": 33,
     "metadata": {},
     "output_type": "execute_result"
    }
   ],
   "source": [
    "len(no_eq_players_ID)"
   ]
  },
  {
   "cell_type": "code",
   "execution_count": 36,
   "metadata": {},
   "outputs": [],
   "source": [
    "sets = []\n",
    "for ID in tqdm.tqdm_notebook(no_eq_players_ID):\n",
    "    set_ = set(df[(df['ID'] == ID) & (df['condition'] == False)]['label'].values)\n",
    "    \n",
    "    sets.append(set_)"
   ]
  },
  {
   "cell_type": "code",
   "execution_count": 277,
   "metadata": {},
   "outputs": [
    {
     "data": {
      "text/plain": [
       "99742"
      ]
     },
     "execution_count": 277,
     "metadata": {},
     "output_type": "execute_result"
    }
   ],
   "source": [
    "len(sets)"
   ]
  },
  {
   "cell_type": "code",
   "execution_count": 278,
   "metadata": {},
   "outputs": [],
   "source": [
    "flat_list = [item for sublist in sets for item in sublist]"
   ]
  },
  {
   "cell_type": "code",
   "execution_count": 279,
   "metadata": {},
   "outputs": [],
   "source": [
    "from collections import Counter"
   ]
  },
  {
   "cell_type": "code",
   "execution_count": 283,
   "metadata": {
    "scrolled": true
   },
   "outputs": [
    {
     "data": {
      "text/plain": [
       "99497"
      ]
     },
     "execution_count": 283,
     "metadata": {},
     "output_type": "execute_result"
    }
   ],
   "source": [
    "max(Counter(flat_list).values())"
   ]
  },
  {
   "cell_type": "code",
   "execution_count": 284,
   "metadata": {},
   "outputs": [
    {
     "data": {
      "text/plain": [
       "Counter({'N6': 49503,\n",
       "         'N3': 73688,\n",
       "         'N5': 74525,\n",
       "         'N7': 49622,\n",
       "         'N0': 99497,\n",
       "         'N12': 91998,\n",
       "         'N4': 99465,\n",
       "         'N8': 91998,\n",
       "         'N2': 97366,\n",
       "         'N1': 88267,\n",
       "         'N9': 141,\n",
       "         'N10': 2})"
      ]
     },
     "execution_count": 284,
     "metadata": {},
     "output_type": "execute_result"
    }
   ],
   "source": [
    "Counter(flat_list)"
   ]
  },
  {
   "cell_type": "code",
   "execution_count": 249,
   "metadata": {},
   "outputs": [
    {
     "data": {
      "text/plain": [
       "set()"
      ]
     },
     "execution_count": 249,
     "metadata": {},
     "output_type": "execute_result"
    }
   ],
   "source": [
    "set.intersection(*sets)"
   ]
  },
  {
   "cell_type": "code",
   "execution_count": 285,
   "metadata": {},
   "outputs": [
    {
     "data": {
      "text/plain": [
       "245"
      ]
     },
     "execution_count": 285,
     "metadata": {},
     "output_type": "execute_result"
    }
   ],
   "source": [
    "index = [i for i, s in enumerate(sets) if 'N0' not in list(s)]\n",
    "len(index)"
   ]
  },
  {
   "cell_type": "code",
   "execution_count": 286,
   "metadata": {},
   "outputs": [],
   "source": [
    "other_sets = [sets[i] for i in index]"
   ]
  },
  {
   "cell_type": "code",
   "execution_count": 287,
   "metadata": {},
   "outputs": [
    {
     "data": {
      "text/plain": [
       "{'N7'}"
      ]
     },
     "execution_count": 287,
     "metadata": {},
     "output_type": "execute_result"
    }
   ],
   "source": [
    "set.intersection(*other_sets)"
   ]
  },
  {
   "cell_type": "markdown",
   "metadata": {},
   "source": [
    "### Memory-one Payoffs"
   ]
  },
  {
   "cell_type": "code",
   "execution_count": 43,
   "metadata": {},
   "outputs": [],
   "source": [
    "import sympy as sym"
   ]
  },
  {
   "cell_type": "code",
   "execution_count": 52,
   "metadata": {},
   "outputs": [],
   "source": [
    "import os"
   ]
  },
  {
   "cell_type": "code",
   "execution_count": 53,
   "metadata": {},
   "outputs": [],
   "source": [
    "os.chdir(\"../src/\")"
   ]
  },
  {
   "cell_type": "code",
   "execution_count": 54,
   "metadata": {},
   "outputs": [],
   "source": [
    "from importlib.machinery import SourceFileLoader\n",
    "\n",
    "equilibria = SourceFileLoader(\"equilibria\", \"equilibria.py\").load_module()\n",
    "\n",
    "from equilibria import *"
   ]
  },
  {
   "cell_type": "code",
   "execution_count": 55,
   "metadata": {},
   "outputs": [],
   "source": [
    "p1, p2, p3, p4 = sym.symbols(\"p1, p2, p3, p4\")\n",
    "q1, q2, q3, q4 = sym.symbols(\"q1, q2, q3, q4\")"
   ]
  },
  {
   "cell_type": "code",
   "execution_count": 56,
   "metadata": {},
   "outputs": [],
   "source": [
    "def M_symbolically(player, opponent):\n",
    "    \"\"\"\n",
    "    Returns a Markov transition matrix for a game of memory one strategies.\n",
    "    \"\"\"\n",
    "    return sym.Matrix(\n",
    "        [\n",
    "            [\n",
    "                player[0] * opponent[0],\n",
    "                player[0] * (1 - opponent[0]),\n",
    "                (1 - player[0]) * opponent[0],\n",
    "                (1 - player[0]) * (1 - opponent[0]),\n",
    "            ],\n",
    "            [\n",
    "                player[1] * opponent[2],\n",
    "                player[1] * (1 - opponent[2]),\n",
    "                (1 - player[1]) * opponent[2],\n",
    "                (1 - player[1]) * (1 - opponent[2]),\n",
    "            ],\n",
    "            [\n",
    "                player[2] * opponent[1],\n",
    "                player[2] * (1 - opponent[1]),\n",
    "                (1 - player[2]) * opponent[1],\n",
    "                (1 - player[2]) * (1 - opponent[1]),\n",
    "            ],\n",
    "            [\n",
    "                player[3] * opponent[3],\n",
    "                player[3] * (1 - opponent[3]),\n",
    "                (1 - player[3]) * opponent[3],\n",
    "                (1 - player[3]) * (1 - opponent[3]),\n",
    "            ],\n",
    "        ]\n",
    "    )\n"
   ]
  },
  {
   "cell_type": "code",
   "execution_count": 57,
   "metadata": {},
   "outputs": [
    {
     "data": {
      "text/latex": [
       "$\\displaystyle \\left[\\begin{matrix}p_{1} q_{1} & p_{1} \\left(1 - q_{1}\\right) & q_{1} \\left(1 - p_{1}\\right) & \\left(1 - p_{1}\\right) \\left(1 - q_{1}\\right)\\\\p_{2} q_{3} & p_{2} \\left(1 - q_{3}\\right) & q_{3} \\left(1 - p_{2}\\right) & \\left(1 - p_{2}\\right) \\left(1 - q_{3}\\right)\\\\p_{3} q_{2} & p_{3} \\left(1 - q_{2}\\right) & q_{2} \\left(1 - p_{3}\\right) & \\left(1 - p_{3}\\right) \\left(1 - q_{2}\\right)\\\\p_{4} q_{4} & p_{4} \\left(1 - q_{4}\\right) & q_{4} \\left(1 - p_{4}\\right) & \\left(1 - p_{4}\\right) \\left(1 - q_{4}\\right)\\end{matrix}\\right]$"
      ],
      "text/plain": [
       "Matrix([\n",
       "[p1*q1, p1*(1 - q1), q1*(1 - p1), (1 - p1)*(1 - q1)],\n",
       "[p2*q3, p2*(1 - q3), q3*(1 - p2), (1 - p2)*(1 - q3)],\n",
       "[p3*q2, p3*(1 - q2), q2*(1 - p3), (1 - p3)*(1 - q2)],\n",
       "[p4*q4, p4*(1 - q4), q4*(1 - p4), (1 - p4)*(1 - q4)]])"
      ]
     },
     "execution_count": 57,
     "metadata": {},
     "output_type": "execute_result"
    }
   ],
   "source": [
    "M = M_symbolically([p1, p2, p3, p4], [q1, q2, q3, q4])\n",
    "M"
   ]
  },
  {
   "cell_type": "code",
   "execution_count": 49,
   "metadata": {},
   "outputs": [],
   "source": [
    "ss = invariant_distribution_analytically(M)"
   ]
  },
  {
   "cell_type": "code",
   "execution_count": 59,
   "metadata": {},
   "outputs": [],
   "source": [
    "Sx = payoffs(0.6, 0.1, dim=1)\n",
    "Sy = coplayer_payoffs(0.6, 0.1, dim=1)"
   ]
  },
  {
   "cell_type": "markdown",
   "metadata": {},
   "source": [
    "**Against ALLD**"
   ]
  },
  {
   "cell_type": "code",
   "execution_count": 73,
   "metadata": {},
   "outputs": [],
   "source": [
    "expr = (ss.subs({q1:0, q2:0, q3:0, q4:0}) @ Sx)[0].factor()"
   ]
  },
  {
   "cell_type": "code",
   "execution_count": 74,
   "metadata": {},
   "outputs": [],
   "source": [
    "expr2 = (ss.subs({q1:0, q2:0, q3:0, q4:0}) @ Sy)[0].simplify()"
   ]
  },
  {
   "cell_type": "code",
   "execution_count": 77,
   "metadata": {},
   "outputs": [
    {
     "data": {
      "text/latex": [
       "$\\displaystyle \\frac{1.0 p_{4}}{p_{2} - p_{4} - 1}$"
      ],
      "text/plain": [
       "1.0*p4/(p2 - p4 - 1)"
      ]
     },
     "execution_count": 77,
     "metadata": {},
     "output_type": "execute_result"
    }
   ],
   "source": [
    "(expr - expr2).simplify()"
   ]
  },
  {
   "cell_type": "markdown",
   "metadata": {},
   "source": [
    "**Against (0, 1, 1, 1)**"
   ]
  },
  {
   "cell_type": "code",
   "execution_count": 78,
   "metadata": {},
   "outputs": [],
   "source": [
    "expr = (ss.subs({q1:0, q2:1, q3:1, q4:1}) @ Sx)[0].factor()"
   ]
  },
  {
   "cell_type": "code",
   "execution_count": 79,
   "metadata": {},
   "outputs": [],
   "source": [
    "expr2 = (ss.subs({q1:0, q2:1, q3:1, q4:1}) @ Sy)[0].simplify()"
   ]
  },
  {
   "cell_type": "code",
   "execution_count": 87,
   "metadata": {},
   "outputs": [
    {
     "data": {
      "text/latex": [
       "$\\displaystyle \\frac{1.0 \\left(p_{2} + p_{3} - 1\\right)}{1.0 p_{2} - 2.0 p_{3} - 1.0}$"
      ],
      "text/plain": [
       "1.0*(p2 + p3 - 1)/(1.0*p2 - 2.0*p3 - 1.0)"
      ]
     },
     "execution_count": 87,
     "metadata": {},
     "output_type": "execute_result"
    }
   ],
   "source": [
    "(expr - expr2).subs({p1: 1}).simplify()"
   ]
  },
  {
   "cell_type": "markdown",
   "metadata": {},
   "source": [
    "**General case**"
   ]
  },
  {
   "cell_type": "code",
   "execution_count": 88,
   "metadata": {},
   "outputs": [],
   "source": [
    "R, P = sym.symbols(\"R, P\")"
   ]
  },
  {
   "cell_type": "code",
   "execution_count": 89,
   "metadata": {},
   "outputs": [],
   "source": [
    "Sx = payoffs(R, P, dim=1)\n",
    "Sy = coplayer_payoffs(R, P, dim=1)"
   ]
  },
  {
   "cell_type": "code",
   "execution_count": 90,
   "metadata": {},
   "outputs": [],
   "source": [
    "expr = (ss.subs({q1:0, q2:0, q3:0, q4:0}) @ Sx)[0].factor()"
   ]
  },
  {
   "cell_type": "code",
   "execution_count": 91,
   "metadata": {},
   "outputs": [],
   "source": [
    "expr2 = (ss.subs({q1:0, q2:0, q3:0, q4:0}) @ Sy)[0].simplify()"
   ]
  },
  {
   "cell_type": "code",
   "execution_count": 92,
   "metadata": {},
   "outputs": [
    {
     "data": {
      "text/latex": [
       "$\\displaystyle \\frac{p_{4}}{p_{2} - p_{4} - 1}$"
      ],
      "text/plain": [
       "p4/(p2 - p4 - 1)"
      ]
     },
     "execution_count": 92,
     "metadata": {},
     "output_type": "execute_result"
    }
   ],
   "source": [
    "(expr - expr2).simplify()"
   ]
  },
  {
   "cell_type": "code",
   "execution_count": 94,
   "metadata": {},
   "outputs": [],
   "source": [
    "expr = (ss.subs({q1:0, q2:1, q3:1, q4:1}) @ Sx)[0].factor()"
   ]
  },
  {
   "cell_type": "code",
   "execution_count": 95,
   "metadata": {},
   "outputs": [],
   "source": [
    "expr2 = (ss.subs({q1:0, q2:1, q3:1, q4:1}) @ Sy)[0].simplify()"
   ]
  },
  {
   "cell_type": "code",
   "execution_count": 96,
   "metadata": {},
   "outputs": [
    {
     "data": {
      "text/latex": [
       "$\\displaystyle \\frac{p_{2} + p_{3} - 1}{p_{2} - 2 p_{3} - 1}$"
      ],
      "text/plain": [
       "(p2 + p3 - 1)/(p2 - 2*p3 - 1)"
      ]
     },
     "execution_count": 96,
     "metadata": {},
     "output_type": "execute_result"
    }
   ],
   "source": [
    "(expr - expr2).subs({p1: 1}).simplify()"
   ]
  },
  {
   "cell_type": "code",
   "execution_count": null,
   "metadata": {},
   "outputs": [],
   "source": []
  }
 ],
 "metadata": {
  "kernelspec": {
   "display_name": "Python 3",
   "language": "python",
   "name": "python3"
  },
  "language_info": {
   "codemirror_mode": {
    "name": "ipython",
    "version": 3
   },
   "file_extension": ".py",
   "mimetype": "text/x-python",
   "name": "python",
   "nbconvert_exporter": "python",
   "pygments_lexer": "ipython3",
   "version": "3.8.3"
  }
 },
 "nbformat": 4,
 "nbformat_minor": 4
}
