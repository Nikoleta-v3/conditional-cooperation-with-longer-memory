{
 "cells": [
  {
   "cell_type": "code",
   "execution_count": 15,
   "metadata": {},
   "outputs": [],
   "source": [
    "from importlib.machinery import SourceFileLoader\n",
    "\n",
    "main = SourceFileLoader(\"main\", \"../src/main.py\").load_module()\n",
    "\n",
    "from main import *"
   ]
  },
  {
   "cell_type": "code",
   "execution_count": 669,
   "metadata": {},
   "outputs": [],
   "source": [
    "import numpy as np\n",
    "\n",
    "import pandas as pd"
   ]
  },
  {
   "cell_type": "code",
   "execution_count": 670,
   "metadata": {},
   "outputs": [],
   "source": [
    "import matplotlib.pyplot as plt\n",
    "\n",
    "import matplotlib\n",
    "\n",
    "from mpl_toolkits.axes_grid1 import make_axes_locatable\n",
    "\n",
    "import matplotlib.colors as colors\n",
    "\n",
    "plt.rcParams[\"font.weight\"] = \"bold\"\n",
    "plt.rcParams[\"axes.labelweight\"] = \"bold\""
   ]
  },
  {
   "cell_type": "markdown",
   "metadata": {},
   "source": [
    "Initially we check that the transition matrix \\(M^2\\) is correct. We compare the payoff and cooperation for the\n",
    "case,"
   ]
  },
  {
   "cell_type": "markdown",
   "metadata": {},
   "source": [
    "**Payoffs**"
   ]
  },
  {
   "cell_type": "code",
   "execution_count": 5,
   "metadata": {},
   "outputs": [],
   "source": [
    "c = np.random.randint(0, 1)\n",
    "b = np.random.randint(1, 3)\n",
    "\n",
    "for _ in range(1000):\n",
    "\n",
    "    p1, p2, q1, q2 = np.random.random(4)\n",
    "\n",
    "    one_bit_M = transition_matrix_one_bit(p=[p1, p2], q=[q1, q2])\n",
    "\n",
    "    two_bit_M = transition_matrix(p=[p1, p2, p1, p2], q=[q1, q2, q1, q2], bits=4)\n",
    "\n",
    "    ss_one_bit = invariant_distribution(one_bit_M)\n",
    "    ss_two_bit = invariant_distribution(two_bit_M)\n",
    "\n",
    "    assert np.isclose(\n",
    "        ss_one_bit @ np.array([b - c, -c, b, 0]), ss_two_bit @ payoffs_vector(c, b)\n",
    "    )"
   ]
  },
  {
   "cell_type": "markdown",
   "metadata": {},
   "source": [
    "**Cooperation**"
   ]
  },
  {
   "cell_type": "code",
   "execution_count": 7,
   "metadata": {},
   "outputs": [],
   "source": [
    "c = np.random.randint(0, 1)\n",
    "b = np.random.randint(1, 3)\n",
    "\n",
    "for _ in range(1000):\n",
    "\n",
    "    p1, p2, q1, q2 = np.random.random(4)\n",
    "\n",
    "    one_bit_M = transition_matrix_one_bit(p=[p1, p2], q=[q1, q2])\n",
    "\n",
    "    two_bit_M = transition_matrix(p=[p1, p2, p1, p2], q=[q1, q2, q1, q2], bits=4)\n",
    "\n",
    "    ss_one_bit = invariant_distribution(one_bit_M)\n",
    "    ss_two_bit = invariant_distribution(two_bit_M)\n",
    "\n",
    "    assert np.isclose(\n",
    "        cooperation_rate(ss_one_bit, size=4), cooperation_rate(ss_two_bit, size=16)\n",
    "    )"
   ]
  },
  {
   "cell_type": "markdown",
   "metadata": {},
   "source": [
    "Secondly we check equations ... to ...., namely that:\n",
    "    \n",
    "$$\\sum_{i, j \\in \\{C, D\\}} u_{ij | CD} = \\sum_{i, j \\in \\{C, D\\}} u_{CD | ij}$$"
   ]
  },
  {
   "cell_type": "code",
   "execution_count": 8,
   "metadata": {},
   "outputs": [],
   "source": [
    "c = np.random.randint(0, 1)\n",
    "b = np.random.randint(1, 3)\n",
    "\n",
    "np.random.seed(1)\n",
    "\n",
    "for _ in range(1000):\n",
    "\n",
    "    p1, p2, p3, p4 = np.random.random(4)\n",
    "    q1, q2, q3, q4 = np.random.random(4)\n",
    "\n",
    "    M = transition_matrix(p=[p1, p2, p3, p4], q=[q1, q2, q3, q4], bits=4)\n",
    "\n",
    "    ss = invariant_distribution(M)\n",
    "    \n",
    "    assert np.isclose(\n",
    "        sum([ss[i] for i in np.arange(0, 13, 4)]), sum([ss[i] for i in range(4)])\n",
    "    )\n",
    "    assert np.isclose(\n",
    "    sum([ss[i] for i in np.arange(1, 14, 4)]), sum([ss[i] for i in range(4, 8)])\n",
    ")\n",
    "    assert np.isclose(\n",
    "    sum([ss[i] for i in np.arange(2, 15, 4)]), sum([ss[i] for i in range(8, 12)])\n",
    ")\n",
    "    assert np.isclose(\n",
    "    sum([ss[i] for i in np.arange(3, 16, 4)]), sum([ss[i] for i in range(12, 16)])\n",
    ")"
   ]
  },
  {
   "cell_type": "code",
   "execution_count": null,
   "metadata": {},
   "outputs": [],
   "source": [
    "np.random.seed(1)\n",
    "\n",
    "coop_ind = list(np.arange(0, 16, 4)) + list(np.arange(1, 16, 4))\n",
    "def_ind = list(np.arange(2, 16, 4)) + list(np.arange(3, 16, 4))\n",
    "\n",
    "for _ in range(200):\n",
    "    ps = np.random.random(4)\n",
    "    qs = np.random.random(4)\n",
    "    \n",
    "    pis = np.array([ps[0], ps[1], ps[0], ps[1], ps[2], ps[3], ps[2], ps[3], ps[0], ps[1], ps[0], ps[1], ps[2], ps[3], ps[2], ps[3]])\n",
    "    qis = np.array([qs[0], qs[1], qs[0], qs[1], qs[2], qs[3], qs[2], qs[3], qs[0], qs[1], qs[0], qs[1], qs[2], qs[3], qs[2], qs[3]])\n",
    "\n",
    "    x =  [*pis] + [*qis]\n",
    "    \n",
    "    ss = invariant_distribution(m2(*x))\n",
    "    \n",
    "    assert np.isclose(sum([(1 - pis[i]) * ss[i] for i in coop_ind]) - sum([(pis[i]) * ss[i] for i in def_ind]), 0)"
   ]
  },
  {
   "cell_type": "markdown",
   "metadata": {},
   "source": [
    "**Printing conditions.**"
   ]
  },
  {
   "cell_type": "code",
   "execution_count": 4,
   "metadata": {},
   "outputs": [],
   "source": [
    "import sympy as sym\n",
    "\n",
    "import numpy as np"
   ]
  },
  {
   "cell_type": "code",
   "execution_count": 5,
   "metadata": {},
   "outputs": [],
   "source": [
    "pis = sym.symbols(f\"p_1:{17}\")\n",
    "\n",
    "ss = sym.symbols(f\"v_1:{17}\")"
   ]
  },
  {
   "cell_type": "code",
   "execution_count": 6,
   "metadata": {},
   "outputs": [],
   "source": [
    "coop_ind = list(np.arange(0, 16, 4)) + list(np.arange(1, 16, 4))\n",
    "def_ind = list(np.arange(2, 16, 4)) + list(np.arange(3, 16, 4))"
   ]
  },
  {
   "cell_type": "code",
   "execution_count": 11,
   "metadata": {},
   "outputs": [],
   "source": [
    "sym.init_printing(False)"
   ]
  },
  {
   "cell_type": "code",
   "execution_count": 12,
   "metadata": {},
   "outputs": [
    {
     "data": {
      "text/plain": [
       "-p_11*v_11 - p_12*v_12 - p_15*v_15 - p_16*v_16 - p_3*v_3 - p_4*v_4 - p_7*v_7 - p_8*v_8 + v_1*(1 - p_1) + v_10*(1 - p_10) + v_13*(1 - p_13) + v_14*(1 - p_14) + v_2*(1 - p_2) + v_5*(1 - p_5) + v_6*(1 - p_6) + v_9*(1 - p_9)"
      ]
     },
     "execution_count": 12,
     "metadata": {},
     "output_type": "execute_result"
    }
   ],
   "source": [
    "sum([(1 - pis[i]) * ss[i] for i in coop_ind]) - sum([(pis[i]) * ss[i] for i in def_ind])"
   ]
  },
  {
   "cell_type": "code",
   "execution_count": 9,
   "metadata": {},
   "outputs": [
    {
     "data": {
      "text/latex": [
       "$\\displaystyle p_{11} v_{11} + p_{12} v_{12} + p_{15} v_{15} + p_{16} v_{16} + p_{3} v_{3} + p_{4} v_{4} + p_{7} v_{7} + p_{8} v_{8}$"
      ],
      "text/plain": [
       "p_11*v_11 + p_12*v_12 + p_15*v_15 + p_16*v_16 + p_3*v_3 + p_4*v_4 + p_7*v_7 + p_8*v_8"
      ]
     },
     "execution_count": 9,
     "metadata": {},
     "output_type": "execute_result"
    }
   ],
   "source": [
    "sum([(pis[i]) * ss[i] for i in def_ind])"
   ]
  }
 ],
 "metadata": {
  "kernelspec": {
   "display_name": "Python 3",
   "language": "python",
   "name": "python3"
  },
  "language_info": {
   "codemirror_mode": {
    "name": "ipython",
    "version": 3
   },
   "file_extension": ".py",
   "mimetype": "text/x-python",
   "name": "python",
   "nbconvert_exporter": "python",
   "pygments_lexer": "ipython3",
   "version": "3.8.3"
  }
 },
 "nbformat": 4,
 "nbformat_minor": 4
}
