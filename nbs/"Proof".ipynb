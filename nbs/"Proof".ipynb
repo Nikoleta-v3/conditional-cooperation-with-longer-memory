{
 "cells": [
  {
   "cell_type": "code",
   "execution_count": 1,
   "metadata": {},
   "outputs": [],
   "source": [
    "import sympy as sym\n",
    "\n",
    "import numpy as np"
   ]
  },
  {
   "cell_type": "code",
   "execution_count": 2,
   "metadata": {},
   "outputs": [],
   "source": [
    "from importlib.machinery import SourceFileLoader\n",
    "\n",
    "main = SourceFileLoader(\"main\", \"../src/main.py\").load_module()\n",
    "\n",
    "from main import *"
   ]
  },
  {
   "cell_type": "code",
   "execution_count": 3,
   "metadata": {},
   "outputs": [],
   "source": [
    "coop_ind = list(np.arange(0, 16, 4)) + list(np.arange(1, 16, 4))\n",
    "def_ind = list(np.arange(2, 16, 4)) + list(np.arange(3, 16, 4))"
   ]
  },
  {
   "cell_type": "code",
   "execution_count": 4,
   "metadata": {},
   "outputs": [],
   "source": [
    "p1, p2, p3, p4 = sym.symbols(\"p1, p2, p3, p4\")\n",
    "\n",
    "u1, u2, u3, u4, u5, u6, u7, u8, u9, u10, u11, u12, u13, u14, u15, u16 = sym.symbols(\"u1, u2, u3, u4, u5, u6, u7, u8, u9, u10, u11, u12, u13, u14, u15, u16\")\n",
    "\n",
    "R, S, T, P = sym.symbols(\"R, S, T, P\")"
   ]
  },
  {
   "cell_type": "code",
   "execution_count": 5,
   "metadata": {},
   "outputs": [],
   "source": [
    "N7 = [0, 1, 1, 1]\n",
    "N0 = [0, 0, 0, 0]\n",
    "N4 = [0, 1, 0, 0]\n",
    "N5 = [0, 1, 0, 1]\n",
    "N9 = [1, 0, 0, 1]\n",
    "N6 = [0, 1, 1, 0]"
   ]
  },
  {
   "cell_type": "code",
   "execution_count": 6,
   "metadata": {},
   "outputs": [],
   "source": [
    "rhs_condition = ((1 + (-2 + p2) * R) * (u11 + u3) + (1 - p3) * (-1 + R) * (u13 + u5) +\n",
    "                (p3 * (1 - R) + (-1 + p2) * R) * (u15 + u7))"
   ]
  },
  {
   "cell_type": "code",
   "execution_count": 7,
   "metadata": {},
   "outputs": [
    {
     "data": {
      "text/latex": [
       "$\\displaystyle \\left(1 - p_{3}\\right) \\left(R - 1\\right) \\left(u_{13} + u_{5}\\right) + \\left(u_{11} + u_{3}\\right) \\left(R \\left(p_{2} - 2\\right) + 1\\right) + \\left(u_{15} + u_{7}\\right) \\left(R \\left(p_{2} - 1\\right) + p_{3} \\left(1 - R\\right)\\right)$"
      ],
      "text/plain": [
       "(1 - p3)*(R - 1)*(u13 + u5) + (u11 + u3)*(R*(p2 - 2) + 1) + (u15 + u7)*(R*(p2 - 1) + p3*(1 - R))"
      ]
     },
     "execution_count": 7,
     "metadata": {},
     "output_type": "execute_result"
    }
   ],
   "source": [
    "rhs_condition "
   ]
  },
  {
   "cell_type": "code",
   "execution_count": 8,
   "metadata": {},
   "outputs": [],
   "source": [
    "g = sym.lambdify((u1, u2, u3, u4, u5, u6, u7, u8, u9, u10, u11, u12, u13, u14, u15, u16), rhs_condition)"
   ]
  },
  {
   "cell_type": "code",
   "execution_count": 9,
   "metadata": {},
   "outputs": [],
   "source": [
    "lhs_condition = ((P + (1 - P) * p2 - R) * (u12 + u4) + (-p2 + p4) * (1 - R) * (u14 + u6) + \n",
    "                 (P * (1 - p2) + p4 * (1 - R) - (1 - p2) * R) * (u16 + u8))"
   ]
  },
  {
   "cell_type": "code",
   "execution_count": 10,
   "metadata": {},
   "outputs": [
    {
     "data": {
      "text/latex": [
       "$\\displaystyle \\left(1 - R\\right) \\left(- p_{2} + p_{4}\\right) \\left(u_{14} + u_{6}\\right) + \\left(u_{12} + u_{4}\\right) \\left(P - R + p_{2} \\left(1 - P\\right)\\right) + \\left(u_{16} + u_{8}\\right) \\left(P \\left(1 - p_{2}\\right) - R \\left(1 - p_{2}\\right) + p_{4} \\left(1 - R\\right)\\right)$"
      ],
      "text/plain": [
       "(1 - R)*(-p2 + p4)*(u14 + u6) + (u12 + u4)*(P - R + p2*(1 - P)) + (u16 + u8)*(P*(1 - p2) - R*(1 - p2) + p4*(1 - R))"
      ]
     },
     "execution_count": 10,
     "metadata": {},
     "output_type": "execute_result"
    }
   ],
   "source": [
    "lhs_condition"
   ]
  },
  {
   "cell_type": "code",
   "execution_count": 11,
   "metadata": {},
   "outputs": [],
   "source": [
    "f = sym.lambdify((u1, u2, u3, u4, u5, u6, u7, u8, u9, u10, u11, u12, u13, u14, u15, u16), lhs_condition)"
   ]
  },
  {
   "cell_type": "markdown",
   "metadata": {},
   "source": [
    "**The three strategies that can help us find Nash**"
   ]
  },
  {
   "cell_type": "code",
   "execution_count": 12,
   "metadata": {},
   "outputs": [
    {
     "data": {
      "text/plain": [
       "([0, 0, 0, 0], [0, 1, 1, 0], [0, 1, 1, 1])"
      ]
     },
     "execution_count": 12,
     "metadata": {},
     "output_type": "execute_result"
    }
   ],
   "source": [
    "N0, N6, N7"
   ]
  },
  {
   "cell_type": "markdown",
   "metadata": {},
   "source": [
    "### N0"
   ]
  },
  {
   "cell_type": "code",
   "execution_count": 13,
   "metadata": {},
   "outputs": [],
   "source": [
    "M = transition_matrix([p1, p2, p3, p4], N0,\n",
    "                      bits=4, analytical=True)\n",
    "\n",
    "ss = invariant_distribution_analytically(M)"
   ]
  },
  {
   "cell_type": "code",
   "execution_count": 15,
   "metadata": {},
   "outputs": [
    {
     "data": {
      "text/plain": [
       "[6, 8, 14, 16]"
      ]
     },
     "execution_count": 15,
     "metadata": {},
     "output_type": "execute_result"
    }
   ],
   "source": [
    "[i + 1 for i, s in enumerate(ss) if s != 0]"
   ]
  },
  {
   "cell_type": "code",
   "execution_count": 16,
   "metadata": {},
   "outputs": [
    {
     "data": {
      "text/latex": [
       "$\\displaystyle \\left[\\begin{array}{cccccccccccccccc}0 & 0 & 0 & 0 & 0 & p_{4}^{2} & 0 & p_{4} \\left(1 - p_{4}\\right) & 0 & 0 & 0 & 0 & 0 & p_{4} \\left(1 - p_{4}\\right) & 0 & p_{4}^{2} - 2 p_{4} + 1\\end{array}\\right]$"
      ],
      "text/plain": [
       "Matrix([[0, 0, 0, 0, 0, p4**2, 0, p4*(1 - p4), 0, 0, 0, 0, 0, p4*(1 - p4), 0, p4**2 - 2*p4 + 1]])"
      ]
     },
     "execution_count": 16,
     "metadata": {},
     "output_type": "execute_result"
    }
   ],
   "source": [
    "ss"
   ]
  },
  {
   "cell_type": "code",
   "execution_count": 17,
   "metadata": {},
   "outputs": [
    {
     "data": {
      "text/plain": [
       "(0, 0)"
      ]
     },
     "execution_count": 17,
     "metadata": {},
     "output_type": "execute_result"
    }
   ],
   "source": [
    "ss[10], ss[11]"
   ]
  },
  {
   "cell_type": "code",
   "execution_count": 18,
   "metadata": {},
   "outputs": [
    {
     "data": {
      "text/latex": [
       "$\\displaystyle \\left(1 - p_{3}\\right) \\left(R - 1\\right) \\left(u_{13} + u_{5}\\right) + \\left(u_{11} + u_{3}\\right) \\left(R \\left(p_{2} - 2\\right) + 1\\right) + \\left(u_{15} + u_{7}\\right) \\left(R \\left(p_{2} - 1\\right) + p_{3} \\left(1 - R\\right)\\right)$"
      ],
      "text/plain": [
       "(1 - p3)*(R - 1)*(u13 + u5) + (u11 + u3)*(R*(p2 - 2) + 1) + (u15 + u7)*(R*(p2 - 1) + p3*(1 - R))"
      ]
     },
     "execution_count": 18,
     "metadata": {},
     "output_type": "execute_result"
    }
   ],
   "source": [
    "rhs_condition "
   ]
  },
  {
   "cell_type": "code",
   "execution_count": 19,
   "metadata": {},
   "outputs": [
    {
     "data": {
      "text/latex": [
       "$\\displaystyle \\left(1 - R\\right) \\left(- p_{2} + p_{4}\\right) \\left(u_{14} + u_{6}\\right) + \\left(u_{12} + u_{4}\\right) \\left(P - R + p_{2} \\left(1 - P\\right)\\right) + \\left(u_{16} + u_{8}\\right) \\left(P \\left(1 - p_{2}\\right) - R \\left(1 - p_{2}\\right) + p_{4} \\left(1 - R\\right)\\right)$"
      ],
      "text/plain": [
       "(1 - R)*(-p2 + p4)*(u14 + u6) + (u12 + u4)*(P - R + p2*(1 - P)) + (u16 + u8)*(P*(1 - p2) - R*(1 - p2) + p4*(1 - R))"
      ]
     },
     "execution_count": 19,
     "metadata": {},
     "output_type": "execute_result"
    }
   ],
   "source": [
    "lhs_condition "
   ]
  },
  {
   "cell_type": "code",
   "execution_count": 20,
   "metadata": {},
   "outputs": [
    {
     "data": {
      "text/latex": [
       "$\\displaystyle \\left(p_{2} - 1\\right) \\left(P p_{4} - P + R - p_{4}\\right)$"
      ],
      "text/plain": [
       "(p2 - 1)*(P*p4 - P + R - p4)"
      ]
     },
     "execution_count": 20,
     "metadata": {},
     "output_type": "execute_result"
    }
   ],
   "source": [
    "f(*ss).factor()"
   ]
  },
  {
   "cell_type": "code",
   "execution_count": null,
   "metadata": {},
   "outputs": [],
   "source": [
    "g(*ss).expand()"
   ]
  },
  {
   "cell_type": "markdown",
   "metadata": {},
   "source": [
    "### N6"
   ]
  },
  {
   "cell_type": "code",
   "execution_count": 21,
   "metadata": {},
   "outputs": [],
   "source": [
    "M = transition_matrix([p1, p2, p3, p4], N7,\n",
    "                      bits=4, analytical=True)\n",
    "\n",
    "ss = invariant_distribution_analytically(M)"
   ]
  },
  {
   "cell_type": "code",
   "execution_count": 23,
   "metadata": {},
   "outputs": [
    {
     "data": {
      "text/latex": [
       "$\\displaystyle - \\frac{p_{1}^{2} \\left(p_{4} - 1\\right)}{p_{1}^{3} p_{2} - p_{1}^{3} p_{4} + p_{1}^{3} - 3 p_{1}^{2} p_{4} + 3 p_{1}^{2} - p_{1} p_{2} p_{3} p_{4} + p_{1} p_{2} p_{3} + p_{1} p_{3} p_{4}^{2} - p_{1} p_{3} - p_{1} p_{4} + p_{1} + p_{2} p_{3} p_{4} - p_{2} p_{3} - p_{4} + 1}$"
      ],
      "text/plain": [
       "-p1**2*(p4 - 1)/(p1**3*p2 - p1**3*p4 + p1**3 - 3*p1**2*p4 + 3*p1**2 - p1*p2*p3*p4 + p1*p2*p3 + p1*p3*p4**2 - p1*p3 - p1*p4 + p1 + p2*p3*p4 - p2*p3 - p4 + 1)"
      ]
     },
     "execution_count": 23,
     "metadata": {},
     "output_type": "execute_result"
    }
   ],
   "source": [
    "ss[0].factor()"
   ]
  },
  {
   "cell_type": "code",
   "execution_count": 26,
   "metadata": {},
   "outputs": [
    {
     "data": {
      "text/plain": [
       "[1, 2, 3, 4, 6, 8, 9, 11, 13, 15]"
      ]
     },
     "execution_count": 26,
     "metadata": {},
     "output_type": "execute_result"
    }
   ],
   "source": [
    "[i + 1 for i, s in enumerate(ss) if s != 0]"
   ]
  },
  {
   "cell_type": "code",
   "execution_count": null,
   "metadata": {},
   "outputs": [],
   "source": [
    "f(*ss).factor()"
   ]
  },
  {
   "cell_type": "code",
   "execution_count": null,
   "metadata": {},
   "outputs": [],
   "source": [
    "g(*ss).expand()"
   ]
  },
  {
   "cell_type": "code",
   "execution_count": 27,
   "metadata": {},
   "outputs": [],
   "source": [
    "M = transition_matrix([p1, p2, p3, p4], N6,\n",
    "                      bits=4, analytical=True)\n",
    "\n",
    "ss = invariant_distribution_analytically(M)"
   ]
  },
  {
   "cell_type": "code",
   "execution_count": 29,
   "metadata": {},
   "outputs": [
    {
     "data": {
      "text/plain": [
       "[1, 2, 3, 4, 5, 6, 7, 8, 9, 10, 11, 12, 13, 14, 15, 16]"
      ]
     },
     "execution_count": 29,
     "metadata": {},
     "output_type": "execute_result"
    }
   ],
   "source": [
    "[i + 1 for i, s in enumerate(ss) if s != 0]"
   ]
  }
 ],
 "metadata": {
  "kernelspec": {
   "display_name": "Python 3",
   "language": "python",
   "name": "python3"
  },
  "language_info": {
   "codemirror_mode": {
    "name": "ipython",
    "version": 3
   },
   "file_extension": ".py",
   "mimetype": "text/x-python",
   "name": "python",
   "nbconvert_exporter": "python",
   "pygments_lexer": "ipython3",
   "version": "3.8.3"
  }
 },
 "nbformat": 4,
 "nbformat_minor": 4
}
