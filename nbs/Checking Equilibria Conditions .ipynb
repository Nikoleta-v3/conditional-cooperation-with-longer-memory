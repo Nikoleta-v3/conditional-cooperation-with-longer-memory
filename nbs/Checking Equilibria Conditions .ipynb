{
 "cells": [
  {
   "cell_type": "code",
   "execution_count": 4,
   "metadata": {},
   "outputs": [],
   "source": [
    "import sympy as sym\n",
    "\n",
    "import numpy as np"
   ]
  },
  {
   "cell_type": "code",
   "execution_count": 65,
   "metadata": {},
   "outputs": [],
   "source": [
    "def calculate_M(player, opponent):\n",
    "    \"\"\"\n",
    "    Returns a Markov transition matrix for a game of memory one strategies.\n",
    "    \"\"\"\n",
    "    return sym.Matrix(\n",
    "        [\n",
    "            [\n",
    "                player[0] * opponent[0],\n",
    "                player[0] * (1 - opponent[0]),\n",
    "                (1 - player[0]) * opponent[0],\n",
    "                (1 - player[0]) * (1 - opponent[0]),\n",
    "            ],\n",
    "            [\n",
    "                player[1] * opponent[2],\n",
    "                player[1] * (1 - opponent[2]),\n",
    "                (1 - player[1]) * opponent[2],\n",
    "                (1 - player[1]) * (1 - opponent[2]),\n",
    "            ],\n",
    "            [\n",
    "                player[2] * opponent[1],\n",
    "                player[2] * (1 - opponent[1]),\n",
    "                (1 - player[2]) * opponent[1],\n",
    "                (1 - player[2]) * (1 - opponent[1]),\n",
    "            ],\n",
    "            [\n",
    "                player[3] * opponent[3],\n",
    "                player[3] * (1 - opponent[3]),\n",
    "                (1 - player[3]) * opponent[3],\n",
    "                (1 - player[3]) * (1 - opponent[3]),\n",
    "            ],\n",
    "        ]\n",
    "    )"
   ]
  },
  {
   "cell_type": "code",
   "execution_count": 66,
   "metadata": {},
   "outputs": [],
   "source": [
    "def invariant_distribution_analytically(M):\n",
    "    size = M.shape[1]\n",
    "    pi = sym.symbols(f\"b_1:{size + 1}\")\n",
    "    ss = sym.solve(\n",
    "        [sum(pi) - 1]\n",
    "        + [a - b for a, b in zip(M.transpose() * sym.Matrix(pi), pi)],\n",
    "        pi,\n",
    "    )\n",
    "\n",
    "    v_vector = sym.Matrix(\n",
    "        [\n",
    "            [ss[p] for p in pi],\n",
    "        ]\n",
    "    )\n",
    "\n",
    "    return v_vector"
   ]
  },
  {
   "cell_type": "code",
   "execution_count": null,
   "metadata": {},
   "outputs": [],
   "source": []
  },
  {
   "cell_type": "code",
   "execution_count": 42,
   "metadata": {},
   "outputs": [],
   "source": [
    "def invariant_distribution(M):\n",
    "\n",
    "    eigenvalues, eigenvectors = np.linalg.eig(M.T)\n",
    "    eigenvectors_one = eigenvectors[:, np.argmax(eigenvalues)]\n",
    "\n",
    "    stationary = eigenvectors_one / eigenvectors_one.sum()\n",
    "\n",
    "    return stationary.real"
   ]
  },
  {
   "cell_type": "code",
   "execution_count": 43,
   "metadata": {},
   "outputs": [],
   "source": [
    "p1, p2, p3, p4 = sym.symbols(\"p1, p2, p3, p4\")\n",
    "q1, q2, q3, q4 = sym.symbols(\"q1, q2, q3, q4\")"
   ]
  },
  {
   "cell_type": "code",
   "execution_count": 68,
   "metadata": {},
   "outputs": [],
   "source": [
    "M = calculate_M((p1, p2, p3, p4), (q1, q2, q3, q4))"
   ]
  },
  {
   "cell_type": "code",
   "execution_count": 79,
   "metadata": {},
   "outputs": [],
   "source": [
    "M = M.subs({p1: 1, p2:0, p3:1, p4:0, q1:1, q2:0, q3:1, q4:0})"
   ]
  },
  {
   "cell_type": "code",
   "execution_count": 83,
   "metadata": {},
   "outputs": [],
   "source": [
    "M = np.array(M, dtype=float)"
   ]
  },
  {
   "cell_type": "code",
   "execution_count": 84,
   "metadata": {},
   "outputs": [],
   "source": [
    "eigenvalues, eigenvectors = np.linalg.eig(M.T)"
   ]
  },
  {
   "cell_type": "code",
   "execution_count": 90,
   "metadata": {},
   "outputs": [
    {
     "data": {
      "text/plain": [
       "array([1., 0., 0., 0.])"
      ]
     },
     "execution_count": 90,
     "metadata": {},
     "output_type": "execute_result"
    }
   ],
   "source": [
    "eigenvectors_one = eigenvectors[:, 2]\n",
    "\n",
    "stationary = eigenvectors_one / eigenvectors_one.sum()\n",
    "\n",
    "stationary.real"
   ]
  },
  {
   "cell_type": "code",
   "execution_count": 69,
   "metadata": {},
   "outputs": [],
   "source": [
    "ss = invariant_distribution_analytically(M)"
   ]
  },
  {
   "cell_type": "code",
   "execution_count": 72,
   "metadata": {},
   "outputs": [
    {
     "data": {
      "text/latex": [
       "$\\displaystyle 1$"
      ],
      "text/plain": [
       "1"
      ]
     },
     "execution_count": 72,
     "metadata": {},
     "output_type": "execute_result"
    }
   ],
   "source": [
    "ss[0].subs({p1: 1, p2:0, p3:1, p4:0, q1:1})"
   ]
  },
  {
   "cell_type": "code",
   "execution_count": 64,
   "metadata": {},
   "outputs": [],
   "source": [
    "M =  calculate_M((1, 0, 1, 0), (1, 0, 1, 0))\n",
    "\n",
    "ss = invariant_distribution(M)"
   ]
  },
  {
   "cell_type": "code",
   "execution_count": 61,
   "metadata": {},
   "outputs": [
    {
     "data": {
      "text/plain": [
       "array([[1, 0, 0, 0],\n",
       "       [0, 0, 1, 0],\n",
       "       [0, 1, 0, 0],\n",
       "       [0, 0, 0, 1]])"
      ]
     },
     "execution_count": 61,
     "metadata": {},
     "output_type": "execute_result"
    }
   ],
   "source": [
    "M "
   ]
  },
  {
   "cell_type": "code",
   "execution_count": 62,
   "metadata": {},
   "outputs": [
    {
     "data": {
      "text/plain": [
       "array([0. , 0.5, 0.5, 0. ])"
      ]
     },
     "execution_count": 62,
     "metadata": {},
     "output_type": "execute_result"
    }
   ],
   "source": [
    "ss"
   ]
  },
  {
   "cell_type": "code",
   "execution_count": 63,
   "metadata": {},
   "outputs": [
    {
     "data": {
      "text/plain": [
       "(0.5, 0.5)"
      ]
     },
     "execution_count": 63,
     "metadata": {},
     "output_type": "execute_result"
    }
   ],
   "source": [
    "ss @ Sy, ss @ Sx"
   ]
  },
  {
   "cell_type": "code",
   "execution_count": 187,
   "metadata": {},
   "outputs": [],
   "source": [
    "R = 3\n",
    "S = 0\n",
    "T = 5\n",
    "P = 1\n",
    "\n",
    "Sx = np.array([R, S, T, P])\n",
    "Sy = np.array([R, T, S, P])"
   ]
  },
  {
   "cell_type": "code",
   "execution_count": 188,
   "metadata": {},
   "outputs": [],
   "source": [
    "expr1 = ((T - R) / (R - S)) * p3 <= 1 - p2\n",
    "\n",
    "expr2 = ((T - R) / (R - P)) * p4 <= 1 - p2"
   ]
  },
  {
   "cell_type": "code",
   "execution_count": 189,
   "metadata": {},
   "outputs": [
    {
     "data": {
      "text/latex": [
       "$\\displaystyle p_{2} \\leq 1$"
      ],
      "text/plain": [
       "p2 <= 1"
      ]
     },
     "execution_count": 189,
     "metadata": {},
     "output_type": "execute_result"
    }
   ],
   "source": [
    "expr2.subs({p4:0}).simplify()"
   ]
  },
  {
   "cell_type": "code",
   "execution_count": 202,
   "metadata": {},
   "outputs": [
    {
     "data": {
      "text/latex": [
       "$\\displaystyle p_{2} \\leq 0.494666666666667$"
      ],
      "text/plain": [
       "p2 <= 0.494666666666667"
      ]
     },
     "execution_count": 202,
     "metadata": {},
     "output_type": "execute_result"
    }
   ],
   "source": [
    "expr1.subs({p3:0.758}).simplify()"
   ]
  },
  {
   "cell_type": "code",
   "execution_count": 198,
   "metadata": {},
   "outputs": [],
   "source": [
    "strategy = [1, 0, 0.5, 0]\n",
    "\n",
    "coplayer = [1, 0, 0.5, 0]"
   ]
  },
  {
   "cell_type": "code",
   "execution_count": 199,
   "metadata": {},
   "outputs": [],
   "source": [
    "s = [ss[i].subs({p1:strategy[0],\n",
    "            p2:strategy[1],\n",
    "            p3:strategy[2],\n",
    "            p4:strategy[3],\n",
    "            q1:coplayer[0],\n",
    "            q2:coplayer[1],\n",
    "            q3:coplayer[2],\n",
    "            q4:coplayer[3]}) for i in range(4)]"
   ]
  },
  {
   "cell_type": "code",
   "execution_count": 200,
   "metadata": {},
   "outputs": [
    {
     "data": {
      "text/plain": [
       "[1.00000000000000, 0, 0, nan]"
      ]
     },
     "execution_count": 200,
     "metadata": {},
     "output_type": "execute_result"
    }
   ],
   "source": [
    "s"
   ]
  },
  {
   "cell_type": "code",
   "execution_count": 201,
   "metadata": {},
   "outputs": [
    {
     "data": {
      "text/latex": [
       "$\\displaystyle \\text{NaN}$"
      ],
      "text/plain": [
       "nan"
      ]
     },
     "execution_count": 201,
     "metadata": {},
     "output_type": "execute_result"
    }
   ],
   "source": [
    "s @ Sx"
   ]
  },
  {
   "cell_type": "code",
   "execution_count": 194,
   "metadata": {},
   "outputs": [
    {
     "data": {
      "text/latex": [
       "$\\displaystyle 0.999999999999992$"
      ],
      "text/plain": [
       "0.999999999999992"
      ]
     },
     "execution_count": 194,
     "metadata": {},
     "output_type": "execute_result"
    }
   ],
   "source": [
    "s @ Sy"
   ]
  },
  {
   "cell_type": "code",
   "execution_count": 6,
   "metadata": {},
   "outputs": [],
   "source": [
    "R, S, T, P = 0.6, 0, 1, 0.3"
   ]
  },
  {
   "cell_type": "code",
   "execution_count": 7,
   "metadata": {},
   "outputs": [],
   "source": []
  },
  {
   "cell_type": "code",
   "execution_count": 12,
   "metadata": {},
   "outputs": [
    {
     "data": {
      "text/latex": [
       "$\\displaystyle \\left[\\begin{matrix}p_{1} q_{1} & p_{1} \\left(1 - q_{1}\\right) & q_{1} \\left(1 - p_{1}\\right) & \\left(1 - p_{1}\\right) \\left(1 - q_{1}\\right)\\\\p_{2} q_{3} & p_{2} \\left(1 - q_{3}\\right) & q_{3} \\left(1 - p_{2}\\right) & \\left(1 - p_{2}\\right) \\left(1 - q_{3}\\right)\\\\p_{3} q_{2} & p_{3} \\left(1 - q_{2}\\right) & q_{2} \\left(1 - p_{3}\\right) & \\left(1 - p_{3}\\right) \\left(1 - q_{2}\\right)\\\\p_{4} q_{4} & p_{4} \\left(1 - q_{4}\\right) & q_{4} \\left(1 - p_{4}\\right) & \\left(1 - p_{4}\\right) \\left(1 - q_{4}\\right)\\end{matrix}\\right]$"
      ],
      "text/plain": [
       "Matrix([\n",
       "[p1*q1, p1*(1 - q1), q1*(1 - p1), (1 - p1)*(1 - q1)],\n",
       "[p2*q3, p2*(1 - q3), q3*(1 - p2), (1 - p2)*(1 - q3)],\n",
       "[p3*q2, p3*(1 - q2), q2*(1 - p3), (1 - p3)*(1 - q2)],\n",
       "[p4*q4, p4*(1 - q4), q4*(1 - p4), (1 - p4)*(1 - q4)]])"
      ]
     },
     "execution_count": 12,
     "metadata": {},
     "output_type": "execute_result"
    }
   ],
   "source": []
  },
  {
   "cell_type": "code",
   "execution_count": null,
   "metadata": {},
   "outputs": [],
   "source": []
  }
 ],
 "metadata": {
  "kernelspec": {
   "display_name": "Python 3",
   "language": "python",
   "name": "python3"
  },
  "language_info": {
   "codemirror_mode": {
    "name": "ipython",
    "version": 3
   },
   "file_extension": ".py",
   "mimetype": "text/x-python",
   "name": "python",
   "nbconvert_exporter": "python",
   "pygments_lexer": "ipython3",
   "version": "3.8.3"
  }
 },
 "nbformat": 4,
 "nbformat_minor": 4
}
