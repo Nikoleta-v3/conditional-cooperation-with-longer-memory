{
 "cells": [
  {
   "cell_type": "code",
   "execution_count": 1,
   "metadata": {},
   "outputs": [],
   "source": [
    "import numpy as np\n",
    "\n",
    "import itertools"
   ]
  },
  {
   "cell_type": "code",
   "execution_count": 2,
   "metadata": {},
   "outputs": [],
   "source": [
    "import warnings\n",
    "warnings.filterwarnings('ignore')"
   ]
  },
  {
   "cell_type": "code",
   "execution_count": 3,
   "metadata": {},
   "outputs": [],
   "source": [
    "def nash_conditions_mem_two(p, b, c):\n",
    "    c1  = p[1] < p[5]\n",
    "    c2  = p[9] < p[5]\n",
    "    c3  = p[13] < p[5]\n",
    "    c4  = p[4] < 1\n",
    "    c5  = p[8] < 1\n",
    "    c6  = p[12] < 1\n",
    "    c7  = (c / b) * p[2] < 1 - p[5]\n",
    "    c8  = (c / b) * p[10] < 1 - p[5]\n",
    "    c9  = (c / b) * p[14] < 1 - p[5]\n",
    "    c12 = (c / b) * p[6] < 1 - p[5]\n",
    "    c10 = 1 + (c / (b - c)) * p[11] > p[5]\n",
    "    c11 = 1 + (c / (b - c)) * p[15] > p[5]\n",
    "    c13 = (c / (b - c)) * p[7] < 1 - p[5]\n",
    "    c14 = 1 + (c / (b - c)) * p[3] > p[5]\n",
    "    \n",
    "    return  {\n",
    "\"c1\" : c1 ,\n",
    "\"c2\" : c2 ,\n",
    "\"c3\" : c3 ,\n",
    "\"c4\" : c4 ,\n",
    "\"c5\" : c5 ,\n",
    "\"c6\" : c6 ,\n",
    "\"c7\" : c7 ,\n",
    "\"c8\" : c8 ,\n",
    "\"c9\" : c9 ,\n",
    "\"c12\" : c12,\n",
    "\"c10\" : c10,\n",
    "\"c11\" : c11,\n",
    "\"c13\" : c13,\n",
    "\"c14\" : c14,\n",
    "}\n",
    "    "
   ]
  },
  {
   "cell_type": "code",
   "execution_count": 4,
   "metadata": {},
   "outputs": [],
   "source": [
    "def conditition_one(p2, p4, b, c):\n",
    "    return p4 < 1 - (c / b)\n",
    "\n",
    "def conditition_two(p2, p4, b, c):\n",
    "    return p2 < p4\n",
    "\n",
    "def conditition_three(p3, b, c):\n",
    "    return p3 < 1\n",
    "\n",
    "def condition_four(p2, p4, b, c):\n",
    "    return  1 + p2 < (b / c) + (p4 * (c - b)) / c\n",
    "\n",
    "def nash_conditions_reactive(p, b, c):\n",
    "    p1, p2, p3, p4 = p\n",
    "    \n",
    "    c1 = conditition_one(p2, p4, b, c)\n",
    "    c2 = conditition_two(p2, p4, b, c)\n",
    "    c3 = conditition_three(p3, b, c)\n",
    "    c4 = condition_four(p2, p4, b, c)\n",
    "#     c5 = p1 == 1\n",
    "    \n",
    "    return {\"c1\": c1, \"c2\": c2, \"c3\": c3, \"c4\": c4}"
   ]
  },
  {
   "cell_type": "code",
   "execution_count": 5,
   "metadata": {},
   "outputs": [
    {
     "data": {
      "text/plain": [
       "{'c1': False, 'c2': True, 'c3': True, 'c4': False}"
      ]
     },
     "execution_count": 5,
     "metadata": {},
     "output_type": "execute_result"
    }
   ],
   "source": [
    "nash_conditions_reactive((1, 0, 0, 1), 2, 1)"
   ]
  },
  {
   "cell_type": "code",
   "execution_count": 6,
   "metadata": {},
   "outputs": [],
   "source": [
    "two_bit_reactive_pure_set = list(itertools.product([0, 1], repeat=4))\n",
    "\n",
    "memory_two_pure_set = list(itertools.product([0, 1], repeat=16))"
   ]
  },
  {
   "cell_type": "code",
   "execution_count": 7,
   "metadata": {},
   "outputs": [],
   "source": [
    "is_nash = []\n",
    "\n",
    "for strategy in two_bit_reactive_pure_set:\n",
    "    checks = nash_conditions_reactive(strategy, 2, 1)\n",
    "    \n",
    "    if all(checks.values()):\n",
    "        is_nash.append(strategy)"
   ]
  },
  {
   "cell_type": "code",
   "execution_count": 8,
   "metadata": {},
   "outputs": [
    {
     "data": {
      "text/plain": [
       "[]"
      ]
     },
     "execution_count": 8,
     "metadata": {},
     "output_type": "execute_result"
    }
   ],
   "source": [
    "is_nash"
   ]
  },
  {
   "cell_type": "code",
   "execution_count": 9,
   "metadata": {},
   "outputs": [],
   "source": [
    "is_nash = []\n",
    "\n",
    "for strategy in memory_two_pure_set:\n",
    "    checks = nash_conditions_mem_two(strategy, 2, 1)\n",
    "    \n",
    "    if all(checks.values()):\n",
    "        is_nash.append(strategy)"
   ]
  },
  {
   "cell_type": "code",
   "execution_count": 10,
   "metadata": {},
   "outputs": [
    {
     "data": {
      "text/plain": [
       "[]"
      ]
     },
     "execution_count": 10,
     "metadata": {},
     "output_type": "execute_result"
    }
   ],
   "source": [
    "is_nash"
   ]
  },
  {
   "cell_type": "markdown",
   "metadata": {},
   "source": [
    "**Anti Press**"
   ]
  },
  {
   "cell_type": "code",
   "execution_count": 11,
   "metadata": {},
   "outputs": [],
   "source": [
    "import os\n",
    "\n",
    "os.chdir('..')\n",
    "\n",
    "from importlib.machinery import SourceFileLoader\n",
    "\n",
    "eq = SourceFileLoader(\"eq\", \"src/numerical_equilibria_n_bit_vs_n_bit.py\").load_module()\n",
    "\n",
    "from eq import *\n",
    "\n",
    "from importlib.machinery import SourceFileLoader\n",
    "\n",
    "main = SourceFileLoader(\"main\", \"src/main.py\").load_module()\n",
    "\n",
    "from main import *"
   ]
  },
  {
   "cell_type": "code",
   "execution_count": 12,
   "metadata": {},
   "outputs": [],
   "source": [
    "def invariant_distributions(M):\n",
    "    \"\"\"Returns all the invariant distributions in case of absorbing states.\"\"\"\n",
    "    \n",
    "    stationaries = []\n",
    "    \n",
    "    eigenvalues, eigenvectors = np.linalg.eig(M.T)\n",
    "    \n",
    "    for index in np.where(eigenvalues == np.max(eigenvalues))[0]:\n",
    "        \n",
    "        eigenvectors_one = eigenvectors[:, index]\n",
    "\n",
    "        stationary = eigenvectors_one / eigenvectors_one.sum()\n",
    "\n",
    "        stationaries.append(stationary.real)\n",
    "        \n",
    "    return stationaries"
   ]
  },
  {
   "cell_type": "code",
   "execution_count": 13,
   "metadata": {},
   "outputs": [],
   "source": [
    "def calculate_ss_for_mem_one(player, coplayer):\n",
    "    \"\"\"\n",
    "    Invariant distribution for memory-one.\n",
    "    \"\"\"\n",
    "    M = calculate_M(player, coplayer)\n",
    "    ss = invariant_distributions(M)\n",
    "    \n",
    "    return ss\n",
    "\n"
   ]
  },
  {
   "cell_type": "code",
   "execution_count": 14,
   "metadata": {},
   "outputs": [],
   "source": [
    "def calculate_ss_for_mem_two(player, coplayer):\n",
    "    \"\"\"\n",
    "    Invariant distribution for memory-two.\n",
    "    \"\"\"\n",
    "    M = calculate_M_memory_two(player, coplayer)\n",
    "    ss = invariant_distributions(M)\n",
    "    \n",
    "    return ss"
   ]
  },
  {
   "cell_type": "code",
   "execution_count": 15,
   "metadata": {},
   "outputs": [],
   "source": [
    "def expected_memory_one_strategy(player, coplayer, index=0):\n",
    "    \"\"\"\n",
    "    Returns the expected memory-one strategy for a memory-two\n",
    "    strategy from the player's prespective.\n",
    "    \n",
    "    This uses the method by Press and Dyson.\n",
    "    \"\"\"\n",
    "    states = ['CC', 'CD', 'DC', 'DD']\n",
    "    \n",
    "    states_in_two_bits = [\"\".join(i[-2:]) for i in list(itertools.product(['C', 'D'], repeat=4))]\n",
    "\n",
    "    ss = calculate_ss_for_mem_two(player, coplayer)\n",
    "    \n",
    "    ss = ss[index]\n",
    "    \n",
    "    coplayer = [coplayer[0],  coplayer[2],  coplayer[1],  coplayer[3],\n",
    "                 coplayer[8],  coplayer[10], coplayer[9],  coplayer[11],\n",
    "                 coplayer[4],  coplayer[6],  coplayer[5],  coplayer[7],\n",
    "                 coplayer[12], coplayer[14], coplayer[13], coplayer[15]]\n",
    "    \n",
    "    strategy = [(sum([coplayer[i] * ss[i] for i in range(16) if states_in_two_bits[i] == state]) \n",
    "                 / sum([ss[i] for i in range(16) if states_in_two_bits[i] == state]))\n",
    "                for state in states]\n",
    "\n",
    "    return [np.nan_to_num(strategy[i]) for i in [0, 2, 1, -1]]"
   ]
  },
  {
   "cell_type": "code",
   "execution_count": 16,
   "metadata": {},
   "outputs": [],
   "source": [
    "# the two sets of strategies\n",
    "\n",
    "set_of_memory_one_s = list(itertools.product([0, 1], repeat=4))\n",
    "\n",
    "set_of_memory_two_s = list(itertools.product([0, 1], repeat=16))"
   ]
  },
  {
   "cell_type": "code",
   "execution_count": 60,
   "metadata": {},
   "outputs": [
    {
     "data": {
      "application/vnd.jupyter.widget-view+json": {
       "model_id": "a375a023d8f44696a797e86c7fd5f2df",
       "version_major": 2,
       "version_minor": 0
      },
      "text/plain": [
       "HBox(children=(FloatProgress(value=0.0, max=16.0), HTML(value='')))"
      ]
     },
     "metadata": {},
     "output_type": "display_data"
    },
    {
     "name": "stdout",
     "output_type": "stream",
     "text": [
      "player: (0, 1, 0, 1) coplayer:(1, 0, 1, 1)\n",
      "player: (0, 1, 1, 0) coplayer:(0, 1, 1, 1)\n",
      "player: (0, 1, 1, 0) coplayer:(1, 0, 1, 1)\n",
      "player: (1, 0, 1, 0) coplayer:(0, 1, 1, 1)\n",
      "\n"
     ]
    }
   ],
   "source": [
    "b, c = 2, 1\n",
    "\n",
    "for player in tqdm.tqdm_notebook(set_of_memory_one_s):\n",
    "\n",
    "    for i, coplayer in enumerate(set_of_memory_one_s):\n",
    "    \n",
    "\n",
    "        mem_one_representation = expected_memory_one_strategy(player * 4, coplayer * 4, index=0)\n",
    "\n",
    "        ss_estimated = calculate_ss_for_mem_one(player, mem_one_representation)\n",
    "\n",
    "        ss = calculate_ss_for_mem_one(player, coplayer)\n",
    "\n",
    "\n",
    "        check = False\n",
    "\n",
    "        for ss1 in ss_estimated:\n",
    "            for ss2 in ss:\n",
    "                if (np.isclose(ss1, ss2, atol=10**-3).all()):\n",
    "                    check = True\n",
    "\n",
    "        # there are going to be some failures and I am just printing them. \n",
    "        if check == False:\n",
    "            print(f\"player: {player} coplayer:{coplayer}\")"
   ]
  },
  {
   "cell_type": "code",
   "execution_count": 24,
   "metadata": {},
   "outputs": [
    {
     "data": {
      "application/vnd.jupyter.widget-view+json": {
       "model_id": "a705fb3483ac4fafa7cd47fcb31e2f2d",
       "version_major": 2,
       "version_minor": 0
      },
      "text/plain": [
       "HBox(children=(FloatProgress(value=0.0, max=16.0), HTML(value='')))"
      ]
     },
     "metadata": {},
     "output_type": "display_data"
    },
    {
     "name": "stdout",
     "output_type": "stream",
     "text": [
      "ss: [[0.01356408403394586, 0.02052100830174571, 0.2615455031443347, 0.7043694045199735]] est.:[array([ 0.3979477,  0.6020523, -0.       , -0.       ]), array([-0.        , -0.        ,  0.27077489,  0.72922511])]\n",
      "ss: [[0.5319432064876651, 0.46805679351306895, -2.444895495827138e-13, -4.896813539507592e-13]] est.:[array([-0.        , -0.        ,  0.33299367,  0.66700633])]\n",
      "ss: [[-0.025144982639419562, -0.014575956854761318, 0.5552704332377092, 0.4844505062564718]] est.:[array([0.63304098, 0.36695902, 0.        , 0.        ]), array([0.        , 0.        , 0.53405718, 0.46594282])]\n",
      "ss: [[0.8071766644137416, 0.19282333558625855, 0.0, 0.0]] est.:[array([0., 0., 0., 1.])]\n",
      "\n"
     ]
    }
   ],
   "source": [
    "b, c = 2, 1\n",
    "\n",
    "states = ['CC', 'CD', 'DC', 'DD']\n",
    "\n",
    "states_in_two_bits = [\"\".join(i[-2:]) for i in list(itertools.product(['C', 'D'], repeat=4))]\n",
    "\n",
    "for player in tqdm.tqdm_notebook(set_of_memory_one_s):\n",
    "\n",
    "    for i, coplayer in enumerate([np.random.random(16) for _ in range(10)]):\n",
    "    \n",
    "        mem_one_representation = expected_memory_one_strategy(player * 4, coplayer, index=0)\n",
    "#         print(mem_one_representation)\n",
    "\n",
    "        ss_estimated = calculate_ss_for_mem_one(player, mem_one_representation)\n",
    "\n",
    "        ss = calculate_ss_for_mem_two(player * 4, coplayer)\n",
    "        \n",
    "        ss = [[sum([s[i] for i in range(16) if states_in_two_bits[i] == state])\n",
    "                for state in states] for s in ss]\n",
    "\n",
    "\n",
    "        check = False\n",
    "\n",
    "        for ss1 in ss_estimated:\n",
    "            for ss2 in ss:\n",
    "                if (np.isclose(ss1, ss2, atol=10**-2).all()):\n",
    "                    check = True\n",
    "\n",
    "        # there are going to be some failures and I am just printing them. \n",
    "        if check == False:\n",
    "\n",
    "            print(f\"ss: {ss} est.:{ss_estimated}\")"
   ]
  },
  {
   "cell_type": "code",
   "execution_count": 25,
   "metadata": {},
   "outputs": [
    {
     "data": {
      "application/vnd.jupyter.widget-view+json": {
       "model_id": "084b07a17d6440c68f33e18817be17e1",
       "version_major": 2,
       "version_minor": 0
      },
      "text/plain": [
       "HBox(children=(FloatProgress(value=0.0, max=16.0), HTML(value='')))"
      ]
     },
     "metadata": {},
     "output_type": "display_data"
    },
    {
     "name": "stdout",
     "output_type": "stream",
     "text": [
      "\n"
     ]
    }
   ],
   "source": [
    "b, c = 2, 1\n",
    "\n",
    "states = ['CC', 'CD', 'DC', 'DD']\n",
    "\n",
    "states_in_two_bits = [\"\".join(i[-2:]) for i in list(itertools.product(['C', 'D'], repeat=4))]\n",
    "\n",
    "not_successful = []\n",
    "\n",
    "for player in tqdm.tqdm_notebook(set_of_memory_one_s):\n",
    "\n",
    "    for i, coplayer in enumerate(set_of_memory_two_s):\n",
    "    \n",
    "\n",
    "        mem_one_representation = expected_memory_one_strategy(player * 4, coplayer, index=0)\n",
    "\n",
    "        ss_estimated = calculate_ss_for_mem_one(player, mem_one_representation)\n",
    "\n",
    "        ss = calculate_ss_for_mem_two(player * 4, coplayer)\n",
    "        \n",
    "        ss = [[sum([s[i] for i in range(16) if states_in_two_bits[i] == state])\n",
    "                for state in states] for s in ss]\n",
    "\n",
    "\n",
    "        check = False\n",
    "\n",
    "        for ss1 in ss_estimated:\n",
    "            for ss2 in ss:\n",
    "                if (np.isclose(ss1, ss2, atol=10**-3).all()):\n",
    "                    check = True\n",
    "\n",
    "        # there are going to be some failures and I am just printing them. \n",
    "        if check == False:\n",
    "            not_successful.append((player, coplayer))\n",
    "#             print(f\"player: {player} coplayer:{coplayer}\")"
   ]
  },
  {
   "cell_type": "code",
   "execution_count": 64,
   "metadata": {},
   "outputs": [
    {
     "data": {
      "text/plain": [
       "((0, 1, 0, 1), (0, 0, 0, 0, 0, 0, 0, 1, 0, 0, 1, 0, 1, 0, 1, 0))"
      ]
     },
     "execution_count": 64,
     "metadata": {},
     "output_type": "execute_result"
    }
   ],
   "source": [
    "not_successful[0]"
   ]
  },
  {
   "cell_type": "code",
   "execution_count": null,
   "metadata": {},
   "outputs": [],
   "source": []
  },
  {
   "cell_type": "code",
   "execution_count": 31,
   "metadata": {},
   "outputs": [
    {
     "data": {
      "text/plain": [
       "0.0101318359375"
      ]
     },
     "execution_count": 31,
     "metadata": {},
     "output_type": "execute_result"
    }
   ],
   "source": [
    "len(not_successful) / (len(memory_two_pure_set) * len(set_of_memory_one_s))"
   ]
  },
  {
   "cell_type": "code",
   "execution_count": 159,
   "metadata": {},
   "outputs": [],
   "source": [
    "def expected_one_bit_reactive_strategy(player, coplayer, index=0):\n",
    "    \"\"\"\n",
    "    Returns the expected memory-one strategy for a memory-two\n",
    "    strategy from the player's prespective.\n",
    "    \n",
    "    This uses the method by Press and Dyson.\n",
    "    \"\"\"\n",
    "    states = ['C', 'D']\n",
    "    \n",
    "    states_in_two_bits = [\"\".join(i[-1:]) for i in list(itertools.product(['C', 'D'], repeat=4))]\n",
    "\n",
    "    ss = calculate_ss_for_mem_two(player, coplayer)\n",
    "    \n",
    "    ss = ss[index]\n",
    "    \n",
    "    coplayer = [coplayer[0],  coplayer[2],  coplayer[1],  coplayer[3],\n",
    "                 coplayer[8],  coplayer[10], coplayer[9],  coplayer[11],\n",
    "                 coplayer[4],  coplayer[6],  coplayer[5],  coplayer[7],\n",
    "                 coplayer[12], coplayer[14], coplayer[13], coplayer[15]]\n",
    "    \n",
    "    strategy = [(sum([coplayer[i] * ss[i] for i in range(16) if states_in_two_bits[i] == state]) \n",
    "                 / sum([ss[i] for i in range(16) if states_in_two_bits[i] == state]))\n",
    "                for state in states]\n",
    "\n",
    "    return [np.nan_to_num(strategy[i]) for i in [1, 0, 1, 0]]"
   ]
  },
  {
   "cell_type": "code",
   "execution_count": 160,
   "metadata": {},
   "outputs": [],
   "source": [
    "set_of_one_bit_s = [(i, j, i, j) for i, j in list(itertools.product([0, 1], repeat=2))]\n",
    "\n",
    "set_of_two_bit_s = [(i, j, i, j, k, l, k, l, \n",
    "                     i, j, i, j, k, l, k, l) for i,j, k, l in list(itertools.product([0, 1], repeat=4))]"
   ]
  },
  {
   "cell_type": "code",
   "execution_count": 161,
   "metadata": {},
   "outputs": [
    {
     "data": {
      "application/vnd.jupyter.widget-view+json": {
       "model_id": "b9cd549eb79946d69a22ff4e7365e499",
       "version_major": 2,
       "version_minor": 0
      },
      "text/plain": [
       "HBox(children=(FloatProgress(value=0.0, max=4.0), HTML(value='')))"
      ]
     },
     "metadata": {},
     "output_type": "display_data"
    },
    {
     "name": "stdout",
     "output_type": "stream",
     "text": [
      "\n"
     ]
    }
   ],
   "source": [
    "b, c = 2, 1\n",
    "\n",
    "states = ['CC', 'CD', 'DC', 'DD']\n",
    "\n",
    "states_in_two_bits = [\"\".join(i[-2:]) for i in list(itertools.product(['C', 'D'], repeat=4))]\n",
    "\n",
    "not_successful_reactive = []\n",
    "\n",
    "for player in tqdm.tqdm_notebook(set_of_one_bit_s):\n",
    "\n",
    "    for i, coplayer in enumerate(set_of_two_bit_s):\n",
    "        \n",
    "        i, j, k, l = player\n",
    "        \n",
    "        player_reshape = (i, j, i, j, k, l, k, l, \n",
    "                          i, j, i, j, k, l, k, l)\n",
    "    \n",
    "        reactive_representation = expected_one_bit_reactive_strategy(player_reshape, coplayer, index=0)\n",
    "\n",
    "        ss_estimated = calculate_ss_for_mem_one(player, reactive_representation)\n",
    "\n",
    "        ss = calculate_ss_for_mem_two(player_reshape, coplayer)\n",
    "        \n",
    "        ss = [[sum([s[i] for i in range(16) if states_in_two_bits[i] == state])\n",
    "                for state in states] for s in ss]\n",
    "\n",
    "\n",
    "        check = False\n",
    "\n",
    "        for ss1 in ss_estimated:\n",
    "            for ss2 in ss:\n",
    "                if (np.isclose(ss1, ss2, atol=10**-2).all()):\n",
    "                    check = True\n",
    "\n",
    "        # there are going to be some failures and I am just printing them. \n",
    "        if check == False:\n",
    "            not_successful_reactive.append((player, coplayer))\n",
    "\n",
    "#             print(f\"ss: {ss} est.:{ss_estimated}\")"
   ]
  },
  {
   "cell_type": "code",
   "execution_count": 162,
   "metadata": {},
   "outputs": [
    {
     "data": {
      "text/plain": [
       "[((0, 1, 0, 1), (0, 1, 0, 1, 0, 0, 0, 0, 0, 1, 0, 1, 0, 0, 0, 0)),\n",
       " ((0, 1, 0, 1), (0, 1, 0, 1, 0, 1, 0, 1, 0, 1, 0, 1, 0, 1, 0, 1)),\n",
       " ((0, 1, 0, 1), (0, 1, 0, 1, 1, 0, 1, 0, 0, 1, 0, 1, 1, 0, 1, 0)),\n",
       " ((0, 1, 0, 1), (1, 0, 1, 0, 0, 0, 0, 0, 1, 0, 1, 0, 0, 0, 0, 0)),\n",
       " ((0, 1, 0, 1), (1, 0, 1, 0, 0, 1, 0, 1, 1, 0, 1, 0, 0, 1, 0, 1)),\n",
       " ((0, 1, 0, 1), (1, 1, 1, 1, 0, 0, 0, 0, 1, 1, 1, 1, 0, 0, 0, 0)),\n",
       " ((0, 1, 0, 1), (1, 1, 1, 1, 0, 1, 0, 1, 1, 1, 1, 1, 0, 1, 0, 1)),\n",
       " ((0, 1, 0, 1), (1, 1, 1, 1, 1, 0, 1, 0, 1, 1, 1, 1, 1, 0, 1, 0)),\n",
       " ((1, 0, 1, 0), (0, 0, 0, 0, 0, 1, 0, 1, 0, 0, 0, 0, 0, 1, 0, 1)),\n",
       " ((1, 0, 1, 0), (0, 0, 0, 0, 1, 1, 1, 1, 0, 0, 0, 0, 1, 1, 1, 1)),\n",
       " ((1, 0, 1, 0), (0, 1, 0, 1, 1, 0, 1, 0, 0, 1, 0, 1, 1, 0, 1, 0)),\n",
       " ((1, 0, 1, 0), (0, 1, 0, 1, 1, 1, 1, 1, 0, 1, 0, 1, 1, 1, 1, 1)),\n",
       " ((1, 0, 1, 0), (1, 0, 1, 0, 0, 0, 0, 0, 1, 0, 1, 0, 0, 0, 0, 0)),\n",
       " ((1, 0, 1, 0), (1, 0, 1, 0, 0, 1, 0, 1, 1, 0, 1, 0, 0, 1, 0, 1)),\n",
       " ((1, 0, 1, 0), (1, 1, 1, 1, 0, 0, 0, 0, 1, 1, 1, 1, 0, 0, 0, 0)),\n",
       " ((1, 0, 1, 0), (1, 1, 1, 1, 0, 1, 0, 1, 1, 1, 1, 1, 0, 1, 0, 1)),\n",
       " ((1, 0, 1, 0), (1, 1, 1, 1, 1, 0, 1, 0, 1, 1, 1, 1, 1, 0, 1, 0)),\n",
       " ((1, 0, 1, 0), (1, 1, 1, 1, 1, 1, 1, 1, 1, 1, 1, 1, 1, 1, 1, 1)),\n",
       " ((1, 1, 1, 1), (1, 0, 1, 0, 0, 0, 0, 0, 1, 0, 1, 0, 0, 0, 0, 0)),\n",
       " ((1, 1, 1, 1), (1, 0, 1, 0, 0, 1, 0, 1, 1, 0, 1, 0, 0, 1, 0, 1)),\n",
       " ((1, 1, 1, 1), (1, 0, 1, 0, 1, 0, 1, 0, 1, 0, 1, 0, 1, 0, 1, 0)),\n",
       " ((1, 1, 1, 1), (1, 0, 1, 0, 1, 1, 1, 1, 1, 0, 1, 0, 1, 1, 1, 1)),\n",
       " ((1, 1, 1, 1), (1, 1, 1, 1, 0, 0, 0, 0, 1, 1, 1, 1, 0, 0, 0, 0)),\n",
       " ((1, 1, 1, 1), (1, 1, 1, 1, 0, 1, 0, 1, 1, 1, 1, 1, 0, 1, 0, 1)),\n",
       " ((1, 1, 1, 1), (1, 1, 1, 1, 1, 0, 1, 0, 1, 1, 1, 1, 1, 0, 1, 0)),\n",
       " ((1, 1, 1, 1), (1, 1, 1, 1, 1, 1, 1, 1, 1, 1, 1, 1, 1, 1, 1, 1))]"
      ]
     },
     "execution_count": 162,
     "metadata": {},
     "output_type": "execute_result"
    }
   ],
   "source": [
    "not_successful_reactive"
   ]
  },
  {
   "cell_type": "code",
   "execution_count": 163,
   "metadata": {},
   "outputs": [
    {
     "data": {
      "application/vnd.jupyter.widget-view+json": {
       "model_id": "2f9e733baa934d84a1c284f3aa1a3930",
       "version_major": 2,
       "version_minor": 0
      },
      "text/plain": [
       "HBox(children=(FloatProgress(value=0.0, max=4.0), HTML(value='')))"
      ]
     },
     "metadata": {},
     "output_type": "display_data"
    },
    {
     "name": "stdout",
     "output_type": "stream",
     "text": [
      "\n"
     ]
    }
   ],
   "source": [
    "b, c = 2, 1\n",
    "\n",
    "states = ['CC', 'CD', 'DC', 'DD']\n",
    "\n",
    "states_in_two_bits = [\"\".join(i[-2:]) for i in list(itertools.product(['C', 'D'], repeat=4))]\n",
    "\n",
    "not_successful_reactive = []\n",
    "\n",
    "for player in tqdm.tqdm_notebook(set_of_one_bit_s):\n",
    "\n",
    "    for i, coplayer in enumerate(set_of_memory_one_s):\n",
    "        \n",
    "        i, j, k, l = player\n",
    "        \n",
    "        player_reshape = (i, j, i, j, k, l, k, l, \n",
    "                          i, j, i, j, k, l, k, l)\n",
    "    \n",
    "        reactive_representation = expected_one_bit_reactive_strategy(player_reshape, coplayer * 4, index=0)\n",
    "        \n",
    "\n",
    "        ss_estimated = calculate_ss_for_mem_one(player, reactive_representation)\n",
    "\n",
    "        ss = calculate_ss_for_mem_two(player_reshape, coplayer * 4)\n",
    "        \n",
    "        ss = [[sum([s[i] for i in range(16) if states_in_two_bits[i] == state])\n",
    "                for state in states] for s in ss]\n",
    "\n",
    "\n",
    "        check = False\n",
    "\n",
    "        for ss1 in ss_estimated:\n",
    "            for ss2 in ss:\n",
    "                if (np.isclose(ss1 @ np.array([2, -1, 3, 0]), ss2 @ np.array([2, -1, 3, 0]), atol=10**-2).all()):\n",
    "                    check = True\n",
    "\n",
    "        # there are going to be some failures and I am just printing them. \n",
    "        if check == False:\n",
    "            not_successful_reactive.append((player, coplayer))\n",
    "\n",
    "#             print(f\"ss: {ss} est.:{ss_estimated}\")"
   ]
  },
  {
   "cell_type": "code",
   "execution_count": 164,
   "metadata": {},
   "outputs": [
    {
     "data": {
      "text/plain": [
       "[((0, 0, 0, 0), (0, 0, 0, 1)),\n",
       " ((0, 0, 0, 0), (0, 0, 1, 1)),\n",
       " ((0, 0, 0, 0), (1, 0, 0, 1)),\n",
       " ((0, 0, 0, 0), (1, 0, 1, 1)),\n",
       " ((1, 0, 1, 0), (0, 0, 0, 1)),\n",
       " ((1, 0, 1, 0), (0, 1, 1, 1)),\n",
       " ((1, 0, 1, 0), (1, 0, 0, 0)),\n",
       " ((1, 0, 1, 0), (1, 0, 0, 1)),\n",
       " ((1, 0, 1, 0), (1, 1, 0, 0)),\n",
       " ((1, 0, 1, 0), (1, 1, 0, 1)),\n",
       " ((1, 0, 1, 0), (1, 1, 1, 0)),\n",
       " ((1, 0, 1, 0), (1, 1, 1, 1)),\n",
       " ((1, 1, 1, 1), (0, 0, 1, 0)),\n",
       " ((1, 1, 1, 1), (0, 0, 1, 1)),\n",
       " ((1, 1, 1, 1), (0, 1, 1, 0)),\n",
       " ((1, 1, 1, 1), (0, 1, 1, 1)),\n",
       " ((1, 1, 1, 1), (1, 0, 1, 0)),\n",
       " ((1, 1, 1, 1), (1, 0, 1, 1)),\n",
       " ((1, 1, 1, 1), (1, 1, 1, 0)),\n",
       " ((1, 1, 1, 1), (1, 1, 1, 1))]"
      ]
     },
     "execution_count": 164,
     "metadata": {},
     "output_type": "execute_result"
    }
   ],
   "source": [
    "not_successful_reactive"
   ]
  },
  {
   "cell_type": "code",
   "execution_count": 165,
   "metadata": {},
   "outputs": [],
   "source": [
    "player = (0, 1, 0, 1)\n",
    "\n",
    "i, j, k, l = player\n",
    "\n",
    "player_reshape = (i, j, i, j, k, l, k, l, \n",
    "                  i, j, i, j, k, l, k, l)\n",
    "\n",
    "coplayer = (0, 0, 1, 0)"
   ]
  },
  {
   "cell_type": "code",
   "execution_count": 166,
   "metadata": {},
   "outputs": [],
   "source": [
    "reactive_representation = expected_one_bit_reactive_strategy(player_reshape, coplayer * 4, index=0)"
   ]
  },
  {
   "cell_type": "code",
   "execution_count": 167,
   "metadata": {},
   "outputs": [
    {
     "data": {
      "text/plain": [
       "[0.5000000000000001, 0.0, 0.5000000000000001, 0.0]"
      ]
     },
     "execution_count": 167,
     "metadata": {},
     "output_type": "execute_result"
    }
   ],
   "source": [
    "reactive_representation"
   ]
  },
  {
   "cell_type": "code",
   "execution_count": 168,
   "metadata": {},
   "outputs": [
    {
     "data": {
      "text/plain": [
       "[array([ 0.33333333,  0.33333333, -0.        ,  0.33333333])]"
      ]
     },
     "execution_count": 168,
     "metadata": {},
     "output_type": "execute_result"
    }
   ],
   "source": [
    "calculate_ss_for_mem_one(player, coplayer)"
   ]
  },
  {
   "cell_type": "code",
   "execution_count": 169,
   "metadata": {},
   "outputs": [
    {
     "data": {
      "text/plain": [
       "[array([0.22222222, 0.44444444, 0.11111111, 0.22222222])]"
      ]
     },
     "execution_count": 169,
     "metadata": {},
     "output_type": "execute_result"
    }
   ],
   "source": [
    "calculate_ss_for_mem_one(player, reactive_representation)"
   ]
  },
  {
   "cell_type": "code",
   "execution_count": 170,
   "metadata": {},
   "outputs": [],
   "source": [
    "ss = calculate_ss_for_mem_two(player_reshape, coplayer * 4)"
   ]
  },
  {
   "cell_type": "code",
   "execution_count": 171,
   "metadata": {},
   "outputs": [],
   "source": [
    "ss = ss[0]"
   ]
  },
  {
   "cell_type": "code",
   "execution_count": 172,
   "metadata": {},
   "outputs": [
    {
     "data": {
      "text/plain": [
       "[0.3333333333333333, 0.3333333333333335, 0.0, 0.3333333333333333]"
      ]
     },
     "execution_count": 172,
     "metadata": {},
     "output_type": "execute_result"
    }
   ],
   "source": [
    "[sum([ss[i] for i in range(16) if states_in_two_bits[i] == state]) for state in states]"
   ]
  },
  {
   "cell_type": "code",
   "execution_count": 155,
   "metadata": {},
   "outputs": [],
   "source": [
    "coplayer = coplayer * 4\n",
    "\n",
    "states = ['C', 'D']\n",
    "\n",
    "states_in_two_bits = [\"\".join(i[-1:]) for i in list(itertools.product(['C', 'D'], repeat=4))]\n",
    "\n",
    "ss = calculate_ss_for_mem_two(player_reshape, coplayer)\n",
    "\n",
    "ss = ss[0]\n",
    "\n",
    "coplayer = [coplayer[0],  coplayer[2],  coplayer[1],  coplayer[3],\n",
    "             coplayer[8],  coplayer[10], coplayer[9],  coplayer[11],\n",
    "             coplayer[4],  coplayer[6],  coplayer[5],  coplayer[7],\n",
    "             coplayer[12], coplayer[14], coplayer[13], coplayer[15]]\n",
    "\n",
    "strategy = [(sum([coplayer[i] * ss[i] for i in range(16) if states_in_two_bits[i] == state]) \n",
    "             / sum([ss[i] for i in range(16) if states_in_two_bits[i] == state]))\n",
    "            for state in states]"
   ]
  },
  {
   "cell_type": "code",
   "execution_count": 156,
   "metadata": {},
   "outputs": [
    {
     "data": {
      "text/plain": [
       "[0.0, 0.5000000000000001]"
      ]
     },
     "execution_count": 156,
     "metadata": {},
     "output_type": "execute_result"
    }
   ],
   "source": [
    "strategy"
   ]
  },
  {
   "cell_type": "code",
   "execution_count": 158,
   "metadata": {},
   "outputs": [
    {
     "data": {
      "text/plain": [
       "[0.3333333333333333, 0.6666666666666667]"
      ]
     },
     "execution_count": 158,
     "metadata": {},
     "output_type": "execute_result"
    }
   ],
   "source": [
    "[sum([ss[i] for i in range(16) if states_in_two_bits[i] == state]) for state in states]"
   ]
  },
  {
   "cell_type": "code",
   "execution_count": null,
   "metadata": {},
   "outputs": [],
   "source": [
    "    states = ['C', 'D']\n",
    "    \n",
    "    states_in_two_bits = [\"\".join(i[-1:]) for i in list(itertools.product(['C', 'D'], repeat=4))]\n",
    "\n",
    "    ss = calculate_ss_for_mem_two(player, coplayer)\n",
    "    \n",
    "    ss = ss[index]\n",
    "    \n",
    "    coplayer = [coplayer[0],  coplayer[2],  coplayer[1],  coplayer[3],\n",
    "                 coplayer[8],  coplayer[10], coplayer[9],  coplayer[11],\n",
    "                 coplayer[4],  coplayer[6],  coplayer[5],  coplayer[7],\n",
    "                 coplayer[12], coplayer[14], coplayer[13], coplayer[15]]\n",
    "    \n",
    "    strategy = [(sum([coplayer[i] * ss[i] for i in range(16) if states_in_two_bits[i] == state]) \n",
    "                 / sum([ss[i] for i in range(16) if states_in_two_bits[i] == state]))\n",
    "                for state in states]\n",
    "\n"
   ]
  },
  {
   "cell_type": "code",
   "execution_count": 82,
   "metadata": {},
   "outputs": [
    {
     "data": {
      "text/plain": [
       "[array([-0.        ,  0.33333333,  0.33333333,  0.33333333])]"
      ]
     },
     "execution_count": 82,
     "metadata": {},
     "output_type": "execute_result"
    }
   ],
   "source": [
    "ss = calculate_ss_for_mem_one(player, coplayer)\n",
    "\n",
    "ss"
   ]
  },
  {
   "cell_type": "code",
   "execution_count": 83,
   "metadata": {},
   "outputs": [
    {
     "data": {
      "text/plain": [
       "[array([0.11111111, 0.22222222, 0.22222222, 0.44444444])]"
      ]
     },
     "execution_count": 83,
     "metadata": {},
     "output_type": "execute_result"
    }
   ],
   "source": [
    "ss = calculate_ss_for_mem_one(player, reactive_representation)\n",
    "\n",
    "ss"
   ]
  },
  {
   "cell_type": "code",
   "execution_count": null,
   "metadata": {},
   "outputs": [],
   "source": []
  },
  {
   "cell_type": "code",
   "execution_count": 55,
   "metadata": {},
   "outputs": [
    {
     "data": {
      "text/plain": [
       "(23, 64)"
      ]
     },
     "execution_count": 55,
     "metadata": {},
     "output_type": "execute_result"
    }
   ],
   "source": [
    "len(not_successful_reactive), (len(set_of_one_bit_s) * len(set_of_two_bit_s))"
   ]
  },
  {
   "cell_type": "code",
   "execution_count": 56,
   "metadata": {},
   "outputs": [
    {
     "data": {
      "text/plain": [
       "((0, 0, 0, 0), (0, 0, 0, 0, 0, 1, 0, 1, 0, 0, 0, 0, 0, 1, 0, 1))"
      ]
     },
     "execution_count": 56,
     "metadata": {},
     "output_type": "execute_result"
    }
   ],
   "source": [
    "not_successful_reactive[0]"
   ]
  },
  {
   "cell_type": "code",
   "execution_count": 57,
   "metadata": {},
   "outputs": [],
   "source": [
    "i, j, k, l = (0, 0, 0, 0)\n",
    "\n",
    "player_reshape = (i, j, i, j, k, l, k, l, \n",
    "                  i, j, i, j, k, l, k, l)"
   ]
  },
  {
   "cell_type": "code",
   "execution_count": 58,
   "metadata": {},
   "outputs": [],
   "source": [
    "reactive_representation = expected_one_bit_reactive_strategy(player_reshape, coplayer, index=0)"
   ]
  },
  {
   "cell_type": "code",
   "execution_count": 59,
   "metadata": {},
   "outputs": [
    {
     "data": {
      "text/plain": [
       "[1.0, 0.0, 1.0, 0.0]"
      ]
     },
     "execution_count": 59,
     "metadata": {},
     "output_type": "execute_result"
    }
   ],
   "source": [
    "reactive_representation"
   ]
  },
  {
   "cell_type": "code",
   "execution_count": null,
   "metadata": {},
   "outputs": [],
   "source": []
  }
 ],
 "metadata": {
  "kernelspec": {
   "display_name": "Python 3",
   "language": "python",
   "name": "python3"
  },
  "language_info": {
   "codemirror_mode": {
    "name": "ipython",
    "version": 3
   },
   "file_extension": ".py",
   "mimetype": "text/x-python",
   "name": "python",
   "nbconvert_exporter": "python",
   "pygments_lexer": "ipython3",
   "version": "3.8.3"
  }
 },
 "nbformat": 4,
 "nbformat_minor": 4
}
