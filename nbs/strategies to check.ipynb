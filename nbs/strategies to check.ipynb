{
 "cells": [
  {
   "cell_type": "code",
   "execution_count": 4,
   "metadata": {},
   "outputs": [],
   "source": [
    "import pandas as pd\n",
    "\n",
    "import numpy as np\n",
    "\n",
    "import glob\n",
    "\n",
    "import sympy as sym"
   ]
  },
  {
   "cell_type": "code",
   "execution_count": 5,
   "metadata": {},
   "outputs": [],
   "source": [
    "import os"
   ]
  },
  {
   "cell_type": "code",
   "execution_count": 6,
   "metadata": {},
   "outputs": [],
   "source": [
    "from importlib.machinery import SourceFileLoader\n",
    "\n",
    "os.chdir('../')\n",
    "\n",
    "main = SourceFileLoader(\"main\", \"src/main.py\").load_module()\n",
    "\n",
    "from main import *"
   ]
  },
  {
   "cell_type": "code",
   "execution_count": 7,
   "metadata": {},
   "outputs": [],
   "source": [
    "eq = SourceFileLoader(\"eq\", \"src/numerical_equilibria_n_bit_vs_n_bit.py\").load_module()\n",
    "\n",
    "from eq import *"
   ]
  },
  {
   "cell_type": "code",
   "execution_count": 8,
   "metadata": {},
   "outputs": [],
   "source": [
    "os.chdir(\"nbs/\")"
   ]
  },
  {
   "cell_type": "code",
   "execution_count": 23,
   "metadata": {},
   "outputs": [],
   "source": [
    "df = pd.read_csv(\"../src/strategies_to_check.csv\", header=None, names=['S', 'i'])"
   ]
  },
  {
   "cell_type": "code",
   "execution_count": 27,
   "metadata": {},
   "outputs": [],
   "source": [
    "import itertools\n",
    "\n",
    "dimensions = 2\n",
    "\n",
    "deterministic_strategies = list(\n",
    "    itertools.product([0, 1], repeat=2 ** (2 * dimensions))\n",
    ")"
   ]
  },
  {
   "cell_type": "code",
   "execution_count": 30,
   "metadata": {},
   "outputs": [],
   "source": [
    "p_1, p_2, p_3, p_4 = sym.symbols(\"p_1, p_2, p_3, p_4\")\n",
    "\n",
    "p_1 = 1\n",
    "\n",
    "player = [p_1, p_2, p_1, p_2, p_3, p_4, p_3, p_4,\n",
    "          p_1, p_2, p_1, p_2, p_3, p_4, p_3, p_4]\n",
    "\n",
    "b, c = sym.symbols(\"b, c\")"
   ]
  },
  {
   "cell_type": "code",
   "execution_count": 28,
   "metadata": {},
   "outputs": [
    {
     "data": {
      "text/plain": [
       "8897"
      ]
     },
     "execution_count": 28,
     "metadata": {},
     "output_type": "execute_result"
    }
   ],
   "source": [
    "int(df['S'].iloc[0])"
   ]
  },
  {
   "cell_type": "code",
   "execution_count": 88,
   "metadata": {},
   "outputs": [],
   "source": [
    "expre = p_3 + p_2 - (1 + (b - c) / b)"
   ]
  },
  {
   "cell_type": "code",
   "execution_count": 94,
   "metadata": {},
   "outputs": [
    {
     "name": "stderr",
     "output_type": "stream",
     "text": [
      "<ipython-input-94-3c68f624ab80>:2: TqdmDeprecationWarning: This function will be removed in tqdm==5.0.0\n",
      "Please use `tqdm.notebook.tqdm` instead of `tqdm.tqdm_notebook`\n",
      "  for index in tqdm.tqdm_notebook(df['S'].values[:100]):\n"
     ]
    },
    {
     "data": {
      "application/vnd.jupyter.widget-view+json": {
       "model_id": "912d6ad31dca4eb99d975a97b4845d5e",
       "version_major": 2,
       "version_minor": 0
      },
      "text/plain": [
       "HBox(children=(FloatProgress(value=0.0), HTML(value='')))"
      ]
     },
     "metadata": {},
     "output_type": "display_data"
    },
    {
     "name": "stdout",
     "output_type": "stream",
     "text": [
      "\n"
     ]
    }
   ],
   "source": [
    "expres = [1]\n",
    "for index in tqdm.tqdm_notebook(df['S'].values[:100]):\n",
    "    M = calculate_M_memory_two(deterministic_strategies[int(index)], player, analytical=True)\n",
    "    \n",
    "    ss = invariant_distribution_analytically(M)\n",
    "    \n",
    "    expression = (ss @ np.array([b - c, c, b, 0] * 4))[0].factor()\n",
    "    \n",
    "    if (expres[-1] - expression) == 0:\n",
    "        pass\n",
    "    else:\n",
    "        expres.append(expression)"
   ]
  },
  {
   "cell_type": "code",
   "execution_count": 109,
   "metadata": {},
   "outputs": [
    {
     "data": {
      "text/latex": [
       "$\\displaystyle - \\frac{b p_{2}^{3} p_{3}^{2} p_{4} + b p_{2}^{3} p_{3}^{2} - 2 b p_{2}^{3} p_{3} p_{4} - 2 b p_{2}^{3} p_{3} + b p_{2}^{3} p_{4} + b p_{2}^{3} + b p_{2}^{2} p_{3}^{3} p_{4}^{2} - b p_{2}^{2} p_{3}^{3} p_{4} + b p_{2}^{2} p_{3}^{3} - b p_{2}^{2} p_{3}^{2} p_{4} - b p_{2}^{2} p_{3}^{2} + 4 b p_{2}^{2} p_{3} p_{4} - b p_{2}^{2} p_{4}^{2} - 2 b p_{2}^{2} p_{4} - b p_{2} p_{3}^{3} p_{4}^{3} + b p_{2} p_{3}^{3} p_{4}^{2} - b p_{2} p_{3}^{3} p_{4} + b p_{2} p_{3}^{2} p_{4}^{2} + b p_{2} p_{3} p_{4}^{3} - 3 b p_{2} p_{3} p_{4}^{2} + 2 b p_{2} p_{3} p_{4} - b p_{2} p_{3} - b p_{2} p_{4}^{2} + b p_{2} p_{4} - b p_{2} - b p_{3}^{2} p_{4}^{3} + b p_{3}^{2} p_{4}^{2} - b p_{3}^{2} p_{4} + b p_{3} p_{4}^{3} - 2 b p_{3} p_{4}^{2} + 2 b p_{3} p_{4} - b p_{3} - 2 c p_{2}^{2} p_{3}^{3} p_{4}^{2} + 2 c p_{2}^{2} p_{3}^{3} p_{4} - 2 c p_{2}^{2} p_{3}^{3} - 2 c p_{2}^{2} p_{3}^{2} p_{4} + 2 c p_{2}^{2} p_{3}^{2} + 2 c p_{2}^{2} p_{3} p_{4}^{2} - c p_{2}^{2} p_{3} p_{4} + c p_{2}^{2} p_{3} + c p_{2}^{2} p_{4} - c p_{2}^{2} + 2 c p_{2} p_{3}^{3} p_{4}^{3} - 2 c p_{2} p_{3}^{3} p_{4}^{2} + 2 c p_{2} p_{3}^{3} p_{4} - 2 c p_{2} p_{3}^{2} p_{4}^{3} + 4 c p_{2} p_{3}^{2} p_{4}^{2} - 4 c p_{2} p_{3}^{2} p_{4} + 2 c p_{2} p_{3}^{2} + c p_{2} p_{3} p_{4}^{3} - c p_{2} p_{3} p_{4}^{2} + 2 c p_{2} p_{3} p_{4} - c p_{2} p_{3} - c p_{2} p_{4}^{3} + 2 c p_{2} p_{4}^{2} - 3 c p_{2} p_{4} + 2 c p_{2} - c p_{3} p_{4}^{3} + c p_{3} p_{4}^{2} - c p_{3} p_{4} + c p_{4}^{3} - 2 c p_{4}^{2} + 2 c p_{4} - c}{p_{2}^{3} p_{3}^{2} p_{4} - 2 p_{2}^{3} p_{3}^{2} - 2 p_{2}^{3} p_{3} p_{4} + 4 p_{2}^{3} p_{3} + p_{2}^{3} p_{4} - 2 p_{2}^{3} - 4 p_{2}^{2} p_{3}^{2} p_{4}^{2} + 3 p_{2}^{2} p_{3}^{2} p_{4} - 2 p_{2}^{2} p_{3}^{2} + 6 p_{2}^{2} p_{3} p_{4}^{2} - 5 p_{2}^{2} p_{3} p_{4} + 3 p_{2}^{2} p_{3} - 2 p_{2}^{2} p_{4}^{2} + 2 p_{2}^{2} p_{4} - p_{2}^{2} + 3 p_{2} p_{3}^{2} p_{4}^{3} - 2 p_{2} p_{3}^{2} p_{4}^{2} + 2 p_{2} p_{3}^{2} p_{4} + p_{2} p_{3}^{2} - 5 p_{2} p_{3} p_{4}^{3} + 2 p_{2} p_{3} p_{4}^{2} - 4 p_{2} p_{3} p_{4} - p_{2} p_{3} + 2 p_{2} p_{4}^{3} + p_{2} p_{4}^{2} + p_{2} p_{4} + p_{2} + 2 p_{3} p_{4}^{3} - 2 p_{3} p_{4}^{2} + 2 p_{3} p_{4} - 2 p_{4}^{3} + 4 p_{4}^{2} - 4 p_{4} + 2}$"
      ],
      "text/plain": [
       "-(b*p_2**3*p_3**2*p_4 + b*p_2**3*p_3**2 - 2*b*p_2**3*p_3*p_4 - 2*b*p_2**3*p_3 + b*p_2**3*p_4 + b*p_2**3 + b*p_2**2*p_3**3*p_4**2 - b*p_2**2*p_3**3*p_4 + b*p_2**2*p_3**3 - b*p_2**2*p_3**2*p_4 - b*p_2**2*p_3**2 + 4*b*p_2**2*p_3*p_4 - b*p_2**2*p_4**2 - 2*b*p_2**2*p_4 - b*p_2*p_3**3*p_4**3 + b*p_2*p_3**3*p_4**2 - b*p_2*p_3**3*p_4 + b*p_2*p_3**2*p_4**2 + b*p_2*p_3*p_4**3 - 3*b*p_2*p_3*p_4**2 + 2*b*p_2*p_3*p_4 - b*p_2*p_3 - b*p_2*p_4**2 + b*p_2*p_4 - b*p_2 - b*p_3**2*p_4**3 + b*p_3**2*p_4**2 - b*p_3**2*p_4 + b*p_3*p_4**3 - 2*b*p_3*p_4**2 + 2*b*p_3*p_4 - b*p_3 - 2*c*p_2**2*p_3**3*p_4**2 + 2*c*p_2**2*p_3**3*p_4 - 2*c*p_2**2*p_3**3 - 2*c*p_2**2*p_3**2*p_4 + 2*c*p_2**2*p_3**2 + 2*c*p_2**2*p_3*p_4**2 - c*p_2**2*p_3*p_4 + c*p_2**2*p_3 + c*p_2**2*p_4 - c*p_2**2 + 2*c*p_2*p_3**3*p_4**3 - 2*c*p_2*p_3**3*p_4**2 + 2*c*p_2*p_3**3*p_4 - 2*c*p_2*p_3**2*p_4**3 + 4*c*p_2*p_3**2*p_4**2 - 4*c*p_2*p_3**2*p_4 + 2*c*p_2*p_3**2 + c*p_2*p_3*p_4**3 - c*p_2*p_3*p_4**2 + 2*c*p_2*p_3*p_4 - c*p_2*p_3 - c*p_2*p_4**3 + 2*c*p_2*p_4**2 - 3*c*p_2*p_4 + 2*c*p_2 - c*p_3*p_4**3 + c*p_3*p_4**2 - c*p_3*p_4 + c*p_4**3 - 2*c*p_4**2 + 2*c*p_4 - c)/(p_2**3*p_3**2*p_4 - 2*p_2**3*p_3**2 - 2*p_2**3*p_3*p_4 + 4*p_2**3*p_3 + p_2**3*p_4 - 2*p_2**3 - 4*p_2**2*p_3**2*p_4**2 + 3*p_2**2*p_3**2*p_4 - 2*p_2**2*p_3**2 + 6*p_2**2*p_3*p_4**2 - 5*p_2**2*p_3*p_4 + 3*p_2**2*p_3 - 2*p_2**2*p_4**2 + 2*p_2**2*p_4 - p_2**2 + 3*p_2*p_3**2*p_4**3 - 2*p_2*p_3**2*p_4**2 + 2*p_2*p_3**2*p_4 + p_2*p_3**2 - 5*p_2*p_3*p_4**3 + 2*p_2*p_3*p_4**2 - 4*p_2*p_3*p_4 - p_2*p_3 + 2*p_2*p_4**3 + p_2*p_4**2 + p_2*p_4 + p_2 + 2*p_3*p_4**3 - 2*p_3*p_4**2 + 2*p_3*p_4 - 2*p_4**3 + 4*p_4**2 - 4*p_4 + 2)"
      ]
     },
     "execution_count": 109,
     "metadata": {},
     "output_type": "execute_result"
    }
   ],
   "source": [
    "expres[13]"
   ]
  },
  {
   "cell_type": "code",
   "execution_count": 117,
   "metadata": {},
   "outputs": [],
   "source": [
    "M = calculate_M_memory_two([0, 0, 1, 1] * 4, player, analytical=True)\n",
    "\n",
    "ss = invariant_distribution_analytically(M)"
   ]
  },
  {
   "cell_type": "code",
   "execution_count": 121,
   "metadata": {},
   "outputs": [
    {
     "data": {
      "text/latex": [
       "$\\displaystyle \\frac{b p_{2} + b p_{3} - 2 b + c}{2}$"
      ],
      "text/plain": [
       "(b*p_2 + b*p_3 - 2*b + c)/2"
      ]
     },
     "execution_count": 121,
     "metadata": {},
     "output_type": "execute_result"
    }
   ],
   "source": [
    "((ss @ np.array([b - c, -c, b, 0] * 4))[0].factor() - (b - c)).factor()"
   ]
  },
  {
   "cell_type": "code",
   "execution_count": 122,
   "metadata": {},
   "outputs": [
    {
     "data": {
      "text/latex": [
       "$\\displaystyle \\frac{b p_{2} + b p_{3} - c}{2}$"
      ],
      "text/plain": [
       "(b*p_2 + b*p_3 - c)/2"
      ]
     },
     "execution_count": 122,
     "metadata": {},
     "output_type": "execute_result"
    }
   ],
   "source": [
    "(ss @ np.array([b - c, -c, b, 0] * 4))[0].factor()"
   ]
  },
  {
   "cell_type": "code",
   "execution_count": 76,
   "metadata": {},
   "outputs": [],
   "source": [
    "solution2 = sym.solve(expre, p_2)[0]"
   ]
  },
  {
   "cell_type": "code",
   "execution_count": 87,
   "metadata": {},
   "outputs": [
    {
     "data": {
      "text/latex": [
       "$\\displaystyle \\frac{- 1.6 c - 2.4}{2 - 2 c}$"
      ],
      "text/plain": [
       "(-1.6*c - 2.4)/(2 - 2*c)"
      ]
     },
     "execution_count": 87,
     "metadata": {},
     "output_type": "execute_result"
    }
   ],
   "source": [
    "solution1.subs({p_3: .2, b:2})"
   ]
  },
  {
   "cell_type": "code",
   "execution_count": 78,
   "metadata": {},
   "outputs": [
    {
     "ename": "AssertionError",
     "evalue": "",
     "output_type": "error",
     "traceback": [
      "\u001b[0;31m---------------------------------------------------------------------------\u001b[0m",
      "\u001b[0;31mAssertionError\u001b[0m                            Traceback (most recent call last)",
      "\u001b[0;32m<ipython-input-78-c2bc2666d303>\u001b[0m in \u001b[0;36m<module>\u001b[0;34m\u001b[0m\n\u001b[1;32m      4\u001b[0m     \u001b[0ms2\u001b[0m \u001b[0;34m=\u001b[0m \u001b[0msolution2\u001b[0m\u001b[0;34m.\u001b[0m\u001b[0msubs\u001b[0m\u001b[0;34m(\u001b[0m\u001b[0;34m{\u001b[0m\u001b[0mp_3\u001b[0m\u001b[0;34m:\u001b[0m \u001b[0mp3_val\u001b[0m\u001b[0;34m,\u001b[0m \u001b[0mb\u001b[0m\u001b[0;34m:\u001b[0m\u001b[0;36m2\u001b[0m\u001b[0;34m,\u001b[0m \u001b[0mc\u001b[0m\u001b[0;34m:\u001b[0m\u001b[0;36m1\u001b[0m\u001b[0;34m}\u001b[0m\u001b[0;34m)\u001b[0m\u001b[0;34m\u001b[0m\u001b[0;34m\u001b[0m\u001b[0m\n\u001b[1;32m      5\u001b[0m \u001b[0;34m\u001b[0m\u001b[0m\n\u001b[0;32m----> 6\u001b[0;31m     \u001b[0;32massert\u001b[0m \u001b[0;34m(\u001b[0m\u001b[0ms1\u001b[0m \u001b[0;34m-\u001b[0m \u001b[0ms2\u001b[0m\u001b[0;34m)\u001b[0m \u001b[0;34m==\u001b[0m\u001b[0;36m0\u001b[0m\u001b[0;34m\u001b[0m\u001b[0;34m\u001b[0m\u001b[0m\n\u001b[0m",
      "\u001b[0;31mAssertionError\u001b[0m: "
     ]
    }
   ],
   "source": [
    "for p3_val in np.linspace(0, 1, 10):\n",
    "    \n",
    "    s1 = solution1.subs({p_3: p3_val, b:2, c:1})\n",
    "    s2 = solution2.subs({p_3: p3_val, b:2, c:1})\n",
    "    \n",
    "    assert (s1 - s2) ==0"
   ]
  },
  {
   "cell_type": "code",
   "execution_count": null,
   "metadata": {},
   "outputs": [],
   "source": []
  }
 ],
 "metadata": {
  "kernelspec": {
   "display_name": "Python 3",
   "language": "python",
   "name": "python3"
  },
  "language_info": {
   "codemirror_mode": {
    "name": "ipython",
    "version": 3
   },
   "file_extension": ".py",
   "mimetype": "text/x-python",
   "name": "python",
   "nbconvert_exporter": "python",
   "pygments_lexer": "ipython3",
   "version": "3.8.3"
  }
 },
 "nbformat": 4,
 "nbformat_minor": 4
}
