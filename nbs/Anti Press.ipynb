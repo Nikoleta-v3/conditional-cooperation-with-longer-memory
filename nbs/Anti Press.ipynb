{
 "cells": [
  {
   "cell_type": "code",
   "execution_count": 25,
   "metadata": {},
   "outputs": [],
   "source": [
    "import sys  \n",
    "sys.path.insert(0, '../src/')\n",
    "\n",
    "import main\n",
    "\n",
    "import itertools\n",
    "\n",
    "import numpy as np"
   ]
  },
  {
   "cell_type": "code",
   "execution_count": 8,
   "metadata": {},
   "outputs": [],
   "source": [
    "def calculate_M_memory_two(player, coplayer):\n",
    "\n",
    "    (\n",
    "        p1,\n",
    "        p2,\n",
    "        p3,\n",
    "        p4,\n",
    "        p5,\n",
    "        p6,\n",
    "        p7,\n",
    "        p8,\n",
    "        p9,\n",
    "        p10,\n",
    "        p11,\n",
    "        p12,\n",
    "        p13,\n",
    "        p14,\n",
    "        p15,\n",
    "        p16,\n",
    "    ) = player\n",
    "    (\n",
    "        q1,\n",
    "        q2,\n",
    "        q3,\n",
    "        q4,\n",
    "        q5,\n",
    "        q6,\n",
    "        q7,\n",
    "        q8,\n",
    "        q9,\n",
    "        q10,\n",
    "        q11,\n",
    "        q12,\n",
    "        q13,\n",
    "        q14,\n",
    "        q15,\n",
    "        q16,\n",
    "    ) = coplayer\n",
    "\n",
    "    M = np.zeros((16, 16))\n",
    "\n",
    "    col, row = 0, 0\n",
    "\n",
    "    for p, q in [[p1, q1], [p2, q3], [p3, q2], [p4, q4]]:\n",
    "        for i, combo in enumerate(\n",
    "            [(p * q), ((1 - q) * p), ((1 - p) * q), ((1 - p) * (1 - q))]\n",
    "        ):\n",
    "\n",
    "            M[row, col + i] = combo\n",
    "\n",
    "        col += 4\n",
    "        row += 1\n",
    "\n",
    "    col = 0\n",
    "    for p, q in [[p5, q9], [p6, q11], [p7, q10], [p8, q12]]:\n",
    "        for i, combo in enumerate(\n",
    "            [(p * q), ((1 - q) * p), ((1 - p) * q), ((1 - p) * (1 - q))]\n",
    "        ):\n",
    "\n",
    "            M[row, col + i] = combo\n",
    "\n",
    "        col += 4\n",
    "        row += 1\n",
    "\n",
    "    col = 0\n",
    "    for p, q in [[p9, q5], [p10, q7], [p11, q6], [p12, q8]]:\n",
    "        for i, combo in enumerate(\n",
    "            [(p * q), ((1 - q) * p), ((1 - p) * q), ((1 - p) * (1 - q))]\n",
    "        ):\n",
    "\n",
    "            M[row, col + i] = combo\n",
    "\n",
    "        col += 4\n",
    "        row += 1\n",
    "\n",
    "    col = 0\n",
    "    for p, q in [[p13, q13], [p14, q15], [p15, q14], [p16, q16]]:\n",
    "        for i, combo in enumerate(\n",
    "            [(p * q), ((1 - q) * p), ((1 - p) * q), ((1 - p) * (1 - q))]\n",
    "        ):\n",
    "\n",
    "            M[row, col + i] = combo\n",
    "\n",
    "        col += 4\n",
    "        row += 1\n",
    "\n",
    "    return M\n",
    "\n",
    "\n",
    "def calculate_M(player, opponent):\n",
    "    \"\"\"\n",
    "    Returns a Markov transition matrix for a game of memory one strategies.\n",
    "    \"\"\"\n",
    "    return np.array(\n",
    "        [\n",
    "            [\n",
    "                player[0] * opponent[0],\n",
    "                player[0] * (1 - opponent[0]),\n",
    "                (1 - player[0]) * opponent[0],\n",
    "                (1 - player[0]) * (1 - opponent[0]),\n",
    "            ],\n",
    "            [\n",
    "                player[1] * opponent[2],\n",
    "                player[1] * (1 - opponent[2]),\n",
    "                (1 - player[1]) * opponent[2],\n",
    "                (1 - player[1]) * (1 - opponent[2]),\n",
    "            ],\n",
    "            [\n",
    "                player[2] * opponent[1],\n",
    "                player[2] * (1 - opponent[1]),\n",
    "                (1 - player[2]) * opponent[1],\n",
    "                (1 - player[2]) * (1 - opponent[1]),\n",
    "            ],\n",
    "            [\n",
    "                player[3] * opponent[3],\n",
    "                player[3] * (1 - opponent[3]),\n",
    "                (1 - player[3]) * opponent[3],\n",
    "                (1 - player[3]) * (1 - opponent[3]),\n",
    "            ],\n",
    "        ]\n",
    "    )\n"
   ]
  },
  {
   "cell_type": "code",
   "execution_count": 17,
   "metadata": {},
   "outputs": [],
   "source": [
    "mem_one_strategies = list(itertools.product([0, 1], repeat=4))"
   ]
  },
  {
   "cell_type": "code",
   "execution_count": 115,
   "metadata": {},
   "outputs": [],
   "source": [
    "import math"
   ]
  },
  {
   "cell_type": "code",
   "execution_count": 122,
   "metadata": {},
   "outputs": [
    {
     "name": "stdout",
     "output_type": "stream",
     "text": [
      "[0. 0. 0. 1.] [0.0, 0.0, 0.0, 1.0]\n",
      "[-0.   0.2  0.2  0.6] [0.0, 0.3333333333333333, 0.3333333333333335, 0.3333333333333333]\n",
      "[0. 0. 0. 1.] [0.0, 0.5, 0.5, 0.0]\n",
      "[0. 0. 0. 1.] [0.0, 0.5, 0.5, 0.0]\n",
      "[0. 0. 0. 1.] [0.0, 0.0, 0.0, 1.0]\n",
      "[-0.   0.2  0.2  0.6] [0.3333333333333333, 0.0, 0.3333333333333335, 0.3333333333333333]\n",
      "[0. 0. 0. 1.] [0.0, 0.0, 0.0, 1.0]\n",
      "[0.   0.25 0.25 0.5 ] [0.3333333333333333, 0.0, 0.3333333333333335, 0.3333333333333333]\n",
      "[0. 0. 0. 1.] [0.0, 0.0, 0.0, 1.0]\n",
      "[-0.   0.2  0.2  0.6] [0.0, 0.3333333333333333, 0.3333333333333335, 0.3333333333333333]\n",
      "[0. 0. 0. 1.] [0.0, 0.5, 0.5, 0.0]\n",
      "[0. 0. 0. 1.] [0.0, 0.5, 0.5, 0.0]\n",
      "[0. 0. 0. 1.] [0.5, 0.0, 0.5, 0.0]\n",
      "[0. 0. 0. 1.] [0.5, 0.0, 0.5, 0.0]\n",
      "[0. 0. 0. 1.] [0.5, 0.0, 0.5, 0.0]\n",
      "[0. 0. 0. 1.] [0.5, 0.0, 0.5, 0.0]\n"
     ]
    }
   ],
   "source": [
    "player = mem_one_strategies[2]\n",
    "\n",
    "for strategy in mem_one_strategies:\n",
    "    M = calculate_M_memory_two(player * 4, strategy * 4)\n",
    "    \n",
    "    ss = main.invariant_distribution(M)\n",
    "    \n",
    "    oooo = ss * (strategy * 4)\n",
    "    \n",
    "    proxy = [sum(np.array([oooo[i] for i in np.arange(j, 16, 4)])) for j in range(4)]\n",
    "    \n",
    "#     print(proxy, strategy)\n",
    "    \n",
    "    print(main.invariant_distribution(calculate_M(player, proxy)),\n",
    "         [sum([ss[i] for i in np.arange(j, 16, 4)]) for j in range(4)])"
   ]
  },
  {
   "cell_type": "code",
   "execution_count": 114,
   "metadata": {},
   "outputs": [
    {
     "data": {
      "text/plain": [
       "0"
      ]
     },
     "execution_count": 114,
     "metadata": {},
     "output_type": "execute_result"
    }
   ],
   "source": [
    "int(0.9)"
   ]
  },
  {
   "cell_type": "code",
   "execution_count": 16,
   "metadata": {},
   "outputs": [
    {
     "data": {
      "text/plain": [
       "256"
      ]
     },
     "execution_count": 16,
     "metadata": {},
     "output_type": "execute_result"
    }
   ],
   "source": [
    "2 ** 8"
   ]
  },
  {
   "cell_type": "code",
   "execution_count": 106,
   "metadata": {},
   "outputs": [
    {
     "data": {
      "text/plain": [
       "array([0. , 0. , 0.5, 0. , 0. , 0. , 0. , 0. , 0.5, 0. , 0. , 0. , 0. ,\n",
       "       0. , 0. , 0. ])"
      ]
     },
     "execution_count": 106,
     "metadata": {},
     "output_type": "execute_result"
    }
   ],
   "source": [
    "ss"
   ]
  },
  {
   "cell_type": "code",
   "execution_count": 108,
   "metadata": {},
   "outputs": [
    {
     "data": {
      "text/plain": [
       "(1, 1, 1, 1, 1, 1, 1, 1, 1, 1, 1, 1, 1, 1, 1, 1)"
      ]
     },
     "execution_count": 108,
     "metadata": {},
     "output_type": "execute_result"
    }
   ],
   "source": [
    "strategy * 4"
   ]
  },
  {
   "cell_type": "code",
   "execution_count": 95,
   "metadata": {},
   "outputs": [
    {
     "data": {
      "text/plain": [
       "([0.0, 0.0, 1.0, 0.0], (1, 1, 1, 1))"
      ]
     },
     "execution_count": 95,
     "metadata": {},
     "output_type": "execute_result"
    }
   ],
   "source": [
    "proxy, strategy"
   ]
  },
  {
   "cell_type": "code",
   "execution_count": 96,
   "metadata": {},
   "outputs": [
    {
     "data": {
      "text/plain": [
       "array([0., 0., 0., 0., 0., 0., 0., 0., 0., 0., 1., 0., 0., 0., 0., 0.])"
      ]
     },
     "execution_count": 96,
     "metadata": {},
     "output_type": "execute_result"
    }
   ],
   "source": [
    "ss"
   ]
  },
  {
   "cell_type": "code",
   "execution_count": 85,
   "metadata": {},
   "outputs": [
    {
     "data": {
      "text/plain": [
       "array([0. , 0. , 0. , 0. , 0. , 0. , 0. , 0. , 0. , 0. , 0. , 0.5, 0. ,\n",
       "       0. , 0.5, 0. ])"
      ]
     },
     "execution_count": 85,
     "metadata": {},
     "output_type": "execute_result"
    }
   ],
   "source": [
    "ss"
   ]
  },
  {
   "cell_type": "code",
   "execution_count": 78,
   "metadata": {},
   "outputs": [
    {
     "data": {
      "text/plain": [
       "array([0. , 0. , 0. , 0. , 0. , 0. , 0. , 0. , 0. , 0. , 0. , 0.5, 0. ,\n",
       "       0. , 0.5, 0. ])"
      ]
     },
     "execution_count": 78,
     "metadata": {},
     "output_type": "execute_result"
    }
   ],
   "source": [
    "ss"
   ]
  },
  {
   "cell_type": "code",
   "execution_count": 57,
   "metadata": {},
   "outputs": [],
   "source": [
    "M = calculate_M_memory_two(mem_one_strategies[-1] * 4, mem_one_strategies[1] * 4)"
   ]
  },
  {
   "cell_type": "code",
   "execution_count": 58,
   "metadata": {},
   "outputs": [],
   "source": [
    "ss = main.invariant_distribution(M)"
   ]
  },
  {
   "cell_type": "code",
   "execution_count": 59,
   "metadata": {},
   "outputs": [],
   "source": [
    "oooo = ss * (mem_one_strategies[1] * 4)"
   ]
  },
  {
   "cell_type": "code",
   "execution_count": 60,
   "metadata": {},
   "outputs": [
    {
     "data": {
      "text/plain": [
       "[0.0, 1.0, 0.0, 0.0]"
      ]
     },
     "execution_count": 60,
     "metadata": {},
     "output_type": "execute_result"
    }
   ],
   "source": [
    "[sum([ss[i] for i in np.arange(j, 16, 4)]) for j in range(4)]"
   ]
  },
  {
   "cell_type": "code",
   "execution_count": 61,
   "metadata": {},
   "outputs": [
    {
     "data": {
      "text/plain": [
       "[0.0, 0.0, 0.0, 0.0]"
      ]
     },
     "execution_count": 61,
     "metadata": {},
     "output_type": "execute_result"
    }
   ],
   "source": [
    "[sum([oooo[i] for i in np.arange(j, 16, 4)]) for j in range(4)]"
   ]
  },
  {
   "cell_type": "code",
   "execution_count": 62,
   "metadata": {},
   "outputs": [
    {
     "data": {
      "text/plain": [
       "(0, 0, 0, 1)"
      ]
     },
     "execution_count": 62,
     "metadata": {},
     "output_type": "execute_result"
    }
   ],
   "source": [
    "mem_one_strategies[1]"
   ]
  },
  {
   "cell_type": "code",
   "execution_count": 65,
   "metadata": {},
   "outputs": [
    {
     "data": {
      "text/plain": [
       "array([0., 1., 0., 0.])"
      ]
     },
     "execution_count": 65,
     "metadata": {},
     "output_type": "execute_result"
    }
   ],
   "source": [
    "main.invariant_distribution(calculate_M(mem_one_strategies[-1], mem_one_strategies[0]))"
   ]
  },
  {
   "cell_type": "code",
   "execution_count": null,
   "metadata": {},
   "outputs": [],
   "source": []
  }
 ],
 "metadata": {
  "kernelspec": {
   "display_name": "Python 3",
   "language": "python",
   "name": "python3"
  },
  "language_info": {
   "codemirror_mode": {
    "name": "ipython",
    "version": 3
   },
   "file_extension": ".py",
   "mimetype": "text/x-python",
   "name": "python",
   "nbconvert_exporter": "python",
   "pygments_lexer": "ipython3",
   "version": "3.7.1"
  }
 },
 "nbformat": 4,
 "nbformat_minor": 2
}
