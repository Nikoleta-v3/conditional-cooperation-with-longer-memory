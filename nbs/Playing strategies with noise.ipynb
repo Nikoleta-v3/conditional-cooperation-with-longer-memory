{
 "cells": [
  {
   "cell_type": "code",
   "execution_count": 1,
   "metadata": {},
   "outputs": [],
   "source": [
    "import itertools\n",
    "\n",
    "import numpy as np\n",
    "\n",
    "import sympy as sym"
   ]
  },
  {
   "cell_type": "code",
   "execution_count": 2,
   "metadata": {},
   "outputs": [],
   "source": [
    "b, c = sym.symbols(\"b, c\") "
   ]
  },
  {
   "cell_type": "code",
   "execution_count": 3,
   "metadata": {},
   "outputs": [],
   "source": [
    "def strategies(player, coplayer, dim, bits):\n",
    "    histories = list(itertools.product([0, 1], repeat=bits))[::-1]\n",
    "\n",
    "    strategy = {h: p for h, p in zip(histories, player)}\n",
    "\n",
    "    costrategy = {h: p for h, p in zip(histories, coplayer)}\n",
    "    \n",
    "    return strategy, costrategy"
   ]
  },
  {
   "cell_type": "code",
   "execution_count": 4,
   "metadata": {},
   "outputs": [],
   "source": [
    "def expected_payoffs(player_history, coplayer_history):\n",
    "    payoffs = {(1, 1): b - c,\n",
    "           (1, 0): -c,\n",
    "           (0, 1): b,\n",
    "           (0, 0): 0}\n",
    "    \n",
    "    pi_p = np.mean([payoffs[(i, j)] for i, j in zip(player_history, coplayer_history)])\n",
    "    pi_q = np.mean([payoffs[(i, j)] for i, j in zip(coplayer_history, player_history)])\n",
    "    \n",
    "    return pi_p, pi_q"
   ]
  },
  {
   "cell_type": "code",
   "execution_count": 25,
   "metadata": {},
   "outputs": [],
   "source": [
    "player = [0, 1, 1, 0, 0, 1, 1, 0]\n",
    "\n",
    "# rplayer = player\n",
    "\n",
    "# rplayer = [1, 0, 0, 0, 1, 0, 0, 0]\n",
    "\n",
    "coplayer = [1, 0, 0, 1, 1, 0, 0, 1]\n",
    "\n",
    "# coplayer = [1, 0, 0, 0, 0, 0, 0, 0]\n",
    "\n",
    "dim = 8\n",
    "\n",
    "bits = 3\n",
    "\n",
    "strategy, costrategy = strategies(player, coplayer, dim, bits)"
   ]
  },
  {
   "cell_type": "code",
   "execution_count": null,
   "metadata": {},
   "outputs": [],
   "source": []
  },
  {
   "cell_type": "code",
   "execution_count": 26,
   "metadata": {},
   "outputs": [
    {
     "data": {
      "text/plain": [
       "{(1, 1, 1): 0,\n",
       " (1, 1, 0): 1,\n",
       " (1, 0, 1): 1,\n",
       " (1, 0, 0): 0,\n",
       " (0, 1, 1): 0,\n",
       " (0, 1, 0): 1,\n",
       " (0, 0, 1): 1,\n",
       " (0, 0, 0): 0}"
      ]
     },
     "execution_count": 26,
     "metadata": {},
     "output_type": "execute_result"
    }
   ],
   "source": [
    "strategy"
   ]
  },
  {
   "cell_type": "code",
   "execution_count": 27,
   "metadata": {},
   "outputs": [],
   "source": [
    "turns = 10  ** 3\n",
    "actions_of_coplayer = [1, 1, 1]\n",
    "actions_of_player = [1, 1, 1]\n",
    "\n",
    "\n",
    "for i in range(turns):\n",
    "    k = costrategy[tuple(actions_of_player[-bits:])]\n",
    "    l = strategy[tuple(actions_of_coplayer[-bits:])]\n",
    "\n",
    "    actions_of_coplayer.append(k)\n",
    "    actions_of_player.append(l)"
   ]
  },
  {
   "cell_type": "code",
   "execution_count": 28,
   "metadata": {},
   "outputs": [
    {
     "data": {
      "text/plain": [
       "[1, 1, 1, 0, 0, 1, 1, 1, 1, 0, 0, 1, 1, 1, 1]"
      ]
     },
     "execution_count": 28,
     "metadata": {},
     "output_type": "execute_result"
    }
   ],
   "source": [
    "actions_of_player[:15]"
   ]
  },
  {
   "cell_type": "code",
   "execution_count": 36,
   "metadata": {},
   "outputs": [
    {
     "data": {
      "text/plain": [
       "[1, 1, 1, 1, 0, 1, 0, 1, 1, 1, 0, 1, 0, 1, 1]"
      ]
     },
     "execution_count": 36,
     "metadata": {},
     "output_type": "execute_result"
    }
   ],
   "source": [
    "actions_of_coplayer[:15]"
   ]
  },
  {
   "cell_type": "code",
   "execution_count": 39,
   "metadata": {},
   "outputs": [
    {
     "data": {
      "text/plain": [
       "[1, 1, 1, 1, 0, 0, 1, 1, 1, 1, 0, 0, 1, 1]"
      ]
     },
     "execution_count": 39,
     "metadata": {},
     "output_type": "execute_result"
    }
   ],
   "source": [
    "actions_of_player[-14:]"
   ]
  },
  {
   "cell_type": "code",
   "execution_count": 40,
   "metadata": {},
   "outputs": [
    {
     "data": {
      "text/plain": [
       "[1, 0, 1, 1, 1, 0, 1, 0, 1, 1, 1, 0, 1, 0]"
      ]
     },
     "execution_count": 40,
     "metadata": {},
     "output_type": "execute_result"
    }
   ],
   "source": [
    "actions_of_coplayer[-14:]"
   ]
  },
  {
   "cell_type": "code",
   "execution_count": 145,
   "metadata": {},
   "outputs": [],
   "source": [
    "# actions_of_coplayer, actions_of_player"
   ]
  },
  {
   "cell_type": "code",
   "execution_count": 46,
   "metadata": {},
   "outputs": [],
   "source": [
    "player = [0, 1, 1, 0, 0, 1, 1, 0, 0, 1, 1, 0, 0, 1, 1, 0]\n",
    "\n",
    "# rplayer = player\n",
    "\n",
    "coplayer = [1, 0, 0, 1, 1, 0, 0, 1, 1, 0, 0, 1, 1, 0, 0, 1]\n",
    "\n",
    "# coplayer = [1, 0, 0, 0, 0, 0, 0, 0]\n",
    "\n",
    "dim = 16\n",
    "\n",
    "bits = 4\n",
    "\n",
    "\n",
    "strategy, costrategy = strategies(player, coplayer, dim, bits)"
   ]
  },
  {
   "cell_type": "code",
   "execution_count": 47,
   "metadata": {},
   "outputs": [],
   "source": [
    "# strategy = {\n",
    "#  (1, 1, 1, 1): 1,\n",
    "#  (1, 1, 1, 0): 1,\n",
    "#  (1, 1, 0, 1): 1,\n",
    "#  (1, 1, 0, 0): 1,\n",
    "#  (1, 0, 1, 1): 1,\n",
    "#  (1, 0, 1, 0): 1,\n",
    "#  (1, 0, 0, 1): 1,\n",
    "#  (1, 0, 0, 0): 0,\n",
    "#  (0, 1, 1, 1): 1,\n",
    "#  (0, 1, 1, 0): 0,\n",
    "#  (0, 1, 0, 1): 0,\n",
    "#  (0, 1, 0, 0): 0,\n",
    "#  (0, 0, 1, 1): 0,\n",
    "#  (0, 0, 1, 0): 0,\n",
    "#  (0, 0, 0, 1): 0,\n",
    "#  (0, 0, 0, 0): 0}"
   ]
  },
  {
   "cell_type": "code",
   "execution_count": 48,
   "metadata": {},
   "outputs": [],
   "source": [
    "# costrategy = strategy"
   ]
  },
  {
   "cell_type": "code",
   "execution_count": 54,
   "metadata": {},
   "outputs": [],
   "source": [
    "turns = 10  ** 3\n",
    "actions_of_coplayer = [1, 1, 1, 1, 0]\n",
    "actions_of_player = [1, 1, 1, 1, 0]\n",
    "\n",
    "\n",
    "for i in range(turns):\n",
    "    k = costrategy[tuple(actions_of_player[-bits:])]\n",
    "    l = strategy[tuple(actions_of_coplayer[-bits:])]\n",
    "\n",
    "    actions_of_coplayer.append(k)\n",
    "    actions_of_player.append(l)"
   ]
  },
  {
   "cell_type": "code",
   "execution_count": 55,
   "metadata": {},
   "outputs": [
    {
     "data": {
      "text/plain": [
       "[1, 1, 1, 1, 0, 1, 0, 0, 0, 1, 0, 1, 0, 0, 0]"
      ]
     },
     "execution_count": 55,
     "metadata": {},
     "output_type": "execute_result"
    }
   ],
   "source": [
    "actions_of_player[:15]"
   ]
  },
  {
   "cell_type": "code",
   "execution_count": 56,
   "metadata": {},
   "outputs": [
    {
     "data": {
      "text/plain": [
       "[1, 1, 1, 1, 0, 0, 0, 0, 1, 1, 0, 0, 0, 0, 1]"
      ]
     },
     "execution_count": 56,
     "metadata": {},
     "output_type": "execute_result"
    }
   ],
   "source": [
    "actions_of_coplayer[:15]"
   ]
  },
  {
   "cell_type": "code",
   "execution_count": 57,
   "metadata": {},
   "outputs": [
    {
     "data": {
      "text/plain": [
       "[0, 0, 0, 1, 0, 1, 0, 0, 0, 1, 0, 1, 0, 0, 0]"
      ]
     },
     "execution_count": 57,
     "metadata": {},
     "output_type": "execute_result"
    }
   ],
   "source": [
    "actions_of_player[-15:]"
   ]
  },
  {
   "cell_type": "code",
   "execution_count": 58,
   "metadata": {},
   "outputs": [
    {
     "data": {
      "text/plain": [
       "[0, 0, 1, 1, 0, 0, 0, 0, 1, 1, 0, 0, 0, 0, 1]"
      ]
     },
     "execution_count": 58,
     "metadata": {},
     "output_type": "execute_result"
    }
   ],
   "source": [
    "actions_of_coplayer[-15:]"
   ]
  },
  {
   "cell_type": "code",
   "execution_count": null,
   "metadata": {},
   "outputs": [],
   "source": []
  },
  {
   "cell_type": "code",
   "execution_count": null,
   "metadata": {},
   "outputs": [],
   "source": []
  }
 ],
 "metadata": {
  "kernelspec": {
   "display_name": "axelrod",
   "language": "python",
   "name": "axelrod"
  },
  "language_info": {
   "codemirror_mode": {
    "name": "ipython",
    "version": 3
   },
   "file_extension": ".py",
   "mimetype": "text/x-python",
   "name": "python",
   "nbconvert_exporter": "python",
   "pygments_lexer": "ipython3",
   "version": "3.7.9"
  }
 },
 "nbformat": 4,
 "nbformat_minor": 4
}
