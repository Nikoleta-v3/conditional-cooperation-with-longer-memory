{
 "cells": [
  {
   "cell_type": "code",
   "execution_count": 1,
   "metadata": {},
   "outputs": [],
   "source": [
    "import pandas as pd\n",
    "\n",
    "import numpy as np\n",
    "\n",
    "import glob\n",
    "\n",
    "import sympy as sym"
   ]
  },
  {
   "cell_type": "code",
   "execution_count": 2,
   "metadata": {},
   "outputs": [],
   "source": []
  },
  {
   "cell_type": "code",
   "execution_count": 3,
   "metadata": {},
   "outputs": [],
   "source": [
    "import os\n",
    "\n",
    "from importlib.machinery import SourceFileLoader\n",
    "\n",
    "os.chdir('../')\n",
    "\n",
    "main = SourceFileLoader(\"main\", \"src/main.py\").load_module()\n",
    "\n",
    "from main import *"
   ]
  },
  {
   "cell_type": "code",
   "execution_count": 4,
   "metadata": {},
   "outputs": [],
   "source": [
    "eq = SourceFileLoader(\"eq\", \"src/numerical_equilibria_n_bit_vs_n_bit.py\").load_module()\n",
    "\n",
    "from eq import *"
   ]
  },
  {
   "cell_type": "code",
   "execution_count": 5,
   "metadata": {},
   "outputs": [],
   "source": [
    "os.chdir(\"nbs/\")"
   ]
  },
  {
   "cell_type": "code",
   "execution_count": null,
   "metadata": {},
   "outputs": [],
   "source": [
    "files = glob.glob(\"../ada/two_bit_against_memory_two/*.csv\")"
   ]
  },
  {
   "cell_type": "code",
   "execution_count": null,
   "metadata": {},
   "outputs": [],
   "source": [
    "columns = (\n",
    "    [\"\", \"ID\"]\n",
    "    + [f\"p{i+1}\" for i in range(16)]\n",
    "    + [\"label\", \"Sp\", \"Sq\", \"condition A\", \"condition B\", \"c\", \"b\"]\n",
    ")\n",
    "\n",
    "dfs = [pd.read_csv(file, index_col=0, names=columns) for file in files]\n",
    "\n",
    "df = pd.concat(dfs)"
   ]
  },
  {
   "cell_type": "code",
   "execution_count": 6,
   "metadata": {},
   "outputs": [],
   "source": [
    "files = glob.glob(\"../ada/memory_two_against_memory_two/*.csv\")\n",
    "\n",
    "columns = (\n",
    "    [\"\", \"ID\"]\n",
    "    + [f\"p{i+1}\" for i in range(16)]\n",
    "    + [\"label\", \"Sp\", \"Sq\", \"condition A\", \"condition B\", \"c\", \"b\"]\n",
    ")\n",
    "\n",
    "dfs = [pd.read_csv(file, index_col=0, names=columns) for file in files]\n",
    "\n",
    "df2 = pd.concat(dfs)"
   ]
  },
  {
   "cell_type": "code",
   "execution_count": 8,
   "metadata": {},
   "outputs": [],
   "source": [
    "# df.to_csv(\"../ada/two_bit_against_memory_two_merged.csv\")"
   ]
  },
  {
   "cell_type": "markdown",
   "metadata": {},
   "source": [
    "**Equilibria and not**"
   ]
  },
  {
   "cell_type": "code",
   "execution_count": 7,
   "metadata": {},
   "outputs": [],
   "source": [
    "def seperate_equilibria_and_non(df):\n",
    "    per_player = df.groupby('ID')['condition A'].all()\n",
    "\n",
    "    eq_players_ID = per_player[per_player == True].index\n",
    "\n",
    "    noneq_players_ID = per_player[per_player == False].index\n",
    "    \n",
    "    return df[df['ID'].isin(eq_players_ID)], df[df['ID'].isin(noneq_players_ID)]"
   ]
  },
  {
   "cell_type": "code",
   "execution_count": 8,
   "metadata": {},
   "outputs": [],
   "source": [
    "eqmemtwo, noneqmemtwo = seperate_equilibria_and_non(df2)"
   ]
  },
  {
   "cell_type": "code",
   "execution_count": null,
   "metadata": {},
   "outputs": [],
   "source": [
    "df['ID'].nunique(), eqmemtwo['ID'].nunique(), noneqmemtwo['ID'].nunique()"
   ]
  },
  {
   "cell_type": "code",
   "execution_count": 11,
   "metadata": {},
   "outputs": [
    {
     "data": {
      "text/plain": [
       "(922, 387, 535)"
      ]
     },
     "execution_count": 11,
     "metadata": {},
     "output_type": "execute_result"
    }
   ],
   "source": [
    "df2['ID'].nunique(), eqmemtwo['ID'].nunique(), noneqmemtwo['ID'].nunique()"
   ]
  },
  {
   "cell_type": "markdown",
   "metadata": {},
   "source": [
    "**The smallest set that explains equilibria**"
   ]
  },
  {
   "cell_type": "code",
   "execution_count": 9,
   "metadata": {},
   "outputs": [],
   "source": [
    "import itertools\n",
    "import collections\n",
    "\n",
    "dimensions = 2\n",
    "\n",
    "deterministic_strategies = list(\n",
    "    itertools.product([0, 1], repeat=2 ** (2 * dimensions))\n",
    ")"
   ]
  },
  {
   "cell_type": "code",
   "execution_count": 10,
   "metadata": {},
   "outputs": [],
   "source": [
    "groups = noneqmemtwo[noneqmemtwo['condition A'] == False].groupby('ID')\n",
    "\n",
    "sets, ids = [], []\n",
    "\n",
    "for i, group in groups:\n",
    "    sets.append(group['label'].values)\n",
    "    ids.append(group['ID'].unique())"
   ]
  },
  {
   "cell_type": "code",
   "execution_count": 11,
   "metadata": {},
   "outputs": [],
   "source": []
  },
  {
   "cell_type": "code",
   "execution_count": 12,
   "metadata": {},
   "outputs": [
    {
     "data": {
      "text/plain": [
       "535"
      ]
     },
     "execution_count": 12,
     "metadata": {},
     "output_type": "execute_result"
    }
   ],
   "source": [
    "len(sets)"
   ]
  },
  {
   "cell_type": "code",
   "execution_count": 13,
   "metadata": {},
   "outputs": [],
   "source": [
    "flat_list = [item for sublist in sets for item in sublist]"
   ]
  },
  {
   "cell_type": "code",
   "execution_count": 14,
   "metadata": {},
   "outputs": [],
   "source": [
    "count = collections.Counter(flat_list)"
   ]
  },
  {
   "cell_type": "code",
   "execution_count": 17,
   "metadata": {},
   "outputs": [
    {
     "data": {
      "text/plain": [
       "441"
      ]
     },
     "execution_count": 17,
     "metadata": {},
     "output_type": "execute_result"
    }
   ],
   "source": [
    "max(count.values())"
   ]
  },
  {
   "cell_type": "code",
   "execution_count": 19,
   "metadata": {},
   "outputs": [
    {
     "data": {
      "text/plain": [
       "39413"
      ]
     },
     "execution_count": 19,
     "metadata": {},
     "output_type": "execute_result"
    }
   ],
   "source": [
    "len((count.keys()))"
   ]
  },
  {
   "cell_type": "code",
   "execution_count": 22,
   "metadata": {},
   "outputs": [],
   "source": [
    "remaining = [s for s in sets if ('N0' not in s)]"
   ]
  },
  {
   "cell_type": "code",
   "execution_count": 23,
   "metadata": {},
   "outputs": [],
   "source": [
    "flat_list = [item for sublist in remaining for item in sublist]"
   ]
  },
  {
   "cell_type": "code",
   "execution_count": 24,
   "metadata": {},
   "outputs": [],
   "source": [
    "count = collections.Counter(flat_list)"
   ]
  },
  {
   "cell_type": "code",
   "execution_count": 25,
   "metadata": {},
   "outputs": [
    {
     "data": {
      "text/plain": [
       "35766"
      ]
     },
     "execution_count": 25,
     "metadata": {},
     "output_type": "execute_result"
    }
   ],
   "source": [
    "len((count.keys()))"
   ]
  },
  {
   "cell_type": "code",
   "execution_count": 20,
   "metadata": {},
   "outputs": [],
   "source": [
    "search_parameters = [(51, 36),\n",
    " (50, 97),\n",
    " (49, 35),\n",
    " (48, 37),\n",
    " (47, 25),\n",
    " (46, 42),\n",
    " (45, 32),\n",
    " (44, 4),\n",
    " (43, 6),\n",
    " (42, 83),\n",
    " (41, 54),\n",
    " (40, 60),\n",
    " (39, 24),\n",
    " (38, 77),\n",
    " (37, 34),\n",
    " (36, 51),\n",
    " (35, 83),\n",
    " (34, 79),\n",
    " (33, 72),\n",
    " (32, 68),\n",
    " (31, 221),\n",
    " (30, 232),\n",
    " (29, 415),\n",
    " (28, 200),\n",
    " (27, 210),\n",
    " (26, 189),\n",
    " (25, 214),\n",
    " (24, 259),\n",
    " (23, 246),\n",
    " (22, 282)]"
   ]
  },
  {
   "cell_type": "code",
   "execution_count": 21,
   "metadata": {},
   "outputs": [
    {
     "data": {
      "text/plain": [
       "3467"
      ]
     },
     "execution_count": 21,
     "metadata": {},
     "output_type": "execute_result"
    }
   ],
   "source": [
    "sum(k[1] for k in search_parameters)"
   ]
  },
  {
   "cell_type": "code",
   "execution_count": 16,
   "metadata": {},
   "outputs": [],
   "source": [
    "remaining = [s for s in sets if ('N0' not in s) and ('N1' not in s) \n",
    "             and ('N12306' not in s) and ('N1045' not in s)\n",
    "             and ('N8194' not in s) and ('N17' not in s)\n",
    "             and ('N9333' not in s) and ('N8969' not in s)\n",
    "             and ('N19484' not in s) and ('N8227' not in s)\n",
    "             and (\"N2061\" not in s) and ('N8833' not in s)]"
   ]
  },
  {
   "cell_type": "code",
   "execution_count": 273,
   "metadata": {},
   "outputs": [],
   "source": [
    "remaining = [s for s in sets if ('N0' not in s)]"
   ]
  },
  {
   "cell_type": "code",
   "execution_count": 274,
   "metadata": {},
   "outputs": [],
   "source": [
    "flat_list = [item for sublist in remaining for item in sublist]"
   ]
  },
  {
   "cell_type": "code",
   "execution_count": 279,
   "metadata": {},
   "outputs": [],
   "source": [
    "strategies = list(set(flat_list))"
   ]
  },
  {
   "cell_type": "code",
   "execution_count": 281,
   "metadata": {},
   "outputs": [],
   "source": [
    "strategies = sorted(strategies)"
   ]
  },
  {
   "cell_type": "code",
   "execution_count": 282,
   "metadata": {},
   "outputs": [],
   "source": [
    "explains = []\n",
    "\n",
    "for strategy in strategies:\n",
    "\n",
    "    sets_explains = [i for i, s in enumerate(remaining) if strategy in s]\n",
    "\n",
    "    explains.append(sets_explains)"
   ]
  },
  {
   "cell_type": "code",
   "execution_count": 283,
   "metadata": {},
   "outputs": [
    {
     "data": {
      "text/plain": [
       "35766"
      ]
     },
     "execution_count": 283,
     "metadata": {},
     "output_type": "execute_result"
    }
   ],
   "source": [
    "len(explains)"
   ]
  },
  {
   "cell_type": "code",
   "execution_count": 284,
   "metadata": {},
   "outputs": [],
   "source": [
    "df = pd.DataFrame(explains)\n",
    "\n",
    "df.to_csv(f\"sets_per_strategy.csv\", index=False)"
   ]
  },
  {
   "cell_type": "code",
   "execution_count": 267,
   "metadata": {},
   "outputs": [],
   "source": [
    "int_remaining = [[int(element.split(\"N\")[-1]) for element in s ] for s in remaining]"
   ]
  },
  {
   "cell_type": "code",
   "execution_count": 269,
   "metadata": {},
   "outputs": [
    {
     "data": {
      "text/plain": [
       "65536"
      ]
     },
     "execution_count": 269,
     "metadata": {},
     "output_type": "execute_result"
    }
   ],
   "source": [
    "len(deterministic_strategies)"
   ]
  },
  {
   "cell_type": "code",
   "execution_count": 270,
   "metadata": {},
   "outputs": [],
   "source": [
    "flat_list = [item for sublist in int_remaining for item in sublist]"
   ]
  },
  {
   "cell_type": "code",
   "execution_count": 271,
   "metadata": {},
   "outputs": [
    {
     "data": {
      "text/plain": [
       "35766"
      ]
     },
     "execution_count": 271,
     "metadata": {},
     "output_type": "execute_result"
    }
   ],
   "source": [
    "len(set(flat_list))"
   ]
  },
  {
   "cell_type": "code",
   "execution_count": 99,
   "metadata": {},
   "outputs": [],
   "source": [
    "flat_list = [item for sublist in remaining for item in sublist]\n",
    "\n",
    "counter = collections.Counter(flat_list)"
   ]
  },
  {
   "cell_type": "code",
   "execution_count": 102,
   "metadata": {},
   "outputs": [],
   "source": [
    "of_sets = []\n",
    "\n",
    "for value in set(counter.values()):\n",
    "    \n",
    "    strategies = [key for key, count in zip(counter.keys(), counter.values()) if count == value]\n",
    "    \n",
    "    of_sets.append(set(strategies))"
   ]
  },
  {
   "cell_type": "code",
   "execution_count": 106,
   "metadata": {},
   "outputs": [
    {
     "data": {
      "text/plain": [
       "35766"
      ]
     },
     "execution_count": 106,
     "metadata": {},
     "output_type": "execute_result"
    }
   ],
   "source": [
    "sum([len(list(s)) for s in of_sets])"
   ]
  },
  {
   "cell_type": "code",
   "execution_count": 107,
   "metadata": {},
   "outputs": [
    {
     "data": {
      "text/plain": [
       "35766"
      ]
     },
     "execution_count": 107,
     "metadata": {},
     "output_type": "execute_result"
    }
   ],
   "source": [
    "strategies_flat = [item for sublist in of_sets for item in sublist]\n",
    "\n",
    "len(set(strategies_flat))"
   ]
  },
  {
   "cell_type": "code",
   "execution_count": 157,
   "metadata": {},
   "outputs": [],
   "source": [
    "random.seed(0)\n",
    "random.choice?"
   ]
  },
  {
   "cell_type": "code",
   "execution_count": 160,
   "metadata": {},
   "outputs": [
    {
     "data": {
      "application/vnd.jupyter.widget-view+json": {
       "model_id": "245614bef10f46838ab66635d8e29b96",
       "version_major": 2,
       "version_minor": 0
      },
      "text/plain": [
       "HBox(children=(FloatProgress(value=0.0, max=500.0), HTML(value='')))"
      ]
     },
     "metadata": {},
     "output_type": "display_data"
    },
    {
     "name": "stdout",
     "output_type": "stream",
     "text": [
      "\n"
     ]
    }
   ],
   "source": [
    "data = []\n",
    "\n",
    "for i in tqdm.notebook.tqdm(range(500)):\n",
    " \n",
    "    random.seed(i)\n",
    "    chosen_strategies = [random.choice(list(s), ) for s in of_sets]\n",
    "\n",
    "    explains = []\n",
    "\n",
    "    for strategy in chosen_strategies:\n",
    "\n",
    "        strategy_explains = [i for i, s in enumerate(remaining) if strategy in s]\n",
    "\n",
    "        explains.append(strategy_explains)\n",
    "        \n",
    "    indices = [item for sublist in explains for item in sublist]\n",
    "    \n",
    "    if len(set(indices)) > 85:\n",
    "        \n",
    "        data.append((len(set(indices)), i, chosen_strategies))"
   ]
  },
  {
   "cell_type": "code",
   "execution_count": 163,
   "metadata": {},
   "outputs": [
    {
     "data": {
      "text/plain": [
       "2"
      ]
     },
     "execution_count": 163,
     "metadata": {},
     "output_type": "execute_result"
    }
   ],
   "source": [
    "np.argmax([d[0] for d in data])"
   ]
  },
  {
   "cell_type": "code",
   "execution_count": 205,
   "metadata": {},
   "outputs": [
    {
     "data": {
      "text/plain": [
       "[2, 23, 34, 70, 103]"
      ]
     },
     "execution_count": 205,
     "metadata": {},
     "output_type": "execute_result"
    }
   ],
   "source": [
    "[i for i, d in enumerate(data) if d[0] == 91]"
   ]
  },
  {
   "cell_type": "code",
   "execution_count": 221,
   "metadata": {},
   "outputs": [
    {
     "data": {
      "application/vnd.jupyter.widget-view+json": {
       "model_id": "ead57e553d3e4403b0db34299d2de30f",
       "version_major": 2,
       "version_minor": 0
      },
      "text/plain": [
       "HBox(children=(FloatProgress(value=1.0, bar_style='info', max=1.0), HTML(value='')))"
      ]
     },
     "metadata": {},
     "output_type": "display_data"
    },
    {
     "name": "stdout",
     "output_type": "stream",
     "text": [
      "\n"
     ]
    }
   ],
   "source": [
    "the_left_out_indices = []\n",
    "\n",
    "num_of_indices = []\n",
    "\n",
    "for i, d in tqdm.notebook.tqdm(enumerate(data)):\n",
    "    \n",
    "    chosen_strategies = d[-1]\n",
    "    \n",
    "    explains = []\n",
    "\n",
    "    for strategy in chosen_strategies:\n",
    "\n",
    "        strategy_explains = [i for i, s in enumerate(remaining) if strategy in s]\n",
    "\n",
    "        explains.append(strategy_explains)\n",
    "        \n",
    "    indices = [item for sublist in explains for item in sublist]\n",
    "    \n",
    "    the_left_out_indices.append(set([i for i in range(94)]).difference(set(indices)))\n",
    "    \n",
    "    df = pd.DataFrame(explains)\n",
    "\n",
    "    df.to_csv(f\"sets_{i}.csv\", index=False)\n",
    "    \n",
    "    import pandas as pd\n",
    "\n",
    "    df = pd.read_csv(f\"sets_{i}.csv\")\n",
    "    \n",
    "    strategies = list(np.unique(df.values))[:-1]\n",
    "\n",
    "    to_check = list(range(0, 50))\n",
    "\n",
    "    explain = []\n",
    "    the_max_set = list(df.iloc[-1].dropna().values)\n",
    "\n",
    "\n",
    "    while (len(the_max_set) == len(strategies)) == False:\n",
    "        Is = []\n",
    "        for i in strategies:\n",
    "            if i in the_max_set:\n",
    "                pass\n",
    "            else:\n",
    "                Is.append(i)\n",
    "\n",
    "\n",
    "        potential = []\n",
    "        indices = []\n",
    "\n",
    "        for j in to_check:\n",
    "            for i in Is:\n",
    "                if i in df.iloc[j].values:\n",
    "                    indices.append(j)\n",
    "                    potential.append(df.iloc[j].dropna().values)\n",
    "\n",
    "        lengths = [len(set(list(the_max_set) + list(p))) for p in potential]\n",
    "\n",
    "\n",
    "        index = indices[np.argmax(lengths)]\n",
    "        to_check.remove(index)\n",
    "\n",
    "        explain.append(index)\n",
    "\n",
    "        the_max_set = list(set(list(the_max_set) + list(df.iloc[index].dropna().values)))\n",
    "        \n",
    "    num_of_indices.append(len(explain))"
   ]
  },
  {
   "cell_type": "code",
   "execution_count": 223,
   "metadata": {},
   "outputs": [
    {
     "data": {
      "text/plain": [
       "35"
      ]
     },
     "execution_count": 223,
     "metadata": {},
     "output_type": "execute_result"
    }
   ],
   "source": [
    "np.argmin(num_of_indices)"
   ]
  },
  {
   "cell_type": "code",
   "execution_count": 261,
   "metadata": {},
   "outputs": [
    {
     "data": {
      "text/plain": [
       "9"
      ]
     },
     "execution_count": 261,
     "metadata": {},
     "output_type": "execute_result"
    }
   ],
   "source": [
    "num_of_indices[16]"
   ]
  },
  {
   "cell_type": "code",
   "execution_count": 224,
   "metadata": {},
   "outputs": [
    {
     "data": {
      "text/plain": [
       "{19, 26, 28, 40, 50, 52, 68, 80}"
      ]
     },
     "execution_count": 224,
     "metadata": {},
     "output_type": "execute_result"
    }
   ],
   "source": [
    "the_left_out_indices[35]"
   ]
  },
  {
   "cell_type": "code",
   "execution_count": null,
   "metadata": {},
   "outputs": [],
   "source": [
    "19, 28, 52, 68"
   ]
  },
  {
   "cell_type": "code",
   "execution_count": 241,
   "metadata": {},
   "outputs": [],
   "source": [
    "a = set.intersection(*[set(remaining[26]), set(remaining[80]), set(remaining[50])])"
   ]
  },
  {
   "cell_type": "code",
   "execution_count": 253,
   "metadata": {},
   "outputs": [
    {
     "data": {
      "text/plain": [
       "set()"
      ]
     },
     "execution_count": 253,
     "metadata": {},
     "output_type": "execute_result"
    }
   ],
   "source": [
    "set.intersection(*[set(remaining[52]), set(remaining[68])])"
   ]
  },
  {
   "cell_type": "code",
   "execution_count": 206,
   "metadata": {},
   "outputs": [],
   "source": [
    "chosen_strategies = data[23][-1]"
   ]
  },
  {
   "cell_type": "code",
   "execution_count": 207,
   "metadata": {},
   "outputs": [],
   "source": [
    "explains = []\n",
    "\n",
    "for strategy in chosen_strategies:\n",
    "\n",
    "    strategy_explains = [i for i, s in enumerate(remaining) if strategy in s]\n",
    "\n",
    "    explains.append(strategy_explains)"
   ]
  },
  {
   "cell_type": "code",
   "execution_count": 208,
   "metadata": {},
   "outputs": [],
   "source": [
    "indices = [item for sublist in explains for item in sublist]"
   ]
  },
  {
   "cell_type": "code",
   "execution_count": 209,
   "metadata": {},
   "outputs": [
    {
     "data": {
      "text/plain": [
       "91"
      ]
     },
     "execution_count": 209,
     "metadata": {},
     "output_type": "execute_result"
    }
   ],
   "source": [
    "len(set(indices))"
   ]
  },
  {
   "cell_type": "code",
   "execution_count": 210,
   "metadata": {},
   "outputs": [],
   "source": [
    "df = pd.DataFrame(explains)\n",
    "\n",
    "df.to_csv(\"sets.csv\", index=False)"
   ]
  },
  {
   "cell_type": "code",
   "execution_count": 211,
   "metadata": {},
   "outputs": [],
   "source": [
    "indices = [item for sublist in explains for item in sublist]"
   ]
  },
  {
   "cell_type": "code",
   "execution_count": 212,
   "metadata": {},
   "outputs": [
    {
     "data": {
      "text/plain": [
       "{12, 19, 71}"
      ]
     },
     "execution_count": 212,
     "metadata": {},
     "output_type": "execute_result"
    }
   ],
   "source": [
    "set([i for i in range(94)]).difference(set(indices))"
   ]
  },
  {
   "cell_type": "code",
   "execution_count": 213,
   "metadata": {},
   "outputs": [],
   "source": [
    "counter = collections.Counter(list(remaining[12]) + list(remaining[19]) + list(remaining[28]))"
   ]
  },
  {
   "cell_type": "code",
   "execution_count": 214,
   "metadata": {},
   "outputs": [
    {
     "data": {
      "text/plain": [
       "{1, 2}"
      ]
     },
     "execution_count": 214,
     "metadata": {},
     "output_type": "execute_result"
    }
   ],
   "source": [
    "set(counter.values())"
   ]
  },
  {
   "cell_type": "code",
   "execution_count": 215,
   "metadata": {},
   "outputs": [
    {
     "data": {
      "text/plain": [
       "set()"
      ]
     },
     "execution_count": 215,
     "metadata": {},
     "output_type": "execute_result"
    }
   ],
   "source": [
    "set(remaining[12]).intersection(set(remaining[19]))"
   ]
  },
  {
   "cell_type": "code",
   "execution_count": 216,
   "metadata": {},
   "outputs": [
    {
     "data": {
      "text/plain": [
       "set()"
      ]
     },
     "execution_count": 216,
     "metadata": {},
     "output_type": "execute_result"
    }
   ],
   "source": [
    "set(remaining[19]).intersection(set(remaining[28]))"
   ]
  },
  {
   "cell_type": "code",
   "execution_count": 217,
   "metadata": {},
   "outputs": [],
   "source": [
    "_ = set(remaining[12]).intersection(set(remaining[28]))"
   ]
  },
  {
   "cell_type": "code",
   "execution_count": 191,
   "metadata": {},
   "outputs": [
    {
     "data": {
      "text/plain": [
       "array(['N1125', 'N1127', 'N1133', 'N1135', 'N1141', 'N1143', 'N1149',\n",
       "       'N1151', 'N1381', 'N1383', 'N1389', 'N1391', 'N1397', 'N1399',\n",
       "       'N1405', 'N1407', 'N1637', 'N1639', 'N1645', 'N1647', 'N1653',\n",
       "       'N1655', 'N1661', 'N1663', 'N1893', 'N1895', 'N1901', 'N1903',\n",
       "       'N1909', 'N1911', 'N1917', 'N1919', 'N3173', 'N3175', 'N3181',\n",
       "       'N3183', 'N3189', 'N3191', 'N3197', 'N3199', 'N3429', 'N3431',\n",
       "       'N3437', 'N3439', 'N3445', 'N3447', 'N3453', 'N3455', 'N3685',\n",
       "       'N3687', 'N3693', 'N3695', 'N3701', 'N3703', 'N3709', 'N3711',\n",
       "       'N3941', 'N3943', 'N3949', 'N3951', 'N3957', 'N3959', 'N3965',\n",
       "       'N3967', 'N9333', 'N9589', 'N9845', 'N10101', 'N17509', 'N17511',\n",
       "       'N17517', 'N17519', 'N17525', 'N17527', 'N17533', 'N17535',\n",
       "       'N17765', 'N17767', 'N17773', 'N17775', 'N17781', 'N17783',\n",
       "       'N17789', 'N17791', 'N18021', 'N18023', 'N18029', 'N18031',\n",
       "       'N18037', 'N18039', 'N18045', 'N18047', 'N18277', 'N18279',\n",
       "       'N18285', 'N18287', 'N18293', 'N18295', 'N18301', 'N18303',\n",
       "       'N19557', 'N19559', 'N19565', 'N19567', 'N19573', 'N19575',\n",
       "       'N19581', 'N19583', 'N19813', 'N19815', 'N19821', 'N19823',\n",
       "       'N19829', 'N19831', 'N19837', 'N19839', 'N20069', 'N20071',\n",
       "       'N20077', 'N20079', 'N20085', 'N20087', 'N20093', 'N20095',\n",
       "       'N20325', 'N20327', 'N20333', 'N20335', 'N20341', 'N20343',\n",
       "       'N20349', 'N20351', 'N25717', 'N25973', 'N26229', 'N26485',\n",
       "       'N27765', 'N28021', 'N28277', 'N28533', 'N33893', 'N33895',\n",
       "       'N33909', 'N33911', 'N34149', 'N34151', 'N34165', 'N34167',\n",
       "       'N34405', 'N34407', 'N34421', 'N34423', 'N34661', 'N34663',\n",
       "       'N34677', 'N34679', 'N42101', 'N42357', 'N42613', 'N42869',\n",
       "       'N50277', 'N50279', 'N50293', 'N50295', 'N50533', 'N50535',\n",
       "       'N50549', 'N50551', 'N50789', 'N50791', 'N50805', 'N50807',\n",
       "       'N51045', 'N51047', 'N51061', 'N51063', 'N58485', 'N58741',\n",
       "       'N58997', 'N59253'], dtype=object)"
      ]
     },
     "execution_count": 191,
     "metadata": {},
     "output_type": "execute_result"
    }
   ],
   "source": [
    "remaining[19]"
   ]
  },
  {
   "cell_type": "code",
   "execution_count": 185,
   "metadata": {},
   "outputs": [
    {
     "ename": "AssertionError",
     "evalue": "",
     "output_type": "error",
     "traceback": [
      "\u001b[0;31m---------------------------------------------------------------------------\u001b[0m",
      "\u001b[0;31mAssertionError\u001b[0m                            Traceback (most recent call last)",
      "\u001b[0;32m<ipython-input-185-5dbc35cacaef>\u001b[0m in \u001b[0;36m<module>\u001b[0;34m\u001b[0m\n\u001b[0;32m----> 1\u001b[0;31m \u001b[0;32massert\u001b[0m \u001b[0mlen\u001b[0m\u001b[0;34m(\u001b[0m\u001b[0mset\u001b[0m\u001b[0;34m(\u001b[0m\u001b[0mremaining\u001b[0m\u001b[0;34m[\u001b[0m\u001b[0;36m19\u001b[0m\u001b[0;34m]\u001b[0m\u001b[0;34m)\u001b[0m\u001b[0;34m)\u001b[0m \u001b[0;34m==\u001b[0m \u001b[0mlen\u001b[0m\u001b[0;34m(\u001b[0m\u001b[0mset\u001b[0m\u001b[0;34m(\u001b[0m\u001b[0mremaining\u001b[0m\u001b[0;34m[\u001b[0m\u001b[0;36m12\u001b[0m\u001b[0;34m]\u001b[0m\u001b[0;34m)\u001b[0m\u001b[0;34m.\u001b[0m\u001b[0mdifference\u001b[0m\u001b[0;34m(\u001b[0m\u001b[0mremaining\u001b[0m\u001b[0;34m[\u001b[0m\u001b[0;36m12\u001b[0m\u001b[0;34m]\u001b[0m\u001b[0;34m)\u001b[0m\u001b[0;34m)\u001b[0m\u001b[0;34m\u001b[0m\u001b[0;34m\u001b[0m\u001b[0m\n\u001b[0m\u001b[1;32m      2\u001b[0m \u001b[0;34m\u001b[0m\u001b[0m\n\u001b[1;32m      3\u001b[0m \u001b[0;32massert\u001b[0m \u001b[0mlen\u001b[0m\u001b[0;34m(\u001b[0m\u001b[0mset\u001b[0m\u001b[0;34m(\u001b[0m\u001b[0mremaining\u001b[0m\u001b[0;34m[\u001b[0m\u001b[0;36m19\u001b[0m\u001b[0;34m]\u001b[0m\u001b[0;34m)\u001b[0m\u001b[0;34m)\u001b[0m \u001b[0;34m==\u001b[0m \u001b[0mlen\u001b[0m\u001b[0;34m(\u001b[0m\u001b[0mset\u001b[0m\u001b[0;34m(\u001b[0m\u001b[0mremaining\u001b[0m\u001b[0;34m[\u001b[0m\u001b[0;36m12\u001b[0m\u001b[0;34m]\u001b[0m\u001b[0;34m)\u001b[0m\u001b[0;34m.\u001b[0m\u001b[0mdifference\u001b[0m\u001b[0;34m(\u001b[0m\u001b[0mremaining\u001b[0m\u001b[0;34m[\u001b[0m\u001b[0;36m28\u001b[0m\u001b[0;34m]\u001b[0m\u001b[0;34m)\u001b[0m\u001b[0;34m)\u001b[0m\u001b[0;34m\u001b[0m\u001b[0;34m\u001b[0m\u001b[0m\n",
      "\u001b[0;31mAssertionError\u001b[0m: "
     ]
    }
   ],
   "source": [
    "assert len(set(remaining[19])) == len(set(remaining[12]).difference(remaining[12]))\n",
    "\n",
    "assert len(set(remaining[19])) == len(set(remaining[12]).difference(remaining[28]))"
   ]
  },
  {
   "cell_type": "code",
   "execution_count": 181,
   "metadata": {},
   "outputs": [],
   "source": [
    "s_for_three_remaining = [key for key, count in zip(counter.keys(), counter.values()) if count == 2]"
   ]
  },
  {
   "cell_type": "code",
   "execution_count": null,
   "metadata": {},
   "outputs": [],
   "source": [
    "in_ = ()\n",
    "\n",
    "for s in s_for_three_remaining:\n",
    "        "
   ]
  },
  {
   "cell_type": "code",
   "execution_count": 154,
   "metadata": {},
   "outputs": [
    {
     "data": {
      "text/plain": [
       "87"
      ]
     },
     "execution_count": 154,
     "metadata": {},
     "output_type": "execute_result"
    }
   ],
   "source": [
    "indices = [item for sublist in explains for item in sublist]\n",
    "len(set(indices))"
   ]
  },
  {
   "cell_type": "code",
   "execution_count": null,
   "metadata": {},
   "outputs": [],
   "source": []
  },
  {
   "cell_type": "code",
   "execution_count": 60,
   "metadata": {},
   "outputs": [],
   "source": [
    "explaining_indices = [30, 13, 14, 7, 27, 28]"
   ]
  },
  {
   "cell_type": "code",
   "execution_count": 87,
   "metadata": {},
   "outputs": [],
   "source": [
    "one_strategy = [list(s)[0] for s in of_sets]"
   ]
  },
  {
   "cell_type": "code",
   "execution_count": null,
   "metadata": {},
   "outputs": [],
   "source": []
  },
  {
   "cell_type": "code",
   "execution_count": 61,
   "metadata": {},
   "outputs": [],
   "source": [
    "values_to_check = [list(set(counter.values()))[i] for i in explaining_indices]"
   ]
  },
  {
   "cell_type": "code",
   "execution_count": 69,
   "metadata": {},
   "outputs": [],
   "source": [
    "strategies_set = []\n",
    "\n",
    "for index in explaining_indices:\n",
    "    \n",
    "    strategies = of_sets[index]\n",
    "    \n",
    "    strategies_set.append(set(strategies))"
   ]
  },
  {
   "cell_type": "code",
   "execution_count": 70,
   "metadata": {},
   "outputs": [],
   "source": [
    "import random"
   ]
  },
  {
   "cell_type": "code",
   "execution_count": 71,
   "metadata": {},
   "outputs": [],
   "source": [
    "random_strategies = [list(s)[0] for s in strategies_set]"
   ]
  },
  {
   "cell_type": "code",
   "execution_count": 72,
   "metadata": {},
   "outputs": [
    {
     "data": {
      "text/plain": [
       "6"
      ]
     },
     "execution_count": 72,
     "metadata": {},
     "output_type": "execute_result"
    }
   ],
   "source": [
    "len(random_strategies)"
   ]
  },
  {
   "cell_type": "code",
   "execution_count": 88,
   "metadata": {},
   "outputs": [
    {
     "data": {
      "text/plain": [
       "[array(['N1', 'N9', 'N65', 'N73', 'N129', 'N137', 'N193', 'N201', 'N1025',\n",
       "        'N1033', 'N1089', 'N1097', 'N1153', 'N1161', 'N1217', 'N1225',\n",
       "        'N2049', 'N2057', 'N2113', 'N2121', 'N2177', 'N2185', 'N2241',\n",
       "        'N2249', 'N3073', 'N3081', 'N3137', 'N3145', 'N3201', 'N3209',\n",
       "        'N3265', 'N3273', 'N4097', 'N4105', 'N4161', 'N4169', 'N4225',\n",
       "        'N4233', 'N4289', 'N4297', 'N5121', 'N5129', 'N5185', 'N5193',\n",
       "        'N5249', 'N5257', 'N5313', 'N5321', 'N6145', 'N6153', 'N6209',\n",
       "        'N6217', 'N6273', 'N6281', 'N6337', 'N6345', 'N7169', 'N7177',\n",
       "        'N7233', 'N7241', 'N7297', 'N7305', 'N7361', 'N7369', 'N8193',\n",
       "        'N8201', 'N8321', 'N8329', 'N9217', 'N9225', 'N9345', 'N9353',\n",
       "        'N10241', 'N10249', 'N10369', 'N10377', 'N11265', 'N11273',\n",
       "        'N11393', 'N11401', 'N12289', 'N12297', 'N12417', 'N12425',\n",
       "        'N13313', 'N13321', 'N13441', 'N13449', 'N14337', 'N14345',\n",
       "        'N14465', 'N14473', 'N15361', 'N15369', 'N15489', 'N15497',\n",
       "        'N16385', 'N16393', 'N16449', 'N16457', 'N16513', 'N16521',\n",
       "        'N16577', 'N16585', 'N17409', 'N17473', 'N17537', 'N17601',\n",
       "        'N18433', 'N18441', 'N18497', 'N18505', 'N18561', 'N18569',\n",
       "        'N18625', 'N18633', 'N19457', 'N19521', 'N19585', 'N19649',\n",
       "        'N20481', 'N20489', 'N20545', 'N20553', 'N20609', 'N20617',\n",
       "        'N20673', 'N20681', 'N21505', 'N21569', 'N21633', 'N21697',\n",
       "        'N22529', 'N22537', 'N22593', 'N22601', 'N22657', 'N22665',\n",
       "        'N22721', 'N22729', 'N23553', 'N23617', 'N23681', 'N23745',\n",
       "        'N24577', 'N24585', 'N24705', 'N25601', 'N26625', 'N26633',\n",
       "        'N26753', 'N27649', 'N28673', 'N29697', 'N30721', 'N31745',\n",
       "        'N32769', 'N32833', 'N32897', 'N32961', 'N33793', 'N33857',\n",
       "        'N33921', 'N33985', 'N34817', 'N34881', 'N34945', 'N35009',\n",
       "        'N35841', 'N35905', 'N35969', 'N36033', 'N36865', 'N36929',\n",
       "        'N36993', 'N37057', 'N37889', 'N37953', 'N38017', 'N38081',\n",
       "        'N38913', 'N38977', 'N39041', 'N39105', 'N39937', 'N40001',\n",
       "        'N40065', 'N40129', 'N40961', 'N41985', 'N43009', 'N44033',\n",
       "        'N45057', 'N46081', 'N47105', 'N48129', 'N49153', 'N49217',\n",
       "        'N49281', 'N49345', 'N50177', 'N50241', 'N50305', 'N50369',\n",
       "        'N53249', 'N53313', 'N53377', 'N53441', 'N54273', 'N54337',\n",
       "        'N54401', 'N54465', 'N57345', 'N58369', 'N61441', 'N62465',\n",
       "        'N63489'], dtype=object),\n",
       " array(['N1', 'N5', 'N9', ..., 'N62721', 'N63745', 'N64769'], dtype=object),\n",
       " array(['N8227', 'N8243', 'N8251', 'N8371', 'N8377', 'N8379', 'N8483',\n",
       "        'N8491', 'N8498', 'N8499', 'N8505', 'N8506', 'N8507', 'N8611',\n",
       "        'N8619', 'N8624', 'N8625', 'N8626', 'N8627', 'N8632', 'N8633',\n",
       "        'N8634', 'N8635', 'N9251', 'N9267', 'N9275', 'N9395', 'N9401',\n",
       "        'N9403', 'N9507', 'N9515', 'N9522', 'N9523', 'N9529', 'N9530',\n",
       "        'N9531', 'N9635', 'N9643', 'N9648', 'N9649', 'N9650', 'N9651',\n",
       "        'N9656', 'N9657', 'N9658', 'N9659', 'N10275', 'N10291', 'N10299',\n",
       "        'N10419', 'N10425', 'N10427', 'N10531', 'N10539', 'N10546',\n",
       "        'N10547', 'N10553', 'N10554', 'N10555', 'N10659', 'N10667',\n",
       "        'N10672', 'N10673', 'N10674', 'N10675', 'N10680', 'N10681',\n",
       "        'N10682', 'N10683', 'N11299', 'N11315', 'N11323', 'N11443',\n",
       "        'N11449', 'N11451', 'N11555', 'N11563', 'N11570', 'N11571',\n",
       "        'N11577', 'N11578', 'N11579', 'N11683', 'N11691', 'N11696',\n",
       "        'N11697', 'N11698', 'N11699', 'N11704', 'N11705', 'N11706',\n",
       "        'N11707', 'N12347', 'N12465', 'N12467', 'N12473', 'N12475',\n",
       "        'N12587', 'N12592', 'N12593', 'N12594', 'N12595', 'N12600',\n",
       "        'N12601', 'N12602', 'N12603', 'N12707', 'N12715', 'N12720',\n",
       "        'N12721', 'N12722', 'N12723', 'N12728', 'N12729', 'N12730',\n",
       "        'N12731', 'N13371', 'N13489', 'N13491', 'N13497', 'N13499',\n",
       "        'N13611', 'N13616', 'N13617', 'N13618', 'N13619', 'N13624',\n",
       "        'N13625', 'N13626', 'N13627', 'N13731', 'N13739', 'N13744',\n",
       "        'N13745', 'N13746', 'N13747', 'N13752', 'N13753', 'N13754',\n",
       "        'N13755', 'N14395', 'N14513', 'N14515', 'N14521', 'N14523',\n",
       "        'N14635', 'N14640', 'N14641', 'N14642', 'N14643', 'N14648',\n",
       "        'N14649', 'N14650', 'N14651', 'N14755', 'N14763', 'N14768',\n",
       "        'N14769', 'N14770', 'N14771', 'N14776', 'N14777', 'N14778',\n",
       "        'N14779', 'N15419', 'N15537', 'N15539', 'N15545', 'N15547',\n",
       "        'N15659', 'N15664', 'N15665', 'N15666', 'N15667', 'N15672',\n",
       "        'N15673', 'N15674', 'N15675', 'N15779', 'N15787', 'N15792',\n",
       "        'N15793', 'N15794', 'N15795', 'N15800', 'N15801', 'N15802',\n",
       "        'N15803', 'N24611', 'N24627', 'N24867', 'N24875', 'N24882',\n",
       "        'N24883', 'N24890', 'N24891', 'N25635', 'N25651', 'N25891',\n",
       "        'N25906', 'N25907', 'N26659', 'N26675', 'N26915', 'N26923',\n",
       "        'N26930', 'N26931', 'N26938', 'N26939', 'N27683', 'N27699',\n",
       "        'N27939', 'N27954', 'N27955', 'N28976', 'N28977', 'N28978',\n",
       "        'N28979', 'N30000', 'N30001', 'N30002', 'N30003', 'N31024',\n",
       "        'N31025', 'N31026', 'N31027', 'N32048', 'N32049', 'N32050',\n",
       "        'N32051', 'N40995', 'N41011', 'N41251', 'N41266', 'N41267',\n",
       "        'N42019', 'N42035', 'N42275', 'N42290', 'N42291', 'N43043',\n",
       "        'N43059', 'N43299', 'N43314', 'N43315', 'N44067', 'N44083',\n",
       "        'N44323', 'N44338', 'N44339', 'N45360', 'N45361', 'N45362',\n",
       "        'N45363', 'N46384', 'N46385', 'N46386', 'N46387', 'N47408',\n",
       "        'N47409', 'N47410', 'N47411', 'N48432', 'N48433', 'N48434',\n",
       "        'N48435', 'N57379', 'N57395', 'N57635', 'N57650', 'N57651',\n",
       "        'N58403', 'N58419', 'N58659', 'N58674', 'N58675', 'N59443',\n",
       "        'N60451', 'N60467', 'N60723', 'N61744', 'N61745', 'N61746',\n",
       "        'N61747', 'N62768', 'N62769', 'N62770', 'N62771'], dtype=object),\n",
       " array(['N1', 'N5', 'N9', 'N13', 'N17', 'N65', 'N69', 'N73', 'N77', 'N81',\n",
       "        'N129', 'N133', 'N137', 'N141', 'N145', 'N193', 'N197', 'N201',\n",
       "        'N205', 'N209', 'N257', 'N321', 'N385', 'N449', 'N513', 'N517',\n",
       "        'N521', 'N525', 'N529', 'N577', 'N581', 'N585', 'N589', 'N641',\n",
       "        'N645', 'N649', 'N653', 'N657', 'N705', 'N709', 'N713', 'N717',\n",
       "        'N769', 'N833', 'N897', 'N961', 'N1025', 'N1033', 'N1041', 'N1089',\n",
       "        'N1097', 'N1105', 'N1153', 'N1161', 'N1169', 'N1217', 'N1225',\n",
       "        'N1233', 'N1281', 'N1345', 'N1409', 'N1473', 'N1537', 'N1545',\n",
       "        'N1553', 'N1601', 'N1609', 'N1665', 'N1673', 'N1681', 'N1729',\n",
       "        'N1737', 'N1793', 'N1921', 'N2049', 'N2053', 'N2057', 'N2061',\n",
       "        'N2065', 'N2113', 'N2117', 'N2121', 'N2125', 'N2129', 'N2177',\n",
       "        'N2181', 'N2185', 'N2189', 'N2193', 'N2241', 'N2245', 'N2249',\n",
       "        'N2253', 'N2257', 'N2305', 'N2369', 'N2433', 'N2497', 'N2561',\n",
       "        'N2565', 'N2569', 'N2573', 'N2577', 'N2625', 'N2629', 'N2633',\n",
       "        'N2689', 'N2693', 'N2697', 'N2701', 'N2705', 'N2753', 'N2757',\n",
       "        'N2761', 'N2817', 'N2881', 'N2945', 'N3009', 'N3073', 'N3081',\n",
       "        'N3089', 'N3137', 'N3145', 'N3153', 'N3201', 'N3209', 'N3217',\n",
       "        'N3265', 'N3273', 'N3281', 'N3329', 'N3393', 'N3457', 'N3521',\n",
       "        'N3585', 'N3593', 'N3601', 'N3713', 'N3721', 'N3729', 'N3841',\n",
       "        'N3969', 'N4097', 'N4105', 'N4109', 'N4161', 'N4169', 'N4173',\n",
       "        'N4225', 'N4233', 'N4237', 'N4289', 'N4297', 'N4301', 'N4609',\n",
       "        'N4617', 'N4621', 'N4673', 'N4681', 'N4737', 'N4745', 'N4749',\n",
       "        'N4801', 'N4809', 'N5121', 'N5129', 'N5185', 'N5193', 'N5249',\n",
       "        'N5257', 'N5313', 'N5321', 'N5633', 'N5641', 'N5761', 'N5769',\n",
       "        'N6145', 'N6149', 'N6153', 'N6157', 'N6209', 'N6213', 'N6217',\n",
       "        'N6221', 'N6273', 'N6277', 'N6281', 'N6285', 'N6337', 'N6341',\n",
       "        'N6345', 'N6349', 'N6657', 'N6661', 'N6665', 'N6669', 'N6721',\n",
       "        'N6729', 'N6785', 'N6789', 'N6793', 'N6797', 'N6849', 'N6857',\n",
       "        'N7169', 'N7177', 'N7233', 'N7241', 'N7297', 'N7305', 'N7361',\n",
       "        'N7369', 'N7681', 'N7689', 'N7809', 'N7817', 'N8193', 'N8197',\n",
       "        'N8201', 'N8205', 'N8257', 'N8261', 'N8265', 'N8269', 'N8321',\n",
       "        'N8325', 'N8329', 'N8333', 'N8385', 'N8389', 'N8393', 'N8397',\n",
       "        'N8449', 'N8577', 'N8705', 'N8709', 'N8713', 'N8717', 'N8769',\n",
       "        'N8777', 'N8833', 'N8837', 'N8841', 'N8845', 'N8897', 'N8905',\n",
       "        'N9217', 'N9225', 'N9281', 'N9289', 'N9345', 'N9353', 'N9409',\n",
       "        'N9417', 'N9473', 'N9601', 'N9729', 'N9737', 'N9857', 'N9865',\n",
       "        'N10241', 'N10245', 'N10249', 'N10253', 'N10305', 'N10309',\n",
       "        'N10313', 'N10369', 'N10373', 'N10377', 'N10381', 'N10433',\n",
       "        'N10437', 'N10441', 'N10497', 'N10625', 'N10753', 'N10761',\n",
       "        'N10817', 'N10825', 'N10881', 'N10889', 'N10945', 'N10953',\n",
       "        'N11265', 'N11273', 'N11329', 'N11337', 'N11393', 'N11401',\n",
       "        'N11457', 'N11465', 'N11521', 'N11649', 'N11777', 'N11785',\n",
       "        'N11905', 'N11913', 'N12289', 'N12297', 'N12301', 'N12353',\n",
       "        'N12361', 'N12417', 'N12425', 'N12429', 'N12481', 'N12489',\n",
       "        'N12801', 'N12809', 'N12873', 'N12929', 'N12937', 'N13001',\n",
       "        'N13313', 'N13321', 'N13385', 'N13441', 'N13449', 'N13513',\n",
       "        'N13825', 'N13833', 'N13953', 'N13961', 'N14337', 'N14341',\n",
       "        'N14345', 'N14349', 'N14401', 'N14409', 'N14465', 'N14469',\n",
       "        'N14473', 'N14477', 'N14529', 'N14537', 'N14849', 'N14857',\n",
       "        'N14913', 'N14921', 'N14977', 'N14985', 'N15041', 'N15049',\n",
       "        'N15361', 'N15369', 'N15425', 'N15433', 'N15489', 'N15497',\n",
       "        'N15553', 'N15561', 'N15873', 'N15881', 'N16001', 'N16009',\n",
       "        'N16385', 'N16389', 'N16393', 'N16397', 'N16401', 'N16449',\n",
       "        'N16453', 'N16457', 'N16461', 'N16465', 'N16513', 'N16517',\n",
       "        'N16521', 'N16525', 'N16529', 'N16577', 'N16581', 'N16585',\n",
       "        'N16589', 'N16593', 'N16641', 'N16705', 'N16769', 'N16833',\n",
       "        'N16897', 'N16901', 'N16905', 'N16909', 'N16913', 'N16961',\n",
       "        'N16965', 'N16969', 'N16973', 'N17025', 'N17029', 'N17033',\n",
       "        'N17037', 'N17041', 'N17089', 'N17093', 'N17097', 'N17101',\n",
       "        'N17153', 'N17217', 'N17281', 'N17345', 'N17409', 'N17417',\n",
       "        'N17425', 'N17473', 'N17481', 'N17489', 'N17537', 'N17545',\n",
       "        'N17553', 'N17601', 'N17609', 'N17617', 'N17665', 'N17729',\n",
       "        'N17793', 'N17857', 'N17921', 'N17929', 'N17937', 'N17985',\n",
       "        'N18049', 'N18057', 'N18113', 'N18177', 'N18305', 'N18433',\n",
       "        'N18437', 'N18441', 'N18449', 'N18497', 'N18501', 'N18505',\n",
       "        'N18513', 'N18561', 'N18565', 'N18569', 'N18577', 'N18625',\n",
       "        'N18629', 'N18633', 'N18641', 'N18689', 'N18753', 'N18817',\n",
       "        'N18881', 'N18945', 'N18953', 'N18961', 'N19009', 'N19017',\n",
       "        'N19073', 'N19081', 'N19089', 'N19137', 'N19145', 'N19201',\n",
       "        'N19329', 'N19457', 'N19473', 'N19521', 'N19537', 'N19585',\n",
       "        'N19601', 'N19649', 'N19665', 'N19713', 'N19777', 'N19841',\n",
       "        'N19905', 'N19969', 'N19985', 'N20097', 'N20225', 'N20353',\n",
       "        'N20481', 'N20489', 'N20545', 'N20553', 'N20609', 'N20617',\n",
       "        'N20673', 'N20681', 'N20993', 'N21001', 'N21057', 'N21065',\n",
       "        'N21121', 'N21129', 'N21185', 'N21193', 'N21505', 'N21513',\n",
       "        'N21569', 'N21577', 'N21633', 'N21641', 'N21697', 'N21705',\n",
       "        'N22017', 'N22025', 'N22145', 'N22153', 'N22529', 'N22537',\n",
       "        'N22593', 'N22601', 'N22657', 'N22665', 'N22721', 'N22729',\n",
       "        'N23041', 'N23049', 'N23105', 'N23113', 'N23169', 'N23177',\n",
       "        'N23233', 'N23241', 'N23553', 'N23617', 'N23681', 'N23745',\n",
       "        'N24065', 'N24193', 'N24577', 'N24581', 'N24585', 'N24589',\n",
       "        'N24641', 'N24645', 'N24649', 'N24705', 'N24709', 'N24713',\n",
       "        'N24717', 'N24769', 'N24773', 'N24777', 'N24833', 'N24961',\n",
       "        'N25089', 'N25093', 'N25097', 'N25153', 'N25161', 'N25217',\n",
       "        'N25221', 'N25225', 'N25281', 'N25289', 'N25601', 'N25609',\n",
       "        'N25665', 'N25673', 'N25729', 'N25737', 'N25793', 'N25801',\n",
       "        'N25857', 'N25985', 'N26113', 'N26121', 'N26241', 'N26249',\n",
       "        'N26625', 'N26633', 'N26689', 'N26697', 'N26753', 'N26761',\n",
       "        'N26817', 'N26825', 'N26881', 'N27009', 'N27137', 'N27145',\n",
       "        'N27201', 'N27265', 'N27273', 'N27329', 'N27649', 'N27777',\n",
       "        'N27905', 'N28033', 'N28161', 'N28289', 'N28673', 'N28681',\n",
       "        'N28737', 'N28745', 'N28801', 'N28809', 'N28865', 'N28873',\n",
       "        'N29185', 'N29193', 'N29313', 'N29321', 'N29697', 'N29705',\n",
       "        'N29825', 'N29833', 'N30209', 'N30337', 'N30721', 'N30729',\n",
       "        'N30785', 'N30793', 'N30849', 'N30857', 'N30913', 'N30921',\n",
       "        'N31233', 'N31241', 'N31361', 'N31369', 'N31745', 'N31873',\n",
       "        'N32257', 'N32385', 'N32769', 'N32773', 'N32785', 'N32833',\n",
       "        'N32837', 'N32849', 'N32897', 'N32901', 'N32913', 'N32961',\n",
       "        'N32965', 'N32977', 'N33025', 'N33089', 'N33153', 'N33217',\n",
       "        'N33281', 'N33285', 'N33297', 'N33345', 'N33349', 'N33537',\n",
       "        'N33601', 'N33793', 'N33809', 'N33857', 'N33873', 'N33921',\n",
       "        'N33937', 'N33985', 'N34001', 'N34049', 'N34113', 'N34177',\n",
       "        'N34241', 'N34305', 'N34321', 'N34369', 'N34561', 'N34817',\n",
       "        'N34833', 'N34881', 'N34897', 'N34945', 'N34961', 'N35009',\n",
       "        'N35025', 'N35073', 'N35137', 'N35201', 'N35265', 'N35329',\n",
       "        'N35345', 'N35585', 'N35841', 'N35857', 'N35905', 'N35921',\n",
       "        'N35969', 'N35985', 'N36033', 'N36049', 'N36097', 'N36161',\n",
       "        'N36225', 'N36289', 'N36353', 'N36369', 'N36609', 'N36865',\n",
       "        'N36929', 'N36993', 'N37057', 'N37377', 'N37441', 'N37889',\n",
       "        'N37953', 'N38017', 'N38081', 'N38401', 'N38913', 'N38977',\n",
       "        'N39041', 'N39105', 'N39425', 'N39937', 'N40001', 'N40065',\n",
       "        'N40129', 'N40449', 'N40961', 'N40965', 'N41025', 'N41029',\n",
       "        'N41217', 'N41473', 'N41477', 'N41537', 'N41985', 'N42049',\n",
       "        'N42241', 'N42497', 'N43009', 'N43265', 'N43521', 'N44033',\n",
       "        'N44289', 'N44545', 'N45057', 'N45121', 'N45569', 'N46081',\n",
       "        'N46593', 'N47105', 'N47617', 'N48129', 'N48641', 'N49153',\n",
       "        'N49157', 'N49169', 'N49217', 'N49221', 'N49233', 'N49281',\n",
       "        'N49285', 'N49297', 'N49345', 'N49349', 'N49361', 'N49409',\n",
       "        'N49473', 'N49537', 'N49601', 'N49665', 'N49669', 'N49681',\n",
       "        'N49729', 'N49733', 'N49921', 'N49985', 'N50177', 'N50193',\n",
       "        'N50241', 'N50257', 'N50305', 'N50321', 'N50369', 'N50385',\n",
       "        'N50433', 'N50497', 'N50561', 'N50625', 'N50689', 'N50705',\n",
       "        'N50753', 'N50945', 'N53249', 'N53313', 'N53377', 'N53441',\n",
       "        'N53761', 'N53825', 'N54273', 'N54337', 'N54401', 'N54465',\n",
       "        'N54785', 'N56833', 'N57345', 'N57349', 'N57409', 'N57413',\n",
       "        'N57601', 'N57857', 'N57861', 'N57921', 'N58369', 'N58433',\n",
       "        'N58625', 'N58881', 'N60929', 'N61441', 'N61505', 'N61953',\n",
       "        'N62465', 'N62977', 'N65025'], dtype=object),\n",
       " array(['N1125', 'N1127', 'N1133', 'N1135', 'N1141', 'N1143', 'N1149',\n",
       "        'N1151', 'N1381', 'N1383', 'N1389', 'N1391', 'N1397', 'N1399',\n",
       "        'N1405', 'N1407', 'N1637', 'N1639', 'N1645', 'N1647', 'N1653',\n",
       "        'N1655', 'N1661', 'N1663', 'N1893', 'N1895', 'N1901', 'N1903',\n",
       "        'N1909', 'N1911', 'N1917', 'N1919', 'N3173', 'N3175', 'N3181',\n",
       "        'N3183', 'N3189', 'N3191', 'N3197', 'N3199', 'N3429', 'N3431',\n",
       "        'N3437', 'N3439', 'N3445', 'N3447', 'N3453', 'N3455', 'N3685',\n",
       "        'N3687', 'N3693', 'N3695', 'N3701', 'N3703', 'N3709', 'N3711',\n",
       "        'N3941', 'N3943', 'N3949', 'N3951', 'N3957', 'N3959', 'N3965',\n",
       "        'N3967', 'N9333', 'N9589', 'N9845', 'N10101', 'N17509', 'N17511',\n",
       "        'N17517', 'N17519', 'N17525', 'N17527', 'N17533', 'N17535',\n",
       "        'N17765', 'N17767', 'N17773', 'N17775', 'N17781', 'N17783',\n",
       "        'N17789', 'N17791', 'N18021', 'N18023', 'N18029', 'N18031',\n",
       "        'N18037', 'N18039', 'N18045', 'N18047', 'N18277', 'N18279',\n",
       "        'N18285', 'N18287', 'N18293', 'N18295', 'N18301', 'N18303',\n",
       "        'N19557', 'N19559', 'N19565', 'N19567', 'N19573', 'N19575',\n",
       "        'N19581', 'N19583', 'N19813', 'N19815', 'N19821', 'N19823',\n",
       "        'N19829', 'N19831', 'N19837', 'N19839', 'N20069', 'N20071',\n",
       "        'N20077', 'N20079', 'N20085', 'N20087', 'N20093', 'N20095',\n",
       "        'N20325', 'N20327', 'N20333', 'N20335', 'N20341', 'N20343',\n",
       "        'N20349', 'N20351', 'N25717', 'N25973', 'N26229', 'N26485',\n",
       "        'N27765', 'N28021', 'N28277', 'N28533', 'N33893', 'N33895',\n",
       "        'N33909', 'N33911', 'N34149', 'N34151', 'N34165', 'N34167',\n",
       "        'N34405', 'N34407', 'N34421', 'N34423', 'N34661', 'N34663',\n",
       "        'N34677', 'N34679', 'N42101', 'N42357', 'N42613', 'N42869',\n",
       "        'N50277', 'N50279', 'N50293', 'N50295', 'N50533', 'N50535',\n",
       "        'N50549', 'N50551', 'N50789', 'N50791', 'N50805', 'N50807',\n",
       "        'N51045', 'N51047', 'N51061', 'N51063', 'N58485', 'N58741',\n",
       "        'N58997', 'N59253'], dtype=object),\n",
       " array(['N1', 'N9', 'N65', 'N73', 'N129', 'N137', 'N193', 'N201', 'N257',\n",
       "        'N265', 'N321', 'N329', 'N385', 'N393', 'N449', 'N457', 'N513',\n",
       "        'N521', 'N577', 'N585', 'N641', 'N649', 'N705', 'N713', 'N769',\n",
       "        'N777', 'N833', 'N841', 'N897', 'N905', 'N961', 'N969', 'N1025',\n",
       "        'N1033', 'N1089', 'N1097', 'N1153', 'N1161', 'N1217', 'N1225',\n",
       "        'N1281', 'N1289', 'N1345', 'N1353', 'N1409', 'N1417', 'N1473',\n",
       "        'N1481', 'N1537', 'N1545', 'N1601', 'N1609', 'N1665', 'N1673',\n",
       "        'N1729', 'N1737', 'N1793', 'N1801', 'N1857', 'N1865', 'N1921',\n",
       "        'N1929', 'N1985', 'N1993', 'N2049', 'N2057', 'N2113', 'N2121',\n",
       "        'N2177', 'N2185', 'N2241', 'N2249', 'N2305', 'N2313', 'N2369',\n",
       "        'N2377', 'N2433', 'N2441', 'N2497', 'N2505', 'N2561', 'N2569',\n",
       "        'N2625', 'N2633', 'N2689', 'N2697', 'N2753', 'N2761', 'N2817',\n",
       "        'N2825', 'N2881', 'N2889', 'N2945', 'N2953', 'N3009', 'N3017',\n",
       "        'N3073', 'N3081', 'N3137', 'N3145', 'N3201', 'N3209', 'N3265',\n",
       "        'N3273', 'N3329', 'N3337', 'N3393', 'N3401', 'N3457', 'N3465',\n",
       "        'N3521', 'N3529', 'N3585', 'N3593', 'N3649', 'N3657', 'N3713',\n",
       "        'N3721', 'N3777', 'N3785', 'N3841', 'N3849', 'N3905', 'N3913',\n",
       "        'N3969', 'N3977', 'N4033', 'N4041', 'N4097', 'N4105', 'N4161',\n",
       "        'N4169', 'N4225', 'N4233', 'N4289', 'N4297', 'N4353', 'N4361',\n",
       "        'N4417', 'N4425', 'N4481', 'N4489', 'N4545', 'N4553', 'N4609',\n",
       "        'N4617', 'N4673', 'N4681', 'N4737', 'N4745', 'N4801', 'N4809',\n",
       "        'N4865', 'N4873', 'N4929', 'N4937', 'N4993', 'N5001', 'N5057',\n",
       "        'N5065', 'N5121', 'N5129', 'N5185', 'N5193', 'N5249', 'N5257',\n",
       "        'N5313', 'N5321', 'N5377', 'N5385', 'N5441', 'N5449', 'N5505',\n",
       "        'N5513', 'N5569', 'N5577', 'N5633', 'N5641', 'N5697', 'N5705',\n",
       "        'N5761', 'N5769', 'N5825', 'N5833', 'N5889', 'N5897', 'N5953',\n",
       "        'N5961', 'N6017', 'N6025', 'N6081', 'N6089', 'N6145', 'N6153',\n",
       "        'N6209', 'N6217', 'N6273', 'N6281', 'N6337', 'N6345', 'N6401',\n",
       "        'N6409', 'N6465', 'N6473', 'N6529', 'N6537', 'N6593', 'N6601',\n",
       "        'N6657', 'N6665', 'N6721', 'N6729', 'N6785', 'N6793', 'N6849',\n",
       "        'N6857', 'N6913', 'N6921', 'N6977', 'N6985', 'N7041', 'N7049',\n",
       "        'N7105', 'N7113', 'N7169', 'N7177', 'N7233', 'N7241', 'N7297',\n",
       "        'N7305', 'N7361', 'N7369', 'N7425', 'N7433', 'N7489', 'N7497',\n",
       "        'N7553', 'N7561', 'N7617', 'N7625', 'N7681', 'N7689', 'N7745',\n",
       "        'N7753', 'N7809', 'N7817', 'N7873', 'N7881', 'N7937', 'N7945',\n",
       "        'N8001', 'N8009', 'N8065', 'N8073', 'N8129', 'N8137', 'N8193',\n",
       "        'N8201', 'N8257', 'N8265', 'N8321', 'N8329', 'N8385', 'N8393',\n",
       "        'N8449', 'N8457', 'N8513', 'N8521', 'N8577', 'N8585', 'N8641',\n",
       "        'N8649', 'N9217', 'N9225', 'N9281', 'N9289', 'N9345', 'N9353',\n",
       "        'N9409', 'N9417', 'N9473', 'N9481', 'N9601', 'N9609', 'N10241',\n",
       "        'N10249', 'N10305', 'N10313', 'N10369', 'N10377', 'N10433',\n",
       "        'N10441', 'N10497', 'N10505', 'N10561', 'N10569', 'N10625',\n",
       "        'N10633', 'N10689', 'N10697', 'N11265', 'N11273', 'N11329',\n",
       "        'N11337', 'N11393', 'N11401', 'N11457', 'N11465', 'N11521',\n",
       "        'N11529', 'N11649', 'N11657', 'N12289', 'N12297', 'N12353',\n",
       "        'N12361', 'N12417', 'N12425', 'N12481', 'N12489', 'N12545',\n",
       "        'N12553', 'N12609', 'N12617', 'N12673', 'N12681', 'N12737',\n",
       "        'N12745', 'N13313', 'N13321', 'N13441', 'N13449', 'N13513',\n",
       "        'N13569', 'N13577', 'N13697', 'N13705', 'N14337', 'N14345',\n",
       "        'N14401', 'N14409', 'N14465', 'N14473', 'N14529', 'N14537',\n",
       "        'N14593', 'N14601', 'N14657', 'N14665', 'N14721', 'N14729',\n",
       "        'N14785', 'N14793', 'N15361', 'N15369', 'N15425', 'N15433',\n",
       "        'N15489', 'N15497', 'N15553', 'N15561', 'N15617', 'N15625',\n",
       "        'N15745', 'N15753', 'N16385', 'N16393', 'N16449', 'N16457',\n",
       "        'N16513', 'N16521', 'N16577', 'N16585', 'N16641', 'N16649',\n",
       "        'N16705', 'N16713', 'N16769', 'N16777', 'N16833', 'N16841',\n",
       "        'N16897', 'N16905', 'N16961', 'N16969', 'N17025', 'N17033',\n",
       "        'N17089', 'N17097', 'N17153', 'N17161', 'N17217', 'N17225',\n",
       "        'N17281', 'N17289', 'N17345', 'N17353', 'N17409', 'N17417',\n",
       "        'N17473', 'N17481', 'N17537', 'N17545', 'N17601', 'N17609',\n",
       "        'N17665', 'N17673', 'N17729', 'N17737', 'N17793', 'N17801',\n",
       "        'N17857', 'N17865', 'N17921', 'N17929', 'N17985', 'N17993',\n",
       "        'N18049', 'N18057', 'N18113', 'N18121', 'N18177', 'N18185',\n",
       "        'N18241', 'N18249', 'N18305', 'N18313', 'N18369', 'N18377',\n",
       "        'N18433', 'N18441', 'N18497', 'N18505', 'N18561', 'N18569',\n",
       "        'N18625', 'N18633', 'N18689', 'N18697', 'N18753', 'N18761',\n",
       "        'N18817', 'N18825', 'N18881', 'N18889', 'N18945', 'N18953',\n",
       "        'N19009', 'N19017', 'N19073', 'N19081', 'N19137', 'N19145',\n",
       "        'N19201', 'N19209', 'N19265', 'N19273', 'N19329', 'N19337',\n",
       "        'N19393', 'N19401', 'N19457', 'N19465', 'N19521', 'N19529',\n",
       "        'N19585', 'N19593', 'N19649', 'N19657', 'N19713', 'N19721',\n",
       "        'N19777', 'N19785', 'N19841', 'N19849', 'N19905', 'N19913',\n",
       "        'N19969', 'N19977', 'N20033', 'N20041', 'N20225', 'N20233',\n",
       "        'N20289', 'N20297', 'N20481', 'N20489', 'N20545', 'N20553',\n",
       "        'N20609', 'N20617', 'N20673', 'N20681', 'N20737', 'N20745',\n",
       "        'N20801', 'N20809', 'N20865', 'N20873', 'N20929', 'N20937',\n",
       "        'N20993', 'N21001', 'N21057', 'N21065', 'N21121', 'N21129',\n",
       "        'N21185', 'N21193', 'N21249', 'N21257', 'N21313', 'N21321',\n",
       "        'N21377', 'N21385', 'N21441', 'N21449', 'N21505', 'N21513',\n",
       "        'N21569', 'N21577', 'N21633', 'N21641', 'N21697', 'N21705',\n",
       "        'N21761', 'N21769', 'N21825', 'N21833', 'N21889', 'N21897',\n",
       "        'N21953', 'N21961', 'N22017', 'N22025', 'N22081', 'N22089',\n",
       "        'N22145', 'N22153', 'N22209', 'N22217', 'N22273', 'N22281',\n",
       "        'N22337', 'N22345', 'N22401', 'N22409', 'N22465', 'N22473',\n",
       "        'N22529', 'N22537', 'N22593', 'N22601', 'N22657', 'N22665',\n",
       "        'N22721', 'N22729', 'N22785', 'N22793', 'N22849', 'N22857',\n",
       "        'N22913', 'N22921', 'N22977', 'N22985', 'N23041', 'N23049',\n",
       "        'N23105', 'N23113', 'N23169', 'N23177', 'N23233', 'N23241',\n",
       "        'N23297', 'N23305', 'N23361', 'N23369', 'N23425', 'N23433',\n",
       "        'N23489', 'N23497', 'N23553', 'N23561', 'N23617', 'N23625',\n",
       "        'N23681', 'N23689', 'N23745', 'N23753', 'N23809', 'N23817',\n",
       "        'N23873', 'N23881', 'N23937', 'N23945', 'N24001', 'N24009',\n",
       "        'N24065', 'N24073', 'N24129', 'N24137', 'N24321', 'N24329',\n",
       "        'N24385', 'N24393', 'N24577', 'N24585', 'N24641', 'N24649',\n",
       "        'N24705', 'N24713', 'N24769', 'N24777', 'N24833', 'N24841',\n",
       "        'N24897', 'N24905', 'N24961', 'N24969', 'N25025', 'N25033',\n",
       "        'N25601', 'N25609', 'N25665', 'N25673', 'N25729', 'N25737',\n",
       "        'N25793', 'N25801', 'N25857', 'N25865', 'N25985', 'N26625',\n",
       "        'N26633', 'N26689', 'N26697', 'N26753', 'N26761', 'N26817',\n",
       "        'N26825', 'N26881', 'N26889', 'N26945', 'N26953', 'N27009',\n",
       "        'N27073', 'N27649', 'N27657', 'N27777', 'N27785', 'N27905',\n",
       "        'N28673', 'N28681', 'N28737', 'N28745', 'N28801', 'N28809',\n",
       "        'N28865', 'N28873', 'N28929', 'N28937', 'N28993', 'N29001',\n",
       "        'N29057', 'N29065', 'N29121', 'N29129', 'N29697', 'N29705',\n",
       "        'N29825', 'N29833', 'N29953', 'N29961', 'N30081', 'N30721',\n",
       "        'N30729', 'N30785', 'N30793', 'N30849', 'N30857', 'N30913',\n",
       "        'N30921', 'N30977', 'N30985', 'N31041', 'N31105', 'N31745',\n",
       "        'N31753', 'N31873', 'N31881', 'N32001', 'N32769', 'N32833',\n",
       "        'N32897', 'N32961', 'N33025', 'N33089', 'N33153', 'N33217',\n",
       "        'N33281', 'N33345', 'N33537', 'N33601', 'N33793', 'N33857',\n",
       "        'N33921', 'N33985', 'N34049', 'N34113', 'N34177', 'N34241',\n",
       "        'N34305', 'N34369', 'N34561', 'N34625', 'N34817', 'N34881',\n",
       "        'N34945', 'N35009', 'N35073', 'N35137', 'N35201', 'N35265',\n",
       "        'N35329', 'N35585', 'N35841', 'N35905', 'N35969', 'N36033',\n",
       "        'N36097', 'N36161', 'N36225', 'N36289', 'N36353', 'N36609',\n",
       "        'N36865', 'N36929', 'N36993', 'N37057', 'N37121', 'N37185',\n",
       "        'N37249', 'N37313', 'N37377', 'N37441', 'N37633', 'N37697',\n",
       "        'N37889', 'N37953', 'N38017', 'N38081', 'N38145', 'N38209',\n",
       "        'N38273', 'N38337', 'N38401', 'N38465', 'N38657', 'N38721',\n",
       "        'N38913', 'N38977', 'N39041', 'N39105', 'N39169', 'N39233',\n",
       "        'N39297', 'N39361', 'N39425', 'N39681', 'N39937', 'N40001',\n",
       "        'N40065', 'N40129', 'N40193', 'N40257', 'N40321', 'N40385',\n",
       "        'N40449', 'N40705', 'N40961', 'N41025', 'N41217', 'N41281',\n",
       "        'N41985', 'N42049', 'N42241', 'N43009', 'N43265', 'N44033',\n",
       "        'N44289', 'N45057', 'N45121', 'N45313', 'N45377', 'N46081',\n",
       "        'N46337', 'N47105', 'N47361', 'N48129', 'N48385', 'N49153',\n",
       "        'N49217', 'N49281', 'N49345', 'N49409', 'N49473', 'N49537',\n",
       "        'N49601', 'N49665', 'N49729', 'N49921', 'N49985', 'N50177',\n",
       "        'N50241', 'N50305', 'N50369', 'N50433', 'N50497', 'N50561',\n",
       "        'N50625', 'N50689', 'N50753', 'N50945', 'N51009', 'N51969',\n",
       "        'N52737', 'N53249', 'N53313', 'N53377', 'N53441', 'N53505',\n",
       "        'N53569', 'N53633', 'N53697', 'N53761', 'N53825', 'N54017',\n",
       "        'N54081', 'N54273', 'N54337', 'N54401', 'N54465', 'N54529',\n",
       "        'N54593', 'N54657', 'N54721', 'N54785', 'N54849', 'N55041',\n",
       "        'N55105', 'N57345', 'N57409', 'N57601', 'N57665', 'N58369',\n",
       "        'N58433', 'N58625', 'N60417', 'N60673', 'N61441', 'N61505',\n",
       "        'N61697', 'N61761', 'N62465', 'N62721', 'N64513', 'N64769'],\n",
       "       dtype=object),\n",
       " array(['N8194', 'N8198', 'N8202', 'N8206', 'N8226', 'N8230', 'N8234',\n",
       "        'N8238', 'N8706', 'N8710', 'N8714', 'N8718', 'N8722', 'N8726',\n",
       "        'N8730', 'N8734', 'N8738', 'N8742', 'N8746', 'N8750', 'N8754',\n",
       "        'N8758', 'N8762', 'N8766', 'N9218', 'N9222', 'N9226', 'N9230',\n",
       "        'N9250', 'N9254', 'N9258', 'N9262', 'N9730', 'N9734', 'N9738',\n",
       "        'N9742', 'N9746', 'N9750', 'N9754', 'N9758', 'N9762', 'N9766',\n",
       "        'N9770', 'N9774', 'N9778', 'N9782', 'N9786', 'N9790', 'N10242',\n",
       "        'N10246', 'N10250', 'N10254', 'N10274', 'N10278', 'N10282',\n",
       "        'N10286', 'N10754', 'N10758', 'N10762', 'N10766', 'N10770',\n",
       "        'N10774', 'N10778', 'N10782', 'N10786', 'N10790', 'N10794',\n",
       "        'N10798', 'N10802', 'N10806', 'N10810', 'N10814', 'N11266',\n",
       "        'N11270', 'N11274', 'N11278', 'N11298', 'N11302', 'N11306',\n",
       "        'N11310', 'N11778', 'N11782', 'N11786', 'N11790', 'N11794',\n",
       "        'N11798', 'N11802', 'N11806', 'N11810', 'N11814', 'N11818',\n",
       "        'N11822', 'N11826', 'N11830', 'N11834', 'N11838', 'N24578',\n",
       "        'N24582', 'N24586', 'N24590', 'N24610', 'N24614', 'N24618',\n",
       "        'N24622', 'N25090', 'N25094', 'N25098', 'N25102', 'N25106',\n",
       "        'N25110', 'N25114', 'N25118', 'N25122', 'N25126', 'N25130',\n",
       "        'N25134', 'N25138', 'N25142', 'N25146', 'N25150', 'N25602',\n",
       "        'N25606', 'N25610', 'N25614', 'N25634', 'N25638', 'N25642',\n",
       "        'N25646', 'N26114', 'N26118', 'N26122', 'N26126', 'N26130',\n",
       "        'N26134', 'N26138', 'N26142', 'N26146', 'N26150', 'N26154',\n",
       "        'N26158', 'N26162', 'N26166', 'N26170', 'N26174', 'N26626',\n",
       "        'N26630', 'N26634', 'N26638', 'N26658', 'N26662', 'N26666',\n",
       "        'N26670', 'N27138', 'N27142', 'N27146', 'N27150', 'N27154',\n",
       "        'N27158', 'N27162', 'N27166', 'N27170', 'N27174', 'N27178',\n",
       "        'N27182', 'N27186', 'N27190', 'N27194', 'N27198', 'N27650',\n",
       "        'N27654', 'N27658', 'N27662', 'N27682', 'N27686', 'N27690',\n",
       "        'N27694', 'N28162', 'N28166', 'N28170', 'N28174', 'N28178',\n",
       "        'N28182', 'N28186', 'N28190', 'N28194', 'N28198', 'N28202',\n",
       "        'N28206', 'N28210', 'N28214', 'N28218', 'N28222', 'N40962',\n",
       "        'N40966', 'N40970', 'N40974', 'N40994', 'N40998', 'N41002',\n",
       "        'N41006', 'N41474', 'N41478', 'N41482', 'N41486', 'N41490',\n",
       "        'N41494', 'N41498', 'N41502', 'N41506', 'N41510', 'N41514',\n",
       "        'N41518', 'N41522', 'N41526', 'N41530', 'N41534', 'N41986',\n",
       "        'N41990', 'N41994', 'N41998', 'N42018', 'N42022', 'N42026',\n",
       "        'N42030', 'N42498', 'N42502', 'N42506', 'N42510', 'N42514',\n",
       "        'N42518', 'N42522', 'N42526', 'N42530', 'N42534', 'N42538',\n",
       "        'N42542', 'N42546', 'N42550', 'N42554', 'N42558', 'N43010',\n",
       "        'N43014', 'N43018', 'N43022', 'N43042', 'N43046', 'N43050',\n",
       "        'N43054', 'N43522', 'N43526', 'N43530', 'N43534', 'N43538',\n",
       "        'N43542', 'N43546', 'N43550', 'N43554', 'N43558', 'N43562',\n",
       "        'N43566', 'N43570', 'N43574', 'N43578', 'N43582', 'N44034',\n",
       "        'N44038', 'N44042', 'N44046', 'N44066', 'N44070', 'N44074',\n",
       "        'N44078', 'N44546', 'N44550', 'N44554', 'N44558', 'N44562',\n",
       "        'N44566', 'N44570', 'N44574', 'N44578', 'N44582', 'N44586',\n",
       "        'N44590', 'N44594', 'N44598', 'N44602', 'N44606', 'N57346',\n",
       "        'N57350', 'N57354', 'N57358', 'N57378', 'N57382', 'N57386',\n",
       "        'N57390', 'N57858', 'N57862', 'N57866', 'N57870', 'N57874',\n",
       "        'N57878', 'N57882', 'N57886', 'N57890', 'N57894', 'N57898',\n",
       "        'N57902', 'N57906', 'N57910', 'N57914', 'N57918', 'N58370',\n",
       "        'N58374', 'N58378', 'N58382', 'N58402', 'N58406', 'N58410',\n",
       "        'N58414', 'N58882', 'N58886', 'N58890', 'N58894', 'N58898',\n",
       "        'N58902', 'N58906', 'N58910', 'N58914', 'N58918', 'N58922',\n",
       "        'N58926', 'N58930', 'N58934', 'N58938', 'N58942'], dtype=object),\n",
       " array(['N12304', 'N12305', 'N12306', 'N12307', 'N12313', 'N12314',\n",
       "        'N12315', 'N12560', 'N12561', 'N12562', 'N12563', 'N12568',\n",
       "        'N12569', 'N12570', 'N12571', 'N12592', 'N12593', 'N12594',\n",
       "        'N12595', 'N12600', 'N12601', 'N12602', 'N12603', 'N13328',\n",
       "        'N13329', 'N13330', 'N13331', 'N13337', 'N13338', 'N13339',\n",
       "        'N13584', 'N13585', 'N13586', 'N13587', 'N13592', 'N13593',\n",
       "        'N13594', 'N13595', 'N13616', 'N13617', 'N13618', 'N13619',\n",
       "        'N13624', 'N13625', 'N13626', 'N13627', 'N14352', 'N14353',\n",
       "        'N14354', 'N14355', 'N14361', 'N14362', 'N14363', 'N14608',\n",
       "        'N14609', 'N14610', 'N14611', 'N14616', 'N14617', 'N14618',\n",
       "        'N14619', 'N14640', 'N14641', 'N14642', 'N14643', 'N14648',\n",
       "        'N14649', 'N14650', 'N14651', 'N15376', 'N15377', 'N15378',\n",
       "        'N15379', 'N15385', 'N15386', 'N15387', 'N15632', 'N15633',\n",
       "        'N15634', 'N15635', 'N15640', 'N15641', 'N15642', 'N15643',\n",
       "        'N15664', 'N15665', 'N15666', 'N15667', 'N15672', 'N15673',\n",
       "        'N15674', 'N15675', 'N28688', 'N28689', 'N28690', 'N28691',\n",
       "        'N28699', 'N28944', 'N28945', 'N28946', 'N28947', 'N28952',\n",
       "        'N28953', 'N28954', 'N28955', 'N28976', 'N28977', 'N28978',\n",
       "        'N28979', 'N29712', 'N29713', 'N29714', 'N29715', 'N29968',\n",
       "        'N29969', 'N29970', 'N29971', 'N30000', 'N30001', 'N30002',\n",
       "        'N30003', 'N30736', 'N30737', 'N30738', 'N30739', 'N30992',\n",
       "        'N30993', 'N30994', 'N30995', 'N31000', 'N31001', 'N31002',\n",
       "        'N31003', 'N31024', 'N31025', 'N31026', 'N31027', 'N31760',\n",
       "        'N31761', 'N31762', 'N31763', 'N32016', 'N32017', 'N32018',\n",
       "        'N32019', 'N32048', 'N32049', 'N32050', 'N32051', 'N45072',\n",
       "        'N45073', 'N45074', 'N45075', 'N45328', 'N45329', 'N45330',\n",
       "        'N45331', 'N45360', 'N45361', 'N45362', 'N45363', 'N46096',\n",
       "        'N46097', 'N46098', 'N46099', 'N46352', 'N46353', 'N46354',\n",
       "        'N46355', 'N46384', 'N46385', 'N46386', 'N46387', 'N47120',\n",
       "        'N47121', 'N47122', 'N47123', 'N47376', 'N47377', 'N47378',\n",
       "        'N47379', 'N47408', 'N47409', 'N47410', 'N47411', 'N48144',\n",
       "        'N48145', 'N48146', 'N48147', 'N48400', 'N48401', 'N48402',\n",
       "        'N48403', 'N48432', 'N48433', 'N48434', 'N48435', 'N61456',\n",
       "        'N61457', 'N61458', 'N61459', 'N61712', 'N61713', 'N61714',\n",
       "        'N61715', 'N61744', 'N61745', 'N61746', 'N61747', 'N62480',\n",
       "        'N62481', 'N62482', 'N62483', 'N62736', 'N62737', 'N62738',\n",
       "        'N62739', 'N62768', 'N62769', 'N62770', 'N62771', 'N64528'],\n",
       "       dtype=object),\n",
       " array(['N1', 'N9', 'N17', ..., 'N62993', 'N63041', 'N63057'], dtype=object),\n",
       " array(['N1029', 'N1037', 'N1045', 'N1093', 'N1095', 'N1101', 'N1103',\n",
       "        'N1109', 'N1111', 'N1157', 'N1165', 'N1173', 'N1221', 'N1229',\n",
       "        'N1237', 'N1285', 'N1293', 'N1301', 'N1349', 'N1351', 'N1357',\n",
       "        'N1359', 'N1365', 'N1367', 'N1413', 'N1421', 'N1429', 'N1477',\n",
       "        'N1485', 'N1493', 'N1541', 'N1549', 'N1557', 'N1605', 'N1607',\n",
       "        'N1613', 'N1615', 'N1621', 'N1623', 'N1669', 'N1677', 'N1685',\n",
       "        'N1733', 'N1741', 'N1749', 'N1797', 'N1805', 'N1813', 'N1861',\n",
       "        'N1863', 'N1869', 'N1871', 'N1877', 'N1879', 'N1925', 'N1933',\n",
       "        'N1941', 'N1989', 'N1997', 'N2005', 'N3077', 'N3085', 'N3093',\n",
       "        'N3141', 'N3149', 'N3157', 'N3205', 'N3213', 'N3221', 'N3269',\n",
       "        'N3277', 'N3285', 'N3333', 'N3341', 'N3349', 'N3397', 'N3405',\n",
       "        'N3413', 'N3461', 'N3469', 'N3477', 'N3525', 'N3533', 'N3541',\n",
       "        'N3589', 'N3597', 'N3605', 'N3653', 'N3661', 'N3669', 'N3717',\n",
       "        'N3725', 'N3733', 'N3781', 'N3789', 'N3797', 'N3845', 'N3853',\n",
       "        'N3861', 'N3909', 'N3917', 'N3925', 'N3973', 'N3981', 'N3989',\n",
       "        'N4037', 'N4045', 'N4053', 'N5125', 'N5133', 'N5189', 'N5197',\n",
       "        'N5253', 'N5261', 'N5317', 'N5325', 'N5381', 'N5389', 'N5445',\n",
       "        'N5453', 'N5509', 'N5517', 'N5573', 'N5581', 'N5637', 'N5645',\n",
       "        'N5701', 'N5709', 'N5765', 'N5773', 'N5829', 'N5837', 'N5893',\n",
       "        'N5901', 'N5957', 'N5965', 'N6021', 'N6029', 'N6085', 'N6093',\n",
       "        'N7173', 'N7181', 'N7237', 'N7245', 'N7301', 'N7309', 'N7365',\n",
       "        'N7373', 'N7429', 'N7437', 'N7493', 'N7501', 'N7557', 'N7565',\n",
       "        'N7621', 'N7629', 'N7685', 'N7693', 'N7749', 'N7757', 'N7813',\n",
       "        'N7821', 'N7877', 'N7885', 'N7941', 'N7949', 'N8005', 'N8013',\n",
       "        'N8069', 'N8077', 'N8133', 'N8141', 'N17413', 'N17421', 'N17429',\n",
       "        'N17477', 'N17479', 'N17485', 'N17487', 'N17493', 'N17495',\n",
       "        'N17541', 'N17549', 'N17557', 'N17605', 'N17613', 'N17621',\n",
       "        'N17669', 'N17677', 'N17685', 'N17733', 'N17735', 'N17741',\n",
       "        'N17743', 'N17749', 'N17751', 'N17797', 'N17805', 'N17813',\n",
       "        'N17861', 'N17869', 'N17877', 'N17925', 'N17933', 'N17941',\n",
       "        'N17989', 'N17991', 'N17997', 'N17999', 'N18005', 'N18007',\n",
       "        'N18053', 'N18061', 'N18069', 'N18117', 'N18125', 'N18133',\n",
       "        'N18181', 'N18189', 'N18197', 'N18245', 'N18247', 'N18253',\n",
       "        'N18255', 'N18261', 'N18263', 'N18309', 'N18317', 'N18325',\n",
       "        'N18373', 'N18381', 'N18389', 'N19461', 'N19469', 'N19477',\n",
       "        'N19525', 'N19527', 'N19533', 'N19535', 'N19541', 'N19589',\n",
       "        'N19597', 'N19605', 'N19653', 'N19661', 'N19669', 'N19717',\n",
       "        'N19725', 'N19733', 'N19781', 'N19783', 'N19789', 'N19791',\n",
       "        'N19797', 'N19845', 'N19853', 'N19861', 'N19909', 'N19917',\n",
       "        'N19925', 'N19973', 'N19981', 'N19989', 'N20037', 'N20039',\n",
       "        'N20045', 'N20047', 'N20053', 'N20101', 'N20109', 'N20117',\n",
       "        'N20165', 'N20173', 'N20181', 'N20229', 'N20237', 'N20245',\n",
       "        'N20293', 'N20295', 'N20301', 'N20303', 'N20309', 'N20357',\n",
       "        'N20365', 'N20373', 'N20421', 'N20429', 'N20437', 'N21509',\n",
       "        'N21517', 'N21573', 'N21581', 'N21637', 'N21645', 'N21701',\n",
       "        'N21709', 'N21765', 'N21773', 'N21829', 'N21837', 'N21893',\n",
       "        'N21901', 'N21957', 'N21965', 'N22021', 'N22029', 'N22085',\n",
       "        'N22093', 'N22149', 'N22157', 'N22213', 'N22221', 'N22277',\n",
       "        'N22285', 'N22341', 'N22349', 'N22405', 'N22413', 'N22469',\n",
       "        'N22477', 'N23557', 'N23565', 'N23621', 'N23629', 'N23685',\n",
       "        'N23693', 'N23749', 'N23757', 'N23813', 'N23821', 'N23877',\n",
       "        'N23885', 'N23941', 'N23949', 'N24005', 'N24013', 'N24069',\n",
       "        'N24077', 'N24133', 'N24141', 'N24197', 'N24205', 'N24261',\n",
       "        'N24269', 'N24325', 'N24333', 'N24389', 'N24397', 'N24453',\n",
       "        'N24461', 'N24517', 'N24525', 'N33797', 'N33813', 'N33861',\n",
       "        'N33863', 'N33877', 'N33879', 'N33925', 'N33941', 'N33989',\n",
       "        'N34005', 'N34053', 'N34069', 'N34117', 'N34119', 'N34133',\n",
       "        'N34135', 'N34181', 'N34197', 'N34245', 'N34261', 'N34309',\n",
       "        'N34373', 'N34375', 'N34389', 'N34391', 'N34565', 'N34629',\n",
       "        'N34631', 'N34645', 'N34647', 'N37893', 'N37957', 'N38021',\n",
       "        'N38085', 'N38149', 'N38213', 'N38277', 'N38341', 'N38469',\n",
       "        'N38597', 'N38725', 'N50181', 'N50197', 'N50245', 'N50247',\n",
       "        'N50261', 'N50263', 'N50309', 'N50325', 'N50373', 'N50389',\n",
       "        'N50437', 'N50453', 'N50501', 'N50503', 'N50517', 'N50519',\n",
       "        'N50565', 'N50581', 'N50629', 'N50645', 'N50693', 'N50757',\n",
       "        'N50759', 'N50773', 'N50775', 'N50885', 'N50901', 'N50949',\n",
       "        'N51013', 'N51015', 'N51029', 'N51031', 'N51141', 'N51157',\n",
       "        'N54277', 'N54341', 'N54405', 'N54469', 'N54533', 'N54597',\n",
       "        'N54661', 'N54725', 'N54853', 'N54917', 'N54981', 'N55109',\n",
       "        'N55237'], dtype=object),\n",
       " array(['N8194', 'N8198', 'N8202', 'N8206', 'N8706', 'N8710', 'N8714',\n",
       "        'N8718', 'N8722', 'N8726', 'N8730', 'N8734', 'N8738', 'N8742',\n",
       "        'N8746', 'N8750', 'N8754', 'N8758', 'N8762', 'N8766', 'N8962',\n",
       "        'N8978', 'N8994', 'N9010', 'N9218', 'N9222', 'N9226', 'N9230',\n",
       "        'N9730', 'N9734', 'N9738', 'N9742', 'N9746', 'N9750', 'N9754',\n",
       "        'N9758', 'N9762', 'N9766', 'N9770', 'N9774', 'N9778', 'N9782',\n",
       "        'N9786', 'N9790', 'N9986', 'N10002', 'N10018', 'N10034', 'N10242',\n",
       "        'N10246', 'N10250', 'N10254', 'N10754', 'N10758', 'N10762',\n",
       "        'N10766', 'N10770', 'N10774', 'N10778', 'N10782', 'N10786',\n",
       "        'N10790', 'N10794', 'N10798', 'N10802', 'N10806', 'N10810',\n",
       "        'N10814', 'N11010', 'N11026', 'N11042', 'N11058', 'N11266',\n",
       "        'N11270', 'N11274', 'N11278', 'N11778', 'N11782', 'N11786',\n",
       "        'N11790', 'N11794', 'N11798', 'N11802', 'N11806', 'N11810',\n",
       "        'N11814', 'N11818', 'N11822', 'N11826', 'N11830', 'N11834',\n",
       "        'N11838', 'N12034', 'N12050', 'N12066', 'N12082', 'N24578',\n",
       "        'N24582', 'N24586', 'N24590', 'N25090', 'N25094', 'N25098',\n",
       "        'N25102', 'N25106', 'N25110', 'N25114', 'N25118', 'N25122',\n",
       "        'N25126', 'N25130', 'N25134', 'N25138', 'N25142', 'N25146',\n",
       "        'N25150', 'N25346', 'N25362', 'N25378', 'N25394', 'N25602',\n",
       "        'N25606', 'N25610', 'N25614', 'N26114', 'N26118', 'N26122',\n",
       "        'N26126', 'N26130', 'N26134', 'N26138', 'N26142', 'N26146',\n",
       "        'N26150', 'N26154', 'N26158', 'N26162', 'N26166', 'N26170',\n",
       "        'N26174', 'N26370', 'N26386', 'N26402', 'N26418', 'N26626',\n",
       "        'N26630', 'N26634', 'N26638', 'N27138', 'N27142', 'N27146',\n",
       "        'N27150', 'N27154', 'N27158', 'N27162', 'N27166', 'N27170',\n",
       "        'N27174', 'N27178', 'N27182', 'N27186', 'N27190', 'N27194',\n",
       "        'N27198', 'N27394', 'N27410', 'N27426', 'N27442', 'N27650',\n",
       "        'N27654', 'N27658', 'N27662', 'N28162', 'N28166', 'N28170',\n",
       "        'N28174', 'N28178', 'N28182', 'N28186', 'N28190', 'N28194',\n",
       "        'N28198', 'N28202', 'N28206', 'N28210', 'N28214', 'N28218',\n",
       "        'N28222', 'N28418', 'N28434', 'N28450', 'N28466', 'N40962',\n",
       "        'N40966', 'N40970', 'N40974', 'N41474', 'N41478', 'N41482',\n",
       "        'N41486', 'N41490', 'N41494', 'N41498', 'N41502', 'N41506',\n",
       "        'N41510', 'N41514', 'N41518', 'N41522', 'N41526', 'N41530',\n",
       "        'N41534', 'N41730', 'N41746', 'N41762', 'N41778', 'N41986',\n",
       "        'N41990', 'N41994', 'N41998', 'N42498', 'N42502', 'N42506',\n",
       "        'N42510', 'N42514', 'N42518', 'N42522', 'N42526', 'N42530',\n",
       "        'N42534', 'N42538', 'N42542', 'N42546', 'N42550', 'N42554',\n",
       "        'N42558', 'N42754', 'N42770', 'N42786', 'N42802', 'N43010',\n",
       "        'N43014', 'N43018', 'N43022', 'N43522', 'N43526', 'N43530',\n",
       "        'N43534', 'N43538', 'N43542', 'N43546', 'N43550', 'N43554',\n",
       "        'N43558', 'N43562', 'N43566', 'N43570', 'N43574', 'N43578',\n",
       "        'N43582', 'N43778', 'N43794', 'N43810', 'N43826', 'N44034',\n",
       "        'N44038', 'N44042', 'N44046', 'N44546', 'N44550', 'N44554',\n",
       "        'N44558', 'N44562', 'N44566', 'N44570', 'N44574', 'N44578',\n",
       "        'N44582', 'N44586', 'N44590', 'N44594', 'N44598', 'N44602',\n",
       "        'N44606', 'N44802', 'N44818', 'N44834', 'N44850', 'N57346',\n",
       "        'N57350', 'N57354', 'N57358', 'N57858', 'N57862', 'N57866',\n",
       "        'N57870', 'N57874', 'N57878', 'N57882', 'N57886', 'N57890',\n",
       "        'N57894', 'N57898', 'N57902', 'N57906', 'N57910', 'N57914',\n",
       "        'N57918', 'N58114', 'N58130', 'N58146', 'N58162', 'N58370',\n",
       "        'N58374', 'N58378', 'N58382', 'N58882', 'N58886', 'N58890',\n",
       "        'N58894', 'N58898', 'N58902', 'N58906', 'N58910', 'N58914',\n",
       "        'N58918', 'N58922', 'N58926', 'N58930', 'N58934', 'N58938',\n",
       "        'N58942', 'N59138', 'N59154', 'N59170', 'N59186'], dtype=object),\n",
       " array(['N1', 'N9', 'N65', ..., 'N62785', 'N62977', 'N63489'], dtype=object),\n",
       " array(['N1', 'N9', 'N65', 'N73', 'N129', 'N137', 'N193', 'N201', 'N257',\n",
       "        'N321', 'N385', 'N449', 'N513', 'N521', 'N577', 'N585', 'N769',\n",
       "        'N833', 'N1025', 'N1033', 'N1089', 'N1097', 'N1153', 'N1161',\n",
       "        'N1217', 'N1225', 'N1281', 'N1345', 'N1409', 'N1473', 'N1537',\n",
       "        'N1545', 'N1793', 'N2049', 'N2057', 'N2113', 'N2121', 'N2177',\n",
       "        'N2185', 'N2241', 'N2249', 'N2305', 'N2369', 'N2433', 'N2497',\n",
       "        'N2561', 'N2569', 'N2625', 'N2633', 'N2817', 'N2881', 'N3073',\n",
       "        'N3081', 'N3137', 'N3145', 'N3201', 'N3209', 'N3265', 'N3273',\n",
       "        'N3329', 'N3393', 'N3457', 'N3521', 'N3585', 'N3593', 'N3841',\n",
       "        'N4097', 'N4105', 'N4161', 'N4169', 'N4225', 'N4233', 'N4289',\n",
       "        'N4297', 'N4353', 'N4417', 'N4481', 'N4545', 'N5121', 'N5129',\n",
       "        'N5185', 'N5193', 'N5249', 'N5257', 'N5313', 'N5321', 'N5377',\n",
       "        'N5441', 'N5505', 'N5569', 'N6145', 'N6153', 'N6209', 'N6217',\n",
       "        'N6273', 'N6281', 'N6337', 'N6345', 'N6401', 'N6465', 'N6529',\n",
       "        'N6593', 'N7169', 'N7177', 'N7233', 'N7241', 'N7297', 'N7305',\n",
       "        'N7361', 'N7369', 'N7425', 'N7489', 'N7553', 'N7617', 'N8193',\n",
       "        'N8201', 'N8257', 'N8265', 'N8321', 'N8329', 'N8385', 'N8393',\n",
       "        'N8449', 'N8577', 'N9217', 'N9225', 'N9345', 'N9353', 'N9473',\n",
       "        'N9601', 'N10241', 'N10249', 'N10305', 'N10313', 'N10369',\n",
       "        'N10377', 'N10433', 'N10441', 'N10497', 'N10625', 'N11265',\n",
       "        'N11273', 'N11393', 'N11401', 'N11521', 'N11649', 'N12289',\n",
       "        'N12297', 'N12361', 'N12417', 'N12425', 'N12489', 'N13313',\n",
       "        'N13321', 'N13441', 'N13449', 'N14337', 'N14345', 'N14401',\n",
       "        'N14409', 'N14465', 'N14473', 'N14529', 'N14537', 'N15361',\n",
       "        'N15369', 'N15489', 'N15497', 'N16385', 'N16393', 'N16449',\n",
       "        'N16457', 'N16513', 'N16521', 'N16577', 'N16585', 'N16641',\n",
       "        'N16705', 'N16769', 'N16833', 'N16897', 'N16905', 'N16961',\n",
       "        'N16969', 'N17153', 'N17217', 'N17409', 'N17473', 'N17537',\n",
       "        'N17601', 'N17665', 'N17729', 'N17793', 'N17857', 'N17921',\n",
       "        'N18177', 'N18433', 'N18441', 'N18497', 'N18505', 'N18561',\n",
       "        'N18569', 'N18625', 'N18633', 'N18689', 'N18753', 'N18817',\n",
       "        'N18881', 'N18945', 'N18953', 'N19009', 'N19201', 'N19265',\n",
       "        'N19457', 'N19521', 'N19585', 'N19649', 'N19713', 'N19777',\n",
       "        'N19841', 'N19905', 'N19969', 'N20225', 'N20481', 'N20489',\n",
       "        'N20545', 'N20553', 'N20609', 'N20617', 'N20673', 'N20681',\n",
       "        'N20737', 'N20801', 'N20865', 'N20929', 'N21505', 'N21569',\n",
       "        'N21633', 'N21697', 'N21761', 'N21825', 'N21889', 'N21953',\n",
       "        'N22529', 'N22537', 'N22593', 'N22601', 'N22657', 'N22665',\n",
       "        'N22721', 'N22729', 'N22785', 'N22849', 'N22913', 'N22977',\n",
       "        'N23553', 'N23617', 'N23681', 'N23745', 'N23809', 'N23873',\n",
       "        'N23937', 'N24001', 'N24577', 'N24585', 'N24641', 'N24649',\n",
       "        'N24705', 'N24713', 'N24769', 'N24777', 'N24833', 'N24961',\n",
       "        'N25601', 'N25729', 'N25857', 'N25985', 'N26625', 'N26633',\n",
       "        'N26689', 'N26697', 'N26753', 'N26761', 'N26817', 'N26825',\n",
       "        'N26881', 'N27009', 'N27649', 'N27777', 'N27905', 'N28033',\n",
       "        'N28673', 'N28681', 'N28745', 'N28801', 'N28809', 'N28873',\n",
       "        'N29697', 'N29825', 'N30721', 'N30729', 'N30785', 'N30793',\n",
       "        'N30849', 'N30857', 'N30913', 'N30921', 'N31745', 'N31873',\n",
       "        'N32769', 'N32833', 'N32897', 'N32961', 'N33025', 'N33089',\n",
       "        'N33153', 'N33217', 'N33281', 'N33345', 'N33537', 'N33601',\n",
       "        'N33793', 'N33857', 'N33921', 'N33985', 'N34049', 'N34113',\n",
       "        'N34177', 'N34241', 'N34305', 'N34561', 'N34817', 'N34881',\n",
       "        'N34945', 'N35009', 'N35073', 'N35137', 'N35201', 'N35265',\n",
       "        'N35329', 'N35585', 'N35841', 'N35905', 'N35969', 'N36033',\n",
       "        'N36097', 'N36161', 'N36225', 'N36289', 'N36353', 'N36609',\n",
       "        'N36865', 'N36929', 'N36993', 'N37057', 'N37121', 'N37185',\n",
       "        'N37249', 'N37313', 'N37889', 'N37953', 'N38017', 'N38081',\n",
       "        'N38145', 'N38209', 'N38273', 'N38337', 'N38913', 'N38977',\n",
       "        'N39041', 'N39105', 'N39169', 'N39233', 'N39297', 'N39361',\n",
       "        'N39937', 'N40001', 'N40065', 'N40129', 'N40193', 'N40257',\n",
       "        'N40321', 'N40385', 'N40961', 'N41025', 'N41217', 'N41985',\n",
       "        'N42241', 'N43009', 'N43265', 'N44033', 'N44289', 'N45057',\n",
       "        'N46081', 'N47105', 'N48129', 'N49153', 'N49217', 'N49281',\n",
       "        'N49345', 'N49409', 'N49473', 'N49537', 'N49601', 'N49665',\n",
       "        'N49729', 'N49921', 'N49985', 'N50177', 'N50241', 'N50305',\n",
       "        'N50369', 'N50433', 'N50497', 'N50561', 'N50625', 'N50689',\n",
       "        'N50945', 'N52737', 'N53249', 'N53313', 'N53377', 'N53441',\n",
       "        'N53505', 'N53569', 'N53633', 'N53697', 'N54273', 'N54337',\n",
       "        'N54401', 'N54465', 'N54529', 'N54593', 'N54657', 'N54721',\n",
       "        'N57345', 'N57409', 'N57601', 'N58369', 'N58625', 'N61441',\n",
       "        'N62465', 'N64513'], dtype=object),\n",
       " array(['N1', 'N3', 'N9', 'N11', 'N65', 'N73', 'N129', 'N137', 'N193',\n",
       "        'N201', 'N257', 'N265', 'N321', 'N329', 'N385', 'N393', 'N449',\n",
       "        'N457', 'N513', 'N515', 'N521', 'N577', 'N585', 'N641', 'N649',\n",
       "        'N705', 'N713', 'N769', 'N897', 'N1025', 'N1027', 'N1033', 'N1035',\n",
       "        'N1089', 'N1097', 'N1153', 'N1161', 'N1217', 'N1225', 'N1281',\n",
       "        'N1289', 'N1345', 'N1353', 'N1409', 'N1417', 'N1473', 'N1481',\n",
       "        'N1537', 'N1539', 'N1545', 'N1601', 'N1665', 'N1673', 'N1729',\n",
       "        'N1793', 'N1921', 'N2049', 'N2051', 'N2057', 'N2059', 'N2113',\n",
       "        'N2121', 'N2177', 'N2185', 'N2241', 'N2249', 'N2305', 'N2313',\n",
       "        'N2369', 'N2377', 'N2433', 'N2441', 'N2497', 'N2505', 'N2561',\n",
       "        'N2563', 'N2569', 'N2625', 'N2689', 'N2697', 'N2753', 'N2817',\n",
       "        'N2945', 'N3073', 'N3075', 'N3081', 'N3083', 'N3137', 'N3145',\n",
       "        'N3201', 'N3209', 'N3265', 'N3273', 'N3329', 'N3337', 'N3393',\n",
       "        'N3401', 'N3457', 'N3465', 'N3521', 'N3529', 'N3585', 'N3587',\n",
       "        'N3593', 'N3713', 'N3721', 'N3841', 'N3969', 'N4097', 'N4105',\n",
       "        'N4161', 'N4169', 'N4225', 'N4233', 'N4289', 'N4297', 'N4353',\n",
       "        'N4361', 'N4417', 'N4425', 'N4481', 'N4489', 'N4545', 'N4553',\n",
       "        'N4609', 'N4617', 'N4673', 'N4681', 'N4737', 'N4745', 'N4801',\n",
       "        'N4809', 'N4865', 'N4993', 'N5121', 'N5129', 'N5185', 'N5193',\n",
       "        'N5249', 'N5257', 'N5313', 'N5321', 'N5377', 'N5385', 'N5441',\n",
       "        'N5449', 'N5505', 'N5513', 'N5569', 'N5577', 'N5633', 'N5641',\n",
       "        'N5697', 'N5761', 'N5769', 'N5825', 'N5889', 'N6017', 'N6145',\n",
       "        'N6153', 'N6209', 'N6217', 'N6273', 'N6281', 'N6337', 'N6345',\n",
       "        'N6401', 'N6409', 'N6465', 'N6473', 'N6529', 'N6537', 'N6593',\n",
       "        'N6601', 'N6657', 'N6665', 'N6721', 'N6785', 'N6793', 'N6849',\n",
       "        'N6913', 'N7041', 'N7169', 'N7177', 'N7233', 'N7241', 'N7297',\n",
       "        'N7305', 'N7361', 'N7369', 'N7425', 'N7433', 'N7489', 'N7497',\n",
       "        'N7553', 'N7561', 'N7617', 'N7625', 'N7681', 'N7689', 'N7809',\n",
       "        'N7817', 'N7937', 'N8065', 'N8193', 'N8201', 'N8257', 'N8265',\n",
       "        'N8321', 'N8329', 'N8385', 'N8393', 'N8705', 'N8713', 'N8833',\n",
       "        'N8841', 'N9217', 'N9225', 'N9281', 'N9289', 'N9345', 'N9353',\n",
       "        'N9409', 'N9417', 'N9729', 'N9737', 'N9857', 'N9865', 'N10241',\n",
       "        'N10249', 'N10305', 'N10313', 'N10369', 'N10377', 'N10433',\n",
       "        'N10441', 'N10753', 'N10761', 'N10881', 'N10889', 'N11265',\n",
       "        'N11273', 'N11329', 'N11337', 'N11393', 'N11401', 'N11457',\n",
       "        'N11465', 'N11777', 'N11785', 'N11905', 'N11913', 'N12289',\n",
       "        'N12297', 'N12353', 'N12361', 'N12417', 'N12425', 'N12481',\n",
       "        'N12489', 'N12801', 'N12809', 'N12929', 'N12937', 'N13313',\n",
       "        'N13321', 'N13441', 'N13449', 'N13825', 'N13833', 'N13953',\n",
       "        'N13961', 'N14337', 'N14345', 'N14401', 'N14409', 'N14465',\n",
       "        'N14473', 'N14529', 'N14537', 'N14849', 'N14857', 'N14977',\n",
       "        'N14985', 'N15361', 'N15369', 'N15489', 'N15497', 'N15561',\n",
       "        'N15873', 'N15881', 'N16001', 'N16009', 'N16385', 'N16387',\n",
       "        'N16393', 'N16395', 'N16449', 'N16457', 'N16513', 'N16521',\n",
       "        'N16577', 'N16585', 'N16641', 'N16649', 'N16705', 'N16713',\n",
       "        'N16769', 'N16777', 'N16833', 'N16841', 'N16897', 'N16899',\n",
       "        'N16905', 'N16961', 'N16969', 'N17025', 'N17033', 'N17089',\n",
       "        'N17097', 'N17153', 'N17281', 'N17409', 'N17411', 'N17417',\n",
       "        'N17419', 'N17473', 'N17481', 'N17537', 'N17545', 'N17601',\n",
       "        'N17609', 'N17665', 'N17673', 'N17729', 'N17737', 'N17793',\n",
       "        'N17801', 'N17857', 'N17865', 'N17921', 'N17923', 'N17929',\n",
       "        'N17985', 'N17993', 'N18049', 'N18057', 'N18113', 'N18121',\n",
       "        'N18177', 'N18305', 'N18433', 'N18435', 'N18441', 'N18497',\n",
       "        'N18505', 'N18561', 'N18569', 'N18625', 'N18633', 'N18689',\n",
       "        'N18753', 'N18817', 'N18881', 'N18945', 'N18947', 'N19073',\n",
       "        'N19201', 'N19457', 'N19459', 'N19521', 'N19585', 'N19649',\n",
       "        'N19713', 'N19777', 'N19841', 'N19905', 'N19969', 'N19971',\n",
       "        'N20225', 'N20481', 'N20489', 'N20545', 'N20553', 'N20609',\n",
       "        'N20617', 'N20673', 'N20681', 'N20737', 'N20801', 'N20865',\n",
       "        'N20929', 'N20993', 'N21001', 'N21057', 'N21065', 'N21121',\n",
       "        'N21129', 'N21185', 'N21193', 'N21249', 'N21377', 'N21505',\n",
       "        'N21513', 'N21569', 'N21577', 'N21633', 'N21641', 'N21697',\n",
       "        'N21705', 'N21761', 'N21825', 'N21889', 'N21953', 'N22017',\n",
       "        'N22025', 'N22081', 'N22145', 'N22153', 'N22209', 'N22273',\n",
       "        'N22401', 'N22529', 'N22537', 'N22593', 'N22601', 'N22657',\n",
       "        'N22665', 'N22721', 'N22729', 'N22785', 'N22849', 'N22913',\n",
       "        'N22977', 'N23041', 'N23169', 'N23297', 'N23553', 'N23617',\n",
       "        'N23681', 'N23745', 'N23809', 'N23873', 'N23937', 'N24001',\n",
       "        'N24065', 'N24321', 'N24577', 'N24585', 'N24641', 'N24649',\n",
       "        'N24705', 'N24713', 'N24769', 'N24777', 'N25089', 'N25097',\n",
       "        'N25217', 'N25225', 'N25601', 'N25609', 'N25665', 'N25673',\n",
       "        'N25729', 'N25737', 'N25793', 'N25801', 'N26113', 'N26121',\n",
       "        'N26241', 'N26249', 'N26625', 'N26633', 'N26689', 'N27137',\n",
       "        'N27649', 'N28161', 'N28673', 'N28681', 'N28737', 'N28745',\n",
       "        'N28801', 'N28809', 'N28865', 'N28873', 'N29185', 'N29193',\n",
       "        'N29313', 'N29321', 'N29697', 'N29705', 'N29825', 'N29833',\n",
       "        'N30209', 'N30217', 'N30337', 'N30345', 'N30721', 'N31233',\n",
       "        'N31745', 'N32257', 'N32769', 'N32771', 'N32833', 'N32897',\n",
       "        'N32961', 'N33025', 'N33089', 'N33153', 'N33217', 'N33281',\n",
       "        'N33283', 'N33345', 'N33537', 'N33793', 'N33795', 'N33857',\n",
       "        'N33921', 'N33985', 'N34049', 'N34113', 'N34177', 'N34241',\n",
       "        'N34305', 'N34307', 'N34369', 'N34561', 'N34817', 'N34819',\n",
       "        'N34881', 'N34945', 'N35009', 'N35073', 'N35137', 'N35201',\n",
       "        'N35265', 'N35329', 'N35331', 'N35585', 'N35841', 'N35843',\n",
       "        'N35905', 'N35969', 'N36033', 'N36097', 'N36161', 'N36225',\n",
       "        'N36289', 'N36353', 'N36355', 'N36609', 'N36865', 'N36929',\n",
       "        'N36993', 'N37057', 'N37121', 'N37185', 'N37249', 'N37313',\n",
       "        'N37377', 'N37441', 'N37633', 'N37889', 'N37953', 'N38017',\n",
       "        'N38081', 'N38145', 'N38209', 'N38273', 'N38337', 'N38401',\n",
       "        'N38465', 'N38657', 'N38913', 'N38977', 'N39041', 'N39105',\n",
       "        'N39169', 'N39233', 'N39297', 'N39361', 'N39425', 'N39681',\n",
       "        'N39937', 'N40001', 'N40065', 'N40129', 'N40193', 'N40257',\n",
       "        'N40321', 'N40385', 'N40449', 'N40705', 'N40961', 'N41025',\n",
       "        'N41473', 'N41985', 'N42049', 'N42497', 'N43009', 'N43521',\n",
       "        'N44033', 'N44545', 'N45057', 'N45121', 'N45569', 'N46081',\n",
       "        'N46593', 'N47105', 'N47617', 'N48129', 'N48641', 'N49153',\n",
       "        'N49155', 'N49217', 'N49281', 'N49345', 'N49409', 'N49473',\n",
       "        'N49537', 'N49601', 'N49665', 'N49667', 'N49729', 'N49921',\n",
       "        'N50177', 'N50179', 'N50241', 'N50305', 'N50369', 'N50433',\n",
       "        'N50497', 'N50561', 'N50625', 'N50689', 'N50691', 'N50753',\n",
       "        'N50945', 'N51713', 'N51715', 'N52737', 'N52739', 'N53249',\n",
       "        'N53313', 'N53377', 'N53441', 'N53505', 'N53569', 'N53633',\n",
       "        'N53697', 'N53761', 'N53825', 'N54017', 'N54273', 'N54337',\n",
       "        'N54401', 'N54465', 'N54529', 'N54593', 'N54657', 'N54721',\n",
       "        'N54785', 'N54849', 'N55041', 'N56065', 'N56833', 'N57089',\n",
       "        'N57345', 'N57409', 'N57857', 'N58369', 'N58433', 'N58881',\n",
       "        'N59905', 'N61441', 'N61505', 'N61953', 'N62465', 'N62977',\n",
       "        'N64001'], dtype=object),\n",
       " array(['N1', 'N9', 'N65', 'N73', 'N129', 'N137', 'N193', 'N201', 'N513',\n",
       "        'N521', 'N577', 'N585', 'N641', 'N649', 'N705', 'N713', 'N1025',\n",
       "        'N1033', 'N1089', 'N1097', 'N1153', 'N1161', 'N1217', 'N1225',\n",
       "        'N1537', 'N1545', 'N1601', 'N1609', 'N1665', 'N1673', 'N1729',\n",
       "        'N1737', 'N2049', 'N2057', 'N2113', 'N2121', 'N2177', 'N2185',\n",
       "        'N2241', 'N2249', 'N2561', 'N2569', 'N2625', 'N2633', 'N2689',\n",
       "        'N2697', 'N2753', 'N2761', 'N3073', 'N3081', 'N3137', 'N3145',\n",
       "        'N3201', 'N3209', 'N3265', 'N3273', 'N3585', 'N3593', 'N3649',\n",
       "        'N3657', 'N3713', 'N3721', 'N3777', 'N3785', 'N4097', 'N4105',\n",
       "        'N4161', 'N4169', 'N4225', 'N4233', 'N4289', 'N4297', 'N4609',\n",
       "        'N4617', 'N4673', 'N4681', 'N4737', 'N4745', 'N4801', 'N4809',\n",
       "        'N5121', 'N5129', 'N5185', 'N5193', 'N5249', 'N5257', 'N5313',\n",
       "        'N5321', 'N5633', 'N5641', 'N5697', 'N5705', 'N5761', 'N5769',\n",
       "        'N5825', 'N5833', 'N6145', 'N6153', 'N6209', 'N6217', 'N6273',\n",
       "        'N6281', 'N6337', 'N6345', 'N6657', 'N6665', 'N6721', 'N6729',\n",
       "        'N6785', 'N6793', 'N6849', 'N6857', 'N7169', 'N7177', 'N7233',\n",
       "        'N7241', 'N7297', 'N7305', 'N7361', 'N7369', 'N7681', 'N7689',\n",
       "        'N7745', 'N7753', 'N7809', 'N7817', 'N7873', 'N7881', 'N8193',\n",
       "        'N8201', 'N8257', 'N8265', 'N8321', 'N8329', 'N8385', 'N8393',\n",
       "        'N8705', 'N8713', 'N8769', 'N8777', 'N8833', 'N8841', 'N8897',\n",
       "        'N9217', 'N9225', 'N9345', 'N9353', 'N9729', 'N9737', 'N9857',\n",
       "        'N9865', 'N10241', 'N10249', 'N10305', 'N10313', 'N10369',\n",
       "        'N10377', 'N10433', 'N10441', 'N10753', 'N10761', 'N10817',\n",
       "        'N10825', 'N10881', 'N10889', 'N10945', 'N11265', 'N11273',\n",
       "        'N11393', 'N11401', 'N11777', 'N11785', 'N11905', 'N11913',\n",
       "        'N12289', 'N12297', 'N12353', 'N12361', 'N12417', 'N12425',\n",
       "        'N12481', 'N12489', 'N12801', 'N12809', 'N12929', 'N12937',\n",
       "        'N13313', 'N13321', 'N13441', 'N13449', 'N13825', 'N13833',\n",
       "        'N13953', 'N13961', 'N14337', 'N14345', 'N14401', 'N14409',\n",
       "        'N14465', 'N14473', 'N14529', 'N14537', 'N14849', 'N14857',\n",
       "        'N14977', 'N14985', 'N15361', 'N15369', 'N15489', 'N15497',\n",
       "        'N15873', 'N15881', 'N16001', 'N16009', 'N16385', 'N16393',\n",
       "        'N16449', 'N16457', 'N16513', 'N16521', 'N16577', 'N16585',\n",
       "        'N16897', 'N16905', 'N16961', 'N16969', 'N17025', 'N17033',\n",
       "        'N17089', 'N17097', 'N17409', 'N17417', 'N17473', 'N17481',\n",
       "        'N17537', 'N17545', 'N17601', 'N17609', 'N17921', 'N17929',\n",
       "        'N17985', 'N17993', 'N18049', 'N18057', 'N18113', 'N18121',\n",
       "        'N18433', 'N18441', 'N18497', 'N18505', 'N18561', 'N18569',\n",
       "        'N18625', 'N18633', 'N18945', 'N18953', 'N19009', 'N19017',\n",
       "        'N19073', 'N19081', 'N19137', 'N19145', 'N19457', 'N19465',\n",
       "        'N19521', 'N19529', 'N19585', 'N19593', 'N19649', 'N19657',\n",
       "        'N19969', 'N19977', 'N20033', 'N20041', 'N20097', 'N20105',\n",
       "        'N20161', 'N20169', 'N20481', 'N20489', 'N20545', 'N20553',\n",
       "        'N20609', 'N20617', 'N20673', 'N20681', 'N20993', 'N21001',\n",
       "        'N21057', 'N21065', 'N21121', 'N21129', 'N21185', 'N21193',\n",
       "        'N21505', 'N21513', 'N21569', 'N21577', 'N21633', 'N21641',\n",
       "        'N21697', 'N21705', 'N22017', 'N22025', 'N22081', 'N22089',\n",
       "        'N22145', 'N22153', 'N22209', 'N22217', 'N22529', 'N22537',\n",
       "        'N22593', 'N22601', 'N22657', 'N22665', 'N22721', 'N22729',\n",
       "        'N23041', 'N23049', 'N23105', 'N23113', 'N23169', 'N23177',\n",
       "        'N23233', 'N23241', 'N23553', 'N23561', 'N23617', 'N23625',\n",
       "        'N23681', 'N23689', 'N23745', 'N23753', 'N24065', 'N24073',\n",
       "        'N24129', 'N24137', 'N24193', 'N24201', 'N24257', 'N24265',\n",
       "        'N24577', 'N24585', 'N24641', 'N24649', 'N24705', 'N24713',\n",
       "        'N24769', 'N24777', 'N25089', 'N25097', 'N25153', 'N25217',\n",
       "        'N25225', 'N25281', 'N25601', 'N25609', 'N25729', 'N25737',\n",
       "        'N26113', 'N26121', 'N26241', 'N26249', 'N26625', 'N26633',\n",
       "        'N26689', 'N26697', 'N26753', 'N26761', 'N26817', 'N26825',\n",
       "        'N27137', 'N27145', 'N27201', 'N27265', 'N27273', 'N27649',\n",
       "        'N27657', 'N27777', 'N27785', 'N28161', 'N28169', 'N28289',\n",
       "        'N28297', 'N28673', 'N28681', 'N28737', 'N28745', 'N28801',\n",
       "        'N28809', 'N28865', 'N28873', 'N29185', 'N29193', 'N29313',\n",
       "        'N29321', 'N29697', 'N29705', 'N29825', 'N29833', 'N30209',\n",
       "        'N30217', 'N30337', 'N30345', 'N30721', 'N30729', 'N30785',\n",
       "        'N30793', 'N30849', 'N30857', 'N30913', 'N30921', 'N31233',\n",
       "        'N31241', 'N31361', 'N31369', 'N31745', 'N31753', 'N31873',\n",
       "        'N31881', 'N32257', 'N32265', 'N32385', 'N32393', 'N32769',\n",
       "        'N32833', 'N32897', 'N32961', 'N33281', 'N33345', 'N33793',\n",
       "        'N33857', 'N33921', 'N33985', 'N34305', 'N34369', 'N34817',\n",
       "        'N34881', 'N34945', 'N35009', 'N35329', 'N35841', 'N35905',\n",
       "        'N35969', 'N36033', 'N36353', 'N36865', 'N36929', 'N36993',\n",
       "        'N37057', 'N37377', 'N37441', 'N37889', 'N37953', 'N38017',\n",
       "        'N38081', 'N38401', 'N38465', 'N38913', 'N38977', 'N39041',\n",
       "        'N39105', 'N39425', 'N39937', 'N40001', 'N40065', 'N40129',\n",
       "        'N40449', 'N40961', 'N41025', 'N41473', 'N41537', 'N41985',\n",
       "        'N42497', 'N43009', 'N43521', 'N44033', 'N44545', 'N45057',\n",
       "        'N45121', 'N45569', 'N46081', 'N46593', 'N47105', 'N47617',\n",
       "        'N48129', 'N48641', 'N49153', 'N49217', 'N49281', 'N49345',\n",
       "        'N49665', 'N49729', 'N50177', 'N50241', 'N50305', 'N50369',\n",
       "        'N50689', 'N50753', 'N53249', 'N53313', 'N53377', 'N53441',\n",
       "        'N53761', 'N53825', 'N54273', 'N54337', 'N54401', 'N54465',\n",
       "        'N54785', 'N54849', 'N56833', 'N57345', 'N57409', 'N57857',\n",
       "        'N57921', 'N58369', 'N58881', 'N59393', 'N61441', 'N61505',\n",
       "        'N61953', 'N62465', 'N62977'], dtype=object),\n",
       " array(['N8194', 'N8198', 'N8202', 'N8206', 'N8322', 'N8326', 'N8330',\n",
       "        'N8334', 'N9218', 'N9222', 'N9226', 'N9230', 'N9346', 'N9350',\n",
       "        'N9354', 'N9358', 'N10242', 'N10246', 'N10250', 'N10254', 'N10370',\n",
       "        'N10374', 'N10378', 'N10382', 'N11266', 'N11270', 'N11274',\n",
       "        'N11278', 'N11394', 'N11398', 'N11402', 'N11406', 'N12290',\n",
       "        'N12294', 'N12298', 'N12302', 'N12418', 'N12422', 'N12426',\n",
       "        'N12430', 'N13314', 'N13322', 'N13442', 'N13446', 'N13450',\n",
       "        'N13454', 'N14338', 'N14342', 'N14346', 'N14350', 'N14466',\n",
       "        'N14470', 'N14474', 'N14478', 'N15362', 'N15370', 'N15490',\n",
       "        'N15494', 'N15498', 'N15502', 'N24578', 'N24582', 'N24586',\n",
       "        'N24590', 'N24706', 'N24710', 'N24714', 'N24718', 'N25602',\n",
       "        'N25606', 'N25610', 'N25614', 'N26626', 'N26630', 'N26634',\n",
       "        'N26638', 'N27650', 'N27654', 'N27658', 'N27662', 'N28674',\n",
       "        'N28678', 'N28682', 'N28686', 'N28802', 'N28806', 'N28810',\n",
       "        'N28814', 'N29698', 'N29706', 'N30722', 'N30726', 'N30730',\n",
       "        'N30734', 'N31746', 'N31754', 'N40962', 'N40966', 'N40970',\n",
       "        'N40974', 'N41986', 'N41990', 'N41994', 'N41998', 'N43010',\n",
       "        'N43014', 'N43018', 'N43022', 'N44034', 'N44038', 'N44042',\n",
       "        'N44046', 'N45058', 'N45062', 'N46082', 'N47106', 'N48130',\n",
       "        'N57346', 'N57350', 'N57354', 'N57358', 'N58370', 'N58374',\n",
       "        'N58378', 'N58382', 'N61442', 'N61446', 'N62466'], dtype=object),\n",
       " array(['N8833', 'N8835', 'N8841', 'N8843', 'N8849', 'N8851', 'N8857',\n",
       "        'N8859', 'N8865', 'N8867', 'N8873', 'N8875', 'N8881', 'N8883',\n",
       "        'N8889', 'N8891', 'N9089', 'N9090', 'N9091', 'N9096', 'N9097',\n",
       "        'N9098', 'N9099', 'N9104', 'N9105', 'N9106', 'N9107', 'N9112',\n",
       "        'N9113', 'N9114', 'N9115', 'N9120', 'N9121', 'N9122', 'N9123',\n",
       "        'N9128', 'N9129', 'N9130', 'N9131', 'N9136', 'N9137', 'N9138',\n",
       "        'N9139', 'N9144', 'N9145', 'N9146', 'N9147', 'N9857', 'N9859',\n",
       "        'N9865', 'N9867', 'N9873', 'N9875', 'N9881', 'N9883', 'N9889',\n",
       "        'N9891', 'N9897', 'N9899', 'N9905', 'N9907', 'N9913', 'N9915',\n",
       "        'N10113', 'N10114', 'N10115', 'N10121', 'N10122', 'N10123',\n",
       "        'N10128', 'N10129', 'N10130', 'N10131', 'N10136', 'N10137',\n",
       "        'N10138', 'N10139', 'N10144', 'N10145', 'N10146', 'N10147',\n",
       "        'N10152', 'N10153', 'N10154', 'N10155', 'N10160', 'N10161',\n",
       "        'N10162', 'N10163', 'N10168', 'N10169', 'N10170', 'N10171',\n",
       "        'N10881', 'N10883', 'N10889', 'N10891', 'N10897', 'N10899',\n",
       "        'N10905', 'N10907', 'N10913', 'N10915', 'N10921', 'N10923',\n",
       "        'N10929', 'N10931', 'N10937', 'N10939', 'N11137', 'N11138',\n",
       "        'N11139', 'N11144', 'N11145', 'N11146', 'N11147', 'N11148',\n",
       "        'N11149', 'N11150', 'N11151', 'N11152', 'N11153', 'N11154',\n",
       "        'N11155', 'N11160', 'N11161', 'N11162', 'N11163', 'N11164',\n",
       "        'N11165', 'N11166', 'N11167', 'N11168', 'N11169', 'N11170',\n",
       "        'N11171', 'N11176', 'N11177', 'N11178', 'N11179', 'N11180',\n",
       "        'N11181', 'N11182', 'N11183', 'N11184', 'N11185', 'N11186',\n",
       "        'N11187', 'N11192', 'N11193', 'N11194', 'N11195', 'N11196',\n",
       "        'N11197', 'N11198', 'N11199', 'N11905', 'N11907', 'N11913',\n",
       "        'N11915', 'N11921', 'N11923', 'N11929', 'N11931', 'N11937',\n",
       "        'N11939', 'N11945', 'N11947', 'N11953', 'N11955', 'N11961',\n",
       "        'N11963', 'N12161', 'N12162', 'N12163', 'N12169', 'N12170',\n",
       "        'N12171', 'N12176', 'N12177', 'N12178', 'N12179', 'N12184',\n",
       "        'N12185', 'N12186', 'N12187', 'N12192', 'N12193', 'N12194',\n",
       "        'N12195', 'N12200', 'N12201', 'N12202', 'N12203', 'N12208',\n",
       "        'N12209', 'N12210', 'N12211', 'N12216', 'N12217', 'N12218',\n",
       "        'N12219', 'N12929', 'N12931', 'N12937', 'N12939', 'N12945',\n",
       "        'N12947', 'N12953', 'N12955', 'N12961', 'N12963', 'N12969',\n",
       "        'N12971', 'N12977', 'N12979', 'N12985', 'N12987', 'N13184',\n",
       "        'N13185', 'N13186', 'N13187', 'N13192', 'N13193', 'N13194',\n",
       "        'N13195', 'N13200', 'N13201', 'N13202', 'N13203', 'N13208',\n",
       "        'N13209', 'N13210', 'N13211', 'N13216', 'N13217', 'N13218',\n",
       "        'N13219', 'N13224', 'N13225', 'N13226', 'N13227', 'N13232',\n",
       "        'N13233', 'N13234', 'N13235', 'N13240', 'N13241', 'N13242',\n",
       "        'N13243', 'N13953', 'N13955', 'N13961', 'N13963', 'N13969',\n",
       "        'N13971', 'N13977', 'N13979', 'N13985', 'N13987', 'N13993',\n",
       "        'N13995', 'N14001', 'N14003', 'N14009', 'N14011', 'N14209',\n",
       "        'N14210', 'N14211', 'N14217', 'N14218', 'N14219', 'N14224',\n",
       "        'N14225', 'N14226', 'N14227', 'N14232', 'N14233', 'N14234',\n",
       "        'N14235', 'N14240', 'N14241', 'N14242', 'N14243', 'N14248',\n",
       "        'N14249', 'N14250', 'N14251', 'N14256', 'N14257', 'N14258',\n",
       "        'N14259', 'N14264', 'N14265', 'N14266', 'N14267', 'N14977',\n",
       "        'N14979', 'N14985', 'N14987', 'N14993', 'N14995', 'N15001',\n",
       "        'N15003', 'N15009', 'N15011', 'N15017', 'N15019', 'N15025',\n",
       "        'N15027', 'N15033', 'N15035', 'N15232', 'N15233', 'N15234',\n",
       "        'N15235', 'N15240', 'N15241', 'N15242', 'N15243', 'N15244',\n",
       "        'N15245', 'N15246', 'N15247', 'N15248', 'N15249', 'N15250',\n",
       "        'N15251', 'N15256', 'N15257', 'N15258', 'N15259', 'N15260',\n",
       "        'N15261', 'N15262', 'N15263', 'N15264', 'N15265', 'N15266',\n",
       "        'N15267', 'N15272', 'N15273', 'N15274', 'N15275', 'N15276',\n",
       "        'N15277', 'N15278', 'N15279', 'N15280', 'N15281', 'N15282',\n",
       "        'N15283', 'N15288', 'N15289', 'N15290', 'N15291', 'N15292',\n",
       "        'N15293', 'N15294', 'N15295', 'N16001', 'N16003', 'N16009',\n",
       "        'N16011', 'N16017', 'N16019', 'N16025', 'N16027', 'N16033',\n",
       "        'N16035', 'N16041', 'N16043', 'N16049', 'N16051', 'N16057',\n",
       "        'N16059', 'N16257', 'N16258', 'N16259', 'N16265', 'N16266',\n",
       "        'N16267', 'N16272', 'N16273', 'N16274', 'N16275', 'N16280',\n",
       "        'N16281', 'N16282', 'N16283', 'N16288', 'N16289', 'N16290',\n",
       "        'N16291', 'N16296', 'N16297', 'N16298', 'N16299', 'N16304',\n",
       "        'N16305', 'N16306', 'N16307', 'N16312', 'N16313', 'N16314',\n",
       "        'N16315'], dtype=object),\n",
       " array(['N1', 'N9', 'N65', 'N73', 'N129', 'N137', 'N193', 'N201', 'N257',\n",
       "        'N265', 'N321', 'N329', 'N385', 'N393', 'N449', 'N457', 'N1025',\n",
       "        'N1033', 'N1089', 'N1097', 'N1153', 'N1161', 'N1217', 'N1225',\n",
       "        'N1281', 'N1289', 'N1345', 'N1353', 'N1409', 'N1417', 'N1473',\n",
       "        'N1481', 'N2049', 'N2057', 'N2113', 'N2121', 'N2177', 'N2185',\n",
       "        'N2241', 'N2249', 'N2305', 'N2313', 'N2369', 'N2377', 'N2433',\n",
       "        'N2441', 'N2497', 'N2505', 'N3073', 'N3081', 'N3137', 'N3145',\n",
       "        'N3201', 'N3209', 'N3265', 'N3273', 'N3329', 'N3337', 'N3393',\n",
       "        'N3401', 'N3457', 'N3465', 'N3521', 'N3529', 'N4097', 'N4105',\n",
       "        'N4161', 'N4169', 'N4225', 'N4233', 'N4289', 'N4297', 'N4353',\n",
       "        'N4361', 'N4417', 'N4425', 'N4481', 'N4489', 'N4545', 'N4553',\n",
       "        'N5121', 'N5129', 'N5185', 'N5193', 'N5249', 'N5257', 'N5313',\n",
       "        'N5321', 'N5377', 'N5385', 'N5441', 'N5449', 'N5505', 'N5513',\n",
       "        'N5569', 'N5577', 'N6145', 'N6153', 'N6209', 'N6217', 'N6273',\n",
       "        'N6281', 'N6337', 'N6345', 'N6401', 'N6409', 'N6465', 'N6473',\n",
       "        'N6529', 'N6537', 'N6593', 'N6601', 'N7169', 'N7177', 'N7233',\n",
       "        'N7241', 'N7297', 'N7305', 'N7361', 'N7369', 'N7425', 'N7433',\n",
       "        'N7489', 'N7497', 'N7553', 'N7561', 'N7617', 'N7625', 'N8193',\n",
       "        'N8201', 'N8257', 'N8265', 'N8321', 'N8329', 'N8385', 'N8393',\n",
       "        'N8449', 'N8457', 'N8513', 'N8521', 'N8577', 'N8585', 'N8641',\n",
       "        'N8649', 'N9217', 'N9225', 'N9281', 'N9289', 'N9345', 'N9353',\n",
       "        'N9409', 'N9417', 'N9473', 'N9481', 'N9537', 'N9545', 'N9601',\n",
       "        'N9609', 'N9665', 'N9673', 'N10241', 'N10249', 'N10305', 'N10313',\n",
       "        'N10369', 'N10377', 'N10433', 'N10441', 'N10497', 'N10505',\n",
       "        'N10561', 'N10569', 'N10625', 'N10633', 'N10689', 'N10697',\n",
       "        'N11265', 'N11273', 'N11393', 'N11401', 'N11521', 'N11529',\n",
       "        'N11585', 'N11593', 'N11649', 'N11657', 'N11713', 'N11721',\n",
       "        'N12289', 'N12297', 'N12353', 'N12361', 'N12417', 'N12425',\n",
       "        'N12481', 'N12489', 'N12545', 'N12553', 'N12609', 'N12617',\n",
       "        'N12673', 'N12681', 'N12737', 'N12745', 'N13313', 'N13321',\n",
       "        'N13441', 'N13449', 'N13569', 'N13577', 'N13697', 'N13705',\n",
       "        'N14337', 'N14345', 'N14401', 'N14409', 'N14465', 'N14473',\n",
       "        'N14529', 'N14537', 'N14593', 'N14601', 'N14657', 'N14665',\n",
       "        'N14721', 'N14729', 'N14785', 'N14793', 'N15361', 'N15369',\n",
       "        'N15489', 'N15497', 'N15617', 'N15625', 'N15681', 'N15689',\n",
       "        'N15745', 'N15753', 'N15809', 'N15817', 'N16385', 'N16393',\n",
       "        'N16449', 'N16457', 'N16513', 'N16521', 'N16577', 'N16585',\n",
       "        'N16641', 'N16649', 'N16705', 'N16713', 'N16769', 'N16777',\n",
       "        'N16833', 'N16841', 'N17409', 'N17417', 'N17473', 'N17481',\n",
       "        'N17537', 'N17545', 'N17601', 'N17609', 'N17665', 'N17673',\n",
       "        'N17729', 'N17737', 'N17793', 'N17801', 'N17857', 'N17865',\n",
       "        'N18433', 'N18441', 'N18497', 'N18505', 'N18561', 'N18569',\n",
       "        'N18625', 'N18633', 'N18689', 'N18697', 'N18753', 'N18761',\n",
       "        'N18817', 'N18825', 'N18881', 'N18889', 'N19457', 'N19465',\n",
       "        'N19521', 'N19529', 'N19585', 'N19593', 'N19649', 'N19657',\n",
       "        'N19713', 'N19721', 'N19777', 'N19785', 'N19841', 'N19849',\n",
       "        'N19905', 'N19913', 'N20481', 'N20489', 'N20545', 'N20553',\n",
       "        'N20609', 'N20617', 'N20673', 'N20681', 'N20737', 'N20745',\n",
       "        'N20801', 'N20809', 'N20865', 'N20873', 'N20929', 'N20937',\n",
       "        'N21505', 'N21513', 'N21569', 'N21577', 'N21633', 'N21641',\n",
       "        'N21697', 'N21705', 'N21761', 'N21769', 'N21825', 'N21833',\n",
       "        'N21889', 'N21897', 'N21953', 'N21961', 'N22529', 'N22537',\n",
       "        'N22593', 'N22601', 'N22657', 'N22665', 'N22721', 'N22729',\n",
       "        'N22785', 'N22793', 'N22849', 'N22857', 'N22913', 'N22921',\n",
       "        'N22977', 'N22985', 'N23553', 'N23561', 'N23617', 'N23625',\n",
       "        'N23681', 'N23689', 'N23745', 'N23753', 'N23809', 'N23817',\n",
       "        'N23873', 'N23881', 'N23937', 'N23945', 'N24001', 'N24009',\n",
       "        'N24577', 'N24585', 'N24641', 'N24649', 'N24705', 'N24713',\n",
       "        'N24769', 'N24777', 'N24833', 'N24841', 'N24897', 'N24905',\n",
       "        'N24961', 'N24969', 'N25025', 'N25033', 'N25601', 'N25609',\n",
       "        'N25665', 'N25729', 'N25737', 'N25857', 'N25865', 'N25921',\n",
       "        'N25985', 'N25993', 'N26049', 'N26625', 'N26633', 'N26689',\n",
       "        'N26697', 'N26753', 'N26761', 'N26817', 'N26825', 'N26881',\n",
       "        'N26889', 'N26945', 'N26953', 'N27009', 'N27017', 'N27073',\n",
       "        'N27081', 'N27649', 'N27657', 'N27777', 'N27905', 'N27913',\n",
       "        'N28033', 'N28041', 'N28673', 'N28681', 'N28737', 'N28745',\n",
       "        'N28801', 'N28809', 'N28865', 'N28873', 'N28929', 'N28937',\n",
       "        'N28993', 'N29001', 'N29057', 'N29065', 'N29121', 'N29129',\n",
       "        'N29697', 'N29705', 'N29825', 'N29833', 'N29953', 'N29961',\n",
       "        'N30081', 'N30089', 'N30721', 'N30729', 'N30785', 'N30793',\n",
       "        'N30849', 'N30857', 'N30913', 'N30921', 'N30977', 'N30985',\n",
       "        'N31041', 'N31049', 'N31105', 'N31113', 'N31169', 'N31177',\n",
       "        'N31745', 'N31753', 'N31873', 'N32001', 'N32009', 'N32129',\n",
       "        'N32137', 'N32769', 'N32833', 'N32897', 'N32961', 'N33025',\n",
       "        'N33089', 'N33153', 'N33217', 'N33793', 'N33857', 'N33921',\n",
       "        'N33985', 'N34049', 'N34113', 'N34177', 'N34241', 'N34817',\n",
       "        'N34881', 'N34945', 'N35009', 'N35073', 'N35137', 'N35201',\n",
       "        'N35265', 'N35841', 'N35905', 'N35969', 'N36033', 'N36097',\n",
       "        'N36161', 'N36225', 'N36289', 'N36865', 'N36929', 'N36993',\n",
       "        'N37057', 'N37121', 'N37185', 'N37249', 'N37313', 'N37889',\n",
       "        'N37953', 'N38017', 'N38081', 'N38145', 'N38209', 'N38273',\n",
       "        'N38337', 'N38913', 'N38977', 'N39041', 'N39105', 'N39169',\n",
       "        'N39233', 'N39297', 'N39361', 'N39937', 'N40001', 'N40065',\n",
       "        'N40129', 'N40193', 'N40257', 'N40321', 'N40385', 'N40961',\n",
       "        'N41025', 'N41217', 'N41281', 'N41985', 'N42049', 'N42241',\n",
       "        'N42305', 'N43009', 'N43265', 'N44033', 'N44289', 'N45057',\n",
       "        'N45121', 'N45313', 'N45377', 'N46081', 'N46337', 'N47105',\n",
       "        'N47361', 'N48129', 'N48385', 'N49153', 'N49217', 'N49281',\n",
       "        'N49345', 'N49409', 'N49473', 'N49537', 'N49601', 'N50177',\n",
       "        'N50241', 'N50305', 'N50369', 'N50433', 'N50497', 'N50561',\n",
       "        'N50625', 'N53249', 'N53313', 'N53377', 'N53441', 'N53505',\n",
       "        'N53569', 'N53633', 'N53697', 'N54273', 'N54337', 'N54401',\n",
       "        'N54465', 'N54529', 'N54593', 'N54657', 'N54721', 'N57345',\n",
       "        'N57409', 'N57601', 'N57665', 'N58369', 'N58433', 'N58625',\n",
       "        'N58689', 'N61441', 'N61505', 'N61697', 'N61761', 'N62465',\n",
       "        'N62721', 'N63489'], dtype=object),\n",
       " array(['N1', 'N3', 'N5', ..., 'N62785', 'N63489', 'N64513'], dtype=object),\n",
       " array(['N1', 'N5', 'N9', ..., 'N62465', 'N62721', 'N63489'], dtype=object),\n",
       " array(['N8195', 'N8199', 'N8207', ..., 'N64771', 'N64803', 'N65313'],\n",
       "       dtype=object),\n",
       " array(['N2', 'N6', 'N10', 'N14', 'N130', 'N134', 'N138', 'N142', 'N262',\n",
       "        'N270', 'N1026', 'N1030', 'N1034', 'N1038', 'N1154', 'N1158',\n",
       "        'N1162', 'N1166', 'N1286', 'N1294', 'N1414', 'N1422', 'N2050',\n",
       "        'N2054', 'N2058', 'N2062', 'N2178', 'N2182', 'N2186', 'N2190',\n",
       "        'N2310', 'N2318', 'N3074', 'N3078', 'N3082', 'N3086', 'N3202',\n",
       "        'N3206', 'N3210', 'N3214', 'N3334', 'N3342', 'N4098', 'N4102',\n",
       "        'N4106', 'N4110', 'N4226', 'N4230', 'N4234', 'N4238', 'N5122',\n",
       "        'N5126', 'N5130', 'N5134', 'N5250', 'N5254', 'N5258', 'N5262',\n",
       "        'N5382', 'N5390', 'N6146', 'N6150', 'N6154', 'N6158', 'N6274',\n",
       "        'N6278', 'N6282', 'N6286', 'N7170', 'N7174', 'N7178', 'N7182',\n",
       "        'N7298', 'N7302', 'N7306', 'N7310', 'N7430', 'N7438', 'N8194',\n",
       "        'N8198', 'N8202', 'N8206', 'N8322', 'N8326', 'N8330', 'N8334',\n",
       "        'N8454', 'N8462', 'N9218', 'N9222', 'N9226', 'N9230', 'N9346',\n",
       "        'N9350', 'N9354', 'N9358', 'N9478', 'N9486', 'N10242', 'N10246',\n",
       "        'N10250', 'N10254', 'N10370', 'N10374', 'N10378', 'N10382',\n",
       "        'N10502', 'N10510', 'N11266', 'N11270', 'N11274', 'N11278',\n",
       "        'N11394', 'N11398', 'N11402', 'N11406', 'N11526', 'N11534',\n",
       "        'N12290', 'N12294', 'N12298', 'N12302', 'N12418', 'N12422',\n",
       "        'N12426', 'N12430', 'N13314', 'N13322', 'N13326', 'N13442',\n",
       "        'N13446', 'N13450', 'N13454', 'N14338', 'N14342', 'N14346',\n",
       "        'N14350', 'N14466', 'N14470', 'N14474', 'N14478', 'N15362',\n",
       "        'N15370', 'N15374', 'N15490', 'N15494', 'N15498', 'N15502',\n",
       "        'N16386', 'N16390', 'N16394', 'N16398', 'N16514', 'N16518',\n",
       "        'N16522', 'N16526', 'N16646', 'N16654', 'N16774', 'N16782',\n",
       "        'N17410', 'N17414', 'N17418', 'N17422', 'N17538', 'N17542',\n",
       "        'N17546', 'N17550', 'N17670', 'N17678', 'N17798', 'N17806',\n",
       "        'N18434', 'N18438', 'N18442', 'N18446', 'N18562', 'N18566',\n",
       "        'N18570', 'N18574', 'N18694', 'N18702', 'N18822', 'N18830',\n",
       "        'N19458', 'N19462', 'N19466', 'N19470', 'N19586', 'N19590',\n",
       "        'N19594', 'N19598', 'N19718', 'N19726', 'N19846', 'N19854',\n",
       "        'N20482', 'N20486', 'N20490', 'N20494', 'N20610', 'N20614',\n",
       "        'N20618', 'N20622', 'N20870', 'N20878', 'N21506', 'N21510',\n",
       "        'N21514', 'N21518', 'N21634', 'N21638', 'N21642', 'N21646',\n",
       "        'N21766', 'N21774', 'N21894', 'N21902', 'N22530', 'N22534',\n",
       "        'N22538', 'N22542', 'N22658', 'N22662', 'N22666', 'N22670',\n",
       "        'N22918', 'N22926', 'N23554', 'N23558', 'N23562', 'N23566',\n",
       "        'N23682', 'N23686', 'N23690', 'N23694', 'N23814', 'N23822',\n",
       "        'N23942', 'N23950', 'N24578', 'N24582', 'N24586', 'N24590',\n",
       "        'N24706', 'N24710', 'N24714', 'N24718', 'N24838', 'N24846',\n",
       "        'N25602', 'N25606', 'N25610', 'N25614', 'N25730', 'N25734',\n",
       "        'N25738', 'N25742', 'N25862', 'N25870', 'N26626', 'N26630',\n",
       "        'N26634', 'N26638', 'N26754', 'N26758', 'N26762', 'N26766',\n",
       "        'N26886', 'N26894', 'N27650', 'N27654', 'N27658', 'N27662',\n",
       "        'N27910', 'N27918', 'N28674', 'N28678', 'N28682', 'N28686',\n",
       "        'N28802', 'N28806', 'N28810', 'N28814', 'N29698', 'N29706',\n",
       "        'N29826', 'N29834', 'N30722', 'N30726', 'N30730', 'N30734',\n",
       "        'N30850', 'N30854', 'N30858', 'N30862', 'N31746', 'N31754',\n",
       "        'N32770', 'N32774', 'N32778', 'N32782', 'N33030', 'N33794',\n",
       "        'N33798', 'N33802', 'N33806', 'N34054', 'N34818', 'N34822',\n",
       "        'N34826', 'N34830', 'N35842', 'N35846', 'N35850', 'N35854',\n",
       "        'N36866', 'N36870', 'N37890', 'N37894', 'N38150', 'N38914',\n",
       "        'N39938', 'N40962', 'N40966', 'N40970', 'N40974', 'N41222',\n",
       "        'N41986', 'N41990', 'N41994', 'N41998', 'N42246', 'N43010',\n",
       "        'N43014', 'N43018', 'N43022', 'N44034', 'N44038', 'N44042',\n",
       "        'N44046', 'N45058', 'N45062', 'N46082', 'N47106', 'N48130',\n",
       "        'N49154', 'N49158', 'N49162', 'N49166', 'N49414', 'N50178',\n",
       "        'N50182', 'N50186', 'N50190', 'N50438', 'N53250', 'N53254',\n",
       "        'N54274', 'N54278', 'N54534', 'N57346', 'N57350', 'N57354',\n",
       "        'N57358', 'N57606', 'N58370', 'N58374', 'N58378', 'N58382',\n",
       "        'N58630', 'N61442', 'N61446', 'N62466'], dtype=object),\n",
       " array(['N1', 'N3', 'N9', ..., 'N62977', 'N62993', 'N63041'], dtype=object)]"
      ]
     },
     "execution_count": 88,
     "metadata": {},
     "output_type": "execute_result"
    }
   ],
   "source": [
    "[s for s in remaining if (one_strategy[30] not in s) and (one_strategy[13] not in s)\n",
    "                          and (one_strategy[14] not in s) and (one_strategy[7] not in s)\n",
    "                          and (one_strategy[27] not in s) and (one_strategy[28] not in s)]"
   ]
  },
  {
   "cell_type": "code",
   "execution_count": 78,
   "metadata": {},
   "outputs": [],
   "source": []
  },
  {
   "cell_type": "code",
   "execution_count": 84,
   "metadata": {},
   "outputs": [
    {
     "data": {
      "text/plain": [
       "['N20664',\n",
       " 'N3562',\n",
       " 'N23743',\n",
       " 'N1061',\n",
       " 'N3172',\n",
       " 'N4856',\n",
       " 'N20582',\n",
       " 'N50540',\n",
       " 'N23864',\n",
       " 'N21678',\n",
       " 'N17848',\n",
       " 'N7344',\n",
       " 'N1132',\n",
       " 'N23014',\n",
       " 'N18272',\n",
       " 'N19772',\n",
       " 'N3510',\n",
       " 'N5565',\n",
       " 'N19510',\n",
       " 'N2808',\n",
       " 'N426',\n",
       " 'N51747',\n",
       " 'N22884',\n",
       " 'N18664',\n",
       " 'N20576',\n",
       " 'N7358',\n",
       " 'N18488',\n",
       " 'N19316',\n",
       " 'N18912',\n",
       " 'N21694',\n",
       " 'N6568',\n",
       " 'N17573',\n",
       " 'N17855',\n",
       " 'N21094',\n",
       " 'N3370',\n",
       " 'N18914',\n",
       " 'N17726',\n",
       " 'N57120',\n",
       " 'N23520',\n",
       " 'N4196',\n",
       " 'N7408',\n",
       " 'N21224',\n",
       " 'N18793',\n",
       " 'N491',\n",
       " 'N21472',\n",
       " 'N1145',\n",
       " 'N2926',\n",
       " 'N488',\n",
       " 'N20768',\n",
       " 'N19360',\n",
       " 'N6114',\n",
       " 'N23734',\n",
       " 'N5483',\n",
       " 'N4192',\n",
       " 'N33302',\n",
       " 'N49508',\n",
       " 'N17512',\n",
       " 'N7140',\n",
       " 'N2428',\n",
       " 'N4334',\n",
       " 'N19436',\n",
       " 'N17829',\n",
       " 'N4336',\n",
       " 'N18552',\n",
       " 'N18656',\n",
       " 'N2530',\n",
       " 'N18356',\n",
       " 'N22716',\n",
       " 'N7402',\n",
       " 'N1207',\n",
       " 'N18798',\n",
       " 'N23840',\n",
       " 'N17846',\n",
       " 'N57123',\n",
       " 'N5874',\n",
       " 'N7396',\n",
       " 'N5241',\n",
       " 'N34757',\n",
       " 'N2544',\n",
       " 'N7650',\n",
       " 'N21484',\n",
       " 'N3692',\n",
       " 'N3322',\n",
       " 'N7586',\n",
       " 'N6768',\n",
       " 'N56368',\n",
       " 'N20720',\n",
       " 'N56881',\n",
       " 'N52784',\n",
       " 'N21684',\n",
       " 'N2146',\n",
       " 'N4194',\n",
       " 'N1084',\n",
       " 'N19516',\n",
       " 'N5438',\n",
       " 'N21802',\n",
       " 'N1632',\n",
       " 'N19310',\n",
       " 'N20578',\n",
       " 'N7590',\n",
       " 'N20718',\n",
       " 'N6890',\n",
       " 'N34114',\n",
       " 'N3442',\n",
       " 'N5544',\n",
       " 'N21486',\n",
       " 'N1529',\n",
       " 'N21856',\n",
       " 'N42334',\n",
       " 'N19895',\n",
       " 'N56850',\n",
       " 'N2410',\n",
       " 'N6320',\n",
       " 'N16624',\n",
       " 'N20656',\n",
       " 'N7422',\n",
       " 'N19644',\n",
       " 'N19302',\n",
       " 'N5472',\n",
       " 'N23152',\n",
       " 'N56866',\n",
       " 'N53858',\n",
       " 'N760',\n",
       " 'N17837',\n",
       " 'N3680',\n",
       " 'N19180',\n",
       " 'N23400',\n",
       " 'N748',\n",
       " 'N55345',\n",
       " 'N2818',\n",
       " 'N2172',\n",
       " 'N6398',\n",
       " 'N53025',\n",
       " 'N51077',\n",
       " 'N38615',\n",
       " 'N18550',\n",
       " 'N17784',\n",
       " 'N1531',\n",
       " 'N228',\n",
       " 'N4972',\n",
       " 'N54560',\n",
       " 'N19298',\n",
       " 'N23524',\n",
       " 'N5600',\n",
       " 'N7400',\n",
       " 'N21482',\n",
       " 'N1401',\n",
       " 'N5227',\n",
       " 'N4384',\n",
       " 'N19647',\n",
       " 'N18808',\n",
       " 'N18802',\n",
       " 'N4838',\n",
       " 'N63536',\n",
       " 'N249',\n",
       " 'N496',\n",
       " 'N7912',\n",
       " 'N752',\n",
       " 'N56867',\n",
       " 'N22634',\n",
       " 'N56371',\n",
       " 'N19874',\n",
       " 'N21352',\n",
       " 'N16634',\n",
       " 'N18918',\n",
       " 'N38752',\n",
       " 'N18284',\n",
       " 'N6388',\n",
       " 'N4718',\n",
       " 'N53011',\n",
       " 'N51475',\n",
       " 'N6432',\n",
       " 'N42106',\n",
       " 'N2166',\n",
       " 'N20972',\n",
       " 'N1636',\n",
       " 'N33120',\n",
       " 'N20906',\n",
       " 'N40224',\n",
       " 'N23868',\n",
       " 'N2798',\n",
       " 'N21926',\n",
       " 'N18795',\n",
       " 'N21948',\n",
       " 'N18028',\n",
       " 'N20722',\n",
       " 'N7138',\n",
       " 'N7275',\n",
       " 'N19518',\n",
       " 'N7414',\n",
       " 'N37472',\n",
       " 'N17471',\n",
       " 'N4329',\n",
       " 'N5224',\n",
       " 'N16568',\n",
       " 'N19638',\n",
       " 'N49504',\n",
       " 'N3134',\n",
       " 'N7288',\n",
       " 'N19511',\n",
       " 'N50836',\n",
       " 'N23022',\n",
       " 'N20716',\n",
       " 'N17260',\n",
       " 'N17847',\n",
       " 'N4588',\n",
       " 'N59442',\n",
       " 'N17196',\n",
       " 'N36610',\n",
       " 'N4347',\n",
       " 'N2296',\n",
       " 'N17785',\n",
       " 'N53860',\n",
       " 'N58698',\n",
       " 'N23740',\n",
       " 'N20072',\n",
       " 'N52002',\n",
       " 'N4198',\n",
       " 'N19202',\n",
       " 'N21686',\n",
       " 'N16492',\n",
       " 'N21549',\n",
       " 'N21941',\n",
       " 'N50946',\n",
       " 'N16702',\n",
       " 'N1448',\n",
       " 'N37942',\n",
       " 'N50272',\n",
       " 'N50498',\n",
       " 'N1445',\n",
       " 'N3696',\n",
       " 'N5094',\n",
       " 'N7520',\n",
       " 'N51250',\n",
       " 'N21934',\n",
       " 'N21220',\n",
       " 'N2228',\n",
       " 'N2914',\n",
       " 'N7144',\n",
       " 'N489',\n",
       " 'N19552',\n",
       " 'N4456',\n",
       " 'N64514',\n",
       " 'N3312',\n",
       " 'N6240',\n",
       " 'N19060',\n",
       " 'N22758',\n",
       " 'N1341',\n",
       " 'N21746',\n",
       " 'N53040',\n",
       " 'N1317',\n",
       " 'N23150',\n",
       " 'N19564',\n",
       " 'N3052',\n",
       " 'N3306',\n",
       " 'N4587',\n",
       " 'N51731',\n",
       " 'N17468',\n",
       " 'N20268',\n",
       " 'N18340',\n",
       " 'N4284',\n",
       " 'N23278',\n",
       " 'N22588',\n",
       " 'N34400',\n",
       " 'N4344',\n",
       " 'N7522',\n",
       " 'N53348',\n",
       " 'N36964',\n",
       " 'N1469',\n",
       " 'N1322',\n",
       " 'N7648',\n",
       " 'N19042',\n",
       " 'N65281',\n",
       " 'N5311',\n",
       " 'N2922',\n",
       " 'N3296',\n",
       " 'N20332',\n",
       " 'N34404',\n",
       " 'N23869',\n",
       " 'N17464',\n",
       " 'N21228',\n",
       " 'N176',\n",
       " 'N21222',\n",
       " 'N2918',\n",
       " 'N60192',\n",
       " 'N23020',\n",
       " 'N23853',\n",
       " 'N3434',\n",
       " 'N770',\n",
       " 'N36962',\n",
       " 'N1376',\n",
       " 'N60',\n",
       " 'N19771',\n",
       " 'N3954',\n",
       " 'N18786',\n",
       " 'N5344',\n",
       " 'N3938',\n",
       " 'N1768',\n",
       " 'N2414',\n",
       " 'N17709',\n",
       " 'N20968',\n",
       " 'N36966',\n",
       " 'N20328',\n",
       " 'N5302',\n",
       " 'N7020',\n",
       " 'N21088',\n",
       " 'N6778',\n",
       " 'N108',\n",
       " 'N42366',\n",
       " 'N23526',\n",
       " 'N37474',\n",
       " 'N188',\n",
       " 'N3324',\n",
       " 'N5439',\n",
       " 'N19501',\n",
       " 'N3252',\n",
       " 'N1471',\n",
       " 'N20962',\n",
       " 'N61200',\n",
       " 'N6496',\n",
       " 'N1144',\n",
       " 'N19751',\n",
       " 'N1922',\n",
       " 'N19759',\n",
       " 'N1640',\n",
       " 'N16882',\n",
       " 'N1470',\n",
       " 'N22708',\n",
       " 'N6244',\n",
       " 'N620',\n",
       " 'N4850',\n",
       " 'N38102',\n",
       " 'N21821',\n",
       " 'N1252',\n",
       " 'N19364',\n",
       " 'N534',\n",
       " 'N17722',\n",
       " 'N19424',\n",
       " 'N504',\n",
       " 'N764',\n",
       " 'N21935',\n",
       " 'N22649',\n",
       " 'N16626',\n",
       " 'N23988',\n",
       " 'N7800',\n",
       " 'N6758',\n",
       " 'N19769',\n",
       " 'N53010',\n",
       " 'N1463',\n",
       " 'N3508',\n",
       " 'N19172',\n",
       " 'N23736',\n",
       " 'N20708',\n",
       " 'N22638',\n",
       " 'N20384',\n",
       " 'N5437',\n",
       " 'N3708',\n",
       " 'N480',\n",
       " 'N7228',\n",
       " 'N7420',\n",
       " 'N18530',\n",
       " 'N1892',\n",
       " 'N34085',\n",
       " 'N51218',\n",
       " 'N6754',\n",
       " 'N55842',\n",
       " 'N8040',\n",
       " 'N7916',\n",
       " 'N20580',\n",
       " 'N6266',\n",
       " 'N17727',\n",
       " 'N3428',\n",
       " 'N7348',\n",
       " 'N18742',\n",
       " 'N1205',\n",
       " 'N2294',\n",
       " 'N4345',\n",
       " 'N7148',\n",
       " 'N2154',\n",
       " 'N5100',\n",
       " 'N20714',\n",
       " 'N3382',\n",
       " 'N5546',\n",
       " 'N3808',\n",
       " 'N50284',\n",
       " 'N23606',\n",
       " 'N1644',\n",
       " 'N54935',\n",
       " 'N53856',\n",
       " 'N6506',\n",
       " 'N21688',\n",
       " 'N364',\n",
       " 'N6638',\n",
       " 'N1802',\n",
       " 'N64049',\n",
       " 'N21669',\n",
       " 'N2302',\n",
       " 'N5994',\n",
       " 'N6910',\n",
       " 'N6764',\n",
       " 'N360',\n",
       " 'N23983',\n",
       " 'N2804',\n",
       " 'N5480',\n",
       " 'N19517',\n",
       " 'N42362',\n",
       " 'N4348',\n",
       " 'N20536',\n",
       " 'N53536',\n",
       " 'N17850',\n",
       " 'N1342',\n",
       " 'N21098',\n",
       " 'N22635',\n",
       " 'N50792',\n",
       " 'N18616',\n",
       " 'N4590',\n",
       " 'N23982',\n",
       " 'N6268',\n",
       " 'N18790',\n",
       " 'N3824',\n",
       " 'N23142',\n",
       " 'N2800',\n",
       " 'N5566',\n",
       " 'N8162',\n",
       " 'N2298',\n",
       " 'N56848',\n",
       " 'N16820',\n",
       " 'N1213',\n",
       " 'N18672',\n",
       " 'N50532',\n",
       " 'N251',\n",
       " 'N5423',\n",
       " 'N23018',\n",
       " 'N1257',\n",
       " 'N5308',\n",
       " 'N19629',\n",
       " 'N2794',\n",
       " 'N23590',\n",
       " 'N23268',\n",
       " 'N7908',\n",
       " 'N1086',\n",
       " 'N32872',\n",
       " 'N34408',\n",
       " 'N16822',\n",
       " 'N18220',\n",
       " 'N19306',\n",
       " 'N1248',\n",
       " 'N50469',\n",
       " 'N6324',\n",
       " 'N32868',\n",
       " 'N34660',\n",
       " 'N2358',\n",
       " 'N7012',\n",
       " 'N21949',\n",
       " 'N64544',\n",
       " 'N2814',\n",
       " 'N2108',\n",
       " 'N21823',\n",
       " 'N2786',\n",
       " 'N23732',\n",
       " 'N23871',\n",
       " 'N23866',\n",
       " 'N1462',\n",
       " 'N23735',\n",
       " 'N21096',\n",
       " 'N4858',\n",
       " 'N50020',\n",
       " 'N36960',\n",
       " 'N21930',\n",
       " 'N7290',\n",
       " 'N53043',\n",
       " 'N1900',\n",
       " 'N4716',\n",
       " 'N21102',\n",
       " 'N5474',\n",
       " 'N352',\n",
       " 'N19560',\n",
       " 'N20964',\n",
       " 'N1836',\n",
       " 'N2680',\n",
       " 'N6204',\n",
       " 'N52769',\n",
       " 'N5090',\n",
       " 'N5165',\n",
       " 'N18542',\n",
       " 'N16616',\n",
       " 'N20832',\n",
       " 'N19068',\n",
       " 'N22627',\n",
       " 'N34626',\n",
       " 'N7146',\n",
       " 'N4714',\n",
       " 'N1764',\n",
       " 'N19058',\n",
       " 'N23144',\n",
       " 'N17701',\n",
       " 'N17252',\n",
       " 'N6396',\n",
       " 'N17830',\n",
       " 'N18854',\n",
       " 'N736',\n",
       " 'N23146',\n",
       " 'N4834',\n",
       " 'N3132',\n",
       " 'N2150',\n",
       " 'N21943',\n",
       " 'N2542',\n",
       " 'N2290',\n",
       " 'N17768',\n",
       " 'N59683',\n",
       " 'N38548',\n",
       " 'N2224',\n",
       " 'N6258',\n",
       " 'N5856',\n",
       " 'N778',\n",
       " 'N20068',\n",
       " 'N3186',\n",
       " 'N39200',\n",
       " 'N2534',\n",
       " 'N23597',\n",
       " 'N34148',\n",
       " 'N23274',\n",
       " 'N60674',\n",
       " 'N21940',\n",
       " 'N4392',\n",
       " 'N21218',\n",
       " 'N33896',\n",
       " 'N58746',\n",
       " 'N7395',\n",
       " 'N2684',\n",
       " 'N20970',\n",
       " 'N23981',\n",
       " 'N37156',\n",
       " 'N3046',\n",
       " 'N5374',\n",
       " 'N1334',\n",
       " 'N18280',\n",
       " 'N3688',\n",
       " 'N18658',\n",
       " 'N17312',\n",
       " 'N19892',\n",
       " 'N21230',\n",
       " 'N50276',\n",
       " 'N64800',\n",
       " 'N32864',\n",
       " 'N21677',\n",
       " 'N6624',\n",
       " 'N19512',\n",
       " 'N16744',\n",
       " 'N21693',\n",
       " 'N1447',\n",
       " 'N23272',\n",
       " 'N34452',\n",
       " 'N42350',\n",
       " 'N7136',\n",
       " 'N19632',\n",
       " 'N2932',\n",
       " 'N18924',\n",
       " 'N33636',\n",
       " 'N19428',\n",
       " 'N5541',\n",
       " 'N17584',\n",
       " 'N6254',\n",
       " 'N19885',\n",
       " 'N1528',\n",
       " 'N18803',\n",
       " 'N17904',\n",
       " 'N55857',\n",
       " 'N1530',\n",
       " 'N18810',\n",
       " 'N19902',\n",
       " 'N6766',\n",
       " 'N22756',\n",
       " 'N242',\n",
       " 'N52529',\n",
       " 'N4206',\n",
       " 'N64802',\n",
       " 'N3850',\n",
       " 'N16632',\n",
       " 'N1069',\n",
       " 'N1272',\n",
       " 'N22776',\n",
       " 'N5092',\n",
       " 'N1212',\n",
       " 'N6752',\n",
       " 'N33388',\n",
       " 'N17826',\n",
       " 'N17854',\n",
       " 'N34146',\n",
       " 'N20844',\n",
       " 'N6252',\n",
       " 'N21090',\n",
       " 'N18674',\n",
       " 'N498',\n",
       " 'N17445',\n",
       " 'N5372',\n",
       " 'N6626',\n",
       " 'N21792',\n",
       " 'N7592',\n",
       " 'N5421',\n",
       " 'N22636',\n",
       " 'N6504',\n",
       " 'N22892',\n",
       " 'N18862',\n",
       " 'N5860',\n",
       " 'N21950',\n",
       " 'N6386',\n",
       " 'N23402',\n",
       " 'N252',\n",
       " 'N6250',\n",
       " 'N6636',\n",
       " 'N6898',\n",
       " 'N18662',\n",
       " 'N17590',\n",
       " 'N17648',\n",
       " 'N38551',\n",
       " 'N19637',\n",
       " 'N20710',\n",
       " 'N3180',\n",
       " 'N18922',\n",
       " 'N3054',\n",
       " 'N53344',\n",
       " 'N56369',\n",
       " 'N5362',\n",
       " 'N63778',\n",
       " 'N22958',\n",
       " 'N19636',\n",
       " 'N23613',\n",
       " 'N22820',\n",
       " 'N19430',\n",
       " 'N3310',\n",
       " 'N16560',\n",
       " 'N23615',\n",
       " 'N20264',\n",
       " 'N5182',\n",
       " 'N1504',\n",
       " 'N3570',\n",
       " 'N22768',\n",
       " 'N5551',\n",
       " 'N19556',\n",
       " 'N1320',\n",
       " 'N5102',\n",
       " 'N4576',\n",
       " 'N7470',\n",
       " 'N3820',\n",
       " 'N20586',\n",
       " 'N18811',\n",
       " 'N1403',\n",
       " 'N296',\n",
       " 'N7150',\n",
       " 'N104',\n",
       " 'N19054',\n",
       " 'N5602',\n",
       " 'N23855',\n",
       " 'N4204',\n",
       " 'N17504',\n",
       " 'N53862',\n",
       " 'N1085',\n",
       " 'N3176',\n",
       " 'N3298',\n",
       " 'N21478',\n",
       " 'N21564',\n",
       " 'N224',\n",
       " 'N20590',\n",
       " 'N17332',\n",
       " 'N37926',\n",
       " 'N17592',\n",
       " 'N50486',\n",
       " 'N23138',\n",
       " 'N23148',\n",
       " 'N6762',\n",
       " 'N1325',\n",
       " 'N21820',\n",
       " 'N23974',\n",
       " 'N19639',\n",
       " 'N4346',\n",
       " 'N96',\n",
       " 'N18680',\n",
       " 'N16480',\n",
       " 'N2532',\n",
       " 'N4330',\n",
       " 'N5088',\n",
       " 'N18926',\n",
       " 'N6500',\n",
       " 'N19770',\n",
       " 'N34102',\n",
       " 'N6628',\n",
       " 'N16918',\n",
       " 'N21927',\n",
       " 'N50213',\n",
       " 'N22828',\n",
       " 'N55586',\n",
       " 'N23136',\n",
       " 'N23867',\n",
       " 'N23264',\n",
       " 'N1972',\n",
       " 'N50796',\n",
       " 'N6904',\n",
       " 'N1896',\n",
       " 'N6906',\n",
       " 'N5293',\n",
       " 'N17470',\n",
       " 'N2658',\n",
       " 'N38103',\n",
       " 'N23612',\n",
       " 'N248',\n",
       " 'N21806',\n",
       " 'N22628',\n",
       " 'N3198',\n",
       " 'N20842',\n",
       " 'N3424',\n",
       " 'N23270',\n",
       " 'N3196',\n",
       " 'N17154',\n",
       " 'N3260',\n",
       " 'N5872',\n",
       " 'N3970',\n",
       " 'N6270',\n",
       " 'N23996',\n",
       " 'N63777',\n",
       " 'N3248',\n",
       " 'N20712',\n",
       " 'N64770',\n",
       " 'N22584',\n",
       " 'N17598',\n",
       " 'N16572',\n",
       " 'N37216',\n",
       " 'N5242',\n",
       " 'N23154',\n",
       " 'N4448',\n",
       " 'N3326',\n",
       " 'N21933',\n",
       " 'N18806',\n",
       " 'N32876',\n",
       " 'N7412',\n",
       " 'N7398',\n",
       " 'N16748',\n",
       " 'N4066',\n",
       " 'N19774',\n",
       " 'N54624',\n",
       " 'N740',\n",
       " 'N17772',\n",
       " 'N19816',\n",
       " 'N58450',\n",
       " 'N16736',\n",
       " 'N5864',\n",
       " 'N21476',\n",
       " 'N5549',\n",
       " 'N60704',\n",
       " 'N17839',\n",
       " 'N3262',\n",
       " 'N5356',\n",
       " 'N5369',\n",
       " 'N1124',\n",
       " 'N17597',\n",
       " 'N6886',\n",
       " 'N18539',\n",
       " 'N21480',\n",
       " 'N3368',\n",
       " 'N1384',\n",
       " 'N33380',\n",
       " 'N7016',\n",
       " 'N298',\n",
       " 'N1888',\n",
       " 'N4272',\n",
       " 'N19767',\n",
       " 'N7356',\n",
       " 'N17831',\n",
       " 'N17838',\n",
       " 'N3946',\n",
       " 'N56880',\n",
       " 'N6444',\n",
       " 'N53346',\n",
       " 'N51052',\n",
       " 'N3168',\n",
       " 'N7272',\n",
       " 'N18668',\n",
       " 'N52016',\n",
       " 'N33538',\n",
       " 'N17656',\n",
       " 'N3940',\n",
       " 'N49768',\n",
       " 'N7658',\n",
       " 'N236',\n",
       " 'N54626',\n",
       " 'N23975',\n",
       " 'N1340',\n",
       " 'N6770',\n",
       " 'N19773',\n",
       " 'N23999',\n",
       " 'N60465',\n",
       " 'N1273',\n",
       " 'N5360',\n",
       " 'N3302',\n",
       " 'N50016',\n",
       " 'N3194',\n",
       " 'N3300',\n",
       " 'N20728',\n",
       " 'N898',\n",
       " 'N21565',\n",
       " 'N4712',\n",
       " 'N22778',\n",
       " 'N20730',\n",
       " 'N872',\n",
       " 'N16880',\n",
       " 'N5371',\n",
       " 'N18794',\n",
       " 'N2802',\n",
       " 'N424',\n",
       " 'N20540',\n",
       " 'N19314',\n",
       " 'N56835',\n",
       " 'N2810',\n",
       " 'N5240',\n",
       " 'N1760',\n",
       " 'N22752',\n",
       " 'N5096',\n",
       " 'N17599',\n",
       " 'N21744',\n",
       " 'N21858',\n",
       " 'N5243',\n",
       " 'N37152',\n",
       " 'N932',\n",
       " 'N22762',\n",
       " 'N20660',\n",
       " 'N20226',\n",
       " 'N4388',\n",
       " 'N20780',\n",
       " 'N6122',\n",
       " 'N16740',\n",
       " 'N6630',\n",
       " 'N54934',\n",
       " 'N3314',\n",
       " 'N49760',\n",
       " 'N23396',\n",
       " 'N7598',\n",
       " 'N23728',\n",
       " 'N23854',\n",
       " 'N18682',\n",
       " 'N5183',\n",
       " 'N63776',\n",
       " 'N60466',\n",
       " 'N19901',\n",
       " 'N23406',\n",
       " 'N19066',\n",
       " 'N34666',\n",
       " 'N19893',\n",
       " 'N17516',\n",
       " 'N19320',\n",
       " 'N17591',\n",
       " 'N56353',\n",
       " 'N20588',\n",
       " 'N7528',\n",
       " 'N17248',\n",
       " 'N19170',\n",
       " 'N19640',\n",
       " 'N52019',\n",
       " 'N1260',\n",
       " 'N17596',\n",
       " 'N53350',\n",
       " 'N50280',\n",
       " 'N17469',\n",
       " 'N16612',\n",
       " 'N3816',\n",
       " 'N13060',\n",
       " 'N4340',\n",
       " 'N23140',\n",
       " 'N18620',\n",
       " 'N19050',\n",
       " 'N16564',\n",
       " 'N23532',\n",
       " 'N19493',\n",
       " 'N23016',\n",
       " 'N50530',\n",
       " 'N5538',\n",
       " 'N19062',\n",
       " 'N49252',\n",
       " 'N19621',\n",
       " 'N18336',\n",
       " 'N6882',\n",
       " 'N2676',\n",
       " 'N232',\n",
       " 'N4004',\n",
       " 'N8042',\n",
       " 'N22633',\n",
       " 'N18537',\n",
       " 'N34562',\n",
       " 'N54310',\n",
       " 'N5355',\n",
       " 'N18553',\n",
       " 'N5567',\n",
       " 'N22888',\n",
       " 'N2980',\n",
       " 'N63523',\n",
       " 'N23970',\n",
       " 'N34664',\n",
       " 'N5296',\n",
       " 'N22648',\n",
       " 'N50788',\n",
       " 'N3496',\n",
       " 'N6246',\n",
       " 'N53540',\n",
       " 'N5175',\n",
       " 'N7230',\n",
       " 'N53600',\n",
       " 'N16440',\n",
       " 'N6436',\n",
       " 'N22770',\n",
       " 'N23589',\n",
       " 'N2670',\n",
       " 'N8034',\n",
       " 'N3842',\n",
       " 'N1189',\n",
       " 'N20706',\n",
       " 'N23522',\n",
       " 'N56578',\n",
       " 'N2236',\n",
       " 'N49686',\n",
       " 'N7920',\n",
       " 'N18216',\n",
       " 'N19820',\n",
       " 'N21685',\n",
       " 'N2662',\n",
       " 'N3436',\n",
       " 'N2402',\n",
       " 'N33632',\n",
       " 'N19768',\n",
       " 'N23997',\n",
       " 'N19886',\n",
       " 'N22754',\n",
       " 'N21542',\n",
       " 'N506',\n",
       " 'N8160',\n",
       " 'N7530',\n",
       " 'N19244',\n",
       " 'N20324',\n",
       " 'N876',\n",
       " 'N4710',\n",
       " 'N18534',\n",
       " 'N23990',\n",
       " 'N6756',\n",
       " 'N2174',\n",
       " 'N55298',\n",
       " 'N4064',\n",
       " 'N30476',\n",
       " 'N2300',\n",
       " 'N56098',\n",
       " 'N3704',\n",
       " 'N4202',\n",
       " 'N19312',\n",
       " 'N1400',\n",
       " 'N17316',\n",
       " 'N18660',\n",
       " 'N3568',\n",
       " 'N7418',\n",
       " 'N63522',\n",
       " 'N5352',\n",
       " 'N7416',\n",
       " 'N22766',\n",
       " 'N20704',\n",
       " 'N3502',\n",
       " 'N60721',\n",
       " 'N16996',\n",
       " 'N60176',\n",
       " 'N19519',\n",
       " 'N16484',\n",
       " 'N18016',\n",
       " 'N51044',\n",
       " 'N21092',\n",
       " 'N20846',\n",
       " 'N5868',\n",
       " 'N50837',\n",
       " 'N16620',\n",
       " 'N19318',\n",
       " 'N8170',\n",
       " 'N16814',\n",
       " 'N7392',\n",
       " 'N7594',\n",
       " 'N16830',\n",
       " 'N64017',\n",
       " 'N21566',\n",
       " 'N55329',\n",
       " 'N33124',\n",
       " 'N22954',\n",
       " 'N54932',\n",
       " 'N55826',\n",
       " 'N19174',\n",
       " 'N2344',\n",
       " 'N1468',\n",
       " 'N19879',\n",
       " 'N62212',\n",
       " 'N17000',\n",
       " 'N20966',\n",
       " 'N4848',\n",
       " 'N3184',\n",
       " 'N18670',\n",
       " 'N63746',\n",
       " 'N60977',\n",
       " 'N21100',\n",
       " 'N16700',\n",
       " ...]"
      ]
     },
     "execution_count": 84,
     "metadata": {},
     "output_type": "execute_result"
    }
   ],
   "source": [
    "list(of_sets[0])"
   ]
  },
  {
   "cell_type": "code",
   "execution_count": 80,
   "metadata": {},
   "outputs": [
    {
     "data": {
      "text/plain": [
       "35766"
      ]
     },
     "execution_count": 80,
     "metadata": {},
     "output_type": "execute_result"
    }
   ],
   "source": [
    "len([item for sublist in of_sets for item in sublist])"
   ]
  },
  {
   "cell_type": "code",
   "execution_count": 81,
   "metadata": {},
   "outputs": [
    {
     "data": {
      "text/plain": [
       "35766"
      ]
     },
     "execution_count": 81,
     "metadata": {},
     "output_type": "execute_result"
    }
   ],
   "source": [
    "len(set([item for sublist in of_sets for item in sublist]))"
   ]
  },
  {
   "cell_type": "code",
   "execution_count": 82,
   "metadata": {},
   "outputs": [],
   "source": [
    "one_strategy = [list(s)[0] for s in of_sets]"
   ]
  },
  {
   "cell_type": "code",
   "execution_count": 83,
   "metadata": {},
   "outputs": [],
   "source": [
    "explains = []\n",
    "\n",
    "for strategy in one_strategy:\n",
    "    \n",
    "    strategy_explains = [i for i, s in enumerate(remaining) if strategy in s]\n",
    "    \n",
    "    explains.append(strategy_explains)"
   ]
  },
  {
   "cell_type": "code",
   "execution_count": null,
   "metadata": {},
   "outputs": [],
   "source": []
  },
  {
   "cell_type": "code",
   "execution_count": 85,
   "metadata": {},
   "outputs": [],
   "source": []
  },
  {
   "cell_type": "code",
   "execution_count": 86,
   "metadata": {},
   "outputs": [],
   "source": []
  },
  {
   "cell_type": "code",
   "execution_count": null,
   "metadata": {},
   "outputs": [],
   "source": [
    "c = list(itertools.combinations(range(51), 10))\n",
    "unq = set(c)"
   ]
  },
  {
   "cell_type": "code",
   "execution_count": 46,
   "metadata": {},
   "outputs": [
    {
     "name": "stderr",
     "output_type": "stream",
     "text": [
      "<ipython-input-46-2dfa81bb66b8>:1: TqdmDeprecationWarning: This function will be removed in tqdm==5.0.0\n",
      "Please use `tqdm.notebook.tqdm` instead of `tqdm.tqdm_notebook`\n",
      "  for i, j, k, l, m in tqdm.tqdm_notebook(unq):\n"
     ]
    },
    {
     "data": {
      "application/vnd.jupyter.widget-view+json": {
       "model_id": "661bada2349c49e38d5a5808ead4f012",
       "version_major": 2,
       "version_minor": 0
      },
      "text/plain": [
       "HBox(children=(FloatProgress(value=0.0, max=2349060.0), HTML(value='')))"
      ]
     },
     "metadata": {},
     "output_type": "display_data"
    },
    {
     "name": "stdout",
     "output_type": "stream",
     "text": [
      "\n"
     ]
    },
    {
     "ename": "KeyboardInterrupt",
     "evalue": "",
     "output_type": "error",
     "traceback": [
      "\u001b[0;31m---------------------------------------------------------------------------\u001b[0m",
      "\u001b[0;31mKeyboardInterrupt\u001b[0m                         Traceback (most recent call last)",
      "\u001b[0;32m<ipython-input-46-2dfa81bb66b8>\u001b[0m in \u001b[0;36m<module>\u001b[0;34m\u001b[0m\n\u001b[1;32m      3\u001b[0m     \u001b[0msets_\u001b[0m \u001b[0;34m=\u001b[0m \u001b[0mset\u001b[0m\u001b[0;34m(\u001b[0m\u001b[0mexplains\u001b[0m\u001b[0;34m[\u001b[0m\u001b[0mi\u001b[0m\u001b[0;34m]\u001b[0m \u001b[0;34m+\u001b[0m \u001b[0mexplains\u001b[0m\u001b[0;34m[\u001b[0m\u001b[0mj\u001b[0m\u001b[0;34m]\u001b[0m \u001b[0;34m+\u001b[0m \u001b[0mexplains\u001b[0m\u001b[0;34m[\u001b[0m\u001b[0mk\u001b[0m\u001b[0;34m]\u001b[0m \u001b[0;34m+\u001b[0m \u001b[0mexplains\u001b[0m\u001b[0;34m[\u001b[0m\u001b[0ml\u001b[0m\u001b[0;34m]\u001b[0m \u001b[0;34m+\u001b[0m \u001b[0mexplains\u001b[0m\u001b[0;34m[\u001b[0m\u001b[0mm\u001b[0m\u001b[0;34m]\u001b[0m\u001b[0;34m)\u001b[0m\u001b[0;34m\u001b[0m\u001b[0;34m\u001b[0m\u001b[0m\n\u001b[1;32m      4\u001b[0m \u001b[0;34m\u001b[0m\u001b[0m\n\u001b[0;32m----> 5\u001b[0;31m     \u001b[0;32mif\u001b[0m \u001b[0mlen\u001b[0m\u001b[0;34m(\u001b[0m\u001b[0msets_\u001b[0m\u001b[0;34m.\u001b[0m\u001b[0mdifference\u001b[0m\u001b[0;34m(\u001b[0m\u001b[0mset\u001b[0m\u001b[0;34m(\u001b[0m\u001b[0mflat_list\u001b[0m\u001b[0;34m)\u001b[0m\u001b[0;34m)\u001b[0m\u001b[0;34m)\u001b[0m \u001b[0;34m==\u001b[0m \u001b[0;36m0\u001b[0m\u001b[0;34m:\u001b[0m\u001b[0;34m\u001b[0m\u001b[0;34m\u001b[0m\u001b[0m\n\u001b[0m\u001b[1;32m      6\u001b[0m         \u001b[0mprint\u001b[0m\u001b[0;34m(\u001b[0m\u001b[0mi\u001b[0m\u001b[0;34m,\u001b[0m \u001b[0mj\u001b[0m\u001b[0;34m)\u001b[0m\u001b[0;34m\u001b[0m\u001b[0;34m\u001b[0m\u001b[0m\n",
      "\u001b[0;31mKeyboardInterrupt\u001b[0m: "
     ]
    }
   ],
   "source": [
    "for i, j, k, l, m in tqdm.tqdm_notebook(unq):\n",
    "    \n",
    "    sets_ = set(explains[i] + explains[j] + explains[k] + explains[l] + explains[m])\n",
    "\n",
    "    if len(sets_.difference(set(flat_list))) == 0:\n",
    "        print(i, j)"
   ]
  },
  {
   "cell_type": "code",
   "execution_count": 49,
   "metadata": {},
   "outputs": [
    {
     "data": {
      "text/plain": [
       "345025251"
      ]
     },
     "execution_count": 49,
     "metadata": {},
     "output_type": "execute_result"
    }
   ],
   "source": [
    "51 ** 5"
   ]
  },
  {
   "cell_type": "code",
   "execution_count": 34,
   "metadata": {},
   "outputs": [
    {
     "data": {
      "text/plain": [
       "[30, 75, 90]"
      ]
     },
     "execution_count": 34,
     "metadata": {},
     "output_type": "execute_result"
    }
   ],
   "source": [
    "for i, j, k in list(itertools.combinations(labels, r=3)):\n",
    "    index = [s for _, s in enumerate(sets) if (i not in list(s) and j not in list(s) and k not in list(s))]\n",
    "    \n",
    "    if len(index) == 0:\n",
    "        idx_sets.append((i, j, k))"
   ]
  },
  {
   "cell_type": "code",
   "execution_count": 17,
   "metadata": {},
   "outputs": [
    {
     "ename": "IndexError",
     "evalue": "list index out of range",
     "output_type": "error",
     "traceback": [
      "\u001b[0;31m---------------------------------------------------------------------------\u001b[0m",
      "\u001b[0;31mIndexError\u001b[0m                                Traceback (most recent call last)",
      "\u001b[0;32m<ipython-input-17-d601c594e77b>\u001b[0m in \u001b[0;36m<module>\u001b[0;34m\u001b[0m\n\u001b[0;32m----> 1\u001b[0;31m \u001b[0mkeys\u001b[0m \u001b[0;34m=\u001b[0m \u001b[0;34m[\u001b[0m\u001b[0mkey\u001b[0m \u001b[0;32mfor\u001b[0m \u001b[0mkey\u001b[0m\u001b[0;34m,\u001b[0m \u001b[0mcount\u001b[0m \u001b[0;32min\u001b[0m \u001b[0mzip\u001b[0m\u001b[0;34m(\u001b[0m\u001b[0mcounter\u001b[0m\u001b[0;34m.\u001b[0m\u001b[0mkeys\u001b[0m\u001b[0;34m(\u001b[0m\u001b[0;34m)\u001b[0m\u001b[0;34m,\u001b[0m \u001b[0mcounter\u001b[0m\u001b[0;34m.\u001b[0m\u001b[0mvalues\u001b[0m\u001b[0;34m(\u001b[0m\u001b[0;34m)\u001b[0m\u001b[0;34m)\u001b[0m \u001b[0;32mif\u001b[0m \u001b[0mcount\u001b[0m \u001b[0;34m==\u001b[0m \u001b[0mset\u001b[0m\u001b[0;34m(\u001b[0m\u001b[0mcounter\u001b[0m\u001b[0;34m.\u001b[0m\u001b[0mvalues\u001b[0m\u001b[0;34m(\u001b[0m\u001b[0;34m)\u001b[0m\u001b[0;34m)\u001b[0m\u001b[0;34m]\u001b[0m\u001b[0;34m[\u001b[0m\u001b[0;36m0\u001b[0m\u001b[0;34m]\u001b[0m\u001b[0;34m\u001b[0m\u001b[0;34m\u001b[0m\u001b[0m\n\u001b[0m",
      "\u001b[0;31mIndexError\u001b[0m: list index out of range"
     ]
    }
   ],
   "source": [
    "# keys = [key for key, count in zip(counter.keys(), counter.values()) if count == set(counter.values())][0]"
   ]
  },
  {
   "cell_type": "code",
   "execution_count": null,
   "metadata": {},
   "outputs": [],
   "source": [
    "keys"
   ]
  },
  {
   "cell_type": "code",
   "execution_count": 233,
   "metadata": {},
   "outputs": [],
   "source": [
    "remaining = [s for s in sets if ('N0' not in s)]\n",
    "\n",
    "flat_list = [item for sublist in remaining for item in sublist]\n",
    "\n",
    "counter = collections.Counter(flat_list)"
   ]
  },
  {
   "cell_type": "code",
   "execution_count": 234,
   "metadata": {},
   "outputs": [
    {
     "data": {
      "text/plain": [
       "26"
      ]
     },
     "execution_count": 234,
     "metadata": {},
     "output_type": "execute_result"
    }
   ],
   "source": [
    "counter['N8833']"
   ]
  },
  {
   "cell_type": "code",
   "execution_count": 235,
   "metadata": {},
   "outputs": [
    {
     "data": {
      "text/plain": [
       "['N19',\n",
       " 'N83',\n",
       " 'N147',\n",
       " 'N211',\n",
       " 'N267',\n",
       " 'N717',\n",
       " 'N901',\n",
       " 'N961',\n",
       " 'N1029',\n",
       " 'N1043',\n",
       " 'N1093',\n",
       " 'N1157',\n",
       " 'N1171',\n",
       " 'N1221',\n",
       " 'N1285',\n",
       " 'N1291',\n",
       " 'N1349',\n",
       " 'N1413',\n",
       " 'N1477',\n",
       " 'N1541',\n",
       " 'N1605',\n",
       " 'N1669',\n",
       " 'N1733',\n",
       " 'N1797',\n",
       " 'N1861',\n",
       " 'N1925',\n",
       " 'N1985',\n",
       " 'N1989',\n",
       " 'N2067',\n",
       " 'N2195',\n",
       " 'N2315',\n",
       " 'N2637',\n",
       " 'N2757',\n",
       " 'N3077',\n",
       " 'N3085',\n",
       " 'N3091',\n",
       " 'N3141',\n",
       " 'N3149',\n",
       " 'N3205',\n",
       " 'N3213',\n",
       " 'N3219',\n",
       " 'N3269',\n",
       " 'N3277',\n",
       " 'N3339',\n",
       " 'N4099',\n",
       " 'N4741',\n",
       " 'N4749',\n",
       " 'N5123',\n",
       " 'N5331',\n",
       " 'N6147',\n",
       " 'N6725',\n",
       " 'N7171',\n",
       " 'N7181',\n",
       " 'N7245',\n",
       " 'N7251',\n",
       " 'N7309',\n",
       " 'N7373',\n",
       " 'N7379',\n",
       " 'N8195',\n",
       " 'N8219',\n",
       " 'N8529',\n",
       " 'N9219',\n",
       " 'N9243',\n",
       " 'N10243',\n",
       " 'N10267',\n",
       " 'N10705',\n",
       " 'N11267',\n",
       " 'N11291',\n",
       " 'N12315',\n",
       " 'N13339',\n",
       " 'N13769',\n",
       " 'N14363',\n",
       " 'N15387',\n",
       " 'N15809',\n",
       " 'N16395',\n",
       " 'N16403',\n",
       " 'N16408',\n",
       " 'N16467',\n",
       " 'N16472',\n",
       " 'N16536',\n",
       " 'N16600',\n",
       " 'N17161',\n",
       " 'N17293',\n",
       " 'N17413',\n",
       " 'N17427',\n",
       " 'N17477',\n",
       " 'N17541',\n",
       " 'N17605',\n",
       " 'N17669',\n",
       " 'N17733',\n",
       " 'N17797',\n",
       " 'N17811',\n",
       " 'N17861',\n",
       " 'N17925',\n",
       " 'N17989',\n",
       " 'N18053',\n",
       " 'N18117',\n",
       " 'N18181',\n",
       " 'N18245',\n",
       " 'N18309',\n",
       " 'N18369',\n",
       " 'N18373',\n",
       " 'N18451',\n",
       " 'N18949',\n",
       " 'N19077',\n",
       " 'N19265',\n",
       " 'N19475',\n",
       " 'N19859',\n",
       " 'N19977',\n",
       " 'N20033',\n",
       " 'N20097',\n",
       " 'N20483',\n",
       " 'N20635',\n",
       " 'N21005',\n",
       " 'N21133',\n",
       " 'N21507',\n",
       " 'N22531',\n",
       " 'N22739',\n",
       " 'N23555',\n",
       " 'N23699',\n",
       " 'N24193',\n",
       " 'N24579',\n",
       " 'N24603',\n",
       " 'N24723',\n",
       " 'N24913',\n",
       " 'N25603',\n",
       " 'N26627',\n",
       " 'N26651',\n",
       " 'N26961',\n",
       " 'N27651',\n",
       " 'N28889',\n",
       " 'N29841',\n",
       " 'N32009',\n",
       " 'N32787',\n",
       " 'N32851',\n",
       " 'N33797',\n",
       " 'N33811',\n",
       " 'N33861',\n",
       " 'N33925',\n",
       " 'N33989',\n",
       " 'N34053',\n",
       " 'N34117',\n",
       " 'N34181',\n",
       " 'N34245',\n",
       " 'N34373',\n",
       " 'N34629',\n",
       " 'N34835',\n",
       " 'N35859',\n",
       " 'N37381',\n",
       " 'N37971',\n",
       " 'N41235',\n",
       " 'N42259',\n",
       " 'N43283',\n",
       " 'N44307',\n",
       " 'N49155',\n",
       " 'N50179',\n",
       " 'N50181',\n",
       " 'N50245',\n",
       " 'N50309',\n",
       " 'N50373',\n",
       " 'N50437',\n",
       " 'N50501',\n",
       " 'N50565',\n",
       " 'N50629',\n",
       " 'N50757',\n",
       " 'N50885',\n",
       " 'N51013',\n",
       " 'N51141',\n",
       " 'N53765',\n",
       " 'N54355',\n",
       " 'N57619',\n",
       " 'N58643',\n",
       " 'N41029',\n",
       " 'N57413',\n",
       " 'N26049',\n",
       " 'N14341',\n",
       " 'N24717',\n",
       " 'N24965',\n",
       " 'N10437',\n",
       " 'N8833',\n",
       " 'N9857',\n",
       " 'N10881',\n",
       " 'N11905',\n",
       " 'N12801',\n",
       " 'N13825',\n",
       " 'N14849',\n",
       " 'N15873',\n",
       " 'N29185',\n",
       " 'N29193']"
      ]
     },
     "execution_count": 235,
     "metadata": {},
     "output_type": "execute_result"
    }
   ],
   "source": [
    "[key for key, count in zip(counter.keys(), counter.values()) if count == 26]"
   ]
  },
  {
   "cell_type": "code",
   "execution_count": 236,
   "metadata": {},
   "outputs": [],
   "source": [
    "of_sets = []\n",
    "\n",
    "for value in set(counter.values()):\n",
    "    \n",
    "    strategies = [key for key, count in zip(counter.keys(), counter.values()) if count == value]\n",
    "    \n",
    "    of_sets.append(set(strategies))"
   ]
  },
  {
   "cell_type": "code",
   "execution_count": 237,
   "metadata": {},
   "outputs": [],
   "source": [
    "pairs = []\n",
    "\n",
    "for i, set_ in enumerate(of_sets[:-1]):\n",
    "    for j, other_set in enumerate(of_sets[i + 1:]):\n",
    "        if len(set_) == len(set_.difference(other_set)):\n",
    "            pass\n",
    "        else:\n",
    "            pairs.append((i, j))"
   ]
  },
  {
   "cell_type": "code",
   "execution_count": 240,
   "metadata": {},
   "outputs": [
    {
     "data": {
      "text/plain": [
       "{'N1',\n",
       " 'N1025',\n",
       " 'N10369',\n",
       " 'N1089',\n",
       " 'N11393',\n",
       " 'N1153',\n",
       " 'N1217',\n",
       " 'N129',\n",
       " 'N16385',\n",
       " 'N16449',\n",
       " 'N16513',\n",
       " 'N16577',\n",
       " 'N17409',\n",
       " 'N17473',\n",
       " 'N17537',\n",
       " 'N17601',\n",
       " 'N18433',\n",
       " 'N18497',\n",
       " 'N18561',\n",
       " 'N18625',\n",
       " 'N193',\n",
       " 'N19457',\n",
       " 'N19521',\n",
       " 'N19585',\n",
       " 'N19649',\n",
       " 'N2049',\n",
       " 'N2113',\n",
       " 'N2177',\n",
       " 'N2241',\n",
       " 'N3073',\n",
       " 'N3137',\n",
       " 'N3201',\n",
       " 'N3265',\n",
       " 'N65',\n",
       " 'N8321',\n",
       " 'N9345'}"
      ]
     },
     "execution_count": 240,
     "metadata": {},
     "output_type": "execute_result"
    }
   ],
   "source": [
    "of_sets[-1]"
   ]
  },
  {
   "cell_type": "code",
   "execution_count": 204,
   "metadata": {},
   "outputs": [
    {
     "data": {
      "text/plain": [
       "36"
      ]
     },
     "execution_count": 204,
     "metadata": {},
     "output_type": "execute_result"
    }
   ],
   "source": [
    "len(of_sets[-1].difference(of_sets[-2]))"
   ]
  },
  {
   "cell_type": "code",
   "execution_count": 205,
   "metadata": {},
   "outputs": [
    {
     "data": {
      "text/plain": [
       "36"
      ]
     },
     "execution_count": 205,
     "metadata": {},
     "output_type": "execute_result"
    }
   ],
   "source": [
    "len(of_sets[-1])"
   ]
  },
  {
   "cell_type": "code",
   "execution_count": 113,
   "metadata": {},
   "outputs": [],
   "source": [
    "# remaining = [[int(item.split(\"N\")[-1]) for item in s] for s in remaining]"
   ]
  },
  {
   "cell_type": "code",
   "execution_count": 114,
   "metadata": {},
   "outputs": [
    {
     "data": {
      "text/plain": [
       "47"
      ]
     },
     "execution_count": 114,
     "metadata": {},
     "output_type": "execute_result"
    }
   ],
   "source": [
    "len(remaining)"
   ]
  },
  {
   "cell_type": "code",
   "execution_count": 123,
   "metadata": {},
   "outputs": [],
   "source": [
    "lenghts = [len(s) for s in remaining]"
   ]
  },
  {
   "cell_type": "code",
   "execution_count": 126,
   "metadata": {},
   "outputs": [
    {
     "data": {
      "text/plain": [
       "[72,\n",
       " 128,\n",
       " 147,\n",
       " 180,\n",
       " 217,\n",
       " 222,\n",
       " 224,\n",
       " 230,\n",
       " 288,\n",
       " 300,\n",
       " 336,\n",
       " 336,\n",
       " 374,\n",
       " 406,\n",
       " 440,\n",
       " 443,\n",
       " 525,\n",
       " 528,\n",
       " 598,\n",
       " 632,\n",
       " 680,\n",
       " 805,\n",
       " 809,\n",
       " 867,\n",
       " 932,\n",
       " 934,\n",
       " 971,\n",
       " 996,\n",
       " 1001,\n",
       " 1031,\n",
       " 1058,\n",
       " 1081,\n",
       " 1106,\n",
       " 1125,\n",
       " 1169,\n",
       " 1207,\n",
       " 1233,\n",
       " 1253,\n",
       " 1358,\n",
       " 1359,\n",
       " 1389,\n",
       " 1481,\n",
       " 1482,\n",
       " 1483,\n",
       " 1506,\n",
       " 1553,\n",
       " 1627,\n",
       " 1681,\n",
       " 1720,\n",
       " 1784,\n",
       " 1930,\n",
       " 1947,\n",
       " 1956,\n",
       " 1987,\n",
       " 2253,\n",
       " 2275,\n",
       " 2398,\n",
       " 2418,\n",
       " 2467,\n",
       " 2493,\n",
       " 2881,\n",
       " 2995,\n",
       " 3111,\n",
       " 3310,\n",
       " 3396,\n",
       " 3424,\n",
       " 3497,\n",
       " 3524,\n",
       " 3974,\n",
       " 4206,\n",
       " 4400,\n",
       " 5578,\n",
       " 5941,\n",
       " 6098,\n",
       " 6423,\n",
       " 7060,\n",
       " 7205,\n",
       " 7250,\n",
       " 8077,\n",
       " 8139,\n",
       " 8685,\n",
       " 8700,\n",
       " 9130,\n",
       " 9208,\n",
       " 9925,\n",
       " 10843,\n",
       " 12472,\n",
       " 12498,\n",
       " 12738,\n",
       " 14026,\n",
       " 18061,\n",
       " 19043,\n",
       " 21329,\n",
       " 30089]"
      ]
     },
     "execution_count": 126,
     "metadata": {},
     "output_type": "execute_result"
    }
   ],
   "source": [
    "sorted(lenghts)"
   ]
  },
  {
   "cell_type": "code",
   "execution_count": 116,
   "metadata": {},
   "outputs": [
    {
     "data": {
      "text/plain": [
       "32"
      ]
     },
     "execution_count": 116,
     "metadata": {},
     "output_type": "execute_result"
    }
   ],
   "source": [
    "np.argmin(lenghts)"
   ]
  },
  {
   "cell_type": "code",
   "execution_count": 118,
   "metadata": {},
   "outputs": [
    {
     "data": {
      "text/plain": [
       "[11,\n",
       " 11,\n",
       " 11,\n",
       " 11,\n",
       " 8,\n",
       " 8,\n",
       " 8,\n",
       " 8,\n",
       " 11,\n",
       " 11,\n",
       " 11,\n",
       " 11,\n",
       " 8,\n",
       " 8,\n",
       " 8,\n",
       " 8,\n",
       " 11,\n",
       " 11,\n",
       " 11,\n",
       " 11,\n",
       " 8,\n",
       " 8,\n",
       " 8,\n",
       " 8,\n",
       " 11,\n",
       " 11,\n",
       " 11,\n",
       " 11,\n",
       " 8,\n",
       " 8,\n",
       " 8,\n",
       " 8,\n",
       " 9,\n",
       " 9,\n",
       " 9,\n",
       " 9,\n",
       " 8,\n",
       " 8,\n",
       " 8,\n",
       " 8,\n",
       " 9,\n",
       " 9,\n",
       " 8,\n",
       " 8,\n",
       " 8,\n",
       " 8,\n",
       " 9,\n",
       " 9,\n",
       " 9,\n",
       " 8,\n",
       " 8,\n",
       " 8,\n",
       " 8,\n",
       " 8,\n",
       " 9,\n",
       " 9,\n",
       " 8,\n",
       " 8,\n",
       " 8,\n",
       " 8,\n",
       " 11,\n",
       " 11,\n",
       " 11,\n",
       " 11,\n",
       " 8,\n",
       " 8,\n",
       " 8,\n",
       " 8,\n",
       " 11,\n",
       " 11,\n",
       " 11,\n",
       " 11,\n",
       " 11,\n",
       " 11,\n",
       " 11,\n",
       " 11,\n",
       " 11,\n",
       " 11,\n",
       " 11,\n",
       " 11,\n",
       " 9,\n",
       " 9,\n",
       " 9,\n",
       " 8,\n",
       " 8,\n",
       " 8,\n",
       " 8,\n",
       " 8,\n",
       " 9,\n",
       " 8,\n",
       " 9,\n",
       " 9,\n",
       " 8,\n",
       " 8,\n",
       " 9,\n",
       " 6,\n",
       " 11,\n",
       " 11,\n",
       " 11,\n",
       " 11,\n",
       " 11,\n",
       " 11,\n",
       " 11,\n",
       " 11,\n",
       " 11,\n",
       " 11,\n",
       " 11,\n",
       " 11,\n",
       " 11,\n",
       " 11,\n",
       " 11,\n",
       " 11,\n",
       " 9,\n",
       " 9,\n",
       " 9,\n",
       " 9,\n",
       " 9,\n",
       " 11,\n",
       " 11,\n",
       " 11,\n",
       " 11,\n",
       " 11,\n",
       " 11,\n",
       " 11,\n",
       " 11,\n",
       " 9,\n",
       " 9,\n",
       " 9]"
      ]
     },
     "execution_count": 118,
     "metadata": {},
     "output_type": "execute_result"
    }
   ],
   "source": [
    "[counter[s] for s in remaining[32]]"
   ]
  },
  {
   "cell_type": "code",
   "execution_count": 108,
   "metadata": {},
   "outputs": [
    {
     "data": {
      "text/plain": [
       "'N8206'"
      ]
     },
     "execution_count": 108,
     "metadata": {},
     "output_type": "execute_result"
    }
   ],
   "source": [
    "remaining[32][3]"
   ]
  },
  {
   "cell_type": "code",
   "execution_count": 109,
   "metadata": {},
   "outputs": [
    {
     "data": {
      "text/plain": [
       "4"
      ]
     },
     "execution_count": 109,
     "metadata": {},
     "output_type": "execute_result"
    }
   ],
   "source": [
    "counter['N592']"
   ]
  },
  {
   "cell_type": "code",
   "execution_count": null,
   "metadata": {},
   "outputs": [],
   "source": [
    "flat_list = [item for sublist in remaining for item in sublist]"
   ]
  },
  {
   "cell_type": "code",
   "execution_count": null,
   "metadata": {},
   "outputs": [],
   "source": [
    "max(collections.Counter(flat_list).values())"
   ]
  },
  {
   "cell_type": "code",
   "execution_count": null,
   "metadata": {},
   "outputs": [],
   "source": [
    "values = set(collections.Counter(flat_list).values())"
   ]
  },
  {
   "cell_type": "code",
   "execution_count": null,
   "metadata": {},
   "outputs": [],
   "source": [
    "idx_sets = []\n",
    "\n",
    "combis = []\n",
    "\n",
    "lenghts = []\n",
    "\n",
    "for i, j in tqdm.tqdm_notebook(itertools.combinations(values, r=2)):\n",
    "    \n",
    "    sum_ = i + j\n",
    "    \n",
    "    if sum_ >= 94 :\n",
    "        \n",
    "        key_one = [key for key, value in zip(counts.keys(), counts.values()) if value == i][0]\n",
    "        key_two = [key for key, value in zip(counts.keys(), counts.values()) if value == j][0]\n",
    "        \n",
    "        check = [s for s in remaining if (key_one not in s)\n",
    "         and (key_two not in s)]\n",
    "        \n",
    "        lenghts.append(len(check))\n",
    "\n",
    "\n",
    "        \n",
    "#         combis.append((i, j))\n",
    "\n"
   ]
  },
  {
   "cell_type": "code",
   "execution_count": null,
   "metadata": {},
   "outputs": [],
   "source": [
    "min(lenghts)"
   ]
  },
  {
   "cell_type": "code",
   "execution_count": null,
   "metadata": {},
   "outputs": [],
   "source": [
    "idx_sets = []\n",
    "\n",
    "combis = []\n",
    "\n",
    "for indices  in tqdm.tqdm_notebook(itertools.combinations(values, r=4)):\n",
    "    \n",
    "    sum_ = sum(indices)\n",
    "    \n",
    "    if sum_ >= 94 :\n",
    "        \n",
    "        combis.append((indices))\n"
   ]
  },
  {
   "cell_type": "code",
   "execution_count": null,
   "metadata": {},
   "outputs": [],
   "source": [
    "len(combis)"
   ]
  },
  {
   "cell_type": "code",
   "execution_count": null,
   "metadata": {},
   "outputs": [],
   "source": [
    "counts = collections.Counter(flat_list)"
   ]
  },
  {
   "cell_type": "code",
   "execution_count": null,
   "metadata": {},
   "outputs": [],
   "source": [
    "for indices in combis:\n",
    "    keys = []\n",
    "    \n",
    "    for index in indices:\n",
    "        keys.append([key for key, value in zip(counts.keys(), counts.values()) if value == index][0])\n",
    "        \n",
    "#     check = [s for s in remaining if (key not in s) for key in keys]\n",
    "\n",
    "\n",
    "\n",
    "#                     if len(check) == 0:\n",
    "#                         print(key_one, key_two, key_three, key_four)"
   ]
  },
  {
   "cell_type": "code",
   "execution_count": null,
   "metadata": {},
   "outputs": [],
   "source": [
    "for i, j, k, z in tqdm.tqdm_notebook(combis[:1]):\n",
    "    for key_one in [key for key, value in zip(counts.keys(), counts.values()) if value == i][:1]:\n",
    "        for key_two in [key for key, value in zip(counts.keys(), counts.values()) if value == j][:1]:\n",
    "            for key_three in [key for key, value in zip(counts.keys(), counts.values()) if value == k][:1]:\n",
    "                for key_four in [key for key, value in zip(counts.keys(), counts.values()) if value == z][:1]:\n",
    "\n",
    "\n",
    "                    check = [s for s in remaining if (key_one not in s)\n",
    "                             and (key_two not in s) and \n",
    "                             (key_three not in s)  and \n",
    "                             (key_four not in s)]\n",
    "\n",
    "                    if len(check) == 0:\n",
    "                        print(key_one, key_two, key_three, key_four)"
   ]
  },
  {
   "cell_type": "code",
   "execution_count": null,
   "metadata": {},
   "outputs": [],
   "source": [
    "next_remaining = [s for s in remaining if (1 not in s)\n",
    "                  and (12306 not in s) and (1045 not in s)\n",
    "                  and (8194 not in s) and (17 not in s)\n",
    "                 and (9333 not in s) and (8969 not in s)\n",
    "                 and (19484) not in s]"
   ]
  },
  {
   "cell_type": "code",
   "execution_count": null,
   "metadata": {},
   "outputs": [],
   "source": [
    "next_remaining = [s for s in remaining if (18441 not in s)]"
   ]
  },
  {
   "cell_type": "code",
   "execution_count": null,
   "metadata": {},
   "outputs": [],
   "source": [
    "len(next_remaining)"
   ]
  },
  {
   "cell_type": "code",
   "execution_count": null,
   "metadata": {},
   "outputs": [],
   "source": [
    "collections.Counter(flat_list)[18441], 62771, 16315"
   ]
  },
  {
   "cell_type": "code",
   "execution_count": null,
   "metadata": {},
   "outputs": [],
   "source": [
    "next_remaining[2]"
   ]
  },
  {
   "cell_type": "code",
   "execution_count": null,
   "metadata": {},
   "outputs": [],
   "source": [
    "flat_list = [item for sublist in next_remaining for item in sublist]"
   ]
  },
  {
   "cell_type": "code",
   "execution_count": null,
   "metadata": {},
   "outputs": [],
   "source": [
    "max(collections.Counter(flat_list).values())"
   ]
  },
  {
   "cell_type": "code",
   "execution_count": null,
   "metadata": {},
   "outputs": [],
   "source": [
    "[key for key, value in zip(collections.Counter(flat_list).keys(), collections.Counter(flat_list).values()) \n",
    " if value == 2][:1]"
   ]
  },
  {
   "cell_type": "code",
   "execution_count": null,
   "metadata": {},
   "outputs": [],
   "source": [
    "for i, j, k in tqdm.tqdm_notebook(combis[:1]):\n",
    "    for key_one in [key for key, value in zip(counts.keys(), counts.values()) if value == i]:\n",
    "        for key_two in [key for key, value in zip(counts.keys(), counts.values()) if value == j]:\n",
    "            for key_three in [key for key, value in zip(counts.keys(), counts.values()) if value == k]:\n",
    "                check = [s for s in remaining if (key_one not in s) and (key_two not in s) and (key_three not in s)]\n",
    "\n",
    "                if len(check) == 0:\n",
    "                    print(key_one, key_two, key_three)"
   ]
  },
  {
   "cell_type": "code",
   "execution_count": null,
   "metadata": {},
   "outputs": [],
   "source": [
    "[key for key, value in zip(counts.keys(), counts.values()) if value == 43]"
   ]
  },
  {
   "cell_type": "code",
   "execution_count": null,
   "metadata": {},
   "outputs": [],
   "source": [
    "[key for key, value in zip(counts.keys(), counts.values()) if value == 51]"
   ]
  },
  {
   "cell_type": "code",
   "execution_count": null,
   "metadata": {},
   "outputs": [],
   "source": [
    "len(remaining) - 51 - 12"
   ]
  },
  {
   "cell_type": "code",
   "execution_count": null,
   "metadata": {},
   "outputs": [],
   "source": [
    "counts = collections.Counter(flat_list)"
   ]
  },
  {
   "cell_type": "code",
   "execution_count": null,
   "metadata": {},
   "outputs": [],
   "source": [
    "list_counts = []\n",
    "how_many = []\n",
    "for i in [key for key, value in zip(counts.keys(), counts.values()) if value == 51]:\n",
    "    next_remaining = [s for s in remaining if i not in s]\n",
    "    \n",
    "    flat_list = [item for sublist in next_remaining for item in sublist]\n",
    "    \n",
    "    list_counts.append(collections.Counter(flat_list))"
   ]
  },
  {
   "cell_type": "code",
   "execution_count": null,
   "metadata": {},
   "outputs": [],
   "source": [
    "[key for key, value in zip(list_counts[0].keys(), list_counts[0].values()) if value == 12]"
   ]
  },
  {
   "cell_type": "code",
   "execution_count": null,
   "metadata": {},
   "outputs": [],
   "source": [
    "len([s for s in remaining if 1 not in s])"
   ]
  },
  {
   "cell_type": "code",
   "execution_count": null,
   "metadata": {},
   "outputs": [],
   "source": []
  },
  {
   "cell_type": "code",
   "execution_count": null,
   "metadata": {},
   "outputs": [],
   "source": [
    "max([max(s) for s in remaining])"
   ]
  },
  {
   "cell_type": "code",
   "execution_count": null,
   "metadata": {},
   "outputs": [],
   "source": [
    "len(remaining)"
   ]
  },
  {
   "cell_type": "code",
   "execution_count": null,
   "metadata": {},
   "outputs": [],
   "source": [
    "np.argmax([len(s) for s in remaining])"
   ]
  },
  {
   "cell_type": "code",
   "execution_count": null,
   "metadata": {},
   "outputs": [],
   "source": [
    "len(remaining[30])"
   ]
  },
  {
   "cell_type": "code",
   "execution_count": null,
   "metadata": {},
   "outputs": [],
   "source": [
    "flat_list = [item for sublist in remaining for item in sublist]"
   ]
  },
  {
   "cell_type": "code",
   "execution_count": null,
   "metadata": {},
   "outputs": [],
   "source": [
    "len(set(flat_list)) * 72"
   ]
  },
  {
   "cell_type": "code",
   "execution_count": null,
   "metadata": {},
   "outputs": [],
   "source": [
    "labels = remaining[52]\n",
    "\n",
    "idx_sets = []\n",
    "\n",
    "for i in tqdm.tqdm_notebook(remaining[52]):\n",
    "    for j in remaining[30]:\n",
    "\n",
    "        index = [s for _, s in enumerate(remaining) if (i not in list(s) and j not in list(s))]\n",
    "\n",
    "        if len(index) == 0:\n",
    "            idx_sets.append((i, j))"
   ]
  },
  {
   "cell_type": "code",
   "execution_count": null,
   "metadata": {},
   "outputs": [],
   "source": []
  },
  {
   "cell_type": "code",
   "execution_count": null,
   "metadata": {},
   "outputs": [],
   "source": [
    "len(list(itertools.combinations(labels, r=2)))"
   ]
  },
  {
   "cell_type": "code",
   "execution_count": null,
   "metadata": {},
   "outputs": [],
   "source": [
    "len(deterministic_strategies)"
   ]
  },
  {
   "cell_type": "code",
   "execution_count": null,
   "metadata": {},
   "outputs": [],
   "source": [
    "len(remaining)"
   ]
  },
  {
   "cell_type": "code",
   "execution_count": null,
   "metadata": {},
   "outputs": [],
   "source": [
    "flat_list = [item for sublist in remaining for item in sublist]"
   ]
  },
  {
   "cell_type": "code",
   "execution_count": null,
   "metadata": {},
   "outputs": [],
   "source": [
    "import collections"
   ]
  },
  {
   "cell_type": "code",
   "execution_count": null,
   "metadata": {},
   "outputs": [],
   "source": [
    "193: 51, 1: 51"
   ]
  },
  {
   "cell_type": "code",
   "execution_count": null,
   "metadata": {},
   "outputs": [],
   "source": [
    "collections.Counter(flat_list)"
   ]
  },
  {
   "cell_type": "code",
   "execution_count": null,
   "metadata": {},
   "outputs": [],
   "source": [
    "remaining = [[int(item.split(\"N\")[-1]) for item in s] for s in remaining]"
   ]
  },
  {
   "cell_type": "code",
   "execution_count": null,
   "metadata": {},
   "outputs": [],
   "source": [
    "set([s[0] for s in remaining])"
   ]
  },
  {
   "cell_type": "code",
   "execution_count": null,
   "metadata": {},
   "outputs": [],
   "source": []
  },
  {
   "cell_type": "code",
   "execution_count": null,
   "metadata": {},
   "outputs": [],
   "source": [
    "after_19461 = [[item for item in s if item >= 19461] for s in remaining]"
   ]
  },
  {
   "cell_type": "code",
   "execution_count": null,
   "metadata": {},
   "outputs": [],
   "source": [
    "len(after_19461)"
   ]
  },
  {
   "cell_type": "code",
   "execution_count": null,
   "metadata": {},
   "outputs": [],
   "source": [
    "[index for index, s in enumerate(after_19461) if len(s) == 0]"
   ]
  },
  {
   "cell_type": "code",
   "execution_count": null,
   "metadata": {},
   "outputs": [],
   "source": [
    "remaining[69]"
   ]
  },
  {
   "cell_type": "code",
   "execution_count": null,
   "metadata": {},
   "outputs": [],
   "source": [
    "set([s[0] for s in after_19461])"
   ]
  },
  {
   "cell_type": "code",
   "execution_count": null,
   "metadata": {},
   "outputs": [],
   "source": [
    "[s for s in sets if ('N0' not in s) and ('N19461' not in s)]"
   ]
  },
  {
   "cell_type": "code",
   "execution_count": null,
   "metadata": {},
   "outputs": [],
   "source": [
    "for number in tqdm.tqdm_notebook(range(len(deterministic_strategies))):\n",
    "    set_ = [s for s in sets if ('N0' not in s) and (f'N{number}' not in s)]\n",
    "    \n",
    "    if len(set_) == 0:\n",
    "        print(number)"
   ]
  },
  {
   "cell_type": "code",
   "execution_count": null,
   "metadata": {},
   "outputs": [],
   "source": [
    "[s for s in sets if ('N0' not in s) and ('N' not in s)]"
   ]
  },
  {
   "cell_type": "markdown",
   "metadata": {},
   "source": [
    "**The curve/plane**"
   ]
  },
  {
   "cell_type": "code",
   "execution_count": null,
   "metadata": {},
   "outputs": [],
   "source": [
    "deterministic_strategies[65329]"
   ]
  },
  {
   "cell_type": "code",
   "execution_count": null,
   "metadata": {},
   "outputs": [],
   "source": [
    "player"
   ]
  },
  {
   "cell_type": "code",
   "execution_count": null,
   "metadata": {},
   "outputs": [],
   "source": [
    "p_1, p_2, p_3, p_4 = sym.symbols(\"p_1, p_2, p_3, p_4\")\n",
    "\n",
    "p_1 = 1\n",
    "\n",
    "player = [p_1, p_2, p_1, p_2, p_3, p_4, p_3, p_4,\n",
    "          p_1, p_2, p_1, p_2, p_3, p_4, p_3, p_4]\n",
    "\n",
    "b, c = sym.symbols(\"b, c\")"
   ]
  },
  {
   "cell_type": "code",
   "execution_count": null,
   "metadata": {},
   "outputs": [],
   "source": [
    "coplayer = [1] + [0 for _ in range(15)]"
   ]
  },
  {
   "cell_type": "code",
   "execution_count": null,
   "metadata": {},
   "outputs": [],
   "source": [
    "M = calculate_M_memory_two(coplayer, player, analytical=True)"
   ]
  },
  {
   "cell_type": "code",
   "execution_count": null,
   "metadata": {},
   "outputs": [],
   "source": [
    "sym.init_printing(False)\n",
    "\n",
    "# M\n",
    "M"
   ]
  },
  {
   "cell_type": "code",
   "execution_count": null,
   "metadata": {},
   "outputs": [],
   "source": [
    "ss = invariant_distribution_analytically(M)"
   ]
  },
  {
   "cell_type": "code",
   "execution_count": null,
   "metadata": {},
   "outputs": [],
   "source": [
    "ss"
   ]
  },
  {
   "cell_type": "code",
   "execution_count": null,
   "metadata": {},
   "outputs": [],
   "source": [
    "size = M.shape[1]\n",
    "pi = sym.symbols(f\"v_1:{size + 1}\")\n",
    "ss = sym.solve(\n",
    "    [sum(pi) - 1]\n",
    "    + [a - b for a, b in zip(M.transpose() * sym.Matrix(pi), pi)],\n",
    "    pi,\n",
    ")"
   ]
  },
  {
   "cell_type": "code",
   "execution_count": null,
   "metadata": {},
   "outputs": [],
   "source": [
    "[a - b for a, b in zip(M.transpose() * sym.Matrix(pi), pi)]"
   ]
  },
  {
   "cell_type": "markdown",
   "metadata": {},
   "source": [
    "**Plotting**"
   ]
  },
  {
   "cell_type": "code",
   "execution_count": null,
   "metadata": {},
   "outputs": [],
   "source": [
    "from mpl_toolkits import mplot3d\n",
    "\n",
    "import numpy as np\n",
    "\n",
    "import matplotlib.pyplot as plt\n",
    "\n",
    "import matplotlib\n",
    "\n",
    "plt.rcParams[\"font.size\"] = 15\n",
    "plt.rcParams[\"font.weight\"] = \"bold\"\n",
    "plt.rcParams[\"axes.labelweight\"] = \"bold\"\n",
    "\n",
    "from mpl_toolkits.mplot3d.art3d import Poly3DCollection\n",
    "\n",
    "from matplotlib.lines import Line2D"
   ]
  },
  {
   "cell_type": "code",
   "execution_count": null,
   "metadata": {},
   "outputs": [],
   "source": [
    "p_1, p_2, p_3, p_4 = sym.symbols(\"p_1, p_2, p_3, p_4\")\n",
    "\n",
    "b, c = sym.symbols(\"b, c\")\n",
    "\n",
    "p_1 = 1\n",
    "\n",
    "p_2 = p_2\n",
    "\n",
    "p_4 = p_4\n",
    "\n",
    "b_val = 2\n",
    "c_val = 1\n",
    "\n",
    "p_3 = p_3 # 1 + (b_val - c_val) / b_val - p_2\n",
    "\n",
    "player = [p_1, p_2, p_1, p_2, p_3, p_4, p_3, p_4,\n",
    "          p_1, p_2, p_1, p_2, p_3, p_4, p_3, p_4]\n",
    "\n"
   ]
  },
  {
   "cell_type": "code",
   "execution_count": null,
   "metadata": {},
   "outputs": [],
   "source": [
    "M"
   ]
  },
  {
   "cell_type": "code",
   "execution_count": null,
   "metadata": {},
   "outputs": [],
   "source": [
    "indices"
   ]
  },
  {
   "cell_type": "code",
   "execution_count": null,
   "metadata": {},
   "outputs": [],
   "source": [
    "states_in_two_bits = list(itertools.product(['C', 'D'], repeat=4))"
   ]
  },
  {
   "cell_type": "code",
   "execution_count": null,
   "metadata": {},
   "outputs": [],
   "source": [
    "[states_in_two_bits[i] for i in indices]"
   ]
  },
  {
   "cell_type": "code",
   "execution_count": null,
   "metadata": {},
   "outputs": [],
   "source": [
    "M = sym.Matrix([[p_1, 0, 0], [1, 0, 0], [0.5, 0.5, 0]])"
   ]
  },
  {
   "cell_type": "code",
   "execution_count": null,
   "metadata": {},
   "outputs": [],
   "source": [
    "player"
   ]
  },
  {
   "cell_type": "code",
   "execution_count": null,
   "metadata": {},
   "outputs": [],
   "source": [
    "coplayer = [0, 1, 1, 0] * 4 #deterministic_strategies[65331]\n",
    "# coplayer = [1, 1, 0, 0] * 4\n",
    "coplayer"
   ]
  },
  {
   "cell_type": "code",
   "execution_count": null,
   "metadata": {},
   "outputs": [],
   "source": [
    "M = calculate_M_memory_two(coplayer, player, analytical=True)"
   ]
  },
  {
   "cell_type": "code",
   "execution_count": null,
   "metadata": {},
   "outputs": [],
   "source": [
    "ss = invariant_distribution_analytically(M)"
   ]
  },
  {
   "cell_type": "code",
   "execution_count": null,
   "metadata": {},
   "outputs": [],
   "source": [
    "sym.init_printing(True)\n",
    "\n",
    "(ss @ np.array([b -c, -c, b, 0] * 4))[0].factor()"
   ]
  },
  {
   "cell_type": "code",
   "execution_count": null,
   "metadata": {},
   "outputs": [],
   "source": [
    "(ss @ np.array([b -c, -c, b, 0] * 4))[0].factor()"
   ]
  },
  {
   "cell_type": "code",
   "execution_count": null,
   "metadata": {},
   "outputs": [],
   "source": [
    "# check if alternator + ALLD explains all nash in memory-one"
   ]
  },
  {
   "cell_type": "code",
   "execution_count": null,
   "metadata": {},
   "outputs": [],
   "source": [
    "M = calculate_M([0, 0, 0, 0], [1, p_2, p_3, p_4])"
   ]
  },
  {
   "cell_type": "code",
   "execution_count": null,
   "metadata": {},
   "outputs": [],
   "source": [
    "(invariant_distribution_analytically(M) @ np.array([b - c, -c, b, 0]))[0]"
   ]
  },
  {
   "cell_type": "code",
   "execution_count": null,
   "metadata": {},
   "outputs": [],
   "source": [
    "pure_mem_one = list(itertools.product([0, 1], repeat=4))"
   ]
  },
  {
   "cell_type": "code",
   "execution_count": null,
   "metadata": {},
   "outputs": [],
   "source": [
    "satisfy =[]\n",
    "\n",
    "for coplayer in tqdm.tqdm_notebook(pure_mem_one):\n",
    "    \n",
    "    M = calculate_M(coplayer, [1, p_2, p_3, p_4])\n",
    "    \n",
    "    try:\n",
    "    \n",
    "        score = (invariant_distribution_analytically(M) @ np.array([b - c, -c, b, 0]))[0]\n",
    "\n",
    "        solution = sym.solve(score.factor() - (b - c), p_2)\n",
    "\n",
    "        if solution:\n",
    "\n",
    "            if  solution[0] - (b - c*p_3)/b == 0:\n",
    "                satisfy.append(coplayer)\n",
    "                \n",
    "    except KeyError:\n",
    "        pass"
   ]
  },
  {
   "cell_type": "code",
   "execution_count": null,
   "metadata": {},
   "outputs": [],
   "source": [
    "satisfy"
   ]
  },
  {
   "cell_type": "code",
   "execution_count": null,
   "metadata": {},
   "outputs": [],
   "source": [
    "M = calculate_M([0, 1, 1, 0], [1, p_2, p_3, p_4])\n",
    "score = (invariant_distribution_analytically(M) @ np.array([b - c, -c, b, 0]))[0]"
   ]
  },
  {
   "cell_type": "code",
   "execution_count": null,
   "metadata": {},
   "outputs": [],
   "source": [
    "sym.solve(score - (b -c), p_2)"
   ]
  },
  {
   "cell_type": "code",
   "execution_count": null,
   "metadata": {},
   "outputs": [],
   "source": [
    "M = calculate_M([0, 0, 0, 1], [1, p_2, p_3, p_4])\n",
    "score = (invariant_distribution_analytically(M) @ np.array([b - c, -c, b, 0]))[0]"
   ]
  },
  {
   "cell_type": "code",
   "execution_count": null,
   "metadata": {},
   "outputs": [],
   "source": [
    "[i.factor() for i in ss]"
   ]
  },
  {
   "cell_type": "code",
   "execution_count": null,
   "metadata": {},
   "outputs": [],
   "source": [
    "[i for i, _ in enumerate(ss) if ]"
   ]
  },
  {
   "cell_type": "code",
   "execution_count": null,
   "metadata": {},
   "outputs": [],
   "source": [
    "M_num = np.array(M)"
   ]
  },
  {
   "cell_type": "code",
   "execution_count": null,
   "metadata": {},
   "outputs": [],
   "source": [
    "M_num[indices, indices]"
   ]
  },
  {
   "cell_type": "code",
   "execution_count": null,
   "metadata": {},
   "outputs": [],
   "source": [
    "indices = [2, 3, 6, 7, 8, 9, 12, 13] "
   ]
  },
  {
   "cell_type": "code",
   "execution_count": null,
   "metadata": {},
   "outputs": [],
   "source": [
    "T = sym.zeros(len(indices), len(indices))\n",
    "\n",
    "for i, index1 in enumerate(indices):\n",
    "    for j, index2 in enumerate(indices):\n",
    "            T[i, j] = M[index1, index2]"
   ]
  },
  {
   "cell_type": "code",
   "execution_count": null,
   "metadata": {},
   "outputs": [],
   "source": [
    "T"
   ]
  },
  {
   "cell_type": "code",
   "execution_count": null,
   "metadata": {},
   "outputs": [],
   "source": [
    "ss.subs({p_2: 0.9, p_3:0.23})"
   ]
  },
  {
   "cell_type": "code",
   "execution_count": null,
   "metadata": {},
   "outputs": [],
   "source": [
    "ss.subs({p_2: 0.9, p_3:0.23}) @ T.subs({p_2: 0.9, p_3:0.23})"
   ]
  },
  {
   "cell_type": "code",
   "execution_count": null,
   "metadata": {},
   "outputs": [],
   "source": [
    "ss_fake"
   ]
  },
  {
   "cell_type": "code",
   "execution_count": null,
   "metadata": {},
   "outputs": [],
   "source": [
    "[i.factor() for i in ss_fake @ M]"
   ]
  },
  {
   "cell_type": "code",
   "execution_count": null,
   "metadata": {},
   "outputs": [],
   "source": [
    "ss_fake @ M"
   ]
  },
  {
   "cell_type": "code",
   "execution_count": null,
   "metadata": {},
   "outputs": [],
   "source": [
    "sym.solve(((ss_fake @ np.array([b - c, -c, b, 0] * 4))[0].factor() - (b - c)).factor(), p_2)"
   ]
  },
  {
   "cell_type": "code",
   "execution_count": null,
   "metadata": {},
   "outputs": [],
   "source": [
    "(ss_fake @ np.array([b - c, -c, b, 0] * 4))[0].simplify()"
   ]
  },
  {
   "cell_type": "code",
   "execution_count": null,
   "metadata": {},
   "outputs": [],
   "source": [
    "ss_fake = sym.zeros(1, 16)"
   ]
  },
  {
   "cell_type": "code",
   "execution_count": null,
   "metadata": {},
   "outputs": [],
   "source": [
    "ss = invariant_distribution_analytically(T)\n",
    "\n",
    "for i, index in enumerate(indices):\n",
    "    ss_fake[index] = ss[i]"
   ]
  },
  {
   "cell_type": "code",
   "execution_count": null,
   "metadata": {},
   "outputs": [],
   "source": [
    "sum(ss_fake).factor()"
   ]
  },
  {
   "cell_type": "code",
   "execution_count": null,
   "metadata": {},
   "outputs": [],
   "source": [
    "M"
   ]
  },
  {
   "cell_type": "code",
   "execution_count": null,
   "metadata": {},
   "outputs": [],
   "source": [
    "ss = invariant_distribution_analytically(M)"
   ]
  },
  {
   "cell_type": "code",
   "execution_count": null,
   "metadata": {},
   "outputs": [],
   "source": [
    "M = calculate_M_memory_two(coplayer, player)\n",
    "\n",
    "ss = invariant_distribution(M)"
   ]
  },
  {
   "cell_type": "code",
   "execution_count": null,
   "metadata": {},
   "outputs": [],
   "source": [
    "ss @ np.array([b - c, -c, b, 0] * 4)"
   ]
  },
  {
   "cell_type": "code",
   "execution_count": null,
   "metadata": {},
   "outputs": [],
   "source": []
  },
  {
   "cell_type": "code",
   "execution_count": null,
   "metadata": {},
   "outputs": [],
   "source": [
    "stationaries = []\n",
    "\n",
    "eigenvalues, eigenvectors = np.linalg.eig(M.T)\n",
    "\n",
    "for index in np.where(np.isclose(eigenvalues, 1))[0]:\n",
    "\n",
    "    eigenvectors_one = eigenvectors[:, index]\n",
    "\n",
    "    stationary = eigenvectors_one / eigenvectors_one.sum()\n",
    "\n",
    "\n",
    "    stationaries.append(stationary.real)"
   ]
  },
  {
   "cell_type": "code",
   "execution_count": null,
   "metadata": {},
   "outputs": [],
   "source": [
    "[index for index, val in enumerate(stationaries[0]) if val != 0]"
   ]
  },
  {
   "cell_type": "code",
   "execution_count": null,
   "metadata": {},
   "outputs": [],
   "source": [
    "M"
   ]
  },
  {
   "cell_type": "code",
   "execution_count": null,
   "metadata": {},
   "outputs": [],
   "source": [
    "M = sym.Matrix([[p_1, 0, 0], [1, 0, 0], [0.5, 0.5, 0]])"
   ]
  },
  {
   "cell_type": "code",
   "execution_count": null,
   "metadata": {},
   "outputs": [],
   "source": [
    "sym.Matrix(M)"
   ]
  },
  {
   "cell_type": "code",
   "execution_count": null,
   "metadata": {},
   "outputs": [],
   "source": [
    "(ss @ sym.Matrix([b - c, -c , b, 0] * 4))"
   ]
  },
  {
   "cell_type": "code",
   "execution_count": null,
   "metadata": {},
   "outputs": [],
   "source": [
    "x = np.arange(0, 1 - 10 ** -5, 0.02)\n",
    "y = np.arange(0, 1 - 10 ** -5, 0.02)\n",
    "z = np.arange(0, 1 - 10 ** -5, 0.02)"
   ]
  },
  {
   "cell_type": "code",
   "execution_count": null,
   "metadata": {},
   "outputs": [],
   "source": [
    "deterministic_strategies[0]"
   ]
  },
  {
   "cell_type": "code",
   "execution_count": null,
   "metadata": {},
   "outputs": [],
   "source": [
    "data = []\n",
    "\n",
    "coplayer = deterministic_strategies[0]\n",
    "\n",
    "for i in tqdm.tqdm_notebook(x):\n",
    "    for j in y:\n",
    "        for k in z:\n",
    "            p = (1, i, 1, i, j, k, j, k, 1, i, 1, i, j, k, j, k)\n",
    "            \n",
    "            M = calculate_M_memory_two(coplayer, p)\n",
    "            \n",
    "            \n",
    "            ss = invariant_distribution(M)\n",
    "\n",
    "\n",
    "            score = (ss @ np.array([2 - 1, -1, 2, 0] * 4)) - (2 - 1)\n",
    "            \n",
    "            if np.isclose(score, 0, atol=10 ** - 2):\n",
    "                data.append((i, j, k))"
   ]
  },
  {
   "cell_type": "code",
   "execution_count": null,
   "metadata": {},
   "outputs": [],
   "source": [
    "x = np.arange(0, 1 - 10 ** -5, 0.02)\n",
    "y = np.arange(0, 1 - 10 ** -5, 0.02)\n",
    "z = np.arange(0, 1 - 10 ** -5, 0.02)"
   ]
  },
  {
   "cell_type": "code",
   "execution_count": null,
   "metadata": {},
   "outputs": [],
   "source": [
    "data65331 = []\n",
    "\n",
    "coplayer = deterministic_strategies[65331]\n",
    "\n",
    "for i in tqdm.tqdm_notebook(x):\n",
    "    for j in y:\n",
    "        for k in z:\n",
    "            p = (1, i, 1, i, j, k, j, k, 1, i, 1, i, j, k, j, k)\n",
    "            \n",
    "            M = calculate_M_memory_two(coplayer, p)\n",
    "            \n",
    "            \n",
    "            ss = invariant_distribution(M)\n",
    "\n",
    "\n",
    "            score = (ss @ np.array([5 - 4, -4, 5, 0] * 4)) - (5 - 4)\n",
    "            \n",
    "            if np.isclose(score, 0, atol=10 ** - 2):\n",
    "                data65331.append((i, j, k))"
   ]
  },
  {
   "cell_type": "code",
   "execution_count": null,
   "metadata": {},
   "outputs": [],
   "source": [
    "def N65330(p, b, c):\n",
    "    _, p_2, p_3, p_4 = p\n",
    "    \n",
    "    return p_2 + p_3 - (1 + (b - c) / b)\n",
    "\n",
    "\n",
    "def check(p, b, c):\n",
    "    _, p_2, p_3, p_4 = p\n",
    "    \n",
    "    return (b - c * p_2) / b  - p_3"
   ]
  },
  {
   "cell_type": "code",
   "execution_count": null,
   "metadata": {},
   "outputs": [],
   "source": [
    "x = np.arange(0, 1 - 10 ** -5, 0.05)\n",
    "y = np.arange(0, 1 - 10 ** -5, 0.05)\n",
    "z = np.arange(0, 1 - 10 ** -5, 0.05)\n",
    "\n",
    "xv, yv, zv = np.meshgrid(x, y, z)"
   ]
  },
  {
   "cell_type": "code",
   "execution_count": null,
   "metadata": {},
   "outputs": [],
   "source": [
    "Is65330, Js65330, Zs65330 = np.where(np.isclose(N65330((1, xv, yv, zv), 2, 1), 0, atol=10 ** - 3))\n",
    "\n",
    "Ischeck, Jscheck, Zscheck = np.where(np.isclose(check((1, xv, yv, zv), 2, 1), 0, atol=10 ** - 3))"
   ]
  },
  {
   "cell_type": "code",
   "execution_count": null,
   "metadata": {},
   "outputs": [],
   "source": [
    "subset = eqmemtwo[(eqmemtwo['p2'] > .5) & (eqmemtwo['p3'] > .5)]"
   ]
  },
  {
   "cell_type": "code",
   "execution_count": null,
   "metadata": {
    "scrolled": false
   },
   "outputs": [],
   "source": [
    "%matplotlib notebook\n",
    "\n",
    "# %matplotlib inline\n",
    "\n",
    "\n",
    "# custom_lines = [Line2D([0], [0], color='tab:purple', lw=4, alpha=.55)]\n",
    "\n",
    "# figsize=(20, 20)\n",
    "\n",
    "fig = plt.figure(figsize=(15, 15))\n",
    "\n",
    "ax1 = fig.add_subplot(131, projection='3d')\n",
    "\n",
    "axes = [ax1]\n",
    "\n",
    "for i, row in subset[['p2', 'p5', 'p6']].round(2).drop_duplicates().iterrows():\n",
    "\n",
    "        ax1.scatter(row['p2'], row['p5'], row['p6'], color='tab:blue', alpha=0.5)\n",
    "\n",
    "ax1.set_zlim(0, 1);\n",
    "\n",
    "        \n",
    "# for i, j, z in zip(Is65330, Js65330, Zs65330):\n",
    "\n",
    "#     ax1.scatter(xv[i, j, z],\n",
    "#                     yv[i, j, z],\n",
    "#                     zv[i, j, z],\n",
    "#                     s=1,\n",
    "#                     color='purple')\n",
    "\n",
    "# ax1.scatter(xv[i, j, z],\n",
    "#         yv[i, j, z],\n",
    "#         zv[i, j, z],\n",
    "#         s=1,\n",
    "#         color='purple')\n",
    "\n",
    "for i, j, z in zip(Ischeck, Jscheck, Zscheck):\n",
    "\n",
    "    ax1.scatter(xv[i, j, z],\n",
    "                    yv[i, j, z],\n",
    "                    zv[i, j, z],\n",
    "                    s=1,\n",
    "                    color='green')\n",
    "\n",
    "ax1.scatter(xv[i, j, z],\n",
    "        yv[i, j, z],\n",
    "        zv[i, j, z],\n",
    "        s=1,\n",
    "        color='green')\n",
    "        \n",
    "        \n",
    "for ax in axes:\n",
    "\n",
    "#     ax.view_init(10, -70)\n",
    "    ax.view_init(10, -60)\n",
    "    ax.set_xticks([0, .5, 1])\n",
    "    ax.set_yticks([0, .5, 1])\n",
    "    ax.set_zticks([0, .5, 1])\n",
    "\n",
    "    ax.set_xticklabels([0, \"\", 1])\n",
    "    ax.set_yticklabels([0, \"\", 1])\n",
    "    ax.set_zticklabels([0, \"\", 1])\n",
    "\n",
    "\n",
    "    ax.annotate(\"$p_2$\", (-0.05, -0.08), fontsize=15)\n",
    "    ax.annotate(\"$p_3$\", (.065, -0.06), fontsize=15)\n",
    "    ax.annotate(\"$p_4$\", (.09, 0.003), fontsize=15)\n",
    "    \n",
    "    \n",
    "    ax.xaxis.pane.fill = False\n",
    "    ax.yaxis.pane.fill = False\n",
    "    ax.zaxis.pane.fill = False\n",
    "\n",
    "# for point in data65331:\n",
    "#      ax1.scatter(point[0],\n",
    "#                  point[1],\n",
    "#                  point[2],\n",
    "#                  s=1,\n",
    "#                  color='tab:purple')\n",
    "        \n",
    "    \n",
    "# ax1.legend(custom_lines, ['N65331'], bbox_to_anchor=(.5, 0), ncol=4, framealpha=0, fontsize=12);"
   ]
  },
  {
   "cell_type": "code",
   "execution_count": null,
   "metadata": {},
   "outputs": [],
   "source": [
    "min([point[0] for point in data65331]), max([point[0] for point in data65331]) "
   ]
  },
  {
   "cell_type": "code",
   "execution_count": null,
   "metadata": {},
   "outputs": [],
   "source": [
    " custom_lines = [Line2D([0], [0], color='tab:purple', lw=4, alpha=.55)]\n",
    "\n",
    "fig = plt.figure(figsize=(20, 20))\n",
    "\n",
    "ax1 = fig.add_subplot(131, projection='3d')\n",
    "\n",
    "axes = [ax1]\n",
    "\n",
    "\n",
    "for i, row in eqmemtwo[['p2', 'p5', 'p6']].round(2).drop_duplicates().iterrows():\n",
    "\n",
    "        ax1.scatter(row['p2'], row['p5'], row['p6'], color='tab:blue', alpha=0.5)\n",
    "\n",
    "ax1.set_zlim(0, 1);\n",
    "\n",
    "\n",
    "xx, yy= np.meshgrid(np.arange(0, 1, 0.1), np.arange(0, 1, 0.1))\n",
    "\n",
    "z = 1  - xx\n",
    "\n",
    "# plot the plane\n",
    "ax1.plot_surface(xx, yy, z, alpha=0.5)\n",
    "        \n",
    "for ax in axes:\n",
    "\n",
    "#     ax.view_init(10, -70)\n",
    "    ax.view_init(10, -80)\n",
    "    ax.set_xticks([0, .5, 1])\n",
    "    ax.set_yticks([0, .5, 1])\n",
    "    ax.set_zticks([0, .5, 1])\n",
    "\n",
    "    ax.set_xticklabels([0, \"\", 1])\n",
    "    ax.set_yticklabels([0, \"\", 1])\n",
    "    ax.set_zticklabels([0, \"\", 1])\n",
    "\n",
    "\n",
    "    ax.annotate(\"$p_2$\", (-0.05, -0.08), fontsize=15)\n",
    "    ax.annotate(\"$p_3$\", (.065, -0.06), fontsize=15)\n",
    "    ax.annotate(\"$p_4$\", (.09, 0.003), fontsize=15)\n",
    "    \n",
    "    \n",
    "    ax.xaxis.pane.fill = False\n",
    "    ax.yaxis.pane.fill = False\n",
    "    ax.zaxis.pane.fill = False"
   ]
  },
  {
   "cell_type": "code",
   "execution_count": null,
   "metadata": {},
   "outputs": [],
   "source": [
    "%matplotlib inline\n",
    "\n",
    "\n",
    "fig = plt.figure(figsize=(20, 20))\n",
    "\n",
    "ax1 = fig.add_subplot(131, projection='3d')\n",
    "\n",
    "axes = [ax1]\n",
    "\n",
    "\n",
    "# for point in data:\n",
    "#      ax1.scatter(point[0],\n",
    "#                  point[1],\n",
    "#                  point[2],\n",
    "#                  s=1,\n",
    "#                  color='tab:purple')\n",
    "\n",
    "# do fit\n",
    "tmp_A = []\n",
    "tmp_b = []\n",
    "\n",
    "for point in data:\n",
    "    \n",
    "    tmp_A.append([point[0], point[1], 1])\n",
    "    tmp_b.append(point[2])\n",
    "    \n",
    "b = np.matrix(tmp_b).T\n",
    "\n",
    "A = np.matrix(tmp_A)\n",
    "\n",
    "fit = (A.T * A).I * A.T * b\n",
    "\n",
    "errors = b - A * fit\n",
    "\n",
    "residual = np.linalg.norm(errors)\n",
    "\n",
    "print(\"solution:\")\n",
    "print(\"%f x + %f y + %f = z\" % (fit[0], fit[1], fit[2]))\n",
    "\n",
    "xlim = ax1.get_xlim()\n",
    "ylim = ax1.get_ylim()\n",
    "\n",
    "X, Y = np.meshgrid(np.arange(xlim[0], xlim[1], 0.1),\n",
    "                   np.arange(ylim[0], ylim[1], 0.1))\n",
    "\n",
    "Z = np.zeros(X.shape)\n",
    "\n",
    "for r in range(X.shape[0]):\n",
    "    for c in range(X.shape[1]):\n",
    "        Z[r, c] = fit[0] * X[r, c] + fit[1] * Y[r, c] + fit[2]\n",
    "\n",
    "ax1.plot_wireframe(X, Y, Z, color='k')\n",
    "\n",
    "for ax in axes:\n",
    "\n",
    "#     ax.view_init(10, -70)\n",
    "    ax.view_init(10, -60)\n",
    "    ax.set_xticks([0, .5, 1])\n",
    "    ax.set_yticks([0, .5, 1])\n",
    "    ax.set_zticks([0, .5, 1])\n",
    "\n",
    "    ax.set_xticklabels([0, \"\", 1])\n",
    "    ax.set_yticklabels([0, \"\", 1])\n",
    "    ax.set_zticklabels([0, \"\", 1])\n",
    "\n",
    "\n",
    "    ax.annotate(\"$p_2$\", (-0.05, -0.08), fontsize=15)\n",
    "    ax.annotate(\"$p_3$\", (.065, -0.06), fontsize=15)\n",
    "    ax.annotate(\"$p_4$\", (.09, 0.003), fontsize=15)\n",
    "    \n",
    "    \n",
    "    ax.xaxis.pane.fill = False\n",
    "    ax.yaxis.pane.fill = False\n",
    "    ax.zaxis.pane.fill = False;"
   ]
  },
  {
   "cell_type": "code",
   "execution_count": null,
   "metadata": {},
   "outputs": [],
   "source": [
    "%matplotlib inline\n",
    "\n",
    "\n",
    "fig = plt.figure(figsize=(20, 20))\n",
    "\n",
    "ax1 = fig.add_subplot(131, projection='3d')\n",
    "\n",
    "axes = [ax1]\n",
    "\n",
    "\n",
    "for point in data65331:\n",
    "     ax1.scatter(point[0],\n",
    "                 point[1],\n",
    "                 point[2],\n",
    "                 s=1,\n",
    "                 color='tab:purple')\n",
    "        \n",
    "\n",
    "# for ax in axes:\n",
    "\n",
    "# #     ax.view_init(10, -70)\n",
    "#     ax.view_init(10, -60)\n",
    "#     ax.set_xticks([0, .5, 1])\n",
    "#     ax.set_yticks([0, .5, 1])\n",
    "#     ax.set_zticks([0, .5, 1])\n",
    "\n",
    "#     ax.set_xticklabels([0, \"\", 1])\n",
    "#     ax.set_yticklabels([0, \"\", 1])\n",
    "#     ax.set_zticklabels([0, \"\", 1])\n",
    "\n",
    "\n",
    "#     ax.annotate(\"$p_2$\", (-0.05, -0.08), fontsize=15)\n",
    "#     ax.annotate(\"$p_3$\", (.065, -0.06), fontsize=15)\n",
    "#     ax.annotate(\"$p_4$\", (.09, 0.003), fontsize=15)\n",
    "    \n",
    "    \n",
    "#     ax.xaxis.pane.fill = False\n",
    "#     ax.yaxis.pane.fill = False\n",
    "#     ax.zaxis.pane.fill = False;\n",
    "\n",
    "# do fit\n",
    "tmp_A = []\n",
    "tmp_b = []\n",
    "\n",
    "for point in data65331:\n",
    "    \n",
    "    tmp_A.append([point[1], point[2], 1])\n",
    "    tmp_b.append(point[0])\n",
    "\n",
    "b = np.matrix(tmp_b).T\n",
    "\n",
    "A = np.matrix(tmp_A)\n",
    "\n",
    "\n",
    "fit = (A.T * A).I * A.T * b\n",
    "\n",
    "errors = b - A * fit\n",
    "\n",
    "residual = np.linalg.norm(errors)\n",
    "\n",
    "print(\"solution:\")\n",
    "print(\"%f p3 + %f p4 + %f = p2\" % (fit[0], fit[1], fit[2]))\n",
    "\n",
    "xlim = ax1.get_xlim()\n",
    "ylim = ax1.get_ylim()\n",
    "\n",
    "X, Y = np.meshgrid(np.arange(xlim[0], xlim[1], 0.1),\n",
    "                   np.arange(ylim[0], ylim[1], 0.1))\n",
    "\n",
    "Z = np.zeros(X.shape)\n",
    "\n",
    "for r in range(X.shape[0]):\n",
    "    for c in range(X.shape[1]):\n",
    "        Z[r, c] = fit[0] * X[r, c] + fit[1] * Y[r, c] + fit[2]\n",
    "\n",
    "ax1.plot_wireframe(Z, X, Y, color='k');\n"
   ]
  },
  {
   "cell_type": "code",
   "execution_count": null,
   "metadata": {},
   "outputs": [],
   "source": [
    "player"
   ]
  },
  {
   "cell_type": "code",
   "execution_count": null,
   "metadata": {},
   "outputs": [],
   "source": [
    "b, c = sym.symbols(\"b, c\")"
   ]
  },
  {
   "cell_type": "code",
   "execution_count": null,
   "metadata": {},
   "outputs": [],
   "source": [
    "sym.init_printing(True)"
   ]
  },
  {
   "cell_type": "code",
   "execution_count": null,
   "metadata": {},
   "outputs": [],
   "source": [
    "possible = []\n",
    "\n",
    "for coplayer in tqdm.tqdm_notebook(deterministic_strategies):\n",
    "    \n",
    "    M = calculate_M_memory_two(coplayer, player, analytical=True)\n",
    "    \n",
    "    try:\n",
    "        ss = invariant_distribution_analytically(M)\n",
    "    except KeyError:\n",
    "        ss = False\n",
    "        \n",
    "    if ss:\n",
    "        score = ss.subs({p_3:1}) @ np.array([b - c, -c, b, 0] * 4)\n",
    "        \n",
    "        if (score[0] - b) == 0:\n",
    "            possible.append(coplayer)"
   ]
  },
  {
   "cell_type": "code",
   "execution_count": null,
   "metadata": {},
   "outputs": [],
   "source": [
    "possible"
   ]
  },
  {
   "cell_type": "code",
   "execution_count": null,
   "metadata": {},
   "outputs": [],
   "source": [
    "coplayer = [1, 1, 0, 0] * 4\n",
    "\n",
    "coplayer"
   ]
  },
  {
   "cell_type": "code",
   "execution_count": null,
   "metadata": {},
   "outputs": [],
   "source": [
    "M = calculate_M_memory_two(coplayer, player, analytical=True)"
   ]
  },
  {
   "cell_type": "code",
   "execution_count": null,
   "metadata": {},
   "outputs": [],
   "source": [
    "ss = invariant_distribution_analytically(M)"
   ]
  },
  {
   "cell_type": "code",
   "execution_count": null,
   "metadata": {},
   "outputs": [],
   "source": [
    "(ss.subs({p_4:1}) @ np.array([b - c, -c, b, 0] * 4))[0]"
   ]
  },
  {
   "cell_type": "code",
   "execution_count": null,
   "metadata": {},
   "outputs": [],
   "source": [
    "player = [1, p_2, 1, p_2, 1, p_4, 1, p_4, 1, p_2, 1, p_2, 1, p_4, 1, p_4]\n",
    "\n",
    "M2 = calculate_M_memory_two(deterministic_strategies[65329], player, analytical=True)\n",
    "\n",
    "ss = invariant_distribution_analytically(M2)"
   ]
  },
  {
   "cell_type": "code",
   "execution_count": null,
   "metadata": {},
   "outputs": [],
   "source": [
    "M2"
   ]
  },
  {
   "cell_type": "code",
   "execution_count": null,
   "metadata": {},
   "outputs": [],
   "source": [
    "# run simulations with prisoner's dilemma\n",
    "# for mem two see if there is a small subset\n"
   ]
  }
 ],
 "metadata": {
  "kernelspec": {
   "display_name": "Python 3",
   "language": "python",
   "name": "python3"
  },
  "language_info": {
   "codemirror_mode": {
    "name": "ipython",
    "version": 3
   },
   "file_extension": ".py",
   "mimetype": "text/x-python",
   "name": "python",
   "nbconvert_exporter": "python",
   "pygments_lexer": "ipython3",
   "version": "3.8.3"
  }
 },
 "nbformat": 4,
 "nbformat_minor": 4
}
