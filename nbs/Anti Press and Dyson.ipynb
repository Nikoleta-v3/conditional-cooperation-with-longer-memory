{
 "cells": [
  {
   "cell_type": "markdown",
   "metadata": {},
   "source": [
    "**Imports**"
   ]
  },
  {
   "cell_type": "code",
   "execution_count": 481,
   "metadata": {},
   "outputs": [],
   "source": [
    "import itertools\n",
    "\n",
    "import numpy as np\n",
    "\n",
    "import tqdm\n",
    "\n",
    "import math"
   ]
  },
  {
   "cell_type": "code",
   "execution_count": 2,
   "metadata": {},
   "outputs": [],
   "source": [
    "import os\n",
    "\n",
    "os.chdir('..')"
   ]
  },
  {
   "cell_type": "code",
   "execution_count": 3,
   "metadata": {},
   "outputs": [],
   "source": [
    "from importlib.machinery import SourceFileLoader\n",
    "\n",
    "eq = SourceFileLoader(\"eq\", \"src/equilibria.py\").load_module()\n",
    "\n",
    "from eq import *"
   ]
  },
  {
   "cell_type": "code",
   "execution_count": 4,
   "metadata": {},
   "outputs": [],
   "source": [
    "from importlib.machinery import SourceFileLoader\n",
    "\n",
    "main = SourceFileLoader(\"main\", \"src/main.py\").load_module()\n",
    "\n",
    "from main import *"
   ]
  },
  {
   "cell_type": "code",
   "execution_count": 5,
   "metadata": {},
   "outputs": [],
   "source": [
    "import axelrod as axl"
   ]
  },
  {
   "cell_type": "code",
   "execution_count": 6,
   "metadata": {},
   "outputs": [],
   "source": [
    "from axelrod.action import Action\n",
    "\n",
    "C, D = Action.C, Action.D"
   ]
  },
  {
   "cell_type": "markdown",
   "metadata": {},
   "source": [
    "**Get memory-one strategy from memory-two**"
   ]
  },
  {
   "cell_type": "code",
   "execution_count": 471,
   "metadata": {},
   "outputs": [],
   "source": [
    "states = ['CC', 'CD', 'DC', 'DD']\n",
    "\n",
    "states_in_two_bits = [\"\".join(i[-2:]) for i in list(itertools.product(['C', 'D'], repeat=4))]"
   ]
  },
  {
   "cell_type": "code",
   "execution_count": 472,
   "metadata": {},
   "outputs": [],
   "source": [
    "player = [1, 1, 1, 1]\n",
    "\n",
    "mem_two_player = player * 4\n",
    "\n",
    "i = 2\n",
    "coplayer = set_of_memory_one_s[i]\n",
    "\n",
    "mem_two_coplayer = coplayer * 4"
   ]
  },
  {
   "cell_type": "code",
   "execution_count": 496,
   "metadata": {},
   "outputs": [],
   "source": [
    "p, c1, c2 = simulate_play(mem_two_player, [0, 0, 0, 0] * 4)"
   ]
  },
  {
   "cell_type": "code",
   "execution_count": 497,
   "metadata": {},
   "outputs": [
    {
     "data": {
      "text/plain": [
       "{(C, C): 2, (C, D): 0, (D, C): 47, (D, D): 0}"
      ]
     },
     "execution_count": 497,
     "metadata": {},
     "output_type": "execute_result"
    }
   ],
   "source": [
    "c1"
   ]
  },
  {
   "cell_type": "code",
   "execution_count": 498,
   "metadata": {},
   "outputs": [
    {
     "data": {
      "text/plain": [
       "{(C, C): 1, (C, D): 0, (D, C): 0, (D, D): 0}"
      ]
     },
     "execution_count": 498,
     "metadata": {},
     "output_type": "execute_result"
    }
   ],
   "source": [
    "c2"
   ]
  },
  {
   "cell_type": "code",
   "execution_count": 475,
   "metadata": {},
   "outputs": [
    {
     "data": {
      "text/plain": [
       "(0.5, 0.48)"
      ]
     },
     "execution_count": 475,
     "metadata": {},
     "output_type": "execute_result"
    }
   ],
   "source": [
    "25 / (10 * 5), 24 / (10 * 5)"
   ]
  },
  {
   "cell_type": "code",
   "execution_count": 476,
   "metadata": {},
   "outputs": [],
   "source": [
    "ss = calculate_ss_for_mem_two(mem_two_player, mem_two_coplayer)"
   ]
  },
  {
   "cell_type": "code",
   "execution_count": 457,
   "metadata": {},
   "outputs": [
    {
     "data": {
      "text/plain": [
       "array([0. , 0.5, 0. , 0. , 0.5, 0. , 0. , 0. , 0. , 0. , 0. , 0. , 0. ,\n",
       "       0. , 0. , 0. ])"
      ]
     },
     "execution_count": 457,
     "metadata": {},
     "output_type": "execute_result"
    }
   ],
   "source": [
    "ss"
   ]
  },
  {
   "cell_type": "code",
   "execution_count": 459,
   "metadata": {},
   "outputs": [],
   "source": [
    "ss = [sum([ss[i]  for i in range(16) if states_in_two_bits[i] == state])\n",
    "            for state in states]"
   ]
  },
  {
   "cell_type": "code",
   "execution_count": 477,
   "metadata": {},
   "outputs": [],
   "source": [
    "c = [sum([mem_two_coplayer[i]  for i in range(16) if states_in_two_bits[i] == state])\n",
    "            for state in states]"
   ]
  },
  {
   "cell_type": "code",
   "execution_count": 479,
   "metadata": {},
   "outputs": [
    {
     "ename": "ModuleNotFoundError",
     "evalue": "No module named 'maths'",
     "output_type": "error",
     "traceback": [
      "\u001b[0;31m---------------------------------------------------------------------------\u001b[0m",
      "\u001b[0;31mModuleNotFoundError\u001b[0m                       Traceback (most recent call last)",
      "\u001b[0;32m<ipython-input-479-6e25cba24411>\u001b[0m in \u001b[0;36m<module>\u001b[0;34m\u001b[0m\n\u001b[0;32m----> 1\u001b[0;31m \u001b[0;32mimport\u001b[0m \u001b[0mmaths\u001b[0m\u001b[0;34m\u001b[0m\u001b[0;34m\u001b[0m\u001b[0m\n\u001b[0m",
      "\u001b[0;31mModuleNotFoundError\u001b[0m: No module named 'maths'"
     ]
    }
   ],
   "source": []
  },
  {
   "cell_type": "code",
   "execution_count": 460,
   "metadata": {},
   "outputs": [
    {
     "data": {
      "text/plain": [
       "[0.5, 0.0, 0.5, 0.0]"
      ]
     },
     "execution_count": 460,
     "metadata": {},
     "output_type": "execute_result"
    }
   ],
   "source": [
    "[ss[0], ss[2], ss[1], ss[-1]]"
   ]
  },
  {
   "cell_type": "code",
   "execution_count": 461,
   "metadata": {},
   "outputs": [
    {
     "data": {
      "text/plain": [
       "{(C, C): 1, (C, D): 0, (D, C): 24, (D, D): 0}"
      ]
     },
     "execution_count": 461,
     "metadata": {},
     "output_type": "execute_result"
    }
   ],
   "source": [
    "c2"
   ]
  },
  {
   "cell_type": "code",
   "execution_count": 462,
   "metadata": {},
   "outputs": [
    {
     "data": {
      "text/plain": [
       "(0, 0, 1, 0)"
      ]
     },
     "execution_count": 462,
     "metadata": {},
     "output_type": "execute_result"
    }
   ],
   "source": [
    "coplayer"
   ]
  },
  {
   "cell_type": "code",
   "execution_count": 442,
   "metadata": {},
   "outputs": [
    {
     "data": {
      "text/plain": [
       "array([0. , 0.5, 0. , 0. , 0.5, 0. , 0. , 0. , 0. , 0. , 0. , 0. , 0. ,\n",
       "       0. , 0. , 0. ])"
      ]
     },
     "execution_count": 442,
     "metadata": {},
     "output_type": "execute_result"
    }
   ],
   "source": [
    "calculate_ss_for_mem_two(mem_two_player, mem_two_coplayer)"
   ]
  },
  {
   "cell_type": "code",
   "execution_count": 443,
   "metadata": {},
   "outputs": [],
   "source": [
    "ss = calculate_ss_for_mem_one(player, coplayer)"
   ]
  },
  {
   "cell_type": "code",
   "execution_count": 444,
   "metadata": {},
   "outputs": [
    {
     "data": {
      "text/plain": [
       "array([0., 0., 1., 0.])"
      ]
     },
     "execution_count": 444,
     "metadata": {},
     "output_type": "execute_result"
    }
   ],
   "source": [
    "np.array([ss[0], ss[2], ss[1], ss[-1]]) * np.array(coplayer) /  (1 / 2)"
   ]
  },
  {
   "cell_type": "code",
   "execution_count": 445,
   "metadata": {},
   "outputs": [],
   "source": [
    "ss2 = calculate_ss_for_mem_two(mem_two_player, mem_two_coplayer)"
   ]
  },
  {
   "cell_type": "code",
   "execution_count": 446,
   "metadata": {},
   "outputs": [],
   "source": [
    "ss2 = [sum([ss2[i]  for i in range(16) if states_in_two_bits[i] == state])\n",
    "            for state in states]"
   ]
  },
  {
   "cell_type": "code",
   "execution_count": 464,
   "metadata": {},
   "outputs": [],
   "source": [
    "strategy = []\n",
    "states = [(C, C), (C, D), (D, C), (D, D)]\n",
    "\n",
    "for state in states:\n",
    "    if c1[state] > 0:\n",
    "        strategy.append(c2[state] / c1[state])\n",
    "    else:\n",
    "        strategy.append(0)"
   ]
  },
  {
   "cell_type": "code",
   "execution_count": 465,
   "metadata": {},
   "outputs": [
    {
     "data": {
      "text/plain": [
       "[0.04, 0, 1.0, 0]"
      ]
     },
     "execution_count": 465,
     "metadata": {},
     "output_type": "execute_result"
    }
   ],
   "source": [
    "strategy"
   ]
  },
  {
   "cell_type": "code",
   "execution_count": 466,
   "metadata": {},
   "outputs": [
    {
     "data": {
      "text/plain": [
       "{(C, C): 1, (C, D): 0, (D, C): 24, (D, D): 0}"
      ]
     },
     "execution_count": 466,
     "metadata": {},
     "output_type": "execute_result"
    }
   ],
   "source": [
    "c2"
   ]
  },
  {
   "cell_type": "code",
   "execution_count": 469,
   "metadata": {},
   "outputs": [
    {
     "data": {
      "text/plain": [
       "{(C, C): 25, (C, D): 0, (D, C): 24, (D, D): 0}"
      ]
     },
     "execution_count": 469,
     "metadata": {},
     "output_type": "execute_result"
    }
   ],
   "source": [
    "c1"
   ]
  },
  {
   "cell_type": "code",
   "execution_count": 470,
   "metadata": {},
   "outputs": [
    {
     "data": {
      "text/plain": [
       "2.0"
      ]
     },
     "execution_count": 470,
     "metadata": {},
     "output_type": "execute_result"
    }
   ],
   "source": [
    "1 / .5"
   ]
  },
  {
   "cell_type": "code",
   "execution_count": null,
   "metadata": {},
   "outputs": [],
   "source": []
  },
  {
   "cell_type": "code",
   "execution_count": 447,
   "metadata": {},
   "outputs": [
    {
     "data": {
      "text/plain": [
       "array([0., 0., 1., 0.])"
      ]
     },
     "execution_count": 447,
     "metadata": {},
     "output_type": "execute_result"
    }
   ],
   "source": [
    "np.array([ss2[0], ss2[2], ss2[1], ss2[-1]]) * np.array(coplayer) /  (1 / 2)"
   ]
  },
  {
   "cell_type": "code",
   "execution_count": 448,
   "metadata": {},
   "outputs": [
    {
     "data": {
      "text/plain": [
       "(0, 0, 1, 0)"
      ]
     },
     "execution_count": 448,
     "metadata": {},
     "output_type": "execute_result"
    }
   ],
   "source": [
    "coplayer"
   ]
  },
  {
   "cell_type": "code",
   "execution_count": null,
   "metadata": {},
   "outputs": [],
   "source": []
  },
  {
   "cell_type": "code",
   "execution_count": 7,
   "metadata": {},
   "outputs": [],
   "source": [
    "states = ['CC', 'CD', 'DC', 'DD']"
   ]
  },
  {
   "cell_type": "code",
   "execution_count": 8,
   "metadata": {},
   "outputs": [],
   "source": [
    "set_of_memory_one_s = list(itertools.product([0, 1], repeat=4))"
   ]
  },
  {
   "cell_type": "code",
   "execution_count": 9,
   "metadata": {},
   "outputs": [],
   "source": [
    "set_of_memory_two_s = list(itertools.product([0, 1], repeat=16))"
   ]
  },
  {
   "cell_type": "code",
   "execution_count": 482,
   "metadata": {},
   "outputs": [],
   "source": [
    "def expected_memory_one_strategy(player, coplayer):\n",
    "    \"\"\"\n",
    "    Returns the expected memory-one strategy for a memory-two\n",
    "    strategy from the player's prespective.\n",
    "    \n",
    "    This uses the method by Press and Dyson.\n",
    "    \"\"\"\n",
    "    states = ['CC', 'CD', 'DC', 'DD']\n",
    "    \n",
    "    states_in_two_bits = [\"\".join(i[-2:]) for i in list(itertools.product(['C', 'D'], repeat=4))]\n",
    "\n",
    "    ss = calculate_ss_for_mem_two(player, coplayer)\n",
    "    \n",
    "    ss *= ([coplayer[0], coplayer[2], coplayer[1], coplayer[-1]] * 4)\n",
    "    \n",
    "    \n",
    "#     strategy = [sum([ss[i]  for i in range(16) if states_in_two_bits[i] == state])\n",
    "#             for state in states]\n",
    "    \n",
    "#     return (strategy[0], strategy[1], strategy[2], strategy[-1])\n",
    "\n",
    "    return [math.ceil(sum([ss[i]  for i in range(16) if states_in_two_bits[i] == state]))\n",
    "            for state in states]\n",
    "    "
   ]
  },
  {
   "cell_type": "code",
   "execution_count": 483,
   "metadata": {},
   "outputs": [],
   "source": [
    "def calculate_ss_for_mem_one(player, coplayer):\n",
    "    \"\"\"\n",
    "    Invariant distribution for memory-one.\n",
    "    \"\"\"\n",
    "    M = calculate_M(player, coplayer)\n",
    "    ss = invariant_distribution(M)\n",
    "    \n",
    "    return ss\n",
    "\n",
    "def calculate_ss_for_mem_two(player, coplayer):\n",
    "    \"\"\"\n",
    "    Invariant distribution for memory-two.\n",
    "    \"\"\"\n",
    "    M = calculate_M_memory_two(player, coplayer)\n",
    "    ss = invariant_distribution(M)\n",
    "    \n",
    "    return ss"
   ]
  },
  {
   "cell_type": "code",
   "execution_count": 499,
   "metadata": {},
   "outputs": [],
   "source": [
    "def simulate_play(p, q, turns=10 * 5, noise=0):\n",
    "    \n",
    "    states_to_actions = {(C, C): 0, \n",
    "                     (C, D): 0, \n",
    "                     (D, C): 0, \n",
    "                     (D, D):0}\n",
    "\n",
    "    states_counts = {(C, C): 0, \n",
    "                     (C, D): 0, \n",
    "                     (D, C): 0, \n",
    "                     (D, D):0}\n",
    "\n",
    "    player = axl.MemoryTwoPlayer([p[0], p[1], p[4], p[5],\n",
    "                                  p[2], p[3], p[6], p[7],\n",
    "                                  p[8], p[9], p[12], p[13], \n",
    "                                  p[10], p[11], p[14], p[15]])\n",
    "\n",
    "    coplayer = axl.MemoryTwoPlayer([q[0], q[1], q[4], q[5],\n",
    "                                    q[2], q[3], q[6], q[7],\n",
    "                                    q[8], q[9], q[12], q[13], \n",
    "                                    q[10], q[11], q[14], q[15]])\n",
    "    \n",
    "    \n",
    "    match = axl.Match(players=[player, coplayer], turns=turns, noise=noise)\n",
    "    \n",
    "    _ = match.play()\n",
    "    \n",
    "    for i, history in enumerate(match.result[1:-1]):\n",
    "\n",
    "        states_counts[history[::-1]] += 1\n",
    "        action = match.result[i + 1][-1]\n",
    "\n",
    "        if action == C:\n",
    "            states_to_actions[history[::-1]] += 1\n",
    "        \n",
    "        \n",
    "    strategy = []\n",
    "    states = [(C, C), (C, D), (D, C), (D, D)]\n",
    "\n",
    "    for state in states:\n",
    "        if states_counts[state] > 0:\n",
    "            strategy.append(states_to_actions[state] / states_counts[state])\n",
    "        else:\n",
    "            strategy.append(0)\n",
    "    \n",
    "    return strategy, states_counts, states_to_actions"
   ]
  },
  {
   "cell_type": "markdown",
   "metadata": {},
   "source": [
    "### Sanity check\n",
    "\n",
    "A memory-one strategy written as a memory two strategy is still the same."
   ]
  },
  {
   "cell_type": "code",
   "execution_count": 485,
   "metadata": {},
   "outputs": [],
   "source": [
    "b = 2\n",
    "\n",
    "c = 1\n",
    "\n",
    "np.random.seed(0)\n",
    "\n",
    "for _ in range(1000):\n",
    "    \n",
    "    p1, p2, p3, p4 = np.random.random(4)\n",
    "    \n",
    "    q1, q2, q3, q4 = np.random.random(4)\n",
    "    \n",
    "    ss_one = calculate_ss_for_mem_one([p1, p2, p3, p4], [q1, q2, q3, q4])\n",
    "    \n",
    "    ss_two = calculate_ss_for_mem_two([p1, p2, p3, p4] * 4, [q1, q2, q3, q4] * 4)\n",
    "    \n",
    "    assert np.isclose(\n",
    "        ss_one @ np.array([b - c, -c, b, 0]), ss_two @ np.array([b - c, -c, b, 0] * 4) \n",
    "    )"
   ]
  },
  {
   "cell_type": "markdown",
   "metadata": {},
   "source": [
    "Now we can loop over all the possible memory-one strategies, expressed as memory-two strategies, and compare the results. Thus, verify Press and Dyson."
   ]
  },
  {
   "cell_type": "code",
   "execution_count": 486,
   "metadata": {},
   "outputs": [
    {
     "data": {
      "text/plain": [
       "[0.45775969986338594,\n",
       " 0.37691770173244865,\n",
       " 0.7023351294557564,\n",
       " 0.20732410502995158]"
      ]
     },
     "execution_count": 486,
     "metadata": {},
     "output_type": "execute_result"
    }
   ],
   "source": [
    "player = [1, 1, 1, 1]\n",
    "\n",
    "coplayer = list(np.random.random(4))#set_of_memory_one_s[2]\n",
    "\n",
    "coplayer"
   ]
  },
  {
   "cell_type": "code",
   "execution_count": 487,
   "metadata": {},
   "outputs": [],
   "source": [
    "estimated = expected_memory_one_strategy(player * 4, coplayer * 4)"
   ]
  },
  {
   "cell_type": "code",
   "execution_count": 488,
   "metadata": {},
   "outputs": [
    {
     "data": {
      "text/plain": [
       "[1, 1, 0, 0]"
      ]
     },
     "execution_count": 488,
     "metadata": {},
     "output_type": "execute_result"
    }
   ],
   "source": [
    "estimated"
   ]
  },
  {
   "cell_type": "code",
   "execution_count": 363,
   "metadata": {},
   "outputs": [
    {
     "data": {
      "text/plain": [
       "array([0., 1., 0., 0.])"
      ]
     },
     "execution_count": 363,
     "metadata": {},
     "output_type": "execute_result"
    }
   ],
   "source": [
    "calculate_ss_for_mem_one(player, estimated)"
   ]
  },
  {
   "cell_type": "code",
   "execution_count": 359,
   "metadata": {},
   "outputs": [
    {
     "data": {
      "text/plain": [
       "array([0.91836735, 0.08163265, 0.        , 0.        ])"
      ]
     },
     "execution_count": 359,
     "metadata": {},
     "output_type": "execute_result"
    }
   ],
   "source": [
    "estimated_p, _, _ = simulate_play(player * 4, coplayer * 4)\n",
    "\n",
    "calculate_ss_for_mem_one(player, estimated_p)"
   ]
  },
  {
   "cell_type": "code",
   "execution_count": 360,
   "metadata": {},
   "outputs": [
    {
     "data": {
      "text/plain": [
       "array([0.94865496, 0.05134504, 0.        , 0.        ])"
      ]
     },
     "execution_count": 360,
     "metadata": {},
     "output_type": "execute_result"
    }
   ],
   "source": [
    "calculate_ss_for_mem_one(player, coplayer)"
   ]
  },
  {
   "cell_type": "code",
   "execution_count": 492,
   "metadata": {},
   "outputs": [
    {
     "data": {
      "text/plain": [
       "(0, 0, 0, 0)"
      ]
     },
     "execution_count": 492,
     "metadata": {},
     "output_type": "execute_result"
    }
   ],
   "source": [
    "set_of_memory_one_s[0]"
   ]
  },
  {
   "cell_type": "code",
   "execution_count": null,
   "metadata": {},
   "outputs": [],
   "source": []
  },
  {
   "cell_type": "code",
   "execution_count": 491,
   "metadata": {},
   "outputs": [
    {
     "name": "stdout",
     "output_type": "stream",
     "text": [
      "[0, 0, 0, 0] [0.5, 0, 0.0, 0]\n",
      "[0, 0, 0, 0] [0.5, 0, 0.0, 0]\n",
      "[0, 1, 0, 0] [0.04, 0, 1.0, 0]\n",
      "[0, 1, 0, 0] [0.04, 0, 1.0, 0]\n",
      "[0, 0, 0, 0] [0.5, 0, 0.0, 0]\n",
      "[0, 0, 0, 0] [0.5, 0, 0.0, 0]\n",
      "[0, 1, 0, 0] [0.04, 0, 1.0, 0]\n",
      "[0, 1, 0, 0] [0.04, 0, 1.0, 0]\n",
      "[1, 0, 0, 0] [1.0, 0, 0, 0]\n",
      "[1, 0, 0, 0] [1.0, 0, 0, 0]\n",
      "[1, 0, 0, 0] [1.0, 0, 0, 0]\n",
      "[1, 0, 0, 0] [1.0, 0, 0, 0]\n",
      "[1, 0, 0, 0] [1.0, 0, 0, 0]\n",
      "[1, 0, 0, 0] [1.0, 0, 0, 0]\n",
      "[1, 0, 0, 0] [1.0, 0, 0, 0]\n",
      "[1, 0, 0, 0] [1.0, 0, 0, 0]\n"
     ]
    }
   ],
   "source": [
    "b = 2\n",
    "\n",
    "c = 1\n",
    "# for player in tqdm.tqdm_notebook(set_of_memory_one_s):\n",
    "\n",
    "player = [1, 1, 1, 1]\n",
    "\n",
    "for i, coplayer in enumerate(set_of_memory_one_s):\n",
    "\n",
    "    mem_one_representation = expected_memory_one_strategy(player * 4, coplayer * 4)\n",
    "    \n",
    "    simulated_mem_one, _, _ = simulate_play(player * 4, coplayer * 4)\n",
    "\n",
    "#     ss_estimated = calculate_ss_for_mem_one(player, mem_one_representation)\n",
    "\n",
    "#     ss = calculate_ss_for_mem_one(player, coplayer)\n",
    "\n",
    "#     assert (ss == ss_estimated).all()\n",
    "    print(mem_one_representation, simulated_mem_one)"
   ]
  },
  {
   "cell_type": "code",
   "execution_count": null,
   "metadata": {},
   "outputs": [],
   "source": []
  },
  {
   "cell_type": "code",
   "execution_count": 85,
   "metadata": {},
   "outputs": [
    {
     "name": "stdout",
     "output_type": "stream",
     "text": [
      "[0.         0.         0.51946456 0.48053544] [-0.         -0.          0.18840851  0.81159149]\n",
      "[-0.         -0.          0.27573781  0.72426219] [-0.         -0.          0.20433821  0.79566179]\n",
      "[0.         0.         0.59771271 0.40228729] [-0.         -0.          0.28906861  0.71093139]\n"
     ]
    }
   ],
   "source": [
    "b = 2\n",
    "\n",
    "c = 1\n",
    "\n",
    "np.random.seed(1)\n",
    "\n",
    "random_strategies = [list(np.random.random(4)) for _ in range(3)]\n",
    "\n",
    "player = [0, 0, 0, 0]\n",
    "\n",
    "for i, coplayer in enumerate(random_strategies):\n",
    "\n",
    "\n",
    "    mem_one_representation = expected_memory_one_strategy(player * 4, coplayer * 4)\n",
    "\n",
    "    ss_estimated = calculate_ss_for_mem_one(player, mem_one_representation)\n",
    "\n",
    "    ss = calculate_ss_for_mem_one(player, coplayer)\n",
    "\n",
    "    print(ss, ss_estimated)"
   ]
  },
  {
   "cell_type": "markdown",
   "metadata": {},
   "source": [
    "### Simulations"
   ]
  },
  {
   "cell_type": "code",
   "execution_count": 91,
   "metadata": {},
   "outputs": [],
   "source": [
    "strategy = [0, 0, 0, 0]\n",
    "\n",
    "opponent = [1, 0, 1, 0]"
   ]
  },
  {
   "cell_type": "code",
   "execution_count": 494,
   "metadata": {},
   "outputs": [
    {
     "name": "stdout",
     "output_type": "stream",
     "text": [
      "[0. 1. 0. 0.] [0. 1. 0. 0.]\n",
      "[0. 1. 0. 0.] [0. 1. 0. 0.]\n",
      "[0.5005005 0.4994995 0.        0.       ] [0.5 0.5 0.  0. ]\n",
      "[0.5005005 0.4994995 0.        0.       ] [0.5 0.5 0.  0. ]\n",
      "[0. 1. 0. 0.] [0. 1. 0. 0.]\n",
      "[0. 1. 0. 0.] [0. 1. 0. 0.]\n",
      "[0.5005005 0.4994995 0.        0.       ] [0.5 0.5 0.  0. ]\n",
      "[0.5005005 0.4994995 0.        0.       ] [0.5 0.5 0.  0. ]\n",
      "[1. 0. 0. 0.] [1. 0. 0. 0.]\n",
      "[1. 0. 0. 0.] [1. 0. 0. 0.]\n",
      "[1. 0. 0. 0.] [1. 0. 0. 0.]\n",
      "[1. 0. 0. 0.] [1. 0. 0. 0.]\n",
      "[1. 0. 0. 0.] [1. 0. 0. 0.]\n",
      "[1. 0. 0. 0.] [1. 0. 0. 0.]\n",
      "[1. 0. 0. 0.] [1. 0. 0. 0.]\n",
      "[1. 0. 0. 0.] [1. 0. 0. 0.]\n"
     ]
    }
   ],
   "source": [
    "b = 2\n",
    "\n",
    "c = 1\n",
    "\n",
    "\n",
    "player = [1, 1, 1, 1]\n",
    "\n",
    "for i, coplayer in enumerate(set_of_memory_one_s):\n",
    "\n",
    "    mem_one_representation, _, _ = simulate_play(player * 4, coplayer * 4, turns=1000)\n",
    "\n",
    "    ss_estimated = calculate_ss_for_mem_one(player, coplayer)\n",
    "\n",
    "    ss = calculate_ss_for_mem_one(player, mem_one_representation)\n",
    "    \n",
    "    print(ss, ss_estimated)\n",
    "\n",
    "    assert (np.isclose(ss,\n",
    "                       ss_estimated, atol=10**-3).all()), f\"{ss} and {ss_estimated}. player: {player} coplayer:{coplayer}\""
   ]
  },
  {
   "cell_type": "code",
   "execution_count": 158,
   "metadata": {},
   "outputs": [
    {
     "name": "stderr",
     "output_type": "stream",
     "text": [
      "/Users/glynatsi/opt/anaconda3/envs/axelrod/lib/python3.7/site-packages/ipykernel_launcher.py:5: TqdmDeprecationWarning: This function will be removed in tqdm==5.0.0\n",
      "Please use `tqdm.notebook.tqdm` instead of `tqdm.tqdm_notebook`\n",
      "  \"\"\"\n"
     ]
    },
    {
     "data": {
      "application/vnd.jupyter.widget-view+json": {
       "model_id": "c685fa87c41741b783fbdbe2d0fe0813",
       "version_major": 2,
       "version_minor": 0
      },
      "text/plain": [
       "HBox(children=(FloatProgress(value=0.0, max=16.0), HTML(value='')))"
      ]
     },
     "metadata": {},
     "output_type": "display_data"
    },
    {
     "name": "stdout",
     "output_type": "stream",
     "text": [
      "\n"
     ]
    },
    {
     "ename": "AssertionError",
     "evalue": "[0.  0.5 0.  0.5] and [0. 0. 1. 0.]. player: (0, 0, 0, 1) coplayer:(1, 1, 0, 1)",
     "output_type": "error",
     "traceback": [
      "\u001b[0;31m---------------------------------------------------------------------------\u001b[0m",
      "\u001b[0;31mAssertionError\u001b[0m                            Traceback (most recent call last)",
      "\u001b[0;32m<ipython-input-158-d9be0710cff7>\u001b[0m in \u001b[0;36m<module>\u001b[0;34m\u001b[0m\n\u001b[1;32m     15\u001b[0m         \u001b[0mss\u001b[0m \u001b[0;34m=\u001b[0m \u001b[0mcalculate_ss_for_mem_one\u001b[0m\u001b[0;34m(\u001b[0m\u001b[0mplayer\u001b[0m\u001b[0;34m,\u001b[0m \u001b[0mmem_one_representation\u001b[0m\u001b[0;34m)\u001b[0m\u001b[0;34m\u001b[0m\u001b[0;34m\u001b[0m\u001b[0m\n\u001b[1;32m     16\u001b[0m \u001b[0;34m\u001b[0m\u001b[0m\n\u001b[0;32m---> 17\u001b[0;31m         \u001b[0;32massert\u001b[0m \u001b[0;34m(\u001b[0m\u001b[0mnp\u001b[0m\u001b[0;34m.\u001b[0m\u001b[0misclose\u001b[0m\u001b[0;34m(\u001b[0m\u001b[0mss\u001b[0m\u001b[0;34m,\u001b[0m \u001b[0mss_estimated\u001b[0m\u001b[0;34m,\u001b[0m \u001b[0matol\u001b[0m\u001b[0;34m=\u001b[0m\u001b[0;36m10\u001b[0m\u001b[0;34m**\u001b[0m\u001b[0;34m-\u001b[0m\u001b[0;36m3\u001b[0m\u001b[0;34m)\u001b[0m\u001b[0;34m.\u001b[0m\u001b[0mall\u001b[0m\u001b[0;34m(\u001b[0m\u001b[0;34m)\u001b[0m\u001b[0;34m)\u001b[0m\u001b[0;34m,\u001b[0m \u001b[0;34mf\"{ss} and {ss_estimated}. player: {player} coplayer:{coplayer}\"\u001b[0m\u001b[0;34m\u001b[0m\u001b[0;34m\u001b[0m\u001b[0m\n\u001b[0m",
      "\u001b[0;31mAssertionError\u001b[0m: [0.  0.5 0.  0.5] and [0. 0. 1. 0.]. player: (0, 0, 0, 1) coplayer:(1, 1, 0, 1)"
     ]
    }
   ],
   "source": [
    "b = 2\n",
    "\n",
    "c = 1\n",
    "\n",
    "for player in tqdm.tqdm_notebook(set_of_memory_one_s):\n",
    "\n",
    "# player = [1, 1, 1, 1]\n",
    "\n",
    "    for i, coplayer in enumerate(set_of_memory_one_s):\n",
    "\n",
    "        mem_one_representation, _, _ = simulate_play(player * 4, coplayer * 4, turns=1000)\n",
    "\n",
    "        ss_estimated = calculate_ss_for_mem_one(player, coplayer)\n",
    "\n",
    "        ss = calculate_ss_for_mem_one(player, mem_one_representation)\n",
    "\n",
    "        assert (np.isclose(ss, ss_estimated, atol=10**-3).all()), f\"{ss} and {ss_estimated}. player: {player} coplayer:{coplayer}\""
   ]
  },
  {
   "cell_type": "code",
   "execution_count": null,
   "metadata": {},
   "outputs": [],
   "source": []
  }
 ],
 "metadata": {
  "kernelspec": {
   "display_name": "axelrod",
   "language": "python",
   "name": "axelrod"
  },
  "language_info": {
   "codemirror_mode": {
    "name": "ipython",
    "version": 3
   },
   "file_extension": ".py",
   "mimetype": "text/x-python",
   "name": "python",
   "nbconvert_exporter": "python",
   "pygments_lexer": "ipython3",
   "version": "3.7.9"
  }
 },
 "nbformat": 4,
 "nbformat_minor": 4
}
