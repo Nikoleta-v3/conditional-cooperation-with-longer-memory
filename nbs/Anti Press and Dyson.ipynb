{
 "cells": [
  {
   "cell_type": "code",
   "execution_count": 1,
   "metadata": {},
   "outputs": [],
   "source": [
    "import itertools\n",
    "\n",
    "import numpy as np\n",
    "\n",
    "import tqdm\n",
    "\n",
    "import math"
   ]
  },
  {
   "cell_type": "code",
   "execution_count": 2,
   "metadata": {},
   "outputs": [],
   "source": [
    "import warnings\n",
    "warnings.filterwarnings('ignore')"
   ]
  },
  {
   "cell_type": "code",
   "execution_count": 3,
   "metadata": {},
   "outputs": [],
   "source": [
    "import os\n",
    "\n",
    "os.chdir('..')"
   ]
  },
  {
   "cell_type": "code",
   "execution_count": 4,
   "metadata": {},
   "outputs": [],
   "source": [
    "from importlib.machinery import SourceFileLoader\n",
    "\n",
    "eq = SourceFileLoader(\"eq\", \"src/equilibria.py\").load_module()\n",
    "\n",
    "from eq import *"
   ]
  },
  {
   "cell_type": "code",
   "execution_count": 5,
   "metadata": {},
   "outputs": [],
   "source": [
    "from importlib.machinery import SourceFileLoader\n",
    "\n",
    "main = SourceFileLoader(\"main\", \"src/main.py\").load_module()\n",
    "\n",
    "from main import *"
   ]
  },
  {
   "cell_type": "code",
   "execution_count": 6,
   "metadata": {},
   "outputs": [],
   "source": [
    "import tqdm"
   ]
  },
  {
   "cell_type": "code",
   "execution_count": 7,
   "metadata": {},
   "outputs": [],
   "source": [
    "import axelrod as axl"
   ]
  },
  {
   "cell_type": "code",
   "execution_count": 8,
   "metadata": {},
   "outputs": [],
   "source": [
    "from axelrod.action import Action\n",
    "\n",
    "C, D = Action.C, Action.D"
   ]
  },
  {
   "cell_type": "markdown",
   "metadata": {},
   "source": [
    "In this notebook we evaluate the result **Appendix A: Shortest-Memory Player Sets the Rules of the Game** from [Press & Dyson](https://www.pnas.org/doi/abs/10.1073/pnas.1206569109).\n"
   ]
  },
  {
   "cell_type": "markdown",
   "metadata": {},
   "source": [
    "We will initially check that we can get the **memory-one representation of a memory-two strategy**."
   ]
  },
  {
   "cell_type": "code",
   "execution_count": 9,
   "metadata": {},
   "outputs": [],
   "source": [
    "set_of_memory_one_s = list(itertools.product([0, 1], repeat=4))"
   ]
  },
  {
   "cell_type": "code",
   "execution_count": 10,
   "metadata": {},
   "outputs": [],
   "source": [
    "set_of_memory_two_s = list(itertools.product([0, 1], repeat=16))"
   ]
  },
  {
   "cell_type": "markdown",
   "metadata": {},
   "source": [
    "#### Approach: simulations"
   ]
  },
  {
   "cell_type": "code",
   "execution_count": 11,
   "metadata": {},
   "outputs": [],
   "source": [
    "def simulate_play(p, q, turns=10 * 5, noise=0):\n",
    "    \n",
    "    states_to_actions = {(C, C): 0, \n",
    "                     (C, D): 0, \n",
    "                     (D, C): 0, \n",
    "                     (D, D):0}\n",
    "\n",
    "    states_counts = {(C, C): 0, \n",
    "                     (C, D): 0, \n",
    "                     (D, C): 0, \n",
    "                     (D, D):0}\n",
    "\n",
    "    player = axl.MemoryTwoPlayer([p[0], p[1], p[4], p[5],\n",
    "                                  p[2], p[3], p[6], p[7],\n",
    "                                  p[8], p[9], p[12], p[13], \n",
    "                                  p[10], p[11], p[14], p[15]])\n",
    "\n",
    "    coplayer = axl.MemoryTwoPlayer([q[0], q[1], q[4], q[5],\n",
    "                                    q[2], q[3], q[6], q[7],\n",
    "                                    q[8], q[9], q[12], q[13], \n",
    "                                    q[10], q[11], q[14], q[15]])\n",
    "    \n",
    "    \n",
    "    match = axl.Match(players=[player, coplayer], turns=turns, noise=noise)\n",
    "    \n",
    "    _ = match.play()\n",
    "  \n",
    "    for i, history in enumerate(match.result[2:-1]):\n",
    "\n",
    "        states_counts[history[::-1]] += 1\n",
    "        action = match.result[i + 2 +1][-1]\n",
    "\n",
    "        if action == C:\n",
    "            states_to_actions[history[::-1]] += 1\n",
    "        \n",
    "        \n",
    "    strategy = []\n",
    "    states = [(C, C), (C, D), (D, C), (D, D)]\n",
    "\n",
    "    for state in states:\n",
    "        if states_counts[state] > 0:\n",
    "            strategy.append(states_to_actions[state] / states_counts[state])\n",
    "        else:\n",
    "            strategy.append(0)\n",
    "    \n",
    "    return strategy, states_counts, states_to_actions"
   ]
  },
  {
   "cell_type": "code",
   "execution_count": 12,
   "metadata": {},
   "outputs": [],
   "source": [
    "def simulate_play_mem_two(p, q, turns=10 * 5, noise=0):\n",
    "    \n",
    "    states_to_actions = {((C, C), (C, C)): 0, \n",
    "                         ((C, C), (C, D)): 0, \n",
    "                         ((C, C), (D, C)): 0, \n",
    "                         ((C, C), (D, D)):0,\n",
    "                         ((C, D), (C, C)): 0,\n",
    "                         ((C, D), (C, D)): 0,\n",
    "                         ((C, D), (D, C)): 0,\n",
    "                         ((C, D), (D, D)): 0,\n",
    "                         ((D, C), (C, C)): 0,\n",
    "                         ((D, C), (C, D)): 0,\n",
    "                         ((D, C), (D, C)): 0,\n",
    "                         ((D, C), (D, D)): 0,\n",
    "                         ((D, D), (C, C)): 0,\n",
    "                         ((D, D), (C, D)): 0,\n",
    "                         ((D, D), (D, C)): 0,\n",
    "                         ((D, D), (D, D)): 0}\n",
    "\n",
    "    states_counts = {((C, C), (C, C)): 0, \n",
    "                     ((C, C), (C, D)): 0, \n",
    "                     ((C, C), (D, C)): 0, \n",
    "                     ((C, C), (D, D)): 0,\n",
    "                     ((C, D), (C, C)): 0,\n",
    "                     ((C, D), (C, D)): 0,\n",
    "                     ((C, D), (D, C)): 0,\n",
    "                     ((C, D), (D, D)): 0,\n",
    "                     ((D, C), (C, C)): 0,\n",
    "                     ((D, C), (C, D)): 0,\n",
    "                     ((D, C), (D, C)): 0,\n",
    "                     ((D, C), (D, D)): 0,\n",
    "                     ((D, D), (C, C)): 0,\n",
    "                     ((D, D), (C, D)): 0,\n",
    "                     ((D, D), (D, C)): 0,\n",
    "                     ((D, D), (D, D)): 0}\n",
    "\n",
    "    player = axl.MemoryTwoPlayer([p[0], p[1], p[4], p[5],\n",
    "                                  p[2], p[3], p[6], p[7],\n",
    "                                  p[8], p[9], p[12], p[13], \n",
    "                                  p[10], p[11], p[14], p[15]])\n",
    "\n",
    "    coplayer = axl.MemoryTwoPlayer([q[0], q[1], q[4], q[5],\n",
    "                                    q[2], q[3], q[6], q[7],\n",
    "                                    q[8], q[9], q[12], q[13], \n",
    "                                    q[10], q[11], q[14], q[15]])\n",
    "    \n",
    "    \n",
    "    match = axl.Match(players=[player, coplayer], turns=turns, noise=noise)\n",
    "    \n",
    "    _ = match.play()\n",
    "  \n",
    "    for i, (previous, history) in enumerate(zip(match.result[1:-2], match.result[2:-1])):\n",
    "\n",
    "        states_counts[(previous[::-1], history[::-1])] += 1\n",
    "        action = match.result[i + 2 + 1][-1]\n",
    "\n",
    "        if action == C:\n",
    "            states_to_actions[(previous[::-1], history[::-1])] += 1\n",
    "        \n",
    "    \n",
    "    return states_counts, states_to_actions"
   ]
  },
  {
   "cell_type": "code",
   "execution_count": 13,
   "metadata": {},
   "outputs": [],
   "source": [
    "def invariant_distributions(M):\n",
    "    \"\"\"Returns all the invariant distributions in case of absorbing states.\"\"\"\n",
    "    \n",
    "    stationaries = []\n",
    "    \n",
    "    eigenvalues, eigenvectors = np.linalg.eig(M.T)\n",
    "    \n",
    "    for index in np.where(eigenvalues == np.max(eigenvalues))[0]:\n",
    "        \n",
    "        eigenvectors_one = eigenvectors[:, index]\n",
    "\n",
    "        stationary = eigenvectors_one / eigenvectors_one.sum()\n",
    "\n",
    "        stationaries.append(stationary.real)\n",
    "        \n",
    "    return stationaries\n",
    "\n",
    "\n",
    "def calculate_ss_for_mem_one(player, coplayer):\n",
    "    \"\"\"\n",
    "    Invariant distribution for memory-one.\n",
    "    \"\"\"\n",
    "    M = calculate_M(player, coplayer)\n",
    "    ss = invariant_distributions(M)\n",
    "    \n",
    "    return ss"
   ]
  },
  {
   "cell_type": "markdown",
   "metadata": {},
   "source": [
    "The initial check with just ALLC as the player."
   ]
  },
  {
   "cell_type": "code",
   "execution_count": 14,
   "metadata": {},
   "outputs": [],
   "source": [
    "b, c, player = 2, 1, [1, 1, 1, 1]\n",
    "\n",
    "for i, coplayer in enumerate(set_of_memory_one_s):\n",
    "\n",
    "    mem_one_representation, _, _ = simulate_play(player * 4, coplayer * 4, turns=1000)\n",
    "\n",
    "    ss = calculate_ss_for_mem_one(player, coplayer)\n",
    "\n",
    "    ss_estimated = calculate_ss_for_mem_one(player, mem_one_representation)\n",
    "    \n",
    "    check = False\n",
    "    \n",
    "    for ss1 in ss_estimated:\n",
    "        for ss2 in ss:\n",
    "            if (np.isclose(ss1, ss2, atol=10**-3).all()):\n",
    "                check = True\n",
    "\n",
    "    assert check, f\"{ss} and {ss_estimated}. player: {player} coplayer:{coplayer}\""
   ]
  },
  {
   "cell_type": "markdown",
   "metadata": {},
   "source": [
    "Secondly we check all of them."
   ]
  },
  {
   "cell_type": "code",
   "execution_count": 15,
   "metadata": {},
   "outputs": [
    {
     "data": {
      "application/vnd.jupyter.widget-view+json": {
       "model_id": "ba0efcb84a6b4942990334407df5e835",
       "version_major": 2,
       "version_minor": 0
      },
      "text/plain": [
       "HBox(children=(FloatProgress(value=0.0, max=16.0), HTML(value='')))"
      ]
     },
     "metadata": {},
     "output_type": "display_data"
    },
    {
     "name": "stdout",
     "output_type": "stream",
     "text": [
      "player: (0, 1, 0, 1) coplayer:(0, 1, 1, 0)\n",
      "player: (0, 1, 0, 1) coplayer:(1, 0, 1, 1)\n",
      "player: (0, 1, 1, 0) coplayer:(0, 1, 1, 1)\n",
      "player: (0, 1, 1, 0) coplayer:(1, 0, 1, 1)\n",
      "player: (1, 0, 0, 1) coplayer:(0, 1, 0, 1)\n",
      "player: (1, 0, 1, 0) coplayer:(0, 1, 1, 1)\n",
      "\n"
     ]
    }
   ],
   "source": [
    "b, c = 2, 1\n",
    "\n",
    "for player in tqdm.tqdm_notebook(set_of_memory_one_s):\n",
    "\n",
    "    for i, coplayer in enumerate(set_of_memory_one_s):\n",
    "\n",
    "        mem_one_representation, a, b = simulate_play(player * 4, coplayer * 4, turns=1000, noise=0.0)\n",
    "\n",
    "        ss_estimated = calculate_ss_for_mem_one(player, coplayer)\n",
    "\n",
    "        ss = calculate_ss_for_mem_one(player, mem_one_representation)\n",
    "\n",
    "        check = False\n",
    "\n",
    "        for ss1 in ss_estimated:\n",
    "            for ss2 in ss:\n",
    "                if (np.isclose(ss1, ss2, atol=10**-3).all()):\n",
    "                    check = True\n",
    "                    \n",
    "        # there are going to be some failures and I am just printing them. \n",
    "        if check == False:\n",
    "            print(f\"player: {player} coplayer:{coplayer}\")"
   ]
  },
  {
   "cell_type": "markdown",
   "metadata": {},
   "source": [
    "### Approach: numerical"
   ]
  },
  {
   "cell_type": "code",
   "execution_count": 16,
   "metadata": {},
   "outputs": [],
   "source": [
    "def calculate_ss_for_mem_two(player, coplayer):\n",
    "    \"\"\"\n",
    "    Invariant distribution for memory-two.\n",
    "    \"\"\"\n",
    "    M = calculate_M_memory_two(player, coplayer)\n",
    "    ss = invariant_distributions(M)\n",
    "    \n",
    "    return ss"
   ]
  },
  {
   "cell_type": "markdown",
   "metadata": {},
   "source": [
    "**Sanity check:** A memory-one strategy written as a memory two strategy is still the same."
   ]
  },
  {
   "cell_type": "code",
   "execution_count": 17,
   "metadata": {},
   "outputs": [],
   "source": [
    "b, c = 2, 1\n",
    "\n",
    "np.random.seed(1)\n",
    "\n",
    "for _ in range(1000):\n",
    "    \n",
    "    p1, p2, p3, p4 = np.random.random(4)\n",
    "    \n",
    "    q1, q2, q3, q4 = np.random.random(4)\n",
    "    \n",
    "    ss_one = calculate_ss_for_mem_one([p1, p2, p3, p4], [q1, q2, q3, q4])\n",
    "    \n",
    "    ss_two = calculate_ss_for_mem_two([p1, p2, p3, p4] * 4,\n",
    "                                      [q1, q2, q3, q4] * 4)\n",
    "    \n",
    "    assert np.isclose(\n",
    "        ss_one @ np.array([b - c, -c, b, 0]), ss_two @ np.array([b - c, -c, b, 0] * 4) \n",
    "    )"
   ]
  },
  {
   "cell_type": "markdown",
   "metadata": {},
   "source": [
    "Now we can loop over all the possible memory-one strategies, expressed as memory-two strategies, and compare the results. Thus, verify Press and Dyson."
   ]
  },
  {
   "cell_type": "code",
   "execution_count": 18,
   "metadata": {},
   "outputs": [],
   "source": [
    "def old_expected_memory_one_strategy(player, coplayer, index=0):\n",
    "    \"\"\"\n",
    "    Returns the expected memory-one strategy for a memory-two\n",
    "    strategy from the player's prespective.\n",
    "    \n",
    "    This uses the method by Press and Dyson.\n",
    "    \"\"\"\n",
    "    states = ['CC', 'CD', 'DC', 'DD']\n",
    "    \n",
    "    states_in_two_bits = [\"\".join(i[-2:]) for i in list(itertools.product(['C', 'D'], repeat=4))]\n",
    "\n",
    "    ss = calculate_ss_for_mem_two(player, coplayer)\n",
    "    \n",
    "    ss = ss[index]\n",
    "    \n",
    "    ss *= ([coplayer[0], coplayer[2], coplayer[1], coplayer[3]] * 4)\n",
    "    \n",
    "    strategy = [math.ceil(sum([ss[i] for i in range(16) if states_in_two_bits[i] == state]))\n",
    "                for state in states]\n",
    "\n",
    "    return (strategy[0], strategy[2], strategy[1], strategy[-1])    "
   ]
  },
  {
   "cell_type": "code",
   "execution_count": 19,
   "metadata": {},
   "outputs": [],
   "source": [
    "def expected_memory_one_strategy(player, coplayer, index=0):\n",
    "    \"\"\"\n",
    "    Returns the expected memory-one strategy for a memory-two\n",
    "    strategy from the player's prespective.\n",
    "    \n",
    "    This uses the method by Press and Dyson.\n",
    "    \"\"\"\n",
    "    states = ['CC', 'CD', 'DC', 'DD']\n",
    "    \n",
    "    states_in_two_bits = [\"\".join(i[-2:]) for i in list(itertools.product(['C', 'D'], repeat=4))]\n",
    "\n",
    "    ss = calculate_ss_for_mem_two(player, coplayer)\n",
    "    \n",
    "    ss = ss[index]\n",
    "    \n",
    "    num = ss * [coplayer[0],  coplayer[2],  coplayer[1],  coplayer[3],\n",
    "                 coplayer[4],  coplayer[6],  coplayer[5],  coplayer[7],\n",
    "                 coplayer[8],  coplayer[10], coplayer[9],  coplayer[11],\n",
    "                 coplayer[12], coplayer[14], coplayer[13], coplayer[15]]\n",
    "    \n",
    "#     print(num)\n",
    "    \n",
    "    strategy = [(sum([num[i] for i in range(16) if states_in_two_bits[i] == state]) \n",
    "                 / sum([ss[i] for i in range(16) if states_in_two_bits[i] == state]))\n",
    "                for state in states]\n",
    "\n",
    "    return [np.nan_to_num(strategy[i]) for i in [0, 2, 1, -1]]   "
   ]
  },
  {
   "cell_type": "code",
   "execution_count": 22,
   "metadata": {},
   "outputs": [],
   "source": [
    "# b, c, player = 2, 1, [1, 1, 1, 1]\n",
    "\n",
    "# for i, coplayer in enumerate(set_of_memory_one_s):\n",
    "\n",
    "#     mem_one_representation = expected_memory_one_strategy(player * 4, coplayer * 4)\n",
    "\n",
    "#     mem_one_representation2 = old_expected_memory_one_strategy(player * 4, coplayer * 4)\n",
    "    \n",
    "#     print(mem_one_representation, mem_one_representation2)"
   ]
  },
  {
   "cell_type": "code",
   "execution_count": 23,
   "metadata": {},
   "outputs": [],
   "source": [
    "b, c, player = 2, 1, [1, 1, 1, 1]\n",
    "\n",
    "for i, coplayer in enumerate(set_of_memory_one_s):\n",
    "\n",
    "    mem_one_representation = expected_memory_one_strategy(player * 4, coplayer * 4)\n",
    "\n",
    "    ss_estimated = calculate_ss_for_mem_one(player, mem_one_representation)\n",
    "\n",
    "    ss = calculate_ss_for_mem_one(player, coplayer)\n",
    "\n",
    "    assert (np.isclose(ss[0],\n",
    "                       ss_estimated[0], atol=10**-3).all()), f\"{ss} and {ss_estimated}. player: {player} coplayer:{coplayer}\""
   ]
  },
  {
   "cell_type": "code",
   "execution_count": 24,
   "metadata": {},
   "outputs": [
    {
     "data": {
      "application/vnd.jupyter.widget-view+json": {
       "model_id": "007179fe7c124b20b67bcfeace4f8644",
       "version_major": 2,
       "version_minor": 0
      },
      "text/plain": [
       "HBox(children=(FloatProgress(value=0.0, max=16.0), HTML(value='')))"
      ]
     },
     "metadata": {},
     "output_type": "display_data"
    },
    {
     "name": "stdout",
     "output_type": "stream",
     "text": [
      "player: (0, 1, 0, 1) coplayer:(1, 0, 1, 1)\n",
      "player: (0, 1, 1, 0) coplayer:(0, 1, 1, 1)\n",
      "player: (0, 1, 1, 0) coplayer:(1, 0, 1, 1)\n",
      "player: (1, 0, 1, 0) coplayer:(0, 1, 1, 1)\n",
      "\n"
     ]
    }
   ],
   "source": [
    "b, c = 2, 1\n",
    "\n",
    "for player in tqdm.tqdm_notebook(set_of_memory_one_s):\n",
    "\n",
    "    for i, coplayer in enumerate(set_of_memory_one_s):\n",
    "\n",
    "        mem_one_representation = expected_memory_one_strategy(player * 4, coplayer * 4, index=-1)\n",
    "\n",
    "        ss_estimated = calculate_ss_for_mem_one(player, mem_one_representation)\n",
    "\n",
    "        ss = calculate_ss_for_mem_one(player, coplayer)\n",
    "\n",
    "\n",
    "        check = False\n",
    "\n",
    "        for ss1 in ss_estimated:\n",
    "            for ss2 in ss:\n",
    "                if (np.isclose(ss1, ss2, atol=10**-3).all()):\n",
    "                    check = True\n",
    "\n",
    "        # there are going to be some failures and I am just printing them. \n",
    "        if check == False:\n",
    "            print(f\"player: {player} coplayer:{coplayer}\")"
   ]
  },
  {
   "cell_type": "markdown",
   "metadata": {},
   "source": [
    "These strategies are subset of the above. Let's explore."
   ]
  },
  {
   "cell_type": "markdown",
   "metadata": {},
   "source": [
    "The pairs in discussion:\n",
    "\n",
    "1. player: (0, 1, 0, 1) coplayer:(0, 1, 1, 0). simulations fail here because one state (CD) is very visited.\n",
    "2. (+) player: (0, 1, 0, 1) coplayer:(1, 0, 1, 1). cycling behavior\n",
    "3. (+) player: (0, 1, 1, 0) coplayer:(0, 1, 1, 1). cycling behavior\n",
    "4. (+) player: (0, 1, 1, 0) coplayer:(1, 0, 1, 1). cycling behavior\n",
    "5. player: (1, 0, 0, 1) coplayer:(0, 1, 0, 1). simulations fail here because one state (CD) is very visited.\n",
    "6. (+) player: (1, 0, 1, 0) coplayer:(0, 1, 1, 1). cycling behavior\n",
    "    "
   ]
  },
  {
   "cell_type": "code",
   "execution_count": 32,
   "metadata": {},
   "outputs": [],
   "source": [
    "pairs = [[(0, 1, 0, 1), (0, 1, 1, 0)],\n",
    "    [(0, 1, 0, 1), (1, 0, 1, 1)],\n",
    "    [(0, 1, 1, 0), (0, 1, 1, 1)],\n",
    "    [(0, 1, 1, 0), (1, 0, 1, 1)],\n",
    "    [(1, 0, 0, 1), (0, 1, 0, 1)],\n",
    "    [(1, 0, 1, 0), (0, 1, 1, 1)]]"
   ]
  },
  {
   "cell_type": "code",
   "execution_count": 33,
   "metadata": {},
   "outputs": [],
   "source": [
    "player = pairs[1][0]\n",
    "\n",
    "coplayer = pairs[1][1]"
   ]
  },
  {
   "cell_type": "code",
   "execution_count": 34,
   "metadata": {
    "scrolled": true
   },
   "outputs": [
    {
     "data": {
      "text/plain": [
       "[1.0, 0.0, 0.0, 1.0]"
      ]
     },
     "execution_count": 34,
     "metadata": {},
     "output_type": "execute_result"
    }
   ],
   "source": [
    "mem_one_representation = expected_memory_one_strategy(player * 4, coplayer * 4)\n",
    "\n",
    "mem_one_representation"
   ]
  },
  {
   "cell_type": "code",
   "execution_count": 35,
   "metadata": {},
   "outputs": [
    {
     "data": {
      "text/plain": [
       "[array([0., 1., 0., 0.])]"
      ]
     },
     "execution_count": 35,
     "metadata": {},
     "output_type": "execute_result"
    }
   ],
   "source": [
    "calculate_ss_for_mem_one(player, mem_one_representation)"
   ]
  },
  {
   "cell_type": "code",
   "execution_count": 36,
   "metadata": {},
   "outputs": [
    {
     "data": {
      "text/plain": [
       "[1.0, 0.0, 0, 1.0]"
      ]
     },
     "execution_count": 36,
     "metadata": {},
     "output_type": "execute_result"
    }
   ],
   "source": [
    "mem_one_sim_representation, a, b = simulate_play(player * 4, coplayer * 4, turns=2000, noise=0.0)\n",
    "\n",
    "mem_one_sim_representation"
   ]
  },
  {
   "cell_type": "code",
   "execution_count": 37,
   "metadata": {},
   "outputs": [
    {
     "data": {
      "text/plain": [
       "[array([0., 1., 0., 0.])]"
      ]
     },
     "execution_count": 37,
     "metadata": {},
     "output_type": "execute_result"
    }
   ],
   "source": [
    "calculate_ss_for_mem_one(player, mem_one_sim_representation)"
   ]
  },
  {
   "cell_type": "code",
   "execution_count": 38,
   "metadata": {},
   "outputs": [
    {
     "data": {
      "text/plain": [
       "{(C, C): 665, (C, D): 666, (D, C): 0, (D, D): 666}"
      ]
     },
     "execution_count": 38,
     "metadata": {},
     "output_type": "execute_result"
    }
   ],
   "source": [
    "a"
   ]
  },
  {
   "cell_type": "code",
   "execution_count": 39,
   "metadata": {},
   "outputs": [
    {
     "data": {
      "text/plain": [
       "{(C, C): 665, (C, D): 0, (D, C): 0, (D, D): 666}"
      ]
     },
     "execution_count": 39,
     "metadata": {},
     "output_type": "execute_result"
    }
   ],
   "source": [
    "b"
   ]
  },
  {
   "cell_type": "code",
   "execution_count": 40,
   "metadata": {},
   "outputs": [
    {
     "data": {
      "text/plain": [
       "[array([ 0.33333333, -0.        ,  0.33333333,  0.33333333])]"
      ]
     },
     "execution_count": 40,
     "metadata": {},
     "output_type": "execute_result"
    }
   ],
   "source": [
    "calculate_ss_for_mem_one(player, coplayer)"
   ]
  },
  {
   "cell_type": "code",
   "execution_count": 41,
   "metadata": {},
   "outputs": [
    {
     "data": {
      "text/plain": [
       "1.0000000000000002"
      ]
     },
     "execution_count": 41,
     "metadata": {},
     "output_type": "execute_result"
    }
   ],
   "source": [
    "calculate_ss_for_mem_one(player, coplayer)[0] @ np.array([2 - 1, -1, 2, 0])"
   ]
  },
  {
   "cell_type": "code",
   "execution_count": 42,
   "metadata": {},
   "outputs": [
    {
     "data": {
      "text/plain": [
       "-1.0"
      ]
     },
     "execution_count": 42,
     "metadata": {},
     "output_type": "execute_result"
    }
   ],
   "source": [
    "calculate_ss_for_mem_one(player, mem_one_representation)[0] @ np.array([2 - 1, -1, 2, 0])"
   ]
  },
  {
   "cell_type": "code",
   "execution_count": 43,
   "metadata": {},
   "outputs": [
    {
     "data": {
      "text/plain": [
       "(array([ 0.33333333, -0.        ,  0.33333333,  0.33333333]),\n",
       " array([0., 1., 0., 0.]))"
      ]
     },
     "execution_count": 43,
     "metadata": {},
     "output_type": "execute_result"
    }
   ],
   "source": [
    "calculate_ss_for_mem_one(player, coplayer)[0], calculate_ss_for_mem_one(player, mem_one_representation)[0]"
   ]
  },
  {
   "cell_type": "code",
   "execution_count": 44,
   "metadata": {},
   "outputs": [
    {
     "data": {
      "text/plain": [
       "array([[0, 0, 1, 0],\n",
       "       [1, 0, 0, 0],\n",
       "       [0, 0, 0, 1],\n",
       "       [1, 0, 0, 0]])"
      ]
     },
     "execution_count": 44,
     "metadata": {},
     "output_type": "execute_result"
    }
   ],
   "source": [
    "M = calculate_M(player, coplayer)\n",
    "\n",
    "M"
   ]
  },
  {
   "cell_type": "code",
   "execution_count": 45,
   "metadata": {},
   "outputs": [
    {
     "data": {
      "text/plain": [
       "array([[0., 0., 1., 0.],\n",
       "       [0., 1., 0., 0.],\n",
       "       [0., 0., 0., 1.],\n",
       "       [1., 0., 0., 0.]])"
      ]
     },
     "execution_count": 45,
     "metadata": {},
     "output_type": "execute_result"
    }
   ],
   "source": [
    "M = calculate_M(player, mem_one_representation)\n",
    "\n",
    "M"
   ]
  },
  {
   "cell_type": "code",
   "execution_count": 46,
   "metadata": {},
   "outputs": [],
   "source": [
    "_, states_counts, states_to_actions = simulate_play(player * 4, coplayer * 4, turns=1000, noise=0.0)"
   ]
  },
  {
   "cell_type": "code",
   "execution_count": 47,
   "metadata": {},
   "outputs": [
    {
     "data": {
      "text/plain": [
       "({(C, C): 332, (C, D): 333, (D, C): 0, (D, D): 332},\n",
       " {(C, C): 332, (C, D): 0, (D, C): 0, (D, D): 332})"
      ]
     },
     "execution_count": 47,
     "metadata": {},
     "output_type": "execute_result"
    }
   ],
   "source": [
    "states_counts, states_to_actions"
   ]
  },
  {
   "cell_type": "code",
   "execution_count": 48,
   "metadata": {},
   "outputs": [],
   "source": [
    "_, states_counts2, states_to_actions2 = simulate_play(player * 4, mem_one_representation * 4, turns=1000, noise=0.0)"
   ]
  },
  {
   "cell_type": "code",
   "execution_count": 49,
   "metadata": {},
   "outputs": [
    {
     "data": {
      "text/plain": [
       "({(C, C): 332, (C, D): 333, (D, C): 0, (D, D): 332},\n",
       " {(C, C): 332, (C, D): 0, (D, C): 0, (D, D): 332})"
      ]
     },
     "execution_count": 49,
     "metadata": {},
     "output_type": "execute_result"
    }
   ],
   "source": [
    "states_counts2, states_to_actions2"
   ]
  },
  {
   "cell_type": "markdown",
   "metadata": {},
   "source": [
    "### Against Pure Memory-Two strategies"
   ]
  },
  {
   "cell_type": "code",
   "execution_count": 106,
   "metadata": {},
   "outputs": [
    {
     "data": {
      "text/plain": [
       "(0, 0, 0, 0, 0, 0, 0, 0, 0, 0, 0, 0, 1, 1, 0, 0)"
      ]
     },
     "execution_count": 106,
     "metadata": {},
     "output_type": "execute_result"
    }
   ],
   "source": [
    "coplayer = set_of_memory_two_s[12]\n",
    "coplayer"
   ]
  },
  {
   "cell_type": "code",
   "execution_count": 107,
   "metadata": {},
   "outputs": [],
   "source": [
    "player = [1, 1, 1, 1]"
   ]
  },
  {
   "cell_type": "code",
   "execution_count": 108,
   "metadata": {},
   "outputs": [],
   "source": [
    "ss = calculate_ss_for_mem_two(player * 4, coplayer)"
   ]
  },
  {
   "cell_type": "code",
   "execution_count": 109,
   "metadata": {},
   "outputs": [
    {
     "data": {
      "text/plain": [
       "array([0., 0., 0., 0., 0., 1., 0., 0., 0., 0., 0., 0., 0., 0., 0., 0.])"
      ]
     },
     "execution_count": 109,
     "metadata": {},
     "output_type": "execute_result"
    }
   ],
   "source": [
    "ss[0]"
   ]
  },
  {
   "cell_type": "code",
   "execution_count": 65,
   "metadata": {},
   "outputs": [],
   "source": [
    "player, counts, actions =  simulate_play(player * 4, coplayer, turns = 10000)"
   ]
  },
  {
   "cell_type": "code",
   "execution_count": 66,
   "metadata": {},
   "outputs": [
    {
     "data": {
      "text/plain": [
       "({(C, C): 1999, (C, D): 1999, (D, C): 2000, (D, D): 3999},\n",
       " {(C, C): 0, (C, D): 1999, (D, C): 0, (D, D): 1999})"
      ]
     },
     "execution_count": 66,
     "metadata": {},
     "output_type": "execute_result"
    }
   ],
   "source": [
    "counts, actions"
   ]
  },
  {
   "cell_type": "code",
   "execution_count": 67,
   "metadata": {},
   "outputs": [],
   "source": [
    "counts2, actions2 = simulate_play_mem_two(player * 4, coplayer, turns = 10000)"
   ]
  },
  {
   "cell_type": "code",
   "execution_count": 84,
   "metadata": {},
   "outputs": [],
   "source": [
    "first = [((C, C), (C, C)),\n",
    "((C, D), (C, C)),\n",
    "((D, C), (C, C)),\n",
    "((D, D), (C, C))]\n",
    "\n",
    "second = [((C, C), (C, D)),\n",
    "((C, D), (C, D)),\n",
    "((D, C), (C, D)),\n",
    "((D, D), (C, D))]\n",
    "\n",
    "third = [((C, C), (D, C)),\n",
    "((C, D), (D, C)),\n",
    "((D, C), (D, C)),\n",
    "((D, D), (D, C))]\n",
    "\n",
    "fourth = [((C, C), (D, D)),\n",
    "((C, D), (D, D)),\n",
    "((D, C), (D, D)),\n",
    "((D, D), (D, D))]"
   ]
  },
  {
   "cell_type": "code",
   "execution_count": 85,
   "metadata": {},
   "outputs": [
    {
     "data": {
      "text/plain": [
       "(1969, 2706)"
      ]
     },
     "execution_count": 85,
     "metadata": {},
     "output_type": "execute_result"
    }
   ],
   "source": [
    "sum([counts2[i] for i in first]), sum([counts2[i] for i in second])"
   ]
  },
  {
   "cell_type": "code",
   "execution_count": 86,
   "metadata": {},
   "outputs": [
    {
     "data": {
      "text/plain": [
       "(1322, 4000)"
      ]
     },
     "execution_count": 86,
     "metadata": {},
     "output_type": "execute_result"
    }
   ],
   "source": [
    "sum([counts2[i] for i in third]), sum([counts2[i] for i in fourth])"
   ]
  },
  {
   "cell_type": "code",
   "execution_count": 87,
   "metadata": {},
   "outputs": [
    {
     "data": {
      "text/plain": [
       "(1322, 692)"
      ]
     },
     "execution_count": 87,
     "metadata": {},
     "output_type": "execute_result"
    }
   ],
   "source": [
    "sum([actions2[i] for i in first]), sum([actions2[i] for i in second])"
   ]
  },
  {
   "cell_type": "code",
   "execution_count": 88,
   "metadata": {},
   "outputs": [
    {
     "data": {
      "text/plain": [
       "(1322, 1339)"
      ]
     },
     "execution_count": 88,
     "metadata": {},
     "output_type": "execute_result"
    }
   ],
   "source": [
    "sum([actions2[i] for i in third]), sum([actions2[i] for i in fourth])"
   ]
  },
  {
   "cell_type": "code",
   "execution_count": 89,
   "metadata": {},
   "outputs": [
    {
     "data": {
      "text/plain": [
       "0.6714068054850177"
      ]
     },
     "execution_count": 89,
     "metadata": {},
     "output_type": "execute_result"
    }
   ],
   "source": [
    "sum([actions2[i] for i in first]) / sum([counts2[i] for i in first])"
   ]
  },
  {
   "cell_type": "code",
   "execution_count": 90,
   "metadata": {},
   "outputs": [
    {
     "data": {
      "text/plain": [
       "0.2557280118255728"
      ]
     },
     "execution_count": 90,
     "metadata": {},
     "output_type": "execute_result"
    }
   ],
   "source": [
    "sum([actions2[i] for i in second]) / sum([counts2[i] for i in second])"
   ]
  },
  {
   "cell_type": "code",
   "execution_count": 91,
   "metadata": {},
   "outputs": [
    {
     "data": {
      "text/plain": [
       "1.0"
      ]
     },
     "execution_count": 91,
     "metadata": {},
     "output_type": "execute_result"
    }
   ],
   "source": [
    "sum([actions2[i] for i in third]) / sum([counts2[i] for i in third])"
   ]
  },
  {
   "cell_type": "code",
   "execution_count": 92,
   "metadata": {},
   "outputs": [
    {
     "data": {
      "text/plain": [
       "0.33475"
      ]
     },
     "execution_count": 92,
     "metadata": {},
     "output_type": "execute_result"
    }
   ],
   "source": [
    "sum([actions2[i] for i in fourth]) / sum([counts2[i] for i in fourth])"
   ]
  },
  {
   "cell_type": "code",
   "execution_count": 93,
   "metadata": {},
   "outputs": [
    {
     "name": "stdout",
     "output_type": "stream",
     "text": [
      "0.0\n",
      "1.0\n",
      "0.0\n",
      "0.49987496874218557\n"
     ]
    }
   ],
   "source": [
    "for a, b in zip(actions.values(), counts.values()):\n",
    "    print(a / b)"
   ]
  },
  {
   "cell_type": "code",
   "execution_count": 95,
   "metadata": {},
   "outputs": [
    {
     "data": {
      "text/plain": [
       "[array([0.51111111, 0.48888889, 0.        , 0.        ])]"
      ]
     },
     "execution_count": 95,
     "metadata": {},
     "output_type": "execute_result"
    }
   ],
   "source": [
    "ss = calculate_ss_for_mem_one((1, 1, 1, 1), [0.5217391304347826, 0, 0.5, 0])\n",
    "ss"
   ]
  },
  {
   "cell_type": "code",
   "execution_count": null,
   "metadata": {},
   "outputs": [],
   "source": [
    "calculate_ss_for_mem_two([1, 1, 1, 1] * 4, )"
   ]
  },
  {
   "cell_type": "code",
   "execution_count": 597,
   "metadata": {},
   "outputs": [],
   "source": [
    "ss = calculate_ss_for_mem_two(player * 4, coplayer)\n",
    "\n",
    "ss = ss[0]"
   ]
  },
  {
   "cell_type": "code",
   "execution_count": 598,
   "metadata": {},
   "outputs": [],
   "source": [
    "num = ss * [coplayer[0],  coplayer[2],  coplayer[1],  coplayer[3],\n",
    "             coplayer[4],  coplayer[6],  coplayer[5],  coplayer[7],\n",
    "             coplayer[8],  coplayer[10], coplayer[9],  coplayer[11],\n",
    "             coplayer[12], coplayer[14], coplayer[13], coplayer[15]]"
   ]
  },
  {
   "cell_type": "code",
   "execution_count": 599,
   "metadata": {},
   "outputs": [
    {
     "data": {
      "text/plain": [
       "array([ 0.25,  0.25, -0.  , -0.  ,  0.25,  0.25, -0.  , -0.  , -0.  ,\n",
       "       -0.  , -0.  , -0.  , -0.  , -0.  , -0.  , -0.  ])"
      ]
     },
     "execution_count": 599,
     "metadata": {},
     "output_type": "execute_result"
    }
   ],
   "source": [
    "ss"
   ]
  },
  {
   "cell_type": "code",
   "execution_count": 600,
   "metadata": {},
   "outputs": [
    {
     "data": {
      "text/plain": [
       "array([ 0.,  0., -0., -0.,  0.,  0., -0., -0., -0., -0., -0., -0., -0.,\n",
       "       -0., -0., -0.])"
      ]
     },
     "execution_count": 600,
     "metadata": {},
     "output_type": "execute_result"
    }
   ],
   "source": [
    "num"
   ]
  },
  {
   "cell_type": "code",
   "execution_count": 590,
   "metadata": {},
   "outputs": [
    {
     "data": {
      "text/plain": [
       "(0, 0, 0, 0, 0, 0, 0, 0, 1, 0, 1, 0, 0, 1, 1, 1)"
      ]
     },
     "execution_count": 590,
     "metadata": {},
     "output_type": "execute_result"
    }
   ],
   "source": [
    "coplayer"
   ]
  },
  {
   "cell_type": "code",
   "execution_count": 591,
   "metadata": {},
   "outputs": [
    {
     "data": {
      "text/plain": [
       "array([ 0.25,  0.25, -0.  , -0.  ,  0.25,  0.25, -0.  , -0.  , -0.  ,\n",
       "       -0.  , -0.  , -0.  , -0.  , -0.  , -0.  , -0.  ])"
      ]
     },
     "execution_count": 591,
     "metadata": {},
     "output_type": "execute_result"
    }
   ],
   "source": [
    "ss"
   ]
  },
  {
   "cell_type": "code",
   "execution_count": 592,
   "metadata": {},
   "outputs": [
    {
     "data": {
      "text/plain": [
       "[0.0, 0.0, 0.0, 0.0]"
      ]
     },
     "execution_count": 592,
     "metadata": {},
     "output_type": "execute_result"
    }
   ],
   "source": [
    "expected_memory_one_strategy(player * 4, coplayer)"
   ]
  },
  {
   "cell_type": "code",
   "execution_count": 593,
   "metadata": {},
   "outputs": [
    {
     "data": {
      "text/plain": [
       "[array([0., 1., 0., 0.])]"
      ]
     },
     "execution_count": 593,
     "metadata": {},
     "output_type": "execute_result"
    }
   ],
   "source": [
    "calculate_ss_for_mem_one(player, [0, 0, 0, 0])"
   ]
  },
  {
   "cell_type": "code",
   "execution_count": 594,
   "metadata": {},
   "outputs": [],
   "source": [
    "ss = calculate_ss_for_mem_two(player * 4, coplayer)"
   ]
  },
  {
   "cell_type": "code",
   "execution_count": 595,
   "metadata": {},
   "outputs": [
    {
     "data": {
      "text/plain": [
       "[array([ 0.25,  0.25, -0.  , -0.  ,  0.25,  0.25, -0.  , -0.  , -0.  ,\n",
       "        -0.  , -0.  , -0.  , -0.  , -0.  , -0.  , -0.  ])]"
      ]
     },
     "execution_count": 595,
     "metadata": {},
     "output_type": "execute_result"
    }
   ],
   "source": [
    "ss"
   ]
  },
  {
   "cell_type": "code",
   "execution_count": null,
   "metadata": {},
   "outputs": [],
   "source": [
    "\n",
    "    \n",
    "#     print(num)\n",
    "    \n",
    "    strategy = [(sum([num[i] for i in range(16) if states_in_two_bits[i] == state]) \n",
    "                 / sum([ss[i] for i in range(16) if states_in_two_bits[i] == state]))\n",
    "                for state in states]\n",
    "\n",
    "    return [np.nan_to_num(strategy[i]) for i in [0, 2, 1, -1]]  "
   ]
  },
  {
   "cell_type": "code",
   "execution_count": 112,
   "metadata": {},
   "outputs": [
    {
     "data": {
      "application/vnd.jupyter.widget-view+json": {
       "model_id": "ab5935910b77413699cfc0393a9336ca",
       "version_major": 2,
       "version_minor": 0
      },
      "text/plain": [
       "HBox(children=(FloatProgress(value=0.0, max=65536.0), HTML(value='')))"
      ]
     },
     "metadata": {},
     "output_type": "display_data"
    },
    {
     "name": "stdout",
     "output_type": "stream",
     "text": [
      "\n"
     ]
    },
    {
     "data": {
      "application/vnd.jupyter.widget-view+json": {
       "model_id": "aadeba16afa04c6e965916940de212c1",
       "version_major": 2,
       "version_minor": 0
      },
      "text/plain": [
       "HBox(children=(FloatProgress(value=0.0, max=65536.0), HTML(value='')))"
      ]
     },
     "metadata": {},
     "output_type": "display_data"
    },
    {
     "name": "stdout",
     "output_type": "stream",
     "text": [
      "\n"
     ]
    }
   ],
   "source": [
    "b, c = 2, 1\n",
    "\n",
    "states = ['CC', 'CD', 'DC', 'DD']\n",
    "\n",
    "states_in_two_bits = [\"\".join(i[-2:]) for i in list(itertools.product(['C', 'D'], repeat=4))]\n",
    "\n",
    "np.random.seed(0)\n",
    "\n",
    "count = 0\n",
    "\n",
    "for player in set_of_memory_one_s[-2:]:\n",
    "\n",
    "    for coplayer in tqdm.tqdm_notebook(set_of_memory_two_s):\n",
    "\n",
    "        mem_one_representation = expected_memory_one_strategy(player * 4, coplayer)\n",
    "\n",
    "        ss_estimated = calculate_ss_for_mem_one(player, mem_one_representation)\n",
    "\n",
    "        ss = calculate_ss_for_mem_two(player * 4, coplayer)\n",
    "        \n",
    "\n",
    "        ss = [[sum([s[i] for i in range(16) if states_in_two_bits[i] == state])\n",
    "                for state in states] for s in ss]\n",
    "        \n",
    "        check = False\n",
    "\n",
    "        for ss1 in ss_estimated:\n",
    "            for ss2 in ss:\n",
    "                if (np.isclose(ss1, ss2, atol=10**-2).all()):\n",
    "                    check = True\n",
    "\n",
    "#         there are going to be some failures and I am just printing them. \n",
    "        if check == False:\n",
    "            count += 1\n",
    "#             print(f\"ss: {ss} ss estimated:{ss_estimated}\")\n",
    "#         print(mem_one_representation)"
   ]
  },
  {
   "cell_type": "code",
   "execution_count": 606,
   "metadata": {},
   "outputs": [
    {
     "data": {
      "text/plain": [
       "18432"
      ]
     },
     "execution_count": 606,
     "metadata": {},
     "output_type": "execute_result"
    }
   ],
   "source": [
    "count"
   ]
  },
  {
   "cell_type": "markdown",
   "metadata": {},
   "source": [
    "### Against Generic Memory-Two strategies"
   ]
  },
  {
   "cell_type": "code",
   "execution_count": 481,
   "metadata": {},
   "outputs": [],
   "source": [
    "def expected_memory_one_strategy(player, coplayer, index=0):\n",
    "    \"\"\"\n",
    "    Returns the expected memory-one strategy for a memory-two\n",
    "    strategy from the player's prespective.\n",
    "    \n",
    "    This uses the method by Press and Dyson.\n",
    "    \"\"\"\n",
    "    states = ['CC', 'CD', 'DC', 'DD']\n",
    "    \n",
    "    states_in_two_bits = [\"\".join(i[-2:]) for i in list(itertools.product(['C', 'D'], repeat=4))]\n",
    "\n",
    "    ss = calculate_ss_for_mem_two(player, coplayer)\n",
    "    \n",
    "    ss = ss[index]\n",
    "    \n",
    "    num = ss * [coplayer[0],  coplayer[2],  coplayer[1],  coplayer[3],\n",
    "                 coplayer[4],  coplayer[6],  coplayer[5],  coplayer[7],\n",
    "                 coplayer[8],  coplayer[10], coplayer[9],  coplayer[11],\n",
    "                 coplayer[12], coplayer[14], coplayer[13], coplayer[15]] / ss\n",
    "    \n",
    "    num = np.nan_to_num(num)\n",
    "    \n",
    "    strategy = [np.average([num[i] for i in range(16) if states_in_two_bits[i] == state],\n",
    "                 weights = [ss[i] for i in range(16) if states_in_two_bits[i] == state])\n",
    "                for state in states\n",
    "                ]\n",
    "\n",
    "    return [np.nan_to_num(strategy[i]) for i in [0, 2, 1, -1]]   "
   ]
  },
  {
   "cell_type": "code",
   "execution_count": 482,
   "metadata": {},
   "outputs": [
    {
     "data": {
      "application/vnd.jupyter.widget-view+json": {
       "model_id": "be1843632027475a8f8399390b5bf252",
       "version_major": 2,
       "version_minor": 0
      },
      "text/plain": [
       "HBox(children=(FloatProgress(value=0.0, max=1.0), HTML(value='')))"
      ]
     },
     "metadata": {},
     "output_type": "display_data"
    },
    {
     "name": "stdout",
     "output_type": "stream",
     "text": [
      "\n"
     ]
    },
    {
     "ename": "ZeroDivisionError",
     "evalue": "Weights sum to zero, can't be normalized",
     "output_type": "error",
     "traceback": [
      "\u001b[0;31m---------------------------------------------------------------------------\u001b[0m",
      "\u001b[0;31mZeroDivisionError\u001b[0m                         Traceback (most recent call last)",
      "\u001b[0;32m<ipython-input-482-c1da9d092526>\u001b[0m in \u001b[0;36m<module>\u001b[0;34m\u001b[0m\n\u001b[1;32m     11\u001b[0m     \u001b[0;32mfor\u001b[0m \u001b[0mcoplayer\u001b[0m \u001b[0;32min\u001b[0m \u001b[0;34m[\u001b[0m\u001b[0mnp\u001b[0m\u001b[0;34m.\u001b[0m\u001b[0mrandom\u001b[0m\u001b[0;34m.\u001b[0m\u001b[0mrandom\u001b[0m\u001b[0;34m(\u001b[0m\u001b[0;36m16\u001b[0m\u001b[0;34m)\u001b[0m \u001b[0;32mfor\u001b[0m \u001b[0m_\u001b[0m \u001b[0;32min\u001b[0m \u001b[0mrange\u001b[0m\u001b[0;34m(\u001b[0m\u001b[0;36m3\u001b[0m\u001b[0;34m)\u001b[0m\u001b[0;34m]\u001b[0m\u001b[0;34m:\u001b[0m\u001b[0;34m\u001b[0m\u001b[0;34m\u001b[0m\u001b[0m\n\u001b[1;32m     12\u001b[0m \u001b[0;34m\u001b[0m\u001b[0m\n\u001b[0;32m---> 13\u001b[0;31m         \u001b[0mmem_one_representation\u001b[0m \u001b[0;34m=\u001b[0m \u001b[0mexpected_memory_one_strategy\u001b[0m\u001b[0;34m(\u001b[0m\u001b[0mplayer\u001b[0m \u001b[0;34m*\u001b[0m \u001b[0;36m4\u001b[0m\u001b[0;34m,\u001b[0m \u001b[0mcoplayer\u001b[0m\u001b[0;34m)\u001b[0m\u001b[0;34m\u001b[0m\u001b[0;34m\u001b[0m\u001b[0m\n\u001b[0m\u001b[1;32m     14\u001b[0m \u001b[0;34m\u001b[0m\u001b[0m\n\u001b[1;32m     15\u001b[0m         \u001b[0mss_estimated\u001b[0m \u001b[0;34m=\u001b[0m \u001b[0mcalculate_ss_for_mem_one\u001b[0m\u001b[0;34m(\u001b[0m\u001b[0mplayer\u001b[0m\u001b[0;34m,\u001b[0m \u001b[0mmem_one_representation\u001b[0m\u001b[0;34m)\u001b[0m\u001b[0;34m\u001b[0m\u001b[0;34m\u001b[0m\u001b[0m\n",
      "\u001b[0;32m<ipython-input-481-bda978b1215c>\u001b[0m in \u001b[0;36mexpected_memory_one_strategy\u001b[0;34m(player, coplayer, index)\u001b[0m\n\u001b[1;32m     23\u001b[0m     strategy = [np.average([num[i] for i in range(16) if states_in_two_bits[i] == state],\n\u001b[1;32m     24\u001b[0m                  weights = [ss[i] for i in range(16) if states_in_two_bits[i] == state])\n\u001b[0;32m---> 25\u001b[0;31m                 \u001b[0;32mfor\u001b[0m \u001b[0mstate\u001b[0m \u001b[0;32min\u001b[0m \u001b[0mstates\u001b[0m\u001b[0;34m\u001b[0m\u001b[0;34m\u001b[0m\u001b[0m\n\u001b[0m\u001b[1;32m     26\u001b[0m                 ]\n\u001b[1;32m     27\u001b[0m \u001b[0;34m\u001b[0m\u001b[0m\n",
      "\u001b[0;32m<ipython-input-481-bda978b1215c>\u001b[0m in \u001b[0;36m<listcomp>\u001b[0;34m(.0)\u001b[0m\n\u001b[1;32m     23\u001b[0m     strategy = [np.average([num[i] for i in range(16) if states_in_two_bits[i] == state],\n\u001b[1;32m     24\u001b[0m                  weights = [ss[i] for i in range(16) if states_in_two_bits[i] == state])\n\u001b[0;32m---> 25\u001b[0;31m                 \u001b[0;32mfor\u001b[0m \u001b[0mstate\u001b[0m \u001b[0;32min\u001b[0m \u001b[0mstates\u001b[0m\u001b[0;34m\u001b[0m\u001b[0;34m\u001b[0m\u001b[0m\n\u001b[0m\u001b[1;32m     26\u001b[0m                 ]\n\u001b[1;32m     27\u001b[0m \u001b[0;34m\u001b[0m\u001b[0m\n",
      "\u001b[0;32m<__array_function__ internals>\u001b[0m in \u001b[0;36maverage\u001b[0;34m(*args, **kwargs)\u001b[0m\n",
      "\u001b[0;32m~/opt/anaconda3/envs/axelrod/lib/python3.7/site-packages/numpy-1.19.1-py3.7-macosx-10.9-x86_64.egg/numpy/lib/function_base.py\u001b[0m in \u001b[0;36maverage\u001b[0;34m(a, axis, weights, returned)\u001b[0m\n\u001b[1;32m    408\u001b[0m         \u001b[0;32mif\u001b[0m \u001b[0mnp\u001b[0m\u001b[0;34m.\u001b[0m\u001b[0many\u001b[0m\u001b[0;34m(\u001b[0m\u001b[0mscl\u001b[0m \u001b[0;34m==\u001b[0m \u001b[0;36m0.0\u001b[0m\u001b[0;34m)\u001b[0m\u001b[0;34m:\u001b[0m\u001b[0;34m\u001b[0m\u001b[0;34m\u001b[0m\u001b[0m\n\u001b[1;32m    409\u001b[0m             raise ZeroDivisionError(\n\u001b[0;32m--> 410\u001b[0;31m                 \"Weights sum to zero, can't be normalized\")\n\u001b[0m\u001b[1;32m    411\u001b[0m \u001b[0;34m\u001b[0m\u001b[0m\n\u001b[1;32m    412\u001b[0m         \u001b[0mavg\u001b[0m \u001b[0;34m=\u001b[0m \u001b[0mnp\u001b[0m\u001b[0;34m.\u001b[0m\u001b[0mmultiply\u001b[0m\u001b[0;34m(\u001b[0m\u001b[0ma\u001b[0m\u001b[0;34m,\u001b[0m \u001b[0mwgt\u001b[0m\u001b[0;34m,\u001b[0m \u001b[0mdtype\u001b[0m\u001b[0;34m=\u001b[0m\u001b[0mresult_dtype\u001b[0m\u001b[0;34m)\u001b[0m\u001b[0;34m.\u001b[0m\u001b[0msum\u001b[0m\u001b[0;34m(\u001b[0m\u001b[0maxis\u001b[0m\u001b[0;34m)\u001b[0m\u001b[0;34m/\u001b[0m\u001b[0mscl\u001b[0m\u001b[0;34m\u001b[0m\u001b[0;34m\u001b[0m\u001b[0m\n",
      "\u001b[0;31mZeroDivisionError\u001b[0m: Weights sum to zero, can't be normalized"
     ]
    }
   ],
   "source": [
    "b, c = 2, 1\n",
    "\n",
    "states = ['CC', 'CD', 'DC', 'DD']\n",
    "\n",
    "states_in_two_bits = [\"\".join(i[-2:]) for i in list(itertools.product(['C', 'D'], repeat=4))]\n",
    "\n",
    "np.random.seed(0)\n",
    "\n",
    "for player in tqdm.tqdm_notebook(set_of_memory_one_s[-1:]):\n",
    "\n",
    "    for coplayer in [np.random.random(16) for _ in range(3)]:\n",
    "\n",
    "        mem_one_representation = expected_memory_one_strategy(player * 4, coplayer)\n",
    "\n",
    "        ss_estimated = calculate_ss_for_mem_one(player, mem_one_representation)\n",
    "\n",
    "        ss = calculate_ss_for_mem_two(player * 4, coplayer)\n",
    "        \n",
    "\n",
    "        ss = [[sum([s[i] for i in range(16) if states_in_two_bits[i] == state])\n",
    "                for state in states] for s in ss]\n",
    "        \n",
    "        check = False\n",
    "\n",
    "        for ss1 in ss_estimated:\n",
    "            for ss2 in ss:\n",
    "                if (np.isclose(ss1, ss2, atol=10**-3).all()):\n",
    "                    check = True\n",
    "\n",
    "        # there are going to be some failures and I am just printing them. \n",
    "        if check == False:\n",
    "            print(f\"ss: {ss} ss estimated:{ss_estimated}\")"
   ]
  },
  {
   "cell_type": "code",
   "execution_count": 470,
   "metadata": {},
   "outputs": [
    {
     "data": {
      "application/vnd.jupyter.widget-view+json": {
       "model_id": "f9c348a499c7436f85b10bfac5830683",
       "version_major": 2,
       "version_minor": 0
      },
      "text/plain": [
       "HBox(children=(FloatProgress(value=0.0, max=16.0), HTML(value='')))"
      ]
     },
     "metadata": {},
     "output_type": "display_data"
    },
    {
     "name": "stdout",
     "output_type": "stream",
     "text": [
      "ss: [[0.05203331873512497, 0.011837472059824572, 0.924291737145226, 0.011837472059824428]] ss estimated:[array([0.04197997, 0.0092847 , 0.93945063, 0.0092847 ])]\n",
      "\n"
     ]
    }
   ],
   "source": [
    "b, c = 2, 1\n",
    "\n",
    "states = ['CC', 'CD', 'DC', 'DD']\n",
    "\n",
    "states_in_two_bits = [\"\".join(i[-2:]) for i in list(itertools.product(['C', 'D'], repeat=4))]\n",
    "\n",
    "np.random.seed(0)\n",
    "\n",
    "for player in tqdm.tqdm_notebook(set_of_memory_one_s):\n",
    "\n",
    "    for coplayer in [np.random.random(16) for _ in range(1)]:\n",
    "\n",
    "        mem_one_representation, _, _ = simulate_play(player * 4, coplayer, turns=100000)\n",
    "\n",
    "        ss_estimated = calculate_ss_for_mem_one(player, mem_one_representation)\n",
    "\n",
    "        ss = calculate_ss_for_mem_two(player * 4, coplayer)\n",
    "        \n",
    "\n",
    "        ss = [[sum([s[i] for i in range(16) if states_in_two_bits[i] == state])\n",
    "                for state in states] for s in ss]\n",
    "        \n",
    "        check = False\n",
    "\n",
    "        for ss1 in ss_estimated:\n",
    "            for ss2 in ss:\n",
    "                if (np.isclose(ss1, ss2, atol=10**-2).all()):\n",
    "                    check = True\n",
    "\n",
    "        # there are going to be some failures and I am just printing them. \n",
    "        if check == False:\n",
    "            print(f\"ss: {ss} ss estimated:{ss_estimated}\")"
   ]
  },
  {
   "cell_type": "code",
   "execution_count": 504,
   "metadata": {},
   "outputs": [
    {
     "data": {
      "text/plain": [
       "(1, 1, 1, 1)"
      ]
     },
     "execution_count": 504,
     "metadata": {},
     "output_type": "execute_result"
    }
   ],
   "source": [
    "player"
   ]
  },
  {
   "cell_type": "code",
   "execution_count": 515,
   "metadata": {},
   "outputs": [
    {
     "data": {
      "text/plain": [
       "array([0.5488135 , 0.71518937, 0.60276338, 0.54488318, 0.4236548 ,\n",
       "       0.64589411, 0.43758721, 0.891773  , 0.96366276, 0.38344152,\n",
       "       0.79172504, 0.52889492, 0.56804456, 0.92559664, 0.07103606,\n",
       "       0.0871293 ])"
      ]
     },
     "execution_count": 515,
     "metadata": {},
     "output_type": "execute_result"
    }
   ],
   "source": [
    "coplayer "
   ]
  },
  {
   "cell_type": "code",
   "execution_count": 516,
   "metadata": {},
   "outputs": [],
   "source": [
    "mem_one_representation, a, b = simulate_play(player * 4, coplayer, turns=100000)"
   ]
  },
  {
   "cell_type": "code",
   "execution_count": 517,
   "metadata": {},
   "outputs": [
    {
     "data": {
      "text/plain": [
       "[0.6815416722170419, 0, 0.6633779367330579, 0]"
      ]
     },
     "execution_count": 517,
     "metadata": {},
     "output_type": "execute_result"
    }
   ],
   "source": [
    "mem_one_representation"
   ]
  },
  {
   "cell_type": "code",
   "execution_count": 535,
   "metadata": {
    "scrolled": false
   },
   "outputs": [],
   "source": [
    "ss = calculate_ss_for_mem_two(player * 4, coplayer)\n",
    "\n",
    "ss = ss[-1]\n",
    "\n",
    "num = ss * [coplayer[0],  coplayer[2],  coplayer[1],  coplayer[3],\n",
    "             coplayer[4],  coplayer[6],  coplayer[5],  coplayer[7],\n",
    "             coplayer[8],  coplayer[10], coplayer[9],  coplayer[11],\n",
    "             coplayer[12], coplayer[14], coplayer[13], coplayer[15]] / ss\n",
    "\n",
    "num = np.nan_to_num(num)\n",
    "\n",
    "sums = [[num[i] for i in range(16) if states_in_two_bits[i] == state] for state in states]\n",
    "\n",
    "weights = [[ss[i] for i in range(16) if states_in_two_bits[i] == state] for state in states]\n",
    "\n",
    "strategy = []\n",
    "\n",
    "for s, w in zip(sums, weights):\n",
    "    if sum(w) > 0:\n",
    "        strategy.append(np.average(s, weights=w))\n",
    "    else:\n",
    "        strategy.append(0)\n"
   ]
  },
  {
   "cell_type": "code",
   "execution_count": 536,
   "metadata": {},
   "outputs": [
    {
     "data": {
      "text/plain": [
       "array([0.5488135 , 0.60276338, 0.        , 0.        , 0.4236548 ,\n",
       "       0.43758721, 0.        , 0.        , 0.        , 0.        ,\n",
       "       0.        , 0.        , 0.        , 0.        , 0.        ,\n",
       "       0.        ])"
      ]
     },
     "execution_count": 536,
     "metadata": {},
     "output_type": "execute_result"
    }
   ],
   "source": [
    "num"
   ]
  },
  {
   "cell_type": "code",
   "execution_count": 537,
   "metadata": {},
   "outputs": [
    {
     "data": {
      "text/plain": [
       "array([ 0.46055114,  0.21562985, -0.        , -0.        ,  0.21562985,\n",
       "        0.10818917, -0.        , -0.        , -0.        , -0.        ,\n",
       "       -0.        , -0.        , -0.        , -0.        , -0.        ,\n",
       "       -0.        ])"
      ]
     },
     "execution_count": 537,
     "metadata": {},
     "output_type": "execute_result"
    }
   ],
   "source": [
    "ss"
   ]
  },
  {
   "cell_type": "code",
   "execution_count": 531,
   "metadata": {},
   "outputs": [
    {
     "data": {
      "text/plain": [
       "[0.5089011831526044, 0, 0.5475773897117798, 0]"
      ]
     },
     "execution_count": 531,
     "metadata": {},
     "output_type": "execute_result"
    }
   ],
   "source": [
    "[strategy[i] for i in [0, 2, 1, -1]]"
   ]
  },
  {
   "cell_type": "code",
   "execution_count": 532,
   "metadata": {},
   "outputs": [
    {
     "data": {
      "text/plain": [
       "[array([0.52718777, 0.47281223, 0.        , 0.        ])]"
      ]
     },
     "execution_count": 532,
     "metadata": {},
     "output_type": "execute_result"
    }
   ],
   "source": [
    "calculate_ss_for_mem_one(player, [strategy[i] for i in [0, 2, 1, -1]])"
   ]
  },
  {
   "cell_type": "code",
   "execution_count": 524,
   "metadata": {},
   "outputs": [
    {
     "data": {
      "text/plain": [
       "[array([0.67565027, 0.32434973, 0.        , 0.        ])]"
      ]
     },
     "execution_count": 524,
     "metadata": {},
     "output_type": "execute_result"
    }
   ],
   "source": [
    "calculate_ss_for_mem_one(player, mem_one_representation)"
   ]
  },
  {
   "cell_type": "code",
   "execution_count": 538,
   "metadata": {},
   "outputs": [
    {
     "data": {
      "text/plain": [
       "[0.6815416722170419, 0, 0.6633779367330579, 0]"
      ]
     },
     "execution_count": 538,
     "metadata": {},
     "output_type": "execute_result"
    }
   ],
   "source": [
    "mem_one_representation"
   ]
  },
  {
   "cell_type": "code",
   "execution_count": 521,
   "metadata": {},
   "outputs": [
    {
     "data": {
      "text/plain": [
       "[[0.4605511376861959, 0.2156298474861497, -0.0, -0.0],\n",
       " [0.2156298474861498, 0.10818916734150454, -0.0, -0.0],\n",
       " [-0.0, -0.0, -0.0, -0.0],\n",
       " [-0.0, -0.0, -0.0, -0.0]]"
      ]
     },
     "execution_count": 521,
     "metadata": {},
     "output_type": "execute_result"
    }
   ],
   "source": [
    "[[ss[i] for i in range(16) if states_in_two_bits[i] == state] for state in states]"
   ]
  },
  {
   "cell_type": "code",
   "execution_count": 528,
   "metadata": {},
   "outputs": [],
   "source": [
    "ss = calculate_ss_for_mem_two(player * 4, coplayer)\n",
    "\n",
    "\n",
    "ss = [[sum([s[i] for i in range(16) if states_in_two_bits[i] == state])\n",
    "        for state in states] for s in ss]"
   ]
  },
  {
   "cell_type": "code",
   "execution_count": 529,
   "metadata": {},
   "outputs": [
    {
     "data": {
      "text/plain": [
       "[[0.6761809851723456, 0.32381901482765435, 0.0, 0.0]]"
      ]
     },
     "execution_count": 529,
     "metadata": {},
     "output_type": "execute_result"
    }
   ],
   "source": [
    "ss"
   ]
  },
  {
   "cell_type": "code",
   "execution_count": null,
   "metadata": {},
   "outputs": [],
   "source": [
    "player * 4"
   ]
  },
  {
   "cell_type": "code",
   "execution_count": null,
   "metadata": {},
   "outputs": [],
   "source": [
    "a"
   ]
  },
  {
   "cell_type": "code",
   "execution_count": 489,
   "metadata": {},
   "outputs": [],
   "source": [
    "ss = calculate_ss_for_mem_two(player * 4, coplayer)"
   ]
  },
  {
   "cell_type": "code",
   "execution_count": 490,
   "metadata": {},
   "outputs": [],
   "source": [
    "ss = ss[0]"
   ]
  },
  {
   "cell_type": "code",
   "execution_count": 477,
   "metadata": {},
   "outputs": [
    {
     "ename": "TypeError",
     "evalue": "can't multiply sequence by non-int of type 'list'",
     "output_type": "error",
     "traceback": [
      "\u001b[0;31m---------------------------------------------------------------------------\u001b[0m",
      "\u001b[0;31mTypeError\u001b[0m                                 Traceback (most recent call last)",
      "\u001b[0;32m<ipython-input-477-441857c9597c>\u001b[0m in \u001b[0;36m<module>\u001b[0;34m\u001b[0m\n\u001b[1;32m      2\u001b[0m              \u001b[0mcoplayer\u001b[0m\u001b[0;34m[\u001b[0m\u001b[0;36m4\u001b[0m\u001b[0;34m]\u001b[0m\u001b[0;34m,\u001b[0m  \u001b[0mcoplayer\u001b[0m\u001b[0;34m[\u001b[0m\u001b[0;36m6\u001b[0m\u001b[0;34m]\u001b[0m\u001b[0;34m,\u001b[0m  \u001b[0mcoplayer\u001b[0m\u001b[0;34m[\u001b[0m\u001b[0;36m5\u001b[0m\u001b[0;34m]\u001b[0m\u001b[0;34m,\u001b[0m  \u001b[0mcoplayer\u001b[0m\u001b[0;34m[\u001b[0m\u001b[0;36m7\u001b[0m\u001b[0;34m]\u001b[0m\u001b[0;34m,\u001b[0m\u001b[0;34m\u001b[0m\u001b[0;34m\u001b[0m\u001b[0m\n\u001b[1;32m      3\u001b[0m              \u001b[0mcoplayer\u001b[0m\u001b[0;34m[\u001b[0m\u001b[0;36m8\u001b[0m\u001b[0;34m]\u001b[0m\u001b[0;34m,\u001b[0m  \u001b[0mcoplayer\u001b[0m\u001b[0;34m[\u001b[0m\u001b[0;36m10\u001b[0m\u001b[0;34m]\u001b[0m\u001b[0;34m,\u001b[0m \u001b[0mcoplayer\u001b[0m\u001b[0;34m[\u001b[0m\u001b[0;36m9\u001b[0m\u001b[0;34m]\u001b[0m\u001b[0;34m,\u001b[0m  \u001b[0mcoplayer\u001b[0m\u001b[0;34m[\u001b[0m\u001b[0;36m11\u001b[0m\u001b[0;34m]\u001b[0m\u001b[0;34m,\u001b[0m\u001b[0;34m\u001b[0m\u001b[0;34m\u001b[0m\u001b[0m\n\u001b[0;32m----> 4\u001b[0;31m              coplayer[12], coplayer[14], coplayer[13], coplayer[15]] / ss\n\u001b[0m",
      "\u001b[0;31mTypeError\u001b[0m: can't multiply sequence by non-int of type 'list'"
     ]
    }
   ],
   "source": [
    "num = ss * [coplayer[0],  coplayer[2],  coplayer[1],  coplayer[3],\n",
    "             coplayer[4],  coplayer[6],  coplayer[5],  coplayer[7],\n",
    "             coplayer[8],  coplayer[10], coplayer[9],  coplayer[11],\n",
    "             coplayer[12], coplayer[14], coplayer[13], coplayer[15]] / ss"
   ]
  },
  {
   "cell_type": "code",
   "execution_count": 478,
   "metadata": {},
   "outputs": [],
   "source": [
    "num = np.nan_to_num(num)"
   ]
  },
  {
   "cell_type": "code",
   "execution_count": 433,
   "metadata": {},
   "outputs": [
    {
     "data": {
      "text/plain": [
       "array([0.86385561, 0.51737911, 0.        , 0.        , 0.71685968,\n",
       "       0.56542131, 0.        , 0.        , 0.        , 0.        ,\n",
       "       0.        , 0.        , 0.        , 0.        , 0.        ,\n",
       "       0.        ])"
      ]
     },
     "execution_count": 433,
     "metadata": {},
     "output_type": "execute_result"
    }
   ],
   "source": [
    "num"
   ]
  },
  {
   "cell_type": "code",
   "execution_count": 434,
   "metadata": {},
   "outputs": [
    {
     "data": {
      "text/plain": [
       "0.46683779678902637"
      ]
     },
     "execution_count": 434,
     "metadata": {},
     "output_type": "execute_result"
    }
   ],
   "source": [
    "(ss[0] + ss[4] + ss[8] + ss[12])"
   ]
  },
  {
   "cell_type": "code",
   "execution_count": 437,
   "metadata": {},
   "outputs": [
    {
     "data": {
      "text/plain": [
       "0.6227220750665419"
      ]
     },
     "execution_count": 437,
     "metadata": {},
     "output_type": "execute_result"
    }
   ],
   "source": [
    "(coplayer[0] + coplayer[4] + coplayer[8] + coplayer[12]) / 4"
   ]
  },
  {
   "cell_type": "code",
   "execution_count": 444,
   "metadata": {},
   "outputs": [
    {
     "data": {
      "text/plain": [
       "0.7903576435579125"
      ]
     },
     "execution_count": 444,
     "metadata": {},
     "output_type": "execute_result"
    }
   ],
   "source": [
    "(coplayer[0] + coplayer[4]) / 2"
   ]
  },
  {
   "cell_type": "code",
   "execution_count": 314,
   "metadata": {},
   "outputs": [
    {
     "data": {
      "text/plain": [
       "0.24584937361787787"
      ]
     },
     "execution_count": 314,
     "metadata": {},
     "output_type": "execute_result"
    }
   ],
   "source": [
    "ss[4]"
   ]
  },
  {
   "cell_type": "code",
   "execution_count": 319,
   "metadata": {},
   "outputs": [
    {
     "data": {
      "text/plain": [
       "0.4083663289503512"
      ]
     },
     "execution_count": 319,
     "metadata": {},
     "output_type": "execute_result"
    }
   ],
   "source": [
    "(ss[0] + ss[4]) "
   ]
  },
  {
   "cell_type": "code",
   "execution_count": 333,
   "metadata": {},
   "outputs": [],
   "source": [
    "rep = [np.average([num[0], num[4]], weights=[ss[0], ss[4]]),\n",
    "0,\n",
    "np.average([num[1], num[5]], weights=[ss[1], ss[5]]),\n",
    "0]"
   ]
  },
  {
   "cell_type": "code",
   "execution_count": 331,
   "metadata": {},
   "outputs": [
    {
     "data": {
      "text/plain": [
       "0.5593879171249415"
      ]
     },
     "execution_count": 331,
     "metadata": {},
     "output_type": "execute_result"
    }
   ],
   "source": [
    "np.average([num[1], num[5]], weights=[ss[1], ss[5]])"
   ]
  },
  {
   "cell_type": "code",
   "execution_count": 327,
   "metadata": {},
   "outputs": [],
   "source": [
    "np.mean?"
   ]
  },
  {
   "cell_type": "code",
   "execution_count": 317,
   "metadata": {},
   "outputs": [
    {
     "data": {
      "text/plain": [
       "0.4492310263824385"
      ]
     },
     "execution_count": 317,
     "metadata": {},
     "output_type": "execute_result"
    }
   ],
   "source": [
    "(num[0] * ss[0] + num[4] * ss[4]) / 0.5"
   ]
  },
  {
   "cell_type": "code",
   "execution_count": 267,
   "metadata": {},
   "outputs": [
    {
     "data": {
      "text/plain": [
       "0.5284227646864925"
      ]
     },
     "execution_count": 267,
     "metadata": {},
     "output_type": "execute_result"
    }
   ],
   "source": [
    "0.7926341470297388 / 1.5"
   ]
  },
  {
   "cell_type": "code",
   "execution_count": null,
   "metadata": {},
   "outputs": [],
   "source": []
  },
  {
   "cell_type": "code",
   "execution_count": 277,
   "metadata": {},
   "outputs": [],
   "source": [
    "rep = [sum([num[i] for i in range(16) if states_in_two_bits[i] == state]) / 2\n",
    "                for state in states]"
   ]
  },
  {
   "cell_type": "code",
   "execution_count": 334,
   "metadata": {},
   "outputs": [],
   "source": [
    "ss_estimated = calculate_ss_for_mem_one(player, rep)"
   ]
  },
  {
   "cell_type": "code",
   "execution_count": 335,
   "metadata": {},
   "outputs": [
    {
     "data": {
      "text/plain": [
       "[array([0.55420414, 0.44579586, 0.        , 0.        ])]"
      ]
     },
     "execution_count": 335,
     "metadata": {},
     "output_type": "execute_result"
    }
   ],
   "source": [
    "ss_estimated"
   ]
  },
  {
   "cell_type": "code",
   "execution_count": 285,
   "metadata": {},
   "outputs": [],
   "source": [
    "rep = [rep[0], rep[2], rep[1], rep[-1]]"
   ]
  },
  {
   "cell_type": "code",
   "execution_count": 336,
   "metadata": {},
   "outputs": [
    {
     "data": {
      "text/plain": [
       "[array([ 0.40802224,  0.59197776, -0.        , -0.        ])]"
      ]
     },
     "execution_count": 336,
     "metadata": {},
     "output_type": "execute_result"
    }
   ],
   "source": [
    "calculate_ss_for_mem_one(player,mem_one_representation)"
   ]
  },
  {
   "cell_type": "code",
   "execution_count": 283,
   "metadata": {},
   "outputs": [
    {
     "data": {
      "text/plain": [
       "[0.5140786351099994, 0, 0.42704419059071097, 0]"
      ]
     },
     "execution_count": 283,
     "metadata": {},
     "output_type": "execute_result"
    }
   ],
   "source": [
    "mem_one_representation"
   ]
  },
  {
   "cell_type": "code",
   "execution_count": 227,
   "metadata": {},
   "outputs": [],
   "source": [
    "num = ss * [coplayer[0],  coplayer[2],  coplayer[1],  coplayer[3],\n",
    "             coplayer[4],  coplayer[6],  coplayer[5],  coplayer[7],\n",
    "             coplayer[8],  coplayer[10], coplayer[9],  coplayer[11],\n",
    "             coplayer[12], coplayer[14], coplayer[13], coplayer[15]]"
   ]
  },
  {
   "cell_type": "code",
   "execution_count": null,
   "metadata": {},
   "outputs": [],
   "source": []
  },
  {
   "cell_type": "code",
   "execution_count": 225,
   "metadata": {},
   "outputs": [
    {
     "data": {
      "text/plain": [
       "[0.46683779678902637, 0.5331622032109736, 0.0, 0.0]"
      ]
     },
     "execution_count": 225,
     "metadata": {},
     "output_type": "execute_result"
    }
   ],
   "source": [
    "[sum([ss[i] for i in range(16) if states_in_two_bits[i] == state]) for state in states]"
   ]
  },
  {
   "cell_type": "code",
   "execution_count": null,
   "metadata": {},
   "outputs": [],
   "source": [
    "\n",
    "\n",
    "    ss = calculate_ss_for_mem_two(player, coplayer)\n",
    "    \n",
    "    ss = ss[index]\n",
    "    \n",
    "    num = ss * [coplayer[0],  coplayer[2],  coplayer[1],  coplayer[3],\n",
    "                 coplayer[4],  coplayer[6],  coplayer[5],  coplayer[7],\n",
    "                 coplayer[8],  coplayer[10], coplayer[9],  coplayer[11],\n",
    "                 coplayer[12], coplayer[14], coplayer[13], coplayer[15]]\n",
    "    \n",
    "    strategy = [(sum([num[i] for i in range(16) if states_in_two_bits[i] == state]) \n",
    "                 / sum([ss[i] for i in range(16) if states_in_two_bits[i] == state]))\n",
    "                for state in states]\n",
    "\n",
    "    return [np.nan_to_num(strategy[i]) for i in [0, 2, 1, -1]]  "
   ]
  },
  {
   "cell_type": "code",
   "execution_count": null,
   "metadata": {},
   "outputs": [],
   "source": []
  },
  {
   "cell_type": "code",
   "execution_count": 141,
   "metadata": {},
   "outputs": [],
   "source": [
    "ss = calculate_ss_for_mem_two(player * 4, coplayer)"
   ]
  },
  {
   "cell_type": "code",
   "execution_count": 200,
   "metadata": {},
   "outputs": [
    {
     "data": {
      "text/plain": [
       "array([ True,  True,  True,  True])"
      ]
     },
     "execution_count": 200,
     "metadata": {},
     "output_type": "execute_result"
    }
   ],
   "source": [
    "np.isclose(ss1, ss2, atol=10**-1)"
   ]
  },
  {
   "cell_type": "code",
   "execution_count": 144,
   "metadata": {},
   "outputs": [
    {
     "data": {
      "text/plain": [
       "array([ 0.46055114,  0.21562985, -0.        , -0.        ,  0.21562985,\n",
       "        0.10818917, -0.        , -0.        , -0.        , -0.        ,\n",
       "       -0.        , -0.        , -0.        , -0.        , -0.        ,\n",
       "       -0.        ])"
      ]
     },
     "execution_count": 144,
     "metadata": {},
     "output_type": "execute_result"
    }
   ],
   "source": [
    "ss"
   ]
  },
  {
   "cell_type": "code",
   "execution_count": 134,
   "metadata": {},
   "outputs": [
    {
     "data": {
      "text/plain": [
       "[0.67624029, 0.32375971, 0.0, 0.0]"
      ]
     },
     "execution_count": 134,
     "metadata": {},
     "output_type": "execute_result"
    }
   ],
   "source": [
    "[0.67624029, 0.32375971, 0.        , 0.        ]"
   ]
  },
  {
   "cell_type": "markdown",
   "metadata": {},
   "source": [
    "### Reactive case"
   ]
  },
  {
   "cell_type": "code",
   "execution_count": 28,
   "metadata": {},
   "outputs": [],
   "source": [
    "set_of_reactive_s = [(0, 0, 0, 0), (1, 0, 1, 0), (0, 1, 0, 1), (1, 1, 1, 1)]"
   ]
  },
  {
   "cell_type": "code",
   "execution_count": 29,
   "metadata": {},
   "outputs": [],
   "source": [
    "def simulate_play_reactive(p, q, turns=10 * 5, noise=0):\n",
    "    \n",
    "    states_to_actions = {(C, C): 0, \n",
    "                     (C, D): 0, \n",
    "                     (D, C): 0, \n",
    "                     (D, D):0}\n",
    "\n",
    "    states_counts = {(C, C): 0, \n",
    "                     (C, D): 0, \n",
    "                     (D, C): 0, \n",
    "                     (D, D):0}\n",
    "\n",
    "    player = axl.MemoryTwoPlayer([p[0], p[1], p[4], p[5],\n",
    "                                  p[2], p[3], p[6], p[7],\n",
    "                                  p[8], p[9], p[12], p[13], \n",
    "                                  p[10], p[11], p[14], p[15]])\n",
    "\n",
    "    coplayer = axl.MemoryTwoPlayer([q[0], q[1], q[4], q[5],\n",
    "                                    q[2], q[3], q[6], q[7],\n",
    "                                    q[8], q[9], q[12], q[13], \n",
    "                                    q[10], q[11], q[14], q[15]])\n",
    "    \n",
    "    \n",
    "    match = axl.Match(players=[player, coplayer], turns=turns, noise=noise)\n",
    "    \n",
    "    _ = match.play()\n",
    "  \n",
    "    for i, history in enumerate(match.result[2:-1]):\n",
    "\n",
    "        states_counts[history[::-1]] += 1\n",
    "        action = match.result[i + 2 +1][-1]\n",
    "\n",
    "        if action == C:\n",
    "            states_to_actions[history[::-1]] += 1\n",
    "        \n",
    "        \n",
    "    strategy = []\n",
    "    states = [(C, C), (C, D), (D, C), (D, D)]\n",
    "    \n",
    "    denominator_p1 = (states_counts[(C, C)] + states_counts[(D, C)])\n",
    "    denominator_p2 = (states_counts[(C, D)] + states_counts[(D, D)])\n",
    "\n",
    "    if denominator_p1 > 0:\n",
    "        p_1 = ((states_to_actions[(C, C)] +  states_to_actions[(D, C)]) \n",
    "               / denominator_p1)\n",
    "    else:\n",
    "        p_1 = 0\n",
    "        \n",
    "    if denominator_p2 > 0:\n",
    "        p_2 = ((states_to_actions[(C, D)] +  states_to_actions[(D, D)]) \n",
    "               / denominator_p2)\n",
    "    else:\n",
    "        p_2 = 0\n",
    "    \n",
    "    strategy = [p_1, p_2, p_1, p_2]\n",
    "    \n",
    "    return strategy, states_counts, states_to_actions"
   ]
  },
  {
   "cell_type": "code",
   "execution_count": 149,
   "metadata": {},
   "outputs": [],
   "source": [
    "player = (1, 0, 1, 0)\n",
    "\n",
    "coplayer = (1, 0, 1, 1)"
   ]
  },
  {
   "cell_type": "code",
   "execution_count": 150,
   "metadata": {},
   "outputs": [
    {
     "data": {
      "text/plain": [
       "[1.0, 0, 1.0, 0]"
      ]
     },
     "execution_count": 150,
     "metadata": {},
     "output_type": "execute_result"
    }
   ],
   "source": [
    "mem_one_sim_representation, a, b = simulate_play_reactive(player * 4, coplayer * 4, turns=1000, noise=0.0)\n",
    "\n",
    "mem_one_sim_representation"
   ]
  },
  {
   "cell_type": "code",
   "execution_count": 30,
   "metadata": {},
   "outputs": [],
   "source": [
    "b, c, player = 2, 1, [1, 1, 1, 1]\n",
    "\n",
    "for i, coplayer in enumerate(set_of_memory_one_s):\n",
    "\n",
    "    mem_one_representation, _, _ = simulate_play_reactive(player * 4, coplayer * 4, turns=1000)\n",
    "\n",
    "    ss_estimated = calculate_ss_for_mem_one(player, coplayer)\n",
    "\n",
    "    ss = calculate_ss_for_mem_one(player, mem_one_representation)\n",
    "    \n",
    "    check = False\n",
    "    \n",
    "    for ss1 in ss_estimated:\n",
    "        for ss2 in ss:\n",
    "            if (np.isclose(ss1, ss2, atol=10**-3).all()):\n",
    "                check = True\n",
    "\n",
    "    assert check, f\"{ss} and {ss_estimated}. player: {player} coplayer:{coplayer}\""
   ]
  },
  {
   "cell_type": "code",
   "execution_count": 31,
   "metadata": {},
   "outputs": [
    {
     "data": {
      "application/vnd.jupyter.widget-view+json": {
       "model_id": "b642ba8167784f92b200d5fcc3b00669",
       "version_major": 2,
       "version_minor": 0
      },
      "text/plain": [
       "HBox(children=(FloatProgress(value=0.0, max=4.0), HTML(value='')))"
      ]
     },
     "metadata": {},
     "output_type": "display_data"
    },
    {
     "name": "stdout",
     "output_type": "stream",
     "text": [
      "player: (1, 0, 1, 0) coplayer:(0, 0, 0, 1)\n",
      "player: (1, 0, 1, 0) coplayer:(0, 1, 1, 0)\n",
      "player: (1, 0, 1, 0) coplayer:(0, 1, 1, 1)\n",
      "player: (0, 1, 0, 1) coplayer:(0, 0, 1, 0)\n",
      "player: (0, 1, 0, 1) coplayer:(0, 1, 1, 0)\n",
      "player: (0, 1, 0, 1) coplayer:(1, 0, 0, 1)\n",
      "player: (0, 1, 0, 1) coplayer:(1, 0, 1, 1)\n",
      "\n"
     ]
    }
   ],
   "source": [
    "b, c = 2, 1\n",
    "\n",
    "for player in tqdm.notebook.tqdm(set_of_reactive_s):\n",
    "\n",
    "    for i, coplayer in enumerate(set_of_memory_one_s):\n",
    "\n",
    "        mem_one_representation, a, b = simulate_play_reactive(player * 4, coplayer * 4, turns=1000, noise=0.0)\n",
    "\n",
    "        ss_estimated = calculate_ss_for_mem_one(player, coplayer)\n",
    "\n",
    "        ss = calculate_ss_for_mem_one(player, mem_one_representation)\n",
    "\n",
    "        check = False\n",
    "\n",
    "        for ss1 in ss_estimated:\n",
    "            for ss2 in ss:\n",
    "                if (np.isclose(ss1, ss2, atol=10**-3).all()):\n",
    "                    check = True\n",
    "                    \n",
    "        # there are going to be some failures and I am just printing them. \n",
    "        if check == False:\n",
    "            print(f\"player: {player} coplayer:{coplayer}\")"
   ]
  },
  {
   "cell_type": "code",
   "execution_count": 718,
   "metadata": {},
   "outputs": [
    {
     "data": {
      "application/vnd.jupyter.widget-view+json": {
       "model_id": "b9e23690a4d34bc38c9832f2272d569b",
       "version_major": 2,
       "version_minor": 0
      },
      "text/plain": [
       "HBox(children=(FloatProgress(value=0.0, max=16.0), HTML(value='')))"
      ]
     },
     "metadata": {},
     "output_type": "display_data"
    },
    {
     "name": "stdout",
     "output_type": "stream",
     "text": [
      "player: (0, 0, 0, 1) coplayer:(0, 1, 1, 0)\n",
      "player: (0, 0, 0, 1) coplayer:(1, 0, 0, 1)\n",
      "player: (0, 0, 0, 1) coplayer:(1, 0, 1, 1)\n",
      "player: (0, 0, 1, 0) coplayer:(0, 0, 0, 1)\n",
      "player: (0, 0, 1, 0) coplayer:(0, 0, 1, 1)\n",
      "player: (0, 0, 1, 0) coplayer:(1, 0, 0, 1)\n",
      "player: (0, 1, 0, 1) coplayer:(0, 0, 1, 0)\n",
      "player: (0, 1, 0, 1) coplayer:(0, 1, 1, 0)\n",
      "player: (0, 1, 0, 1) coplayer:(1, 0, 0, 1)\n",
      "player: (0, 1, 0, 1) coplayer:(1, 0, 1, 1)\n",
      "player: (0, 1, 1, 0) coplayer:(0, 1, 1, 1)\n",
      "player: (0, 1, 1, 0) coplayer:(1, 0, 1, 1)\n",
      "player: (0, 1, 1, 1) coplayer:(0, 0, 1, 0)\n",
      "player: (0, 1, 1, 1) coplayer:(0, 1, 1, 0)\n",
      "player: (1, 0, 0, 1) coplayer:(0, 0, 0, 1)\n",
      "player: (1, 0, 0, 1) coplayer:(0, 0, 1, 0)\n",
      "player: (1, 0, 1, 0) coplayer:(0, 0, 0, 1)\n",
      "player: (1, 0, 1, 0) coplayer:(0, 1, 1, 0)\n",
      "player: (1, 0, 1, 0) coplayer:(0, 1, 1, 1)\n",
      "player: (1, 0, 1, 1) coplayer:(0, 1, 1, 0)\n",
      "player: (1, 0, 1, 1) coplayer:(0, 1, 1, 1)\n",
      "\n"
     ]
    }
   ],
   "source": [
    "b, c = 2, 1\n",
    "\n",
    "for player in tqdm.notebook.tqdm(set_of_memory_one_s):\n",
    "\n",
    "    for i, coplayer in enumerate(set_of_memory_one_s):\n",
    "\n",
    "        mem_one_representation, a, b = simulate_play_reactive(player * 4, coplayer * 4, turns=1000, noise=0.0)\n",
    "\n",
    "        ss_estimated = calculate_ss_for_mem_one(player, coplayer)\n",
    "\n",
    "        ss = calculate_ss_for_mem_one(player, mem_one_representation)\n",
    "\n",
    "        check = False\n",
    "\n",
    "        for ss1 in ss_estimated:\n",
    "            for ss2 in ss:\n",
    "                if (np.isclose(ss1, ss2, atol=10**-3).all()):\n",
    "                    check = True\n",
    "                    \n",
    "        # there are going to be some failures and I am just printing them. \n",
    "        if check == False:\n",
    "            print(f\"player: {player} coplayer:{coplayer}\")"
   ]
  },
  {
   "cell_type": "code",
   "execution_count": 675,
   "metadata": {},
   "outputs": [],
   "source": [
    "player = (1, 0, 1, 0)\n",
    "\n",
    "coplayer = (0, 0, 0, 1)"
   ]
  },
  {
   "cell_type": "code",
   "execution_count": 676,
   "metadata": {},
   "outputs": [
    {
     "data": {
      "text/plain": [
       "[0.0, 0.5, 0.0, 0.5]"
      ]
     },
     "execution_count": 676,
     "metadata": {},
     "output_type": "execute_result"
    }
   ],
   "source": [
    "mem_one_sim_representation, a, b = simulate_play_reactive(player * 4, coplayer * 4, turns=1000, noise=0.0)\n",
    "\n",
    "mem_one_sim_representation"
   ]
  },
  {
   "cell_type": "code",
   "execution_count": 677,
   "metadata": {},
   "outputs": [
    {
     "data": {
      "text/plain": [
       "0.33333333333333365"
      ]
     },
     "execution_count": 677,
     "metadata": {},
     "output_type": "execute_result"
    }
   ],
   "source": [
    "calculate_ss_for_mem_one(player, coplayer)[0] @ np.array([2 - 1, -1, 2, 0])"
   ]
  },
  {
   "cell_type": "code",
   "execution_count": 678,
   "metadata": {},
   "outputs": [
    {
     "data": {
      "text/plain": [
       "0.3333333333333337"
      ]
     },
     "execution_count": 678,
     "metadata": {},
     "output_type": "execute_result"
    }
   ],
   "source": [
    "calculate_ss_for_mem_one(player, [0, .5, 0, .5])[0] @ np.array([2 - 1, -1, 2, 0])"
   ]
  },
  {
   "cell_type": "code",
   "execution_count": 624,
   "metadata": {},
   "outputs": [],
   "source": [
    "_, states_counts, states_to_actions = simulate_play_reactive(player * 4, coplayer * 4, turns=1000, noise=0.0)"
   ]
  },
  {
   "cell_type": "code",
   "execution_count": 625,
   "metadata": {},
   "outputs": [
    {
     "data": {
      "text/plain": [
       "({(C, C): 0, (C, D): 332, (D, C): 333, (D, D): 332},\n",
       " {(C, C): 0, (C, D): 0, (D, C): 0, (D, D): 332})"
      ]
     },
     "execution_count": 625,
     "metadata": {},
     "output_type": "execute_result"
    }
   ],
   "source": [
    "states_counts, states_to_actions"
   ]
  },
  {
   "cell_type": "code",
   "execution_count": 626,
   "metadata": {},
   "outputs": [],
   "source": [
    "_, states_counts2, states_to_actions2 = simulate_play_reactive(player * 4,\n",
    "                                                               mem_one_sim_representation * 4,\n",
    "                                                               turns=1000, noise=0.0)"
   ]
  },
  {
   "cell_type": "code",
   "execution_count": 627,
   "metadata": {},
   "outputs": [
    {
     "data": {
      "text/plain": [
       "({(C, C): 112, (C, D): 220, (D, C): 221, (D, D): 444},\n",
       " {(C, C): 0, (C, D): 112, (D, C): 0, (D, D): 220})"
      ]
     },
     "execution_count": 627,
     "metadata": {},
     "output_type": "execute_result"
    }
   ],
   "source": [
    "states_counts2, states_to_actions2"
   ]
  },
  {
   "cell_type": "code",
   "execution_count": 681,
   "metadata": {},
   "outputs": [],
   "source": [
    "player = (1, 0, 1, 0)\n",
    "\n",
    "coplayer = (1, 1, 0, 0)"
   ]
  },
  {
   "cell_type": "code",
   "execution_count": 682,
   "metadata": {},
   "outputs": [
    {
     "data": {
      "text/plain": [
       "[1.0, 0, 1.0, 0]"
      ]
     },
     "execution_count": 682,
     "metadata": {},
     "output_type": "execute_result"
    }
   ],
   "source": [
    "mem_one_sim_representation, a, b = simulate_play_reactive(player * 4, coplayer * 4, turns=1000, noise=0.0)\n",
    "\n",
    "mem_one_sim_representation"
   ]
  },
  {
   "cell_type": "code",
   "execution_count": 717,
   "metadata": {},
   "outputs": [
    {
     "data": {
      "application/vnd.jupyter.widget-view+json": {
       "model_id": "6b0f10100df949da92b95930ec0b59e0",
       "version_major": 2,
       "version_minor": 0
      },
      "text/plain": [
       "HBox(children=(FloatProgress(value=0.0, max=4.0), HTML(value='')))"
      ]
     },
     "metadata": {},
     "output_type": "display_data"
    },
    {
     "name": "stdout",
     "output_type": "stream",
     "text": [
      "\n"
     ]
    }
   ],
   "source": [
    "b, c = 2, 1\n",
    "\n",
    "for player in tqdm.notebook.tqdm(set_of_reactive_s):\n",
    "\n",
    "    for i, coplayer in enumerate([[1, 1, 0, 0]]):\n",
    "\n",
    "        mem_one_representation, a, b = simulate_play_reactive(player * 4, coplayer * 4, turns=1000, noise=0.0)\n",
    "\n",
    "        ss_estimated = calculate_ss_for_mem_one(player, coplayer)\n",
    "\n",
    "        ss = calculate_ss_for_mem_one(player, mem_one_representation)\n",
    "        \n",
    "\n",
    "        check = False\n",
    "\n",
    "        for ss1 in ss_estimated:\n",
    "            for ss2 in ss:\n",
    "                if (np.isclose(ss1, ss2, atol=10**-3).all()):\n",
    "                    check = True\n",
    "                    \n",
    "        # there are going to be some failures and I am just printing them. \n",
    "        if check == False:\n",
    "            print(f\"player: {player} coplayer:{coplayer}\")"
   ]
  },
  {
   "cell_type": "code",
   "execution_count": 32,
   "metadata": {},
   "outputs": [
    {
     "name": "stderr",
     "output_type": "stream",
     "text": [
      "/Users/glynatsi/opt/anaconda3/envs/axelrod/lib/python3.7/site-packages/ipykernel_launcher.py:3: TqdmDeprecationWarning: This function will be removed in tqdm==5.0.0\n",
      "Please use `tqdm.notebook.tqdm` instead of `tqdm.tqdm_notebook`\n",
      "  This is separate from the ipykernel package so we can avoid doing imports until\n"
     ]
    },
    {
     "data": {
      "application/vnd.jupyter.widget-view+json": {
       "model_id": "c87b48b7a4ea445baf677a82278b5ac8",
       "version_major": 2,
       "version_minor": 0
      },
      "text/plain": [
       "HBox(children=(FloatProgress(value=0.0, max=4.0), HTML(value='')))"
      ]
     },
     "metadata": {},
     "output_type": "display_data"
    },
    {
     "name": "stdout",
     "output_type": "stream",
     "text": [
      "ss: [array([0.28249833, 0.21413846, 0.30671966, 0.19664356])] ss estimated:[array([0.24382379, 0.25278602, 0.2253425 , 0.2780477 ])]\n",
      "ss: [array([0.28041569, 0.20666903, 0.25456095, 0.25835433])] ss estimated:[array([0.20418999, 0.30505052, 0.2052697 , 0.2854898 ])]\n",
      "ss: [array([0.37447293, 0.1028332 , 0.40322664, 0.11946723])] ss estimated:[array([0.32715309, 0.15981096, 0.35213686, 0.16089909])]\n",
      "ss: [array([0.14298384, 0.38797706, 0.18535141, 0.28368768])] ss estimated:[array([0.24118128, 0.25605536, 0.22292718, 0.27983618])]\n",
      "ss: [array([0.21587723, 0.3199096 , 0.14375366, 0.3204595 ])] ss estimated:[array([0.17785658, 0.37572217, 0.12623522, 0.32018603])]\n",
      "ss: [array([0.30039121, 0.21648931, 0.14888638, 0.3342331 ])] ss estimated:[array([0.25314236, 0.19923049, 0.2689789 , 0.27864826])]\n",
      "ss: [array([0.24921178, 0.10233588, 0.43531183, 0.2131405 ])] ss estimated:[array([0.26996709, 0.16336837, 0.29501578, 0.27164875])]\n",
      "ss: [array([0.11775896, 0.46025246, 0.10458849, 0.3174001 ])] ss estimated:[array([0.17709456, 0.29893218, 0.25348286, 0.27049039])]\n",
      "ss: [array([0.18947526, 0.16938712, 0.30814745, 0.33299016])] ss estimated:[array([0.20161531, 0.15604925, 0.36112727, 0.28120817])]\n",
      "ss: [array([0.23731381, 0.1230258 , 0.33739325, 0.30226715])] ss estimated:[array([0.21046151, 0.14922559, 0.31585951, 0.3244534 ])]\n",
      "ss: [array([0.22284893, 0.13509491, 0.38501198, 0.25704418])] ss estimated:[array([0.19106895, 0.16572557, 0.37044939, 0.27275609])]\n",
      "ss: [array([0.08645717, 0.27016512, 0.21790801, 0.4254697 ])] ss estimated:[array([0.14198502, 0.21504924, 0.28959128, 0.35337447])]\n",
      "ss: [array([0.21245514, 0.16678475, 0.38960548, 0.23115463])] ss estimated:[array([0.22827005, 0.15101879, 0.39053807, 0.23017309])]\n",
      "ss: [array([0.37658527, 0.06329218, 0.46659713, 0.09352542])] ss estimated:[array([0.18884655, 0.13800653, 0.32964977, 0.34349715])]\n",
      "ss: [array([0.06651433, 0.27625869, 0.34068171, 0.31654527])] ss estimated:[array([0.05597425, 0.22665672, 0.27276961, 0.44459942])]\n",
      "ss: [array([0.04429922, 0.21878834, 0.25024339, 0.48666905])] ss estimated:[array([0.10697512, 0.16201657, 0.26033162, 0.47067669])]\n",
      "\n"
     ]
    }
   ],
   "source": [
    "b, c = 2, 1\n",
    "\n",
    "for player in tqdm.tqdm_notebook([list(np.random.random(4)) for _ in range(4)]):\n",
    "\n",
    "    for i, coplayer in enumerate([list(np.random.random(16)) for _ in range(4)]):\n",
    "\n",
    "        mem_one_representation = mem_one_representation, _, _ = simulate_play(player * 4,\n",
    "                                                                              coplayer,\n",
    "                                                                              turns=50000)\n",
    "\n",
    "        ss_estimated = calculate_ss_for_mem_one(player, mem_one_representation)\n",
    "\n",
    "        ss = calculate_ss_for_mem_two(player * 4, coplayer)\n",
    "        \n",
    "        \n",
    "\n",
    "\n",
    "        check = False\n",
    "\n",
    "        for ss1 in ss_estimated:\n",
    "            for ss2 in ss:\n",
    "                if (np.isclose(ss1, ss2, atol=10**-3).all()):\n",
    "                    check = True\n",
    "\n",
    "        # there are going to be some failures and I am just printing them. \n",
    "        if check == False:\n",
    "            print(f\"ss: {ss} ss estimated:{ss_estimated}\")"
   ]
  },
  {
   "cell_type": "code",
   "execution_count": 711,
   "metadata": {},
   "outputs": [
    {
     "name": "stderr",
     "output_type": "stream",
     "text": [
      "/Users/glynatsi/opt/anaconda3/envs/axelrod/lib/python3.7/site-packages/ipykernel_launcher.py:3: TqdmDeprecationWarning: This function will be removed in tqdm==5.0.0\n",
      "Please use `tqdm.notebook.tqdm` instead of `tqdm.tqdm_notebook`\n",
      "  This is separate from the ipykernel package so we can avoid doing imports until\n"
     ]
    },
    {
     "data": {
      "application/vnd.jupyter.widget-view+json": {
       "model_id": "0959ae4c473d4808ae590211c3bdf814",
       "version_major": 2,
       "version_minor": 0
      },
      "text/plain": [
       "HBox(children=(FloatProgress(value=0.0, max=4.0), HTML(value='')))"
      ]
     },
     "metadata": {},
     "output_type": "display_data"
    },
    {
     "name": "stdout",
     "output_type": "stream",
     "text": [
      "[array([0.14984473, 0.22006878, 0.08235775, 0.54772874])] [array([0.09027957, 0.27148401, 0.13243796, 0.50579847])]\n",
      "ss: [array([0.09027957, 0.27148401, 0.13243796, 0.50579847])] ss estimated:[array([0.14984473, 0.22006878, 0.08235775, 0.54772874])]\n",
      "[array([0.24727822, 0.33418998, 0.29265229, 0.12587952])] [array([0.29468897, 0.28618813, 0.24235692, 0.17676598])]\n",
      "ss: [array([0.29468897, 0.28618813, 0.24235692, 0.17676598])] ss estimated:[array([0.24727822, 0.33418998, 0.29265229, 0.12587952])]\n",
      "[array([0.50595803, 0.13285844, 0.10752844, 0.25365509])] [array([0.45641576, 0.18243204, 0.15922067, 0.20193154])]\n",
      "ss: [array([0.45641576, 0.18243204, 0.15922067, 0.20193154])] ss estimated:[array([0.50595803, 0.13285844, 0.10752844, 0.25365509])]\n",
      "[array([0.43234028, 0.19872293, 0.17284275, 0.19609405])] [array([0.44426192, 0.18808138, 0.16230193, 0.20535476])]\n",
      "ss: [array([0.44426192, 0.18808138, 0.16230193, 0.20535476])] ss estimated:[array([0.43234028, 0.19872293, 0.17284275, 0.19609405])]\n",
      "[array([0.15279722, 0.27502911, 0.16849237, 0.4036813 ])] [array([0.15024988, 0.27800095, 0.16744594, 0.40430323])]\n",
      "[array([0.21354689, 0.14470194, 0.37630102, 0.26545015])] [array([0.23934951, 0.12587191, 0.3522312 , 0.28254738])]\n",
      "ss: [array([0.23934951, 0.12587191, 0.3522312 , 0.28254738])] ss estimated:[array([0.21354689, 0.14470194, 0.37630102, 0.26545015])]\n",
      "[array([0.14480732, 0.24195581, 0.29559743, 0.31763944])] [array([0.18220441, 0.21702263, 0.25345909, 0.34731386])]\n",
      "ss: [array([0.18220441, 0.21702263, 0.25345909, 0.34731386])] ss estimated:[array([0.14480732, 0.24195581, 0.29559743, 0.31763944])]\n",
      "[array([0.26289438, 0.11656579, 0.30604362, 0.31449622])] [array([0.22456663, 0.14385614, 0.34388933, 0.28768791])]\n",
      "ss: [array([0.22456663, 0.14385614, 0.34388933, 0.28768791])] ss estimated:[array([0.26289438, 0.11656579, 0.30604362, 0.31449622])]\n",
      "[array([0.27362856, 0.2441617 , 0.42358529, 0.05862445])] [array([0.35946718, 0.24703116, 0.29919123, 0.09431043])]\n",
      "ss: [array([0.35946718, 0.24703116, 0.29919123, 0.09431043])] ss estimated:[array([0.27362856, 0.2441617 , 0.42358529, 0.05862445])]\n",
      "[array([0.39207491, 0.34226313, 0.08306175, 0.18260022])] [array([0.31680401, 0.3568145 , 0.16152497, 0.16485652])]\n",
      "ss: [array([0.31680401, 0.3568145 , 0.16152497, 0.16485652])] ss estimated:[array([0.39207491, 0.34226313, 0.08306175, 0.18260022])]\n",
      "[array([0.11891166, 0.54021885, 0.10743816, 0.23343133])] [array([0.1632783 , 0.53444109, 0.05616856, 0.24611205])]\n",
      "ss: [array([0.1632783 , 0.53444109, 0.05616856, 0.24611205])] ss estimated:[array([0.11891166, 0.54021885, 0.10743816, 0.23343133])]\n",
      "[array([0.44115107, 0.28529245, 0.11708163, 0.15647485])] [array([0.38485445, 0.30625965, 0.15767688, 0.15120903])]\n",
      "ss: [array([0.38485445, 0.30625965, 0.15767688, 0.15120903])] ss estimated:[array([0.44115107, 0.28529245, 0.11708163, 0.15647485])]\n",
      "[array([0.44768305, 0.43265452, 0.05637527, 0.06328715])] [array([0.44427094, 0.43836509, 0.0624852 , 0.05487877])]\n",
      "[array([0.57009351, 0.31082253, 0.07709163, 0.04199232])] [array([0.57022456, 0.30958779, 0.07392317, 0.04626448])]\n",
      "[array([0.43934948, 0.44164865, 0.05698722, 0.06201464])] [array([0.43683885, 0.44517135, 0.05952072, 0.05846907])]\n",
      "[array([0.2507608 , 0.63184703, 0.03229682, 0.08509534])] [array([0.2513162 , 0.63180825, 0.03387583, 0.08299973])]\n",
      "\n"
     ]
    }
   ],
   "source": [
    "b, c = 2, 1\n",
    "\n",
    "for player in tqdm.tqdm_notebook([list(np.random.random(416)) for _ in range(4)]):\n",
    "\n",
    "    for i, coplayer in enumerate([list(np.random.random(4)) for _ in range(4)]):\n",
    "\n",
    "        mem_one_representation, a, b = simulate_play_reactive(player * 4, coplayer * 4, turns=20000, noise=0.0)\n",
    "\n",
    "        ss_estimated = calculate_ss_for_mem_one(player, coplayer)\n",
    "\n",
    "        ss = calculate_ss_for_mem_one(player, mem_one_representation)\n",
    "        \n",
    "        print(ss_estimated, ss)\n",
    "\n",
    "        check = False\n",
    "\n",
    "        for ss1 in ss_estimated:\n",
    "            for ss2 in ss:\n",
    "                if (np.isclose(ss1, ss2, atol=10**-2).all()):\n",
    "                    check = True\n",
    "                    \n",
    "        # there are going to be some failures and I am just printing them. \n",
    "        if check == False:\n",
    "                    print(f\"ss: {ss} ss estimated:{ss_estimated}\")"
   ]
  }
 ],
 "metadata": {
  "kernelspec": {
   "display_name": "axelrod",
   "language": "python",
   "name": "axelrod"
  },
  "language_info": {
   "codemirror_mode": {
    "name": "ipython",
    "version": 3
   },
   "file_extension": ".py",
   "mimetype": "text/x-python",
   "name": "python",
   "nbconvert_exporter": "python",
   "pygments_lexer": "ipython3",
   "version": "3.7.9"
  }
 },
 "nbformat": 4,
 "nbformat_minor": 4
}
