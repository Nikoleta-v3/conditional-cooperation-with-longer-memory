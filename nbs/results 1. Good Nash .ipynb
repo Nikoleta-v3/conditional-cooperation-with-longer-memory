{
 "cells": [
  {
   "cell_type": "code",
   "execution_count": 2,
   "metadata": {},
   "outputs": [],
   "source": [
    "from importlib.machinery import SourceFileLoader\n",
    "\n",
    "main = SourceFileLoader(\"main\", \"../src/main.py\").load_module()\n",
    "\n",
    "from main import *"
   ]
  },
  {
   "cell_type": "code",
   "execution_count": 3,
   "metadata": {},
   "outputs": [],
   "source": [
    "import numpy as np\n",
    "\n",
    "import pandas as pd"
   ]
  },
  {
   "cell_type": "code",
   "execution_count": 4,
   "metadata": {},
   "outputs": [],
   "source": [
    "import matplotlib.pyplot as plt\n",
    "\n",
    "import matplotlib\n",
    "\n",
    "from mpl_toolkits.axes_grid1 import make_axes_locatable\n",
    "\n",
    "import matplotlib.colors as colors\n",
    "\n",
    "plt.rcParams[\"font.weight\"] = \"bold\"\n",
    "plt.rcParams[\"axes.labelweight\"] = \"bold\""
   ]
  },
  {
   "cell_type": "markdown",
   "metadata": {},
   "source": [
    "Initially we check that the transition matrix \\(M^2\\) is correct. We compare the payoff and cooperation for the\n",
    "case,"
   ]
  },
  {
   "cell_type": "markdown",
   "metadata": {},
   "source": [
    "**Payoffs**"
   ]
  },
  {
   "cell_type": "code",
   "execution_count": 5,
   "metadata": {},
   "outputs": [],
   "source": [
    "c = np.random.randint(0, 1)\n",
    "b = np.random.randint(1, 3)\n",
    "\n",
    "for _ in range(1000):\n",
    "\n",
    "    p1, p2, q1, q2 = np.random.random(4)\n",
    "\n",
    "    one_bit_M = transition_matrix_one_bit(p=[p1, p2], q=[q1, q2])\n",
    "\n",
    "    two_bit_M = transition_matrix(p=[p1, p2, p1, p2], q=[q1, q2, q1, q2], bits=4)\n",
    "\n",
    "    ss_one_bit = invariant_distribution(one_bit_M)\n",
    "    ss_two_bit = invariant_distribution(two_bit_M)\n",
    "\n",
    "    assert np.isclose(\n",
    "        ss_one_bit @ np.array([b - c, -c, b, 0]), ss_two_bit @ payoffs_vector(c, b)\n",
    "    )"
   ]
  },
  {
   "cell_type": "markdown",
   "metadata": {},
   "source": [
    "**Cooperation**"
   ]
  },
  {
   "cell_type": "code",
   "execution_count": 7,
   "metadata": {},
   "outputs": [],
   "source": [
    "c = np.random.randint(0, 1)\n",
    "b = np.random.randint(1, 3)\n",
    "\n",
    "for _ in range(1000):\n",
    "\n",
    "    p1, p2, q1, q2 = np.random.random(4)\n",
    "\n",
    "    one_bit_M = transition_matrix_one_bit(p=[p1, p2], q=[q1, q2])\n",
    "\n",
    "    two_bit_M = transition_matrix(p=[p1, p2, p1, p2], q=[q1, q2, q1, q2], bits=4)\n",
    "\n",
    "    ss_one_bit = invariant_distribution(one_bit_M)\n",
    "    ss_two_bit = invariant_distribution(two_bit_M)\n",
    "\n",
    "    assert np.isclose(\n",
    "        cooperation_rate(ss_one_bit, size=4), cooperation_rate(ss_two_bit, size=16)\n",
    "    )"
   ]
  },
  {
   "cell_type": "markdown",
   "metadata": {},
   "source": [
    "Secondly we check equations ... to ...., namely that:\n",
    "    \n",
    "$$\\sum_{i, j \\in \\{C, D\\}} u_{ij | CD} = \\sum_{i, j \\in \\{C, D\\}} u_{CD | ij}$$"
   ]
  },
  {
   "cell_type": "code",
   "execution_count": 8,
   "metadata": {},
   "outputs": [],
   "source": [
    "c = np.random.randint(0, 1)\n",
    "b = np.random.randint(1, 3)\n",
    "\n",
    "np.random.seed(1)\n",
    "\n",
    "for _ in range(1000):\n",
    "\n",
    "    p1, p2, p3, p4 = np.random.random(4)\n",
    "    q1, q2, q3, q4 = np.random.random(4)\n",
    "\n",
    "    M = transition_matrix(p=[p1, p2, p3, p4], q=[q1, q2, q3, q4], bits=4)\n",
    "\n",
    "    ss = invariant_distribution(M)\n",
    "    \n",
    "    assert np.isclose(\n",
    "        sum([ss[i] for i in np.arange(0, 13, 4)]), sum([ss[i] for i in range(4)])\n",
    "    )\n",
    "    assert np.isclose(\n",
    "    sum([ss[i] for i in np.arange(1, 14, 4)]), sum([ss[i] for i in range(4, 8)])\n",
    ")\n",
    "    assert np.isclose(\n",
    "    sum([ss[i] for i in np.arange(2, 15, 4)]), sum([ss[i] for i in range(8, 12)])\n",
    ")\n",
    "    assert np.isclose(\n",
    "    sum([ss[i] for i in np.arange(3, 16, 4)]), sum([ss[i] for i in range(12, 16)])\n",
    ")"
   ]
  },
  {
   "cell_type": "markdown",
   "metadata": {},
   "source": [
    "**Special Case**\n",
    "\n",
    "The analysis was carried out in the mathematica notebook [here]()."
   ]
  },
  {
   "cell_type": "code",
   "execution_count": 121,
   "metadata": {},
   "outputs": [
    {
     "data": {
      "image/png": "[encoded data removed]",
      "text/plain": [
       "<Figure size 432x288 with 1 Axes>"
      ]
     },
     "metadata": {
      "needs_background": "light"
     },
     "output_type": "display_data"
    }
   ],
   "source": [
    "c, b = 2, 1\n",
    "\n",
    "fig, ax = plt.subplots()\n",
    "\n",
    "p2 = np.linspace(0, 1, 100)\n",
    "\n",
    "p4 = [1 - (b / c) for _ in p2]\n",
    "\n",
    "ax.plot(p2, p4, color='black');\n",
    "\n",
    "ax.plot(p2, p2, \"--\" ,color='black');\n",
    "\n",
    "\n",
    "ax.axvline(1 - (b / c),\n",
    "           linestyle=\"-.\"\n",
    "           , color=\"black\")\n",
    "\n",
    "ax.set_ylim(0, 1);\n",
    "ax.set_yticks([0, 1])\n",
    "ax.set_xticks([0, 1])\n",
    "ax.set_xlim(0, 1);\n",
    "\n",
    "ax.set_ylabel(\"$p_4$\");\n",
    "ax.set_xlabel(\"$p_2$\");\n",
    "\n",
    "ax.fill_between([0, 0.5], [0, 0.5], alpha=0.5, color='tab:green', label='Nash')\n",
    "\n",
    "\n",
    "ax.annotate(r\"$p_4 = 1 - \\frac{c}{b}$\", (0.80, 0.55));\n",
    "\n",
    "ax.annotate(r\"$p_2 \\leq 1 - \\frac{c}{b}$\", (0.33, 0.75));\n",
    "\n",
    "ax.annotate(r\"$p_4 = p_2$\", (0.75, 0.8), rotation=35);\n",
    "\n",
    "ax.legend();"
   ]
  },
  {
   "cell_type": "markdown",
   "metadata": {},
   "source": [
    "Evaluating Nash numerically."
   ]
  },
  {
   "cell_type": "code",
   "execution_count": 86,
   "metadata": {},
   "outputs": [],
   "source": [
    "columns = ([\"\", \"ID\"] + [f'p{i+1}' for i in range(16)] + [f'q{i+1}' for i in range(16)] + \n",
    "           ['label', 'Sp', 'Sq', \"condition A\", \"condition B\",'c', 'b'])"
   ]
  },
  {
   "cell_type": "code",
   "execution_count": 116,
   "metadata": {},
   "outputs": [],
   "source": [
    "df = pd.read_csv(\"../special_case_donation.csv\", index_col=0)"
   ]
  },
  {
   "cell_type": "code",
   "execution_count": 122,
   "metadata": {},
   "outputs": [],
   "source": [
    "def seperate_equilibria_and_non(df):\n",
    "    per_player = df.groupby('ID')['condition A'].all()\n",
    "\n",
    "    eq_players_ID = per_player[per_player == True].index\n",
    "\n",
    "    noneq_players_ID = per_player[per_player == False].index\n",
    "    \n",
    "    return df[df['ID'].isin(eq_players_ID)], df[df['ID'].isin(noneq_players_ID)]"
   ]
  },
  {
   "cell_type": "code",
   "execution_count": 123,
   "metadata": {},
   "outputs": [],
   "source": [
    "eq, noneq = seperate_equilibria_and_non(df)"
   ]
  },
  {
   "cell_type": "code",
   "execution_count": 573,
   "metadata": {},
   "outputs": [
    {
     "data": {
      "image/png": "[encoded data removed]",
      "text/plain": [
       "<Figure size 432x288 with 1 Axes>"
      ]
     },
     "metadata": {
      "needs_background": "light"
     },
     "output_type": "display_data"
    }
   ],
   "source": [
    "fig, ax = plt.subplots()\n",
    "\n",
    "i = 0\n",
    "for _, row in eq[['p2', 'p6',]].drop_duplicates().sample(n=1000, random_state=1).iterrows():\n",
    "    if i == 0:\n",
    "        ax.scatter(row['p2'], row['p6'], color='tab:blue', alpha=0.5, label='Nash')\n",
    "    else:\n",
    "        ax.scatter(row['p2'], row['p6'], color='tab:blue', alpha=0.5)\n",
    "    i += 1\n",
    "\n",
    "ax.set_ylim(0, 1);\n",
    "ax.set_yticks([0, 1])\n",
    "ax.set_xticks([0, 1])\n",
    "ax.set_xlim(0, 1.01);\n",
    "ax.set_xlabel('p2')\n",
    "ax.set_ylabel('p4')\n",
    "\n",
    "ax.legend();\n",
    "\n",
    "fig.savefig(\"../static/special_case_numerical_nash.pdf\")"
   ]
  },
  {
   "cell_type": "code",
   "execution_count": 134,
   "metadata": {},
   "outputs": [
    {
     "data": {
      "image/png": "[encoded data removed]",
      "text/plain": [
       "<Figure size 432x288 with 1 Axes>"
      ]
     },
     "metadata": {
      "needs_background": "light"
     },
     "output_type": "display_data"
    }
   ],
   "source": [
    "c, b = 2, 1\n",
    "\n",
    "fig, ax = plt.subplots()\n",
    "\n",
    "p2 = np.linspace(0, 1, 100)\n",
    "\n",
    "p4 = [1 - (b / c) for _ in p2]\n",
    "\n",
    "ax.plot(p2, p4, color='black');\n",
    "\n",
    "ax.plot(p2, p2, \"--\" ,color='black');\n",
    "\n",
    "\n",
    "ax.axvline(1 - (b / c),\n",
    "           linestyle=\"-.\"\n",
    "           , color=\"black\")\n",
    "\n",
    "ax.set_ylim(0, 1);\n",
    "ax.set_yticks([0, 1])\n",
    "ax.set_xticks([0, 1])\n",
    "ax.set_xlim(0, 1);\n",
    "\n",
    "ax.set_ylabel(\"$p_4$\");\n",
    "ax.set_xlabel(\"$p_2$\");\n",
    "\n",
    "ax.fill_between([0, 0.5], [0, 0.5], alpha=0.5, color='tab:green', label='Nash')\n",
    "ax.fill_between([0, 0.5], [0, 0.5], [0.5, 0.5], alpha=0.5, color='tab:blue', label='Nash ?')\n",
    "ax.fill_between([0, 1],  [1 - (b / c), 1 - (b / c)], [1, 1], alpha=0.5, color='tab:red', label='No Nash')\n",
    "\n",
    "\n",
    "# ax.annotate(r\"$p_4 = 1 - \\frac{c}{b}$\", (0.80, 0.55));\n",
    "\n",
    "# ax.annotate(r\"$p_2 \\leq 1 - \\frac{c}{b}$\", (0.33, 0.75));\n",
    "\n",
    "# ax.annotate(r\"$p_4 = p_2$\", (0.75, 0.8), rotation=35);\n",
    "\n",
    "ax.legend();"
   ]
  },
  {
   "cell_type": "markdown",
   "metadata": {},
   "source": [
    "**Sanity**"
   ]
  },
  {
   "cell_type": "code",
   "execution_count": 525,
   "metadata": {},
   "outputs": [],
   "source": [
    "def condition_from_coeff_B(c, b):\n",
    "    return 1 - (c / b)\n",
    "\n",
    "def condition_from_coeff_D(p2):\n",
    "    return p2\n",
    "\n",
    "def condition_from_coeff_A(p2, c, b):\n",
    "    return (b - c * (1 + p2)) / (b - c)"
   ]
  },
  {
   "cell_type": "code",
   "execution_count": 527,
   "metadata": {},
   "outputs": [],
   "source": [
    "c, b = 1, 2\n",
    "p2s = np.linspace(0, 1, 10)\n",
    "\n",
    "condition1 = [condition_from_coeff_B(c, b) for _ in p2s]\n",
    "condition2 = [condition_from_coeff_D(p2) for p2 in p2s]\n",
    "condition4 = [condition_from_coeff_A(p2, c, b) for p2 in  p2s]"
   ]
  },
  {
   "cell_type": "code",
   "execution_count": 571,
   "metadata": {},
   "outputs": [
    {
     "data": {
      "image/png": "[encoded data removed]",
      "text/plain": [
       "<Figure size 432x288 with 1 Axes>"
      ]
     },
     "metadata": {
      "needs_background": "light"
     },
     "output_type": "display_data"
    }
   ],
   "source": [
    "fig, ax = plt.subplots()\n",
    "\n",
    "ax.plot(p2s, condition1, color='black');\n",
    "ax.plot(p2s, condition2, linestyle=\"--\", color='black', );\n",
    "ax.axvline(1, linestyle=\"-.\", color='black');\n",
    "ax.plot(p2s, condition4,':', color='black');\n",
    "\n",
    "ax.set_ylim(0, 1);\n",
    "ax.set_yticks([0, 1])\n",
    "ax.set_xticks([0, 1])\n",
    "ax.set_xlim(0, 1.05);\n",
    "\n",
    "ax.set_ylabel(\"$p_4$\");\n",
    "ax.set_xlabel(\"$p_2$\");\n",
    "\n",
    "ax.fill_between([0, 0.5], [0, 0.5], alpha=0.5, color='tab:green', label='prov. Nash')\n",
    "\n",
    "ax.fill_between([0.503, 0.999], [0.5, 0.], alpha=0.5, color='tab:green')\n",
    "\n",
    "ax.annotate(r\"$p_4 = 1 - \\frac{c}{b}$\", (0.01, 0.55));\n",
    "\n",
    "ax.annotate(r\"$p_2 \\leq 1 - \\frac{c}{b}$\", (0.2, 0.75), rotation=-35);\n",
    "\n",
    "ax.annotate(r\"$p_4 = p_2$\", (0.75, 0.8), rotation=35);\n",
    "\n",
    "ax.legend();"
   ]
  },
  {
   "cell_type": "code",
   "execution_count": 572,
   "metadata": {},
   "outputs": [
    {
     "data": {
      "image/png": "[encoded data removed]",
      "text/plain": [
       "<Figure size 432x288 with 1 Axes>"
      ]
     },
     "metadata": {
      "needs_background": "light"
     },
     "output_type": "display_data"
    }
   ],
   "source": [
    "fig, ax = plt.subplots()\n",
    "\n",
    "ax.plot(p2s, condition1, color='black');\n",
    "ax.plot(p2s, condition2, linestyle=\"--\", color='black', );\n",
    "ax.axvline(1, linestyle=\"-.\", color='black');\n",
    "ax.plot(p2s, condition4,':', color='black');\n",
    "\n",
    "ax.set_ylim(0, 1);\n",
    "ax.set_yticks([0, 1])\n",
    "ax.set_xticks([0, 1])\n",
    "ax.set_xlim(0, 1.05);\n",
    "\n",
    "ax.set_ylabel(\"$p_4$\");\n",
    "ax.set_xlabel(\"$p_2$\");\n",
    "\n",
    "ax.fill_between([0, 0.5], [0, 0.5], alpha=0.5, color='tab:green', label='prov. Nash')\n",
    "\n",
    "ax.fill_between([0.503, 0.999], [0.5, 0.], alpha=0.5, color='tab:green')\n",
    "\n",
    "ax.annotate(r\"$p_4 = 1 - \\frac{c}{b}$\", (0.01, 0.55));\n",
    "\n",
    "ax.annotate(r\"$p_2 \\leq 1 - \\frac{c}{b}$\", (0.2, 0.75), rotation=-35);\n",
    "\n",
    "ax.annotate(r\"$p_4 = p_2$\", (0.75, 0.8), rotation=35);\n",
    "\n",
    "ax.fill_between([0, 0.5], [0, 0.5], [0.5, 0.5], alpha=0.5, color='tab:blue', label='num. Nash')\n",
    "\n",
    "ax.fill_between([0, 1],  [.5, .5], [1, 1], alpha=0.5, color='tab:red', label='No Nash')\n",
    "\n",
    "ax.legend();"
   ]
  },
  {
   "cell_type": "code",
   "execution_count": null,
   "metadata": {},
   "outputs": [],
   "source": [
    "fig, ax = plt.subplots()\n",
    "\n",
    "ax.plot(p2s, condition1, color='black');\n",
    "ax.plot(p2s, condition2, linestyle=\"--\", color='black', );\n",
    "ax.axvline(1, linestyle=\"-.\", color='black');\n",
    "ax.plot(p2s, condition4,':', color='black');\n",
    "\n",
    "ax.set_ylim(0, 1);\n",
    "ax.set_yticks([0, 1])\n",
    "ax.set_xticks([0, 1])\n",
    "ax.set_xlim(0, 1.05);\n",
    "\n",
    "ax.set_ylabel(\"$p_4$\");\n",
    "ax.set_xlabel(\"$p_2$\");\n",
    "\n",
    "ax.fill_between([0, 0.5], [0, 0.5], alpha=0.5, color='tab:green', label='Nash')\n",
    "\n",
    "ax.fill_between([0.503, 0.999], [0.5, 0.], alpha=0.5, color='tab:green')\n",
    "\n",
    "ax.annotate(r\"$p_4 = 1 - \\frac{c}{b}$\", (0.01, 0.55));\n",
    "\n",
    "ax.annotate(r\"$p_2 \\leq 1 - \\frac{c}{b}$\", (0.2, 0.75), rotation=-35);\n",
    "\n",
    "ax.annotate(r\"$p_4 = p_2$\", (0.75, 0.8), rotation=35);\n",
    "\n",
    "ax.legend();"
   ]
  },
  {
   "cell_type": "markdown",
   "metadata": {},
   "source": [
    "**Special case $p_2 = 1$**"
   ]
  },
  {
   "cell_type": "code",
   "execution_count": 138,
   "metadata": {},
   "outputs": [],
   "source": [
    "import sympy as sym"
   ]
  },
  {
   "cell_type": "code",
   "execution_count": 148,
   "metadata": {},
   "outputs": [],
   "source": [
    "p1, p2, p3, p4 = sym.symbols(\"p_1, p_2, p_3, p_4\")\n",
    "\n",
    "q1, q2, q3, q4 = sym.symbols(\"q_1, q_2, q_3, q_4\")\n",
    "\n",
    "c, b = sym.symbols(\"c, b\")"
   ]
  },
  {
   "cell_type": "code",
   "execution_count": 467,
   "metadata": {},
   "outputs": [],
   "source": [
    "N0 = [0, 0, 0, 0]"
   ]
  },
  {
   "cell_type": "code",
   "execution_count": 478,
   "metadata": {},
   "outputs": [],
   "source": [
    "M = transition_matrix([1, p2, p3, 1], N0,\n",
    "                      bits=4, analytical=True)"
   ]
  },
  {
   "cell_type": "code",
   "execution_count": 479,
   "metadata": {},
   "outputs": [
    {
     "data": {
      "text/plain": [
       "(16, 16)"
      ]
     },
     "execution_count": 479,
     "metadata": {},
     "output_type": "execute_result"
    }
   ],
   "source": [
    "M.shape"
   ]
  },
  {
   "cell_type": "code",
   "execution_count": 480,
   "metadata": {},
   "outputs": [],
   "source": [
    "Sy = payoffs_vector_coplayer(b, c, dim=4)"
   ]
  },
  {
   "cell_type": "code",
   "execution_count": 481,
   "metadata": {},
   "outputs": [],
   "source": [
    "ssN0 = invariant_distribution_analytically(M)\n",
    "sy = ssN0 @ Sy"
   ]
  },
  {
   "cell_type": "code",
   "execution_count": 482,
   "metadata": {},
   "outputs": [
    {
     "data": {
      "text/latex": [
       "$\\displaystyle \\left[\\begin{array}{cccccccccccccccc}0.0 & 0.0 & 0.0 & 0.0 & 0.0 & 1.0 & 0.0 & 0.0 & 0.0 & 0.0 & 0.0 & 0.0 & 0.0 & 0.0 & 0.0 & 0.0\\end{array}\\right]$"
      ],
      "text/plain": [
       "Matrix([[0.0, 0.0, 0.0, 0.0, 0.0, 1.0, 0.0, 0.0, 0.0, 0.0, 0.0, 0.0, 0.0, 0.0, 0.0, 0.0]])"
      ]
     },
     "execution_count": 482,
     "metadata": {},
     "output_type": "execute_result"
    }
   ],
   "source": [
    "ssN0"
   ]
  },
  {
   "cell_type": "code",
   "execution_count": 477,
   "metadata": {},
   "outputs": [
    {
     "data": {
      "text/latex": [
       "$\\displaystyle c p_{4}^{2} + c p_{4} \\left(1 - p_{4}\\right)$"
      ],
      "text/plain": [
       "c*p_4**2 + c*p_4*(1 - p_4)"
      ]
     },
     "execution_count": 477,
     "metadata": {},
     "output_type": "execute_result"
    }
   ],
   "source": [
    "sy[0].subs()"
   ]
  },
  {
   "cell_type": "code",
   "execution_count": 449,
   "metadata": {},
   "outputs": [
    {
     "data": {
      "text/latex": [
       "$\\displaystyle - \\frac{\\left(p_{4} - 1\\right) \\left(p_{4} + 1\\right)}{p_{4}^{2} - 6 p_{4} + 6}$"
      ],
      "text/plain": [
       "-(p_4 - 1)*(p_4 + 1)/(p_4**2 - 6*p_4 + 6)"
      ]
     },
     "execution_count": 449,
     "metadata": {},
     "output_type": "execute_result"
    }
   ],
   "source": [
    "sum([ssN0[i] for i in np.arange(0, 16, 4)]).factor()"
   ]
  },
  {
   "cell_type": "code",
   "execution_count": 450,
   "metadata": {},
   "outputs": [
    {
     "data": {
      "text/latex": [
       "$\\displaystyle \\frac{p_{4}^{2} - 3 p_{4} + 3}{p_{4}^{2} - 6 p_{4} + 6}$"
      ],
      "text/plain": [
       "(p_4**2 - 3*p_4 + 3)/(p_4**2 - 6*p_4 + 6)"
      ]
     },
     "execution_count": 450,
     "metadata": {},
     "output_type": "execute_result"
    }
   ],
   "source": [
    "sum([ssN0[i] for i in np.arange(1, 16, 4)]).factor()"
   ]
  },
  {
   "cell_type": "code",
   "execution_count": 451,
   "metadata": {},
   "outputs": [
    {
     "data": {
      "text/latex": [
       "$\\displaystyle \\frac{\\left(p_{4} - 1\\right)^{2}}{p_{4}^{2} - 6 p_{4} + 6}$"
      ],
      "text/plain": [
       "(p_4 - 1)**2/(p_4**2 - 6*p_4 + 6)"
      ]
     },
     "execution_count": 451,
     "metadata": {},
     "output_type": "execute_result"
    }
   ],
   "source": [
    "sum([ssN0[i] for i in np.arange(2, 16, 4)]).factor()"
   ]
  },
  {
   "cell_type": "code",
   "execution_count": 452,
   "metadata": {},
   "outputs": [
    {
     "data": {
      "text/latex": [
       "$\\displaystyle - \\frac{p_{4} - 1}{p_{4}^{2} - 6 p_{4} + 6}$"
      ],
      "text/plain": [
       "-(p_4 - 1)/(p_4**2 - 6*p_4 + 6)"
      ]
     },
     "execution_count": 452,
     "metadata": {},
     "output_type": "execute_result"
    }
   ],
   "source": [
    "sum([ssN0[i] for i in np.arange(3, 16, 4)]).factor()"
   ]
  },
  {
   "cell_type": "code",
   "execution_count": 466,
   "metadata": {},
   "outputs": [
    {
     "data": {
      "text/latex": [
       "$\\displaystyle - \\frac{b}{3} + \\frac{2 c}{3}$"
      ],
      "text/plain": [
       "-b/3 + 2*c/3"
      ]
     },
     "execution_count": 466,
     "metadata": {},
     "output_type": "execute_result"
    }
   ],
   "source": [
    "sy[0].factor().subs({p4:0})"
   ]
  },
  {
   "cell_type": "code",
   "execution_count": 462,
   "metadata": {},
   "outputs": [
    {
     "data": {
      "text/latex": [
       "$\\displaystyle - 2 b p_{4}^{2} + 4 b p_{4} + 3 c p_{4}^{2} - 8 c p_{4} + 6 c$"
      ],
      "text/plain": [
       "-2*b*p_4**2 + 4*b*p_4 + 3*c*p_4**2 - 8*c*p_4 + 6*c"
      ]
     },
     "execution_count": 462,
     "metadata": {},
     "output_type": "execute_result"
    }
   ],
   "source": [
    "sym.fraction(sym.diff(sy[0].factor(), p4).factor())[0]"
   ]
  },
  {
   "cell_type": "code",
   "execution_count": 427,
   "metadata": {},
   "outputs": [],
   "source": [
    "player = [p1, p2, p3, p4]\n",
    "opponent = [0, 0, 0, 0]\n",
    "\n",
    "M = sym.Matrix(\n",
    "        [\n",
    "            [\n",
    "                player[0] * opponent[0],\n",
    "                player[0] * (1 - opponent[0]),\n",
    "                opponent[0] * (1 - player[0]),\n",
    "                (1 - player[0]) * (1 - opponent[0]),\n",
    "            ],\n",
    "            [\n",
    "                opponent[2] * player[1],\n",
    "                player[1] * (1 - opponent[2]),\n",
    "                opponent[2] * (1 - player[1]),\n",
    "                (1 - opponent[2]) * (1 - player[1]),\n",
    "            ],\n",
    "            [\n",
    "                player[2] * opponent[1],\n",
    "                player[2] * (1 - opponent[1]),\n",
    "                opponent[1] * (1 - player[2]),\n",
    "                (1 - player[2]) * (1 - opponent[1]),\n",
    "            ],\n",
    "            [\n",
    "                player[3] * opponent[3],\n",
    "                player[3] * (1 - opponent[3]),\n",
    "                opponent[3] * (1 - player[3]),\n",
    "                (1 - player[3]) * (1 - opponent[3]),\n",
    "            ],\n",
    "        ],\n",
    "    )"
   ]
  },
  {
   "cell_type": "code",
   "execution_count": 428,
   "metadata": {},
   "outputs": [],
   "source": [
    "ss = invariant_distribution_analytically(M)"
   ]
  },
  {
   "cell_type": "code",
   "execution_count": 429,
   "metadata": {},
   "outputs": [
    {
     "data": {
      "text/latex": [
       "$\\displaystyle \\left[\\begin{matrix}0.0 & \\frac{p_{4}}{- p_{2} + p_{4} + 1.0} & 0.0 & \\frac{1.0 - p_{2}}{- p_{2} + p_{4} + 1.0}\\end{matrix}\\right]$"
      ],
      "text/plain": [
       "Matrix([[0.0, p_4/(-p_2 + p_4 + 1.0), 0.0, (1.0 - p_2)/(-p_2 + p_4 + 1.0)]])"
      ]
     },
     "execution_count": 429,
     "metadata": {},
     "output_type": "execute_result"
    }
   ],
   "source": [
    "ss"
   ]
  },
  {
   "cell_type": "code",
   "execution_count": null,
   "metadata": {},
   "outputs": [],
   "source": []
  }
 ],
 "metadata": {
  "kernelspec": {
   "display_name": "Python 3",
   "language": "python",
   "name": "python3"
  },
  "language_info": {
   "codemirror_mode": {
    "name": "ipython",
    "version": 3
   },
   "file_extension": ".py",
   "mimetype": "text/x-python",
   "name": "python",
   "nbconvert_exporter": "python",
   "pygments_lexer": "ipython3",
   "version": "3.8.3"
  }
 },
 "nbformat": 4,
 "nbformat_minor": 4
}
