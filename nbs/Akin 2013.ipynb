{
 "cells": [
  {
   "cell_type": "code",
   "execution_count": 1,
   "metadata": {},
   "outputs": [],
   "source": [
    "import sympy as sym"
   ]
  },
  {
   "cell_type": "code",
   "execution_count": 2,
   "metadata": {},
   "outputs": [],
   "source": [
    "from importlib.machinery import SourceFileLoader\n",
    "\n",
    "main = SourceFileLoader(\n",
    "    \"main\", \"../src/main.py\"\n",
    ").load_module()\n",
    "\n",
    "from main import *"
   ]
  },
  {
   "cell_type": "code",
   "execution_count": 3,
   "metadata": {},
   "outputs": [],
   "source": [
    "import numpy as np"
   ]
  },
  {
   "cell_type": "code",
   "execution_count": 4,
   "metadata": {},
   "outputs": [],
   "source": [
    "p_1, p_2, p_3, p_4 = sym.symbols(\"p_1, p_2, p_3, p_4\")"
   ]
  },
  {
   "cell_type": "code",
   "execution_count": 5,
   "metadata": {},
   "outputs": [],
   "source": [
    "q_1, q_2, q_3, q_4 = sym.symbols(\"q_1, q_2, q_3, q_4\")"
   ]
  },
  {
   "cell_type": "code",
   "execution_count": 6,
   "metadata": {},
   "outputs": [],
   "source": [
    "p_5, p_6, p_7, p_8, p_9, p_10, p_11, p_12, p_13, p_14, p_15, p_16  = sym.symbols(\"p_5, p_6, p_7, p_8, p_9, p_10, p_11, p_12, p_13, p_14, p_15, p_16\")\n",
    "\n",
    "q_5, q_6, q_7, q_8, q_9, q_10, q_11, q_12, q_13, q_14, q_15, q_16 = sym.symbols(\"q_5, q_6, q_7, q_8, q_9, q_10, q_11, q_12, q_13, q_14, q_15, q_16\")"
   ]
  },
  {
   "cell_type": "code",
   "execution_count": 7,
   "metadata": {},
   "outputs": [],
   "source": [
    "player = [p_1, p_2, p_3, p_4]\n",
    "opponent = [q_1, q_2, q_3, q_4]"
   ]
  },
  {
   "cell_type": "code",
   "execution_count": 8,
   "metadata": {},
   "outputs": [],
   "source": [
    "player = [p_1, p_2, p_3, p_4, p_5, p_6, p_7, p_8, p_9, p_10, p_11, p_12, p_13, p_14, p_15, p_16]\n",
    "opponent = [q_1, q_2, q_3, q_4, q_5, q_6, q_7, q_8, q_9, q_10, q_11, q_12, q_13, q_14, q_15, q_16]"
   ]
  },
  {
   "cell_type": "code",
   "execution_count": 9,
   "metadata": {},
   "outputs": [],
   "source": [
    "M = sym.Matrix(\n",
    "        [\n",
    "            [\n",
    "                player[0] * opponent[0],\n",
    "                player[0] * (1 - opponent[0]),\n",
    "                opponent[0] * (1 - player[0]),\n",
    "                (1 - player[0]) * (1 - opponent[0]),\n",
    "            ],\n",
    "            [\n",
    "                opponent[2] * player[1],\n",
    "                player[1] * (1 - opponent[2]),\n",
    "                opponent[2] * (1 - player[1]),\n",
    "                (1 - opponent[2]) * (1 - player[1]),\n",
    "            ],\n",
    "            [\n",
    "                player[2] * opponent[1],\n",
    "                player[2] * (1 - opponent[1]),\n",
    "                opponent[1] * (1 - player[2]),\n",
    "                (1 - player[2]) * (1 - opponent[1]),\n",
    "            ],\n",
    "            [\n",
    "                player[3] * opponent[3],\n",
    "                player[3] * (1 - opponent[3]),\n",
    "                opponent[3] * (1 - player[3]),\n",
    "                (1 - player[3]) * (1 - opponent[3]),\n",
    "            ],\n",
    "        ],\n",
    "    )"
   ]
  },
  {
   "cell_type": "code",
   "execution_count": 10,
   "metadata": {},
   "outputs": [],
   "source": [
    "M1 = sym.Matrix(\n",
    "        [\n",
    "            [\n",
    "                player[0] * opponent[0],\n",
    "                player[0] * (1 - opponent[0]),\n",
    "                opponent[0] * (1 - player[0]),\n",
    "                (1 - player[0]) * (1 - opponent[0]),\n",
    "            ],\n",
    "            [\n",
    "                opponent[0] * player[1],\n",
    "                player[1] * (1 - opponent[0]),\n",
    "                opponent[0] * (1 - player[1]),\n",
    "                (1 - opponent[0]) * (1 - player[1]),\n",
    "            ],\n",
    "            [\n",
    "                player[0] * opponent[1],\n",
    "                player[0] * (1 - opponent[1]),\n",
    "                opponent[1] * (1 - player[0]),\n",
    "                (1 - player[0]) * (1 - opponent[1]),\n",
    "            ],\n",
    "            [\n",
    "                player[1] * opponent[1],\n",
    "                player[1] * (1 - opponent[1]),\n",
    "                opponent[1] * (1 - player[1]),\n",
    "                (1 - player[1]) * (1 - opponent[1]),\n",
    "            ],\n",
    "        ],\n",
    "    )"
   ]
  },
  {
   "cell_type": "code",
   "execution_count": 11,
   "metadata": {},
   "outputs": [],
   "source": [
    "M2 = sym.zeros(16, 16)\n",
    "\n",
    "col = 0\n",
    "row = 0\n",
    "\n",
    "for p, q in [[p_1, q_1], [p_2, q_3], [p_3, q_2], [p_4, q_4]]:\n",
    "    for i, combo in enumerate([(p * q), ((1 - q) * p), ((1 - p) * q), ((1 - p) * (1 - q))]):\n",
    "\n",
    "        M2[row, col + i] = combo\n",
    "        \n",
    "    col += 4\n",
    "    row += 1\n",
    "\n",
    "col = 0\n",
    "\n",
    "for p, q in [[p_5, q_9], [p_6, q_11], [p_7, q_10], [p_8, q_12]]:\n",
    "    for i, combo in enumerate([(p * q), ((1 - q) * p), ((1 - p) * q), ((1 - p) * (1 - q))]):\n",
    "\n",
    "        M2[row, col + i] = combo\n",
    "        \n",
    "    col += 4\n",
    "    row += 1\n",
    "    \n",
    "col = 0\n",
    "\n",
    "for p, q in [[p_9, q_5], [p_10, q_7], [p_11, q_6], [p_12, q_8]]:\n",
    "    for i, combo in enumerate([(p * q), ((1 - q) * p), ((1 - p) * q), ((1 - p) * (1 - q))]):\n",
    "\n",
    "        M2[row, col + i] = combo\n",
    "        \n",
    "    col += 4\n",
    "    row += 1\n",
    "    \n",
    "col = 0\n",
    "\n",
    "for p, q in [[p_13, q_13], [p_14, q_15], [p_15, q_14], [p_16, q_16]]:\n",
    "    for i, combo in enumerate([(p * q), ((1 - q) * p), ((1 - p) * q), ((1 - p) * (1 - q))]):\n",
    "\n",
    "        M2[row, col + i] = combo\n",
    "        \n",
    "    col += 4\n",
    "    row += 1"
   ]
  },
  {
   "cell_type": "code",
   "execution_count": 64,
   "metadata": {},
   "outputs": [
    {
     "data": {
      "text/latex": [
       "$\\displaystyle \\left[\\begin{matrix}p_{1} q_{1} & p_{1} \\left(1 - q_{1}\\right) & q_{1} \\left(1 - p_{1}\\right) & \\left(1 - p_{1}\\right) \\left(1 - q_{1}\\right)\\\\p_{2} q_{3} & p_{2} \\left(1 - q_{3}\\right) & q_{3} \\left(1 - p_{2}\\right) & \\left(1 - p_{2}\\right) \\left(1 - q_{3}\\right)\\\\p_{3} q_{2} & p_{3} \\left(1 - q_{2}\\right) & q_{2} \\left(1 - p_{3}\\right) & \\left(1 - p_{3}\\right) \\left(1 - q_{2}\\right)\\\\p_{4} q_{4} & p_{4} \\left(1 - q_{4}\\right) & q_{4} \\left(1 - p_{4}\\right) & \\left(1 - p_{4}\\right) \\left(1 - q_{4}\\right)\\end{matrix}\\right]$"
      ],
      "text/plain": [
       "Matrix([\n",
       "[p_1*q_1, p_1*(1 - q_1), q_1*(1 - p_1), (1 - p_1)*(1 - q_1)],\n",
       "[p_2*q_3, p_2*(1 - q_3), q_3*(1 - p_2), (1 - p_2)*(1 - q_3)],\n",
       "[p_3*q_2, p_3*(1 - q_2), q_2*(1 - p_3), (1 - p_3)*(1 - q_2)],\n",
       "[p_4*q_4, p_4*(1 - q_4), q_4*(1 - p_4), (1 - p_4)*(1 - q_4)]])"
      ]
     },
     "execution_count": 64,
     "metadata": {},
     "output_type": "execute_result"
    }
   ],
   "source": [
    "M"
   ]
  },
  {
   "cell_type": "code",
   "execution_count": 65,
   "metadata": {},
   "outputs": [],
   "source": [
    "ss = invariant_distribution_analytically(M)"
   ]
  },
  {
   "cell_type": "code",
   "execution_count": 70,
   "metadata": {},
   "outputs": [],
   "source": [
    "sym.lambdify?"
   ]
  },
  {
   "cell_type": "code",
   "execution_count": 72,
   "metadata": {},
   "outputs": [],
   "source": [
    "lamb_ss = sym.lambdify((p_1, p_2, p_3, p_4, q_1, q_2, q_3, q_4), ss)"
   ]
  },
  {
   "cell_type": "code",
   "execution_count": 79,
   "metadata": {},
   "outputs": [
    {
     "data": {
      "text/plain": [
       "array([[0, 1, 0, 0]], dtype=object)"
      ]
     },
     "execution_count": 79,
     "metadata": {},
     "output_type": "execute_result"
    }
   ],
   "source": [
    "lamb_ss(1, 1, p_3, p_4, 0, 0, 0, 1)"
   ]
  },
  {
   "cell_type": "code",
   "execution_count": 17,
   "metadata": {},
   "outputs": [],
   "source": [
    "expr = (ss[0].factor() * (p_1 - 1) + ss[1].factor() * (p_2 - 1)).factor()"
   ]
  },
  {
   "cell_type": "code",
   "execution_count": 18,
   "metadata": {},
   "outputs": [],
   "source": [
    "expr2 = (ss[2].factor() * (p_3) + ss[3].factor() * (p_4)).factor()"
   ]
  },
  {
   "cell_type": "code",
   "execution_count": 19,
   "metadata": {},
   "outputs": [
    {
     "data": {
      "text/latex": [
       "$\\displaystyle 0$"
      ],
      "text/plain": [
       "0"
      ]
     },
     "execution_count": 19,
     "metadata": {},
     "output_type": "execute_result"
    }
   ],
   "source": [
    "expr + expr2"
   ]
  },
  {
   "cell_type": "markdown",
   "metadata": {},
   "source": [
    "**Numerically test the theorem**"
   ]
  },
  {
   "cell_type": "code",
   "execution_count": 12,
   "metadata": {},
   "outputs": [],
   "source": [
    "np.random.seed(1)\n",
    "\n",
    "for _ in range(100):\n",
    "    pis = np.random.random(4)\n",
    "    qis = np.random.random(4)\n",
    "\n",
    "    T = M.subs({p_1:pis[0], p_2:pis[1], p_3:pis[2], p_4:pis[3],\n",
    "                q_1:qis[0], q_2:qis[1], q_3:qis[2], q_4:qis[3]})\n",
    "    \n",
    "    T = np.array(T).astype(np.float64)\n",
    "    \n",
    "    ss = invariant_distribution(T)\n",
    "    \n",
    "    assert np.isclose(ss[0] * (pis[0] - 1) + ss[1] * (pis[1] - 1) + ss[2] * pis[2] + ss[3] * pis[3], 0)"
   ]
  },
  {
   "cell_type": "markdown",
   "metadata": {},
   "source": [
    "**Reactive case**"
   ]
  },
  {
   "cell_type": "code",
   "execution_count": 13,
   "metadata": {},
   "outputs": [],
   "source": [
    "ss = invariant_distribution_analytically(M1)"
   ]
  },
  {
   "cell_type": "code",
   "execution_count": 14,
   "metadata": {},
   "outputs": [],
   "source": [
    "lhs = (ss[0].factor() + ss[1].factor()).factor()"
   ]
  },
  {
   "cell_type": "code",
   "execution_count": 15,
   "metadata": {},
   "outputs": [],
   "source": [
    "rhs = (p_1 * (ss[0].factor() + ss[2].factor())).factor() + (p_2 * (ss[1].factor() + ss[3].factor())).factor()"
   ]
  },
  {
   "cell_type": "code",
   "execution_count": 16,
   "metadata": {},
   "outputs": [
    {
     "data": {
      "text/latex": [
       "$\\displaystyle 0$"
      ],
      "text/plain": [
       "0"
      ]
     },
     "execution_count": 16,
     "metadata": {},
     "output_type": "execute_result"
    }
   ],
   "source": [
    "(lhs - rhs).factor()"
   ]
  },
  {
   "cell_type": "code",
   "execution_count": 17,
   "metadata": {},
   "outputs": [],
   "source": [
    "c = 0.3\n",
    "b = 1\n",
    "\n",
    "for _ in range(10):\n",
    "\n",
    "    p1, p2, p3, p4, q1, q2, q3, q4 = np.random.random(8)\n",
    "\n",
    "    mOne = np.array(M.subs({p_1:p1, p_2:p2, p_3:p3, p_4:p4, q_1: q1, q_2: q2, q_3: q3, q_4: q4}), dtype=float)\n",
    "\n",
    "    mTwo = np.array(M2.subs({p_1:p1, p_2:p2, p_3:p3, p_4:p4, q_1: q1, q_2: q2, q_3: q3, q_4: q4,\n",
    "                    p_5:p1, p_6:p2, p_7:p3, p_8:p4, q_5: q1, q_6: q2, q_7: q3, q_8: q4,\n",
    "                    p_9:p1, p_10:p2, p_11:p3, p_12:p4, q_9: q1, q_10: q2, q_11: q3, q_12: q4,\n",
    "                    p_13:p1, p_14:p2, p_15:p3, p_16:p4, q_13: q1, q_14: q2, q_15: q3, q_16: q4}), dtype=float)\n",
    "\n",
    "    ss_one = invariant_distribution(mOne)\n",
    "    ss_two = invariant_distribution(mTwo)\n",
    "\n",
    "    assert np.isclose(\n",
    "        ss_one @ payoffs_vector(c, b, dim=1), ss_two @ payoffs_vector(c, b, dim=4)\n",
    "    )"
   ]
  },
  {
   "cell_type": "code",
   "execution_count": 18,
   "metadata": {},
   "outputs": [],
   "source": [
    "pis = np.random.random(16)\n",
    "qis = np.random.random(16)"
   ]
  },
  {
   "cell_type": "code",
   "execution_count": 19,
   "metadata": {},
   "outputs": [],
   "source": [
    "m2 = sym.lambdify((p_1, p_2, p_3, p_4, p_5,\n",
    "                   p_6, p_7, p_8, p_9, p_10,\n",
    "                   p_11, p_12, p_13, p_14,\n",
    "                   p_15, p_16, q_1, q_2, q_3, q_4,\n",
    "                   q_5, q_6, q_7, q_8, q_9, q_10,\n",
    "                   q_11, q_12, q_13, q_14, q_15, q_16), M2, 'numpy')"
   ]
  },
  {
   "cell_type": "code",
   "execution_count": 20,
   "metadata": {},
   "outputs": [],
   "source": [
    "np.random.seed(1)\n",
    "\n",
    "coop_ind = list(np.arange(0, 16, 4)) + list(np.arange(1, 16, 4))\n",
    "def_ind = list(np.arange(2, 16, 4)) + list(np.arange(3, 16, 4))\n",
    "\n",
    "for _ in range(100):\n",
    "    pis = np.random.random(16)\n",
    "    qis = np.random.random(16)\n",
    "    \n",
    "    x =  [*pis] + [*qis]\n",
    "    \n",
    "    ss = invariant_distribution(m2(*x))\n",
    "    \n",
    "    assert np.isclose(sum([(1 - pis[i]) * ss[i] for i in coop_ind]) - sum([(pis[i]) * ss[i] for i in def_ind]), 0)"
   ]
  },
  {
   "cell_type": "code",
   "execution_count": 21,
   "metadata": {},
   "outputs": [],
   "source": [
    "np.random.seed(1)\n",
    "\n",
    "coop_ind = list(np.arange(0, 16, 4)) + list(np.arange(1, 16, 4))\n",
    "def_ind = list(np.arange(2, 16, 4)) + list(np.arange(3, 16, 4))\n",
    "\n",
    "for _ in range(200):\n",
    "    ps = np.random.random(4)\n",
    "    qs = np.random.random(4)\n",
    "    \n",
    "    pis = np.array([ps[0], ps[1], ps[0], ps[1], ps[2], ps[3], ps[2], ps[3], ps[0], ps[1], ps[0], ps[1], ps[2], ps[3], ps[2], ps[3]])\n",
    "    qis = np.array([qs[0], qs[1], qs[0], qs[1], qs[2], qs[3], qs[2], qs[3], qs[0], qs[1], qs[0], qs[1], qs[2], qs[3], qs[2], qs[3]])\n",
    "\n",
    "    x =  [*pis] + [*qis]\n",
    "    \n",
    "    ss = invariant_distribution(m2(*x))\n",
    "    \n",
    "    assert np.isclose(sum([(1 - pis[i]) * ss[i] for i in coop_ind]) - sum([(pis[i]) * ss[i] for i in def_ind]), 0)"
   ]
  },
  {
   "cell_type": "markdown",
   "metadata": {},
   "source": [
    "### Numerical tests pass"
   ]
  },
  {
   "cell_type": "code",
   "execution_count": 23,
   "metadata": {},
   "outputs": [
    {
     "data": {
      "text/plain": [
       "[1, 5, 9, 13, 2, 6, 10, 14]"
      ]
     },
     "execution_count": 23,
     "metadata": {},
     "output_type": "execute_result"
    }
   ],
   "source": [
    "[index + 1 for index in coop_ind]"
   ]
  },
  {
   "cell_type": "code",
   "execution_count": 24,
   "metadata": {},
   "outputs": [
    {
     "data": {
      "text/plain": [
       "[3, 7, 11, 15, 4, 8, 12, 16]"
      ]
     },
     "execution_count": 24,
     "metadata": {},
     "output_type": "execute_result"
    }
   ],
   "source": [
    "[index + 1 for index in def_ind]"
   ]
  },
  {
   "cell_type": "code",
   "execution_count": 25,
   "metadata": {},
   "outputs": [],
   "source": [
    "pis = player\n",
    "\n",
    "ss = sym.symbols(f\"v_1:{17}\")"
   ]
  },
  {
   "cell_type": "code",
   "execution_count": 26,
   "metadata": {},
   "outputs": [],
   "source": [
    "# sym.init_printing(False)"
   ]
  },
  {
   "cell_type": "code",
   "execution_count": 27,
   "metadata": {},
   "outputs": [],
   "source": [
    "pis = [p_1, p_2, p_1, p_2, p_3, p_4, p_3, p_4, p_1, p_2, p_1, p_2, p_3, p_4, p_3, p_4]"
   ]
  },
  {
   "cell_type": "code",
   "execution_count": 29,
   "metadata": {},
   "outputs": [
    {
     "data": {
      "text/latex": [
       "$\\displaystyle v_{1} \\left(1 - p_{1}\\right) + v_{10} \\left(1 - p_{2}\\right) + v_{13} \\left(1 - p_{3}\\right) + v_{14} \\left(1 - p_{4}\\right) + v_{2} \\left(1 - p_{2}\\right) + v_{5} \\left(1 - p_{3}\\right) + v_{6} \\left(1 - p_{4}\\right) + v_{9} \\left(1 - p_{1}\\right)$"
      ],
      "text/plain": [
       "v_1*(1 - p_1) + v_10*(1 - p_2) + v_13*(1 - p_3) + v_14*(1 - p_4) + v_2*(1 - p_2) + v_5*(1 - p_3) + v_6*(1 - p_4) + v_9*(1 - p_1)"
      ]
     },
     "execution_count": 29,
     "metadata": {},
     "output_type": "execute_result"
    }
   ],
   "source": [
    "sum([(1 - pis[i]) * ss[i] for i in coop_ind]) # - sum([(pis[i]) * ss[i] for i in def_ind])"
   ]
  },
  {
   "cell_type": "code",
   "execution_count": 30,
   "metadata": {},
   "outputs": [
    {
     "data": {
      "text/latex": [
       "$\\displaystyle p_{1} v_{11} + p_{1} v_{3} + p_{2} v_{12} + p_{2} v_{4} + p_{3} v_{15} + p_{3} v_{7} + p_{4} v_{16} + p_{4} v_{8}$"
      ],
      "text/plain": [
       "p_1*v_11 + p_1*v_3 + p_2*v_12 + p_2*v_4 + p_3*v_15 + p_3*v_7 + p_4*v_16 + p_4*v_8"
      ]
     },
     "execution_count": 30,
     "metadata": {},
     "output_type": "execute_result"
    }
   ],
   "source": [
    "sum([(pis[i]) * ss[i] for i in def_ind])"
   ]
  },
  {
   "cell_type": "markdown",
   "metadata": {},
   "source": [
    "**Check claims**"
   ]
  },
  {
   "cell_type": "markdown",
   "metadata": {},
   "source": [
    "**One strategy can achieve R while the other does not**"
   ]
  },
  {
   "cell_type": "code",
   "execution_count": 29,
   "metadata": {},
   "outputs": [],
   "source": [
    "import axelrod as axl\n",
    "import numpy as np"
   ]
  },
  {
   "cell_type": "code",
   "execution_count": 30,
   "metadata": {},
   "outputs": [],
   "source": [
    "donation = axl.game.Game(r=.7, s=0, t=1, p=.1)"
   ]
  },
  {
   "cell_type": "code",
   "execution_count": 31,
   "metadata": {},
   "outputs": [],
   "source": [
    "p = axl.MemoryOnePlayer((1, 1, 0, 0))#0.76, 0.1, 0.4))"
   ]
  },
  {
   "cell_type": "code",
   "execution_count": 32,
   "metadata": {},
   "outputs": [],
   "source": [
    "q = axl.MemoryOnePlayer((0, 1, 1, 1))"
   ]
  },
  {
   "cell_type": "code",
   "execution_count": 33,
   "metadata": {},
   "outputs": [],
   "source": [
    "match = axl.Tournament([p, q], turns=100, game=donation, repetitions=10)"
   ]
  },
  {
   "cell_type": "code",
   "execution_count": 34,
   "metadata": {},
   "outputs": [
    {
     "name": "stderr",
     "output_type": "stream",
     "text": [
      "Playing matches: 100%|██████████████████████████████████████████████████████████████████████████████████████████████████████████████████████████████████████████████████████████████████████████████████████████████████████| 3/3 [00:00<00:00, 110.84it/s]\n",
      "Analysing: 100%|██████████████████████████████████████████████████████████████████████████████████████████████████████████████████████████████████████████████████████████████████████████████████████████████████████████| 25/25 [00:00<00:00, 259.93it/s]\n"
     ]
    }
   ],
   "source": [
    "result = match.play()"
   ]
  },
  {
   "cell_type": "code",
   "execution_count": 330,
   "metadata": {},
   "outputs": [
    {
     "data": {
      "text/plain": [
       "(0.35, 0.8500000000000009)"
      ]
     },
     "execution_count": 330,
     "metadata": {},
     "output_type": "execute_result"
    }
   ],
   "source": [
    "np.mean(result.normalised_scores[0]), np.mean(result.normalised_scores[1])"
   ]
  },
  {
   "cell_type": "code",
   "execution_count": 270,
   "metadata": {},
   "outputs": [
    {
     "data": {
      "text/plain": [
       "(0.58, 0.58)"
      ]
     },
     "execution_count": 270,
     "metadata": {},
     "output_type": "execute_result"
    }
   ],
   "source": [
    "match.final_score_per_turn()"
   ]
  },
  {
   "cell_type": "code",
   "execution_count": 336,
   "metadata": {},
   "outputs": [],
   "source": [
    "import sympy as sym"
   ]
  },
  {
   "cell_type": "code",
   "execution_count": 337,
   "metadata": {},
   "outputs": [],
   "source": [
    "p1, p2, p3, p4 = sym.symbols(\"p_1, p_2, p_3, p_4\")"
   ]
  },
  {
   "cell_type": "code",
   "execution_count": 338,
   "metadata": {},
   "outputs": [],
   "source": [
    "R, S = sym.symbols(\"R, S\")"
   ]
  },
  {
   "cell_type": "code",
   "execution_count": 344,
   "metadata": {},
   "outputs": [],
   "source": [
    "def p_3(p_2, R):\n",
    "    return ((1 - p_2) * R) / (1 - R)\n",
    "\n",
    "def p_4(p_2, R, P):\n",
    "    return ((1 - p_2) * (R - P)) / (1 - R)"
   ]
  },
  {
   "cell_type": "code",
   "execution_count": 360,
   "metadata": {},
   "outputs": [],
   "source": [
    "R = 0.6\n",
    "P = 0.2\n",
    "p_2 = 0.01"
   ]
  },
  {
   "cell_type": "code",
   "execution_count": 361,
   "metadata": {},
   "outputs": [],
   "source": [
    "donation = axl.game.Game(r=R, s=0, t=1, p=P)"
   ]
  },
  {
   "cell_type": "code",
   "execution_count": 366,
   "metadata": {},
   "outputs": [],
   "source": [
    "# p = axl.MemoryOnePlayer((1, 0, p_3(p_2, R), p_4(p_2, R, P)))#0.76, 0.1, 0.4))"
   ]
  },
  {
   "cell_type": "code",
   "execution_count": 348,
   "metadata": {},
   "outputs": [],
   "source": [
    "match = axl.Tournament([p, q], turns=100, game=donation, repetitions=10)"
   ]
  },
  {
   "cell_type": "code",
   "execution_count": 349,
   "metadata": {},
   "outputs": [
    {
     "name": "stderr",
     "output_type": "stream",
     "text": [
      "Playing matches: 100%|██████████████████████████████████████████████████████████████████████████████████████████████████████████████████████████████████████████████████████████████████████████████████████████████████████████| 3/3 [00:00<00:00, 63.95it/s]\n",
      "Analysing: 100%|█████████████████████████████████████████████████████████████████████████████████████████████████████████████████████████████████████████████████████████████████████████████████████████████████████████████| 25/25 [00:00<00:00, 265.34it/s]\n"
     ]
    }
   ],
   "source": [
    "result = match.play()"
   ]
  },
  {
   "cell_type": "code",
   "execution_count": 350,
   "metadata": {},
   "outputs": [
    {
     "data": {
      "text/plain": [
       "(0.6051999999999997, 0.3012000000000001)"
      ]
     },
     "execution_count": 350,
     "metadata": {},
     "output_type": "execute_result"
    }
   ],
   "source": [
    "np.mean(result.normalised_scores[0]), np.mean(result.normalised_scores[1])"
   ]
  },
  {
   "cell_type": "code",
   "execution_count": 303,
   "metadata": {},
   "outputs": [],
   "source": [
    "## Tit For Tat vs Tit For Tat"
   ]
  },
  {
   "cell_type": "code",
   "execution_count": 312,
   "metadata": {},
   "outputs": [],
   "source": [
    "t = axl.MemoryOnePlayer((0, 0, 0, 1))\n",
    "f = axl.MemoryOnePlayer((0, 0, 0, 1))"
   ]
  },
  {
   "cell_type": "code",
   "execution_count": 313,
   "metadata": {},
   "outputs": [],
   "source": [
    "match = axl.Match([t, f], turns=10)"
   ]
  },
  {
   "cell_type": "code",
   "execution_count": 314,
   "metadata": {},
   "outputs": [],
   "source": [
    "_ = match.play()"
   ]
  },
  {
   "cell_type": "code",
   "execution_count": 315,
   "metadata": {},
   "outputs": [
    {
     "data": {
      "text/plain": [
       "[(C, C),\n",
       " (D, D),\n",
       " (C, C),\n",
       " (D, D),\n",
       " (C, C),\n",
       " (D, D),\n",
       " (C, C),\n",
       " (D, D),\n",
       " (C, C),\n",
       " (D, D)]"
      ]
     },
     "execution_count": 315,
     "metadata": {},
     "output_type": "execute_result"
    }
   ],
   "source": [
    "match.result"
   ]
  },
  {
   "cell_type": "code",
   "execution_count": 56,
   "metadata": {},
   "outputs": [],
   "source": [
    "def calculate_M_memory_two(player, coplayer):\n",
    "    \n",
    "    p1, p2, p3, p4, p5, p6, p7, p8, p9, p10, p11, p12, p13, p14, p15, p16 = player\n",
    "    q1, q2, q3, q4, q5, q6, q7, q8, q9, q10, q11, q12, q13, q14, q15, q16 = coplayer\n",
    "\n",
    "    M = sym.zeros(16, 16)\n",
    "\n",
    "    col, row = 0, 0\n",
    "\n",
    "    for p, q in [[p1, q1], [p2, q3], [p3, q2], [p4, q4]]:\n",
    "        for i, combo in enumerate([(p * q), ((1 - q) * p), ((1 - p) * q), ((1 - p) * (1 - q))]):\n",
    "\n",
    "            M[row, col + i] = combo\n",
    "\n",
    "        col += 4\n",
    "        row += 1\n",
    "\n",
    "    col = 0\n",
    "    for p, q in [[p5, q9], [p6, q11], [p7, q10], [p8, q12]]:\n",
    "        for i, combo in enumerate([(p * q), ((1 - q) * p), ((1 - p) * q), ((1 - p) * (1 - q))]):\n",
    "\n",
    "            M[row, col + i] = combo\n",
    "\n",
    "        col +g= 4\n",
    "        row += 1\n",
    "\n",
    "    col = 0\n",
    "    for p, q in [[p9, q5], [p10, q7], [p11, q6], [p12, q8]]:\n",
    "        for i, combo in enumerate([(p * q), ((1 - q) * p), ((1 - p) * q), ((1 - p) * (1 - q))]):\n",
    "\n",
    "            M[row, col + i] = combo\n",
    "\n",
    "        col += 4\n",
    "        row += 1\n",
    "\n",
    "    col = 0\n",
    "    for p, q in [[p13, q13], [p14, q15], [p15, q14], [p16, q16]]:\n",
    "        for i, combo in enumerate([(p * q), ((1 - q) * p), ((1 - p) * q), ((1 - p) * (1 - q))]):\n",
    "\n",
    "            M[row, col + i] = combo\n",
    "\n",
    "        col += 4\n",
    "        row += 1\n",
    "        \n",
    "    return M"
   ]
  },
  {
   "cell_type": "code",
   "execution_count": 62,
   "metadata": {},
   "outputs": [
    {
     "data": {
      "text/plain": [
       "(16, 16)"
      ]
     },
     "execution_count": 62,
     "metadata": {},
     "output_type": "execute_result"
    }
   ],
   "source": [
    "calculate_M_memory_two(player, opponent).shape"
   ]
  },
  {
   "cell_type": "code",
   "execution_count": 59,
   "metadata": {},
   "outputs": [
    {
     "data": {
      "text/latex": [
       "$\\displaystyle \\left[\\begin{array}{cccccccccccccccc}p_{1} q_{1} & p_{1} \\left(1 - q_{1}\\right) & q_{1} \\left(1 - p_{1}\\right) & \\left(1 - p_{1}\\right) \\left(1 - q_{1}\\right) & 0 & 0 & 0 & 0 & 0 & 0 & 0 & 0 & 0 & 0 & 0 & 0\\\\0 & 0 & 0 & 0 & p_{2} q_{3} & p_{2} \\left(1 - q_{3}\\right) & q_{3} \\left(1 - p_{2}\\right) & \\left(1 - p_{2}\\right) \\left(1 - q_{3}\\right) & 0 & 0 & 0 & 0 & 0 & 0 & 0 & 0\\\\0 & 0 & 0 & 0 & 0 & 0 & 0 & 0 & p_{3} q_{2} & p_{3} \\left(1 - q_{2}\\right) & q_{2} \\left(1 - p_{3}\\right) & \\left(1 - p_{3}\\right) \\left(1 - q_{2}\\right) & 0 & 0 & 0 & 0\\\\0 & 0 & 0 & 0 & 0 & 0 & 0 & 0 & 0 & 0 & 0 & 0 & p_{4} q_{4} & p_{4} \\left(1 - q_{4}\\right) & q_{4} \\left(1 - p_{4}\\right) & \\left(1 - p_{4}\\right) \\left(1 - q_{4}\\right)\\\\p_{5} q_{9} & p_{5} \\left(1 - q_{9}\\right) & q_{9} \\left(1 - p_{5}\\right) & \\left(1 - p_{5}\\right) \\left(1 - q_{9}\\right) & 0 & 0 & 0 & 0 & 0 & 0 & 0 & 0 & 0 & 0 & 0 & 0\\\\0 & 0 & 0 & 0 & p_{6} q_{11} & p_{6} \\left(1 - q_{11}\\right) & q_{11} \\left(1 - p_{6}\\right) & \\left(1 - p_{6}\\right) \\left(1 - q_{11}\\right) & 0 & 0 & 0 & 0 & 0 & 0 & 0 & 0\\\\0 & 0 & 0 & 0 & 0 & 0 & 0 & 0 & p_{7} q_{10} & p_{7} \\left(1 - q_{10}\\right) & q_{10} \\left(1 - p_{7}\\right) & \\left(1 - p_{7}\\right) \\left(1 - q_{10}\\right) & 0 & 0 & 0 & 0\\\\0 & 0 & 0 & 0 & 0 & 0 & 0 & 0 & 0 & 0 & 0 & 0 & p_{8} q_{12} & p_{8} \\left(1 - q_{12}\\right) & q_{12} \\left(1 - p_{8}\\right) & \\left(1 - p_{8}\\right) \\left(1 - q_{12}\\right)\\\\p_{9} q_{5} & p_{9} \\left(1 - q_{5}\\right) & q_{5} \\left(1 - p_{9}\\right) & \\left(1 - p_{9}\\right) \\left(1 - q_{5}\\right) & 0 & 0 & 0 & 0 & 0 & 0 & 0 & 0 & 0 & 0 & 0 & 0\\\\0 & 0 & 0 & 0 & p_{10} q_{7} & p_{10} \\left(1 - q_{7}\\right) & q_{7} \\left(1 - p_{10}\\right) & \\left(1 - p_{10}\\right) \\left(1 - q_{7}\\right) & 0 & 0 & 0 & 0 & 0 & 0 & 0 & 0\\\\0 & 0 & 0 & 0 & 0 & 0 & 0 & 0 & p_{11} q_{6} & p_{11} \\left(1 - q_{6}\\right) & q_{6} \\left(1 - p_{11}\\right) & \\left(1 - p_{11}\\right) \\left(1 - q_{6}\\right) & 0 & 0 & 0 & 0\\\\0 & 0 & 0 & 0 & 0 & 0 & 0 & 0 & 0 & 0 & 0 & 0 & p_{12} q_{8} & p_{12} \\left(1 - q_{8}\\right) & q_{8} \\left(1 - p_{12}\\right) & \\left(1 - p_{12}\\right) \\left(1 - q_{8}\\right)\\\\p_{13} q_{13} & p_{13} \\left(1 - q_{13}\\right) & q_{13} \\left(1 - p_{13}\\right) & \\left(1 - p_{13}\\right) \\left(1 - q_{13}\\right) & 0 & 0 & 0 & 0 & 0 & 0 & 0 & 0 & 0 & 0 & 0 & 0\\\\0 & 0 & 0 & 0 & p_{14} q_{15} & p_{14} \\left(1 - q_{15}\\right) & q_{15} \\left(1 - p_{14}\\right) & \\left(1 - p_{14}\\right) \\left(1 - q_{15}\\right) & 0 & 0 & 0 & 0 & 0 & 0 & 0 & 0\\\\0 & 0 & 0 & 0 & 0 & 0 & 0 & 0 & p_{15} q_{14} & p_{15} \\left(1 - q_{14}\\right) & q_{14} \\left(1 - p_{15}\\right) & \\left(1 - p_{15}\\right) \\left(1 - q_{14}\\right) & 0 & 0 & 0 & 0\\\\0 & 0 & 0 & 0 & 0 & 0 & 0 & 0 & 0 & 0 & 0 & 0 & p_{16} q_{16} & p_{16} \\left(1 - q_{16}\\right) & q_{16} \\left(1 - p_{16}\\right) & \\left(1 - p_{16}\\right) \\left(1 - q_{16}\\right)\\end{array}\\right]$"
      ],
      "text/plain": [
       "Matrix([\n",
       "[  p_1*q_1,   p_1*(1 - q_1),   q_1*(1 - p_1),   (1 - p_1)*(1 - q_1),         0,               0,               0,                     0,         0,               0,               0,                     0,         0,               0,               0,                     0],\n",
       "[        0,               0,               0,                     0,   p_2*q_3,   p_2*(1 - q_3),   q_3*(1 - p_2),   (1 - p_2)*(1 - q_3),         0,               0,               0,                     0,         0,               0,               0,                     0],\n",
       "[        0,               0,               0,                     0,         0,               0,               0,                     0,   p_3*q_2,   p_3*(1 - q_2),   q_2*(1 - p_3),   (1 - p_3)*(1 - q_2),         0,               0,               0,                     0],\n",
       "[        0,               0,               0,                     0,         0,               0,               0,                     0,         0,               0,               0,                     0,   p_4*q_4,   p_4*(1 - q_4),   q_4*(1 - p_4),   (1 - p_4)*(1 - q_4)],\n",
       "[  p_5*q_9,   p_5*(1 - q_9),   q_9*(1 - p_5),   (1 - p_5)*(1 - q_9),         0,               0,               0,                     0,         0,               0,               0,                     0,         0,               0,               0,                     0],\n",
       "[        0,               0,               0,                     0,  p_6*q_11,  p_6*(1 - q_11),  q_11*(1 - p_6),  (1 - p_6)*(1 - q_11),         0,               0,               0,                     0,         0,               0,               0,                     0],\n",
       "[        0,               0,               0,                     0,         0,               0,               0,                     0,  p_7*q_10,  p_7*(1 - q_10),  q_10*(1 - p_7),  (1 - p_7)*(1 - q_10),         0,               0,               0,                     0],\n",
       "[        0,               0,               0,                     0,         0,               0,               0,                     0,         0,               0,               0,                     0,  p_8*q_12,  p_8*(1 - q_12),  q_12*(1 - p_8),  (1 - p_8)*(1 - q_12)],\n",
       "[  p_9*q_5,   p_9*(1 - q_5),   q_5*(1 - p_9),   (1 - p_9)*(1 - q_5),         0,               0,               0,                     0,         0,               0,               0,                     0,         0,               0,               0,                     0],\n",
       "[        0,               0,               0,                     0,  p_10*q_7,  p_10*(1 - q_7),  q_7*(1 - p_10),  (1 - p_10)*(1 - q_7),         0,               0,               0,                     0,         0,               0,               0,                     0],\n",
       "[        0,               0,               0,                     0,         0,               0,               0,                     0,  p_11*q_6,  p_11*(1 - q_6),  q_6*(1 - p_11),  (1 - p_11)*(1 - q_6),         0,               0,               0,                     0],\n",
       "[        0,               0,               0,                     0,         0,               0,               0,                     0,         0,               0,               0,                     0,  p_12*q_8,  p_12*(1 - q_8),  q_8*(1 - p_12),  (1 - p_12)*(1 - q_8)],\n",
       "[p_13*q_13, p_13*(1 - q_13), q_13*(1 - p_13), (1 - p_13)*(1 - q_13),         0,               0,               0,                     0,         0,               0,               0,                     0,         0,               0,               0,                     0],\n",
       "[        0,               0,               0,                     0, p_14*q_15, p_14*(1 - q_15), q_15*(1 - p_14), (1 - p_14)*(1 - q_15),         0,               0,               0,                     0,         0,               0,               0,                     0],\n",
       "[        0,               0,               0,                     0,         0,               0,               0,                     0, p_15*q_14, p_15*(1 - q_14), q_14*(1 - p_15), (1 - p_15)*(1 - q_14),         0,               0,               0,                     0],\n",
       "[        0,               0,               0,                     0,         0,               0,               0,                     0,         0,               0,               0,                     0, p_16*q_16, p_16*(1 - q_16), q_16*(1 - p_16), (1 - p_16)*(1 - q_16)]])"
      ]
     },
     "execution_count": 59,
     "metadata": {},
     "output_type": "execute_result"
    }
   ],
   "source": [
    "M2"
   ]
  },
  {
   "cell_type": "markdown",
   "metadata": {},
   "source": [
    "# Reactive Good Eq"
   ]
  },
  {
   "cell_type": "code",
   "execution_count": 104,
   "metadata": {},
   "outputs": [],
   "source": [
    "import matplotlib.pyplot as plt"
   ]
  },
  {
   "cell_type": "code",
   "execution_count": 105,
   "metadata": {},
   "outputs": [],
   "source": [
    "R, P = sym.symbols(\"R, P\")"
   ]
  },
  {
   "cell_type": "code",
   "execution_count": 106,
   "metadata": {},
   "outputs": [],
   "source": [
    "exp1 = (1 - R) / R - 1 + p_2"
   ]
  },
  {
   "cell_type": "code",
   "execution_count": 127,
   "metadata": {},
   "outputs": [
    {
     "data": {
      "image/png": "[encoded data removed]",
      "text/plain": [
       "<Figure size 432x288 with 1 Axes>"
      ]
     },
     "metadata": {
      "needs_background": "light"
     },
     "output_type": "display_data"
    }
   ],
   "source": [
    "plt.plot(np.linspace(1/2, 1, 10)[:-1],\n",
    "         [sym.solve(exp1, p_2)[0].subs({R: i}) for i in np.linspace(1/2, 1, 10)[:-1]], label='Condition 1');\n",
    "\n",
    "\n",
    "plt.plot(np.linspace(1/2, 1, 10)[:-1], \n",
    "         [sym.solve(exp2, p_2)[0].subs({R: i, P:0.3}) for i in np.linspace(1/2, 1, 10)[:-1]], label='Condition 2');\n",
    "\n",
    "plt.scatter(1 - 0.3, sym.solve(exp1, p_2)[0].subs({R: (1 - 0.3)}), color='red');\n",
    "\n",
    "plt.legend();"
   ]
  },
  {
   "cell_type": "code",
   "execution_count": 93,
   "metadata": {},
   "outputs": [],
   "source": [
    "exp2 = (1 - p_2) * (R - P) - p_2 * (1 - R)"
   ]
  },
  {
   "cell_type": "code",
   "execution_count": 116,
   "metadata": {},
   "outputs": [
    {
     "data": {
      "text/plain": [
       "[1, 1 - P]"
      ]
     },
     "execution_count": 116,
     "metadata": {},
     "output_type": "execute_result"
    }
   ],
   "source": [
    "sym.solve(sym.solve(exp1, p_2)[0] - sym.solve(exp2, p_2)[0], R)"
   ]
  },
  {
   "cell_type": "markdown",
   "metadata": {},
   "source": [
    "## Reactive Two Bits"
   ]
  },
  {
   "cell_type": "code",
   "execution_count": 220,
   "metadata": {},
   "outputs": [],
   "source": [
    "coop_ind = list(np.arange(0, 16, 4)) + list(np.arange(1, 16, 4))\n",
    "def_ind = list(np.arange(2, 16, 4)) + list(np.arange(3, 16, 4))"
   ]
  },
  {
   "cell_type": "code",
   "execution_count": 221,
   "metadata": {},
   "outputs": [],
   "source": [
    "v = np.array(sym.symbols(f\"u_1:{17}\"))"
   ]
  },
  {
   "cell_type": "code",
   "execution_count": 377,
   "metadata": {},
   "outputs": [],
   "source": [
    "ps =  np.array(sym.symbols(f\"p_1:{17}\"))"
   ]
  },
  {
   "cell_type": "code",
   "execution_count": 378,
   "metadata": {},
   "outputs": [],
   "source": [
    "pis = np.array([ps[0], ps[1], ps[0], ps[1], ps[2], ps[3], ps[2], ps[3],\n",
    "                ps[0], ps[1], ps[0], ps[1], ps[2], ps[3], ps[2], ps[3]])"
   ]
  },
  {
   "cell_type": "code",
   "execution_count": 379,
   "metadata": {},
   "outputs": [],
   "source": [
    "expr1 = sum([(1 - pis[i]) * v[i] for i in coop_ind])\n",
    "expr2 = sum([(pis[i]) * v[i] for i in def_ind])"
   ]
  },
  {
   "cell_type": "code",
   "execution_count": 398,
   "metadata": {},
   "outputs": [],
   "source": [
    "sym.init_printing(False)"
   ]
  },
  {
   "cell_type": "code",
   "execution_count": 399,
   "metadata": {},
   "outputs": [
    {
     "data": {
      "text/plain": [
       "-p_1*u_11 - p_1*u_3 - p_2*u_12 - p_2*u_4 - p_3*u_15 - p_3*u_7 - p_4*u_16 - p_4*u_8 + u_1*(1 - p_1) + u_13*(1 - p_3) + u_14*(1 - p_4) + u_5*(1 - p_3) + u_6*(1 - p_4) + u_9*(1 - p_1) + (1 - p_2)*(u_10 + u_2)"
      ]
     },
     "execution_count": 399,
     "metadata": {},
     "output_type": "execute_result"
    }
   ],
   "source": [
    "(expr1 - expr2).collect(v[9]).collect(v[1]).collect(1 - pis[1])"
   ]
  },
  {
   "cell_type": "code",
   "execution_count": 381,
   "metadata": {},
   "outputs": [
    {
     "data": {
      "text/latex": [
       "$\\displaystyle p_{1} u_{11} + p_{1} u_{3} + p_{2} u_{12} + p_{2} u_{4} + p_{3} u_{15} + p_{3} u_{7} + p_{4} u_{16} + p_{4} u_{8}$"
      ],
      "text/plain": [
       "p_1*u_11 + p_1*u_3 + p_2*u_12 + p_2*u_4 + p_3*u_15 + p_3*u_7 + p_4*u_16 + p_4*u_8"
      ]
     },
     "execution_count": 381,
     "metadata": {},
     "output_type": "execute_result"
    }
   ],
   "source": [
    "expr2"
   ]
  },
  {
   "cell_type": "code",
   "execution_count": 337,
   "metadata": {},
   "outputs": [],
   "source": [
    "relationship = (sym.solve(expr1, (1 - p_2))[0] * (v[9] + v[1]) + expr2).factor()"
   ]
  },
  {
   "cell_type": "code",
   "execution_count": 389,
   "metadata": {},
   "outputs": [],
   "source": [
    "sym.init_printing(True)"
   ]
  },
  {
   "cell_type": "code",
   "execution_count": 390,
   "metadata": {},
   "outputs": [
    {
     "data": {
      "image/png": "[encoded data removed]",
      "text/latex": [
       "$\\displaystyle p_{1} u_{1} + p_{1} u_{11} + p_{1} u_{3} + p_{1} u_{9} + p_{2} u_{12} + p_{2} u_{4} + p_{3} u_{13} + p_{3} u_{15} + p_{3} u_{5} + p_{3} u_{7} + p_{4} u_{14} + p_{4} u_{16} + p_{4} u_{6} + p_{4} u_{8} - u_{1} - u_{13} - u_{14} - u_{5} - u_{6} - u_{9}$"
      ],
      "text/plain": [
       "p₁⋅u₁ + p₁⋅u₁₁ + p₁⋅u₃ + p₁⋅u₉ + p₂⋅u₁₂ + p₂⋅u₄ + p₃⋅u₁₃ + p₃⋅u₁₅ + p₃⋅u₅ + p₃⋅u₇ + p₄⋅u₁₄ + p₄⋅u₁₆ + p₄⋅u₆ + p₄⋅u₈ - u₁ - u₁₃ - u₁₄ - u₅ - u₆ - u₉"
      ]
     },
     "execution_count": 390,
     "metadata": {},
     "output_type": "execute_result"
    }
   ],
   "source": [
    "relationship.factor()"
   ]
  },
  {
   "cell_type": "code",
   "execution_count": 361,
   "metadata": {},
   "outputs": [
    {
     "data": {
      "text/latex": [
       "$\\displaystyle \\frac{P R p_{2} - P R + R^{2} - R p_{1} u_{1} - R p_{1} u_{11} - R p_{1} u_{3} - R p_{1} u_{9} - R p_{2} u_{10} - R p_{2} u_{12} - R p_{2} u_{2} - R p_{2} u_{4} - 2 R p_{2} - R p_{3} u_{13} - R p_{3} u_{15} - R p_{3} u_{5} - R p_{3} u_{7} - R p_{4} u_{14} - R p_{4} u_{16} - R p_{4} u_{6} - R p_{4} u_{8} + R u_{1} + R u_{10} + R u_{13} + R u_{14} + R u_{2} + R u_{5} + R u_{6} + R u_{9} + 2 R - 1}{R}$"
      ],
      "text/plain": [
       "(P*R*p_2 - P*R + R**2 - R*p_1*u_1 - R*p_1*u_11 - R*p_1*u_3 - R*p_1*u_9 - R*p_2*u_10 - R*p_2*u_12 - R*p_2*u_2 - R*p_2*u_4 - 2*R*p_2 - R*p_3*u_13 - R*p_3*u_15 - R*p_3*u_5 - R*p_3*u_7 - R*p_4*u_14 - R*p_4*u_16 - R*p_4*u_6 - R*p_4*u_8 + R*u_1 + R*u_10 + R*u_13 + R*u_14 + R*u_2 + R*u_5 + R*u_6 + R*u_9 + 2*R - 1)/R"
      ]
     },
     "execution_count": 361,
     "metadata": {},
     "output_type": "execute_result"
    }
   ],
   "source": [
    "(((1 - p_2) * (v[9] + v[1]) - relationship.collect(p_1).collect(p_2).collect(p_3).collect(p_4)) - (exp1 - exp2)).factor()"
   ]
  },
  {
   "cell_type": "code",
   "execution_count": 339,
   "metadata": {},
   "outputs": [],
   "source": [
    "Sy = (R, 1, 0, P, R, 1, 0, P, R, 1, 0, P, R, 1, 0, P)"
   ]
  },
  {
   "cell_type": "code",
   "execution_count": 344,
   "metadata": {},
   "outputs": [
    {
     "data": {
      "text/latex": [
       "$\\displaystyle \\frac{P u_{12} + P u_{16} + P u_{4} + P u_{8} - R u_{11} - R u_{12} - R u_{14} - R u_{15} - R u_{16} - R u_{3} - R u_{4} - R u_{6} - R u_{7} - R u_{8} + u_{14} + u_{6}}{R - 1}$"
      ],
      "text/plain": [
       "(P*u_12 + P*u_16 + P*u_4 + P*u_8 - R*u_11 - R*u_12 - R*u_14 - R*u_15 - R*u_16 - R*u_3 - R*u_4 - R*u_6 - R*u_7 - R*u_8 + u_14 + u_6)/(R - 1)"
      ]
     },
     "execution_count": 344,
     "metadata": {},
     "output_type": "execute_result"
    }
   ],
   "source": [
    "rhs = (sym.solve((Sy @ v - R * sum(v)), (v[9] + v[1]))[0]).factor()\n",
    "# rhs = rhs * (1 - p_2)\n",
    "rhs"
   ]
  },
  {
   "cell_type": "code",
   "execution_count": 393,
   "metadata": {},
   "outputs": [
    {
     "data": {
      "image/png": "[encoded data removed]",
      "text/latex": [
       "$\\displaystyle P u_{12} + P u_{16} + P u_{4} + P u_{8} - R u_{10} - R u_{11} - R u_{12} - R u_{14} - R u_{15} - R u_{16} - R u_{2} - R u_{3} - R u_{4} - R u_{6} - R u_{7} - R u_{8} + u_{10} + u_{14} + u_{2} + u_{6}$"
      ],
      "text/plain": [
       "P⋅u₁₂ + P⋅u₁₆ + P⋅u₄ + P⋅u₈ - R⋅u₁₀ - R⋅u₁₁ - R⋅u₁₂ - R⋅u₁₄ - R⋅u₁₅ - R⋅u₁₆ - R⋅u₂ - R⋅u₃ - R⋅u₄ - R⋅u₆ - R⋅u₇ - R⋅u₈ + u₁₀ + u₁₄ + u₂ + u₆"
      ]
     },
     "execution_count": 393,
     "metadata": {},
     "output_type": "execute_result"
    }
   ],
   "source": [
    "(Sy @ v - R * sum(v)).factor()"
   ]
  },
  {
   "cell_type": "code",
   "execution_count": 347,
   "metadata": {},
   "outputs": [
    {
     "data": {
      "text/latex": [
       "$\\displaystyle R \\left(u_{11} + u_{15} + u_{3} + u_{7}\\right) + \\left(- P + R\\right) \\left(u_{12} + u_{16} + u_{4} + u_{8}\\right) + \\left(R - 1\\right) \\left(u_{14} + u_{6}\\right)$"
      ],
      "text/plain": [
       "R*(u_11 + u_15 + u_3 + u_7) + (-P + R)*(u_12 + u_16 + u_4 + u_8) + (R - 1)*(u_14 + u_6)"
      ]
     },
     "execution_count": 347,
     "metadata": {},
     "output_type": "execute_result"
    }
   ],
   "source": [
    "written = (R - 1) * (v[13] + v[5]) + (R - P) * (v[11] + v[15] + v[3] + v[7]) + R * (v[2] + v[6] + v[10] + v[14])\n",
    "written"
   ]
  },
  {
   "cell_type": "code",
   "execution_count": 350,
   "metadata": {},
   "outputs": [
    {
     "data": {
      "text/latex": [
       "$\\displaystyle 0$"
      ],
      "text/plain": [
       "0"
      ]
     },
     "execution_count": 350,
     "metadata": {},
     "output_type": "execute_result"
    }
   ],
   "source": [
    "((Sy @ v - R * sum(v)) - ((v[9] + v[1]) * (1 - R) - written)).factor()"
   ]
  },
  {
   "cell_type": "code",
   "execution_count": 351,
   "metadata": {},
   "outputs": [],
   "source": [
    "rhs = written"
   ]
  },
  {
   "cell_type": "code",
   "execution_count": 392,
   "metadata": {},
   "outputs": [
    {
     "data": {
      "image/png": "[encoded data removed]",
      "text/latex": [
       "$\\displaystyle R \\left(u_{11} + u_{15} + u_{3} + u_{7}\\right) + \\left(- P + R\\right) \\left(u_{12} + u_{16} + u_{4} + u_{8}\\right) + \\left(R - 1\\right) \\left(u_{14} + u_{6}\\right)$"
      ],
      "text/plain": [
       "R⋅(u₁₁ + u₁₅ + u₃ + u₇) + (-P + R)⋅(u₁₂ + u₁₆ + u₄ + u₈) + (R - 1)⋅(u₁₄ + u₆)"
      ]
     },
     "execution_count": 392,
     "metadata": {},
     "output_type": "execute_result"
    }
   ],
   "source": [
    "rhs"
   ]
  },
  {
   "cell_type": "code",
   "execution_count": 358,
   "metadata": {},
   "outputs": [
    {
     "data": {
      "text/latex": [
       "$\\displaystyle \\left(1 - p_{2}\\right) \\left(R \\left(u_{11} + u_{15} + u_{3} + u_{7}\\right) + \\left(- P + R\\right) \\left(u_{12} + u_{16} + u_{4} + u_{8}\\right) + \\left(R - 1\\right) \\left(u_{14} + u_{6}\\right)\\right)$"
      ],
      "text/plain": [
       "(1 - p_2)*(R*(u_11 + u_15 + u_3 + u_7) + (-P + R)*(u_12 + u_16 + u_4 + u_8) + (R - 1)*(u_14 + u_6))"
      ]
     },
     "execution_count": 358,
     "metadata": {},
     "output_type": "execute_result"
    }
   ],
   "source": [
    "rhs * (1 - p_2)"
   ]
  },
  {
   "cell_type": "code",
   "execution_count": 352,
   "metadata": {},
   "outputs": [],
   "source": [
    "lhs = relationship * (1 - R)"
   ]
  },
  {
   "cell_type": "code",
   "execution_count": 355,
   "metadata": {},
   "outputs": [
    {
     "data": {
      "text/latex": [
       "$\\displaystyle \\left(1 - R\\right) \\left(p_{1} \\left(u_{1} + u_{11} + u_{3} + u_{9}\\right) + p_{2} \\left(u_{12} + u_{4}\\right) + p_{3} \\left(u_{13} + u_{15} + u_{5} + u_{7}\\right) + p_{4} \\left(u_{14} + u_{16} + u_{6} + u_{8}\\right) - u_{1} - u_{13} - u_{14} - u_{5} - u_{6} - u_{9}\\right)$"
      ],
      "text/plain": [
       "(1 - R)*(p_1*(u_1 + u_11 + u_3 + u_9) + p_2*(u_12 + u_4) + p_3*(u_13 + u_15 + u_5 + u_7) + p_4*(u_14 + u_16 + u_6 + u_8) - u_1 - u_13 - u_14 - u_5 - u_6 - u_9)"
      ]
     },
     "execution_count": 355,
     "metadata": {},
     "output_type": "execute_result"
    }
   ],
   "source": [
    "lhs.collect(p_1).collect(p_2).collect(p_3).collect(p_4)"
   ]
  },
  {
   "cell_type": "code",
   "execution_count": 359,
   "metadata": {},
   "outputs": [
    {
     "data": {
      "text/latex": [
       "$\\displaystyle - P p_{2} u_{12} - P p_{2} u_{16} - P p_{2} u_{4} - P p_{2} u_{8} + P u_{12} + P u_{16} + P u_{4} + P u_{8} + R p_{2} u_{11} + R p_{2} u_{14} + R p_{2} u_{15} + R p_{2} u_{16} + R p_{2} u_{3} + R p_{2} u_{6} + R p_{2} u_{7} + R p_{2} u_{8} - R p_{3} u_{13} - R p_{3} u_{15} - R p_{3} u_{5} - R p_{3} u_{7} - R p_{4} u_{14} - R p_{4} u_{16} - R p_{4} u_{6} - R p_{4} u_{8} - 2 R u_{11} - R u_{12} + R u_{13} - R u_{15} - R u_{16} - 2 R u_{3} - R u_{4} + R u_{5} - R u_{7} - R u_{8} + p_{2} u_{12} - p_{2} u_{14} + p_{2} u_{4} - p_{2} u_{6} + p_{3} u_{13} + p_{3} u_{15} + p_{3} u_{5} + p_{3} u_{7} + p_{4} u_{14} + p_{4} u_{16} + p_{4} u_{6} + p_{4} u_{8} + u_{11} - u_{13} + u_{3} - u_{5}$"
      ],
      "text/plain": [
       "-P*p_2*u_12 - P*p_2*u_16 - P*p_2*u_4 - P*p_2*u_8 + P*u_12 + P*u_16 + P*u_4 + P*u_8 + R*p_2*u_11 + R*p_2*u_14 + R*p_2*u_15 + R*p_2*u_16 + R*p_2*u_3 + R*p_2*u_6 + R*p_2*u_7 + R*p_2*u_8 - R*p_3*u_13 - R*p_3*u_15 - R*p_3*u_5 - R*p_3*u_7 - R*p_4*u_14 - R*p_4*u_16 - R*p_4*u_6 - R*p_4*u_8 - 2*R*u_11 - R*u_12 + R*u_13 - R*u_15 - R*u_16 - 2*R*u_3 - R*u_4 + R*u_5 - R*u_7 - R*u_8 + p_2*u_12 - p_2*u_14 + p_2*u_4 - p_2*u_6 + p_3*u_13 + p_3*u_15 + p_3*u_5 + p_3*u_7 + p_4*u_14 + p_4*u_16 + p_4*u_6 + p_4*u_8 + u_11 - u_13 + u_3 - u_5"
      ]
     },
     "execution_count": 359,
     "metadata": {},
     "output_type": "execute_result"
    }
   ],
   "source": [
    "(lhs - rhs * (1 - p_2)).subs({p_1:1}).factor()"
   ]
  },
  {
   "cell_type": "code",
   "execution_count": 238,
   "metadata": {},
   "outputs": [
    {
     "data": {
      "text/latex": [
       "$\\displaystyle p_{2} u_{12} + p_{2} u_{4} + p_{3} u_{13} + p_{3} u_{15} + p_{3} u_{5} + p_{3} u_{7} + p_{4} u_{14} + p_{4} u_{16} + p_{4} u_{6} + p_{4} u_{8} + u_{11} - u_{13} - u_{14} + u_{3} - u_{5} - u_{6}$"
      ],
      "text/plain": [
       "p_2*u_12 + p_2*u_4 + p_3*u_13 + p_3*u_15 + p_3*u_5 + p_3*u_7 + p_4*u_14 + p_4*u_16 + p_4*u_6 + p_4*u_8 + u_11 - u_13 - u_14 + u_3 - u_5 - u_6"
      ]
     },
     "execution_count": 238,
     "metadata": {},
     "output_type": "execute_result"
    }
   ],
   "source": [
    "- (expr.subs({p_1:1}) - (1 - p_2) * (v[9] + v[1])).factor()"
   ]
  },
  {
   "cell_type": "code",
   "execution_count": 228,
   "metadata": {},
   "outputs": [
    {
     "data": {
      "text/latex": [
       "$\\displaystyle p_{2} \\left(- u_{12} - u_{4}\\right) + p_{3} \\left(- u_{13} - u_{15} - u_{5} - u_{7}\\right) + p_{4} \\left(- u_{14} - u_{16} - u_{6} - u_{8}\\right) - u_{11} + u_{13} + u_{14} - u_{3} + u_{5} + u_{6}$"
      ],
      "text/plain": [
       "p_2*(-u_12 - u_4) + p_3*(-u_13 - u_15 - u_5 - u_7) + p_4*(-u_14 - u_16 - u_6 - u_8) - u_11 + u_13 + u_14 - u_3 + u_5 + u_6"
      ]
     },
     "execution_count": 228,
     "metadata": {},
     "output_type": "execute_result"
    }
   ],
   "source": [
    "(expr.simplify()  - (1 - p_2) * (v[9] + v[1])).factor().subs({p_1: 1}).factor().collect(p_3).collect(p_4).collect(p_2)"
   ]
  },
  {
   "cell_type": "code",
   "execution_count": 229,
   "metadata": {},
   "outputs": [
    {
     "data": {
      "text/plain": [
       "16"
      ]
     },
     "execution_count": 229,
     "metadata": {},
     "output_type": "execute_result"
    }
   ],
   "source": [
    "len(v)"
   ]
  },
  {
   "cell_type": "code",
   "execution_count": 286,
   "metadata": {},
   "outputs": [
    {
     "ename": "SyntaxError",
     "evalue": "unexpected EOF while parsing (31526445.py, line 1)",
     "output_type": "error",
     "traceback": [
      "\u001b[0;36m  Input \u001b[0;32mIn [286]\u001b[0;36m\u001b[0m\n\u001b[0;31m    ((Sy @ v - R * sum(v)).factor()\u001b[0m\n\u001b[0m                                   ^\u001b[0m\n\u001b[0;31mSyntaxError\u001b[0m\u001b[0;31m:\u001b[0m unexpected EOF while parsing\n"
     ]
    }
   ],
   "source": [
    "((Sy @ v - R * sum(v)).factor()"
   ]
  },
  {
   "cell_type": "code",
   "execution_count": 231,
   "metadata": {},
   "outputs": [],
   "source": [
    "written_expr = ((v[9] + v[1]) * (1 - R) + (P - R) * (v[11] + v[15] + v[3] + v[7]) +\n",
    "                (1 - R) * (v[13] + v[5]) - R * (v[10] + v[2] + v[6] + v[14]))"
   ]
  },
  {
   "cell_type": "code",
   "execution_count": 251,
   "metadata": {},
   "outputs": [
    {
     "data": {
      "text/latex": [
       "$\\displaystyle - R \\left(u_{11} + u_{15} + u_{3} + u_{7}\\right) + \\left(1 - R\\right) \\left(u_{10} + u_{2}\\right) + \\left(1 - R\\right) \\left(u_{14} + u_{6}\\right) + \\left(P - R\\right) \\left(u_{12} + u_{16} + u_{4} + u_{8}\\right)$"
      ],
      "text/plain": [
       "-R*(u_11 + u_15 + u_3 + u_7) + (1 - R)*(u_10 + u_2) + (1 - R)*(u_14 + u_6) + (P - R)*(u_12 + u_16 + u_4 + u_8)"
      ]
     },
     "execution_count": 251,
     "metadata": {},
     "output_type": "execute_result"
    }
   ],
   "source": [
    "written_expr "
   ]
  },
  {
   "cell_type": "code",
   "execution_count": 233,
   "metadata": {},
   "outputs": [],
   "source": [
    "rhs = -((P - R) * (v[11] + v[15] + v[3] + v[7]) +\n",
    "                (1 - R) * (v[13] + v[5]) - R * (v[10] + v[2] + v[6] + v[14]))"
   ]
  },
  {
   "cell_type": "code",
   "execution_count": 235,
   "metadata": {},
   "outputs": [
    {
     "data": {
      "text/latex": [
       "$\\displaystyle \\left(1 - p_{2}\\right) \\left(R \\left(u_{11} + u_{15} + u_{3} + u_{7}\\right) - \\left(1 - R\\right) \\left(u_{14} + u_{6}\\right) - \\left(P - R\\right) \\left(u_{12} + u_{16} + u_{4} + u_{8}\\right)\\right)$"
      ],
      "text/plain": [
       "(1 - p_2)*(R*(u_11 + u_15 + u_3 + u_7) - (1 - R)*(u_14 + u_6) - (P - R)*(u_12 + u_16 + u_4 + u_8))"
      ]
     },
     "execution_count": 235,
     "metadata": {},
     "output_type": "execute_result"
    }
   ],
   "source": [
    "rhs * (1 - p_2)"
   ]
  },
  {
   "cell_type": "code",
   "execution_count": 260,
   "metadata": {},
   "outputs": [
    {
     "data": {
      "text/latex": [
       "$\\displaystyle - p_{2} u_{12} - p_{2} u_{4} - p_{3} u_{13} - p_{3} u_{15} - p_{3} u_{5} - p_{3} u_{7} - p_{4} u_{14} - p_{4} u_{16} - p_{4} u_{6} - p_{4} u_{8} - u_{11} + u_{13} + u_{14} - u_{3} + u_{5} + u_{6}$"
      ],
      "text/plain": [
       "-p_2*u_12 - p_2*u_4 - p_3*u_13 - p_3*u_15 - p_3*u_5 - p_3*u_7 - p_4*u_14 - p_4*u_16 - p_4*u_6 - p_4*u_8 - u_11 + u_13 + u_14 - u_3 + u_5 + u_6"
      ]
     },
     "execution_count": 260,
     "metadata": {},
     "output_type": "execute_result"
    }
   ],
   "source": []
  },
  {
   "cell_type": "code",
   "execution_count": 261,
   "metadata": {},
   "outputs": [],
   "source": [
    "lhs = - (expr.simplify() - (1 - p_2) * (v[9] + v[1])).factor().subs({p_1: 1}).factor()"
   ]
  },
  {
   "cell_type": "code",
   "execution_count": 268,
   "metadata": {},
   "outputs": [
    {
     "data": {
      "text/latex": [
       "$\\displaystyle 0$"
      ],
      "text/plain": [
       "0"
      ]
     },
     "execution_count": 268,
     "metadata": {},
     "output_type": "execute_result"
    }
   ],
   "source": [
    "(expr.subs({p_1:1}) + (lhs - (1 - p_2) * (v[9] + v[1]))).factor()"
   ]
  },
  {
   "cell_type": "code",
   "execution_count": 269,
   "metadata": {},
   "outputs": [
    {
     "data": {
      "text/latex": [
       "$\\displaystyle \\left(1 - R\\right) \\left(p_{2} u_{12} + p_{2} u_{4} + p_{3} u_{13} + p_{3} u_{15} + p_{3} u_{5} + p_{3} u_{7} + p_{4} u_{14} + p_{4} u_{16} + p_{4} u_{6} + p_{4} u_{8} + u_{11} - u_{13} - u_{14} + u_{3} - u_{5} - u_{6}\\right)$"
      ],
      "text/plain": [
       "(1 - R)*(p_2*u_12 + p_2*u_4 + p_3*u_13 + p_3*u_15 + p_3*u_5 + p_3*u_7 + p_4*u_14 + p_4*u_16 + p_4*u_6 + p_4*u_8 + u_11 - u_13 - u_14 + u_3 - u_5 - u_6)"
      ]
     },
     "execution_count": 269,
     "metadata": {},
     "output_type": "execute_result"
    }
   ],
   "source": [
    "lhs * (1 - R)"
   ]
  },
  {
   "cell_type": "code",
   "execution_count": 270,
   "metadata": {},
   "outputs": [
    {
     "data": {
      "text/latex": [
       "$\\displaystyle - P p_{2} u_{12} - P p_{2} u_{16} - P p_{2} u_{4} - P p_{2} u_{8} + P u_{12} + P u_{16} + P u_{4} + P u_{8} + R p_{2} u_{11} + R p_{2} u_{14} + R p_{2} u_{15} + R p_{2} u_{16} + R p_{2} u_{3} + R p_{2} u_{6} + R p_{2} u_{7} + R p_{2} u_{8} - 2 R u_{11} - R u_{12} + R u_{13} - R u_{15} - R u_{16} - 2 R u_{3} - R u_{4} + R u_{5} - R u_{7} - R u_{8} + p_{2} u_{12} - p_{2} u_{14} + p_{2} u_{4} - p_{2} u_{6} + p_{3} \\left(- R u_{13} - R u_{15} - R u_{5} - R u_{7} + u_{13} + u_{15} + u_{5} + u_{7}\\right) + p_{4} \\left(- R u_{14} - R u_{16} - R u_{6} - R u_{8} + u_{14} + u_{16} + u_{6} + u_{8}\\right) + u_{11} - u_{13} + u_{3} - u_{5}$"
      ],
      "text/plain": [
       "-P*p_2*u_12 - P*p_2*u_16 - P*p_2*u_4 - P*p_2*u_8 + P*u_12 + P*u_16 + P*u_4 + P*u_8 + R*p_2*u_11 + R*p_2*u_14 + R*p_2*u_15 + R*p_2*u_16 + R*p_2*u_3 + R*p_2*u_6 + R*p_2*u_7 + R*p_2*u_8 - 2*R*u_11 - R*u_12 + R*u_13 - R*u_15 - R*u_16 - 2*R*u_3 - R*u_4 + R*u_5 - R*u_7 - R*u_8 + p_2*u_12 - p_2*u_14 + p_2*u_4 - p_2*u_6 + p_3*(-R*u_13 - R*u_15 - R*u_5 - R*u_7 + u_13 + u_15 + u_5 + u_7) + p_4*(-R*u_14 - R*u_16 - R*u_6 - R*u_8 + u_14 + u_16 + u_6 + u_8) + u_11 - u_13 + u_3 - u_5"
      ]
     },
     "execution_count": 270,
     "metadata": {},
     "output_type": "execute_result"
    }
   ],
   "source": [
    "(lhs * (1 - R) - rhs * (1 - p_2)).factor().collect(p_3).collect(p_4)"
   ]
  },
  {
   "cell_type": "code",
   "execution_count": 250,
   "metadata": {},
   "outputs": [
    {
     "data": {
      "text/latex": [
       "$\\displaystyle 0$"
      ],
      "text/plain": [
       "0"
      ]
     },
     "execution_count": 250,
     "metadata": {},
     "output_type": "execute_result"
    }
   ],
   "source": [
    "((Sy @ v - R * sum(v)).factor() - written_expr).factor()"
   ]
  },
  {
   "cell_type": "code",
   "execution_count": 184,
   "metadata": {},
   "outputs": [
    {
     "data": {
      "text/latex": [
       "$\\displaystyle P u_{12} + P u_{16} + P u_{4} + P u_{8} - R u_{10} - R u_{11} - R u_{12} - R u_{14} - R u_{15} - R u_{16} - R u_{2} - R u_{3} - R u_{4} - R u_{6} - R u_{7} - R u_{8} + u_{10} + u_{14} + u_{2} + u_{6}$"
      ],
      "text/plain": [
       "P*u_12 + P*u_16 + P*u_4 + P*u_8 - R*u_10 - R*u_11 - R*u_12 - R*u_14 - R*u_15 - R*u_16 - R*u_2 - R*u_3 - R*u_4 - R*u_6 - R*u_7 - R*u_8 + u_10 + u_14 + u_2 + u_6"
      ]
     },
     "execution_count": 184,
     "metadata": {},
     "output_type": "execute_result"
    }
   ],
   "source": [
    "(Sy @ v - R * sum(v)).factor() "
   ]
  },
  {
   "cell_type": "code",
   "execution_count": 136,
   "metadata": {},
   "outputs": [
    {
     "data": {
      "text/latex": [
       "$\\displaystyle u_{1} + u_{10} + u_{11} + u_{12} + u_{13} + u_{14} + u_{15} + u_{16} + u_{2} + u_{3} + u_{4} + u_{5} + u_{6} + u_{7} + u_{8} + u_{9}$"
      ],
      "text/plain": [
       "u_1 + u_10 + u_11 + u_12 + u_13 + u_14 + u_15 + u_16 + u_2 + u_3 + u_4 + u_5 + u_6 + u_7 + u_8 + u_9"
      ]
     },
     "execution_count": 136,
     "metadata": {},
     "output_type": "execute_result"
    }
   ],
   "source": [
    "sum(v)"
   ]
  },
  {
   "cell_type": "code",
   "execution_count": null,
   "metadata": {},
   "outputs": [],
   "source": []
  }
 ],
 "metadata": {
  "kernelspec": {
   "display_name": "teec",
   "language": "python",
   "name": "teec"
  },
  "language_info": {
   "codemirror_mode": {
    "name": "ipython",
    "version": 3
   },
   "file_extension": ".py",
   "mimetype": "text/x-python",
   "name": "python",
   "nbconvert_exporter": "python",
   "pygments_lexer": "ipython3",
   "version": "3.8.12"
  }
 },
 "nbformat": 4,
 "nbformat_minor": 4
}
