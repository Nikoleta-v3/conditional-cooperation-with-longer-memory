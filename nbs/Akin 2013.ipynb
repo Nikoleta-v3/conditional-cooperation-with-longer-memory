{
 "cells": [
  {
   "cell_type": "code",
   "execution_count": 1,
   "metadata": {},
   "outputs": [],
   "source": [
    "import sympy as sym"
   ]
  },
  {
   "cell_type": "code",
   "execution_count": 5,
   "metadata": {},
   "outputs": [],
   "source": [
    "from importlib.machinery import SourceFileLoader\n",
    "\n",
    "main = SourceFileLoader(\n",
    "    \"main\", \"../src/main.py\"\n",
    ").load_module()\n",
    "\n",
    "from main import *"
   ]
  },
  {
   "cell_type": "code",
   "execution_count": 6,
   "metadata": {},
   "outputs": [],
   "source": [
    "import numpy as np"
   ]
  },
  {
   "cell_type": "code",
   "execution_count": 41,
   "metadata": {},
   "outputs": [],
   "source": [
    "p_1, p_2, p_3, p_4 = sym.symbols(\"p_1, p_2, p_3, p_4\")"
   ]
  },
  {
   "cell_type": "code",
   "execution_count": 42,
   "metadata": {},
   "outputs": [],
   "source": [
    "q_1, q_2, q_3, q_4 = sym.symbols(\"q_1, q_2, q_3, q_4\")"
   ]
  },
  {
   "cell_type": "code",
   "execution_count": 43,
   "metadata": {},
   "outputs": [],
   "source": [
    "p_5, p_6, p_7, p_8, p_9, p_10, p_11, p_12, p_13, p_14, p_15, p_16  = sym.symbols(\"p_5, p_6, p_7, p_8, p_9, p_10, p_11, p_12, p_13, p_14, p_15, p_16\")\n",
    "\n",
    "q_5, q_6, q_7, q_8, q_9, q_10, q_11, q_12, q_13, q_14, q_15, q_16 = sym.symbols(\"q_5, q_6, q_7, q_8, q_9, q_10, q_11, q_12, q_13, q_14, q_15, q_16\")"
   ]
  },
  {
   "cell_type": "code",
   "execution_count": 44,
   "metadata": {},
   "outputs": [],
   "source": [
    "player = [p_1, p_2, p_3, p_4]\n",
    "opponent = [q_1, q_2, q_3, q_4]"
   ]
  },
  {
   "cell_type": "code",
   "execution_count": 45,
   "metadata": {},
   "outputs": [],
   "source": [
    "player = [p_1, p_2, p_3, p_4, p_5, p_6, p_7, p_8, p_9, p_10, p_11, p_12, p_13, p_14, p_15, p_16]\n",
    "opponent = [q_1, q_2, q_3, q_4, q_5, q_6, q_7, q_8, q_9, q_10, q_11, q_12, q_13, q_14, q_15, q_16]"
   ]
  },
  {
   "cell_type": "code",
   "execution_count": 12,
   "metadata": {},
   "outputs": [],
   "source": [
    "M = sym.Matrix(\n",
    "        [\n",
    "            [\n",
    "                player[0] * opponent[0],\n",
    "                player[0] * (1 - opponent[0]),\n",
    "                opponent[0] * (1 - player[0]),\n",
    "                (1 - player[0]) * (1 - opponent[0]),\n",
    "            ],\n",
    "            [\n",
    "                opponent[2] * player[1],\n",
    "                player[1] * (1 - opponent[2]),\n",
    "                opponent[2] * (1 - player[1]),\n",
    "                (1 - opponent[2]) * (1 - player[1]),\n",
    "            ],\n",
    "            [\n",
    "                player[2] * opponent[1],\n",
    "                player[2] * (1 - opponent[1]),\n",
    "                opponent[1] * (1 - player[2]),\n",
    "                (1 - player[2]) * (1 - opponent[1]),\n",
    "            ],\n",
    "            [\n",
    "                player[3] * opponent[3],\n",
    "                player[3] * (1 - opponent[3]),\n",
    "                opponent[3] * (1 - player[3]),\n",
    "                (1 - player[3]) * (1 - opponent[3]),\n",
    "            ],\n",
    "        ],\n",
    "    )"
   ]
  },
  {
   "cell_type": "code",
   "execution_count": 13,
   "metadata": {},
   "outputs": [],
   "source": [
    "M1 = sym.Matrix(\n",
    "        [\n",
    "            [\n",
    "                player[0] * opponent[0],\n",
    "                player[0] * (1 - opponent[0]),\n",
    "                opponent[0] * (1 - player[0]),\n",
    "                (1 - player[0]) * (1 - opponent[0]),\n",
    "            ],\n",
    "            [\n",
    "                opponent[0] * player[1],\n",
    "                player[1] * (1 - opponent[0]),\n",
    "                opponent[0] * (1 - player[1]),\n",
    "                (1 - opponent[0]) * (1 - player[1]),\n",
    "            ],\n",
    "            [\n",
    "                player[0] * opponent[1],\n",
    "                player[0] * (1 - opponent[1]),\n",
    "                opponent[1] * (1 - player[0]),\n",
    "                (1 - player[0]) * (1 - opponent[1]),\n",
    "            ],\n",
    "            [\n",
    "                player[1] * opponent[1],\n",
    "                player[1] * (1 - opponent[1]),\n",
    "                opponent[1] * (1 - player[1]),\n",
    "                (1 - player[1]) * (1 - opponent[1]),\n",
    "            ],\n",
    "        ],\n",
    "    )"
   ]
  },
  {
   "cell_type": "code",
   "execution_count": 35,
   "metadata": {},
   "outputs": [],
   "source": [
    "M2 = sym.zeros(16, 16)\n",
    "\n",
    "col = 0\n",
    "row = 0\n",
    "\n",
    "for p, q in [[p_1, q_1], [p_2, q_3], [p_3, q_2], [p_4, q_4]]:\n",
    "    for i, combo in enumerate([(p * q), ((1 - q) * p), ((1 - p) * q), ((1 - p) * (1 - q))]):\n",
    "\n",
    "        M2[row, col + i] = combo\n",
    "        \n",
    "    col += 4\n",
    "    row += 1\n",
    "\n",
    "col = 0\n",
    "\n",
    "for p, q in [[p_5, q_9], [p_6, q_11], [p_7, q_10], [p_8, q_12]]:\n",
    "    for i, combo in enumerate([(p * q), ((1 - q) * p), ((1 - p) * q), ((1 - p) * (1 - q))]):\n",
    "\n",
    "        M2[row, col + i] = combo\n",
    "        \n",
    "    col += 4\n",
    "    row += 1\n",
    "    \n",
    "col = 0\n",
    "\n",
    "for p, q in [[p_9, q_5], [p_10, q_7], [p_11, q_6], [p_12, q_8]]:\n",
    "    for i, combo in enumerate([(p * q), ((1 - q) * p), ((1 - p) * q), ((1 - p) * (1 - q))]):\n",
    "\n",
    "        M2[row, col + i] = combo\n",
    "        \n",
    "    col += 4\n",
    "    row += 1\n",
    "    \n",
    "col = 0\n",
    "\n",
    "for p, q in [[p_13, q_13], [p_14, q_15], [p_15, q_14], [p_16, q_16]]:\n",
    "    for i, combo in enumerate([(p * q), ((1 - q) * p), ((1 - p) * q), ((1 - p) * (1 - q))]):\n",
    "\n",
    "        M2[row, col + i] = combo\n",
    "        \n",
    "    col += 4\n",
    "    row += 1"
   ]
  },
  {
   "cell_type": "code",
   "execution_count": 36,
   "metadata": {},
   "outputs": [
    {
     "data": {
      "text/latex": [
       "$\\displaystyle \\left[\\begin{matrix}p_{1} q_{1} & p_{1} \\left(1 - q_{1}\\right) & q_{1} \\left(1 - p_{1}\\right) & \\left(1 - p_{1}\\right) \\left(1 - q_{1}\\right)\\\\p_{2} q_{3} & p_{2} \\left(1 - q_{3}\\right) & q_{3} \\left(1 - p_{2}\\right) & \\left(1 - p_{2}\\right) \\left(1 - q_{3}\\right)\\\\p_{3} q_{2} & p_{3} \\left(1 - q_{2}\\right) & q_{2} \\left(1 - p_{3}\\right) & \\left(1 - p_{3}\\right) \\left(1 - q_{2}\\right)\\\\p_{4} q_{4} & p_{4} \\left(1 - q_{4}\\right) & q_{4} \\left(1 - p_{4}\\right) & \\left(1 - p_{4}\\right) \\left(1 - q_{4}\\right)\\end{matrix}\\right]$"
      ],
      "text/plain": [
       "Matrix([\n",
       "[p_1*q_1, p_1*(1 - q_1), q_1*(1 - p_1), (1 - p_1)*(1 - q_1)],\n",
       "[p_2*q_3, p_2*(1 - q_3), q_3*(1 - p_2), (1 - p_2)*(1 - q_3)],\n",
       "[p_3*q_2, p_3*(1 - q_2), q_2*(1 - p_3), (1 - p_3)*(1 - q_2)],\n",
       "[p_4*q_4, p_4*(1 - q_4), q_4*(1 - p_4), (1 - p_4)*(1 - q_4)]])"
      ]
     },
     "execution_count": 36,
     "metadata": {},
     "output_type": "execute_result"
    }
   ],
   "source": [
    "M"
   ]
  },
  {
   "cell_type": "code",
   "execution_count": 16,
   "metadata": {},
   "outputs": [],
   "source": [
    "ss = invariant_distribution_analytically(M)"
   ]
  },
  {
   "cell_type": "code",
   "execution_count": 17,
   "metadata": {},
   "outputs": [],
   "source": [
    "expr = (ss[0].factor() * (p_1 - 1) + ss[1].factor() * (p_2 - 1)).factor()"
   ]
  },
  {
   "cell_type": "code",
   "execution_count": 18,
   "metadata": {},
   "outputs": [],
   "source": [
    "expr2 = (ss[2].factor() * (p_3) + ss[3].factor() * (p_4)).factor()"
   ]
  },
  {
   "cell_type": "code",
   "execution_count": 19,
   "metadata": {},
   "outputs": [
    {
     "data": {
      "text/latex": [
       "$\\displaystyle 0$"
      ],
      "text/plain": [
       "0"
      ]
     },
     "execution_count": 19,
     "metadata": {},
     "output_type": "execute_result"
    }
   ],
   "source": [
    "expr + expr2"
   ]
  },
  {
   "cell_type": "markdown",
   "metadata": {},
   "source": [
    "**Numerically test the theorem**"
   ]
  },
  {
   "cell_type": "code",
   "execution_count": 20,
   "metadata": {},
   "outputs": [],
   "source": [
    "np.random.seed(1)\n",
    "\n",
    "for _ in range(100):\n",
    "    pis = np.random.random(4)\n",
    "    qis = np.random.random(4)\n",
    "\n",
    "    T = M.subs({p_1:pis[0], p_2:pis[1], p_3:pis[2], p_4:pis[3],\n",
    "                q_1:qis[0], q_2:qis[1], q_3:qis[2], q_4:qis[3]})\n",
    "    \n",
    "    T = np.array(T).astype(np.float64)\n",
    "    \n",
    "    ss = invariant_distribution(T)\n",
    "    \n",
    "    assert np.isclose(ss[0] * (pis[0] - 1) + ss[1] * (pis[1] - 1) + ss[2] * pis[2] + ss[3] * pis[3], 0)"
   ]
  },
  {
   "cell_type": "markdown",
   "metadata": {},
   "source": [
    "**Reactive case**"
   ]
  },
  {
   "cell_type": "code",
   "execution_count": 21,
   "metadata": {},
   "outputs": [],
   "source": [
    "ss = invariant_distribution_analytically(M1)"
   ]
  },
  {
   "cell_type": "code",
   "execution_count": 22,
   "metadata": {},
   "outputs": [],
   "source": [
    "lhs = (ss[0].factor() + ss[1].factor()).factor()"
   ]
  },
  {
   "cell_type": "code",
   "execution_count": 23,
   "metadata": {},
   "outputs": [],
   "source": [
    "rhs = (p_1 * (ss[0].factor() + ss[2].factor())).factor() + (p_2 * (ss[1].factor() + ss[3].factor())).factor()"
   ]
  },
  {
   "cell_type": "code",
   "execution_count": 24,
   "metadata": {},
   "outputs": [
    {
     "data": {
      "text/latex": [
       "$\\displaystyle 0$"
      ],
      "text/plain": [
       "0"
      ]
     },
     "execution_count": 24,
     "metadata": {},
     "output_type": "execute_result"
    }
   ],
   "source": [
    "(lhs - rhs).factor()"
   ]
  },
  {
   "cell_type": "code",
   "execution_count": 37,
   "metadata": {},
   "outputs": [],
   "source": [
    "c = 0.3\n",
    "b = 1\n",
    "\n",
    "for _ in range(10):\n",
    "\n",
    "    p1, p2, p3, p4, q1, q2, q3, q4 = np.random.random(8)\n",
    "\n",
    "    mOne = np.array(M.subs({p_1:p1, p_2:p2, p_3:p3, p_4:p4, q_1: q1, q_2: q2, q_3: q3, q_4: q4}), dtype=float)\n",
    "\n",
    "    mTwo = np.array(M2.subs({p_1:p1, p_2:p2, p_3:p3, p_4:p4, q_1: q1, q_2: q2, q_3: q3, q_4: q4,\n",
    "                    p_5:p1, p_6:p2, p_7:p3, p_8:p4, q_5: q1, q_6: q2, q_7: q3, q_8: q4,\n",
    "                    p_9:p1, p_10:p2, p_11:p3, p_12:p4, q_9: q1, q_10: q2, q_11: q3, q_12: q4,\n",
    "                    p_13:p1, p_14:p2, p_15:p3, p_16:p4, q_13: q1, q_14: q2, q_15: q3, q_16: q4}), dtype=float)\n",
    "\n",
    "    ss_one = invariant_distribution(mOne)\n",
    "    ss_two = invariant_distribution(mTwo)\n",
    "\n",
    "    assert np.isclose(\n",
    "        ss_one @ payoffs_vector(c, b, dim=1), ss_two @ payoffs_vector(c, b, dim=4)\n",
    "    )"
   ]
  },
  {
   "cell_type": "code",
   "execution_count": 26,
   "metadata": {},
   "outputs": [],
   "source": [
    "pis = np.random.random(16)\n",
    "qis = np.random.random(16)"
   ]
  },
  {
   "cell_type": "code",
   "execution_count": 27,
   "metadata": {},
   "outputs": [],
   "source": [
    "m2 = sym.lambdify((p_1, p_2, p_3, p_4, p_5,\n",
    "                   p_6, p_7, p_8, p_9, p_10,\n",
    "                   p_11, p_12, p_13, p_14,\n",
    "                   p_15, p_16, q_1, q_2, q_3, q_4,\n",
    "                   q_5, q_6, q_7, q_8, q_9, q_10,\n",
    "                   q_11, q_12, q_13, q_14, q_15, q_16), M2, 'numpy')"
   ]
  },
  {
   "cell_type": "code",
   "execution_count": 28,
   "metadata": {},
   "outputs": [],
   "source": [
    "np.random.seed(1)\n",
    "\n",
    "coop_ind = list(np.arange(0, 16, 4)) + list(np.arange(1, 16, 4))\n",
    "def_ind = list(np.arange(2, 16, 4)) + list(np.arange(3, 16, 4))\n",
    "\n",
    "for _ in range(100):\n",
    "    pis = np.random.random(16)\n",
    "    qis = np.random.random(16)\n",
    "    \n",
    "    x =  [*pis] + [*qis]\n",
    "    \n",
    "    ss = invariant_distribution(m2(*x))\n",
    "    \n",
    "    assert np.isclose(sum([(pis[i] - 1) * ss[i] for i in coop_ind]) + sum([(pis[i]) * ss[i] for i in def_ind]), 0)"
   ]
  },
  {
   "cell_type": "markdown",
   "metadata": {},
   "source": [
    "**Check claims**"
   ]
  },
  {
   "cell_type": "markdown",
   "metadata": {},
   "source": [
    "**One strategy can achieve R while the other does not**"
   ]
  },
  {
   "cell_type": "code",
   "execution_count": 29,
   "metadata": {},
   "outputs": [],
   "source": [
    "import axelrod as axl\n",
    "import numpy as np"
   ]
  },
  {
   "cell_type": "code",
   "execution_count": 30,
   "metadata": {},
   "outputs": [],
   "source": [
    "donation = axl.game.Game(r=.7, s=0, t=1, p=.1)"
   ]
  },
  {
   "cell_type": "code",
   "execution_count": 31,
   "metadata": {},
   "outputs": [],
   "source": [
    "p = axl.MemoryOnePlayer((1, 1, 0, 0))#0.76, 0.1, 0.4))"
   ]
  },
  {
   "cell_type": "code",
   "execution_count": 32,
   "metadata": {},
   "outputs": [],
   "source": [
    "q = axl.MemoryOnePlayer((0, 1, 1, 1))"
   ]
  },
  {
   "cell_type": "code",
   "execution_count": 33,
   "metadata": {},
   "outputs": [],
   "source": [
    "match = axl.Tournament([p, q], turns=100, game=donation, repetitions=10)"
   ]
  },
  {
   "cell_type": "code",
   "execution_count": 34,
   "metadata": {},
   "outputs": [
    {
     "name": "stderr",
     "output_type": "stream",
     "text": [
      "Playing matches: 100%|██████████████████████████████████████████████████████████████████████████████████████████████████████████████████████████████████████████████████████████████████████████████████████████████████████| 3/3 [00:00<00:00, 110.84it/s]\n",
      "Analysing: 100%|██████████████████████████████████████████████████████████████████████████████████████████████████████████████████████████████████████████████████████████████████████████████████████████████████████████| 25/25 [00:00<00:00, 259.93it/s]\n"
     ]
    }
   ],
   "source": [
    "result = match.play()"
   ]
  },
  {
   "cell_type": "code",
   "execution_count": 330,
   "metadata": {},
   "outputs": [
    {
     "data": {
      "text/plain": [
       "(0.35, 0.8500000000000009)"
      ]
     },
     "execution_count": 330,
     "metadata": {},
     "output_type": "execute_result"
    }
   ],
   "source": [
    "np.mean(result.normalised_scores[0]), np.mean(result.normalised_scores[1])"
   ]
  },
  {
   "cell_type": "code",
   "execution_count": 270,
   "metadata": {},
   "outputs": [
    {
     "data": {
      "text/plain": [
       "(0.58, 0.58)"
      ]
     },
     "execution_count": 270,
     "metadata": {},
     "output_type": "execute_result"
    }
   ],
   "source": [
    "match.final_score_per_turn()"
   ]
  },
  {
   "cell_type": "code",
   "execution_count": 336,
   "metadata": {},
   "outputs": [],
   "source": [
    "import sympy as sym"
   ]
  },
  {
   "cell_type": "code",
   "execution_count": 337,
   "metadata": {},
   "outputs": [],
   "source": [
    "p1, p2, p3, p4 = sym.symbols(\"p_1, p_2, p_3, p_4\")"
   ]
  },
  {
   "cell_type": "code",
   "execution_count": 338,
   "metadata": {},
   "outputs": [],
   "source": [
    "R, S = sym.symbols(\"R, S\")"
   ]
  },
  {
   "cell_type": "code",
   "execution_count": 344,
   "metadata": {},
   "outputs": [],
   "source": [
    "def p_3(p_2, R):\n",
    "    return ((1 - p_2) * R) / (1 - R)\n",
    "\n",
    "def p_4(p_2, R, P):\n",
    "    return ((1 - p_2) * (R - P)) / (1 - R)"
   ]
  },
  {
   "cell_type": "code",
   "execution_count": 360,
   "metadata": {},
   "outputs": [],
   "source": [
    "R = 0.6\n",
    "P = 0.2\n",
    "p_2 = 0.01"
   ]
  },
  {
   "cell_type": "code",
   "execution_count": 361,
   "metadata": {},
   "outputs": [],
   "source": [
    "donation = axl.game.Game(r=R, s=0, t=1, p=P)"
   ]
  },
  {
   "cell_type": "code",
   "execution_count": 362,
   "metadata": {},
   "outputs": [
    {
     "ename": "ValueError",
     "evalue": "An element in the probability vector, (1, 0, 1.4849999999999999, 0.9899999999999999), is not between 0 and 1.",
     "output_type": "error",
     "traceback": [
      "\u001b[0;31m---------------------------------------------------------------------------\u001b[0m",
      "\u001b[0;31mValueError\u001b[0m                                Traceback (most recent call last)",
      "Input \u001b[0;32mIn [362]\u001b[0m, in \u001b[0;36m<module>\u001b[0;34m\u001b[0m\n\u001b[0;32m----> 1\u001b[0m p \u001b[38;5;241m=\u001b[39m \u001b[43maxl\u001b[49m\u001b[38;5;241;43m.\u001b[39;49m\u001b[43mMemoryOnePlayer\u001b[49m\u001b[43m(\u001b[49m\u001b[43m(\u001b[49m\u001b[38;5;241;43m1\u001b[39;49m\u001b[43m,\u001b[49m\u001b[43m \u001b[49m\u001b[38;5;241;43m0\u001b[39;49m\u001b[43m,\u001b[49m\u001b[43m \u001b[49m\u001b[43mp_3\u001b[49m\u001b[43m(\u001b[49m\u001b[43mp_2\u001b[49m\u001b[43m,\u001b[49m\u001b[43m \u001b[49m\u001b[43mR\u001b[49m\u001b[43m)\u001b[49m\u001b[43m,\u001b[49m\u001b[43m \u001b[49m\u001b[43mp_4\u001b[49m\u001b[43m(\u001b[49m\u001b[43mp_2\u001b[49m\u001b[43m,\u001b[49m\u001b[43m \u001b[49m\u001b[43mR\u001b[49m\u001b[43m,\u001b[49m\u001b[43m \u001b[49m\u001b[43mP\u001b[49m\u001b[43m)\u001b[49m\u001b[43m)\u001b[49m\u001b[43m)\u001b[49m\n",
      "File \u001b[0;32m~/src/AllAxelrod/Axelrod/axelrod/player.py:64\u001b[0m, in \u001b[0;36mPostInitCaller.__call__\u001b[0;34m(cls, *args, **kwargs)\u001b[0m\n\u001b[1;32m     62\u001b[0m \u001b[38;5;28;01mdef\u001b[39;00m \u001b[38;5;21m__call__\u001b[39m(\u001b[38;5;28mcls\u001b[39m, \u001b[38;5;241m*\u001b[39margs, \u001b[38;5;241m*\u001b[39m\u001b[38;5;241m*\u001b[39mkwargs):\n\u001b[1;32m     63\u001b[0m     \u001b[38;5;66;03m# This calls cls.__new__ and cls.__init__\u001b[39;00m\n\u001b[0;32m---> 64\u001b[0m     obj \u001b[38;5;241m=\u001b[39m \u001b[38;5;28;43mtype\u001b[39;49m\u001b[38;5;241;43m.\u001b[39;49m\u001b[38;5;21;43m__call__\u001b[39;49m\u001b[43m(\u001b[49m\u001b[38;5;28;43mcls\u001b[39;49m\u001b[43m,\u001b[49m\u001b[43m \u001b[49m\u001b[38;5;241;43m*\u001b[39;49m\u001b[43margs\u001b[49m\u001b[43m,\u001b[49m\u001b[43m \u001b[49m\u001b[38;5;241;43m*\u001b[39;49m\u001b[38;5;241;43m*\u001b[39;49m\u001b[43mkwargs\u001b[49m\u001b[43m)\u001b[49m\n\u001b[1;32m     65\u001b[0m     \u001b[38;5;66;03m# Next we do any post init or post transform tasks, like recomputing\u001b[39;00m\n\u001b[1;32m     66\u001b[0m     \u001b[38;5;66;03m# classifiers\u001b[39;00m\n\u001b[1;32m     67\u001b[0m     \u001b[38;5;66;03m# Note that subclasses inherit the metaclass, and subclasses my override\u001b[39;00m\n\u001b[1;32m     68\u001b[0m     \u001b[38;5;66;03m# or extend __init__ so it's necessary to do these tasks after all the\u001b[39;00m\n\u001b[1;32m     69\u001b[0m     \u001b[38;5;66;03m# __init__'s have run in the case of a post-transform reclassification.\u001b[39;00m\n\u001b[1;32m     70\u001b[0m     obj\u001b[38;5;241m.\u001b[39m_post_init()\n",
      "File \u001b[0;32m~/src/AllAxelrod/Axelrod/axelrod/strategies/memoryone.py:97\u001b[0m, in \u001b[0;36mMemoryOnePlayer.__init__\u001b[0;34m(self, four_vector, initial)\u001b[0m\n\u001b[1;32m     95\u001b[0m \u001b[38;5;28msuper\u001b[39m()\u001b[38;5;241m.\u001b[39m\u001b[38;5;21m__init__\u001b[39m()\n\u001b[1;32m     96\u001b[0m \u001b[38;5;28mself\u001b[39m\u001b[38;5;241m.\u001b[39m_initial \u001b[38;5;241m=\u001b[39m initial\n\u001b[0;32m---> 97\u001b[0m \u001b[38;5;28;43mself\u001b[39;49m\u001b[38;5;241;43m.\u001b[39;49m\u001b[43mset_initial_four_vector\u001b[49m\u001b[43m(\u001b[49m\u001b[43mfour_vector\u001b[49m\u001b[43m)\u001b[49m\n",
      "File \u001b[0;32m~/src/AllAxelrod/Axelrod/axelrod/strategies/memoryone.py:104\u001b[0m, in \u001b[0;36mMemoryOnePlayer.set_initial_four_vector\u001b[0;34m(self, four_vector)\u001b[0m\n\u001b[1;32m    101\u001b[0m     four_vector \u001b[38;5;241m=\u001b[39m (\u001b[38;5;241m1\u001b[39m, \u001b[38;5;241m0\u001b[39m, \u001b[38;5;241m0\u001b[39m, \u001b[38;5;241m1\u001b[39m)\n\u001b[1;32m    102\u001b[0m     warnings\u001b[38;5;241m.\u001b[39mwarn(\u001b[38;5;124m\"\u001b[39m\u001b[38;5;124mMemory one player is set to default (1, 0, 0, 1).\u001b[39m\u001b[38;5;124m\"\u001b[39m)\n\u001b[0;32m--> 104\u001b[0m \u001b[38;5;28;43mself\u001b[39;49m\u001b[38;5;241;43m.\u001b[39;49m\u001b[43mset_four_vector\u001b[49m\u001b[43m(\u001b[49m\u001b[43mfour_vector\u001b[49m\u001b[43m)\u001b[49m\n",
      "File \u001b[0;32m~/src/AllAxelrod/Axelrod/axelrod/strategies/memoryone.py:108\u001b[0m, in \u001b[0;36mMemoryOnePlayer.set_four_vector\u001b[0;34m(self, four_vector)\u001b[0m\n\u001b[1;32m    106\u001b[0m \u001b[38;5;28;01mdef\u001b[39;00m \u001b[38;5;21mset_four_vector\u001b[39m(\u001b[38;5;28mself\u001b[39m, four_vector: Tuple[\u001b[38;5;28mfloat\u001b[39m, \u001b[38;5;28mfloat\u001b[39m, \u001b[38;5;28mfloat\u001b[39m, \u001b[38;5;28mfloat\u001b[39m]):\n\u001b[1;32m    107\u001b[0m     \u001b[38;5;28;01mif\u001b[39;00m \u001b[38;5;129;01mnot\u001b[39;00m \u001b[38;5;28mall\u001b[39m(\u001b[38;5;241m0\u001b[39m \u001b[38;5;241m<\u001b[39m\u001b[38;5;241m=\u001b[39m p \u001b[38;5;241m<\u001b[39m\u001b[38;5;241m=\u001b[39m \u001b[38;5;241m1\u001b[39m \u001b[38;5;28;01mfor\u001b[39;00m p \u001b[38;5;129;01min\u001b[39;00m four_vector):\n\u001b[0;32m--> 108\u001b[0m         \u001b[38;5;28;01mraise\u001b[39;00m \u001b[38;5;167;01mValueError\u001b[39;00m(\n\u001b[1;32m    109\u001b[0m             \u001b[38;5;124m\"\u001b[39m\u001b[38;5;124mAn element in the probability vector, \u001b[39m\u001b[38;5;132;01m{}\u001b[39;00m\u001b[38;5;124m, is not \u001b[39m\u001b[38;5;124m\"\u001b[39m\n\u001b[1;32m    110\u001b[0m             \u001b[38;5;124m\"\u001b[39m\u001b[38;5;124mbetween 0 and 1.\u001b[39m\u001b[38;5;124m\"\u001b[39m\u001b[38;5;241m.\u001b[39mformat(\u001b[38;5;28mstr\u001b[39m(four_vector))\n\u001b[1;32m    111\u001b[0m         )\n\u001b[1;32m    112\u001b[0m     \u001b[38;5;28mself\u001b[39m\u001b[38;5;241m.\u001b[39m_four_vector \u001b[38;5;241m=\u001b[39m \u001b[38;5;28mdict\u001b[39m(\u001b[38;5;28mzip\u001b[39m([(C, C), (C, D), (D, C), (D, D)], four_vector))\n",
      "\u001b[0;31mValueError\u001b[0m: An element in the probability vector, (1, 0, 1.4849999999999999, 0.9899999999999999), is not between 0 and 1."
     ]
    }
   ],
   "source": [
    "p = axl.MemoryOnePlayer((1, 0, p_3(p_2, R), p_4(p_2, R, P)))#0.76, 0.1, 0.4))"
   ]
  },
  {
   "cell_type": "code",
   "execution_count": 348,
   "metadata": {},
   "outputs": [],
   "source": [
    "match = axl.Tournament([p, q], turns=100, game=donation, repetitions=10)"
   ]
  },
  {
   "cell_type": "code",
   "execution_count": 349,
   "metadata": {},
   "outputs": [
    {
     "name": "stderr",
     "output_type": "stream",
     "text": [
      "Playing matches: 100%|██████████████████████████████████████████████████████████████████████████████████████████████████████████████████████████████████████████████████████████████████████████████████████████████████████████| 3/3 [00:00<00:00, 63.95it/s]\n",
      "Analysing: 100%|█████████████████████████████████████████████████████████████████████████████████████████████████████████████████████████████████████████████████████████████████████████████████████████████████████████████| 25/25 [00:00<00:00, 265.34it/s]\n"
     ]
    }
   ],
   "source": [
    "result = match.play()"
   ]
  },
  {
   "cell_type": "code",
   "execution_count": 350,
   "metadata": {},
   "outputs": [
    {
     "data": {
      "text/plain": [
       "(0.6051999999999997, 0.3012000000000001)"
      ]
     },
     "execution_count": 350,
     "metadata": {},
     "output_type": "execute_result"
    }
   ],
   "source": [
    "np.mean(result.normalised_scores[0]), np.mean(result.normalised_scores[1])"
   ]
  },
  {
   "cell_type": "code",
   "execution_count": 303,
   "metadata": {},
   "outputs": [],
   "source": [
    "## Tit For Tat vs Tit For Tat"
   ]
  },
  {
   "cell_type": "code",
   "execution_count": 312,
   "metadata": {},
   "outputs": [],
   "source": [
    "t = axl.MemoryOnePlayer((0, 0, 0, 1))\n",
    "f = axl.MemoryOnePlayer((0, 0, 0, 1))"
   ]
  },
  {
   "cell_type": "code",
   "execution_count": 313,
   "metadata": {},
   "outputs": [],
   "source": [
    "match = axl.Match([t, f], turns=10)"
   ]
  },
  {
   "cell_type": "code",
   "execution_count": 314,
   "metadata": {},
   "outputs": [],
   "source": [
    "_ = match.play()"
   ]
  },
  {
   "cell_type": "code",
   "execution_count": 315,
   "metadata": {},
   "outputs": [
    {
     "data": {
      "text/plain": [
       "[(C, C),\n",
       " (D, D),\n",
       " (C, C),\n",
       " (D, D),\n",
       " (C, C),\n",
       " (D, D),\n",
       " (C, C),\n",
       " (D, D),\n",
       " (C, C),\n",
       " (D, D)]"
      ]
     },
     "execution_count": 315,
     "metadata": {},
     "output_type": "execute_result"
    }
   ],
   "source": [
    "match.result"
   ]
  },
  {
   "cell_type": "code",
   "execution_count": 56,
   "metadata": {},
   "outputs": [],
   "source": [
    "def calculate_M_memory_two(player, coplayer):\n",
    "    \n",
    "    p1, p2, p3, p4, p5, p6, p7, p8, p9, p10, p11, p12, p13, p14, p15, p16 = player\n",
    "    q1, q2, q3, q4, q5, q6, q7, q8, q9, q10, q11, q12, q13, q14, q15, q16 = coplayer\n",
    "\n",
    "    M = sym.zeros(16, 16)\n",
    "\n",
    "    col, row = 0, 0\n",
    "\n",
    "    for p, q in [[p1, q1], [p2, q3], [p3, q2], [p4, q4]]:\n",
    "        for i, combo in enumerate([(p * q), ((1 - q) * p), ((1 - p) * q), ((1 - p) * (1 - q))]):\n",
    "\n",
    "            M[row, col + i] = combo\n",
    "\n",
    "        col += 4\n",
    "        row += 1\n",
    "\n",
    "    col = 0\n",
    "    for p, q in [[p5, q9], [p6, q11], [p7, q10], [p8, q12]]:\n",
    "        for i, combo in enumerate([(p * q), ((1 - q) * p), ((1 - p) * q), ((1 - p) * (1 - q))]):\n",
    "\n",
    "            M[row, col + i] = combo\n",
    "\n",
    "        col +g= 4\n",
    "        row += 1\n",
    "\n",
    "    col = 0\n",
    "    for p, q in [[p9, q5], [p10, q7], [p11, q6], [p12, q8]]:\n",
    "        for i, combo in enumerate([(p * q), ((1 - q) * p), ((1 - p) * q), ((1 - p) * (1 - q))]):\n",
    "\n",
    "            M[row, col + i] = combo\n",
    "\n",
    "        col += 4\n",
    "        row += 1\n",
    "\n",
    "    col = 0\n",
    "    for p, q in [[p13, q13], [p14, q15], [p15, q14], [p16, q16]]:\n",
    "        for i, combo in enumerate([(p * q), ((1 - q) * p), ((1 - p) * q), ((1 - p) * (1 - q))]):\n",
    "\n",
    "            M[row, col + i] = combo\n",
    "\n",
    "        col += 4\n",
    "        row += 1\n",
    "        \n",
    "    return M"
   ]
  },
  {
   "cell_type": "code",
   "execution_count": 60,
   "metadata": {},
   "outputs": [
    {
     "data": {
      "text/latex": [
       "$\\displaystyle \\left[\\begin{array}{cccccccccccccccc}p_{1} q_{1} & p_{1} \\left(1 - q_{1}\\right) & q_{1} \\left(1 - p_{1}\\right) & \\left(1 - p_{1}\\right) \\left(1 - q_{1}\\right) & 0 & 0 & 0 & 0 & 0 & 0 & 0 & 0 & 0 & 0 & 0 & 0\\\\0 & 0 & 0 & 0 & p_{2} q_{3} & p_{2} \\left(1 - q_{3}\\right) & q_{3} \\left(1 - p_{2}\\right) & \\left(1 - p_{2}\\right) \\left(1 - q_{3}\\right) & 0 & 0 & 0 & 0 & 0 & 0 & 0 & 0\\\\0 & 0 & 0 & 0 & 0 & 0 & 0 & 0 & p_{3} q_{2} & p_{3} \\left(1 - q_{2}\\right) & q_{2} \\left(1 - p_{3}\\right) & \\left(1 - p_{3}\\right) \\left(1 - q_{2}\\right) & 0 & 0 & 0 & 0\\\\0 & 0 & 0 & 0 & 0 & 0 & 0 & 0 & 0 & 0 & 0 & 0 & p_{4} q_{4} & p_{4} \\left(1 - q_{4}\\right) & q_{4} \\left(1 - p_{4}\\right) & \\left(1 - p_{4}\\right) \\left(1 - q_{4}\\right)\\\\p_{5} q_{9} & p_{5} \\left(1 - q_{9}\\right) & q_{9} \\left(1 - p_{5}\\right) & \\left(1 - p_{5}\\right) \\left(1 - q_{9}\\right) & 0 & 0 & 0 & 0 & 0 & 0 & 0 & 0 & 0 & 0 & 0 & 0\\\\0 & 0 & 0 & 0 & p_{6} q_{11} & p_{6} \\left(1 - q_{11}\\right) & q_{11} \\left(1 - p_{6}\\right) & \\left(1 - p_{6}\\right) \\left(1 - q_{11}\\right) & 0 & 0 & 0 & 0 & 0 & 0 & 0 & 0\\\\0 & 0 & 0 & 0 & 0 & 0 & 0 & 0 & p_{7} q_{10} & p_{7} \\left(1 - q_{10}\\right) & q_{10} \\left(1 - p_{7}\\right) & \\left(1 - p_{7}\\right) \\left(1 - q_{10}\\right) & 0 & 0 & 0 & 0\\\\0 & 0 & 0 & 0 & 0 & 0 & 0 & 0 & 0 & 0 & 0 & 0 & p_{8} q_{12} & p_{8} \\left(1 - q_{12}\\right) & q_{12} \\left(1 - p_{8}\\right) & \\left(1 - p_{8}\\right) \\left(1 - q_{12}\\right)\\\\p_{9} q_{5} & p_{9} \\left(1 - q_{5}\\right) & q_{5} \\left(1 - p_{9}\\right) & \\left(1 - p_{9}\\right) \\left(1 - q_{5}\\right) & 0 & 0 & 0 & 0 & 0 & 0 & 0 & 0 & 0 & 0 & 0 & 0\\\\0 & 0 & 0 & 0 & p_{10} q_{7} & p_{10} \\left(1 - q_{7}\\right) & q_{7} \\left(1 - p_{10}\\right) & \\left(1 - p_{10}\\right) \\left(1 - q_{7}\\right) & 0 & 0 & 0 & 0 & 0 & 0 & 0 & 0\\\\0 & 0 & 0 & 0 & 0 & 0 & 0 & 0 & p_{11} q_{6} & p_{11} \\left(1 - q_{6}\\right) & q_{6} \\left(1 - p_{11}\\right) & \\left(1 - p_{11}\\right) \\left(1 - q_{6}\\right) & 0 & 0 & 0 & 0\\\\0 & 0 & 0 & 0 & 0 & 0 & 0 & 0 & 0 & 0 & 0 & 0 & p_{12} q_{8} & p_{12} \\left(1 - q_{8}\\right) & q_{8} \\left(1 - p_{12}\\right) & \\left(1 - p_{12}\\right) \\left(1 - q_{8}\\right)\\\\p_{13} q_{13} & p_{13} \\left(1 - q_{13}\\right) & q_{13} \\left(1 - p_{13}\\right) & \\left(1 - p_{13}\\right) \\left(1 - q_{13}\\right) & 0 & 0 & 0 & 0 & 0 & 0 & 0 & 0 & 0 & 0 & 0 & 0\\\\0 & 0 & 0 & 0 & p_{14} q_{15} & p_{14} \\left(1 - q_{15}\\right) & q_{15} \\left(1 - p_{14}\\right) & \\left(1 - p_{14}\\right) \\left(1 - q_{15}\\right) & 0 & 0 & 0 & 0 & 0 & 0 & 0 & 0\\\\0 & 0 & 0 & 0 & 0 & 0 & 0 & 0 & p_{15} q_{14} & p_{15} \\left(1 - q_{14}\\right) & q_{14} \\left(1 - p_{15}\\right) & \\left(1 - p_{15}\\right) \\left(1 - q_{14}\\right) & 0 & 0 & 0 & 0\\\\0 & 0 & 0 & 0 & 0 & 0 & 0 & 0 & 0 & 0 & 0 & 0 & p_{16} q_{16} & p_{16} \\left(1 - q_{16}\\right) & q_{16} \\left(1 - p_{16}\\right) & \\left(1 - p_{16}\\right) \\left(1 - q_{16}\\right)\\end{array}\\right]$"
      ],
      "text/plain": [
       "Matrix([\n",
       "[  p_1*q_1,   p_1*(1 - q_1),   q_1*(1 - p_1),   (1 - p_1)*(1 - q_1),         0,               0,               0,                     0,         0,               0,               0,                     0,         0,               0,               0,                     0],\n",
       "[        0,               0,               0,                     0,   p_2*q_3,   p_2*(1 - q_3),   q_3*(1 - p_2),   (1 - p_2)*(1 - q_3),         0,               0,               0,                     0,         0,               0,               0,                     0],\n",
       "[        0,               0,               0,                     0,         0,               0,               0,                     0,   p_3*q_2,   p_3*(1 - q_2),   q_2*(1 - p_3),   (1 - p_3)*(1 - q_2),         0,               0,               0,                     0],\n",
       "[        0,               0,               0,                     0,         0,               0,               0,                     0,         0,               0,               0,                     0,   p_4*q_4,   p_4*(1 - q_4),   q_4*(1 - p_4),   (1 - p_4)*(1 - q_4)],\n",
       "[  p_5*q_9,   p_5*(1 - q_9),   q_9*(1 - p_5),   (1 - p_5)*(1 - q_9),         0,               0,               0,                     0,         0,               0,               0,                     0,         0,               0,               0,                     0],\n",
       "[        0,               0,               0,                     0,  p_6*q_11,  p_6*(1 - q_11),  q_11*(1 - p_6),  (1 - p_6)*(1 - q_11),         0,               0,               0,                     0,         0,               0,               0,                     0],\n",
       "[        0,               0,               0,                     0,         0,               0,               0,                     0,  p_7*q_10,  p_7*(1 - q_10),  q_10*(1 - p_7),  (1 - p_7)*(1 - q_10),         0,               0,               0,                     0],\n",
       "[        0,               0,               0,                     0,         0,               0,               0,                     0,         0,               0,               0,                     0,  p_8*q_12,  p_8*(1 - q_12),  q_12*(1 - p_8),  (1 - p_8)*(1 - q_12)],\n",
       "[  p_9*q_5,   p_9*(1 - q_5),   q_5*(1 - p_9),   (1 - p_9)*(1 - q_5),         0,               0,               0,                     0,         0,               0,               0,                     0,         0,               0,               0,                     0],\n",
       "[        0,               0,               0,                     0,  p_10*q_7,  p_10*(1 - q_7),  q_7*(1 - p_10),  (1 - p_10)*(1 - q_7),         0,               0,               0,                     0,         0,               0,               0,                     0],\n",
       "[        0,               0,               0,                     0,         0,               0,               0,                     0,  p_11*q_6,  p_11*(1 - q_6),  q_6*(1 - p_11),  (1 - p_11)*(1 - q_6),         0,               0,               0,                     0],\n",
       "[        0,               0,               0,                     0,         0,               0,               0,                     0,         0,               0,               0,                     0,  p_12*q_8,  p_12*(1 - q_8),  q_8*(1 - p_12),  (1 - p_12)*(1 - q_8)],\n",
       "[p_13*q_13, p_13*(1 - q_13), q_13*(1 - p_13), (1 - p_13)*(1 - q_13),         0,               0,               0,                     0,         0,               0,               0,                     0,         0,               0,               0,                     0],\n",
       "[        0,               0,               0,                     0, p_14*q_15, p_14*(1 - q_15), q_15*(1 - p_14), (1 - p_14)*(1 - q_15),         0,               0,               0,                     0,         0,               0,               0,                     0],\n",
       "[        0,               0,               0,                     0,         0,               0,               0,                     0, p_15*q_14, p_15*(1 - q_14), q_14*(1 - p_15), (1 - p_15)*(1 - q_14),         0,               0,               0,                     0],\n",
       "[        0,               0,               0,                     0,         0,               0,               0,                     0,         0,               0,               0,                     0, p_16*q_16, p_16*(1 - q_16), q_16*(1 - p_16), (1 - p_16)*(1 - q_16)]])"
      ]
     },
     "execution_count": 60,
     "metadata": {},
     "output_type": "execute_result"
    }
   ],
   "source": [
    "calculate_M_memory_two(player, opponent)"
   ]
  },
  {
   "cell_type": "code",
   "execution_count": 59,
   "metadata": {},
   "outputs": [
    {
     "data": {
      "text/latex": [
       "$\\displaystyle \\left[\\begin{array}{cccccccccccccccc}p_{1} q_{1} & p_{1} \\left(1 - q_{1}\\right) & q_{1} \\left(1 - p_{1}\\right) & \\left(1 - p_{1}\\right) \\left(1 - q_{1}\\right) & 0 & 0 & 0 & 0 & 0 & 0 & 0 & 0 & 0 & 0 & 0 & 0\\\\0 & 0 & 0 & 0 & p_{2} q_{3} & p_{2} \\left(1 - q_{3}\\right) & q_{3} \\left(1 - p_{2}\\right) & \\left(1 - p_{2}\\right) \\left(1 - q_{3}\\right) & 0 & 0 & 0 & 0 & 0 & 0 & 0 & 0\\\\0 & 0 & 0 & 0 & 0 & 0 & 0 & 0 & p_{3} q_{2} & p_{3} \\left(1 - q_{2}\\right) & q_{2} \\left(1 - p_{3}\\right) & \\left(1 - p_{3}\\right) \\left(1 - q_{2}\\right) & 0 & 0 & 0 & 0\\\\0 & 0 & 0 & 0 & 0 & 0 & 0 & 0 & 0 & 0 & 0 & 0 & p_{4} q_{4} & p_{4} \\left(1 - q_{4}\\right) & q_{4} \\left(1 - p_{4}\\right) & \\left(1 - p_{4}\\right) \\left(1 - q_{4}\\right)\\\\p_{5} q_{9} & p_{5} \\left(1 - q_{9}\\right) & q_{9} \\left(1 - p_{5}\\right) & \\left(1 - p_{5}\\right) \\left(1 - q_{9}\\right) & 0 & 0 & 0 & 0 & 0 & 0 & 0 & 0 & 0 & 0 & 0 & 0\\\\0 & 0 & 0 & 0 & p_{6} q_{11} & p_{6} \\left(1 - q_{11}\\right) & q_{11} \\left(1 - p_{6}\\right) & \\left(1 - p_{6}\\right) \\left(1 - q_{11}\\right) & 0 & 0 & 0 & 0 & 0 & 0 & 0 & 0\\\\0 & 0 & 0 & 0 & 0 & 0 & 0 & 0 & p_{7} q_{10} & p_{7} \\left(1 - q_{10}\\right) & q_{10} \\left(1 - p_{7}\\right) & \\left(1 - p_{7}\\right) \\left(1 - q_{10}\\right) & 0 & 0 & 0 & 0\\\\0 & 0 & 0 & 0 & 0 & 0 & 0 & 0 & 0 & 0 & 0 & 0 & p_{8} q_{12} & p_{8} \\left(1 - q_{12}\\right) & q_{12} \\left(1 - p_{8}\\right) & \\left(1 - p_{8}\\right) \\left(1 - q_{12}\\right)\\\\p_{9} q_{5} & p_{9} \\left(1 - q_{5}\\right) & q_{5} \\left(1 - p_{9}\\right) & \\left(1 - p_{9}\\right) \\left(1 - q_{5}\\right) & 0 & 0 & 0 & 0 & 0 & 0 & 0 & 0 & 0 & 0 & 0 & 0\\\\0 & 0 & 0 & 0 & p_{10} q_{7} & p_{10} \\left(1 - q_{7}\\right) & q_{7} \\left(1 - p_{10}\\right) & \\left(1 - p_{10}\\right) \\left(1 - q_{7}\\right) & 0 & 0 & 0 & 0 & 0 & 0 & 0 & 0\\\\0 & 0 & 0 & 0 & 0 & 0 & 0 & 0 & p_{11} q_{6} & p_{11} \\left(1 - q_{6}\\right) & q_{6} \\left(1 - p_{11}\\right) & \\left(1 - p_{11}\\right) \\left(1 - q_{6}\\right) & 0 & 0 & 0 & 0\\\\0 & 0 & 0 & 0 & 0 & 0 & 0 & 0 & 0 & 0 & 0 & 0 & p_{12} q_{8} & p_{12} \\left(1 - q_{8}\\right) & q_{8} \\left(1 - p_{12}\\right) & \\left(1 - p_{12}\\right) \\left(1 - q_{8}\\right)\\\\p_{13} q_{13} & p_{13} \\left(1 - q_{13}\\right) & q_{13} \\left(1 - p_{13}\\right) & \\left(1 - p_{13}\\right) \\left(1 - q_{13}\\right) & 0 & 0 & 0 & 0 & 0 & 0 & 0 & 0 & 0 & 0 & 0 & 0\\\\0 & 0 & 0 & 0 & p_{14} q_{15} & p_{14} \\left(1 - q_{15}\\right) & q_{15} \\left(1 - p_{14}\\right) & \\left(1 - p_{14}\\right) \\left(1 - q_{15}\\right) & 0 & 0 & 0 & 0 & 0 & 0 & 0 & 0\\\\0 & 0 & 0 & 0 & 0 & 0 & 0 & 0 & p_{15} q_{14} & p_{15} \\left(1 - q_{14}\\right) & q_{14} \\left(1 - p_{15}\\right) & \\left(1 - p_{15}\\right) \\left(1 - q_{14}\\right) & 0 & 0 & 0 & 0\\\\0 & 0 & 0 & 0 & 0 & 0 & 0 & 0 & 0 & 0 & 0 & 0 & p_{16} q_{16} & p_{16} \\left(1 - q_{16}\\right) & q_{16} \\left(1 - p_{16}\\right) & \\left(1 - p_{16}\\right) \\left(1 - q_{16}\\right)\\end{array}\\right]$"
      ],
      "text/plain": [
       "Matrix([\n",
       "[  p_1*q_1,   p_1*(1 - q_1),   q_1*(1 - p_1),   (1 - p_1)*(1 - q_1),         0,               0,               0,                     0,         0,               0,               0,                     0,         0,               0,               0,                     0],\n",
       "[        0,               0,               0,                     0,   p_2*q_3,   p_2*(1 - q_3),   q_3*(1 - p_2),   (1 - p_2)*(1 - q_3),         0,               0,               0,                     0,         0,               0,               0,                     0],\n",
       "[        0,               0,               0,                     0,         0,               0,               0,                     0,   p_3*q_2,   p_3*(1 - q_2),   q_2*(1 - p_3),   (1 - p_3)*(1 - q_2),         0,               0,               0,                     0],\n",
       "[        0,               0,               0,                     0,         0,               0,               0,                     0,         0,               0,               0,                     0,   p_4*q_4,   p_4*(1 - q_4),   q_4*(1 - p_4),   (1 - p_4)*(1 - q_4)],\n",
       "[  p_5*q_9,   p_5*(1 - q_9),   q_9*(1 - p_5),   (1 - p_5)*(1 - q_9),         0,               0,               0,                     0,         0,               0,               0,                     0,         0,               0,               0,                     0],\n",
       "[        0,               0,               0,                     0,  p_6*q_11,  p_6*(1 - q_11),  q_11*(1 - p_6),  (1 - p_6)*(1 - q_11),         0,               0,               0,                     0,         0,               0,               0,                     0],\n",
       "[        0,               0,               0,                     0,         0,               0,               0,                     0,  p_7*q_10,  p_7*(1 - q_10),  q_10*(1 - p_7),  (1 - p_7)*(1 - q_10),         0,               0,               0,                     0],\n",
       "[        0,               0,               0,                     0,         0,               0,               0,                     0,         0,               0,               0,                     0,  p_8*q_12,  p_8*(1 - q_12),  q_12*(1 - p_8),  (1 - p_8)*(1 - q_12)],\n",
       "[  p_9*q_5,   p_9*(1 - q_5),   q_5*(1 - p_9),   (1 - p_9)*(1 - q_5),         0,               0,               0,                     0,         0,               0,               0,                     0,         0,               0,               0,                     0],\n",
       "[        0,               0,               0,                     0,  p_10*q_7,  p_10*(1 - q_7),  q_7*(1 - p_10),  (1 - p_10)*(1 - q_7),         0,               0,               0,                     0,         0,               0,               0,                     0],\n",
       "[        0,               0,               0,                     0,         0,               0,               0,                     0,  p_11*q_6,  p_11*(1 - q_6),  q_6*(1 - p_11),  (1 - p_11)*(1 - q_6),         0,               0,               0,                     0],\n",
       "[        0,               0,               0,                     0,         0,               0,               0,                     0,         0,               0,               0,                     0,  p_12*q_8,  p_12*(1 - q_8),  q_8*(1 - p_12),  (1 - p_12)*(1 - q_8)],\n",
       "[p_13*q_13, p_13*(1 - q_13), q_13*(1 - p_13), (1 - p_13)*(1 - q_13),         0,               0,               0,                     0,         0,               0,               0,                     0,         0,               0,               0,                     0],\n",
       "[        0,               0,               0,                     0, p_14*q_15, p_14*(1 - q_15), q_15*(1 - p_14), (1 - p_14)*(1 - q_15),         0,               0,               0,                     0,         0,               0,               0,                     0],\n",
       "[        0,               0,               0,                     0,         0,               0,               0,                     0, p_15*q_14, p_15*(1 - q_14), q_14*(1 - p_15), (1 - p_15)*(1 - q_14),         0,               0,               0,                     0],\n",
       "[        0,               0,               0,                     0,         0,               0,               0,                     0,         0,               0,               0,                     0, p_16*q_16, p_16*(1 - q_16), q_16*(1 - p_16), (1 - p_16)*(1 - q_16)]])"
      ]
     },
     "execution_count": 59,
     "metadata": {},
     "output_type": "execute_result"
    }
   ],
   "source": [
    "M2"
   ]
  },
  {
   "cell_type": "code",
   "execution_count": null,
   "metadata": {},
   "outputs": [],
   "source": []
  }
 ],
 "metadata": {
  "kernelspec": {
   "display_name": "teec",
   "language": "python",
   "name": "teec"
  },
  "language_info": {
   "codemirror_mode": {
    "name": "ipython",
    "version": 3
   },
   "file_extension": ".py",
   "mimetype": "text/x-python",
   "name": "python",
   "nbconvert_exporter": "python",
   "pygments_lexer": "ipython3",
   "version": "3.8.12"
  }
 },
 "nbformat": 4,
 "nbformat_minor": 4
}
