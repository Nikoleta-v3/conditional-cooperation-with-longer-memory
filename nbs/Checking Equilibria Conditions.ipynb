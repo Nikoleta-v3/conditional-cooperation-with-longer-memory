{
 "cells": [
  {
   "cell_type": "code",
   "execution_count": 2,
   "metadata": {},
   "outputs": [],
   "source": [
    "import numpy as np\n",
    "\n",
    "import sympy as sym\n",
    "\n",
    "import itertools"
   ]
  },
  {
   "cell_type": "code",
   "execution_count": 3,
   "metadata": {},
   "outputs": [],
   "source": [
    "from importlib.machinery import SourceFileLoader\n",
    "\n",
    "main = SourceFileLoader(\"main\", \"../src/main.py\").load_module()\n",
    "\n",
    "from main import *"
   ]
  },
  {
   "cell_type": "code",
   "execution_count": 4,
   "metadata": {},
   "outputs": [],
   "source": [
    "import matplotlib.pyplot as plt\n",
    "\n",
    "import matplotlib\n",
    "\n",
    "from mpl_toolkits.axes_grid1 import make_axes_locatable"
   ]
  },
  {
   "cell_type": "code",
   "execution_count": 5,
   "metadata": {},
   "outputs": [],
   "source": [
    "import matplotlib.colors as colors"
   ]
  },
  {
   "cell_type": "code",
   "execution_count": 6,
   "metadata": {},
   "outputs": [],
   "source": [
    "plt.rcParams[\"font.weight\"] = \"bold\"\n",
    "plt.rcParams[\"axes.labelweight\"] = \"bold\""
   ]
  },
  {
   "cell_type": "markdown",
   "metadata": {},
   "source": [
    "## For case of two bits strategies\n",
    "\n",
    "we want to check that $\\sum_{i, j \\in \\{C, D\\}} u_{ij | CD} = \\sum_{i, j \\in \\{C, D\\}} u_{CD | ij}$\n",
    "\n",
    "for the Equilibrium analysis"
   ]
  },
  {
   "cell_type": "markdown",
   "metadata": {},
   "source": [
    "To test the formulation we compare the following payoffs."
   ]
  },
  {
   "cell_type": "code",
   "execution_count": 9,
   "metadata": {},
   "outputs": [],
   "source": [
    "c = np.random.randint(0, 1)\n",
    "b = np.random.randint(1, 3)\n",
    "\n",
    "np.random.seed(1)\n",
    "\n",
    "for _ in range(1000):\n",
    "\n",
    "    p1, p2, p3, p4 = np.random.random(4)\n",
    "    q1, q2, q3, q4 = np.random.random(4)\n",
    "\n",
    "    M = transition_matrix(p=[p1, p2, p3, p4], q=[q1, q2, q3, q4], bits=4)\n",
    "\n",
    "    ss = invariant_distribution(M)\n",
    "    \n",
    "    assert np.isclose(\n",
    "        sum([ss[i] for i in np.arange(0, 13, 4)]), sum([ss[i] for i in range(4)])\n",
    "    )\n",
    "    assert np.isclose(\n",
    "    sum([ss[i] for i in np.arange(1, 14, 4)]), sum([ss[i] for i in range(4, 8)])\n",
    ")\n",
    "    assert np.isclose(\n",
    "    sum([ss[i] for i in np.arange(2, 15, 4)]), sum([ss[i] for i in range(8, 12)])\n",
    ")\n",
    "    assert np.isclose(\n",
    "    sum([ss[i] for i in np.arange(3, 16, 4)]), sum([ss[i] for i in range(12, 16)])\n",
    ")"
   ]
  },
  {
   "cell_type": "code",
   "execution_count": 27,
   "metadata": {},
   "outputs": [],
   "source": [
    "c = np.random.randint(0, 1)\n",
    "b = np.random.randint(1, 3)\n",
    "\n",
    "for _ in range(1000):\n",
    "\n",
    "    p1, p2, q1, q2 = np.random.random(4)\n",
    "\n",
    "    M = transition_matrix(p=[p1, p2, p1, p2], q=[q1, q2, q1, q2], bits=4)\n",
    "\n",
    "    ss = invariant_distribution(M)\n",
    "    \n",
    "    assert np.isclose(\n",
    "        sum([ss[i] for i in [1, 9, 13]]), sum([ss[i] for i in [4, 6, 7]])\n",
    "    )\n",
    "#     assert np.isclose(\n",
    "#     sum([ss[i] for i in np.arange(1, 14, 4)]), sum([ss[i] for i in range(4, 8)])\n",
    "# )\n",
    "#     assert np.isclose(\n",
    "#     sum([ss[i] for i in np.arange(2, 15, 4)]), sum([ss[i] for i in range(8, 12)])\n",
    "# )\n",
    "#     assert np.isclose(\n",
    "#     sum([ss[i] for i in np.arange(3, 16, 4)]), sum([ss[i] for i in range(12, 16)])\n",
    "# )"
   ]
  },
  {
   "cell_type": "markdown",
   "metadata": {},
   "source": [
    "# Trying somethings"
   ]
  },
  {
   "cell_type": "code",
   "execution_count": 19,
   "metadata": {},
   "outputs": [],
   "source": [
    "ss = sym.symbols(f\"v_1:{17}\")\n",
    "\n",
    "p1, p2, p3, p4 = sym.symbols(\"p_1, p_2, p_3, p_4\")\n",
    "\n",
    "p = [p1, p2, p1, p2, p3, p4, p3, p4, p1, p2, p1, p2, p3, p4, p3, p4]"
   ]
  },
  {
   "cell_type": "code",
   "execution_count": 20,
   "metadata": {},
   "outputs": [],
   "source": [
    "coop_ind = list(np.arange(0, 16, 4)) + list(np.arange(1, 16, 4))\n",
    "def_ind = list(np.arange(2, 16, 4)) + list(np.arange(3, 16, 4))"
   ]
  },
  {
   "cell_type": "code",
   "execution_count": 22,
   "metadata": {},
   "outputs": [],
   "source": [
    "lhs = sum([(1 - p[i]) * ss[i] for i in coop_ind])\n",
    "\n",
    "rhs = sum([(p[i]) * ss[i] for i in def_ind])\n"
   ]
  },
  {
   "cell_type": "code",
   "execution_count": 23,
   "metadata": {},
   "outputs": [
    {
     "data": {
      "text/latex": [
       "$\\displaystyle v_{1} \\left(1 - p_{1}\\right) + v_{10} \\left(1 - p_{2}\\right) + v_{13} \\left(1 - p_{3}\\right) + v_{14} \\left(1 - p_{4}\\right) + v_{2} \\left(1 - p_{2}\\right) + v_{5} \\left(1 - p_{3}\\right) + v_{6} \\left(1 - p_{4}\\right) + v_{9} \\left(1 - p_{1}\\right)$"
      ],
      "text/plain": [
       "v_1*(1 - p_1) + v_10*(1 - p_2) + v_13*(1 - p_3) + v_14*(1 - p_4) + v_2*(1 - p_2) + v_5*(1 - p_3) + v_6*(1 - p_4) + v_9*(1 - p_1)"
      ]
     },
     "execution_count": 23,
     "metadata": {},
     "output_type": "execute_result"
    }
   ],
   "source": [
    "lhs.colletc()"
   ]
  },
  {
   "cell_type": "markdown",
   "metadata": {},
   "source": [
    "#### by changing both"
   ]
  },
  {
   "cell_type": "code",
   "execution_count": null,
   "metadata": {},
   "outputs": [],
   "source": [
    "# -b v10 + b p2 v10\n",
    "\n",
    "# - b v13 + b p2 v13 \n",
    "\n",
    "# - b v9 + b p2 v9\n",
    "\n",
    "b (p2 - 1) (v10 + v13 + v9) + (b(p2 - 1) + c) (v11 + v15) + (c p2) (v4 + v7) + (b(p2 - 1) + c p2) v12 + c v3\n",
    " \n",
    "+ c (p2 - 1) v5\n",
    "\n",
    "# - b v11 + c v11 + b p2 v11 \n",
    "# - b v15 + c v15 + b p2 v15 \n",
    "\n",
    "\n",
    "# + c p2 v4 \n",
    "\n",
    "# + c p2 v7 \n",
    "\n",
    "# - b v12 + b p2 v12 +  c p2 v12 \n",
    "\n",
    "\n",
    "- b v14 + c v14 + b p2 v14 - 2 c p2 v14 + c p4 v14 \n",
    "\n",
    "\n",
    "- b v16 + c v16 + b p2 v16 - c p2 v16 + c p4 v16 \n",
    "\n",
    "\n",
    "- c p2 v6 +  c p4 v6 \n",
    "\n",
    "+ c p4 v8\n",
    "\n",
    "\n",
    "\n",
    "# c v3 \n",
    "\n",
    "\n",
    "# - c v5 + c p2 v5 \n",
    "\n",
    "\n"
   ]
  },
  {
   "cell_type": "code",
   "execution_count": null,
   "metadata": {},
   "outputs": [],
   "source": [
    "#### changing the second"
   ]
  },
  {
   "cell_type": "code",
   "execution_count": null,
   "metadata": {},
   "outputs": [],
   "source": [
    "-b v11 + c v11 + b p2 v11 \n",
    "- b v3 +  c v3 + b p2 v3 \n",
    "\n",
    "(b(p2 - 1) + c)\n",
    "\n",
    "+ c p2 v12 \n",
    "+ c p2 v4 \n",
    "\n",
    "(c p2)\n",
    "\n",
    "\n",
    "- b v16 + c v16 + b p2 v16 - c p2 v16 + c p4 v16 \n",
    "\n",
    "- b v14 +  c v14 + b p2 v14 - 2 c p2 v14 + c p4 v14 \n",
    "\n",
    "\n",
    "- b v13 + b p2 v13 \n",
    "\n",
    "\n",
    "- 2 b v15 + c v15 +  2 b p2 v15 \n",
    "\n",
    "\n",
    "- c v5 + c p2 v5 \n",
    "\n",
    "- c p2 v6 + c p4 v6\n",
    "\n",
    "- b v7 + b p2 v7 + c p2 v7 \n",
    "\n",
    "+ c p4 v8"
   ]
  },
  {
   "cell_type": "code",
   "execution_count": null,
   "metadata": {},
   "outputs": [],
   "source": [
    "-b v10 + b p2 v10 \n",
    "\n",
    "- b v11 + c v11 + b p2 v11 \n",
    "\n",
    "- 2 b v12 + c v12 +  2 b p2 v12 \n",
    "\n",
    "- c v13 + c p2 v13 \n",
    "\n",
    "- c p2 v14 + c p4 v14 \n",
    "\n",
    "+ c p2 v15\n",
    "\n",
    "-  b v16 + c v16 + b p2 v16 - c p2 v16 + c p4 v16 +\n",
    "\n",
    "c v3 \n",
    "\n",
    "- b v4 + c v4 +  b p2 v4 \n",
    "\n",
    "- c v5 + c p2 v5 \n",
    "\n",
    "- c p2 v6 + c p4 v6 \n",
    "\n",
    "+ c p2 v7 \n",
    "\n",
    "- b v8 +  c v8 + b p2 v8 - c p2 v8 + c p4 v8 \n",
    "\n",
    "- b v9 + b p2 v9"
   ]
  },
  {
   "cell_type": "code",
   "execution_count": null,
   "metadata": {},
   "outputs": [],
   "source": [
    "(-c + b p2) (v11 + v12) + (b - c) (v3 + v4) + (b (-1 + p4) - c (-2 + p2 + p4)) (v14 + v6) + (b - c) (-1 + p2) (v13 + v5)\n",
    "\n",
    "+ (b - c) p2 (v7 + v15) - (b - c) (-1 + p2 - p4) (v16 + v8) + (b - 2 c) (-1 + p2) v2  + b (-1 + p2) v9"
   ]
  },
  {
   "cell_type": "code",
   "execution_count": null,
   "metadata": {},
   "outputs": [],
   "source": [
    "+ (- b + c) p2 (v15 + v7) + (- b + c) (-1 +  p2) (v13 + v5)\n",
    "+ (- b + c) (-1 + p2 + p4) (v16 + v8) + (b - b p4 + c (-p2 + p4)) (v14 + v6)\n",
    "\n",
    "+ b (1 - p2) (v2 - v9) + (c + b (-2 + p2)) v11  + (-b p2 + c (-1 + 2 p2)) v12 - (b - c) (-1 + 2 p2) v4  + (-b + c) v3 \n"
   ]
  },
  {
   "cell_type": "code",
   "execution_count": null,
   "metadata": {},
   "outputs": [],
   "source": [
    "c (-1 + p2) (v10 + v2 + v13) + (c + b (-1 + p2)) (v11 + v12 + v3 + \n",
    "     v4) + (b (-1 + p2) + c p2) v15 + ((b - c) (-1 + p2) + c p4) v16 +\n",
    "   c (-p2 + p4) v6 + (c + b (-1 + p2)) v7 + ((b - 2 c) (-1 + p2) + \n",
    "     c p4) v8 + c (-1 + p4) v14;"
   ]
  },
  {
   "cell_type": "code",
   "execution_count": null,
   "metadata": {},
   "outputs": [],
   "source": []
  },
  {
   "cell_type": "code",
   "execution_count": 12,
   "metadata": {},
   "outputs": [],
   "source": [
    "c = np.random.randint(0, 1)\n",
    "b = np.random.randint(1, 3)\n",
    "\n",
    "np.random.seed(1)\n",
    "\n",
    "for _ in range(1000):\n",
    "\n",
    "    p1, p2, p3, p4 = np.random.random(4)\n",
    "    q1, q2, q3, q4 = np.random.random(4)\n",
    "\n",
    "    M = transition_matrix(p=[p1, p2, p3, p4], q=[q1, q2, q3, q4], bits=4)\n",
    "\n",
    "    ss = invariant_distribution(M)\n",
    "    \n",
    "    assert  np.isclose(sum([(1 - p1) * ss[0], (1 - p1) * ss[8],\n",
    "     (1 - p2) * ss[1], (1 - p2) * ss[9],\n",
    "     (1 - p3) * ss[4], (1 - p3) * ss[12],\n",
    "     (1 - p4) * ss[5], (1 - p4) * ss[13],\n",
    "    ])\n",
    "\n",
    "    +\n",
    "\n",
    "    sum([(- p1) * ss[2], (- p1) * ss[10],\n",
    "     (- p2) * ss[3], (- p2) * ss[11],\n",
    "     (- p3) * ss[6], (- p3) * ss[14],\n",
    "     (- p4) * ss[7], (- p4) * ss[15],\n",
    "    ]), 0)"
   ]
  },
  {
   "cell_type": "code",
   "execution_count": 18,
   "metadata": {},
   "outputs": [
    {
     "ename": "AssertionError",
     "evalue": "",
     "output_type": "error",
     "traceback": [
      "\u001b[0;31m---------------------------------------------------------------------------\u001b[0m",
      "\u001b[0;31mAssertionError\u001b[0m                            Traceback (most recent call last)",
      "\u001b[0;32m<ipython-input-18-79ea730bd8a8>\u001b[0m in \u001b[0;36m<module>\u001b[0;34m\u001b[0m\n\u001b[1;32m     13\u001b[0m     \u001b[0mss\u001b[0m \u001b[0;34m=\u001b[0m \u001b[0minvariant_distribution\u001b[0m\u001b[0;34m(\u001b[0m\u001b[0mM\u001b[0m\u001b[0;34m)\u001b[0m\u001b[0;34m\u001b[0m\u001b[0;34m\u001b[0m\u001b[0m\n\u001b[1;32m     14\u001b[0m \u001b[0;34m\u001b[0m\u001b[0m\n\u001b[0;32m---> 15\u001b[0;31m     assert  np.isclose(sum([(1 - p1) * ss[0], (1 - p1) * ss[1],\n\u001b[0m\u001b[1;32m     16\u001b[0m      \u001b[0;34m(\u001b[0m\u001b[0;36m1\u001b[0m \u001b[0;34m-\u001b[0m \u001b[0mp2\u001b[0m\u001b[0;34m)\u001b[0m \u001b[0;34m*\u001b[0m \u001b[0mss\u001b[0m\u001b[0;34m[\u001b[0m\u001b[0;36m4\u001b[0m\u001b[0;34m]\u001b[0m\u001b[0;34m,\u001b[0m \u001b[0;34m(\u001b[0m\u001b[0;36m1\u001b[0m \u001b[0;34m-\u001b[0m \u001b[0mp2\u001b[0m\u001b[0;34m)\u001b[0m \u001b[0;34m*\u001b[0m \u001b[0mss\u001b[0m\u001b[0;34m[\u001b[0m\u001b[0;36m5\u001b[0m\u001b[0;34m]\u001b[0m\u001b[0;34m,\u001b[0m\u001b[0;34m\u001b[0m\u001b[0;34m\u001b[0m\u001b[0m\n\u001b[1;32m     17\u001b[0m      \u001b[0;34m(\u001b[0m\u001b[0;36m1\u001b[0m \u001b[0;34m-\u001b[0m \u001b[0mp3\u001b[0m\u001b[0;34m)\u001b[0m \u001b[0;34m*\u001b[0m \u001b[0mss\u001b[0m\u001b[0;34m[\u001b[0m\u001b[0;36m8\u001b[0m\u001b[0;34m]\u001b[0m\u001b[0;34m,\u001b[0m \u001b[0;34m(\u001b[0m\u001b[0;36m1\u001b[0m \u001b[0;34m-\u001b[0m \u001b[0mp3\u001b[0m\u001b[0;34m)\u001b[0m \u001b[0;34m*\u001b[0m \u001b[0mss\u001b[0m\u001b[0;34m[\u001b[0m\u001b[0;36m9\u001b[0m\u001b[0;34m]\u001b[0m\u001b[0;34m,\u001b[0m\u001b[0;34m\u001b[0m\u001b[0;34m\u001b[0m\u001b[0m\n",
      "\u001b[0;31mAssertionError\u001b[0m: "
     ]
    }
   ],
   "source": [
    "c = np.random.randint(0, 1)\n",
    "b = np.random.randint(1, 3)\n",
    "\n",
    "np.random.seed(1)\n",
    "\n",
    "for _ in range(1000):\n",
    "\n",
    "    p1, p2, p3, p4 = np.random.random(4)\n",
    "    q1, q2, q3, q4 = np.random.random(4)\n",
    "\n",
    "    M = transition_matrix(p=[p1, p2, p3, p4], q=[q1, q2, q3, q4], bits=4)\n",
    "\n",
    "    ss = invariant_distribution(M)\n",
    "    \n",
    "    assert  np.isclose(sum([(1 - p1) * ss[0], (1 - p1) * ss[1],\n",
    "     (1 - p2) * ss[4], (1 - p2) * ss[5],\n",
    "     (1 - p3) * ss[8], (1 - p3) * ss[9],\n",
    "     (1 - p4) * ss[12], (1 - p4) * ss[13],\n",
    "    ])\n",
    "\n",
    "    +\n",
    "\n",
    "    sum([(- p1) * ss[2], (- p1) * ss[3],\n",
    "     (- p2) * ss[3], (- p2) * ss[11],\n",
    "     (- p3) * ss[10], (- p3) * ss[11],\n",
    "     (- p4) * ss[14], (- p4) * ss[15],\n",
    "    ]), 0)"
   ]
  },
  {
   "cell_type": "code",
   "execution_count": null,
   "metadata": {},
   "outputs": [],
   "source": []
  }
 ],
 "metadata": {
  "kernelspec": {
   "display_name": "Python 3",
   "language": "python",
   "name": "python3"
  },
  "language_info": {
   "codemirror_mode": {
    "name": "ipython",
    "version": 3
   },
   "file_extension": ".py",
   "mimetype": "text/x-python",
   "name": "python",
   "nbconvert_exporter": "python",
   "pygments_lexer": "ipython3",
   "version": "3.8.3"
  }
 },
 "nbformat": 4,
 "nbformat_minor": 4
}
