{
 "cells": [
  {
   "cell_type": "code",
   "execution_count": 4,
   "metadata": {},
   "outputs": [],
   "source": [
    "import sympy as sym"
   ]
  },
  {
   "cell_type": "code",
   "execution_count": 5,
   "metadata": {},
   "outputs": [],
   "source": [
    "sym.init_printing(True)"
   ]
  },
  {
   "cell_type": "code",
   "execution_count": 6,
   "metadata": {},
   "outputs": [],
   "source": [
    "import numpy as np"
   ]
  },
  {
   "cell_type": "code",
   "execution_count": 7,
   "metadata": {},
   "outputs": [],
   "source": [
    "from importlib.machinery import SourceFileLoader\n",
    "\n",
    "main = SourceFileLoader(\n",
    "    \"main\", \"../src/main.py\"\n",
    ").load_module()\n",
    "\n",
    "from main import *"
   ]
  },
  {
   "cell_type": "code",
   "execution_count": 8,
   "metadata": {},
   "outputs": [],
   "source": [
    "import matplotlib.pyplot as plt"
   ]
  },
  {
   "cell_type": "code",
   "execution_count": 9,
   "metadata": {},
   "outputs": [],
   "source": [
    "from collections import Counter"
   ]
  },
  {
   "cell_type": "markdown",
   "metadata": {},
   "source": [
    "### Symbols"
   ]
  },
  {
   "cell_type": "code",
   "execution_count": 11,
   "metadata": {},
   "outputs": [],
   "source": [
    "p_1, p_2, p_3, p_4, p_5, p_6, p_7, p_8, p_9, p_10, p_11, p_12, p_13, p_14, p_15, p_16  = sym.symbols(\"p_1, p_2, p_3, p_4, p_5, p_6, p_7, p_8, p_9, p_10, p_11, p_12, p_13, p_14, p_15, p_16\")\n",
    "\n",
    "q_1, q_2, q_3, q_4, q_5, q_6, q_7, q_8, q_9, q_10, q_11, q_12, q_13, q_14, q_15, q_16 = sym.symbols(\"q_1, q_2, q_3, q_4 , q_5, q_6, q_7, q_8, q_9, q_10, q_11, q_12, q_13, q_14, q_15, q_16\")"
   ]
  },
  {
   "cell_type": "code",
   "execution_count": 12,
   "metadata": {},
   "outputs": [],
   "source": [
    "v_3, v_11, v_13, v_5, v_15, v_7 = sym.symbols(\"v_3, v_11, v_13, v_5, v_15, v_7\")\n",
    "v_12, v_4, v_14, v_6, v_16, v_8 = sym.symbols(\"v_12, v_4, v_14, v_6, v_16, v_8\")"
   ]
  },
  {
   "cell_type": "code",
   "execution_count": 13,
   "metadata": {},
   "outputs": [],
   "source": [
    "p1, p2, p3, p4 = sym.symbols(\"p1, p2, p3, p4\")\n",
    "\n",
    "R, S, T, P = sym.symbols(\"R, S, T, P\")\n",
    "\n",
    "\n",
    "b, c = sym.symbols(\"b, c\")"
   ]
  },
  {
   "cell_type": "code",
   "execution_count": 14,
   "metadata": {},
   "outputs": [],
   "source": [
    "ss = sym.symbols(f\"v_1:{17}\")"
   ]
  },
  {
   "cell_type": "markdown",
   "metadata": {},
   "source": [
    "#### Matrix mem-two"
   ]
  },
  {
   "cell_type": "code",
   "execution_count": 11,
   "metadata": {},
   "outputs": [],
   "source": [
    "M2 = sym.zeros(16, 16)\n",
    "\n",
    "col = 0\n",
    "row = 0\n",
    "\n",
    "for p, q in [[p_1, q_1], [p_2, q_3], [p_3, q_2], [p_4, q_4]]:\n",
    "    for i, combo in enumerate([(p * q), ((1 - q) * p), ((1 - p) * q), ((1 - p) * (1 - q))]):\n",
    "\n",
    "        M2[row, col + i] = combo\n",
    "        \n",
    "    col += 4\n",
    "    row += 1\n",
    "\n",
    "col = 0\n",
    "\n",
    "for p, q in [[p_5, q_9], [p_6, q_11], [p_7, q_10], [p_8, q_12]]:\n",
    "    for i, combo in enumerate([(p * q), ((1 - q) * p), ((1 - p) * q), ((1 - p) * (1 - q))]):\n",
    "\n",
    "        M2[row, col + i] = combo\n",
    "        \n",
    "    col += 4\n",
    "    row += 1\n",
    "    \n",
    "col = 0\n",
    "\n",
    "for p, q in [[p_9, q_5], [p_10, q_7], [p_11, q_6], [p_12, q_8]]:\n",
    "    for i, combo in enumerate([(p * q), ((1 - q) * p), ((1 - p) * q), ((1 - p) * (1 - q))]):\n",
    "\n",
    "        M2[row, col + i] = combo\n",
    "        \n",
    "    col += 4\n",
    "    row += 1\n",
    "    \n",
    "col = 0\n",
    "\n",
    "for p, q in [[p_13, q_13], [p_14, q_15], [p_15, q_14], [p_16, q_16]]:\n",
    "    for i, combo in enumerate([(p * q), ((1 - q) * p), ((1 - p) * q), ((1 - p) * (1 - q))]):\n",
    "\n",
    "        M2[row, col + i] = combo\n",
    "        \n",
    "    col += 4\n",
    "    row += 1"
   ]
  },
  {
   "cell_type": "code",
   "execution_count": 12,
   "metadata": {},
   "outputs": [],
   "source": [
    "m2 = sym.lambdify((p_1, p_2, p_3, p_4, p_5,\n",
    "                   p_6, p_7, p_8, p_9, p_10,\n",
    "                   p_11, p_12, p_13, p_14,\n",
    "                   p_15, p_16, q_1, q_2, q_3, q_4,\n",
    "                   q_5, q_6, q_7, q_8, q_9, q_10,\n",
    "                   q_11, q_12, q_13, q_14, q_15, q_16), M2, 'numpy')"
   ]
  },
  {
   "cell_type": "markdown",
   "metadata": {},
   "source": [
    "### check cooperation condition for special case"
   ]
  },
  {
   "cell_type": "code",
   "execution_count": 13,
   "metadata": {},
   "outputs": [],
   "source": [
    "np.random.seed(1)\n",
    "\n",
    "coop_ind = list(np.arange(0, 16, 4)) + list(np.arange(1, 16, 4))\n",
    "def_ind = list(np.arange(2, 16, 4)) + list(np.arange(3, 16, 4))                                       \n",
    "\n",
    "for _ in range(1000):\n",
    "    ps = np.random.random(3)\n",
    "    qs = np.random.random(3)\n",
    "    \n",
    "    pis = np.array([ps[0], ps[1], ps[0], ps[1],\n",
    "                    ps[1], ps[2], ps[1], ps[2],\n",
    "                    ps[0], ps[1], ps[0], ps[1],\n",
    "                    ps[1], ps[2], ps[1], ps[2]])\n",
    "    qis = np.array([qs[0], qs[1], qs[0], qs[1],\n",
    "                    qs[1], qs[2], qs[1], qs[2],\n",
    "                    qs[0], qs[1], qs[0], qs[1],\n",
    "                    qs[1], qs[2], qs[1], qs[2]])\n",
    "\n",
    "    x =  [*pis] + [*qis]\n",
    "    \n",
    "    ss_num = invariant_distribution(m2(*x))\n",
    "    \n",
    "    assert np.isclose(sum([(1 - pis[i]) * ss_num[i] for i in coop_ind]) -\n",
    "                      sum([(pis[i]) * ss_num[i] for i in def_ind]), 0)"
   ]
  },
  {
   "cell_type": "code",
   "execution_count": 14,
   "metadata": {},
   "outputs": [
    {
     "data": {
      "text/plain": [
       "[0, 4, 8, 12, 1, 5, 9, 13]"
      ]
     },
     "execution_count": 14,
     "metadata": {},
     "output_type": "execute_result"
    }
   ],
   "source": [
    "coop_ind"
   ]
  },
  {
   "cell_type": "code",
   "execution_count": 15,
   "metadata": {},
   "outputs": [],
   "source": [
    "pis = [p_1, p_2, p_1, p_2, p_2, p_4, p_2, p_4, p_1, p_2, p_1, p_2, p_2, p_4, p_2, p_4]"
   ]
  },
  {
   "cell_type": "code",
   "execution_count": 16,
   "metadata": {},
   "outputs": [],
   "source": [
    "# sym.init_printing(False)"
   ]
  },
  {
   "cell_type": "code",
   "execution_count": 17,
   "metadata": {},
   "outputs": [
    {
     "data": {
      "image/png": "[encoded data removed]",
      "text/latex": [
       "$\\displaystyle v_{1} \\left(1 - p_{1}\\right) + v_{10} \\left(1 - p_{2}\\right) + v_{13} \\left(1 - p_{2}\\right) + v_{14} \\left(1 - p_{4}\\right) + v_{2} \\left(1 - p_{2}\\right) + v_{5} \\left(1 - p_{2}\\right) + v_{6} \\left(1 - p_{4}\\right) + v_{9} \\left(1 - p_{1}\\right)$"
      ],
      "text/plain": [
       "v₁⋅(1 - p₁) + v₁₀⋅(1 - p₂) + v₁₃⋅(1 - p₂) + v₁₄⋅(1 - p₄) + v₂⋅(1 - p₂) + v₅⋅(1\n",
       " - p₂) + v₆⋅(1 - p₄) + v₉⋅(1 - p₁)"
      ]
     },
     "execution_count": 17,
     "metadata": {},
     "output_type": "execute_result"
    }
   ],
   "source": [
    "sum([(1 - pis[i]) * ss[i] for i in coop_ind])"
   ]
  },
  {
   "cell_type": "code",
   "execution_count": 18,
   "metadata": {},
   "outputs": [
    {
     "data": {
      "image/png": "[encoded data removed]",
      "text/latex": [
       "$\\displaystyle p_{1} v_{11} + p_{1} v_{3} + p_{2} v_{12} + p_{2} v_{15} + p_{2} v_{4} + p_{2} v_{7} + p_{4} v_{16} + p_{4} v_{8}$"
      ],
      "text/plain": [
       "p₁⋅v₁₁ + p₁⋅v₃ + p₂⋅v₁₂ + p₂⋅v₁₅ + p₂⋅v₄ + p₂⋅v₇ + p₄⋅v₁₆ + p₄⋅v₈"
      ]
     },
     "execution_count": 18,
     "metadata": {},
     "output_type": "execute_result"
    }
   ],
   "source": [
    "sum([(pis[i]) * ss[i] for i in def_ind])"
   ]
  },
  {
   "cell_type": "markdown",
   "metadata": {},
   "source": [
    "## Numerical Simulations of Equilibria "
   ]
  },
  {
   "cell_type": "markdown",
   "metadata": {},
   "source": [
    "### Two bits reactive"
   ]
  },
  {
   "cell_type": "code",
   "execution_count": 19,
   "metadata": {},
   "outputs": [],
   "source": [
    "import pandas as pd"
   ]
  },
  {
   "cell_type": "code",
   "execution_count": 20,
   "metadata": {},
   "outputs": [],
   "source": [
    "import glob"
   ]
  },
  {
   "cell_type": "code",
   "execution_count": 21,
   "metadata": {},
   "outputs": [],
   "source": [
    "columns = ([\"\", \"ID\"] + [f'p{i+1}' for i in range(16)] + [f'q{i+1}' for i in range(16)] + \n",
    "           ['label', 'Sp', 'Sq', \"condition A\", \"condition B\",'c', 'b'])"
   ]
  },
  {
   "cell_type": "code",
   "execution_count": 22,
   "metadata": {},
   "outputs": [],
   "source": [
    "# files = glob.glob(\"../special_case/*.csv\")\n",
    "\n",
    "# dfs = [pd.read_csv(file, names=columns) for file in files]\n",
    "\n",
    "# df = pd.concat(dfs)"
   ]
  },
  {
   "cell_type": "code",
   "execution_count": 23,
   "metadata": {},
   "outputs": [],
   "source": [
    "df = pd.read_csv(\"../special_case.csv\", index_col=0)"
   ]
  },
  {
   "cell_type": "code",
   "execution_count": 24,
   "metadata": {},
   "outputs": [
    {
     "data": {
      "text/html": [
       "<div>\n",
       "<style scoped>\n",
       "    .dataframe tbody tr th:only-of-type {\n",
       "        vertical-align: middle;\n",
       "    }\n",
       "\n",
       "    .dataframe tbody tr th {\n",
       "        vertical-align: top;\n",
       "    }\n",
       "\n",
       "    .dataframe thead th {\n",
       "        text-align: right;\n",
       "    }\n",
       "</style>\n",
       "<table border=\"1\" class=\"dataframe\">\n",
       "  <thead>\n",
       "    <tr style=\"text-align: right;\">\n",
       "      <th></th>\n",
       "      <th>Unnamed: 1</th>\n",
       "      <th>ID</th>\n",
       "      <th>p1</th>\n",
       "      <th>p2</th>\n",
       "      <th>p3</th>\n",
       "      <th>p4</th>\n",
       "      <th>p5</th>\n",
       "      <th>p6</th>\n",
       "      <th>p7</th>\n",
       "      <th>p8</th>\n",
       "      <th>...</th>\n",
       "      <th>q14</th>\n",
       "      <th>q15</th>\n",
       "      <th>q16</th>\n",
       "      <th>label</th>\n",
       "      <th>Sp</th>\n",
       "      <th>Sq</th>\n",
       "      <th>condition A</th>\n",
       "      <th>condition B</th>\n",
       "      <th>c</th>\n",
       "      <th>b</th>\n",
       "    </tr>\n",
       "  </thead>\n",
       "  <tbody>\n",
       "    <tr>\n",
       "      <th>0</th>\n",
       "      <td>0</td>\n",
       "      <td>32781</td>\n",
       "      <td>1</td>\n",
       "      <td>0.5378</td>\n",
       "      <td>1</td>\n",
       "      <td>0.5378</td>\n",
       "      <td>0.5378</td>\n",
       "      <td>0.12572</td>\n",
       "      <td>0.5378</td>\n",
       "      <td>0.12572</td>\n",
       "      <td>...</td>\n",
       "      <td>0</td>\n",
       "      <td>0</td>\n",
       "      <td>0</td>\n",
       "      <td>N0</td>\n",
       "      <td>0.6</td>\n",
       "      <td>0.213148</td>\n",
       "      <td>True</td>\n",
       "      <td>True</td>\n",
       "      <td>0.6</td>\n",
       "      <td>0.1</td>\n",
       "    </tr>\n",
       "    <tr>\n",
       "      <th>1</th>\n",
       "      <td>1</td>\n",
       "      <td>32781</td>\n",
       "      <td>1</td>\n",
       "      <td>0.5378</td>\n",
       "      <td>1</td>\n",
       "      <td>0.5378</td>\n",
       "      <td>0.5378</td>\n",
       "      <td>0.12572</td>\n",
       "      <td>0.5378</td>\n",
       "      <td>0.12572</td>\n",
       "      <td>...</td>\n",
       "      <td>1</td>\n",
       "      <td>0</td>\n",
       "      <td>1</td>\n",
       "      <td>N1</td>\n",
       "      <td>0.6</td>\n",
       "      <td>0.410954</td>\n",
       "      <td>True</td>\n",
       "      <td>True</td>\n",
       "      <td>0.6</td>\n",
       "      <td>0.1</td>\n",
       "    </tr>\n",
       "    <tr>\n",
       "      <th>2</th>\n",
       "      <td>2</td>\n",
       "      <td>32781</td>\n",
       "      <td>1</td>\n",
       "      <td>0.5378</td>\n",
       "      <td>1</td>\n",
       "      <td>0.5378</td>\n",
       "      <td>0.5378</td>\n",
       "      <td>0.12572</td>\n",
       "      <td>0.5378</td>\n",
       "      <td>0.12572</td>\n",
       "      <td>...</td>\n",
       "      <td>0</td>\n",
       "      <td>1</td>\n",
       "      <td>0</td>\n",
       "      <td>N2</td>\n",
       "      <td>0.6</td>\n",
       "      <td>0.424367</td>\n",
       "      <td>True</td>\n",
       "      <td>True</td>\n",
       "      <td>0.6</td>\n",
       "      <td>0.1</td>\n",
       "    </tr>\n",
       "    <tr>\n",
       "      <th>3</th>\n",
       "      <td>3</td>\n",
       "      <td>32781</td>\n",
       "      <td>1</td>\n",
       "      <td>0.5378</td>\n",
       "      <td>1</td>\n",
       "      <td>0.5378</td>\n",
       "      <td>0.5378</td>\n",
       "      <td>0.12572</td>\n",
       "      <td>0.5378</td>\n",
       "      <td>0.12572</td>\n",
       "      <td>...</td>\n",
       "      <td>1</td>\n",
       "      <td>1</td>\n",
       "      <td>1</td>\n",
       "      <td>N3</td>\n",
       "      <td>0.6</td>\n",
       "      <td>0.490871</td>\n",
       "      <td>True</td>\n",
       "      <td>True</td>\n",
       "      <td>0.6</td>\n",
       "      <td>0.1</td>\n",
       "    </tr>\n",
       "    <tr>\n",
       "      <th>4</th>\n",
       "      <td>4</td>\n",
       "      <td>32781</td>\n",
       "      <td>1</td>\n",
       "      <td>0.5378</td>\n",
       "      <td>1</td>\n",
       "      <td>0.5378</td>\n",
       "      <td>0.5378</td>\n",
       "      <td>0.12572</td>\n",
       "      <td>0.5378</td>\n",
       "      <td>0.12572</td>\n",
       "      <td>...</td>\n",
       "      <td>0</td>\n",
       "      <td>0</td>\n",
       "      <td>0</td>\n",
       "      <td>N4</td>\n",
       "      <td>0.6</td>\n",
       "      <td>0.600000</td>\n",
       "      <td>True</td>\n",
       "      <td>True</td>\n",
       "      <td>0.6</td>\n",
       "      <td>0.1</td>\n",
       "    </tr>\n",
       "  </tbody>\n",
       "</table>\n",
       "<p>5 rows × 41 columns</p>\n",
       "</div>"
      ],
      "text/plain": [
       "   Unnamed: 1     ID  p1      p2  p3      p4      p5       p6      p7  \\\n",
       "0           0  32781   1  0.5378   1  0.5378  0.5378  0.12572  0.5378   \n",
       "1           1  32781   1  0.5378   1  0.5378  0.5378  0.12572  0.5378   \n",
       "2           2  32781   1  0.5378   1  0.5378  0.5378  0.12572  0.5378   \n",
       "3           3  32781   1  0.5378   1  0.5378  0.5378  0.12572  0.5378   \n",
       "4           4  32781   1  0.5378   1  0.5378  0.5378  0.12572  0.5378   \n",
       "\n",
       "        p8  ...  q14  q15  q16  label   Sp        Sq  condition A  \\\n",
       "0  0.12572  ...    0    0    0     N0  0.6  0.213148         True   \n",
       "1  0.12572  ...    1    0    1     N1  0.6  0.410954         True   \n",
       "2  0.12572  ...    0    1    0     N2  0.6  0.424367         True   \n",
       "3  0.12572  ...    1    1    1     N3  0.6  0.490871         True   \n",
       "4  0.12572  ...    0    0    0     N4  0.6  0.600000         True   \n",
       "\n",
       "   condition B    c    b  \n",
       "0         True  0.6  0.1  \n",
       "1         True  0.6  0.1  \n",
       "2         True  0.6  0.1  \n",
       "3         True  0.6  0.1  \n",
       "4         True  0.6  0.1  \n",
       "\n",
       "[5 rows x 41 columns]"
      ]
     },
     "execution_count": 24,
     "metadata": {},
     "output_type": "execute_result"
    }
   ],
   "source": [
    "df.head()"
   ]
  },
  {
   "cell_type": "code",
   "execution_count": 25,
   "metadata": {},
   "outputs": [],
   "source": [
    "def seperate_equilibria_and_non(df):\n",
    "    per_player = df.groupby('ID')['condition A'].all()\n",
    "\n",
    "    eq_players_ID = per_player[per_player == True].index\n",
    "\n",
    "    noneq_players_ID = per_player[per_player == False].index\n",
    "    \n",
    "    return df[df['ID'].isin(eq_players_ID)], df[df['ID'].isin(noneq_players_ID)]\n"
   ]
  },
  {
   "cell_type": "code",
   "execution_count": 26,
   "metadata": {},
   "outputs": [],
   "source": [
    "eq, noneq = seperate_equilibria_and_non(df)"
   ]
  },
  {
   "cell_type": "code",
   "execution_count": 27,
   "metadata": {},
   "outputs": [
    {
     "data": {
      "image/png": "[encoded data removed]",
      "text/plain": [
       "<Figure size 432x288 with 1 Axes>"
      ]
     },
     "metadata": {
      "needs_background": "light"
     },
     "output_type": "display_data"
    }
   ],
   "source": [
    "fig, ax = plt.subplots()\n",
    "\n",
    "ax.set_title(\"Equilibria Special Case - PD\")\n",
    "\n",
    "for i, row in eq[['p2', 'p6',]].drop_duplicates().sample(n=500, random_state=1).iterrows():\n",
    "\n",
    "    ax.scatter(row['p2'], row['p6'], color='orange')\n",
    "\n",
    "ax.set_ylim(0, 1)\n",
    "\n",
    "ax.set_xlabel('p2')\n",
    "\n",
    "ax.set_ylabel('p4')\n",
    "\n",
    "plt.show()"
   ]
  },
  {
   "cell_type": "code",
   "execution_count": 28,
   "metadata": {},
   "outputs": [],
   "source": [
    "groups = noneq[noneq['condition A'] == False].groupby('ID')"
   ]
  },
  {
   "cell_type": "code",
   "execution_count": 29,
   "metadata": {},
   "outputs": [],
   "source": [
    "sets, ids = [], []\n",
    "for i, group in groups:\n",
    "    sets.append(group['label'].values)\n",
    "    ids.append(group['ID'].unique())"
   ]
  },
  {
   "cell_type": "code",
   "execution_count": 30,
   "metadata": {},
   "outputs": [],
   "source": [
    "flat_list = [item for sublist in sets for item in sublist]"
   ]
  },
  {
   "cell_type": "code",
   "execution_count": 31,
   "metadata": {},
   "outputs": [],
   "source": [
    "counter = Counter(flat_list)"
   ]
  },
  {
   "cell_type": "code",
   "execution_count": 32,
   "metadata": {},
   "outputs": [
    {
     "data": {
      "text/plain": [
       "Counter({'N0': 44617, 'N1': 39621, 'N2': 34965, 'N3': 34889})"
      ]
     },
     "execution_count": 32,
     "metadata": {},
     "output_type": "execute_result"
    }
   ],
   "source": [
    "counter"
   ]
  },
  {
   "cell_type": "code",
   "execution_count": 33,
   "metadata": {},
   "outputs": [],
   "source": [
    "minus_zeros = [s for s in list(sets) if 'N0' not in s]"
   ]
  },
  {
   "cell_type": "code",
   "execution_count": 34,
   "metadata": {},
   "outputs": [],
   "source": [
    "minus_twos = [s for s in list(minus_zeros) if 'N2' not in s]"
   ]
  },
  {
   "cell_type": "code",
   "execution_count": 35,
   "metadata": {},
   "outputs": [
    {
     "data": {
      "text/plain": [
       "array(['N3'], dtype=object)"
      ]
     },
     "execution_count": 35,
     "metadata": {},
     "output_type": "execute_result"
    }
   ],
   "source": [
    "minus_twos[0]"
   ]
  },
  {
   "cell_type": "code",
   "execution_count": 36,
   "metadata": {},
   "outputs": [
    {
     "data": {
      "text/plain": [
       "{'N2', 'N3'}"
      ]
     },
     "execution_count": 36,
     "metadata": {},
     "output_type": "execute_result"
    }
   ],
   "source": [
    "set([s[0] for s in minus_zeros if len(s) == 1])"
   ]
  },
  {
   "cell_type": "markdown",
   "metadata": {},
   "source": [
    "### Conditions based on the three strategies"
   ]
  },
  {
   "cell_type": "code",
   "execution_count": 37,
   "metadata": {},
   "outputs": [],
   "source": [
    "def payoffs(R, P, dim=4):\n",
    "    return np.array([R, 0, 1, P] * dim)\n",
    "\n",
    "\n",
    "def coplayer_payoffs(R, P, dim=4):\n",
    "    return np.array([R, 1, 0, P] * dim)\n",
    "\n",
    "\n",
    "def second_to_last_payoffs(R, P, dim=4):\n",
    "    return np.array([R] * dim + [0] * dim + [1] * dim + [P] * dim)\n",
    "\n",
    "\n",
    "def second_to_last_coplayer_payoffs(R, P, dim=4):\n",
    "    return np.array([R] * dim + [1] * dim + [0] * dim + [P] * dim)"
   ]
  },
  {
   "cell_type": "code",
   "execution_count": 38,
   "metadata": {},
   "outputs": [],
   "source": [
    "Is = np.linspace(0, 1, 50)"
   ]
  },
  {
   "cell_type": "code",
   "execution_count": 39,
   "metadata": {},
   "outputs": [],
   "source": [
    "Sx = payoffs(R, P, dim=4)\n",
    "\n",
    "Sy = coplayer_payoffs(R, P, dim=4)\n",
    "\n",
    "Sx_prime = second_to_last_payoffs(R, P, dim=4)\n",
    "\n",
    "Sy_prime = second_to_last_coplayer_payoffs(R, P, dim=4)"
   ]
  },
  {
   "cell_type": "code",
   "execution_count": 40,
   "metadata": {},
   "outputs": [],
   "source": [
    "N0 = [0, 0, 0, 0]\n",
    "N2 = [0, 1, 1, 0]\n",
    "N3 = [0, 1, 1, 1]"
   ]
  },
  {
   "cell_type": "markdown",
   "metadata": {},
   "source": [
    "**N0**"
   ]
  },
  {
   "cell_type": "code",
   "execution_count": 41,
   "metadata": {},
   "outputs": [],
   "source": [
    "M = transition_matrix([p1, p2, p2, p4], N0,\n",
    "                      bits=4, analytical=True)\n",
    "\n",
    "\n",
    "Sx = payoffs(R, P, dim=4)\n",
    "ssN0 = invariant_distribution_analytically(M)\n",
    "sy = ssN0 @ Sy"
   ]
  },
  {
   "cell_type": "code",
   "execution_count": 42,
   "metadata": {},
   "outputs": [
    {
     "data": {
      "image/png": "[encoded data removed]",
      "text/latex": [
       "$\\displaystyle \\left[ \\frac{P - R}{P - 1}\\right]$"
      ],
      "text/plain": [
       "⎡P - R⎤\n",
       "⎢─────⎥\n",
       "⎣P - 1⎦"
      ]
     },
     "execution_count": 42,
     "metadata": {},
     "output_type": "execute_result"
    }
   ],
   "source": [
    "sym.solve((sum(sy).factor() - R), p4)"
   ]
  },
  {
   "cell_type": "code",
   "execution_count": 43,
   "metadata": {},
   "outputs": [],
   "source": [
    "sy_prime = ssN0 @ Sy_prime"
   ]
  },
  {
   "cell_type": "code",
   "execution_count": 44,
   "metadata": {},
   "outputs": [
    {
     "data": {
      "image/png": "[encoded data removed]",
      "text/latex": [
       "$\\displaystyle \\left( P p_{4} \\left(1 - p_{4}\\right) + P \\left(p_{4}^{2} - 2 p_{4} + 1\\right) + p_{4}^{2} + p_{4} \\left(1 - p_{4}\\right), \\  - P p_{4} + P + p_{4}\\right)$"
      ],
      "text/plain": [
       "⎛                  ⎛  2           ⎞     2                              ⎞\n",
       "⎝P⋅p₄⋅(1 - p₄) + P⋅⎝p₄  - 2⋅p₄ + 1⎠ + p₄  + p₄⋅(1 - p₄), -P⋅p₄ + P + p₄⎠"
      ]
     },
     "execution_count": 44,
     "metadata": {},
     "output_type": "execute_result"
    }
   ],
   "source": [
    "sy_prime[0], sy[0].factor()"
   ]
  },
  {
   "cell_type": "code",
   "execution_count": 45,
   "metadata": {},
   "outputs": [
    {
     "data": {
      "image/png": "[encoded data removed]",
      "text/latex": [
       "$\\displaystyle \\left[ \\frac{P - R}{P - 1}\\right]$"
      ],
      "text/plain": [
       "⎡P - R⎤\n",
       "⎢─────⎥\n",
       "⎣P - 1⎦"
      ]
     },
     "execution_count": 45,
     "metadata": {},
     "output_type": "execute_result"
    }
   ],
   "source": [
    "sym.solve((sum(sy_prime).factor() - R), p4)"
   ]
  },
  {
   "cell_type": "markdown",
   "metadata": {},
   "source": [
    "**N3**"
   ]
  },
  {
   "cell_type": "code",
   "execution_count": 46,
   "metadata": {},
   "outputs": [],
   "source": [
    "M = transition_matrix([1, p2, p2, p4], N3,\n",
    "                      bits=4, analytical=True)\n",
    "\n",
    "\n",
    "ssN3 = invariant_distribution_analytically(M)"
   ]
  },
  {
   "cell_type": "code",
   "execution_count": 47,
   "metadata": {},
   "outputs": [],
   "source": [
    "sy = ssN3 @ Sy"
   ]
  },
  {
   "cell_type": "code",
   "execution_count": 48,
   "metadata": {},
   "outputs": [
    {
     "data": {
      "image/png": "[encoded data removed]",
      "text/latex": [
       "$\\displaystyle \\frac{- P p_{4} + P + R p_{2} p_{4}^{2} - R p_{2} p_{4} - R p_{4}^{2} - R p_{4} + 2 R + p_{2} - p_{4} + 1}{p_{2} p_{4}^{2} - 6 p_{4} + 6}$"
      ],
      "text/plain": [
       "                   2                 2                           \n",
       "-P⋅p₄ + P + R⋅p₂⋅p₄  - R⋅p₂⋅p₄ - R⋅p₄  - R⋅p₄ + 2⋅R + p₂ - p₄ + 1\n",
       "─────────────────────────────────────────────────────────────────\n",
       "                             2                                   \n",
       "                        p₂⋅p₄  - 6⋅p₄ + 6                        "
      ]
     },
     "execution_count": 48,
     "metadata": {},
     "output_type": "execute_result"
    }
   ],
   "source": [
    "sy[0].factor()"
   ]
  },
  {
   "cell_type": "code",
   "execution_count": 49,
   "metadata": {},
   "outputs": [],
   "source": [
    "r1 = sym.solve(sy[0].factor().subs({p1:1}) - R, p4)[0]\n",
    "r2 = sym.solve(sy[0].factor().subs({p1:1}) - R, p4)[1]"
   ]
  },
  {
   "cell_type": "code",
   "execution_count": 50,
   "metadata": {},
   "outputs": [
    {
     "data": {
      "image/png": "[encoded data removed]",
      "text/latex": [
       "$\\displaystyle - \\frac{P + R p_{2} - 5 R + \\sqrt{P^{2} + 2 P R p_{2} - 6 P R + 2 P + R^{2} p_{2}^{2} - 10 R^{2} p_{2} + 9 R^{2} + 6 R p_{2} - 6 R + 1} + 1}{2 R}$"
      ],
      "text/plain": [
       " ⎛                    ________________________________________________________\n",
       " ⎜                   ╱  2                             2   2       2         2 \n",
       "-⎝P + R⋅p₂ - 5⋅R + ╲╱  P  + 2⋅P⋅R⋅p₂ - 6⋅P⋅R + 2⋅P + R ⋅p₂  - 10⋅R ⋅p₂ + 9⋅R  \n",
       "──────────────────────────────────────────────────────────────────────────────\n",
       "                                                  2⋅R                         \n",
       "\n",
       "___________________    ⎞ \n",
       "                       ⎟ \n",
       "+ 6⋅R⋅p₂ - 6⋅R + 1  + 1⎠ \n",
       "─────────────────────────\n",
       "                         "
      ]
     },
     "execution_count": 50,
     "metadata": {},
     "output_type": "execute_result"
    }
   ],
   "source": [
    "r1.factor()"
   ]
  },
  {
   "cell_type": "code",
   "execution_count": 51,
   "metadata": {},
   "outputs": [
    {
     "data": {
      "image/png": "[encoded data removed]",
      "text/latex": [
       "$\\displaystyle - \\frac{P + R p_{2} - 5 R - \\sqrt{P^{2} + 2 P R p_{2} - 6 P R + 2 P + R^{2} p_{2}^{2} - 10 R^{2} p_{2} + 9 R^{2} + 6 R p_{2} - 6 R + 1} + 1}{2 R}$"
      ],
      "text/plain": [
       " ⎛                    ________________________________________________________\n",
       " ⎜                   ╱  2                             2   2       2         2 \n",
       "-⎝P + R⋅p₂ - 5⋅R - ╲╱  P  + 2⋅P⋅R⋅p₂ - 6⋅P⋅R + 2⋅P + R ⋅p₂  - 10⋅R ⋅p₂ + 9⋅R  \n",
       "──────────────────────────────────────────────────────────────────────────────\n",
       "                                                  2⋅R                         \n",
       "\n",
       "___________________    ⎞ \n",
       "                       ⎟ \n",
       "+ 6⋅R⋅p₂ - 6⋅R + 1  + 1⎠ \n",
       "─────────────────────────\n",
       "                         "
      ]
     },
     "execution_count": 51,
     "metadata": {},
     "output_type": "execute_result"
    }
   ],
   "source": [
    "r2.factor()"
   ]
  },
  {
   "cell_type": "code",
   "execution_count": 52,
   "metadata": {},
   "outputs": [],
   "source": [
    "sy_prime = ssN3 @ Sy_prime"
   ]
  },
  {
   "cell_type": "code",
   "execution_count": 53,
   "metadata": {},
   "outputs": [
    {
     "data": {
      "image/png": "[encoded data removed]",
      "text/latex": [
       "$\\displaystyle \\frac{- P p_{4} + P + R p_{2} p_{4}^{2} - R p_{2} p_{4} - R p_{4}^{2} - R p_{4} + 2 R + p_{2} - p_{4} + 1}{p_{2} p_{4}^{2} - 6 p_{4} + 6}$"
      ],
      "text/plain": [
       "                   2                 2                           \n",
       "-P⋅p₄ + P + R⋅p₂⋅p₄  - R⋅p₂⋅p₄ - R⋅p₄  - R⋅p₄ + 2⋅R + p₂ - p₄ + 1\n",
       "─────────────────────────────────────────────────────────────────\n",
       "                             2                                   \n",
       "                        p₂⋅p₄  - 6⋅p₄ + 6                        "
      ]
     },
     "execution_count": 53,
     "metadata": {},
     "output_type": "execute_result"
    }
   ],
   "source": [
    "sy_prime[0].factor()"
   ]
  },
  {
   "cell_type": "markdown",
   "metadata": {},
   "source": [
    "**N2**"
   ]
  },
  {
   "cell_type": "code",
   "execution_count": 54,
   "metadata": {},
   "outputs": [],
   "source": [
    "M = transition_matrix([1, p2, p2, p4], N2,\n",
    "                      bits=4, analytical=True)\n",
    "\n",
    "\n",
    "ssN2 = invariant_distribution_analytically(M)"
   ]
  },
  {
   "cell_type": "code",
   "execution_count": 55,
   "metadata": {},
   "outputs": [],
   "source": [
    "sy = ssN2 @ Sy"
   ]
  },
  {
   "cell_type": "code",
   "execution_count": 56,
   "metadata": {},
   "outputs": [
    {
     "data": {
      "image/png": "[encoded data removed]",
      "text/latex": [
       "$\\displaystyle \\frac{- P p_{2}^{5} p_{4}^{2} + P p_{2}^{5} p_{4} + 2 P p_{2}^{4} p_{4}^{3} + P p_{2}^{4} p_{4}^{2} - 4 P p_{2}^{4} p_{4} + P p_{2}^{4} - P p_{2}^{3} p_{4}^{4} - 4 P p_{2}^{3} p_{4}^{3} + 9 P p_{2}^{3} p_{4} - 4 P p_{2}^{3} + 2 P p_{2}^{2} p_{4}^{4} + 4 P p_{2}^{2} p_{4}^{3} - 4 P p_{2}^{2} p_{4}^{2} - 7 P p_{2}^{2} p_{4} + 5 P p_{2}^{2} - P p_{2} p_{4}^{4} - 2 P p_{2} p_{4}^{3} + 5 P p_{2} p_{4}^{2} - 2 P p_{2} + R p_{2}^{6} p_{4}^{2} - R p_{2}^{6} p_{4} - 2 R p_{2}^{5} p_{4}^{3} - 3 R p_{2}^{5} p_{4}^{2} + 5 R p_{2}^{5} p_{4} + R p_{2}^{4} p_{4}^{4} + 9 R p_{2}^{4} p_{4}^{3} - 2 R p_{2}^{4} p_{4}^{2} - 8 R p_{2}^{4} p_{4} - 5 R p_{2}^{3} p_{4}^{4} - 8 R p_{2}^{3} p_{4}^{3} + 5 R p_{2}^{3} p_{4}^{2} + 8 R p_{2}^{3} p_{4} + 6 R p_{2}^{2} p_{4}^{4} + R p_{2}^{2} p_{4}^{3} - 5 R p_{2}^{2} p_{4}^{2} - 2 R p_{2}^{2} p_{4} - 2 R p_{2} p_{4}^{4} + R p_{2} p_{4}^{3} + 4 R p_{2} p_{4}^{2} - 3 R p_{2} p_{4} + p_{2}^{6} p_{4} - 2 p_{2}^{5} p_{4}^{2} - 2 p_{2}^{5} p_{4} + p_{2}^{4} p_{4}^{3} + 5 p_{2}^{4} p_{4}^{2} + p_{2}^{4} p_{4} - 4 p_{2}^{3} p_{4}^{3} - 2 p_{2}^{3} p_{4}^{2} + p_{2}^{3} p_{4} + p_{2}^{2} p_{4}^{4} + 3 p_{2}^{2} p_{4}^{3} - 3 p_{2}^{2} p_{4}^{2} - p_{2}^{2} p_{4} - 2 p_{2} p_{4}^{4} + 2 p_{2} p_{4}^{3} + 2 p_{2} p_{4}^{2} - 2 p_{2} p_{4} + p_{4}^{4} - 3 p_{4}^{3} + 3 p_{4}^{2} - p_{4}}{2 p_{2}^{6} p_{4}^{2} - p_{2}^{6} p_{4} - 4 p_{2}^{5} p_{4}^{3} - 7 p_{2}^{5} p_{4}^{2} + 7 p_{2}^{5} p_{4} + 2 p_{2}^{4} p_{4}^{4} + 17 p_{2}^{4} p_{4}^{3} + 2 p_{2}^{4} p_{4}^{2} - 15 p_{2}^{4} p_{4} + p_{2}^{4} - 9 p_{2}^{3} p_{4}^{4} - 20 p_{2}^{3} p_{4}^{3} + 8 p_{2}^{3} p_{4}^{2} + 20 p_{2}^{3} p_{4} - 4 p_{2}^{3} + 13 p_{2}^{2} p_{4}^{4} + 7 p_{2}^{2} p_{4}^{3} - 17 p_{2}^{2} p_{4}^{2} - 8 p_{2}^{2} p_{4} + 5 p_{2}^{2} - 9 p_{2} p_{4}^{4} + 8 p_{2} p_{4}^{3} + 9 p_{2} p_{4}^{2} - 6 p_{2} p_{4} - 2 p_{2} + 3 p_{4}^{4} - 9 p_{4}^{3} + 9 p_{4}^{2} - 3 p_{4}}$"
      ],
      "text/plain": [
       "      5   2       5            4   3       4   2         4          4       3 \n",
       "- P⋅p₂ ⋅p₄  + P⋅p₂ ⋅p₄ + 2⋅P⋅p₂ ⋅p₄  + P⋅p₂ ⋅p₄  - 4⋅P⋅p₂ ⋅p₄ + P⋅p₂  - P⋅p₂ ⋅\n",
       "──────────────────────────────────────────────────────────────────────────────\n",
       "                                                                              \n",
       "                                                                              \n",
       "\n",
       "  4         3   3         3            3         2   4         2   3         2\n",
       "p₄  - 4⋅P⋅p₂ ⋅p₄  + 9⋅P⋅p₂ ⋅p₄ - 4⋅P⋅p₂  + 2⋅P⋅p₂ ⋅p₄  + 4⋅P⋅p₂ ⋅p₄  - 4⋅P⋅p₂ \n",
       "──────────────────────────────────────────────────────────────────────────────\n",
       "                                                                              \n",
       "                                                                              \n",
       "\n",
       "   2         2            2          4            3            2              \n",
       "⋅p₄  - 7⋅P⋅p₂ ⋅p₄ + 5⋅P⋅p₂  - P⋅p₂⋅p₄  - 2⋅P⋅p₂⋅p₄  + 5⋅P⋅p₂⋅p₄  - 2⋅P⋅p₂ + R⋅\n",
       "──────────────────────────────────────────────────────────────────────────────\n",
       "                                                    6   2     6          5   3\n",
       "                                                2⋅p₂ ⋅p₄  - p₂ ⋅p₄ - 4⋅p₂ ⋅p₄ \n",
       "\n",
       "  6   2       6            5   3         5   2         5          4   4       \n",
       "p₂ ⋅p₄  - R⋅p₂ ⋅p₄ - 2⋅R⋅p₂ ⋅p₄  - 3⋅R⋅p₂ ⋅p₄  + 5⋅R⋅p₂ ⋅p₄ + R⋅p₂ ⋅p₄  + 9⋅R⋅\n",
       "──────────────────────────────────────────────────────────────────────────────\n",
       "       5   2       5          4   4        4   3       4   2        4        4\n",
       " - 7⋅p₂ ⋅p₄  + 7⋅p₂ ⋅p₄ + 2⋅p₂ ⋅p₄  + 17⋅p₂ ⋅p₄  + 2⋅p₂ ⋅p₄  - 15⋅p₂ ⋅p₄ + p₂ \n",
       "\n",
       "  4   3         4   2         4            3   4         3   3         3   2  \n",
       "p₂ ⋅p₄  - 2⋅R⋅p₂ ⋅p₄  - 8⋅R⋅p₂ ⋅p₄ - 5⋅R⋅p₂ ⋅p₄  - 8⋅R⋅p₂ ⋅p₄  + 5⋅R⋅p₂ ⋅p₄  +\n",
       "──────────────────────────────────────────────────────────────────────────────\n",
       "       3   4        3   3       3   2        3          3        2   4       2\n",
       " - 9⋅p₂ ⋅p₄  - 20⋅p₂ ⋅p₄  + 8⋅p₂ ⋅p₄  + 20⋅p₂ ⋅p₄ - 4⋅p₂  + 13⋅p₂ ⋅p₄  + 7⋅p₂ \n",
       "\n",
       "       3            2   4       2   3         2   2         2               4 \n",
       " 8⋅R⋅p₂ ⋅p₄ + 6⋅R⋅p₂ ⋅p₄  + R⋅p₂ ⋅p₄  - 5⋅R⋅p₂ ⋅p₄  - 2⋅R⋅p₂ ⋅p₄ - 2⋅R⋅p₂⋅p₄  \n",
       "──────────────────────────────────────────────────────────────────────────────\n",
       "   3        2   2       2          2          4          3          2         \n",
       "⋅p₄  - 17⋅p₂ ⋅p₄  - 8⋅p₂ ⋅p₄ + 5⋅p₂  - 9⋅p₂⋅p₄  + 8⋅p₂⋅p₄  + 9⋅p₂⋅p₄  - 6⋅p₂⋅p\n",
       "\n",
       "         3            2                 6          5   2       5        4   3 \n",
       "+ R⋅p₂⋅p₄  + 4⋅R⋅p₂⋅p₄  - 3⋅R⋅p₂⋅p₄ + p₂ ⋅p₄ - 2⋅p₂ ⋅p₄  - 2⋅p₂ ⋅p₄ + p₂ ⋅p₄  \n",
       "──────────────────────────────────────────────────────────────────────────────\n",
       "               4       3       2                                              \n",
       "₄ - 2⋅p₂ + 3⋅p₄  - 9⋅p₄  + 9⋅p₄  - 3⋅p₄                                       \n",
       "\n",
       "      4   2     4          3   3       3   2     3        2   4       2   3   \n",
       "+ 5⋅p₂ ⋅p₄  + p₂ ⋅p₄ - 4⋅p₂ ⋅p₄  - 2⋅p₂ ⋅p₄  + p₂ ⋅p₄ + p₂ ⋅p₄  + 3⋅p₂ ⋅p₄  - \n",
       "──────────────────────────────────────────────────────────────────────────────\n",
       "                                                                              \n",
       "                                                                              \n",
       "\n",
       "    2   2     2             4          3          2               4       3   \n",
       "3⋅p₂ ⋅p₄  - p₂ ⋅p₄ - 2⋅p₂⋅p₄  + 2⋅p₂⋅p₄  + 2⋅p₂⋅p₄  - 2⋅p₂⋅p₄ + p₄  - 3⋅p₄  + \n",
       "──────────────────────────────────────────────────────────────────────────────\n",
       "                                                                              \n",
       "                                                                              \n",
       "\n",
       "    2     \n",
       "3⋅p₄  - p₄\n",
       "──────────\n",
       "          \n",
       "          "
      ]
     },
     "execution_count": 56,
     "metadata": {},
     "output_type": "execute_result"
    }
   ],
   "source": [
    "sy[0].factor()"
   ]
  },
  {
   "cell_type": "code",
   "execution_count": 57,
   "metadata": {},
   "outputs": [],
   "source": [
    "sy_prime = ssN2 @ Sy_prime"
   ]
  },
  {
   "cell_type": "code",
   "execution_count": 58,
   "metadata": {},
   "outputs": [
    {
     "data": {
      "image/png": "[encoded data removed]",
      "text/latex": [
       "$\\displaystyle \\frac{- P p_{2}^{5} p_{4}^{2} + P p_{2}^{5} p_{4} + 2 P p_{2}^{4} p_{4}^{3} + P p_{2}^{4} p_{4}^{2} - 4 P p_{2}^{4} p_{4} + P p_{2}^{4} - P p_{2}^{3} p_{4}^{4} - 4 P p_{2}^{3} p_{4}^{3} + 9 P p_{2}^{3} p_{4} - 4 P p_{2}^{3} + 2 P p_{2}^{2} p_{4}^{4} + 4 P p_{2}^{2} p_{4}^{3} - 4 P p_{2}^{2} p_{4}^{2} - 7 P p_{2}^{2} p_{4} + 5 P p_{2}^{2} - P p_{2} p_{4}^{4} - 2 P p_{2} p_{4}^{3} + 5 P p_{2} p_{4}^{2} - 2 P p_{2} + R p_{2}^{6} p_{4}^{2} - R p_{2}^{6} p_{4} - 2 R p_{2}^{5} p_{4}^{3} - 3 R p_{2}^{5} p_{4}^{2} + 5 R p_{2}^{5} p_{4} + R p_{2}^{4} p_{4}^{4} + 9 R p_{2}^{4} p_{4}^{3} - 2 R p_{2}^{4} p_{4}^{2} - 8 R p_{2}^{4} p_{4} - 5 R p_{2}^{3} p_{4}^{4} - 8 R p_{2}^{3} p_{4}^{3} + 5 R p_{2}^{3} p_{4}^{2} + 8 R p_{2}^{3} p_{4} + 6 R p_{2}^{2} p_{4}^{4} + R p_{2}^{2} p_{4}^{3} - 5 R p_{2}^{2} p_{4}^{2} - 2 R p_{2}^{2} p_{4} - 2 R p_{2} p_{4}^{4} + R p_{2} p_{4}^{3} + 4 R p_{2} p_{4}^{2} - 3 R p_{2} p_{4} + p_{2}^{6} p_{4} - 2 p_{2}^{5} p_{4}^{2} - 2 p_{2}^{5} p_{4} + p_{2}^{4} p_{4}^{3} + 5 p_{2}^{4} p_{4}^{2} + p_{2}^{4} p_{4} - 4 p_{2}^{3} p_{4}^{3} - 2 p_{2}^{3} p_{4}^{2} + p_{2}^{3} p_{4} + p_{2}^{2} p_{4}^{4} + 3 p_{2}^{2} p_{4}^{3} - 3 p_{2}^{2} p_{4}^{2} - p_{2}^{2} p_{4} - 2 p_{2} p_{4}^{4} + 2 p_{2} p_{4}^{3} + 2 p_{2} p_{4}^{2} - 2 p_{2} p_{4} + p_{4}^{4} - 3 p_{4}^{3} + 3 p_{4}^{2} - p_{4}}{2 p_{2}^{6} p_{4}^{2} - p_{2}^{6} p_{4} - 4 p_{2}^{5} p_{4}^{3} - 7 p_{2}^{5} p_{4}^{2} + 7 p_{2}^{5} p_{4} + 2 p_{2}^{4} p_{4}^{4} + 17 p_{2}^{4} p_{4}^{3} + 2 p_{2}^{4} p_{4}^{2} - 15 p_{2}^{4} p_{4} + p_{2}^{4} - 9 p_{2}^{3} p_{4}^{4} - 20 p_{2}^{3} p_{4}^{3} + 8 p_{2}^{3} p_{4}^{2} + 20 p_{2}^{3} p_{4} - 4 p_{2}^{3} + 13 p_{2}^{2} p_{4}^{4} + 7 p_{2}^{2} p_{4}^{3} - 17 p_{2}^{2} p_{4}^{2} - 8 p_{2}^{2} p_{4} + 5 p_{2}^{2} - 9 p_{2} p_{4}^{4} + 8 p_{2} p_{4}^{3} + 9 p_{2} p_{4}^{2} - 6 p_{2} p_{4} - 2 p_{2} + 3 p_{4}^{4} - 9 p_{4}^{3} + 9 p_{4}^{2} - 3 p_{4}}$"
      ],
      "text/plain": [
       "      5   2       5            4   3       4   2         4          4       3 \n",
       "- P⋅p₂ ⋅p₄  + P⋅p₂ ⋅p₄ + 2⋅P⋅p₂ ⋅p₄  + P⋅p₂ ⋅p₄  - 4⋅P⋅p₂ ⋅p₄ + P⋅p₂  - P⋅p₂ ⋅\n",
       "──────────────────────────────────────────────────────────────────────────────\n",
       "                                                                              \n",
       "                                                                              \n",
       "\n",
       "  4         3   3         3            3         2   4         2   3         2\n",
       "p₄  - 4⋅P⋅p₂ ⋅p₄  + 9⋅P⋅p₂ ⋅p₄ - 4⋅P⋅p₂  + 2⋅P⋅p₂ ⋅p₄  + 4⋅P⋅p₂ ⋅p₄  - 4⋅P⋅p₂ \n",
       "──────────────────────────────────────────────────────────────────────────────\n",
       "                                                                              \n",
       "                                                                              \n",
       "\n",
       "   2         2            2          4            3            2              \n",
       "⋅p₄  - 7⋅P⋅p₂ ⋅p₄ + 5⋅P⋅p₂  - P⋅p₂⋅p₄  - 2⋅P⋅p₂⋅p₄  + 5⋅P⋅p₂⋅p₄  - 2⋅P⋅p₂ + R⋅\n",
       "──────────────────────────────────────────────────────────────────────────────\n",
       "                                                    6   2     6          5   3\n",
       "                                                2⋅p₂ ⋅p₄  - p₂ ⋅p₄ - 4⋅p₂ ⋅p₄ \n",
       "\n",
       "  6   2       6            5   3         5   2         5          4   4       \n",
       "p₂ ⋅p₄  - R⋅p₂ ⋅p₄ - 2⋅R⋅p₂ ⋅p₄  - 3⋅R⋅p₂ ⋅p₄  + 5⋅R⋅p₂ ⋅p₄ + R⋅p₂ ⋅p₄  + 9⋅R⋅\n",
       "──────────────────────────────────────────────────────────────────────────────\n",
       "       5   2       5          4   4        4   3       4   2        4        4\n",
       " - 7⋅p₂ ⋅p₄  + 7⋅p₂ ⋅p₄ + 2⋅p₂ ⋅p₄  + 17⋅p₂ ⋅p₄  + 2⋅p₂ ⋅p₄  - 15⋅p₂ ⋅p₄ + p₂ \n",
       "\n",
       "  4   3         4   2         4            3   4         3   3         3   2  \n",
       "p₂ ⋅p₄  - 2⋅R⋅p₂ ⋅p₄  - 8⋅R⋅p₂ ⋅p₄ - 5⋅R⋅p₂ ⋅p₄  - 8⋅R⋅p₂ ⋅p₄  + 5⋅R⋅p₂ ⋅p₄  +\n",
       "──────────────────────────────────────────────────────────────────────────────\n",
       "       3   4        3   3       3   2        3          3        2   4       2\n",
       " - 9⋅p₂ ⋅p₄  - 20⋅p₂ ⋅p₄  + 8⋅p₂ ⋅p₄  + 20⋅p₂ ⋅p₄ - 4⋅p₂  + 13⋅p₂ ⋅p₄  + 7⋅p₂ \n",
       "\n",
       "       3            2   4       2   3         2   2         2               4 \n",
       " 8⋅R⋅p₂ ⋅p₄ + 6⋅R⋅p₂ ⋅p₄  + R⋅p₂ ⋅p₄  - 5⋅R⋅p₂ ⋅p₄  - 2⋅R⋅p₂ ⋅p₄ - 2⋅R⋅p₂⋅p₄  \n",
       "──────────────────────────────────────────────────────────────────────────────\n",
       "   3        2   2       2          2          4          3          2         \n",
       "⋅p₄  - 17⋅p₂ ⋅p₄  - 8⋅p₂ ⋅p₄ + 5⋅p₂  - 9⋅p₂⋅p₄  + 8⋅p₂⋅p₄  + 9⋅p₂⋅p₄  - 6⋅p₂⋅p\n",
       "\n",
       "         3            2                 6          5   2       5        4   3 \n",
       "+ R⋅p₂⋅p₄  + 4⋅R⋅p₂⋅p₄  - 3⋅R⋅p₂⋅p₄ + p₂ ⋅p₄ - 2⋅p₂ ⋅p₄  - 2⋅p₂ ⋅p₄ + p₂ ⋅p₄  \n",
       "──────────────────────────────────────────────────────────────────────────────\n",
       "               4       3       2                                              \n",
       "₄ - 2⋅p₂ + 3⋅p₄  - 9⋅p₄  + 9⋅p₄  - 3⋅p₄                                       \n",
       "\n",
       "      4   2     4          3   3       3   2     3        2   4       2   3   \n",
       "+ 5⋅p₂ ⋅p₄  + p₂ ⋅p₄ - 4⋅p₂ ⋅p₄  - 2⋅p₂ ⋅p₄  + p₂ ⋅p₄ + p₂ ⋅p₄  + 3⋅p₂ ⋅p₄  - \n",
       "──────────────────────────────────────────────────────────────────────────────\n",
       "                                                                              \n",
       "                                                                              \n",
       "\n",
       "    2   2     2             4          3          2               4       3   \n",
       "3⋅p₂ ⋅p₄  - p₂ ⋅p₄ - 2⋅p₂⋅p₄  + 2⋅p₂⋅p₄  + 2⋅p₂⋅p₄  - 2⋅p₂⋅p₄ + p₄  - 3⋅p₄  + \n",
       "──────────────────────────────────────────────────────────────────────────────\n",
       "                                                                              \n",
       "                                                                              \n",
       "\n",
       "    2     \n",
       "3⋅p₄  - p₄\n",
       "──────────\n",
       "          \n",
       "          "
      ]
     },
     "execution_count": 58,
     "metadata": {},
     "output_type": "execute_result"
    }
   ],
   "source": [
    "sy_prime[0].factor()"
   ]
  },
  {
   "cell_type": "code",
   "execution_count": 59,
   "metadata": {},
   "outputs": [],
   "source": [
    "sol_one = sym.solve((sum(ssN0 @ Sy).factor() - R), p4)[0]\n",
    "sol_two = sym.solve((sum(ssN3 @ Sy).factor() - R), p4)[0]"
   ]
  },
  {
   "cell_type": "code",
   "execution_count": 60,
   "metadata": {},
   "outputs": [],
   "source": [
    "expr = (sum(ssN2 @ Sy).factor() - R).subs({p1:1}).factor()"
   ]
  },
  {
   "cell_type": "code",
   "execution_count": 61,
   "metadata": {},
   "outputs": [],
   "source": [
    "# sols_three = sym.solve(expr.subs({P: 0.1, R:0.6}).simplify(), p4)"
   ]
  },
  {
   "cell_type": "code",
   "execution_count": 62,
   "metadata": {},
   "outputs": [
    {
     "data": {
      "image/png": "[encoded data removed]",
      "text/plain": [
       "<Figure size 432x288 with 1 Axes>"
      ]
     },
     "metadata": {
      "needs_background": "light"
     },
     "output_type": "display_data"
    }
   ],
   "source": [
    "fig, ax = plt.subplots()\n",
    "\n",
    "ax.set_title(\"Equilibria Special Case - PD\")\n",
    "\n",
    "for i, row in eq[['p2', 'p6',]].drop_duplicates().sample(n=500, random_state=1).iterrows():\n",
    "\n",
    "    ax.scatter(row['p2'], row['p6'], color='orange')\n",
    "    \n",
    "    \n",
    "ax.plot(Is, [sol_one.subs({P:0.1, R:0.6}) for _ in Is], '-', label='N0', color='black')\n",
    "\n",
    "ax.plot(Is, [sol_two.subs({P:0.1, R:0.6, p2:i}) for i in Is], '-.', label='N3', color='black')\n",
    "\n",
    "\n",
    "\n",
    "ax.set_ylim(0, 1)\n",
    "\n",
    "ax.set_xlabel('p2')\n",
    "\n",
    "ax.set_ylabel('p4')\n",
    "\n",
    "ax.legend()\n",
    "\n",
    "plt.show()"
   ]
  },
  {
   "cell_type": "markdown",
   "metadata": {},
   "source": [
    "### The non zero states"
   ]
  },
  {
   "cell_type": "code",
   "execution_count": 63,
   "metadata": {},
   "outputs": [
    {
     "data": {
      "image/png": "[encoded data removed]",
      "text/latex": [
       "$\\displaystyle \\left[ 6, \\  8, \\  14, \\  16\\right]$"
      ],
      "text/plain": [
       "[6, 8, 14, 16]"
      ]
     },
     "execution_count": 63,
     "metadata": {},
     "output_type": "execute_result"
    }
   ],
   "source": [
    "[(i + 1) for i, s in enumerate(ssN0) if s != 0 ]"
   ]
  },
  {
   "cell_type": "code",
   "execution_count": 64,
   "metadata": {},
   "outputs": [
    {
     "data": {
      "image/png": "[encoded data removed]",
      "text/latex": [
       "$\\displaystyle \\left[ 1, \\  2, \\  3, \\  6, \\  8, \\  9, \\  11, \\  13, \\  15\\right]$"
      ],
      "text/plain": [
       "[1, 2, 3, 6, 8, 9, 11, 13, 15]"
      ]
     },
     "execution_count": 64,
     "metadata": {},
     "output_type": "execute_result"
    }
   ],
   "source": [
    "[(i + 1) for i, s in enumerate(ssN3) if s != 0 ]"
   ]
  },
  {
   "cell_type": "code",
   "execution_count": 65,
   "metadata": {},
   "outputs": [
    {
     "data": {
      "image/png": "[encoded data removed]",
      "text/latex": [
       "$\\displaystyle \\left[ 1, \\  2, \\  3, \\  4, \\  5, \\  6, \\  7, \\  8, \\  9, \\  10, \\  11, \\  12, \\  13, \\  14, \\  15, \\  16\\right]$"
      ],
      "text/plain": [
       "[1, 2, 3, 4, 5, 6, 7, 8, 9, 10, 11, 12, 13, 14, 15, 16]"
      ]
     },
     "execution_count": 65,
     "metadata": {},
     "output_type": "execute_result"
    }
   ],
   "source": [
    "[(i + 1) for i, s in enumerate(ssN2) if s != 0 ]"
   ]
  },
  {
   "cell_type": "markdown",
   "metadata": {},
   "source": [
    "### remind myself with memory-one strategies are the relationships from the strategies linear?"
   ]
  },
  {
   "cell_type": "code",
   "execution_count": 66,
   "metadata": {},
   "outputs": [],
   "source": [
    "df = pd.read_csv(\"../memory_one_equilibria.csv\")"
   ]
  },
  {
   "cell_type": "code",
   "execution_count": 67,
   "metadata": {},
   "outputs": [],
   "source": [
    "per_player = df.groupby('ID')['condition A'].all()"
   ]
  },
  {
   "cell_type": "code",
   "execution_count": 68,
   "metadata": {},
   "outputs": [],
   "source": [
    "no_eq_players_ID = per_player[per_player == False].index"
   ]
  },
  {
   "cell_type": "code",
   "execution_count": 69,
   "metadata": {},
   "outputs": [],
   "source": [
    "no_eq_df = df[df['ID'].isin(no_eq_players_ID)]"
   ]
  },
  {
   "cell_type": "code",
   "execution_count": 70,
   "metadata": {},
   "outputs": [],
   "source": [
    "groups = no_eq_df[no_eq_df['condition B'] == False].groupby('ID')"
   ]
  },
  {
   "cell_type": "code",
   "execution_count": 71,
   "metadata": {},
   "outputs": [],
   "source": [
    "sets = []\n",
    "ids = []\n",
    "for i, group in groups:\n",
    "    sets.append(group['label'].values)\n",
    "    ids.append(group['ID'].unique())"
   ]
  },
  {
   "cell_type": "code",
   "execution_count": 72,
   "metadata": {},
   "outputs": [],
   "source": [
    "flat_list = [item for sublist in sets for item in sublist]"
   ]
  },
  {
   "cell_type": "code",
   "execution_count": 73,
   "metadata": {},
   "outputs": [],
   "source": [
    "counter = Counter(flat_list)"
   ]
  },
  {
   "cell_type": "code",
   "execution_count": 74,
   "metadata": {},
   "outputs": [],
   "source": [
    "N7_indices = [i for i, s in enumerate(sets) if \"N7\" in list(s)]\n",
    "\n",
    "N0_indices = [i for i, s in enumerate(sets) if \"N0\" in list(s)]"
   ]
  },
  {
   "cell_type": "code",
   "execution_count": 75,
   "metadata": {},
   "outputs": [
    {
     "data": {
      "text/plain": [
       "True"
      ]
     },
     "execution_count": 75,
     "metadata": {},
     "output_type": "execute_result"
    }
   ],
   "source": [
    "len(set(N7_indices + N0_indices)) == len(no_eq_players_ID)"
   ]
  },
  {
   "cell_type": "code",
   "execution_count": 76,
   "metadata": {},
   "outputs": [],
   "source": [
    "deterministic_strategies = list( \n",
    "    itertools.product([0, 1], repeat=4)\n",
    ")"
   ]
  },
  {
   "cell_type": "code",
   "execution_count": 77,
   "metadata": {},
   "outputs": [],
   "source": [
    "Sy = coplayer_payoffs(R, P, dim=1)"
   ]
  },
  {
   "cell_type": "code",
   "execution_count": 78,
   "metadata": {},
   "outputs": [
    {
     "data": {
      "image/png": "[encoded data removed]",
      "text/latex": [
       "$\\displaystyle \\left( 0, \\  0, \\  0, \\  0\\right)$"
      ],
      "text/plain": [
       "(0, 0, 0, 0)"
      ]
     },
     "execution_count": 78,
     "metadata": {},
     "output_type": "execute_result"
    }
   ],
   "source": [
    "deterministic_strategies[0]"
   ]
  },
  {
   "cell_type": "code",
   "execution_count": 79,
   "metadata": {},
   "outputs": [],
   "source": [
    "M = calculate_M([p1, p2, p3, p4], deterministic_strategies[0])\n",
    "\n",
    "ss = invariant_distribution_analytically(M)"
   ]
  },
  {
   "cell_type": "code",
   "execution_count": 80,
   "metadata": {},
   "outputs": [
    {
     "data": {
      "image/png": "[encoded data removed]",
      "text/latex": [
       "$\\displaystyle \\left[ \\frac{- P p_{2} + P + R p_{2} - R}{R - 1}\\right]$"
      ],
      "text/plain": [
       "⎡-P⋅p₂ + P + R⋅p₂ - R⎤\n",
       "⎢────────────────────⎥\n",
       "⎣       R - 1        ⎦"
      ]
     },
     "execution_count": 80,
     "metadata": {},
     "output_type": "execute_result"
    }
   ],
   "source": [
    "sym.solve(sum(ss @ Sy) - R, p4)"
   ]
  },
  {
   "cell_type": "code",
   "execution_count": 81,
   "metadata": {},
   "outputs": [],
   "source": [
    "M = calculate_M([p1, p2, p3, p4], deterministic_strategies[7])\n",
    "\n",
    "ss = invariant_distribution_analytically(M)"
   ]
  },
  {
   "cell_type": "code",
   "execution_count": 82,
   "metadata": {},
   "outputs": [
    {
     "data": {
      "image/png": "[encoded data removed]",
      "text/latex": [
       "$\\displaystyle \\left[ \\frac{R \\left(p_{2} - 1\\right)}{R - 1}\\right]$"
      ],
      "text/plain": [
       "⎡R⋅(p₂ - 1)⎤\n",
       "⎢──────────⎥\n",
       "⎣  R - 1   ⎦"
      ]
     },
     "execution_count": 82,
     "metadata": {},
     "output_type": "execute_result"
    }
   ],
   "source": [
    "sym.solve(sum(ss @ Sy).subs({p1:1}) - R, p3)"
   ]
  },
  {
   "cell_type": "markdown",
   "metadata": {},
   "source": [
    "### Donation Game"
   ]
  },
  {
   "cell_type": "code",
   "execution_count": 83,
   "metadata": {},
   "outputs": [],
   "source": [
    "import numpy as np"
   ]
  },
  {
   "cell_type": "code",
   "execution_count": 84,
   "metadata": {},
   "outputs": [],
   "source": [
    "df = pd.read_csv(\"../special_case_donation.csv\")"
   ]
  },
  {
   "cell_type": "code",
   "execution_count": 85,
   "metadata": {},
   "outputs": [],
   "source": [
    "eq_donation, noneq_donation = seperate_equilibria_and_non(df)"
   ]
  },
  {
   "cell_type": "code",
   "execution_count": 86,
   "metadata": {},
   "outputs": [],
   "source": [
    "Is = np.linspace(0, 1, 10)"
   ]
  },
  {
   "cell_type": "code",
   "execution_count": 87,
   "metadata": {},
   "outputs": [],
   "source": [
    "b_val = 2\n",
    "c_val = 1"
   ]
  },
  {
   "cell_type": "code",
   "execution_count": 88,
   "metadata": {},
   "outputs": [
    {
     "data": {
      "image/png": "[encoded data removed]",
      "text/plain": [
       "<Figure size 432x288 with 1 Axes>"
      ]
     },
     "metadata": {
      "needs_background": "light"
     },
     "output_type": "display_data"
    }
   ],
   "source": [
    "fig, ax = plt.subplots()\n",
    "\n",
    "ax.set_title(\"Equilibria Special Case - Donation\")\n",
    "\n",
    "for i, row in eq[['p2', 'p6',]].drop_duplicates().sample(n=500, random_state=1).iterrows():\n",
    "\n",
    "    ax.scatter(row['p2'], row['p6'], color='orange')\n",
    "\n",
    "ax.set_ylim(0, 1)\n",
    "ax.set_xlabel('p2')\n",
    "ax.set_ylabel('p4')\n",
    "\n",
    "plt.show()"
   ]
  },
  {
   "cell_type": "code",
   "execution_count": 94,
   "metadata": {},
   "outputs": [],
   "source": [
    "def payoffs_donation(b, c, dim=4):\n",
    "    return np.array([b - c, b, -c, 0] * dim)\n",
    "\n",
    "def second_to_last_payoffs_donation(b, c, dim=4):\n",
    "    return np.array([b - c] * dim + [b] * dim + [-c] * dim + [0] * dim)"
   ]
  },
  {
   "cell_type": "code",
   "execution_count": 95,
   "metadata": {},
   "outputs": [],
   "source": [
    "def payoffs_donation_player(b, c, dim=4):\n",
    "    return np.array([b - c, -c, b, 0] * dim)\n",
    "\n",
    "\n",
    "def second_to_last_payoffs_donation_player(b, c, dim=4):\n",
    "    return np.array([b - c] * dim + [-c] * dim + [b] * dim + [0] * dim)"
   ]
  },
  {
   "cell_type": "markdown",
   "metadata": {},
   "source": [
    "### N0"
   ]
  },
  {
   "cell_type": "code",
   "execution_count": 96,
   "metadata": {},
   "outputs": [],
   "source": [
    "Sy = payoffs_donation(b, c, dim=4)\n",
    "\n",
    "Sy_prime = second_to_last_payoffs_donation(b, c, dim=4)"
   ]
  },
  {
   "cell_type": "code",
   "execution_count": 97,
   "metadata": {},
   "outputs": [],
   "source": [
    "sy = ssN0 @ Sy"
   ]
  },
  {
   "cell_type": "code",
   "execution_count": 98,
   "metadata": {},
   "outputs": [
    {
     "data": {
      "image/png": "[encoded data removed]",
      "text/latex": [
       "$\\displaystyle b p_{4} - b + c$"
      ],
      "text/plain": [
       "b⋅p₄ - b + c"
      ]
     },
     "execution_count": 98,
     "metadata": {},
     "output_type": "execute_result"
    }
   ],
   "source": [
    "(sum(sy).factor() - (b - c))"
   ]
  },
  {
   "cell_type": "code",
   "execution_count": 99,
   "metadata": {},
   "outputs": [
    {
     "data": {
      "image/png": "[encoded data removed]",
      "text/latex": [
       "$\\displaystyle \\left[ \\frac{b - c}{b}\\right]$"
      ],
      "text/plain": [
       "⎡b - c⎤\n",
       "⎢─────⎥\n",
       "⎣  b  ⎦"
      ]
     },
     "execution_count": 99,
     "metadata": {},
     "output_type": "execute_result"
    }
   ],
   "source": [
    "sym.solve((sum(sy).factor() - (b - c)), p4)"
   ]
  },
  {
   "cell_type": "code",
   "execution_count": 100,
   "metadata": {},
   "outputs": [],
   "source": [
    "sy_prime = ssN0 @ Sy_prime"
   ]
  },
  {
   "cell_type": "code",
   "execution_count": 101,
   "metadata": {},
   "outputs": [
    {
     "data": {
      "image/png": "[encoded data removed]",
      "text/latex": [
       "$\\displaystyle b p_{4} - b + c$"
      ],
      "text/plain": [
       "b⋅p₄ - b + c"
      ]
     },
     "execution_count": 101,
     "metadata": {},
     "output_type": "execute_result"
    }
   ],
   "source": [
    "(sum(sy_prime).factor() - (b - c))"
   ]
  },
  {
   "cell_type": "code",
   "execution_count": 102,
   "metadata": {},
   "outputs": [
    {
     "data": {
      "image/png": "[encoded data removed]",
      "text/latex": [
       "$\\displaystyle \\left[ \\frac{b - c}{b}\\right]$"
      ],
      "text/plain": [
       "⎡b - c⎤\n",
       "⎢─────⎥\n",
       "⎣  b  ⎦"
      ]
     },
     "execution_count": 102,
     "metadata": {},
     "output_type": "execute_result"
    }
   ],
   "source": [
    "sym.solve((sum(sy_prime).factor() - (b - c)), p4)"
   ]
  },
  {
   "cell_type": "markdown",
   "metadata": {},
   "source": [
    "### N3"
   ]
  },
  {
   "cell_type": "code",
   "execution_count": 103,
   "metadata": {},
   "outputs": [
    {
     "data": {
      "image/png": "[encoded data removed]",
      "text/latex": [
       "$\\displaystyle - \\frac{b p_{2} p_{4} - b p_{2} + b p_{4}^{2} - 4 b p_{4} + 3 b - c p_{2} + 2 c p_{4} - 2 c}{p_{2} p_{4}^{2} - 6 p_{4} + 6}$"
      ],
      "text/plain": [
       " ⎛                     2                                     ⎞ \n",
       "-⎝b⋅p₂⋅p₄ - b⋅p₂ + b⋅p₄  - 4⋅b⋅p₄ + 3⋅b - c⋅p₂ + 2⋅c⋅p₄ - 2⋅c⎠ \n",
       "───────────────────────────────────────────────────────────────\n",
       "                            2                                  \n",
       "                       p₂⋅p₄  - 6⋅p₄ + 6                       "
      ]
     },
     "execution_count": 103,
     "metadata": {},
     "output_type": "execute_result"
    }
   ],
   "source": [
    "(sum(ssN3 @ Sy).factor() - (b - c)).subs({p1: 1}).factor()"
   ]
  },
  {
   "cell_type": "code",
   "execution_count": 104,
   "metadata": {},
   "outputs": [
    {
     "data": {
      "image/png": "[encoded data removed]",
      "text/latex": [
       "$\\displaystyle - \\frac{b p_{2} p_{4} - b p_{2} + b p_{4}^{2} - 4 b p_{4} + 3 b - c p_{2} + 2 c p_{4} - 2 c}{p_{2} p_{4}^{2} - 6 p_{4} + 6}$"
      ],
      "text/plain": [
       " ⎛                     2                                     ⎞ \n",
       "-⎝b⋅p₂⋅p₄ - b⋅p₂ + b⋅p₄  - 4⋅b⋅p₄ + 3⋅b - c⋅p₂ + 2⋅c⋅p₄ - 2⋅c⎠ \n",
       "───────────────────────────────────────────────────────────────\n",
       "                            2                                  \n",
       "                       p₂⋅p₄  - 6⋅p₄ + 6                       "
      ]
     },
     "execution_count": 104,
     "metadata": {},
     "output_type": "execute_result"
    }
   ],
   "source": [
    "(sum(ssN3 @ Sy_prime).factor() - (b - c)).subs({p1: 1}).factor()"
   ]
  },
  {
   "cell_type": "code",
   "execution_count": 105,
   "metadata": {},
   "outputs": [],
   "source": [
    "sols = sym.solve((sum(ssN3 @ Sy).factor() - (b - c)).subs({p1: 1}).factor(), p4)"
   ]
  },
  {
   "cell_type": "code",
   "execution_count": 106,
   "metadata": {},
   "outputs": [
    {
     "data": {
      "image/png": "[encoded data removed]",
      "text/latex": [
       "$\\displaystyle \\left( - \\frac{b p_{2} - 4 b + 2 c + \\sqrt{b^{2} p_{2}^{2} - 4 b^{2} p_{2} + 4 b^{2} + 8 b c p_{2} - 8 b c + 4 c^{2}}}{2 b}, \\  - \\frac{b p_{2} - 4 b + 2 c - \\sqrt{b^{2} p_{2}^{2} - 4 b^{2} p_{2} + 4 b^{2} + 8 b c p_{2} - 8 b c + 4 c^{2}}}{2 b}\\right)$"
      ],
      "text/plain": [
       "⎛ ⎛                      ___________________________________________________⎞ \n",
       "⎜ ⎜                     ╱  2   2      2         2                         2 ⎟ \n",
       "⎜-⎝b⋅p₂ - 4⋅b + 2⋅c + ╲╱  b ⋅p₂  - 4⋅b ⋅p₂ + 4⋅b  + 8⋅b⋅c⋅p₂ - 8⋅b⋅c + 4⋅c  ⎠ \n",
       "⎜─────────────────────────────────────────────────────────────────────────────\n",
       "⎝                                     2⋅b                                     \n",
       "\n",
       "   ⎛                      ___________________________________________________⎞\n",
       "   ⎜                     ╱  2   2      2         2                         2 ⎟\n",
       "  -⎝b⋅p₂ - 4⋅b + 2⋅c - ╲╱  b ⋅p₂  - 4⋅b ⋅p₂ + 4⋅b  + 8⋅b⋅c⋅p₂ - 8⋅b⋅c + 4⋅c  ⎠\n",
       ", ────────────────────────────────────────────────────────────────────────────\n",
       "                                       2⋅b                                    \n",
       "\n",
       " ⎞\n",
       " ⎟\n",
       " ⎟\n",
       "─⎟\n",
       " ⎠"
      ]
     },
     "execution_count": 106,
     "metadata": {},
     "output_type": "execute_result"
    }
   ],
   "source": [
    "sols[0].factor(), sols[1].factor()"
   ]
  },
  {
   "cell_type": "code",
   "execution_count": 107,
   "metadata": {},
   "outputs": [
    {
     "data": {
      "image/png": "[encoded data removed]",
      "text/latex": [
       "$\\displaystyle \\left[ 1.0, \\  0.941367492325699, \\  0.876691974594839, \\  0.806287056638603, \\  0.730619011011327, \\  0.650242769945167, \\  0.565741454089335, \\  0.477680319389368, \\  0.386578078955984, \\  0.292893218813452\\right]$"
      ],
      "text/plain": [
       "[1.0, 0.941367492325699, 0.876691974594839, 0.806287056638603, 0.7306190110113\n",
       "27, 0.650242769945167, 0.565741454089335, 0.477680319389368, 0.386578078955984\n",
       ", 0.292893218813452]"
      ]
     },
     "execution_count": 107,
     "metadata": {},
     "output_type": "execute_result"
    }
   ],
   "source": [
    "[sols[0].factor().subs({b: b_val, c: c_val}).factor().subs({p2: i}) for i in Is]"
   ]
  },
  {
   "cell_type": "code",
   "execution_count": 108,
   "metadata": {},
   "outputs": [
    {
     "data": {
      "image/png": "[encoded data removed]",
      "text/latex": [
       "$\\displaystyle \\left[ 2.0, \\  1.94752139656319, \\  1.90108580318294, \\  1.86037961002806, \\  1.82493654454423, \\  1.79420167449928, \\  1.767591879244, \\  1.74454190283285, \\  1.72453303215513, \\  1.70710678118655\\right]$"
      ],
      "text/plain": [
       "[2.0, 1.94752139656319, 1.90108580318294, 1.86037961002806, 1.82493654454423, \n",
       "1.79420167449928, 1.767591879244, 1.74454190283285, 1.72453303215513, 1.707106\n",
       "78118655]"
      ]
     },
     "execution_count": 108,
     "metadata": {},
     "output_type": "execute_result"
    }
   ],
   "source": [
    "[sols[1].factor().subs({b: b_val, c: c_val}).factor().subs({p2: i}) for i in Is]"
   ]
  },
  {
   "cell_type": "markdown",
   "metadata": {},
   "source": [
    "### N2"
   ]
  },
  {
   "cell_type": "code",
   "execution_count": 109,
   "metadata": {},
   "outputs": [
    {
     "data": {
      "image/png": "[encoded data removed]",
      "text/latex": [
       "$\\displaystyle - \\frac{b p_{2}^{6} p_{4}^{2} - b p_{2}^{6} p_{4} - 2 b p_{2}^{5} p_{4}^{3} - 2 b p_{2}^{5} p_{4}^{2} + 4 b p_{2}^{5} p_{4} + b p_{2}^{4} p_{4}^{4} + 7 b p_{2}^{4} p_{4}^{3} - b p_{2}^{4} p_{4}^{2} - 8 b p_{2}^{4} p_{4} + b p_{2}^{4} - 4 b p_{2}^{3} p_{4}^{4} - 8 b p_{2}^{3} p_{4}^{3} + 5 b p_{2}^{3} p_{4}^{2} + 11 b p_{2}^{3} p_{4} - 4 b p_{2}^{3} + 6 b p_{2}^{2} p_{4}^{4} + 3 b p_{2}^{2} p_{4}^{3} - 9 b p_{2}^{2} p_{4}^{2} - 5 b p_{2}^{2} p_{4} + 5 b p_{2}^{2} - 5 b p_{2} p_{4}^{4} + 5 b p_{2} p_{4}^{3} + 3 b p_{2} p_{4}^{2} - b p_{2} p_{4} - 2 b p_{2} + 2 b p_{4}^{4} - 6 b p_{4}^{3} + 6 b p_{4}^{2} - 2 b p_{4} - c p_{2}^{6} p_{4} + 3 c p_{2}^{5} p_{4}^{2} + c p_{2}^{5} p_{4} - 3 c p_{2}^{4} p_{4}^{3} - 6 c p_{2}^{4} p_{4}^{2} + 3 c p_{2}^{4} p_{4} - c p_{2}^{4} + c p_{2}^{3} p_{4}^{4} + 8 c p_{2}^{3} p_{4}^{3} + 2 c p_{2}^{3} p_{4}^{2} - 10 c p_{2}^{3} p_{4} + 4 c p_{2}^{3} - 3 c p_{2}^{2} p_{4}^{4} - 7 c p_{2}^{2} p_{4}^{3} + 7 c p_{2}^{2} p_{4}^{2} + 8 c p_{2}^{2} p_{4} - 5 c p_{2}^{2} + 3 c p_{2} p_{4}^{4} - 7 c p_{2} p_{4}^{2} + 2 c p_{2} p_{4} + 2 c p_{2} - c p_{4}^{4} + 3 c p_{4}^{3} - 3 c p_{4}^{2} + c p_{4}}{2 p_{2}^{6} p_{4}^{2} - p_{2}^{6} p_{4} - 4 p_{2}^{5} p_{4}^{3} - 7 p_{2}^{5} p_{4}^{2} + 7 p_{2}^{5} p_{4} + 2 p_{2}^{4} p_{4}^{4} + 17 p_{2}^{4} p_{4}^{3} + 2 p_{2}^{4} p_{4}^{2} - 15 p_{2}^{4} p_{4} + p_{2}^{4} - 9 p_{2}^{3} p_{4}^{4} - 20 p_{2}^{3} p_{4}^{3} + 8 p_{2}^{3} p_{4}^{2} + 20 p_{2}^{3} p_{4} - 4 p_{2}^{3} + 13 p_{2}^{2} p_{4}^{4} + 7 p_{2}^{2} p_{4}^{3} - 17 p_{2}^{2} p_{4}^{2} - 8 p_{2}^{2} p_{4} + 5 p_{2}^{2} - 9 p_{2} p_{4}^{4} + 8 p_{2} p_{4}^{3} + 9 p_{2} p_{4}^{2} - 6 p_{2} p_{4} - 2 p_{2} + 3 p_{4}^{4} - 9 p_{4}^{3} + 9 p_{4}^{2} - 3 p_{4}}$"
      ],
      "text/plain": [
       " ⎛    6   2       6            5   3         5   2         5          4   4   \n",
       "-⎝b⋅p₂ ⋅p₄  - b⋅p₂ ⋅p₄ - 2⋅b⋅p₂ ⋅p₄  - 2⋅b⋅p₂ ⋅p₄  + 4⋅b⋅p₂ ⋅p₄ + b⋅p₂ ⋅p₄  + \n",
       "──────────────────────────────────────────────────────────────────────────────\n",
       "                                                                              \n",
       "                                                                              \n",
       "\n",
       "      4   3       4   2         4          4         3   4         3   3      \n",
       "7⋅b⋅p₂ ⋅p₄  - b⋅p₂ ⋅p₄  - 8⋅b⋅p₂ ⋅p₄ + b⋅p₂  - 4⋅b⋅p₂ ⋅p₄  - 8⋅b⋅p₂ ⋅p₄  + 5⋅b\n",
       "──────────────────────────────────────────────────────────────────────────────\n",
       "                                                                              \n",
       "                                                                              \n",
       "\n",
       "   3   2          3            3         2   4         2   3         2   2    \n",
       "⋅p₂ ⋅p₄  + 11⋅b⋅p₂ ⋅p₄ - 4⋅b⋅p₂  + 6⋅b⋅p₂ ⋅p₄  + 3⋅b⋅p₂ ⋅p₄  - 9⋅b⋅p₂ ⋅p₄  - 5\n",
       "──────────────────────────────────────────────────────────────────────────────\n",
       "                    6   2     6          5   3       5   2       5          4 \n",
       "                2⋅p₂ ⋅p₄  - p₂ ⋅p₄ - 4⋅p₂ ⋅p₄  - 7⋅p₂ ⋅p₄  + 7⋅p₂ ⋅p₄ + 2⋅p₂ ⋅\n",
       "\n",
       "     2            2            4            3            2                    \n",
       "⋅b⋅p₂ ⋅p₄ + 5⋅b⋅p₂  - 5⋅b⋅p₂⋅p₄  + 5⋅b⋅p₂⋅p₄  + 3⋅b⋅p₂⋅p₄  - b⋅p₂⋅p₄ - 2⋅b⋅p₂ \n",
       "──────────────────────────────────────────────────────────────────────────────\n",
       "  4        4   3       4   2        4        4       3   4        3   3       \n",
       "p₄  + 17⋅p₂ ⋅p₄  + 2⋅p₂ ⋅p₄  - 15⋅p₂ ⋅p₄ + p₂  - 9⋅p₂ ⋅p₄  - 20⋅p₂ ⋅p₄  + 8⋅p₂\n",
       "\n",
       "        4         3         2                6            5   2       5       \n",
       "+ 2⋅b⋅p₄  - 6⋅b⋅p₄  + 6⋅b⋅p₄  - 2⋅b⋅p₄ - c⋅p₂ ⋅p₄ + 3⋅c⋅p₂ ⋅p₄  + c⋅p₂ ⋅p₄ - 3\n",
       "──────────────────────────────────────────────────────────────────────────────\n",
       "3   2        3          3        2   4       2   3        2   2       2       \n",
       " ⋅p₄  + 20⋅p₂ ⋅p₄ - 4⋅p₂  + 13⋅p₂ ⋅p₄  + 7⋅p₂ ⋅p₄  - 17⋅p₂ ⋅p₄  - 8⋅p₂ ⋅p₄ + 5\n",
       "\n",
       "     4   3         4   2         4          4       3   4         3   3       \n",
       "⋅c⋅p₂ ⋅p₄  - 6⋅c⋅p₂ ⋅p₄  + 3⋅c⋅p₂ ⋅p₄ - c⋅p₂  + c⋅p₂ ⋅p₄  + 8⋅c⋅p₂ ⋅p₄  + 2⋅c⋅\n",
       "──────────────────────────────────────────────────────────────────────────────\n",
       "   2          4          3          2                        4       3       2\n",
       "⋅p₂  - 9⋅p₂⋅p₄  + 8⋅p₂⋅p₄  + 9⋅p₂⋅p₄  - 6⋅p₂⋅p₄ - 2⋅p₂ + 3⋅p₄  - 9⋅p₄  + 9⋅p₄ \n",
       "\n",
       "  3   2          3            3         2   4         2   3         2   2     \n",
       "p₂ ⋅p₄  - 10⋅c⋅p₂ ⋅p₄ + 4⋅c⋅p₂  - 3⋅c⋅p₂ ⋅p₄  - 7⋅c⋅p₂ ⋅p₄  + 7⋅c⋅p₂ ⋅p₄  + 8⋅\n",
       "──────────────────────────────────────────────────────────────────────────────\n",
       "                                                                              \n",
       " - 3⋅p₄                                                                       \n",
       "\n",
       "    2            2            4            2                            4     \n",
       "c⋅p₂ ⋅p₄ - 5⋅c⋅p₂  + 3⋅c⋅p₂⋅p₄  - 7⋅c⋅p₂⋅p₄  + 2⋅c⋅p₂⋅p₄ + 2⋅c⋅p₂ - c⋅p₄  + 3⋅\n",
       "──────────────────────────────────────────────────────────────────────────────\n",
       "                                                                              \n",
       "                                                                              \n",
       "\n",
       "    3         2       ⎞ \n",
       "c⋅p₄  - 3⋅c⋅p₄  + c⋅p₄⎠ \n",
       "────────────────────────\n",
       "                        \n",
       "                        "
      ]
     },
     "execution_count": 109,
     "metadata": {},
     "output_type": "execute_result"
    }
   ],
   "source": [
    "(sum(ssN2 @ Sy).subs({p1: 1}).factor() - (b - c)).factor()"
   ]
  },
  {
   "cell_type": "code",
   "execution_count": 110,
   "metadata": {},
   "outputs": [
    {
     "data": {
      "image/png": "[encoded data removed]",
      "text/latex": [
       "$\\displaystyle - \\frac{2 p_{2}^{6} p_{4}^{2} - 3 p_{2}^{6} p_{4} - 4 p_{2}^{5} p_{4}^{3} - p_{2}^{5} p_{4}^{2} + 9 p_{2}^{5} p_{4} + 2 p_{2}^{4} p_{4}^{4} + 11 p_{2}^{4} p_{4}^{3} - 8 p_{2}^{4} p_{4}^{2} - 13 p_{2}^{4} p_{4} + p_{2}^{4} - 7 p_{2}^{3} p_{4}^{4} - 8 p_{2}^{3} p_{4}^{3} + 12 p_{2}^{3} p_{4}^{2} + 12 p_{2}^{3} p_{4} - 4 p_{2}^{3} + 9 p_{2}^{2} p_{4}^{4} - p_{2}^{2} p_{4}^{3} - 11 p_{2}^{2} p_{4}^{2} - 2 p_{2}^{2} p_{4} + 5 p_{2}^{2} - 7 p_{2} p_{4}^{4} + 10 p_{2} p_{4}^{3} - p_{2} p_{4}^{2} - 2 p_{2} + 3 p_{4}^{4} - 9 p_{4}^{3} + 9 p_{4}^{2} - 3 p_{4}}{2 p_{2}^{6} p_{4}^{2} - p_{2}^{6} p_{4} - 4 p_{2}^{5} p_{4}^{3} - 7 p_{2}^{5} p_{4}^{2} + 7 p_{2}^{5} p_{4} + 2 p_{2}^{4} p_{4}^{4} + 17 p_{2}^{4} p_{4}^{3} + 2 p_{2}^{4} p_{4}^{2} - 15 p_{2}^{4} p_{4} + p_{2}^{4} - 9 p_{2}^{3} p_{4}^{4} - 20 p_{2}^{3} p_{4}^{3} + 8 p_{2}^{3} p_{4}^{2} + 20 p_{2}^{3} p_{4} - 4 p_{2}^{3} + 13 p_{2}^{2} p_{4}^{4} + 7 p_{2}^{2} p_{4}^{3} - 17 p_{2}^{2} p_{4}^{2} - 8 p_{2}^{2} p_{4} + 5 p_{2}^{2} - 9 p_{2} p_{4}^{4} + 8 p_{2} p_{4}^{3} + 9 p_{2} p_{4}^{2} - 6 p_{2} p_{4} - 2 p_{2} + 3 p_{4}^{4} - 9 p_{4}^{3} + 9 p_{4}^{2} - 3 p_{4}}$"
      ],
      "text/plain": [
       "      ⎛    6   2       6          5   3     5   2       5          4   4      \n",
       "     -⎝2⋅p₂ ⋅p₄  - 3⋅p₂ ⋅p₄ - 4⋅p₂ ⋅p₄  - p₂ ⋅p₄  + 9⋅p₂ ⋅p₄ + 2⋅p₂ ⋅p₄  + 11⋅\n",
       "──────────────────────────────────────────────────────────────────────────────\n",
       "    6   2     6          5   3       5   2       5          4   4        4   3\n",
       "2⋅p₂ ⋅p₄  - p₂ ⋅p₄ - 4⋅p₂ ⋅p₄  - 7⋅p₂ ⋅p₄  + 7⋅p₂ ⋅p₄ + 2⋅p₂ ⋅p₄  + 17⋅p₂ ⋅p₄ \n",
       "\n",
       "  4   3       4   2        4        4       3   4       3   3        3   2    \n",
       "p₂ ⋅p₄  - 8⋅p₂ ⋅p₄  - 13⋅p₂ ⋅p₄ + p₂  - 7⋅p₂ ⋅p₄  - 8⋅p₂ ⋅p₄  + 12⋅p₂ ⋅p₄  + 1\n",
       "──────────────────────────────────────────────────────────────────────────────\n",
       "       4   2        4        4       3   4        3   3       3   2        3  \n",
       " + 2⋅p₂ ⋅p₄  - 15⋅p₂ ⋅p₄ + p₂  - 9⋅p₂ ⋅p₄  - 20⋅p₂ ⋅p₄  + 8⋅p₂ ⋅p₄  + 20⋅p₂ ⋅p\n",
       "\n",
       "    3          3       2   4     2   3        2   2       2          2        \n",
       "2⋅p₂ ⋅p₄ - 4⋅p₂  + 9⋅p₂ ⋅p₄  - p₂ ⋅p₄  - 11⋅p₂ ⋅p₄  - 2⋅p₂ ⋅p₄ + 5⋅p₂  - 7⋅p₂⋅\n",
       "──────────────────────────────────────────────────────────────────────────────\n",
       "        3        2   4       2   3        2   2       2          2          4 \n",
       "₄ - 4⋅p₂  + 13⋅p₂ ⋅p₄  + 7⋅p₂ ⋅p₄  - 17⋅p₂ ⋅p₄  - 8⋅p₂ ⋅p₄ + 5⋅p₂  - 9⋅p₂⋅p₄  \n",
       "\n",
       "  4           3        2              4       3       2       ⎞      \n",
       "p₄  + 10⋅p₂⋅p₄  - p₂⋅p₄  - 2⋅p₂ + 3⋅p₄  - 9⋅p₄  + 9⋅p₄  - 3⋅p₄⎠      \n",
       "─────────────────────────────────────────────────────────────────────\n",
       "         3          2                        4       3       2       \n",
       "+ 8⋅p₂⋅p₄  + 9⋅p₂⋅p₄  - 6⋅p₂⋅p₄ - 2⋅p₂ + 3⋅p₄  - 9⋅p₄  + 9⋅p₄  - 3⋅p₄"
      ]
     },
     "execution_count": 110,
     "metadata": {},
     "output_type": "execute_result"
    }
   ],
   "source": [
    "(sum(ssN2 @ Sy).subs({p1: 1}).factor() - (b - c)).subs({c: c_val, b: b_val}).factor()"
   ]
  },
  {
   "cell_type": "code",
   "execution_count": 111,
   "metadata": {},
   "outputs": [],
   "source": [
    "sol_one_donation = sym.solve((sum(sy).factor() - (b - c)), p4)[0]"
   ]
  },
  {
   "cell_type": "code",
   "execution_count": 112,
   "metadata": {},
   "outputs": [],
   "source": [
    "sol_two_donation = sols[0]"
   ]
  },
  {
   "cell_type": "code",
   "execution_count": 113,
   "metadata": {},
   "outputs": [
    {
     "data": {
      "image/png": "[encoded data removed]",
      "text/plain": [
       "<Figure size 432x288 with 1 Axes>"
      ]
     },
     "metadata": {
      "needs_background": "light"
     },
     "output_type": "display_data"
    }
   ],
   "source": [
    "fig, ax = plt.subplots()\n",
    "\n",
    "ax.set_title(\"Equilibria Special Case - Donation\")\n",
    "\n",
    "for i, row in eq_donation[['p2', 'p6',]].drop_duplicates().sample(n=500, random_state=1).iterrows():\n",
    "\n",
    "    ax.scatter(row['p2'], row['p6'], color='orange')\n",
    "    \n",
    "    \n",
    "ax.plot(Is, [sol_one_donation.subs({b:b_val, c:c_val}) for _ in Is], '-', label='N0', color='black')\n",
    "\n",
    "ax.plot(Is, [sol_two_donation.subs({b:b_val, c:c_val, p2:i}) for i in Is], '-.', label='N3', color='black')\n",
    "\n",
    "\n",
    "ax.set_ylim(0, 1)\n",
    "\n",
    "ax.set_xlabel('p2')\n",
    "\n",
    "ax.set_ylabel('p4')\n",
    "\n",
    "ax.legend()\n",
    "\n",
    "plt.show()"
   ]
  },
  {
   "cell_type": "markdown",
   "metadata": {},
   "source": [
    "### Conditions"
   ]
  },
  {
   "cell_type": "code",
   "execution_count": 15,
   "metadata": {},
   "outputs": [],
   "source": [
    "ss = sym.symbols(f\"v_1:{17}\")"
   ]
  },
  {
   "cell_type": "code",
   "execution_count": 16,
   "metadata": {},
   "outputs": [],
   "source": [
    "v1, v2, v3, v4, v5, v6, v7, v8, v9, v10, v11, v12, v13, v14, v15, v16 = ss"
   ]
  },
  {
   "cell_type": "code",
   "execution_count": 17,
   "metadata": {},
   "outputs": [],
   "source": [
    "def ss_sums_to_one(ss):\n",
    "    \"\"\"\n",
    "    \"\"\"\n",
    "    return sum(ss)- 1"
   ]
  },
  {
   "cell_type": "code",
   "execution_count": 18,
   "metadata": {},
   "outputs": [],
   "source": [
    "def akin_relationship(ss, pis):\n",
    "    \"\"\"\n",
    "    \"\"\"\n",
    "    coop_ind = list(np.arange(0, 16, 4)) + list(np.arange(1, 16, 4))\n",
    "    def_ind = list(np.arange(2, 16, 4)) + list(np.arange(3, 16, 4))\n",
    "    \n",
    "    return (sum([(1 - pis[i]) * ss[i] for i in coop_ind]) - sum([(pis[i]) * ss[i] for i in def_ind]))"
   ]
  },
  {
   "cell_type": "code",
   "execution_count": 19,
   "metadata": {},
   "outputs": [],
   "source": [
    "def last_payoffs(ss, c=c, b=b, p=[p1, p2, p4]):\n",
    "    \n",
    "    v1, v2, v3, v4, v5, v6, v7, v8, v9, v10, v11, v12, v13, v14, v15, v16 = ss\n",
    "    p1, p2, p4 = p\n",
    "    \n",
    "    expr = ((v3 + v4 + v11 + v12) * (b * (p2 - 1) + c) + (v7 + v15) * (b * (p2 - 1) + c * p2) \n",
    "            + (v13 + v5) * (c * (p2 - 1)) + (v6 + v14) * ((c * (p4 - p2))) +\n",
    "            (v8 + v16) * (((b - c) * (p2 - 1) + c * p4)))\n",
    "    \n",
    "    return expr\n",
    "    "
   ]
  },
  {
   "cell_type": "code",
   "execution_count": 20,
   "metadata": {},
   "outputs": [],
   "source": [
    "def second_to_last_payoff(ss, c=c, b=b, p=[p1, p2, p4]):\n",
    "\n",
    "    v1, v2, v3, v4, v5, v6, v7, v8, v9, v10, v11, v12, v13, v14, v15, v16 = ss\n",
    "    p1, p2, p4 = p\n",
    "    \n",
    "    expr = ((v13 + v5) * (-c * (-1 + p2)  + b - p2 * b) + (v14 + v8) * (-c * (-1 + p2) - p4 * b) \n",
    "            + b * ((-2 + p2) * v11) + b * ((v2 + v6) - p2 * (v2 + v4 + v7)) \n",
    "            - b * ((v15 + v16 + v3 + v9 + v12) + p4 * (v16 + v6) - p2 * (v14 + v16 + v9)) \n",
    "            + (v15 + v16 + v6 + v7) * (-c * (-1 + p2)))\n",
    "    return expr\n",
    "    "
   ]
  },
  {
   "cell_type": "code",
   "execution_count": 21,
   "metadata": {},
   "outputs": [],
   "source": [
    "# a = (ss @ payoffs_donation_player(b, c) - ss @ payoffs_donation(b, c)).simplify().collect(b - c)"
   ]
  },
  {
   "cell_type": "code",
   "execution_count": 22,
   "metadata": {},
   "outputs": [],
   "source": [
    "def payoff_difference(ss, c=c, b=b):\n",
    "    v1, v2, v3, v4, v5, v6, v7, v8, v9, v10, v11, v12, v13, v14, v15, v16 = ss\n",
    "    \n",
    "    return (b + c) * ((v3 + v7+ v11 + v15) - (v2 + v6 + v10 + v14))"
   ]
  },
  {
   "cell_type": "code",
   "execution_count": 23,
   "metadata": {},
   "outputs": [],
   "source": [
    "pis = [p1, p2, p1, p2, p2, p4, p2, p4, p1, p2, p1, p2, p2, p4, p2, p4]"
   ]
  },
  {
   "cell_type": "code",
   "execution_count": 24,
   "metadata": {},
   "outputs": [
    {
     "data": {
      "image/png": "[encoded data removed]",
      "text/latex": [
       "$\\displaystyle - p_{1} v_{11} - p_{1} v_{3} - p_{2} v_{12} - p_{2} v_{15} - p_{2} v_{4} - p_{2} v_{7} - p_{4} v_{16} - p_{4} v_{8} + v_{1} \\left(1 - p_{1}\\right) + v_{10} \\left(1 - p_{2}\\right) + v_{13} \\left(1 - p_{2}\\right) + v_{14} \\left(1 - p_{4}\\right) + v_{2} \\left(1 - p_{2}\\right) + v_{5} \\left(1 - p_{2}\\right) + v_{6} \\left(1 - p_{4}\\right) + v_{9} \\left(1 - p_{1}\\right)$"
      ],
      "text/plain": [
       "-p₁⋅v₁₁ - p₁⋅v₃ - p₂⋅v₁₂ - p₂⋅v₁₅ - p₂⋅v₄ - p₂⋅v₇ - p₄⋅v₁₆ - p₄⋅v₈ + v₁⋅(1 - p\n",
       "₁) + v₁₀⋅(1 - p₂) + v₁₃⋅(1 - p₂) + v₁₄⋅(1 - p₄) + v₂⋅(1 - p₂) + v₅⋅(1 - p₂) + \n",
       "v₆⋅(1 - p₄) + v₉⋅(1 - p₁)"
      ]
     },
     "execution_count": 24,
     "metadata": {},
     "output_type": "execute_result"
    }
   ],
   "source": [
    "akin_relationship(ss, pis)"
   ]
  },
  {
   "cell_type": "code",
   "execution_count": 25,
   "metadata": {},
   "outputs": [
    {
     "data": {
      "image/png": "[encoded data removed]",
      "text/latex": [
       "$\\displaystyle c \\left(- p_{2} + p_{4}\\right) \\left(v_{14} + v_{6}\\right) + c \\left(p_{2} - 1\\right) \\left(v_{13} + v_{5}\\right) + \\left(v_{15} + v_{7}\\right) \\left(b \\left(p_{2} - 1\\right) + c p_{2}\\right) + \\left(v_{16} + v_{8}\\right) \\left(c p_{4} + \\left(b - c\\right) \\left(p_{2} - 1\\right)\\right) + \\left(b \\left(p_{2} - 1\\right) + c\\right) \\left(v_{11} + v_{12} + v_{3} + v_{4}\\right)$"
      ],
      "text/plain": [
       "c⋅(-p₂ + p₄)⋅(v₁₄ + v₆) + c⋅(p₂ - 1)⋅(v₁₃ + v₅) + (v₁₅ + v₇)⋅(b⋅(p₂ - 1) + c⋅p\n",
       "₂) + (v₁₆ + v₈)⋅(c⋅p₄ + (b - c)⋅(p₂ - 1)) + (b⋅(p₂ - 1) + c)⋅(v₁₁ + v₁₂ + v₃ +\n",
       " v₄)"
      ]
     },
     "execution_count": 25,
     "metadata": {},
     "output_type": "execute_result"
    }
   ],
   "source": [
    "last_payoffs(ss)"
   ]
  },
  {
   "cell_type": "code",
   "execution_count": 26,
   "metadata": {},
   "outputs": [
    {
     "data": {
      "image/png": "[encoded data removed]",
      "text/latex": [
       "$\\displaystyle b v_{11} \\left(p_{2} - 2\\right) + b \\left(- p_{2} \\left(v_{2} + v_{4} + v_{7}\\right) + v_{2} + v_{6}\\right) - b \\left(- p_{2} \\left(v_{14} + v_{16} + v_{9}\\right) + p_{4} \\left(v_{16} + v_{6}\\right) + v_{12} + v_{15} + v_{16} + v_{3} + v_{9}\\right) - c \\left(p_{2} - 1\\right) \\left(v_{15} + v_{16} + v_{6} + v_{7}\\right) + \\left(v_{13} + v_{5}\\right) \\left(- b p_{2} + b - c \\left(p_{2} - 1\\right)\\right) + \\left(v_{14} + v_{8}\\right) \\left(- b p_{4} - c \\left(p_{2} - 1\\right)\\right)$"
      ],
      "text/plain": [
       "b⋅v₁₁⋅(p₂ - 2) + b⋅(-p₂⋅(v₂ + v₄ + v₇) + v₂ + v₆) - b⋅(-p₂⋅(v₁₄ + v₁₆ + v₉) + \n",
       "p₄⋅(v₁₆ + v₆) + v₁₂ + v₁₅ + v₁₆ + v₃ + v₉) - c⋅(p₂ - 1)⋅(v₁₅ + v₁₆ + v₆ + v₇) \n",
       "+ (v₁₃ + v₅)⋅(-b⋅p₂ + b - c⋅(p₂ - 1)) + (v₁₄ + v₈)⋅(-b⋅p₄ - c⋅(p₂ - 1))"
      ]
     },
     "execution_count": 26,
     "metadata": {},
     "output_type": "execute_result"
    }
   ],
   "source": [
    "second_to_last_payoff(ss, c=c, b=b, p=[p1, p2, p4])"
   ]
  },
  {
   "cell_type": "markdown",
   "metadata": {},
   "source": [
    "### The condition"
   ]
  },
  {
   "cell_type": "code",
   "execution_count": 27,
   "metadata": {},
   "outputs": [
    {
     "ename": "NameError",
     "evalue": "name 'ssN0' is not defined",
     "output_type": "error",
     "traceback": [
      "\u001b[0;31m---------------------------------------------------------------------------\u001b[0m",
      "\u001b[0;31mNameError\u001b[0m                                 Traceback (most recent call last)",
      "\u001b[0;32m<ipython-input-27-c4a61d33116d>\u001b[0m in \u001b[0;36m<module>\u001b[0;34m\u001b[0m\n\u001b[0;32m----> 1\u001b[0;31m \u001b[0mlast_payoffs\u001b[0m\u001b[0;34m(\u001b[0m\u001b[0mssN0\u001b[0m\u001b[0;34m)\u001b[0m\u001b[0;34m.\u001b[0m\u001b[0mfactor\u001b[0m\u001b[0;34m(\u001b[0m\u001b[0;34m)\u001b[0m\u001b[0;34m\u001b[0m\u001b[0;34m\u001b[0m\u001b[0m\n\u001b[0m",
      "\u001b[0;31mNameError\u001b[0m: name 'ssN0' is not defined"
     ]
    }
   ],
   "source": [
    "last_payoffs(ssN0).factor()"
   ]
  },
  {
   "cell_type": "code",
   "execution_count": 28,
   "metadata": {},
   "outputs": [
    {
     "ename": "NameError",
     "evalue": "name 'ssN0' is not defined",
     "output_type": "error",
     "traceback": [
      "\u001b[0;31m---------------------------------------------------------------------------\u001b[0m",
      "\u001b[0;31mNameError\u001b[0m                                 Traceback (most recent call last)",
      "\u001b[0;32m<ipython-input-28-e28d766a8ba0>\u001b[0m in \u001b[0;36m<module>\u001b[0;34m\u001b[0m\n\u001b[0;32m----> 1\u001b[0;31m \u001b[0;34m[\u001b[0m\u001b[0;34m(\u001b[0m\u001b[0mi\u001b[0m \u001b[0;34m+\u001b[0m \u001b[0;36m1\u001b[0m\u001b[0;34m)\u001b[0m \u001b[0;32mfor\u001b[0m \u001b[0mi\u001b[0m\u001b[0;34m,\u001b[0m \u001b[0ms\u001b[0m \u001b[0;32min\u001b[0m \u001b[0menumerate\u001b[0m\u001b[0;34m(\u001b[0m\u001b[0mssN0\u001b[0m\u001b[0;34m)\u001b[0m \u001b[0;32mif\u001b[0m \u001b[0ms\u001b[0m \u001b[0;34m!=\u001b[0m \u001b[0;36m0\u001b[0m\u001b[0;34m]\u001b[0m\u001b[0;34m\u001b[0m\u001b[0;34m\u001b[0m\u001b[0m\n\u001b[0m",
      "\u001b[0;31mNameError\u001b[0m: name 'ssN0' is not defined"
     ]
    }
   ],
   "source": [
    "[(i + 1) for i, s in enumerate(ssN0) if s != 0]"
   ]
  },
  {
   "cell_type": "code",
   "execution_count": 29,
   "metadata": {},
   "outputs": [],
   "source": [
    "A = (b * (p2 - 1) + c)\n",
    "\n",
    "B = (b * (p2 - 1) + c * p2) \n",
    "\n",
    "C = (c * (p2 - 1)) \n",
    "\n",
    "D = ((c * (p4 - p2)))\n",
    "\n",
    "E = (((b - c) * (p2 - 1) + c * p4))"
   ]
  },
  {
   "cell_type": "code",
   "execution_count": 30,
   "metadata": {},
   "outputs": [],
   "source": [
    "expr = (v3 + v4 + v11 + v12) * A + (v7 + v15) * B + (v13 + v5) * C + (v6 + v14) * D + (v8 + v16) * E"
   ]
  },
  {
   "cell_type": "code",
   "execution_count": 31,
   "metadata": {},
   "outputs": [
    {
     "data": {
      "image/png": "[encoded data removed]",
      "text/latex": [
       "$\\displaystyle 0$"
      ],
      "text/plain": [
       "0"
      ]
     },
     "execution_count": 31,
     "metadata": {},
     "output_type": "execute_result"
    }
   ],
   "source": [
    "(last_payoffs(ss) - expr).expand()"
   ]
  },
  {
   "cell_type": "markdown",
   "metadata": {},
   "source": [
    "What we know: \n",
    "\n",
    "- $C < B < A$ and $C, B, A \\neq 0$\n",
    "- $D$ can be anything\n",
    "- $E$ can be anything"
   ]
  },
  {
   "cell_type": "markdown",
   "metadata": {},
   "source": [
    "What we want to show:\n",
    "    \n",
    "$$A (v3 + v4 + v11 + v12) + B (v7 + v15) + C (v13 + v5) \\geq (- D) (v6 + v14) + (- E)  (v8 + v16)$$"
   ]
  },
  {
   "cell_type": "markdown",
   "metadata": {},
   "source": [
    "#### Case 1: $A, B, E, D < 0$\n",
    "\n",
    "The the condition holds only if $v3, v4, v5, v6, v7, v8, v11, v12, v13, v14, v15, v16 = 0 $"
   ]
  },
  {
   "cell_type": "code",
   "execution_count": 35,
   "metadata": {},
   "outputs": [],
   "source": [
    "case_one = [v1, v2, 0, 0, 0, v6, 0, 0, v9, v10, 0, 0, 0, v14, 0, 0]"
   ]
  },
  {
   "cell_type": "code",
   "execution_count": 36,
   "metadata": {},
   "outputs": [
    {
     "data": {
      "image/png": "[encoded data removed]",
      "text/latex": [
       "$\\displaystyle v_{1} + v_{10} + v_{14} + v_{2} + v_{6} + v_{9} - 1$"
      ],
      "text/plain": [
       "v₁ + v₁₀ + v₁₄ + v₂ + v₆ + v₉ - 1"
      ]
     },
     "execution_count": 36,
     "metadata": {},
     "output_type": "execute_result"
    }
   ],
   "source": [
    "ss_sums_to_one(case_one)"
   ]
  },
  {
   "cell_type": "code",
   "execution_count": 37,
   "metadata": {},
   "outputs": [
    {
     "data": {
      "image/png": "[encoded data removed]",
      "text/latex": [
       "$\\displaystyle v_{1} \\left(1 - p_{1}\\right) + v_{10} \\left(1 - p_{2}\\right) + v_{14} \\left(1 - p_{4}\\right) + v_{2} \\left(1 - p_{2}\\right) + v_{6} \\left(1 - p_{4}\\right) + v_{9} \\left(1 - p_{1}\\right)$"
      ],
      "text/plain": [
       "v₁⋅(1 - p₁) + v₁₀⋅(1 - p₂) + v₁₄⋅(1 - p₄) + v₂⋅(1 - p₂) + v₆⋅(1 - p₄) + v₉⋅(1 \n",
       "- p₁)"
      ]
     },
     "execution_count": 37,
     "metadata": {},
     "output_type": "execute_result"
    }
   ],
   "source": [
    "akin_relationship(case_one, pis).subs({p_1: 1})"
   ]
  },
  {
   "cell_type": "code",
   "execution_count": 148,
   "metadata": {},
   "outputs": [
    {
     "data": {
      "image/png": "[encoded data removed]",
      "text/latex": [
       "$\\displaystyle \\left[ 1, \\  0.888888888888889, \\  0.777777777777778, \\  0.666666666666667, \\  0.555555555555556, \\  0.444444444444444, \\  0.333333333333333, \\  0.222222222222222, \\  0.111111111111111, \\  0\\right]$"
      ],
      "text/plain": [
       "[1, 0.888888888888889, 0.777777777777778, 0.666666666666667, 0.555555555555556\n",
       ", 0.444444444444444, 0.333333333333333, 0.222222222222222, 0.111111111111111, \n",
       "0]"
      ]
     },
     "execution_count": 148,
     "metadata": {},
     "output_type": "execute_result"
    }
   ],
   "source": [
    "[sym.solve(E, p4)[0].subs({b:2, c:1, p2: i}) for i in Is]"
   ]
  },
  {
   "cell_type": "code",
   "execution_count": 149,
   "metadata": {},
   "outputs": [
    {
     "data": {
      "image/png": "[encoded data removed]",
      "text/latex": [
       "$\\displaystyle \\left[ p_{2}\\right]$"
      ],
      "text/plain": [
       "[p₂]"
      ]
     },
     "execution_count": 149,
     "metadata": {},
     "output_type": "execute_result"
    }
   ],
   "source": [
    "sym.solve(D, p4)"
   ]
  },
  {
   "cell_type": "code",
   "execution_count": 150,
   "metadata": {},
   "outputs": [
    {
     "data": {
      "image/png": "[encoded data removed]",
      "text/latex": [
       "$\\displaystyle \\frac{- b p_{2} + b + c \\left(p_{2} - 1\\right)}{c}$"
      ],
      "text/plain": [
       "-b⋅p₂ + b + c⋅(p₂ - 1)\n",
       "──────────────────────\n",
       "          c           "
      ]
     },
     "execution_count": 150,
     "metadata": {},
     "output_type": "execute_result"
    }
   ],
   "source": [
    "sym.solve(E, p4)[0]"
   ]
  },
  {
   "cell_type": "code",
   "execution_count": 152,
   "metadata": {},
   "outputs": [
    {
     "data": {
      "image/png": "[encoded data removed]",
      "text/plain": [
       "<Figure size 432x288 with 1 Axes>"
      ]
     },
     "metadata": {
      "needs_background": "light"
     },
     "output_type": "display_data"
    }
   ],
   "source": [
    "fig, ax = plt.subplots()\n",
    "\n",
    "ax.plot(Is, [i for i in Is]);\n",
    "\n",
    "ax.plot(Is, [sym.solve(E, p4)[0].subs({b:2, c:1, p2: i}) for i in Is]);\n",
    "\n",
    "\n",
    "for i, row in eq_donation[['p2', 'p6',]].drop_duplicates()[2000:2500].iterrows():\n",
    "\n",
    "    ax.scatter(row['p2'], row['p6'])"
   ]
  },
  {
   "cell_type": "code",
   "execution_count": 153,
   "metadata": {},
   "outputs": [
    {
     "data": {
      "image/png": "[encoded data removed]",
      "text/latex": [
       "$\\displaystyle \\left[ p_{4}\\right]$"
      ],
      "text/plain": [
       "[p₄]"
      ]
     },
     "execution_count": 153,
     "metadata": {},
     "output_type": "execute_result"
    }
   ],
   "source": [
    "sym.solve(D, p2)"
   ]
  },
  {
   "cell_type": "code",
   "execution_count": 154,
   "metadata": {},
   "outputs": [
    {
     "data": {
      "image/png": "[encoded data removed]",
      "text/latex": [
       "$\\displaystyle \\left[ \\frac{b - c p_{4} - c}{b - c}\\right]$"
      ],
      "text/plain": [
       "⎡b - c⋅p₄ - c⎤\n",
       "⎢────────────⎥\n",
       "⎣   b - c    ⎦"
      ]
     },
     "execution_count": 154,
     "metadata": {},
     "output_type": "execute_result"
    }
   ],
   "source": [
    "sym.solve(E, p2)"
   ]
  },
  {
   "cell_type": "markdown",
   "metadata": {},
   "source": [
    "#### Case 2: $A, B, E < 0$ and $D = 0$\n",
    "\n",
    "The $p2 = p4$\n",
    "\n",
    "\n",
    "The the condition holds only if $v3, v4, v5, v7, v8, v11, v12, v13, v15, v16 = 0 $"
   ]
  },
  {
   "cell_type": "code",
   "execution_count": 155,
   "metadata": {},
   "outputs": [
    {
     "data": {
      "image/png": "[encoded data removed]",
      "text/latex": [
       "$\\displaystyle b p_{2} - b + c$"
      ],
      "text/plain": [
       "b⋅p₂ - b + c"
      ]
     },
     "execution_count": 155,
     "metadata": {},
     "output_type": "execute_result"
    }
   ],
   "source": [
    "E.subs({p4: p2}).factor()"
   ]
  },
  {
   "cell_type": "code",
   "execution_count": 156,
   "metadata": {},
   "outputs": [],
   "source": [
    "case_two = [v1, v2, 0, 0, 0, v6, 0, 0, v9, v10, 0, 0, 0, v14, 0, 0]"
   ]
  },
  {
   "cell_type": "code",
   "execution_count": 157,
   "metadata": {},
   "outputs": [
    {
     "data": {
      "image/png": "[encoded data removed]",
      "text/latex": [
       "$\\displaystyle v_{1} + v_{10} + v_{14} + v_{2} + v_{6} + v_{9} - 1$"
      ],
      "text/plain": [
       "v₁ + v₁₀ + v₁₄ + v₂ + v₆ + v₉ - 1"
      ]
     },
     "execution_count": 157,
     "metadata": {},
     "output_type": "execute_result"
    }
   ],
   "source": [
    "ss_sums_to_one(case_two)"
   ]
  },
  {
   "cell_type": "code",
   "execution_count": 158,
   "metadata": {},
   "outputs": [
    {
     "data": {
      "image/png": "[encoded data removed]",
      "text/latex": [
       "$\\displaystyle v_{1} \\left(1 - p_{1}\\right) + v_{10} \\left(1 - p_{2}\\right) + v_{14} \\left(1 - p_{2}\\right) + v_{2} \\left(1 - p_{2}\\right) + v_{6} \\left(1 - p_{2}\\right) + v_{9} \\left(1 - p_{1}\\right)$"
      ],
      "text/plain": [
       "v₁⋅(1 - p₁) + v₁₀⋅(1 - p₂) + v₁₄⋅(1 - p₂) + v₂⋅(1 - p₂) + v₆⋅(1 - p₂) + v₉⋅(1 \n",
       "- p₁)"
      ]
     },
     "execution_count": 158,
     "metadata": {},
     "output_type": "execute_result"
    }
   ],
   "source": [
    "akin_relationship(case_two, pis).subs({p4:p2})"
   ]
  },
  {
   "cell_type": "markdown",
   "metadata": {},
   "source": [
    "#### Case 3: $A, B, D < 0$ and $E = 0$\n",
    "\n",
    "\n",
    "The the condition holds only if $v3, v4, v5, v6, v7, v11, v12, v13, v14, v15 = 0 $"
   ]
  },
  {
   "cell_type": "code",
   "execution_count": 159,
   "metadata": {},
   "outputs": [],
   "source": [
    "case_three = [v1, v2, 0, 0, 0, 0, 0, v8, v9, v10, 0, 0, 0, 0, 0, v16]"
   ]
  },
  {
   "cell_type": "code",
   "execution_count": 160,
   "metadata": {},
   "outputs": [
    {
     "data": {
      "image/png": "[encoded data removed]",
      "text/latex": [
       "$\\displaystyle \\left(b + c\\right) \\left(- v_{10} - v_{2}\\right)$"
      ],
      "text/plain": [
       "(b + c)⋅(-v₁₀ - v₂)"
      ]
     },
     "execution_count": 160,
     "metadata": {},
     "output_type": "execute_result"
    }
   ],
   "source": [
    "payoff_difference(case_three)"
   ]
  },
  {
   "cell_type": "code",
   "execution_count": 161,
   "metadata": {},
   "outputs": [
    {
     "data": {
      "image/png": "[encoded data removed]",
      "text/latex": [
       "$\\displaystyle \\frac{c \\left(b \\left(p_{4} - 1\\right) + c\\right)}{b - c}$"
      ],
      "text/plain": [
       "c⋅(b⋅(p₄ - 1) + c)\n",
       "──────────────────\n",
       "      b - c       "
      ]
     },
     "execution_count": 161,
     "metadata": {},
     "output_type": "execute_result"
    }
   ],
   "source": [
    "D.subs({p2: sym.solve(E, p2)[0]}).factor().collect(b)"
   ]
  },
  {
   "cell_type": "code",
   "execution_count": 162,
   "metadata": {},
   "outputs": [
    {
     "data": {
      "image/png": "[encoded data removed]",
      "text/latex": [
       "$\\displaystyle \\frac{b - c p_{4} - c}{b - c}$"
      ],
      "text/plain": [
       "b - c⋅p₄ - c\n",
       "────────────\n",
       "   b - c    "
      ]
     },
     "execution_count": 162,
     "metadata": {},
     "output_type": "execute_result"
    }
   ],
   "source": [
    "sym.solve(E, p2)[0]"
   ]
  },
  {
   "cell_type": "code",
   "execution_count": 163,
   "metadata": {},
   "outputs": [
    {
     "data": {
      "image/png": "[encoded data removed]",
      "text/latex": [
       "$\\displaystyle - p_{4} v_{16} - p_{4} v_{8} + v_{1} \\left(1 - p_{1}\\right) + v_{10} \\left(1 - p_{2}\\right) + v_{2} \\left(1 - p_{2}\\right) + v_{9} \\left(1 - p_{1}\\right)$"
      ],
      "text/plain": [
       "-p₄⋅v₁₆ - p₄⋅v₈ + v₁⋅(1 - p₁) + v₁₀⋅(1 - p₂) + v₂⋅(1 - p₂) + v₉⋅(1 - p₁)"
      ]
     },
     "execution_count": 163,
     "metadata": {},
     "output_type": "execute_result"
    }
   ],
   "source": [
    "akin_relationship(case_three, pis).subs({p_1: 1})"
   ]
  },
  {
   "cell_type": "code",
   "execution_count": 164,
   "metadata": {},
   "outputs": [
    {
     "data": {
      "image/png": "[encoded data removed]",
      "text/latex": [
       "$\\displaystyle v_{1} + v_{10} + v_{16} + v_{2} + v_{8} + v_{9} - 1$"
      ],
      "text/plain": [
       "v₁ + v₁₀ + v₁₆ + v₂ + v₈ + v₉ - 1"
      ]
     },
     "execution_count": 164,
     "metadata": {},
     "output_type": "execute_result"
    }
   ],
   "source": [
    "ss_sums_to_one(case_three)"
   ]
  },
  {
   "cell_type": "code",
   "execution_count": 165,
   "metadata": {},
   "outputs": [
    {
     "data": {
      "image/png": "[encoded data removed]",
      "text/latex": [
       "$\\displaystyle \\frac{\\left(p_{2} - 1\\right) \\left(b^{2} v_{16} + b^{2} v_{8} - b c v_{2} - b c v_{8} + b c v_{9} - c^{2} v_{16} - c^{2} v_{8}\\right)}{c}$"
      ],
      "text/plain": [
       "         ⎛ 2        2                                  2        2   ⎞\n",
       "(p₂ - 1)⋅⎝b ⋅v₁₆ + b ⋅v₈ - b⋅c⋅v₂ - b⋅c⋅v₈ + b⋅c⋅v₉ - c ⋅v₁₆ - c ⋅v₈⎠\n",
       "─────────────────────────────────────────────────────────────────────\n",
       "                                  c                                  "
      ]
     },
     "execution_count": 165,
     "metadata": {},
     "output_type": "execute_result"
    }
   ],
   "source": [
    "second_to_last_payoff(case_three).subs({p4: sym.solve(E, p4)[0]}).factor()"
   ]
  },
  {
   "cell_type": "code",
   "execution_count": 166,
   "metadata": {},
   "outputs": [
    {
     "data": {
      "image/png": "[encoded data removed]",
      "text/latex": [
       "$\\displaystyle \\left[ 6, \\  8, \\  14, \\  16\\right]$"
      ],
      "text/plain": [
       "[6, 8, 14, 16]"
      ]
     },
     "execution_count": 166,
     "metadata": {},
     "output_type": "execute_result"
    }
   ],
   "source": [
    "[(i + 1) for i, s in enumerate(ssN0) if s != 0]"
   ]
  },
  {
   "cell_type": "code",
   "execution_count": 167,
   "metadata": {},
   "outputs": [],
   "source": [
    "ssN3 = [s.factor().subs({p1:1}).factor() for s in ssN3]"
   ]
  },
  {
   "cell_type": "code",
   "execution_count": 168,
   "metadata": {},
   "outputs": [
    {
     "data": {
      "image/png": "[encoded data removed]",
      "text/latex": [
       "$\\displaystyle \\left[ 1, \\  2, \\  3, \\  6, \\  8, \\  9, \\  11, \\  13, \\  15\\right]$"
      ],
      "text/plain": [
       "[1, 2, 3, 6, 8, 9, 11, 13, 15]"
      ]
     },
     "execution_count": 168,
     "metadata": {},
     "output_type": "execute_result"
    }
   ],
   "source": [
    "[(i + 1) for i, s in enumerate(ssN3) if s != 0]"
   ]
  },
  {
   "cell_type": "code",
   "execution_count": 169,
   "metadata": {},
   "outputs": [
    {
     "data": {
      "image/png": "[encoded data removed]",
      "text/latex": [
       "$\\displaystyle - \\frac{p_{4} - 1}{p_{2} p_{4}^{2} - 6 p_{4} + 6}$"
      ],
      "text/plain": [
       "    -(p₄ - 1)    \n",
       "─────────────────\n",
       "     2           \n",
       "p₂⋅p₄  - 6⋅p₄ + 6"
      ]
     },
     "execution_count": 169,
     "metadata": {},
     "output_type": "execute_result"
    }
   ],
   "source": [
    "ssN3[7]"
   ]
  },
  {
   "cell_type": "code",
   "execution_count": 170,
   "metadata": {},
   "outputs": [
    {
     "data": {
      "image/png": "[encoded data removed]",
      "text/latex": [
       "$\\displaystyle - \\frac{p_{4} - 1}{p_{2} p_{4}^{2} - 6 p_{4} + 6}$"
      ],
      "text/plain": [
       "    -(p₄ - 1)    \n",
       "─────────────────\n",
       "     2           \n",
       "p₂⋅p₄  - 6⋅p₄ + 6"
      ]
     },
     "execution_count": 170,
     "metadata": {},
     "output_type": "execute_result"
    }
   ],
   "source": [
    "ssN3[1]"
   ]
  },
  {
   "cell_type": "code",
   "execution_count": 171,
   "metadata": {},
   "outputs": [
    {
     "data": {
      "image/png": "[encoded data removed]",
      "text/latex": [
       "$\\displaystyle 0.5$"
      ],
      "text/plain": [
       "0.5"
      ]
     },
     "execution_count": 171,
     "metadata": {},
     "output_type": "execute_result"
    }
   ],
   "source": [
    "0.5 * 0 + 0.5 * 1"
   ]
  },
  {
   "cell_type": "code",
   "execution_count": 172,
   "metadata": {},
   "outputs": [
    {
     "data": {
      "image/png": "[encoded data removed]",
      "text/latex": [
       "$\\displaystyle \\left[ - \\frac{p_{4} - 1}{p_{2} p_{4}^{2} - 6 p_{4} + 6}, \\  - \\frac{p_{4} - 1}{p_{2} p_{4}^{2} - 6 p_{4} + 6}, \\  \\frac{p_{4} \\left(p_{2} - 1\\right) \\left(p_{4} - 1\\right)}{p_{2} p_{4}^{2} - 6 p_{4} + 6}, \\  0, \\  0, \\  \\frac{p_{2}}{p_{2} p_{4}^{2} - 6 p_{4} + 6}, \\  0, \\  - \\frac{p_{4} - 1}{p_{2} p_{4}^{2} - 6 p_{4} + 6}, \\  \\frac{\\left(p_{4} - 1\\right) \\left(p_{2} p_{4} - 1\\right)}{p_{2} p_{4}^{2} - 6 p_{4} + 6}, \\  0, \\  - \\frac{\\left(p_{2} - 1\\right) \\left(p_{4} - 1\\right)^{2}}{p_{2} p_{4}^{2} - 6 p_{4} + 6}, \\  0, \\  - \\frac{p_{4} \\left(p_{4} - 1\\right)}{p_{2} p_{4}^{2} - 6 p_{4} + 6}, \\  0, \\  \\frac{\\left(p_{4} - 1\\right)^{2}}{p_{2} p_{4}^{2} - 6 p_{4} + 6}, \\  0\\right]$"
      ],
      "text/plain": [
       "⎡                                                                             \n",
       "⎢    -(p₄ - 1)          -(p₄ - 1)      p₄⋅(p₂ - 1)⋅(p₄ - 1)                p₂ \n",
       "⎢─────────────────, ─────────────────, ────────────────────, 0, 0, ───────────\n",
       "⎢     2                  2                   2                          2     \n",
       "⎣p₂⋅p₄  - 6⋅p₄ + 6  p₂⋅p₄  - 6⋅p₄ + 6   p₂⋅p₄  - 6⋅p₄ + 6          p₂⋅p₄  - 6⋅\n",
       "\n",
       "                                                                         2    \n",
       "               -(p₄ - 1)      (p₄ - 1)⋅(p₂⋅p₄ - 1)     -(p₂ - 1)⋅(p₄ - 1)     \n",
       "──────, 0, ─────────────────, ────────────────────, 0, ────────────────────, 0\n",
       "                2                   2                        2                \n",
       "p₄ + 6     p₂⋅p₄  - 6⋅p₄ + 6   p₂⋅p₄  - 6⋅p₄ + 6        p₂⋅p₄  - 6⋅p₄ + 6     \n",
       "\n",
       "                                    2       ⎤\n",
       "    -p₄⋅(p₄ - 1)            (p₄ - 1)        ⎥\n",
       ", ─────────────────, 0, ─────────────────, 0⎥\n",
       "       2                     2              ⎥\n",
       "  p₂⋅p₄  - 6⋅p₄ + 6     p₂⋅p₄  - 6⋅p₄ + 6   ⎦"
      ]
     },
     "execution_count": 172,
     "metadata": {},
     "output_type": "execute_result"
    }
   ],
   "source": [
    "ssN3"
   ]
  },
  {
   "cell_type": "markdown",
   "metadata": {},
   "source": [
    "#### Case 4: $A, B < 0$ and $D, E > 0$"
   ]
  },
  {
   "cell_type": "code",
   "execution_count": 173,
   "metadata": {},
   "outputs": [
    {
     "data": {
      "image/png": "[encoded data removed]",
      "text/latex": [
       "$\\displaystyle c \\left(- p_{2} + p_{4}\\right) \\left(v_{14} + v_{6}\\right) + c \\left(p_{2} - 1\\right) \\left(v_{13} + v_{5}\\right) + \\left(v_{15} + v_{7}\\right) \\left(b \\left(p_{2} - 1\\right) + c p_{2}\\right) + \\left(v_{16} + v_{8}\\right) \\left(c p_{4} + \\left(b - c\\right) \\left(p_{2} - 1\\right)\\right) + \\left(b \\left(p_{2} - 1\\right) + c\\right) \\left(v_{11} + v_{12} + v_{3} + v_{4}\\right)$"
      ],
      "text/plain": [
       "c⋅(-p₂ + p₄)⋅(v₁₄ + v₆) + c⋅(p₂ - 1)⋅(v₁₃ + v₅) + (v₁₅ + v₇)⋅(b⋅(p₂ - 1) + c⋅p\n",
       "₂) + (v₁₆ + v₈)⋅(c⋅p₄ + (b - c)⋅(p₂ - 1)) + (b⋅(p₂ - 1) + c)⋅(v₁₁ + v₁₂ + v₃ +\n",
       " v₄)"
      ]
     },
     "execution_count": 173,
     "metadata": {},
     "output_type": "execute_result"
    }
   ],
   "source": [
    "(v3 + v4 + v11 + v12) * A + (v7 + v15) * B + (v13 + v5) * C + (v6 + v14) * D + (v8 + v16) * E"
   ]
  },
  {
   "cell_type": "code",
   "execution_count": 174,
   "metadata": {},
   "outputs": [
    {
     "data": {
      "image/png": "[encoded data removed]",
      "text/latex": [
       "$\\displaystyle \\left[ v_{1}, \\  v_{2}, \\  0, \\  0, \\  0, \\  v_{6}, \\  0, \\  v_{8}, \\  v_{9}, \\  v_{10}, \\  0, \\  0, \\  0, \\  v_{14}, \\  0, \\  v_{16}\\right]$"
      ],
      "text/plain": [
       "[v₁, v₂, 0, 0, 0, v₆, 0, v₈, v₉, v₁₀, 0, 0, 0, v₁₄, 0, v₁₆]"
      ]
     },
     "execution_count": 174,
     "metadata": {},
     "output_type": "execute_result"
    }
   ],
   "source": [
    "[v1, v2, 0, 0, 0, v6, 0, v8, v9, v10, 0, 0, 0, v14, 0, v16]"
   ]
  },
  {
   "cell_type": "code",
   "execution_count": 175,
   "metadata": {},
   "outputs": [
    {
     "data": {
      "image/png": "[encoded data removed]",
      "text/latex": [
       "$\\displaystyle - p_{4} v_{16} - p_{4} v_{8} + v_{1} \\left(1 - p_{1}\\right) + v_{10} \\left(1 - p_{2}\\right) + v_{14} \\left(1 - p_{4}\\right) + v_{2} \\left(1 - p_{2}\\right) + v_{6} \\left(1 - p_{4}\\right) + v_{9} \\left(1 - p_{1}\\right)$"
      ],
      "text/plain": [
       "-p₄⋅v₁₆ - p₄⋅v₈ + v₁⋅(1 - p₁) + v₁₀⋅(1 - p₂) + v₁₄⋅(1 - p₄) + v₂⋅(1 - p₂) + v₆\n",
       "⋅(1 - p₄) + v₉⋅(1 - p₁)"
      ]
     },
     "execution_count": 175,
     "metadata": {},
     "output_type": "execute_result"
    }
   ],
   "source": [
    "akin_relationship([v1, v2, 0, 0, 0, v6, 0, v8, v9, v10, 0, 0, 0, v14, 0, v16], pis).subs({p_1:1})"
   ]
  },
  {
   "cell_type": "code",
   "execution_count": 176,
   "metadata": {},
   "outputs": [
    {
     "data": {
      "image/png": "[encoded data removed]",
      "text/latex": [
       "$\\displaystyle 0.104017061687615$"
      ],
      "text/plain": [
       "0.104017061687615"
      ]
     },
     "execution_count": 176,
     "metadata": {},
     "output_type": "execute_result"
    }
   ],
   "source": [
    "sym.solve(D, p2)[0].subs({p4: x[0]})"
   ]
  },
  {
   "cell_type": "code",
   "execution_count": 177,
   "metadata": {},
   "outputs": [
    {
     "data": {
      "image/png": "[encoded data removed]",
      "text/latex": [
       "$\\displaystyle \\frac{1.10401706168762 \\left(0.905783103090261 b - 1.0 c\\right)}{b - c}$"
      ],
      "text/plain": [
       "1.10401706168762⋅(0.905783103090261⋅b - 1.0⋅c)\n",
       "──────────────────────────────────────────────\n",
       "                    b - c                     "
      ]
     },
     "execution_count": 177,
     "metadata": {},
     "output_type": "execute_result"
    }
   ],
   "source": [
    "sym.solve(E, p2)[0].subs({p4: x[0]}).factor()"
   ]
  },
  {
   "cell_type": "code",
   "execution_count": 178,
   "metadata": {},
   "outputs": [
    {
     "data": {
      "image/png": "[encoded data removed]",
      "text/latex": [
       "$\\displaystyle \\frac{b - c}{b}$"
      ],
      "text/plain": [
       "b - c\n",
       "─────\n",
       "  b  "
      ]
     },
     "execution_count": 178,
     "metadata": {},
     "output_type": "execute_result"
    }
   ],
   "source": [
    "x = sym.solve(sym.solve(D, p2)[0] - sym.solve(E, p2)[0], p4)\n",
    "x[0]"
   ]
  },
  {
   "cell_type": "code",
   "execution_count": 179,
   "metadata": {},
   "outputs": [],
   "source": [
    "case_four = akin_relationship([v1, v2, 0, 0, \n",
    "                               0, v6, 0, v8, \n",
    "                               v9, v10, 0, 0,\n",
    "                               0, v14, 0, v16], pis).subs({p_1:1, p_4:x[0], p_2:x[0]}).factor().collect(b).collect(c)"
   ]
  },
  {
   "cell_type": "code",
   "execution_count": 180,
   "metadata": {},
   "outputs": [
    {
     "data": {
      "image/png": "[encoded data removed]",
      "text/latex": [
       "$\\displaystyle \\left[ 6, \\  8, \\  14, \\  16\\right]$"
      ],
      "text/plain": [
       "[6, 8, 14, 16]"
      ]
     },
     "execution_count": 180,
     "metadata": {},
     "output_type": "execute_result"
    }
   ],
   "source": [
    "[i + 1 for i, s in enumerate(ssN0) if s !=0]"
   ]
  },
  {
   "cell_type": "code",
   "execution_count": 181,
   "metadata": {},
   "outputs": [
    {
     "data": {
      "image/png": "[encoded data removed]",
      "text/latex": [
       "$\\displaystyle - p_{1} v_{1} - p_{1} v_{9} - p_{2} v_{10} - p_{2} v_{2} + v_{1} + v_{10} + v_{2} + v_{9}$"
      ],
      "text/plain": [
       "-p₁⋅v₁ - p₁⋅v₉ - p₂⋅v₁₀ - p₂⋅v₂ + v₁ + v₁₀ + v₂ + v₉"
      ]
     },
     "execution_count": 181,
     "metadata": {},
     "output_type": "execute_result"
    }
   ],
   "source": [
    "case_four.subs({ss[5]: ssN0[5], ss[7]: ssN0[7], ss[13]: ssN0[13], \n",
    "                ss[15]: ssN0[15]}).factor().collect(b).collect(c)"
   ]
  },
  {
   "cell_type": "code",
   "execution_count": null,
   "metadata": {},
   "outputs": [],
   "source": []
  },
  {
   "cell_type": "code",
   "execution_count": 182,
   "metadata": {},
   "outputs": [],
   "source": [
    "Sx = payoffs_donation_player(b, c)"
   ]
  },
  {
   "cell_type": "code",
   "execution_count": 183,
   "metadata": {},
   "outputs": [
    {
     "data": {
      "image/png": "[encoded data removed]",
      "text/latex": [
       "$\\displaystyle \\left(b + c\\right) \\left(v_{10} - v_{11} + v_{14} - v_{15} + v_{2} - v_{3} + v_{6} - v_{7}\\right)$"
      ],
      "text/plain": [
       "(b + c)⋅(v₁₀ - v₁₁ + v₁₄ - v₁₅ + v₂ - v₃ + v₆ - v₇)"
      ]
     },
     "execution_count": 183,
     "metadata": {},
     "output_type": "execute_result"
    }
   ],
   "source": [
    "(ss @ Sy - ss @ Sx).collect(b).collect(c).factor()"
   ]
  },
  {
   "cell_type": "code",
   "execution_count": 184,
   "metadata": {},
   "outputs": [
    {
     "data": {
      "image/png": "[encoded data removed]",
      "text/latex": [
       "$\\displaystyle \\left(b - c\\right) \\left(v_{10} + v_{11} + v_{14} + v_{15} + v_{2} + v_{3} + v_{6} + v_{7}\\right)$"
      ],
      "text/plain": [
       "(b - c)⋅(v₁₀ + v₁₁ + v₁₄ + v₁₅ + v₂ + v₃ + v₆ + v₇)"
      ]
     },
     "execution_count": 184,
     "metadata": {},
     "output_type": "execute_result"
    }
   ],
   "source": [
    "((ss @ Sy + ss @ Sx) - 2 * (b - c) * (ss[0] + ss[4] + ss[8] + ss[12])).factor()"
   ]
  },
  {
   "cell_type": "code",
   "execution_count": 185,
   "metadata": {},
   "outputs": [],
   "source": [
    "def payoffs(R, P, T=1, S=0, dim=4):\n",
    "    return np.array([R, S, T, P] * dim)\n",
    "\n",
    "\n",
    "def coplayer_payoffs(R, P, T=1, S=0, dim=4):\n",
    "    return np.array([R, T, S, P] * dim)\n",
    "\n",
    "\n",
    "def second_to_last_payoffs(R, P, T=1, S=0, dim=4):\n",
    "    return np.array([R] * dim + [S] * dim + [T] * dim + [P] * dim)\n",
    "\n",
    "\n",
    "def second_to_last_coplayer_payoffs(R, P, T=1, S=0, dim=4):\n",
    "    return np.array([R] * dim + [T] * dim + [S] * dim + [P] * dim)"
   ]
  },
  {
   "cell_type": "code",
   "execution_count": 186,
   "metadata": {},
   "outputs": [],
   "source": [
    "Sy = coplayer_payoffs(R, P, T, S)\n",
    "Sx = payoffs(R, P, T, S)"
   ]
  },
  {
   "cell_type": "code",
   "execution_count": 187,
   "metadata": {},
   "outputs": [
    {
     "data": {
      "text/plain": [
       "(array([R, T, S, P, R, T, S, P, R, T, S, P, R, T, S, P], dtype=object),\n",
       " array([R, S, T, P, R, S, T, P, R, S, T, P, R, S, T, P], dtype=object))"
      ]
     },
     "execution_count": 187,
     "metadata": {},
     "output_type": "execute_result"
    }
   ],
   "source": [
    "Sy, Sx"
   ]
  },
  {
   "cell_type": "code",
   "execution_count": 188,
   "metadata": {},
   "outputs": [
    {
     "data": {
      "image/png": "[encoded data removed]",
      "text/latex": [
       "$\\displaystyle - \\left(S - T\\right) \\left(v_{10} - v_{11} + v_{14} - v_{15} + v_{2} - v_{3} + v_{6} - v_{7}\\right)$"
      ],
      "text/plain": [
       "-(S - T)⋅(v₁₀ - v₁₁ + v₁₄ - v₁₅ + v₂ - v₃ + v₆ - v₇)"
      ]
     },
     "execution_count": 188,
     "metadata": {},
     "output_type": "execute_result"
    }
   ],
   "source": [
    "expr = (ss @ Sy - ss @ Sx).collect(S).collect(T).factor()\n",
    "expr"
   ]
  },
  {
   "cell_type": "code",
   "execution_count": 189,
   "metadata": {},
   "outputs": [
    {
     "data": {
      "image/png": "[encoded data removed]",
      "text/latex": [
       "$\\displaystyle 0$"
      ],
      "text/plain": [
       "0"
      ]
     },
     "execution_count": 189,
     "metadata": {},
     "output_type": "execute_result"
    }
   ],
   "source": [
    "(expr - (T - S) * (v10 - v11 + v14 - v15 + v2 - v3 + v6 - v7)).expand()"
   ]
  },
  {
   "cell_type": "code",
   "execution_count": 190,
   "metadata": {},
   "outputs": [],
   "source": [
    "Sy_prime = second_to_last_coplayer_payoffs(R, P, T, S)\n",
    "Sx_prime = second_to_last_payoffs(R, P, T, S)"
   ]
  },
  {
   "cell_type": "code",
   "execution_count": 191,
   "metadata": {},
   "outputs": [
    {
     "data": {
      "text/plain": [
       "(array([R, R, R, R, T, T, T, T, S, S, S, S, P, P, P, P], dtype=object),\n",
       " array([R, R, R, R, S, S, S, S, T, T, T, T, P, P, P, P], dtype=object))"
      ]
     },
     "execution_count": 191,
     "metadata": {},
     "output_type": "execute_result"
    }
   ],
   "source": [
    "Sy_prime, Sx_prime"
   ]
  },
  {
   "cell_type": "code",
   "execution_count": 22,
   "metadata": {},
   "outputs": [],
   "source": [
    "c, b = 1, 3"
   ]
  },
  {
   "cell_type": "code",
   "execution_count": 23,
   "metadata": {},
   "outputs": [],
   "source": [
    "ps = np.linspace(0, 1, 10)"
   ]
  },
  {
   "cell_type": "code",
   "execution_count": 25,
   "metadata": {},
   "outputs": [
    {
     "data": {
      "text/plain": [
       "[<matplotlib.lines.Line2D at 0x7fd851315af0>]"
      ]
     },
     "execution_count": 25,
     "metadata": {},
     "output_type": "execute_result"
    },
    {
     "data": {
      "image/png": "[encoded data removed]",
      "text/plain": [
       "<Figure size 432x288 with 1 Axes>"
      ]
     },
     "metadata": {
      "needs_background": "light"
     },
     "output_type": "display_data"
    }
   ],
   "source": [
    "plt.plot(ps, [1 - ((c * i) / (b - c)) for i in ps])"
   ]
  },
  {
   "cell_type": "code",
   "execution_count": null,
   "metadata": {},
   "outputs": [],
   "source": []
  }
 ],
 "metadata": {
  "kernelspec": {
   "display_name": "Python 3",
   "language": "python",
   "name": "python3"
  },
  "language_info": {
   "codemirror_mode": {
    "name": "ipython",
    "version": 3
   },
   "file_extension": ".py",
   "mimetype": "text/x-python",
   "name": "python",
   "nbconvert_exporter": "python",
   "pygments_lexer": "ipython3",
   "version": "3.8.3"
  }
 },
 "nbformat": 4,
 "nbformat_minor": 4
}
