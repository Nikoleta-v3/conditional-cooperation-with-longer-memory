{
 "cells": [
  {
   "cell_type": "code",
   "execution_count": 1,
   "metadata": {},
   "outputs": [],
   "source": [
    "import numpy as np\n",
    "\n",
    "import sympy as sym"
   ]
  },
  {
   "cell_type": "code",
   "execution_count": 1,
   "metadata": {},
   "outputs": [],
   "source": [
    "import pandas as pd"
   ]
  },
  {
   "cell_type": "code",
   "execution_count": 2,
   "metadata": {},
   "outputs": [],
   "source": [
    "eq = pd.read_csv(\"../data/equilibria_from_large_search.csv\")"
   ]
  },
  {
   "cell_type": "code",
   "execution_count": 10,
   "metadata": {},
   "outputs": [
    {
     "data": {
      "text/html": [
       "<div>\n",
       "<style scoped>\n",
       "    .dataframe tbody tr th:only-of-type {\n",
       "        vertical-align: middle;\n",
       "    }\n",
       "\n",
       "    .dataframe tbody tr th {\n",
       "        vertical-align: top;\n",
       "    }\n",
       "\n",
       "    .dataframe thead th {\n",
       "        text-align: right;\n",
       "    }\n",
       "</style>\n",
       "<table border=\"1\" class=\"dataframe\">\n",
       "  <thead>\n",
       "    <tr style=\"text-align: right;\">\n",
       "      <th></th>\n",
       "      <th>Unnamed: 0</th>\n",
       "      <th>Unnamed: 1</th>\n",
       "      <th>ID</th>\n",
       "      <th>p1</th>\n",
       "      <th>p2</th>\n",
       "      <th>p3</th>\n",
       "      <th>p4</th>\n",
       "      <th>p5</th>\n",
       "      <th>p6</th>\n",
       "      <th>p7</th>\n",
       "      <th>...</th>\n",
       "      <th>p14</th>\n",
       "      <th>p15</th>\n",
       "      <th>p16</th>\n",
       "      <th>label</th>\n",
       "      <th>Sp</th>\n",
       "      <th>Sq</th>\n",
       "      <th>condition A</th>\n",
       "      <th>condition B</th>\n",
       "      <th>c</th>\n",
       "      <th>b</th>\n",
       "    </tr>\n",
       "  </thead>\n",
       "  <tbody>\n",
       "    <tr>\n",
       "      <th>8</th>\n",
       "      <td>8</td>\n",
       "      <td>0</td>\n",
       "      <td>1984</td>\n",
       "      <td>1</td>\n",
       "      <td>0.29875</td>\n",
       "      <td>1</td>\n",
       "      <td>0.29875</td>\n",
       "      <td>0.05641</td>\n",
       "      <td>0.48269</td>\n",
       "      <td>0.05641</td>\n",
       "      <td>...</td>\n",
       "      <td>0.48269</td>\n",
       "      <td>0.05641</td>\n",
       "      <td>0.48269</td>\n",
       "      <td>N0</td>\n",
       "      <td>1.0</td>\n",
       "      <td>0.96538</td>\n",
       "      <td>True</td>\n",
       "      <td>True</td>\n",
       "      <td>2</td>\n",
       "      <td>1</td>\n",
       "    </tr>\n",
       "    <tr>\n",
       "      <th>17</th>\n",
       "      <td>17</td>\n",
       "      <td>0</td>\n",
       "      <td>7725</td>\n",
       "      <td>1</td>\n",
       "      <td>0.85969</td>\n",
       "      <td>1</td>\n",
       "      <td>0.85969</td>\n",
       "      <td>0.01915</td>\n",
       "      <td>0.45477</td>\n",
       "      <td>0.01915</td>\n",
       "      <td>...</td>\n",
       "      <td>0.45477</td>\n",
       "      <td>0.01915</td>\n",
       "      <td>0.45477</td>\n",
       "      <td>N0</td>\n",
       "      <td>1.0</td>\n",
       "      <td>0.90954</td>\n",
       "      <td>True</td>\n",
       "      <td>True</td>\n",
       "      <td>2</td>\n",
       "      <td>1</td>\n",
       "    </tr>\n",
       "    <tr>\n",
       "      <th>21</th>\n",
       "      <td>21</td>\n",
       "      <td>0</td>\n",
       "      <td>3911</td>\n",
       "      <td>1</td>\n",
       "      <td>0.51967</td>\n",
       "      <td>1</td>\n",
       "      <td>0.51967</td>\n",
       "      <td>0.38691</td>\n",
       "      <td>0.48732</td>\n",
       "      <td>0.38691</td>\n",
       "      <td>...</td>\n",
       "      <td>0.48732</td>\n",
       "      <td>0.38691</td>\n",
       "      <td>0.48732</td>\n",
       "      <td>N0</td>\n",
       "      <td>1.0</td>\n",
       "      <td>0.97464</td>\n",
       "      <td>True</td>\n",
       "      <td>True</td>\n",
       "      <td>2</td>\n",
       "      <td>1</td>\n",
       "    </tr>\n",
       "    <tr>\n",
       "      <th>78</th>\n",
       "      <td>78</td>\n",
       "      <td>0</td>\n",
       "      <td>2479</td>\n",
       "      <td>1</td>\n",
       "      <td>0.34244</td>\n",
       "      <td>1</td>\n",
       "      <td>0.34244</td>\n",
       "      <td>0.82768</td>\n",
       "      <td>0.48727</td>\n",
       "      <td>0.82768</td>\n",
       "      <td>...</td>\n",
       "      <td>0.48727</td>\n",
       "      <td>0.82768</td>\n",
       "      <td>0.48727</td>\n",
       "      <td>N0</td>\n",
       "      <td>1.0</td>\n",
       "      <td>0.97454</td>\n",
       "      <td>True</td>\n",
       "      <td>True</td>\n",
       "      <td>2</td>\n",
       "      <td>1</td>\n",
       "    </tr>\n",
       "    <tr>\n",
       "      <th>87</th>\n",
       "      <td>87</td>\n",
       "      <td>0</td>\n",
       "      <td>2365</td>\n",
       "      <td>1</td>\n",
       "      <td>0.97604</td>\n",
       "      <td>1</td>\n",
       "      <td>0.97604</td>\n",
       "      <td>0.39528</td>\n",
       "      <td>0.47871</td>\n",
       "      <td>0.39528</td>\n",
       "      <td>...</td>\n",
       "      <td>0.47871</td>\n",
       "      <td>0.39528</td>\n",
       "      <td>0.47871</td>\n",
       "      <td>N0</td>\n",
       "      <td>1.0</td>\n",
       "      <td>0.95742</td>\n",
       "      <td>True</td>\n",
       "      <td>True</td>\n",
       "      <td>2</td>\n",
       "      <td>1</td>\n",
       "    </tr>\n",
       "    <tr>\n",
       "      <th>...</th>\n",
       "      <td>...</td>\n",
       "      <td>...</td>\n",
       "      <td>...</td>\n",
       "      <td>...</td>\n",
       "      <td>...</td>\n",
       "      <td>...</td>\n",
       "      <td>...</td>\n",
       "      <td>...</td>\n",
       "      <td>...</td>\n",
       "      <td>...</td>\n",
       "      <td>...</td>\n",
       "      <td>...</td>\n",
       "      <td>...</td>\n",
       "      <td>...</td>\n",
       "      <td>...</td>\n",
       "      <td>...</td>\n",
       "      <td>...</td>\n",
       "      <td>...</td>\n",
       "      <td>...</td>\n",
       "      <td>...</td>\n",
       "      <td>...</td>\n",
       "    </tr>\n",
       "    <tr>\n",
       "      <th>3804</th>\n",
       "      <td>3804</td>\n",
       "      <td>0</td>\n",
       "      <td>4962</td>\n",
       "      <td>1</td>\n",
       "      <td>0.00273</td>\n",
       "      <td>1</td>\n",
       "      <td>0.00273</td>\n",
       "      <td>0.47671</td>\n",
       "      <td>0.48865</td>\n",
       "      <td>0.47671</td>\n",
       "      <td>...</td>\n",
       "      <td>0.48865</td>\n",
       "      <td>0.47671</td>\n",
       "      <td>0.48865</td>\n",
       "      <td>N0</td>\n",
       "      <td>1.0</td>\n",
       "      <td>0.97730</td>\n",
       "      <td>True</td>\n",
       "      <td>True</td>\n",
       "      <td>2</td>\n",
       "      <td>1</td>\n",
       "    </tr>\n",
       "    <tr>\n",
       "      <th>3806</th>\n",
       "      <td>3806</td>\n",
       "      <td>0</td>\n",
       "      <td>8676</td>\n",
       "      <td>1</td>\n",
       "      <td>0.29356</td>\n",
       "      <td>1</td>\n",
       "      <td>0.29356</td>\n",
       "      <td>0.25674</td>\n",
       "      <td>0.47937</td>\n",
       "      <td>0.25674</td>\n",
       "      <td>...</td>\n",
       "      <td>0.47937</td>\n",
       "      <td>0.25674</td>\n",
       "      <td>0.47937</td>\n",
       "      <td>N0</td>\n",
       "      <td>1.0</td>\n",
       "      <td>0.95874</td>\n",
       "      <td>True</td>\n",
       "      <td>True</td>\n",
       "      <td>2</td>\n",
       "      <td>1</td>\n",
       "    </tr>\n",
       "    <tr>\n",
       "      <th>3814</th>\n",
       "      <td>3814</td>\n",
       "      <td>0</td>\n",
       "      <td>4754</td>\n",
       "      <td>1</td>\n",
       "      <td>0.15797</td>\n",
       "      <td>1</td>\n",
       "      <td>0.15797</td>\n",
       "      <td>0.89394</td>\n",
       "      <td>0.48592</td>\n",
       "      <td>0.89394</td>\n",
       "      <td>...</td>\n",
       "      <td>0.48592</td>\n",
       "      <td>0.89394</td>\n",
       "      <td>0.48592</td>\n",
       "      <td>N0</td>\n",
       "      <td>1.0</td>\n",
       "      <td>0.97184</td>\n",
       "      <td>True</td>\n",
       "      <td>True</td>\n",
       "      <td>2</td>\n",
       "      <td>1</td>\n",
       "    </tr>\n",
       "    <tr>\n",
       "      <th>3817</th>\n",
       "      <td>3817</td>\n",
       "      <td>0</td>\n",
       "      <td>8345</td>\n",
       "      <td>1</td>\n",
       "      <td>0.00157</td>\n",
       "      <td>1</td>\n",
       "      <td>0.00157</td>\n",
       "      <td>0.30584</td>\n",
       "      <td>0.49771</td>\n",
       "      <td>0.30584</td>\n",
       "      <td>...</td>\n",
       "      <td>0.49771</td>\n",
       "      <td>0.30584</td>\n",
       "      <td>0.49771</td>\n",
       "      <td>N0</td>\n",
       "      <td>1.0</td>\n",
       "      <td>0.99542</td>\n",
       "      <td>True</td>\n",
       "      <td>True</td>\n",
       "      <td>2</td>\n",
       "      <td>1</td>\n",
       "    </tr>\n",
       "    <tr>\n",
       "      <th>3828</th>\n",
       "      <td>3828</td>\n",
       "      <td>0</td>\n",
       "      <td>8203</td>\n",
       "      <td>1</td>\n",
       "      <td>0.53126</td>\n",
       "      <td>1</td>\n",
       "      <td>0.53126</td>\n",
       "      <td>0.77715</td>\n",
       "      <td>0.49287</td>\n",
       "      <td>0.77715</td>\n",
       "      <td>...</td>\n",
       "      <td>0.49287</td>\n",
       "      <td>0.77715</td>\n",
       "      <td>0.49287</td>\n",
       "      <td>N0</td>\n",
       "      <td>1.0</td>\n",
       "      <td>0.98574</td>\n",
       "      <td>True</td>\n",
       "      <td>True</td>\n",
       "      <td>2</td>\n",
       "      <td>1</td>\n",
       "    </tr>\n",
       "  </tbody>\n",
       "</table>\n",
       "<p>358 rows × 26 columns</p>\n",
       "</div>"
      ],
      "text/plain": [
       "      Unnamed: 0  Unnamed: 1    ID  p1       p2  p3       p4       p5  \\\n",
       "8              8           0  1984   1  0.29875   1  0.29875  0.05641   \n",
       "17            17           0  7725   1  0.85969   1  0.85969  0.01915   \n",
       "21            21           0  3911   1  0.51967   1  0.51967  0.38691   \n",
       "78            78           0  2479   1  0.34244   1  0.34244  0.82768   \n",
       "87            87           0  2365   1  0.97604   1  0.97604  0.39528   \n",
       "...          ...         ...   ...  ..      ...  ..      ...      ...   \n",
       "3804        3804           0  4962   1  0.00273   1  0.00273  0.47671   \n",
       "3806        3806           0  8676   1  0.29356   1  0.29356  0.25674   \n",
       "3814        3814           0  4754   1  0.15797   1  0.15797  0.89394   \n",
       "3817        3817           0  8345   1  0.00157   1  0.00157  0.30584   \n",
       "3828        3828           0  8203   1  0.53126   1  0.53126  0.77715   \n",
       "\n",
       "           p6       p7  ...      p14      p15      p16  label   Sp       Sq  \\\n",
       "8     0.48269  0.05641  ...  0.48269  0.05641  0.48269     N0  1.0  0.96538   \n",
       "17    0.45477  0.01915  ...  0.45477  0.01915  0.45477     N0  1.0  0.90954   \n",
       "21    0.48732  0.38691  ...  0.48732  0.38691  0.48732     N0  1.0  0.97464   \n",
       "78    0.48727  0.82768  ...  0.48727  0.82768  0.48727     N0  1.0  0.97454   \n",
       "87    0.47871  0.39528  ...  0.47871  0.39528  0.47871     N0  1.0  0.95742   \n",
       "...       ...      ...  ...      ...      ...      ...    ...  ...      ...   \n",
       "3804  0.48865  0.47671  ...  0.48865  0.47671  0.48865     N0  1.0  0.97730   \n",
       "3806  0.47937  0.25674  ...  0.47937  0.25674  0.47937     N0  1.0  0.95874   \n",
       "3814  0.48592  0.89394  ...  0.48592  0.89394  0.48592     N0  1.0  0.97184   \n",
       "3817  0.49771  0.30584  ...  0.49771  0.30584  0.49771     N0  1.0  0.99542   \n",
       "3828  0.49287  0.77715  ...  0.49287  0.77715  0.49287     N0  1.0  0.98574   \n",
       "\n",
       "      condition A  condition B  c  b  \n",
       "8            True         True  2  1  \n",
       "17           True         True  2  1  \n",
       "21           True         True  2  1  \n",
       "78           True         True  2  1  \n",
       "87           True         True  2  1  \n",
       "...           ...          ... .. ..  \n",
       "3804         True         True  2  1  \n",
       "3806         True         True  2  1  \n",
       "3814         True         True  2  1  \n",
       "3817         True         True  2  1  \n",
       "3828         True         True  2  1  \n",
       "\n",
       "[358 rows x 26 columns]"
      ]
     },
     "execution_count": 10,
     "metadata": {},
     "output_type": "execute_result"
    }
   ],
   "source": [
    "eq[eq['Sq'] > .9]"
   ]
  },
  {
   "cell_type": "code",
   "execution_count": null,
   "metadata": {},
   "outputs": [],
   "source": []
  },
  {
   "cell_type": "code",
   "execution_count": 2,
   "metadata": {},
   "outputs": [],
   "source": [
    "def conditition_one(p2, p4, b, c):\n",
    "    return p4 < 1 - (c / b)\n",
    "\n",
    "def conditition_two(p2, p4, b, c):\n",
    "    return p2 < p4\n",
    "\n",
    "def conditition_three(p3, b, c):\n",
    "    return p3 < 1\n",
    "\n",
    "def condition_four(p2, p4, b, c):\n",
    "    return  1 + p2 < (b / c) + (p4 * (c - b)) / c"
   ]
  },
  {
   "cell_type": "code",
   "execution_count": 78,
   "metadata": {},
   "outputs": [],
   "source": [
    "def mem_two_condition_one(p, b, c):\n",
    "    return (p[10] < p[6]) \n",
    "\n",
    "def mem_two_condition_two(p, b, c):\n",
    "    return c * p[11] + b * (-1 + p[6]) < 0\n",
    "\n",
    "\n",
    "def mem_two_condition_three(p, b, c):\n",
    "    return c * (1 + p[12] - p[6])  + b * (-1 + p[6])\n",
    "\n",
    "\n",
    "def mem_two_condition_four(p, b, c):\n",
    "    return (p[13] < 1)\n",
    "\n",
    "\n",
    "def mem_two_condition_five(p, b, c):\n",
    "    return c * p[15] + b * (-1 + p[6]) < 0\n",
    "\n",
    "\n",
    "def mem_two_condition_six(p, b, c):\n",
    "    return c * p[3] + b * (-1 + p[6]) < 0\n",
    "\n",
    "\n",
    "def mem_two_condition_seven(p, b, c):\n",
    "    return (c * (1 + p[16] - p[6]) + b * (-1 + p[6])) < 0 \n",
    "\n",
    "\n",
    "def mem_two_condition_eight(p, b, c):\n",
    "    return (b * (-1 + p[6]) + c * p[7]) < 0 \n",
    "\n",
    "\n",
    "def mem_two_condition_nine(p, b, c):\n",
    "    return ((b - c) * (-1 + p[6]) + c * p[8]) < 0 \n",
    "\n",
    "\n",
    "def mem_two_condition_ten(p, b, c):\n",
    "    return (p[14] < p[6])\n",
    "\n",
    "\n",
    "def mem_two_condition_eleven(p, b, c):\n",
    "    return (p[2] < p[6])\n",
    "\n",
    "\n",
    "def mem_two_condition_twelve(p, b, c):\n",
    "    return p[5] < 1\n",
    "\n",
    "\n",
    "def mem_two_condition_thirteen(p, b, c):\n",
    "    return (p[9] < 1)"
   ]
  },
  {
   "cell_type": "code",
   "execution_count": 81,
   "metadata": {},
   "outputs": [
    {
     "data": {
      "text/plain": [
       "'b \\\\left(p_{6} - 1\\\\right) + c p_{7} < 0'"
      ]
     },
     "execution_count": 81,
     "metadata": {},
     "output_type": "execute_result"
    }
   ],
   "source": [
    "sym.latex(mem_two_condition_eight(p, b, c))"
   ]
  },
  {
   "cell_type": "code",
   "execution_count": 82,
   "metadata": {},
   "outputs": [
    {
     "data": {
      "text/plain": [
       "'c p_{8} + \\\\left(b - c\\\\right) \\\\left(p_{6} - 1\\\\right) < 0'"
      ]
     },
     "execution_count": 82,
     "metadata": {},
     "output_type": "execute_result"
    }
   ],
   "source": [
    "sym.latex(mem_two_condition_nine(p, b, c))"
   ]
  },
  {
   "cell_type": "code",
   "execution_count": 69,
   "metadata": {},
   "outputs": [
    {
     "data": {
      "text/plain": [
       "'b \\\\left(p_{6} - 1\\\\right) + c p_{11} < 0'"
      ]
     },
     "execution_count": 69,
     "metadata": {},
     "output_type": "execute_result"
    }
   ],
   "source": [
    "sym.latex(mem_two_condition_two(p, b, c))"
   ]
  },
  {
   "cell_type": "code",
   "execution_count": null,
   "metadata": {},
   "outputs": [],
   "source": [
    "c / b * p"
   ]
  },
  {
   "cell_type": "code",
   "execution_count": 64,
   "metadata": {},
   "outputs": [],
   "source": [
    "p = sym.symbols(f\"p_0:{17}\")\n",
    "\n",
    "b, c = sym.symbols(\"b, c\")"
   ]
  },
  {
   "cell_type": "code",
   "execution_count": 63,
   "metadata": {},
   "outputs": [],
   "source": [
    "p1, p2, p3, p4 = sym.symbols(\"p_1, p_2, p_3, p_4\")"
   ]
  },
  {
   "cell_type": "code",
   "execution_count": 54,
   "metadata": {},
   "outputs": [],
   "source": [
    "conditions_mem_two = [mem_two_condition_one, mem_two_condition_two, mem_two_condition_three,\n",
    "                      mem_two_condition_four, mem_two_condition_five, mem_two_condition_six,\n",
    "                      mem_two_condition_seven, mem_two_condition_eight, mem_two_condition_nine,\n",
    "                      mem_two_condition_ten, mem_two_condition_eleven, mem_two_condition_twelve,\n",
    "                      mem_two_condition_thirteen]"
   ]
  },
  {
   "cell_type": "code",
   "execution_count": 55,
   "metadata": {},
   "outputs": [],
   "source": [
    "tests = []\n",
    "player = [0, p1, p2, p1, p2, p3, p4, p3, p4, p1, p2, p1, p2, p3, p4, p3, p4]\n",
    "\n",
    "for condition in conditions_mem_two:\n",
    "    tests.append(condition(player, b, c))"
   ]
  },
  {
   "cell_type": "code",
   "execution_count": 56,
   "metadata": {},
   "outputs": [
    {
     "data": {
      "text/plain": [
       "{b*(p_4 - 1) + c < 0,\n",
       " b*(p_4 - 1) + c*(p_2 - p_4 + 1) < 0,\n",
       " b*(p_4 - 1) + c*p_1 < 0,\n",
       " b*(p_4 - 1) + c*p_3 < 0,\n",
       " c*p_4 + (b - c)*(p_4 - 1) < 0,\n",
       " p_1 < 1,\n",
       " p_2 < p_4,\n",
       " p_3 < 1,\n",
       " p_4 < p_4}"
      ]
     },
     "execution_count": 56,
     "metadata": {},
     "output_type": "execute_result"
    }
   ],
   "source": [
    "set(tests)"
   ]
  },
  {
   "cell_type": "code",
   "execution_count": 57,
   "metadata": {},
   "outputs": [
    {
     "data": {
      "text/plain": [
       "True"
      ]
     },
     "execution_count": 57,
     "metadata": {},
     "output_type": "execute_result"
    }
   ],
   "source": [
    "(c*p4 + (b - c)*(p4 - 1)).factor() == (b*(p4 - 1) + c).factor()"
   ]
  },
  {
   "cell_type": "code",
   "execution_count": 58,
   "metadata": {},
   "outputs": [
    {
     "data": {
      "text/latex": [
       "$\\displaystyle b p_{4} - b + c$"
      ],
      "text/plain": [
       "b*p_4 - b + c"
      ]
     },
     "execution_count": 58,
     "metadata": {},
     "output_type": "execute_result"
    }
   ],
   "source": [
    "(b*(p4 - 1) + c).factor()"
   ]
  },
  {
   "cell_type": "code",
   "execution_count": 49,
   "metadata": {},
   "outputs": [],
   "source": [
    "p = [1, 0.40169, 0.08579, 0.06269]\n",
    "\n",
    "p1 = 1\n",
    "\n",
    "p2 = 0.40169\n",
    "\n",
    "p3 = 0.08579\n",
    "\n",
    "p4 = 0.06269"
   ]
  },
  {
   "cell_type": "code",
   "execution_count": 50,
   "metadata": {},
   "outputs": [],
   "source": [
    "player = [0, p1, p2, p1, p2, p3, p4, p3, p4, p1, p2, p1, p2, p3, p4, p3, p4]"
   ]
  },
  {
   "cell_type": "code",
   "execution_count": 45,
   "metadata": {},
   "outputs": [
    {
     "data": {
      "text/plain": [
       "(True, False, True)"
      ]
     },
     "execution_count": 45,
     "metadata": {},
     "output_type": "execute_result"
    }
   ],
   "source": [
    "conditition_one(p[1], p[-1], 2, 1), conditition_two(p[1], p[-1], 2, 1), conditition_three(p[2], 2, 1),"
   ]
  },
  {
   "cell_type": "code",
   "execution_count": 48,
   "metadata": {},
   "outputs": [
    {
     "data": {
      "text/plain": [
       "True"
      ]
     },
     "execution_count": 48,
     "metadata": {},
     "output_type": "execute_result"
    }
   ],
   "source": [
    "condition_four(p[1], p[-1], 2, 1)"
   ]
  },
  {
   "cell_type": "code",
   "execution_count": 51,
   "metadata": {},
   "outputs": [
    {
     "name": "stdout",
     "output_type": "stream",
     "text": [
      "False\n",
      "True\n",
      "True\n",
      "True\n",
      "True\n",
      "True\n",
      "True\n",
      "True\n",
      "True\n",
      "False\n",
      "False\n",
      "True\n",
      "False\n"
     ]
    }
   ],
   "source": [
    "for condition in conditions_mem_two:\n",
    "    print(condition(player, 2, 1))"
   ]
  },
  {
   "cell_type": "code",
   "execution_count": null,
   "metadata": {},
   "outputs": [],
   "source": [
    "c (p10 - p6) v10 \n",
    "c (p14 - p6) v14 \n",
    "c (p2 - p6) v2 \n",
    "\n",
    " \n",
    "\n",
    "\n",
    "\n",
    "c (-1 + p13) v13 \n",
    "c (-1 + p9) v9\n",
    "c (-1 + p5) v5 \n",
    "\n",
    "\n",
    "\n",
    "(c p15 + b (-1 + p6)) v15 \n",
    "(c p3 + b (-1 + p6)) v3 \n",
    "(c p11 + b (-1 + p6)) v11\n",
    "(b (-1 + p6) + c p7) v7\n",
    "\n",
    "\n",
    "\n",
    "\n",
    "\n",
    "(c (1 + p16 - p6) + b (-1 + p6)) v16 \n",
    "(c (1 + p4 - p6) + b (-1 + p6)) v4 \n",
    "(c (1 + p12 - p6) + b (-1 + p6)) v12 \n",
    "\n",
    "\n",
    " \n",
    "\n",
    "((b - c) (-1 + p6) + c p8) v8 \n",
    "\n"
   ]
  },
  {
   "cell_type": "code",
   "execution_count": 1,
   "metadata": {},
   "outputs": [],
   "source": [
    "import sympy as sym"
   ]
  },
  {
   "cell_type": "code",
   "execution_count": 3,
   "metadata": {},
   "outputs": [],
   "source": [
    "import os\n",
    "\n",
    "os.chdir('..')"
   ]
  },
  {
   "cell_type": "code",
   "execution_count": 16,
   "metadata": {},
   "outputs": [],
   "source": [
    "from importlib.machinery import SourceFileLoader\n",
    "\n",
    "eq = SourceFileLoader(\"eq\", \"src/equilibria.py\").load_module()\n",
    "\n",
    "from eq import *\n",
    "\n",
    "\n",
    "main = SourceFileLoader(\"main\", \"src/main.py\").load_module()\n",
    "\n",
    "from main import *"
   ]
  },
  {
   "cell_type": "code",
   "execution_count": 17,
   "metadata": {},
   "outputs": [],
   "source": [
    "p1, p2, p3, p4, p5, p6, p7, p8, p9, p10, p11, p12, p13, p14, p15, p16 = sym.symbols(\"p1, p2, p3, p4, p5, p6, p7, p8, p9, p10, p11, p12, p13, p14, p15, p16\")"
   ]
  },
  {
   "cell_type": "code",
   "execution_count": 18,
   "metadata": {},
   "outputs": [],
   "source": [
    "M = eq.calculate_M_memory_two([0 for _ in range(16)], [p1, p2, p3, p4, p5, 1,\n",
    "                                                   p7, p8, p9, p10, p11,\n",
    "                                                   p12, p13, p14, p15, p16])"
   ]
  },
  {
   "cell_type": "code",
   "execution_count": 19,
   "metadata": {},
   "outputs": [
    {
     "data": {
      "text/latex": [
       "$\\displaystyle \\left[\\begin{array}{cccccccccccccccc}0 & 0 & 0 & 0 & 0 & 0 & 0 & 0 & 0 & 0 & 1 & 0 & 0 & 0 & 0 & 0\\end{array}\\right]$"
      ],
      "text/plain": [
       "Matrix([[0, 0, 0, 0, 0, 0, 0, 0, 0, 0, 1, 0, 0, 0, 0, 0]])"
      ]
     },
     "execution_count": 19,
     "metadata": {},
     "output_type": "execute_result"
    }
   ],
   "source": [
    "invariant_distribution_analytically(M)"
   ]
  },
  {
   "cell_type": "code",
   "execution_count": null,
   "metadata": {},
   "outputs": [],
   "source": []
  }
 ],
 "metadata": {
  "kernelspec": {
   "display_name": "Python 3",
   "language": "python",
   "name": "python3"
  },
  "language_info": {
   "codemirror_mode": {
    "name": "ipython",
    "version": 3
   },
   "file_extension": ".py",
   "mimetype": "text/x-python",
   "name": "python",
   "nbconvert_exporter": "python",
   "pygments_lexer": "ipython3",
   "version": "3.8.3"
  }
 },
 "nbformat": 4,
 "nbformat_minor": 4
}
