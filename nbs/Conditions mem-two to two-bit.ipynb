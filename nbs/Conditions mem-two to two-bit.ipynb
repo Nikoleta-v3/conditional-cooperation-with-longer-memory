{
 "cells": [
  {
   "cell_type": "code",
   "execution_count": 1,
   "metadata": {},
   "outputs": [],
   "source": [
    "import numpy as np\n",
    "\n",
    "import sympy as sym"
   ]
  },
  {
   "cell_type": "code",
   "execution_count": 2,
   "metadata": {},
   "outputs": [],
   "source": [
    "def conditition_one(p2, p4, b, c):\n",
    "    return p4 < 1 - (c / b)\n",
    "\n",
    "def conditition_two(p2, p4, b, c):\n",
    "    return p2 < p4\n",
    "\n",
    "def conditition_three(p3, b, c):\n",
    "    return p3 < 1\n",
    "\n",
    "def condition_four(p2, p4, b, c):\n",
    "    return  1 + p2 < (b / c) + (p4 * (c - b)) / c"
   ]
  },
  {
   "cell_type": "code",
   "execution_count": 78,
   "metadata": {},
   "outputs": [],
   "source": [
    "# def mem_two_condition_one(p, b, c):\n",
    "#     return (p[10] < p[6]) \n",
    "\n",
    "# def mem_two_condition_two(p, b, c):\n",
    "#     return c * p[11] + b * (-1 + p[6]) < 0\n",
    "\n",
    "\n",
    "# def mem_two_condition_three(p, b, c):\n",
    "#     return c * (1 + p[12] - p[6])  + b * (-1 + p[6])\n",
    "\n",
    "\n",
    "# def mem_two_condition_four(p, b, c):\n",
    "#     return (p[13] < 1)\n",
    "\n",
    "\n",
    "# def mem_two_condition_five(p, b, c):\n",
    "#     return c * p[15] + b * (-1 + p[6]) < 0\n",
    "\n",
    "\n",
    "# def mem_two_condition_six(p, b, c):\n",
    "#     return c * p[3] + b * (-1 + p[6]) < 0\n",
    "\n",
    "\n",
    "# def mem_two_condition_seven(p, b, c):\n",
    "#     return (c * (1 + p[16] - p[6]) + b * (-1 + p[6])) < 0 \n",
    "\n",
    "\n",
    "def mem_two_condition_eight(p, b, c):\n",
    "    return (b * (-1 + p[6]) + c * p[7]) < 0 \n",
    "\n",
    "\n",
    "def mem_two_condition_nine(p, b, c):\n",
    "    return ((b - c) * (-1 + p[6]) + c * p[8]) < 0 \n",
    "\n",
    "\n",
    "# def mem_two_condition_ten(p, b, c):\n",
    "#     return (p[14] < p[6])\n",
    "\n",
    "\n",
    "# def mem_two_condition_eleven(p, b, c):\n",
    "#     return (p[2] < p[6])\n",
    "\n",
    "\n",
    "# def mem_two_condition_twelve(p, b, c):\n",
    "#     return p[5] < 1\n",
    "\n",
    "\n",
    "# def mem_two_condition_thirteen(p, b, c):\n",
    "#     return (p[9] < 1)"
   ]
  },
  {
   "cell_type": "code",
   "execution_count": 81,
   "metadata": {},
   "outputs": [
    {
     "data": {
      "text/plain": [
       "'b \\\\left(p_{6} - 1\\\\right) + c p_{7} < 0'"
      ]
     },
     "execution_count": 81,
     "metadata": {},
     "output_type": "execute_result"
    }
   ],
   "source": [
    "sym.latex(mem_two_condition_eight(p, b, c))"
   ]
  },
  {
   "cell_type": "code",
   "execution_count": 82,
   "metadata": {},
   "outputs": [
    {
     "data": {
      "text/plain": [
       "'c p_{8} + \\\\left(b - c\\\\right) \\\\left(p_{6} - 1\\\\right) < 0'"
      ]
     },
     "execution_count": 82,
     "metadata": {},
     "output_type": "execute_result"
    }
   ],
   "source": [
    "sym.latex(mem_two_condition_nine(p, b, c))"
   ]
  },
  {
   "cell_type": "code",
   "execution_count": 69,
   "metadata": {},
   "outputs": [
    {
     "data": {
      "text/plain": [
       "'b \\\\left(p_{6} - 1\\\\right) + c p_{11} < 0'"
      ]
     },
     "execution_count": 69,
     "metadata": {},
     "output_type": "execute_result"
    }
   ],
   "source": [
    "sym.latex(mem_two_condition_two(p, b, c))"
   ]
  },
  {
   "cell_type": "code",
   "execution_count": null,
   "metadata": {},
   "outputs": [],
   "source": [
    "c / b * p"
   ]
  },
  {
   "cell_type": "code",
   "execution_count": 64,
   "metadata": {},
   "outputs": [],
   "source": [
    "p = sym.symbols(f\"p_0:{17}\")\n",
    "\n",
    "b, c = sym.symbols(\"b, c\")"
   ]
  },
  {
   "cell_type": "code",
   "execution_count": 63,
   "metadata": {},
   "outputs": [],
   "source": [
    "p1, p2, p3, p4 = sym.symbols(\"p_1, p_2, p_3, p_4\")"
   ]
  },
  {
   "cell_type": "code",
   "execution_count": 54,
   "metadata": {},
   "outputs": [],
   "source": [
    "conditions_mem_two = [mem_two_condition_one, mem_two_condition_two, mem_two_condition_three,\n",
    "                      mem_two_condition_four, mem_two_condition_five, mem_two_condition_six,\n",
    "                      mem_two_condition_seven, mem_two_condition_eight, mem_two_condition_nine,\n",
    "                      mem_two_condition_ten, mem_two_condition_eleven, mem_two_condition_twelve,\n",
    "                      mem_two_condition_thirteen]"
   ]
  },
  {
   "cell_type": "code",
   "execution_count": 55,
   "metadata": {},
   "outputs": [],
   "source": [
    "tests = []\n",
    "player = [0, p1, p2, p1, p2, p3, p4, p3, p4, p1, p2, p1, p2, p3, p4, p3, p4]\n",
    "\n",
    "for condition in conditions_mem_two:\n",
    "    tests.append(condition(player, b, c))"
   ]
  },
  {
   "cell_type": "code",
   "execution_count": 56,
   "metadata": {},
   "outputs": [
    {
     "data": {
      "text/plain": [
       "{b*(p_4 - 1) + c < 0,\n",
       " b*(p_4 - 1) + c*(p_2 - p_4 + 1) < 0,\n",
       " b*(p_4 - 1) + c*p_1 < 0,\n",
       " b*(p_4 - 1) + c*p_3 < 0,\n",
       " c*p_4 + (b - c)*(p_4 - 1) < 0,\n",
       " p_1 < 1,\n",
       " p_2 < p_4,\n",
       " p_3 < 1,\n",
       " p_4 < p_4}"
      ]
     },
     "execution_count": 56,
     "metadata": {},
     "output_type": "execute_result"
    }
   ],
   "source": [
    "set(tests)"
   ]
  },
  {
   "cell_type": "code",
   "execution_count": 57,
   "metadata": {},
   "outputs": [
    {
     "data": {
      "text/plain": [
       "True"
      ]
     },
     "execution_count": 57,
     "metadata": {},
     "output_type": "execute_result"
    }
   ],
   "source": [
    "(c*p4 + (b - c)*(p4 - 1)).factor() == (b*(p4 - 1) + c).factor()"
   ]
  },
  {
   "cell_type": "code",
   "execution_count": 58,
   "metadata": {},
   "outputs": [
    {
     "data": {
      "text/latex": [
       "$\\displaystyle b p_{4} - b + c$"
      ],
      "text/plain": [
       "b*p_4 - b + c"
      ]
     },
     "execution_count": 58,
     "metadata": {},
     "output_type": "execute_result"
    }
   ],
   "source": [
    "(b*(p4 - 1) + c).factor()"
   ]
  },
  {
   "cell_type": "code",
   "execution_count": 49,
   "metadata": {},
   "outputs": [],
   "source": [
    "p = [1, 0.40169, 0.08579, 0.06269]\n",
    "\n",
    "p1 = 1\n",
    "\n",
    "p2 = 0.40169\n",
    "\n",
    "p3 = 0.08579\n",
    "\n",
    "p4 = 0.06269"
   ]
  },
  {
   "cell_type": "code",
   "execution_count": 50,
   "metadata": {},
   "outputs": [],
   "source": [
    "player = [0, p1, p2, p1, p2, p3, p4, p3, p4, p1, p2, p1, p2, p3, p4, p3, p4]"
   ]
  },
  {
   "cell_type": "code",
   "execution_count": 45,
   "metadata": {},
   "outputs": [
    {
     "data": {
      "text/plain": [
       "(True, False, True)"
      ]
     },
     "execution_count": 45,
     "metadata": {},
     "output_type": "execute_result"
    }
   ],
   "source": [
    "conditition_one(p[1], p[-1], 2, 1), conditition_two(p[1], p[-1], 2, 1), conditition_three(p[2], 2, 1),"
   ]
  },
  {
   "cell_type": "code",
   "execution_count": 48,
   "metadata": {},
   "outputs": [
    {
     "data": {
      "text/plain": [
       "True"
      ]
     },
     "execution_count": 48,
     "metadata": {},
     "output_type": "execute_result"
    }
   ],
   "source": [
    "condition_four(p[1], p[-1], 2, 1)"
   ]
  },
  {
   "cell_type": "code",
   "execution_count": 51,
   "metadata": {},
   "outputs": [
    {
     "name": "stdout",
     "output_type": "stream",
     "text": [
      "False\n",
      "True\n",
      "True\n",
      "True\n",
      "True\n",
      "True\n",
      "True\n",
      "True\n",
      "True\n",
      "False\n",
      "False\n",
      "True\n",
      "False\n"
     ]
    }
   ],
   "source": [
    "for condition in conditions_mem_two:\n",
    "    print(condition(player, 2, 1))"
   ]
  },
  {
   "cell_type": "code",
   "execution_count": null,
   "metadata": {},
   "outputs": [],
   "source": []
  }
 ],
 "metadata": {
  "kernelspec": {
   "display_name": "Python 3",
   "language": "python",
   "name": "python3"
  },
  "language_info": {
   "codemirror_mode": {
    "name": "ipython",
    "version": 3
   },
   "file_extension": ".py",
   "mimetype": "text/x-python",
   "name": "python",
   "nbconvert_exporter": "python",
   "pygments_lexer": "ipython3",
   "version": "3.8.3"
  }
 },
 "nbformat": 4,
 "nbformat_minor": 4
}
