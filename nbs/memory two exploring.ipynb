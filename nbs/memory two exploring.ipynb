{
 "cells": [
  {
   "cell_type": "code",
   "execution_count": 1,
   "metadata": {},
   "outputs": [],
   "source": [
    "import axelrod as axl"
   ]
  },
  {
   "cell_type": "code",
   "execution_count": 2,
   "metadata": {},
   "outputs": [],
   "source": [
    "from axelrod.action import Action\n",
    "\n",
    "C, D = Action.C, Action.D"
   ]
  },
  {
   "cell_type": "code",
   "execution_count": 3,
   "metadata": {},
   "outputs": [],
   "source": [
    "import numpy as np"
   ]
  },
  {
   "cell_type": "code",
   "execution_count": 4,
   "metadata": {},
   "outputs": [],
   "source": [
    "p, q = np.random.random(16), np.random.random(16) "
   ]
  },
  {
   "cell_type": "code",
   "execution_count": 5,
   "metadata": {},
   "outputs": [],
   "source": [
    "def simulate_play(p, q, turns=10 * 5, noise=0):\n",
    "    \n",
    "    states_to_actions = {(C, C): 0, \n",
    "                     (C, D): 0, \n",
    "                     (D, C): 0, \n",
    "                     (D, D):0}\n",
    "\n",
    "    states_counts = {(C, C): 0, \n",
    "                     (C, D): 0, \n",
    "                     (D, C): 0, \n",
    "                     (D, D):0}\n",
    "\n",
    "    player = axl.MemoryTwoPlayer([p[0], p[1], p[4], p[5],\n",
    "                                  p[2], p[3], p[6], p[7],\n",
    "                                  p[8], p[9], p[12], p[13], \n",
    "                                  p[10], p[11], p[14], p[15]])\n",
    "\n",
    "    coplayer = axl.MemoryTwoPlayer([q[0], q[1], q[4], q[5],\n",
    "                                    q[2], q[3], q[6], q[7],\n",
    "                                    q[8], q[9], q[12], q[13], \n",
    "                                    q[10], q[11], q[14], q[15]])\n",
    "    \n",
    "    \n",
    "    match = axl.Match(players=[player, coplayer], turns=turns, noise=noise)\n",
    "    \n",
    "    _ = match.play()\n",
    "  \n",
    "    for i, history in enumerate(match.result[2:-1]):\n",
    "\n",
    "        states_counts[history[::-1]] += 1\n",
    "        action = match.result[i + 2 +1][-1]\n",
    "\n",
    "        if action == C:\n",
    "            states_to_actions[history[::-1]] += 1\n",
    "        \n",
    "        \n",
    "    strategy = []\n",
    "    states = [(C, C), (C, D), (D, C), (D, D)]\n",
    "\n",
    "    for state in states:\n",
    "        if states_counts[state] > 0:\n",
    "            strategy.append(states_to_actions[state] / states_counts[state])\n",
    "        else:\n",
    "            strategy.append(0)\n",
    "    \n",
    "    return strategy, states_counts, states_to_actions"
   ]
  },
  {
   "cell_type": "code",
   "execution_count": 6,
   "metadata": {},
   "outputs": [],
   "source": [
    "def simulate_play_mem_two(p, q, turns=10 * 5, noise=0):\n",
    "    \n",
    "    first = [((C, C), (C, C)), ((C, D), (C, C)), ((D, C), (C, C)), ((D, D), (C, C))]\n",
    "\n",
    "    second = [((C, C), (C, D)), ((C, D), (C, D)), ((D, C), (C, D)), ((D, D), (C, D))]\n",
    "\n",
    "    third = [((C, C), (D, C)), ((C, D), (D, C)), ((D, C), (D, C)), ((D, D), (D, C))]\n",
    "\n",
    "    fourth = [((C, C), (D, D)), ((C, D), (D, D)), ((D, C), (D, D)), ((D, D), (D, D))]\n",
    "    \n",
    "    states_to_actions = {((C, C), (C, C)): 0, \n",
    "                         ((C, C), (C, D)): 0, \n",
    "                         ((C, C), (D, C)): 0, \n",
    "                         ((C, C), (D, D)):0,\n",
    "                         ((C, D), (C, C)): 0,\n",
    "                         ((C, D), (C, D)): 0,\n",
    "                         ((C, D), (D, C)): 0,\n",
    "                         ((C, D), (D, D)): 0,\n",
    "                         ((D, C), (C, C)): 0,\n",
    "                         ((D, C), (C, D)): 0,\n",
    "                         ((D, C), (D, C)): 0,\n",
    "                         ((D, C), (D, D)): 0,\n",
    "                         ((D, D), (C, C)): 0,\n",
    "                         ((D, D), (C, D)): 0,\n",
    "                         ((D, D), (D, C)): 0,\n",
    "                         ((D, D), (D, D)): 0}\n",
    "\n",
    "    states_counts = {((C, C), (C, C)): 0, \n",
    "                     ((C, C), (C, D)): 0, \n",
    "                     ((C, C), (D, C)): 0, \n",
    "                     ((C, C), (D, D)): 0,\n",
    "                     ((C, D), (C, C)): 0,\n",
    "                     ((C, D), (C, D)): 0,\n",
    "                     ((C, D), (D, C)): 0,\n",
    "                     ((C, D), (D, D)): 0,\n",
    "                     ((D, C), (C, C)): 0,\n",
    "                     ((D, C), (C, D)): 0,\n",
    "                     ((D, C), (D, C)): 0,\n",
    "                     ((D, C), (D, D)): 0,\n",
    "                     ((D, D), (C, C)): 0,\n",
    "                     ((D, D), (C, D)): 0,\n",
    "                     ((D, D), (D, C)): 0,\n",
    "                     ((D, D), (D, D)): 0}\n",
    "\n",
    "    player = axl.MemoryTwoPlayer([p[0], p[1], p[4], p[5],\n",
    "                                  p[2], p[3], p[6], p[7],\n",
    "                                  p[8], p[9], p[12], p[13], \n",
    "                                  p[10], p[11], p[14], p[15]])\n",
    "\n",
    "    coplayer = axl.MemoryTwoPlayer([q[0], q[1], q[4], q[5],\n",
    "                                    q[2], q[3], q[6], q[7],\n",
    "                                    q[8], q[9], q[12], q[13], \n",
    "                                    q[10], q[11], q[14], q[15]])\n",
    "    \n",
    "    \n",
    "    match = axl.Match(players=[player, coplayer], turns=turns, noise=noise)\n",
    "    \n",
    "    _ = match.play()\n",
    "  \n",
    "    for i, (previous, history) in enumerate(zip(match.result[1:-2], match.result[2:-1])):\n",
    "\n",
    "        states_counts[(previous[::-1], history[::-1])] += 1\n",
    "        action = match.result[i + 2 + 1][-1]\n",
    "\n",
    "        if action == C:\n",
    "            states_to_actions[(previous[::-1], history[::-1])] += 1\n",
    "            \n",
    "    strategy = []\n",
    "    \n",
    "    for state in [first, second, third, fourth]:\n",
    "        if sum([states_counts[i] for i in state]) > 1:\n",
    "            strategy.append(sum([states_to_actions[i] for i in state]) /\n",
    "                            sum([states_counts[i] for i in state]))\n",
    "        else:\n",
    "            strategy.append(0)\n",
    "        \n",
    "    return strategy, states_counts, states_to_actions"
   ]
  },
  {
   "cell_type": "code",
   "execution_count": 8,
   "metadata": {},
   "outputs": [],
   "source": [
    "player = [1, 1, 1, 1]"
   ]
  },
  {
   "cell_type": "code",
   "execution_count": 27,
   "metadata": {},
   "outputs": [],
   "source": [
    "coplayer = np.random.random(16)"
   ]
  },
  {
   "cell_type": "code",
   "execution_count": 28,
   "metadata": {},
   "outputs": [],
   "source": [
    "s, counts, actions = simulate_play(player * 4, coplayer)"
   ]
  },
  {
   "cell_type": "code",
   "execution_count": 29,
   "metadata": {},
   "outputs": [],
   "source": [
    "s2, counts2, actions2 = simulate_play_mem_two(player * 4, coplayer)"
   ]
  },
  {
   "cell_type": "code",
   "execution_count": 30,
   "metadata": {},
   "outputs": [
    {
     "data": {
      "text/plain": [
       "([0.6060606060606061, 0, 0.9285714285714286, 0],\n",
       " [0.5384615384615384, 0, 0.5714285714285714, 0])"
      ]
     },
     "execution_count": 30,
     "metadata": {},
     "output_type": "execute_result"
    }
   ],
   "source": [
    "s, s2"
   ]
  },
  {
   "cell_type": "code",
   "execution_count": 31,
   "metadata": {},
   "outputs": [
    {
     "data": {
      "text/plain": [
       "{(C, C): 33, (C, D): 0, (D, C): 14, (D, D): 0}"
      ]
     },
     "execution_count": 31,
     "metadata": {},
     "output_type": "execute_result"
    }
   ],
   "source": [
    "counts"
   ]
  },
  {
   "cell_type": "code",
   "execution_count": 32,
   "metadata": {},
   "outputs": [
    {
     "data": {
      "text/plain": [
       "{((C, C), (C, C)): 14,\n",
       " ((C, C), (C, D)): 0,\n",
       " ((C, C), (D, C)): 12,\n",
       " ((C, C), (D, D)): 0,\n",
       " ((C, D), (C, C)): 0,\n",
       " ((C, D), (C, D)): 0,\n",
       " ((C, D), (D, C)): 0,\n",
       " ((C, D), (D, D)): 0,\n",
       " ((D, C), (C, C)): 12,\n",
       " ((D, C), (C, D)): 0,\n",
       " ((D, C), (D, C)): 9,\n",
       " ((D, C), (D, D)): 0,\n",
       " ((D, D), (C, C)): 0,\n",
       " ((D, D), (C, D)): 0,\n",
       " ((D, D), (D, C)): 0,\n",
       " ((D, D), (D, D)): 0}"
      ]
     },
     "execution_count": 32,
     "metadata": {},
     "output_type": "execute_result"
    }
   ],
   "source": [
    "counts2"
   ]
  },
  {
   "cell_type": "code",
   "execution_count": 33,
   "metadata": {},
   "outputs": [],
   "source": [
    "first = [((C, C), (C, C)),\n",
    "((C, D), (C, C)),\n",
    "((D, C), (C, C)),\n",
    "((D, D), (C, C))]\n",
    "\n",
    "second = [((C, C), (C, D)),\n",
    "((C, D), (C, D)),\n",
    "((D, C), (C, D)),\n",
    "((D, D), (C, D))]\n",
    "\n",
    "third = [((C, C), (D, C)),\n",
    "((C, D), (D, C)),\n",
    "((D, C), (D, C)),\n",
    "((D, D), (D, C))]\n",
    "\n",
    "fourth = [((C, C), (D, D)),\n",
    "((C, D), (D, D)),\n",
    "((D, C), (D, D)),\n",
    "((D, D), (D, D))]"
   ]
  },
  {
   "cell_type": "code",
   "execution_count": 36,
   "metadata": {},
   "outputs": [],
   "source": [
    "strategy = []\n",
    "\n",
    "for state in [first, second, third, fourth]:\n",
    "    if sum([counts2[i] for i in state]) > 1:\n",
    "        strategy.append(sum([actions2[i] for i in state]) /\n",
    "                        sum([counts2[i] for i in state]))\n",
    "    else:\n",
    "        strategy.append(0)\n"
   ]
  },
  {
   "cell_type": "code",
   "execution_count": 37,
   "metadata": {},
   "outputs": [
    {
     "data": {
      "text/plain": [
       "[0.5384615384615384, 0, 0.5714285714285714, 0]"
      ]
     },
     "execution_count": 37,
     "metadata": {},
     "output_type": "execute_result"
    }
   ],
   "source": [
    "strategy"
   ]
  },
  {
   "cell_type": "code",
   "execution_count": 43,
   "metadata": {},
   "outputs": [],
   "source": [
    "def invariant_distributions(M):\n",
    "    \"\"\"Returns all the invariant distributions in case of absorbing states.\"\"\"\n",
    "    \n",
    "    stationaries = []\n",
    "    \n",
    "    eigenvalues, eigenvectors = np.linalg.eig(M.T)\n",
    "    \n",
    "    for index in np.where(eigenvalues == np.max(eigenvalues))[0]:\n",
    "        \n",
    "        eigenvectors_one = eigenvectors[:, index]\n",
    "\n",
    "        stationary = eigenvectors_one / eigenvectors_one.sum()\n",
    "\n",
    "        stationaries.append(stationary.real)\n",
    "        \n",
    "    return stationaries"
   ]
  },
  {
   "cell_type": "code",
   "execution_count": 44,
   "metadata": {},
   "outputs": [],
   "source": [
    "def calculate_ss_for_mem_two(player, coplayer):\n",
    "    \"\"\"\n",
    "    Invariant distribution for memory-two.\n",
    "    \"\"\"\n",
    "    M = calculate_M_memory_two(player, coplayer)\n",
    "    ss = invariant_distributions(M)\n",
    "    \n",
    "    return ss"
   ]
  },
  {
   "cell_type": "code",
   "execution_count": 46,
   "metadata": {},
   "outputs": [],
   "source": [
    "\n",
    "import os\n",
    "\n",
    "os.chdir('..')\n",
    "\n",
    "from importlib.machinery import SourceFileLoader\n",
    "\n",
    "eq = SourceFileLoader(\"eq\", \"src/equilibria.py\").load_module()\n",
    "\n",
    "from eq import *\n",
    "\n",
    "from importlib.machinery import SourceFileLoader\n",
    "\n",
    "main = SourceFileLoader(\"main\", \"src/main.py\").load_module()\n",
    "\n",
    "from main import *"
   ]
  },
  {
   "cell_type": "code",
   "execution_count": 139,
   "metadata": {},
   "outputs": [],
   "source": [
    "player = [1, 1, 1, 1]\n",
    "\n",
    "np.random.seed(0)\n",
    "\n",
    "coplayer = np.random.random(16)"
   ]
  },
  {
   "cell_type": "code",
   "execution_count": 196,
   "metadata": {},
   "outputs": [],
   "source": [
    "s, counts, actions = simulate_play(player * 4, coplayer, turns=10**3)"
   ]
  },
  {
   "cell_type": "code",
   "execution_count": 197,
   "metadata": {},
   "outputs": [
    {
     "data": {
      "text/plain": [
       "[0.6730486008836525, 0, 0.6981132075471698, 0]"
      ]
     },
     "execution_count": 197,
     "metadata": {},
     "output_type": "execute_result"
    }
   ],
   "source": [
    "s"
   ]
  },
  {
   "cell_type": "code",
   "execution_count": 193,
   "metadata": {},
   "outputs": [],
   "source": [
    "s2, counts2, actions2 = simulate_play_mem_two(player * 4, coplayer, turns=10 ** 6)"
   ]
  },
  {
   "cell_type": "code",
   "execution_count": 186,
   "metadata": {},
   "outputs": [
    {
     "data": {
      "text/plain": [
       "[0.6771300448430493, 0, 0.6585365853658537, 0]"
      ]
     },
     "execution_count": 186,
     "metadata": {},
     "output_type": "execute_result"
    }
   ],
   "source": [
    "s2"
   ]
  },
  {
   "cell_type": "code",
   "execution_count": 153,
   "metadata": {},
   "outputs": [
    {
     "data": {
      "text/plain": [
       "0.62"
      ]
     },
     "execution_count": 153,
     "metadata": {},
     "output_type": "execute_result"
    }
   ],
   "source": [
    "counts[(C, C)] / 50"
   ]
  },
  {
   "cell_type": "code",
   "execution_count": 156,
   "metadata": {},
   "outputs": [
    {
     "data": {
      "text/plain": [
       "0.32"
      ]
     },
     "execution_count": 156,
     "metadata": {},
     "output_type": "execute_result"
    }
   ],
   "source": [
    "counts[(D, C)] / 50"
   ]
  },
  {
   "cell_type": "code",
   "execution_count": 162,
   "metadata": {},
   "outputs": [
    {
     "data": {
      "text/plain": [
       "0.6774193548387096"
      ]
     },
     "execution_count": 162,
     "metadata": {},
     "output_type": "execute_result"
    }
   ],
   "source": [
    "actions[(C, C)] / counts[(C, C)]"
   ]
  },
  {
   "cell_type": "code",
   "execution_count": 166,
   "metadata": {},
   "outputs": [
    {
     "data": {
      "text/plain": [
       "21"
      ]
     },
     "execution_count": 166,
     "metadata": {},
     "output_type": "execute_result"
    }
   ],
   "source": [
    "actions[(C, C)]"
   ]
  },
  {
   "cell_type": "code",
   "execution_count": 167,
   "metadata": {},
   "outputs": [
    {
     "data": {
      "text/plain": [
       "{(C, C): 31, (C, D): 0, (D, C): 16, (D, D): 0}"
      ]
     },
     "execution_count": 167,
     "metadata": {},
     "output_type": "execute_result"
    }
   ],
   "source": [
    "counts"
   ]
  },
  {
   "cell_type": "code",
   "execution_count": 200,
   "metadata": {},
   "outputs": [],
   "source": [
    "ss = calculate_ss_for_mem_two(player * 4, coplayer)"
   ]
  },
  {
   "cell_type": "code",
   "execution_count": 201,
   "metadata": {},
   "outputs": [],
   "source": [
    "ss = ss[0]"
   ]
  },
  {
   "cell_type": "code",
   "execution_count": 202,
   "metadata": {},
   "outputs": [
    {
     "data": {
      "text/plain": [
       "0.6761809851723456"
      ]
     },
     "execution_count": 202,
     "metadata": {},
     "output_type": "execute_result"
    }
   ],
   "source": [
    "ss[0] + ss[4]"
   ]
  },
  {
   "cell_type": "code",
   "execution_count": 203,
   "metadata": {},
   "outputs": [
    {
     "data": {
      "text/plain": [
       "33.80904925861728"
      ]
     },
     "execution_count": 203,
     "metadata": {},
     "output_type": "execute_result"
    }
   ],
   "source": [
    "(ss[0] * 50 + ss[4] * 50)"
   ]
  },
  {
   "cell_type": "code",
   "execution_count": 204,
   "metadata": {},
   "outputs": [],
   "source": [
    "n = 10 ** 3"
   ]
  },
  {
   "cell_type": "code",
   "execution_count": 207,
   "metadata": {},
   "outputs": [
    {
     "data": {
      "text/plain": [
       "0.5089011831526044"
      ]
     },
     "execution_count": 207,
     "metadata": {},
     "output_type": "execute_result"
    }
   ],
   "source": [
    "((coplayer[0] * ss[0] * n) + (coplayer[4] * ss[4] * n)) / (ss[0] * n + ss[4] * n)"
   ]
  },
  {
   "cell_type": "code",
   "execution_count": 208,
   "metadata": {},
   "outputs": [
    {
     "data": {
      "text/plain": [
       "0.6920375580703058"
      ]
     },
     "execution_count": 208,
     "metadata": {},
     "output_type": "execute_result"
    }
   ],
   "source": [
    "((coplayer[1] * ss[1] * n) + (coplayer[5] * ss[5] * n)) / (ss[1] * n + ss[5] * n)"
   ]
  },
  {
   "cell_type": "code",
   "execution_count": null,
   "metadata": {},
   "outputs": [],
   "source": []
  },
  {
   "cell_type": "code",
   "execution_count": 163,
   "metadata": {},
   "outputs": [
    {
     "data": {
      "text/plain": [
       "0.4236547993389047"
      ]
     },
     "execution_count": 163,
     "metadata": {},
     "output_type": "execute_result"
    }
   ],
   "source": [
    "coplayer[4]"
   ]
  },
  {
   "cell_type": "code",
   "execution_count": 158,
   "metadata": {},
   "outputs": [
    {
     "data": {
      "text/plain": [
       "0.32381901482765435"
      ]
     },
     "execution_count": 158,
     "metadata": {},
     "output_type": "execute_result"
    }
   ],
   "source": [
    "ss[1] + ss[5]"
   ]
  },
  {
   "cell_type": "code",
   "execution_count": 146,
   "metadata": {},
   "outputs": [
    {
     "data": {
      "text/plain": [
       "array([0.5488135 , 0.71518937, 0.60276338, 0.54488318, 0.4236548 ,\n",
       "       0.64589411, 0.43758721, 0.891773  , 0.96366276, 0.38344152,\n",
       "       0.79172504, 0.52889492, 0.56804456, 0.92559664, 0.07103606,\n",
       "       0.0871293 ])"
      ]
     },
     "execution_count": 146,
     "metadata": {},
     "output_type": "execute_result"
    }
   ],
   "source": [
    "coplayer"
   ]
  },
  {
   "cell_type": "code",
   "execution_count": 79,
   "metadata": {},
   "outputs": [
    {
     "name": "stderr",
     "output_type": "stream",
     "text": [
      "/Users/glynatsi/opt/anaconda3/envs/axelrod/lib/python3.7/site-packages/ipykernel_launcher.py:4: RuntimeWarning: invalid value encountered in true_divide\n",
      "  after removing the cwd from sys.path.\n"
     ]
    }
   ],
   "source": [
    "num = ss[0] * [coplayer[0],  coplayer[2],  coplayer[1],  coplayer[3],\n",
    "             coplayer[4],  coplayer[6],  coplayer[5],  coplayer[7],\n",
    "             coplayer[8],  coplayer[10], coplayer[9],  coplayer[11],\n",
    "             coplayer[12], coplayer[14], coplayer[13], coplayer[15]] / ss[0]"
   ]
  },
  {
   "cell_type": "code",
   "execution_count": 80,
   "metadata": {},
   "outputs": [
    {
     "data": {
      "text/plain": [
       "0.3252212768822744"
      ]
     },
     "execution_count": 80,
     "metadata": {},
     "output_type": "execute_result"
    }
   ],
   "source": [
    "num[0]"
   ]
  },
  {
   "cell_type": "code",
   "execution_count": 82,
   "metadata": {},
   "outputs": [],
   "source": [
    "ss = ss[0]"
   ]
  },
  {
   "cell_type": "code",
   "execution_count": 84,
   "metadata": {},
   "outputs": [
    {
     "data": {
      "text/plain": [
       "0.5146699777469225"
      ]
     },
     "execution_count": 84,
     "metadata": {},
     "output_type": "execute_result"
    }
   ],
   "source": [
    "(coplayer[0] * ss[0] + coplayer[4] * ss[4]) / (ss[0] + ss[4])"
   ]
  },
  {
   "cell_type": "code",
   "execution_count": 85,
   "metadata": {},
   "outputs": [
    {
     "data": {
      "text/plain": [
       "0.47314945156695765"
      ]
     },
     "execution_count": 85,
     "metadata": {},
     "output_type": "execute_result"
    }
   ],
   "source": [
    "(coplayer[1] * ss[1] + coplayer[5] * ss[5]) / (ss[1] + ss[5])"
   ]
  },
  {
   "cell_type": "code",
   "execution_count": 91,
   "metadata": {},
   "outputs": [
    {
     "data": {
      "text/plain": [
       "541.5069830463519"
      ]
     },
     "execution_count": 91,
     "metadata": {},
     "output_type": "execute_result"
    }
   ],
   "source": [
    "ss[0] * 1000 + ss[4] * 1000"
   ]
  },
  {
   "cell_type": "code",
   "execution_count": 108,
   "metadata": {},
   "outputs": [
    {
     "data": {
      "text/plain": [
       "13.934869345713455"
      ]
     },
     "execution_count": 108,
     "metadata": {},
     "output_type": "execute_result"
    }
   ],
   "source": [
    "coplayer[0] * (50 * ss[0])  + coplayer[4] * (50 * ss[4])"
   ]
  },
  {
   "cell_type": "code",
   "execution_count": 106,
   "metadata": {},
   "outputs": [
    {
     "data": {
      "text/plain": [
       "27.075349152317596"
      ]
     },
     "execution_count": 106,
     "metadata": {},
     "output_type": "execute_result"
    }
   ],
   "source": [
    "(ss[0] + ss[4]) * 50"
   ]
  },
  {
   "cell_type": "code",
   "execution_count": 112,
   "metadata": {},
   "outputs": [
    {
     "data": {
      "text/plain": [
       "29.362229534439944"
      ]
     },
     "execution_count": 112,
     "metadata": {},
     "output_type": "execute_result"
    }
   ],
   "source": [
    "(coplayer[0] + coplayer[4]) * 27"
   ]
  },
  {
   "cell_type": "code",
   "execution_count": 99,
   "metadata": {},
   "outputs": [
    {
     "data": {
      "text/plain": [
       "{(C, C): 20, (C, D): 0, (D, C): 13, (D, D): 0}"
      ]
     },
     "execution_count": 99,
     "metadata": {},
     "output_type": "execute_result"
    }
   ],
   "source": [
    "actions"
   ]
  },
  {
   "cell_type": "code",
   "execution_count": null,
   "metadata": {},
   "outputs": [],
   "source": []
  },
  {
   "cell_type": "code",
   "execution_count": null,
   "metadata": {},
   "outputs": [],
   "source": [
    "(num[0] * ss[0] + num[4] * ss[4]) / (ss[0] + ss[4])"
   ]
  },
  {
   "cell_type": "code",
   "execution_count": 58,
   "metadata": {},
   "outputs": [
    {
     "data": {
      "text/plain": [
       "1.830588931275763"
      ]
     },
     "execution_count": 58,
     "metadata": {},
     "output_type": "execute_result"
    }
   ],
   "source": [
    "(num[1] + num[5]) / s[2]"
   ]
  },
  {
   "cell_type": "code",
   "execution_count": 132,
   "metadata": {},
   "outputs": [],
   "source": [
    "np.random.seed(0)\n",
    "\n",
    "s1 = np.random.random(16)\n",
    "\n",
    "s2 = np.random.random(16)"
   ]
  },
  {
   "cell_type": "code",
   "execution_count": 136,
   "metadata": {},
   "outputs": [],
   "source": [
    "s, counts, actions = simulate_play(s1, s2, turns=10 ** 4)\n",
    "\n",
    "s_estimated, counts2, actions2 = simulate_play_mem_two(s1, s2, turns=10 ** 4)"
   ]
  },
  {
   "cell_type": "code",
   "execution_count": 137,
   "metadata": {},
   "outputs": [
    {
     "data": {
      "text/plain": [
       "[0.37959069245864874,\n",
       " 0.6504144319843979,\n",
       " 0.4962505513895015,\n",
       " 0.8546401515151515]"
      ]
     },
     "execution_count": 137,
     "metadata": {},
     "output_type": "execute_result"
    }
   ],
   "source": [
    "s"
   ]
  },
  {
   "cell_type": "code",
   "execution_count": 138,
   "metadata": {},
   "outputs": [
    {
     "data": {
      "text/plain": [
       "[0.3790229885057471,\n",
       " 0.6463823670340201,\n",
       " 0.48719043552519214,\n",
       " 0.8424329501915708]"
      ]
     },
     "execution_count": 138,
     "metadata": {},
     "output_type": "execute_result"
    }
   ],
   "source": [
    "s_estimated"
   ]
  },
  {
   "cell_type": "code",
   "execution_count": 120,
   "metadata": {},
   "outputs": [],
   "source": [
    "v = np.array([0., 0., 0., 0., 0., 1., 0., 0., 0., 0., 0., 0., 0., 0., 0., 0.])"
   ]
  },
  {
   "cell_type": "code",
   "execution_count": 121,
   "metadata": {},
   "outputs": [
    {
     "data": {
      "text/plain": [
       "(0.3252212768822744,\n",
       " 0.7622687058747606,\n",
       " 0.8818975947005416,\n",
       " 0.1720201544314649)"
      ]
     },
     "execution_count": 121,
     "metadata": {},
     "output_type": "execute_result"
    }
   ],
   "source": [
    "coplayer[0], coplayer[4], coplayer[8], coplayer[12]"
   ]
  },
  {
   "cell_type": "code",
   "execution_count": 122,
   "metadata": {},
   "outputs": [
    {
     "data": {
      "text/plain": [
       "(0.0, 0.0, 0.0, 0.0)"
      ]
     },
     "execution_count": 122,
     "metadata": {},
     "output_type": "execute_result"
    }
   ],
   "source": [
    "v[0], v[4], v[8], v[12]"
   ]
  },
  {
   "cell_type": "code",
   "execution_count": 123,
   "metadata": {},
   "outputs": [
    {
     "data": {
      "text/plain": [
       "array([0.        , 0.        , 0.        , 0.        , 0.        ,\n",
       "       0.89880306, 0.        , 0.        , 0.        , 0.        ,\n",
       "       0.        , 0.        , 0.        , 0.        , 0.        ,\n",
       "       0.        ])"
      ]
     },
     "execution_count": 123,
     "metadata": {},
     "output_type": "execute_result"
    }
   ],
   "source": [
    "v * [coplayer[0],  coplayer[2],  coplayer[1],  coplayer[3],\n",
    "     coplayer[4],  coplayer[6],  coplayer[5],  coplayer[7],\n",
    "     coplayer[8],  coplayer[10], coplayer[9],  coplayer[11],\n",
    "     coplayer[12], coplayer[14], coplayer[13], coplayer[15]]"
   ]
  },
  {
   "cell_type": "code",
   "execution_count": null,
   "metadata": {},
   "outputs": [],
   "source": []
  }
 ],
 "metadata": {
  "kernelspec": {
   "display_name": "axelrod",
   "language": "python",
   "name": "axelrod"
  },
  "language_info": {
   "codemirror_mode": {
    "name": "ipython",
    "version": 3
   },
   "file_extension": ".py",
   "mimetype": "text/x-python",
   "name": "python",
   "nbconvert_exporter": "python",
   "pygments_lexer": "ipython3",
   "version": "3.7.9"
  }
 },
 "nbformat": 4,
 "nbformat_minor": 4
}
