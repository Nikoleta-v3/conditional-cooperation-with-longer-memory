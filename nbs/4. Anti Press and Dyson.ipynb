{
 "cells": [
  {
   "cell_type": "code",
   "execution_count": 1,
   "metadata": {},
   "outputs": [],
   "source": [
    "import itertools\n",
    "\n",
    "import numpy as np\n",
    "\n",
    "import tqdm\n",
    "\n",
    "import math"
   ]
  },
  {
   "cell_type": "code",
   "execution_count": 2,
   "metadata": {},
   "outputs": [],
   "source": [
    "import warnings\n",
    "warnings.filterwarnings('ignore')"
   ]
  },
  {
   "cell_type": "code",
   "execution_count": 3,
   "metadata": {},
   "outputs": [],
   "source": [
    "import os\n",
    "\n",
    "os.chdir('..')"
   ]
  },
  {
   "cell_type": "code",
   "execution_count": 6,
   "metadata": {},
   "outputs": [],
   "source": [
    "import os\n",
    "\n",
    "os.chdir('..')\n",
    "\n",
    "from importlib.machinery import SourceFileLoader\n",
    "\n",
    "eq = SourceFileLoader(\"eq\", \"src/numerical_equilibria_n_bit_vs_n_bit.py\").load_module()\n",
    "\n",
    "from eq import *\n",
    "\n",
    "from importlib.machinery import SourceFileLoader\n",
    "\n",
    "main = SourceFileLoader(\"main\", \"src/main.py\").load_module()\n",
    "\n",
    "from main import *"
   ]
  },
  {
   "cell_type": "code",
   "execution_count": 7,
   "metadata": {},
   "outputs": [],
   "source": [
    "import axelrod as axl\n",
    "\n",
    "from axelrod.action import Action\n",
    "\n",
    "C, D = Action.C, Action.D"
   ]
  },
  {
   "cell_type": "markdown",
   "metadata": {},
   "source": [
    "In this notebook we evaluate the result **Appendix A: Shortest-Memory Player Sets the Rules of the Game** from [Press & Dyson](https://www.pnas.org/doi/abs/10.1073/pnas.1206569109)."
   ]
  },
  {
   "cell_type": "markdown",
   "metadata": {},
   "source": [
    "We will initially check that we can get the **memory-one representation of a memory-two strategy**."
   ]
  },
  {
   "cell_type": "markdown",
   "metadata": {},
   "source": [
    "### Memory-one"
   ]
  },
  {
   "cell_type": "code",
   "execution_count": 8,
   "metadata": {},
   "outputs": [],
   "source": [
    "# code for approach \"simulations\"\n",
    "\n",
    "def simulate_play(p, q, turns=10 * 5, noise=0):\n",
    "    \n",
    "    states_to_actions = {(C, C): 0, \n",
    "                     (C, D): 0, \n",
    "                     (D, C): 0, \n",
    "                     (D, D):0}\n",
    "\n",
    "    states_counts = {(C, C): 0, \n",
    "                     (C, D): 0, \n",
    "                     (D, C): 0, \n",
    "                     (D, D):0}\n",
    "\n",
    "    player = axl.MemoryTwoPlayer([p[0], p[1], p[4], p[5],\n",
    "                                  p[2], p[3], p[6], p[7],\n",
    "                                  p[8], p[9], p[12], p[13], \n",
    "                                  p[10], p[11], p[14], p[15]])\n",
    "\n",
    "    coplayer = axl.MemoryTwoPlayer([q[0], q[1], q[4], q[5],\n",
    "                                    q[2], q[3], q[6], q[7],\n",
    "                                    q[8], q[9], q[12], q[13], \n",
    "                                    q[10], q[11], q[14], q[15]])\n",
    "    \n",
    "    \n",
    "    match = axl.Match(players=[player, coplayer], turns=turns, noise=noise)\n",
    "    \n",
    "    _ = match.play()\n",
    "  \n",
    "    for i, history in enumerate(match.result[2:-1]):\n",
    "\n",
    "        states_counts[history[::-1]] += 1\n",
    "        action = match.result[i + 2 +1][-1]\n",
    "\n",
    "        if action == C:\n",
    "            states_to_actions[history[::-1]] += 1\n",
    "        \n",
    "        \n",
    "    strategy = []\n",
    "    states = [(C, C), (C, D), (D, C), (D, D)]\n",
    "\n",
    "    for state in states:\n",
    "        if states_counts[state] > 0:\n",
    "            strategy.append(states_to_actions[state] / states_counts[state])\n",
    "        else:\n",
    "            strategy.append(0)\n",
    "    \n",
    "    return strategy, states_counts, states_to_actions\n",
    "\n",
    "\n",
    "def simulate_play_mem_two(p, q, turns=10 * 5, noise=0):\n",
    "    \n",
    "    first = [((C, C), (C, C)), ((C, D), (C, C)), ((D, C), (C, C)), ((D, D), (C, C))]\n",
    "\n",
    "    second = [((C, C), (C, D)), ((C, D), (C, D)), ((D, C), (C, D)), ((D, D), (C, D))]\n",
    "\n",
    "    third = [((C, C), (D, C)), ((C, D), (D, C)), ((D, C), (D, C)), ((D, D), (D, C))]\n",
    "\n",
    "    fourth = [((C, C), (D, D)), ((C, D), (D, D)), ((D, C), (D, D)), ((D, D), (D, D))]\n",
    "    \n",
    "    states_to_actions = {((C, C), (C, C)): 0, \n",
    "                         ((C, C), (C, D)): 0, \n",
    "                         ((C, C), (D, C)): 0, \n",
    "                         ((C, C), (D, D)):0,\n",
    "                         ((C, D), (C, C)): 0,\n",
    "                         ((C, D), (C, D)): 0,\n",
    "                         ((C, D), (D, C)): 0,\n",
    "                         ((C, D), (D, D)): 0,\n",
    "                         ((D, C), (C, C)): 0,\n",
    "                         ((D, C), (C, D)): 0,\n",
    "                         ((D, C), (D, C)): 0,\n",
    "                         ((D, C), (D, D)): 0,\n",
    "                         ((D, D), (C, C)): 0,\n",
    "                         ((D, D), (C, D)): 0,\n",
    "                         ((D, D), (D, C)): 0,\n",
    "                         ((D, D), (D, D)): 0}\n",
    "\n",
    "    states_counts = {((C, C), (C, C)): 0, \n",
    "                     ((C, C), (C, D)): 0, \n",
    "                     ((C, C), (D, C)): 0, \n",
    "                     ((C, C), (D, D)): 0,\n",
    "                     ((C, D), (C, C)): 0,\n",
    "                     ((C, D), (C, D)): 0,\n",
    "                     ((C, D), (D, C)): 0,\n",
    "                     ((C, D), (D, D)): 0,\n",
    "                     ((D, C), (C, C)): 0,\n",
    "                     ((D, C), (C, D)): 0,\n",
    "                     ((D, C), (D, C)): 0,\n",
    "                     ((D, C), (D, D)): 0,\n",
    "                     ((D, D), (C, C)): 0,\n",
    "                     ((D, D), (C, D)): 0,\n",
    "                     ((D, D), (D, C)): 0,\n",
    "                     ((D, D), (D, D)): 0}\n",
    "\n",
    "    player = axl.MemoryTwoPlayer([p[0], p[1], p[4], p[5],\n",
    "                                  p[2], p[3], p[6], p[7],\n",
    "                                  p[8], p[9], p[12], p[13], \n",
    "                                  p[10], p[11], p[14], p[15]])\n",
    "\n",
    "    coplayer = axl.MemoryTwoPlayer([q[0], q[1], q[4], q[5],\n",
    "                                    q[2], q[3], q[6], q[7],\n",
    "                                    q[8], q[9], q[12], q[13], \n",
    "                                    q[10], q[11], q[14], q[15]])\n",
    "    \n",
    "    \n",
    "    match = axl.Match(players=[player, coplayer], turns=turns, noise=noise)\n",
    "    \n",
    "    _ = match.play()\n",
    "  \n",
    "    for i, (previous, history) in enumerate(zip(match.result[1:-2], match.result[2:-1])):\n",
    "\n",
    "        states_counts[(previous[::-1], history[::-1])] += 1\n",
    "        action = match.result[i + 2 + 1][-1]\n",
    "\n",
    "        if action == C:\n",
    "            states_to_actions[(previous[::-1], history[::-1])] += 1\n",
    "            \n",
    "    strategy = []\n",
    "    \n",
    "    for state in [first, second, third, fourth]:\n",
    "        if sum([states_counts[i] for i in state]) > 1:\n",
    "            strategy.append(sum([states_to_actions[i] for i in state]) /\n",
    "                            sum([states_counts[i] for i in state]))\n",
    "        else:\n",
    "            strategy.append(0)\n",
    "        \n",
    "    return strategy, states_counts, states_to_actions"
   ]
  },
  {
   "cell_type": "markdown",
   "metadata": {},
   "source": [
    "Using either of the above functions gives the same result."
   ]
  },
  {
   "cell_type": "code",
   "execution_count": 9,
   "metadata": {},
   "outputs": [
    {
     "data": {
      "application/vnd.jupyter.widget-view+json": {
       "model_id": "4153c9887bef40c3b6a4dd1e25ddce1a",
       "version_major": 2,
       "version_minor": 0
      },
      "text/plain": [
       "HBox(children=(FloatProgress(value=0.0, max=20.0), HTML(value='')))"
      ]
     },
     "metadata": {},
     "output_type": "display_data"
    },
    {
     "name": "stdout",
     "output_type": "stream",
     "text": [
      "\n"
     ]
    }
   ],
   "source": [
    "for _ in tqdm.tqdm_notebook(range(20)):\n",
    "    p = np.random.random(16)\n",
    "    q = np.random.random(16)\n",
    "    \n",
    "    expected_mem_one, _, _ = simulate_play(p, q, turns=10 ** 5, noise=0)\n",
    "    \n",
    "    expected_mem_two, _, _ = simulate_play_mem_two(p, q, turns=10 ** 5, noise=0)\n",
    "    \n",
    "    assert np.isclose(expected_mem_one, expected_mem_two, atol=10**-1).all()"
   ]
  },
  {
   "cell_type": "code",
   "execution_count": 22,
   "metadata": {},
   "outputs": [],
   "source": [
    "# code for \"numerical\" approach\n",
    "\n",
    "def invariant_distributions(M):\n",
    "    \"\"\"Returns all the invariant distributions in case of absorbing states.\"\"\"\n",
    "    \n",
    "    stationaries = []\n",
    "    \n",
    "    eigenvalues, eigenvectors = np.linalg.eig(M.T)\n",
    "    \n",
    "    for index in np.where(eigenvalues == np.max(eigenvalues))[0]:\n",
    "        \n",
    "        eigenvectors_one = eigenvectors[:, index]\n",
    "\n",
    "        stationary = eigenvectors_one / eigenvectors_one.sum()\n",
    "\n",
    "        stationaries.append(stationary.real)\n",
    "        \n",
    "    return stationaries\n",
    "\n",
    "\n",
    "def calculate_ss_for_mem_one(player, coplayer):\n",
    "    \"\"\"\n",
    "    Invariant distribution for memory-one.\n",
    "    \"\"\"\n",
    "    M = calculate_M(player, coplayer)\n",
    "    ss = invariant_distribution(M)\n",
    "    \n",
    "    return ss\n",
    "\n",
    "\n",
    "def calculate_ss_for_mem_two(player, coplayer):\n",
    "    \"\"\"\n",
    "    Invariant distribution for memory-two.\n",
    "    \"\"\"\n",
    "    M = calculate_M_memory_two(player, coplayer)\n",
    "    ss = invariant_distribution(M)\n",
    "    \n",
    "    return ss\n",
    "\n",
    "\n",
    "def expected_memory_one_strategy(player, coplayer, index=0):\n",
    "    \"\"\"\n",
    "    Returns the expected memory-one strategy for a memory-two\n",
    "    strategy from the player's prespective.\n",
    "    \n",
    "    This uses the method by Press and Dyson.\n",
    "    \"\"\"\n",
    "    states = ['CC', 'CD', 'DC', 'DD']\n",
    "    \n",
    "    states_in_two_bits = [\"\".join(i[-2:]) for i in list(itertools.product(['C', 'D'], repeat=4))]\n",
    "\n",
    "    ss = calculate_ss_for_mem_two(player, coplayer)\n",
    "    \n",
    "    ss = ss[index]\n",
    "    \n",
    "    coplayer = [coplayer[0],  coplayer[2],  coplayer[1],  coplayer[3],\n",
    "                 coplayer[4],  coplayer[6],  coplayer[5],  coplayer[7],\n",
    "                 coplayer[8],  coplayer[10], coplayer[9],  coplayer[11],\n",
    "                 coplayer[12], coplayer[14], coplayer[13], coplayer[15]]\n",
    "    \n",
    "#     print(num)\n",
    "    \n",
    "    strategy = [(sum([coplayer[i] * ss[i] for i in range(16) if states_in_two_bits[i] == state]) \n",
    "                 / sum([ss[i] for i in range(16) if states_in_two_bits[i] == state]))\n",
    "                for state in states]\n",
    "\n",
    "    return [np.nan_to_num(strategy[i]) for i in [0, 2, 1, -1]]   \n",
    "\n",
    "\n",
    "def expected_memory_one_strategy_ch(player, coplayer, index=0):\n",
    "    \"\"\"\n",
    "    Returns the expected memory-one strategy for a memory-two\n",
    "    strategy from the player's prespective.\n",
    "    \n",
    "    This uses the method by Press and Dyson.\n",
    "    \"\"\"\n",
    "    states = ['CC', 'CD', 'DC', 'DD']\n",
    "    \n",
    "    states_in_two_bits = [\"\".join(i[-2:]) for i in list(itertools.product(['C', 'D'], repeat=4))]\n",
    "\n",
    "    ss = calculate_ss_for_mem_two(player, coplayer)\n",
    "    \n",
    "#     ss = ss[index]\n",
    "    \n",
    "    coplayer = [coplayer[0],  coplayer[2],  coplayer[1],  coplayer[3],\n",
    "                 coplayer[8],  coplayer[10], coplayer[9],  coplayer[11],\n",
    "                 coplayer[4],  coplayer[6],  coplayer[5],  coplayer[7],\n",
    "                 coplayer[12], coplayer[14], coplayer[13], coplayer[15]]\n",
    "    \n",
    "#     print(num)\n",
    "    \n",
    "    strategy = [(sum([coplayer[i] * ss[i] for i in range(16) if states_in_two_bits[i] == state]) \n",
    "                 / sum([ss[i] for i in range(16) if states_in_two_bits[i] == state]))\n",
    "                for state in states]\n",
    "\n",
    "    return [np.nan_to_num(strategy[i]) for i in [0, 2, 1, -1]]   "
   ]
  },
  {
   "cell_type": "code",
   "execution_count": 3,
   "metadata": {},
   "outputs": [],
   "source": [
    "# the two sets of strategies\n",
    "\n",
    "import itertools\n",
    "\n",
    "set_of_memory_one_s = list(itertools.product([0, 1], repeat=4))\n",
    "\n",
    "set_of_memory_two_s = list(itertools.product([0, 1], repeat=16))"
   ]
  },
  {
   "cell_type": "code",
   "execution_count": 4,
   "metadata": {},
   "outputs": [
    {
     "data": {
      "text/plain": [
       "[(0, 0, 0, 0),\n",
       " (0, 0, 0, 1),\n",
       " (0, 0, 1, 0),\n",
       " (0, 0, 1, 1),\n",
       " (0, 1, 0, 0),\n",
       " (0, 1, 0, 1),\n",
       " (0, 1, 1, 0),\n",
       " (0, 1, 1, 1),\n",
       " (1, 0, 0, 0),\n",
       " (1, 0, 0, 1),\n",
       " (1, 0, 1, 0),\n",
       " (1, 0, 1, 1),\n",
       " (1, 1, 0, 0),\n",
       " (1, 1, 0, 1),\n",
       " (1, 1, 1, 0),\n",
       " (1, 1, 1, 1)]"
      ]
     },
     "execution_count": 4,
     "metadata": {},
     "output_type": "execute_result"
    }
   ],
   "source": [
    "set_of_memory_one_s "
   ]
  },
  {
   "cell_type": "markdown",
   "metadata": {},
   "source": [
    "**Sanity check:** A memory-one strategy written as a memory two strategy is still the same."
   ]
  },
  {
   "cell_type": "code",
   "execution_count": 24,
   "metadata": {},
   "outputs": [],
   "source": [
    "b, c = 2, 1\n",
    "\n",
    "np.random.seed(1)\n",
    "\n",
    "for _ in range(1000):\n",
    "    \n",
    "    p1, p2, p3, p4 = np.random.random(4)\n",
    "    \n",
    "    q1, q2, q3, q4 = np.random.random(4)\n",
    "    \n",
    "    ss_one = calculate_ss_for_mem_one([p1, p2, p3, p4], [q1, q2, q3, q4])\n",
    "    \n",
    "    ss_two = calculate_ss_for_mem_two([p1, p2, p3, p4] * 4,\n",
    "                                      [q1, q2, q3, q4] * 4)\n",
    "    \n",
    "    assert np.isclose(\n",
    "        ss_one @ np.array([b - c, -c, b, 0]), ss_two @ np.array([b - c, -c, b, 0] * 4) \n",
    "    )"
   ]
  },
  {
   "cell_type": "markdown",
   "metadata": {},
   "source": [
    "Now we can loop over all the possible memory-one strategies, expressed as memory-two strategies, and compare the results. Thus, verify Press and Dyson."
   ]
  },
  {
   "cell_type": "markdown",
   "metadata": {},
   "source": [
    "The initial check with just ALLC as the player."
   ]
  },
  {
   "cell_type": "code",
   "execution_count": 13,
   "metadata": {},
   "outputs": [],
   "source": [
    "# simulations\n",
    "\n",
    "b, c, player = 2, 1, [1, 1, 1, 1]\n",
    "\n",
    "for i, coplayer in enumerate(set_of_memory_one_s):\n",
    "\n",
    "    mem_one_representation, _, _ = simulate_play_mem_two(player * 4, coplayer * 4, turns=1000)\n",
    "\n",
    "    ss = calculate_ss_for_mem_one(player, coplayer)\n",
    "\n",
    "    ss_estimated = calculate_ss_for_mem_one(player, mem_one_representation)\n",
    "    \n",
    "    check = False\n",
    "    \n",
    "    for ss1 in ss_estimated:\n",
    "        for ss2 in ss:\n",
    "            if (np.isclose(ss1, ss2, atol=10**-3).all()):\n",
    "                check = True\n",
    "\n",
    "    assert check, f\"{ss} and {ss_estimated}. player: {player} coplayer:{coplayer}\""
   ]
  },
  {
   "cell_type": "code",
   "execution_count": 14,
   "metadata": {},
   "outputs": [],
   "source": [
    "# numerical\n",
    "\n",
    "b, c, player = 2, 1, [1, 1, 1, 1]\n",
    "\n",
    "for i, coplayer in enumerate(set_of_memory_one_s):\n",
    "\n",
    "    mem_one_representation = expected_memory_one_strategy(player * 4, coplayer * 4)\n",
    "\n",
    "    ss_estimated = calculate_ss_for_mem_one(player, mem_one_representation)\n",
    "\n",
    "    ss = calculate_ss_for_mem_one(player, coplayer)\n",
    "\n",
    "    assert (np.isclose(ss[0],\n",
    "                       ss_estimated[0], atol=10**-3).all()), f\"{ss} and {ss_estimated}. player: {player} coplayer:{coplayer}\""
   ]
  },
  {
   "cell_type": "markdown",
   "metadata": {},
   "source": [
    "All strategies."
   ]
  },
  {
   "cell_type": "code",
   "execution_count": 15,
   "metadata": {},
   "outputs": [
    {
     "data": {
      "application/vnd.jupyter.widget-view+json": {
       "model_id": "96e0e5ddab33420f82e5025320e1538e",
       "version_major": 2,
       "version_minor": 0
      },
      "text/plain": [
       "HBox(children=(FloatProgress(value=0.0, max=16.0), HTML(value='')))"
      ]
     },
     "metadata": {},
     "output_type": "display_data"
    },
    {
     "name": "stdout",
     "output_type": "stream",
     "text": [
      "player: (0, 1, 0, 1) coplayer:(0, 1, 1, 0)\n",
      "player: (0, 1, 0, 1) coplayer:(1, 0, 1, 1)\n",
      "player: (0, 1, 1, 0) coplayer:(0, 1, 1, 1)\n",
      "player: (0, 1, 1, 0) coplayer:(1, 0, 1, 1)\n",
      "player: (1, 0, 0, 1) coplayer:(0, 1, 0, 1)\n",
      "player: (1, 0, 1, 0) coplayer:(0, 1, 1, 1)\n",
      "\n"
     ]
    }
   ],
   "source": [
    "b, c = 2, 1\n",
    "\n",
    "for player in tqdm.tqdm_notebook(set_of_memory_one_s):\n",
    "\n",
    "    for i, coplayer in enumerate(set_of_memory_one_s):\n",
    "\n",
    "        mem_one_representation, a, b = simulate_play(player * 4, coplayer * 4, turns=1000, noise=0.0)\n",
    "\n",
    "        ss_estimated = calculate_ss_for_mem_one(player, coplayer)\n",
    "\n",
    "        ss = calculate_ss_for_mem_one(player, mem_one_representation)\n",
    "\n",
    "        check = False\n",
    "\n",
    "        for ss1 in ss_estimated:\n",
    "            for ss2 in ss:\n",
    "                if (np.isclose(ss1, ss2, atol=10**-3).all()):\n",
    "                    check = True\n",
    "                    \n",
    "        # there are going to be some failures and I am just printing them. \n",
    "        if check == False:\n",
    "            print(f\"player: {player} coplayer:{coplayer}\")"
   ]
  },
  {
   "cell_type": "code",
   "execution_count": 25,
   "metadata": {},
   "outputs": [
    {
     "data": {
      "application/vnd.jupyter.widget-view+json": {
       "model_id": "574ceb6d9dc14175ab3c2af0bd3dd65a",
       "version_major": 2,
       "version_minor": 0
      },
      "text/plain": [
       "HBox(children=(FloatProgress(value=0.0, max=16.0), HTML(value='')))"
      ]
     },
     "metadata": {},
     "output_type": "display_data"
    },
    {
     "name": "stdout",
     "output_type": "stream",
     "text": [
      "\n"
     ]
    }
   ],
   "source": [
    "b, c = 2, 1\n",
    "\n",
    "for player in tqdm.tqdm_notebook(set_of_memory_one_s):\n",
    "\n",
    "    for i, coplayer in enumerate(set_of_memory_one_s):\n",
    "\n",
    "        mem_one_representation = expected_memory_one_strategy_ch(player * 4, coplayer * 4, index=0)\n",
    "\n",
    "        ss_estimated = calculate_ss_for_mem_one(player, mem_one_representation)\n",
    "\n",
    "        ss = calculate_ss_for_mem_one(player, coplayer)\n",
    "\n",
    "\n",
    "        check = False\n",
    "\n",
    "        for ss1 in ss_estimated:\n",
    "            for ss2 in ss:\n",
    "                if (np.isclose(ss1, ss2, atol=10**-3).all()):\n",
    "                    check = True\n",
    "\n",
    "        # there are going to be some failures and I am just printing them. \n",
    "        if check == False:\n",
    "            print(f\"player: {player} coplayer:{coplayer}\")"
   ]
  },
  {
   "cell_type": "markdown",
   "metadata": {},
   "source": [
    "The pairs in discussion:\n",
    "\n",
    "1. player: (0, 1, 0, 1) coplayer:(0, 1, 1, 0). simulations fail here because one state (CD) is very visited.\n",
    "2. (+) player: (0, 1, 0, 1) coplayer:(1, 0, 1, 1). cycling behavior\n",
    "3. (+) player: (0, 1, 1, 0) coplayer:(0, 1, 1, 1). cycling behavior\n",
    "4. (+) player: (0, 1, 1, 0) coplayer:(1, 0, 1, 1). cycling behavior\n",
    "5. player: (1, 0, 0, 1) coplayer:(0, 1, 0, 1). simulations fail here because one state (CD) is very visited.\n",
    "6. (+) player: (1, 0, 1, 0) coplayer:(0, 1, 1, 1). cycling behavior\n",
    "    "
   ]
  },
  {
   "cell_type": "code",
   "execution_count": 26,
   "metadata": {},
   "outputs": [],
   "source": [
    "pairs = [[(0, 1, 0, 1), (0, 1, 1, 0)],\n",
    "    [(0, 1, 0, 1), (1, 0, 1, 1)],\n",
    "    [(0, 1, 1, 0), (0, 1, 1, 1)],\n",
    "    [(0, 1, 1, 0), (1, 0, 1, 1)],\n",
    "    [(1, 0, 0, 1), (0, 1, 0, 1)],\n",
    "    [(1, 0, 1, 0), (0, 1, 1, 1)]]"
   ]
  },
  {
   "cell_type": "code",
   "execution_count": 27,
   "metadata": {},
   "outputs": [],
   "source": [
    "player = pairs[1][0]\n",
    "\n",
    "coplayer = pairs[1][1]"
   ]
  },
  {
   "cell_type": "code",
   "execution_count": 28,
   "metadata": {},
   "outputs": [
    {
     "data": {
      "text/plain": [
       "[1.0, 0.0, 0.0, 1.0]"
      ]
     },
     "execution_count": 28,
     "metadata": {},
     "output_type": "execute_result"
    }
   ],
   "source": [
    "mem_one_representation = expected_memory_one_strategy(player * 4, coplayer * 4)\n",
    "\n",
    "mem_one_representation"
   ]
  },
  {
   "cell_type": "code",
   "execution_count": 29,
   "metadata": {},
   "outputs": [
    {
     "data": {
      "text/plain": [
       "[array([0., 1., 0., 0.])]"
      ]
     },
     "execution_count": 29,
     "metadata": {},
     "output_type": "execute_result"
    }
   ],
   "source": [
    "calculate_ss_for_mem_one(player, mem_one_representation)"
   ]
  },
  {
   "cell_type": "code",
   "execution_count": 30,
   "metadata": {},
   "outputs": [
    {
     "data": {
      "text/plain": [
       "[1.0, 0.0, 0, 1.0]"
      ]
     },
     "execution_count": 30,
     "metadata": {},
     "output_type": "execute_result"
    }
   ],
   "source": [
    "mem_one_sim_representation, a, b = simulate_play(player * 4, coplayer * 4, turns=2000, noise=0.0)\n",
    "\n",
    "mem_one_sim_representation"
   ]
  },
  {
   "cell_type": "code",
   "execution_count": 31,
   "metadata": {},
   "outputs": [
    {
     "data": {
      "text/plain": [
       "[array([0., 1., 0., 0.])]"
      ]
     },
     "execution_count": 31,
     "metadata": {},
     "output_type": "execute_result"
    }
   ],
   "source": [
    "calculate_ss_for_mem_one(player, mem_one_sim_representation)"
   ]
  },
  {
   "cell_type": "code",
   "execution_count": 32,
   "metadata": {},
   "outputs": [
    {
     "data": {
      "text/plain": [
       "{(C, C): 665, (C, D): 666, (D, C): 0, (D, D): 666}"
      ]
     },
     "execution_count": 32,
     "metadata": {},
     "output_type": "execute_result"
    }
   ],
   "source": [
    "a"
   ]
  },
  {
   "cell_type": "code",
   "execution_count": 33,
   "metadata": {},
   "outputs": [
    {
     "data": {
      "text/plain": [
       "{(C, C): 665, (C, D): 0, (D, C): 0, (D, D): 666}"
      ]
     },
     "execution_count": 33,
     "metadata": {},
     "output_type": "execute_result"
    }
   ],
   "source": [
    "b"
   ]
  },
  {
   "cell_type": "code",
   "execution_count": 40,
   "metadata": {},
   "outputs": [
    {
     "data": {
      "text/plain": [
       "0.015625"
      ]
     },
     "execution_count": 40,
     "metadata": {},
     "output_type": "execute_result"
    }
   ],
   "source": [
    "4 / (16 ** 2)"
   ]
  },
  {
   "cell_type": "markdown",
   "metadata": {},
   "source": [
    "The numerical approach can verify most cases expect 4. Thus, from 256 checks only 4 can not be verified (1.5%).\n",
    "\n",
    "However so far we have only focused on memory-two strategies that are memory-one strategies in essence. "
   ]
  },
  {
   "cell_type": "code",
   "execution_count": 283,
   "metadata": {},
   "outputs": [
    {
     "data": {
      "application/vnd.jupyter.widget-view+json": {
       "model_id": "f612ee4a02b74535b6064940a3871c56",
       "version_major": 2,
       "version_minor": 0
      },
      "text/plain": [
       "HBox(children=(FloatProgress(value=0.0, max=65536.0), HTML(value='')))"
      ]
     },
     "metadata": {},
     "output_type": "display_data"
    },
    {
     "name": "stdout",
     "output_type": "stream",
     "text": [
      "\n"
     ]
    }
   ],
   "source": [
    "# numerical\n",
    "\n",
    "b, c = 2, 1\n",
    "\n",
    "states = ['CC', 'CD', 'DC', 'DD']\n",
    "\n",
    "states_in_two_bits = [\"\".join(i[-2:]) for i in list(itertools.product(['C', 'D'], repeat=4))]\n",
    "\n",
    "np.random.seed(0)\n",
    "\n",
    "count = 0\n",
    "\n",
    "for player in set_of_memory_one_s[:1]:\n",
    "\n",
    "    for coplayer in tqdm.tqdm_notebook(set_of_memory_two_s):\n",
    "\n",
    "        mem_one_representation = expected_memory_one_strategy(player * 4, coplayer)\n",
    "\n",
    "        ss_estimated = calculate_ss_for_mem_one(player, mem_one_representation)\n",
    "\n",
    "        ss = calculate_ss_for_mem_two(player * 4, coplayer)\n",
    "        \n",
    "\n",
    "        ss = [[sum([s[i] for i in range(16) if states_in_two_bits[i] == state])\n",
    "                for state in states] for s in ss]\n",
    "        \n",
    "        check = False\n",
    "\n",
    "        for ss1 in ss_estimated:\n",
    "            for ss2 in ss:\n",
    "                if (np.isclose(ss1, ss2, atol=10**-2).all()):\n",
    "                    check = True\n",
    "\n",
    "#         there are going to be some failures and I am just counting them. \n",
    "        if check == False:\n",
    "            count += 1"
   ]
  },
  {
   "cell_type": "code",
   "execution_count": 285,
   "metadata": {},
   "outputs": [
    {
     "data": {
      "text/plain": [
       "0.28125"
      ]
     },
     "execution_count": 285,
     "metadata": {},
     "output_type": "execute_result"
    }
   ],
   "source": [
    "count / (len(set_of_memory_two_s)) #* (len(set_of_memory_one_s)))"
   ]
  },
  {
   "cell_type": "code",
   "execution_count": null,
   "metadata": {},
   "outputs": [],
   "source": [
    "# simulations\n",
    "\n",
    "b, c = 2, 1\n",
    "\n",
    "states = ['CC', 'CD', 'DC', 'DD']\n",
    "\n",
    "states_in_two_bits = [\"\".join(i[-2:]) for i in list(itertools.product(['C', 'D'], repeat=4))]\n",
    "\n",
    "np.random.seed(0)\n",
    "\n",
    "count = 0\n",
    "\n",
    "for player in tqdm.tqdm_notebook(set_of_memory_one_s):\n",
    "\n",
    "    for coplayer in set_of_memory_two_s:\n",
    "\n",
    "        mem_one_representation = expected_memory_one_strategy(player * 4, coplayer)\n",
    "\n",
    "        ss_estimated = calculate_ss_for_mem_one(player, mem_one_representation)\n",
    "\n",
    "        ss = calculate_ss_for_mem_two(player * 4, coplayer)\n",
    "        \n",
    "\n",
    "        ss = [[sum([s[i] for i in range(16) if states_in_two_bits[i] == state])\n",
    "                for state in states] for s in ss]\n",
    "        \n",
    "        check = False\n",
    "\n",
    "        for ss1 in ss_estimated:\n",
    "            for ss2 in ss:\n",
    "                if (np.isclose(ss1, ss2, atol=10**-2).all()):\n",
    "                    check = True\n",
    "\n",
    "#         there are going to be some failures and I am just counting them. \n",
    "        if check == False:\n",
    "            count += 1"
   ]
  },
  {
   "cell_type": "markdown",
   "metadata": {},
   "source": [
    "### Reactive strategies"
   ]
  },
  {
   "cell_type": "code",
   "execution_count": 191,
   "metadata": {},
   "outputs": [],
   "source": [
    "set_of_reactive_s = [(0, 0, 0, 0), (1, 0, 1, 0), (0, 1, 0, 1), (1, 1, 1, 1)]"
   ]
  },
  {
   "cell_type": "code",
   "execution_count": 235,
   "metadata": {},
   "outputs": [],
   "source": [
    "def simulate_play_reactive(p, q, turns=10 * 5, noise=0):\n",
    "    \n",
    "    states_to_actions = {(C, C): 0, \n",
    "                     (C, D): 0, \n",
    "                     (D, C): 0, \n",
    "                     (D, D):0}\n",
    "\n",
    "    states_counts = {(C, C): 0, \n",
    "                     (C, D): 0, \n",
    "                     (D, C): 0, \n",
    "                     (D, D):0}\n",
    "\n",
    "    player = axl.MemoryTwoPlayer([p[0], p[1], p[4], p[5],\n",
    "                                  p[2], p[3], p[6], p[7],\n",
    "                                  p[8], p[9], p[12], p[13], \n",
    "                                  p[10], p[11], p[14], p[15]])\n",
    "\n",
    "    coplayer = axl.MemoryTwoPlayer([q[0], q[1], q[4], q[5],\n",
    "                                    q[2], q[3], q[6], q[7],\n",
    "                                    q[8], q[9], q[12], q[13], \n",
    "                                    q[10], q[11], q[14], q[15]])\n",
    "    \n",
    "    \n",
    "    match = axl.Match(players=[player, coplayer], turns=turns, noise=noise)\n",
    "    \n",
    "    _ = match.play()\n",
    "  \n",
    "    for i, history in enumerate(match.result[2:-1]):\n",
    "\n",
    "        states_counts[history[::-1]] += 1\n",
    "        action = match.result[i + 2 +1][-1]\n",
    "\n",
    "        if action == C:\n",
    "            states_to_actions[history[::-1]] += 1\n",
    "        \n",
    "        \n",
    "    strategy = []\n",
    "    states = [(C, C), (C, D), (D, C), (D, D)]\n",
    "    \n",
    "    denominator_p1 = (states_counts[(C, C)] + states_counts[(C, D)])\n",
    "    denominator_p2 = (states_counts[(D, C)] + states_counts[(D, D)])\n",
    "\n",
    "    if denominator_p1 > 0:\n",
    "        p_1 = ((states_to_actions[(C, C)] +  states_to_actions[(C, D)]) \n",
    "               / denominator_p1)\n",
    "    else:\n",
    "        p_1 = 0\n",
    "        \n",
    "    if denominator_p2 > 0:\n",
    "        p_2 = ((states_to_actions[(D, C)] +  states_to_actions[(D, D)]) \n",
    "               / denominator_p2)\n",
    "    else:\n",
    "        p_2 = 0\n",
    "    \n",
    "    strategy = [p_1, p_2, p_1, p_2]\n",
    "    \n",
    "    return strategy, states_counts, states_to_actions\n",
    "\n",
    "\n",
    "\n",
    "def simulate_play_reactive_two(p, q, turns=10 * 5, noise=0):\n",
    "    \n",
    "    first = [((C, C), (C, C)), ((C, D), (C, C)), ((D, C), (C, C)), ((D, D), (C, C)),\n",
    "             ((C, C), (C, D)), ((C, D), (C, D)), ((D, C), (C, D)), ((D, D), (C, D))]\n",
    "             \n",
    "             \n",
    "    second = [((C, C), (D, C)), ((D, C), (D, C)), ((D, C), (D, C)), ((D, D), (D, C)),\n",
    "              ((C, C), (D, D)), ((C, D), (D, D)), ((D, C), (D, D)), ((D, D), (D, D))]\n",
    "\n",
    "    \n",
    "    states_to_actions = {((C, C), (C, C)): 0, \n",
    "                         ((C, C), (C, D)): 0, \n",
    "                         ((C, C), (D, C)): 0, \n",
    "                         ((C, C), (D, D)):0,\n",
    "                         ((C, D), (C, C)): 0,\n",
    "                         ((C, D), (C, D)): 0,\n",
    "                         ((C, D), (D, C)): 0,\n",
    "                         ((C, D), (D, D)): 0,\n",
    "                         ((D, C), (C, C)): 0,\n",
    "                         ((D, C), (C, D)): 0,\n",
    "                         ((D, C), (D, C)): 0,\n",
    "                         ((D, C), (D, D)): 0,\n",
    "                         ((D, D), (C, C)): 0,\n",
    "                         ((D, D), (C, D)): 0,\n",
    "                         ((D, D), (D, C)): 0,\n",
    "                         ((D, D), (D, D)): 0}\n",
    "\n",
    "    states_counts = {((C, C), (C, C)): 0, \n",
    "                     ((C, C), (C, D)): 0, \n",
    "                     ((C, C), (D, C)): 0, \n",
    "                     ((C, C), (D, D)): 0,\n",
    "                     ((C, D), (C, C)): 0,\n",
    "                     ((C, D), (C, D)): 0,\n",
    "                     ((C, D), (D, C)): 0,\n",
    "                     ((C, D), (D, D)): 0,\n",
    "                     ((D, C), (C, C)): 0,\n",
    "                     ((D, C), (C, D)): 0,\n",
    "                     ((D, C), (D, C)): 0,\n",
    "                     ((D, C), (D, D)): 0,\n",
    "                     ((D, D), (C, C)): 0,\n",
    "                     ((D, D), (C, D)): 0,\n",
    "                     ((D, D), (D, C)): 0,\n",
    "                     ((D, D), (D, D)): 0}\n",
    "\n",
    "    player = axl.MemoryTwoPlayer([p[0], p[1], p[4], p[5],\n",
    "                                  p[2], p[3], p[6], p[7],\n",
    "                                  p[8], p[9], p[12], p[13], \n",
    "                                  p[10], p[11], p[14], p[15]])\n",
    "\n",
    "    coplayer = axl.MemoryTwoPlayer([q[0], q[1], q[4], q[5],\n",
    "                                    q[2], q[3], q[6], q[7],\n",
    "                                    q[8], q[9], q[12], q[13], \n",
    "                                    q[10], q[11], q[14], q[15]])\n",
    "    \n",
    "    \n",
    "    match = axl.Match(players=[player, coplayer], turns=turns, noise=noise)\n",
    "    \n",
    "    _ = match.play()\n",
    "  \n",
    "    for i, (previous, history) in enumerate(zip(match.result[1:-2], match.result[2:-1])):\n",
    "\n",
    "        states_counts[(previous[::-1], history[::-1])] += 1\n",
    "        action = match.result[i + 2 + 1][-1]\n",
    "\n",
    "        if action == C:\n",
    "            states_to_actions[(previous[::-1], history[::-1])] += 1\n",
    "            \n",
    "    strategy = []\n",
    "    \n",
    "    for state in [first, second]:\n",
    "        if sum([states_counts[i] for i in state]) > 1:\n",
    "            strategy.append(sum([states_to_actions[i] for i in state]) /\n",
    "                            sum([states_counts[i] for i in state]))\n",
    "        else:\n",
    "            strategy.append(0)\n",
    "        \n",
    "    return strategy * 2, states_counts, states_to_actions"
   ]
  },
  {
   "cell_type": "code",
   "execution_count": 237,
   "metadata": {},
   "outputs": [
    {
     "data": {
      "application/vnd.jupyter.widget-view+json": {
       "model_id": "5f236ca58f20483bbab38345c3ab9046",
       "version_major": 2,
       "version_minor": 0
      },
      "text/plain": [
       "HBox(children=(FloatProgress(value=0.0, max=20.0), HTML(value='')))"
      ]
     },
     "metadata": {},
     "output_type": "display_data"
    },
    {
     "name": "stdout",
     "output_type": "stream",
     "text": [
      "\n"
     ]
    }
   ],
   "source": [
    "for _ in tqdm.tqdm_notebook(range(20)):\n",
    "    \n",
    "    p = np.random.random(16)\n",
    "    q = np.random.random(16)\n",
    "    \n",
    "    expected_reactive_one, _, _ = simulate_play_reactive(p, q, turns=10 ** 5, noise=0)\n",
    "    \n",
    "    expected_reactive_two, _, _ = simulate_play_reactive_two(p, q, turns=10 ** 5, noise=0)\n",
    "    \n",
    "    assert np.isclose(expected_reactive_one, expected_reactive_two, atol=10**-1).all()"
   ]
  },
  {
   "cell_type": "code",
   "execution_count": 286,
   "metadata": {},
   "outputs": [],
   "source": [
    "def expected_one_bit_reactive_strategy(player, coplayer, index=0):\n",
    "    \"\"\"\n",
    "    Returns the expected memory-one strategy for a memory-two\n",
    "    strategy from the player's prespective.\n",
    "    \n",
    "    This uses the method by Press and Dyson.\n",
    "    \"\"\"\n",
    "    states = ['C', 'D']\n",
    "\n",
    "    states_in_reactive = [\"\".join(i[-1:]) for i in list(itertools.product(['C', 'D'], repeat=2))]\n",
    "\n",
    "    ss = calculate_ss_for_mem_one(player, coplayer)\n",
    "    \n",
    "    ss = ss[index]\n",
    "    \n",
    "    coplayer = [coplayer[0],  coplayer[2],  coplayer[1],  coplayer[3]]\n",
    "    \n",
    "    strategy = [(sum([coplayer[i] * ss[i] for i in range(4) if states_in_reactive[i] == state]) \n",
    "                 / sum([ss[i] for i in range(4) if states_in_reactive[i] == state]))\n",
    "                for state in states]\n",
    "\n",
    "    return [np.nan_to_num(strategy[i]) for i in [0, 1, 0, 1]]\n",
    "\n",
    "\n",
    "def expected_one_bit_reactive_strategy_vs_memory_two(player, coplayer, index=0):\n",
    "    \"\"\"\n",
    "    Returns the expected memory-one strategy for a memory-two\n",
    "    strategy from the player's prespective.\n",
    "    \n",
    "    This uses the method by Press and Dyson.\n",
    "    \"\"\"\n",
    "    states = ['C', 'D']\n",
    "    \n",
    "    states_in_two_bits = [\"\".join(i[-1:]) for i in list(itertools.product(['C', 'D'], repeat=4))]\n",
    "\n",
    "    ss = calculate_ss_for_mem_two(player, coplayer)\n",
    "    \n",
    "    ss = ss[index]\n",
    "    \n",
    "    coplayer = [coplayer[0],  coplayer[2],  coplayer[1],  coplayer[3],\n",
    "                 coplayer[8],  coplayer[10], coplayer[9],  coplayer[11],\n",
    "                 coplayer[4],  coplayer[6],  coplayer[5],  coplayer[7],\n",
    "                 coplayer[12], coplayer[14], coplayer[13], coplayer[15]]\n",
    "    \n",
    "    strategy = [(sum([coplayer[i] * ss[i] for i in range(16) if states_in_two_bits[i] == state]) \n",
    "                 / sum([ss[i] for i in range(16) if states_in_two_bits[i] == state]))\n",
    "                for state in states]\n",
    "\n",
    "    return [np.nan_to_num(strategy[i]) for i in [0, 1, 0, 1]]\n",
    "\n",
    "\n",
    "\n",
    "def expected_two_bit_reactive_strategy(player, coplayer, index=0):\n",
    "    \"\"\"\n",
    "    Returns the expected memory-one strategy for a memory-two\n",
    "    strategy from the player's prespective.\n",
    "    \n",
    "    This uses the method by Press and Dyson.\n",
    "    \"\"\"\n",
    "    states = ['CC', 'CD', 'DC', 'DD']\n",
    "    \n",
    "    states_in_two_bits = [\"\".join([i[1], i[-1]]) for i in list(itertools.product(['C', 'D'], repeat=4))]\n",
    "\n",
    "    ss = calculate_ss_for_mem_two(player, coplayer)\n",
    "    \n",
    "    ss = ss[index]\n",
    "    \n",
    "    coplayer = [coplayer[0],  coplayer[2],  coplayer[1],  coplayer[3],\n",
    "                 coplayer[4],  coplayer[6],  coplayer[5],  coplayer[7],\n",
    "                 coplayer[8],  coplayer[10], coplayer[9],  coplayer[11],\n",
    "                 coplayer[12], coplayer[14], coplayer[13], coplayer[15]]\n",
    "    \n",
    "    strategy = [(sum([coplayer[i] * ss[i] for i in range(16) if states_in_two_bits[i] == state]) \n",
    "                 / sum([ss[i] for i in range(16) if states_in_two_bits[i] == state]))\n",
    "                for state in states]\n",
    "\n",
    "    return np.nan_to_num(strategy)"
   ]
  },
  {
   "cell_type": "code",
   "execution_count": 287,
   "metadata": {},
   "outputs": [
    {
     "data": {
      "application/vnd.jupyter.widget-view+json": {
       "model_id": "f7ff702b974e459c821303d291cbebe4",
       "version_major": 2,
       "version_minor": 0
      },
      "text/plain": [
       "HBox(children=(FloatProgress(value=0.0, max=4.0), HTML(value='')))"
      ]
     },
     "metadata": {},
     "output_type": "display_data"
    },
    {
     "name": "stdout",
     "output_type": "stream",
     "text": [
      "player: (0, 0, 0, 0) coplayer:(0, 0, 0, 1)\n",
      "player: (0, 0, 0, 0) coplayer:(0, 0, 1, 1)\n",
      "player: (0, 0, 0, 0) coplayer:(0, 1, 0, 1)\n",
      "player: (0, 0, 0, 0) coplayer:(0, 1, 1, 1)\n",
      "player: (0, 0, 0, 0) coplayer:(1, 0, 0, 1)\n",
      "player: (0, 0, 0, 0) coplayer:(1, 0, 1, 1)\n",
      "player: (0, 0, 0, 0) coplayer:(1, 1, 0, 1)\n",
      "player: (0, 0, 0, 0) coplayer:(1, 1, 1, 1)\n",
      "player: (1, 0, 1, 0) coplayer:(0, 0, 0, 1)\n",
      "player: (1, 0, 1, 0) coplayer:(0, 0, 1, 0)\n",
      "player: (1, 0, 1, 0) coplayer:(0, 0, 1, 1)\n",
      "player: (1, 0, 1, 0) coplayer:(0, 1, 1, 1)\n",
      "player: (1, 0, 1, 0) coplayer:(1, 0, 1, 0)\n",
      "player: (1, 0, 1, 0) coplayer:(1, 0, 1, 1)\n",
      "player: (0, 1, 0, 1) coplayer:(0, 0, 1, 0)\n",
      "player: (0, 1, 0, 1) coplayer:(0, 1, 1, 0)\n",
      "player: (0, 1, 0, 1) coplayer:(1, 0, 1, 1)\n",
      "player: (0, 1, 0, 1) coplayer:(1, 1, 0, 0)\n",
      "player: (0, 1, 0, 1) coplayer:(1, 1, 0, 1)\n",
      "player: (0, 1, 0, 1) coplayer:(1, 1, 1, 0)\n",
      "player: (0, 1, 0, 1) coplayer:(1, 1, 1, 1)\n",
      "player: (1, 1, 1, 1) coplayer:(0, 0, 1, 0)\n",
      "player: (1, 1, 1, 1) coplayer:(0, 0, 1, 1)\n",
      "player: (1, 1, 1, 1) coplayer:(0, 1, 1, 0)\n",
      "player: (1, 1, 1, 1) coplayer:(0, 1, 1, 1)\n",
      "\n"
     ]
    }
   ],
   "source": [
    "# reactive trying to estimate memory-two (which are memory-ones)\n",
    "\n",
    "b, c = 2, 1\n",
    "\n",
    "count = 0 \n",
    "\n",
    "for player in tqdm.notebook.tqdm(set_of_reactive_s):\n",
    "\n",
    "    for i, coplayer in enumerate(set_of_memory_one_s):\n",
    "\n",
    "        estimated_reactive = expected_one_bit_reactive_strategy_vs_memory_two(player * 4, coplayer * 4)\n",
    "\n",
    "        ss_estimated = calculate_ss_for_mem_one(player, coplayer)\n",
    "\n",
    "        ss = calculate_ss_for_mem_one(player, estimated_reactive)\n",
    "\n",
    "        check = False\n",
    "\n",
    "        for ss1 in ss_estimated:\n",
    "            for ss2 in ss:\n",
    "                if (np.isclose(ss1, ss2, atol=10**-3).all()):\n",
    "                    check = True\n",
    "                    \n",
    "        # there are going to be some failures and I am just printing them. \n",
    "        if check == False:\n",
    "            count += 1\n",
    "            print(f\"player: {player} coplayer:{coplayer}\")"
   ]
  },
  {
   "cell_type": "code",
   "execution_count": 230,
   "metadata": {},
   "outputs": [],
   "source": [
    "states = ['C', 'D']\n",
    "\n",
    "states_in_two_bits = [\"\".join(i[-1:]) for i in list(itertools.product(['C', 'D'], repeat=4))]"
   ]
  },
  {
   "cell_type": "code",
   "execution_count": 231,
   "metadata": {},
   "outputs": [],
   "source": [
    "p = (1, 1, 1, 1)\n",
    "\n",
    "q = (0, 1, 1, 0)"
   ]
  },
  {
   "cell_type": "code",
   "execution_count": 220,
   "metadata": {},
   "outputs": [],
   "source": [
    "ss = calculate_ss_for_mem_two(p * 4, q * 4)\n",
    "\n",
    "ss = ss[0]"
   ]
  },
  {
   "cell_type": "code",
   "execution_count": 221,
   "metadata": {},
   "outputs": [
    {
     "data": {
      "text/plain": [
       "array([0. , 0.5, 0. , 0. , 0.5, 0. , 0. , 0. , 0. , 0. , 0. , 0. , 0. ,\n",
       "       0. , 0. , 0. ])"
      ]
     },
     "execution_count": 221,
     "metadata": {},
     "output_type": "execute_result"
    }
   ],
   "source": [
    "ss"
   ]
  },
  {
   "cell_type": "code",
   "execution_count": 222,
   "metadata": {},
   "outputs": [],
   "source": [
    "coplayer = q * 4\n",
    "\n",
    "coplayer = [coplayer[0],  coplayer[2],  coplayer[1],  coplayer[3],\n",
    "             coplayer[4],  coplayer[6],  coplayer[5],  coplayer[7],\n",
    "             coplayer[8],  coplayer[10], coplayer[9],  coplayer[11],\n",
    "             coplayer[12], coplayer[14], coplayer[13], coplayer[15]]"
   ]
  },
  {
   "cell_type": "code",
   "execution_count": 223,
   "metadata": {},
   "outputs": [
    {
     "data": {
      "text/plain": [
       "[0, 1, 1, 0, 0, 1, 1, 0, 0, 1, 1, 0, 0, 1, 1, 0]"
      ]
     },
     "execution_count": 223,
     "metadata": {},
     "output_type": "execute_result"
    }
   ],
   "source": [
    "coplayer"
   ]
  },
  {
   "cell_type": "code",
   "execution_count": 224,
   "metadata": {},
   "outputs": [
    {
     "data": {
      "text/plain": [
       "[[0.0, 0.0, 0.5, 0.0, 0.0, 0.0, 0.0, 0.0],\n",
       " [0.5, 0.0, 0.0, 0.0, 0.0, 0.0, 0.0, 0.0]]"
      ]
     },
     "execution_count": 224,
     "metadata": {},
     "output_type": "execute_result"
    }
   ],
   "source": [
    "[[ss[i] for i in range(16) if states_in_two_bits[i] == state] for state in states]"
   ]
  },
  {
   "cell_type": "code",
   "execution_count": 225,
   "metadata": {},
   "outputs": [
    {
     "data": {
      "text/plain": [
       "[[0.0, 0.0, 0.0, 0.0, 0.0, 0.0, 0.0, 0.0],\n",
       " [0.5, 0.0, 0.0, 0.0, 0.0, 0.0, 0.0, 0.0]]"
      ]
     },
     "execution_count": 225,
     "metadata": {},
     "output_type": "execute_result"
    }
   ],
   "source": [
    "[[coplayer[i] * ss[i] for i in range(16) if states_in_two_bits[i] == state] for state in states]"
   ]
  },
  {
   "cell_type": "code",
   "execution_count": 226,
   "metadata": {},
   "outputs": [
    {
     "data": {
      "text/plain": [
       "[0.5, 0.5]"
      ]
     },
     "execution_count": 226,
     "metadata": {},
     "output_type": "execute_result"
    }
   ],
   "source": [
    "[sum([ss[i] for i in range(16) if states_in_two_bits[i] == state]) for state in states]"
   ]
  },
  {
   "cell_type": "code",
   "execution_count": 227,
   "metadata": {},
   "outputs": [
    {
     "data": {
      "text/plain": [
       "[0.0, 1.0]"
      ]
     },
     "execution_count": 227,
     "metadata": {},
     "output_type": "execute_result"
    }
   ],
   "source": [
    "[(sum([coplayer[i] * ss[i] for i in range(16) if states_in_two_bits[i] == state]) \n",
    "                 / sum([ss[i] for i in range(16) if states_in_two_bits[i] == state]))\n",
    "                for state in states]"
   ]
  },
  {
   "cell_type": "code",
   "execution_count": 228,
   "metadata": {},
   "outputs": [
    {
     "data": {
      "text/plain": [
       "([0.0, 1.0, 0.0, 1.0],\n",
       " {(C, C): 498, (C, D): 0, (D, C): 499, (D, D): 0},\n",
       " {(C, C): 0, (C, D): 0, (D, C): 499, (D, D): 0})"
      ]
     },
     "execution_count": 228,
     "metadata": {},
     "output_type": "execute_result"
    }
   ],
   "source": [
    "simulate_play_reactive(p * 4, q * 4, turns=1000, noise=0.0)"
   ]
  },
  {
   "cell_type": "code",
   "execution_count": 232,
   "metadata": {},
   "outputs": [
    {
     "data": {
      "application/vnd.jupyter.widget-view+json": {
       "model_id": "187d3ca32b004865ab060b68de190f1d",
       "version_major": 2,
       "version_minor": 0
      },
      "text/plain": [
       "HBox(children=(FloatProgress(value=0.0, max=4.0), HTML(value='')))"
      ]
     },
     "metadata": {},
     "output_type": "display_data"
    },
    {
     "name": "stdout",
     "output_type": "stream",
     "text": [
      "player: (0, 0, 0, 0) coplayer:(0, 0, 0, 1)\n",
      "player: (0, 0, 0, 0) coplayer:(0, 0, 1, 1)\n",
      "player: (0, 0, 0, 0) coplayer:(1, 0, 0, 1)\n",
      "player: (0, 0, 0, 0) coplayer:(1, 0, 1, 1)\n",
      "player: (0, 0, 0, 0) coplayer:(1, 1, 0, 1)\n",
      "player: (0, 0, 0, 0) coplayer:(1, 1, 1, 1)\n",
      "player: (1, 0, 1, 0) coplayer:(0, 0, 0, 1)\n",
      "player: (1, 0, 1, 0) coplayer:(0, 0, 1, 0)\n",
      "player: (1, 0, 1, 0) coplayer:(0, 0, 1, 1)\n",
      "player: (1, 0, 1, 0) coplayer:(0, 1, 1, 0)\n",
      "player: (1, 0, 1, 0) coplayer:(0, 1, 1, 1)\n",
      "player: (0, 1, 0, 1) coplayer:(0, 0, 1, 0)\n",
      "player: (0, 1, 0, 1) coplayer:(0, 1, 1, 0)\n",
      "player: (0, 1, 0, 1) coplayer:(1, 0, 0, 1)\n",
      "player: (0, 1, 0, 1) coplayer:(1, 0, 1, 1)\n",
      "player: (0, 1, 0, 1) coplayer:(1, 1, 0, 0)\n",
      "player: (0, 1, 0, 1) coplayer:(1, 1, 0, 1)\n",
      "player: (0, 1, 0, 1) coplayer:(1, 1, 1, 0)\n",
      "player: (0, 1, 0, 1) coplayer:(1, 1, 1, 1)\n",
      "player: (1, 1, 1, 1) coplayer:(0, 0, 1, 0)\n",
      "player: (1, 1, 1, 1) coplayer:(0, 0, 1, 1)\n",
      "player: (1, 1, 1, 1) coplayer:(0, 1, 1, 0)\n",
      "player: (1, 1, 1, 1) coplayer:(0, 1, 1, 1)\n",
      "\n"
     ]
    }
   ],
   "source": [
    "b, c = 2, 1\n",
    "\n",
    "for player in tqdm.notebook.tqdm(set_of_reactive_s):\n",
    "\n",
    "    for i, coplayer in enumerate(set_of_memory_one_s):\n",
    "\n",
    "        mem_one_representation, a, b = simulate_play_reactive(player * 4, coplayer * 4, turns=1000, noise=0.0)\n",
    "\n",
    "        ss_estimated = calculate_ss_for_mem_one(player, coplayer)\n",
    "\n",
    "        ss = calculate_ss_for_mem_one(player, mem_one_representation)\n",
    "        \n",
    "\n",
    "        check = False\n",
    "\n",
    "        for ss1 in ss_estimated:\n",
    "            for ss2 in ss:\n",
    "                if (np.isclose(ss1, ss2, atol=10**-3).all()):\n",
    "                    check = True\n",
    "                    \n",
    "        # there are going to be some failures and I am just printing them. \n",
    "        if check == False:\n",
    "            print(f\"player: {player} coplayer:{coplayer}\")"
   ]
  },
  {
   "cell_type": "code",
   "execution_count": 299,
   "metadata": {},
   "outputs": [],
   "source": [
    "p = (1, 0, 1, 0)\n",
    "\n",
    "q = (0, 0, 0, 1)"
   ]
  },
  {
   "cell_type": "code",
   "execution_count": 300,
   "metadata": {},
   "outputs": [
    {
     "data": {
      "text/plain": [
       "[array([-0.        ,  0.33333333,  0.33333333,  0.33333333])]"
      ]
     },
     "execution_count": 300,
     "metadata": {},
     "output_type": "execute_result"
    }
   ],
   "source": [
    "calculate_ss_for_mem_one(p, q)"
   ]
  },
  {
   "cell_type": "code",
   "execution_count": 301,
   "metadata": {},
   "outputs": [
    {
     "data": {
      "text/plain": [
       "([0.0, 0.4992481203007519, 0.0, 0.4992481203007519],\n",
       " {(C, C): 0, (C, D): 332, (D, C): 333, (D, D): 332},\n",
       " {(C, C): 0, (C, D): 0, (D, C): 0, (D, D): 332})"
      ]
     },
     "execution_count": 301,
     "metadata": {},
     "output_type": "execute_result"
    }
   ],
   "source": [
    "simulate_play_reactive(p * 4, q * 4, turns=1000, noise=0.0)"
   ]
  },
  {
   "cell_type": "code",
   "execution_count": 302,
   "metadata": {},
   "outputs": [
    {
     "data": {
      "text/plain": [
       "[array([0.11111111, 0.22222222, 0.22222222, 0.44444444])]"
      ]
     },
     "execution_count": 302,
     "metadata": {},
     "output_type": "execute_result"
    }
   ],
   "source": [
    "calculate_ss_for_mem_one(p, [0.0, 0.5, 0.0, 0.5])"
   ]
  },
  {
   "cell_type": "code",
   "execution_count": 303,
   "metadata": {},
   "outputs": [
    {
     "ename": "TypeError",
     "evalue": "'list' object is not callable",
     "output_type": "error",
     "traceback": [
      "\u001b[0;31m---------------------------------------------------------------------------\u001b[0m",
      "\u001b[0;31mTypeError\u001b[0m                                 Traceback (most recent call last)",
      "\u001b[0;32m<ipython-input-303-952ff8c8aca2>\u001b[0m in \u001b[0;36m<module>\u001b[0;34m\u001b[0m\n\u001b[0;32m----> 1\u001b[0;31m \u001b[0mestimated_reactive\u001b[0m\u001b[0;34m(\u001b[0m\u001b[0mp\u001b[0m\u001b[0;34m,\u001b[0m \u001b[0mq\u001b[0m\u001b[0;34m)\u001b[0m\u001b[0;34m\u001b[0m\u001b[0;34m\u001b[0m\u001b[0m\n\u001b[0m",
      "\u001b[0;31mTypeError\u001b[0m: 'list' object is not callable"
     ]
    }
   ],
   "source": [
    "estimated_mem_one_sim(p, q)"
   ]
  },
  {
   "cell_type": "code",
   "execution_count": 138,
   "metadata": {},
   "outputs": [],
   "source": [
    "def two_bit_reactive(p1, p2, p3, p4):\n",
    "    return [p1, p2, p1, p2, p3, p4, p3, p4,\n",
    "            p1, p2, p1, p2, p3, p4, p3, p4]"
   ]
  },
  {
   "cell_type": "code",
   "execution_count": 139,
   "metadata": {},
   "outputs": [],
   "source": [
    "set_of_two_bit_reactive_s = [two_bit_reactive(*p) for p in set_of_memory_one_s]"
   ]
  },
  {
   "cell_type": "code",
   "execution_count": 146,
   "metadata": {},
   "outputs": [
    {
     "data": {
      "application/vnd.jupyter.widget-view+json": {
       "model_id": "94fcfd174d45435791b8ab1a4013413b",
       "version_major": 2,
       "version_minor": 0
      },
      "text/plain": [
       "HBox(children=(FloatProgress(value=0.0, max=1.0), HTML(value='')))"
      ]
     },
     "metadata": {},
     "output_type": "display_data"
    },
    {
     "name": "stdout",
     "output_type": "stream",
     "text": [
      "\n"
     ]
    }
   ],
   "source": [
    "# reactive trying to estimate memory-two (which are memory-ones)\n",
    "\n",
    "b, c = 2, 1\n",
    "\n",
    "count = 0 \n",
    "\n",
    "for player in tqdm.notebook.tqdm(set_of_two_bit_reactive_s[:1]):\n",
    "\n",
    "    for i, coplayer in enumerate(set_of_memory_two_s):\n",
    "\n",
    "        estimated_reactive = expected_two_bit_reactive_strategy(player, coplayer)\n",
    "        \n",
    "        estimated_reactive = two_bit_reactive(*estimated_reactive)\n",
    "        \n",
    "        ss = calculate_ss_for_mem_two(player, coplayer)\n",
    "\n",
    "        ss_estimated = calculate_ss_for_mem_two(player, estimated_reactive)\n",
    "\n",
    "        check = False\n",
    "\n",
    "        for ss1 in ss_estimated:\n",
    "            for ss2 in ss:\n",
    "                if (np.isclose(ss1, ss2, atol=10**-3).all()):\n",
    "                    check = True\n",
    "                    \n",
    "        # there are going to be some failures and I am just printing them. \n",
    "        if check == False:\n",
    "            count += 1\n",
    "#             print(f\"player: {player} coplayer:{coplayer}\")"
   ]
  },
  {
   "cell_type": "code",
   "execution_count": 152,
   "metadata": {},
   "outputs": [
    {
     "data": {
      "text/plain": [
       "(32768, 65536)"
      ]
     },
     "execution_count": 152,
     "metadata": {},
     "output_type": "execute_result"
    }
   ],
   "source": [
    "count, len(set_of_memory_two_s)"
   ]
  },
  {
   "cell_type": "markdown",
   "metadata": {},
   "source": [
    "### Fully stochastic strategies"
   ]
  },
  {
   "cell_type": "markdown",
   "metadata": {},
   "source": [
    "### or just pure strategies with epsilon error."
   ]
  },
  {
   "cell_type": "markdown",
   "metadata": {},
   "source": [
    "### One bit can reduce two bits to one bit"
   ]
  },
  {
   "cell_type": "code",
   "execution_count": 288,
   "metadata": {},
   "outputs": [],
   "source": [
    "p = [1, 1, 1, 1] * 4\n",
    "\n",
    "np.random.seed(1)\n",
    "\n",
    "q = np.random.random(16)"
   ]
  },
  {
   "cell_type": "code",
   "execution_count": 289,
   "metadata": {},
   "outputs": [],
   "source": [
    "ss = calculate_ss_for_mem_two(p, q)\n",
    "ss = ss[0]"
   ]
  },
  {
   "cell_type": "code",
   "execution_count": 290,
   "metadata": {},
   "outputs": [
    {
     "data": {
      "text/plain": [
       "[0.3317488801082833, 0.6682511198917169, 0.0, 0.0]"
      ]
     },
     "execution_count": 290,
     "metadata": {},
     "output_type": "execute_result"
    }
   ],
   "source": [
    "states = ['CC', 'CD', 'DC', 'DD']\n",
    "\n",
    "states_in_two_bits = [\"\".join(i[-2:]) for i in list(itertools.product(['C', 'D'], repeat=4))]\n",
    "\n",
    "[sum([ss[i] for i in range(16) if states_in_two_bits[i] == state]) for state in states]"
   ]
  },
  {
   "cell_type": "code",
   "execution_count": 291,
   "metadata": {},
   "outputs": [],
   "source": [
    "estimated_mem_one = expected_memory_one_strategy_ch(p, q)"
   ]
  },
  {
   "cell_type": "code",
   "execution_count": 292,
   "metadata": {},
   "outputs": [
    {
     "data": {
      "text/plain": [
       "[0.4049699504318982, 0.0, 0.295398760584166, 0.0]"
      ]
     },
     "execution_count": 292,
     "metadata": {},
     "output_type": "execute_result"
    }
   ],
   "source": [
    "estimated_mem_one"
   ]
  },
  {
   "cell_type": "code",
   "execution_count": 293,
   "metadata": {},
   "outputs": [],
   "source": [
    "ss_estimated = calculate_ss_for_mem_one(p, estimated_mem_one)"
   ]
  },
  {
   "cell_type": "code",
   "execution_count": 294,
   "metadata": {},
   "outputs": [
    {
     "data": {
      "text/plain": [
       "[array([ 0.33174888,  0.66825112, -0.        , -0.        ])]"
      ]
     },
     "execution_count": 294,
     "metadata": {},
     "output_type": "execute_result"
    }
   ],
   "source": [
    "ss_estimated"
   ]
  },
  {
   "cell_type": "code",
   "execution_count": 295,
   "metadata": {},
   "outputs": [],
   "source": [
    "estimated_mem_one_sim, a, b = simulate_play(p, q, turns=10 ** 5)"
   ]
  },
  {
   "cell_type": "code",
   "execution_count": 296,
   "metadata": {},
   "outputs": [
    {
     "data": {
      "text/plain": [
       "[0.4044790593369295, 0, 0.2933028851176883, 0]"
      ]
     },
     "execution_count": 296,
     "metadata": {},
     "output_type": "execute_result"
    }
   ],
   "source": [
    "estimated_mem_one_sim"
   ]
  },
  {
   "cell_type": "code",
   "execution_count": 297,
   "metadata": {},
   "outputs": [
    {
     "data": {
      "text/plain": [
       "[array([ 0.3299899,  0.6700101, -0.       , -0.       ])]"
      ]
     },
     "execution_count": 297,
     "metadata": {},
     "output_type": "execute_result"
    }
   ],
   "source": [
    "calculate_ss_for_mem_one(p, estimated_mem_one_sim)"
   ]
  },
  {
   "cell_type": "code",
   "execution_count": null,
   "metadata": {},
   "outputs": [],
   "source": []
  }
 ],
 "metadata": {
  "kernelspec": {
   "display_name": "axelrod",
   "language": "python",
   "name": "axelrod"
  },
  "language_info": {
   "codemirror_mode": {
    "name": "ipython",
    "version": 3
   },
   "file_extension": ".py",
   "mimetype": "text/x-python",
   "name": "python",
   "nbconvert_exporter": "python",
   "pygments_lexer": "ipython3",
   "version": "3.7.9"
  }
 },
 "nbformat": 4,
 "nbformat_minor": 4
}
