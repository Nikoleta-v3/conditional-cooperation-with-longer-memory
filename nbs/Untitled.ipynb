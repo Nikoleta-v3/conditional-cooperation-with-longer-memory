{
 "cells": [
  {
   "cell_type": "code",
   "execution_count": 1,
   "metadata": {},
   "outputs": [],
   "source": [
    "import pandas as pd\n",
    "\n",
    "from collections import Counter\n",
    "\n",
    "import itertools"
   ]
  },
  {
   "cell_type": "code",
   "execution_count": 2,
   "metadata": {},
   "outputs": [],
   "source": [
    "import glob\n",
    "\n",
    "import numpy as np\n",
    "\n",
    "import tqdm"
   ]
  },
  {
   "cell_type": "code",
   "execution_count": 3,
   "metadata": {},
   "outputs": [],
   "source": [
    "import os\n",
    "\n",
    "os.chdir('..')\n",
    "\n",
    "\n",
    "from importlib.machinery import SourceFileLoader\n",
    "\n",
    "equilibria = SourceFileLoader(\"eq\", \"src/equilibria.py\").load_module()\n",
    "\n",
    "main = SourceFileLoader(\"main\", \"src/main.py\").load_module()"
   ]
  },
  {
   "cell_type": "code",
   "execution_count": 4,
   "metadata": {},
   "outputs": [],
   "source": [
    "import random"
   ]
  },
  {
   "cell_type": "code",
   "execution_count": 5,
   "metadata": {},
   "outputs": [],
   "source": [
    "def seperate_equilibria_and_non(df):\n",
    "    per_player = df.groupby('ID')['condition A'].all()\n",
    "\n",
    "    eq_players_ID = per_player[per_player == True].index\n",
    "\n",
    "    noneq_players_ID = per_player[per_player == False].index\n",
    "    \n",
    "    return df[df['ID'].isin(eq_players_ID)], df[df['ID'].isin(noneq_players_ID)]"
   ]
  },
  {
   "cell_type": "markdown",
   "metadata": {},
   "source": [
    "**Two bit against memory-two**"
   ]
  },
  {
   "cell_type": "code",
   "execution_count": 6,
   "metadata": {},
   "outputs": [],
   "source": [
    "columns = ([\"\", \"ID\"] + [f'p{i+1}' for i in range(16)] + [f'q{i+1}' for i in range(16)] + \n",
    "           ['label', 'Sp', 'Sq', \"condition A\", \"condition B\",'b', 'c'])\n",
    "\n",
    "files = glob.glob(\"two_bit_in_memory_two/*csv\")"
   ]
  },
  {
   "cell_type": "code",
   "execution_count": 7,
   "metadata": {},
   "outputs": [],
   "source": [
    "to_read = random.choices(files, k=100)"
   ]
  },
  {
   "cell_type": "code",
   "execution_count": 8,
   "metadata": {},
   "outputs": [],
   "source": [
    "dfs = [pd.read_csv(file, index_col=0, names=columns) for file in to_read]"
   ]
  },
  {
   "cell_type": "code",
   "execution_count": 9,
   "metadata": {},
   "outputs": [],
   "source": [
    "reactive = pd.concat(dfs)"
   ]
  },
  {
   "cell_type": "code",
   "execution_count": 10,
   "metadata": {},
   "outputs": [],
   "source": [
    "def conditition_one(p2, p4, b, c):\n",
    "    return p4 < 1 - (c / b)\n",
    "\n",
    "def conditition_two(p2, p4, b, c):\n",
    "    return p2 < p4\n",
    "\n",
    "def conditition_three(p3, b, c):\n",
    "    return p3 < 1\n",
    "\n",
    "def condition_four(p2, p4, b, c):\n",
    "    return  1 + p2 < (b / c) + (p4 * (c - b)) / c\n",
    "\n",
    "def nash_conditions(p, b, c):\n",
    "    p1, p2, p3, p4 = p\n",
    "    \n",
    "    c1 = conditition_one(p2, p4, b, c)\n",
    "    c2 = conditition_two(p2, p4, b, c)\n",
    "    c3 = conditition_three(p3, b, c)\n",
    "    c4 = condition_four(p2, p4, b, c)\n",
    "    \n",
    "    return {\"c1\": c1, \"c2\": c2, \"c3\": c3, \"c4\": c4}"
   ]
  },
  {
   "cell_type": "code",
   "execution_count": 11,
   "metadata": {},
   "outputs": [],
   "source": [
    "eq, noneq = seperate_equilibria_and_non(reactive)"
   ]
  },
  {
   "cell_type": "code",
   "execution_count": 12,
   "metadata": {},
   "outputs": [],
   "source": [
    "for i, row in noneq[['p1', 'p2', 'p3', 'p4']].drop_duplicates().iterrows():\n",
    "    p = row[['p1', 'p2', 'p3', 'p4']]\n",
    "    \n",
    "    check = nash_conditions(p, 2, 1)\n",
    "    \n",
    "    assert all(check.values()) == False"
   ]
  },
  {
   "cell_type": "markdown",
   "metadata": {},
   "source": [
    "**Memory-two against memory-two**"
   ]
  },
  {
   "cell_type": "code",
   "execution_count": 6,
   "metadata": {},
   "outputs": [],
   "source": [
    "def invariant_distributions(M):\n",
    "    \"\"\"Returns all the invariant distributions in case of absorbing states.\"\"\"\n",
    "    \n",
    "    stationaries = []\n",
    "    \n",
    "    eigenvalues, eigenvectors = np.linalg.eig(M.T)\n",
    "    \n",
    "    for index in np.where(eigenvalues == np.max(eigenvalues))[0]:\n",
    "        \n",
    "        eigenvectors_one = eigenvectors[:, index]\n",
    "\n",
    "        stationary = eigenvectors_one / eigenvectors_one.sum()\n",
    "\n",
    "        stationaries.append(stationary.real)\n",
    "        \n",
    "    return stationaries"
   ]
  },
  {
   "cell_type": "code",
   "execution_count": 7,
   "metadata": {},
   "outputs": [],
   "source": [
    "def conditions(p, b, c):\n",
    "    c1  = p[1] < p[5]\n",
    "    c2  = p[9] < p[5]\n",
    "    c3  = p[13] < p[5]\n",
    "    c4  = p[4] < 1\n",
    "    c5  = p[8] < 1\n",
    "    c6  = p[12] < 1\n",
    "    c7  = (c / b) * p[2] < 1 - p[5]\n",
    "    c8  = (c / b) * p[10] < 1 - p[5]\n",
    "    c9  = (c / b) * p[14] < 1 - p[5]\n",
    "    c12 = (c / b) * p[6] < 1 - p[5]\n",
    "    c10 = 1 + (c / (b - c)) * p[11] > p[5]\n",
    "    c11 = 1 + (c / (b - c)) * p[15] > p[5]\n",
    "    c13 = (c / (b - c)) * p[7] < 1 - p[5]\n",
    "    c14 = 1 + (c / (b - c)) * p[3] > p[5]\n",
    "    \n",
    "    return  {\n",
    "\"c1\" : c1 ,\n",
    "\"c2\" : c2 ,\n",
    "\"c3\" : c3 ,\n",
    "\"c4\" : c4 ,\n",
    "\"c5\" : c5 ,\n",
    "\"c6\" : c6 ,\n",
    "\"c7\" : c7 ,\n",
    "\"c8\" : c8 ,\n",
    "\"c9\" : c9 ,\n",
    "\"c12\" : c12,\n",
    "\"c10\" : c10,\n",
    "\"c11\" : c11,\n",
    "\"c13\" : c13,\n",
    "\"c14\" : c14,\n",
    "}\n",
    "    "
   ]
  },
  {
   "cell_type": "code",
   "execution_count": 8,
   "metadata": {},
   "outputs": [],
   "source": [
    "np.random.seed(0)"
   ]
  },
  {
   "cell_type": "code",
   "execution_count": 9,
   "metadata": {},
   "outputs": [],
   "source": [
    "nash_strategies = []\n",
    "\n",
    "for i in range(200):\n",
    "    strategy = np.random.random((1, 16)).round(5)[0]\n",
    "    strategy[0] = 1\n",
    "    \n",
    "    if all(conditions(strategy, 2, 1).values()):\n",
    "        nash_strategies.append(strategy)\n",
    "        "
   ]
  },
  {
   "cell_type": "code",
   "execution_count": 10,
   "metadata": {},
   "outputs": [
    {
     "data": {
      "text/plain": [
       "[array([1.     , 0.1033 , 0.86717, 0.02919, 0.53492, 0.40424, 0.52418,\n",
       "        0.3651 , 0.19057, 0.01912, 0.51815, 0.84278, 0.37322, 0.22286,\n",
       "        0.08053, 0.08531]),\n",
       " array([1.     , 0.0666 , 0.23597, 0.1531 , 0.19752, 0.52832, 0.67169,\n",
       "        0.47032, 0.9597 , 0.24029, 0.76314, 0.87018, 0.56207, 0.45622,\n",
       "        0.59618, 0.42881]),\n",
       " array([1.     , 0.11279, 0.99045, 0.84537, 0.53451, 0.42455, 0.28646,\n",
       "        0.50159, 0.87942, 0.27501, 0.50054, 0.23455, 0.33715, 0.19026,\n",
       "        0.99054, 0.5715 ]),\n",
       " array([1.     , 0.22214, 0.87972, 0.15576, 0.28059, 0.38614, 0.27364,\n",
       "        0.21071, 0.77115, 0.32902, 0.11251, 0.5409 , 0.12549, 0.35752,\n",
       "        0.88183, 0.36916])]"
      ]
     },
     "execution_count": 10,
     "metadata": {},
     "output_type": "execute_result"
    }
   ],
   "source": [
    "nash_strategies"
   ]
  },
  {
   "cell_type": "code",
   "execution_count": 28,
   "metadata": {},
   "outputs": [],
   "source": [
    "def run(i, strategy, coplayers, labels, filename, Sx, b, c):\n",
    "\n",
    "    sx = match_payoff(strategy, strategy, Sx)\n",
    "    data = []\n",
    "\n",
    "    for label, coplayer in tqdm.notebook.tqdm(zip(labels, coplayers)):\n",
    "\n",
    "        sy = match_payoff(coplayer, strategy, Sx)\n",
    "        A = np.isclose(sx, sy, atol=10 ** -4) or sx > sy\n",
    "        B = np.isclose(sy, b - c, atol=10 ** -4) or sy < b - c\n",
    "\n",
    "\n",
    "        data_point = [\n",
    "            i,\n",
    "            label,\n",
    "            sx,\n",
    "            sy,\n",
    "            A,\n",
    "            B,\n",
    "            b,\n",
    "            c,\n",
    "        ]\n",
    "        data.append(data_point)\n",
    "        \n",
    "    return data"
   ]
  },
  {
   "cell_type": "code",
   "execution_count": 29,
   "metadata": {},
   "outputs": [],
   "source": [
    "def match_payoff(player, coplayer, Sx):\n",
    "    M = equilibria.calculate_M_memory_two(player, coplayer)\n",
    "    ss = main.invariant_distribution(M)\n",
    "\n",
    "    return ss @ Sx"
   ]
  },
  {
   "cell_type": "code",
   "execution_count": 30,
   "metadata": {},
   "outputs": [],
   "source": [
    "b, c, dimensions = 2, 1, 2\n",
    "\n",
    "deterministic_strategies = list(\n",
    "    itertools.product([0, 1], repeat=2 ** (2 * dimensions))\n",
    ")\n",
    "\n",
    "labels = [f\"N{i}\" for i, _ in enumerate(deterministic_strategies)]\n",
    "\n",
    "Sx = equilibria.payoffs_donation(b, c, dim=(2 * dimensions))  # payoffs(R, P, dim=4)"
   ]
  },
  {
   "cell_type": "code",
   "execution_count": 31,
   "metadata": {},
   "outputs": [
    {
     "data": {
      "text/plain": [
       "(65536, 65536)"
      ]
     },
     "execution_count": 31,
     "metadata": {},
     "output_type": "execute_result"
    }
   ],
   "source": [
    "len(labels), len(deterministic_strategies)"
   ]
  },
  {
   "cell_type": "code",
   "execution_count": 34,
   "metadata": {},
   "outputs": [
    {
     "name": "stderr",
     "output_type": "stream",
     "text": [
      "<ipython-input-34-999ef95dc697>:8: TqdmDeprecationWarning: This function will be removed in tqdm==5.0.0\n",
      "Please use `tqdm.notebook.tqdm` instead of `tqdm.tqdm_notebook`\n",
      "  for label, coplayer in tqdm.tqdm_notebook(zip(labels, coplayers)):\n"
     ]
    },
    {
     "data": {
      "application/vnd.jupyter.widget-view+json": {
       "model_id": "3ab3d5cbe1de44b098d176efb56f8b13",
       "version_major": 2,
       "version_minor": 0
      },
      "text/plain": [
       "HBox(children=(FloatProgress(value=1.0, bar_style='info', max=1.0), HTML(value='')))"
      ]
     },
     "metadata": {},
     "output_type": "display_data"
    },
    {
     "name": "stdout",
     "output_type": "stream",
     "text": [
      "\n"
     ]
    }
   ],
   "source": [
    "strategy = nash_strategies[0]\n",
    "\n",
    "coplayers = deterministic_strategies\n",
    "\n",
    "sx = match_payoff(strategy, strategy, Sx)\n",
    "data = []\n",
    "\n",
    "for label, coplayer in tqdm.tqdm_notebook(zip(labels, coplayers)):\n",
    "\n",
    "    sy = match_payoff(coplayer, strategy, Sx)\n",
    "    A = np.isclose(sx, sy, atol=10 ** -4) or sx > sy\n",
    "    B = np.isclose(sy, b - c, atol=10 ** -4) or sy < b - c\n",
    "\n",
    "\n",
    "    data_point = [\n",
    "        i,\n",
    "        label,\n",
    "        sx,\n",
    "        sy,\n",
    "        A,\n",
    "        B,\n",
    "        b,\n",
    "        c,\n",
    "    ]\n",
    "    data.append(data_point)"
   ]
  },
  {
   "cell_type": "code",
   "execution_count": 35,
   "metadata": {},
   "outputs": [
    {
     "data": {
      "text/plain": [
       "False"
      ]
     },
     "execution_count": 35,
     "metadata": {},
     "output_type": "execute_result"
    }
   ],
   "source": [
    "all([d[4] for d in data])"
   ]
  },
  {
   "cell_type": "code",
   "execution_count": 37,
   "metadata": {},
   "outputs": [
    {
     "data": {
      "text/plain": [
       "['N39616', 'N43840', 'N58244', 'N61828', 'N61892', 'N63048', 'N63940']"
      ]
     },
     "execution_count": 37,
     "metadata": {},
     "output_type": "execute_result"
    }
   ],
   "source": [
    "[d[1] for d in data if d[4] == False]"
   ]
  },
  {
   "cell_type": "code",
   "execution_count": 41,
   "metadata": {},
   "outputs": [
    {
     "data": {
      "application/vnd.jupyter.widget-view+json": {
       "model_id": "5c8b36b951a94a77b990196a7a004f6c",
       "version_major": 2,
       "version_minor": 0
      },
      "text/plain": [
       "HBox(children=(FloatProgress(value=1.0, bar_style='info', max=1.0), HTML(value='')))"
      ]
     },
     "metadata": {},
     "output_type": "display_data"
    },
    {
     "name": "stdout",
     "output_type": "stream",
     "text": [
      "\n"
     ]
    }
   ],
   "source": [
    "data = run(\n",
    "        1,\n",
    "        nash_strategies[0],\n",
    "        deterministic_strategies,\n",
    "        labels,\n",
    "        \"\",\n",
    "        Sx,\n",
    "        b,\n",
    "        c,\n",
    "    )"
   ]
  },
  {
   "cell_type": "code",
   "execution_count": 42,
   "metadata": {},
   "outputs": [
    {
     "data": {
      "text/plain": [
       "False"
      ]
     },
     "execution_count": 42,
     "metadata": {},
     "output_type": "execute_result"
    }
   ],
   "source": [
    "all([d[4] for d in data])"
   ]
  },
  {
   "cell_type": "code",
   "execution_count": 43,
   "metadata": {},
   "outputs": [
    {
     "data": {
      "text/plain": [
       "['N39616', 'N43840', 'N58244', 'N61828', 'N61892', 'N63048', 'N63940']"
      ]
     },
     "execution_count": 43,
     "metadata": {},
     "output_type": "execute_result"
    }
   ],
   "source": [
    "[d[1] for d in data if d[4] == False]"
   ]
  },
  {
   "cell_type": "code",
   "execution_count": 75,
   "metadata": {},
   "outputs": [],
   "source": [
    "M = equilibria.calculate_M_memory_two(deterministic_strategies[63940], strategy)\n",
    "\n",
    "ss = main.invariant_distribution(M)"
   ]
  },
  {
   "cell_type": "code",
   "execution_count": 76,
   "metadata": {},
   "outputs": [
    {
     "data": {
      "text/plain": [
       "array([ 1.7526, -0.    , -0.    ,  0.    , -0.    , -0.    , -0.    ,\n",
       "       -0.    , -0.    , -0.    , -0.0281, -0.1441, -0.    , -0.    ,\n",
       "       -0.1441, -0.4364])"
      ]
     },
     "execution_count": 76,
     "metadata": {},
     "output_type": "execute_result"
    }
   ],
   "source": [
    "ss.round(4) #@ np.array([1, -1, 2, 0] * 4)"
   ]
  },
  {
   "cell_type": "code",
   "execution_count": 77,
   "metadata": {},
   "outputs": [],
   "source": [
    "eigenvalues, eigenvectors = np.linalg.eig(M.T)"
   ]
  },
  {
   "cell_type": "code",
   "execution_count": 87,
   "metadata": {},
   "outputs": [
    {
     "data": {
      "text/plain": [
       "array([0, 6])"
      ]
     },
     "execution_count": 87,
     "metadata": {},
     "output_type": "execute_result"
    }
   ],
   "source": [
    "np.where(np.isclose(eigenvalues, 1))[0]"
   ]
  },
  {
   "cell_type": "code",
   "execution_count": 90,
   "metadata": {},
   "outputs": [
    {
     "data": {
      "text/plain": [
       "False"
      ]
     },
     "execution_count": 90,
     "metadata": {},
     "output_type": "execute_result"
    }
   ],
   "source": [
    "all(stationary > 0)"
   ]
  },
  {
   "cell_type": "code",
   "execution_count": 134,
   "metadata": {},
   "outputs": [],
   "source": [
    "\n",
    "def invariant_distribution_for_mem_two(M):\n",
    "    stationaries = []\n",
    "\n",
    "    eigenvalues, eigenvectors = np.linalg.eig(M.T)\n",
    "\n",
    "    for index in np.where(np.isclose(eigenvalues, 1))[0]:\n",
    "\n",
    "        eigenvectors_one = eigenvectors[:, index]\n",
    "\n",
    "        stationary = eigenvectors_one / eigenvectors_one.sum()\n",
    "\n",
    "\n",
    "        stationaries.append(stationary.real)\n",
    "\n",
    "    return stationaries[np.argmax([min(s) for s in stationaries])]\n"
   ]
  },
  {
   "cell_type": "code",
   "execution_count": 135,
   "metadata": {},
   "outputs": [],
   "source": [
    "def match_payoff(player, coplayer, Sx):\n",
    "    M = equilibria.calculate_M_memory_two(player, coplayer)\n",
    "    ss = invariant_distribution_for_mem_two(M)\n",
    "\n",
    "    return ss @ Sx"
   ]
  },
  {
   "cell_type": "code",
   "execution_count": 136,
   "metadata": {},
   "outputs": [
    {
     "data": {
      "application/vnd.jupyter.widget-view+json": {
       "model_id": "a41182d6b5dc4029a3f1eb19286c8d91",
       "version_major": 2,
       "version_minor": 0
      },
      "text/plain": [
       "HBox(children=(FloatProgress(value=1.0, bar_style='info', max=1.0), HTML(value='')))"
      ]
     },
     "metadata": {},
     "output_type": "display_data"
    },
    {
     "name": "stdout",
     "output_type": "stream",
     "text": [
      "\n"
     ]
    }
   ],
   "source": [
    "data = run(\n",
    "        1,\n",
    "        nash_strategies[1],\n",
    "        deterministic_strategies,\n",
    "        labels,\n",
    "        \"\",\n",
    "        Sx,\n",
    "        b,\n",
    "        c,\n",
    "    )"
   ]
  },
  {
   "cell_type": "code",
   "execution_count": 115,
   "metadata": {},
   "outputs": [
    {
     "data": {
      "text/plain": [
       "[]"
      ]
     },
     "execution_count": 115,
     "metadata": {},
     "output_type": "execute_result"
    }
   ],
   "source": [
    "[d[1] for d in data if d[4] == False]"
   ]
  },
  {
   "cell_type": "code",
   "execution_count": 137,
   "metadata": {},
   "outputs": [],
   "source": [
    "strategy = [1., 0.56843, 0.01879, 0.61764, 0.6121,  0.61693, 0.94375, 0.68182, 0.35951,\n",
    " 0.43703, 0.69763, 0.06023, 0.66677, 0.67064, 0.21038, 0.12893]"
   ]
  },
  {
   "cell_type": "code",
   "execution_count": 138,
   "metadata": {},
   "outputs": [
    {
     "data": {
      "application/vnd.jupyter.widget-view+json": {
       "model_id": "7fc0ce77bac84e0eb7c88b7ee563e18f",
       "version_major": 2,
       "version_minor": 0
      },
      "text/plain": [
       "HBox(children=(FloatProgress(value=1.0, bar_style='info', max=1.0), HTML(value='')))"
      ]
     },
     "metadata": {},
     "output_type": "display_data"
    },
    {
     "name": "stdout",
     "output_type": "stream",
     "text": [
      "\n"
     ]
    }
   ],
   "source": [
    "data = run(\n",
    "        1,\n",
    "        strategy,\n",
    "        deterministic_strategies,\n",
    "        labels,\n",
    "        \"\",\n",
    "        Sx,\n",
    "        b,\n",
    "        c,\n",
    "    )"
   ]
  },
  {
   "cell_type": "code",
   "execution_count": 139,
   "metadata": {},
   "outputs": [],
   "source": [
    "M = equilibria.calculate_M_memory_two(deterministic_strategies[29452], strategy)"
   ]
  },
  {
   "cell_type": "code",
   "execution_count": 140,
   "metadata": {},
   "outputs": [
    {
     "data": {
      "text/plain": [
       "array([1., 1., 1., 1., 1., 1., 1., 1., 1., 1., 1., 1., 1., 1., 1., 1.])"
      ]
     },
     "execution_count": 140,
     "metadata": {},
     "output_type": "execute_result"
    }
   ],
   "source": [
    "np.sum(M, axis=1)"
   ]
  },
  {
   "cell_type": "code",
   "execution_count": 11,
   "metadata": {},
   "outputs": [],
   "source": [
    "columns = ([\"\", \"ID\"] + [f'p{i+1}' for i in range(16)] + [f'q{i+1}' for i in range(16)] + \n",
    "           ['label', 'Sp', 'Sq', \"condition A\", \"condition B\",'c', 'b'])\n",
    "\n",
    "files = glob.glob(\"memory_two_local/*csv\")\n",
    "    \n",
    "dfs = [pd.read_csv(file, index_col=0, names=columns) for file in files]"
   ]
  },
  {
   "cell_type": "code",
   "execution_count": 12,
   "metadata": {},
   "outputs": [],
   "source": [
    "local = pd.concat(dfs)"
   ]
  },
  {
   "cell_type": "code",
   "execution_count": 13,
   "metadata": {},
   "outputs": [
    {
     "data": {
      "text/plain": [
       "300"
      ]
     },
     "execution_count": 13,
     "metadata": {},
     "output_type": "execute_result"
    }
   ],
   "source": [
    "len(files)"
   ]
  },
  {
   "cell_type": "code",
   "execution_count": 14,
   "metadata": {},
   "outputs": [],
   "source": [
    "eq, noneq = seperate_equilibria_and_non(local)"
   ]
  },
  {
   "cell_type": "code",
   "execution_count": 15,
   "metadata": {},
   "outputs": [],
   "source": [
    "local = local.reset_index(drop=True)"
   ]
  },
  {
   "cell_type": "code",
   "execution_count": 16,
   "metadata": {},
   "outputs": [
    {
     "data": {
      "text/html": [
       "<div>\n",
       "<style scoped>\n",
       "    .dataframe tbody tr th:only-of-type {\n",
       "        vertical-align: middle;\n",
       "    }\n",
       "\n",
       "    .dataframe tbody tr th {\n",
       "        vertical-align: top;\n",
       "    }\n",
       "\n",
       "    .dataframe thead th {\n",
       "        text-align: right;\n",
       "    }\n",
       "</style>\n",
       "<table border=\"1\" class=\"dataframe\">\n",
       "  <thead>\n",
       "    <tr style=\"text-align: right;\">\n",
       "      <th></th>\n",
       "      <th>ID</th>\n",
       "      <th>p1</th>\n",
       "      <th>p2</th>\n",
       "      <th>p3</th>\n",
       "      <th>p4</th>\n",
       "      <th>p5</th>\n",
       "      <th>p6</th>\n",
       "      <th>p7</th>\n",
       "      <th>p8</th>\n",
       "      <th>p9</th>\n",
       "      <th>...</th>\n",
       "      <th>q14</th>\n",
       "      <th>q15</th>\n",
       "      <th>q16</th>\n",
       "      <th>label</th>\n",
       "      <th>Sp</th>\n",
       "      <th>Sq</th>\n",
       "      <th>condition A</th>\n",
       "      <th>condition B</th>\n",
       "      <th>c</th>\n",
       "      <th>b</th>\n",
       "    </tr>\n",
       "    <tr>\n",
       "      <th></th>\n",
       "      <th></th>\n",
       "      <th></th>\n",
       "      <th></th>\n",
       "      <th></th>\n",
       "      <th></th>\n",
       "      <th></th>\n",
       "      <th></th>\n",
       "      <th></th>\n",
       "      <th></th>\n",
       "      <th></th>\n",
       "      <th></th>\n",
       "      <th></th>\n",
       "      <th></th>\n",
       "      <th></th>\n",
       "      <th></th>\n",
       "      <th></th>\n",
       "      <th></th>\n",
       "      <th></th>\n",
       "      <th></th>\n",
       "      <th></th>\n",
       "      <th></th>\n",
       "    </tr>\n",
       "  </thead>\n",
       "  <tbody>\n",
       "    <tr>\n",
       "      <th>0</th>\n",
       "      <td>447</td>\n",
       "      <td>1.0</td>\n",
       "      <td>0.48925</td>\n",
       "      <td>0.70679</td>\n",
       "      <td>0.5452</td>\n",
       "      <td>0.3168</td>\n",
       "      <td>0.15254</td>\n",
       "      <td>0.5406</td>\n",
       "      <td>0.14216</td>\n",
       "      <td>0.9393</td>\n",
       "      <td>...</td>\n",
       "      <td>0</td>\n",
       "      <td>0</td>\n",
       "      <td>0</td>\n",
       "      <td>N0</td>\n",
       "      <td>1.0</td>\n",
       "      <td>0.407494</td>\n",
       "      <td>True</td>\n",
       "      <td>True</td>\n",
       "      <td>2</td>\n",
       "      <td>1</td>\n",
       "    </tr>\n",
       "    <tr>\n",
       "      <th>1</th>\n",
       "      <td>447</td>\n",
       "      <td>1.0</td>\n",
       "      <td>0.48925</td>\n",
       "      <td>0.70679</td>\n",
       "      <td>0.5452</td>\n",
       "      <td>0.3168</td>\n",
       "      <td>0.15254</td>\n",
       "      <td>0.5406</td>\n",
       "      <td>0.14216</td>\n",
       "      <td>0.9393</td>\n",
       "      <td>...</td>\n",
       "      <td>0</td>\n",
       "      <td>0</td>\n",
       "      <td>1</td>\n",
       "      <td>N1</td>\n",
       "      <td>1.0</td>\n",
       "      <td>0.508966</td>\n",
       "      <td>True</td>\n",
       "      <td>True</td>\n",
       "      <td>2</td>\n",
       "      <td>1</td>\n",
       "    </tr>\n",
       "    <tr>\n",
       "      <th>2</th>\n",
       "      <td>447</td>\n",
       "      <td>1.0</td>\n",
       "      <td>0.48925</td>\n",
       "      <td>0.70679</td>\n",
       "      <td>0.5452</td>\n",
       "      <td>0.3168</td>\n",
       "      <td>0.15254</td>\n",
       "      <td>0.5406</td>\n",
       "      <td>0.14216</td>\n",
       "      <td>0.9393</td>\n",
       "      <td>...</td>\n",
       "      <td>0</td>\n",
       "      <td>1</td>\n",
       "      <td>0</td>\n",
       "      <td>N2</td>\n",
       "      <td>1.0</td>\n",
       "      <td>0.465121</td>\n",
       "      <td>True</td>\n",
       "      <td>True</td>\n",
       "      <td>2</td>\n",
       "      <td>1</td>\n",
       "    </tr>\n",
       "    <tr>\n",
       "      <th>3</th>\n",
       "      <td>447</td>\n",
       "      <td>1.0</td>\n",
       "      <td>0.48925</td>\n",
       "      <td>0.70679</td>\n",
       "      <td>0.5452</td>\n",
       "      <td>0.3168</td>\n",
       "      <td>0.15254</td>\n",
       "      <td>0.5406</td>\n",
       "      <td>0.14216</td>\n",
       "      <td>0.9393</td>\n",
       "      <td>...</td>\n",
       "      <td>0</td>\n",
       "      <td>1</td>\n",
       "      <td>1</td>\n",
       "      <td>N3</td>\n",
       "      <td>1.0</td>\n",
       "      <td>0.545173</td>\n",
       "      <td>True</td>\n",
       "      <td>True</td>\n",
       "      <td>2</td>\n",
       "      <td>1</td>\n",
       "    </tr>\n",
       "    <tr>\n",
       "      <th>4</th>\n",
       "      <td>447</td>\n",
       "      <td>1.0</td>\n",
       "      <td>0.48925</td>\n",
       "      <td>0.70679</td>\n",
       "      <td>0.5452</td>\n",
       "      <td>0.3168</td>\n",
       "      <td>0.15254</td>\n",
       "      <td>0.5406</td>\n",
       "      <td>0.14216</td>\n",
       "      <td>0.9393</td>\n",
       "      <td>...</td>\n",
       "      <td>1</td>\n",
       "      <td>0</td>\n",
       "      <td>0</td>\n",
       "      <td>N4</td>\n",
       "      <td>1.0</td>\n",
       "      <td>0.407494</td>\n",
       "      <td>True</td>\n",
       "      <td>True</td>\n",
       "      <td>2</td>\n",
       "      <td>1</td>\n",
       "    </tr>\n",
       "  </tbody>\n",
       "</table>\n",
       "<p>5 rows × 40 columns</p>\n",
       "</div>"
      ],
      "text/plain": [
       "    ID   p1       p2       p3      p4      p5       p6      p7       p8  \\\n",
       "                                                                          \n",
       "0  447  1.0  0.48925  0.70679  0.5452  0.3168  0.15254  0.5406  0.14216   \n",
       "1  447  1.0  0.48925  0.70679  0.5452  0.3168  0.15254  0.5406  0.14216   \n",
       "2  447  1.0  0.48925  0.70679  0.5452  0.3168  0.15254  0.5406  0.14216   \n",
       "3  447  1.0  0.48925  0.70679  0.5452  0.3168  0.15254  0.5406  0.14216   \n",
       "4  447  1.0  0.48925  0.70679  0.5452  0.3168  0.15254  0.5406  0.14216   \n",
       "\n",
       "       p9  ...  q14  q15  q16  label   Sp        Sq  condition A  condition B  \\\n",
       "           ...                                                                  \n",
       "0  0.9393  ...    0    0    0     N0  1.0  0.407494         True         True   \n",
       "1  0.9393  ...    0    0    1     N1  1.0  0.508966         True         True   \n",
       "2  0.9393  ...    0    1    0     N2  1.0  0.465121         True         True   \n",
       "3  0.9393  ...    0    1    1     N3  1.0  0.545173         True         True   \n",
       "4  0.9393  ...    1    0    0     N4  1.0  0.407494         True         True   \n",
       "\n",
       "   c  b  \n",
       "         \n",
       "0  2  1  \n",
       "1  2  1  \n",
       "2  2  1  \n",
       "3  2  1  \n",
       "4  2  1  \n",
       "\n",
       "[5 rows x 40 columns]"
      ]
     },
     "execution_count": 16,
     "metadata": {},
     "output_type": "execute_result"
    }
   ],
   "source": [
    "eq.head()"
   ]
  },
  {
   "cell_type": "code",
   "execution_count": null,
   "metadata": {},
   "outputs": [],
   "source": []
  },
  {
   "cell_type": "code",
   "execution_count": 19,
   "metadata": {},
   "outputs": [],
   "source": [
    "players = noneq[[f'p{i+1}' for i in range(16)]].drop_duplicates()"
   ]
  },
  {
   "cell_type": "code",
   "execution_count": 20,
   "metadata": {},
   "outputs": [],
   "source": [
    "# players = local[[f'p{i+1}' for i in range(16)]].drop_duplicates()"
   ]
  },
  {
   "cell_type": "code",
   "execution_count": 21,
   "metadata": {},
   "outputs": [],
   "source": [
    "players = players.reset_index(drop=True)"
   ]
  },
  {
   "cell_type": "code",
   "execution_count": 22,
   "metadata": {},
   "outputs": [],
   "source": [
    "for i, row in players.iterrows():\n",
    "    if all(conditions(row.values, 2, 1).values()):\n",
    "        print(i)"
   ]
  },
  {
   "cell_type": "code",
   "execution_count": 23,
   "metadata": {},
   "outputs": [],
   "source": [
    "players = eq[[f'p{i+1}' for i in range(16)]].drop_duplicates()\n",
    "players = players.reset_index(drop=True)"
   ]
  },
  {
   "cell_type": "code",
   "execution_count": 24,
   "metadata": {},
   "outputs": [
    {
     "data": {
      "text/plain": [
       "{'c1': False,\n",
       " 'c2': False,\n",
       " 'c3': False,\n",
       " 'c4': True,\n",
       " 'c5': True,\n",
       " 'c6': True,\n",
       " 'c7': True,\n",
       " 'c8': True,\n",
       " 'c9': True,\n",
       " 'c12': True,\n",
       " 'c10': True,\n",
       " 'c11': True,\n",
       " 'c13': True,\n",
       " 'c14': True}"
      ]
     },
     "execution_count": 24,
     "metadata": {},
     "output_type": "execute_result"
    }
   ],
   "source": [
    "conditions(players.iloc[0].values, 2, 1)"
   ]
  },
  {
   "cell_type": "code",
   "execution_count": 160,
   "metadata": {},
   "outputs": [
    {
     "data": {
      "text/plain": [
       "p1     1.00000\n",
       "p2     0.48925\n",
       "p3     0.70679\n",
       "p4     0.54520\n",
       "p5     0.31680\n",
       "p6     0.15254\n",
       "p7     0.54060\n",
       "p8     0.14216\n",
       "p9     0.93930\n",
       "p10    0.53989\n",
       "p11    0.17492\n",
       "p12    0.72064\n",
       "p13    0.10355\n",
       "p14    0.77164\n",
       "p15    0.45729\n",
       "p16    0.13266\n",
       "Name: 0, dtype: float64"
      ]
     },
     "execution_count": 160,
     "metadata": {},
     "output_type": "execute_result"
    }
   ],
   "source": [
    "players.iloc[0]"
   ]
  },
  {
   "cell_type": "code",
   "execution_count": null,
   "metadata": {},
   "outputs": [],
   "source": []
  }
 ],
 "metadata": {
  "kernelspec": {
   "display_name": "Python 3",
   "language": "python",
   "name": "python3"
  },
  "language_info": {
   "codemirror_mode": {
    "name": "ipython",
    "version": 3
   },
   "file_extension": ".py",
   "mimetype": "text/x-python",
   "name": "python",
   "nbconvert_exporter": "python",
   "pygments_lexer": "ipython3",
   "version": "3.8.3"
  }
 },
 "nbformat": 4,
 "nbformat_minor": 4
}
