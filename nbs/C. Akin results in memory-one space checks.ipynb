{
 "cells": [
  {
   "cell_type": "code",
   "execution_count": 1,
   "metadata": {},
   "outputs": [],
   "source": [
    "import numpy as np"
   ]
  },
  {
   "cell_type": "code",
   "execution_count": 2,
   "metadata": {},
   "outputs": [],
   "source": [
    "from importlib.machinery import SourceFileLoader\n",
    "\n",
    "main = SourceFileLoader(\"main\", \"../src/main.py\").load_module()\n",
    "\n",
    "from main import *"
   ]
  },
  {
   "cell_type": "code",
   "execution_count": 3,
   "metadata": {},
   "outputs": [],
   "source": [
    "import itertools"
   ]
  },
  {
   "cell_type": "code",
   "execution_count": 4,
   "metadata": {},
   "outputs": [],
   "source": [
    "def match_payoff(player, coplayer, Sx, index=0):\n",
    "    M = calculate_M(player, coplayer)\n",
    "    ss = invariant_distributions(M)[index]\n",
    "\n",
    "    return ss @ Sx\n"
   ]
  },
  {
   "cell_type": "code",
   "execution_count": 56,
   "metadata": {},
   "outputs": [],
   "source": [
    "def invariant_distributions(M):\n",
    "    \"\"\"Returns all the invariant distributions in case of absorbing states.\"\"\"\n",
    "    \n",
    "    stationaries = []\n",
    "\n",
    "    eigenvalues, eigenvectors = np.linalg.eig(M.T)\n",
    "\n",
    "    for index in np.where(np.isclose(eigenvalues, 1))[0]:\n",
    "\n",
    "        eigenvectors_one = eigenvectors[:, index]\n",
    "\n",
    "        stationary = eigenvectors_one / eigenvectors_one.sum()\n",
    "\n",
    "\n",
    "        stationaries.append(stationary.real)\n",
    "        \n",
    "    return stationaries"
   ]
  },
  {
   "cell_type": "markdown",
   "metadata": {},
   "source": [
    "## Good Nash Memory-one Pure"
   ]
  },
  {
   "cell_type": "code",
   "execution_count": 57,
   "metadata": {},
   "outputs": [],
   "source": [
    "set_of_memory_one_s = list(itertools.product([0, 1], repeat=4))"
   ]
  },
  {
   "cell_type": "code",
   "execution_count": 58,
   "metadata": {},
   "outputs": [],
   "source": [
    "good_of_memory_one_s = [s for s in set_of_memory_one_s if s[0] == 1]"
   ]
  },
  {
   "cell_type": "code",
   "execution_count": 59,
   "metadata": {},
   "outputs": [
    {
     "data": {
      "text/plain": [
       "[(1, 0, 0, 0),\n",
       " (1, 0, 0, 1),\n",
       " (1, 0, 1, 0),\n",
       " (1, 0, 1, 1),\n",
       " (1, 1, 0, 0),\n",
       " (1, 1, 0, 1),\n",
       " (1, 1, 1, 0),\n",
       " (1, 1, 1, 1)]"
      ]
     },
     "execution_count": 59,
     "metadata": {},
     "output_type": "execute_result"
    }
   ],
   "source": [
    "good_of_memory_one_s"
   ]
  },
  {
   "cell_type": "code",
   "execution_count": 60,
   "metadata": {},
   "outputs": [],
   "source": [
    "Sx = np.array([2, -1, 3, 0])"
   ]
  },
  {
   "cell_type": "code",
   "execution_count": 61,
   "metadata": {},
   "outputs": [],
   "source": [
    "b, c = 3, 1"
   ]
  },
  {
   "cell_type": "code",
   "execution_count": 62,
   "metadata": {},
   "outputs": [],
   "source": [
    "no_nash = []\n",
    "\n",
    "for strategy in good_of_memory_one_s:\n",
    "\n",
    "\n",
    "    sx = match_payoff(strategy, strategy, Sx)\n",
    "\n",
    "    for coplayer in set_of_memory_one_s:\n",
    "\n",
    "        sy = match_payoff(coplayer, strategy, Sx)\n",
    "\n",
    "        A = np.isclose(sx, sy, atol=10 ** -4) or sx > sy\n",
    "        B = np.isclose(sy, b - c, atol=10 ** -4) or sy < b - c\n",
    "\n",
    "        if A == False:\n",
    "\n",
    "            no_nash.append(strategy)\n",
    "            break"
   ]
  },
  {
   "cell_type": "code",
   "execution_count": 63,
   "metadata": {},
   "outputs": [
    {
     "data": {
      "text/plain": [
       "6"
      ]
     },
     "execution_count": 63,
     "metadata": {},
     "output_type": "execute_result"
    }
   ],
   "source": [
    "len(no_nash)"
   ]
  },
  {
   "cell_type": "code",
   "execution_count": 64,
   "metadata": {},
   "outputs": [
    {
     "data": {
      "text/plain": [
       "8"
      ]
     },
     "execution_count": 64,
     "metadata": {},
     "output_type": "execute_result"
    }
   ],
   "source": [
    "len(good_of_memory_one_s)"
   ]
  },
  {
   "cell_type": "code",
   "execution_count": 65,
   "metadata": {},
   "outputs": [
    {
     "data": {
      "text/plain": [
       "{(1, 0, 0, 0), (1, 0, 0, 1)}"
      ]
     },
     "execution_count": 65,
     "metadata": {},
     "output_type": "execute_result"
    }
   ],
   "source": [
    "set(good_of_memory_one_s).difference(set(no_nash))"
   ]
  },
  {
   "cell_type": "code",
   "execution_count": 66,
   "metadata": {},
   "outputs": [],
   "source": [
    "def conditions(p_2, p_3, p_4, R, S, T, P):\n",
    "    return (((T - R) / (R - S)) * p_3 < (1 - p_2)) and (((T - R) / (R - P)) * p_4 < (1 - p_2))"
   ]
  },
  {
   "cell_type": "code",
   "execution_count": 67,
   "metadata": {},
   "outputs": [
    {
     "data": {
      "text/plain": [
       "True"
      ]
     },
     "execution_count": 67,
     "metadata": {},
     "output_type": "execute_result"
    }
   ],
   "source": [
    "conditions(0, 0, 0, 2, -1, 3, 0)"
   ]
  },
  {
   "cell_type": "code",
   "execution_count": 68,
   "metadata": {},
   "outputs": [
    {
     "data": {
      "text/plain": [
       "True"
      ]
     },
     "execution_count": 68,
     "metadata": {},
     "output_type": "execute_result"
    }
   ],
   "source": [
    "conditions(0, 0, 1, 2, -1, 3, 0)"
   ]
  },
  {
   "cell_type": "code",
   "execution_count": 69,
   "metadata": {},
   "outputs": [],
   "source": [
    "no_nash_condition = []\n",
    "\n",
    "for strategy in good_of_memory_one_s:\n",
    "\n",
    "    check = conditions(strategy[1], strategy[2], strategy[3], 2, -1, 3, 0)\n",
    "    \n",
    "    if check == False:\n",
    "        no_nash_condition.append(strategy)"
   ]
  },
  {
   "cell_type": "code",
   "execution_count": 70,
   "metadata": {},
   "outputs": [
    {
     "data": {
      "text/plain": [
       "4"
      ]
     },
     "execution_count": 70,
     "metadata": {},
     "output_type": "execute_result"
    }
   ],
   "source": [
    "len(no_nash_condition)"
   ]
  },
  {
   "cell_type": "code",
   "execution_count": 71,
   "metadata": {},
   "outputs": [
    {
     "data": {
      "text/plain": [
       "[(1, 1, 0, 0), (1, 1, 0, 1), (1, 1, 1, 0), (1, 1, 1, 1)]"
      ]
     },
     "execution_count": 71,
     "metadata": {},
     "output_type": "execute_result"
    }
   ],
   "source": [
    "no_nash_condition"
   ]
  },
  {
   "cell_type": "code",
   "execution_count": 72,
   "metadata": {},
   "outputs": [
    {
     "data": {
      "text/plain": [
       "[(1, 0, 1, 0),\n",
       " (1, 0, 1, 1),\n",
       " (1, 1, 0, 0),\n",
       " (1, 1, 0, 1),\n",
       " (1, 1, 1, 0),\n",
       " (1, 1, 1, 1)]"
      ]
     },
     "execution_count": 72,
     "metadata": {},
     "output_type": "execute_result"
    }
   ],
   "source": [
    "no_nash"
   ]
  },
  {
   "cell_type": "code",
   "execution_count": 77,
   "metadata": {},
   "outputs": [
    {
     "data": {
      "text/plain": [
       "{(1, 0, 1, 0), (1, 0, 1, 1)}"
      ]
     },
     "execution_count": 77,
     "metadata": {},
     "output_type": "execute_result"
    }
   ],
   "source": [
    "set(no_nash).difference(set(no_nash_condition))"
   ]
  },
  {
   "cell_type": "code",
   "execution_count": 73,
   "metadata": {},
   "outputs": [
    {
     "data": {
      "text/plain": [
       "True"
      ]
     },
     "execution_count": 73,
     "metadata": {},
     "output_type": "execute_result"
    }
   ],
   "source": [
    "conditions(0, 1, 0, 2, -1, 3, 0)"
   ]
  },
  {
   "cell_type": "code",
   "execution_count": 74,
   "metadata": {},
   "outputs": [
    {
     "data": {
      "text/plain": [
       "True"
      ]
     },
     "execution_count": 74,
     "metadata": {},
     "output_type": "execute_result"
    }
   ],
   "source": [
    "conditions(0, 1, 1, 2, -1, 3, 0)"
   ]
  },
  {
   "cell_type": "code",
   "execution_count": 76,
   "metadata": {},
   "outputs": [],
   "source": [
    "# it is Nash\n",
    "\n",
    "strategy = (1, 0, 1, 0)\n",
    "\n",
    "sx = match_payoff(strategy, strategy, Sx)\n",
    "\n",
    "for coplayer in set_of_memory_one_s:\n",
    "    \n",
    "    if coplayer == (0, 1, 1, 1):\n",
    "        index = 1\n",
    "    else:\n",
    "        index = 0\n",
    "    sy = match_payoff(coplayer, strategy, Sx, index=index)\n",
    "\n",
    "    A = np.isclose(sx, sy, atol=10 ** -4) or sx > sy\n",
    "    B = np.isclose(sy, b - c, atol=10 ** -4) or sy < b - c\n",
    "\n",
    "    if A == False:\n",
    "\n",
    "        break"
   ]
  },
  {
   "cell_type": "code",
   "execution_count": 79,
   "metadata": {},
   "outputs": [],
   "source": [
    "# it is Nash\n",
    "\n",
    "strategy = (1, 0, 1, 1)\n",
    "\n",
    "sx = match_payoff(strategy, strategy, Sx)\n",
    "\n",
    "for coplayer in set_of_memory_one_s:\n",
    "    \n",
    "    if coplayer == (0, 1, 1, 1):\n",
    "        index = 1\n",
    "    else:\n",
    "        index = 0\n",
    "    sy = match_payoff(coplayer, strategy, Sx, index=index)\n",
    "\n",
    "    A = np.isclose(sx, sy, atol=10 ** -4) or sx > sy\n",
    "    B = np.isclose(sy, b - c, atol=10 ** -4) or sy < b - c\n",
    "\n",
    "    if A == False:\n",
    "\n",
    "        break"
   ]
  },
  {
   "cell_type": "code",
   "execution_count": 81,
   "metadata": {},
   "outputs": [],
   "source": [
    "def invariant_distribution(M):\n",
    "    stationaries = []\n",
    "\n",
    "    eigenvalues, eigenvectors = np.linalg.eig(M.T)\n",
    "\n",
    "    for index in np.where(np.isclose(eigenvalues, 1))[0]:\n",
    "\n",
    "        eigenvectors_one = eigenvectors[:, index]\n",
    "\n",
    "        stationary = eigenvectors_one / eigenvectors_one.sum()\n",
    "\n",
    "\n",
    "        stationaries.append(stationary.real)\n",
    "\n",
    "    return stationaries[np.argmax([min(s) for s in stationaries])]"
   ]
  },
  {
   "cell_type": "code",
   "execution_count": null,
   "metadata": {},
   "outputs": [],
   "source": [
    "def match_payoff(player, coplayer, Sx, index=0):\n",
    "    M = calculate_M(player, coplayer)\n",
    "    ss = invariant_distribution(M)[index]\n",
    "\n",
    "    return ss @ Sx\n",
    "\n"
   ]
  },
  {
   "cell_type": "code",
   "execution_count": 80,
   "metadata": {},
   "outputs": [],
   "source": [
    "player = [1, 0.19705, 1, 0.19705, 0.45986, 0.04461, 0.45986, 0.04461, 1, 0.19705, 1, 0.19705, 0.45986, 0.04461, 0.45986, 0.04461]"
   ]
  },
  {
   "cell_type": "code",
   "execution_count": null,
   "metadata": {},
   "outputs": [],
   "source": []
  }
 ],
 "metadata": {
  "kernelspec": {
   "display_name": "Python 3",
   "language": "python",
   "name": "python3"
  },
  "language_info": {
   "codemirror_mode": {
    "name": "ipython",
    "version": 3
   },
   "file_extension": ".py",
   "mimetype": "text/x-python",
   "name": "python",
   "nbconvert_exporter": "python",
   "pygments_lexer": "ipython3",
   "version": "3.8.3"
  }
 },
 "nbformat": 4,
 "nbformat_minor": 4
}
